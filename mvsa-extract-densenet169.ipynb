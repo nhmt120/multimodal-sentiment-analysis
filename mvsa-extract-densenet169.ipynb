{
 "cells": [
  {
   "cell_type": "code",
   "execution_count": 1,
   "id": "abaa1db4",
   "metadata": {
    "_cell_guid": "b1076dfc-b9ad-4769-8c92-a6c4dae69d19",
    "_uuid": "8f2839f25d086af736a60e9eeb907d3b93b6e0e5",
    "execution": {
     "iopub.execute_input": "2022-06-29T17:41:03.142930Z",
     "iopub.status.busy": "2022-06-29T17:41:03.142012Z",
     "iopub.status.idle": "2022-06-29T17:41:19.081462Z",
     "shell.execute_reply": "2022-06-29T17:41:19.079969Z"
    },
    "papermill": {
     "duration": 15.951887,
     "end_time": "2022-06-29T17:41:19.084622",
     "exception": false,
     "start_time": "2022-06-29T17:41:03.132735",
     "status": "completed"
    },
    "tags": []
   },
   "outputs": [],
   "source": [
    "import os\n",
    "import re\n",
    "import gc\n",
    "import cv2\n",
    "import h5py\n",
    "import torch\n",
    "import string\n",
    "import random\n",
    "import numpy as np\n",
    "import tensorflow as tf\n",
    "\n",
    "from tqdm import tqdm\n",
    "from nltk import tokenize\n",
    "from sklearn import preprocessing\n",
    "\n",
    "from keras.preprocessing.text import Tokenizer, text_to_word_sequence\n",
    "from keras.preprocessing.sequence import pad_sequences\n",
    "from keras.utils.np_utils import to_categorical\n",
    "from keras.layers import Rescaling, Resizing\n",
    "from keras import Input\n",
    "from keras.applications.vgg16 import VGG16\n",
    "from keras.applications.vgg19 import VGG19\n",
    "from keras.applications.xception import Xception\n",
    "from tensorflow.keras.applications import ResNet50, ResNet101, ResNet152\n",
    "from tensorflow.keras.applications import DenseNet121, DenseNet169, DenseNet201\n",
    "from transformers import BertTokenizer, BertForMaskedLM, BertModel\n",
    "from tensorflow.keras import Model"
   ]
  },
  {
   "cell_type": "code",
   "execution_count": 2,
   "id": "cc052c9f",
   "metadata": {
    "execution": {
     "iopub.execute_input": "2022-06-29T17:41:19.096709Z",
     "iopub.status.busy": "2022-06-29T17:41:19.095276Z",
     "iopub.status.idle": "2022-06-29T17:41:19.101712Z",
     "shell.execute_reply": "2022-06-29T17:41:19.100319Z"
    },
    "papermill": {
     "duration": 0.01487,
     "end_time": "2022-06-29T17:41:19.104085",
     "exception": false,
     "start_time": "2022-06-29T17:41:19.089215",
     "status": "completed"
    },
    "tags": []
   },
   "outputs": [],
   "source": [
    "IMAGE_SIZE = (224, 224)\n",
    "NUM_CHANNELS = 3"
   ]
  },
  {
   "cell_type": "code",
   "execution_count": 3,
   "id": "8355034f",
   "metadata": {
    "execution": {
     "iopub.execute_input": "2022-06-29T17:41:19.114471Z",
     "iopub.status.busy": "2022-06-29T17:41:19.114011Z",
     "iopub.status.idle": "2022-06-29T17:41:19.120128Z",
     "shell.execute_reply": "2022-06-29T17:41:19.118815Z"
    },
    "papermill": {
     "duration": 0.014454,
     "end_time": "2022-06-29T17:41:19.122721",
     "exception": false,
     "start_time": "2022-06-29T17:41:19.108267",
     "status": "completed"
    },
    "tags": []
   },
   "outputs": [],
   "source": [
    "mvsa_single_path = '../input/mvsa-data/mvsa-single-4316.hdf5'\n",
    "mvsa_multiple_path = '../input/mvsa-data/mvsa-multiple-16387.hdf5'"
   ]
  },
  {
   "cell_type": "code",
   "execution_count": 4,
   "id": "faa0756a",
   "metadata": {
    "execution": {
     "iopub.execute_input": "2022-06-29T17:41:19.133777Z",
     "iopub.status.busy": "2022-06-29T17:41:19.132909Z",
     "iopub.status.idle": "2022-06-29T17:41:19.140585Z",
     "shell.execute_reply": "2022-06-29T17:41:19.139616Z"
    },
    "papermill": {
     "duration": 0.016188,
     "end_time": "2022-06-29T17:41:19.143036",
     "exception": false,
     "start_time": "2022-06-29T17:41:19.126848",
     "status": "completed"
    },
    "tags": []
   },
   "outputs": [],
   "source": [
    "def read_hdf5(path):\n",
    "    read_file = h5py.File(path, 'r')\n",
    "    \n",
    "    feature_names = list(read_file.keys())\n",
    "    loaded_data = []\n",
    "    \n",
    "    for name in feature_names:\n",
    "        dataset = read_file[name][:]\n",
    "        if dataset.dtype == np.dtype('object'):\n",
    "            dataset = np.array([x.decode('UTF-8') for x in dataset])            \n",
    "        loaded_data.append((name, dataset))\n",
    "\n",
    "    return loaded_data"
   ]
  },
  {
   "cell_type": "code",
   "execution_count": 5,
   "id": "67d5760f",
   "metadata": {
    "execution": {
     "iopub.execute_input": "2022-06-29T17:41:19.154136Z",
     "iopub.status.busy": "2022-06-29T17:41:19.153667Z",
     "iopub.status.idle": "2022-06-29T17:41:19.163822Z",
     "shell.execute_reply": "2022-06-29T17:41:19.162793Z"
    },
    "papermill": {
     "duration": 0.018867,
     "end_time": "2022-06-29T17:41:19.166112",
     "exception": false,
     "start_time": "2022-06-29T17:41:19.147245",
     "status": "completed"
    },
    "tags": []
   },
   "outputs": [],
   "source": [
    "def load_mvsa_data(path, multiple=False):\n",
    "    data = read_hdf5(path)\n",
    "    for x in data:\n",
    "        if x[0] == 'texts':\n",
    "            texts = x[1]\n",
    "        if x[0] == 'images':\n",
    "            images = x[1]\n",
    "        if x[0] == 'multimodal-labels':\n",
    "            labels = x[1]\n",
    "        if x[0] == 'text-labels':\n",
    "            text_labels = x[1]\n",
    "        if x[0] == 'image-labels':\n",
    "            image_labels = x[1]\n",
    "            \n",
    "#     if multiple == True:\n",
    "    images_path = os.path.join(os.path.split(path)[0], os.path.split(path)[1].split('.')[0] + '-images.npz')\n",
    "#         npzfile = np.load(images_path)\n",
    "#         images = npzfile['arr_0']\n",
    "    images = loadz(images_path)\n",
    "        \n",
    "    return texts, images, labels, text_labels, image_labels\n",
    "\n",
    "def loadz(path):\n",
    "    data = np.load(path)['arr_0']\n",
    "    return data"
   ]
  },
  {
   "cell_type": "markdown",
   "id": "2eea9695",
   "metadata": {
    "papermill": {
     "duration": 0.004328,
     "end_time": "2022-06-29T17:41:19.175192",
     "exception": false,
     "start_time": "2022-06-29T17:41:19.170864",
     "status": "completed"
    },
    "tags": []
   },
   "source": [
    "# Load raw data"
   ]
  },
  {
   "cell_type": "code",
   "execution_count": 6,
   "id": "42e53a0c",
   "metadata": {
    "execution": {
     "iopub.execute_input": "2022-06-29T17:41:19.186692Z",
     "iopub.status.busy": "2022-06-29T17:41:19.185959Z",
     "iopub.status.idle": "2022-06-29T17:41:52.870344Z",
     "shell.execute_reply": "2022-06-29T17:41:52.867766Z"
    },
    "papermill": {
     "duration": 33.69668,
     "end_time": "2022-06-29T17:41:52.876324",
     "exception": false,
     "start_time": "2022-06-29T17:41:19.179644",
     "status": "completed"
    },
    "tags": []
   },
   "outputs": [],
   "source": [
    "mvsa_single_texts, mvsa_single_images, \\\n",
    "mvsa_single_multimodal_labels, mvsa_single_text_labels, \\\n",
    "mvsa_single_image_labels = load_mvsa_data(mvsa_single_path)\n",
    "num_mvsa_single = len(mvsa_single_texts)\n",
    "\n",
    "mvsa_multiple_texts, mvsa_multiple_images, \\\n",
    "mvsa_multiple_multimodal_labels, mvsa_multiple_text_labels, \\\n",
    "mvsa_multiple_image_labels = load_mvsa_data(mvsa_multiple_path, multiple=True)\n",
    "num_mvsa_multiple = len(mvsa_multiple_texts)"
   ]
  },
  {
   "cell_type": "markdown",
   "id": "64d9181a",
   "metadata": {
    "papermill": {
     "duration": 0.004984,
     "end_time": "2022-06-29T17:41:52.888772",
     "exception": false,
     "start_time": "2022-06-29T17:41:52.883788",
     "status": "completed"
    },
    "tags": []
   },
   "source": [
    "# DenseNet169"
   ]
  },
  {
   "cell_type": "code",
   "execution_count": 7,
   "id": "ea475f2b",
   "metadata": {
    "execution": {
     "iopub.execute_input": "2022-06-29T17:41:52.901106Z",
     "iopub.status.busy": "2022-06-29T17:41:52.900580Z",
     "iopub.status.idle": "2022-06-29T17:41:59.415737Z",
     "shell.execute_reply": "2022-06-29T17:41:59.414520Z"
    },
    "papermill": {
     "duration": 6.524899,
     "end_time": "2022-06-29T17:41:59.418454",
     "exception": false,
     "start_time": "2022-06-29T17:41:52.893555",
     "status": "completed"
    },
    "tags": []
   },
   "outputs": [
    {
     "name": "stderr",
     "output_type": "stream",
     "text": [
      "2022-06-29 17:41:53.026067: I tensorflow/core/common_runtime/process_util.cc:146] Creating new thread pool with default inter op setting: 2. Tune using inter_op_parallelism_threads for best performance.\n"
     ]
    },
    {
     "name": "stdout",
     "output_type": "stream",
     "text": [
      "Downloading data from https://storage.googleapis.com/tensorflow/keras-applications/densenet/densenet169_weights_tf_dim_ordering_tf_kernels.h5\n",
      "58548224/58541896 [==============================] - 1s 0us/step\n",
      "58556416/58541896 [==============================] - 1s 0us/step\n"
     ]
    }
   ],
   "source": [
    "densenet169 = DenseNet169(input_shape=(IMAGE_SIZE[0], IMAGE_SIZE[1], NUM_CHANNELS))\n",
    "densenet169.trainable = False # Freeze pre-trained layers\n",
    "densenet169_last = Model(inputs=densenet169.input, outputs=densenet169.layers[-2].output)"
   ]
  },
  {
   "cell_type": "code",
   "execution_count": 8,
   "id": "69e9a68b",
   "metadata": {
    "execution": {
     "iopub.execute_input": "2022-06-29T17:41:59.432755Z",
     "iopub.status.busy": "2022-06-29T17:41:59.431391Z",
     "iopub.status.idle": "2022-06-29T17:42:00.789914Z",
     "shell.execute_reply": "2022-06-29T17:42:00.788794Z"
    },
    "papermill": {
     "duration": 1.369068,
     "end_time": "2022-06-29T17:42:00.793320",
     "exception": false,
     "start_time": "2022-06-29T17:41:59.424252",
     "status": "completed"
    },
    "tags": []
   },
   "outputs": [],
   "source": [
    "# Summary of DenseNet121 is hidden\n",
    "image_inputs = Input(shape=(IMAGE_SIZE[0], IMAGE_SIZE[1], NUM_CHANNELS))\n",
    "rescale_layer = Rescaling(scale=1./255.) (image_inputs)  # Rescale inputs\n",
    "outputs = densenet169_last (rescale_layer)\n",
    "model_densenet169 = Model(inputs=image_inputs, outputs=outputs)"
   ]
  },
  {
   "cell_type": "code",
   "execution_count": 9,
   "id": "730d5f55",
   "metadata": {
    "execution": {
     "iopub.execute_input": "2022-06-29T17:42:00.806321Z",
     "iopub.status.busy": "2022-06-29T17:42:00.805836Z",
     "iopub.status.idle": "2022-06-29T17:47:01.508812Z",
     "shell.execute_reply": "2022-06-29T17:47:01.507396Z"
    },
    "papermill": {
     "duration": 300.71285,
     "end_time": "2022-06-29T17:47:01.511710",
     "exception": false,
     "start_time": "2022-06-29T17:42:00.798860",
     "status": "completed"
    },
    "tags": []
   },
   "outputs": [
    {
     "name": "stdout",
     "output_type": "stream",
     "text": [
      "MVSA-Single: Extracting DenseNet169 features of images\n"
     ]
    },
    {
     "name": "stderr",
     "output_type": "stream",
     "text": [
      "2022-06-29 17:42:02.211782: I tensorflow/compiler/mlir/mlir_graph_optimization_pass.cc:185] None of the MLIR Optimization Passes are enabled (registered 2)\n"
     ]
    },
    {
     "name": "stdout",
     "output_type": "stream",
     "text": [
      "135/135 [==============================] - 299s 2s/step\n",
      "DenseNet169 last hidden layer dimension: 1664\n",
      "MVSA-Single with DenseNet169 last hidden layer: (4316, 1664)\n",
      "True\n"
     ]
    }
   ],
   "source": [
    "print('MVSA-Single: Extracting DenseNet169 features of images')\n",
    "mvsa_single_densenet169 = model_densenet169.predict(mvsa_single_images, verbose=1)\n",
    "print('DenseNet169 last hidden layer dimension:', mvsa_single_densenet169.shape[1])\n",
    "print('MVSA-Single with DenseNet169 last hidden layer:', mvsa_single_densenet169.shape)\n",
    "\n",
    "# save and load check\n",
    "np.savez('./mvsa-single-densenet169', mvsa_single_densenet169)\n",
    "x = loadz('./mvsa-single-densenet169.npz')\n",
    "print((x == mvsa_single_densenet169).all())"
   ]
  },
  {
   "cell_type": "code",
   "execution_count": 10,
   "id": "014c738c",
   "metadata": {
    "execution": {
     "iopub.execute_input": "2022-06-29T17:47:01.544709Z",
     "iopub.status.busy": "2022-06-29T17:47:01.544245Z",
     "iopub.status.idle": "2022-06-29T18:05:54.896447Z",
     "shell.execute_reply": "2022-06-29T18:05:54.894661Z"
    },
    "papermill": {
     "duration": 1133.372578,
     "end_time": "2022-06-29T18:05:54.899718",
     "exception": false,
     "start_time": "2022-06-29T17:47:01.527140",
     "status": "completed"
    },
    "tags": []
   },
   "outputs": [
    {
     "name": "stdout",
     "output_type": "stream",
     "text": [
      "MVSA-Multiple: Extracting DenseNet169 features of images\n",
      "513/513 [==============================] - 1129s 2s/step\n",
      "DenseNet169 last hidden layer dimension: 1664\n",
      "MVSA-Multiple with DenseNet169 last hidden layer: (16387, 1664)\n",
      "True\n"
     ]
    }
   ],
   "source": [
    "print('MVSA-Multiple: Extracting DenseNet169 features of images')\n",
    "mvsa_multiple_densenet169 = model_densenet169.predict(mvsa_multiple_images, verbose=1)\n",
    "print('DenseNet169 last hidden layer dimension:', mvsa_multiple_densenet169.shape[1])\n",
    "print('MVSA-Multiple with DenseNet169 last hidden layer:', mvsa_multiple_densenet169.shape)\n",
    "\n",
    "# save and load check\n",
    "np.savez('./mvsa-multiple-densenet169', mvsa_multiple_densenet169)\n",
    "x = loadz('./mvsa-multiple-densenet169.npz')\n",
    "print((x == mvsa_multiple_densenet169).all())"
   ]
  }
 ],
 "metadata": {
  "kernelspec": {
   "display_name": "Python 3",
   "language": "python",
   "name": "python3"
  },
  "language_info": {
   "codemirror_mode": {
    "name": "ipython",
    "version": 3
   },
   "file_extension": ".py",
   "mimetype": "text/x-python",
   "name": "python",
   "nbconvert_exporter": "python",
   "pygments_lexer": "ipython3",
   "version": "3.7.12"
  },
  "papermill": {
   "default_parameters": {},
   "duration": 1506.788936,
   "end_time": "2022-06-29T18:05:58.537396",
   "environment_variables": {},
   "exception": null,
   "input_path": "__notebook__.ipynb",
   "output_path": "__notebook__.ipynb",
   "parameters": {},
   "start_time": "2022-06-29T17:40:51.748460",
   "version": "2.3.4"
  }
 },
 "nbformat": 4,
 "nbformat_minor": 5
}
