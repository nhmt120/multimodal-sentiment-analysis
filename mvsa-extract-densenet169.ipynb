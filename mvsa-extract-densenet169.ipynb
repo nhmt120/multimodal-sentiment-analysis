{
 "cells": [
  {
   "cell_type": "code",
   "execution_count": 1,
   "id": "f15cd7da",
   "metadata": {
    "_cell_guid": "b1076dfc-b9ad-4769-8c92-a6c4dae69d19",
    "_uuid": "8f2839f25d086af736a60e9eeb907d3b93b6e0e5",
    "execution": {
     "iopub.execute_input": "2022-07-03T18:38:27.893935Z",
     "iopub.status.busy": "2022-07-03T18:38:27.893242Z",
     "iopub.status.idle": "2022-07-03T18:38:43.546347Z",
     "shell.execute_reply": "2022-07-03T18:38:43.544766Z"
    },
    "papermill": {
     "duration": 15.664733,
     "end_time": "2022-07-03T18:38:43.549664",
     "exception": false,
     "start_time": "2022-07-03T18:38:27.884931",
     "status": "completed"
    },
    "tags": []
   },
   "outputs": [],
   "source": [
    "import os\n",
    "import re\n",
    "import gc\n",
    "import cv2\n",
    "import h5py\n",
    "import torch\n",
    "import string\n",
    "import random\n",
    "import numpy as np\n",
    "import tensorflow as tf\n",
    "\n",
    "from tqdm import tqdm\n",
    "from nltk import tokenize\n",
    "from sklearn import preprocessing\n",
    "\n",
    "from keras.preprocessing.text import Tokenizer, text_to_word_sequence\n",
    "from keras.preprocessing.sequence import pad_sequences\n",
    "from keras.utils.np_utils import to_categorical\n",
    "from keras.layers import Rescaling, Resizing\n",
    "from keras import Input\n",
    "from keras.applications.vgg16 import VGG16\n",
    "from keras.applications.vgg19 import VGG19\n",
    "from keras.applications.xception import Xception\n",
    "from tensorflow.keras.applications import ResNet50, ResNet101, ResNet152\n",
    "from tensorflow.keras.applications import DenseNet121, DenseNet169, DenseNet201\n",
    "from transformers import BertTokenizer, BertForMaskedLM, BertModel\n",
    "from tensorflow.keras import Model"
   ]
  },
  {
   "cell_type": "code",
   "execution_count": 2,
   "id": "58ee7dd5",
   "metadata": {
    "execution": {
     "iopub.execute_input": "2022-07-03T18:38:43.561092Z",
     "iopub.status.busy": "2022-07-03T18:38:43.560284Z",
     "iopub.status.idle": "2022-07-03T18:38:43.567961Z",
     "shell.execute_reply": "2022-07-03T18:38:43.566432Z"
    },
    "papermill": {
     "duration": 0.016473,
     "end_time": "2022-07-03T18:38:43.570738",
     "exception": false,
     "start_time": "2022-07-03T18:38:43.554265",
     "status": "completed"
    },
    "tags": []
   },
   "outputs": [],
   "source": [
    "IMAGE_SIZE = (224, 224)\n",
    "NUM_CHANNELS = 3"
   ]
  },
  {
   "cell_type": "code",
   "execution_count": 3,
   "id": "9f47935d",
   "metadata": {
    "execution": {
     "iopub.execute_input": "2022-07-03T18:38:43.581010Z",
     "iopub.status.busy": "2022-07-03T18:38:43.580541Z",
     "iopub.status.idle": "2022-07-03T18:38:43.585923Z",
     "shell.execute_reply": "2022-07-03T18:38:43.584648Z"
    },
    "papermill": {
     "duration": 0.01385,
     "end_time": "2022-07-03T18:38:43.588730",
     "exception": false,
     "start_time": "2022-07-03T18:38:43.574880",
     "status": "completed"
    },
    "tags": []
   },
   "outputs": [],
   "source": [
    "mvsa_single_path = '../input/mvsa-data/mvsa-single-4511.hdf5'\n",
    "mvsa_multiple_path = '../input/mvsa-data/mvsa-multiple-17024.hdf5'"
   ]
  },
  {
   "cell_type": "code",
   "execution_count": 4,
   "id": "e1a590df",
   "metadata": {
    "execution": {
     "iopub.execute_input": "2022-07-03T18:38:43.600138Z",
     "iopub.status.busy": "2022-07-03T18:38:43.599752Z",
     "iopub.status.idle": "2022-07-03T18:38:43.607511Z",
     "shell.execute_reply": "2022-07-03T18:38:43.606080Z"
    },
    "papermill": {
     "duration": 0.016405,
     "end_time": "2022-07-03T18:38:43.609916",
     "exception": false,
     "start_time": "2022-07-03T18:38:43.593511",
     "status": "completed"
    },
    "tags": []
   },
   "outputs": [],
   "source": [
    "def read_hdf5(path):\n",
    "    read_file = h5py.File(path, 'r')\n",
    "    \n",
    "    feature_names = list(read_file.keys())\n",
    "    loaded_data = []\n",
    "    \n",
    "    for name in feature_names:\n",
    "        dataset = read_file[name][:]\n",
    "        if dataset.dtype == np.dtype('object'):\n",
    "            dataset = np.array([x.decode('UTF-8') for x in dataset])            \n",
    "        loaded_data.append((name, dataset))\n",
    "\n",
    "    return loaded_data"
   ]
  },
  {
   "cell_type": "code",
   "execution_count": 5,
   "id": "cfc869f4",
   "metadata": {
    "execution": {
     "iopub.execute_input": "2022-07-03T18:38:43.620627Z",
     "iopub.status.busy": "2022-07-03T18:38:43.620254Z",
     "iopub.status.idle": "2022-07-03T18:38:43.628945Z",
     "shell.execute_reply": "2022-07-03T18:38:43.628076Z"
    },
    "papermill": {
     "duration": 0.016685,
     "end_time": "2022-07-03T18:38:43.631097",
     "exception": false,
     "start_time": "2022-07-03T18:38:43.614412",
     "status": "completed"
    },
    "tags": []
   },
   "outputs": [],
   "source": [
    "def load_mvsa_data(path, multiple=False):\n",
    "    data = read_hdf5(path)\n",
    "    for x in data:\n",
    "        if x[0] == 'texts':\n",
    "            texts = x[1]\n",
    "        if x[0] == 'multimodal-labels':\n",
    "            labels = x[1]\n",
    "        if x[0] == 'text-labels':\n",
    "            text_labels = x[1]\n",
    "        if x[0] == 'image-labels':\n",
    "            image_labels = x[1]\n",
    "            \n",
    "    images_path = os.path.join(os.path.split(path)[0], os.path.split(path)[1].split('.')[0] + '-images.npz')\n",
    "    images = loadz(images_path)\n",
    "        \n",
    "    return texts, images, labels, text_labels, image_labels\n",
    "\n",
    "def loadz(path):\n",
    "    data = np.load(path)['arr_0']\n",
    "    return data"
   ]
  },
  {
   "cell_type": "markdown",
   "id": "e0fe2351",
   "metadata": {
    "papermill": {
     "duration": 0.003797,
     "end_time": "2022-07-03T18:38:43.639187",
     "exception": false,
     "start_time": "2022-07-03T18:38:43.635390",
     "status": "completed"
    },
    "tags": []
   },
   "source": [
    "# Load raw data"
   ]
  },
  {
   "cell_type": "code",
   "execution_count": 6,
   "id": "260f64f5",
   "metadata": {
    "execution": {
     "iopub.execute_input": "2022-07-03T18:38:43.649457Z",
     "iopub.status.busy": "2022-07-03T18:38:43.648406Z",
     "iopub.status.idle": "2022-07-03T18:39:12.388117Z",
     "shell.execute_reply": "2022-07-03T18:39:12.386420Z"
    },
    "papermill": {
     "duration": 28.749242,
     "end_time": "2022-07-03T18:39:12.392364",
     "exception": false,
     "start_time": "2022-07-03T18:38:43.643122",
     "status": "completed"
    },
    "tags": []
   },
   "outputs": [],
   "source": [
    "mvsa_single_texts, mvsa_single_images, \\\n",
    "mvsa_single_multimodal_labels, mvsa_single_text_labels, \\\n",
    "mvsa_single_image_labels = load_mvsa_data(mvsa_single_path)\n",
    "num_mvsa_single = len(mvsa_single_texts)\n",
    "\n",
    "mvsa_multiple_texts, mvsa_multiple_images, \\\n",
    "mvsa_multiple_multimodal_labels, mvsa_multiple_text_labels, \\\n",
    "mvsa_multiple_image_labels = load_mvsa_data(mvsa_multiple_path)\n",
    "num_mvsa_multiple = len(mvsa_multiple_texts)"
   ]
  },
  {
   "cell_type": "markdown",
   "id": "cf4be6a7",
   "metadata": {
    "papermill": {
     "duration": 0.004161,
     "end_time": "2022-07-03T18:39:12.401679",
     "exception": false,
     "start_time": "2022-07-03T18:39:12.397518",
     "status": "completed"
    },
    "tags": []
   },
   "source": [
    "# DenseNet169"
   ]
  },
  {
   "cell_type": "code",
   "execution_count": 7,
   "id": "3885c7f6",
   "metadata": {
    "execution": {
     "iopub.execute_input": "2022-07-03T18:39:12.412429Z",
     "iopub.status.busy": "2022-07-03T18:39:12.411958Z",
     "iopub.status.idle": "2022-07-03T18:39:18.211504Z",
     "shell.execute_reply": "2022-07-03T18:39:18.209980Z"
    },
    "papermill": {
     "duration": 5.808519,
     "end_time": "2022-07-03T18:39:18.214655",
     "exception": false,
     "start_time": "2022-07-03T18:39:12.406136",
     "status": "completed"
    },
    "tags": []
   },
   "outputs": [
    {
     "name": "stderr",
     "output_type": "stream",
     "text": [
      "2022-07-03 18:39:12.485935: I tensorflow/core/common_runtime/process_util.cc:146] Creating new thread pool with default inter op setting: 2. Tune using inter_op_parallelism_threads for best performance.\n"
     ]
    },
    {
     "name": "stdout",
     "output_type": "stream",
     "text": [
      "Downloading data from https://storage.googleapis.com/tensorflow/keras-applications/densenet/densenet169_weights_tf_dim_ordering_tf_kernels.h5\n",
      "58548224/58541896 [==============================] - 1s 0us/step\n",
      "58556416/58541896 [==============================] - 1s 0us/step\n"
     ]
    }
   ],
   "source": [
    "densenet169 = DenseNet169(input_shape=(IMAGE_SIZE[0], IMAGE_SIZE[1], NUM_CHANNELS))\n",
    "densenet169.trainable = False # Freeze pre-trained layers\n",
    "densenet169_last = Model(inputs=densenet169.input, outputs=densenet169.layers[-2].output)"
   ]
  },
  {
   "cell_type": "code",
   "execution_count": 8,
   "id": "2fe99158",
   "metadata": {
    "execution": {
     "iopub.execute_input": "2022-07-03T18:39:18.227096Z",
     "iopub.status.busy": "2022-07-03T18:39:18.226670Z",
     "iopub.status.idle": "2022-07-03T18:39:19.467847Z",
     "shell.execute_reply": "2022-07-03T18:39:19.466399Z"
    },
    "papermill": {
     "duration": 1.250896,
     "end_time": "2022-07-03T18:39:19.470914",
     "exception": false,
     "start_time": "2022-07-03T18:39:18.220018",
     "status": "completed"
    },
    "tags": []
   },
   "outputs": [],
   "source": [
    "# Summary of DenseNet121 is hidden\n",
    "image_inputs = Input(shape=(IMAGE_SIZE[0], IMAGE_SIZE[1], NUM_CHANNELS))\n",
    "rescale_layer = Rescaling(scale=1./255.) (image_inputs)  # Rescale inputs\n",
    "outputs = densenet169_last (rescale_layer)\n",
    "model_densenet169 = Model(inputs=image_inputs, outputs=outputs)"
   ]
  },
  {
   "cell_type": "code",
   "execution_count": 9,
   "id": "fb468f4b",
   "metadata": {
    "execution": {
     "iopub.execute_input": "2022-07-03T18:39:19.484932Z",
     "iopub.status.busy": "2022-07-03T18:39:19.484455Z",
     "iopub.status.idle": "2022-07-03T18:44:54.575388Z",
     "shell.execute_reply": "2022-07-03T18:44:54.573759Z"
    },
    "papermill": {
     "duration": 335.100548,
     "end_time": "2022-07-03T18:44:54.578331",
     "exception": false,
     "start_time": "2022-07-03T18:39:19.477783",
     "status": "completed"
    },
    "tags": []
   },
   "outputs": [
    {
     "name": "stdout",
     "output_type": "stream",
     "text": [
      "MVSA-Single: Extracting DenseNet169 features of images\n"
     ]
    },
    {
     "name": "stderr",
     "output_type": "stream",
     "text": [
      "2022-07-03 18:39:20.561942: I tensorflow/compiler/mlir/mlir_graph_optimization_pass.cc:185] None of the MLIR Optimization Passes are enabled (registered 2)\n"
     ]
    },
    {
     "name": "stdout",
     "output_type": "stream",
     "text": [
      "141/141 [==============================] - 334s 2s/step\n",
      "DenseNet169 last hidden layer dimension: 1664\n",
      "MVSA-Single with DenseNet169 last hidden layer: (4511, 1664)\n",
      "True\n"
     ]
    }
   ],
   "source": [
    "print('MVSA-Single: Extracting DenseNet169 features of images')\n",
    "mvsa_single_densenet169 = model_densenet169.predict(mvsa_single_images, verbose=1)\n",
    "print('DenseNet169 last hidden layer dimension:', mvsa_single_densenet169.shape[1])\n",
    "print('MVSA-Single with DenseNet169 last hidden layer:', mvsa_single_densenet169.shape)\n",
    "\n",
    "# save and load check\n",
    "np.savez('./mvsa-single-densenet169', mvsa_single_densenet169)\n",
    "x = loadz('./mvsa-single-densenet169.npz')\n",
    "print((x == mvsa_single_densenet169).all())"
   ]
  },
  {
   "cell_type": "code",
   "execution_count": 10,
   "id": "1b9825ea",
   "metadata": {
    "execution": {
     "iopub.execute_input": "2022-07-03T18:44:54.613891Z",
     "iopub.status.busy": "2022-07-03T18:44:54.613096Z",
     "iopub.status.idle": "2022-07-03T19:06:26.198384Z",
     "shell.execute_reply": "2022-07-03T19:06:26.196918Z"
    },
    "papermill": {
     "duration": 1291.605987,
     "end_time": "2022-07-03T19:06:26.201243",
     "exception": false,
     "start_time": "2022-07-03T18:44:54.595256",
     "status": "completed"
    },
    "tags": []
   },
   "outputs": [
    {
     "name": "stdout",
     "output_type": "stream",
     "text": [
      "MVSA-Multiple: Extracting DenseNet169 features of images\n",
      "532/532 [==============================] - 1242s 2s/step\n",
      "DenseNet169 last hidden layer dimension: 1664\n",
      "MVSA-Multiple with DenseNet169 last hidden layer: (17024, 1664)\n",
      "True\n"
     ]
    }
   ],
   "source": [
    "print('MVSA-Multiple: Extracting DenseNet169 features of images')\n",
    "mvsa_multiple_densenet169 = model_densenet169.predict(mvsa_multiple_images, verbose=1)\n",
    "print('DenseNet169 last hidden layer dimension:', mvsa_multiple_densenet169.shape[1])\n",
    "print('MVSA-Multiple with DenseNet169 last hidden layer:', mvsa_multiple_densenet169.shape)\n",
    "\n",
    "# save and load check\n",
    "np.savez('./mvsa-multiple-densenet169', mvsa_multiple_densenet169)\n",
    "x = loadz('./mvsa-multiple-densenet169.npz')\n",
    "print((x == mvsa_multiple_densenet169).all())"
   ]
  }
 ],
 "metadata": {
  "kernelspec": {
   "display_name": "Python 3",
   "language": "python",
   "name": "python3"
  },
  "language_info": {
   "codemirror_mode": {
    "name": "ipython",
    "version": 3
   },
   "file_extension": ".py",
   "mimetype": "text/x-python",
   "name": "python",
   "nbconvert_exporter": "python",
   "pygments_lexer": "ipython3",
   "version": "3.7.12"
  },
  "papermill": {
   "default_parameters": {},
   "duration": 1692.061278,
   "end_time": "2022-07-03T19:06:29.109952",
   "environment_variables": {},
   "exception": null,
   "input_path": "__notebook__.ipynb",
   "output_path": "__notebook__.ipynb",
   "parameters": {},
   "start_time": "2022-07-03T18:38:17.048674",
   "version": "2.3.4"
  }
 },
 "nbformat": 4,
 "nbformat_minor": 5
}
