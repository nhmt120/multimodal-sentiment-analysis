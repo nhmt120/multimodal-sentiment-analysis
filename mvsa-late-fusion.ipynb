{
 "cells": [
  {
   "cell_type": "code",
   "execution_count": 1,
   "id": "b6fcb226",
   "metadata": {
    "_cell_guid": "b1076dfc-b9ad-4769-8c92-a6c4dae69d19",
    "_uuid": "8f2839f25d086af736a60e9eeb907d3b93b6e0e5",
    "execution": {
     "iopub.execute_input": "2022-07-01T09:53:09.473043Z",
     "iopub.status.busy": "2022-07-01T09:53:09.472594Z",
     "iopub.status.idle": "2022-07-01T09:53:25.655022Z",
     "shell.execute_reply": "2022-07-01T09:53:25.654028Z"
    },
    "papermill": {
     "duration": 16.195904,
     "end_time": "2022-07-01T09:53:25.658932",
     "exception": false,
     "start_time": "2022-07-01T09:53:09.463028",
     "status": "completed"
    },
    "tags": []
   },
   "outputs": [],
   "source": [
    "SEED = 61\n",
    "\n",
    "import numpy as np\n",
    "import tensorflow as tf\n",
    "import random as python_random\n",
    "import os\n",
    "\n",
    "def reset_seeds():\n",
    "    np.random.seed(SEED) \n",
    "    python_random.seed(SEED)\n",
    "    tf.random.set_seed(SEED)\n",
    "    os.environ[\"PYTHONHASHSEED\"] = str(SEED)\n",
    "    \n",
    "import os\n",
    "import re\n",
    "import gc\n",
    "import tensorflow_addons as tfa\n",
    "import h5py\n",
    "import torch\n",
    "import matplotlib.pyplot as plt\n",
    "\n",
    "from tqdm import tqdm\n",
    "from nltk import tokenize\n",
    "\n",
    "from sklearn import preprocessing\n",
    "from sklearn.decomposition import PCA\n",
    "from sklearn.metrics import f1_score, accuracy_score, confusion_matrix, ConfusionMatrixDisplay, classification_report\n",
    "\n",
    "from keras import backend as K\n",
    "from keras import initializers,regularizers,constraints\n",
    "from keras.preprocessing.text import Tokenizer, text_to_word_sequence\n",
    "from keras.preprocessing.sequence import pad_sequences\n",
    "from keras.utils.np_utils import to_categorical\n",
    "from keras.layers import Reshape, Input, Embedding, Flatten, Dense, Dropout, BatchNormalization, Activation #, merge\n",
    "from keras.layers import TimeDistributed, LSTM, GRU, Bidirectional, Convolution1D, MaxPooling1D, MaxPooling2D\n",
    "from keras.layers.core import RepeatVector #, Reshape\n",
    "from keras.callbacks import ModelCheckpoint, EarlyStopping, ReduceLROnPlateau\n",
    "from keras.models import Sequential, Model, load_model\n",
    "from sklearn.model_selection import RepeatedKFold, KFold\n",
    "from sklearn.model_selection import cross_val_score\n",
    "\n",
    "from tensorflow.python.keras.layers import Layer, InputSpec, Lambda\n",
    "\n",
    "from transformers import BertTokenizer, BertForMaskedLM, BertModel\n",
    "\n",
    "# from tensorflow.keras import Model\n",
    "# from attention import Attention_input1, Attention_input2\n",
    "# from keras.optimizers import SGD, RMSprop, Adagrad"
   ]
  },
  {
   "cell_type": "code",
   "execution_count": 2,
   "id": "a6e71e9a",
   "metadata": {
    "execution": {
     "iopub.execute_input": "2022-07-01T09:53:25.681019Z",
     "iopub.status.busy": "2022-07-01T09:53:25.679341Z",
     "iopub.status.idle": "2022-07-01T09:53:25.690115Z",
     "shell.execute_reply": "2022-07-01T09:53:25.688836Z"
    },
    "papermill": {
     "duration": 0.02399,
     "end_time": "2022-07-01T09:53:25.693583",
     "exception": false,
     "start_time": "2022-07-01T09:53:25.669593",
     "status": "completed"
    },
    "tags": []
   },
   "outputs": [],
   "source": [
    "def read_hdf5(path):\n",
    "    read_file = h5py.File(path, 'r')\n",
    "    \n",
    "    feature_names = list(read_file.keys())\n",
    "    loaded_data = []\n",
    "    \n",
    "    for name in feature_names:\n",
    "        dataset = read_file[name][:]\n",
    "        if dataset.dtype == np.dtype('object'):\n",
    "            dataset = np.array([x.decode('UTF-8') for x in dataset])            \n",
    "        loaded_data.append((name, dataset))\n",
    "\n",
    "    return loaded_data\n",
    "\n",
    "def loadz(path):\n",
    "    data = np.load(path)['arr_0']\n",
    "    return data"
   ]
  },
  {
   "cell_type": "code",
   "execution_count": 3,
   "id": "c6ad6450",
   "metadata": {
    "execution": {
     "iopub.execute_input": "2022-07-01T09:53:25.715373Z",
     "iopub.status.busy": "2022-07-01T09:53:25.714380Z",
     "iopub.status.idle": "2022-07-01T09:53:25.727848Z",
     "shell.execute_reply": "2022-07-01T09:53:25.726656Z"
    },
    "papermill": {
     "duration": 0.028135,
     "end_time": "2022-07-01T09:53:25.730817",
     "exception": false,
     "start_time": "2022-07-01T09:53:25.702682",
     "status": "completed"
    },
    "tags": []
   },
   "outputs": [],
   "source": [
    "def load_labels(path):\n",
    "    data = read_hdf5(path)\n",
    "\n",
    "    for x in data:\n",
    "        if x[0] == 'multimodal-labels':\n",
    "            labels = x[1]\n",
    "        if x[0] == 'text-labels':\n",
    "            text_labels = x[1]\n",
    "        if x[0] == 'image-labels':\n",
    "            image_labels = x[1]\n",
    "        \n",
    "    return labels, text_labels, image_labels\n",
    "\n",
    "def merge_mvsa(mvsa_single, mvsa_multiple):\n",
    "    mvsa = np.concatenate((mvsa_single, mvsa_multiple), axis=0)\n",
    "    return mvsa\n",
    "\n",
    "def load_mvsa_feature(feature_name, merge=False):\n",
    "    folder_path = os.path.join('../input/mvsa-features/', feature_name)\n",
    "    single_file = 'mvsa-single-{}.npz'.format(feature_name)\n",
    "    multiple_file = 'mvsa-multiple-{}.npz'.format(feature_name)\n",
    "    mvsa_single = loadz(os.path.join(folder_path, single_file))\n",
    "    mvsa_multiple = loadz(os.path.join(folder_path, multiple_file))\n",
    "    \n",
    "    if merge == True:\n",
    "        return merge_mvsa(mvsa_single, mvsa_multiple)\n",
    "    \n",
    "    return mvsa_single, mvsa_multiple"
   ]
  },
  {
   "cell_type": "code",
   "execution_count": 4,
   "id": "0f2d2028",
   "metadata": {
    "execution": {
     "iopub.execute_input": "2022-07-01T09:53:25.746563Z",
     "iopub.status.busy": "2022-07-01T09:53:25.746087Z",
     "iopub.status.idle": "2022-07-01T09:53:25.752505Z",
     "shell.execute_reply": "2022-07-01T09:53:25.751267Z"
    },
    "papermill": {
     "duration": 0.017795,
     "end_time": "2022-07-01T09:53:25.754963",
     "exception": false,
     "start_time": "2022-07-01T09:53:25.737168",
     "status": "completed"
    },
    "tags": []
   },
   "outputs": [],
   "source": [
    "# e.g. validation_split=0.1 -----> 8:1:1 ratio of train, val, test\n",
    "def split_data(data, validation_split):\n",
    "    num_val = int(validation_split * data.shape[0])\n",
    "    data_train = data[:-(num_val*2)]\n",
    "    data_val = data[-(num_val*2):-(num_val)]\n",
    "    data_test = data[-num_val:]\n",
    "    return data_train, data_val, data_test"
   ]
  },
  {
   "cell_type": "code",
   "execution_count": 5,
   "id": "a4475fd2",
   "metadata": {
    "execution": {
     "iopub.execute_input": "2022-07-01T09:53:25.770690Z",
     "iopub.status.busy": "2022-07-01T09:53:25.769872Z",
     "iopub.status.idle": "2022-07-01T09:53:25.779301Z",
     "shell.execute_reply": "2022-07-01T09:53:25.778397Z"
    },
    "papermill": {
     "duration": 0.020084,
     "end_time": "2022-07-01T09:53:25.781865",
     "exception": false,
     "start_time": "2022-07-01T09:53:25.761781",
     "status": "completed"
    },
    "tags": []
   },
   "outputs": [],
   "source": [
    "def weighted_average(weights, probs):\n",
    "    '''\n",
    "    weights: weights list (or array)\n",
    "    probs: probability distributions array\n",
    "    '''\n",
    "    output_probs = []\n",
    "    weighted_probs = [probs[i] * weights[i] for i in range(len(weights))]\n",
    "    for i in range(len(probs[0])):\n",
    "        sum_prob = np.zeros(len(probs[0][0]))\n",
    "        for j in range(len(weights)):\n",
    "            sum_prob = np.sum((sum_prob, weighted_probs[j][i]), axis=0)\n",
    "        output_probs.append(sum_prob)\n",
    "    return np.asarray(output_probs, dtype='float32')"
   ]
  },
  {
   "cell_type": "code",
   "execution_count": 6,
   "id": "6b258fa6",
   "metadata": {
    "execution": {
     "iopub.execute_input": "2022-07-01T09:53:25.798830Z",
     "iopub.status.busy": "2022-07-01T09:53:25.798446Z",
     "iopub.status.idle": "2022-07-01T09:53:25.806429Z",
     "shell.execute_reply": "2022-07-01T09:53:25.805530Z"
    },
    "papermill": {
     "duration": 0.019817,
     "end_time": "2022-07-01T09:53:25.808999",
     "exception": false,
     "start_time": "2022-07-01T09:53:25.789182",
     "status": "completed"
    },
    "tags": []
   },
   "outputs": [],
   "source": [
    "def get_average_weights(*scores, inverse=False):\n",
    "    # inverse weights in case of the smaller score value, the bigger weight\n",
    "    weights = []\n",
    "    for score in scores:\n",
    "        weights.append(score/np.sum(scores))\n",
    "\n",
    "    if inverse == True:\n",
    "        inverse_weights = []\n",
    "        inverse = [1/weight for weight in weights]\n",
    "        for inv in inverse:\n",
    "            inverse_weights.append(inv/np.sum(inverse))\n",
    "        weights = inverse_weights\n",
    "\n",
    "    return weights"
   ]
  },
  {
   "cell_type": "code",
   "execution_count": 7,
   "id": "71be2cfd",
   "metadata": {
    "execution": {
     "iopub.execute_input": "2022-07-01T09:53:25.824706Z",
     "iopub.status.busy": "2022-07-01T09:53:25.823595Z",
     "iopub.status.idle": "2022-07-01T09:53:25.831959Z",
     "shell.execute_reply": "2022-07-01T09:53:25.831090Z"
    },
    "papermill": {
     "duration": 0.019298,
     "end_time": "2022-07-01T09:53:25.834617",
     "exception": false,
     "start_time": "2022-07-01T09:53:25.815319",
     "status": "completed"
    },
    "tags": []
   },
   "outputs": [],
   "source": [
    "def create_model_text(input_shape):\n",
    "    f1_score = tfa.metrics.F1Score(num_classes=NUM_CLASSES, average='macro')\n",
    "    \n",
    "    text_input = Input(shape=input_shape)\n",
    "    reshape_text = Reshape((1, -1)) (text_input)\n",
    "    lstm = LSTM(NUM_LSTM) (reshape_text)\n",
    "    outputs = Dense(NUM_CLASSES, activation='softmax') (lstm)\n",
    "    \n",
    "    model = Model(text_input, outputs)\n",
    "    model.compile(optimizer='adam', loss='categorical_crossentropy', metrics=['accuracy', f1_score]) # f1 #tf.keras.metrics.AUC()\n",
    "    \n",
    "    return model"
   ]
  },
  {
   "cell_type": "code",
   "execution_count": 8,
   "id": "d36cf274",
   "metadata": {
    "execution": {
     "iopub.execute_input": "2022-07-01T09:53:25.850210Z",
     "iopub.status.busy": "2022-07-01T09:53:25.849453Z",
     "iopub.status.idle": "2022-07-01T09:53:25.857452Z",
     "shell.execute_reply": "2022-07-01T09:53:25.856478Z"
    },
    "papermill": {
     "duration": 0.018962,
     "end_time": "2022-07-01T09:53:25.860243",
     "exception": false,
     "start_time": "2022-07-01T09:53:25.841281",
     "status": "completed"
    },
    "tags": []
   },
   "outputs": [],
   "source": [
    "def create_model_image(input_shape):\n",
    "    f1_score = tfa.metrics.F1Score(num_classes=NUM_CLASSES, average='macro')\n",
    "\n",
    "    image_input = Input(shape=input_shape)\n",
    "    outputs = Dense(NUM_CLASSES, activation='softmax') (image_input)\n",
    "\n",
    "    model = Model(image_input, outputs)\n",
    "    model.compile(optimizer='adam', loss='categorical_crossentropy', metrics=['accuracy', f1_score]) # f1 #tf.keras.metrics.AUC()\n",
    "    return model"
   ]
  },
  {
   "cell_type": "code",
   "execution_count": 9,
   "id": "b78f6b80",
   "metadata": {
    "execution": {
     "iopub.execute_input": "2022-07-01T09:53:25.875937Z",
     "iopub.status.busy": "2022-07-01T09:53:25.875048Z",
     "iopub.status.idle": "2022-07-01T09:53:25.894229Z",
     "shell.execute_reply": "2022-07-01T09:53:25.893379Z"
    },
    "papermill": {
     "duration": 0.030296,
     "end_time": "2022-07-01T09:53:25.897172",
     "exception": false,
     "start_time": "2022-07-01T09:53:25.866876",
     "status": "completed"
    },
    "tags": []
   },
   "outputs": [],
   "source": [
    "def run_and_evaluate_LF(name, X1, X2, y, y1, y2, verbose=0):\n",
    "    ''' \n",
    "    X1: text input\n",
    "    X2: image input\n",
    "    y: multimodal labels\n",
    "    y1: text labels\n",
    "    y2: image labels\n",
    "    verbose: 0 or 1 to print tracking on progress\n",
    "    '''\n",
    "    y = le.fit_transform(y)\n",
    "    y = to_categorical(np.asarray(y))\n",
    "    \n",
    "    y1 = le.fit_transform(y1)\n",
    "    y1 = to_categorical(np.asarray(y1))\n",
    "    \n",
    "    y2 = le.fit_transform(y2)\n",
    "    y2 = to_categorical(np.asarray(y2))\n",
    "\n",
    "    X1_train, X1_val, X1_test = split_data(X1, VALIDATION_SPLIT)\n",
    "    X2_train, X2_val, X2_test = split_data(X2, VALIDATION_SPLIT)\n",
    "    y_train, y_val, y_test = split_data(y, VALIDATION_SPLIT)\n",
    "    y1_train, y1_val, y1_test = split_data(y1, VALIDATION_SPLIT)\n",
    "    y2_train, y2_val, y2_test = split_data(y2, VALIDATION_SPLIT)\n",
    "\n",
    "    model_text = create_model_text(X1_train.shape[1:])\n",
    "    model_image = create_model_image(X2_train.shape[1:])\n",
    "\n",
    "    early_stopping1 = EarlyStopping(monitor='val_loss', min_delta=1e-4, patience=EARLY_STOPPING)\n",
    "    early_stopping2 = EarlyStopping(monitor='val_loss', min_delta=1e-4, patience=EARLY_STOPPING)\n",
    "    checkpoint_text = ModelCheckpoint('./model_checkpoint/{}-text.h5'.format(name), save_best_only=True, verbose=verbose)\n",
    "    checkpoint_image = ModelCheckpoint('./model_checkpoint/{}-image.h5'.format(name), save_best_only=True, verbose=verbose)\n",
    "    \n",
    "    history_text = model_text.fit(X1_train, y1_train, validation_data=(X1_val, y1_val), \n",
    "                        epochs=EPOCHS, batch_size=BATCH_SIZE, verbose=verbose,\n",
    "                        callbacks=[checkpoint_text, early_stopping1])\n",
    "    \n",
    "    history_image = model_image.fit(X2_train, y2_train, validation_data=(X2_val, y2_val), \n",
    "                        epochs=EPOCHS, batch_size=BATCH_SIZE, verbose=verbose,\n",
    "                        callbacks=[checkpoint_image, early_stopping2])\n",
    "    \n",
    "    best_val_loss_text = np.min(history_text.history['val_loss'])\n",
    "    best_val_loss_image = np.min(history_image.history['val_loss'])\n",
    "\n",
    "    weights = get_average_weights(best_val_loss_text, best_val_loss_image, inverse=True)\n",
    "\n",
    "    model_text = load_model('./model_checkpoint/{}-text.h5'.format(name))\n",
    "    model_image = load_model('./model_checkpoint/{}-image.h5'.format(name))\n",
    "\n",
    "    y_pred_text = model_text.predict(X1_test)\n",
    "    y_pred_image = model_image.predict(X2_test)\n",
    "\n",
    "    y_pred = weighted_average(weights, np.asarray([y_pred_text, y_pred_image], dtype='float32'))\n",
    "\n",
    "    best_epoch_text = np.argmin(history_text.history['val_loss'])\n",
    "    best_epoch_image = np.argmin(history_image.history['val_loss'])\n",
    "\n",
    "    print('Checkpoint of text model loaded at epoch:', best_epoch_text)\n",
    "    print('Checkpoint of image model loaded at epoch:', best_epoch_image)\n",
    "\n",
    "    return evaluate_LF(y_test, y_pred, verbose=verbose)"
   ]
  },
  {
   "cell_type": "code",
   "execution_count": 10,
   "id": "4f22df17",
   "metadata": {
    "execution": {
     "iopub.execute_input": "2022-07-01T09:53:25.912095Z",
     "iopub.status.busy": "2022-07-01T09:53:25.911263Z",
     "iopub.status.idle": "2022-07-01T09:53:25.927865Z",
     "shell.execute_reply": "2022-07-01T09:53:25.926857Z"
    },
    "papermill": {
     "duration": 0.027131,
     "end_time": "2022-07-01T09:53:25.930613",
     "exception": false,
     "start_time": "2022-07-01T09:53:25.903482",
     "status": "completed"
    },
    "tags": []
   },
   "outputs": [],
   "source": [
    "def old_run_and_evaluate_LF(name, X1, X2, y, verbose=0):\n",
    "    ''' \n",
    "    X1: text input\n",
    "    X2: image input\n",
    "    y: labels\n",
    "    verbose: 0 or 1 to print tracking on progress\n",
    "    '''\n",
    "    y = le.fit_transform(y)\n",
    "    y = to_categorical(np.asarray(y))\n",
    "\n",
    "    X1_train, X1_val, X1_test = split_data(X1, VALIDATION_SPLIT)\n",
    "    X2_train, X2_val, X2_test = split_data(X2, VALIDATION_SPLIT)\n",
    "    y_train, y_val, y_test = split_data(y, VALIDATION_SPLIT)\n",
    "\n",
    "    model_text = create_model_text(X1_train.shape[1:])\n",
    "    model_image = create_model_image(X2_train.shape[1:])\n",
    "\n",
    "    early_stopping1 = EarlyStopping(monitor='val_loss', min_delta=1e-4, patience=EARLY_STOPPING)\n",
    "    early_stopping2 = EarlyStopping(monitor='val_loss', min_delta=1e-4, patience=EARLY_STOPPING)\n",
    "    checkpoint_text = ModelCheckpoint('./model_checkpoint/{}-text.h5'.format(name), save_best_only=True, verbose=verbose)\n",
    "    checkpoint_image = ModelCheckpoint('./model_checkpoint/{}-image.h5'.format(name), save_best_only=True, verbose=verbose)\n",
    "    \n",
    "    history_text = model_text.fit(X1_train, y_train, validation_data=(X1_val, y_val), \n",
    "                        epochs=EPOCHS, batch_size=BATCH_SIZE, verbose=verbose,\n",
    "                        callbacks=[checkpoint_text, early_stopping1])\n",
    "    \n",
    "    history_image = model_image.fit(X2_train, y_train, validation_data=(X2_val, y_val), \n",
    "                        epochs=EPOCHS, batch_size=BATCH_SIZE, verbose=verbose,\n",
    "                        callbacks=[checkpoint_image, early_stopping2])\n",
    "    \n",
    "    best_val_loss_text = np.min(history_text.history['val_loss'])\n",
    "    best_val_loss_image = np.min(history_image.history['val_loss'])\n",
    "\n",
    "    weights = get_average_weights(best_val_loss_text, best_val_loss_image, inverse=True)\n",
    "\n",
    "    model_text = load_model('./model_checkpoint/{}-text.h5'.format(name))\n",
    "    model_image = load_model('./model_checkpoint/{}-image.h5'.format(name))\n",
    "\n",
    "    y_pred_text = model_text.predict(X1_test)\n",
    "    y_pred_image = model_image.predict(X2_test)\n",
    "\n",
    "    y_pred = weighted_average(weights, np.asarray([y_pred_text, y_pred_image], dtype='float32'))\n",
    "\n",
    "    best_epoch_text = np.argmin(history_text.history['val_loss'])\n",
    "    best_epoch_image = np.argmin(history_image.history['val_loss'])\n",
    "\n",
    "    print('Checkpoint of text model loaded at epoch:', best_epoch_text)\n",
    "    print('Checkpoint of image model loaded at epoch:', best_epoch_image)\n",
    "\n",
    "    return evaluate_LF(y_test, y_pred, verbose=verbose)"
   ]
  },
  {
   "cell_type": "code",
   "execution_count": 11,
   "id": "b40b2475",
   "metadata": {
    "execution": {
     "iopub.execute_input": "2022-07-01T09:53:25.946343Z",
     "iopub.status.busy": "2022-07-01T09:53:25.944772Z",
     "iopub.status.idle": "2022-07-01T09:53:25.954585Z",
     "shell.execute_reply": "2022-07-01T09:53:25.953490Z"
    },
    "papermill": {
     "duration": 0.020303,
     "end_time": "2022-07-01T09:53:25.957248",
     "exception": false,
     "start_time": "2022-07-01T09:53:25.936945",
     "status": "completed"
    },
    "tags": []
   },
   "outputs": [],
   "source": [
    "def evaluate_LF(y_true, y_pred, verbose=0):\n",
    "    \n",
    "    y_pred = le.inverse_transform(y_pred.argmax(axis=1))\n",
    "    y_true = le.inverse_transform(y_true.argmax(axis=1))\n",
    "\n",
    "    acc = accuracy_score(y_true, y_pred)\n",
    "    f1 = f1_score(y_true, y_pred, average='macro')\n",
    "\n",
    "    if verbose == 1:\n",
    "        print(classification_report(y_true, y_pred))\n",
    "        matrix = confusion_matrix(y_true, y_pred,\n",
    "                                  labels=list(le.classes_))\n",
    "        cm_disp = ConfusionMatrixDisplay(confusion_matrix=matrix,\n",
    "                                  display_labels=list(le.classes_))\n",
    "        cm_disp.plot()\n",
    "        plt.show()\n",
    "        \n",
    "    return acc, f1"
   ]
  },
  {
   "cell_type": "code",
   "execution_count": 12,
   "id": "4abd063b",
   "metadata": {
    "execution": {
     "iopub.execute_input": "2022-07-01T09:53:25.974156Z",
     "iopub.status.busy": "2022-07-01T09:53:25.973195Z",
     "iopub.status.idle": "2022-07-01T09:53:25.985803Z",
     "shell.execute_reply": "2022-07-01T09:53:25.984791Z"
    },
    "papermill": {
     "duration": 0.02462,
     "end_time": "2022-07-01T09:53:25.988602",
     "exception": false,
     "start_time": "2022-07-01T09:53:25.963982",
     "status": "completed"
    },
    "tags": []
   },
   "outputs": [],
   "source": [
    "def plot_metrics(history):\n",
    "    fig = plt.figure(figsize=(20, 5))\n",
    "\n",
    "    fig.add_subplot(1, 3, 1)\n",
    "    plt.plot(history.history['loss'])\n",
    "    plt.plot(history.history['val_loss'])\n",
    "    plt.title('LOSS')\n",
    "    plt.ylabel('loss')\n",
    "    plt.xlabel('epoch')\n",
    "    plt.legend(['train', 'val'], loc='best')\n",
    "\n",
    "    fig.add_subplot(1, 3, 2)\n",
    "    plt.plot(history.history['accuracy'])\n",
    "    plt.plot(history.history['val_accuracy'])\n",
    "    plt.title('ACCURACY')\n",
    "    plt.ylabel('accuracy')\n",
    "    plt.xlabel('epoch')\n",
    "    plt.legend(['train', 'val'], loc='best')\n",
    "\n",
    "    fig.add_subplot(1, 3, 3)\n",
    "    plt.plot(history.history['f1_score'])\n",
    "    plt.plot(history.history['val_f1_score'])\n",
    "    plt.title('F1-SCORE')\n",
    "    plt.ylabel('f1-score')\n",
    "    plt.xlabel('epoch')\n",
    "    plt.legend(['train', 'val'], loc='best')\n",
    "\n",
    "    plt.show()"
   ]
  },
  {
   "cell_type": "markdown",
   "id": "187fa992",
   "metadata": {
    "papermill": {
     "duration": 0.006361,
     "end_time": "2022-07-01T09:53:26.001404",
     "exception": false,
     "start_time": "2022-07-01T09:53:25.995043",
     "status": "completed"
    },
    "tags": []
   },
   "source": [
    "# Load data"
   ]
  },
  {
   "cell_type": "code",
   "execution_count": 13,
   "id": "755356a3",
   "metadata": {
    "execution": {
     "iopub.execute_input": "2022-07-01T09:53:26.017168Z",
     "iopub.status.busy": "2022-07-01T09:53:26.016041Z",
     "iopub.status.idle": "2022-07-01T09:53:42.080805Z",
     "shell.execute_reply": "2022-07-01T09:53:42.079762Z"
    },
    "papermill": {
     "duration": 16.075799,
     "end_time": "2022-07-01T09:53:42.084034",
     "exception": false,
     "start_time": "2022-07-01T09:53:26.008235",
     "status": "completed"
    },
    "tags": []
   },
   "outputs": [],
   "source": [
    "## Choose best\n",
    "# Load text feature\n",
    "mvsa_single_bert_base, mvsa_multiple_bert_base = load_mvsa_feature('bert-base')\n",
    "mvsa_single_pos_bow, mvsa_multiple_pos_bow = load_mvsa_feature('pos-bow')\n",
    "mvsa_single_pos_tfidf, mvsa_multiple_pos_tfidf = load_mvsa_feature('pos-tfidf')\n",
    "mvsa_single_ner_bow, mvsa_multiple_ner_bow = load_mvsa_feature('ner-bow')\n",
    "mvsa_single_ner_tfidf, mvsa_multiple_ner_tfidf = load_mvsa_feature('ner-tfidf')\n",
    "\n",
    "# Load image feature\n",
    "mvsa_single_vgg16, mvsa_multiple_vgg16 = load_mvsa_feature('vgg16')\n",
    "mvsa_single_vgg19, mvsa_multiple_vgg19 = load_mvsa_feature('vgg19')\n",
    "mvsa_single_resnet50, mvsa_multiple_resnet50 = load_mvsa_feature('resnet50')\n",
    "mvsa_single_resnet101, mvsa_multiple_resnet101 = load_mvsa_feature('resnet101')\n",
    "mvsa_single_resnet152, mvsa_multiple_resnet152 = load_mvsa_feature('resnet152')\n",
    "mvsa_single_densenet121, mvsa_multiple_densenet121 = load_mvsa_feature('densenet121')\n",
    "mvsa_single_densenet169, mvsa_multiple_densenet169 = load_mvsa_feature('densenet169')\n",
    "mvsa_single_densenet201, mvsa_multiple_densenet201 = load_mvsa_feature('densenet201')"
   ]
  },
  {
   "cell_type": "code",
   "execution_count": 14,
   "id": "64ecc5ba",
   "metadata": {
    "execution": {
     "iopub.execute_input": "2022-07-01T09:53:42.100791Z",
     "iopub.status.busy": "2022-07-01T09:53:42.100058Z",
     "iopub.status.idle": "2022-07-01T09:53:42.255688Z",
     "shell.execute_reply": "2022-07-01T09:53:42.254214Z"
    },
    "papermill": {
     "duration": 0.167122,
     "end_time": "2022-07-01T09:53:42.258864",
     "exception": false,
     "start_time": "2022-07-01T09:53:42.091742",
     "status": "completed"
    },
    "tags": []
   },
   "outputs": [],
   "source": [
    "mvsa_single_multimodal_labels, mvsa_single_text_labels, mvsa_single_image_labels = load_labels('../input/mvsa-features/labels/mvsa-single-labels.hdf5')\n",
    "mvsa_multiple_multimodal_labels, mvsa_multiple_text_labels, mvsa_multiple_image_labels = load_labels('../input/mvsa-features/labels/mvsa-multiple-labels.hdf5')"
   ]
  },
  {
   "cell_type": "code",
   "execution_count": 15,
   "id": "ea760ec4",
   "metadata": {
    "execution": {
     "iopub.execute_input": "2022-07-01T09:53:42.273710Z",
     "iopub.status.busy": "2022-07-01T09:53:42.273277Z",
     "iopub.status.idle": "2022-07-01T09:53:42.337699Z",
     "shell.execute_reply": "2022-07-01T09:53:42.336506Z"
    },
    "papermill": {
     "duration": 0.075562,
     "end_time": "2022-07-01T09:53:42.340953",
     "exception": false,
     "start_time": "2022-07-01T09:53:42.265391",
     "status": "completed"
    },
    "tags": []
   },
   "outputs": [
    {
     "name": "stdout",
     "output_type": "stream",
     "text": [
      "Text vector shape: (802,)\n",
      "Image vector shape: (1920,)\n"
     ]
    }
   ],
   "source": [
    "mvsa_single_text_features = np.concatenate((mvsa_single_bert_base, mvsa_single_pos_tfidf), axis=1)\n",
    "mvsa_multiple_text_features = np.concatenate((mvsa_multiple_bert_base, mvsa_multiple_pos_tfidf), axis=1)\n",
    "\n",
    "mvsa_single_image_features = mvsa_single_densenet201\n",
    "mvsa_multiple_image_features = mvsa_multiple_densenet201\n",
    "\n",
    "print('Text vector shape:', mvsa_single_text_features.shape[1:])\n",
    "print('Image vector shape:', mvsa_single_image_features.shape[1:])"
   ]
  },
  {
   "cell_type": "code",
   "execution_count": 16,
   "id": "bea85cf8",
   "metadata": {
    "execution": {
     "iopub.execute_input": "2022-07-01T09:53:42.356832Z",
     "iopub.status.busy": "2022-07-01T09:53:42.356434Z",
     "iopub.status.idle": "2022-07-01T09:53:42.363272Z",
     "shell.execute_reply": "2022-07-01T09:53:42.362167Z"
    },
    "papermill": {
     "duration": 0.017794,
     "end_time": "2022-07-01T09:53:42.365769",
     "exception": false,
     "start_time": "2022-07-01T09:53:42.347975",
     "status": "completed"
    },
    "tags": []
   },
   "outputs": [],
   "source": [
    "le = preprocessing.LabelEncoder()\n",
    "le.fit(mvsa_single_multimodal_labels)\n",
    "NUM_CLASSES = len(le.classes_) # = 3"
   ]
  },
  {
   "cell_type": "code",
   "execution_count": 17,
   "id": "95e373d9",
   "metadata": {
    "execution": {
     "iopub.execute_input": "2022-07-01T09:53:42.380469Z",
     "iopub.status.busy": "2022-07-01T09:53:42.379876Z",
     "iopub.status.idle": "2022-07-01T09:53:42.386985Z",
     "shell.execute_reply": "2022-07-01T09:53:42.385655Z"
    },
    "papermill": {
     "duration": 0.017471,
     "end_time": "2022-07-01T09:53:42.389548",
     "exception": false,
     "start_time": "2022-07-01T09:53:42.372077",
     "status": "completed"
    },
    "tags": []
   },
   "outputs": [],
   "source": [
    "reset_seeds()\n",
    "EPOCHS = 3\n",
    "BATCH_SIZE = 128\n",
    "VALIDATION_SPLIT = 0.1\n",
    "EARLY_STOPPING = 100\n",
    "NUM_LSTM = 128\n",
    "DROPOUT_RATE = 0.1"
   ]
  },
  {
   "cell_type": "code",
   "execution_count": 18,
   "id": "78982e61",
   "metadata": {
    "execution": {
     "iopub.execute_input": "2022-07-01T09:53:42.404267Z",
     "iopub.status.busy": "2022-07-01T09:53:42.403818Z",
     "iopub.status.idle": "2022-07-01T09:53:50.676071Z",
     "shell.execute_reply": "2022-07-01T09:53:50.674660Z"
    },
    "papermill": {
     "duration": 8.282419,
     "end_time": "2022-07-01T09:53:50.678387",
     "exception": false,
     "start_time": "2022-07-01T09:53:42.395968",
     "status": "completed"
    },
    "scrolled": true,
    "tags": []
   },
   "outputs": [
    {
     "name": "stderr",
     "output_type": "stream",
     "text": [
      "2022-07-01 09:53:42.456134: I tensorflow/core/common_runtime/process_util.cc:146] Creating new thread pool with default inter op setting: 2. Tune using inter_op_parallelism_threads for best performance.\n",
      "2022-07-01 09:53:43.217725: I tensorflow/compiler/mlir/mlir_graph_optimization_pass.cc:185] None of the MLIR Optimization Passes are enabled (registered 2)\n"
     ]
    },
    {
     "name": "stdout",
     "output_type": "stream",
     "text": [
      "Epoch 1/3\n",
      "27/27 [==============================] - 4s 35ms/step - loss: 0.9495 - accuracy: 0.5379 - f1_score: 0.4627 - val_loss: 0.8052 - val_accuracy: 0.6613 - val_f1_score: 0.5718\n",
      "\n",
      "Epoch 00001: val_loss improved from inf to 0.80517, saving model to ./model_checkpoint/single-LF-text.h5\n",
      "Epoch 2/3\n",
      "27/27 [==============================] - 0s 10ms/step - loss: 0.7965 - accuracy: 0.6303 - f1_score: 0.6005 - val_loss: 0.7676 - val_accuracy: 0.6589 - val_f1_score: 0.6262\n",
      "\n",
      "Epoch 00002: val_loss improved from 0.80517 to 0.76756, saving model to ./model_checkpoint/single-LF-text.h5\n",
      "Epoch 3/3\n",
      "27/27 [==============================] - 0s 10ms/step - loss: 0.7651 - accuracy: 0.6526 - f1_score: 0.6341 - val_loss: 0.7650 - val_accuracy: 0.6752 - val_f1_score: 0.5860\n",
      "\n",
      "Epoch 00003: val_loss improved from 0.76756 to 0.76502, saving model to ./model_checkpoint/single-LF-text.h5\n",
      "Epoch 1/3\n",
      "27/27 [==============================] - 1s 13ms/step - loss: 1.0596 - accuracy: 0.5069 - f1_score: 0.3662 - val_loss: 0.9536 - val_accuracy: 0.5452 - val_f1_score: 0.4878\n",
      "\n",
      "Epoch 00001: val_loss improved from inf to 0.95356, saving model to ./model_checkpoint/single-LF-image.h5\n",
      "Epoch 2/3\n",
      "27/27 [==============================] - 0s 6ms/step - loss: 0.9014 - accuracy: 0.5761 - f1_score: 0.4805 - val_loss: 0.9109 - val_accuracy: 0.5870 - val_f1_score: 0.5206\n",
      "\n",
      "Epoch 00002: val_loss improved from 0.95356 to 0.91094, saving model to ./model_checkpoint/single-LF-image.h5\n",
      "Epoch 3/3\n",
      "27/27 [==============================] - 0s 5ms/step - loss: 0.8475 - accuracy: 0.6091 - f1_score: 0.5292 - val_loss: 0.9172 - val_accuracy: 0.5824 - val_f1_score: 0.5055\n",
      "\n",
      "Epoch 00003: val_loss did not improve from 0.91094\n",
      "Checkpoint of text model loaded at epoch: 2\n",
      "Checkpoint of image model loaded at epoch: 1\n",
      "              precision    recall  f1-score   support\n",
      "\n",
      "    negative       0.82      0.09      0.17       149\n",
      "     neutral       0.07      0.62      0.13        21\n",
      "    positive       0.72      0.63      0.67       261\n",
      "\n",
      "    accuracy                           0.45       431\n",
      "   macro avg       0.54      0.45      0.32       431\n",
      "weighted avg       0.73      0.45      0.47       431\n",
      "\n"
     ]
    },
    {
     "data": {
      "image/png": "[encoded data removed]",
      "text/plain": [
       "<Figure size 432x288 with 2 Axes>"
      ]
     },
     "metadata": {
      "needs_background": "light"
     },
     "output_type": "display_data"
    },
    {
     "data": {
      "text/plain": [
       "(0.44547563805104406, 0.3230417297654505)"
      ]
     },
     "execution_count": 18,
     "metadata": {},
     "output_type": "execute_result"
    }
   ],
   "source": [
    "run_and_evaluate_LF('single-LF', mvsa_single_text_features, mvsa_single_image_features, \n",
    "                    mvsa_single_multimodal_labels, mvsa_single_text_labels,mvsa_single_image_labels,\n",
    "                    verbose=1)"
   ]
  },
  {
   "cell_type": "code",
   "execution_count": 19,
   "id": "87b818ea",
   "metadata": {
    "execution": {
     "iopub.execute_input": "2022-07-01T09:53:50.699714Z",
     "iopub.status.busy": "2022-07-01T09:53:50.699330Z",
     "iopub.status.idle": "2022-07-01T09:54:01.679519Z",
     "shell.execute_reply": "2022-07-01T09:54:01.678503Z"
    },
    "papermill": {
     "duration": 10.99326,
     "end_time": "2022-07-01T09:54:01.682018",
     "exception": false,
     "start_time": "2022-07-01T09:53:50.688758",
     "status": "completed"
    },
    "scrolled": true,
    "tags": []
   },
   "outputs": [
    {
     "name": "stdout",
     "output_type": "stream",
     "text": [
      "Epoch 1/3\n",
      "103/103 [==============================] - 4s 19ms/step - loss: 0.7794 - accuracy: 0.6109 - f1_score: 0.3988 - val_loss: 0.7391 - val_accuracy: 0.6325 - val_f1_score: 0.3306\n",
      "\n",
      "Epoch 00001: val_loss improved from inf to 0.73914, saving model to ./model_checkpoint/multiple-LF-text.h5\n",
      "Epoch 2/3\n",
      "103/103 [==============================] - 1s 9ms/step - loss: 0.7317 - accuracy: 0.6296 - f1_score: 0.4506 - val_loss: 0.6948 - val_accuracy: 0.6538 - val_f1_score: 0.4716\n",
      "\n",
      "Epoch 00002: val_loss improved from 0.73914 to 0.69481, saving model to ./model_checkpoint/multiple-LF-text.h5\n",
      "Epoch 3/3\n",
      "103/103 [==============================] - 1s 9ms/step - loss: 0.7105 - accuracy: 0.6427 - f1_score: 0.5153 - val_loss: 0.6865 - val_accuracy: 0.6575 - val_f1_score: 0.4738\n",
      "\n",
      "Epoch 00003: val_loss improved from 0.69481 to 0.68654, saving model to ./model_checkpoint/multiple-LF-text.h5\n",
      "Epoch 1/3\n",
      "103/103 [==============================] - 1s 5ms/step - loss: 0.9020 - accuracy: 0.5596 - f1_score: 0.3737 - val_loss: 0.7915 - val_accuracy: 0.6197 - val_f1_score: 0.3562\n",
      "\n",
      "Epoch 00001: val_loss improved from inf to 0.79146, saving model to ./model_checkpoint/multiple-LF-image.h5\n",
      "Epoch 2/3\n",
      "103/103 [==============================] - 0s 3ms/step - loss: 0.8260 - accuracy: 0.5961 - f1_score: 0.3917 - val_loss: 0.7895 - val_accuracy: 0.6160 - val_f1_score: 0.3632\n",
      "\n",
      "Epoch 00002: val_loss improved from 0.79146 to 0.78951, saving model to ./model_checkpoint/multiple-LF-image.h5\n",
      "Epoch 3/3\n",
      "103/103 [==============================] - 0s 3ms/step - loss: 0.8033 - accuracy: 0.6070 - f1_score: 0.4121 - val_loss: 0.7741 - val_accuracy: 0.6184 - val_f1_score: 0.3650\n",
      "\n",
      "Epoch 00003: val_loss improved from 0.78951 to 0.77409, saving model to ./model_checkpoint/multiple-LF-image.h5\n",
      "Checkpoint of text model loaded at epoch: 2\n",
      "Checkpoint of image model loaded at epoch: 2\n",
      "              precision    recall  f1-score   support\n",
      "\n",
      "    negative       0.60      0.02      0.03       195\n",
      "     neutral       0.37      0.42      0.39       394\n",
      "    positive       0.73      0.82      0.77      1049\n",
      "\n",
      "    accuracy                           0.63      1638\n",
      "   macro avg       0.57      0.42      0.40      1638\n",
      "weighted avg       0.63      0.63      0.59      1638\n",
      "\n"
     ]
    },
    {
     "data": {
      "image/png": "[encoded data removed]",
      "text/plain": [
       "<Figure size 432x288 with 2 Axes>"
      ]
     },
     "metadata": {
      "needs_background": "light"
     },
     "output_type": "display_data"
    },
    {
     "data": {
      "text/plain": [
       "(0.6275946275946276, 0.39810192694364055)"
      ]
     },
     "execution_count": 19,
     "metadata": {},
     "output_type": "execute_result"
    }
   ],
   "source": [
    "run_and_evaluate_LF('multiple-LF', mvsa_multiple_text_features, mvsa_multiple_image_features, \n",
    "                    mvsa_multiple_multimodal_labels, mvsa_multiple_text_labels, mvsa_multiple_image_labels, \n",
    "                    verbose=1)"
   ]
  }
 ],
 "metadata": {
  "kernelspec": {
   "display_name": "Python 3",
   "language": "python",
   "name": "python3"
  },
  "language_info": {
   "codemirror_mode": {
    "name": "ipython",
    "version": 3
   },
   "file_extension": ".py",
   "mimetype": "text/x-python",
   "name": "python",
   "nbconvert_exporter": "python",
   "pygments_lexer": "ipython3",
   "version": "3.7.12"
  },
  "papermill": {
   "default_parameters": {},
   "duration": 65.771797,
   "end_time": "2022-07-01T09:54:04.700246",
   "environment_variables": {},
   "exception": null,
   "input_path": "__notebook__.ipynb",
   "output_path": "__notebook__.ipynb",
   "parameters": {},
   "start_time": "2022-07-01T09:52:58.928449",
   "version": "2.3.4"
  }
 },
 "nbformat": 4,
 "nbformat_minor": 5
}
