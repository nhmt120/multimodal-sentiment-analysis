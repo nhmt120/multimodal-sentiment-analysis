{
 "cells": [
  {
   "cell_type": "code",
   "execution_count": 1,
   "id": "0bf56339",
   "metadata": {
    "_cell_guid": "b1076dfc-b9ad-4769-8c92-a6c4dae69d19",
    "_uuid": "8f2839f25d086af736a60e9eeb907d3b93b6e0e5",
    "execution": {
     "iopub.execute_input": "2022-06-29T17:37:03.748708Z",
     "iopub.status.busy": "2022-06-29T17:37:03.748114Z",
     "iopub.status.idle": "2022-06-29T17:37:17.887437Z",
     "shell.execute_reply": "2022-06-29T17:37:17.886163Z"
    },
    "papermill": {
     "duration": 14.150168,
     "end_time": "2022-06-29T17:37:17.890763",
     "exception": false,
     "start_time": "2022-06-29T17:37:03.740595",
     "status": "completed"
    },
    "tags": []
   },
   "outputs": [],
   "source": [
    "import os\n",
    "import re\n",
    "import gc\n",
    "import cv2\n",
    "import h5py\n",
    "import torch\n",
    "import string\n",
    "import random\n",
    "import numpy as np\n",
    "import tensorflow as tf\n",
    "\n",
    "from tqdm import tqdm\n",
    "from nltk import tokenize\n",
    "from sklearn import preprocessing\n",
    "\n",
    "from keras.preprocessing.text import Tokenizer, text_to_word_sequence\n",
    "from keras.preprocessing.sequence import pad_sequences\n",
    "from keras.utils.np_utils import to_categorical\n",
    "from keras.layers import Rescaling, Resizing\n",
    "from keras import Input\n",
    "from keras.applications.vgg16 import VGG16\n",
    "from keras.applications.vgg19 import VGG19\n",
    "from keras.applications.xception import Xception\n",
    "from tensorflow.keras.applications import ResNet50, ResNet101, ResNet152\n",
    "from transformers import BertTokenizer, BertForMaskedLM, BertModel\n",
    "from tensorflow.keras import Model"
   ]
  },
  {
   "cell_type": "code",
   "execution_count": 2,
   "id": "b425282e",
   "metadata": {
    "execution": {
     "iopub.execute_input": "2022-06-29T17:37:17.916877Z",
     "iopub.status.busy": "2022-06-29T17:37:17.915499Z",
     "iopub.status.idle": "2022-06-29T17:37:17.921297Z",
     "shell.execute_reply": "2022-06-29T17:37:17.919943Z"
    },
    "papermill": {
     "duration": 0.014648,
     "end_time": "2022-06-29T17:37:17.923851",
     "exception": false,
     "start_time": "2022-06-29T17:37:17.909203",
     "status": "completed"
    },
    "tags": []
   },
   "outputs": [],
   "source": [
    "IMAGE_SIZE = (224, 224)\n",
    "NUM_CHANNELS = 3"
   ]
  },
  {
   "cell_type": "code",
   "execution_count": 3,
   "id": "35174c9b",
   "metadata": {
    "execution": {
     "iopub.execute_input": "2022-06-29T17:37:17.934847Z",
     "iopub.status.busy": "2022-06-29T17:37:17.933828Z",
     "iopub.status.idle": "2022-06-29T17:37:17.939583Z",
     "shell.execute_reply": "2022-06-29T17:37:17.938379Z"
    },
    "papermill": {
     "duration": 0.013674,
     "end_time": "2022-06-29T17:37:17.941849",
     "exception": false,
     "start_time": "2022-06-29T17:37:17.928175",
     "status": "completed"
    },
    "tags": []
   },
   "outputs": [],
   "source": [
    "mvsa_single_path = '../input/mvsa-data/mvsa-single-4316.hdf5'\n",
    "mvsa_multiple_path = '../input/mvsa-data/mvsa-multiple-16387.hdf5'"
   ]
  },
  {
   "cell_type": "code",
   "execution_count": 4,
   "id": "b2b58ef3",
   "metadata": {
    "execution": {
     "iopub.execute_input": "2022-06-29T17:37:17.952425Z",
     "iopub.status.busy": "2022-06-29T17:37:17.951649Z",
     "iopub.status.idle": "2022-06-29T17:37:17.958796Z",
     "shell.execute_reply": "2022-06-29T17:37:17.957895Z"
    },
    "papermill": {
     "duration": 0.014905,
     "end_time": "2022-06-29T17:37:17.961028",
     "exception": false,
     "start_time": "2022-06-29T17:37:17.946123",
     "status": "completed"
    },
    "tags": []
   },
   "outputs": [],
   "source": [
    "def read_hdf5(path):\n",
    "    read_file = h5py.File(path, 'r')\n",
    "    \n",
    "    feature_names = list(read_file.keys())\n",
    "    loaded_data = []\n",
    "    \n",
    "    for name in feature_names:\n",
    "        dataset = read_file[name][:]\n",
    "        if dataset.dtype == np.dtype('object'):\n",
    "            dataset = np.array([x.decode('UTF-8') for x in dataset])            \n",
    "        loaded_data.append((name, dataset))\n",
    "\n",
    "    return loaded_data"
   ]
  },
  {
   "cell_type": "code",
   "execution_count": 5,
   "id": "b5f517c5",
   "metadata": {
    "execution": {
     "iopub.execute_input": "2022-06-29T17:37:17.971707Z",
     "iopub.status.busy": "2022-06-29T17:37:17.970921Z",
     "iopub.status.idle": "2022-06-29T17:37:17.980364Z",
     "shell.execute_reply": "2022-06-29T17:37:17.979123Z"
    },
    "papermill": {
     "duration": 0.017601,
     "end_time": "2022-06-29T17:37:17.982844",
     "exception": false,
     "start_time": "2022-06-29T17:37:17.965243",
     "status": "completed"
    },
    "tags": []
   },
   "outputs": [],
   "source": [
    "def load_mvsa_data(path, multiple=False):\n",
    "    data = read_hdf5(path)\n",
    "    for x in data:\n",
    "        if x[0] == 'texts':\n",
    "            texts = x[1]\n",
    "        if x[0] == 'images':\n",
    "            images = x[1]\n",
    "        if x[0] == 'multimodal-labels':\n",
    "            labels = x[1]\n",
    "        if x[0] == 'text-labels':\n",
    "            text_labels = x[1]\n",
    "        if x[0] == 'image-labels':\n",
    "            image_labels = x[1]\n",
    "            \n",
    "#     if multiple == True:\n",
    "    images_path = os.path.join(os.path.split(path)[0], os.path.split(path)[1].split('.')[0] + '-images.npz')\n",
    "#         npzfile = np.load(images_path)\n",
    "#         images = npzfile['arr_0']\n",
    "    images = loadz(images_path)\n",
    "        \n",
    "    return texts, images, labels, text_labels, image_labels\n",
    "\n",
    "def loadz(path):\n",
    "    data = np.load(path)['arr_0']\n",
    "    return data"
   ]
  },
  {
   "cell_type": "markdown",
   "id": "9f5cb70a",
   "metadata": {
    "papermill": {
     "duration": 0.003925,
     "end_time": "2022-06-29T17:37:17.991166",
     "exception": false,
     "start_time": "2022-06-29T17:37:17.987241",
     "status": "completed"
    },
    "tags": []
   },
   "source": [
    "# Load raw data"
   ]
  },
  {
   "cell_type": "code",
   "execution_count": 6,
   "id": "56a36b0d",
   "metadata": {
    "execution": {
     "iopub.execute_input": "2022-06-29T17:37:18.001866Z",
     "iopub.status.busy": "2022-06-29T17:37:18.001128Z",
     "iopub.status.idle": "2022-06-29T17:37:44.901019Z",
     "shell.execute_reply": "2022-06-29T17:37:44.899648Z"
    },
    "papermill": {
     "duration": 26.908651,
     "end_time": "2022-06-29T17:37:44.904097",
     "exception": false,
     "start_time": "2022-06-29T17:37:17.995446",
     "status": "completed"
    },
    "tags": []
   },
   "outputs": [],
   "source": [
    "mvsa_single_texts, mvsa_single_images, \\\n",
    "mvsa_single_multimodal_labels, mvsa_single_text_labels, \\\n",
    "mvsa_single_image_labels = load_mvsa_data(mvsa_single_path)\n",
    "num_mvsa_single = len(mvsa_single_texts)\n",
    "\n",
    "mvsa_multiple_texts, mvsa_multiple_images, \\\n",
    "mvsa_multiple_multimodal_labels, mvsa_multiple_text_labels, \\\n",
    "mvsa_multiple_image_labels = load_mvsa_data(mvsa_multiple_path, multiple=True)\n",
    "num_mvsa_multiple = len(mvsa_multiple_texts)"
   ]
  },
  {
   "cell_type": "markdown",
   "id": "f1aa95a4",
   "metadata": {
    "papermill": {
     "duration": 0.004007,
     "end_time": "2022-06-29T17:37:44.912567",
     "exception": false,
     "start_time": "2022-06-29T17:37:44.908560",
     "status": "completed"
    },
    "tags": []
   },
   "source": [
    "# ResNet152"
   ]
  },
  {
   "cell_type": "code",
   "execution_count": 7,
   "id": "041034bb",
   "metadata": {
    "execution": {
     "iopub.execute_input": "2022-06-29T17:37:44.923303Z",
     "iopub.status.busy": "2022-06-29T17:37:44.922518Z",
     "iopub.status.idle": "2022-06-29T17:37:56.892038Z",
     "shell.execute_reply": "2022-06-29T17:37:56.890834Z"
    },
    "papermill": {
     "duration": 11.978059,
     "end_time": "2022-06-29T17:37:56.894985",
     "exception": false,
     "start_time": "2022-06-29T17:37:44.916926",
     "status": "completed"
    },
    "tags": []
   },
   "outputs": [
    {
     "name": "stderr",
     "output_type": "stream",
     "text": [
      "2022-06-29 17:37:44.988708: I tensorflow/core/common_runtime/process_util.cc:146] Creating new thread pool with default inter op setting: 2. Tune using inter_op_parallelism_threads for best performance.\n"
     ]
    },
    {
     "name": "stdout",
     "output_type": "stream",
     "text": [
      "Downloading data from https://storage.googleapis.com/tensorflow/keras-applications/resnet/resnet152_weights_tf_dim_ordering_tf_kernels.h5\n",
      "242900992/242900224 [==============================] - 6s 0us/step\n",
      "242909184/242900224 [==============================] - 6s 0us/step\n"
     ]
    }
   ],
   "source": [
    "resnet152 = ResNet152(input_shape=(IMAGE_SIZE[0], IMAGE_SIZE[1], NUM_CHANNELS))\n",
    "resnet152.trainable = False # Freeze pre-trained layers\n",
    "resnet152_last = Model(inputs=resnet152.input, outputs=resnet152.layers[-2].output)"
   ]
  },
  {
   "cell_type": "code",
   "execution_count": 8,
   "id": "f320ace8",
   "metadata": {
    "execution": {
     "iopub.execute_input": "2022-06-29T17:37:56.910287Z",
     "iopub.status.busy": "2022-06-29T17:37:56.909860Z",
     "iopub.status.idle": "2022-06-29T17:37:58.502798Z",
     "shell.execute_reply": "2022-06-29T17:37:58.501562Z"
    },
    "papermill": {
     "duration": 1.603715,
     "end_time": "2022-06-29T17:37:58.505552",
     "exception": false,
     "start_time": "2022-06-29T17:37:56.901837",
     "status": "completed"
    },
    "tags": []
   },
   "outputs": [],
   "source": [
    "# Summary of ResNet52 is hidden\n",
    "image_inputs = Input(shape=(IMAGE_SIZE[0], IMAGE_SIZE[1], NUM_CHANNELS))\n",
    "rescale_layer = Rescaling(scale=1./255.) (image_inputs)  # Rescale inputs\n",
    "outputs = resnet152_last (rescale_layer)\n",
    "model_resnet152 = Model(inputs=image_inputs, outputs=outputs)"
   ]
  },
  {
   "cell_type": "code",
   "execution_count": 9,
   "id": "4b279582",
   "metadata": {
    "execution": {
     "iopub.execute_input": "2022-06-29T17:37:58.522097Z",
     "iopub.status.busy": "2022-06-29T17:37:58.521706Z",
     "iopub.status.idle": "2022-06-29T17:52:28.122156Z",
     "shell.execute_reply": "2022-06-29T17:52:28.119349Z"
    },
    "papermill": {
     "duration": 869.612891,
     "end_time": "2022-06-29T17:52:28.126185",
     "exception": false,
     "start_time": "2022-06-29T17:37:58.513294",
     "status": "completed"
    },
    "tags": []
   },
   "outputs": [
    {
     "name": "stdout",
     "output_type": "stream",
     "text": [
      "MVSA-Single: Extracting ResNet152 features of images\n"
     ]
    },
    {
     "name": "stderr",
     "output_type": "stream",
     "text": [
      "2022-06-29 17:38:00.991088: I tensorflow/compiler/mlir/mlir_graph_optimization_pass.cc:185] None of the MLIR Optimization Passes are enabled (registered 2)\n"
     ]
    },
    {
     "name": "stdout",
     "output_type": "stream",
     "text": [
      "135/135 [==============================] - 855s 6s/step\n",
      "ResNet152 last hidden layer dimension: 2048\n",
      "MVSA-Single with ResNet152 last hidden layer: (4316, 2048)\n",
      "True\n"
     ]
    }
   ],
   "source": [
    "print('MVSA-Single: Extracting ResNet152 features of images')\n",
    "mvsa_single_resnet152 = model_resnet152.predict(mvsa_single_images, verbose=1)\n",
    "print('ResNet152 last hidden layer dimension:', mvsa_single_resnet152.shape[1])\n",
    "print('MVSA-Single with ResNet152 last hidden layer:', mvsa_single_resnet152.shape)\n",
    "\n",
    "# save and load check\n",
    "np.savez('./mvsa-single-resnet152', mvsa_single_resnet152)\n",
    "x = loadz('./mvsa-single-resnet152.npz')\n",
    "print((x == mvsa_single_resnet152).all())"
   ]
  },
  {
   "cell_type": "code",
   "execution_count": 10,
   "id": "23a413e9",
   "metadata": {
    "execution": {
     "iopub.execute_input": "2022-06-29T17:52:28.165068Z",
     "iopub.status.busy": "2022-06-29T17:52:28.164547Z",
     "iopub.status.idle": "2022-06-29T18:46:05.221534Z",
     "shell.execute_reply": "2022-06-29T18:46:05.220023Z"
    },
    "papermill": {
     "duration": 3217.080539,
     "end_time": "2022-06-29T18:46:05.224247",
     "exception": false,
     "start_time": "2022-06-29T17:52:28.143708",
     "status": "completed"
    },
    "tags": []
   },
   "outputs": [
    {
     "name": "stdout",
     "output_type": "stream",
     "text": [
      "MVSA-Multiple: Extracting ResNet152 features of images\n",
      "513/513 [==============================] - 3212s 6s/step\n",
      "ResNet152 last hidden layer dimension: 2048\n",
      "MVSA-Multiple with ResNet152 last hidden layer: (16387, 2048)\n",
      "True\n"
     ]
    }
   ],
   "source": [
    "print('MVSA-Multiple: Extracting ResNet152 features of images')\n",
    "mvsa_multiple_resnet152 = model_resnet152.predict(mvsa_multiple_images, verbose=1)\n",
    "print('ResNet152 last hidden layer dimension:', mvsa_multiple_resnet152.shape[1])\n",
    "print('MVSA-Multiple with ResNet152 last hidden layer:', mvsa_multiple_resnet152.shape)\n",
    "\n",
    "# save and load check\n",
    "np.savez('./mvsa-multiple-resnet152', mvsa_multiple_resnet152)\n",
    "x = loadz('./mvsa-multiple-resnet152.npz')\n",
    "print((x == mvsa_multiple_resnet152).all())"
   ]
  }
 ],
 "metadata": {
  "kernelspec": {
   "display_name": "Python 3",
   "language": "python",
   "name": "python3"
  },
  "language_info": {
   "codemirror_mode": {
    "name": "ipython",
    "version": 3
   },
   "file_extension": ".py",
   "mimetype": "text/x-python",
   "name": "python",
   "nbconvert_exporter": "python",
   "pygments_lexer": "ipython3",
   "version": "3.7.12"
  },
  "papermill": {
   "default_parameters": {},
   "duration": 4154.518281,
   "end_time": "2022-06-29T18:46:08.106968",
   "environment_variables": {},
   "exception": null,
   "input_path": "__notebook__.ipynb",
   "output_path": "__notebook__.ipynb",
   "parameters": {},
   "start_time": "2022-06-29T17:36:53.588687",
   "version": "2.3.4"
  }
 },
 "nbformat": 4,
 "nbformat_minor": 5
}
