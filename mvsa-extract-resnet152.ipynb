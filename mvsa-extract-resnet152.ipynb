{
 "cells": [
  {
   "cell_type": "code",
   "execution_count": 1,
   "id": "60f182a4",
   "metadata": {
    "_cell_guid": "b1076dfc-b9ad-4769-8c92-a6c4dae69d19",
    "_uuid": "8f2839f25d086af736a60e9eeb907d3b93b6e0e5",
    "execution": {
     "iopub.execute_input": "2022-07-03T18:37:56.687218Z",
     "iopub.status.busy": "2022-07-03T18:37:56.686743Z",
     "iopub.status.idle": "2022-07-03T18:38:11.986515Z",
     "shell.execute_reply": "2022-07-03T18:38:11.985227Z"
    },
    "papermill": {
     "duration": 15.309904,
     "end_time": "2022-07-03T18:38:11.989729",
     "exception": false,
     "start_time": "2022-07-03T18:37:56.679825",
     "status": "completed"
    },
    "tags": []
   },
   "outputs": [],
   "source": [
    "import os\n",
    "import re\n",
    "import gc\n",
    "import cv2\n",
    "import h5py\n",
    "import torch\n",
    "import string\n",
    "import random\n",
    "import numpy as np\n",
    "import tensorflow as tf\n",
    "\n",
    "from tqdm import tqdm\n",
    "from nltk import tokenize\n",
    "from sklearn import preprocessing\n",
    "\n",
    "from keras.preprocessing.text import Tokenizer, text_to_word_sequence\n",
    "from keras.preprocessing.sequence import pad_sequences\n",
    "from keras.utils.np_utils import to_categorical\n",
    "from keras.layers import Rescaling, Resizing\n",
    "from keras import Input\n",
    "from keras.applications.vgg16 import VGG16\n",
    "from keras.applications.vgg19 import VGG19\n",
    "from keras.applications.xception import Xception\n",
    "from tensorflow.keras.applications import ResNet50, ResNet101, ResNet152\n",
    "from transformers import BertTokenizer, BertForMaskedLM, BertModel\n",
    "from tensorflow.keras import Model"
   ]
  },
  {
   "cell_type": "code",
   "execution_count": 2,
   "id": "a30a0b4f",
   "metadata": {
    "execution": {
     "iopub.execute_input": "2022-07-03T18:38:12.001112Z",
     "iopub.status.busy": "2022-07-03T18:38:11.999872Z",
     "iopub.status.idle": "2022-07-03T18:38:12.006095Z",
     "shell.execute_reply": "2022-07-03T18:38:12.004762Z"
    },
    "papermill": {
     "duration": 0.014446,
     "end_time": "2022-07-03T18:38:12.008798",
     "exception": false,
     "start_time": "2022-07-03T18:38:11.994352",
     "status": "completed"
    },
    "tags": []
   },
   "outputs": [],
   "source": [
    "IMAGE_SIZE = (224, 224)\n",
    "NUM_CHANNELS = 3"
   ]
  },
  {
   "cell_type": "code",
   "execution_count": 3,
   "id": "f02110bf",
   "metadata": {
    "execution": {
     "iopub.execute_input": "2022-07-03T18:38:12.019179Z",
     "iopub.status.busy": "2022-07-03T18:38:12.018781Z",
     "iopub.status.idle": "2022-07-03T18:38:12.023404Z",
     "shell.execute_reply": "2022-07-03T18:38:12.022378Z"
    },
    "papermill": {
     "duration": 0.012952,
     "end_time": "2022-07-03T18:38:12.026253",
     "exception": false,
     "start_time": "2022-07-03T18:38:12.013301",
     "status": "completed"
    },
    "tags": []
   },
   "outputs": [],
   "source": [
    "mvsa_single_path = '../input/mvsa-data/mvsa-single-4511.hdf5'\n",
    "mvsa_multiple_path = '../input/mvsa-data/mvsa-multiple-17024.hdf5'"
   ]
  },
  {
   "cell_type": "code",
   "execution_count": 4,
   "id": "8f0d19d2",
   "metadata": {
    "execution": {
     "iopub.execute_input": "2022-07-03T18:38:12.037025Z",
     "iopub.status.busy": "2022-07-03T18:38:12.036595Z",
     "iopub.status.idle": "2022-07-03T18:38:12.044695Z",
     "shell.execute_reply": "2022-07-03T18:38:12.043324Z"
    },
    "papermill": {
     "duration": 0.017136,
     "end_time": "2022-07-03T18:38:12.047674",
     "exception": false,
     "start_time": "2022-07-03T18:38:12.030538",
     "status": "completed"
    },
    "tags": []
   },
   "outputs": [],
   "source": [
    "def read_hdf5(path):\n",
    "    read_file = h5py.File(path, 'r')\n",
    "    \n",
    "    feature_names = list(read_file.keys())\n",
    "    loaded_data = []\n",
    "    \n",
    "    for name in feature_names:\n",
    "        dataset = read_file[name][:]\n",
    "        if dataset.dtype == np.dtype('object'):\n",
    "            dataset = np.array([x.decode('UTF-8') for x in dataset])            \n",
    "        loaded_data.append((name, dataset))\n",
    "\n",
    "    return loaded_data"
   ]
  },
  {
   "cell_type": "code",
   "execution_count": 5,
   "id": "e553b640",
   "metadata": {
    "execution": {
     "iopub.execute_input": "2022-07-03T18:38:12.058388Z",
     "iopub.status.busy": "2022-07-03T18:38:12.057479Z",
     "iopub.status.idle": "2022-07-03T18:38:12.067170Z",
     "shell.execute_reply": "2022-07-03T18:38:12.066256Z"
    },
    "papermill": {
     "duration": 0.017742,
     "end_time": "2022-07-03T18:38:12.069629",
     "exception": false,
     "start_time": "2022-07-03T18:38:12.051887",
     "status": "completed"
    },
    "tags": []
   },
   "outputs": [],
   "source": [
    "def load_mvsa_data(path, multiple=False):\n",
    "    data = read_hdf5(path)\n",
    "    for x in data:\n",
    "        if x[0] == 'texts':\n",
    "            texts = x[1]\n",
    "        if x[0] == 'multimodal-labels':\n",
    "            labels = x[1]\n",
    "        if x[0] == 'text-labels':\n",
    "            text_labels = x[1]\n",
    "        if x[0] == 'image-labels':\n",
    "            image_labels = x[1]\n",
    "            \n",
    "    images_path = os.path.join(os.path.split(path)[0], os.path.split(path)[1].split('.')[0] + '-images.npz')\n",
    "    images = loadz(images_path)\n",
    "        \n",
    "    return texts, images, labels, text_labels, image_labels\n",
    "\n",
    "def loadz(path):\n",
    "    data = np.load(path)['arr_0']\n",
    "    return data"
   ]
  },
  {
   "cell_type": "markdown",
   "id": "1b6e372a",
   "metadata": {
    "papermill": {
     "duration": 0.003783,
     "end_time": "2022-07-03T18:38:12.077524",
     "exception": false,
     "start_time": "2022-07-03T18:38:12.073741",
     "status": "completed"
    },
    "tags": []
   },
   "source": [
    "# Load raw data"
   ]
  },
  {
   "cell_type": "code",
   "execution_count": 6,
   "id": "23b8af2d",
   "metadata": {
    "execution": {
     "iopub.execute_input": "2022-07-03T18:38:12.087637Z",
     "iopub.status.busy": "2022-07-03T18:38:12.087248Z",
     "iopub.status.idle": "2022-07-03T18:38:38.717295Z",
     "shell.execute_reply": "2022-07-03T18:38:38.716050Z"
    },
    "papermill": {
     "duration": 26.638507,
     "end_time": "2022-07-03T18:38:38.720170",
     "exception": false,
     "start_time": "2022-07-03T18:38:12.081663",
     "status": "completed"
    },
    "tags": []
   },
   "outputs": [],
   "source": [
    "mvsa_single_texts, mvsa_single_images, \\\n",
    "mvsa_single_multimodal_labels, mvsa_single_text_labels, \\\n",
    "mvsa_single_image_labels = load_mvsa_data(mvsa_single_path)\n",
    "num_mvsa_single = len(mvsa_single_texts)\n",
    "\n",
    "mvsa_multiple_texts, mvsa_multiple_images, \\\n",
    "mvsa_multiple_multimodal_labels, mvsa_multiple_text_labels, \\\n",
    "mvsa_multiple_image_labels = load_mvsa_data(mvsa_multiple_path)\n",
    "num_mvsa_multiple = len(mvsa_multiple_texts)"
   ]
  },
  {
   "cell_type": "markdown",
   "id": "97808cab",
   "metadata": {
    "papermill": {
     "duration": 0.004105,
     "end_time": "2022-07-03T18:38:38.729122",
     "exception": false,
     "start_time": "2022-07-03T18:38:38.725017",
     "status": "completed"
    },
    "tags": []
   },
   "source": [
    "# ResNet152"
   ]
  },
  {
   "cell_type": "code",
   "execution_count": 7,
   "id": "b5c54a7e",
   "metadata": {
    "execution": {
     "iopub.execute_input": "2022-07-03T18:38:38.739838Z",
     "iopub.status.busy": "2022-07-03T18:38:38.739439Z",
     "iopub.status.idle": "2022-07-03T18:38:45.018954Z",
     "shell.execute_reply": "2022-07-03T18:38:45.017688Z"
    },
    "papermill": {
     "duration": 6.28809,
     "end_time": "2022-07-03T18:38:45.021732",
     "exception": false,
     "start_time": "2022-07-03T18:38:38.733642",
     "status": "completed"
    },
    "tags": []
   },
   "outputs": [
    {
     "name": "stderr",
     "output_type": "stream",
     "text": [
      "2022-07-03 18:38:38.811443: I tensorflow/core/common_runtime/process_util.cc:146] Creating new thread pool with default inter op setting: 2. Tune using inter_op_parallelism_threads for best performance.\n"
     ]
    },
    {
     "name": "stdout",
     "output_type": "stream",
     "text": [
      "Downloading data from https://storage.googleapis.com/tensorflow/keras-applications/resnet/resnet152_weights_tf_dim_ordering_tf_kernels.h5\n",
      "242900992/242900224 [==============================] - 1s 0us/step\n",
      "242909184/242900224 [==============================] - 1s 0us/step\n"
     ]
    }
   ],
   "source": [
    "resnet152 = ResNet152(input_shape=(IMAGE_SIZE[0], IMAGE_SIZE[1], NUM_CHANNELS))\n",
    "resnet152.trainable = False # Freeze pre-trained layers\n",
    "resnet152_last = Model(inputs=resnet152.input, outputs=resnet152.layers[-2].output)"
   ]
  },
  {
   "cell_type": "code",
   "execution_count": 8,
   "id": "c112da63",
   "metadata": {
    "execution": {
     "iopub.execute_input": "2022-07-03T18:38:45.036355Z",
     "iopub.status.busy": "2022-07-03T18:38:45.035946Z",
     "iopub.status.idle": "2022-07-03T18:38:46.302643Z",
     "shell.execute_reply": "2022-07-03T18:38:46.301355Z"
    },
    "papermill": {
     "duration": 1.277593,
     "end_time": "2022-07-03T18:38:46.305647",
     "exception": false,
     "start_time": "2022-07-03T18:38:45.028054",
     "status": "completed"
    },
    "tags": []
   },
   "outputs": [],
   "source": [
    "# Summary of ResNet52 is hidden\n",
    "image_inputs = Input(shape=(IMAGE_SIZE[0], IMAGE_SIZE[1], NUM_CHANNELS))\n",
    "rescale_layer = Rescaling(scale=1./255.) (image_inputs)  # Rescale inputs\n",
    "outputs = resnet152_last (rescale_layer)\n",
    "model_resnet152 = Model(inputs=image_inputs, outputs=outputs)"
   ]
  },
  {
   "cell_type": "code",
   "execution_count": 9,
   "id": "4a8011df",
   "metadata": {
    "execution": {
     "iopub.execute_input": "2022-07-03T18:38:46.321123Z",
     "iopub.status.busy": "2022-07-03T18:38:46.319999Z",
     "iopub.status.idle": "2022-07-03T18:53:38.833073Z",
     "shell.execute_reply": "2022-07-03T18:53:38.831082Z"
    },
    "papermill": {
     "duration": 892.52382,
     "end_time": "2022-07-03T18:53:38.836056",
     "exception": false,
     "start_time": "2022-07-03T18:38:46.312236",
     "status": "completed"
    },
    "tags": []
   },
   "outputs": [
    {
     "name": "stdout",
     "output_type": "stream",
     "text": [
      "MVSA-Single: Extracting ResNet152 features of images\n"
     ]
    },
    {
     "name": "stderr",
     "output_type": "stream",
     "text": [
      "2022-07-03 18:38:47.096336: I tensorflow/compiler/mlir/mlir_graph_optimization_pass.cc:185] None of the MLIR Optimization Passes are enabled (registered 2)\n"
     ]
    },
    {
     "name": "stdout",
     "output_type": "stream",
     "text": [
      "141/141 [==============================] - 892s 6s/step\n",
      "ResNet152 last hidden layer dimension: 2048\n",
      "MVSA-Single with ResNet152 last hidden layer: (4511, 2048)\n",
      "True\n"
     ]
    }
   ],
   "source": [
    "print('MVSA-Single: Extracting ResNet152 features of images')\n",
    "mvsa_single_resnet152 = model_resnet152.predict(mvsa_single_images, verbose=1)\n",
    "print('ResNet152 last hidden layer dimension:', mvsa_single_resnet152.shape[1])\n",
    "print('MVSA-Single with ResNet152 last hidden layer:', mvsa_single_resnet152.shape)\n",
    "\n",
    "# save and load check\n",
    "np.savez('./mvsa-single-resnet152', mvsa_single_resnet152)\n",
    "x = loadz('./mvsa-single-resnet152.npz')\n",
    "print((x == mvsa_single_resnet152).all())"
   ]
  },
  {
   "cell_type": "code",
   "execution_count": 10,
   "id": "2a626098",
   "metadata": {
    "execution": {
     "iopub.execute_input": "2022-07-03T18:53:38.872007Z",
     "iopub.status.busy": "2022-07-03T18:53:38.871347Z",
     "iopub.status.idle": "2022-07-03T19:49:31.571426Z",
     "shell.execute_reply": "2022-07-03T19:49:31.569925Z"
    },
    "papermill": {
     "duration": 3352.721507,
     "end_time": "2022-07-03T19:49:31.574252",
     "exception": false,
     "start_time": "2022-07-03T18:53:38.852745",
     "status": "completed"
    },
    "tags": []
   },
   "outputs": [
    {
     "name": "stdout",
     "output_type": "stream",
     "text": [
      "MVSA-Multiple: Extracting ResNet152 features of images\n",
      "532/532 [==============================] - 3348s 6s/step\n",
      "ResNet152 last hidden layer dimension: 2048\n",
      "MVSA-Multiple with ResNet152 last hidden layer: (17024, 2048)\n",
      "True\n"
     ]
    }
   ],
   "source": [
    "print('MVSA-Multiple: Extracting ResNet152 features of images')\n",
    "mvsa_multiple_resnet152 = model_resnet152.predict(mvsa_multiple_images, verbose=1)\n",
    "print('ResNet152 last hidden layer dimension:', mvsa_multiple_resnet152.shape[1])\n",
    "print('MVSA-Multiple with ResNet152 last hidden layer:', mvsa_multiple_resnet152.shape)\n",
    "\n",
    "# save and load check\n",
    "np.savez('./mvsa-multiple-resnet152', mvsa_multiple_resnet152)\n",
    "x = loadz('./mvsa-multiple-resnet152.npz')\n",
    "print((x == mvsa_multiple_resnet152).all())"
   ]
  }
 ],
 "metadata": {
  "kernelspec": {
   "display_name": "Python 3",
   "language": "python",
   "name": "python3"
  },
  "language_info": {
   "codemirror_mode": {
    "name": "ipython",
    "version": 3
   },
   "file_extension": ".py",
   "mimetype": "text/x-python",
   "name": "python",
   "nbconvert_exporter": "python",
   "pygments_lexer": "ipython3",
   "version": "3.7.12"
  },
  "papermill": {
   "default_parameters": {},
   "duration": 4309.500728,
   "end_time": "2022-07-03T19:49:35.751606",
   "environment_variables": {},
   "exception": null,
   "input_path": "__notebook__.ipynb",
   "output_path": "__notebook__.ipynb",
   "parameters": {},
   "start_time": "2022-07-03T18:37:46.250878",
   "version": "2.3.4"
  }
 },
 "nbformat": 4,
 "nbformat_minor": 5
}
