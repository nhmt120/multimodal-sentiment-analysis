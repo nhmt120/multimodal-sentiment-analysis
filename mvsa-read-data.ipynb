{
 "cells": [
  {
   "cell_type": "code",
   "execution_count": 1,
   "id": "df37e394",
   "metadata": {
    "execution": {
     "iopub.execute_input": "2022-06-17T16:09:20.182061Z",
     "iopub.status.busy": "2022-06-17T16:09:20.181553Z",
     "iopub.status.idle": "2022-06-17T16:09:26.431316Z",
     "shell.execute_reply": "2022-06-17T16:09:26.430171Z"
    },
    "papermill": {
     "duration": 6.268632,
     "end_time": "2022-06-17T16:09:26.433994",
     "exception": false,
     "start_time": "2022-06-17T16:09:20.165362",
     "status": "completed"
    },
    "tags": []
   },
   "outputs": [],
   "source": [
    "import os\n",
    "import gc\n",
    "import cv2\n",
    "import h5py\n",
    "import numpy as np\n",
    "import pandas as pd\n",
    "import tensorflow as tf\n",
    "\n",
    "from tqdm import tqdm\n",
    "from  matplotlib import pyplot as plt"
   ]
  },
  {
   "cell_type": "code",
   "execution_count": 2,
   "id": "bf3d5e02",
   "metadata": {
    "execution": {
     "iopub.execute_input": "2022-06-17T16:09:26.463300Z",
     "iopub.status.busy": "2022-06-17T16:09:26.462247Z",
     "iopub.status.idle": "2022-06-17T16:09:26.468844Z",
     "shell.execute_reply": "2022-06-17T16:09:26.467774Z"
    },
    "papermill": {
     "duration": 0.023446,
     "end_time": "2022-06-17T16:09:26.471121",
     "exception": false,
     "start_time": "2022-06-17T16:09:26.447675",
     "status": "completed"
    },
    "tags": []
   },
   "outputs": [],
   "source": [
    "mvsa_single_data_path = '../input/mvsasingle/MVSA_Single/data'\n",
    "mvsa_single_label_path = '../input/mvsasingle/MVSA_Single/labelResultAll.txt'\n",
    "mvsa_multiple_data_path = '../input/mvsamultiple/MVSA/data'\n",
    "mvsa_multiple_label_path = '../input/mvsamultiple/MVSA/labelResultAll.txt'\n",
    "\n",
    "IMAGE_SIZE = (224, 224)\n",
    "NUM_CHANNELS = 3"
   ]
  },
  {
   "cell_type": "code",
   "execution_count": 3,
   "id": "369b230c",
   "metadata": {
    "execution": {
     "iopub.execute_input": "2022-06-17T16:09:26.499965Z",
     "iopub.status.busy": "2022-06-17T16:09:26.499563Z",
     "iopub.status.idle": "2022-06-17T16:09:26.509195Z",
     "shell.execute_reply": "2022-06-17T16:09:26.508396Z"
    },
    "papermill": {
     "duration": 0.026781,
     "end_time": "2022-06-17T16:09:26.511120",
     "exception": false,
     "start_time": "2022-06-17T16:09:26.484339",
     "status": "completed"
    },
    "tags": []
   },
   "outputs": [],
   "source": [
    "def read_text_file(path, multi_line=False):\n",
    "    if multi_line == True:\n",
    "        lines = open(path, 'r', encoding='latin-1').readlines()\n",
    "        lines = [line.rstrip('\\n') for line in lines]\n",
    "        return lines\n",
    "    return open(path, 'r', encoding='latin-1').read()\n",
    "\n",
    "def read_image_file(path):\n",
    "    try:\n",
    "        image = cv2.imread(path, cv2.COLOR_BGR2RGB)\n",
    "        image = cv2.resize(image, IMAGE_SIZE, interpolation = cv2.INTER_AREA)\n",
    "        invalid_ID = -1\n",
    "    except:\n",
    "        image = np.zeros((IMAGE_SIZE[0], IMAGE_SIZE[1], NUM_CHANNELS))\n",
    "        invalid_ID = int(os.path.split(path)[1].split('.')[0])\n",
    "    return image, invalid_ID\n",
    "\n",
    "def read_labels_file(path):\n",
    "    dataframe = pd.read_csv(path, sep=\"\\s+|,\", engine=\"python\")\n",
    "    return dataframe"
   ]
  },
  {
   "cell_type": "code",
   "execution_count": 4,
   "id": "7360e9ef",
   "metadata": {
    "execution": {
     "iopub.execute_input": "2022-06-17T16:09:26.539971Z",
     "iopub.status.busy": "2022-06-17T16:09:26.539034Z",
     "iopub.status.idle": "2022-06-17T16:09:26.552347Z",
     "shell.execute_reply": "2022-06-17T16:09:26.551388Z"
    },
    "papermill": {
     "duration": 0.029753,
     "end_time": "2022-06-17T16:09:26.554467",
     "exception": false,
     "start_time": "2022-06-17T16:09:26.524714",
     "status": "completed"
    },
    "tags": []
   },
   "outputs": [],
   "source": [
    "# since there are 3 annotators defining each data labels in the MVSA-Multiple dataset\n",
    "# we take the labels pair that 2 out 3 annotators agree on as the valid labels pair, remove otherwise\n",
    "def merge_multi_label(dataframe):\n",
    "    anno_1 = list(dataframe.iloc[:, 1:3].itertuples(index=False, name=None))\n",
    "    anno_2 = list(dataframe.iloc[:, 3:5].itertuples(index=False, name=None))\n",
    "    anno_3 = list(dataframe.iloc[:, 5:7].itertuples(index=False, name=None))\n",
    "    IDs = list(dataframe.iloc[:, 0])\n",
    "    \n",
    "    valid_pairs = []\n",
    "    \n",
    "    for i in range(len(anno_1)):\n",
    "        pairs = [anno_1[i], anno_2[i], anno_3[i]]\n",
    "        ID = IDs[i]\n",
    "        \n",
    "        valid_pair = tuple([pair for pair in pairs if pairs.count(pair) > 1])\n",
    "        \n",
    "        if len(valid_pair) == 0:\n",
    "            valid_pair = (ID, 'invalid', 'invalid')\n",
    "        else:\n",
    "            valid_pair = (ID, valid_pair[0][0], valid_pair[0][1])\n",
    "        valid_pairs.append(valid_pair)\n",
    "        \n",
    "    valid_dataframe = pd.DataFrame(valid_pairs, columns=['ID', 'text', 'image'])\n",
    "    return valid_dataframe\n",
    "\n",
    "def multimodal_label(text_label, image_label):\n",
    "    if text_label == image_label:\n",
    "        label = text_label\n",
    "    elif (text_label == 'positive' and image_label == 'negative') or (text_label == 'negative' and image_label == 'positive'):\n",
    "        label = 'invalid'\n",
    "    elif (text_label == 'neutral' and image_label != 'neutral') or (text_label != 'neutral' or image_label == 'neutral'):\n",
    "        label = image_label if text_label == 'neutral' else text_label\n",
    "    return label"
   ]
  },
  {
   "cell_type": "code",
   "execution_count": 5,
   "id": "204db301",
   "metadata": {
    "execution": {
     "iopub.execute_input": "2022-06-17T16:09:26.583225Z",
     "iopub.status.busy": "2022-06-17T16:09:26.582746Z",
     "iopub.status.idle": "2022-06-17T16:09:26.590976Z",
     "shell.execute_reply": "2022-06-17T16:09:26.589709Z"
    },
    "papermill": {
     "duration": 0.025494,
     "end_time": "2022-06-17T16:09:26.593016",
     "exception": false,
     "start_time": "2022-06-17T16:09:26.567522",
     "status": "completed"
    },
    "tags": []
   },
   "outputs": [],
   "source": [
    "def get_data_paths(path, extension):\n",
    "    paths = os.listdir(path)\n",
    "    paths.sort(key = lambda x : int(x.split('.')[0]))\n",
    "    paths = list(filter(lambda x: x.endswith(extension), paths))\n",
    "    paths = [os.path.join(path, x) for x in paths]\n",
    "    return paths\n",
    "\n",
    "def get_image_with_id(path):\n",
    "    filename = os.path.split(path)[1]\n",
    "    ID = int(filename.split('.')[0])\n",
    "    image = read_image_file(path)\n",
    "    return (ID, image)"
   ]
  },
  {
   "cell_type": "code",
   "execution_count": 6,
   "id": "60ff9fc1",
   "metadata": {
    "execution": {
     "iopub.execute_input": "2022-06-17T16:09:26.624987Z",
     "iopub.status.busy": "2022-06-17T16:09:26.624448Z",
     "iopub.status.idle": "2022-06-17T16:09:26.628880Z",
     "shell.execute_reply": "2022-06-17T16:09:26.628126Z"
    },
    "papermill": {
     "duration": 0.023112,
     "end_time": "2022-06-17T16:09:26.630891",
     "exception": false,
     "start_time": "2022-06-17T16:09:26.607779",
     "status": "completed"
    },
    "tags": []
   },
   "outputs": [],
   "source": [
    "def create_original_labels(path):\n",
    "    dataframe = read_labels_file(path)\n",
    "    text_labels = dataframe['text'].to_numpy()\n",
    "    image_labels = dataframe['image'].to_numpy()\n",
    "    return text_labels, image_labels"
   ]
  },
  {
   "cell_type": "code",
   "execution_count": 7,
   "id": "298f4f61",
   "metadata": {
    "execution": {
     "iopub.execute_input": "2022-06-17T16:09:26.660599Z",
     "iopub.status.busy": "2022-06-17T16:09:26.660075Z",
     "iopub.status.idle": "2022-06-17T16:09:26.672072Z",
     "shell.execute_reply": "2022-06-17T16:09:26.671121Z"
    },
    "papermill": {
     "duration": 0.029596,
     "end_time": "2022-06-17T16:09:26.674379",
     "exception": false,
     "start_time": "2022-06-17T16:09:26.644783",
     "status": "completed"
    },
    "tags": []
   },
   "outputs": [],
   "source": [
    "def create_multimodal_labels(path, multiple=False, mappings=False):\n",
    "    dataframe = read_labels_file(path)\n",
    "    \n",
    "    if multiple == True:\n",
    "        dataframe = merge_multi_label(dataframe)\n",
    "\n",
    "    labels = []\n",
    "    for label_pair in dataframe.iloc[:, 1:].values:\n",
    "        label = multimodal_label(label_pair[0], label_pair[1])\n",
    "        labels.append(label)\n",
    "        \n",
    "    if mappings == True:\n",
    "        label_map = {}\n",
    "        for i in range(len(labels)):\n",
    "            ID = dataframe.iloc[i, 0]\n",
    "            label_map[ID] = labels[i]            \n",
    "        return label_map\n",
    "    \n",
    "    return np.array(labels, dtype='object')\n",
    "\n",
    "def create_text_data(path):\n",
    "    texts = []\n",
    "    text_paths = get_data_paths(path, '.txt')\n",
    "    \n",
    "    print('Read text data')\n",
    "    for text_path in tqdm(text_paths):\n",
    "        text = read_text_file(text_path).rstrip('\\n')\n",
    "        texts.append(text)\n",
    "        \n",
    "    return texts\n",
    "\n",
    "def create_image_data(path):\n",
    "    images = np.array([])\n",
    "\n",
    "    invalid_indices = []\n",
    "    image_paths = get_data_paths(path, '.jpg')\n",
    "\n",
    "    print('Read image data')\n",
    "    for image_path in tqdm(image_paths):\n",
    "        image, invalid_ID = read_image_file(image_path)\n",
    "        if images.shape[0] == 0:\n",
    "            images = np.array([image])\n",
    "        else:\n",
    "            images = np.concatenate((images, [image]))\n",
    "\n",
    "        if invalid_ID != -1:\n",
    "            invalid_indices.append(invalid_ID)\n",
    "            \n",
    "    return images, invalid_indices"
   ]
  },
  {
   "cell_type": "code",
   "execution_count": 8,
   "id": "add54390",
   "metadata": {
    "execution": {
     "iopub.execute_input": "2022-06-17T16:09:26.706708Z",
     "iopub.status.busy": "2022-06-17T16:09:26.706329Z",
     "iopub.status.idle": "2022-06-17T16:09:26.712593Z",
     "shell.execute_reply": "2022-06-17T16:09:26.711422Z"
    },
    "papermill": {
     "duration": 0.027327,
     "end_time": "2022-06-17T16:09:26.714758",
     "exception": false,
     "start_time": "2022-06-17T16:09:26.687431",
     "status": "completed"
    },
    "tags": []
   },
   "outputs": [],
   "source": [
    "def create_image_data0(path):\n",
    "    images = []\n",
    "#     images = np.array([])\n",
    "\n",
    "    invalid_indices = []\n",
    "    image_paths = get_data_paths(path, '.jpg')\n",
    "\n",
    "    print('Read image data')\n",
    "    for image_path in tqdm(image_paths):\n",
    "        image, invalid_ID = read_image_file(image_path)\n",
    "#         if images.shape[0] == 0:\n",
    "#             images = np.array([image])\n",
    "#         else:\n",
    "#             images = np.concatenate((images, [image]))\n",
    "        images.append(image)\n",
    "\n",
    "        if invalid_ID != -1:\n",
    "            invalid_indices.append(invalid_ID)\n",
    "            \n",
    "    return images, invalid_indices"
   ]
  },
  {
   "cell_type": "code",
   "execution_count": 9,
   "id": "f085b97f",
   "metadata": {
    "execution": {
     "iopub.execute_input": "2022-06-17T16:09:26.742508Z",
     "iopub.status.busy": "2022-06-17T16:09:26.742136Z",
     "iopub.status.idle": "2022-06-17T16:09:26.746796Z",
     "shell.execute_reply": "2022-06-17T16:09:26.745887Z"
    },
    "papermill": {
     "duration": 0.021061,
     "end_time": "2022-06-17T16:09:26.748922",
     "exception": false,
     "start_time": "2022-06-17T16:09:26.727861",
     "status": "completed"
    },
    "tags": []
   },
   "outputs": [],
   "source": [
    "# def invalid_indices(labels):\n",
    "#     invalid_indices = [i for i in range(labels.shape[0]) if labels[i] == 'invalid']\n",
    "#     return indices\n",
    "\n",
    "def remove_invalid(data, indices):\n",
    "    new_data =  np.delete(data, indices, axis=0)\n",
    "    return new_data"
   ]
  },
  {
   "cell_type": "code",
   "execution_count": 10,
   "id": "b3155c01",
   "metadata": {
    "execution": {
     "iopub.execute_input": "2022-06-17T16:09:26.777548Z",
     "iopub.status.busy": "2022-06-17T16:09:26.777178Z",
     "iopub.status.idle": "2022-06-17T16:09:26.781868Z",
     "shell.execute_reply": "2022-06-17T16:09:26.780995Z"
    },
    "papermill": {
     "duration": 0.021398,
     "end_time": "2022-06-17T16:09:26.783886",
     "exception": false,
     "start_time": "2022-06-17T16:09:26.762488",
     "status": "completed"
    },
    "tags": []
   },
   "outputs": [],
   "source": [
    "def save_text_file(filename, lines):\n",
    "    with open(filename, 'w', encoding='latin1') as f:\n",
    "        f.write('\\n'.join(lines))"
   ]
  },
  {
   "cell_type": "code",
   "execution_count": 11,
   "id": "e99eb27f",
   "metadata": {
    "execution": {
     "iopub.execute_input": "2022-06-17T16:09:26.812313Z",
     "iopub.status.busy": "2022-06-17T16:09:26.811130Z",
     "iopub.status.idle": "2022-06-17T16:09:26.820769Z",
     "shell.execute_reply": "2022-06-17T16:09:26.819733Z"
    },
    "papermill": {
     "duration": 0.026154,
     "end_time": "2022-06-17T16:09:26.823082",
     "exception": false,
     "start_time": "2022-06-17T16:09:26.796928",
     "status": "completed"
    },
    "tags": []
   },
   "outputs": [],
   "source": [
    "# for loading saved output data\n",
    "def load_mvsa_data(path):\n",
    "    read_file = h5py.File(path, 'r')\n",
    "    \n",
    "    texts = read_file['texts'][:]\n",
    "    texts = np.array([x.decode('UTF-8') for x in texts]) # decode to utf-8 because hd5py save text object as binary string b'' thingy\n",
    "    \n",
    "    images = read_file['images'][:]\n",
    "    \n",
    "    multimodal_labels = read_file['multimodal-labels'][:]\n",
    "    multimodal_labels = np.array([x.decode('UTF-8') for x in multimodal_labels])\n",
    "\n",
    "    text_labels = read_file['text-labels'][:]\n",
    "    text_labels = np.array([x.decode('UTF-8') for x in text_labels])\n",
    "\n",
    "    image_labels = read_file['image-labels'][:]\n",
    "    image_labels = np.array([x.decode('UTF-8') for x in image_labels])\n",
    "\n",
    "    return texts, images, multimodal_labels, text_labels, image_labels"
   ]
  },
  {
   "cell_type": "markdown",
   "id": "c76f07ef",
   "metadata": {
    "papermill": {
     "duration": 0.01334,
     "end_time": "2022-06-17T16:09:26.850425",
     "exception": false,
     "start_time": "2022-06-17T16:09:26.837085",
     "status": "completed"
    },
    "tags": []
   },
   "source": [
    "# MVSA-Single"
   ]
  },
  {
   "cell_type": "code",
   "execution_count": 12,
   "id": "23c128cb",
   "metadata": {
    "execution": {
     "iopub.execute_input": "2022-06-17T16:09:26.880711Z",
     "iopub.status.busy": "2022-06-17T16:09:26.880323Z",
     "iopub.status.idle": "2022-06-17T16:09:26.884162Z",
     "shell.execute_reply": "2022-06-17T16:09:26.883096Z"
    },
    "papermill": {
     "duration": 0.021263,
     "end_time": "2022-06-17T16:09:26.886232",
     "exception": false,
     "start_time": "2022-06-17T16:09:26.864969",
     "status": "completed"
    },
    "tags": []
   },
   "outputs": [],
   "source": [
    "# mvsa_single_texts = create_text_data(mvsa_single_data_path)\n",
    "# mvsa_single_images, mvsa_single_images_invalid_indices = create_image_data(mvsa_single_data_path)\n",
    "# mvsa_single_multimodal_labels = create_multimodal_labels(mvsa_single_label_path)\n",
    "# mvsa_single_text_labels, mvsa_single_image_labels = create_original_labels(mvsa_single_label_path)"
   ]
  },
  {
   "cell_type": "code",
   "execution_count": 13,
   "id": "2bb48222",
   "metadata": {
    "execution": {
     "iopub.execute_input": "2022-06-17T16:09:26.915268Z",
     "iopub.status.busy": "2022-06-17T16:09:26.914886Z",
     "iopub.status.idle": "2022-06-17T16:09:26.919446Z",
     "shell.execute_reply": "2022-06-17T16:09:26.918340Z"
    },
    "papermill": {
     "duration": 0.021979,
     "end_time": "2022-06-17T16:09:26.921571",
     "exception": false,
     "start_time": "2022-06-17T16:09:26.899592",
     "status": "completed"
    },
    "tags": []
   },
   "outputs": [],
   "source": [
    "# # Get duplicated text indices\n",
    "# mvsa_single_texts_unique_indices = np.unique(mvsa_single_texts, return_index=True)[1]\n",
    "# mvsa_single_texts_duplicated_indices = [i for i in range(mvsa_single_texts.shape[0]) if i not in mvsa_single_texts_unique_indices]\n",
    "\n",
    "# # Get invalid label indices\n",
    "# mvsa_single_multimodal_labels_invalid_indices = [i for i in range(mvsa_single_multimodal_labels.shape[0]) if mvsa_single_multimodal_labels[i] == 'invalid']"
   ]
  },
  {
   "cell_type": "code",
   "execution_count": 14,
   "id": "c0e34135",
   "metadata": {
    "execution": {
     "iopub.execute_input": "2022-06-17T16:09:26.949740Z",
     "iopub.status.busy": "2022-06-17T16:09:26.949363Z",
     "iopub.status.idle": "2022-06-17T16:09:26.953409Z",
     "shell.execute_reply": "2022-06-17T16:09:26.952611Z"
    },
    "papermill": {
     "duration": 0.02028,
     "end_time": "2022-06-17T16:09:26.955232",
     "exception": false,
     "start_time": "2022-06-17T16:09:26.934952",
     "status": "completed"
    },
    "tags": []
   },
   "outputs": [],
   "source": [
    "# print('Number of text-image pair in MVSA-Single:', mvsa_single_multimodal_labels.shape[0])\n",
    "\n",
    "# mvsa_single_invalid_indices = []\n",
    "# mvsa_single_invalid_indices.extend(mvsa_single_texts_duplicated_indices)\n",
    "# mvsa_single_invalid_indices.extend(mvsa_single_images_invalid_indices) # corrupted images\n",
    "# mvsa_single_invalid_indices.extend(mvsa_single_multimodal_labels_invalid_indices)\n",
    "# mvsa_single_invalid_indices = list(set(mvsa_single_invalid_indices))\n",
    "# print('Number of invalid data in MVSA-Single:', len(mvsa_single_invalid_indices))\n",
    "\n",
    "# mvsa_single_texts_valid = remove_invalid(mvsa_single_texts, mvsa_single_invalid_indices)\n",
    "# mvsa_single_images_valid = remove_invalid(mvsa_single_images, mvsa_single_invalid_indices)\n",
    "# mvsa_single_multimodal_labels_valid = remove_invalid(mvsa_single_multimodal_labels, mvsa_single_invalid_indices)\n",
    "# mvsa_single_text_labels_valid = remove_invalid(mvsa_single_text_labels, mvsa_single_invalid_indices)\n",
    "# mvsa_single_image_labels_valid = remove_invalid(mvsa_single_image_labels, mvsa_single_invalid_indices)\n",
    "\n",
    "# print('Number of text-image pair in MVSA-Single after removing invalid data:', mvsa_single_texts_valid.shape[0])"
   ]
  },
  {
   "cell_type": "code",
   "execution_count": 15,
   "id": "6147e7bc",
   "metadata": {
    "execution": {
     "iopub.execute_input": "2022-06-17T16:09:26.982981Z",
     "iopub.status.busy": "2022-06-17T16:09:26.982472Z",
     "iopub.status.idle": "2022-06-17T16:09:26.986062Z",
     "shell.execute_reply": "2022-06-17T16:09:26.985252Z"
    },
    "papermill": {
     "duration": 0.01984,
     "end_time": "2022-06-17T16:09:26.988052",
     "exception": false,
     "start_time": "2022-06-17T16:09:26.968212",
     "status": "completed"
    },
    "tags": []
   },
   "outputs": [],
   "source": [
    "# with h5py.File('mvsa-single-{}.hdf5'.format(mvsa_single_texts_valid.shape[0]), 'w') as f:\n",
    "#     f.create_dataset('texts', data = mvsa_single_texts_valid.astype('object'))\n",
    "#     f.create_dataset('images', data = mvsa_single_images_valid)\n",
    "#     f.create_dataset('multimodal-labels', data = mvsa_single_multimodal_labels_valid)\n",
    "#     f.create_dataset('text-labels', data = mvsa_single_text_labels_valid)\n",
    "#     f.create_dataset('image-labels', data = mvsa_single_image_labels_valid)"
   ]
  },
  {
   "cell_type": "code",
   "execution_count": 16,
   "id": "0a7b55de",
   "metadata": {
    "execution": {
     "iopub.execute_input": "2022-06-17T16:09:27.017761Z",
     "iopub.status.busy": "2022-06-17T16:09:27.017389Z",
     "iopub.status.idle": "2022-06-17T16:09:27.021064Z",
     "shell.execute_reply": "2022-06-17T16:09:27.020228Z"
    },
    "papermill": {
     "duration": 0.020985,
     "end_time": "2022-06-17T16:09:27.023120",
     "exception": false,
     "start_time": "2022-06-17T16:09:27.002135",
     "status": "completed"
    },
    "tags": []
   },
   "outputs": [],
   "source": [
    "# mvsa_single_texts_loaded, mvsa_single_images_loaded, \\\n",
    "# mvsa_single_multimodal_labels_loaded, mvsa_single_text_labels_loaded, \\\n",
    "# mvsa_single_image_labels_loaded = load_mvsa_data('./mvsa-single-4316.hdf5')"
   ]
  },
  {
   "cell_type": "code",
   "execution_count": 17,
   "id": "21ea4457",
   "metadata": {
    "execution": {
     "iopub.execute_input": "2022-06-17T16:09:27.051474Z",
     "iopub.status.busy": "2022-06-17T16:09:27.051089Z",
     "iopub.status.idle": "2022-06-17T16:09:27.055262Z",
     "shell.execute_reply": "2022-06-17T16:09:27.054240Z"
    },
    "papermill": {
     "duration": 0.021117,
     "end_time": "2022-06-17T16:09:27.057305",
     "exception": false,
     "start_time": "2022-06-17T16:09:27.036188",
     "status": "completed"
    },
    "tags": []
   },
   "outputs": [],
   "source": [
    "# print((mvsa_single_texts_valid == mvsa_single_texts_loaded).all())\n",
    "# print((mvsa_single_images_valid == mvsa_single_images_loaded).all())\n",
    "# print((mvsa_single_multimodal_labels_valid == mvsa_single_multimodal_labels_loaded).all())\n",
    "# print((mvsa_single_text_labels_valid == mvsa_single_text_labels_loaded).all())\n",
    "# print((mvsa_single_image_labels_valid == mvsa_single_image_labels_loaded).all())"
   ]
  },
  {
   "cell_type": "markdown",
   "id": "4823f373",
   "metadata": {
    "papermill": {
     "duration": 0.013097,
     "end_time": "2022-06-17T16:09:27.083430",
     "exception": false,
     "start_time": "2022-06-17T16:09:27.070333",
     "status": "completed"
    },
    "tags": []
   },
   "source": [
    "# MVSA-Multiple"
   ]
  },
  {
   "cell_type": "code",
   "execution_count": 18,
   "id": "29ab3e49",
   "metadata": {
    "execution": {
     "iopub.execute_input": "2022-06-17T16:09:27.113738Z",
     "iopub.status.busy": "2022-06-17T16:09:27.113358Z",
     "iopub.status.idle": "2022-06-17T16:16:08.090880Z",
     "shell.execute_reply": "2022-06-17T16:16:08.089778Z"
    },
    "papermill": {
     "duration": 400.995993,
     "end_time": "2022-06-17T16:16:08.093399",
     "exception": false,
     "start_time": "2022-06-17T16:09:27.097406",
     "status": "completed"
    },
    "tags": []
   },
   "outputs": [
    {
     "name": "stdout",
     "output_type": "stream",
     "text": [
      "Read text data\n"
     ]
    },
    {
     "name": "stderr",
     "output_type": "stream",
     "text": [
      "100%|██████████| 19600/19600 [01:53<00:00, 172.12it/s]\n"
     ]
    },
    {
     "name": "stdout",
     "output_type": "stream",
     "text": [
      "Read image data\n"
     ]
    },
    {
     "name": "stderr",
     "output_type": "stream",
     "text": [
      " 62%|██████▏   | 12238/19600 [02:55<01:40, 73.57it/s]Premature end of JPEG file\n",
      "100%|██████████| 19600/19600 [04:45<00:00, 68.70it/s]\n"
     ]
    }
   ],
   "source": [
    "mvsa_multiple_texts = create_text_data(mvsa_multiple_data_path)\n",
    "mvsa_multiple_images, mvsa_multiple_images_invalid_indices = create_image_data0(mvsa_multiple_data_path)\n",
    "mvsa_multiple_multimodal_labels = create_multimodal_labels(mvsa_multiple_label_path, multiple=True)\n",
    "mvsa_multiple_text_labels, mvsa_multiple_image_labels = create_original_labels(mvsa_multiple_label_path)"
   ]
  },
  {
   "cell_type": "code",
   "execution_count": 19,
   "id": "7a3b43d3",
   "metadata": {
    "execution": {
     "iopub.execute_input": "2022-06-17T16:16:08.613379Z",
     "iopub.status.busy": "2022-06-17T16:16:08.612995Z",
     "iopub.status.idle": "2022-06-17T16:16:08.929286Z",
     "shell.execute_reply": "2022-06-17T16:16:08.928085Z"
    },
    "papermill": {
     "duration": 0.579689,
     "end_time": "2022-06-17T16:16:08.931822",
     "exception": false,
     "start_time": "2022-06-17T16:16:08.352133",
     "status": "completed"
    },
    "tags": []
   },
   "outputs": [],
   "source": [
    "# Get duplicated text indices\n",
    "mvsa_multiple_texts_unique_indices = np.unique(mvsa_multiple_texts, return_index=True)[1]\n",
    "mvsa_multiple_texts_duplicated_indices = [i for i in range(len(mvsa_multiple_texts)) if i not in mvsa_multiple_texts_unique_indices]\n",
    "\n",
    "# Get invalid label indices\n",
    "mvsa_multiple_multimodal_labels_invalid_indices = [i for i in range(mvsa_multiple_multimodal_labels.shape[0]) if mvsa_multiple_multimodal_labels[i] == 'invalid']"
   ]
  },
  {
   "cell_type": "code",
   "execution_count": 20,
   "id": "d2f88784",
   "metadata": {
    "execution": {
     "iopub.execute_input": "2022-06-17T16:16:09.451952Z",
     "iopub.status.busy": "2022-06-17T16:16:09.451562Z",
     "iopub.status.idle": "2022-06-17T16:16:09.457301Z",
     "shell.execute_reply": "2022-06-17T16:16:09.456317Z"
    },
    "papermill": {
     "duration": 0.265021,
     "end_time": "2022-06-17T16:16:09.459214",
     "exception": false,
     "start_time": "2022-06-17T16:16:09.194193",
     "status": "completed"
    },
    "tags": []
   },
   "outputs": [],
   "source": [
    "mvsa_multiple_invalid_indices = []\n",
    "mvsa_multiple_invalid_indices.extend(mvsa_multiple_texts_duplicated_indices)\n",
    "mvsa_multiple_invalid_indices.extend(mvsa_multiple_images_invalid_indices)\n",
    "mvsa_multiple_invalid_indices.extend(mvsa_multiple_multimodal_labels_invalid_indices)\n",
    "mvsa_multiple_invalid_indices = list(set(mvsa_multiple_invalid_indices))"
   ]
  },
  {
   "cell_type": "code",
   "execution_count": 21,
   "id": "ccc18b7c",
   "metadata": {
    "execution": {
     "iopub.execute_input": "2022-06-17T16:16:09.991130Z",
     "iopub.status.busy": "2022-06-17T16:16:09.990554Z",
     "iopub.status.idle": "2022-06-17T16:16:11.089262Z",
     "shell.execute_reply": "2022-06-17T16:16:11.088259Z"
    },
    "papermill": {
     "duration": 1.369558,
     "end_time": "2022-06-17T16:16:11.091983",
     "exception": false,
     "start_time": "2022-06-17T16:16:09.722425",
     "status": "completed"
    },
    "tags": []
   },
   "outputs": [],
   "source": [
    "# to save memory usage as for np.delete turn list to np array, which in turn needs lots of memory\n",
    "mvsa_multiple_images_valid = [mvsa_multiple_images[i] for i in range(len(mvsa_multiple_images)) if i not in mvsa_multiple_invalid_indices]"
   ]
  },
  {
   "cell_type": "code",
   "execution_count": 22,
   "id": "aa371660",
   "metadata": {
    "execution": {
     "iopub.execute_input": "2022-06-17T16:16:11.674040Z",
     "iopub.status.busy": "2022-06-17T16:16:11.673025Z",
     "iopub.status.idle": "2022-06-17T16:16:11.703475Z",
     "shell.execute_reply": "2022-06-17T16:16:11.702547Z"
    },
    "papermill": {
     "duration": 0.290639,
     "end_time": "2022-06-17T16:16:11.705620",
     "exception": false,
     "start_time": "2022-06-17T16:16:11.414981",
     "status": "completed"
    },
    "tags": []
   },
   "outputs": [
    {
     "name": "stdout",
     "output_type": "stream",
     "text": [
      "Number of invalid data in MVSA-Multiple: 5952\n",
      "Number of text-image pair in MVSA-Multiple after removing invalid data: 13648\n"
     ]
    }
   ],
   "source": [
    "# mvsa_multiple_invalid_indices = []\n",
    "# mvsa_multiple_invalid_indices.extend(mvsa_multiple_texts_duplicated_indices)\n",
    "# mvsa_multiple_invalid_indices.extend(mvsa_multiple_images_invalid_indices)\n",
    "# mvsa_multiple_invalid_indices.extend(mvsa_multiple_multimodal_labels_invalid_indices)\n",
    "# mvsa_multiple_invalid_indices = list(set(mvsa_multiple_invalid_indices))\n",
    "\n",
    "mvsa_multiple_texts_valid = remove_invalid(mvsa_multiple_texts, mvsa_multiple_invalid_indices)\n",
    "# mvsa_multiple_images_valid = remove_invalid(mvsa_multiple_images, mvsa_multiple_invalid_indices)\n",
    "mvsa_multiple_multimodal_labels_valid = remove_invalid(mvsa_multiple_multimodal_labels, mvsa_multiple_invalid_indices)\n",
    "mvsa_multiple_text_labels_valid = remove_invalid(mvsa_multiple_text_labels, mvsa_multiple_invalid_indices)\n",
    "mvsa_multiple_image_labels_valid = remove_invalid(mvsa_multiple_image_labels, mvsa_multiple_invalid_indices)\n",
    "\n",
    "print('Number of invalid data in MVSA-Multiple:', len(mvsa_multiple_invalid_indices))\n",
    "print('Number of text-image pair in MVSA-Multiple after removing invalid data:', mvsa_multiple_texts_valid.shape[0])"
   ]
  },
  {
   "cell_type": "code",
   "execution_count": 23,
   "id": "db2ac331",
   "metadata": {
    "execution": {
     "iopub.execute_input": "2022-06-17T16:16:12.223469Z",
     "iopub.status.busy": "2022-06-17T16:16:12.223094Z",
     "iopub.status.idle": "2022-06-17T16:16:15.991041Z",
     "shell.execute_reply": "2022-06-17T16:16:15.990088Z"
    },
    "papermill": {
     "duration": 4.034249,
     "end_time": "2022-06-17T16:16:15.993570",
     "exception": false,
     "start_time": "2022-06-17T16:16:11.959321",
     "status": "completed"
    },
    "tags": []
   },
   "outputs": [],
   "source": [
    "with h5py.File('mvsa-multiple-{}.hdf5'.format(mvsa_multiple_texts_valid.shape[0]), 'w') as f:\n",
    "    f.create_dataset('texts', data = mvsa_multiple_texts_valid.astype('object'))\n",
    "    f.create_dataset('images', data = mvsa_multiple_images_valid)\n",
    "    f.create_dataset('multimodal-labels', data = mvsa_multiple_multimodal_labels_valid)\n",
    "    f.create_dataset('text-labels', data = mvsa_multiple_text_labels_valid)\n",
    "    f.create_dataset('image-labels', data = mvsa_multiple_image_labels_valid)"
   ]
  },
  {
   "cell_type": "code",
   "execution_count": 24,
   "id": "2684cefb",
   "metadata": {
    "execution": {
     "iopub.execute_input": "2022-06-17T16:16:16.730998Z",
     "iopub.status.busy": "2022-06-17T16:16:16.730526Z",
     "iopub.status.idle": "2022-06-17T16:16:17.995841Z",
     "shell.execute_reply": "2022-06-17T16:16:17.994765Z"
    },
    "papermill": {
     "duration": 1.624982,
     "end_time": "2022-06-17T16:16:17.998392",
     "exception": false,
     "start_time": "2022-06-17T16:16:16.373410",
     "status": "completed"
    },
    "tags": []
   },
   "outputs": [],
   "source": [
    "mvsa_multiple_texts_loaded, mvsa_multiple_images_loaded, \\\n",
    "mvsa_multiple_multimodal_labels_loaded, mvsa_multiple_text_labels_loaded, \\\n",
    "mvsa_multiple_image_labels_loaded = load_mvsa_data('./mvsa-multiple-{}.hdf5'.format(len(mvsa_multiple_texts_valid)))"
   ]
  },
  {
   "cell_type": "code",
   "execution_count": 25,
   "id": "46ba40ab",
   "metadata": {
    "execution": {
     "iopub.execute_input": "2022-06-17T16:16:18.784764Z",
     "iopub.status.busy": "2022-06-17T16:16:18.783723Z",
     "iopub.status.idle": "2022-06-17T16:16:29.970549Z",
     "shell.execute_reply": "2022-06-17T16:16:29.969715Z"
    },
    "papermill": {
     "duration": 11.643485,
     "end_time": "2022-06-17T16:16:29.972793",
     "exception": false,
     "start_time": "2022-06-17T16:16:18.329308",
     "status": "completed"
    },
    "tags": []
   },
   "outputs": [
    {
     "name": "stdout",
     "output_type": "stream",
     "text": [
      "True\n",
      "True\n",
      "True\n",
      "True\n",
      "True\n"
     ]
    }
   ],
   "source": [
    "print((mvsa_multiple_texts_valid == mvsa_multiple_texts_loaded).all())\n",
    "print((mvsa_multiple_images_valid == mvsa_multiple_images_loaded).all())\n",
    "print((mvsa_multiple_multimodal_labels_valid == mvsa_multiple_multimodal_labels_loaded).all())\n",
    "print((mvsa_multiple_text_labels_valid == mvsa_multiple_text_labels_loaded).all())\n",
    "print((mvsa_multiple_image_labels_valid == mvsa_multiple_image_labels_loaded).all())"
   ]
  },
  {
   "cell_type": "code",
   "execution_count": 26,
   "id": "97456f61",
   "metadata": {
    "execution": {
     "iopub.execute_input": "2022-06-17T16:16:30.515899Z",
     "iopub.status.busy": "2022-06-17T16:16:30.515139Z",
     "iopub.status.idle": "2022-06-17T16:16:30.519502Z",
     "shell.execute_reply": "2022-06-17T16:16:30.518855Z"
    },
    "papermill": {
     "duration": 0.270644,
     "end_time": "2022-06-17T16:16:30.521337",
     "exception": false,
     "start_time": "2022-06-17T16:16:30.250693",
     "status": "completed"
    },
    "tags": []
   },
   "outputs": [],
   "source": [
    "# # save_text_file('./mvsa-multiple-texts.txt', mvsa_multiple_texts_valid)\n",
    "# np.save('./mvsa-multiple-images.npy', mvsa_multiple_images_valid)\n",
    "# # save_text_file('./mvsa-multiple-labels.txt', mvsa_multiple_multimodal_labels_valid)\n",
    "\n",
    "# # mvsa_multiple_texts_loaded = read_text_file('./mvsa-multiple-texts.txt', multi_line=True)\n",
    "# mvsa_multiple_images_loaded = np.load('./mvsa-multiple-images.npy')\n",
    "# # mvsa_multiple_multimodal_labels_loaded = read_text_file('./mvsa-multiple-labels.txt', multi_line=True)\n",
    "\n",
    "# # print((mvsa_multiple_texts_valid == mvsa_multiple_texts_loaded).all())\n",
    "# print((mvsa_multiple_images_loaded == mvsa_multiple_images_valid).all())\n",
    "# # print((mvsa_multiple_multimodal_labels_valid == mvsa_multiple_multimodal_labels_loaded).all())"
   ]
  },
  {
   "cell_type": "code",
   "execution_count": 27,
   "id": "9aa71244",
   "metadata": {
    "execution": {
     "iopub.execute_input": "2022-06-17T16:16:31.043763Z",
     "iopub.status.busy": "2022-06-17T16:16:31.043162Z",
     "iopub.status.idle": "2022-06-17T16:16:31.047545Z",
     "shell.execute_reply": "2022-06-17T16:16:31.046837Z"
    },
    "papermill": {
     "duration": 0.264516,
     "end_time": "2022-06-17T16:16:31.049493",
     "exception": false,
     "start_time": "2022-06-17T16:16:30.784977",
     "status": "completed"
    },
    "tags": []
   },
   "outputs": [],
   "source": [
    "# # Open HDF5 and create datasets in advance\n",
    "# save_file = h5py.File('mvsa-multiple-{}.hdf5'.format(mvsa_multiple_texts_valid.shape[0]), 'w')\n",
    "# save_file.create_dataset(\"data_image\", (200000,224,224), dtype='uint8')\n",
    "# save_file.create_dataset(\"data_label\", (200000,), dtype='int64')\n",
    "# f.create_dataset('texts', len(mvsa_multiple_texts_valid), dtype='object')\n",
    "# f.create_dataset('images', data = mvsa_multiple_images_valid)\n",
    "# f.create_dataset('multimodal-labels', data = mvsa_multiple_multimodal_labels_valid)\n",
    "# f.create_dataset('text-labels', data = mvsa_multiple_text_labels_valid)\n",
    "# f.create_dataset('image-labels', data = mvsa_multiple_image_labels_valid)\n",
    "\n",
    "# label_list = os.listdir('root')\n",
    "# img_cnt = 0\n",
    "# for i, label in enumerate(label_list):\n",
    "#     files = os.listdir(os.path.join('root', label_list))\n",
    "#     for filename in files:\n",
    "#         img = Image.open(os.path.join('root', label, filename))\n",
    "#         ow, oh = 128, 128\n",
    "#         img = img.resize((ow, oh), Image.BILINEAR)\n",
    "#         save_file[\"data_image\"][img_cnt,:,:] = np.array(img).tolist())\n",
    "#         save_file[\"data_label\"][img_cnt] = i\n",
    "#         img_cnt += 1\n",
    "\n",
    "# datafile.close()"
   ]
  },
  {
   "cell_type": "markdown",
   "id": "15c54a96",
   "metadata": {
    "papermill": {
     "duration": 0.259618,
     "end_time": "2022-06-17T16:16:31.565893",
     "exception": false,
     "start_time": "2022-06-17T16:16:31.306275",
     "status": "completed"
    },
    "tags": []
   },
   "source": [
    "# Visualize\n",
    "**TODO**"
   ]
  },
  {
   "cell_type": "code",
   "execution_count": 28,
   "id": "866aa0a8",
   "metadata": {
    "execution": {
     "iopub.execute_input": "2022-06-17T16:16:32.142101Z",
     "iopub.status.busy": "2022-06-17T16:16:32.141676Z",
     "iopub.status.idle": "2022-06-17T16:16:32.145877Z",
     "shell.execute_reply": "2022-06-17T16:16:32.144909Z"
    },
    "papermill": {
     "duration": 0.265361,
     "end_time": "2022-06-17T16:16:32.147933",
     "exception": false,
     "start_time": "2022-06-17T16:16:31.882572",
     "status": "completed"
    },
    "tags": []
   },
   "outputs": [],
   "source": [
    "############\n",
    "# df_labels = read_labels_file('../input/mvsasingle/MVSA_Single/labelResultAll.txt')\n",
    "# df_labels['text'].count\n",
    "# label_text_count = df_labels.value_counts('text')\n",
    "# label_image_count = df_labels.value_counts('image')\n",
    "# label_text_count"
   ]
  },
  {
   "cell_type": "code",
   "execution_count": null,
   "id": "b4bdb4cc",
   "metadata": {
    "papermill": {
     "duration": 0.256546,
     "end_time": "2022-06-17T16:16:32.661445",
     "exception": false,
     "start_time": "2022-06-17T16:16:32.404899",
     "status": "completed"
    },
    "tags": []
   },
   "outputs": [],
   "source": []
  },
  {
   "cell_type": "code",
   "execution_count": 29,
   "id": "43f3a902",
   "metadata": {
    "execution": {
     "iopub.execute_input": "2022-06-17T16:16:33.217988Z",
     "iopub.status.busy": "2022-06-17T16:16:33.217147Z",
     "iopub.status.idle": "2022-06-17T16:16:33.221518Z",
     "shell.execute_reply": "2022-06-17T16:16:33.220579Z"
    },
    "papermill": {
     "duration": 0.287854,
     "end_time": "2022-06-17T16:16:33.223688",
     "exception": false,
     "start_time": "2022-06-17T16:16:32.935834",
     "status": "completed"
    },
    "tags": []
   },
   "outputs": [],
   "source": [
    "# text_ids = []\n",
    "# image_ids = []\n",
    "# for i in range(len(texts)):\n",
    "#     if texts[i][0] != images[i][0] != read_labels_file(label_path)['ID'][i]:\n",
    "#         print('here')"
   ]
  },
  {
   "cell_type": "code",
   "execution_count": 30,
   "id": "f68d823c",
   "metadata": {
    "execution": {
     "iopub.execute_input": "2022-06-17T16:16:33.789404Z",
     "iopub.status.busy": "2022-06-17T16:16:33.788741Z",
     "iopub.status.idle": "2022-06-17T16:16:33.792590Z",
     "shell.execute_reply": "2022-06-17T16:16:33.791633Z"
    },
    "papermill": {
     "duration": 0.279,
     "end_time": "2022-06-17T16:16:33.794890",
     "exception": false,
     "start_time": "2022-06-17T16:16:33.515890",
     "status": "completed"
    },
    "tags": []
   },
   "outputs": [],
   "source": [
    "# u, c, i = np.unique(texts, return_index=True, return_counts=True, axis=1)\n",
    "# dup = u[c > 1]\n",
    "# u[:10]"
   ]
  },
  {
   "cell_type": "code",
   "execution_count": 31,
   "id": "0a702171",
   "metadata": {
    "execution": {
     "iopub.execute_input": "2022-06-17T16:16:34.396644Z",
     "iopub.status.busy": "2022-06-17T16:16:34.395894Z",
     "iopub.status.idle": "2022-06-17T16:16:34.400561Z",
     "shell.execute_reply": "2022-06-17T16:16:34.399851Z"
    },
    "papermill": {
     "duration": 0.333513,
     "end_time": "2022-06-17T16:16:34.402546",
     "exception": false,
     "start_time": "2022-06-17T16:16:34.069033",
     "status": "completed"
    },
    "tags": []
   },
   "outputs": [],
   "source": [
    "# def display_sample(text, image):\n",
    "#     plt.imshow(image)\n",
    "#     print('Text:', text)\n",
    "#     plt.show()\n",
    "# display_sample(texts_with_id[2][1], images_with_id[2][1])"
   ]
  },
  {
   "cell_type": "code",
   "execution_count": 32,
   "id": "10daf6c6",
   "metadata": {
    "execution": {
     "iopub.execute_input": "2022-06-17T16:16:34.947360Z",
     "iopub.status.busy": "2022-06-17T16:16:34.946408Z",
     "iopub.status.idle": "2022-06-17T16:16:34.950618Z",
     "shell.execute_reply": "2022-06-17T16:16:34.949859Z"
    },
    "papermill": {
     "duration": 0.27156,
     "end_time": "2022-06-17T16:16:34.952509",
     "exception": false,
     "start_time": "2022-06-17T16:16:34.680949",
     "status": "completed"
    },
    "tags": []
   },
   "outputs": [],
   "source": [
    "# shapes = []\n",
    "# for image in images_with_id:\n",
    "#     shapes.append(image.shape)\n",
    "# shapes"
   ]
  },
  {
   "cell_type": "code",
   "execution_count": 33,
   "id": "f0dc5099",
   "metadata": {
    "execution": {
     "iopub.execute_input": "2022-06-17T16:16:35.482039Z",
     "iopub.status.busy": "2022-06-17T16:16:35.481355Z",
     "iopub.status.idle": "2022-06-17T16:16:35.487381Z",
     "shell.execute_reply": "2022-06-17T16:16:35.484874Z"
    },
    "papermill": {
     "duration": 0.272153,
     "end_time": "2022-06-17T16:16:35.489431",
     "exception": false,
     "start_time": "2022-06-17T16:16:35.217278",
     "status": "completed"
    },
    "tags": []
   },
   "outputs": [],
   "source": [
    "# raw_texts[raw_texts.duplicated('Text')]"
   ]
  },
  {
   "cell_type": "code",
   "execution_count": 34,
   "id": "bed22c41",
   "metadata": {
    "execution": {
     "iopub.execute_input": "2022-06-17T16:16:36.013714Z",
     "iopub.status.busy": "2022-06-17T16:16:36.012818Z",
     "iopub.status.idle": "2022-06-17T16:16:36.017739Z",
     "shell.execute_reply": "2022-06-17T16:16:36.017032Z"
    },
    "papermill": {
     "duration": 0.269388,
     "end_time": "2022-06-17T16:16:36.019830",
     "exception": false,
     "start_time": "2022-06-17T16:16:35.750442",
     "status": "completed"
    },
    "tags": []
   },
   "outputs": [],
   "source": [
    "# len_split = lambda x: len(x.split())\n",
    "# print()\n",
    "# print('Min number of words in text:', raw_texts['Text'].apply(len_split).min())\n",
    "# print('Max number of words in text:', raw_texts['Text'].apply(len_split).max())\n",
    "# print('Average number of words in text:', round(raw_texts['Text'].apply(len_split).mean()))"
   ]
  },
  {
   "cell_type": "code",
   "execution_count": null,
   "id": "18a38f11",
   "metadata": {
    "papermill": {
     "duration": 0.318417,
     "end_time": "2022-06-17T16:16:36.609661",
     "exception": false,
     "start_time": "2022-06-17T16:16:36.291244",
     "status": "completed"
    },
    "tags": []
   },
   "outputs": [],
   "source": []
  },
  {
   "cell_type": "markdown",
   "id": "3a50d2c1",
   "metadata": {
    "papermill": {
     "duration": 0.260087,
     "end_time": "2022-06-17T16:16:37.132638",
     "exception": false,
     "start_time": "2022-06-17T16:16:36.872551",
     "status": "completed"
    },
    "tags": []
   },
   "source": [
    "# Drafts"
   ]
  },
  {
   "cell_type": "code",
   "execution_count": 35,
   "id": "2a3110fc",
   "metadata": {
    "execution": {
     "iopub.execute_input": "2022-06-17T16:16:37.660720Z",
     "iopub.status.busy": "2022-06-17T16:16:37.660309Z",
     "iopub.status.idle": "2022-06-17T16:16:37.664318Z",
     "shell.execute_reply": "2022-06-17T16:16:37.663612Z"
    },
    "papermill": {
     "duration": 0.265396,
     "end_time": "2022-06-17T16:16:37.666082",
     "exception": false,
     "start_time": "2022-06-17T16:16:37.400686",
     "status": "completed"
    },
    "tags": []
   },
   "outputs": [],
   "source": [
    "# save_text_file('./mvsa-multiple-texts.txt', mvsa_multiple_texts_valid)\n",
    "# np.save('./mvsa-multiple-images.npy', mvsa_multiple_images_valid)\n",
    "# save_text_file('./mvsa-multiple-labels.txt', mvsa_multiple_multimodal_labels_valid)\n",
    "\n",
    "# mvsa_multiple_texts_loaded = read_text_file('./mvsa-multiple-texts.txt', multi_line=True)\n",
    "# mvsa_multiple_images_loaded = np.load('./mvsa-multiple-images.npy')\n",
    "# mvsa_multiple_multimodal_labels_loaded = read_text_file('./mvsa-multiple-labels.txt', multi_line=True)\n",
    "\n",
    "# print((mvsa_multiple_texts_valid == mvsa_multiple_texts_loaded).all())\n",
    "# print((mvsa_multiple_images_loaded == mvsa_multiple_images_valid).all())\n",
    "# print((mvsa_multiple_multimodal_labels_valid == mvsa_multiple_multimodal_labels_loaded).all())"
   ]
  },
  {
   "cell_type": "code",
   "execution_count": 36,
   "id": "521b0ca4",
   "metadata": {
    "execution": {
     "iopub.execute_input": "2022-06-17T16:16:38.197062Z",
     "iopub.status.busy": "2022-06-17T16:16:38.196474Z",
     "iopub.status.idle": "2022-06-17T16:16:38.200571Z",
     "shell.execute_reply": "2022-06-17T16:16:38.199906Z"
    },
    "papermill": {
     "duration": 0.274613,
     "end_time": "2022-06-17T16:16:38.202560",
     "exception": false,
     "start_time": "2022-06-17T16:16:37.927947",
     "status": "completed"
    },
    "tags": []
   },
   "outputs": [],
   "source": [
    "## OLD SAVE AND LOAD DATA WITH NPY FILE\n",
    "\n",
    "# save_text_file('./mvsa-single-texts.txt', mvsa_single_texts_valid)\n",
    "# np.save('./mvsa-single-images.npy', mvsa_single_images_valid)\n",
    "# save_text_file('./mvsa-single-labels.txt', mvsa_single_multimodal_labels_valid)\n",
    "\n",
    "# mvsa_single_texts_loaded = read_text_file('./mvsa-single-texts.txt', multi_line=True)\n",
    "# mvsa_single_images_loaded = np.load('./mvsa-single-images.npy')\n",
    "# mvsa_single_multimodal_labels_loaded = read_text_file('./mvsa-single-labels.txt', multi_line=True)"
   ]
  },
  {
   "cell_type": "code",
   "execution_count": 37,
   "id": "59b55343",
   "metadata": {
    "execution": {
     "iopub.execute_input": "2022-06-17T16:16:38.854214Z",
     "iopub.status.busy": "2022-06-17T16:16:38.853458Z",
     "iopub.status.idle": "2022-06-17T16:16:38.857884Z",
     "shell.execute_reply": "2022-06-17T16:16:38.857102Z"
    },
    "papermill": {
     "duration": 0.348259,
     "end_time": "2022-06-17T16:16:38.860181",
     "exception": false,
     "start_time": "2022-06-17T16:16:38.511922",
     "status": "completed"
    },
    "tags": []
   },
   "outputs": [],
   "source": [
    "# mvsa_single_images_unique_indices = np.unique([image.flatten() for image in mvsa_single_images], return_index=True, return_counts=True)\n",
    "# mvsa_single_images_duplicated_indices = [i for i in range(mvsa_single_images.shape[0]) if i not in mvsa_single_images_unique_indices]\n",
    "\n",
    "## ---> doesn't work, only compare unique numbers not unique list"
   ]
  },
  {
   "cell_type": "code",
   "execution_count": 38,
   "id": "fa358d4a",
   "metadata": {
    "execution": {
     "iopub.execute_input": "2022-06-17T16:16:39.414176Z",
     "iopub.status.busy": "2022-06-17T16:16:39.413526Z",
     "iopub.status.idle": "2022-06-17T16:16:39.417083Z",
     "shell.execute_reply": "2022-06-17T16:16:39.416279Z"
    },
    "papermill": {
     "duration": 0.284245,
     "end_time": "2022-06-17T16:16:39.418944",
     "exception": false,
     "start_time": "2022-06-17T16:16:39.134699",
     "status": "completed"
    },
    "tags": []
   },
   "outputs": [],
   "source": [
    "# if extracted_data.shape[0] == 0:\n",
    "#     extracted_data = np.concatenate(([extracted_data], [features]), 1)\n",
    "# else:\n",
    "#     extracted_data = np.concatenate((extracted_data, [features]), 0)"
   ]
  },
  {
   "cell_type": "code",
   "execution_count": 39,
   "id": "f9cb6374",
   "metadata": {
    "execution": {
     "iopub.execute_input": "2022-06-17T16:16:39.949500Z",
     "iopub.status.busy": "2022-06-17T16:16:39.949070Z",
     "iopub.status.idle": "2022-06-17T16:16:39.953135Z",
     "shell.execute_reply": "2022-06-17T16:16:39.952282Z"
    },
    "papermill": {
     "duration": 0.276889,
     "end_time": "2022-06-17T16:16:39.955918",
     "exception": false,
     "start_time": "2022-06-17T16:16:39.679029",
     "status": "completed"
    },
    "tags": []
   },
   "outputs": [],
   "source": [
    "# a = np.array([np.zeros((5, 5, 3))])\n",
    "# b = np.zeros((5, 5, 3))\n",
    "# c = np.concatenate((a, [b]))\n",
    "# d = np.concatenate((c, [b]))\n",
    "# d.shape"
   ]
  },
  {
   "cell_type": "code",
   "execution_count": 40,
   "id": "de875156",
   "metadata": {
    "execution": {
     "iopub.execute_input": "2022-06-17T16:16:40.530166Z",
     "iopub.status.busy": "2022-06-17T16:16:40.529747Z",
     "iopub.status.idle": "2022-06-17T16:16:40.534754Z",
     "shell.execute_reply": "2022-06-17T16:16:40.533583Z"
    },
    "papermill": {
     "duration": 0.282589,
     "end_time": "2022-06-17T16:16:40.536720",
     "exception": false,
     "start_time": "2022-06-17T16:16:40.254131",
     "status": "completed"
    },
    "tags": []
   },
   "outputs": [],
   "source": [
    "# # mvsa_single_images.tofile('./mvsa-single-images.npy')\n",
    "# np.save('./mvsa-single-images.npy', mvsa_single_images)\n",
    "# mvsa_single_images_loaded = np.load('./mvsa-single-images.npy')\n",
    "# (mvsa_single_images_loaded == mvsa_single_images).all()"
   ]
  },
  {
   "cell_type": "code",
   "execution_count": 41,
   "id": "4f5d3777",
   "metadata": {
    "execution": {
     "iopub.execute_input": "2022-06-17T16:16:41.157882Z",
     "iopub.status.busy": "2022-06-17T16:16:41.157289Z",
     "iopub.status.idle": "2022-06-17T16:16:41.161777Z",
     "shell.execute_reply": "2022-06-17T16:16:41.160705Z"
    },
    "papermill": {
     "duration": 0.350307,
     "end_time": "2022-06-17T16:16:41.164004",
     "exception": false,
     "start_time": "2022-06-17T16:16:40.813697",
     "status": "completed"
    },
    "tags": []
   },
   "outputs": [],
   "source": [
    "# a = read_labels_file(mvsa_single_label_path).iloc[:, 1:].values\n",
    "# for i in a:\n",
    "#     if i[0] == 'negative' and i[1] == 'positive':\n",
    "#         print('here')\n",
    "#     elif i[0] == 'positive' and i[1] == 'negative':\n",
    "#         print('hereee')"
   ]
  },
  {
   "cell_type": "code",
   "execution_count": 42,
   "id": "4299b2eb",
   "metadata": {
    "execution": {
     "iopub.execute_input": "2022-06-17T16:16:41.705718Z",
     "iopub.status.busy": "2022-06-17T16:16:41.705035Z",
     "iopub.status.idle": "2022-06-17T16:16:41.708714Z",
     "shell.execute_reply": "2022-06-17T16:16:41.708013Z"
    },
    "papermill": {
     "duration": 0.278391,
     "end_time": "2022-06-17T16:16:41.711655",
     "exception": false,
     "start_time": "2022-06-17T16:16:41.433264",
     "status": "completed"
    },
    "tags": []
   },
   "outputs": [],
   "source": [
    "# label_mappings = create_labels(mvsa_single_label_path, mappings=True)\n",
    "\n",
    "# image_dataset = make_dataset([os.path.join(mvsa_single_label_path, str(ID) + '.jpg') for ID in label_mappings.keys()],\n",
    "#                              list(label_mappings.values()))"
   ]
  },
  {
   "cell_type": "code",
   "execution_count": 43,
   "id": "f41cda02",
   "metadata": {
    "execution": {
     "iopub.execute_input": "2022-06-17T16:16:42.251512Z",
     "iopub.status.busy": "2022-06-17T16:16:42.250798Z",
     "iopub.status.idle": "2022-06-17T16:16:42.254654Z",
     "shell.execute_reply": "2022-06-17T16:16:42.253897Z"
    },
    "papermill": {
     "duration": 0.273063,
     "end_time": "2022-06-17T16:16:42.256583",
     "exception": false,
     "start_time": "2022-06-17T16:16:41.983520",
     "status": "completed"
    },
    "tags": []
   },
   "outputs": [],
   "source": [
    "# a = get_image_with_id(os.path.join(mvsa_single_data_path, '1.jpg'))\n",
    "# tf.keras.utils.array_to_img(a[1])"
   ]
  },
  {
   "cell_type": "code",
   "execution_count": 44,
   "id": "e5a765ae",
   "metadata": {
    "execution": {
     "iopub.execute_input": "2022-06-17T16:16:42.782866Z",
     "iopub.status.busy": "2022-06-17T16:16:42.782239Z",
     "iopub.status.idle": "2022-06-17T16:16:42.786025Z",
     "shell.execute_reply": "2022-06-17T16:16:42.785186Z"
    },
    "papermill": {
     "duration": 0.272906,
     "end_time": "2022-06-17T16:16:42.788081",
     "exception": false,
     "start_time": "2022-06-17T16:16:42.515175",
     "status": "completed"
    },
    "tags": []
   },
   "outputs": [],
   "source": [
    "# label_mappings = create_labels(mvsa_single_label_path, mappings=True)\n",
    "\n",
    "# image_dataset = make_dataset([os.path.join(mvsa_single_label_path, str(ID) + '.jpg') for ID in label_mappings.keys()],\n",
    "#                              list(label_mappings.values()))"
   ]
  },
  {
   "cell_type": "code",
   "execution_count": 45,
   "id": "d66fa53b",
   "metadata": {
    "execution": {
     "iopub.execute_input": "2022-06-17T16:16:43.386029Z",
     "iopub.status.busy": "2022-06-17T16:16:43.385120Z",
     "iopub.status.idle": "2022-06-17T16:16:43.389392Z",
     "shell.execute_reply": "2022-06-17T16:16:43.388592Z"
    },
    "papermill": {
     "duration": 0.333137,
     "end_time": "2022-06-17T16:16:43.391673",
     "exception": false,
     "start_time": "2022-06-17T16:16:43.058536",
     "status": "completed"
    },
    "tags": []
   },
   "outputs": [],
   "source": [
    "# a = os.listdir(mvsa_single_data_path)\n",
    "# a.sort(key = lambda x: int(x.split('.')[0]))\n",
    "# list(filter(lambda x: x.endswith('.jpg'), a))\n",
    "# a = [os.path.join(mvsa_single_data_path, i) for i in a]\n",
    "# a"
   ]
  },
  {
   "cell_type": "code",
   "execution_count": 46,
   "id": "c995f1eb",
   "metadata": {
    "execution": {
     "iopub.execute_input": "2022-06-17T16:16:43.934543Z",
     "iopub.status.busy": "2022-06-17T16:16:43.934160Z",
     "iopub.status.idle": "2022-06-17T16:16:43.938449Z",
     "shell.execute_reply": "2022-06-17T16:16:43.937412Z"
    },
    "papermill": {
     "duration": 0.278457,
     "end_time": "2022-06-17T16:16:43.940300",
     "exception": false,
     "start_time": "2022-06-17T16:16:43.661843",
     "status": "completed"
    },
    "tags": []
   },
   "outputs": [],
   "source": [
    "# # a = create_labels(mvsa_multiple_label_path, multiple=True, mappings=True)\n",
    "# def process_image(path, label):\n",
    "# #     filename = os.path.split(path)[1]\n",
    "# #     ID = int(filename.split('.')[0])\n",
    "# #     return read_image_file(path), label_map[ID]\n",
    "#     return read_image_file(path), label\n",
    "\n",
    "# def make_dataset(images, labels):\n",
    "#     dataset = tf.data.Dataset.from_tensor_slices((images, labels))\n",
    "# #     dataset = dataset.shuffle(len(images))\n",
    "#     dataset = dataset.map(process_image)#, num_parallel_calls=AUTOTUNE)\n",
    "# #     dataset = dataset.batch(100).prefetch(tf.data.AUTOTUNE)\n",
    "#     return dataset"
   ]
  },
  {
   "cell_type": "code",
   "execution_count": 47,
   "id": "9fde5f9c",
   "metadata": {
    "execution": {
     "iopub.execute_input": "2022-06-17T16:16:44.486640Z",
     "iopub.status.busy": "2022-06-17T16:16:44.485922Z",
     "iopub.status.idle": "2022-06-17T16:16:44.490168Z",
     "shell.execute_reply": "2022-06-17T16:16:44.489291Z"
    },
    "papermill": {
     "duration": 0.279979,
     "end_time": "2022-06-17T16:16:44.492250",
     "exception": false,
     "start_time": "2022-06-17T16:16:44.212271",
     "status": "completed"
    },
    "tags": []
   },
   "outputs": [],
   "source": [
    "# IMAGE_SIZE = (224, 224)\n",
    "# def read_image_file(path):\n",
    "#     image = cv2.imread(path, cv2.COLOR_BGR2RGB)\n",
    "# #     image = np.array(image)#.astype('float32')\n",
    "# #     image = cv2.resize(image, IMAGE_SIZE, interpolation = cv2.INTER_AREA)\n",
    "# #     image /= 255\n",
    "# #     print(image.shape)\n",
    "# #     ax = plt.subplot(1,2,1)\n",
    "# #     plt.imshow(image)\n",
    "# #     image = cv2.resize(image, IMAGE_SIZE, interpolation = cv2.INTER_AREA)\n",
    "# #     ax = plt.subplot(1,2,2)\n",
    "# #     plt.imshow(image)\n",
    "# #     print(image.shape)\n",
    "#     return image\n",
    "# read_image_file('../input/mvsasingle/MVSA_Single/data/10.jpg')      "
   ]
  },
  {
   "cell_type": "code",
   "execution_count": 48,
   "id": "aed473e3",
   "metadata": {
    "execution": {
     "iopub.execute_input": "2022-06-17T16:16:45.026547Z",
     "iopub.status.busy": "2022-06-17T16:16:45.025913Z",
     "iopub.status.idle": "2022-06-17T16:16:45.030416Z",
     "shell.execute_reply": "2022-06-17T16:16:45.029739Z"
    },
    "papermill": {
     "duration": 0.272323,
     "end_time": "2022-06-17T16:16:45.032455",
     "exception": false,
     "start_time": "2022-06-17T16:16:44.760132",
     "status": "completed"
    },
    "tags": []
   },
   "outputs": [],
   "source": [
    "# def read_text_file(path, multi_line=False):\n",
    "# #     with open(path, 'r', encoding='latin-1') as f:\n",
    "# #         if multi_line == True:\n",
    "# #             lines = f.readlines()\n",
    "# #             lines = [line.rstrip('\\n') for line in lines]\n",
    "# #             return lines\n",
    "# #         return f.read()\n",
    "    \n",
    "#     if multi_line == True:\n",
    "#         lines = open(path, 'r', encoding='latin-1').readlines()\n",
    "#         lines = [line.rstrip('\\n') for line in lines]\n",
    "#         return lines\n",
    "#     return open(path, 'r', encoding='latin-1').read()\n",
    "\n",
    "# def read_image_file(path):\n",
    "#     try:\n",
    "#         image = cv2.imread(path, cv2.COLOR_BGR2RGB)\n",
    "#         image = cv2.resize(image, IMAGE_SIZE, interpolation = cv2.INTER_AREA)\n",
    "#     except:\n",
    "#         image = np.zeros((IMAGE_SIZE[0], IMAGE_SIZE[1], NUM_CHANNELS))\n",
    "#         ID = os.path.split(path)[1].split('.')[0]\n",
    "#         invalid_indices.append(ID)\n",
    "# #     image = tf.io.read_file(path)\n",
    "# #     image = tf.image.decode_jpeg(image, channels=NUM_CHANNELS)\n",
    "# #     image = tf.image.resize(image, IMAGE_SIZE)\n",
    "#     return image\n",
    "\n",
    "# def read_labels_file(path):\n",
    "#     dataframe = pd.read_csv(path, sep=\"\\s+|,\", engine=\"python\")\n",
    "#     return dataframe"
   ]
  },
  {
   "cell_type": "code",
   "execution_count": 49,
   "id": "eeb28a6c",
   "metadata": {
    "execution": {
     "iopub.execute_input": "2022-06-17T16:16:45.621000Z",
     "iopub.status.busy": "2022-06-17T16:16:45.620492Z",
     "iopub.status.idle": "2022-06-17T16:16:45.627206Z",
     "shell.execute_reply": "2022-06-17T16:16:45.626457Z"
    },
    "papermill": {
     "duration": 0.274124,
     "end_time": "2022-06-17T16:16:45.629147",
     "exception": false,
     "start_time": "2022-06-17T16:16:45.355023",
     "status": "completed"
    },
    "tags": []
   },
   "outputs": [],
   "source": [
    "# def create_labels(path, multiple=False, mappings=False):\n",
    "#     dataframe = read_labels_file(path)\n",
    "    \n",
    "#     if multiple == True:\n",
    "#         dataframe = merge_multi_label(dataframe)\n",
    "        \n",
    "#     labels = []\n",
    "#     for _, row in dataframe.iterrows():\n",
    "#         label = multimodal_label(row['text'], row['image'])\n",
    "#         labels.append(label)\n",
    "        \n",
    "#     if mappings == True:\n",
    "#         label_map = {}\n",
    "#         for i in range(len(labels)):\n",
    "#             ID = dataframe.iloc[i, 0]\n",
    "#             label_map[ID] = labels[i]            \n",
    "#         return label_map\n",
    "#     return np.array(labels, dtype='object')\n",
    "\n",
    "# def create_text_data(path):\n",
    "#     texts = []\n",
    "    \n",
    "#     print('Read text data')\n",
    "#     # read data along with its filename as ID\n",
    "#     for filename in tqdm(os.listdir(path)):\n",
    "#         ID = int(filename.split('.')[0])\n",
    "#         file_path = os.path.join(path, filename)\n",
    "#         if filename.endswith('txt'):\n",
    "#             text = read_text_file(file_path)\n",
    "#             texts.append((ID, text))\n",
    "\n",
    "#     # Sort data by its ID\n",
    "#     get_ID = lambda x : x[0]\n",
    "#     texts.sort(key=get_ID)\n",
    "    \n",
    "#     # return data without ID\n",
    "#     texts = np.array([text[1].rstrip('\\n') for text in texts])\n",
    "\n",
    "#     return texts\n",
    "\n",
    "# def create_image_data(path):\n",
    "#     images = []\n",
    "     \n",
    "#     image_paths = os.listdir(path)\n",
    "#     image_paths.sort(key = lambda x : int(x.split('.')[0]))\n",
    "#     image_paths = list(filter(lambda x: x.endswith('.jpg'), image_paths))\n",
    "#     image_paths = [os.path.join(path, x) for x in image_paths]\n",
    "# #     print(image_path)\n",
    "    \n",
    "#     print('Read image data')\n",
    "#     # read data along with its filename as ID\n",
    "#     for image_path in tqdm(image_paths):\n",
    "# #         ID = int(filename.split('.')[0])\n",
    "# #         file_path = os.path.join(path, filename)\n",
    "# #         gc.collect()\n",
    "# #         if filename.endswith('jpg'):\n",
    "# #         image_with_id = get_image_with_id(image_path)\n",
    "# #         images.append(image_with_id)\n",
    "#         image = read_image_file(image_path)\n",
    "#         images.append(image)\n",
    "# #         del image\n",
    "# #         gc.collect()\n",
    "        \n",
    "    \n",
    "# #     # Sort data by its ID\n",
    "# #     get_ID = lambda x : x[0]\n",
    "# #     images.sort(key=get_ID)\n",
    "    \n",
    "#     # return data without ID\n",
    "# #     images = np.array([image[1] for image in images], dtype='object')\n",
    "\n",
    "#     return images\n",
    "\n",
    "# def get_image_with_id(path):\n",
    "#     filename = os.path.split(path)[1]\n",
    "#     ID = int(filename.split('.')[0])\n",
    "#     image = read_image_file(path)\n",
    "#     return (ID, image)"
   ]
  }
 ],
 "metadata": {
  "kernelspec": {
   "display_name": "Python 3",
   "language": "python",
   "name": "python3"
  },
  "language_info": {
   "codemirror_mode": {
    "name": "ipython",
    "version": 3
   },
   "file_extension": ".py",
   "mimetype": "text/x-python",
   "name": "python",
   "nbconvert_exporter": "python",
   "pygments_lexer": "ipython3",
   "version": "3.7.12"
  },
  "papermill": {
   "default_parameters": {},
   "duration": 459.262019,
   "end_time": "2022-06-17T16:16:48.934949",
   "environment_variables": {},
   "exception": null,
   "input_path": "__notebook__.ipynb",
   "output_path": "__notebook__.ipynb",
   "parameters": {},
   "start_time": "2022-06-17T16:09:09.672930",
   "version": "2.3.4"
  }
 },
 "nbformat": 4,
 "nbformat_minor": 5
}
