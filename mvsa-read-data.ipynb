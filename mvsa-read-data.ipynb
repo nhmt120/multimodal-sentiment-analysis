{
 "cells": [
  {
   "cell_type": "code",
   "execution_count": 1,
   "id": "4b15ad72",
   "metadata": {
    "execution": {
     "iopub.execute_input": "2022-06-15T14:07:50.611782Z",
     "iopub.status.busy": "2022-06-15T14:07:50.611128Z",
     "iopub.status.idle": "2022-06-15T14:07:56.454100Z",
     "shell.execute_reply": "2022-06-15T14:07:56.453165Z"
    },
    "papermill": {
     "duration": 5.858371,
     "end_time": "2022-06-15T14:07:56.456657",
     "exception": false,
     "start_time": "2022-06-15T14:07:50.598286",
     "status": "completed"
    },
    "tags": []
   },
   "outputs": [],
   "source": [
    "import os\n",
    "import gc\n",
    "import cv2\n",
    "import numpy as np\n",
    "import pandas as pd\n",
    "from tqdm import tqdm\n",
    "from  matplotlib import pyplot as plt\n",
    "\n",
    "import tensorflow as tf"
   ]
  },
  {
   "cell_type": "code",
   "execution_count": 2,
   "id": "87568f97",
   "metadata": {
    "execution": {
     "iopub.execute_input": "2022-06-15T14:07:56.478614Z",
     "iopub.status.busy": "2022-06-15T14:07:56.477616Z",
     "iopub.status.idle": "2022-06-15T14:07:56.483084Z",
     "shell.execute_reply": "2022-06-15T14:07:56.482414Z"
    },
    "papermill": {
     "duration": 0.01838,
     "end_time": "2022-06-15T14:07:56.485018",
     "exception": false,
     "start_time": "2022-06-15T14:07:56.466638",
     "status": "completed"
    },
    "tags": []
   },
   "outputs": [],
   "source": [
    "mvsa_single_data_path = '../input/mvsasingle/MVSA_Single/data'\n",
    "mvsa_single_label_path = '../input/mvsasingle/MVSA_Single/labelResultAll.txt'\n",
    "mvsa_multiple_data_path = '../input/mvsamultiple/MVSA/data'\n",
    "mvsa_multiple_label_path = '../input/mvsamultiple/MVSA/labelResultAll.txt'\n",
    "\n",
    "IMAGE_SIZE = (224, 224)\n",
    "NUM_CHANNELS = 3"
   ]
  },
  {
   "cell_type": "code",
   "execution_count": 3,
   "id": "bb46038b",
   "metadata": {
    "execution": {
     "iopub.execute_input": "2022-06-15T14:07:56.505868Z",
     "iopub.status.busy": "2022-06-15T14:07:56.505427Z",
     "iopub.status.idle": "2022-06-15T14:07:56.514995Z",
     "shell.execute_reply": "2022-06-15T14:07:56.514192Z"
    },
    "papermill": {
     "duration": 0.022582,
     "end_time": "2022-06-15T14:07:56.517060",
     "exception": false,
     "start_time": "2022-06-15T14:07:56.494478",
     "status": "completed"
    },
    "tags": []
   },
   "outputs": [],
   "source": [
    "def read_text_file(path, multi_line=False):\n",
    "    if multi_line == True:\n",
    "        lines = open(path, 'r', encoding='latin-1').readlines()\n",
    "        lines = [line.rstrip('\\n') for line in lines]\n",
    "        return lines\n",
    "    return open(path, 'r', encoding='latin-1').read()\n",
    "\n",
    "def read_image_file(path):\n",
    "    try:\n",
    "        image = cv2.imread(path, cv2.COLOR_BGR2RGB)\n",
    "        image = cv2.resize(image, IMAGE_SIZE, interpolation = cv2.INTER_AREA)\n",
    "        invalid_ID = -1\n",
    "    except:\n",
    "        image = np.zeros((IMAGE_SIZE[0], IMAGE_SIZE[1], NUM_CHANNELS))\n",
    "        invalid_ID = os.path.split(path)[1].split('.')[0]\n",
    "    return image, invalid_ID\n",
    "\n",
    "def read_labels_file(path):\n",
    "    dataframe = pd.read_csv(path, sep=\"\\s+|,\", engine=\"python\")\n",
    "    return dataframe"
   ]
  },
  {
   "cell_type": "code",
   "execution_count": 4,
   "id": "3dbf3176",
   "metadata": {
    "execution": {
     "iopub.execute_input": "2022-06-15T14:07:56.538275Z",
     "iopub.status.busy": "2022-06-15T14:07:56.537706Z",
     "iopub.status.idle": "2022-06-15T14:07:56.550235Z",
     "shell.execute_reply": "2022-06-15T14:07:56.549401Z"
    },
    "papermill": {
     "duration": 0.026199,
     "end_time": "2022-06-15T14:07:56.552938",
     "exception": false,
     "start_time": "2022-06-15T14:07:56.526739",
     "status": "completed"
    },
    "tags": []
   },
   "outputs": [],
   "source": [
    "# since there are 3 annotators defining each data labels in the MVSA-Multiple dataset\n",
    "# we take the labels pair that 2 out 3 annotators agree on as the valid labels pair, remove otherwise\n",
    "def merge_multi_label(dataframe):\n",
    "    anno_1 = list(dataframe.iloc[:, 1:3].itertuples(index=False, name=None))\n",
    "    anno_2 = list(dataframe.iloc[:, 3:5].itertuples(index=False, name=None))\n",
    "    anno_3 = list(dataframe.iloc[:, 5:7].itertuples(index=False, name=None))\n",
    "    IDs = list(dataframe.iloc[:, 0])\n",
    "    \n",
    "    valid_pairs = []\n",
    "    \n",
    "    for i in range(len(anno_1)):\n",
    "        pairs = [anno_1[i], anno_2[i], anno_3[i]]\n",
    "        ID = IDs[i]\n",
    "        \n",
    "        valid_pair = tuple([pair for pair in pairs if pairs.count(pair) > 1])\n",
    "        \n",
    "        if len(valid_pair) == 0:\n",
    "            valid_pair = (ID, 'invalid', 'invalid')\n",
    "        else:\n",
    "            valid_pair = (ID, valid_pair[0][0], valid_pair[0][1])\n",
    "        valid_pairs.append(valid_pair)\n",
    "        \n",
    "    valid_dataframe = pd.DataFrame(valid_pairs, columns=['ID', 'text', 'image'])\n",
    "    return valid_dataframe\n",
    "\n",
    "def multimodal_label(text_label, image_label):\n",
    "    if text_label == image_label:\n",
    "        label = text_label\n",
    "    elif (text_label == 'positive' and image_label == 'negative') or (text_label == 'negative' and image_label == 'positive'):\n",
    "        label = 'invalid'\n",
    "    elif (text_label == 'neutral' and image_label != 'neutral') or (text_label != 'neutral' or image_label == 'neutral'):\n",
    "        label = image_label if text_label == 'neutral' else text_label\n",
    "    return label"
   ]
  },
  {
   "cell_type": "code",
   "execution_count": 5,
   "id": "49062b36",
   "metadata": {
    "execution": {
     "iopub.execute_input": "2022-06-15T14:07:56.574027Z",
     "iopub.status.busy": "2022-06-15T14:07:56.573417Z",
     "iopub.status.idle": "2022-06-15T14:07:56.580874Z",
     "shell.execute_reply": "2022-06-15T14:07:56.580145Z"
    },
    "papermill": {
     "duration": 0.020368,
     "end_time": "2022-06-15T14:07:56.582825",
     "exception": false,
     "start_time": "2022-06-15T14:07:56.562457",
     "status": "completed"
    },
    "tags": []
   },
   "outputs": [],
   "source": [
    "def get_data_paths(path, extension):\n",
    "    paths = os.listdir(path)\n",
    "    paths.sort(key = lambda x : int(x.split('.')[0]))\n",
    "    paths = list(filter(lambda x: x.endswith(extension), paths))\n",
    "    paths = [os.path.join(path, x) for x in paths]\n",
    "    return paths\n",
    "\n",
    "def get_image_with_id(path):\n",
    "    filename = os.path.split(path)[1]\n",
    "    ID = int(filename.split('.')[0])\n",
    "    image = read_image_file(path)\n",
    "    return (ID, image)"
   ]
  },
  {
   "cell_type": "code",
   "execution_count": 6,
   "id": "bb896485",
   "metadata": {
    "execution": {
     "iopub.execute_input": "2022-06-15T14:07:56.603995Z",
     "iopub.status.busy": "2022-06-15T14:07:56.603367Z",
     "iopub.status.idle": "2022-06-15T14:07:56.615972Z",
     "shell.execute_reply": "2022-06-15T14:07:56.614973Z"
    },
    "papermill": {
     "duration": 0.026181,
     "end_time": "2022-06-15T14:07:56.618383",
     "exception": false,
     "start_time": "2022-06-15T14:07:56.592202",
     "status": "completed"
    },
    "tags": []
   },
   "outputs": [],
   "source": [
    "def create_labels(path, multiple=False, mappings=False):\n",
    "    dataframe = read_labels_file(path)\n",
    "    \n",
    "    if multiple == True:\n",
    "        dataframe = merge_multi_label(dataframe)\n",
    "\n",
    "    labels = []\n",
    "    for label_pair in dataframe.iloc[:, 1:].values:\n",
    "        label = multimodal_label(label_pair[0], label_pair[1])\n",
    "        labels.append(label)\n",
    "        \n",
    "    if mappings == True:\n",
    "        label_map = {}\n",
    "        for i in range(len(labels)):\n",
    "            ID = dataframe.iloc[i, 0]\n",
    "            label_map[ID] = labels[i]            \n",
    "        return label_map\n",
    "    \n",
    "    return np.array(labels, dtype='object')\n",
    "\n",
    "def create_text_data(path):\n",
    "    texts = []\n",
    "    text_paths = get_data_paths(path, '.txt')\n",
    "    \n",
    "    print('Read text data')\n",
    "    for text_path in tqdm(text_paths):\n",
    "        text = read_text_file(text_path).rstrip('\\n')\n",
    "        texts.append(text)\n",
    "        \n",
    "    return np.array(texts)\n",
    "\n",
    "def create_image_data(path):\n",
    "    images = np.array([])\n",
    "\n",
    "    invalid_indices = []\n",
    "    image_paths = get_data_paths(path, '.jpg')\n",
    "\n",
    "    print('Read image data')\n",
    "    for image_path in tqdm(image_paths):\n",
    "        image, invalid_ID = read_image_file(image_path)\n",
    "        if images.shape[0] == 0:\n",
    "            images = np.array([image])\n",
    "        else:\n",
    "            images = np.concatenate((images, [image]))\n",
    "\n",
    "        if invalid_ID != -1:\n",
    "            invalid_indices.append(invalid_ID)\n",
    "            \n",
    "    return images, invalid_indices"
   ]
  },
  {
   "cell_type": "code",
   "execution_count": 7,
   "id": "97e58d39",
   "metadata": {
    "execution": {
     "iopub.execute_input": "2022-06-15T14:07:56.639033Z",
     "iopub.status.busy": "2022-06-15T14:07:56.638648Z",
     "iopub.status.idle": "2022-06-15T14:07:56.643931Z",
     "shell.execute_reply": "2022-06-15T14:07:56.643008Z"
    },
    "papermill": {
     "duration": 0.018134,
     "end_time": "2022-06-15T14:07:56.646089",
     "exception": false,
     "start_time": "2022-06-15T14:07:56.627955",
     "status": "completed"
    },
    "tags": []
   },
   "outputs": [],
   "source": [
    "def invalid_indices(labels):\n",
    "    invalid_indices = [i for i in range(labels.shape[0]) if labels[i] == 'invalid']\n",
    "    return indices\n",
    "\n",
    "def remove_invalid(data, indices):\n",
    "#     indices = invalid_indices(labels)\n",
    "    new_data =  np.delete(data, indices)\n",
    "    return new_data"
   ]
  },
  {
   "cell_type": "code",
   "execution_count": 8,
   "id": "2e4ab268",
   "metadata": {
    "execution": {
     "iopub.execute_input": "2022-06-15T14:07:56.666660Z",
     "iopub.status.busy": "2022-06-15T14:07:56.666205Z",
     "iopub.status.idle": "2022-06-15T14:07:56.671654Z",
     "shell.execute_reply": "2022-06-15T14:07:56.670539Z"
    },
    "papermill": {
     "duration": 0.018202,
     "end_time": "2022-06-15T14:07:56.673783",
     "exception": false,
     "start_time": "2022-06-15T14:07:56.655581",
     "status": "completed"
    },
    "tags": []
   },
   "outputs": [],
   "source": [
    "def save_text_file(filename, lines):\n",
    "    with open(filename, 'w', encoding='latin1') as f:\n",
    "        f.write('\\n'.join(lines))"
   ]
  },
  {
   "cell_type": "code",
   "execution_count": 9,
   "id": "caed47b2",
   "metadata": {
    "execution": {
     "iopub.execute_input": "2022-06-15T14:07:56.696167Z",
     "iopub.status.busy": "2022-06-15T14:07:56.695407Z",
     "iopub.status.idle": "2022-06-15T14:20:53.593187Z",
     "shell.execute_reply": "2022-06-15T14:20:53.592198Z"
    },
    "papermill": {
     "duration": 776.912176,
     "end_time": "2022-06-15T14:20:53.596157",
     "exception": false,
     "start_time": "2022-06-15T14:07:56.683981",
     "status": "completed"
    },
    "tags": []
   },
   "outputs": [
    {
     "name": "stdout",
     "output_type": "stream",
     "text": [
      "\n",
      "Read text data\n"
     ]
    },
    {
     "name": "stderr",
     "output_type": "stream",
     "text": [
      "100%|██████████| 4869/4869 [00:24<00:00, 201.71it/s]\n"
     ]
    },
    {
     "name": "stdout",
     "output_type": "stream",
     "text": [
      "Read image data\n"
     ]
    },
    {
     "name": "stderr",
     "output_type": "stream",
     "text": [
      "100%|██████████| 4869/4869 [12:32<00:00,  6.47it/s]\n"
     ]
    }
   ],
   "source": [
    "print()\n",
    "mvsa_single_texts = create_text_data(mvsa_single_data_path)\n",
    "mvsa_single_images, mvsa_single_images_invalid_indices = create_image_data(mvsa_single_data_path)\n",
    "mvsa_single_labels = create_labels(mvsa_single_label_path)"
   ]
  },
  {
   "cell_type": "code",
   "execution_count": 10,
   "id": "c6f5a915",
   "metadata": {
    "execution": {
     "iopub.execute_input": "2022-06-15T14:20:54.241930Z",
     "iopub.status.busy": "2022-06-15T14:20:54.241333Z",
     "iopub.status.idle": "2022-06-15T14:20:54.245717Z",
     "shell.execute_reply": "2022-06-15T14:20:54.244755Z"
    },
    "papermill": {
     "duration": 0.355461,
     "end_time": "2022-06-15T14:20:54.247681",
     "exception": false,
     "start_time": "2022-06-15T14:20:53.892220",
     "status": "completed"
    },
    "tags": []
   },
   "outputs": [],
   "source": [
    "# mvsa_multiple_texts = create_text_data(mvsa_multiple_data_path)\n",
    "# mvsa_multiple_images, mvsa_multiple_images_invalid_indices = create_image_data(mvsa_multiple_data_path)\n",
    "# mvsa_multiple_labels = create_labels(mvsa_multiple_label_path, multiple=True)"
   ]
  },
  {
   "cell_type": "markdown",
   "id": "a636f117",
   "metadata": {
    "papermill": {
     "duration": 0.28959,
     "end_time": "2022-06-15T14:20:54.829630",
     "exception": false,
     "start_time": "2022-06-15T14:20:54.540040",
     "status": "completed"
    },
    "tags": []
   },
   "source": [
    "# Remove invalid data"
   ]
  },
  {
   "cell_type": "code",
   "execution_count": 11,
   "id": "20f3b192",
   "metadata": {
    "execution": {
     "iopub.execute_input": "2022-06-15T14:20:55.413344Z",
     "iopub.status.busy": "2022-06-15T14:20:55.412982Z",
     "iopub.status.idle": "2022-06-15T14:20:56.764318Z",
     "shell.execute_reply": "2022-06-15T14:20:56.763355Z"
    },
    "papermill": {
     "duration": 1.644484,
     "end_time": "2022-06-15T14:20:56.766586",
     "exception": false,
     "start_time": "2022-06-15T14:20:55.122102",
     "status": "completed"
    },
    "tags": []
   },
   "outputs": [],
   "source": [
    "mvsa_single_labels_invalid_indices = [i for i in range(mvsa_single_labels.shape[0]) if mvsa_single_labels[i] == 'invalid']\n",
    "\n",
    "mvsa_single_invalid_indices = []\n",
    "mvsa_single_invalid_indices.extend(mvsa_single_labels_invalid_indices)\n",
    "mvsa_single_invalid_indices.extend(mvsa_single_images_invalid_indices)\n",
    "mvsa_single_invalid_indices = list(set(mvsa_single_invalid_indices))\n",
    "\n",
    "mvsa_single_texts_valid = remove_invalid(mvsa_single_texts, mvsa_single_invalid_indices)\n",
    "mvsa_single_images_valid = remove_invalid(mvsa_single_images, mvsa_single_invalid_indices)\n",
    "mvsa_single_labels_valid = remove_invalid(mvsa_single_labels, mvsa_single_invalid_indices)"
   ]
  },
  {
   "cell_type": "code",
   "execution_count": 12,
   "id": "0cb35a65",
   "metadata": {
    "execution": {
     "iopub.execute_input": "2022-06-15T14:20:57.403046Z",
     "iopub.status.busy": "2022-06-15T14:20:57.402215Z",
     "iopub.status.idle": "2022-06-15T14:20:57.406488Z",
     "shell.execute_reply": "2022-06-15T14:20:57.405665Z"
    },
    "papermill": {
     "duration": 0.295646,
     "end_time": "2022-06-15T14:20:57.408394",
     "exception": false,
     "start_time": "2022-06-15T14:20:57.112748",
     "status": "completed"
    },
    "tags": []
   },
   "outputs": [],
   "source": [
    "# mvsa_multiple_labels_invalid_indices = [i for i in range(mvsa_multiple_labels.shape[0]) if mvsa_multiple_labels[i] == 'invalid']\n",
    "\n",
    "# mvsa_multiple_invalid_indices = []\n",
    "# mvsa_multiple_invalid_indices.extend(mvsa_multiple_labels_invalid_indices)\n",
    "# mvsa_multiple_invalid_indices.extend(mvsa_multiple_images_invalid_indices)\n",
    "# mvsa_multiple_invalid_indices = list(set(mvsa_multiple_invalid_indices))\n",
    "\n",
    "# mvsa_multiple_texts_valid = remove_invalid(mvsa_multiple_texts, mvsa_multiple_invalid_indices)\n",
    "# mvsa_multiple_images_valid = remove_invalid(mvsa_multiple_images, mvsa_multiple_invalid_indices)\n",
    "# mvsa_multiple_labels_valid = remove_invalid(mvsa_multiple_labels, mvsa_multiple_invalid_indices)"
   ]
  },
  {
   "cell_type": "markdown",
   "id": "7723c644",
   "metadata": {
    "papermill": {
     "duration": 0.28725,
     "end_time": "2022-06-15T14:20:57.984171",
     "exception": false,
     "start_time": "2022-06-15T14:20:57.696921",
     "status": "completed"
    },
    "tags": []
   },
   "source": [
    "# Save and load data"
   ]
  },
  {
   "cell_type": "code",
   "execution_count": 13,
   "id": "65243214",
   "metadata": {
    "execution": {
     "iopub.execute_input": "2022-06-15T14:20:58.558849Z",
     "iopub.status.busy": "2022-06-15T14:20:58.558468Z",
     "iopub.status.idle": "2022-06-15T14:20:59.133073Z",
     "shell.execute_reply": "2022-06-15T14:20:59.131912Z"
    },
    "papermill": {
     "duration": 0.864824,
     "end_time": "2022-06-15T14:20:59.135700",
     "exception": false,
     "start_time": "2022-06-15T14:20:58.270876",
     "status": "completed"
    },
    "tags": []
   },
   "outputs": [],
   "source": [
    "save_text_file('./mvsa-single-texts.txt', mvsa_single_texts_valid)\n",
    "np.save('./mvsa-single-images.npy', mvsa_single_images_valid)\n",
    "save_text_file('./mvsa-single-labels.txt', mvsa_single_labels_valid)"
   ]
  },
  {
   "cell_type": "code",
   "execution_count": 14,
   "id": "3cd3d7b0",
   "metadata": {
    "execution": {
     "iopub.execute_input": "2022-06-15T14:20:59.730421Z",
     "iopub.status.busy": "2022-06-15T14:20:59.729762Z",
     "iopub.status.idle": "2022-06-15T14:21:01.008029Z",
     "shell.execute_reply": "2022-06-15T14:21:01.007071Z"
    },
    "papermill": {
     "duration": 1.575144,
     "end_time": "2022-06-15T14:21:01.010352",
     "exception": false,
     "start_time": "2022-06-15T14:20:59.435208",
     "status": "completed"
    },
    "tags": []
   },
   "outputs": [
    {
     "name": "stdout",
     "output_type": "stream",
     "text": [
      "True\n",
      "True\n",
      "True\n"
     ]
    }
   ],
   "source": [
    "mvsa_single_texts_loaded = read_text_file('./mvsa-single-texts.txt', multi_line=True)\n",
    "mvsa_single_images_loaded = np.load('./mvsa-single-images.npy')\n",
    "mvsa_single_labels_loaded = read_text_file('./mvsa-single-labels.txt', multi_line=True)\n",
    "\n",
    "print((mvsa_single_texts_valid == mvsa_single_texts_loaded).all())\n",
    "print((mvsa_single_images_loaded == mvsa_single_images_valid).all())\n",
    "print((mvsa_single_labels_valid == mvsa_single_labels_loaded).all())"
   ]
  },
  {
   "cell_type": "code",
   "execution_count": 15,
   "id": "1882b6de",
   "metadata": {
    "execution": {
     "iopub.execute_input": "2022-06-15T14:21:01.651781Z",
     "iopub.status.busy": "2022-06-15T14:21:01.650661Z",
     "iopub.status.idle": "2022-06-15T14:21:01.655091Z",
     "shell.execute_reply": "2022-06-15T14:21:01.654531Z"
    },
    "papermill": {
     "duration": 0.355001,
     "end_time": "2022-06-15T14:21:01.656875",
     "exception": false,
     "start_time": "2022-06-15T14:21:01.301874",
     "status": "completed"
    },
    "tags": []
   },
   "outputs": [],
   "source": [
    "# save_text_file('./mvsa-multiple-texts.txt', mvsa_multiple_texts_valid)\n",
    "# np.save('./mvsa-multiple-images.npy', mvsa_multiple_images_valid)\n",
    "# save_text_file('./mvsa-multiple-labels.txt', mvsa_multiple_labels_valid)"
   ]
  },
  {
   "cell_type": "code",
   "execution_count": 16,
   "id": "7403e8a2",
   "metadata": {
    "execution": {
     "iopub.execute_input": "2022-06-15T14:21:02.262445Z",
     "iopub.status.busy": "2022-06-15T14:21:02.261735Z",
     "iopub.status.idle": "2022-06-15T14:21:02.266032Z",
     "shell.execute_reply": "2022-06-15T14:21:02.265469Z"
    },
    "papermill": {
     "duration": 0.320101,
     "end_time": "2022-06-15T14:21:02.267926",
     "exception": false,
     "start_time": "2022-06-15T14:21:01.947825",
     "status": "completed"
    },
    "tags": []
   },
   "outputs": [],
   "source": [
    "# mvsa_multiple_texts_loaded = read_text_file('./mvsa-multiple-texts.txt', multi_line=True)\n",
    "# mvsa_multiple_images_loaded = np.load('./mvsa-multiple-images.npy')\n",
    "# mvsa_multiple_labels_loaded = read_text_file('./mvsa-multiple-labels.txt', multi_line=True)\n",
    "\n",
    "# print((mvsa_multiple_texts_valid == mvsa_multiple_texts_loaded).all())\n",
    "# print((mvsa_multiple_images_loaded == mvsa_multiple_images_valid).all())\n",
    "# print((mvsa_multiple_labels_valid == mvsa_multiple_labels_loaded).all())"
   ]
  },
  {
   "cell_type": "markdown",
   "id": "d7421559",
   "metadata": {
    "papermill": {
     "duration": 0.291763,
     "end_time": "2022-06-15T14:21:02.853775",
     "exception": false,
     "start_time": "2022-06-15T14:21:02.562012",
     "status": "completed"
    },
    "tags": []
   },
   "source": [
    "# Visualize\n",
    "**TODO**"
   ]
  },
  {
   "cell_type": "code",
   "execution_count": 17,
   "id": "5d6da186",
   "metadata": {
    "execution": {
     "iopub.execute_input": "2022-06-15T14:21:03.439742Z",
     "iopub.status.busy": "2022-06-15T14:21:03.439037Z",
     "iopub.status.idle": "2022-06-15T14:21:03.443148Z",
     "shell.execute_reply": "2022-06-15T14:21:03.442572Z"
    },
    "papermill": {
     "duration": 0.298429,
     "end_time": "2022-06-15T14:21:03.445052",
     "exception": false,
     "start_time": "2022-06-15T14:21:03.146623",
     "status": "completed"
    },
    "tags": []
   },
   "outputs": [],
   "source": [
    "############\n",
    "# df_labels = read_labels_file('../input/mvsasingle/MVSA_Single/labelResultAll.txt')\n",
    "# df_labels['text'].count\n",
    "# label_text_count = df_labels.value_counts('text')\n",
    "# label_image_count = df_labels.value_counts('image')\n",
    "# label_text_count"
   ]
  },
  {
   "cell_type": "code",
   "execution_count": null,
   "id": "833de9fb",
   "metadata": {
    "papermill": {
     "duration": 0.291641,
     "end_time": "2022-06-15T14:21:04.031629",
     "exception": false,
     "start_time": "2022-06-15T14:21:03.739988",
     "status": "completed"
    },
    "tags": []
   },
   "outputs": [],
   "source": []
  },
  {
   "cell_type": "code",
   "execution_count": 18,
   "id": "02c3f5a1",
   "metadata": {
    "execution": {
     "iopub.execute_input": "2022-06-15T14:21:04.680705Z",
     "iopub.status.busy": "2022-06-15T14:21:04.679978Z",
     "iopub.status.idle": "2022-06-15T14:21:04.684238Z",
     "shell.execute_reply": "2022-06-15T14:21:04.683631Z"
    },
    "papermill": {
     "duration": 0.299171,
     "end_time": "2022-06-15T14:21:04.686170",
     "exception": false,
     "start_time": "2022-06-15T14:21:04.386999",
     "status": "completed"
    },
    "tags": []
   },
   "outputs": [],
   "source": [
    "# text_ids = []\n",
    "# image_ids = []\n",
    "# for i in range(len(texts)):\n",
    "#     if texts[i][0] != images[i][0] != read_labels_file(label_path)['ID'][i]:\n",
    "#         print('here')"
   ]
  },
  {
   "cell_type": "code",
   "execution_count": 19,
   "id": "c604ccbc",
   "metadata": {
    "execution": {
     "iopub.execute_input": "2022-06-15T14:21:05.275883Z",
     "iopub.status.busy": "2022-06-15T14:21:05.275332Z",
     "iopub.status.idle": "2022-06-15T14:21:05.279316Z",
     "shell.execute_reply": "2022-06-15T14:21:05.278391Z"
    },
    "papermill": {
     "duration": 0.302647,
     "end_time": "2022-06-15T14:21:05.281299",
     "exception": false,
     "start_time": "2022-06-15T14:21:04.978652",
     "status": "completed"
    },
    "tags": []
   },
   "outputs": [],
   "source": [
    "# u, c, i = np.unique(texts, return_index=True, return_counts=True, axis=1)\n",
    "# dup = u[c > 1]\n",
    "# u[:10]"
   ]
  },
  {
   "cell_type": "code",
   "execution_count": 20,
   "id": "bb16f71d",
   "metadata": {
    "execution": {
     "iopub.execute_input": "2022-06-15T14:21:05.912550Z",
     "iopub.status.busy": "2022-06-15T14:21:05.912179Z",
     "iopub.status.idle": "2022-06-15T14:21:05.915952Z",
     "shell.execute_reply": "2022-06-15T14:21:05.915074Z"
    },
    "papermill": {
     "duration": 0.311414,
     "end_time": "2022-06-15T14:21:05.917860",
     "exception": false,
     "start_time": "2022-06-15T14:21:05.606446",
     "status": "completed"
    },
    "tags": []
   },
   "outputs": [],
   "source": [
    "# def display_sample(text, image):\n",
    "#     plt.imshow(image)\n",
    "#     print('Text:', text)\n",
    "#     plt.show()\n",
    "# display_sample(texts_with_id[2][1], images_with_id[2][1])"
   ]
  },
  {
   "cell_type": "code",
   "execution_count": 21,
   "id": "1ab61c49",
   "metadata": {
    "execution": {
     "iopub.execute_input": "2022-06-15T14:21:06.497564Z",
     "iopub.status.busy": "2022-06-15T14:21:06.496858Z",
     "iopub.status.idle": "2022-06-15T14:21:06.500862Z",
     "shell.execute_reply": "2022-06-15T14:21:06.500234Z"
    },
    "papermill": {
     "duration": 0.294531,
     "end_time": "2022-06-15T14:21:06.502667",
     "exception": false,
     "start_time": "2022-06-15T14:21:06.208136",
     "status": "completed"
    },
    "tags": []
   },
   "outputs": [],
   "source": [
    "# shapes = []\n",
    "# for image in images_with_id:\n",
    "#     shapes.append(image.shape)\n",
    "# shapes"
   ]
  },
  {
   "cell_type": "code",
   "execution_count": 22,
   "id": "f6936a65",
   "metadata": {
    "execution": {
     "iopub.execute_input": "2022-06-15T14:21:07.084832Z",
     "iopub.status.busy": "2022-06-15T14:21:07.084424Z",
     "iopub.status.idle": "2022-06-15T14:21:07.088256Z",
     "shell.execute_reply": "2022-06-15T14:21:07.087586Z"
    },
    "papermill": {
     "duration": 0.294737,
     "end_time": "2022-06-15T14:21:07.089983",
     "exception": false,
     "start_time": "2022-06-15T14:21:06.795246",
     "status": "completed"
    },
    "tags": []
   },
   "outputs": [],
   "source": [
    "# raw_texts[raw_texts.duplicated('Text')]"
   ]
  },
  {
   "cell_type": "code",
   "execution_count": 23,
   "id": "0ca1f456",
   "metadata": {
    "execution": {
     "iopub.execute_input": "2022-06-15T14:21:07.729585Z",
     "iopub.status.busy": "2022-06-15T14:21:07.728909Z",
     "iopub.status.idle": "2022-06-15T14:21:07.732580Z",
     "shell.execute_reply": "2022-06-15T14:21:07.731976Z"
    },
    "papermill": {
     "duration": 0.296364,
     "end_time": "2022-06-15T14:21:07.734370",
     "exception": false,
     "start_time": "2022-06-15T14:21:07.438006",
     "status": "completed"
    },
    "tags": []
   },
   "outputs": [],
   "source": [
    "# len_split = lambda x: len(x.split())\n",
    "# print()\n",
    "# print('Min number of words in text:', raw_texts['Text'].apply(len_split).min())\n",
    "# print('Max number of words in text:', raw_texts['Text'].apply(len_split).max())\n",
    "# print('Average number of words in text:', round(raw_texts['Text'].apply(len_split).mean()))"
   ]
  },
  {
   "cell_type": "code",
   "execution_count": null,
   "id": "cc628dfd",
   "metadata": {
    "papermill": {
     "duration": 0.289264,
     "end_time": "2022-06-15T14:21:08.319933",
     "exception": false,
     "start_time": "2022-06-15T14:21:08.030669",
     "status": "completed"
    },
    "tags": []
   },
   "outputs": [],
   "source": []
  },
  {
   "cell_type": "markdown",
   "id": "ad83d5ac",
   "metadata": {
    "papermill": {
     "duration": 0.346735,
     "end_time": "2022-06-15T14:21:08.953041",
     "exception": false,
     "start_time": "2022-06-15T14:21:08.606306",
     "status": "completed"
    },
    "tags": []
   },
   "source": [
    "# Drafts"
   ]
  },
  {
   "cell_type": "code",
   "execution_count": 24,
   "id": "92c318eb",
   "metadata": {
    "execution": {
     "iopub.execute_input": "2022-06-15T14:21:11.914783Z",
     "iopub.status.busy": "2022-06-15T14:21:11.914322Z",
     "iopub.status.idle": "2022-06-15T14:21:11.918280Z",
     "shell.execute_reply": "2022-06-15T14:21:11.917425Z"
    },
    "papermill": {
     "duration": 2.675453,
     "end_time": "2022-06-15T14:21:11.920208",
     "exception": false,
     "start_time": "2022-06-15T14:21:09.244755",
     "status": "completed"
    },
    "tags": []
   },
   "outputs": [],
   "source": [
    "# if extracted_data.shape[0] == 0:\n",
    "#     extracted_data = np.concatenate(([extracted_data], [features]), 1)\n",
    "# else:\n",
    "#     extracted_data = np.concatenate((extracted_data, [features]), 0)"
   ]
  },
  {
   "cell_type": "code",
   "execution_count": 25,
   "id": "c3c3987b",
   "metadata": {
    "execution": {
     "iopub.execute_input": "2022-06-15T14:21:12.500772Z",
     "iopub.status.busy": "2022-06-15T14:21:12.500114Z",
     "iopub.status.idle": "2022-06-15T14:21:12.503432Z",
     "shell.execute_reply": "2022-06-15T14:21:12.502865Z"
    },
    "papermill": {
     "duration": 0.294764,
     "end_time": "2022-06-15T14:21:12.505143",
     "exception": false,
     "start_time": "2022-06-15T14:21:12.210379",
     "status": "completed"
    },
    "tags": []
   },
   "outputs": [],
   "source": [
    "# a = np.array([np.zeros((5, 5, 3))])\n",
    "# b = np.zeros((5, 5, 3))\n",
    "# c = np.concatenate((a, [b]))\n",
    "# d = np.concatenate((c, [b]))\n",
    "# d.shape"
   ]
  },
  {
   "cell_type": "code",
   "execution_count": 26,
   "id": "5d123e8c",
   "metadata": {
    "execution": {
     "iopub.execute_input": "2022-06-15T14:21:13.167301Z",
     "iopub.status.busy": "2022-06-15T14:21:13.166648Z",
     "iopub.status.idle": "2022-06-15T14:21:13.170185Z",
     "shell.execute_reply": "2022-06-15T14:21:13.169585Z"
    },
    "papermill": {
     "duration": 0.375722,
     "end_time": "2022-06-15T14:21:13.171977",
     "exception": false,
     "start_time": "2022-06-15T14:21:12.796255",
     "status": "completed"
    },
    "tags": []
   },
   "outputs": [],
   "source": [
    "# # mvsa_single_images.tofile('./mvsa-single-images.npy')\n",
    "# np.save('./mvsa-single-images.npy', mvsa_single_images)\n",
    "# mvsa_single_images_loaded = np.load('./mvsa-single-images.npy')\n",
    "# (mvsa_single_images_loaded == mvsa_single_images).all()"
   ]
  },
  {
   "cell_type": "code",
   "execution_count": 27,
   "id": "6e1c528f",
   "metadata": {
    "execution": {
     "iopub.execute_input": "2022-06-15T14:21:13.757445Z",
     "iopub.status.busy": "2022-06-15T14:21:13.756826Z",
     "iopub.status.idle": "2022-06-15T14:21:13.760155Z",
     "shell.execute_reply": "2022-06-15T14:21:13.759612Z"
    },
    "papermill": {
     "duration": 0.299628,
     "end_time": "2022-06-15T14:21:13.761967",
     "exception": false,
     "start_time": "2022-06-15T14:21:13.462339",
     "status": "completed"
    },
    "tags": []
   },
   "outputs": [],
   "source": [
    "# a = read_labels_file(mvsa_single_label_path).iloc[:, 1:].values\n",
    "# for i in a:\n",
    "#     if i[0] == 'negative' and i[1] == 'positive':\n",
    "#         print('here')\n",
    "#     elif i[0] == 'positive' and i[1] == 'negative':\n",
    "#         print('hereee')"
   ]
  },
  {
   "cell_type": "code",
   "execution_count": 28,
   "id": "b61164fb",
   "metadata": {
    "execution": {
     "iopub.execute_input": "2022-06-15T14:21:14.347352Z",
     "iopub.status.busy": "2022-06-15T14:21:14.346826Z",
     "iopub.status.idle": "2022-06-15T14:21:14.350984Z",
     "shell.execute_reply": "2022-06-15T14:21:14.350179Z"
    },
    "papermill": {
     "duration": 0.299644,
     "end_time": "2022-06-15T14:21:14.352756",
     "exception": false,
     "start_time": "2022-06-15T14:21:14.053112",
     "status": "completed"
    },
    "tags": []
   },
   "outputs": [],
   "source": [
    "# label_mappings = create_labels(mvsa_single_label_path, mappings=True)\n",
    "\n",
    "# image_dataset = make_dataset([os.path.join(mvsa_single_label_path, str(ID) + '.jpg') for ID in label_mappings.keys()],\n",
    "#                              list(label_mappings.values()))"
   ]
  },
  {
   "cell_type": "code",
   "execution_count": 29,
   "id": "9cc2af00",
   "metadata": {
    "execution": {
     "iopub.execute_input": "2022-06-15T14:21:14.992858Z",
     "iopub.status.busy": "2022-06-15T14:21:14.992041Z",
     "iopub.status.idle": "2022-06-15T14:21:14.995848Z",
     "shell.execute_reply": "2022-06-15T14:21:14.995016Z"
    },
    "papermill": {
     "duration": 0.353366,
     "end_time": "2022-06-15T14:21:14.997687",
     "exception": false,
     "start_time": "2022-06-15T14:21:14.644321",
     "status": "completed"
    },
    "tags": []
   },
   "outputs": [],
   "source": [
    "# a = get_image_with_id(os.path.join(mvsa_single_data_path, '1.jpg'))\n",
    "# tf.keras.utils.array_to_img(a[1])"
   ]
  },
  {
   "cell_type": "code",
   "execution_count": 30,
   "id": "7fd1797c",
   "metadata": {
    "execution": {
     "iopub.execute_input": "2022-06-15T14:21:15.585713Z",
     "iopub.status.busy": "2022-06-15T14:21:15.585049Z",
     "iopub.status.idle": "2022-06-15T14:21:15.588915Z",
     "shell.execute_reply": "2022-06-15T14:21:15.588085Z"
    },
    "papermill": {
     "duration": 0.300463,
     "end_time": "2022-06-15T14:21:15.590840",
     "exception": false,
     "start_time": "2022-06-15T14:21:15.290377",
     "status": "completed"
    },
    "tags": []
   },
   "outputs": [],
   "source": [
    "# label_mappings = create_labels(mvsa_single_label_path, mappings=True)\n",
    "\n",
    "# image_dataset = make_dataset([os.path.join(mvsa_single_label_path, str(ID) + '.jpg') for ID in label_mappings.keys()],\n",
    "#                              list(label_mappings.values()))"
   ]
  },
  {
   "cell_type": "code",
   "execution_count": 31,
   "id": "d38476cf",
   "metadata": {
    "execution": {
     "iopub.execute_input": "2022-06-15T14:21:16.180374Z",
     "iopub.status.busy": "2022-06-15T14:21:16.179467Z",
     "iopub.status.idle": "2022-06-15T14:21:16.183391Z",
     "shell.execute_reply": "2022-06-15T14:21:16.182764Z"
    },
    "papermill": {
     "duration": 0.298091,
     "end_time": "2022-06-15T14:21:16.185119",
     "exception": false,
     "start_time": "2022-06-15T14:21:15.887028",
     "status": "completed"
    },
    "tags": []
   },
   "outputs": [],
   "source": [
    "# a = os.listdir(mvsa_single_data_path)\n",
    "# a.sort(key = lambda x: int(x.split('.')[0]))\n",
    "# list(filter(lambda x: x.endswith('.jpg'), a))\n",
    "# a = [os.path.join(mvsa_single_data_path, i) for i in a]\n",
    "# a"
   ]
  },
  {
   "cell_type": "code",
   "execution_count": 32,
   "id": "0e81b7a9",
   "metadata": {
    "execution": {
     "iopub.execute_input": "2022-06-15T14:21:16.770809Z",
     "iopub.status.busy": "2022-06-15T14:21:16.770155Z",
     "iopub.status.idle": "2022-06-15T14:21:16.774120Z",
     "shell.execute_reply": "2022-06-15T14:21:16.773373Z"
    },
    "papermill": {
     "duration": 0.299763,
     "end_time": "2022-06-15T14:21:16.775985",
     "exception": false,
     "start_time": "2022-06-15T14:21:16.476222",
     "status": "completed"
    },
    "tags": []
   },
   "outputs": [],
   "source": [
    "# # a = create_labels(mvsa_multiple_label_path, multiple=True, mappings=True)\n",
    "# def process_image(path, label):\n",
    "# #     filename = os.path.split(path)[1]\n",
    "# #     ID = int(filename.split('.')[0])\n",
    "# #     return read_image_file(path), label_map[ID]\n",
    "#     return read_image_file(path), label\n",
    "\n",
    "# def make_dataset(images, labels):\n",
    "#     dataset = tf.data.Dataset.from_tensor_slices((images, labels))\n",
    "# #     dataset = dataset.shuffle(len(images))\n",
    "#     dataset = dataset.map(process_image)#, num_parallel_calls=AUTOTUNE)\n",
    "# #     dataset = dataset.batch(100).prefetch(tf.data.AUTOTUNE)\n",
    "#     return dataset"
   ]
  },
  {
   "cell_type": "code",
   "execution_count": 33,
   "id": "7ab08e48",
   "metadata": {
    "execution": {
     "iopub.execute_input": "2022-06-15T14:21:17.361410Z",
     "iopub.status.busy": "2022-06-15T14:21:17.360799Z",
     "iopub.status.idle": "2022-06-15T14:21:17.364563Z",
     "shell.execute_reply": "2022-06-15T14:21:17.363971Z"
    },
    "papermill": {
     "duration": 0.29718,
     "end_time": "2022-06-15T14:21:17.366215",
     "exception": false,
     "start_time": "2022-06-15T14:21:17.069035",
     "status": "completed"
    },
    "tags": []
   },
   "outputs": [],
   "source": [
    "# IMAGE_SIZE = (224, 224)\n",
    "# def read_image_file(path):\n",
    "#     image = cv2.imread(path, cv2.COLOR_BGR2RGB)\n",
    "# #     image = np.array(image)#.astype('float32')\n",
    "# #     image = cv2.resize(image, IMAGE_SIZE, interpolation = cv2.INTER_AREA)\n",
    "# #     image /= 255\n",
    "# #     print(image.shape)\n",
    "# #     ax = plt.subplot(1,2,1)\n",
    "# #     plt.imshow(image)\n",
    "# #     image = cv2.resize(image, IMAGE_SIZE, interpolation = cv2.INTER_AREA)\n",
    "# #     ax = plt.subplot(1,2,2)\n",
    "# #     plt.imshow(image)\n",
    "# #     print(image.shape)\n",
    "#     return image\n",
    "# read_image_file('../input/mvsasingle/MVSA_Single/data/10.jpg')      "
   ]
  },
  {
   "cell_type": "code",
   "execution_count": 34,
   "id": "d16df586",
   "metadata": {
    "execution": {
     "iopub.execute_input": "2022-06-15T14:21:18.008844Z",
     "iopub.status.busy": "2022-06-15T14:21:18.008363Z",
     "iopub.status.idle": "2022-06-15T14:21:18.013254Z",
     "shell.execute_reply": "2022-06-15T14:21:18.012325Z"
    },
    "papermill": {
     "duration": 0.301442,
     "end_time": "2022-06-15T14:21:18.015182",
     "exception": false,
     "start_time": "2022-06-15T14:21:17.713740",
     "status": "completed"
    },
    "tags": []
   },
   "outputs": [],
   "source": [
    "# def read_text_file(path, multi_line=False):\n",
    "# #     with open(path, 'r', encoding='latin-1') as f:\n",
    "# #         if multi_line == True:\n",
    "# #             lines = f.readlines()\n",
    "# #             lines = [line.rstrip('\\n') for line in lines]\n",
    "# #             return lines\n",
    "# #         return f.read()\n",
    "    \n",
    "#     if multi_line == True:\n",
    "#         lines = open(path, 'r', encoding='latin-1').readlines()\n",
    "#         lines = [line.rstrip('\\n') for line in lines]\n",
    "#         return lines\n",
    "#     return open(path, 'r', encoding='latin-1').read()\n",
    "\n",
    "# def read_image_file(path):\n",
    "#     try:\n",
    "#         image = cv2.imread(path, cv2.COLOR_BGR2RGB)\n",
    "#         image = cv2.resize(image, IMAGE_SIZE, interpolation = cv2.INTER_AREA)\n",
    "#     except:\n",
    "#         image = np.zeros((IMAGE_SIZE[0], IMAGE_SIZE[1], NUM_CHANNELS))\n",
    "#         ID = os.path.split(path)[1].split('.')[0]\n",
    "#         invalid_indices.append(ID)\n",
    "# #     image = tf.io.read_file(path)\n",
    "# #     image = tf.image.decode_jpeg(image, channels=NUM_CHANNELS)\n",
    "# #     image = tf.image.resize(image, IMAGE_SIZE)\n",
    "#     return image\n",
    "\n",
    "# def read_labels_file(path):\n",
    "#     dataframe = pd.read_csv(path, sep=\"\\s+|,\", engine=\"python\")\n",
    "#     return dataframe"
   ]
  },
  {
   "cell_type": "code",
   "execution_count": 35,
   "id": "652fdaa0",
   "metadata": {
    "execution": {
     "iopub.execute_input": "2022-06-15T14:21:18.602519Z",
     "iopub.status.busy": "2022-06-15T14:21:18.601882Z",
     "iopub.status.idle": "2022-06-15T14:21:18.607733Z",
     "shell.execute_reply": "2022-06-15T14:21:18.607128Z"
    },
    "papermill": {
     "duration": 0.300705,
     "end_time": "2022-06-15T14:21:18.609577",
     "exception": false,
     "start_time": "2022-06-15T14:21:18.308872",
     "status": "completed"
    },
    "tags": []
   },
   "outputs": [],
   "source": [
    "# def create_labels(path, multiple=False, mappings=False):\n",
    "#     dataframe = read_labels_file(path)\n",
    "    \n",
    "#     if multiple == True:\n",
    "#         dataframe = merge_multi_label(dataframe)\n",
    "        \n",
    "#     labels = []\n",
    "#     for _, row in dataframe.iterrows():\n",
    "#         label = multimodal_label(row['text'], row['image'])\n",
    "#         labels.append(label)\n",
    "        \n",
    "#     if mappings == True:\n",
    "#         label_map = {}\n",
    "#         for i in range(len(labels)):\n",
    "#             ID = dataframe.iloc[i, 0]\n",
    "#             label_map[ID] = labels[i]            \n",
    "#         return label_map\n",
    "#     return np.array(labels, dtype='object')\n",
    "\n",
    "# def create_text_data(path):\n",
    "#     texts = []\n",
    "    \n",
    "#     print('Read text data')\n",
    "#     # read data along with its filename as ID\n",
    "#     for filename in tqdm(os.listdir(path)):\n",
    "#         ID = int(filename.split('.')[0])\n",
    "#         file_path = os.path.join(path, filename)\n",
    "#         if filename.endswith('txt'):\n",
    "#             text = read_text_file(file_path)\n",
    "#             texts.append((ID, text))\n",
    "\n",
    "#     # Sort data by its ID\n",
    "#     get_ID = lambda x : x[0]\n",
    "#     texts.sort(key=get_ID)\n",
    "    \n",
    "#     # return data without ID\n",
    "#     texts = np.array([text[1].rstrip('\\n') for text in texts])\n",
    "\n",
    "#     return texts\n",
    "\n",
    "# def create_image_data(path):\n",
    "#     images = []\n",
    "     \n",
    "#     image_paths = os.listdir(path)\n",
    "#     image_paths.sort(key = lambda x : int(x.split('.')[0]))\n",
    "#     image_paths = list(filter(lambda x: x.endswith('.jpg'), image_paths))\n",
    "#     image_paths = [os.path.join(path, x) for x in image_paths]\n",
    "# #     print(image_path)\n",
    "    \n",
    "#     print('Read image data')\n",
    "#     # read data along with its filename as ID\n",
    "#     for image_path in tqdm(image_paths):\n",
    "# #         ID = int(filename.split('.')[0])\n",
    "# #         file_path = os.path.join(path, filename)\n",
    "# #         gc.collect()\n",
    "# #         if filename.endswith('jpg'):\n",
    "# #         image_with_id = get_image_with_id(image_path)\n",
    "# #         images.append(image_with_id)\n",
    "#         image = read_image_file(image_path)\n",
    "#         images.append(image)\n",
    "# #         del image\n",
    "# #         gc.collect()\n",
    "        \n",
    "    \n",
    "# #     # Sort data by its ID\n",
    "# #     get_ID = lambda x : x[0]\n",
    "# #     images.sort(key=get_ID)\n",
    "    \n",
    "#     # return data without ID\n",
    "# #     images = np.array([image[1] for image in images], dtype='object')\n",
    "\n",
    "#     return images\n",
    "\n",
    "# def get_image_with_id(path):\n",
    "#     filename = os.path.split(path)[1]\n",
    "#     ID = int(filename.split('.')[0])\n",
    "#     image = read_image_file(path)\n",
    "#     return (ID, image)"
   ]
  }
 ],
 "metadata": {
  "kernelspec": {
   "display_name": "Python 3",
   "language": "python",
   "name": "python3"
  },
  "language_info": {
   "codemirror_mode": {
    "name": "ipython",
    "version": 3
   },
   "file_extension": ".py",
   "mimetype": "text/x-python",
   "name": "python",
   "nbconvert_exporter": "python",
   "pygments_lexer": "ipython3",
   "version": "3.7.12"
  },
  "papermill": {
   "default_parameters": {},
   "duration": 821.497102,
   "end_time": "2022-06-15T14:21:21.781819",
   "environment_variables": {},
   "exception": null,
   "input_path": "__notebook__.ipynb",
   "output_path": "__notebook__.ipynb",
   "parameters": {},
   "start_time": "2022-06-15T14:07:40.284717",
   "version": "2.3.4"
  }
 },
 "nbformat": 4,
 "nbformat_minor": 5
}
