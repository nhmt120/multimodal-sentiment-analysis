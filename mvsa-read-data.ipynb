{
 "cells": [
  {
   "cell_type": "code",
   "execution_count": 1,
   "id": "0d5ed22b",
   "metadata": {
    "execution": {
     "iopub.execute_input": "2022-06-14T19:12:33.426158Z",
     "iopub.status.busy": "2022-06-14T19:12:33.425552Z",
     "iopub.status.idle": "2022-06-14T19:12:33.611815Z",
     "shell.execute_reply": "2022-06-14T19:12:33.611067Z"
    },
    "papermill": {
     "duration": 0.20033,
     "end_time": "2022-06-14T19:12:33.614194",
     "exception": false,
     "start_time": "2022-06-14T19:12:33.413864",
     "status": "completed"
    },
    "tags": []
   },
   "outputs": [],
   "source": [
    "import os\n",
    "import cv2\n",
    "import numpy as np\n",
    "import pandas as pd\n",
    "from tqdm import tqdm\n",
    "from  matplotlib import pyplot as plt"
   ]
  },
  {
   "cell_type": "code",
   "execution_count": 2,
   "id": "bbeaa4b1",
   "metadata": {
    "execution": {
     "iopub.execute_input": "2022-06-14T19:12:33.629201Z",
     "iopub.status.busy": "2022-06-14T19:12:33.628699Z",
     "iopub.status.idle": "2022-06-14T19:12:33.632292Z",
     "shell.execute_reply": "2022-06-14T19:12:33.631742Z"
    },
    "papermill": {
     "duration": 0.013151,
     "end_time": "2022-06-14T19:12:33.634054",
     "exception": false,
     "start_time": "2022-06-14T19:12:33.620903",
     "status": "completed"
    },
    "tags": []
   },
   "outputs": [],
   "source": [
    "mvsa_single_data_path = '../input/mvsasingle/MVSA_Single/data'\n",
    "mvsa_single_label_path = '../input/mvsasingle/MVSA_Single/labelResultAll.txt'\n",
    "mvsa_multiple_data_path = '../input/mvsamultiple/MVSA/data'\n",
    "mvsa_multiple_label_path = '../input/mvsamultiple/MVSA/labelResultAll.txt'"
   ]
  },
  {
   "cell_type": "code",
   "execution_count": 3,
   "id": "8f37903c",
   "metadata": {
    "execution": {
     "iopub.execute_input": "2022-06-14T19:12:33.648907Z",
     "iopub.status.busy": "2022-06-14T19:12:33.648409Z",
     "iopub.status.idle": "2022-06-14T19:12:33.654724Z",
     "shell.execute_reply": "2022-06-14T19:12:33.654120Z"
    },
    "papermill": {
     "duration": 0.015503,
     "end_time": "2022-06-14T19:12:33.656511",
     "exception": false,
     "start_time": "2022-06-14T19:12:33.641008",
     "status": "completed"
    },
    "tags": []
   },
   "outputs": [],
   "source": [
    "def read_text_file(path, multi_line=False):\n",
    "    with open(path, 'r', encoding='latin-1') as f:\n",
    "        if multi_line == True:\n",
    "            lines = f.readlines()\n",
    "            lines = [line.rstrip('\\n') for line in lines]\n",
    "            return lines\n",
    "        return f.read()\n",
    "    \n",
    "def read_image_file(path):\n",
    "    image = cv2.imread(path, cv2.COLOR_BGR2RGB)\n",
    "    return image\n",
    "\n",
    "def read_labels_file(path):\n",
    "    dataframe = pd.read_csv(path, sep=\"\\s+|,\", engine=\"python\")\n",
    "    return dataframe"
   ]
  },
  {
   "cell_type": "code",
   "execution_count": 4,
   "id": "950f930f",
   "metadata": {
    "execution": {
     "iopub.execute_input": "2022-06-14T19:12:33.676477Z",
     "iopub.status.busy": "2022-06-14T19:12:33.674564Z",
     "iopub.status.idle": "2022-06-14T19:12:33.680544Z",
     "shell.execute_reply": "2022-06-14T19:12:33.679925Z"
    },
    "papermill": {
     "duration": 0.017818,
     "end_time": "2022-06-14T19:12:33.682400",
     "exception": false,
     "start_time": "2022-06-14T19:12:33.664582",
     "status": "completed"
    },
    "tags": []
   },
   "outputs": [],
   "source": [
    "# IMAGE_SIZE = (224, 224)\n",
    "# def read_image_file(path):\n",
    "#     image = cv2.imread(path, cv2.COLOR_BGR2RGB)\n",
    "# #     image = np.array(image)#.astype('float32')\n",
    "# #     image = cv2.resize(image, IMAGE_SIZE, interpolation = cv2.INTER_AREA)\n",
    "# #     image /= 255\n",
    "# #     print(image.shape)\n",
    "# #     ax = plt.subplot(1,2,1)\n",
    "# #     plt.imshow(image)\n",
    "# #     image = cv2.resize(image, IMAGE_SIZE, interpolation = cv2.INTER_AREA)\n",
    "# #     ax = plt.subplot(1,2,2)\n",
    "# #     plt.imshow(image)\n",
    "# #     print(image.shape)\n",
    "#     return image\n",
    "# read_image_file('../input/mvsasingle/MVSA_Single/data/10.jpg')      "
   ]
  },
  {
   "cell_type": "code",
   "execution_count": 5,
   "id": "564d0fbe",
   "metadata": {
    "execution": {
     "iopub.execute_input": "2022-06-14T19:12:33.697454Z",
     "iopub.status.busy": "2022-06-14T19:12:33.696574Z",
     "iopub.status.idle": "2022-06-14T19:12:33.712181Z",
     "shell.execute_reply": "2022-06-14T19:12:33.710486Z"
    },
    "papermill": {
     "duration": 0.02635,
     "end_time": "2022-06-14T19:12:33.715397",
     "exception": false,
     "start_time": "2022-06-14T19:12:33.689047",
     "status": "completed"
    },
    "tags": []
   },
   "outputs": [],
   "source": [
    "# since there are 3 annotators defining each data labels in the MVSA-Multiple dataset\n",
    "# we take the labels pair that 2 out 3 annotators agree on as the valid labels pair, remove otherwise\n",
    "def valid_label(dataframe):\n",
    "    anno_1 = list(dataframe.iloc[:, 1:3].itertuples(index=False, name=None))\n",
    "    anno_2 = list(dataframe.iloc[:, 3:5].itertuples(index=False, name=None))\n",
    "    anno_3 = list(dataframe.iloc[:, 5:7].itertuples(index=False, name=None))\n",
    "    IDs = list(dataframe.iloc[:, 0])\n",
    "    \n",
    "    valid_pairs = []\n",
    "    \n",
    "    for i in range(len(anno_1)):\n",
    "        pairs = [anno_1[i], anno_2[i], anno_3[i]]\n",
    "        ID = IDs[i]\n",
    "        \n",
    "        valid_pair = tuple([pair for pair in pairs if pairs.count(pair) > 1])\n",
    "        \n",
    "        if len(valid_pair) == 0:\n",
    "            valid_pair = (ID, 'invalid', 'invalid')\n",
    "        else:\n",
    "            valid_pair = (ID, valid_pair[0][0], valid_pair[0][1])\n",
    "        valid_pairs.append(valid_pair)\n",
    "        \n",
    "    valid_dataframe = pd.DataFrame(valid_pairs, columns=['ID', 'text', 'image'])\n",
    "    return valid_dataframe\n",
    "\n",
    "def ground_truth_label(text_label, image_label):\n",
    "    if text_label == image_label == 'positive':\n",
    "        label = 'positive'\n",
    "    elif text_label == image_label == 'negative':\n",
    "        label = 'negative'\n",
    "    elif text_label == image_label == 'neutral':\n",
    "        label = 'neutral'\n",
    "    elif (text_label == 'neutral' and image_label != 'neutral') or (text_label != 'neutral' or image_label == 'neutral'):\n",
    "        label = image_label if text_label == 'neutral' else text_label\n",
    "    else:# (text_label == 'positive' and image_label == 'negative') or (text_label == 'negative' and image_label == 'positive'):\n",
    "        label = 'invalid'\n",
    "    return label"
   ]
  },
  {
   "cell_type": "code",
   "execution_count": 6,
   "id": "903b5849",
   "metadata": {
    "execution": {
     "iopub.execute_input": "2022-06-14T19:12:33.735089Z",
     "iopub.status.busy": "2022-06-14T19:12:33.734661Z",
     "iopub.status.idle": "2022-06-14T19:12:33.749560Z",
     "shell.execute_reply": "2022-06-14T19:12:33.748506Z"
    },
    "papermill": {
     "duration": 0.02651,
     "end_time": "2022-06-14T19:12:33.751829",
     "exception": false,
     "start_time": "2022-06-14T19:12:33.725319",
     "status": "completed"
    },
    "tags": []
   },
   "outputs": [],
   "source": [
    "def create_labels(path, multiple=False):\n",
    "    dataframe = read_labels_file(path)\n",
    "    \n",
    "    if multiple == True:\n",
    "        dataframe = valid_label(dataframe)\n",
    "        \n",
    "    labels = []\n",
    "    for _, row in dataframe.iterrows():\n",
    "        label = ground_truth_label(row['text'], row['image'])\n",
    "        labels.append(label)\n",
    "    return np.array(labels, dtype='object')\n",
    "\n",
    "def create_text_data(path):\n",
    "    texts = []\n",
    "    \n",
    "    print('Read text data')\n",
    "    # read data along with its filename as ID\n",
    "    for filename in tqdm(os.listdir(path)):\n",
    "        ID = int(filename.split('.')[0])\n",
    "        file_path = os.path.join(path, filename)\n",
    "        if filename.endswith('txt'):\n",
    "            text = read_text_file(file_path)\n",
    "            texts.append((ID, text))\n",
    "\n",
    "    # Sort data by its ID\n",
    "    get_ID = lambda x : x[0]\n",
    "    texts.sort(key=get_ID)\n",
    "    \n",
    "    # return data without ID\n",
    "    texts = np.array([text[1].rstrip('\\n') for text in texts])\n",
    "\n",
    "    return texts\n",
    "\n",
    "def create_image_data(path):\n",
    "    images = []\n",
    "    \n",
    "    print('Read image data')\n",
    "    # read data along with its filename as ID\n",
    "    for filename in tqdm(os.listdir(path)):\n",
    "        ID = int(filename.split('.')[0])\n",
    "        file_path = os.path.join(path, filename)\n",
    "        if filename.endswith('jpg'):\n",
    "            image = read_image_file(file_path)\n",
    "            images.append((ID, image))\n",
    "    \n",
    "    # Sort data by its ID\n",
    "    get_ID = lambda x : x[0]\n",
    "    images.sort(key=get_ID)\n",
    "    \n",
    "    # return data without ID\n",
    "    images = np.array([image[1] for image in images], dtype='object')\n",
    "\n",
    "    return images"
   ]
  },
  {
   "cell_type": "code",
   "execution_count": 7,
   "id": "976c4902",
   "metadata": {
    "execution": {
     "iopub.execute_input": "2022-06-14T19:12:33.769809Z",
     "iopub.status.busy": "2022-06-14T19:12:33.769149Z",
     "iopub.status.idle": "2022-06-14T19:12:33.774214Z",
     "shell.execute_reply": "2022-06-14T19:12:33.773445Z"
    },
    "papermill": {
     "duration": 0.016409,
     "end_time": "2022-06-14T19:12:33.776119",
     "exception": false,
     "start_time": "2022-06-14T19:12:33.759710",
     "status": "completed"
    },
    "tags": []
   },
   "outputs": [],
   "source": [
    "def save_text_file(filename, lines):\n",
    "    with open(filename, 'w', encoding='latin1') as f:\n",
    "        f.write('\\n'.join(lines))"
   ]
  },
  {
   "cell_type": "code",
   "execution_count": 8,
   "id": "9eee9e22",
   "metadata": {
    "execution": {
     "iopub.execute_input": "2022-06-14T19:12:33.791009Z",
     "iopub.status.busy": "2022-06-14T19:12:33.790334Z",
     "iopub.status.idle": "2022-06-14T19:13:05.134276Z",
     "shell.execute_reply": "2022-06-14T19:13:05.133442Z"
    },
    "papermill": {
     "duration": 31.353884,
     "end_time": "2022-06-14T19:13:05.136555",
     "exception": false,
     "start_time": "2022-06-14T19:12:33.782671",
     "status": "completed"
    },
    "tags": []
   },
   "outputs": [
    {
     "name": "stdout",
     "output_type": "stream",
     "text": [
      "Read text data\n"
     ]
    },
    {
     "name": "stderr",
     "output_type": "stream",
     "text": [
      "100%|██████████| 9738/9738 [00:30<00:00, 319.84it/s]\n"
     ]
    }
   ],
   "source": [
    "mvsa_single_texts = create_text_data(mvsa_single_data_path)\n",
    "# mvsa_single_images = create_image_data(mvsa_single_data_path)\n",
    "mvsa_single_labels = create_labels(mvsa_single_label_path)"
   ]
  },
  {
   "cell_type": "code",
   "execution_count": 9,
   "id": "e79cf995",
   "metadata": {
    "execution": {
     "iopub.execute_input": "2022-06-14T19:13:05.188942Z",
     "iopub.status.busy": "2022-06-14T19:13:05.188522Z",
     "iopub.status.idle": "2022-06-14T19:15:07.741852Z",
     "shell.execute_reply": "2022-06-14T19:15:07.740956Z"
    },
    "papermill": {
     "duration": 122.582346,
     "end_time": "2022-06-14T19:15:07.744209",
     "exception": false,
     "start_time": "2022-06-14T19:13:05.161863",
     "status": "completed"
    },
    "tags": []
   },
   "outputs": [
    {
     "name": "stdout",
     "output_type": "stream",
     "text": [
      "Read text data\n"
     ]
    },
    {
     "name": "stderr",
     "output_type": "stream",
     "text": [
      "100%|██████████| 39200/39200 [02:00<00:00, 326.62it/s]\n"
     ]
    }
   ],
   "source": [
    "mvsa_multiple_texts = create_text_data(mvsa_multiple_data_path)\n",
    "# mvsa_multiple_images = create_image_data(mvsa_multiple_data_path)\n",
    "mvsa_multiple_labels = create_labels(mvsa_multiple_label_path, multiple=True)"
   ]
  },
  {
   "cell_type": "code",
   "execution_count": 10,
   "id": "9d986aa7",
   "metadata": {
    "execution": {
     "iopub.execute_input": "2022-06-14T19:15:07.948032Z",
     "iopub.status.busy": "2022-06-14T19:15:07.947611Z",
     "iopub.status.idle": "2022-06-14T19:15:07.953604Z",
     "shell.execute_reply": "2022-06-14T19:15:07.952711Z"
    },
    "papermill": {
     "duration": 0.10728,
     "end_time": "2022-06-14T19:15:07.955704",
     "exception": false,
     "start_time": "2022-06-14T19:15:07.848424",
     "status": "completed"
    },
    "tags": []
   },
   "outputs": [],
   "source": [
    "def invalid_indices(labels):\n",
    "    indices = [i for i in range(labels.shape[0]) if labels[i] == 'invalid']\n",
    "    return indices\n",
    "\n",
    "def remove_invalid(data, labels):\n",
    "    indices = invalid_indices(labels)\n",
    "    new_data =  np.delete(data, indices)\n",
    "    return new_data"
   ]
  },
  {
   "cell_type": "code",
   "execution_count": 11,
   "id": "a66a2997",
   "metadata": {
    "execution": {
     "iopub.execute_input": "2022-06-14T19:15:08.154993Z",
     "iopub.status.busy": "2022-06-14T19:15:08.154562Z",
     "iopub.status.idle": "2022-06-14T19:15:08.177837Z",
     "shell.execute_reply": "2022-06-14T19:15:08.176935Z"
    },
    "papermill": {
     "duration": 0.125294,
     "end_time": "2022-06-14T19:15:08.180138",
     "exception": false,
     "start_time": "2022-06-14T19:15:08.054844",
     "status": "completed"
    },
    "tags": []
   },
   "outputs": [],
   "source": [
    "mvsa_single_texts_valid = remove_invalid(mvsa_single_texts, mvsa_single_labels)\n",
    "mvsa_multiple_texts_valid = remove_invalid(mvsa_multiple_texts, mvsa_multiple_labels)\n",
    "mvsa_single_labels_valid = remove_invalid(mvsa_single_labels, mvsa_single_labels)\n",
    "mvsa_multiple_labels_valid = remove_invalid(mvsa_multiple_labels, mvsa_multiple_labels)"
   ]
  },
  {
   "cell_type": "code",
   "execution_count": 12,
   "id": "4c94a7c0",
   "metadata": {
    "execution": {
     "iopub.execute_input": "2022-06-14T19:15:08.379921Z",
     "iopub.status.busy": "2022-06-14T19:15:08.379500Z",
     "iopub.status.idle": "2022-06-14T19:15:08.405592Z",
     "shell.execute_reply": "2022-06-14T19:15:08.404654Z"
    },
    "papermill": {
     "duration": 0.12837,
     "end_time": "2022-06-14T19:15:08.407901",
     "exception": false,
     "start_time": "2022-06-14T19:15:08.279531",
     "status": "completed"
    },
    "tags": []
   },
   "outputs": [],
   "source": [
    "save_text_file('./mvsa-single-texts.txt', mvsa_single_texts_valid)\n",
    "save_text_file('./mvsa-multiple-texts.txt', mvsa_multiple_texts_valid)\n",
    "save_text_file('./mvsa-single-labels.txt', mvsa_single_labels_valid)\n",
    "save_text_file('./mvsa-multiple-labels.txt', mvsa_multiple_labels_valid)"
   ]
  },
  {
   "cell_type": "code",
   "execution_count": 13,
   "id": "8c072ca8",
   "metadata": {
    "execution": {
     "iopub.execute_input": "2022-06-14T19:15:08.608434Z",
     "iopub.status.busy": "2022-06-14T19:15:08.608019Z",
     "iopub.status.idle": "2022-06-14T19:15:08.653274Z",
     "shell.execute_reply": "2022-06-14T19:15:08.652201Z"
    },
    "papermill": {
     "duration": 0.148755,
     "end_time": "2022-06-14T19:15:08.655780",
     "exception": false,
     "start_time": "2022-06-14T19:15:08.507025",
     "status": "completed"
    },
    "tags": []
   },
   "outputs": [
    {
     "name": "stdout",
     "output_type": "stream",
     "text": [
      "True\n",
      "True\n",
      "True\n",
      "True\n"
     ]
    }
   ],
   "source": [
    "mvsa_single_texts_loaded = read_text_file('./mvsa-single-texts.txt', multi_line=True)\n",
    "mvsa_multiple_texts_loaded = read_text_file('./mvsa-multiple-texts.txt', multi_line=True)\n",
    "\n",
    "mvsa_single_labels_loaded = read_text_file('./mvsa-single-labels.txt', multi_line=True)\n",
    "mvsa_multiple_labels_loaded = read_text_file('./mvsa-multiple-labels.txt', multi_line=True)\n",
    "\n",
    "print((mvsa_single_texts_valid == mvsa_single_texts_loaded).all())\n",
    "print((mvsa_multiple_texts_valid == mvsa_multiple_texts_loaded).all())\n",
    "\n",
    "print((mvsa_single_labels_valid == mvsa_single_labels_loaded).all())\n",
    "print((mvsa_multiple_labels_valid == mvsa_multiple_labels_loaded).all())"
   ]
  },
  {
   "cell_type": "code",
   "execution_count": 14,
   "id": "7c951d54",
   "metadata": {
    "execution": {
     "iopub.execute_input": "2022-06-14T19:15:08.857022Z",
     "iopub.status.busy": "2022-06-14T19:15:08.856632Z",
     "iopub.status.idle": "2022-06-14T19:15:08.860440Z",
     "shell.execute_reply": "2022-06-14T19:15:08.859552Z"
    },
    "papermill": {
     "duration": 0.105627,
     "end_time": "2022-06-14T19:15:08.862390",
     "exception": false,
     "start_time": "2022-06-14T19:15:08.756763",
     "status": "completed"
    },
    "tags": []
   },
   "outputs": [],
   "source": [
    "############\n",
    "# df_labels = read_labels_file('../input/mvsasingle/MVSA_Single/labelResultAll.txt')\n",
    "# df_labels['text'].count\n",
    "# label_text_count = df_labels.value_counts('text')\n",
    "# label_image_count = df_labels.value_counts('image')\n",
    "# label_text_count"
   ]
  },
  {
   "cell_type": "code",
   "execution_count": null,
   "id": "a48e6f43",
   "metadata": {
    "execution": {
     "iopub.execute_input": "2022-06-14T07:34:43.720197Z",
     "iopub.status.busy": "2022-06-14T07:34:43.719713Z",
     "iopub.status.idle": "2022-06-14T07:35:14.996795Z",
     "shell.execute_reply": "2022-06-14T07:35:14.99559Z",
     "shell.execute_reply.started": "2022-06-14T07:34:43.72016Z"
    },
    "papermill": {
     "duration": 0.098274,
     "end_time": "2022-06-14T19:15:09.058752",
     "exception": false,
     "start_time": "2022-06-14T19:15:08.960478",
     "status": "completed"
    },
    "tags": []
   },
   "outputs": [],
   "source": []
  },
  {
   "cell_type": "code",
   "execution_count": 15,
   "id": "a79cc949",
   "metadata": {
    "execution": {
     "iopub.execute_input": "2022-06-14T19:15:09.258039Z",
     "iopub.status.busy": "2022-06-14T19:15:09.257628Z",
     "iopub.status.idle": "2022-06-14T19:15:09.261678Z",
     "shell.execute_reply": "2022-06-14T19:15:09.260766Z"
    },
    "papermill": {
     "duration": 0.106528,
     "end_time": "2022-06-14T19:15:09.263511",
     "exception": false,
     "start_time": "2022-06-14T19:15:09.156983",
     "status": "completed"
    },
    "tags": []
   },
   "outputs": [],
   "source": [
    "# text_ids = []\n",
    "# image_ids = []\n",
    "# for i in range(len(texts)):\n",
    "#     if texts[i][0] != images[i][0] != read_labels_file(label_path)['ID'][i]:\n",
    "#         print('here')"
   ]
  },
  {
   "cell_type": "code",
   "execution_count": 16,
   "id": "b89bb1ba",
   "metadata": {
    "execution": {
     "iopub.execute_input": "2022-06-14T19:15:09.460748Z",
     "iopub.status.busy": "2022-06-14T19:15:09.459775Z",
     "iopub.status.idle": "2022-06-14T19:15:09.464288Z",
     "shell.execute_reply": "2022-06-14T19:15:09.463295Z"
    },
    "papermill": {
     "duration": 0.105122,
     "end_time": "2022-06-14T19:15:09.466097",
     "exception": false,
     "start_time": "2022-06-14T19:15:09.360975",
     "status": "completed"
    },
    "tags": []
   },
   "outputs": [],
   "source": [
    "# u, c, i = np.unique(texts, return_index=True, return_counts=True, axis=1)\n",
    "# dup = u[c > 1]\n",
    "# u[:10]"
   ]
  },
  {
   "cell_type": "code",
   "execution_count": 17,
   "id": "7930ade1",
   "metadata": {
    "execution": {
     "iopub.execute_input": "2022-06-14T19:15:09.664031Z",
     "iopub.status.busy": "2022-06-14T19:15:09.663577Z",
     "iopub.status.idle": "2022-06-14T19:15:09.667418Z",
     "shell.execute_reply": "2022-06-14T19:15:09.666620Z"
    },
    "papermill": {
     "duration": 0.104767,
     "end_time": "2022-06-14T19:15:09.669068",
     "exception": false,
     "start_time": "2022-06-14T19:15:09.564301",
     "status": "completed"
    },
    "tags": []
   },
   "outputs": [],
   "source": [
    "# def display_sample(text, image):\n",
    "#     plt.imshow(image)\n",
    "#     print('Text:', text)\n",
    "#     plt.show()\n",
    "# display_sample(texts_with_id[2][1], images_with_id[2][1])"
   ]
  },
  {
   "cell_type": "code",
   "execution_count": null,
   "id": "e8b4d12f",
   "metadata": {
    "execution": {
     "iopub.execute_input": "2022-06-13T15:30:27.350485Z",
     "iopub.status.busy": "2022-06-13T15:30:27.350024Z",
     "iopub.status.idle": "2022-06-13T15:30:27.600451Z",
     "shell.execute_reply": "2022-06-13T15:30:27.599263Z",
     "shell.execute_reply.started": "2022-06-13T15:30:27.35045Z"
    },
    "papermill": {
     "duration": 0.098143,
     "end_time": "2022-06-14T19:15:09.865441",
     "exception": false,
     "start_time": "2022-06-14T19:15:09.767298",
     "status": "completed"
    },
    "tags": []
   },
   "outputs": [],
   "source": []
  },
  {
   "cell_type": "code",
   "execution_count": 18,
   "id": "124544df",
   "metadata": {
    "execution": {
     "iopub.execute_input": "2022-06-14T19:15:10.063680Z",
     "iopub.status.busy": "2022-06-14T19:15:10.063318Z",
     "iopub.status.idle": "2022-06-14T19:15:10.066320Z",
     "shell.execute_reply": "2022-06-14T19:15:10.065722Z"
    },
    "papermill": {
     "duration": 0.103795,
     "end_time": "2022-06-14T19:15:10.068271",
     "exception": false,
     "start_time": "2022-06-14T19:15:09.964476",
     "status": "completed"
    },
    "tags": []
   },
   "outputs": [],
   "source": [
    "# shapes = []\n",
    "# for image in images_with_id:\n",
    "#     shapes.append(image.shape)\n",
    "# shapes"
   ]
  },
  {
   "cell_type": "code",
   "execution_count": 19,
   "id": "0b7daf20",
   "metadata": {
    "execution": {
     "iopub.execute_input": "2022-06-14T19:15:10.263255Z",
     "iopub.status.busy": "2022-06-14T19:15:10.262897Z",
     "iopub.status.idle": "2022-06-14T19:15:10.266200Z",
     "shell.execute_reply": "2022-06-14T19:15:10.265506Z"
    },
    "papermill": {
     "duration": 0.102562,
     "end_time": "2022-06-14T19:15:10.267891",
     "exception": false,
     "start_time": "2022-06-14T19:15:10.165329",
     "status": "completed"
    },
    "tags": []
   },
   "outputs": [],
   "source": [
    "# raw_texts[raw_texts.duplicated('Text')]"
   ]
  },
  {
   "cell_type": "code",
   "execution_count": 20,
   "id": "c16ee742",
   "metadata": {
    "execution": {
     "iopub.execute_input": "2022-06-14T19:15:10.463470Z",
     "iopub.status.busy": "2022-06-14T19:15:10.463104Z",
     "iopub.status.idle": "2022-06-14T19:15:10.466417Z",
     "shell.execute_reply": "2022-06-14T19:15:10.465758Z"
    },
    "papermill": {
     "duration": 0.102876,
     "end_time": "2022-06-14T19:15:10.468109",
     "exception": false,
     "start_time": "2022-06-14T19:15:10.365233",
     "status": "completed"
    },
    "tags": []
   },
   "outputs": [],
   "source": [
    "# len_split = lambda x: len(x.split())\n",
    "# print()\n",
    "# print('Min number of words in text:', raw_texts['Text'].apply(len_split).min())\n",
    "# print('Max number of words in text:', raw_texts['Text'].apply(len_split).max())\n",
    "# print('Average number of words in text:', round(raw_texts['Text'].apply(len_split).mean()))"
   ]
  },
  {
   "cell_type": "code",
   "execution_count": null,
   "id": "5b11c447",
   "metadata": {
    "papermill": {
     "duration": 0.161949,
     "end_time": "2022-06-14T19:15:10.728270",
     "exception": false,
     "start_time": "2022-06-14T19:15:10.566321",
     "status": "completed"
    },
    "tags": []
   },
   "outputs": [],
   "source": []
  }
 ],
 "metadata": {
  "kernelspec": {
   "display_name": "Python 3",
   "language": "python",
   "name": "python3"
  },
  "language_info": {
   "codemirror_mode": {
    "name": "ipython",
    "version": 3
   },
   "file_extension": ".py",
   "mimetype": "text/x-python",
   "name": "python",
   "nbconvert_exporter": "python",
   "pygments_lexer": "ipython3",
   "version": "3.7.12"
  },
  "papermill": {
   "default_parameters": {},
   "duration": 167.322326,
   "end_time": "2022-06-14T19:15:11.447561",
   "environment_variables": {},
   "exception": null,
   "input_path": "__notebook__.ipynb",
   "output_path": "__notebook__.ipynb",
   "parameters": {},
   "start_time": "2022-06-14T19:12:24.125235",
   "version": "2.3.4"
  }
 },
 "nbformat": 4,
 "nbformat_minor": 5
}
