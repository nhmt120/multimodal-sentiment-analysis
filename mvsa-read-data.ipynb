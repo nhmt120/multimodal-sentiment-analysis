{
 "cells": [
  {
   "cell_type": "code",
   "execution_count": 1,
   "id": "a0b40193",
   "metadata": {
    "execution": {
     "iopub.execute_input": "2022-06-15T15:23:15.835829Z",
     "iopub.status.busy": "2022-06-15T15:23:15.834961Z",
     "iopub.status.idle": "2022-06-15T15:23:21.242906Z",
     "shell.execute_reply": "2022-06-15T15:23:21.241976Z"
    },
    "papermill": {
     "duration": 5.419644,
     "end_time": "2022-06-15T15:23:21.245457",
     "exception": false,
     "start_time": "2022-06-15T15:23:15.825813",
     "status": "completed"
    },
    "tags": []
   },
   "outputs": [],
   "source": [
    "import os\n",
    "import gc\n",
    "import cv2\n",
    "import numpy as np\n",
    "import pandas as pd\n",
    "from tqdm import tqdm\n",
    "from  matplotlib import pyplot as plt\n",
    "\n",
    "import tensorflow as tf"
   ]
  },
  {
   "cell_type": "code",
   "execution_count": 2,
   "id": "fa13abbf",
   "metadata": {
    "execution": {
     "iopub.execute_input": "2022-06-15T15:23:21.261426Z",
     "iopub.status.busy": "2022-06-15T15:23:21.260755Z",
     "iopub.status.idle": "2022-06-15T15:23:21.265680Z",
     "shell.execute_reply": "2022-06-15T15:23:21.264729Z"
    },
    "papermill": {
     "duration": 0.015058,
     "end_time": "2022-06-15T15:23:21.267615",
     "exception": false,
     "start_time": "2022-06-15T15:23:21.252557",
     "status": "completed"
    },
    "tags": []
   },
   "outputs": [],
   "source": [
    "mvsa_single_data_path = '../input/mvsasingle/MVSA_Single/data'\n",
    "mvsa_single_label_path = '../input/mvsasingle/MVSA_Single/labelResultAll.txt'\n",
    "mvsa_multiple_data_path = '../input/mvsamultiple/MVSA/data'\n",
    "mvsa_multiple_label_path = '../input/mvsamultiple/MVSA/labelResultAll.txt'\n",
    "\n",
    "IMAGE_SIZE = (224, 224)\n",
    "NUM_CHANNELS = 3"
   ]
  },
  {
   "cell_type": "code",
   "execution_count": 3,
   "id": "e5816214",
   "metadata": {
    "execution": {
     "iopub.execute_input": "2022-06-15T15:23:21.283045Z",
     "iopub.status.busy": "2022-06-15T15:23:21.282206Z",
     "iopub.status.idle": "2022-06-15T15:23:21.290925Z",
     "shell.execute_reply": "2022-06-15T15:23:21.290267Z"
    },
    "papermill": {
     "duration": 0.018296,
     "end_time": "2022-06-15T15:23:21.292825",
     "exception": false,
     "start_time": "2022-06-15T15:23:21.274529",
     "status": "completed"
    },
    "tags": []
   },
   "outputs": [],
   "source": [
    "def read_text_file(path, multi_line=False):\n",
    "    if multi_line == True:\n",
    "        lines = open(path, 'r', encoding='latin-1').readlines()\n",
    "        lines = [line.rstrip('\\n') for line in lines]\n",
    "        return lines\n",
    "    return open(path, 'r', encoding='latin-1').read()\n",
    "\n",
    "def read_image_file(path):\n",
    "    try:\n",
    "        image = cv2.imread(path, cv2.COLOR_BGR2RGB)\n",
    "        image = cv2.resize(image, IMAGE_SIZE, interpolation = cv2.INTER_AREA)\n",
    "        invalid_ID = -1\n",
    "    except:\n",
    "        image = np.zeros((IMAGE_SIZE[0], IMAGE_SIZE[1], NUM_CHANNELS))\n",
    "        invalid_ID = os.path.split(path)[1].split('.')[0]\n",
    "    return image, invalid_ID\n",
    "\n",
    "def read_labels_file(path):\n",
    "    dataframe = pd.read_csv(path, sep=\"\\s+|,\", engine=\"python\")\n",
    "    return dataframe"
   ]
  },
  {
   "cell_type": "code",
   "execution_count": 4,
   "id": "3242709d",
   "metadata": {
    "execution": {
     "iopub.execute_input": "2022-06-15T15:23:21.307760Z",
     "iopub.status.busy": "2022-06-15T15:23:21.307366Z",
     "iopub.status.idle": "2022-06-15T15:23:21.317575Z",
     "shell.execute_reply": "2022-06-15T15:23:21.316587Z"
    },
    "papermill": {
     "duration": 0.019903,
     "end_time": "2022-06-15T15:23:21.319475",
     "exception": false,
     "start_time": "2022-06-15T15:23:21.299572",
     "status": "completed"
    },
    "tags": []
   },
   "outputs": [],
   "source": [
    "# since there are 3 annotators defining each data labels in the MVSA-Multiple dataset\n",
    "# we take the labels pair that 2 out 3 annotators agree on as the valid labels pair, remove otherwise\n",
    "def merge_multi_label(dataframe):\n",
    "    anno_1 = list(dataframe.iloc[:, 1:3].itertuples(index=False, name=None))\n",
    "    anno_2 = list(dataframe.iloc[:, 3:5].itertuples(index=False, name=None))\n",
    "    anno_3 = list(dataframe.iloc[:, 5:7].itertuples(index=False, name=None))\n",
    "    IDs = list(dataframe.iloc[:, 0])\n",
    "    \n",
    "    valid_pairs = []\n",
    "    \n",
    "    for i in range(len(anno_1)):\n",
    "        pairs = [anno_1[i], anno_2[i], anno_3[i]]\n",
    "        ID = IDs[i]\n",
    "        \n",
    "        valid_pair = tuple([pair for pair in pairs if pairs.count(pair) > 1])\n",
    "        \n",
    "        if len(valid_pair) == 0:\n",
    "            valid_pair = (ID, 'invalid', 'invalid')\n",
    "        else:\n",
    "            valid_pair = (ID, valid_pair[0][0], valid_pair[0][1])\n",
    "        valid_pairs.append(valid_pair)\n",
    "        \n",
    "    valid_dataframe = pd.DataFrame(valid_pairs, columns=['ID', 'text', 'image'])\n",
    "    return valid_dataframe\n",
    "\n",
    "def multimodal_label(text_label, image_label):\n",
    "    if text_label == image_label:\n",
    "        label = text_label\n",
    "    elif (text_label == 'positive' and image_label == 'negative') or (text_label == 'negative' and image_label == 'positive'):\n",
    "        label = 'invalid'\n",
    "    elif (text_label == 'neutral' and image_label != 'neutral') or (text_label != 'neutral' or image_label == 'neutral'):\n",
    "        label = image_label if text_label == 'neutral' else text_label\n",
    "    return label"
   ]
  },
  {
   "cell_type": "code",
   "execution_count": 5,
   "id": "5d4d9505",
   "metadata": {
    "execution": {
     "iopub.execute_input": "2022-06-15T15:23:21.335068Z",
     "iopub.status.busy": "2022-06-15T15:23:21.334404Z",
     "iopub.status.idle": "2022-06-15T15:23:21.340928Z",
     "shell.execute_reply": "2022-06-15T15:23:21.340306Z"
    },
    "papermill": {
     "duration": 0.016604,
     "end_time": "2022-06-15T15:23:21.342899",
     "exception": false,
     "start_time": "2022-06-15T15:23:21.326295",
     "status": "completed"
    },
    "tags": []
   },
   "outputs": [],
   "source": [
    "def get_data_paths(path, extension):\n",
    "    paths = os.listdir(path)\n",
    "    paths.sort(key = lambda x : int(x.split('.')[0]))\n",
    "    paths = list(filter(lambda x: x.endswith(extension), paths))\n",
    "    paths = [os.path.join(path, x) for x in paths]\n",
    "    return paths\n",
    "\n",
    "def get_image_with_id(path):\n",
    "    filename = os.path.split(path)[1]\n",
    "    ID = int(filename.split('.')[0])\n",
    "    image = read_image_file(path)\n",
    "    return (ID, image)"
   ]
  },
  {
   "cell_type": "code",
   "execution_count": 6,
   "id": "229f06e4",
   "metadata": {
    "execution": {
     "iopub.execute_input": "2022-06-15T15:23:21.358233Z",
     "iopub.status.busy": "2022-06-15T15:23:21.357581Z",
     "iopub.status.idle": "2022-06-15T15:23:21.367558Z",
     "shell.execute_reply": "2022-06-15T15:23:21.366642Z"
    },
    "papermill": {
     "duration": 0.020154,
     "end_time": "2022-06-15T15:23:21.369658",
     "exception": false,
     "start_time": "2022-06-15T15:23:21.349504",
     "status": "completed"
    },
    "tags": []
   },
   "outputs": [],
   "source": [
    "def create_labels(path, multiple=False, mappings=False):\n",
    "    dataframe = read_labels_file(path)\n",
    "    \n",
    "    if multiple == True:\n",
    "        dataframe = merge_multi_label(dataframe)\n",
    "\n",
    "    labels = []\n",
    "    for label_pair in dataframe.iloc[:, 1:].values:\n",
    "        label = multimodal_label(label_pair[0], label_pair[1])\n",
    "        labels.append(label)\n",
    "        \n",
    "    if mappings == True:\n",
    "        label_map = {}\n",
    "        for i in range(len(labels)):\n",
    "            ID = dataframe.iloc[i, 0]\n",
    "            label_map[ID] = labels[i]            \n",
    "        return label_map\n",
    "    \n",
    "    return np.array(labels, dtype='object')\n",
    "\n",
    "def create_text_data(path):\n",
    "    texts = []\n",
    "    text_paths = get_data_paths(path, '.txt')\n",
    "    \n",
    "    print('Read text data')\n",
    "    for text_path in tqdm(text_paths):\n",
    "        text = read_text_file(text_path).rstrip('\\n')\n",
    "        texts.append(text)\n",
    "        \n",
    "    return np.array(texts)\n",
    "\n",
    "def create_image_data(path):\n",
    "    images = np.array([])\n",
    "\n",
    "    invalid_indices = []\n",
    "    image_paths = get_data_paths(path, '.jpg')\n",
    "\n",
    "    print('Read image data')\n",
    "    for image_path in tqdm(image_paths):\n",
    "        image, invalid_ID = read_image_file(image_path)\n",
    "        if images.shape[0] == 0:\n",
    "            images = np.array([image])\n",
    "        else:\n",
    "            images = np.concatenate((images, [image]))\n",
    "\n",
    "        if invalid_ID != -1:\n",
    "            invalid_indices.append(invalid_ID)\n",
    "            \n",
    "    return images, invalid_indices"
   ]
  },
  {
   "cell_type": "code",
   "execution_count": 7,
   "id": "75338cf3",
   "metadata": {
    "execution": {
     "iopub.execute_input": "2022-06-15T15:23:21.384814Z",
     "iopub.status.busy": "2022-06-15T15:23:21.384117Z",
     "iopub.status.idle": "2022-06-15T15:23:21.389642Z",
     "shell.execute_reply": "2022-06-15T15:23:21.389017Z"
    },
    "papermill": {
     "duration": 0.015249,
     "end_time": "2022-06-15T15:23:21.391542",
     "exception": false,
     "start_time": "2022-06-15T15:23:21.376293",
     "status": "completed"
    },
    "tags": []
   },
   "outputs": [],
   "source": [
    "def invalid_indices(labels):\n",
    "    invalid_indices = [i for i in range(labels.shape[0]) if labels[i] == 'invalid']\n",
    "    return indices\n",
    "\n",
    "def remove_invalid(data, indices):\n",
    "    new_data =  np.delete(data, indices, axis=0)\n",
    "    return new_data"
   ]
  },
  {
   "cell_type": "code",
   "execution_count": 8,
   "id": "4637a7af",
   "metadata": {
    "execution": {
     "iopub.execute_input": "2022-06-15T15:23:21.406795Z",
     "iopub.status.busy": "2022-06-15T15:23:21.406106Z",
     "iopub.status.idle": "2022-06-15T15:23:21.410780Z",
     "shell.execute_reply": "2022-06-15T15:23:21.410182Z"
    },
    "papermill": {
     "duration": 0.014245,
     "end_time": "2022-06-15T15:23:21.412548",
     "exception": false,
     "start_time": "2022-06-15T15:23:21.398303",
     "status": "completed"
    },
    "tags": []
   },
   "outputs": [],
   "source": [
    "def save_text_file(filename, lines):\n",
    "    with open(filename, 'w', encoding='latin1') as f:\n",
    "        f.write('\\n'.join(lines))"
   ]
  },
  {
   "cell_type": "markdown",
   "id": "eb315332",
   "metadata": {
    "papermill": {
     "duration": 0.00637,
     "end_time": "2022-06-15T15:23:21.425401",
     "exception": false,
     "start_time": "2022-06-15T15:23:21.419031",
     "status": "completed"
    },
    "tags": []
   },
   "source": [
    "# MVSA-Single"
   ]
  },
  {
   "cell_type": "code",
   "execution_count": 9,
   "id": "e5ff776e",
   "metadata": {
    "execution": {
     "iopub.execute_input": "2022-06-15T15:23:21.440057Z",
     "iopub.status.busy": "2022-06-15T15:23:21.439701Z",
     "iopub.status.idle": "2022-06-15T15:36:49.772040Z",
     "shell.execute_reply": "2022-06-15T15:36:49.769853Z"
    },
    "papermill": {
     "duration": 808.342887,
     "end_time": "2022-06-15T15:36:49.774783",
     "exception": false,
     "start_time": "2022-06-15T15:23:21.431896",
     "status": "completed"
    },
    "tags": []
   },
   "outputs": [
    {
     "name": "stdout",
     "output_type": "stream",
     "text": [
      "Read text data\n"
     ]
    },
    {
     "name": "stderr",
     "output_type": "stream",
     "text": [
      "100%|██████████| 4869/4869 [00:34<00:00, 140.98it/s]\n"
     ]
    },
    {
     "name": "stdout",
     "output_type": "stream",
     "text": [
      "Read image data\n"
     ]
    },
    {
     "name": "stderr",
     "output_type": "stream",
     "text": [
      "100%|██████████| 4869/4869 [12:53<00:00,  6.30it/s]"
     ]
    },
    {
     "name": "stdout",
     "output_type": "stream",
     "text": [
      "Number of text-image pair in MVSA-Single: 4869\n"
     ]
    },
    {
     "name": "stderr",
     "output_type": "stream",
     "text": [
      "\n"
     ]
    }
   ],
   "source": [
    "mvsa_single_texts = create_text_data(mvsa_single_data_path)\n",
    "mvsa_single_images, mvsa_single_images_invalid_indices = create_image_data(mvsa_single_data_path)\n",
    "mvsa_single_labels = create_labels(mvsa_single_label_path)\n",
    "\n",
    "print('Number of text-image pair in MVSA-Single:', mvsa_single_labels.shape[0])"
   ]
  },
  {
   "cell_type": "code",
   "execution_count": 10,
   "id": "6db1c256",
   "metadata": {
    "execution": {
     "iopub.execute_input": "2022-06-15T15:36:50.281486Z",
     "iopub.status.busy": "2022-06-15T15:36:50.280830Z",
     "iopub.status.idle": "2022-06-15T15:36:50.510606Z",
     "shell.execute_reply": "2022-06-15T15:36:50.509649Z"
    },
    "papermill": {
     "duration": 0.518461,
     "end_time": "2022-06-15T15:36:50.512609",
     "exception": false,
     "start_time": "2022-06-15T15:36:49.994148",
     "status": "completed"
    },
    "tags": []
   },
   "outputs": [
    {
     "name": "stdout",
     "output_type": "stream",
     "text": [
      "Number of invalid data in MVSA-Single: 358\n",
      "Number of text-image pair in MVSA-Single after removing invalid data: 4511\n"
     ]
    }
   ],
   "source": [
    "mvsa_single_labels_invalid_indices = [i for i in range(mvsa_single_labels.shape[0]) if mvsa_single_labels[i] == 'invalid']\n",
    "\n",
    "mvsa_single_invalid_indices = []\n",
    "mvsa_single_invalid_indices.extend(mvsa_single_labels_invalid_indices)\n",
    "mvsa_single_invalid_indices.extend(mvsa_single_images_invalid_indices)\n",
    "mvsa_single_invalid_indices = list(set(mvsa_single_invalid_indices))\n",
    "\n",
    "mvsa_single_texts_valid = remove_invalid(mvsa_single_texts, mvsa_single_invalid_indices)\n",
    "mvsa_single_images_valid = remove_invalid(mvsa_single_images, mvsa_single_invalid_indices)\n",
    "mvsa_single_labels_valid = remove_invalid(mvsa_single_labels, mvsa_single_invalid_indices)\n",
    "\n",
    "print('Number of invalid data in MVSA-Single:', len(mvsa_single_invalid_indices))\n",
    "print('Number of text-image pair in MVSA-Single after removing invalid data:', mvsa_single_labels_valid.shape[0])"
   ]
  },
  {
   "cell_type": "code",
   "execution_count": 11,
   "id": "a2849076",
   "metadata": {
    "execution": {
     "iopub.execute_input": "2022-06-15T15:36:50.927535Z",
     "iopub.status.busy": "2022-06-15T15:36:50.926898Z",
     "iopub.status.idle": "2022-06-15T15:36:52.251049Z",
     "shell.execute_reply": "2022-06-15T15:36:52.250148Z"
    },
    "papermill": {
     "duration": 1.535701,
     "end_time": "2022-06-15T15:36:52.253326",
     "exception": false,
     "start_time": "2022-06-15T15:36:50.717625",
     "status": "completed"
    },
    "tags": []
   },
   "outputs": [],
   "source": [
    "save_text_file('./mvsa-single-texts.txt', mvsa_single_texts_valid)\n",
    "np.save('./mvsa-single-images.npy', mvsa_single_images_valid)\n",
    "save_text_file('./mvsa-single-labels.txt', mvsa_single_labels_valid)"
   ]
  },
  {
   "cell_type": "code",
   "execution_count": 12,
   "id": "6f2755df",
   "metadata": {
    "execution": {
     "iopub.execute_input": "2022-06-15T15:36:52.674042Z",
     "iopub.status.busy": "2022-06-15T15:36:52.673459Z",
     "iopub.status.idle": "2022-06-15T15:36:53.346066Z",
     "shell.execute_reply": "2022-06-15T15:36:53.344957Z"
    },
    "papermill": {
     "duration": 0.884816,
     "end_time": "2022-06-15T15:36:53.348065",
     "exception": false,
     "start_time": "2022-06-15T15:36:52.463249",
     "status": "completed"
    },
    "tags": []
   },
   "outputs": [
    {
     "name": "stdout",
     "output_type": "stream",
     "text": [
      "True\n",
      "True\n",
      "True\n"
     ]
    }
   ],
   "source": [
    "mvsa_single_texts_loaded = read_text_file('./mvsa-single-texts.txt', multi_line=True)\n",
    "mvsa_single_images_loaded = np.load('./mvsa-single-images.npy')\n",
    "mvsa_single_labels_loaded = read_text_file('./mvsa-single-labels.txt', multi_line=True)\n",
    "\n",
    "print((mvsa_single_texts_valid == mvsa_single_texts_loaded).all())\n",
    "print((mvsa_single_images_loaded == mvsa_single_images_valid).all())\n",
    "print((mvsa_single_labels_valid == mvsa_single_labels_loaded).all())"
   ]
  },
  {
   "cell_type": "markdown",
   "id": "2efaea3e",
   "metadata": {
    "papermill": {
     "duration": 0.212318,
     "end_time": "2022-06-15T15:36:53.772252",
     "exception": false,
     "start_time": "2022-06-15T15:36:53.559934",
     "status": "completed"
    },
    "tags": []
   },
   "source": [
    "# MVSA-Multiple"
   ]
  },
  {
   "cell_type": "code",
   "execution_count": 13,
   "id": "9338aa4c",
   "metadata": {
    "execution": {
     "iopub.execute_input": "2022-06-15T15:36:54.254359Z",
     "iopub.status.busy": "2022-06-15T15:36:54.253678Z",
     "iopub.status.idle": "2022-06-15T15:36:54.257976Z",
     "shell.execute_reply": "2022-06-15T15:36:54.257337Z"
    },
    "papermill": {
     "duration": 0.221449,
     "end_time": "2022-06-15T15:36:54.259953",
     "exception": false,
     "start_time": "2022-06-15T15:36:54.038504",
     "status": "completed"
    },
    "tags": []
   },
   "outputs": [],
   "source": [
    "# mvsa_multiple_texts = create_text_data(mvsa_multiple_data_path)\n",
    "# mvsa_multiple_images, mvsa_multiple_images_invalid_indices = create_image_data(mvsa_multiple_data_path)\n",
    "# mvsa_multiple_labels = create_labels(mvsa_multiple_label_path, multiple=True)\n",
    "\n",
    "# print('Number of text-image pair in MVSA-Multiple:', mvsa_multiple_labels.shape[0])"
   ]
  },
  {
   "cell_type": "code",
   "execution_count": 14,
   "id": "33737e7e",
   "metadata": {
    "execution": {
     "iopub.execute_input": "2022-06-15T15:36:54.685082Z",
     "iopub.status.busy": "2022-06-15T15:36:54.684545Z",
     "iopub.status.idle": "2022-06-15T15:36:54.688811Z",
     "shell.execute_reply": "2022-06-15T15:36:54.688196Z"
    },
    "papermill": {
     "duration": 0.220329,
     "end_time": "2022-06-15T15:36:54.690681",
     "exception": false,
     "start_time": "2022-06-15T15:36:54.470352",
     "status": "completed"
    },
    "tags": []
   },
   "outputs": [],
   "source": [
    "# mvsa_multiple_labels_invalid_indices = [i for i in range(mvsa_multiple_labels.shape[0]) if mvsa_multiple_labels[i] == 'invalid']\n",
    "\n",
    "# mvsa_multiple_invalid_indices = []\n",
    "# mvsa_multiple_invalid_indices.extend(mvsa_multiple_labels_invalid_indices)\n",
    "# mvsa_multiple_invalid_indices.extend(mvsa_multiple_images_invalid_indices)\n",
    "# mvsa_multiple_invalid_indices = list(set(mvsa_multiple_invalid_indices))\n",
    "\n",
    "# mvsa_multiple_texts_valid = remove_invalid(mvsa_multiple_texts, mvsa_multiple_invalid_indices)\n",
    "# mvsa_multiple_images_valid = remove_invalid(mvsa_multiple_images, mvsa_multiple_invalid_indices)\n",
    "# mvsa_multiple_labels_valid = remove_invalid(mvsa_multiple_labels, mvsa_multiple_invalid_indices)\n",
    "\n",
    "# print('Number of invalid data in MVSA-Multiple:', len(mvsa_multiple_invalid_indices))\n",
    "# print('Number of text-image pair in MVSA-Multiple after removing invalid data:', mvsa_multiple_labels.shape[0])"
   ]
  },
  {
   "cell_type": "code",
   "execution_count": 15,
   "id": "69c3758e",
   "metadata": {
    "execution": {
     "iopub.execute_input": "2022-06-15T15:36:55.123567Z",
     "iopub.status.busy": "2022-06-15T15:36:55.122997Z",
     "iopub.status.idle": "2022-06-15T15:36:55.126644Z",
     "shell.execute_reply": "2022-06-15T15:36:55.125635Z"
    },
    "papermill": {
     "duration": 0.223933,
     "end_time": "2022-06-15T15:36:55.129298",
     "exception": false,
     "start_time": "2022-06-15T15:36:54.905365",
     "status": "completed"
    },
    "tags": []
   },
   "outputs": [],
   "source": [
    "# save_text_file('./mvsa-multiple-texts.txt', mvsa_multiple_texts_valid)\n",
    "# np.save('./mvsa-multiple-images.npy', mvsa_multiple_images_valid)\n",
    "# save_text_file('./mvsa-multiple-labels.txt', mvsa_multiple_labels_valid)"
   ]
  },
  {
   "cell_type": "code",
   "execution_count": 16,
   "id": "112212ac",
   "metadata": {
    "execution": {
     "iopub.execute_input": "2022-06-15T15:36:55.580273Z",
     "iopub.status.busy": "2022-06-15T15:36:55.579448Z",
     "iopub.status.idle": "2022-06-15T15:36:55.583893Z",
     "shell.execute_reply": "2022-06-15T15:36:55.583220Z"
    },
    "papermill": {
     "duration": 0.231441,
     "end_time": "2022-06-15T15:36:55.586381",
     "exception": false,
     "start_time": "2022-06-15T15:36:55.354940",
     "status": "completed"
    },
    "tags": []
   },
   "outputs": [],
   "source": [
    "# mvsa_multiple_texts_loaded = read_text_file('./mvsa-multiple-texts.txt', multi_line=True)\n",
    "# mvsa_multiple_images_loaded = np.load('./mvsa-multiple-images.npy')\n",
    "# mvsa_multiple_labels_loaded = read_text_file('./mvsa-multiple-labels.txt', multi_line=True)\n",
    "\n",
    "# print((mvsa_multiple_texts_valid == mvsa_multiple_texts_loaded).all())\n",
    "# print((mvsa_multiple_images_loaded == mvsa_multiple_images_valid).all())\n",
    "# print((mvsa_multiple_labels_valid == mvsa_multiple_labels_loaded).all())"
   ]
  },
  {
   "cell_type": "markdown",
   "id": "3e70bfd8",
   "metadata": {
    "papermill": {
     "duration": 0.266332,
     "end_time": "2022-06-15T15:36:56.070570",
     "exception": false,
     "start_time": "2022-06-15T15:36:55.804238",
     "status": "completed"
    },
    "tags": []
   },
   "source": [
    "# Visualize\n",
    "**TODO**"
   ]
  },
  {
   "cell_type": "code",
   "execution_count": 17,
   "id": "3e9f7332",
   "metadata": {
    "execution": {
     "iopub.execute_input": "2022-06-15T15:36:56.485791Z",
     "iopub.status.busy": "2022-06-15T15:36:56.485112Z",
     "iopub.status.idle": "2022-06-15T15:36:56.489102Z",
     "shell.execute_reply": "2022-06-15T15:36:56.488536Z"
    },
    "papermill": {
     "duration": 0.213461,
     "end_time": "2022-06-15T15:36:56.490910",
     "exception": false,
     "start_time": "2022-06-15T15:36:56.277449",
     "status": "completed"
    },
    "tags": []
   },
   "outputs": [],
   "source": [
    "############\n",
    "# df_labels = read_labels_file('../input/mvsasingle/MVSA_Single/labelResultAll.txt')\n",
    "# df_labels['text'].count\n",
    "# label_text_count = df_labels.value_counts('text')\n",
    "# label_image_count = df_labels.value_counts('image')\n",
    "# label_text_count"
   ]
  },
  {
   "cell_type": "code",
   "execution_count": null,
   "id": "20e11a7d",
   "metadata": {
    "papermill": {
     "duration": 0.209102,
     "end_time": "2022-06-15T15:36:56.907820",
     "exception": false,
     "start_time": "2022-06-15T15:36:56.698718",
     "status": "completed"
    },
    "tags": []
   },
   "outputs": [],
   "source": []
  },
  {
   "cell_type": "code",
   "execution_count": 18,
   "id": "09d894fb",
   "metadata": {
    "execution": {
     "iopub.execute_input": "2022-06-15T15:36:57.376968Z",
     "iopub.status.busy": "2022-06-15T15:36:57.376316Z",
     "iopub.status.idle": "2022-06-15T15:36:57.380173Z",
     "shell.execute_reply": "2022-06-15T15:36:57.379566Z"
    },
    "papermill": {
     "duration": 0.212831,
     "end_time": "2022-06-15T15:36:57.381923",
     "exception": false,
     "start_time": "2022-06-15T15:36:57.169092",
     "status": "completed"
    },
    "tags": []
   },
   "outputs": [],
   "source": [
    "# text_ids = []\n",
    "# image_ids = []\n",
    "# for i in range(len(texts)):\n",
    "#     if texts[i][0] != images[i][0] != read_labels_file(label_path)['ID'][i]:\n",
    "#         print('here')"
   ]
  },
  {
   "cell_type": "code",
   "execution_count": 19,
   "id": "bd1c9261",
   "metadata": {
    "execution": {
     "iopub.execute_input": "2022-06-15T15:36:57.797221Z",
     "iopub.status.busy": "2022-06-15T15:36:57.796544Z",
     "iopub.status.idle": "2022-06-15T15:36:57.800536Z",
     "shell.execute_reply": "2022-06-15T15:36:57.799904Z"
    },
    "papermill": {
     "duration": 0.213506,
     "end_time": "2022-06-15T15:36:57.802359",
     "exception": false,
     "start_time": "2022-06-15T15:36:57.588853",
     "status": "completed"
    },
    "tags": []
   },
   "outputs": [],
   "source": [
    "# u, c, i = np.unique(texts, return_index=True, return_counts=True, axis=1)\n",
    "# dup = u[c > 1]\n",
    "# u[:10]"
   ]
  },
  {
   "cell_type": "code",
   "execution_count": 20,
   "id": "c2c5d54c",
   "metadata": {
    "execution": {
     "iopub.execute_input": "2022-06-15T15:36:58.224177Z",
     "iopub.status.busy": "2022-06-15T15:36:58.223467Z",
     "iopub.status.idle": "2022-06-15T15:36:58.227603Z",
     "shell.execute_reply": "2022-06-15T15:36:58.226922Z"
    },
    "papermill": {
     "duration": 0.217549,
     "end_time": "2022-06-15T15:36:58.229414",
     "exception": false,
     "start_time": "2022-06-15T15:36:58.011865",
     "status": "completed"
    },
    "tags": []
   },
   "outputs": [],
   "source": [
    "# def display_sample(text, image):\n",
    "#     plt.imshow(image)\n",
    "#     print('Text:', text)\n",
    "#     plt.show()\n",
    "# display_sample(texts_with_id[2][1], images_with_id[2][1])"
   ]
  },
  {
   "cell_type": "code",
   "execution_count": 21,
   "id": "2dc7596d",
   "metadata": {
    "execution": {
     "iopub.execute_input": "2022-06-15T15:36:58.705284Z",
     "iopub.status.busy": "2022-06-15T15:36:58.704262Z",
     "iopub.status.idle": "2022-06-15T15:36:58.708658Z",
     "shell.execute_reply": "2022-06-15T15:36:58.708000Z"
    },
    "papermill": {
     "duration": 0.218787,
     "end_time": "2022-06-15T15:36:58.710491",
     "exception": false,
     "start_time": "2022-06-15T15:36:58.491704",
     "status": "completed"
    },
    "tags": []
   },
   "outputs": [],
   "source": [
    "# shapes = []\n",
    "# for image in images_with_id:\n",
    "#     shapes.append(image.shape)\n",
    "# shapes"
   ]
  },
  {
   "cell_type": "code",
   "execution_count": 22,
   "id": "bcbeb6a6",
   "metadata": {
    "execution": {
     "iopub.execute_input": "2022-06-15T15:36:59.137952Z",
     "iopub.status.busy": "2022-06-15T15:36:59.136975Z",
     "iopub.status.idle": "2022-06-15T15:36:59.142098Z",
     "shell.execute_reply": "2022-06-15T15:36:59.141441Z"
    },
    "papermill": {
     "duration": 0.221024,
     "end_time": "2022-06-15T15:36:59.144042",
     "exception": false,
     "start_time": "2022-06-15T15:36:58.923018",
     "status": "completed"
    },
    "tags": []
   },
   "outputs": [],
   "source": [
    "# raw_texts[raw_texts.duplicated('Text')]"
   ]
  },
  {
   "cell_type": "code",
   "execution_count": 23,
   "id": "f16fad6f",
   "metadata": {
    "execution": {
     "iopub.execute_input": "2022-06-15T15:36:59.566430Z",
     "iopub.status.busy": "2022-06-15T15:36:59.565375Z",
     "iopub.status.idle": "2022-06-15T15:36:59.570026Z",
     "shell.execute_reply": "2022-06-15T15:36:59.569338Z"
    },
    "papermill": {
     "duration": 0.216985,
     "end_time": "2022-06-15T15:36:59.571923",
     "exception": false,
     "start_time": "2022-06-15T15:36:59.354938",
     "status": "completed"
    },
    "tags": []
   },
   "outputs": [],
   "source": [
    "# len_split = lambda x: len(x.split())\n",
    "# print()\n",
    "# print('Min number of words in text:', raw_texts['Text'].apply(len_split).min())\n",
    "# print('Max number of words in text:', raw_texts['Text'].apply(len_split).max())\n",
    "# print('Average number of words in text:', round(raw_texts['Text'].apply(len_split).mean()))"
   ]
  },
  {
   "cell_type": "code",
   "execution_count": null,
   "id": "7b7083f8",
   "metadata": {
    "papermill": {
     "duration": 0.21071,
     "end_time": "2022-06-15T15:36:59.993093",
     "exception": false,
     "start_time": "2022-06-15T15:36:59.782383",
     "status": "completed"
    },
    "tags": []
   },
   "outputs": [],
   "source": []
  },
  {
   "cell_type": "markdown",
   "id": "006c8408",
   "metadata": {
    "papermill": {
     "duration": 0.392502,
     "end_time": "2022-06-15T15:37:00.657619",
     "exception": false,
     "start_time": "2022-06-15T15:37:00.265117",
     "status": "completed"
    },
    "tags": []
   },
   "source": [
    "# Drafts"
   ]
  },
  {
   "cell_type": "code",
   "execution_count": 24,
   "id": "97a884ec",
   "metadata": {
    "execution": {
     "iopub.execute_input": "2022-06-15T15:37:01.649753Z",
     "iopub.status.busy": "2022-06-15T15:37:01.649405Z",
     "iopub.status.idle": "2022-06-15T15:37:01.652991Z",
     "shell.execute_reply": "2022-06-15T15:37:01.652084Z"
    },
    "papermill": {
     "duration": 0.464104,
     "end_time": "2022-06-15T15:37:01.654868",
     "exception": false,
     "start_time": "2022-06-15T15:37:01.190764",
     "status": "completed"
    },
    "tags": []
   },
   "outputs": [],
   "source": [
    "# if extracted_data.shape[0] == 0:\n",
    "#     extracted_data = np.concatenate(([extracted_data], [features]), 1)\n",
    "# else:\n",
    "#     extracted_data = np.concatenate((extracted_data, [features]), 0)"
   ]
  },
  {
   "cell_type": "code",
   "execution_count": 25,
   "id": "c4f40f06",
   "metadata": {
    "execution": {
     "iopub.execute_input": "2022-06-15T15:37:02.087561Z",
     "iopub.status.busy": "2022-06-15T15:37:02.087183Z",
     "iopub.status.idle": "2022-06-15T15:37:02.090929Z",
     "shell.execute_reply": "2022-06-15T15:37:02.090000Z"
    },
    "papermill": {
     "duration": 0.222186,
     "end_time": "2022-06-15T15:37:02.092875",
     "exception": false,
     "start_time": "2022-06-15T15:37:01.870689",
     "status": "completed"
    },
    "tags": []
   },
   "outputs": [],
   "source": [
    "# a = np.array([np.zeros((5, 5, 3))])\n",
    "# b = np.zeros((5, 5, 3))\n",
    "# c = np.concatenate((a, [b]))\n",
    "# d = np.concatenate((c, [b]))\n",
    "# d.shape"
   ]
  },
  {
   "cell_type": "code",
   "execution_count": 26,
   "id": "3db2c80c",
   "metadata": {
    "execution": {
     "iopub.execute_input": "2022-06-15T15:37:02.570361Z",
     "iopub.status.busy": "2022-06-15T15:37:02.569970Z",
     "iopub.status.idle": "2022-06-15T15:37:02.573830Z",
     "shell.execute_reply": "2022-06-15T15:37:02.573205Z"
    },
    "papermill": {
     "duration": 0.215779,
     "end_time": "2022-06-15T15:37:02.575705",
     "exception": false,
     "start_time": "2022-06-15T15:37:02.359926",
     "status": "completed"
    },
    "tags": []
   },
   "outputs": [],
   "source": [
    "# # mvsa_single_images.tofile('./mvsa-single-images.npy')\n",
    "# np.save('./mvsa-single-images.npy', mvsa_single_images)\n",
    "# mvsa_single_images_loaded = np.load('./mvsa-single-images.npy')\n",
    "# (mvsa_single_images_loaded == mvsa_single_images).all()"
   ]
  },
  {
   "cell_type": "code",
   "execution_count": 27,
   "id": "30c4f7e0",
   "metadata": {
    "execution": {
     "iopub.execute_input": "2022-06-15T15:37:02.997148Z",
     "iopub.status.busy": "2022-06-15T15:37:02.996730Z",
     "iopub.status.idle": "2022-06-15T15:37:03.000976Z",
     "shell.execute_reply": "2022-06-15T15:37:03.000004Z"
    },
    "papermill": {
     "duration": 0.21633,
     "end_time": "2022-06-15T15:37:03.003360",
     "exception": false,
     "start_time": "2022-06-15T15:37:02.787030",
     "status": "completed"
    },
    "tags": []
   },
   "outputs": [],
   "source": [
    "# a = read_labels_file(mvsa_single_label_path).iloc[:, 1:].values\n",
    "# for i in a:\n",
    "#     if i[0] == 'negative' and i[1] == 'positive':\n",
    "#         print('here')\n",
    "#     elif i[0] == 'positive' and i[1] == 'negative':\n",
    "#         print('hereee')"
   ]
  },
  {
   "cell_type": "code",
   "execution_count": 28,
   "id": "bed5c5df",
   "metadata": {
    "execution": {
     "iopub.execute_input": "2022-06-15T15:37:03.476492Z",
     "iopub.status.busy": "2022-06-15T15:37:03.476087Z",
     "iopub.status.idle": "2022-06-15T15:37:03.479984Z",
     "shell.execute_reply": "2022-06-15T15:37:03.478987Z"
    },
    "papermill": {
     "duration": 0.267833,
     "end_time": "2022-06-15T15:37:03.481867",
     "exception": false,
     "start_time": "2022-06-15T15:37:03.214034",
     "status": "completed"
    },
    "tags": []
   },
   "outputs": [],
   "source": [
    "# label_mappings = create_labels(mvsa_single_label_path, mappings=True)\n",
    "\n",
    "# image_dataset = make_dataset([os.path.join(mvsa_single_label_path, str(ID) + '.jpg') for ID in label_mappings.keys()],\n",
    "#                              list(label_mappings.values()))"
   ]
  },
  {
   "cell_type": "code",
   "execution_count": 29,
   "id": "e545ffde",
   "metadata": {
    "execution": {
     "iopub.execute_input": "2022-06-15T15:37:03.898497Z",
     "iopub.status.busy": "2022-06-15T15:37:03.898109Z",
     "iopub.status.idle": "2022-06-15T15:37:03.901544Z",
     "shell.execute_reply": "2022-06-15T15:37:03.900593Z"
    },
    "papermill": {
     "duration": 0.212598,
     "end_time": "2022-06-15T15:37:03.903294",
     "exception": false,
     "start_time": "2022-06-15T15:37:03.690696",
     "status": "completed"
    },
    "tags": []
   },
   "outputs": [],
   "source": [
    "# a = get_image_with_id(os.path.join(mvsa_single_data_path, '1.jpg'))\n",
    "# tf.keras.utils.array_to_img(a[1])"
   ]
  },
  {
   "cell_type": "code",
   "execution_count": 30,
   "id": "a7e721d6",
   "metadata": {
    "execution": {
     "iopub.execute_input": "2022-06-15T15:37:04.334518Z",
     "iopub.status.busy": "2022-06-15T15:37:04.333580Z",
     "iopub.status.idle": "2022-06-15T15:37:04.337965Z",
     "shell.execute_reply": "2022-06-15T15:37:04.337188Z"
    },
    "papermill": {
     "duration": 0.224975,
     "end_time": "2022-06-15T15:37:04.339833",
     "exception": false,
     "start_time": "2022-06-15T15:37:04.114858",
     "status": "completed"
    },
    "tags": []
   },
   "outputs": [],
   "source": [
    "# label_mappings = create_labels(mvsa_single_label_path, mappings=True)\n",
    "\n",
    "# image_dataset = make_dataset([os.path.join(mvsa_single_label_path, str(ID) + '.jpg') for ID in label_mappings.keys()],\n",
    "#                              list(label_mappings.values()))"
   ]
  },
  {
   "cell_type": "code",
   "execution_count": 31,
   "id": "c78fb72a",
   "metadata": {
    "execution": {
     "iopub.execute_input": "2022-06-15T15:37:04.757637Z",
     "iopub.status.busy": "2022-06-15T15:37:04.757279Z",
     "iopub.status.idle": "2022-06-15T15:37:04.760865Z",
     "shell.execute_reply": "2022-06-15T15:37:04.759954Z"
    },
    "papermill": {
     "duration": 0.215614,
     "end_time": "2022-06-15T15:37:04.762752",
     "exception": false,
     "start_time": "2022-06-15T15:37:04.547138",
     "status": "completed"
    },
    "tags": []
   },
   "outputs": [],
   "source": [
    "# a = os.listdir(mvsa_single_data_path)\n",
    "# a.sort(key = lambda x: int(x.split('.')[0]))\n",
    "# list(filter(lambda x: x.endswith('.jpg'), a))\n",
    "# a = [os.path.join(mvsa_single_data_path, i) for i in a]\n",
    "# a"
   ]
  },
  {
   "cell_type": "code",
   "execution_count": 32,
   "id": "74bfc996",
   "metadata": {
    "execution": {
     "iopub.execute_input": "2022-06-15T15:37:05.243766Z",
     "iopub.status.busy": "2022-06-15T15:37:05.243059Z",
     "iopub.status.idle": "2022-06-15T15:37:05.247365Z",
     "shell.execute_reply": "2022-06-15T15:37:05.246720Z"
    },
    "papermill": {
     "duration": 0.220336,
     "end_time": "2022-06-15T15:37:05.249148",
     "exception": false,
     "start_time": "2022-06-15T15:37:05.028812",
     "status": "completed"
    },
    "tags": []
   },
   "outputs": [],
   "source": [
    "# # a = create_labels(mvsa_multiple_label_path, multiple=True, mappings=True)\n",
    "# def process_image(path, label):\n",
    "# #     filename = os.path.split(path)[1]\n",
    "# #     ID = int(filename.split('.')[0])\n",
    "# #     return read_image_file(path), label_map[ID]\n",
    "#     return read_image_file(path), label\n",
    "\n",
    "# def make_dataset(images, labels):\n",
    "#     dataset = tf.data.Dataset.from_tensor_slices((images, labels))\n",
    "# #     dataset = dataset.shuffle(len(images))\n",
    "#     dataset = dataset.map(process_image)#, num_parallel_calls=AUTOTUNE)\n",
    "# #     dataset = dataset.batch(100).prefetch(tf.data.AUTOTUNE)\n",
    "#     return dataset"
   ]
  },
  {
   "cell_type": "code",
   "execution_count": 33,
   "id": "51377c88",
   "metadata": {
    "execution": {
     "iopub.execute_input": "2022-06-15T15:37:07.091463Z",
     "iopub.status.busy": "2022-06-15T15:37:07.090811Z",
     "iopub.status.idle": "2022-06-15T15:37:07.095219Z",
     "shell.execute_reply": "2022-06-15T15:37:07.094522Z"
    },
    "papermill": {
     "duration": 1.640441,
     "end_time": "2022-06-15T15:37:07.097281",
     "exception": false,
     "start_time": "2022-06-15T15:37:05.456840",
     "status": "completed"
    },
    "tags": []
   },
   "outputs": [],
   "source": [
    "# IMAGE_SIZE = (224, 224)\n",
    "# def read_image_file(path):\n",
    "#     image = cv2.imread(path, cv2.COLOR_BGR2RGB)\n",
    "# #     image = np.array(image)#.astype('float32')\n",
    "# #     image = cv2.resize(image, IMAGE_SIZE, interpolation = cv2.INTER_AREA)\n",
    "# #     image /= 255\n",
    "# #     print(image.shape)\n",
    "# #     ax = plt.subplot(1,2,1)\n",
    "# #     plt.imshow(image)\n",
    "# #     image = cv2.resize(image, IMAGE_SIZE, interpolation = cv2.INTER_AREA)\n",
    "# #     ax = plt.subplot(1,2,2)\n",
    "# #     plt.imshow(image)\n",
    "# #     print(image.shape)\n",
    "#     return image\n",
    "# read_image_file('../input/mvsasingle/MVSA_Single/data/10.jpg')      "
   ]
  },
  {
   "cell_type": "code",
   "execution_count": 34,
   "id": "35207c04",
   "metadata": {
    "execution": {
     "iopub.execute_input": "2022-06-15T15:37:07.521216Z",
     "iopub.status.busy": "2022-06-15T15:37:07.520543Z",
     "iopub.status.idle": "2022-06-15T15:37:07.525211Z",
     "shell.execute_reply": "2022-06-15T15:37:07.524584Z"
    },
    "papermill": {
     "duration": 0.216772,
     "end_time": "2022-06-15T15:37:07.526977",
     "exception": false,
     "start_time": "2022-06-15T15:37:07.310205",
     "status": "completed"
    },
    "tags": []
   },
   "outputs": [],
   "source": [
    "# def read_text_file(path, multi_line=False):\n",
    "# #     with open(path, 'r', encoding='latin-1') as f:\n",
    "# #         if multi_line == True:\n",
    "# #             lines = f.readlines()\n",
    "# #             lines = [line.rstrip('\\n') for line in lines]\n",
    "# #             return lines\n",
    "# #         return f.read()\n",
    "    \n",
    "#     if multi_line == True:\n",
    "#         lines = open(path, 'r', encoding='latin-1').readlines()\n",
    "#         lines = [line.rstrip('\\n') for line in lines]\n",
    "#         return lines\n",
    "#     return open(path, 'r', encoding='latin-1').read()\n",
    "\n",
    "# def read_image_file(path):\n",
    "#     try:\n",
    "#         image = cv2.imread(path, cv2.COLOR_BGR2RGB)\n",
    "#         image = cv2.resize(image, IMAGE_SIZE, interpolation = cv2.INTER_AREA)\n",
    "#     except:\n",
    "#         image = np.zeros((IMAGE_SIZE[0], IMAGE_SIZE[1], NUM_CHANNELS))\n",
    "#         ID = os.path.split(path)[1].split('.')[0]\n",
    "#         invalid_indices.append(ID)\n",
    "# #     image = tf.io.read_file(path)\n",
    "# #     image = tf.image.decode_jpeg(image, channels=NUM_CHANNELS)\n",
    "# #     image = tf.image.resize(image, IMAGE_SIZE)\n",
    "#     return image\n",
    "\n",
    "# def read_labels_file(path):\n",
    "#     dataframe = pd.read_csv(path, sep=\"\\s+|,\", engine=\"python\")\n",
    "#     return dataframe"
   ]
  },
  {
   "cell_type": "code",
   "execution_count": 35,
   "id": "5fe842cf",
   "metadata": {
    "execution": {
     "iopub.execute_input": "2022-06-15T15:37:07.943434Z",
     "iopub.status.busy": "2022-06-15T15:37:07.942690Z",
     "iopub.status.idle": "2022-06-15T15:37:07.948661Z",
     "shell.execute_reply": "2022-06-15T15:37:07.948027Z"
    },
    "papermill": {
     "duration": 0.216538,
     "end_time": "2022-06-15T15:37:07.950410",
     "exception": false,
     "start_time": "2022-06-15T15:37:07.733872",
     "status": "completed"
    },
    "tags": []
   },
   "outputs": [],
   "source": [
    "# def create_labels(path, multiple=False, mappings=False):\n",
    "#     dataframe = read_labels_file(path)\n",
    "    \n",
    "#     if multiple == True:\n",
    "#         dataframe = merge_multi_label(dataframe)\n",
    "        \n",
    "#     labels = []\n",
    "#     for _, row in dataframe.iterrows():\n",
    "#         label = multimodal_label(row['text'], row['image'])\n",
    "#         labels.append(label)\n",
    "        \n",
    "#     if mappings == True:\n",
    "#         label_map = {}\n",
    "#         for i in range(len(labels)):\n",
    "#             ID = dataframe.iloc[i, 0]\n",
    "#             label_map[ID] = labels[i]            \n",
    "#         return label_map\n",
    "#     return np.array(labels, dtype='object')\n",
    "\n",
    "# def create_text_data(path):\n",
    "#     texts = []\n",
    "    \n",
    "#     print('Read text data')\n",
    "#     # read data along with its filename as ID\n",
    "#     for filename in tqdm(os.listdir(path)):\n",
    "#         ID = int(filename.split('.')[0])\n",
    "#         file_path = os.path.join(path, filename)\n",
    "#         if filename.endswith('txt'):\n",
    "#             text = read_text_file(file_path)\n",
    "#             texts.append((ID, text))\n",
    "\n",
    "#     # Sort data by its ID\n",
    "#     get_ID = lambda x : x[0]\n",
    "#     texts.sort(key=get_ID)\n",
    "    \n",
    "#     # return data without ID\n",
    "#     texts = np.array([text[1].rstrip('\\n') for text in texts])\n",
    "\n",
    "#     return texts\n",
    "\n",
    "# def create_image_data(path):\n",
    "#     images = []\n",
    "     \n",
    "#     image_paths = os.listdir(path)\n",
    "#     image_paths.sort(key = lambda x : int(x.split('.')[0]))\n",
    "#     image_paths = list(filter(lambda x: x.endswith('.jpg'), image_paths))\n",
    "#     image_paths = [os.path.join(path, x) for x in image_paths]\n",
    "# #     print(image_path)\n",
    "    \n",
    "#     print('Read image data')\n",
    "#     # read data along with its filename as ID\n",
    "#     for image_path in tqdm(image_paths):\n",
    "# #         ID = int(filename.split('.')[0])\n",
    "# #         file_path = os.path.join(path, filename)\n",
    "# #         gc.collect()\n",
    "# #         if filename.endswith('jpg'):\n",
    "# #         image_with_id = get_image_with_id(image_path)\n",
    "# #         images.append(image_with_id)\n",
    "#         image = read_image_file(image_path)\n",
    "#         images.append(image)\n",
    "# #         del image\n",
    "# #         gc.collect()\n",
    "        \n",
    "    \n",
    "# #     # Sort data by its ID\n",
    "# #     get_ID = lambda x : x[0]\n",
    "# #     images.sort(key=get_ID)\n",
    "    \n",
    "#     # return data without ID\n",
    "# #     images = np.array([image[1] for image in images], dtype='object')\n",
    "\n",
    "#     return images\n",
    "\n",
    "# def get_image_with_id(path):\n",
    "#     filename = os.path.split(path)[1]\n",
    "#     ID = int(filename.split('.')[0])\n",
    "#     image = read_image_file(path)\n",
    "#     return (ID, image)"
   ]
  }
 ],
 "metadata": {
  "kernelspec": {
   "display_name": "Python 3",
   "language": "python",
   "name": "python3"
  },
  "language_info": {
   "codemirror_mode": {
    "name": "ipython",
    "version": 3
   },
   "file_extension": ".py",
   "mimetype": "text/x-python",
   "name": "python",
   "nbconvert_exporter": "python",
   "pygments_lexer": "ipython3",
   "version": "3.7.12"
  },
  "papermill": {
   "default_parameters": {},
   "duration": 844.052376,
   "end_time": "2022-06-15T15:37:11.045046",
   "environment_variables": {},
   "exception": null,
   "input_path": "__notebook__.ipynb",
   "output_path": "__notebook__.ipynb",
   "parameters": {},
   "start_time": "2022-06-15T15:23:06.992670",
   "version": "2.3.4"
  }
 },
 "nbformat": 4,
 "nbformat_minor": 5
}
