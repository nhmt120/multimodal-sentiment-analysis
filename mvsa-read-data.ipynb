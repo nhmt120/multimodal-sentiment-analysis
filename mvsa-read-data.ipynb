{
 "cells": [
  {
   "cell_type": "code",
   "execution_count": 1,
   "id": "4e60b2e3",
   "metadata": {
    "execution": {
     "iopub.execute_input": "2022-06-17T12:48:16.297889Z",
     "iopub.status.busy": "2022-06-17T12:48:16.297166Z",
     "iopub.status.idle": "2022-06-17T12:48:21.753561Z",
     "shell.execute_reply": "2022-06-17T12:48:21.752651Z"
    },
    "papermill": {
     "duration": 5.473876,
     "end_time": "2022-06-17T12:48:21.756037",
     "exception": false,
     "start_time": "2022-06-17T12:48:16.282161",
     "status": "completed"
    },
    "tags": []
   },
   "outputs": [],
   "source": [
    "import os\n",
    "import gc\n",
    "import cv2\n",
    "import h5py\n",
    "import numpy as np\n",
    "import pandas as pd\n",
    "import tensorflow as tf\n",
    "\n",
    "from tqdm import tqdm\n",
    "from  matplotlib import pyplot as plt"
   ]
  },
  {
   "cell_type": "code",
   "execution_count": 2,
   "id": "b6642a31",
   "metadata": {
    "execution": {
     "iopub.execute_input": "2022-06-17T12:48:21.781310Z",
     "iopub.status.busy": "2022-06-17T12:48:21.780123Z",
     "iopub.status.idle": "2022-06-17T12:48:21.785676Z",
     "shell.execute_reply": "2022-06-17T12:48:21.785048Z"
    },
    "papermill": {
     "duration": 0.019941,
     "end_time": "2022-06-17T12:48:21.787533",
     "exception": false,
     "start_time": "2022-06-17T12:48:21.767592",
     "status": "completed"
    },
    "tags": []
   },
   "outputs": [],
   "source": [
    "mvsa_single_data_path = '../input/mvsasingle/MVSA_Single/data'\n",
    "mvsa_single_label_path = '../input/mvsasingle/MVSA_Single/labelResultAll.txt'\n",
    "mvsa_multiple_data_path = '../input/mvsamultiple/MVSA/data'\n",
    "mvsa_multiple_label_path = '../input/mvsamultiple/MVSA/labelResultAll.txt'\n",
    "\n",
    "IMAGE_SIZE = (224, 224)\n",
    "NUM_CHANNELS = 3"
   ]
  },
  {
   "cell_type": "code",
   "execution_count": 3,
   "id": "6ecc38f6",
   "metadata": {
    "execution": {
     "iopub.execute_input": "2022-06-17T12:48:21.811868Z",
     "iopub.status.busy": "2022-06-17T12:48:21.811458Z",
     "iopub.status.idle": "2022-06-17T12:48:21.820669Z",
     "shell.execute_reply": "2022-06-17T12:48:21.819870Z"
    },
    "papermill": {
     "duration": 0.023817,
     "end_time": "2022-06-17T12:48:21.822598",
     "exception": false,
     "start_time": "2022-06-17T12:48:21.798781",
     "status": "completed"
    },
    "tags": []
   },
   "outputs": [],
   "source": [
    "def read_text_file(path, multi_line=False):\n",
    "    if multi_line == True:\n",
    "        lines = open(path, 'r', encoding='latin-1').readlines()\n",
    "        lines = [line.rstrip('\\n') for line in lines]\n",
    "        return lines\n",
    "    return open(path, 'r', encoding='latin-1').read()\n",
    "\n",
    "def read_image_file(path):\n",
    "    try:\n",
    "        image = cv2.imread(path, cv2.COLOR_BGR2RGB)\n",
    "        image = cv2.resize(image, IMAGE_SIZE, interpolation = cv2.INTER_AREA)\n",
    "        invalid_ID = -1\n",
    "    except:\n",
    "        image = np.zeros((IMAGE_SIZE[0], IMAGE_SIZE[1], NUM_CHANNELS))\n",
    "        invalid_ID = os.path.split(path)[1].split('.')[0]\n",
    "    return image, invalid_ID\n",
    "\n",
    "def read_labels_file(path):\n",
    "    dataframe = pd.read_csv(path, sep=\"\\s+|,\", engine=\"python\")\n",
    "    return dataframe"
   ]
  },
  {
   "cell_type": "code",
   "execution_count": 4,
   "id": "198fb3fa",
   "metadata": {
    "execution": {
     "iopub.execute_input": "2022-06-17T12:48:21.847131Z",
     "iopub.status.busy": "2022-06-17T12:48:21.846463Z",
     "iopub.status.idle": "2022-06-17T12:48:21.858678Z",
     "shell.execute_reply": "2022-06-17T12:48:21.857991Z"
    },
    "papermill": {
     "duration": 0.026988,
     "end_time": "2022-06-17T12:48:21.860857",
     "exception": false,
     "start_time": "2022-06-17T12:48:21.833869",
     "status": "completed"
    },
    "tags": []
   },
   "outputs": [],
   "source": [
    "# since there are 3 annotators defining each data labels in the MVSA-Multiple dataset\n",
    "# we take the labels pair that 2 out 3 annotators agree on as the valid labels pair, remove otherwise\n",
    "def merge_multi_label(dataframe):\n",
    "    anno_1 = list(dataframe.iloc[:, 1:3].itertuples(index=False, name=None))\n",
    "    anno_2 = list(dataframe.iloc[:, 3:5].itertuples(index=False, name=None))\n",
    "    anno_3 = list(dataframe.iloc[:, 5:7].itertuples(index=False, name=None))\n",
    "    IDs = list(dataframe.iloc[:, 0])\n",
    "    \n",
    "    valid_pairs = []\n",
    "    \n",
    "    for i in range(len(anno_1)):\n",
    "        pairs = [anno_1[i], anno_2[i], anno_3[i]]\n",
    "        ID = IDs[i]\n",
    "        \n",
    "        valid_pair = tuple([pair for pair in pairs if pairs.count(pair) > 1])\n",
    "        \n",
    "        if len(valid_pair) == 0:\n",
    "            valid_pair = (ID, 'invalid', 'invalid')\n",
    "        else:\n",
    "            valid_pair = (ID, valid_pair[0][0], valid_pair[0][1])\n",
    "        valid_pairs.append(valid_pair)\n",
    "        \n",
    "    valid_dataframe = pd.DataFrame(valid_pairs, columns=['ID', 'text', 'image'])\n",
    "    return valid_dataframe\n",
    "\n",
    "def multimodal_label(text_label, image_label):\n",
    "    if text_label == image_label:\n",
    "        label = text_label\n",
    "    elif (text_label == 'positive' and image_label == 'negative') or (text_label == 'negative' and image_label == 'positive'):\n",
    "        label = 'invalid'\n",
    "    elif (text_label == 'neutral' and image_label != 'neutral') or (text_label != 'neutral' or image_label == 'neutral'):\n",
    "        label = image_label if text_label == 'neutral' else text_label\n",
    "    return label"
   ]
  },
  {
   "cell_type": "code",
   "execution_count": 5,
   "id": "ead68fdc",
   "metadata": {
    "execution": {
     "iopub.execute_input": "2022-06-17T12:48:21.885892Z",
     "iopub.status.busy": "2022-06-17T12:48:21.885173Z",
     "iopub.status.idle": "2022-06-17T12:48:21.892764Z",
     "shell.execute_reply": "2022-06-17T12:48:21.892093Z"
    },
    "papermill": {
     "duration": 0.022597,
     "end_time": "2022-06-17T12:48:21.894846",
     "exception": false,
     "start_time": "2022-06-17T12:48:21.872249",
     "status": "completed"
    },
    "tags": []
   },
   "outputs": [],
   "source": [
    "def get_data_paths(path, extension):\n",
    "    paths = os.listdir(path)\n",
    "    paths.sort(key = lambda x : int(x.split('.')[0]))\n",
    "    paths = list(filter(lambda x: x.endswith(extension), paths))\n",
    "    paths = [os.path.join(path, x) for x in paths]\n",
    "    return paths\n",
    "\n",
    "def get_image_with_id(path):\n",
    "    filename = os.path.split(path)[1]\n",
    "    ID = int(filename.split('.')[0])\n",
    "    image = read_image_file(path)\n",
    "    return (ID, image)"
   ]
  },
  {
   "cell_type": "code",
   "execution_count": 6,
   "id": "10022d35",
   "metadata": {
    "execution": {
     "iopub.execute_input": "2022-06-17T12:48:21.920079Z",
     "iopub.status.busy": "2022-06-17T12:48:21.919649Z",
     "iopub.status.idle": "2022-06-17T12:48:21.925096Z",
     "shell.execute_reply": "2022-06-17T12:48:21.924387Z"
    },
    "papermill": {
     "duration": 0.020406,
     "end_time": "2022-06-17T12:48:21.927083",
     "exception": false,
     "start_time": "2022-06-17T12:48:21.906677",
     "status": "completed"
    },
    "tags": []
   },
   "outputs": [],
   "source": [
    "def create_original_labels(path):\n",
    "    dataframe = read_labels_file(path)\n",
    "    text_labels = dataframe['text'].to_numpy()\n",
    "    image_labels = dataframe['image'].to_numpy()\n",
    "    return text_labels, image_labels"
   ]
  },
  {
   "cell_type": "code",
   "execution_count": 7,
   "id": "3e98077c",
   "metadata": {
    "execution": {
     "iopub.execute_input": "2022-06-17T12:48:21.952535Z",
     "iopub.status.busy": "2022-06-17T12:48:21.951746Z",
     "iopub.status.idle": "2022-06-17T12:48:21.964183Z",
     "shell.execute_reply": "2022-06-17T12:48:21.963476Z"
    },
    "papermill": {
     "duration": 0.027871,
     "end_time": "2022-06-17T12:48:21.966342",
     "exception": false,
     "start_time": "2022-06-17T12:48:21.938471",
     "status": "completed"
    },
    "tags": []
   },
   "outputs": [],
   "source": [
    "def create_multimodal_labels(path, multiple=False, mappings=False):\n",
    "    dataframe = read_labels_file(path)\n",
    "    \n",
    "    if multiple == True:\n",
    "        dataframe = merge_multi_label(dataframe)\n",
    "\n",
    "    labels = []\n",
    "    for label_pair in dataframe.iloc[:, 1:].values:\n",
    "        label = multimodal_label(label_pair[0], label_pair[1])\n",
    "        labels.append(label)\n",
    "        \n",
    "    if mappings == True:\n",
    "        label_map = {}\n",
    "        for i in range(len(labels)):\n",
    "            ID = dataframe.iloc[i, 0]\n",
    "            label_map[ID] = labels[i]            \n",
    "        return label_map\n",
    "    \n",
    "    return np.array(labels, dtype='object')\n",
    "\n",
    "def create_text_data(path):\n",
    "    texts = []\n",
    "    text_paths = get_data_paths(path, '.txt')\n",
    "    \n",
    "    print('Read text data')\n",
    "    for text_path in tqdm(text_paths):\n",
    "        text = read_text_file(text_path).rstrip('\\n')\n",
    "        texts.append(text)\n",
    "        \n",
    "    return np.array(texts)\n",
    "\n",
    "def create_image_data(path):\n",
    "    images = np.array([])\n",
    "\n",
    "    invalid_indices = []\n",
    "    image_paths = get_data_paths(path, '.jpg')\n",
    "\n",
    "    print('Read image data')\n",
    "    for image_path in tqdm(image_paths):\n",
    "        image, invalid_ID = read_image_file(image_path)\n",
    "        if images.shape[0] == 0:\n",
    "            images = np.array([image])\n",
    "        else:\n",
    "            images = np.concatenate((images, [image]))\n",
    "\n",
    "        if invalid_ID != -1:\n",
    "            invalid_indices.append(invalid_ID)\n",
    "            \n",
    "    return images, invalid_indices"
   ]
  },
  {
   "cell_type": "code",
   "execution_count": 8,
   "id": "95212625",
   "metadata": {
    "execution": {
     "iopub.execute_input": "2022-06-17T12:48:21.991298Z",
     "iopub.status.busy": "2022-06-17T12:48:21.990579Z",
     "iopub.status.idle": "2022-06-17T12:48:21.996473Z",
     "shell.execute_reply": "2022-06-17T12:48:21.995811Z"
    },
    "papermill": {
     "duration": 0.021107,
     "end_time": "2022-06-17T12:48:21.998769",
     "exception": false,
     "start_time": "2022-06-17T12:48:21.977662",
     "status": "completed"
    },
    "tags": []
   },
   "outputs": [],
   "source": [
    "def invalid_indices(labels):\n",
    "    invalid_indices = [i for i in range(labels.shape[0]) if labels[i] == 'invalid']\n",
    "    return indices\n",
    "\n",
    "def remove_invalid(data, indices):\n",
    "    new_data =  np.delete(data, indices, axis=0)\n",
    "    return new_data"
   ]
  },
  {
   "cell_type": "code",
   "execution_count": 9,
   "id": "042ecf54",
   "metadata": {
    "execution": {
     "iopub.execute_input": "2022-06-17T12:48:22.023953Z",
     "iopub.status.busy": "2022-06-17T12:48:22.023557Z",
     "iopub.status.idle": "2022-06-17T12:48:22.028596Z",
     "shell.execute_reply": "2022-06-17T12:48:22.027644Z"
    },
    "papermill": {
     "duration": 0.020588,
     "end_time": "2022-06-17T12:48:22.030767",
     "exception": false,
     "start_time": "2022-06-17T12:48:22.010179",
     "status": "completed"
    },
    "tags": []
   },
   "outputs": [],
   "source": [
    "def save_text_file(filename, lines):\n",
    "    with open(filename, 'w', encoding='latin1') as f:\n",
    "        f.write('\\n'.join(lines))"
   ]
  },
  {
   "cell_type": "code",
   "execution_count": 10,
   "id": "eb90d90c",
   "metadata": {
    "execution": {
     "iopub.execute_input": "2022-06-17T12:48:22.056352Z",
     "iopub.status.busy": "2022-06-17T12:48:22.055598Z",
     "iopub.status.idle": "2022-06-17T12:48:22.064145Z",
     "shell.execute_reply": "2022-06-17T12:48:22.063458Z"
    },
    "papermill": {
     "duration": 0.023865,
     "end_time": "2022-06-17T12:48:22.066327",
     "exception": false,
     "start_time": "2022-06-17T12:48:22.042462",
     "status": "completed"
    },
    "tags": []
   },
   "outputs": [],
   "source": [
    "# for loading saved output data\n",
    "def load_mvsa_data(path):\n",
    "    read_file = h5py.File(path, 'r')\n",
    "    \n",
    "    texts = read_file['texts'][:]\n",
    "    texts = np.array([x.decode('UTF-8') for x in texts]) # decode to utf-8 because hd5py save text object as binary string b'' thingy\n",
    "    \n",
    "    images = read_file['images'][:]\n",
    "    \n",
    "    multimodal_labels = read_file['multimodal-labels'][:]\n",
    "    multimodal_labels = np.array([x.decode('UTF-8') for x in multimodal_labels])\n",
    "\n",
    "    text_labels = read_file['text-labels'][:]\n",
    "    text_labels = np.array([x.decode('UTF-8') for x in text_labels])\n",
    "\n",
    "    image_labels = read_file['image-labels'][:]\n",
    "    image_labels = np.array([x.decode('UTF-8') for x in image_labels])\n",
    "\n",
    "    return texts, images, multimodal_labels, text_labels, image_labels"
   ]
  },
  {
   "cell_type": "markdown",
   "id": "24350dee",
   "metadata": {
    "papermill": {
     "duration": 0.011486,
     "end_time": "2022-06-17T12:48:22.089179",
     "exception": false,
     "start_time": "2022-06-17T12:48:22.077693",
     "status": "completed"
    },
    "tags": []
   },
   "source": [
    "# MVSA-Single"
   ]
  },
  {
   "cell_type": "code",
   "execution_count": 11,
   "id": "08580d49",
   "metadata": {
    "execution": {
     "iopub.execute_input": "2022-06-17T12:48:22.114337Z",
     "iopub.status.busy": "2022-06-17T12:48:22.113397Z",
     "iopub.status.idle": "2022-06-17T13:01:31.914946Z",
     "shell.execute_reply": "2022-06-17T13:01:31.913774Z"
    },
    "papermill": {
     "duration": 789.817121,
     "end_time": "2022-06-17T13:01:31.917874",
     "exception": false,
     "start_time": "2022-06-17T12:48:22.100753",
     "status": "completed"
    },
    "tags": []
   },
   "outputs": [
    {
     "name": "stdout",
     "output_type": "stream",
     "text": [
      "Read text data\n"
     ]
    },
    {
     "name": "stderr",
     "output_type": "stream",
     "text": [
      "100%|██████████| 4869/4869 [00:27<00:00, 176.99it/s]\n"
     ]
    },
    {
     "name": "stdout",
     "output_type": "stream",
     "text": [
      "Read image data\n"
     ]
    },
    {
     "name": "stderr",
     "output_type": "stream",
     "text": [
      "100%|██████████| 4869/4869 [12:41<00:00,  6.39it/s]\n"
     ]
    }
   ],
   "source": [
    "mvsa_single_texts = create_text_data(mvsa_single_data_path)\n",
    "mvsa_single_images, mvsa_single_images_invalid_indices = create_image_data(mvsa_single_data_path)\n",
    "mvsa_single_multimodal_labels = create_multimodal_labels(mvsa_single_label_path)\n",
    "mvsa_single_text_labels, mvsa_single_image_labels = create_original_labels(mvsa_single_label_path)"
   ]
  },
  {
   "cell_type": "code",
   "execution_count": 12,
   "id": "e0993366",
   "metadata": {
    "execution": {
     "iopub.execute_input": "2022-06-17T13:01:32.590177Z",
     "iopub.status.busy": "2022-06-17T13:01:32.589333Z",
     "iopub.status.idle": "2022-06-17T13:01:32.652355Z",
     "shell.execute_reply": "2022-06-17T13:01:32.651313Z"
    },
    "papermill": {
     "duration": 0.431632,
     "end_time": "2022-06-17T13:01:32.655003",
     "exception": false,
     "start_time": "2022-06-17T13:01:32.223371",
     "status": "completed"
    },
    "tags": []
   },
   "outputs": [],
   "source": [
    "# Get duplicated text indices\n",
    "mvsa_single_texts_unique_indices = np.unique(mvsa_single_texts, return_index=True)[1]\n",
    "mvsa_single_texts_duplicated_indices = [i for i in range(mvsa_single_texts.shape[0]) if i not in mvsa_single_texts_unique_indices]\n",
    "\n",
    "# Get invalid label indices\n",
    "mvsa_single_multimodal_labels_invalid_indices = [i for i in range(mvsa_single_multimodal_labels.shape[0]) if mvsa_single_multimodal_labels[i] == 'invalid']"
   ]
  },
  {
   "cell_type": "code",
   "execution_count": 13,
   "id": "d3b7b523",
   "metadata": {
    "execution": {
     "iopub.execute_input": "2022-06-17T13:01:33.265611Z",
     "iopub.status.busy": "2022-06-17T13:01:33.265153Z",
     "iopub.status.idle": "2022-06-17T13:01:33.472834Z",
     "shell.execute_reply": "2022-06-17T13:01:33.471897Z"
    },
    "papermill": {
     "duration": 0.515075,
     "end_time": "2022-06-17T13:01:33.475116",
     "exception": false,
     "start_time": "2022-06-17T13:01:32.960041",
     "status": "completed"
    },
    "tags": []
   },
   "outputs": [
    {
     "name": "stdout",
     "output_type": "stream",
     "text": [
      "Number of text-image pair in MVSA-Single: 4869\n",
      "Number of invalid data in MVSA-Single: 553\n",
      "Number of text-image pair in MVSA-Single after removing invalid data: 4316\n"
     ]
    }
   ],
   "source": [
    "print('Number of text-image pair in MVSA-Single:', mvsa_single_multimodal_labels.shape[0])\n",
    "\n",
    "mvsa_single_invalid_indices = []\n",
    "mvsa_single_invalid_indices.extend(mvsa_single_texts_duplicated_indices)\n",
    "mvsa_single_invalid_indices.extend(mvsa_single_images_invalid_indices) # corrupted images\n",
    "mvsa_single_invalid_indices.extend(mvsa_single_multimodal_labels_invalid_indices)\n",
    "mvsa_single_invalid_indices = list(set(mvsa_single_invalid_indices))\n",
    "print('Number of invalid data in MVSA-Single:', len(mvsa_single_invalid_indices))\n",
    "\n",
    "mvsa_single_texts_valid = remove_invalid(mvsa_single_texts, mvsa_single_invalid_indices)\n",
    "mvsa_single_images_valid = remove_invalid(mvsa_single_images, mvsa_single_invalid_indices)\n",
    "mvsa_single_multimodal_labels_valid = remove_invalid(mvsa_single_multimodal_labels, mvsa_single_invalid_indices)\n",
    "mvsa_single_text_labels_valid = remove_invalid(mvsa_single_text_labels, mvsa_single_invalid_indices)\n",
    "mvsa_single_image_labels_valid = remove_invalid(mvsa_single_image_labels, mvsa_single_invalid_indices)\n",
    "\n",
    "print('Number of text-image pair in MVSA-Single after removing invalid data:', mvsa_single_texts_valid.shape[0])"
   ]
  },
  {
   "cell_type": "code",
   "execution_count": 14,
   "id": "8aa38c7a",
   "metadata": {
    "execution": {
     "iopub.execute_input": "2022-06-17T13:01:34.076850Z",
     "iopub.status.busy": "2022-06-17T13:01:34.076417Z",
     "iopub.status.idle": "2022-06-17T13:01:35.309220Z",
     "shell.execute_reply": "2022-06-17T13:01:35.308281Z"
    },
    "papermill": {
     "duration": 1.537734,
     "end_time": "2022-06-17T13:01:35.311627",
     "exception": false,
     "start_time": "2022-06-17T13:01:33.773893",
     "status": "completed"
    },
    "tags": []
   },
   "outputs": [],
   "source": [
    "with h5py.File('mvsa-single-{}.hdf5'.format(mvsa_single_texts_valid.shape[0]), 'w') as f:\n",
    "    f.create_dataset('texts', data = mvsa_single_texts_valid.astype('object'))\n",
    "    f.create_dataset('images', data = mvsa_single_images_valid)\n",
    "    f.create_dataset('multimodal-labels', data = mvsa_single_multimodal_labels_valid)\n",
    "    f.create_dataset('text-labels', data = mvsa_single_text_labels_valid)\n",
    "    f.create_dataset('image-labels', data = mvsa_single_image_labels_valid)"
   ]
  },
  {
   "cell_type": "code",
   "execution_count": 15,
   "id": "94fe4be7",
   "metadata": {
    "execution": {
     "iopub.execute_input": "2022-06-17T13:01:35.995186Z",
     "iopub.status.busy": "2022-06-17T13:01:35.994774Z",
     "iopub.status.idle": "2022-06-17T13:01:36.300755Z",
     "shell.execute_reply": "2022-06-17T13:01:36.299810Z"
    },
    "papermill": {
     "duration": 0.688718,
     "end_time": "2022-06-17T13:01:36.303214",
     "exception": false,
     "start_time": "2022-06-17T13:01:35.614496",
     "status": "completed"
    },
    "tags": []
   },
   "outputs": [],
   "source": [
    "mvsa_single_texts_loaded, mvsa_single_images_loaded, \\\n",
    "mvsa_single_multimodal_labels_loaded, mvsa_single_text_labels_loaded, \\\n",
    "mvsa_single_image_labels_loaded = load_mvsa_data('./mvsa-single-4316.hdf5')"
   ]
  },
  {
   "cell_type": "code",
   "execution_count": 16,
   "id": "f1b80118",
   "metadata": {
    "execution": {
     "iopub.execute_input": "2022-06-17T13:01:36.908700Z",
     "iopub.status.busy": "2022-06-17T13:01:36.907917Z",
     "iopub.status.idle": "2022-06-17T13:01:37.304078Z",
     "shell.execute_reply": "2022-06-17T13:01:37.302768Z"
    },
    "papermill": {
     "duration": 0.698321,
     "end_time": "2022-06-17T13:01:37.306331",
     "exception": false,
     "start_time": "2022-06-17T13:01:36.608010",
     "status": "completed"
    },
    "tags": []
   },
   "outputs": [
    {
     "name": "stdout",
     "output_type": "stream",
     "text": [
      "True\n",
      "True\n",
      "True\n",
      "True\n",
      "True\n"
     ]
    }
   ],
   "source": [
    "print((mvsa_single_texts_valid == mvsa_single_texts_loaded).all())\n",
    "print((mvsa_single_images_valid == mvsa_single_images_loaded).all())\n",
    "print((mvsa_single_multimodal_labels_valid == mvsa_single_multimodal_labels_loaded).all())\n",
    "print((mvsa_single_text_labels_valid == mvsa_single_text_labels_loaded).all())\n",
    "print((mvsa_single_image_labels_valid == mvsa_single_image_labels_loaded).all())"
   ]
  },
  {
   "cell_type": "markdown",
   "id": "bb27d0d3",
   "metadata": {
    "papermill": {
     "duration": 0.303211,
     "end_time": "2022-06-17T13:01:37.948848",
     "exception": false,
     "start_time": "2022-06-17T13:01:37.645637",
     "status": "completed"
    },
    "tags": []
   },
   "source": [
    "# MVSA-Multiple"
   ]
  },
  {
   "cell_type": "code",
   "execution_count": 17,
   "id": "0e1efdc0",
   "metadata": {
    "execution": {
     "iopub.execute_input": "2022-06-17T13:01:38.571684Z",
     "iopub.status.busy": "2022-06-17T13:01:38.571022Z",
     "iopub.status.idle": "2022-06-17T13:01:38.574717Z",
     "shell.execute_reply": "2022-06-17T13:01:38.574090Z"
    },
    "papermill": {
     "duration": 0.325123,
     "end_time": "2022-06-17T13:01:38.576693",
     "exception": false,
     "start_time": "2022-06-17T13:01:38.251570",
     "status": "completed"
    },
    "tags": []
   },
   "outputs": [],
   "source": [
    "# mvsa_multiple_texts = create_text_data(mvsa_multiple_data_path)\n",
    "# mvsa_multiple_images, mvsa_multiple_images_invalid_indices = create_image_data(mvsa_multiple_data_path)\n",
    "# mvsa_multiple_multimodal_labels = create_multimodal_labels(mvsa_multiple_label_path, multiple=True)\n",
    "# mvsa_multiple_text_labels, mvsa_multiple_image_labels = create_original_labels(mvsa_multiple_label_path)\n",
    "\n",
    "# print('Number of text-image pair in MVSA-Multiple:', mvsa_multiple_multimodal_labels.shape[0])"
   ]
  },
  {
   "cell_type": "code",
   "execution_count": 18,
   "id": "864a28b7",
   "metadata": {
    "execution": {
     "iopub.execute_input": "2022-06-17T13:01:39.175870Z",
     "iopub.status.busy": "2022-06-17T13:01:39.175205Z",
     "iopub.status.idle": "2022-06-17T13:01:39.178986Z",
     "shell.execute_reply": "2022-06-17T13:01:39.178226Z"
    },
    "papermill": {
     "duration": 0.306421,
     "end_time": "2022-06-17T13:01:39.180735",
     "exception": false,
     "start_time": "2022-06-17T13:01:38.874314",
     "status": "completed"
    },
    "tags": []
   },
   "outputs": [],
   "source": [
    "# # Get duplicated text indices\n",
    "# mvsa_multiple_texts_unique_indices = np.unique(mvsa_multiple_texts, return_index=True)[1]\n",
    "# mvsa_multiple_texts_duplicated_indices = [i for i in range(mvsa_multiple_texts.shape[0]) if i not in mvsa_multiple_texts_unique_indices]\n",
    "\n",
    "# # Get invalid label indices\n",
    "# mvsa_multiple_multimodal_labels_invalid_indices = [i for i in range(mvsa_multiple_multimodal_labels.shape[0]) if mvsa_multiple_multimodal_labels[i] == 'invalid']"
   ]
  },
  {
   "cell_type": "code",
   "execution_count": 19,
   "id": "565d618d",
   "metadata": {
    "execution": {
     "iopub.execute_input": "2022-06-17T13:01:39.839698Z",
     "iopub.status.busy": "2022-06-17T13:01:39.838979Z",
     "iopub.status.idle": "2022-06-17T13:01:39.843399Z",
     "shell.execute_reply": "2022-06-17T13:01:39.842666Z"
    },
    "papermill": {
     "duration": 0.307992,
     "end_time": "2022-06-17T13:01:39.845324",
     "exception": false,
     "start_time": "2022-06-17T13:01:39.537332",
     "status": "completed"
    },
    "tags": []
   },
   "outputs": [],
   "source": [
    "# mvsa_multiple_invalid_indices = []\n",
    "# mvsa_multiple_invalid_indices.extend(mvsa_multiple_texts_duplicated_indices)\n",
    "# mvsa_multiple_invalid_indices.extend(mvsa_multiple_images_invalid_indices)\n",
    "# mvsa_multiple_invalid_indices.extend(mvsa_multiple_multimodal_labels_invalid_indices)\n",
    "# mvsa_multiple_invalid_indices = list(set(mvsa_multiple_invalid_indices))\n",
    "\n",
    "# mvsa_multiple_texts_valid = remove_invalid(mvsa_multiple_texts, mvsa_multiple_invalid_indices)\n",
    "# mvsa_multiple_images_valid = remove_invalid(mvsa_multiple_images, mvsa_multiple_invalid_indices)\n",
    "# mvsa_multiple_multimodal_labels_valid = remove_invalid(mvsa_multiple_multimodal_labels, mvsa_multiple_invalid_indices)\n",
    "# mvsa_multiple_text_labels_valid = remove_invalid(mvsa_multiple_text_labels, mvsa_multiple_invalid_indices)\n",
    "# mvsa_multiple_image_labels_valid = remove_invalid(mvsa_multiple_image_labels, mvsa_multiple_invalid_indices)\n",
    "\n",
    "# print('Number of invalid data in MVSA-Multiple:', len(mvsa_multiple_invalid_indices))\n",
    "# print('Number of text-image pair in MVSA-Multiple after removing invalid data:', mvsa_multiple_texts_valid.shape[0])"
   ]
  },
  {
   "cell_type": "code",
   "execution_count": 20,
   "id": "e1001f76",
   "metadata": {
    "execution": {
     "iopub.execute_input": "2022-06-17T13:01:40.553183Z",
     "iopub.status.busy": "2022-06-17T13:01:40.552715Z",
     "iopub.status.idle": "2022-06-17T13:01:40.556734Z",
     "shell.execute_reply": "2022-06-17T13:01:40.556093Z"
    },
    "papermill": {
     "duration": 0.374428,
     "end_time": "2022-06-17T13:01:40.558598",
     "exception": false,
     "start_time": "2022-06-17T13:01:40.184170",
     "status": "completed"
    },
    "tags": []
   },
   "outputs": [],
   "source": [
    "# with h5py.File('mvsa-multiple-{}.hdf5'.format(mvsa_multiple_texts_valid.shape[0]), 'w') as f:\n",
    "#     f.create_dataset('texts', data = mvsa_multiple_texts_valid.astype('object'))\n",
    "#     f.create_dataset('images', data = mvsa_multiple_images_valid)\n",
    "#     f.create_dataset('multimodal-labels', data = mvsa_multiple_multimodal_labels_valid)\n",
    "#     f.create_dataset('text-labels', data = mvsa_multiple_text_labels_valid)\n",
    "#     f.create_dataset('image-labels', data = mvsa_multiple_image_labels_valid)"
   ]
  },
  {
   "cell_type": "code",
   "execution_count": 21,
   "id": "83b896ec",
   "metadata": {
    "execution": {
     "iopub.execute_input": "2022-06-17T13:01:41.273134Z",
     "iopub.status.busy": "2022-06-17T13:01:41.271316Z",
     "iopub.status.idle": "2022-06-17T13:01:41.276607Z",
     "shell.execute_reply": "2022-06-17T13:01:41.275926Z"
    },
    "papermill": {
     "duration": 0.418127,
     "end_time": "2022-06-17T13:01:41.278702",
     "exception": false,
     "start_time": "2022-06-17T13:01:40.860575",
     "status": "completed"
    },
    "tags": []
   },
   "outputs": [],
   "source": [
    "# mvsa_multiple_texts_loaded, mvsa_multiple_images_loaded, \\\n",
    "# mvsa_multiple_multimodal_labels_loaded, mvsa_multiple_text_labels_loaded, \\\n",
    "# mvsa_multiple_image_labels_loaded = load_mvsa_data('./mvsa-multiple-4316.hdf5')"
   ]
  },
  {
   "cell_type": "code",
   "execution_count": 22,
   "id": "153da2fc",
   "metadata": {
    "execution": {
     "iopub.execute_input": "2022-06-17T13:01:41.951004Z",
     "iopub.status.busy": "2022-06-17T13:01:41.950297Z",
     "iopub.status.idle": "2022-06-17T13:01:41.954660Z",
     "shell.execute_reply": "2022-06-17T13:01:41.954051Z"
    },
    "papermill": {
     "duration": 0.316777,
     "end_time": "2022-06-17T13:01:41.956650",
     "exception": false,
     "start_time": "2022-06-17T13:01:41.639873",
     "status": "completed"
    },
    "tags": []
   },
   "outputs": [],
   "source": [
    "# print((mvsa_multiple_texts_valid == mvsa_multiple_texts_loaded).all())\n",
    "# print((mvsa_multiple_images_valid == mvsa_multiple_images_loaded).all())\n",
    "# print((mvsa_multiple_multimodal_labels_valid == mvsa_multiple_multimodal_labels_loaded).all())\n",
    "# print((mvsa_multiple_text_labels_valid == mvsa_multiple_text_labels_loaded).all())\n",
    "# print((mvsa_multiple_image_labels_valid == mvsa_multiple_image_labels_loaded).all())"
   ]
  },
  {
   "cell_type": "markdown",
   "id": "f234aed2",
   "metadata": {
    "papermill": {
     "duration": 0.299742,
     "end_time": "2022-06-17T13:01:42.556828",
     "exception": false,
     "start_time": "2022-06-17T13:01:42.257086",
     "status": "completed"
    },
    "tags": []
   },
   "source": [
    "# Visualize\n",
    "**TODO**"
   ]
  },
  {
   "cell_type": "code",
   "execution_count": 23,
   "id": "b7cfd21a",
   "metadata": {
    "execution": {
     "iopub.execute_input": "2022-06-17T13:01:43.214124Z",
     "iopub.status.busy": "2022-06-17T13:01:43.213690Z",
     "iopub.status.idle": "2022-06-17T13:01:43.217750Z",
     "shell.execute_reply": "2022-06-17T13:01:43.216792Z"
    },
    "papermill": {
     "duration": 0.364748,
     "end_time": "2022-06-17T13:01:43.219895",
     "exception": false,
     "start_time": "2022-06-17T13:01:42.855147",
     "status": "completed"
    },
    "tags": []
   },
   "outputs": [],
   "source": [
    "############\n",
    "# df_labels = read_labels_file('../input/mvsasingle/MVSA_Single/labelResultAll.txt')\n",
    "# df_labels['text'].count\n",
    "# label_text_count = df_labels.value_counts('text')\n",
    "# label_image_count = df_labels.value_counts('image')\n",
    "# label_text_count"
   ]
  },
  {
   "cell_type": "code",
   "execution_count": null,
   "id": "da0a63db",
   "metadata": {
    "papermill": {
     "duration": 0.297865,
     "end_time": "2022-06-17T13:01:43.819120",
     "exception": false,
     "start_time": "2022-06-17T13:01:43.521255",
     "status": "completed"
    },
    "tags": []
   },
   "outputs": [],
   "source": []
  },
  {
   "cell_type": "code",
   "execution_count": 24,
   "id": "e0ab5dd1",
   "metadata": {
    "execution": {
     "iopub.execute_input": "2022-06-17T13:01:44.417911Z",
     "iopub.status.busy": "2022-06-17T13:01:44.417242Z",
     "iopub.status.idle": "2022-06-17T13:01:44.421761Z",
     "shell.execute_reply": "2022-06-17T13:01:44.420990Z"
    },
    "papermill": {
     "duration": 0.307235,
     "end_time": "2022-06-17T13:01:44.423782",
     "exception": false,
     "start_time": "2022-06-17T13:01:44.116547",
     "status": "completed"
    },
    "tags": []
   },
   "outputs": [],
   "source": [
    "# text_ids = []\n",
    "# image_ids = []\n",
    "# for i in range(len(texts)):\n",
    "#     if texts[i][0] != images[i][0] != read_labels_file(label_path)['ID'][i]:\n",
    "#         print('here')"
   ]
  },
  {
   "cell_type": "code",
   "execution_count": 25,
   "id": "bfbd6f9e",
   "metadata": {
    "execution": {
     "iopub.execute_input": "2022-06-17T13:01:45.044553Z",
     "iopub.status.busy": "2022-06-17T13:01:45.044146Z",
     "iopub.status.idle": "2022-06-17T13:01:45.047844Z",
     "shell.execute_reply": "2022-06-17T13:01:45.047048Z"
    },
    "papermill": {
     "duration": 0.316046,
     "end_time": "2022-06-17T13:01:45.049709",
     "exception": false,
     "start_time": "2022-06-17T13:01:44.733663",
     "status": "completed"
    },
    "tags": []
   },
   "outputs": [],
   "source": [
    "# u, c, i = np.unique(texts, return_index=True, return_counts=True, axis=1)\n",
    "# dup = u[c > 1]\n",
    "# u[:10]"
   ]
  },
  {
   "cell_type": "code",
   "execution_count": 26,
   "id": "9c95fc18",
   "metadata": {
    "execution": {
     "iopub.execute_input": "2022-06-17T13:01:45.709704Z",
     "iopub.status.busy": "2022-06-17T13:01:45.709313Z",
     "iopub.status.idle": "2022-06-17T13:01:45.712657Z",
     "shell.execute_reply": "2022-06-17T13:01:45.712041Z"
    },
    "papermill": {
     "duration": 0.365323,
     "end_time": "2022-06-17T13:01:45.714412",
     "exception": false,
     "start_time": "2022-06-17T13:01:45.349089",
     "status": "completed"
    },
    "tags": []
   },
   "outputs": [],
   "source": [
    "# def display_sample(text, image):\n",
    "#     plt.imshow(image)\n",
    "#     print('Text:', text)\n",
    "#     plt.show()\n",
    "# display_sample(texts_with_id[2][1], images_with_id[2][1])"
   ]
  },
  {
   "cell_type": "code",
   "execution_count": 27,
   "id": "d45c0055",
   "metadata": {
    "execution": {
     "iopub.execute_input": "2022-06-17T13:01:47.709628Z",
     "iopub.status.busy": "2022-06-17T13:01:47.708754Z",
     "iopub.status.idle": "2022-06-17T13:01:47.713008Z",
     "shell.execute_reply": "2022-06-17T13:01:47.712265Z"
    },
    "papermill": {
     "duration": 1.699766,
     "end_time": "2022-06-17T13:01:47.715277",
     "exception": false,
     "start_time": "2022-06-17T13:01:46.015511",
     "status": "completed"
    },
    "tags": []
   },
   "outputs": [],
   "source": [
    "# shapes = []\n",
    "# for image in images_with_id:\n",
    "#     shapes.append(image.shape)\n",
    "# shapes"
   ]
  },
  {
   "cell_type": "code",
   "execution_count": 28,
   "id": "d9a07bb3",
   "metadata": {
    "execution": {
     "iopub.execute_input": "2022-06-17T13:01:48.329175Z",
     "iopub.status.busy": "2022-06-17T13:01:48.328780Z",
     "iopub.status.idle": "2022-06-17T13:01:48.333464Z",
     "shell.execute_reply": "2022-06-17T13:01:48.332346Z"
    },
    "papermill": {
     "duration": 0.30862,
     "end_time": "2022-06-17T13:01:48.335403",
     "exception": false,
     "start_time": "2022-06-17T13:01:48.026783",
     "status": "completed"
    },
    "tags": []
   },
   "outputs": [],
   "source": [
    "# raw_texts[raw_texts.duplicated('Text')]"
   ]
  },
  {
   "cell_type": "code",
   "execution_count": 29,
   "id": "c06a461f",
   "metadata": {
    "execution": {
     "iopub.execute_input": "2022-06-17T13:01:48.943886Z",
     "iopub.status.busy": "2022-06-17T13:01:48.943167Z",
     "iopub.status.idle": "2022-06-17T13:01:48.947089Z",
     "shell.execute_reply": "2022-06-17T13:01:48.946242Z"
    },
    "papermill": {
     "duration": 0.310036,
     "end_time": "2022-06-17T13:01:48.949205",
     "exception": false,
     "start_time": "2022-06-17T13:01:48.639169",
     "status": "completed"
    },
    "tags": []
   },
   "outputs": [],
   "source": [
    "# len_split = lambda x: len(x.split())\n",
    "# print()\n",
    "# print('Min number of words in text:', raw_texts['Text'].apply(len_split).min())\n",
    "# print('Max number of words in text:', raw_texts['Text'].apply(len_split).max())\n",
    "# print('Average number of words in text:', round(raw_texts['Text'].apply(len_split).mean()))"
   ]
  },
  {
   "cell_type": "code",
   "execution_count": null,
   "id": "807aa7c3",
   "metadata": {
    "papermill": {
     "duration": 0.316079,
     "end_time": "2022-06-17T13:01:49.658608",
     "exception": false,
     "start_time": "2022-06-17T13:01:49.342529",
     "status": "completed"
    },
    "tags": []
   },
   "outputs": [],
   "source": []
  },
  {
   "cell_type": "markdown",
   "id": "07c8b037",
   "metadata": {
    "papermill": {
     "duration": 0.300038,
     "end_time": "2022-06-17T13:01:50.257028",
     "exception": false,
     "start_time": "2022-06-17T13:01:49.956990",
     "status": "completed"
    },
    "tags": []
   },
   "source": [
    "# Drafts"
   ]
  },
  {
   "cell_type": "code",
   "execution_count": 30,
   "id": "c4bf11d1",
   "metadata": {
    "execution": {
     "iopub.execute_input": "2022-06-17T13:01:50.924473Z",
     "iopub.status.busy": "2022-06-17T13:01:50.923492Z",
     "iopub.status.idle": "2022-06-17T13:01:50.928498Z",
     "shell.execute_reply": "2022-06-17T13:01:50.927844Z"
    },
    "papermill": {
     "duration": 0.371283,
     "end_time": "2022-06-17T13:01:50.930476",
     "exception": false,
     "start_time": "2022-06-17T13:01:50.559193",
     "status": "completed"
    },
    "tags": []
   },
   "outputs": [],
   "source": [
    "# save_text_file('./mvsa-multiple-texts.txt', mvsa_multiple_texts_valid)\n",
    "# np.save('./mvsa-multiple-images.npy', mvsa_multiple_images_valid)\n",
    "# save_text_file('./mvsa-multiple-labels.txt', mvsa_multiple_multimodal_labels_valid)\n",
    "\n",
    "# mvsa_multiple_texts_loaded = read_text_file('./mvsa-multiple-texts.txt', multi_line=True)\n",
    "# mvsa_multiple_images_loaded = np.load('./mvsa-multiple-images.npy')\n",
    "# mvsa_multiple_multimodal_labels_loaded = read_text_file('./mvsa-multiple-labels.txt', multi_line=True)\n",
    "\n",
    "# print((mvsa_multiple_texts_valid == mvsa_multiple_texts_loaded).all())\n",
    "# print((mvsa_multiple_images_loaded == mvsa_multiple_images_valid).all())\n",
    "# print((mvsa_multiple_multimodal_labels_valid == mvsa_multiple_multimodal_labels_loaded).all())"
   ]
  },
  {
   "cell_type": "code",
   "execution_count": 31,
   "id": "5e0dec95",
   "metadata": {
    "execution": {
     "iopub.execute_input": "2022-06-17T13:01:51.526855Z",
     "iopub.status.busy": "2022-06-17T13:01:51.526433Z",
     "iopub.status.idle": "2022-06-17T13:01:51.530571Z",
     "shell.execute_reply": "2022-06-17T13:01:51.529641Z"
    },
    "papermill": {
     "duration": 0.305293,
     "end_time": "2022-06-17T13:01:51.532580",
     "exception": false,
     "start_time": "2022-06-17T13:01:51.227287",
     "status": "completed"
    },
    "tags": []
   },
   "outputs": [],
   "source": [
    "## OLD SAVE AND LOAD DATA WITH NPY FILE\n",
    "\n",
    "# save_text_file('./mvsa-single-texts.txt', mvsa_single_texts_valid)\n",
    "# np.save('./mvsa-single-images.npy', mvsa_single_images_valid)\n",
    "# save_text_file('./mvsa-single-labels.txt', mvsa_single_multimodal_labels_valid)\n",
    "\n",
    "# mvsa_single_texts_loaded = read_text_file('./mvsa-single-texts.txt', multi_line=True)\n",
    "# mvsa_single_images_loaded = np.load('./mvsa-single-images.npy')\n",
    "# mvsa_single_multimodal_labels_loaded = read_text_file('./mvsa-single-labels.txt', multi_line=True)"
   ]
  },
  {
   "cell_type": "code",
   "execution_count": 32,
   "id": "a9af8ed6",
   "metadata": {
    "execution": {
     "iopub.execute_input": "2022-06-17T13:01:52.138954Z",
     "iopub.status.busy": "2022-06-17T13:01:52.138217Z",
     "iopub.status.idle": "2022-06-17T13:01:52.142603Z",
     "shell.execute_reply": "2022-06-17T13:01:52.141969Z"
    },
    "papermill": {
     "duration": 0.310577,
     "end_time": "2022-06-17T13:01:52.144613",
     "exception": false,
     "start_time": "2022-06-17T13:01:51.834036",
     "status": "completed"
    },
    "tags": []
   },
   "outputs": [],
   "source": [
    "# mvsa_single_images_unique_indices = np.unique([image.flatten() for image in mvsa_single_images], return_index=True, return_counts=True)\n",
    "# mvsa_single_images_duplicated_indices = [i for i in range(mvsa_single_images.shape[0]) if i not in mvsa_single_images_unique_indices]\n",
    "\n",
    "## ---> doesn't work, only compare unique numbers not unique list"
   ]
  },
  {
   "cell_type": "code",
   "execution_count": 33,
   "id": "a44317a6",
   "metadata": {
    "execution": {
     "iopub.execute_input": "2022-06-17T13:01:52.749930Z",
     "iopub.status.busy": "2022-06-17T13:01:52.749507Z",
     "iopub.status.idle": "2022-06-17T13:01:52.753633Z",
     "shell.execute_reply": "2022-06-17T13:01:52.752649Z"
    },
    "papermill": {
     "duration": 0.310596,
     "end_time": "2022-06-17T13:01:52.755835",
     "exception": false,
     "start_time": "2022-06-17T13:01:52.445239",
     "status": "completed"
    },
    "tags": []
   },
   "outputs": [],
   "source": [
    "# if extracted_data.shape[0] == 0:\n",
    "#     extracted_data = np.concatenate(([extracted_data], [features]), 1)\n",
    "# else:\n",
    "#     extracted_data = np.concatenate((extracted_data, [features]), 0)"
   ]
  },
  {
   "cell_type": "code",
   "execution_count": 34,
   "id": "8ab9b943",
   "metadata": {
    "execution": {
     "iopub.execute_input": "2022-06-17T13:01:53.424484Z",
     "iopub.status.busy": "2022-06-17T13:01:53.424088Z",
     "iopub.status.idle": "2022-06-17T13:01:53.428360Z",
     "shell.execute_reply": "2022-06-17T13:01:53.427325Z"
    },
    "papermill": {
     "duration": 0.314655,
     "end_time": "2022-06-17T13:01:53.430750",
     "exception": false,
     "start_time": "2022-06-17T13:01:53.116095",
     "status": "completed"
    },
    "tags": []
   },
   "outputs": [],
   "source": [
    "# a = np.array([np.zeros((5, 5, 3))])\n",
    "# b = np.zeros((5, 5, 3))\n",
    "# c = np.concatenate((a, [b]))\n",
    "# d = np.concatenate((c, [b]))\n",
    "# d.shape"
   ]
  },
  {
   "cell_type": "code",
   "execution_count": 35,
   "id": "5defa316",
   "metadata": {
    "execution": {
     "iopub.execute_input": "2022-06-17T13:01:54.056745Z",
     "iopub.status.busy": "2022-06-17T13:01:54.056353Z",
     "iopub.status.idle": "2022-06-17T13:01:54.060242Z",
     "shell.execute_reply": "2022-06-17T13:01:54.059330Z"
    },
    "papermill": {
     "duration": 0.329679,
     "end_time": "2022-06-17T13:01:54.062422",
     "exception": false,
     "start_time": "2022-06-17T13:01:53.732743",
     "status": "completed"
    },
    "tags": []
   },
   "outputs": [],
   "source": [
    "# # mvsa_single_images.tofile('./mvsa-single-images.npy')\n",
    "# np.save('./mvsa-single-images.npy', mvsa_single_images)\n",
    "# mvsa_single_images_loaded = np.load('./mvsa-single-images.npy')\n",
    "# (mvsa_single_images_loaded == mvsa_single_images).all()"
   ]
  },
  {
   "cell_type": "code",
   "execution_count": 36,
   "id": "a7c3dec1",
   "metadata": {
    "execution": {
     "iopub.execute_input": "2022-06-17T13:01:54.715652Z",
     "iopub.status.busy": "2022-06-17T13:01:54.715253Z",
     "iopub.status.idle": "2022-06-17T13:01:54.719010Z",
     "shell.execute_reply": "2022-06-17T13:01:54.718155Z"
    },
    "papermill": {
     "duration": 0.307535,
     "end_time": "2022-06-17T13:01:54.720851",
     "exception": false,
     "start_time": "2022-06-17T13:01:54.413316",
     "status": "completed"
    },
    "tags": []
   },
   "outputs": [],
   "source": [
    "# a = read_labels_file(mvsa_single_label_path).iloc[:, 1:].values\n",
    "# for i in a:\n",
    "#     if i[0] == 'negative' and i[1] == 'positive':\n",
    "#         print('here')\n",
    "#     elif i[0] == 'positive' and i[1] == 'negative':\n",
    "#         print('hereee')"
   ]
  },
  {
   "cell_type": "code",
   "execution_count": 37,
   "id": "6d538675",
   "metadata": {
    "execution": {
     "iopub.execute_input": "2022-06-17T13:01:55.382927Z",
     "iopub.status.busy": "2022-06-17T13:01:55.382443Z",
     "iopub.status.idle": "2022-06-17T13:01:55.386906Z",
     "shell.execute_reply": "2022-06-17T13:01:55.385909Z"
    },
    "papermill": {
     "duration": 0.366792,
     "end_time": "2022-06-17T13:01:55.389041",
     "exception": false,
     "start_time": "2022-06-17T13:01:55.022249",
     "status": "completed"
    },
    "tags": []
   },
   "outputs": [],
   "source": [
    "# label_mappings = create_labels(mvsa_single_label_path, mappings=True)\n",
    "\n",
    "# image_dataset = make_dataset([os.path.join(mvsa_single_label_path, str(ID) + '.jpg') for ID in label_mappings.keys()],\n",
    "#                              list(label_mappings.values()))"
   ]
  },
  {
   "cell_type": "code",
   "execution_count": 38,
   "id": "73e4f0e6",
   "metadata": {
    "execution": {
     "iopub.execute_input": "2022-06-17T13:01:55.988172Z",
     "iopub.status.busy": "2022-06-17T13:01:55.987675Z",
     "iopub.status.idle": "2022-06-17T13:01:55.991665Z",
     "shell.execute_reply": "2022-06-17T13:01:55.990785Z"
    },
    "papermill": {
     "duration": 0.306754,
     "end_time": "2022-06-17T13:01:55.993634",
     "exception": false,
     "start_time": "2022-06-17T13:01:55.686880",
     "status": "completed"
    },
    "tags": []
   },
   "outputs": [],
   "source": [
    "# a = get_image_with_id(os.path.join(mvsa_single_data_path, '1.jpg'))\n",
    "# tf.keras.utils.array_to_img(a[1])"
   ]
  },
  {
   "cell_type": "code",
   "execution_count": 39,
   "id": "d11cad01",
   "metadata": {
    "execution": {
     "iopub.execute_input": "2022-06-17T13:01:56.596062Z",
     "iopub.status.busy": "2022-06-17T13:01:56.595428Z",
     "iopub.status.idle": "2022-06-17T13:01:56.599190Z",
     "shell.execute_reply": "2022-06-17T13:01:56.598562Z"
    },
    "papermill": {
     "duration": 0.305537,
     "end_time": "2022-06-17T13:01:56.600969",
     "exception": false,
     "start_time": "2022-06-17T13:01:56.295432",
     "status": "completed"
    },
    "tags": []
   },
   "outputs": [],
   "source": [
    "# label_mappings = create_labels(mvsa_single_label_path, mappings=True)\n",
    "\n",
    "# image_dataset = make_dataset([os.path.join(mvsa_single_label_path, str(ID) + '.jpg') for ID in label_mappings.keys()],\n",
    "#                              list(label_mappings.values()))"
   ]
  },
  {
   "cell_type": "code",
   "execution_count": 40,
   "id": "a1efa80b",
   "metadata": {
    "execution": {
     "iopub.execute_input": "2022-06-17T13:01:57.264849Z",
     "iopub.status.busy": "2022-06-17T13:01:57.264431Z",
     "iopub.status.idle": "2022-06-17T13:01:57.268729Z",
     "shell.execute_reply": "2022-06-17T13:01:57.267777Z"
    },
    "papermill": {
     "duration": 0.30945,
     "end_time": "2022-06-17T13:01:57.270764",
     "exception": false,
     "start_time": "2022-06-17T13:01:56.961314",
     "status": "completed"
    },
    "tags": []
   },
   "outputs": [],
   "source": [
    "# a = os.listdir(mvsa_single_data_path)\n",
    "# a.sort(key = lambda x: int(x.split('.')[0]))\n",
    "# list(filter(lambda x: x.endswith('.jpg'), a))\n",
    "# a = [os.path.join(mvsa_single_data_path, i) for i in a]\n",
    "# a"
   ]
  },
  {
   "cell_type": "code",
   "execution_count": 41,
   "id": "211bfe74",
   "metadata": {
    "execution": {
     "iopub.execute_input": "2022-06-17T13:01:57.878100Z",
     "iopub.status.busy": "2022-06-17T13:01:57.877405Z",
     "iopub.status.idle": "2022-06-17T13:01:57.881536Z",
     "shell.execute_reply": "2022-06-17T13:01:57.880701Z"
    },
    "papermill": {
     "duration": 0.311132,
     "end_time": "2022-06-17T13:01:57.883655",
     "exception": false,
     "start_time": "2022-06-17T13:01:57.572523",
     "status": "completed"
    },
    "tags": []
   },
   "outputs": [],
   "source": [
    "# # a = create_labels(mvsa_multiple_label_path, multiple=True, mappings=True)\n",
    "# def process_image(path, label):\n",
    "# #     filename = os.path.split(path)[1]\n",
    "# #     ID = int(filename.split('.')[0])\n",
    "# #     return read_image_file(path), label_map[ID]\n",
    "#     return read_image_file(path), label\n",
    "\n",
    "# def make_dataset(images, labels):\n",
    "#     dataset = tf.data.Dataset.from_tensor_slices((images, labels))\n",
    "# #     dataset = dataset.shuffle(len(images))\n",
    "#     dataset = dataset.map(process_image)#, num_parallel_calls=AUTOTUNE)\n",
    "# #     dataset = dataset.batch(100).prefetch(tf.data.AUTOTUNE)\n",
    "#     return dataset"
   ]
  },
  {
   "cell_type": "code",
   "execution_count": 42,
   "id": "cc3b952f",
   "metadata": {
    "execution": {
     "iopub.execute_input": "2022-06-17T13:01:58.600044Z",
     "iopub.status.busy": "2022-06-17T13:01:58.599319Z",
     "iopub.status.idle": "2022-06-17T13:01:58.603420Z",
     "shell.execute_reply": "2022-06-17T13:01:58.602715Z"
    },
    "papermill": {
     "duration": 0.380735,
     "end_time": "2022-06-17T13:01:58.605366",
     "exception": false,
     "start_time": "2022-06-17T13:01:58.224631",
     "status": "completed"
    },
    "tags": []
   },
   "outputs": [],
   "source": [
    "# IMAGE_SIZE = (224, 224)\n",
    "# def read_image_file(path):\n",
    "#     image = cv2.imread(path, cv2.COLOR_BGR2RGB)\n",
    "# #     image = np.array(image)#.astype('float32')\n",
    "# #     image = cv2.resize(image, IMAGE_SIZE, interpolation = cv2.INTER_AREA)\n",
    "# #     image /= 255\n",
    "# #     print(image.shape)\n",
    "# #     ax = plt.subplot(1,2,1)\n",
    "# #     plt.imshow(image)\n",
    "# #     image = cv2.resize(image, IMAGE_SIZE, interpolation = cv2.INTER_AREA)\n",
    "# #     ax = plt.subplot(1,2,2)\n",
    "# #     plt.imshow(image)\n",
    "# #     print(image.shape)\n",
    "#     return image\n",
    "# read_image_file('../input/mvsasingle/MVSA_Single/data/10.jpg')      "
   ]
  },
  {
   "cell_type": "code",
   "execution_count": 43,
   "id": "216467f5",
   "metadata": {
    "execution": {
     "iopub.execute_input": "2022-06-17T13:01:59.315582Z",
     "iopub.status.busy": "2022-06-17T13:01:59.314475Z",
     "iopub.status.idle": "2022-06-17T13:01:59.319562Z",
     "shell.execute_reply": "2022-06-17T13:01:59.318890Z"
    },
    "papermill": {
     "duration": 0.366809,
     "end_time": "2022-06-17T13:01:59.321480",
     "exception": false,
     "start_time": "2022-06-17T13:01:58.954671",
     "status": "completed"
    },
    "tags": []
   },
   "outputs": [],
   "source": [
    "# def read_text_file(path, multi_line=False):\n",
    "# #     with open(path, 'r', encoding='latin-1') as f:\n",
    "# #         if multi_line == True:\n",
    "# #             lines = f.readlines()\n",
    "# #             lines = [line.rstrip('\\n') for line in lines]\n",
    "# #             return lines\n",
    "# #         return f.read()\n",
    "    \n",
    "#     if multi_line == True:\n",
    "#         lines = open(path, 'r', encoding='latin-1').readlines()\n",
    "#         lines = [line.rstrip('\\n') for line in lines]\n",
    "#         return lines\n",
    "#     return open(path, 'r', encoding='latin-1').read()\n",
    "\n",
    "# def read_image_file(path):\n",
    "#     try:\n",
    "#         image = cv2.imread(path, cv2.COLOR_BGR2RGB)\n",
    "#         image = cv2.resize(image, IMAGE_SIZE, interpolation = cv2.INTER_AREA)\n",
    "#     except:\n",
    "#         image = np.zeros((IMAGE_SIZE[0], IMAGE_SIZE[1], NUM_CHANNELS))\n",
    "#         ID = os.path.split(path)[1].split('.')[0]\n",
    "#         invalid_indices.append(ID)\n",
    "# #     image = tf.io.read_file(path)\n",
    "# #     image = tf.image.decode_jpeg(image, channels=NUM_CHANNELS)\n",
    "# #     image = tf.image.resize(image, IMAGE_SIZE)\n",
    "#     return image\n",
    "\n",
    "# def read_labels_file(path):\n",
    "#     dataframe = pd.read_csv(path, sep=\"\\s+|,\", engine=\"python\")\n",
    "#     return dataframe"
   ]
  },
  {
   "cell_type": "code",
   "execution_count": 44,
   "id": "3b83f5e6",
   "metadata": {
    "execution": {
     "iopub.execute_input": "2022-06-17T13:01:59.924237Z",
     "iopub.status.busy": "2022-06-17T13:01:59.923515Z",
     "iopub.status.idle": "2022-06-17T13:01:59.929883Z",
     "shell.execute_reply": "2022-06-17T13:01:59.929078Z"
    },
    "papermill": {
     "duration": 0.312052,
     "end_time": "2022-06-17T13:01:59.932309",
     "exception": false,
     "start_time": "2022-06-17T13:01:59.620257",
     "status": "completed"
    },
    "tags": []
   },
   "outputs": [],
   "source": [
    "# def create_labels(path, multiple=False, mappings=False):\n",
    "#     dataframe = read_labels_file(path)\n",
    "    \n",
    "#     if multiple == True:\n",
    "#         dataframe = merge_multi_label(dataframe)\n",
    "        \n",
    "#     labels = []\n",
    "#     for _, row in dataframe.iterrows():\n",
    "#         label = multimodal_label(row['text'], row['image'])\n",
    "#         labels.append(label)\n",
    "        \n",
    "#     if mappings == True:\n",
    "#         label_map = {}\n",
    "#         for i in range(len(labels)):\n",
    "#             ID = dataframe.iloc[i, 0]\n",
    "#             label_map[ID] = labels[i]            \n",
    "#         return label_map\n",
    "#     return np.array(labels, dtype='object')\n",
    "\n",
    "# def create_text_data(path):\n",
    "#     texts = []\n",
    "    \n",
    "#     print('Read text data')\n",
    "#     # read data along with its filename as ID\n",
    "#     for filename in tqdm(os.listdir(path)):\n",
    "#         ID = int(filename.split('.')[0])\n",
    "#         file_path = os.path.join(path, filename)\n",
    "#         if filename.endswith('txt'):\n",
    "#             text = read_text_file(file_path)\n",
    "#             texts.append((ID, text))\n",
    "\n",
    "#     # Sort data by its ID\n",
    "#     get_ID = lambda x : x[0]\n",
    "#     texts.sort(key=get_ID)\n",
    "    \n",
    "#     # return data without ID\n",
    "#     texts = np.array([text[1].rstrip('\\n') for text in texts])\n",
    "\n",
    "#     return texts\n",
    "\n",
    "# def create_image_data(path):\n",
    "#     images = []\n",
    "     \n",
    "#     image_paths = os.listdir(path)\n",
    "#     image_paths.sort(key = lambda x : int(x.split('.')[0]))\n",
    "#     image_paths = list(filter(lambda x: x.endswith('.jpg'), image_paths))\n",
    "#     image_paths = [os.path.join(path, x) for x in image_paths]\n",
    "# #     print(image_path)\n",
    "    \n",
    "#     print('Read image data')\n",
    "#     # read data along with its filename as ID\n",
    "#     for image_path in tqdm(image_paths):\n",
    "# #         ID = int(filename.split('.')[0])\n",
    "# #         file_path = os.path.join(path, filename)\n",
    "# #         gc.collect()\n",
    "# #         if filename.endswith('jpg'):\n",
    "# #         image_with_id = get_image_with_id(image_path)\n",
    "# #         images.append(image_with_id)\n",
    "#         image = read_image_file(image_path)\n",
    "#         images.append(image)\n",
    "# #         del image\n",
    "# #         gc.collect()\n",
    "        \n",
    "    \n",
    "# #     # Sort data by its ID\n",
    "# #     get_ID = lambda x : x[0]\n",
    "# #     images.sort(key=get_ID)\n",
    "    \n",
    "#     # return data without ID\n",
    "# #     images = np.array([image[1] for image in images], dtype='object')\n",
    "\n",
    "#     return images\n",
    "\n",
    "# def get_image_with_id(path):\n",
    "#     filename = os.path.split(path)[1]\n",
    "#     ID = int(filename.split('.')[0])\n",
    "#     image = read_image_file(path)\n",
    "#     return (ID, image)"
   ]
  }
 ],
 "metadata": {
  "kernelspec": {
   "display_name": "Python 3",
   "language": "python",
   "name": "python3"
  },
  "language_info": {
   "codemirror_mode": {
    "name": "ipython",
    "version": 3
   },
   "file_extension": ".py",
   "mimetype": "text/x-python",
   "name": "python",
   "nbconvert_exporter": "python",
   "pygments_lexer": "ipython3",
   "version": "3.7.12"
  },
  "papermill": {
   "default_parameters": {},
   "duration": 837.420767,
   "end_time": "2022-06-17T13:02:03.779275",
   "environment_variables": {},
   "exception": null,
   "input_path": "__notebook__.ipynb",
   "output_path": "__notebook__.ipynb",
   "parameters": {},
   "start_time": "2022-06-17T12:48:06.358508",
   "version": "2.3.4"
  }
 },
 "nbformat": 4,
 "nbformat_minor": 5
}
