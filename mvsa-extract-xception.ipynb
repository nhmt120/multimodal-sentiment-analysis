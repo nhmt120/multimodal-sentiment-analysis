{
 "cells": [
  {
   "cell_type": "code",
   "execution_count": 1,
   "id": "2fc8dbed",
   "metadata": {
    "_cell_guid": "b1076dfc-b9ad-4769-8c92-a6c4dae69d19",
    "_uuid": "8f2839f25d086af736a60e9eeb907d3b93b6e0e5",
    "execution": {
     "iopub.execute_input": "2022-07-03T18:36:53.366692Z",
     "iopub.status.busy": "2022-07-03T18:36:53.366202Z",
     "iopub.status.idle": "2022-07-03T18:37:06.849389Z",
     "shell.execute_reply": "2022-07-03T18:37:06.848425Z"
    },
    "papermill": {
     "duration": 13.492806,
     "end_time": "2022-07-03T18:37:06.852057",
     "exception": false,
     "start_time": "2022-07-03T18:36:53.359251",
     "status": "completed"
    },
    "tags": []
   },
   "outputs": [],
   "source": [
    "import os\n",
    "import re\n",
    "import gc\n",
    "import cv2\n",
    "import h5py\n",
    "import torch\n",
    "import string\n",
    "import random\n",
    "import numpy as np\n",
    "import tensorflow as tf\n",
    "\n",
    "from tqdm import tqdm\n",
    "from nltk import tokenize\n",
    "from sklearn import preprocessing\n",
    "\n",
    "from keras.preprocessing.text import Tokenizer, text_to_word_sequence\n",
    "from keras.preprocessing.sequence import pad_sequences\n",
    "from keras.utils.np_utils import to_categorical\n",
    "from keras.layers import Rescaling, Resizing\n",
    "from keras import Input\n",
    "from keras.applications.vgg16 import VGG16\n",
    "from keras.applications.vgg19 import VGG19\n",
    "from keras.applications.xception import Xception\n",
    "\n",
    "from transformers import BertTokenizer, BertForMaskedLM, BertModel\n",
    "from tensorflow.keras import Model"
   ]
  },
  {
   "cell_type": "code",
   "execution_count": 2,
   "id": "ddc16836",
   "metadata": {
    "execution": {
     "iopub.execute_input": "2022-07-03T18:37:06.863024Z",
     "iopub.status.busy": "2022-07-03T18:37:06.862336Z",
     "iopub.status.idle": "2022-07-03T18:37:06.867219Z",
     "shell.execute_reply": "2022-07-03T18:37:06.866091Z"
    },
    "papermill": {
     "duration": 0.012751,
     "end_time": "2022-07-03T18:37:06.869351",
     "exception": false,
     "start_time": "2022-07-03T18:37:06.856600",
     "status": "completed"
    },
    "tags": []
   },
   "outputs": [],
   "source": [
    "IMAGE_SIZE = (224, 224)\n",
    "NUM_CHANNELS = 3"
   ]
  },
  {
   "cell_type": "code",
   "execution_count": 3,
   "id": "612aa94d",
   "metadata": {
    "execution": {
     "iopub.execute_input": "2022-07-03T18:37:06.879933Z",
     "iopub.status.busy": "2022-07-03T18:37:06.879084Z",
     "iopub.status.idle": "2022-07-03T18:37:06.883468Z",
     "shell.execute_reply": "2022-07-03T18:37:06.882675Z"
    },
    "papermill": {
     "duration": 0.011789,
     "end_time": "2022-07-03T18:37:06.885380",
     "exception": false,
     "start_time": "2022-07-03T18:37:06.873591",
     "status": "completed"
    },
    "tags": []
   },
   "outputs": [],
   "source": [
    "mvsa_single_path = '../input/mvsa-data/mvsa-single-4511.hdf5'\n",
    "mvsa_multiple_path = '../input/mvsa-data/mvsa-multiple-17024.hdf5'"
   ]
  },
  {
   "cell_type": "code",
   "execution_count": 4,
   "id": "378583d8",
   "metadata": {
    "execution": {
     "iopub.execute_input": "2022-07-03T18:37:06.896279Z",
     "iopub.status.busy": "2022-07-03T18:37:06.895386Z",
     "iopub.status.idle": "2022-07-03T18:37:06.902121Z",
     "shell.execute_reply": "2022-07-03T18:37:06.901415Z"
    },
    "papermill": {
     "duration": 0.014234,
     "end_time": "2022-07-03T18:37:06.904113",
     "exception": false,
     "start_time": "2022-07-03T18:37:06.889879",
     "status": "completed"
    },
    "tags": []
   },
   "outputs": [],
   "source": [
    "def read_hdf5(path):\n",
    "    read_file = h5py.File(path, 'r')\n",
    "    \n",
    "    feature_names = list(read_file.keys())\n",
    "    loaded_data = []\n",
    "    \n",
    "    for name in feature_names:\n",
    "        dataset = read_file[name][:]\n",
    "        if dataset.dtype == np.dtype('object'):\n",
    "            dataset = np.array([x.decode('UTF-8') for x in dataset])            \n",
    "        loaded_data.append((name, dataset))\n",
    "\n",
    "    return loaded_data"
   ]
  },
  {
   "cell_type": "code",
   "execution_count": 5,
   "id": "3cd26db8",
   "metadata": {
    "execution": {
     "iopub.execute_input": "2022-07-03T18:37:06.914558Z",
     "iopub.status.busy": "2022-07-03T18:37:06.913878Z",
     "iopub.status.idle": "2022-07-03T18:37:06.922365Z",
     "shell.execute_reply": "2022-07-03T18:37:06.921353Z"
    },
    "papermill": {
     "duration": 0.016318,
     "end_time": "2022-07-03T18:37:06.924666",
     "exception": false,
     "start_time": "2022-07-03T18:37:06.908348",
     "status": "completed"
    },
    "tags": []
   },
   "outputs": [],
   "source": [
    "def load_mvsa_data(path, multiple=False):\n",
    "    data = read_hdf5(path)\n",
    "    for x in data:\n",
    "        if x[0] == 'texts':\n",
    "            texts = x[1]\n",
    "        if x[0] == 'multimodal-labels':\n",
    "            labels = x[1]\n",
    "        if x[0] == 'text-labels':\n",
    "            text_labels = x[1]\n",
    "        if x[0] == 'image-labels':\n",
    "            image_labels = x[1]\n",
    "            \n",
    "    images_path = os.path.join(os.path.split(path)[0], os.path.split(path)[1].split('.')[0] + '-images.npz')\n",
    "    images = loadz(images_path)\n",
    "        \n",
    "    return texts, images, labels, text_labels, image_labels\n",
    "\n",
    "def loadz(path):\n",
    "    data = np.load(path)['arr_0']\n",
    "    return data"
   ]
  },
  {
   "cell_type": "markdown",
   "id": "fdcc1205",
   "metadata": {
    "papermill": {
     "duration": 0.00415,
     "end_time": "2022-07-03T18:37:06.933058",
     "exception": false,
     "start_time": "2022-07-03T18:37:06.928908",
     "status": "completed"
    },
    "tags": []
   },
   "source": [
    "# Load raw data"
   ]
  },
  {
   "cell_type": "code",
   "execution_count": 6,
   "id": "6f2393c3",
   "metadata": {
    "execution": {
     "iopub.execute_input": "2022-07-03T18:37:06.943272Z",
     "iopub.status.busy": "2022-07-03T18:37:06.942884Z",
     "iopub.status.idle": "2022-07-03T18:37:32.858650Z",
     "shell.execute_reply": "2022-07-03T18:37:32.857446Z"
    },
    "papermill": {
     "duration": 25.923956,
     "end_time": "2022-07-03T18:37:32.861326",
     "exception": false,
     "start_time": "2022-07-03T18:37:06.937370",
     "status": "completed"
    },
    "tags": []
   },
   "outputs": [],
   "source": [
    "mvsa_single_texts, mvsa_single_images, \\\n",
    "mvsa_single_multimodal_labels, mvsa_single_text_labels, \\\n",
    "mvsa_single_image_labels = load_mvsa_data(mvsa_single_path)\n",
    "num_mvsa_single = len(mvsa_single_texts)\n",
    "\n",
    "mvsa_multiple_texts, mvsa_multiple_images, \\\n",
    "mvsa_multiple_multimodal_labels, mvsa_multiple_text_labels, \\\n",
    "mvsa_multiple_image_labels = load_mvsa_data(mvsa_multiple_path)\n",
    "num_mvsa_multiple = len(mvsa_multiple_texts)"
   ]
  },
  {
   "cell_type": "markdown",
   "id": "5ccdf2dc",
   "metadata": {
    "papermill": {
     "duration": 0.004192,
     "end_time": "2022-07-03T18:37:32.869972",
     "exception": false,
     "start_time": "2022-07-03T18:37:32.865780",
     "status": "completed"
    },
    "tags": []
   },
   "source": [
    "# Xception"
   ]
  },
  {
   "cell_type": "code",
   "execution_count": 7,
   "id": "69db3f77",
   "metadata": {
    "execution": {
     "iopub.execute_input": "2022-07-03T18:37:32.880621Z",
     "iopub.status.busy": "2022-07-03T18:37:32.880223Z",
     "iopub.status.idle": "2022-07-03T18:37:32.885003Z",
     "shell.execute_reply": "2022-07-03T18:37:32.883831Z"
    },
    "papermill": {
     "duration": 0.013057,
     "end_time": "2022-07-03T18:37:32.887226",
     "exception": false,
     "start_time": "2022-07-03T18:37:32.874169",
     "status": "completed"
    },
    "tags": []
   },
   "outputs": [],
   "source": [
    "IMAGE_SIZE_XCEPTION = (299, 299) # required by Xception if no include_tops=False"
   ]
  },
  {
   "cell_type": "code",
   "execution_count": 8,
   "id": "11a0f01c",
   "metadata": {
    "execution": {
     "iopub.execute_input": "2022-07-03T18:37:32.898033Z",
     "iopub.status.busy": "2022-07-03T18:37:32.897293Z",
     "iopub.status.idle": "2022-07-03T18:37:35.231387Z",
     "shell.execute_reply": "2022-07-03T18:37:35.230390Z"
    },
    "papermill": {
     "duration": 2.342556,
     "end_time": "2022-07-03T18:37:35.233989",
     "exception": false,
     "start_time": "2022-07-03T18:37:32.891433",
     "status": "completed"
    },
    "tags": []
   },
   "outputs": [
    {
     "name": "stderr",
     "output_type": "stream",
     "text": [
      "2022-07-03 18:37:32.952239: I tensorflow/core/common_runtime/process_util.cc:146] Creating new thread pool with default inter op setting: 2. Tune using inter_op_parallelism_threads for best performance.\n"
     ]
    },
    {
     "name": "stdout",
     "output_type": "stream",
     "text": [
      "Downloading data from https://storage.googleapis.com/tensorflow/keras-applications/xception/xception_weights_tf_dim_ordering_tf_kernels.h5\n",
      "91889664/91884032 [==============================] - 1s 0us/step\n",
      "91897856/91884032 [==============================] - 1s 0us/step\n"
     ]
    }
   ],
   "source": [
    "xception = Xception(input_shape=(IMAGE_SIZE_XCEPTION[0], IMAGE_SIZE_XCEPTION[1], NUM_CHANNELS))\n",
    "xception.trainable = False # Freeze pre-trained layers\n",
    "xception_last = Model(inputs=xception.input, outputs=xception.layers[-2].output) # output of last hidden layer"
   ]
  },
  {
   "cell_type": "code",
   "execution_count": 9,
   "id": "98dd8690",
   "metadata": {
    "execution": {
     "iopub.execute_input": "2022-07-03T18:37:35.246828Z",
     "iopub.status.busy": "2022-07-03T18:37:35.246418Z",
     "iopub.status.idle": "2022-07-03T18:37:35.610779Z",
     "shell.execute_reply": "2022-07-03T18:37:35.609182Z"
    },
    "papermill": {
     "duration": 0.374216,
     "end_time": "2022-07-03T18:37:35.613604",
     "exception": false,
     "start_time": "2022-07-03T18:37:35.239388",
     "status": "completed"
    },
    "tags": []
   },
   "outputs": [
    {
     "name": "stdout",
     "output_type": "stream",
     "text": [
      "Model: \"model_1\"\n",
      "_________________________________________________________________\n",
      "Layer (type)                 Output Shape              Param #   \n",
      "=================================================================\n",
      "input_2 (InputLayer)         [(None, 224, 224, 3)]     0         \n",
      "_________________________________________________________________\n",
      "resizing (Resizing)          (None, 299, 299, 3)       0         \n",
      "_________________________________________________________________\n",
      "rescaling (Rescaling)        (None, 299, 299, 3)       0         \n",
      "_________________________________________________________________\n",
      "model (Functional)           (None, 2048)              20861480  \n",
      "=================================================================\n",
      "Total params: 20,861,480\n",
      "Trainable params: 0\n",
      "Non-trainable params: 20,861,480\n",
      "_________________________________________________________________\n"
     ]
    }
   ],
   "source": [
    "# Summary of VGG-19 is hidden\n",
    "image_inputs = Input(shape=(IMAGE_SIZE[0], IMAGE_SIZE[1], NUM_CHANNELS))\n",
    "resize_layer = Resizing(IMAGE_SIZE_XCEPTION[0], IMAGE_SIZE_XCEPTION[1]) (image_inputs)\n",
    "rescale_layer = Rescaling(scale=1./255.) (resize_layer)  # Rescale inputs\n",
    "outputs = xception_last (rescale_layer)\n",
    "model_xception = Model(inputs=image_inputs, outputs=outputs)\n",
    "model_xception.summary()"
   ]
  },
  {
   "cell_type": "code",
   "execution_count": 10,
   "id": "8853c8c7",
   "metadata": {
    "execution": {
     "iopub.execute_input": "2022-07-03T18:37:35.627588Z",
     "iopub.status.busy": "2022-07-03T18:37:35.626759Z",
     "iopub.status.idle": "2022-07-03T18:48:07.565834Z",
     "shell.execute_reply": "2022-07-03T18:48:07.563597Z"
    },
    "papermill": {
     "duration": 631.950268,
     "end_time": "2022-07-03T18:48:07.569348",
     "exception": false,
     "start_time": "2022-07-03T18:37:35.619080",
     "status": "completed"
    },
    "tags": []
   },
   "outputs": [
    {
     "name": "stdout",
     "output_type": "stream",
     "text": [
      "MVSA-Single: Extracting Xception features of images\n"
     ]
    },
    {
     "name": "stderr",
     "output_type": "stream",
     "text": [
      "2022-07-03 18:37:36.353170: I tensorflow/compiler/mlir/mlir_graph_optimization_pass.cc:185] None of the MLIR Optimization Passes are enabled (registered 2)\n"
     ]
    },
    {
     "name": "stdout",
     "output_type": "stream",
     "text": [
      "141/141 [==============================] - 631s 4s/step\n",
      "Xception last hidden layer dimension: 2048\n",
      "MVSA-Single with Xception last hidden layer: (4511, 2048)\n",
      "True\n"
     ]
    }
   ],
   "source": [
    "print('MVSA-Single: Extracting Xception features of images')\n",
    "mvsa_single_xception = model_xception.predict(mvsa_single_images, verbose=1)\n",
    "print('Xception last hidden layer dimension:', mvsa_single_xception.shape[1])\n",
    "print('MVSA-Single with Xception last hidden layer:', mvsa_single_xception.shape)\n",
    "\n",
    "# save and load check\n",
    "np.savez('./mvsa-single-xception', mvsa_single_xception)\n",
    "x = loadz('./mvsa-single-xception.npz')\n",
    "print((x == mvsa_single_xception).all())"
   ]
  },
  {
   "cell_type": "code",
   "execution_count": 11,
   "id": "f0a7aae0",
   "metadata": {
    "execution": {
     "iopub.execute_input": "2022-07-03T18:48:07.605166Z",
     "iopub.status.busy": "2022-07-03T18:48:07.604357Z",
     "iopub.status.idle": "2022-07-03T19:28:34.805571Z",
     "shell.execute_reply": "2022-07-03T19:28:34.804001Z"
    },
    "papermill": {
     "duration": 2427.222314,
     "end_time": "2022-07-03T19:28:34.807904",
     "exception": false,
     "start_time": "2022-07-03T18:48:07.585590",
     "status": "completed"
    },
    "tags": []
   },
   "outputs": [
    {
     "name": "stdout",
     "output_type": "stream",
     "text": [
      "MVSA-Multiple: Extracting Xception features of images\n",
      "532/532 [==============================] - 2416s 5s/step\n",
      "Xception last hidden layer dimension: 2048\n",
      "MVSA-Multiple with Xception last hidden layer: (17024, 2048)\n",
      "True\n"
     ]
    }
   ],
   "source": [
    "print('MVSA-Multiple: Extracting Xception features of images')\n",
    "mvsa_multiple_xception = model_xception.predict(mvsa_multiple_images, verbose=1)\n",
    "print('Xception last hidden layer dimension:', mvsa_multiple_xception.shape[1])\n",
    "print('MVSA-Multiple with Xception last hidden layer:', mvsa_multiple_xception.shape)\n",
    "\n",
    "# save and load check\n",
    "np.savez('./mvsa-multiple-xception', mvsa_multiple_xception)\n",
    "x = loadz('./mvsa-multiple-xception.npz')\n",
    "print((x == mvsa_multiple_xception).all())"
   ]
  }
 ],
 "metadata": {
  "kernelspec": {
   "display_name": "Python 3",
   "language": "python",
   "name": "python3"
  },
  "language_info": {
   "codemirror_mode": {
    "name": "ipython",
    "version": 3
   },
   "file_extension": ".py",
   "mimetype": "text/x-python",
   "name": "python",
   "nbconvert_exporter": "python",
   "pygments_lexer": "ipython3",
   "version": "3.7.12"
  },
  "papermill": {
   "default_parameters": {},
   "duration": 3115.366178,
   "end_time": "2022-07-03T19:28:38.954880",
   "environment_variables": {},
   "exception": null,
   "input_path": "__notebook__.ipynb",
   "output_path": "__notebook__.ipynb",
   "parameters": {},
   "start_time": "2022-07-03T18:36:43.588702",
   "version": "2.3.4"
  }
 },
 "nbformat": 4,
 "nbformat_minor": 5
}
