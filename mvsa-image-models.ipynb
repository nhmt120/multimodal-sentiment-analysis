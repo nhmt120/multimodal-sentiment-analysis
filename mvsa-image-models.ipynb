{
 "cells": [
  {
   "cell_type": "code",
   "execution_count": 1,
   "id": "61c4137e",
   "metadata": {
    "_cell_guid": "b1076dfc-b9ad-4769-8c92-a6c4dae69d19",
    "_uuid": "8f2839f25d086af736a60e9eeb907d3b93b6e0e5",
    "execution": {
     "iopub.execute_input": "2022-07-01T07:17:30.861163Z",
     "iopub.status.busy": "2022-07-01T07:17:30.860395Z",
     "iopub.status.idle": "2022-07-01T07:17:44.669563Z",
     "shell.execute_reply": "2022-07-01T07:17:44.668186Z"
    },
    "papermill": {
     "duration": 13.830997,
     "end_time": "2022-07-01T07:17:44.672918",
     "exception": false,
     "start_time": "2022-07-01T07:17:30.841921",
     "status": "completed"
    },
    "tags": []
   },
   "outputs": [],
   "source": [
    "SEED = 61\n",
    "\n",
    "\n",
    "import os\n",
    "import re\n",
    "import gc\n",
    "import h5py\n",
    "import torch\n",
    "import numpy as np\n",
    "import pandas as pd\n",
    "import tensorflow as tf\n",
    "import random as python_random\n",
    "import matplotlib.pyplot as plt\n",
    "import tensorflow_addons as tfa\n",
    "\n",
    "from tqdm import tqdm\n",
    "from nltk import tokenize\n",
    "\n",
    "from sklearn import preprocessing\n",
    "from sklearn.decomposition import PCA\n",
    "\n",
    "from keras import backend as K\n",
    "from keras import initializers,regularizers,constraints\n",
    "from keras.preprocessing.text import Tokenizer, text_to_word_sequence\n",
    "from keras.preprocessing.sequence import pad_sequences\n",
    "from keras.utils.np_utils import to_categorical\n",
    "from keras.layers import Reshape, Input, Embedding, Flatten, Dense, Dropout, BatchNormalization, Activation #, merge\n",
    "from keras.layers import TimeDistributed, LSTM, GRU, Bidirectional, Convolution1D, MaxPooling1D, MaxPooling2D\n",
    "from keras.layers.core import RepeatVector, Reshape\n",
    "from keras.callbacks import ModelCheckpoint, EarlyStopping, ReduceLROnPlateau\n",
    "from keras.models import Sequential, Model, load_model\n",
    "from sklearn.model_selection import cross_val_score\n",
    "\n",
    "def reset_seeds():\n",
    "    np.random.seed(SEED) \n",
    "    python_random.seed(SEED)\n",
    "    tf.random.set_seed(SEED)\n",
    "    os.environ[\"PYTHONHASHSEED\"] = str(SEED)\n",
    "\n",
    "# from tensorflow.python.keras.layers import Layer, InputSpec, Lambda\n",
    "# from tensorflow.keras import Model\n",
    "# from attention import Attention_input1, Attention_input2\n",
    "# from keras.optimizers import SGD, RMSprop, Adagrad"
   ]
  },
  {
   "cell_type": "code",
   "execution_count": 2,
   "id": "b37653f9",
   "metadata": {
    "execution": {
     "iopub.execute_input": "2022-07-01T07:17:44.693577Z",
     "iopub.status.busy": "2022-07-01T07:17:44.692872Z",
     "iopub.status.idle": "2022-07-01T07:17:44.701263Z",
     "shell.execute_reply": "2022-07-01T07:17:44.700415Z"
    },
    "papermill": {
     "duration": 0.021061,
     "end_time": "2022-07-01T07:17:44.703270",
     "exception": false,
     "start_time": "2022-07-01T07:17:44.682209",
     "status": "completed"
    },
    "tags": []
   },
   "outputs": [],
   "source": [
    "def read_hdf5(path):\n",
    "    read_file = h5py.File(path, 'r')\n",
    "    \n",
    "    feature_names = list(read_file.keys())\n",
    "    loaded_data = []\n",
    "    \n",
    "    for name in feature_names:\n",
    "        dataset = read_file[name][:]\n",
    "        if dataset.dtype == np.dtype('object'):\n",
    "            dataset = np.array([x.decode('UTF-8') for x in dataset])            \n",
    "        loaded_data.append((name, dataset))\n",
    "\n",
    "    return loaded_data\n",
    "\n",
    "def loadz(path):\n",
    "    data = np.load(path)['arr_0']\n",
    "    return data"
   ]
  },
  {
   "cell_type": "code",
   "execution_count": 3,
   "id": "fcd4b117",
   "metadata": {
    "execution": {
     "iopub.execute_input": "2022-07-01T07:17:44.723639Z",
     "iopub.status.busy": "2022-07-01T07:17:44.722439Z",
     "iopub.status.idle": "2022-07-01T07:17:44.732828Z",
     "shell.execute_reply": "2022-07-01T07:17:44.731537Z"
    },
    "papermill": {
     "duration": 0.023287,
     "end_time": "2022-07-01T07:17:44.735470",
     "exception": false,
     "start_time": "2022-07-01T07:17:44.712183",
     "status": "completed"
    },
    "tags": []
   },
   "outputs": [],
   "source": [
    "def merge_mvsa(mvsa_single, mvsa_multiple):\n",
    "    mvsa = np.concatenate((mvsa_single, mvsa_multiple), axis=0)\n",
    "    return mvsa\n",
    "\n",
    "def load_mvsa_feature(feature_name, merge=False):\n",
    "    folder_path = os.path.join('../input/mvsa-features/', feature_name)\n",
    "    single_file = 'mvsa-single-{}.npz'.format(feature_name)\n",
    "    multiple_file = 'mvsa-multiple-{}.npz'.format(feature_name)\n",
    "    mvsa_single = loadz(os.path.join(folder_path, single_file))\n",
    "    mvsa_multiple = loadz(os.path.join(folder_path, multiple_file))\n",
    "    \n",
    "    if merge == True:\n",
    "        return merge_mvsa(mvsa_single, mvsa_multiple)\n",
    "    \n",
    "    return mvsa_single, mvsa_multiple\n",
    "\n",
    "def load_labels(path):\n",
    "    data = read_hdf5(path)\n",
    "\n",
    "    for x in data:\n",
    "        if x[0] == 'multimodal-labels':\n",
    "            labels = x[1]\n",
    "        if x[0] == 'text-labels':\n",
    "            text_labels = x[1]\n",
    "        if x[0] == 'image-labels':\n",
    "            image_labels = x[1]\n",
    "        \n",
    "    return labels, text_labels, image_labels"
   ]
  },
  {
   "cell_type": "code",
   "execution_count": 4,
   "id": "fb23e4f6",
   "metadata": {
    "execution": {
     "iopub.execute_input": "2022-07-01T07:17:44.755120Z",
     "iopub.status.busy": "2022-07-01T07:17:44.754703Z",
     "iopub.status.idle": "2022-07-01T07:17:44.765947Z",
     "shell.execute_reply": "2022-07-01T07:17:44.764473Z"
    },
    "papermill": {
     "duration": 0.0238,
     "end_time": "2022-07-01T07:17:44.768143",
     "exception": false,
     "start_time": "2022-07-01T07:17:44.744343",
     "status": "completed"
    },
    "tags": []
   },
   "outputs": [],
   "source": [
    "def plot_metrics(history):\n",
    "    fig = plt.figure(figsize=(20, 5))\n",
    "\n",
    "    fig.add_subplot(1, 3, 1)\n",
    "    plt.plot(history.history['loss'])\n",
    "    plt.plot(history.history['val_loss'])\n",
    "    plt.title('LOSS')\n",
    "    plt.ylabel('loss')\n",
    "    plt.xlabel('epoch')\n",
    "    plt.legend(['train', 'val'], loc='best')\n",
    "\n",
    "    fig.add_subplot(1, 3, 2)\n",
    "    plt.plot(history.history['accuracy'])\n",
    "    plt.plot(history.history['val_accuracy'])\n",
    "    plt.title('ACCURACY')\n",
    "    plt.ylabel('accuracy')\n",
    "    plt.xlabel('epoch')\n",
    "    plt.legend(['train', 'val'], loc='best')\n",
    "\n",
    "    fig.add_subplot(1, 3, 3)\n",
    "    plt.plot(history.history['f1_score'])\n",
    "    plt.plot(history.history['val_f1_score'])\n",
    "    plt.title('F1-SCORE')\n",
    "    plt.ylabel('f1-score')\n",
    "    plt.xlabel('epoch')\n",
    "    plt.legend(['train', 'val'], loc='best')\n",
    "\n",
    "    plt.show()"
   ]
  },
  {
   "cell_type": "code",
   "execution_count": 5,
   "id": "e2e0d404",
   "metadata": {
    "execution": {
     "iopub.execute_input": "2022-07-01T07:17:44.787993Z",
     "iopub.status.busy": "2022-07-01T07:17:44.787405Z",
     "iopub.status.idle": "2022-07-01T07:17:44.794001Z",
     "shell.execute_reply": "2022-07-01T07:17:44.792955Z"
    },
    "papermill": {
     "duration": 0.019158,
     "end_time": "2022-07-01T07:17:44.796120",
     "exception": false,
     "start_time": "2022-07-01T07:17:44.776962",
     "status": "completed"
    },
    "tags": []
   },
   "outputs": [],
   "source": [
    "# e.g. validation_split=0.1 -----> 8:1:1 ratio of train, val, test\n",
    "def split_data(data, validation_split):\n",
    "    num_val = int(validation_split * data.shape[0])\n",
    "    data_train = data[:-(num_val*2)]\n",
    "    data_val = data[-(num_val*2):-(num_val)]\n",
    "    data_test = data[-num_val:]\n",
    "    return data_train, data_val, data_test"
   ]
  },
  {
   "cell_type": "code",
   "execution_count": 6,
   "id": "49918f99",
   "metadata": {
    "execution": {
     "iopub.execute_input": "2022-07-01T07:17:44.815864Z",
     "iopub.status.busy": "2022-07-01T07:17:44.815453Z",
     "iopub.status.idle": "2022-07-01T07:17:44.822353Z",
     "shell.execute_reply": "2022-07-01T07:17:44.821103Z"
    },
    "papermill": {
     "duration": 0.019761,
     "end_time": "2022-07-01T07:17:44.824744",
     "exception": false,
     "start_time": "2022-07-01T07:17:44.804983",
     "status": "completed"
    },
    "tags": []
   },
   "outputs": [],
   "source": [
    "def create_model_pretrained(input_shape):\n",
    "    f1_score = tfa.metrics.F1Score(num_classes=NUM_CLASSES, average='macro')\n",
    "    \n",
    "    image_input = Input(shape=input_shape)\n",
    "    outputs = Dense(NUM_CLASSES, activation='softmax') (image_input)\n",
    "    \n",
    "    model = Model(image_input, outputs)\n",
    "    model.compile(optimizer='adam', loss='categorical_crossentropy', metrics=['accuracy', f1_score]) # f1 #tf.keras.metrics.AUC()\n",
    "    return model"
   ]
  },
  {
   "cell_type": "code",
   "execution_count": 7,
   "id": "887ffc3f",
   "metadata": {
    "execution": {
     "iopub.execute_input": "2022-07-01T07:17:44.844676Z",
     "iopub.status.busy": "2022-07-01T07:17:44.844260Z",
     "iopub.status.idle": "2022-07-01T07:17:44.851967Z",
     "shell.execute_reply": "2022-07-01T07:17:44.850842Z"
    },
    "papermill": {
     "duration": 0.020353,
     "end_time": "2022-07-01T07:17:44.854132",
     "exception": false,
     "start_time": "2022-07-01T07:17:44.833779",
     "status": "completed"
    },
    "tags": []
   },
   "outputs": [],
   "source": [
    "def evaluate_model(model, X_test, y_test, checkpoint=None, verbose=1):\n",
    "    if checkpoint is not None:\n",
    "        model = load_model('./model_checkpoint/{}.h5'.format(checkpoint))#, custom_objects={'f1': f1})\n",
    "    \n",
    "    loss, acc, f1 = model.evaluate(X_test, y_test, verbose=verbose)\n",
    "    \n",
    "    if verbose == 1:\n",
    "        print('Loss:', loss)\n",
    "        print('Accuracy:', acc)\n",
    "        print('F1-score:', f1)\n",
    "        \n",
    "    return loss, acc, f1"
   ]
  },
  {
   "cell_type": "code",
   "execution_count": 8,
   "id": "c14e0a04",
   "metadata": {
    "execution": {
     "iopub.execute_input": "2022-07-01T07:17:44.874415Z",
     "iopub.status.busy": "2022-07-01T07:17:44.873335Z",
     "iopub.status.idle": "2022-07-01T07:17:44.883839Z",
     "shell.execute_reply": "2022-07-01T07:17:44.882571Z"
    },
    "papermill": {
     "duration": 0.023051,
     "end_time": "2022-07-01T07:17:44.886112",
     "exception": false,
     "start_time": "2022-07-01T07:17:44.863061",
     "status": "completed"
    },
    "tags": []
   },
   "outputs": [],
   "source": [
    "def run_and_evaluate(name, X, y, verbose=0):\n",
    "    y = le.fit_transform(y)\n",
    "    y = to_categorical(np.asarray(y))\n",
    "    \n",
    "    X_train, X_val, X_test = split_data(X, VALIDATION_SPLIT)\n",
    "    y_train, y_val, y_test = split_data(y, VALIDATION_SPLIT)\n",
    "    \n",
    "    model = create_model_pretrained(X_train.shape[1:])\n",
    "    early_stopping = EarlyStopping(monitor='val_loss', min_delta=1e-4, patience=EARLY_STOPPING)\n",
    "    checkpoint = ModelCheckpoint('./model_checkpoint/{}.h5'.format(name), save_best_only=True, verbose=verbose)\n",
    "    \n",
    "    history = model.fit(X_train, y_train, validation_data=(X_val, y_val), \n",
    "                                   epochs=EPOCHS, batch_size=BATCH_SIZE, verbose=verbose,\n",
    "                                   callbacks=[checkpoint, early_stopping])\n",
    "    \n",
    "    best_epoch = np.argmin(history.history['val_loss'])\n",
    "    print('Checkpoint loaded at epoch:', best_epoch)\n",
    "    \n",
    "    return history, evaluate_model(model, X_test, y_test, checkpoint=name, verbose=verbose)"
   ]
  },
  {
   "cell_type": "code",
   "execution_count": 9,
   "id": "f12956a2",
   "metadata": {
    "execution": {
     "iopub.execute_input": "2022-07-01T07:17:44.905636Z",
     "iopub.status.busy": "2022-07-01T07:17:44.905213Z",
     "iopub.status.idle": "2022-07-01T07:17:44.912178Z",
     "shell.execute_reply": "2022-07-01T07:17:44.910994Z"
    },
    "papermill": {
     "duration": 0.019331,
     "end_time": "2022-07-01T07:17:44.914252",
     "exception": false,
     "start_time": "2022-07-01T07:17:44.894921",
     "status": "completed"
    },
    "tags": []
   },
   "outputs": [],
   "source": [
    "def style_dataframe(dataframe):\n",
    "    return dataframe.style.highlight_max(subset=['Accuracy', 'F1-score'], props='color:lawngreen', axis=0)\\\n",
    "                          .highlight_min(subset=['Accuracy', 'F1-score'], props='color:tomato', axis=0)\\\n",
    "                          .highlight_min(subset=['Loss'], props='color:lawngreen', axis=0)\\\n",
    "                          .highlight_max(subset=['Loss'], props='color:tomato', axis=0)"
   ]
  },
  {
   "cell_type": "code",
   "execution_count": 10,
   "id": "10d63d2e",
   "metadata": {
    "execution": {
     "iopub.execute_input": "2022-07-01T07:17:44.933932Z",
     "iopub.status.busy": "2022-07-01T07:17:44.933549Z",
     "iopub.status.idle": "2022-07-01T07:17:44.941252Z",
     "shell.execute_reply": "2022-07-01T07:17:44.940225Z"
    },
    "papermill": {
     "duration": 0.020194,
     "end_time": "2022-07-01T07:17:44.943311",
     "exception": false,
     "start_time": "2022-07-01T07:17:44.923117",
     "status": "completed"
    },
    "tags": []
   },
   "outputs": [],
   "source": [
    "from IPython.display import display_html\n",
    "\n",
    "def display_dataframes(dfs, names=[], index=False):\n",
    "    def to_df(x):\n",
    "        if isinstance(x, pd.Series):\n",
    "            return pd.DataFrame(x)\n",
    "        else:\n",
    "            return x\n",
    "    html_str = ''\n",
    "    if names:\n",
    "        html_str += ('<tr>' + \n",
    "                     ''.join(f'<td style=\"text-align:center\">{name}</td>' for name in names) + \n",
    "                     '</tr>')\n",
    "    html_str += ('<tr>' + \n",
    "                 ''.join(f'<td style=\"vertical-align:top\"> {to_df(df).to_html()}</td>' \n",
    "                         for df in dfs) + \n",
    "                 '</tr>')\n",
    "    html_str = f'<table>{html_str}</table>'\n",
    "    html_str = html_str.replace('table','table style=\"display:inline\"')\n",
    "    display_html(html_str, raw=True)"
   ]
  },
  {
   "cell_type": "markdown",
   "id": "12fc8b72",
   "metadata": {
    "papermill": {
     "duration": 0.008624,
     "end_time": "2022-07-01T07:17:44.961402",
     "exception": false,
     "start_time": "2022-07-01T07:17:44.952778",
     "status": "completed"
    },
    "tags": []
   },
   "source": [
    "# Load data"
   ]
  },
  {
   "cell_type": "code",
   "execution_count": 11,
   "id": "c1a5ecd5",
   "metadata": {
    "execution": {
     "iopub.execute_input": "2022-07-01T07:17:44.981173Z",
     "iopub.status.busy": "2022-07-01T07:17:44.980641Z",
     "iopub.status.idle": "2022-07-01T07:17:59.197707Z",
     "shell.execute_reply": "2022-07-01T07:17:59.196476Z"
    },
    "papermill": {
     "duration": 14.230545,
     "end_time": "2022-07-01T07:17:59.200772",
     "exception": false,
     "start_time": "2022-07-01T07:17:44.970227",
     "status": "completed"
    },
    "tags": []
   },
   "outputs": [],
   "source": [
    "# load separate\n",
    "mvsa_single_vgg16, mvsa_multiple_vgg16 = load_mvsa_feature('vgg16')\n",
    "mvsa_single_vgg19, mvsa_multiple_vgg19 = load_mvsa_feature('vgg19')\n",
    "mvsa_single_resnet50, mvsa_multiple_resnet50 = load_mvsa_feature('resnet50')\n",
    "mvsa_single_resnet101, mvsa_multiple_resnet101 = load_mvsa_feature('resnet101')\n",
    "mvsa_single_resnet152, mvsa_multiple_resnet152 = load_mvsa_feature('resnet152')\n",
    "mvsa_single_densenet121, mvsa_multiple_densenet121 = load_mvsa_feature('densenet121')\n",
    "mvsa_single_densenet169, mvsa_multiple_densenet169 = load_mvsa_feature('densenet169')\n",
    "mvsa_single_densenet201, mvsa_multiple_densenet201 = load_mvsa_feature('densenet201')"
   ]
  },
  {
   "cell_type": "code",
   "execution_count": 12,
   "id": "3ebdf809",
   "metadata": {
    "execution": {
     "iopub.execute_input": "2022-07-01T07:17:59.223567Z",
     "iopub.status.busy": "2022-07-01T07:17:59.222357Z",
     "iopub.status.idle": "2022-07-01T07:18:07.887276Z",
     "shell.execute_reply": "2022-07-01T07:18:07.882210Z"
    },
    "papermill": {
     "duration": 8.683998,
     "end_time": "2022-07-01T07:18:07.895162",
     "exception": false,
     "start_time": "2022-07-01T07:17:59.211164",
     "status": "completed"
    },
    "tags": []
   },
   "outputs": [],
   "source": [
    "# load merge\n",
    "mvsa_vgg16 = load_mvsa_feature('vgg16', merge=True)\n",
    "mvsa_vgg19 = load_mvsa_feature('vgg19', merge=True)\n",
    "mvsa_resnet50 = load_mvsa_feature('resnet50', merge=True)\n",
    "mvsa_resnet101 = load_mvsa_feature('resnet101', merge=True)\n",
    "mvsa_resnet152 = load_mvsa_feature('resnet152', merge=True)\n",
    "mvsa_densenet121 = load_mvsa_feature('densenet121', merge=True)\n",
    "mvsa_densenet169 = load_mvsa_feature('densenet169', merge=True)\n",
    "mvsa_densenet201 = load_mvsa_feature('densenet201', merge=True)"
   ]
  },
  {
   "cell_type": "code",
   "execution_count": 13,
   "id": "13d4f294",
   "metadata": {
    "execution": {
     "iopub.execute_input": "2022-07-01T07:18:07.918633Z",
     "iopub.status.busy": "2022-07-01T07:18:07.918187Z",
     "iopub.status.idle": "2022-07-01T07:18:08.134170Z",
     "shell.execute_reply": "2022-07-01T07:18:08.133103Z"
    },
    "papermill": {
     "duration": 0.230859,
     "end_time": "2022-07-01T07:18:08.137910",
     "exception": false,
     "start_time": "2022-07-01T07:18:07.907051",
     "status": "completed"
    },
    "tags": []
   },
   "outputs": [],
   "source": [
    "mvsa_single_multimodal_labels, mvsa_single_text_labels, mvsa_single_image_labels = load_labels('../input/mvsa-features/labels/mvsa-single-labels.hdf5')\n",
    "mvsa_multiple_multimodal_labels, mvsa_multiple_text_labels, mvsa_multiple_image_labels = load_labels('../input/mvsa-features/labels/mvsa-multiple-labels.hdf5')\n",
    "\n",
    "mvsa_multimodal_labels = merge_mvsa(mvsa_single_multimodal_labels, mvsa_multiple_multimodal_labels)\n",
    "mvsa_text_labels = merge_mvsa(mvsa_single_text_labels, mvsa_multiple_text_labels)\n",
    "mvsa_image_labels = merge_mvsa(mvsa_single_image_labels, mvsa_multiple_image_labels)"
   ]
  },
  {
   "cell_type": "code",
   "execution_count": 14,
   "id": "ba1db394",
   "metadata": {
    "execution": {
     "iopub.execute_input": "2022-07-01T07:18:08.166494Z",
     "iopub.status.busy": "2022-07-01T07:18:08.165423Z",
     "iopub.status.idle": "2022-07-01T07:18:08.175159Z",
     "shell.execute_reply": "2022-07-01T07:18:08.174026Z"
    },
    "papermill": {
     "duration": 0.027354,
     "end_time": "2022-07-01T07:18:08.178461",
     "exception": false,
     "start_time": "2022-07-01T07:18:08.151107",
     "status": "completed"
    },
    "tags": []
   },
   "outputs": [],
   "source": [
    "le = preprocessing.LabelEncoder()\n",
    "le.fit(mvsa_multimodal_labels)\n",
    "NUM_CLASSES = len(le.classes_) # =3"
   ]
  },
  {
   "cell_type": "code",
   "execution_count": 15,
   "id": "f8135625",
   "metadata": {
    "execution": {
     "iopub.execute_input": "2022-07-01T07:18:08.198764Z",
     "iopub.status.busy": "2022-07-01T07:18:08.198333Z",
     "iopub.status.idle": "2022-07-01T07:18:08.206353Z",
     "shell.execute_reply": "2022-07-01T07:18:08.205567Z"
    },
    "papermill": {
     "duration": 0.020323,
     "end_time": "2022-07-01T07:18:08.208333",
     "exception": false,
     "start_time": "2022-07-01T07:18:08.188010",
     "status": "completed"
    },
    "tags": []
   },
   "outputs": [],
   "source": [
    "# prepare all features data\n",
    "pretrained_names = ['vgg16', 'vgg19', 'resnet50', 'resnet101', 'resnet152', 'densenet121', 'densenet169', 'densenet201']\n",
    "# single_pretrained_names = ['single-' + name for name in pretrained_names]\n",
    "# multiple_pretrained_names = ['multiple-' + name for name in pretrained_names]\n",
    "\n",
    "mvsa_single_features = [mvsa_single_vgg16, mvsa_single_vgg19, \n",
    "                        mvsa_single_resnet50, mvsa_single_resnet101, mvsa_single_resnet152, \n",
    "                        mvsa_single_densenet121, mvsa_single_densenet169, mvsa_single_densenet201]\n",
    "\n",
    "mvsa_multiple_features = [mvsa_multiple_vgg16, mvsa_multiple_vgg19, \n",
    "                          mvsa_multiple_resnet50, mvsa_multiple_resnet101, mvsa_multiple_resnet152, \n",
    "                          mvsa_multiple_densenet121, mvsa_multiple_densenet169, mvsa_multiple_densenet201]\n",
    "\n",
    "mvsa_features = [mvsa_vgg16, mvsa_vgg19, \n",
    "                 mvsa_resnet50, mvsa_resnet101, mvsa_resnet152, \n",
    "                 mvsa_densenet121, mvsa_densenet169, mvsa_densenet201]"
   ]
  },
  {
   "cell_type": "markdown",
   "id": "8617fe3b",
   "metadata": {
    "papermill": {
     "duration": 0.008651,
     "end_time": "2022-07-01T07:18:08.225907",
     "exception": false,
     "start_time": "2022-07-01T07:18:08.217256",
     "status": "completed"
    },
    "tags": []
   },
   "source": [
    "# Run models and Evalution display"
   ]
  },
  {
   "cell_type": "code",
   "execution_count": 16,
   "id": "3bcc89c0",
   "metadata": {
    "execution": {
     "iopub.execute_input": "2022-07-01T07:18:08.246469Z",
     "iopub.status.busy": "2022-07-01T07:18:08.245243Z",
     "iopub.status.idle": "2022-07-01T07:18:08.251907Z",
     "shell.execute_reply": "2022-07-01T07:18:08.250690Z"
    },
    "papermill": {
     "duration": 0.019465,
     "end_time": "2022-07-01T07:18:08.254379",
     "exception": false,
     "start_time": "2022-07-01T07:18:08.234914",
     "status": "completed"
    },
    "tags": []
   },
   "outputs": [],
   "source": [
    "reset_seeds()\n",
    "EPOCHS = 100\n",
    "BATCH_SIZE = 128\n",
    "VALIDATION_SPLIT = 0.1\n",
    "EARLY_STOPPING = 10"
   ]
  },
  {
   "cell_type": "markdown",
   "id": "6474c0e6",
   "metadata": {
    "papermill": {
     "duration": 0.008615,
     "end_time": "2022-07-01T07:18:08.271952",
     "exception": false,
     "start_time": "2022-07-01T07:18:08.263337",
     "status": "completed"
    },
    "tags": []
   },
   "source": [
    "## With original image labels"
   ]
  },
  {
   "cell_type": "code",
   "execution_count": 17,
   "id": "1520ad9e",
   "metadata": {
    "execution": {
     "iopub.execute_input": "2022-07-01T07:18:08.292218Z",
     "iopub.status.busy": "2022-07-01T07:18:08.291446Z",
     "iopub.status.idle": "2022-07-01T07:18:39.182469Z",
     "shell.execute_reply": "2022-07-01T07:18:39.181103Z"
    },
    "papermill": {
     "duration": 30.904362,
     "end_time": "2022-07-01T07:18:39.185396",
     "exception": false,
     "start_time": "2022-07-01T07:18:08.281034",
     "status": "completed"
    },
    "tags": []
   },
   "outputs": [
    {
     "name": "stdout",
     "output_type": "stream",
     "text": [
      "With original image labels\n",
      "MVSA-Single: vgg16\n"
     ]
    },
    {
     "name": "stderr",
     "output_type": "stream",
     "text": [
      "2022-07-01 07:18:08.457196: I tensorflow/core/common_runtime/process_util.cc:146] Creating new thread pool with default inter op setting: 2. Tune using inter_op_parallelism_threads for best performance.\n",
      "2022-07-01 07:18:08.883135: I tensorflow/compiler/mlir/mlir_graph_optimization_pass.cc:185] None of the MLIR Optimization Passes are enabled (registered 2)\n"
     ]
    },
    {
     "name": "stdout",
     "output_type": "stream",
     "text": [
      "Checkpoint loaded at epoch: 3\n",
      "\n",
      "MVSA-Single: vgg19\n",
      "Checkpoint loaded at epoch: 16\n",
      "\n",
      "MVSA-Single: resnet50\n",
      "Checkpoint loaded at epoch: 14\n",
      "\n",
      "MVSA-Single: resnet101\n",
      "Checkpoint loaded at epoch: 49\n",
      "\n",
      "MVSA-Single: resnet152\n",
      "Checkpoint loaded at epoch: 14\n",
      "\n",
      "MVSA-Single: densenet121\n",
      "Checkpoint loaded at epoch: 12\n",
      "\n",
      "MVSA-Single: densenet169\n",
      "Checkpoint loaded at epoch: 6\n",
      "\n",
      "MVSA-Single: densenet201\n",
      "Checkpoint loaded at epoch: 6\n",
      "\n"
     ]
    }
   ],
   "source": [
    "print('With original image labels')\n",
    "# run model with all features data of MVSA-Single\n",
    "mvsa_single_hitories = []\n",
    "mvsa_single_score = []\n",
    "for i in range(len(pretrained_names)):\n",
    "    print('MVSA-Single:', pretrained_names[i])\n",
    "    history, scores = run_and_evaluate('single-' + pretrained_names[i], mvsa_single_features[i], mvsa_single_image_labels, verbose=0)\n",
    "    mvsa_single_hitories.append(history)\n",
    "    mvsa_single_score.append(scores)\n",
    "    print()\n",
    "    \n",
    "df_single_scores = pd.DataFrame(mvsa_single_score, columns=['Loss', 'Accuracy', 'F1-score'], index=pretrained_names)"
   ]
  },
  {
   "cell_type": "code",
   "execution_count": 18,
   "id": "f71be271",
   "metadata": {
    "execution": {
     "iopub.execute_input": "2022-07-01T07:18:39.210195Z",
     "iopub.status.busy": "2022-07-01T07:18:39.209811Z",
     "iopub.status.idle": "2022-07-01T07:19:24.828043Z",
     "shell.execute_reply": "2022-07-01T07:19:24.826748Z"
    },
    "papermill": {
     "duration": 45.634111,
     "end_time": "2022-07-01T07:19:24.830736",
     "exception": false,
     "start_time": "2022-07-01T07:18:39.196625",
     "status": "completed"
    },
    "tags": []
   },
   "outputs": [
    {
     "name": "stdout",
     "output_type": "stream",
     "text": [
      "With original image labels\n",
      "MVSA-Multiple: vgg16\n",
      "Checkpoint loaded at epoch: 8\n",
      "\n",
      "MVSA-Multiple: vgg19\n",
      "Checkpoint loaded at epoch: 1\n",
      "\n",
      "MVSA-Multiple: resnet50\n",
      "Checkpoint loaded at epoch: 7\n",
      "\n",
      "MVSA-Multiple: resnet101\n",
      "Checkpoint loaded at epoch: 10\n",
      "\n",
      "MVSA-Multiple: resnet152\n",
      "Checkpoint loaded at epoch: 10\n",
      "\n",
      "MVSA-Multiple: densenet121\n",
      "Checkpoint loaded at epoch: 8\n",
      "\n",
      "MVSA-Multiple: densenet169\n",
      "Checkpoint loaded at epoch: 6\n",
      "\n",
      "MVSA-Multiple: densenet201\n",
      "Checkpoint loaded at epoch: 6\n",
      "\n"
     ]
    }
   ],
   "source": [
    "print('With original image labels')\n",
    "# run model with all features data of MVSA-Multiple\n",
    "mvsa_multiple_hitories = []\n",
    "mvsa_multiple_score = []\n",
    "for i in range(len(pretrained_names)):\n",
    "    print('MVSA-Multiple:', pretrained_names[i])\n",
    "    history, scores = run_and_evaluate('multiple-' + pretrained_names[i], mvsa_multiple_features[i], mvsa_multiple_image_labels, verbose=0)\n",
    "    mvsa_multiple_hitories.append(history)\n",
    "    mvsa_multiple_score.append(scores)\n",
    "    print()\n",
    "    \n",
    "df_multiple_scores = pd.DataFrame(mvsa_multiple_score, columns=['Loss', 'Accuracy', 'F1-score'], index=pretrained_names)"
   ]
  },
  {
   "cell_type": "code",
   "execution_count": 19,
   "id": "c400b82d",
   "metadata": {
    "execution": {
     "iopub.execute_input": "2022-07-01T07:19:24.855366Z",
     "iopub.status.busy": "2022-07-01T07:19:24.854896Z",
     "iopub.status.idle": "2022-07-01T07:19:24.861699Z",
     "shell.execute_reply": "2022-07-01T07:19:24.860625Z"
    },
    "papermill": {
     "duration": 0.02168,
     "end_time": "2022-07-01T07:19:24.863909",
     "exception": false,
     "start_time": "2022-07-01T07:19:24.842229",
     "status": "completed"
    },
    "tags": []
   },
   "outputs": [],
   "source": [
    "mvsa_average_scores = np.mean([mvsa_single_score, mvsa_multiple_score], axis=0)\n",
    "df_average_scores = pd.DataFrame(mvsa_average_scores, columns=['Loss', 'Accuracy', 'F1-score'], index=pretrained_names)"
   ]
  },
  {
   "cell_type": "code",
   "execution_count": 20,
   "id": "26887821",
   "metadata": {
    "execution": {
     "iopub.execute_input": "2022-07-01T07:19:24.888374Z",
     "iopub.status.busy": "2022-07-01T07:19:24.887528Z",
     "iopub.status.idle": "2022-07-01T07:19:25.028284Z",
     "shell.execute_reply": "2022-07-01T07:19:25.027228Z"
    },
    "papermill": {
     "duration": 0.155687,
     "end_time": "2022-07-01T07:19:25.030781",
     "exception": false,
     "start_time": "2022-07-01T07:19:24.875094",
     "status": "completed"
    },
    "tags": []
   },
   "outputs": [
    {
     "name": "stdout",
     "output_type": "stream",
     "text": [
      "With original image labels\n",
      "\n"
     ]
    },
    {
     "data": {
      "text/html": [
       "<table style=\"display:inline\"><tr><td style=\"text-align:center\">MVSA-Single</td><td style=\"text-align:center\">MVSA-Multiple</td><td style=\"text-align:center\">Average</td></tr><tr><td style=\"vertical-align:top\"> <style type=\"text/css\">\n",
       "#T_84500_row1_col0, #T_84500_row5_col1, #T_84500_row5_col2 {\n",
       "  color: lawngreen;\n",
       "}\n",
       "#T_84500_row4_col0, #T_84500_row4_col1, #T_84500_row4_col2 {\n",
       "  color: tomato;\n",
       "}\n",
       "</style>\n",
       "<table style=\"display:inline\" id=\"T_84500_\">\n",
       "  <thead>\n",
       "    <tr>\n",
       "      <th class=\"blank level0\" >&nbsp;</th>\n",
       "      <th class=\"col_heading level0 col0\" >Loss</th>\n",
       "      <th class=\"col_heading level0 col1\" >Accuracy</th>\n",
       "      <th class=\"col_heading level0 col2\" >F1-score</th>\n",
       "    </tr>\n",
       "  </thead>\n",
       "  <tbody>\n",
       "    <tr>\n",
       "      <th id=\"T_84500_level0_row0\" class=\"row_heading level0 row0\" >vgg16</th>\n",
       "      <td id=\"T_84500_row0_col0\" class=\"data row0 col0\" >0.865559</td>\n",
       "      <td id=\"T_84500_row0_col1\" class=\"data row0 col1\" >0.577726</td>\n",
       "      <td id=\"T_84500_row0_col2\" class=\"data row0 col2\" >0.507918</td>\n",
       "    </tr>\n",
       "    <tr>\n",
       "      <th id=\"T_84500_level0_row1\" class=\"row_heading level0 row1\" >vgg19</th>\n",
       "      <td id=\"T_84500_row1_col0\" class=\"data row1 col0\" >0.859385</td>\n",
       "      <td id=\"T_84500_row1_col1\" class=\"data row1 col1\" >0.580046</td>\n",
       "      <td id=\"T_84500_row1_col2\" class=\"data row1 col2\" >0.506684</td>\n",
       "    </tr>\n",
       "    <tr>\n",
       "      <th id=\"T_84500_level0_row2\" class=\"row_heading level0 row2\" >resnet50</th>\n",
       "      <td id=\"T_84500_row2_col0\" class=\"data row2 col0\" >0.930690</td>\n",
       "      <td id=\"T_84500_row2_col1\" class=\"data row2 col1\" >0.580046</td>\n",
       "      <td id=\"T_84500_row2_col2\" class=\"data row2 col2\" >0.357222</td>\n",
       "    </tr>\n",
       "    <tr>\n",
       "      <th id=\"T_84500_level0_row3\" class=\"row_heading level0 row3\" >resnet101</th>\n",
       "      <td id=\"T_84500_row3_col0\" class=\"data row3 col0\" >0.927502</td>\n",
       "      <td id=\"T_84500_row3_col1\" class=\"data row3 col1\" >0.577726</td>\n",
       "      <td id=\"T_84500_row3_col2\" class=\"data row3 col2\" >0.359888</td>\n",
       "    </tr>\n",
       "    <tr>\n",
       "      <th id=\"T_84500_level0_row4\" class=\"row_heading level0 row4\" >resnet152</th>\n",
       "      <td id=\"T_84500_row4_col0\" class=\"data row4 col0\" >0.958335</td>\n",
       "      <td id=\"T_84500_row4_col1\" class=\"data row4 col1\" >0.561485</td>\n",
       "      <td id=\"T_84500_row4_col2\" class=\"data row4 col2\" >0.306116</td>\n",
       "    </tr>\n",
       "    <tr>\n",
       "      <th id=\"T_84500_level0_row5\" class=\"row_heading level0 row5\" >densenet121</th>\n",
       "      <td id=\"T_84500_row5_col0\" class=\"data row5 col0\" >0.907156</td>\n",
       "      <td id=\"T_84500_row5_col1\" class=\"data row5 col1\" >0.605568</td>\n",
       "      <td id=\"T_84500_row5_col2\" class=\"data row5 col2\" >0.534249</td>\n",
       "    </tr>\n",
       "    <tr>\n",
       "      <th id=\"T_84500_level0_row6\" class=\"row_heading level0 row6\" >densenet169</th>\n",
       "      <td id=\"T_84500_row6_col0\" class=\"data row6 col0\" >0.928016</td>\n",
       "      <td id=\"T_84500_row6_col1\" class=\"data row6 col1\" >0.577726</td>\n",
       "      <td id=\"T_84500_row6_col2\" class=\"data row6 col2\" >0.525611</td>\n",
       "    </tr>\n",
       "    <tr>\n",
       "      <th id=\"T_84500_level0_row7\" class=\"row_heading level0 row7\" >densenet201</th>\n",
       "      <td id=\"T_84500_row7_col0\" class=\"data row7 col0\" >0.864275</td>\n",
       "      <td id=\"T_84500_row7_col1\" class=\"data row7 col1\" >0.596288</td>\n",
       "      <td id=\"T_84500_row7_col2\" class=\"data row7 col2\" >0.532402</td>\n",
       "    </tr>\n",
       "  </tbody>\n",
       "</table style=\"display:inline\">\n",
       "</td><td style=\"vertical-align:top\"> <style type=\"text/css\">\n",
       "#T_7799a_row0_col0, #T_7799a_row3_col1, #T_7799a_row3_col2 {\n",
       "  color: tomato;\n",
       "}\n",
       "#T_7799a_row6_col0, #T_7799a_row7_col1, #T_7799a_row7_col2 {\n",
       "  color: lawngreen;\n",
       "}\n",
       "</style>\n",
       "<table style=\"display:inline\" id=\"T_7799a_\">\n",
       "  <thead>\n",
       "    <tr>\n",
       "      <th class=\"blank level0\" >&nbsp;</th>\n",
       "      <th class=\"col_heading level0 col0\" >Loss</th>\n",
       "      <th class=\"col_heading level0 col1\" >Accuracy</th>\n",
       "      <th class=\"col_heading level0 col2\" >F1-score</th>\n",
       "    </tr>\n",
       "  </thead>\n",
       "  <tbody>\n",
       "    <tr>\n",
       "      <th id=\"T_7799a_level0_row0\" class=\"row_heading level0 row0\" >vgg16</th>\n",
       "      <td id=\"T_7799a_row0_col0\" class=\"data row0 col0\" >0.924528</td>\n",
       "      <td id=\"T_7799a_row0_col1\" class=\"data row0 col1\" >0.548230</td>\n",
       "      <td id=\"T_7799a_row0_col2\" class=\"data row0 col2\" >0.341859</td>\n",
       "    </tr>\n",
       "    <tr>\n",
       "      <th id=\"T_7799a_level0_row1\" class=\"row_heading level0 row1\" >vgg19</th>\n",
       "      <td id=\"T_7799a_row1_col0\" class=\"data row1 col0\" >0.913934</td>\n",
       "      <td id=\"T_7799a_row1_col1\" class=\"data row1 col1\" >0.571429</td>\n",
       "      <td id=\"T_7799a_row1_col2\" class=\"data row1 col2\" >0.342045</td>\n",
       "    </tr>\n",
       "    <tr>\n",
       "      <th id=\"T_7799a_level0_row2\" class=\"row_heading level0 row2\" >resnet50</th>\n",
       "      <td id=\"T_7799a_row2_col0\" class=\"data row2 col0\" >0.911810</td>\n",
       "      <td id=\"T_7799a_row2_col1\" class=\"data row2 col1\" >0.554945</td>\n",
       "      <td id=\"T_7799a_row2_col2\" class=\"data row2 col2\" >0.295329</td>\n",
       "    </tr>\n",
       "    <tr>\n",
       "      <th id=\"T_7799a_level0_row3\" class=\"row_heading level0 row3\" >resnet101</th>\n",
       "      <td id=\"T_7799a_row3_col0\" class=\"data row3 col0\" >0.923054</td>\n",
       "      <td id=\"T_7799a_row3_col1\" class=\"data row3 col1\" >0.547009</td>\n",
       "      <td id=\"T_7799a_row3_col2\" class=\"data row3 col2\" >0.275689</td>\n",
       "    </tr>\n",
       "    <tr>\n",
       "      <th id=\"T_7799a_level0_row4\" class=\"row_heading level0 row4\" >resnet152</th>\n",
       "      <td id=\"T_7799a_row4_col0\" class=\"data row4 col0\" >0.919318</td>\n",
       "      <td id=\"T_7799a_row4_col1\" class=\"data row4 col1\" >0.550672</td>\n",
       "      <td id=\"T_7799a_row4_col2\" class=\"data row4 col2\" >0.277057</td>\n",
       "    </tr>\n",
       "    <tr>\n",
       "      <th id=\"T_7799a_level0_row5\" class=\"row_heading level0 row5\" >densenet121</th>\n",
       "      <td id=\"T_7799a_row5_col0\" class=\"data row5 col0\" >0.894839</td>\n",
       "      <td id=\"T_7799a_row5_col1\" class=\"data row5 col1\" >0.564103</td>\n",
       "      <td id=\"T_7799a_row5_col2\" class=\"data row5 col2\" >0.389833</td>\n",
       "    </tr>\n",
       "    <tr>\n",
       "      <th id=\"T_7799a_level0_row6\" class=\"row_heading level0 row6\" >densenet169</th>\n",
       "      <td id=\"T_7799a_row6_col0\" class=\"data row6 col0\" >0.889975</td>\n",
       "      <td id=\"T_7799a_row6_col1\" class=\"data row6 col1\" >0.567766</td>\n",
       "      <td id=\"T_7799a_row6_col2\" class=\"data row6 col2\" >0.382899</td>\n",
       "    </tr>\n",
       "    <tr>\n",
       "      <th id=\"T_7799a_level0_row7\" class=\"row_heading level0 row7\" >densenet201</th>\n",
       "      <td id=\"T_7799a_row7_col0\" class=\"data row7 col0\" >0.897645</td>\n",
       "      <td id=\"T_7799a_row7_col1\" class=\"data row7 col1\" >0.581197</td>\n",
       "      <td id=\"T_7799a_row7_col2\" class=\"data row7 col2\" >0.394521</td>\n",
       "    </tr>\n",
       "  </tbody>\n",
       "</table style=\"display:inline\">\n",
       "</td><td style=\"vertical-align:top\"> <style type=\"text/css\">\n",
       "#T_81f0b_row4_col0, #T_81f0b_row4_col1, #T_81f0b_row4_col2 {\n",
       "  color: tomato;\n",
       "}\n",
       "#T_81f0b_row7_col0, #T_81f0b_row7_col1, #T_81f0b_row7_col2 {\n",
       "  color: lawngreen;\n",
       "}\n",
       "</style>\n",
       "<table style=\"display:inline\" id=\"T_81f0b_\">\n",
       "  <thead>\n",
       "    <tr>\n",
       "      <th class=\"blank level0\" >&nbsp;</th>\n",
       "      <th class=\"col_heading level0 col0\" >Loss</th>\n",
       "      <th class=\"col_heading level0 col1\" >Accuracy</th>\n",
       "      <th class=\"col_heading level0 col2\" >F1-score</th>\n",
       "    </tr>\n",
       "  </thead>\n",
       "  <tbody>\n",
       "    <tr>\n",
       "      <th id=\"T_81f0b_level0_row0\" class=\"row_heading level0 row0\" >vgg16</th>\n",
       "      <td id=\"T_81f0b_row0_col0\" class=\"data row0 col0\" >0.895043</td>\n",
       "      <td id=\"T_81f0b_row0_col1\" class=\"data row0 col1\" >0.562978</td>\n",
       "      <td id=\"T_81f0b_row0_col2\" class=\"data row0 col2\" >0.424888</td>\n",
       "    </tr>\n",
       "    <tr>\n",
       "      <th id=\"T_81f0b_level0_row1\" class=\"row_heading level0 row1\" >vgg19</th>\n",
       "      <td id=\"T_81f0b_row1_col0\" class=\"data row1 col0\" >0.886659</td>\n",
       "      <td id=\"T_81f0b_row1_col1\" class=\"data row1 col1\" >0.575738</td>\n",
       "      <td id=\"T_81f0b_row1_col2\" class=\"data row1 col2\" >0.424364</td>\n",
       "    </tr>\n",
       "    <tr>\n",
       "      <th id=\"T_81f0b_level0_row2\" class=\"row_heading level0 row2\" >resnet50</th>\n",
       "      <td id=\"T_81f0b_row2_col0\" class=\"data row2 col0\" >0.921250</td>\n",
       "      <td id=\"T_81f0b_row2_col1\" class=\"data row2 col1\" >0.567496</td>\n",
       "      <td id=\"T_81f0b_row2_col2\" class=\"data row2 col2\" >0.326275</td>\n",
       "    </tr>\n",
       "    <tr>\n",
       "      <th id=\"T_81f0b_level0_row3\" class=\"row_heading level0 row3\" >resnet101</th>\n",
       "      <td id=\"T_81f0b_row3_col0\" class=\"data row3 col0\" >0.925278</td>\n",
       "      <td id=\"T_81f0b_row3_col1\" class=\"data row3 col1\" >0.562367</td>\n",
       "      <td id=\"T_81f0b_row3_col2\" class=\"data row3 col2\" >0.317788</td>\n",
       "    </tr>\n",
       "    <tr>\n",
       "      <th id=\"T_81f0b_level0_row4\" class=\"row_heading level0 row4\" >resnet152</th>\n",
       "      <td id=\"T_81f0b_row4_col0\" class=\"data row4 col0\" >0.938826</td>\n",
       "      <td id=\"T_81f0b_row4_col1\" class=\"data row4 col1\" >0.556078</td>\n",
       "      <td id=\"T_81f0b_row4_col2\" class=\"data row4 col2\" >0.291586</td>\n",
       "    </tr>\n",
       "    <tr>\n",
       "      <th id=\"T_81f0b_level0_row5\" class=\"row_heading level0 row5\" >densenet121</th>\n",
       "      <td id=\"T_81f0b_row5_col0\" class=\"data row5 col0\" >0.900998</td>\n",
       "      <td id=\"T_81f0b_row5_col1\" class=\"data row5 col1\" >0.584836</td>\n",
       "      <td id=\"T_81f0b_row5_col2\" class=\"data row5 col2\" >0.462041</td>\n",
       "    </tr>\n",
       "    <tr>\n",
       "      <th id=\"T_81f0b_level0_row6\" class=\"row_heading level0 row6\" >densenet169</th>\n",
       "      <td id=\"T_81f0b_row6_col0\" class=\"data row6 col0\" >0.908995</td>\n",
       "      <td id=\"T_81f0b_row6_col1\" class=\"data row6 col1\" >0.572746</td>\n",
       "      <td id=\"T_81f0b_row6_col2\" class=\"data row6 col2\" >0.454255</td>\n",
       "    </tr>\n",
       "    <tr>\n",
       "      <th id=\"T_81f0b_level0_row7\" class=\"row_heading level0 row7\" >densenet201</th>\n",
       "      <td id=\"T_81f0b_row7_col0\" class=\"data row7 col0\" >0.880960</td>\n",
       "      <td id=\"T_81f0b_row7_col1\" class=\"data row7 col1\" >0.588742</td>\n",
       "      <td id=\"T_81f0b_row7_col2\" class=\"data row7 col2\" >0.463461</td>\n",
       "    </tr>\n",
       "  </tbody>\n",
       "</table style=\"display:inline\">\n",
       "</td></tr></table style=\"display:inline\">"
      ]
     },
     "metadata": {},
     "output_type": "display_data"
    }
   ],
   "source": [
    "print('With original image labels\\n')\n",
    "display_dataframes((style_dataframe(df_single_scores), style_dataframe(df_multiple_scores), style_dataframe(df_average_scores)), \n",
    "                   names=['MVSA-Single', 'MVSA-Multiple', 'Average'])"
   ]
  },
  {
   "cell_type": "markdown",
   "id": "c9384579",
   "metadata": {
    "papermill": {
     "duration": 0.011232,
     "end_time": "2022-07-01T07:19:25.053844",
     "exception": false,
     "start_time": "2022-07-01T07:19:25.042612",
     "status": "completed"
    },
    "tags": []
   },
   "source": [
    "## With multimodal labels"
   ]
  },
  {
   "cell_type": "code",
   "execution_count": 21,
   "id": "21bd959f",
   "metadata": {
    "execution": {
     "iopub.execute_input": "2022-07-01T07:19:25.079438Z",
     "iopub.status.busy": "2022-07-01T07:19:25.078609Z",
     "iopub.status.idle": "2022-07-01T07:19:48.837170Z",
     "shell.execute_reply": "2022-07-01T07:19:48.835688Z"
    },
    "papermill": {
     "duration": 23.774263,
     "end_time": "2022-07-01T07:19:48.839590",
     "exception": false,
     "start_time": "2022-07-01T07:19:25.065327",
     "status": "completed"
    },
    "tags": []
   },
   "outputs": [
    {
     "name": "stdout",
     "output_type": "stream",
     "text": [
      "With multimodal labels\n",
      "MVSA-Single: vgg16\n",
      "Checkpoint loaded at epoch: 6\n",
      "\n",
      "MVSA-Single: vgg19\n",
      "Checkpoint loaded at epoch: 3\n",
      "\n",
      "MVSA-Single: resnet50\n",
      "Checkpoint loaded at epoch: 12\n",
      "\n",
      "MVSA-Single: resnet101\n",
      "Checkpoint loaded at epoch: 12\n",
      "\n",
      "MVSA-Single: resnet152\n",
      "Checkpoint loaded at epoch: 18\n",
      "\n",
      "MVSA-Single: densenet121\n",
      "Checkpoint loaded at epoch: 12\n",
      "\n",
      "MVSA-Single: densenet169\n",
      "Checkpoint loaded at epoch: 2\n",
      "\n",
      "MVSA-Single: densenet201\n",
      "Checkpoint loaded at epoch: 4\n",
      "\n"
     ]
    }
   ],
   "source": [
    "print('With multimodal labels')\n",
    "\n",
    "# run model with all features data of MVSA-Single\n",
    "mvsa_single_hitories2 = []\n",
    "mvsa_single_score2 = []\n",
    "for i in range(len(pretrained_names)):\n",
    "    print('MVSA-Single:', pretrained_names[i])\n",
    "    history, scores = run_and_evaluate('single-' + pretrained_names[i], mvsa_single_features[i], mvsa_single_multimodal_labels, verbose=0)\n",
    "    mvsa_single_hitories2.append(history)\n",
    "    mvsa_single_score2.append(scores)\n",
    "    print()\n",
    "    \n",
    "df_single_scores2 = pd.DataFrame(mvsa_single_score2, columns=['Loss', 'Accuracy', 'F1-score'], index=pretrained_names)"
   ]
  },
  {
   "cell_type": "code",
   "execution_count": 22,
   "id": "22714fd4",
   "metadata": {
    "execution": {
     "iopub.execute_input": "2022-07-01T07:19:48.868161Z",
     "iopub.status.busy": "2022-07-01T07:19:48.867071Z",
     "iopub.status.idle": "2022-07-01T07:20:35.988580Z",
     "shell.execute_reply": "2022-07-01T07:20:35.987064Z"
    },
    "papermill": {
     "duration": 47.138075,
     "end_time": "2022-07-01T07:20:35.991132",
     "exception": false,
     "start_time": "2022-07-01T07:19:48.853057",
     "status": "completed"
    },
    "tags": []
   },
   "outputs": [
    {
     "name": "stdout",
     "output_type": "stream",
     "text": [
      "With multimodal labels\n",
      "MVSA-Multiple: vgg16\n",
      "Checkpoint loaded at epoch: 8\n",
      "\n",
      "MVSA-Multiple: vgg19\n",
      "Checkpoint loaded at epoch: 8\n",
      "\n",
      "MVSA-Multiple: resnet50\n",
      "Checkpoint loaded at epoch: 8\n",
      "\n",
      "MVSA-Multiple: resnet101\n",
      "Checkpoint loaded at epoch: 10\n",
      "\n",
      "MVSA-Multiple: resnet152\n",
      "Checkpoint loaded at epoch: 10\n",
      "\n",
      "MVSA-Multiple: densenet121\n",
      "Checkpoint loaded at epoch: 6\n",
      "\n",
      "MVSA-Multiple: densenet169\n",
      "Checkpoint loaded at epoch: 6\n",
      "\n",
      "MVSA-Multiple: densenet201\n",
      "Checkpoint loaded at epoch: 3\n",
      "\n"
     ]
    }
   ],
   "source": [
    "print('With multimodal labels')\n",
    "# run model with all features data of MVSA-Multiple\n",
    "mvsa_multiple_hitories2 = []\n",
    "mvsa_multiple_score2 = []\n",
    "for i in range(len(pretrained_names)):\n",
    "    print('MVSA-Multiple:', pretrained_names[i])\n",
    "    history, scores = run_and_evaluate('multiple-' + pretrained_names[i], mvsa_multiple_features[i], mvsa_multiple_multimodal_labels, verbose=0)\n",
    "    mvsa_multiple_hitories2.append(history)\n",
    "    mvsa_multiple_score2.append(scores)\n",
    "    print()\n",
    "    \n",
    "df_multiple_scores2 = pd.DataFrame(mvsa_multiple_score2, columns=['Loss', 'Accuracy', 'F1-score'], index=pretrained_names)"
   ]
  },
  {
   "cell_type": "code",
   "execution_count": 23,
   "id": "5e902fab",
   "metadata": {
    "execution": {
     "iopub.execute_input": "2022-07-01T07:20:36.022316Z",
     "iopub.status.busy": "2022-07-01T07:20:36.020978Z",
     "iopub.status.idle": "2022-07-01T07:20:36.028323Z",
     "shell.execute_reply": "2022-07-01T07:20:36.027459Z"
    },
    "papermill": {
     "duration": 0.025191,
     "end_time": "2022-07-01T07:20:36.030596",
     "exception": false,
     "start_time": "2022-07-01T07:20:36.005405",
     "status": "completed"
    },
    "tags": []
   },
   "outputs": [],
   "source": [
    "mvsa_average_scores2 = np.mean([mvsa_single_score2, mvsa_multiple_score2], axis=0)\n",
    "df_average_scores2 = pd.DataFrame(mvsa_average_scores2, columns=['Loss', 'Accuracy', 'F1-score'], index=pretrained_names)"
   ]
  },
  {
   "cell_type": "code",
   "execution_count": 24,
   "id": "1ccf5bb3",
   "metadata": {
    "execution": {
     "iopub.execute_input": "2022-07-01T07:20:36.062288Z",
     "iopub.status.busy": "2022-07-01T07:20:36.061139Z",
     "iopub.status.idle": "2022-07-01T07:20:36.111454Z",
     "shell.execute_reply": "2022-07-01T07:20:36.110590Z"
    },
    "papermill": {
     "duration": 0.068596,
     "end_time": "2022-07-01T07:20:36.113698",
     "exception": false,
     "start_time": "2022-07-01T07:20:36.045102",
     "status": "completed"
    },
    "tags": []
   },
   "outputs": [
    {
     "name": "stdout",
     "output_type": "stream",
     "text": [
      "With multimodal labels\n",
      "\n"
     ]
    },
    {
     "data": {
      "text/html": [
       "<table style=\"display:inline\"><tr><td style=\"text-align:center\">MVSA-Single</td><td style=\"text-align:center\">MVSA-Multiple</td><td style=\"text-align:center\">Average</td></tr><tr><td style=\"vertical-align:top\"> <style type=\"text/css\">\n",
       "#T_f0aa3_row0_col1, #T_f0aa3_row1_col0, #T_f0aa3_row5_col2 {\n",
       "  color: lawngreen;\n",
       "}\n",
       "#T_f0aa3_row4_col2, #T_f0aa3_row6_col0, #T_f0aa3_row7_col1 {\n",
       "  color: tomato;\n",
       "}\n",
       "</style>\n",
       "<table style=\"display:inline\" id=\"T_f0aa3_\">\n",
       "  <thead>\n",
       "    <tr>\n",
       "      <th class=\"blank level0\" >&nbsp;</th>\n",
       "      <th class=\"col_heading level0 col0\" >Loss</th>\n",
       "      <th class=\"col_heading level0 col1\" >Accuracy</th>\n",
       "      <th class=\"col_heading level0 col2\" >F1-score</th>\n",
       "    </tr>\n",
       "  </thead>\n",
       "  <tbody>\n",
       "    <tr>\n",
       "      <th id=\"T_f0aa3_level0_row0\" class=\"row_heading level0 row0\" >vgg16</th>\n",
       "      <td id=\"T_f0aa3_row0_col0\" class=\"data row0 col0\" >0.760666</td>\n",
       "      <td id=\"T_f0aa3_row0_col1\" class=\"data row0 col1\" >0.628770</td>\n",
       "      <td id=\"T_f0aa3_row0_col2\" class=\"data row0 col2\" >0.359501</td>\n",
       "    </tr>\n",
       "    <tr>\n",
       "      <th id=\"T_f0aa3_level0_row1\" class=\"row_heading level0 row1\" >vgg19</th>\n",
       "      <td id=\"T_f0aa3_row1_col0\" class=\"data row1 col0\" >0.757656</td>\n",
       "      <td id=\"T_f0aa3_row1_col1\" class=\"data row1 col1\" >0.617169</td>\n",
       "      <td id=\"T_f0aa3_row1_col2\" class=\"data row1 col2\" >0.363505</td>\n",
       "    </tr>\n",
       "    <tr>\n",
       "      <th id=\"T_f0aa3_level0_row2\" class=\"row_heading level0 row2\" >resnet50</th>\n",
       "      <td id=\"T_f0aa3_row2_col0\" class=\"data row2 col0\" >0.796381</td>\n",
       "      <td id=\"T_f0aa3_row2_col1\" class=\"data row2 col1\" >0.610209</td>\n",
       "      <td id=\"T_f0aa3_row2_col2\" class=\"data row2 col2\" >0.265377</td>\n",
       "    </tr>\n",
       "    <tr>\n",
       "      <th id=\"T_f0aa3_level0_row3\" class=\"row_heading level0 row3\" >resnet101</th>\n",
       "      <td id=\"T_f0aa3_row3_col0\" class=\"data row3 col0\" >0.803058</td>\n",
       "      <td id=\"T_f0aa3_row3_col1\" class=\"data row3 col1\" >0.612529</td>\n",
       "      <td id=\"T_f0aa3_row3_col2\" class=\"data row3 col2\" >0.265698</td>\n",
       "    </tr>\n",
       "    <tr>\n",
       "      <th id=\"T_f0aa3_level0_row4\" class=\"row_heading level0 row4\" >resnet152</th>\n",
       "      <td id=\"T_f0aa3_row4_col0\" class=\"data row4 col0\" >0.817103</td>\n",
       "      <td id=\"T_f0aa3_row4_col1\" class=\"data row4 col1\" >0.603248</td>\n",
       "      <td id=\"T_f0aa3_row4_col2\" class=\"data row4 col2\" >0.255413</td>\n",
       "    </tr>\n",
       "    <tr>\n",
       "      <th id=\"T_f0aa3_level0_row5\" class=\"row_heading level0 row5\" >densenet121</th>\n",
       "      <td id=\"T_f0aa3_row5_col0\" class=\"data row5 col0\" >0.835543</td>\n",
       "      <td id=\"T_f0aa3_row5_col1\" class=\"data row5 col1\" >0.591647</td>\n",
       "      <td id=\"T_f0aa3_row5_col2\" class=\"data row5 col2\" >0.403237</td>\n",
       "    </tr>\n",
       "    <tr>\n",
       "      <th id=\"T_f0aa3_level0_row6\" class=\"row_heading level0 row6\" >densenet169</th>\n",
       "      <td id=\"T_f0aa3_row6_col0\" class=\"data row6 col0\" >0.840911</td>\n",
       "      <td id=\"T_f0aa3_row6_col1\" class=\"data row6 col1\" >0.598608</td>\n",
       "      <td id=\"T_f0aa3_row6_col2\" class=\"data row6 col2\" >0.381247</td>\n",
       "    </tr>\n",
       "    <tr>\n",
       "      <th id=\"T_f0aa3_level0_row7\" class=\"row_heading level0 row7\" >densenet201</th>\n",
       "      <td id=\"T_f0aa3_row7_col0\" class=\"data row7 col0\" >0.831024</td>\n",
       "      <td id=\"T_f0aa3_row7_col1\" class=\"data row7 col1\" >0.587007</td>\n",
       "      <td id=\"T_f0aa3_row7_col2\" class=\"data row7 col2\" >0.373235</td>\n",
       "    </tr>\n",
       "  </tbody>\n",
       "</table style=\"display:inline\">\n",
       "</td><td style=\"vertical-align:top\"> <style type=\"text/css\">\n",
       "#T_376c3_row1_col1, #T_376c3_row5_col2, #T_376c3_row7_col0 {\n",
       "  color: lawngreen;\n",
       "}\n",
       "#T_376c3_row3_col2, #T_376c3_row4_col0, #T_376c3_row4_col2, #T_376c3_row6_col1 {\n",
       "  color: tomato;\n",
       "}\n",
       "</style>\n",
       "<table style=\"display:inline\" id=\"T_376c3_\">\n",
       "  <thead>\n",
       "    <tr>\n",
       "      <th class=\"blank level0\" >&nbsp;</th>\n",
       "      <th class=\"col_heading level0 col0\" >Loss</th>\n",
       "      <th class=\"col_heading level0 col1\" >Accuracy</th>\n",
       "      <th class=\"col_heading level0 col2\" >F1-score</th>\n",
       "    </tr>\n",
       "  </thead>\n",
       "  <tbody>\n",
       "    <tr>\n",
       "      <th id=\"T_376c3_level0_row0\" class=\"row_heading level0 row0\" >vgg16</th>\n",
       "      <td id=\"T_376c3_row0_col0\" class=\"data row0 col0\" >0.891924</td>\n",
       "      <td id=\"T_376c3_row0_col1\" class=\"data row0 col1\" >0.638584</td>\n",
       "      <td id=\"T_376c3_row0_col2\" class=\"data row0 col2\" >0.266500</td>\n",
       "    </tr>\n",
       "    <tr>\n",
       "      <th id=\"T_376c3_level0_row1\" class=\"row_heading level0 row1\" >vgg19</th>\n",
       "      <td id=\"T_376c3_row1_col0\" class=\"data row1 col0\" >0.901875</td>\n",
       "      <td id=\"T_376c3_row1_col1\" class=\"data row1 col1\" >0.645910</td>\n",
       "      <td id=\"T_376c3_row1_col2\" class=\"data row1 col2\" >0.282057</td>\n",
       "    </tr>\n",
       "    <tr>\n",
       "      <th id=\"T_376c3_level0_row2\" class=\"row_heading level0 row2\" >resnet50</th>\n",
       "      <td id=\"T_376c3_row2_col0\" class=\"data row2 col0\" >0.903102</td>\n",
       "      <td id=\"T_376c3_row2_col1\" class=\"data row2 col1\" >0.639805</td>\n",
       "      <td id=\"T_376c3_row2_col2\" class=\"data row2 col2\" >0.263347</td>\n",
       "    </tr>\n",
       "    <tr>\n",
       "      <th id=\"T_376c3_level0_row3\" class=\"row_heading level0 row3\" >resnet101</th>\n",
       "      <td id=\"T_376c3_row3_col0\" class=\"data row3 col0\" >0.905602</td>\n",
       "      <td id=\"T_376c3_row3_col1\" class=\"data row3 col1\" >0.639805</td>\n",
       "      <td id=\"T_376c3_row3_col2\" class=\"data row3 col2\" >0.260114</td>\n",
       "    </tr>\n",
       "    <tr>\n",
       "      <th id=\"T_376c3_level0_row4\" class=\"row_heading level0 row4\" >resnet152</th>\n",
       "      <td id=\"T_376c3_row4_col0\" class=\"data row4 col0\" >0.905639</td>\n",
       "      <td id=\"T_376c3_row4_col1\" class=\"data row4 col1\" >0.639805</td>\n",
       "      <td id=\"T_376c3_row4_col2\" class=\"data row4 col2\" >0.260114</td>\n",
       "    </tr>\n",
       "    <tr>\n",
       "      <th id=\"T_376c3_level0_row5\" class=\"row_heading level0 row5\" >densenet121</th>\n",
       "      <td id=\"T_376c3_row5_col0\" class=\"data row5 col0\" >0.891714</td>\n",
       "      <td id=\"T_376c3_row5_col1\" class=\"data row5 col1\" >0.630647</td>\n",
       "      <td id=\"T_376c3_row5_col2\" class=\"data row5 col2\" >0.344975</td>\n",
       "    </tr>\n",
       "    <tr>\n",
       "      <th id=\"T_376c3_level0_row6\" class=\"row_heading level0 row6\" >densenet169</th>\n",
       "      <td id=\"T_376c3_row6_col0\" class=\"data row6 col0\" >0.877630</td>\n",
       "      <td id=\"T_376c3_row6_col1\" class=\"data row6 col1\" >0.626374</td>\n",
       "      <td id=\"T_376c3_row6_col2\" class=\"data row6 col2\" >0.328102</td>\n",
       "    </tr>\n",
       "    <tr>\n",
       "      <th id=\"T_376c3_level0_row7\" class=\"row_heading level0 row7\" >densenet201</th>\n",
       "      <td id=\"T_376c3_row7_col0\" class=\"data row7 col0\" >0.866111</td>\n",
       "      <td id=\"T_376c3_row7_col1\" class=\"data row7 col1\" >0.634310</td>\n",
       "      <td id=\"T_376c3_row7_col2\" class=\"data row7 col2\" >0.337450</td>\n",
       "    </tr>\n",
       "  </tbody>\n",
       "</table style=\"display:inline\">\n",
       "</td><td style=\"vertical-align:top\"> <style type=\"text/css\">\n",
       "#T_80732_row0_col0, #T_80732_row0_col1, #T_80732_row5_col2 {\n",
       "  color: lawngreen;\n",
       "}\n",
       "#T_80732_row4_col2, #T_80732_row5_col0, #T_80732_row7_col1 {\n",
       "  color: tomato;\n",
       "}\n",
       "</style>\n",
       "<table style=\"display:inline\" id=\"T_80732_\">\n",
       "  <thead>\n",
       "    <tr>\n",
       "      <th class=\"blank level0\" >&nbsp;</th>\n",
       "      <th class=\"col_heading level0 col0\" >Loss</th>\n",
       "      <th class=\"col_heading level0 col1\" >Accuracy</th>\n",
       "      <th class=\"col_heading level0 col2\" >F1-score</th>\n",
       "    </tr>\n",
       "  </thead>\n",
       "  <tbody>\n",
       "    <tr>\n",
       "      <th id=\"T_80732_level0_row0\" class=\"row_heading level0 row0\" >vgg16</th>\n",
       "      <td id=\"T_80732_row0_col0\" class=\"data row0 col0\" >0.826295</td>\n",
       "      <td id=\"T_80732_row0_col1\" class=\"data row0 col1\" >0.633677</td>\n",
       "      <td id=\"T_80732_row0_col2\" class=\"data row0 col2\" >0.313000</td>\n",
       "    </tr>\n",
       "    <tr>\n",
       "      <th id=\"T_80732_level0_row1\" class=\"row_heading level0 row1\" >vgg19</th>\n",
       "      <td id=\"T_80732_row1_col0\" class=\"data row1 col0\" >0.829766</td>\n",
       "      <td id=\"T_80732_row1_col1\" class=\"data row1 col1\" >0.631540</td>\n",
       "      <td id=\"T_80732_row1_col2\" class=\"data row1 col2\" >0.322781</td>\n",
       "    </tr>\n",
       "    <tr>\n",
       "      <th id=\"T_80732_level0_row2\" class=\"row_heading level0 row2\" >resnet50</th>\n",
       "      <td id=\"T_80732_row2_col0\" class=\"data row2 col0\" >0.849742</td>\n",
       "      <td id=\"T_80732_row2_col1\" class=\"data row2 col1\" >0.625007</td>\n",
       "      <td id=\"T_80732_row2_col2\" class=\"data row2 col2\" >0.264362</td>\n",
       "    </tr>\n",
       "    <tr>\n",
       "      <th id=\"T_80732_level0_row3\" class=\"row_heading level0 row3\" >resnet101</th>\n",
       "      <td id=\"T_80732_row3_col0\" class=\"data row3 col0\" >0.854330</td>\n",
       "      <td id=\"T_80732_row3_col1\" class=\"data row3 col1\" >0.626167</td>\n",
       "      <td id=\"T_80732_row3_col2\" class=\"data row3 col2\" >0.262906</td>\n",
       "    </tr>\n",
       "    <tr>\n",
       "      <th id=\"T_80732_level0_row4\" class=\"row_heading level0 row4\" >resnet152</th>\n",
       "      <td id=\"T_80732_row4_col0\" class=\"data row4 col0\" >0.861371</td>\n",
       "      <td id=\"T_80732_row4_col1\" class=\"data row4 col1\" >0.621526</td>\n",
       "      <td id=\"T_80732_row4_col2\" class=\"data row4 col2\" >0.257764</td>\n",
       "    </tr>\n",
       "    <tr>\n",
       "      <th id=\"T_80732_level0_row5\" class=\"row_heading level0 row5\" >densenet121</th>\n",
       "      <td id=\"T_80732_row5_col0\" class=\"data row5 col0\" >0.863629</td>\n",
       "      <td id=\"T_80732_row5_col1\" class=\"data row5 col1\" >0.611147</td>\n",
       "      <td id=\"T_80732_row5_col2\" class=\"data row5 col2\" >0.374106</td>\n",
       "    </tr>\n",
       "    <tr>\n",
       "      <th id=\"T_80732_level0_row6\" class=\"row_heading level0 row6\" >densenet169</th>\n",
       "      <td id=\"T_80732_row6_col0\" class=\"data row6 col0\" >0.859271</td>\n",
       "      <td id=\"T_80732_row6_col1\" class=\"data row6 col1\" >0.612491</td>\n",
       "      <td id=\"T_80732_row6_col2\" class=\"data row6 col2\" >0.354674</td>\n",
       "    </tr>\n",
       "    <tr>\n",
       "      <th id=\"T_80732_level0_row7\" class=\"row_heading level0 row7\" >densenet201</th>\n",
       "      <td id=\"T_80732_row7_col0\" class=\"data row7 col0\" >0.848568</td>\n",
       "      <td id=\"T_80732_row7_col1\" class=\"data row7 col1\" >0.610659</td>\n",
       "      <td id=\"T_80732_row7_col2\" class=\"data row7 col2\" >0.355342</td>\n",
       "    </tr>\n",
       "  </tbody>\n",
       "</table style=\"display:inline\">\n",
       "</td></tr></table style=\"display:inline\">"
      ]
     },
     "metadata": {},
     "output_type": "display_data"
    }
   ],
   "source": [
    "print('With multimodal labels\\n')\n",
    "display_dataframes((style_dataframe(df_single_scores2), style_dataframe(df_multiple_scores2), style_dataframe(df_average_scores2)), \n",
    "                   names=['MVSA-Single', 'MVSA-Multiple', 'Average'])"
   ]
  },
  {
   "cell_type": "markdown",
   "id": "7e9e1029",
   "metadata": {
    "papermill": {
     "duration": 0.014289,
     "end_time": "2022-07-01T07:20:36.142496",
     "exception": false,
     "start_time": "2022-07-01T07:20:36.128207",
     "status": "completed"
    },
    "tags": []
   },
   "source": [
    "# With merge MVSA data"
   ]
  },
  {
   "cell_type": "code",
   "execution_count": 25,
   "id": "3114a8c5",
   "metadata": {
    "execution": {
     "iopub.execute_input": "2022-07-01T07:20:36.173682Z",
     "iopub.status.busy": "2022-07-01T07:20:36.173251Z",
     "iopub.status.idle": "2022-07-01T07:21:26.980881Z",
     "shell.execute_reply": "2022-07-01T07:21:26.979838Z"
    },
    "papermill": {
     "duration": 50.826028,
     "end_time": "2022-07-01T07:21:26.983179",
     "exception": false,
     "start_time": "2022-07-01T07:20:36.157151",
     "status": "completed"
    },
    "tags": []
   },
   "outputs": [
    {
     "name": "stdout",
     "output_type": "stream",
     "text": [
      "With original image labels\n",
      "Both MVSA: vgg16\n",
      "Checkpoint loaded at epoch: 16\n",
      "\n",
      "Both MVSA: vgg19\n",
      "Checkpoint loaded at epoch: 1\n",
      "\n",
      "Both MVSA: resnet50\n",
      "Checkpoint loaded at epoch: 4\n",
      "\n",
      "Both MVSA: resnet101\n",
      "Checkpoint loaded at epoch: 4\n",
      "\n",
      "Both MVSA: resnet152\n",
      "Checkpoint loaded at epoch: 4\n",
      "\n",
      "Both MVSA: densenet121\n",
      "Checkpoint loaded at epoch: 4\n",
      "\n",
      "Both MVSA: densenet169\n",
      "Checkpoint loaded at epoch: 4\n",
      "\n",
      "Both MVSA: densenet201\n",
      "Checkpoint loaded at epoch: 4\n",
      "\n"
     ]
    }
   ],
   "source": [
    "print('With original image labels')\n",
    "mvsa_hitories3 = []\n",
    "mvsa_score3 = []\n",
    "for i in range(len(pretrained_names)):\n",
    "    print('Both MVSA:', pretrained_names[i])\n",
    "    history, scores = run_and_evaluate('single-' + pretrained_names[i], mvsa_features[i], mvsa_image_labels, verbose=0)\n",
    "    mvsa_hitories3.append(history)\n",
    "    mvsa_score3.append(scores)\n",
    "    print()\n",
    "    \n",
    "df_scores3 = pd.DataFrame(mvsa_score3, columns=['Loss', 'Accuracy', 'F1-score'], index=pretrained_names)"
   ]
  },
  {
   "cell_type": "code",
   "execution_count": 26,
   "id": "6c5b7bd6",
   "metadata": {
    "execution": {
     "iopub.execute_input": "2022-07-01T07:21:27.016808Z",
     "iopub.status.busy": "2022-07-01T07:21:27.016336Z",
     "iopub.status.idle": "2022-07-01T07:22:16.766546Z",
     "shell.execute_reply": "2022-07-01T07:22:16.765367Z"
    },
    "papermill": {
     "duration": 49.769542,
     "end_time": "2022-07-01T07:22:16.768733",
     "exception": false,
     "start_time": "2022-07-01T07:21:26.999191",
     "status": "completed"
    },
    "tags": []
   },
   "outputs": [
    {
     "name": "stdout",
     "output_type": "stream",
     "text": [
      "With multimodal labels\n",
      "Both MVSA: vgg16\n",
      "Checkpoint loaded at epoch: 1\n",
      "\n",
      "Both MVSA: vgg19\n",
      "Checkpoint loaded at epoch: 1\n",
      "\n",
      "Both MVSA: resnet50\n",
      "Checkpoint loaded at epoch: 4\n",
      "\n",
      "Both MVSA: resnet101\n",
      "Checkpoint loaded at epoch: 4\n",
      "\n",
      "Both MVSA: resnet152\n",
      "Checkpoint loaded at epoch: 4\n",
      "\n",
      "Both MVSA: densenet121\n",
      "Checkpoint loaded at epoch: 4\n",
      "\n",
      "Both MVSA: densenet169\n",
      "Checkpoint loaded at epoch: 4\n",
      "\n",
      "Both MVSA: densenet201\n",
      "Checkpoint loaded at epoch: 8\n",
      "\n"
     ]
    }
   ],
   "source": [
    "print('With multimodal labels')\n",
    "mvsa_hitories4 = []\n",
    "mvsa_score4 = []\n",
    "for i in range(len(pretrained_names)):\n",
    "    print('Both MVSA:', pretrained_names[i])\n",
    "    history, scores = run_and_evaluate('single-' + pretrained_names[i], mvsa_features[i], mvsa_multimodal_labels, verbose=0)\n",
    "    mvsa_hitories4.append(history)\n",
    "    mvsa_score4.append(scores)\n",
    "    print()\n",
    "    \n",
    "df_scores4 = pd.DataFrame(mvsa_score4, columns=['Loss', 'Accuracy', 'F1-score'], index=pretrained_names)"
   ]
  },
  {
   "cell_type": "code",
   "execution_count": 27,
   "id": "0ffd2c99",
   "metadata": {
    "execution": {
     "iopub.execute_input": "2022-07-01T07:22:16.806135Z",
     "iopub.status.busy": "2022-07-01T07:22:16.804892Z",
     "iopub.status.idle": "2022-07-01T07:22:16.840639Z",
     "shell.execute_reply": "2022-07-01T07:22:16.839408Z"
    },
    "papermill": {
     "duration": 0.056819,
     "end_time": "2022-07-01T07:22:16.843158",
     "exception": false,
     "start_time": "2022-07-01T07:22:16.786339",
     "status": "completed"
    },
    "tags": []
   },
   "outputs": [
    {
     "name": "stdout",
     "output_type": "stream",
     "text": [
      "With both MVSA merged together\n",
      "\n"
     ]
    },
    {
     "data": {
      "text/html": [
       "<table style=\"display:inline\"><tr><td style=\"text-align:center\">Original image labels</td><td style=\"text-align:center\">Multimodal labels</td></tr><tr><td style=\"vertical-align:top\"> <style type=\"text/css\">\n",
       "#T_c1584_row4_col0, #T_c1584_row4_col1, #T_c1584_row4_col2 {\n",
       "  color: tomato;\n",
       "}\n",
       "#T_c1584_row7_col0, #T_c1584_row7_col1, #T_c1584_row7_col2 {\n",
       "  color: lawngreen;\n",
       "}\n",
       "</style>\n",
       "<table style=\"display:inline\" id=\"T_c1584_\">\n",
       "  <thead>\n",
       "    <tr>\n",
       "      <th class=\"blank level0\" >&nbsp;</th>\n",
       "      <th class=\"col_heading level0 col0\" >Loss</th>\n",
       "      <th class=\"col_heading level0 col1\" >Accuracy</th>\n",
       "      <th class=\"col_heading level0 col2\" >F1-score</th>\n",
       "    </tr>\n",
       "  </thead>\n",
       "  <tbody>\n",
       "    <tr>\n",
       "      <th id=\"T_c1584_level0_row0\" class=\"row_heading level0 row0\" >vgg16</th>\n",
       "      <td id=\"T_c1584_row0_col0\" class=\"data row0 col0\" >0.859472</td>\n",
       "      <td id=\"T_c1584_row0_col1\" class=\"data row0 col1\" >0.591787</td>\n",
       "      <td id=\"T_c1584_row0_col2\" class=\"data row0 col2\" >0.371622</td>\n",
       "    </tr>\n",
       "    <tr>\n",
       "      <th id=\"T_c1584_level0_row1\" class=\"row_heading level0 row1\" >vgg19</th>\n",
       "      <td id=\"T_c1584_row1_col0\" class=\"data row1 col0\" >0.873409</td>\n",
       "      <td id=\"T_c1584_row1_col1\" class=\"data row1 col1\" >0.585507</td>\n",
       "      <td id=\"T_c1584_row1_col2\" class=\"data row1 col2\" >0.372984</td>\n",
       "    </tr>\n",
       "    <tr>\n",
       "      <th id=\"T_c1584_level0_row2\" class=\"row_heading level0 row2\" >resnet50</th>\n",
       "      <td id=\"T_c1584_row2_col0\" class=\"data row2 col0\" >0.878242</td>\n",
       "      <td id=\"T_c1584_row2_col1\" class=\"data row2 col1\" >0.576812</td>\n",
       "      <td id=\"T_c1584_row2_col2\" class=\"data row2 col2\" >0.318732</td>\n",
       "    </tr>\n",
       "    <tr>\n",
       "      <th id=\"T_c1584_level0_row3\" class=\"row_heading level0 row3\" >resnet101</th>\n",
       "      <td id=\"T_c1584_row3_col0\" class=\"data row3 col0\" >0.881290</td>\n",
       "      <td id=\"T_c1584_row3_col1\" class=\"data row3 col1\" >0.576812</td>\n",
       "      <td id=\"T_c1584_row3_col2\" class=\"data row3 col2\" >0.319176</td>\n",
       "    </tr>\n",
       "    <tr>\n",
       "      <th id=\"T_c1584_level0_row4\" class=\"row_heading level0 row4\" >resnet152</th>\n",
       "      <td id=\"T_c1584_row4_col0\" class=\"data row4 col0\" >0.881441</td>\n",
       "      <td id=\"T_c1584_row4_col1\" class=\"data row4 col1\" >0.570048</td>\n",
       "      <td id=\"T_c1584_row4_col2\" class=\"data row4 col2\" >0.286081</td>\n",
       "    </tr>\n",
       "    <tr>\n",
       "      <th id=\"T_c1584_level0_row5\" class=\"row_heading level0 row5\" >densenet121</th>\n",
       "      <td id=\"T_c1584_row5_col0\" class=\"data row5 col0\" >0.854309</td>\n",
       "      <td id=\"T_c1584_row5_col1\" class=\"data row5 col1\" >0.593720</td>\n",
       "      <td id=\"T_c1584_row5_col2\" class=\"data row5 col2\" >0.391167</td>\n",
       "    </tr>\n",
       "    <tr>\n",
       "      <th id=\"T_c1584_level0_row6\" class=\"row_heading level0 row6\" >densenet169</th>\n",
       "      <td id=\"T_c1584_row6_col0\" class=\"data row6 col0\" >0.855433</td>\n",
       "      <td id=\"T_c1584_row6_col1\" class=\"data row6 col1\" >0.586957</td>\n",
       "      <td id=\"T_c1584_row6_col2\" class=\"data row6 col2\" >0.406880</td>\n",
       "    </tr>\n",
       "    <tr>\n",
       "      <th id=\"T_c1584_level0_row7\" class=\"row_heading level0 row7\" >densenet201</th>\n",
       "      <td id=\"T_c1584_row7_col0\" class=\"data row7 col0\" >0.852574</td>\n",
       "      <td id=\"T_c1584_row7_col1\" class=\"data row7 col1\" >0.597585</td>\n",
       "      <td id=\"T_c1584_row7_col2\" class=\"data row7 col2\" >0.421582</td>\n",
       "    </tr>\n",
       "  </tbody>\n",
       "</table style=\"display:inline\">\n",
       "</td><td style=\"vertical-align:top\"> <style type=\"text/css\">\n",
       "#T_c31ff_row0_col2, #T_c31ff_row1_col0, #T_c31ff_row5_col1 {\n",
       "  color: tomato;\n",
       "}\n",
       "#T_c31ff_row6_col0, #T_c31ff_row7_col1, #T_c31ff_row7_col2 {\n",
       "  color: lawngreen;\n",
       "}\n",
       "</style>\n",
       "<table style=\"display:inline\" id=\"T_c31ff_\">\n",
       "  <thead>\n",
       "    <tr>\n",
       "      <th class=\"blank level0\" >&nbsp;</th>\n",
       "      <th class=\"col_heading level0 col0\" >Loss</th>\n",
       "      <th class=\"col_heading level0 col1\" >Accuracy</th>\n",
       "      <th class=\"col_heading level0 col2\" >F1-score</th>\n",
       "    </tr>\n",
       "  </thead>\n",
       "  <tbody>\n",
       "    <tr>\n",
       "      <th id=\"T_c31ff_level0_row0\" class=\"row_heading level0 row0\" >vgg16</th>\n",
       "      <td id=\"T_c31ff_row0_col0\" class=\"data row0 col0\" >0.847671</td>\n",
       "      <td id=\"T_c31ff_row0_col1\" class=\"data row0 col1\" >0.662319</td>\n",
       "      <td id=\"T_c31ff_row0_col2\" class=\"data row0 col2\" >0.267022</td>\n",
       "    </tr>\n",
       "    <tr>\n",
       "      <th id=\"T_c31ff_level0_row1\" class=\"row_heading level0 row1\" >vgg19</th>\n",
       "      <td id=\"T_c31ff_row1_col0\" class=\"data row1 col0\" >0.851658</td>\n",
       "      <td id=\"T_c31ff_row1_col1\" class=\"data row1 col1\" >0.663768</td>\n",
       "      <td id=\"T_c31ff_row1_col2\" class=\"data row1 col2\" >0.269942</td>\n",
       "    </tr>\n",
       "    <tr>\n",
       "      <th id=\"T_c31ff_level0_row2\" class=\"row_heading level0 row2\" >resnet50</th>\n",
       "      <td id=\"T_c31ff_row2_col0\" class=\"data row2 col0\" >0.838595</td>\n",
       "      <td id=\"T_c31ff_row2_col1\" class=\"data row2 col1\" >0.661836</td>\n",
       "      <td id=\"T_c31ff_row2_col2\" class=\"data row2 col2\" >0.270799</td>\n",
       "    </tr>\n",
       "    <tr>\n",
       "      <th id=\"T_c31ff_level0_row3\" class=\"row_heading level0 row3\" >resnet101</th>\n",
       "      <td id=\"T_c31ff_row3_col0\" class=\"data row3 col0\" >0.840538</td>\n",
       "      <td id=\"T_c31ff_row3_col1\" class=\"data row3 col1\" >0.663285</td>\n",
       "      <td id=\"T_c31ff_row3_col2\" class=\"data row3 col2\" >0.269817</td>\n",
       "    </tr>\n",
       "    <tr>\n",
       "      <th id=\"T_c31ff_level0_row4\" class=\"row_heading level0 row4\" >resnet152</th>\n",
       "      <td id=\"T_c31ff_row4_col0\" class=\"data row4 col0\" >0.842235</td>\n",
       "      <td id=\"T_c31ff_row4_col1\" class=\"data row4 col1\" >0.663285</td>\n",
       "      <td id=\"T_c31ff_row4_col2\" class=\"data row4 col2\" >0.273682</td>\n",
       "    </tr>\n",
       "    <tr>\n",
       "      <th id=\"T_c31ff_level0_row5\" class=\"row_heading level0 row5\" >densenet121</th>\n",
       "      <td id=\"T_c31ff_row5_col0\" class=\"data row5 col0\" >0.827224</td>\n",
       "      <td id=\"T_c31ff_row5_col1\" class=\"data row5 col1\" >0.651208</td>\n",
       "      <td id=\"T_c31ff_row5_col2\" class=\"data row5 col2\" >0.342236</td>\n",
       "    </tr>\n",
       "    <tr>\n",
       "      <th id=\"T_c31ff_level0_row6\" class=\"row_heading level0 row6\" >densenet169</th>\n",
       "      <td id=\"T_c31ff_row6_col0\" class=\"data row6 col0\" >0.820361</td>\n",
       "      <td id=\"T_c31ff_row6_col1\" class=\"data row6 col1\" >0.657488</td>\n",
       "      <td id=\"T_c31ff_row6_col2\" class=\"data row6 col2\" >0.350253</td>\n",
       "    </tr>\n",
       "    <tr>\n",
       "      <th id=\"T_c31ff_level0_row7\" class=\"row_heading level0 row7\" >densenet201</th>\n",
       "      <td id=\"T_c31ff_row7_col0\" class=\"data row7 col0\" >0.841692</td>\n",
       "      <td id=\"T_c31ff_row7_col1\" class=\"data row7 col1\" >0.664251</td>\n",
       "      <td id=\"T_c31ff_row7_col2\" class=\"data row7 col2\" >0.355671</td>\n",
       "    </tr>\n",
       "  </tbody>\n",
       "</table style=\"display:inline\">\n",
       "</td></tr></table style=\"display:inline\">"
      ]
     },
     "metadata": {},
     "output_type": "display_data"
    }
   ],
   "source": [
    "print('With both MVSA merged together\\n')\n",
    "display_dataframes((style_dataframe(df_scores3), style_dataframe(df_scores4)), \n",
    "                   names=['Original image labels', 'Multimodal labels'])"
   ]
  }
 ],
 "metadata": {
  "kernelspec": {
   "display_name": "Python 3",
   "language": "python",
   "name": "python3"
  },
  "language_info": {
   "codemirror_mode": {
    "name": "ipython",
    "version": 3
   },
   "file_extension": ".py",
   "mimetype": "text/x-python",
   "name": "python",
   "nbconvert_exporter": "python",
   "pygments_lexer": "ipython3",
   "version": "3.7.12"
  },
  "papermill": {
   "default_parameters": {},
   "duration": 299.791423,
   "end_time": "2022-07-01T07:22:20.488706",
   "environment_variables": {},
   "exception": null,
   "input_path": "__notebook__.ipynb",
   "output_path": "__notebook__.ipynb",
   "parameters": {},
   "start_time": "2022-07-01T07:17:20.697283",
   "version": "2.3.4"
  }
 },
 "nbformat": 4,
 "nbformat_minor": 5
}
