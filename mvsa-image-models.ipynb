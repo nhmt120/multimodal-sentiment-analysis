{
 "cells": [
  {
   "cell_type": "code",
   "execution_count": 1,
   "id": "a523fb49",
   "metadata": {
    "_cell_guid": "b1076dfc-b9ad-4769-8c92-a6c4dae69d19",
    "_uuid": "8f2839f25d086af736a60e9eeb907d3b93b6e0e5",
    "execution": {
     "iopub.execute_input": "2022-06-30T11:57:38.070562Z",
     "iopub.status.busy": "2022-06-30T11:57:38.070098Z",
     "iopub.status.idle": "2022-06-30T11:57:52.201189Z",
     "shell.execute_reply": "2022-06-30T11:57:52.199974Z"
    },
    "papermill": {
     "duration": 14.144114,
     "end_time": "2022-06-30T11:57:52.204682",
     "exception": false,
     "start_time": "2022-06-30T11:57:38.060568",
     "status": "completed"
    },
    "tags": []
   },
   "outputs": [],
   "source": [
    "SEED = 61\n",
    "\n",
    "\n",
    "import os\n",
    "import re\n",
    "import gc\n",
    "import h5py\n",
    "import torch\n",
    "import numpy as np\n",
    "import pandas as pd\n",
    "import tensorflow as tf\n",
    "import random as python_random\n",
    "import matplotlib.pyplot as plt\n",
    "import tensorflow_addons as tfa\n",
    "\n",
    "from tqdm import tqdm\n",
    "from nltk import tokenize\n",
    "\n",
    "from sklearn import preprocessing\n",
    "from sklearn.decomposition import PCA\n",
    "\n",
    "from keras import backend as K\n",
    "from keras import initializers,regularizers,constraints\n",
    "from keras.preprocessing.text import Tokenizer, text_to_word_sequence\n",
    "from keras.preprocessing.sequence import pad_sequences\n",
    "from keras.utils.np_utils import to_categorical\n",
    "from keras.layers import Reshape, Input, Embedding, Flatten, Dense, Dropout, BatchNormalization, Activation #, merge\n",
    "from keras.layers import TimeDistributed, LSTM, GRU, Bidirectional, Convolution1D, MaxPooling1D, MaxPooling2D\n",
    "from keras.layers.core import RepeatVector, Reshape\n",
    "from keras.callbacks import ModelCheckpoint, EarlyStopping, ReduceLROnPlateau\n",
    "from keras.models import Sequential, Model, load_model\n",
    "from sklearn.model_selection import cross_val_score\n",
    "\n",
    "def reset_seeds():\n",
    "    np.random.seed(SEED) \n",
    "    python_random.seed(SEED)\n",
    "    tf.random.set_seed(SEED)\n",
    "    os.environ[\"PYTHONHASHSEED\"] = str(SEED)\n",
    "\n",
    "# from tensorflow.python.keras.layers import Layer, InputSpec, Lambda\n",
    "# from tensorflow.keras import Model\n",
    "# from attention import Attention_input1, Attention_input2\n",
    "# from keras.optimizers import SGD, RMSprop, Adagrad"
   ]
  },
  {
   "cell_type": "code",
   "execution_count": 2,
   "id": "fe121f68",
   "metadata": {
    "execution": {
     "iopub.execute_input": "2022-06-30T11:57:52.220700Z",
     "iopub.status.busy": "2022-06-30T11:57:52.219142Z",
     "iopub.status.idle": "2022-06-30T11:57:52.228579Z",
     "shell.execute_reply": "2022-06-30T11:57:52.227313Z"
    },
    "papermill": {
     "duration": 0.019608,
     "end_time": "2022-06-30T11:57:52.230987",
     "exception": false,
     "start_time": "2022-06-30T11:57:52.211379",
     "status": "completed"
    },
    "tags": []
   },
   "outputs": [],
   "source": [
    "def read_hdf5(path):\n",
    "    read_file = h5py.File(path, 'r')\n",
    "    \n",
    "    feature_names = list(read_file.keys())\n",
    "    loaded_data = []\n",
    "    \n",
    "    for name in feature_names:\n",
    "        dataset = read_file[name][:]\n",
    "        if dataset.dtype == np.dtype('object'):\n",
    "            dataset = np.array([x.decode('UTF-8') for x in dataset])            \n",
    "        loaded_data.append((name, dataset))\n",
    "\n",
    "    return loaded_data\n",
    "\n",
    "def loadz(path):\n",
    "    data = np.load(path)['arr_0']\n",
    "    return data"
   ]
  },
  {
   "cell_type": "code",
   "execution_count": 3,
   "id": "d44c90ce",
   "metadata": {
    "execution": {
     "iopub.execute_input": "2022-06-30T11:57:52.246682Z",
     "iopub.status.busy": "2022-06-30T11:57:52.246080Z",
     "iopub.status.idle": "2022-06-30T11:57:52.256680Z",
     "shell.execute_reply": "2022-06-30T11:57:52.255617Z"
    },
    "papermill": {
     "duration": 0.021806,
     "end_time": "2022-06-30T11:57:52.259099",
     "exception": false,
     "start_time": "2022-06-30T11:57:52.237293",
     "status": "completed"
    },
    "tags": []
   },
   "outputs": [],
   "source": [
    "def merge_mvsa(mvsa_single, mvsa_multiple):\n",
    "    mvsa = np.concatenate((mvsa_single, mvsa_multiple), axis=0)\n",
    "    return mvsa\n",
    "\n",
    "def load_mvsa_feature(feature_name, merge=False):\n",
    "    folder_path = os.path.join('../input/mvsa-features/', feature_name)\n",
    "    single_file = 'mvsa-single-{}.npz'.format(feature_name)\n",
    "    multiple_file = 'mvsa-multiple-{}.npz'.format(feature_name)\n",
    "    mvsa_single = loadz(os.path.join(folder_path, single_file))\n",
    "    mvsa_multiple = loadz(os.path.join(folder_path, multiple_file))\n",
    "    \n",
    "    if merge == True:\n",
    "        return merge_mvsa(mvsa_single, mvsa_multiple)\n",
    "    \n",
    "    return mvsa_single, mvsa_multiple\n",
    "\n",
    "def load_labels(path):\n",
    "    data = read_hdf5(path)\n",
    "\n",
    "    for x in data:\n",
    "        if x[0] == 'multimodal-labels':\n",
    "            labels = x[1]\n",
    "        if x[0] == 'text-labels':\n",
    "            text_labels = x[1]\n",
    "        if x[0] == 'image-labels':\n",
    "            image_labels = x[1]\n",
    "        \n",
    "    return labels, text_labels, image_labels"
   ]
  },
  {
   "cell_type": "code",
   "execution_count": 4,
   "id": "bfd5ccb1",
   "metadata": {
    "execution": {
     "iopub.execute_input": "2022-06-30T11:57:52.273598Z",
     "iopub.status.busy": "2022-06-30T11:57:52.273219Z",
     "iopub.status.idle": "2022-06-30T11:57:52.283978Z",
     "shell.execute_reply": "2022-06-30T11:57:52.282756Z"
    },
    "papermill": {
     "duration": 0.020796,
     "end_time": "2022-06-30T11:57:52.286182",
     "exception": false,
     "start_time": "2022-06-30T11:57:52.265386",
     "status": "completed"
    },
    "tags": []
   },
   "outputs": [],
   "source": [
    "def plot_metrics(history):\n",
    "    fig = plt.figure(figsize=(20, 5))\n",
    "\n",
    "    fig.add_subplot(1, 3, 1)\n",
    "    plt.plot(history.history['loss'])\n",
    "    plt.plot(history.history['val_loss'])\n",
    "    plt.title('LOSS')\n",
    "    plt.ylabel('loss')\n",
    "    plt.xlabel('epoch')\n",
    "    plt.legend(['train', 'val'], loc='best')\n",
    "\n",
    "    fig.add_subplot(1, 3, 2)\n",
    "    plt.plot(history.history['accuracy'])\n",
    "    plt.plot(history.history['val_accuracy'])\n",
    "    plt.title('ACCURACY')\n",
    "    plt.ylabel('accuracy')\n",
    "    plt.xlabel('epoch')\n",
    "    plt.legend(['train', 'val'], loc='best')\n",
    "\n",
    "    fig.add_subplot(1, 3, 3)\n",
    "    plt.plot(history.history['f1_score'])\n",
    "    plt.plot(history.history['val_f1_score'])\n",
    "    plt.title('F1-SCORE')\n",
    "    plt.ylabel('f1-score')\n",
    "    plt.xlabel('epoch')\n",
    "    plt.legend(['train', 'val'], loc='best')\n",
    "\n",
    "    plt.show()"
   ]
  },
  {
   "cell_type": "code",
   "execution_count": 5,
   "id": "07f49b53",
   "metadata": {
    "execution": {
     "iopub.execute_input": "2022-06-30T11:57:52.300619Z",
     "iopub.status.busy": "2022-06-30T11:57:52.300258Z",
     "iopub.status.idle": "2022-06-30T11:57:52.306504Z",
     "shell.execute_reply": "2022-06-30T11:57:52.305170Z"
    },
    "papermill": {
     "duration": 0.016353,
     "end_time": "2022-06-30T11:57:52.308755",
     "exception": false,
     "start_time": "2022-06-30T11:57:52.292402",
     "status": "completed"
    },
    "tags": []
   },
   "outputs": [],
   "source": [
    "# e.g. validation_split=0.1 -----> 8:1:1 ratio of train, val, test\n",
    "def split_data(data, validation_split):\n",
    "    num_val = int(validation_split * data.shape[0])\n",
    "    data_train = data[:-(num_val*2)]\n",
    "    data_val = data[-(num_val*2):-(num_val)]\n",
    "    data_test = data[-num_val:]\n",
    "    return data_train, data_val, data_test"
   ]
  },
  {
   "cell_type": "code",
   "execution_count": 6,
   "id": "d42a654b",
   "metadata": {
    "execution": {
     "iopub.execute_input": "2022-06-30T11:57:52.323140Z",
     "iopub.status.busy": "2022-06-30T11:57:52.322785Z",
     "iopub.status.idle": "2022-06-30T11:57:52.328947Z",
     "shell.execute_reply": "2022-06-30T11:57:52.327776Z"
    },
    "papermill": {
     "duration": 0.016221,
     "end_time": "2022-06-30T11:57:52.331177",
     "exception": false,
     "start_time": "2022-06-30T11:57:52.314956",
     "status": "completed"
    },
    "tags": []
   },
   "outputs": [],
   "source": [
    "def create_model_pretrained(input_shape):\n",
    "    f1_score = tfa.metrics.F1Score(num_classes=NUM_CLASSES, average='micro')\n",
    "    \n",
    "    image_input = Input(shape=input_shape)\n",
    "    outputs = Dense(NUM_CLASSES, activation='softmax') (image_input)\n",
    "    \n",
    "    model = Model(image_input, outputs)\n",
    "    model.compile(optimizer='adam', loss='categorical_crossentropy', metrics=['accuracy', f1_score]) # f1 #tf.keras.metrics.AUC()\n",
    "    return model"
   ]
  },
  {
   "cell_type": "code",
   "execution_count": 7,
   "id": "2c294268",
   "metadata": {
    "execution": {
     "iopub.execute_input": "2022-06-30T11:57:52.345487Z",
     "iopub.status.busy": "2022-06-30T11:57:52.345123Z",
     "iopub.status.idle": "2022-06-30T11:57:52.351412Z",
     "shell.execute_reply": "2022-06-30T11:57:52.350596Z"
    },
    "papermill": {
     "duration": 0.015895,
     "end_time": "2022-06-30T11:57:52.353538",
     "exception": false,
     "start_time": "2022-06-30T11:57:52.337643",
     "status": "completed"
    },
    "tags": []
   },
   "outputs": [],
   "source": [
    "def evaluate_model(model, X_test, y_test, checkpoint=None, verbose=1):\n",
    "    if checkpoint is not None:\n",
    "        model = load_model('./model_checkpoint/{}.h5'.format(checkpoint))#, custom_objects={'f1': f1})\n",
    "    \n",
    "    loss, acc, f1 = model.evaluate(X_test, y_test, verbose=verbose)\n",
    "    \n",
    "    if verbose == 1:\n",
    "        print('Loss:', loss)\n",
    "        print('Accuracy:', acc)\n",
    "        print('F1-score:', f1)\n",
    "        \n",
    "    return loss, acc, f1"
   ]
  },
  {
   "cell_type": "code",
   "execution_count": 8,
   "id": "a6d3ecbd",
   "metadata": {
    "execution": {
     "iopub.execute_input": "2022-06-30T11:57:52.367984Z",
     "iopub.status.busy": "2022-06-30T11:57:52.367337Z",
     "iopub.status.idle": "2022-06-30T11:57:52.375629Z",
     "shell.execute_reply": "2022-06-30T11:57:52.374684Z"
    },
    "papermill": {
     "duration": 0.018099,
     "end_time": "2022-06-30T11:57:52.377819",
     "exception": false,
     "start_time": "2022-06-30T11:57:52.359720",
     "status": "completed"
    },
    "tags": []
   },
   "outputs": [],
   "source": [
    "def run_and_evaluate(name, X, y, verbose=0):\n",
    "    y = le.fit_transform(y)\n",
    "    y = to_categorical(np.asarray(y))\n",
    "    \n",
    "    X_train, X_val, X_test = split_data(X, VALIDATION_SPLIT)\n",
    "    y_train, y_val, y_test = split_data(y, VALIDATION_SPLIT)\n",
    "    \n",
    "    model = create_model_pretrained(X_train.shape[1:])\n",
    "    early_stopping = EarlyStopping(monitor='val_loss', min_delta=1e-4, patience=EARLY_STOPPING)\n",
    "    checkpoint = ModelCheckpoint('./model_checkpoint/{}.h5'.format(name), save_best_only=True, verbose=verbose)\n",
    "    \n",
    "    history = model.fit(X_train, y_train, validation_data=(X_val, y_val), \n",
    "                                   epochs=EPOCHS, batch_size=BATCH_SIZE, verbose=verbose,\n",
    "                                   callbacks=[checkpoint, early_stopping])\n",
    "    \n",
    "    return history, evaluate_model(model, X_test, y_test, checkpoint=name, verbose=verbose)"
   ]
  },
  {
   "cell_type": "markdown",
   "id": "0420848a",
   "metadata": {
    "papermill": {
     "duration": 0.006115,
     "end_time": "2022-06-30T11:57:52.390119",
     "exception": false,
     "start_time": "2022-06-30T11:57:52.384004",
     "status": "completed"
    },
    "tags": []
   },
   "source": [
    "# Load data"
   ]
  },
  {
   "cell_type": "code",
   "execution_count": 9,
   "id": "78dd01c9",
   "metadata": {
    "execution": {
     "iopub.execute_input": "2022-06-30T11:57:52.404663Z",
     "iopub.status.busy": "2022-06-30T11:57:52.404011Z",
     "iopub.status.idle": "2022-06-30T11:58:05.482447Z",
     "shell.execute_reply": "2022-06-30T11:58:05.481278Z"
    },
    "papermill": {
     "duration": 13.088696,
     "end_time": "2022-06-30T11:58:05.485122",
     "exception": false,
     "start_time": "2022-06-30T11:57:52.396426",
     "status": "completed"
    },
    "tags": []
   },
   "outputs": [],
   "source": [
    "# load separate\n",
    "mvsa_single_vgg16, mvsa_multiple_vgg16 = load_mvsa_feature('vgg16')\n",
    "mvsa_single_vgg19, mvsa_multiple_vgg19 = load_mvsa_feature('vgg19')\n",
    "mvsa_single_resnet50, mvsa_multiple_resnet50 = load_mvsa_feature('resnet50')\n",
    "mvsa_single_resnet101, mvsa_multiple_resnet101 = load_mvsa_feature('resnet101')\n",
    "mvsa_single_resnet152, mvsa_multiple_resnet152 = load_mvsa_feature('resnet152')\n",
    "mvsa_single_densenet121, mvsa_multiple_densenet121 = load_mvsa_feature('densenet121')\n",
    "mvsa_single_densenet169, mvsa_multiple_densenet169 = load_mvsa_feature('densenet169')\n",
    "mvsa_single_densenet201, mvsa_multiple_densenet201 = load_mvsa_feature('densenet201')"
   ]
  },
  {
   "cell_type": "code",
   "execution_count": 10,
   "id": "ab8b888e",
   "metadata": {
    "execution": {
     "iopub.execute_input": "2022-06-30T11:58:05.499535Z",
     "iopub.status.busy": "2022-06-30T11:58:05.499137Z",
     "iopub.status.idle": "2022-06-30T11:58:08.960588Z",
     "shell.execute_reply": "2022-06-30T11:58:08.959332Z"
    },
    "papermill": {
     "duration": 3.471638,
     "end_time": "2022-06-30T11:58:08.963195",
     "exception": false,
     "start_time": "2022-06-30T11:58:05.491557",
     "status": "completed"
    },
    "tags": []
   },
   "outputs": [],
   "source": [
    "# load merge\n",
    "mvsa_vgg16 = load_mvsa_feature('vgg16', merge=True)\n",
    "mvsa_vgg19 = load_mvsa_feature('vgg19', merge=True)\n",
    "mvsa_resnet50 = load_mvsa_feature('resnet50', merge=True)\n",
    "mvsa_resnet101 = load_mvsa_feature('resnet101', merge=True)\n",
    "mvsa_resnet152 = load_mvsa_feature('resnet152', merge=True)\n",
    "mvsa_densenet121 = load_mvsa_feature('densenet121', merge=True)\n",
    "mvsa_densenet169 = load_mvsa_feature('densenet169', merge=True)\n",
    "mvsa_densenet201 = load_mvsa_feature('densenet201', merge=True)"
   ]
  },
  {
   "cell_type": "code",
   "execution_count": 11,
   "id": "aea177cd",
   "metadata": {
    "execution": {
     "iopub.execute_input": "2022-06-30T11:58:08.977442Z",
     "iopub.status.busy": "2022-06-30T11:58:08.977039Z",
     "iopub.status.idle": "2022-06-30T11:58:09.130469Z",
     "shell.execute_reply": "2022-06-30T11:58:09.129270Z"
    },
    "papermill": {
     "duration": 0.164192,
     "end_time": "2022-06-30T11:58:09.133736",
     "exception": false,
     "start_time": "2022-06-30T11:58:08.969544",
     "status": "completed"
    },
    "tags": []
   },
   "outputs": [],
   "source": [
    "mvsa_single_multimodal_labels, mvsa_single_text_labels, mvsa_single_image_labels = load_labels('../input/mvsa-features/labels/mvsa-single-labels.hdf5')\n",
    "mvsa_multiple_multimodal_labels, mvsa_multiple_text_labels, mvsa_multiple_image_labels = load_labels('../input/mvsa-features/labels/mvsa-multiple-labels.hdf5')\n",
    "\n",
    "mvsa_multimodal_labels = merge_mvsa(mvsa_single_multimodal_labels, mvsa_multiple_multimodal_labels)\n",
    "mvsa_text_labels = merge_mvsa(mvsa_single_text_labels, mvsa_multiple_text_labels)\n",
    "mvsa_image_labels = merge_mvsa(mvsa_single_image_labels, mvsa_multiple_image_labels)"
   ]
  },
  {
   "cell_type": "code",
   "execution_count": 12,
   "id": "c20d7771",
   "metadata": {
    "execution": {
     "iopub.execute_input": "2022-06-30T11:58:09.148767Z",
     "iopub.status.busy": "2022-06-30T11:58:09.148374Z",
     "iopub.status.idle": "2022-06-30T11:58:09.156633Z",
     "shell.execute_reply": "2022-06-30T11:58:09.155407Z"
    },
    "papermill": {
     "duration": 0.019063,
     "end_time": "2022-06-30T11:58:09.159060",
     "exception": false,
     "start_time": "2022-06-30T11:58:09.139997",
     "status": "completed"
    },
    "tags": []
   },
   "outputs": [],
   "source": [
    "le = preprocessing.LabelEncoder()\n",
    "le.fit(mvsa_multimodal_labels)\n",
    "NUM_CLASSES = len(le.classes_) # =3"
   ]
  },
  {
   "cell_type": "code",
   "execution_count": 13,
   "id": "aaa0ba2b",
   "metadata": {
    "execution": {
     "iopub.execute_input": "2022-06-30T11:58:09.173344Z",
     "iopub.status.busy": "2022-06-30T11:58:09.172935Z",
     "iopub.status.idle": "2022-06-30T11:58:09.179325Z",
     "shell.execute_reply": "2022-06-30T11:58:09.178324Z"
    },
    "papermill": {
     "duration": 0.01595,
     "end_time": "2022-06-30T11:58:09.181498",
     "exception": false,
     "start_time": "2022-06-30T11:58:09.165548",
     "status": "completed"
    },
    "tags": []
   },
   "outputs": [],
   "source": [
    "# prepare all features data\n",
    "pretrained_names = ['vgg16', 'vgg19', 'resnet50', 'resnet101', 'resnet152', 'densenet121', 'densenet169', 'densenet201']\n",
    "# single_pretrained_names = ['single-' + name for name in pretrained_names]\n",
    "# multiple_pretrained_names = ['multiple-' + name for name in pretrained_names]\n",
    "\n",
    "mvsa_single_features = [mvsa_single_vgg16, mvsa_single_vgg19, \n",
    "                        mvsa_single_resnet50, mvsa_single_resnet101, mvsa_single_resnet152, \n",
    "                        mvsa_single_densenet121, mvsa_single_densenet169, mvsa_single_densenet201]\n",
    "\n",
    "mvsa_multiple_features = [mvsa_multiple_vgg16, mvsa_multiple_vgg19, \n",
    "                          mvsa_multiple_resnet50, mvsa_multiple_resnet101, mvsa_multiple_resnet152, \n",
    "                          mvsa_multiple_densenet121, mvsa_multiple_densenet169, mvsa_multiple_densenet201]"
   ]
  },
  {
   "cell_type": "markdown",
   "id": "2155b30e",
   "metadata": {
    "papermill": {
     "duration": 0.005915,
     "end_time": "2022-06-30T11:58:09.193548",
     "exception": false,
     "start_time": "2022-06-30T11:58:09.187633",
     "status": "completed"
    },
    "tags": []
   },
   "source": [
    "# Run models and Evalution display"
   ]
  },
  {
   "cell_type": "code",
   "execution_count": 14,
   "id": "3a5fe4f6",
   "metadata": {
    "execution": {
     "iopub.execute_input": "2022-06-30T11:58:09.207304Z",
     "iopub.status.busy": "2022-06-30T11:58:09.206899Z",
     "iopub.status.idle": "2022-06-30T11:58:09.212373Z",
     "shell.execute_reply": "2022-06-30T11:58:09.211199Z"
    },
    "papermill": {
     "duration": 0.015099,
     "end_time": "2022-06-30T11:58:09.214697",
     "exception": false,
     "start_time": "2022-06-30T11:58:09.199598",
     "status": "completed"
    },
    "tags": []
   },
   "outputs": [],
   "source": [
    "reset_seeds()\n",
    "EPOCHS = 100\n",
    "BATCH_SIZE = 1000\n",
    "VALIDATION_SPLIT = 0.1\n",
    "EARLY_STOPPING = 10"
   ]
  },
  {
   "cell_type": "code",
   "execution_count": 15,
   "id": "e406ac79",
   "metadata": {
    "execution": {
     "iopub.execute_input": "2022-06-30T11:58:09.229312Z",
     "iopub.status.busy": "2022-06-30T11:58:09.228197Z",
     "iopub.status.idle": "2022-06-30T11:58:50.437532Z",
     "shell.execute_reply": "2022-06-30T11:58:50.435930Z"
    },
    "papermill": {
     "duration": 41.219265,
     "end_time": "2022-06-30T11:58:50.440066",
     "exception": false,
     "start_time": "2022-06-30T11:58:09.220801",
     "status": "completed"
    },
    "tags": []
   },
   "outputs": [
    {
     "name": "stdout",
     "output_type": "stream",
     "text": [
      "MVSA-Single: vgg16\n"
     ]
    },
    {
     "name": "stderr",
     "output_type": "stream",
     "text": [
      "2022-06-30 11:58:09.280643: I tensorflow/core/common_runtime/process_util.cc:146] Creating new thread pool with default inter op setting: 2. Tune using inter_op_parallelism_threads for best performance.\n",
      "2022-06-30 11:58:09.509501: I tensorflow/compiler/mlir/mlir_graph_optimization_pass.cc:185] None of the MLIR Optimization Passes are enabled (registered 2)\n"
     ]
    },
    {
     "name": "stdout",
     "output_type": "stream",
     "text": [
      "\n",
      "MVSA-Single: vgg19\n",
      "\n",
      "MVSA-Single: resnet50\n",
      "\n",
      "MVSA-Single: resnet101\n",
      "\n",
      "MVSA-Single: resnet152\n",
      "\n",
      "MVSA-Single: densenet121\n",
      "\n",
      "MVSA-Single: densenet169\n",
      "\n",
      "MVSA-Single: densenet201\n",
      "\n"
     ]
    }
   ],
   "source": [
    "# run model with all features data of MVSA-Single\n",
    "mvsa_single_hitories = []\n",
    "mvsa_single_score = []\n",
    "for i in range(len(pretrained_names)):\n",
    "    print('MVSA-Single:', pretrained_names[i])\n",
    "    history, scores = run_and_evaluate('single-' + pretrained_names[i], mvsa_single_features[i], mvsa_single_image_labels, verbose=0)\n",
    "    mvsa_single_hitories.append(history)\n",
    "    mvsa_single_score.append(scores)\n",
    "    print()"
   ]
  },
  {
   "cell_type": "code",
   "execution_count": 16,
   "id": "f9d04748",
   "metadata": {
    "execution": {
     "iopub.execute_input": "2022-06-30T11:58:50.457067Z",
     "iopub.status.busy": "2022-06-30T11:58:50.456011Z",
     "iopub.status.idle": "2022-06-30T11:58:50.547972Z",
     "shell.execute_reply": "2022-06-30T11:58:50.546616Z"
    },
    "papermill": {
     "duration": 0.102729,
     "end_time": "2022-06-30T11:58:50.550578",
     "exception": false,
     "start_time": "2022-06-30T11:58:50.447849",
     "status": "completed"
    },
    "tags": []
   },
   "outputs": [
    {
     "name": "stdout",
     "output_type": "stream",
     "text": [
      "MVSA-Single\n"
     ]
    },
    {
     "data": {
      "text/html": [
       "<style type=\"text/css\">\n",
       "#T_82102_row4_col0, #T_82102_row7_col1, #T_82102_row7_col2 {\n",
       "  color: orange;\n",
       "}\n",
       "</style>\n",
       "<table id=\"T_82102_\">\n",
       "  <thead>\n",
       "    <tr>\n",
       "      <th class=\"blank level0\" >&nbsp;</th>\n",
       "      <th class=\"col_heading level0 col0\" >Loss</th>\n",
       "      <th class=\"col_heading level0 col1\" >Accuracy</th>\n",
       "      <th class=\"col_heading level0 col2\" >F1-score</th>\n",
       "    </tr>\n",
       "  </thead>\n",
       "  <tbody>\n",
       "    <tr>\n",
       "      <th id=\"T_82102_level0_row0\" class=\"row_heading level0 row0\" >vgg16</th>\n",
       "      <td id=\"T_82102_row0_col0\" class=\"data row0 col0\" >0.867092</td>\n",
       "      <td id=\"T_82102_row0_col1\" class=\"data row0 col1\" >0.589327</td>\n",
       "      <td id=\"T_82102_row0_col2\" class=\"data row0 col2\" >0.589327</td>\n",
       "    </tr>\n",
       "    <tr>\n",
       "      <th id=\"T_82102_level0_row1\" class=\"row_heading level0 row1\" >vgg19</th>\n",
       "      <td id=\"T_82102_row1_col0\" class=\"data row1 col0\" >0.871784</td>\n",
       "      <td id=\"T_82102_row1_col1\" class=\"data row1 col1\" >0.600928</td>\n",
       "      <td id=\"T_82102_row1_col2\" class=\"data row1 col2\" >0.600928</td>\n",
       "    </tr>\n",
       "    <tr>\n",
       "      <th id=\"T_82102_level0_row2\" class=\"row_heading level0 row2\" >resnet50</th>\n",
       "      <td id=\"T_82102_row2_col0\" class=\"data row2 col0\" >0.926033</td>\n",
       "      <td id=\"T_82102_row2_col1\" class=\"data row2 col1\" >0.573086</td>\n",
       "      <td id=\"T_82102_row2_col2\" class=\"data row2 col2\" >0.573086</td>\n",
       "    </tr>\n",
       "    <tr>\n",
       "      <th id=\"T_82102_level0_row3\" class=\"row_heading level0 row3\" >resnet101</th>\n",
       "      <td id=\"T_82102_row3_col0\" class=\"data row3 col0\" >0.937503</td>\n",
       "      <td id=\"T_82102_row3_col1\" class=\"data row3 col1\" >0.554524</td>\n",
       "      <td id=\"T_82102_row3_col2\" class=\"data row3 col2\" >0.554524</td>\n",
       "    </tr>\n",
       "    <tr>\n",
       "      <th id=\"T_82102_level0_row4\" class=\"row_heading level0 row4\" >resnet152</th>\n",
       "      <td id=\"T_82102_row4_col0\" class=\"data row4 col0\" >0.954709</td>\n",
       "      <td id=\"T_82102_row4_col1\" class=\"data row4 col1\" >0.559165</td>\n",
       "      <td id=\"T_82102_row4_col2\" class=\"data row4 col2\" >0.559165</td>\n",
       "    </tr>\n",
       "    <tr>\n",
       "      <th id=\"T_82102_level0_row5\" class=\"row_heading level0 row5\" >densenet121</th>\n",
       "      <td id=\"T_82102_row5_col0\" class=\"data row5 col0\" >0.914535</td>\n",
       "      <td id=\"T_82102_row5_col1\" class=\"data row5 col1\" >0.600928</td>\n",
       "      <td id=\"T_82102_row5_col2\" class=\"data row5 col2\" >0.600928</td>\n",
       "    </tr>\n",
       "    <tr>\n",
       "      <th id=\"T_82102_level0_row6\" class=\"row_heading level0 row6\" >densenet169</th>\n",
       "      <td id=\"T_82102_row6_col0\" class=\"data row6 col0\" >0.924687</td>\n",
       "      <td id=\"T_82102_row6_col1\" class=\"data row6 col1\" >0.568446</td>\n",
       "      <td id=\"T_82102_row6_col2\" class=\"data row6 col2\" >0.568446</td>\n",
       "    </tr>\n",
       "    <tr>\n",
       "      <th id=\"T_82102_level0_row7\" class=\"row_heading level0 row7\" >densenet201</th>\n",
       "      <td id=\"T_82102_row7_col0\" class=\"data row7 col0\" >0.875166</td>\n",
       "      <td id=\"T_82102_row7_col1\" class=\"data row7 col1\" >0.614849</td>\n",
       "      <td id=\"T_82102_row7_col2\" class=\"data row7 col2\" >0.614849</td>\n",
       "    </tr>\n",
       "  </tbody>\n",
       "</table>\n"
      ],
      "text/plain": [
       "<pandas.io.formats.style.Styler at 0x7fe6fb16f590>"
      ]
     },
     "execution_count": 16,
     "metadata": {},
     "output_type": "execute_result"
    }
   ],
   "source": [
    "print('MVSA-Single')\n",
    "df_single_scores = pd.DataFrame(mvsa_single_score, columns=['Loss', 'Accuracy', 'F1-score'], index=pretrained_names)\n",
    "df_single_scores.style.highlight_max(props='color:orange', axis = 0)"
   ]
  },
  {
   "cell_type": "code",
   "execution_count": 17,
   "id": "8b2d37c5",
   "metadata": {
    "execution": {
     "iopub.execute_input": "2022-06-30T11:58:50.567135Z",
     "iopub.status.busy": "2022-06-30T11:58:50.566764Z",
     "iopub.status.idle": "2022-06-30T11:59:26.517118Z",
     "shell.execute_reply": "2022-06-30T11:59:26.515324Z"
    },
    "papermill": {
     "duration": 35.962248,
     "end_time": "2022-06-30T11:59:26.520103",
     "exception": false,
     "start_time": "2022-06-30T11:58:50.557855",
     "status": "completed"
    },
    "tags": []
   },
   "outputs": [
    {
     "name": "stdout",
     "output_type": "stream",
     "text": [
      "MVSA-Multiple: vgg16\n",
      "\n",
      "MVSA-Multiple: vgg19\n",
      "\n",
      "MVSA-Multiple: resnet50\n",
      "\n",
      "MVSA-Multiple: resnet101\n",
      "\n",
      "MVSA-Multiple: resnet152\n",
      "\n",
      "MVSA-Multiple: densenet121\n",
      "\n",
      "MVSA-Multiple: densenet169\n",
      "\n",
      "MVSA-Multiple: densenet201\n",
      "\n"
     ]
    }
   ],
   "source": [
    "# run model with all features data of MVSA-Multiple\n",
    "mvsa_multiple_hitories = []\n",
    "mvsa_multiple_score = []\n",
    "for i in range(len(pretrained_names)):\n",
    "    print('MVSA-Multiple:', pretrained_names[i])\n",
    "    history, scores = run_and_evaluate('multiple-' + pretrained_names[i], mvsa_multiple_features[i], mvsa_multiple_image_labels, verbose=0)\n",
    "    mvsa_multiple_hitories.append(history)\n",
    "    mvsa_multiple_score.append(scores)\n",
    "    print()"
   ]
  },
  {
   "cell_type": "code",
   "execution_count": 18,
   "id": "a59e08b8",
   "metadata": {
    "execution": {
     "iopub.execute_input": "2022-06-30T11:59:26.540165Z",
     "iopub.status.busy": "2022-06-30T11:59:26.539436Z",
     "iopub.status.idle": "2022-06-30T11:59:26.557718Z",
     "shell.execute_reply": "2022-06-30T11:59:26.556314Z"
    },
    "papermill": {
     "duration": 0.033475,
     "end_time": "2022-06-30T11:59:26.562260",
     "exception": false,
     "start_time": "2022-06-30T11:59:26.528785",
     "status": "completed"
    },
    "tags": []
   },
   "outputs": [
    {
     "name": "stdout",
     "output_type": "stream",
     "text": [
      "MVSA-Multiple\n"
     ]
    },
    {
     "data": {
      "text/html": [
       "<style type=\"text/css\">\n",
       "#T_11bce_row4_col0, #T_11bce_row7_col1, #T_11bce_row7_col2 {\n",
       "  color: orange;\n",
       "}\n",
       "</style>\n",
       "<table id=\"T_11bce_\">\n",
       "  <thead>\n",
       "    <tr>\n",
       "      <th class=\"blank level0\" >&nbsp;</th>\n",
       "      <th class=\"col_heading level0 col0\" >Loss</th>\n",
       "      <th class=\"col_heading level0 col1\" >Accuracy</th>\n",
       "      <th class=\"col_heading level0 col2\" >F1-score</th>\n",
       "    </tr>\n",
       "  </thead>\n",
       "  <tbody>\n",
       "    <tr>\n",
       "      <th id=\"T_11bce_level0_row0\" class=\"row_heading level0 row0\" >vgg16</th>\n",
       "      <td id=\"T_11bce_row0_col0\" class=\"data row0 col0\" >0.913603</td>\n",
       "      <td id=\"T_11bce_row0_col1\" class=\"data row0 col1\" >0.562882</td>\n",
       "      <td id=\"T_11bce_row0_col2\" class=\"data row0 col2\" >0.562882</td>\n",
       "    </tr>\n",
       "    <tr>\n",
       "      <th id=\"T_11bce_level0_row1\" class=\"row_heading level0 row1\" >vgg19</th>\n",
       "      <td id=\"T_11bce_row1_col0\" class=\"data row1 col0\" >0.925325</td>\n",
       "      <td id=\"T_11bce_row1_col1\" class=\"data row1 col1\" >0.558608</td>\n",
       "      <td id=\"T_11bce_row1_col2\" class=\"data row1 col2\" >0.558608</td>\n",
       "    </tr>\n",
       "    <tr>\n",
       "      <th id=\"T_11bce_level0_row2\" class=\"row_heading level0 row2\" >resnet50</th>\n",
       "      <td id=\"T_11bce_row2_col0\" class=\"data row2 col0\" >0.912656</td>\n",
       "      <td id=\"T_11bce_row2_col1\" class=\"data row2 col1\" >0.543956</td>\n",
       "      <td id=\"T_11bce_row2_col2\" class=\"data row2 col2\" >0.543956</td>\n",
       "    </tr>\n",
       "    <tr>\n",
       "      <th id=\"T_11bce_level0_row3\" class=\"row_heading level0 row3\" >resnet101</th>\n",
       "      <td id=\"T_11bce_row3_col0\" class=\"data row3 col0\" >0.918681</td>\n",
       "      <td id=\"T_11bce_row3_col1\" class=\"data row3 col1\" >0.541514</td>\n",
       "      <td id=\"T_11bce_row3_col2\" class=\"data row3 col2\" >0.541514</td>\n",
       "    </tr>\n",
       "    <tr>\n",
       "      <th id=\"T_11bce_level0_row4\" class=\"row_heading level0 row4\" >resnet152</th>\n",
       "      <td id=\"T_11bce_row4_col0\" class=\"data row4 col0\" >0.962034</td>\n",
       "      <td id=\"T_11bce_row4_col1\" class=\"data row4 col1\" >0.544567</td>\n",
       "      <td id=\"T_11bce_row4_col2\" class=\"data row4 col2\" >0.544567</td>\n",
       "    </tr>\n",
       "    <tr>\n",
       "      <th id=\"T_11bce_level0_row5\" class=\"row_heading level0 row5\" >densenet121</th>\n",
       "      <td id=\"T_11bce_row5_col0\" class=\"data row5 col0\" >0.889988</td>\n",
       "      <td id=\"T_11bce_row5_col1\" class=\"data row5 col1\" >0.566545</td>\n",
       "      <td id=\"T_11bce_row5_col2\" class=\"data row5 col2\" >0.566545</td>\n",
       "    </tr>\n",
       "    <tr>\n",
       "      <th id=\"T_11bce_level0_row6\" class=\"row_heading level0 row6\" >densenet169</th>\n",
       "      <td id=\"T_11bce_row6_col0\" class=\"data row6 col0\" >0.889151</td>\n",
       "      <td id=\"T_11bce_row6_col1\" class=\"data row6 col1\" >0.565934</td>\n",
       "      <td id=\"T_11bce_row6_col2\" class=\"data row6 col2\" >0.565934</td>\n",
       "    </tr>\n",
       "    <tr>\n",
       "      <th id=\"T_11bce_level0_row7\" class=\"row_heading level0 row7\" >densenet201</th>\n",
       "      <td id=\"T_11bce_row7_col0\" class=\"data row7 col0\" >0.888390</td>\n",
       "      <td id=\"T_11bce_row7_col1\" class=\"data row7 col1\" >0.567766</td>\n",
       "      <td id=\"T_11bce_row7_col2\" class=\"data row7 col2\" >0.567766</td>\n",
       "    </tr>\n",
       "  </tbody>\n",
       "</table>\n"
      ],
      "text/plain": [
       "<pandas.io.formats.style.Styler at 0x7fe64412e590>"
      ]
     },
     "execution_count": 18,
     "metadata": {},
     "output_type": "execute_result"
    }
   ],
   "source": [
    "print('MVSA-Multiple')\n",
    "df_multiple_scores = pd.DataFrame(mvsa_multiple_score, columns=['Loss', 'Accuracy', 'F1-score'], index=pretrained_names)\n",
    "df_multiple_scores.style.highlight_max(props='color:orange', axis = 0)"
   ]
  },
  {
   "cell_type": "code",
   "execution_count": null,
   "id": "e8707c37",
   "metadata": {
    "papermill": {
     "duration": 0.008215,
     "end_time": "2022-06-30T11:59:26.579436",
     "exception": false,
     "start_time": "2022-06-30T11:59:26.571221",
     "status": "completed"
    },
    "tags": []
   },
   "outputs": [],
   "source": []
  }
 ],
 "metadata": {
  "kernelspec": {
   "display_name": "Python 3",
   "language": "python",
   "name": "python3"
  },
  "language_info": {
   "codemirror_mode": {
    "name": "ipython",
    "version": 3
   },
   "file_extension": ".py",
   "mimetype": "text/x-python",
   "name": "python",
   "nbconvert_exporter": "python",
   "pygments_lexer": "ipython3",
   "version": "3.7.12"
  },
  "papermill": {
   "default_parameters": {},
   "duration": 122.364031,
   "end_time": "2022-06-30T11:59:29.387076",
   "environment_variables": {},
   "exception": null,
   "input_path": "__notebook__.ipynb",
   "output_path": "__notebook__.ipynb",
   "parameters": {},
   "start_time": "2022-06-30T11:57:27.023045",
   "version": "2.3.4"
  }
 },
 "nbformat": 4,
 "nbformat_minor": 5
}
