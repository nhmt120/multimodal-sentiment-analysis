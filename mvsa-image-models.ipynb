{
 "cells": [
  {
   "cell_type": "code",
   "execution_count": 1,
   "id": "a04853a3",
   "metadata": {
    "_cell_guid": "b1076dfc-b9ad-4769-8c92-a6c4dae69d19",
    "_uuid": "8f2839f25d086af736a60e9eeb907d3b93b6e0e5",
    "execution": {
     "iopub.execute_input": "2022-06-30T13:45:38.907575Z",
     "iopub.status.busy": "2022-06-30T13:45:38.907161Z",
     "iopub.status.idle": "2022-06-30T13:45:47.259504Z",
     "shell.execute_reply": "2022-06-30T13:45:47.258588Z"
    },
    "papermill": {
     "duration": 8.364499,
     "end_time": "2022-06-30T13:45:47.262002",
     "exception": false,
     "start_time": "2022-06-30T13:45:38.897503",
     "status": "completed"
    },
    "tags": []
   },
   "outputs": [],
   "source": [
    "SEED = 61\n",
    "\n",
    "\n",
    "import os\n",
    "import re\n",
    "import gc\n",
    "import h5py\n",
    "import torch\n",
    "import numpy as np\n",
    "import pandas as pd\n",
    "import tensorflow as tf\n",
    "import random as python_random\n",
    "import matplotlib.pyplot as plt\n",
    "import tensorflow_addons as tfa\n",
    "\n",
    "from tqdm import tqdm\n",
    "from nltk import tokenize\n",
    "\n",
    "from sklearn import preprocessing\n",
    "from sklearn.decomposition import PCA\n",
    "\n",
    "from keras import backend as K\n",
    "from keras import initializers,regularizers,constraints\n",
    "from keras.preprocessing.text import Tokenizer, text_to_word_sequence\n",
    "from keras.preprocessing.sequence import pad_sequences\n",
    "from keras.utils.np_utils import to_categorical\n",
    "from keras.layers import Reshape, Input, Embedding, Flatten, Dense, Dropout, BatchNormalization, Activation #, merge\n",
    "from keras.layers import TimeDistributed, LSTM, GRU, Bidirectional, Convolution1D, MaxPooling1D, MaxPooling2D\n",
    "from keras.layers.core import RepeatVector, Reshape\n",
    "from keras.callbacks import ModelCheckpoint, EarlyStopping, ReduceLROnPlateau\n",
    "from keras.models import Sequential, Model, load_model\n",
    "from sklearn.model_selection import cross_val_score\n",
    "\n",
    "def reset_seeds():\n",
    "    np.random.seed(SEED) \n",
    "    python_random.seed(SEED)\n",
    "    tf.random.set_seed(SEED)\n",
    "    os.environ[\"PYTHONHASHSEED\"] = str(SEED)\n",
    "\n",
    "# from tensorflow.python.keras.layers import Layer, InputSpec, Lambda\n",
    "# from tensorflow.keras import Model\n",
    "# from attention import Attention_input1, Attention_input2\n",
    "# from keras.optimizers import SGD, RMSprop, Adagrad"
   ]
  },
  {
   "cell_type": "code",
   "execution_count": 2,
   "id": "7738f8d6",
   "metadata": {
    "execution": {
     "iopub.execute_input": "2022-06-30T13:45:47.279391Z",
     "iopub.status.busy": "2022-06-30T13:45:47.278288Z",
     "iopub.status.idle": "2022-06-30T13:45:47.285550Z",
     "shell.execute_reply": "2022-06-30T13:45:47.284727Z"
    },
    "papermill": {
     "duration": 0.01758,
     "end_time": "2022-06-30T13:45:47.287367",
     "exception": false,
     "start_time": "2022-06-30T13:45:47.269787",
     "status": "completed"
    },
    "tags": []
   },
   "outputs": [],
   "source": [
    "def read_hdf5(path):\n",
    "    read_file = h5py.File(path, 'r')\n",
    "    \n",
    "    feature_names = list(read_file.keys())\n",
    "    loaded_data = []\n",
    "    \n",
    "    for name in feature_names:\n",
    "        dataset = read_file[name][:]\n",
    "        if dataset.dtype == np.dtype('object'):\n",
    "            dataset = np.array([x.decode('UTF-8') for x in dataset])            \n",
    "        loaded_data.append((name, dataset))\n",
    "\n",
    "    return loaded_data\n",
    "\n",
    "def loadz(path):\n",
    "    data = np.load(path)['arr_0']\n",
    "    return data"
   ]
  },
  {
   "cell_type": "code",
   "execution_count": 3,
   "id": "25778846",
   "metadata": {
    "execution": {
     "iopub.execute_input": "2022-06-30T13:45:47.302336Z",
     "iopub.status.busy": "2022-06-30T13:45:47.302039Z",
     "iopub.status.idle": "2022-06-30T13:45:47.311327Z",
     "shell.execute_reply": "2022-06-30T13:45:47.310533Z"
    },
    "papermill": {
     "duration": 0.018907,
     "end_time": "2022-06-30T13:45:47.313257",
     "exception": false,
     "start_time": "2022-06-30T13:45:47.294350",
     "status": "completed"
    },
    "tags": []
   },
   "outputs": [],
   "source": [
    "def merge_mvsa(mvsa_single, mvsa_multiple):\n",
    "    mvsa = np.concatenate((mvsa_single, mvsa_multiple), axis=0)\n",
    "    return mvsa\n",
    "\n",
    "def load_mvsa_feature(feature_name, merge=False):\n",
    "    folder_path = os.path.join('../input/mvsa-features/', feature_name)\n",
    "    single_file = 'mvsa-single-{}.npz'.format(feature_name)\n",
    "    multiple_file = 'mvsa-multiple-{}.npz'.format(feature_name)\n",
    "    mvsa_single = loadz(os.path.join(folder_path, single_file))\n",
    "    mvsa_multiple = loadz(os.path.join(folder_path, multiple_file))\n",
    "    \n",
    "    if merge == True:\n",
    "        return merge_mvsa(mvsa_single, mvsa_multiple)\n",
    "    \n",
    "    return mvsa_single, mvsa_multiple\n",
    "\n",
    "def load_labels(path):\n",
    "    data = read_hdf5(path)\n",
    "\n",
    "    for x in data:\n",
    "        if x[0] == 'multimodal-labels':\n",
    "            labels = x[1]\n",
    "        if x[0] == 'text-labels':\n",
    "            text_labels = x[1]\n",
    "        if x[0] == 'image-labels':\n",
    "            image_labels = x[1]\n",
    "        \n",
    "    return labels, text_labels, image_labels"
   ]
  },
  {
   "cell_type": "code",
   "execution_count": 4,
   "id": "611f9e92",
   "metadata": {
    "execution": {
     "iopub.execute_input": "2022-06-30T13:45:47.328382Z",
     "iopub.status.busy": "2022-06-30T13:45:47.328131Z",
     "iopub.status.idle": "2022-06-30T13:45:47.336609Z",
     "shell.execute_reply": "2022-06-30T13:45:47.335717Z"
    },
    "papermill": {
     "duration": 0.018577,
     "end_time": "2022-06-30T13:45:47.338677",
     "exception": false,
     "start_time": "2022-06-30T13:45:47.320100",
     "status": "completed"
    },
    "tags": []
   },
   "outputs": [],
   "source": [
    "def plot_metrics(history):\n",
    "    fig = plt.figure(figsize=(20, 5))\n",
    "\n",
    "    fig.add_subplot(1, 3, 1)\n",
    "    plt.plot(history.history['loss'])\n",
    "    plt.plot(history.history['val_loss'])\n",
    "    plt.title('LOSS')\n",
    "    plt.ylabel('loss')\n",
    "    plt.xlabel('epoch')\n",
    "    plt.legend(['train', 'val'], loc='best')\n",
    "\n",
    "    fig.add_subplot(1, 3, 2)\n",
    "    plt.plot(history.history['accuracy'])\n",
    "    plt.plot(history.history['val_accuracy'])\n",
    "    plt.title('ACCURACY')\n",
    "    plt.ylabel('accuracy')\n",
    "    plt.xlabel('epoch')\n",
    "    plt.legend(['train', 'val'], loc='best')\n",
    "\n",
    "    fig.add_subplot(1, 3, 3)\n",
    "    plt.plot(history.history['f1_score'])\n",
    "    plt.plot(history.history['val_f1_score'])\n",
    "    plt.title('F1-SCORE')\n",
    "    plt.ylabel('f1-score')\n",
    "    plt.xlabel('epoch')\n",
    "    plt.legend(['train', 'val'], loc='best')\n",
    "\n",
    "    plt.show()"
   ]
  },
  {
   "cell_type": "code",
   "execution_count": 5,
   "id": "cbace1a3",
   "metadata": {
    "execution": {
     "iopub.execute_input": "2022-06-30T13:45:47.354498Z",
     "iopub.status.busy": "2022-06-30T13:45:47.353735Z",
     "iopub.status.idle": "2022-06-30T13:45:47.359291Z",
     "shell.execute_reply": "2022-06-30T13:45:47.358500Z"
    },
    "papermill": {
     "duration": 0.015088,
     "end_time": "2022-06-30T13:45:47.361173",
     "exception": false,
     "start_time": "2022-06-30T13:45:47.346085",
     "status": "completed"
    },
    "tags": []
   },
   "outputs": [],
   "source": [
    "# e.g. validation_split=0.1 -----> 8:1:1 ratio of train, val, test\n",
    "def split_data(data, validation_split):\n",
    "    num_val = int(validation_split * data.shape[0])\n",
    "    data_train = data[:-(num_val*2)]\n",
    "    data_val = data[-(num_val*2):-(num_val)]\n",
    "    data_test = data[-num_val:]\n",
    "    return data_train, data_val, data_test"
   ]
  },
  {
   "cell_type": "code",
   "execution_count": 6,
   "id": "e31b1bfc",
   "metadata": {
    "execution": {
     "iopub.execute_input": "2022-06-30T13:45:47.377964Z",
     "iopub.status.busy": "2022-06-30T13:45:47.376608Z",
     "iopub.status.idle": "2022-06-30T13:45:47.383114Z",
     "shell.execute_reply": "2022-06-30T13:45:47.382327Z"
    },
    "papermill": {
     "duration": 0.0164,
     "end_time": "2022-06-30T13:45:47.385025",
     "exception": false,
     "start_time": "2022-06-30T13:45:47.368625",
     "status": "completed"
    },
    "tags": []
   },
   "outputs": [],
   "source": [
    "def create_model_pretrained(input_shape):\n",
    "    f1_score = tfa.metrics.F1Score(num_classes=NUM_CLASSES, average='micro')\n",
    "    \n",
    "    image_input = Input(shape=input_shape)\n",
    "    outputs = Dense(NUM_CLASSES, activation='softmax') (image_input)\n",
    "    \n",
    "    model = Model(image_input, outputs)\n",
    "    model.compile(optimizer='adam', loss='categorical_crossentropy', metrics=['accuracy', f1_score]) # f1 #tf.keras.metrics.AUC()\n",
    "    return model"
   ]
  },
  {
   "cell_type": "code",
   "execution_count": 7,
   "id": "fcb1f815",
   "metadata": {
    "execution": {
     "iopub.execute_input": "2022-06-30T13:45:47.400236Z",
     "iopub.status.busy": "2022-06-30T13:45:47.399985Z",
     "iopub.status.idle": "2022-06-30T13:45:47.405415Z",
     "shell.execute_reply": "2022-06-30T13:45:47.404504Z"
    },
    "papermill": {
     "duration": 0.015415,
     "end_time": "2022-06-30T13:45:47.407313",
     "exception": false,
     "start_time": "2022-06-30T13:45:47.391898",
     "status": "completed"
    },
    "tags": []
   },
   "outputs": [],
   "source": [
    "def evaluate_model(model, X_test, y_test, checkpoint=None, verbose=1):\n",
    "    if checkpoint is not None:\n",
    "        model = load_model('./model_checkpoint/{}.h5'.format(checkpoint))#, custom_objects={'f1': f1})\n",
    "    \n",
    "    loss, acc, f1 = model.evaluate(X_test, y_test, verbose=verbose)\n",
    "    \n",
    "    if verbose == 1:\n",
    "        print('Loss:', loss)\n",
    "        print('Accuracy:', acc)\n",
    "        print('F1-score:', f1)\n",
    "        \n",
    "    return loss, acc, f1"
   ]
  },
  {
   "cell_type": "code",
   "execution_count": 8,
   "id": "52a3ec02",
   "metadata": {
    "execution": {
     "iopub.execute_input": "2022-06-30T13:45:47.422701Z",
     "iopub.status.busy": "2022-06-30T13:45:47.422069Z",
     "iopub.status.idle": "2022-06-30T13:45:47.429641Z",
     "shell.execute_reply": "2022-06-30T13:45:47.428737Z"
    },
    "papermill": {
     "duration": 0.017257,
     "end_time": "2022-06-30T13:45:47.431468",
     "exception": false,
     "start_time": "2022-06-30T13:45:47.414211",
     "status": "completed"
    },
    "tags": []
   },
   "outputs": [],
   "source": [
    "def run_and_evaluate(name, X, y, verbose=0):\n",
    "    y = le.fit_transform(y)\n",
    "    y = to_categorical(np.asarray(y))\n",
    "    \n",
    "    X_train, X_val, X_test = split_data(X, VALIDATION_SPLIT)\n",
    "    y_train, y_val, y_test = split_data(y, VALIDATION_SPLIT)\n",
    "    \n",
    "    model = create_model_pretrained(X_train.shape[1:])\n",
    "    early_stopping = EarlyStopping(monitor='val_loss', min_delta=1e-4, patience=EARLY_STOPPING)\n",
    "    checkpoint = ModelCheckpoint('./model_checkpoint/{}.h5'.format(name), save_best_only=True, verbose=verbose)\n",
    "    \n",
    "    history = model.fit(X_train, y_train, validation_data=(X_val, y_val), \n",
    "                                   epochs=EPOCHS, batch_size=BATCH_SIZE, verbose=verbose,\n",
    "                                   callbacks=[checkpoint, early_stopping])\n",
    "    print(early_stopping.stopped_epoch)\n",
    "    return history, evaluate_model(model, X_test, y_test, checkpoint=name, verbose=verbose)"
   ]
  },
  {
   "cell_type": "code",
   "execution_count": 9,
   "id": "9b6eaae1",
   "metadata": {
    "execution": {
     "iopub.execute_input": "2022-06-30T13:45:47.447019Z",
     "iopub.status.busy": "2022-06-30T13:45:47.446782Z",
     "iopub.status.idle": "2022-06-30T13:45:47.451947Z",
     "shell.execute_reply": "2022-06-30T13:45:47.451022Z"
    },
    "papermill": {
     "duration": 0.014914,
     "end_time": "2022-06-30T13:45:47.453791",
     "exception": false,
     "start_time": "2022-06-30T13:45:47.438877",
     "status": "completed"
    },
    "tags": []
   },
   "outputs": [],
   "source": [
    "def style_dataframe(dataframe):\n",
    "    return dataframe.style.highlight_max(subset=['Accuracy', 'F1-score'], props='color:lightgreen', axis=0)\\\n",
    "                          .highlight_min(subset=['Accuracy', 'F1-score'], props='color:tomato', axis=0)\\\n",
    "                          .highlight_min(subset=['Loss'], props='color:lightgreen', axis=0)\\\n",
    "                          .highlight_max(subset=['Loss'], props='color:tomato', axis=0)"
   ]
  },
  {
   "cell_type": "code",
   "execution_count": 10,
   "id": "f900d186",
   "metadata": {
    "execution": {
     "iopub.execute_input": "2022-06-30T13:45:47.469310Z",
     "iopub.status.busy": "2022-06-30T13:45:47.468565Z",
     "iopub.status.idle": "2022-06-30T13:45:47.476516Z",
     "shell.execute_reply": "2022-06-30T13:45:47.475701Z"
    },
    "papermill": {
     "duration": 0.017613,
     "end_time": "2022-06-30T13:45:47.478268",
     "exception": false,
     "start_time": "2022-06-30T13:45:47.460655",
     "status": "completed"
    },
    "tags": []
   },
   "outputs": [],
   "source": [
    "from IPython.display import display_html\n",
    "\n",
    "def display_dataframes(dfs, names=[], index=False):\n",
    "    def to_df(x):\n",
    "        if isinstance(x, pd.Series):\n",
    "            return pd.DataFrame(x)\n",
    "        else:\n",
    "            return x\n",
    "    html_str = ''\n",
    "    if names:\n",
    "        html_str += ('<tr>' + \n",
    "                     ''.join(f'<td style=\"text-align:center\">{name}</td>' for name in names) + \n",
    "                     '</tr>')\n",
    "    html_str += ('<tr>' + \n",
    "                 ''.join(f'<td style=\"vertical-align:top\"> {to_df(df).to_html()}</td>' \n",
    "                         for df in dfs) + \n",
    "                 '</tr>')\n",
    "    html_str = f'<table>{html_str}</table>'\n",
    "    html_str = html_str.replace('table','table style=\"display:inline\"')\n",
    "    display_html(html_str, raw=True)"
   ]
  },
  {
   "cell_type": "markdown",
   "id": "b48dd9d3",
   "metadata": {
    "papermill": {
     "duration": 0.006745,
     "end_time": "2022-06-30T13:45:47.492442",
     "exception": false,
     "start_time": "2022-06-30T13:45:47.485697",
     "status": "completed"
    },
    "tags": []
   },
   "source": [
    "# Load data"
   ]
  },
  {
   "cell_type": "code",
   "execution_count": 11,
   "id": "49604201",
   "metadata": {
    "execution": {
     "iopub.execute_input": "2022-06-30T13:45:47.507966Z",
     "iopub.status.busy": "2022-06-30T13:45:47.507682Z",
     "iopub.status.idle": "2022-06-30T13:46:00.668469Z",
     "shell.execute_reply": "2022-06-30T13:46:00.667466Z"
    },
    "papermill": {
     "duration": 13.171554,
     "end_time": "2022-06-30T13:46:00.671123",
     "exception": false,
     "start_time": "2022-06-30T13:45:47.499569",
     "status": "completed"
    },
    "tags": []
   },
   "outputs": [],
   "source": [
    "# load separate\n",
    "mvsa_single_vgg16, mvsa_multiple_vgg16 = load_mvsa_feature('vgg16')\n",
    "mvsa_single_vgg19, mvsa_multiple_vgg19 = load_mvsa_feature('vgg19')\n",
    "mvsa_single_resnet50, mvsa_multiple_resnet50 = load_mvsa_feature('resnet50')\n",
    "mvsa_single_resnet101, mvsa_multiple_resnet101 = load_mvsa_feature('resnet101')\n",
    "mvsa_single_resnet152, mvsa_multiple_resnet152 = load_mvsa_feature('resnet152')\n",
    "mvsa_single_densenet121, mvsa_multiple_densenet121 = load_mvsa_feature('densenet121')\n",
    "mvsa_single_densenet169, mvsa_multiple_densenet169 = load_mvsa_feature('densenet169')\n",
    "mvsa_single_densenet201, mvsa_multiple_densenet201 = load_mvsa_feature('densenet201')"
   ]
  },
  {
   "cell_type": "code",
   "execution_count": 12,
   "id": "5b1233d6",
   "metadata": {
    "execution": {
     "iopub.execute_input": "2022-06-30T13:46:00.689006Z",
     "iopub.status.busy": "2022-06-30T13:46:00.687348Z",
     "iopub.status.idle": "2022-06-30T13:46:03.636748Z",
     "shell.execute_reply": "2022-06-30T13:46:03.635735Z"
    },
    "papermill": {
     "duration": 2.960753,
     "end_time": "2022-06-30T13:46:03.639590",
     "exception": false,
     "start_time": "2022-06-30T13:46:00.678837",
     "status": "completed"
    },
    "tags": []
   },
   "outputs": [],
   "source": [
    "# load merge\n",
    "mvsa_vgg16 = load_mvsa_feature('vgg16', merge=True)\n",
    "mvsa_vgg19 = load_mvsa_feature('vgg19', merge=True)\n",
    "mvsa_resnet50 = load_mvsa_feature('resnet50', merge=True)\n",
    "mvsa_resnet101 = load_mvsa_feature('resnet101', merge=True)\n",
    "mvsa_resnet152 = load_mvsa_feature('resnet152', merge=True)\n",
    "mvsa_densenet121 = load_mvsa_feature('densenet121', merge=True)\n",
    "mvsa_densenet169 = load_mvsa_feature('densenet169', merge=True)\n",
    "mvsa_densenet201 = load_mvsa_feature('densenet201', merge=True)"
   ]
  },
  {
   "cell_type": "code",
   "execution_count": 13,
   "id": "9477a7aa",
   "metadata": {
    "execution": {
     "iopub.execute_input": "2022-06-30T13:46:03.655951Z",
     "iopub.status.busy": "2022-06-30T13:46:03.655665Z",
     "iopub.status.idle": "2022-06-30T13:46:03.789703Z",
     "shell.execute_reply": "2022-06-30T13:46:03.788808Z"
    },
    "papermill": {
     "duration": 0.144583,
     "end_time": "2022-06-30T13:46:03.791702",
     "exception": false,
     "start_time": "2022-06-30T13:46:03.647119",
     "status": "completed"
    },
    "tags": []
   },
   "outputs": [],
   "source": [
    "mvsa_single_multimodal_labels, mvsa_single_text_labels, mvsa_single_image_labels = load_labels('../input/mvsa-features/labels/mvsa-single-labels.hdf5')\n",
    "mvsa_multiple_multimodal_labels, mvsa_multiple_text_labels, mvsa_multiple_image_labels = load_labels('../input/mvsa-features/labels/mvsa-multiple-labels.hdf5')\n",
    "\n",
    "mvsa_multimodal_labels = merge_mvsa(mvsa_single_multimodal_labels, mvsa_multiple_multimodal_labels)\n",
    "mvsa_text_labels = merge_mvsa(mvsa_single_text_labels, mvsa_multiple_text_labels)\n",
    "mvsa_image_labels = merge_mvsa(mvsa_single_image_labels, mvsa_multiple_image_labels)"
   ]
  },
  {
   "cell_type": "code",
   "execution_count": 14,
   "id": "7ed9b641",
   "metadata": {
    "execution": {
     "iopub.execute_input": "2022-06-30T13:46:03.807326Z",
     "iopub.status.busy": "2022-06-30T13:46:03.807054Z",
     "iopub.status.idle": "2022-06-30T13:46:03.814373Z",
     "shell.execute_reply": "2022-06-30T13:46:03.813560Z"
    },
    "papermill": {
     "duration": 0.016953,
     "end_time": "2022-06-30T13:46:03.816271",
     "exception": false,
     "start_time": "2022-06-30T13:46:03.799318",
     "status": "completed"
    },
    "tags": []
   },
   "outputs": [],
   "source": [
    "le = preprocessing.LabelEncoder()\n",
    "le.fit(mvsa_multimodal_labels)\n",
    "NUM_CLASSES = len(le.classes_) # =3"
   ]
  },
  {
   "cell_type": "code",
   "execution_count": 15,
   "id": "c79035f7",
   "metadata": {
    "execution": {
     "iopub.execute_input": "2022-06-30T13:46:03.831188Z",
     "iopub.status.busy": "2022-06-30T13:46:03.830936Z",
     "iopub.status.idle": "2022-06-30T13:46:03.836998Z",
     "shell.execute_reply": "2022-06-30T13:46:03.836017Z"
    },
    "papermill": {
     "duration": 0.016,
     "end_time": "2022-06-30T13:46:03.839123",
     "exception": false,
     "start_time": "2022-06-30T13:46:03.823123",
     "status": "completed"
    },
    "tags": []
   },
   "outputs": [],
   "source": [
    "# prepare all features data\n",
    "pretrained_names = ['vgg16', 'vgg19', 'resnet50', 'resnet101', 'resnet152', 'densenet121', 'densenet169', 'densenet201']\n",
    "# single_pretrained_names = ['single-' + name for name in pretrained_names]\n",
    "# multiple_pretrained_names = ['multiple-' + name for name in pretrained_names]\n",
    "\n",
    "mvsa_single_features = [mvsa_single_vgg16, mvsa_single_vgg19, \n",
    "                        mvsa_single_resnet50, mvsa_single_resnet101, mvsa_single_resnet152, \n",
    "                        mvsa_single_densenet121, mvsa_single_densenet169, mvsa_single_densenet201]\n",
    "\n",
    "mvsa_multiple_features = [mvsa_multiple_vgg16, mvsa_multiple_vgg19, \n",
    "                          mvsa_multiple_resnet50, mvsa_multiple_resnet101, mvsa_multiple_resnet152, \n",
    "                          mvsa_multiple_densenet121, mvsa_multiple_densenet169, mvsa_multiple_densenet201]\n",
    "\n",
    "mvsa_features = [mvsa_vgg16, mvsa_vgg19, \n",
    "                 mvsa_resnet50, mvsa_resnet101, mvsa_resnet152, \n",
    "                 mvsa_densenet121, mvsa_densenet169, mvsa_densenet201]"
   ]
  },
  {
   "cell_type": "markdown",
   "id": "899b1f85",
   "metadata": {
    "papermill": {
     "duration": 0.007313,
     "end_time": "2022-06-30T13:46:03.853482",
     "exception": false,
     "start_time": "2022-06-30T13:46:03.846169",
     "status": "completed"
    },
    "tags": []
   },
   "source": [
    "# Run models and Evalution display"
   ]
  },
  {
   "cell_type": "code",
   "execution_count": 16,
   "id": "f7b948cd",
   "metadata": {
    "execution": {
     "iopub.execute_input": "2022-06-30T13:46:03.868964Z",
     "iopub.status.busy": "2022-06-30T13:46:03.868716Z",
     "iopub.status.idle": "2022-06-30T13:46:03.873129Z",
     "shell.execute_reply": "2022-06-30T13:46:03.872259Z"
    },
    "papermill": {
     "duration": 0.014108,
     "end_time": "2022-06-30T13:46:03.875076",
     "exception": false,
     "start_time": "2022-06-30T13:46:03.860968",
     "status": "completed"
    },
    "tags": []
   },
   "outputs": [],
   "source": [
    "reset_seeds()\n",
    "EPOCHS = 100\n",
    "BATCH_SIZE = 128\n",
    "VALIDATION_SPLIT = 0.1\n",
    "EARLY_STOPPING = 10"
   ]
  },
  {
   "cell_type": "markdown",
   "id": "7e096124",
   "metadata": {
    "papermill": {
     "duration": 0.006898,
     "end_time": "2022-06-30T13:46:03.888750",
     "exception": false,
     "start_time": "2022-06-30T13:46:03.881852",
     "status": "completed"
    },
    "tags": []
   },
   "source": [
    "## With original image labels"
   ]
  },
  {
   "cell_type": "code",
   "execution_count": 17,
   "id": "f44aadbc",
   "metadata": {
    "execution": {
     "iopub.execute_input": "2022-06-30T13:46:03.903396Z",
     "iopub.status.busy": "2022-06-30T13:46:03.903156Z",
     "iopub.status.idle": "2022-06-30T13:46:46.225108Z",
     "shell.execute_reply": "2022-06-30T13:46:46.223940Z"
    },
    "papermill": {
     "duration": 42.331466,
     "end_time": "2022-06-30T13:46:46.227058",
     "exception": false,
     "start_time": "2022-06-30T13:46:03.895592",
     "status": "completed"
    },
    "tags": []
   },
   "outputs": [
    {
     "name": "stdout",
     "output_type": "stream",
     "text": [
      "With original image labels\n",
      "MVSA-Single: vgg16\n"
     ]
    },
    {
     "name": "stderr",
     "output_type": "stream",
     "text": [
      "2022-06-30 13:46:03.990428: I tensorflow/stream_executor/cuda/cuda_gpu_executor.cc:937] successful NUMA node read from SysFS had negative value (-1), but there must be at least one NUMA node, so returning NUMA node zero\n",
      "2022-06-30 13:46:03.991551: I tensorflow/stream_executor/cuda/cuda_gpu_executor.cc:937] successful NUMA node read from SysFS had negative value (-1), but there must be at least one NUMA node, so returning NUMA node zero\n",
      "2022-06-30 13:46:03.992223: I tensorflow/stream_executor/cuda/cuda_gpu_executor.cc:937] successful NUMA node read from SysFS had negative value (-1), but there must be at least one NUMA node, so returning NUMA node zero\n",
      "2022-06-30 13:46:03.993054: I tensorflow/core/platform/cpu_feature_guard.cc:142] This TensorFlow binary is optimized with oneAPI Deep Neural Network Library (oneDNN) to use the following CPU instructions in performance-critical operations:  AVX2 AVX512F FMA\n",
      "To enable them in other operations, rebuild TensorFlow with the appropriate compiler flags.\n",
      "2022-06-30 13:46:03.993377: I tensorflow/stream_executor/cuda/cuda_gpu_executor.cc:937] successful NUMA node read from SysFS had negative value (-1), but there must be at least one NUMA node, so returning NUMA node zero\n",
      "2022-06-30 13:46:03.994097: I tensorflow/stream_executor/cuda/cuda_gpu_executor.cc:937] successful NUMA node read from SysFS had negative value (-1), but there must be at least one NUMA node, so returning NUMA node zero\n",
      "2022-06-30 13:46:03.994766: I tensorflow/stream_executor/cuda/cuda_gpu_executor.cc:937] successful NUMA node read from SysFS had negative value (-1), but there must be at least one NUMA node, so returning NUMA node zero\n",
      "2022-06-30 13:46:08.669948: I tensorflow/stream_executor/cuda/cuda_gpu_executor.cc:937] successful NUMA node read from SysFS had negative value (-1), but there must be at least one NUMA node, so returning NUMA node zero\n",
      "2022-06-30 13:46:08.670827: I tensorflow/stream_executor/cuda/cuda_gpu_executor.cc:937] successful NUMA node read from SysFS had negative value (-1), but there must be at least one NUMA node, so returning NUMA node zero\n",
      "2022-06-30 13:46:08.671462: I tensorflow/stream_executor/cuda/cuda_gpu_executor.cc:937] successful NUMA node read from SysFS had negative value (-1), but there must be at least one NUMA node, so returning NUMA node zero\n",
      "2022-06-30 13:46:08.672046: I tensorflow/core/common_runtime/gpu/gpu_device.cc:1510] Created device /job:localhost/replica:0/task:0/device:GPU:0 with 15047 MB memory:  -> device: 0, name: Tesla P100-PCIE-16GB, pci bus id: 0000:00:04.0, compute capability: 6.0\n",
      "2022-06-30 13:46:09.180077: I tensorflow/compiler/mlir/mlir_graph_optimization_pass.cc:185] None of the MLIR Optimization Passes are enabled (registered 2)\n"
     ]
    },
    {
     "name": "stdout",
     "output_type": "stream",
     "text": [
      "13\n",
      "\n",
      "MVSA-Single: vgg19\n",
      "26\n",
      "\n",
      "MVSA-Single: resnet50\n",
      "24\n",
      "\n",
      "MVSA-Single: resnet101\n",
      "59\n",
      "\n",
      "MVSA-Single: resnet152\n",
      "24\n",
      "\n",
      "MVSA-Single: densenet121\n",
      "22\n",
      "\n",
      "MVSA-Single: densenet169\n",
      "16\n",
      "\n",
      "MVSA-Single: densenet201\n",
      "16\n",
      "\n"
     ]
    }
   ],
   "source": [
    "print('With original image labels')\n",
    "# run model with all features data of MVSA-Single\n",
    "mvsa_single_hitories = []\n",
    "mvsa_single_score = []\n",
    "for i in range(len(pretrained_names)):\n",
    "    print('MVSA-Single:', pretrained_names[i])\n",
    "    history, scores = run_and_evaluate('single-' + pretrained_names[i], mvsa_single_features[i], mvsa_single_image_labels, verbose=0)\n",
    "    mvsa_single_hitories.append(history)\n",
    "    mvsa_single_score.append(scores)\n",
    "    print()\n",
    "    \n",
    "df_single_scores = pd.DataFrame(mvsa_single_score, columns=['Loss', 'Accuracy', 'F1-score'], index=pretrained_names)"
   ]
  },
  {
   "cell_type": "code",
   "execution_count": 18,
   "id": "3a808e6e",
   "metadata": {
    "execution": {
     "iopub.execute_input": "2022-06-30T13:46:46.244866Z",
     "iopub.status.busy": "2022-06-30T13:46:46.244597Z",
     "iopub.status.idle": "2022-06-30T13:47:41.491406Z",
     "shell.execute_reply": "2022-06-30T13:47:41.490459Z"
    },
    "papermill": {
     "duration": 55.258079,
     "end_time": "2022-06-30T13:47:41.493394",
     "exception": false,
     "start_time": "2022-06-30T13:46:46.235315",
     "status": "completed"
    },
    "tags": []
   },
   "outputs": [
    {
     "name": "stdout",
     "output_type": "stream",
     "text": [
      "With original image labels\n",
      "MVSA-Multiple: vgg16\n",
      "18\n",
      "\n",
      "MVSA-Multiple: vgg19\n",
      "11\n",
      "\n",
      "MVSA-Multiple: resnet50\n",
      "17\n",
      "\n",
      "MVSA-Multiple: resnet101\n",
      "20\n",
      "\n",
      "MVSA-Multiple: resnet152\n",
      "20\n",
      "\n",
      "MVSA-Multiple: densenet121\n",
      "18\n",
      "\n",
      "MVSA-Multiple: densenet169\n",
      "16\n",
      "\n",
      "MVSA-Multiple: densenet201\n",
      "16\n",
      "\n"
     ]
    }
   ],
   "source": [
    "print('With original image labels')\n",
    "# run model with all features data of MVSA-Multiple\n",
    "mvsa_multiple_hitories = []\n",
    "mvsa_multiple_score = []\n",
    "for i in range(len(pretrained_names)):\n",
    "    print('MVSA-Multiple:', pretrained_names[i])\n",
    "    history, scores = run_and_evaluate('multiple-' + pretrained_names[i], mvsa_multiple_features[i], mvsa_multiple_image_labels, verbose=0)\n",
    "    mvsa_multiple_hitories.append(history)\n",
    "    mvsa_multiple_score.append(scores)\n",
    "    print()\n",
    "    \n",
    "df_multiple_scores = pd.DataFrame(mvsa_multiple_score, columns=['Loss', 'Accuracy', 'F1-score'], index=pretrained_names)"
   ]
  },
  {
   "cell_type": "code",
   "execution_count": 19,
   "id": "5f81a19f",
   "metadata": {
    "execution": {
     "iopub.execute_input": "2022-06-30T13:47:41.514929Z",
     "iopub.status.busy": "2022-06-30T13:47:41.513477Z",
     "iopub.status.idle": "2022-06-30T13:47:41.520329Z",
     "shell.execute_reply": "2022-06-30T13:47:41.519211Z"
    },
    "papermill": {
     "duration": 0.018942,
     "end_time": "2022-06-30T13:47:41.522172",
     "exception": false,
     "start_time": "2022-06-30T13:47:41.503230",
     "status": "completed"
    },
    "tags": []
   },
   "outputs": [],
   "source": [
    "mvsa_average_scores = np.mean([mvsa_single_score, mvsa_multiple_score], axis=0)\n",
    "df_average_scores = pd.DataFrame(mvsa_average_scores, columns=['Loss', 'Accuracy', 'F1-score'], index=pretrained_names)"
   ]
  },
  {
   "cell_type": "code",
   "execution_count": 20,
   "id": "b80a4925",
   "metadata": {
    "execution": {
     "iopub.execute_input": "2022-06-30T13:47:41.542059Z",
     "iopub.status.busy": "2022-06-30T13:47:41.541801Z",
     "iopub.status.idle": "2022-06-30T13:47:41.638542Z",
     "shell.execute_reply": "2022-06-30T13:47:41.637590Z"
    },
    "papermill": {
     "duration": 0.108336,
     "end_time": "2022-06-30T13:47:41.640468",
     "exception": false,
     "start_time": "2022-06-30T13:47:41.532132",
     "status": "completed"
    },
    "tags": []
   },
   "outputs": [
    {
     "name": "stdout",
     "output_type": "stream",
     "text": [
      "With original image labels\n",
      "\n"
     ]
    },
    {
     "data": {
      "text/html": [
       "<table style=\"display:inline\"><tr><td style=\"text-align:center\">MVSA-Single</td><td style=\"text-align:center\">MVSA-Multiple</td><td style=\"text-align:center\">Average</td></tr><tr><td style=\"vertical-align:top\"> <style type=\"text/css\">\n",
       "#T_50ca3_row1_col0, #T_50ca3_row5_col1, #T_50ca3_row5_col2 {\n",
       "  color: lightgreen;\n",
       "}\n",
       "#T_50ca3_row4_col0, #T_50ca3_row4_col1, #T_50ca3_row4_col2 {\n",
       "  color: tomato;\n",
       "}\n",
       "</style>\n",
       "<table style=\"display:inline\" id=\"T_50ca3_\">\n",
       "  <thead>\n",
       "    <tr>\n",
       "      <th class=\"blank level0\" >&nbsp;</th>\n",
       "      <th class=\"col_heading level0 col0\" >Loss</th>\n",
       "      <th class=\"col_heading level0 col1\" >Accuracy</th>\n",
       "      <th class=\"col_heading level0 col2\" >F1-score</th>\n",
       "    </tr>\n",
       "  </thead>\n",
       "  <tbody>\n",
       "    <tr>\n",
       "      <th id=\"T_50ca3_level0_row0\" class=\"row_heading level0 row0\" >vgg16</th>\n",
       "      <td id=\"T_50ca3_row0_col0\" class=\"data row0 col0\" >0.865558</td>\n",
       "      <td id=\"T_50ca3_row0_col1\" class=\"data row0 col1\" >0.577726</td>\n",
       "      <td id=\"T_50ca3_row0_col2\" class=\"data row0 col2\" >0.577726</td>\n",
       "    </tr>\n",
       "    <tr>\n",
       "      <th id=\"T_50ca3_level0_row1\" class=\"row_heading level0 row1\" >vgg19</th>\n",
       "      <td id=\"T_50ca3_row1_col0\" class=\"data row1 col0\" >0.859385</td>\n",
       "      <td id=\"T_50ca3_row1_col1\" class=\"data row1 col1\" >0.580046</td>\n",
       "      <td id=\"T_50ca3_row1_col2\" class=\"data row1 col2\" >0.580046</td>\n",
       "    </tr>\n",
       "    <tr>\n",
       "      <th id=\"T_50ca3_level0_row2\" class=\"row_heading level0 row2\" >resnet50</th>\n",
       "      <td id=\"T_50ca3_row2_col0\" class=\"data row2 col0\" >0.930690</td>\n",
       "      <td id=\"T_50ca3_row2_col1\" class=\"data row2 col1\" >0.580046</td>\n",
       "      <td id=\"T_50ca3_row2_col2\" class=\"data row2 col2\" >0.580046</td>\n",
       "    </tr>\n",
       "    <tr>\n",
       "      <th id=\"T_50ca3_level0_row3\" class=\"row_heading level0 row3\" >resnet101</th>\n",
       "      <td id=\"T_50ca3_row3_col0\" class=\"data row3 col0\" >0.927502</td>\n",
       "      <td id=\"T_50ca3_row3_col1\" class=\"data row3 col1\" >0.577726</td>\n",
       "      <td id=\"T_50ca3_row3_col2\" class=\"data row3 col2\" >0.577726</td>\n",
       "    </tr>\n",
       "    <tr>\n",
       "      <th id=\"T_50ca3_level0_row4\" class=\"row_heading level0 row4\" >resnet152</th>\n",
       "      <td id=\"T_50ca3_row4_col0\" class=\"data row4 col0\" >0.958335</td>\n",
       "      <td id=\"T_50ca3_row4_col1\" class=\"data row4 col1\" >0.561485</td>\n",
       "      <td id=\"T_50ca3_row4_col2\" class=\"data row4 col2\" >0.561485</td>\n",
       "    </tr>\n",
       "    <tr>\n",
       "      <th id=\"T_50ca3_level0_row5\" class=\"row_heading level0 row5\" >densenet121</th>\n",
       "      <td id=\"T_50ca3_row5_col0\" class=\"data row5 col0\" >0.907156</td>\n",
       "      <td id=\"T_50ca3_row5_col1\" class=\"data row5 col1\" >0.605568</td>\n",
       "      <td id=\"T_50ca3_row5_col2\" class=\"data row5 col2\" >0.605568</td>\n",
       "    </tr>\n",
       "    <tr>\n",
       "      <th id=\"T_50ca3_level0_row6\" class=\"row_heading level0 row6\" >densenet169</th>\n",
       "      <td id=\"T_50ca3_row6_col0\" class=\"data row6 col0\" >0.928015</td>\n",
       "      <td id=\"T_50ca3_row6_col1\" class=\"data row6 col1\" >0.577726</td>\n",
       "      <td id=\"T_50ca3_row6_col2\" class=\"data row6 col2\" >0.577726</td>\n",
       "    </tr>\n",
       "    <tr>\n",
       "      <th id=\"T_50ca3_level0_row7\" class=\"row_heading level0 row7\" >densenet201</th>\n",
       "      <td id=\"T_50ca3_row7_col0\" class=\"data row7 col0\" >0.864275</td>\n",
       "      <td id=\"T_50ca3_row7_col1\" class=\"data row7 col1\" >0.596288</td>\n",
       "      <td id=\"T_50ca3_row7_col2\" class=\"data row7 col2\" >0.596288</td>\n",
       "    </tr>\n",
       "  </tbody>\n",
       "</table style=\"display:inline\">\n",
       "</td><td style=\"vertical-align:top\"> <style type=\"text/css\">\n",
       "#T_0ddc8_row0_col0, #T_0ddc8_row3_col1, #T_0ddc8_row3_col2 {\n",
       "  color: tomato;\n",
       "}\n",
       "#T_0ddc8_row6_col0, #T_0ddc8_row7_col1, #T_0ddc8_row7_col2 {\n",
       "  color: lightgreen;\n",
       "}\n",
       "</style>\n",
       "<table style=\"display:inline\" id=\"T_0ddc8_\">\n",
       "  <thead>\n",
       "    <tr>\n",
       "      <th class=\"blank level0\" >&nbsp;</th>\n",
       "      <th class=\"col_heading level0 col0\" >Loss</th>\n",
       "      <th class=\"col_heading level0 col1\" >Accuracy</th>\n",
       "      <th class=\"col_heading level0 col2\" >F1-score</th>\n",
       "    </tr>\n",
       "  </thead>\n",
       "  <tbody>\n",
       "    <tr>\n",
       "      <th id=\"T_0ddc8_level0_row0\" class=\"row_heading level0 row0\" >vgg16</th>\n",
       "      <td id=\"T_0ddc8_row0_col0\" class=\"data row0 col0\" >0.924527</td>\n",
       "      <td id=\"T_0ddc8_row0_col1\" class=\"data row0 col1\" >0.548230</td>\n",
       "      <td id=\"T_0ddc8_row0_col2\" class=\"data row0 col2\" >0.548230</td>\n",
       "    </tr>\n",
       "    <tr>\n",
       "      <th id=\"T_0ddc8_level0_row1\" class=\"row_heading level0 row1\" >vgg19</th>\n",
       "      <td id=\"T_0ddc8_row1_col0\" class=\"data row1 col0\" >0.913936</td>\n",
       "      <td id=\"T_0ddc8_row1_col1\" class=\"data row1 col1\" >0.571429</td>\n",
       "      <td id=\"T_0ddc8_row1_col2\" class=\"data row1 col2\" >0.571429</td>\n",
       "    </tr>\n",
       "    <tr>\n",
       "      <th id=\"T_0ddc8_level0_row2\" class=\"row_heading level0 row2\" >resnet50</th>\n",
       "      <td id=\"T_0ddc8_row2_col0\" class=\"data row2 col0\" >0.911810</td>\n",
       "      <td id=\"T_0ddc8_row2_col1\" class=\"data row2 col1\" >0.554945</td>\n",
       "      <td id=\"T_0ddc8_row2_col2\" class=\"data row2 col2\" >0.554945</td>\n",
       "    </tr>\n",
       "    <tr>\n",
       "      <th id=\"T_0ddc8_level0_row3\" class=\"row_heading level0 row3\" >resnet101</th>\n",
       "      <td id=\"T_0ddc8_row3_col0\" class=\"data row3 col0\" >0.923054</td>\n",
       "      <td id=\"T_0ddc8_row3_col1\" class=\"data row3 col1\" >0.547009</td>\n",
       "      <td id=\"T_0ddc8_row3_col2\" class=\"data row3 col2\" >0.547009</td>\n",
       "    </tr>\n",
       "    <tr>\n",
       "      <th id=\"T_0ddc8_level0_row4\" class=\"row_heading level0 row4\" >resnet152</th>\n",
       "      <td id=\"T_0ddc8_row4_col0\" class=\"data row4 col0\" >0.919318</td>\n",
       "      <td id=\"T_0ddc8_row4_col1\" class=\"data row4 col1\" >0.550672</td>\n",
       "      <td id=\"T_0ddc8_row4_col2\" class=\"data row4 col2\" >0.550672</td>\n",
       "    </tr>\n",
       "    <tr>\n",
       "      <th id=\"T_0ddc8_level0_row5\" class=\"row_heading level0 row5\" >densenet121</th>\n",
       "      <td id=\"T_0ddc8_row5_col0\" class=\"data row5 col0\" >0.894839</td>\n",
       "      <td id=\"T_0ddc8_row5_col1\" class=\"data row5 col1\" >0.564103</td>\n",
       "      <td id=\"T_0ddc8_row5_col2\" class=\"data row5 col2\" >0.564103</td>\n",
       "    </tr>\n",
       "    <tr>\n",
       "      <th id=\"T_0ddc8_level0_row6\" class=\"row_heading level0 row6\" >densenet169</th>\n",
       "      <td id=\"T_0ddc8_row6_col0\" class=\"data row6 col0\" >0.889975</td>\n",
       "      <td id=\"T_0ddc8_row6_col1\" class=\"data row6 col1\" >0.567766</td>\n",
       "      <td id=\"T_0ddc8_row6_col2\" class=\"data row6 col2\" >0.567766</td>\n",
       "    </tr>\n",
       "    <tr>\n",
       "      <th id=\"T_0ddc8_level0_row7\" class=\"row_heading level0 row7\" >densenet201</th>\n",
       "      <td id=\"T_0ddc8_row7_col0\" class=\"data row7 col0\" >0.897645</td>\n",
       "      <td id=\"T_0ddc8_row7_col1\" class=\"data row7 col1\" >0.581197</td>\n",
       "      <td id=\"T_0ddc8_row7_col2\" class=\"data row7 col2\" >0.581197</td>\n",
       "    </tr>\n",
       "  </tbody>\n",
       "</table style=\"display:inline\">\n",
       "</td><td style=\"vertical-align:top\"> <style type=\"text/css\">\n",
       "#T_9a14a_row4_col0, #T_9a14a_row4_col1, #T_9a14a_row4_col2 {\n",
       "  color: tomato;\n",
       "}\n",
       "#T_9a14a_row7_col0, #T_9a14a_row7_col1, #T_9a14a_row7_col2 {\n",
       "  color: lightgreen;\n",
       "}\n",
       "</style>\n",
       "<table style=\"display:inline\" id=\"T_9a14a_\">\n",
       "  <thead>\n",
       "    <tr>\n",
       "      <th class=\"blank level0\" >&nbsp;</th>\n",
       "      <th class=\"col_heading level0 col0\" >Loss</th>\n",
       "      <th class=\"col_heading level0 col1\" >Accuracy</th>\n",
       "      <th class=\"col_heading level0 col2\" >F1-score</th>\n",
       "    </tr>\n",
       "  </thead>\n",
       "  <tbody>\n",
       "    <tr>\n",
       "      <th id=\"T_9a14a_level0_row0\" class=\"row_heading level0 row0\" >vgg16</th>\n",
       "      <td id=\"T_9a14a_row0_col0\" class=\"data row0 col0\" >0.895043</td>\n",
       "      <td id=\"T_9a14a_row0_col1\" class=\"data row0 col1\" >0.562978</td>\n",
       "      <td id=\"T_9a14a_row0_col2\" class=\"data row0 col2\" >0.562978</td>\n",
       "    </tr>\n",
       "    <tr>\n",
       "      <th id=\"T_9a14a_level0_row1\" class=\"row_heading level0 row1\" >vgg19</th>\n",
       "      <td id=\"T_9a14a_row1_col0\" class=\"data row1 col0\" >0.886660</td>\n",
       "      <td id=\"T_9a14a_row1_col1\" class=\"data row1 col1\" >0.575738</td>\n",
       "      <td id=\"T_9a14a_row1_col2\" class=\"data row1 col2\" >0.575738</td>\n",
       "    </tr>\n",
       "    <tr>\n",
       "      <th id=\"T_9a14a_level0_row2\" class=\"row_heading level0 row2\" >resnet50</th>\n",
       "      <td id=\"T_9a14a_row2_col0\" class=\"data row2 col0\" >0.921250</td>\n",
       "      <td id=\"T_9a14a_row2_col1\" class=\"data row2 col1\" >0.567496</td>\n",
       "      <td id=\"T_9a14a_row2_col2\" class=\"data row2 col2\" >0.567496</td>\n",
       "    </tr>\n",
       "    <tr>\n",
       "      <th id=\"T_9a14a_level0_row3\" class=\"row_heading level0 row3\" >resnet101</th>\n",
       "      <td id=\"T_9a14a_row3_col0\" class=\"data row3 col0\" >0.925278</td>\n",
       "      <td id=\"T_9a14a_row3_col1\" class=\"data row3 col1\" >0.562367</td>\n",
       "      <td id=\"T_9a14a_row3_col2\" class=\"data row3 col2\" >0.562367</td>\n",
       "    </tr>\n",
       "    <tr>\n",
       "      <th id=\"T_9a14a_level0_row4\" class=\"row_heading level0 row4\" >resnet152</th>\n",
       "      <td id=\"T_9a14a_row4_col0\" class=\"data row4 col0\" >0.938826</td>\n",
       "      <td id=\"T_9a14a_row4_col1\" class=\"data row4 col1\" >0.556078</td>\n",
       "      <td id=\"T_9a14a_row4_col2\" class=\"data row4 col2\" >0.556078</td>\n",
       "    </tr>\n",
       "    <tr>\n",
       "      <th id=\"T_9a14a_level0_row5\" class=\"row_heading level0 row5\" >densenet121</th>\n",
       "      <td id=\"T_9a14a_row5_col0\" class=\"data row5 col0\" >0.900998</td>\n",
       "      <td id=\"T_9a14a_row5_col1\" class=\"data row5 col1\" >0.584836</td>\n",
       "      <td id=\"T_9a14a_row5_col2\" class=\"data row5 col2\" >0.584836</td>\n",
       "    </tr>\n",
       "    <tr>\n",
       "      <th id=\"T_9a14a_level0_row6\" class=\"row_heading level0 row6\" >densenet169</th>\n",
       "      <td id=\"T_9a14a_row6_col0\" class=\"data row6 col0\" >0.908995</td>\n",
       "      <td id=\"T_9a14a_row6_col1\" class=\"data row6 col1\" >0.572746</td>\n",
       "      <td id=\"T_9a14a_row6_col2\" class=\"data row6 col2\" >0.572746</td>\n",
       "    </tr>\n",
       "    <tr>\n",
       "      <th id=\"T_9a14a_level0_row7\" class=\"row_heading level0 row7\" >densenet201</th>\n",
       "      <td id=\"T_9a14a_row7_col0\" class=\"data row7 col0\" >0.880960</td>\n",
       "      <td id=\"T_9a14a_row7_col1\" class=\"data row7 col1\" >0.588742</td>\n",
       "      <td id=\"T_9a14a_row7_col2\" class=\"data row7 col2\" >0.588742</td>\n",
       "    </tr>\n",
       "  </tbody>\n",
       "</table style=\"display:inline\">\n",
       "</td></tr></table style=\"display:inline\">"
      ]
     },
     "metadata": {},
     "output_type": "display_data"
    }
   ],
   "source": [
    "print('With original image labels\\n')\n",
    "display_dataframes((style_dataframe(df_single_scores), style_dataframe(df_multiple_scores), style_dataframe(df_average_scores)), \n",
    "                   names=['MVSA-Single', 'MVSA-Multiple', 'Average'])"
   ]
  },
  {
   "cell_type": "markdown",
   "id": "26f5e60b",
   "metadata": {
    "papermill": {
     "duration": 0.009627,
     "end_time": "2022-06-30T13:47:41.659792",
     "exception": false,
     "start_time": "2022-06-30T13:47:41.650165",
     "status": "completed"
    },
    "tags": []
   },
   "source": [
    "## With multimodal labels"
   ]
  },
  {
   "cell_type": "code",
   "execution_count": 21,
   "id": "ad6de30b",
   "metadata": {
    "execution": {
     "iopub.execute_input": "2022-06-30T13:47:41.679318Z",
     "iopub.status.busy": "2022-06-30T13:47:41.679059Z",
     "iopub.status.idle": "2022-06-30T13:48:04.823583Z",
     "shell.execute_reply": "2022-06-30T13:48:04.822568Z"
    },
    "papermill": {
     "duration": 23.156804,
     "end_time": "2022-06-30T13:48:04.825764",
     "exception": false,
     "start_time": "2022-06-30T13:47:41.668960",
     "status": "completed"
    },
    "tags": []
   },
   "outputs": [
    {
     "name": "stdout",
     "output_type": "stream",
     "text": [
      "With multimodal labels\n",
      "MVSA-Single: vgg16\n",
      "16\n",
      "\n",
      "MVSA-Single: vgg19\n",
      "13\n",
      "\n",
      "MVSA-Single: resnet50\n",
      "22\n",
      "\n",
      "MVSA-Single: resnet101\n",
      "22\n",
      "\n",
      "MVSA-Single: resnet152\n",
      "28\n",
      "\n",
      "MVSA-Single: densenet121\n",
      "22\n",
      "\n",
      "MVSA-Single: densenet169\n",
      "12\n",
      "\n",
      "MVSA-Single: densenet201\n",
      "14\n",
      "\n"
     ]
    }
   ],
   "source": [
    "print('With multimodal labels')\n",
    "\n",
    "# run model with all features data of MVSA-Single\n",
    "mvsa_single_hitories2 = []\n",
    "mvsa_single_score2 = []\n",
    "for i in range(len(pretrained_names)):\n",
    "    print('MVSA-Single:', pretrained_names[i])\n",
    "    history, scores = run_and_evaluate('single-' + pretrained_names[i], mvsa_single_features[i], mvsa_single_multimodal_labels, verbose=0)\n",
    "    mvsa_single_hitories2.append(history)\n",
    "    mvsa_single_score2.append(scores)\n",
    "    print()\n",
    "    \n",
    "df_single_scores2 = pd.DataFrame(mvsa_single_score2, columns=['Loss', 'Accuracy', 'F1-score'], index=pretrained_names)"
   ]
  },
  {
   "cell_type": "code",
   "execution_count": 22,
   "id": "6b47f682",
   "metadata": {
    "execution": {
     "iopub.execute_input": "2022-06-30T13:48:04.849491Z",
     "iopub.status.busy": "2022-06-30T13:48:04.847848Z",
     "iopub.status.idle": "2022-06-30T13:49:03.919046Z",
     "shell.execute_reply": "2022-06-30T13:49:03.917326Z"
    },
    "papermill": {
     "duration": 59.084741,
     "end_time": "2022-06-30T13:49:03.921039",
     "exception": false,
     "start_time": "2022-06-30T13:48:04.836298",
     "status": "completed"
    },
    "tags": []
   },
   "outputs": [
    {
     "name": "stdout",
     "output_type": "stream",
     "text": [
      "With multimodal labels\n",
      "MVSA-Multiple: vgg16\n",
      "18\n",
      "\n",
      "MVSA-Multiple: vgg19\n",
      "18\n",
      "\n",
      "MVSA-Multiple: resnet50\n",
      "18\n",
      "\n",
      "MVSA-Multiple: resnet101\n",
      "20\n",
      "\n",
      "MVSA-Multiple: resnet152\n",
      "20\n",
      "\n",
      "MVSA-Multiple: densenet121\n",
      "16\n",
      "\n",
      "MVSA-Multiple: densenet169\n",
      "16\n",
      "\n",
      "MVSA-Multiple: densenet201\n",
      "13\n",
      "\n"
     ]
    }
   ],
   "source": [
    "print('With multimodal labels')\n",
    "# run model with all features data of MVSA-Multiple\n",
    "mvsa_multiple_hitories2 = []\n",
    "mvsa_multiple_score2 = []\n",
    "for i in range(len(pretrained_names)):\n",
    "    print('MVSA-Multiple:', pretrained_names[i])\n",
    "    history, scores = run_and_evaluate('multiple-' + pretrained_names[i], mvsa_multiple_features[i], mvsa_multiple_multimodal_labels, verbose=0)\n",
    "    mvsa_multiple_hitories2.append(history)\n",
    "    mvsa_multiple_score2.append(scores)\n",
    "    print()\n",
    "    \n",
    "df_multiple_scores2 = pd.DataFrame(mvsa_multiple_score2, columns=['Loss', 'Accuracy', 'F1-score'], index=pretrained_names)"
   ]
  },
  {
   "cell_type": "code",
   "execution_count": 23,
   "id": "f0e5cb0c",
   "metadata": {
    "execution": {
     "iopub.execute_input": "2022-06-30T13:49:03.945608Z",
     "iopub.status.busy": "2022-06-30T13:49:03.945307Z",
     "iopub.status.idle": "2022-06-30T13:49:03.951855Z",
     "shell.execute_reply": "2022-06-30T13:49:03.950676Z"
    },
    "papermill": {
     "duration": 0.021136,
     "end_time": "2022-06-30T13:49:03.953975",
     "exception": false,
     "start_time": "2022-06-30T13:49:03.932839",
     "status": "completed"
    },
    "tags": []
   },
   "outputs": [],
   "source": [
    "mvsa_average_scores2 = np.mean([mvsa_single_score2, mvsa_multiple_score2], axis=0)\n",
    "df_average_scores2 = pd.DataFrame(mvsa_average_scores2, columns=['Loss', 'Accuracy', 'F1-score'], index=pretrained_names)"
   ]
  },
  {
   "cell_type": "code",
   "execution_count": 24,
   "id": "9e4a1414",
   "metadata": {
    "execution": {
     "iopub.execute_input": "2022-06-30T13:49:03.977740Z",
     "iopub.status.busy": "2022-06-30T13:49:03.977439Z",
     "iopub.status.idle": "2022-06-30T13:49:04.021181Z",
     "shell.execute_reply": "2022-06-30T13:49:04.020140Z"
    },
    "papermill": {
     "duration": 0.058631,
     "end_time": "2022-06-30T13:49:04.023848",
     "exception": false,
     "start_time": "2022-06-30T13:49:03.965217",
     "status": "completed"
    },
    "tags": []
   },
   "outputs": [
    {
     "name": "stdout",
     "output_type": "stream",
     "text": [
      "With multimodal labels\n",
      "\n"
     ]
    },
    {
     "data": {
      "text/html": [
       "<table style=\"display:inline\"><tr><td style=\"text-align:center\">MVSA-Single</td><td style=\"text-align:center\">MVSA-Multiple</td><td style=\"text-align:center\">Average</td></tr><tr><td style=\"vertical-align:top\"> <style type=\"text/css\">\n",
       "#T_1288a_row0_col1, #T_1288a_row0_col2, #T_1288a_row1_col0 {\n",
       "  color: lightgreen;\n",
       "}\n",
       "#T_1288a_row6_col0, #T_1288a_row7_col1, #T_1288a_row7_col2 {\n",
       "  color: tomato;\n",
       "}\n",
       "</style>\n",
       "<table style=\"display:inline\" id=\"T_1288a_\">\n",
       "  <thead>\n",
       "    <tr>\n",
       "      <th class=\"blank level0\" >&nbsp;</th>\n",
       "      <th class=\"col_heading level0 col0\" >Loss</th>\n",
       "      <th class=\"col_heading level0 col1\" >Accuracy</th>\n",
       "      <th class=\"col_heading level0 col2\" >F1-score</th>\n",
       "    </tr>\n",
       "  </thead>\n",
       "  <tbody>\n",
       "    <tr>\n",
       "      <th id=\"T_1288a_level0_row0\" class=\"row_heading level0 row0\" >vgg16</th>\n",
       "      <td id=\"T_1288a_row0_col0\" class=\"data row0 col0\" >0.760666</td>\n",
       "      <td id=\"T_1288a_row0_col1\" class=\"data row0 col1\" >0.628770</td>\n",
       "      <td id=\"T_1288a_row0_col2\" class=\"data row0 col2\" >0.628770</td>\n",
       "    </tr>\n",
       "    <tr>\n",
       "      <th id=\"T_1288a_level0_row1\" class=\"row_heading level0 row1\" >vgg19</th>\n",
       "      <td id=\"T_1288a_row1_col0\" class=\"data row1 col0\" >0.757656</td>\n",
       "      <td id=\"T_1288a_row1_col1\" class=\"data row1 col1\" >0.617169</td>\n",
       "      <td id=\"T_1288a_row1_col2\" class=\"data row1 col2\" >0.617169</td>\n",
       "    </tr>\n",
       "    <tr>\n",
       "      <th id=\"T_1288a_level0_row2\" class=\"row_heading level0 row2\" >resnet50</th>\n",
       "      <td id=\"T_1288a_row2_col0\" class=\"data row2 col0\" >0.796381</td>\n",
       "      <td id=\"T_1288a_row2_col1\" class=\"data row2 col1\" >0.610209</td>\n",
       "      <td id=\"T_1288a_row2_col2\" class=\"data row2 col2\" >0.610209</td>\n",
       "    </tr>\n",
       "    <tr>\n",
       "      <th id=\"T_1288a_level0_row3\" class=\"row_heading level0 row3\" >resnet101</th>\n",
       "      <td id=\"T_1288a_row3_col0\" class=\"data row3 col0\" >0.803058</td>\n",
       "      <td id=\"T_1288a_row3_col1\" class=\"data row3 col1\" >0.612529</td>\n",
       "      <td id=\"T_1288a_row3_col2\" class=\"data row3 col2\" >0.612529</td>\n",
       "    </tr>\n",
       "    <tr>\n",
       "      <th id=\"T_1288a_level0_row4\" class=\"row_heading level0 row4\" >resnet152</th>\n",
       "      <td id=\"T_1288a_row4_col0\" class=\"data row4 col0\" >0.817103</td>\n",
       "      <td id=\"T_1288a_row4_col1\" class=\"data row4 col1\" >0.603248</td>\n",
       "      <td id=\"T_1288a_row4_col2\" class=\"data row4 col2\" >0.603248</td>\n",
       "    </tr>\n",
       "    <tr>\n",
       "      <th id=\"T_1288a_level0_row5\" class=\"row_heading level0 row5\" >densenet121</th>\n",
       "      <td id=\"T_1288a_row5_col0\" class=\"data row5 col0\" >0.835543</td>\n",
       "      <td id=\"T_1288a_row5_col1\" class=\"data row5 col1\" >0.591647</td>\n",
       "      <td id=\"T_1288a_row5_col2\" class=\"data row5 col2\" >0.591647</td>\n",
       "    </tr>\n",
       "    <tr>\n",
       "      <th id=\"T_1288a_level0_row6\" class=\"row_heading level0 row6\" >densenet169</th>\n",
       "      <td id=\"T_1288a_row6_col0\" class=\"data row6 col0\" >0.840911</td>\n",
       "      <td id=\"T_1288a_row6_col1\" class=\"data row6 col1\" >0.598608</td>\n",
       "      <td id=\"T_1288a_row6_col2\" class=\"data row6 col2\" >0.598608</td>\n",
       "    </tr>\n",
       "    <tr>\n",
       "      <th id=\"T_1288a_level0_row7\" class=\"row_heading level0 row7\" >densenet201</th>\n",
       "      <td id=\"T_1288a_row7_col0\" class=\"data row7 col0\" >0.831024</td>\n",
       "      <td id=\"T_1288a_row7_col1\" class=\"data row7 col1\" >0.587007</td>\n",
       "      <td id=\"T_1288a_row7_col2\" class=\"data row7 col2\" >0.587007</td>\n",
       "    </tr>\n",
       "  </tbody>\n",
       "</table style=\"display:inline\">\n",
       "</td><td style=\"vertical-align:top\"> <style type=\"text/css\">\n",
       "#T_6bb99_row1_col1, #T_6bb99_row1_col2, #T_6bb99_row7_col0 {\n",
       "  color: lightgreen;\n",
       "}\n",
       "#T_6bb99_row4_col0, #T_6bb99_row6_col1, #T_6bb99_row6_col2 {\n",
       "  color: tomato;\n",
       "}\n",
       "</style>\n",
       "<table style=\"display:inline\" id=\"T_6bb99_\">\n",
       "  <thead>\n",
       "    <tr>\n",
       "      <th class=\"blank level0\" >&nbsp;</th>\n",
       "      <th class=\"col_heading level0 col0\" >Loss</th>\n",
       "      <th class=\"col_heading level0 col1\" >Accuracy</th>\n",
       "      <th class=\"col_heading level0 col2\" >F1-score</th>\n",
       "    </tr>\n",
       "  </thead>\n",
       "  <tbody>\n",
       "    <tr>\n",
       "      <th id=\"T_6bb99_level0_row0\" class=\"row_heading level0 row0\" >vgg16</th>\n",
       "      <td id=\"T_6bb99_row0_col0\" class=\"data row0 col0\" >0.891924</td>\n",
       "      <td id=\"T_6bb99_row0_col1\" class=\"data row0 col1\" >0.638584</td>\n",
       "      <td id=\"T_6bb99_row0_col2\" class=\"data row0 col2\" >0.638584</td>\n",
       "    </tr>\n",
       "    <tr>\n",
       "      <th id=\"T_6bb99_level0_row1\" class=\"row_heading level0 row1\" >vgg19</th>\n",
       "      <td id=\"T_6bb99_row1_col0\" class=\"data row1 col0\" >0.901875</td>\n",
       "      <td id=\"T_6bb99_row1_col1\" class=\"data row1 col1\" >0.645910</td>\n",
       "      <td id=\"T_6bb99_row1_col2\" class=\"data row1 col2\" >0.645910</td>\n",
       "    </tr>\n",
       "    <tr>\n",
       "      <th id=\"T_6bb99_level0_row2\" class=\"row_heading level0 row2\" >resnet50</th>\n",
       "      <td id=\"T_6bb99_row2_col0\" class=\"data row2 col0\" >0.903102</td>\n",
       "      <td id=\"T_6bb99_row2_col1\" class=\"data row2 col1\" >0.639805</td>\n",
       "      <td id=\"T_6bb99_row2_col2\" class=\"data row2 col2\" >0.639805</td>\n",
       "    </tr>\n",
       "    <tr>\n",
       "      <th id=\"T_6bb99_level0_row3\" class=\"row_heading level0 row3\" >resnet101</th>\n",
       "      <td id=\"T_6bb99_row3_col0\" class=\"data row3 col0\" >0.905602</td>\n",
       "      <td id=\"T_6bb99_row3_col1\" class=\"data row3 col1\" >0.639805</td>\n",
       "      <td id=\"T_6bb99_row3_col2\" class=\"data row3 col2\" >0.639805</td>\n",
       "    </tr>\n",
       "    <tr>\n",
       "      <th id=\"T_6bb99_level0_row4\" class=\"row_heading level0 row4\" >resnet152</th>\n",
       "      <td id=\"T_6bb99_row4_col0\" class=\"data row4 col0\" >0.905639</td>\n",
       "      <td id=\"T_6bb99_row4_col1\" class=\"data row4 col1\" >0.639805</td>\n",
       "      <td id=\"T_6bb99_row4_col2\" class=\"data row4 col2\" >0.639805</td>\n",
       "    </tr>\n",
       "    <tr>\n",
       "      <th id=\"T_6bb99_level0_row5\" class=\"row_heading level0 row5\" >densenet121</th>\n",
       "      <td id=\"T_6bb99_row5_col0\" class=\"data row5 col0\" >0.891714</td>\n",
       "      <td id=\"T_6bb99_row5_col1\" class=\"data row5 col1\" >0.630647</td>\n",
       "      <td id=\"T_6bb99_row5_col2\" class=\"data row5 col2\" >0.630647</td>\n",
       "    </tr>\n",
       "    <tr>\n",
       "      <th id=\"T_6bb99_level0_row6\" class=\"row_heading level0 row6\" >densenet169</th>\n",
       "      <td id=\"T_6bb99_row6_col0\" class=\"data row6 col0\" >0.877630</td>\n",
       "      <td id=\"T_6bb99_row6_col1\" class=\"data row6 col1\" >0.626374</td>\n",
       "      <td id=\"T_6bb99_row6_col2\" class=\"data row6 col2\" >0.626374</td>\n",
       "    </tr>\n",
       "    <tr>\n",
       "      <th id=\"T_6bb99_level0_row7\" class=\"row_heading level0 row7\" >densenet201</th>\n",
       "      <td id=\"T_6bb99_row7_col0\" class=\"data row7 col0\" >0.866111</td>\n",
       "      <td id=\"T_6bb99_row7_col1\" class=\"data row7 col1\" >0.634310</td>\n",
       "      <td id=\"T_6bb99_row7_col2\" class=\"data row7 col2\" >0.634310</td>\n",
       "    </tr>\n",
       "  </tbody>\n",
       "</table style=\"display:inline\">\n",
       "</td><td style=\"vertical-align:top\"> <style type=\"text/css\">\n",
       "#T_9d808_row0_col0, #T_9d808_row0_col1, #T_9d808_row0_col2 {\n",
       "  color: lightgreen;\n",
       "}\n",
       "#T_9d808_row5_col0, #T_9d808_row7_col1, #T_9d808_row7_col2 {\n",
       "  color: tomato;\n",
       "}\n",
       "</style>\n",
       "<table style=\"display:inline\" id=\"T_9d808_\">\n",
       "  <thead>\n",
       "    <tr>\n",
       "      <th class=\"blank level0\" >&nbsp;</th>\n",
       "      <th class=\"col_heading level0 col0\" >Loss</th>\n",
       "      <th class=\"col_heading level0 col1\" >Accuracy</th>\n",
       "      <th class=\"col_heading level0 col2\" >F1-score</th>\n",
       "    </tr>\n",
       "  </thead>\n",
       "  <tbody>\n",
       "    <tr>\n",
       "      <th id=\"T_9d808_level0_row0\" class=\"row_heading level0 row0\" >vgg16</th>\n",
       "      <td id=\"T_9d808_row0_col0\" class=\"data row0 col0\" >0.826295</td>\n",
       "      <td id=\"T_9d808_row0_col1\" class=\"data row0 col1\" >0.633677</td>\n",
       "      <td id=\"T_9d808_row0_col2\" class=\"data row0 col2\" >0.633677</td>\n",
       "    </tr>\n",
       "    <tr>\n",
       "      <th id=\"T_9d808_level0_row1\" class=\"row_heading level0 row1\" >vgg19</th>\n",
       "      <td id=\"T_9d808_row1_col0\" class=\"data row1 col0\" >0.829766</td>\n",
       "      <td id=\"T_9d808_row1_col1\" class=\"data row1 col1\" >0.631540</td>\n",
       "      <td id=\"T_9d808_row1_col2\" class=\"data row1 col2\" >0.631540</td>\n",
       "    </tr>\n",
       "    <tr>\n",
       "      <th id=\"T_9d808_level0_row2\" class=\"row_heading level0 row2\" >resnet50</th>\n",
       "      <td id=\"T_9d808_row2_col0\" class=\"data row2 col0\" >0.849742</td>\n",
       "      <td id=\"T_9d808_row2_col1\" class=\"data row2 col1\" >0.625007</td>\n",
       "      <td id=\"T_9d808_row2_col2\" class=\"data row2 col2\" >0.625007</td>\n",
       "    </tr>\n",
       "    <tr>\n",
       "      <th id=\"T_9d808_level0_row3\" class=\"row_heading level0 row3\" >resnet101</th>\n",
       "      <td id=\"T_9d808_row3_col0\" class=\"data row3 col0\" >0.854330</td>\n",
       "      <td id=\"T_9d808_row3_col1\" class=\"data row3 col1\" >0.626167</td>\n",
       "      <td id=\"T_9d808_row3_col2\" class=\"data row3 col2\" >0.626167</td>\n",
       "    </tr>\n",
       "    <tr>\n",
       "      <th id=\"T_9d808_level0_row4\" class=\"row_heading level0 row4\" >resnet152</th>\n",
       "      <td id=\"T_9d808_row4_col0\" class=\"data row4 col0\" >0.861371</td>\n",
       "      <td id=\"T_9d808_row4_col1\" class=\"data row4 col1\" >0.621526</td>\n",
       "      <td id=\"T_9d808_row4_col2\" class=\"data row4 col2\" >0.621526</td>\n",
       "    </tr>\n",
       "    <tr>\n",
       "      <th id=\"T_9d808_level0_row5\" class=\"row_heading level0 row5\" >densenet121</th>\n",
       "      <td id=\"T_9d808_row5_col0\" class=\"data row5 col0\" >0.863629</td>\n",
       "      <td id=\"T_9d808_row5_col1\" class=\"data row5 col1\" >0.611147</td>\n",
       "      <td id=\"T_9d808_row5_col2\" class=\"data row5 col2\" >0.611147</td>\n",
       "    </tr>\n",
       "    <tr>\n",
       "      <th id=\"T_9d808_level0_row6\" class=\"row_heading level0 row6\" >densenet169</th>\n",
       "      <td id=\"T_9d808_row6_col0\" class=\"data row6 col0\" >0.859271</td>\n",
       "      <td id=\"T_9d808_row6_col1\" class=\"data row6 col1\" >0.612491</td>\n",
       "      <td id=\"T_9d808_row6_col2\" class=\"data row6 col2\" >0.612491</td>\n",
       "    </tr>\n",
       "    <tr>\n",
       "      <th id=\"T_9d808_level0_row7\" class=\"row_heading level0 row7\" >densenet201</th>\n",
       "      <td id=\"T_9d808_row7_col0\" class=\"data row7 col0\" >0.848567</td>\n",
       "      <td id=\"T_9d808_row7_col1\" class=\"data row7 col1\" >0.610659</td>\n",
       "      <td id=\"T_9d808_row7_col2\" class=\"data row7 col2\" >0.610659</td>\n",
       "    </tr>\n",
       "  </tbody>\n",
       "</table style=\"display:inline\">\n",
       "</td></tr></table style=\"display:inline\">"
      ]
     },
     "metadata": {},
     "output_type": "display_data"
    }
   ],
   "source": [
    "print('With multimodal labels\\n')\n",
    "display_dataframes((style_dataframe(df_single_scores2), style_dataframe(df_multiple_scores2), style_dataframe(df_average_scores2)), \n",
    "                   names=['MVSA-Single', 'MVSA-Multiple', 'Average'])"
   ]
  },
  {
   "cell_type": "markdown",
   "id": "266bdb49",
   "metadata": {
    "papermill": {
     "duration": 0.011391,
     "end_time": "2022-06-30T13:49:04.047414",
     "exception": false,
     "start_time": "2022-06-30T13:49:04.036023",
     "status": "completed"
    },
    "tags": []
   },
   "source": [
    "# With merge MVSA data"
   ]
  },
  {
   "cell_type": "code",
   "execution_count": 25,
   "id": "2f718ad9",
   "metadata": {
    "execution": {
     "iopub.execute_input": "2022-06-30T13:49:04.073034Z",
     "iopub.status.busy": "2022-06-30T13:49:04.071615Z",
     "iopub.status.idle": "2022-06-30T13:50:09.445400Z",
     "shell.execute_reply": "2022-06-30T13:50:09.444412Z"
    },
    "papermill": {
     "duration": 65.388363,
     "end_time": "2022-06-30T13:50:09.447506",
     "exception": false,
     "start_time": "2022-06-30T13:49:04.059143",
     "status": "completed"
    },
    "tags": []
   },
   "outputs": [
    {
     "name": "stdout",
     "output_type": "stream",
     "text": [
      "With original image labels\n",
      "Both MVSA: vgg16\n",
      "26\n",
      "\n",
      "Both MVSA: vgg19\n",
      "11\n",
      "\n",
      "Both MVSA: resnet50\n",
      "14\n",
      "\n",
      "Both MVSA: resnet101\n",
      "14\n",
      "\n",
      "Both MVSA: resnet152\n",
      "14\n",
      "\n",
      "Both MVSA: densenet121\n",
      "14\n",
      "\n",
      "Both MVSA: densenet169\n",
      "14\n",
      "\n",
      "Both MVSA: densenet201\n",
      "14\n",
      "\n"
     ]
    }
   ],
   "source": [
    "print('With original image labels')\n",
    "mvsa_hitories3 = []\n",
    "mvsa_score3 = []\n",
    "for i in range(len(pretrained_names)):\n",
    "    print('Both MVSA:', pretrained_names[i])\n",
    "    history, scores = run_and_evaluate('single-' + pretrained_names[i], mvsa_features[i], mvsa_image_labels, verbose=0)\n",
    "    mvsa_hitories3.append(history)\n",
    "    mvsa_score3.append(scores)\n",
    "    print()\n",
    "    \n",
    "df_scores3 = pd.DataFrame(mvsa_score3, columns=['Loss', 'Accuracy', 'F1-score'], index=pretrained_names)"
   ]
  },
  {
   "cell_type": "code",
   "execution_count": 26,
   "id": "756b3b6a",
   "metadata": {
    "execution": {
     "iopub.execute_input": "2022-06-30T13:50:09.475663Z",
     "iopub.status.busy": "2022-06-30T13:50:09.475354Z",
     "iopub.status.idle": "2022-06-30T13:51:08.636182Z",
     "shell.execute_reply": "2022-06-30T13:51:08.635187Z"
    },
    "papermill": {
     "duration": 59.176889,
     "end_time": "2022-06-30T13:51:08.638324",
     "exception": false,
     "start_time": "2022-06-30T13:50:09.461435",
     "status": "completed"
    },
    "tags": []
   },
   "outputs": [
    {
     "name": "stdout",
     "output_type": "stream",
     "text": [
      "With multimodal labels\n",
      "Both MVSA: vgg16\n",
      "11\n",
      "\n",
      "Both MVSA: vgg19\n",
      "11\n",
      "\n",
      "Both MVSA: resnet50\n",
      "14\n",
      "\n",
      "Both MVSA: resnet101\n",
      "14\n",
      "\n",
      "Both MVSA: resnet152\n",
      "14\n",
      "\n",
      "Both MVSA: densenet121\n",
      "14\n",
      "\n",
      "Both MVSA: densenet169\n",
      "14\n",
      "\n",
      "Both MVSA: densenet201\n",
      "18\n",
      "\n"
     ]
    }
   ],
   "source": [
    "print('With multimodal labels')\n",
    "mvsa_hitories4 = []\n",
    "mvsa_score4 = []\n",
    "for i in range(len(pretrained_names)):\n",
    "    print('Both MVSA:', pretrained_names[i])\n",
    "    history, scores = run_and_evaluate('single-' + pretrained_names[i], mvsa_features[i], mvsa_multimodal_labels, verbose=0)\n",
    "    mvsa_hitories4.append(history)\n",
    "    mvsa_score4.append(scores)\n",
    "    print()\n",
    "    \n",
    "df_scores4 = pd.DataFrame(mvsa_score4, columns=['Loss', 'Accuracy', 'F1-score'], index=pretrained_names)"
   ]
  },
  {
   "cell_type": "code",
   "execution_count": 27,
   "id": "ec643041",
   "metadata": {
    "execution": {
     "iopub.execute_input": "2022-06-30T13:51:08.668481Z",
     "iopub.status.busy": "2022-06-30T13:51:08.667136Z",
     "iopub.status.idle": "2022-06-30T13:51:08.701416Z",
     "shell.execute_reply": "2022-06-30T13:51:08.700527Z"
    },
    "papermill": {
     "duration": 0.050948,
     "end_time": "2022-06-30T13:51:08.703511",
     "exception": false,
     "start_time": "2022-06-30T13:51:08.652563",
     "status": "completed"
    },
    "tags": []
   },
   "outputs": [
    {
     "name": "stdout",
     "output_type": "stream",
     "text": [
      "With both MVSA merged together\n",
      "\n"
     ]
    },
    {
     "data": {
      "text/html": [
       "<table style=\"display:inline\"><tr><td style=\"text-align:center\">Original image labels</td><td style=\"text-align:center\">Multimodal labels</td></tr><tr><td style=\"vertical-align:top\"> <style type=\"text/css\">\n",
       "#T_a4737_row4_col0, #T_a4737_row4_col1, #T_a4737_row4_col2 {\n",
       "  color: tomato;\n",
       "}\n",
       "#T_a4737_row7_col0, #T_a4737_row7_col1, #T_a4737_row7_col2 {\n",
       "  color: lightgreen;\n",
       "}\n",
       "</style>\n",
       "<table style=\"display:inline\" id=\"T_a4737_\">\n",
       "  <thead>\n",
       "    <tr>\n",
       "      <th class=\"blank level0\" >&nbsp;</th>\n",
       "      <th class=\"col_heading level0 col0\" >Loss</th>\n",
       "      <th class=\"col_heading level0 col1\" >Accuracy</th>\n",
       "      <th class=\"col_heading level0 col2\" >F1-score</th>\n",
       "    </tr>\n",
       "  </thead>\n",
       "  <tbody>\n",
       "    <tr>\n",
       "      <th id=\"T_a4737_level0_row0\" class=\"row_heading level0 row0\" >vgg16</th>\n",
       "      <td id=\"T_a4737_row0_col0\" class=\"data row0 col0\" >0.859472</td>\n",
       "      <td id=\"T_a4737_row0_col1\" class=\"data row0 col1\" >0.591787</td>\n",
       "      <td id=\"T_a4737_row0_col2\" class=\"data row0 col2\" >0.591787</td>\n",
       "    </tr>\n",
       "    <tr>\n",
       "      <th id=\"T_a4737_level0_row1\" class=\"row_heading level0 row1\" >vgg19</th>\n",
       "      <td id=\"T_a4737_row1_col0\" class=\"data row1 col0\" >0.873409</td>\n",
       "      <td id=\"T_a4737_row1_col1\" class=\"data row1 col1\" >0.585507</td>\n",
       "      <td id=\"T_a4737_row1_col2\" class=\"data row1 col2\" >0.585507</td>\n",
       "    </tr>\n",
       "    <tr>\n",
       "      <th id=\"T_a4737_level0_row2\" class=\"row_heading level0 row2\" >resnet50</th>\n",
       "      <td id=\"T_a4737_row2_col0\" class=\"data row2 col0\" >0.878242</td>\n",
       "      <td id=\"T_a4737_row2_col1\" class=\"data row2 col1\" >0.576812</td>\n",
       "      <td id=\"T_a4737_row2_col2\" class=\"data row2 col2\" >0.576812</td>\n",
       "    </tr>\n",
       "    <tr>\n",
       "      <th id=\"T_a4737_level0_row3\" class=\"row_heading level0 row3\" >resnet101</th>\n",
       "      <td id=\"T_a4737_row3_col0\" class=\"data row3 col0\" >0.881290</td>\n",
       "      <td id=\"T_a4737_row3_col1\" class=\"data row3 col1\" >0.576812</td>\n",
       "      <td id=\"T_a4737_row3_col2\" class=\"data row3 col2\" >0.576812</td>\n",
       "    </tr>\n",
       "    <tr>\n",
       "      <th id=\"T_a4737_level0_row4\" class=\"row_heading level0 row4\" >resnet152</th>\n",
       "      <td id=\"T_a4737_row4_col0\" class=\"data row4 col0\" >0.881441</td>\n",
       "      <td id=\"T_a4737_row4_col1\" class=\"data row4 col1\" >0.570048</td>\n",
       "      <td id=\"T_a4737_row4_col2\" class=\"data row4 col2\" >0.570048</td>\n",
       "    </tr>\n",
       "    <tr>\n",
       "      <th id=\"T_a4737_level0_row5\" class=\"row_heading level0 row5\" >densenet121</th>\n",
       "      <td id=\"T_a4737_row5_col0\" class=\"data row5 col0\" >0.854309</td>\n",
       "      <td id=\"T_a4737_row5_col1\" class=\"data row5 col1\" >0.593720</td>\n",
       "      <td id=\"T_a4737_row5_col2\" class=\"data row5 col2\" >0.593720</td>\n",
       "    </tr>\n",
       "    <tr>\n",
       "      <th id=\"T_a4737_level0_row6\" class=\"row_heading level0 row6\" >densenet169</th>\n",
       "      <td id=\"T_a4737_row6_col0\" class=\"data row6 col0\" >0.855433</td>\n",
       "      <td id=\"T_a4737_row6_col1\" class=\"data row6 col1\" >0.586957</td>\n",
       "      <td id=\"T_a4737_row6_col2\" class=\"data row6 col2\" >0.586957</td>\n",
       "    </tr>\n",
       "    <tr>\n",
       "      <th id=\"T_a4737_level0_row7\" class=\"row_heading level0 row7\" >densenet201</th>\n",
       "      <td id=\"T_a4737_row7_col0\" class=\"data row7 col0\" >0.852574</td>\n",
       "      <td id=\"T_a4737_row7_col1\" class=\"data row7 col1\" >0.597585</td>\n",
       "      <td id=\"T_a4737_row7_col2\" class=\"data row7 col2\" >0.597585</td>\n",
       "    </tr>\n",
       "  </tbody>\n",
       "</table style=\"display:inline\">\n",
       "</td><td style=\"vertical-align:top\"> <style type=\"text/css\">\n",
       "#T_e9a90_row1_col0, #T_e9a90_row5_col1, #T_e9a90_row5_col2 {\n",
       "  color: tomato;\n",
       "}\n",
       "#T_e9a90_row6_col0, #T_e9a90_row7_col1, #T_e9a90_row7_col2 {\n",
       "  color: lightgreen;\n",
       "}\n",
       "</style>\n",
       "<table style=\"display:inline\" id=\"T_e9a90_\">\n",
       "  <thead>\n",
       "    <tr>\n",
       "      <th class=\"blank level0\" >&nbsp;</th>\n",
       "      <th class=\"col_heading level0 col0\" >Loss</th>\n",
       "      <th class=\"col_heading level0 col1\" >Accuracy</th>\n",
       "      <th class=\"col_heading level0 col2\" >F1-score</th>\n",
       "    </tr>\n",
       "  </thead>\n",
       "  <tbody>\n",
       "    <tr>\n",
       "      <th id=\"T_e9a90_level0_row0\" class=\"row_heading level0 row0\" >vgg16</th>\n",
       "      <td id=\"T_e9a90_row0_col0\" class=\"data row0 col0\" >0.847671</td>\n",
       "      <td id=\"T_e9a90_row0_col1\" class=\"data row0 col1\" >0.662319</td>\n",
       "      <td id=\"T_e9a90_row0_col2\" class=\"data row0 col2\" >0.662319</td>\n",
       "    </tr>\n",
       "    <tr>\n",
       "      <th id=\"T_e9a90_level0_row1\" class=\"row_heading level0 row1\" >vgg19</th>\n",
       "      <td id=\"T_e9a90_row1_col0\" class=\"data row1 col0\" >0.851658</td>\n",
       "      <td id=\"T_e9a90_row1_col1\" class=\"data row1 col1\" >0.663768</td>\n",
       "      <td id=\"T_e9a90_row1_col2\" class=\"data row1 col2\" >0.663768</td>\n",
       "    </tr>\n",
       "    <tr>\n",
       "      <th id=\"T_e9a90_level0_row2\" class=\"row_heading level0 row2\" >resnet50</th>\n",
       "      <td id=\"T_e9a90_row2_col0\" class=\"data row2 col0\" >0.838595</td>\n",
       "      <td id=\"T_e9a90_row2_col1\" class=\"data row2 col1\" >0.661836</td>\n",
       "      <td id=\"T_e9a90_row2_col2\" class=\"data row2 col2\" >0.661836</td>\n",
       "    </tr>\n",
       "    <tr>\n",
       "      <th id=\"T_e9a90_level0_row3\" class=\"row_heading level0 row3\" >resnet101</th>\n",
       "      <td id=\"T_e9a90_row3_col0\" class=\"data row3 col0\" >0.840538</td>\n",
       "      <td id=\"T_e9a90_row3_col1\" class=\"data row3 col1\" >0.663285</td>\n",
       "      <td id=\"T_e9a90_row3_col2\" class=\"data row3 col2\" >0.663285</td>\n",
       "    </tr>\n",
       "    <tr>\n",
       "      <th id=\"T_e9a90_level0_row4\" class=\"row_heading level0 row4\" >resnet152</th>\n",
       "      <td id=\"T_e9a90_row4_col0\" class=\"data row4 col0\" >0.842235</td>\n",
       "      <td id=\"T_e9a90_row4_col1\" class=\"data row4 col1\" >0.663285</td>\n",
       "      <td id=\"T_e9a90_row4_col2\" class=\"data row4 col2\" >0.663285</td>\n",
       "    </tr>\n",
       "    <tr>\n",
       "      <th id=\"T_e9a90_level0_row5\" class=\"row_heading level0 row5\" >densenet121</th>\n",
       "      <td id=\"T_e9a90_row5_col0\" class=\"data row5 col0\" >0.827224</td>\n",
       "      <td id=\"T_e9a90_row5_col1\" class=\"data row5 col1\" >0.651208</td>\n",
       "      <td id=\"T_e9a90_row5_col2\" class=\"data row5 col2\" >0.651208</td>\n",
       "    </tr>\n",
       "    <tr>\n",
       "      <th id=\"T_e9a90_level0_row6\" class=\"row_heading level0 row6\" >densenet169</th>\n",
       "      <td id=\"T_e9a90_row6_col0\" class=\"data row6 col0\" >0.820361</td>\n",
       "      <td id=\"T_e9a90_row6_col1\" class=\"data row6 col1\" >0.657488</td>\n",
       "      <td id=\"T_e9a90_row6_col2\" class=\"data row6 col2\" >0.657488</td>\n",
       "    </tr>\n",
       "    <tr>\n",
       "      <th id=\"T_e9a90_level0_row7\" class=\"row_heading level0 row7\" >densenet201</th>\n",
       "      <td id=\"T_e9a90_row7_col0\" class=\"data row7 col0\" >0.841692</td>\n",
       "      <td id=\"T_e9a90_row7_col1\" class=\"data row7 col1\" >0.664251</td>\n",
       "      <td id=\"T_e9a90_row7_col2\" class=\"data row7 col2\" >0.664251</td>\n",
       "    </tr>\n",
       "  </tbody>\n",
       "</table style=\"display:inline\">\n",
       "</td></tr></table style=\"display:inline\">"
      ]
     },
     "metadata": {},
     "output_type": "display_data"
    }
   ],
   "source": [
    "print('With both MVSA merged together\\n')\n",
    "display_dataframes((style_dataframe(df_scores3), style_dataframe(df_scores4)), \n",
    "                   names=['Original image labels', 'Multimodal labels'])"
   ]
  }
 ],
 "metadata": {
  "kernelspec": {
   "display_name": "Python 3",
   "language": "python",
   "name": "python3"
  },
  "language_info": {
   "codemirror_mode": {
    "name": "ipython",
    "version": 3
   },
   "file_extension": ".py",
   "mimetype": "text/x-python",
   "name": "python",
   "nbconvert_exporter": "python",
   "pygments_lexer": "ipython3",
   "version": "3.7.12"
  },
  "papermill": {
   "default_parameters": {},
   "duration": 340.661093,
   "end_time": "2022-06-30T13:51:11.538074",
   "environment_variables": {},
   "exception": null,
   "input_path": "__notebook__.ipynb",
   "output_path": "__notebook__.ipynb",
   "parameters": {},
   "start_time": "2022-06-30T13:45:30.876981",
   "version": "2.3.4"
  }
 },
 "nbformat": 4,
 "nbformat_minor": 5
}
