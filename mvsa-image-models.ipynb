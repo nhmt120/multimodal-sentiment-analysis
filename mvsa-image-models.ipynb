{
 "cells": [
  {
   "cell_type": "code",
   "execution_count": 1,
   "id": "0bba6635",
   "metadata": {
    "_cell_guid": "b1076dfc-b9ad-4769-8c92-a6c4dae69d19",
    "_uuid": "8f2839f25d086af736a60e9eeb907d3b93b6e0e5",
    "execution": {
     "iopub.execute_input": "2022-06-30T14:24:30.319359Z",
     "iopub.status.busy": "2022-06-30T14:24:30.318734Z",
     "iopub.status.idle": "2022-06-30T14:24:40.339721Z",
     "shell.execute_reply": "2022-06-30T14:24:40.338433Z"
    },
    "papermill": {
     "duration": 10.042733,
     "end_time": "2022-06-30T14:24:40.343176",
     "exception": false,
     "start_time": "2022-06-30T14:24:30.300443",
     "status": "completed"
    },
    "tags": []
   },
   "outputs": [],
   "source": [
    "SEED = 61\n",
    "\n",
    "\n",
    "import os\n",
    "import re\n",
    "import gc\n",
    "import h5py\n",
    "import torch\n",
    "import numpy as np\n",
    "import pandas as pd\n",
    "import tensorflow as tf\n",
    "import random as python_random\n",
    "import matplotlib.pyplot as plt\n",
    "import tensorflow_addons as tfa\n",
    "\n",
    "from tqdm import tqdm\n",
    "from nltk import tokenize\n",
    "\n",
    "from sklearn import preprocessing\n",
    "from sklearn.decomposition import PCA\n",
    "\n",
    "from keras import backend as K\n",
    "from keras import initializers,regularizers,constraints\n",
    "from keras.preprocessing.text import Tokenizer, text_to_word_sequence\n",
    "from keras.preprocessing.sequence import pad_sequences\n",
    "from keras.utils.np_utils import to_categorical\n",
    "from keras.layers import Reshape, Input, Embedding, Flatten, Dense, Dropout, BatchNormalization, Activation #, merge\n",
    "from keras.layers import TimeDistributed, LSTM, GRU, Bidirectional, Convolution1D, MaxPooling1D, MaxPooling2D\n",
    "from keras.layers.core import RepeatVector, Reshape\n",
    "from keras.callbacks import ModelCheckpoint, EarlyStopping, ReduceLROnPlateau\n",
    "from keras.models import Sequential, Model, load_model\n",
    "from sklearn.model_selection import cross_val_score\n",
    "\n",
    "def reset_seeds():\n",
    "    np.random.seed(SEED) \n",
    "    python_random.seed(SEED)\n",
    "    tf.random.set_seed(SEED)\n",
    "    os.environ[\"PYTHONHASHSEED\"] = str(SEED)\n",
    "\n",
    "# from tensorflow.python.keras.layers import Layer, InputSpec, Lambda\n",
    "# from tensorflow.keras import Model\n",
    "# from attention import Attention_input1, Attention_input2\n",
    "# from keras.optimizers import SGD, RMSprop, Adagrad"
   ]
  },
  {
   "cell_type": "code",
   "execution_count": 2,
   "id": "f1e3da88",
   "metadata": {
    "execution": {
     "iopub.execute_input": "2022-06-30T14:24:40.363035Z",
     "iopub.status.busy": "2022-06-30T14:24:40.362396Z",
     "iopub.status.idle": "2022-06-30T14:24:40.371447Z",
     "shell.execute_reply": "2022-06-30T14:24:40.370065Z"
    },
    "papermill": {
     "duration": 0.021844,
     "end_time": "2022-06-30T14:24:40.374203",
     "exception": false,
     "start_time": "2022-06-30T14:24:40.352359",
     "status": "completed"
    },
    "tags": []
   },
   "outputs": [],
   "source": [
    "def read_hdf5(path):\n",
    "    read_file = h5py.File(path, 'r')\n",
    "    \n",
    "    feature_names = list(read_file.keys())\n",
    "    loaded_data = []\n",
    "    \n",
    "    for name in feature_names:\n",
    "        dataset = read_file[name][:]\n",
    "        if dataset.dtype == np.dtype('object'):\n",
    "            dataset = np.array([x.decode('UTF-8') for x in dataset])            \n",
    "        loaded_data.append((name, dataset))\n",
    "\n",
    "    return loaded_data\n",
    "\n",
    "def loadz(path):\n",
    "    data = np.load(path)['arr_0']\n",
    "    return data"
   ]
  },
  {
   "cell_type": "code",
   "execution_count": 3,
   "id": "e4f28857",
   "metadata": {
    "execution": {
     "iopub.execute_input": "2022-06-30T14:24:40.392051Z",
     "iopub.status.busy": "2022-06-30T14:24:40.391707Z",
     "iopub.status.idle": "2022-06-30T14:24:40.401721Z",
     "shell.execute_reply": "2022-06-30T14:24:40.400317Z"
    },
    "papermill": {
     "duration": 0.021735,
     "end_time": "2022-06-30T14:24:40.404189",
     "exception": false,
     "start_time": "2022-06-30T14:24:40.382454",
     "status": "completed"
    },
    "tags": []
   },
   "outputs": [],
   "source": [
    "def merge_mvsa(mvsa_single, mvsa_multiple):\n",
    "    mvsa = np.concatenate((mvsa_single, mvsa_multiple), axis=0)\n",
    "    return mvsa\n",
    "\n",
    "def load_mvsa_feature(feature_name, merge=False):\n",
    "    folder_path = os.path.join('../input/mvsa-features/', feature_name)\n",
    "    single_file = 'mvsa-single-{}.npz'.format(feature_name)\n",
    "    multiple_file = 'mvsa-multiple-{}.npz'.format(feature_name)\n",
    "    mvsa_single = loadz(os.path.join(folder_path, single_file))\n",
    "    mvsa_multiple = loadz(os.path.join(folder_path, multiple_file))\n",
    "    \n",
    "    if merge == True:\n",
    "        return merge_mvsa(mvsa_single, mvsa_multiple)\n",
    "    \n",
    "    return mvsa_single, mvsa_multiple\n",
    "\n",
    "def load_labels(path):\n",
    "    data = read_hdf5(path)\n",
    "\n",
    "    for x in data:\n",
    "        if x[0] == 'multimodal-labels':\n",
    "            labels = x[1]\n",
    "        if x[0] == 'text-labels':\n",
    "            text_labels = x[1]\n",
    "        if x[0] == 'image-labels':\n",
    "            image_labels = x[1]\n",
    "        \n",
    "    return labels, text_labels, image_labels"
   ]
  },
  {
   "cell_type": "code",
   "execution_count": 4,
   "id": "13bb2e56",
   "metadata": {
    "execution": {
     "iopub.execute_input": "2022-06-30T14:24:40.423470Z",
     "iopub.status.busy": "2022-06-30T14:24:40.422587Z",
     "iopub.status.idle": "2022-06-30T14:24:40.433432Z",
     "shell.execute_reply": "2022-06-30T14:24:40.431947Z"
    },
    "papermill": {
     "duration": 0.023761,
     "end_time": "2022-06-30T14:24:40.436672",
     "exception": false,
     "start_time": "2022-06-30T14:24:40.412911",
     "status": "completed"
    },
    "tags": []
   },
   "outputs": [],
   "source": [
    "def plot_metrics(history):\n",
    "    fig = plt.figure(figsize=(20, 5))\n",
    "\n",
    "    fig.add_subplot(1, 3, 1)\n",
    "    plt.plot(history.history['loss'])\n",
    "    plt.plot(history.history['val_loss'])\n",
    "    plt.title('LOSS')\n",
    "    plt.ylabel('loss')\n",
    "    plt.xlabel('epoch')\n",
    "    plt.legend(['train', 'val'], loc='best')\n",
    "\n",
    "    fig.add_subplot(1, 3, 2)\n",
    "    plt.plot(history.history['accuracy'])\n",
    "    plt.plot(history.history['val_accuracy'])\n",
    "    plt.title('ACCURACY')\n",
    "    plt.ylabel('accuracy')\n",
    "    plt.xlabel('epoch')\n",
    "    plt.legend(['train', 'val'], loc='best')\n",
    "\n",
    "    fig.add_subplot(1, 3, 3)\n",
    "    plt.plot(history.history['f1_score'])\n",
    "    plt.plot(history.history['val_f1_score'])\n",
    "    plt.title('F1-SCORE')\n",
    "    plt.ylabel('f1-score')\n",
    "    plt.xlabel('epoch')\n",
    "    plt.legend(['train', 'val'], loc='best')\n",
    "\n",
    "    plt.show()"
   ]
  },
  {
   "cell_type": "code",
   "execution_count": 5,
   "id": "50d0194d",
   "metadata": {
    "execution": {
     "iopub.execute_input": "2022-06-30T14:24:40.455616Z",
     "iopub.status.busy": "2022-06-30T14:24:40.454529Z",
     "iopub.status.idle": "2022-06-30T14:24:40.462246Z",
     "shell.execute_reply": "2022-06-30T14:24:40.461019Z"
    },
    "papermill": {
     "duration": 0.019689,
     "end_time": "2022-06-30T14:24:40.464887",
     "exception": false,
     "start_time": "2022-06-30T14:24:40.445198",
     "status": "completed"
    },
    "tags": []
   },
   "outputs": [],
   "source": [
    "# e.g. validation_split=0.1 -----> 8:1:1 ratio of train, val, test\n",
    "def split_data(data, validation_split):\n",
    "    num_val = int(validation_split * data.shape[0])\n",
    "    data_train = data[:-(num_val*2)]\n",
    "    data_val = data[-(num_val*2):-(num_val)]\n",
    "    data_test = data[-num_val:]\n",
    "    return data_train, data_val, data_test"
   ]
  },
  {
   "cell_type": "code",
   "execution_count": 6,
   "id": "398134cb",
   "metadata": {
    "execution": {
     "iopub.execute_input": "2022-06-30T14:24:40.482906Z",
     "iopub.status.busy": "2022-06-30T14:24:40.482588Z",
     "iopub.status.idle": "2022-06-30T14:24:40.490604Z",
     "shell.execute_reply": "2022-06-30T14:24:40.489408Z"
    },
    "papermill": {
     "duration": 0.019925,
     "end_time": "2022-06-30T14:24:40.493191",
     "exception": false,
     "start_time": "2022-06-30T14:24:40.473266",
     "status": "completed"
    },
    "tags": []
   },
   "outputs": [],
   "source": [
    "def create_model_pretrained(input_shape):\n",
    "    f1_score = tfa.metrics.F1Score(num_classes=NUM_CLASSES, average='micro')\n",
    "    \n",
    "    image_input = Input(shape=input_shape)\n",
    "    outputs = Dense(NUM_CLASSES, activation='softmax') (image_input)\n",
    "    \n",
    "    model = Model(image_input, outputs)\n",
    "    model.compile(optimizer='adam', loss='categorical_crossentropy', metrics=['accuracy', f1_score]) # f1 #tf.keras.metrics.AUC()\n",
    "    return model"
   ]
  },
  {
   "cell_type": "code",
   "execution_count": 7,
   "id": "35863ed5",
   "metadata": {
    "execution": {
     "iopub.execute_input": "2022-06-30T14:24:40.511262Z",
     "iopub.status.busy": "2022-06-30T14:24:40.510953Z",
     "iopub.status.idle": "2022-06-30T14:24:40.517858Z",
     "shell.execute_reply": "2022-06-30T14:24:40.516566Z"
    },
    "papermill": {
     "duration": 0.019209,
     "end_time": "2022-06-30T14:24:40.520548",
     "exception": false,
     "start_time": "2022-06-30T14:24:40.501339",
     "status": "completed"
    },
    "tags": []
   },
   "outputs": [],
   "source": [
    "def evaluate_model(model, X_test, y_test, checkpoint=None, verbose=1):\n",
    "    if checkpoint is not None:\n",
    "        model = load_model('./model_checkpoint/{}.h5'.format(checkpoint))#, custom_objects={'f1': f1})\n",
    "    \n",
    "    loss, acc, f1 = model.evaluate(X_test, y_test, verbose=verbose)\n",
    "    \n",
    "    if verbose == 1:\n",
    "        print('Loss:', loss)\n",
    "        print('Accuracy:', acc)\n",
    "        print('F1-score:', f1)\n",
    "        \n",
    "    return loss, acc, f1"
   ]
  },
  {
   "cell_type": "code",
   "execution_count": 8,
   "id": "23412c64",
   "metadata": {
    "execution": {
     "iopub.execute_input": "2022-06-30T14:24:40.539686Z",
     "iopub.status.busy": "2022-06-30T14:24:40.538527Z",
     "iopub.status.idle": "2022-06-30T14:24:40.548781Z",
     "shell.execute_reply": "2022-06-30T14:24:40.547578Z"
    },
    "papermill": {
     "duration": 0.022217,
     "end_time": "2022-06-30T14:24:40.551424",
     "exception": false,
     "start_time": "2022-06-30T14:24:40.529207",
     "status": "completed"
    },
    "tags": []
   },
   "outputs": [],
   "source": [
    "def run_and_evaluate(name, X, y, verbose=0):\n",
    "    y = le.fit_transform(y)\n",
    "    y = to_categorical(np.asarray(y))\n",
    "    \n",
    "    X_train, X_val, X_test = split_data(X, VALIDATION_SPLIT)\n",
    "    y_train, y_val, y_test = split_data(y, VALIDATION_SPLIT)\n",
    "    \n",
    "    model = create_model_pretrained(X_train.shape[1:])\n",
    "    early_stopping = EarlyStopping(monitor='val_loss', min_delta=1e-4, patience=EARLY_STOPPING)\n",
    "    checkpoint = ModelCheckpoint('./model_checkpoint/{}.h5'.format(name), save_best_only=True, verbose=verbose)\n",
    "    \n",
    "    history = model.fit(X_train, y_train, validation_data=(X_val, y_val), \n",
    "                                   epochs=EPOCHS, batch_size=BATCH_SIZE, verbose=verbose,\n",
    "                                   callbacks=[checkpoint, early_stopping])\n",
    "    print(early_stopping.stopped_epoch)\n",
    "    return history, evaluate_model(model, X_test, y_test, checkpoint=name, verbose=verbose)"
   ]
  },
  {
   "cell_type": "code",
   "execution_count": 9,
   "id": "3440faf2",
   "metadata": {
    "execution": {
     "iopub.execute_input": "2022-06-30T14:24:40.570428Z",
     "iopub.status.busy": "2022-06-30T14:24:40.569429Z",
     "iopub.status.idle": "2022-06-30T14:24:40.576913Z",
     "shell.execute_reply": "2022-06-30T14:24:40.575913Z"
    },
    "papermill": {
     "duration": 0.019576,
     "end_time": "2022-06-30T14:24:40.579573",
     "exception": false,
     "start_time": "2022-06-30T14:24:40.559997",
     "status": "completed"
    },
    "tags": []
   },
   "outputs": [],
   "source": [
    "def style_dataframe(dataframe):\n",
    "    return dataframe.style.highlight_max(subset=['Accuracy', 'F1-score'], props='color:lawngreen', axis=0)\\\n",
    "                          .highlight_min(subset=['Accuracy', 'F1-score'], props='color:tomato', axis=0)\\\n",
    "                          .highlight_min(subset=['Loss'], props='color:lawngreen', axis=0)\\\n",
    "                          .highlight_max(subset=['Loss'], props='color:tomato', axis=0)"
   ]
  },
  {
   "cell_type": "code",
   "execution_count": 10,
   "id": "48e774e2",
   "metadata": {
    "execution": {
     "iopub.execute_input": "2022-06-30T14:24:40.597624Z",
     "iopub.status.busy": "2022-06-30T14:24:40.597248Z",
     "iopub.status.idle": "2022-06-30T14:24:40.606612Z",
     "shell.execute_reply": "2022-06-30T14:24:40.605255Z"
    },
    "papermill": {
     "duration": 0.021441,
     "end_time": "2022-06-30T14:24:40.609238",
     "exception": false,
     "start_time": "2022-06-30T14:24:40.587797",
     "status": "completed"
    },
    "tags": []
   },
   "outputs": [],
   "source": [
    "from IPython.display import display_html\n",
    "\n",
    "def display_dataframes(dfs, names=[], index=False):\n",
    "    def to_df(x):\n",
    "        if isinstance(x, pd.Series):\n",
    "            return pd.DataFrame(x)\n",
    "        else:\n",
    "            return x\n",
    "    html_str = ''\n",
    "    if names:\n",
    "        html_str += ('<tr>' + \n",
    "                     ''.join(f'<td style=\"text-align:center\">{name}</td>' for name in names) + \n",
    "                     '</tr>')\n",
    "    html_str += ('<tr>' + \n",
    "                 ''.join(f'<td style=\"vertical-align:top\"> {to_df(df).to_html()}</td>' \n",
    "                         for df in dfs) + \n",
    "                 '</tr>')\n",
    "    html_str = f'<table>{html_str}</table>'\n",
    "    html_str = html_str.replace('table','table style=\"display:inline\"')\n",
    "    display_html(html_str, raw=True)"
   ]
  },
  {
   "cell_type": "markdown",
   "id": "cec1b0cb",
   "metadata": {
    "papermill": {
     "duration": 0.008172,
     "end_time": "2022-06-30T14:24:40.626449",
     "exception": false,
     "start_time": "2022-06-30T14:24:40.618277",
     "status": "completed"
    },
    "tags": []
   },
   "source": [
    "# Load data"
   ]
  },
  {
   "cell_type": "code",
   "execution_count": 11,
   "id": "d2275042",
   "metadata": {
    "execution": {
     "iopub.execute_input": "2022-06-30T14:24:40.646698Z",
     "iopub.status.busy": "2022-06-30T14:24:40.645604Z",
     "iopub.status.idle": "2022-06-30T14:24:53.452335Z",
     "shell.execute_reply": "2022-06-30T14:24:53.450936Z"
    },
    "papermill": {
     "duration": 12.82048,
     "end_time": "2022-06-30T14:24:53.455787",
     "exception": false,
     "start_time": "2022-06-30T14:24:40.635307",
     "status": "completed"
    },
    "tags": []
   },
   "outputs": [],
   "source": [
    "# load separate\n",
    "mvsa_single_vgg16, mvsa_multiple_vgg16 = load_mvsa_feature('vgg16')\n",
    "mvsa_single_vgg19, mvsa_multiple_vgg19 = load_mvsa_feature('vgg19')\n",
    "mvsa_single_resnet50, mvsa_multiple_resnet50 = load_mvsa_feature('resnet50')\n",
    "mvsa_single_resnet101, mvsa_multiple_resnet101 = load_mvsa_feature('resnet101')\n",
    "mvsa_single_resnet152, mvsa_multiple_resnet152 = load_mvsa_feature('resnet152')\n",
    "mvsa_single_densenet121, mvsa_multiple_densenet121 = load_mvsa_feature('densenet121')\n",
    "mvsa_single_densenet169, mvsa_multiple_densenet169 = load_mvsa_feature('densenet169')\n",
    "mvsa_single_densenet201, mvsa_multiple_densenet201 = load_mvsa_feature('densenet201')"
   ]
  },
  {
   "cell_type": "code",
   "execution_count": 12,
   "id": "7e3629f4",
   "metadata": {
    "execution": {
     "iopub.execute_input": "2022-06-30T14:24:53.477251Z",
     "iopub.status.busy": "2022-06-30T14:24:53.476922Z",
     "iopub.status.idle": "2022-06-30T14:24:56.787489Z",
     "shell.execute_reply": "2022-06-30T14:24:56.786217Z"
    },
    "papermill": {
     "duration": 3.324301,
     "end_time": "2022-06-30T14:24:56.790560",
     "exception": false,
     "start_time": "2022-06-30T14:24:53.466259",
     "status": "completed"
    },
    "tags": []
   },
   "outputs": [],
   "source": [
    "# load merge\n",
    "mvsa_vgg16 = load_mvsa_feature('vgg16', merge=True)\n",
    "mvsa_vgg19 = load_mvsa_feature('vgg19', merge=True)\n",
    "mvsa_resnet50 = load_mvsa_feature('resnet50', merge=True)\n",
    "mvsa_resnet101 = load_mvsa_feature('resnet101', merge=True)\n",
    "mvsa_resnet152 = load_mvsa_feature('resnet152', merge=True)\n",
    "mvsa_densenet121 = load_mvsa_feature('densenet121', merge=True)\n",
    "mvsa_densenet169 = load_mvsa_feature('densenet169', merge=True)\n",
    "mvsa_densenet201 = load_mvsa_feature('densenet201', merge=True)"
   ]
  },
  {
   "cell_type": "code",
   "execution_count": 13,
   "id": "ea2e0030",
   "metadata": {
    "execution": {
     "iopub.execute_input": "2022-06-30T14:24:56.810290Z",
     "iopub.status.busy": "2022-06-30T14:24:56.809937Z",
     "iopub.status.idle": "2022-06-30T14:24:56.952476Z",
     "shell.execute_reply": "2022-06-30T14:24:56.951162Z"
    },
    "papermill": {
     "duration": 0.155478,
     "end_time": "2022-06-30T14:24:56.955547",
     "exception": false,
     "start_time": "2022-06-30T14:24:56.800069",
     "status": "completed"
    },
    "tags": []
   },
   "outputs": [],
   "source": [
    "mvsa_single_multimodal_labels, mvsa_single_text_labels, mvsa_single_image_labels = load_labels('../input/mvsa-features/labels/mvsa-single-labels.hdf5')\n",
    "mvsa_multiple_multimodal_labels, mvsa_multiple_text_labels, mvsa_multiple_image_labels = load_labels('../input/mvsa-features/labels/mvsa-multiple-labels.hdf5')\n",
    "\n",
    "mvsa_multimodal_labels = merge_mvsa(mvsa_single_multimodal_labels, mvsa_multiple_multimodal_labels)\n",
    "mvsa_text_labels = merge_mvsa(mvsa_single_text_labels, mvsa_multiple_text_labels)\n",
    "mvsa_image_labels = merge_mvsa(mvsa_single_image_labels, mvsa_multiple_image_labels)"
   ]
  },
  {
   "cell_type": "code",
   "execution_count": 14,
   "id": "4d808655",
   "metadata": {
    "execution": {
     "iopub.execute_input": "2022-06-30T14:24:56.974355Z",
     "iopub.status.busy": "2022-06-30T14:24:56.974025Z",
     "iopub.status.idle": "2022-06-30T14:24:56.983194Z",
     "shell.execute_reply": "2022-06-30T14:24:56.982030Z"
    },
    "papermill": {
     "duration": 0.021384,
     "end_time": "2022-06-30T14:24:56.985908",
     "exception": false,
     "start_time": "2022-06-30T14:24:56.964524",
     "status": "completed"
    },
    "tags": []
   },
   "outputs": [],
   "source": [
    "le = preprocessing.LabelEncoder()\n",
    "le.fit(mvsa_multimodal_labels)\n",
    "NUM_CLASSES = len(le.classes_) # =3"
   ]
  },
  {
   "cell_type": "code",
   "execution_count": 15,
   "id": "68e2b58b",
   "metadata": {
    "execution": {
     "iopub.execute_input": "2022-06-30T14:24:57.003836Z",
     "iopub.status.busy": "2022-06-30T14:24:57.003536Z",
     "iopub.status.idle": "2022-06-30T14:24:57.011079Z",
     "shell.execute_reply": "2022-06-30T14:24:57.009772Z"
    },
    "papermill": {
     "duration": 0.01934,
     "end_time": "2022-06-30T14:24:57.013590",
     "exception": false,
     "start_time": "2022-06-30T14:24:56.994250",
     "status": "completed"
    },
    "tags": []
   },
   "outputs": [],
   "source": [
    "# prepare all features data\n",
    "pretrained_names = ['vgg16', 'vgg19', 'resnet50', 'resnet101', 'resnet152', 'densenet121', 'densenet169', 'densenet201']\n",
    "# single_pretrained_names = ['single-' + name for name in pretrained_names]\n",
    "# multiple_pretrained_names = ['multiple-' + name for name in pretrained_names]\n",
    "\n",
    "mvsa_single_features = [mvsa_single_vgg16, mvsa_single_vgg19, \n",
    "                        mvsa_single_resnet50, mvsa_single_resnet101, mvsa_single_resnet152, \n",
    "                        mvsa_single_densenet121, mvsa_single_densenet169, mvsa_single_densenet201]\n",
    "\n",
    "mvsa_multiple_features = [mvsa_multiple_vgg16, mvsa_multiple_vgg19, \n",
    "                          mvsa_multiple_resnet50, mvsa_multiple_resnet101, mvsa_multiple_resnet152, \n",
    "                          mvsa_multiple_densenet121, mvsa_multiple_densenet169, mvsa_multiple_densenet201]\n",
    "\n",
    "mvsa_features = [mvsa_vgg16, mvsa_vgg19, \n",
    "                 mvsa_resnet50, mvsa_resnet101, mvsa_resnet152, \n",
    "                 mvsa_densenet121, mvsa_densenet169, mvsa_densenet201]"
   ]
  },
  {
   "cell_type": "markdown",
   "id": "147e137d",
   "metadata": {
    "papermill": {
     "duration": 0.008038,
     "end_time": "2022-06-30T14:24:57.029936",
     "exception": false,
     "start_time": "2022-06-30T14:24:57.021898",
     "status": "completed"
    },
    "tags": []
   },
   "source": [
    "# Run models and Evalution display"
   ]
  },
  {
   "cell_type": "code",
   "execution_count": 16,
   "id": "c5d6610f",
   "metadata": {
    "execution": {
     "iopub.execute_input": "2022-06-30T14:24:57.048018Z",
     "iopub.status.busy": "2022-06-30T14:24:57.047664Z",
     "iopub.status.idle": "2022-06-30T14:24:57.053308Z",
     "shell.execute_reply": "2022-06-30T14:24:57.051937Z"
    },
    "papermill": {
     "duration": 0.017981,
     "end_time": "2022-06-30T14:24:57.056188",
     "exception": false,
     "start_time": "2022-06-30T14:24:57.038207",
     "status": "completed"
    },
    "tags": []
   },
   "outputs": [],
   "source": [
    "reset_seeds()\n",
    "EPOCHS = 100\n",
    "BATCH_SIZE = 128\n",
    "VALIDATION_SPLIT = 0.1\n",
    "EARLY_STOPPING = 10"
   ]
  },
  {
   "cell_type": "markdown",
   "id": "73f6784e",
   "metadata": {
    "papermill": {
     "duration": 0.008138,
     "end_time": "2022-06-30T14:24:57.072763",
     "exception": false,
     "start_time": "2022-06-30T14:24:57.064625",
     "status": "completed"
    },
    "tags": []
   },
   "source": [
    "## With original image labels"
   ]
  },
  {
   "cell_type": "code",
   "execution_count": 17,
   "id": "f22721c4",
   "metadata": {
    "execution": {
     "iopub.execute_input": "2022-06-30T14:24:57.090921Z",
     "iopub.status.busy": "2022-06-30T14:24:57.090504Z",
     "iopub.status.idle": "2022-06-30T14:25:42.015927Z",
     "shell.execute_reply": "2022-06-30T14:25:42.013602Z"
    },
    "papermill": {
     "duration": 44.938608,
     "end_time": "2022-06-30T14:25:42.019787",
     "exception": false,
     "start_time": "2022-06-30T14:24:57.081179",
     "status": "completed"
    },
    "tags": []
   },
   "outputs": [
    {
     "name": "stdout",
     "output_type": "stream",
     "text": [
      "With original image labels\n",
      "MVSA-Single: vgg16\n"
     ]
    },
    {
     "name": "stderr",
     "output_type": "stream",
     "text": [
      "2022-06-30 14:24:57.201283: I tensorflow/stream_executor/cuda/cuda_gpu_executor.cc:937] successful NUMA node read from SysFS had negative value (-1), but there must be at least one NUMA node, so returning NUMA node zero\n",
      "2022-06-30 14:24:57.202768: I tensorflow/stream_executor/cuda/cuda_gpu_executor.cc:937] successful NUMA node read from SysFS had negative value (-1), but there must be at least one NUMA node, so returning NUMA node zero\n",
      "2022-06-30 14:24:57.203850: I tensorflow/stream_executor/cuda/cuda_gpu_executor.cc:937] successful NUMA node read from SysFS had negative value (-1), but there must be at least one NUMA node, so returning NUMA node zero\n",
      "2022-06-30 14:24:57.205111: I tensorflow/core/platform/cpu_feature_guard.cc:142] This TensorFlow binary is optimized with oneAPI Deep Neural Network Library (oneDNN) to use the following CPU instructions in performance-critical operations:  AVX2 FMA\n",
      "To enable them in other operations, rebuild TensorFlow with the appropriate compiler flags.\n",
      "2022-06-30 14:24:57.205428: I tensorflow/stream_executor/cuda/cuda_gpu_executor.cc:937] successful NUMA node read from SysFS had negative value (-1), but there must be at least one NUMA node, so returning NUMA node zero\n",
      "2022-06-30 14:24:57.206539: I tensorflow/stream_executor/cuda/cuda_gpu_executor.cc:937] successful NUMA node read from SysFS had negative value (-1), but there must be at least one NUMA node, so returning NUMA node zero\n",
      "2022-06-30 14:24:57.207577: I tensorflow/stream_executor/cuda/cuda_gpu_executor.cc:937] successful NUMA node read from SysFS had negative value (-1), but there must be at least one NUMA node, so returning NUMA node zero\n",
      "2022-06-30 14:25:03.041630: I tensorflow/stream_executor/cuda/cuda_gpu_executor.cc:937] successful NUMA node read from SysFS had negative value (-1), but there must be at least one NUMA node, so returning NUMA node zero\n",
      "2022-06-30 14:25:03.043041: I tensorflow/stream_executor/cuda/cuda_gpu_executor.cc:937] successful NUMA node read from SysFS had negative value (-1), but there must be at least one NUMA node, so returning NUMA node zero\n",
      "2022-06-30 14:25:03.044307: I tensorflow/stream_executor/cuda/cuda_gpu_executor.cc:937] successful NUMA node read from SysFS had negative value (-1), but there must be at least one NUMA node, so returning NUMA node zero\n",
      "2022-06-30 14:25:03.045547: I tensorflow/core/common_runtime/gpu/gpu_device.cc:1510] Created device /job:localhost/replica:0/task:0/device:GPU:0 with 15047 MB memory:  -> device: 0, name: Tesla P100-PCIE-16GB, pci bus id: 0000:00:04.0, compute capability: 6.0\n",
      "2022-06-30 14:25:03.758295: I tensorflow/compiler/mlir/mlir_graph_optimization_pass.cc:185] None of the MLIR Optimization Passes are enabled (registered 2)\n"
     ]
    },
    {
     "name": "stdout",
     "output_type": "stream",
     "text": [
      "13\n",
      "\n",
      "MVSA-Single: vgg19\n",
      "26\n",
      "\n",
      "MVSA-Single: resnet50\n",
      "24\n",
      "\n",
      "MVSA-Single: resnet101\n",
      "59\n",
      "\n",
      "MVSA-Single: resnet152\n",
      "24\n",
      "\n",
      "MVSA-Single: densenet121\n",
      "22\n",
      "\n",
      "MVSA-Single: densenet169\n",
      "16\n",
      "\n",
      "MVSA-Single: densenet201\n",
      "16\n",
      "\n"
     ]
    }
   ],
   "source": [
    "print('With original image labels')\n",
    "# run model with all features data of MVSA-Single\n",
    "mvsa_single_hitories = []\n",
    "mvsa_single_score = []\n",
    "for i in range(len(pretrained_names)):\n",
    "    print('MVSA-Single:', pretrained_names[i])\n",
    "    history, scores = run_and_evaluate('single-' + pretrained_names[i], mvsa_single_features[i], mvsa_single_image_labels, verbose=0)\n",
    "    mvsa_single_hitories.append(history)\n",
    "    mvsa_single_score.append(scores)\n",
    "    print()\n",
    "    \n",
    "df_single_scores = pd.DataFrame(mvsa_single_score, columns=['Loss', 'Accuracy', 'F1-score'], index=pretrained_names)"
   ]
  },
  {
   "cell_type": "code",
   "execution_count": 18,
   "id": "a73bfbfe",
   "metadata": {
    "execution": {
     "iopub.execute_input": "2022-06-30T14:25:42.042846Z",
     "iopub.status.busy": "2022-06-30T14:25:42.042496Z",
     "iopub.status.idle": "2022-06-30T14:26:53.785966Z",
     "shell.execute_reply": "2022-06-30T14:26:53.784547Z"
    },
    "papermill": {
     "duration": 71.758155,
     "end_time": "2022-06-30T14:26:53.788600",
     "exception": false,
     "start_time": "2022-06-30T14:25:42.030445",
     "status": "completed"
    },
    "tags": []
   },
   "outputs": [
    {
     "name": "stdout",
     "output_type": "stream",
     "text": [
      "With original image labels\n",
      "MVSA-Multiple: vgg16\n",
      "18\n",
      "\n",
      "MVSA-Multiple: vgg19\n",
      "11\n",
      "\n",
      "MVSA-Multiple: resnet50\n",
      "17\n",
      "\n",
      "MVSA-Multiple: resnet101\n",
      "20\n",
      "\n",
      "MVSA-Multiple: resnet152\n",
      "20\n",
      "\n",
      "MVSA-Multiple: densenet121\n",
      "18\n",
      "\n",
      "MVSA-Multiple: densenet169\n",
      "16\n",
      "\n",
      "MVSA-Multiple: densenet201\n",
      "16\n",
      "\n"
     ]
    }
   ],
   "source": [
    "print('With original image labels')\n",
    "# run model with all features data of MVSA-Multiple\n",
    "mvsa_multiple_hitories = []\n",
    "mvsa_multiple_score = []\n",
    "for i in range(len(pretrained_names)):\n",
    "    print('MVSA-Multiple:', pretrained_names[i])\n",
    "    history, scores = run_and_evaluate('multiple-' + pretrained_names[i], mvsa_multiple_features[i], mvsa_multiple_image_labels, verbose=0)\n",
    "    mvsa_multiple_hitories.append(history)\n",
    "    mvsa_multiple_score.append(scores)\n",
    "    print()\n",
    "    \n",
    "df_multiple_scores = pd.DataFrame(mvsa_multiple_score, columns=['Loss', 'Accuracy', 'F1-score'], index=pretrained_names)"
   ]
  },
  {
   "cell_type": "code",
   "execution_count": 19,
   "id": "1fd3b6f4",
   "metadata": {
    "execution": {
     "iopub.execute_input": "2022-06-30T14:26:53.813096Z",
     "iopub.status.busy": "2022-06-30T14:26:53.811812Z",
     "iopub.status.idle": "2022-06-30T14:26:53.819484Z",
     "shell.execute_reply": "2022-06-30T14:26:53.818169Z"
    },
    "papermill": {
     "duration": 0.022685,
     "end_time": "2022-06-30T14:26:53.822197",
     "exception": false,
     "start_time": "2022-06-30T14:26:53.799512",
     "status": "completed"
    },
    "tags": []
   },
   "outputs": [],
   "source": [
    "mvsa_average_scores = np.mean([mvsa_single_score, mvsa_multiple_score], axis=0)\n",
    "df_average_scores = pd.DataFrame(mvsa_average_scores, columns=['Loss', 'Accuracy', 'F1-score'], index=pretrained_names)"
   ]
  },
  {
   "cell_type": "code",
   "execution_count": 20,
   "id": "e6249fdc",
   "metadata": {
    "execution": {
     "iopub.execute_input": "2022-06-30T14:26:53.846009Z",
     "iopub.status.busy": "2022-06-30T14:26:53.845675Z",
     "iopub.status.idle": "2022-06-30T14:26:53.981228Z",
     "shell.execute_reply": "2022-06-30T14:26:53.979932Z"
    },
    "papermill": {
     "duration": 0.150656,
     "end_time": "2022-06-30T14:26:53.983848",
     "exception": false,
     "start_time": "2022-06-30T14:26:53.833192",
     "status": "completed"
    },
    "tags": []
   },
   "outputs": [
    {
     "name": "stdout",
     "output_type": "stream",
     "text": [
      "With original image labels\n",
      "\n"
     ]
    },
    {
     "data": {
      "text/html": [
       "<table style=\"display:inline\"><tr><td style=\"text-align:center\">MVSA-Single</td><td style=\"text-align:center\">MVSA-Multiple</td><td style=\"text-align:center\">Average</td></tr><tr><td style=\"vertical-align:top\"> <style type=\"text/css\">\n",
       "#T_aced8_row1_col0, #T_aced8_row5_col1, #T_aced8_row5_col2 {\n",
       "  color: lawngreen;\n",
       "}\n",
       "#T_aced8_row4_col0, #T_aced8_row4_col1, #T_aced8_row4_col2 {\n",
       "  color: tomato;\n",
       "}\n",
       "</style>\n",
       "<table style=\"display:inline\" id=\"T_aced8_\">\n",
       "  <thead>\n",
       "    <tr>\n",
       "      <th class=\"blank level0\" >&nbsp;</th>\n",
       "      <th class=\"col_heading level0 col0\" >Loss</th>\n",
       "      <th class=\"col_heading level0 col1\" >Accuracy</th>\n",
       "      <th class=\"col_heading level0 col2\" >F1-score</th>\n",
       "    </tr>\n",
       "  </thead>\n",
       "  <tbody>\n",
       "    <tr>\n",
       "      <th id=\"T_aced8_level0_row0\" class=\"row_heading level0 row0\" >vgg16</th>\n",
       "      <td id=\"T_aced8_row0_col0\" class=\"data row0 col0\" >0.865558</td>\n",
       "      <td id=\"T_aced8_row0_col1\" class=\"data row0 col1\" >0.577726</td>\n",
       "      <td id=\"T_aced8_row0_col2\" class=\"data row0 col2\" >0.577726</td>\n",
       "    </tr>\n",
       "    <tr>\n",
       "      <th id=\"T_aced8_level0_row1\" class=\"row_heading level0 row1\" >vgg19</th>\n",
       "      <td id=\"T_aced8_row1_col0\" class=\"data row1 col0\" >0.859385</td>\n",
       "      <td id=\"T_aced8_row1_col1\" class=\"data row1 col1\" >0.580046</td>\n",
       "      <td id=\"T_aced8_row1_col2\" class=\"data row1 col2\" >0.580046</td>\n",
       "    </tr>\n",
       "    <tr>\n",
       "      <th id=\"T_aced8_level0_row2\" class=\"row_heading level0 row2\" >resnet50</th>\n",
       "      <td id=\"T_aced8_row2_col0\" class=\"data row2 col0\" >0.930690</td>\n",
       "      <td id=\"T_aced8_row2_col1\" class=\"data row2 col1\" >0.580046</td>\n",
       "      <td id=\"T_aced8_row2_col2\" class=\"data row2 col2\" >0.580046</td>\n",
       "    </tr>\n",
       "    <tr>\n",
       "      <th id=\"T_aced8_level0_row3\" class=\"row_heading level0 row3\" >resnet101</th>\n",
       "      <td id=\"T_aced8_row3_col0\" class=\"data row3 col0\" >0.927502</td>\n",
       "      <td id=\"T_aced8_row3_col1\" class=\"data row3 col1\" >0.577726</td>\n",
       "      <td id=\"T_aced8_row3_col2\" class=\"data row3 col2\" >0.577726</td>\n",
       "    </tr>\n",
       "    <tr>\n",
       "      <th id=\"T_aced8_level0_row4\" class=\"row_heading level0 row4\" >resnet152</th>\n",
       "      <td id=\"T_aced8_row4_col0\" class=\"data row4 col0\" >0.958335</td>\n",
       "      <td id=\"T_aced8_row4_col1\" class=\"data row4 col1\" >0.561485</td>\n",
       "      <td id=\"T_aced8_row4_col2\" class=\"data row4 col2\" >0.561485</td>\n",
       "    </tr>\n",
       "    <tr>\n",
       "      <th id=\"T_aced8_level0_row5\" class=\"row_heading level0 row5\" >densenet121</th>\n",
       "      <td id=\"T_aced8_row5_col0\" class=\"data row5 col0\" >0.907156</td>\n",
       "      <td id=\"T_aced8_row5_col1\" class=\"data row5 col1\" >0.605568</td>\n",
       "      <td id=\"T_aced8_row5_col2\" class=\"data row5 col2\" >0.605568</td>\n",
       "    </tr>\n",
       "    <tr>\n",
       "      <th id=\"T_aced8_level0_row6\" class=\"row_heading level0 row6\" >densenet169</th>\n",
       "      <td id=\"T_aced8_row6_col0\" class=\"data row6 col0\" >0.928015</td>\n",
       "      <td id=\"T_aced8_row6_col1\" class=\"data row6 col1\" >0.577726</td>\n",
       "      <td id=\"T_aced8_row6_col2\" class=\"data row6 col2\" >0.577726</td>\n",
       "    </tr>\n",
       "    <tr>\n",
       "      <th id=\"T_aced8_level0_row7\" class=\"row_heading level0 row7\" >densenet201</th>\n",
       "      <td id=\"T_aced8_row7_col0\" class=\"data row7 col0\" >0.864275</td>\n",
       "      <td id=\"T_aced8_row7_col1\" class=\"data row7 col1\" >0.596288</td>\n",
       "      <td id=\"T_aced8_row7_col2\" class=\"data row7 col2\" >0.596288</td>\n",
       "    </tr>\n",
       "  </tbody>\n",
       "</table style=\"display:inline\">\n",
       "</td><td style=\"vertical-align:top\"> <style type=\"text/css\">\n",
       "#T_29644_row0_col0, #T_29644_row3_col1, #T_29644_row3_col2 {\n",
       "  color: tomato;\n",
       "}\n",
       "#T_29644_row6_col0, #T_29644_row7_col1, #T_29644_row7_col2 {\n",
       "  color: lawngreen;\n",
       "}\n",
       "</style>\n",
       "<table style=\"display:inline\" id=\"T_29644_\">\n",
       "  <thead>\n",
       "    <tr>\n",
       "      <th class=\"blank level0\" >&nbsp;</th>\n",
       "      <th class=\"col_heading level0 col0\" >Loss</th>\n",
       "      <th class=\"col_heading level0 col1\" >Accuracy</th>\n",
       "      <th class=\"col_heading level0 col2\" >F1-score</th>\n",
       "    </tr>\n",
       "  </thead>\n",
       "  <tbody>\n",
       "    <tr>\n",
       "      <th id=\"T_29644_level0_row0\" class=\"row_heading level0 row0\" >vgg16</th>\n",
       "      <td id=\"T_29644_row0_col0\" class=\"data row0 col0\" >0.924528</td>\n",
       "      <td id=\"T_29644_row0_col1\" class=\"data row0 col1\" >0.548230</td>\n",
       "      <td id=\"T_29644_row0_col2\" class=\"data row0 col2\" >0.548230</td>\n",
       "    </tr>\n",
       "    <tr>\n",
       "      <th id=\"T_29644_level0_row1\" class=\"row_heading level0 row1\" >vgg19</th>\n",
       "      <td id=\"T_29644_row1_col0\" class=\"data row1 col0\" >0.913936</td>\n",
       "      <td id=\"T_29644_row1_col1\" class=\"data row1 col1\" >0.571429</td>\n",
       "      <td id=\"T_29644_row1_col2\" class=\"data row1 col2\" >0.571429</td>\n",
       "    </tr>\n",
       "    <tr>\n",
       "      <th id=\"T_29644_level0_row2\" class=\"row_heading level0 row2\" >resnet50</th>\n",
       "      <td id=\"T_29644_row2_col0\" class=\"data row2 col0\" >0.911810</td>\n",
       "      <td id=\"T_29644_row2_col1\" class=\"data row2 col1\" >0.554945</td>\n",
       "      <td id=\"T_29644_row2_col2\" class=\"data row2 col2\" >0.554945</td>\n",
       "    </tr>\n",
       "    <tr>\n",
       "      <th id=\"T_29644_level0_row3\" class=\"row_heading level0 row3\" >resnet101</th>\n",
       "      <td id=\"T_29644_row3_col0\" class=\"data row3 col0\" >0.923054</td>\n",
       "      <td id=\"T_29644_row3_col1\" class=\"data row3 col1\" >0.547009</td>\n",
       "      <td id=\"T_29644_row3_col2\" class=\"data row3 col2\" >0.547009</td>\n",
       "    </tr>\n",
       "    <tr>\n",
       "      <th id=\"T_29644_level0_row4\" class=\"row_heading level0 row4\" >resnet152</th>\n",
       "      <td id=\"T_29644_row4_col0\" class=\"data row4 col0\" >0.919318</td>\n",
       "      <td id=\"T_29644_row4_col1\" class=\"data row4 col1\" >0.550672</td>\n",
       "      <td id=\"T_29644_row4_col2\" class=\"data row4 col2\" >0.550672</td>\n",
       "    </tr>\n",
       "    <tr>\n",
       "      <th id=\"T_29644_level0_row5\" class=\"row_heading level0 row5\" >densenet121</th>\n",
       "      <td id=\"T_29644_row5_col0\" class=\"data row5 col0\" >0.894839</td>\n",
       "      <td id=\"T_29644_row5_col1\" class=\"data row5 col1\" >0.564103</td>\n",
       "      <td id=\"T_29644_row5_col2\" class=\"data row5 col2\" >0.564103</td>\n",
       "    </tr>\n",
       "    <tr>\n",
       "      <th id=\"T_29644_level0_row6\" class=\"row_heading level0 row6\" >densenet169</th>\n",
       "      <td id=\"T_29644_row6_col0\" class=\"data row6 col0\" >0.889975</td>\n",
       "      <td id=\"T_29644_row6_col1\" class=\"data row6 col1\" >0.567766</td>\n",
       "      <td id=\"T_29644_row6_col2\" class=\"data row6 col2\" >0.567766</td>\n",
       "    </tr>\n",
       "    <tr>\n",
       "      <th id=\"T_29644_level0_row7\" class=\"row_heading level0 row7\" >densenet201</th>\n",
       "      <td id=\"T_29644_row7_col0\" class=\"data row7 col0\" >0.897645</td>\n",
       "      <td id=\"T_29644_row7_col1\" class=\"data row7 col1\" >0.581197</td>\n",
       "      <td id=\"T_29644_row7_col2\" class=\"data row7 col2\" >0.581197</td>\n",
       "    </tr>\n",
       "  </tbody>\n",
       "</table style=\"display:inline\">\n",
       "</td><td style=\"vertical-align:top\"> <style type=\"text/css\">\n",
       "#T_c7b54_row4_col0, #T_c7b54_row4_col1, #T_c7b54_row4_col2 {\n",
       "  color: tomato;\n",
       "}\n",
       "#T_c7b54_row7_col0, #T_c7b54_row7_col1, #T_c7b54_row7_col2 {\n",
       "  color: lawngreen;\n",
       "}\n",
       "</style>\n",
       "<table style=\"display:inline\" id=\"T_c7b54_\">\n",
       "  <thead>\n",
       "    <tr>\n",
       "      <th class=\"blank level0\" >&nbsp;</th>\n",
       "      <th class=\"col_heading level0 col0\" >Loss</th>\n",
       "      <th class=\"col_heading level0 col1\" >Accuracy</th>\n",
       "      <th class=\"col_heading level0 col2\" >F1-score</th>\n",
       "    </tr>\n",
       "  </thead>\n",
       "  <tbody>\n",
       "    <tr>\n",
       "      <th id=\"T_c7b54_level0_row0\" class=\"row_heading level0 row0\" >vgg16</th>\n",
       "      <td id=\"T_c7b54_row0_col0\" class=\"data row0 col0\" >0.895043</td>\n",
       "      <td id=\"T_c7b54_row0_col1\" class=\"data row0 col1\" >0.562978</td>\n",
       "      <td id=\"T_c7b54_row0_col2\" class=\"data row0 col2\" >0.562978</td>\n",
       "    </tr>\n",
       "    <tr>\n",
       "      <th id=\"T_c7b54_level0_row1\" class=\"row_heading level0 row1\" >vgg19</th>\n",
       "      <td id=\"T_c7b54_row1_col0\" class=\"data row1 col0\" >0.886660</td>\n",
       "      <td id=\"T_c7b54_row1_col1\" class=\"data row1 col1\" >0.575738</td>\n",
       "      <td id=\"T_c7b54_row1_col2\" class=\"data row1 col2\" >0.575738</td>\n",
       "    </tr>\n",
       "    <tr>\n",
       "      <th id=\"T_c7b54_level0_row2\" class=\"row_heading level0 row2\" >resnet50</th>\n",
       "      <td id=\"T_c7b54_row2_col0\" class=\"data row2 col0\" >0.921250</td>\n",
       "      <td id=\"T_c7b54_row2_col1\" class=\"data row2 col1\" >0.567496</td>\n",
       "      <td id=\"T_c7b54_row2_col2\" class=\"data row2 col2\" >0.567496</td>\n",
       "    </tr>\n",
       "    <tr>\n",
       "      <th id=\"T_c7b54_level0_row3\" class=\"row_heading level0 row3\" >resnet101</th>\n",
       "      <td id=\"T_c7b54_row3_col0\" class=\"data row3 col0\" >0.925278</td>\n",
       "      <td id=\"T_c7b54_row3_col1\" class=\"data row3 col1\" >0.562367</td>\n",
       "      <td id=\"T_c7b54_row3_col2\" class=\"data row3 col2\" >0.562367</td>\n",
       "    </tr>\n",
       "    <tr>\n",
       "      <th id=\"T_c7b54_level0_row4\" class=\"row_heading level0 row4\" >resnet152</th>\n",
       "      <td id=\"T_c7b54_row4_col0\" class=\"data row4 col0\" >0.938826</td>\n",
       "      <td id=\"T_c7b54_row4_col1\" class=\"data row4 col1\" >0.556078</td>\n",
       "      <td id=\"T_c7b54_row4_col2\" class=\"data row4 col2\" >0.556078</td>\n",
       "    </tr>\n",
       "    <tr>\n",
       "      <th id=\"T_c7b54_level0_row5\" class=\"row_heading level0 row5\" >densenet121</th>\n",
       "      <td id=\"T_c7b54_row5_col0\" class=\"data row5 col0\" >0.900998</td>\n",
       "      <td id=\"T_c7b54_row5_col1\" class=\"data row5 col1\" >0.584836</td>\n",
       "      <td id=\"T_c7b54_row5_col2\" class=\"data row5 col2\" >0.584836</td>\n",
       "    </tr>\n",
       "    <tr>\n",
       "      <th id=\"T_c7b54_level0_row6\" class=\"row_heading level0 row6\" >densenet169</th>\n",
       "      <td id=\"T_c7b54_row6_col0\" class=\"data row6 col0\" >0.908995</td>\n",
       "      <td id=\"T_c7b54_row6_col1\" class=\"data row6 col1\" >0.572746</td>\n",
       "      <td id=\"T_c7b54_row6_col2\" class=\"data row6 col2\" >0.572746</td>\n",
       "    </tr>\n",
       "    <tr>\n",
       "      <th id=\"T_c7b54_level0_row7\" class=\"row_heading level0 row7\" >densenet201</th>\n",
       "      <td id=\"T_c7b54_row7_col0\" class=\"data row7 col0\" >0.880960</td>\n",
       "      <td id=\"T_c7b54_row7_col1\" class=\"data row7 col1\" >0.588742</td>\n",
       "      <td id=\"T_c7b54_row7_col2\" class=\"data row7 col2\" >0.588742</td>\n",
       "    </tr>\n",
       "  </tbody>\n",
       "</table style=\"display:inline\">\n",
       "</td></tr></table style=\"display:inline\">"
      ]
     },
     "metadata": {},
     "output_type": "display_data"
    }
   ],
   "source": [
    "print('With original image labels\\n')\n",
    "display_dataframes((style_dataframe(df_single_scores), style_dataframe(df_multiple_scores), style_dataframe(df_average_scores)), \n",
    "                   names=['MVSA-Single', 'MVSA-Multiple', 'Average'])"
   ]
  },
  {
   "cell_type": "markdown",
   "id": "fdea0b39",
   "metadata": {
    "papermill": {
     "duration": 0.011332,
     "end_time": "2022-06-30T14:26:54.006786",
     "exception": false,
     "start_time": "2022-06-30T14:26:53.995454",
     "status": "completed"
    },
    "tags": []
   },
   "source": [
    "## With multimodal labels"
   ]
  },
  {
   "cell_type": "code",
   "execution_count": 21,
   "id": "99fbfd17",
   "metadata": {
    "execution": {
     "iopub.execute_input": "2022-06-30T14:26:54.031601Z",
     "iopub.status.busy": "2022-06-30T14:26:54.031219Z",
     "iopub.status.idle": "2022-06-30T14:27:27.713343Z",
     "shell.execute_reply": "2022-06-30T14:27:27.711828Z"
    },
    "papermill": {
     "duration": 33.697893,
     "end_time": "2022-06-30T14:27:27.716286",
     "exception": false,
     "start_time": "2022-06-30T14:26:54.018393",
     "status": "completed"
    },
    "tags": []
   },
   "outputs": [
    {
     "name": "stdout",
     "output_type": "stream",
     "text": [
      "With multimodal labels\n",
      "MVSA-Single: vgg16\n",
      "16\n",
      "\n",
      "MVSA-Single: vgg19\n",
      "13\n",
      "\n",
      "MVSA-Single: resnet50\n",
      "22\n",
      "\n",
      "MVSA-Single: resnet101\n",
      "22\n",
      "\n",
      "MVSA-Single: resnet152\n",
      "28\n",
      "\n",
      "MVSA-Single: densenet121\n",
      "22\n",
      "\n",
      "MVSA-Single: densenet169\n",
      "12\n",
      "\n",
      "MVSA-Single: densenet201\n",
      "14\n",
      "\n"
     ]
    }
   ],
   "source": [
    "print('With multimodal labels')\n",
    "\n",
    "# run model with all features data of MVSA-Single\n",
    "mvsa_single_hitories2 = []\n",
    "mvsa_single_score2 = []\n",
    "for i in range(len(pretrained_names)):\n",
    "    print('MVSA-Single:', pretrained_names[i])\n",
    "    history, scores = run_and_evaluate('single-' + pretrained_names[i], mvsa_single_features[i], mvsa_single_multimodal_labels, verbose=0)\n",
    "    mvsa_single_hitories2.append(history)\n",
    "    mvsa_single_score2.append(scores)\n",
    "    print()\n",
    "    \n",
    "df_single_scores2 = pd.DataFrame(mvsa_single_score2, columns=['Loss', 'Accuracy', 'F1-score'], index=pretrained_names)"
   ]
  },
  {
   "cell_type": "code",
   "execution_count": 22,
   "id": "b067e300",
   "metadata": {
    "execution": {
     "iopub.execute_input": "2022-06-30T14:27:27.744342Z",
     "iopub.status.busy": "2022-06-30T14:27:27.743355Z",
     "iopub.status.idle": "2022-06-30T14:28:43.733213Z",
     "shell.execute_reply": "2022-06-30T14:28:43.730580Z"
    },
    "papermill": {
     "duration": 76.00681,
     "end_time": "2022-06-30T14:28:43.736043",
     "exception": false,
     "start_time": "2022-06-30T14:27:27.729233",
     "status": "completed"
    },
    "tags": []
   },
   "outputs": [
    {
     "name": "stdout",
     "output_type": "stream",
     "text": [
      "With multimodal labels\n",
      "MVSA-Multiple: vgg16\n",
      "18\n",
      "\n",
      "MVSA-Multiple: vgg19\n",
      "18\n",
      "\n",
      "MVSA-Multiple: resnet50\n",
      "18\n",
      "\n",
      "MVSA-Multiple: resnet101\n",
      "20\n",
      "\n",
      "MVSA-Multiple: resnet152\n",
      "20\n",
      "\n",
      "MVSA-Multiple: densenet121\n",
      "16\n",
      "\n",
      "MVSA-Multiple: densenet169\n",
      "16\n",
      "\n",
      "MVSA-Multiple: densenet201\n",
      "13\n",
      "\n"
     ]
    }
   ],
   "source": [
    "print('With multimodal labels')\n",
    "# run model with all features data of MVSA-Multiple\n",
    "mvsa_multiple_hitories2 = []\n",
    "mvsa_multiple_score2 = []\n",
    "for i in range(len(pretrained_names)):\n",
    "    print('MVSA-Multiple:', pretrained_names[i])\n",
    "    history, scores = run_and_evaluate('multiple-' + pretrained_names[i], mvsa_multiple_features[i], mvsa_multiple_multimodal_labels, verbose=0)\n",
    "    mvsa_multiple_hitories2.append(history)\n",
    "    mvsa_multiple_score2.append(scores)\n",
    "    print()\n",
    "    \n",
    "df_multiple_scores2 = pd.DataFrame(mvsa_multiple_score2, columns=['Loss', 'Accuracy', 'F1-score'], index=pretrained_names)"
   ]
  },
  {
   "cell_type": "code",
   "execution_count": 23,
   "id": "94fe5a21",
   "metadata": {
    "execution": {
     "iopub.execute_input": "2022-06-30T14:28:43.767264Z",
     "iopub.status.busy": "2022-06-30T14:28:43.766841Z",
     "iopub.status.idle": "2022-06-30T14:28:43.774952Z",
     "shell.execute_reply": "2022-06-30T14:28:43.773598Z"
    },
    "papermill": {
     "duration": 0.027339,
     "end_time": "2022-06-30T14:28:43.777842",
     "exception": false,
     "start_time": "2022-06-30T14:28:43.750503",
     "status": "completed"
    },
    "tags": []
   },
   "outputs": [],
   "source": [
    "mvsa_average_scores2 = np.mean([mvsa_single_score2, mvsa_multiple_score2], axis=0)\n",
    "df_average_scores2 = pd.DataFrame(mvsa_average_scores2, columns=['Loss', 'Accuracy', 'F1-score'], index=pretrained_names)"
   ]
  },
  {
   "cell_type": "code",
   "execution_count": 24,
   "id": "fefe3788",
   "metadata": {
    "execution": {
     "iopub.execute_input": "2022-06-30T14:28:43.806483Z",
     "iopub.status.busy": "2022-06-30T14:28:43.806147Z",
     "iopub.status.idle": "2022-06-30T14:28:43.862201Z",
     "shell.execute_reply": "2022-06-30T14:28:43.860928Z"
    },
    "papermill": {
     "duration": 0.073701,
     "end_time": "2022-06-30T14:28:43.865092",
     "exception": false,
     "start_time": "2022-06-30T14:28:43.791391",
     "status": "completed"
    },
    "tags": []
   },
   "outputs": [
    {
     "name": "stdout",
     "output_type": "stream",
     "text": [
      "With multimodal labels\n",
      "\n"
     ]
    },
    {
     "data": {
      "text/html": [
       "<table style=\"display:inline\"><tr><td style=\"text-align:center\">MVSA-Single</td><td style=\"text-align:center\">MVSA-Multiple</td><td style=\"text-align:center\">Average</td></tr><tr><td style=\"vertical-align:top\"> <style type=\"text/css\">\n",
       "#T_05eb4_row0_col1, #T_05eb4_row0_col2, #T_05eb4_row1_col0 {\n",
       "  color: lawngreen;\n",
       "}\n",
       "#T_05eb4_row6_col0, #T_05eb4_row7_col1, #T_05eb4_row7_col2 {\n",
       "  color: tomato;\n",
       "}\n",
       "</style>\n",
       "<table style=\"display:inline\" id=\"T_05eb4_\">\n",
       "  <thead>\n",
       "    <tr>\n",
       "      <th class=\"blank level0\" >&nbsp;</th>\n",
       "      <th class=\"col_heading level0 col0\" >Loss</th>\n",
       "      <th class=\"col_heading level0 col1\" >Accuracy</th>\n",
       "      <th class=\"col_heading level0 col2\" >F1-score</th>\n",
       "    </tr>\n",
       "  </thead>\n",
       "  <tbody>\n",
       "    <tr>\n",
       "      <th id=\"T_05eb4_level0_row0\" class=\"row_heading level0 row0\" >vgg16</th>\n",
       "      <td id=\"T_05eb4_row0_col0\" class=\"data row0 col0\" >0.760666</td>\n",
       "      <td id=\"T_05eb4_row0_col1\" class=\"data row0 col1\" >0.628770</td>\n",
       "      <td id=\"T_05eb4_row0_col2\" class=\"data row0 col2\" >0.628770</td>\n",
       "    </tr>\n",
       "    <tr>\n",
       "      <th id=\"T_05eb4_level0_row1\" class=\"row_heading level0 row1\" >vgg19</th>\n",
       "      <td id=\"T_05eb4_row1_col0\" class=\"data row1 col0\" >0.757656</td>\n",
       "      <td id=\"T_05eb4_row1_col1\" class=\"data row1 col1\" >0.617169</td>\n",
       "      <td id=\"T_05eb4_row1_col2\" class=\"data row1 col2\" >0.617169</td>\n",
       "    </tr>\n",
       "    <tr>\n",
       "      <th id=\"T_05eb4_level0_row2\" class=\"row_heading level0 row2\" >resnet50</th>\n",
       "      <td id=\"T_05eb4_row2_col0\" class=\"data row2 col0\" >0.796381</td>\n",
       "      <td id=\"T_05eb4_row2_col1\" class=\"data row2 col1\" >0.610209</td>\n",
       "      <td id=\"T_05eb4_row2_col2\" class=\"data row2 col2\" >0.610209</td>\n",
       "    </tr>\n",
       "    <tr>\n",
       "      <th id=\"T_05eb4_level0_row3\" class=\"row_heading level0 row3\" >resnet101</th>\n",
       "      <td id=\"T_05eb4_row3_col0\" class=\"data row3 col0\" >0.803058</td>\n",
       "      <td id=\"T_05eb4_row3_col1\" class=\"data row3 col1\" >0.612529</td>\n",
       "      <td id=\"T_05eb4_row3_col2\" class=\"data row3 col2\" >0.612529</td>\n",
       "    </tr>\n",
       "    <tr>\n",
       "      <th id=\"T_05eb4_level0_row4\" class=\"row_heading level0 row4\" >resnet152</th>\n",
       "      <td id=\"T_05eb4_row4_col0\" class=\"data row4 col0\" >0.817103</td>\n",
       "      <td id=\"T_05eb4_row4_col1\" class=\"data row4 col1\" >0.603248</td>\n",
       "      <td id=\"T_05eb4_row4_col2\" class=\"data row4 col2\" >0.603248</td>\n",
       "    </tr>\n",
       "    <tr>\n",
       "      <th id=\"T_05eb4_level0_row5\" class=\"row_heading level0 row5\" >densenet121</th>\n",
       "      <td id=\"T_05eb4_row5_col0\" class=\"data row5 col0\" >0.835543</td>\n",
       "      <td id=\"T_05eb4_row5_col1\" class=\"data row5 col1\" >0.591647</td>\n",
       "      <td id=\"T_05eb4_row5_col2\" class=\"data row5 col2\" >0.591647</td>\n",
       "    </tr>\n",
       "    <tr>\n",
       "      <th id=\"T_05eb4_level0_row6\" class=\"row_heading level0 row6\" >densenet169</th>\n",
       "      <td id=\"T_05eb4_row6_col0\" class=\"data row6 col0\" >0.840911</td>\n",
       "      <td id=\"T_05eb4_row6_col1\" class=\"data row6 col1\" >0.598608</td>\n",
       "      <td id=\"T_05eb4_row6_col2\" class=\"data row6 col2\" >0.598608</td>\n",
       "    </tr>\n",
       "    <tr>\n",
       "      <th id=\"T_05eb4_level0_row7\" class=\"row_heading level0 row7\" >densenet201</th>\n",
       "      <td id=\"T_05eb4_row7_col0\" class=\"data row7 col0\" >0.831024</td>\n",
       "      <td id=\"T_05eb4_row7_col1\" class=\"data row7 col1\" >0.587007</td>\n",
       "      <td id=\"T_05eb4_row7_col2\" class=\"data row7 col2\" >0.587007</td>\n",
       "    </tr>\n",
       "  </tbody>\n",
       "</table style=\"display:inline\">\n",
       "</td><td style=\"vertical-align:top\"> <style type=\"text/css\">\n",
       "#T_e23f0_row1_col1, #T_e23f0_row1_col2, #T_e23f0_row7_col0 {\n",
       "  color: lawngreen;\n",
       "}\n",
       "#T_e23f0_row4_col0, #T_e23f0_row6_col1, #T_e23f0_row6_col2 {\n",
       "  color: tomato;\n",
       "}\n",
       "</style>\n",
       "<table style=\"display:inline\" id=\"T_e23f0_\">\n",
       "  <thead>\n",
       "    <tr>\n",
       "      <th class=\"blank level0\" >&nbsp;</th>\n",
       "      <th class=\"col_heading level0 col0\" >Loss</th>\n",
       "      <th class=\"col_heading level0 col1\" >Accuracy</th>\n",
       "      <th class=\"col_heading level0 col2\" >F1-score</th>\n",
       "    </tr>\n",
       "  </thead>\n",
       "  <tbody>\n",
       "    <tr>\n",
       "      <th id=\"T_e23f0_level0_row0\" class=\"row_heading level0 row0\" >vgg16</th>\n",
       "      <td id=\"T_e23f0_row0_col0\" class=\"data row0 col0\" >0.891924</td>\n",
       "      <td id=\"T_e23f0_row0_col1\" class=\"data row0 col1\" >0.638584</td>\n",
       "      <td id=\"T_e23f0_row0_col2\" class=\"data row0 col2\" >0.638584</td>\n",
       "    </tr>\n",
       "    <tr>\n",
       "      <th id=\"T_e23f0_level0_row1\" class=\"row_heading level0 row1\" >vgg19</th>\n",
       "      <td id=\"T_e23f0_row1_col0\" class=\"data row1 col0\" >0.901875</td>\n",
       "      <td id=\"T_e23f0_row1_col1\" class=\"data row1 col1\" >0.645910</td>\n",
       "      <td id=\"T_e23f0_row1_col2\" class=\"data row1 col2\" >0.645910</td>\n",
       "    </tr>\n",
       "    <tr>\n",
       "      <th id=\"T_e23f0_level0_row2\" class=\"row_heading level0 row2\" >resnet50</th>\n",
       "      <td id=\"T_e23f0_row2_col0\" class=\"data row2 col0\" >0.903102</td>\n",
       "      <td id=\"T_e23f0_row2_col1\" class=\"data row2 col1\" >0.639805</td>\n",
       "      <td id=\"T_e23f0_row2_col2\" class=\"data row2 col2\" >0.639805</td>\n",
       "    </tr>\n",
       "    <tr>\n",
       "      <th id=\"T_e23f0_level0_row3\" class=\"row_heading level0 row3\" >resnet101</th>\n",
       "      <td id=\"T_e23f0_row3_col0\" class=\"data row3 col0\" >0.905602</td>\n",
       "      <td id=\"T_e23f0_row3_col1\" class=\"data row3 col1\" >0.639805</td>\n",
       "      <td id=\"T_e23f0_row3_col2\" class=\"data row3 col2\" >0.639805</td>\n",
       "    </tr>\n",
       "    <tr>\n",
       "      <th id=\"T_e23f0_level0_row4\" class=\"row_heading level0 row4\" >resnet152</th>\n",
       "      <td id=\"T_e23f0_row4_col0\" class=\"data row4 col0\" >0.905639</td>\n",
       "      <td id=\"T_e23f0_row4_col1\" class=\"data row4 col1\" >0.639805</td>\n",
       "      <td id=\"T_e23f0_row4_col2\" class=\"data row4 col2\" >0.639805</td>\n",
       "    </tr>\n",
       "    <tr>\n",
       "      <th id=\"T_e23f0_level0_row5\" class=\"row_heading level0 row5\" >densenet121</th>\n",
       "      <td id=\"T_e23f0_row5_col0\" class=\"data row5 col0\" >0.891714</td>\n",
       "      <td id=\"T_e23f0_row5_col1\" class=\"data row5 col1\" >0.630647</td>\n",
       "      <td id=\"T_e23f0_row5_col2\" class=\"data row5 col2\" >0.630647</td>\n",
       "    </tr>\n",
       "    <tr>\n",
       "      <th id=\"T_e23f0_level0_row6\" class=\"row_heading level0 row6\" >densenet169</th>\n",
       "      <td id=\"T_e23f0_row6_col0\" class=\"data row6 col0\" >0.877630</td>\n",
       "      <td id=\"T_e23f0_row6_col1\" class=\"data row6 col1\" >0.626374</td>\n",
       "      <td id=\"T_e23f0_row6_col2\" class=\"data row6 col2\" >0.626374</td>\n",
       "    </tr>\n",
       "    <tr>\n",
       "      <th id=\"T_e23f0_level0_row7\" class=\"row_heading level0 row7\" >densenet201</th>\n",
       "      <td id=\"T_e23f0_row7_col0\" class=\"data row7 col0\" >0.866111</td>\n",
       "      <td id=\"T_e23f0_row7_col1\" class=\"data row7 col1\" >0.634310</td>\n",
       "      <td id=\"T_e23f0_row7_col2\" class=\"data row7 col2\" >0.634310</td>\n",
       "    </tr>\n",
       "  </tbody>\n",
       "</table style=\"display:inline\">\n",
       "</td><td style=\"vertical-align:top\"> <style type=\"text/css\">\n",
       "#T_2b27a_row0_col0, #T_2b27a_row0_col1, #T_2b27a_row0_col2 {\n",
       "  color: lawngreen;\n",
       "}\n",
       "#T_2b27a_row5_col0, #T_2b27a_row7_col1, #T_2b27a_row7_col2 {\n",
       "  color: tomato;\n",
       "}\n",
       "</style>\n",
       "<table style=\"display:inline\" id=\"T_2b27a_\">\n",
       "  <thead>\n",
       "    <tr>\n",
       "      <th class=\"blank level0\" >&nbsp;</th>\n",
       "      <th class=\"col_heading level0 col0\" >Loss</th>\n",
       "      <th class=\"col_heading level0 col1\" >Accuracy</th>\n",
       "      <th class=\"col_heading level0 col2\" >F1-score</th>\n",
       "    </tr>\n",
       "  </thead>\n",
       "  <tbody>\n",
       "    <tr>\n",
       "      <th id=\"T_2b27a_level0_row0\" class=\"row_heading level0 row0\" >vgg16</th>\n",
       "      <td id=\"T_2b27a_row0_col0\" class=\"data row0 col0\" >0.826295</td>\n",
       "      <td id=\"T_2b27a_row0_col1\" class=\"data row0 col1\" >0.633677</td>\n",
       "      <td id=\"T_2b27a_row0_col2\" class=\"data row0 col2\" >0.633677</td>\n",
       "    </tr>\n",
       "    <tr>\n",
       "      <th id=\"T_2b27a_level0_row1\" class=\"row_heading level0 row1\" >vgg19</th>\n",
       "      <td id=\"T_2b27a_row1_col0\" class=\"data row1 col0\" >0.829766</td>\n",
       "      <td id=\"T_2b27a_row1_col1\" class=\"data row1 col1\" >0.631540</td>\n",
       "      <td id=\"T_2b27a_row1_col2\" class=\"data row1 col2\" >0.631540</td>\n",
       "    </tr>\n",
       "    <tr>\n",
       "      <th id=\"T_2b27a_level0_row2\" class=\"row_heading level0 row2\" >resnet50</th>\n",
       "      <td id=\"T_2b27a_row2_col0\" class=\"data row2 col0\" >0.849742</td>\n",
       "      <td id=\"T_2b27a_row2_col1\" class=\"data row2 col1\" >0.625007</td>\n",
       "      <td id=\"T_2b27a_row2_col2\" class=\"data row2 col2\" >0.625007</td>\n",
       "    </tr>\n",
       "    <tr>\n",
       "      <th id=\"T_2b27a_level0_row3\" class=\"row_heading level0 row3\" >resnet101</th>\n",
       "      <td id=\"T_2b27a_row3_col0\" class=\"data row3 col0\" >0.854330</td>\n",
       "      <td id=\"T_2b27a_row3_col1\" class=\"data row3 col1\" >0.626167</td>\n",
       "      <td id=\"T_2b27a_row3_col2\" class=\"data row3 col2\" >0.626167</td>\n",
       "    </tr>\n",
       "    <tr>\n",
       "      <th id=\"T_2b27a_level0_row4\" class=\"row_heading level0 row4\" >resnet152</th>\n",
       "      <td id=\"T_2b27a_row4_col0\" class=\"data row4 col0\" >0.861371</td>\n",
       "      <td id=\"T_2b27a_row4_col1\" class=\"data row4 col1\" >0.621526</td>\n",
       "      <td id=\"T_2b27a_row4_col2\" class=\"data row4 col2\" >0.621526</td>\n",
       "    </tr>\n",
       "    <tr>\n",
       "      <th id=\"T_2b27a_level0_row5\" class=\"row_heading level0 row5\" >densenet121</th>\n",
       "      <td id=\"T_2b27a_row5_col0\" class=\"data row5 col0\" >0.863629</td>\n",
       "      <td id=\"T_2b27a_row5_col1\" class=\"data row5 col1\" >0.611147</td>\n",
       "      <td id=\"T_2b27a_row5_col2\" class=\"data row5 col2\" >0.611147</td>\n",
       "    </tr>\n",
       "    <tr>\n",
       "      <th id=\"T_2b27a_level0_row6\" class=\"row_heading level0 row6\" >densenet169</th>\n",
       "      <td id=\"T_2b27a_row6_col0\" class=\"data row6 col0\" >0.859271</td>\n",
       "      <td id=\"T_2b27a_row6_col1\" class=\"data row6 col1\" >0.612491</td>\n",
       "      <td id=\"T_2b27a_row6_col2\" class=\"data row6 col2\" >0.612491</td>\n",
       "    </tr>\n",
       "    <tr>\n",
       "      <th id=\"T_2b27a_level0_row7\" class=\"row_heading level0 row7\" >densenet201</th>\n",
       "      <td id=\"T_2b27a_row7_col0\" class=\"data row7 col0\" >0.848567</td>\n",
       "      <td id=\"T_2b27a_row7_col1\" class=\"data row7 col1\" >0.610659</td>\n",
       "      <td id=\"T_2b27a_row7_col2\" class=\"data row7 col2\" >0.610659</td>\n",
       "    </tr>\n",
       "  </tbody>\n",
       "</table style=\"display:inline\">\n",
       "</td></tr></table style=\"display:inline\">"
      ]
     },
     "metadata": {},
     "output_type": "display_data"
    }
   ],
   "source": [
    "print('With multimodal labels\\n')\n",
    "display_dataframes((style_dataframe(df_single_scores2), style_dataframe(df_multiple_scores2), style_dataframe(df_average_scores2)), \n",
    "                   names=['MVSA-Single', 'MVSA-Multiple', 'Average'])"
   ]
  },
  {
   "cell_type": "markdown",
   "id": "3e039220",
   "metadata": {
    "papermill": {
     "duration": 0.013735,
     "end_time": "2022-06-30T14:28:43.892931",
     "exception": false,
     "start_time": "2022-06-30T14:28:43.879196",
     "status": "completed"
    },
    "tags": []
   },
   "source": [
    "# With merge MVSA data"
   ]
  },
  {
   "cell_type": "code",
   "execution_count": 25,
   "id": "67fac0d7",
   "metadata": {
    "execution": {
     "iopub.execute_input": "2022-06-30T14:28:43.923183Z",
     "iopub.status.busy": "2022-06-30T14:28:43.921974Z",
     "iopub.status.idle": "2022-06-30T14:30:17.696898Z",
     "shell.execute_reply": "2022-06-30T14:30:17.694944Z"
    },
    "papermill": {
     "duration": 93.792896,
     "end_time": "2022-06-30T14:30:17.699731",
     "exception": false,
     "start_time": "2022-06-30T14:28:43.906835",
     "status": "completed"
    },
    "tags": []
   },
   "outputs": [
    {
     "name": "stdout",
     "output_type": "stream",
     "text": [
      "With original image labels\n",
      "Both MVSA: vgg16\n",
      "26\n",
      "\n",
      "Both MVSA: vgg19\n",
      "11\n",
      "\n",
      "Both MVSA: resnet50\n",
      "14\n",
      "\n",
      "Both MVSA: resnet101\n",
      "14\n",
      "\n",
      "Both MVSA: resnet152\n",
      "14\n",
      "\n",
      "Both MVSA: densenet121\n",
      "14\n",
      "\n",
      "Both MVSA: densenet169\n",
      "14\n",
      "\n",
      "Both MVSA: densenet201\n",
      "14\n",
      "\n"
     ]
    }
   ],
   "source": [
    "print('With original image labels')\n",
    "mvsa_hitories3 = []\n",
    "mvsa_score3 = []\n",
    "for i in range(len(pretrained_names)):\n",
    "    print('Both MVSA:', pretrained_names[i])\n",
    "    history, scores = run_and_evaluate('single-' + pretrained_names[i], mvsa_features[i], mvsa_image_labels, verbose=0)\n",
    "    mvsa_hitories3.append(history)\n",
    "    mvsa_score3.append(scores)\n",
    "    print()\n",
    "    \n",
    "df_scores3 = pd.DataFrame(mvsa_score3, columns=['Loss', 'Accuracy', 'F1-score'], index=pretrained_names)"
   ]
  },
  {
   "cell_type": "code",
   "execution_count": 26,
   "id": "143f78bf",
   "metadata": {
    "execution": {
     "iopub.execute_input": "2022-06-30T14:30:17.732849Z",
     "iopub.status.busy": "2022-06-30T14:30:17.732498Z",
     "iopub.status.idle": "2022-06-30T14:31:45.432599Z",
     "shell.execute_reply": "2022-06-30T14:31:45.429916Z"
    },
    "papermill": {
     "duration": 87.719461,
     "end_time": "2022-06-30T14:31:45.435409",
     "exception": false,
     "start_time": "2022-06-30T14:30:17.715948",
     "status": "completed"
    },
    "tags": []
   },
   "outputs": [
    {
     "name": "stdout",
     "output_type": "stream",
     "text": [
      "With multimodal labels\n",
      "Both MVSA: vgg16\n",
      "11\n",
      "\n",
      "Both MVSA: vgg19\n",
      "11\n",
      "\n",
      "Both MVSA: resnet50\n",
      "14\n",
      "\n",
      "Both MVSA: resnet101\n",
      "14\n",
      "\n",
      "Both MVSA: resnet152\n",
      "14\n",
      "\n",
      "Both MVSA: densenet121\n",
      "14\n",
      "\n",
      "Both MVSA: densenet169\n",
      "14\n",
      "\n",
      "Both MVSA: densenet201\n",
      "18\n",
      "\n"
     ]
    }
   ],
   "source": [
    "print('With multimodal labels')\n",
    "mvsa_hitories4 = []\n",
    "mvsa_score4 = []\n",
    "for i in range(len(pretrained_names)):\n",
    "    print('Both MVSA:', pretrained_names[i])\n",
    "    history, scores = run_and_evaluate('single-' + pretrained_names[i], mvsa_features[i], mvsa_multimodal_labels, verbose=0)\n",
    "    mvsa_hitories4.append(history)\n",
    "    mvsa_score4.append(scores)\n",
    "    print()\n",
    "    \n",
    "df_scores4 = pd.DataFrame(mvsa_score4, columns=['Loss', 'Accuracy', 'F1-score'], index=pretrained_names)"
   ]
  },
  {
   "cell_type": "code",
   "execution_count": 27,
   "id": "cb853c5b",
   "metadata": {
    "execution": {
     "iopub.execute_input": "2022-06-30T14:31:45.471369Z",
     "iopub.status.busy": "2022-06-30T14:31:45.469463Z",
     "iopub.status.idle": "2022-06-30T14:31:45.513914Z",
     "shell.execute_reply": "2022-06-30T14:31:45.512496Z"
    },
    "papermill": {
     "duration": 0.064227,
     "end_time": "2022-06-30T14:31:45.516530",
     "exception": false,
     "start_time": "2022-06-30T14:31:45.452303",
     "status": "completed"
    },
    "tags": []
   },
   "outputs": [
    {
     "name": "stdout",
     "output_type": "stream",
     "text": [
      "With both MVSA merged together\n",
      "\n"
     ]
    },
    {
     "data": {
      "text/html": [
       "<table style=\"display:inline\"><tr><td style=\"text-align:center\">Original image labels</td><td style=\"text-align:center\">Multimodal labels</td></tr><tr><td style=\"vertical-align:top\"> <style type=\"text/css\">\n",
       "#T_84bb7_row4_col0, #T_84bb7_row4_col1, #T_84bb7_row4_col2 {\n",
       "  color: tomato;\n",
       "}\n",
       "#T_84bb7_row7_col0, #T_84bb7_row7_col1, #T_84bb7_row7_col2 {\n",
       "  color: lawngreen;\n",
       "}\n",
       "</style>\n",
       "<table style=\"display:inline\" id=\"T_84bb7_\">\n",
       "  <thead>\n",
       "    <tr>\n",
       "      <th class=\"blank level0\" >&nbsp;</th>\n",
       "      <th class=\"col_heading level0 col0\" >Loss</th>\n",
       "      <th class=\"col_heading level0 col1\" >Accuracy</th>\n",
       "      <th class=\"col_heading level0 col2\" >F1-score</th>\n",
       "    </tr>\n",
       "  </thead>\n",
       "  <tbody>\n",
       "    <tr>\n",
       "      <th id=\"T_84bb7_level0_row0\" class=\"row_heading level0 row0\" >vgg16</th>\n",
       "      <td id=\"T_84bb7_row0_col0\" class=\"data row0 col0\" >0.859472</td>\n",
       "      <td id=\"T_84bb7_row0_col1\" class=\"data row0 col1\" >0.591787</td>\n",
       "      <td id=\"T_84bb7_row0_col2\" class=\"data row0 col2\" >0.591787</td>\n",
       "    </tr>\n",
       "    <tr>\n",
       "      <th id=\"T_84bb7_level0_row1\" class=\"row_heading level0 row1\" >vgg19</th>\n",
       "      <td id=\"T_84bb7_row1_col0\" class=\"data row1 col0\" >0.873409</td>\n",
       "      <td id=\"T_84bb7_row1_col1\" class=\"data row1 col1\" >0.585507</td>\n",
       "      <td id=\"T_84bb7_row1_col2\" class=\"data row1 col2\" >0.585507</td>\n",
       "    </tr>\n",
       "    <tr>\n",
       "      <th id=\"T_84bb7_level0_row2\" class=\"row_heading level0 row2\" >resnet50</th>\n",
       "      <td id=\"T_84bb7_row2_col0\" class=\"data row2 col0\" >0.878242</td>\n",
       "      <td id=\"T_84bb7_row2_col1\" class=\"data row2 col1\" >0.576812</td>\n",
       "      <td id=\"T_84bb7_row2_col2\" class=\"data row2 col2\" >0.576812</td>\n",
       "    </tr>\n",
       "    <tr>\n",
       "      <th id=\"T_84bb7_level0_row3\" class=\"row_heading level0 row3\" >resnet101</th>\n",
       "      <td id=\"T_84bb7_row3_col0\" class=\"data row3 col0\" >0.881290</td>\n",
       "      <td id=\"T_84bb7_row3_col1\" class=\"data row3 col1\" >0.576812</td>\n",
       "      <td id=\"T_84bb7_row3_col2\" class=\"data row3 col2\" >0.576812</td>\n",
       "    </tr>\n",
       "    <tr>\n",
       "      <th id=\"T_84bb7_level0_row4\" class=\"row_heading level0 row4\" >resnet152</th>\n",
       "      <td id=\"T_84bb7_row4_col0\" class=\"data row4 col0\" >0.881441</td>\n",
       "      <td id=\"T_84bb7_row4_col1\" class=\"data row4 col1\" >0.570048</td>\n",
       "      <td id=\"T_84bb7_row4_col2\" class=\"data row4 col2\" >0.570048</td>\n",
       "    </tr>\n",
       "    <tr>\n",
       "      <th id=\"T_84bb7_level0_row5\" class=\"row_heading level0 row5\" >densenet121</th>\n",
       "      <td id=\"T_84bb7_row5_col0\" class=\"data row5 col0\" >0.854309</td>\n",
       "      <td id=\"T_84bb7_row5_col1\" class=\"data row5 col1\" >0.593720</td>\n",
       "      <td id=\"T_84bb7_row5_col2\" class=\"data row5 col2\" >0.593720</td>\n",
       "    </tr>\n",
       "    <tr>\n",
       "      <th id=\"T_84bb7_level0_row6\" class=\"row_heading level0 row6\" >densenet169</th>\n",
       "      <td id=\"T_84bb7_row6_col0\" class=\"data row6 col0\" >0.855433</td>\n",
       "      <td id=\"T_84bb7_row6_col1\" class=\"data row6 col1\" >0.586957</td>\n",
       "      <td id=\"T_84bb7_row6_col2\" class=\"data row6 col2\" >0.586957</td>\n",
       "    </tr>\n",
       "    <tr>\n",
       "      <th id=\"T_84bb7_level0_row7\" class=\"row_heading level0 row7\" >densenet201</th>\n",
       "      <td id=\"T_84bb7_row7_col0\" class=\"data row7 col0\" >0.852574</td>\n",
       "      <td id=\"T_84bb7_row7_col1\" class=\"data row7 col1\" >0.597585</td>\n",
       "      <td id=\"T_84bb7_row7_col2\" class=\"data row7 col2\" >0.597585</td>\n",
       "    </tr>\n",
       "  </tbody>\n",
       "</table style=\"display:inline\">\n",
       "</td><td style=\"vertical-align:top\"> <style type=\"text/css\">\n",
       "#T_3fba0_row1_col0, #T_3fba0_row5_col1, #T_3fba0_row5_col2 {\n",
       "  color: tomato;\n",
       "}\n",
       "#T_3fba0_row6_col0, #T_3fba0_row7_col1, #T_3fba0_row7_col2 {\n",
       "  color: lawngreen;\n",
       "}\n",
       "</style>\n",
       "<table style=\"display:inline\" id=\"T_3fba0_\">\n",
       "  <thead>\n",
       "    <tr>\n",
       "      <th class=\"blank level0\" >&nbsp;</th>\n",
       "      <th class=\"col_heading level0 col0\" >Loss</th>\n",
       "      <th class=\"col_heading level0 col1\" >Accuracy</th>\n",
       "      <th class=\"col_heading level0 col2\" >F1-score</th>\n",
       "    </tr>\n",
       "  </thead>\n",
       "  <tbody>\n",
       "    <tr>\n",
       "      <th id=\"T_3fba0_level0_row0\" class=\"row_heading level0 row0\" >vgg16</th>\n",
       "      <td id=\"T_3fba0_row0_col0\" class=\"data row0 col0\" >0.847671</td>\n",
       "      <td id=\"T_3fba0_row0_col1\" class=\"data row0 col1\" >0.662319</td>\n",
       "      <td id=\"T_3fba0_row0_col2\" class=\"data row0 col2\" >0.662319</td>\n",
       "    </tr>\n",
       "    <tr>\n",
       "      <th id=\"T_3fba0_level0_row1\" class=\"row_heading level0 row1\" >vgg19</th>\n",
       "      <td id=\"T_3fba0_row1_col0\" class=\"data row1 col0\" >0.851658</td>\n",
       "      <td id=\"T_3fba0_row1_col1\" class=\"data row1 col1\" >0.663768</td>\n",
       "      <td id=\"T_3fba0_row1_col2\" class=\"data row1 col2\" >0.663768</td>\n",
       "    </tr>\n",
       "    <tr>\n",
       "      <th id=\"T_3fba0_level0_row2\" class=\"row_heading level0 row2\" >resnet50</th>\n",
       "      <td id=\"T_3fba0_row2_col0\" class=\"data row2 col0\" >0.838595</td>\n",
       "      <td id=\"T_3fba0_row2_col1\" class=\"data row2 col1\" >0.661836</td>\n",
       "      <td id=\"T_3fba0_row2_col2\" class=\"data row2 col2\" >0.661836</td>\n",
       "    </tr>\n",
       "    <tr>\n",
       "      <th id=\"T_3fba0_level0_row3\" class=\"row_heading level0 row3\" >resnet101</th>\n",
       "      <td id=\"T_3fba0_row3_col0\" class=\"data row3 col0\" >0.840538</td>\n",
       "      <td id=\"T_3fba0_row3_col1\" class=\"data row3 col1\" >0.663285</td>\n",
       "      <td id=\"T_3fba0_row3_col2\" class=\"data row3 col2\" >0.663285</td>\n",
       "    </tr>\n",
       "    <tr>\n",
       "      <th id=\"T_3fba0_level0_row4\" class=\"row_heading level0 row4\" >resnet152</th>\n",
       "      <td id=\"T_3fba0_row4_col0\" class=\"data row4 col0\" >0.842235</td>\n",
       "      <td id=\"T_3fba0_row4_col1\" class=\"data row4 col1\" >0.663285</td>\n",
       "      <td id=\"T_3fba0_row4_col2\" class=\"data row4 col2\" >0.663285</td>\n",
       "    </tr>\n",
       "    <tr>\n",
       "      <th id=\"T_3fba0_level0_row5\" class=\"row_heading level0 row5\" >densenet121</th>\n",
       "      <td id=\"T_3fba0_row5_col0\" class=\"data row5 col0\" >0.827224</td>\n",
       "      <td id=\"T_3fba0_row5_col1\" class=\"data row5 col1\" >0.651208</td>\n",
       "      <td id=\"T_3fba0_row5_col2\" class=\"data row5 col2\" >0.651208</td>\n",
       "    </tr>\n",
       "    <tr>\n",
       "      <th id=\"T_3fba0_level0_row6\" class=\"row_heading level0 row6\" >densenet169</th>\n",
       "      <td id=\"T_3fba0_row6_col0\" class=\"data row6 col0\" >0.820361</td>\n",
       "      <td id=\"T_3fba0_row6_col1\" class=\"data row6 col1\" >0.657488</td>\n",
       "      <td id=\"T_3fba0_row6_col2\" class=\"data row6 col2\" >0.657488</td>\n",
       "    </tr>\n",
       "    <tr>\n",
       "      <th id=\"T_3fba0_level0_row7\" class=\"row_heading level0 row7\" >densenet201</th>\n",
       "      <td id=\"T_3fba0_row7_col0\" class=\"data row7 col0\" >0.841692</td>\n",
       "      <td id=\"T_3fba0_row7_col1\" class=\"data row7 col1\" >0.664251</td>\n",
       "      <td id=\"T_3fba0_row7_col2\" class=\"data row7 col2\" >0.664251</td>\n",
       "    </tr>\n",
       "  </tbody>\n",
       "</table style=\"display:inline\">\n",
       "</td></tr></table style=\"display:inline\">"
      ]
     },
     "metadata": {},
     "output_type": "display_data"
    }
   ],
   "source": [
    "print('With both MVSA merged together\\n')\n",
    "display_dataframes((style_dataframe(df_scores3), style_dataframe(df_scores4)), \n",
    "                   names=['Original image labels', 'Multimodal labels'])"
   ]
  }
 ],
 "metadata": {
  "kernelspec": {
   "display_name": "Python 3",
   "language": "python",
   "name": "python3"
  },
  "language_info": {
   "codemirror_mode": {
    "name": "ipython",
    "version": 3
   },
   "file_extension": ".py",
   "mimetype": "text/x-python",
   "name": "python",
   "nbconvert_exporter": "python",
   "pygments_lexer": "ipython3",
   "version": "3.7.12"
  },
  "papermill": {
   "default_parameters": {},
   "duration": 448.874295,
   "end_time": "2022-06-30T14:31:49.025099",
   "environment_variables": {},
   "exception": null,
   "input_path": "__notebook__.ipynb",
   "output_path": "__notebook__.ipynb",
   "parameters": {},
   "start_time": "2022-06-30T14:24:20.150804",
   "version": "2.3.4"
  }
 },
 "nbformat": 4,
 "nbformat_minor": 5
}
