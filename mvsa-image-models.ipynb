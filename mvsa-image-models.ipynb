{
 "cells": [
  {
   "cell_type": "code",
   "execution_count": 1,
   "id": "ea0c5dc2",
   "metadata": {
    "_cell_guid": "b1076dfc-b9ad-4769-8c92-a6c4dae69d19",
    "_uuid": "8f2839f25d086af736a60e9eeb907d3b93b6e0e5",
    "execution": {
     "iopub.execute_input": "2022-06-30T18:47:56.262824Z",
     "iopub.status.busy": "2022-06-30T18:47:56.262325Z",
     "iopub.status.idle": "2022-06-30T18:48:04.471876Z",
     "shell.execute_reply": "2022-06-30T18:48:04.470775Z"
    },
    "papermill": {
     "duration": 8.227746,
     "end_time": "2022-06-30T18:48:04.474511",
     "exception": false,
     "start_time": "2022-06-30T18:47:56.246765",
     "status": "completed"
    },
    "tags": []
   },
   "outputs": [],
   "source": [
    "SEED = 61\n",
    "\n",
    "\n",
    "import os\n",
    "import re\n",
    "import gc\n",
    "import h5py\n",
    "import torch\n",
    "import numpy as np\n",
    "import pandas as pd\n",
    "import tensorflow as tf\n",
    "import random as python_random\n",
    "import matplotlib.pyplot as plt\n",
    "import tensorflow_addons as tfa\n",
    "\n",
    "from tqdm import tqdm\n",
    "from nltk import tokenize\n",
    "\n",
    "from sklearn import preprocessing\n",
    "from sklearn.decomposition import PCA\n",
    "\n",
    "from keras import backend as K\n",
    "from keras import initializers,regularizers,constraints\n",
    "from keras.preprocessing.text import Tokenizer, text_to_word_sequence\n",
    "from keras.preprocessing.sequence import pad_sequences\n",
    "from keras.utils.np_utils import to_categorical\n",
    "from keras.layers import Reshape, Input, Embedding, Flatten, Dense, Dropout, BatchNormalization, Activation #, merge\n",
    "from keras.layers import TimeDistributed, LSTM, GRU, Bidirectional, Convolution1D, MaxPooling1D, MaxPooling2D\n",
    "from keras.layers.core import RepeatVector, Reshape\n",
    "from keras.callbacks import ModelCheckpoint, EarlyStopping, ReduceLROnPlateau\n",
    "from keras.models import Sequential, Model, load_model\n",
    "from sklearn.model_selection import cross_val_score\n",
    "\n",
    "def reset_seeds():\n",
    "    np.random.seed(SEED) \n",
    "    python_random.seed(SEED)\n",
    "    tf.random.set_seed(SEED)\n",
    "    os.environ[\"PYTHONHASHSEED\"] = str(SEED)\n",
    "\n",
    "# from tensorflow.python.keras.layers import Layer, InputSpec, Lambda\n",
    "# from tensorflow.keras import Model\n",
    "# from attention import Attention_input1, Attention_input2\n",
    "# from keras.optimizers import SGD, RMSprop, Adagrad"
   ]
  },
  {
   "cell_type": "code",
   "execution_count": 2,
   "id": "a40660fe",
   "metadata": {
    "execution": {
     "iopub.execute_input": "2022-06-30T18:48:04.492113Z",
     "iopub.status.busy": "2022-06-30T18:48:04.490888Z",
     "iopub.status.idle": "2022-06-30T18:48:04.498589Z",
     "shell.execute_reply": "2022-06-30T18:48:04.497712Z"
    },
    "papermill": {
     "duration": 0.017684,
     "end_time": "2022-06-30T18:48:04.500589",
     "exception": false,
     "start_time": "2022-06-30T18:48:04.482905",
     "status": "completed"
    },
    "tags": []
   },
   "outputs": [],
   "source": [
    "def read_hdf5(path):\n",
    "    read_file = h5py.File(path, 'r')\n",
    "    \n",
    "    feature_names = list(read_file.keys())\n",
    "    loaded_data = []\n",
    "    \n",
    "    for name in feature_names:\n",
    "        dataset = read_file[name][:]\n",
    "        if dataset.dtype == np.dtype('object'):\n",
    "            dataset = np.array([x.decode('UTF-8') for x in dataset])            \n",
    "        loaded_data.append((name, dataset))\n",
    "\n",
    "    return loaded_data\n",
    "\n",
    "def loadz(path):\n",
    "    data = np.load(path)['arr_0']\n",
    "    return data"
   ]
  },
  {
   "cell_type": "code",
   "execution_count": 3,
   "id": "11310d70",
   "metadata": {
    "execution": {
     "iopub.execute_input": "2022-06-30T18:48:04.516053Z",
     "iopub.status.busy": "2022-06-30T18:48:04.515801Z",
     "iopub.status.idle": "2022-06-30T18:48:04.524116Z",
     "shell.execute_reply": "2022-06-30T18:48:04.523222Z"
    },
    "papermill": {
     "duration": 0.018051,
     "end_time": "2022-06-30T18:48:04.525965",
     "exception": false,
     "start_time": "2022-06-30T18:48:04.507914",
     "status": "completed"
    },
    "tags": []
   },
   "outputs": [],
   "source": [
    "def merge_mvsa(mvsa_single, mvsa_multiple):\n",
    "    mvsa = np.concatenate((mvsa_single, mvsa_multiple), axis=0)\n",
    "    return mvsa\n",
    "\n",
    "def load_mvsa_feature(feature_name, merge=False):\n",
    "    folder_path = os.path.join('../input/mvsa-features/', feature_name)\n",
    "    single_file = 'mvsa-single-{}.npz'.format(feature_name)\n",
    "    multiple_file = 'mvsa-multiple-{}.npz'.format(feature_name)\n",
    "    mvsa_single = loadz(os.path.join(folder_path, single_file))\n",
    "    mvsa_multiple = loadz(os.path.join(folder_path, multiple_file))\n",
    "    \n",
    "    if merge == True:\n",
    "        return merge_mvsa(mvsa_single, mvsa_multiple)\n",
    "    \n",
    "    return mvsa_single, mvsa_multiple\n",
    "\n",
    "def load_labels(path):\n",
    "    data = read_hdf5(path)\n",
    "\n",
    "    for x in data:\n",
    "        if x[0] == 'multimodal-labels':\n",
    "            labels = x[1]\n",
    "        if x[0] == 'text-labels':\n",
    "            text_labels = x[1]\n",
    "        if x[0] == 'image-labels':\n",
    "            image_labels = x[1]\n",
    "        \n",
    "    return labels, text_labels, image_labels"
   ]
  },
  {
   "cell_type": "code",
   "execution_count": 4,
   "id": "97b091de",
   "metadata": {
    "execution": {
     "iopub.execute_input": "2022-06-30T18:48:04.541717Z",
     "iopub.status.busy": "2022-06-30T18:48:04.540801Z",
     "iopub.status.idle": "2022-06-30T18:48:04.550245Z",
     "shell.execute_reply": "2022-06-30T18:48:04.549413Z"
    },
    "papermill": {
     "duration": 0.019181,
     "end_time": "2022-06-30T18:48:04.552302",
     "exception": false,
     "start_time": "2022-06-30T18:48:04.533121",
     "status": "completed"
    },
    "tags": []
   },
   "outputs": [],
   "source": [
    "def plot_metrics(history):\n",
    "    fig = plt.figure(figsize=(20, 5))\n",
    "\n",
    "    fig.add_subplot(1, 3, 1)\n",
    "    plt.plot(history.history['loss'])\n",
    "    plt.plot(history.history['val_loss'])\n",
    "    plt.title('LOSS')\n",
    "    plt.ylabel('loss')\n",
    "    plt.xlabel('epoch')\n",
    "    plt.legend(['train', 'val'], loc='best')\n",
    "\n",
    "    fig.add_subplot(1, 3, 2)\n",
    "    plt.plot(history.history['accuracy'])\n",
    "    plt.plot(history.history['val_accuracy'])\n",
    "    plt.title('ACCURACY')\n",
    "    plt.ylabel('accuracy')\n",
    "    plt.xlabel('epoch')\n",
    "    plt.legend(['train', 'val'], loc='best')\n",
    "\n",
    "    fig.add_subplot(1, 3, 3)\n",
    "    plt.plot(history.history['f1_score'])\n",
    "    plt.plot(history.history['val_f1_score'])\n",
    "    plt.title('F1-SCORE')\n",
    "    plt.ylabel('f1-score')\n",
    "    plt.xlabel('epoch')\n",
    "    plt.legend(['train', 'val'], loc='best')\n",
    "\n",
    "    plt.show()"
   ]
  },
  {
   "cell_type": "code",
   "execution_count": 5,
   "id": "d5b0d427",
   "metadata": {
    "execution": {
     "iopub.execute_input": "2022-06-30T18:48:04.568646Z",
     "iopub.status.busy": "2022-06-30T18:48:04.567903Z",
     "iopub.status.idle": "2022-06-30T18:48:04.573972Z",
     "shell.execute_reply": "2022-06-30T18:48:04.573187Z"
    },
    "papermill": {
     "duration": 0.016176,
     "end_time": "2022-06-30T18:48:04.575835",
     "exception": false,
     "start_time": "2022-06-30T18:48:04.559659",
     "status": "completed"
    },
    "tags": []
   },
   "outputs": [],
   "source": [
    "# e.g. validation_split=0.1 -----> 8:1:1 ratio of train, val, test\n",
    "def split_data(data, validation_split):\n",
    "    num_val = int(validation_split * data.shape[0])\n",
    "    data_train = data[:-(num_val*2)]\n",
    "    data_val = data[-(num_val*2):-(num_val)]\n",
    "    data_test = data[-num_val:]\n",
    "    return data_train, data_val, data_test"
   ]
  },
  {
   "cell_type": "code",
   "execution_count": 6,
   "id": "d64ddfec",
   "metadata": {
    "execution": {
     "iopub.execute_input": "2022-06-30T18:48:04.591806Z",
     "iopub.status.busy": "2022-06-30T18:48:04.591533Z",
     "iopub.status.idle": "2022-06-30T18:48:04.596960Z",
     "shell.execute_reply": "2022-06-30T18:48:04.596100Z"
    },
    "papermill": {
     "duration": 0.015795,
     "end_time": "2022-06-30T18:48:04.598910",
     "exception": false,
     "start_time": "2022-06-30T18:48:04.583115",
     "status": "completed"
    },
    "tags": []
   },
   "outputs": [],
   "source": [
    "def create_model_pretrained(input_shape):\n",
    "    f1_score = tfa.metrics.F1Score(num_classes=NUM_CLASSES, average='macro')\n",
    "    \n",
    "    image_input = Input(shape=input_shape)\n",
    "    outputs = Dense(NUM_CLASSES, activation='softmax') (image_input)\n",
    "    \n",
    "    model = Model(image_input, outputs)\n",
    "    model.compile(optimizer='adam', loss='categorical_crossentropy', metrics=['accuracy', f1_score]) # f1 #tf.keras.metrics.AUC()\n",
    "    return model"
   ]
  },
  {
   "cell_type": "code",
   "execution_count": 7,
   "id": "7571e447",
   "metadata": {
    "execution": {
     "iopub.execute_input": "2022-06-30T18:48:04.615086Z",
     "iopub.status.busy": "2022-06-30T18:48:04.614466Z",
     "iopub.status.idle": "2022-06-30T18:48:04.620626Z",
     "shell.execute_reply": "2022-06-30T18:48:04.619752Z"
    },
    "papermill": {
     "duration": 0.016734,
     "end_time": "2022-06-30T18:48:04.622810",
     "exception": false,
     "start_time": "2022-06-30T18:48:04.606076",
     "status": "completed"
    },
    "tags": []
   },
   "outputs": [],
   "source": [
    "def evaluate_model(model, X_test, y_test, checkpoint=None, verbose=1):\n",
    "    if checkpoint is not None:\n",
    "        model = load_model('./model_checkpoint/{}.h5'.format(checkpoint))#, custom_objects={'f1': f1})\n",
    "    \n",
    "    loss, acc, f1 = model.evaluate(X_test, y_test, verbose=verbose)\n",
    "    \n",
    "    if verbose == 1:\n",
    "        print('Loss:', loss)\n",
    "        print('Accuracy:', acc)\n",
    "        print('F1-score:', f1)\n",
    "        \n",
    "    return loss, acc, f1"
   ]
  },
  {
   "cell_type": "code",
   "execution_count": 8,
   "id": "860b5382",
   "metadata": {
    "execution": {
     "iopub.execute_input": "2022-06-30T18:48:04.638391Z",
     "iopub.status.busy": "2022-06-30T18:48:04.638116Z",
     "iopub.status.idle": "2022-06-30T18:48:04.645964Z",
     "shell.execute_reply": "2022-06-30T18:48:04.644982Z"
    },
    "papermill": {
     "duration": 0.018243,
     "end_time": "2022-06-30T18:48:04.648011",
     "exception": false,
     "start_time": "2022-06-30T18:48:04.629768",
     "status": "completed"
    },
    "tags": []
   },
   "outputs": [],
   "source": [
    "def run_and_evaluate(name, X, y, verbose=0):\n",
    "    y = le.fit_transform(y)\n",
    "    y = to_categorical(np.asarray(y))\n",
    "    \n",
    "    X_train, X_val, X_test = split_data(X, VALIDATION_SPLIT)\n",
    "    y_train, y_val, y_test = split_data(y, VALIDATION_SPLIT)\n",
    "    \n",
    "    model = create_model_pretrained(X_train.shape[1:])\n",
    "    early_stopping = EarlyStopping(monitor='val_loss', min_delta=1e-4, patience=EARLY_STOPPING)\n",
    "    checkpoint = ModelCheckpoint('./model_checkpoint/{}.h5'.format(name), save_best_only=True, verbose=verbose)\n",
    "    \n",
    "    history = model.fit(X_train, y_train, validation_data=(X_val, y_val), \n",
    "                                   epochs=EPOCHS, batch_size=BATCH_SIZE, verbose=verbose,\n",
    "                                   callbacks=[checkpoint, early_stopping])\n",
    "    print(early_stopping.stopped_epoch)\n",
    "    return history, evaluate_model(model, X_test, y_test, checkpoint=name, verbose=verbose)"
   ]
  },
  {
   "cell_type": "code",
   "execution_count": 9,
   "id": "b81d54e1",
   "metadata": {
    "execution": {
     "iopub.execute_input": "2022-06-30T18:48:04.664528Z",
     "iopub.status.busy": "2022-06-30T18:48:04.663825Z",
     "iopub.status.idle": "2022-06-30T18:48:04.670235Z",
     "shell.execute_reply": "2022-06-30T18:48:04.669311Z"
    },
    "papermill": {
     "duration": 0.016697,
     "end_time": "2022-06-30T18:48:04.672381",
     "exception": false,
     "start_time": "2022-06-30T18:48:04.655684",
     "status": "completed"
    },
    "tags": []
   },
   "outputs": [],
   "source": [
    "def style_dataframe(dataframe):\n",
    "    return dataframe.style.highlight_max(subset=['Accuracy', 'F1-score'], props='color:darkgreen', axis=0)\\\n",
    "                          .highlight_min(subset=['Accuracy', 'F1-score'], props='color:tomato', axis=0)\\\n",
    "                          .highlight_min(subset=['Loss'], props='color:darkgreen', axis=0)\\\n",
    "                          .highlight_max(subset=['Loss'], props='color:tomato', axis=0)"
   ]
  },
  {
   "cell_type": "code",
   "execution_count": 10,
   "id": "f2399b28",
   "metadata": {
    "execution": {
     "iopub.execute_input": "2022-06-30T18:48:04.687899Z",
     "iopub.status.busy": "2022-06-30T18:48:04.687080Z",
     "iopub.status.idle": "2022-06-30T18:48:04.695178Z",
     "shell.execute_reply": "2022-06-30T18:48:04.694317Z"
    },
    "papermill": {
     "duration": 0.017884,
     "end_time": "2022-06-30T18:48:04.697077",
     "exception": false,
     "start_time": "2022-06-30T18:48:04.679193",
     "status": "completed"
    },
    "tags": []
   },
   "outputs": [],
   "source": [
    "from IPython.display import display_html\n",
    "\n",
    "def display_dataframes(dfs, names=[], index=False):\n",
    "    def to_df(x):\n",
    "        if isinstance(x, pd.Series):\n",
    "            return pd.DataFrame(x)\n",
    "        else:\n",
    "            return x\n",
    "    html_str = ''\n",
    "    if names:\n",
    "        html_str += ('<tr>' + \n",
    "                     ''.join(f'<td style=\"text-align:center\">{name}</td>' for name in names) + \n",
    "                     '</tr>')\n",
    "    html_str += ('<tr>' + \n",
    "                 ''.join(f'<td style=\"vertical-align:top\"> {to_df(df).to_html()}</td>' \n",
    "                         for df in dfs) + \n",
    "                 '</tr>')\n",
    "    html_str = f'<table>{html_str}</table>'\n",
    "    html_str = html_str.replace('table','table style=\"display:inline\"')\n",
    "    display_html(html_str, raw=True)"
   ]
  },
  {
   "cell_type": "markdown",
   "id": "cd27aa7a",
   "metadata": {
    "papermill": {
     "duration": 0.00769,
     "end_time": "2022-06-30T18:48:04.713281",
     "exception": false,
     "start_time": "2022-06-30T18:48:04.705591",
     "status": "completed"
    },
    "tags": []
   },
   "source": [
    "# Load data"
   ]
  },
  {
   "cell_type": "code",
   "execution_count": 11,
   "id": "f19b9154",
   "metadata": {
    "execution": {
     "iopub.execute_input": "2022-06-30T18:48:04.729701Z",
     "iopub.status.busy": "2022-06-30T18:48:04.729416Z",
     "iopub.status.idle": "2022-06-30T18:48:15.521560Z",
     "shell.execute_reply": "2022-06-30T18:48:15.520386Z"
    },
    "papermill": {
     "duration": 10.803329,
     "end_time": "2022-06-30T18:48:15.524373",
     "exception": false,
     "start_time": "2022-06-30T18:48:04.721044",
     "status": "completed"
    },
    "tags": []
   },
   "outputs": [],
   "source": [
    "# load separate\n",
    "mvsa_single_vgg16, mvsa_multiple_vgg16 = load_mvsa_feature('vgg16')\n",
    "mvsa_single_vgg19, mvsa_multiple_vgg19 = load_mvsa_feature('vgg19')\n",
    "mvsa_single_resnet50, mvsa_multiple_resnet50 = load_mvsa_feature('resnet50')\n",
    "mvsa_single_resnet101, mvsa_multiple_resnet101 = load_mvsa_feature('resnet101')\n",
    "mvsa_single_resnet152, mvsa_multiple_resnet152 = load_mvsa_feature('resnet152')\n",
    "mvsa_single_densenet121, mvsa_multiple_densenet121 = load_mvsa_feature('densenet121')\n",
    "mvsa_single_densenet169, mvsa_multiple_densenet169 = load_mvsa_feature('densenet169')\n",
    "mvsa_single_densenet201, mvsa_multiple_densenet201 = load_mvsa_feature('densenet201')"
   ]
  },
  {
   "cell_type": "code",
   "execution_count": 12,
   "id": "db6f92be",
   "metadata": {
    "execution": {
     "iopub.execute_input": "2022-06-30T18:48:15.541424Z",
     "iopub.status.busy": "2022-06-30T18:48:15.539761Z",
     "iopub.status.idle": "2022-06-30T18:48:18.361554Z",
     "shell.execute_reply": "2022-06-30T18:48:18.360555Z"
    },
    "papermill": {
     "duration": 2.832699,
     "end_time": "2022-06-30T18:48:18.364398",
     "exception": false,
     "start_time": "2022-06-30T18:48:15.531699",
     "status": "completed"
    },
    "tags": []
   },
   "outputs": [],
   "source": [
    "# load merge\n",
    "mvsa_vgg16 = load_mvsa_feature('vgg16', merge=True)\n",
    "mvsa_vgg19 = load_mvsa_feature('vgg19', merge=True)\n",
    "mvsa_resnet50 = load_mvsa_feature('resnet50', merge=True)\n",
    "mvsa_resnet101 = load_mvsa_feature('resnet101', merge=True)\n",
    "mvsa_resnet152 = load_mvsa_feature('resnet152', merge=True)\n",
    "mvsa_densenet121 = load_mvsa_feature('densenet121', merge=True)\n",
    "mvsa_densenet169 = load_mvsa_feature('densenet169', merge=True)\n",
    "mvsa_densenet201 = load_mvsa_feature('densenet201', merge=True)"
   ]
  },
  {
   "cell_type": "code",
   "execution_count": 13,
   "id": "7e15fc8d",
   "metadata": {
    "execution": {
     "iopub.execute_input": "2022-06-30T18:48:18.381152Z",
     "iopub.status.busy": "2022-06-30T18:48:18.380862Z",
     "iopub.status.idle": "2022-06-30T18:48:18.505699Z",
     "shell.execute_reply": "2022-06-30T18:48:18.504736Z"
    },
    "papermill": {
     "duration": 0.135907,
     "end_time": "2022-06-30T18:48:18.508006",
     "exception": false,
     "start_time": "2022-06-30T18:48:18.372099",
     "status": "completed"
    },
    "tags": []
   },
   "outputs": [],
   "source": [
    "mvsa_single_multimodal_labels, mvsa_single_text_labels, mvsa_single_image_labels = load_labels('../input/mvsa-features/labels/mvsa-single-labels.hdf5')\n",
    "mvsa_multiple_multimodal_labels, mvsa_multiple_text_labels, mvsa_multiple_image_labels = load_labels('../input/mvsa-features/labels/mvsa-multiple-labels.hdf5')\n",
    "\n",
    "mvsa_multimodal_labels = merge_mvsa(mvsa_single_multimodal_labels, mvsa_multiple_multimodal_labels)\n",
    "mvsa_text_labels = merge_mvsa(mvsa_single_text_labels, mvsa_multiple_text_labels)\n",
    "mvsa_image_labels = merge_mvsa(mvsa_single_image_labels, mvsa_multiple_image_labels)"
   ]
  },
  {
   "cell_type": "code",
   "execution_count": 14,
   "id": "2ce57174",
   "metadata": {
    "execution": {
     "iopub.execute_input": "2022-06-30T18:48:18.524107Z",
     "iopub.status.busy": "2022-06-30T18:48:18.523819Z",
     "iopub.status.idle": "2022-06-30T18:48:18.531633Z",
     "shell.execute_reply": "2022-06-30T18:48:18.530817Z"
    },
    "papermill": {
     "duration": 0.018331,
     "end_time": "2022-06-30T18:48:18.533780",
     "exception": false,
     "start_time": "2022-06-30T18:48:18.515449",
     "status": "completed"
    },
    "tags": []
   },
   "outputs": [],
   "source": [
    "le = preprocessing.LabelEncoder()\n",
    "le.fit(mvsa_multimodal_labels)\n",
    "NUM_CLASSES = len(le.classes_) # =3"
   ]
  },
  {
   "cell_type": "code",
   "execution_count": 15,
   "id": "4d3bce43",
   "metadata": {
    "execution": {
     "iopub.execute_input": "2022-06-30T18:48:18.548939Z",
     "iopub.status.busy": "2022-06-30T18:48:18.548676Z",
     "iopub.status.idle": "2022-06-30T18:48:18.555227Z",
     "shell.execute_reply": "2022-06-30T18:48:18.554244Z"
    },
    "papermill": {
     "duration": 0.016779,
     "end_time": "2022-06-30T18:48:18.557543",
     "exception": false,
     "start_time": "2022-06-30T18:48:18.540764",
     "status": "completed"
    },
    "tags": []
   },
   "outputs": [],
   "source": [
    "# prepare all features data\n",
    "pretrained_names = ['vgg16', 'vgg19', 'resnet50', 'resnet101', 'resnet152', 'densenet121', 'densenet169', 'densenet201']\n",
    "# single_pretrained_names = ['single-' + name for name in pretrained_names]\n",
    "# multiple_pretrained_names = ['multiple-' + name for name in pretrained_names]\n",
    "\n",
    "mvsa_single_features = [mvsa_single_vgg16, mvsa_single_vgg19, \n",
    "                        mvsa_single_resnet50, mvsa_single_resnet101, mvsa_single_resnet152, \n",
    "                        mvsa_single_densenet121, mvsa_single_densenet169, mvsa_single_densenet201]\n",
    "\n",
    "mvsa_multiple_features = [mvsa_multiple_vgg16, mvsa_multiple_vgg19, \n",
    "                          mvsa_multiple_resnet50, mvsa_multiple_resnet101, mvsa_multiple_resnet152, \n",
    "                          mvsa_multiple_densenet121, mvsa_multiple_densenet169, mvsa_multiple_densenet201]\n",
    "\n",
    "mvsa_features = [mvsa_vgg16, mvsa_vgg19, \n",
    "                 mvsa_resnet50, mvsa_resnet101, mvsa_resnet152, \n",
    "                 mvsa_densenet121, mvsa_densenet169, mvsa_densenet201]"
   ]
  },
  {
   "cell_type": "markdown",
   "id": "b2ce9f6b",
   "metadata": {
    "papermill": {
     "duration": 0.006958,
     "end_time": "2022-06-30T18:48:18.571611",
     "exception": false,
     "start_time": "2022-06-30T18:48:18.564653",
     "status": "completed"
    },
    "tags": []
   },
   "source": [
    "# Run models and Evalution display"
   ]
  },
  {
   "cell_type": "code",
   "execution_count": 16,
   "id": "ad163934",
   "metadata": {
    "execution": {
     "iopub.execute_input": "2022-06-30T18:48:18.587441Z",
     "iopub.status.busy": "2022-06-30T18:48:18.586986Z",
     "iopub.status.idle": "2022-06-30T18:48:18.592032Z",
     "shell.execute_reply": "2022-06-30T18:48:18.591222Z"
    },
    "papermill": {
     "duration": 0.015163,
     "end_time": "2022-06-30T18:48:18.594144",
     "exception": false,
     "start_time": "2022-06-30T18:48:18.578981",
     "status": "completed"
    },
    "tags": []
   },
   "outputs": [],
   "source": [
    "reset_seeds()\n",
    "EPOCHS = 100\n",
    "BATCH_SIZE = 128\n",
    "VALIDATION_SPLIT = 0.1\n",
    "EARLY_STOPPING = 10"
   ]
  },
  {
   "cell_type": "markdown",
   "id": "deed42dc",
   "metadata": {
    "papermill": {
     "duration": 0.006856,
     "end_time": "2022-06-30T18:48:18.607852",
     "exception": false,
     "start_time": "2022-06-30T18:48:18.600996",
     "status": "completed"
    },
    "tags": []
   },
   "source": [
    "## With original image labels"
   ]
  },
  {
   "cell_type": "code",
   "execution_count": 17,
   "id": "7cbc02c4",
   "metadata": {
    "execution": {
     "iopub.execute_input": "2022-06-30T18:48:18.623261Z",
     "iopub.status.busy": "2022-06-30T18:48:18.622984Z",
     "iopub.status.idle": "2022-06-30T18:48:54.715081Z",
     "shell.execute_reply": "2022-06-30T18:48:54.713899Z"
    },
    "papermill": {
     "duration": 36.102775,
     "end_time": "2022-06-30T18:48:54.717939",
     "exception": false,
     "start_time": "2022-06-30T18:48:18.615164",
     "status": "completed"
    },
    "tags": []
   },
   "outputs": [
    {
     "name": "stdout",
     "output_type": "stream",
     "text": [
      "With original image labels\n",
      "MVSA-Single: vgg16\n"
     ]
    },
    {
     "name": "stderr",
     "output_type": "stream",
     "text": [
      "2022-06-30 18:48:18.708406: I tensorflow/stream_executor/cuda/cuda_gpu_executor.cc:937] successful NUMA node read from SysFS had negative value (-1), but there must be at least one NUMA node, so returning NUMA node zero\n",
      "2022-06-30 18:48:18.709464: I tensorflow/stream_executor/cuda/cuda_gpu_executor.cc:937] successful NUMA node read from SysFS had negative value (-1), but there must be at least one NUMA node, so returning NUMA node zero\n",
      "2022-06-30 18:48:18.710172: I tensorflow/stream_executor/cuda/cuda_gpu_executor.cc:937] successful NUMA node read from SysFS had negative value (-1), but there must be at least one NUMA node, so returning NUMA node zero\n",
      "2022-06-30 18:48:18.711121: I tensorflow/core/platform/cpu_feature_guard.cc:142] This TensorFlow binary is optimized with oneAPI Deep Neural Network Library (oneDNN) to use the following CPU instructions in performance-critical operations:  AVX2 AVX512F FMA\n",
      "To enable them in other operations, rebuild TensorFlow with the appropriate compiler flags.\n",
      "2022-06-30 18:48:18.711449: I tensorflow/stream_executor/cuda/cuda_gpu_executor.cc:937] successful NUMA node read from SysFS had negative value (-1), but there must be at least one NUMA node, so returning NUMA node zero\n",
      "2022-06-30 18:48:18.712149: I tensorflow/stream_executor/cuda/cuda_gpu_executor.cc:937] successful NUMA node read from SysFS had negative value (-1), but there must be at least one NUMA node, so returning NUMA node zero\n",
      "2022-06-30 18:48:18.712931: I tensorflow/stream_executor/cuda/cuda_gpu_executor.cc:937] successful NUMA node read from SysFS had negative value (-1), but there must be at least one NUMA node, so returning NUMA node zero\n",
      "2022-06-30 18:48:23.369724: I tensorflow/stream_executor/cuda/cuda_gpu_executor.cc:937] successful NUMA node read from SysFS had negative value (-1), but there must be at least one NUMA node, so returning NUMA node zero\n",
      "2022-06-30 18:48:23.370850: I tensorflow/stream_executor/cuda/cuda_gpu_executor.cc:937] successful NUMA node read from SysFS had negative value (-1), but there must be at least one NUMA node, so returning NUMA node zero\n",
      "2022-06-30 18:48:23.371816: I tensorflow/stream_executor/cuda/cuda_gpu_executor.cc:937] successful NUMA node read from SysFS had negative value (-1), but there must be at least one NUMA node, so returning NUMA node zero\n",
      "2022-06-30 18:48:23.372735: I tensorflow/core/common_runtime/gpu/gpu_device.cc:1510] Created device /job:localhost/replica:0/task:0/device:GPU:0 with 15047 MB memory:  -> device: 0, name: Tesla P100-PCIE-16GB, pci bus id: 0000:00:04.0, compute capability: 6.0\n",
      "2022-06-30 18:48:24.049251: I tensorflow/compiler/mlir/mlir_graph_optimization_pass.cc:185] None of the MLIR Optimization Passes are enabled (registered 2)\n"
     ]
    },
    {
     "name": "stdout",
     "output_type": "stream",
     "text": [
      "13\n",
      "\n",
      "MVSA-Single: vgg19\n",
      "26\n",
      "\n",
      "MVSA-Single: resnet50\n",
      "24\n",
      "\n",
      "MVSA-Single: resnet101\n",
      "59\n",
      "\n",
      "MVSA-Single: resnet152\n",
      "24\n",
      "\n",
      "MVSA-Single: densenet121\n",
      "22\n",
      "\n",
      "MVSA-Single: densenet169\n",
      "16\n",
      "\n",
      "MVSA-Single: densenet201\n",
      "16\n",
      "\n"
     ]
    }
   ],
   "source": [
    "print('With original image labels')\n",
    "# run model with all features data of MVSA-Single\n",
    "mvsa_single_hitories = []\n",
    "mvsa_single_score = []\n",
    "for i in range(len(pretrained_names)):\n",
    "    print('MVSA-Single:', pretrained_names[i])\n",
    "    history, scores = run_and_evaluate('single-' + pretrained_names[i], mvsa_single_features[i], mvsa_single_image_labels, verbose=0)\n",
    "    mvsa_single_hitories.append(history)\n",
    "    mvsa_single_score.append(scores)\n",
    "    print()\n",
    "    \n",
    "df_single_scores = pd.DataFrame(mvsa_single_score, columns=['Loss', 'Accuracy', 'F1-score'], index=pretrained_names)"
   ]
  },
  {
   "cell_type": "code",
   "execution_count": 18,
   "id": "69c33df5",
   "metadata": {
    "execution": {
     "iopub.execute_input": "2022-06-30T18:48:54.736919Z",
     "iopub.status.busy": "2022-06-30T18:48:54.736290Z",
     "iopub.status.idle": "2022-06-30T18:49:52.137163Z",
     "shell.execute_reply": "2022-06-30T18:49:52.136203Z"
    },
    "papermill": {
     "duration": 57.412482,
     "end_time": "2022-06-30T18:49:52.139343",
     "exception": false,
     "start_time": "2022-06-30T18:48:54.726861",
     "status": "completed"
    },
    "tags": []
   },
   "outputs": [
    {
     "name": "stdout",
     "output_type": "stream",
     "text": [
      "With original image labels\n",
      "MVSA-Multiple: vgg16\n",
      "18\n",
      "\n",
      "MVSA-Multiple: vgg19\n",
      "11\n",
      "\n",
      "MVSA-Multiple: resnet50\n",
      "17\n",
      "\n",
      "MVSA-Multiple: resnet101\n",
      "20\n",
      "\n",
      "MVSA-Multiple: resnet152\n",
      "20\n",
      "\n",
      "MVSA-Multiple: densenet121\n",
      "18\n",
      "\n",
      "MVSA-Multiple: densenet169\n",
      "16\n",
      "\n",
      "MVSA-Multiple: densenet201\n",
      "16\n",
      "\n"
     ]
    }
   ],
   "source": [
    "print('With original image labels')\n",
    "# run model with all features data of MVSA-Multiple\n",
    "mvsa_multiple_hitories = []\n",
    "mvsa_multiple_score = []\n",
    "for i in range(len(pretrained_names)):\n",
    "    print('MVSA-Multiple:', pretrained_names[i])\n",
    "    history, scores = run_and_evaluate('multiple-' + pretrained_names[i], mvsa_multiple_features[i], mvsa_multiple_image_labels, verbose=0)\n",
    "    mvsa_multiple_hitories.append(history)\n",
    "    mvsa_multiple_score.append(scores)\n",
    "    print()\n",
    "    \n",
    "df_multiple_scores = pd.DataFrame(mvsa_multiple_score, columns=['Loss', 'Accuracy', 'F1-score'], index=pretrained_names)"
   ]
  },
  {
   "cell_type": "code",
   "execution_count": 19,
   "id": "212eb606",
   "metadata": {
    "execution": {
     "iopub.execute_input": "2022-06-30T18:49:52.159784Z",
     "iopub.status.busy": "2022-06-30T18:49:52.158979Z",
     "iopub.status.idle": "2022-06-30T18:49:52.165202Z",
     "shell.execute_reply": "2022-06-30T18:49:52.164282Z"
    },
    "papermill": {
     "duration": 0.018449,
     "end_time": "2022-06-30T18:49:52.167112",
     "exception": false,
     "start_time": "2022-06-30T18:49:52.148663",
     "status": "completed"
    },
    "tags": []
   },
   "outputs": [],
   "source": [
    "mvsa_average_scores = np.mean([mvsa_single_score, mvsa_multiple_score], axis=0)\n",
    "df_average_scores = pd.DataFrame(mvsa_average_scores, columns=['Loss', 'Accuracy', 'F1-score'], index=pretrained_names)"
   ]
  },
  {
   "cell_type": "code",
   "execution_count": 20,
   "id": "3774b88c",
   "metadata": {
    "execution": {
     "iopub.execute_input": "2022-06-30T18:49:52.187346Z",
     "iopub.status.busy": "2022-06-30T18:49:52.187030Z",
     "iopub.status.idle": "2022-06-30T18:49:52.285156Z",
     "shell.execute_reply": "2022-06-30T18:49:52.284149Z"
    },
    "papermill": {
     "duration": 0.110986,
     "end_time": "2022-06-30T18:49:52.287635",
     "exception": false,
     "start_time": "2022-06-30T18:49:52.176649",
     "status": "completed"
    },
    "tags": []
   },
   "outputs": [
    {
     "name": "stdout",
     "output_type": "stream",
     "text": [
      "With original image labels\n",
      "\n"
     ]
    },
    {
     "data": {
      "text/html": [
       "<table style=\"display:inline\"><tr><td style=\"text-align:center\">MVSA-Single</td><td style=\"text-align:center\">MVSA-Multiple</td><td style=\"text-align:center\">Average</td></tr><tr><td style=\"vertical-align:top\"> <style type=\"text/css\">\n",
       "#T_f1b8a_row1_col0, #T_f1b8a_row5_col1, #T_f1b8a_row5_col2 {\n",
       "  color: darkgreen;\n",
       "}\n",
       "#T_f1b8a_row4_col0, #T_f1b8a_row4_col1, #T_f1b8a_row4_col2 {\n",
       "  color: tomato;\n",
       "}\n",
       "</style>\n",
       "<table style=\"display:inline\" id=\"T_f1b8a_\">\n",
       "  <thead>\n",
       "    <tr>\n",
       "      <th class=\"blank level0\" >&nbsp;</th>\n",
       "      <th class=\"col_heading level0 col0\" >Loss</th>\n",
       "      <th class=\"col_heading level0 col1\" >Accuracy</th>\n",
       "      <th class=\"col_heading level0 col2\" >F1-score</th>\n",
       "    </tr>\n",
       "  </thead>\n",
       "  <tbody>\n",
       "    <tr>\n",
       "      <th id=\"T_f1b8a_level0_row0\" class=\"row_heading level0 row0\" >vgg16</th>\n",
       "      <td id=\"T_f1b8a_row0_col0\" class=\"data row0 col0\" >0.865558</td>\n",
       "      <td id=\"T_f1b8a_row0_col1\" class=\"data row0 col1\" >0.577726</td>\n",
       "      <td id=\"T_f1b8a_row0_col2\" class=\"data row0 col2\" >0.507918</td>\n",
       "    </tr>\n",
       "    <tr>\n",
       "      <th id=\"T_f1b8a_level0_row1\" class=\"row_heading level0 row1\" >vgg19</th>\n",
       "      <td id=\"T_f1b8a_row1_col0\" class=\"data row1 col0\" >0.859385</td>\n",
       "      <td id=\"T_f1b8a_row1_col1\" class=\"data row1 col1\" >0.580046</td>\n",
       "      <td id=\"T_f1b8a_row1_col2\" class=\"data row1 col2\" >0.506684</td>\n",
       "    </tr>\n",
       "    <tr>\n",
       "      <th id=\"T_f1b8a_level0_row2\" class=\"row_heading level0 row2\" >resnet50</th>\n",
       "      <td id=\"T_f1b8a_row2_col0\" class=\"data row2 col0\" >0.930690</td>\n",
       "      <td id=\"T_f1b8a_row2_col1\" class=\"data row2 col1\" >0.580046</td>\n",
       "      <td id=\"T_f1b8a_row2_col2\" class=\"data row2 col2\" >0.357222</td>\n",
       "    </tr>\n",
       "    <tr>\n",
       "      <th id=\"T_f1b8a_level0_row3\" class=\"row_heading level0 row3\" >resnet101</th>\n",
       "      <td id=\"T_f1b8a_row3_col0\" class=\"data row3 col0\" >0.927502</td>\n",
       "      <td id=\"T_f1b8a_row3_col1\" class=\"data row3 col1\" >0.577726</td>\n",
       "      <td id=\"T_f1b8a_row3_col2\" class=\"data row3 col2\" >0.359888</td>\n",
       "    </tr>\n",
       "    <tr>\n",
       "      <th id=\"T_f1b8a_level0_row4\" class=\"row_heading level0 row4\" >resnet152</th>\n",
       "      <td id=\"T_f1b8a_row4_col0\" class=\"data row4 col0\" >0.958335</td>\n",
       "      <td id=\"T_f1b8a_row4_col1\" class=\"data row4 col1\" >0.561485</td>\n",
       "      <td id=\"T_f1b8a_row4_col2\" class=\"data row4 col2\" >0.306116</td>\n",
       "    </tr>\n",
       "    <tr>\n",
       "      <th id=\"T_f1b8a_level0_row5\" class=\"row_heading level0 row5\" >densenet121</th>\n",
       "      <td id=\"T_f1b8a_row5_col0\" class=\"data row5 col0\" >0.907156</td>\n",
       "      <td id=\"T_f1b8a_row5_col1\" class=\"data row5 col1\" >0.605568</td>\n",
       "      <td id=\"T_f1b8a_row5_col2\" class=\"data row5 col2\" >0.534249</td>\n",
       "    </tr>\n",
       "    <tr>\n",
       "      <th id=\"T_f1b8a_level0_row6\" class=\"row_heading level0 row6\" >densenet169</th>\n",
       "      <td id=\"T_f1b8a_row6_col0\" class=\"data row6 col0\" >0.928015</td>\n",
       "      <td id=\"T_f1b8a_row6_col1\" class=\"data row6 col1\" >0.577726</td>\n",
       "      <td id=\"T_f1b8a_row6_col2\" class=\"data row6 col2\" >0.525611</td>\n",
       "    </tr>\n",
       "    <tr>\n",
       "      <th id=\"T_f1b8a_level0_row7\" class=\"row_heading level0 row7\" >densenet201</th>\n",
       "      <td id=\"T_f1b8a_row7_col0\" class=\"data row7 col0\" >0.864275</td>\n",
       "      <td id=\"T_f1b8a_row7_col1\" class=\"data row7 col1\" >0.596288</td>\n",
       "      <td id=\"T_f1b8a_row7_col2\" class=\"data row7 col2\" >0.532402</td>\n",
       "    </tr>\n",
       "  </tbody>\n",
       "</table style=\"display:inline\">\n",
       "</td><td style=\"vertical-align:top\"> <style type=\"text/css\">\n",
       "#T_cae90_row0_col0, #T_cae90_row3_col1, #T_cae90_row3_col2 {\n",
       "  color: tomato;\n",
       "}\n",
       "#T_cae90_row6_col0, #T_cae90_row7_col1, #T_cae90_row7_col2 {\n",
       "  color: darkgreen;\n",
       "}\n",
       "</style>\n",
       "<table style=\"display:inline\" id=\"T_cae90_\">\n",
       "  <thead>\n",
       "    <tr>\n",
       "      <th class=\"blank level0\" >&nbsp;</th>\n",
       "      <th class=\"col_heading level0 col0\" >Loss</th>\n",
       "      <th class=\"col_heading level0 col1\" >Accuracy</th>\n",
       "      <th class=\"col_heading level0 col2\" >F1-score</th>\n",
       "    </tr>\n",
       "  </thead>\n",
       "  <tbody>\n",
       "    <tr>\n",
       "      <th id=\"T_cae90_level0_row0\" class=\"row_heading level0 row0\" >vgg16</th>\n",
       "      <td id=\"T_cae90_row0_col0\" class=\"data row0 col0\" >0.924527</td>\n",
       "      <td id=\"T_cae90_row0_col1\" class=\"data row0 col1\" >0.548230</td>\n",
       "      <td id=\"T_cae90_row0_col2\" class=\"data row0 col2\" >0.341859</td>\n",
       "    </tr>\n",
       "    <tr>\n",
       "      <th id=\"T_cae90_level0_row1\" class=\"row_heading level0 row1\" >vgg19</th>\n",
       "      <td id=\"T_cae90_row1_col0\" class=\"data row1 col0\" >0.913936</td>\n",
       "      <td id=\"T_cae90_row1_col1\" class=\"data row1 col1\" >0.571429</td>\n",
       "      <td id=\"T_cae90_row1_col2\" class=\"data row1 col2\" >0.342045</td>\n",
       "    </tr>\n",
       "    <tr>\n",
       "      <th id=\"T_cae90_level0_row2\" class=\"row_heading level0 row2\" >resnet50</th>\n",
       "      <td id=\"T_cae90_row2_col0\" class=\"data row2 col0\" >0.911810</td>\n",
       "      <td id=\"T_cae90_row2_col1\" class=\"data row2 col1\" >0.554945</td>\n",
       "      <td id=\"T_cae90_row2_col2\" class=\"data row2 col2\" >0.295329</td>\n",
       "    </tr>\n",
       "    <tr>\n",
       "      <th id=\"T_cae90_level0_row3\" class=\"row_heading level0 row3\" >resnet101</th>\n",
       "      <td id=\"T_cae90_row3_col0\" class=\"data row3 col0\" >0.923054</td>\n",
       "      <td id=\"T_cae90_row3_col1\" class=\"data row3 col1\" >0.547009</td>\n",
       "      <td id=\"T_cae90_row3_col2\" class=\"data row3 col2\" >0.275689</td>\n",
       "    </tr>\n",
       "    <tr>\n",
       "      <th id=\"T_cae90_level0_row4\" class=\"row_heading level0 row4\" >resnet152</th>\n",
       "      <td id=\"T_cae90_row4_col0\" class=\"data row4 col0\" >0.919318</td>\n",
       "      <td id=\"T_cae90_row4_col1\" class=\"data row4 col1\" >0.550672</td>\n",
       "      <td id=\"T_cae90_row4_col2\" class=\"data row4 col2\" >0.277057</td>\n",
       "    </tr>\n",
       "    <tr>\n",
       "      <th id=\"T_cae90_level0_row5\" class=\"row_heading level0 row5\" >densenet121</th>\n",
       "      <td id=\"T_cae90_row5_col0\" class=\"data row5 col0\" >0.894839</td>\n",
       "      <td id=\"T_cae90_row5_col1\" class=\"data row5 col1\" >0.564103</td>\n",
       "      <td id=\"T_cae90_row5_col2\" class=\"data row5 col2\" >0.389833</td>\n",
       "    </tr>\n",
       "    <tr>\n",
       "      <th id=\"T_cae90_level0_row6\" class=\"row_heading level0 row6\" >densenet169</th>\n",
       "      <td id=\"T_cae90_row6_col0\" class=\"data row6 col0\" >0.889975</td>\n",
       "      <td id=\"T_cae90_row6_col1\" class=\"data row6 col1\" >0.567766</td>\n",
       "      <td id=\"T_cae90_row6_col2\" class=\"data row6 col2\" >0.382899</td>\n",
       "    </tr>\n",
       "    <tr>\n",
       "      <th id=\"T_cae90_level0_row7\" class=\"row_heading level0 row7\" >densenet201</th>\n",
       "      <td id=\"T_cae90_row7_col0\" class=\"data row7 col0\" >0.897645</td>\n",
       "      <td id=\"T_cae90_row7_col1\" class=\"data row7 col1\" >0.581197</td>\n",
       "      <td id=\"T_cae90_row7_col2\" class=\"data row7 col2\" >0.394521</td>\n",
       "    </tr>\n",
       "  </tbody>\n",
       "</table style=\"display:inline\">\n",
       "</td><td style=\"vertical-align:top\"> <style type=\"text/css\">\n",
       "#T_11bba_row4_col0, #T_11bba_row4_col1, #T_11bba_row4_col2 {\n",
       "  color: tomato;\n",
       "}\n",
       "#T_11bba_row7_col0, #T_11bba_row7_col1, #T_11bba_row7_col2 {\n",
       "  color: darkgreen;\n",
       "}\n",
       "</style>\n",
       "<table style=\"display:inline\" id=\"T_11bba_\">\n",
       "  <thead>\n",
       "    <tr>\n",
       "      <th class=\"blank level0\" >&nbsp;</th>\n",
       "      <th class=\"col_heading level0 col0\" >Loss</th>\n",
       "      <th class=\"col_heading level0 col1\" >Accuracy</th>\n",
       "      <th class=\"col_heading level0 col2\" >F1-score</th>\n",
       "    </tr>\n",
       "  </thead>\n",
       "  <tbody>\n",
       "    <tr>\n",
       "      <th id=\"T_11bba_level0_row0\" class=\"row_heading level0 row0\" >vgg16</th>\n",
       "      <td id=\"T_11bba_row0_col0\" class=\"data row0 col0\" >0.895043</td>\n",
       "      <td id=\"T_11bba_row0_col1\" class=\"data row0 col1\" >0.562978</td>\n",
       "      <td id=\"T_11bba_row0_col2\" class=\"data row0 col2\" >0.424888</td>\n",
       "    </tr>\n",
       "    <tr>\n",
       "      <th id=\"T_11bba_level0_row1\" class=\"row_heading level0 row1\" >vgg19</th>\n",
       "      <td id=\"T_11bba_row1_col0\" class=\"data row1 col0\" >0.886660</td>\n",
       "      <td id=\"T_11bba_row1_col1\" class=\"data row1 col1\" >0.575738</td>\n",
       "      <td id=\"T_11bba_row1_col2\" class=\"data row1 col2\" >0.424364</td>\n",
       "    </tr>\n",
       "    <tr>\n",
       "      <th id=\"T_11bba_level0_row2\" class=\"row_heading level0 row2\" >resnet50</th>\n",
       "      <td id=\"T_11bba_row2_col0\" class=\"data row2 col0\" >0.921250</td>\n",
       "      <td id=\"T_11bba_row2_col1\" class=\"data row2 col1\" >0.567496</td>\n",
       "      <td id=\"T_11bba_row2_col2\" class=\"data row2 col2\" >0.326275</td>\n",
       "    </tr>\n",
       "    <tr>\n",
       "      <th id=\"T_11bba_level0_row3\" class=\"row_heading level0 row3\" >resnet101</th>\n",
       "      <td id=\"T_11bba_row3_col0\" class=\"data row3 col0\" >0.925278</td>\n",
       "      <td id=\"T_11bba_row3_col1\" class=\"data row3 col1\" >0.562367</td>\n",
       "      <td id=\"T_11bba_row3_col2\" class=\"data row3 col2\" >0.317788</td>\n",
       "    </tr>\n",
       "    <tr>\n",
       "      <th id=\"T_11bba_level0_row4\" class=\"row_heading level0 row4\" >resnet152</th>\n",
       "      <td id=\"T_11bba_row4_col0\" class=\"data row4 col0\" >0.938826</td>\n",
       "      <td id=\"T_11bba_row4_col1\" class=\"data row4 col1\" >0.556078</td>\n",
       "      <td id=\"T_11bba_row4_col2\" class=\"data row4 col2\" >0.291586</td>\n",
       "    </tr>\n",
       "    <tr>\n",
       "      <th id=\"T_11bba_level0_row5\" class=\"row_heading level0 row5\" >densenet121</th>\n",
       "      <td id=\"T_11bba_row5_col0\" class=\"data row5 col0\" >0.900998</td>\n",
       "      <td id=\"T_11bba_row5_col1\" class=\"data row5 col1\" >0.584836</td>\n",
       "      <td id=\"T_11bba_row5_col2\" class=\"data row5 col2\" >0.462041</td>\n",
       "    </tr>\n",
       "    <tr>\n",
       "      <th id=\"T_11bba_level0_row6\" class=\"row_heading level0 row6\" >densenet169</th>\n",
       "      <td id=\"T_11bba_row6_col0\" class=\"data row6 col0\" >0.908995</td>\n",
       "      <td id=\"T_11bba_row6_col1\" class=\"data row6 col1\" >0.572746</td>\n",
       "      <td id=\"T_11bba_row6_col2\" class=\"data row6 col2\" >0.454255</td>\n",
       "    </tr>\n",
       "    <tr>\n",
       "      <th id=\"T_11bba_level0_row7\" class=\"row_heading level0 row7\" >densenet201</th>\n",
       "      <td id=\"T_11bba_row7_col0\" class=\"data row7 col0\" >0.880960</td>\n",
       "      <td id=\"T_11bba_row7_col1\" class=\"data row7 col1\" >0.588742</td>\n",
       "      <td id=\"T_11bba_row7_col2\" class=\"data row7 col2\" >0.463461</td>\n",
       "    </tr>\n",
       "  </tbody>\n",
       "</table style=\"display:inline\">\n",
       "</td></tr></table style=\"display:inline\">"
      ]
     },
     "metadata": {},
     "output_type": "display_data"
    }
   ],
   "source": [
    "print('With original image labels\\n')\n",
    "display_dataframes((style_dataframe(df_single_scores), style_dataframe(df_multiple_scores), style_dataframe(df_average_scores)), \n",
    "                   names=['MVSA-Single', 'MVSA-Multiple', 'Average'])"
   ]
  },
  {
   "cell_type": "markdown",
   "id": "82cfd788",
   "metadata": {
    "papermill": {
     "duration": 0.009264,
     "end_time": "2022-06-30T18:49:52.306959",
     "exception": false,
     "start_time": "2022-06-30T18:49:52.297695",
     "status": "completed"
    },
    "tags": []
   },
   "source": [
    "## With multimodal labels"
   ]
  },
  {
   "cell_type": "code",
   "execution_count": 21,
   "id": "3bb37663",
   "metadata": {
    "execution": {
     "iopub.execute_input": "2022-06-30T18:49:52.327302Z",
     "iopub.status.busy": "2022-06-30T18:49:52.326962Z",
     "iopub.status.idle": "2022-06-30T18:50:20.307651Z",
     "shell.execute_reply": "2022-06-30T18:50:20.306445Z"
    },
    "papermill": {
     "duration": 27.993877,
     "end_time": "2022-06-30T18:50:20.310391",
     "exception": false,
     "start_time": "2022-06-30T18:49:52.316514",
     "status": "completed"
    },
    "tags": []
   },
   "outputs": [
    {
     "name": "stdout",
     "output_type": "stream",
     "text": [
      "With multimodal labels\n",
      "MVSA-Single: vgg16\n",
      "16\n",
      "\n",
      "MVSA-Single: vgg19\n",
      "13\n",
      "\n",
      "MVSA-Single: resnet50\n",
      "22\n",
      "\n",
      "MVSA-Single: resnet101\n",
      "22\n",
      "\n",
      "MVSA-Single: resnet152\n",
      "28\n",
      "\n",
      "MVSA-Single: densenet121\n",
      "22\n",
      "\n",
      "MVSA-Single: densenet169\n",
      "12\n",
      "\n",
      "MVSA-Single: densenet201\n",
      "14\n",
      "\n"
     ]
    }
   ],
   "source": [
    "print('With multimodal labels')\n",
    "\n",
    "# run model with all features data of MVSA-Single\n",
    "mvsa_single_hitories2 = []\n",
    "mvsa_single_score2 = []\n",
    "for i in range(len(pretrained_names)):\n",
    "    print('MVSA-Single:', pretrained_names[i])\n",
    "    history, scores = run_and_evaluate('single-' + pretrained_names[i], mvsa_single_features[i], mvsa_single_multimodal_labels, verbose=0)\n",
    "    mvsa_single_hitories2.append(history)\n",
    "    mvsa_single_score2.append(scores)\n",
    "    print()\n",
    "    \n",
    "df_single_scores2 = pd.DataFrame(mvsa_single_score2, columns=['Loss', 'Accuracy', 'F1-score'], index=pretrained_names)"
   ]
  },
  {
   "cell_type": "code",
   "execution_count": 22,
   "id": "71597b51",
   "metadata": {
    "execution": {
     "iopub.execute_input": "2022-06-30T18:50:20.335122Z",
     "iopub.status.busy": "2022-06-30T18:50:20.334433Z",
     "iopub.status.idle": "2022-06-30T18:51:27.175410Z",
     "shell.execute_reply": "2022-06-30T18:51:27.174202Z"
    },
    "papermill": {
     "duration": 66.85512,
     "end_time": "2022-06-30T18:51:27.178006",
     "exception": false,
     "start_time": "2022-06-30T18:50:20.322886",
     "status": "completed"
    },
    "tags": []
   },
   "outputs": [
    {
     "name": "stdout",
     "output_type": "stream",
     "text": [
      "With multimodal labels\n",
      "MVSA-Multiple: vgg16\n",
      "18\n",
      "\n",
      "MVSA-Multiple: vgg19\n",
      "18\n",
      "\n",
      "MVSA-Multiple: resnet50\n",
      "18\n",
      "\n",
      "MVSA-Multiple: resnet101\n",
      "20\n",
      "\n",
      "MVSA-Multiple: resnet152\n",
      "20\n",
      "\n",
      "MVSA-Multiple: densenet121\n",
      "16\n",
      "\n",
      "MVSA-Multiple: densenet169\n",
      "16\n",
      "\n",
      "MVSA-Multiple: densenet201\n",
      "13\n",
      "\n"
     ]
    }
   ],
   "source": [
    "print('With multimodal labels')\n",
    "# run model with all features data of MVSA-Multiple\n",
    "mvsa_multiple_hitories2 = []\n",
    "mvsa_multiple_score2 = []\n",
    "for i in range(len(pretrained_names)):\n",
    "    print('MVSA-Multiple:', pretrained_names[i])\n",
    "    history, scores = run_and_evaluate('multiple-' + pretrained_names[i], mvsa_multiple_features[i], mvsa_multiple_multimodal_labels, verbose=0)\n",
    "    mvsa_multiple_hitories2.append(history)\n",
    "    mvsa_multiple_score2.append(scores)\n",
    "    print()\n",
    "    \n",
    "df_multiple_scores2 = pd.DataFrame(mvsa_multiple_score2, columns=['Loss', 'Accuracy', 'F1-score'], index=pretrained_names)"
   ]
  },
  {
   "cell_type": "code",
   "execution_count": 23,
   "id": "8d55693b",
   "metadata": {
    "execution": {
     "iopub.execute_input": "2022-06-30T18:51:27.203290Z",
     "iopub.status.busy": "2022-06-30T18:51:27.202668Z",
     "iopub.status.idle": "2022-06-30T18:51:27.209492Z",
     "shell.execute_reply": "2022-06-30T18:51:27.208321Z"
    },
    "papermill": {
     "duration": 0.021646,
     "end_time": "2022-06-30T18:51:27.211799",
     "exception": false,
     "start_time": "2022-06-30T18:51:27.190153",
     "status": "completed"
    },
    "tags": []
   },
   "outputs": [],
   "source": [
    "mvsa_average_scores2 = np.mean([mvsa_single_score2, mvsa_multiple_score2], axis=0)\n",
    "df_average_scores2 = pd.DataFrame(mvsa_average_scores2, columns=['Loss', 'Accuracy', 'F1-score'], index=pretrained_names)"
   ]
  },
  {
   "cell_type": "code",
   "execution_count": 24,
   "id": "9558afd9",
   "metadata": {
    "execution": {
     "iopub.execute_input": "2022-06-30T18:51:27.254046Z",
     "iopub.status.busy": "2022-06-30T18:51:27.253743Z",
     "iopub.status.idle": "2022-06-30T18:51:27.344671Z",
     "shell.execute_reply": "2022-06-30T18:51:27.343355Z"
    },
    "papermill": {
     "duration": 0.11836,
     "end_time": "2022-06-30T18:51:27.347750",
     "exception": false,
     "start_time": "2022-06-30T18:51:27.229390",
     "status": "completed"
    },
    "tags": []
   },
   "outputs": [
    {
     "name": "stdout",
     "output_type": "stream",
     "text": [
      "With multimodal labels\n",
      "\n"
     ]
    },
    {
     "data": {
      "text/html": [
       "<table style=\"display:inline\"><tr><td style=\"text-align:center\">MVSA-Single</td><td style=\"text-align:center\">MVSA-Multiple</td><td style=\"text-align:center\">Average</td></tr><tr><td style=\"vertical-align:top\"> <style type=\"text/css\">\n",
       "#T_11176_row0_col1, #T_11176_row1_col0, #T_11176_row5_col2 {\n",
       "  color: darkgreen;\n",
       "}\n",
       "#T_11176_row4_col2, #T_11176_row6_col0, #T_11176_row7_col1 {\n",
       "  color: tomato;\n",
       "}\n",
       "</style>\n",
       "<table style=\"display:inline\" id=\"T_11176_\">\n",
       "  <thead>\n",
       "    <tr>\n",
       "      <th class=\"blank level0\" >&nbsp;</th>\n",
       "      <th class=\"col_heading level0 col0\" >Loss</th>\n",
       "      <th class=\"col_heading level0 col1\" >Accuracy</th>\n",
       "      <th class=\"col_heading level0 col2\" >F1-score</th>\n",
       "    </tr>\n",
       "  </thead>\n",
       "  <tbody>\n",
       "    <tr>\n",
       "      <th id=\"T_11176_level0_row0\" class=\"row_heading level0 row0\" >vgg16</th>\n",
       "      <td id=\"T_11176_row0_col0\" class=\"data row0 col0\" >0.760666</td>\n",
       "      <td id=\"T_11176_row0_col1\" class=\"data row0 col1\" >0.628770</td>\n",
       "      <td id=\"T_11176_row0_col2\" class=\"data row0 col2\" >0.359501</td>\n",
       "    </tr>\n",
       "    <tr>\n",
       "      <th id=\"T_11176_level0_row1\" class=\"row_heading level0 row1\" >vgg19</th>\n",
       "      <td id=\"T_11176_row1_col0\" class=\"data row1 col0\" >0.757656</td>\n",
       "      <td id=\"T_11176_row1_col1\" class=\"data row1 col1\" >0.617169</td>\n",
       "      <td id=\"T_11176_row1_col2\" class=\"data row1 col2\" >0.363505</td>\n",
       "    </tr>\n",
       "    <tr>\n",
       "      <th id=\"T_11176_level0_row2\" class=\"row_heading level0 row2\" >resnet50</th>\n",
       "      <td id=\"T_11176_row2_col0\" class=\"data row2 col0\" >0.796381</td>\n",
       "      <td id=\"T_11176_row2_col1\" class=\"data row2 col1\" >0.610209</td>\n",
       "      <td id=\"T_11176_row2_col2\" class=\"data row2 col2\" >0.265377</td>\n",
       "    </tr>\n",
       "    <tr>\n",
       "      <th id=\"T_11176_level0_row3\" class=\"row_heading level0 row3\" >resnet101</th>\n",
       "      <td id=\"T_11176_row3_col0\" class=\"data row3 col0\" >0.803058</td>\n",
       "      <td id=\"T_11176_row3_col1\" class=\"data row3 col1\" >0.612529</td>\n",
       "      <td id=\"T_11176_row3_col2\" class=\"data row3 col2\" >0.265698</td>\n",
       "    </tr>\n",
       "    <tr>\n",
       "      <th id=\"T_11176_level0_row4\" class=\"row_heading level0 row4\" >resnet152</th>\n",
       "      <td id=\"T_11176_row4_col0\" class=\"data row4 col0\" >0.817103</td>\n",
       "      <td id=\"T_11176_row4_col1\" class=\"data row4 col1\" >0.603248</td>\n",
       "      <td id=\"T_11176_row4_col2\" class=\"data row4 col2\" >0.255413</td>\n",
       "    </tr>\n",
       "    <tr>\n",
       "      <th id=\"T_11176_level0_row5\" class=\"row_heading level0 row5\" >densenet121</th>\n",
       "      <td id=\"T_11176_row5_col0\" class=\"data row5 col0\" >0.835543</td>\n",
       "      <td id=\"T_11176_row5_col1\" class=\"data row5 col1\" >0.591647</td>\n",
       "      <td id=\"T_11176_row5_col2\" class=\"data row5 col2\" >0.403237</td>\n",
       "    </tr>\n",
       "    <tr>\n",
       "      <th id=\"T_11176_level0_row6\" class=\"row_heading level0 row6\" >densenet169</th>\n",
       "      <td id=\"T_11176_row6_col0\" class=\"data row6 col0\" >0.840911</td>\n",
       "      <td id=\"T_11176_row6_col1\" class=\"data row6 col1\" >0.598608</td>\n",
       "      <td id=\"T_11176_row6_col2\" class=\"data row6 col2\" >0.381247</td>\n",
       "    </tr>\n",
       "    <tr>\n",
       "      <th id=\"T_11176_level0_row7\" class=\"row_heading level0 row7\" >densenet201</th>\n",
       "      <td id=\"T_11176_row7_col0\" class=\"data row7 col0\" >0.831024</td>\n",
       "      <td id=\"T_11176_row7_col1\" class=\"data row7 col1\" >0.587007</td>\n",
       "      <td id=\"T_11176_row7_col2\" class=\"data row7 col2\" >0.373235</td>\n",
       "    </tr>\n",
       "  </tbody>\n",
       "</table style=\"display:inline\">\n",
       "</td><td style=\"vertical-align:top\"> <style type=\"text/css\">\n",
       "#T_b0941_row1_col1, #T_b0941_row5_col2, #T_b0941_row7_col0 {\n",
       "  color: darkgreen;\n",
       "}\n",
       "#T_b0941_row3_col2, #T_b0941_row4_col0, #T_b0941_row4_col2, #T_b0941_row6_col1 {\n",
       "  color: tomato;\n",
       "}\n",
       "</style>\n",
       "<table style=\"display:inline\" id=\"T_b0941_\">\n",
       "  <thead>\n",
       "    <tr>\n",
       "      <th class=\"blank level0\" >&nbsp;</th>\n",
       "      <th class=\"col_heading level0 col0\" >Loss</th>\n",
       "      <th class=\"col_heading level0 col1\" >Accuracy</th>\n",
       "      <th class=\"col_heading level0 col2\" >F1-score</th>\n",
       "    </tr>\n",
       "  </thead>\n",
       "  <tbody>\n",
       "    <tr>\n",
       "      <th id=\"T_b0941_level0_row0\" class=\"row_heading level0 row0\" >vgg16</th>\n",
       "      <td id=\"T_b0941_row0_col0\" class=\"data row0 col0\" >0.891924</td>\n",
       "      <td id=\"T_b0941_row0_col1\" class=\"data row0 col1\" >0.638584</td>\n",
       "      <td id=\"T_b0941_row0_col2\" class=\"data row0 col2\" >0.266500</td>\n",
       "    </tr>\n",
       "    <tr>\n",
       "      <th id=\"T_b0941_level0_row1\" class=\"row_heading level0 row1\" >vgg19</th>\n",
       "      <td id=\"T_b0941_row1_col0\" class=\"data row1 col0\" >0.901875</td>\n",
       "      <td id=\"T_b0941_row1_col1\" class=\"data row1 col1\" >0.645910</td>\n",
       "      <td id=\"T_b0941_row1_col2\" class=\"data row1 col2\" >0.282057</td>\n",
       "    </tr>\n",
       "    <tr>\n",
       "      <th id=\"T_b0941_level0_row2\" class=\"row_heading level0 row2\" >resnet50</th>\n",
       "      <td id=\"T_b0941_row2_col0\" class=\"data row2 col0\" >0.903102</td>\n",
       "      <td id=\"T_b0941_row2_col1\" class=\"data row2 col1\" >0.639805</td>\n",
       "      <td id=\"T_b0941_row2_col2\" class=\"data row2 col2\" >0.263347</td>\n",
       "    </tr>\n",
       "    <tr>\n",
       "      <th id=\"T_b0941_level0_row3\" class=\"row_heading level0 row3\" >resnet101</th>\n",
       "      <td id=\"T_b0941_row3_col0\" class=\"data row3 col0\" >0.905602</td>\n",
       "      <td id=\"T_b0941_row3_col1\" class=\"data row3 col1\" >0.639805</td>\n",
       "      <td id=\"T_b0941_row3_col2\" class=\"data row3 col2\" >0.260114</td>\n",
       "    </tr>\n",
       "    <tr>\n",
       "      <th id=\"T_b0941_level0_row4\" class=\"row_heading level0 row4\" >resnet152</th>\n",
       "      <td id=\"T_b0941_row4_col0\" class=\"data row4 col0\" >0.905639</td>\n",
       "      <td id=\"T_b0941_row4_col1\" class=\"data row4 col1\" >0.639805</td>\n",
       "      <td id=\"T_b0941_row4_col2\" class=\"data row4 col2\" >0.260114</td>\n",
       "    </tr>\n",
       "    <tr>\n",
       "      <th id=\"T_b0941_level0_row5\" class=\"row_heading level0 row5\" >densenet121</th>\n",
       "      <td id=\"T_b0941_row5_col0\" class=\"data row5 col0\" >0.891714</td>\n",
       "      <td id=\"T_b0941_row5_col1\" class=\"data row5 col1\" >0.630647</td>\n",
       "      <td id=\"T_b0941_row5_col2\" class=\"data row5 col2\" >0.344975</td>\n",
       "    </tr>\n",
       "    <tr>\n",
       "      <th id=\"T_b0941_level0_row6\" class=\"row_heading level0 row6\" >densenet169</th>\n",
       "      <td id=\"T_b0941_row6_col0\" class=\"data row6 col0\" >0.877630</td>\n",
       "      <td id=\"T_b0941_row6_col1\" class=\"data row6 col1\" >0.626374</td>\n",
       "      <td id=\"T_b0941_row6_col2\" class=\"data row6 col2\" >0.328102</td>\n",
       "    </tr>\n",
       "    <tr>\n",
       "      <th id=\"T_b0941_level0_row7\" class=\"row_heading level0 row7\" >densenet201</th>\n",
       "      <td id=\"T_b0941_row7_col0\" class=\"data row7 col0\" >0.866111</td>\n",
       "      <td id=\"T_b0941_row7_col1\" class=\"data row7 col1\" >0.634310</td>\n",
       "      <td id=\"T_b0941_row7_col2\" class=\"data row7 col2\" >0.337450</td>\n",
       "    </tr>\n",
       "  </tbody>\n",
       "</table style=\"display:inline\">\n",
       "</td><td style=\"vertical-align:top\"> <style type=\"text/css\">\n",
       "#T_833f7_row0_col0, #T_833f7_row0_col1, #T_833f7_row5_col2 {\n",
       "  color: darkgreen;\n",
       "}\n",
       "#T_833f7_row4_col2, #T_833f7_row5_col0, #T_833f7_row7_col1 {\n",
       "  color: tomato;\n",
       "}\n",
       "</style>\n",
       "<table style=\"display:inline\" id=\"T_833f7_\">\n",
       "  <thead>\n",
       "    <tr>\n",
       "      <th class=\"blank level0\" >&nbsp;</th>\n",
       "      <th class=\"col_heading level0 col0\" >Loss</th>\n",
       "      <th class=\"col_heading level0 col1\" >Accuracy</th>\n",
       "      <th class=\"col_heading level0 col2\" >F1-score</th>\n",
       "    </tr>\n",
       "  </thead>\n",
       "  <tbody>\n",
       "    <tr>\n",
       "      <th id=\"T_833f7_level0_row0\" class=\"row_heading level0 row0\" >vgg16</th>\n",
       "      <td id=\"T_833f7_row0_col0\" class=\"data row0 col0\" >0.826295</td>\n",
       "      <td id=\"T_833f7_row0_col1\" class=\"data row0 col1\" >0.633677</td>\n",
       "      <td id=\"T_833f7_row0_col2\" class=\"data row0 col2\" >0.313000</td>\n",
       "    </tr>\n",
       "    <tr>\n",
       "      <th id=\"T_833f7_level0_row1\" class=\"row_heading level0 row1\" >vgg19</th>\n",
       "      <td id=\"T_833f7_row1_col0\" class=\"data row1 col0\" >0.829766</td>\n",
       "      <td id=\"T_833f7_row1_col1\" class=\"data row1 col1\" >0.631540</td>\n",
       "      <td id=\"T_833f7_row1_col2\" class=\"data row1 col2\" >0.322781</td>\n",
       "    </tr>\n",
       "    <tr>\n",
       "      <th id=\"T_833f7_level0_row2\" class=\"row_heading level0 row2\" >resnet50</th>\n",
       "      <td id=\"T_833f7_row2_col0\" class=\"data row2 col0\" >0.849742</td>\n",
       "      <td id=\"T_833f7_row2_col1\" class=\"data row2 col1\" >0.625007</td>\n",
       "      <td id=\"T_833f7_row2_col2\" class=\"data row2 col2\" >0.264362</td>\n",
       "    </tr>\n",
       "    <tr>\n",
       "      <th id=\"T_833f7_level0_row3\" class=\"row_heading level0 row3\" >resnet101</th>\n",
       "      <td id=\"T_833f7_row3_col0\" class=\"data row3 col0\" >0.854330</td>\n",
       "      <td id=\"T_833f7_row3_col1\" class=\"data row3 col1\" >0.626167</td>\n",
       "      <td id=\"T_833f7_row3_col2\" class=\"data row3 col2\" >0.262906</td>\n",
       "    </tr>\n",
       "    <tr>\n",
       "      <th id=\"T_833f7_level0_row4\" class=\"row_heading level0 row4\" >resnet152</th>\n",
       "      <td id=\"T_833f7_row4_col0\" class=\"data row4 col0\" >0.861371</td>\n",
       "      <td id=\"T_833f7_row4_col1\" class=\"data row4 col1\" >0.621526</td>\n",
       "      <td id=\"T_833f7_row4_col2\" class=\"data row4 col2\" >0.257764</td>\n",
       "    </tr>\n",
       "    <tr>\n",
       "      <th id=\"T_833f7_level0_row5\" class=\"row_heading level0 row5\" >densenet121</th>\n",
       "      <td id=\"T_833f7_row5_col0\" class=\"data row5 col0\" >0.863629</td>\n",
       "      <td id=\"T_833f7_row5_col1\" class=\"data row5 col1\" >0.611147</td>\n",
       "      <td id=\"T_833f7_row5_col2\" class=\"data row5 col2\" >0.374106</td>\n",
       "    </tr>\n",
       "    <tr>\n",
       "      <th id=\"T_833f7_level0_row6\" class=\"row_heading level0 row6\" >densenet169</th>\n",
       "      <td id=\"T_833f7_row6_col0\" class=\"data row6 col0\" >0.859271</td>\n",
       "      <td id=\"T_833f7_row6_col1\" class=\"data row6 col1\" >0.612491</td>\n",
       "      <td id=\"T_833f7_row6_col2\" class=\"data row6 col2\" >0.354674</td>\n",
       "    </tr>\n",
       "    <tr>\n",
       "      <th id=\"T_833f7_level0_row7\" class=\"row_heading level0 row7\" >densenet201</th>\n",
       "      <td id=\"T_833f7_row7_col0\" class=\"data row7 col0\" >0.848567</td>\n",
       "      <td id=\"T_833f7_row7_col1\" class=\"data row7 col1\" >0.610659</td>\n",
       "      <td id=\"T_833f7_row7_col2\" class=\"data row7 col2\" >0.355342</td>\n",
       "    </tr>\n",
       "  </tbody>\n",
       "</table style=\"display:inline\">\n",
       "</td></tr></table style=\"display:inline\">"
      ]
     },
     "metadata": {},
     "output_type": "display_data"
    }
   ],
   "source": [
    "print('With multimodal labels\\n')\n",
    "display_dataframes((style_dataframe(df_single_scores2), style_dataframe(df_multiple_scores2), style_dataframe(df_average_scores2)), \n",
    "                   names=['MVSA-Single', 'MVSA-Multiple', 'Average'])"
   ]
  },
  {
   "cell_type": "markdown",
   "id": "134e3b74",
   "metadata": {
    "papermill": {
     "duration": 0.020828,
     "end_time": "2022-06-30T18:51:27.391409",
     "exception": false,
     "start_time": "2022-06-30T18:51:27.370581",
     "status": "completed"
    },
    "tags": []
   },
   "source": [
    "# With merge MVSA data"
   ]
  },
  {
   "cell_type": "code",
   "execution_count": 25,
   "id": "eacc53b9",
   "metadata": {
    "execution": {
     "iopub.execute_input": "2022-06-30T18:51:27.437591Z",
     "iopub.status.busy": "2022-06-30T18:51:27.437168Z",
     "iopub.status.idle": "2022-06-30T18:52:37.951958Z",
     "shell.execute_reply": "2022-06-30T18:52:37.950943Z"
    },
    "papermill": {
     "duration": 70.553796,
     "end_time": "2022-06-30T18:52:37.966758",
     "exception": false,
     "start_time": "2022-06-30T18:51:27.412962",
     "status": "completed"
    },
    "tags": []
   },
   "outputs": [
    {
     "name": "stdout",
     "output_type": "stream",
     "text": [
      "With original image labels\n",
      "Both MVSA: vgg16\n",
      "26\n",
      "\n",
      "Both MVSA: vgg19\n",
      "11\n",
      "\n",
      "Both MVSA: resnet50\n",
      "14\n",
      "\n",
      "Both MVSA: resnet101\n",
      "14\n",
      "\n",
      "Both MVSA: resnet152\n",
      "14\n",
      "\n",
      "Both MVSA: densenet121\n",
      "14\n",
      "\n",
      "Both MVSA: densenet169\n",
      "14\n",
      "\n",
      "Both MVSA: densenet201\n",
      "14\n",
      "\n"
     ]
    }
   ],
   "source": [
    "print('With original image labels')\n",
    "mvsa_hitories3 = []\n",
    "mvsa_score3 = []\n",
    "for i in range(len(pretrained_names)):\n",
    "    print('Both MVSA:', pretrained_names[i])\n",
    "    history, scores = run_and_evaluate('single-' + pretrained_names[i], mvsa_features[i], mvsa_image_labels, verbose=0)\n",
    "    mvsa_hitories3.append(history)\n",
    "    mvsa_score3.append(scores)\n",
    "    print()\n",
    "    \n",
    "df_scores3 = pd.DataFrame(mvsa_score3, columns=['Loss', 'Accuracy', 'F1-score'], index=pretrained_names)"
   ]
  },
  {
   "cell_type": "code",
   "execution_count": 26,
   "id": "ad0dfd09",
   "metadata": {
    "execution": {
     "iopub.execute_input": "2022-06-30T18:52:37.997202Z",
     "iopub.status.busy": "2022-06-30T18:52:37.995684Z",
     "iopub.status.idle": "2022-06-30T18:53:48.587070Z",
     "shell.execute_reply": "2022-06-30T18:53:48.585819Z"
    },
    "papermill": {
     "duration": 70.608485,
     "end_time": "2022-06-30T18:53:48.589860",
     "exception": false,
     "start_time": "2022-06-30T18:52:37.981375",
     "status": "completed"
    },
    "tags": []
   },
   "outputs": [
    {
     "name": "stdout",
     "output_type": "stream",
     "text": [
      "With multimodal labels\n",
      "Both MVSA: vgg16\n",
      "11\n",
      "\n",
      "Both MVSA: vgg19\n",
      "11\n",
      "\n",
      "Both MVSA: resnet50\n",
      "14\n",
      "\n",
      "Both MVSA: resnet101\n",
      "14\n",
      "\n",
      "Both MVSA: resnet152\n",
      "14\n",
      "\n",
      "Both MVSA: densenet121\n",
      "14\n",
      "\n",
      "Both MVSA: densenet169\n",
      "14\n",
      "\n",
      "Both MVSA: densenet201\n",
      "18\n",
      "\n"
     ]
    }
   ],
   "source": [
    "print('With multimodal labels')\n",
    "mvsa_hitories4 = []\n",
    "mvsa_score4 = []\n",
    "for i in range(len(pretrained_names)):\n",
    "    print('Both MVSA:', pretrained_names[i])\n",
    "    history, scores = run_and_evaluate('single-' + pretrained_names[i], mvsa_features[i], mvsa_multimodal_labels, verbose=0)\n",
    "    mvsa_hitories4.append(history)\n",
    "    mvsa_score4.append(scores)\n",
    "    print()\n",
    "    \n",
    "df_scores4 = pd.DataFrame(mvsa_score4, columns=['Loss', 'Accuracy', 'F1-score'], index=pretrained_names)"
   ]
  },
  {
   "cell_type": "code",
   "execution_count": 27,
   "id": "7e420821",
   "metadata": {
    "execution": {
     "iopub.execute_input": "2022-06-30T18:53:48.620811Z",
     "iopub.status.busy": "2022-06-30T18:53:48.619895Z",
     "iopub.status.idle": "2022-06-30T18:53:48.655377Z",
     "shell.execute_reply": "2022-06-30T18:53:48.654302Z"
    },
    "papermill": {
     "duration": 0.052496,
     "end_time": "2022-06-30T18:53:48.657598",
     "exception": false,
     "start_time": "2022-06-30T18:53:48.605102",
     "status": "completed"
    },
    "tags": []
   },
   "outputs": [
    {
     "name": "stdout",
     "output_type": "stream",
     "text": [
      "With both MVSA merged together\n",
      "\n"
     ]
    },
    {
     "data": {
      "text/html": [
       "<table style=\"display:inline\"><tr><td style=\"text-align:center\">Original image labels</td><td style=\"text-align:center\">Multimodal labels</td></tr><tr><td style=\"vertical-align:top\"> <style type=\"text/css\">\n",
       "#T_ae81a_row4_col0, #T_ae81a_row4_col1, #T_ae81a_row4_col2 {\n",
       "  color: tomato;\n",
       "}\n",
       "#T_ae81a_row7_col0, #T_ae81a_row7_col1, #T_ae81a_row7_col2 {\n",
       "  color: darkgreen;\n",
       "}\n",
       "</style>\n",
       "<table style=\"display:inline\" id=\"T_ae81a_\">\n",
       "  <thead>\n",
       "    <tr>\n",
       "      <th class=\"blank level0\" >&nbsp;</th>\n",
       "      <th class=\"col_heading level0 col0\" >Loss</th>\n",
       "      <th class=\"col_heading level0 col1\" >Accuracy</th>\n",
       "      <th class=\"col_heading level0 col2\" >F1-score</th>\n",
       "    </tr>\n",
       "  </thead>\n",
       "  <tbody>\n",
       "    <tr>\n",
       "      <th id=\"T_ae81a_level0_row0\" class=\"row_heading level0 row0\" >vgg16</th>\n",
       "      <td id=\"T_ae81a_row0_col0\" class=\"data row0 col0\" >0.859472</td>\n",
       "      <td id=\"T_ae81a_row0_col1\" class=\"data row0 col1\" >0.591787</td>\n",
       "      <td id=\"T_ae81a_row0_col2\" class=\"data row0 col2\" >0.371622</td>\n",
       "    </tr>\n",
       "    <tr>\n",
       "      <th id=\"T_ae81a_level0_row1\" class=\"row_heading level0 row1\" >vgg19</th>\n",
       "      <td id=\"T_ae81a_row1_col0\" class=\"data row1 col0\" >0.873409</td>\n",
       "      <td id=\"T_ae81a_row1_col1\" class=\"data row1 col1\" >0.585507</td>\n",
       "      <td id=\"T_ae81a_row1_col2\" class=\"data row1 col2\" >0.372984</td>\n",
       "    </tr>\n",
       "    <tr>\n",
       "      <th id=\"T_ae81a_level0_row2\" class=\"row_heading level0 row2\" >resnet50</th>\n",
       "      <td id=\"T_ae81a_row2_col0\" class=\"data row2 col0\" >0.878242</td>\n",
       "      <td id=\"T_ae81a_row2_col1\" class=\"data row2 col1\" >0.576812</td>\n",
       "      <td id=\"T_ae81a_row2_col2\" class=\"data row2 col2\" >0.318732</td>\n",
       "    </tr>\n",
       "    <tr>\n",
       "      <th id=\"T_ae81a_level0_row3\" class=\"row_heading level0 row3\" >resnet101</th>\n",
       "      <td id=\"T_ae81a_row3_col0\" class=\"data row3 col0\" >0.881290</td>\n",
       "      <td id=\"T_ae81a_row3_col1\" class=\"data row3 col1\" >0.576812</td>\n",
       "      <td id=\"T_ae81a_row3_col2\" class=\"data row3 col2\" >0.319176</td>\n",
       "    </tr>\n",
       "    <tr>\n",
       "      <th id=\"T_ae81a_level0_row4\" class=\"row_heading level0 row4\" >resnet152</th>\n",
       "      <td id=\"T_ae81a_row4_col0\" class=\"data row4 col0\" >0.881441</td>\n",
       "      <td id=\"T_ae81a_row4_col1\" class=\"data row4 col1\" >0.570048</td>\n",
       "      <td id=\"T_ae81a_row4_col2\" class=\"data row4 col2\" >0.286081</td>\n",
       "    </tr>\n",
       "    <tr>\n",
       "      <th id=\"T_ae81a_level0_row5\" class=\"row_heading level0 row5\" >densenet121</th>\n",
       "      <td id=\"T_ae81a_row5_col0\" class=\"data row5 col0\" >0.854309</td>\n",
       "      <td id=\"T_ae81a_row5_col1\" class=\"data row5 col1\" >0.593720</td>\n",
       "      <td id=\"T_ae81a_row5_col2\" class=\"data row5 col2\" >0.391167</td>\n",
       "    </tr>\n",
       "    <tr>\n",
       "      <th id=\"T_ae81a_level0_row6\" class=\"row_heading level0 row6\" >densenet169</th>\n",
       "      <td id=\"T_ae81a_row6_col0\" class=\"data row6 col0\" >0.855433</td>\n",
       "      <td id=\"T_ae81a_row6_col1\" class=\"data row6 col1\" >0.586957</td>\n",
       "      <td id=\"T_ae81a_row6_col2\" class=\"data row6 col2\" >0.406880</td>\n",
       "    </tr>\n",
       "    <tr>\n",
       "      <th id=\"T_ae81a_level0_row7\" class=\"row_heading level0 row7\" >densenet201</th>\n",
       "      <td id=\"T_ae81a_row7_col0\" class=\"data row7 col0\" >0.852574</td>\n",
       "      <td id=\"T_ae81a_row7_col1\" class=\"data row7 col1\" >0.597585</td>\n",
       "      <td id=\"T_ae81a_row7_col2\" class=\"data row7 col2\" >0.421582</td>\n",
       "    </tr>\n",
       "  </tbody>\n",
       "</table style=\"display:inline\">\n",
       "</td><td style=\"vertical-align:top\"> <style type=\"text/css\">\n",
       "#T_6b5cb_row0_col2, #T_6b5cb_row1_col0, #T_6b5cb_row5_col1 {\n",
       "  color: tomato;\n",
       "}\n",
       "#T_6b5cb_row6_col0, #T_6b5cb_row7_col1, #T_6b5cb_row7_col2 {\n",
       "  color: darkgreen;\n",
       "}\n",
       "</style>\n",
       "<table style=\"display:inline\" id=\"T_6b5cb_\">\n",
       "  <thead>\n",
       "    <tr>\n",
       "      <th class=\"blank level0\" >&nbsp;</th>\n",
       "      <th class=\"col_heading level0 col0\" >Loss</th>\n",
       "      <th class=\"col_heading level0 col1\" >Accuracy</th>\n",
       "      <th class=\"col_heading level0 col2\" >F1-score</th>\n",
       "    </tr>\n",
       "  </thead>\n",
       "  <tbody>\n",
       "    <tr>\n",
       "      <th id=\"T_6b5cb_level0_row0\" class=\"row_heading level0 row0\" >vgg16</th>\n",
       "      <td id=\"T_6b5cb_row0_col0\" class=\"data row0 col0\" >0.847671</td>\n",
       "      <td id=\"T_6b5cb_row0_col1\" class=\"data row0 col1\" >0.662319</td>\n",
       "      <td id=\"T_6b5cb_row0_col2\" class=\"data row0 col2\" >0.267022</td>\n",
       "    </tr>\n",
       "    <tr>\n",
       "      <th id=\"T_6b5cb_level0_row1\" class=\"row_heading level0 row1\" >vgg19</th>\n",
       "      <td id=\"T_6b5cb_row1_col0\" class=\"data row1 col0\" >0.851658</td>\n",
       "      <td id=\"T_6b5cb_row1_col1\" class=\"data row1 col1\" >0.663768</td>\n",
       "      <td id=\"T_6b5cb_row1_col2\" class=\"data row1 col2\" >0.269942</td>\n",
       "    </tr>\n",
       "    <tr>\n",
       "      <th id=\"T_6b5cb_level0_row2\" class=\"row_heading level0 row2\" >resnet50</th>\n",
       "      <td id=\"T_6b5cb_row2_col0\" class=\"data row2 col0\" >0.838595</td>\n",
       "      <td id=\"T_6b5cb_row2_col1\" class=\"data row2 col1\" >0.661836</td>\n",
       "      <td id=\"T_6b5cb_row2_col2\" class=\"data row2 col2\" >0.270799</td>\n",
       "    </tr>\n",
       "    <tr>\n",
       "      <th id=\"T_6b5cb_level0_row3\" class=\"row_heading level0 row3\" >resnet101</th>\n",
       "      <td id=\"T_6b5cb_row3_col0\" class=\"data row3 col0\" >0.840538</td>\n",
       "      <td id=\"T_6b5cb_row3_col1\" class=\"data row3 col1\" >0.663285</td>\n",
       "      <td id=\"T_6b5cb_row3_col2\" class=\"data row3 col2\" >0.269817</td>\n",
       "    </tr>\n",
       "    <tr>\n",
       "      <th id=\"T_6b5cb_level0_row4\" class=\"row_heading level0 row4\" >resnet152</th>\n",
       "      <td id=\"T_6b5cb_row4_col0\" class=\"data row4 col0\" >0.842235</td>\n",
       "      <td id=\"T_6b5cb_row4_col1\" class=\"data row4 col1\" >0.663285</td>\n",
       "      <td id=\"T_6b5cb_row4_col2\" class=\"data row4 col2\" >0.273682</td>\n",
       "    </tr>\n",
       "    <tr>\n",
       "      <th id=\"T_6b5cb_level0_row5\" class=\"row_heading level0 row5\" >densenet121</th>\n",
       "      <td id=\"T_6b5cb_row5_col0\" class=\"data row5 col0\" >0.827224</td>\n",
       "      <td id=\"T_6b5cb_row5_col1\" class=\"data row5 col1\" >0.651208</td>\n",
       "      <td id=\"T_6b5cb_row5_col2\" class=\"data row5 col2\" >0.342236</td>\n",
       "    </tr>\n",
       "    <tr>\n",
       "      <th id=\"T_6b5cb_level0_row6\" class=\"row_heading level0 row6\" >densenet169</th>\n",
       "      <td id=\"T_6b5cb_row6_col0\" class=\"data row6 col0\" >0.820361</td>\n",
       "      <td id=\"T_6b5cb_row6_col1\" class=\"data row6 col1\" >0.657488</td>\n",
       "      <td id=\"T_6b5cb_row6_col2\" class=\"data row6 col2\" >0.350253</td>\n",
       "    </tr>\n",
       "    <tr>\n",
       "      <th id=\"T_6b5cb_level0_row7\" class=\"row_heading level0 row7\" >densenet201</th>\n",
       "      <td id=\"T_6b5cb_row7_col0\" class=\"data row7 col0\" >0.841692</td>\n",
       "      <td id=\"T_6b5cb_row7_col1\" class=\"data row7 col1\" >0.664251</td>\n",
       "      <td id=\"T_6b5cb_row7_col2\" class=\"data row7 col2\" >0.355671</td>\n",
       "    </tr>\n",
       "  </tbody>\n",
       "</table style=\"display:inline\">\n",
       "</td></tr></table style=\"display:inline\">"
      ]
     },
     "metadata": {},
     "output_type": "display_data"
    }
   ],
   "source": [
    "print('With both MVSA merged together\\n')\n",
    "display_dataframes((style_dataframe(df_scores3), style_dataframe(df_scores4)), \n",
    "                   names=['Original image labels', 'Multimodal labels'])"
   ]
  }
 ],
 "metadata": {
  "kernelspec": {
   "display_name": "Python 3",
   "language": "python",
   "name": "python3"
  },
  "language_info": {
   "codemirror_mode": {
    "name": "ipython",
    "version": 3
   },
   "file_extension": ".py",
   "mimetype": "text/x-python",
   "name": "python",
   "nbconvert_exporter": "python",
   "pygments_lexer": "ipython3",
   "version": "3.7.12"
  },
  "papermill": {
   "default_parameters": {},
   "duration": 364.54945,
   "end_time": "2022-06-30T18:53:52.185548",
   "environment_variables": {},
   "exception": null,
   "input_path": "__notebook__.ipynb",
   "output_path": "__notebook__.ipynb",
   "parameters": {},
   "start_time": "2022-06-30T18:47:47.636098",
   "version": "2.3.4"
  }
 },
 "nbformat": 4,
 "nbformat_minor": 5
}
