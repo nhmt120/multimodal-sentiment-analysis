{
 "cells": [
  {
   "cell_type": "code",
   "execution_count": 1,
   "id": "b792e8af",
   "metadata": {
    "_cell_guid": "b1076dfc-b9ad-4769-8c92-a6c4dae69d19",
    "_uuid": "8f2839f25d086af736a60e9eeb907d3b93b6e0e5",
    "execution": {
     "iopub.execute_input": "2022-06-30T20:32:37.275176Z",
     "iopub.status.busy": "2022-06-30T20:32:37.274553Z",
     "iopub.status.idle": "2022-06-30T20:32:47.194804Z",
     "shell.execute_reply": "2022-06-30T20:32:47.193866Z"
    },
    "papermill": {
     "duration": 9.933715,
     "end_time": "2022-06-30T20:32:47.197587",
     "exception": false,
     "start_time": "2022-06-30T20:32:37.263872",
     "status": "completed"
    },
    "tags": []
   },
   "outputs": [],
   "source": [
    "SEED = 61\n",
    "\n",
    "\n",
    "import os\n",
    "import re\n",
    "import gc\n",
    "import h5py\n",
    "import torch\n",
    "import numpy as np\n",
    "import pandas as pd\n",
    "import tensorflow as tf\n",
    "import random as python_random\n",
    "import matplotlib.pyplot as plt\n",
    "import tensorflow_addons as tfa\n",
    "\n",
    "from tqdm import tqdm\n",
    "from nltk import tokenize\n",
    "\n",
    "from sklearn import preprocessing\n",
    "from sklearn.decomposition import PCA\n",
    "\n",
    "from keras import backend as K\n",
    "from keras import initializers,regularizers,constraints\n",
    "from keras.preprocessing.text import Tokenizer, text_to_word_sequence\n",
    "from keras.preprocessing.sequence import pad_sequences\n",
    "from keras.utils.np_utils import to_categorical\n",
    "from keras.layers import Reshape, Input, Embedding, Flatten, Dense, Dropout, BatchNormalization, Activation #, merge\n",
    "from keras.layers import TimeDistributed, LSTM, GRU, Bidirectional, Convolution1D, MaxPooling1D, MaxPooling2D\n",
    "from keras.layers.core import RepeatVector, Reshape\n",
    "from keras.callbacks import ModelCheckpoint, EarlyStopping, ReduceLROnPlateau\n",
    "from keras.models import Sequential, Model, load_model\n",
    "from sklearn.model_selection import cross_val_score\n",
    "\n",
    "def reset_seeds():\n",
    "    np.random.seed(SEED) \n",
    "    python_random.seed(SEED)\n",
    "    tf.random.set_seed(SEED)\n",
    "    os.environ[\"PYTHONHASHSEED\"] = str(SEED)\n",
    "\n",
    "# from tensorflow.python.keras.layers import Layer, InputSpec, Lambda\n",
    "# from tensorflow.keras import Model\n",
    "# from attention import Attention_input1, Attention_input2\n",
    "# from keras.optimizers import SGD, RMSprop, Adagrad"
   ]
  },
  {
   "cell_type": "code",
   "execution_count": 2,
   "id": "45fc346d",
   "metadata": {
    "execution": {
     "iopub.execute_input": "2022-06-30T20:32:47.215815Z",
     "iopub.status.busy": "2022-06-30T20:32:47.214806Z",
     "iopub.status.idle": "2022-06-30T20:32:47.222740Z",
     "shell.execute_reply": "2022-06-30T20:32:47.221810Z"
    },
    "papermill": {
     "duration": 0.019039,
     "end_time": "2022-06-30T20:32:47.224912",
     "exception": false,
     "start_time": "2022-06-30T20:32:47.205873",
     "status": "completed"
    },
    "tags": []
   },
   "outputs": [],
   "source": [
    "def read_hdf5(path):\n",
    "    read_file = h5py.File(path, 'r')\n",
    "    \n",
    "    feature_names = list(read_file.keys())\n",
    "    loaded_data = []\n",
    "    \n",
    "    for name in feature_names:\n",
    "        dataset = read_file[name][:]\n",
    "        if dataset.dtype == np.dtype('object'):\n",
    "            dataset = np.array([x.decode('UTF-8') for x in dataset])            \n",
    "        loaded_data.append((name, dataset))\n",
    "\n",
    "    return loaded_data\n",
    "\n",
    "def loadz(path):\n",
    "    data = np.load(path)['arr_0']\n",
    "    return data"
   ]
  },
  {
   "cell_type": "code",
   "execution_count": 3,
   "id": "64031fef",
   "metadata": {
    "execution": {
     "iopub.execute_input": "2022-06-30T20:32:47.241675Z",
     "iopub.status.busy": "2022-06-30T20:32:47.241246Z",
     "iopub.status.idle": "2022-06-30T20:32:47.251865Z",
     "shell.execute_reply": "2022-06-30T20:32:47.250976Z"
    },
    "papermill": {
     "duration": 0.021574,
     "end_time": "2022-06-30T20:32:47.254084",
     "exception": false,
     "start_time": "2022-06-30T20:32:47.232510",
     "status": "completed"
    },
    "tags": []
   },
   "outputs": [],
   "source": [
    "def merge_mvsa(mvsa_single, mvsa_multiple):\n",
    "    mvsa = np.concatenate((mvsa_single, mvsa_multiple), axis=0)\n",
    "    return mvsa\n",
    "\n",
    "def load_mvsa_feature(feature_name, merge=False):\n",
    "    folder_path = os.path.join('../input/mvsa-features/', feature_name)\n",
    "    single_file = 'mvsa-single-{}.npz'.format(feature_name)\n",
    "    multiple_file = 'mvsa-multiple-{}.npz'.format(feature_name)\n",
    "    mvsa_single = loadz(os.path.join(folder_path, single_file))\n",
    "    mvsa_multiple = loadz(os.path.join(folder_path, multiple_file))\n",
    "    \n",
    "    if merge == True:\n",
    "        return merge_mvsa(mvsa_single, mvsa_multiple)\n",
    "    \n",
    "    return mvsa_single, mvsa_multiple\n",
    "\n",
    "def load_labels(path):\n",
    "    data = read_hdf5(path)\n",
    "\n",
    "    for x in data:\n",
    "        if x[0] == 'multimodal-labels':\n",
    "            labels = x[1]\n",
    "        if x[0] == 'text-labels':\n",
    "            text_labels = x[1]\n",
    "        if x[0] == 'image-labels':\n",
    "            image_labels = x[1]\n",
    "        \n",
    "    return labels, text_labels, image_labels"
   ]
  },
  {
   "cell_type": "code",
   "execution_count": 4,
   "id": "f2187c2e",
   "metadata": {
    "execution": {
     "iopub.execute_input": "2022-06-30T20:32:47.271286Z",
     "iopub.status.busy": "2022-06-30T20:32:47.270433Z",
     "iopub.status.idle": "2022-06-30T20:32:47.280247Z",
     "shell.execute_reply": "2022-06-30T20:32:47.279226Z"
    },
    "papermill": {
     "duration": 0.02058,
     "end_time": "2022-06-30T20:32:47.282368",
     "exception": false,
     "start_time": "2022-06-30T20:32:47.261788",
     "status": "completed"
    },
    "tags": []
   },
   "outputs": [],
   "source": [
    "def plot_metrics(history):\n",
    "    fig = plt.figure(figsize=(20, 5))\n",
    "\n",
    "    fig.add_subplot(1, 3, 1)\n",
    "    plt.plot(history.history['loss'])\n",
    "    plt.plot(history.history['val_loss'])\n",
    "    plt.title('LOSS')\n",
    "    plt.ylabel('loss')\n",
    "    plt.xlabel('epoch')\n",
    "    plt.legend(['train', 'val'], loc='best')\n",
    "\n",
    "    fig.add_subplot(1, 3, 2)\n",
    "    plt.plot(history.history['accuracy'])\n",
    "    plt.plot(history.history['val_accuracy'])\n",
    "    plt.title('ACCURACY')\n",
    "    plt.ylabel('accuracy')\n",
    "    plt.xlabel('epoch')\n",
    "    plt.legend(['train', 'val'], loc='best')\n",
    "\n",
    "    fig.add_subplot(1, 3, 3)\n",
    "    plt.plot(history.history['f1_score'])\n",
    "    plt.plot(history.history['val_f1_score'])\n",
    "    plt.title('F1-SCORE')\n",
    "    plt.ylabel('f1-score')\n",
    "    plt.xlabel('epoch')\n",
    "    plt.legend(['train', 'val'], loc='best')\n",
    "\n",
    "    plt.show()"
   ]
  },
  {
   "cell_type": "code",
   "execution_count": 5,
   "id": "4d5465e6",
   "metadata": {
    "execution": {
     "iopub.execute_input": "2022-06-30T20:32:47.299293Z",
     "iopub.status.busy": "2022-06-30T20:32:47.298485Z",
     "iopub.status.idle": "2022-06-30T20:32:47.304120Z",
     "shell.execute_reply": "2022-06-30T20:32:47.303240Z"
    },
    "papermill": {
     "duration": 0.016372,
     "end_time": "2022-06-30T20:32:47.306105",
     "exception": false,
     "start_time": "2022-06-30T20:32:47.289733",
     "status": "completed"
    },
    "tags": []
   },
   "outputs": [],
   "source": [
    "# e.g. validation_split=0.1 -----> 8:1:1 ratio of train, val, test\n",
    "def split_data(data, validation_split):\n",
    "    num_val = int(validation_split * data.shape[0])\n",
    "    data_train = data[:-(num_val*2)]\n",
    "    data_val = data[-(num_val*2):-(num_val)]\n",
    "    data_test = data[-num_val:]\n",
    "    return data_train, data_val, data_test"
   ]
  },
  {
   "cell_type": "code",
   "execution_count": 6,
   "id": "757f1b33",
   "metadata": {
    "execution": {
     "iopub.execute_input": "2022-06-30T20:32:47.322286Z",
     "iopub.status.busy": "2022-06-30T20:32:47.322024Z",
     "iopub.status.idle": "2022-06-30T20:32:47.327874Z",
     "shell.execute_reply": "2022-06-30T20:32:47.326880Z"
    },
    "papermill": {
     "duration": 0.016708,
     "end_time": "2022-06-30T20:32:47.330207",
     "exception": false,
     "start_time": "2022-06-30T20:32:47.313499",
     "status": "completed"
    },
    "tags": []
   },
   "outputs": [],
   "source": [
    "def create_model_pretrained(input_shape):\n",
    "    f1_score = tfa.metrics.F1Score(num_classes=NUM_CLASSES, average='macro')\n",
    "    \n",
    "    image_input = Input(shape=input_shape)\n",
    "    outputs = Dense(NUM_CLASSES, activation='softmax') (image_input)\n",
    "    \n",
    "    model = Model(image_input, outputs)\n",
    "    model.compile(optimizer='adam', loss='categorical_crossentropy', metrics=['accuracy', f1_score]) # f1 #tf.keras.metrics.AUC()\n",
    "    return model"
   ]
  },
  {
   "cell_type": "code",
   "execution_count": 7,
   "id": "f5e1ac0b",
   "metadata": {
    "execution": {
     "iopub.execute_input": "2022-06-30T20:32:47.346447Z",
     "iopub.status.busy": "2022-06-30T20:32:47.346184Z",
     "iopub.status.idle": "2022-06-30T20:32:47.352109Z",
     "shell.execute_reply": "2022-06-30T20:32:47.351172Z"
    },
    "papermill": {
     "duration": 0.016323,
     "end_time": "2022-06-30T20:32:47.354156",
     "exception": false,
     "start_time": "2022-06-30T20:32:47.337833",
     "status": "completed"
    },
    "tags": []
   },
   "outputs": [],
   "source": [
    "def evaluate_model(model, X_test, y_test, checkpoint=None, verbose=1):\n",
    "    if checkpoint is not None:\n",
    "        model = load_model('./model_checkpoint/{}.h5'.format(checkpoint))#, custom_objects={'f1': f1})\n",
    "    \n",
    "    loss, acc, f1 = model.evaluate(X_test, y_test, verbose=verbose)\n",
    "    \n",
    "    if verbose == 1:\n",
    "        print('Loss:', loss)\n",
    "        print('Accuracy:', acc)\n",
    "        print('F1-score:', f1)\n",
    "        \n",
    "    return loss, acc, f1"
   ]
  },
  {
   "cell_type": "code",
   "execution_count": 8,
   "id": "cd86c4b5",
   "metadata": {
    "execution": {
     "iopub.execute_input": "2022-06-30T20:32:47.370511Z",
     "iopub.status.busy": "2022-06-30T20:32:47.370186Z",
     "iopub.status.idle": "2022-06-30T20:32:47.378872Z",
     "shell.execute_reply": "2022-06-30T20:32:47.377747Z"
    },
    "papermill": {
     "duration": 0.019403,
     "end_time": "2022-06-30T20:32:47.380984",
     "exception": false,
     "start_time": "2022-06-30T20:32:47.361581",
     "status": "completed"
    },
    "tags": []
   },
   "outputs": [],
   "source": [
    "def run_and_evaluate(name, X, y, verbose=0):\n",
    "    y = le.fit_transform(y)\n",
    "    y = to_categorical(np.asarray(y))\n",
    "    \n",
    "    X_train, X_val, X_test = split_data(X, VALIDATION_SPLIT)\n",
    "    y_train, y_val, y_test = split_data(y, VALIDATION_SPLIT)\n",
    "    \n",
    "    model = create_model_pretrained(X_train.shape[1:])\n",
    "    early_stopping = EarlyStopping(monitor='val_loss', min_delta=1e-4, patience=EARLY_STOPPING)\n",
    "    checkpoint = ModelCheckpoint('./model_checkpoint/{}.h5'.format(name), save_best_only=True, verbose=verbose)\n",
    "    \n",
    "    history = model.fit(X_train, y_train, validation_data=(X_val, y_val), \n",
    "                                   epochs=EPOCHS, batch_size=BATCH_SIZE, verbose=verbose,\n",
    "                                   callbacks=[checkpoint, early_stopping])\n",
    "    \n",
    "    best_epoch = np.argmin(history.history['val_loss'])\n",
    "    print('Checkpoint loaded at epoch:', best_epoch)\n",
    "    return history, evaluate_model(model, X_test, y_test, checkpoint=name, verbose=verbose)"
   ]
  },
  {
   "cell_type": "code",
   "execution_count": 9,
   "id": "ebc15475",
   "metadata": {
    "execution": {
     "iopub.execute_input": "2022-06-30T20:32:47.398087Z",
     "iopub.status.busy": "2022-06-30T20:32:47.397237Z",
     "iopub.status.idle": "2022-06-30T20:32:47.403204Z",
     "shell.execute_reply": "2022-06-30T20:32:47.402268Z"
    },
    "papermill": {
     "duration": 0.016317,
     "end_time": "2022-06-30T20:32:47.405165",
     "exception": false,
     "start_time": "2022-06-30T20:32:47.388848",
     "status": "completed"
    },
    "tags": []
   },
   "outputs": [],
   "source": [
    "def style_dataframe(dataframe):\n",
    "    return dataframe.style.highlight_max(subset=['Accuracy', 'F1-score'], props='color:chartreuse', axis=0)\\\n",
    "                          .highlight_min(subset=['Accuracy', 'F1-score'], props='color:chartreuse', axis=0)\\\n",
    "                          .highlight_min(subset=['Loss'], props='color:darkgreen', axis=0)\\\n",
    "                          .highlight_max(subset=['Loss'], props='color:tomato', axis=0)"
   ]
  },
  {
   "cell_type": "code",
   "execution_count": 10,
   "id": "413aa4ca",
   "metadata": {
    "execution": {
     "iopub.execute_input": "2022-06-30T20:32:47.422112Z",
     "iopub.status.busy": "2022-06-30T20:32:47.421325Z",
     "iopub.status.idle": "2022-06-30T20:32:47.429837Z",
     "shell.execute_reply": "2022-06-30T20:32:47.428939Z"
    },
    "papermill": {
     "duration": 0.018888,
     "end_time": "2022-06-30T20:32:47.431791",
     "exception": false,
     "start_time": "2022-06-30T20:32:47.412903",
     "status": "completed"
    },
    "tags": []
   },
   "outputs": [],
   "source": [
    "from IPython.display import display_html\n",
    "\n",
    "def display_dataframes(dfs, names=[], index=False):\n",
    "    def to_df(x):\n",
    "        if isinstance(x, pd.Series):\n",
    "            return pd.DataFrame(x)\n",
    "        else:\n",
    "            return x\n",
    "    html_str = ''\n",
    "    if names:\n",
    "        html_str += ('<tr>' + \n",
    "                     ''.join(f'<td style=\"text-align:center\">{name}</td>' for name in names) + \n",
    "                     '</tr>')\n",
    "    html_str += ('<tr>' + \n",
    "                 ''.join(f'<td style=\"vertical-align:top\"> {to_df(df).to_html()}</td>' \n",
    "                         for df in dfs) + \n",
    "                 '</tr>')\n",
    "    html_str = f'<table>{html_str}</table>'\n",
    "    html_str = html_str.replace('table','table style=\"display:inline\"')\n",
    "    display_html(html_str, raw=True)"
   ]
  },
  {
   "cell_type": "markdown",
   "id": "d6d0b805",
   "metadata": {
    "papermill": {
     "duration": 0.007066,
     "end_time": "2022-06-30T20:32:47.446778",
     "exception": false,
     "start_time": "2022-06-30T20:32:47.439712",
     "status": "completed"
    },
    "tags": []
   },
   "source": [
    "# Load data"
   ]
  },
  {
   "cell_type": "code",
   "execution_count": 11,
   "id": "e2c07a62",
   "metadata": {
    "execution": {
     "iopub.execute_input": "2022-06-30T20:32:47.462908Z",
     "iopub.status.busy": "2022-06-30T20:32:47.462575Z",
     "iopub.status.idle": "2022-06-30T20:33:00.472935Z",
     "shell.execute_reply": "2022-06-30T20:33:00.471710Z"
    },
    "papermill": {
     "duration": 13.021751,
     "end_time": "2022-06-30T20:33:00.475877",
     "exception": false,
     "start_time": "2022-06-30T20:32:47.454126",
     "status": "completed"
    },
    "tags": []
   },
   "outputs": [],
   "source": [
    "# load separate\n",
    "mvsa_single_vgg16, mvsa_multiple_vgg16 = load_mvsa_feature('vgg16')\n",
    "mvsa_single_vgg19, mvsa_multiple_vgg19 = load_mvsa_feature('vgg19')\n",
    "mvsa_single_resnet50, mvsa_multiple_resnet50 = load_mvsa_feature('resnet50')\n",
    "mvsa_single_resnet101, mvsa_multiple_resnet101 = load_mvsa_feature('resnet101')\n",
    "mvsa_single_resnet152, mvsa_multiple_resnet152 = load_mvsa_feature('resnet152')\n",
    "mvsa_single_densenet121, mvsa_multiple_densenet121 = load_mvsa_feature('densenet121')\n",
    "mvsa_single_densenet169, mvsa_multiple_densenet169 = load_mvsa_feature('densenet169')\n",
    "mvsa_single_densenet201, mvsa_multiple_densenet201 = load_mvsa_feature('densenet201')"
   ]
  },
  {
   "cell_type": "code",
   "execution_count": 12,
   "id": "5da9bbd2",
   "metadata": {
    "execution": {
     "iopub.execute_input": "2022-06-30T20:33:00.493273Z",
     "iopub.status.busy": "2022-06-30T20:33:00.492888Z",
     "iopub.status.idle": "2022-06-30T20:33:03.341333Z",
     "shell.execute_reply": "2022-06-30T20:33:03.340339Z"
    },
    "papermill": {
     "duration": 2.859421,
     "end_time": "2022-06-30T20:33:03.344043",
     "exception": false,
     "start_time": "2022-06-30T20:33:00.484622",
     "status": "completed"
    },
    "tags": []
   },
   "outputs": [],
   "source": [
    "# load merge\n",
    "mvsa_vgg16 = load_mvsa_feature('vgg16', merge=True)\n",
    "mvsa_vgg19 = load_mvsa_feature('vgg19', merge=True)\n",
    "mvsa_resnet50 = load_mvsa_feature('resnet50', merge=True)\n",
    "mvsa_resnet101 = load_mvsa_feature('resnet101', merge=True)\n",
    "mvsa_resnet152 = load_mvsa_feature('resnet152', merge=True)\n",
    "mvsa_densenet121 = load_mvsa_feature('densenet121', merge=True)\n",
    "mvsa_densenet169 = load_mvsa_feature('densenet169', merge=True)\n",
    "mvsa_densenet201 = load_mvsa_feature('densenet201', merge=True)"
   ]
  },
  {
   "cell_type": "code",
   "execution_count": 13,
   "id": "962ffd71",
   "metadata": {
    "execution": {
     "iopub.execute_input": "2022-06-30T20:33:03.361046Z",
     "iopub.status.busy": "2022-06-30T20:33:03.360719Z",
     "iopub.status.idle": "2022-06-30T20:33:03.509405Z",
     "shell.execute_reply": "2022-06-30T20:33:03.508363Z"
    },
    "papermill": {
     "duration": 0.160298,
     "end_time": "2022-06-30T20:33:03.512207",
     "exception": false,
     "start_time": "2022-06-30T20:33:03.351909",
     "status": "completed"
    },
    "tags": []
   },
   "outputs": [],
   "source": [
    "mvsa_single_multimodal_labels, mvsa_single_text_labels, mvsa_single_image_labels = load_labels('../input/mvsa-features/labels/mvsa-single-labels.hdf5')\n",
    "mvsa_multiple_multimodal_labels, mvsa_multiple_text_labels, mvsa_multiple_image_labels = load_labels('../input/mvsa-features/labels/mvsa-multiple-labels.hdf5')\n",
    "\n",
    "mvsa_multimodal_labels = merge_mvsa(mvsa_single_multimodal_labels, mvsa_multiple_multimodal_labels)\n",
    "mvsa_text_labels = merge_mvsa(mvsa_single_text_labels, mvsa_multiple_text_labels)\n",
    "mvsa_image_labels = merge_mvsa(mvsa_single_image_labels, mvsa_multiple_image_labels)"
   ]
  },
  {
   "cell_type": "code",
   "execution_count": 14,
   "id": "acd88264",
   "metadata": {
    "execution": {
     "iopub.execute_input": "2022-06-30T20:33:03.530142Z",
     "iopub.status.busy": "2022-06-30T20:33:03.528385Z",
     "iopub.status.idle": "2022-06-30T20:33:03.537234Z",
     "shell.execute_reply": "2022-06-30T20:33:03.536252Z"
    },
    "papermill": {
     "duration": 0.019524,
     "end_time": "2022-06-30T20:33:03.539354",
     "exception": false,
     "start_time": "2022-06-30T20:33:03.519830",
     "status": "completed"
    },
    "tags": []
   },
   "outputs": [],
   "source": [
    "le = preprocessing.LabelEncoder()\n",
    "le.fit(mvsa_multimodal_labels)\n",
    "NUM_CLASSES = len(le.classes_) # =3"
   ]
  },
  {
   "cell_type": "code",
   "execution_count": 15,
   "id": "4fb15d05",
   "metadata": {
    "execution": {
     "iopub.execute_input": "2022-06-30T20:33:03.555795Z",
     "iopub.status.busy": "2022-06-30T20:33:03.555507Z",
     "iopub.status.idle": "2022-06-30T20:33:03.562024Z",
     "shell.execute_reply": "2022-06-30T20:33:03.561053Z"
    },
    "papermill": {
     "duration": 0.016816,
     "end_time": "2022-06-30T20:33:03.564082",
     "exception": false,
     "start_time": "2022-06-30T20:33:03.547266",
     "status": "completed"
    },
    "tags": []
   },
   "outputs": [],
   "source": [
    "# prepare all features data\n",
    "pretrained_names = ['vgg16', 'vgg19', 'resnet50', 'resnet101', 'resnet152', 'densenet121', 'densenet169', 'densenet201']\n",
    "# single_pretrained_names = ['single-' + name for name in pretrained_names]\n",
    "# multiple_pretrained_names = ['multiple-' + name for name in pretrained_names]\n",
    "\n",
    "mvsa_single_features = [mvsa_single_vgg16, mvsa_single_vgg19, \n",
    "                        mvsa_single_resnet50, mvsa_single_resnet101, mvsa_single_resnet152, \n",
    "                        mvsa_single_densenet121, mvsa_single_densenet169, mvsa_single_densenet201]\n",
    "\n",
    "mvsa_multiple_features = [mvsa_multiple_vgg16, mvsa_multiple_vgg19, \n",
    "                          mvsa_multiple_resnet50, mvsa_multiple_resnet101, mvsa_multiple_resnet152, \n",
    "                          mvsa_multiple_densenet121, mvsa_multiple_densenet169, mvsa_multiple_densenet201]\n",
    "\n",
    "mvsa_features = [mvsa_vgg16, mvsa_vgg19, \n",
    "                 mvsa_resnet50, mvsa_resnet101, mvsa_resnet152, \n",
    "                 mvsa_densenet121, mvsa_densenet169, mvsa_densenet201]"
   ]
  },
  {
   "cell_type": "markdown",
   "id": "a87f794d",
   "metadata": {
    "papermill": {
     "duration": 0.007141,
     "end_time": "2022-06-30T20:33:03.578504",
     "exception": false,
     "start_time": "2022-06-30T20:33:03.571363",
     "status": "completed"
    },
    "tags": []
   },
   "source": [
    "# Run models and Evalution display"
   ]
  },
  {
   "cell_type": "code",
   "execution_count": 16,
   "id": "c7611e5f",
   "metadata": {
    "execution": {
     "iopub.execute_input": "2022-06-30T20:33:03.596012Z",
     "iopub.status.busy": "2022-06-30T20:33:03.594261Z",
     "iopub.status.idle": "2022-06-30T20:33:03.599804Z",
     "shell.execute_reply": "2022-06-30T20:33:03.598946Z"
    },
    "papermill": {
     "duration": 0.016201,
     "end_time": "2022-06-30T20:33:03.601859",
     "exception": false,
     "start_time": "2022-06-30T20:33:03.585658",
     "status": "completed"
    },
    "tags": []
   },
   "outputs": [],
   "source": [
    "reset_seeds()\n",
    "EPOCHS = 100\n",
    "BATCH_SIZE = 128\n",
    "VALIDATION_SPLIT = 0.1\n",
    "EARLY_STOPPING = 10"
   ]
  },
  {
   "cell_type": "markdown",
   "id": "0ff5e180",
   "metadata": {
    "papermill": {
     "duration": 0.007113,
     "end_time": "2022-06-30T20:33:03.616435",
     "exception": false,
     "start_time": "2022-06-30T20:33:03.609322",
     "status": "completed"
    },
    "tags": []
   },
   "source": [
    "## With original image labels"
   ]
  },
  {
   "cell_type": "code",
   "execution_count": 17,
   "id": "ed6de659",
   "metadata": {
    "execution": {
     "iopub.execute_input": "2022-06-30T20:33:03.632286Z",
     "iopub.status.busy": "2022-06-30T20:33:03.632003Z",
     "iopub.status.idle": "2022-06-30T20:33:46.146685Z",
     "shell.execute_reply": "2022-06-30T20:33:46.145650Z"
    },
    "papermill": {
     "duration": 42.525401,
     "end_time": "2022-06-30T20:33:46.149205",
     "exception": false,
     "start_time": "2022-06-30T20:33:03.623804",
     "status": "completed"
    },
    "tags": []
   },
   "outputs": [
    {
     "name": "stdout",
     "output_type": "stream",
     "text": [
      "With original image labels\n",
      "MVSA-Single: vgg16\n"
     ]
    },
    {
     "name": "stderr",
     "output_type": "stream",
     "text": [
      "2022-06-30 20:33:03.729173: I tensorflow/stream_executor/cuda/cuda_gpu_executor.cc:937] successful NUMA node read from SysFS had negative value (-1), but there must be at least one NUMA node, so returning NUMA node zero\n",
      "2022-06-30 20:33:03.730236: I tensorflow/stream_executor/cuda/cuda_gpu_executor.cc:937] successful NUMA node read from SysFS had negative value (-1), but there must be at least one NUMA node, so returning NUMA node zero\n",
      "2022-06-30 20:33:03.730896: I tensorflow/stream_executor/cuda/cuda_gpu_executor.cc:937] successful NUMA node read from SysFS had negative value (-1), but there must be at least one NUMA node, so returning NUMA node zero\n",
      "2022-06-30 20:33:03.731820: I tensorflow/core/platform/cpu_feature_guard.cc:142] This TensorFlow binary is optimized with oneAPI Deep Neural Network Library (oneDNN) to use the following CPU instructions in performance-critical operations:  AVX2 AVX512F FMA\n",
      "To enable them in other operations, rebuild TensorFlow with the appropriate compiler flags.\n",
      "2022-06-30 20:33:03.732175: I tensorflow/stream_executor/cuda/cuda_gpu_executor.cc:937] successful NUMA node read from SysFS had negative value (-1), but there must be at least one NUMA node, so returning NUMA node zero\n",
      "2022-06-30 20:33:03.732877: I tensorflow/stream_executor/cuda/cuda_gpu_executor.cc:937] successful NUMA node read from SysFS had negative value (-1), but there must be at least one NUMA node, so returning NUMA node zero\n",
      "2022-06-30 20:33:03.733522: I tensorflow/stream_executor/cuda/cuda_gpu_executor.cc:937] successful NUMA node read from SysFS had negative value (-1), but there must be at least one NUMA node, so returning NUMA node zero\n",
      "2022-06-30 20:33:09.253923: I tensorflow/stream_executor/cuda/cuda_gpu_executor.cc:937] successful NUMA node read from SysFS had negative value (-1), but there must be at least one NUMA node, so returning NUMA node zero\n",
      "2022-06-30 20:33:09.254808: I tensorflow/stream_executor/cuda/cuda_gpu_executor.cc:937] successful NUMA node read from SysFS had negative value (-1), but there must be at least one NUMA node, so returning NUMA node zero\n",
      "2022-06-30 20:33:09.255476: I tensorflow/stream_executor/cuda/cuda_gpu_executor.cc:937] successful NUMA node read from SysFS had negative value (-1), but there must be at least one NUMA node, so returning NUMA node zero\n",
      "2022-06-30 20:33:09.256081: I tensorflow/core/common_runtime/gpu/gpu_device.cc:1510] Created device /job:localhost/replica:0/task:0/device:GPU:0 with 15047 MB memory:  -> device: 0, name: Tesla P100-PCIE-16GB, pci bus id: 0000:00:04.0, compute capability: 6.0\n",
      "2022-06-30 20:33:09.807055: I tensorflow/compiler/mlir/mlir_graph_optimization_pass.cc:185] None of the MLIR Optimization Passes are enabled (registered 2)\n"
     ]
    },
    {
     "name": "stdout",
     "output_type": "stream",
     "text": [
      "Checkpoint loaded at epoch: 3\n",
      "\n",
      "MVSA-Single: vgg19\n",
      "Checkpoint loaded at epoch: 16\n",
      "\n",
      "MVSA-Single: resnet50\n",
      "Checkpoint loaded at epoch: 14\n",
      "\n",
      "MVSA-Single: resnet101\n",
      "Checkpoint loaded at epoch: 49\n",
      "\n",
      "MVSA-Single: resnet152\n",
      "Checkpoint loaded at epoch: 14\n",
      "\n",
      "MVSA-Single: densenet121\n",
      "Checkpoint loaded at epoch: 12\n",
      "\n",
      "MVSA-Single: densenet169\n",
      "Checkpoint loaded at epoch: 6\n",
      "\n",
      "MVSA-Single: densenet201\n",
      "Checkpoint loaded at epoch: 6\n",
      "\n"
     ]
    }
   ],
   "source": [
    "print('With original image labels')\n",
    "# run model with all features data of MVSA-Single\n",
    "mvsa_single_hitories = []\n",
    "mvsa_single_score = []\n",
    "for i in range(len(pretrained_names)):\n",
    "    print('MVSA-Single:', pretrained_names[i])\n",
    "    history, scores = run_and_evaluate('single-' + pretrained_names[i], mvsa_single_features[i], mvsa_single_image_labels, verbose=0)\n",
    "    mvsa_single_hitories.append(history)\n",
    "    mvsa_single_score.append(scores)\n",
    "    print()\n",
    "    \n",
    "df_single_scores = pd.DataFrame(mvsa_single_score, columns=['Loss', 'Accuracy', 'F1-score'], index=pretrained_names)"
   ]
  },
  {
   "cell_type": "code",
   "execution_count": 18,
   "id": "734c2c7d",
   "metadata": {
    "execution": {
     "iopub.execute_input": "2022-06-30T20:33:46.167591Z",
     "iopub.status.busy": "2022-06-30T20:33:46.166774Z",
     "iopub.status.idle": "2022-06-30T20:34:59.366914Z",
     "shell.execute_reply": "2022-06-30T20:34:59.365862Z"
    },
    "papermill": {
     "duration": 73.211823,
     "end_time": "2022-06-30T20:34:59.369326",
     "exception": false,
     "start_time": "2022-06-30T20:33:46.157503",
     "status": "completed"
    },
    "tags": []
   },
   "outputs": [
    {
     "name": "stdout",
     "output_type": "stream",
     "text": [
      "With original image labels\n",
      "MVSA-Multiple: vgg16\n",
      "Checkpoint loaded at epoch: 8\n",
      "\n",
      "MVSA-Multiple: vgg19\n",
      "Checkpoint loaded at epoch: 1\n",
      "\n",
      "MVSA-Multiple: resnet50\n",
      "Checkpoint loaded at epoch: 7\n",
      "\n",
      "MVSA-Multiple: resnet101\n",
      "Checkpoint loaded at epoch: 10\n",
      "\n",
      "MVSA-Multiple: resnet152\n",
      "Checkpoint loaded at epoch: 10\n",
      "\n",
      "MVSA-Multiple: densenet121\n",
      "Checkpoint loaded at epoch: 8\n",
      "\n",
      "MVSA-Multiple: densenet169\n",
      "Checkpoint loaded at epoch: 6\n",
      "\n",
      "MVSA-Multiple: densenet201\n",
      "Checkpoint loaded at epoch: 6\n",
      "\n"
     ]
    }
   ],
   "source": [
    "print('With original image labels')\n",
    "# run model with all features data of MVSA-Multiple\n",
    "mvsa_multiple_hitories = []\n",
    "mvsa_multiple_score = []\n",
    "for i in range(len(pretrained_names)):\n",
    "    print('MVSA-Multiple:', pretrained_names[i])\n",
    "    history, scores = run_and_evaluate('multiple-' + pretrained_names[i], mvsa_multiple_features[i], mvsa_multiple_image_labels, verbose=0)\n",
    "    mvsa_multiple_hitories.append(history)\n",
    "    mvsa_multiple_score.append(scores)\n",
    "    print()\n",
    "    \n",
    "df_multiple_scores = pd.DataFrame(mvsa_multiple_score, columns=['Loss', 'Accuracy', 'F1-score'], index=pretrained_names)"
   ]
  },
  {
   "cell_type": "code",
   "execution_count": 19,
   "id": "24282bbd",
   "metadata": {
    "execution": {
     "iopub.execute_input": "2022-06-30T20:34:59.390538Z",
     "iopub.status.busy": "2022-06-30T20:34:59.390225Z",
     "iopub.status.idle": "2022-06-30T20:34:59.397114Z",
     "shell.execute_reply": "2022-06-30T20:34:59.396058Z"
    },
    "papermill": {
     "duration": 0.020241,
     "end_time": "2022-06-30T20:34:59.399366",
     "exception": false,
     "start_time": "2022-06-30T20:34:59.379125",
     "status": "completed"
    },
    "tags": []
   },
   "outputs": [],
   "source": [
    "mvsa_average_scores = np.mean([mvsa_single_score, mvsa_multiple_score], axis=0)\n",
    "df_average_scores = pd.DataFrame(mvsa_average_scores, columns=['Loss', 'Accuracy', 'F1-score'], index=pretrained_names)"
   ]
  },
  {
   "cell_type": "code",
   "execution_count": 20,
   "id": "0ebe0e3c",
   "metadata": {
    "execution": {
     "iopub.execute_input": "2022-06-30T20:34:59.420163Z",
     "iopub.status.busy": "2022-06-30T20:34:59.419844Z",
     "iopub.status.idle": "2022-06-30T20:34:59.528558Z",
     "shell.execute_reply": "2022-06-30T20:34:59.527470Z"
    },
    "papermill": {
     "duration": 0.121487,
     "end_time": "2022-06-30T20:34:59.530729",
     "exception": false,
     "start_time": "2022-06-30T20:34:59.409242",
     "status": "completed"
    },
    "tags": []
   },
   "outputs": [
    {
     "name": "stdout",
     "output_type": "stream",
     "text": [
      "With original image labels\n",
      "\n"
     ]
    },
    {
     "data": {
      "text/html": [
       "<table style=\"display:inline\"><tr><td style=\"text-align:center\">MVSA-Single</td><td style=\"text-align:center\">MVSA-Multiple</td><td style=\"text-align:center\">Average</td></tr><tr><td style=\"vertical-align:top\"> <style type=\"text/css\">\n",
       "#T_e5d7f_row1_col0 {\n",
       "  color: darkgreen;\n",
       "}\n",
       "#T_e5d7f_row4_col0 {\n",
       "  color: tomato;\n",
       "}\n",
       "#T_e5d7f_row4_col1, #T_e5d7f_row4_col2, #T_e5d7f_row5_col1, #T_e5d7f_row5_col2 {\n",
       "  color: chartreuse;\n",
       "}\n",
       "</style>\n",
       "<table style=\"display:inline\" id=\"T_e5d7f_\">\n",
       "  <thead>\n",
       "    <tr>\n",
       "      <th class=\"blank level0\" >&nbsp;</th>\n",
       "      <th class=\"col_heading level0 col0\" >Loss</th>\n",
       "      <th class=\"col_heading level0 col1\" >Accuracy</th>\n",
       "      <th class=\"col_heading level0 col2\" >F1-score</th>\n",
       "    </tr>\n",
       "  </thead>\n",
       "  <tbody>\n",
       "    <tr>\n",
       "      <th id=\"T_e5d7f_level0_row0\" class=\"row_heading level0 row0\" >vgg16</th>\n",
       "      <td id=\"T_e5d7f_row0_col0\" class=\"data row0 col0\" >0.865558</td>\n",
       "      <td id=\"T_e5d7f_row0_col1\" class=\"data row0 col1\" >0.577726</td>\n",
       "      <td id=\"T_e5d7f_row0_col2\" class=\"data row0 col2\" >0.507918</td>\n",
       "    </tr>\n",
       "    <tr>\n",
       "      <th id=\"T_e5d7f_level0_row1\" class=\"row_heading level0 row1\" >vgg19</th>\n",
       "      <td id=\"T_e5d7f_row1_col0\" class=\"data row1 col0\" >0.859385</td>\n",
       "      <td id=\"T_e5d7f_row1_col1\" class=\"data row1 col1\" >0.580046</td>\n",
       "      <td id=\"T_e5d7f_row1_col2\" class=\"data row1 col2\" >0.506684</td>\n",
       "    </tr>\n",
       "    <tr>\n",
       "      <th id=\"T_e5d7f_level0_row2\" class=\"row_heading level0 row2\" >resnet50</th>\n",
       "      <td id=\"T_e5d7f_row2_col0\" class=\"data row2 col0\" >0.930690</td>\n",
       "      <td id=\"T_e5d7f_row2_col1\" class=\"data row2 col1\" >0.580046</td>\n",
       "      <td id=\"T_e5d7f_row2_col2\" class=\"data row2 col2\" >0.357222</td>\n",
       "    </tr>\n",
       "    <tr>\n",
       "      <th id=\"T_e5d7f_level0_row3\" class=\"row_heading level0 row3\" >resnet101</th>\n",
       "      <td id=\"T_e5d7f_row3_col0\" class=\"data row3 col0\" >0.927502</td>\n",
       "      <td id=\"T_e5d7f_row3_col1\" class=\"data row3 col1\" >0.577726</td>\n",
       "      <td id=\"T_e5d7f_row3_col2\" class=\"data row3 col2\" >0.359888</td>\n",
       "    </tr>\n",
       "    <tr>\n",
       "      <th id=\"T_e5d7f_level0_row4\" class=\"row_heading level0 row4\" >resnet152</th>\n",
       "      <td id=\"T_e5d7f_row4_col0\" class=\"data row4 col0\" >0.958335</td>\n",
       "      <td id=\"T_e5d7f_row4_col1\" class=\"data row4 col1\" >0.561485</td>\n",
       "      <td id=\"T_e5d7f_row4_col2\" class=\"data row4 col2\" >0.306116</td>\n",
       "    </tr>\n",
       "    <tr>\n",
       "      <th id=\"T_e5d7f_level0_row5\" class=\"row_heading level0 row5\" >densenet121</th>\n",
       "      <td id=\"T_e5d7f_row5_col0\" class=\"data row5 col0\" >0.907156</td>\n",
       "      <td id=\"T_e5d7f_row5_col1\" class=\"data row5 col1\" >0.605568</td>\n",
       "      <td id=\"T_e5d7f_row5_col2\" class=\"data row5 col2\" >0.534249</td>\n",
       "    </tr>\n",
       "    <tr>\n",
       "      <th id=\"T_e5d7f_level0_row6\" class=\"row_heading level0 row6\" >densenet169</th>\n",
       "      <td id=\"T_e5d7f_row6_col0\" class=\"data row6 col0\" >0.928015</td>\n",
       "      <td id=\"T_e5d7f_row6_col1\" class=\"data row6 col1\" >0.577726</td>\n",
       "      <td id=\"T_e5d7f_row6_col2\" class=\"data row6 col2\" >0.525611</td>\n",
       "    </tr>\n",
       "    <tr>\n",
       "      <th id=\"T_e5d7f_level0_row7\" class=\"row_heading level0 row7\" >densenet201</th>\n",
       "      <td id=\"T_e5d7f_row7_col0\" class=\"data row7 col0\" >0.864275</td>\n",
       "      <td id=\"T_e5d7f_row7_col1\" class=\"data row7 col1\" >0.596288</td>\n",
       "      <td id=\"T_e5d7f_row7_col2\" class=\"data row7 col2\" >0.532402</td>\n",
       "    </tr>\n",
       "  </tbody>\n",
       "</table style=\"display:inline\">\n",
       "</td><td style=\"vertical-align:top\"> <style type=\"text/css\">\n",
       "#T_9b1bb_row0_col0 {\n",
       "  color: tomato;\n",
       "}\n",
       "#T_9b1bb_row3_col1, #T_9b1bb_row3_col2, #T_9b1bb_row7_col1, #T_9b1bb_row7_col2 {\n",
       "  color: chartreuse;\n",
       "}\n",
       "#T_9b1bb_row6_col0 {\n",
       "  color: darkgreen;\n",
       "}\n",
       "</style>\n",
       "<table style=\"display:inline\" id=\"T_9b1bb_\">\n",
       "  <thead>\n",
       "    <tr>\n",
       "      <th class=\"blank level0\" >&nbsp;</th>\n",
       "      <th class=\"col_heading level0 col0\" >Loss</th>\n",
       "      <th class=\"col_heading level0 col1\" >Accuracy</th>\n",
       "      <th class=\"col_heading level0 col2\" >F1-score</th>\n",
       "    </tr>\n",
       "  </thead>\n",
       "  <tbody>\n",
       "    <tr>\n",
       "      <th id=\"T_9b1bb_level0_row0\" class=\"row_heading level0 row0\" >vgg16</th>\n",
       "      <td id=\"T_9b1bb_row0_col0\" class=\"data row0 col0\" >0.924527</td>\n",
       "      <td id=\"T_9b1bb_row0_col1\" class=\"data row0 col1\" >0.548230</td>\n",
       "      <td id=\"T_9b1bb_row0_col2\" class=\"data row0 col2\" >0.341859</td>\n",
       "    </tr>\n",
       "    <tr>\n",
       "      <th id=\"T_9b1bb_level0_row1\" class=\"row_heading level0 row1\" >vgg19</th>\n",
       "      <td id=\"T_9b1bb_row1_col0\" class=\"data row1 col0\" >0.913936</td>\n",
       "      <td id=\"T_9b1bb_row1_col1\" class=\"data row1 col1\" >0.571429</td>\n",
       "      <td id=\"T_9b1bb_row1_col2\" class=\"data row1 col2\" >0.342045</td>\n",
       "    </tr>\n",
       "    <tr>\n",
       "      <th id=\"T_9b1bb_level0_row2\" class=\"row_heading level0 row2\" >resnet50</th>\n",
       "      <td id=\"T_9b1bb_row2_col0\" class=\"data row2 col0\" >0.911810</td>\n",
       "      <td id=\"T_9b1bb_row2_col1\" class=\"data row2 col1\" >0.554945</td>\n",
       "      <td id=\"T_9b1bb_row2_col2\" class=\"data row2 col2\" >0.295329</td>\n",
       "    </tr>\n",
       "    <tr>\n",
       "      <th id=\"T_9b1bb_level0_row3\" class=\"row_heading level0 row3\" >resnet101</th>\n",
       "      <td id=\"T_9b1bb_row3_col0\" class=\"data row3 col0\" >0.923054</td>\n",
       "      <td id=\"T_9b1bb_row3_col1\" class=\"data row3 col1\" >0.547009</td>\n",
       "      <td id=\"T_9b1bb_row3_col2\" class=\"data row3 col2\" >0.275689</td>\n",
       "    </tr>\n",
       "    <tr>\n",
       "      <th id=\"T_9b1bb_level0_row4\" class=\"row_heading level0 row4\" >resnet152</th>\n",
       "      <td id=\"T_9b1bb_row4_col0\" class=\"data row4 col0\" >0.919318</td>\n",
       "      <td id=\"T_9b1bb_row4_col1\" class=\"data row4 col1\" >0.550672</td>\n",
       "      <td id=\"T_9b1bb_row4_col2\" class=\"data row4 col2\" >0.277057</td>\n",
       "    </tr>\n",
       "    <tr>\n",
       "      <th id=\"T_9b1bb_level0_row5\" class=\"row_heading level0 row5\" >densenet121</th>\n",
       "      <td id=\"T_9b1bb_row5_col0\" class=\"data row5 col0\" >0.894839</td>\n",
       "      <td id=\"T_9b1bb_row5_col1\" class=\"data row5 col1\" >0.564103</td>\n",
       "      <td id=\"T_9b1bb_row5_col2\" class=\"data row5 col2\" >0.389833</td>\n",
       "    </tr>\n",
       "    <tr>\n",
       "      <th id=\"T_9b1bb_level0_row6\" class=\"row_heading level0 row6\" >densenet169</th>\n",
       "      <td id=\"T_9b1bb_row6_col0\" class=\"data row6 col0\" >0.889975</td>\n",
       "      <td id=\"T_9b1bb_row6_col1\" class=\"data row6 col1\" >0.567766</td>\n",
       "      <td id=\"T_9b1bb_row6_col2\" class=\"data row6 col2\" >0.382899</td>\n",
       "    </tr>\n",
       "    <tr>\n",
       "      <th id=\"T_9b1bb_level0_row7\" class=\"row_heading level0 row7\" >densenet201</th>\n",
       "      <td id=\"T_9b1bb_row7_col0\" class=\"data row7 col0\" >0.897645</td>\n",
       "      <td id=\"T_9b1bb_row7_col1\" class=\"data row7 col1\" >0.581197</td>\n",
       "      <td id=\"T_9b1bb_row7_col2\" class=\"data row7 col2\" >0.394521</td>\n",
       "    </tr>\n",
       "  </tbody>\n",
       "</table style=\"display:inline\">\n",
       "</td><td style=\"vertical-align:top\"> <style type=\"text/css\">\n",
       "#T_11859_row4_col0 {\n",
       "  color: tomato;\n",
       "}\n",
       "#T_11859_row4_col1, #T_11859_row4_col2, #T_11859_row7_col1, #T_11859_row7_col2 {\n",
       "  color: chartreuse;\n",
       "}\n",
       "#T_11859_row7_col0 {\n",
       "  color: darkgreen;\n",
       "}\n",
       "</style>\n",
       "<table style=\"display:inline\" id=\"T_11859_\">\n",
       "  <thead>\n",
       "    <tr>\n",
       "      <th class=\"blank level0\" >&nbsp;</th>\n",
       "      <th class=\"col_heading level0 col0\" >Loss</th>\n",
       "      <th class=\"col_heading level0 col1\" >Accuracy</th>\n",
       "      <th class=\"col_heading level0 col2\" >F1-score</th>\n",
       "    </tr>\n",
       "  </thead>\n",
       "  <tbody>\n",
       "    <tr>\n",
       "      <th id=\"T_11859_level0_row0\" class=\"row_heading level0 row0\" >vgg16</th>\n",
       "      <td id=\"T_11859_row0_col0\" class=\"data row0 col0\" >0.895043</td>\n",
       "      <td id=\"T_11859_row0_col1\" class=\"data row0 col1\" >0.562978</td>\n",
       "      <td id=\"T_11859_row0_col2\" class=\"data row0 col2\" >0.424888</td>\n",
       "    </tr>\n",
       "    <tr>\n",
       "      <th id=\"T_11859_level0_row1\" class=\"row_heading level0 row1\" >vgg19</th>\n",
       "      <td id=\"T_11859_row1_col0\" class=\"data row1 col0\" >0.886660</td>\n",
       "      <td id=\"T_11859_row1_col1\" class=\"data row1 col1\" >0.575738</td>\n",
       "      <td id=\"T_11859_row1_col2\" class=\"data row1 col2\" >0.424364</td>\n",
       "    </tr>\n",
       "    <tr>\n",
       "      <th id=\"T_11859_level0_row2\" class=\"row_heading level0 row2\" >resnet50</th>\n",
       "      <td id=\"T_11859_row2_col0\" class=\"data row2 col0\" >0.921250</td>\n",
       "      <td id=\"T_11859_row2_col1\" class=\"data row2 col1\" >0.567496</td>\n",
       "      <td id=\"T_11859_row2_col2\" class=\"data row2 col2\" >0.326275</td>\n",
       "    </tr>\n",
       "    <tr>\n",
       "      <th id=\"T_11859_level0_row3\" class=\"row_heading level0 row3\" >resnet101</th>\n",
       "      <td id=\"T_11859_row3_col0\" class=\"data row3 col0\" >0.925278</td>\n",
       "      <td id=\"T_11859_row3_col1\" class=\"data row3 col1\" >0.562367</td>\n",
       "      <td id=\"T_11859_row3_col2\" class=\"data row3 col2\" >0.317788</td>\n",
       "    </tr>\n",
       "    <tr>\n",
       "      <th id=\"T_11859_level0_row4\" class=\"row_heading level0 row4\" >resnet152</th>\n",
       "      <td id=\"T_11859_row4_col0\" class=\"data row4 col0\" >0.938826</td>\n",
       "      <td id=\"T_11859_row4_col1\" class=\"data row4 col1\" >0.556078</td>\n",
       "      <td id=\"T_11859_row4_col2\" class=\"data row4 col2\" >0.291586</td>\n",
       "    </tr>\n",
       "    <tr>\n",
       "      <th id=\"T_11859_level0_row5\" class=\"row_heading level0 row5\" >densenet121</th>\n",
       "      <td id=\"T_11859_row5_col0\" class=\"data row5 col0\" >0.900998</td>\n",
       "      <td id=\"T_11859_row5_col1\" class=\"data row5 col1\" >0.584836</td>\n",
       "      <td id=\"T_11859_row5_col2\" class=\"data row5 col2\" >0.462041</td>\n",
       "    </tr>\n",
       "    <tr>\n",
       "      <th id=\"T_11859_level0_row6\" class=\"row_heading level0 row6\" >densenet169</th>\n",
       "      <td id=\"T_11859_row6_col0\" class=\"data row6 col0\" >0.908995</td>\n",
       "      <td id=\"T_11859_row6_col1\" class=\"data row6 col1\" >0.572746</td>\n",
       "      <td id=\"T_11859_row6_col2\" class=\"data row6 col2\" >0.454255</td>\n",
       "    </tr>\n",
       "    <tr>\n",
       "      <th id=\"T_11859_level0_row7\" class=\"row_heading level0 row7\" >densenet201</th>\n",
       "      <td id=\"T_11859_row7_col0\" class=\"data row7 col0\" >0.880960</td>\n",
       "      <td id=\"T_11859_row7_col1\" class=\"data row7 col1\" >0.588742</td>\n",
       "      <td id=\"T_11859_row7_col2\" class=\"data row7 col2\" >0.463461</td>\n",
       "    </tr>\n",
       "  </tbody>\n",
       "</table style=\"display:inline\">\n",
       "</td></tr></table style=\"display:inline\">"
      ]
     },
     "metadata": {},
     "output_type": "display_data"
    }
   ],
   "source": [
    "print('With original image labels\\n')\n",
    "display_dataframes((style_dataframe(df_single_scores), style_dataframe(df_multiple_scores), style_dataframe(df_average_scores)), \n",
    "                   names=['MVSA-Single', 'MVSA-Multiple', 'Average'])"
   ]
  },
  {
   "cell_type": "markdown",
   "id": "ce9ef7c9",
   "metadata": {
    "papermill": {
     "duration": 0.009927,
     "end_time": "2022-06-30T20:34:59.551429",
     "exception": false,
     "start_time": "2022-06-30T20:34:59.541502",
     "status": "completed"
    },
    "tags": []
   },
   "source": [
    "## With multimodal labels"
   ]
  },
  {
   "cell_type": "code",
   "execution_count": 21,
   "id": "251ed36c",
   "metadata": {
    "execution": {
     "iopub.execute_input": "2022-06-30T20:34:59.573973Z",
     "iopub.status.busy": "2022-06-30T20:34:59.572359Z",
     "iopub.status.idle": "2022-06-30T20:35:28.539962Z",
     "shell.execute_reply": "2022-06-30T20:35:28.538846Z"
    },
    "papermill": {
     "duration": 28.981127,
     "end_time": "2022-06-30T20:35:28.542391",
     "exception": false,
     "start_time": "2022-06-30T20:34:59.561264",
     "status": "completed"
    },
    "tags": []
   },
   "outputs": [
    {
     "name": "stdout",
     "output_type": "stream",
     "text": [
      "With multimodal labels\n",
      "MVSA-Single: vgg16\n",
      "Checkpoint loaded at epoch: 6\n",
      "\n",
      "MVSA-Single: vgg19\n",
      "Checkpoint loaded at epoch: 3\n",
      "\n",
      "MVSA-Single: resnet50\n",
      "Checkpoint loaded at epoch: 12\n",
      "\n",
      "MVSA-Single: resnet101\n",
      "Checkpoint loaded at epoch: 12\n",
      "\n",
      "MVSA-Single: resnet152\n",
      "Checkpoint loaded at epoch: 18\n",
      "\n",
      "MVSA-Single: densenet121\n",
      "Checkpoint loaded at epoch: 12\n",
      "\n",
      "MVSA-Single: densenet169\n",
      "Checkpoint loaded at epoch: 2\n",
      "\n",
      "MVSA-Single: densenet201\n",
      "Checkpoint loaded at epoch: 4\n",
      "\n"
     ]
    }
   ],
   "source": [
    "print('With multimodal labels')\n",
    "\n",
    "# run model with all features data of MVSA-Single\n",
    "mvsa_single_hitories2 = []\n",
    "mvsa_single_score2 = []\n",
    "for i in range(len(pretrained_names)):\n",
    "    print('MVSA-Single:', pretrained_names[i])\n",
    "    history, scores = run_and_evaluate('single-' + pretrained_names[i], mvsa_single_features[i], mvsa_single_multimodal_labels, verbose=0)\n",
    "    mvsa_single_hitories2.append(history)\n",
    "    mvsa_single_score2.append(scores)\n",
    "    print()\n",
    "    \n",
    "df_single_scores2 = pd.DataFrame(mvsa_single_score2, columns=['Loss', 'Accuracy', 'F1-score'], index=pretrained_names)"
   ]
  },
  {
   "cell_type": "code",
   "execution_count": 22,
   "id": "4f3e35a2",
   "metadata": {
    "execution": {
     "iopub.execute_input": "2022-06-30T20:35:28.567967Z",
     "iopub.status.busy": "2022-06-30T20:35:28.566270Z",
     "iopub.status.idle": "2022-06-30T20:36:38.534252Z",
     "shell.execute_reply": "2022-06-30T20:36:38.533028Z"
    },
    "papermill": {
     "duration": 69.982901,
     "end_time": "2022-06-30T20:36:38.537097",
     "exception": false,
     "start_time": "2022-06-30T20:35:28.554196",
     "status": "completed"
    },
    "tags": []
   },
   "outputs": [
    {
     "name": "stdout",
     "output_type": "stream",
     "text": [
      "With multimodal labels\n",
      "MVSA-Multiple: vgg16\n",
      "Checkpoint loaded at epoch: 8\n",
      "\n",
      "MVSA-Multiple: vgg19\n",
      "Checkpoint loaded at epoch: 8\n",
      "\n",
      "MVSA-Multiple: resnet50\n",
      "Checkpoint loaded at epoch: 8\n",
      "\n",
      "MVSA-Multiple: resnet101\n",
      "Checkpoint loaded at epoch: 10\n",
      "\n",
      "MVSA-Multiple: resnet152\n",
      "Checkpoint loaded at epoch: 10\n",
      "\n",
      "MVSA-Multiple: densenet121\n",
      "Checkpoint loaded at epoch: 6\n",
      "\n",
      "MVSA-Multiple: densenet169\n",
      "Checkpoint loaded at epoch: 6\n",
      "\n",
      "MVSA-Multiple: densenet201\n",
      "Checkpoint loaded at epoch: 3\n",
      "\n"
     ]
    }
   ],
   "source": [
    "print('With multimodal labels')\n",
    "# run model with all features data of MVSA-Multiple\n",
    "mvsa_multiple_hitories2 = []\n",
    "mvsa_multiple_score2 = []\n",
    "for i in range(len(pretrained_names)):\n",
    "    print('MVSA-Multiple:', pretrained_names[i])\n",
    "    history, scores = run_and_evaluate('multiple-' + pretrained_names[i], mvsa_multiple_features[i], mvsa_multiple_multimodal_labels, verbose=0)\n",
    "    mvsa_multiple_hitories2.append(history)\n",
    "    mvsa_multiple_score2.append(scores)\n",
    "    print()\n",
    "    \n",
    "df_multiple_scores2 = pd.DataFrame(mvsa_multiple_score2, columns=['Loss', 'Accuracy', 'F1-score'], index=pretrained_names)"
   ]
  },
  {
   "cell_type": "code",
   "execution_count": 23,
   "id": "88843a72",
   "metadata": {
    "execution": {
     "iopub.execute_input": "2022-06-30T20:36:38.565293Z",
     "iopub.status.busy": "2022-06-30T20:36:38.564376Z",
     "iopub.status.idle": "2022-06-30T20:36:38.571139Z",
     "shell.execute_reply": "2022-06-30T20:36:38.569976Z"
    },
    "papermill": {
     "duration": 0.023416,
     "end_time": "2022-06-30T20:36:38.573274",
     "exception": false,
     "start_time": "2022-06-30T20:36:38.549858",
     "status": "completed"
    },
    "tags": []
   },
   "outputs": [],
   "source": [
    "mvsa_average_scores2 = np.mean([mvsa_single_score2, mvsa_multiple_score2], axis=0)\n",
    "df_average_scores2 = pd.DataFrame(mvsa_average_scores2, columns=['Loss', 'Accuracy', 'F1-score'], index=pretrained_names)"
   ]
  },
  {
   "cell_type": "code",
   "execution_count": 24,
   "id": "93d870ef",
   "metadata": {
    "execution": {
     "iopub.execute_input": "2022-06-30T20:36:38.600054Z",
     "iopub.status.busy": "2022-06-30T20:36:38.599691Z",
     "iopub.status.idle": "2022-06-30T20:36:38.654599Z",
     "shell.execute_reply": "2022-06-30T20:36:38.653254Z"
    },
    "papermill": {
     "duration": 0.070611,
     "end_time": "2022-06-30T20:36:38.656882",
     "exception": false,
     "start_time": "2022-06-30T20:36:38.586271",
     "status": "completed"
    },
    "tags": []
   },
   "outputs": [
    {
     "name": "stdout",
     "output_type": "stream",
     "text": [
      "With multimodal labels\n",
      "\n"
     ]
    },
    {
     "data": {
      "text/html": [
       "<table style=\"display:inline\"><tr><td style=\"text-align:center\">MVSA-Single</td><td style=\"text-align:center\">MVSA-Multiple</td><td style=\"text-align:center\">Average</td></tr><tr><td style=\"vertical-align:top\"> <style type=\"text/css\">\n",
       "#T_2ff30_row0_col1, #T_2ff30_row4_col2, #T_2ff30_row5_col2, #T_2ff30_row7_col1 {\n",
       "  color: chartreuse;\n",
       "}\n",
       "#T_2ff30_row1_col0 {\n",
       "  color: darkgreen;\n",
       "}\n",
       "#T_2ff30_row6_col0 {\n",
       "  color: tomato;\n",
       "}\n",
       "</style>\n",
       "<table style=\"display:inline\" id=\"T_2ff30_\">\n",
       "  <thead>\n",
       "    <tr>\n",
       "      <th class=\"blank level0\" >&nbsp;</th>\n",
       "      <th class=\"col_heading level0 col0\" >Loss</th>\n",
       "      <th class=\"col_heading level0 col1\" >Accuracy</th>\n",
       "      <th class=\"col_heading level0 col2\" >F1-score</th>\n",
       "    </tr>\n",
       "  </thead>\n",
       "  <tbody>\n",
       "    <tr>\n",
       "      <th id=\"T_2ff30_level0_row0\" class=\"row_heading level0 row0\" >vgg16</th>\n",
       "      <td id=\"T_2ff30_row0_col0\" class=\"data row0 col0\" >0.760666</td>\n",
       "      <td id=\"T_2ff30_row0_col1\" class=\"data row0 col1\" >0.628770</td>\n",
       "      <td id=\"T_2ff30_row0_col2\" class=\"data row0 col2\" >0.359501</td>\n",
       "    </tr>\n",
       "    <tr>\n",
       "      <th id=\"T_2ff30_level0_row1\" class=\"row_heading level0 row1\" >vgg19</th>\n",
       "      <td id=\"T_2ff30_row1_col0\" class=\"data row1 col0\" >0.757656</td>\n",
       "      <td id=\"T_2ff30_row1_col1\" class=\"data row1 col1\" >0.617169</td>\n",
       "      <td id=\"T_2ff30_row1_col2\" class=\"data row1 col2\" >0.363505</td>\n",
       "    </tr>\n",
       "    <tr>\n",
       "      <th id=\"T_2ff30_level0_row2\" class=\"row_heading level0 row2\" >resnet50</th>\n",
       "      <td id=\"T_2ff30_row2_col0\" class=\"data row2 col0\" >0.796381</td>\n",
       "      <td id=\"T_2ff30_row2_col1\" class=\"data row2 col1\" >0.610209</td>\n",
       "      <td id=\"T_2ff30_row2_col2\" class=\"data row2 col2\" >0.265377</td>\n",
       "    </tr>\n",
       "    <tr>\n",
       "      <th id=\"T_2ff30_level0_row3\" class=\"row_heading level0 row3\" >resnet101</th>\n",
       "      <td id=\"T_2ff30_row3_col0\" class=\"data row3 col0\" >0.803058</td>\n",
       "      <td id=\"T_2ff30_row3_col1\" class=\"data row3 col1\" >0.612529</td>\n",
       "      <td id=\"T_2ff30_row3_col2\" class=\"data row3 col2\" >0.265698</td>\n",
       "    </tr>\n",
       "    <tr>\n",
       "      <th id=\"T_2ff30_level0_row4\" class=\"row_heading level0 row4\" >resnet152</th>\n",
       "      <td id=\"T_2ff30_row4_col0\" class=\"data row4 col0\" >0.817103</td>\n",
       "      <td id=\"T_2ff30_row4_col1\" class=\"data row4 col1\" >0.603248</td>\n",
       "      <td id=\"T_2ff30_row4_col2\" class=\"data row4 col2\" >0.255413</td>\n",
       "    </tr>\n",
       "    <tr>\n",
       "      <th id=\"T_2ff30_level0_row5\" class=\"row_heading level0 row5\" >densenet121</th>\n",
       "      <td id=\"T_2ff30_row5_col0\" class=\"data row5 col0\" >0.835543</td>\n",
       "      <td id=\"T_2ff30_row5_col1\" class=\"data row5 col1\" >0.591647</td>\n",
       "      <td id=\"T_2ff30_row5_col2\" class=\"data row5 col2\" >0.403237</td>\n",
       "    </tr>\n",
       "    <tr>\n",
       "      <th id=\"T_2ff30_level0_row6\" class=\"row_heading level0 row6\" >densenet169</th>\n",
       "      <td id=\"T_2ff30_row6_col0\" class=\"data row6 col0\" >0.840911</td>\n",
       "      <td id=\"T_2ff30_row6_col1\" class=\"data row6 col1\" >0.598608</td>\n",
       "      <td id=\"T_2ff30_row6_col2\" class=\"data row6 col2\" >0.381247</td>\n",
       "    </tr>\n",
       "    <tr>\n",
       "      <th id=\"T_2ff30_level0_row7\" class=\"row_heading level0 row7\" >densenet201</th>\n",
       "      <td id=\"T_2ff30_row7_col0\" class=\"data row7 col0\" >0.831024</td>\n",
       "      <td id=\"T_2ff30_row7_col1\" class=\"data row7 col1\" >0.587007</td>\n",
       "      <td id=\"T_2ff30_row7_col2\" class=\"data row7 col2\" >0.373235</td>\n",
       "    </tr>\n",
       "  </tbody>\n",
       "</table style=\"display:inline\">\n",
       "</td><td style=\"vertical-align:top\"> <style type=\"text/css\">\n",
       "#T_15a60_row1_col1, #T_15a60_row3_col2, #T_15a60_row4_col2, #T_15a60_row5_col2, #T_15a60_row6_col1 {\n",
       "  color: chartreuse;\n",
       "}\n",
       "#T_15a60_row4_col0 {\n",
       "  color: tomato;\n",
       "}\n",
       "#T_15a60_row7_col0 {\n",
       "  color: darkgreen;\n",
       "}\n",
       "</style>\n",
       "<table style=\"display:inline\" id=\"T_15a60_\">\n",
       "  <thead>\n",
       "    <tr>\n",
       "      <th class=\"blank level0\" >&nbsp;</th>\n",
       "      <th class=\"col_heading level0 col0\" >Loss</th>\n",
       "      <th class=\"col_heading level0 col1\" >Accuracy</th>\n",
       "      <th class=\"col_heading level0 col2\" >F1-score</th>\n",
       "    </tr>\n",
       "  </thead>\n",
       "  <tbody>\n",
       "    <tr>\n",
       "      <th id=\"T_15a60_level0_row0\" class=\"row_heading level0 row0\" >vgg16</th>\n",
       "      <td id=\"T_15a60_row0_col0\" class=\"data row0 col0\" >0.891924</td>\n",
       "      <td id=\"T_15a60_row0_col1\" class=\"data row0 col1\" >0.638584</td>\n",
       "      <td id=\"T_15a60_row0_col2\" class=\"data row0 col2\" >0.266500</td>\n",
       "    </tr>\n",
       "    <tr>\n",
       "      <th id=\"T_15a60_level0_row1\" class=\"row_heading level0 row1\" >vgg19</th>\n",
       "      <td id=\"T_15a60_row1_col0\" class=\"data row1 col0\" >0.901875</td>\n",
       "      <td id=\"T_15a60_row1_col1\" class=\"data row1 col1\" >0.645910</td>\n",
       "      <td id=\"T_15a60_row1_col2\" class=\"data row1 col2\" >0.282057</td>\n",
       "    </tr>\n",
       "    <tr>\n",
       "      <th id=\"T_15a60_level0_row2\" class=\"row_heading level0 row2\" >resnet50</th>\n",
       "      <td id=\"T_15a60_row2_col0\" class=\"data row2 col0\" >0.903102</td>\n",
       "      <td id=\"T_15a60_row2_col1\" class=\"data row2 col1\" >0.639805</td>\n",
       "      <td id=\"T_15a60_row2_col2\" class=\"data row2 col2\" >0.263347</td>\n",
       "    </tr>\n",
       "    <tr>\n",
       "      <th id=\"T_15a60_level0_row3\" class=\"row_heading level0 row3\" >resnet101</th>\n",
       "      <td id=\"T_15a60_row3_col0\" class=\"data row3 col0\" >0.905602</td>\n",
       "      <td id=\"T_15a60_row3_col1\" class=\"data row3 col1\" >0.639805</td>\n",
       "      <td id=\"T_15a60_row3_col2\" class=\"data row3 col2\" >0.260114</td>\n",
       "    </tr>\n",
       "    <tr>\n",
       "      <th id=\"T_15a60_level0_row4\" class=\"row_heading level0 row4\" >resnet152</th>\n",
       "      <td id=\"T_15a60_row4_col0\" class=\"data row4 col0\" >0.905639</td>\n",
       "      <td id=\"T_15a60_row4_col1\" class=\"data row4 col1\" >0.639805</td>\n",
       "      <td id=\"T_15a60_row4_col2\" class=\"data row4 col2\" >0.260114</td>\n",
       "    </tr>\n",
       "    <tr>\n",
       "      <th id=\"T_15a60_level0_row5\" class=\"row_heading level0 row5\" >densenet121</th>\n",
       "      <td id=\"T_15a60_row5_col0\" class=\"data row5 col0\" >0.891714</td>\n",
       "      <td id=\"T_15a60_row5_col1\" class=\"data row5 col1\" >0.630647</td>\n",
       "      <td id=\"T_15a60_row5_col2\" class=\"data row5 col2\" >0.344975</td>\n",
       "    </tr>\n",
       "    <tr>\n",
       "      <th id=\"T_15a60_level0_row6\" class=\"row_heading level0 row6\" >densenet169</th>\n",
       "      <td id=\"T_15a60_row6_col0\" class=\"data row6 col0\" >0.877630</td>\n",
       "      <td id=\"T_15a60_row6_col1\" class=\"data row6 col1\" >0.626374</td>\n",
       "      <td id=\"T_15a60_row6_col2\" class=\"data row6 col2\" >0.328102</td>\n",
       "    </tr>\n",
       "    <tr>\n",
       "      <th id=\"T_15a60_level0_row7\" class=\"row_heading level0 row7\" >densenet201</th>\n",
       "      <td id=\"T_15a60_row7_col0\" class=\"data row7 col0\" >0.866111</td>\n",
       "      <td id=\"T_15a60_row7_col1\" class=\"data row7 col1\" >0.634310</td>\n",
       "      <td id=\"T_15a60_row7_col2\" class=\"data row7 col2\" >0.337450</td>\n",
       "    </tr>\n",
       "  </tbody>\n",
       "</table style=\"display:inline\">\n",
       "</td><td style=\"vertical-align:top\"> <style type=\"text/css\">\n",
       "#T_faee3_row0_col0 {\n",
       "  color: darkgreen;\n",
       "}\n",
       "#T_faee3_row0_col1, #T_faee3_row4_col2, #T_faee3_row5_col2, #T_faee3_row7_col1 {\n",
       "  color: chartreuse;\n",
       "}\n",
       "#T_faee3_row5_col0 {\n",
       "  color: tomato;\n",
       "}\n",
       "</style>\n",
       "<table style=\"display:inline\" id=\"T_faee3_\">\n",
       "  <thead>\n",
       "    <tr>\n",
       "      <th class=\"blank level0\" >&nbsp;</th>\n",
       "      <th class=\"col_heading level0 col0\" >Loss</th>\n",
       "      <th class=\"col_heading level0 col1\" >Accuracy</th>\n",
       "      <th class=\"col_heading level0 col2\" >F1-score</th>\n",
       "    </tr>\n",
       "  </thead>\n",
       "  <tbody>\n",
       "    <tr>\n",
       "      <th id=\"T_faee3_level0_row0\" class=\"row_heading level0 row0\" >vgg16</th>\n",
       "      <td id=\"T_faee3_row0_col0\" class=\"data row0 col0\" >0.826295</td>\n",
       "      <td id=\"T_faee3_row0_col1\" class=\"data row0 col1\" >0.633677</td>\n",
       "      <td id=\"T_faee3_row0_col2\" class=\"data row0 col2\" >0.313000</td>\n",
       "    </tr>\n",
       "    <tr>\n",
       "      <th id=\"T_faee3_level0_row1\" class=\"row_heading level0 row1\" >vgg19</th>\n",
       "      <td id=\"T_faee3_row1_col0\" class=\"data row1 col0\" >0.829766</td>\n",
       "      <td id=\"T_faee3_row1_col1\" class=\"data row1 col1\" >0.631540</td>\n",
       "      <td id=\"T_faee3_row1_col2\" class=\"data row1 col2\" >0.322781</td>\n",
       "    </tr>\n",
       "    <tr>\n",
       "      <th id=\"T_faee3_level0_row2\" class=\"row_heading level0 row2\" >resnet50</th>\n",
       "      <td id=\"T_faee3_row2_col0\" class=\"data row2 col0\" >0.849742</td>\n",
       "      <td id=\"T_faee3_row2_col1\" class=\"data row2 col1\" >0.625007</td>\n",
       "      <td id=\"T_faee3_row2_col2\" class=\"data row2 col2\" >0.264362</td>\n",
       "    </tr>\n",
       "    <tr>\n",
       "      <th id=\"T_faee3_level0_row3\" class=\"row_heading level0 row3\" >resnet101</th>\n",
       "      <td id=\"T_faee3_row3_col0\" class=\"data row3 col0\" >0.854330</td>\n",
       "      <td id=\"T_faee3_row3_col1\" class=\"data row3 col1\" >0.626167</td>\n",
       "      <td id=\"T_faee3_row3_col2\" class=\"data row3 col2\" >0.262906</td>\n",
       "    </tr>\n",
       "    <tr>\n",
       "      <th id=\"T_faee3_level0_row4\" class=\"row_heading level0 row4\" >resnet152</th>\n",
       "      <td id=\"T_faee3_row4_col0\" class=\"data row4 col0\" >0.861371</td>\n",
       "      <td id=\"T_faee3_row4_col1\" class=\"data row4 col1\" >0.621526</td>\n",
       "      <td id=\"T_faee3_row4_col2\" class=\"data row4 col2\" >0.257764</td>\n",
       "    </tr>\n",
       "    <tr>\n",
       "      <th id=\"T_faee3_level0_row5\" class=\"row_heading level0 row5\" >densenet121</th>\n",
       "      <td id=\"T_faee3_row5_col0\" class=\"data row5 col0\" >0.863629</td>\n",
       "      <td id=\"T_faee3_row5_col1\" class=\"data row5 col1\" >0.611147</td>\n",
       "      <td id=\"T_faee3_row5_col2\" class=\"data row5 col2\" >0.374106</td>\n",
       "    </tr>\n",
       "    <tr>\n",
       "      <th id=\"T_faee3_level0_row6\" class=\"row_heading level0 row6\" >densenet169</th>\n",
       "      <td id=\"T_faee3_row6_col0\" class=\"data row6 col0\" >0.859271</td>\n",
       "      <td id=\"T_faee3_row6_col1\" class=\"data row6 col1\" >0.612491</td>\n",
       "      <td id=\"T_faee3_row6_col2\" class=\"data row6 col2\" >0.354674</td>\n",
       "    </tr>\n",
       "    <tr>\n",
       "      <th id=\"T_faee3_level0_row7\" class=\"row_heading level0 row7\" >densenet201</th>\n",
       "      <td id=\"T_faee3_row7_col0\" class=\"data row7 col0\" >0.848567</td>\n",
       "      <td id=\"T_faee3_row7_col1\" class=\"data row7 col1\" >0.610659</td>\n",
       "      <td id=\"T_faee3_row7_col2\" class=\"data row7 col2\" >0.355342</td>\n",
       "    </tr>\n",
       "  </tbody>\n",
       "</table style=\"display:inline\">\n",
       "</td></tr></table style=\"display:inline\">"
      ]
     },
     "metadata": {},
     "output_type": "display_data"
    }
   ],
   "source": [
    "print('With multimodal labels\\n')\n",
    "display_dataframes((style_dataframe(df_single_scores2), style_dataframe(df_multiple_scores2), style_dataframe(df_average_scores2)), \n",
    "                   names=['MVSA-Single', 'MVSA-Multiple', 'Average'])"
   ]
  },
  {
   "cell_type": "markdown",
   "id": "a5bb2d43",
   "metadata": {
    "papermill": {
     "duration": 0.012433,
     "end_time": "2022-06-30T20:36:38.682702",
     "exception": false,
     "start_time": "2022-06-30T20:36:38.670269",
     "status": "completed"
    },
    "tags": []
   },
   "source": [
    "# With merge MVSA data"
   ]
  },
  {
   "cell_type": "code",
   "execution_count": 25,
   "id": "d48d4269",
   "metadata": {
    "execution": {
     "iopub.execute_input": "2022-06-30T20:36:38.715901Z",
     "iopub.status.busy": "2022-06-30T20:36:38.715442Z",
     "iopub.status.idle": "2022-06-30T20:38:03.274934Z",
     "shell.execute_reply": "2022-06-30T20:38:03.273873Z"
    },
    "papermill": {
     "duration": 84.577414,
     "end_time": "2022-06-30T20:38:03.277172",
     "exception": false,
     "start_time": "2022-06-30T20:36:38.699758",
     "status": "completed"
    },
    "tags": []
   },
   "outputs": [
    {
     "name": "stdout",
     "output_type": "stream",
     "text": [
      "With original image labels\n",
      "Both MVSA: vgg16\n",
      "Checkpoint loaded at epoch: 16\n",
      "\n",
      "Both MVSA: vgg19\n",
      "Checkpoint loaded at epoch: 1\n",
      "\n",
      "Both MVSA: resnet50\n",
      "Checkpoint loaded at epoch: 4\n",
      "\n",
      "Both MVSA: resnet101\n",
      "Checkpoint loaded at epoch: 4\n",
      "\n",
      "Both MVSA: resnet152\n",
      "Checkpoint loaded at epoch: 4\n",
      "\n",
      "Both MVSA: densenet121\n",
      "Checkpoint loaded at epoch: 4\n",
      "\n",
      "Both MVSA: densenet169\n",
      "Checkpoint loaded at epoch: 4\n",
      "\n",
      "Both MVSA: densenet201\n",
      "Checkpoint loaded at epoch: 4\n",
      "\n"
     ]
    }
   ],
   "source": [
    "print('With original image labels')\n",
    "mvsa_hitories3 = []\n",
    "mvsa_score3 = []\n",
    "for i in range(len(pretrained_names)):\n",
    "    print('Both MVSA:', pretrained_names[i])\n",
    "    history, scores = run_and_evaluate('single-' + pretrained_names[i], mvsa_features[i], mvsa_image_labels, verbose=0)\n",
    "    mvsa_hitories3.append(history)\n",
    "    mvsa_score3.append(scores)\n",
    "    print()\n",
    "    \n",
    "df_scores3 = pd.DataFrame(mvsa_score3, columns=['Loss', 'Accuracy', 'F1-score'], index=pretrained_names)"
   ]
  },
  {
   "cell_type": "code",
   "execution_count": 26,
   "id": "27074596",
   "metadata": {
    "execution": {
     "iopub.execute_input": "2022-06-30T20:38:03.308800Z",
     "iopub.status.busy": "2022-06-30T20:38:03.307834Z",
     "iopub.status.idle": "2022-06-30T20:39:16.745884Z",
     "shell.execute_reply": "2022-06-30T20:39:16.744807Z"
    },
    "papermill": {
     "duration": 73.455899,
     "end_time": "2022-06-30T20:39:16.748205",
     "exception": false,
     "start_time": "2022-06-30T20:38:03.292306",
     "status": "completed"
    },
    "tags": []
   },
   "outputs": [
    {
     "name": "stdout",
     "output_type": "stream",
     "text": [
      "With multimodal labels\n",
      "Both MVSA: vgg16\n",
      "Checkpoint loaded at epoch: 1\n",
      "\n",
      "Both MVSA: vgg19\n",
      "Checkpoint loaded at epoch: 1\n",
      "\n",
      "Both MVSA: resnet50\n",
      "Checkpoint loaded at epoch: 4\n",
      "\n",
      "Both MVSA: resnet101\n",
      "Checkpoint loaded at epoch: 4\n",
      "\n",
      "Both MVSA: resnet152\n",
      "Checkpoint loaded at epoch: 4\n",
      "\n",
      "Both MVSA: densenet121\n",
      "Checkpoint loaded at epoch: 4\n",
      "\n",
      "Both MVSA: densenet169\n",
      "Checkpoint loaded at epoch: 4\n",
      "\n",
      "Both MVSA: densenet201\n",
      "Checkpoint loaded at epoch: 8\n",
      "\n"
     ]
    }
   ],
   "source": [
    "print('With multimodal labels')\n",
    "mvsa_hitories4 = []\n",
    "mvsa_score4 = []\n",
    "for i in range(len(pretrained_names)):\n",
    "    print('Both MVSA:', pretrained_names[i])\n",
    "    history, scores = run_and_evaluate('single-' + pretrained_names[i], mvsa_features[i], mvsa_multimodal_labels, verbose=0)\n",
    "    mvsa_hitories4.append(history)\n",
    "    mvsa_score4.append(scores)\n",
    "    print()\n",
    "    \n",
    "df_scores4 = pd.DataFrame(mvsa_score4, columns=['Loss', 'Accuracy', 'F1-score'], index=pretrained_names)"
   ]
  },
  {
   "cell_type": "code",
   "execution_count": 27,
   "id": "8963ea50",
   "metadata": {
    "execution": {
     "iopub.execute_input": "2022-06-30T20:39:16.780885Z",
     "iopub.status.busy": "2022-06-30T20:39:16.780534Z",
     "iopub.status.idle": "2022-06-30T20:39:16.815143Z",
     "shell.execute_reply": "2022-06-30T20:39:16.813886Z"
    },
    "papermill": {
     "duration": 0.053465,
     "end_time": "2022-06-30T20:39:16.817371",
     "exception": false,
     "start_time": "2022-06-30T20:39:16.763906",
     "status": "completed"
    },
    "tags": []
   },
   "outputs": [
    {
     "name": "stdout",
     "output_type": "stream",
     "text": [
      "With both MVSA merged together\n",
      "\n"
     ]
    },
    {
     "data": {
      "text/html": [
       "<table style=\"display:inline\"><tr><td style=\"text-align:center\">Original image labels</td><td style=\"text-align:center\">Multimodal labels</td></tr><tr><td style=\"vertical-align:top\"> <style type=\"text/css\">\n",
       "#T_4a8e2_row4_col0 {\n",
       "  color: tomato;\n",
       "}\n",
       "#T_4a8e2_row4_col1, #T_4a8e2_row4_col2, #T_4a8e2_row7_col1, #T_4a8e2_row7_col2 {\n",
       "  color: chartreuse;\n",
       "}\n",
       "#T_4a8e2_row7_col0 {\n",
       "  color: darkgreen;\n",
       "}\n",
       "</style>\n",
       "<table style=\"display:inline\" id=\"T_4a8e2_\">\n",
       "  <thead>\n",
       "    <tr>\n",
       "      <th class=\"blank level0\" >&nbsp;</th>\n",
       "      <th class=\"col_heading level0 col0\" >Loss</th>\n",
       "      <th class=\"col_heading level0 col1\" >Accuracy</th>\n",
       "      <th class=\"col_heading level0 col2\" >F1-score</th>\n",
       "    </tr>\n",
       "  </thead>\n",
       "  <tbody>\n",
       "    <tr>\n",
       "      <th id=\"T_4a8e2_level0_row0\" class=\"row_heading level0 row0\" >vgg16</th>\n",
       "      <td id=\"T_4a8e2_row0_col0\" class=\"data row0 col0\" >0.859472</td>\n",
       "      <td id=\"T_4a8e2_row0_col1\" class=\"data row0 col1\" >0.591787</td>\n",
       "      <td id=\"T_4a8e2_row0_col2\" class=\"data row0 col2\" >0.371622</td>\n",
       "    </tr>\n",
       "    <tr>\n",
       "      <th id=\"T_4a8e2_level0_row1\" class=\"row_heading level0 row1\" >vgg19</th>\n",
       "      <td id=\"T_4a8e2_row1_col0\" class=\"data row1 col0\" >0.873409</td>\n",
       "      <td id=\"T_4a8e2_row1_col1\" class=\"data row1 col1\" >0.585507</td>\n",
       "      <td id=\"T_4a8e2_row1_col2\" class=\"data row1 col2\" >0.372984</td>\n",
       "    </tr>\n",
       "    <tr>\n",
       "      <th id=\"T_4a8e2_level0_row2\" class=\"row_heading level0 row2\" >resnet50</th>\n",
       "      <td id=\"T_4a8e2_row2_col0\" class=\"data row2 col0\" >0.878242</td>\n",
       "      <td id=\"T_4a8e2_row2_col1\" class=\"data row2 col1\" >0.576812</td>\n",
       "      <td id=\"T_4a8e2_row2_col2\" class=\"data row2 col2\" >0.318732</td>\n",
       "    </tr>\n",
       "    <tr>\n",
       "      <th id=\"T_4a8e2_level0_row3\" class=\"row_heading level0 row3\" >resnet101</th>\n",
       "      <td id=\"T_4a8e2_row3_col0\" class=\"data row3 col0\" >0.881290</td>\n",
       "      <td id=\"T_4a8e2_row3_col1\" class=\"data row3 col1\" >0.576812</td>\n",
       "      <td id=\"T_4a8e2_row3_col2\" class=\"data row3 col2\" >0.319176</td>\n",
       "    </tr>\n",
       "    <tr>\n",
       "      <th id=\"T_4a8e2_level0_row4\" class=\"row_heading level0 row4\" >resnet152</th>\n",
       "      <td id=\"T_4a8e2_row4_col0\" class=\"data row4 col0\" >0.881441</td>\n",
       "      <td id=\"T_4a8e2_row4_col1\" class=\"data row4 col1\" >0.570048</td>\n",
       "      <td id=\"T_4a8e2_row4_col2\" class=\"data row4 col2\" >0.286081</td>\n",
       "    </tr>\n",
       "    <tr>\n",
       "      <th id=\"T_4a8e2_level0_row5\" class=\"row_heading level0 row5\" >densenet121</th>\n",
       "      <td id=\"T_4a8e2_row5_col0\" class=\"data row5 col0\" >0.854309</td>\n",
       "      <td id=\"T_4a8e2_row5_col1\" class=\"data row5 col1\" >0.593720</td>\n",
       "      <td id=\"T_4a8e2_row5_col2\" class=\"data row5 col2\" >0.391167</td>\n",
       "    </tr>\n",
       "    <tr>\n",
       "      <th id=\"T_4a8e2_level0_row6\" class=\"row_heading level0 row6\" >densenet169</th>\n",
       "      <td id=\"T_4a8e2_row6_col0\" class=\"data row6 col0\" >0.855433</td>\n",
       "      <td id=\"T_4a8e2_row6_col1\" class=\"data row6 col1\" >0.586957</td>\n",
       "      <td id=\"T_4a8e2_row6_col2\" class=\"data row6 col2\" >0.406880</td>\n",
       "    </tr>\n",
       "    <tr>\n",
       "      <th id=\"T_4a8e2_level0_row7\" class=\"row_heading level0 row7\" >densenet201</th>\n",
       "      <td id=\"T_4a8e2_row7_col0\" class=\"data row7 col0\" >0.852574</td>\n",
       "      <td id=\"T_4a8e2_row7_col1\" class=\"data row7 col1\" >0.597585</td>\n",
       "      <td id=\"T_4a8e2_row7_col2\" class=\"data row7 col2\" >0.421582</td>\n",
       "    </tr>\n",
       "  </tbody>\n",
       "</table style=\"display:inline\">\n",
       "</td><td style=\"vertical-align:top\"> <style type=\"text/css\">\n",
       "#T_e9388_row0_col2, #T_e9388_row5_col1, #T_e9388_row7_col1, #T_e9388_row7_col2 {\n",
       "  color: chartreuse;\n",
       "}\n",
       "#T_e9388_row1_col0 {\n",
       "  color: tomato;\n",
       "}\n",
       "#T_e9388_row6_col0 {\n",
       "  color: darkgreen;\n",
       "}\n",
       "</style>\n",
       "<table style=\"display:inline\" id=\"T_e9388_\">\n",
       "  <thead>\n",
       "    <tr>\n",
       "      <th class=\"blank level0\" >&nbsp;</th>\n",
       "      <th class=\"col_heading level0 col0\" >Loss</th>\n",
       "      <th class=\"col_heading level0 col1\" >Accuracy</th>\n",
       "      <th class=\"col_heading level0 col2\" >F1-score</th>\n",
       "    </tr>\n",
       "  </thead>\n",
       "  <tbody>\n",
       "    <tr>\n",
       "      <th id=\"T_e9388_level0_row0\" class=\"row_heading level0 row0\" >vgg16</th>\n",
       "      <td id=\"T_e9388_row0_col0\" class=\"data row0 col0\" >0.847671</td>\n",
       "      <td id=\"T_e9388_row0_col1\" class=\"data row0 col1\" >0.662319</td>\n",
       "      <td id=\"T_e9388_row0_col2\" class=\"data row0 col2\" >0.267022</td>\n",
       "    </tr>\n",
       "    <tr>\n",
       "      <th id=\"T_e9388_level0_row1\" class=\"row_heading level0 row1\" >vgg19</th>\n",
       "      <td id=\"T_e9388_row1_col0\" class=\"data row1 col0\" >0.851658</td>\n",
       "      <td id=\"T_e9388_row1_col1\" class=\"data row1 col1\" >0.663768</td>\n",
       "      <td id=\"T_e9388_row1_col2\" class=\"data row1 col2\" >0.269942</td>\n",
       "    </tr>\n",
       "    <tr>\n",
       "      <th id=\"T_e9388_level0_row2\" class=\"row_heading level0 row2\" >resnet50</th>\n",
       "      <td id=\"T_e9388_row2_col0\" class=\"data row2 col0\" >0.838595</td>\n",
       "      <td id=\"T_e9388_row2_col1\" class=\"data row2 col1\" >0.661836</td>\n",
       "      <td id=\"T_e9388_row2_col2\" class=\"data row2 col2\" >0.270799</td>\n",
       "    </tr>\n",
       "    <tr>\n",
       "      <th id=\"T_e9388_level0_row3\" class=\"row_heading level0 row3\" >resnet101</th>\n",
       "      <td id=\"T_e9388_row3_col0\" class=\"data row3 col0\" >0.840538</td>\n",
       "      <td id=\"T_e9388_row3_col1\" class=\"data row3 col1\" >0.663285</td>\n",
       "      <td id=\"T_e9388_row3_col2\" class=\"data row3 col2\" >0.269817</td>\n",
       "    </tr>\n",
       "    <tr>\n",
       "      <th id=\"T_e9388_level0_row4\" class=\"row_heading level0 row4\" >resnet152</th>\n",
       "      <td id=\"T_e9388_row4_col0\" class=\"data row4 col0\" >0.842235</td>\n",
       "      <td id=\"T_e9388_row4_col1\" class=\"data row4 col1\" >0.663285</td>\n",
       "      <td id=\"T_e9388_row4_col2\" class=\"data row4 col2\" >0.273682</td>\n",
       "    </tr>\n",
       "    <tr>\n",
       "      <th id=\"T_e9388_level0_row5\" class=\"row_heading level0 row5\" >densenet121</th>\n",
       "      <td id=\"T_e9388_row5_col0\" class=\"data row5 col0\" >0.827224</td>\n",
       "      <td id=\"T_e9388_row5_col1\" class=\"data row5 col1\" >0.651208</td>\n",
       "      <td id=\"T_e9388_row5_col2\" class=\"data row5 col2\" >0.342236</td>\n",
       "    </tr>\n",
       "    <tr>\n",
       "      <th id=\"T_e9388_level0_row6\" class=\"row_heading level0 row6\" >densenet169</th>\n",
       "      <td id=\"T_e9388_row6_col0\" class=\"data row6 col0\" >0.820361</td>\n",
       "      <td id=\"T_e9388_row6_col1\" class=\"data row6 col1\" >0.657488</td>\n",
       "      <td id=\"T_e9388_row6_col2\" class=\"data row6 col2\" >0.350253</td>\n",
       "    </tr>\n",
       "    <tr>\n",
       "      <th id=\"T_e9388_level0_row7\" class=\"row_heading level0 row7\" >densenet201</th>\n",
       "      <td id=\"T_e9388_row7_col0\" class=\"data row7 col0\" >0.841692</td>\n",
       "      <td id=\"T_e9388_row7_col1\" class=\"data row7 col1\" >0.664251</td>\n",
       "      <td id=\"T_e9388_row7_col2\" class=\"data row7 col2\" >0.355671</td>\n",
       "    </tr>\n",
       "  </tbody>\n",
       "</table style=\"display:inline\">\n",
       "</td></tr></table style=\"display:inline\">"
      ]
     },
     "metadata": {},
     "output_type": "display_data"
    }
   ],
   "source": [
    "print('With both MVSA merged together\\n')\n",
    "display_dataframes((style_dataframe(df_scores3), style_dataframe(df_scores4)), \n",
    "                   names=['Original image labels', 'Multimodal labels'])"
   ]
  }
 ],
 "metadata": {
  "kernelspec": {
   "display_name": "Python 3",
   "language": "python",
   "name": "python3"
  },
  "language_info": {
   "codemirror_mode": {
    "name": "ipython",
    "version": 3
   },
   "file_extension": ".py",
   "mimetype": "text/x-python",
   "name": "python",
   "nbconvert_exporter": "python",
   "pygments_lexer": "ipython3",
   "version": "3.7.12"
  },
  "papermill": {
   "default_parameters": {},
   "duration": 411.722431,
   "end_time": "2022-06-30T20:39:20.078386",
   "environment_variables": {},
   "exception": null,
   "input_path": "__notebook__.ipynb",
   "output_path": "__notebook__.ipynb",
   "parameters": {},
   "start_time": "2022-06-30T20:32:28.355955",
   "version": "2.3.4"
  }
 },
 "nbformat": 4,
 "nbformat_minor": 5
}
