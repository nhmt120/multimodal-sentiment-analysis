{
 "cells": [
  {
   "cell_type": "code",
   "execution_count": 1,
   "id": "8c308fb9",
   "metadata": {
    "_cell_guid": "b1076dfc-b9ad-4769-8c92-a6c4dae69d19",
    "_uuid": "8f2839f25d086af736a60e9eeb907d3b93b6e0e5",
    "execution": {
     "iopub.execute_input": "2022-07-14T05:45:02.987843Z",
     "iopub.status.busy": "2022-07-14T05:45:02.987377Z",
     "iopub.status.idle": "2022-07-14T05:45:12.203974Z",
     "shell.execute_reply": "2022-07-14T05:45:12.202869Z"
    },
    "papermill": {
     "duration": 9.226367,
     "end_time": "2022-07-14T05:45:12.206608",
     "exception": false,
     "start_time": "2022-07-14T05:45:02.980241",
     "status": "completed"
    },
    "tags": []
   },
   "outputs": [],
   "source": [
    "SEED = 61\n",
    "\n",
    "import os\n",
    "import re\n",
    "import gc\n",
    "import h5py\n",
    "import torch\n",
    "import numpy as np\n",
    "import pandas as pd\n",
    "import tensorflow as tf\n",
    "import random as python_random\n",
    "import tensorflow_addons as tfa\n",
    "import matplotlib.pyplot as plt\n",
    "\n",
    "from tqdm import tqdm\n",
    "from nltk import tokenize\n",
    "from collections import Counter\n",
    "from IPython.display import display_html\n",
    "from imblearn.over_sampling import SMOTE\n",
    "from imblearn.over_sampling import BorderlineSMOTE\n",
    "from transformers import BertTokenizer, BertForMaskedLM, BertModel\n",
    "from tensorflow.python.keras.layers import Layer, InputSpec, Lambda\n",
    "\n",
    "from sklearn import preprocessing\n",
    "from sklearn.decomposition import PCA\n",
    "from sklearn.model_selection import RepeatedKFold, KFold\n",
    "from sklearn.model_selection import cross_val_score\n",
    "from sklearn.metrics import f1_score, accuracy_score, confusion_matrix, ConfusionMatrixDisplay, classification_report\n",
    "\n",
    "from keras import backend as K\n",
    "from keras import initializers, regularizers, constraints\n",
    "from keras.preprocessing.text import Tokenizer, text_to_word_sequence\n",
    "from keras.preprocessing.sequence import pad_sequences\n",
    "from keras.utils.np_utils import to_categorical\n",
    "from keras.layers import Reshape, Input, Embedding, Flatten, Dense, Dropout, BatchNormalization, Activation #, merge\n",
    "from keras.layers import TimeDistributed, LSTM, GRU, Bidirectional, Convolution1D, MaxPooling1D, MaxPooling2D, Concatenate, Attention\n",
    "from keras.layers.core import RepeatVector #, Reshape\n",
    "from keras.callbacks import ModelCheckpoint, EarlyStopping, ReduceLROnPlateau\n",
    "from keras.models import Sequential, Model, load_model\n",
    "from keras.optimizer_v2 import adam\n",
    "\n",
    "def reset_seeds():\n",
    "    np.random.seed(SEED) \n",
    "    python_random.seed(SEED)\n",
    "    tf.random.set_seed(SEED)\n",
    "    os.environ[\"PYTHONHASHSEED\"] = str(SEED)"
   ]
  },
  {
   "cell_type": "code",
   "execution_count": 2,
   "id": "011481f5",
   "metadata": {
    "execution": {
     "iopub.execute_input": "2022-07-14T05:45:12.218578Z",
     "iopub.status.busy": "2022-07-14T05:45:12.217457Z",
     "iopub.status.idle": "2022-07-14T05:45:12.231030Z",
     "shell.execute_reply": "2022-07-14T05:45:12.230237Z"
    },
    "papermill": {
     "duration": 0.021139,
     "end_time": "2022-07-14T05:45:12.232941",
     "exception": false,
     "start_time": "2022-07-14T05:45:12.211802",
     "status": "completed"
    },
    "tags": []
   },
   "outputs": [],
   "source": [
    "def read_hdf5(path):\n",
    "    read_file = h5py.File(path, 'r')\n",
    "    \n",
    "    feature_names = list(read_file.keys())\n",
    "    loaded_data = []\n",
    "    \n",
    "    for name in feature_names:\n",
    "        dataset = read_file[name][:]\n",
    "        if dataset.dtype == np.dtype('object'):\n",
    "            dataset = np.array([x.decode('UTF-8') for x in dataset])            \n",
    "        loaded_data.append((name, dataset))\n",
    "\n",
    "    return loaded_data\n",
    "\n",
    "def loadz(path):\n",
    "    data = np.load(path)['arr_0']\n",
    "    return data\n",
    "\n",
    "def load_labels(path):\n",
    "    data = read_hdf5(path)\n",
    "\n",
    "    for x in data:\n",
    "        if x[0] == 'multimodal-labels':\n",
    "            labels = x[1]\n",
    "        if x[0] == 'text-labels':\n",
    "            text_labels = x[1]\n",
    "        if x[0] == 'image-labels':\n",
    "            image_labels = x[1]\n",
    "        \n",
    "    return labels, text_labels, image_labels\n",
    "\n",
    "def merge_mvsa(mvsa_single, mvsa_multiple):\n",
    "    mvsa = np.concatenate((mvsa_single, mvsa_multiple), axis=0)\n",
    "    return mvsa\n",
    "\n",
    "def load_mvsa_feature(feature_name, merge=False):\n",
    "    folder_path = os.path.join('../input/mvsa-features/', feature_name)\n",
    "    single_file = 'mvsa-single-{}.npz'.format(feature_name)\n",
    "    multiple_file = 'mvsa-multiple-{}.npz'.format(feature_name)\n",
    "    mvsa_single = loadz(os.path.join(folder_path, single_file))\n",
    "    mvsa_multiple = loadz(os.path.join(folder_path, multiple_file))\n",
    "    \n",
    "    if merge == True:\n",
    "        return merge_mvsa(mvsa_single, mvsa_multiple)\n",
    "    \n",
    "    return mvsa_single, mvsa_multiple\n",
    "\n",
    "def merge_dim(*args):\n",
    "    return np.concatenate(args, axis=1)\n",
    "\n",
    "# e.g. validation_split=0.1 -----> 8:1:1 ratio of train, val, test\n",
    "def split_data(data, validation_split):\n",
    "    num_val = int(validation_split * data.shape[0])\n",
    "    data_train = data[:-(num_val*2)]\n",
    "    data_val = data[-(num_val*2):-(num_val)]\n",
    "    data_test = data[-num_val:]\n",
    "    return data_train, data_val, data_test"
   ]
  },
  {
   "cell_type": "code",
   "execution_count": 3,
   "id": "ec3d1dde",
   "metadata": {
    "execution": {
     "iopub.execute_input": "2022-07-14T05:45:12.242889Z",
     "iopub.status.busy": "2022-07-14T05:45:12.242645Z",
     "iopub.status.idle": "2022-07-14T05:45:12.251840Z",
     "shell.execute_reply": "2022-07-14T05:45:12.250744Z"
    },
    "papermill": {
     "duration": 0.016722,
     "end_time": "2022-07-14T05:45:12.254184",
     "exception": false,
     "start_time": "2022-07-14T05:45:12.237462",
     "status": "completed"
    },
    "tags": []
   },
   "outputs": [],
   "source": [
    "def weighted_average(weights, probs):\n",
    "    ''' Calculate the weighted average probability distribution from all input probs and its weights \n",
    "    weights: weights list (or array)\n",
    "    probs: probability distributions array list\n",
    "    '''\n",
    "    output_probs = []\n",
    "    weighted_probs = [probs[i] * weights[i] for i in range(len(weights))]\n",
    "    for i in range(len(probs[0])):\n",
    "        sum_prob = np.zeros(len(probs[0][0]))\n",
    "        for j in range(len(weights)):\n",
    "            sum_prob = np.sum((sum_prob, weighted_probs[j][i]), axis=0)\n",
    "        output_probs.append(sum_prob)\n",
    "    return np.asarray(output_probs, dtype='float32')\n",
    "\n",
    "def get_average_weights(*scores, inverse=False):\n",
    "    ''' Get the corresponding weight of each input score \n",
    "    inverse: (bool) get inverse weights value in case of the smaller score value, the bigger weight value (such as model loss)\n",
    "    '''\n",
    "    \n",
    "    weights = []\n",
    "    for score in scores:\n",
    "        weights.append(score/np.sum(scores))\n",
    "\n",
    "    if inverse == True:\n",
    "        inverse_weights = []\n",
    "        inverse = [1/weight for weight in weights]\n",
    "        for inv in inverse:\n",
    "            inverse_weights.append(inv/np.sum(inverse))\n",
    "        weights = inverse_weights\n",
    "\n",
    "    return weights"
   ]
  },
  {
   "cell_type": "code",
   "execution_count": 4,
   "id": "333b53a6",
   "metadata": {
    "execution": {
     "iopub.execute_input": "2022-07-14T05:45:12.264873Z",
     "iopub.status.busy": "2022-07-14T05:45:12.264634Z",
     "iopub.status.idle": "2022-07-14T05:45:12.276469Z",
     "shell.execute_reply": "2022-07-14T05:45:12.275616Z"
    },
    "papermill": {
     "duration": 0.019547,
     "end_time": "2022-07-14T05:45:12.278348",
     "exception": false,
     "start_time": "2022-07-14T05:45:12.258801",
     "status": "completed"
    },
    "tags": []
   },
   "outputs": [],
   "source": [
    "def create_model_text(input_shape, lstm=True):\n",
    "    text_input = Input(shape=input_shape)\n",
    "    if lstm == True:\n",
    "        reshape_text = Reshape((1, -1)) (text_input)\n",
    "        lstm = LSTM(NUM_LSTM) (reshape_text)\n",
    "        outputs = Dense(NUM_CLASSES, activation='softmax') (lstm)\n",
    "    else:\n",
    "        outputs = Dense(NUM_CLASSES, activation='softmax') (text_input)\n",
    "    model = Model(text_input, outputs)\n",
    "    model.compile(optimizer=OPTIMIZER, loss=LOSS, metrics=METRICS)\n",
    "    return model\n",
    "\n",
    "def create_model_image(input_shape):\n",
    "    image_input = Input(shape=input_shape)\n",
    "    outputs = Dense(NUM_CLASSES, activation='softmax') (image_input)\n",
    "    model = Model(image_input, outputs)\n",
    "    model.compile(optimizer=OPTIMIZER, loss=LOSS, metrics=METRICS)\n",
    "    return model\n",
    "\n",
    "def create_model_IF(text_shape, image_shape, lstm=True):\n",
    "    image_input = Input(shape=image_shape)\n",
    "    text_input = Input(shape=text_shape)\n",
    "    if lstm == True:\n",
    "        text_reshape = Reshape((1, -1)) (text_input)\n",
    "        text_lstm = LSTM(NUM_LSTM) (text_reshape)\n",
    "#     text_lstm = Dropout(DROPOUT_RATE) (text_lstm)\n",
    "        text_image_concat = Concatenate(axis=1)([text_lstm, image_input])\n",
    "    else:\n",
    "        text_image_concat = Concatenate(axis=1)([text_input, image_input])\n",
    "    concat_self_attention = Attention() ([text_image_concat, text_image_concat])\n",
    "    concat_self_attention = Dropout(DROPOUT_RATE) (concat_self_attention)\n",
    "    outputs = Dense(NUM_CLASSES, activation='softmax') (concat_self_attention)\n",
    "    model = Model([text_input, image_input], outputs)\n",
    "    model.compile(optimizer=OPTIMIZER, loss=LOSS, metrics=METRICS)\n",
    "    return model"
   ]
  },
  {
   "cell_type": "code",
   "execution_count": 5,
   "id": "8e76e67a",
   "metadata": {
    "execution": {
     "iopub.execute_input": "2022-07-14T05:45:12.288750Z",
     "iopub.status.busy": "2022-07-14T05:45:12.288508Z",
     "iopub.status.idle": "2022-07-14T05:45:12.307445Z",
     "shell.execute_reply": "2022-07-14T05:45:12.306637Z"
    },
    "papermill": {
     "duration": 0.026635,
     "end_time": "2022-07-14T05:45:12.309499",
     "exception": false,
     "start_time": "2022-07-14T05:45:12.282864",
     "status": "completed"
    },
    "tags": []
   },
   "outputs": [],
   "source": [
    "def run_and_evaluate_HF(name, X1, X2, y, verbose=0, lstm=True):\n",
    "    ''' Train Hybrid Fusion model and test only with Multimodal Labels\n",
    "    X1: text input\n",
    "    X2: image input\n",
    "    y: labels\n",
    "    verbose: 0 or 1 to print tracking on progress\n",
    "    '''\n",
    "    y = le.transform(y)\n",
    "    y = to_categorical(np.asarray(y))\n",
    "    \n",
    "    random_idx = np.random.permutation(len(y))\n",
    "    X1, X2, y = X1[random_idx], X2[random_idx], y[random_idx]\n",
    "    \n",
    "    X1_train, X1_val, X1_test = split_data(X1, VALIDATION_SPLIT)\n",
    "    X2_train, X2_val, X2_test = split_data(X2, VALIDATION_SPLIT)\n",
    "    y_train, y_val, y_test = split_data(y, VALIDATION_SPLIT)\n",
    "    \n",
    "    oversample = BorderlineSMOTE(sampling_strategy='minority', random_state=SEED, kind='borderline-1')\n",
    "#     oversample = SMOTE(sampling_strategy='minority', random_state=SEED)\n",
    "    X1_train, _ = oversample.fit_resample(X1_train, y_train)\n",
    "    X2_train, y_train = oversample.fit_resample(X2_train, y_train)\n",
    "\n",
    "    if lstm == False:\n",
    "        model_text = create_model_text(X1_train.shape[1:], lstm=False)\n",
    "        model_IF = create_model_IF(X1_train.shape[1:], X2_train.shape[1:], lstm=False)\n",
    "    model_text = create_model_text(X1_train.shape[1:])\n",
    "    model_IF = create_model_IF(X1_train.shape[1:], X2_train.shape[1:])\n",
    "    model_image = create_model_image(X2_train.shape[1:])\n",
    "\n",
    "    early_stopping1 = EarlyStopping(monitor='val_loss', min_delta=1e-4, patience=EARLY_STOPPING)\n",
    "    early_stopping2 = EarlyStopping(monitor='val_loss', min_delta=1e-4, patience=EARLY_STOPPING)\n",
    "    early_stopping3 = EarlyStopping(monitor='val_loss', min_delta=1e-4, patience=EARLY_STOPPING)\n",
    "\n",
    "    checkpoint_text = ModelCheckpoint('./model_checkpoint/{}-text.h5'.format(name), save_best_only=True, verbose=verbose)\n",
    "    checkpoint_image = ModelCheckpoint('./model_checkpoint/{}-image.h5'.format(name), save_best_only=True, verbose=verbose)\n",
    "    checkpoint_IF = ModelCheckpoint('./model_checkpoint/{}-IF.h5'.format(name), save_best_only=True, verbose=verbose)\n",
    "\n",
    "    batch_size = BATCH_SIZE\n",
    "#     if 'multiple' in name:\n",
    "#         batch_size = 256\n",
    "#     else:\n",
    "#         batch_size = BATCH_SIZE # 128\n",
    "    \n",
    "    history_text = model_text.fit(X1_train, y_train, validation_data=(X1_val, y_val), \n",
    "                        epochs=EPOCHS, batch_size=batch_size, verbose=verbose,\n",
    "                        callbacks=[checkpoint_text, early_stopping1])\n",
    "    \n",
    "    history_image = model_image.fit(X2_train, y_train, validation_data=(X2_val, y_val), \n",
    "                        epochs=EPOCHS, batch_size=batch_size, verbose=verbose,\n",
    "                        callbacks=[checkpoint_image, early_stopping2])\n",
    "    \n",
    "    history_IF = model_IF.fit([X1_train, X2_train], y_train, validation_data=([X1_val, X2_val], y_val), \n",
    "                        epochs=EPOCHS, batch_size=batch_size, verbose=verbose,\n",
    "                        callbacks=[checkpoint_IF, early_stopping3])\n",
    "    \n",
    "    best_val_acc_text = np.min(history_text.history['val_accuracy'])\n",
    "    best_val_acc_image = np.min(history_image.history['val_accuracy'])\n",
    "    best_val_acc_IF = np.min(history_IF.history['val_accuracy'])\n",
    "    \n",
    "    weights = get_average_weights(best_val_acc_text, best_val_acc_image, best_val_acc_IF)\n",
    "\n",
    "    model_text = load_model('./model_checkpoint/{}-text.h5'.format(name))\n",
    "    model_image = load_model('./model_checkpoint/{}-image.h5'.format(name))\n",
    "    model_IF = load_model('./model_checkpoint/{}-IF.h5'.format(name))\n",
    "\n",
    "    y_pred_text = model_text.predict(X1_test)\n",
    "    y_pred_image = model_image.predict(X2_test)\n",
    "    y_pred_IF = model_IF.predict([X1_test, X2_test])\n",
    "    \n",
    "    y_pred = weighted_average(weights, np.asarray([y_pred_text, y_pred_image, y_pred_IF], dtype='float32'))\n",
    "    \n",
    "    best_epoch_text = np.argmin(history_text.history['val_loss'])\n",
    "    best_epoch_image = np.argmin(history_image.history['val_loss'])\n",
    "    best_epoch_IF = np.argmin(history_IF.history['val_loss'])\n",
    "    \n",
    "    if verbose == 1:\n",
    "        print('Checkpoint of text model loaded at epoch:', best_epoch_text)\n",
    "        print('Checkpoint of image model loaded at epoch:', best_epoch_image)\n",
    "        print('Checkpoint of IF model loaded at epoch:', best_epoch_IF)\n",
    "\n",
    "    return evaluate_model_LF(y_test, y_pred, verbose=verbose)"
   ]
  },
  {
   "cell_type": "code",
   "execution_count": 6,
   "id": "fbf49649",
   "metadata": {
    "execution": {
     "iopub.execute_input": "2022-07-14T05:45:12.319572Z",
     "iopub.status.busy": "2022-07-14T05:45:12.319337Z",
     "iopub.status.idle": "2022-07-14T05:45:12.325636Z",
     "shell.execute_reply": "2022-07-14T05:45:12.324809Z"
    },
    "papermill": {
     "duration": 0.01346,
     "end_time": "2022-07-14T05:45:12.327674",
     "exception": false,
     "start_time": "2022-07-14T05:45:12.314214",
     "status": "completed"
    },
    "tags": []
   },
   "outputs": [],
   "source": [
    "def evaluate_model_LF(y_true, y_pred, verbose=0):\n",
    "    \n",
    "    y_pred = le.inverse_transform(y_pred.argmax(axis=1))\n",
    "    y_true = le.inverse_transform(y_true.argmax(axis=1))\n",
    "\n",
    "    acc = accuracy_score(y_true, y_pred)\n",
    "    f1_macro = f1_score(y_true, y_pred, average='macro')\n",
    "    f1_weighted = f1_score(y_true, y_pred, average='weighted')\n",
    "\n",
    "#     if verbose == 1:\n",
    "    print(classification_report(y_true, y_pred))\n",
    "    matrix = confusion_matrix(y_true, y_pred,\n",
    "                              labels=list(le.classes_))\n",
    "    cm_disp = ConfusionMatrixDisplay(confusion_matrix=matrix,\n",
    "                              display_labels=list(le.classes_))\n",
    "    cm_disp.plot()\n",
    "    plt.show()\n",
    "\n",
    "    return acc, f1_macro, f1_weighted"
   ]
  },
  {
   "cell_type": "code",
   "execution_count": 7,
   "id": "ed285a48",
   "metadata": {
    "execution": {
     "iopub.execute_input": "2022-07-14T05:45:12.338146Z",
     "iopub.status.busy": "2022-07-14T05:45:12.337546Z",
     "iopub.status.idle": "2022-07-14T05:45:12.347870Z",
     "shell.execute_reply": "2022-07-14T05:45:12.347083Z"
    },
    "papermill": {
     "duration": 0.017489,
     "end_time": "2022-07-14T05:45:12.349659",
     "exception": false,
     "start_time": "2022-07-14T05:45:12.332170",
     "status": "completed"
    },
    "tags": []
   },
   "outputs": [],
   "source": [
    "def plot_metrics(history):\n",
    "    fig = plt.figure(figsize=(20, 5))\n",
    "\n",
    "    fig.add_subplot(1, 4, 1)\n",
    "    plt.plot(history.history['loss'])\n",
    "    plt.plot(history.history['val_loss'])\n",
    "    plt.title('LOSS')\n",
    "    plt.ylabel('loss')\n",
    "    plt.xlabel('epoch')\n",
    "    plt.legend(['train', 'val'], loc='best')\n",
    "\n",
    "    fig.add_subplot(1, 4, 2)\n",
    "    plt.plot(history.history['accuracy'])\n",
    "    plt.plot(history.history['val_accuracy'])\n",
    "    plt.title('ACCURACY')\n",
    "    plt.ylabel('accuracy')\n",
    "    plt.xlabel('epoch')\n",
    "    plt.legend(['train', 'val'], loc='best')\n",
    "\n",
    "    fig.add_subplot(1, 4, 3)\n",
    "    plt.plot(history.history['f1_macro'])\n",
    "    plt.plot(history.history['val_f1_macro'])\n",
    "    plt.title('Macro F1-SCORE')\n",
    "    plt.ylabel('f1-macro')\n",
    "    plt.xlabel('epoch')\n",
    "    plt.legend(['train', 'val'], loc='best')\n",
    "    \n",
    "    fig.add_subplot(1, 4, 4)\n",
    "    plt.plot(history.history['f1_weighted'])\n",
    "    plt.plot(history.history['val_f1_weighted'])\n",
    "    plt.title('Weighted F1-SCORE')\n",
    "    plt.ylabel('f1-weighted')\n",
    "    plt.xlabel('epoch')\n",
    "    plt.legend(['train', 'val'], loc='best')\n",
    "\n",
    "    plt.show()"
   ]
  },
  {
   "cell_type": "markdown",
   "id": "ca03f016",
   "metadata": {
    "papermill": {
     "duration": 0.004459,
     "end_time": "2022-07-14T05:45:12.358529",
     "exception": false,
     "start_time": "2022-07-14T05:45:12.354070",
     "status": "completed"
    },
    "tags": []
   },
   "source": [
    "# Load Data"
   ]
  },
  {
   "cell_type": "code",
   "execution_count": 8,
   "id": "959eade1",
   "metadata": {
    "execution": {
     "iopub.execute_input": "2022-07-14T05:45:12.368764Z",
     "iopub.status.busy": "2022-07-14T05:45:12.368060Z",
     "iopub.status.idle": "2022-07-14T05:45:19.110583Z",
     "shell.execute_reply": "2022-07-14T05:45:19.109613Z"
    },
    "papermill": {
     "duration": 6.750071,
     "end_time": "2022-07-14T05:45:19.113002",
     "exception": false,
     "start_time": "2022-07-14T05:45:12.362931",
     "status": "completed"
    },
    "tags": []
   },
   "outputs": [],
   "source": [
    "## Choose best\n",
    "# Load text feature\n",
    "mvsa_single_bert, mvsa_multiple_bert = load_mvsa_feature('bert-base')\n",
    "mvsa_single_pos_bow, mvsa_multiple_pos_bow = load_mvsa_feature('pos-bow')\n",
    "mvsa_single_pos_tfidf, mvsa_multiple_pos_tfidf = load_mvsa_feature('pos-tfidf')\n",
    "mvsa_single_ner_bow, mvsa_multiple_ner_bow = load_mvsa_feature('ner-bow')\n",
    "mvsa_single_ner_tfidf, mvsa_multiple_ner_tfidf = load_mvsa_feature('ner-tfidf')\n",
    "\n",
    "## Load image feature\n",
    "# mvsa_single_vgg16, mvsa_multiple_vgg16 = load_mvsa_feature('vgg16')\n",
    "mvsa_single_vgg19, mvsa_multiple_vgg19 = load_mvsa_feature('vgg19')\n",
    "# mvsa_single_resnet50, mvsa_multiple_resnet50 = load_mvsa_feature('resnet50')\n",
    "# mvsa_single_resnet101, mvsa_multiple_resnet101 = load_mvsa_feature('resnet101')\n",
    "# mvsa_single_resnet152, mvsa_multiple_resnet152 = load_mvsa_feature('resnet152')\n",
    "mvsa_single_densenet121, mvsa_multiple_densenet121 = load_mvsa_feature('densenet121')\n",
    "# mvsa_single_densenet169, mvsa_multiple_densenet169 = load_mvsa_feature('densenet169')\n",
    "mvsa_single_densenet201, mvsa_multiple_densenet201 = load_mvsa_feature('densenet201')"
   ]
  },
  {
   "cell_type": "code",
   "execution_count": 9,
   "id": "c254ad36",
   "metadata": {
    "execution": {
     "iopub.execute_input": "2022-07-14T05:45:19.124075Z",
     "iopub.status.busy": "2022-07-14T05:45:19.123285Z",
     "iopub.status.idle": "2022-07-14T05:45:19.264020Z",
     "shell.execute_reply": "2022-07-14T05:45:19.263129Z"
    },
    "papermill": {
     "duration": 0.148445,
     "end_time": "2022-07-14T05:45:19.266255",
     "exception": false,
     "start_time": "2022-07-14T05:45:19.117810",
     "status": "completed"
    },
    "tags": []
   },
   "outputs": [
    {
     "data": {
      "text/plain": [
       "LabelEncoder()"
      ]
     },
     "execution_count": 9,
     "metadata": {},
     "output_type": "execute_result"
    }
   ],
   "source": [
    "mvsa_single_multimodal_labels, mvsa_single_text_labels, mvsa_single_image_labels = load_labels('../input/mvsa-features/labels/mvsa-single-labels.hdf5')\n",
    "mvsa_multiple_multimodal_labels, mvsa_multiple_text_labels, mvsa_multiple_image_labels = load_labels('../input/mvsa-features/labels/mvsa-multiple-labels.hdf5')\n",
    "\n",
    "le = preprocessing.LabelEncoder()\n",
    "le.fit(mvsa_multiple_multimodal_labels)"
   ]
  },
  {
   "cell_type": "code",
   "execution_count": 10,
   "id": "f7d6a92f",
   "metadata": {
    "execution": {
     "iopub.execute_input": "2022-07-14T05:45:19.277844Z",
     "iopub.status.busy": "2022-07-14T05:45:19.277130Z",
     "iopub.status.idle": "2022-07-14T05:45:19.281796Z",
     "shell.execute_reply": "2022-07-14T05:45:19.280938Z"
    },
    "papermill": {
     "duration": 0.012794,
     "end_time": "2022-07-14T05:45:19.283811",
     "exception": false,
     "start_time": "2022-07-14T05:45:19.271017",
     "status": "completed"
    },
    "tags": []
   },
   "outputs": [],
   "source": [
    "# import pickle\n",
    "# pickle.dump(le, open('label_encoder.pkl', 'wb'))\n",
    "# # le_loaded = pickle.load(open('label_encoder.pkl', 'rb'))"
   ]
  },
  {
   "cell_type": "code",
   "execution_count": 11,
   "id": "00b05f9b",
   "metadata": {
    "execution": {
     "iopub.execute_input": "2022-07-14T05:45:19.294086Z",
     "iopub.status.busy": "2022-07-14T05:45:19.293766Z",
     "iopub.status.idle": "2022-07-14T05:45:19.297805Z",
     "shell.execute_reply": "2022-07-14T05:45:19.296832Z"
    },
    "papermill": {
     "duration": 0.011702,
     "end_time": "2022-07-14T05:45:19.300002",
     "exception": false,
     "start_time": "2022-07-14T05:45:19.288300",
     "status": "completed"
    },
    "tags": []
   },
   "outputs": [],
   "source": [
    "# from imblearn.over_sampling import RandomOverSampler\n",
    "# ros = RandomOverSampler(random_state=SEED)\n",
    "# X_resampled, y_resampled = ros.fit_resample(image_inputs, y)\n",
    "# from collections import Counter\n",
    "# print(sorted(Counter(y_resampled).items()))"
   ]
  },
  {
   "cell_type": "markdown",
   "id": "fb2a12d9",
   "metadata": {
    "papermill": {
     "duration": 0.004304,
     "end_time": "2022-07-14T05:45:19.309313",
     "exception": false,
     "start_time": "2022-07-14T05:45:19.305009",
     "status": "completed"
    },
    "tags": []
   },
   "source": [
    "# Model Training"
   ]
  },
  {
   "cell_type": "code",
   "execution_count": 12,
   "id": "5fd511e1",
   "metadata": {
    "execution": {
     "iopub.execute_input": "2022-07-14T05:45:19.319329Z",
     "iopub.status.busy": "2022-07-14T05:45:19.319089Z",
     "iopub.status.idle": "2022-07-14T05:45:24.617527Z",
     "shell.execute_reply": "2022-07-14T05:45:24.615018Z"
    },
    "papermill": {
     "duration": 5.306964,
     "end_time": "2022-07-14T05:45:24.620796",
     "exception": false,
     "start_time": "2022-07-14T05:45:19.313832",
     "status": "completed"
    },
    "tags": []
   },
   "outputs": [
    {
     "name": "stderr",
     "output_type": "stream",
     "text": [
      "2022-07-14 05:45:19.407523: I tensorflow/stream_executor/cuda/cuda_gpu_executor.cc:937] successful NUMA node read from SysFS had negative value (-1), but there must be at least one NUMA node, so returning NUMA node zero\n",
      "2022-07-14 05:45:19.408632: I tensorflow/stream_executor/cuda/cuda_gpu_executor.cc:937] successful NUMA node read from SysFS had negative value (-1), but there must be at least one NUMA node, so returning NUMA node zero\n",
      "2022-07-14 05:45:19.409322: I tensorflow/stream_executor/cuda/cuda_gpu_executor.cc:937] successful NUMA node read from SysFS had negative value (-1), but there must be at least one NUMA node, so returning NUMA node zero\n",
      "2022-07-14 05:45:19.410165: I tensorflow/core/platform/cpu_feature_guard.cc:142] This TensorFlow binary is optimized with oneAPI Deep Neural Network Library (oneDNN) to use the following CPU instructions in performance-critical operations:  AVX2 AVX512F FMA\n",
      "To enable them in other operations, rebuild TensorFlow with the appropriate compiler flags.\n",
      "2022-07-14 05:45:19.410465: I tensorflow/stream_executor/cuda/cuda_gpu_executor.cc:937] successful NUMA node read from SysFS had negative value (-1), but there must be at least one NUMA node, so returning NUMA node zero\n",
      "2022-07-14 05:45:19.411176: I tensorflow/stream_executor/cuda/cuda_gpu_executor.cc:937] successful NUMA node read from SysFS had negative value (-1), but there must be at least one NUMA node, so returning NUMA node zero\n",
      "2022-07-14 05:45:19.411815: I tensorflow/stream_executor/cuda/cuda_gpu_executor.cc:937] successful NUMA node read from SysFS had negative value (-1), but there must be at least one NUMA node, so returning NUMA node zero\n",
      "2022-07-14 05:45:24.292481: I tensorflow/stream_executor/cuda/cuda_gpu_executor.cc:937] successful NUMA node read from SysFS had negative value (-1), but there must be at least one NUMA node, so returning NUMA node zero\n",
      "2022-07-14 05:45:24.293378: I tensorflow/stream_executor/cuda/cuda_gpu_executor.cc:937] successful NUMA node read from SysFS had negative value (-1), but there must be at least one NUMA node, so returning NUMA node zero\n",
      "2022-07-14 05:45:24.294034: I tensorflow/stream_executor/cuda/cuda_gpu_executor.cc:937] successful NUMA node read from SysFS had negative value (-1), but there must be at least one NUMA node, so returning NUMA node zero\n",
      "2022-07-14 05:45:24.294609: I tensorflow/core/common_runtime/gpu/gpu_device.cc:1510] Created device /job:localhost/replica:0/task:0/device:GPU:0 with 15047 MB memory:  -> device: 0, name: Tesla P100-PCIE-16GB, pci bus id: 0000:00:04.0, compute capability: 6.0\n"
     ]
    }
   ],
   "source": [
    "reset_seeds()\n",
    "EPOCHS = 100\n",
    "BATCH_SIZE = 128\n",
    "EARLY_STOPPING = 10\n",
    "NUM_LSTM = 64\n",
    "DROPOUT_RATE = 0.2\n",
    "VALIDATION_SPLIT = 0.1\n",
    "VERBOSE = 0\n",
    "\n",
    "NUM_CLASSES = 3\n",
    "f1_macro = tfa.metrics.F1Score(num_classes=NUM_CLASSES, average='macro', name='f1_macro')\n",
    "f1_weighted = tfa.metrics.F1Score(num_classes=NUM_CLASSES, average='weighted', name='f1_weighted')\n",
    "METRICS = ['accuracy', f1_macro, f1_weighted]\n",
    "LOSS = 'categorical_crossentropy'\n",
    "OPTIMIZER = 'adam'"
   ]
  },
  {
   "cell_type": "code",
   "execution_count": null,
   "id": "185753e8",
   "metadata": {
    "papermill": {
     "duration": 0.005145,
     "end_time": "2022-07-14T05:45:24.631257",
     "exception": false,
     "start_time": "2022-07-14T05:45:24.626112",
     "status": "completed"
    },
    "tags": []
   },
   "outputs": [],
   "source": []
  },
  {
   "cell_type": "code",
   "execution_count": 13,
   "id": "313ae4c3",
   "metadata": {
    "execution": {
     "iopub.execute_input": "2022-07-14T05:45:24.642203Z",
     "iopub.status.busy": "2022-07-14T05:45:24.641185Z",
     "iopub.status.idle": "2022-07-14T05:45:45.478049Z",
     "shell.execute_reply": "2022-07-14T05:45:45.477018Z"
    },
    "papermill": {
     "duration": 20.844077,
     "end_time": "2022-07-14T05:45:45.479909",
     "exception": false,
     "start_time": "2022-07-14T05:45:24.635832",
     "status": "completed"
    },
    "tags": []
   },
   "outputs": [
    {
     "name": "stdout",
     "output_type": "stream",
     "text": [
      "MVSA-Single: Counter({'positive': 2683, 'negative': 1358, 'neutral': 470})\n"
     ]
    },
    {
     "name": "stderr",
     "output_type": "stream",
     "text": [
      "2022-07-14 05:45:25.856736: I tensorflow/compiler/mlir/mlir_graph_optimization_pass.cc:185] None of the MLIR Optimization Passes are enabled (registered 2)\n",
      "2022-07-14 05:45:28.615479: I tensorflow/stream_executor/cuda/cuda_dnn.cc:369] Loaded cuDNN version 8005\n"
     ]
    },
    {
     "name": "stdout",
     "output_type": "stream",
     "text": [
      "              precision    recall  f1-score   support\n",
      "\n",
      "    negative       0.72      0.43      0.54       144\n",
      "     neutral       0.48      0.35      0.41        40\n",
      "    positive       0.72      0.91      0.80       267\n",
      "\n",
      "    accuracy                           0.71       451\n",
      "   macro avg       0.64      0.56      0.58       451\n",
      "weighted avg       0.70      0.71      0.68       451\n",
      "\n"
     ]
    },
    {
     "data": {
      "image/png": "[encoded data removed]",
      "text/plain": [
       "<Figure size 432x288 with 2 Axes>"
      ]
     },
     "metadata": {
      "needs_background": "light"
     },
     "output_type": "display_data"
    },
    {
     "data": {
      "text/plain": [
       "(0.70509977827051, 0.582526978633403, 0.6833151316587792)"
      ]
     },
     "execution_count": 13,
     "metadata": {},
     "output_type": "execute_result"
    }
   ],
   "source": [
    "counter_single = Counter(mvsa_single_multimodal_labels)\n",
    "print('MVSA-Single:', counter_single)\n",
    "\n",
    "text_inputs = merge_dim(mvsa_single_bert, mvsa_single_pos_tfidf)\n",
    "image_inputs = mvsa_single_densenet201\n",
    "label_inputs = mvsa_single_multimodal_labels\n",
    "\n",
    "run_and_evaluate_HF('HF-single', text_inputs, image_inputs, label_inputs, verbose=VERBOSE)\n",
    "# IF drop 0.2 SMOTE b1"
   ]
  },
  {
   "cell_type": "code",
   "execution_count": 14,
   "id": "035f33b8",
   "metadata": {
    "execution": {
     "iopub.execute_input": "2022-07-14T05:45:45.492526Z",
     "iopub.status.busy": "2022-07-14T05:45:45.491749Z",
     "iopub.status.idle": "2022-07-14T05:46:28.224149Z",
     "shell.execute_reply": "2022-07-14T05:46:28.223263Z"
    },
    "papermill": {
     "duration": 42.744263,
     "end_time": "2022-07-14T05:46:28.229859",
     "exception": false,
     "start_time": "2022-07-14T05:45:45.485596",
     "status": "completed"
    },
    "tags": []
   },
   "outputs": [
    {
     "name": "stdout",
     "output_type": "stream",
     "text": [
      "MVSA-Multiple: Counter({'positive': 11318, 'neutral': 4407, 'negative': 1299})\n",
      "              precision    recall  f1-score   support\n",
      "\n",
      "    negative       0.32      0.59      0.42       131\n",
      "     neutral       0.55      0.14      0.23       444\n",
      "    positive       0.74      0.89      0.81      1127\n",
      "\n",
      "    accuracy                           0.67      1702\n",
      "   macro avg       0.54      0.54      0.48      1702\n",
      "weighted avg       0.66      0.67      0.63      1702\n",
      "\n"
     ]
    },
    {
     "data": {
      "image/png": "[encoded data removed]",
      "text/plain": [
       "<Figure size 432x288 with 2 Axes>"
      ]
     },
     "metadata": {
      "needs_background": "light"
     },
     "output_type": "display_data"
    },
    {
     "data": {
      "text/plain": [
       "(0.6703877790834313, 0.48406477233408074, 0.62608275028427)"
      ]
     },
     "execution_count": 14,
     "metadata": {},
     "output_type": "execute_result"
    }
   ],
   "source": [
    "counter_multiple = Counter(mvsa_multiple_multimodal_labels)\n",
    "print('MVSA-Multiple:', counter_multiple)\n",
    "\n",
    "text_inputs = merge_dim(mvsa_multiple_bert, mvsa_multiple_pos_tfidf)\n",
    "image_inputs = mvsa_multiple_densenet201\n",
    "label_inputs = mvsa_multiple_multimodal_labels\n",
    "\n",
    "run_and_evaluate_HF('HF-multiple', text_inputs, image_inputs, label_inputs, verbose=VERBOSE)\n",
    "# IF drop 0.2 SMOTE b1"
   ]
  },
  {
   "cell_type": "code",
   "execution_count": null,
   "id": "19db0527",
   "metadata": {
    "papermill": {
     "duration": 0.00562,
     "end_time": "2022-07-14T05:46:28.241214",
     "exception": false,
     "start_time": "2022-07-14T05:46:28.235594",
     "status": "completed"
    },
    "tags": []
   },
   "outputs": [],
   "source": []
  }
 ],
 "metadata": {
  "kernelspec": {
   "display_name": "Python 3",
   "language": "python",
   "name": "python3"
  },
  "language_info": {
   "codemirror_mode": {
    "name": "ipython",
    "version": 3
   },
   "file_extension": ".py",
   "mimetype": "text/x-python",
   "name": "python",
   "nbconvert_exporter": "python",
   "pygments_lexer": "ipython3",
   "version": "3.7.12"
  },
  "papermill": {
   "default_parameters": {},
   "duration": 96.359425,
   "end_time": "2022-07-14T05:46:31.306624",
   "environment_variables": {},
   "exception": null,
   "input_path": "__notebook__.ipynb",
   "output_path": "__notebook__.ipynb",
   "parameters": {},
   "start_time": "2022-07-14T05:44:54.947199",
   "version": "2.3.4"
  }
 },
 "nbformat": 4,
 "nbformat_minor": 5
}
