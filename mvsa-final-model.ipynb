{
 "cells": [
  {
   "cell_type": "code",
   "execution_count": 1,
   "id": "cb29e795",
   "metadata": {
    "_cell_guid": "b1076dfc-b9ad-4769-8c92-a6c4dae69d19",
    "_uuid": "8f2839f25d086af736a60e9eeb907d3b93b6e0e5",
    "execution": {
     "iopub.execute_input": "2022-07-13T17:37:38.768781Z",
     "iopub.status.busy": "2022-07-13T17:37:38.767991Z",
     "iopub.status.idle": "2022-07-13T17:37:47.356567Z",
     "shell.execute_reply": "2022-07-13T17:37:47.355595Z"
    },
    "papermill": {
     "duration": 8.598324,
     "end_time": "2022-07-13T17:37:47.359250",
     "exception": false,
     "start_time": "2022-07-13T17:37:38.760926",
     "status": "completed"
    },
    "tags": []
   },
   "outputs": [],
   "source": [
    "SEED = 61\n",
    "\n",
    "import os\n",
    "import re\n",
    "import gc\n",
    "import h5py\n",
    "import torch\n",
    "import numpy as np\n",
    "import pandas as pd\n",
    "import tensorflow as tf\n",
    "import random as python_random\n",
    "import tensorflow_addons as tfa\n",
    "import matplotlib.pyplot as plt\n",
    "\n",
    "from tqdm import tqdm\n",
    "from nltk import tokenize\n",
    "from collections import Counter\n",
    "from IPython.display import display_html\n",
    "from imblearn.over_sampling import SMOTE\n",
    "from imblearn.over_sampling import BorderlineSMOTE\n",
    "from transformers import BertTokenizer, BertForMaskedLM, BertModel\n",
    "from tensorflow.python.keras.layers import Layer, InputSpec, Lambda\n",
    "\n",
    "from sklearn import preprocessing\n",
    "from sklearn.decomposition import PCA\n",
    "from sklearn.model_selection import RepeatedKFold, KFold\n",
    "from sklearn.model_selection import cross_val_score\n",
    "from sklearn.metrics import f1_score, accuracy_score, confusion_matrix, ConfusionMatrixDisplay, classification_report\n",
    "\n",
    "from keras import backend as K\n",
    "from keras import initializers, regularizers, constraints\n",
    "from keras.preprocessing.text import Tokenizer, text_to_word_sequence\n",
    "from keras.preprocessing.sequence import pad_sequences\n",
    "from keras.utils.np_utils import to_categorical\n",
    "from keras.layers import Reshape, Input, Embedding, Flatten, Dense, Dropout, BatchNormalization, Activation #, merge\n",
    "from keras.layers import TimeDistributed, LSTM, GRU, Bidirectional, Convolution1D, MaxPooling1D, MaxPooling2D, Concatenate, Attention\n",
    "from keras.layers.core import RepeatVector #, Reshape\n",
    "from keras.callbacks import ModelCheckpoint, EarlyStopping, ReduceLROnPlateau\n",
    "from keras.models import Sequential, Model, load_model\n",
    "from keras.optimizer_v2 import adam\n",
    "\n",
    "def reset_seeds():\n",
    "    np.random.seed(SEED) \n",
    "    python_random.seed(SEED)\n",
    "    tf.random.set_seed(SEED)\n",
    "    os.environ[\"PYTHONHASHSEED\"] = str(SEED)"
   ]
  },
  {
   "cell_type": "code",
   "execution_count": 2,
   "id": "6ec59c94",
   "metadata": {
    "execution": {
     "iopub.execute_input": "2022-07-13T17:37:47.370225Z",
     "iopub.status.busy": "2022-07-13T17:37:47.369294Z",
     "iopub.status.idle": "2022-07-13T17:37:47.383432Z",
     "shell.execute_reply": "2022-07-13T17:37:47.382407Z"
    },
    "papermill": {
     "duration": 0.021908,
     "end_time": "2022-07-13T17:37:47.385785",
     "exception": false,
     "start_time": "2022-07-13T17:37:47.363877",
     "status": "completed"
    },
    "tags": []
   },
   "outputs": [],
   "source": [
    "def read_hdf5(path):\n",
    "    read_file = h5py.File(path, 'r')\n",
    "    \n",
    "    feature_names = list(read_file.keys())\n",
    "    loaded_data = []\n",
    "    \n",
    "    for name in feature_names:\n",
    "        dataset = read_file[name][:]\n",
    "        if dataset.dtype == np.dtype('object'):\n",
    "            dataset = np.array([x.decode('UTF-8') for x in dataset])            \n",
    "        loaded_data.append((name, dataset))\n",
    "\n",
    "    return loaded_data\n",
    "\n",
    "def loadz(path):\n",
    "    data = np.load(path)['arr_0']\n",
    "    return data\n",
    "\n",
    "def load_labels(path):\n",
    "    data = read_hdf5(path)\n",
    "\n",
    "    for x in data:\n",
    "        if x[0] == 'multimodal-labels':\n",
    "            labels = x[1]\n",
    "        if x[0] == 'text-labels':\n",
    "            text_labels = x[1]\n",
    "        if x[0] == 'image-labels':\n",
    "            image_labels = x[1]\n",
    "        \n",
    "    return labels, text_labels, image_labels\n",
    "\n",
    "def merge_mvsa(mvsa_single, mvsa_multiple):\n",
    "    mvsa = np.concatenate((mvsa_single, mvsa_multiple), axis=0)\n",
    "    return mvsa\n",
    "\n",
    "def load_mvsa_feature(feature_name, merge=False):\n",
    "    folder_path = os.path.join('../input/mvsa-features/', feature_name)\n",
    "    single_file = 'mvsa-single-{}.npz'.format(feature_name)\n",
    "    multiple_file = 'mvsa-multiple-{}.npz'.format(feature_name)\n",
    "    mvsa_single = loadz(os.path.join(folder_path, single_file))\n",
    "    mvsa_multiple = loadz(os.path.join(folder_path, multiple_file))\n",
    "    \n",
    "    if merge == True:\n",
    "        return merge_mvsa(mvsa_single, mvsa_multiple)\n",
    "    \n",
    "    return mvsa_single, mvsa_multiple\n",
    "\n",
    "def merge_dim(*args):\n",
    "    return np.concatenate(args, axis=1)\n",
    "\n",
    "# e.g. validation_split=0.1 -----> 8:1:1 ratio of train, val, test\n",
    "def split_data(data, validation_split):\n",
    "    num_val = int(validation_split * data.shape[0])\n",
    "    data_train = data[:-(num_val*2)]\n",
    "    data_val = data[-(num_val*2):-(num_val)]\n",
    "    data_test = data[-num_val:]\n",
    "    return data_train, data_val, data_test"
   ]
  },
  {
   "cell_type": "code",
   "execution_count": 3,
   "id": "0d531706",
   "metadata": {
    "execution": {
     "iopub.execute_input": "2022-07-13T17:37:47.395550Z",
     "iopub.status.busy": "2022-07-13T17:37:47.395257Z",
     "iopub.status.idle": "2022-07-13T17:37:47.404641Z",
     "shell.execute_reply": "2022-07-13T17:37:47.403808Z"
    },
    "papermill": {
     "duration": 0.016428,
     "end_time": "2022-07-13T17:37:47.406546",
     "exception": false,
     "start_time": "2022-07-13T17:37:47.390118",
     "status": "completed"
    },
    "tags": []
   },
   "outputs": [],
   "source": [
    "def weighted_average(weights, probs):\n",
    "    ''' Calculate the weighted average probability distribution from all input probs and its weights \n",
    "    weights: weights list (or array)\n",
    "    probs: probability distributions array list\n",
    "    '''\n",
    "    output_probs = []\n",
    "    weighted_probs = [probs[i] * weights[i] for i in range(len(weights))]\n",
    "    for i in range(len(probs[0])):\n",
    "        sum_prob = np.zeros(len(probs[0][0]))\n",
    "        for j in range(len(weights)):\n",
    "            sum_prob = np.sum((sum_prob, weighted_probs[j][i]), axis=0)\n",
    "        output_probs.append(sum_prob)\n",
    "    return np.asarray(output_probs, dtype='float32')\n",
    "\n",
    "def get_average_weights(*scores, inverse=False):\n",
    "    ''' Get the corresponding weight of each input score \n",
    "    inverse: (bool) get inverse weights value in case of the smaller score value, the bigger weight value (such as model loss)\n",
    "    '''\n",
    "    \n",
    "    weights = []\n",
    "    for score in scores:\n",
    "        weights.append(score/np.sum(scores))\n",
    "\n",
    "    if inverse == True:\n",
    "        inverse_weights = []\n",
    "        inverse = [1/weight for weight in weights]\n",
    "        for inv in inverse:\n",
    "            inverse_weights.append(inv/np.sum(inverse))\n",
    "        weights = inverse_weights\n",
    "\n",
    "    return weights"
   ]
  },
  {
   "cell_type": "code",
   "execution_count": 4,
   "id": "f07dff75",
   "metadata": {
    "execution": {
     "iopub.execute_input": "2022-07-13T17:37:47.416011Z",
     "iopub.status.busy": "2022-07-13T17:37:47.415767Z",
     "iopub.status.idle": "2022-07-13T17:37:47.426483Z",
     "shell.execute_reply": "2022-07-13T17:37:47.425489Z"
    },
    "papermill": {
     "duration": 0.018038,
     "end_time": "2022-07-13T17:37:47.428767",
     "exception": false,
     "start_time": "2022-07-13T17:37:47.410729",
     "status": "completed"
    },
    "tags": []
   },
   "outputs": [],
   "source": [
    "def create_model_text(input_shape, lstm=True):\n",
    "    text_input = Input(shape=input_shape)\n",
    "    if lstm == True:\n",
    "        reshape_text = Reshape((1, -1)) (text_input)\n",
    "        lstm = LSTM(NUM_LSTM) (reshape_text)\n",
    "        outputs = Dense(NUM_CLASSES, activation='softmax') (lstm)\n",
    "    else:\n",
    "        outputs = Dense(NUM_CLASSES, activation='softmax') (text_input)\n",
    "    model = Model(text_input, outputs)\n",
    "    model.compile(optimizer=OPTIMIZER, loss=LOSS, metrics=METRICS)\n",
    "    return model\n",
    "\n",
    "def create_model_image(input_shape):\n",
    "    image_input = Input(shape=input_shape)\n",
    "    outputs = Dense(NUM_CLASSES, activation='softmax') (image_input)\n",
    "    model = Model(image_input, outputs)\n",
    "    model.compile(optimizer=OPTIMIZER, loss=LOSS, metrics=METRICS)\n",
    "    return model\n",
    "\n",
    "def create_model_IF(text_shape, image_shape, lstm=True):\n",
    "    image_input = Input(shape=image_shape)\n",
    "    text_input = Input(shape=text_shape)\n",
    "    if lstm == True:\n",
    "        text_reshape = Reshape((1, -1)) (text_input)\n",
    "        text_lstm = LSTM(NUM_LSTM) (text_reshape)\n",
    "#     text_lstm = Dropout(DROPOUT_RATE) (text_lstm)\n",
    "        text_image_concat = Concatenate(axis=1)([text_lstm, image_input])\n",
    "    else:\n",
    "        text_image_concat = Concatenate(axis=1)([text_input, image_input])\n",
    "    concat_self_attention = Attention() ([text_image_concat, text_image_concat])\n",
    "#     concat_self_attention = Dropout(DROPOUT_RATE) (concat_self_attention)\n",
    "    outputs = Dense(NUM_CLASSES, activation='softmax') (concat_self_attention)\n",
    "    model = Model([text_input, image_input], outputs)\n",
    "    model.compile(optimizer=OPTIMIZER, loss=LOSS, metrics=METRICS)\n",
    "    return model"
   ]
  },
  {
   "cell_type": "code",
   "execution_count": 5,
   "id": "73e4b0ff",
   "metadata": {
    "execution": {
     "iopub.execute_input": "2022-07-13T17:37:47.438703Z",
     "iopub.status.busy": "2022-07-13T17:37:47.438460Z",
     "iopub.status.idle": "2022-07-13T17:37:47.458375Z",
     "shell.execute_reply": "2022-07-13T17:37:47.457543Z"
    },
    "papermill": {
     "duration": 0.02748,
     "end_time": "2022-07-13T17:37:47.460428",
     "exception": false,
     "start_time": "2022-07-13T17:37:47.432948",
     "status": "completed"
    },
    "tags": []
   },
   "outputs": [],
   "source": [
    "def run_and_evaluate_HF(name, X1, X2, y, verbose=0, lstm=True):\n",
    "    ''' Train Hybrid Fusion model and test only with Multimodal Labels\n",
    "    X1: text input\n",
    "    X2: image input\n",
    "    y: labels\n",
    "    verbose: 0 or 1 to print tracking on progress\n",
    "    '''\n",
    "    y = le.transform(y)\n",
    "    y = to_categorical(np.asarray(y))\n",
    "    \n",
    "    random_idx = np.random.permutation(len(label_inputs))\n",
    "    X1, X2, y = X1[random_idx], X2[random_idx], y[random_idx]\n",
    "    \n",
    "    X1_train, X1_val, X1_test = split_data(X1, VALIDATION_SPLIT)\n",
    "    X2_train, X2_val, X2_test = split_data(X2, VALIDATION_SPLIT)\n",
    "    y_train, y_val, y_test = split_data(y, VALIDATION_SPLIT)\n",
    "    \n",
    "    oversample = BorderlineSMOTE(sampling_strategy='minority', random_state=SEED, kind='borderline-2')\n",
    "#     oversample = SMOTE(sampling_strategy='minority', random_state=SEED)\n",
    "    X1_train, _ = oversample.fit_resample(X1_train, y_train)\n",
    "    X2_train, y_train = oversample.fit_resample(X2_train, y_train)\n",
    "\n",
    "    \n",
    "    if lstm == False:\n",
    "        model_text = create_model_text(X1_train.shape[1:], lstm=False)\n",
    "        model_IF = create_model_IF(X1_train.shape[1:], X2_train.shape[1:], lstm=False)\n",
    "    model_text = create_model_text(X1_train.shape[1:])\n",
    "    model_IF = create_model_IF(X1_train.shape[1:], X2_train.shape[1:])\n",
    "    model_image = create_model_image(X2_train.shape[1:])\n",
    "\n",
    "    early_stopping1 = EarlyStopping(monitor='val_loss', min_delta=1e-4, patience=EARLY_STOPPING)\n",
    "    early_stopping2 = EarlyStopping(monitor='val_loss', min_delta=1e-4, patience=EARLY_STOPPING)\n",
    "    early_stopping3 = EarlyStopping(monitor='val_loss', min_delta=1e-4, patience=EARLY_STOPPING)\n",
    "\n",
    "    checkpoint_text = ModelCheckpoint('./model_checkpoint/{}-text.h5'.format(name), save_best_only=True, verbose=verbose)\n",
    "    checkpoint_image = ModelCheckpoint('./model_checkpoint/{}-image.h5'.format(name), save_best_only=True, verbose=verbose)\n",
    "    checkpoint_IF = ModelCheckpoint('./model_checkpoint/{}-IF.h5'.format(name), save_best_only=True, verbose=verbose)\n",
    "\n",
    "    if 'multiple' in name:\n",
    "        batch_size = 256\n",
    "    else:\n",
    "        batch_size = BATCH_SIZE # 128\n",
    "    \n",
    "    history_text = model_text.fit(X1_train, y_train, validation_data=(X1_val, y_val), \n",
    "                        epochs=EPOCHS, batch_size=batch_size, verbose=verbose,\n",
    "                        callbacks=[checkpoint_text, early_stopping1])\n",
    "    \n",
    "    history_image = model_image.fit(X2_train, y_train, validation_data=(X2_val, y_val), \n",
    "                        epochs=EPOCHS, batch_size=batch_size, verbose=verbose,\n",
    "                        callbacks=[checkpoint_image, early_stopping2])\n",
    "    \n",
    "    history_IF = model_IF.fit([X1_train, X2_train], y_train, validation_data=([X1_val, X2_val], y_val), \n",
    "                        epochs=EPOCHS, batch_size=batch_size, verbose=verbose,\n",
    "                        callbacks=[checkpoint_IF, early_stopping3])\n",
    "    \n",
    "    best_val_acc_text = np.min(history_text.history['val_accuracy'])\n",
    "    best_val_acc_image = np.min(history_image.history['val_accuracy'])\n",
    "    best_val_acc_IF = np.min(history_IF.history['val_accuracy'])\n",
    "    \n",
    "    weights = get_average_weights(best_val_acc_text, best_val_acc_image, best_val_acc_IF)\n",
    "\n",
    "    model_text = load_model('./model_checkpoint/{}-text.h5'.format(name))\n",
    "    model_image = load_model('./model_checkpoint/{}-image.h5'.format(name))\n",
    "    model_IF = load_model('./model_checkpoint/{}-IF.h5'.format(name))\n",
    "\n",
    "    y_pred_text = model_text.predict(X1_test)\n",
    "    y_pred_image = model_image.predict(X2_test)\n",
    "    y_pred_IF = model_IF.predict([X1_test, X2_test])\n",
    "    \n",
    "    y_pred = weighted_average(weights, np.asarray([y_pred_text, y_pred_image, y_pred_IF], dtype='float32'))\n",
    "    \n",
    "    best_epoch_text = np.argmin(history_text.history['val_loss'])\n",
    "    best_epoch_image = np.argmin(history_image.history['val_loss'])\n",
    "    best_epoch_IF = np.argmin(history_IF.history['val_loss'])\n",
    "    \n",
    "    if verbose == 1:\n",
    "        print('Checkpoint of text model loaded at epoch:', best_epoch_text)\n",
    "        print('Checkpoint of image model loaded at epoch:', best_epoch_image)\n",
    "        print('Checkpoint of IF model loaded at epoch:', best_epoch_IF)\n",
    "\n",
    "    return evaluate_model_LF(y_test, y_pred, verbose=verbose)"
   ]
  },
  {
   "cell_type": "code",
   "execution_count": 6,
   "id": "36beba72",
   "metadata": {
    "execution": {
     "iopub.execute_input": "2022-07-13T17:37:47.470838Z",
     "iopub.status.busy": "2022-07-13T17:37:47.470337Z",
     "iopub.status.idle": "2022-07-13T17:37:47.477520Z",
     "shell.execute_reply": "2022-07-13T17:37:47.476677Z"
    },
    "papermill": {
     "duration": 0.014808,
     "end_time": "2022-07-13T17:37:47.479391",
     "exception": false,
     "start_time": "2022-07-13T17:37:47.464583",
     "status": "completed"
    },
    "tags": []
   },
   "outputs": [],
   "source": [
    "def evaluate_model_LF(y_true, y_pred, verbose=0):\n",
    "    \n",
    "    y_pred = le.inverse_transform(y_pred.argmax(axis=1))\n",
    "    y_true = le.inverse_transform(y_true.argmax(axis=1))\n",
    "\n",
    "    acc = accuracy_score(y_true, y_pred)\n",
    "    f1_macro = f1_score(y_true, y_pred, average='macro')\n",
    "    f1_weighted = f1_score(y_true, y_pred, average='weighted')\n",
    "\n",
    "#     if verbose == 1:\n",
    "    print(classification_report(y_true, y_pred))\n",
    "    matrix = confusion_matrix(y_true, y_pred,\n",
    "                              labels=list(le.classes_))\n",
    "    cm_disp = ConfusionMatrixDisplay(confusion_matrix=matrix,\n",
    "                              display_labels=list(le.classes_))\n",
    "    cm_disp.plot()\n",
    "    plt.show()\n",
    "\n",
    "    return acc, f1_macro, f1_weighted"
   ]
  },
  {
   "cell_type": "code",
   "execution_count": 7,
   "id": "30591dfe",
   "metadata": {
    "execution": {
     "iopub.execute_input": "2022-07-13T17:37:47.489422Z",
     "iopub.status.busy": "2022-07-13T17:37:47.488643Z",
     "iopub.status.idle": "2022-07-13T17:37:47.498772Z",
     "shell.execute_reply": "2022-07-13T17:37:47.497941Z"
    },
    "papermill": {
     "duration": 0.017045,
     "end_time": "2022-07-13T17:37:47.500632",
     "exception": false,
     "start_time": "2022-07-13T17:37:47.483587",
     "status": "completed"
    },
    "tags": []
   },
   "outputs": [],
   "source": [
    "def plot_metrics(history):\n",
    "    fig = plt.figure(figsize=(20, 5))\n",
    "\n",
    "    fig.add_subplot(1, 4, 1)\n",
    "    plt.plot(history.history['loss'])\n",
    "    plt.plot(history.history['val_loss'])\n",
    "    plt.title('LOSS')\n",
    "    plt.ylabel('loss')\n",
    "    plt.xlabel('epoch')\n",
    "    plt.legend(['train', 'val'], loc='best')\n",
    "\n",
    "    fig.add_subplot(1, 4, 2)\n",
    "    plt.plot(history.history['accuracy'])\n",
    "    plt.plot(history.history['val_accuracy'])\n",
    "    plt.title('ACCURACY')\n",
    "    plt.ylabel('accuracy')\n",
    "    plt.xlabel('epoch')\n",
    "    plt.legend(['train', 'val'], loc='best')\n",
    "\n",
    "    fig.add_subplot(1, 4, 3)\n",
    "    plt.plot(history.history['f1_macro'])\n",
    "    plt.plot(history.history['val_f1_macro'])\n",
    "    plt.title('Macro F1-SCORE')\n",
    "    plt.ylabel('f1-macro')\n",
    "    plt.xlabel('epoch')\n",
    "    plt.legend(['train', 'val'], loc='best')\n",
    "    \n",
    "    fig.add_subplot(1, 4, 4)\n",
    "    plt.plot(history.history['f1_weighted'])\n",
    "    plt.plot(history.history['val_f1_weighted'])\n",
    "    plt.title('Weighted F1-SCORE')\n",
    "    plt.ylabel('f1-weighted')\n",
    "    plt.xlabel('epoch')\n",
    "    plt.legend(['train', 'val'], loc='best')\n",
    "\n",
    "    plt.show()"
   ]
  },
  {
   "cell_type": "markdown",
   "id": "512ddc07",
   "metadata": {
    "papermill": {
     "duration": 0.0039,
     "end_time": "2022-07-13T17:37:47.508854",
     "exception": false,
     "start_time": "2022-07-13T17:37:47.504954",
     "status": "completed"
    },
    "tags": []
   },
   "source": [
    "# Load Data"
   ]
  },
  {
   "cell_type": "code",
   "execution_count": 8,
   "id": "819bf394",
   "metadata": {
    "execution": {
     "iopub.execute_input": "2022-07-13T17:37:47.518092Z",
     "iopub.status.busy": "2022-07-13T17:37:47.517848Z",
     "iopub.status.idle": "2022-07-13T17:37:54.289011Z",
     "shell.execute_reply": "2022-07-13T17:37:54.288037Z"
    },
    "papermill": {
     "duration": 6.778569,
     "end_time": "2022-07-13T17:37:54.291529",
     "exception": false,
     "start_time": "2022-07-13T17:37:47.512960",
     "status": "completed"
    },
    "tags": []
   },
   "outputs": [],
   "source": [
    "## Choose best\n",
    "# Load text feature\n",
    "mvsa_single_bert, mvsa_multiple_bert = load_mvsa_feature('bert-base')\n",
    "mvsa_single_pos_bow, mvsa_multiple_pos_bow = load_mvsa_feature('pos-bow')\n",
    "mvsa_single_pos_tfidf, mvsa_multiple_pos_tfidf = load_mvsa_feature('pos-tfidf')\n",
    "mvsa_single_ner_bow, mvsa_multiple_ner_bow = load_mvsa_feature('ner-bow')\n",
    "mvsa_single_ner_tfidf, mvsa_multiple_ner_tfidf = load_mvsa_feature('ner-tfidf')\n",
    "\n",
    "## Load image feature\n",
    "# mvsa_single_vgg16, mvsa_multiple_vgg16 = load_mvsa_feature('vgg16')\n",
    "mvsa_single_vgg19, mvsa_multiple_vgg19 = load_mvsa_feature('vgg19')\n",
    "# mvsa_single_resnet50, mvsa_multiple_resnet50 = load_mvsa_feature('resnet50')\n",
    "# mvsa_single_resnet101, mvsa_multiple_resnet101 = load_mvsa_feature('resnet101')\n",
    "# mvsa_single_resnet152, mvsa_multiple_resnet152 = load_mvsa_feature('resnet152')\n",
    "mvsa_single_densenet121, mvsa_multiple_densenet121 = load_mvsa_feature('densenet121')\n",
    "# mvsa_single_densenet169, mvsa_multiple_densenet169 = load_mvsa_feature('densenet169')\n",
    "mvsa_single_densenet201, mvsa_multiple_densenet201 = load_mvsa_feature('densenet201')"
   ]
  },
  {
   "cell_type": "code",
   "execution_count": 9,
   "id": "7e2079ee",
   "metadata": {
    "execution": {
     "iopub.execute_input": "2022-07-13T17:37:54.301699Z",
     "iopub.status.busy": "2022-07-13T17:37:54.301130Z",
     "iopub.status.idle": "2022-07-13T17:37:54.437136Z",
     "shell.execute_reply": "2022-07-13T17:37:54.436192Z"
    },
    "papermill": {
     "duration": 0.143218,
     "end_time": "2022-07-13T17:37:54.439201",
     "exception": false,
     "start_time": "2022-07-13T17:37:54.295983",
     "status": "completed"
    },
    "tags": []
   },
   "outputs": [
    {
     "data": {
      "text/plain": [
       "LabelEncoder()"
      ]
     },
     "execution_count": 9,
     "metadata": {},
     "output_type": "execute_result"
    }
   ],
   "source": [
    "mvsa_single_multimodal_labels, mvsa_single_text_labels, mvsa_single_image_labels = load_labels('../input/mvsa-features/labels/mvsa-single-labels.hdf5')\n",
    "mvsa_multiple_multimodal_labels, mvsa_multiple_text_labels, mvsa_multiple_image_labels = load_labels('../input/mvsa-features/labels/mvsa-multiple-labels.hdf5')\n",
    "\n",
    "le = preprocessing.LabelEncoder()\n",
    "le.fit(mvsa_multiple_multimodal_labels)"
   ]
  },
  {
   "cell_type": "code",
   "execution_count": 10,
   "id": "4fc0f731",
   "metadata": {
    "execution": {
     "iopub.execute_input": "2022-07-13T17:37:54.450815Z",
     "iopub.status.busy": "2022-07-13T17:37:54.449401Z",
     "iopub.status.idle": "2022-07-13T17:37:54.455327Z",
     "shell.execute_reply": "2022-07-13T17:37:54.454504Z"
    },
    "papermill": {
     "duration": 0.013388,
     "end_time": "2022-07-13T17:37:54.457552",
     "exception": false,
     "start_time": "2022-07-13T17:37:54.444164",
     "status": "completed"
    },
    "tags": []
   },
   "outputs": [],
   "source": [
    "import pickle\n",
    "pickle.dump(le, open('label_encoder.pkl', 'wb'))\n",
    "# le_loaded = pickle.load(open('label_encoder.pkl', 'rb'))"
   ]
  },
  {
   "cell_type": "code",
   "execution_count": 11,
   "id": "386495b0",
   "metadata": {
    "execution": {
     "iopub.execute_input": "2022-07-13T17:37:54.467311Z",
     "iopub.status.busy": "2022-07-13T17:37:54.467002Z",
     "iopub.status.idle": "2022-07-13T17:37:54.471362Z",
     "shell.execute_reply": "2022-07-13T17:37:54.470484Z"
    },
    "papermill": {
     "duration": 0.011445,
     "end_time": "2022-07-13T17:37:54.473349",
     "exception": false,
     "start_time": "2022-07-13T17:37:54.461904",
     "status": "completed"
    },
    "tags": []
   },
   "outputs": [],
   "source": [
    "# from imblearn.over_sampling import RandomOverSampler\n",
    "# ros = RandomOverSampler(random_state=SEED)\n",
    "# X_resampled, y_resampled = ros.fit_resample(image_inputs, y)\n",
    "# from collections import Counter\n",
    "# print(sorted(Counter(y_resampled).items()))"
   ]
  },
  {
   "cell_type": "markdown",
   "id": "3f123782",
   "metadata": {
    "papermill": {
     "duration": 0.004254,
     "end_time": "2022-07-13T17:37:54.481783",
     "exception": false,
     "start_time": "2022-07-13T17:37:54.477529",
     "status": "completed"
    },
    "tags": []
   },
   "source": [
    "# Model Training"
   ]
  },
  {
   "cell_type": "code",
   "execution_count": 12,
   "id": "aeb23894",
   "metadata": {
    "execution": {
     "iopub.execute_input": "2022-07-13T17:37:54.491943Z",
     "iopub.status.busy": "2022-07-13T17:37:54.491680Z",
     "iopub.status.idle": "2022-07-13T17:37:59.310844Z",
     "shell.execute_reply": "2022-07-13T17:37:59.309866Z"
    },
    "papermill": {
     "duration": 4.827383,
     "end_time": "2022-07-13T17:37:59.313582",
     "exception": false,
     "start_time": "2022-07-13T17:37:54.486199",
     "status": "completed"
    },
    "tags": []
   },
   "outputs": [
    {
     "name": "stderr",
     "output_type": "stream",
     "text": [
      "2022-07-13 17:37:54.569947: I tensorflow/stream_executor/cuda/cuda_gpu_executor.cc:937] successful NUMA node read from SysFS had negative value (-1), but there must be at least one NUMA node, so returning NUMA node zero\n",
      "2022-07-13 17:37:54.571024: I tensorflow/stream_executor/cuda/cuda_gpu_executor.cc:937] successful NUMA node read from SysFS had negative value (-1), but there must be at least one NUMA node, so returning NUMA node zero\n",
      "2022-07-13 17:37:54.571802: I tensorflow/stream_executor/cuda/cuda_gpu_executor.cc:937] successful NUMA node read from SysFS had negative value (-1), but there must be at least one NUMA node, so returning NUMA node zero\n",
      "2022-07-13 17:37:54.572765: I tensorflow/core/platform/cpu_feature_guard.cc:142] This TensorFlow binary is optimized with oneAPI Deep Neural Network Library (oneDNN) to use the following CPU instructions in performance-critical operations:  AVX2 AVX512F FMA\n",
      "To enable them in other operations, rebuild TensorFlow with the appropriate compiler flags.\n",
      "2022-07-13 17:37:54.573070: I tensorflow/stream_executor/cuda/cuda_gpu_executor.cc:937] successful NUMA node read from SysFS had negative value (-1), but there must be at least one NUMA node, so returning NUMA node zero\n",
      "2022-07-13 17:37:54.573859: I tensorflow/stream_executor/cuda/cuda_gpu_executor.cc:937] successful NUMA node read from SysFS had negative value (-1), but there must be at least one NUMA node, so returning NUMA node zero\n",
      "2022-07-13 17:37:54.574538: I tensorflow/stream_executor/cuda/cuda_gpu_executor.cc:937] successful NUMA node read from SysFS had negative value (-1), but there must be at least one NUMA node, so returning NUMA node zero\n",
      "2022-07-13 17:37:58.987696: I tensorflow/stream_executor/cuda/cuda_gpu_executor.cc:937] successful NUMA node read from SysFS had negative value (-1), but there must be at least one NUMA node, so returning NUMA node zero\n",
      "2022-07-13 17:37:58.988612: I tensorflow/stream_executor/cuda/cuda_gpu_executor.cc:937] successful NUMA node read from SysFS had negative value (-1), but there must be at least one NUMA node, so returning NUMA node zero\n",
      "2022-07-13 17:37:58.989312: I tensorflow/stream_executor/cuda/cuda_gpu_executor.cc:937] successful NUMA node read from SysFS had negative value (-1), but there must be at least one NUMA node, so returning NUMA node zero\n",
      "2022-07-13 17:37:58.989896: I tensorflow/core/common_runtime/gpu/gpu_device.cc:1510] Created device /job:localhost/replica:0/task:0/device:GPU:0 with 15047 MB memory:  -> device: 0, name: Tesla P100-PCIE-16GB, pci bus id: 0000:00:04.0, compute capability: 6.0\n"
     ]
    }
   ],
   "source": [
    "reset_seeds()\n",
    "EPOCHS = 100\n",
    "BATCH_SIZE = 128\n",
    "EARLY_STOPPING = 10\n",
    "NUM_LSTM = 64\n",
    "DROPOUT_RATE = 0.2\n",
    "VALIDATION_SPLIT = 0.1\n",
    "VERBOSE = 0\n",
    "\n",
    "NUM_CLASSES = 3\n",
    "f1_macro = tfa.metrics.F1Score(num_classes=NUM_CLASSES, average='macro', name='f1_macro')\n",
    "f1_weighted = tfa.metrics.F1Score(num_classes=NUM_CLASSES, average='weighted', name='f1_weighted')\n",
    "METRICS = ['accuracy', f1_macro, f1_weighted]\n",
    "LOSS = 'categorical_crossentropy'\n",
    "OPTIMIZER = 'adam'"
   ]
  },
  {
   "cell_type": "code",
   "execution_count": 13,
   "id": "02664768",
   "metadata": {
    "execution": {
     "iopub.execute_input": "2022-07-13T17:37:59.324450Z",
     "iopub.status.busy": "2022-07-13T17:37:59.324140Z",
     "iopub.status.idle": "2022-07-13T17:38:26.716152Z",
     "shell.execute_reply": "2022-07-13T17:38:26.715233Z"
    },
    "papermill": {
     "duration": 27.400306,
     "end_time": "2022-07-13T17:38:26.718574",
     "exception": false,
     "start_time": "2022-07-13T17:37:59.318268",
     "status": "completed"
    },
    "tags": []
   },
   "outputs": [
    {
     "name": "stdout",
     "output_type": "stream",
     "text": [
      "MVSA-Single: Counter({'positive': 2683, 'negative': 1358, 'neutral': 470})\n"
     ]
    },
    {
     "name": "stderr",
     "output_type": "stream",
     "text": [
      "2022-07-13 17:38:00.929292: I tensorflow/compiler/mlir/mlir_graph_optimization_pass.cc:185] None of the MLIR Optimization Passes are enabled (registered 2)\n",
      "2022-07-13 17:38:03.330873: I tensorflow/stream_executor/cuda/cuda_dnn.cc:369] Loaded cuDNN version 8005\n"
     ]
    },
    {
     "name": "stdout",
     "output_type": "stream",
     "text": [
      "              precision    recall  f1-score   support\n",
      "\n",
      "    negative       0.70      0.26      0.37       137\n",
      "     neutral       0.45      0.30      0.36        50\n",
      "    positive       0.67      0.94      0.78       264\n",
      "\n",
      "    accuracy                           0.66       451\n",
      "   macro avg       0.61      0.50      0.51       451\n",
      "weighted avg       0.66      0.66      0.61       451\n",
      "\n"
     ]
    },
    {
     "data": {
      "image/png": "[encoded data removed]",
      "text/plain": [
       "<Figure size 432x288 with 2 Axes>"
      ]
     },
     "metadata": {
      "needs_background": "light"
     },
     "output_type": "display_data"
    },
    {
     "data": {
      "text/plain": [
       "(0.6607538802660754, 0.5068624868389825, 0.6131831153752574)"
      ]
     },
     "execution_count": 13,
     "metadata": {},
     "output_type": "execute_result"
    }
   ],
   "source": [
    "counter_single = Counter(mvsa_single_multimodal_labels)\n",
    "print('MVSA-Single:', counter_single)\n",
    "\n",
    "text_inputs = merge_dim(mvsa_single_bert, mvsa_single_pos_bow)\n",
    "image_inputs = mvsa_single_vgg19\n",
    "label_inputs = mvsa_single_multimodal_labels\n",
    "\n",
    "random_idx = np.random.permutation(len(label_inputs))\n",
    "text_inputs, image_inputs, label_inputs = text_inputs[random_idx], image_inputs[random_idx], label_inputs[random_idx]\n",
    "\n",
    "run_and_evaluate_HF('HF-single', text_inputs, image_inputs, label_inputs, verbose=VERBOSE)"
   ]
  },
  {
   "cell_type": "code",
   "execution_count": 14,
   "id": "93196d87",
   "metadata": {
    "execution": {
     "iopub.execute_input": "2022-07-13T17:38:26.736075Z",
     "iopub.status.busy": "2022-07-13T17:38:26.735753Z",
     "iopub.status.idle": "2022-07-13T17:39:10.195510Z",
     "shell.execute_reply": "2022-07-13T17:39:10.194501Z"
    },
    "papermill": {
     "duration": 43.471085,
     "end_time": "2022-07-13T17:39:10.197916",
     "exception": false,
     "start_time": "2022-07-13T17:38:26.726831",
     "status": "completed"
    },
    "tags": []
   },
   "outputs": [
    {
     "name": "stdout",
     "output_type": "stream",
     "text": [
      "MVSA-Multiple: Counter({'positive': 11318, 'neutral': 4407, 'negative': 1299})\n",
      "              precision    recall  f1-score   support\n",
      "\n",
      "    negative       0.29      0.41      0.34       118\n",
      "     neutral       0.65      0.09      0.16       448\n",
      "    positive       0.72      0.93      0.81      1136\n",
      "\n",
      "    accuracy                           0.68      1702\n",
      "   macro avg       0.55      0.48      0.44      1702\n",
      "weighted avg       0.67      0.68      0.61      1702\n",
      "\n"
     ]
    },
    {
     "data": {
      "image/png": "[encoded data removed]",
      "text/plain": [
       "<Figure size 432x288 with 2 Axes>"
      ]
     },
     "metadata": {
      "needs_background": "light"
     },
     "output_type": "display_data"
    },
    {
     "data": {
      "text/plain": [
       "(0.6756756756756757, 0.436522261560169, 0.6077659676036884)"
      ]
     },
     "execution_count": 14,
     "metadata": {},
     "output_type": "execute_result"
    }
   ],
   "source": [
    "counter_multiple = Counter(mvsa_multiple_multimodal_labels)\n",
    "print('MVSA-Multiple:', counter_multiple)\n",
    "\n",
    "text_inputs = merge_dim(mvsa_multiple_bert)\n",
    "image_inputs = mvsa_multiple_vgg19\n",
    "label_inputs = mvsa_multiple_multimodal_labels\n",
    "\n",
    "random_idx = np.random.permutation(len(label_inputs))\n",
    "text_inputs, image_inputs, label_inputs = text_inputs[random_idx], image_inputs[random_idx], label_inputs[random_idx]\n",
    "\n",
    "run_and_evaluate_HF('HF-multiple', text_inputs, image_inputs, label_inputs, verbose=VERBOSE)"
   ]
  }
 ],
 "metadata": {
  "kernelspec": {
   "display_name": "Python 3",
   "language": "python",
   "name": "python3"
  },
  "language_info": {
   "codemirror_mode": {
    "name": "ipython",
    "version": 3
   },
   "file_extension": ".py",
   "mimetype": "text/x-python",
   "name": "python",
   "nbconvert_exporter": "python",
   "pygments_lexer": "ipython3",
   "version": "3.7.12"
  },
  "papermill": {
   "default_parameters": {},
   "duration": 102.476597,
   "end_time": "2022-07-13T17:39:13.253451",
   "environment_variables": {},
   "exception": null,
   "input_path": "__notebook__.ipynb",
   "output_path": "__notebook__.ipynb",
   "parameters": {},
   "start_time": "2022-07-13T17:37:30.776854",
   "version": "2.3.4"
  }
 },
 "nbformat": 4,
 "nbformat_minor": 5
}
