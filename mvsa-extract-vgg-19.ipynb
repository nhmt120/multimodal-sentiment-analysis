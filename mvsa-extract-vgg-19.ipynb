{
 "cells": [
  {
   "cell_type": "code",
   "execution_count": 1,
   "id": "ee10a110",
   "metadata": {
    "_cell_guid": "b1076dfc-b9ad-4769-8c92-a6c4dae69d19",
    "_uuid": "8f2839f25d086af736a60e9eeb907d3b93b6e0e5",
    "execution": {
     "iopub.execute_input": "2022-06-29T10:36:46.085041Z",
     "iopub.status.busy": "2022-06-29T10:36:46.084585Z",
     "iopub.status.idle": "2022-06-29T10:37:00.297829Z",
     "shell.execute_reply": "2022-06-29T10:37:00.296738Z"
    },
    "papermill": {
     "duration": 14.22436,
     "end_time": "2022-06-29T10:37:00.300815",
     "exception": false,
     "start_time": "2022-06-29T10:36:46.076455",
     "status": "completed"
    },
    "tags": []
   },
   "outputs": [],
   "source": [
    "import os\n",
    "import re\n",
    "import gc\n",
    "import h5py\n",
    "import torch\n",
    "import string\n",
    "import random\n",
    "import numpy as np\n",
    "import tensorflow as tf\n",
    "\n",
    "from tqdm import tqdm\n",
    "from nltk import tokenize\n",
    "from sklearn import preprocessing\n",
    "\n",
    "from keras.preprocessing.text import Tokenizer, text_to_word_sequence\n",
    "from keras.preprocessing.sequence import pad_sequences\n",
    "from keras.utils.np_utils import to_categorical\n",
    "from keras.applications.vgg16 import VGG16\n",
    "from keras.applications.vgg19 import VGG19\n",
    "from transformers import BertTokenizer, BertForMaskedLM, BertModel\n",
    "from tensorflow.keras import Model"
   ]
  },
  {
   "cell_type": "code",
   "execution_count": 2,
   "id": "4ce3b3e8",
   "metadata": {
    "execution": {
     "iopub.execute_input": "2022-06-29T10:37:00.313143Z",
     "iopub.status.busy": "2022-06-29T10:37:00.312529Z",
     "iopub.status.idle": "2022-06-29T10:37:00.316946Z",
     "shell.execute_reply": "2022-06-29T10:37:00.316016Z"
    },
    "papermill": {
     "duration": 0.01287,
     "end_time": "2022-06-29T10:37:00.318938",
     "exception": false,
     "start_time": "2022-06-29T10:37:00.306068",
     "status": "completed"
    },
    "tags": []
   },
   "outputs": [],
   "source": [
    "IMAGE_SIZE = (224, 224)\n",
    "NUM_CHANNELS = 3"
   ]
  },
  {
   "cell_type": "code",
   "execution_count": 3,
   "id": "2cc60f0f",
   "metadata": {
    "execution": {
     "iopub.execute_input": "2022-06-29T10:37:00.330613Z",
     "iopub.status.busy": "2022-06-29T10:37:00.329637Z",
     "iopub.status.idle": "2022-06-29T10:37:00.335088Z",
     "shell.execute_reply": "2022-06-29T10:37:00.334032Z"
    },
    "papermill": {
     "duration": 0.013297,
     "end_time": "2022-06-29T10:37:00.337055",
     "exception": false,
     "start_time": "2022-06-29T10:37:00.323758",
     "status": "completed"
    },
    "tags": []
   },
   "outputs": [],
   "source": [
    "mvsa_single_path = '../input/mvsa-data/mvsa-single-4316.hdf5'\n",
    "mvsa_multiple_path = '../input/mvsa-data/mvsa-multiple-16387.hdf5'"
   ]
  },
  {
   "cell_type": "code",
   "execution_count": 4,
   "id": "457e8e55",
   "metadata": {
    "execution": {
     "iopub.execute_input": "2022-06-29T10:37:00.348563Z",
     "iopub.status.busy": "2022-06-29T10:37:00.347831Z",
     "iopub.status.idle": "2022-06-29T10:37:00.355440Z",
     "shell.execute_reply": "2022-06-29T10:37:00.354244Z"
    },
    "papermill": {
     "duration": 0.016279,
     "end_time": "2022-06-29T10:37:00.357970",
     "exception": false,
     "start_time": "2022-06-29T10:37:00.341691",
     "status": "completed"
    },
    "tags": []
   },
   "outputs": [],
   "source": [
    "def clean_text(txt):\n",
    "#     nonEnglish_regex = re.compile('[^a-zA-Z0-9\\\\?\\\\!\\\\,\\\\.@#\\\\+\\\\-=\\\\*\\'\\\"><&\\\\$%\\\\(\\\\)\\\\[\\\\]:;]+')\n",
    "#     hashtag_pattern = re.compile('#[a-zA-Z0-9]+')\n",
    "#     txt_hashtag = re.sub(hashtag_pattern, '', txt)\n",
    "    at_pattern = re.compile('@[a-zA-Z0-9]+')\n",
    "    http_pattern = re.compile(\"((http|ftp|https)://)(([a-zA-Z0-9\\._-]+\\.[a-zA-Z]{2,6})|([0-9]{1,3}\\.[0-9]{1,3}\\.[0-9]{1,3}\\.[0-9]{1,3}))(:[0-9]{1,4})*(/[a-zA-Z0-9\\&%_\\./-~-]*)?\")\n",
    "    punc_pattern = re.compile('[%s]' % re.escape(string.punctuation))\n",
    "    txt = re.sub(at_pattern, '<user>', txt)\n",
    "    txt = re.sub(http_pattern, '<link>', txt)\n",
    "    \n",
    "    # as the data was crawled using Twitter API, it marked retweet data with RT <user> tag which has no meaning considering it in training\n",
    "    if txt.startswith('RT <user>'):\n",
    "        txt = ''.join(txt.split(':')[1:])    \n",
    "    txt = txt.strip()\n",
    "    \n",
    "    return txt"
   ]
  },
  {
   "cell_type": "code",
   "execution_count": 5,
   "id": "80f42579",
   "metadata": {
    "execution": {
     "iopub.execute_input": "2022-06-29T10:37:00.368930Z",
     "iopub.status.busy": "2022-06-29T10:37:00.368554Z",
     "iopub.status.idle": "2022-06-29T10:37:00.373778Z",
     "shell.execute_reply": "2022-06-29T10:37:00.372898Z"
    },
    "papermill": {
     "duration": 0.013191,
     "end_time": "2022-06-29T10:37:00.375829",
     "exception": false,
     "start_time": "2022-06-29T10:37:00.362638",
     "status": "completed"
    },
    "tags": []
   },
   "outputs": [],
   "source": [
    "def get_clean_texts(data):\n",
    "    cleaned_data = []\n",
    "    for line in data:\n",
    "        text = clean_text(line)\n",
    "        cleaned_data.append(text)\n",
    "    return cleaned_data"
   ]
  },
  {
   "cell_type": "code",
   "execution_count": 6,
   "id": "50745106",
   "metadata": {
    "execution": {
     "iopub.execute_input": "2022-06-29T10:37:00.387066Z",
     "iopub.status.busy": "2022-06-29T10:37:00.386426Z",
     "iopub.status.idle": "2022-06-29T10:37:00.394251Z",
     "shell.execute_reply": "2022-06-29T10:37:00.393450Z"
    },
    "papermill": {
     "duration": 0.015903,
     "end_time": "2022-06-29T10:37:00.396423",
     "exception": false,
     "start_time": "2022-06-29T10:37:00.380520",
     "status": "completed"
    },
    "tags": []
   },
   "outputs": [],
   "source": [
    "def read_hdf5(path):\n",
    "    read_file = h5py.File(path, 'r')\n",
    "    \n",
    "    feature_names = list(read_file.keys())\n",
    "    loaded_data = []\n",
    "    \n",
    "    for name in feature_names:\n",
    "        dataset = read_file[name][:]\n",
    "        if dataset.dtype == np.dtype('object'):\n",
    "            dataset = np.array([x.decode('UTF-8') for x in dataset])            \n",
    "        loaded_data.append((name, dataset))\n",
    "\n",
    "    return loaded_data"
   ]
  },
  {
   "cell_type": "code",
   "execution_count": 7,
   "id": "250ec884",
   "metadata": {
    "execution": {
     "iopub.execute_input": "2022-06-29T10:37:00.407784Z",
     "iopub.status.busy": "2022-06-29T10:37:00.407138Z",
     "iopub.status.idle": "2022-06-29T10:37:00.415838Z",
     "shell.execute_reply": "2022-06-29T10:37:00.415014Z"
    },
    "papermill": {
     "duration": 0.017101,
     "end_time": "2022-06-29T10:37:00.418187",
     "exception": false,
     "start_time": "2022-06-29T10:37:00.401086",
     "status": "completed"
    },
    "tags": []
   },
   "outputs": [],
   "source": [
    "def load_mvsa_data(path, multiple=False):\n",
    "    data = read_hdf5(path)\n",
    "    for x in data:\n",
    "        if x[0] == 'texts':\n",
    "            texts = x[1]\n",
    "        if x[0] == 'images':\n",
    "            images = x[1]\n",
    "        if x[0] == 'multimodal-labels':\n",
    "            labels = x[1]\n",
    "        if x[0] == 'text-labels':\n",
    "            text_labels = x[1]\n",
    "        if x[0] == 'image-labels':\n",
    "            image_labels = x[1]\n",
    "            \n",
    "    if multiple == True:\n",
    "        images_path = os.path.join(os.path.split(path)[0], os.path.split(path)[1].split('.')[0] + '-images.npz')\n",
    "#         npzfile = np.load(images_path)\n",
    "#         images = npzfile['arr_0']\n",
    "        images = loadz(images_path)\n",
    "        \n",
    "    return texts, images, labels, text_labels, image_labels\n",
    "\n",
    "def loadz(path):\n",
    "    data = np.load(path)['arr_0']\n",
    "    return data"
   ]
  },
  {
   "cell_type": "markdown",
   "id": "1db38eb3",
   "metadata": {
    "papermill": {
     "duration": 0.004437,
     "end_time": "2022-06-29T10:37:00.427376",
     "exception": false,
     "start_time": "2022-06-29T10:37:00.422939",
     "status": "completed"
    },
    "tags": []
   },
   "source": [
    "# Load raw data"
   ]
  },
  {
   "cell_type": "code",
   "execution_count": 8,
   "id": "dcb36f5d",
   "metadata": {
    "execution": {
     "iopub.execute_input": "2022-06-29T10:37:00.438591Z",
     "iopub.status.busy": "2022-06-29T10:37:00.437816Z",
     "iopub.status.idle": "2022-06-29T10:37:25.908844Z",
     "shell.execute_reply": "2022-06-29T10:37:25.907736Z"
    },
    "papermill": {
     "duration": 25.480311,
     "end_time": "2022-06-29T10:37:25.912185",
     "exception": false,
     "start_time": "2022-06-29T10:37:00.431874",
     "status": "completed"
    },
    "tags": []
   },
   "outputs": [],
   "source": [
    "mvsa_single_texts, mvsa_single_images, \\\n",
    "mvsa_single_multimodal_labels, mvsa_single_text_labels, \\\n",
    "mvsa_single_image_labels = load_mvsa_data(mvsa_single_path)\n",
    "num_mvsa_single = len(mvsa_single_texts)\n",
    "\n",
    "mvsa_multiple_texts, mvsa_multiple_images, \\\n",
    "mvsa_multiple_multimodal_labels, mvsa_multiple_text_labels, \\\n",
    "mvsa_multiple_image_labels = load_mvsa_data(mvsa_multiple_path, multiple=True)\n",
    "num_mvsa_multiple = len(mvsa_multiple_texts)"
   ]
  },
  {
   "cell_type": "code",
   "execution_count": 9,
   "id": "2f5690ac",
   "metadata": {
    "execution": {
     "iopub.execute_input": "2022-06-29T10:37:25.923088Z",
     "iopub.status.busy": "2022-06-29T10:37:25.922718Z",
     "iopub.status.idle": "2022-06-29T10:37:25.964225Z",
     "shell.execute_reply": "2022-06-29T10:37:25.962789Z"
    },
    "papermill": {
     "duration": 0.050194,
     "end_time": "2022-06-29T10:37:25.967102",
     "exception": false,
     "start_time": "2022-06-29T10:37:25.916908",
     "status": "completed"
    },
    "tags": []
   },
   "outputs": [
    {
     "name": "stdout",
     "output_type": "stream",
     "text": [
      "-----Sample-----\n",
      "Text label: negative\n",
      "Image label: negative\n",
      "Multimodal label: neutral\n",
      "Text: Dan Evans is #99ulocalyycâs next speaker. The title of his presentation? âShit My Mentor Saidâ #yyc #YYCevents\n",
      "Image:\n"
     ]
    },
    {
     "data": {
      "image/png": "[encoded data removed]",
      "text/plain": [
       "<PIL.Image.Image image mode=RGB size=224x224>"
      ]
     },
     "execution_count": 9,
     "metadata": {},
     "output_type": "execute_result"
    }
   ],
   "source": [
    "SAMPLE = random.choice(range(num_mvsa_multiple))\n",
    "print('-----Sample-----')\n",
    "print('Text label:', mvsa_multiple_text_labels[SAMPLE])\n",
    "print('Image label:', mvsa_multiple_image_labels[SAMPLE])\n",
    "print('Multimodal label:', mvsa_multiple_multimodal_labels[SAMPLE])\n",
    "print('Text:', mvsa_multiple_texts[SAMPLE])\n",
    "print('Image:')\n",
    "tf.keras.utils.array_to_img(mvsa_multiple_images[SAMPLE])"
   ]
  },
  {
   "cell_type": "markdown",
   "id": "e2bb4612",
   "metadata": {
    "papermill": {
     "duration": 0.005595,
     "end_time": "2022-06-29T10:37:25.978379",
     "exception": false,
     "start_time": "2022-06-29T10:37:25.972784",
     "status": "completed"
    },
    "tags": []
   },
   "source": [
    "# VGG-19"
   ]
  },
  {
   "cell_type": "code",
   "execution_count": 10,
   "id": "bc2ab086",
   "metadata": {
    "execution": {
     "iopub.execute_input": "2022-06-29T10:37:25.991494Z",
     "iopub.status.busy": "2022-06-29T10:37:25.991095Z",
     "iopub.status.idle": "2022-06-29T10:37:36.350326Z",
     "shell.execute_reply": "2022-06-29T10:37:36.349317Z"
    },
    "papermill": {
     "duration": 10.368974,
     "end_time": "2022-06-29T10:37:36.352953",
     "exception": false,
     "start_time": "2022-06-29T10:37:25.983979",
     "status": "completed"
    },
    "tags": []
   },
   "outputs": [
    {
     "name": "stderr",
     "output_type": "stream",
     "text": [
      "2022-06-29 10:37:26.046843: I tensorflow/core/common_runtime/process_util.cc:146] Creating new thread pool with default inter op setting: 2. Tune using inter_op_parallelism_threads for best performance.\n"
     ]
    },
    {
     "name": "stdout",
     "output_type": "stream",
     "text": [
      "Downloading data from https://storage.googleapis.com/tensorflow/keras-applications/vgg19/vgg19_weights_tf_dim_ordering_tf_kernels.h5\n",
      "574717952/574710816 [==============================] - 8s 0us/step\n",
      "574726144/574710816 [==============================] - 8s 0us/step\n"
     ]
    }
   ],
   "source": [
    "vgg19 = VGG19(input_shape=(IMAGE_SIZE[0], IMAGE_SIZE[1], NUM_CHANNELS))\n",
    "vgg19.trainable = False # Freeze pre-trained layers\n",
    "model_vgg19 = Model(inputs=vgg19.input, outputs=vgg19.layers[-2].output) # output of last hidden layer"
   ]
  },
  {
   "cell_type": "code",
   "execution_count": 11,
   "id": "6ccf7dc0",
   "metadata": {
    "execution": {
     "iopub.execute_input": "2022-06-29T10:37:36.376995Z",
     "iopub.status.busy": "2022-06-29T10:37:36.375824Z",
     "iopub.status.idle": "2022-06-29T11:00:45.783185Z",
     "shell.execute_reply": "2022-06-29T11:00:45.781690Z"
    },
    "papermill": {
     "duration": 1389.422222,
     "end_time": "2022-06-29T11:00:45.786119",
     "exception": false,
     "start_time": "2022-06-29T10:37:36.363897",
     "status": "completed"
    },
    "tags": []
   },
   "outputs": [
    {
     "name": "stdout",
     "output_type": "stream",
     "text": [
      "MVSA-Single: Extracting VGG-19 features of images\n"
     ]
    },
    {
     "name": "stderr",
     "output_type": "stream",
     "text": [
      "2022-06-29 10:37:36.939288: I tensorflow/compiler/mlir/mlir_graph_optimization_pass.cc:185] None of the MLIR Optimization Passes are enabled (registered 2)\n"
     ]
    },
    {
     "name": "stdout",
     "output_type": "stream",
     "text": [
      "135/135 [==============================] - 1388s 10s/step\n",
      "VGG-19 last hidden layer dimension: 4096\n",
      "MVSA-Single with VGG-19 last hidden layer: (4316, 4096)\n",
      "True\n"
     ]
    }
   ],
   "source": [
    "print('MVSA-Single: Extracting VGG-19 features of images')\n",
    "mvsa_single_vgg19 = model_vgg19.predict(mvsa_single_images, verbose=1)\n",
    "print('VGG-19 last hidden layer dimension:', mvsa_single_vgg19.shape[1])\n",
    "print('MVSA-Single with VGG-19 last hidden layer:', mvsa_single_vgg19.shape)\n",
    "\n",
    "# save and load check\n",
    "np.savez('./mvsa-single-vgg19', mvsa_single_vgg19)\n",
    "x = loadz('./mvsa-single-vgg19.npz')\n",
    "print((x == mvsa_single_vgg19).all())"
   ]
  },
  {
   "cell_type": "code",
   "execution_count": 12,
   "id": "bb1a3165",
   "metadata": {
    "execution": {
     "iopub.execute_input": "2022-06-29T11:00:45.831185Z",
     "iopub.status.busy": "2022-06-29T11:00:45.830352Z",
     "iopub.status.idle": "2022-06-29T12:29:22.924297Z",
     "shell.execute_reply": "2022-06-29T12:29:22.922642Z"
    },
    "papermill": {
     "duration": 5317.120094,
     "end_time": "2022-06-29T12:29:22.927514",
     "exception": false,
     "start_time": "2022-06-29T11:00:45.807420",
     "status": "completed"
    },
    "tags": []
   },
   "outputs": [
    {
     "name": "stdout",
     "output_type": "stream",
     "text": [
      "MVSA-Multiple: Extracting VGG-19 features of images\n",
      "513/513 [==============================] - 5312s 10s/step\n",
      "VGG-19 last hidden layer dimension: 4096\n",
      "MVSA-Multiple with VGG-19 last hidden layer: (16387, 4096)\n",
      "True\n"
     ]
    }
   ],
   "source": [
    "print('MVSA-Multiple: Extracting VGG-19 features of images')\n",
    "mvsa_multiple_vgg19 = model_vgg19.predict(mvsa_multiple_images, verbose=1)\n",
    "print('VGG-19 last hidden layer dimension:', mvsa_multiple_vgg19.shape[1])\n",
    "print('MVSA-Multiple with VGG-19 last hidden layer:', mvsa_multiple_vgg19.shape)\n",
    "\n",
    "# save and load check\n",
    "np.savez('./mvsa-multiple-vgg19', mvsa_multiple_vgg19)\n",
    "x = loadz('./mvsa-multiple-vgg19.npz')\n",
    "print((x == mvsa_multiple_vgg19).all())"
   ]
  }
 ],
 "metadata": {
  "kernelspec": {
   "display_name": "Python 3",
   "language": "python",
   "name": "python3"
  },
  "language_info": {
   "codemirror_mode": {
    "name": "ipython",
    "version": 3
   },
   "file_extension": ".py",
   "mimetype": "text/x-python",
   "name": "python",
   "nbconvert_exporter": "python",
   "pygments_lexer": "ipython3",
   "version": "3.7.12"
  },
  "papermill": {
   "default_parameters": {},
   "duration": 6770.73601,
   "end_time": "2022-06-29T12:29:26.538472",
   "environment_variables": {},
   "exception": null,
   "input_path": "__notebook__.ipynb",
   "output_path": "__notebook__.ipynb",
   "parameters": {},
   "start_time": "2022-06-29T10:36:35.802462",
   "version": "2.3.4"
  }
 },
 "nbformat": 4,
 "nbformat_minor": 5
}
