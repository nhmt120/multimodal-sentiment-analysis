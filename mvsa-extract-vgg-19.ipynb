{
 "cells": [
  {
   "cell_type": "code",
   "execution_count": 1,
   "id": "38b9d74f",
   "metadata": {
    "_cell_guid": "b1076dfc-b9ad-4769-8c92-a6c4dae69d19",
    "_uuid": "8f2839f25d086af736a60e9eeb907d3b93b6e0e5",
    "execution": {
     "iopub.execute_input": "2022-07-03T18:36:35.960948Z",
     "iopub.status.busy": "2022-07-03T18:36:35.960336Z",
     "iopub.status.idle": "2022-07-03T18:36:50.475518Z",
     "shell.execute_reply": "2022-07-03T18:36:50.474214Z"
    },
    "papermill": {
     "duration": 14.524331,
     "end_time": "2022-07-03T18:36:50.478517",
     "exception": false,
     "start_time": "2022-07-03T18:36:35.954186",
     "status": "completed"
    },
    "tags": []
   },
   "outputs": [],
   "source": [
    "import os\n",
    "import re\n",
    "import gc\n",
    "import h5py\n",
    "import torch\n",
    "import string\n",
    "import random\n",
    "import numpy as np\n",
    "import tensorflow as tf\n",
    "\n",
    "from tqdm import tqdm\n",
    "from nltk import tokenize\n",
    "from sklearn import preprocessing\n",
    "\n",
    "from keras.preprocessing.text import Tokenizer, text_to_word_sequence\n",
    "from keras.preprocessing.sequence import pad_sequences\n",
    "from keras.utils.np_utils import to_categorical\n",
    "from keras.layers import Rescaling\n",
    "from keras import Input\n",
    "from keras.applications.vgg16 import VGG16\n",
    "from keras.applications.vgg19 import VGG19\n",
    "from transformers import BertTokenizer, BertForMaskedLM, BertModel\n",
    "from tensorflow.keras import Model"
   ]
  },
  {
   "cell_type": "code",
   "execution_count": 2,
   "id": "fac87142",
   "metadata": {
    "execution": {
     "iopub.execute_input": "2022-07-03T18:36:50.487683Z",
     "iopub.status.busy": "2022-07-03T18:36:50.486934Z",
     "iopub.status.idle": "2022-07-03T18:36:50.492155Z",
     "shell.execute_reply": "2022-07-03T18:36:50.490913Z"
    },
    "papermill": {
     "duration": 0.012349,
     "end_time": "2022-07-03T18:36:50.494504",
     "exception": false,
     "start_time": "2022-07-03T18:36:50.482155",
     "status": "completed"
    },
    "tags": []
   },
   "outputs": [],
   "source": [
    "IMAGE_SIZE = (224, 224)\n",
    "NUM_CHANNELS = 3"
   ]
  },
  {
   "cell_type": "code",
   "execution_count": 3,
   "id": "9b47c3d7",
   "metadata": {
    "execution": {
     "iopub.execute_input": "2022-07-03T18:36:50.503164Z",
     "iopub.status.busy": "2022-07-03T18:36:50.502759Z",
     "iopub.status.idle": "2022-07-03T18:36:50.507909Z",
     "shell.execute_reply": "2022-07-03T18:36:50.506871Z"
    },
    "papermill": {
     "duration": 0.012598,
     "end_time": "2022-07-03T18:36:50.510343",
     "exception": false,
     "start_time": "2022-07-03T18:36:50.497745",
     "status": "completed"
    },
    "tags": []
   },
   "outputs": [],
   "source": [
    "mvsa_single_path = '../input/mvsa-data/mvsa-single-4511.hdf5'\n",
    "mvsa_multiple_path = '../input/mvsa-data/mvsa-multiple-17024.hdf5'"
   ]
  },
  {
   "cell_type": "code",
   "execution_count": 4,
   "id": "f60a3e76",
   "metadata": {
    "execution": {
     "iopub.execute_input": "2022-07-03T18:36:50.518936Z",
     "iopub.status.busy": "2022-07-03T18:36:50.518403Z",
     "iopub.status.idle": "2022-07-03T18:36:50.524894Z",
     "shell.execute_reply": "2022-07-03T18:36:50.523928Z"
    },
    "papermill": {
     "duration": 0.013002,
     "end_time": "2022-07-03T18:36:50.526885",
     "exception": false,
     "start_time": "2022-07-03T18:36:50.513883",
     "status": "completed"
    },
    "tags": []
   },
   "outputs": [],
   "source": [
    "def read_hdf5(path):\n",
    "    read_file = h5py.File(path, 'r')\n",
    "    \n",
    "    feature_names = list(read_file.keys())\n",
    "    loaded_data = []\n",
    "    \n",
    "    for name in feature_names:\n",
    "        dataset = read_file[name][:]\n",
    "        if dataset.dtype == np.dtype('object'):\n",
    "            dataset = np.array([x.decode('UTF-8') for x in dataset])            \n",
    "        loaded_data.append((name, dataset))\n",
    "\n",
    "    return loaded_data"
   ]
  },
  {
   "cell_type": "code",
   "execution_count": 5,
   "id": "99a7a9b2",
   "metadata": {
    "execution": {
     "iopub.execute_input": "2022-07-03T18:36:50.535819Z",
     "iopub.status.busy": "2022-07-03T18:36:50.535388Z",
     "iopub.status.idle": "2022-07-03T18:36:50.544719Z",
     "shell.execute_reply": "2022-07-03T18:36:50.543594Z"
    },
    "papermill": {
     "duration": 0.016713,
     "end_time": "2022-07-03T18:36:50.547090",
     "exception": false,
     "start_time": "2022-07-03T18:36:50.530377",
     "status": "completed"
    },
    "tags": []
   },
   "outputs": [],
   "source": [
    "def load_mvsa_data(path, multiple=False):\n",
    "    data = read_hdf5(path)\n",
    "    for x in data:\n",
    "        if x[0] == 'texts':\n",
    "            texts = x[1]\n",
    "        if x[0] == 'multimodal-labels':\n",
    "            labels = x[1]\n",
    "        if x[0] == 'text-labels':\n",
    "            text_labels = x[1]\n",
    "        if x[0] == 'image-labels':\n",
    "            image_labels = x[1]\n",
    "            \n",
    "    images_path = os.path.join(os.path.split(path)[0], os.path.split(path)[1].split('.')[0] + '-images.npz')\n",
    "    images = loadz(images_path)\n",
    "        \n",
    "    return texts, images, labels, text_labels, image_labels\n",
    "\n",
    "def loadz(path):\n",
    "    data = np.load(path)['arr_0']\n",
    "    return data"
   ]
  },
  {
   "cell_type": "markdown",
   "id": "3f51cad4",
   "metadata": {
    "papermill": {
     "duration": 0.002945,
     "end_time": "2022-07-03T18:36:50.553396",
     "exception": false,
     "start_time": "2022-07-03T18:36:50.550451",
     "status": "completed"
    },
    "tags": []
   },
   "source": [
    "# Load raw data"
   ]
  },
  {
   "cell_type": "code",
   "execution_count": 6,
   "id": "91573eac",
   "metadata": {
    "execution": {
     "iopub.execute_input": "2022-07-03T18:36:50.562747Z",
     "iopub.status.busy": "2022-07-03T18:36:50.562007Z",
     "iopub.status.idle": "2022-07-03T18:37:22.172103Z",
     "shell.execute_reply": "2022-07-03T18:37:22.170148Z"
    },
    "papermill": {
     "duration": 31.620433,
     "end_time": "2022-07-03T18:37:22.177502",
     "exception": false,
     "start_time": "2022-07-03T18:36:50.557069",
     "status": "completed"
    },
    "tags": []
   },
   "outputs": [],
   "source": [
    "mvsa_single_texts, mvsa_single_images, \\\n",
    "mvsa_single_multimodal_labels, mvsa_single_text_labels, \\\n",
    "mvsa_single_image_labels = load_mvsa_data(mvsa_single_path)\n",
    "num_mvsa_single = len(mvsa_single_texts)\n",
    "\n",
    "mvsa_multiple_texts, mvsa_multiple_images, \\\n",
    "mvsa_multiple_multimodal_labels, mvsa_multiple_text_labels, \\\n",
    "mvsa_multiple_image_labels = load_mvsa_data(mvsa_multiple_path)\n",
    "num_mvsa_multiple = len(mvsa_multiple_texts)"
   ]
  },
  {
   "cell_type": "markdown",
   "id": "b59e9cde",
   "metadata": {
    "papermill": {
     "duration": 0.003252,
     "end_time": "2022-07-03T18:37:22.188101",
     "exception": false,
     "start_time": "2022-07-03T18:37:22.184849",
     "status": "completed"
    },
    "tags": []
   },
   "source": [
    "# VGG-19"
   ]
  },
  {
   "cell_type": "code",
   "execution_count": 7,
   "id": "a726c736",
   "metadata": {
    "execution": {
     "iopub.execute_input": "2022-07-03T18:37:22.197827Z",
     "iopub.status.busy": "2022-07-03T18:37:22.197155Z",
     "iopub.status.idle": "2022-07-03T18:37:27.925941Z",
     "shell.execute_reply": "2022-07-03T18:37:27.924680Z"
    },
    "papermill": {
     "duration": 5.73708,
     "end_time": "2022-07-03T18:37:27.928705",
     "exception": false,
     "start_time": "2022-07-03T18:37:22.191625",
     "status": "completed"
    },
    "tags": []
   },
   "outputs": [
    {
     "name": "stderr",
     "output_type": "stream",
     "text": [
      "2022-07-03 18:37:22.310758: I tensorflow/core/common_runtime/process_util.cc:146] Creating new thread pool with default inter op setting: 2. Tune using inter_op_parallelism_threads for best performance.\n"
     ]
    },
    {
     "name": "stdout",
     "output_type": "stream",
     "text": [
      "Downloading data from https://storage.googleapis.com/tensorflow/keras-applications/vgg19/vgg19_weights_tf_dim_ordering_tf_kernels.h5\n",
      "574717952/574710816 [==============================] - 3s 0us/step\n",
      "574726144/574710816 [==============================] - 3s 0us/step\n",
      "Model: \"model\"\n",
      "_________________________________________________________________\n",
      "Layer (type)                 Output Shape              Param #   \n",
      "=================================================================\n",
      "input_1 (InputLayer)         [(None, 224, 224, 3)]     0         \n",
      "_________________________________________________________________\n",
      "block1_conv1 (Conv2D)        (None, 224, 224, 64)      1792      \n",
      "_________________________________________________________________\n",
      "block1_conv2 (Conv2D)        (None, 224, 224, 64)      36928     \n",
      "_________________________________________________________________\n",
      "block1_pool (MaxPooling2D)   (None, 112, 112, 64)      0         \n",
      "_________________________________________________________________\n",
      "block2_conv1 (Conv2D)        (None, 112, 112, 128)     73856     \n",
      "_________________________________________________________________\n",
      "block2_conv2 (Conv2D)        (None, 112, 112, 128)     147584    \n",
      "_________________________________________________________________\n",
      "block2_pool (MaxPooling2D)   (None, 56, 56, 128)       0         \n",
      "_________________________________________________________________\n",
      "block3_conv1 (Conv2D)        (None, 56, 56, 256)       295168    \n",
      "_________________________________________________________________\n",
      "block3_conv2 (Conv2D)        (None, 56, 56, 256)       590080    \n",
      "_________________________________________________________________\n",
      "block3_conv3 (Conv2D)        (None, 56, 56, 256)       590080    \n",
      "_________________________________________________________________\n",
      "block3_conv4 (Conv2D)        (None, 56, 56, 256)       590080    \n",
      "_________________________________________________________________\n",
      "block3_pool (MaxPooling2D)   (None, 28, 28, 256)       0         \n",
      "_________________________________________________________________\n",
      "block4_conv1 (Conv2D)        (None, 28, 28, 512)       1180160   \n",
      "_________________________________________________________________\n",
      "block4_conv2 (Conv2D)        (None, 28, 28, 512)       2359808   \n",
      "_________________________________________________________________\n",
      "block4_conv3 (Conv2D)        (None, 28, 28, 512)       2359808   \n",
      "_________________________________________________________________\n",
      "block4_conv4 (Conv2D)        (None, 28, 28, 512)       2359808   \n",
      "_________________________________________________________________\n",
      "block4_pool (MaxPooling2D)   (None, 14, 14, 512)       0         \n",
      "_________________________________________________________________\n",
      "block5_conv1 (Conv2D)        (None, 14, 14, 512)       2359808   \n",
      "_________________________________________________________________\n",
      "block5_conv2 (Conv2D)        (None, 14, 14, 512)       2359808   \n",
      "_________________________________________________________________\n",
      "block5_conv3 (Conv2D)        (None, 14, 14, 512)       2359808   \n",
      "_________________________________________________________________\n",
      "block5_conv4 (Conv2D)        (None, 14, 14, 512)       2359808   \n",
      "_________________________________________________________________\n",
      "block5_pool (MaxPooling2D)   (None, 7, 7, 512)         0         \n",
      "_________________________________________________________________\n",
      "flatten (Flatten)            (None, 25088)             0         \n",
      "_________________________________________________________________\n",
      "fc1 (Dense)                  (None, 4096)              102764544 \n",
      "_________________________________________________________________\n",
      "fc2 (Dense)                  (None, 4096)              16781312  \n",
      "=================================================================\n",
      "Total params: 139,570,240\n",
      "Trainable params: 0\n",
      "Non-trainable params: 139,570,240\n",
      "_________________________________________________________________\n"
     ]
    }
   ],
   "source": [
    "vgg19 = VGG19(input_shape=(IMAGE_SIZE[0], IMAGE_SIZE[1], NUM_CHANNELS))\n",
    "vgg19.trainable = False # Freeze pre-trained layers\n",
    "vgg19_last = Model(inputs=vgg19.input, outputs=vgg19.layers[-2].output) # output of last hidden layer\n",
    "vgg19_last.summary()"
   ]
  },
  {
   "cell_type": "code",
   "execution_count": 8,
   "id": "6422eb66",
   "metadata": {
    "execution": {
     "iopub.execute_input": "2022-07-03T18:37:27.946009Z",
     "iopub.status.busy": "2022-07-03T18:37:27.945624Z",
     "iopub.status.idle": "2022-07-03T18:37:28.449823Z",
     "shell.execute_reply": "2022-07-03T18:37:28.448513Z"
    },
    "papermill": {
     "duration": 0.515223,
     "end_time": "2022-07-03T18:37:28.452487",
     "exception": false,
     "start_time": "2022-07-03T18:37:27.937264",
     "status": "completed"
    },
    "tags": []
   },
   "outputs": [
    {
     "name": "stdout",
     "output_type": "stream",
     "text": [
      "Model: \"model_1\"\n",
      "_________________________________________________________________\n",
      "Layer (type)                 Output Shape              Param #   \n",
      "=================================================================\n",
      "input_2 (InputLayer)         [(None, 224, 224, 3)]     0         \n",
      "_________________________________________________________________\n",
      "rescaling (Rescaling)        (None, 224, 224, 3)       0         \n",
      "_________________________________________________________________\n",
      "model (Functional)           (None, 4096)              139570240 \n",
      "=================================================================\n",
      "Total params: 139,570,240\n",
      "Trainable params: 0\n",
      "Non-trainable params: 139,570,240\n",
      "_________________________________________________________________\n"
     ]
    }
   ],
   "source": [
    "# Summary of VGG-19 is hidden\n",
    "image_inputs = Input(shape=(IMAGE_SIZE[0], IMAGE_SIZE[1], NUM_CHANNELS))\n",
    "rescale_layer = Rescaling(scale=1./255.) (image_inputs)  # Rescale inputs\n",
    "outputs = vgg19_last (rescale_layer)\n",
    "model_vgg19 = Model(inputs=image_inputs, outputs=outputs)\n",
    "model_vgg19.summary()"
   ]
  },
  {
   "cell_type": "code",
   "execution_count": 9,
   "id": "2c483075",
   "metadata": {
    "execution": {
     "iopub.execute_input": "2022-07-03T18:37:28.468948Z",
     "iopub.status.busy": "2022-07-03T18:37:28.468157Z",
     "iopub.status.idle": "2022-07-03T18:59:56.823433Z",
     "shell.execute_reply": "2022-07-03T18:59:56.821112Z"
    },
    "papermill": {
     "duration": 1348.367312,
     "end_time": "2022-07-03T18:59:56.826963",
     "exception": false,
     "start_time": "2022-07-03T18:37:28.459651",
     "status": "completed"
    },
    "tags": []
   },
   "outputs": [
    {
     "name": "stdout",
     "output_type": "stream",
     "text": [
      "MVSA-Single: Extracting VGG-19 features of images\n"
     ]
    },
    {
     "name": "stderr",
     "output_type": "stream",
     "text": [
      "2022-07-03 18:37:28.920596: I tensorflow/compiler/mlir/mlir_graph_optimization_pass.cc:185] None of the MLIR Optimization Passes are enabled (registered 2)\n"
     ]
    },
    {
     "name": "stdout",
     "output_type": "stream",
     "text": [
      "141/141 [==============================] - 1347s 10s/step\n",
      "VGG-19 last hidden layer dimension: 4096\n",
      "MVSA-Single with VGG-19 last hidden layer: (4511, 4096)\n",
      "True\n"
     ]
    }
   ],
   "source": [
    "print('MVSA-Single: Extracting VGG-19 features of images')\n",
    "mvsa_single_vgg19 = model_vgg19.predict(mvsa_single_images, verbose=1)\n",
    "print('VGG-19 last hidden layer dimension:', mvsa_single_vgg19.shape[1])\n",
    "print('MVSA-Single with VGG-19 last hidden layer:', mvsa_single_vgg19.shape)\n",
    "\n",
    "# save and load check\n",
    "np.savez('./mvsa-single-vgg19', mvsa_single_vgg19)\n",
    "x = loadz('./mvsa-single-vgg19.npz')\n",
    "print((x == mvsa_single_vgg19).all())"
   ]
  },
  {
   "cell_type": "code",
   "execution_count": 10,
   "id": "b66e74e2",
   "metadata": {
    "execution": {
     "iopub.execute_input": "2022-07-03T18:59:56.860389Z",
     "iopub.status.busy": "2022-07-03T18:59:56.859967Z",
     "iopub.status.idle": "2022-07-03T20:25:24.050774Z",
     "shell.execute_reply": "2022-07-03T20:25:24.048968Z"
    },
    "papermill": {
     "duration": 5127.210451,
     "end_time": "2022-07-03T20:25:24.053671",
     "exception": false,
     "start_time": "2022-07-03T18:59:56.843220",
     "status": "completed"
    },
    "tags": []
   },
   "outputs": [
    {
     "name": "stdout",
     "output_type": "stream",
     "text": [
      "MVSA-Multiple: Extracting VGG-19 features of images\n",
      "532/532 [==============================] - 5120s 10s/step\n",
      "VGG-19 last hidden layer dimension: 4096\n",
      "MVSA-Multiple with VGG-19 last hidden layer: (17024, 4096)\n",
      "True\n"
     ]
    }
   ],
   "source": [
    "print('MVSA-Multiple: Extracting VGG-19 features of images')\n",
    "mvsa_multiple_vgg19 = model_vgg19.predict(mvsa_multiple_images, verbose=1)\n",
    "print('VGG-19 last hidden layer dimension:', mvsa_multiple_vgg19.shape[1])\n",
    "print('MVSA-Multiple with VGG-19 last hidden layer:', mvsa_multiple_vgg19.shape)\n",
    "\n",
    "# save and load check\n",
    "np.savez('./mvsa-multiple-vgg19', mvsa_multiple_vgg19)\n",
    "x = loadz('./mvsa-multiple-vgg19.npz')\n",
    "print((x == mvsa_multiple_vgg19).all())"
   ]
  }
 ],
 "metadata": {
  "kernelspec": {
   "display_name": "Python 3",
   "language": "python",
   "name": "python3"
  },
  "language_info": {
   "codemirror_mode": {
    "name": "ipython",
    "version": 3
   },
   "file_extension": ".py",
   "mimetype": "text/x-python",
   "name": "python",
   "nbconvert_exporter": "python",
   "pygments_lexer": "ipython3",
   "version": "3.7.12"
  },
  "papermill": {
   "default_parameters": {},
   "duration": 6541.178853,
   "end_time": "2022-07-03T20:25:27.989497",
   "environment_variables": {},
   "exception": null,
   "input_path": "__notebook__.ipynb",
   "output_path": "__notebook__.ipynb",
   "parameters": {},
   "start_time": "2022-07-03T18:36:26.810644",
   "version": "2.3.4"
  }
 },
 "nbformat": 4,
 "nbformat_minor": 5
}
