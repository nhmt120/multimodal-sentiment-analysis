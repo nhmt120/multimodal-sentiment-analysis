{
 "cells": [
  {
   "cell_type": "code",
   "execution_count": 1,
   "id": "045d19a6",
   "metadata": {
    "_cell_guid": "b1076dfc-b9ad-4769-8c92-a6c4dae69d19",
    "_uuid": "8f2839f25d086af736a60e9eeb907d3b93b6e0e5",
    "execution": {
     "iopub.execute_input": "2022-07-04T18:18:58.693098Z",
     "iopub.status.busy": "2022-07-04T18:18:58.692513Z",
     "iopub.status.idle": "2022-07-04T18:19:07.049144Z",
     "shell.execute_reply": "2022-07-04T18:19:07.048198Z"
    },
    "papermill": {
     "duration": 8.370827,
     "end_time": "2022-07-04T18:19:07.051632",
     "exception": false,
     "start_time": "2022-07-04T18:18:58.680805",
     "status": "completed"
    },
    "tags": []
   },
   "outputs": [],
   "source": [
    "SEED = 61\n",
    "\n",
    "import os\n",
    "import re\n",
    "import gc\n",
    "import h5py\n",
    "import torch\n",
    "import numpy as np\n",
    "import pandas as pd\n",
    "import tensorflow as tf\n",
    "import random as python_random\n",
    "import tensorflow_addons as tfa\n",
    "import matplotlib.pyplot as plt\n",
    "\n",
    "from tqdm import tqdm\n",
    "from nltk import tokenize\n",
    "from IPython.display import display_html\n",
    "from transformers import BertTokenizer, BertForMaskedLM, BertModel\n",
    "from tensorflow.python.keras.layers import Layer, InputSpec, Lambda\n",
    "\n",
    "from sklearn import preprocessing\n",
    "from sklearn.decomposition import PCA\n",
    "from sklearn.model_selection import RepeatedKFold, KFold\n",
    "from sklearn.model_selection import cross_val_score\n",
    "from sklearn.metrics import f1_score, accuracy_score, confusion_matrix, ConfusionMatrixDisplay, classification_report\n",
    "\n",
    "from keras import backend as K\n",
    "from keras import initializers,regularizers,constraints\n",
    "from keras.preprocessing.text import Tokenizer, text_to_word_sequence\n",
    "from keras.preprocessing.sequence import pad_sequences\n",
    "from keras.utils.np_utils import to_categorical\n",
    "from keras.layers import Reshape, Input, Embedding, Flatten, Dense, Dropout, BatchNormalization, Activation #, merge\n",
    "from keras.layers import TimeDistributed, LSTM, GRU, Bidirectional, Convolution1D, MaxPooling1D, MaxPooling2D\n",
    "from keras.layers.core import RepeatVector #, Reshape\n",
    "from keras.callbacks import ModelCheckpoint, EarlyStopping, ReduceLROnPlateau\n",
    "from keras.models import Sequential, Model, load_model\n",
    "\n",
    "def reset_seeds():\n",
    "    np.random.seed(SEED) \n",
    "    python_random.seed(SEED)\n",
    "    tf.random.set_seed(SEED)\n",
    "    os.environ[\"PYTHONHASHSEED\"] = str(SEED)\n",
    "\n",
    "# from tensorflow.keras import Model\n",
    "# from attention import Attention_input1, Attention_input2\n",
    "# from keras.optimizers import SGD, RMSprop, Adagrad"
   ]
  },
  {
   "cell_type": "code",
   "execution_count": 2,
   "id": "9b5d02c1",
   "metadata": {
    "execution": {
     "iopub.execute_input": "2022-07-04T18:19:07.070373Z",
     "iopub.status.busy": "2022-07-04T18:19:07.069846Z",
     "iopub.status.idle": "2022-07-04T18:19:07.074712Z",
     "shell.execute_reply": "2022-07-04T18:19:07.073877Z"
    },
    "papermill": {
     "duration": 0.01621,
     "end_time": "2022-07-04T18:19:07.076578",
     "exception": false,
     "start_time": "2022-07-04T18:19:07.060368",
     "status": "completed"
    },
    "tags": []
   },
   "outputs": [],
   "source": [
    "NUM_CLASSES = 3"
   ]
  },
  {
   "cell_type": "code",
   "execution_count": 3,
   "id": "3ed89503",
   "metadata": {
    "execution": {
     "iopub.execute_input": "2022-07-04T18:19:07.094459Z",
     "iopub.status.busy": "2022-07-04T18:19:07.094194Z",
     "iopub.status.idle": "2022-07-04T18:19:07.100907Z",
     "shell.execute_reply": "2022-07-04T18:19:07.099959Z"
    },
    "papermill": {
     "duration": 0.018201,
     "end_time": "2022-07-04T18:19:07.102873",
     "exception": false,
     "start_time": "2022-07-04T18:19:07.084672",
     "status": "completed"
    },
    "tags": []
   },
   "outputs": [],
   "source": [
    "def read_hdf5(path):\n",
    "    read_file = h5py.File(path, 'r')\n",
    "    \n",
    "    feature_names = list(read_file.keys())\n",
    "    loaded_data = []\n",
    "    \n",
    "    for name in feature_names:\n",
    "        dataset = read_file[name][:]\n",
    "        if dataset.dtype == np.dtype('object'):\n",
    "            dataset = np.array([x.decode('UTF-8') for x in dataset])            \n",
    "        loaded_data.append((name, dataset))\n",
    "\n",
    "    return loaded_data\n",
    "\n",
    "def loadz(path):\n",
    "    data = np.load(path)['arr_0']\n",
    "    return data"
   ]
  },
  {
   "cell_type": "code",
   "execution_count": 4,
   "id": "17ed6145",
   "metadata": {
    "execution": {
     "iopub.execute_input": "2022-07-04T18:19:07.120799Z",
     "iopub.status.busy": "2022-07-04T18:19:07.120023Z",
     "iopub.status.idle": "2022-07-04T18:19:07.128926Z",
     "shell.execute_reply": "2022-07-04T18:19:07.128062Z"
    },
    "papermill": {
     "duration": 0.019789,
     "end_time": "2022-07-04T18:19:07.130770",
     "exception": false,
     "start_time": "2022-07-04T18:19:07.110981",
     "status": "completed"
    },
    "tags": []
   },
   "outputs": [],
   "source": [
    "def load_labels(path):\n",
    "    data = read_hdf5(path)\n",
    "\n",
    "    for x in data:\n",
    "        if x[0] == 'multimodal-labels':\n",
    "            labels = x[1]\n",
    "        if x[0] == 'text-labels':\n",
    "            text_labels = x[1]\n",
    "        if x[0] == 'image-labels':\n",
    "            image_labels = x[1]\n",
    "        \n",
    "    return labels, text_labels, image_labels\n",
    "\n",
    "def merge_mvsa(mvsa_single, mvsa_multiple):\n",
    "    mvsa = np.concatenate((mvsa_single, mvsa_multiple), axis=0)\n",
    "    return mvsa\n",
    "\n",
    "def load_mvsa_feature(feature_name, merge=False):\n",
    "    folder_path = os.path.join('../input/mvsa-features/', feature_name)\n",
    "    single_file = 'mvsa-single-{}.npz'.format(feature_name)\n",
    "    multiple_file = 'mvsa-multiple-{}.npz'.format(feature_name)\n",
    "    mvsa_single = loadz(os.path.join(folder_path, single_file))\n",
    "    mvsa_multiple = loadz(os.path.join(folder_path, multiple_file))\n",
    "    \n",
    "    if merge == True:\n",
    "        return merge_mvsa(mvsa_single, mvsa_multiple)\n",
    "    \n",
    "    return mvsa_single, mvsa_multiple"
   ]
  },
  {
   "cell_type": "code",
   "execution_count": 5,
   "id": "f1a2e6d0",
   "metadata": {
    "execution": {
     "iopub.execute_input": "2022-07-04T18:19:07.149480Z",
     "iopub.status.busy": "2022-07-04T18:19:07.148659Z",
     "iopub.status.idle": "2022-07-04T18:19:07.154390Z",
     "shell.execute_reply": "2022-07-04T18:19:07.153573Z"
    },
    "papermill": {
     "duration": 0.017156,
     "end_time": "2022-07-04T18:19:07.156244",
     "exception": false,
     "start_time": "2022-07-04T18:19:07.139088",
     "status": "completed"
    },
    "tags": []
   },
   "outputs": [],
   "source": [
    "# e.g. validation_split=0.1 -----> 8:1:1 ratio of train, val, test\n",
    "def split_data(data, validation_split):\n",
    "    num_val = int(validation_split * data.shape[0])\n",
    "    data_train = data[:-(num_val*2)]\n",
    "    data_val = data[-(num_val*2):-(num_val)]\n",
    "    data_test = data[-num_val:]\n",
    "    return data_train, data_val, data_test"
   ]
  },
  {
   "cell_type": "code",
   "execution_count": 6,
   "id": "d4f1a4d9",
   "metadata": {
    "execution": {
     "iopub.execute_input": "2022-07-04T18:19:07.175002Z",
     "iopub.status.busy": "2022-07-04T18:19:07.174192Z",
     "iopub.status.idle": "2022-07-04T18:19:07.183517Z",
     "shell.execute_reply": "2022-07-04T18:19:07.182708Z"
    },
    "papermill": {
     "duration": 0.020803,
     "end_time": "2022-07-04T18:19:07.185409",
     "exception": false,
     "start_time": "2022-07-04T18:19:07.164606",
     "status": "completed"
    },
    "tags": []
   },
   "outputs": [],
   "source": [
    "def weighted_average(weights, probs):\n",
    "    ''' Calculate the weighted average probability distribution from all input probs and its weights \n",
    "    weights: weights list (or array)\n",
    "    probs: probability distributions array list\n",
    "    '''\n",
    "    output_probs = []\n",
    "    weighted_probs = [probs[i] * weights[i] for i in range(len(weights))]\n",
    "    for i in range(len(probs[0])):\n",
    "        sum_prob = np.zeros(len(probs[0][0]))\n",
    "        for j in range(len(weights)):\n",
    "            sum_prob = np.sum((sum_prob, weighted_probs[j][i]), axis=0)\n",
    "        output_probs.append(sum_prob)\n",
    "    return np.asarray(output_probs, dtype='float32')\n",
    "\n",
    "def get_average_weights(*scores, inverse=False):\n",
    "    ''' Get the corresponding weight of each input score \n",
    "    inverse: (bool) get inverse weights value in case of the smaller score value, the bigger weight value (such as model loss)\n",
    "    '''\n",
    "    \n",
    "    weights = []\n",
    "    for score in scores:\n",
    "        weights.append(score/np.sum(scores))\n",
    "    \n",
    "    if inverse == True:\n",
    "        inverse_weights = []\n",
    "        inverse = [1/weight for weight in weights]\n",
    "        for inv in inverse:\n",
    "            inverse_weights.append(inv/np.sum(inverse))\n",
    "        weights = inverse_weights\n",
    "\n",
    "    return weights"
   ]
  },
  {
   "cell_type": "code",
   "execution_count": 7,
   "id": "6e01e9c2",
   "metadata": {
    "execution": {
     "iopub.execute_input": "2022-07-04T18:19:07.203088Z",
     "iopub.status.busy": "2022-07-04T18:19:07.202354Z",
     "iopub.status.idle": "2022-07-04T18:19:11.961527Z",
     "shell.execute_reply": "2022-07-04T18:19:11.960415Z"
    },
    "papermill": {
     "duration": 4.770984,
     "end_time": "2022-07-04T18:19:11.964472",
     "exception": false,
     "start_time": "2022-07-04T18:19:07.193488",
     "status": "completed"
    },
    "tags": []
   },
   "outputs": [
    {
     "name": "stderr",
     "output_type": "stream",
     "text": [
      "2022-07-04 18:19:07.296590: I tensorflow/stream_executor/cuda/cuda_gpu_executor.cc:937] successful NUMA node read from SysFS had negative value (-1), but there must be at least one NUMA node, so returning NUMA node zero\n",
      "2022-07-04 18:19:07.297684: I tensorflow/stream_executor/cuda/cuda_gpu_executor.cc:937] successful NUMA node read from SysFS had negative value (-1), but there must be at least one NUMA node, so returning NUMA node zero\n",
      "2022-07-04 18:19:07.298358: I tensorflow/stream_executor/cuda/cuda_gpu_executor.cc:937] successful NUMA node read from SysFS had negative value (-1), but there must be at least one NUMA node, so returning NUMA node zero\n",
      "2022-07-04 18:19:07.299204: I tensorflow/core/platform/cpu_feature_guard.cc:142] This TensorFlow binary is optimized with oneAPI Deep Neural Network Library (oneDNN) to use the following CPU instructions in performance-critical operations:  AVX2 AVX512F FMA\n",
      "To enable them in other operations, rebuild TensorFlow with the appropriate compiler flags.\n",
      "2022-07-04 18:19:07.299491: I tensorflow/stream_executor/cuda/cuda_gpu_executor.cc:937] successful NUMA node read from SysFS had negative value (-1), but there must be at least one NUMA node, so returning NUMA node zero\n",
      "2022-07-04 18:19:07.300184: I tensorflow/stream_executor/cuda/cuda_gpu_executor.cc:937] successful NUMA node read from SysFS had negative value (-1), but there must be at least one NUMA node, so returning NUMA node zero\n",
      "2022-07-04 18:19:07.300810: I tensorflow/stream_executor/cuda/cuda_gpu_executor.cc:937] successful NUMA node read from SysFS had negative value (-1), but there must be at least one NUMA node, so returning NUMA node zero\n",
      "2022-07-04 18:19:11.635905: I tensorflow/stream_executor/cuda/cuda_gpu_executor.cc:937] successful NUMA node read from SysFS had negative value (-1), but there must be at least one NUMA node, so returning NUMA node zero\n",
      "2022-07-04 18:19:11.636699: I tensorflow/stream_executor/cuda/cuda_gpu_executor.cc:937] successful NUMA node read from SysFS had negative value (-1), but there must be at least one NUMA node, so returning NUMA node zero\n",
      "2022-07-04 18:19:11.637415: I tensorflow/stream_executor/cuda/cuda_gpu_executor.cc:937] successful NUMA node read from SysFS had negative value (-1), but there must be at least one NUMA node, so returning NUMA node zero\n",
      "2022-07-04 18:19:11.638018: I tensorflow/core/common_runtime/gpu/gpu_device.cc:1510] Created device /job:localhost/replica:0/task:0/device:GPU:0 with 15047 MB memory:  -> device: 0, name: Tesla P100-PCIE-16GB, pci bus id: 0000:00:04.0, compute capability: 6.0\n"
     ]
    }
   ],
   "source": [
    "f1_macro = tfa.metrics.F1Score(num_classes=NUM_CLASSES, average='macro', name='f1_macro')\n",
    "f1_weighted = tfa.metrics.F1Score(num_classes=NUM_CLASSES, average='weighted', name='f1_weighted')\n",
    "    \n",
    "def create_model_text(input_shape, lstm=True):\n",
    "    text_input = Input(shape=input_shape)\n",
    "    if lstm == True:\n",
    "        reshape_text = Reshape((1, -1)) (text_input)\n",
    "        lstm = LSTM(NUM_LSTM) (reshape_text)\n",
    "        outputs = Dense(NUM_CLASSES, activation='softmax') (lstm)\n",
    "    else:\n",
    "        outputs = Dense(NUM_CLASSES, activation='softmax') (text_input)\n",
    "    model = Model(text_input, outputs)\n",
    "    model.compile(optimizer='adam', loss='categorical_crossentropy', metrics=['accuracy', f1_macro, f1_weighted])\n",
    "    return model\n",
    "\n",
    "def create_model_image(input_shape):\n",
    "    image_input = Input(shape=input_shape)\n",
    "    outputs = Dense(NUM_CLASSES, activation='softmax') (image_input)\n",
    "    model = Model(image_input, outputs)\n",
    "    model.compile(optimizer='adam', loss='categorical_crossentropy', metrics=['accuracy', f1_macro, f1_weighted])\n",
    "    return model\n",
    "\n",
    "def create_model_IF(text_shape, image_shape, lstm=True):\n",
    "    image_input = Input(shape=image_shape)\n",
    "    text_input = Input(shape=text_shape)\n",
    "    if lstm == True:\n",
    "        text_reshape = Reshape((1, -1)) (text_input)\n",
    "        text_lstm = LSTM(NUM_LSTM) (text_reshape)\n",
    "#     text_lstm = Dropout(DROPOUT_RATE) (text_lstm)\n",
    "        text_image_concat = tf.keras.layers.Concatenate(axis=1)([text_lstm, image_input])\n",
    "    else:\n",
    "        text_image_concat = tf.keras.layers.Concatenate(axis=1)([text_input, image_input])\n",
    "    concat_self_attention = tf.keras.layers.Attention() ([text_image_concat, text_image_concat])\n",
    "#     concat_self_attention = Dropout(DROPOUT_RATE) (concat_self_attention)\n",
    "    outputs = Dense(NUM_CLASSES, activation='softmax') (concat_self_attention)\n",
    "    model = Model([text_input, image_input], outputs)\n",
    "    model.compile(optimizer='adam', loss='categorical_crossentropy', metrics=['accuracy', f1_macro, f1_weighted])\n",
    "    return model"
   ]
  },
  {
   "cell_type": "code",
   "execution_count": 8,
   "id": "798b8d1f",
   "metadata": {
    "execution": {
     "iopub.execute_input": "2022-07-04T18:19:11.983310Z",
     "iopub.status.busy": "2022-07-04T18:19:11.983020Z",
     "iopub.status.idle": "2022-07-04T18:19:11.996477Z",
     "shell.execute_reply": "2022-07-04T18:19:11.995463Z"
    },
    "papermill": {
     "duration": 0.025328,
     "end_time": "2022-07-04T18:19:11.998746",
     "exception": false,
     "start_time": "2022-07-04T18:19:11.973418",
     "status": "completed"
    },
    "tags": []
   },
   "outputs": [],
   "source": [
    "def run_and_evaluate_IF(name, X1, X2, y, verbose=0, lstm=True):\n",
    "    '''  Train and test Intermediate Fusion model Multimodal Labels \n",
    "    X1: text input\n",
    "    X2: image input\n",
    "    y: multimodal labels\n",
    "    '''\n",
    "    y = le.fit_transform(y)\n",
    "    y = to_categorical(np.asarray(y))\n",
    "    \n",
    "    X1_train, X1_val, X1_test = split_data(X1, VALIDATION_SPLIT)\n",
    "    X2_train, X2_val, X2_test = split_data(X2, VALIDATION_SPLIT)\n",
    "    y_train, y_val, y_test = split_data(y, VALIDATION_SPLIT)\n",
    "    \n",
    "    if lstm == False:\n",
    "        model = create_model_IF(X1_train.shape[1:], X2_train.shape[1:], lstm=False)\n",
    "    else:\n",
    "        model = create_model_IF(X1_train.shape[1:], X2_train.shape[1:])\n",
    "    early_stopping = EarlyStopping(monitor='val_loss', min_delta=1e-4, patience=EARLY_STOPPING)\n",
    "    checkpoint = ModelCheckpoint('./model_checkpoint/{}.h5'.format(name), save_best_only=True, verbose=verbose)\n",
    "    \n",
    "    history = model.fit([X1_train, X2_train], y_train, validation_data=([X1_val, X2_val], y_val), \n",
    "                        epochs=EPOCHS, batch_size=BATCH_SIZE, verbose=verbose,\n",
    "                        callbacks=[checkpoint, early_stopping])\n",
    "    if verbose == 1:\n",
    "        best_epoch = np.argmin(history.history['val_loss'])\n",
    "        print('\\nCheckpoint loaded at epoch:', best_epoch)\n",
    "        \n",
    "    return history, evaluate_model_IF(model, X1_test, X2_test, y_test, checkpoint=name, verbose=verbose)\n",
    "\n",
    "def evaluate_model_IF(model, X_texts, X_images, y_test, checkpoint=None, verbose=1):\n",
    "    if checkpoint is not None:\n",
    "        model = load_model('./model_checkpoint/{}.h5'.format(checkpoint))\n",
    "    \n",
    "    loss, acc, f1_macro, f1_weighted = model.evaluate([X_texts, X_images], y_test, verbose=verbose)\n",
    "\n",
    "    if verbose == 1:\n",
    "        print('Loss:', loss)\n",
    "        print('Accuracy:', acc)\n",
    "        print('Macro F1-score:', f1_macro)\n",
    "        print('Weighted F1-score:', f1_weighted)\n",
    "\n",
    "        y_pred = model.predict([X_texts, X_images])\n",
    "        matrix = confusion_matrix(le.inverse_transform(y_test.argmax(axis=1)), le.inverse_transform(y_pred.argmax(axis=1)), \n",
    "                                  labels=list(le.classes_))\n",
    "        cm_disp = ConfusionMatrixDisplay(confusion_matrix=matrix,\n",
    "                                  display_labels=list(le.classes_))\n",
    "        cm_disp.plot()\n",
    "        plt.show()\n",
    "        \n",
    "    return loss, acc, f1_macro, f1_weighted"
   ]
  },
  {
   "cell_type": "code",
   "execution_count": 9,
   "id": "a758c827",
   "metadata": {
    "execution": {
     "iopub.execute_input": "2022-07-04T18:19:12.016482Z",
     "iopub.status.busy": "2022-07-04T18:19:12.016229Z",
     "iopub.status.idle": "2022-07-04T18:19:12.029014Z",
     "shell.execute_reply": "2022-07-04T18:19:12.028080Z"
    },
    "papermill": {
     "duration": 0.024005,
     "end_time": "2022-07-04T18:19:12.030859",
     "exception": false,
     "start_time": "2022-07-04T18:19:12.006854",
     "status": "completed"
    },
    "tags": []
   },
   "outputs": [],
   "source": [
    "def run_and_evaluate_LF(name, X1, X2, y, verbose=0, lstm=True):\n",
    "    ''' Train and test Late Fusion model only with Multimodal Labels \n",
    "    X1: text input\n",
    "    X2: image input\n",
    "    y: multimodal labels\n",
    "    y1: text labels\n",
    "    y2: image labels\n",
    "    verbose: 0 or 1 to print tracking on progress\n",
    "    '''\n",
    "    y = le.fit_transform(y)\n",
    "    y = to_categorical(np.asarray(y))\n",
    "\n",
    "    X1_train, X1_val, X1_test = split_data(X1, VALIDATION_SPLIT)\n",
    "    X2_train, X2_val, X2_test = split_data(X2, VALIDATION_SPLIT)\n",
    "    y_train, y_val, y_test = split_data(y, VALIDATION_SPLIT)\n",
    "\n",
    "    if lstm == False:\n",
    "        model_text = create_model_text(X1_train.shape[1:], lstm=False)\n",
    "    else:\n",
    "        model_text = create_model_text(X1_train.shape[1:])\n",
    "    model_image = create_model_image(X2_train.shape[1:])\n",
    "\n",
    "    early_stopping1 = EarlyStopping(monitor='val_loss', min_delta=1e-4, patience=EARLY_STOPPING)\n",
    "    early_stopping2 = EarlyStopping(monitor='val_loss', min_delta=1e-4, patience=EARLY_STOPPING)\n",
    "    checkpoint_text = ModelCheckpoint('./model_checkpoint/{}-text.h5'.format(name), save_best_only=True, verbose=verbose)\n",
    "    checkpoint_image = ModelCheckpoint('./model_checkpoint/{}-image.h5'.format(name), save_best_only=True, verbose=verbose)\n",
    "    \n",
    "    history_text = model_text.fit(X1_train, y_train, validation_data=(X1_val, y_val), \n",
    "                                  epochs=EPOCHS, batch_size=BATCH_SIZE, verbose=verbose,\n",
    "                                  callbacks=[checkpoint_text, early_stopping1])\n",
    "    \n",
    "    history_image = model_image.fit(X2_train, y_train, validation_data=(X2_val, y_val), \n",
    "                                    epochs=EPOCHS, batch_size=BATCH_SIZE, verbose=verbose,\n",
    "                                    callbacks=[checkpoint_image, early_stopping2])\n",
    "    \n",
    "    best_val_loss_text = np.min(history_text.history['val_loss'])\n",
    "    best_val_loss_image = np.min(history_image.history['val_loss'])\n",
    "\n",
    "    weights = get_average_weights(best_val_loss_text, best_val_loss_image, inverse=True)\n",
    "\n",
    "    model_text = load_model('./model_checkpoint/{}-text.h5'.format(name))\n",
    "    model_image = load_model('./model_checkpoint/{}-image.h5'.format(name))\n",
    "\n",
    "    y_pred_text = model_text.predict(X1_test)\n",
    "    y_pred_image = model_image.predict(X2_test)\n",
    "\n",
    "    y_pred = weighted_average(weights, np.asarray([y_pred_text, y_pred_image], dtype='float32'))\n",
    "\n",
    "    best_epoch_text = np.argmin(history_text.history['val_loss'])\n",
    "    best_epoch_image = np.argmin(history_image.history['val_loss'])\n",
    "\n",
    "    if verbose == 1:\n",
    "        print('Checkpoint of text model loaded at epoch:', best_epoch_text)\n",
    "        print('Checkpoint of image model loaded at epoch:', best_epoch_image)\n",
    "\n",
    "    return evaluate_model_LF(y_test, y_pred, verbose=verbose)"
   ]
  },
  {
   "cell_type": "code",
   "execution_count": 10,
   "id": "0a30e3d1",
   "metadata": {
    "execution": {
     "iopub.execute_input": "2022-07-04T18:19:12.048539Z",
     "iopub.status.busy": "2022-07-04T18:19:12.048289Z",
     "iopub.status.idle": "2022-07-04T18:19:12.066355Z",
     "shell.execute_reply": "2022-07-04T18:19:12.065538Z"
    },
    "papermill": {
     "duration": 0.029189,
     "end_time": "2022-07-04T18:19:12.068258",
     "exception": false,
     "start_time": "2022-07-04T18:19:12.039069",
     "status": "completed"
    },
    "tags": []
   },
   "outputs": [],
   "source": [
    "def run_and_evaluate_HF(name, X1, X2, y, verbose=0, lstm=True):\n",
    "    ''' Train Hybrid Fusion model and test only with Multimodal Labels\n",
    "    X1: text input\n",
    "    X2: image input\n",
    "    y: labels\n",
    "    verbose: 0 or 1 to print tracking on progress\n",
    "    '''\n",
    "    y = le.fit_transform(y)\n",
    "    y = to_categorical(np.asarray(y))\n",
    "    \n",
    "    X1_train, X1_val, X1_test = split_data(X1, VALIDATION_SPLIT)\n",
    "    X2_train, X2_val, X2_test = split_data(X2, VALIDATION_SPLIT)\n",
    "    y_train, y_val, y_test = split_data(y, VALIDATION_SPLIT)\n",
    "    \n",
    "    if lstm == False:\n",
    "        model_text = create_model_text(X1_train.shape[1:], lstm=False)\n",
    "        model_IF = create_model_IF(X1_train.shape[1:], X2_train.shape[1:], lstm=False)\n",
    "    model_text = create_model_text(X1_train.shape[1:])\n",
    "    model_IF = create_model_IF(X1_train.shape[1:], X2_train.shape[1:])\n",
    "    model_image = create_model_image(X2_train.shape[1:])\n",
    "\n",
    "    early_stopping1 = EarlyStopping(monitor='val_loss', min_delta=1e-4, patience=EARLY_STOPPING)\n",
    "    early_stopping2 = EarlyStopping(monitor='val_loss', min_delta=1e-4, patience=EARLY_STOPPING)\n",
    "    early_stopping3 = EarlyStopping(monitor='val_loss', min_delta=1e-4, patience=EARLY_STOPPING)\n",
    "\n",
    "    checkpoint_text = ModelCheckpoint('./model_checkpoint/{}-text.h5'.format(name), save_best_only=True, verbose=verbose)\n",
    "    checkpoint_image = ModelCheckpoint('./model_checkpoint/{}-image.h5'.format(name), save_best_only=True, verbose=verbose)\n",
    "    checkpoint_IF = ModelCheckpoint('./model_checkpoint/{}-IF.h5'.format(name), save_best_only=True, verbose=verbose)\n",
    "\n",
    "    history_text = model_text.fit(X1_train, y_train, validation_data=(X1_val, y_val), \n",
    "                        epochs=EPOCHS, batch_size=BATCH_SIZE, verbose=verbose,\n",
    "                        callbacks=[checkpoint_text, early_stopping1])\n",
    "    \n",
    "    history_image = model_image.fit(X2_train, y_train, validation_data=(X2_val, y_val), \n",
    "                        epochs=EPOCHS, batch_size=BATCH_SIZE, verbose=verbose,\n",
    "                        callbacks=[checkpoint_image, early_stopping2])\n",
    "    \n",
    "    history_IF = model_IF.fit([X1_train, X2_train], y_train, validation_data=([X1_val, X2_val], y_val), \n",
    "                        epochs=EPOCHS, batch_size=BATCH_SIZE, verbose=verbose,\n",
    "                        callbacks=[checkpoint_IF, early_stopping3])\n",
    "    \n",
    "    best_val_loss_text = np.min(history_text.history['val_loss'])\n",
    "    best_val_loss_image = np.min(history_image.history['val_loss'])\n",
    "    best_val_loss_IF = np.min(history_IF.history['val_loss'])\n",
    "    \n",
    "    weights = get_average_weights(best_val_loss_text, best_val_loss_image, best_val_loss_IF,\n",
    "                                  inverse=True)\n",
    "\n",
    "    model_text = load_model('./model_checkpoint/{}-text.h5'.format(name))\n",
    "    model_image = load_model('./model_checkpoint/{}-image.h5'.format(name))\n",
    "    model_IF = load_model('./model_checkpoint/{}-IF.h5'.format(name))\n",
    "\n",
    "    y_pred_text = model_text.predict(X1_test)\n",
    "    y_pred_image = model_image.predict(X2_test)\n",
    "    y_pred_IF = model_IF.predict([X1_test, X2_test])\n",
    "    \n",
    "    y_pred = weighted_average(weights, np.asarray([y_pred_text, y_pred_image, y_pred_IF], dtype='float32'))\n",
    "    \n",
    "    best_epoch_text = np.argmin(history_text.history['val_loss'])\n",
    "    best_epoch_image = np.argmin(history_image.history['val_loss'])\n",
    "    best_epoch_IF = np.argmin(history_IF.history['val_loss'])\n",
    "    \n",
    "    if verbose == 1:\n",
    "        print('Checkpoint of text model loaded at epoch:', best_epoch_text)\n",
    "        print('Checkpoint of image model loaded at epoch:', best_epoch_image)\n",
    "        print('Checkpoint of IF model loaded at epoch:', best_epoch_IF)\n",
    "\n",
    "    return evaluate_model_LF(y_test, y_pred, verbose=verbose)"
   ]
  },
  {
   "cell_type": "code",
   "execution_count": 11,
   "id": "f6b61f70",
   "metadata": {
    "execution": {
     "iopub.execute_input": "2022-07-04T18:19:12.086887Z",
     "iopub.status.busy": "2022-07-04T18:19:12.086595Z",
     "iopub.status.idle": "2022-07-04T18:19:12.095014Z",
     "shell.execute_reply": "2022-07-04T18:19:12.094183Z"
    },
    "papermill": {
     "duration": 0.019941,
     "end_time": "2022-07-04T18:19:12.096859",
     "exception": false,
     "start_time": "2022-07-04T18:19:12.076918",
     "status": "completed"
    },
    "tags": []
   },
   "outputs": [],
   "source": [
    "def evaluate_model_LF(y_true, y_pred, verbose=0):\n",
    "    \n",
    "    y_pred = le.inverse_transform(y_pred.argmax(axis=1))\n",
    "    y_true = le.inverse_transform(y_true.argmax(axis=1))\n",
    "\n",
    "    acc = accuracy_score(y_true, y_pred)\n",
    "    f1_macro = f1_score(y_true, y_pred, average='macro')\n",
    "    f1_weighted = f1_score(y_true, y_pred, average='weighted')\n",
    "\n",
    "    if verbose == 1:\n",
    "        print(classification_report(y_true, y_pred))\n",
    "        matrix = confusion_matrix(y_true, y_pred,\n",
    "                                  labels=list(le.classes_))\n",
    "        cm_disp = ConfusionMatrixDisplay(confusion_matrix=matrix,\n",
    "                                  display_labels=list(le.classes_))\n",
    "        cm_disp.plot()\n",
    "        plt.show()\n",
    "\n",
    "    return acc, f1_macro, f1_weighted"
   ]
  },
  {
   "cell_type": "code",
   "execution_count": 12,
   "id": "9e3a7edb",
   "metadata": {
    "execution": {
     "iopub.execute_input": "2022-07-04T18:19:12.114368Z",
     "iopub.status.busy": "2022-07-04T18:19:12.114085Z",
     "iopub.status.idle": "2022-07-04T18:19:12.124879Z",
     "shell.execute_reply": "2022-07-04T18:19:12.123921Z"
    },
    "papermill": {
     "duration": 0.021859,
     "end_time": "2022-07-04T18:19:12.126863",
     "exception": false,
     "start_time": "2022-07-04T18:19:12.105004",
     "status": "completed"
    },
    "tags": []
   },
   "outputs": [],
   "source": [
    "def plot_metrics(history):\n",
    "    fig = plt.figure(figsize=(20, 5))\n",
    "\n",
    "    fig.add_subplot(1, 4, 1)\n",
    "    plt.plot(history.history['loss'])\n",
    "    plt.plot(history.history['val_loss'])\n",
    "    plt.title('LOSS')\n",
    "    plt.ylabel('loss')\n",
    "    plt.xlabel('epoch')\n",
    "    plt.legend(['train', 'val'], loc='best')\n",
    "\n",
    "    fig.add_subplot(1, 4, 2)\n",
    "    plt.plot(history.history['accuracy'])\n",
    "    plt.plot(history.history['val_accuracy'])\n",
    "    plt.title('ACCURACY')\n",
    "    plt.ylabel('accuracy')\n",
    "    plt.xlabel('epoch')\n",
    "    plt.legend(['train', 'val'], loc='best')\n",
    "\n",
    "    fig.add_subplot(1, 4, 3)\n",
    "    plt.plot(history.history['f1_macro'])\n",
    "    plt.plot(history.history['val_f1_macro'])\n",
    "    plt.title('Macro F1-SCORE')\n",
    "    plt.ylabel('f1-macro')\n",
    "    plt.xlabel('epoch')\n",
    "    plt.legend(['train', 'val'], loc='best')\n",
    "    \n",
    "    fig.add_subplot(1, 4, 4)\n",
    "    plt.plot(history.history['f1_weighted'])\n",
    "    plt.plot(history.history['val_f1_weighted'])\n",
    "    plt.title('Weighted F1-SCORE')\n",
    "    plt.ylabel('f1-weighted')\n",
    "    plt.xlabel('epoch')\n",
    "    plt.legend(['train', 'val'], loc='best')\n",
    "\n",
    "    plt.show()"
   ]
  },
  {
   "cell_type": "code",
   "execution_count": 13,
   "id": "6a41dcb7",
   "metadata": {
    "execution": {
     "iopub.execute_input": "2022-07-04T18:19:12.144226Z",
     "iopub.status.busy": "2022-07-04T18:19:12.143979Z",
     "iopub.status.idle": "2022-07-04T18:19:12.151479Z",
     "shell.execute_reply": "2022-07-04T18:19:12.150523Z"
    },
    "papermill": {
     "duration": 0.018557,
     "end_time": "2022-07-04T18:19:12.153521",
     "exception": false,
     "start_time": "2022-07-04T18:19:12.134964",
     "status": "completed"
    },
    "tags": []
   },
   "outputs": [],
   "source": [
    "def style_dataframe(dataframe):\n",
    "    return dataframe.style.highlight_max(subset=['Accuracy', 'F1-macro', 'F1-weighted'], props='color:lawngreen', axis=0)\\\n",
    "                          .highlight_min(subset=['Accuracy', 'F1-macro', 'F1-weighted'], props='color:tomato', axis=0)\n",
    "\n",
    "def display_dataframes(dfs, names=[], index=False):\n",
    "    def to_df(x):\n",
    "        if isinstance(x, pd.Series):\n",
    "            return pd.DataFrame(x)\n",
    "        else:\n",
    "            return x\n",
    "    html_str = ''\n",
    "    if names:\n",
    "        html_str += ('<tr>' + \n",
    "                     ''.join(f'<td style=\"text-align:center\">{name}</td>' for name in names) + \n",
    "                     '</tr>')\n",
    "    html_str += ('<tr>' + \n",
    "                 ''.join(f'<td style=\"vertical-align:top\"> {to_df(df).to_html()}</td>' \n",
    "                         for df in dfs) + \n",
    "                 '</tr>')\n",
    "    html_str = f'<table>{html_str}</table>'\n",
    "    html_str = html_str.replace('table','table style=\"display:inline\"')\n",
    "    display_html(html_str, raw=True)"
   ]
  },
  {
   "cell_type": "markdown",
   "id": "c3bca6f0",
   "metadata": {
    "papermill": {
     "duration": 0.007892,
     "end_time": "2022-07-04T18:19:12.169496",
     "exception": false,
     "start_time": "2022-07-04T18:19:12.161604",
     "status": "completed"
    },
    "tags": []
   },
   "source": [
    "# Load data"
   ]
  },
  {
   "cell_type": "code",
   "execution_count": 14,
   "id": "a791135d",
   "metadata": {
    "execution": {
     "iopub.execute_input": "2022-07-04T18:19:12.186796Z",
     "iopub.status.busy": "2022-07-04T18:19:12.186537Z",
     "iopub.status.idle": "2022-07-04T18:19:26.135658Z",
     "shell.execute_reply": "2022-07-04T18:19:26.134513Z"
    },
    "papermill": {
     "duration": 13.960715,
     "end_time": "2022-07-04T18:19:26.138279",
     "exception": false,
     "start_time": "2022-07-04T18:19:12.177564",
     "status": "completed"
    },
    "tags": []
   },
   "outputs": [],
   "source": [
    "## Choose best\n",
    "# Load text feature\n",
    "mvsa_single_bert, mvsa_multiple_bert = load_mvsa_feature('bert-base')\n",
    "mvsa_single_pos_bow, mvsa_multiple_pos_bow = load_mvsa_feature('pos-bow')\n",
    "mvsa_single_pos_tfidf, mvsa_multiple_pos_tfidf = load_mvsa_feature('pos-tfidf')\n",
    "mvsa_single_ner_bow, mvsa_multiple_ner_bow = load_mvsa_feature('ner-bow')\n",
    "mvsa_single_ner_tfidf, mvsa_multiple_ner_tfidf = load_mvsa_feature('ner-tfidf')\n",
    "\n",
    "## Load image feature\n",
    "mvsa_single_vgg16, mvsa_multiple_vgg16 = load_mvsa_feature('vgg16')\n",
    "mvsa_single_vgg19, mvsa_multiple_vgg19 = load_mvsa_feature('vgg19')\n",
    "mvsa_single_resnet50, mvsa_multiple_resnet50 = load_mvsa_feature('resnet50')\n",
    "mvsa_single_resnet101, mvsa_multiple_resnet101 = load_mvsa_feature('resnet101')\n",
    "mvsa_single_resnet152, mvsa_multiple_resnet152 = load_mvsa_feature('resnet152')\n",
    "mvsa_single_densenet121, mvsa_multiple_densenet121 = load_mvsa_feature('densenet121')\n",
    "mvsa_single_densenet169, mvsa_multiple_densenet169 = load_mvsa_feature('densenet169')\n",
    "mvsa_single_densenet201, mvsa_multiple_densenet201 = load_mvsa_feature('densenet201')"
   ]
  },
  {
   "cell_type": "code",
   "execution_count": 15,
   "id": "683aeda0",
   "metadata": {
    "execution": {
     "iopub.execute_input": "2022-07-04T18:19:26.158502Z",
     "iopub.status.busy": "2022-07-04T18:19:26.158035Z",
     "iopub.status.idle": "2022-07-04T18:19:26.247956Z",
     "shell.execute_reply": "2022-07-04T18:19:26.246862Z"
    },
    "papermill": {
     "duration": 0.102997,
     "end_time": "2022-07-04T18:19:26.250770",
     "exception": false,
     "start_time": "2022-07-04T18:19:26.147773",
     "status": "completed"
    },
    "tags": []
   },
   "outputs": [],
   "source": [
    "mvsa_single_bert_pos = np.concatenate((mvsa_single_bert, mvsa_single_pos_tfidf), axis=1)\n",
    "mvsa_single_bert_pos_ner = np.concatenate((mvsa_single_bert, mvsa_single_pos_tfidf, mvsa_single_ner_tfidf), axis=1)\n",
    "\n",
    "mvsa_multiple_bert_pos = np.concatenate((mvsa_multiple_bert, mvsa_multiple_pos_tfidf), axis=1)\n",
    "mvsa_multiple_bert_pos_ner = np.concatenate((mvsa_multiple_bert, mvsa_multiple_pos_tfidf, mvsa_multiple_ner_tfidf), axis=1)"
   ]
  },
  {
   "cell_type": "code",
   "execution_count": 16,
   "id": "24596e1b",
   "metadata": {
    "execution": {
     "iopub.execute_input": "2022-07-04T18:19:26.271326Z",
     "iopub.status.busy": "2022-07-04T18:19:26.270972Z",
     "iopub.status.idle": "2022-07-04T18:19:26.508785Z",
     "shell.execute_reply": "2022-07-04T18:19:26.507818Z"
    },
    "papermill": {
     "duration": 0.251318,
     "end_time": "2022-07-04T18:19:26.511617",
     "exception": false,
     "start_time": "2022-07-04T18:19:26.260299",
     "status": "completed"
    },
    "tags": []
   },
   "outputs": [],
   "source": [
    "mvsa_single_multimodal_labels, mvsa_single_text_labels, mvsa_single_image_labels = load_labels('../input/mvsa-features/labels/mvsa-single-labels.hdf5')\n",
    "mvsa_multiple_multimodal_labels, mvsa_multiple_text_labels, mvsa_multiple_image_labels = load_labels('../input/mvsa-features/labels/mvsa-multiple-labels.hdf5')"
   ]
  },
  {
   "cell_type": "code",
   "execution_count": 17,
   "id": "31fba471",
   "metadata": {
    "execution": {
     "iopub.execute_input": "2022-07-04T18:19:26.530433Z",
     "iopub.status.busy": "2022-07-04T18:19:26.529841Z",
     "iopub.status.idle": "2022-07-04T18:19:26.536429Z",
     "shell.execute_reply": "2022-07-04T18:19:26.535573Z"
    },
    "papermill": {
     "duration": 0.017757,
     "end_time": "2022-07-04T18:19:26.538474",
     "exception": false,
     "start_time": "2022-07-04T18:19:26.520717",
     "status": "completed"
    },
    "tags": []
   },
   "outputs": [],
   "source": [
    "# prepare all features data\n",
    "\n",
    "feature_names = ['resnet152-bert', 'resnet152-bert-lstm', 'densenet201-bert-pos-lstm', 'densenet201-bert-pos-ner-lstm']\n",
    "\n",
    "mvsa_single_features = [[mvsa_single_bert, mvsa_single_resnet152],\n",
    "                        [mvsa_single_bert, mvsa_single_resnet152],\n",
    "                        [mvsa_single_bert_pos, mvsa_single_densenet201],\n",
    "                        [mvsa_single_bert_pos_ner, mvsa_single_densenet201]]\n",
    "\n",
    "mvsa_multiple_features = [[mvsa_multiple_bert, mvsa_multiple_resnet152],\n",
    "                          [mvsa_multiple_bert, mvsa_multiple_resnet152],\n",
    "                          [mvsa_multiple_bert_pos, mvsa_multiple_densenet201],\n",
    "                          [mvsa_multiple_bert_pos_ner, mvsa_multiple_densenet201]]"
   ]
  },
  {
   "cell_type": "code",
   "execution_count": 18,
   "id": "d5940b42",
   "metadata": {
    "execution": {
     "iopub.execute_input": "2022-07-04T18:19:26.557060Z",
     "iopub.status.busy": "2022-07-04T18:19:26.555606Z",
     "iopub.status.idle": "2022-07-04T18:19:26.561426Z",
     "shell.execute_reply": "2022-07-04T18:19:26.560650Z"
    },
    "papermill": {
     "duration": 0.016788,
     "end_time": "2022-07-04T18:19:26.563385",
     "exception": false,
     "start_time": "2022-07-04T18:19:26.546597",
     "status": "completed"
    },
    "tags": []
   },
   "outputs": [],
   "source": [
    "le = preprocessing.LabelEncoder()\n",
    "le.fit(mvsa_single_multimodal_labels)\n",
    "NUM_CLASSES = len(le.classes_) # = 3"
   ]
  },
  {
   "cell_type": "code",
   "execution_count": 19,
   "id": "220a2b6d",
   "metadata": {
    "execution": {
     "iopub.execute_input": "2022-07-04T18:19:26.581402Z",
     "iopub.status.busy": "2022-07-04T18:19:26.581159Z",
     "iopub.status.idle": "2022-07-04T18:19:26.586505Z",
     "shell.execute_reply": "2022-07-04T18:19:26.585467Z"
    },
    "papermill": {
     "duration": 0.016872,
     "end_time": "2022-07-04T18:19:26.588497",
     "exception": false,
     "start_time": "2022-07-04T18:19:26.571625",
     "status": "completed"
    },
    "tags": []
   },
   "outputs": [],
   "source": [
    "reset_seeds()\n",
    "EPOCHS = 100\n",
    "BATCH_SIZE = 128\n",
    "VALIDATION_SPLIT = 0.1\n",
    "EARLY_STOPPING = 10\n",
    "NUM_LSTM = 128\n",
    "DROPOUT_RATE = 0.1"
   ]
  },
  {
   "cell_type": "markdown",
   "id": "aca95351",
   "metadata": {
    "papermill": {
     "duration": 0.007844,
     "end_time": "2022-07-04T18:19:26.604412",
     "exception": false,
     "start_time": "2022-07-04T18:19:26.596568",
     "status": "completed"
    },
    "tags": []
   },
   "source": [
    "# Intermediate Fusion"
   ]
  },
  {
   "cell_type": "code",
   "execution_count": 20,
   "id": "7e2f9e1f",
   "metadata": {
    "execution": {
     "iopub.execute_input": "2022-07-04T18:19:26.621605Z",
     "iopub.status.busy": "2022-07-04T18:19:26.621362Z",
     "iopub.status.idle": "2022-07-04T18:19:52.880803Z",
     "shell.execute_reply": "2022-07-04T18:19:52.878738Z"
    },
    "papermill": {
     "duration": 26.270818,
     "end_time": "2022-07-04T18:19:52.883265",
     "exception": false,
     "start_time": "2022-07-04T18:19:26.612447",
     "status": "completed"
    },
    "tags": []
   },
   "outputs": [
    {
     "name": "stdout",
     "output_type": "stream",
     "text": [
      "MVSA-Single with Intermediate Fusion\n",
      "\n",
      "MVSA-Single: resnet152-bert\n"
     ]
    },
    {
     "name": "stderr",
     "output_type": "stream",
     "text": [
      "2022-07-04 18:19:26.800112: I tensorflow/compiler/mlir/mlir_graph_optimization_pass.cc:185] None of the MLIR Optimization Passes are enabled (registered 2)\n"
     ]
    },
    {
     "name": "stdout",
     "output_type": "stream",
     "text": [
      "\n",
      "MVSA-Single: resnet152-bert-lstm\n"
     ]
    },
    {
     "name": "stderr",
     "output_type": "stream",
     "text": [
      "2022-07-04 18:19:33.150619: I tensorflow/stream_executor/cuda/cuda_dnn.cc:369] Loaded cuDNN version 8005\n"
     ]
    },
    {
     "name": "stdout",
     "output_type": "stream",
     "text": [
      "\n",
      "MVSA-Single: densenet201-bert-pos-lstm\n",
      "\n",
      "MVSA-Single: densenet201-bert-pos-ner-lstm\n",
      "\n"
     ]
    }
   ],
   "source": [
    "print('MVSA-Single with Intermediate Fusion\\n')\n",
    "scores = []\n",
    "\n",
    "for i in range(len(feature_names)):\n",
    "    print('MVSA-Single:', feature_names[i])\n",
    "    if 'lstm' in feature_names[i]:\n",
    "        _, score = run_and_evaluate_IF('single-IF-' + feature_names[i], mvsa_single_features[i][0], mvsa_single_features[i][1], \n",
    "                                     mvsa_single_multimodal_labels,\n",
    "                                     verbose=0)\n",
    "    else:\n",
    "        _, score = run_and_evaluate_IF('single-IF-' + feature_names[i], mvsa_single_features[i][0], mvsa_single_features[i][1],\n",
    "                                     mvsa_single_multimodal_labels,\n",
    "                                     verbose=0, lstm=False)\n",
    "    scores.append(score)\n",
    "    print()\n",
    "\n",
    "df_single_scores_IF = pd.DataFrame(scores, columns=['Loss', 'Accuracy', 'F1-macro', 'F1-weighted'], index=feature_names)"
   ]
  },
  {
   "cell_type": "code",
   "execution_count": 21,
   "id": "d7140138",
   "metadata": {
    "execution": {
     "iopub.execute_input": "2022-07-04T18:19:52.902731Z",
     "iopub.status.busy": "2022-07-04T18:19:52.902442Z",
     "iopub.status.idle": "2022-07-04T18:20:47.305872Z",
     "shell.execute_reply": "2022-07-04T18:20:47.304824Z"
    },
    "papermill": {
     "duration": 54.415769,
     "end_time": "2022-07-04T18:20:47.308053",
     "exception": false,
     "start_time": "2022-07-04T18:19:52.892284",
     "status": "completed"
    },
    "tags": []
   },
   "outputs": [
    {
     "name": "stdout",
     "output_type": "stream",
     "text": [
      "MVSA-Multiple with Intermediate Fusion\n",
      "\n",
      "MVSA-Multiple: resnet152-bert\n",
      "\n",
      "MVSA-Multiple: resnet152-bert-lstm\n",
      "\n",
      "MVSA-Multiple: densenet201-bert-pos-lstm\n",
      "\n",
      "MVSA-Multiple: densenet201-bert-pos-ner-lstm\n",
      "\n"
     ]
    }
   ],
   "source": [
    "print('MVSA-Multiple with Intermediate Fusion\\n')\n",
    "scores = []\n",
    "\n",
    "for i in range(len(feature_names)):\n",
    "    print('MVSA-Multiple:', feature_names[i])\n",
    "    if 'lstm' in feature_names[i]:\n",
    "        _, score = run_and_evaluate_IF('multiple-IF-' + feature_names[i], mvsa_multiple_features[i][0], mvsa_multiple_features[i][1], \n",
    "                                     mvsa_multiple_multimodal_labels,\n",
    "                                     verbose=0)\n",
    "    else:\n",
    "        _, score = run_and_evaluate_IF('multiple-IF-' + feature_names[i], mvsa_multiple_features[i][0], mvsa_multiple_features[i][1],\n",
    "                                     mvsa_multiple_multimodal_labels,\n",
    "                                     verbose=0, lstm=False)\n",
    "    scores.append(score)\n",
    "    print()\n",
    "\n",
    "df_multiple_scores_IF = pd.DataFrame(scores, columns=['Loss', 'Accuracy', 'F1-macro', 'F1-weighted'], index=feature_names)"
   ]
  },
  {
   "cell_type": "markdown",
   "id": "d8285d10",
   "metadata": {
    "papermill": {
     "duration": 0.008674,
     "end_time": "2022-07-04T18:20:47.326249",
     "exception": false,
     "start_time": "2022-07-04T18:20:47.317575",
     "status": "completed"
    },
    "tags": []
   },
   "source": [
    "# Late Fusion"
   ]
  },
  {
   "cell_type": "code",
   "execution_count": 22,
   "id": "e4f33fe2",
   "metadata": {
    "execution": {
     "iopub.execute_input": "2022-07-04T18:20:47.345051Z",
     "iopub.status.busy": "2022-07-04T18:20:47.344738Z",
     "iopub.status.idle": "2022-07-04T18:21:16.996612Z",
     "shell.execute_reply": "2022-07-04T18:21:16.994881Z"
    },
    "papermill": {
     "duration": 29.663579,
     "end_time": "2022-07-04T18:21:16.998686",
     "exception": false,
     "start_time": "2022-07-04T18:20:47.335107",
     "status": "completed"
    },
    "tags": []
   },
   "outputs": [
    {
     "name": "stdout",
     "output_type": "stream",
     "text": [
      "MVSA-Single with Late Fusion\n",
      "\n",
      "MVSA-Single: resnet152-bert\n",
      "\n",
      "MVSA-Single: resnet152-bert-lstm\n",
      "\n",
      "MVSA-Single: densenet201-bert-pos-lstm\n",
      "\n",
      "MVSA-Single: densenet201-bert-pos-ner-lstm\n",
      "\n"
     ]
    }
   ],
   "source": [
    "print('MVSA-Single with Late Fusion\\n')\n",
    "scores = []\n",
    "\n",
    "for i in range(len(feature_names)):\n",
    "    print('MVSA-Single:', feature_names[i])\n",
    "    if 'lstm' in feature_names[i]:\n",
    "        score = run_and_evaluate_LF('single-LF-' + feature_names[i], mvsa_single_features[i][0], mvsa_single_features[i][1], \n",
    "                                     mvsa_single_multimodal_labels,\n",
    "                                     verbose=0)\n",
    "    else:\n",
    "        score = run_and_evaluate_LF('single-LF-' + feature_names[i], mvsa_single_features[i][0], mvsa_single_features[i][1],\n",
    "                                     mvsa_single_multimodal_labels,\n",
    "                                     verbose=0, lstm=False)\n",
    "    scores.append(score)\n",
    "    print()\n",
    "\n",
    "df_single_scores_LF = pd.DataFrame(scores, columns=['Accuracy', 'F1-macro', 'F1-weighted'], index=feature_names)"
   ]
  },
  {
   "cell_type": "code",
   "execution_count": 23,
   "id": "976fa992",
   "metadata": {
    "execution": {
     "iopub.execute_input": "2022-07-04T18:21:17.019728Z",
     "iopub.status.busy": "2022-07-04T18:21:17.018995Z",
     "iopub.status.idle": "2022-07-04T18:22:22.030716Z",
     "shell.execute_reply": "2022-07-04T18:22:22.029778Z"
    },
    "papermill": {
     "duration": 65.025183,
     "end_time": "2022-07-04T18:22:22.033624",
     "exception": false,
     "start_time": "2022-07-04T18:21:17.008441",
     "status": "completed"
    },
    "tags": []
   },
   "outputs": [
    {
     "name": "stdout",
     "output_type": "stream",
     "text": [
      "MVSA-Multiple with Late Fusion\n",
      "\n",
      "MVSA-Multiple: resnet152-bert\n",
      "\n",
      "MVSA-Multiple: resnet152-bert-lstm\n",
      "\n",
      "MVSA-Multiple: densenet201-bert-pos-lstm\n",
      "\n",
      "MVSA-Multiple: densenet201-bert-pos-ner-lstm\n",
      "\n"
     ]
    }
   ],
   "source": [
    "print('MVSA-Multiple with Late Fusion\\n')\n",
    "scores = []\n",
    "\n",
    "for i in range(len(feature_names)):\n",
    "    print('MVSA-Multiple:', feature_names[i])\n",
    "    if 'lstm' in feature_names[i]:\n",
    "        score = run_and_evaluate_LF('multiple-LF-' + feature_names[i], mvsa_multiple_features[i][0], mvsa_multiple_features[i][1], \n",
    "                                     mvsa_multiple_multimodal_labels,\n",
    "                                     verbose=0)\n",
    "    else:\n",
    "        score = run_and_evaluate_LF('multiple-LF-' + feature_names[i], mvsa_multiple_features[i][0], mvsa_multiple_features[i][1],\n",
    "                                     mvsa_multiple_multimodal_labels,\n",
    "                                     verbose=0, lstm=False)\n",
    "    scores.append(score)\n",
    "    print()\n",
    "\n",
    "df_multiple_scores_LF = pd.DataFrame(scores, columns=['Accuracy', 'F1-macro', 'F1-weighted'], index=feature_names)"
   ]
  },
  {
   "cell_type": "markdown",
   "id": "8216b7f9",
   "metadata": {
    "papermill": {
     "duration": 0.016053,
     "end_time": "2022-07-04T18:22:22.067304",
     "exception": false,
     "start_time": "2022-07-04T18:22:22.051251",
     "status": "completed"
    },
    "tags": []
   },
   "source": [
    "# Hybrid Fusion"
   ]
  },
  {
   "cell_type": "code",
   "execution_count": 24,
   "id": "69bb3043",
   "metadata": {
    "execution": {
     "iopub.execute_input": "2022-07-04T18:22:22.101205Z",
     "iopub.status.busy": "2022-07-04T18:22:22.100800Z",
     "iopub.status.idle": "2022-07-04T18:23:23.692651Z",
     "shell.execute_reply": "2022-07-04T18:23:23.691625Z"
    },
    "papermill": {
     "duration": 61.610927,
     "end_time": "2022-07-04T18:23:23.695054",
     "exception": false,
     "start_time": "2022-07-04T18:22:22.084127",
     "status": "completed"
    },
    "tags": []
   },
   "outputs": [
    {
     "name": "stdout",
     "output_type": "stream",
     "text": [
      "MVSA-Single with Hybrid Fusion\n",
      "\n",
      "MVSA-Single: resnet152-bert\n",
      "\n",
      "MVSA-Single: resnet152-bert-lstm\n",
      "\n",
      "MVSA-Single: densenet201-bert-pos-lstm\n",
      "\n",
      "MVSA-Single: densenet201-bert-pos-ner-lstm\n",
      "\n"
     ]
    }
   ],
   "source": [
    "print('MVSA-Single with Hybrid Fusion\\n')\n",
    "scores = []\n",
    "\n",
    "for i in range(len(feature_names)):\n",
    "    print('MVSA-Single:', feature_names[i])\n",
    "    if 'lstm' in feature_names[i]:\n",
    "        score = run_and_evaluate_HF('single-HF-' + feature_names[i], mvsa_single_features[i][0], mvsa_single_features[i][1], \n",
    "                                     mvsa_single_multimodal_labels,\n",
    "                                     verbose=0)\n",
    "    else:\n",
    "        score = run_and_evaluate_HF('single-HF-' + feature_names[i], mvsa_single_features[i][0], mvsa_single_features[i][1],\n",
    "                                     mvsa_single_multimodal_labels,\n",
    "                                     verbose=0, lstm=False)\n",
    "    scores.append(score)\n",
    "    print()\n",
    "\n",
    "df_single_scores_HF = pd.DataFrame(scores, columns=['Accuracy', 'F1-macro', 'F1-weighted'], index=feature_names)"
   ]
  },
  {
   "cell_type": "code",
   "execution_count": 25,
   "id": "5351e95c",
   "metadata": {
    "execution": {
     "iopub.execute_input": "2022-07-04T18:23:23.716833Z",
     "iopub.status.busy": "2022-07-04T18:23:23.715325Z",
     "iopub.status.idle": "2022-07-04T18:25:39.191526Z",
     "shell.execute_reply": "2022-07-04T18:25:39.189698Z"
    },
    "papermill": {
     "duration": 135.49842,
     "end_time": "2022-07-04T18:25:39.203270",
     "exception": false,
     "start_time": "2022-07-04T18:23:23.704850",
     "status": "completed"
    },
    "tags": []
   },
   "outputs": [
    {
     "name": "stdout",
     "output_type": "stream",
     "text": [
      "MVSA-Multiple with Hybrid Fusion\n",
      "\n",
      "MVSA-Multiple: resnet152-bert\n",
      "\n",
      "MVSA-Multiple: resnet152-bert-lstm\n",
      "\n",
      "MVSA-Multiple: densenet201-bert-pos-lstm\n",
      "\n",
      "MVSA-Multiple: densenet201-bert-pos-ner-lstm\n",
      "\n"
     ]
    }
   ],
   "source": [
    "print('MVSA-Multiple with Hybrid Fusion\\n')\n",
    "scores = []\n",
    "\n",
    "for i in range(len(feature_names)):\n",
    "    print('MVSA-Multiple:', feature_names[i])\n",
    "    if 'lstm' in feature_names[i]:\n",
    "        score = run_and_evaluate_HF('multiple-HF-' + feature_names[i], mvsa_multiple_features[i][0], mvsa_multiple_features[i][1], \n",
    "                                     mvsa_multiple_multimodal_labels,\n",
    "                                     verbose=0)\n",
    "    else:\n",
    "        score = run_and_evaluate_HF('multiple-HF-' + feature_names[i], mvsa_multiple_features[i][0], mvsa_multiple_features[i][1],\n",
    "                                     mvsa_multiple_multimodal_labels,\n",
    "                                     verbose=0, lstm=False)\n",
    "    scores.append(score)\n",
    "    print()\n",
    "\n",
    "df_multiple_scores_HF = pd.DataFrame(scores, columns=['Accuracy', 'F1-macro', 'F1-weighted'], index=feature_names)"
   ]
  },
  {
   "cell_type": "markdown",
   "id": "036f2d59",
   "metadata": {
    "papermill": {
     "duration": 0.009703,
     "end_time": "2022-07-04T18:25:39.223409",
     "exception": false,
     "start_time": "2022-07-04T18:25:39.213706",
     "status": "completed"
    },
    "tags": []
   },
   "source": [
    "# Display results"
   ]
  },
  {
   "cell_type": "code",
   "execution_count": 26,
   "id": "6ca111ef",
   "metadata": {
    "execution": {
     "iopub.execute_input": "2022-07-04T18:25:39.244233Z",
     "iopub.status.busy": "2022-07-04T18:25:39.243939Z",
     "iopub.status.idle": "2022-07-04T18:25:39.256709Z",
     "shell.execute_reply": "2022-07-04T18:25:39.255709Z"
    },
    "papermill": {
     "duration": 0.02602,
     "end_time": "2022-07-04T18:25:39.259212",
     "exception": false,
     "start_time": "2022-07-04T18:25:39.233192",
     "status": "completed"
    },
    "tags": []
   },
   "outputs": [],
   "source": [
    "df_single_scores_IF = df_single_scores_IF.drop(columns=['Loss'])\n",
    "df_multiple_scores_IF = df_multiple_scores_IF.drop(columns=['Loss'])"
   ]
  },
  {
   "cell_type": "code",
   "execution_count": 27,
   "id": "2c9e076e",
   "metadata": {
    "execution": {
     "iopub.execute_input": "2022-07-04T18:25:39.280185Z",
     "iopub.status.busy": "2022-07-04T18:25:39.279884Z",
     "iopub.status.idle": "2022-07-04T18:25:39.357255Z",
     "shell.execute_reply": "2022-07-04T18:25:39.356337Z"
    },
    "papermill": {
     "duration": 0.090187,
     "end_time": "2022-07-04T18:25:39.359223",
     "exception": false,
     "start_time": "2022-07-04T18:25:39.269036",
     "status": "completed"
    },
    "tags": []
   },
   "outputs": [
    {
     "name": "stdout",
     "output_type": "stream",
     "text": [
      "Intermediate Fusion\n"
     ]
    },
    {
     "data": {
      "text/html": [
       "<table style=\"display:inline\"><tr><td style=\"text-align:center\">MVSA-Single</td><td style=\"text-align:center\">MVSA-Multiple</td></tr><tr><td style=\"vertical-align:top\"> <style type=\"text/css\">\n",
       "#T_42c46_row0_col0, #T_42c46_row1_col0, #T_42c46_row1_col1, #T_42c46_row1_col2 {\n",
       "  color: tomato;\n",
       "}\n",
       "#T_42c46_row2_col0, #T_42c46_row2_col2, #T_42c46_row3_col1 {\n",
       "  color: lawngreen;\n",
       "}\n",
       "</style>\n",
       "<table style=\"display:inline\" id=\"T_42c46_\">\n",
       "  <thead>\n",
       "    <tr>\n",
       "      <th class=\"blank level0\" >&nbsp;</th>\n",
       "      <th class=\"col_heading level0 col0\" >Accuracy</th>\n",
       "      <th class=\"col_heading level0 col1\" >F1-macro</th>\n",
       "      <th class=\"col_heading level0 col2\" >F1-weighted</th>\n",
       "    </tr>\n",
       "  </thead>\n",
       "  <tbody>\n",
       "    <tr>\n",
       "      <th id=\"T_42c46_level0_row0\" class=\"row_heading level0 row0\" >resnet152-bert</th>\n",
       "      <td id=\"T_42c46_row0_col0\" class=\"data row0 col0\" >0.603104</td>\n",
       "      <td id=\"T_42c46_row0_col1\" class=\"data row0 col1\" >0.280481</td>\n",
       "      <td id=\"T_42c46_row0_col2\" class=\"data row0 col2\" >0.482997</td>\n",
       "    </tr>\n",
       "    <tr>\n",
       "      <th id=\"T_42c46_level0_row1\" class=\"row_heading level0 row1\" >resnet152-bert-lstm</th>\n",
       "      <td id=\"T_42c46_row1_col0\" class=\"data row1 col0\" >0.603104</td>\n",
       "      <td id=\"T_42c46_row1_col1\" class=\"data row1 col1\" >0.250807</td>\n",
       "      <td id=\"T_42c46_row1_col2\" class=\"data row1 col2\" >0.453788</td>\n",
       "    </tr>\n",
       "    <tr>\n",
       "      <th id=\"T_42c46_level0_row2\" class=\"row_heading level0 row2\" >densenet201-bert-pos-lstm</th>\n",
       "      <td id=\"T_42c46_row2_col0\" class=\"data row2 col0\" >0.685144</td>\n",
       "      <td id=\"T_42c46_row2_col1\" class=\"data row2 col1\" >0.506248</td>\n",
       "      <td id=\"T_42c46_row2_col2\" class=\"data row2 col2\" >0.683706</td>\n",
       "    </tr>\n",
       "    <tr>\n",
       "      <th id=\"T_42c46_level0_row3\" class=\"row_heading level0 row3\" >densenet201-bert-pos-ner-lstm</th>\n",
       "      <td id=\"T_42c46_row3_col0\" class=\"data row3 col0\" >0.671840</td>\n",
       "      <td id=\"T_42c46_row3_col1\" class=\"data row3 col1\" >0.512758</td>\n",
       "      <td id=\"T_42c46_row3_col2\" class=\"data row3 col2\" >0.672824</td>\n",
       "    </tr>\n",
       "  </tbody>\n",
       "</table style=\"display:inline\">\n",
       "</td><td style=\"vertical-align:top\"> <style type=\"text/css\">\n",
       "#T_9f109_row1_col0, #T_9f109_row1_col1, #T_9f109_row1_col2 {\n",
       "  color: tomato;\n",
       "}\n",
       "#T_9f109_row2_col0, #T_9f109_row3_col1, #T_9f109_row3_col2 {\n",
       "  color: lawngreen;\n",
       "}\n",
       "</style>\n",
       "<table style=\"display:inline\" id=\"T_9f109_\">\n",
       "  <thead>\n",
       "    <tr>\n",
       "      <th class=\"blank level0\" >&nbsp;</th>\n",
       "      <th class=\"col_heading level0 col0\" >Accuracy</th>\n",
       "      <th class=\"col_heading level0 col1\" >F1-macro</th>\n",
       "      <th class=\"col_heading level0 col2\" >F1-weighted</th>\n",
       "    </tr>\n",
       "  </thead>\n",
       "  <tbody>\n",
       "    <tr>\n",
       "      <th id=\"T_9f109_level0_row0\" class=\"row_heading level0 row0\" >resnet152-bert</th>\n",
       "      <td id=\"T_9f109_row0_col0\" class=\"data row0 col0\" >0.641011</td>\n",
       "      <td id=\"T_9f109_row0_col1\" class=\"data row0 col1\" >0.263537</td>\n",
       "      <td id=\"T_9f109_row0_col2\" class=\"data row0 col2\" >0.502002</td>\n",
       "    </tr>\n",
       "    <tr>\n",
       "      <th id=\"T_9f109_level0_row1\" class=\"row_heading level0 row1\" >resnet152-bert-lstm</th>\n",
       "      <td id=\"T_9f109_row1_col0\" class=\"data row1 col0\" >0.639248</td>\n",
       "      <td id=\"T_9f109_row1_col1\" class=\"data row1 col1\" >0.259976</td>\n",
       "      <td id=\"T_9f109_row1_col2\" class=\"data row1 col2\" >0.499026</td>\n",
       "    </tr>\n",
       "    <tr>\n",
       "      <th id=\"T_9f109_level0_row2\" class=\"row_heading level0 row2\" >densenet201-bert-pos-lstm</th>\n",
       "      <td id=\"T_9f109_row2_col0\" class=\"data row2 col0\" >0.662162</td>\n",
       "      <td id=\"T_9f109_row2_col1\" class=\"data row2 col1\" >0.441042</td>\n",
       "      <td id=\"T_9f109_row2_col2\" class=\"data row2 col2\" >0.598979</td>\n",
       "    </tr>\n",
       "    <tr>\n",
       "      <th id=\"T_9f109_level0_row3\" class=\"row_heading level0 row3\" >densenet201-bert-pos-ner-lstm</th>\n",
       "      <td id=\"T_9f109_row3_col0\" class=\"data row3 col0\" >0.650999</td>\n",
       "      <td id=\"T_9f109_row3_col1\" class=\"data row3 col1\" >0.509096</td>\n",
       "      <td id=\"T_9f109_row3_col2\" class=\"data row3 col2\" >0.631882</td>\n",
       "    </tr>\n",
       "  </tbody>\n",
       "</table style=\"display:inline\">\n",
       "</td></tr></table style=\"display:inline\">"
      ]
     },
     "metadata": {},
     "output_type": "display_data"
    }
   ],
   "source": [
    "print('Intermediate Fusion')\n",
    "display_dataframes((style_dataframe(df_single_scores_IF), style_dataframe(df_multiple_scores_IF)), \n",
    "                   names=['MVSA-Single', 'MVSA-Multiple'])"
   ]
  },
  {
   "cell_type": "code",
   "execution_count": 28,
   "id": "3a7deb40",
   "metadata": {
    "execution": {
     "iopub.execute_input": "2022-07-04T18:25:39.381301Z",
     "iopub.status.busy": "2022-07-04T18:25:39.380999Z",
     "iopub.status.idle": "2022-07-04T18:25:39.406255Z",
     "shell.execute_reply": "2022-07-04T18:25:39.405060Z"
    },
    "papermill": {
     "duration": 0.038664,
     "end_time": "2022-07-04T18:25:39.408071",
     "exception": false,
     "start_time": "2022-07-04T18:25:39.369407",
     "status": "completed"
    },
    "tags": []
   },
   "outputs": [
    {
     "name": "stdout",
     "output_type": "stream",
     "text": [
      "Late Fusion with Multimodal Labels\n"
     ]
    },
    {
     "data": {
      "text/html": [
       "<table style=\"display:inline\"><tr><td style=\"text-align:center\">MVSA-Single</td><td style=\"text-align:center\">MVSA-Multiple</td></tr><tr><td style=\"vertical-align:top\"> <style type=\"text/css\">\n",
       "#T_4c827_row0_col0, #T_4c827_row0_col1, #T_4c827_row0_col2 {\n",
       "  color: tomato;\n",
       "}\n",
       "#T_4c827_row2_col0, #T_4c827_row2_col1, #T_4c827_row2_col2 {\n",
       "  color: lawngreen;\n",
       "}\n",
       "</style>\n",
       "<table style=\"display:inline\" id=\"T_4c827_\">\n",
       "  <thead>\n",
       "    <tr>\n",
       "      <th class=\"blank level0\" >&nbsp;</th>\n",
       "      <th class=\"col_heading level0 col0\" >Accuracy</th>\n",
       "      <th class=\"col_heading level0 col1\" >F1-macro</th>\n",
       "      <th class=\"col_heading level0 col2\" >F1-weighted</th>\n",
       "    </tr>\n",
       "  </thead>\n",
       "  <tbody>\n",
       "    <tr>\n",
       "      <th id=\"T_4c827_level0_row0\" class=\"row_heading level0 row0\" >resnet152-bert</th>\n",
       "      <td id=\"T_4c827_row0_col0\" class=\"data row0 col0\" >0.654102</td>\n",
       "      <td id=\"T_4c827_row0_col1\" class=\"data row0 col1\" >0.392712</td>\n",
       "      <td id=\"T_4c827_row0_col2\" class=\"data row0 col2\" >0.582924</td>\n",
       "    </tr>\n",
       "    <tr>\n",
       "      <th id=\"T_4c827_level0_row1\" class=\"row_heading level0 row1\" >resnet152-bert-lstm</th>\n",
       "      <td id=\"T_4c827_row1_col0\" class=\"data row1 col0\" >0.698448</td>\n",
       "      <td id=\"T_4c827_row1_col1\" class=\"data row1 col1\" >0.497703</td>\n",
       "      <td id=\"T_4c827_row1_col2\" class=\"data row1 col2\" >0.663131</td>\n",
       "    </tr>\n",
       "    <tr>\n",
       "      <th id=\"T_4c827_level0_row2\" class=\"row_heading level0 row2\" >densenet201-bert-pos-lstm</th>\n",
       "      <td id=\"T_4c827_row2_col0\" class=\"data row2 col0\" >0.705100</td>\n",
       "      <td id=\"T_4c827_row2_col1\" class=\"data row2 col1\" >0.528030</td>\n",
       "      <td id=\"T_4c827_row2_col2\" class=\"data row2 col2\" >0.692048</td>\n",
       "    </tr>\n",
       "    <tr>\n",
       "      <th id=\"T_4c827_level0_row3\" class=\"row_heading level0 row3\" >densenet201-bert-pos-ner-lstm</th>\n",
       "      <td id=\"T_4c827_row3_col0\" class=\"data row3 col0\" >0.680710</td>\n",
       "      <td id=\"T_4c827_row3_col1\" class=\"data row3 col1\" >0.484059</td>\n",
       "      <td id=\"T_4c827_row3_col2\" class=\"data row3 col2\" >0.664565</td>\n",
       "    </tr>\n",
       "  </tbody>\n",
       "</table style=\"display:inline\">\n",
       "</td><td style=\"vertical-align:top\"> <style type=\"text/css\">\n",
       "#T_cf0f5_row0_col0, #T_cf0f5_row0_col1, #T_cf0f5_row0_col2 {\n",
       "  color: tomato;\n",
       "}\n",
       "#T_cf0f5_row2_col0, #T_cf0f5_row2_col2, #T_cf0f5_row3_col1 {\n",
       "  color: lawngreen;\n",
       "}\n",
       "</style>\n",
       "<table style=\"display:inline\" id=\"T_cf0f5_\">\n",
       "  <thead>\n",
       "    <tr>\n",
       "      <th class=\"blank level0\" >&nbsp;</th>\n",
       "      <th class=\"col_heading level0 col0\" >Accuracy</th>\n",
       "      <th class=\"col_heading level0 col1\" >F1-macro</th>\n",
       "      <th class=\"col_heading level0 col2\" >F1-weighted</th>\n",
       "    </tr>\n",
       "  </thead>\n",
       "  <tbody>\n",
       "    <tr>\n",
       "      <th id=\"T_cf0f5_level0_row0\" class=\"row_heading level0 row0\" >resnet152-bert</th>\n",
       "      <td id=\"T_cf0f5_row0_col0\" class=\"data row0 col0\" >0.643948</td>\n",
       "      <td id=\"T_cf0f5_row0_col1\" class=\"data row0 col1\" >0.286156</td>\n",
       "      <td id=\"T_cf0f5_row0_col2\" class=\"data row0 col2\" >0.511855</td>\n",
       "    </tr>\n",
       "    <tr>\n",
       "      <th id=\"T_cf0f5_level0_row1\" class=\"row_heading level0 row1\" >resnet152-bert-lstm</th>\n",
       "      <td id=\"T_cf0f5_row1_col0\" class=\"data row1 col0\" >0.645711</td>\n",
       "      <td id=\"T_cf0f5_row1_col1\" class=\"data row1 col1\" >0.291286</td>\n",
       "      <td id=\"T_cf0f5_row1_col2\" class=\"data row1 col2\" >0.515988</td>\n",
       "    </tr>\n",
       "    <tr>\n",
       "      <th id=\"T_cf0f5_level0_row2\" class=\"row_heading level0 row2\" >densenet201-bert-pos-lstm</th>\n",
       "      <td id=\"T_cf0f5_row2_col0\" class=\"data row2 col0\" >0.658049</td>\n",
       "      <td id=\"T_cf0f5_row2_col1\" class=\"data row2 col1\" >0.354647</td>\n",
       "      <td id=\"T_cf0f5_row2_col2\" class=\"data row2 col2\" >0.555356</td>\n",
       "    </tr>\n",
       "    <tr>\n",
       "      <th id=\"T_cf0f5_level0_row3\" class=\"row_heading level0 row3\" >densenet201-bert-pos-ner-lstm</th>\n",
       "      <td id=\"T_cf0f5_row3_col0\" class=\"data row3 col0\" >0.655112</td>\n",
       "      <td id=\"T_cf0f5_row3_col1\" class=\"data row3 col1\" >0.355496</td>\n",
       "      <td id=\"T_cf0f5_row3_col2\" class=\"data row3 col2\" >0.554995</td>\n",
       "    </tr>\n",
       "  </tbody>\n",
       "</table style=\"display:inline\">\n",
       "</td></tr></table style=\"display:inline\">"
      ]
     },
     "metadata": {},
     "output_type": "display_data"
    }
   ],
   "source": [
    "print('Late Fusion with Multimodal Labels')\n",
    "display_dataframes((style_dataframe(df_single_scores_LF), style_dataframe(df_multiple_scores_LF)), \n",
    "                   names=['MVSA-Single', 'MVSA-Multiple'])"
   ]
  },
  {
   "cell_type": "code",
   "execution_count": 29,
   "id": "62f94930",
   "metadata": {
    "execution": {
     "iopub.execute_input": "2022-07-04T18:25:39.430977Z",
     "iopub.status.busy": "2022-07-04T18:25:39.430248Z",
     "iopub.status.idle": "2022-07-04T18:25:39.457602Z",
     "shell.execute_reply": "2022-07-04T18:25:39.456794Z"
    },
    "papermill": {
     "duration": 0.040313,
     "end_time": "2022-07-04T18:25:39.459377",
     "exception": false,
     "start_time": "2022-07-04T18:25:39.419064",
     "status": "completed"
    },
    "tags": []
   },
   "outputs": [
    {
     "name": "stdout",
     "output_type": "stream",
     "text": [
      "Hybrid Fusion with Multimodal Labels\n"
     ]
    },
    {
     "data": {
      "text/html": [
       "<table style=\"display:inline\"><tr><td style=\"text-align:center\">MVSA-Single</td><td style=\"text-align:center\">MVSA-Multiple</td></tr><tr><td style=\"vertical-align:top\"> <style type=\"text/css\">\n",
       "#T_63d89_row0_col0, #T_63d89_row0_col1, #T_63d89_row0_col2 {\n",
       "  color: tomato;\n",
       "}\n",
       "#T_63d89_row2_col0, #T_63d89_row2_col1, #T_63d89_row2_col2 {\n",
       "  color: lawngreen;\n",
       "}\n",
       "</style>\n",
       "<table style=\"display:inline\" id=\"T_63d89_\">\n",
       "  <thead>\n",
       "    <tr>\n",
       "      <th class=\"blank level0\" >&nbsp;</th>\n",
       "      <th class=\"col_heading level0 col0\" >Accuracy</th>\n",
       "      <th class=\"col_heading level0 col1\" >F1-macro</th>\n",
       "      <th class=\"col_heading level0 col2\" >F1-weighted</th>\n",
       "    </tr>\n",
       "  </thead>\n",
       "  <tbody>\n",
       "    <tr>\n",
       "      <th id=\"T_63d89_level0_row0\" class=\"row_heading level0 row0\" >resnet152-bert</th>\n",
       "      <td id=\"T_63d89_row0_col0\" class=\"data row0 col0\" >0.682927</td>\n",
       "      <td id=\"T_63d89_row0_col1\" class=\"data row0 col1\" >0.408030</td>\n",
       "      <td id=\"T_63d89_row0_col2\" class=\"data row0 col2\" >0.624916</td>\n",
       "    </tr>\n",
       "    <tr>\n",
       "      <th id=\"T_63d89_level0_row1\" class=\"row_heading level0 row1\" >resnet152-bert-lstm</th>\n",
       "      <td id=\"T_63d89_row1_col0\" class=\"data row1 col0\" >0.691796</td>\n",
       "      <td id=\"T_63d89_row1_col1\" class=\"data row1 col1\" >0.429634</td>\n",
       "      <td id=\"T_63d89_row1_col2\" class=\"data row1 col2\" >0.647621</td>\n",
       "    </tr>\n",
       "    <tr>\n",
       "      <th id=\"T_63d89_level0_row2\" class=\"row_heading level0 row2\" >densenet201-bert-pos-lstm</th>\n",
       "      <td id=\"T_63d89_row2_col0\" class=\"data row2 col0\" >0.696231</td>\n",
       "      <td id=\"T_63d89_row2_col1\" class=\"data row2 col1\" >0.527156</td>\n",
       "      <td id=\"T_63d89_row2_col2\" class=\"data row2 col2\" >0.692496</td>\n",
       "    </tr>\n",
       "    <tr>\n",
       "      <th id=\"T_63d89_level0_row3\" class=\"row_heading level0 row3\" >densenet201-bert-pos-ner-lstm</th>\n",
       "      <td id=\"T_63d89_row3_col0\" class=\"data row3 col0\" >0.689579</td>\n",
       "      <td id=\"T_63d89_row3_col1\" class=\"data row3 col1\" >0.520022</td>\n",
       "      <td id=\"T_63d89_row3_col2\" class=\"data row3 col2\" >0.681998</td>\n",
       "    </tr>\n",
       "  </tbody>\n",
       "</table style=\"display:inline\">\n",
       "</td><td style=\"vertical-align:top\"> <style type=\"text/css\">\n",
       "#T_5c99a_row0_col0, #T_5c99a_row0_col1, #T_5c99a_row0_col2, #T_5c99a_row1_col0, #T_5c99a_row1_col1, #T_5c99a_row1_col2 {\n",
       "  color: tomato;\n",
       "}\n",
       "#T_5c99a_row3_col0, #T_5c99a_row3_col1, #T_5c99a_row3_col2 {\n",
       "  color: lawngreen;\n",
       "}\n",
       "</style>\n",
       "<table style=\"display:inline\" id=\"T_5c99a_\">\n",
       "  <thead>\n",
       "    <tr>\n",
       "      <th class=\"blank level0\" >&nbsp;</th>\n",
       "      <th class=\"col_heading level0 col0\" >Accuracy</th>\n",
       "      <th class=\"col_heading level0 col1\" >F1-macro</th>\n",
       "      <th class=\"col_heading level0 col2\" >F1-weighted</th>\n",
       "    </tr>\n",
       "  </thead>\n",
       "  <tbody>\n",
       "    <tr>\n",
       "      <th id=\"T_5c99a_level0_row0\" class=\"row_heading level0 row0\" >resnet152-bert</th>\n",
       "      <td id=\"T_5c99a_row0_col0\" class=\"data row0 col0\" >0.639835</td>\n",
       "      <td id=\"T_5c99a_row0_col1\" class=\"data row0 col1\" >0.260122</td>\n",
       "      <td id=\"T_5c99a_row0_col2\" class=\"data row0 col2\" >0.499306</td>\n",
       "    </tr>\n",
       "    <tr>\n",
       "      <th id=\"T_5c99a_level0_row1\" class=\"row_heading level0 row1\" >resnet152-bert-lstm</th>\n",
       "      <td id=\"T_5c99a_row1_col0\" class=\"data row1 col0\" >0.639835</td>\n",
       "      <td id=\"T_5c99a_row1_col1\" class=\"data row1 col1\" >0.260122</td>\n",
       "      <td id=\"T_5c99a_row1_col2\" class=\"data row1 col2\" >0.499306</td>\n",
       "    </tr>\n",
       "    <tr>\n",
       "      <th id=\"T_5c99a_level0_row2\" class=\"row_heading level0 row2\" >densenet201-bert-pos-lstm</th>\n",
       "      <td id=\"T_5c99a_row2_col0\" class=\"data row2 col0\" >0.656287</td>\n",
       "      <td id=\"T_5c99a_row2_col1\" class=\"data row2 col1\" >0.395370</td>\n",
       "      <td id=\"T_5c99a_row2_col2\" class=\"data row2 col2\" >0.570320</td>\n",
       "    </tr>\n",
       "    <tr>\n",
       "      <th id=\"T_5c99a_level0_row3\" class=\"row_heading level0 row3\" >densenet201-bert-pos-ner-lstm</th>\n",
       "      <td id=\"T_5c99a_row3_col0\" class=\"data row3 col0\" >0.665100</td>\n",
       "      <td id=\"T_5c99a_row3_col1\" class=\"data row3 col1\" >0.402334</td>\n",
       "      <td id=\"T_5c99a_row3_col2\" class=\"data row3 col2\" >0.578619</td>\n",
       "    </tr>\n",
       "  </tbody>\n",
       "</table style=\"display:inline\">\n",
       "</td></tr></table style=\"display:inline\">"
      ]
     },
     "metadata": {},
     "output_type": "display_data"
    }
   ],
   "source": [
    "print('Hybrid Fusion with Multimodal Labels')\n",
    "display_dataframes((style_dataframe(df_single_scores_HF), style_dataframe(df_multiple_scores_HF)), \n",
    "                   names=['MVSA-Single', 'MVSA-Multiple'])"
   ]
  },
  {
   "cell_type": "code",
   "execution_count": 30,
   "id": "ce18cc40",
   "metadata": {
    "execution": {
     "iopub.execute_input": "2022-07-04T18:25:39.482450Z",
     "iopub.status.busy": "2022-07-04T18:25:39.482166Z",
     "iopub.status.idle": "2022-07-04T18:25:39.490837Z",
     "shell.execute_reply": "2022-07-04T18:25:39.489933Z"
    },
    "papermill": {
     "duration": 0.022627,
     "end_time": "2022-07-04T18:25:39.492658",
     "exception": false,
     "start_time": "2022-07-04T18:25:39.470031",
     "status": "completed"
    },
    "tags": []
   },
   "outputs": [],
   "source": [
    "# get max values of late and intermediate fusion\n",
    "df_single_higher_fusion = pd.DataFrame(np.where(df_single_scores_LF.gt(df_single_scores_IF.values), df_single_scores_LF.values, df_single_scores_IF.values),\n",
    "                 columns=['Accuracy','F1-macro','F1-weighted'], index=feature_names)\n",
    "\n",
    "df_multiple_higher_fusion = pd.DataFrame(np.where(df_single_scores_LF.gt(df_single_scores_IF.values), df_multiple_scores_LF.values, df_multiple_scores_IF.values),\n",
    "                 columns=['Accuracy','F1-macro','F1-weighted'], index=feature_names)\n",
    "\n",
    "df_single_subtract = df_single_scores_HF.subtract(df_single_higher_fusion)\n",
    "df_multiple_subtract = df_multiple_scores_HF.subtract(df_multiple_higher_fusion)"
   ]
  },
  {
   "cell_type": "code",
   "execution_count": 31,
   "id": "c3a3a272",
   "metadata": {
    "execution": {
     "iopub.execute_input": "2022-07-04T18:25:39.514782Z",
     "iopub.status.busy": "2022-07-04T18:25:39.514536Z",
     "iopub.status.idle": "2022-07-04T18:25:39.541688Z",
     "shell.execute_reply": "2022-07-04T18:25:39.540863Z"
    },
    "papermill": {
     "duration": 0.040324,
     "end_time": "2022-07-04T18:25:39.543590",
     "exception": false,
     "start_time": "2022-07-04T18:25:39.503266",
     "status": "completed"
    },
    "tags": []
   },
   "outputs": [
    {
     "name": "stdout",
     "output_type": "stream",
     "text": [
      "Compare Hybrid Fusion scores up\n"
     ]
    },
    {
     "data": {
      "text/html": [
       "<table style=\"display:inline\"><tr><td style=\"text-align:center\">MVSA-Single</td><td style=\"text-align:center\">MVSA-Multiple</td></tr><tr><td style=\"vertical-align:top\"> <style type=\"text/css\">\n",
       "#T_129be_row0_col0, #T_129be_row0_col1, #T_129be_row0_col2 {\n",
       "  color: lawngreen;\n",
       "}\n",
       "#T_129be_row1_col1, #T_129be_row1_col2, #T_129be_row2_col0 {\n",
       "  color: tomato;\n",
       "}\n",
       "</style>\n",
       "<table style=\"display:inline\" id=\"T_129be_\">\n",
       "  <thead>\n",
       "    <tr>\n",
       "      <th class=\"blank level0\" >&nbsp;</th>\n",
       "      <th class=\"col_heading level0 col0\" >Accuracy</th>\n",
       "      <th class=\"col_heading level0 col1\" >F1-macro</th>\n",
       "      <th class=\"col_heading level0 col2\" >F1-weighted</th>\n",
       "    </tr>\n",
       "  </thead>\n",
       "  <tbody>\n",
       "    <tr>\n",
       "      <th id=\"T_129be_level0_row0\" class=\"row_heading level0 row0\" >resnet152-bert</th>\n",
       "      <td id=\"T_129be_row0_col0\" class=\"data row0 col0\" >0.028825</td>\n",
       "      <td id=\"T_129be_row0_col1\" class=\"data row0 col1\" >0.015317</td>\n",
       "      <td id=\"T_129be_row0_col2\" class=\"data row0 col2\" >0.041992</td>\n",
       "    </tr>\n",
       "    <tr>\n",
       "      <th id=\"T_129be_level0_row1\" class=\"row_heading level0 row1\" >resnet152-bert-lstm</th>\n",
       "      <td id=\"T_129be_row1_col0\" class=\"data row1 col0\" >-0.006652</td>\n",
       "      <td id=\"T_129be_row1_col1\" class=\"data row1 col1\" >-0.068069</td>\n",
       "      <td id=\"T_129be_row1_col2\" class=\"data row1 col2\" >-0.015510</td>\n",
       "    </tr>\n",
       "    <tr>\n",
       "      <th id=\"T_129be_level0_row2\" class=\"row_heading level0 row2\" >densenet201-bert-pos-lstm</th>\n",
       "      <td id=\"T_129be_row2_col0\" class=\"data row2 col0\" >-0.008869</td>\n",
       "      <td id=\"T_129be_row2_col1\" class=\"data row2 col1\" >-0.000874</td>\n",
       "      <td id=\"T_129be_row2_col2\" class=\"data row2 col2\" >0.000448</td>\n",
       "    </tr>\n",
       "    <tr>\n",
       "      <th id=\"T_129be_level0_row3\" class=\"row_heading level0 row3\" >densenet201-bert-pos-ner-lstm</th>\n",
       "      <td id=\"T_129be_row3_col0\" class=\"data row3 col0\" >0.008869</td>\n",
       "      <td id=\"T_129be_row3_col1\" class=\"data row3 col1\" >0.007263</td>\n",
       "      <td id=\"T_129be_row3_col2\" class=\"data row3 col2\" >0.009174</td>\n",
       "    </tr>\n",
       "  </tbody>\n",
       "</table style=\"display:inline\">\n",
       "</td><td style=\"vertical-align:top\"> <style type=\"text/css\">\n",
       "#T_34802_row1_col0, #T_34802_row3_col1, #T_34802_row3_col2 {\n",
       "  color: tomato;\n",
       "}\n",
       "#T_34802_row2_col1, #T_34802_row2_col2, #T_34802_row3_col0 {\n",
       "  color: lawngreen;\n",
       "}\n",
       "</style>\n",
       "<table style=\"display:inline\" id=\"T_34802_\">\n",
       "  <thead>\n",
       "    <tr>\n",
       "      <th class=\"blank level0\" >&nbsp;</th>\n",
       "      <th class=\"col_heading level0 col0\" >Accuracy</th>\n",
       "      <th class=\"col_heading level0 col1\" >F1-macro</th>\n",
       "      <th class=\"col_heading level0 col2\" >F1-weighted</th>\n",
       "    </tr>\n",
       "  </thead>\n",
       "  <tbody>\n",
       "    <tr>\n",
       "      <th id=\"T_34802_level0_row0\" class=\"row_heading level0 row0\" >resnet152-bert</th>\n",
       "      <td id=\"T_34802_row0_col0\" class=\"data row0 col0\" >-0.004113</td>\n",
       "      <td id=\"T_34802_row0_col1\" class=\"data row0 col1\" >-0.026034</td>\n",
       "      <td id=\"T_34802_row0_col2\" class=\"data row0 col2\" >-0.012549</td>\n",
       "    </tr>\n",
       "    <tr>\n",
       "      <th id=\"T_34802_level0_row1\" class=\"row_heading level0 row1\" >resnet152-bert-lstm</th>\n",
       "      <td id=\"T_34802_row1_col0\" class=\"data row1 col0\" >-0.005875</td>\n",
       "      <td id=\"T_34802_row1_col1\" class=\"data row1 col1\" >-0.031164</td>\n",
       "      <td id=\"T_34802_row1_col2\" class=\"data row1 col2\" >-0.016682</td>\n",
       "    </tr>\n",
       "    <tr>\n",
       "      <th id=\"T_34802_level0_row2\" class=\"row_heading level0 row2\" >densenet201-bert-pos-lstm</th>\n",
       "      <td id=\"T_34802_row2_col0\" class=\"data row2 col0\" >-0.001763</td>\n",
       "      <td id=\"T_34802_row2_col1\" class=\"data row2 col1\" >0.040723</td>\n",
       "      <td id=\"T_34802_row2_col2\" class=\"data row2 col2\" >0.014963</td>\n",
       "    </tr>\n",
       "    <tr>\n",
       "      <th id=\"T_34802_level0_row3\" class=\"row_heading level0 row3\" >densenet201-bert-pos-ner-lstm</th>\n",
       "      <td id=\"T_34802_row3_col0\" class=\"data row3 col0\" >0.009988</td>\n",
       "      <td id=\"T_34802_row3_col1\" class=\"data row3 col1\" >-0.106762</td>\n",
       "      <td id=\"T_34802_row3_col2\" class=\"data row3 col2\" >-0.053263</td>\n",
       "    </tr>\n",
       "  </tbody>\n",
       "</table style=\"display:inline\">\n",
       "</td></tr></table style=\"display:inline\">"
      ]
     },
     "metadata": {},
     "output_type": "display_data"
    }
   ],
   "source": [
    "print('Compare Hybrid Fusion scores up')\n",
    "display_dataframes((style_dataframe(df_single_subtract), style_dataframe(df_multiple_subtract)), \n",
    "                   names=['MVSA-Single', 'MVSA-Multiple'])"
   ]
  }
 ],
 "metadata": {
  "kernelspec": {
   "display_name": "Python 3",
   "language": "python",
   "name": "python3"
  },
  "language_info": {
   "codemirror_mode": {
    "name": "ipython",
    "version": 3
   },
   "file_extension": ".py",
   "mimetype": "text/x-python",
   "name": "python",
   "nbconvert_exporter": "python",
   "pygments_lexer": "ipython3",
   "version": "3.7.12"
  },
  "papermill": {
   "default_parameters": {},
   "duration": 411.559631,
   "end_time": "2022-07-04T18:25:42.302098",
   "environment_variables": {},
   "exception": null,
   "input_path": "__notebook__.ipynb",
   "output_path": "__notebook__.ipynb",
   "parameters": {},
   "start_time": "2022-07-04T18:18:50.742467",
   "version": "2.3.4"
  }
 },
 "nbformat": 4,
 "nbformat_minor": 5
}
