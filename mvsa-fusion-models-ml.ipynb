{
 "cells": [
  {
   "cell_type": "code",
   "execution_count": 1,
   "id": "ae4e5348",
   "metadata": {
    "_cell_guid": "b1076dfc-b9ad-4769-8c92-a6c4dae69d19",
    "_uuid": "8f2839f25d086af736a60e9eeb907d3b93b6e0e5",
    "execution": {
     "iopub.execute_input": "2022-07-14T04:04:30.687178Z",
     "iopub.status.busy": "2022-07-14T04:04:30.686586Z",
     "iopub.status.idle": "2022-07-14T04:04:40.145748Z",
     "shell.execute_reply": "2022-07-14T04:04:40.144787Z"
    },
    "papermill": {
     "duration": 9.473584,
     "end_time": "2022-07-14T04:04:40.148140",
     "exception": false,
     "start_time": "2022-07-14T04:04:30.674556",
     "status": "completed"
    },
    "tags": []
   },
   "outputs": [],
   "source": [
    "SEED = 61\n",
    "\n",
    "import os\n",
    "import re\n",
    "import gc\n",
    "import h5py\n",
    "import torch\n",
    "import numpy as np\n",
    "import pandas as pd\n",
    "import tensorflow as tf\n",
    "import random as python_random\n",
    "import tensorflow_addons as tfa\n",
    "import matplotlib.pyplot as plt\n",
    "\n",
    "from tqdm import tqdm\n",
    "from nltk import tokenize\n",
    "from IPython.display import display_html\n",
    "from imblearn.over_sampling import SMOTE\n",
    "from imblearn.over_sampling import BorderlineSMOTE\n",
    "from transformers import BertTokenizer, BertForMaskedLM, BertModel\n",
    "from tensorflow.python.keras.layers import Layer, InputSpec, Lambda\n",
    "\n",
    "from sklearn import preprocessing\n",
    "from sklearn.decomposition import PCA\n",
    "from sklearn.model_selection import RepeatedKFold, KFold\n",
    "from sklearn.model_selection import cross_val_score\n",
    "from sklearn.metrics import f1_score, accuracy_score, confusion_matrix, ConfusionMatrixDisplay, classification_report\n",
    "\n",
    "from keras import backend as K\n",
    "from keras import initializers,regularizers,constraints\n",
    "from keras.preprocessing.text import Tokenizer, text_to_word_sequence\n",
    "from keras.preprocessing.sequence import pad_sequences\n",
    "from keras.utils.np_utils import to_categorical\n",
    "from keras.layers import Reshape, Input, Embedding, Flatten, Dense, Dropout, BatchNormalization, Activation #, merge\n",
    "from keras.layers import TimeDistributed, LSTM, GRU, Bidirectional, Convolution1D, MaxPooling1D, MaxPooling2D\n",
    "from keras.layers.core import RepeatVector #, Reshape\n",
    "from keras.callbacks import ModelCheckpoint, EarlyStopping, ReduceLROnPlateau\n",
    "from keras.models import Sequential, Model, load_model\n",
    "\n",
    "def reset_seeds():\n",
    "    np.random.seed(SEED) \n",
    "    python_random.seed(SEED)\n",
    "    tf.random.set_seed(SEED)\n",
    "    os.environ[\"PYTHONHASHSEED\"] = str(SEED)\n",
    "\n",
    "# from tensorflow.keras import Model\n",
    "# from attention import Attention_input1, Attention_input2\n",
    "# from keras.optimizers import SGD, RMSprop, Adagrad"
   ]
  },
  {
   "cell_type": "code",
   "execution_count": 2,
   "id": "57c702c0",
   "metadata": {
    "execution": {
     "iopub.execute_input": "2022-07-14T04:04:40.166111Z",
     "iopub.status.busy": "2022-07-14T04:04:40.165259Z",
     "iopub.status.idle": "2022-07-14T04:04:40.170046Z",
     "shell.execute_reply": "2022-07-14T04:04:40.169217Z"
    },
    "papermill": {
     "duration": 0.015644,
     "end_time": "2022-07-14T04:04:40.172110",
     "exception": false,
     "start_time": "2022-07-14T04:04:40.156466",
     "status": "completed"
    },
    "tags": []
   },
   "outputs": [],
   "source": [
    "NUM_CLASSES = 3"
   ]
  },
  {
   "cell_type": "code",
   "execution_count": 3,
   "id": "dcfa06c8",
   "metadata": {
    "execution": {
     "iopub.execute_input": "2022-07-14T04:04:40.189309Z",
     "iopub.status.busy": "2022-07-14T04:04:40.189023Z",
     "iopub.status.idle": "2022-07-14T04:04:40.196001Z",
     "shell.execute_reply": "2022-07-14T04:04:40.195193Z"
    },
    "papermill": {
     "duration": 0.017872,
     "end_time": "2022-07-14T04:04:40.197896",
     "exception": false,
     "start_time": "2022-07-14T04:04:40.180024",
     "status": "completed"
    },
    "tags": []
   },
   "outputs": [],
   "source": [
    "def read_hdf5(path):\n",
    "    read_file = h5py.File(path, 'r')\n",
    "    \n",
    "    feature_names = list(read_file.keys())\n",
    "    loaded_data = []\n",
    "    \n",
    "    for name in feature_names:\n",
    "        dataset = read_file[name][:]\n",
    "        if dataset.dtype == np.dtype('object'):\n",
    "            dataset = np.array([x.decode('UTF-8') for x in dataset])            \n",
    "        loaded_data.append((name, dataset))\n",
    "\n",
    "    return loaded_data\n",
    "\n",
    "def loadz(path):\n",
    "    data = np.load(path)['arr_0']\n",
    "    return data"
   ]
  },
  {
   "cell_type": "code",
   "execution_count": 4,
   "id": "5975701f",
   "metadata": {
    "execution": {
     "iopub.execute_input": "2022-07-14T04:04:40.214485Z",
     "iopub.status.busy": "2022-07-14T04:04:40.214207Z",
     "iopub.status.idle": "2022-07-14T04:04:40.223416Z",
     "shell.execute_reply": "2022-07-14T04:04:40.222527Z"
    },
    "papermill": {
     "duration": 0.020004,
     "end_time": "2022-07-14T04:04:40.225499",
     "exception": false,
     "start_time": "2022-07-14T04:04:40.205495",
     "status": "completed"
    },
    "tags": []
   },
   "outputs": [],
   "source": [
    "def load_labels(path):\n",
    "    data = read_hdf5(path)\n",
    "\n",
    "    for x in data:\n",
    "        if x[0] == 'multimodal-labels':\n",
    "            labels = x[1]\n",
    "        if x[0] == 'text-labels':\n",
    "            text_labels = x[1]\n",
    "        if x[0] == 'image-labels':\n",
    "            image_labels = x[1]\n",
    "        \n",
    "    return labels, text_labels, image_labels\n",
    "\n",
    "def merge_mvsa(mvsa_single, mvsa_multiple):\n",
    "    mvsa = np.concatenate((mvsa_single, mvsa_multiple), axis=0)\n",
    "    return mvsa\n",
    "\n",
    "def load_mvsa_feature(feature_name, merge=False):\n",
    "    folder_path = os.path.join('../input/mvsa-features/', feature_name)\n",
    "    single_file = 'mvsa-single-{}.npz'.format(feature_name)\n",
    "    multiple_file = 'mvsa-multiple-{}.npz'.format(feature_name)\n",
    "    mvsa_single = loadz(os.path.join(folder_path, single_file))\n",
    "    mvsa_multiple = loadz(os.path.join(folder_path, multiple_file))\n",
    "    \n",
    "    if merge == True:\n",
    "        return merge_mvsa(mvsa_single, mvsa_multiple)\n",
    "    \n",
    "    return mvsa_single, mvsa_multiple"
   ]
  },
  {
   "cell_type": "code",
   "execution_count": 5,
   "id": "03762862",
   "metadata": {
    "execution": {
     "iopub.execute_input": "2022-07-14T04:04:40.241993Z",
     "iopub.status.busy": "2022-07-14T04:04:40.241749Z",
     "iopub.status.idle": "2022-07-14T04:04:40.247037Z",
     "shell.execute_reply": "2022-07-14T04:04:40.246215Z"
    },
    "papermill": {
     "duration": 0.015849,
     "end_time": "2022-07-14T04:04:40.249013",
     "exception": false,
     "start_time": "2022-07-14T04:04:40.233164",
     "status": "completed"
    },
    "tags": []
   },
   "outputs": [],
   "source": [
    "# e.g. validation_split=0.1 -----> 8:1:1 ratio of train, val, test\n",
    "def split_data(data, validation_split):\n",
    "    num_val = int(validation_split * data.shape[0])\n",
    "    data_train = data[:-(num_val*2)]\n",
    "    data_val = data[-(num_val*2):-(num_val)]\n",
    "    data_test = data[-num_val:]\n",
    "    return data_train, data_val, data_test"
   ]
  },
  {
   "cell_type": "code",
   "execution_count": 6,
   "id": "9dda8603",
   "metadata": {
    "execution": {
     "iopub.execute_input": "2022-07-14T04:04:40.265569Z",
     "iopub.status.busy": "2022-07-14T04:04:40.265323Z",
     "iopub.status.idle": "2022-07-14T04:04:40.274322Z",
     "shell.execute_reply": "2022-07-14T04:04:40.273275Z"
    },
    "papermill": {
     "duration": 0.01956,
     "end_time": "2022-07-14T04:04:40.276221",
     "exception": false,
     "start_time": "2022-07-14T04:04:40.256661",
     "status": "completed"
    },
    "tags": []
   },
   "outputs": [],
   "source": [
    "def weighted_average(weights, probs):\n",
    "    ''' Calculate the weighted average probability distribution from all input probs and its weights \n",
    "    weights: weights list (or array)\n",
    "    probs: probability distributions array list\n",
    "    '''\n",
    "    output_probs = []\n",
    "    weighted_probs = [probs[i] * weights[i] for i in range(len(weights))]\n",
    "    for i in range(len(probs[0])):\n",
    "        sum_prob = np.zeros(len(probs[0][0]))\n",
    "        for j in range(len(weights)):\n",
    "            sum_prob = np.sum((sum_prob, weighted_probs[j][i]), axis=0)\n",
    "        output_probs.append(sum_prob)\n",
    "    return np.asarray(output_probs, dtype='float32')\n",
    "\n",
    "def get_average_weights(*scores, inverse=False):\n",
    "    ''' Get the corresponding weight of each input score \n",
    "    inverse: (bool) get inverse weights value in case of the smaller score value, the bigger weight value (such as model loss)\n",
    "    '''\n",
    "    \n",
    "    weights = []\n",
    "    for score in scores:\n",
    "        weights.append(score/np.sum(scores))\n",
    "    \n",
    "    if inverse == True:\n",
    "        inverse_weights = []\n",
    "        inverse = [1/weight for weight in weights]\n",
    "        for inv in inverse:\n",
    "            inverse_weights.append(inv/np.sum(inverse))\n",
    "        weights = inverse_weights\n",
    "\n",
    "    return weights"
   ]
  },
  {
   "cell_type": "code",
   "execution_count": 7,
   "id": "38ba5cda",
   "metadata": {
    "execution": {
     "iopub.execute_input": "2022-07-14T04:04:40.293807Z",
     "iopub.status.busy": "2022-07-14T04:04:40.293555Z",
     "iopub.status.idle": "2022-07-14T04:04:45.927797Z",
     "shell.execute_reply": "2022-07-14T04:04:45.926837Z"
    },
    "papermill": {
     "duration": 5.646668,
     "end_time": "2022-07-14T04:04:45.930798",
     "exception": false,
     "start_time": "2022-07-14T04:04:40.284130",
     "status": "completed"
    },
    "tags": []
   },
   "outputs": [
    {
     "name": "stderr",
     "output_type": "stream",
     "text": [
      "2022-07-14 04:04:40.392466: I tensorflow/stream_executor/cuda/cuda_gpu_executor.cc:937] successful NUMA node read from SysFS had negative value (-1), but there must be at least one NUMA node, so returning NUMA node zero\n",
      "2022-07-14 04:04:40.393610: I tensorflow/stream_executor/cuda/cuda_gpu_executor.cc:937] successful NUMA node read from SysFS had negative value (-1), but there must be at least one NUMA node, so returning NUMA node zero\n",
      "2022-07-14 04:04:40.394302: I tensorflow/stream_executor/cuda/cuda_gpu_executor.cc:937] successful NUMA node read from SysFS had negative value (-1), but there must be at least one NUMA node, so returning NUMA node zero\n",
      "2022-07-14 04:04:40.395154: I tensorflow/core/platform/cpu_feature_guard.cc:142] This TensorFlow binary is optimized with oneAPI Deep Neural Network Library (oneDNN) to use the following CPU instructions in performance-critical operations:  AVX2 AVX512F FMA\n",
      "To enable them in other operations, rebuild TensorFlow with the appropriate compiler flags.\n",
      "2022-07-14 04:04:40.395464: I tensorflow/stream_executor/cuda/cuda_gpu_executor.cc:937] successful NUMA node read from SysFS had negative value (-1), but there must be at least one NUMA node, so returning NUMA node zero\n",
      "2022-07-14 04:04:40.396166: I tensorflow/stream_executor/cuda/cuda_gpu_executor.cc:937] successful NUMA node read from SysFS had negative value (-1), but there must be at least one NUMA node, so returning NUMA node zero\n",
      "2022-07-14 04:04:40.396848: I tensorflow/stream_executor/cuda/cuda_gpu_executor.cc:937] successful NUMA node read from SysFS had negative value (-1), but there must be at least one NUMA node, so returning NUMA node zero\n",
      "2022-07-14 04:04:45.589954: I tensorflow/stream_executor/cuda/cuda_gpu_executor.cc:937] successful NUMA node read from SysFS had negative value (-1), but there must be at least one NUMA node, so returning NUMA node zero\n",
      "2022-07-14 04:04:45.590883: I tensorflow/stream_executor/cuda/cuda_gpu_executor.cc:937] successful NUMA node read from SysFS had negative value (-1), but there must be at least one NUMA node, so returning NUMA node zero\n",
      "2022-07-14 04:04:45.591576: I tensorflow/stream_executor/cuda/cuda_gpu_executor.cc:937] successful NUMA node read from SysFS had negative value (-1), but there must be at least one NUMA node, so returning NUMA node zero\n",
      "2022-07-14 04:04:45.592166: I tensorflow/core/common_runtime/gpu/gpu_device.cc:1510] Created device /job:localhost/replica:0/task:0/device:GPU:0 with 15047 MB memory:  -> device: 0, name: Tesla P100-PCIE-16GB, pci bus id: 0000:00:04.0, compute capability: 6.0\n"
     ]
    }
   ],
   "source": [
    "f1_macro = tfa.metrics.F1Score(num_classes=NUM_CLASSES, average='macro', name='f1_macro')\n",
    "f1_weighted = tfa.metrics.F1Score(num_classes=NUM_CLASSES, average='weighted', name='f1_weighted')\n",
    "    \n",
    "def create_model_text(input_shape, lstm=True):\n",
    "    text_input = Input(shape=input_shape)\n",
    "    if lstm == True:\n",
    "        reshape_text = Reshape((1, -1)) (text_input)\n",
    "        lstm = LSTM(NUM_LSTM) (reshape_text)\n",
    "        outputs = Dense(NUM_CLASSES, activation='softmax') (lstm)\n",
    "    else:\n",
    "        outputs = Dense(NUM_CLASSES, activation='softmax') (text_input)\n",
    "    model = Model(text_input, outputs)\n",
    "    model.compile(optimizer='adam', loss='categorical_crossentropy', metrics=['accuracy', f1_macro, f1_weighted])\n",
    "    return model\n",
    "\n",
    "def create_model_image(input_shape):\n",
    "    image_input = Input(shape=input_shape)\n",
    "    outputs = Dense(NUM_CLASSES, activation='softmax') (image_input)\n",
    "    model = Model(image_input, outputs)\n",
    "    model.compile(optimizer='adam', loss='categorical_crossentropy', metrics=['accuracy', f1_macro, f1_weighted])\n",
    "    return model\n",
    "\n",
    "def create_model_IF(text_shape, image_shape, lstm=True):\n",
    "    image_input = Input(shape=image_shape)\n",
    "    text_input = Input(shape=text_shape)\n",
    "    if lstm == True:\n",
    "        text_reshape = Reshape((1, -1)) (text_input)\n",
    "        text_lstm = LSTM(NUM_LSTM) (text_reshape)\n",
    "#     text_lstm = Dropout(DROPOUT_RATE) (text_lstm)\n",
    "        text_image_concat = tf.keras.layers.Concatenate(axis=1)([text_lstm, image_input])\n",
    "    else:\n",
    "        text_image_concat = tf.keras.layers.Concatenate(axis=1)([text_input, image_input])\n",
    "    concat_self_attention = tf.keras.layers.Attention() ([text_image_concat, text_image_concat])\n",
    "#     concat_self_attention = Dropout(DROPOUT_RATE) (concat_self_attention)\n",
    "    outputs = Dense(NUM_CLASSES, activation='softmax') (concat_self_attention)\n",
    "    model = Model([text_input, image_input], outputs)\n",
    "    model.compile(optimizer='adam', loss='categorical_crossentropy', metrics=['accuracy', f1_macro, f1_weighted])\n",
    "    return model"
   ]
  },
  {
   "cell_type": "code",
   "execution_count": 8,
   "id": "e2ebd69f",
   "metadata": {
    "execution": {
     "iopub.execute_input": "2022-07-14T04:04:45.949428Z",
     "iopub.status.busy": "2022-07-14T04:04:45.949125Z",
     "iopub.status.idle": "2022-07-14T04:04:45.964948Z",
     "shell.execute_reply": "2022-07-14T04:04:45.964104Z"
    },
    "papermill": {
     "duration": 0.027228,
     "end_time": "2022-07-14T04:04:45.966891",
     "exception": false,
     "start_time": "2022-07-14T04:04:45.939663",
     "status": "completed"
    },
    "tags": []
   },
   "outputs": [],
   "source": [
    "def run_and_evaluate_IF(name, X1, X2, y, verbose=0, lstm=True):\n",
    "    '''  Train and test Intermediate Fusion model Multimodal Labels \n",
    "    X1: text input\n",
    "    X2: image input\n",
    "    y: multimodal labels\n",
    "    '''\n",
    "    y = le.fit_transform(y)\n",
    "    y = to_categorical(np.asarray(y))\n",
    "    \n",
    "    random_idx = np.random.permutation(len(y))\n",
    "    X1, X2, y = X1[random_idx], X2[random_idx], y[random_idx]\n",
    "    \n",
    "    X1_train, X1_val, X1_test = split_data(X1, VALIDATION_SPLIT)\n",
    "    X2_train, X2_val, X2_test = split_data(X2, VALIDATION_SPLIT)\n",
    "    y_train, y_val, y_test = split_data(y, VALIDATION_SPLIT)\n",
    "    \n",
    "    oversample = BorderlineSMOTE(sampling_strategy='minority', random_state=SEED, kind='borderline-2')\n",
    "#     oversample = SMOTE(sampling_strategy='minority', random_state=SEED)\n",
    "    X1_train, _ = oversample.fit_resample(X1_train, y_train)\n",
    "    X2_train, y_train = oversample.fit_resample(X2_train, y_train)\n",
    "\n",
    "    \n",
    "    if lstm == False:\n",
    "        model = create_model_IF(X1_train.shape[1:], X2_train.shape[1:], lstm=False)\n",
    "    else:\n",
    "        model = create_model_IF(X1_train.shape[1:], X2_train.shape[1:])\n",
    "    early_stopping = EarlyStopping(monitor='val_loss', min_delta=1e-4, patience=EARLY_STOPPING)\n",
    "    checkpoint = ModelCheckpoint('./model_checkpoint/{}.h5'.format(name), save_best_only=True, verbose=verbose)\n",
    "    \n",
    "    if 'multiple' in name:\n",
    "        batch_size = 256\n",
    "    else:\n",
    "        batch_size = BATCH_SIZE # 128\n",
    "    \n",
    "    history = model.fit([X1_train, X2_train], y_train, validation_data=([X1_val, X2_val], y_val), \n",
    "                        epochs=EPOCHS, batch_size=batch_size, verbose=verbose,\n",
    "                        callbacks=[checkpoint, early_stopping])\n",
    "    if verbose == 1:\n",
    "        best_epoch = np.argmin(history.history['val_loss'])\n",
    "        print('\\nCheckpoint loaded at epoch:', best_epoch)\n",
    "        \n",
    "    return history, evaluate_model_IF(model, X1_test, X2_test, y_test, checkpoint=name, verbose=verbose)\n",
    "\n",
    "def evaluate_model_IF(model, X_texts, X_images, y_test, checkpoint=None, verbose=1):\n",
    "    if checkpoint is not None:\n",
    "        model = load_model('./model_checkpoint/{}.h5'.format(checkpoint))\n",
    "    \n",
    "    loss, acc, f1_macro, f1_weighted = model.evaluate([X_texts, X_images], y_test, verbose=verbose)\n",
    "\n",
    "    if verbose == 1:\n",
    "        print('Loss:', loss)\n",
    "        print('Accuracy:', acc)\n",
    "        print('Macro F1-score:', f1_macro)\n",
    "        print('Weighted F1-score:', f1_weighted)\n",
    "\n",
    "        y_pred = model.predict([X_texts, X_images])\n",
    "        matrix = confusion_matrix(le.inverse_transform(y_test.argmax(axis=1)), le.inverse_transform(y_pred.argmax(axis=1)), \n",
    "                                  labels=list(le.classes_))\n",
    "        cm_disp = ConfusionMatrixDisplay(confusion_matrix=matrix,\n",
    "                                  display_labels=list(le.classes_))\n",
    "        cm_disp.plot()\n",
    "        plt.show()\n",
    "        \n",
    "    return loss, acc, f1_macro, f1_weighted"
   ]
  },
  {
   "cell_type": "code",
   "execution_count": 9,
   "id": "9c98752e",
   "metadata": {
    "execution": {
     "iopub.execute_input": "2022-07-14T04:04:45.984649Z",
     "iopub.status.busy": "2022-07-14T04:04:45.983925Z",
     "iopub.status.idle": "2022-07-14T04:04:46.000325Z",
     "shell.execute_reply": "2022-07-14T04:04:45.999302Z"
    },
    "papermill": {
     "duration": 0.027738,
     "end_time": "2022-07-14T04:04:46.002476",
     "exception": false,
     "start_time": "2022-07-14T04:04:45.974738",
     "status": "completed"
    },
    "tags": []
   },
   "outputs": [],
   "source": [
    "def run_and_evaluate_LF(name, X1, X2, y, verbose=0, lstm=True):\n",
    "    ''' Train and test Late Fusion model only with Multimodal Labels \n",
    "    X1: text input\n",
    "    X2: image input\n",
    "    y: multimodal labels\n",
    "    y1: text labels\n",
    "    y2: image labels\n",
    "    verbose: 0 or 1 to print tracking on progress\n",
    "    '''\n",
    "    y = le.fit_transform(y)\n",
    "    y = to_categorical(np.asarray(y))\n",
    "\n",
    "    random_idx = np.random.permutation(len(y))\n",
    "    X1, X2, y = X1[random_idx], X2[random_idx], y[random_idx]\n",
    "    \n",
    "    X1_train, X1_val, X1_test = split_data(X1, VALIDATION_SPLIT)\n",
    "    X2_train, X2_val, X2_test = split_data(X2, VALIDATION_SPLIT)\n",
    "    y_train, y_val, y_test = split_data(y, VALIDATION_SPLIT)\n",
    "    \n",
    "    oversample = BorderlineSMOTE(sampling_strategy='minority', random_state=SEED, kind='borderline-2')\n",
    "#     oversample = SMOTE(sampling_strategy='minority', random_state=SEED)\n",
    "    X1_train, _ = oversample.fit_resample(X1_train, y_train)\n",
    "    X2_train, y_train = oversample.fit_resample(X2_train, y_train)\n",
    "\n",
    "    if lstm == False:\n",
    "        model_text = create_model_text(X1_train.shape[1:], lstm=False)\n",
    "    else:\n",
    "        model_text = create_model_text(X1_train.shape[1:])\n",
    "    model_image = create_model_image(X2_train.shape[1:])\n",
    "\n",
    "    early_stopping1 = EarlyStopping(monitor='val_loss', min_delta=1e-4, patience=EARLY_STOPPING)\n",
    "    early_stopping2 = EarlyStopping(monitor='val_loss', min_delta=1e-4, patience=EARLY_STOPPING)\n",
    "    checkpoint_text = ModelCheckpoint('./model_checkpoint/{}-text.h5'.format(name), save_best_only=True, verbose=verbose)\n",
    "    checkpoint_image = ModelCheckpoint('./model_checkpoint/{}-image.h5'.format(name), save_best_only=True, verbose=verbose)\n",
    "    \n",
    "    if 'multiple' in name:\n",
    "        batch_size = 256\n",
    "    else:\n",
    "        batch_size = BATCH_SIZE # 128\n",
    "    \n",
    "    history_text = model_text.fit(X1_train, y_train, validation_data=(X1_val, y_val), \n",
    "                                  epochs=EPOCHS, batch_size=batch_size, verbose=verbose,\n",
    "                                  callbacks=[checkpoint_text, early_stopping1])\n",
    "    \n",
    "    history_image = model_image.fit(X2_train, y_train, validation_data=(X2_val, y_val), \n",
    "                                    epochs=EPOCHS, batch_size=batch_size, verbose=verbose,\n",
    "                                    callbacks=[checkpoint_image, early_stopping2])\n",
    "    \n",
    "    best_val_acc_text = np.min(history_text.history['val_accuracy'])\n",
    "    best_val_acc_image = np.min(history_image.history['val_accuracy'])\n",
    "\n",
    "    weights = get_average_weights(best_val_acc_text, best_val_acc_image)\n",
    "\n",
    "    model_text = load_model('./model_checkpoint/{}-text.h5'.format(name))\n",
    "    model_image = load_model('./model_checkpoint/{}-image.h5'.format(name))\n",
    "\n",
    "    y_pred_text = model_text.predict(X1_test)\n",
    "    y_pred_image = model_image.predict(X2_test)\n",
    "\n",
    "    y_pred = weighted_average(weights, np.asarray([y_pred_text, y_pred_image], dtype='float32'))\n",
    "\n",
    "    best_epoch_text = np.argmin(history_text.history['val_loss'])\n",
    "    best_epoch_image = np.argmin(history_image.history['val_loss'])\n",
    "\n",
    "    if verbose == 1:\n",
    "        print('Checkpoint of text model loaded at epoch:', best_epoch_text)\n",
    "        print('Checkpoint of image model loaded at epoch:', best_epoch_image)\n",
    "\n",
    "    return evaluate_model_LF(y_test, y_pred, verbose=verbose)"
   ]
  },
  {
   "cell_type": "code",
   "execution_count": 10,
   "id": "98d5ad90",
   "metadata": {
    "execution": {
     "iopub.execute_input": "2022-07-14T04:04:46.020193Z",
     "iopub.status.busy": "2022-07-14T04:04:46.019908Z",
     "iopub.status.idle": "2022-07-14T04:04:46.040055Z",
     "shell.execute_reply": "2022-07-14T04:04:46.039161Z"
    },
    "papermill": {
     "duration": 0.031617,
     "end_time": "2022-07-14T04:04:46.042099",
     "exception": false,
     "start_time": "2022-07-14T04:04:46.010482",
     "status": "completed"
    },
    "tags": []
   },
   "outputs": [],
   "source": [
    "def run_and_evaluate_HF(name, X1, X2, y, verbose=0, lstm=True):\n",
    "    ''' Train Hybrid Fusion model and test only with Multimodal Labels\n",
    "    X1: text input\n",
    "    X2: image input\n",
    "    y: labels\n",
    "    verbose: 0 or 1 to print tracking on progress\n",
    "    '''\n",
    "    y = le.fit_transform(y)\n",
    "    y = to_categorical(np.asarray(y))\n",
    "    \n",
    "    random_idx = np.random.permutation(len(y))\n",
    "    X1, X2, y = X1[random_idx], X2[random_idx], y[random_idx]\n",
    "    \n",
    "    X1_train, X1_val, X1_test = split_data(X1, VALIDATION_SPLIT)\n",
    "    X2_train, X2_val, X2_test = split_data(X2, VALIDATION_SPLIT)\n",
    "    y_train, y_val, y_test = split_data(y, VALIDATION_SPLIT)\n",
    "    \n",
    "    oversample = BorderlineSMOTE(sampling_strategy='minority', random_state=SEED, kind='borderline-2')\n",
    "#     oversample = SMOTE(sampling_strategy='minority', random_state=SEED)\n",
    "    X1_train, _ = oversample.fit_resample(X1_train, y_train)\n",
    "    X2_train, y_train = oversample.fit_resample(X2_train, y_train)\n",
    "    \n",
    "    if lstm == False:\n",
    "        model_text = create_model_text(X1_train.shape[1:], lstm=False)\n",
    "        model_IF = create_model_IF(X1_train.shape[1:], X2_train.shape[1:], lstm=False)\n",
    "    model_text = create_model_text(X1_train.shape[1:])\n",
    "    model_IF = create_model_IF(X1_train.shape[1:], X2_train.shape[1:])\n",
    "    model_image = create_model_image(X2_train.shape[1:])\n",
    "\n",
    "    early_stopping1 = EarlyStopping(monitor='val_loss', min_delta=1e-4, patience=EARLY_STOPPING)\n",
    "    early_stopping2 = EarlyStopping(monitor='val_loss', min_delta=1e-4, patience=EARLY_STOPPING)\n",
    "    early_stopping3 = EarlyStopping(monitor='val_loss', min_delta=1e-4, patience=EARLY_STOPPING)\n",
    "\n",
    "    checkpoint_text = ModelCheckpoint('./model_checkpoint/{}-text.h5'.format(name), save_best_only=True, verbose=verbose)\n",
    "    checkpoint_image = ModelCheckpoint('./model_checkpoint/{}-image.h5'.format(name), save_best_only=True, verbose=verbose)\n",
    "    checkpoint_IF = ModelCheckpoint('./model_checkpoint/{}-IF.h5'.format(name), save_best_only=True, verbose=verbose)\n",
    "\n",
    "    if 'multiple' in name:\n",
    "        batch_size = 256\n",
    "    else:\n",
    "        batch_size = BATCH_SIZE # 128\n",
    "    \n",
    "    history_text = model_text.fit(X1_train, y_train, validation_data=(X1_val, y_val), \n",
    "                        epochs=EPOCHS, batch_size=batch_size, verbose=verbose,\n",
    "                        callbacks=[checkpoint_text, early_stopping1])\n",
    "    \n",
    "    history_image = model_image.fit(X2_train, y_train, validation_data=(X2_val, y_val), \n",
    "                        epochs=EPOCHS, batch_size=batch_size, verbose=verbose,\n",
    "                        callbacks=[checkpoint_image, early_stopping2])\n",
    "    \n",
    "    history_IF = model_IF.fit([X1_train, X2_train], y_train, validation_data=([X1_val, X2_val], y_val), \n",
    "                        epochs=EPOCHS, batch_size=batch_size, verbose=verbose,\n",
    "                        callbacks=[checkpoint_IF, early_stopping3])\n",
    "    \n",
    "    best_val_acc_text = np.min(history_text.history['val_accuracy'])\n",
    "    best_val_acc_image = np.min(history_image.history['val_accuracy'])\n",
    "    best_val_acc_IF = np.min(history_IF.history['val_accuracy'])\n",
    "    \n",
    "    weights = get_average_weights(best_val_acc_text, best_val_acc_image, best_val_acc_IF)\n",
    "\n",
    "    model_text = load_model('./model_checkpoint/{}-text.h5'.format(name))\n",
    "    model_image = load_model('./model_checkpoint/{}-image.h5'.format(name))\n",
    "    model_IF = load_model('./model_checkpoint/{}-IF.h5'.format(name))\n",
    "\n",
    "    y_pred_text = model_text.predict(X1_test)\n",
    "    y_pred_image = model_image.predict(X2_test)\n",
    "    y_pred_IF = model_IF.predict([X1_test, X2_test])\n",
    "    \n",
    "    y_pred = weighted_average(weights, np.asarray([y_pred_text, y_pred_image, y_pred_IF], dtype='float32'))\n",
    "    \n",
    "    best_epoch_text = np.argmin(history_text.history['val_loss'])\n",
    "    best_epoch_image = np.argmin(history_image.history['val_loss'])\n",
    "    best_epoch_IF = np.argmin(history_IF.history['val_loss'])\n",
    "    \n",
    "    if verbose == 1:\n",
    "        print('Checkpoint of text model loaded at epoch:', best_epoch_text)\n",
    "        print('Checkpoint of image model loaded at epoch:', best_epoch_image)\n",
    "        print('Checkpoint of IF model loaded at epoch:', best_epoch_IF)\n",
    "\n",
    "    return evaluate_model_LF(y_test, y_pred, verbose=verbose)"
   ]
  },
  {
   "cell_type": "code",
   "execution_count": 11,
   "id": "0e47aece",
   "metadata": {
    "execution": {
     "iopub.execute_input": "2022-07-14T04:04:46.059450Z",
     "iopub.status.busy": "2022-07-14T04:04:46.059167Z",
     "iopub.status.idle": "2022-07-14T04:04:46.066173Z",
     "shell.execute_reply": "2022-07-14T04:04:46.065286Z"
    },
    "papermill": {
     "duration": 0.017667,
     "end_time": "2022-07-14T04:04:46.068134",
     "exception": false,
     "start_time": "2022-07-14T04:04:46.050467",
     "status": "completed"
    },
    "tags": []
   },
   "outputs": [],
   "source": [
    "def evaluate_model_LF(y_true, y_pred, verbose=0):\n",
    "    \n",
    "    y_pred = le.inverse_transform(y_pred.argmax(axis=1))\n",
    "    y_true = le.inverse_transform(y_true.argmax(axis=1))\n",
    "\n",
    "    acc = accuracy_score(y_true, y_pred)\n",
    "    f1_macro = f1_score(y_true, y_pred, average='macro')\n",
    "    f1_weighted = f1_score(y_true, y_pred, average='weighted')\n",
    "\n",
    "    if verbose == 1:\n",
    "        print(classification_report(y_true, y_pred))\n",
    "        matrix = confusion_matrix(y_true, y_pred,\n",
    "                                  labels=list(le.classes_))\n",
    "        cm_disp = ConfusionMatrixDisplay(confusion_matrix=matrix,\n",
    "                                  display_labels=list(le.classes_))\n",
    "        cm_disp.plot()\n",
    "        plt.show()\n",
    "\n",
    "    return acc, f1_macro, f1_weighted"
   ]
  },
  {
   "cell_type": "code",
   "execution_count": 12,
   "id": "99d99b2c",
   "metadata": {
    "execution": {
     "iopub.execute_input": "2022-07-14T04:04:46.085130Z",
     "iopub.status.busy": "2022-07-14T04:04:46.084871Z",
     "iopub.status.idle": "2022-07-14T04:04:46.095568Z",
     "shell.execute_reply": "2022-07-14T04:04:46.094681Z"
    },
    "papermill": {
     "duration": 0.021539,
     "end_time": "2022-07-14T04:04:46.097513",
     "exception": false,
     "start_time": "2022-07-14T04:04:46.075974",
     "status": "completed"
    },
    "tags": []
   },
   "outputs": [],
   "source": [
    "def plot_metrics(history):\n",
    "    fig = plt.figure(figsize=(20, 5))\n",
    "\n",
    "    fig.add_subplot(1, 4, 1)\n",
    "    plt.plot(history.history['loss'])\n",
    "    plt.plot(history.history['val_loss'])\n",
    "    plt.title('LOSS')\n",
    "    plt.ylabel('loss')\n",
    "    plt.xlabel('epoch')\n",
    "    plt.legend(['train', 'val'], loc='best')\n",
    "\n",
    "    fig.add_subplot(1, 4, 2)\n",
    "    plt.plot(history.history['accuracy'])\n",
    "    plt.plot(history.history['val_accuracy'])\n",
    "    plt.title('ACCURACY')\n",
    "    plt.ylabel('accuracy')\n",
    "    plt.xlabel('epoch')\n",
    "    plt.legend(['train', 'val'], loc='best')\n",
    "\n",
    "    fig.add_subplot(1, 4, 3)\n",
    "    plt.plot(history.history['f1_macro'])\n",
    "    plt.plot(history.history['val_f1_macro'])\n",
    "    plt.title('Macro F1-SCORE')\n",
    "    plt.ylabel('f1-macro')\n",
    "    plt.xlabel('epoch')\n",
    "    plt.legend(['train', 'val'], loc='best')\n",
    "    \n",
    "    fig.add_subplot(1, 4, 4)\n",
    "    plt.plot(history.history['f1_weighted'])\n",
    "    plt.plot(history.history['val_f1_weighted'])\n",
    "    plt.title('Weighted F1-SCORE')\n",
    "    plt.ylabel('f1-weighted')\n",
    "    plt.xlabel('epoch')\n",
    "    plt.legend(['train', 'val'], loc='best')\n",
    "\n",
    "    plt.show()"
   ]
  },
  {
   "cell_type": "code",
   "execution_count": 13,
   "id": "ce778b4b",
   "metadata": {
    "execution": {
     "iopub.execute_input": "2022-07-14T04:04:46.116600Z",
     "iopub.status.busy": "2022-07-14T04:04:46.116299Z",
     "iopub.status.idle": "2022-07-14T04:04:46.129158Z",
     "shell.execute_reply": "2022-07-14T04:04:46.126232Z"
    },
    "papermill": {
     "duration": 0.02522,
     "end_time": "2022-07-14T04:04:46.131941",
     "exception": false,
     "start_time": "2022-07-14T04:04:46.106721",
     "status": "completed"
    },
    "tags": []
   },
   "outputs": [],
   "source": [
    "def style_dataframe(dataframe):\n",
    "    return dataframe.style.highlight_max(subset=['Accuracy', 'F1-macro', 'F1-weighted'], props='color:lawngreen', axis=0)\\\n",
    "                          .highlight_min(subset=['Accuracy', 'F1-macro', 'F1-weighted'], props='color:tomato', axis=0)\n",
    "\n",
    "def highlight_neg(cell):\n",
    "    if type(cell) != str and cell < 0 :\n",
    "        return 'color: tomato'\n",
    "    else:\n",
    "        return 'color: lawngreen'\n",
    "\n",
    "def display_dataframes(dfs, names=[], index=False):\n",
    "    def to_df(x):\n",
    "        if isinstance(x, pd.Series):\n",
    "            return pd.DataFrame(x)\n",
    "        else:\n",
    "            return x\n",
    "    html_str = ''\n",
    "    if names:\n",
    "        html_str += ('<tr>' + \n",
    "                     ''.join(f'<td style=\"text-align:center\">{name}</td>' for name in names) + \n",
    "                     '</tr>')\n",
    "    html_str += ('<tr>' + \n",
    "                 ''.join(f'<td style=\"vertical-align:top\"> {to_df(df).to_html()}</td>' \n",
    "                         for df in dfs) + \n",
    "                 '</tr>')\n",
    "    html_str = f'<table>{html_str}</table>'\n",
    "    html_str = html_str.replace('table','table style=\"display:inline\"')\n",
    "    display_html(html_str, raw=True)"
   ]
  },
  {
   "cell_type": "markdown",
   "id": "27d322b5",
   "metadata": {
    "papermill": {
     "duration": 0.008394,
     "end_time": "2022-07-14T04:04:46.149679",
     "exception": false,
     "start_time": "2022-07-14T04:04:46.141285",
     "status": "completed"
    },
    "tags": []
   },
   "source": [
    "# Load data"
   ]
  },
  {
   "cell_type": "code",
   "execution_count": 14,
   "id": "499226e3",
   "metadata": {
    "execution": {
     "iopub.execute_input": "2022-07-14T04:04:46.168326Z",
     "iopub.status.busy": "2022-07-14T04:04:46.167993Z",
     "iopub.status.idle": "2022-07-14T04:05:00.894900Z",
     "shell.execute_reply": "2022-07-14T04:05:00.893917Z"
    },
    "papermill": {
     "duration": 14.738391,
     "end_time": "2022-07-14T04:05:00.897086",
     "exception": false,
     "start_time": "2022-07-14T04:04:46.158695",
     "status": "completed"
    },
    "tags": []
   },
   "outputs": [],
   "source": [
    "## Choose best\n",
    "# Load text feature\n",
    "mvsa_single_bert, mvsa_multiple_bert = load_mvsa_feature('bert-base')\n",
    "mvsa_single_pos_bow, mvsa_multiple_pos_bow = load_mvsa_feature('pos-bow')\n",
    "mvsa_single_pos_tfidf, mvsa_multiple_pos_tfidf = load_mvsa_feature('pos-tfidf')\n",
    "mvsa_single_ner_bow, mvsa_multiple_ner_bow = load_mvsa_feature('ner-bow')\n",
    "mvsa_single_ner_tfidf, mvsa_multiple_ner_tfidf = load_mvsa_feature('ner-tfidf')\n",
    "\n",
    "## Load image feature\n",
    "mvsa_single_vgg16, mvsa_multiple_vgg16 = load_mvsa_feature('vgg16')\n",
    "mvsa_single_vgg19, mvsa_multiple_vgg19 = load_mvsa_feature('vgg19')\n",
    "mvsa_single_resnet50, mvsa_multiple_resnet50 = load_mvsa_feature('resnet50')\n",
    "mvsa_single_resnet101, mvsa_multiple_resnet101 = load_mvsa_feature('resnet101')\n",
    "mvsa_single_resnet152, mvsa_multiple_resnet152 = load_mvsa_feature('resnet152')\n",
    "mvsa_single_densenet121, mvsa_multiple_densenet121 = load_mvsa_feature('densenet121')\n",
    "mvsa_single_densenet169, mvsa_multiple_densenet169 = load_mvsa_feature('densenet169')\n",
    "mvsa_single_densenet201, mvsa_multiple_densenet201 = load_mvsa_feature('densenet201')"
   ]
  },
  {
   "cell_type": "code",
   "execution_count": 15,
   "id": "39199eef",
   "metadata": {
    "execution": {
     "iopub.execute_input": "2022-07-14T04:05:00.915544Z",
     "iopub.status.busy": "2022-07-14T04:05:00.914743Z",
     "iopub.status.idle": "2022-07-14T04:05:01.001200Z",
     "shell.execute_reply": "2022-07-14T04:05:01.000228Z"
    },
    "papermill": {
     "duration": 0.098116,
     "end_time": "2022-07-14T04:05:01.003720",
     "exception": false,
     "start_time": "2022-07-14T04:05:00.905604",
     "status": "completed"
    },
    "tags": []
   },
   "outputs": [],
   "source": [
    "mvsa_single_bert_pos = np.concatenate((mvsa_single_bert, mvsa_single_pos_tfidf), axis=1)\n",
    "mvsa_single_bert_pos_ner = np.concatenate((mvsa_single_bert, mvsa_single_pos_tfidf, mvsa_single_ner_tfidf), axis=1)\n",
    "\n",
    "mvsa_multiple_bert_pos = np.concatenate((mvsa_multiple_bert, mvsa_multiple_pos_tfidf), axis=1)\n",
    "mvsa_multiple_bert_pos_ner = np.concatenate((mvsa_multiple_bert, mvsa_multiple_pos_tfidf, mvsa_multiple_ner_tfidf), axis=1)"
   ]
  },
  {
   "cell_type": "code",
   "execution_count": 16,
   "id": "117607a6",
   "metadata": {
    "execution": {
     "iopub.execute_input": "2022-07-14T04:05:01.021180Z",
     "iopub.status.busy": "2022-07-14T04:05:01.020876Z",
     "iopub.status.idle": "2022-07-14T04:05:01.158662Z",
     "shell.execute_reply": "2022-07-14T04:05:01.157705Z"
    },
    "papermill": {
     "duration": 0.149429,
     "end_time": "2022-07-14T04:05:01.161315",
     "exception": false,
     "start_time": "2022-07-14T04:05:01.011886",
     "status": "completed"
    },
    "tags": []
   },
   "outputs": [],
   "source": [
    "mvsa_single_multimodal_labels, mvsa_single_text_labels, mvsa_single_image_labels = load_labels('../input/mvsa-features/labels/mvsa-single-labels.hdf5')\n",
    "mvsa_multiple_multimodal_labels, mvsa_multiple_text_labels, mvsa_multiple_image_labels = load_labels('../input/mvsa-features/labels/mvsa-multiple-labels.hdf5')"
   ]
  },
  {
   "cell_type": "code",
   "execution_count": 17,
   "id": "cde2f2d1",
   "metadata": {
    "execution": {
     "iopub.execute_input": "2022-07-14T04:05:01.179125Z",
     "iopub.status.busy": "2022-07-14T04:05:01.178832Z",
     "iopub.status.idle": "2022-07-14T04:05:01.185661Z",
     "shell.execute_reply": "2022-07-14T04:05:01.184686Z"
    },
    "papermill": {
     "duration": 0.018211,
     "end_time": "2022-07-14T04:05:01.187794",
     "exception": false,
     "start_time": "2022-07-14T04:05:01.169583",
     "status": "completed"
    },
    "tags": []
   },
   "outputs": [],
   "source": [
    "# prepare all features data\n",
    "\n",
    "feature_names = ['resnet50-bert', 'resnet50-bert-lstm', 'densenet201-bert-lstm', 'densenet201-bert-pos-lstm', 'densenet201-bert-pos-ner-lstm']\n",
    "\n",
    "mvsa_single_features = [[mvsa_single_bert, mvsa_single_resnet50],\n",
    "                        [mvsa_single_bert, mvsa_single_resnet50],\n",
    "                        [mvsa_single_bert, mvsa_single_densenet201],\n",
    "                        [mvsa_single_bert_pos, mvsa_single_densenet201],\n",
    "                        [mvsa_single_bert_pos_ner, mvsa_single_densenet201]]\n",
    "\n",
    "mvsa_multiple_features = [[mvsa_multiple_bert, mvsa_multiple_resnet50],\n",
    "                          [mvsa_multiple_bert, mvsa_multiple_resnet50],\n",
    "                          [mvsa_multiple_bert, mvsa_multiple_densenet201],\n",
    "                          [mvsa_multiple_bert_pos, mvsa_multiple_densenet201],\n",
    "                          [mvsa_multiple_bert_pos_ner, mvsa_multiple_densenet201]]"
   ]
  },
  {
   "cell_type": "code",
   "execution_count": 18,
   "id": "e58fef01",
   "metadata": {
    "execution": {
     "iopub.execute_input": "2022-07-14T04:05:01.204662Z",
     "iopub.status.busy": "2022-07-14T04:05:01.204408Z",
     "iopub.status.idle": "2022-07-14T04:05:01.211591Z",
     "shell.execute_reply": "2022-07-14T04:05:01.210779Z"
    },
    "papermill": {
     "duration": 0.017896,
     "end_time": "2022-07-14T04:05:01.213557",
     "exception": false,
     "start_time": "2022-07-14T04:05:01.195661",
     "status": "completed"
    },
    "tags": []
   },
   "outputs": [],
   "source": [
    "le = preprocessing.LabelEncoder()\n",
    "le.fit(mvsa_multiple_multimodal_labels)\n",
    "NUM_CLASSES = len(le.classes_) # = 3"
   ]
  },
  {
   "cell_type": "code",
   "execution_count": 19,
   "id": "1b47f02e",
   "metadata": {
    "execution": {
     "iopub.execute_input": "2022-07-14T04:05:01.230908Z",
     "iopub.status.busy": "2022-07-14T04:05:01.230609Z",
     "iopub.status.idle": "2022-07-14T04:05:01.236819Z",
     "shell.execute_reply": "2022-07-14T04:05:01.236006Z"
    },
    "papermill": {
     "duration": 0.016652,
     "end_time": "2022-07-14T04:05:01.238555",
     "exception": false,
     "start_time": "2022-07-14T04:05:01.221903",
     "status": "completed"
    },
    "tags": []
   },
   "outputs": [],
   "source": [
    "reset_seeds()\n",
    "EPOCHS = 100\n",
    "BATCH_SIZE = 128\n",
    "VALIDATION_SPLIT = 0.1\n",
    "EARLY_STOPPING = 10\n",
    "NUM_LSTM = 64\n",
    "DROPOUT_RATE = 0.1"
   ]
  },
  {
   "cell_type": "markdown",
   "id": "e09d5b26",
   "metadata": {
    "papermill": {
     "duration": 0.00767,
     "end_time": "2022-07-14T04:05:01.254543",
     "exception": false,
     "start_time": "2022-07-14T04:05:01.246873",
     "status": "completed"
    },
    "tags": []
   },
   "source": [
    "# Intermediate Fusion"
   ]
  },
  {
   "cell_type": "code",
   "execution_count": 20,
   "id": "04b90eab",
   "metadata": {
    "execution": {
     "iopub.execute_input": "2022-07-14T04:05:01.272711Z",
     "iopub.status.busy": "2022-07-14T04:05:01.271872Z",
     "iopub.status.idle": "2022-07-14T04:07:19.877618Z",
     "shell.execute_reply": "2022-07-14T04:07:19.875652Z"
    },
    "papermill": {
     "duration": 138.616678,
     "end_time": "2022-07-14T04:07:19.879680",
     "exception": false,
     "start_time": "2022-07-14T04:05:01.263002",
     "status": "completed"
    },
    "tags": []
   },
   "outputs": [
    {
     "name": "stdout",
     "output_type": "stream",
     "text": [
      "MVSA-Single with Intermediate Fusion\n",
      "\n",
      "MVSA-Single: resnet50-bert\n"
     ]
    },
    {
     "name": "stderr",
     "output_type": "stream",
     "text": [
      "2022-07-14 04:05:02.020453: I tensorflow/compiler/mlir/mlir_graph_optimization_pass.cc:185] None of the MLIR Optimization Passes are enabled (registered 2)\n"
     ]
    },
    {
     "name": "stdout",
     "output_type": "stream",
     "text": [
      "\n",
      "MVSA-Single: resnet50-bert-lstm\n"
     ]
    },
    {
     "name": "stderr",
     "output_type": "stream",
     "text": [
      "2022-07-14 04:05:11.658887: I tensorflow/stream_executor/cuda/cuda_dnn.cc:369] Loaded cuDNN version 8005\n"
     ]
    },
    {
     "name": "stdout",
     "output_type": "stream",
     "text": [
      "\n",
      "MVSA-Single: densenet201-bert-lstm\n",
      "\n",
      "MVSA-Single: densenet201-bert-pos-lstm\n",
      "\n",
      "MVSA-Single: densenet201-bert-pos-ner-lstm\n",
      "\n",
      "MVSA-Multiple with Intermediate Fusion\n",
      "\n",
      "MVSA-Multiple: resnet50-bert\n",
      "\n",
      "MVSA-Multiple: resnet50-bert-lstm\n",
      "\n",
      "MVSA-Multiple: densenet201-bert-lstm\n",
      "\n",
      "MVSA-Multiple: densenet201-bert-pos-lstm\n",
      "\n",
      "MVSA-Multiple: densenet201-bert-pos-ner-lstm\n",
      "\n"
     ]
    }
   ],
   "source": [
    "print('MVSA-Single with Intermediate Fusion\\n')\n",
    "scores = []\n",
    "for i in range(len(feature_names)):\n",
    "    print('MVSA-Single:', feature_names[i])\n",
    "    if 'lstm' in feature_names[i]:\n",
    "        _, score = run_and_evaluate_IF('single-IF-' + feature_names[i], mvsa_single_features[i][0], mvsa_single_features[i][1], \n",
    "                                     mvsa_single_multimodal_labels,\n",
    "                                     verbose=0)\n",
    "    else:\n",
    "        _, score = run_and_evaluate_IF('single-IF-' + feature_names[i], mvsa_single_features[i][0], mvsa_single_features[i][1],\n",
    "                                     mvsa_single_multimodal_labels,\n",
    "                                     verbose=0, lstm=False)\n",
    "    scores.append(score)\n",
    "    print()\n",
    "df_single_scores_IF = pd.DataFrame(scores, columns=['Loss', 'Accuracy', 'F1-macro', 'F1-weighted'], index=feature_names)\n",
    "\n",
    "\n",
    "print('MVSA-Multiple with Intermediate Fusion\\n')\n",
    "scores = []\n",
    "for i in range(len(feature_names)):\n",
    "    print('MVSA-Multiple:', feature_names[i])\n",
    "    if 'lstm' in feature_names[i]:\n",
    "        _, score = run_and_evaluate_IF('multiple-IF-' + feature_names[i], mvsa_multiple_features[i][0], mvsa_multiple_features[i][1], \n",
    "                                     mvsa_multiple_multimodal_labels,\n",
    "                                     verbose=0)\n",
    "    else:\n",
    "        _, score = run_and_evaluate_IF('multiple-IF-' + feature_names[i], mvsa_multiple_features[i][0], mvsa_multiple_features[i][1],\n",
    "                                     mvsa_multiple_multimodal_labels,\n",
    "                                     verbose=0, lstm=False)\n",
    "    scores.append(score)\n",
    "    print()\n",
    "df_multiple_scores_IF = pd.DataFrame(scores, columns=['Loss', 'Accuracy', 'F1-macro', 'F1-weighted'], index=feature_names)"
   ]
  },
  {
   "cell_type": "markdown",
   "id": "607fe29e",
   "metadata": {
    "papermill": {
     "duration": 0.008381,
     "end_time": "2022-07-14T04:07:19.896837",
     "exception": false,
     "start_time": "2022-07-14T04:07:19.888456",
     "status": "completed"
    },
    "tags": []
   },
   "source": [
    "# Late Fusion"
   ]
  },
  {
   "cell_type": "code",
   "execution_count": 21,
   "id": "85b32b14",
   "metadata": {
    "execution": {
     "iopub.execute_input": "2022-07-14T04:07:19.916091Z",
     "iopub.status.busy": "2022-07-14T04:07:19.915784Z",
     "iopub.status.idle": "2022-07-14T04:09:57.858865Z",
     "shell.execute_reply": "2022-07-14T04:09:57.857479Z"
    },
    "papermill": {
     "duration": 157.965618,
     "end_time": "2022-07-14T04:09:57.871311",
     "exception": false,
     "start_time": "2022-07-14T04:07:19.905693",
     "status": "completed"
    },
    "tags": []
   },
   "outputs": [
    {
     "name": "stdout",
     "output_type": "stream",
     "text": [
      "MVSA-Single with Late Fusion\n",
      "\n",
      "MVSA-Single: resnet50-bert\n",
      "\n",
      "MVSA-Single: resnet50-bert-lstm\n",
      "\n",
      "MVSA-Single: densenet201-bert-lstm\n",
      "\n",
      "MVSA-Single: densenet201-bert-pos-lstm\n",
      "\n",
      "MVSA-Single: densenet201-bert-pos-ner-lstm\n",
      "\n",
      "MVSA-Multiple with Late Fusion\n",
      "\n",
      "MVSA-Multiple: resnet50-bert\n",
      "\n",
      "MVSA-Multiple: resnet50-bert-lstm\n",
      "\n",
      "MVSA-Multiple: densenet201-bert-lstm\n",
      "\n",
      "MVSA-Multiple: densenet201-bert-pos-lstm\n",
      "\n",
      "MVSA-Multiple: densenet201-bert-pos-ner-lstm\n",
      "\n"
     ]
    }
   ],
   "source": [
    "print('MVSA-Single with Late Fusion\\n')\n",
    "scores = []\n",
    "for i in range(len(feature_names)):\n",
    "    print('MVSA-Single:', feature_names[i])\n",
    "    if 'lstm' in feature_names[i]:\n",
    "        score = run_and_evaluate_LF('single-LF-' + feature_names[i], mvsa_single_features[i][0], mvsa_single_features[i][1], \n",
    "                                     mvsa_single_multimodal_labels,\n",
    "                                     verbose=0)\n",
    "    else:\n",
    "        score = run_and_evaluate_LF('single-LF-' + feature_names[i], mvsa_single_features[i][0], mvsa_single_features[i][1],\n",
    "                                     mvsa_single_multimodal_labels,\n",
    "                                     verbose=0, lstm=False)\n",
    "    scores.append(score)\n",
    "    print()\n",
    "df_single_scores_LF = pd.DataFrame(scores, columns=['Accuracy', 'F1-macro', 'F1-weighted'], index=feature_names)\n",
    "\n",
    "\n",
    "print('MVSA-Multiple with Late Fusion\\n')\n",
    "scores = []\n",
    "for i in range(len(feature_names)):\n",
    "    print('MVSA-Multiple:', feature_names[i])\n",
    "    if 'lstm' in feature_names[i]:\n",
    "        score = run_and_evaluate_LF('multiple-LF-' + feature_names[i], mvsa_multiple_features[i][0], mvsa_multiple_features[i][1], \n",
    "                                     mvsa_multiple_multimodal_labels,\n",
    "                                     verbose=0)\n",
    "    else:\n",
    "        score = run_and_evaluate_LF('multiple-LF-' + feature_names[i], mvsa_multiple_features[i][0], mvsa_multiple_features[i][1],\n",
    "                                     mvsa_multiple_multimodal_labels,\n",
    "                                     verbose=0, lstm=False)\n",
    "    scores.append(score)\n",
    "    print()\n",
    "df_multiple_scores_LF = pd.DataFrame(scores, columns=['Accuracy', 'F1-macro', 'F1-weighted'], index=feature_names)"
   ]
  },
  {
   "cell_type": "markdown",
   "id": "879820e0",
   "metadata": {
    "papermill": {
     "duration": 0.009566,
     "end_time": "2022-07-14T04:09:57.890288",
     "exception": false,
     "start_time": "2022-07-14T04:09:57.880722",
     "status": "completed"
    },
    "tags": []
   },
   "source": [
    "# Hybrid Fusion"
   ]
  },
  {
   "cell_type": "code",
   "execution_count": 22,
   "id": "3decdac1",
   "metadata": {
    "execution": {
     "iopub.execute_input": "2022-07-14T04:09:57.911334Z",
     "iopub.status.busy": "2022-07-14T04:09:57.910977Z",
     "iopub.status.idle": "2022-07-14T04:15:19.657711Z",
     "shell.execute_reply": "2022-07-14T04:15:19.656725Z"
    },
    "papermill": {
     "duration": 321.770504,
     "end_time": "2022-07-14T04:15:19.670801",
     "exception": false,
     "start_time": "2022-07-14T04:09:57.900297",
     "status": "completed"
    },
    "tags": []
   },
   "outputs": [
    {
     "name": "stdout",
     "output_type": "stream",
     "text": [
      "MVSA-Single with Hybrid Fusion\n",
      "\n",
      "MVSA-Single: resnet50-bert\n",
      "\n",
      "MVSA-Single: resnet50-bert-lstm\n",
      "\n",
      "MVSA-Single: densenet201-bert-lstm\n",
      "\n",
      "MVSA-Single: densenet201-bert-pos-lstm\n",
      "\n",
      "MVSA-Single: densenet201-bert-pos-ner-lstm\n",
      "\n",
      "MVSA-Multiple with Hybrid Fusion\n",
      "\n",
      "MVSA-Multiple: resnet50-bert\n",
      "\n",
      "MVSA-Multiple: resnet50-bert-lstm\n",
      "\n",
      "MVSA-Multiple: densenet201-bert-lstm\n",
      "\n",
      "MVSA-Multiple: densenet201-bert-pos-lstm\n",
      "\n",
      "MVSA-Multiple: densenet201-bert-pos-ner-lstm\n",
      "\n"
     ]
    }
   ],
   "source": [
    "print('MVSA-Single with Hybrid Fusion\\n')\n",
    "scores = []\n",
    "for i in range(len(feature_names)):\n",
    "    print('MVSA-Single:', feature_names[i])\n",
    "    if 'lstm' in feature_names[i]:\n",
    "        score = run_and_evaluate_HF('single-HF-' + feature_names[i], mvsa_single_features[i][0], mvsa_single_features[i][1], \n",
    "                                     mvsa_single_multimodal_labels,\n",
    "                                     verbose=0)\n",
    "    else:\n",
    "        score = run_and_evaluate_HF('single-HF-' + feature_names[i], mvsa_single_features[i][0], mvsa_single_features[i][1],\n",
    "                                     mvsa_single_multimodal_labels,\n",
    "                                     verbose=0, lstm=False)\n",
    "    scores.append(score)\n",
    "    print()\n",
    "df_single_scores_HF = pd.DataFrame(scores, columns=['Accuracy', 'F1-macro', 'F1-weighted'], index=feature_names)\n",
    "\n",
    "\n",
    "print('MVSA-Multiple with Hybrid Fusion\\n')\n",
    "scores = []\n",
    "for i in range(len(feature_names)):\n",
    "    print('MVSA-Multiple:', feature_names[i])\n",
    "    if 'lstm' in feature_names[i]:\n",
    "        score = run_and_evaluate_HF('multiple-HF-' + feature_names[i], mvsa_multiple_features[i][0], mvsa_multiple_features[i][1], \n",
    "                                     mvsa_multiple_multimodal_labels,\n",
    "                                     verbose=0)\n",
    "    else:\n",
    "        score = run_and_evaluate_HF('multiple-HF-' + feature_names[i], mvsa_multiple_features[i][0], mvsa_multiple_features[i][1],\n",
    "                                     mvsa_multiple_multimodal_labels,\n",
    "                                     verbose=0, lstm=False)\n",
    "    scores.append(score)\n",
    "    print()\n",
    "df_multiple_scores_HF = pd.DataFrame(scores, columns=['Accuracy', 'F1-macro', 'F1-weighted'], index=feature_names)"
   ]
  },
  {
   "cell_type": "markdown",
   "id": "19ed0ecd",
   "metadata": {
    "papermill": {
     "duration": 0.010199,
     "end_time": "2022-07-14T04:15:19.692011",
     "exception": false,
     "start_time": "2022-07-14T04:15:19.681812",
     "status": "completed"
    },
    "tags": []
   },
   "source": [
    "# Display results"
   ]
  },
  {
   "cell_type": "code",
   "execution_count": 23,
   "id": "fc66ff50",
   "metadata": {
    "execution": {
     "iopub.execute_input": "2022-07-14T04:15:19.712773Z",
     "iopub.status.busy": "2022-07-14T04:15:19.712474Z",
     "iopub.status.idle": "2022-07-14T04:15:19.726891Z",
     "shell.execute_reply": "2022-07-14T04:15:19.725836Z"
    },
    "papermill": {
     "duration": 0.027602,
     "end_time": "2022-07-14T04:15:19.729359",
     "exception": false,
     "start_time": "2022-07-14T04:15:19.701757",
     "status": "completed"
    },
    "tags": []
   },
   "outputs": [],
   "source": [
    "df_single_scores_IF = df_single_scores_IF.drop(columns=['Loss'])\n",
    "df_multiple_scores_IF = df_multiple_scores_IF.drop(columns=['Loss'])"
   ]
  },
  {
   "cell_type": "code",
   "execution_count": 24,
   "id": "3fbdd13b",
   "metadata": {
    "execution": {
     "iopub.execute_input": "2022-07-14T04:15:19.750818Z",
     "iopub.status.busy": "2022-07-14T04:15:19.750282Z",
     "iopub.status.idle": "2022-07-14T04:15:19.829218Z",
     "shell.execute_reply": "2022-07-14T04:15:19.828269Z"
    },
    "papermill": {
     "duration": 0.091947,
     "end_time": "2022-07-14T04:15:19.831596",
     "exception": false,
     "start_time": "2022-07-14T04:15:19.739649",
     "status": "completed"
    },
    "tags": []
   },
   "outputs": [
    {
     "name": "stdout",
     "output_type": "stream",
     "text": [
      "Intermediate Fusion\n"
     ]
    },
    {
     "data": {
      "text/html": [
       "<table style=\"display:inline\"><tr><td style=\"text-align:center\">MVSA-Single</td><td style=\"text-align:center\">MVSA-Multiple</td></tr><tr><td style=\"vertical-align:top\"> <style type=\"text/css\">\n",
       "#T_f1f46_row1_col0, #T_f1f46_row1_col1, #T_f1f46_row1_col2 {\n",
       "  color: tomato;\n",
       "}\n",
       "#T_f1f46_row3_col0, #T_f1f46_row3_col1, #T_f1f46_row3_col2 {\n",
       "  color: lawngreen;\n",
       "}\n",
       "</style>\n",
       "<table style=\"display:inline\" id=\"T_f1f46_\">\n",
       "  <thead>\n",
       "    <tr>\n",
       "      <th class=\"blank level0\" >&nbsp;</th>\n",
       "      <th class=\"col_heading level0 col0\" >Accuracy</th>\n",
       "      <th class=\"col_heading level0 col1\" >F1-macro</th>\n",
       "      <th class=\"col_heading level0 col2\" >F1-weighted</th>\n",
       "    </tr>\n",
       "  </thead>\n",
       "  <tbody>\n",
       "    <tr>\n",
       "      <th id=\"T_f1f46_level0_row0\" class=\"row_heading level0 row0\" >resnet50-bert</th>\n",
       "      <td id=\"T_f1f46_row0_col0\" class=\"data row0 col0\" >0.620843</td>\n",
       "      <td id=\"T_f1f46_row0_col1\" class=\"data row0 col1\" >0.409169</td>\n",
       "      <td id=\"T_f1f46_row0_col2\" class=\"data row0 col2\" >0.574778</td>\n",
       "    </tr>\n",
       "    <tr>\n",
       "      <th id=\"T_f1f46_level0_row1\" class=\"row_heading level0 row1\" >resnet50-bert-lstm</th>\n",
       "      <td id=\"T_f1f46_row1_col0\" class=\"data row1 col0\" >0.603104</td>\n",
       "      <td id=\"T_f1f46_row1_col1\" class=\"data row1 col1\" >0.298064</td>\n",
       "      <td id=\"T_f1f46_row1_col2\" class=\"data row1 col2\" >0.485074</td>\n",
       "    </tr>\n",
       "    <tr>\n",
       "      <th id=\"T_f1f46_level0_row2\" class=\"row_heading level0 row2\" >densenet201-bert-lstm</th>\n",
       "      <td id=\"T_f1f46_row2_col0\" class=\"data row2 col0\" >0.647450</td>\n",
       "      <td id=\"T_f1f46_row2_col1\" class=\"data row2 col1\" >0.570403</td>\n",
       "      <td id=\"T_f1f46_row2_col2\" class=\"data row2 col2\" >0.650753</td>\n",
       "    </tr>\n",
       "    <tr>\n",
       "      <th id=\"T_f1f46_level0_row3\" class=\"row_heading level0 row3\" >densenet201-bert-pos-lstm</th>\n",
       "      <td id=\"T_f1f46_row3_col0\" class=\"data row3 col0\" >0.682927</td>\n",
       "      <td id=\"T_f1f46_row3_col1\" class=\"data row3 col1\" >0.622159</td>\n",
       "      <td id=\"T_f1f46_row3_col2\" class=\"data row3 col2\" >0.686070</td>\n",
       "    </tr>\n",
       "    <tr>\n",
       "      <th id=\"T_f1f46_level0_row4\" class=\"row_heading level0 row4\" >densenet201-bert-pos-ner-lstm</th>\n",
       "      <td id=\"T_f1f46_row4_col0\" class=\"data row4 col0\" >0.674058</td>\n",
       "      <td id=\"T_f1f46_row4_col1\" class=\"data row4 col1\" >0.559674</td>\n",
       "      <td id=\"T_f1f46_row4_col2\" class=\"data row4 col2\" >0.668760</td>\n",
       "    </tr>\n",
       "  </tbody>\n",
       "</table style=\"display:inline\">\n",
       "</td><td style=\"vertical-align:top\"> <style type=\"text/css\">\n",
       "#T_bf4e6_row0_col1, #T_bf4e6_row0_col2, #T_bf4e6_row1_col0 {\n",
       "  color: tomato;\n",
       "}\n",
       "#T_bf4e6_row2_col0, #T_bf4e6_row2_col1, #T_bf4e6_row2_col2 {\n",
       "  color: lawngreen;\n",
       "}\n",
       "</style>\n",
       "<table style=\"display:inline\" id=\"T_bf4e6_\">\n",
       "  <thead>\n",
       "    <tr>\n",
       "      <th class=\"blank level0\" >&nbsp;</th>\n",
       "      <th class=\"col_heading level0 col0\" >Accuracy</th>\n",
       "      <th class=\"col_heading level0 col1\" >F1-macro</th>\n",
       "      <th class=\"col_heading level0 col2\" >F1-weighted</th>\n",
       "    </tr>\n",
       "  </thead>\n",
       "  <tbody>\n",
       "    <tr>\n",
       "      <th id=\"T_bf4e6_level0_row0\" class=\"row_heading level0 row0\" >resnet50-bert</th>\n",
       "      <td id=\"T_bf4e6_row0_col0\" class=\"data row0 col0\" >0.631022</td>\n",
       "      <td id=\"T_bf4e6_row0_col1\" class=\"data row0 col1\" >0.331808</td>\n",
       "      <td id=\"T_bf4e6_row0_col2\" class=\"data row0 col2\" >0.529627</td>\n",
       "    </tr>\n",
       "    <tr>\n",
       "      <th id=\"T_bf4e6_level0_row1\" class=\"row_heading level0 row1\" >resnet50-bert-lstm</th>\n",
       "      <td id=\"T_bf4e6_row1_col0\" class=\"data row1 col0\" >0.607521</td>\n",
       "      <td id=\"T_bf4e6_row1_col1\" class=\"data row1 col1\" >0.335526</td>\n",
       "      <td id=\"T_bf4e6_row1_col2\" class=\"data row1 col2\" >0.541282</td>\n",
       "    </tr>\n",
       "    <tr>\n",
       "      <th id=\"T_bf4e6_level0_row2\" class=\"row_heading level0 row2\" >densenet201-bert-lstm</th>\n",
       "      <td id=\"T_bf4e6_row2_col0\" class=\"data row2 col0\" >0.663925</td>\n",
       "      <td id=\"T_bf4e6_row2_col1\" class=\"data row2 col1\" >0.505119</td>\n",
       "      <td id=\"T_bf4e6_row2_col2\" class=\"data row2 col2\" >0.651158</td>\n",
       "    </tr>\n",
       "    <tr>\n",
       "      <th id=\"T_bf4e6_level0_row3\" class=\"row_heading level0 row3\" >densenet201-bert-pos-lstm</th>\n",
       "      <td id=\"T_bf4e6_row3_col0\" class=\"data row3 col0\" >0.642186</td>\n",
       "      <td id=\"T_bf4e6_row3_col1\" class=\"data row3 col1\" >0.444389</td>\n",
       "      <td id=\"T_bf4e6_row3_col2\" class=\"data row3 col2\" >0.602128</td>\n",
       "    </tr>\n",
       "    <tr>\n",
       "      <th id=\"T_bf4e6_level0_row4\" class=\"row_heading level0 row4\" >densenet201-bert-pos-ner-lstm</th>\n",
       "      <td id=\"T_bf4e6_row4_col0\" class=\"data row4 col0\" >0.641011</td>\n",
       "      <td id=\"T_bf4e6_row4_col1\" class=\"data row4 col1\" >0.463936</td>\n",
       "      <td id=\"T_bf4e6_row4_col2\" class=\"data row4 col2\" >0.602578</td>\n",
       "    </tr>\n",
       "  </tbody>\n",
       "</table style=\"display:inline\">\n",
       "</td></tr></table style=\"display:inline\">"
      ]
     },
     "metadata": {},
     "output_type": "display_data"
    }
   ],
   "source": [
    "print('Intermediate Fusion')\n",
    "display_dataframes((style_dataframe(df_single_scores_IF), style_dataframe(df_multiple_scores_IF)), \n",
    "                   names=['MVSA-Single', 'MVSA-Multiple'])"
   ]
  },
  {
   "cell_type": "code",
   "execution_count": 25,
   "id": "1e6aa553",
   "metadata": {
    "execution": {
     "iopub.execute_input": "2022-07-14T04:15:19.853975Z",
     "iopub.status.busy": "2022-07-14T04:15:19.853256Z",
     "iopub.status.idle": "2022-07-14T04:15:19.881501Z",
     "shell.execute_reply": "2022-07-14T04:15:19.880379Z"
    },
    "papermill": {
     "duration": 0.041572,
     "end_time": "2022-07-14T04:15:19.883680",
     "exception": false,
     "start_time": "2022-07-14T04:15:19.842108",
     "status": "completed"
    },
    "tags": []
   },
   "outputs": [
    {
     "name": "stdout",
     "output_type": "stream",
     "text": [
      "Late Fusion with Multimodal Labels\n"
     ]
    },
    {
     "data": {
      "text/html": [
       "<table style=\"display:inline\"><tr><td style=\"text-align:center\">MVSA-Single</td><td style=\"text-align:center\">MVSA-Multiple</td></tr><tr><td style=\"vertical-align:top\"> <style type=\"text/css\">\n",
       "#T_3d4c4_row0_col0, #T_3d4c4_row0_col1, #T_3d4c4_row1_col2 {\n",
       "  color: tomato;\n",
       "}\n",
       "#T_3d4c4_row2_col0, #T_3d4c4_row2_col2, #T_3d4c4_row3_col1 {\n",
       "  color: lawngreen;\n",
       "}\n",
       "</style>\n",
       "<table style=\"display:inline\" id=\"T_3d4c4_\">\n",
       "  <thead>\n",
       "    <tr>\n",
       "      <th class=\"blank level0\" >&nbsp;</th>\n",
       "      <th class=\"col_heading level0 col0\" >Accuracy</th>\n",
       "      <th class=\"col_heading level0 col1\" >F1-macro</th>\n",
       "      <th class=\"col_heading level0 col2\" >F1-weighted</th>\n",
       "    </tr>\n",
       "  </thead>\n",
       "  <tbody>\n",
       "    <tr>\n",
       "      <th id=\"T_3d4c4_level0_row0\" class=\"row_heading level0 row0\" >resnet50-bert</th>\n",
       "      <td id=\"T_3d4c4_row0_col0\" class=\"data row0 col0\" >0.616408</td>\n",
       "      <td id=\"T_3d4c4_row0_col1\" class=\"data row0 col1\" >0.506338</td>\n",
       "      <td id=\"T_3d4c4_row0_col2\" class=\"data row0 col2\" >0.636038</td>\n",
       "    </tr>\n",
       "    <tr>\n",
       "      <th id=\"T_3d4c4_level0_row1\" class=\"row_heading level0 row1\" >resnet50-bert-lstm</th>\n",
       "      <td id=\"T_3d4c4_row1_col0\" class=\"data row1 col0\" >0.638581</td>\n",
       "      <td id=\"T_3d4c4_row1_col1\" class=\"data row1 col1\" >0.512143</td>\n",
       "      <td id=\"T_3d4c4_row1_col2\" class=\"data row1 col2\" >0.613771</td>\n",
       "    </tr>\n",
       "    <tr>\n",
       "      <th id=\"T_3d4c4_level0_row2\" class=\"row_heading level0 row2\" >densenet201-bert-lstm</th>\n",
       "      <td id=\"T_3d4c4_row2_col0\" class=\"data row2 col0\" >0.716186</td>\n",
       "      <td id=\"T_3d4c4_row2_col1\" class=\"data row2 col1\" >0.580353</td>\n",
       "      <td id=\"T_3d4c4_row2_col2\" class=\"data row2 col2\" >0.700333</td>\n",
       "    </tr>\n",
       "    <tr>\n",
       "      <th id=\"T_3d4c4_level0_row3\" class=\"row_heading level0 row3\" >densenet201-bert-pos-lstm</th>\n",
       "      <td id=\"T_3d4c4_row3_col0\" class=\"data row3 col0\" >0.689579</td>\n",
       "      <td id=\"T_3d4c4_row3_col1\" class=\"data row3 col1\" >0.583743</td>\n",
       "      <td id=\"T_3d4c4_row3_col2\" class=\"data row3 col2\" >0.690208</td>\n",
       "    </tr>\n",
       "    <tr>\n",
       "      <th id=\"T_3d4c4_level0_row4\" class=\"row_heading level0 row4\" >densenet201-bert-pos-ner-lstm</th>\n",
       "      <td id=\"T_3d4c4_row4_col0\" class=\"data row4 col0\" >0.667406</td>\n",
       "      <td id=\"T_3d4c4_row4_col1\" class=\"data row4 col1\" >0.530238</td>\n",
       "      <td id=\"T_3d4c4_row4_col2\" class=\"data row4 col2\" >0.659094</td>\n",
       "    </tr>\n",
       "  </tbody>\n",
       "</table style=\"display:inline\">\n",
       "</td><td style=\"vertical-align:top\"> <style type=\"text/css\">\n",
       "#T_6ad9b_row1_col1, #T_6ad9b_row1_col2, #T_6ad9b_row2_col0 {\n",
       "  color: tomato;\n",
       "}\n",
       "#T_6ad9b_row4_col0, #T_6ad9b_row4_col1, #T_6ad9b_row4_col2 {\n",
       "  color: lawngreen;\n",
       "}\n",
       "</style>\n",
       "<table style=\"display:inline\" id=\"T_6ad9b_\">\n",
       "  <thead>\n",
       "    <tr>\n",
       "      <th class=\"blank level0\" >&nbsp;</th>\n",
       "      <th class=\"col_heading level0 col0\" >Accuracy</th>\n",
       "      <th class=\"col_heading level0 col1\" >F1-macro</th>\n",
       "      <th class=\"col_heading level0 col2\" >F1-weighted</th>\n",
       "    </tr>\n",
       "  </thead>\n",
       "  <tbody>\n",
       "    <tr>\n",
       "      <th id=\"T_6ad9b_level0_row0\" class=\"row_heading level0 row0\" >resnet50-bert</th>\n",
       "      <td id=\"T_6ad9b_row0_col0\" class=\"data row0 col0\" >0.656874</td>\n",
       "      <td id=\"T_6ad9b_row0_col1\" class=\"data row0 col1\" >0.463830</td>\n",
       "      <td id=\"T_6ad9b_row0_col2\" class=\"data row0 col2\" >0.605609</td>\n",
       "    </tr>\n",
       "    <tr>\n",
       "      <th id=\"T_6ad9b_level0_row1\" class=\"row_heading level0 row1\" >resnet50-bert-lstm</th>\n",
       "      <td id=\"T_6ad9b_row1_col0\" class=\"data row1 col0\" >0.666863</td>\n",
       "      <td id=\"T_6ad9b_row1_col1\" class=\"data row1 col1\" >0.447764</td>\n",
       "      <td id=\"T_6ad9b_row1_col2\" class=\"data row1 col2\" >0.602089</td>\n",
       "    </tr>\n",
       "    <tr>\n",
       "      <th id=\"T_6ad9b_level0_row2\" class=\"row_heading level0 row2\" >densenet201-bert-lstm</th>\n",
       "      <td id=\"T_6ad9b_row2_col0\" class=\"data row2 col0\" >0.651586</td>\n",
       "      <td id=\"T_6ad9b_row2_col1\" class=\"data row2 col1\" >0.461240</td>\n",
       "      <td id=\"T_6ad9b_row2_col2\" class=\"data row2 col2\" >0.611033</td>\n",
       "    </tr>\n",
       "    <tr>\n",
       "      <th id=\"T_6ad9b_level0_row3\" class=\"row_heading level0 row3\" >densenet201-bert-pos-lstm</th>\n",
       "      <td id=\"T_6ad9b_row3_col0\" class=\"data row3 col0\" >0.673913</td>\n",
       "      <td id=\"T_6ad9b_row3_col1\" class=\"data row3 col1\" >0.453471</td>\n",
       "      <td id=\"T_6ad9b_row3_col2\" class=\"data row3 col2\" >0.617388</td>\n",
       "    </tr>\n",
       "    <tr>\n",
       "      <th id=\"T_6ad9b_level0_row4\" class=\"row_heading level0 row4\" >densenet201-bert-pos-ner-lstm</th>\n",
       "      <td id=\"T_6ad9b_row4_col0\" class=\"data row4 col0\" >0.681551</td>\n",
       "      <td id=\"T_6ad9b_row4_col1\" class=\"data row4 col1\" >0.475467</td>\n",
       "      <td id=\"T_6ad9b_row4_col2\" class=\"data row4 col2\" >0.618511</td>\n",
       "    </tr>\n",
       "  </tbody>\n",
       "</table style=\"display:inline\">\n",
       "</td></tr></table style=\"display:inline\">"
      ]
     },
     "metadata": {},
     "output_type": "display_data"
    }
   ],
   "source": [
    "print('Late Fusion with Multimodal Labels')\n",
    "display_dataframes((style_dataframe(df_single_scores_LF), style_dataframe(df_multiple_scores_LF)), \n",
    "                   names=['MVSA-Single', 'MVSA-Multiple'])"
   ]
  },
  {
   "cell_type": "code",
   "execution_count": 26,
   "id": "7dbb3e77",
   "metadata": {
    "execution": {
     "iopub.execute_input": "2022-07-14T04:15:19.906347Z",
     "iopub.status.busy": "2022-07-14T04:15:19.905525Z",
     "iopub.status.idle": "2022-07-14T04:15:19.934925Z",
     "shell.execute_reply": "2022-07-14T04:15:19.933608Z"
    },
    "papermill": {
     "duration": 0.04274,
     "end_time": "2022-07-14T04:15:19.937002",
     "exception": false,
     "start_time": "2022-07-14T04:15:19.894262",
     "status": "completed"
    },
    "tags": []
   },
   "outputs": [
    {
     "name": "stdout",
     "output_type": "stream",
     "text": [
      "Hybrid Fusion with Multimodal Labels\n"
     ]
    },
    {
     "data": {
      "text/html": [
       "<table style=\"display:inline\"><tr><td style=\"text-align:center\">MVSA-Single</td><td style=\"text-align:center\">MVSA-Multiple</td></tr><tr><td style=\"vertical-align:top\"> <style type=\"text/css\">\n",
       "#T_5dc66_row0_col0, #T_5dc66_row0_col1, #T_5dc66_row1_col2 {\n",
       "  color: tomato;\n",
       "}\n",
       "#T_5dc66_row2_col1, #T_5dc66_row3_col0, #T_5dc66_row3_col2 {\n",
       "  color: lawngreen;\n",
       "}\n",
       "</style>\n",
       "<table style=\"display:inline\" id=\"T_5dc66_\">\n",
       "  <thead>\n",
       "    <tr>\n",
       "      <th class=\"blank level0\" >&nbsp;</th>\n",
       "      <th class=\"col_heading level0 col0\" >Accuracy</th>\n",
       "      <th class=\"col_heading level0 col1\" >F1-macro</th>\n",
       "      <th class=\"col_heading level0 col2\" >F1-weighted</th>\n",
       "    </tr>\n",
       "  </thead>\n",
       "  <tbody>\n",
       "    <tr>\n",
       "      <th id=\"T_5dc66_level0_row0\" class=\"row_heading level0 row0\" >resnet50-bert</th>\n",
       "      <td id=\"T_5dc66_row0_col0\" class=\"data row0 col0\" >0.647450</td>\n",
       "      <td id=\"T_5dc66_row0_col1\" class=\"data row0 col1\" >0.502878</td>\n",
       "      <td id=\"T_5dc66_row0_col2\" class=\"data row0 col2\" >0.648320</td>\n",
       "    </tr>\n",
       "    <tr>\n",
       "      <th id=\"T_5dc66_level0_row1\" class=\"row_heading level0 row1\" >resnet50-bert-lstm</th>\n",
       "      <td id=\"T_5dc66_row1_col0\" class=\"data row1 col0\" >0.649667</td>\n",
       "      <td id=\"T_5dc66_row1_col1\" class=\"data row1 col1\" >0.535987</td>\n",
       "      <td id=\"T_5dc66_row1_col2\" class=\"data row1 col2\" >0.629984</td>\n",
       "    </tr>\n",
       "    <tr>\n",
       "      <th id=\"T_5dc66_level0_row2\" class=\"row_heading level0 row2\" >densenet201-bert-lstm</th>\n",
       "      <td id=\"T_5dc66_row2_col0\" class=\"data row2 col0\" >0.694013</td>\n",
       "      <td id=\"T_5dc66_row2_col1\" class=\"data row2 col1\" >0.619273</td>\n",
       "      <td id=\"T_5dc66_row2_col2\" class=\"data row2 col2\" >0.691946</td>\n",
       "    </tr>\n",
       "    <tr>\n",
       "      <th id=\"T_5dc66_level0_row3\" class=\"row_heading level0 row3\" >densenet201-bert-pos-lstm</th>\n",
       "      <td id=\"T_5dc66_row3_col0\" class=\"data row3 col0\" >0.705100</td>\n",
       "      <td id=\"T_5dc66_row3_col1\" class=\"data row3 col1\" >0.566369</td>\n",
       "      <td id=\"T_5dc66_row3_col2\" class=\"data row3 col2\" >0.696479</td>\n",
       "    </tr>\n",
       "    <tr>\n",
       "      <th id=\"T_5dc66_level0_row4\" class=\"row_heading level0 row4\" >densenet201-bert-pos-ner-lstm</th>\n",
       "      <td id=\"T_5dc66_row4_col0\" class=\"data row4 col0\" >0.691796</td>\n",
       "      <td id=\"T_5dc66_row4_col1\" class=\"data row4 col1\" >0.571602</td>\n",
       "      <td id=\"T_5dc66_row4_col2\" class=\"data row4 col2\" >0.683952</td>\n",
       "    </tr>\n",
       "  </tbody>\n",
       "</table style=\"display:inline\">\n",
       "</td><td style=\"vertical-align:top\"> <style type=\"text/css\">\n",
       "#T_bb84a_row0_col0, #T_bb84a_row0_col2, #T_bb84a_row1_col1 {\n",
       "  color: tomato;\n",
       "}\n",
       "#T_bb84a_row2_col0, #T_bb84a_row2_col1, #T_bb84a_row3_col2 {\n",
       "  color: lawngreen;\n",
       "}\n",
       "</style>\n",
       "<table style=\"display:inline\" id=\"T_bb84a_\">\n",
       "  <thead>\n",
       "    <tr>\n",
       "      <th class=\"blank level0\" >&nbsp;</th>\n",
       "      <th class=\"col_heading level0 col0\" >Accuracy</th>\n",
       "      <th class=\"col_heading level0 col1\" >F1-macro</th>\n",
       "      <th class=\"col_heading level0 col2\" >F1-weighted</th>\n",
       "    </tr>\n",
       "  </thead>\n",
       "  <tbody>\n",
       "    <tr>\n",
       "      <th id=\"T_bb84a_level0_row0\" class=\"row_heading level0 row0\" >resnet50-bert</th>\n",
       "      <td id=\"T_bb84a_row0_col0\" class=\"data row0 col0\" >0.659224</td>\n",
       "      <td id=\"T_bb84a_row0_col1\" class=\"data row0 col1\" >0.461517</td>\n",
       "      <td id=\"T_bb84a_row0_col2\" class=\"data row0 col2\" >0.594775</td>\n",
       "    </tr>\n",
       "    <tr>\n",
       "      <th id=\"T_bb84a_level0_row1\" class=\"row_heading level0 row1\" >resnet50-bert-lstm</th>\n",
       "      <td id=\"T_bb84a_row1_col0\" class=\"data row1 col0\" >0.669213</td>\n",
       "      <td id=\"T_bb84a_row1_col1\" class=\"data row1 col1\" >0.450969</td>\n",
       "      <td id=\"T_bb84a_row1_col2\" class=\"data row1 col2\" >0.613906</td>\n",
       "    </tr>\n",
       "    <tr>\n",
       "      <th id=\"T_bb84a_level0_row2\" class=\"row_heading level0 row2\" >densenet201-bert-lstm</th>\n",
       "      <td id=\"T_bb84a_row2_col0\" class=\"data row2 col0\" >0.685664</td>\n",
       "      <td id=\"T_bb84a_row2_col1\" class=\"data row2 col1\" >0.510659</td>\n",
       "      <td id=\"T_bb84a_row2_col2\" class=\"data row2 col2\" >0.644120</td>\n",
       "    </tr>\n",
       "    <tr>\n",
       "      <th id=\"T_bb84a_level0_row3\" class=\"row_heading level0 row3\" >densenet201-bert-pos-lstm</th>\n",
       "      <td id=\"T_bb84a_row3_col0\" class=\"data row3 col0\" >0.677438</td>\n",
       "      <td id=\"T_bb84a_row3_col1\" class=\"data row3 col1\" >0.500342</td>\n",
       "      <td id=\"T_bb84a_row3_col2\" class=\"data row3 col2\" >0.650131</td>\n",
       "    </tr>\n",
       "    <tr>\n",
       "      <th id=\"T_bb84a_level0_row4\" class=\"row_heading level0 row4\" >densenet201-bert-pos-ner-lstm</th>\n",
       "      <td id=\"T_bb84a_row4_col0\" class=\"data row4 col0\" >0.679201</td>\n",
       "      <td id=\"T_bb84a_row4_col1\" class=\"data row4 col1\" >0.483505</td>\n",
       "      <td id=\"T_bb84a_row4_col2\" class=\"data row4 col2\" >0.639645</td>\n",
       "    </tr>\n",
       "  </tbody>\n",
       "</table style=\"display:inline\">\n",
       "</td></tr></table style=\"display:inline\">"
      ]
     },
     "metadata": {},
     "output_type": "display_data"
    }
   ],
   "source": [
    "print('Hybrid Fusion with Multimodal Labels')\n",
    "display_dataframes((style_dataframe(df_single_scores_HF), style_dataframe(df_multiple_scores_HF)), \n",
    "                   names=['MVSA-Single', 'MVSA-Multiple'])"
   ]
  },
  {
   "cell_type": "code",
   "execution_count": 27,
   "id": "e75113fd",
   "metadata": {
    "execution": {
     "iopub.execute_input": "2022-07-14T04:15:19.959645Z",
     "iopub.status.busy": "2022-07-14T04:15:19.959385Z",
     "iopub.status.idle": "2022-07-14T04:15:19.967478Z",
     "shell.execute_reply": "2022-07-14T04:15:19.966641Z"
    },
    "papermill": {
     "duration": 0.021766,
     "end_time": "2022-07-14T04:15:19.969629",
     "exception": false,
     "start_time": "2022-07-14T04:15:19.947863",
     "status": "completed"
    },
    "tags": []
   },
   "outputs": [],
   "source": [
    "# get max values of late and intermediate fusion\n",
    "df_single_higher_fusion = pd.DataFrame(np.where(df_single_scores_LF.gt(df_single_scores_IF.values), df_single_scores_LF.values, df_single_scores_IF.values),\n",
    "                 columns=['Accuracy','F1-macro','F1-weighted'], index=feature_names)\n",
    "\n",
    "df_multiple_higher_fusion = pd.DataFrame(np.where(df_single_scores_LF.gt(df_single_scores_IF.values), df_multiple_scores_LF.values, df_multiple_scores_IF.values),\n",
    "                 columns=['Accuracy','F1-macro','F1-weighted'], index=feature_names)\n",
    "\n",
    "df_single_subtract = df_single_scores_HF.subtract(df_single_higher_fusion)\n",
    "df_multiple_subtract = df_multiple_scores_HF.subtract(df_multiple_higher_fusion)"
   ]
  },
  {
   "cell_type": "code",
   "execution_count": 28,
   "id": "6e875be5",
   "metadata": {
    "execution": {
     "iopub.execute_input": "2022-07-14T04:15:19.992157Z",
     "iopub.status.busy": "2022-07-14T04:15:19.991900Z",
     "iopub.status.idle": "2022-07-14T04:15:20.008991Z",
     "shell.execute_reply": "2022-07-14T04:15:20.007918Z"
    },
    "papermill": {
     "duration": 0.031671,
     "end_time": "2022-07-14T04:15:20.012169",
     "exception": false,
     "start_time": "2022-07-14T04:15:19.980498",
     "status": "completed"
    },
    "tags": []
   },
   "outputs": [
    {
     "name": "stdout",
     "output_type": "stream",
     "text": [
      "Compare Hybrid Fusion scores up\n"
     ]
    },
    {
     "data": {
      "text/html": [
       "<table style=\"display:inline\"><tr><td style=\"text-align:center\">MVSA-Single</td><td style=\"text-align:center\">MVSA-Multiple</td></tr><tr><td style=\"vertical-align:top\"> <style type=\"text/css\">\n",
       "#T_7537d_row0_col0, #T_7537d_row0_col2, #T_7537d_row1_col0, #T_7537d_row1_col1, #T_7537d_row1_col2, #T_7537d_row2_col1, #T_7537d_row3_col0, #T_7537d_row3_col2, #T_7537d_row4_col0, #T_7537d_row4_col1, #T_7537d_row4_col2 {\n",
       "  color: lawngreen;\n",
       "}\n",
       "#T_7537d_row0_col1, #T_7537d_row2_col0, #T_7537d_row2_col2, #T_7537d_row3_col1 {\n",
       "  color: tomato;\n",
       "}\n",
       "</style>\n",
       "<table style=\"display:inline\" id=\"T_7537d_\">\n",
       "  <thead>\n",
       "    <tr>\n",
       "      <th class=\"blank level0\" >&nbsp;</th>\n",
       "      <th class=\"col_heading level0 col0\" >Accuracy</th>\n",
       "      <th class=\"col_heading level0 col1\" >F1-macro</th>\n",
       "      <th class=\"col_heading level0 col2\" >F1-weighted</th>\n",
       "    </tr>\n",
       "  </thead>\n",
       "  <tbody>\n",
       "    <tr>\n",
       "      <th id=\"T_7537d_level0_row0\" class=\"row_heading level0 row0\" >resnet50-bert</th>\n",
       "      <td id=\"T_7537d_row0_col0\" class=\"data row0 col0\" >0.026608</td>\n",
       "      <td id=\"T_7537d_row0_col1\" class=\"data row0 col1\" >-0.003461</td>\n",
       "      <td id=\"T_7537d_row0_col2\" class=\"data row0 col2\" >0.012282</td>\n",
       "    </tr>\n",
       "    <tr>\n",
       "      <th id=\"T_7537d_level0_row1\" class=\"row_heading level0 row1\" >resnet50-bert-lstm</th>\n",
       "      <td id=\"T_7537d_row1_col0\" class=\"data row1 col0\" >0.011086</td>\n",
       "      <td id=\"T_7537d_row1_col1\" class=\"data row1 col1\" >0.023844</td>\n",
       "      <td id=\"T_7537d_row1_col2\" class=\"data row1 col2\" >0.016213</td>\n",
       "    </tr>\n",
       "    <tr>\n",
       "      <th id=\"T_7537d_level0_row2\" class=\"row_heading level0 row2\" >densenet201-bert-lstm</th>\n",
       "      <td id=\"T_7537d_row2_col0\" class=\"data row2 col0\" >-0.022173</td>\n",
       "      <td id=\"T_7537d_row2_col1\" class=\"data row2 col1\" >0.038919</td>\n",
       "      <td id=\"T_7537d_row2_col2\" class=\"data row2 col2\" >-0.008386</td>\n",
       "    </tr>\n",
       "    <tr>\n",
       "      <th id=\"T_7537d_level0_row3\" class=\"row_heading level0 row3\" >densenet201-bert-pos-lstm</th>\n",
       "      <td id=\"T_7537d_row3_col0\" class=\"data row3 col0\" >0.015521</td>\n",
       "      <td id=\"T_7537d_row3_col1\" class=\"data row3 col1\" >-0.055790</td>\n",
       "      <td id=\"T_7537d_row3_col2\" class=\"data row3 col2\" >0.006272</td>\n",
       "    </tr>\n",
       "    <tr>\n",
       "      <th id=\"T_7537d_level0_row4\" class=\"row_heading level0 row4\" >densenet201-bert-pos-ner-lstm</th>\n",
       "      <td id=\"T_7537d_row4_col0\" class=\"data row4 col0\" >0.017738</td>\n",
       "      <td id=\"T_7537d_row4_col1\" class=\"data row4 col1\" >0.011928</td>\n",
       "      <td id=\"T_7537d_row4_col2\" class=\"data row4 col2\" >0.015192</td>\n",
       "    </tr>\n",
       "  </tbody>\n",
       "</table style=\"display:inline\">\n",
       "</td><td style=\"vertical-align:top\"> <style type=\"text/css\">\n",
       "#T_7ebe3_row0_col0, #T_7ebe3_row1_col0, #T_7ebe3_row1_col1, #T_7ebe3_row1_col2, #T_7ebe3_row2_col0, #T_7ebe3_row2_col1, #T_7ebe3_row2_col2, #T_7ebe3_row3_col0, #T_7ebe3_row3_col1, #T_7ebe3_row3_col2, #T_7ebe3_row4_col0, #T_7ebe3_row4_col1, #T_7ebe3_row4_col2 {\n",
       "  color: lawngreen;\n",
       "}\n",
       "#T_7ebe3_row0_col1, #T_7ebe3_row0_col2 {\n",
       "  color: tomato;\n",
       "}\n",
       "</style>\n",
       "<table style=\"display:inline\" id=\"T_7ebe3_\">\n",
       "  <thead>\n",
       "    <tr>\n",
       "      <th class=\"blank level0\" >&nbsp;</th>\n",
       "      <th class=\"col_heading level0 col0\" >Accuracy</th>\n",
       "      <th class=\"col_heading level0 col1\" >F1-macro</th>\n",
       "      <th class=\"col_heading level0 col2\" >F1-weighted</th>\n",
       "    </tr>\n",
       "  </thead>\n",
       "  <tbody>\n",
       "    <tr>\n",
       "      <th id=\"T_7ebe3_level0_row0\" class=\"row_heading level0 row0\" >resnet50-bert</th>\n",
       "      <td id=\"T_7ebe3_row0_col0\" class=\"data row0 col0\" >0.028202</td>\n",
       "      <td id=\"T_7ebe3_row0_col1\" class=\"data row0 col1\" >-0.002313</td>\n",
       "      <td id=\"T_7ebe3_row0_col2\" class=\"data row0 col2\" >-0.010834</td>\n",
       "    </tr>\n",
       "    <tr>\n",
       "      <th id=\"T_7ebe3_level0_row1\" class=\"row_heading level0 row1\" >resnet50-bert-lstm</th>\n",
       "      <td id=\"T_7ebe3_row1_col0\" class=\"data row1 col0\" >0.002350</td>\n",
       "      <td id=\"T_7ebe3_row1_col1\" class=\"data row1 col1\" >0.003205</td>\n",
       "      <td id=\"T_7ebe3_row1_col2\" class=\"data row1 col2\" >0.011817</td>\n",
       "    </tr>\n",
       "    <tr>\n",
       "      <th id=\"T_7ebe3_level0_row2\" class=\"row_heading level0 row2\" >densenet201-bert-lstm</th>\n",
       "      <td id=\"T_7ebe3_row2_col0\" class=\"data row2 col0\" >0.034078</td>\n",
       "      <td id=\"T_7ebe3_row2_col1\" class=\"data row2 col1\" >0.049419</td>\n",
       "      <td id=\"T_7ebe3_row2_col2\" class=\"data row2 col2\" >0.033086</td>\n",
       "    </tr>\n",
       "    <tr>\n",
       "      <th id=\"T_7ebe3_level0_row3\" class=\"row_heading level0 row3\" >densenet201-bert-pos-lstm</th>\n",
       "      <td id=\"T_7ebe3_row3_col0\" class=\"data row3 col0\" >0.003525</td>\n",
       "      <td id=\"T_7ebe3_row3_col1\" class=\"data row3 col1\" >0.055953</td>\n",
       "      <td id=\"T_7ebe3_row3_col2\" class=\"data row3 col2\" >0.032743</td>\n",
       "    </tr>\n",
       "    <tr>\n",
       "      <th id=\"T_7ebe3_level0_row4\" class=\"row_heading level0 row4\" >densenet201-bert-pos-ner-lstm</th>\n",
       "      <td id=\"T_7ebe3_row4_col0\" class=\"data row4 col0\" >0.038190</td>\n",
       "      <td id=\"T_7ebe3_row4_col1\" class=\"data row4 col1\" >0.019568</td>\n",
       "      <td id=\"T_7ebe3_row4_col2\" class=\"data row4 col2\" >0.037068</td>\n",
       "    </tr>\n",
       "  </tbody>\n",
       "</table style=\"display:inline\">\n",
       "</td></tr></table style=\"display:inline\">"
      ]
     },
     "metadata": {},
     "output_type": "display_data"
    }
   ],
   "source": [
    "print('Compare Hybrid Fusion scores up')\n",
    "display_dataframes((df_single_subtract.style.applymap(highlight_neg), df_multiple_subtract.style.applymap(highlight_neg)), \n",
    "                   names=['MVSA-Single', 'MVSA-Multiple'])"
   ]
  },
  {
   "cell_type": "code",
   "execution_count": null,
   "id": "62f987c4",
   "metadata": {
    "papermill": {
     "duration": 0.01082,
     "end_time": "2022-07-14T04:15:20.034607",
     "exception": false,
     "start_time": "2022-07-14T04:15:20.023787",
     "status": "completed"
    },
    "tags": []
   },
   "outputs": [],
   "source": []
  }
 ],
 "metadata": {
  "kernelspec": {
   "display_name": "Python 3",
   "language": "python",
   "name": "python3"
  },
  "language_info": {
   "codemirror_mode": {
    "name": "ipython",
    "version": 3
   },
   "file_extension": ".py",
   "mimetype": "text/x-python",
   "name": "python",
   "nbconvert_exporter": "python",
   "pygments_lexer": "ipython3",
   "version": "3.7.12"
  },
  "papermill": {
   "default_parameters": {},
   "duration": 660.732746,
   "end_time": "2022-07-14T04:15:23.163767",
   "environment_variables": {},
   "exception": null,
   "input_path": "__notebook__.ipynb",
   "output_path": "__notebook__.ipynb",
   "parameters": {},
   "start_time": "2022-07-14T04:04:22.431021",
   "version": "2.3.4"
  }
 },
 "nbformat": 4,
 "nbformat_minor": 5
}
