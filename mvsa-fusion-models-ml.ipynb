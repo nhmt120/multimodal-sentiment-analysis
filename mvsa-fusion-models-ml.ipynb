{
 "cells": [
  {
   "cell_type": "code",
   "execution_count": 1,
   "id": "d034d4ba",
   "metadata": {
    "_cell_guid": "b1076dfc-b9ad-4769-8c92-a6c4dae69d19",
    "_uuid": "8f2839f25d086af736a60e9eeb907d3b93b6e0e5",
    "execution": {
     "iopub.execute_input": "2022-07-05T06:55:10.766721Z",
     "iopub.status.busy": "2022-07-05T06:55:10.765849Z",
     "iopub.status.idle": "2022-07-05T06:55:19.218837Z",
     "shell.execute_reply": "2022-07-05T06:55:19.217852Z"
    },
    "papermill": {
     "duration": 8.466917,
     "end_time": "2022-07-05T06:55:19.221357",
     "exception": false,
     "start_time": "2022-07-05T06:55:10.754440",
     "status": "completed"
    },
    "tags": []
   },
   "outputs": [],
   "source": [
    "SEED = 61\n",
    "\n",
    "import os\n",
    "import re\n",
    "import gc\n",
    "import h5py\n",
    "import torch\n",
    "import numpy as np\n",
    "import pandas as pd\n",
    "import tensorflow as tf\n",
    "import random as python_random\n",
    "import tensorflow_addons as tfa\n",
    "import matplotlib.pyplot as plt\n",
    "\n",
    "from tqdm import tqdm\n",
    "from nltk import tokenize\n",
    "from IPython.display import display_html\n",
    "from transformers import BertTokenizer, BertForMaskedLM, BertModel\n",
    "from tensorflow.python.keras.layers import Layer, InputSpec, Lambda\n",
    "\n",
    "from sklearn import preprocessing\n",
    "from sklearn.decomposition import PCA\n",
    "from sklearn.model_selection import RepeatedKFold, KFold\n",
    "from sklearn.model_selection import cross_val_score\n",
    "from sklearn.metrics import f1_score, accuracy_score, confusion_matrix, ConfusionMatrixDisplay, classification_report\n",
    "\n",
    "from keras import backend as K\n",
    "from keras import initializers,regularizers,constraints\n",
    "from keras.preprocessing.text import Tokenizer, text_to_word_sequence\n",
    "from keras.preprocessing.sequence import pad_sequences\n",
    "from keras.utils.np_utils import to_categorical\n",
    "from keras.layers import Reshape, Input, Embedding, Flatten, Dense, Dropout, BatchNormalization, Activation #, merge\n",
    "from keras.layers import TimeDistributed, LSTM, GRU, Bidirectional, Convolution1D, MaxPooling1D, MaxPooling2D\n",
    "from keras.layers.core import RepeatVector #, Reshape\n",
    "from keras.callbacks import ModelCheckpoint, EarlyStopping, ReduceLROnPlateau\n",
    "from keras.models import Sequential, Model, load_model\n",
    "\n",
    "def reset_seeds():\n",
    "    np.random.seed(SEED) \n",
    "    python_random.seed(SEED)\n",
    "    tf.random.set_seed(SEED)\n",
    "    os.environ[\"PYTHONHASHSEED\"] = str(SEED)\n",
    "\n",
    "# from tensorflow.keras import Model\n",
    "# from attention import Attention_input1, Attention_input2\n",
    "# from keras.optimizers import SGD, RMSprop, Adagrad"
   ]
  },
  {
   "cell_type": "code",
   "execution_count": 2,
   "id": "c45959b1",
   "metadata": {
    "execution": {
     "iopub.execute_input": "2022-07-05T06:55:19.240845Z",
     "iopub.status.busy": "2022-07-05T06:55:19.239746Z",
     "iopub.status.idle": "2022-07-05T06:55:19.244414Z",
     "shell.execute_reply": "2022-07-05T06:55:19.243440Z"
    },
    "papermill": {
     "duration": 0.015929,
     "end_time": "2022-07-05T06:55:19.246380",
     "exception": false,
     "start_time": "2022-07-05T06:55:19.230451",
     "status": "completed"
    },
    "tags": []
   },
   "outputs": [],
   "source": [
    "NUM_CLASSES = 3"
   ]
  },
  {
   "cell_type": "code",
   "execution_count": 3,
   "id": "9cb8c259",
   "metadata": {
    "execution": {
     "iopub.execute_input": "2022-07-05T06:55:19.264324Z",
     "iopub.status.busy": "2022-07-05T06:55:19.263573Z",
     "iopub.status.idle": "2022-07-05T06:55:19.270539Z",
     "shell.execute_reply": "2022-07-05T06:55:19.269517Z"
    },
    "papermill": {
     "duration": 0.017933,
     "end_time": "2022-07-05T06:55:19.272429",
     "exception": false,
     "start_time": "2022-07-05T06:55:19.254496",
     "status": "completed"
    },
    "tags": []
   },
   "outputs": [],
   "source": [
    "def read_hdf5(path):\n",
    "    read_file = h5py.File(path, 'r')\n",
    "    \n",
    "    feature_names = list(read_file.keys())\n",
    "    loaded_data = []\n",
    "    \n",
    "    for name in feature_names:\n",
    "        dataset = read_file[name][:]\n",
    "        if dataset.dtype == np.dtype('object'):\n",
    "            dataset = np.array([x.decode('UTF-8') for x in dataset])            \n",
    "        loaded_data.append((name, dataset))\n",
    "\n",
    "    return loaded_data\n",
    "\n",
    "def loadz(path):\n",
    "    data = np.load(path)['arr_0']\n",
    "    return data"
   ]
  },
  {
   "cell_type": "code",
   "execution_count": 4,
   "id": "b3eb65b4",
   "metadata": {
    "execution": {
     "iopub.execute_input": "2022-07-05T06:55:19.290635Z",
     "iopub.status.busy": "2022-07-05T06:55:19.290038Z",
     "iopub.status.idle": "2022-07-05T06:55:19.298882Z",
     "shell.execute_reply": "2022-07-05T06:55:19.297991Z"
    },
    "papermill": {
     "duration": 0.019859,
     "end_time": "2022-07-05T06:55:19.300920",
     "exception": false,
     "start_time": "2022-07-05T06:55:19.281061",
     "status": "completed"
    },
    "tags": []
   },
   "outputs": [],
   "source": [
    "def load_labels(path):\n",
    "    data = read_hdf5(path)\n",
    "\n",
    "    for x in data:\n",
    "        if x[0] == 'multimodal-labels':\n",
    "            labels = x[1]\n",
    "        if x[0] == 'text-labels':\n",
    "            text_labels = x[1]\n",
    "        if x[0] == 'image-labels':\n",
    "            image_labels = x[1]\n",
    "        \n",
    "    return labels, text_labels, image_labels\n",
    "\n",
    "def merge_mvsa(mvsa_single, mvsa_multiple):\n",
    "    mvsa = np.concatenate((mvsa_single, mvsa_multiple), axis=0)\n",
    "    return mvsa\n",
    "\n",
    "def load_mvsa_feature(feature_name, merge=False):\n",
    "    folder_path = os.path.join('../input/mvsa-features/', feature_name)\n",
    "    single_file = 'mvsa-single-{}.npz'.format(feature_name)\n",
    "    multiple_file = 'mvsa-multiple-{}.npz'.format(feature_name)\n",
    "    mvsa_single = loadz(os.path.join(folder_path, single_file))\n",
    "    mvsa_multiple = loadz(os.path.join(folder_path, multiple_file))\n",
    "    \n",
    "    if merge == True:\n",
    "        return merge_mvsa(mvsa_single, mvsa_multiple)\n",
    "    \n",
    "    return mvsa_single, mvsa_multiple"
   ]
  },
  {
   "cell_type": "code",
   "execution_count": 5,
   "id": "730c01c1",
   "metadata": {
    "execution": {
     "iopub.execute_input": "2022-07-05T06:55:19.318164Z",
     "iopub.status.busy": "2022-07-05T06:55:19.317898Z",
     "iopub.status.idle": "2022-07-05T06:55:19.323796Z",
     "shell.execute_reply": "2022-07-05T06:55:19.322973Z"
    },
    "papermill": {
     "duration": 0.016744,
     "end_time": "2022-07-05T06:55:19.325763",
     "exception": false,
     "start_time": "2022-07-05T06:55:19.309019",
     "status": "completed"
    },
    "tags": []
   },
   "outputs": [],
   "source": [
    "# e.g. validation_split=0.1 -----> 8:1:1 ratio of train, val, test\n",
    "def split_data(data, validation_split):\n",
    "    num_val = int(validation_split * data.shape[0])\n",
    "    data_train = data[:-(num_val*2)]\n",
    "    data_val = data[-(num_val*2):-(num_val)]\n",
    "    data_test = data[-num_val:]\n",
    "    return data_train, data_val, data_test"
   ]
  },
  {
   "cell_type": "code",
   "execution_count": 6,
   "id": "b5133318",
   "metadata": {
    "execution": {
     "iopub.execute_input": "2022-07-05T06:55:19.343036Z",
     "iopub.status.busy": "2022-07-05T06:55:19.342752Z",
     "iopub.status.idle": "2022-07-05T06:55:19.352444Z",
     "shell.execute_reply": "2022-07-05T06:55:19.351621Z"
    },
    "papermill": {
     "duration": 0.02051,
     "end_time": "2022-07-05T06:55:19.354281",
     "exception": false,
     "start_time": "2022-07-05T06:55:19.333771",
     "status": "completed"
    },
    "tags": []
   },
   "outputs": [],
   "source": [
    "def weighted_average(weights, probs):\n",
    "    ''' Calculate the weighted average probability distribution from all input probs and its weights \n",
    "    weights: weights list (or array)\n",
    "    probs: probability distributions array list\n",
    "    '''\n",
    "    output_probs = []\n",
    "    weighted_probs = [probs[i] * weights[i] for i in range(len(weights))]\n",
    "    for i in range(len(probs[0])):\n",
    "        sum_prob = np.zeros(len(probs[0][0]))\n",
    "        for j in range(len(weights)):\n",
    "            sum_prob = np.sum((sum_prob, weighted_probs[j][i]), axis=0)\n",
    "        output_probs.append(sum_prob)\n",
    "    return np.asarray(output_probs, dtype='float32')\n",
    "\n",
    "def get_average_weights(*scores, inverse=False):\n",
    "    ''' Get the corresponding weight of each input score \n",
    "    inverse: (bool) get inverse weights value in case of the smaller score value, the bigger weight value (such as model loss)\n",
    "    '''\n",
    "    \n",
    "    weights = []\n",
    "    for score in scores:\n",
    "        weights.append(score/np.sum(scores))\n",
    "    \n",
    "    if inverse == True:\n",
    "        inverse_weights = []\n",
    "        inverse = [1/weight for weight in weights]\n",
    "        for inv in inverse:\n",
    "            inverse_weights.append(inv/np.sum(inverse))\n",
    "        weights = inverse_weights\n",
    "\n",
    "    return weights"
   ]
  },
  {
   "cell_type": "code",
   "execution_count": 7,
   "id": "76c3d495",
   "metadata": {
    "execution": {
     "iopub.execute_input": "2022-07-05T06:55:19.372247Z",
     "iopub.status.busy": "2022-07-05T06:55:19.371974Z",
     "iopub.status.idle": "2022-07-05T06:55:24.149900Z",
     "shell.execute_reply": "2022-07-05T06:55:24.148948Z"
    },
    "papermill": {
     "duration": 4.791217,
     "end_time": "2022-07-05T06:55:24.153608",
     "exception": false,
     "start_time": "2022-07-05T06:55:19.362391",
     "status": "completed"
    },
    "tags": []
   },
   "outputs": [
    {
     "name": "stderr",
     "output_type": "stream",
     "text": [
      "2022-07-05 06:55:19.462496: I tensorflow/stream_executor/cuda/cuda_gpu_executor.cc:937] successful NUMA node read from SysFS had negative value (-1), but there must be at least one NUMA node, so returning NUMA node zero\n",
      "2022-07-05 06:55:19.463661: I tensorflow/stream_executor/cuda/cuda_gpu_executor.cc:937] successful NUMA node read from SysFS had negative value (-1), but there must be at least one NUMA node, so returning NUMA node zero\n",
      "2022-07-05 06:55:19.464342: I tensorflow/stream_executor/cuda/cuda_gpu_executor.cc:937] successful NUMA node read from SysFS had negative value (-1), but there must be at least one NUMA node, so returning NUMA node zero\n",
      "2022-07-05 06:55:19.465203: I tensorflow/core/platform/cpu_feature_guard.cc:142] This TensorFlow binary is optimized with oneAPI Deep Neural Network Library (oneDNN) to use the following CPU instructions in performance-critical operations:  AVX2 AVX512F FMA\n",
      "To enable them in other operations, rebuild TensorFlow with the appropriate compiler flags.\n",
      "2022-07-05 06:55:19.465509: I tensorflow/stream_executor/cuda/cuda_gpu_executor.cc:937] successful NUMA node read from SysFS had negative value (-1), but there must be at least one NUMA node, so returning NUMA node zero\n",
      "2022-07-05 06:55:19.466327: I tensorflow/stream_executor/cuda/cuda_gpu_executor.cc:937] successful NUMA node read from SysFS had negative value (-1), but there must be at least one NUMA node, so returning NUMA node zero\n",
      "2022-07-05 06:55:19.466980: I tensorflow/stream_executor/cuda/cuda_gpu_executor.cc:937] successful NUMA node read from SysFS had negative value (-1), but there must be at least one NUMA node, so returning NUMA node zero\n",
      "2022-07-05 06:55:23.825576: I tensorflow/stream_executor/cuda/cuda_gpu_executor.cc:937] successful NUMA node read from SysFS had negative value (-1), but there must be at least one NUMA node, so returning NUMA node zero\n",
      "2022-07-05 06:55:23.826399: I tensorflow/stream_executor/cuda/cuda_gpu_executor.cc:937] successful NUMA node read from SysFS had negative value (-1), but there must be at least one NUMA node, so returning NUMA node zero\n",
      "2022-07-05 06:55:23.827072: I tensorflow/stream_executor/cuda/cuda_gpu_executor.cc:937] successful NUMA node read from SysFS had negative value (-1), but there must be at least one NUMA node, so returning NUMA node zero\n",
      "2022-07-05 06:55:23.827667: I tensorflow/core/common_runtime/gpu/gpu_device.cc:1510] Created device /job:localhost/replica:0/task:0/device:GPU:0 with 15047 MB memory:  -> device: 0, name: Tesla P100-PCIE-16GB, pci bus id: 0000:00:04.0, compute capability: 6.0\n"
     ]
    }
   ],
   "source": [
    "f1_macro = tfa.metrics.F1Score(num_classes=NUM_CLASSES, average='macro', name='f1_macro')\n",
    "f1_weighted = tfa.metrics.F1Score(num_classes=NUM_CLASSES, average='weighted', name='f1_weighted')\n",
    "    \n",
    "def create_model_text(input_shape, lstm=True):\n",
    "    text_input = Input(shape=input_shape)\n",
    "    if lstm == True:\n",
    "        reshape_text = Reshape((1, -1)) (text_input)\n",
    "        lstm = LSTM(NUM_LSTM) (reshape_text)\n",
    "        outputs = Dense(NUM_CLASSES, activation='softmax') (lstm)\n",
    "    else:\n",
    "        outputs = Dense(NUM_CLASSES, activation='softmax') (text_input)\n",
    "    model = Model(text_input, outputs)\n",
    "    model.compile(optimizer='adam', loss='categorical_crossentropy', metrics=['accuracy', f1_macro, f1_weighted])\n",
    "    return model\n",
    "\n",
    "def create_model_image(input_shape):\n",
    "    image_input = Input(shape=input_shape)\n",
    "    outputs = Dense(NUM_CLASSES, activation='softmax') (image_input)\n",
    "    model = Model(image_input, outputs)\n",
    "    model.compile(optimizer='adam', loss='categorical_crossentropy', metrics=['accuracy', f1_macro, f1_weighted])\n",
    "    return model\n",
    "\n",
    "def create_model_IF(text_shape, image_shape, lstm=True):\n",
    "    image_input = Input(shape=image_shape)\n",
    "    text_input = Input(shape=text_shape)\n",
    "    if lstm == True:\n",
    "        text_reshape = Reshape((1, -1)) (text_input)\n",
    "        text_lstm = LSTM(NUM_LSTM) (text_reshape)\n",
    "#     text_lstm = Dropout(DROPOUT_RATE) (text_lstm)\n",
    "        text_image_concat = tf.keras.layers.Concatenate(axis=1)([text_lstm, image_input])\n",
    "    else:\n",
    "        text_image_concat = tf.keras.layers.Concatenate(axis=1)([text_input, image_input])\n",
    "    concat_self_attention = tf.keras.layers.Attention() ([text_image_concat, text_image_concat])\n",
    "#     concat_self_attention = Dropout(DROPOUT_RATE) (concat_self_attention)\n",
    "    outputs = Dense(NUM_CLASSES, activation='softmax') (concat_self_attention)\n",
    "    model = Model([text_input, image_input], outputs)\n",
    "    model.compile(optimizer='adam', loss='categorical_crossentropy', metrics=['accuracy', f1_macro, f1_weighted])\n",
    "    return model"
   ]
  },
  {
   "cell_type": "code",
   "execution_count": 8,
   "id": "ffef7895",
   "metadata": {
    "execution": {
     "iopub.execute_input": "2022-07-05T06:55:24.174626Z",
     "iopub.status.busy": "2022-07-05T06:55:24.172788Z",
     "iopub.status.idle": "2022-07-05T06:55:24.188056Z",
     "shell.execute_reply": "2022-07-05T06:55:24.187115Z"
    },
    "papermill": {
     "duration": 0.02731,
     "end_time": "2022-07-05T06:55:24.190042",
     "exception": false,
     "start_time": "2022-07-05T06:55:24.162732",
     "status": "completed"
    },
    "tags": []
   },
   "outputs": [],
   "source": [
    "def run_and_evaluate_IF(name, X1, X2, y, verbose=0, lstm=True):\n",
    "    '''  Train and test Intermediate Fusion model Multimodal Labels \n",
    "    X1: text input\n",
    "    X2: image input\n",
    "    y: multimodal labels\n",
    "    '''\n",
    "    y = le.fit_transform(y)\n",
    "    y = to_categorical(np.asarray(y))\n",
    "    \n",
    "    X1_train, X1_val, X1_test = split_data(X1, VALIDATION_SPLIT)\n",
    "    X2_train, X2_val, X2_test = split_data(X2, VALIDATION_SPLIT)\n",
    "    y_train, y_val, y_test = split_data(y, VALIDATION_SPLIT)\n",
    "    \n",
    "    if lstm == False:\n",
    "        model = create_model_IF(X1_train.shape[1:], X2_train.shape[1:], lstm=False)\n",
    "    else:\n",
    "        model = create_model_IF(X1_train.shape[1:], X2_train.shape[1:])\n",
    "    early_stopping = EarlyStopping(monitor='val_loss', min_delta=1e-4, patience=EARLY_STOPPING)\n",
    "    checkpoint = ModelCheckpoint('./model_checkpoint/{}.h5'.format(name), save_best_only=True, verbose=verbose)\n",
    "    \n",
    "    if 'multiple' in name:\n",
    "        batch_size = 256\n",
    "    else:\n",
    "        batch_size = BATCH_SIZE # 128\n",
    "    \n",
    "    history = model.fit([X1_train, X2_train], y_train, validation_data=([X1_val, X2_val], y_val), \n",
    "                        epochs=EPOCHS, batch_size=batch_size, verbose=verbose,\n",
    "                        callbacks=[checkpoint, early_stopping])\n",
    "    if verbose == 1:\n",
    "        best_epoch = np.argmin(history.history['val_loss'])\n",
    "        print('\\nCheckpoint loaded at epoch:', best_epoch)\n",
    "        \n",
    "    return history, evaluate_model_IF(model, X1_test, X2_test, y_test, checkpoint=name, verbose=verbose)\n",
    "\n",
    "def evaluate_model_IF(model, X_texts, X_images, y_test, checkpoint=None, verbose=1):\n",
    "    if checkpoint is not None:\n",
    "        model = load_model('./model_checkpoint/{}.h5'.format(checkpoint))\n",
    "    \n",
    "    loss, acc, f1_macro, f1_weighted = model.evaluate([X_texts, X_images], y_test, verbose=verbose)\n",
    "\n",
    "    if verbose == 1:\n",
    "        print('Loss:', loss)\n",
    "        print('Accuracy:', acc)\n",
    "        print('Macro F1-score:', f1_macro)\n",
    "        print('Weighted F1-score:', f1_weighted)\n",
    "\n",
    "        y_pred = model.predict([X_texts, X_images])\n",
    "        matrix = confusion_matrix(le.inverse_transform(y_test.argmax(axis=1)), le.inverse_transform(y_pred.argmax(axis=1)), \n",
    "                                  labels=list(le.classes_))\n",
    "        cm_disp = ConfusionMatrixDisplay(confusion_matrix=matrix,\n",
    "                                  display_labels=list(le.classes_))\n",
    "        cm_disp.plot()\n",
    "        plt.show()\n",
    "        \n",
    "    return loss, acc, f1_macro, f1_weighted"
   ]
  },
  {
   "cell_type": "code",
   "execution_count": 9,
   "id": "41363ff5",
   "metadata": {
    "execution": {
     "iopub.execute_input": "2022-07-05T06:55:24.208008Z",
     "iopub.status.busy": "2022-07-05T06:55:24.207728Z",
     "iopub.status.idle": "2022-07-05T06:55:24.221612Z",
     "shell.execute_reply": "2022-07-05T06:55:24.220679Z"
    },
    "papermill": {
     "duration": 0.025194,
     "end_time": "2022-07-05T06:55:24.223529",
     "exception": false,
     "start_time": "2022-07-05T06:55:24.198335",
     "status": "completed"
    },
    "tags": []
   },
   "outputs": [],
   "source": [
    "def run_and_evaluate_LF(name, X1, X2, y, verbose=0, lstm=True):\n",
    "    ''' Train and test Late Fusion model only with Multimodal Labels \n",
    "    X1: text input\n",
    "    X2: image input\n",
    "    y: multimodal labels\n",
    "    y1: text labels\n",
    "    y2: image labels\n",
    "    verbose: 0 or 1 to print tracking on progress\n",
    "    '''\n",
    "    y = le.fit_transform(y)\n",
    "    y = to_categorical(np.asarray(y))\n",
    "\n",
    "    X1_train, X1_val, X1_test = split_data(X1, VALIDATION_SPLIT)\n",
    "    X2_train, X2_val, X2_test = split_data(X2, VALIDATION_SPLIT)\n",
    "    y_train, y_val, y_test = split_data(y, VALIDATION_SPLIT)\n",
    "\n",
    "    if lstm == False:\n",
    "        model_text = create_model_text(X1_train.shape[1:], lstm=False)\n",
    "    else:\n",
    "        model_text = create_model_text(X1_train.shape[1:])\n",
    "    model_image = create_model_image(X2_train.shape[1:])\n",
    "\n",
    "    early_stopping1 = EarlyStopping(monitor='val_loss', min_delta=1e-4, patience=EARLY_STOPPING)\n",
    "    early_stopping2 = EarlyStopping(monitor='val_loss', min_delta=1e-4, patience=EARLY_STOPPING)\n",
    "    checkpoint_text = ModelCheckpoint('./model_checkpoint/{}-text.h5'.format(name), save_best_only=True, verbose=verbose)\n",
    "    checkpoint_image = ModelCheckpoint('./model_checkpoint/{}-image.h5'.format(name), save_best_only=True, verbose=verbose)\n",
    "    \n",
    "    if 'multiple' in name:\n",
    "        batch_size = 256\n",
    "    else:\n",
    "        batch_size = BATCH_SIZE # 128\n",
    "    \n",
    "    history_text = model_text.fit(X1_train, y_train, validation_data=(X1_val, y_val), \n",
    "                                  epochs=EPOCHS, batch_size=batch_size, verbose=verbose,\n",
    "                                  callbacks=[checkpoint_text, early_stopping1])\n",
    "    \n",
    "    history_image = model_image.fit(X2_train, y_train, validation_data=(X2_val, y_val), \n",
    "                                    epochs=EPOCHS, batch_size=batch_size, verbose=verbose,\n",
    "                                    callbacks=[checkpoint_image, early_stopping2])\n",
    "    \n",
    "    best_val_acc_text = np.min(history_text.history['val_accuracy'])\n",
    "    best_val_acc_image = np.min(history_image.history['val_accuracy'])\n",
    "\n",
    "    weights = get_average_weights(best_val_acc_text, best_val_acc_image)\n",
    "\n",
    "    model_text = load_model('./model_checkpoint/{}-text.h5'.format(name))\n",
    "    model_image = load_model('./model_checkpoint/{}-image.h5'.format(name))\n",
    "\n",
    "    y_pred_text = model_text.predict(X1_test)\n",
    "    y_pred_image = model_image.predict(X2_test)\n",
    "\n",
    "    y_pred = weighted_average(weights, np.asarray([y_pred_text, y_pred_image], dtype='float32'))\n",
    "\n",
    "    best_epoch_text = np.argmin(history_text.history['val_loss'])\n",
    "    best_epoch_image = np.argmin(history_image.history['val_loss'])\n",
    "\n",
    "    if verbose == 1:\n",
    "        print('Checkpoint of text model loaded at epoch:', best_epoch_text)\n",
    "        print('Checkpoint of image model loaded at epoch:', best_epoch_image)\n",
    "\n",
    "    return evaluate_model_LF(y_test, y_pred, verbose=verbose)"
   ]
  },
  {
   "cell_type": "code",
   "execution_count": 10,
   "id": "c68ed33f",
   "metadata": {
    "execution": {
     "iopub.execute_input": "2022-07-05T06:55:24.243060Z",
     "iopub.status.busy": "2022-07-05T06:55:24.242774Z",
     "iopub.status.idle": "2022-07-05T06:55:24.261123Z",
     "shell.execute_reply": "2022-07-05T06:55:24.260303Z"
    },
    "papermill": {
     "duration": 0.030888,
     "end_time": "2022-07-05T06:55:24.263082",
     "exception": false,
     "start_time": "2022-07-05T06:55:24.232194",
     "status": "completed"
    },
    "tags": []
   },
   "outputs": [],
   "source": [
    "def run_and_evaluate_HF(name, X1, X2, y, verbose=0, lstm=True):\n",
    "    ''' Train Hybrid Fusion model and test only with Multimodal Labels\n",
    "    X1: text input\n",
    "    X2: image input\n",
    "    y: labels\n",
    "    verbose: 0 or 1 to print tracking on progress\n",
    "    '''\n",
    "    y = le.fit_transform(y)\n",
    "    y = to_categorical(np.asarray(y))\n",
    "    \n",
    "    X1_train, X1_val, X1_test = split_data(X1, VALIDATION_SPLIT)\n",
    "    X2_train, X2_val, X2_test = split_data(X2, VALIDATION_SPLIT)\n",
    "    y_train, y_val, y_test = split_data(y, VALIDATION_SPLIT)\n",
    "    \n",
    "    if lstm == False:\n",
    "        model_text = create_model_text(X1_train.shape[1:], lstm=False)\n",
    "        model_IF = create_model_IF(X1_train.shape[1:], X2_train.shape[1:], lstm=False)\n",
    "    model_text = create_model_text(X1_train.shape[1:])\n",
    "    model_IF = create_model_IF(X1_train.shape[1:], X2_train.shape[1:])\n",
    "    model_image = create_model_image(X2_train.shape[1:])\n",
    "\n",
    "    early_stopping1 = EarlyStopping(monitor='val_loss', min_delta=1e-4, patience=EARLY_STOPPING)\n",
    "    early_stopping2 = EarlyStopping(monitor='val_loss', min_delta=1e-4, patience=EARLY_STOPPING)\n",
    "    early_stopping3 = EarlyStopping(monitor='val_loss', min_delta=1e-4, patience=EARLY_STOPPING)\n",
    "\n",
    "    checkpoint_text = ModelCheckpoint('./model_checkpoint/{}-text.h5'.format(name), save_best_only=True, verbose=verbose)\n",
    "    checkpoint_image = ModelCheckpoint('./model_checkpoint/{}-image.h5'.format(name), save_best_only=True, verbose=verbose)\n",
    "    checkpoint_IF = ModelCheckpoint('./model_checkpoint/{}-IF.h5'.format(name), save_best_only=True, verbose=verbose)\n",
    "\n",
    "    if 'multiple' in name:\n",
    "        batch_size = 256\n",
    "    else:\n",
    "        batch_size = BATCH_SIZE # 128\n",
    "    \n",
    "    history_text = model_text.fit(X1_train, y_train, validation_data=(X1_val, y_val), \n",
    "                        epochs=EPOCHS, batch_size=batch_size, verbose=verbose,\n",
    "                        callbacks=[checkpoint_text, early_stopping1])\n",
    "    \n",
    "    history_image = model_image.fit(X2_train, y_train, validation_data=(X2_val, y_val), \n",
    "                        epochs=EPOCHS, batch_size=batch_size, verbose=verbose,\n",
    "                        callbacks=[checkpoint_image, early_stopping2])\n",
    "    \n",
    "    history_IF = model_IF.fit([X1_train, X2_train], y_train, validation_data=([X1_val, X2_val], y_val), \n",
    "                        epochs=EPOCHS, batch_size=batch_size, verbose=verbose,\n",
    "                        callbacks=[checkpoint_IF, early_stopping3])\n",
    "    \n",
    "    best_val_acc_text = np.min(history_text.history['val_accuracy'])\n",
    "    best_val_acc_image = np.min(history_image.history['val_accuracy'])\n",
    "    best_val_acc_IF = np.min(history_IF.history['val_accuracy'])\n",
    "    \n",
    "    weights = get_average_weights(best_val_acc_text, best_val_acc_image, best_val_acc_IF)\n",
    "\n",
    "    model_text = load_model('./model_checkpoint/{}-text.h5'.format(name))\n",
    "    model_image = load_model('./model_checkpoint/{}-image.h5'.format(name))\n",
    "    model_IF = load_model('./model_checkpoint/{}-IF.h5'.format(name))\n",
    "\n",
    "    y_pred_text = model_text.predict(X1_test)\n",
    "    y_pred_image = model_image.predict(X2_test)\n",
    "    y_pred_IF = model_IF.predict([X1_test, X2_test])\n",
    "    \n",
    "    y_pred = weighted_average(weights, np.asarray([y_pred_text, y_pred_image, y_pred_IF], dtype='float32'))\n",
    "    \n",
    "    best_epoch_text = np.argmin(history_text.history['val_loss'])\n",
    "    best_epoch_image = np.argmin(history_image.history['val_loss'])\n",
    "    best_epoch_IF = np.argmin(history_IF.history['val_loss'])\n",
    "    \n",
    "    if verbose == 1:\n",
    "        print('Checkpoint of text model loaded at epoch:', best_epoch_text)\n",
    "        print('Checkpoint of image model loaded at epoch:', best_epoch_image)\n",
    "        print('Checkpoint of IF model loaded at epoch:', best_epoch_IF)\n",
    "\n",
    "    return evaluate_model_LF(y_test, y_pred, verbose=verbose)"
   ]
  },
  {
   "cell_type": "code",
   "execution_count": 11,
   "id": "894c0c95",
   "metadata": {
    "execution": {
     "iopub.execute_input": "2022-07-05T06:55:24.282361Z",
     "iopub.status.busy": "2022-07-05T06:55:24.281590Z",
     "iopub.status.idle": "2022-07-05T06:55:24.289055Z",
     "shell.execute_reply": "2022-07-05T06:55:24.288247Z"
    },
    "papermill": {
     "duration": 0.018482,
     "end_time": "2022-07-05T06:55:24.290941",
     "exception": false,
     "start_time": "2022-07-05T06:55:24.272459",
     "status": "completed"
    },
    "tags": []
   },
   "outputs": [],
   "source": [
    "def evaluate_model_LF(y_true, y_pred, verbose=0):\n",
    "    \n",
    "    y_pred = le.inverse_transform(y_pred.argmax(axis=1))\n",
    "    y_true = le.inverse_transform(y_true.argmax(axis=1))\n",
    "\n",
    "    acc = accuracy_score(y_true, y_pred)\n",
    "    f1_macro = f1_score(y_true, y_pred, average='macro')\n",
    "    f1_weighted = f1_score(y_true, y_pred, average='weighted')\n",
    "\n",
    "    if verbose == 1:\n",
    "        print(classification_report(y_true, y_pred))\n",
    "        matrix = confusion_matrix(y_true, y_pred,\n",
    "                                  labels=list(le.classes_))\n",
    "        cm_disp = ConfusionMatrixDisplay(confusion_matrix=matrix,\n",
    "                                  display_labels=list(le.classes_))\n",
    "        cm_disp.plot()\n",
    "        plt.show()\n",
    "\n",
    "    return acc, f1_macro, f1_weighted"
   ]
  },
  {
   "cell_type": "code",
   "execution_count": 12,
   "id": "7a196a7c",
   "metadata": {
    "execution": {
     "iopub.execute_input": "2022-07-05T06:55:24.309017Z",
     "iopub.status.busy": "2022-07-05T06:55:24.308284Z",
     "iopub.status.idle": "2022-07-05T06:55:24.319063Z",
     "shell.execute_reply": "2022-07-05T06:55:24.318208Z"
    },
    "papermill": {
     "duration": 0.021769,
     "end_time": "2022-07-05T06:55:24.320875",
     "exception": false,
     "start_time": "2022-07-05T06:55:24.299106",
     "status": "completed"
    },
    "tags": []
   },
   "outputs": [],
   "source": [
    "def plot_metrics(history):\n",
    "    fig = plt.figure(figsize=(20, 5))\n",
    "\n",
    "    fig.add_subplot(1, 4, 1)\n",
    "    plt.plot(history.history['loss'])\n",
    "    plt.plot(history.history['val_loss'])\n",
    "    plt.title('LOSS')\n",
    "    plt.ylabel('loss')\n",
    "    plt.xlabel('epoch')\n",
    "    plt.legend(['train', 'val'], loc='best')\n",
    "\n",
    "    fig.add_subplot(1, 4, 2)\n",
    "    plt.plot(history.history['accuracy'])\n",
    "    plt.plot(history.history['val_accuracy'])\n",
    "    plt.title('ACCURACY')\n",
    "    plt.ylabel('accuracy')\n",
    "    plt.xlabel('epoch')\n",
    "    plt.legend(['train', 'val'], loc='best')\n",
    "\n",
    "    fig.add_subplot(1, 4, 3)\n",
    "    plt.plot(history.history['f1_macro'])\n",
    "    plt.plot(history.history['val_f1_macro'])\n",
    "    plt.title('Macro F1-SCORE')\n",
    "    plt.ylabel('f1-macro')\n",
    "    plt.xlabel('epoch')\n",
    "    plt.legend(['train', 'val'], loc='best')\n",
    "    \n",
    "    fig.add_subplot(1, 4, 4)\n",
    "    plt.plot(history.history['f1_weighted'])\n",
    "    plt.plot(history.history['val_f1_weighted'])\n",
    "    plt.title('Weighted F1-SCORE')\n",
    "    plt.ylabel('f1-weighted')\n",
    "    plt.xlabel('epoch')\n",
    "    plt.legend(['train', 'val'], loc='best')\n",
    "\n",
    "    plt.show()"
   ]
  },
  {
   "cell_type": "code",
   "execution_count": 13,
   "id": "17b74ebd",
   "metadata": {
    "execution": {
     "iopub.execute_input": "2022-07-05T06:55:24.339693Z",
     "iopub.status.busy": "2022-07-05T06:55:24.339202Z",
     "iopub.status.idle": "2022-07-05T06:55:24.347874Z",
     "shell.execute_reply": "2022-07-05T06:55:24.346995Z"
    },
    "papermill": {
     "duration": 0.020393,
     "end_time": "2022-07-05T06:55:24.349861",
     "exception": false,
     "start_time": "2022-07-05T06:55:24.329468",
     "status": "completed"
    },
    "tags": []
   },
   "outputs": [],
   "source": [
    "def style_dataframe(dataframe):\n",
    "    return dataframe.style.highlight_max(subset=['Accuracy', 'F1-macro', 'F1-weighted'], props='color:lawngreen', axis=0)\\\n",
    "                          .highlight_min(subset=['Accuracy', 'F1-macro', 'F1-weighted'], props='color:tomato', axis=0)\n",
    "\n",
    "def highlight_neg(cell):\n",
    "    if type(cell) != str and cell < 0 :\n",
    "        return 'color: tomato'\n",
    "    else:\n",
    "        return 'color: lawngreen'\n",
    "\n",
    "def display_dataframes(dfs, names=[], index=False):\n",
    "    def to_df(x):\n",
    "        if isinstance(x, pd.Series):\n",
    "            return pd.DataFrame(x)\n",
    "        else:\n",
    "            return x\n",
    "    html_str = ''\n",
    "    if names:\n",
    "        html_str += ('<tr>' + \n",
    "                     ''.join(f'<td style=\"text-align:center\">{name}</td>' for name in names) + \n",
    "                     '</tr>')\n",
    "    html_str += ('<tr>' + \n",
    "                 ''.join(f'<td style=\"vertical-align:top\"> {to_df(df).to_html()}</td>' \n",
    "                         for df in dfs) + \n",
    "                 '</tr>')\n",
    "    html_str = f'<table>{html_str}</table>'\n",
    "    html_str = html_str.replace('table','table style=\"display:inline\"')\n",
    "    display_html(html_str, raw=True)"
   ]
  },
  {
   "cell_type": "markdown",
   "id": "e4362875",
   "metadata": {
    "papermill": {
     "duration": 0.007973,
     "end_time": "2022-07-05T06:55:24.366128",
     "exception": false,
     "start_time": "2022-07-05T06:55:24.358155",
     "status": "completed"
    },
    "tags": []
   },
   "source": [
    "# Load data"
   ]
  },
  {
   "cell_type": "code",
   "execution_count": 14,
   "id": "368ed836",
   "metadata": {
    "execution": {
     "iopub.execute_input": "2022-07-05T06:55:24.385058Z",
     "iopub.status.busy": "2022-07-05T06:55:24.383612Z",
     "iopub.status.idle": "2022-07-05T06:55:39.701179Z",
     "shell.execute_reply": "2022-07-05T06:55:39.699951Z"
    },
    "papermill": {
     "duration": 15.329131,
     "end_time": "2022-07-05T06:55:39.703480",
     "exception": false,
     "start_time": "2022-07-05T06:55:24.374349",
     "status": "completed"
    },
    "tags": []
   },
   "outputs": [],
   "source": [
    "## Choose best\n",
    "# Load text feature\n",
    "mvsa_single_bert, mvsa_multiple_bert = load_mvsa_feature('bert-base')\n",
    "mvsa_single_pos_bow, mvsa_multiple_pos_bow = load_mvsa_feature('pos-bow')\n",
    "mvsa_single_pos_tfidf, mvsa_multiple_pos_tfidf = load_mvsa_feature('pos-tfidf')\n",
    "mvsa_single_ner_bow, mvsa_multiple_ner_bow = load_mvsa_feature('ner-bow')\n",
    "mvsa_single_ner_tfidf, mvsa_multiple_ner_tfidf = load_mvsa_feature('ner-tfidf')\n",
    "\n",
    "## Load image feature\n",
    "mvsa_single_vgg16, mvsa_multiple_vgg16 = load_mvsa_feature('vgg16')\n",
    "mvsa_single_vgg19, mvsa_multiple_vgg19 = load_mvsa_feature('vgg19')\n",
    "mvsa_single_resnet50, mvsa_multiple_resnet50 = load_mvsa_feature('resnet50')\n",
    "mvsa_single_resnet101, mvsa_multiple_resnet101 = load_mvsa_feature('resnet101')\n",
    "mvsa_single_resnet152, mvsa_multiple_resnet152 = load_mvsa_feature('resnet152')\n",
    "mvsa_single_densenet121, mvsa_multiple_densenet121 = load_mvsa_feature('densenet121')\n",
    "mvsa_single_densenet169, mvsa_multiple_densenet169 = load_mvsa_feature('densenet169')\n",
    "mvsa_single_densenet201, mvsa_multiple_densenet201 = load_mvsa_feature('densenet201')"
   ]
  },
  {
   "cell_type": "code",
   "execution_count": 15,
   "id": "ef43261a",
   "metadata": {
    "execution": {
     "iopub.execute_input": "2022-07-05T06:55:39.722599Z",
     "iopub.status.busy": "2022-07-05T06:55:39.721785Z",
     "iopub.status.idle": "2022-07-05T06:55:39.806255Z",
     "shell.execute_reply": "2022-07-05T06:55:39.805286Z"
    },
    "papermill": {
     "duration": 0.09649,
     "end_time": "2022-07-05T06:55:39.808865",
     "exception": false,
     "start_time": "2022-07-05T06:55:39.712375",
     "status": "completed"
    },
    "tags": []
   },
   "outputs": [],
   "source": [
    "mvsa_single_bert_pos = np.concatenate((mvsa_single_bert, mvsa_single_pos_tfidf), axis=1)\n",
    "mvsa_single_bert_pos_ner = np.concatenate((mvsa_single_bert, mvsa_single_pos_tfidf, mvsa_single_ner_tfidf), axis=1)\n",
    "\n",
    "mvsa_multiple_bert_pos = np.concatenate((mvsa_multiple_bert, mvsa_multiple_pos_tfidf), axis=1)\n",
    "mvsa_multiple_bert_pos_ner = np.concatenate((mvsa_multiple_bert, mvsa_multiple_pos_tfidf, mvsa_multiple_ner_tfidf), axis=1)"
   ]
  },
  {
   "cell_type": "code",
   "execution_count": 16,
   "id": "f00a9b36",
   "metadata": {
    "execution": {
     "iopub.execute_input": "2022-07-05T06:55:39.827869Z",
     "iopub.status.busy": "2022-07-05T06:55:39.826913Z",
     "iopub.status.idle": "2022-07-05T06:55:39.960622Z",
     "shell.execute_reply": "2022-07-05T06:55:39.959632Z"
    },
    "papermill": {
     "duration": 0.145474,
     "end_time": "2022-07-05T06:55:39.962994",
     "exception": false,
     "start_time": "2022-07-05T06:55:39.817520",
     "status": "completed"
    },
    "tags": []
   },
   "outputs": [],
   "source": [
    "mvsa_single_multimodal_labels, mvsa_single_text_labels, mvsa_single_image_labels = load_labels('../input/mvsa-features/labels/mvsa-single-labels.hdf5')\n",
    "mvsa_multiple_multimodal_labels, mvsa_multiple_text_labels, mvsa_multiple_image_labels = load_labels('../input/mvsa-features/labels/mvsa-multiple-labels.hdf5')"
   ]
  },
  {
   "cell_type": "code",
   "execution_count": 17,
   "id": "99ef7f6a",
   "metadata": {
    "execution": {
     "iopub.execute_input": "2022-07-05T06:55:39.981837Z",
     "iopub.status.busy": "2022-07-05T06:55:39.981527Z",
     "iopub.status.idle": "2022-07-05T06:55:39.987418Z",
     "shell.execute_reply": "2022-07-05T06:55:39.986497Z"
    },
    "papermill": {
     "duration": 0.017389,
     "end_time": "2022-07-05T06:55:39.989386",
     "exception": false,
     "start_time": "2022-07-05T06:55:39.971997",
     "status": "completed"
    },
    "tags": []
   },
   "outputs": [],
   "source": [
    "# prepare all features data\n",
    "\n",
    "feature_names = ['resnet152-bert', 'resnet152-bert-lstm', 'densenet201-bert-pos-lstm', 'densenet201-bert-pos-ner-lstm']\n",
    "\n",
    "mvsa_single_features = [[mvsa_single_bert, mvsa_single_resnet152],\n",
    "                        [mvsa_single_bert, mvsa_single_resnet152],\n",
    "                        [mvsa_single_bert_pos, mvsa_single_densenet201],\n",
    "                        [mvsa_single_bert_pos_ner, mvsa_single_densenet201]]\n",
    "\n",
    "mvsa_multiple_features = [[mvsa_multiple_bert, mvsa_multiple_resnet152],\n",
    "                          [mvsa_multiple_bert, mvsa_multiple_resnet152],\n",
    "                          [mvsa_multiple_bert_pos, mvsa_multiple_densenet201],\n",
    "                          [mvsa_multiple_bert_pos_ner, mvsa_multiple_densenet201]]"
   ]
  },
  {
   "cell_type": "code",
   "execution_count": 18,
   "id": "aea3d0f2",
   "metadata": {
    "execution": {
     "iopub.execute_input": "2022-07-05T06:55:40.007609Z",
     "iopub.status.busy": "2022-07-05T06:55:40.007043Z",
     "iopub.status.idle": "2022-07-05T06:55:40.013475Z",
     "shell.execute_reply": "2022-07-05T06:55:40.012449Z"
    },
    "papermill": {
     "duration": 0.018147,
     "end_time": "2022-07-05T06:55:40.015799",
     "exception": false,
     "start_time": "2022-07-05T06:55:39.997652",
     "status": "completed"
    },
    "tags": []
   },
   "outputs": [],
   "source": [
    "le = preprocessing.LabelEncoder()\n",
    "le.fit(mvsa_single_multimodal_labels)\n",
    "NUM_CLASSES = len(le.classes_) # = 3"
   ]
  },
  {
   "cell_type": "code",
   "execution_count": 19,
   "id": "50327745",
   "metadata": {
    "execution": {
     "iopub.execute_input": "2022-07-05T06:55:40.033513Z",
     "iopub.status.busy": "2022-07-05T06:55:40.033227Z",
     "iopub.status.idle": "2022-07-05T06:55:40.037962Z",
     "shell.execute_reply": "2022-07-05T06:55:40.036983Z"
    },
    "papermill": {
     "duration": 0.016151,
     "end_time": "2022-07-05T06:55:40.040162",
     "exception": false,
     "start_time": "2022-07-05T06:55:40.024011",
     "status": "completed"
    },
    "tags": []
   },
   "outputs": [],
   "source": [
    "reset_seeds()\n",
    "EPOCHS = 100\n",
    "BATCH_SIZE = 128\n",
    "VALIDATION_SPLIT = 0.1\n",
    "EARLY_STOPPING = 10\n",
    "NUM_LSTM = 128\n",
    "DROPOUT_RATE = 0.1"
   ]
  },
  {
   "cell_type": "markdown",
   "id": "2b4c3733",
   "metadata": {
    "papermill": {
     "duration": 0.007914,
     "end_time": "2022-07-05T06:55:40.056441",
     "exception": false,
     "start_time": "2022-07-05T06:55:40.048527",
     "status": "completed"
    },
    "tags": []
   },
   "source": [
    "# Intermediate Fusion"
   ]
  },
  {
   "cell_type": "code",
   "execution_count": 20,
   "id": "d5e01170",
   "metadata": {
    "execution": {
     "iopub.execute_input": "2022-07-05T06:55:40.074100Z",
     "iopub.status.busy": "2022-07-05T06:55:40.073809Z",
     "iopub.status.idle": "2022-07-05T06:56:05.486236Z",
     "shell.execute_reply": "2022-07-05T06:56:05.484994Z"
    },
    "papermill": {
     "duration": 25.424295,
     "end_time": "2022-07-05T06:56:05.488865",
     "exception": false,
     "start_time": "2022-07-05T06:55:40.064570",
     "status": "completed"
    },
    "tags": []
   },
   "outputs": [
    {
     "name": "stdout",
     "output_type": "stream",
     "text": [
      "MVSA-Single with Intermediate Fusion\n",
      "\n",
      "MVSA-Single: resnet152-bert\n"
     ]
    },
    {
     "name": "stderr",
     "output_type": "stream",
     "text": [
      "2022-07-05 06:55:40.255669: I tensorflow/compiler/mlir/mlir_graph_optimization_pass.cc:185] None of the MLIR Optimization Passes are enabled (registered 2)\n"
     ]
    },
    {
     "name": "stdout",
     "output_type": "stream",
     "text": [
      "\n",
      "MVSA-Single: resnet152-bert-lstm\n"
     ]
    },
    {
     "name": "stderr",
     "output_type": "stream",
     "text": [
      "2022-07-05 06:55:46.997802: I tensorflow/stream_executor/cuda/cuda_dnn.cc:369] Loaded cuDNN version 8005\n"
     ]
    },
    {
     "name": "stdout",
     "output_type": "stream",
     "text": [
      "\n",
      "MVSA-Single: densenet201-bert-pos-lstm\n",
      "\n",
      "MVSA-Single: densenet201-bert-pos-ner-lstm\n",
      "\n"
     ]
    }
   ],
   "source": [
    "print('MVSA-Single with Intermediate Fusion\\n')\n",
    "scores = []\n",
    "\n",
    "for i in range(len(feature_names)):\n",
    "    print('MVSA-Single:', feature_names[i])\n",
    "    if 'lstm' in feature_names[i]:\n",
    "        _, score = run_and_evaluate_IF('single-IF-' + feature_names[i], mvsa_single_features[i][0], mvsa_single_features[i][1], \n",
    "                                     mvsa_single_multimodal_labels,\n",
    "                                     verbose=0)\n",
    "    else:\n",
    "        _, score = run_and_evaluate_IF('single-IF-' + feature_names[i], mvsa_single_features[i][0], mvsa_single_features[i][1],\n",
    "                                     mvsa_single_multimodal_labels,\n",
    "                                     verbose=0, lstm=False)\n",
    "    scores.append(score)\n",
    "    print()\n",
    "\n",
    "df_single_scores_IF = pd.DataFrame(scores, columns=['Loss', 'Accuracy', 'F1-macro', 'F1-weighted'], index=feature_names)"
   ]
  },
  {
   "cell_type": "code",
   "execution_count": 21,
   "id": "b8f2dd2e",
   "metadata": {
    "execution": {
     "iopub.execute_input": "2022-07-05T06:56:05.510043Z",
     "iopub.status.busy": "2022-07-05T06:56:05.508421Z",
     "iopub.status.idle": "2022-07-05T06:56:40.875947Z",
     "shell.execute_reply": "2022-07-05T06:56:40.874956Z"
    },
    "papermill": {
     "duration": 35.38594,
     "end_time": "2022-07-05T06:56:40.884364",
     "exception": false,
     "start_time": "2022-07-05T06:56:05.498424",
     "status": "completed"
    },
    "tags": []
   },
   "outputs": [
    {
     "name": "stdout",
     "output_type": "stream",
     "text": [
      "MVSA-Multiple with Intermediate Fusion\n",
      "\n",
      "MVSA-Multiple: resnet152-bert\n",
      "\n",
      "MVSA-Multiple: resnet152-bert-lstm\n",
      "\n",
      "MVSA-Multiple: densenet201-bert-pos-lstm\n",
      "\n",
      "MVSA-Multiple: densenet201-bert-pos-ner-lstm\n",
      "\n"
     ]
    }
   ],
   "source": [
    "print('MVSA-Multiple with Intermediate Fusion\\n')\n",
    "scores = []\n",
    "\n",
    "for i in range(len(feature_names)):\n",
    "    print('MVSA-Multiple:', feature_names[i])\n",
    "    if 'lstm' in feature_names[i]:\n",
    "        _, score = run_and_evaluate_IF('multiple-IF-' + feature_names[i], mvsa_multiple_features[i][0], mvsa_multiple_features[i][1], \n",
    "                                     mvsa_multiple_multimodal_labels,\n",
    "                                     verbose=0)\n",
    "    else:\n",
    "        _, score = run_and_evaluate_IF('multiple-IF-' + feature_names[i], mvsa_multiple_features[i][0], mvsa_multiple_features[i][1],\n",
    "                                     mvsa_multiple_multimodal_labels,\n",
    "                                     verbose=0, lstm=False)\n",
    "    scores.append(score)\n",
    "    print()\n",
    "\n",
    "df_multiple_scores_IF = pd.DataFrame(scores, columns=['Loss', 'Accuracy', 'F1-macro', 'F1-weighted'], index=feature_names)"
   ]
  },
  {
   "cell_type": "markdown",
   "id": "71424e55",
   "metadata": {
    "papermill": {
     "duration": 0.008801,
     "end_time": "2022-07-05T06:56:40.902573",
     "exception": false,
     "start_time": "2022-07-05T06:56:40.893772",
     "status": "completed"
    },
    "tags": []
   },
   "source": [
    "# Late Fusion"
   ]
  },
  {
   "cell_type": "code",
   "execution_count": 22,
   "id": "8e385a98",
   "metadata": {
    "execution": {
     "iopub.execute_input": "2022-07-05T06:56:40.921412Z",
     "iopub.status.busy": "2022-07-05T06:56:40.921113Z",
     "iopub.status.idle": "2022-07-05T06:57:13.880145Z",
     "shell.execute_reply": "2022-07-05T06:57:13.879067Z"
    },
    "papermill": {
     "duration": 32.980283,
     "end_time": "2022-07-05T06:57:13.891648",
     "exception": false,
     "start_time": "2022-07-05T06:56:40.911365",
     "status": "completed"
    },
    "tags": []
   },
   "outputs": [
    {
     "name": "stdout",
     "output_type": "stream",
     "text": [
      "MVSA-Single with Late Fusion\n",
      "\n",
      "MVSA-Single: resnet152-bert\n",
      "\n",
      "MVSA-Single: resnet152-bert-lstm\n",
      "\n",
      "MVSA-Single: densenet201-bert-pos-lstm\n",
      "\n",
      "MVSA-Single: densenet201-bert-pos-ner-lstm\n",
      "\n"
     ]
    }
   ],
   "source": [
    "print('MVSA-Single with Late Fusion\\n')\n",
    "scores = []\n",
    "\n",
    "for i in range(len(feature_names)):\n",
    "    print('MVSA-Single:', feature_names[i])\n",
    "    if 'lstm' in feature_names[i]:\n",
    "        score = run_and_evaluate_LF('single-LF-' + feature_names[i], mvsa_single_features[i][0], mvsa_single_features[i][1], \n",
    "                                     mvsa_single_multimodal_labels,\n",
    "                                     verbose=0)\n",
    "    else:\n",
    "        score = run_and_evaluate_LF('single-LF-' + feature_names[i], mvsa_single_features[i][0], mvsa_single_features[i][1],\n",
    "                                     mvsa_single_multimodal_labels,\n",
    "                                     verbose=0, lstm=False)\n",
    "    scores.append(score)\n",
    "    print()\n",
    "\n",
    "df_single_scores_LF = pd.DataFrame(scores, columns=['Accuracy', 'F1-macro', 'F1-weighted'], index=feature_names)"
   ]
  },
  {
   "cell_type": "code",
   "execution_count": 23,
   "id": "60892df4",
   "metadata": {
    "execution": {
     "iopub.execute_input": "2022-07-05T06:57:13.911324Z",
     "iopub.status.busy": "2022-07-05T06:57:13.911026Z",
     "iopub.status.idle": "2022-07-05T06:58:09.349576Z",
     "shell.execute_reply": "2022-07-05T06:58:09.348071Z"
    },
    "papermill": {
     "duration": 55.45122,
     "end_time": "2022-07-05T06:58:09.352209",
     "exception": false,
     "start_time": "2022-07-05T06:57:13.900989",
     "status": "completed"
    },
    "tags": []
   },
   "outputs": [
    {
     "name": "stdout",
     "output_type": "stream",
     "text": [
      "MVSA-Multiple with Late Fusion\n",
      "\n",
      "MVSA-Multiple: resnet152-bert\n",
      "\n",
      "MVSA-Multiple: resnet152-bert-lstm\n",
      "\n",
      "MVSA-Multiple: densenet201-bert-pos-lstm\n",
      "\n",
      "MVSA-Multiple: densenet201-bert-pos-ner-lstm\n",
      "\n"
     ]
    }
   ],
   "source": [
    "print('MVSA-Multiple with Late Fusion\\n')\n",
    "scores = []\n",
    "\n",
    "for i in range(len(feature_names)):\n",
    "    print('MVSA-Multiple:', feature_names[i])\n",
    "    if 'lstm' in feature_names[i]:\n",
    "        score = run_and_evaluate_LF('multiple-LF-' + feature_names[i], mvsa_multiple_features[i][0], mvsa_multiple_features[i][1], \n",
    "                                     mvsa_multiple_multimodal_labels,\n",
    "                                     verbose=0)\n",
    "    else:\n",
    "        score = run_and_evaluate_LF('multiple-LF-' + feature_names[i], mvsa_multiple_features[i][0], mvsa_multiple_features[i][1],\n",
    "                                     mvsa_multiple_multimodal_labels,\n",
    "                                     verbose=0, lstm=False)\n",
    "    scores.append(score)\n",
    "    print()\n",
    "\n",
    "df_multiple_scores_LF = pd.DataFrame(scores, columns=['Accuracy', 'F1-macro', 'F1-weighted'], index=feature_names)"
   ]
  },
  {
   "cell_type": "markdown",
   "id": "ef91d5b2",
   "metadata": {
    "papermill": {
     "duration": 0.00955,
     "end_time": "2022-07-05T06:58:09.371912",
     "exception": false,
     "start_time": "2022-07-05T06:58:09.362362",
     "status": "completed"
    },
    "tags": []
   },
   "source": [
    "# Hybrid Fusion"
   ]
  },
  {
   "cell_type": "code",
   "execution_count": 24,
   "id": "d5c9183a",
   "metadata": {
    "execution": {
     "iopub.execute_input": "2022-07-05T06:58:09.398812Z",
     "iopub.status.busy": "2022-07-05T06:58:09.398444Z",
     "iopub.status.idle": "2022-07-05T06:59:15.716550Z",
     "shell.execute_reply": "2022-07-05T06:59:15.715580Z"
    },
    "papermill": {
     "duration": 66.349262,
     "end_time": "2022-07-05T06:59:15.730423",
     "exception": false,
     "start_time": "2022-07-05T06:58:09.381161",
     "status": "completed"
    },
    "tags": []
   },
   "outputs": [
    {
     "name": "stdout",
     "output_type": "stream",
     "text": [
      "MVSA-Single with Hybrid Fusion\n",
      "\n",
      "MVSA-Single: resnet152-bert\n",
      "\n",
      "MVSA-Single: resnet152-bert-lstm\n",
      "\n",
      "MVSA-Single: densenet201-bert-pos-lstm\n",
      "\n",
      "MVSA-Single: densenet201-bert-pos-ner-lstm\n",
      "\n"
     ]
    }
   ],
   "source": [
    "print('MVSA-Single with Hybrid Fusion\\n')\n",
    "scores = []\n",
    "\n",
    "for i in range(len(feature_names)):\n",
    "    print('MVSA-Single:', feature_names[i])\n",
    "    if 'lstm' in feature_names[i]:\n",
    "        score = run_and_evaluate_HF('single-HF-' + feature_names[i], mvsa_single_features[i][0], mvsa_single_features[i][1], \n",
    "                                     mvsa_single_multimodal_labels,\n",
    "                                     verbose=0)\n",
    "    else:\n",
    "        score = run_and_evaluate_HF('single-HF-' + feature_names[i], mvsa_single_features[i][0], mvsa_single_features[i][1],\n",
    "                                     mvsa_single_multimodal_labels,\n",
    "                                     verbose=0, lstm=False)\n",
    "    scores.append(score)\n",
    "    print()\n",
    "\n",
    "df_single_scores_HF = pd.DataFrame(scores, columns=['Accuracy', 'F1-macro', 'F1-weighted'], index=feature_names)"
   ]
  },
  {
   "cell_type": "code",
   "execution_count": 25,
   "id": "ea86f149",
   "metadata": {
    "execution": {
     "iopub.execute_input": "2022-07-05T06:59:15.765822Z",
     "iopub.status.busy": "2022-07-05T06:59:15.765451Z",
     "iopub.status.idle": "2022-07-05T07:00:50.467177Z",
     "shell.execute_reply": "2022-07-05T07:00:50.463908Z"
    },
    "papermill": {
     "duration": 94.730155,
     "end_time": "2022-07-05T07:00:50.477778",
     "exception": false,
     "start_time": "2022-07-05T06:59:15.747623",
     "status": "completed"
    },
    "tags": []
   },
   "outputs": [
    {
     "name": "stdout",
     "output_type": "stream",
     "text": [
      "MVSA-Multiple with Hybrid Fusion\n",
      "\n",
      "MVSA-Multiple: resnet152-bert\n",
      "\n",
      "MVSA-Multiple: resnet152-bert-lstm\n",
      "\n",
      "MVSA-Multiple: densenet201-bert-pos-lstm\n",
      "\n",
      "MVSA-Multiple: densenet201-bert-pos-ner-lstm\n",
      "\n"
     ]
    }
   ],
   "source": [
    "print('MVSA-Multiple with Hybrid Fusion\\n')\n",
    "scores = []\n",
    "\n",
    "for i in range(len(feature_names)):\n",
    "    print('MVSA-Multiple:', feature_names[i])\n",
    "    if 'lstm' in feature_names[i]:\n",
    "        score = run_and_evaluate_HF('multiple-HF-' + feature_names[i], mvsa_multiple_features[i][0], mvsa_multiple_features[i][1], \n",
    "                                     mvsa_multiple_multimodal_labels,\n",
    "                                     verbose=0)\n",
    "    else:\n",
    "        score = run_and_evaluate_HF('multiple-HF-' + feature_names[i], mvsa_multiple_features[i][0], mvsa_multiple_features[i][1],\n",
    "                                     mvsa_multiple_multimodal_labels,\n",
    "                                     verbose=0, lstm=False)\n",
    "    scores.append(score)\n",
    "    print()\n",
    "\n",
    "df_multiple_scores_HF = pd.DataFrame(scores, columns=['Accuracy', 'F1-macro', 'F1-weighted'], index=feature_names)"
   ]
  },
  {
   "cell_type": "markdown",
   "id": "a9a4d487",
   "metadata": {
    "papermill": {
     "duration": 0.010359,
     "end_time": "2022-07-05T07:00:50.498267",
     "exception": false,
     "start_time": "2022-07-05T07:00:50.487908",
     "status": "completed"
    },
    "tags": []
   },
   "source": [
    "# Display results"
   ]
  },
  {
   "cell_type": "code",
   "execution_count": 26,
   "id": "d35f4da1",
   "metadata": {
    "execution": {
     "iopub.execute_input": "2022-07-05T07:00:50.519343Z",
     "iopub.status.busy": "2022-07-05T07:00:50.519053Z",
     "iopub.status.idle": "2022-07-05T07:00:50.532285Z",
     "shell.execute_reply": "2022-07-05T07:00:50.531337Z"
    },
    "papermill": {
     "duration": 0.026238,
     "end_time": "2022-07-05T07:00:50.534644",
     "exception": false,
     "start_time": "2022-07-05T07:00:50.508406",
     "status": "completed"
    },
    "tags": []
   },
   "outputs": [],
   "source": [
    "df_single_scores_IF = df_single_scores_IF.drop(columns=['Loss'])\n",
    "df_multiple_scores_IF = df_multiple_scores_IF.drop(columns=['Loss'])"
   ]
  },
  {
   "cell_type": "code",
   "execution_count": 27,
   "id": "a16b5dad",
   "metadata": {
    "execution": {
     "iopub.execute_input": "2022-07-05T07:00:50.555848Z",
     "iopub.status.busy": "2022-07-05T07:00:50.555605Z",
     "iopub.status.idle": "2022-07-05T07:00:50.630842Z",
     "shell.execute_reply": "2022-07-05T07:00:50.629937Z"
    },
    "papermill": {
     "duration": 0.088517,
     "end_time": "2022-07-05T07:00:50.632853",
     "exception": false,
     "start_time": "2022-07-05T07:00:50.544336",
     "status": "completed"
    },
    "tags": []
   },
   "outputs": [
    {
     "name": "stdout",
     "output_type": "stream",
     "text": [
      "Intermediate Fusion\n"
     ]
    },
    {
     "data": {
      "text/html": [
       "<table style=\"display:inline\"><tr><td style=\"text-align:center\">MVSA-Single</td><td style=\"text-align:center\">MVSA-Multiple</td></tr><tr><td style=\"vertical-align:top\"> <style type=\"text/css\">\n",
       "#T_d05ac_row0_col0, #T_d05ac_row1_col0, #T_d05ac_row1_col1, #T_d05ac_row1_col2 {\n",
       "  color: tomato;\n",
       "}\n",
       "#T_d05ac_row2_col0, #T_d05ac_row2_col2, #T_d05ac_row3_col1 {\n",
       "  color: lawngreen;\n",
       "}\n",
       "</style>\n",
       "<table style=\"display:inline\" id=\"T_d05ac_\">\n",
       "  <thead>\n",
       "    <tr>\n",
       "      <th class=\"blank level0\" >&nbsp;</th>\n",
       "      <th class=\"col_heading level0 col0\" >Accuracy</th>\n",
       "      <th class=\"col_heading level0 col1\" >F1-macro</th>\n",
       "      <th class=\"col_heading level0 col2\" >F1-weighted</th>\n",
       "    </tr>\n",
       "  </thead>\n",
       "  <tbody>\n",
       "    <tr>\n",
       "      <th id=\"T_d05ac_level0_row0\" class=\"row_heading level0 row0\" >resnet152-bert</th>\n",
       "      <td id=\"T_d05ac_row0_col0\" class=\"data row0 col0\" >0.603104</td>\n",
       "      <td id=\"T_d05ac_row0_col1\" class=\"data row0 col1\" >0.280481</td>\n",
       "      <td id=\"T_d05ac_row0_col2\" class=\"data row0 col2\" >0.482997</td>\n",
       "    </tr>\n",
       "    <tr>\n",
       "      <th id=\"T_d05ac_level0_row1\" class=\"row_heading level0 row1\" >resnet152-bert-lstm</th>\n",
       "      <td id=\"T_d05ac_row1_col0\" class=\"data row1 col0\" >0.603104</td>\n",
       "      <td id=\"T_d05ac_row1_col1\" class=\"data row1 col1\" >0.250807</td>\n",
       "      <td id=\"T_d05ac_row1_col2\" class=\"data row1 col2\" >0.453788</td>\n",
       "    </tr>\n",
       "    <tr>\n",
       "      <th id=\"T_d05ac_level0_row2\" class=\"row_heading level0 row2\" >densenet201-bert-pos-lstm</th>\n",
       "      <td id=\"T_d05ac_row2_col0\" class=\"data row2 col0\" >0.685144</td>\n",
       "      <td id=\"T_d05ac_row2_col1\" class=\"data row2 col1\" >0.506248</td>\n",
       "      <td id=\"T_d05ac_row2_col2\" class=\"data row2 col2\" >0.683706</td>\n",
       "    </tr>\n",
       "    <tr>\n",
       "      <th id=\"T_d05ac_level0_row3\" class=\"row_heading level0 row3\" >densenet201-bert-pos-ner-lstm</th>\n",
       "      <td id=\"T_d05ac_row3_col0\" class=\"data row3 col0\" >0.671840</td>\n",
       "      <td id=\"T_d05ac_row3_col1\" class=\"data row3 col1\" >0.512758</td>\n",
       "      <td id=\"T_d05ac_row3_col2\" class=\"data row3 col2\" >0.672824</td>\n",
       "    </tr>\n",
       "  </tbody>\n",
       "</table style=\"display:inline\">\n",
       "</td><td style=\"vertical-align:top\"> <style type=\"text/css\">\n",
       "#T_014a7_row0_col0, #T_014a7_row0_col1, #T_014a7_row0_col2, #T_014a7_row1_col0, #T_014a7_row1_col1, #T_014a7_row1_col2 {\n",
       "  color: tomato;\n",
       "}\n",
       "#T_014a7_row2_col0, #T_014a7_row3_col1, #T_014a7_row3_col2 {\n",
       "  color: lawngreen;\n",
       "}\n",
       "</style>\n",
       "<table style=\"display:inline\" id=\"T_014a7_\">\n",
       "  <thead>\n",
       "    <tr>\n",
       "      <th class=\"blank level0\" >&nbsp;</th>\n",
       "      <th class=\"col_heading level0 col0\" >Accuracy</th>\n",
       "      <th class=\"col_heading level0 col1\" >F1-macro</th>\n",
       "      <th class=\"col_heading level0 col2\" >F1-weighted</th>\n",
       "    </tr>\n",
       "  </thead>\n",
       "  <tbody>\n",
       "    <tr>\n",
       "      <th id=\"T_014a7_level0_row0\" class=\"row_heading level0 row0\" >resnet152-bert</th>\n",
       "      <td id=\"T_014a7_row0_col0\" class=\"data row0 col0\" >0.639835</td>\n",
       "      <td id=\"T_014a7_row0_col1\" class=\"data row0 col1\" >0.260122</td>\n",
       "      <td id=\"T_014a7_row0_col2\" class=\"data row0 col2\" >0.499306</td>\n",
       "    </tr>\n",
       "    <tr>\n",
       "      <th id=\"T_014a7_level0_row1\" class=\"row_heading level0 row1\" >resnet152-bert-lstm</th>\n",
       "      <td id=\"T_014a7_row1_col0\" class=\"data row1 col0\" >0.639835</td>\n",
       "      <td id=\"T_014a7_row1_col1\" class=\"data row1 col1\" >0.260122</td>\n",
       "      <td id=\"T_014a7_row1_col2\" class=\"data row1 col2\" >0.499306</td>\n",
       "    </tr>\n",
       "    <tr>\n",
       "      <th id=\"T_014a7_level0_row2\" class=\"row_heading level0 row2\" >densenet201-bert-pos-lstm</th>\n",
       "      <td id=\"T_014a7_row2_col0\" class=\"data row2 col0\" >0.659812</td>\n",
       "      <td id=\"T_014a7_row2_col1\" class=\"data row2 col1\" >0.442682</td>\n",
       "      <td id=\"T_014a7_row2_col2\" class=\"data row2 col2\" >0.603832</td>\n",
       "    </tr>\n",
       "    <tr>\n",
       "      <th id=\"T_014a7_level0_row3\" class=\"row_heading level0 row3\" >densenet201-bert-pos-ner-lstm</th>\n",
       "      <td id=\"T_014a7_row3_col0\" class=\"data row3 col0\" >0.649824</td>\n",
       "      <td id=\"T_014a7_row3_col1\" class=\"data row3 col1\" >0.491817</td>\n",
       "      <td id=\"T_014a7_row3_col2\" class=\"data row3 col2\" >0.623917</td>\n",
       "    </tr>\n",
       "  </tbody>\n",
       "</table style=\"display:inline\">\n",
       "</td></tr></table style=\"display:inline\">"
      ]
     },
     "metadata": {},
     "output_type": "display_data"
    }
   ],
   "source": [
    "print('Intermediate Fusion')\n",
    "display_dataframes((style_dataframe(df_single_scores_IF), style_dataframe(df_multiple_scores_IF)), \n",
    "                   names=['MVSA-Single', 'MVSA-Multiple'])"
   ]
  },
  {
   "cell_type": "code",
   "execution_count": 28,
   "id": "5af256d5",
   "metadata": {
    "execution": {
     "iopub.execute_input": "2022-07-05T07:00:50.654768Z",
     "iopub.status.busy": "2022-07-05T07:00:50.654524Z",
     "iopub.status.idle": "2022-07-05T07:00:50.679655Z",
     "shell.execute_reply": "2022-07-05T07:00:50.678675Z"
    },
    "papermill": {
     "duration": 0.038644,
     "end_time": "2022-07-05T07:00:50.681575",
     "exception": false,
     "start_time": "2022-07-05T07:00:50.642931",
     "status": "completed"
    },
    "tags": []
   },
   "outputs": [
    {
     "name": "stdout",
     "output_type": "stream",
     "text": [
      "Late Fusion with Multimodal Labels\n"
     ]
    },
    {
     "data": {
      "text/html": [
       "<table style=\"display:inline\"><tr><td style=\"text-align:center\">MVSA-Single</td><td style=\"text-align:center\">MVSA-Multiple</td></tr><tr><td style=\"vertical-align:top\"> <style type=\"text/css\">\n",
       "#T_80674_row0_col0, #T_80674_row0_col1, #T_80674_row0_col2 {\n",
       "  color: tomato;\n",
       "}\n",
       "#T_80674_row2_col0, #T_80674_row2_col1, #T_80674_row2_col2 {\n",
       "  color: lawngreen;\n",
       "}\n",
       "</style>\n",
       "<table style=\"display:inline\" id=\"T_80674_\">\n",
       "  <thead>\n",
       "    <tr>\n",
       "      <th class=\"blank level0\" >&nbsp;</th>\n",
       "      <th class=\"col_heading level0 col0\" >Accuracy</th>\n",
       "      <th class=\"col_heading level0 col1\" >F1-macro</th>\n",
       "      <th class=\"col_heading level0 col2\" >F1-weighted</th>\n",
       "    </tr>\n",
       "  </thead>\n",
       "  <tbody>\n",
       "    <tr>\n",
       "      <th id=\"T_80674_level0_row0\" class=\"row_heading level0 row0\" >resnet152-bert</th>\n",
       "      <td id=\"T_80674_row0_col0\" class=\"data row0 col0\" >0.640798</td>\n",
       "      <td id=\"T_80674_row0_col1\" class=\"data row0 col1\" >0.371098</td>\n",
       "      <td id=\"T_80674_row0_col2\" class=\"data row0 col2\" >0.559172</td>\n",
       "    </tr>\n",
       "    <tr>\n",
       "      <th id=\"T_80674_level0_row1\" class=\"row_heading level0 row1\" >resnet152-bert-lstm</th>\n",
       "      <td id=\"T_80674_row1_col0\" class=\"data row1 col0\" >0.700665</td>\n",
       "      <td id=\"T_80674_row1_col1\" class=\"data row1 col1\" >0.498443</td>\n",
       "      <td id=\"T_80674_row1_col2\" class=\"data row1 col2\" >0.661061</td>\n",
       "    </tr>\n",
       "    <tr>\n",
       "      <th id=\"T_80674_level0_row2\" class=\"row_heading level0 row2\" >densenet201-bert-pos-lstm</th>\n",
       "      <td id=\"T_80674_row2_col0\" class=\"data row2 col0\" >0.709534</td>\n",
       "      <td id=\"T_80674_row2_col1\" class=\"data row2 col1\" >0.528768</td>\n",
       "      <td id=\"T_80674_row2_col2\" class=\"data row2 col2\" >0.694549</td>\n",
       "    </tr>\n",
       "    <tr>\n",
       "      <th id=\"T_80674_level0_row3\" class=\"row_heading level0 row3\" >densenet201-bert-pos-ner-lstm</th>\n",
       "      <td id=\"T_80674_row3_col0\" class=\"data row3 col0\" >0.678492</td>\n",
       "      <td id=\"T_80674_row3_col1\" class=\"data row3 col1\" >0.479563</td>\n",
       "      <td id=\"T_80674_row3_col2\" class=\"data row3 col2\" >0.660328</td>\n",
       "    </tr>\n",
       "  </tbody>\n",
       "</table style=\"display:inline\">\n",
       "</td><td style=\"vertical-align:top\"> <style type=\"text/css\">\n",
       "#T_fa538_row1_col0, #T_fa538_row1_col1, #T_fa538_row1_col2 {\n",
       "  color: tomato;\n",
       "}\n",
       "#T_fa538_row3_col0, #T_fa538_row3_col1, #T_fa538_row3_col2 {\n",
       "  color: lawngreen;\n",
       "}\n",
       "</style>\n",
       "<table style=\"display:inline\" id=\"T_fa538_\">\n",
       "  <thead>\n",
       "    <tr>\n",
       "      <th class=\"blank level0\" >&nbsp;</th>\n",
       "      <th class=\"col_heading level0 col0\" >Accuracy</th>\n",
       "      <th class=\"col_heading level0 col1\" >F1-macro</th>\n",
       "      <th class=\"col_heading level0 col2\" >F1-weighted</th>\n",
       "    </tr>\n",
       "  </thead>\n",
       "  <tbody>\n",
       "    <tr>\n",
       "      <th id=\"T_fa538_level0_row0\" class=\"row_heading level0 row0\" >resnet152-bert</th>\n",
       "      <td id=\"T_fa538_row0_col0\" class=\"data row0 col0\" >0.643361</td>\n",
       "      <td id=\"T_fa538_row0_col1\" class=\"data row0 col1\" >0.284392</td>\n",
       "      <td id=\"T_fa538_row0_col2\" class=\"data row0 col2\" >0.510353</td>\n",
       "    </tr>\n",
       "    <tr>\n",
       "      <th id=\"T_fa538_level0_row1\" class=\"row_heading level0 row1\" >resnet152-bert-lstm</th>\n",
       "      <td id=\"T_fa538_row1_col0\" class=\"data row1 col0\" >0.638660</td>\n",
       "      <td id=\"T_fa538_row1_col1\" class=\"data row1 col1\" >0.262930</td>\n",
       "      <td id=\"T_fa538_row1_col2\" class=\"data row1 col2\" >0.500865</td>\n",
       "    </tr>\n",
       "    <tr>\n",
       "      <th id=\"T_fa538_level0_row2\" class=\"row_heading level0 row2\" >densenet201-bert-pos-lstm</th>\n",
       "      <td id=\"T_fa538_row2_col0\" class=\"data row2 col0\" >0.648061</td>\n",
       "      <td id=\"T_fa538_row2_col1\" class=\"data row2 col1\" >0.322446</td>\n",
       "      <td id=\"T_fa538_row2_col2\" class=\"data row2 col2\" >0.532641</td>\n",
       "    </tr>\n",
       "    <tr>\n",
       "      <th id=\"T_fa538_level0_row3\" class=\"row_heading level0 row3\" >densenet201-bert-pos-ner-lstm</th>\n",
       "      <td id=\"T_fa538_row3_col0\" class=\"data row3 col0\" >0.649824</td>\n",
       "      <td id=\"T_fa538_row3_col1\" class=\"data row3 col1\" >0.333739</td>\n",
       "      <td id=\"T_fa538_row3_col2\" class=\"data row3 col2\" >0.543513</td>\n",
       "    </tr>\n",
       "  </tbody>\n",
       "</table style=\"display:inline\">\n",
       "</td></tr></table style=\"display:inline\">"
      ]
     },
     "metadata": {},
     "output_type": "display_data"
    }
   ],
   "source": [
    "print('Late Fusion with Multimodal Labels')\n",
    "display_dataframes((style_dataframe(df_single_scores_LF), style_dataframe(df_multiple_scores_LF)), \n",
    "                   names=['MVSA-Single', 'MVSA-Multiple'])"
   ]
  },
  {
   "cell_type": "code",
   "execution_count": 29,
   "id": "c2e8cff8",
   "metadata": {
    "execution": {
     "iopub.execute_input": "2022-07-05T07:00:50.705906Z",
     "iopub.status.busy": "2022-07-05T07:00:50.705616Z",
     "iopub.status.idle": "2022-07-05T07:00:50.736403Z",
     "shell.execute_reply": "2022-07-05T07:00:50.734337Z"
    },
    "papermill": {
     "duration": 0.046164,
     "end_time": "2022-07-05T07:00:50.739667",
     "exception": false,
     "start_time": "2022-07-05T07:00:50.693503",
     "status": "completed"
    },
    "tags": []
   },
   "outputs": [
    {
     "name": "stdout",
     "output_type": "stream",
     "text": [
      "Hybrid Fusion with Multimodal Labels\n"
     ]
    },
    {
     "data": {
      "text/html": [
       "<table style=\"display:inline\"><tr><td style=\"text-align:center\">MVSA-Single</td><td style=\"text-align:center\">MVSA-Multiple</td></tr><tr><td style=\"vertical-align:top\"> <style type=\"text/css\">\n",
       "#T_d653c_row0_col0, #T_d653c_row0_col1, #T_d653c_row0_col2 {\n",
       "  color: tomato;\n",
       "}\n",
       "#T_d653c_row2_col0, #T_d653c_row2_col1, #T_d653c_row2_col2 {\n",
       "  color: lawngreen;\n",
       "}\n",
       "</style>\n",
       "<table style=\"display:inline\" id=\"T_d653c_\">\n",
       "  <thead>\n",
       "    <tr>\n",
       "      <th class=\"blank level0\" >&nbsp;</th>\n",
       "      <th class=\"col_heading level0 col0\" >Accuracy</th>\n",
       "      <th class=\"col_heading level0 col1\" >F1-macro</th>\n",
       "      <th class=\"col_heading level0 col2\" >F1-weighted</th>\n",
       "    </tr>\n",
       "  </thead>\n",
       "  <tbody>\n",
       "    <tr>\n",
       "      <th id=\"T_d653c_level0_row0\" class=\"row_heading level0 row0\" >resnet152-bert</th>\n",
       "      <td id=\"T_d653c_row0_col0\" class=\"data row0 col0\" >0.667406</td>\n",
       "      <td id=\"T_d653c_row0_col1\" class=\"data row0 col1\" >0.386086</td>\n",
       "      <td id=\"T_d653c_row0_col2\" class=\"data row0 col2\" >0.600435</td>\n",
       "    </tr>\n",
       "    <tr>\n",
       "      <th id=\"T_d653c_level0_row1\" class=\"row_heading level0 row1\" >resnet152-bert-lstm</th>\n",
       "      <td id=\"T_d653c_row1_col0\" class=\"data row1 col0\" >0.680710</td>\n",
       "      <td id=\"T_d653c_row1_col1\" class=\"data row1 col1\" >0.410929</td>\n",
       "      <td id=\"T_d653c_row1_col2\" class=\"data row1 col2\" >0.627215</td>\n",
       "    </tr>\n",
       "    <tr>\n",
       "      <th id=\"T_d653c_level0_row2\" class=\"row_heading level0 row2\" >densenet201-bert-pos-lstm</th>\n",
       "      <td id=\"T_d653c_row2_col0\" class=\"data row2 col0\" >0.691796</td>\n",
       "      <td id=\"T_d653c_row2_col1\" class=\"data row2 col1\" >0.522827</td>\n",
       "      <td id=\"T_d653c_row2_col2\" class=\"data row2 col2\" >0.686390</td>\n",
       "    </tr>\n",
       "    <tr>\n",
       "      <th id=\"T_d653c_level0_row3\" class=\"row_heading level0 row3\" >densenet201-bert-pos-ner-lstm</th>\n",
       "      <td id=\"T_d653c_row3_col0\" class=\"data row3 col0\" >0.687361</td>\n",
       "      <td id=\"T_d653c_row3_col1\" class=\"data row3 col1\" >0.517235</td>\n",
       "      <td id=\"T_d653c_row3_col2\" class=\"data row3 col2\" >0.678609</td>\n",
       "    </tr>\n",
       "  </tbody>\n",
       "</table style=\"display:inline\">\n",
       "</td><td style=\"vertical-align:top\"> <style type=\"text/css\">\n",
       "#T_a3aaf_row0_col0, #T_a3aaf_row0_col1, #T_a3aaf_row0_col2 {\n",
       "  color: tomato;\n",
       "}\n",
       "#T_a3aaf_row2_col1, #T_a3aaf_row2_col2, #T_a3aaf_row3_col0 {\n",
       "  color: lawngreen;\n",
       "}\n",
       "</style>\n",
       "<table style=\"display:inline\" id=\"T_a3aaf_\">\n",
       "  <thead>\n",
       "    <tr>\n",
       "      <th class=\"blank level0\" >&nbsp;</th>\n",
       "      <th class=\"col_heading level0 col0\" >Accuracy</th>\n",
       "      <th class=\"col_heading level0 col1\" >F1-macro</th>\n",
       "      <th class=\"col_heading level0 col2\" >F1-weighted</th>\n",
       "    </tr>\n",
       "  </thead>\n",
       "  <tbody>\n",
       "    <tr>\n",
       "      <th id=\"T_a3aaf_level0_row0\" class=\"row_heading level0 row0\" >resnet152-bert</th>\n",
       "      <td id=\"T_a3aaf_row0_col0\" class=\"data row0 col0\" >0.639835</td>\n",
       "      <td id=\"T_a3aaf_row0_col1\" class=\"data row0 col1\" >0.260122</td>\n",
       "      <td id=\"T_a3aaf_row0_col2\" class=\"data row0 col2\" >0.499306</td>\n",
       "    </tr>\n",
       "    <tr>\n",
       "      <th id=\"T_a3aaf_level0_row1\" class=\"row_heading level0 row1\" >resnet152-bert-lstm</th>\n",
       "      <td id=\"T_a3aaf_row1_col0\" class=\"data row1 col0\" >0.640423</td>\n",
       "      <td id=\"T_a3aaf_row1_col1\" class=\"data row1 col1\" >0.261833</td>\n",
       "      <td id=\"T_a3aaf_row1_col2\" class=\"data row1 col2\" >0.500657</td>\n",
       "    </tr>\n",
       "    <tr>\n",
       "      <th id=\"T_a3aaf_level0_row2\" class=\"row_heading level0 row2\" >densenet201-bert-pos-lstm</th>\n",
       "      <td id=\"T_a3aaf_row2_col0\" class=\"data row2 col0\" >0.658637</td>\n",
       "      <td id=\"T_a3aaf_row2_col1\" class=\"data row2 col1\" >0.411889</td>\n",
       "      <td id=\"T_a3aaf_row2_col2\" class=\"data row2 col2\" >0.579819</td>\n",
       "    </tr>\n",
       "    <tr>\n",
       "      <th id=\"T_a3aaf_level0_row3\" class=\"row_heading level0 row3\" >densenet201-bert-pos-ner-lstm</th>\n",
       "      <td id=\"T_a3aaf_row3_col0\" class=\"data row3 col0\" >0.660987</td>\n",
       "      <td id=\"T_a3aaf_row3_col1\" class=\"data row3 col1\" >0.401735</td>\n",
       "      <td id=\"T_a3aaf_row3_col2\" class=\"data row3 col2\" >0.577051</td>\n",
       "    </tr>\n",
       "  </tbody>\n",
       "</table style=\"display:inline\">\n",
       "</td></tr></table style=\"display:inline\">"
      ]
     },
     "metadata": {},
     "output_type": "display_data"
    }
   ],
   "source": [
    "print('Hybrid Fusion with Multimodal Labels')\n",
    "display_dataframes((style_dataframe(df_single_scores_HF), style_dataframe(df_multiple_scores_HF)), \n",
    "                   names=['MVSA-Single', 'MVSA-Multiple'])"
   ]
  },
  {
   "cell_type": "code",
   "execution_count": 30,
   "id": "8a9ca58c",
   "metadata": {
    "execution": {
     "iopub.execute_input": "2022-07-05T07:00:50.766396Z",
     "iopub.status.busy": "2022-07-05T07:00:50.764726Z",
     "iopub.status.idle": "2022-07-05T07:00:50.774219Z",
     "shell.execute_reply": "2022-07-05T07:00:50.773353Z"
    },
    "papermill": {
     "duration": 0.024031,
     "end_time": "2022-07-05T07:00:50.776136",
     "exception": false,
     "start_time": "2022-07-05T07:00:50.752105",
     "status": "completed"
    },
    "tags": []
   },
   "outputs": [],
   "source": [
    "# get max values of late and intermediate fusion\n",
    "df_single_higher_fusion = pd.DataFrame(np.where(df_single_scores_LF.gt(df_single_scores_IF.values), df_single_scores_LF.values, df_single_scores_IF.values),\n",
    "                 columns=['Accuracy','F1-macro','F1-weighted'], index=feature_names)\n",
    "\n",
    "df_multiple_higher_fusion = pd.DataFrame(np.where(df_single_scores_LF.gt(df_single_scores_IF.values), df_multiple_scores_LF.values, df_multiple_scores_IF.values),\n",
    "                 columns=['Accuracy','F1-macro','F1-weighted'], index=feature_names)\n",
    "\n",
    "df_single_subtract = df_single_scores_HF.subtract(df_single_higher_fusion)\n",
    "df_multiple_subtract = df_multiple_scores_HF.subtract(df_multiple_higher_fusion)"
   ]
  },
  {
   "cell_type": "code",
   "execution_count": 31,
   "id": "6c1e3966",
   "metadata": {
    "execution": {
     "iopub.execute_input": "2022-07-05T07:00:50.798734Z",
     "iopub.status.busy": "2022-07-05T07:00:50.798499Z",
     "iopub.status.idle": "2022-07-05T07:00:50.814912Z",
     "shell.execute_reply": "2022-07-05T07:00:50.813931Z"
    },
    "papermill": {
     "duration": 0.031512,
     "end_time": "2022-07-05T07:00:50.818243",
     "exception": false,
     "start_time": "2022-07-05T07:00:50.786731",
     "status": "completed"
    },
    "tags": []
   },
   "outputs": [
    {
     "name": "stdout",
     "output_type": "stream",
     "text": [
      "Compare Hybrid Fusion scores up\n"
     ]
    },
    {
     "data": {
      "text/html": [
       "<table style=\"display:inline\"><tr><td style=\"text-align:center\">MVSA-Single</td><td style=\"text-align:center\">MVSA-Multiple</td></tr><tr><td style=\"vertical-align:top\"> <style type=\"text/css\">\n",
       "#T_13ff5_row0_col0, #T_13ff5_row0_col1, #T_13ff5_row0_col2, #T_13ff5_row3_col0, #T_13ff5_row3_col1, #T_13ff5_row3_col2 {\n",
       "  color: lawngreen;\n",
       "}\n",
       "#T_13ff5_row1_col0, #T_13ff5_row1_col1, #T_13ff5_row1_col2, #T_13ff5_row2_col0, #T_13ff5_row2_col1, #T_13ff5_row2_col2 {\n",
       "  color: tomato;\n",
       "}\n",
       "</style>\n",
       "<table style=\"display:inline\" id=\"T_13ff5_\">\n",
       "  <thead>\n",
       "    <tr>\n",
       "      <th class=\"blank level0\" >&nbsp;</th>\n",
       "      <th class=\"col_heading level0 col0\" >Accuracy</th>\n",
       "      <th class=\"col_heading level0 col1\" >F1-macro</th>\n",
       "      <th class=\"col_heading level0 col2\" >F1-weighted</th>\n",
       "    </tr>\n",
       "  </thead>\n",
       "  <tbody>\n",
       "    <tr>\n",
       "      <th id=\"T_13ff5_level0_row0\" class=\"row_heading level0 row0\" >resnet152-bert</th>\n",
       "      <td id=\"T_13ff5_row0_col0\" class=\"data row0 col0\" >0.026608</td>\n",
       "      <td id=\"T_13ff5_row0_col1\" class=\"data row0 col1\" >0.014989</td>\n",
       "      <td id=\"T_13ff5_row0_col2\" class=\"data row0 col2\" >0.041263</td>\n",
       "    </tr>\n",
       "    <tr>\n",
       "      <th id=\"T_13ff5_level0_row1\" class=\"row_heading level0 row1\" >resnet152-bert-lstm</th>\n",
       "      <td id=\"T_13ff5_row1_col0\" class=\"data row1 col0\" >-0.019956</td>\n",
       "      <td id=\"T_13ff5_row1_col1\" class=\"data row1 col1\" >-0.087513</td>\n",
       "      <td id=\"T_13ff5_row1_col2\" class=\"data row1 col2\" >-0.033846</td>\n",
       "    </tr>\n",
       "    <tr>\n",
       "      <th id=\"T_13ff5_level0_row2\" class=\"row_heading level0 row2\" >densenet201-bert-pos-lstm</th>\n",
       "      <td id=\"T_13ff5_row2_col0\" class=\"data row2 col0\" >-0.017738</td>\n",
       "      <td id=\"T_13ff5_row2_col1\" class=\"data row2 col1\" >-0.005942</td>\n",
       "      <td id=\"T_13ff5_row2_col2\" class=\"data row2 col2\" >-0.008158</td>\n",
       "    </tr>\n",
       "    <tr>\n",
       "      <th id=\"T_13ff5_level0_row3\" class=\"row_heading level0 row3\" >densenet201-bert-pos-ner-lstm</th>\n",
       "      <td id=\"T_13ff5_row3_col0\" class=\"data row3 col0\" >0.008869</td>\n",
       "      <td id=\"T_13ff5_row3_col1\" class=\"data row3 col1\" >0.004477</td>\n",
       "      <td id=\"T_13ff5_row3_col2\" class=\"data row3 col2\" >0.005785</td>\n",
       "    </tr>\n",
       "  </tbody>\n",
       "</table style=\"display:inline\">\n",
       "</td><td style=\"vertical-align:top\"> <style type=\"text/css\">\n",
       "#T_20d91_row0_col0, #T_20d91_row0_col1, #T_20d91_row0_col2, #T_20d91_row1_col1, #T_20d91_row1_col2, #T_20d91_row3_col1, #T_20d91_row3_col2 {\n",
       "  color: tomato;\n",
       "}\n",
       "#T_20d91_row1_col0, #T_20d91_row2_col0, #T_20d91_row2_col1, #T_20d91_row2_col2, #T_20d91_row3_col0 {\n",
       "  color: lawngreen;\n",
       "}\n",
       "</style>\n",
       "<table style=\"display:inline\" id=\"T_20d91_\">\n",
       "  <thead>\n",
       "    <tr>\n",
       "      <th class=\"blank level0\" >&nbsp;</th>\n",
       "      <th class=\"col_heading level0 col0\" >Accuracy</th>\n",
       "      <th class=\"col_heading level0 col1\" >F1-macro</th>\n",
       "      <th class=\"col_heading level0 col2\" >F1-weighted</th>\n",
       "    </tr>\n",
       "  </thead>\n",
       "  <tbody>\n",
       "    <tr>\n",
       "      <th id=\"T_20d91_level0_row0\" class=\"row_heading level0 row0\" >resnet152-bert</th>\n",
       "      <td id=\"T_20d91_row0_col0\" class=\"data row0 col0\" >-0.003525</td>\n",
       "      <td id=\"T_20d91_row0_col1\" class=\"data row0 col1\" >-0.024270</td>\n",
       "      <td id=\"T_20d91_row0_col2\" class=\"data row0 col2\" >-0.011048</td>\n",
       "    </tr>\n",
       "    <tr>\n",
       "      <th id=\"T_20d91_level0_row1\" class=\"row_heading level0 row1\" >resnet152-bert-lstm</th>\n",
       "      <td id=\"T_20d91_row1_col0\" class=\"data row1 col0\" >0.001763</td>\n",
       "      <td id=\"T_20d91_row1_col1\" class=\"data row1 col1\" >-0.001097</td>\n",
       "      <td id=\"T_20d91_row1_col2\" class=\"data row1 col2\" >-0.000208</td>\n",
       "    </tr>\n",
       "    <tr>\n",
       "      <th id=\"T_20d91_level0_row2\" class=\"row_heading level0 row2\" >densenet201-bert-pos-lstm</th>\n",
       "      <td id=\"T_20d91_row2_col0\" class=\"data row2 col0\" >0.010576</td>\n",
       "      <td id=\"T_20d91_row2_col1\" class=\"data row2 col1\" >0.089442</td>\n",
       "      <td id=\"T_20d91_row2_col2\" class=\"data row2 col2\" >0.047178</td>\n",
       "    </tr>\n",
       "    <tr>\n",
       "      <th id=\"T_20d91_level0_row3\" class=\"row_heading level0 row3\" >densenet201-bert-pos-ner-lstm</th>\n",
       "      <td id=\"T_20d91_row3_col0\" class=\"data row3 col0\" >0.011163</td>\n",
       "      <td id=\"T_20d91_row3_col1\" class=\"data row3 col1\" >-0.090081</td>\n",
       "      <td id=\"T_20d91_row3_col2\" class=\"data row3 col2\" >-0.046866</td>\n",
       "    </tr>\n",
       "  </tbody>\n",
       "</table style=\"display:inline\">\n",
       "</td></tr></table style=\"display:inline\">"
      ]
     },
     "metadata": {},
     "output_type": "display_data"
    }
   ],
   "source": [
    "print('Compare Hybrid Fusion scores up')\n",
    "display_dataframes((df_single_subtract.style.applymap(highlight_neg), df_multiple_subtract.style.applymap(highlight_neg)), \n",
    "                   names=['MVSA-Single', 'MVSA-Multiple'])"
   ]
  }
 ],
 "metadata": {
  "kernelspec": {
   "display_name": "Python 3",
   "language": "python",
   "name": "python3"
  },
  "language_info": {
   "codemirror_mode": {
    "name": "ipython",
    "version": 3
   },
   "file_extension": ".py",
   "mimetype": "text/x-python",
   "name": "python",
   "nbconvert_exporter": "python",
   "pygments_lexer": "ipython3",
   "version": "3.7.12"
  },
  "papermill": {
   "default_parameters": {},
   "duration": 351.555768,
   "end_time": "2022-07-05T07:00:54.247104",
   "environment_variables": {},
   "exception": null,
   "input_path": "__notebook__.ipynb",
   "output_path": "__notebook__.ipynb",
   "parameters": {},
   "start_time": "2022-07-05T06:55:02.691336",
   "version": "2.3.4"
  }
 },
 "nbformat": 4,
 "nbformat_minor": 5
}
