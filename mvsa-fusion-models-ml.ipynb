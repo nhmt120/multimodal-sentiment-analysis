{
 "cells": [
  {
   "cell_type": "code",
   "execution_count": 1,
   "id": "00dbefc0",
   "metadata": {
    "_cell_guid": "b1076dfc-b9ad-4769-8c92-a6c4dae69d19",
    "_uuid": "8f2839f25d086af736a60e9eeb907d3b93b6e0e5",
    "execution": {
     "iopub.execute_input": "2022-07-13T17:21:10.358685Z",
     "iopub.status.busy": "2022-07-13T17:21:10.357691Z",
     "iopub.status.idle": "2022-07-13T17:21:22.545879Z",
     "shell.execute_reply": "2022-07-13T17:21:22.544496Z"
    },
    "papermill": {
     "duration": 12.206098,
     "end_time": "2022-07-13T17:21:22.549154",
     "exception": false,
     "start_time": "2022-07-13T17:21:10.343056",
     "status": "completed"
    },
    "tags": []
   },
   "outputs": [],
   "source": [
    "SEED = 61\n",
    "\n",
    "import os\n",
    "import re\n",
    "import gc\n",
    "import h5py\n",
    "import torch\n",
    "import numpy as np\n",
    "import pandas as pd\n",
    "import tensorflow as tf\n",
    "import random as python_random\n",
    "import tensorflow_addons as tfa\n",
    "import matplotlib.pyplot as plt\n",
    "\n",
    "from tqdm import tqdm\n",
    "from nltk import tokenize\n",
    "from IPython.display import display_html\n",
    "from imblearn.over_sampling import SMOTE\n",
    "from imblearn.over_sampling import BorderlineSMOTE\n",
    "from transformers import BertTokenizer, BertForMaskedLM, BertModel\n",
    "from tensorflow.python.keras.layers import Layer, InputSpec, Lambda\n",
    "\n",
    "from sklearn import preprocessing\n",
    "from sklearn.decomposition import PCA\n",
    "from sklearn.model_selection import RepeatedKFold, KFold\n",
    "from sklearn.model_selection import cross_val_score\n",
    "from sklearn.metrics import f1_score, accuracy_score, confusion_matrix, ConfusionMatrixDisplay, classification_report\n",
    "\n",
    "from keras import backend as K\n",
    "from keras import initializers,regularizers,constraints\n",
    "from keras.preprocessing.text import Tokenizer, text_to_word_sequence\n",
    "from keras.preprocessing.sequence import pad_sequences\n",
    "from keras.utils.np_utils import to_categorical\n",
    "from keras.layers import Reshape, Input, Embedding, Flatten, Dense, Dropout, BatchNormalization, Activation #, merge\n",
    "from keras.layers import TimeDistributed, LSTM, GRU, Bidirectional, Convolution1D, MaxPooling1D, MaxPooling2D\n",
    "from keras.layers.core import RepeatVector #, Reshape\n",
    "from keras.callbacks import ModelCheckpoint, EarlyStopping, ReduceLROnPlateau\n",
    "from keras.models import Sequential, Model, load_model\n",
    "\n",
    "def reset_seeds():\n",
    "    np.random.seed(SEED) \n",
    "    python_random.seed(SEED)\n",
    "    tf.random.set_seed(SEED)\n",
    "    os.environ[\"PYTHONHASHSEED\"] = str(SEED)\n",
    "\n",
    "# from tensorflow.keras import Model\n",
    "# from attention import Attention_input1, Attention_input2\n",
    "# from keras.optimizers import SGD, RMSprop, Adagrad"
   ]
  },
  {
   "cell_type": "code",
   "execution_count": 2,
   "id": "990b2795",
   "metadata": {
    "execution": {
     "iopub.execute_input": "2022-07-13T17:21:22.570858Z",
     "iopub.status.busy": "2022-07-13T17:21:22.569971Z",
     "iopub.status.idle": "2022-07-13T17:21:22.575902Z",
     "shell.execute_reply": "2022-07-13T17:21:22.574570Z"
    },
    "papermill": {
     "duration": 0.019121,
     "end_time": "2022-07-13T17:21:22.578384",
     "exception": false,
     "start_time": "2022-07-13T17:21:22.559263",
     "status": "completed"
    },
    "tags": []
   },
   "outputs": [],
   "source": [
    "NUM_CLASSES = 3"
   ]
  },
  {
   "cell_type": "code",
   "execution_count": 3,
   "id": "f35b597e",
   "metadata": {
    "execution": {
     "iopub.execute_input": "2022-07-13T17:21:22.599228Z",
     "iopub.status.busy": "2022-07-13T17:21:22.597910Z",
     "iopub.status.idle": "2022-07-13T17:21:22.607635Z",
     "shell.execute_reply": "2022-07-13T17:21:22.606367Z"
    },
    "papermill": {
     "duration": 0.023088,
     "end_time": "2022-07-13T17:21:22.610330",
     "exception": false,
     "start_time": "2022-07-13T17:21:22.587242",
     "status": "completed"
    },
    "tags": []
   },
   "outputs": [],
   "source": [
    "def read_hdf5(path):\n",
    "    read_file = h5py.File(path, 'r')\n",
    "    \n",
    "    feature_names = list(read_file.keys())\n",
    "    loaded_data = []\n",
    "    \n",
    "    for name in feature_names:\n",
    "        dataset = read_file[name][:]\n",
    "        if dataset.dtype == np.dtype('object'):\n",
    "            dataset = np.array([x.decode('UTF-8') for x in dataset])            \n",
    "        loaded_data.append((name, dataset))\n",
    "\n",
    "    return loaded_data\n",
    "\n",
    "def loadz(path):\n",
    "    data = np.load(path)['arr_0']\n",
    "    return data"
   ]
  },
  {
   "cell_type": "code",
   "execution_count": 4,
   "id": "a4736170",
   "metadata": {
    "execution": {
     "iopub.execute_input": "2022-07-13T17:21:22.630701Z",
     "iopub.status.busy": "2022-07-13T17:21:22.630342Z",
     "iopub.status.idle": "2022-07-13T17:21:22.640744Z",
     "shell.execute_reply": "2022-07-13T17:21:22.639425Z"
    },
    "papermill": {
     "duration": 0.023667,
     "end_time": "2022-07-13T17:21:22.643164",
     "exception": false,
     "start_time": "2022-07-13T17:21:22.619497",
     "status": "completed"
    },
    "tags": []
   },
   "outputs": [],
   "source": [
    "def load_labels(path):\n",
    "    data = read_hdf5(path)\n",
    "\n",
    "    for x in data:\n",
    "        if x[0] == 'multimodal-labels':\n",
    "            labels = x[1]\n",
    "        if x[0] == 'text-labels':\n",
    "            text_labels = x[1]\n",
    "        if x[0] == 'image-labels':\n",
    "            image_labels = x[1]\n",
    "        \n",
    "    return labels, text_labels, image_labels\n",
    "\n",
    "def merge_mvsa(mvsa_single, mvsa_multiple):\n",
    "    mvsa = np.concatenate((mvsa_single, mvsa_multiple), axis=0)\n",
    "    return mvsa\n",
    "\n",
    "def load_mvsa_feature(feature_name, merge=False):\n",
    "    folder_path = os.path.join('../input/mvsa-features/', feature_name)\n",
    "    single_file = 'mvsa-single-{}.npz'.format(feature_name)\n",
    "    multiple_file = 'mvsa-multiple-{}.npz'.format(feature_name)\n",
    "    mvsa_single = loadz(os.path.join(folder_path, single_file))\n",
    "    mvsa_multiple = loadz(os.path.join(folder_path, multiple_file))\n",
    "    \n",
    "    if merge == True:\n",
    "        return merge_mvsa(mvsa_single, mvsa_multiple)\n",
    "    \n",
    "    return mvsa_single, mvsa_multiple"
   ]
  },
  {
   "cell_type": "code",
   "execution_count": 5,
   "id": "d6d9298f",
   "metadata": {
    "execution": {
     "iopub.execute_input": "2022-07-13T17:21:22.665714Z",
     "iopub.status.busy": "2022-07-13T17:21:22.663766Z",
     "iopub.status.idle": "2022-07-13T17:21:22.671582Z",
     "shell.execute_reply": "2022-07-13T17:21:22.670315Z"
    },
    "papermill": {
     "duration": 0.021457,
     "end_time": "2022-07-13T17:21:22.674344",
     "exception": false,
     "start_time": "2022-07-13T17:21:22.652887",
     "status": "completed"
    },
    "tags": []
   },
   "outputs": [],
   "source": [
    "# e.g. validation_split=0.1 -----> 8:1:1 ratio of train, val, test\n",
    "def split_data(data, validation_split):\n",
    "    num_val = int(validation_split * data.shape[0])\n",
    "    data_train = data[:-(num_val*2)]\n",
    "    data_val = data[-(num_val*2):-(num_val)]\n",
    "    data_test = data[-num_val:]\n",
    "    return data_train, data_val, data_test"
   ]
  },
  {
   "cell_type": "code",
   "execution_count": 6,
   "id": "47179de4",
   "metadata": {
    "execution": {
     "iopub.execute_input": "2022-07-13T17:21:22.694955Z",
     "iopub.status.busy": "2022-07-13T17:21:22.694627Z",
     "iopub.status.idle": "2022-07-13T17:21:22.707036Z",
     "shell.execute_reply": "2022-07-13T17:21:22.705679Z"
    },
    "papermill": {
     "duration": 0.025544,
     "end_time": "2022-07-13T17:21:22.709635",
     "exception": false,
     "start_time": "2022-07-13T17:21:22.684091",
     "status": "completed"
    },
    "tags": []
   },
   "outputs": [],
   "source": [
    "def weighted_average(weights, probs):\n",
    "    ''' Calculate the weighted average probability distribution from all input probs and its weights \n",
    "    weights: weights list (or array)\n",
    "    probs: probability distributions array list\n",
    "    '''\n",
    "    output_probs = []\n",
    "    weighted_probs = [probs[i] * weights[i] for i in range(len(weights))]\n",
    "    for i in range(len(probs[0])):\n",
    "        sum_prob = np.zeros(len(probs[0][0]))\n",
    "        for j in range(len(weights)):\n",
    "            sum_prob = np.sum((sum_prob, weighted_probs[j][i]), axis=0)\n",
    "        output_probs.append(sum_prob)\n",
    "    return np.asarray(output_probs, dtype='float32')\n",
    "\n",
    "def get_average_weights(*scores, inverse=False):\n",
    "    ''' Get the corresponding weight of each input score \n",
    "    inverse: (bool) get inverse weights value in case of the smaller score value, the bigger weight value (such as model loss)\n",
    "    '''\n",
    "    \n",
    "    weights = []\n",
    "    for score in scores:\n",
    "        weights.append(score/np.sum(scores))\n",
    "    \n",
    "    if inverse == True:\n",
    "        inverse_weights = []\n",
    "        inverse = [1/weight for weight in weights]\n",
    "        for inv in inverse:\n",
    "            inverse_weights.append(inv/np.sum(inverse))\n",
    "        weights = inverse_weights\n",
    "\n",
    "    return weights"
   ]
  },
  {
   "cell_type": "code",
   "execution_count": 7,
   "id": "be58ce7c",
   "metadata": {
    "execution": {
     "iopub.execute_input": "2022-07-13T17:21:22.731696Z",
     "iopub.status.busy": "2022-07-13T17:21:22.730886Z",
     "iopub.status.idle": "2022-07-13T17:21:29.190516Z",
     "shell.execute_reply": "2022-07-13T17:21:29.189059Z"
    },
    "papermill": {
     "duration": 6.474357,
     "end_time": "2022-07-13T17:21:29.194211",
     "exception": false,
     "start_time": "2022-07-13T17:21:22.719854",
     "status": "completed"
    },
    "tags": []
   },
   "outputs": [
    {
     "name": "stderr",
     "output_type": "stream",
     "text": [
      "2022-07-13 17:21:22.841430: I tensorflow/stream_executor/cuda/cuda_gpu_executor.cc:937] successful NUMA node read from SysFS had negative value (-1), but there must be at least one NUMA node, so returning NUMA node zero\n",
      "2022-07-13 17:21:22.843097: I tensorflow/stream_executor/cuda/cuda_gpu_executor.cc:937] successful NUMA node read from SysFS had negative value (-1), but there must be at least one NUMA node, so returning NUMA node zero\n",
      "2022-07-13 17:21:22.844279: I tensorflow/stream_executor/cuda/cuda_gpu_executor.cc:937] successful NUMA node read from SysFS had negative value (-1), but there must be at least one NUMA node, so returning NUMA node zero\n",
      "2022-07-13 17:21:22.845571: I tensorflow/core/platform/cpu_feature_guard.cc:142] This TensorFlow binary is optimized with oneAPI Deep Neural Network Library (oneDNN) to use the following CPU instructions in performance-critical operations:  AVX2 FMA\n",
      "To enable them in other operations, rebuild TensorFlow with the appropriate compiler flags.\n",
      "2022-07-13 17:21:22.845935: I tensorflow/stream_executor/cuda/cuda_gpu_executor.cc:937] successful NUMA node read from SysFS had negative value (-1), but there must be at least one NUMA node, so returning NUMA node zero\n",
      "2022-07-13 17:21:22.847226: I tensorflow/stream_executor/cuda/cuda_gpu_executor.cc:937] successful NUMA node read from SysFS had negative value (-1), but there must be at least one NUMA node, so returning NUMA node zero\n",
      "2022-07-13 17:21:22.848335: I tensorflow/stream_executor/cuda/cuda_gpu_executor.cc:937] successful NUMA node read from SysFS had negative value (-1), but there must be at least one NUMA node, so returning NUMA node zero\n",
      "2022-07-13 17:21:28.842583: I tensorflow/stream_executor/cuda/cuda_gpu_executor.cc:937] successful NUMA node read from SysFS had negative value (-1), but there must be at least one NUMA node, so returning NUMA node zero\n",
      "2022-07-13 17:21:28.843735: I tensorflow/stream_executor/cuda/cuda_gpu_executor.cc:937] successful NUMA node read from SysFS had negative value (-1), but there must be at least one NUMA node, so returning NUMA node zero\n",
      "2022-07-13 17:21:28.844650: I tensorflow/stream_executor/cuda/cuda_gpu_executor.cc:937] successful NUMA node read from SysFS had negative value (-1), but there must be at least one NUMA node, so returning NUMA node zero\n",
      "2022-07-13 17:21:28.845495: I tensorflow/core/common_runtime/gpu/gpu_device.cc:1510] Created device /job:localhost/replica:0/task:0/device:GPU:0 with 15047 MB memory:  -> device: 0, name: Tesla P100-PCIE-16GB, pci bus id: 0000:00:04.0, compute capability: 6.0\n"
     ]
    }
   ],
   "source": [
    "f1_macro = tfa.metrics.F1Score(num_classes=NUM_CLASSES, average='macro', name='f1_macro')\n",
    "f1_weighted = tfa.metrics.F1Score(num_classes=NUM_CLASSES, average='weighted', name='f1_weighted')\n",
    "    \n",
    "def create_model_text(input_shape, lstm=True):\n",
    "    text_input = Input(shape=input_shape)\n",
    "    if lstm == True:\n",
    "        reshape_text = Reshape((1, -1)) (text_input)\n",
    "        lstm = LSTM(NUM_LSTM) (reshape_text)\n",
    "        outputs = Dense(NUM_CLASSES, activation='softmax') (lstm)\n",
    "    else:\n",
    "        outputs = Dense(NUM_CLASSES, activation='softmax') (text_input)\n",
    "    model = Model(text_input, outputs)\n",
    "    model.compile(optimizer='adam', loss='categorical_crossentropy', metrics=['accuracy', f1_macro, f1_weighted])\n",
    "    return model\n",
    "\n",
    "def create_model_image(input_shape):\n",
    "    image_input = Input(shape=input_shape)\n",
    "    outputs = Dense(NUM_CLASSES, activation='softmax') (image_input)\n",
    "    model = Model(image_input, outputs)\n",
    "    model.compile(optimizer='adam', loss='categorical_crossentropy', metrics=['accuracy', f1_macro, f1_weighted])\n",
    "    return model\n",
    "\n",
    "def create_model_IF(text_shape, image_shape, lstm=True):\n",
    "    image_input = Input(shape=image_shape)\n",
    "    text_input = Input(shape=text_shape)\n",
    "    if lstm == True:\n",
    "        text_reshape = Reshape((1, -1)) (text_input)\n",
    "        text_lstm = LSTM(NUM_LSTM) (text_reshape)\n",
    "#     text_lstm = Dropout(DROPOUT_RATE) (text_lstm)\n",
    "        text_image_concat = tf.keras.layers.Concatenate(axis=1)([text_lstm, image_input])\n",
    "    else:\n",
    "        text_image_concat = tf.keras.layers.Concatenate(axis=1)([text_input, image_input])\n",
    "    concat_self_attention = tf.keras.layers.Attention() ([text_image_concat, text_image_concat])\n",
    "#     concat_self_attention = Dropout(DROPOUT_RATE) (concat_self_attention)\n",
    "    outputs = Dense(NUM_CLASSES, activation='softmax') (concat_self_attention)\n",
    "    model = Model([text_input, image_input], outputs)\n",
    "    model.compile(optimizer='adam', loss='categorical_crossentropy', metrics=['accuracy', f1_macro, f1_weighted])\n",
    "    return model"
   ]
  },
  {
   "cell_type": "code",
   "execution_count": 8,
   "id": "d179efcb",
   "metadata": {
    "execution": {
     "iopub.execute_input": "2022-07-13T17:21:29.215636Z",
     "iopub.status.busy": "2022-07-13T17:21:29.215219Z",
     "iopub.status.idle": "2022-07-13T17:21:29.237026Z",
     "shell.execute_reply": "2022-07-13T17:21:29.235728Z"
    },
    "papermill": {
     "duration": 0.035946,
     "end_time": "2022-07-13T17:21:29.240270",
     "exception": false,
     "start_time": "2022-07-13T17:21:29.204324",
     "status": "completed"
    },
    "tags": []
   },
   "outputs": [],
   "source": [
    "def run_and_evaluate_IF(name, X1, X2, y, verbose=0, lstm=True):\n",
    "    '''  Train and test Intermediate Fusion model Multimodal Labels \n",
    "    X1: text input\n",
    "    X2: image input\n",
    "    y: multimodal labels\n",
    "    '''\n",
    "    y = le.fit_transform(y)\n",
    "    y = to_categorical(np.asarray(y))\n",
    "    \n",
    "    random_idx = np.random.permutation(len(y))\n",
    "    X1, X2, y = X1[random_idx], X2[random_idx], y[random_idx]\n",
    "    \n",
    "    X1_train, X1_val, X1_test = split_data(X1, VALIDATION_SPLIT)\n",
    "    X2_train, X2_val, X2_test = split_data(X2, VALIDATION_SPLIT)\n",
    "    y_train, y_val, y_test = split_data(y, VALIDATION_SPLIT)\n",
    "    \n",
    "    oversample = BorderlineSMOTE(sampling_strategy='minority', random_state=SEED, kind='borderline-2')\n",
    "#     oversample = SMOTE(sampling_strategy='minority', random_state=SEED)\n",
    "    X1_train, _ = oversample.fit_resample(X1_train, y_train)\n",
    "    X2_train, y_train = oversample.fit_resample(X2_train, y_train)\n",
    "\n",
    "    \n",
    "    if lstm == False:\n",
    "        model = create_model_IF(X1_train.shape[1:], X2_train.shape[1:], lstm=False)\n",
    "    else:\n",
    "        model = create_model_IF(X1_train.shape[1:], X2_train.shape[1:])\n",
    "    early_stopping = EarlyStopping(monitor='val_loss', min_delta=1e-4, patience=EARLY_STOPPING)\n",
    "    checkpoint = ModelCheckpoint('./model_checkpoint/{}.h5'.format(name), save_best_only=True, verbose=verbose)\n",
    "    \n",
    "    if 'multiple' in name:\n",
    "        batch_size = 256\n",
    "    else:\n",
    "        batch_size = BATCH_SIZE # 128\n",
    "    \n",
    "    history = model.fit([X1_train, X2_train], y_train, validation_data=([X1_val, X2_val], y_val), \n",
    "                        epochs=EPOCHS, batch_size=batch_size, verbose=verbose,\n",
    "                        callbacks=[checkpoint, early_stopping])\n",
    "    if verbose == 1:\n",
    "        best_epoch = np.argmin(history.history['val_loss'])\n",
    "        print('\\nCheckpoint loaded at epoch:', best_epoch)\n",
    "        \n",
    "    return history, evaluate_model_IF(model, X1_test, X2_test, y_test, checkpoint=name, verbose=verbose)\n",
    "\n",
    "def evaluate_model_IF(model, X_texts, X_images, y_test, checkpoint=None, verbose=1):\n",
    "    if checkpoint is not None:\n",
    "        model = load_model('./model_checkpoint/{}.h5'.format(checkpoint))\n",
    "    \n",
    "    loss, acc, f1_macro, f1_weighted = model.evaluate([X_texts, X_images], y_test, verbose=verbose)\n",
    "\n",
    "    if verbose == 1:\n",
    "        print('Loss:', loss)\n",
    "        print('Accuracy:', acc)\n",
    "        print('Macro F1-score:', f1_macro)\n",
    "        print('Weighted F1-score:', f1_weighted)\n",
    "\n",
    "        y_pred = model.predict([X_texts, X_images])\n",
    "        matrix = confusion_matrix(le.inverse_transform(y_test.argmax(axis=1)), le.inverse_transform(y_pred.argmax(axis=1)), \n",
    "                                  labels=list(le.classes_))\n",
    "        cm_disp = ConfusionMatrixDisplay(confusion_matrix=matrix,\n",
    "                                  display_labels=list(le.classes_))\n",
    "        cm_disp.plot()\n",
    "        plt.show()\n",
    "        \n",
    "    return loss, acc, f1_macro, f1_weighted"
   ]
  },
  {
   "cell_type": "code",
   "execution_count": 9,
   "id": "95fdc644",
   "metadata": {
    "execution": {
     "iopub.execute_input": "2022-07-13T17:21:29.261810Z",
     "iopub.status.busy": "2022-07-13T17:21:29.261438Z",
     "iopub.status.idle": "2022-07-13T17:21:29.281006Z",
     "shell.execute_reply": "2022-07-13T17:21:29.279703Z"
    },
    "papermill": {
     "duration": 0.033609,
     "end_time": "2022-07-13T17:21:29.283669",
     "exception": false,
     "start_time": "2022-07-13T17:21:29.250060",
     "status": "completed"
    },
    "tags": []
   },
   "outputs": [],
   "source": [
    "def run_and_evaluate_LF(name, X1, X2, y, verbose=0, lstm=True):\n",
    "    ''' Train and test Late Fusion model only with Multimodal Labels \n",
    "    X1: text input\n",
    "    X2: image input\n",
    "    y: multimodal labels\n",
    "    y1: text labels\n",
    "    y2: image labels\n",
    "    verbose: 0 or 1 to print tracking on progress\n",
    "    '''\n",
    "    y = le.fit_transform(y)\n",
    "    y = to_categorical(np.asarray(y))\n",
    "\n",
    "    random_idx = np.random.permutation(len(y))\n",
    "    X1, X2, y = X1[random_idx], X2[random_idx], y[random_idx]\n",
    "    \n",
    "    X1_train, X1_val, X1_test = split_data(X1, VALIDATION_SPLIT)\n",
    "    X2_train, X2_val, X2_test = split_data(X2, VALIDATION_SPLIT)\n",
    "    y_train, y_val, y_test = split_data(y, VALIDATION_SPLIT)\n",
    "    \n",
    "    oversample = BorderlineSMOTE(sampling_strategy='minority', random_state=SEED, kind='borderline-2')\n",
    "#     oversample = SMOTE(sampling_strategy='minority', random_state=SEED)\n",
    "    X1_train, _ = oversample.fit_resample(X1_train, y_train)\n",
    "    X2_train, y_train = oversample.fit_resample(X2_train, y_train)\n",
    "\n",
    "    if lstm == False:\n",
    "        model_text = create_model_text(X1_train.shape[1:], lstm=False)\n",
    "    else:\n",
    "        model_text = create_model_text(X1_train.shape[1:])\n",
    "    model_image = create_model_image(X2_train.shape[1:])\n",
    "\n",
    "    early_stopping1 = EarlyStopping(monitor='val_loss', min_delta=1e-4, patience=EARLY_STOPPING)\n",
    "    early_stopping2 = EarlyStopping(monitor='val_loss', min_delta=1e-4, patience=EARLY_STOPPING)\n",
    "    checkpoint_text = ModelCheckpoint('./model_checkpoint/{}-text.h5'.format(name), save_best_only=True, verbose=verbose)\n",
    "    checkpoint_image = ModelCheckpoint('./model_checkpoint/{}-image.h5'.format(name), save_best_only=True, verbose=verbose)\n",
    "    \n",
    "    if 'multiple' in name:\n",
    "        batch_size = 256\n",
    "    else:\n",
    "        batch_size = BATCH_SIZE # 128\n",
    "    \n",
    "    history_text = model_text.fit(X1_train, y_train, validation_data=(X1_val, y_val), \n",
    "                                  epochs=EPOCHS, batch_size=batch_size, verbose=verbose,\n",
    "                                  callbacks=[checkpoint_text, early_stopping1])\n",
    "    \n",
    "    history_image = model_image.fit(X2_train, y_train, validation_data=(X2_val, y_val), \n",
    "                                    epochs=EPOCHS, batch_size=batch_size, verbose=verbose,\n",
    "                                    callbacks=[checkpoint_image, early_stopping2])\n",
    "    \n",
    "    best_val_acc_text = np.min(history_text.history['val_accuracy'])\n",
    "    best_val_acc_image = np.min(history_image.history['val_accuracy'])\n",
    "\n",
    "    weights = get_average_weights(best_val_acc_text, best_val_acc_image)\n",
    "\n",
    "    model_text = load_model('./model_checkpoint/{}-text.h5'.format(name))\n",
    "    model_image = load_model('./model_checkpoint/{}-image.h5'.format(name))\n",
    "\n",
    "    y_pred_text = model_text.predict(X1_test)\n",
    "    y_pred_image = model_image.predict(X2_test)\n",
    "\n",
    "    y_pred = weighted_average(weights, np.asarray([y_pred_text, y_pred_image], dtype='float32'))\n",
    "\n",
    "    best_epoch_text = np.argmin(history_text.history['val_loss'])\n",
    "    best_epoch_image = np.argmin(history_image.history['val_loss'])\n",
    "\n",
    "    if verbose == 1:\n",
    "        print('Checkpoint of text model loaded at epoch:', best_epoch_text)\n",
    "        print('Checkpoint of image model loaded at epoch:', best_epoch_image)\n",
    "\n",
    "    return evaluate_model_LF(y_test, y_pred, verbose=verbose)"
   ]
  },
  {
   "cell_type": "code",
   "execution_count": 10,
   "id": "1542eb00",
   "metadata": {
    "execution": {
     "iopub.execute_input": "2022-07-13T17:21:29.304872Z",
     "iopub.status.busy": "2022-07-13T17:21:29.304536Z",
     "iopub.status.idle": "2022-07-13T17:21:29.332817Z",
     "shell.execute_reply": "2022-07-13T17:21:29.331389Z"
    },
    "papermill": {
     "duration": 0.042222,
     "end_time": "2022-07-13T17:21:29.335707",
     "exception": false,
     "start_time": "2022-07-13T17:21:29.293485",
     "status": "completed"
    },
    "tags": []
   },
   "outputs": [],
   "source": [
    "def run_and_evaluate_HF(name, X1, X2, y, verbose=0, lstm=True):\n",
    "    ''' Train Hybrid Fusion model and test only with Multimodal Labels\n",
    "    X1: text input\n",
    "    X2: image input\n",
    "    y: labels\n",
    "    verbose: 0 or 1 to print tracking on progress\n",
    "    '''\n",
    "    y = le.fit_transform(y)\n",
    "    y = to_categorical(np.asarray(y))\n",
    "    \n",
    "    random_idx = np.random.permutation(len(y))\n",
    "    X1, X2, y = X1[random_idx], X2[random_idx], y[random_idx]\n",
    "    \n",
    "    X1_train, X1_val, X1_test = split_data(X1, VALIDATION_SPLIT)\n",
    "    X2_train, X2_val, X2_test = split_data(X2, VALIDATION_SPLIT)\n",
    "    y_train, y_val, y_test = split_data(y, VALIDATION_SPLIT)\n",
    "    \n",
    "    oversample = BorderlineSMOTE(sampling_strategy='minority', random_state=SEED, kind='borderline-2')\n",
    "#     oversample = SMOTE(sampling_strategy='minority', random_state=SEED)\n",
    "    X1_train, _ = oversample.fit_resample(X1_train, y_train)\n",
    "    X2_train, y_train = oversample.fit_resample(X2_train, y_train)\n",
    "    \n",
    "    if lstm == False:\n",
    "        model_text = create_model_text(X1_train.shape[1:], lstm=False)\n",
    "        model_IF = create_model_IF(X1_train.shape[1:], X2_train.shape[1:], lstm=False)\n",
    "    model_text = create_model_text(X1_train.shape[1:])\n",
    "    model_IF = create_model_IF(X1_train.shape[1:], X2_train.shape[1:])\n",
    "    model_image = create_model_image(X2_train.shape[1:])\n",
    "\n",
    "    early_stopping1 = EarlyStopping(monitor='val_loss', min_delta=1e-4, patience=EARLY_STOPPING)\n",
    "    early_stopping2 = EarlyStopping(monitor='val_loss', min_delta=1e-4, patience=EARLY_STOPPING)\n",
    "    early_stopping3 = EarlyStopping(monitor='val_loss', min_delta=1e-4, patience=EARLY_STOPPING)\n",
    "\n",
    "    checkpoint_text = ModelCheckpoint('./model_checkpoint/{}-text.h5'.format(name), save_best_only=True, verbose=verbose)\n",
    "    checkpoint_image = ModelCheckpoint('./model_checkpoint/{}-image.h5'.format(name), save_best_only=True, verbose=verbose)\n",
    "    checkpoint_IF = ModelCheckpoint('./model_checkpoint/{}-IF.h5'.format(name), save_best_only=True, verbose=verbose)\n",
    "\n",
    "    if 'multiple' in name:\n",
    "        batch_size = 256\n",
    "    else:\n",
    "        batch_size = BATCH_SIZE # 128\n",
    "    \n",
    "    history_text = model_text.fit(X1_train, y_train, validation_data=(X1_val, y_val), \n",
    "                        epochs=EPOCHS, batch_size=batch_size, verbose=verbose,\n",
    "                        callbacks=[checkpoint_text, early_stopping1])\n",
    "    \n",
    "    history_image = model_image.fit(X2_train, y_train, validation_data=(X2_val, y_val), \n",
    "                        epochs=EPOCHS, batch_size=batch_size, verbose=verbose,\n",
    "                        callbacks=[checkpoint_image, early_stopping2])\n",
    "    \n",
    "    history_IF = model_IF.fit([X1_train, X2_train], y_train, validation_data=([X1_val, X2_val], y_val), \n",
    "                        epochs=EPOCHS, batch_size=batch_size, verbose=verbose,\n",
    "                        callbacks=[checkpoint_IF, early_stopping3])\n",
    "    \n",
    "    best_val_acc_text = np.min(history_text.history['val_accuracy'])\n",
    "    best_val_acc_image = np.min(history_image.history['val_accuracy'])\n",
    "    best_val_acc_IF = np.min(history_IF.history['val_accuracy'])\n",
    "    \n",
    "    weights = get_average_weights(best_val_acc_text, best_val_acc_image, best_val_acc_IF)\n",
    "\n",
    "    model_text = load_model('./model_checkpoint/{}-text.h5'.format(name))\n",
    "    model_image = load_model('./model_checkpoint/{}-image.h5'.format(name))\n",
    "    model_IF = load_model('./model_checkpoint/{}-IF.h5'.format(name))\n",
    "\n",
    "    y_pred_text = model_text.predict(X1_test)\n",
    "    y_pred_image = model_image.predict(X2_test)\n",
    "    y_pred_IF = model_IF.predict([X1_test, X2_test])\n",
    "    \n",
    "    y_pred = weighted_average(weights, np.asarray([y_pred_text, y_pred_image, y_pred_IF], dtype='float32'))\n",
    "    \n",
    "    best_epoch_text = np.argmin(history_text.history['val_loss'])\n",
    "    best_epoch_image = np.argmin(history_image.history['val_loss'])\n",
    "    best_epoch_IF = np.argmin(history_IF.history['val_loss'])\n",
    "    \n",
    "    if verbose == 1:\n",
    "        print('Checkpoint of text model loaded at epoch:', best_epoch_text)\n",
    "        print('Checkpoint of image model loaded at epoch:', best_epoch_image)\n",
    "        print('Checkpoint of IF model loaded at epoch:', best_epoch_IF)\n",
    "\n",
    "    return evaluate_model_LF(y_test, y_pred, verbose=verbose)"
   ]
  },
  {
   "cell_type": "code",
   "execution_count": 11,
   "id": "17347f73",
   "metadata": {
    "execution": {
     "iopub.execute_input": "2022-07-13T17:21:29.357720Z",
     "iopub.status.busy": "2022-07-13T17:21:29.357318Z",
     "iopub.status.idle": "2022-07-13T17:21:29.368145Z",
     "shell.execute_reply": "2022-07-13T17:21:29.366839Z"
    },
    "papermill": {
     "duration": 0.024521,
     "end_time": "2022-07-13T17:21:29.370626",
     "exception": false,
     "start_time": "2022-07-13T17:21:29.346105",
     "status": "completed"
    },
    "tags": []
   },
   "outputs": [],
   "source": [
    "def evaluate_model_LF(y_true, y_pred, verbose=0):\n",
    "    \n",
    "    y_pred = le.inverse_transform(y_pred.argmax(axis=1))\n",
    "    y_true = le.inverse_transform(y_true.argmax(axis=1))\n",
    "\n",
    "    acc = accuracy_score(y_true, y_pred)\n",
    "    f1_macro = f1_score(y_true, y_pred, average='macro')\n",
    "    f1_weighted = f1_score(y_true, y_pred, average='weighted')\n",
    "\n",
    "    if verbose == 1:\n",
    "        print(classification_report(y_true, y_pred))\n",
    "        matrix = confusion_matrix(y_true, y_pred,\n",
    "                                  labels=list(le.classes_))\n",
    "        cm_disp = ConfusionMatrixDisplay(confusion_matrix=matrix,\n",
    "                                  display_labels=list(le.classes_))\n",
    "        cm_disp.plot()\n",
    "        plt.show()\n",
    "\n",
    "    return acc, f1_macro, f1_weighted"
   ]
  },
  {
   "cell_type": "code",
   "execution_count": 12,
   "id": "2fffe0a0",
   "metadata": {
    "execution": {
     "iopub.execute_input": "2022-07-13T17:21:29.393381Z",
     "iopub.status.busy": "2022-07-13T17:21:29.392082Z",
     "iopub.status.idle": "2022-07-13T17:21:29.405496Z",
     "shell.execute_reply": "2022-07-13T17:21:29.404250Z"
    },
    "papermill": {
     "duration": 0.026961,
     "end_time": "2022-07-13T17:21:29.408161",
     "exception": false,
     "start_time": "2022-07-13T17:21:29.381200",
     "status": "completed"
    },
    "tags": []
   },
   "outputs": [],
   "source": [
    "def plot_metrics(history):\n",
    "    fig = plt.figure(figsize=(20, 5))\n",
    "\n",
    "    fig.add_subplot(1, 4, 1)\n",
    "    plt.plot(history.history['loss'])\n",
    "    plt.plot(history.history['val_loss'])\n",
    "    plt.title('LOSS')\n",
    "    plt.ylabel('loss')\n",
    "    plt.xlabel('epoch')\n",
    "    plt.legend(['train', 'val'], loc='best')\n",
    "\n",
    "    fig.add_subplot(1, 4, 2)\n",
    "    plt.plot(history.history['accuracy'])\n",
    "    plt.plot(history.history['val_accuracy'])\n",
    "    plt.title('ACCURACY')\n",
    "    plt.ylabel('accuracy')\n",
    "    plt.xlabel('epoch')\n",
    "    plt.legend(['train', 'val'], loc='best')\n",
    "\n",
    "    fig.add_subplot(1, 4, 3)\n",
    "    plt.plot(history.history['f1_macro'])\n",
    "    plt.plot(history.history['val_f1_macro'])\n",
    "    plt.title('Macro F1-SCORE')\n",
    "    plt.ylabel('f1-macro')\n",
    "    plt.xlabel('epoch')\n",
    "    plt.legend(['train', 'val'], loc='best')\n",
    "    \n",
    "    fig.add_subplot(1, 4, 4)\n",
    "    plt.plot(history.history['f1_weighted'])\n",
    "    plt.plot(history.history['val_f1_weighted'])\n",
    "    plt.title('Weighted F1-SCORE')\n",
    "    plt.ylabel('f1-weighted')\n",
    "    plt.xlabel('epoch')\n",
    "    plt.legend(['train', 'val'], loc='best')\n",
    "\n",
    "    plt.show()"
   ]
  },
  {
   "cell_type": "code",
   "execution_count": 13,
   "id": "e0e783f5",
   "metadata": {
    "execution": {
     "iopub.execute_input": "2022-07-13T17:21:29.429912Z",
     "iopub.status.busy": "2022-07-13T17:21:29.428700Z",
     "iopub.status.idle": "2022-07-13T17:21:29.440133Z",
     "shell.execute_reply": "2022-07-13T17:21:29.438990Z"
    },
    "papermill": {
     "duration": 0.024681,
     "end_time": "2022-07-13T17:21:29.442659",
     "exception": false,
     "start_time": "2022-07-13T17:21:29.417978",
     "status": "completed"
    },
    "tags": []
   },
   "outputs": [],
   "source": [
    "def style_dataframe(dataframe):\n",
    "    return dataframe.style.highlight_max(subset=['Accuracy', 'F1-macro', 'F1-weighted'], props='color:lawngreen', axis=0)\\\n",
    "                          .highlight_min(subset=['Accuracy', 'F1-macro', 'F1-weighted'], props='color:tomato', axis=0)\n",
    "\n",
    "def highlight_neg(cell):\n",
    "    if type(cell) != str and cell < 0 :\n",
    "        return 'color: tomato'\n",
    "    else:\n",
    "        return 'color: lawngreen'\n",
    "\n",
    "def display_dataframes(dfs, names=[], index=False):\n",
    "    def to_df(x):\n",
    "        if isinstance(x, pd.Series):\n",
    "            return pd.DataFrame(x)\n",
    "        else:\n",
    "            return x\n",
    "    html_str = ''\n",
    "    if names:\n",
    "        html_str += ('<tr>' + \n",
    "                     ''.join(f'<td style=\"text-align:center\">{name}</td>' for name in names) + \n",
    "                     '</tr>')\n",
    "    html_str += ('<tr>' + \n",
    "                 ''.join(f'<td style=\"vertical-align:top\"> {to_df(df).to_html()}</td>' \n",
    "                         for df in dfs) + \n",
    "                 '</tr>')\n",
    "    html_str = f'<table>{html_str}</table>'\n",
    "    html_str = html_str.replace('table','table style=\"display:inline\"')\n",
    "    display_html(html_str, raw=True)"
   ]
  },
  {
   "cell_type": "markdown",
   "id": "1a3d3190",
   "metadata": {
    "papermill": {
     "duration": 0.00935,
     "end_time": "2022-07-13T17:21:29.461804",
     "exception": false,
     "start_time": "2022-07-13T17:21:29.452454",
     "status": "completed"
    },
    "tags": []
   },
   "source": [
    "# Load data"
   ]
  },
  {
   "cell_type": "code",
   "execution_count": 14,
   "id": "00a3f01a",
   "metadata": {
    "execution": {
     "iopub.execute_input": "2022-07-13T17:21:29.483314Z",
     "iopub.status.busy": "2022-07-13T17:21:29.482914Z",
     "iopub.status.idle": "2022-07-13T17:21:44.085139Z",
     "shell.execute_reply": "2022-07-13T17:21:44.083722Z"
    },
    "papermill": {
     "duration": 14.616807,
     "end_time": "2022-07-13T17:21:44.088370",
     "exception": false,
     "start_time": "2022-07-13T17:21:29.471563",
     "status": "completed"
    },
    "tags": []
   },
   "outputs": [],
   "source": [
    "## Choose best\n",
    "# Load text feature\n",
    "mvsa_single_bert, mvsa_multiple_bert = load_mvsa_feature('bert-base')\n",
    "mvsa_single_pos_bow, mvsa_multiple_pos_bow = load_mvsa_feature('pos-bow')\n",
    "mvsa_single_pos_tfidf, mvsa_multiple_pos_tfidf = load_mvsa_feature('pos-tfidf')\n",
    "mvsa_single_ner_bow, mvsa_multiple_ner_bow = load_mvsa_feature('ner-bow')\n",
    "mvsa_single_ner_tfidf, mvsa_multiple_ner_tfidf = load_mvsa_feature('ner-tfidf')\n",
    "\n",
    "## Load image feature\n",
    "mvsa_single_vgg16, mvsa_multiple_vgg16 = load_mvsa_feature('vgg16')\n",
    "mvsa_single_vgg19, mvsa_multiple_vgg19 = load_mvsa_feature('vgg19')\n",
    "mvsa_single_resnet50, mvsa_multiple_resnet50 = load_mvsa_feature('resnet50')\n",
    "mvsa_single_resnet101, mvsa_multiple_resnet101 = load_mvsa_feature('resnet101')\n",
    "mvsa_single_resnet152, mvsa_multiple_resnet152 = load_mvsa_feature('resnet152')\n",
    "mvsa_single_densenet121, mvsa_multiple_densenet121 = load_mvsa_feature('densenet121')\n",
    "mvsa_single_densenet169, mvsa_multiple_densenet169 = load_mvsa_feature('densenet169')\n",
    "mvsa_single_densenet201, mvsa_multiple_densenet201 = load_mvsa_feature('densenet201')"
   ]
  },
  {
   "cell_type": "code",
   "execution_count": 15,
   "id": "90335b99",
   "metadata": {
    "execution": {
     "iopub.execute_input": "2022-07-13T17:21:44.111486Z",
     "iopub.status.busy": "2022-07-13T17:21:44.110264Z",
     "iopub.status.idle": "2022-07-13T17:21:44.222051Z",
     "shell.execute_reply": "2022-07-13T17:21:44.220707Z"
    },
    "papermill": {
     "duration": 0.126274,
     "end_time": "2022-07-13T17:21:44.225168",
     "exception": false,
     "start_time": "2022-07-13T17:21:44.098894",
     "status": "completed"
    },
    "tags": []
   },
   "outputs": [],
   "source": [
    "mvsa_single_bert_pos = np.concatenate((mvsa_single_bert, mvsa_single_pos_bow), axis=1)\n",
    "mvsa_single_bert_pos_ner = np.concatenate((mvsa_single_bert, mvsa_single_pos_bow, mvsa_single_ner_bow), axis=1)\n",
    "\n",
    "mvsa_multiple_bert_pos = np.concatenate((mvsa_multiple_bert, mvsa_multiple_pos_bow), axis=1)\n",
    "mvsa_multiple_bert_pos_ner = np.concatenate((mvsa_multiple_bert, mvsa_multiple_pos_bow, mvsa_multiple_ner_bow), axis=1)"
   ]
  },
  {
   "cell_type": "code",
   "execution_count": 16,
   "id": "0d06ab0d",
   "metadata": {
    "execution": {
     "iopub.execute_input": "2022-07-13T17:21:44.246041Z",
     "iopub.status.busy": "2022-07-13T17:21:44.245675Z",
     "iopub.status.idle": "2022-07-13T17:21:44.389922Z",
     "shell.execute_reply": "2022-07-13T17:21:44.388551Z"
    },
    "papermill": {
     "duration": 0.157951,
     "end_time": "2022-07-13T17:21:44.392943",
     "exception": false,
     "start_time": "2022-07-13T17:21:44.234992",
     "status": "completed"
    },
    "tags": []
   },
   "outputs": [],
   "source": [
    "mvsa_single_multimodal_labels, mvsa_single_text_labels, mvsa_single_image_labels = load_labels('../input/mvsa-features/labels/mvsa-single-labels.hdf5')\n",
    "mvsa_multiple_multimodal_labels, mvsa_multiple_text_labels, mvsa_multiple_image_labels = load_labels('../input/mvsa-features/labels/mvsa-multiple-labels.hdf5')"
   ]
  },
  {
   "cell_type": "code",
   "execution_count": 17,
   "id": "e87737f8",
   "metadata": {
    "execution": {
     "iopub.execute_input": "2022-07-13T17:21:44.415711Z",
     "iopub.status.busy": "2022-07-13T17:21:44.413670Z",
     "iopub.status.idle": "2022-07-13T17:21:44.423252Z",
     "shell.execute_reply": "2022-07-13T17:21:44.422038Z"
    },
    "papermill": {
     "duration": 0.022821,
     "end_time": "2022-07-13T17:21:44.425835",
     "exception": false,
     "start_time": "2022-07-13T17:21:44.403014",
     "status": "completed"
    },
    "tags": []
   },
   "outputs": [],
   "source": [
    "# prepare all features data\n",
    "\n",
    "feature_names = ['resnet50-bert', 'resnet50-bert-lstm', 'vgg19-bert-lstm', 'vgg19-bert-pos-lstm', 'vgg19-bert-pos-ner-lstm']\n",
    "\n",
    "mvsa_single_features = [[mvsa_single_bert, mvsa_single_resnet50],\n",
    "                        [mvsa_single_bert, mvsa_single_resnet50],\n",
    "                        [mvsa_single_bert, mvsa_single_vgg19],\n",
    "                        [mvsa_single_bert_pos, mvsa_single_vgg19],\n",
    "                        [mvsa_single_bert_pos_ner, mvsa_single_vgg19]]\n",
    "\n",
    "mvsa_multiple_features = [[mvsa_multiple_bert, mvsa_multiple_resnet50],\n",
    "                          [mvsa_multiple_bert, mvsa_multiple_resnet50],\n",
    "                          [mvsa_multiple_bert, mvsa_multiple_vgg19],\n",
    "                          [mvsa_multiple_bert_pos, mvsa_multiple_vgg19],\n",
    "                          [mvsa_multiple_bert_pos_ner, mvsa_multiple_vgg19]]"
   ]
  },
  {
   "cell_type": "code",
   "execution_count": 18,
   "id": "1062a970",
   "metadata": {
    "execution": {
     "iopub.execute_input": "2022-07-13T17:21:44.448407Z",
     "iopub.status.busy": "2022-07-13T17:21:44.446471Z",
     "iopub.status.idle": "2022-07-13T17:21:44.454121Z",
     "shell.execute_reply": "2022-07-13T17:21:44.452905Z"
    },
    "papermill": {
     "duration": 0.020998,
     "end_time": "2022-07-13T17:21:44.456495",
     "exception": false,
     "start_time": "2022-07-13T17:21:44.435497",
     "status": "completed"
    },
    "tags": []
   },
   "outputs": [],
   "source": [
    "le = preprocessing.LabelEncoder()\n",
    "le.fit(mvsa_single_multimodal_labels)\n",
    "NUM_CLASSES = len(le.classes_) # = 3"
   ]
  },
  {
   "cell_type": "code",
   "execution_count": 19,
   "id": "4fc0ad40",
   "metadata": {
    "execution": {
     "iopub.execute_input": "2022-07-13T17:21:44.477298Z",
     "iopub.status.busy": "2022-07-13T17:21:44.476931Z",
     "iopub.status.idle": "2022-07-13T17:21:44.483260Z",
     "shell.execute_reply": "2022-07-13T17:21:44.481848Z"
    },
    "papermill": {
     "duration": 0.01976,
     "end_time": "2022-07-13T17:21:44.485941",
     "exception": false,
     "start_time": "2022-07-13T17:21:44.466181",
     "status": "completed"
    },
    "tags": []
   },
   "outputs": [],
   "source": [
    "reset_seeds()\n",
    "EPOCHS = 100\n",
    "BATCH_SIZE = 128\n",
    "VALIDATION_SPLIT = 0.1\n",
    "EARLY_STOPPING = 10\n",
    "NUM_LSTM = 64\n",
    "DROPOUT_RATE = 0.1"
   ]
  },
  {
   "cell_type": "markdown",
   "id": "3cea93d5",
   "metadata": {
    "papermill": {
     "duration": 0.009296,
     "end_time": "2022-07-13T17:21:44.505041",
     "exception": false,
     "start_time": "2022-07-13T17:21:44.495745",
     "status": "completed"
    },
    "tags": []
   },
   "source": [
    "# Intermediate Fusion"
   ]
  },
  {
   "cell_type": "code",
   "execution_count": 20,
   "id": "caf81120",
   "metadata": {
    "execution": {
     "iopub.execute_input": "2022-07-13T17:21:44.526738Z",
     "iopub.status.busy": "2022-07-13T17:21:44.526320Z",
     "iopub.status.idle": "2022-07-13T17:24:51.556279Z",
     "shell.execute_reply": "2022-07-13T17:24:51.554818Z"
    },
    "papermill": {
     "duration": 187.053959,
     "end_time": "2022-07-13T17:24:51.568988",
     "exception": false,
     "start_time": "2022-07-13T17:21:44.515029",
     "status": "completed"
    },
    "tags": []
   },
   "outputs": [
    {
     "name": "stdout",
     "output_type": "stream",
     "text": [
      "MVSA-Single with Intermediate Fusion\n",
      "\n",
      "MVSA-Single: resnet50-bert\n"
     ]
    },
    {
     "name": "stderr",
     "output_type": "stream",
     "text": [
      "2022-07-13 17:21:45.412430: I tensorflow/compiler/mlir/mlir_graph_optimization_pass.cc:185] None of the MLIR Optimization Passes are enabled (registered 2)\n"
     ]
    },
    {
     "name": "stdout",
     "output_type": "stream",
     "text": [
      "\n",
      "MVSA-Single: resnet50-bert-lstm\n"
     ]
    },
    {
     "name": "stderr",
     "output_type": "stream",
     "text": [
      "2022-07-13 17:21:56.637229: I tensorflow/stream_executor/cuda/cuda_dnn.cc:369] Loaded cuDNN version 8005\n"
     ]
    },
    {
     "name": "stdout",
     "output_type": "stream",
     "text": [
      "\n",
      "MVSA-Single: vgg19-bert-lstm\n",
      "\n",
      "MVSA-Single: vgg19-bert-pos-lstm\n",
      "\n",
      "MVSA-Single: vgg19-bert-pos-ner-lstm\n",
      "\n",
      "MVSA-Multiple with Intermediate Fusion\n",
      "\n",
      "MVSA-Multiple: resnet50-bert\n",
      "\n",
      "MVSA-Multiple: resnet50-bert-lstm\n",
      "\n",
      "MVSA-Multiple: vgg19-bert-lstm\n",
      "\n",
      "MVSA-Multiple: vgg19-bert-pos-lstm\n",
      "\n",
      "MVSA-Multiple: vgg19-bert-pos-ner-lstm\n",
      "\n"
     ]
    }
   ],
   "source": [
    "print('MVSA-Single with Intermediate Fusion\\n')\n",
    "scores = []\n",
    "for i in range(len(feature_names)):\n",
    "    print('MVSA-Single:', feature_names[i])\n",
    "    if 'lstm' in feature_names[i]:\n",
    "        _, score = run_and_evaluate_IF('single-IF-' + feature_names[i], mvsa_single_features[i][0], mvsa_single_features[i][1], \n",
    "                                     mvsa_single_multimodal_labels,\n",
    "                                     verbose=0)\n",
    "    else:\n",
    "        _, score = run_and_evaluate_IF('single-IF-' + feature_names[i], mvsa_single_features[i][0], mvsa_single_features[i][1],\n",
    "                                     mvsa_single_multimodal_labels,\n",
    "                                     verbose=0, lstm=False)\n",
    "    scores.append(score)\n",
    "    print()\n",
    "df_single_scores_IF = pd.DataFrame(scores, columns=['Loss', 'Accuracy', 'F1-macro', 'F1-weighted'], index=feature_names)\n",
    "\n",
    "\n",
    "print('MVSA-Multiple with Intermediate Fusion\\n')\n",
    "scores = []\n",
    "for i in range(len(feature_names)):\n",
    "    print('MVSA-Multiple:', feature_names[i])\n",
    "    if 'lstm' in feature_names[i]:\n",
    "        _, score = run_and_evaluate_IF('multiple-IF-' + feature_names[i], mvsa_multiple_features[i][0], mvsa_multiple_features[i][1], \n",
    "                                     mvsa_multiple_multimodal_labels,\n",
    "                                     verbose=0)\n",
    "    else:\n",
    "        _, score = run_and_evaluate_IF('multiple-IF-' + feature_names[i], mvsa_multiple_features[i][0], mvsa_multiple_features[i][1],\n",
    "                                     mvsa_multiple_multimodal_labels,\n",
    "                                     verbose=0, lstm=False)\n",
    "    scores.append(score)\n",
    "    print()\n",
    "df_multiple_scores_IF = pd.DataFrame(scores, columns=['Loss', 'Accuracy', 'F1-macro', 'F1-weighted'], index=feature_names)"
   ]
  },
  {
   "cell_type": "markdown",
   "id": "0d78c254",
   "metadata": {
    "papermill": {
     "duration": 0.010097,
     "end_time": "2022-07-13T17:24:51.589660",
     "exception": false,
     "start_time": "2022-07-13T17:24:51.579563",
     "status": "completed"
    },
    "tags": []
   },
   "source": [
    "# Late Fusion"
   ]
  },
  {
   "cell_type": "code",
   "execution_count": 21,
   "id": "9174e1ff",
   "metadata": {
    "execution": {
     "iopub.execute_input": "2022-07-13T17:24:51.612669Z",
     "iopub.status.busy": "2022-07-13T17:24:51.612250Z",
     "iopub.status.idle": "2022-07-13T17:28:57.407030Z",
     "shell.execute_reply": "2022-07-13T17:28:57.405668Z"
    },
    "papermill": {
     "duration": 245.821669,
     "end_time": "2022-07-13T17:28:57.421795",
     "exception": false,
     "start_time": "2022-07-13T17:24:51.600126",
     "status": "completed"
    },
    "tags": []
   },
   "outputs": [
    {
     "name": "stdout",
     "output_type": "stream",
     "text": [
      "MVSA-Single with Late Fusion\n",
      "\n",
      "MVSA-Single: resnet50-bert\n",
      "\n",
      "MVSA-Single: resnet50-bert-lstm\n",
      "\n",
      "MVSA-Single: vgg19-bert-lstm\n",
      "\n",
      "MVSA-Single: vgg19-bert-pos-lstm\n",
      "\n",
      "MVSA-Single: vgg19-bert-pos-ner-lstm\n",
      "\n",
      "MVSA-Multiple with Late Fusion\n",
      "\n",
      "MVSA-Multiple: resnet50-bert\n",
      "\n",
      "MVSA-Multiple: resnet50-bert-lstm\n",
      "\n",
      "MVSA-Multiple: vgg19-bert-lstm\n",
      "\n",
      "MVSA-Multiple: vgg19-bert-pos-lstm\n",
      "\n",
      "MVSA-Multiple: vgg19-bert-pos-ner-lstm\n",
      "\n"
     ]
    }
   ],
   "source": [
    "print('MVSA-Single with Late Fusion\\n')\n",
    "scores = []\n",
    "for i in range(len(feature_names)):\n",
    "    print('MVSA-Single:', feature_names[i])\n",
    "    if 'lstm' in feature_names[i]:\n",
    "        score = run_and_evaluate_LF('single-LF-' + feature_names[i], mvsa_single_features[i][0], mvsa_single_features[i][1], \n",
    "                                     mvsa_single_multimodal_labels,\n",
    "                                     verbose=0)\n",
    "    else:\n",
    "        score = run_and_evaluate_LF('single-LF-' + feature_names[i], mvsa_single_features[i][0], mvsa_single_features[i][1],\n",
    "                                     mvsa_single_multimodal_labels,\n",
    "                                     verbose=0, lstm=False)\n",
    "    scores.append(score)\n",
    "    print()\n",
    "df_single_scores_LF = pd.DataFrame(scores, columns=['Accuracy', 'F1-macro', 'F1-weighted'], index=feature_names)\n",
    "\n",
    "\n",
    "print('MVSA-Multiple with Late Fusion\\n')\n",
    "scores = []\n",
    "for i in range(len(feature_names)):\n",
    "    print('MVSA-Multiple:', feature_names[i])\n",
    "    if 'lstm' in feature_names[i]:\n",
    "        score = run_and_evaluate_LF('multiple-LF-' + feature_names[i], mvsa_multiple_features[i][0], mvsa_multiple_features[i][1], \n",
    "                                     mvsa_multiple_multimodal_labels,\n",
    "                                     verbose=0)\n",
    "    else:\n",
    "        score = run_and_evaluate_LF('multiple-LF-' + feature_names[i], mvsa_multiple_features[i][0], mvsa_multiple_features[i][1],\n",
    "                                     mvsa_multiple_multimodal_labels,\n",
    "                                     verbose=0, lstm=False)\n",
    "    scores.append(score)\n",
    "    print()\n",
    "df_multiple_scores_LF = pd.DataFrame(scores, columns=['Accuracy', 'F1-macro', 'F1-weighted'], index=feature_names)"
   ]
  },
  {
   "cell_type": "markdown",
   "id": "88cb63ce",
   "metadata": {
    "papermill": {
     "duration": 0.011079,
     "end_time": "2022-07-13T17:28:57.445528",
     "exception": false,
     "start_time": "2022-07-13T17:28:57.434449",
     "status": "completed"
    },
    "tags": []
   },
   "source": [
    "# Hybrid Fusion"
   ]
  },
  {
   "cell_type": "code",
   "execution_count": 22,
   "id": "13484df4",
   "metadata": {
    "execution": {
     "iopub.execute_input": "2022-07-13T17:28:57.471064Z",
     "iopub.status.busy": "2022-07-13T17:28:57.470540Z",
     "iopub.status.idle": "2022-07-13T17:36:38.788709Z",
     "shell.execute_reply": "2022-07-13T17:36:38.787176Z"
    },
    "papermill": {
     "duration": 461.34637,
     "end_time": "2022-07-13T17:36:38.803825",
     "exception": false,
     "start_time": "2022-07-13T17:28:57.457455",
     "status": "completed"
    },
    "tags": []
   },
   "outputs": [
    {
     "name": "stdout",
     "output_type": "stream",
     "text": [
      "MVSA-Single with Hybrid Fusion\n",
      "\n",
      "MVSA-Single: resnet50-bert\n",
      "\n",
      "MVSA-Single: resnet50-bert-lstm\n",
      "\n",
      "MVSA-Single: vgg19-bert-lstm\n",
      "\n",
      "MVSA-Single: vgg19-bert-pos-lstm\n",
      "\n",
      "MVSA-Single: vgg19-bert-pos-ner-lstm\n",
      "\n",
      "MVSA-Multiple with Hybrid Fusion\n",
      "\n",
      "MVSA-Multiple: resnet50-bert\n",
      "\n",
      "MVSA-Multiple: resnet50-bert-lstm\n",
      "\n",
      "MVSA-Multiple: vgg19-bert-lstm\n",
      "\n",
      "MVSA-Multiple: vgg19-bert-pos-lstm\n",
      "\n",
      "MVSA-Multiple: vgg19-bert-pos-ner-lstm\n",
      "\n"
     ]
    }
   ],
   "source": [
    "print('MVSA-Single with Hybrid Fusion\\n')\n",
    "scores = []\n",
    "for i in range(len(feature_names)):\n",
    "    print('MVSA-Single:', feature_names[i])\n",
    "    if 'lstm' in feature_names[i]:\n",
    "        score = run_and_evaluate_HF('single-HF-' + feature_names[i], mvsa_single_features[i][0], mvsa_single_features[i][1], \n",
    "                                     mvsa_single_multimodal_labels,\n",
    "                                     verbose=0)\n",
    "    else:\n",
    "        score = run_and_evaluate_HF('single-HF-' + feature_names[i], mvsa_single_features[i][0], mvsa_single_features[i][1],\n",
    "                                     mvsa_single_multimodal_labels,\n",
    "                                     verbose=0, lstm=False)\n",
    "    scores.append(score)\n",
    "    print()\n",
    "df_single_scores_HF = pd.DataFrame(scores, columns=['Accuracy', 'F1-macro', 'F1-weighted'], index=feature_names)\n",
    "\n",
    "\n",
    "print('MVSA-Multiple with Hybrid Fusion\\n')\n",
    "scores = []\n",
    "for i in range(len(feature_names)):\n",
    "    print('MVSA-Multiple:', feature_names[i])\n",
    "    if 'lstm' in feature_names[i]:\n",
    "        score = run_and_evaluate_HF('multiple-HF-' + feature_names[i], mvsa_multiple_features[i][0], mvsa_multiple_features[i][1], \n",
    "                                     mvsa_multiple_multimodal_labels,\n",
    "                                     verbose=0)\n",
    "    else:\n",
    "        score = run_and_evaluate_HF('multiple-HF-' + feature_names[i], mvsa_multiple_features[i][0], mvsa_multiple_features[i][1],\n",
    "                                     mvsa_multiple_multimodal_labels,\n",
    "                                     verbose=0, lstm=False)\n",
    "    scores.append(score)\n",
    "    print()\n",
    "df_multiple_scores_HF = pd.DataFrame(scores, columns=['Accuracy', 'F1-macro', 'F1-weighted'], index=feature_names)"
   ]
  },
  {
   "cell_type": "markdown",
   "id": "c0b8ad88",
   "metadata": {
    "papermill": {
     "duration": 0.012072,
     "end_time": "2022-07-13T17:36:38.827620",
     "exception": false,
     "start_time": "2022-07-13T17:36:38.815548",
     "status": "completed"
    },
    "tags": []
   },
   "source": [
    "# Display results"
   ]
  },
  {
   "cell_type": "code",
   "execution_count": 23,
   "id": "273c905d",
   "metadata": {
    "execution": {
     "iopub.execute_input": "2022-07-13T17:36:38.853755Z",
     "iopub.status.busy": "2022-07-13T17:36:38.853308Z",
     "iopub.status.idle": "2022-07-13T17:36:38.879941Z",
     "shell.execute_reply": "2022-07-13T17:36:38.878644Z"
    },
    "papermill": {
     "duration": 0.042895,
     "end_time": "2022-07-13T17:36:38.882514",
     "exception": false,
     "start_time": "2022-07-13T17:36:38.839619",
     "status": "completed"
    },
    "tags": []
   },
   "outputs": [],
   "source": [
    "df_single_scores_IF = df_single_scores_IF.drop(columns=['Loss'])\n",
    "df_multiple_scores_IF = df_multiple_scores_IF.drop(columns=['Loss'])"
   ]
  },
  {
   "cell_type": "code",
   "execution_count": 24,
   "id": "228d139b",
   "metadata": {
    "execution": {
     "iopub.execute_input": "2022-07-13T17:36:38.910314Z",
     "iopub.status.busy": "2022-07-13T17:36:38.908414Z",
     "iopub.status.idle": "2022-07-13T17:36:39.012939Z",
     "shell.execute_reply": "2022-07-13T17:36:39.010712Z"
    },
    "papermill": {
     "duration": 0.122496,
     "end_time": "2022-07-13T17:36:39.017748",
     "exception": false,
     "start_time": "2022-07-13T17:36:38.895252",
     "status": "completed"
    },
    "tags": []
   },
   "outputs": [
    {
     "name": "stdout",
     "output_type": "stream",
     "text": [
      "Intermediate Fusion\n"
     ]
    },
    {
     "data": {
      "text/html": [
       "<table style=\"display:inline\"><tr><td style=\"text-align:center\">MVSA-Single</td><td style=\"text-align:center\">MVSA-Multiple</td></tr><tr><td style=\"vertical-align:top\"> <style type=\"text/css\">\n",
       "#T_ff1f2_row0_col0, #T_ff1f2_row0_col1, #T_ff1f2_row0_col2 {\n",
       "  color: lawngreen;\n",
       "}\n",
       "#T_ff1f2_row3_col0, #T_ff1f2_row3_col1, #T_ff1f2_row3_col2 {\n",
       "  color: tomato;\n",
       "}\n",
       "</style>\n",
       "<table style=\"display:inline\" id=\"T_ff1f2_\">\n",
       "  <thead>\n",
       "    <tr>\n",
       "      <th class=\"blank level0\" >&nbsp;</th>\n",
       "      <th class=\"col_heading level0 col0\" >Accuracy</th>\n",
       "      <th class=\"col_heading level0 col1\" >F1-macro</th>\n",
       "      <th class=\"col_heading level0 col2\" >F1-weighted</th>\n",
       "    </tr>\n",
       "  </thead>\n",
       "  <tbody>\n",
       "    <tr>\n",
       "      <th id=\"T_ff1f2_level0_row0\" class=\"row_heading level0 row0\" >resnet50-bert</th>\n",
       "      <td id=\"T_ff1f2_row0_col0\" class=\"data row0 col0\" >0.620843</td>\n",
       "      <td id=\"T_ff1f2_row0_col1\" class=\"data row0 col1\" >0.409169</td>\n",
       "      <td id=\"T_ff1f2_row0_col2\" class=\"data row0 col2\" >0.574778</td>\n",
       "    </tr>\n",
       "    <tr>\n",
       "      <th id=\"T_ff1f2_level0_row1\" class=\"row_heading level0 row1\" >resnet50-bert-lstm</th>\n",
       "      <td id=\"T_ff1f2_row1_col0\" class=\"data row1 col0\" >0.603104</td>\n",
       "      <td id=\"T_ff1f2_row1_col1\" class=\"data row1 col1\" >0.298064</td>\n",
       "      <td id=\"T_ff1f2_row1_col2\" class=\"data row1 col2\" >0.485074</td>\n",
       "    </tr>\n",
       "    <tr>\n",
       "      <th id=\"T_ff1f2_level0_row2\" class=\"row_heading level0 row2\" >vgg19-bert-lstm</th>\n",
       "      <td id=\"T_ff1f2_row2_col0\" class=\"data row2 col0\" >0.585366</td>\n",
       "      <td id=\"T_ff1f2_row2_col1\" class=\"data row2 col1\" >0.319608</td>\n",
       "      <td id=\"T_ff1f2_row2_col2\" class=\"data row2 col2\" >0.472725</td>\n",
       "    </tr>\n",
       "    <tr>\n",
       "      <th id=\"T_ff1f2_level0_row3\" class=\"row_heading level0 row3\" >vgg19-bert-pos-lstm</th>\n",
       "      <td id=\"T_ff1f2_row3_col0\" class=\"data row3 col0\" >0.558758</td>\n",
       "      <td id=\"T_ff1f2_row3_col1\" class=\"data row3 col1\" >0.293470</td>\n",
       "      <td id=\"T_ff1f2_row3_col2\" class=\"data row3 col2\" >0.429220</td>\n",
       "    </tr>\n",
       "    <tr>\n",
       "      <th id=\"T_ff1f2_level0_row4\" class=\"row_heading level0 row4\" >vgg19-bert-pos-ner-lstm</th>\n",
       "      <td id=\"T_ff1f2_row4_col0\" class=\"data row4 col0\" >0.589800</td>\n",
       "      <td id=\"T_ff1f2_row4_col1\" class=\"data row4 col1\" >0.347945</td>\n",
       "      <td id=\"T_ff1f2_row4_col2\" class=\"data row4 col2\" >0.511156</td>\n",
       "    </tr>\n",
       "  </tbody>\n",
       "</table style=\"display:inline\">\n",
       "</td><td style=\"vertical-align:top\"> <style type=\"text/css\">\n",
       "#T_8e559_row0_col2, #T_8e559_row2_col0, #T_8e559_row3_col1 {\n",
       "  color: tomato;\n",
       "}\n",
       "#T_8e559_row2_col1, #T_8e559_row3_col0, #T_8e559_row3_col2 {\n",
       "  color: lawngreen;\n",
       "}\n",
       "</style>\n",
       "<table style=\"display:inline\" id=\"T_8e559_\">\n",
       "  <thead>\n",
       "    <tr>\n",
       "      <th class=\"blank level0\" >&nbsp;</th>\n",
       "      <th class=\"col_heading level0 col0\" >Accuracy</th>\n",
       "      <th class=\"col_heading level0 col1\" >F1-macro</th>\n",
       "      <th class=\"col_heading level0 col2\" >F1-weighted</th>\n",
       "    </tr>\n",
       "  </thead>\n",
       "  <tbody>\n",
       "    <tr>\n",
       "      <th id=\"T_8e559_level0_row0\" class=\"row_heading level0 row0\" >resnet50-bert</th>\n",
       "      <td id=\"T_8e559_row0_col0\" class=\"data row0 col0\" >0.616921</td>\n",
       "      <td id=\"T_8e559_row0_col1\" class=\"data row0 col1\" >0.335560</td>\n",
       "      <td id=\"T_8e559_row0_col2\" class=\"data row0 col2\" >0.527605</td>\n",
       "    </tr>\n",
       "    <tr>\n",
       "      <th id=\"T_8e559_level0_row1\" class=\"row_heading level0 row1\" >resnet50-bert-lstm</th>\n",
       "      <td id=\"T_8e559_row1_col0\" class=\"data row1 col0\" >0.595770</td>\n",
       "      <td id=\"T_8e559_row1_col1\" class=\"data row1 col1\" >0.327015</td>\n",
       "      <td id=\"T_8e559_row1_col2\" class=\"data row1 col2\" >0.533340</td>\n",
       "    </tr>\n",
       "    <tr>\n",
       "      <th id=\"T_8e559_level0_row2\" class=\"row_heading level0 row2\" >vgg19-bert-lstm</th>\n",
       "      <td id=\"T_8e559_row2_col0\" class=\"data row2 col0\" >0.591657</td>\n",
       "      <td id=\"T_8e559_row2_col1\" class=\"data row2 col1\" >0.367619</td>\n",
       "      <td id=\"T_8e559_row2_col2\" class=\"data row2 col2\" >0.566391</td>\n",
       "    </tr>\n",
       "    <tr>\n",
       "      <th id=\"T_8e559_level0_row3\" class=\"row_heading level0 row3\" >vgg19-bert-pos-lstm</th>\n",
       "      <td id=\"T_8e559_row3_col0\" class=\"data row3 col0\" >0.658049</td>\n",
       "      <td id=\"T_8e559_row3_col1\" class=\"data row3 col1\" >0.319737</td>\n",
       "      <td id=\"T_8e559_row3_col2\" class=\"data row3 col2\" >0.570832</td>\n",
       "    </tr>\n",
       "    <tr>\n",
       "      <th id=\"T_8e559_level0_row4\" class=\"row_heading level0 row4\" >vgg19-bert-pos-ner-lstm</th>\n",
       "      <td id=\"T_8e559_row4_col0\" class=\"data row4 col0\" >0.639835</td>\n",
       "      <td id=\"T_8e559_row4_col1\" class=\"data row4 col1\" >0.323022</td>\n",
       "      <td id=\"T_8e559_row4_col2\" class=\"data row4 col2\" >0.554086</td>\n",
       "    </tr>\n",
       "  </tbody>\n",
       "</table style=\"display:inline\">\n",
       "</td></tr></table style=\"display:inline\">"
      ]
     },
     "metadata": {},
     "output_type": "display_data"
    }
   ],
   "source": [
    "print('Intermediate Fusion')\n",
    "display_dataframes((style_dataframe(df_single_scores_IF), style_dataframe(df_multiple_scores_IF)), \n",
    "                   names=['MVSA-Single', 'MVSA-Multiple'])"
   ]
  },
  {
   "cell_type": "code",
   "execution_count": 25,
   "id": "28672170",
   "metadata": {
    "execution": {
     "iopub.execute_input": "2022-07-13T17:36:39.044600Z",
     "iopub.status.busy": "2022-07-13T17:36:39.043991Z",
     "iopub.status.idle": "2022-07-13T17:36:39.078888Z",
     "shell.execute_reply": "2022-07-13T17:36:39.077056Z"
    },
    "papermill": {
     "duration": 0.052566,
     "end_time": "2022-07-13T17:36:39.083207",
     "exception": false,
     "start_time": "2022-07-13T17:36:39.030641",
     "status": "completed"
    },
    "tags": []
   },
   "outputs": [
    {
     "name": "stdout",
     "output_type": "stream",
     "text": [
      "Late Fusion with Multimodal Labels\n"
     ]
    },
    {
     "data": {
      "text/html": [
       "<table style=\"display:inline\"><tr><td style=\"text-align:center\">MVSA-Single</td><td style=\"text-align:center\">MVSA-Multiple</td></tr><tr><td style=\"vertical-align:top\"> <style type=\"text/css\">\n",
       "#T_e52cf_row0_col0, #T_e52cf_row0_col1, #T_e52cf_row1_col2 {\n",
       "  color: tomato;\n",
       "}\n",
       "#T_e52cf_row2_col0, #T_e52cf_row2_col2, #T_e52cf_row3_col1 {\n",
       "  color: lawngreen;\n",
       "}\n",
       "</style>\n",
       "<table style=\"display:inline\" id=\"T_e52cf_\">\n",
       "  <thead>\n",
       "    <tr>\n",
       "      <th class=\"blank level0\" >&nbsp;</th>\n",
       "      <th class=\"col_heading level0 col0\" >Accuracy</th>\n",
       "      <th class=\"col_heading level0 col1\" >F1-macro</th>\n",
       "      <th class=\"col_heading level0 col2\" >F1-weighted</th>\n",
       "    </tr>\n",
       "  </thead>\n",
       "  <tbody>\n",
       "    <tr>\n",
       "      <th id=\"T_e52cf_level0_row0\" class=\"row_heading level0 row0\" >resnet50-bert</th>\n",
       "      <td id=\"T_e52cf_row0_col0\" class=\"data row0 col0\" >0.616408</td>\n",
       "      <td id=\"T_e52cf_row0_col1\" class=\"data row0 col1\" >0.506338</td>\n",
       "      <td id=\"T_e52cf_row0_col2\" class=\"data row0 col2\" >0.636038</td>\n",
       "    </tr>\n",
       "    <tr>\n",
       "      <th id=\"T_e52cf_level0_row1\" class=\"row_heading level0 row1\" >resnet50-bert-lstm</th>\n",
       "      <td id=\"T_e52cf_row1_col0\" class=\"data row1 col0\" >0.638581</td>\n",
       "      <td id=\"T_e52cf_row1_col1\" class=\"data row1 col1\" >0.512143</td>\n",
       "      <td id=\"T_e52cf_row1_col2\" class=\"data row1 col2\" >0.613771</td>\n",
       "    </tr>\n",
       "    <tr>\n",
       "      <th id=\"T_e52cf_level0_row2\" class=\"row_heading level0 row2\" >vgg19-bert-lstm</th>\n",
       "      <td id=\"T_e52cf_row2_col0\" class=\"data row2 col0\" >0.694013</td>\n",
       "      <td id=\"T_e52cf_row2_col1\" class=\"data row2 col1\" >0.569709</td>\n",
       "      <td id=\"T_e52cf_row2_col2\" class=\"data row2 col2\" >0.681421</td>\n",
       "    </tr>\n",
       "    <tr>\n",
       "      <th id=\"T_e52cf_level0_row3\" class=\"row_heading level0 row3\" >vgg19-bert-pos-lstm</th>\n",
       "      <td id=\"T_e52cf_row3_col0\" class=\"data row3 col0\" >0.676275</td>\n",
       "      <td id=\"T_e52cf_row3_col1\" class=\"data row3 col1\" >0.571018</td>\n",
       "      <td id=\"T_e52cf_row3_col2\" class=\"data row3 col2\" >0.670195</td>\n",
       "    </tr>\n",
       "    <tr>\n",
       "      <th id=\"T_e52cf_level0_row4\" class=\"row_heading level0 row4\" >vgg19-bert-pos-ner-lstm</th>\n",
       "      <td id=\"T_e52cf_row4_col0\" class=\"data row4 col0\" >0.658537</td>\n",
       "      <td id=\"T_e52cf_row4_col1\" class=\"data row4 col1\" >0.549988</td>\n",
       "      <td id=\"T_e52cf_row4_col2\" class=\"data row4 col2\" >0.658858</td>\n",
       "    </tr>\n",
       "  </tbody>\n",
       "</table style=\"display:inline\">\n",
       "</td><td style=\"vertical-align:top\"> <style type=\"text/css\">\n",
       "#T_e6e56_row1_col1, #T_e6e56_row1_col2, #T_e6e56_row2_col0 {\n",
       "  color: tomato;\n",
       "}\n",
       "#T_e6e56_row2_col1, #T_e6e56_row2_col2, #T_e6e56_row3_col0 {\n",
       "  color: lawngreen;\n",
       "}\n",
       "</style>\n",
       "<table style=\"display:inline\" id=\"T_e6e56_\">\n",
       "  <thead>\n",
       "    <tr>\n",
       "      <th class=\"blank level0\" >&nbsp;</th>\n",
       "      <th class=\"col_heading level0 col0\" >Accuracy</th>\n",
       "      <th class=\"col_heading level0 col1\" >F1-macro</th>\n",
       "      <th class=\"col_heading level0 col2\" >F1-weighted</th>\n",
       "    </tr>\n",
       "  </thead>\n",
       "  <tbody>\n",
       "    <tr>\n",
       "      <th id=\"T_e6e56_level0_row0\" class=\"row_heading level0 row0\" >resnet50-bert</th>\n",
       "      <td id=\"T_e6e56_row0_col0\" class=\"data row0 col0\" >0.656874</td>\n",
       "      <td id=\"T_e6e56_row0_col1\" class=\"data row0 col1\" >0.463830</td>\n",
       "      <td id=\"T_e6e56_row0_col2\" class=\"data row0 col2\" >0.605609</td>\n",
       "    </tr>\n",
       "    <tr>\n",
       "      <th id=\"T_e6e56_level0_row1\" class=\"row_heading level0 row1\" >resnet50-bert-lstm</th>\n",
       "      <td id=\"T_e6e56_row1_col0\" class=\"data row1 col0\" >0.663925</td>\n",
       "      <td id=\"T_e6e56_row1_col1\" class=\"data row1 col1\" >0.446237</td>\n",
       "      <td id=\"T_e6e56_row1_col2\" class=\"data row1 col2\" >0.600950</td>\n",
       "    </tr>\n",
       "    <tr>\n",
       "      <th id=\"T_e6e56_level0_row2\" class=\"row_heading level0 row2\" >vgg19-bert-lstm</th>\n",
       "      <td id=\"T_e6e56_row2_col0\" class=\"data row2 col0\" >0.656287</td>\n",
       "      <td id=\"T_e6e56_row2_col1\" class=\"data row2 col1\" >0.475989</td>\n",
       "      <td id=\"T_e6e56_row2_col2\" class=\"data row2 col2\" >0.622885</td>\n",
       "    </tr>\n",
       "    <tr>\n",
       "      <th id=\"T_e6e56_level0_row3\" class=\"row_heading level0 row3\" >vgg19-bert-pos-lstm</th>\n",
       "      <td id=\"T_e6e56_row3_col0\" class=\"data row3 col0\" >0.678026</td>\n",
       "      <td id=\"T_e6e56_row3_col1\" class=\"data row3 col1\" >0.447363</td>\n",
       "      <td id=\"T_e6e56_row3_col2\" class=\"data row3 col2\" >0.622160</td>\n",
       "    </tr>\n",
       "    <tr>\n",
       "      <th id=\"T_e6e56_level0_row4\" class=\"row_heading level0 row4\" >vgg19-bert-pos-ner-lstm</th>\n",
       "      <td id=\"T_e6e56_row4_col0\" class=\"data row4 col0\" >0.658049</td>\n",
       "      <td id=\"T_e6e56_row4_col1\" class=\"data row4 col1\" >0.454695</td>\n",
       "      <td id=\"T_e6e56_row4_col2\" class=\"data row4 col2\" >0.608660</td>\n",
       "    </tr>\n",
       "  </tbody>\n",
       "</table style=\"display:inline\">\n",
       "</td></tr></table style=\"display:inline\">"
      ]
     },
     "metadata": {},
     "output_type": "display_data"
    }
   ],
   "source": [
    "print('Late Fusion with Multimodal Labels')\n",
    "display_dataframes((style_dataframe(df_single_scores_LF), style_dataframe(df_multiple_scores_LF)), \n",
    "                   names=['MVSA-Single', 'MVSA-Multiple'])"
   ]
  },
  {
   "cell_type": "code",
   "execution_count": 26,
   "id": "48c50a08",
   "metadata": {
    "execution": {
     "iopub.execute_input": "2022-07-13T17:36:39.111454Z",
     "iopub.status.busy": "2022-07-13T17:36:39.110300Z",
     "iopub.status.idle": "2022-07-13T17:36:39.148797Z",
     "shell.execute_reply": "2022-07-13T17:36:39.147428Z"
    },
    "papermill": {
     "duration": 0.055414,
     "end_time": "2022-07-13T17:36:39.151781",
     "exception": false,
     "start_time": "2022-07-13T17:36:39.096367",
     "status": "completed"
    },
    "tags": []
   },
   "outputs": [
    {
     "name": "stdout",
     "output_type": "stream",
     "text": [
      "Hybrid Fusion with Multimodal Labels\n"
     ]
    },
    {
     "data": {
      "text/html": [
       "<table style=\"display:inline\"><tr><td style=\"text-align:center\">MVSA-Single</td><td style=\"text-align:center\">MVSA-Multiple</td></tr><tr><td style=\"vertical-align:top\"> <style type=\"text/css\">\n",
       "#T_37ade_row2_col0, #T_37ade_row2_col1, #T_37ade_row2_col2 {\n",
       "  color: lawngreen;\n",
       "}\n",
       "#T_37ade_row4_col0, #T_37ade_row4_col1, #T_37ade_row4_col2 {\n",
       "  color: tomato;\n",
       "}\n",
       "</style>\n",
       "<table style=\"display:inline\" id=\"T_37ade_\">\n",
       "  <thead>\n",
       "    <tr>\n",
       "      <th class=\"blank level0\" >&nbsp;</th>\n",
       "      <th class=\"col_heading level0 col0\" >Accuracy</th>\n",
       "      <th class=\"col_heading level0 col1\" >F1-macro</th>\n",
       "      <th class=\"col_heading level0 col2\" >F1-weighted</th>\n",
       "    </tr>\n",
       "  </thead>\n",
       "  <tbody>\n",
       "    <tr>\n",
       "      <th id=\"T_37ade_level0_row0\" class=\"row_heading level0 row0\" >resnet50-bert</th>\n",
       "      <td id=\"T_37ade_row0_col0\" class=\"data row0 col0\" >0.647450</td>\n",
       "      <td id=\"T_37ade_row0_col1\" class=\"data row0 col1\" >0.502878</td>\n",
       "      <td id=\"T_37ade_row0_col2\" class=\"data row0 col2\" >0.648320</td>\n",
       "    </tr>\n",
       "    <tr>\n",
       "      <th id=\"T_37ade_level0_row1\" class=\"row_heading level0 row1\" >resnet50-bert-lstm</th>\n",
       "      <td id=\"T_37ade_row1_col0\" class=\"data row1 col0\" >0.649667</td>\n",
       "      <td id=\"T_37ade_row1_col1\" class=\"data row1 col1\" >0.535987</td>\n",
       "      <td id=\"T_37ade_row1_col2\" class=\"data row1 col2\" >0.629984</td>\n",
       "    </tr>\n",
       "    <tr>\n",
       "      <th id=\"T_37ade_level0_row2\" class=\"row_heading level0 row2\" >vgg19-bert-lstm</th>\n",
       "      <td id=\"T_37ade_row2_col0\" class=\"data row2 col0\" >0.671840</td>\n",
       "      <td id=\"T_37ade_row2_col1\" class=\"data row2 col1\" >0.572009</td>\n",
       "      <td id=\"T_37ade_row2_col2\" class=\"data row2 col2\" >0.659290</td>\n",
       "    </tr>\n",
       "    <tr>\n",
       "      <th id=\"T_37ade_level0_row3\" class=\"row_heading level0 row3\" >vgg19-bert-pos-lstm</th>\n",
       "      <td id=\"T_37ade_row3_col0\" class=\"data row3 col0\" >0.665188</td>\n",
       "      <td id=\"T_37ade_row3_col1\" class=\"data row3 col1\" >0.521749</td>\n",
       "      <td id=\"T_37ade_row3_col2\" class=\"data row3 col2\" >0.651467</td>\n",
       "    </tr>\n",
       "    <tr>\n",
       "      <th id=\"T_37ade_level0_row4\" class=\"row_heading level0 row4\" >vgg19-bert-pos-ner-lstm</th>\n",
       "      <td id=\"T_37ade_row4_col0\" class=\"data row4 col0\" >0.631929</td>\n",
       "      <td id=\"T_37ade_row4_col1\" class=\"data row4 col1\" >0.406714</td>\n",
       "      <td id=\"T_37ade_row4_col2\" class=\"data row4 col2\" >0.558214</td>\n",
       "    </tr>\n",
       "  </tbody>\n",
       "</table style=\"display:inline\">\n",
       "</td><td style=\"vertical-align:top\"> <style type=\"text/css\">\n",
       "#T_f8834_row0_col0, #T_f8834_row0_col2, #T_f8834_row3_col1 {\n",
       "  color: tomato;\n",
       "}\n",
       "#T_f8834_row4_col0, #T_f8834_row4_col1, #T_f8834_row4_col2 {\n",
       "  color: lawngreen;\n",
       "}\n",
       "</style>\n",
       "<table style=\"display:inline\" id=\"T_f8834_\">\n",
       "  <thead>\n",
       "    <tr>\n",
       "      <th class=\"blank level0\" >&nbsp;</th>\n",
       "      <th class=\"col_heading level0 col0\" >Accuracy</th>\n",
       "      <th class=\"col_heading level0 col1\" >F1-macro</th>\n",
       "      <th class=\"col_heading level0 col2\" >F1-weighted</th>\n",
       "    </tr>\n",
       "  </thead>\n",
       "  <tbody>\n",
       "    <tr>\n",
       "      <th id=\"T_f8834_level0_row0\" class=\"row_heading level0 row0\" >resnet50-bert</th>\n",
       "      <td id=\"T_f8834_row0_col0\" class=\"data row0 col0\" >0.657462</td>\n",
       "      <td id=\"T_f8834_row0_col1\" class=\"data row0 col1\" >0.458486</td>\n",
       "      <td id=\"T_f8834_row0_col2\" class=\"data row0 col2\" >0.593425</td>\n",
       "    </tr>\n",
       "    <tr>\n",
       "      <th id=\"T_f8834_level0_row1\" class=\"row_heading level0 row1\" >resnet50-bert-lstm</th>\n",
       "      <td id=\"T_f8834_row1_col0\" class=\"data row1 col0\" >0.665687</td>\n",
       "      <td id=\"T_f8834_row1_col1\" class=\"data row1 col1\" >0.455351</td>\n",
       "      <td id=\"T_f8834_row1_col2\" class=\"data row1 col2\" >0.617178</td>\n",
       "    </tr>\n",
       "    <tr>\n",
       "      <th id=\"T_f8834_level0_row2\" class=\"row_heading level0 row2\" >vgg19-bert-lstm</th>\n",
       "      <td id=\"T_f8834_row2_col0\" class=\"data row2 col0\" >0.678026</td>\n",
       "      <td id=\"T_f8834_row2_col1\" class=\"data row2 col1\" >0.457817</td>\n",
       "      <td id=\"T_f8834_row2_col2\" class=\"data row2 col2\" >0.615332</td>\n",
       "    </tr>\n",
       "    <tr>\n",
       "      <th id=\"T_f8834_level0_row3\" class=\"row_heading level0 row3\" >vgg19-bert-pos-lstm</th>\n",
       "      <td id=\"T_f8834_row3_col0\" class=\"data row3 col0\" >0.680376</td>\n",
       "      <td id=\"T_f8834_row3_col1\" class=\"data row3 col1\" >0.453586</td>\n",
       "      <td id=\"T_f8834_row3_col2\" class=\"data row3 col2\" >0.620953</td>\n",
       "    </tr>\n",
       "    <tr>\n",
       "      <th id=\"T_f8834_level0_row4\" class=\"row_heading level0 row4\" >vgg19-bert-pos-ner-lstm</th>\n",
       "      <td id=\"T_f8834_row4_col0\" class=\"data row4 col0\" >0.683901</td>\n",
       "      <td id=\"T_f8834_row4_col1\" class=\"data row4 col1\" >0.460964</td>\n",
       "      <td id=\"T_f8834_row4_col2\" class=\"data row4 col2\" >0.625198</td>\n",
       "    </tr>\n",
       "  </tbody>\n",
       "</table style=\"display:inline\">\n",
       "</td></tr></table style=\"display:inline\">"
      ]
     },
     "metadata": {},
     "output_type": "display_data"
    }
   ],
   "source": [
    "print('Hybrid Fusion with Multimodal Labels')\n",
    "display_dataframes((style_dataframe(df_single_scores_HF), style_dataframe(df_multiple_scores_HF)), \n",
    "                   names=['MVSA-Single', 'MVSA-Multiple'])"
   ]
  },
  {
   "cell_type": "code",
   "execution_count": 27,
   "id": "caac1954",
   "metadata": {
    "execution": {
     "iopub.execute_input": "2022-07-13T17:36:39.179503Z",
     "iopub.status.busy": "2022-07-13T17:36:39.179102Z",
     "iopub.status.idle": "2022-07-13T17:36:39.190617Z",
     "shell.execute_reply": "2022-07-13T17:36:39.189343Z"
    },
    "papermill": {
     "duration": 0.028067,
     "end_time": "2022-07-13T17:36:39.193141",
     "exception": false,
     "start_time": "2022-07-13T17:36:39.165074",
     "status": "completed"
    },
    "tags": []
   },
   "outputs": [],
   "source": [
    "# get max values of late and intermediate fusion\n",
    "df_single_higher_fusion = pd.DataFrame(np.where(df_single_scores_LF.gt(df_single_scores_IF.values), df_single_scores_LF.values, df_single_scores_IF.values),\n",
    "                 columns=['Accuracy','F1-macro','F1-weighted'], index=feature_names)\n",
    "\n",
    "df_multiple_higher_fusion = pd.DataFrame(np.where(df_single_scores_LF.gt(df_single_scores_IF.values), df_multiple_scores_LF.values, df_multiple_scores_IF.values),\n",
    "                 columns=['Accuracy','F1-macro','F1-weighted'], index=feature_names)\n",
    "\n",
    "df_single_subtract = df_single_scores_HF.subtract(df_single_higher_fusion)\n",
    "df_multiple_subtract = df_multiple_scores_HF.subtract(df_multiple_higher_fusion)"
   ]
  },
  {
   "cell_type": "code",
   "execution_count": 28,
   "id": "99abc8e5",
   "metadata": {
    "execution": {
     "iopub.execute_input": "2022-07-13T17:36:39.222436Z",
     "iopub.status.busy": "2022-07-13T17:36:39.220414Z",
     "iopub.status.idle": "2022-07-13T17:36:39.244881Z",
     "shell.execute_reply": "2022-07-13T17:36:39.243524Z"
    },
    "papermill": {
     "duration": 0.041278,
     "end_time": "2022-07-13T17:36:39.247588",
     "exception": false,
     "start_time": "2022-07-13T17:36:39.206310",
     "status": "completed"
    },
    "tags": []
   },
   "outputs": [
    {
     "name": "stdout",
     "output_type": "stream",
     "text": [
      "Compare Hybrid Fusion scores up\n"
     ]
    },
    {
     "data": {
      "text/html": [
       "<table style=\"display:inline\"><tr><td style=\"text-align:center\">MVSA-Single</td><td style=\"text-align:center\">MVSA-Multiple</td></tr><tr><td style=\"vertical-align:top\"> <style type=\"text/css\">\n",
       "#T_d3118_row0_col0, #T_d3118_row0_col2, #T_d3118_row1_col0, #T_d3118_row1_col1, #T_d3118_row1_col2, #T_d3118_row2_col1 {\n",
       "  color: lawngreen;\n",
       "}\n",
       "#T_d3118_row0_col1, #T_d3118_row2_col0, #T_d3118_row2_col2, #T_d3118_row3_col0, #T_d3118_row3_col1, #T_d3118_row3_col2, #T_d3118_row4_col0, #T_d3118_row4_col1, #T_d3118_row4_col2 {\n",
       "  color: tomato;\n",
       "}\n",
       "</style>\n",
       "<table style=\"display:inline\" id=\"T_d3118_\">\n",
       "  <thead>\n",
       "    <tr>\n",
       "      <th class=\"blank level0\" >&nbsp;</th>\n",
       "      <th class=\"col_heading level0 col0\" >Accuracy</th>\n",
       "      <th class=\"col_heading level0 col1\" >F1-macro</th>\n",
       "      <th class=\"col_heading level0 col2\" >F1-weighted</th>\n",
       "    </tr>\n",
       "  </thead>\n",
       "  <tbody>\n",
       "    <tr>\n",
       "      <th id=\"T_d3118_level0_row0\" class=\"row_heading level0 row0\" >resnet50-bert</th>\n",
       "      <td id=\"T_d3118_row0_col0\" class=\"data row0 col0\" >0.026608</td>\n",
       "      <td id=\"T_d3118_row0_col1\" class=\"data row0 col1\" >-0.003461</td>\n",
       "      <td id=\"T_d3118_row0_col2\" class=\"data row0 col2\" >0.012282</td>\n",
       "    </tr>\n",
       "    <tr>\n",
       "      <th id=\"T_d3118_level0_row1\" class=\"row_heading level0 row1\" >resnet50-bert-lstm</th>\n",
       "      <td id=\"T_d3118_row1_col0\" class=\"data row1 col0\" >0.011086</td>\n",
       "      <td id=\"T_d3118_row1_col1\" class=\"data row1 col1\" >0.023844</td>\n",
       "      <td id=\"T_d3118_row1_col2\" class=\"data row1 col2\" >0.016213</td>\n",
       "    </tr>\n",
       "    <tr>\n",
       "      <th id=\"T_d3118_level0_row2\" class=\"row_heading level0 row2\" >vgg19-bert-lstm</th>\n",
       "      <td id=\"T_d3118_row2_col0\" class=\"data row2 col0\" >-0.022173</td>\n",
       "      <td id=\"T_d3118_row2_col1\" class=\"data row2 col1\" >0.002300</td>\n",
       "      <td id=\"T_d3118_row2_col2\" class=\"data row2 col2\" >-0.022131</td>\n",
       "    </tr>\n",
       "    <tr>\n",
       "      <th id=\"T_d3118_level0_row3\" class=\"row_heading level0 row3\" >vgg19-bert-pos-lstm</th>\n",
       "      <td id=\"T_d3118_row3_col0\" class=\"data row3 col0\" >-0.011086</td>\n",
       "      <td id=\"T_d3118_row3_col1\" class=\"data row3 col1\" >-0.049268</td>\n",
       "      <td id=\"T_d3118_row3_col2\" class=\"data row3 col2\" >-0.018728</td>\n",
       "    </tr>\n",
       "    <tr>\n",
       "      <th id=\"T_d3118_level0_row4\" class=\"row_heading level0 row4\" >vgg19-bert-pos-ner-lstm</th>\n",
       "      <td id=\"T_d3118_row4_col0\" class=\"data row4 col0\" >-0.026608</td>\n",
       "      <td id=\"T_d3118_row4_col1\" class=\"data row4 col1\" >-0.143274</td>\n",
       "      <td id=\"T_d3118_row4_col2\" class=\"data row4 col2\" >-0.100644</td>\n",
       "    </tr>\n",
       "  </tbody>\n",
       "</table style=\"display:inline\">\n",
       "</td><td style=\"vertical-align:top\"> <style type=\"text/css\">\n",
       "#T_8a663_row0_col0, #T_8a663_row1_col0, #T_8a663_row1_col1, #T_8a663_row1_col2, #T_8a663_row2_col0, #T_8a663_row3_col0, #T_8a663_row3_col1, #T_8a663_row4_col0, #T_8a663_row4_col1, #T_8a663_row4_col2 {\n",
       "  color: lawngreen;\n",
       "}\n",
       "#T_8a663_row0_col1, #T_8a663_row0_col2, #T_8a663_row2_col1, #T_8a663_row2_col2, #T_8a663_row3_col2 {\n",
       "  color: tomato;\n",
       "}\n",
       "</style>\n",
       "<table style=\"display:inline\" id=\"T_8a663_\">\n",
       "  <thead>\n",
       "    <tr>\n",
       "      <th class=\"blank level0\" >&nbsp;</th>\n",
       "      <th class=\"col_heading level0 col0\" >Accuracy</th>\n",
       "      <th class=\"col_heading level0 col1\" >F1-macro</th>\n",
       "      <th class=\"col_heading level0 col2\" >F1-weighted</th>\n",
       "    </tr>\n",
       "  </thead>\n",
       "  <tbody>\n",
       "    <tr>\n",
       "      <th id=\"T_8a663_level0_row0\" class=\"row_heading level0 row0\" >resnet50-bert</th>\n",
       "      <td id=\"T_8a663_row0_col0\" class=\"data row0 col0\" >0.040541</td>\n",
       "      <td id=\"T_8a663_row0_col1\" class=\"data row0 col1\" >-0.005344</td>\n",
       "      <td id=\"T_8a663_row0_col2\" class=\"data row0 col2\" >-0.012184</td>\n",
       "    </tr>\n",
       "    <tr>\n",
       "      <th id=\"T_8a663_level0_row1\" class=\"row_heading level0 row1\" >resnet50-bert-lstm</th>\n",
       "      <td id=\"T_8a663_row1_col0\" class=\"data row1 col0\" >0.001763</td>\n",
       "      <td id=\"T_8a663_row1_col1\" class=\"data row1 col1\" >0.009113</td>\n",
       "      <td id=\"T_8a663_row1_col2\" class=\"data row1 col2\" >0.016228</td>\n",
       "    </tr>\n",
       "    <tr>\n",
       "      <th id=\"T_8a663_level0_row2\" class=\"row_heading level0 row2\" >vgg19-bert-lstm</th>\n",
       "      <td id=\"T_8a663_row2_col0\" class=\"data row2 col0\" >0.021739</td>\n",
       "      <td id=\"T_8a663_row2_col1\" class=\"data row2 col1\" >-0.018171</td>\n",
       "      <td id=\"T_8a663_row2_col2\" class=\"data row2 col2\" >-0.007553</td>\n",
       "    </tr>\n",
       "    <tr>\n",
       "      <th id=\"T_8a663_level0_row3\" class=\"row_heading level0 row3\" >vgg19-bert-pos-lstm</th>\n",
       "      <td id=\"T_8a663_row3_col0\" class=\"data row3 col0\" >0.002350</td>\n",
       "      <td id=\"T_8a663_row3_col1\" class=\"data row3 col1\" >0.006223</td>\n",
       "      <td id=\"T_8a663_row3_col2\" class=\"data row3 col2\" >-0.001208</td>\n",
       "    </tr>\n",
       "    <tr>\n",
       "      <th id=\"T_8a663_level0_row4\" class=\"row_heading level0 row4\" >vgg19-bert-pos-ner-lstm</th>\n",
       "      <td id=\"T_8a663_row4_col0\" class=\"data row4 col0\" >0.025852</td>\n",
       "      <td id=\"T_8a663_row4_col1\" class=\"data row4 col1\" >0.006269</td>\n",
       "      <td id=\"T_8a663_row4_col2\" class=\"data row4 col2\" >0.016537</td>\n",
       "    </tr>\n",
       "  </tbody>\n",
       "</table style=\"display:inline\">\n",
       "</td></tr></table style=\"display:inline\">"
      ]
     },
     "metadata": {},
     "output_type": "display_data"
    }
   ],
   "source": [
    "print('Compare Hybrid Fusion scores up')\n",
    "display_dataframes((df_single_subtract.style.applymap(highlight_neg), df_multiple_subtract.style.applymap(highlight_neg)), \n",
    "                   names=['MVSA-Single', 'MVSA-Multiple'])"
   ]
  },
  {
   "cell_type": "code",
   "execution_count": null,
   "id": "fdb88962",
   "metadata": {
    "papermill": {
     "duration": 0.013527,
     "end_time": "2022-07-13T17:36:39.274422",
     "exception": false,
     "start_time": "2022-07-13T17:36:39.260895",
     "status": "completed"
    },
    "tags": []
   },
   "outputs": [],
   "source": []
  }
 ],
 "metadata": {
  "kernelspec": {
   "display_name": "Python 3",
   "language": "python",
   "name": "python3"
  },
  "language_info": {
   "codemirror_mode": {
    "name": "ipython",
    "version": 3
   },
   "file_extension": ".py",
   "mimetype": "text/x-python",
   "name": "python",
   "nbconvert_exporter": "python",
   "pygments_lexer": "ipython3",
   "version": "3.7.12"
  },
  "papermill": {
   "default_parameters": {},
   "duration": 943.624288,
   "end_time": "2022-07-13T17:36:42.739240",
   "environment_variables": {},
   "exception": null,
   "input_path": "__notebook__.ipynb",
   "output_path": "__notebook__.ipynb",
   "parameters": {},
   "start_time": "2022-07-13T17:20:59.114952",
   "version": "2.3.4"
  }
 },
 "nbformat": 4,
 "nbformat_minor": 5
}
