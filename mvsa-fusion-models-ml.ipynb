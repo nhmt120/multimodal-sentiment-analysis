{
 "cells": [
  {
   "cell_type": "code",
   "execution_count": 1,
   "id": "c7083ddd",
   "metadata": {
    "_cell_guid": "b1076dfc-b9ad-4769-8c92-a6c4dae69d19",
    "_uuid": "8f2839f25d086af736a60e9eeb907d3b93b6e0e5",
    "execution": {
     "iopub.execute_input": "2022-07-05T05:46:47.424561Z",
     "iopub.status.busy": "2022-07-05T05:46:47.423636Z",
     "iopub.status.idle": "2022-07-05T05:46:57.252541Z",
     "shell.execute_reply": "2022-07-05T05:46:57.251587Z"
    },
    "papermill": {
     "duration": 9.843336,
     "end_time": "2022-07-05T05:46:57.255051",
     "exception": false,
     "start_time": "2022-07-05T05:46:47.411715",
     "status": "completed"
    },
    "tags": []
   },
   "outputs": [],
   "source": [
    "SEED = 61\n",
    "\n",
    "import os\n",
    "import re\n",
    "import gc\n",
    "import h5py\n",
    "import torch\n",
    "import numpy as np\n",
    "import pandas as pd\n",
    "import tensorflow as tf\n",
    "import random as python_random\n",
    "import tensorflow_addons as tfa\n",
    "import matplotlib.pyplot as plt\n",
    "\n",
    "from tqdm import tqdm\n",
    "from nltk import tokenize\n",
    "from IPython.display import display_html\n",
    "from transformers import BertTokenizer, BertForMaskedLM, BertModel\n",
    "from tensorflow.python.keras.layers import Layer, InputSpec, Lambda\n",
    "\n",
    "from sklearn import preprocessing\n",
    "from sklearn.decomposition import PCA\n",
    "from sklearn.model_selection import RepeatedKFold, KFold\n",
    "from sklearn.model_selection import cross_val_score\n",
    "from sklearn.metrics import f1_score, accuracy_score, confusion_matrix, ConfusionMatrixDisplay, classification_report\n",
    "\n",
    "from keras import backend as K\n",
    "from keras import initializers,regularizers,constraints\n",
    "from keras.preprocessing.text import Tokenizer, text_to_word_sequence\n",
    "from keras.preprocessing.sequence import pad_sequences\n",
    "from keras.utils.np_utils import to_categorical\n",
    "from keras.layers import Reshape, Input, Embedding, Flatten, Dense, Dropout, BatchNormalization, Activation #, merge\n",
    "from keras.layers import TimeDistributed, LSTM, GRU, Bidirectional, Convolution1D, MaxPooling1D, MaxPooling2D\n",
    "from keras.layers.core import RepeatVector #, Reshape\n",
    "from keras.callbacks import ModelCheckpoint, EarlyStopping, ReduceLROnPlateau\n",
    "from keras.models import Sequential, Model, load_model\n",
    "\n",
    "def reset_seeds():\n",
    "    np.random.seed(SEED) \n",
    "    python_random.seed(SEED)\n",
    "    tf.random.set_seed(SEED)\n",
    "    os.environ[\"PYTHONHASHSEED\"] = str(SEED)\n",
    "\n",
    "# from tensorflow.keras import Model\n",
    "# from attention import Attention_input1, Attention_input2\n",
    "# from keras.optimizers import SGD, RMSprop, Adagrad"
   ]
  },
  {
   "cell_type": "code",
   "execution_count": 2,
   "id": "fafdbafc",
   "metadata": {
    "execution": {
     "iopub.execute_input": "2022-07-05T05:46:57.273380Z",
     "iopub.status.busy": "2022-07-05T05:46:57.272867Z",
     "iopub.status.idle": "2022-07-05T05:46:57.277626Z",
     "shell.execute_reply": "2022-07-05T05:46:57.276608Z"
    },
    "papermill": {
     "duration": 0.016315,
     "end_time": "2022-07-05T05:46:57.279904",
     "exception": false,
     "start_time": "2022-07-05T05:46:57.263589",
     "status": "completed"
    },
    "tags": []
   },
   "outputs": [],
   "source": [
    "NUM_CLASSES = 3"
   ]
  },
  {
   "cell_type": "code",
   "execution_count": 3,
   "id": "9f673a43",
   "metadata": {
    "execution": {
     "iopub.execute_input": "2022-07-05T05:46:57.297962Z",
     "iopub.status.busy": "2022-07-05T05:46:57.297658Z",
     "iopub.status.idle": "2022-07-05T05:46:57.304428Z",
     "shell.execute_reply": "2022-07-05T05:46:57.303481Z"
    },
    "papermill": {
     "duration": 0.018179,
     "end_time": "2022-07-05T05:46:57.306384",
     "exception": false,
     "start_time": "2022-07-05T05:46:57.288205",
     "status": "completed"
    },
    "tags": []
   },
   "outputs": [],
   "source": [
    "def read_hdf5(path):\n",
    "    read_file = h5py.File(path, 'r')\n",
    "    \n",
    "    feature_names = list(read_file.keys())\n",
    "    loaded_data = []\n",
    "    \n",
    "    for name in feature_names:\n",
    "        dataset = read_file[name][:]\n",
    "        if dataset.dtype == np.dtype('object'):\n",
    "            dataset = np.array([x.decode('UTF-8') for x in dataset])            \n",
    "        loaded_data.append((name, dataset))\n",
    "\n",
    "    return loaded_data\n",
    "\n",
    "def loadz(path):\n",
    "    data = np.load(path)['arr_0']\n",
    "    return data"
   ]
  },
  {
   "cell_type": "code",
   "execution_count": 4,
   "id": "1d44fe67",
   "metadata": {
    "execution": {
     "iopub.execute_input": "2022-07-05T05:46:57.324426Z",
     "iopub.status.busy": "2022-07-05T05:46:57.324107Z",
     "iopub.status.idle": "2022-07-05T05:46:57.332667Z",
     "shell.execute_reply": "2022-07-05T05:46:57.331721Z"
    },
    "papermill": {
     "duration": 0.019809,
     "end_time": "2022-07-05T05:46:57.334560",
     "exception": false,
     "start_time": "2022-07-05T05:46:57.314751",
     "status": "completed"
    },
    "tags": []
   },
   "outputs": [],
   "source": [
    "def load_labels(path):\n",
    "    data = read_hdf5(path)\n",
    "\n",
    "    for x in data:\n",
    "        if x[0] == 'multimodal-labels':\n",
    "            labels = x[1]\n",
    "        if x[0] == 'text-labels':\n",
    "            text_labels = x[1]\n",
    "        if x[0] == 'image-labels':\n",
    "            image_labels = x[1]\n",
    "        \n",
    "    return labels, text_labels, image_labels\n",
    "\n",
    "def merge_mvsa(mvsa_single, mvsa_multiple):\n",
    "    mvsa = np.concatenate((mvsa_single, mvsa_multiple), axis=0)\n",
    "    return mvsa\n",
    "\n",
    "def load_mvsa_feature(feature_name, merge=False):\n",
    "    folder_path = os.path.join('../input/mvsa-features/', feature_name)\n",
    "    single_file = 'mvsa-single-{}.npz'.format(feature_name)\n",
    "    multiple_file = 'mvsa-multiple-{}.npz'.format(feature_name)\n",
    "    mvsa_single = loadz(os.path.join(folder_path, single_file))\n",
    "    mvsa_multiple = loadz(os.path.join(folder_path, multiple_file))\n",
    "    \n",
    "    if merge == True:\n",
    "        return merge_mvsa(mvsa_single, mvsa_multiple)\n",
    "    \n",
    "    return mvsa_single, mvsa_multiple"
   ]
  },
  {
   "cell_type": "code",
   "execution_count": 5,
   "id": "90887daa",
   "metadata": {
    "execution": {
     "iopub.execute_input": "2022-07-05T05:46:57.352510Z",
     "iopub.status.busy": "2022-07-05T05:46:57.351708Z",
     "iopub.status.idle": "2022-07-05T05:46:57.357920Z",
     "shell.execute_reply": "2022-07-05T05:46:57.357083Z"
    },
    "papermill": {
     "duration": 0.017067,
     "end_time": "2022-07-05T05:46:57.359780",
     "exception": false,
     "start_time": "2022-07-05T05:46:57.342713",
     "status": "completed"
    },
    "tags": []
   },
   "outputs": [],
   "source": [
    "# e.g. validation_split=0.1 -----> 8:1:1 ratio of train, val, test\n",
    "def split_data(data, validation_split):\n",
    "    num_val = int(validation_split * data.shape[0])\n",
    "    data_train = data[:-(num_val*2)]\n",
    "    data_val = data[-(num_val*2):-(num_val)]\n",
    "    data_test = data[-num_val:]\n",
    "    return data_train, data_val, data_test"
   ]
  },
  {
   "cell_type": "code",
   "execution_count": 6,
   "id": "26de0b30",
   "metadata": {
    "execution": {
     "iopub.execute_input": "2022-07-05T05:46:57.378915Z",
     "iopub.status.busy": "2022-07-05T05:46:57.378399Z",
     "iopub.status.idle": "2022-07-05T05:46:57.388556Z",
     "shell.execute_reply": "2022-07-05T05:46:57.387651Z"
    },
    "papermill": {
     "duration": 0.021826,
     "end_time": "2022-07-05T05:46:57.390450",
     "exception": false,
     "start_time": "2022-07-05T05:46:57.368624",
     "status": "completed"
    },
    "tags": []
   },
   "outputs": [],
   "source": [
    "def weighted_average(weights, probs):\n",
    "    ''' Calculate the weighted average probability distribution from all input probs and its weights \n",
    "    weights: weights list (or array)\n",
    "    probs: probability distributions array list\n",
    "    '''\n",
    "    output_probs = []\n",
    "    weighted_probs = [probs[i] * weights[i] for i in range(len(weights))]\n",
    "    for i in range(len(probs[0])):\n",
    "        sum_prob = np.zeros(len(probs[0][0]))\n",
    "        for j in range(len(weights)):\n",
    "            sum_prob = np.sum((sum_prob, weighted_probs[j][i]), axis=0)\n",
    "        output_probs.append(sum_prob)\n",
    "    return np.asarray(output_probs, dtype='float32')\n",
    "\n",
    "def get_average_weights(*scores, inverse=False):\n",
    "    ''' Get the corresponding weight of each input score \n",
    "    inverse: (bool) get inverse weights value in case of the smaller score value, the bigger weight value (such as model loss)\n",
    "    '''\n",
    "    \n",
    "    weights = []\n",
    "    for score in scores:\n",
    "        weights.append(score/np.sum(scores))\n",
    "    \n",
    "    if inverse == True:\n",
    "        inverse_weights = []\n",
    "        inverse = [1/weight for weight in weights]\n",
    "        for inv in inverse:\n",
    "            inverse_weights.append(inv/np.sum(inverse))\n",
    "        weights = inverse_weights\n",
    "\n",
    "    return weights"
   ]
  },
  {
   "cell_type": "code",
   "execution_count": 7,
   "id": "1dc4a3d4",
   "metadata": {
    "execution": {
     "iopub.execute_input": "2022-07-05T05:46:57.408487Z",
     "iopub.status.busy": "2022-07-05T05:46:57.408205Z",
     "iopub.status.idle": "2022-07-05T05:47:03.431450Z",
     "shell.execute_reply": "2022-07-05T05:47:03.430462Z"
    },
    "papermill": {
     "duration": 6.035567,
     "end_time": "2022-07-05T05:47:03.434625",
     "exception": false,
     "start_time": "2022-07-05T05:46:57.399058",
     "status": "completed"
    },
    "tags": []
   },
   "outputs": [
    {
     "name": "stderr",
     "output_type": "stream",
     "text": [
      "2022-07-05 05:46:57.510882: I tensorflow/stream_executor/cuda/cuda_gpu_executor.cc:937] successful NUMA node read from SysFS had negative value (-1), but there must be at least one NUMA node, so returning NUMA node zero\n",
      "2022-07-05 05:46:57.511975: I tensorflow/stream_executor/cuda/cuda_gpu_executor.cc:937] successful NUMA node read from SysFS had negative value (-1), but there must be at least one NUMA node, so returning NUMA node zero\n",
      "2022-07-05 05:46:57.512651: I tensorflow/stream_executor/cuda/cuda_gpu_executor.cc:937] successful NUMA node read from SysFS had negative value (-1), but there must be at least one NUMA node, so returning NUMA node zero\n",
      "2022-07-05 05:46:57.513532: I tensorflow/core/platform/cpu_feature_guard.cc:142] This TensorFlow binary is optimized with oneAPI Deep Neural Network Library (oneDNN) to use the following CPU instructions in performance-critical operations:  AVX2 AVX512F FMA\n",
      "To enable them in other operations, rebuild TensorFlow with the appropriate compiler flags.\n",
      "2022-07-05 05:46:57.513831: I tensorflow/stream_executor/cuda/cuda_gpu_executor.cc:937] successful NUMA node read from SysFS had negative value (-1), but there must be at least one NUMA node, so returning NUMA node zero\n",
      "2022-07-05 05:46:57.514512: I tensorflow/stream_executor/cuda/cuda_gpu_executor.cc:937] successful NUMA node read from SysFS had negative value (-1), but there must be at least one NUMA node, so returning NUMA node zero\n",
      "2022-07-05 05:46:57.515222: I tensorflow/stream_executor/cuda/cuda_gpu_executor.cc:937] successful NUMA node read from SysFS had negative value (-1), but there must be at least one NUMA node, so returning NUMA node zero\n",
      "2022-07-05 05:47:03.104433: I tensorflow/stream_executor/cuda/cuda_gpu_executor.cc:937] successful NUMA node read from SysFS had negative value (-1), but there must be at least one NUMA node, so returning NUMA node zero\n",
      "2022-07-05 05:47:03.105280: I tensorflow/stream_executor/cuda/cuda_gpu_executor.cc:937] successful NUMA node read from SysFS had negative value (-1), but there must be at least one NUMA node, so returning NUMA node zero\n",
      "2022-07-05 05:47:03.105943: I tensorflow/stream_executor/cuda/cuda_gpu_executor.cc:937] successful NUMA node read from SysFS had negative value (-1), but there must be at least one NUMA node, so returning NUMA node zero\n",
      "2022-07-05 05:47:03.106635: I tensorflow/core/common_runtime/gpu/gpu_device.cc:1510] Created device /job:localhost/replica:0/task:0/device:GPU:0 with 15047 MB memory:  -> device: 0, name: Tesla P100-PCIE-16GB, pci bus id: 0000:00:04.0, compute capability: 6.0\n"
     ]
    }
   ],
   "source": [
    "f1_macro = tfa.metrics.F1Score(num_classes=NUM_CLASSES, average='macro', name='f1_macro')\n",
    "f1_weighted = tfa.metrics.F1Score(num_classes=NUM_CLASSES, average='weighted', name='f1_weighted')\n",
    "    \n",
    "def create_model_text(input_shape, lstm=True):\n",
    "    text_input = Input(shape=input_shape)\n",
    "    if lstm == True:\n",
    "        reshape_text = Reshape((1, -1)) (text_input)\n",
    "        lstm = LSTM(NUM_LSTM) (reshape_text)\n",
    "        outputs = Dense(NUM_CLASSES, activation='softmax') (lstm)\n",
    "    else:\n",
    "        outputs = Dense(NUM_CLASSES, activation='softmax') (text_input)\n",
    "    model = Model(text_input, outputs)\n",
    "    model.compile(optimizer='adam', loss='categorical_crossentropy', metrics=['accuracy', f1_macro, f1_weighted])\n",
    "    return model\n",
    "\n",
    "def create_model_image(input_shape):\n",
    "    image_input = Input(shape=input_shape)\n",
    "    outputs = Dense(NUM_CLASSES, activation='softmax') (image_input)\n",
    "    model = Model(image_input, outputs)\n",
    "    model.compile(optimizer='adam', loss='categorical_crossentropy', metrics=['accuracy', f1_macro, f1_weighted])\n",
    "    return model\n",
    "\n",
    "def create_model_IF(text_shape, image_shape, lstm=True):\n",
    "    image_input = Input(shape=image_shape)\n",
    "    text_input = Input(shape=text_shape)\n",
    "    if lstm == True:\n",
    "        text_reshape = Reshape((1, -1)) (text_input)\n",
    "        text_lstm = LSTM(NUM_LSTM) (text_reshape)\n",
    "#     text_lstm = Dropout(DROPOUT_RATE) (text_lstm)\n",
    "        text_image_concat = tf.keras.layers.Concatenate(axis=1)([text_lstm, image_input])\n",
    "    else:\n",
    "        text_image_concat = tf.keras.layers.Concatenate(axis=1)([text_input, image_input])\n",
    "    concat_self_attention = tf.keras.layers.Attention() ([text_image_concat, text_image_concat])\n",
    "#     concat_self_attention = Dropout(DROPOUT_RATE) (concat_self_attention)\n",
    "    outputs = Dense(NUM_CLASSES, activation='softmax') (concat_self_attention)\n",
    "    model = Model([text_input, image_input], outputs)\n",
    "    model.compile(optimizer='adam', loss='categorical_crossentropy', metrics=['accuracy', f1_macro, f1_weighted])\n",
    "    return model"
   ]
  },
  {
   "cell_type": "code",
   "execution_count": 8,
   "id": "b0cd0e85",
   "metadata": {
    "execution": {
     "iopub.execute_input": "2022-07-05T05:47:03.454034Z",
     "iopub.status.busy": "2022-07-05T05:47:03.453732Z",
     "iopub.status.idle": "2022-07-05T05:47:03.467368Z",
     "shell.execute_reply": "2022-07-05T05:47:03.466338Z"
    },
    "papermill": {
     "duration": 0.025494,
     "end_time": "2022-07-05T05:47:03.469639",
     "exception": false,
     "start_time": "2022-07-05T05:47:03.444145",
     "status": "completed"
    },
    "tags": []
   },
   "outputs": [],
   "source": [
    "def run_and_evaluate_IF(name, X1, X2, y, verbose=0, lstm=True):\n",
    "    '''  Train and test Intermediate Fusion model Multimodal Labels \n",
    "    X1: text input\n",
    "    X2: image input\n",
    "    y: multimodal labels\n",
    "    '''\n",
    "    y = le.fit_transform(y)\n",
    "    y = to_categorical(np.asarray(y))\n",
    "    \n",
    "    X1_train, X1_val, X1_test = split_data(X1, VALIDATION_SPLIT)\n",
    "    X2_train, X2_val, X2_test = split_data(X2, VALIDATION_SPLIT)\n",
    "    y_train, y_val, y_test = split_data(y, VALIDATION_SPLIT)\n",
    "    \n",
    "    if lstm == False:\n",
    "        model = create_model_IF(X1_train.shape[1:], X2_train.shape[1:], lstm=False)\n",
    "    else:\n",
    "        model = create_model_IF(X1_train.shape[1:], X2_train.shape[1:])\n",
    "    early_stopping = EarlyStopping(monitor='val_loss', min_delta=1e-4, patience=EARLY_STOPPING)\n",
    "    checkpoint = ModelCheckpoint('./model_checkpoint/{}.h5'.format(name), save_best_only=True, verbose=verbose)\n",
    "    \n",
    "    history = model.fit([X1_train, X2_train], y_train, validation_data=([X1_val, X2_val], y_val), \n",
    "                        epochs=EPOCHS, batch_size=BATCH_SIZE, verbose=verbose,\n",
    "                        callbacks=[checkpoint, early_stopping])\n",
    "    if verbose == 1:\n",
    "        best_epoch = np.argmin(history.history['val_loss'])\n",
    "        print('\\nCheckpoint loaded at epoch:', best_epoch)\n",
    "        \n",
    "    return history, evaluate_model_IF(model, X1_test, X2_test, y_test, checkpoint=name, verbose=verbose)\n",
    "\n",
    "def evaluate_model_IF(model, X_texts, X_images, y_test, checkpoint=None, verbose=1):\n",
    "    if checkpoint is not None:\n",
    "        model = load_model('./model_checkpoint/{}.h5'.format(checkpoint))\n",
    "    \n",
    "    loss, acc, f1_macro, f1_weighted = model.evaluate([X_texts, X_images], y_test, verbose=verbose)\n",
    "\n",
    "    if verbose == 1:\n",
    "        print('Loss:', loss)\n",
    "        print('Accuracy:', acc)\n",
    "        print('Macro F1-score:', f1_macro)\n",
    "        print('Weighted F1-score:', f1_weighted)\n",
    "\n",
    "        y_pred = model.predict([X_texts, X_images])\n",
    "        matrix = confusion_matrix(le.inverse_transform(y_test.argmax(axis=1)), le.inverse_transform(y_pred.argmax(axis=1)), \n",
    "                                  labels=list(le.classes_))\n",
    "        cm_disp = ConfusionMatrixDisplay(confusion_matrix=matrix,\n",
    "                                  display_labels=list(le.classes_))\n",
    "        cm_disp.plot()\n",
    "        plt.show()\n",
    "        \n",
    "    return loss, acc, f1_macro, f1_weighted"
   ]
  },
  {
   "cell_type": "code",
   "execution_count": 9,
   "id": "5bf6c470",
   "metadata": {
    "execution": {
     "iopub.execute_input": "2022-07-05T05:47:03.488405Z",
     "iopub.status.busy": "2022-07-05T05:47:03.488074Z",
     "iopub.status.idle": "2022-07-05T05:47:03.502336Z",
     "shell.execute_reply": "2022-07-05T05:47:03.501337Z"
    },
    "papermill": {
     "duration": 0.026387,
     "end_time": "2022-07-05T05:47:03.504299",
     "exception": false,
     "start_time": "2022-07-05T05:47:03.477912",
     "status": "completed"
    },
    "tags": []
   },
   "outputs": [],
   "source": [
    "def run_and_evaluate_LF(name, X1, X2, y, verbose=0, lstm=True):\n",
    "    ''' Train and test Late Fusion model only with Multimodal Labels \n",
    "    X1: text input\n",
    "    X2: image input\n",
    "    y: multimodal labels\n",
    "    y1: text labels\n",
    "    y2: image labels\n",
    "    verbose: 0 or 1 to print tracking on progress\n",
    "    '''\n",
    "    y = le.fit_transform(y)\n",
    "    y = to_categorical(np.asarray(y))\n",
    "\n",
    "    X1_train, X1_val, X1_test = split_data(X1, VALIDATION_SPLIT)\n",
    "    X2_train, X2_val, X2_test = split_data(X2, VALIDATION_SPLIT)\n",
    "    y_train, y_val, y_test = split_data(y, VALIDATION_SPLIT)\n",
    "\n",
    "    if lstm == False:\n",
    "        model_text = create_model_text(X1_train.shape[1:], lstm=False)\n",
    "    else:\n",
    "        model_text = create_model_text(X1_train.shape[1:])\n",
    "    model_image = create_model_image(X2_train.shape[1:])\n",
    "\n",
    "    early_stopping1 = EarlyStopping(monitor='val_loss', min_delta=1e-4, patience=EARLY_STOPPING)\n",
    "    early_stopping2 = EarlyStopping(monitor='val_loss', min_delta=1e-4, patience=EARLY_STOPPING)\n",
    "    checkpoint_text = ModelCheckpoint('./model_checkpoint/{}-text.h5'.format(name), save_best_only=True, verbose=verbose)\n",
    "    checkpoint_image = ModelCheckpoint('./model_checkpoint/{}-image.h5'.format(name), save_best_only=True, verbose=verbose)\n",
    "    \n",
    "    history_text = model_text.fit(X1_train, y_train, validation_data=(X1_val, y_val), \n",
    "                                  epochs=EPOCHS, batch_size=BATCH_SIZE, verbose=verbose,\n",
    "                                  callbacks=[checkpoint_text, early_stopping1])\n",
    "    \n",
    "    history_image = model_image.fit(X2_train, y_train, validation_data=(X2_val, y_val), \n",
    "                                    epochs=EPOCHS, batch_size=BATCH_SIZE, verbose=verbose,\n",
    "                                    callbacks=[checkpoint_image, early_stopping2])\n",
    "    \n",
    "    best_val_acc_text = np.min(history_text.history['val_accuracy'])\n",
    "    best_val_acc_image = np.min(history_image.history['val_accuracy'])\n",
    "\n",
    "    weights = get_average_weights(best_val_acc_text, best_val_acc_image)\n",
    "\n",
    "    model_text = load_model('./model_checkpoint/{}-text.h5'.format(name))\n",
    "    model_image = load_model('./model_checkpoint/{}-image.h5'.format(name))\n",
    "\n",
    "    y_pred_text = model_text.predict(X1_test)\n",
    "    y_pred_image = model_image.predict(X2_test)\n",
    "\n",
    "    y_pred = weighted_average(weights, np.asarray([y_pred_text, y_pred_image], dtype='float32'))\n",
    "\n",
    "    best_epoch_text = np.argmin(history_text.history['val_loss'])\n",
    "    best_epoch_image = np.argmin(history_image.history['val_loss'])\n",
    "\n",
    "    if verbose == 1:\n",
    "        print('Checkpoint of text model loaded at epoch:', best_epoch_text)\n",
    "        print('Checkpoint of image model loaded at epoch:', best_epoch_image)\n",
    "\n",
    "    return evaluate_model_LF(y_test, y_pred, verbose=verbose)"
   ]
  },
  {
   "cell_type": "code",
   "execution_count": 10,
   "id": "2d6e9288",
   "metadata": {
    "execution": {
     "iopub.execute_input": "2022-07-05T05:47:03.523064Z",
     "iopub.status.busy": "2022-07-05T05:47:03.522755Z",
     "iopub.status.idle": "2022-07-05T05:47:03.539956Z",
     "shell.execute_reply": "2022-07-05T05:47:03.538976Z"
    },
    "papermill": {
     "duration": 0.028998,
     "end_time": "2022-07-05T05:47:03.541862",
     "exception": false,
     "start_time": "2022-07-05T05:47:03.512864",
     "status": "completed"
    },
    "tags": []
   },
   "outputs": [],
   "source": [
    "def run_and_evaluate_HF(name, X1, X2, y, verbose=0, lstm=True):\n",
    "    ''' Train Hybrid Fusion model and test only with Multimodal Labels\n",
    "    X1: text input\n",
    "    X2: image input\n",
    "    y: labels\n",
    "    verbose: 0 or 1 to print tracking on progress\n",
    "    '''\n",
    "    y = le.fit_transform(y)\n",
    "    y = to_categorical(np.asarray(y))\n",
    "    \n",
    "    X1_train, X1_val, X1_test = split_data(X1, VALIDATION_SPLIT)\n",
    "    X2_train, X2_val, X2_test = split_data(X2, VALIDATION_SPLIT)\n",
    "    y_train, y_val, y_test = split_data(y, VALIDATION_SPLIT)\n",
    "    \n",
    "    if lstm == False:\n",
    "        model_text = create_model_text(X1_train.shape[1:], lstm=False)\n",
    "        model_IF = create_model_IF(X1_train.shape[1:], X2_train.shape[1:], lstm=False)\n",
    "    model_text = create_model_text(X1_train.shape[1:])\n",
    "    model_IF = create_model_IF(X1_train.shape[1:], X2_train.shape[1:])\n",
    "    model_image = create_model_image(X2_train.shape[1:])\n",
    "\n",
    "    early_stopping1 = EarlyStopping(monitor='val_loss', min_delta=1e-4, patience=EARLY_STOPPING)\n",
    "    early_stopping2 = EarlyStopping(monitor='val_loss', min_delta=1e-4, patience=EARLY_STOPPING)\n",
    "    early_stopping3 = EarlyStopping(monitor='val_loss', min_delta=1e-4, patience=EARLY_STOPPING)\n",
    "\n",
    "    checkpoint_text = ModelCheckpoint('./model_checkpoint/{}-text.h5'.format(name), save_best_only=True, verbose=verbose)\n",
    "    checkpoint_image = ModelCheckpoint('./model_checkpoint/{}-image.h5'.format(name), save_best_only=True, verbose=verbose)\n",
    "    checkpoint_IF = ModelCheckpoint('./model_checkpoint/{}-IF.h5'.format(name), save_best_only=True, verbose=verbose)\n",
    "\n",
    "    history_text = model_text.fit(X1_train, y_train, validation_data=(X1_val, y_val), \n",
    "                        epochs=EPOCHS, batch_size=BATCH_SIZE, verbose=verbose,\n",
    "                        callbacks=[checkpoint_text, early_stopping1])\n",
    "    \n",
    "    history_image = model_image.fit(X2_train, y_train, validation_data=(X2_val, y_val), \n",
    "                        epochs=EPOCHS, batch_size=BATCH_SIZE, verbose=verbose,\n",
    "                        callbacks=[checkpoint_image, early_stopping2])\n",
    "    \n",
    "    history_IF = model_IF.fit([X1_train, X2_train], y_train, validation_data=([X1_val, X2_val], y_val), \n",
    "                        epochs=EPOCHS, batch_size=BATCH_SIZE, verbose=verbose,\n",
    "                        callbacks=[checkpoint_IF, early_stopping3])\n",
    "    \n",
    "    best_val_acc_text = np.min(history_text.history['val_accuracy'])\n",
    "    best_val_acc_image = np.min(history_image.history['val_accuracy'])\n",
    "    best_val_acc_IF = np.min(history_IF.history['val_accuracy'])\n",
    "    \n",
    "    weights = get_average_weights(best_val_acc_text, best_val_acc_image, best_val_acc_IF)\n",
    "\n",
    "    model_text = load_model('./model_checkpoint/{}-text.h5'.format(name))\n",
    "    model_image = load_model('./model_checkpoint/{}-image.h5'.format(name))\n",
    "    model_IF = load_model('./model_checkpoint/{}-IF.h5'.format(name))\n",
    "\n",
    "    y_pred_text = model_text.predict(X1_test)\n",
    "    y_pred_image = model_image.predict(X2_test)\n",
    "    y_pred_IF = model_IF.predict([X1_test, X2_test])\n",
    "    \n",
    "    y_pred = weighted_average(weights, np.asarray([y_pred_text, y_pred_image, y_pred_IF], dtype='float32'))\n",
    "    \n",
    "    best_epoch_text = np.argmin(history_text.history['val_loss'])\n",
    "    best_epoch_image = np.argmin(history_image.history['val_loss'])\n",
    "    best_epoch_IF = np.argmin(history_IF.history['val_loss'])\n",
    "    \n",
    "    if verbose == 1:\n",
    "        print('Checkpoint of text model loaded at epoch:', best_epoch_text)\n",
    "        print('Checkpoint of image model loaded at epoch:', best_epoch_image)\n",
    "        print('Checkpoint of IF model loaded at epoch:', best_epoch_IF)\n",
    "\n",
    "    return evaluate_model_LF(y_test, y_pred, verbose=verbose)"
   ]
  },
  {
   "cell_type": "code",
   "execution_count": 11,
   "id": "ee94b276",
   "metadata": {
    "execution": {
     "iopub.execute_input": "2022-07-05T05:47:03.563169Z",
     "iopub.status.busy": "2022-07-05T05:47:03.561327Z",
     "iopub.status.idle": "2022-07-05T05:47:03.570105Z",
     "shell.execute_reply": "2022-07-05T05:47:03.569017Z"
    },
    "papermill": {
     "duration": 0.020937,
     "end_time": "2022-07-05T05:47:03.572079",
     "exception": false,
     "start_time": "2022-07-05T05:47:03.551142",
     "status": "completed"
    },
    "tags": []
   },
   "outputs": [],
   "source": [
    "def evaluate_model_LF(y_true, y_pred, verbose=0):\n",
    "    \n",
    "    y_pred = le.inverse_transform(y_pred.argmax(axis=1))\n",
    "    y_true = le.inverse_transform(y_true.argmax(axis=1))\n",
    "\n",
    "    acc = accuracy_score(y_true, y_pred)\n",
    "    f1_macro = f1_score(y_true, y_pred, average='macro')\n",
    "    f1_weighted = f1_score(y_true, y_pred, average='weighted')\n",
    "\n",
    "    if verbose == 1:\n",
    "        print(classification_report(y_true, y_pred))\n",
    "        matrix = confusion_matrix(y_true, y_pred,\n",
    "                                  labels=list(le.classes_))\n",
    "        cm_disp = ConfusionMatrixDisplay(confusion_matrix=matrix,\n",
    "                                  display_labels=list(le.classes_))\n",
    "        cm_disp.plot()\n",
    "        plt.show()\n",
    "\n",
    "    return acc, f1_macro, f1_weighted"
   ]
  },
  {
   "cell_type": "code",
   "execution_count": 12,
   "id": "a9f7b03f",
   "metadata": {
    "execution": {
     "iopub.execute_input": "2022-07-05T05:47:03.590398Z",
     "iopub.status.busy": "2022-07-05T05:47:03.590081Z",
     "iopub.status.idle": "2022-07-05T05:47:03.600992Z",
     "shell.execute_reply": "2022-07-05T05:47:03.599986Z"
    },
    "papermill": {
     "duration": 0.022494,
     "end_time": "2022-07-05T05:47:03.603007",
     "exception": false,
     "start_time": "2022-07-05T05:47:03.580513",
     "status": "completed"
    },
    "tags": []
   },
   "outputs": [],
   "source": [
    "def plot_metrics(history):\n",
    "    fig = plt.figure(figsize=(20, 5))\n",
    "\n",
    "    fig.add_subplot(1, 4, 1)\n",
    "    plt.plot(history.history['loss'])\n",
    "    plt.plot(history.history['val_loss'])\n",
    "    plt.title('LOSS')\n",
    "    plt.ylabel('loss')\n",
    "    plt.xlabel('epoch')\n",
    "    plt.legend(['train', 'val'], loc='best')\n",
    "\n",
    "    fig.add_subplot(1, 4, 2)\n",
    "    plt.plot(history.history['accuracy'])\n",
    "    plt.plot(history.history['val_accuracy'])\n",
    "    plt.title('ACCURACY')\n",
    "    plt.ylabel('accuracy')\n",
    "    plt.xlabel('epoch')\n",
    "    plt.legend(['train', 'val'], loc='best')\n",
    "\n",
    "    fig.add_subplot(1, 4, 3)\n",
    "    plt.plot(history.history['f1_macro'])\n",
    "    plt.plot(history.history['val_f1_macro'])\n",
    "    plt.title('Macro F1-SCORE')\n",
    "    plt.ylabel('f1-macro')\n",
    "    plt.xlabel('epoch')\n",
    "    plt.legend(['train', 'val'], loc='best')\n",
    "    \n",
    "    fig.add_subplot(1, 4, 4)\n",
    "    plt.plot(history.history['f1_weighted'])\n",
    "    plt.plot(history.history['val_f1_weighted'])\n",
    "    plt.title('Weighted F1-SCORE')\n",
    "    plt.ylabel('f1-weighted')\n",
    "    plt.xlabel('epoch')\n",
    "    plt.legend(['train', 'val'], loc='best')\n",
    "\n",
    "    plt.show()"
   ]
  },
  {
   "cell_type": "code",
   "execution_count": 13,
   "id": "04a1b4c4",
   "metadata": {
    "execution": {
     "iopub.execute_input": "2022-07-05T05:47:03.621696Z",
     "iopub.status.busy": "2022-07-05T05:47:03.620893Z",
     "iopub.status.idle": "2022-07-05T05:47:03.629428Z",
     "shell.execute_reply": "2022-07-05T05:47:03.628575Z"
    },
    "papermill": {
     "duration": 0.020054,
     "end_time": "2022-07-05T05:47:03.631416",
     "exception": false,
     "start_time": "2022-07-05T05:47:03.611362",
     "status": "completed"
    },
    "tags": []
   },
   "outputs": [],
   "source": [
    "def style_dataframe(dataframe):\n",
    "    return dataframe.style.highlight_max(subset=['Accuracy', 'F1-macro', 'F1-weighted'], props='color:lawngreen', axis=0)\\\n",
    "                          .highlight_min(subset=['Accuracy', 'F1-macro', 'F1-weighted'], props='color:tomato', axis=0)\n",
    "\n",
    "def display_dataframes(dfs, names=[], index=False):\n",
    "    def to_df(x):\n",
    "        if isinstance(x, pd.Series):\n",
    "            return pd.DataFrame(x)\n",
    "        else:\n",
    "            return x\n",
    "    html_str = ''\n",
    "    if names:\n",
    "        html_str += ('<tr>' + \n",
    "                     ''.join(f'<td style=\"text-align:center\">{name}</td>' for name in names) + \n",
    "                     '</tr>')\n",
    "    html_str += ('<tr>' + \n",
    "                 ''.join(f'<td style=\"vertical-align:top\"> {to_df(df).to_html()}</td>' \n",
    "                         for df in dfs) + \n",
    "                 '</tr>')\n",
    "    html_str = f'<table>{html_str}</table>'\n",
    "    html_str = html_str.replace('table','table style=\"display:inline\"')\n",
    "    display_html(html_str, raw=True)"
   ]
  },
  {
   "cell_type": "markdown",
   "id": "cb21619b",
   "metadata": {
    "papermill": {
     "duration": 0.008219,
     "end_time": "2022-07-05T05:47:03.648110",
     "exception": false,
     "start_time": "2022-07-05T05:47:03.639891",
     "status": "completed"
    },
    "tags": []
   },
   "source": [
    "# Load data"
   ]
  },
  {
   "cell_type": "code",
   "execution_count": 14,
   "id": "ac49f234",
   "metadata": {
    "execution": {
     "iopub.execute_input": "2022-07-05T05:47:03.667112Z",
     "iopub.status.busy": "2022-07-05T05:47:03.666161Z",
     "iopub.status.idle": "2022-07-05T05:47:18.713997Z",
     "shell.execute_reply": "2022-07-05T05:47:18.712960Z"
    },
    "papermill": {
     "duration": 15.060471,
     "end_time": "2022-07-05T05:47:18.716764",
     "exception": false,
     "start_time": "2022-07-05T05:47:03.656293",
     "status": "completed"
    },
    "tags": []
   },
   "outputs": [],
   "source": [
    "## Choose best\n",
    "# Load text feature\n",
    "mvsa_single_bert, mvsa_multiple_bert = load_mvsa_feature('bert-base')\n",
    "mvsa_single_pos_bow, mvsa_multiple_pos_bow = load_mvsa_feature('pos-bow')\n",
    "mvsa_single_pos_tfidf, mvsa_multiple_pos_tfidf = load_mvsa_feature('pos-tfidf')\n",
    "mvsa_single_ner_bow, mvsa_multiple_ner_bow = load_mvsa_feature('ner-bow')\n",
    "mvsa_single_ner_tfidf, mvsa_multiple_ner_tfidf = load_mvsa_feature('ner-tfidf')\n",
    "\n",
    "## Load image feature\n",
    "mvsa_single_vgg16, mvsa_multiple_vgg16 = load_mvsa_feature('vgg16')\n",
    "mvsa_single_vgg19, mvsa_multiple_vgg19 = load_mvsa_feature('vgg19')\n",
    "mvsa_single_resnet50, mvsa_multiple_resnet50 = load_mvsa_feature('resnet50')\n",
    "mvsa_single_resnet101, mvsa_multiple_resnet101 = load_mvsa_feature('resnet101')\n",
    "mvsa_single_resnet152, mvsa_multiple_resnet152 = load_mvsa_feature('resnet152')\n",
    "mvsa_single_densenet121, mvsa_multiple_densenet121 = load_mvsa_feature('densenet121')\n",
    "mvsa_single_densenet169, mvsa_multiple_densenet169 = load_mvsa_feature('densenet169')\n",
    "mvsa_single_densenet201, mvsa_multiple_densenet201 = load_mvsa_feature('densenet201')"
   ]
  },
  {
   "cell_type": "code",
   "execution_count": 15,
   "id": "d2dbb9df",
   "metadata": {
    "execution": {
     "iopub.execute_input": "2022-07-05T05:47:18.735504Z",
     "iopub.status.busy": "2022-07-05T05:47:18.735073Z",
     "iopub.status.idle": "2022-07-05T05:47:18.820649Z",
     "shell.execute_reply": "2022-07-05T05:47:18.819686Z"
    },
    "papermill": {
     "duration": 0.097614,
     "end_time": "2022-07-05T05:47:18.823133",
     "exception": false,
     "start_time": "2022-07-05T05:47:18.725519",
     "status": "completed"
    },
    "tags": []
   },
   "outputs": [],
   "source": [
    "mvsa_single_bert_pos = np.concatenate((mvsa_single_bert, mvsa_single_pos_tfidf), axis=1)\n",
    "mvsa_single_bert_pos_ner = np.concatenate((mvsa_single_bert, mvsa_single_pos_tfidf, mvsa_single_ner_tfidf), axis=1)\n",
    "\n",
    "mvsa_multiple_bert_pos = np.concatenate((mvsa_multiple_bert, mvsa_multiple_pos_tfidf), axis=1)\n",
    "mvsa_multiple_bert_pos_ner = np.concatenate((mvsa_multiple_bert, mvsa_multiple_pos_tfidf, mvsa_multiple_ner_tfidf), axis=1)"
   ]
  },
  {
   "cell_type": "code",
   "execution_count": 16,
   "id": "b692fdff",
   "metadata": {
    "execution": {
     "iopub.execute_input": "2022-07-05T05:47:18.842072Z",
     "iopub.status.busy": "2022-07-05T05:47:18.841152Z",
     "iopub.status.idle": "2022-07-05T05:47:18.973376Z",
     "shell.execute_reply": "2022-07-05T05:47:18.972373Z"
    },
    "papermill": {
     "duration": 0.144191,
     "end_time": "2022-07-05T05:47:18.975915",
     "exception": false,
     "start_time": "2022-07-05T05:47:18.831724",
     "status": "completed"
    },
    "tags": []
   },
   "outputs": [],
   "source": [
    "mvsa_single_multimodal_labels, mvsa_single_text_labels, mvsa_single_image_labels = load_labels('../input/mvsa-features/labels/mvsa-single-labels.hdf5')\n",
    "mvsa_multiple_multimodal_labels, mvsa_multiple_text_labels, mvsa_multiple_image_labels = load_labels('../input/mvsa-features/labels/mvsa-multiple-labels.hdf5')"
   ]
  },
  {
   "cell_type": "code",
   "execution_count": 17,
   "id": "bb062b23",
   "metadata": {
    "execution": {
     "iopub.execute_input": "2022-07-05T05:47:18.993785Z",
     "iopub.status.busy": "2022-07-05T05:47:18.993485Z",
     "iopub.status.idle": "2022-07-05T05:47:19.000361Z",
     "shell.execute_reply": "2022-07-05T05:47:18.999480Z"
    },
    "papermill": {
     "duration": 0.01805,
     "end_time": "2022-07-05T05:47:19.002413",
     "exception": false,
     "start_time": "2022-07-05T05:47:18.984363",
     "status": "completed"
    },
    "tags": []
   },
   "outputs": [],
   "source": [
    "# prepare all features data\n",
    "\n",
    "feature_names = ['resnet152-bert', 'resnet152-bert-lstm', 'densenet201-bert-pos-lstm', 'densenet201-bert-pos-ner-lstm']\n",
    "\n",
    "mvsa_single_features = [[mvsa_single_bert, mvsa_single_resnet152],\n",
    "                        [mvsa_single_bert, mvsa_single_resnet152],\n",
    "                        [mvsa_single_bert_pos, mvsa_single_densenet201],\n",
    "                        [mvsa_single_bert_pos_ner, mvsa_single_densenet201]]\n",
    "\n",
    "mvsa_multiple_features = [[mvsa_multiple_bert, mvsa_multiple_resnet152],\n",
    "                          [mvsa_multiple_bert, mvsa_multiple_resnet152],\n",
    "                          [mvsa_multiple_bert_pos, mvsa_multiple_densenet201],\n",
    "                          [mvsa_multiple_bert_pos_ner, mvsa_multiple_densenet201]]"
   ]
  },
  {
   "cell_type": "code",
   "execution_count": 18,
   "id": "c8c692be",
   "metadata": {
    "execution": {
     "iopub.execute_input": "2022-07-05T05:47:19.020350Z",
     "iopub.status.busy": "2022-07-05T05:47:19.020056Z",
     "iopub.status.idle": "2022-07-05T05:47:19.026195Z",
     "shell.execute_reply": "2022-07-05T05:47:19.025326Z"
    },
    "papermill": {
     "duration": 0.017631,
     "end_time": "2022-07-05T05:47:19.028130",
     "exception": false,
     "start_time": "2022-07-05T05:47:19.010499",
     "status": "completed"
    },
    "tags": []
   },
   "outputs": [],
   "source": [
    "le = preprocessing.LabelEncoder()\n",
    "le.fit(mvsa_single_multimodal_labels)\n",
    "NUM_CLASSES = len(le.classes_) # = 3"
   ]
  },
  {
   "cell_type": "code",
   "execution_count": 19,
   "id": "57083886",
   "metadata": {
    "execution": {
     "iopub.execute_input": "2022-07-05T05:47:19.046740Z",
     "iopub.status.busy": "2022-07-05T05:47:19.045983Z",
     "iopub.status.idle": "2022-07-05T05:47:19.051228Z",
     "shell.execute_reply": "2022-07-05T05:47:19.050306Z"
    },
    "papermill": {
     "duration": 0.016606,
     "end_time": "2022-07-05T05:47:19.053515",
     "exception": false,
     "start_time": "2022-07-05T05:47:19.036909",
     "status": "completed"
    },
    "tags": []
   },
   "outputs": [],
   "source": [
    "reset_seeds()\n",
    "EPOCHS = 100\n",
    "BATCH_SIZE = 128\n",
    "VALIDATION_SPLIT = 0.1\n",
    "EARLY_STOPPING = 10\n",
    "NUM_LSTM = 128\n",
    "DROPOUT_RATE = 0.1"
   ]
  },
  {
   "cell_type": "markdown",
   "id": "417a3e2a",
   "metadata": {
    "papermill": {
     "duration": 0.007983,
     "end_time": "2022-07-05T05:47:19.069838",
     "exception": false,
     "start_time": "2022-07-05T05:47:19.061855",
     "status": "completed"
    },
    "tags": []
   },
   "source": [
    "# Intermediate Fusion"
   ]
  },
  {
   "cell_type": "code",
   "execution_count": 20,
   "id": "8703fbd5",
   "metadata": {
    "execution": {
     "iopub.execute_input": "2022-07-05T05:47:19.087539Z",
     "iopub.status.busy": "2022-07-05T05:47:19.087251Z",
     "iopub.status.idle": "2022-07-05T05:47:47.604197Z",
     "shell.execute_reply": "2022-07-05T05:47:47.603151Z"
    },
    "papermill": {
     "duration": 28.528386,
     "end_time": "2022-07-05T05:47:47.606421",
     "exception": false,
     "start_time": "2022-07-05T05:47:19.078035",
     "status": "completed"
    },
    "tags": []
   },
   "outputs": [
    {
     "name": "stdout",
     "output_type": "stream",
     "text": [
      "MVSA-Single with Intermediate Fusion\n",
      "\n",
      "MVSA-Single: resnet152-bert\n"
     ]
    },
    {
     "name": "stderr",
     "output_type": "stream",
     "text": [
      "2022-07-05 05:47:19.277188: I tensorflow/compiler/mlir/mlir_graph_optimization_pass.cc:185] None of the MLIR Optimization Passes are enabled (registered 2)\n"
     ]
    },
    {
     "name": "stdout",
     "output_type": "stream",
     "text": [
      "\n",
      "MVSA-Single: resnet152-bert-lstm\n"
     ]
    },
    {
     "name": "stderr",
     "output_type": "stream",
     "text": [
      "2022-07-05 05:47:28.462282: I tensorflow/stream_executor/cuda/cuda_dnn.cc:369] Loaded cuDNN version 8005\n"
     ]
    },
    {
     "name": "stdout",
     "output_type": "stream",
     "text": [
      "\n",
      "MVSA-Single: densenet201-bert-pos-lstm\n",
      "\n",
      "MVSA-Single: densenet201-bert-pos-ner-lstm\n",
      "\n"
     ]
    }
   ],
   "source": [
    "print('MVSA-Single with Intermediate Fusion\\n')\n",
    "scores = []\n",
    "\n",
    "for i in range(len(feature_names)):\n",
    "    print('MVSA-Single:', feature_names[i])\n",
    "    if 'lstm' in feature_names[i]:\n",
    "        _, score = run_and_evaluate_IF('single-IF-' + feature_names[i], mvsa_single_features[i][0], mvsa_single_features[i][1], \n",
    "                                     mvsa_single_multimodal_labels,\n",
    "                                     verbose=0)\n",
    "    else:\n",
    "        _, score = run_and_evaluate_IF('single-IF-' + feature_names[i], mvsa_single_features[i][0], mvsa_single_features[i][1],\n",
    "                                     mvsa_single_multimodal_labels,\n",
    "                                     verbose=0, lstm=False)\n",
    "    scores.append(score)\n",
    "    print()\n",
    "\n",
    "df_single_scores_IF = pd.DataFrame(scores, columns=['Loss', 'Accuracy', 'F1-macro', 'F1-weighted'], index=feature_names)"
   ]
  },
  {
   "cell_type": "code",
   "execution_count": 21,
   "id": "1160dcf8",
   "metadata": {
    "execution": {
     "iopub.execute_input": "2022-07-05T05:47:47.627579Z",
     "iopub.status.busy": "2022-07-05T05:47:47.626710Z",
     "iopub.status.idle": "2022-07-05T05:48:40.246891Z",
     "shell.execute_reply": "2022-07-05T05:48:40.245847Z"
    },
    "papermill": {
     "duration": 52.632992,
     "end_time": "2022-07-05T05:48:40.249054",
     "exception": false,
     "start_time": "2022-07-05T05:47:47.616062",
     "status": "completed"
    },
    "tags": []
   },
   "outputs": [
    {
     "name": "stdout",
     "output_type": "stream",
     "text": [
      "MVSA-Multiple with Intermediate Fusion\n",
      "\n",
      "MVSA-Multiple: resnet152-bert\n",
      "\n",
      "MVSA-Multiple: resnet152-bert-lstm\n",
      "\n",
      "MVSA-Multiple: densenet201-bert-pos-lstm\n",
      "\n",
      "MVSA-Multiple: densenet201-bert-pos-ner-lstm\n",
      "\n"
     ]
    }
   ],
   "source": [
    "print('MVSA-Multiple with Intermediate Fusion\\n')\n",
    "scores = []\n",
    "\n",
    "for i in range(len(feature_names)):\n",
    "    print('MVSA-Multiple:', feature_names[i])\n",
    "    if 'lstm' in feature_names[i]:\n",
    "        _, score = run_and_evaluate_IF('multiple-IF-' + feature_names[i], mvsa_multiple_features[i][0], mvsa_multiple_features[i][1], \n",
    "                                     mvsa_multiple_multimodal_labels,\n",
    "                                     verbose=0)\n",
    "    else:\n",
    "        _, score = run_and_evaluate_IF('multiple-IF-' + feature_names[i], mvsa_multiple_features[i][0], mvsa_multiple_features[i][1],\n",
    "                                     mvsa_multiple_multimodal_labels,\n",
    "                                     verbose=0, lstm=False)\n",
    "    scores.append(score)\n",
    "    print()\n",
    "\n",
    "df_multiple_scores_IF = pd.DataFrame(scores, columns=['Loss', 'Accuracy', 'F1-macro', 'F1-weighted'], index=feature_names)"
   ]
  },
  {
   "cell_type": "markdown",
   "id": "2f546473",
   "metadata": {
    "papermill": {
     "duration": 0.009131,
     "end_time": "2022-07-05T05:48:40.267866",
     "exception": false,
     "start_time": "2022-07-05T05:48:40.258735",
     "status": "completed"
    },
    "tags": []
   },
   "source": [
    "# Late Fusion"
   ]
  },
  {
   "cell_type": "code",
   "execution_count": 22,
   "id": "62c8f6c0",
   "metadata": {
    "execution": {
     "iopub.execute_input": "2022-07-05T05:48:40.287601Z",
     "iopub.status.busy": "2022-07-05T05:48:40.286671Z",
     "iopub.status.idle": "2022-07-05T05:49:12.801123Z",
     "shell.execute_reply": "2022-07-05T05:49:12.799197Z"
    },
    "papermill": {
     "duration": 32.536287,
     "end_time": "2022-07-05T05:49:12.813041",
     "exception": false,
     "start_time": "2022-07-05T05:48:40.276754",
     "status": "completed"
    },
    "tags": []
   },
   "outputs": [
    {
     "name": "stdout",
     "output_type": "stream",
     "text": [
      "MVSA-Single with Late Fusion\n",
      "\n",
      "MVSA-Single: resnet152-bert\n",
      "\n",
      "MVSA-Single: resnet152-bert-lstm\n",
      "\n",
      "MVSA-Single: densenet201-bert-pos-lstm\n",
      "\n",
      "MVSA-Single: densenet201-bert-pos-ner-lstm\n",
      "\n"
     ]
    }
   ],
   "source": [
    "print('MVSA-Single with Late Fusion\\n')\n",
    "scores = []\n",
    "\n",
    "for i in range(len(feature_names)):\n",
    "    print('MVSA-Single:', feature_names[i])\n",
    "    if 'lstm' in feature_names[i]:\n",
    "        score = run_and_evaluate_LF('single-LF-' + feature_names[i], mvsa_single_features[i][0], mvsa_single_features[i][1], \n",
    "                                     mvsa_single_multimodal_labels,\n",
    "                                     verbose=0)\n",
    "    else:\n",
    "        score = run_and_evaluate_LF('single-LF-' + feature_names[i], mvsa_single_features[i][0], mvsa_single_features[i][1],\n",
    "                                     mvsa_single_multimodal_labels,\n",
    "                                     verbose=0, lstm=False)\n",
    "    scores.append(score)\n",
    "    print()\n",
    "\n",
    "df_single_scores_LF = pd.DataFrame(scores, columns=['Accuracy', 'F1-macro', 'F1-weighted'], index=feature_names)"
   ]
  },
  {
   "cell_type": "code",
   "execution_count": 23,
   "id": "420207dc",
   "metadata": {
    "execution": {
     "iopub.execute_input": "2022-07-05T05:49:12.836961Z",
     "iopub.status.busy": "2022-07-05T05:49:12.836073Z",
     "iopub.status.idle": "2022-07-05T05:50:27.281506Z",
     "shell.execute_reply": "2022-07-05T05:50:27.280469Z"
    },
    "papermill": {
     "duration": 74.470114,
     "end_time": "2022-07-05T05:50:27.294386",
     "exception": false,
     "start_time": "2022-07-05T05:49:12.824272",
     "status": "completed"
    },
    "tags": []
   },
   "outputs": [
    {
     "name": "stdout",
     "output_type": "stream",
     "text": [
      "MVSA-Multiple with Late Fusion\n",
      "\n",
      "MVSA-Multiple: resnet152-bert\n",
      "\n",
      "MVSA-Multiple: resnet152-bert-lstm\n",
      "\n",
      "MVSA-Multiple: densenet201-bert-pos-lstm\n",
      "\n",
      "MVSA-Multiple: densenet201-bert-pos-ner-lstm\n",
      "\n"
     ]
    }
   ],
   "source": [
    "print('MVSA-Multiple with Late Fusion\\n')\n",
    "scores = []\n",
    "\n",
    "for i in range(len(feature_names)):\n",
    "    print('MVSA-Multiple:', feature_names[i])\n",
    "    if 'lstm' in feature_names[i]:\n",
    "        score = run_and_evaluate_LF('multiple-LF-' + feature_names[i], mvsa_multiple_features[i][0], mvsa_multiple_features[i][1], \n",
    "                                     mvsa_multiple_multimodal_labels,\n",
    "                                     verbose=0)\n",
    "    else:\n",
    "        score = run_and_evaluate_LF('multiple-LF-' + feature_names[i], mvsa_multiple_features[i][0], mvsa_multiple_features[i][1],\n",
    "                                     mvsa_multiple_multimodal_labels,\n",
    "                                     verbose=0, lstm=False)\n",
    "    scores.append(score)\n",
    "    print()\n",
    "\n",
    "df_multiple_scores_LF = pd.DataFrame(scores, columns=['Accuracy', 'F1-macro', 'F1-weighted'], index=feature_names)"
   ]
  },
  {
   "cell_type": "markdown",
   "id": "f9e3907e",
   "metadata": {
    "papermill": {
     "duration": 0.009427,
     "end_time": "2022-07-05T05:50:27.314188",
     "exception": false,
     "start_time": "2022-07-05T05:50:27.304761",
     "status": "completed"
    },
    "tags": []
   },
   "source": [
    "# Hybrid Fusion"
   ]
  },
  {
   "cell_type": "code",
   "execution_count": 24,
   "id": "beafdf9f",
   "metadata": {
    "execution": {
     "iopub.execute_input": "2022-07-05T05:50:27.334320Z",
     "iopub.status.busy": "2022-07-05T05:50:27.333990Z",
     "iopub.status.idle": "2022-07-05T05:51:28.727432Z",
     "shell.execute_reply": "2022-07-05T05:51:28.726310Z"
    },
    "papermill": {
     "duration": 61.406962,
     "end_time": "2022-07-05T05:51:28.730477",
     "exception": false,
     "start_time": "2022-07-05T05:50:27.323515",
     "status": "completed"
    },
    "tags": []
   },
   "outputs": [
    {
     "name": "stdout",
     "output_type": "stream",
     "text": [
      "MVSA-Single with Hybrid Fusion\n",
      "\n",
      "MVSA-Single: resnet152-bert\n",
      "\n",
      "MVSA-Single: resnet152-bert-lstm\n",
      "\n",
      "MVSA-Single: densenet201-bert-pos-lstm\n",
      "\n",
      "MVSA-Single: densenet201-bert-pos-ner-lstm\n",
      "\n"
     ]
    }
   ],
   "source": [
    "print('MVSA-Single with Hybrid Fusion\\n')\n",
    "scores = []\n",
    "\n",
    "for i in range(len(feature_names)):\n",
    "    print('MVSA-Single:', feature_names[i])\n",
    "    if 'lstm' in feature_names[i]:\n",
    "        score = run_and_evaluate_HF('single-HF-' + feature_names[i], mvsa_single_features[i][0], mvsa_single_features[i][1], \n",
    "                                     mvsa_single_multimodal_labels,\n",
    "                                     verbose=0)\n",
    "    else:\n",
    "        score = run_and_evaluate_HF('single-HF-' + feature_names[i], mvsa_single_features[i][0], mvsa_single_features[i][1],\n",
    "                                     mvsa_single_multimodal_labels,\n",
    "                                     verbose=0, lstm=False)\n",
    "    scores.append(score)\n",
    "    print()\n",
    "\n",
    "df_single_scores_HF = pd.DataFrame(scores, columns=['Accuracy', 'F1-macro', 'F1-weighted'], index=feature_names)"
   ]
  },
  {
   "cell_type": "code",
   "execution_count": 25,
   "id": "c7e73e65",
   "metadata": {
    "execution": {
     "iopub.execute_input": "2022-07-05T05:51:28.754859Z",
     "iopub.status.busy": "2022-07-05T05:51:28.753151Z",
     "iopub.status.idle": "2022-07-05T05:53:58.309945Z",
     "shell.execute_reply": "2022-07-05T05:53:58.308932Z"
    },
    "papermill": {
     "duration": 149.57962,
     "end_time": "2022-07-05T05:53:58.321930",
     "exception": false,
     "start_time": "2022-07-05T05:51:28.742310",
     "status": "completed"
    },
    "tags": []
   },
   "outputs": [
    {
     "name": "stdout",
     "output_type": "stream",
     "text": [
      "MVSA-Multiple with Hybrid Fusion\n",
      "\n",
      "MVSA-Multiple: resnet152-bert\n",
      "\n",
      "MVSA-Multiple: resnet152-bert-lstm\n",
      "\n",
      "MVSA-Multiple: densenet201-bert-pos-lstm\n",
      "\n",
      "MVSA-Multiple: densenet201-bert-pos-ner-lstm\n",
      "\n"
     ]
    }
   ],
   "source": [
    "print('MVSA-Multiple with Hybrid Fusion\\n')\n",
    "scores = []\n",
    "\n",
    "for i in range(len(feature_names)):\n",
    "    print('MVSA-Multiple:', feature_names[i])\n",
    "    if 'lstm' in feature_names[i]:\n",
    "        score = run_and_evaluate_HF('multiple-HF-' + feature_names[i], mvsa_multiple_features[i][0], mvsa_multiple_features[i][1], \n",
    "                                     mvsa_multiple_multimodal_labels,\n",
    "                                     verbose=0)\n",
    "    else:\n",
    "        score = run_and_evaluate_HF('multiple-HF-' + feature_names[i], mvsa_multiple_features[i][0], mvsa_multiple_features[i][1],\n",
    "                                     mvsa_multiple_multimodal_labels,\n",
    "                                     verbose=0, lstm=False)\n",
    "    scores.append(score)\n",
    "    print()\n",
    "\n",
    "df_multiple_scores_HF = pd.DataFrame(scores, columns=['Accuracy', 'F1-macro', 'F1-weighted'], index=feature_names)"
   ]
  },
  {
   "cell_type": "markdown",
   "id": "cf26c7dd",
   "metadata": {
    "papermill": {
     "duration": 0.010072,
     "end_time": "2022-07-05T05:53:58.342812",
     "exception": false,
     "start_time": "2022-07-05T05:53:58.332740",
     "status": "completed"
    },
    "tags": []
   },
   "source": [
    "# Display results"
   ]
  },
  {
   "cell_type": "code",
   "execution_count": 26,
   "id": "37574089",
   "metadata": {
    "execution": {
     "iopub.execute_input": "2022-07-05T05:53:58.366079Z",
     "iopub.status.busy": "2022-07-05T05:53:58.364428Z",
     "iopub.status.idle": "2022-07-05T05:53:58.381754Z",
     "shell.execute_reply": "2022-07-05T05:53:58.380849Z"
    },
    "papermill": {
     "duration": 0.03077,
     "end_time": "2022-07-05T05:53:58.383713",
     "exception": false,
     "start_time": "2022-07-05T05:53:58.352943",
     "status": "completed"
    },
    "tags": []
   },
   "outputs": [],
   "source": [
    "df_single_scores_IF = df_single_scores_IF.drop(columns=['Loss'])\n",
    "df_multiple_scores_IF = df_multiple_scores_IF.drop(columns=['Loss'])"
   ]
  },
  {
   "cell_type": "code",
   "execution_count": 27,
   "id": "3618bac7",
   "metadata": {
    "execution": {
     "iopub.execute_input": "2022-07-05T05:53:58.405547Z",
     "iopub.status.busy": "2022-07-05T05:53:58.405221Z",
     "iopub.status.idle": "2022-07-05T05:53:58.489719Z",
     "shell.execute_reply": "2022-07-05T05:53:58.487860Z"
    },
    "papermill": {
     "duration": 0.100093,
     "end_time": "2022-07-05T05:53:58.493926",
     "exception": false,
     "start_time": "2022-07-05T05:53:58.393833",
     "status": "completed"
    },
    "tags": []
   },
   "outputs": [
    {
     "name": "stdout",
     "output_type": "stream",
     "text": [
      "Intermediate Fusion\n"
     ]
    },
    {
     "data": {
      "text/html": [
       "<table style=\"display:inline\"><tr><td style=\"text-align:center\">MVSA-Single</td><td style=\"text-align:center\">MVSA-Multiple</td></tr><tr><td style=\"vertical-align:top\"> <style type=\"text/css\">\n",
       "#T_c09c6_row0_col0, #T_c09c6_row1_col0, #T_c09c6_row1_col1, #T_c09c6_row1_col2 {\n",
       "  color: tomato;\n",
       "}\n",
       "#T_c09c6_row2_col0, #T_c09c6_row2_col2, #T_c09c6_row3_col1 {\n",
       "  color: lawngreen;\n",
       "}\n",
       "</style>\n",
       "<table style=\"display:inline\" id=\"T_c09c6_\">\n",
       "  <thead>\n",
       "    <tr>\n",
       "      <th class=\"blank level0\" >&nbsp;</th>\n",
       "      <th class=\"col_heading level0 col0\" >Accuracy</th>\n",
       "      <th class=\"col_heading level0 col1\" >F1-macro</th>\n",
       "      <th class=\"col_heading level0 col2\" >F1-weighted</th>\n",
       "    </tr>\n",
       "  </thead>\n",
       "  <tbody>\n",
       "    <tr>\n",
       "      <th id=\"T_c09c6_level0_row0\" class=\"row_heading level0 row0\" >resnet152-bert</th>\n",
       "      <td id=\"T_c09c6_row0_col0\" class=\"data row0 col0\" >0.603104</td>\n",
       "      <td id=\"T_c09c6_row0_col1\" class=\"data row0 col1\" >0.280481</td>\n",
       "      <td id=\"T_c09c6_row0_col2\" class=\"data row0 col2\" >0.482997</td>\n",
       "    </tr>\n",
       "    <tr>\n",
       "      <th id=\"T_c09c6_level0_row1\" class=\"row_heading level0 row1\" >resnet152-bert-lstm</th>\n",
       "      <td id=\"T_c09c6_row1_col0\" class=\"data row1 col0\" >0.603104</td>\n",
       "      <td id=\"T_c09c6_row1_col1\" class=\"data row1 col1\" >0.250807</td>\n",
       "      <td id=\"T_c09c6_row1_col2\" class=\"data row1 col2\" >0.453788</td>\n",
       "    </tr>\n",
       "    <tr>\n",
       "      <th id=\"T_c09c6_level0_row2\" class=\"row_heading level0 row2\" >densenet201-bert-pos-lstm</th>\n",
       "      <td id=\"T_c09c6_row2_col0\" class=\"data row2 col0\" >0.685144</td>\n",
       "      <td id=\"T_c09c6_row2_col1\" class=\"data row2 col1\" >0.506248</td>\n",
       "      <td id=\"T_c09c6_row2_col2\" class=\"data row2 col2\" >0.683706</td>\n",
       "    </tr>\n",
       "    <tr>\n",
       "      <th id=\"T_c09c6_level0_row3\" class=\"row_heading level0 row3\" >densenet201-bert-pos-ner-lstm</th>\n",
       "      <td id=\"T_c09c6_row3_col0\" class=\"data row3 col0\" >0.671840</td>\n",
       "      <td id=\"T_c09c6_row3_col1\" class=\"data row3 col1\" >0.512758</td>\n",
       "      <td id=\"T_c09c6_row3_col2\" class=\"data row3 col2\" >0.672824</td>\n",
       "    </tr>\n",
       "  </tbody>\n",
       "</table style=\"display:inline\">\n",
       "</td><td style=\"vertical-align:top\"> <style type=\"text/css\">\n",
       "#T_90d0d_row1_col0, #T_90d0d_row1_col1, #T_90d0d_row1_col2 {\n",
       "  color: tomato;\n",
       "}\n",
       "#T_90d0d_row2_col0, #T_90d0d_row3_col1, #T_90d0d_row3_col2 {\n",
       "  color: lawngreen;\n",
       "}\n",
       "</style>\n",
       "<table style=\"display:inline\" id=\"T_90d0d_\">\n",
       "  <thead>\n",
       "    <tr>\n",
       "      <th class=\"blank level0\" >&nbsp;</th>\n",
       "      <th class=\"col_heading level0 col0\" >Accuracy</th>\n",
       "      <th class=\"col_heading level0 col1\" >F1-macro</th>\n",
       "      <th class=\"col_heading level0 col2\" >F1-weighted</th>\n",
       "    </tr>\n",
       "  </thead>\n",
       "  <tbody>\n",
       "    <tr>\n",
       "      <th id=\"T_90d0d_level0_row0\" class=\"row_heading level0 row0\" >resnet152-bert</th>\n",
       "      <td id=\"T_90d0d_row0_col0\" class=\"data row0 col0\" >0.641011</td>\n",
       "      <td id=\"T_90d0d_row0_col1\" class=\"data row0 col1\" >0.263537</td>\n",
       "      <td id=\"T_90d0d_row0_col2\" class=\"data row0 col2\" >0.502002</td>\n",
       "    </tr>\n",
       "    <tr>\n",
       "      <th id=\"T_90d0d_level0_row1\" class=\"row_heading level0 row1\" >resnet152-bert-lstm</th>\n",
       "      <td id=\"T_90d0d_row1_col0\" class=\"data row1 col0\" >0.639248</td>\n",
       "      <td id=\"T_90d0d_row1_col1\" class=\"data row1 col1\" >0.259976</td>\n",
       "      <td id=\"T_90d0d_row1_col2\" class=\"data row1 col2\" >0.499026</td>\n",
       "    </tr>\n",
       "    <tr>\n",
       "      <th id=\"T_90d0d_level0_row2\" class=\"row_heading level0 row2\" >densenet201-bert-pos-lstm</th>\n",
       "      <td id=\"T_90d0d_row2_col0\" class=\"data row2 col0\" >0.662162</td>\n",
       "      <td id=\"T_90d0d_row2_col1\" class=\"data row2 col1\" >0.441042</td>\n",
       "      <td id=\"T_90d0d_row2_col2\" class=\"data row2 col2\" >0.598979</td>\n",
       "    </tr>\n",
       "    <tr>\n",
       "      <th id=\"T_90d0d_level0_row3\" class=\"row_heading level0 row3\" >densenet201-bert-pos-ner-lstm</th>\n",
       "      <td id=\"T_90d0d_row3_col0\" class=\"data row3 col0\" >0.650999</td>\n",
       "      <td id=\"T_90d0d_row3_col1\" class=\"data row3 col1\" >0.509096</td>\n",
       "      <td id=\"T_90d0d_row3_col2\" class=\"data row3 col2\" >0.631882</td>\n",
       "    </tr>\n",
       "  </tbody>\n",
       "</table style=\"display:inline\">\n",
       "</td></tr></table style=\"display:inline\">"
      ]
     },
     "metadata": {},
     "output_type": "display_data"
    }
   ],
   "source": [
    "print('Intermediate Fusion')\n",
    "display_dataframes((style_dataframe(df_single_scores_IF), style_dataframe(df_multiple_scores_IF)), \n",
    "                   names=['MVSA-Single', 'MVSA-Multiple'])"
   ]
  },
  {
   "cell_type": "code",
   "execution_count": 28,
   "id": "5a64907a",
   "metadata": {
    "execution": {
     "iopub.execute_input": "2022-07-05T05:53:58.517617Z",
     "iopub.status.busy": "2022-07-05T05:53:58.517059Z",
     "iopub.status.idle": "2022-07-05T05:53:58.547128Z",
     "shell.execute_reply": "2022-07-05T05:53:58.545465Z"
    },
    "papermill": {
     "duration": 0.043967,
     "end_time": "2022-07-05T05:53:58.549703",
     "exception": false,
     "start_time": "2022-07-05T05:53:58.505736",
     "status": "completed"
    },
    "tags": []
   },
   "outputs": [
    {
     "name": "stdout",
     "output_type": "stream",
     "text": [
      "Late Fusion with Multimodal Labels\n"
     ]
    },
    {
     "data": {
      "text/html": [
       "<table style=\"display:inline\"><tr><td style=\"text-align:center\">MVSA-Single</td><td style=\"text-align:center\">MVSA-Multiple</td></tr><tr><td style=\"vertical-align:top\"> <style type=\"text/css\">\n",
       "#T_20b51_row0_col0, #T_20b51_row0_col1, #T_20b51_row0_col2 {\n",
       "  color: tomato;\n",
       "}\n",
       "#T_20b51_row2_col0, #T_20b51_row2_col1, #T_20b51_row2_col2 {\n",
       "  color: lawngreen;\n",
       "}\n",
       "</style>\n",
       "<table style=\"display:inline\" id=\"T_20b51_\">\n",
       "  <thead>\n",
       "    <tr>\n",
       "      <th class=\"blank level0\" >&nbsp;</th>\n",
       "      <th class=\"col_heading level0 col0\" >Accuracy</th>\n",
       "      <th class=\"col_heading level0 col1\" >F1-macro</th>\n",
       "      <th class=\"col_heading level0 col2\" >F1-weighted</th>\n",
       "    </tr>\n",
       "  </thead>\n",
       "  <tbody>\n",
       "    <tr>\n",
       "      <th id=\"T_20b51_level0_row0\" class=\"row_heading level0 row0\" >resnet152-bert</th>\n",
       "      <td id=\"T_20b51_row0_col0\" class=\"data row0 col0\" >0.640798</td>\n",
       "      <td id=\"T_20b51_row0_col1\" class=\"data row0 col1\" >0.371098</td>\n",
       "      <td id=\"T_20b51_row0_col2\" class=\"data row0 col2\" >0.559172</td>\n",
       "    </tr>\n",
       "    <tr>\n",
       "      <th id=\"T_20b51_level0_row1\" class=\"row_heading level0 row1\" >resnet152-bert-lstm</th>\n",
       "      <td id=\"T_20b51_row1_col0\" class=\"data row1 col0\" >0.700665</td>\n",
       "      <td id=\"T_20b51_row1_col1\" class=\"data row1 col1\" >0.498443</td>\n",
       "      <td id=\"T_20b51_row1_col2\" class=\"data row1 col2\" >0.661061</td>\n",
       "    </tr>\n",
       "    <tr>\n",
       "      <th id=\"T_20b51_level0_row2\" class=\"row_heading level0 row2\" >densenet201-bert-pos-lstm</th>\n",
       "      <td id=\"T_20b51_row2_col0\" class=\"data row2 col0\" >0.709534</td>\n",
       "      <td id=\"T_20b51_row2_col1\" class=\"data row2 col1\" >0.528768</td>\n",
       "      <td id=\"T_20b51_row2_col2\" class=\"data row2 col2\" >0.694549</td>\n",
       "    </tr>\n",
       "    <tr>\n",
       "      <th id=\"T_20b51_level0_row3\" class=\"row_heading level0 row3\" >densenet201-bert-pos-ner-lstm</th>\n",
       "      <td id=\"T_20b51_row3_col0\" class=\"data row3 col0\" >0.678492</td>\n",
       "      <td id=\"T_20b51_row3_col1\" class=\"data row3 col1\" >0.479563</td>\n",
       "      <td id=\"T_20b51_row3_col2\" class=\"data row3 col2\" >0.660328</td>\n",
       "    </tr>\n",
       "  </tbody>\n",
       "</table style=\"display:inline\">\n",
       "</td><td style=\"vertical-align:top\"> <style type=\"text/css\">\n",
       "#T_188f8_row0_col0, #T_188f8_row0_col1, #T_188f8_row0_col2, #T_188f8_row1_col0 {\n",
       "  color: tomato;\n",
       "}\n",
       "#T_188f8_row2_col0, #T_188f8_row2_col1, #T_188f8_row2_col2 {\n",
       "  color: lawngreen;\n",
       "}\n",
       "</style>\n",
       "<table style=\"display:inline\" id=\"T_188f8_\">\n",
       "  <thead>\n",
       "    <tr>\n",
       "      <th class=\"blank level0\" >&nbsp;</th>\n",
       "      <th class=\"col_heading level0 col0\" >Accuracy</th>\n",
       "      <th class=\"col_heading level0 col1\" >F1-macro</th>\n",
       "      <th class=\"col_heading level0 col2\" >F1-weighted</th>\n",
       "    </tr>\n",
       "  </thead>\n",
       "  <tbody>\n",
       "    <tr>\n",
       "      <th id=\"T_188f8_level0_row0\" class=\"row_heading level0 row0\" >resnet152-bert</th>\n",
       "      <td id=\"T_188f8_row0_col0\" class=\"data row0 col0\" >0.642186</td>\n",
       "      <td id=\"T_188f8_row0_col1\" class=\"data row0 col1\" >0.276488</td>\n",
       "      <td id=\"T_188f8_row0_col2\" class=\"data row0 col2\" >0.507973</td>\n",
       "    </tr>\n",
       "    <tr>\n",
       "      <th id=\"T_188f8_level0_row1\" class=\"row_heading level0 row1\" >resnet152-bert-lstm</th>\n",
       "      <td id=\"T_188f8_row1_col0\" class=\"data row1 col0\" >0.642186</td>\n",
       "      <td id=\"T_188f8_row1_col1\" class=\"data row1 col1\" >0.276520</td>\n",
       "      <td id=\"T_188f8_row1_col2\" class=\"data row1 col2\" >0.507979</td>\n",
       "    </tr>\n",
       "    <tr>\n",
       "      <th id=\"T_188f8_level0_row2\" class=\"row_heading level0 row2\" >densenet201-bert-pos-lstm</th>\n",
       "      <td id=\"T_188f8_row2_col0\" class=\"data row2 col0\" >0.658049</td>\n",
       "      <td id=\"T_188f8_row2_col1\" class=\"data row2 col1\" >0.353593</td>\n",
       "      <td id=\"T_188f8_row2_col2\" class=\"data row2 col2\" >0.554460</td>\n",
       "    </tr>\n",
       "    <tr>\n",
       "      <th id=\"T_188f8_level0_row3\" class=\"row_heading level0 row3\" >densenet201-bert-pos-ner-lstm</th>\n",
       "      <td id=\"T_188f8_row3_col0\" class=\"data row3 col0\" >0.655112</td>\n",
       "      <td id=\"T_188f8_row3_col1\" class=\"data row3 col1\" >0.349037</td>\n",
       "      <td id=\"T_188f8_row3_col2\" class=\"data row3 col2\" >0.552418</td>\n",
       "    </tr>\n",
       "  </tbody>\n",
       "</table style=\"display:inline\">\n",
       "</td></tr></table style=\"display:inline\">"
      ]
     },
     "metadata": {},
     "output_type": "display_data"
    }
   ],
   "source": [
    "print('Late Fusion with Multimodal Labels')\n",
    "display_dataframes((style_dataframe(df_single_scores_LF), style_dataframe(df_multiple_scores_LF)), \n",
    "                   names=['MVSA-Single', 'MVSA-Multiple'])"
   ]
  },
  {
   "cell_type": "code",
   "execution_count": 29,
   "id": "e31779e1",
   "metadata": {
    "execution": {
     "iopub.execute_input": "2022-07-05T05:53:58.574607Z",
     "iopub.status.busy": "2022-07-05T05:53:58.574281Z",
     "iopub.status.idle": "2022-07-05T05:53:58.603511Z",
     "shell.execute_reply": "2022-07-05T05:53:58.602514Z"
    },
    "papermill": {
     "duration": 0.044453,
     "end_time": "2022-07-05T05:53:58.606412",
     "exception": false,
     "start_time": "2022-07-05T05:53:58.561959",
     "status": "completed"
    },
    "tags": []
   },
   "outputs": [
    {
     "name": "stdout",
     "output_type": "stream",
     "text": [
      "Hybrid Fusion with Multimodal Labels\n"
     ]
    },
    {
     "data": {
      "text/html": [
       "<table style=\"display:inline\"><tr><td style=\"text-align:center\">MVSA-Single</td><td style=\"text-align:center\">MVSA-Multiple</td></tr><tr><td style=\"vertical-align:top\"> <style type=\"text/css\">\n",
       "#T_78a06_row0_col0, #T_78a06_row0_col1, #T_78a06_row0_col2 {\n",
       "  color: tomato;\n",
       "}\n",
       "#T_78a06_row2_col0, #T_78a06_row2_col1, #T_78a06_row2_col2 {\n",
       "  color: lawngreen;\n",
       "}\n",
       "</style>\n",
       "<table style=\"display:inline\" id=\"T_78a06_\">\n",
       "  <thead>\n",
       "    <tr>\n",
       "      <th class=\"blank level0\" >&nbsp;</th>\n",
       "      <th class=\"col_heading level0 col0\" >Accuracy</th>\n",
       "      <th class=\"col_heading level0 col1\" >F1-macro</th>\n",
       "      <th class=\"col_heading level0 col2\" >F1-weighted</th>\n",
       "    </tr>\n",
       "  </thead>\n",
       "  <tbody>\n",
       "    <tr>\n",
       "      <th id=\"T_78a06_level0_row0\" class=\"row_heading level0 row0\" >resnet152-bert</th>\n",
       "      <td id=\"T_78a06_row0_col0\" class=\"data row0 col0\" >0.667406</td>\n",
       "      <td id=\"T_78a06_row0_col1\" class=\"data row0 col1\" >0.386086</td>\n",
       "      <td id=\"T_78a06_row0_col2\" class=\"data row0 col2\" >0.600435</td>\n",
       "    </tr>\n",
       "    <tr>\n",
       "      <th id=\"T_78a06_level0_row1\" class=\"row_heading level0 row1\" >resnet152-bert-lstm</th>\n",
       "      <td id=\"T_78a06_row1_col0\" class=\"data row1 col0\" >0.680710</td>\n",
       "      <td id=\"T_78a06_row1_col1\" class=\"data row1 col1\" >0.410929</td>\n",
       "      <td id=\"T_78a06_row1_col2\" class=\"data row1 col2\" >0.627215</td>\n",
       "    </tr>\n",
       "    <tr>\n",
       "      <th id=\"T_78a06_level0_row2\" class=\"row_heading level0 row2\" >densenet201-bert-pos-lstm</th>\n",
       "      <td id=\"T_78a06_row2_col0\" class=\"data row2 col0\" >0.691796</td>\n",
       "      <td id=\"T_78a06_row2_col1\" class=\"data row2 col1\" >0.522827</td>\n",
       "      <td id=\"T_78a06_row2_col2\" class=\"data row2 col2\" >0.686390</td>\n",
       "    </tr>\n",
       "    <tr>\n",
       "      <th id=\"T_78a06_level0_row3\" class=\"row_heading level0 row3\" >densenet201-bert-pos-ner-lstm</th>\n",
       "      <td id=\"T_78a06_row3_col0\" class=\"data row3 col0\" >0.687361</td>\n",
       "      <td id=\"T_78a06_row3_col1\" class=\"data row3 col1\" >0.517235</td>\n",
       "      <td id=\"T_78a06_row3_col2\" class=\"data row3 col2\" >0.678609</td>\n",
       "    </tr>\n",
       "  </tbody>\n",
       "</table style=\"display:inline\">\n",
       "</td><td style=\"vertical-align:top\"> <style type=\"text/css\">\n",
       "#T_92504_row0_col0, #T_92504_row0_col1, #T_92504_row0_col2, #T_92504_row1_col0, #T_92504_row1_col1, #T_92504_row1_col2 {\n",
       "  color: tomato;\n",
       "}\n",
       "#T_92504_row3_col0, #T_92504_row3_col1, #T_92504_row3_col2 {\n",
       "  color: lawngreen;\n",
       "}\n",
       "</style>\n",
       "<table style=\"display:inline\" id=\"T_92504_\">\n",
       "  <thead>\n",
       "    <tr>\n",
       "      <th class=\"blank level0\" >&nbsp;</th>\n",
       "      <th class=\"col_heading level0 col0\" >Accuracy</th>\n",
       "      <th class=\"col_heading level0 col1\" >F1-macro</th>\n",
       "      <th class=\"col_heading level0 col2\" >F1-weighted</th>\n",
       "    </tr>\n",
       "  </thead>\n",
       "  <tbody>\n",
       "    <tr>\n",
       "      <th id=\"T_92504_level0_row0\" class=\"row_heading level0 row0\" >resnet152-bert</th>\n",
       "      <td id=\"T_92504_row0_col0\" class=\"data row0 col0\" >0.639835</td>\n",
       "      <td id=\"T_92504_row0_col1\" class=\"data row0 col1\" >0.260122</td>\n",
       "      <td id=\"T_92504_row0_col2\" class=\"data row0 col2\" >0.499306</td>\n",
       "    </tr>\n",
       "    <tr>\n",
       "      <th id=\"T_92504_level0_row1\" class=\"row_heading level0 row1\" >resnet152-bert-lstm</th>\n",
       "      <td id=\"T_92504_row1_col0\" class=\"data row1 col0\" >0.639835</td>\n",
       "      <td id=\"T_92504_row1_col1\" class=\"data row1 col1\" >0.260122</td>\n",
       "      <td id=\"T_92504_row1_col2\" class=\"data row1 col2\" >0.499306</td>\n",
       "    </tr>\n",
       "    <tr>\n",
       "      <th id=\"T_92504_level0_row2\" class=\"row_heading level0 row2\" >densenet201-bert-pos-lstm</th>\n",
       "      <td id=\"T_92504_row2_col0\" class=\"data row2 col0\" >0.657462</td>\n",
       "      <td id=\"T_92504_row2_col1\" class=\"data row2 col1\" >0.395265</td>\n",
       "      <td id=\"T_92504_row2_col2\" class=\"data row2 col2\" >0.570296</td>\n",
       "    </tr>\n",
       "    <tr>\n",
       "      <th id=\"T_92504_level0_row3\" class=\"row_heading level0 row3\" >densenet201-bert-pos-ner-lstm</th>\n",
       "      <td id=\"T_92504_row3_col0\" class=\"data row3 col0\" >0.662750</td>\n",
       "      <td id=\"T_92504_row3_col1\" class=\"data row3 col1\" >0.396063</td>\n",
       "      <td id=\"T_92504_row3_col2\" class=\"data row3 col2\" >0.574768</td>\n",
       "    </tr>\n",
       "  </tbody>\n",
       "</table style=\"display:inline\">\n",
       "</td></tr></table style=\"display:inline\">"
      ]
     },
     "metadata": {},
     "output_type": "display_data"
    }
   ],
   "source": [
    "print('Hybrid Fusion with Multimodal Labels')\n",
    "display_dataframes((style_dataframe(df_single_scores_HF), style_dataframe(df_multiple_scores_HF)), \n",
    "                   names=['MVSA-Single', 'MVSA-Multiple'])"
   ]
  },
  {
   "cell_type": "code",
   "execution_count": 30,
   "id": "9099d4c7",
   "metadata": {
    "execution": {
     "iopub.execute_input": "2022-07-05T05:53:58.630828Z",
     "iopub.status.busy": "2022-07-05T05:53:58.630237Z",
     "iopub.status.idle": "2022-07-05T05:53:58.639603Z",
     "shell.execute_reply": "2022-07-05T05:53:58.638727Z"
    },
    "papermill": {
     "duration": 0.023711,
     "end_time": "2022-07-05T05:53:58.641555",
     "exception": false,
     "start_time": "2022-07-05T05:53:58.617844",
     "status": "completed"
    },
    "tags": []
   },
   "outputs": [],
   "source": [
    "# get max values of late and intermediate fusion\n",
    "df_single_higher_fusion = pd.DataFrame(np.where(df_single_scores_LF.gt(df_single_scores_IF.values), df_single_scores_LF.values, df_single_scores_IF.values),\n",
    "                 columns=['Accuracy','F1-macro','F1-weighted'], index=feature_names)\n",
    "\n",
    "df_multiple_higher_fusion = pd.DataFrame(np.where(df_single_scores_LF.gt(df_single_scores_IF.values), df_multiple_scores_LF.values, df_multiple_scores_IF.values),\n",
    "                 columns=['Accuracy','F1-macro','F1-weighted'], index=feature_names)\n",
    "\n",
    "df_single_subtract = df_single_scores_HF.subtract(df_single_higher_fusion)\n",
    "df_multiple_subtract = df_multiple_scores_HF.subtract(df_multiple_higher_fusion)"
   ]
  },
  {
   "cell_type": "code",
   "execution_count": 31,
   "id": "3a9e0d75",
   "metadata": {
    "execution": {
     "iopub.execute_input": "2022-07-05T05:53:58.664864Z",
     "iopub.status.busy": "2022-07-05T05:53:58.664543Z",
     "iopub.status.idle": "2022-07-05T05:53:58.693891Z",
     "shell.execute_reply": "2022-07-05T05:53:58.692851Z"
    },
    "papermill": {
     "duration": 0.0453,
     "end_time": "2022-07-05T05:53:58.697937",
     "exception": false,
     "start_time": "2022-07-05T05:53:58.652637",
     "status": "completed"
    },
    "tags": []
   },
   "outputs": [
    {
     "name": "stdout",
     "output_type": "stream",
     "text": [
      "Compare Hybrid Fusion scores up\n"
     ]
    },
    {
     "data": {
      "text/html": [
       "<table style=\"display:inline\"><tr><td style=\"text-align:center\">MVSA-Single</td><td style=\"text-align:center\">MVSA-Multiple</td></tr><tr><td style=\"vertical-align:top\"> <style type=\"text/css\">\n",
       "#T_e2f00_row0_col0, #T_e2f00_row0_col1, #T_e2f00_row0_col2 {\n",
       "  color: lawngreen;\n",
       "}\n",
       "#T_e2f00_row1_col0, #T_e2f00_row1_col1, #T_e2f00_row1_col2 {\n",
       "  color: tomato;\n",
       "}\n",
       "</style>\n",
       "<table style=\"display:inline\" id=\"T_e2f00_\">\n",
       "  <thead>\n",
       "    <tr>\n",
       "      <th class=\"blank level0\" >&nbsp;</th>\n",
       "      <th class=\"col_heading level0 col0\" >Accuracy</th>\n",
       "      <th class=\"col_heading level0 col1\" >F1-macro</th>\n",
       "      <th class=\"col_heading level0 col2\" >F1-weighted</th>\n",
       "    </tr>\n",
       "  </thead>\n",
       "  <tbody>\n",
       "    <tr>\n",
       "      <th id=\"T_e2f00_level0_row0\" class=\"row_heading level0 row0\" >resnet152-bert</th>\n",
       "      <td id=\"T_e2f00_row0_col0\" class=\"data row0 col0\" >0.026608</td>\n",
       "      <td id=\"T_e2f00_row0_col1\" class=\"data row0 col1\" >0.014989</td>\n",
       "      <td id=\"T_e2f00_row0_col2\" class=\"data row0 col2\" >0.041263</td>\n",
       "    </tr>\n",
       "    <tr>\n",
       "      <th id=\"T_e2f00_level0_row1\" class=\"row_heading level0 row1\" >resnet152-bert-lstm</th>\n",
       "      <td id=\"T_e2f00_row1_col0\" class=\"data row1 col0\" >-0.019956</td>\n",
       "      <td id=\"T_e2f00_row1_col1\" class=\"data row1 col1\" >-0.087513</td>\n",
       "      <td id=\"T_e2f00_row1_col2\" class=\"data row1 col2\" >-0.033846</td>\n",
       "    </tr>\n",
       "    <tr>\n",
       "      <th id=\"T_e2f00_level0_row2\" class=\"row_heading level0 row2\" >densenet201-bert-pos-lstm</th>\n",
       "      <td id=\"T_e2f00_row2_col0\" class=\"data row2 col0\" >-0.017738</td>\n",
       "      <td id=\"T_e2f00_row2_col1\" class=\"data row2 col1\" >-0.005942</td>\n",
       "      <td id=\"T_e2f00_row2_col2\" class=\"data row2 col2\" >-0.008158</td>\n",
       "    </tr>\n",
       "    <tr>\n",
       "      <th id=\"T_e2f00_level0_row3\" class=\"row_heading level0 row3\" >densenet201-bert-pos-ner-lstm</th>\n",
       "      <td id=\"T_e2f00_row3_col0\" class=\"data row3 col0\" >0.008869</td>\n",
       "      <td id=\"T_e2f00_row3_col1\" class=\"data row3 col1\" >0.004477</td>\n",
       "      <td id=\"T_e2f00_row3_col2\" class=\"data row3 col2\" >0.005785</td>\n",
       "    </tr>\n",
       "  </tbody>\n",
       "</table style=\"display:inline\">\n",
       "</td><td style=\"vertical-align:top\"> <style type=\"text/css\">\n",
       "#T_34ccd_row0_col0, #T_34ccd_row1_col0, #T_34ccd_row3_col1, #T_34ccd_row3_col2 {\n",
       "  color: tomato;\n",
       "}\n",
       "#T_34ccd_row2_col1, #T_34ccd_row2_col2, #T_34ccd_row3_col0 {\n",
       "  color: lawngreen;\n",
       "}\n",
       "</style>\n",
       "<table style=\"display:inline\" id=\"T_34ccd_\">\n",
       "  <thead>\n",
       "    <tr>\n",
       "      <th class=\"blank level0\" >&nbsp;</th>\n",
       "      <th class=\"col_heading level0 col0\" >Accuracy</th>\n",
       "      <th class=\"col_heading level0 col1\" >F1-macro</th>\n",
       "      <th class=\"col_heading level0 col2\" >F1-weighted</th>\n",
       "    </tr>\n",
       "  </thead>\n",
       "  <tbody>\n",
       "    <tr>\n",
       "      <th id=\"T_34ccd_level0_row0\" class=\"row_heading level0 row0\" >resnet152-bert</th>\n",
       "      <td id=\"T_34ccd_row0_col0\" class=\"data row0 col0\" >-0.002350</td>\n",
       "      <td id=\"T_34ccd_row0_col1\" class=\"data row0 col1\" >-0.016367</td>\n",
       "      <td id=\"T_34ccd_row0_col2\" class=\"data row0 col2\" >-0.008668</td>\n",
       "    </tr>\n",
       "    <tr>\n",
       "      <th id=\"T_34ccd_level0_row1\" class=\"row_heading level0 row1\" >resnet152-bert-lstm</th>\n",
       "      <td id=\"T_34ccd_row1_col0\" class=\"data row1 col0\" >-0.002350</td>\n",
       "      <td id=\"T_34ccd_row1_col1\" class=\"data row1 col1\" >-0.016398</td>\n",
       "      <td id=\"T_34ccd_row1_col2\" class=\"data row1 col2\" >-0.008673</td>\n",
       "    </tr>\n",
       "    <tr>\n",
       "      <th id=\"T_34ccd_level0_row2\" class=\"row_heading level0 row2\" >densenet201-bert-pos-lstm</th>\n",
       "      <td id=\"T_34ccd_row2_col0\" class=\"data row2 col0\" >-0.000588</td>\n",
       "      <td id=\"T_34ccd_row2_col1\" class=\"data row2 col1\" >0.041672</td>\n",
       "      <td id=\"T_34ccd_row2_col2\" class=\"data row2 col2\" >0.015837</td>\n",
       "    </tr>\n",
       "    <tr>\n",
       "      <th id=\"T_34ccd_level0_row3\" class=\"row_heading level0 row3\" >densenet201-bert-pos-ner-lstm</th>\n",
       "      <td id=\"T_34ccd_row3_col0\" class=\"data row3 col0\" >0.007638</td>\n",
       "      <td id=\"T_34ccd_row3_col1\" class=\"data row3 col1\" >-0.113032</td>\n",
       "      <td id=\"T_34ccd_row3_col2\" class=\"data row3 col2\" >-0.057115</td>\n",
       "    </tr>\n",
       "  </tbody>\n",
       "</table style=\"display:inline\">\n",
       "</td></tr></table style=\"display:inline\">"
      ]
     },
     "metadata": {},
     "output_type": "display_data"
    }
   ],
   "source": [
    "print('Compare Hybrid Fusion scores up')\n",
    "display_dataframes((style_dataframe(df_single_subtract), style_dataframe(df_multiple_subtract)), \n",
    "                   names=['MVSA-Single', 'MVSA-Multiple'])"
   ]
  }
 ],
 "metadata": {
  "kernelspec": {
   "display_name": "Python 3",
   "language": "python",
   "name": "python3"
  },
  "language_info": {
   "codemirror_mode": {
    "name": "ipython",
    "version": 3
   },
   "file_extension": ".py",
   "mimetype": "text/x-python",
   "name": "python",
   "nbconvert_exporter": "python",
   "pygments_lexer": "ipython3",
   "version": "3.7.12"
  },
  "papermill": {
   "default_parameters": {},
   "duration": 442.639543,
   "end_time": "2022-07-05T05:54:01.593121",
   "environment_variables": {},
   "exception": null,
   "input_path": "__notebook__.ipynb",
   "output_path": "__notebook__.ipynb",
   "parameters": {},
   "start_time": "2022-07-05T05:46:38.953578",
   "version": "2.3.4"
  }
 },
 "nbformat": 4,
 "nbformat_minor": 5
}
