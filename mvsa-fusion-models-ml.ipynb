{
 "cells": [
  {
   "cell_type": "code",
   "execution_count": 1,
   "id": "9fb734fd",
   "metadata": {
    "_cell_guid": "b1076dfc-b9ad-4769-8c92-a6c4dae69d19",
    "_uuid": "8f2839f25d086af736a60e9eeb907d3b93b6e0e5",
    "execution": {
     "iopub.execute_input": "2022-07-04T18:14:44.204063Z",
     "iopub.status.busy": "2022-07-04T18:14:44.203532Z",
     "iopub.status.idle": "2022-07-04T18:14:52.626410Z",
     "shell.execute_reply": "2022-07-04T18:14:52.625321Z"
    },
    "papermill": {
     "duration": 8.443516,
     "end_time": "2022-07-04T18:14:52.629193",
     "exception": false,
     "start_time": "2022-07-04T18:14:44.185677",
     "status": "completed"
    },
    "tags": []
   },
   "outputs": [],
   "source": [
    "SEED = 61\n",
    "\n",
    "import os\n",
    "import re\n",
    "import gc\n",
    "import h5py\n",
    "import torch\n",
    "import numpy as np\n",
    "import pandas as pd\n",
    "import tensorflow as tf\n",
    "import random as python_random\n",
    "import tensorflow_addons as tfa\n",
    "import matplotlib.pyplot as plt\n",
    "\n",
    "from tqdm import tqdm\n",
    "from nltk import tokenize\n",
    "from IPython.display import display_html\n",
    "from transformers import BertTokenizer, BertForMaskedLM, BertModel\n",
    "from tensorflow.python.keras.layers import Layer, InputSpec, Lambda\n",
    "\n",
    "from sklearn import preprocessing\n",
    "from sklearn.decomposition import PCA\n",
    "from sklearn.model_selection import RepeatedKFold, KFold\n",
    "from sklearn.model_selection import cross_val_score\n",
    "from sklearn.metrics import f1_score, accuracy_score, confusion_matrix, ConfusionMatrixDisplay, classification_report\n",
    "\n",
    "from keras import backend as K\n",
    "from keras import initializers,regularizers,constraints\n",
    "from keras.preprocessing.text import Tokenizer, text_to_word_sequence\n",
    "from keras.preprocessing.sequence import pad_sequences\n",
    "from keras.utils.np_utils import to_categorical\n",
    "from keras.layers import Reshape, Input, Embedding, Flatten, Dense, Dropout, BatchNormalization, Activation #, merge\n",
    "from keras.layers import TimeDistributed, LSTM, GRU, Bidirectional, Convolution1D, MaxPooling1D, MaxPooling2D\n",
    "from keras.layers.core import RepeatVector #, Reshape\n",
    "from keras.callbacks import ModelCheckpoint, EarlyStopping, ReduceLROnPlateau\n",
    "from keras.models import Sequential, Model, load_model\n",
    "\n",
    "def reset_seeds():\n",
    "    np.random.seed(SEED) \n",
    "    python_random.seed(SEED)\n",
    "    tf.random.set_seed(SEED)\n",
    "    os.environ[\"PYTHONHASHSEED\"] = str(SEED)\n",
    "\n",
    "# from tensorflow.keras import Model\n",
    "# from attention import Attention_input1, Attention_input2\n",
    "# from keras.optimizers import SGD, RMSprop, Adagrad"
   ]
  },
  {
   "cell_type": "code",
   "execution_count": 2,
   "id": "d9e5d6f6",
   "metadata": {
    "execution": {
     "iopub.execute_input": "2022-07-04T18:14:52.648159Z",
     "iopub.status.busy": "2022-07-04T18:14:52.647661Z",
     "iopub.status.idle": "2022-07-04T18:14:52.651964Z",
     "shell.execute_reply": "2022-07-04T18:14:52.651061Z"
    },
    "papermill": {
     "duration": 0.016112,
     "end_time": "2022-07-04T18:14:52.653964",
     "exception": false,
     "start_time": "2022-07-04T18:14:52.637852",
     "status": "completed"
    },
    "tags": []
   },
   "outputs": [],
   "source": [
    "NUM_CLASSES = 3"
   ]
  },
  {
   "cell_type": "code",
   "execution_count": 3,
   "id": "5f9d1edb",
   "metadata": {
    "execution": {
     "iopub.execute_input": "2022-07-04T18:14:52.671316Z",
     "iopub.status.busy": "2022-07-04T18:14:52.671028Z",
     "iopub.status.idle": "2022-07-04T18:14:52.678218Z",
     "shell.execute_reply": "2022-07-04T18:14:52.677328Z"
    },
    "papermill": {
     "duration": 0.018127,
     "end_time": "2022-07-04T18:14:52.680141",
     "exception": false,
     "start_time": "2022-07-04T18:14:52.662014",
     "status": "completed"
    },
    "tags": []
   },
   "outputs": [],
   "source": [
    "def read_hdf5(path):\n",
    "    read_file = h5py.File(path, 'r')\n",
    "    \n",
    "    feature_names = list(read_file.keys())\n",
    "    loaded_data = []\n",
    "    \n",
    "    for name in feature_names:\n",
    "        dataset = read_file[name][:]\n",
    "        if dataset.dtype == np.dtype('object'):\n",
    "            dataset = np.array([x.decode('UTF-8') for x in dataset])            \n",
    "        loaded_data.append((name, dataset))\n",
    "\n",
    "    return loaded_data\n",
    "\n",
    "def loadz(path):\n",
    "    data = np.load(path)['arr_0']\n",
    "    return data"
   ]
  },
  {
   "cell_type": "code",
   "execution_count": 4,
   "id": "27354ba6",
   "metadata": {
    "execution": {
     "iopub.execute_input": "2022-07-04T18:14:52.697317Z",
     "iopub.status.busy": "2022-07-04T18:14:52.697043Z",
     "iopub.status.idle": "2022-07-04T18:14:52.704995Z",
     "shell.execute_reply": "2022-07-04T18:14:52.704133Z"
    },
    "papermill": {
     "duration": 0.018625,
     "end_time": "2022-07-04T18:14:52.706930",
     "exception": false,
     "start_time": "2022-07-04T18:14:52.688305",
     "status": "completed"
    },
    "tags": []
   },
   "outputs": [],
   "source": [
    "def load_labels(path):\n",
    "    data = read_hdf5(path)\n",
    "\n",
    "    for x in data:\n",
    "        if x[0] == 'multimodal-labels':\n",
    "            labels = x[1]\n",
    "        if x[0] == 'text-labels':\n",
    "            text_labels = x[1]\n",
    "        if x[0] == 'image-labels':\n",
    "            image_labels = x[1]\n",
    "        \n",
    "    return labels, text_labels, image_labels\n",
    "\n",
    "def merge_mvsa(mvsa_single, mvsa_multiple):\n",
    "    mvsa = np.concatenate((mvsa_single, mvsa_multiple), axis=0)\n",
    "    return mvsa\n",
    "\n",
    "def load_mvsa_feature(feature_name, merge=False):\n",
    "    folder_path = os.path.join('../input/mvsa-features/', feature_name)\n",
    "    single_file = 'mvsa-single-{}.npz'.format(feature_name)\n",
    "    multiple_file = 'mvsa-multiple-{}.npz'.format(feature_name)\n",
    "    mvsa_single = loadz(os.path.join(folder_path, single_file))\n",
    "    mvsa_multiple = loadz(os.path.join(folder_path, multiple_file))\n",
    "    \n",
    "    if merge == True:\n",
    "        return merge_mvsa(mvsa_single, mvsa_multiple)\n",
    "    \n",
    "    return mvsa_single, mvsa_multiple"
   ]
  },
  {
   "cell_type": "code",
   "execution_count": 5,
   "id": "c84a0b36",
   "metadata": {
    "execution": {
     "iopub.execute_input": "2022-07-04T18:14:52.724478Z",
     "iopub.status.busy": "2022-07-04T18:14:52.723878Z",
     "iopub.status.idle": "2022-07-04T18:14:52.729962Z",
     "shell.execute_reply": "2022-07-04T18:14:52.729153Z"
    },
    "papermill": {
     "duration": 0.016958,
     "end_time": "2022-07-04T18:14:52.731843",
     "exception": false,
     "start_time": "2022-07-04T18:14:52.714885",
     "status": "completed"
    },
    "tags": []
   },
   "outputs": [],
   "source": [
    "# e.g. validation_split=0.1 -----> 8:1:1 ratio of train, val, test\n",
    "def split_data(data, validation_split):\n",
    "    num_val = int(validation_split * data.shape[0])\n",
    "    data_train = data[:-(num_val*2)]\n",
    "    data_val = data[-(num_val*2):-(num_val)]\n",
    "    data_test = data[-num_val:]\n",
    "    return data_train, data_val, data_test"
   ]
  },
  {
   "cell_type": "code",
   "execution_count": 6,
   "id": "5bdf5f95",
   "metadata": {
    "execution": {
     "iopub.execute_input": "2022-07-04T18:14:52.749578Z",
     "iopub.status.busy": "2022-07-04T18:14:52.748842Z",
     "iopub.status.idle": "2022-07-04T18:14:52.758213Z",
     "shell.execute_reply": "2022-07-04T18:14:52.757405Z"
    },
    "papermill": {
     "duration": 0.020271,
     "end_time": "2022-07-04T18:14:52.760118",
     "exception": false,
     "start_time": "2022-07-04T18:14:52.739847",
     "status": "completed"
    },
    "tags": []
   },
   "outputs": [],
   "source": [
    "def weighted_average(weights, probs):\n",
    "    ''' Calculate the weighted average probability distribution from all input probs and its weights \n",
    "    weights: weights list (or array)\n",
    "    probs: probability distributions array list\n",
    "    '''\n",
    "    output_probs = []\n",
    "    weighted_probs = [probs[i] * weights[i] for i in range(len(weights))]\n",
    "    for i in range(len(probs[0])):\n",
    "        sum_prob = np.zeros(len(probs[0][0]))\n",
    "        for j in range(len(weights)):\n",
    "            sum_prob = np.sum((sum_prob, weighted_probs[j][i]), axis=0)\n",
    "        output_probs.append(sum_prob)\n",
    "    return np.asarray(output_probs, dtype='float32')\n",
    "\n",
    "def get_average_weights(*scores, inverse=False):\n",
    "    ''' Get the corresponding weight of each input score \n",
    "    inverse: (bool) get inverse weights value in case of the smaller score value, the bigger weight value (such as model loss)\n",
    "    '''\n",
    "    \n",
    "    weights = []\n",
    "    for score in scores:\n",
    "        weights.append(score/np.sum(scores))\n",
    "    \n",
    "    if inverse == True:\n",
    "        inverse_weights = []\n",
    "        inverse = [1/weight for weight in weights]\n",
    "        for inv in inverse:\n",
    "            inverse_weights.append(inv/np.sum(inverse))\n",
    "        weights = inverse_weights\n",
    "\n",
    "    return weights"
   ]
  },
  {
   "cell_type": "code",
   "execution_count": 7,
   "id": "8bce09b4",
   "metadata": {
    "execution": {
     "iopub.execute_input": "2022-07-04T18:14:52.777593Z",
     "iopub.status.busy": "2022-07-04T18:14:52.777198Z",
     "iopub.status.idle": "2022-07-04T18:14:58.278821Z",
     "shell.execute_reply": "2022-07-04T18:14:58.277821Z"
    },
    "papermill": {
     "duration": 5.513866,
     "end_time": "2022-07-04T18:14:58.281991",
     "exception": false,
     "start_time": "2022-07-04T18:14:52.768125",
     "status": "completed"
    },
    "tags": []
   },
   "outputs": [
    {
     "name": "stderr",
     "output_type": "stream",
     "text": [
      "2022-07-04 18:14:52.873841: I tensorflow/stream_executor/cuda/cuda_gpu_executor.cc:937] successful NUMA node read from SysFS had negative value (-1), but there must be at least one NUMA node, so returning NUMA node zero\n",
      "2022-07-04 18:14:52.874902: I tensorflow/stream_executor/cuda/cuda_gpu_executor.cc:937] successful NUMA node read from SysFS had negative value (-1), but there must be at least one NUMA node, so returning NUMA node zero\n",
      "2022-07-04 18:14:52.875597: I tensorflow/stream_executor/cuda/cuda_gpu_executor.cc:937] successful NUMA node read from SysFS had negative value (-1), but there must be at least one NUMA node, so returning NUMA node zero\n",
      "2022-07-04 18:14:52.876493: I tensorflow/core/platform/cpu_feature_guard.cc:142] This TensorFlow binary is optimized with oneAPI Deep Neural Network Library (oneDNN) to use the following CPU instructions in performance-critical operations:  AVX2 AVX512F FMA\n",
      "To enable them in other operations, rebuild TensorFlow with the appropriate compiler flags.\n",
      "2022-07-04 18:14:52.876784: I tensorflow/stream_executor/cuda/cuda_gpu_executor.cc:937] successful NUMA node read from SysFS had negative value (-1), but there must be at least one NUMA node, so returning NUMA node zero\n",
      "2022-07-04 18:14:52.877492: I tensorflow/stream_executor/cuda/cuda_gpu_executor.cc:937] successful NUMA node read from SysFS had negative value (-1), but there must be at least one NUMA node, so returning NUMA node zero\n",
      "2022-07-04 18:14:52.878131: I tensorflow/stream_executor/cuda/cuda_gpu_executor.cc:937] successful NUMA node read from SysFS had negative value (-1), but there must be at least one NUMA node, so returning NUMA node zero\n",
      "2022-07-04 18:14:57.955834: I tensorflow/stream_executor/cuda/cuda_gpu_executor.cc:937] successful NUMA node read from SysFS had negative value (-1), but there must be at least one NUMA node, so returning NUMA node zero\n",
      "2022-07-04 18:14:57.956837: I tensorflow/stream_executor/cuda/cuda_gpu_executor.cc:937] successful NUMA node read from SysFS had negative value (-1), but there must be at least one NUMA node, so returning NUMA node zero\n",
      "2022-07-04 18:14:57.957619: I tensorflow/stream_executor/cuda/cuda_gpu_executor.cc:937] successful NUMA node read from SysFS had negative value (-1), but there must be at least one NUMA node, so returning NUMA node zero\n",
      "2022-07-04 18:14:57.958209: I tensorflow/core/common_runtime/gpu/gpu_device.cc:1510] Created device /job:localhost/replica:0/task:0/device:GPU:0 with 15047 MB memory:  -> device: 0, name: Tesla P100-PCIE-16GB, pci bus id: 0000:00:04.0, compute capability: 6.0\n"
     ]
    }
   ],
   "source": [
    "f1_macro = tfa.metrics.F1Score(num_classes=NUM_CLASSES, average='macro', name='f1_macro')\n",
    "f1_weighted = tfa.metrics.F1Score(num_classes=NUM_CLASSES, average='weighted', name='f1_weighted')\n",
    "    \n",
    "def create_model_text(input_shape, lstm=True):\n",
    "    text_input = Input(shape=input_shape)\n",
    "    if lstm == True:\n",
    "        reshape_text = Reshape((1, -1)) (text_input)\n",
    "        lstm = LSTM(NUM_LSTM) (reshape_text)\n",
    "        outputs = Dense(NUM_CLASSES, activation='softmax') (lstm)\n",
    "    else:\n",
    "        outputs = Dense(NUM_CLASSES, activation='softmax') (text_input)\n",
    "    model = Model(text_input, outputs)\n",
    "    model.compile(optimizer='adam', loss='categorical_crossentropy', metrics=['accuracy', f1_macro, f1_weighted])\n",
    "    return model\n",
    "\n",
    "def create_model_image(input_shape):\n",
    "    image_input = Input(shape=input_shape)\n",
    "    outputs = Dense(NUM_CLASSES, activation='softmax') (image_input)\n",
    "    model = Model(image_input, outputs)\n",
    "    model.compile(optimizer='adam', loss='categorical_crossentropy', metrics=['accuracy', f1_macro, f1_weighted])\n",
    "    return model\n",
    "\n",
    "def create_model_IF(text_shape, image_shape, lstm=True):\n",
    "    image_input = Input(shape=image_shape)\n",
    "    text_input = Input(shape=text_shape)\n",
    "    if lstm == True:\n",
    "        text_reshape = Reshape((1, -1)) (text_input)\n",
    "        text_lstm = LSTM(NUM_LSTM) (text_reshape)\n",
    "#     text_lstm = Dropout(DROPOUT_RATE) (text_lstm)\n",
    "        text_image_concat = tf.keras.layers.Concatenate(axis=1)([text_lstm, image_input])\n",
    "    else:\n",
    "        text_image_concat = tf.keras.layers.Concatenate(axis=1)([text_input, image_input])\n",
    "    concat_self_attention = tf.keras.layers.Attention() ([text_image_concat, text_image_concat])\n",
    "#     concat_self_attention = Dropout(DROPOUT_RATE) (concat_self_attention)\n",
    "    outputs = Dense(NUM_CLASSES, activation='softmax') (concat_self_attention)\n",
    "    model = Model([text_input, image_input], outputs)\n",
    "    model.compile(optimizer='adam', loss='categorical_crossentropy', metrics=['accuracy', f1_macro, f1_weighted])\n",
    "    return model"
   ]
  },
  {
   "cell_type": "code",
   "execution_count": 8,
   "id": "ec9e78c5",
   "metadata": {
    "execution": {
     "iopub.execute_input": "2022-07-04T18:14:58.301696Z",
     "iopub.status.busy": "2022-07-04T18:14:58.301194Z",
     "iopub.status.idle": "2022-07-04T18:14:58.316880Z",
     "shell.execute_reply": "2022-07-04T18:14:58.316011Z"
    },
    "papermill": {
     "duration": 0.027792,
     "end_time": "2022-07-04T18:14:58.319009",
     "exception": false,
     "start_time": "2022-07-04T18:14:58.291217",
     "status": "completed"
    },
    "tags": []
   },
   "outputs": [],
   "source": [
    "def run_and_evaluate_IF(name, X1, X2, y, verbose=0, lstm=True):\n",
    "    '''  Train and test Intermediate Fusion model Multimodal Labels \n",
    "    X1: text input\n",
    "    X2: image input\n",
    "    y: multimodal labels\n",
    "    '''\n",
    "    y = le.fit_transform(y)\n",
    "    y = to_categorical(np.asarray(y))\n",
    "    \n",
    "    X1_train, X1_val, X1_test = split_data(X1, VALIDATION_SPLIT)\n",
    "    X2_train, X2_val, X2_test = split_data(X2, VALIDATION_SPLIT)\n",
    "    y_train, y_val, y_test = split_data(y, VALIDATION_SPLIT)\n",
    "    \n",
    "    if lstm == False:\n",
    "        model = create_model_IF(X1_train.shape[1:], X2_train.shape[1:], lstm=False)\n",
    "    else:\n",
    "        model = create_model_IF(X1_train.shape[1:], X2_train.shape[1:])\n",
    "    early_stopping = EarlyStopping(monitor='val_loss', min_delta=1e-4, patience=EARLY_STOPPING)\n",
    "    checkpoint = ModelCheckpoint('./model_checkpoint/{}.h5'.format(name), save_best_only=True, verbose=verbose)\n",
    "    \n",
    "    history = model.fit([X1_train, X2_train], y_train, validation_data=([X1_val, X2_val], y_val), \n",
    "                        epochs=EPOCHS, batch_size=BATCH_SIZE, verbose=verbose,\n",
    "                        callbacks=[checkpoint, early_stopping])\n",
    "    if verbose == 1:\n",
    "        best_epoch = np.argmin(history.history['val_loss'])\n",
    "        print('\\nCheckpoint loaded at epoch:', best_epoch)\n",
    "        \n",
    "    return history, evaluate_model_IF(model, X1_test, X2_test, y_test, checkpoint=name, verbose=verbose)\n",
    "\n",
    "def evaluate_model_IF(model, X_texts, X_images, y_test, checkpoint=None, verbose=1):\n",
    "    if checkpoint is not None:\n",
    "        model = load_model('./model_checkpoint/{}.h5'.format(checkpoint))\n",
    "    \n",
    "    loss, acc, f1_macro, f1_weighted = model.evaluate([X_texts, X_images], y_test, verbose=verbose)\n",
    "\n",
    "    if verbose == 1:\n",
    "        print('Loss:', loss)\n",
    "        print('Accuracy:', acc)\n",
    "        print('Macro F1-score:', f1_macro)\n",
    "        print('Weighted F1-score:', f1_weighted)\n",
    "\n",
    "        y_pred = model.predict([X_texts, X_images])\n",
    "        matrix = confusion_matrix(le.inverse_transform(y_test.argmax(axis=1)), le.inverse_transform(y_pred.argmax(axis=1)), \n",
    "                                  labels=list(le.classes_))\n",
    "        cm_disp = ConfusionMatrixDisplay(confusion_matrix=matrix,\n",
    "                                  display_labels=list(le.classes_))\n",
    "        cm_disp.plot()\n",
    "        plt.show()\n",
    "        \n",
    "    return loss, acc, f1_macro, f1_weighted"
   ]
  },
  {
   "cell_type": "code",
   "execution_count": 9,
   "id": "439d89d5",
   "metadata": {
    "execution": {
     "iopub.execute_input": "2022-07-04T18:14:58.337943Z",
     "iopub.status.busy": "2022-07-04T18:14:58.337677Z",
     "iopub.status.idle": "2022-07-04T18:14:58.350528Z",
     "shell.execute_reply": "2022-07-04T18:14:58.349459Z"
    },
    "papermill": {
     "duration": 0.025027,
     "end_time": "2022-07-04T18:14:58.352642",
     "exception": false,
     "start_time": "2022-07-04T18:14:58.327615",
     "status": "completed"
    },
    "tags": []
   },
   "outputs": [],
   "source": [
    "def run_and_evaluate_LF(name, X1, X2, y, verbose=0, lstm=True):\n",
    "    ''' Train and test Late Fusion model only with Multimodal Labels \n",
    "    X1: text input\n",
    "    X2: image input\n",
    "    y: multimodal labels\n",
    "    y1: text labels\n",
    "    y2: image labels\n",
    "    verbose: 0 or 1 to print tracking on progress\n",
    "    '''\n",
    "    y = le.fit_transform(y)\n",
    "    y = to_categorical(np.asarray(y))\n",
    "\n",
    "    X1_train, X1_val, X1_test = split_data(X1, VALIDATION_SPLIT)\n",
    "    X2_train, X2_val, X2_test = split_data(X2, VALIDATION_SPLIT)\n",
    "    y_train, y_val, y_test = split_data(y, VALIDATION_SPLIT)\n",
    "\n",
    "    if lstm == False:\n",
    "        model_text = create_model_text(X1_train.shape[1:], lstm=False)\n",
    "    else:\n",
    "        model_text = create_model_text(X1_train.shape[1:])\n",
    "    model_image = create_model_image(X2_train.shape[1:])\n",
    "\n",
    "    early_stopping1 = EarlyStopping(monitor='val_loss', min_delta=1e-4, patience=EARLY_STOPPING)\n",
    "    early_stopping2 = EarlyStopping(monitor='val_loss', min_delta=1e-4, patience=EARLY_STOPPING)\n",
    "    checkpoint_text = ModelCheckpoint('./model_checkpoint/{}-text.h5'.format(name), save_best_only=True, verbose=verbose)\n",
    "    checkpoint_image = ModelCheckpoint('./model_checkpoint/{}-image.h5'.format(name), save_best_only=True, verbose=verbose)\n",
    "    \n",
    "    history_text = model_text.fit(X1_train, y_train, validation_data=(X1_val, y_val), \n",
    "                                  epochs=EPOCHS, batch_size=BATCH_SIZE, verbose=verbose,\n",
    "                                  callbacks=[checkpoint_text, early_stopping1])\n",
    "    \n",
    "    history_image = model_image.fit(X2_train, y_train, validation_data=(X2_val, y_val), \n",
    "                                    epochs=EPOCHS, batch_size=BATCH_SIZE, verbose=verbose,\n",
    "                                    callbacks=[checkpoint_image, early_stopping2])\n",
    "    \n",
    "    best_val_loss_text = np.min(history_text.history['val_loss'])\n",
    "    best_val_loss_image = np.min(history_image.history['val_loss'])\n",
    "\n",
    "    weights = get_average_weights(best_val_loss_text, best_val_loss_image, inverse=True)\n",
    "\n",
    "    model_text = load_model('./model_checkpoint/{}-text.h5'.format(name))\n",
    "    model_image = load_model('./model_checkpoint/{}-image.h5'.format(name))\n",
    "\n",
    "    y_pred_text = model_text.predict(X1_test)\n",
    "    y_pred_image = model_image.predict(X2_test)\n",
    "\n",
    "    y_pred = weighted_average(weights, np.asarray([y_pred_text, y_pred_image], dtype='float32'))\n",
    "\n",
    "    best_epoch_text = np.argmin(history_text.history['val_loss'])\n",
    "    best_epoch_image = np.argmin(history_image.history['val_loss'])\n",
    "\n",
    "    if verbose == 1:\n",
    "        print('Checkpoint of text model loaded at epoch:', best_epoch_text)\n",
    "        print('Checkpoint of image model loaded at epoch:', best_epoch_image)\n",
    "\n",
    "    return evaluate_model_LF(y_test, y_pred, verbose=verbose)"
   ]
  },
  {
   "cell_type": "code",
   "execution_count": 10,
   "id": "5211221e",
   "metadata": {
    "execution": {
     "iopub.execute_input": "2022-07-04T18:14:58.371314Z",
     "iopub.status.busy": "2022-07-04T18:14:58.371038Z",
     "iopub.status.idle": "2022-07-04T18:14:58.387806Z",
     "shell.execute_reply": "2022-07-04T18:14:58.386834Z"
    },
    "papermill": {
     "duration": 0.028696,
     "end_time": "2022-07-04T18:14:58.389820",
     "exception": false,
     "start_time": "2022-07-04T18:14:58.361124",
     "status": "completed"
    },
    "tags": []
   },
   "outputs": [],
   "source": [
    "def run_and_evaluate_HF(name, X1, X2, y, verbose=0, lstm=True):\n",
    "    ''' Train Hybrid Fusion model and test only with Multimodal Labels\n",
    "    X1: text input\n",
    "    X2: image input\n",
    "    y: labels\n",
    "    verbose: 0 or 1 to print tracking on progress\n",
    "    '''\n",
    "    y = le.fit_transform(y)\n",
    "    y = to_categorical(np.asarray(y))\n",
    "    \n",
    "    X1_train, X1_val, X1_test = split_data(X1, VALIDATION_SPLIT)\n",
    "    X2_train, X2_val, X2_test = split_data(X2, VALIDATION_SPLIT)\n",
    "    y_train, y_val, y_test = split_data(y, VALIDATION_SPLIT)\n",
    "    \n",
    "    if lstm == False:\n",
    "        model_text = create_model_text(X1_train.shape[1:], lstm=False)\n",
    "        model_IF = create_model_IF(X1_train.shape[1:], X2_train.shape[1:], lstm=False)\n",
    "    model_text = create_model_text(X1_train.shape[1:])\n",
    "    model_IF = create_model_IF(X1_train.shape[1:], X2_train.shape[1:])\n",
    "    model_image = create_model_image(X2_train.shape[1:])\n",
    "\n",
    "    early_stopping1 = EarlyStopping(monitor='val_loss', min_delta=1e-4, patience=EARLY_STOPPING)\n",
    "    early_stopping2 = EarlyStopping(monitor='val_loss', min_delta=1e-4, patience=EARLY_STOPPING)\n",
    "    early_stopping3 = EarlyStopping(monitor='val_loss', min_delta=1e-4, patience=EARLY_STOPPING)\n",
    "\n",
    "    checkpoint_text = ModelCheckpoint('./model_checkpoint/{}-text.h5'.format(name), save_best_only=True, verbose=verbose)\n",
    "    checkpoint_image = ModelCheckpoint('./model_checkpoint/{}-image.h5'.format(name), save_best_only=True, verbose=verbose)\n",
    "    checkpoint_IF = ModelCheckpoint('./model_checkpoint/{}-IF.h5'.format(name), save_best_only=True, verbose=verbose)\n",
    "\n",
    "    history_text = model_text.fit(X1_train, y_train, validation_data=(X1_val, y_val), \n",
    "                        epochs=EPOCHS, batch_size=BATCH_SIZE, verbose=verbose,\n",
    "                        callbacks=[checkpoint_text, early_stopping1])\n",
    "    \n",
    "    history_image = model_image.fit(X2_train, y_train, validation_data=(X2_val, y_val), \n",
    "                        epochs=EPOCHS, batch_size=BATCH_SIZE, verbose=verbose,\n",
    "                        callbacks=[checkpoint_image, early_stopping2])\n",
    "    \n",
    "    history_IF = model_IF.fit([X1_train, X2_train], y_train, validation_data=([X1_val, X2_val], y_val), \n",
    "                        epochs=EPOCHS, batch_size=BATCH_SIZE, verbose=verbose,\n",
    "                        callbacks=[checkpoint_IF, early_stopping3])\n",
    "    \n",
    "    best_val_loss_text = np.min(history_text.history['val_loss'])\n",
    "    best_val_loss_image = np.min(history_image.history['val_loss'])\n",
    "    best_val_loss_IF = np.min(history_IF.history['val_loss'])\n",
    "    \n",
    "    weights = get_average_weights(best_val_loss_text, best_val_loss_image, best_val_loss_IF,\n",
    "                                  inverse=True)\n",
    "\n",
    "    model_text = load_model('./model_checkpoint/{}-text.h5'.format(name))\n",
    "    model_image = load_model('./model_checkpoint/{}-image.h5'.format(name))\n",
    "    model_IF = load_model('./model_checkpoint/{}-IF.h5'.format(name))\n",
    "\n",
    "    y_pred_text = model_text.predict(X1_test)\n",
    "    y_pred_image = model_image.predict(X2_test)\n",
    "    y_pred_IF = model_IF.predict([X1_test, X2_test])\n",
    "    \n",
    "    y_pred = weighted_average(weights, np.asarray([y_pred_text, y_pred_image, y_pred_IF], dtype='float32'))\n",
    "    \n",
    "    best_epoch_text = np.argmin(history_text.history['val_loss'])\n",
    "    best_epoch_image = np.argmin(history_image.history['val_loss'])\n",
    "    best_epoch_IF = np.argmin(history_IF.history['val_loss'])\n",
    "    \n",
    "    if verbose == 1:\n",
    "        print('Checkpoint of text model loaded at epoch:', best_epoch_text)\n",
    "        print('Checkpoint of image model loaded at epoch:', best_epoch_image)\n",
    "        print('Checkpoint of IF model loaded at epoch:', best_epoch_IF)\n",
    "\n",
    "    return evaluate_model_LF(y_test, y_pred, verbose=verbose)"
   ]
  },
  {
   "cell_type": "code",
   "execution_count": 11,
   "id": "e39187a3",
   "metadata": {
    "execution": {
     "iopub.execute_input": "2022-07-04T18:14:58.407881Z",
     "iopub.status.busy": "2022-07-04T18:14:58.407579Z",
     "iopub.status.idle": "2022-07-04T18:14:58.414588Z",
     "shell.execute_reply": "2022-07-04T18:14:58.413452Z"
    },
    "papermill": {
     "duration": 0.018103,
     "end_time": "2022-07-04T18:14:58.416595",
     "exception": false,
     "start_time": "2022-07-04T18:14:58.398492",
     "status": "completed"
    },
    "tags": []
   },
   "outputs": [],
   "source": [
    "def evaluate_model_LF(y_true, y_pred, verbose=0):\n",
    "    \n",
    "    y_pred = le.inverse_transform(y_pred.argmax(axis=1))\n",
    "    y_true = le.inverse_transform(y_true.argmax(axis=1))\n",
    "\n",
    "    acc = accuracy_score(y_true, y_pred)\n",
    "    f1_macro = f1_score(y_true, y_pred, average='macro')\n",
    "    f1_weighted = f1_score(y_true, y_pred, average='weighted')\n",
    "\n",
    "    if verbose == 1:\n",
    "        print(classification_report(y_true, y_pred))\n",
    "        matrix = confusion_matrix(y_true, y_pred,\n",
    "                                  labels=list(le.classes_))\n",
    "        cm_disp = ConfusionMatrixDisplay(confusion_matrix=matrix,\n",
    "                                  display_labels=list(le.classes_))\n",
    "        cm_disp.plot()\n",
    "        plt.show()\n",
    "\n",
    "    return acc, f1_macro, f1_weighted"
   ]
  },
  {
   "cell_type": "code",
   "execution_count": 12,
   "id": "64c13675",
   "metadata": {
    "execution": {
     "iopub.execute_input": "2022-07-04T18:14:58.434603Z",
     "iopub.status.busy": "2022-07-04T18:14:58.433836Z",
     "iopub.status.idle": "2022-07-04T18:14:58.444012Z",
     "shell.execute_reply": "2022-07-04T18:14:58.443044Z"
    },
    "papermill": {
     "duration": 0.021309,
     "end_time": "2022-07-04T18:14:58.446034",
     "exception": false,
     "start_time": "2022-07-04T18:14:58.424725",
     "status": "completed"
    },
    "tags": []
   },
   "outputs": [],
   "source": [
    "def plot_metrics(history):\n",
    "    fig = plt.figure(figsize=(20, 5))\n",
    "\n",
    "    fig.add_subplot(1, 4, 1)\n",
    "    plt.plot(history.history['loss'])\n",
    "    plt.plot(history.history['val_loss'])\n",
    "    plt.title('LOSS')\n",
    "    plt.ylabel('loss')\n",
    "    plt.xlabel('epoch')\n",
    "    plt.legend(['train', 'val'], loc='best')\n",
    "\n",
    "    fig.add_subplot(1, 4, 2)\n",
    "    plt.plot(history.history['accuracy'])\n",
    "    plt.plot(history.history['val_accuracy'])\n",
    "    plt.title('ACCURACY')\n",
    "    plt.ylabel('accuracy')\n",
    "    plt.xlabel('epoch')\n",
    "    plt.legend(['train', 'val'], loc='best')\n",
    "\n",
    "    fig.add_subplot(1, 4, 3)\n",
    "    plt.plot(history.history['f1_macro'])\n",
    "    plt.plot(history.history['val_f1_macro'])\n",
    "    plt.title('Macro F1-SCORE')\n",
    "    plt.ylabel('f1-macro')\n",
    "    plt.xlabel('epoch')\n",
    "    plt.legend(['train', 'val'], loc='best')\n",
    "    \n",
    "    fig.add_subplot(1, 4, 4)\n",
    "    plt.plot(history.history['f1_weighted'])\n",
    "    plt.plot(history.history['val_f1_weighted'])\n",
    "    plt.title('Weighted F1-SCORE')\n",
    "    plt.ylabel('f1-weighted')\n",
    "    plt.xlabel('epoch')\n",
    "    plt.legend(['train', 'val'], loc='best')\n",
    "\n",
    "    plt.show()"
   ]
  },
  {
   "cell_type": "code",
   "execution_count": 13,
   "id": "7ff17cb1",
   "metadata": {
    "execution": {
     "iopub.execute_input": "2022-07-04T18:14:58.464179Z",
     "iopub.status.busy": "2022-07-04T18:14:58.463938Z",
     "iopub.status.idle": "2022-07-04T18:14:58.471510Z",
     "shell.execute_reply": "2022-07-04T18:14:58.470552Z"
    },
    "papermill": {
     "duration": 0.018676,
     "end_time": "2022-07-04T18:14:58.473616",
     "exception": false,
     "start_time": "2022-07-04T18:14:58.454940",
     "status": "completed"
    },
    "tags": []
   },
   "outputs": [],
   "source": [
    "def style_dataframe(dataframe):\n",
    "    return dataframe.style.highlight_max(subset=['Accuracy', 'F1-macro', 'F1-weighted'], props='color:lawngreen', axis=0)\\\n",
    "                          .highlight_min(subset=['Accuracy', 'F1-macro', 'F1-weighted'], props='color:tomato', axis=0)\n",
    "\n",
    "def display_dataframes(dfs, names=[], index=False):\n",
    "    def to_df(x):\n",
    "        if isinstance(x, pd.Series):\n",
    "            return pd.DataFrame(x)\n",
    "        else:\n",
    "            return x\n",
    "    html_str = ''\n",
    "    if names:\n",
    "        html_str += ('<tr>' + \n",
    "                     ''.join(f'<td style=\"text-align:center\">{name}</td>' for name in names) + \n",
    "                     '</tr>')\n",
    "    html_str += ('<tr>' + \n",
    "                 ''.join(f'<td style=\"vertical-align:top\"> {to_df(df).to_html()}</td>' \n",
    "                         for df in dfs) + \n",
    "                 '</tr>')\n",
    "    html_str = f'<table>{html_str}</table>'\n",
    "    html_str = html_str.replace('table','table style=\"display:inline\"')\n",
    "    display_html(html_str, raw=True)"
   ]
  },
  {
   "cell_type": "markdown",
   "id": "a7463fd6",
   "metadata": {
    "papermill": {
     "duration": 0.00802,
     "end_time": "2022-07-04T18:14:58.489810",
     "exception": false,
     "start_time": "2022-07-04T18:14:58.481790",
     "status": "completed"
    },
    "tags": []
   },
   "source": [
    "# Load data"
   ]
  },
  {
   "cell_type": "code",
   "execution_count": 14,
   "id": "d5215719",
   "metadata": {
    "execution": {
     "iopub.execute_input": "2022-07-04T18:14:58.507783Z",
     "iopub.status.busy": "2022-07-04T18:14:58.507529Z",
     "iopub.status.idle": "2022-07-04T18:15:12.389375Z",
     "shell.execute_reply": "2022-07-04T18:15:12.388312Z"
    },
    "papermill": {
     "duration": 13.894462,
     "end_time": "2022-07-04T18:15:12.392409",
     "exception": false,
     "start_time": "2022-07-04T18:14:58.497947",
     "status": "completed"
    },
    "tags": []
   },
   "outputs": [],
   "source": [
    "## Choose best\n",
    "# Load text feature\n",
    "mvsa_single_bert, mvsa_multiple_bert = load_mvsa_feature('bert-base')\n",
    "mvsa_single_pos_bow, mvsa_multiple_pos_bow = load_mvsa_feature('pos-bow')\n",
    "mvsa_single_pos_tfidf, mvsa_multiple_pos_tfidf = load_mvsa_feature('pos-tfidf')\n",
    "mvsa_single_ner_bow, mvsa_multiple_ner_bow = load_mvsa_feature('ner-bow')\n",
    "mvsa_single_ner_tfidf, mvsa_multiple_ner_tfidf = load_mvsa_feature('ner-tfidf')\n",
    "\n",
    "## Load image feature\n",
    "mvsa_single_vgg16, mvsa_multiple_vgg16 = load_mvsa_feature('vgg16')\n",
    "mvsa_single_vgg19, mvsa_multiple_vgg19 = load_mvsa_feature('vgg19')\n",
    "mvsa_single_resnet50, mvsa_multiple_resnet50 = load_mvsa_feature('resnet50')\n",
    "mvsa_single_resnet101, mvsa_multiple_resnet101 = load_mvsa_feature('resnet101')\n",
    "mvsa_single_resnet152, mvsa_multiple_resnet152 = load_mvsa_feature('resnet152')\n",
    "mvsa_single_densenet121, mvsa_multiple_densenet121 = load_mvsa_feature('densenet121')\n",
    "mvsa_single_densenet169, mvsa_multiple_densenet169 = load_mvsa_feature('densenet169')\n",
    "mvsa_single_densenet201, mvsa_multiple_densenet201 = load_mvsa_feature('densenet201')"
   ]
  },
  {
   "cell_type": "code",
   "execution_count": 15,
   "id": "813a459a",
   "metadata": {
    "execution": {
     "iopub.execute_input": "2022-07-04T18:15:12.414181Z",
     "iopub.status.busy": "2022-07-04T18:15:12.413861Z",
     "iopub.status.idle": "2022-07-04T18:15:12.500623Z",
     "shell.execute_reply": "2022-07-04T18:15:12.499613Z"
    },
    "papermill": {
     "duration": 0.100047,
     "end_time": "2022-07-04T18:15:12.503052",
     "exception": false,
     "start_time": "2022-07-04T18:15:12.403005",
     "status": "completed"
    },
    "tags": []
   },
   "outputs": [],
   "source": [
    "mvsa_single_bert_pos = np.concatenate((mvsa_single_bert, mvsa_single_pos_tfidf), axis=1)\n",
    "mvsa_single_bert_pos_ner = np.concatenate((mvsa_single_bert, mvsa_single_pos_tfidf, mvsa_single_ner_tfidf), axis=1)\n",
    "\n",
    "mvsa_multiple_bert_pos = np.concatenate((mvsa_multiple_bert, mvsa_multiple_pos_tfidf), axis=1)\n",
    "mvsa_multiple_bert_pos_ner = np.concatenate((mvsa_multiple_bert, mvsa_multiple_pos_tfidf, mvsa_multiple_ner_tfidf), axis=1)"
   ]
  },
  {
   "cell_type": "code",
   "execution_count": 16,
   "id": "d38331bf",
   "metadata": {
    "execution": {
     "iopub.execute_input": "2022-07-04T18:15:12.521794Z",
     "iopub.status.busy": "2022-07-04T18:15:12.521490Z",
     "iopub.status.idle": "2022-07-04T18:15:12.644421Z",
     "shell.execute_reply": "2022-07-04T18:15:12.643482Z"
    },
    "papermill": {
     "duration": 0.134624,
     "end_time": "2022-07-04T18:15:12.646526",
     "exception": false,
     "start_time": "2022-07-04T18:15:12.511902",
     "status": "completed"
    },
    "tags": []
   },
   "outputs": [],
   "source": [
    "mvsa_single_multimodal_labels, mvsa_single_text_labels, mvsa_single_image_labels = load_labels('../input/mvsa-features/labels/mvsa-single-labels.hdf5')\n",
    "mvsa_multiple_multimodal_labels, mvsa_multiple_text_labels, mvsa_multiple_image_labels = load_labels('../input/mvsa-features/labels/mvsa-multiple-labels.hdf5')"
   ]
  },
  {
   "cell_type": "code",
   "execution_count": 17,
   "id": "03ea2692",
   "metadata": {
    "execution": {
     "iopub.execute_input": "2022-07-04T18:15:12.665304Z",
     "iopub.status.busy": "2022-07-04T18:15:12.664510Z",
     "iopub.status.idle": "2022-07-04T18:15:12.670589Z",
     "shell.execute_reply": "2022-07-04T18:15:12.669691Z"
    },
    "papermill": {
     "duration": 0.017393,
     "end_time": "2022-07-04T18:15:12.672578",
     "exception": false,
     "start_time": "2022-07-04T18:15:12.655185",
     "status": "completed"
    },
    "tags": []
   },
   "outputs": [],
   "source": [
    "# prepare all features data\n",
    "\n",
    "feature_names = ['resnet152-bert', 'resnet152-bert-lstm', 'densenet201-bert-pos-lstm', 'densenet201-bert-pos-ner-lstm']\n",
    "\n",
    "mvsa_single_features = [[mvsa_single_bert, mvsa_single_resnet152],\n",
    "                        [mvsa_single_bert, mvsa_single_resnet152],\n",
    "                        [mvsa_single_bert_pos, mvsa_single_densenet201],\n",
    "                        [mvsa_single_bert_pos_ner, mvsa_single_densenet201]]\n",
    "\n",
    "mvsa_multiple_features = [[mvsa_multiple_bert, mvsa_multiple_resnet152],\n",
    "                          [mvsa_multiple_bert, mvsa_multiple_resnet152],\n",
    "                          [mvsa_multiple_bert_pos, mvsa_multiple_densenet201],\n",
    "                          [mvsa_multiple_bert_pos_ner, mvsa_multiple_densenet201]]"
   ]
  },
  {
   "cell_type": "code",
   "execution_count": 18,
   "id": "a9a0daad",
   "metadata": {
    "execution": {
     "iopub.execute_input": "2022-07-04T18:15:12.690794Z",
     "iopub.status.busy": "2022-07-04T18:15:12.690545Z",
     "iopub.status.idle": "2022-07-04T18:15:12.695948Z",
     "shell.execute_reply": "2022-07-04T18:15:12.695147Z"
    },
    "papermill": {
     "duration": 0.016687,
     "end_time": "2022-07-04T18:15:12.697804",
     "exception": false,
     "start_time": "2022-07-04T18:15:12.681117",
     "status": "completed"
    },
    "tags": []
   },
   "outputs": [],
   "source": [
    "le = preprocessing.LabelEncoder()\n",
    "le.fit(mvsa_single_multimodal_labels)\n",
    "NUM_CLASSES = len(le.classes_) # = 3"
   ]
  },
  {
   "cell_type": "code",
   "execution_count": 19,
   "id": "8de5d89a",
   "metadata": {
    "execution": {
     "iopub.execute_input": "2022-07-04T18:15:12.716411Z",
     "iopub.status.busy": "2022-07-04T18:15:12.714926Z",
     "iopub.status.idle": "2022-07-04T18:15:12.720742Z",
     "shell.execute_reply": "2022-07-04T18:15:12.719954Z"
    },
    "papermill": {
     "duration": 0.01679,
     "end_time": "2022-07-04T18:15:12.722666",
     "exception": false,
     "start_time": "2022-07-04T18:15:12.705876",
     "status": "completed"
    },
    "tags": []
   },
   "outputs": [],
   "source": [
    "reset_seeds()\n",
    "EPOCHS = 3\n",
    "BATCH_SIZE = 128\n",
    "VALIDATION_SPLIT = 0.1\n",
    "EARLY_STOPPING = 10\n",
    "NUM_LSTM = 128\n",
    "DROPOUT_RATE = 0.1"
   ]
  },
  {
   "cell_type": "markdown",
   "id": "9041ca40",
   "metadata": {
    "papermill": {
     "duration": 0.007938,
     "end_time": "2022-07-04T18:15:12.738886",
     "exception": false,
     "start_time": "2022-07-04T18:15:12.730948",
     "status": "completed"
    },
    "tags": []
   },
   "source": [
    "# Intermediate Fusion"
   ]
  },
  {
   "cell_type": "code",
   "execution_count": 20,
   "id": "5a1b722b",
   "metadata": {
    "execution": {
     "iopub.execute_input": "2022-07-04T18:15:12.756806Z",
     "iopub.status.busy": "2022-07-04T18:15:12.756083Z",
     "iopub.status.idle": "2022-07-04T18:15:28.602162Z",
     "shell.execute_reply": "2022-07-04T18:15:28.601134Z"
    },
    "papermill": {
     "duration": 15.857266,
     "end_time": "2022-07-04T18:15:28.604276",
     "exception": false,
     "start_time": "2022-07-04T18:15:12.747010",
     "status": "completed"
    },
    "tags": []
   },
   "outputs": [
    {
     "name": "stdout",
     "output_type": "stream",
     "text": [
      "MVSA-Single with Intermediate Fusion\n",
      "\n",
      "MVSA-Single: resnet152-bert\n"
     ]
    },
    {
     "name": "stderr",
     "output_type": "stream",
     "text": [
      "2022-07-04 18:15:12.932207: I tensorflow/compiler/mlir/mlir_graph_optimization_pass.cc:185] None of the MLIR Optimization Passes are enabled (registered 2)\n"
     ]
    },
    {
     "name": "stdout",
     "output_type": "stream",
     "text": [
      "\n",
      "MVSA-Single: resnet152-bert-lstm\n"
     ]
    },
    {
     "name": "stderr",
     "output_type": "stream",
     "text": [
      "2022-07-04 18:15:18.335171: I tensorflow/stream_executor/cuda/cuda_dnn.cc:369] Loaded cuDNN version 8005\n"
     ]
    },
    {
     "name": "stdout",
     "output_type": "stream",
     "text": [
      "\n",
      "MVSA-Single: densenet201-bert-pos-lstm\n",
      "\n",
      "MVSA-Single: densenet201-bert-pos-ner-lstm\n",
      "\n"
     ]
    }
   ],
   "source": [
    "print('MVSA-Single with Intermediate Fusion\\n')\n",
    "scores = []\n",
    "\n",
    "for i in range(len(feature_names)):\n",
    "    print('MVSA-Single:', feature_names[i])\n",
    "    if 'lstm' in feature_names[i]:\n",
    "        _, score = run_and_evaluate_IF('single-IF-' + feature_names[i], mvsa_single_features[i][0], mvsa_single_features[i][1], \n",
    "                                     mvsa_single_multimodal_labels,\n",
    "                                     verbose=0)\n",
    "    else:\n",
    "        _, score = run_and_evaluate_IF('single-IF-' + feature_names[i], mvsa_single_features[i][0], mvsa_single_features[i][1],\n",
    "                                     mvsa_single_multimodal_labels,\n",
    "                                     verbose=0, lstm=False)\n",
    "    scores.append(score)\n",
    "    print()\n",
    "\n",
    "df_single_scores_IF = pd.DataFrame(scores, columns=['Loss', 'Accuracy', 'F1-macro', 'F1-weighted'], index=feature_names)"
   ]
  },
  {
   "cell_type": "code",
   "execution_count": 21,
   "id": "c6290217",
   "metadata": {
    "execution": {
     "iopub.execute_input": "2022-07-04T18:15:28.623051Z",
     "iopub.status.busy": "2022-07-04T18:15:28.622768Z",
     "iopub.status.idle": "2022-07-04T18:15:47.743677Z",
     "shell.execute_reply": "2022-07-04T18:15:47.742623Z"
    },
    "papermill": {
     "duration": 19.132528,
     "end_time": "2022-07-04T18:15:47.745700",
     "exception": false,
     "start_time": "2022-07-04T18:15:28.613172",
     "status": "completed"
    },
    "tags": []
   },
   "outputs": [
    {
     "name": "stdout",
     "output_type": "stream",
     "text": [
      "MVSA-Multiple with Intermediate Fusion\n",
      "\n",
      "MVSA-Multiple: resnet152-bert\n",
      "\n",
      "MVSA-Multiple: resnet152-bert-lstm\n",
      "\n",
      "MVSA-Multiple: densenet201-bert-pos-lstm\n",
      "\n",
      "MVSA-Multiple: densenet201-bert-pos-ner-lstm\n",
      "\n"
     ]
    }
   ],
   "source": [
    "print('MVSA-Multiple with Intermediate Fusion\\n')\n",
    "scores = []\n",
    "\n",
    "for i in range(len(feature_names)):\n",
    "    print('MVSA-Multiple:', feature_names[i])\n",
    "    if 'lstm' in feature_names[i]:\n",
    "        _, score = run_and_evaluate_IF('multiple-IF-' + feature_names[i], mvsa_multiple_features[i][0], mvsa_multiple_features[i][1], \n",
    "                                     mvsa_multiple_multimodal_labels,\n",
    "                                     verbose=0)\n",
    "    else:\n",
    "        _, score = run_and_evaluate_IF('multiple-IF-' + feature_names[i], mvsa_multiple_features[i][0], mvsa_multiple_features[i][1],\n",
    "                                     mvsa_multiple_multimodal_labels,\n",
    "                                     verbose=0, lstm=False)\n",
    "    scores.append(score)\n",
    "    print()\n",
    "\n",
    "df_multiple_scores_IF = pd.DataFrame(scores, columns=['Loss', 'Accuracy', 'F1-macro', 'F1-weighted'], index=feature_names)"
   ]
  },
  {
   "cell_type": "markdown",
   "id": "0926b6fa",
   "metadata": {
    "papermill": {
     "duration": 0.008792,
     "end_time": "2022-07-04T18:15:47.763551",
     "exception": false,
     "start_time": "2022-07-04T18:15:47.754759",
     "status": "completed"
    },
    "tags": []
   },
   "source": [
    "# Late Fusion"
   ]
  },
  {
   "cell_type": "code",
   "execution_count": 22,
   "id": "ede88de2",
   "metadata": {
    "execution": {
     "iopub.execute_input": "2022-07-04T18:15:47.782513Z",
     "iopub.status.busy": "2022-07-04T18:15:47.782174Z",
     "iopub.status.idle": "2022-07-04T18:16:05.292706Z",
     "shell.execute_reply": "2022-07-04T18:16:05.291527Z"
    },
    "papermill": {
     "duration": 17.523419,
     "end_time": "2022-07-04T18:16:05.295644",
     "exception": false,
     "start_time": "2022-07-04T18:15:47.772225",
     "status": "completed"
    },
    "tags": []
   },
   "outputs": [
    {
     "name": "stdout",
     "output_type": "stream",
     "text": [
      "MVSA-Single with Late Fusion\n",
      "\n",
      "MVSA-Single: resnet152-bert\n",
      "\n",
      "MVSA-Single: resnet152-bert-lstm\n",
      "\n",
      "MVSA-Single: densenet201-bert-pos-lstm\n",
      "\n",
      "MVSA-Single: densenet201-bert-pos-ner-lstm\n",
      "\n"
     ]
    }
   ],
   "source": [
    "print('MVSA-Single with Late Fusion\\n')\n",
    "scores = []\n",
    "\n",
    "for i in range(len(feature_names)):\n",
    "    print('MVSA-Single:', feature_names[i])\n",
    "    if 'lstm' in feature_names[i]:\n",
    "        score = run_and_evaluate_LF('single-LF-' + feature_names[i], mvsa_single_features[i][0], mvsa_single_features[i][1], \n",
    "                                     mvsa_single_multimodal_labels,\n",
    "                                     verbose=0)\n",
    "    else:\n",
    "        score = run_and_evaluate_LF('single-LF-' + feature_names[i], mvsa_single_features[i][0], mvsa_single_features[i][1],\n",
    "                                     mvsa_single_multimodal_labels,\n",
    "                                     verbose=0, lstm=False)\n",
    "    scores.append(score)\n",
    "    print()\n",
    "\n",
    "df_single_scores_LF = pd.DataFrame(scores, columns=['Accuracy', 'F1-macro', 'F1-weighted'], index=feature_names)"
   ]
  },
  {
   "cell_type": "code",
   "execution_count": 23,
   "id": "7f2470c3",
   "metadata": {
    "execution": {
     "iopub.execute_input": "2022-07-04T18:16:05.319148Z",
     "iopub.status.busy": "2022-07-04T18:16:05.318268Z",
     "iopub.status.idle": "2022-07-04T18:16:30.422373Z",
     "shell.execute_reply": "2022-07-04T18:16:30.421458Z"
    },
    "papermill": {
     "duration": 25.118638,
     "end_time": "2022-07-04T18:16:30.425214",
     "exception": false,
     "start_time": "2022-07-04T18:16:05.306576",
     "status": "completed"
    },
    "tags": []
   },
   "outputs": [
    {
     "name": "stdout",
     "output_type": "stream",
     "text": [
      "MVSA-Multiple with Late Fusion\n",
      "\n",
      "MVSA-Multiple: resnet152-bert\n",
      "\n",
      "MVSA-Multiple: resnet152-bert-lstm\n",
      "\n",
      "MVSA-Multiple: densenet201-bert-pos-lstm\n",
      "\n",
      "MVSA-Multiple: densenet201-bert-pos-ner-lstm\n",
      "\n"
     ]
    }
   ],
   "source": [
    "print('MVSA-Multiple with Late Fusion\\n')\n",
    "scores = []\n",
    "\n",
    "for i in range(len(feature_names)):\n",
    "    print('MVSA-Multiple:', feature_names[i])\n",
    "    if 'lstm' in feature_names[i]:\n",
    "        score = run_and_evaluate_LF('multiple-LF-' + feature_names[i], mvsa_multiple_features[i][0], mvsa_multiple_features[i][1], \n",
    "                                     mvsa_multiple_multimodal_labels,\n",
    "                                     verbose=0)\n",
    "    else:\n",
    "        score = run_and_evaluate_LF('multiple-LF-' + feature_names[i], mvsa_multiple_features[i][0], mvsa_multiple_features[i][1],\n",
    "                                     mvsa_multiple_multimodal_labels,\n",
    "                                     verbose=0, lstm=False)\n",
    "    scores.append(score)\n",
    "    print()\n",
    "\n",
    "df_multiple_scores_LF = pd.DataFrame(scores, columns=['Accuracy', 'F1-macro', 'F1-weighted'], index=feature_names)"
   ]
  },
  {
   "cell_type": "markdown",
   "id": "5d2c9bb1",
   "metadata": {
    "papermill": {
     "duration": 0.015744,
     "end_time": "2022-07-04T18:16:30.457416",
     "exception": false,
     "start_time": "2022-07-04T18:16:30.441672",
     "status": "completed"
    },
    "tags": []
   },
   "source": [
    "# Hybrid Fusion"
   ]
  },
  {
   "cell_type": "code",
   "execution_count": 24,
   "id": "0c9a3e9b",
   "metadata": {
    "execution": {
     "iopub.execute_input": "2022-07-04T18:16:30.490772Z",
     "iopub.status.busy": "2022-07-04T18:16:30.490419Z",
     "iopub.status.idle": "2022-07-04T18:17:04.369883Z",
     "shell.execute_reply": "2022-07-04T18:17:04.368864Z"
    },
    "papermill": {
     "duration": 33.908651,
     "end_time": "2022-07-04T18:17:04.382607",
     "exception": false,
     "start_time": "2022-07-04T18:16:30.473956",
     "status": "completed"
    },
    "tags": []
   },
   "outputs": [
    {
     "name": "stdout",
     "output_type": "stream",
     "text": [
      "MVSA-Single with Hybrid Fusion\n",
      "\n",
      "MVSA-Single: resnet152-bert\n",
      "\n",
      "MVSA-Single: resnet152-bert-lstm\n",
      "\n",
      "MVSA-Single: densenet201-bert-pos-lstm\n",
      "\n",
      "MVSA-Single: densenet201-bert-pos-ner-lstm\n",
      "\n"
     ]
    }
   ],
   "source": [
    "print('MVSA-Single with Hybrid Fusion\\n')\n",
    "scores = []\n",
    "\n",
    "for i in range(len(feature_names)):\n",
    "    print('MVSA-Single:', feature_names[i])\n",
    "    if 'lstm' in feature_names[i]:\n",
    "        score = run_and_evaluate_HF('single-HF-' + feature_names[i], mvsa_single_features[i][0], mvsa_single_features[i][1], \n",
    "                                     mvsa_single_multimodal_labels,\n",
    "                                     verbose=0)\n",
    "    else:\n",
    "        score = run_and_evaluate_HF('single-HF-' + feature_names[i], mvsa_single_features[i][0], mvsa_single_features[i][1],\n",
    "                                     mvsa_single_multimodal_labels,\n",
    "                                     verbose=0, lstm=False)\n",
    "    scores.append(score)\n",
    "    print()\n",
    "\n",
    "df_single_scores_HF = pd.DataFrame(scores, columns=['Accuracy', 'F1-macro', 'F1-weighted'], index=feature_names)"
   ]
  },
  {
   "cell_type": "code",
   "execution_count": 25,
   "id": "7fc8d26c",
   "metadata": {
    "execution": {
     "iopub.execute_input": "2022-07-04T18:17:04.405011Z",
     "iopub.status.busy": "2022-07-04T18:17:04.404027Z",
     "iopub.status.idle": "2022-07-04T18:17:53.318477Z",
     "shell.execute_reply": "2022-07-04T18:17:53.316855Z"
    },
    "papermill": {
     "duration": 48.928979,
     "end_time": "2022-07-04T18:17:53.322217",
     "exception": false,
     "start_time": "2022-07-04T18:17:04.393238",
     "status": "completed"
    },
    "tags": []
   },
   "outputs": [
    {
     "name": "stdout",
     "output_type": "stream",
     "text": [
      "MVSA-Multiple with Hybrid Fusion\n",
      "\n",
      "MVSA-Multiple: resnet152-bert\n",
      "\n",
      "MVSA-Multiple: resnet152-bert-lstm\n",
      "\n",
      "MVSA-Multiple: densenet201-bert-pos-lstm\n",
      "\n",
      "MVSA-Multiple: densenet201-bert-pos-ner-lstm\n",
      "\n"
     ]
    }
   ],
   "source": [
    "print('MVSA-Multiple with Hybrid Fusion\\n')\n",
    "scores = []\n",
    "\n",
    "for i in range(len(feature_names)):\n",
    "    print('MVSA-Multiple:', feature_names[i])\n",
    "    if 'lstm' in feature_names[i]:\n",
    "        score = run_and_evaluate_HF('multiple-HF-' + feature_names[i], mvsa_multiple_features[i][0], mvsa_multiple_features[i][1], \n",
    "                                     mvsa_multiple_multimodal_labels,\n",
    "                                     verbose=0)\n",
    "    else:\n",
    "        score = run_and_evaluate_HF('multiple-HF-' + feature_names[i], mvsa_multiple_features[i][0], mvsa_multiple_features[i][1],\n",
    "                                     mvsa_multiple_multimodal_labels,\n",
    "                                     verbose=0, lstm=False)\n",
    "    scores.append(score)\n",
    "    print()\n",
    "\n",
    "df_multiple_scores_HF = pd.DataFrame(scores, columns=['Accuracy', 'F1-macro', 'F1-weighted'], index=feature_names)"
   ]
  },
  {
   "cell_type": "markdown",
   "id": "550c66f1",
   "metadata": {
    "papermill": {
     "duration": 0.016631,
     "end_time": "2022-07-04T18:17:53.356344",
     "exception": false,
     "start_time": "2022-07-04T18:17:53.339713",
     "status": "completed"
    },
    "tags": []
   },
   "source": [
    "# Display results"
   ]
  },
  {
   "cell_type": "code",
   "execution_count": 26,
   "id": "bb0bfebe",
   "metadata": {
    "execution": {
     "iopub.execute_input": "2022-07-04T18:17:53.390371Z",
     "iopub.status.busy": "2022-07-04T18:17:53.389859Z",
     "iopub.status.idle": "2022-07-04T18:17:53.404685Z",
     "shell.execute_reply": "2022-07-04T18:17:53.403757Z"
    },
    "papermill": {
     "duration": 0.034955,
     "end_time": "2022-07-04T18:17:53.407713",
     "exception": false,
     "start_time": "2022-07-04T18:17:53.372758",
     "status": "completed"
    },
    "tags": []
   },
   "outputs": [],
   "source": [
    "df_single_scores_IF = df_single_scores_IF.drop(columns=['Loss'])\n",
    "df_multiple_scores_IF = df_multiple_scores_IF.drop(columns=['Loss'])"
   ]
  },
  {
   "cell_type": "code",
   "execution_count": 27,
   "id": "4d20ad82",
   "metadata": {
    "execution": {
     "iopub.execute_input": "2022-07-04T18:17:53.445350Z",
     "iopub.status.busy": "2022-07-04T18:17:53.444989Z",
     "iopub.status.idle": "2022-07-04T18:17:53.573678Z",
     "shell.execute_reply": "2022-07-04T18:17:53.572632Z"
    },
    "papermill": {
     "duration": 0.150286,
     "end_time": "2022-07-04T18:17:53.576362",
     "exception": false,
     "start_time": "2022-07-04T18:17:53.426076",
     "status": "completed"
    },
    "tags": []
   },
   "outputs": [
    {
     "name": "stdout",
     "output_type": "stream",
     "text": [
      "Intermediate Fusion\n"
     ]
    },
    {
     "data": {
      "text/html": [
       "<table style=\"display:inline\"><tr><td style=\"text-align:center\">MVSA-Single</td><td style=\"text-align:center\">MVSA-Multiple</td></tr><tr><td style=\"vertical-align:top\"> <style type=\"text/css\">\n",
       "#T_bcf0c_row0_col0, #T_bcf0c_row0_col1, #T_bcf0c_row0_col2 {\n",
       "  color: tomato;\n",
       "}\n",
       "#T_bcf0c_row2_col0, #T_bcf0c_row2_col1, #T_bcf0c_row2_col2 {\n",
       "  color: lawngreen;\n",
       "}\n",
       "</style>\n",
       "<table style=\"display:inline\" id=\"T_bcf0c_\">\n",
       "  <thead>\n",
       "    <tr>\n",
       "      <th class=\"blank level0\" >&nbsp;</th>\n",
       "      <th class=\"col_heading level0 col0\" >Accuracy</th>\n",
       "      <th class=\"col_heading level0 col1\" >F1-macro</th>\n",
       "      <th class=\"col_heading level0 col2\" >F1-weighted</th>\n",
       "    </tr>\n",
       "  </thead>\n",
       "  <tbody>\n",
       "    <tr>\n",
       "      <th id=\"T_bcf0c_level0_row0\" class=\"row_heading level0 row0\" >resnet152-bert</th>\n",
       "      <td id=\"T_bcf0c_row0_col0\" class=\"data row0 col0\" >0.600887</td>\n",
       "      <td id=\"T_bcf0c_row0_col1\" class=\"data row0 col1\" >0.250231</td>\n",
       "      <td id=\"T_bcf0c_row0_col2\" class=\"data row0 col2\" >0.452746</td>\n",
       "    </tr>\n",
       "    <tr>\n",
       "      <th id=\"T_bcf0c_level0_row1\" class=\"row_heading level0 row1\" >resnet152-bert-lstm</th>\n",
       "      <td id=\"T_bcf0c_row1_col0\" class=\"data row1 col0\" >0.603104</td>\n",
       "      <td id=\"T_bcf0c_row1_col1\" class=\"data row1 col1\" >0.250807</td>\n",
       "      <td id=\"T_bcf0c_row1_col2\" class=\"data row1 col2\" >0.453788</td>\n",
       "    </tr>\n",
       "    <tr>\n",
       "      <th id=\"T_bcf0c_level0_row2\" class=\"row_heading level0 row2\" >densenet201-bert-pos-lstm</th>\n",
       "      <td id=\"T_bcf0c_row2_col0\" class=\"data row2 col0\" >0.678492</td>\n",
       "      <td id=\"T_bcf0c_row2_col1\" class=\"data row2 col1\" >0.524120</td>\n",
       "      <td id=\"T_bcf0c_row2_col2\" class=\"data row2 col2\" >0.665884</td>\n",
       "    </tr>\n",
       "    <tr>\n",
       "      <th id=\"T_bcf0c_level0_row3\" class=\"row_heading level0 row3\" >densenet201-bert-pos-ner-lstm</th>\n",
       "      <td id=\"T_bcf0c_row3_col0\" class=\"data row3 col0\" >0.634146</td>\n",
       "      <td id=\"T_bcf0c_row3_col1\" class=\"data row3 col1\" >0.489453</td>\n",
       "      <td id=\"T_bcf0c_row3_col2\" class=\"data row3 col2\" >0.638336</td>\n",
       "    </tr>\n",
       "  </tbody>\n",
       "</table style=\"display:inline\">\n",
       "</td><td style=\"vertical-align:top\"> <style type=\"text/css\">\n",
       "#T_0a69d_row1_col0, #T_0a69d_row1_col1, #T_0a69d_row1_col2 {\n",
       "  color: tomato;\n",
       "}\n",
       "#T_0a69d_row3_col0, #T_0a69d_row3_col1, #T_0a69d_row3_col2 {\n",
       "  color: lawngreen;\n",
       "}\n",
       "</style>\n",
       "<table style=\"display:inline\" id=\"T_0a69d_\">\n",
       "  <thead>\n",
       "    <tr>\n",
       "      <th class=\"blank level0\" >&nbsp;</th>\n",
       "      <th class=\"col_heading level0 col0\" >Accuracy</th>\n",
       "      <th class=\"col_heading level0 col1\" >F1-macro</th>\n",
       "      <th class=\"col_heading level0 col2\" >F1-weighted</th>\n",
       "    </tr>\n",
       "  </thead>\n",
       "  <tbody>\n",
       "    <tr>\n",
       "      <th id=\"T_0a69d_level0_row0\" class=\"row_heading level0 row0\" >resnet152-bert</th>\n",
       "      <td id=\"T_0a69d_row0_col0\" class=\"data row0 col0\" >0.639835</td>\n",
       "      <td id=\"T_0a69d_row0_col1\" class=\"data row0 col1\" >0.264760</td>\n",
       "      <td id=\"T_0a69d_row0_col2\" class=\"data row0 col2\" >0.502477</td>\n",
       "    </tr>\n",
       "    <tr>\n",
       "      <th id=\"T_0a69d_level0_row1\" class=\"row_heading level0 row1\" >resnet152-bert-lstm</th>\n",
       "      <td id=\"T_0a69d_row1_col0\" class=\"data row1 col0\" >0.639248</td>\n",
       "      <td id=\"T_0a69d_row1_col1\" class=\"data row1 col1\" >0.259976</td>\n",
       "      <td id=\"T_0a69d_row1_col2\" class=\"data row1 col2\" >0.499026</td>\n",
       "    </tr>\n",
       "    <tr>\n",
       "      <th id=\"T_0a69d_level0_row2\" class=\"row_heading level0 row2\" >densenet201-bert-pos-lstm</th>\n",
       "      <td id=\"T_0a69d_row2_col0\" class=\"data row2 col0\" >0.646886</td>\n",
       "      <td id=\"T_0a69d_row2_col1\" class=\"data row2 col1\" >0.491542</td>\n",
       "      <td id=\"T_0a69d_row2_col2\" class=\"data row2 col2\" >0.626091</td>\n",
       "    </tr>\n",
       "    <tr>\n",
       "      <th id=\"T_0a69d_level0_row3\" class=\"row_heading level0 row3\" >densenet201-bert-pos-ner-lstm</th>\n",
       "      <td id=\"T_0a69d_row3_col0\" class=\"data row3 col0\" >0.650999</td>\n",
       "      <td id=\"T_0a69d_row3_col1\" class=\"data row3 col1\" >0.509096</td>\n",
       "      <td id=\"T_0a69d_row3_col2\" class=\"data row3 col2\" >0.631882</td>\n",
       "    </tr>\n",
       "  </tbody>\n",
       "</table style=\"display:inline\">\n",
       "</td></tr></table style=\"display:inline\">"
      ]
     },
     "metadata": {},
     "output_type": "display_data"
    }
   ],
   "source": [
    "print('Intermediate Fusion')\n",
    "display_dataframes((style_dataframe(df_single_scores_IF), style_dataframe(df_multiple_scores_IF)), \n",
    "                   names=['MVSA-Single', 'MVSA-Multiple'])"
   ]
  },
  {
   "cell_type": "code",
   "execution_count": 28,
   "id": "0670d32d",
   "metadata": {
    "execution": {
     "iopub.execute_input": "2022-07-04T18:17:53.614329Z",
     "iopub.status.busy": "2022-07-04T18:17:53.613943Z",
     "iopub.status.idle": "2022-07-04T18:17:53.653806Z",
     "shell.execute_reply": "2022-07-04T18:17:53.652904Z"
    },
    "papermill": {
     "duration": 0.061207,
     "end_time": "2022-07-04T18:17:53.656544",
     "exception": false,
     "start_time": "2022-07-04T18:17:53.595337",
     "status": "completed"
    },
    "tags": []
   },
   "outputs": [
    {
     "name": "stdout",
     "output_type": "stream",
     "text": [
      "Late Fusion with Multimodal Labels\n"
     ]
    },
    {
     "data": {
      "text/html": [
       "<table style=\"display:inline\"><tr><td style=\"text-align:center\">MVSA-Single</td><td style=\"text-align:center\">MVSA-Multiple</td></tr><tr><td style=\"vertical-align:top\"> <style type=\"text/css\">\n",
       "#T_baaea_row0_col0, #T_baaea_row0_col1, #T_baaea_row0_col2 {\n",
       "  color: tomato;\n",
       "}\n",
       "#T_baaea_row2_col0, #T_baaea_row2_col1, #T_baaea_row2_col2 {\n",
       "  color: lawngreen;\n",
       "}\n",
       "</style>\n",
       "<table style=\"display:inline\" id=\"T_baaea_\">\n",
       "  <thead>\n",
       "    <tr>\n",
       "      <th class=\"blank level0\" >&nbsp;</th>\n",
       "      <th class=\"col_heading level0 col0\" >Accuracy</th>\n",
       "      <th class=\"col_heading level0 col1\" >F1-macro</th>\n",
       "      <th class=\"col_heading level0 col2\" >F1-weighted</th>\n",
       "    </tr>\n",
       "  </thead>\n",
       "  <tbody>\n",
       "    <tr>\n",
       "      <th id=\"T_baaea_level0_row0\" class=\"row_heading level0 row0\" >resnet152-bert</th>\n",
       "      <td id=\"T_baaea_row0_col0\" class=\"data row0 col0\" >0.627494</td>\n",
       "      <td id=\"T_baaea_row0_col1\" class=\"data row0 col1\" >0.305519</td>\n",
       "      <td id=\"T_baaea_row0_col2\" class=\"data row0 col2\" >0.512528</td>\n",
       "    </tr>\n",
       "    <tr>\n",
       "      <th id=\"T_baaea_level0_row1\" class=\"row_heading level0 row1\" >resnet152-bert-lstm</th>\n",
       "      <td id=\"T_baaea_row1_col0\" class=\"data row1 col0\" >0.662971</td>\n",
       "      <td id=\"T_baaea_row1_col1\" class=\"data row1 col1\" >0.380660</td>\n",
       "      <td id=\"T_baaea_row1_col2\" class=\"data row1 col2\" >0.593357</td>\n",
       "    </tr>\n",
       "    <tr>\n",
       "      <th id=\"T_baaea_level0_row2\" class=\"row_heading level0 row2\" >densenet201-bert-pos-lstm</th>\n",
       "      <td id=\"T_baaea_row2_col0\" class=\"data row2 col0\" >0.687361</td>\n",
       "      <td id=\"T_baaea_row2_col1\" class=\"data row2 col1\" >0.471109</td>\n",
       "      <td id=\"T_baaea_row2_col2\" class=\"data row2 col2\" >0.638945</td>\n",
       "    </tr>\n",
       "    <tr>\n",
       "      <th id=\"T_baaea_level0_row3\" class=\"row_heading level0 row3\" >densenet201-bert-pos-ner-lstm</th>\n",
       "      <td id=\"T_baaea_row3_col0\" class=\"data row3 col0\" >0.674058</td>\n",
       "      <td id=\"T_baaea_row3_col1\" class=\"data row3 col1\" >0.440649</td>\n",
       "      <td id=\"T_baaea_row3_col2\" class=\"data row3 col2\" >0.624326</td>\n",
       "    </tr>\n",
       "  </tbody>\n",
       "</table style=\"display:inline\">\n",
       "</td><td style=\"vertical-align:top\"> <style type=\"text/css\">\n",
       "#T_02990_row0_col0, #T_02990_row0_col1, #T_02990_row0_col2 {\n",
       "  color: tomato;\n",
       "}\n",
       "#T_02990_row2_col0, #T_02990_row2_col1, #T_02990_row2_col2 {\n",
       "  color: lawngreen;\n",
       "}\n",
       "</style>\n",
       "<table style=\"display:inline\" id=\"T_02990_\">\n",
       "  <thead>\n",
       "    <tr>\n",
       "      <th class=\"blank level0\" >&nbsp;</th>\n",
       "      <th class=\"col_heading level0 col0\" >Accuracy</th>\n",
       "      <th class=\"col_heading level0 col1\" >F1-macro</th>\n",
       "      <th class=\"col_heading level0 col2\" >F1-weighted</th>\n",
       "    </tr>\n",
       "  </thead>\n",
       "  <tbody>\n",
       "    <tr>\n",
       "      <th id=\"T_02990_level0_row0\" class=\"row_heading level0 row0\" >resnet152-bert</th>\n",
       "      <td id=\"T_02990_row0_col0\" class=\"data row0 col0\" >0.641598</td>\n",
       "      <td id=\"T_02990_row0_col1\" class=\"data row0 col1\" >0.269862</td>\n",
       "      <td id=\"T_02990_row0_col2\" class=\"data row0 col2\" >0.506620</td>\n",
       "    </tr>\n",
       "    <tr>\n",
       "      <th id=\"T_02990_level0_row1\" class=\"row_heading level0 row1\" >resnet152-bert-lstm</th>\n",
       "      <td id=\"T_02990_row1_col0\" class=\"data row1 col0\" >0.642186</td>\n",
       "      <td id=\"T_02990_row1_col1\" class=\"data row1 col1\" >0.271423</td>\n",
       "      <td id=\"T_02990_row1_col2\" class=\"data row1 col2\" >0.507751</td>\n",
       "    </tr>\n",
       "    <tr>\n",
       "      <th id=\"T_02990_level0_row2\" class=\"row_heading level0 row2\" >densenet201-bert-pos-lstm</th>\n",
       "      <td id=\"T_02990_row2_col0\" class=\"data row2 col0\" >0.649824</td>\n",
       "      <td id=\"T_02990_row2_col1\" class=\"data row2 col1\" >0.329527</td>\n",
       "      <td id=\"T_02990_row2_col2\" class=\"data row2 col2\" >0.544044</td>\n",
       "    </tr>\n",
       "    <tr>\n",
       "      <th id=\"T_02990_level0_row3\" class=\"row_heading level0 row3\" >densenet201-bert-pos-ner-lstm</th>\n",
       "      <td id=\"T_02990_row3_col0\" class=\"data row3 col0\" >0.648061</td>\n",
       "      <td id=\"T_02990_row3_col1\" class=\"data row3 col1\" >0.325795</td>\n",
       "      <td id=\"T_02990_row3_col2\" class=\"data row3 col2\" >0.541341</td>\n",
       "    </tr>\n",
       "  </tbody>\n",
       "</table style=\"display:inline\">\n",
       "</td></tr></table style=\"display:inline\">"
      ]
     },
     "metadata": {},
     "output_type": "display_data"
    }
   ],
   "source": [
    "print('Late Fusion with Multimodal Labels')\n",
    "display_dataframes((style_dataframe(df_single_scores_LF), style_dataframe(df_multiple_scores_LF)), \n",
    "                   names=['MVSA-Single', 'MVSA-Multiple'])"
   ]
  },
  {
   "cell_type": "code",
   "execution_count": 29,
   "id": "ab30c9f6",
   "metadata": {
    "execution": {
     "iopub.execute_input": "2022-07-04T18:17:53.693175Z",
     "iopub.status.busy": "2022-07-04T18:17:53.692836Z",
     "iopub.status.idle": "2022-07-04T18:17:53.730304Z",
     "shell.execute_reply": "2022-07-04T18:17:53.728935Z"
    },
    "papermill": {
     "duration": 0.058298,
     "end_time": "2022-07-04T18:17:53.733580",
     "exception": false,
     "start_time": "2022-07-04T18:17:53.675282",
     "status": "completed"
    },
    "tags": []
   },
   "outputs": [
    {
     "name": "stdout",
     "output_type": "stream",
     "text": [
      "Hybrid Fusion with Multimodal Labels\n"
     ]
    },
    {
     "data": {
      "text/html": [
       "<table style=\"display:inline\"><tr><td style=\"text-align:center\">MVSA-Single</td><td style=\"text-align:center\">MVSA-Multiple</td></tr><tr><td style=\"vertical-align:top\"> <style type=\"text/css\">\n",
       "#T_6e0ae_row1_col0, #T_6e0ae_row1_col1, #T_6e0ae_row1_col2 {\n",
       "  color: tomato;\n",
       "}\n",
       "#T_6e0ae_row3_col0, #T_6e0ae_row3_col1, #T_6e0ae_row3_col2 {\n",
       "  color: lawngreen;\n",
       "}\n",
       "</style>\n",
       "<table style=\"display:inline\" id=\"T_6e0ae_\">\n",
       "  <thead>\n",
       "    <tr>\n",
       "      <th class=\"blank level0\" >&nbsp;</th>\n",
       "      <th class=\"col_heading level0 col0\" >Accuracy</th>\n",
       "      <th class=\"col_heading level0 col1\" >F1-macro</th>\n",
       "      <th class=\"col_heading level0 col2\" >F1-weighted</th>\n",
       "    </tr>\n",
       "  </thead>\n",
       "  <tbody>\n",
       "    <tr>\n",
       "      <th id=\"T_6e0ae_level0_row0\" class=\"row_heading level0 row0\" >resnet152-bert</th>\n",
       "      <td id=\"T_6e0ae_row0_col0\" class=\"data row0 col0\" >0.629712</td>\n",
       "      <td id=\"T_6e0ae_row0_col1\" class=\"data row0 col1\" >0.312513</td>\n",
       "      <td id=\"T_6e0ae_row0_col2\" class=\"data row0 col2\" >0.519799</td>\n",
       "    </tr>\n",
       "    <tr>\n",
       "      <th id=\"T_6e0ae_level0_row1\" class=\"row_heading level0 row1\" >resnet152-bert-lstm</th>\n",
       "      <td id=\"T_6e0ae_row1_col0\" class=\"data row1 col0\" >0.618625</td>\n",
       "      <td id=\"T_6e0ae_row1_col1\" class=\"data row1 col1\" >0.289173</td>\n",
       "      <td id=\"T_6e0ae_row1_col2\" class=\"data row1 col2\" >0.494661</td>\n",
       "    </tr>\n",
       "    <tr>\n",
       "      <th id=\"T_6e0ae_level0_row2\" class=\"row_heading level0 row2\" >densenet201-bert-pos-lstm</th>\n",
       "      <td id=\"T_6e0ae_row2_col0\" class=\"data row2 col0\" >0.682927</td>\n",
       "      <td id=\"T_6e0ae_row2_col1\" class=\"data row2 col1\" >0.492989</td>\n",
       "      <td id=\"T_6e0ae_row2_col2\" class=\"data row2 col2\" >0.654127</td>\n",
       "    </tr>\n",
       "    <tr>\n",
       "      <th id=\"T_6e0ae_level0_row3\" class=\"row_heading level0 row3\" >densenet201-bert-pos-ner-lstm</th>\n",
       "      <td id=\"T_6e0ae_row3_col0\" class=\"data row3 col0\" >0.694013</td>\n",
       "      <td id=\"T_6e0ae_row3_col1\" class=\"data row3 col1\" >0.493513</td>\n",
       "      <td id=\"T_6e0ae_row3_col2\" class=\"data row3 col2\" >0.665503</td>\n",
       "    </tr>\n",
       "  </tbody>\n",
       "</table style=\"display:inline\">\n",
       "</td><td style=\"vertical-align:top\"> <style type=\"text/css\">\n",
       "#T_2c432_row0_col0, #T_2c432_row0_col1, #T_2c432_row0_col2, #T_2c432_row1_col0, #T_2c432_row1_col1, #T_2c432_row1_col2 {\n",
       "  color: tomato;\n",
       "}\n",
       "#T_2c432_row2_col0, #T_2c432_row2_col1, #T_2c432_row2_col2, #T_2c432_row3_col0 {\n",
       "  color: lawngreen;\n",
       "}\n",
       "</style>\n",
       "<table style=\"display:inline\" id=\"T_2c432_\">\n",
       "  <thead>\n",
       "    <tr>\n",
       "      <th class=\"blank level0\" >&nbsp;</th>\n",
       "      <th class=\"col_heading level0 col0\" >Accuracy</th>\n",
       "      <th class=\"col_heading level0 col1\" >F1-macro</th>\n",
       "      <th class=\"col_heading level0 col2\" >F1-weighted</th>\n",
       "    </tr>\n",
       "  </thead>\n",
       "  <tbody>\n",
       "    <tr>\n",
       "      <th id=\"T_2c432_level0_row0\" class=\"row_heading level0 row0\" >resnet152-bert</th>\n",
       "      <td id=\"T_2c432_row0_col0\" class=\"data row0 col0\" >0.640423</td>\n",
       "      <td id=\"T_2c432_row0_col1\" class=\"data row0 col1\" >0.261833</td>\n",
       "      <td id=\"T_2c432_row0_col2\" class=\"data row0 col2\" >0.500657</td>\n",
       "    </tr>\n",
       "    <tr>\n",
       "      <th id=\"T_2c432_level0_row1\" class=\"row_heading level0 row1\" >resnet152-bert-lstm</th>\n",
       "      <td id=\"T_2c432_row1_col0\" class=\"data row1 col0\" >0.640423</td>\n",
       "      <td id=\"T_2c432_row1_col1\" class=\"data row1 col1\" >0.261833</td>\n",
       "      <td id=\"T_2c432_row1_col2\" class=\"data row1 col2\" >0.500657</td>\n",
       "    </tr>\n",
       "    <tr>\n",
       "      <th id=\"T_2c432_level0_row2\" class=\"row_heading level0 row2\" >densenet201-bert-pos-lstm</th>\n",
       "      <td id=\"T_2c432_row2_col0\" class=\"data row2 col0\" >0.661575</td>\n",
       "      <td id=\"T_2c432_row2_col1\" class=\"data row2 col1\" >0.436831</td>\n",
       "      <td id=\"T_2c432_row2_col2\" class=\"data row2 col2\" >0.603031</td>\n",
       "    </tr>\n",
       "    <tr>\n",
       "      <th id=\"T_2c432_level0_row3\" class=\"row_heading level0 row3\" >densenet201-bert-pos-ner-lstm</th>\n",
       "      <td id=\"T_2c432_row3_col0\" class=\"data row3 col0\" >0.661575</td>\n",
       "      <td id=\"T_2c432_row3_col1\" class=\"data row3 col1\" >0.414304</td>\n",
       "      <td id=\"T_2c432_row3_col2\" class=\"data row3 col2\" >0.590834</td>\n",
       "    </tr>\n",
       "  </tbody>\n",
       "</table style=\"display:inline\">\n",
       "</td></tr></table style=\"display:inline\">"
      ]
     },
     "metadata": {},
     "output_type": "display_data"
    }
   ],
   "source": [
    "print('Hybrid Fusion with Multimodal Labels')\n",
    "display_dataframes((style_dataframe(df_single_scores_HF), style_dataframe(df_multiple_scores_HF)), \n",
    "                   names=['MVSA-Single', 'MVSA-Multiple'])"
   ]
  },
  {
   "cell_type": "code",
   "execution_count": 30,
   "id": "e08b9ef7",
   "metadata": {
    "execution": {
     "iopub.execute_input": "2022-07-04T18:17:53.756777Z",
     "iopub.status.busy": "2022-07-04T18:17:53.756503Z",
     "iopub.status.idle": "2022-07-04T18:17:53.765002Z",
     "shell.execute_reply": "2022-07-04T18:17:53.763949Z"
    },
    "papermill": {
     "duration": 0.022296,
     "end_time": "2022-07-04T18:17:53.766893",
     "exception": false,
     "start_time": "2022-07-04T18:17:53.744597",
     "status": "completed"
    },
    "tags": []
   },
   "outputs": [],
   "source": [
    "# get max values of late and intermediate fusion\n",
    "df_single_higher_fusion = pd.DataFrame(np.where(df_single_scores_LF.gt(df_single_scores_IF.values), df_single_scores_LF.values, df_single_scores_IF.values),\n",
    "                 columns=['Accuracy','F1-macro','F1-weighted'], index=feature_names)\n",
    "\n",
    "df_multiple_higher_fusion = pd.DataFrame(np.where(df_single_scores_LF.gt(df_single_scores_IF.values), df_multiple_scores_LF.values, df_multiple_scores_IF.values),\n",
    "                 columns=['Accuracy','F1-macro','F1-weighted'], index=feature_names)\n",
    "\n",
    "df_single_subtract = df_single_scores_HF.subtract(df_single_higher_fusion)\n",
    "df_multiple_subtract = df_multiple_scores_HF.subtract(df_multiple_higher_fusion)"
   ]
  },
  {
   "cell_type": "code",
   "execution_count": 31,
   "id": "9845a911",
   "metadata": {
    "execution": {
     "iopub.execute_input": "2022-07-04T18:17:53.790795Z",
     "iopub.status.busy": "2022-07-04T18:17:53.789180Z",
     "iopub.status.idle": "2022-07-04T18:17:53.816435Z",
     "shell.execute_reply": "2022-07-04T18:17:53.815537Z"
    },
    "papermill": {
     "duration": 0.040758,
     "end_time": "2022-07-04T18:17:53.818354",
     "exception": false,
     "start_time": "2022-07-04T18:17:53.777596",
     "status": "completed"
    },
    "tags": []
   },
   "outputs": [
    {
     "name": "stdout",
     "output_type": "stream",
     "text": [
      "Compare Hybrid Fusion scores up\n"
     ]
    },
    {
     "data": {
      "text/html": [
       "<table style=\"display:inline\"><tr><td style=\"text-align:center\">MVSA-Single</td><td style=\"text-align:center\">MVSA-Multiple</td></tr><tr><td style=\"vertical-align:top\"> <style type=\"text/css\">\n",
       "#T_d4665_row0_col1, #T_d4665_row3_col0, #T_d4665_row3_col2 {\n",
       "  color: lawngreen;\n",
       "}\n",
       "#T_d4665_row1_col0, #T_d4665_row1_col1, #T_d4665_row1_col2 {\n",
       "  color: tomato;\n",
       "}\n",
       "</style>\n",
       "<table style=\"display:inline\" id=\"T_d4665_\">\n",
       "  <thead>\n",
       "    <tr>\n",
       "      <th class=\"blank level0\" >&nbsp;</th>\n",
       "      <th class=\"col_heading level0 col0\" >Accuracy</th>\n",
       "      <th class=\"col_heading level0 col1\" >F1-macro</th>\n",
       "      <th class=\"col_heading level0 col2\" >F1-weighted</th>\n",
       "    </tr>\n",
       "  </thead>\n",
       "  <tbody>\n",
       "    <tr>\n",
       "      <th id=\"T_d4665_level0_row0\" class=\"row_heading level0 row0\" >resnet152-bert</th>\n",
       "      <td id=\"T_d4665_row0_col0\" class=\"data row0 col0\" >0.002217</td>\n",
       "      <td id=\"T_d4665_row0_col1\" class=\"data row0 col1\" >0.006994</td>\n",
       "      <td id=\"T_d4665_row0_col2\" class=\"data row0 col2\" >0.007271</td>\n",
       "    </tr>\n",
       "    <tr>\n",
       "      <th id=\"T_d4665_level0_row1\" class=\"row_heading level0 row1\" >resnet152-bert-lstm</th>\n",
       "      <td id=\"T_d4665_row1_col0\" class=\"data row1 col0\" >-0.044346</td>\n",
       "      <td id=\"T_d4665_row1_col1\" class=\"data row1 col1\" >-0.091487</td>\n",
       "      <td id=\"T_d4665_row1_col2\" class=\"data row1 col2\" >-0.098696</td>\n",
       "    </tr>\n",
       "    <tr>\n",
       "      <th id=\"T_d4665_level0_row2\" class=\"row_heading level0 row2\" >densenet201-bert-pos-lstm</th>\n",
       "      <td id=\"T_d4665_row2_col0\" class=\"data row2 col0\" >-0.004435</td>\n",
       "      <td id=\"T_d4665_row2_col1\" class=\"data row2 col1\" >-0.031131</td>\n",
       "      <td id=\"T_d4665_row2_col2\" class=\"data row2 col2\" >-0.011758</td>\n",
       "    </tr>\n",
       "    <tr>\n",
       "      <th id=\"T_d4665_level0_row3\" class=\"row_heading level0 row3\" >densenet201-bert-pos-ner-lstm</th>\n",
       "      <td id=\"T_d4665_row3_col0\" class=\"data row3 col0\" >0.019956</td>\n",
       "      <td id=\"T_d4665_row3_col1\" class=\"data row3 col1\" >0.004061</td>\n",
       "      <td id=\"T_d4665_row3_col2\" class=\"data row3 col2\" >0.027167</td>\n",
       "    </tr>\n",
       "  </tbody>\n",
       "</table style=\"display:inline\">\n",
       "</td><td style=\"vertical-align:top\"> <style type=\"text/css\">\n",
       "#T_af28d_row0_col1, #T_af28d_row0_col2, #T_af28d_row3_col0 {\n",
       "  color: lawngreen;\n",
       "}\n",
       "#T_af28d_row1_col0, #T_af28d_row3_col1, #T_af28d_row3_col2 {\n",
       "  color: tomato;\n",
       "}\n",
       "</style>\n",
       "<table style=\"display:inline\" id=\"T_af28d_\">\n",
       "  <thead>\n",
       "    <tr>\n",
       "      <th class=\"blank level0\" >&nbsp;</th>\n",
       "      <th class=\"col_heading level0 col0\" >Accuracy</th>\n",
       "      <th class=\"col_heading level0 col1\" >F1-macro</th>\n",
       "      <th class=\"col_heading level0 col2\" >F1-weighted</th>\n",
       "    </tr>\n",
       "  </thead>\n",
       "  <tbody>\n",
       "    <tr>\n",
       "      <th id=\"T_af28d_level0_row0\" class=\"row_heading level0 row0\" >resnet152-bert</th>\n",
       "      <td id=\"T_af28d_row0_col0\" class=\"data row0 col0\" >-0.001175</td>\n",
       "      <td id=\"T_af28d_row0_col1\" class=\"data row0 col1\" >-0.008029</td>\n",
       "      <td id=\"T_af28d_row0_col2\" class=\"data row0 col2\" >-0.005963</td>\n",
       "    </tr>\n",
       "    <tr>\n",
       "      <th id=\"T_af28d_level0_row1\" class=\"row_heading level0 row1\" >resnet152-bert-lstm</th>\n",
       "      <td id=\"T_af28d_row1_col0\" class=\"data row1 col0\" >-0.001763</td>\n",
       "      <td id=\"T_af28d_row1_col1\" class=\"data row1 col1\" >-0.009590</td>\n",
       "      <td id=\"T_af28d_row1_col2\" class=\"data row1 col2\" >-0.007094</td>\n",
       "    </tr>\n",
       "    <tr>\n",
       "      <th id=\"T_af28d_level0_row2\" class=\"row_heading level0 row2\" >densenet201-bert-pos-lstm</th>\n",
       "      <td id=\"T_af28d_row2_col0\" class=\"data row2 col0\" >0.011751</td>\n",
       "      <td id=\"T_af28d_row2_col1\" class=\"data row2 col1\" >-0.054712</td>\n",
       "      <td id=\"T_af28d_row2_col2\" class=\"data row2 col2\" >-0.023060</td>\n",
       "    </tr>\n",
       "    <tr>\n",
       "      <th id=\"T_af28d_level0_row3\" class=\"row_heading level0 row3\" >densenet201-bert-pos-ner-lstm</th>\n",
       "      <td id=\"T_af28d_row3_col0\" class=\"data row3 col0\" >0.013514</td>\n",
       "      <td id=\"T_af28d_row3_col1\" class=\"data row3 col1\" >-0.094792</td>\n",
       "      <td id=\"T_af28d_row3_col2\" class=\"data row3 col2\" >-0.041048</td>\n",
       "    </tr>\n",
       "  </tbody>\n",
       "</table style=\"display:inline\">\n",
       "</td></tr></table style=\"display:inline\">"
      ]
     },
     "metadata": {},
     "output_type": "display_data"
    }
   ],
   "source": [
    "print('Compare Hybrid Fusion scores up')\n",
    "display_dataframes((style_dataframe(df_single_subtract), style_dataframe(df_multiple_subtract)), \n",
    "                   names=['MVSA-Single', 'MVSA-Multiple'])"
   ]
  }
 ],
 "metadata": {
  "kernelspec": {
   "display_name": "Python 3",
   "language": "python",
   "name": "python3"
  },
  "language_info": {
   "codemirror_mode": {
    "name": "ipython",
    "version": 3
   },
   "file_extension": ".py",
   "mimetype": "text/x-python",
   "name": "python",
   "nbconvert_exporter": "python",
   "pygments_lexer": "ipython3",
   "version": "3.7.12"
  },
  "papermill": {
   "default_parameters": {},
   "duration": 200.376626,
   "end_time": "2022-07-04T18:17:56.697788",
   "environment_variables": {},
   "exception": null,
   "input_path": "__notebook__.ipynb",
   "output_path": "__notebook__.ipynb",
   "parameters": {},
   "start_time": "2022-07-04T18:14:36.321162",
   "version": "2.3.4"
  }
 },
 "nbformat": 4,
 "nbformat_minor": 5
}
