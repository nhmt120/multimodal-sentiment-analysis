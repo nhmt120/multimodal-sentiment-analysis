{
 "cells": [
  {
   "cell_type": "code",
   "execution_count": 1,
   "id": "a27aa0f7",
   "metadata": {
    "_cell_guid": "b1076dfc-b9ad-4769-8c92-a6c4dae69d19",
    "_uuid": "8f2839f25d086af736a60e9eeb907d3b93b6e0e5",
    "execution": {
     "iopub.execute_input": "2022-07-13T17:46:08.081749Z",
     "iopub.status.busy": "2022-07-13T17:46:08.081241Z",
     "iopub.status.idle": "2022-07-13T17:46:18.164983Z",
     "shell.execute_reply": "2022-07-13T17:46:18.163973Z"
    },
    "papermill": {
     "duration": 10.097865,
     "end_time": "2022-07-13T17:46:18.167614",
     "exception": false,
     "start_time": "2022-07-13T17:46:08.069749",
     "status": "completed"
    },
    "tags": []
   },
   "outputs": [],
   "source": [
    "SEED = 61\n",
    "\n",
    "import os\n",
    "import re\n",
    "import gc\n",
    "import h5py\n",
    "import torch\n",
    "import numpy as np\n",
    "import pandas as pd\n",
    "import tensorflow as tf\n",
    "import random as python_random\n",
    "import tensorflow_addons as tfa\n",
    "import matplotlib.pyplot as plt\n",
    "\n",
    "from tqdm import tqdm\n",
    "from nltk import tokenize\n",
    "from IPython.display import display_html\n",
    "from imblearn.over_sampling import SMOTE\n",
    "from imblearn.over_sampling import BorderlineSMOTE\n",
    "from transformers import BertTokenizer, BertForMaskedLM, BertModel\n",
    "from tensorflow.python.keras.layers import Layer, InputSpec, Lambda\n",
    "\n",
    "from sklearn import preprocessing\n",
    "from sklearn.decomposition import PCA\n",
    "from sklearn.model_selection import RepeatedKFold, KFold\n",
    "from sklearn.model_selection import cross_val_score\n",
    "from sklearn.metrics import f1_score, accuracy_score, confusion_matrix, ConfusionMatrixDisplay, classification_report\n",
    "\n",
    "from keras import backend as K\n",
    "from keras import initializers,regularizers,constraints\n",
    "from keras.preprocessing.text import Tokenizer, text_to_word_sequence\n",
    "from keras.preprocessing.sequence import pad_sequences\n",
    "from keras.utils.np_utils import to_categorical\n",
    "from keras.layers import Reshape, Input, Embedding, Flatten, Dense, Dropout, BatchNormalization, Activation #, merge\n",
    "from keras.layers import TimeDistributed, LSTM, GRU, Bidirectional, Convolution1D, MaxPooling1D, MaxPooling2D\n",
    "from keras.layers.core import RepeatVector #, Reshape\n",
    "from keras.callbacks import ModelCheckpoint, EarlyStopping, ReduceLROnPlateau\n",
    "from keras.models import Sequential, Model, load_model\n",
    "\n",
    "def reset_seeds():\n",
    "    np.random.seed(SEED) \n",
    "    python_random.seed(SEED)\n",
    "    tf.random.set_seed(SEED)\n",
    "    os.environ[\"PYTHONHASHSEED\"] = str(SEED)\n",
    "\n",
    "# from tensorflow.keras import Model\n",
    "# from attention import Attention_input1, Attention_input2\n",
    "# from keras.optimizers import SGD, RMSprop, Adagrad"
   ]
  },
  {
   "cell_type": "code",
   "execution_count": 2,
   "id": "f495d651",
   "metadata": {
    "execution": {
     "iopub.execute_input": "2022-07-13T17:46:18.188106Z",
     "iopub.status.busy": "2022-07-13T17:46:18.187510Z",
     "iopub.status.idle": "2022-07-13T17:46:18.192197Z",
     "shell.execute_reply": "2022-07-13T17:46:18.191242Z"
    },
    "papermill": {
     "duration": 0.017167,
     "end_time": "2022-07-13T17:46:18.194406",
     "exception": false,
     "start_time": "2022-07-13T17:46:18.177239",
     "status": "completed"
    },
    "tags": []
   },
   "outputs": [],
   "source": [
    "NUM_CLASSES = 3"
   ]
  },
  {
   "cell_type": "code",
   "execution_count": 3,
   "id": "205c0102",
   "metadata": {
    "execution": {
     "iopub.execute_input": "2022-07-13T17:46:18.212757Z",
     "iopub.status.busy": "2022-07-13T17:46:18.212482Z",
     "iopub.status.idle": "2022-07-13T17:46:18.219347Z",
     "shell.execute_reply": "2022-07-13T17:46:18.218279Z"
    },
    "papermill": {
     "duration": 0.018355,
     "end_time": "2022-07-13T17:46:18.221538",
     "exception": false,
     "start_time": "2022-07-13T17:46:18.203183",
     "status": "completed"
    },
    "tags": []
   },
   "outputs": [],
   "source": [
    "def read_hdf5(path):\n",
    "    read_file = h5py.File(path, 'r')\n",
    "    \n",
    "    feature_names = list(read_file.keys())\n",
    "    loaded_data = []\n",
    "    \n",
    "    for name in feature_names:\n",
    "        dataset = read_file[name][:]\n",
    "        if dataset.dtype == np.dtype('object'):\n",
    "            dataset = np.array([x.decode('UTF-8') for x in dataset])            \n",
    "        loaded_data.append((name, dataset))\n",
    "\n",
    "    return loaded_data\n",
    "\n",
    "def loadz(path):\n",
    "    data = np.load(path)['arr_0']\n",
    "    return data"
   ]
  },
  {
   "cell_type": "code",
   "execution_count": 4,
   "id": "83cf56be",
   "metadata": {
    "execution": {
     "iopub.execute_input": "2022-07-13T17:46:18.243866Z",
     "iopub.status.busy": "2022-07-13T17:46:18.242936Z",
     "iopub.status.idle": "2022-07-13T17:46:18.253375Z",
     "shell.execute_reply": "2022-07-13T17:46:18.252354Z"
    },
    "papermill": {
     "duration": 0.023611,
     "end_time": "2022-07-13T17:46:18.255626",
     "exception": false,
     "start_time": "2022-07-13T17:46:18.232015",
     "status": "completed"
    },
    "tags": []
   },
   "outputs": [],
   "source": [
    "def load_labels(path):\n",
    "    data = read_hdf5(path)\n",
    "\n",
    "    for x in data:\n",
    "        if x[0] == 'multimodal-labels':\n",
    "            labels = x[1]\n",
    "        if x[0] == 'text-labels':\n",
    "            text_labels = x[1]\n",
    "        if x[0] == 'image-labels':\n",
    "            image_labels = x[1]\n",
    "        \n",
    "    return labels, text_labels, image_labels\n",
    "\n",
    "def merge_mvsa(mvsa_single, mvsa_multiple):\n",
    "    mvsa = np.concatenate((mvsa_single, mvsa_multiple), axis=0)\n",
    "    return mvsa\n",
    "\n",
    "def load_mvsa_feature(feature_name, merge=False):\n",
    "    folder_path = os.path.join('../input/mvsa-features/', feature_name)\n",
    "    single_file = 'mvsa-single-{}.npz'.format(feature_name)\n",
    "    multiple_file = 'mvsa-multiple-{}.npz'.format(feature_name)\n",
    "    mvsa_single = loadz(os.path.join(folder_path, single_file))\n",
    "    mvsa_multiple = loadz(os.path.join(folder_path, multiple_file))\n",
    "    \n",
    "    if merge == True:\n",
    "        return merge_mvsa(mvsa_single, mvsa_multiple)\n",
    "    \n",
    "    return mvsa_single, mvsa_multiple"
   ]
  },
  {
   "cell_type": "code",
   "execution_count": 5,
   "id": "da98ac0d",
   "metadata": {
    "execution": {
     "iopub.execute_input": "2022-07-13T17:46:18.277131Z",
     "iopub.status.busy": "2022-07-13T17:46:18.275217Z",
     "iopub.status.idle": "2022-07-13T17:46:18.282702Z",
     "shell.execute_reply": "2022-07-13T17:46:18.281926Z"
    },
    "papermill": {
     "duration": 0.019909,
     "end_time": "2022-07-13T17:46:18.284919",
     "exception": false,
     "start_time": "2022-07-13T17:46:18.265010",
     "status": "completed"
    },
    "tags": []
   },
   "outputs": [],
   "source": [
    "# e.g. validation_split=0.1 -----> 8:1:1 ratio of train, val, test\n",
    "def split_data(data, validation_split):\n",
    "    num_val = int(validation_split * data.shape[0])\n",
    "    data_train = data[:-(num_val*2)]\n",
    "    data_val = data[-(num_val*2):-(num_val)]\n",
    "    data_test = data[-num_val:]\n",
    "    return data_train, data_val, data_test"
   ]
  },
  {
   "cell_type": "code",
   "execution_count": 6,
   "id": "4c559b6c",
   "metadata": {
    "execution": {
     "iopub.execute_input": "2022-07-13T17:46:18.303585Z",
     "iopub.status.busy": "2022-07-13T17:46:18.303280Z",
     "iopub.status.idle": "2022-07-13T17:46:18.314576Z",
     "shell.execute_reply": "2022-07-13T17:46:18.313468Z"
    },
    "papermill": {
     "duration": 0.023809,
     "end_time": "2022-07-13T17:46:18.317270",
     "exception": false,
     "start_time": "2022-07-13T17:46:18.293461",
     "status": "completed"
    },
    "tags": []
   },
   "outputs": [],
   "source": [
    "def weighted_average(weights, probs):\n",
    "    ''' Calculate the weighted average probability distribution from all input probs and its weights \n",
    "    weights: weights list (or array)\n",
    "    probs: probability distributions array list\n",
    "    '''\n",
    "    output_probs = []\n",
    "    weighted_probs = [probs[i] * weights[i] for i in range(len(weights))]\n",
    "    for i in range(len(probs[0])):\n",
    "        sum_prob = np.zeros(len(probs[0][0]))\n",
    "        for j in range(len(weights)):\n",
    "            sum_prob = np.sum((sum_prob, weighted_probs[j][i]), axis=0)\n",
    "        output_probs.append(sum_prob)\n",
    "    return np.asarray(output_probs, dtype='float32')\n",
    "\n",
    "def get_average_weights(*scores, inverse=False):\n",
    "    ''' Get the corresponding weight of each input score \n",
    "    inverse: (bool) get inverse weights value in case of the smaller score value, the bigger weight value (such as model loss)\n",
    "    '''\n",
    "    \n",
    "    weights = []\n",
    "    for score in scores:\n",
    "        weights.append(score/np.sum(scores))\n",
    "    \n",
    "    if inverse == True:\n",
    "        inverse_weights = []\n",
    "        inverse = [1/weight for weight in weights]\n",
    "        for inv in inverse:\n",
    "            inverse_weights.append(inv/np.sum(inverse))\n",
    "        weights = inverse_weights\n",
    "\n",
    "    return weights"
   ]
  },
  {
   "cell_type": "code",
   "execution_count": 7,
   "id": "b5021cfd",
   "metadata": {
    "execution": {
     "iopub.execute_input": "2022-07-13T17:46:18.339768Z",
     "iopub.status.busy": "2022-07-13T17:46:18.339395Z",
     "iopub.status.idle": "2022-07-13T17:46:24.151614Z",
     "shell.execute_reply": "2022-07-13T17:46:24.149466Z"
    },
    "papermill": {
     "duration": 5.826824,
     "end_time": "2022-07-13T17:46:24.155051",
     "exception": false,
     "start_time": "2022-07-13T17:46:18.328227",
     "status": "completed"
    },
    "tags": []
   },
   "outputs": [
    {
     "name": "stderr",
     "output_type": "stream",
     "text": [
      "2022-07-13 17:46:18.439667: I tensorflow/stream_executor/cuda/cuda_gpu_executor.cc:937] successful NUMA node read from SysFS had negative value (-1), but there must be at least one NUMA node, so returning NUMA node zero\n",
      "2022-07-13 17:46:18.441069: I tensorflow/stream_executor/cuda/cuda_gpu_executor.cc:937] successful NUMA node read from SysFS had negative value (-1), but there must be at least one NUMA node, so returning NUMA node zero\n",
      "2022-07-13 17:46:18.441847: I tensorflow/stream_executor/cuda/cuda_gpu_executor.cc:937] successful NUMA node read from SysFS had negative value (-1), but there must be at least one NUMA node, so returning NUMA node zero\n",
      "2022-07-13 17:46:18.442836: I tensorflow/core/platform/cpu_feature_guard.cc:142] This TensorFlow binary is optimized with oneAPI Deep Neural Network Library (oneDNN) to use the following CPU instructions in performance-critical operations:  AVX2 AVX512F FMA\n",
      "To enable them in other operations, rebuild TensorFlow with the appropriate compiler flags.\n",
      "2022-07-13 17:46:18.443220: I tensorflow/stream_executor/cuda/cuda_gpu_executor.cc:937] successful NUMA node read from SysFS had negative value (-1), but there must be at least one NUMA node, so returning NUMA node zero\n",
      "2022-07-13 17:46:18.444048: I tensorflow/stream_executor/cuda/cuda_gpu_executor.cc:937] successful NUMA node read from SysFS had negative value (-1), but there must be at least one NUMA node, so returning NUMA node zero\n",
      "2022-07-13 17:46:18.444745: I tensorflow/stream_executor/cuda/cuda_gpu_executor.cc:937] successful NUMA node read from SysFS had negative value (-1), but there must be at least one NUMA node, so returning NUMA node zero\n",
      "2022-07-13 17:46:23.789993: I tensorflow/stream_executor/cuda/cuda_gpu_executor.cc:937] successful NUMA node read from SysFS had negative value (-1), but there must be at least one NUMA node, so returning NUMA node zero\n",
      "2022-07-13 17:46:23.790884: I tensorflow/stream_executor/cuda/cuda_gpu_executor.cc:937] successful NUMA node read from SysFS had negative value (-1), but there must be at least one NUMA node, so returning NUMA node zero\n",
      "2022-07-13 17:46:23.791681: I tensorflow/stream_executor/cuda/cuda_gpu_executor.cc:937] successful NUMA node read from SysFS had negative value (-1), but there must be at least one NUMA node, so returning NUMA node zero\n",
      "2022-07-13 17:46:23.792445: I tensorflow/core/common_runtime/gpu/gpu_device.cc:1510] Created device /job:localhost/replica:0/task:0/device:GPU:0 with 15047 MB memory:  -> device: 0, name: Tesla P100-PCIE-16GB, pci bus id: 0000:00:04.0, compute capability: 6.0\n"
     ]
    }
   ],
   "source": [
    "f1_macro = tfa.metrics.F1Score(num_classes=NUM_CLASSES, average='macro', name='f1_macro')\n",
    "f1_weighted = tfa.metrics.F1Score(num_classes=NUM_CLASSES, average='weighted', name='f1_weighted')\n",
    "    \n",
    "def create_model_text(input_shape, lstm=True):\n",
    "    text_input = Input(shape=input_shape)\n",
    "    if lstm == True:\n",
    "        reshape_text = Reshape((1, -1)) (text_input)\n",
    "        lstm = LSTM(NUM_LSTM) (reshape_text)\n",
    "        outputs = Dense(NUM_CLASSES, activation='softmax') (lstm)\n",
    "    else:\n",
    "        outputs = Dense(NUM_CLASSES, activation='softmax') (text_input)\n",
    "    model = Model(text_input, outputs)\n",
    "    model.compile(optimizer='adam', loss='categorical_crossentropy', metrics=['accuracy', f1_macro, f1_weighted])\n",
    "    return model\n",
    "\n",
    "def create_model_image(input_shape):\n",
    "    image_input = Input(shape=input_shape)\n",
    "    outputs = Dense(NUM_CLASSES, activation='softmax') (image_input)\n",
    "    model = Model(image_input, outputs)\n",
    "    model.compile(optimizer='adam', loss='categorical_crossentropy', metrics=['accuracy', f1_macro, f1_weighted])\n",
    "    return model\n",
    "\n",
    "def create_model_IF(text_shape, image_shape, lstm=True):\n",
    "    image_input = Input(shape=image_shape)\n",
    "    text_input = Input(shape=text_shape)\n",
    "    if lstm == True:\n",
    "        text_reshape = Reshape((1, -1)) (text_input)\n",
    "        text_lstm = LSTM(NUM_LSTM) (text_reshape)\n",
    "#     text_lstm = Dropout(DROPOUT_RATE) (text_lstm)\n",
    "        text_image_concat = tf.keras.layers.Concatenate(axis=1)([text_lstm, image_input])\n",
    "    else:\n",
    "        text_image_concat = tf.keras.layers.Concatenate(axis=1)([text_input, image_input])\n",
    "    concat_self_attention = tf.keras.layers.Attention() ([text_image_concat, text_image_concat])\n",
    "#     concat_self_attention = Dropout(DROPOUT_RATE) (concat_self_attention)\n",
    "    outputs = Dense(NUM_CLASSES, activation='softmax') (concat_self_attention)\n",
    "    model = Model([text_input, image_input], outputs)\n",
    "    model.compile(optimizer='adam', loss='categorical_crossentropy', metrics=['accuracy', f1_macro, f1_weighted])\n",
    "    return model"
   ]
  },
  {
   "cell_type": "code",
   "execution_count": 8,
   "id": "a027c8ef",
   "metadata": {
    "execution": {
     "iopub.execute_input": "2022-07-13T17:46:24.174253Z",
     "iopub.status.busy": "2022-07-13T17:46:24.173893Z",
     "iopub.status.idle": "2022-07-13T17:46:24.190989Z",
     "shell.execute_reply": "2022-07-13T17:46:24.189937Z"
    },
    "papermill": {
     "duration": 0.028436,
     "end_time": "2022-07-13T17:46:24.193188",
     "exception": false,
     "start_time": "2022-07-13T17:46:24.164752",
     "status": "completed"
    },
    "tags": []
   },
   "outputs": [],
   "source": [
    "def run_and_evaluate_IF(name, X1, X2, y, verbose=0, lstm=True):\n",
    "    '''  Train and test Intermediate Fusion model Multimodal Labels \n",
    "    X1: text input\n",
    "    X2: image input\n",
    "    y: multimodal labels\n",
    "    '''\n",
    "    y = le.fit_transform(y)\n",
    "    y = to_categorical(np.asarray(y))\n",
    "    \n",
    "    random_idx = np.random.permutation(len(y))\n",
    "    X1, X2, y = X1[random_idx], X2[random_idx], y[random_idx]\n",
    "    \n",
    "    X1_train, X1_val, X1_test = split_data(X1, VALIDATION_SPLIT)\n",
    "    X2_train, X2_val, X2_test = split_data(X2, VALIDATION_SPLIT)\n",
    "    y_train, y_val, y_test = split_data(y, VALIDATION_SPLIT)\n",
    "    \n",
    "    oversample = BorderlineSMOTE(sampling_strategy='minority', random_state=SEED, kind='borderline-2')\n",
    "#     oversample = SMOTE(sampling_strategy='minority', random_state=SEED)\n",
    "    X1_train, _ = oversample.fit_resample(X1_train, y_train)\n",
    "    X2_train, y_train = oversample.fit_resample(X2_train, y_train)\n",
    "\n",
    "    \n",
    "    if lstm == False:\n",
    "        model = create_model_IF(X1_train.shape[1:], X2_train.shape[1:], lstm=False)\n",
    "    else:\n",
    "        model = create_model_IF(X1_train.shape[1:], X2_train.shape[1:])\n",
    "    early_stopping = EarlyStopping(monitor='val_loss', min_delta=1e-4, patience=EARLY_STOPPING)\n",
    "    checkpoint = ModelCheckpoint('./model_checkpoint/{}.h5'.format(name), save_best_only=True, verbose=verbose)\n",
    "    \n",
    "    if 'multiple' in name:\n",
    "        batch_size = 256\n",
    "    else:\n",
    "        batch_size = BATCH_SIZE # 128\n",
    "    \n",
    "    history = model.fit([X1_train, X2_train], y_train, validation_data=([X1_val, X2_val], y_val), \n",
    "                        epochs=EPOCHS, batch_size=batch_size, verbose=verbose,\n",
    "                        callbacks=[checkpoint, early_stopping])\n",
    "    if verbose == 1:\n",
    "        best_epoch = np.argmin(history.history['val_loss'])\n",
    "        print('\\nCheckpoint loaded at epoch:', best_epoch)\n",
    "        \n",
    "    return history, evaluate_model_IF(model, X1_test, X2_test, y_test, checkpoint=name, verbose=verbose)\n",
    "\n",
    "def evaluate_model_IF(model, X_texts, X_images, y_test, checkpoint=None, verbose=1):\n",
    "    if checkpoint is not None:\n",
    "        model = load_model('./model_checkpoint/{}.h5'.format(checkpoint))\n",
    "    \n",
    "    loss, acc, f1_macro, f1_weighted = model.evaluate([X_texts, X_images], y_test, verbose=verbose)\n",
    "\n",
    "    if verbose == 1:\n",
    "        print('Loss:', loss)\n",
    "        print('Accuracy:', acc)\n",
    "        print('Macro F1-score:', f1_macro)\n",
    "        print('Weighted F1-score:', f1_weighted)\n",
    "\n",
    "        y_pred = model.predict([X_texts, X_images])\n",
    "        matrix = confusion_matrix(le.inverse_transform(y_test.argmax(axis=1)), le.inverse_transform(y_pred.argmax(axis=1)), \n",
    "                                  labels=list(le.classes_))\n",
    "        cm_disp = ConfusionMatrixDisplay(confusion_matrix=matrix,\n",
    "                                  display_labels=list(le.classes_))\n",
    "        cm_disp.plot()\n",
    "        plt.show()\n",
    "        \n",
    "    return loss, acc, f1_macro, f1_weighted"
   ]
  },
  {
   "cell_type": "code",
   "execution_count": 9,
   "id": "2f43e9ba",
   "metadata": {
    "execution": {
     "iopub.execute_input": "2022-07-13T17:46:24.211567Z",
     "iopub.status.busy": "2022-07-13T17:46:24.211304Z",
     "iopub.status.idle": "2022-07-13T17:46:24.229569Z",
     "shell.execute_reply": "2022-07-13T17:46:24.228305Z"
    },
    "papermill": {
     "duration": 0.030462,
     "end_time": "2022-07-13T17:46:24.232008",
     "exception": false,
     "start_time": "2022-07-13T17:46:24.201546",
     "status": "completed"
    },
    "tags": []
   },
   "outputs": [],
   "source": [
    "def run_and_evaluate_LF(name, X1, X2, y, verbose=0, lstm=True):\n",
    "    ''' Train and test Late Fusion model only with Multimodal Labels \n",
    "    X1: text input\n",
    "    X2: image input\n",
    "    y: multimodal labels\n",
    "    y1: text labels\n",
    "    y2: image labels\n",
    "    verbose: 0 or 1 to print tracking on progress\n",
    "    '''\n",
    "    y = le.fit_transform(y)\n",
    "    y = to_categorical(np.asarray(y))\n",
    "\n",
    "    random_idx = np.random.permutation(len(y))\n",
    "    X1, X2, y = X1[random_idx], X2[random_idx], y[random_idx]\n",
    "    \n",
    "    X1_train, X1_val, X1_test = split_data(X1, VALIDATION_SPLIT)\n",
    "    X2_train, X2_val, X2_test = split_data(X2, VALIDATION_SPLIT)\n",
    "    y_train, y_val, y_test = split_data(y, VALIDATION_SPLIT)\n",
    "    \n",
    "    oversample = BorderlineSMOTE(sampling_strategy='minority', random_state=SEED, kind='borderline-2')\n",
    "#     oversample = SMOTE(sampling_strategy='minority', random_state=SEED)\n",
    "    X1_train, _ = oversample.fit_resample(X1_train, y_train)\n",
    "    X2_train, y_train = oversample.fit_resample(X2_train, y_train)\n",
    "\n",
    "    if lstm == False:\n",
    "        model_text = create_model_text(X1_train.shape[1:], lstm=False)\n",
    "    else:\n",
    "        model_text = create_model_text(X1_train.shape[1:])\n",
    "    model_image = create_model_image(X2_train.shape[1:])\n",
    "\n",
    "    early_stopping1 = EarlyStopping(monitor='val_loss', min_delta=1e-4, patience=EARLY_STOPPING)\n",
    "    early_stopping2 = EarlyStopping(monitor='val_loss', min_delta=1e-4, patience=EARLY_STOPPING)\n",
    "    checkpoint_text = ModelCheckpoint('./model_checkpoint/{}-text.h5'.format(name), save_best_only=True, verbose=verbose)\n",
    "    checkpoint_image = ModelCheckpoint('./model_checkpoint/{}-image.h5'.format(name), save_best_only=True, verbose=verbose)\n",
    "    \n",
    "    if 'multiple' in name:\n",
    "        batch_size = 256\n",
    "    else:\n",
    "        batch_size = BATCH_SIZE # 128\n",
    "    \n",
    "    history_text = model_text.fit(X1_train, y_train, validation_data=(X1_val, y_val), \n",
    "                                  epochs=EPOCHS, batch_size=batch_size, verbose=verbose,\n",
    "                                  callbacks=[checkpoint_text, early_stopping1])\n",
    "    \n",
    "    history_image = model_image.fit(X2_train, y_train, validation_data=(X2_val, y_val), \n",
    "                                    epochs=EPOCHS, batch_size=batch_size, verbose=verbose,\n",
    "                                    callbacks=[checkpoint_image, early_stopping2])\n",
    "    \n",
    "    best_val_acc_text = np.min(history_text.history['val_accuracy'])\n",
    "    best_val_acc_image = np.min(history_image.history['val_accuracy'])\n",
    "\n",
    "    weights = get_average_weights(best_val_acc_text, best_val_acc_image)\n",
    "\n",
    "    model_text = load_model('./model_checkpoint/{}-text.h5'.format(name))\n",
    "    model_image = load_model('./model_checkpoint/{}-image.h5'.format(name))\n",
    "\n",
    "    y_pred_text = model_text.predict(X1_test)\n",
    "    y_pred_image = model_image.predict(X2_test)\n",
    "\n",
    "    y_pred = weighted_average(weights, np.asarray([y_pred_text, y_pred_image], dtype='float32'))\n",
    "\n",
    "    best_epoch_text = np.argmin(history_text.history['val_loss'])\n",
    "    best_epoch_image = np.argmin(history_image.history['val_loss'])\n",
    "\n",
    "    if verbose == 1:\n",
    "        print('Checkpoint of text model loaded at epoch:', best_epoch_text)\n",
    "        print('Checkpoint of image model loaded at epoch:', best_epoch_image)\n",
    "\n",
    "    return evaluate_model_LF(y_test, y_pred, verbose=verbose)"
   ]
  },
  {
   "cell_type": "code",
   "execution_count": 10,
   "id": "943e1c86",
   "metadata": {
    "execution": {
     "iopub.execute_input": "2022-07-13T17:46:24.252521Z",
     "iopub.status.busy": "2022-07-13T17:46:24.252147Z",
     "iopub.status.idle": "2022-07-13T17:46:24.273654Z",
     "shell.execute_reply": "2022-07-13T17:46:24.272585Z"
    },
    "papermill": {
     "duration": 0.033952,
     "end_time": "2022-07-13T17:46:24.275701",
     "exception": false,
     "start_time": "2022-07-13T17:46:24.241749",
     "status": "completed"
    },
    "tags": []
   },
   "outputs": [],
   "source": [
    "def run_and_evaluate_HF(name, X1, X2, y, verbose=0, lstm=True):\n",
    "    ''' Train Hybrid Fusion model and test only with Multimodal Labels\n",
    "    X1: text input\n",
    "    X2: image input\n",
    "    y: labels\n",
    "    verbose: 0 or 1 to print tracking on progress\n",
    "    '''\n",
    "    y = le.fit_transform(y)\n",
    "    y = to_categorical(np.asarray(y))\n",
    "    \n",
    "    random_idx = np.random.permutation(len(y))\n",
    "    X1, X2, y = X1[random_idx], X2[random_idx], y[random_idx]\n",
    "    \n",
    "    X1_train, X1_val, X1_test = split_data(X1, VALIDATION_SPLIT)\n",
    "    X2_train, X2_val, X2_test = split_data(X2, VALIDATION_SPLIT)\n",
    "    y_train, y_val, y_test = split_data(y, VALIDATION_SPLIT)\n",
    "    \n",
    "    oversample = BorderlineSMOTE(sampling_strategy='minority', random_state=SEED, kind='borderline-2')\n",
    "#     oversample = SMOTE(sampling_strategy='minority', random_state=SEED)\n",
    "    X1_train, _ = oversample.fit_resample(X1_train, y_train)\n",
    "    X2_train, y_train = oversample.fit_resample(X2_train, y_train)\n",
    "    \n",
    "    if lstm == False:\n",
    "        model_text = create_model_text(X1_train.shape[1:], lstm=False)\n",
    "        model_IF = create_model_IF(X1_train.shape[1:], X2_train.shape[1:], lstm=False)\n",
    "    model_text = create_model_text(X1_train.shape[1:])\n",
    "    model_IF = create_model_IF(X1_train.shape[1:], X2_train.shape[1:])\n",
    "    model_image = create_model_image(X2_train.shape[1:])\n",
    "\n",
    "    early_stopping1 = EarlyStopping(monitor='val_loss', min_delta=1e-4, patience=EARLY_STOPPING)\n",
    "    early_stopping2 = EarlyStopping(monitor='val_loss', min_delta=1e-4, patience=EARLY_STOPPING)\n",
    "    early_stopping3 = EarlyStopping(monitor='val_loss', min_delta=1e-4, patience=EARLY_STOPPING)\n",
    "\n",
    "    checkpoint_text = ModelCheckpoint('./model_checkpoint/{}-text.h5'.format(name), save_best_only=True, verbose=verbose)\n",
    "    checkpoint_image = ModelCheckpoint('./model_checkpoint/{}-image.h5'.format(name), save_best_only=True, verbose=verbose)\n",
    "    checkpoint_IF = ModelCheckpoint('./model_checkpoint/{}-IF.h5'.format(name), save_best_only=True, verbose=verbose)\n",
    "\n",
    "    if 'multiple' in name:\n",
    "        batch_size = 256\n",
    "    else:\n",
    "        batch_size = BATCH_SIZE # 128\n",
    "    \n",
    "    history_text = model_text.fit(X1_train, y_train, validation_data=(X1_val, y_val), \n",
    "                        epochs=EPOCHS, batch_size=batch_size, verbose=verbose,\n",
    "                        callbacks=[checkpoint_text, early_stopping1])\n",
    "    \n",
    "    history_image = model_image.fit(X2_train, y_train, validation_data=(X2_val, y_val), \n",
    "                        epochs=EPOCHS, batch_size=batch_size, verbose=verbose,\n",
    "                        callbacks=[checkpoint_image, early_stopping2])\n",
    "    \n",
    "    history_IF = model_IF.fit([X1_train, X2_train], y_train, validation_data=([X1_val, X2_val], y_val), \n",
    "                        epochs=EPOCHS, batch_size=batch_size, verbose=verbose,\n",
    "                        callbacks=[checkpoint_IF, early_stopping3])\n",
    "    \n",
    "    best_val_acc_text = np.min(history_text.history['val_accuracy'])\n",
    "    best_val_acc_image = np.min(history_image.history['val_accuracy'])\n",
    "    best_val_acc_IF = np.min(history_IF.history['val_accuracy'])\n",
    "    \n",
    "    weights = get_average_weights(best_val_acc_text, best_val_acc_image, best_val_acc_IF)\n",
    "\n",
    "    model_text = load_model('./model_checkpoint/{}-text.h5'.format(name))\n",
    "    model_image = load_model('./model_checkpoint/{}-image.h5'.format(name))\n",
    "    model_IF = load_model('./model_checkpoint/{}-IF.h5'.format(name))\n",
    "\n",
    "    y_pred_text = model_text.predict(X1_test)\n",
    "    y_pred_image = model_image.predict(X2_test)\n",
    "    y_pred_IF = model_IF.predict([X1_test, X2_test])\n",
    "    \n",
    "    y_pred = weighted_average(weights, np.asarray([y_pred_text, y_pred_image, y_pred_IF], dtype='float32'))\n",
    "    \n",
    "    best_epoch_text = np.argmin(history_text.history['val_loss'])\n",
    "    best_epoch_image = np.argmin(history_image.history['val_loss'])\n",
    "    best_epoch_IF = np.argmin(history_IF.history['val_loss'])\n",
    "    \n",
    "    if verbose == 1:\n",
    "        print('Checkpoint of text model loaded at epoch:', best_epoch_text)\n",
    "        print('Checkpoint of image model loaded at epoch:', best_epoch_image)\n",
    "        print('Checkpoint of IF model loaded at epoch:', best_epoch_IF)\n",
    "\n",
    "    return evaluate_model_LF(y_test, y_pred, verbose=verbose)"
   ]
  },
  {
   "cell_type": "code",
   "execution_count": 11,
   "id": "93cbc3cb",
   "metadata": {
    "execution": {
     "iopub.execute_input": "2022-07-13T17:46:24.294792Z",
     "iopub.status.busy": "2022-07-13T17:46:24.294095Z",
     "iopub.status.idle": "2022-07-13T17:46:24.301360Z",
     "shell.execute_reply": "2022-07-13T17:46:24.300375Z"
    },
    "papermill": {
     "duration": 0.018265,
     "end_time": "2022-07-13T17:46:24.303207",
     "exception": false,
     "start_time": "2022-07-13T17:46:24.284942",
     "status": "completed"
    },
    "tags": []
   },
   "outputs": [],
   "source": [
    "def evaluate_model_LF(y_true, y_pred, verbose=0):\n",
    "    \n",
    "    y_pred = le.inverse_transform(y_pred.argmax(axis=1))\n",
    "    y_true = le.inverse_transform(y_true.argmax(axis=1))\n",
    "\n",
    "    acc = accuracy_score(y_true, y_pred)\n",
    "    f1_macro = f1_score(y_true, y_pred, average='macro')\n",
    "    f1_weighted = f1_score(y_true, y_pred, average='weighted')\n",
    "\n",
    "    if verbose == 1:\n",
    "        print(classification_report(y_true, y_pred))\n",
    "        matrix = confusion_matrix(y_true, y_pred,\n",
    "                                  labels=list(le.classes_))\n",
    "        cm_disp = ConfusionMatrixDisplay(confusion_matrix=matrix,\n",
    "                                  display_labels=list(le.classes_))\n",
    "        cm_disp.plot()\n",
    "        plt.show()\n",
    "\n",
    "    return acc, f1_macro, f1_weighted"
   ]
  },
  {
   "cell_type": "code",
   "execution_count": 12,
   "id": "79da765d",
   "metadata": {
    "execution": {
     "iopub.execute_input": "2022-07-13T17:46:24.322659Z",
     "iopub.status.busy": "2022-07-13T17:46:24.321880Z",
     "iopub.status.idle": "2022-07-13T17:46:24.335079Z",
     "shell.execute_reply": "2022-07-13T17:46:24.333979Z"
    },
    "papermill": {
     "duration": 0.026405,
     "end_time": "2022-07-13T17:46:24.337783",
     "exception": false,
     "start_time": "2022-07-13T17:46:24.311378",
     "status": "completed"
    },
    "tags": []
   },
   "outputs": [],
   "source": [
    "def plot_metrics(history):\n",
    "    fig = plt.figure(figsize=(20, 5))\n",
    "\n",
    "    fig.add_subplot(1, 4, 1)\n",
    "    plt.plot(history.history['loss'])\n",
    "    plt.plot(history.history['val_loss'])\n",
    "    plt.title('LOSS')\n",
    "    plt.ylabel('loss')\n",
    "    plt.xlabel('epoch')\n",
    "    plt.legend(['train', 'val'], loc='best')\n",
    "\n",
    "    fig.add_subplot(1, 4, 2)\n",
    "    plt.plot(history.history['accuracy'])\n",
    "    plt.plot(history.history['val_accuracy'])\n",
    "    plt.title('ACCURACY')\n",
    "    plt.ylabel('accuracy')\n",
    "    plt.xlabel('epoch')\n",
    "    plt.legend(['train', 'val'], loc='best')\n",
    "\n",
    "    fig.add_subplot(1, 4, 3)\n",
    "    plt.plot(history.history['f1_macro'])\n",
    "    plt.plot(history.history['val_f1_macro'])\n",
    "    plt.title('Macro F1-SCORE')\n",
    "    plt.ylabel('f1-macro')\n",
    "    plt.xlabel('epoch')\n",
    "    plt.legend(['train', 'val'], loc='best')\n",
    "    \n",
    "    fig.add_subplot(1, 4, 4)\n",
    "    plt.plot(history.history['f1_weighted'])\n",
    "    plt.plot(history.history['val_f1_weighted'])\n",
    "    plt.title('Weighted F1-SCORE')\n",
    "    plt.ylabel('f1-weighted')\n",
    "    plt.xlabel('epoch')\n",
    "    plt.legend(['train', 'val'], loc='best')\n",
    "\n",
    "    plt.show()"
   ]
  },
  {
   "cell_type": "code",
   "execution_count": 13,
   "id": "366c2523",
   "metadata": {
    "execution": {
     "iopub.execute_input": "2022-07-13T17:46:24.358374Z",
     "iopub.status.busy": "2022-07-13T17:46:24.357784Z",
     "iopub.status.idle": "2022-07-13T17:46:24.367524Z",
     "shell.execute_reply": "2022-07-13T17:46:24.366497Z"
    },
    "papermill": {
     "duration": 0.022169,
     "end_time": "2022-07-13T17:46:24.369625",
     "exception": false,
     "start_time": "2022-07-13T17:46:24.347456",
     "status": "completed"
    },
    "tags": []
   },
   "outputs": [],
   "source": [
    "def style_dataframe(dataframe):\n",
    "    return dataframe.style.highlight_max(subset=['Accuracy', 'F1-macro', 'F1-weighted'], props='color:lawngreen', axis=0)\\\n",
    "                          .highlight_min(subset=['Accuracy', 'F1-macro', 'F1-weighted'], props='color:tomato', axis=0)\n",
    "\n",
    "def highlight_neg(cell):\n",
    "    if type(cell) != str and cell < 0 :\n",
    "        return 'color: tomato'\n",
    "    else:\n",
    "        return 'color: lawngreen'\n",
    "\n",
    "def display_dataframes(dfs, names=[], index=False):\n",
    "    def to_df(x):\n",
    "        if isinstance(x, pd.Series):\n",
    "            return pd.DataFrame(x)\n",
    "        else:\n",
    "            return x\n",
    "    html_str = ''\n",
    "    if names:\n",
    "        html_str += ('<tr>' + \n",
    "                     ''.join(f'<td style=\"text-align:center\">{name}</td>' for name in names) + \n",
    "                     '</tr>')\n",
    "    html_str += ('<tr>' + \n",
    "                 ''.join(f'<td style=\"vertical-align:top\"> {to_df(df).to_html()}</td>' \n",
    "                         for df in dfs) + \n",
    "                 '</tr>')\n",
    "    html_str = f'<table>{html_str}</table>'\n",
    "    html_str = html_str.replace('table','table style=\"display:inline\"')\n",
    "    display_html(html_str, raw=True)"
   ]
  },
  {
   "cell_type": "markdown",
   "id": "5c9f866c",
   "metadata": {
    "papermill": {
     "duration": 0.008032,
     "end_time": "2022-07-13T17:46:24.386397",
     "exception": false,
     "start_time": "2022-07-13T17:46:24.378365",
     "status": "completed"
    },
    "tags": []
   },
   "source": [
    "# Load data"
   ]
  },
  {
   "cell_type": "code",
   "execution_count": 14,
   "id": "d121b0d1",
   "metadata": {
    "execution": {
     "iopub.execute_input": "2022-07-13T17:46:24.404366Z",
     "iopub.status.busy": "2022-07-13T17:46:24.403751Z",
     "iopub.status.idle": "2022-07-13T17:46:39.152266Z",
     "shell.execute_reply": "2022-07-13T17:46:39.151135Z"
    },
    "papermill": {
     "duration": 14.76016,
     "end_time": "2022-07-13T17:46:39.154810",
     "exception": false,
     "start_time": "2022-07-13T17:46:24.394650",
     "status": "completed"
    },
    "tags": []
   },
   "outputs": [],
   "source": [
    "## Choose best\n",
    "# Load text feature\n",
    "mvsa_single_bert, mvsa_multiple_bert = load_mvsa_feature('bert-base')\n",
    "mvsa_single_pos_bow, mvsa_multiple_pos_bow = load_mvsa_feature('pos-bow')\n",
    "mvsa_single_pos_tfidf, mvsa_multiple_pos_tfidf = load_mvsa_feature('pos-tfidf')\n",
    "mvsa_single_ner_bow, mvsa_multiple_ner_bow = load_mvsa_feature('ner-bow')\n",
    "mvsa_single_ner_tfidf, mvsa_multiple_ner_tfidf = load_mvsa_feature('ner-tfidf')\n",
    "\n",
    "## Load image feature\n",
    "mvsa_single_vgg16, mvsa_multiple_vgg16 = load_mvsa_feature('vgg16')\n",
    "mvsa_single_vgg19, mvsa_multiple_vgg19 = load_mvsa_feature('vgg19')\n",
    "mvsa_single_resnet50, mvsa_multiple_resnet50 = load_mvsa_feature('resnet50')\n",
    "mvsa_single_resnet101, mvsa_multiple_resnet101 = load_mvsa_feature('resnet101')\n",
    "mvsa_single_resnet152, mvsa_multiple_resnet152 = load_mvsa_feature('resnet152')\n",
    "mvsa_single_densenet121, mvsa_multiple_densenet121 = load_mvsa_feature('densenet121')\n",
    "mvsa_single_densenet169, mvsa_multiple_densenet169 = load_mvsa_feature('densenet169')\n",
    "mvsa_single_densenet201, mvsa_multiple_densenet201 = load_mvsa_feature('densenet201')"
   ]
  },
  {
   "cell_type": "code",
   "execution_count": 15,
   "id": "1d8f816c",
   "metadata": {
    "execution": {
     "iopub.execute_input": "2022-07-13T17:46:39.174785Z",
     "iopub.status.busy": "2022-07-13T17:46:39.173096Z",
     "iopub.status.idle": "2022-07-13T17:46:39.263011Z",
     "shell.execute_reply": "2022-07-13T17:46:39.262028Z"
    },
    "papermill": {
     "duration": 0.10191,
     "end_time": "2022-07-13T17:46:39.265594",
     "exception": false,
     "start_time": "2022-07-13T17:46:39.163684",
     "status": "completed"
    },
    "tags": []
   },
   "outputs": [],
   "source": [
    "mvsa_single_bert_pos = np.concatenate((mvsa_single_bert, mvsa_single_pos_bow), axis=1)\n",
    "mvsa_single_bert_pos_ner = np.concatenate((mvsa_single_bert, mvsa_single_pos_bow, mvsa_single_ner_bow), axis=1)\n",
    "\n",
    "mvsa_multiple_bert_pos = np.concatenate((mvsa_multiple_bert, mvsa_multiple_pos_bow), axis=1)\n",
    "mvsa_multiple_bert_pos_ner = np.concatenate((mvsa_multiple_bert, mvsa_multiple_pos_bow, mvsa_multiple_ner_tfidf), axis=1)"
   ]
  },
  {
   "cell_type": "code",
   "execution_count": 16,
   "id": "e9011b31",
   "metadata": {
    "execution": {
     "iopub.execute_input": "2022-07-13T17:46:39.283673Z",
     "iopub.status.busy": "2022-07-13T17:46:39.283371Z",
     "iopub.status.idle": "2022-07-13T17:46:39.429466Z",
     "shell.execute_reply": "2022-07-13T17:46:39.428185Z"
    },
    "papermill": {
     "duration": 0.158452,
     "end_time": "2022-07-13T17:46:39.432321",
     "exception": false,
     "start_time": "2022-07-13T17:46:39.273869",
     "status": "completed"
    },
    "tags": []
   },
   "outputs": [],
   "source": [
    "mvsa_single_multimodal_labels, mvsa_single_text_labels, mvsa_single_image_labels = load_labels('../input/mvsa-features/labels/mvsa-single-labels.hdf5')\n",
    "mvsa_multiple_multimodal_labels, mvsa_multiple_text_labels, mvsa_multiple_image_labels = load_labels('../input/mvsa-features/labels/mvsa-multiple-labels.hdf5')"
   ]
  },
  {
   "cell_type": "code",
   "execution_count": 17,
   "id": "55a19089",
   "metadata": {
    "execution": {
     "iopub.execute_input": "2022-07-13T17:46:39.453839Z",
     "iopub.status.busy": "2022-07-13T17:46:39.452767Z",
     "iopub.status.idle": "2022-07-13T17:46:39.460309Z",
     "shell.execute_reply": "2022-07-13T17:46:39.459200Z"
    },
    "papermill": {
     "duration": 0.020619,
     "end_time": "2022-07-13T17:46:39.462472",
     "exception": false,
     "start_time": "2022-07-13T17:46:39.441853",
     "status": "completed"
    },
    "tags": []
   },
   "outputs": [],
   "source": [
    "# prepare all features data\n",
    "\n",
    "feature_names = ['resnet50-bert', 'resnet50-bert-lstm', 'densenet201-bert-lstm', 'densenet201-bert-pos-lstm', 'densenet201-bert-pos-ner-lstm']\n",
    "\n",
    "mvsa_single_features = [[mvsa_single_bert, mvsa_single_resnet50],\n",
    "                        [mvsa_single_bert, mvsa_single_resnet50],\n",
    "                        [mvsa_single_bert, mvsa_single_densenet201],\n",
    "                        [mvsa_single_bert_pos, mvsa_single_densenet201],\n",
    "                        [mvsa_single_bert_pos_ner, mvsa_single_densenet201]]\n",
    "\n",
    "mvsa_multiple_features = [[mvsa_multiple_bert, mvsa_multiple_resnet50],\n",
    "                          [mvsa_multiple_bert, mvsa_multiple_resnet50],\n",
    "                          [mvsa_multiple_bert, mvsa_multiple_densenet201],\n",
    "                          [mvsa_multiple_bert_pos, mvsa_multiple_densenet201],\n",
    "                          [mvsa_multiple_bert_pos_ner, mvsa_multiple_densenet201]]"
   ]
  },
  {
   "cell_type": "code",
   "execution_count": 18,
   "id": "0e613c9e",
   "metadata": {
    "execution": {
     "iopub.execute_input": "2022-07-13T17:46:39.482552Z",
     "iopub.status.busy": "2022-07-13T17:46:39.482230Z",
     "iopub.status.idle": "2022-07-13T17:46:39.490583Z",
     "shell.execute_reply": "2022-07-13T17:46:39.489384Z"
    },
    "papermill": {
     "duration": 0.021101,
     "end_time": "2022-07-13T17:46:39.492884",
     "exception": false,
     "start_time": "2022-07-13T17:46:39.471783",
     "status": "completed"
    },
    "tags": []
   },
   "outputs": [],
   "source": [
    "le = preprocessing.LabelEncoder()\n",
    "le.fit(mvsa_multiple_multimodal_labels)\n",
    "NUM_CLASSES = len(le.classes_) # = 3"
   ]
  },
  {
   "cell_type": "code",
   "execution_count": 19,
   "id": "198f0bad",
   "metadata": {
    "execution": {
     "iopub.execute_input": "2022-07-13T17:46:39.512670Z",
     "iopub.status.busy": "2022-07-13T17:46:39.512372Z",
     "iopub.status.idle": "2022-07-13T17:46:39.517497Z",
     "shell.execute_reply": "2022-07-13T17:46:39.516433Z"
    },
    "papermill": {
     "duration": 0.017649,
     "end_time": "2022-07-13T17:46:39.519889",
     "exception": false,
     "start_time": "2022-07-13T17:46:39.502240",
     "status": "completed"
    },
    "tags": []
   },
   "outputs": [],
   "source": [
    "reset_seeds()\n",
    "EPOCHS = 100\n",
    "BATCH_SIZE = 128\n",
    "VALIDATION_SPLIT = 0.1\n",
    "EARLY_STOPPING = 10\n",
    "NUM_LSTM = 64\n",
    "DROPOUT_RATE = 0.1"
   ]
  },
  {
   "cell_type": "markdown",
   "id": "29aa125e",
   "metadata": {
    "papermill": {
     "duration": 0.009503,
     "end_time": "2022-07-13T17:46:39.540313",
     "exception": false,
     "start_time": "2022-07-13T17:46:39.530810",
     "status": "completed"
    },
    "tags": []
   },
   "source": [
    "# Intermediate Fusion"
   ]
  },
  {
   "cell_type": "code",
   "execution_count": 20,
   "id": "f1152115",
   "metadata": {
    "execution": {
     "iopub.execute_input": "2022-07-13T17:46:39.559831Z",
     "iopub.status.busy": "2022-07-13T17:46:39.559469Z",
     "iopub.status.idle": "2022-07-13T17:48:52.503754Z",
     "shell.execute_reply": "2022-07-13T17:48:52.502752Z"
    },
    "papermill": {
     "duration": 132.956584,
     "end_time": "2022-07-13T17:48:52.506035",
     "exception": false,
     "start_time": "2022-07-13T17:46:39.549451",
     "status": "completed"
    },
    "tags": []
   },
   "outputs": [
    {
     "name": "stdout",
     "output_type": "stream",
     "text": [
      "MVSA-Single with Intermediate Fusion\n",
      "\n",
      "MVSA-Single: resnet50-bert\n"
     ]
    },
    {
     "name": "stderr",
     "output_type": "stream",
     "text": [
      "2022-07-13 17:46:40.360535: I tensorflow/compiler/mlir/mlir_graph_optimization_pass.cc:185] None of the MLIR Optimization Passes are enabled (registered 2)\n"
     ]
    },
    {
     "name": "stdout",
     "output_type": "stream",
     "text": [
      "\n",
      "MVSA-Single: resnet50-bert-lstm\n"
     ]
    },
    {
     "name": "stderr",
     "output_type": "stream",
     "text": [
      "2022-07-13 17:46:50.410159: I tensorflow/stream_executor/cuda/cuda_dnn.cc:369] Loaded cuDNN version 8005\n"
     ]
    },
    {
     "name": "stdout",
     "output_type": "stream",
     "text": [
      "\n",
      "MVSA-Single: densenet201-bert-lstm\n",
      "\n",
      "MVSA-Single: densenet201-bert-pos-lstm\n",
      "\n",
      "MVSA-Single: densenet201-bert-pos-ner-lstm\n",
      "\n",
      "MVSA-Multiple with Intermediate Fusion\n",
      "\n",
      "MVSA-Multiple: resnet50-bert\n",
      "\n",
      "MVSA-Multiple: resnet50-bert-lstm\n",
      "\n",
      "MVSA-Multiple: densenet201-bert-lstm\n",
      "\n",
      "MVSA-Multiple: densenet201-bert-pos-lstm\n",
      "\n",
      "MVSA-Multiple: densenet201-bert-pos-ner-lstm\n",
      "\n"
     ]
    }
   ],
   "source": [
    "print('MVSA-Single with Intermediate Fusion\\n')\n",
    "scores = []\n",
    "for i in range(len(feature_names)):\n",
    "    print('MVSA-Single:', feature_names[i])\n",
    "    if 'lstm' in feature_names[i]:\n",
    "        _, score = run_and_evaluate_IF('single-IF-' + feature_names[i], mvsa_single_features[i][0], mvsa_single_features[i][1], \n",
    "                                     mvsa_single_multimodal_labels,\n",
    "                                     verbose=0)\n",
    "    else:\n",
    "        _, score = run_and_evaluate_IF('single-IF-' + feature_names[i], mvsa_single_features[i][0], mvsa_single_features[i][1],\n",
    "                                     mvsa_single_multimodal_labels,\n",
    "                                     verbose=0, lstm=False)\n",
    "    scores.append(score)\n",
    "    print()\n",
    "df_single_scores_IF = pd.DataFrame(scores, columns=['Loss', 'Accuracy', 'F1-macro', 'F1-weighted'], index=feature_names)\n",
    "\n",
    "\n",
    "print('MVSA-Multiple with Intermediate Fusion\\n')\n",
    "scores = []\n",
    "for i in range(len(feature_names)):\n",
    "    print('MVSA-Multiple:', feature_names[i])\n",
    "    if 'lstm' in feature_names[i]:\n",
    "        _, score = run_and_evaluate_IF('multiple-IF-' + feature_names[i], mvsa_multiple_features[i][0], mvsa_multiple_features[i][1], \n",
    "                                     mvsa_multiple_multimodal_labels,\n",
    "                                     verbose=0)\n",
    "    else:\n",
    "        _, score = run_and_evaluate_IF('multiple-IF-' + feature_names[i], mvsa_multiple_features[i][0], mvsa_multiple_features[i][1],\n",
    "                                     mvsa_multiple_multimodal_labels,\n",
    "                                     verbose=0, lstm=False)\n",
    "    scores.append(score)\n",
    "    print()\n",
    "df_multiple_scores_IF = pd.DataFrame(scores, columns=['Loss', 'Accuracy', 'F1-macro', 'F1-weighted'], index=feature_names)"
   ]
  },
  {
   "cell_type": "markdown",
   "id": "ff17557a",
   "metadata": {
    "papermill": {
     "duration": 0.010091,
     "end_time": "2022-07-13T17:48:52.525093",
     "exception": false,
     "start_time": "2022-07-13T17:48:52.515002",
     "status": "completed"
    },
    "tags": []
   },
   "source": [
    "# Late Fusion"
   ]
  },
  {
   "cell_type": "code",
   "execution_count": 21,
   "id": "94d2783b",
   "metadata": {
    "execution": {
     "iopub.execute_input": "2022-07-13T17:48:52.547833Z",
     "iopub.status.busy": "2022-07-13T17:48:52.547416Z",
     "iopub.status.idle": "2022-07-13T17:51:53.423130Z",
     "shell.execute_reply": "2022-07-13T17:51:53.421857Z"
    },
    "papermill": {
     "duration": 180.900837,
     "end_time": "2022-07-13T17:51:53.436871",
     "exception": false,
     "start_time": "2022-07-13T17:48:52.536034",
     "status": "completed"
    },
    "tags": []
   },
   "outputs": [
    {
     "name": "stdout",
     "output_type": "stream",
     "text": [
      "MVSA-Single with Late Fusion\n",
      "\n",
      "MVSA-Single: resnet50-bert\n",
      "\n",
      "MVSA-Single: resnet50-bert-lstm\n",
      "\n",
      "MVSA-Single: densenet201-bert-lstm\n",
      "\n",
      "MVSA-Single: densenet201-bert-pos-lstm\n",
      "\n",
      "MVSA-Single: densenet201-bert-pos-ner-lstm\n",
      "\n",
      "MVSA-Multiple with Late Fusion\n",
      "\n",
      "MVSA-Multiple: resnet50-bert\n",
      "\n",
      "MVSA-Multiple: resnet50-bert-lstm\n",
      "\n",
      "MVSA-Multiple: densenet201-bert-lstm\n",
      "\n",
      "MVSA-Multiple: densenet201-bert-pos-lstm\n",
      "\n",
      "MVSA-Multiple: densenet201-bert-pos-ner-lstm\n",
      "\n"
     ]
    }
   ],
   "source": [
    "print('MVSA-Single with Late Fusion\\n')\n",
    "scores = []\n",
    "for i in range(len(feature_names)):\n",
    "    print('MVSA-Single:', feature_names[i])\n",
    "    if 'lstm' in feature_names[i]:\n",
    "        score = run_and_evaluate_LF('single-LF-' + feature_names[i], mvsa_single_features[i][0], mvsa_single_features[i][1], \n",
    "                                     mvsa_single_multimodal_labels,\n",
    "                                     verbose=0)\n",
    "    else:\n",
    "        score = run_and_evaluate_LF('single-LF-' + feature_names[i], mvsa_single_features[i][0], mvsa_single_features[i][1],\n",
    "                                     mvsa_single_multimodal_labels,\n",
    "                                     verbose=0, lstm=False)\n",
    "    scores.append(score)\n",
    "    print()\n",
    "df_single_scores_LF = pd.DataFrame(scores, columns=['Accuracy', 'F1-macro', 'F1-weighted'], index=feature_names)\n",
    "\n",
    "\n",
    "print('MVSA-Multiple with Late Fusion\\n')\n",
    "scores = []\n",
    "for i in range(len(feature_names)):\n",
    "    print('MVSA-Multiple:', feature_names[i])\n",
    "    if 'lstm' in feature_names[i]:\n",
    "        score = run_and_evaluate_LF('multiple-LF-' + feature_names[i], mvsa_multiple_features[i][0], mvsa_multiple_features[i][1], \n",
    "                                     mvsa_multiple_multimodal_labels,\n",
    "                                     verbose=0)\n",
    "    else:\n",
    "        score = run_and_evaluate_LF('multiple-LF-' + feature_names[i], mvsa_multiple_features[i][0], mvsa_multiple_features[i][1],\n",
    "                                     mvsa_multiple_multimodal_labels,\n",
    "                                     verbose=0, lstm=False)\n",
    "    scores.append(score)\n",
    "    print()\n",
    "df_multiple_scores_LF = pd.DataFrame(scores, columns=['Accuracy', 'F1-macro', 'F1-weighted'], index=feature_names)"
   ]
  },
  {
   "cell_type": "markdown",
   "id": "f6ba9285",
   "metadata": {
    "papermill": {
     "duration": 0.009774,
     "end_time": "2022-07-13T17:51:53.457394",
     "exception": false,
     "start_time": "2022-07-13T17:51:53.447620",
     "status": "completed"
    },
    "tags": []
   },
   "source": [
    "# Hybrid Fusion"
   ]
  },
  {
   "cell_type": "code",
   "execution_count": 22,
   "id": "f2a23f97",
   "metadata": {
    "execution": {
     "iopub.execute_input": "2022-07-13T17:51:53.478778Z",
     "iopub.status.busy": "2022-07-13T17:51:53.478413Z",
     "iopub.status.idle": "2022-07-13T17:57:57.936348Z",
     "shell.execute_reply": "2022-07-13T17:57:57.935002Z"
    },
    "papermill": {
     "duration": 364.484184,
     "end_time": "2022-07-13T17:57:57.951595",
     "exception": false,
     "start_time": "2022-07-13T17:51:53.467411",
     "status": "completed"
    },
    "tags": []
   },
   "outputs": [
    {
     "name": "stdout",
     "output_type": "stream",
     "text": [
      "MVSA-Single with Hybrid Fusion\n",
      "\n",
      "MVSA-Single: resnet50-bert\n",
      "\n",
      "MVSA-Single: resnet50-bert-lstm\n",
      "\n",
      "MVSA-Single: densenet201-bert-lstm\n",
      "\n",
      "MVSA-Single: densenet201-bert-pos-lstm\n",
      "\n",
      "MVSA-Single: densenet201-bert-pos-ner-lstm\n",
      "\n",
      "MVSA-Multiple with Hybrid Fusion\n",
      "\n",
      "MVSA-Multiple: resnet50-bert\n",
      "\n",
      "MVSA-Multiple: resnet50-bert-lstm\n",
      "\n",
      "MVSA-Multiple: densenet201-bert-lstm\n",
      "\n",
      "MVSA-Multiple: densenet201-bert-pos-lstm\n",
      "\n",
      "MVSA-Multiple: densenet201-bert-pos-ner-lstm\n",
      "\n"
     ]
    }
   ],
   "source": [
    "print('MVSA-Single with Hybrid Fusion\\n')\n",
    "scores = []\n",
    "for i in range(len(feature_names)):\n",
    "    print('MVSA-Single:', feature_names[i])\n",
    "    if 'lstm' in feature_names[i]:\n",
    "        score = run_and_evaluate_HF('single-HF-' + feature_names[i], mvsa_single_features[i][0], mvsa_single_features[i][1], \n",
    "                                     mvsa_single_multimodal_labels,\n",
    "                                     verbose=0)\n",
    "    else:\n",
    "        score = run_and_evaluate_HF('single-HF-' + feature_names[i], mvsa_single_features[i][0], mvsa_single_features[i][1],\n",
    "                                     mvsa_single_multimodal_labels,\n",
    "                                     verbose=0, lstm=False)\n",
    "    scores.append(score)\n",
    "    print()\n",
    "df_single_scores_HF = pd.DataFrame(scores, columns=['Accuracy', 'F1-macro', 'F1-weighted'], index=feature_names)\n",
    "\n",
    "\n",
    "print('MVSA-Multiple with Hybrid Fusion\\n')\n",
    "scores = []\n",
    "for i in range(len(feature_names)):\n",
    "    print('MVSA-Multiple:', feature_names[i])\n",
    "    if 'lstm' in feature_names[i]:\n",
    "        score = run_and_evaluate_HF('multiple-HF-' + feature_names[i], mvsa_multiple_features[i][0], mvsa_multiple_features[i][1], \n",
    "                                     mvsa_multiple_multimodal_labels,\n",
    "                                     verbose=0)\n",
    "    else:\n",
    "        score = run_and_evaluate_HF('multiple-HF-' + feature_names[i], mvsa_multiple_features[i][0], mvsa_multiple_features[i][1],\n",
    "                                     mvsa_multiple_multimodal_labels,\n",
    "                                     verbose=0, lstm=False)\n",
    "    scores.append(score)\n",
    "    print()\n",
    "df_multiple_scores_HF = pd.DataFrame(scores, columns=['Accuracy', 'F1-macro', 'F1-weighted'], index=feature_names)"
   ]
  },
  {
   "cell_type": "markdown",
   "id": "25bbf108",
   "metadata": {
    "papermill": {
     "duration": 0.011375,
     "end_time": "2022-07-13T17:57:57.974989",
     "exception": false,
     "start_time": "2022-07-13T17:57:57.963614",
     "status": "completed"
    },
    "tags": []
   },
   "source": [
    "# Display results"
   ]
  },
  {
   "cell_type": "code",
   "execution_count": 23,
   "id": "b426e112",
   "metadata": {
    "execution": {
     "iopub.execute_input": "2022-07-13T17:57:57.998478Z",
     "iopub.status.busy": "2022-07-13T17:57:57.998129Z",
     "iopub.status.idle": "2022-07-13T17:57:58.013919Z",
     "shell.execute_reply": "2022-07-13T17:57:58.013012Z"
    },
    "papermill": {
     "duration": 0.029794,
     "end_time": "2022-07-13T17:57:58.016188",
     "exception": false,
     "start_time": "2022-07-13T17:57:57.986394",
     "status": "completed"
    },
    "tags": []
   },
   "outputs": [],
   "source": [
    "df_single_scores_IF = df_single_scores_IF.drop(columns=['Loss'])\n",
    "df_multiple_scores_IF = df_multiple_scores_IF.drop(columns=['Loss'])"
   ]
  },
  {
   "cell_type": "code",
   "execution_count": 24,
   "id": "00a054fa",
   "metadata": {
    "execution": {
     "iopub.execute_input": "2022-07-13T17:57:58.042488Z",
     "iopub.status.busy": "2022-07-13T17:57:58.042106Z",
     "iopub.status.idle": "2022-07-13T17:57:58.131937Z",
     "shell.execute_reply": "2022-07-13T17:57:58.130312Z"
    },
    "papermill": {
     "duration": 0.107847,
     "end_time": "2022-07-13T17:57:58.136357",
     "exception": false,
     "start_time": "2022-07-13T17:57:58.028510",
     "status": "completed"
    },
    "tags": []
   },
   "outputs": [
    {
     "name": "stdout",
     "output_type": "stream",
     "text": [
      "Intermediate Fusion\n"
     ]
    },
    {
     "data": {
      "text/html": [
       "<table style=\"display:inline\"><tr><td style=\"text-align:center\">MVSA-Single</td><td style=\"text-align:center\">MVSA-Multiple</td></tr><tr><td style=\"vertical-align:top\"> <style type=\"text/css\">\n",
       "#T_08430_row1_col0, #T_08430_row1_col1, #T_08430_row1_col2 {\n",
       "  color: tomato;\n",
       "}\n",
       "#T_08430_row3_col1, #T_08430_row3_col2, #T_08430_row4_col0 {\n",
       "  color: lawngreen;\n",
       "}\n",
       "</style>\n",
       "<table style=\"display:inline\" id=\"T_08430_\">\n",
       "  <thead>\n",
       "    <tr>\n",
       "      <th class=\"blank level0\" >&nbsp;</th>\n",
       "      <th class=\"col_heading level0 col0\" >Accuracy</th>\n",
       "      <th class=\"col_heading level0 col1\" >F1-macro</th>\n",
       "      <th class=\"col_heading level0 col2\" >F1-weighted</th>\n",
       "    </tr>\n",
       "  </thead>\n",
       "  <tbody>\n",
       "    <tr>\n",
       "      <th id=\"T_08430_level0_row0\" class=\"row_heading level0 row0\" >resnet50-bert</th>\n",
       "      <td id=\"T_08430_row0_col0\" class=\"data row0 col0\" >0.620843</td>\n",
       "      <td id=\"T_08430_row0_col1\" class=\"data row0 col1\" >0.409169</td>\n",
       "      <td id=\"T_08430_row0_col2\" class=\"data row0 col2\" >0.574778</td>\n",
       "    </tr>\n",
       "    <tr>\n",
       "      <th id=\"T_08430_level0_row1\" class=\"row_heading level0 row1\" >resnet50-bert-lstm</th>\n",
       "      <td id=\"T_08430_row1_col0\" class=\"data row1 col0\" >0.603104</td>\n",
       "      <td id=\"T_08430_row1_col1\" class=\"data row1 col1\" >0.298064</td>\n",
       "      <td id=\"T_08430_row1_col2\" class=\"data row1 col2\" >0.485074</td>\n",
       "    </tr>\n",
       "    <tr>\n",
       "      <th id=\"T_08430_level0_row2\" class=\"row_heading level0 row2\" >densenet201-bert-lstm</th>\n",
       "      <td id=\"T_08430_row2_col0\" class=\"data row2 col0\" >0.647450</td>\n",
       "      <td id=\"T_08430_row2_col1\" class=\"data row2 col1\" >0.570403</td>\n",
       "      <td id=\"T_08430_row2_col2\" class=\"data row2 col2\" >0.650753</td>\n",
       "    </tr>\n",
       "    <tr>\n",
       "      <th id=\"T_08430_level0_row3\" class=\"row_heading level0 row3\" >densenet201-bert-pos-lstm</th>\n",
       "      <td id=\"T_08430_row3_col0\" class=\"data row3 col0\" >0.658537</td>\n",
       "      <td id=\"T_08430_row3_col1\" class=\"data row3 col1\" >0.595602</td>\n",
       "      <td id=\"T_08430_row3_col2\" class=\"data row3 col2\" >0.667141</td>\n",
       "    </tr>\n",
       "    <tr>\n",
       "      <th id=\"T_08430_level0_row4\" class=\"row_heading level0 row4\" >densenet201-bert-pos-ner-lstm</th>\n",
       "      <td id=\"T_08430_row4_col0\" class=\"data row4 col0\" >0.667406</td>\n",
       "      <td id=\"T_08430_row4_col1\" class=\"data row4 col1\" >0.550988</td>\n",
       "      <td id=\"T_08430_row4_col2\" class=\"data row4 col2\" >0.662002</td>\n",
       "    </tr>\n",
       "  </tbody>\n",
       "</table style=\"display:inline\">\n",
       "</td><td style=\"vertical-align:top\"> <style type=\"text/css\">\n",
       "#T_0138c_row0_col1, #T_0138c_row0_col2, #T_0138c_row1_col0 {\n",
       "  color: tomato;\n",
       "}\n",
       "#T_0138c_row2_col0, #T_0138c_row2_col1, #T_0138c_row2_col2 {\n",
       "  color: lawngreen;\n",
       "}\n",
       "</style>\n",
       "<table style=\"display:inline\" id=\"T_0138c_\">\n",
       "  <thead>\n",
       "    <tr>\n",
       "      <th class=\"blank level0\" >&nbsp;</th>\n",
       "      <th class=\"col_heading level0 col0\" >Accuracy</th>\n",
       "      <th class=\"col_heading level0 col1\" >F1-macro</th>\n",
       "      <th class=\"col_heading level0 col2\" >F1-weighted</th>\n",
       "    </tr>\n",
       "  </thead>\n",
       "  <tbody>\n",
       "    <tr>\n",
       "      <th id=\"T_0138c_level0_row0\" class=\"row_heading level0 row0\" >resnet50-bert</th>\n",
       "      <td id=\"T_0138c_row0_col0\" class=\"data row0 col0\" >0.631022</td>\n",
       "      <td id=\"T_0138c_row0_col1\" class=\"data row0 col1\" >0.331808</td>\n",
       "      <td id=\"T_0138c_row0_col2\" class=\"data row0 col2\" >0.529627</td>\n",
       "    </tr>\n",
       "    <tr>\n",
       "      <th id=\"T_0138c_level0_row1\" class=\"row_heading level0 row1\" >resnet50-bert-lstm</th>\n",
       "      <td id=\"T_0138c_row1_col0\" class=\"data row1 col0\" >0.605758</td>\n",
       "      <td id=\"T_0138c_row1_col1\" class=\"data row1 col1\" >0.332368</td>\n",
       "      <td id=\"T_0138c_row1_col2\" class=\"data row1 col2\" >0.539893</td>\n",
       "    </tr>\n",
       "    <tr>\n",
       "      <th id=\"T_0138c_level0_row2\" class=\"row_heading level0 row2\" >densenet201-bert-lstm</th>\n",
       "      <td id=\"T_0138c_row2_col0\" class=\"data row2 col0\" >0.663925</td>\n",
       "      <td id=\"T_0138c_row2_col1\" class=\"data row2 col1\" >0.505119</td>\n",
       "      <td id=\"T_0138c_row2_col2\" class=\"data row2 col2\" >0.651158</td>\n",
       "    </tr>\n",
       "    <tr>\n",
       "      <th id=\"T_0138c_level0_row3\" class=\"row_heading level0 row3\" >densenet201-bert-pos-lstm</th>\n",
       "      <td id=\"T_0138c_row3_col0\" class=\"data row3 col0\" >0.631610</td>\n",
       "      <td id=\"T_0138c_row3_col1\" class=\"data row3 col1\" >0.434255</td>\n",
       "      <td id=\"T_0138c_row3_col2\" class=\"data row3 col2\" >0.594534</td>\n",
       "    </tr>\n",
       "    <tr>\n",
       "      <th id=\"T_0138c_level0_row4\" class=\"row_heading level0 row4\" >densenet201-bert-pos-ner-lstm</th>\n",
       "      <td id=\"T_0138c_row4_col0\" class=\"data row4 col0\" >0.650999</td>\n",
       "      <td id=\"T_0138c_row4_col1\" class=\"data row4 col1\" >0.460039</td>\n",
       "      <td id=\"T_0138c_row4_col2\" class=\"data row4 col2\" >0.601190</td>\n",
       "    </tr>\n",
       "  </tbody>\n",
       "</table style=\"display:inline\">\n",
       "</td></tr></table style=\"display:inline\">"
      ]
     },
     "metadata": {},
     "output_type": "display_data"
    }
   ],
   "source": [
    "print('Intermediate Fusion')\n",
    "display_dataframes((style_dataframe(df_single_scores_IF), style_dataframe(df_multiple_scores_IF)), \n",
    "                   names=['MVSA-Single', 'MVSA-Multiple'])"
   ]
  },
  {
   "cell_type": "code",
   "execution_count": 25,
   "id": "0d6f704c",
   "metadata": {
    "execution": {
     "iopub.execute_input": "2022-07-13T17:57:58.163512Z",
     "iopub.status.busy": "2022-07-13T17:57:58.163144Z",
     "iopub.status.idle": "2022-07-13T17:57:58.196329Z",
     "shell.execute_reply": "2022-07-13T17:57:58.195093Z"
    },
    "papermill": {
     "duration": 0.049462,
     "end_time": "2022-07-13T17:57:58.198819",
     "exception": false,
     "start_time": "2022-07-13T17:57:58.149357",
     "status": "completed"
    },
    "tags": []
   },
   "outputs": [
    {
     "name": "stdout",
     "output_type": "stream",
     "text": [
      "Late Fusion with Multimodal Labels\n"
     ]
    },
    {
     "data": {
      "text/html": [
       "<table style=\"display:inline\"><tr><td style=\"text-align:center\">MVSA-Single</td><td style=\"text-align:center\">MVSA-Multiple</td></tr><tr><td style=\"vertical-align:top\"> <style type=\"text/css\">\n",
       "#T_fd2e6_row0_col0, #T_fd2e6_row0_col1, #T_fd2e6_row1_col2 {\n",
       "  color: tomato;\n",
       "}\n",
       "#T_fd2e6_row2_col0, #T_fd2e6_row3_col1, #T_fd2e6_row3_col2 {\n",
       "  color: lawngreen;\n",
       "}\n",
       "</style>\n",
       "<table style=\"display:inline\" id=\"T_fd2e6_\">\n",
       "  <thead>\n",
       "    <tr>\n",
       "      <th class=\"blank level0\" >&nbsp;</th>\n",
       "      <th class=\"col_heading level0 col0\" >Accuracy</th>\n",
       "      <th class=\"col_heading level0 col1\" >F1-macro</th>\n",
       "      <th class=\"col_heading level0 col2\" >F1-weighted</th>\n",
       "    </tr>\n",
       "  </thead>\n",
       "  <tbody>\n",
       "    <tr>\n",
       "      <th id=\"T_fd2e6_level0_row0\" class=\"row_heading level0 row0\" >resnet50-bert</th>\n",
       "      <td id=\"T_fd2e6_row0_col0\" class=\"data row0 col0\" >0.616408</td>\n",
       "      <td id=\"T_fd2e6_row0_col1\" class=\"data row0 col1\" >0.506338</td>\n",
       "      <td id=\"T_fd2e6_row0_col2\" class=\"data row0 col2\" >0.636038</td>\n",
       "    </tr>\n",
       "    <tr>\n",
       "      <th id=\"T_fd2e6_level0_row1\" class=\"row_heading level0 row1\" >resnet50-bert-lstm</th>\n",
       "      <td id=\"T_fd2e6_row1_col0\" class=\"data row1 col0\" >0.638581</td>\n",
       "      <td id=\"T_fd2e6_row1_col1\" class=\"data row1 col1\" >0.512143</td>\n",
       "      <td id=\"T_fd2e6_row1_col2\" class=\"data row1 col2\" >0.613771</td>\n",
       "    </tr>\n",
       "    <tr>\n",
       "      <th id=\"T_fd2e6_level0_row2\" class=\"row_heading level0 row2\" >densenet201-bert-lstm</th>\n",
       "      <td id=\"T_fd2e6_row2_col0\" class=\"data row2 col0\" >0.716186</td>\n",
       "      <td id=\"T_fd2e6_row2_col1\" class=\"data row2 col1\" >0.580353</td>\n",
       "      <td id=\"T_fd2e6_row2_col2\" class=\"data row2 col2\" >0.700333</td>\n",
       "    </tr>\n",
       "    <tr>\n",
       "      <th id=\"T_fd2e6_level0_row3\" class=\"row_heading level0 row3\" >densenet201-bert-pos-lstm</th>\n",
       "      <td id=\"T_fd2e6_row3_col0\" class=\"data row3 col0\" >0.709534</td>\n",
       "      <td id=\"T_fd2e6_row3_col1\" class=\"data row3 col1\" >0.602597</td>\n",
       "      <td id=\"T_fd2e6_row3_col2\" class=\"data row3 col2\" >0.701772</td>\n",
       "    </tr>\n",
       "    <tr>\n",
       "      <th id=\"T_fd2e6_level0_row4\" class=\"row_heading level0 row4\" >densenet201-bert-pos-ner-lstm</th>\n",
       "      <td id=\"T_fd2e6_row4_col0\" class=\"data row4 col0\" >0.674058</td>\n",
       "      <td id=\"T_fd2e6_row4_col1\" class=\"data row4 col1\" >0.564424</td>\n",
       "      <td id=\"T_fd2e6_row4_col2\" class=\"data row4 col2\" >0.671875</td>\n",
       "    </tr>\n",
       "  </tbody>\n",
       "</table style=\"display:inline\">\n",
       "</td><td style=\"vertical-align:top\"> <style type=\"text/css\">\n",
       "#T_bc494_row1_col1, #T_bc494_row1_col2, #T_bc494_row2_col0 {\n",
       "  color: tomato;\n",
       "}\n",
       "#T_bc494_row3_col0, #T_bc494_row3_col2, #T_bc494_row4_col1 {\n",
       "  color: lawngreen;\n",
       "}\n",
       "</style>\n",
       "<table style=\"display:inline\" id=\"T_bc494_\">\n",
       "  <thead>\n",
       "    <tr>\n",
       "      <th class=\"blank level0\" >&nbsp;</th>\n",
       "      <th class=\"col_heading level0 col0\" >Accuracy</th>\n",
       "      <th class=\"col_heading level0 col1\" >F1-macro</th>\n",
       "      <th class=\"col_heading level0 col2\" >F1-weighted</th>\n",
       "    </tr>\n",
       "  </thead>\n",
       "  <tbody>\n",
       "    <tr>\n",
       "      <th id=\"T_bc494_level0_row0\" class=\"row_heading level0 row0\" >resnet50-bert</th>\n",
       "      <td id=\"T_bc494_row0_col0\" class=\"data row0 col0\" >0.656874</td>\n",
       "      <td id=\"T_bc494_row0_col1\" class=\"data row0 col1\" >0.463830</td>\n",
       "      <td id=\"T_bc494_row0_col2\" class=\"data row0 col2\" >0.605609</td>\n",
       "    </tr>\n",
       "    <tr>\n",
       "      <th id=\"T_bc494_level0_row1\" class=\"row_heading level0 row1\" >resnet50-bert-lstm</th>\n",
       "      <td id=\"T_bc494_row1_col0\" class=\"data row1 col0\" >0.666863</td>\n",
       "      <td id=\"T_bc494_row1_col1\" class=\"data row1 col1\" >0.447764</td>\n",
       "      <td id=\"T_bc494_row1_col2\" class=\"data row1 col2\" >0.602089</td>\n",
       "    </tr>\n",
       "    <tr>\n",
       "      <th id=\"T_bc494_level0_row2\" class=\"row_heading level0 row2\" >densenet201-bert-lstm</th>\n",
       "      <td id=\"T_bc494_row2_col0\" class=\"data row2 col0\" >0.651586</td>\n",
       "      <td id=\"T_bc494_row2_col1\" class=\"data row2 col1\" >0.461240</td>\n",
       "      <td id=\"T_bc494_row2_col2\" class=\"data row2 col2\" >0.611033</td>\n",
       "    </tr>\n",
       "    <tr>\n",
       "      <th id=\"T_bc494_level0_row3\" class=\"row_heading level0 row3\" >densenet201-bert-pos-lstm</th>\n",
       "      <td id=\"T_bc494_row3_col0\" class=\"data row3 col0\" >0.674501</td>\n",
       "      <td id=\"T_bc494_row3_col1\" class=\"data row3 col1\" >0.448708</td>\n",
       "      <td id=\"T_bc494_row3_col2\" class=\"data row3 col2\" >0.618604</td>\n",
       "    </tr>\n",
       "    <tr>\n",
       "      <th id=\"T_bc494_level0_row4\" class=\"row_heading level0 row4\" >densenet201-bert-pos-ner-lstm</th>\n",
       "      <td id=\"T_bc494_row4_col0\" class=\"data row4 col0\" >0.667450</td>\n",
       "      <td id=\"T_bc494_row4_col1\" class=\"data row4 col1\" >0.464075</td>\n",
       "      <td id=\"T_bc494_row4_col2\" class=\"data row4 col2\" >0.610363</td>\n",
       "    </tr>\n",
       "  </tbody>\n",
       "</table style=\"display:inline\">\n",
       "</td></tr></table style=\"display:inline\">"
      ]
     },
     "metadata": {},
     "output_type": "display_data"
    }
   ],
   "source": [
    "print('Late Fusion with Multimodal Labels')\n",
    "display_dataframes((style_dataframe(df_single_scores_LF), style_dataframe(df_multiple_scores_LF)), \n",
    "                   names=['MVSA-Single', 'MVSA-Multiple'])"
   ]
  },
  {
   "cell_type": "code",
   "execution_count": 26,
   "id": "3d6f6691",
   "metadata": {
    "execution": {
     "iopub.execute_input": "2022-07-13T17:57:58.225978Z",
     "iopub.status.busy": "2022-07-13T17:57:58.224209Z",
     "iopub.status.idle": "2022-07-13T17:57:58.261873Z",
     "shell.execute_reply": "2022-07-13T17:57:58.260882Z"
    },
    "papermill": {
     "duration": 0.053466,
     "end_time": "2022-07-13T17:57:58.264069",
     "exception": false,
     "start_time": "2022-07-13T17:57:58.210603",
     "status": "completed"
    },
    "tags": []
   },
   "outputs": [
    {
     "name": "stdout",
     "output_type": "stream",
     "text": [
      "Hybrid Fusion with Multimodal Labels\n"
     ]
    },
    {
     "data": {
      "text/html": [
       "<table style=\"display:inline\"><tr><td style=\"text-align:center\">MVSA-Single</td><td style=\"text-align:center\">MVSA-Multiple</td></tr><tr><td style=\"vertical-align:top\"> <style type=\"text/css\">\n",
       "#T_9916c_row0_col0, #T_9916c_row0_col1, #T_9916c_row1_col2 {\n",
       "  color: tomato;\n",
       "}\n",
       "#T_9916c_row2_col1, #T_9916c_row2_col2, #T_9916c_row4_col0 {\n",
       "  color: lawngreen;\n",
       "}\n",
       "</style>\n",
       "<table style=\"display:inline\" id=\"T_9916c_\">\n",
       "  <thead>\n",
       "    <tr>\n",
       "      <th class=\"blank level0\" >&nbsp;</th>\n",
       "      <th class=\"col_heading level0 col0\" >Accuracy</th>\n",
       "      <th class=\"col_heading level0 col1\" >F1-macro</th>\n",
       "      <th class=\"col_heading level0 col2\" >F1-weighted</th>\n",
       "    </tr>\n",
       "  </thead>\n",
       "  <tbody>\n",
       "    <tr>\n",
       "      <th id=\"T_9916c_level0_row0\" class=\"row_heading level0 row0\" >resnet50-bert</th>\n",
       "      <td id=\"T_9916c_row0_col0\" class=\"data row0 col0\" >0.647450</td>\n",
       "      <td id=\"T_9916c_row0_col1\" class=\"data row0 col1\" >0.502878</td>\n",
       "      <td id=\"T_9916c_row0_col2\" class=\"data row0 col2\" >0.648320</td>\n",
       "    </tr>\n",
       "    <tr>\n",
       "      <th id=\"T_9916c_level0_row1\" class=\"row_heading level0 row1\" >resnet50-bert-lstm</th>\n",
       "      <td id=\"T_9916c_row1_col0\" class=\"data row1 col0\" >0.649667</td>\n",
       "      <td id=\"T_9916c_row1_col1\" class=\"data row1 col1\" >0.535987</td>\n",
       "      <td id=\"T_9916c_row1_col2\" class=\"data row1 col2\" >0.629984</td>\n",
       "    </tr>\n",
       "    <tr>\n",
       "      <th id=\"T_9916c_level0_row2\" class=\"row_heading level0 row2\" >densenet201-bert-lstm</th>\n",
       "      <td id=\"T_9916c_row2_col0\" class=\"data row2 col0\" >0.694013</td>\n",
       "      <td id=\"T_9916c_row2_col1\" class=\"data row2 col1\" >0.619273</td>\n",
       "      <td id=\"T_9916c_row2_col2\" class=\"data row2 col2\" >0.691946</td>\n",
       "    </tr>\n",
       "    <tr>\n",
       "      <th id=\"T_9916c_level0_row3\" class=\"row_heading level0 row3\" >densenet201-bert-pos-lstm</th>\n",
       "      <td id=\"T_9916c_row3_col0\" class=\"data row3 col0\" >0.698448</td>\n",
       "      <td id=\"T_9916c_row3_col1\" class=\"data row3 col1\" >0.557379</td>\n",
       "      <td id=\"T_9916c_row3_col2\" class=\"data row3 col2\" >0.690080</td>\n",
       "    </tr>\n",
       "    <tr>\n",
       "      <th id=\"T_9916c_level0_row4\" class=\"row_heading level0 row4\" >densenet201-bert-pos-ner-lstm</th>\n",
       "      <td id=\"T_9916c_row4_col0\" class=\"data row4 col0\" >0.700665</td>\n",
       "      <td id=\"T_9916c_row4_col1\" class=\"data row4 col1\" >0.586465</td>\n",
       "      <td id=\"T_9916c_row4_col2\" class=\"data row4 col2\" >0.690477</td>\n",
       "    </tr>\n",
       "  </tbody>\n",
       "</table style=\"display:inline\">\n",
       "</td><td style=\"vertical-align:top\"> <style type=\"text/css\">\n",
       "#T_9d473_row0_col0, #T_9d473_row0_col2, #T_9d473_row1_col1 {\n",
       "  color: tomato;\n",
       "}\n",
       "#T_9d473_row2_col0, #T_9d473_row2_col1, #T_9d473_row4_col0, #T_9d473_row4_col2 {\n",
       "  color: lawngreen;\n",
       "}\n",
       "</style>\n",
       "<table style=\"display:inline\" id=\"T_9d473_\">\n",
       "  <thead>\n",
       "    <tr>\n",
       "      <th class=\"blank level0\" >&nbsp;</th>\n",
       "      <th class=\"col_heading level0 col0\" >Accuracy</th>\n",
       "      <th class=\"col_heading level0 col1\" >F1-macro</th>\n",
       "      <th class=\"col_heading level0 col2\" >F1-weighted</th>\n",
       "    </tr>\n",
       "  </thead>\n",
       "  <tbody>\n",
       "    <tr>\n",
       "      <th id=\"T_9d473_level0_row0\" class=\"row_heading level0 row0\" >resnet50-bert</th>\n",
       "      <td id=\"T_9d473_row0_col0\" class=\"data row0 col0\" >0.659224</td>\n",
       "      <td id=\"T_9d473_row0_col1\" class=\"data row0 col1\" >0.461517</td>\n",
       "      <td id=\"T_9d473_row0_col2\" class=\"data row0 col2\" >0.594775</td>\n",
       "    </tr>\n",
       "    <tr>\n",
       "      <th id=\"T_9d473_level0_row1\" class=\"row_heading level0 row1\" >resnet50-bert-lstm</th>\n",
       "      <td id=\"T_9d473_row1_col0\" class=\"data row1 col0\" >0.669213</td>\n",
       "      <td id=\"T_9d473_row1_col1\" class=\"data row1 col1\" >0.450969</td>\n",
       "      <td id=\"T_9d473_row1_col2\" class=\"data row1 col2\" >0.613906</td>\n",
       "    </tr>\n",
       "    <tr>\n",
       "      <th id=\"T_9d473_level0_row2\" class=\"row_heading level0 row2\" >densenet201-bert-lstm</th>\n",
       "      <td id=\"T_9d473_row2_col0\" class=\"data row2 col0\" >0.685664</td>\n",
       "      <td id=\"T_9d473_row2_col1\" class=\"data row2 col1\" >0.510659</td>\n",
       "      <td id=\"T_9d473_row2_col2\" class=\"data row2 col2\" >0.644120</td>\n",
       "    </tr>\n",
       "    <tr>\n",
       "      <th id=\"T_9d473_level0_row3\" class=\"row_heading level0 row3\" >densenet201-bert-pos-lstm</th>\n",
       "      <td id=\"T_9d473_row3_col0\" class=\"data row3 col0\" >0.675676</td>\n",
       "      <td id=\"T_9d473_row3_col1\" class=\"data row3 col1\" >0.455251</td>\n",
       "      <td id=\"T_9d473_row3_col2\" class=\"data row3 col2\" >0.619132</td>\n",
       "    </tr>\n",
       "    <tr>\n",
       "      <th id=\"T_9d473_level0_row4\" class=\"row_heading level0 row4\" >densenet201-bert-pos-ner-lstm</th>\n",
       "      <td id=\"T_9d473_row4_col0\" class=\"data row4 col0\" >0.685664</td>\n",
       "      <td id=\"T_9d473_row4_col1\" class=\"data row4 col1\" >0.495595</td>\n",
       "      <td id=\"T_9d473_row4_col2\" class=\"data row4 col2\" >0.647483</td>\n",
       "    </tr>\n",
       "  </tbody>\n",
       "</table style=\"display:inline\">\n",
       "</td></tr></table style=\"display:inline\">"
      ]
     },
     "metadata": {},
     "output_type": "display_data"
    }
   ],
   "source": [
    "print('Hybrid Fusion with Multimodal Labels')\n",
    "display_dataframes((style_dataframe(df_single_scores_HF), style_dataframe(df_multiple_scores_HF)), \n",
    "                   names=['MVSA-Single', 'MVSA-Multiple'])"
   ]
  },
  {
   "cell_type": "code",
   "execution_count": 27,
   "id": "2caf91bf",
   "metadata": {
    "execution": {
     "iopub.execute_input": "2022-07-13T17:57:58.290800Z",
     "iopub.status.busy": "2022-07-13T17:57:58.290476Z",
     "iopub.status.idle": "2022-07-13T17:57:58.301700Z",
     "shell.execute_reply": "2022-07-13T17:57:58.300693Z"
    },
    "papermill": {
     "duration": 0.027509,
     "end_time": "2022-07-13T17:57:58.304060",
     "exception": false,
     "start_time": "2022-07-13T17:57:58.276551",
     "status": "completed"
    },
    "tags": []
   },
   "outputs": [],
   "source": [
    "# get max values of late and intermediate fusion\n",
    "df_single_higher_fusion = pd.DataFrame(np.where(df_single_scores_LF.gt(df_single_scores_IF.values), df_single_scores_LF.values, df_single_scores_IF.values),\n",
    "                 columns=['Accuracy','F1-macro','F1-weighted'], index=feature_names)\n",
    "\n",
    "df_multiple_higher_fusion = pd.DataFrame(np.where(df_single_scores_LF.gt(df_single_scores_IF.values), df_multiple_scores_LF.values, df_multiple_scores_IF.values),\n",
    "                 columns=['Accuracy','F1-macro','F1-weighted'], index=feature_names)\n",
    "\n",
    "df_single_subtract = df_single_scores_HF.subtract(df_single_higher_fusion)\n",
    "df_multiple_subtract = df_multiple_scores_HF.subtract(df_multiple_higher_fusion)"
   ]
  },
  {
   "cell_type": "code",
   "execution_count": 28,
   "id": "29630bea",
   "metadata": {
    "execution": {
     "iopub.execute_input": "2022-07-13T17:57:58.332830Z",
     "iopub.status.busy": "2022-07-13T17:57:58.332432Z",
     "iopub.status.idle": "2022-07-13T17:57:58.353218Z",
     "shell.execute_reply": "2022-07-13T17:57:58.351981Z"
    },
    "papermill": {
     "duration": 0.03851,
     "end_time": "2022-07-13T17:57:58.355922",
     "exception": false,
     "start_time": "2022-07-13T17:57:58.317412",
     "status": "completed"
    },
    "tags": []
   },
   "outputs": [
    {
     "name": "stdout",
     "output_type": "stream",
     "text": [
      "Compare Hybrid Fusion scores up\n"
     ]
    },
    {
     "data": {
      "text/html": [
       "<table style=\"display:inline\"><tr><td style=\"text-align:center\">MVSA-Single</td><td style=\"text-align:center\">MVSA-Multiple</td></tr><tr><td style=\"vertical-align:top\"> <style type=\"text/css\">\n",
       "#T_bb765_row0_col0, #T_bb765_row0_col2, #T_bb765_row1_col0, #T_bb765_row1_col1, #T_bb765_row1_col2, #T_bb765_row2_col1, #T_bb765_row4_col0, #T_bb765_row4_col1, #T_bb765_row4_col2 {\n",
       "  color: lawngreen;\n",
       "}\n",
       "#T_bb765_row0_col1, #T_bb765_row2_col0, #T_bb765_row2_col2, #T_bb765_row3_col0, #T_bb765_row3_col1, #T_bb765_row3_col2 {\n",
       "  color: tomato;\n",
       "}\n",
       "</style>\n",
       "<table style=\"display:inline\" id=\"T_bb765_\">\n",
       "  <thead>\n",
       "    <tr>\n",
       "      <th class=\"blank level0\" >&nbsp;</th>\n",
       "      <th class=\"col_heading level0 col0\" >Accuracy</th>\n",
       "      <th class=\"col_heading level0 col1\" >F1-macro</th>\n",
       "      <th class=\"col_heading level0 col2\" >F1-weighted</th>\n",
       "    </tr>\n",
       "  </thead>\n",
       "  <tbody>\n",
       "    <tr>\n",
       "      <th id=\"T_bb765_level0_row0\" class=\"row_heading level0 row0\" >resnet50-bert</th>\n",
       "      <td id=\"T_bb765_row0_col0\" class=\"data row0 col0\" >0.026608</td>\n",
       "      <td id=\"T_bb765_row0_col1\" class=\"data row0 col1\" >-0.003461</td>\n",
       "      <td id=\"T_bb765_row0_col2\" class=\"data row0 col2\" >0.012282</td>\n",
       "    </tr>\n",
       "    <tr>\n",
       "      <th id=\"T_bb765_level0_row1\" class=\"row_heading level0 row1\" >resnet50-bert-lstm</th>\n",
       "      <td id=\"T_bb765_row1_col0\" class=\"data row1 col0\" >0.011086</td>\n",
       "      <td id=\"T_bb765_row1_col1\" class=\"data row1 col1\" >0.023844</td>\n",
       "      <td id=\"T_bb765_row1_col2\" class=\"data row1 col2\" >0.016213</td>\n",
       "    </tr>\n",
       "    <tr>\n",
       "      <th id=\"T_bb765_level0_row2\" class=\"row_heading level0 row2\" >densenet201-bert-lstm</th>\n",
       "      <td id=\"T_bb765_row2_col0\" class=\"data row2 col0\" >-0.022173</td>\n",
       "      <td id=\"T_bb765_row2_col1\" class=\"data row2 col1\" >0.038919</td>\n",
       "      <td id=\"T_bb765_row2_col2\" class=\"data row2 col2\" >-0.008386</td>\n",
       "    </tr>\n",
       "    <tr>\n",
       "      <th id=\"T_bb765_level0_row3\" class=\"row_heading level0 row3\" >densenet201-bert-pos-lstm</th>\n",
       "      <td id=\"T_bb765_row3_col0\" class=\"data row3 col0\" >-0.011086</td>\n",
       "      <td id=\"T_bb765_row3_col1\" class=\"data row3 col1\" >-0.045218</td>\n",
       "      <td id=\"T_bb765_row3_col2\" class=\"data row3 col2\" >-0.011692</td>\n",
       "    </tr>\n",
       "    <tr>\n",
       "      <th id=\"T_bb765_level0_row4\" class=\"row_heading level0 row4\" >densenet201-bert-pos-ner-lstm</th>\n",
       "      <td id=\"T_bb765_row4_col0\" class=\"data row4 col0\" >0.026608</td>\n",
       "      <td id=\"T_bb765_row4_col1\" class=\"data row4 col1\" >0.022041</td>\n",
       "      <td id=\"T_bb765_row4_col2\" class=\"data row4 col2\" >0.018603</td>\n",
       "    </tr>\n",
       "  </tbody>\n",
       "</table style=\"display:inline\">\n",
       "</td><td style=\"vertical-align:top\"> <style type=\"text/css\">\n",
       "#T_01d7d_row0_col0, #T_01d7d_row1_col0, #T_01d7d_row1_col1, #T_01d7d_row1_col2, #T_01d7d_row2_col0, #T_01d7d_row2_col1, #T_01d7d_row2_col2, #T_01d7d_row3_col0, #T_01d7d_row3_col1, #T_01d7d_row3_col2, #T_01d7d_row4_col0, #T_01d7d_row4_col1, #T_01d7d_row4_col2 {\n",
       "  color: lawngreen;\n",
       "}\n",
       "#T_01d7d_row0_col1, #T_01d7d_row0_col2 {\n",
       "  color: tomato;\n",
       "}\n",
       "</style>\n",
       "<table style=\"display:inline\" id=\"T_01d7d_\">\n",
       "  <thead>\n",
       "    <tr>\n",
       "      <th class=\"blank level0\" >&nbsp;</th>\n",
       "      <th class=\"col_heading level0 col0\" >Accuracy</th>\n",
       "      <th class=\"col_heading level0 col1\" >F1-macro</th>\n",
       "      <th class=\"col_heading level0 col2\" >F1-weighted</th>\n",
       "    </tr>\n",
       "  </thead>\n",
       "  <tbody>\n",
       "    <tr>\n",
       "      <th id=\"T_01d7d_level0_row0\" class=\"row_heading level0 row0\" >resnet50-bert</th>\n",
       "      <td id=\"T_01d7d_row0_col0\" class=\"data row0 col0\" >0.028202</td>\n",
       "      <td id=\"T_01d7d_row0_col1\" class=\"data row0 col1\" >-0.002313</td>\n",
       "      <td id=\"T_01d7d_row0_col2\" class=\"data row0 col2\" >-0.010834</td>\n",
       "    </tr>\n",
       "    <tr>\n",
       "      <th id=\"T_01d7d_level0_row1\" class=\"row_heading level0 row1\" >resnet50-bert-lstm</th>\n",
       "      <td id=\"T_01d7d_row1_col0\" class=\"data row1 col0\" >0.002350</td>\n",
       "      <td id=\"T_01d7d_row1_col1\" class=\"data row1 col1\" >0.003205</td>\n",
       "      <td id=\"T_01d7d_row1_col2\" class=\"data row1 col2\" >0.011817</td>\n",
       "    </tr>\n",
       "    <tr>\n",
       "      <th id=\"T_01d7d_level0_row2\" class=\"row_heading level0 row2\" >densenet201-bert-lstm</th>\n",
       "      <td id=\"T_01d7d_row2_col0\" class=\"data row2 col0\" >0.034078</td>\n",
       "      <td id=\"T_01d7d_row2_col1\" class=\"data row2 col1\" >0.049419</td>\n",
       "      <td id=\"T_01d7d_row2_col2\" class=\"data row2 col2\" >0.033086</td>\n",
       "    </tr>\n",
       "    <tr>\n",
       "      <th id=\"T_01d7d_level0_row3\" class=\"row_heading level0 row3\" >densenet201-bert-pos-lstm</th>\n",
       "      <td id=\"T_01d7d_row3_col0\" class=\"data row3 col0\" >0.001175</td>\n",
       "      <td id=\"T_01d7d_row3_col1\" class=\"data row3 col1\" >0.006542</td>\n",
       "      <td id=\"T_01d7d_row3_col2\" class=\"data row3 col2\" >0.000529</td>\n",
       "    </tr>\n",
       "    <tr>\n",
       "      <th id=\"T_01d7d_level0_row4\" class=\"row_heading level0 row4\" >densenet201-bert-pos-ner-lstm</th>\n",
       "      <td id=\"T_01d7d_row4_col0\" class=\"data row4 col0\" >0.018214</td>\n",
       "      <td id=\"T_01d7d_row4_col1\" class=\"data row4 col1\" >0.031520</td>\n",
       "      <td id=\"T_01d7d_row4_col2\" class=\"data row4 col2\" >0.037120</td>\n",
       "    </tr>\n",
       "  </tbody>\n",
       "</table style=\"display:inline\">\n",
       "</td></tr></table style=\"display:inline\">"
      ]
     },
     "metadata": {},
     "output_type": "display_data"
    }
   ],
   "source": [
    "print('Compare Hybrid Fusion scores up')\n",
    "display_dataframes((df_single_subtract.style.applymap(highlight_neg), df_multiple_subtract.style.applymap(highlight_neg)), \n",
    "                   names=['MVSA-Single', 'MVSA-Multiple'])"
   ]
  },
  {
   "cell_type": "code",
   "execution_count": null,
   "id": "837bbcee",
   "metadata": {
    "papermill": {
     "duration": 0.012091,
     "end_time": "2022-07-13T17:57:58.380509",
     "exception": false,
     "start_time": "2022-07-13T17:57:58.368418",
     "status": "completed"
    },
    "tags": []
   },
   "outputs": [],
   "source": []
  }
 ],
 "metadata": {
  "kernelspec": {
   "display_name": "Python 3",
   "language": "python",
   "name": "python3"
  },
  "language_info": {
   "codemirror_mode": {
    "name": "ipython",
    "version": 3
   },
   "file_extension": ".py",
   "mimetype": "text/x-python",
   "name": "python",
   "nbconvert_exporter": "python",
   "pygments_lexer": "ipython3",
   "version": "3.7.12"
  },
  "papermill": {
   "default_parameters": {},
   "duration": 722.86023,
   "end_time": "2022-07-13T17:58:01.334089",
   "environment_variables": {},
   "exception": null,
   "input_path": "__notebook__.ipynb",
   "output_path": "__notebook__.ipynb",
   "parameters": {},
   "start_time": "2022-07-13T17:45:58.473859",
   "version": "2.3.4"
  }
 },
 "nbformat": 4,
 "nbformat_minor": 5
}
