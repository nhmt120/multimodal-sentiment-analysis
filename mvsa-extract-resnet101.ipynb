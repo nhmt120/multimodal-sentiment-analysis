{
 "cells": [
  {
   "cell_type": "code",
   "execution_count": 1,
   "id": "e28c6f3b",
   "metadata": {
    "_cell_guid": "b1076dfc-b9ad-4769-8c92-a6c4dae69d19",
    "_uuid": "8f2839f25d086af736a60e9eeb907d3b93b6e0e5",
    "execution": {
     "iopub.execute_input": "2022-06-29T16:09:06.986070Z",
     "iopub.status.busy": "2022-06-29T16:09:06.985218Z",
     "iopub.status.idle": "2022-06-29T16:09:22.149346Z",
     "shell.execute_reply": "2022-06-29T16:09:22.147936Z"
    },
    "papermill": {
     "duration": 15.175464,
     "end_time": "2022-06-29T16:09:22.152831",
     "exception": false,
     "start_time": "2022-06-29T16:09:06.977367",
     "status": "completed"
    },
    "tags": []
   },
   "outputs": [],
   "source": [
    "import os\n",
    "import re\n",
    "import gc\n",
    "import cv2\n",
    "import h5py\n",
    "import torch\n",
    "import string\n",
    "import random\n",
    "import numpy as np\n",
    "import tensorflow as tf\n",
    "\n",
    "from tqdm import tqdm\n",
    "from nltk import tokenize\n",
    "from sklearn import preprocessing\n",
    "\n",
    "from keras.preprocessing.text import Tokenizer, text_to_word_sequence\n",
    "from keras.preprocessing.sequence import pad_sequences\n",
    "from keras.utils.np_utils import to_categorical\n",
    "from keras.layers import Rescaling, Resizing\n",
    "from keras import Input\n",
    "from keras.applications.vgg16 import VGG16\n",
    "from keras.applications.vgg19 import VGG19\n",
    "from keras.applications.xception import Xception\n",
    "from tensorflow.keras.applications import ResNet50, ResNet101, ResNet152\n",
    "from transformers import BertTokenizer, BertForMaskedLM, BertModel\n",
    "from tensorflow.keras import Model"
   ]
  },
  {
   "cell_type": "code",
   "execution_count": 2,
   "id": "68be77ec",
   "metadata": {
    "execution": {
     "iopub.execute_input": "2022-06-29T16:09:22.164307Z",
     "iopub.status.busy": "2022-06-29T16:09:22.163457Z",
     "iopub.status.idle": "2022-06-29T16:09:22.169464Z",
     "shell.execute_reply": "2022-06-29T16:09:22.168259Z"
    },
    "papermill": {
     "duration": 0.014048,
     "end_time": "2022-06-29T16:09:22.171651",
     "exception": false,
     "start_time": "2022-06-29T16:09:22.157603",
     "status": "completed"
    },
    "tags": []
   },
   "outputs": [],
   "source": [
    "IMAGE_SIZE = (224, 224)\n",
    "NUM_CHANNELS = 3"
   ]
  },
  {
   "cell_type": "code",
   "execution_count": 3,
   "id": "23127580",
   "metadata": {
    "execution": {
     "iopub.execute_input": "2022-06-29T16:09:22.182461Z",
     "iopub.status.busy": "2022-06-29T16:09:22.181997Z",
     "iopub.status.idle": "2022-06-29T16:09:22.186509Z",
     "shell.execute_reply": "2022-06-29T16:09:22.185725Z"
    },
    "papermill": {
     "duration": 0.012806,
     "end_time": "2022-06-29T16:09:22.188771",
     "exception": false,
     "start_time": "2022-06-29T16:09:22.175965",
     "status": "completed"
    },
    "tags": []
   },
   "outputs": [],
   "source": [
    "mvsa_single_path = '../input/mvsa-data/mvsa-single-4316.hdf5'\n",
    "mvsa_multiple_path = '../input/mvsa-data/mvsa-multiple-16387.hdf5'"
   ]
  },
  {
   "cell_type": "code",
   "execution_count": 4,
   "id": "87563639",
   "metadata": {
    "execution": {
     "iopub.execute_input": "2022-06-29T16:09:22.199684Z",
     "iopub.status.busy": "2022-06-29T16:09:22.198853Z",
     "iopub.status.idle": "2022-06-29T16:09:22.206741Z",
     "shell.execute_reply": "2022-06-29T16:09:22.205684Z"
    },
    "papermill": {
     "duration": 0.016163,
     "end_time": "2022-06-29T16:09:22.209287",
     "exception": false,
     "start_time": "2022-06-29T16:09:22.193124",
     "status": "completed"
    },
    "tags": []
   },
   "outputs": [],
   "source": [
    "def read_hdf5(path):\n",
    "    read_file = h5py.File(path, 'r')\n",
    "    \n",
    "    feature_names = list(read_file.keys())\n",
    "    loaded_data = []\n",
    "    \n",
    "    for name in feature_names:\n",
    "        dataset = read_file[name][:]\n",
    "        if dataset.dtype == np.dtype('object'):\n",
    "            dataset = np.array([x.decode('UTF-8') for x in dataset])            \n",
    "        loaded_data.append((name, dataset))\n",
    "\n",
    "    return loaded_data"
   ]
  },
  {
   "cell_type": "code",
   "execution_count": 5,
   "id": "8dd3d66c",
   "metadata": {
    "execution": {
     "iopub.execute_input": "2022-06-29T16:09:22.220183Z",
     "iopub.status.busy": "2022-06-29T16:09:22.219715Z",
     "iopub.status.idle": "2022-06-29T16:09:22.231031Z",
     "shell.execute_reply": "2022-06-29T16:09:22.230035Z"
    },
    "papermill": {
     "duration": 0.019483,
     "end_time": "2022-06-29T16:09:22.233361",
     "exception": false,
     "start_time": "2022-06-29T16:09:22.213878",
     "status": "completed"
    },
    "tags": []
   },
   "outputs": [],
   "source": [
    "def load_mvsa_data(path, multiple=False):\n",
    "    data = read_hdf5(path)\n",
    "    for x in data:\n",
    "        if x[0] == 'texts':\n",
    "            texts = x[1]\n",
    "        if x[0] == 'images':\n",
    "            images = x[1]\n",
    "        if x[0] == 'multimodal-labels':\n",
    "            labels = x[1]\n",
    "        if x[0] == 'text-labels':\n",
    "            text_labels = x[1]\n",
    "        if x[0] == 'image-labels':\n",
    "            image_labels = x[1]\n",
    "            \n",
    "    if multiple == True:\n",
    "        images_path = os.path.join(os.path.split(path)[0], os.path.split(path)[1].split('.')[0] + '-images.npz')\n",
    "#         npzfile = np.load(images_path)\n",
    "#         images = npzfile['arr_0']\n",
    "        images = loadz(images_path)\n",
    "        \n",
    "    return texts, images, labels, text_labels, image_labels\n",
    "\n",
    "def loadz(path):\n",
    "    data = np.load(path)['arr_0']\n",
    "    return data"
   ]
  },
  {
   "cell_type": "markdown",
   "id": "96131557",
   "metadata": {
    "papermill": {
     "duration": 0.003965,
     "end_time": "2022-06-29T16:09:22.241802",
     "exception": false,
     "start_time": "2022-06-29T16:09:22.237837",
     "status": "completed"
    },
    "tags": []
   },
   "source": [
    "# Load raw data"
   ]
  },
  {
   "cell_type": "code",
   "execution_count": 6,
   "id": "190fa3db",
   "metadata": {
    "execution": {
     "iopub.execute_input": "2022-06-29T16:09:22.252247Z",
     "iopub.status.busy": "2022-06-29T16:09:22.251796Z",
     "iopub.status.idle": "2022-06-29T16:09:51.952011Z",
     "shell.execute_reply": "2022-06-29T16:09:51.949952Z"
    },
    "papermill": {
     "duration": 29.711627,
     "end_time": "2022-06-29T16:09:51.957715",
     "exception": false,
     "start_time": "2022-06-29T16:09:22.246088",
     "status": "completed"
    },
    "tags": []
   },
   "outputs": [],
   "source": [
    "mvsa_single_texts, mvsa_single_images, \\\n",
    "mvsa_single_multimodal_labels, mvsa_single_text_labels, \\\n",
    "mvsa_single_image_labels = load_mvsa_data(mvsa_single_path)\n",
    "num_mvsa_single = len(mvsa_single_texts)\n",
    "\n",
    "mvsa_multiple_texts, mvsa_multiple_images, \\\n",
    "mvsa_multiple_multimodal_labels, mvsa_multiple_text_labels, \\\n",
    "mvsa_multiple_image_labels = load_mvsa_data(mvsa_multiple_path, multiple=True)\n",
    "num_mvsa_multiple = len(mvsa_multiple_texts)"
   ]
  },
  {
   "cell_type": "markdown",
   "id": "8d823035",
   "metadata": {
    "papermill": {
     "duration": 0.004083,
     "end_time": "2022-06-29T16:09:51.968570",
     "exception": false,
     "start_time": "2022-06-29T16:09:51.964487",
     "status": "completed"
    },
    "tags": []
   },
   "source": [
    "# ResNet101"
   ]
  },
  {
   "cell_type": "code",
   "execution_count": 7,
   "id": "c023cb35",
   "metadata": {
    "execution": {
     "iopub.execute_input": "2022-06-29T16:09:51.980211Z",
     "iopub.status.busy": "2022-06-29T16:09:51.979252Z",
     "iopub.status.idle": "2022-06-29T16:09:57.975879Z",
     "shell.execute_reply": "2022-06-29T16:09:57.974420Z"
    },
    "papermill": {
     "duration": 6.006264,
     "end_time": "2022-06-29T16:09:57.978957",
     "exception": false,
     "start_time": "2022-06-29T16:09:51.972693",
     "status": "completed"
    },
    "tags": []
   },
   "outputs": [
    {
     "name": "stderr",
     "output_type": "stream",
     "text": [
      "2022-06-29 16:09:52.102851: I tensorflow/core/common_runtime/process_util.cc:146] Creating new thread pool with default inter op setting: 2. Tune using inter_op_parallelism_threads for best performance.\n"
     ]
    },
    {
     "name": "stdout",
     "output_type": "stream",
     "text": [
      "Downloading data from https://storage.googleapis.com/tensorflow/keras-applications/resnet/resnet101_weights_tf_dim_ordering_tf_kernels.h5\n",
      "179650560/179648224 [==============================] - 2s 0us/step\n",
      "179658752/179648224 [==============================] - 2s 0us/step\n"
     ]
    }
   ],
   "source": [
    "resnet101 = ResNet101(input_shape=(IMAGE_SIZE[0], IMAGE_SIZE[1], NUM_CHANNELS))\n",
    "resnet101.trainable = False # Freeze pre-trained layers\n",
    "resnet101_last = Model(inputs=resnet101.input, outputs=resnet101.layers[-2].output)"
   ]
  },
  {
   "cell_type": "code",
   "execution_count": 8,
   "id": "1f526ab5",
   "metadata": {
    "execution": {
     "iopub.execute_input": "2022-06-29T16:09:57.995032Z",
     "iopub.status.busy": "2022-06-29T16:09:57.993825Z",
     "iopub.status.idle": "2022-06-29T16:09:58.828762Z",
     "shell.execute_reply": "2022-06-29T16:09:58.827207Z"
    },
    "papermill": {
     "duration": 0.845825,
     "end_time": "2022-06-29T16:09:58.831720",
     "exception": false,
     "start_time": "2022-06-29T16:09:57.985895",
     "status": "completed"
    },
    "tags": []
   },
   "outputs": [],
   "source": [
    "# Summary of VGG-19 is hidden\n",
    "image_inputs = Input(shape=(IMAGE_SIZE[0], IMAGE_SIZE[1], NUM_CHANNELS))\n",
    "rescale_layer = Rescaling(scale=1./255.) (image_inputs)  # Rescale inputs\n",
    "outputs = resnet101_last (rescale_layer)\n",
    "model_resnet101 = Model(inputs=image_inputs, outputs=outputs)"
   ]
  },
  {
   "cell_type": "code",
   "execution_count": 9,
   "id": "a20dd106",
   "metadata": {
    "execution": {
     "iopub.execute_input": "2022-06-29T16:09:58.847031Z",
     "iopub.status.busy": "2022-06-29T16:09:58.846531Z",
     "iopub.status.idle": "2022-06-29T16:20:25.200327Z",
     "shell.execute_reply": "2022-06-29T16:20:25.198262Z"
    },
    "papermill": {
     "duration": 626.365297,
     "end_time": "2022-06-29T16:20:25.203582",
     "exception": false,
     "start_time": "2022-06-29T16:09:58.838285",
     "status": "completed"
    },
    "tags": []
   },
   "outputs": [
    {
     "name": "stdout",
     "output_type": "stream",
     "text": [
      "MVSA-Single: Extracting ResNet101 features of images\n"
     ]
    },
    {
     "name": "stderr",
     "output_type": "stream",
     "text": [
      "2022-06-29 16:10:00.111114: I tensorflow/compiler/mlir/mlir_graph_optimization_pass.cc:185] None of the MLIR Optimization Passes are enabled (registered 2)\n"
     ]
    },
    {
     "name": "stdout",
     "output_type": "stream",
     "text": [
      "135/135 [==============================] - 608s 4s/step\n",
      "ResNet101 last hidden layer dimension: 2048\n",
      "MVSA-Single with ResNet101 last hidden layer: (4316, 2048)\n",
      "True\n"
     ]
    }
   ],
   "source": [
    "print('MVSA-Single: Extracting ResNet101 features of images')\n",
    "mvsa_single_resnet101 = model_resnet101.predict(mvsa_single_images, verbose=1)\n",
    "print('ResNet101 last hidden layer dimension:', mvsa_single_resnet101.shape[1])\n",
    "print('MVSA-Single with ResNet101 last hidden layer:', mvsa_single_resnet101.shape)\n",
    "\n",
    "# save and load check\n",
    "np.savez('./mvsa-single-resnet101', mvsa_single_resnet101)\n",
    "x = loadz('./mvsa-single-resnet101.npz')\n",
    "print((x == mvsa_single_resnet101).all())"
   ]
  },
  {
   "cell_type": "code",
   "execution_count": 10,
   "id": "680fcd55",
   "metadata": {
    "execution": {
     "iopub.execute_input": "2022-06-29T16:20:25.240425Z",
     "iopub.status.busy": "2022-06-29T16:20:25.239871Z",
     "iopub.status.idle": "2022-06-29T16:57:55.194144Z",
     "shell.execute_reply": "2022-06-29T16:57:55.192240Z"
    },
    "papermill": {
     "duration": 2249.978375,
     "end_time": "2022-06-29T16:57:55.198438",
     "exception": false,
     "start_time": "2022-06-29T16:20:25.220063",
     "status": "completed"
    },
    "tags": []
   },
   "outputs": [
    {
     "name": "stdout",
     "output_type": "stream",
     "text": [
      "MVSA-Multiple: Extracting ResNet101 features of images\n",
      "513/513 [==============================] - 2243s 4s/step\n",
      "ResNet101 last hidden layer dimension: 2048\n",
      "MVSA-Multiple with ResNet101 last hidden layer: (16387, 2048)\n",
      "True\n"
     ]
    }
   ],
   "source": [
    "print('MVSA-Multiple: Extracting ResNet101 features of images')\n",
    "mvsa_multiple_resnet101 = model_resnet101.predict(mvsa_multiple_images, verbose=1)\n",
    "print('ResNet101 last hidden layer dimension:', mvsa_multiple_resnet101.shape[1])\n",
    "print('MVSA-Multiple with ResNet101 last hidden layer:', mvsa_multiple_resnet101.shape)\n",
    "\n",
    "# save and load check\n",
    "np.savez('./mvsa-multiple-resnet101', mvsa_multiple_resnet101)\n",
    "x = loadz('./mvsa-multiple-resnet101.npz')\n",
    "print((x == mvsa_multiple_resnet101).all())"
   ]
  }
 ],
 "metadata": {
  "kernelspec": {
   "display_name": "Python 3",
   "language": "python",
   "name": "python3"
  },
  "language_info": {
   "codemirror_mode": {
    "name": "ipython",
    "version": 3
   },
   "file_extension": ".py",
   "mimetype": "text/x-python",
   "name": "python",
   "nbconvert_exporter": "python",
   "pygments_lexer": "ipython3",
   "version": "3.7.12"
  },
  "papermill": {
   "default_parameters": {},
   "duration": 2941.992274,
   "end_time": "2022-06-29T16:57:58.311791",
   "environment_variables": {},
   "exception": null,
   "input_path": "__notebook__.ipynb",
   "output_path": "__notebook__.ipynb",
   "parameters": {},
   "start_time": "2022-06-29T16:08:56.319517",
   "version": "2.3.4"
  }
 },
 "nbformat": 4,
 "nbformat_minor": 5
}
