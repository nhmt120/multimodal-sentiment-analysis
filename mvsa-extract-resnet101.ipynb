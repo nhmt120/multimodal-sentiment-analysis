{
 "cells": [
  {
   "cell_type": "code",
   "execution_count": 1,
   "id": "6a7cac7c",
   "metadata": {
    "_cell_guid": "b1076dfc-b9ad-4769-8c92-a6c4dae69d19",
    "_uuid": "8f2839f25d086af736a60e9eeb907d3b93b6e0e5",
    "execution": {
     "iopub.execute_input": "2022-07-03T18:37:34.678053Z",
     "iopub.status.busy": "2022-07-03T18:37:34.677629Z",
     "iopub.status.idle": "2022-07-03T18:37:48.518716Z",
     "shell.execute_reply": "2022-07-03T18:37:48.517830Z"
    },
    "papermill": {
     "duration": 13.849291,
     "end_time": "2022-07-03T18:37:48.521279",
     "exception": false,
     "start_time": "2022-07-03T18:37:34.671988",
     "status": "completed"
    },
    "tags": []
   },
   "outputs": [],
   "source": [
    "import os\n",
    "import re\n",
    "import gc\n",
    "import cv2\n",
    "import h5py\n",
    "import torch\n",
    "import string\n",
    "import random\n",
    "import numpy as np\n",
    "import tensorflow as tf\n",
    "\n",
    "from tqdm import tqdm\n",
    "from nltk import tokenize\n",
    "from sklearn import preprocessing\n",
    "\n",
    "from keras.preprocessing.text import Tokenizer, text_to_word_sequence\n",
    "from keras.preprocessing.sequence import pad_sequences\n",
    "from keras.utils.np_utils import to_categorical\n",
    "from keras.layers import Rescaling, Resizing\n",
    "from keras import Input\n",
    "from keras.applications.vgg16 import VGG16\n",
    "from keras.applications.vgg19 import VGG19\n",
    "from keras.applications.xception import Xception\n",
    "from tensorflow.keras.applications import ResNet50, ResNet101, ResNet152\n",
    "from transformers import BertTokenizer, BertForMaskedLM, BertModel\n",
    "from tensorflow.keras import Model"
   ]
  },
  {
   "cell_type": "code",
   "execution_count": 2,
   "id": "c76846cc",
   "metadata": {
    "execution": {
     "iopub.execute_input": "2022-07-03T18:37:48.534411Z",
     "iopub.status.busy": "2022-07-03T18:37:48.532858Z",
     "iopub.status.idle": "2022-07-03T18:37:48.539347Z",
     "shell.execute_reply": "2022-07-03T18:37:48.538167Z"
    },
    "papermill": {
     "duration": 0.015519,
     "end_time": "2022-07-03T18:37:48.541669",
     "exception": false,
     "start_time": "2022-07-03T18:37:48.526150",
     "status": "completed"
    },
    "tags": []
   },
   "outputs": [],
   "source": [
    "IMAGE_SIZE = (224, 224)\n",
    "NUM_CHANNELS = 3"
   ]
  },
  {
   "cell_type": "code",
   "execution_count": 3,
   "id": "d61884d0",
   "metadata": {
    "execution": {
     "iopub.execute_input": "2022-07-03T18:37:48.550074Z",
     "iopub.status.busy": "2022-07-03T18:37:48.549537Z",
     "iopub.status.idle": "2022-07-03T18:37:48.553438Z",
     "shell.execute_reply": "2022-07-03T18:37:48.552646Z"
    },
    "papermill": {
     "duration": 0.010489,
     "end_time": "2022-07-03T18:37:48.555328",
     "exception": false,
     "start_time": "2022-07-03T18:37:48.544839",
     "status": "completed"
    },
    "tags": []
   },
   "outputs": [],
   "source": [
    "mvsa_single_path = '../input/mvsa-data/mvsa-single-4511.hdf5'\n",
    "mvsa_multiple_path = '../input/mvsa-data/mvsa-multiple-17024.hdf5'"
   ]
  },
  {
   "cell_type": "code",
   "execution_count": 4,
   "id": "d6469d16",
   "metadata": {
    "execution": {
     "iopub.execute_input": "2022-07-03T18:37:48.563617Z",
     "iopub.status.busy": "2022-07-03T18:37:48.562972Z",
     "iopub.status.idle": "2022-07-03T18:37:48.569218Z",
     "shell.execute_reply": "2022-07-03T18:37:48.568281Z"
    },
    "papermill": {
     "duration": 0.013074,
     "end_time": "2022-07-03T18:37:48.571516",
     "exception": false,
     "start_time": "2022-07-03T18:37:48.558442",
     "status": "completed"
    },
    "tags": []
   },
   "outputs": [],
   "source": [
    "def read_hdf5(path):\n",
    "    read_file = h5py.File(path, 'r')\n",
    "    \n",
    "    feature_names = list(read_file.keys())\n",
    "    loaded_data = []\n",
    "    \n",
    "    for name in feature_names:\n",
    "        dataset = read_file[name][:]\n",
    "        if dataset.dtype == np.dtype('object'):\n",
    "            dataset = np.array([x.decode('UTF-8') for x in dataset])            \n",
    "        loaded_data.append((name, dataset))\n",
    "\n",
    "    return loaded_data"
   ]
  },
  {
   "cell_type": "code",
   "execution_count": 5,
   "id": "ee33a300",
   "metadata": {
    "execution": {
     "iopub.execute_input": "2022-07-03T18:37:48.584373Z",
     "iopub.status.busy": "2022-07-03T18:37:48.583185Z",
     "iopub.status.idle": "2022-07-03T18:37:48.593869Z",
     "shell.execute_reply": "2022-07-03T18:37:48.592516Z"
    },
    "papermill": {
     "duration": 0.020537,
     "end_time": "2022-07-03T18:37:48.597002",
     "exception": false,
     "start_time": "2022-07-03T18:37:48.576465",
     "status": "completed"
    },
    "tags": []
   },
   "outputs": [],
   "source": [
    "def load_mvsa_data(path, multiple=False):\n",
    "    data = read_hdf5(path)\n",
    "    for x in data:\n",
    "        if x[0] == 'texts':\n",
    "            texts = x[1]\n",
    "        if x[0] == 'multimodal-labels':\n",
    "            labels = x[1]\n",
    "        if x[0] == 'text-labels':\n",
    "            text_labels = x[1]\n",
    "        if x[0] == 'image-labels':\n",
    "            image_labels = x[1]\n",
    "            \n",
    "    images_path = os.path.join(os.path.split(path)[0], os.path.split(path)[1].split('.')[0] + '-images.npz')\n",
    "    images = loadz(images_path)\n",
    "        \n",
    "    return texts, images, labels, text_labels, image_labels\n",
    "\n",
    "def loadz(path):\n",
    "    data = np.load(path)['arr_0']\n",
    "    return data"
   ]
  },
  {
   "cell_type": "markdown",
   "id": "d729fd57",
   "metadata": {
    "papermill": {
     "duration": 0.002791,
     "end_time": "2022-07-03T18:37:48.603691",
     "exception": false,
     "start_time": "2022-07-03T18:37:48.600900",
     "status": "completed"
    },
    "tags": []
   },
   "source": [
    "# Load raw data"
   ]
  },
  {
   "cell_type": "code",
   "execution_count": 6,
   "id": "10d05f80",
   "metadata": {
    "execution": {
     "iopub.execute_input": "2022-07-03T18:37:48.611959Z",
     "iopub.status.busy": "2022-07-03T18:37:48.611252Z",
     "iopub.status.idle": "2022-07-03T18:38:14.568681Z",
     "shell.execute_reply": "2022-07-03T18:38:14.567586Z"
    },
    "papermill": {
     "duration": 25.964439,
     "end_time": "2022-07-03T18:38:14.571211",
     "exception": false,
     "start_time": "2022-07-03T18:37:48.606772",
     "status": "completed"
    },
    "tags": []
   },
   "outputs": [],
   "source": [
    "mvsa_single_texts, mvsa_single_images, \\\n",
    "mvsa_single_multimodal_labels, mvsa_single_text_labels, \\\n",
    "mvsa_single_image_labels = load_mvsa_data(mvsa_single_path)\n",
    "num_mvsa_single = len(mvsa_single_texts)\n",
    "\n",
    "mvsa_multiple_texts, mvsa_multiple_images, \\\n",
    "mvsa_multiple_multimodal_labels, mvsa_multiple_text_labels, \\\n",
    "mvsa_multiple_image_labels = load_mvsa_data(mvsa_multiple_path)\n",
    "num_mvsa_multiple = len(mvsa_multiple_texts)"
   ]
  },
  {
   "cell_type": "markdown",
   "id": "f58b7e9a",
   "metadata": {
    "papermill": {
     "duration": 0.002786,
     "end_time": "2022-07-03T18:38:14.577147",
     "exception": false,
     "start_time": "2022-07-03T18:38:14.574361",
     "status": "completed"
    },
    "tags": []
   },
   "source": [
    "# ResNet101"
   ]
  },
  {
   "cell_type": "code",
   "execution_count": 7,
   "id": "62f3a8dd",
   "metadata": {
    "execution": {
     "iopub.execute_input": "2022-07-03T18:38:14.585416Z",
     "iopub.status.busy": "2022-07-03T18:38:14.584372Z",
     "iopub.status.idle": "2022-07-03T18:38:23.200686Z",
     "shell.execute_reply": "2022-07-03T18:38:23.199551Z"
    },
    "papermill": {
     "duration": 8.623205,
     "end_time": "2022-07-03T18:38:23.203270",
     "exception": false,
     "start_time": "2022-07-03T18:38:14.580065",
     "status": "completed"
    },
    "tags": []
   },
   "outputs": [
    {
     "name": "stderr",
     "output_type": "stream",
     "text": [
      "2022-07-03 18:38:14.644798: I tensorflow/core/common_runtime/process_util.cc:146] Creating new thread pool with default inter op setting: 2. Tune using inter_op_parallelism_threads for best performance.\n"
     ]
    },
    {
     "name": "stdout",
     "output_type": "stream",
     "text": [
      "Downloading data from https://storage.googleapis.com/tensorflow/keras-applications/resnet/resnet101_weights_tf_dim_ordering_tf_kernels.h5\n",
      "179650560/179648224 [==============================] - 4s 0us/step\n",
      "179658752/179648224 [==============================] - 4s 0us/step\n"
     ]
    }
   ],
   "source": [
    "resnet101 = ResNet101(input_shape=(IMAGE_SIZE[0], IMAGE_SIZE[1], NUM_CHANNELS))\n",
    "resnet101.trainable = False # Freeze pre-trained layers\n",
    "resnet101_last = Model(inputs=resnet101.input, outputs=resnet101.layers[-2].output)"
   ]
  },
  {
   "cell_type": "code",
   "execution_count": 8,
   "id": "13542e76",
   "metadata": {
    "execution": {
     "iopub.execute_input": "2022-07-03T18:38:23.213312Z",
     "iopub.status.busy": "2022-07-03T18:38:23.212880Z",
     "iopub.status.idle": "2022-07-03T18:38:24.002386Z",
     "shell.execute_reply": "2022-07-03T18:38:24.001568Z"
    },
    "papermill": {
     "duration": 0.797013,
     "end_time": "2022-07-03T18:38:24.004620",
     "exception": false,
     "start_time": "2022-07-03T18:38:23.207607",
     "status": "completed"
    },
    "tags": []
   },
   "outputs": [],
   "source": [
    "# Summary of VGG-19 is hidden\n",
    "image_inputs = Input(shape=(IMAGE_SIZE[0], IMAGE_SIZE[1], NUM_CHANNELS))\n",
    "rescale_layer = Rescaling(scale=1./255.) (image_inputs)  # Rescale inputs\n",
    "outputs = resnet101_last (rescale_layer)\n",
    "model_resnet101 = Model(inputs=image_inputs, outputs=outputs)"
   ]
  },
  {
   "cell_type": "code",
   "execution_count": 9,
   "id": "332f15dd",
   "metadata": {
    "execution": {
     "iopub.execute_input": "2022-07-03T18:38:24.015783Z",
     "iopub.status.busy": "2022-07-03T18:38:24.014633Z",
     "iopub.status.idle": "2022-07-03T18:47:17.880697Z",
     "shell.execute_reply": "2022-07-03T18:47:17.879031Z"
    },
    "papermill": {
     "duration": 533.874346,
     "end_time": "2022-07-03T18:47:17.883419",
     "exception": false,
     "start_time": "2022-07-03T18:38:24.009073",
     "status": "completed"
    },
    "tags": []
   },
   "outputs": [
    {
     "name": "stdout",
     "output_type": "stream",
     "text": [
      "MVSA-Single: Extracting ResNet101 features of images\n"
     ]
    },
    {
     "name": "stderr",
     "output_type": "stream",
     "text": [
      "2022-07-03 18:38:24.754665: I tensorflow/compiler/mlir/mlir_graph_optimization_pass.cc:185] None of the MLIR Optimization Passes are enabled (registered 2)\n"
     ]
    },
    {
     "name": "stdout",
     "output_type": "stream",
     "text": [
      "141/141 [==============================] - 533s 4s/step\n",
      "ResNet101 last hidden layer dimension: 2048\n",
      "MVSA-Single with ResNet101 last hidden layer: (4511, 2048)\n",
      "True\n"
     ]
    }
   ],
   "source": [
    "print('MVSA-Single: Extracting ResNet101 features of images')\n",
    "mvsa_single_resnet101 = model_resnet101.predict(mvsa_single_images, verbose=1)\n",
    "print('ResNet101 last hidden layer dimension:', mvsa_single_resnet101.shape[1])\n",
    "print('MVSA-Single with ResNet101 last hidden layer:', mvsa_single_resnet101.shape)\n",
    "\n",
    "# save and load check\n",
    "np.savez('./mvsa-single-resnet101', mvsa_single_resnet101)\n",
    "x = loadz('./mvsa-single-resnet101.npz')\n",
    "print((x == mvsa_single_resnet101).all())"
   ]
  },
  {
   "cell_type": "code",
   "execution_count": 10,
   "id": "78dc18d6",
   "metadata": {
    "execution": {
     "iopub.execute_input": "2022-07-03T18:47:17.909625Z",
     "iopub.status.busy": "2022-07-03T18:47:17.908513Z",
     "iopub.status.idle": "2022-07-03T19:20:40.803000Z",
     "shell.execute_reply": "2022-07-03T19:20:40.801693Z"
    },
    "papermill": {
     "duration": 2002.910501,
     "end_time": "2022-07-03T19:20:40.805281",
     "exception": false,
     "start_time": "2022-07-03T18:47:17.894780",
     "status": "completed"
    },
    "tags": []
   },
   "outputs": [
    {
     "name": "stdout",
     "output_type": "stream",
     "text": [
      "MVSA-Multiple: Extracting ResNet101 features of images\n",
      "532/532 [==============================] - 1999s 4s/step\n",
      "ResNet101 last hidden layer dimension: 2048\n",
      "MVSA-Multiple with ResNet101 last hidden layer: (17024, 2048)\n",
      "True\n"
     ]
    }
   ],
   "source": [
    "print('MVSA-Multiple: Extracting ResNet101 features of images')\n",
    "mvsa_multiple_resnet101 = model_resnet101.predict(mvsa_multiple_images, verbose=1)\n",
    "print('ResNet101 last hidden layer dimension:', mvsa_multiple_resnet101.shape[1])\n",
    "print('MVSA-Multiple with ResNet101 last hidden layer:', mvsa_multiple_resnet101.shape)\n",
    "\n",
    "# save and load check\n",
    "np.savez('./mvsa-multiple-resnet101', mvsa_multiple_resnet101)\n",
    "x = loadz('./mvsa-multiple-resnet101.npz')\n",
    "print((x == mvsa_multiple_resnet101).all())"
   ]
  }
 ],
 "metadata": {
  "kernelspec": {
   "display_name": "Python 3",
   "language": "python",
   "name": "python3"
  },
  "language_info": {
   "codemirror_mode": {
    "name": "ipython",
    "version": 3
   },
   "file_extension": ".py",
   "mimetype": "text/x-python",
   "name": "python",
   "nbconvert_exporter": "python",
   "pygments_lexer": "ipython3",
   "version": "3.7.12"
  },
  "papermill": {
   "default_parameters": {},
   "duration": 2598.154295,
   "end_time": "2022-07-03T19:20:43.771763",
   "environment_variables": {},
   "exception": null,
   "input_path": "__notebook__.ipynb",
   "output_path": "__notebook__.ipynb",
   "parameters": {},
   "start_time": "2022-07-03T18:37:25.617468",
   "version": "2.3.4"
  }
 },
 "nbformat": 4,
 "nbformat_minor": 5
}
