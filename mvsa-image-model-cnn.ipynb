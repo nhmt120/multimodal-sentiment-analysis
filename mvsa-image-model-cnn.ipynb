{
 "cells": [
  {
   "cell_type": "code",
   "execution_count": 1,
   "id": "3721b385",
   "metadata": {
    "_cell_guid": "b1076dfc-b9ad-4769-8c92-a6c4dae69d19",
    "_uuid": "8f2839f25d086af736a60e9eeb907d3b93b6e0e5",
    "execution": {
     "iopub.execute_input": "2022-07-04T10:44:11.403873Z",
     "iopub.status.busy": "2022-07-04T10:44:11.403006Z",
     "iopub.status.idle": "2022-07-04T10:44:21.127293Z",
     "shell.execute_reply": "2022-07-04T10:44:21.125736Z"
    },
    "papermill": {
     "duration": 9.737942,
     "end_time": "2022-07-04T10:44:21.130752",
     "exception": false,
     "start_time": "2022-07-04T10:44:11.392810",
     "status": "completed"
    },
    "tags": []
   },
   "outputs": [],
   "source": [
    "SEED = 61\n",
    "\n",
    "\n",
    "import os\n",
    "import re\n",
    "import gc\n",
    "import h5py\n",
    "import torch\n",
    "import numpy as np\n",
    "import pandas as pd\n",
    "import tensorflow as tf\n",
    "import random as python_random\n",
    "import matplotlib.pyplot as plt\n",
    "import tensorflow_addons as tfa\n",
    "\n",
    "from tqdm import tqdm\n",
    "from nltk import tokenize\n",
    "\n",
    "from sklearn import preprocessing\n",
    "from sklearn.decomposition import PCA\n",
    "from sklearn.metrics import f1_score, accuracy_score, confusion_matrix, ConfusionMatrixDisplay, classification_report\n",
    "from IPython.display import display_html\n",
    "\n",
    "from keras import backend as K\n",
    "from keras import initializers,regularizers,constraints\n",
    "from keras.preprocessing.image import ImageDataGenerator\n",
    "from keras.preprocessing.text import Tokenizer, text_to_word_sequence\n",
    "from keras.preprocessing.sequence import pad_sequences\n",
    "from keras.utils.np_utils import to_categorical\n",
    "from keras.layers import Reshape, Input, Embedding, Flatten, Dense, Dropout, BatchNormalization, Activation #, merge\n",
    "from keras.layers import TimeDistributed, LSTM, GRU, Bidirectional, Convolution1D, MaxPooling1D, MaxPool2D, Convolution2D\n",
    "from keras.layers.core import RepeatVector, Reshape\n",
    "from keras.callbacks import ModelCheckpoint, EarlyStopping, ReduceLROnPlateau\n",
    "from keras.models import Sequential, Model, load_model\n",
    "from sklearn.model_selection import cross_val_score\n",
    "\n",
    "def reset_seeds():\n",
    "    np.random.seed(SEED) \n",
    "    python_random.seed(SEED)\n",
    "    tf.random.set_seed(SEED)\n",
    "    os.environ[\"PYTHONHASHSEED\"] = str(SEED)\n",
    "\n",
    "# from tensorflow.python.keras.layers import Layer, InputSpec, Lambda\n",
    "# from tensorflow.keras import Model\n",
    "# from attention import Attention_input1, Attention_input2\n",
    "# from keras.optimizers import SGD, RMSprop, Adagrad"
   ]
  },
  {
   "cell_type": "code",
   "execution_count": 2,
   "id": "c8d47dbf",
   "metadata": {
    "execution": {
     "iopub.execute_input": "2022-07-04T10:44:21.148053Z",
     "iopub.status.busy": "2022-07-04T10:44:21.146566Z",
     "iopub.status.idle": "2022-07-04T10:44:21.155852Z",
     "shell.execute_reply": "2022-07-04T10:44:21.154651Z"
    },
    "papermill": {
     "duration": 0.020008,
     "end_time": "2022-07-04T10:44:21.158590",
     "exception": false,
     "start_time": "2022-07-04T10:44:21.138582",
     "status": "completed"
    },
    "tags": []
   },
   "outputs": [],
   "source": [
    "def read_hdf5(path):\n",
    "    read_file = h5py.File(path, 'r')\n",
    "\n",
    "    feature_names = list(read_file.keys())\n",
    "    loaded_data = []\n",
    "    \n",
    "    for name in feature_names:\n",
    "        dataset = read_file[name][:]\n",
    "        if dataset.dtype == np.dtype('object'):\n",
    "            dataset = np.array([x.decode('UTF-8') for x in dataset])            \n",
    "        loaded_data.append((name, dataset))\n",
    "\n",
    "    return loaded_data\n",
    "\n",
    "def loadz(path):\n",
    "    data = np.load(path)['arr_0']\n",
    "    return data"
   ]
  },
  {
   "cell_type": "code",
   "execution_count": 3,
   "id": "6edee049",
   "metadata": {
    "execution": {
     "iopub.execute_input": "2022-07-04T10:44:21.174500Z",
     "iopub.status.busy": "2022-07-04T10:44:21.174167Z",
     "iopub.status.idle": "2022-07-04T10:44:21.188213Z",
     "shell.execute_reply": "2022-07-04T10:44:21.187022Z"
    },
    "papermill": {
     "duration": 0.025299,
     "end_time": "2022-07-04T10:44:21.190934",
     "exception": false,
     "start_time": "2022-07-04T10:44:21.165635",
     "status": "completed"
    },
    "tags": []
   },
   "outputs": [],
   "source": [
    "def load_labels(path):\n",
    "    data = read_hdf5(path)\n",
    "\n",
    "    for x in data:\n",
    "        if x[0] == 'multimodal-labels':\n",
    "            labels = x[1]\n",
    "        if x[0] == 'text-labels':\n",
    "            text_labels = x[1]\n",
    "        if x[0] == 'image-labels':\n",
    "            image_labels = x[1]\n",
    "\n",
    "    return labels, text_labels, image_labels\n",
    "\n",
    "def load_mvsa_feature(feature_name, merge=False):\n",
    "    folder_path = os.path.join('../input/mvsa-features/', feature_name)\n",
    "    single_file = 'mvsa-single-{}.npz'.format(feature_name)\n",
    "    multiple_file = 'mvsa-multiple-{}.npz'.format(feature_name)\n",
    "    mvsa_single = loadz(os.path.join(folder_path, single_file))\n",
    "    mvsa_multiple = loadz(os.path.join(folder_path, multiple_file))\n",
    "    \n",
    "    if merge == True:\n",
    "        return merge_mvsa(mvsa_single, mvsa_multiple)\n",
    "    \n",
    "    return mvsa_single, mvsa_multiple\n",
    "\n",
    "def load_mvsa_images(merge=False):\n",
    "    folder_path = '../input/mvsa-data'\n",
    "    file_paths = os.listdir(folder_path)\n",
    "    for path in file_paths:\n",
    "        file_name = os.path.split(path)[1]\n",
    "        if file_name.split('.')[1] == 'npz':\n",
    "            if file_name.split('-')[1] == 'single':\n",
    "                mvsa_single_images_path = os.path.join(folder_path, path)\n",
    "            else:\n",
    "                mvsa_multiple_images_path = os.path.join(folder_path, path)\n",
    "    \n",
    "    mvsa_single = loadz(mvsa_single_images_path)\n",
    "    mvsa_multiple = loadz(mvsa_multiple_images_path)\n",
    "    \n",
    "    if merge == True:\n",
    "        return merge_mvsa(mvsa_single, mvsa_multiple)\n",
    "    \n",
    "    return mvsa_single, mvsa_multiple\n",
    "\n",
    "def merge_mvsa(mvsa_single, mvsa_multiple):\n",
    "    mvsa = np.concatenate((mvsa_single, mvsa_multiple), axis=0)\n",
    "    return mvsa"
   ]
  },
  {
   "cell_type": "code",
   "execution_count": 4,
   "id": "213edb36",
   "metadata": {
    "execution": {
     "iopub.execute_input": "2022-07-04T10:44:21.207199Z",
     "iopub.status.busy": "2022-07-04T10:44:21.206268Z",
     "iopub.status.idle": "2022-07-04T10:44:21.218522Z",
     "shell.execute_reply": "2022-07-04T10:44:21.217151Z"
    },
    "papermill": {
     "duration": 0.023041,
     "end_time": "2022-07-04T10:44:21.221123",
     "exception": false,
     "start_time": "2022-07-04T10:44:21.198082",
     "status": "completed"
    },
    "tags": []
   },
   "outputs": [],
   "source": [
    "def plot_metrics(history):\n",
    "    fig = plt.figure(figsize=(20, 5))\n",
    "\n",
    "    fig.add_subplot(1, 4, 1)\n",
    "    plt.plot(history.history['loss'])\n",
    "    plt.plot(history.history['val_loss'])\n",
    "    plt.title('LOSS')\n",
    "    plt.ylabel('loss')\n",
    "    plt.xlabel('epoch')\n",
    "    plt.legend(['train', 'val'], loc='best')\n",
    "\n",
    "    fig.add_subplot(1, 4, 2)\n",
    "    plt.plot(history.history['accuracy'])\n",
    "    plt.plot(history.history['val_accuracy'])\n",
    "    plt.title('ACCURACY')\n",
    "    plt.ylabel('accuracy')\n",
    "    plt.xlabel('epoch')\n",
    "    plt.legend(['train', 'val'], loc='best')\n",
    "\n",
    "    fig.add_subplot(1, 4, 3)\n",
    "    plt.plot(history.history['f1_macro'])\n",
    "    plt.plot(history.history['val_f1_macro'])\n",
    "    plt.title('Macro F1-SCORE')\n",
    "    plt.ylabel('f1-macro')\n",
    "    plt.xlabel('epoch')\n",
    "    plt.legend(['train', 'val'], loc='best')\n",
    "    \n",
    "    fig.add_subplot(1, 4, 4)\n",
    "    plt.plot(history.history['f1_weighted'])\n",
    "    plt.plot(history.history['val_f1_weighted'])\n",
    "    plt.title('Weighted F1-SCORE')\n",
    "    plt.ylabel('f1-weighted')\n",
    "    plt.xlabel('epoch')\n",
    "    plt.legend(['train', 'val'], loc='best')\n",
    "\n",
    "    plt.show()"
   ]
  },
  {
   "cell_type": "code",
   "execution_count": 5,
   "id": "62b974aa",
   "metadata": {
    "execution": {
     "iopub.execute_input": "2022-07-04T10:44:21.237321Z",
     "iopub.status.busy": "2022-07-04T10:44:21.237008Z",
     "iopub.status.idle": "2022-07-04T10:44:21.245516Z",
     "shell.execute_reply": "2022-07-04T10:44:21.244076Z"
    },
    "papermill": {
     "duration": 0.019452,
     "end_time": "2022-07-04T10:44:21.248104",
     "exception": false,
     "start_time": "2022-07-04T10:44:21.228652",
     "status": "completed"
    },
    "tags": []
   },
   "outputs": [],
   "source": [
    "# e.g. validation_split=0.1 -----> 8:1:1 ratio of train, val, test\n",
    "def split_data(data, validation_split):\n",
    "    num_val = int(validation_split * len(data))\n",
    "    data_train = data[:-(num_val*2)]\n",
    "    data_val = data[-(num_val*2):-(num_val)]\n",
    "    data_test = data[-num_val:]\n",
    "    return data_train, data_val, data_test\n",
    "\n",
    "# e.g. validation_split=0.1 -----> 8:1:1 ratio of train, val, test\n",
    "def split_tf_data(data, validation_split):\n",
    "    DATASET_SIZE = len(data)\n",
    "    train_size = int((1-validation_split*2) * DATASET_SIZE)\n",
    "    val_size = int(validation_split * DATASET_SIZE)\n",
    "    test_size = int(validation_split * DATASET_SIZE)\n",
    "\n",
    "#     full_dataset = tf.data.TFRecordDataset(FLAGS.input_file)\n",
    "#     full_dataset = full_dataset.shuffle()\n",
    "    train_dataset = data.take(train_size)\n",
    "    test_dataset = data.skip(train_size)\n",
    "    val_dataset = test_dataset.skip(test_size)\n",
    "    test_dataset = test_dataset.take(test_size)\n",
    "    return train_dataset, val_dataset, test_dataset"
   ]
  },
  {
   "cell_type": "code",
   "execution_count": 6,
   "id": "6e50d297",
   "metadata": {
    "execution": {
     "iopub.execute_input": "2022-07-04T10:44:21.264086Z",
     "iopub.status.busy": "2022-07-04T10:44:21.263795Z",
     "iopub.status.idle": "2022-07-04T10:44:21.276066Z",
     "shell.execute_reply": "2022-07-04T10:44:21.274822Z"
    },
    "papermill": {
     "duration": 0.023108,
     "end_time": "2022-07-04T10:44:21.278600",
     "exception": false,
     "start_time": "2022-07-04T10:44:21.255492",
     "status": "completed"
    },
    "tags": []
   },
   "outputs": [],
   "source": [
    "def create_model_cnn(input_shape):\n",
    "    f1_macro = tfa.metrics.F1Score(num_classes=NUM_CLASSES, average='macro', name='f1_macro')\n",
    "    f1_weighted = tfa.metrics.F1Score(num_classes=NUM_CLASSES, average='weighted', name='f1_weighted')\n",
    "\n",
    "    image_inputs = Input(shape=input_shape)\n",
    "#     x = Reshape((1, input_shape[0], input_shape[1], input_shape[2])) (image_inputs)\n",
    "    x = Convolution2D(32, kernel_size=(5,5), strides=(1,1), activation='relu') (image_inputs)\n",
    "#     x = Reshape((x.shape[2], x.shape[3], x.shape[4])) (x)\n",
    "    x = MaxPool2D(pool_size=(2,2)) (x)\n",
    "    x = Convolution2D(64, kernel_size=(5,5), strides=(1,1), activation='relu') (x)\n",
    "    x = MaxPool2D(pool_size=(2,2)) (x)\n",
    "    x = Convolution2D(128, kernel_size=(5,5), strides=(1,1), activation='relu') (x)\n",
    "    x = MaxPool2D(pool_size=(2,2)) (x)\n",
    "    x = Flatten() (x)\n",
    "    x = Dense(64, activation='relu') (x)\n",
    "    outputs = Dense(NUM_CLASSES, activation='softmax') (x)\n",
    "\n",
    "    model = Model(image_inputs, outputs)\n",
    "    model.compile(optimizer='adam', loss='categorical_crossentropy', metrics=['accuracy', f1_macro, f1_weighted])\n",
    "    return model"
   ]
  },
  {
   "cell_type": "code",
   "execution_count": 7,
   "id": "d9b0af09",
   "metadata": {
    "execution": {
     "iopub.execute_input": "2022-07-04T10:44:21.295055Z",
     "iopub.status.busy": "2022-07-04T10:44:21.294048Z",
     "iopub.status.idle": "2022-07-04T10:44:21.307096Z",
     "shell.execute_reply": "2022-07-04T10:44:21.305842Z"
    },
    "papermill": {
     "duration": 0.023687,
     "end_time": "2022-07-04T10:44:21.309656",
     "exception": false,
     "start_time": "2022-07-04T10:44:21.285969",
     "status": "completed"
    },
    "tags": []
   },
   "outputs": [],
   "source": [
    "def run_and_evaluate(name, X, y, verbose=0):\n",
    "    y = le.fit_transform(y)\n",
    "    y = to_categorical(np.asarray(y))\n",
    "    \n",
    "    X_train, X_val, X_test = split_data(X, VALIDATION_SPLIT)\n",
    "    y_train, y_val, y_test = split_data(y, VALIDATION_SPLIT)\n",
    "    \n",
    "    model = create_model_pretrained(X_train.shape[1:])\n",
    "    early_stopping = EarlyStopping(monitor='val_loss', min_delta=1e-4, patience=EARLY_STOPPING)\n",
    "    checkpoint = ModelCheckpoint('./model_checkpoint/{}.h5'.format(name), save_best_only=True, verbose=verbose)\n",
    "    \n",
    "    history = model.fit(X_train, y_train, validation_data=(X_val, y_val), \n",
    "                                   epochs=EPOCHS, batch_size=BATCH_SIZE, verbose=verbose,\n",
    "                                   callbacks=[checkpoint, early_stopping])\n",
    "    if verbose == 1:\n",
    "        best_epoch = np.argmin(history.history['val_loss'])\n",
    "        print('Checkpoint loaded at epoch:', best_epoch)\n",
    "    \n",
    "    return history, evaluate_model(model, X_test, y_test, checkpoint=name, verbose=verbose)\n",
    "\n",
    "def evaluate_model(model, X_test, y_test, checkpoint=None, verbose=1):\n",
    "    if checkpoint is not None:\n",
    "        model = load_model('./model_checkpoint/{}.h5'.format(checkpoint))\n",
    "    \n",
    "    loss, acc, f1_macro, f1_weighted = model.evaluate(X_test, y_test, verbose=verbose)\n",
    "    \n",
    "    if verbose == 1:\n",
    "        print('Loss:', loss)\n",
    "        print('Accuracy:', acc)\n",
    "        print('Macro F1-score:', f1_macro)\n",
    "        print('Weighted F1-score:', f1_weighted)\n",
    "        \n",
    "    return loss, acc, f1_macro, f1_weighted"
   ]
  },
  {
   "cell_type": "code",
   "execution_count": 8,
   "id": "1aa60311",
   "metadata": {
    "execution": {
     "iopub.execute_input": "2022-07-04T10:44:21.325422Z",
     "iopub.status.busy": "2022-07-04T10:44:21.325049Z",
     "iopub.status.idle": "2022-07-04T10:44:21.336665Z",
     "shell.execute_reply": "2022-07-04T10:44:21.335160Z"
    },
    "papermill": {
     "duration": 0.022389,
     "end_time": "2022-07-04T10:44:21.339165",
     "exception": false,
     "start_time": "2022-07-04T10:44:21.316776",
     "status": "completed"
    },
    "tags": []
   },
   "outputs": [],
   "source": [
    "def run_and_evaluate_cnn(name, X, y, verbose=0):\n",
    "    y = le.fit_transform(y)\n",
    "    y = to_categorical(np.asarray(y))\n",
    "    \n",
    "    X_train, X_val, X_test = split_data(X, VALIDATION_SPLIT)\n",
    "    y_train, y_val, y_test = split_data(y, VALIDATION_SPLIT)\n",
    "    \n",
    "    model = create_model_cnn((224, 224, 3))\n",
    "    early_stopping = EarlyStopping(monitor='val_loss', min_delta=1e-4, patience=EARLY_STOPPING)\n",
    "    checkpoint = ModelCheckpoint('./model_checkpoint/{}.h5'.format(name), save_best_only=True, verbose=verbose)\n",
    "    \n",
    "    train_set = tf.data.Dataset.from_tensor_slices((X_train, y_train)).batch(BATCH_SIZE)\n",
    "    val_set = tf.data.Dataset.from_tensor_slices((X_val, y_val)).batch(BATCH_SIZE)\n",
    "    test_set = tf.data.Dataset.from_tensor_slices((X_test, y_test)).batch(BATCH_SIZE)\n",
    "    \n",
    "    history = model.fit(train_set, validation_data=val_set, \n",
    "                                   epochs=EPOCHS, batch_size=BATCH_SIZE, verbose=verbose,\n",
    "                                   callbacks=[checkpoint, early_stopping])\n",
    "    if verbose == 1:\n",
    "        best_epoch = np.argmin(history.history['val_loss'])\n",
    "        print('Checkpoint loaded at epoch:', best_epoch)\n",
    "    \n",
    "    return history, evaluate_model_cnn(model, test_set, checkpoint=name, verbose=verbose)"
   ]
  },
  {
   "cell_type": "code",
   "execution_count": 9,
   "id": "3a3cae43",
   "metadata": {
    "execution": {
     "iopub.execute_input": "2022-07-04T10:44:21.355778Z",
     "iopub.status.busy": "2022-07-04T10:44:21.354708Z",
     "iopub.status.idle": "2022-07-04T10:44:21.366000Z",
     "shell.execute_reply": "2022-07-04T10:44:21.364607Z"
    },
    "papermill": {
     "duration": 0.02249,
     "end_time": "2022-07-04T10:44:21.368814",
     "exception": false,
     "start_time": "2022-07-04T10:44:21.346324",
     "status": "completed"
    },
    "tags": []
   },
   "outputs": [],
   "source": [
    "def evaluate_model_cnn(model, test_set, checkpoint=None, verbose=1):\n",
    "    if checkpoint is not None:\n",
    "        model = load_model('./model_checkpoint/{}.h5'.format(checkpoint))\n",
    "    \n",
    "    loss, acc, f1_macro, f1_weighted = model.evaluate(test_set, batch_size=BATCH_SIZE, verbose=verbose)\n",
    "        \n",
    "    if verbose == 1:\n",
    "        print('Loss:', loss)\n",
    "        print('Accuracy:', acc)\n",
    "        print('Macro F1-score:', f1_macro)\n",
    "        print('Weighted F1-score:', f1_weighted)\n",
    "        \n",
    "        y_true = le.inverse_transform(np.concatenate([y for x, y in test_set], axis=0).argmax(axis=1))\n",
    "        y_pred = le.inverse_transform(model.predict(test_set, batch_size=BATCH_SIZE, verbose=verbose).argmax(axis=1))\n",
    "\n",
    "        matrix = confusion_matrix(y_true, y_pred,\n",
    "                                  labels=list(le.classes_))\n",
    "        cm_disp = ConfusionMatrixDisplay(confusion_matrix=matrix,\n",
    "                                  display_labels=list(le.classes_))\n",
    "        cm_disp.plot()\n",
    "        plt.show()\n",
    " \n",
    "    return loss, acc, f1_macro, f1_weighted"
   ]
  },
  {
   "cell_type": "code",
   "execution_count": 10,
   "id": "622772f0",
   "metadata": {
    "execution": {
     "iopub.execute_input": "2022-07-04T10:44:21.384389Z",
     "iopub.status.busy": "2022-07-04T10:44:21.384062Z",
     "iopub.status.idle": "2022-07-04T10:44:21.393176Z",
     "shell.execute_reply": "2022-07-04T10:44:21.391793Z"
    },
    "papermill": {
     "duration": 0.020742,
     "end_time": "2022-07-04T10:44:21.396663",
     "exception": false,
     "start_time": "2022-07-04T10:44:21.375921",
     "status": "completed"
    },
    "tags": []
   },
   "outputs": [],
   "source": [
    "def new_run_and_evaluate_cnn(name, train_set, test_set, verbose=0):\n",
    "    \n",
    "    model = create_model_cnn((224, 224, 3))\n",
    "    early_stopping = EarlyStopping(monitor='val_loss', min_delta=1e-4, patience=EARLY_STOPPING)\n",
    "    checkpoint = ModelCheckpoint('./model_checkpoint/{}.h5'.format(name), save_best_only=True, verbose=verbose)\n",
    "    \n",
    "    history = model.fit(train_set, \n",
    "                                   epochs=EPOCHS, batch_size=BATCH_SIZE, verbose=verbose,\n",
    "                                   callbacks=[checkpoint, early_stopping])\n",
    "    if verbose == 1:\n",
    "        best_epoch = np.argmin(history.history['val_loss'])\n",
    "        print('Checkpoint loaded at epoch:', best_epoch)\n",
    "    \n",
    "    return history, evaluate_model_cnn(model, test_set, checkpoint=name, verbose=verbose)"
   ]
  },
  {
   "cell_type": "code",
   "execution_count": 11,
   "id": "57d1b8a3",
   "metadata": {
    "execution": {
     "iopub.execute_input": "2022-07-04T10:44:21.412438Z",
     "iopub.status.busy": "2022-07-04T10:44:21.412107Z",
     "iopub.status.idle": "2022-07-04T10:44:21.425659Z",
     "shell.execute_reply": "2022-07-04T10:44:21.424307Z"
    },
    "papermill": {
     "duration": 0.024753,
     "end_time": "2022-07-04T10:44:21.428486",
     "exception": false,
     "start_time": "2022-07-04T10:44:21.403733",
     "status": "completed"
    },
    "tags": []
   },
   "outputs": [],
   "source": [
    "def style_dataframe(dataframe):\n",
    "    return dataframe.style.highlight_max(subset=['Accuracy', 'F1-macro', 'F1-weighted'], props='color:lawngreen', axis=0)\\\n",
    "                          .highlight_min(subset=['Accuracy', 'F1-macro', 'F1-weighted'], props='color:tomato', axis=0)\\\n",
    "                          .highlight_min(subset=['Loss'], props='color:lawngreen', axis=0)\\\n",
    "                          .highlight_max(subset=['Loss'], props='color:tomato', axis=0)\n",
    "\n",
    "def display_dataframes(dfs, names=[], index=False):\n",
    "    def to_df(x):\n",
    "        if isinstance(x, pd.Series):\n",
    "            return pd.DataFrame(x)\n",
    "        else:\n",
    "            return x\n",
    "    html_str = ''\n",
    "    if names:\n",
    "        html_str += ('<tr>' + \n",
    "                     ''.join(f'<td style=\"text-align:center\">{name}</td>' for name in names) + \n",
    "                     '</tr>')\n",
    "    html_str += ('<tr>' + \n",
    "                 ''.join(f'<td style=\"vertical-align:top\"> {to_df(df).to_html()}</td>' \n",
    "                         for df in dfs) + \n",
    "                 '</tr>')\n",
    "    html_str = f'<table>{html_str}</table>'\n",
    "    html_str = html_str.replace('table','table style=\"display:inline\"')\n",
    "    display_html(html_str, raw=True)"
   ]
  },
  {
   "cell_type": "markdown",
   "id": "a1284ac9",
   "metadata": {
    "papermill": {
     "duration": 0.007063,
     "end_time": "2022-07-04T10:44:21.443055",
     "exception": false,
     "start_time": "2022-07-04T10:44:21.435992",
     "status": "completed"
    },
    "tags": []
   },
   "source": [
    "# Load data"
   ]
  },
  {
   "cell_type": "code",
   "execution_count": 12,
   "id": "b009ee74",
   "metadata": {
    "execution": {
     "iopub.execute_input": "2022-07-04T10:44:21.459673Z",
     "iopub.status.busy": "2022-07-04T10:44:21.459123Z",
     "iopub.status.idle": "2022-07-04T10:44:21.613319Z",
     "shell.execute_reply": "2022-07-04T10:44:21.611915Z"
    },
    "papermill": {
     "duration": 0.165578,
     "end_time": "2022-07-04T10:44:21.616320",
     "exception": false,
     "start_time": "2022-07-04T10:44:21.450742",
     "status": "completed"
    },
    "tags": []
   },
   "outputs": [],
   "source": [
    "mvsa_single_multimodal_labels, mvsa_single_text_labels, mvsa_single_image_labels = load_labels('../input/mvsa-features/labels/mvsa-single-labels.hdf5')\n",
    "mvsa_multiple_multimodal_labels, mvsa_multiple_text_labels, mvsa_multiple_image_labels = load_labels('../input/mvsa-features/labels/mvsa-multiple-labels.hdf5')\n",
    "\n",
    "mvsa_multimodal_labels = merge_mvsa(mvsa_single_multimodal_labels, mvsa_multiple_multimodal_labels)\n",
    "mvsa_text_labels = merge_mvsa(mvsa_single_text_labels, mvsa_multiple_text_labels)\n",
    "mvsa_image_labels = merge_mvsa(mvsa_single_image_labels, mvsa_multiple_image_labels)\n",
    "\n",
    "le = preprocessing.LabelEncoder()\n",
    "le.fit(mvsa_multimodal_labels)\n",
    "NUM_CLASSES = len(le.classes_) # =3"
   ]
  },
  {
   "cell_type": "code",
   "execution_count": 13,
   "id": "4d2f95ec",
   "metadata": {
    "_kg_hide-output": true,
    "execution": {
     "iopub.execute_input": "2022-07-04T10:44:21.633571Z",
     "iopub.status.busy": "2022-07-04T10:44:21.632545Z",
     "iopub.status.idle": "2022-07-04T10:44:42.084117Z",
     "shell.execute_reply": "2022-07-04T10:44:42.082846Z"
    },
    "papermill": {
     "duration": 20.463384,
     "end_time": "2022-07-04T10:44:42.087197",
     "exception": false,
     "start_time": "2022-07-04T10:44:21.623813",
     "status": "completed"
    },
    "tags": []
   },
   "outputs": [],
   "source": [
    "# load separate\n",
    "# mvsa_single_images, mvsa_multiple_images = load_mvsa_images()\n",
    "# mvsa_single_images = loadz('../input/mvsa-data/mvsa-single-4511-images.npz')\n",
    "mvsa_multiple_images = loadz('../input/mvsa-data/mvsa-multiple-17024-images.npz')\n",
    "\n",
    "# load merge\n",
    "# mvsa_images = merge_mvsa(mvsa_single_images, mvsa_multiple_images)"
   ]
  },
  {
   "cell_type": "markdown",
   "id": "e8ca57ac",
   "metadata": {
    "papermill": {
     "duration": 0.008081,
     "end_time": "2022-07-04T10:44:42.103540",
     "exception": false,
     "start_time": "2022-07-04T10:44:42.095459",
     "status": "completed"
    },
    "tags": []
   },
   "source": [
    "# Run models and Evalution display"
   ]
  },
  {
   "cell_type": "code",
   "execution_count": 14,
   "id": "3dcf6a60",
   "metadata": {
    "execution": {
     "iopub.execute_input": "2022-07-04T10:44:42.120524Z",
     "iopub.status.busy": "2022-07-04T10:44:42.120167Z",
     "iopub.status.idle": "2022-07-04T10:44:42.126354Z",
     "shell.execute_reply": "2022-07-04T10:44:42.124847Z"
    },
    "papermill": {
     "duration": 0.017548,
     "end_time": "2022-07-04T10:44:42.128934",
     "exception": false,
     "start_time": "2022-07-04T10:44:42.111386",
     "status": "completed"
    },
    "tags": []
   },
   "outputs": [],
   "source": [
    "reset_seeds()\n",
    "EPOCHS = 100\n",
    "BATCH_SIZE = 128\n",
    "VALIDATION_SPLIT = 0.1\n",
    "EARLY_STOPPING = 10"
   ]
  },
  {
   "cell_type": "markdown",
   "id": "72e33f1e",
   "metadata": {
    "papermill": {
     "duration": 0.007347,
     "end_time": "2022-07-04T10:44:42.143442",
     "exception": false,
     "start_time": "2022-07-04T10:44:42.136095",
     "status": "completed"
    },
    "tags": []
   },
   "source": [
    "## With original image labels"
   ]
  },
  {
   "cell_type": "code",
   "execution_count": 15,
   "id": "760019c5",
   "metadata": {
    "execution": {
     "iopub.execute_input": "2022-07-04T10:44:42.159238Z",
     "iopub.status.busy": "2022-07-04T10:44:42.158833Z",
     "iopub.status.idle": "2022-07-04T10:44:42.163846Z",
     "shell.execute_reply": "2022-07-04T10:44:42.162579Z"
    },
    "papermill": {
     "duration": 0.016154,
     "end_time": "2022-07-04T10:44:42.166807",
     "exception": false,
     "start_time": "2022-07-04T10:44:42.150653",
     "status": "completed"
    },
    "tags": []
   },
   "outputs": [],
   "source": [
    "# history_single_OL, score = run_and_evaluate_cnn('single-OL-cnn', mvsa_single_images, mvsa_single_image_labels, verbose=1)"
   ]
  },
  {
   "cell_type": "code",
   "execution_count": 16,
   "id": "3e06ec1f",
   "metadata": {
    "execution": {
     "iopub.execute_input": "2022-07-04T10:44:42.182979Z",
     "iopub.status.busy": "2022-07-04T10:44:42.182323Z",
     "iopub.status.idle": "2022-07-04T10:49:30.765775Z",
     "shell.execute_reply": "2022-07-04T10:49:30.764090Z"
    },
    "papermill": {
     "duration": 288.596024,
     "end_time": "2022-07-04T10:49:30.770062",
     "exception": false,
     "start_time": "2022-07-04T10:44:42.174038",
     "status": "completed"
    },
    "tags": []
   },
   "outputs": [
    {
     "name": "stderr",
     "output_type": "stream",
     "text": [
      "2022-07-04 10:44:42.291815: I tensorflow/stream_executor/cuda/cuda_gpu_executor.cc:937] successful NUMA node read from SysFS had negative value (-1), but there must be at least one NUMA node, so returning NUMA node zero\n",
      "2022-07-04 10:44:42.293227: I tensorflow/stream_executor/cuda/cuda_gpu_executor.cc:937] successful NUMA node read from SysFS had negative value (-1), but there must be at least one NUMA node, so returning NUMA node zero\n",
      "2022-07-04 10:44:42.294187: I tensorflow/stream_executor/cuda/cuda_gpu_executor.cc:937] successful NUMA node read from SysFS had negative value (-1), but there must be at least one NUMA node, so returning NUMA node zero\n",
      "2022-07-04 10:44:42.295495: I tensorflow/core/platform/cpu_feature_guard.cc:142] This TensorFlow binary is optimized with oneAPI Deep Neural Network Library (oneDNN) to use the following CPU instructions in performance-critical operations:  AVX2 FMA\n",
      "To enable them in other operations, rebuild TensorFlow with the appropriate compiler flags.\n",
      "2022-07-04 10:44:42.295825: I tensorflow/stream_executor/cuda/cuda_gpu_executor.cc:937] successful NUMA node read from SysFS had negative value (-1), but there must be at least one NUMA node, so returning NUMA node zero\n",
      "2022-07-04 10:44:42.297116: I tensorflow/stream_executor/cuda/cuda_gpu_executor.cc:937] successful NUMA node read from SysFS had negative value (-1), but there must be at least one NUMA node, so returning NUMA node zero\n",
      "2022-07-04 10:44:42.298237: I tensorflow/stream_executor/cuda/cuda_gpu_executor.cc:937] successful NUMA node read from SysFS had negative value (-1), but there must be at least one NUMA node, so returning NUMA node zero\n",
      "2022-07-04 10:44:48.011815: I tensorflow/stream_executor/cuda/cuda_gpu_executor.cc:937] successful NUMA node read from SysFS had negative value (-1), but there must be at least one NUMA node, so returning NUMA node zero\n",
      "2022-07-04 10:44:48.012878: I tensorflow/stream_executor/cuda/cuda_gpu_executor.cc:937] successful NUMA node read from SysFS had negative value (-1), but there must be at least one NUMA node, so returning NUMA node zero\n",
      "2022-07-04 10:44:48.013964: I tensorflow/stream_executor/cuda/cuda_gpu_executor.cc:937] successful NUMA node read from SysFS had negative value (-1), but there must be at least one NUMA node, so returning NUMA node zero\n",
      "2022-07-04 10:44:48.015071: I tensorflow/core/common_runtime/gpu/gpu_device.cc:1510] Created device /job:localhost/replica:0/task:0/device:GPU:0 with 15047 MB memory:  -> device: 0, name: Tesla P100-PCIE-16GB, pci bus id: 0000:00:04.0, compute capability: 6.0\n",
      "2022-07-04 10:44:48.456221: W tensorflow/core/framework/cpu_allocator_impl.cc:80] Allocation of 2050191360 exceeds 10% of free system memory.\n",
      "2022-07-04 10:44:50.437962: W tensorflow/core/framework/cpu_allocator_impl.cc:80] Allocation of 2050191360 exceeds 10% of free system memory.\n",
      "2022-07-04 10:44:52.945553: W tensorflow/core/framework/cpu_allocator_impl.cc:80] Allocation of 2050191360 exceeds 10% of free system memory.\n",
      "2022-07-04 10:44:54.483368: W tensorflow/core/framework/cpu_allocator_impl.cc:80] Allocation of 2050191360 exceeds 10% of free system memory.\n"
     ]
    },
    {
     "name": "stdout",
     "output_type": "stream",
     "text": [
      "Epoch 1/100\n"
     ]
    },
    {
     "name": "stderr",
     "output_type": "stream",
     "text": [
      "2022-07-04 10:44:57.410774: I tensorflow/compiler/mlir/mlir_graph_optimization_pass.cc:185] None of the MLIR Optimization Passes are enabled (registered 2)\n",
      "2022-07-04 10:44:58.639197: I tensorflow/stream_executor/cuda/cuda_dnn.cc:369] Loaded cuDNN version 8005\n"
     ]
    },
    {
     "name": "stdout",
     "output_type": "stream",
     "text": [
      "107/107 [==============================] - 24s 124ms/step - loss: 26.9674 - accuracy: 0.4888 - f1_macro: 0.3727 - f1_weighted: 0.4869 - val_loss: 0.9763 - val_accuracy: 0.6175 - val_f1_macro: 0.2690 - val_f1_weighted: 0.4905\n",
      "\n",
      "Epoch 00001: val_loss improved from inf to 0.97625, saving model to ./model_checkpoint/multiple-OL-cnn.h5\n"
     ]
    },
    {
     "name": "stderr",
     "output_type": "stream",
     "text": [
      "2022-07-04 10:45:19.694454: W tensorflow/core/framework/cpu_allocator_impl.cc:80] Allocation of 2050191360 exceeds 10% of free system memory.\n"
     ]
    },
    {
     "name": "stdout",
     "output_type": "stream",
     "text": [
      "Epoch 2/100\n",
      "107/107 [==============================] - 11s 107ms/step - loss: 0.9492 - accuracy: 0.5565 - f1_macro: 0.2781 - f1_weighted: 0.4409 - val_loss: 0.8570 - val_accuracy: 0.6199 - val_f1_macro: 0.2574 - val_f1_weighted: 0.4798\n",
      "\n",
      "Epoch 00002: val_loss improved from 0.97625 to 0.85702, saving model to ./model_checkpoint/multiple-OL-cnn.h5\n",
      "Epoch 3/100\n",
      "107/107 [==============================] - 11s 106ms/step - loss: 0.8763 - accuracy: 0.5609 - f1_macro: 0.2607 - f1_weighted: 0.4202 - val_loss: 0.8115 - val_accuracy: 0.6228 - val_f1_macro: 0.2570 - val_f1_weighted: 0.4800\n",
      "\n",
      "Epoch 00003: val_loss improved from 0.85702 to 0.81146, saving model to ./model_checkpoint/multiple-OL-cnn.h5\n",
      "Epoch 4/100\n",
      "107/107 [==============================] - 12s 108ms/step - loss: 0.8493 - accuracy: 0.5708 - f1_macro: 0.2909 - f1_weighted: 0.4523 - val_loss: 0.8132 - val_accuracy: 0.6169 - val_f1_macro: 0.2707 - val_f1_weighted: 0.4919\n",
      "\n",
      "Epoch 00004: val_loss did not improve from 0.81146\n",
      "Epoch 5/100\n",
      "107/107 [==============================] - 11s 106ms/step - loss: 0.8373 - accuracy: 0.5781 - f1_macro: 0.3169 - f1_weighted: 0.4703 - val_loss: 0.7995 - val_accuracy: 0.6222 - val_f1_macro: 0.2653 - val_f1_weighted: 0.4879\n",
      "\n",
      "Epoch 00005: val_loss improved from 0.81146 to 0.79953, saving model to ./model_checkpoint/multiple-OL-cnn.h5\n",
      "Epoch 6/100\n",
      "107/107 [==============================] - 11s 106ms/step - loss: 0.8115 - accuracy: 0.5906 - f1_macro: 0.3651 - f1_weighted: 0.4988 - val_loss: 0.8243 - val_accuracy: 0.6146 - val_f1_macro: 0.2671 - val_f1_weighted: 0.4880\n",
      "\n",
      "Epoch 00006: val_loss did not improve from 0.79953\n",
      "Epoch 7/100\n",
      "107/107 [==============================] - 11s 107ms/step - loss: 0.8005 - accuracy: 0.5982 - f1_macro: 0.3784 - f1_weighted: 0.5115 - val_loss: 0.8452 - val_accuracy: 0.6199 - val_f1_macro: 0.2755 - val_f1_weighted: 0.4973\n",
      "\n",
      "Epoch 00007: val_loss did not improve from 0.79953\n",
      "Epoch 8/100\n",
      "107/107 [==============================] - 11s 106ms/step - loss: 0.7987 - accuracy: 0.5985 - f1_macro: 0.3832 - f1_weighted: 0.5153 - val_loss: 0.8497 - val_accuracy: 0.6216 - val_f1_macro: 0.2819 - val_f1_weighted: 0.5040\n",
      "\n",
      "Epoch 00008: val_loss did not improve from 0.79953\n",
      "Epoch 9/100\n",
      "107/107 [==============================] - 11s 107ms/step - loss: 0.8079 - accuracy: 0.5905 - f1_macro: 0.3756 - f1_weighted: 0.5060 - val_loss: 0.8510 - val_accuracy: 0.6163 - val_f1_macro: 0.2882 - val_f1_weighted: 0.5090\n",
      "\n",
      "Epoch 00009: val_loss did not improve from 0.79953\n",
      "Epoch 10/100\n",
      "107/107 [==============================] - 11s 107ms/step - loss: 0.7938 - accuracy: 0.6033 - f1_macro: 0.3999 - f1_weighted: 0.5262 - val_loss: 0.8344 - val_accuracy: 0.6204 - val_f1_macro: 0.2878 - val_f1_weighted: 0.5095\n",
      "\n",
      "Epoch 00010: val_loss did not improve from 0.79953\n",
      "Epoch 11/100\n",
      "107/107 [==============================] - 11s 107ms/step - loss: 0.7784 - accuracy: 0.6117 - f1_macro: 0.4095 - f1_weighted: 0.5399 - val_loss: 0.9132 - val_accuracy: 0.6028 - val_f1_macro: 0.2907 - val_f1_weighted: 0.5077\n",
      "\n",
      "Epoch 00011: val_loss did not improve from 0.79953\n",
      "Epoch 12/100\n",
      "107/107 [==============================] - 11s 107ms/step - loss: 0.7595 - accuracy: 0.6309 - f1_macro: 0.4631 - f1_weighted: 0.5769 - val_loss: 0.9275 - val_accuracy: 0.5969 - val_f1_macro: 0.2980 - val_f1_weighted: 0.5132\n",
      "\n",
      "Epoch 00012: val_loss did not improve from 0.79953\n",
      "Epoch 13/100\n",
      "107/107 [==============================] - 11s 106ms/step - loss: 0.7387 - accuracy: 0.6364 - f1_macro: 0.4679 - f1_weighted: 0.5832 - val_loss: 0.9616 - val_accuracy: 0.5864 - val_f1_macro: 0.3031 - val_f1_weighted: 0.5149\n",
      "\n",
      "Epoch 00013: val_loss did not improve from 0.79953\n",
      "Epoch 14/100\n",
      "107/107 [==============================] - 11s 107ms/step - loss: 0.7248 - accuracy: 0.6407 - f1_macro: 0.4906 - f1_weighted: 0.5939 - val_loss: 0.9551 - val_accuracy: 0.5899 - val_f1_macro: 0.3207 - val_f1_weighted: 0.5323\n",
      "\n",
      "Epoch 00014: val_loss did not improve from 0.79953\n",
      "Epoch 15/100\n",
      "107/107 [==============================] - 11s 107ms/step - loss: 0.7048 - accuracy: 0.6539 - f1_macro: 0.5105 - f1_weighted: 0.6110 - val_loss: 1.0355 - val_accuracy: 0.5817 - val_f1_macro: 0.3183 - val_f1_weighted: 0.5277\n",
      "\n",
      "Epoch 00015: val_loss did not improve from 0.79953\n",
      "Checkpoint loaded at epoch: 4\n",
      "14/14 [==============================] - 1s 37ms/step - loss: 0.9669 - accuracy: 0.5382 - f1_macro: 0.2429 - f1_weighted: 0.3879\n",
      "Loss: 0.9669185280799866\n",
      "Accuracy: 0.5381903648376465\n",
      "Macro F1-score: 0.24293340742588043\n",
      "Weighted F1-score: 0.38792291283607483\n",
      "14/14 [==============================] - 1s 29ms/step\n"
     ]
    },
    {
     "data": {
      "image/png": "[encoded data removed]",
      "text/plain": [
       "<Figure size 432x288 with 2 Axes>"
      ]
     },
     "metadata": {
      "needs_background": "light"
     },
     "output_type": "display_data"
    }
   ],
   "source": [
    "history_multiple_OL, score = run_and_evaluate_cnn('multiple-OL-cnn', mvsa_multiple_images, mvsa_multiple_image_labels, verbose=1)"
   ]
  },
  {
   "cell_type": "markdown",
   "id": "6cfb3f09",
   "metadata": {
    "papermill": {
     "duration": 0.207106,
     "end_time": "2022-07-04T10:49:31.211638",
     "exception": false,
     "start_time": "2022-07-04T10:49:31.004532",
     "status": "completed"
    },
    "tags": []
   },
   "source": [
    "## With multimodal labels"
   ]
  },
  {
   "cell_type": "code",
   "execution_count": 17,
   "id": "ebbeb186",
   "metadata": {
    "execution": {
     "iopub.execute_input": "2022-07-04T10:49:31.558663Z",
     "iopub.status.busy": "2022-07-04T10:49:31.557138Z",
     "iopub.status.idle": "2022-07-04T10:49:31.563849Z",
     "shell.execute_reply": "2022-07-04T10:49:31.562365Z"
    },
    "papermill": {
     "duration": 0.147726,
     "end_time": "2022-07-04T10:49:31.566738",
     "exception": false,
     "start_time": "2022-07-04T10:49:31.419012",
     "status": "completed"
    },
    "tags": []
   },
   "outputs": [],
   "source": [
    "# history_single_ML, score = run_and_evaluate_cnn('single-ML-cnn', mvsa_single_images, mvsa_single_multimodal_labels, verbose=1)"
   ]
  },
  {
   "cell_type": "code",
   "execution_count": 18,
   "id": "9d95006d",
   "metadata": {
    "execution": {
     "iopub.execute_input": "2022-07-04T10:49:31.846217Z",
     "iopub.status.busy": "2022-07-04T10:49:31.845443Z",
     "iopub.status.idle": "2022-07-04T10:54:11.391366Z",
     "shell.execute_reply": "2022-07-04T10:54:11.389806Z"
    },
    "papermill": {
     "duration": 279.688264,
     "end_time": "2022-07-04T10:54:11.394037",
     "exception": false,
     "start_time": "2022-07-04T10:49:31.705773",
     "status": "completed"
    },
    "tags": []
   },
   "outputs": [
    {
     "name": "stdout",
     "output_type": "stream",
     "text": [
      "Epoch 1/100\n",
      "107/107 [==============================] - 13s 109ms/step - loss: 24.3064 - accuracy: 0.6322 - f1_macro: 0.3285 - f1_weighted: 0.5604 - val_loss: 0.9270 - val_accuracy: 0.7262 - val_f1_macro: 0.2805 - val_f1_weighted: 0.6125\n",
      "\n",
      "Epoch 00001: val_loss improved from inf to 0.92703, saving model to ./model_checkpoint/multiple-ML-cnn.h5\n",
      "Epoch 2/100\n",
      "107/107 [==============================] - 12s 108ms/step - loss: 0.9054 - accuracy: 0.6604 - f1_macro: 0.2699 - f1_weighted: 0.5287 - val_loss: 0.8069 - val_accuracy: 0.7274 - val_f1_macro: 0.2807 - val_f1_weighted: 0.6131\n",
      "\n",
      "Epoch 00002: val_loss improved from 0.92703 to 0.80686, saving model to ./model_checkpoint/multiple-ML-cnn.h5\n",
      "Epoch 3/100\n",
      "107/107 [==============================] - 11s 107ms/step - loss: 0.8452 - accuracy: 0.6614 - f1_macro: 0.2722 - f1_weighted: 0.5307 - val_loss: 0.7545 - val_accuracy: 0.7274 - val_f1_macro: 0.2824 - val_f1_weighted: 0.6142\n",
      "\n",
      "Epoch 00003: val_loss improved from 0.80686 to 0.75451, saving model to ./model_checkpoint/multiple-ML-cnn.h5\n",
      "Epoch 4/100\n",
      "107/107 [==============================] - 11s 106ms/step - loss: 0.8167 - accuracy: 0.6651 - f1_macro: 0.2843 - f1_weighted: 0.5399 - val_loss: 0.7364 - val_accuracy: 0.7268 - val_f1_macro: 0.2823 - val_f1_weighted: 0.6139\n",
      "\n",
      "Epoch 00004: val_loss improved from 0.75451 to 0.73638, saving model to ./model_checkpoint/multiple-ML-cnn.h5\n",
      "Epoch 5/100\n",
      "107/107 [==============================] - 11s 107ms/step - loss: 0.8015 - accuracy: 0.6685 - f1_macro: 0.2969 - f1_weighted: 0.5477 - val_loss: 0.7324 - val_accuracy: 0.7256 - val_f1_macro: 0.2837 - val_f1_weighted: 0.6144\n",
      "\n",
      "Epoch 00005: val_loss improved from 0.73638 to 0.73239, saving model to ./model_checkpoint/multiple-ML-cnn.h5\n",
      "Epoch 6/100\n",
      "107/107 [==============================] - 11s 107ms/step - loss: 0.7910 - accuracy: 0.6715 - f1_macro: 0.3123 - f1_weighted: 0.5571 - val_loss: 0.7380 - val_accuracy: 0.7197 - val_f1_macro: 0.2808 - val_f1_weighted: 0.6106\n",
      "\n",
      "Epoch 00006: val_loss did not improve from 0.73239\n",
      "Epoch 7/100\n",
      "107/107 [==============================] - 12s 108ms/step - loss: 0.7797 - accuracy: 0.6763 - f1_macro: 0.3318 - f1_weighted: 0.5686 - val_loss: 0.7487 - val_accuracy: 0.7192 - val_f1_macro: 0.2839 - val_f1_weighted: 0.6123\n",
      "\n",
      "Epoch 00007: val_loss did not improve from 0.73239\n",
      "Epoch 8/100\n",
      "107/107 [==============================] - 11s 108ms/step - loss: 0.7750 - accuracy: 0.6780 - f1_macro: 0.3434 - f1_weighted: 0.5755 - val_loss: 0.7765 - val_accuracy: 0.7133 - val_f1_macro: 0.2915 - val_f1_weighted: 0.6151\n",
      "\n",
      "Epoch 00008: val_loss did not improve from 0.73239\n",
      "Epoch 9/100\n",
      "107/107 [==============================] - 11s 107ms/step - loss: 0.7685 - accuracy: 0.6827 - f1_macro: 0.3573 - f1_weighted: 0.5847 - val_loss: 0.8009 - val_accuracy: 0.7103 - val_f1_macro: 0.2939 - val_f1_weighted: 0.6159\n",
      "\n",
      "Epoch 00009: val_loss did not improve from 0.73239\n",
      "Epoch 10/100\n",
      "107/107 [==============================] - 12s 110ms/step - loss: 0.7610 - accuracy: 0.6837 - f1_macro: 0.3749 - f1_weighted: 0.5921 - val_loss: 0.8078 - val_accuracy: 0.7039 - val_f1_macro: 0.2961 - val_f1_weighted: 0.6149\n",
      "\n",
      "Epoch 00010: val_loss did not improve from 0.73239\n",
      "Epoch 11/100\n",
      "107/107 [==============================] - 11s 107ms/step - loss: 0.7522 - accuracy: 0.6887 - f1_macro: 0.3848 - f1_weighted: 0.5979 - val_loss: 0.8507 - val_accuracy: 0.6986 - val_f1_macro: 0.2944 - val_f1_weighted: 0.6118\n",
      "\n",
      "Epoch 00011: val_loss did not improve from 0.73239\n",
      "Epoch 12/100\n",
      "107/107 [==============================] - 12s 109ms/step - loss: 0.7502 - accuracy: 0.6916 - f1_macro: 0.3989 - f1_weighted: 0.6068 - val_loss: 0.7935 - val_accuracy: 0.7080 - val_f1_macro: 0.2873 - val_f1_weighted: 0.6107\n",
      "\n",
      "Epoch 00012: val_loss did not improve from 0.73239\n",
      "Epoch 13/100\n",
      "107/107 [==============================] - 11s 107ms/step - loss: 0.7662 - accuracy: 0.6832 - f1_macro: 0.3702 - f1_weighted: 0.5908 - val_loss: 0.8430 - val_accuracy: 0.7062 - val_f1_macro: 0.2983 - val_f1_weighted: 0.6174\n",
      "\n",
      "Epoch 00013: val_loss did not improve from 0.73239\n",
      "Epoch 14/100\n",
      "107/107 [==============================] - 12s 109ms/step - loss: 0.7486 - accuracy: 0.6899 - f1_macro: 0.3967 - f1_weighted: 0.6041 - val_loss: 1.0210 - val_accuracy: 0.6863 - val_f1_macro: 0.3068 - val_f1_weighted: 0.6132\n",
      "\n",
      "Epoch 00014: val_loss did not improve from 0.73239\n",
      "Epoch 15/100\n",
      "107/107 [==============================] - 11s 106ms/step - loss: 0.7562 - accuracy: 0.6870 - f1_macro: 0.3890 - f1_weighted: 0.5992 - val_loss: 0.7804 - val_accuracy: 0.7203 - val_f1_macro: 0.2889 - val_f1_weighted: 0.6158\n",
      "\n",
      "Epoch 00015: val_loss did not improve from 0.73239\n",
      "Checkpoint loaded at epoch: 4\n",
      "14/14 [==============================] - 1s 37ms/step - loss: 0.9263 - accuracy: 0.6387 - f1_macro: 0.2649 - f1_weighted: 0.5028\n",
      "Loss: 0.9262576699256897\n",
      "Accuracy: 0.6386603713035583\n",
      "Macro F1-score: 0.2648673355579376\n",
      "Weighted F1-score: 0.502764105796814\n",
      "14/14 [==============================] - 1s 29ms/step\n"
     ]
    },
    {
     "data": {
      "image/png": "[encoded data removed]",
      "text/plain": [
       "<Figure size 432x288 with 2 Axes>"
      ]
     },
     "metadata": {
      "needs_background": "light"
     },
     "output_type": "display_data"
    }
   ],
   "source": [
    "history_multiple_ML, score = run_and_evaluate_cnn('multiple-ML-cnn', mvsa_multiple_images, mvsa_multiple_multimodal_labels, verbose=1)"
   ]
  },
  {
   "cell_type": "markdown",
   "id": "a87c9efe",
   "metadata": {
    "papermill": {
     "duration": 0.238606,
     "end_time": "2022-07-04T10:54:11.878285",
     "exception": false,
     "start_time": "2022-07-04T10:54:11.639679",
     "status": "completed"
    },
    "tags": []
   },
   "source": [
    "## With merge MVSA data"
   ]
  },
  {
   "cell_type": "code",
   "execution_count": 19,
   "id": "bc073870",
   "metadata": {
    "execution": {
     "iopub.execute_input": "2022-07-04T10:54:12.345675Z",
     "iopub.status.busy": "2022-07-04T10:54:12.345250Z",
     "iopub.status.idle": "2022-07-04T10:54:12.350659Z",
     "shell.execute_reply": "2022-07-04T10:54:12.349321Z"
    },
    "papermill": {
     "duration": 0.24218,
     "end_time": "2022-07-04T10:54:12.353785",
     "exception": false,
     "start_time": "2022-07-04T10:54:12.111605",
     "status": "completed"
    },
    "tags": []
   },
   "outputs": [],
   "source": [
    "# history_OL, score = run_and_evaluate_cnn('OL-cnn', mvsa_images, mvsa_image_labels, verbose=1)"
   ]
  },
  {
   "cell_type": "code",
   "execution_count": 20,
   "id": "54267829",
   "metadata": {
    "execution": {
     "iopub.execute_input": "2022-07-04T10:54:12.870462Z",
     "iopub.status.busy": "2022-07-04T10:54:12.870025Z",
     "iopub.status.idle": "2022-07-04T10:54:12.875432Z",
     "shell.execute_reply": "2022-07-04T10:54:12.873976Z"
    },
    "papermill": {
     "duration": 0.286969,
     "end_time": "2022-07-04T10:54:12.877841",
     "exception": false,
     "start_time": "2022-07-04T10:54:12.590872",
     "status": "completed"
    },
    "tags": []
   },
   "outputs": [],
   "source": [
    "# history_ML, score = run_and_evaluate_cnn('ML-cnn', mvsa_images, mvsa_multimodal_labels, verbose=1)"
   ]
  },
  {
   "cell_type": "markdown",
   "id": "2198dd32",
   "metadata": {
    "papermill": {
     "duration": 0.238727,
     "end_time": "2022-07-04T10:54:13.356595",
     "exception": false,
     "start_time": "2022-07-04T10:54:13.117868",
     "status": "completed"
    },
    "tags": []
   },
   "source": [
    "# Drafts"
   ]
  },
  {
   "cell_type": "code",
   "execution_count": 21,
   "id": "47c6ce32",
   "metadata": {
    "execution": {
     "iopub.execute_input": "2022-07-04T10:54:13.839828Z",
     "iopub.status.busy": "2022-07-04T10:54:13.839452Z",
     "iopub.status.idle": "2022-07-04T10:54:13.847590Z",
     "shell.execute_reply": "2022-07-04T10:54:13.846398Z"
    },
    "papermill": {
     "duration": 0.256437,
     "end_time": "2022-07-04T10:54:13.850322",
     "exception": false,
     "start_time": "2022-07-04T10:54:13.593885",
     "status": "completed"
    },
    "tags": []
   },
   "outputs": [],
   "source": [
    "# datagen = ImageDataGenerator(\n",
    "#         shear_range=0.1,\n",
    "#         zoom_range=0.1,\n",
    "#         horizontal_flip=True,\n",
    "#         validation_split=0.1)\n",
    "\n",
    "# single_train_set = datagen.flow(\n",
    "#         mvsa_single_images, mvsa_single_image_labels,\n",
    "# #         target_size=IMAGE_SIZE,\n",
    "# #         batch_size=BATCH_SIZE,\n",
    "# #         class_mode='categorical', \n",
    "#         subset='training')\n",
    "\n",
    "# single_test_set = datagen.flow(\n",
    "#         mvsa_single_images, mvsa_single_image_labels,\n",
    "#         subset='validation')\n",
    "\n",
    "# X_train, X_val, X_test = split_data(mvsa_single_images, VALIDATION_SPLIT)\n",
    "# y_train, y_val, y_test = split_data(mvsa_single_multimodal_labels, VALIDATION_SPLIT)\n",
    "\n",
    "# train_set = tf.data.Dataset.from_tensor_slices((X_train, y_train)).batch(BATCH_SIZE)\n",
    "# val_set = tf.data.Dataset.from_tensor_slices((X_val, y_val)).batch(BATCH_SIZE)\n",
    "# test_set = tf.data.Dataset.from_tensor_slices((X_test, y_test)).batch(BATCH_SIZE)\n",
    "\n",
    "# del X_train, X_val, X_test, y_train, y_val, y_test\n",
    "\n",
    "# data_path_single = '../input/mvsasingle/MVSA_Single/data/'\n",
    "\n",
    "# BATCH_SIZE = 32\n",
    "# EPOCHS = 10\n",
    "# IMAGE_SIZE = np.array([224, 224])\n",
    "\n",
    "# datagen = ImageDataGenerator(\n",
    "#         shear_range=0.1,\n",
    "#         zoom_range=0.1,\n",
    "#         horizontal_flip=True,\n",
    "#         validation_split=0.1)\n",
    "\n",
    "# train_set = datagen.flow_from_directory(\n",
    "#         data_path_single, classes=['0', '1', '2'],\n",
    "#         target_size=IMAGE_SIZE,\n",
    "#         batch_size=BATCH_SIZE,\n",
    "#         class_mode='categorical', subset='training')\n",
    "\n",
    "# # valid_set = datagen.flow_from_directory(\n",
    "# #         data_path_single,\n",
    "# #         target_size=IMAGE_SIZE,\n",
    "# #         batch_size=BATCH_SIZE,\n",
    "# #         class_mode='categorical',\n",
    "# #         subset='validation')"
   ]
  },
  {
   "cell_type": "code",
   "execution_count": 22,
   "id": "52a1f77a",
   "metadata": {
    "execution": {
     "iopub.execute_input": "2022-07-04T10:54:14.326242Z",
     "iopub.status.busy": "2022-07-04T10:54:14.325858Z",
     "iopub.status.idle": "2022-07-04T10:54:14.334342Z",
     "shell.execute_reply": "2022-07-04T10:54:14.332961Z"
    },
    "papermill": {
     "duration": 0.248275,
     "end_time": "2022-07-04T10:54:14.336786",
     "exception": false,
     "start_time": "2022-07-04T10:54:14.088511",
     "status": "completed"
    },
    "tags": []
   },
   "outputs": [],
   "source": [
    "# mvsa_single_images =  np.load('../input/mvsa-data/mvsa-single-4511-images.npz')['arr_0']\n",
    "# mvsa_multiple_images =  np.load('../input/mvsa-data/mvsa-multiple-17024-images.npz')['arr_0']\n",
    "\n",
    "# mvsa_single_images = tf.data.Dataset.from_tensor_slices((mvsa_single_images, mvsa_single_multimodal_labels)).batch(128)\n",
    "# mvsa_multiple_images = tf.data.Dataset.from_tensor_slices((mvsa_multiple_images, mvsa_multiple_multimodal_labels)).batch(128)\n",
    "# mvsa_images = mvsa_single_images.concatenate(mvsa_multiple_images).batch(128)\n",
    "\n",
    "#     if name == 'cnn':\n",
    "#         data = []#load_mvsa_images()]\n",
    "# #         x1 =  np.load('../input/mvsa-data/mvsa-single-4511-images.npz')['arr_0']\n",
    "#         x1 = tf.data.Dataset.from_tensor_slices((np.load('../input/mvsa-data/mvsa-single-4511-images.npz')['arr_0'], mvsa_single_multimodal_labels))#.batch(128)\n",
    "#         data.append(x1)\n",
    "\n",
    "# #         x2 =  np.load('../input/mvsa-data/mvsa-multiple-17024-images.npz')['arr_0']\n",
    "#         x2 = tf.data.Dataset.from_tensor_slices((np.load('../input/mvsa-data/mvsa-multiple-17024-images.npz')['arr_0'], mvsa_multiple_multimodal_labels))#.batch(128)\n",
    "#         data.append(x2)\n",
    "        \n",
    "#         merge_data = x1.concatenate(x2)#.batch(128)\n",
    "#         del x1, x2\n",
    "\n",
    "# # prepare all features data\n",
    "# feature_names = ['xception', 'vgg16', 'vgg19', 'resnet50', 'resnet101', 'resnet152', 'densenet121', 'densenet169', 'densenet201']\n",
    "\n",
    "# mvsa_single_features = []\n",
    "# mvsa_multiple_features = []\n",
    "# mvsa_features = []\n",
    "\n",
    "# for name in tqdm(feature_names):\n",
    "#     data = load_mvsa_feature(name)\n",
    "#     merge_data = merge_mvsa(data[0], data[1])\n",
    "    \n",
    "#     mvsa_single_features.append(data[0])\n",
    "#     mvsa_multiple_features.append(data[1])\n",
    "#     mvsa_features.append(merge_data)\n",
    "\n",
    "# # load separate\n",
    "# mvsa_single_images, mvsa_multiple_images = load_mvsa_images()\n",
    "# mvsa_single_xception, mvsa_multiple_xception = load_mvsa_feature('xception')\n",
    "# mvsa_single_vgg16, mvsa_multiple_vgg16 = load_mvsa_feature('vgg16')\n",
    "# mvsa_single_vgg19, mvsa_multiple_vgg19 = load_mvsa_feature('vgg19')\n",
    "# mvsa_single_resnet50, mvsa_multiple_resnet50 = load_mvsa_feature('resnet50')\n",
    "# mvsa_single_resnet101, mvsa_multiple_resnet101 = load_mvsa_feature('resnet101')\n",
    "# mvsa_single_resnet152, mvsa_multiple_resnet152 = load_mvsa_feature('resnet152')\n",
    "# mvsa_single_densenet121, mvsa_multiple_densenet121 = load_mvsa_feature('densenet121')\n",
    "# mvsa_single_densenet169, mvsa_multiple_densenet169 = load_mvsa_feature('densenet169')\n",
    "# mvsa_single_densenet201, mvsa_multiple_densenet201 = load_mvsa_feature('densenet201')\n",
    "\n",
    "# # load merge\n",
    "# mvsa_images = merge_mvsa(mvsa_single_images, mvsa_multiple_images)\n",
    "# mvsa_xception = merge_mvsa(mvsa_single_xception, mvsa_multiple_xception)\n",
    "# mvsa_vgg16 = merge_mvsa(mvsa_single_vgg16, mvsa_multiple_vgg16)\n",
    "# mvsa_vgg19 = merge_mvsa(mvsa_single_vgg19, mvsa_multiple_vgg19)\n",
    "# mvsa_resnet50 = merge_mvsa(mvsa_single_resnet50, mvsa_multiple_resnet50)\n",
    "# mvsa_resnet101 = merge_mvsa(mvsa_single_resnet101, mvsa_multiple_resnet101)\n",
    "# mvsa_resnet152 = merge_mvsa(mvsa_single_resnet152, mvsa_multiple_resnet152)\n",
    "# mvsa_densenet121 = merge_mvsa(mvsa_single_densenet121, mvsa_multiple_densenet121)\n",
    "# mvsa_densenet169 = merge_mvsa(mvsa_single_densenet169, mvsa_multiple_densenet169)\n",
    "# mvsa_densenet201 = merge_mvsa(mvsa_single_densenet201, mvsa_multiple_densenet201)\n",
    "\n",
    "# # prepare all features data\n",
    "# feature_names = ['cnn', 'xception', 'vgg16', 'vgg19', 'resnet50', 'resnet101', 'resnet152', 'densenet121', 'densenet169', 'densenet201']\n",
    "\n",
    "# mvsa_single_features = [mvsa_single_images,\n",
    "#                         mvsa_single_xception,\n",
    "#                         mvsa_single_vgg16, mvsa_single_vgg19, \n",
    "#                         mvsa_single_resnet50, mvsa_single_resnet101, mvsa_single_resnet152, \n",
    "#                         mvsa_single_densenet121, mvsa_single_densenet169, mvsa_single_densenet201]\n",
    "\n",
    "# mvsa_multiple_features = [mvsa_multiple_images,\n",
    "#                           mvsa_multiple_xception,\n",
    "#                           mvsa_multiple_vgg16, mvsa_multiple_vgg19, \n",
    "#                           mvsa_multiple_resnet50, mvsa_multiple_resnet101, mvsa_multiple_resnet152, \n",
    "#                           mvsa_multiple_densenet121, mvsa_multiple_densenet169, mvsa_multiple_densenet201]\n",
    "\n",
    "# mvsa_features = [mvsa_images,\n",
    "#                  mvsa_xception,\n",
    "#                  mvsa_vgg16, mvsa_vgg19, \n",
    "#                  mvsa_resnet50, mvsa_resnet101, mvsa_resnet152, \n",
    "#                  mvsa_densenet121, mvsa_densenet169, mvsa_densenet201]"
   ]
  }
 ],
 "metadata": {
  "kernelspec": {
   "display_name": "Python 3",
   "language": "python",
   "name": "python3"
  },
  "language_info": {
   "codemirror_mode": {
    "name": "ipython",
    "version": 3
   },
   "file_extension": ".py",
   "mimetype": "text/x-python",
   "name": "python",
   "nbconvert_exporter": "python",
   "pygments_lexer": "ipython3",
   "version": "3.7.12"
  },
  "papermill": {
   "default_parameters": {},
   "duration": 615.992257,
   "end_time": "2022-07-04T10:54:17.805000",
   "environment_variables": {},
   "exception": null,
   "input_path": "__notebook__.ipynb",
   "output_path": "__notebook__.ipynb",
   "parameters": {},
   "start_time": "2022-07-04T10:44:01.812743",
   "version": "2.3.4"
  }
 },
 "nbformat": 4,
 "nbformat_minor": 5
}
