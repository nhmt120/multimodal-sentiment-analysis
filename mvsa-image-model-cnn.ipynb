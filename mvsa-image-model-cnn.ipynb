{
 "cells": [
  {
   "cell_type": "code",
   "execution_count": 1,
   "id": "462670e2",
   "metadata": {
    "_cell_guid": "b1076dfc-b9ad-4769-8c92-a6c4dae69d19",
    "_uuid": "8f2839f25d086af736a60e9eeb907d3b93b6e0e5",
    "execution": {
     "iopub.execute_input": "2022-07-04T14:56:22.753169Z",
     "iopub.status.busy": "2022-07-04T14:56:22.752829Z",
     "iopub.status.idle": "2022-07-04T14:56:31.147384Z",
     "shell.execute_reply": "2022-07-04T14:56:31.146386Z"
    },
    "papermill": {
     "duration": 8.407189,
     "end_time": "2022-07-04T14:56:31.149890",
     "exception": false,
     "start_time": "2022-07-04T14:56:22.742701",
     "status": "completed"
    },
    "tags": []
   },
   "outputs": [],
   "source": [
    "SEED = 61\n",
    "\n",
    "\n",
    "import os\n",
    "import re\n",
    "import gc\n",
    "import h5py\n",
    "import torch\n",
    "import numpy as np\n",
    "import pandas as pd\n",
    "import tensorflow as tf\n",
    "import random as python_random\n",
    "import matplotlib.pyplot as plt\n",
    "import tensorflow_addons as tfa\n",
    "\n",
    "from tqdm import tqdm\n",
    "from nltk import tokenize\n",
    "\n",
    "from sklearn import preprocessing\n",
    "from sklearn.decomposition import PCA\n",
    "from sklearn.metrics import f1_score, accuracy_score, confusion_matrix, ConfusionMatrixDisplay, classification_report\n",
    "from IPython.display import display_html\n",
    "\n",
    "from keras import backend as K\n",
    "from keras import initializers,regularizers,constraints\n",
    "from keras.preprocessing.image import ImageDataGenerator\n",
    "from keras.preprocessing.text import Tokenizer, text_to_word_sequence\n",
    "from keras.preprocessing.sequence import pad_sequences\n",
    "from keras.utils.np_utils import to_categorical\n",
    "from keras.layers import Reshape, Input, Embedding, Flatten, Dense, Dropout, BatchNormalization, Activation #, merge\n",
    "from keras.layers import TimeDistributed, LSTM, GRU, Bidirectional, Convolution1D, MaxPooling1D, MaxPool2D, Convolution2D\n",
    "from keras.layers.core import RepeatVector, Reshape\n",
    "from keras.callbacks import ModelCheckpoint, EarlyStopping, ReduceLROnPlateau\n",
    "from keras.models import Sequential, Model, load_model\n",
    "from sklearn.model_selection import cross_val_score\n",
    "\n",
    "def reset_seeds():\n",
    "    np.random.seed(SEED) \n",
    "    python_random.seed(SEED)\n",
    "    tf.random.set_seed(SEED)\n",
    "    os.environ[\"PYTHONHASHSEED\"] = str(SEED)\n",
    "\n",
    "# from tensorflow.python.keras.layers import Layer, InputSpec, Lambda\n",
    "# from tensorflow.keras import Model\n",
    "# from attention import Attention_input1, Attention_input2\n",
    "# from keras.optimizers import SGD, RMSprop, Adagrad"
   ]
  },
  {
   "cell_type": "code",
   "execution_count": 2,
   "id": "73703453",
   "metadata": {
    "execution": {
     "iopub.execute_input": "2022-07-04T14:56:31.166420Z",
     "iopub.status.busy": "2022-07-04T14:56:31.164576Z",
     "iopub.status.idle": "2022-07-04T14:56:31.172303Z",
     "shell.execute_reply": "2022-07-04T14:56:31.171414Z"
    },
    "papermill": {
     "duration": 0.017256,
     "end_time": "2022-07-04T14:56:31.174177",
     "exception": false,
     "start_time": "2022-07-04T14:56:31.156921",
     "status": "completed"
    },
    "tags": []
   },
   "outputs": [],
   "source": [
    "def read_hdf5(path):\n",
    "    read_file = h5py.File(path, 'r')\n",
    "\n",
    "    feature_names = list(read_file.keys())\n",
    "    loaded_data = []\n",
    "    \n",
    "    for name in feature_names:\n",
    "        dataset = read_file[name][:]\n",
    "        if dataset.dtype == np.dtype('object'):\n",
    "            dataset = np.array([x.decode('UTF-8') for x in dataset])            \n",
    "        loaded_data.append((name, dataset))\n",
    "\n",
    "    return loaded_data\n",
    "\n",
    "def loadz(path):\n",
    "    data = np.load(path)['arr_0']\n",
    "    return data"
   ]
  },
  {
   "cell_type": "code",
   "execution_count": 3,
   "id": "eba06861",
   "metadata": {
    "execution": {
     "iopub.execute_input": "2022-07-04T14:56:31.188096Z",
     "iopub.status.busy": "2022-07-04T14:56:31.187317Z",
     "iopub.status.idle": "2022-07-04T14:56:31.199169Z",
     "shell.execute_reply": "2022-07-04T14:56:31.198239Z"
    },
    "papermill": {
     "duration": 0.020704,
     "end_time": "2022-07-04T14:56:31.201027",
     "exception": false,
     "start_time": "2022-07-04T14:56:31.180323",
     "status": "completed"
    },
    "tags": []
   },
   "outputs": [],
   "source": [
    "def load_labels(path):\n",
    "    data = read_hdf5(path)\n",
    "\n",
    "    for x in data:\n",
    "        if x[0] == 'multimodal-labels':\n",
    "            labels = x[1]\n",
    "        if x[0] == 'text-labels':\n",
    "            text_labels = x[1]\n",
    "        if x[0] == 'image-labels':\n",
    "            image_labels = x[1]\n",
    "\n",
    "    return labels, text_labels, image_labels\n",
    "\n",
    "def load_mvsa_feature(feature_name, merge=False):\n",
    "    folder_path = os.path.join('../input/mvsa-features/', feature_name)\n",
    "    single_file = 'mvsa-single-{}.npz'.format(feature_name)\n",
    "    multiple_file = 'mvsa-multiple-{}.npz'.format(feature_name)\n",
    "    mvsa_single = loadz(os.path.join(folder_path, single_file))\n",
    "    mvsa_multiple = loadz(os.path.join(folder_path, multiple_file))\n",
    "    \n",
    "    if merge == True:\n",
    "        return merge_mvsa(mvsa_single, mvsa_multiple)\n",
    "    \n",
    "    return mvsa_single, mvsa_multiple\n",
    "\n",
    "def load_mvsa_images(merge=False):\n",
    "    folder_path = '../input/mvsa-data'\n",
    "    file_paths = os.listdir(folder_path)\n",
    "    for path in file_paths:\n",
    "        file_name = os.path.split(path)[1]\n",
    "        if file_name.split('.')[1] == 'npz':\n",
    "            if file_name.split('-')[1] == 'single':\n",
    "                mvsa_single_images_path = os.path.join(folder_path, path)\n",
    "            else:\n",
    "                mvsa_multiple_images_path = os.path.join(folder_path, path)\n",
    "    \n",
    "    mvsa_single = loadz(mvsa_single_images_path)\n",
    "    mvsa_multiple = loadz(mvsa_multiple_images_path)\n",
    "    \n",
    "    if merge == True:\n",
    "        return merge_mvsa(mvsa_single, mvsa_multiple)\n",
    "    \n",
    "    return mvsa_single, mvsa_multiple\n",
    "\n",
    "def merge_mvsa(mvsa_single, mvsa_multiple):\n",
    "    mvsa = np.concatenate((mvsa_single, mvsa_multiple), axis=0)\n",
    "    return mvsa"
   ]
  },
  {
   "cell_type": "code",
   "execution_count": 4,
   "id": "63c7a6fc",
   "metadata": {
    "execution": {
     "iopub.execute_input": "2022-07-04T14:56:31.214275Z",
     "iopub.status.busy": "2022-07-04T14:56:31.214006Z",
     "iopub.status.idle": "2022-07-04T14:56:31.224013Z",
     "shell.execute_reply": "2022-07-04T14:56:31.223172Z"
    },
    "papermill": {
     "duration": 0.018817,
     "end_time": "2022-07-04T14:56:31.225933",
     "exception": false,
     "start_time": "2022-07-04T14:56:31.207116",
     "status": "completed"
    },
    "tags": []
   },
   "outputs": [],
   "source": [
    "def plot_metrics(history):\n",
    "    fig = plt.figure(figsize=(20, 5))\n",
    "\n",
    "    fig.add_subplot(1, 4, 1)\n",
    "    plt.plot(history.history['loss'])\n",
    "    plt.plot(history.history['val_loss'])\n",
    "    plt.title('LOSS')\n",
    "    plt.ylabel('loss')\n",
    "    plt.xlabel('epoch')\n",
    "    plt.legend(['train', 'val'], loc='best')\n",
    "\n",
    "    fig.add_subplot(1, 4, 2)\n",
    "    plt.plot(history.history['accuracy'])\n",
    "    plt.plot(history.history['val_accuracy'])\n",
    "    plt.title('ACCURACY')\n",
    "    plt.ylabel('accuracy')\n",
    "    plt.xlabel('epoch')\n",
    "    plt.legend(['train', 'val'], loc='best')\n",
    "\n",
    "    fig.add_subplot(1, 4, 3)\n",
    "    plt.plot(history.history['f1_macro'])\n",
    "    plt.plot(history.history['val_f1_macro'])\n",
    "    plt.title('Macro F1-SCORE')\n",
    "    plt.ylabel('f1-macro')\n",
    "    plt.xlabel('epoch')\n",
    "    plt.legend(['train', 'val'], loc='best')\n",
    "    \n",
    "    fig.add_subplot(1, 4, 4)\n",
    "    plt.plot(history.history['f1_weighted'])\n",
    "    plt.plot(history.history['val_f1_weighted'])\n",
    "    plt.title('Weighted F1-SCORE')\n",
    "    plt.ylabel('f1-weighted')\n",
    "    plt.xlabel('epoch')\n",
    "    plt.legend(['train', 'val'], loc='best')\n",
    "\n",
    "    plt.show()"
   ]
  },
  {
   "cell_type": "code",
   "execution_count": 5,
   "id": "8ce791bf",
   "metadata": {
    "execution": {
     "iopub.execute_input": "2022-07-04T14:56:31.240337Z",
     "iopub.status.busy": "2022-07-04T14:56:31.239445Z",
     "iopub.status.idle": "2022-07-04T14:56:31.247757Z",
     "shell.execute_reply": "2022-07-04T14:56:31.246865Z"
    },
    "papermill": {
     "duration": 0.017486,
     "end_time": "2022-07-04T14:56:31.249707",
     "exception": false,
     "start_time": "2022-07-04T14:56:31.232221",
     "status": "completed"
    },
    "tags": []
   },
   "outputs": [],
   "source": [
    "# e.g. validation_split=0.1 -----> 8:1:1 ratio of train, val, test\n",
    "def split_data(data, validation_split):\n",
    "    num_val = int(validation_split * len(data))\n",
    "    data_train = data[:-(num_val*2)]\n",
    "    data_val = data[-(num_val*2):-(num_val)]\n",
    "    data_test = data[-num_val:]\n",
    "    return data_train, data_val, data_test\n",
    "\n",
    "# e.g. validation_split=0.1 -----> 8:1:1 ratio of train, val, test\n",
    "def split_tf_data(data, validation_split):\n",
    "    DATASET_SIZE = len(data)\n",
    "    train_size = int((1-validation_split*2) * DATASET_SIZE)\n",
    "    val_size = int(validation_split * DATASET_SIZE)\n",
    "    test_size = int(validation_split * DATASET_SIZE)\n",
    "\n",
    "#     full_dataset = tf.data.TFRecordDataset(FLAGS.input_file)\n",
    "#     full_dataset = full_dataset.shuffle()\n",
    "    train_dataset = data.take(train_size)\n",
    "    test_dataset = data.skip(train_size)\n",
    "    val_dataset = test_dataset.skip(test_size)\n",
    "    test_dataset = test_dataset.take(test_size)\n",
    "    return train_dataset, val_dataset, test_dataset"
   ]
  },
  {
   "cell_type": "code",
   "execution_count": 6,
   "id": "247f51a4",
   "metadata": {
    "execution": {
     "iopub.execute_input": "2022-07-04T14:56:31.263129Z",
     "iopub.status.busy": "2022-07-04T14:56:31.262835Z",
     "iopub.status.idle": "2022-07-04T14:56:31.272111Z",
     "shell.execute_reply": "2022-07-04T14:56:31.271212Z"
    },
    "papermill": {
     "duration": 0.018095,
     "end_time": "2022-07-04T14:56:31.273951",
     "exception": false,
     "start_time": "2022-07-04T14:56:31.255856",
     "status": "completed"
    },
    "tags": []
   },
   "outputs": [],
   "source": [
    "def create_model_cnn(input_shape):\n",
    "    f1_macro = tfa.metrics.F1Score(num_classes=NUM_CLASSES, average='macro', name='f1_macro')\n",
    "    f1_weighted = tfa.metrics.F1Score(num_classes=NUM_CLASSES, average='weighted', name='f1_weighted')\n",
    "\n",
    "    image_inputs = Input(shape=input_shape)\n",
    "#     x = Reshape((1, input_shape[0], input_shape[1], input_shape[2])) (image_inputs)\n",
    "    x = Convolution2D(32, kernel_size=(5,5), strides=(1,1), activation='relu') (image_inputs)\n",
    "#     x = Reshape((x.shape[2], x.shape[3], x.shape[4])) (x)\n",
    "    x = MaxPool2D(pool_size=(2,2)) (x)\n",
    "    x = Convolution2D(64, kernel_size=(5,5), strides=(1,1), activation='relu') (x)\n",
    "    x = MaxPool2D(pool_size=(2,2)) (x)\n",
    "    x = Convolution2D(128, kernel_size=(5,5), strides=(1,1), activation='relu') (x)\n",
    "    x = MaxPool2D(pool_size=(2,2)) (x)\n",
    "    x = Flatten() (x)\n",
    "    x = Dense(64, activation='relu') (x)\n",
    "    outputs = Dense(NUM_CLASSES, activation='softmax') (x)\n",
    "\n",
    "    model = Model(image_inputs, outputs)\n",
    "    model.compile(optimizer='adam', loss='categorical_crossentropy', metrics=['accuracy', f1_macro, f1_weighted])\n",
    "    return model"
   ]
  },
  {
   "cell_type": "code",
   "execution_count": 7,
   "id": "7efbf6cc",
   "metadata": {
    "execution": {
     "iopub.execute_input": "2022-07-04T14:56:31.287566Z",
     "iopub.status.busy": "2022-07-04T14:56:31.287313Z",
     "iopub.status.idle": "2022-07-04T14:56:31.297689Z",
     "shell.execute_reply": "2022-07-04T14:56:31.296703Z"
    },
    "papermill": {
     "duration": 0.019696,
     "end_time": "2022-07-04T14:56:31.299658",
     "exception": false,
     "start_time": "2022-07-04T14:56:31.279962",
     "status": "completed"
    },
    "tags": []
   },
   "outputs": [],
   "source": [
    "def run_and_evaluate(name, X, y, verbose=0):\n",
    "    y = le.fit_transform(y)\n",
    "    y = to_categorical(np.asarray(y))\n",
    "    \n",
    "    X_train, X_val, X_test = split_data(X, VALIDATION_SPLIT)\n",
    "    y_train, y_val, y_test = split_data(y, VALIDATION_SPLIT)\n",
    "    \n",
    "    model = create_model_pretrained(X_train.shape[1:])\n",
    "    early_stopping = EarlyStopping(monitor='val_loss', min_delta=1e-4, patience=EARLY_STOPPING)\n",
    "    checkpoint = ModelCheckpoint('./model_checkpoint/{}.h5'.format(name), save_best_only=True, verbose=verbose)\n",
    "    \n",
    "    history = model.fit(X_train, y_train, validation_data=(X_val, y_val), \n",
    "                                   epochs=EPOCHS, batch_size=BATCH_SIZE, verbose=verbose,\n",
    "                                   callbacks=[checkpoint, early_stopping])\n",
    "    if verbose == 1:\n",
    "        best_epoch = np.argmin(history.history['val_loss'])\n",
    "        print('Checkpoint loaded at epoch:', best_epoch)\n",
    "    \n",
    "    return history, evaluate_model(model, X_test, y_test, checkpoint=name, verbose=verbose)\n",
    "\n",
    "def evaluate_model(model, X_test, y_test, checkpoint=None, verbose=1):\n",
    "    if checkpoint is not None:\n",
    "        model = load_model('./model_checkpoint/{}.h5'.format(checkpoint))\n",
    "    \n",
    "    loss, acc, f1_macro, f1_weighted = model.evaluate(X_test, y_test, verbose=verbose)\n",
    "    \n",
    "    if verbose == 1:\n",
    "        print('Loss:', loss)\n",
    "        print('Accuracy:', acc)\n",
    "        print('Macro F1-score:', f1_macro)\n",
    "        print('Weighted F1-score:', f1_weighted)\n",
    "        \n",
    "    return loss, acc, f1_macro, f1_weighted"
   ]
  },
  {
   "cell_type": "code",
   "execution_count": 8,
   "id": "bc16df61",
   "metadata": {
    "execution": {
     "iopub.execute_input": "2022-07-04T14:56:31.312927Z",
     "iopub.status.busy": "2022-07-04T14:56:31.312478Z",
     "iopub.status.idle": "2022-07-04T14:56:31.322741Z",
     "shell.execute_reply": "2022-07-04T14:56:31.321912Z"
    },
    "papermill": {
     "duration": 0.019056,
     "end_time": "2022-07-04T14:56:31.324707",
     "exception": false,
     "start_time": "2022-07-04T14:56:31.305651",
     "status": "completed"
    },
    "tags": []
   },
   "outputs": [],
   "source": [
    "def run_and_evaluate_cnn(name, X, y, verbose=0):\n",
    "    y = le.fit_transform(y)\n",
    "    y = to_categorical(np.asarray(y))\n",
    "    \n",
    "    X_train, X_val, X_test = split_data(X, VALIDATION_SPLIT)\n",
    "    y_train, y_val, y_test = split_data(y, VALIDATION_SPLIT)\n",
    "    \n",
    "    model = create_model_cnn((224, 224, 3))\n",
    "    early_stopping = EarlyStopping(monitor='val_loss', min_delta=1e-4, patience=EARLY_STOPPING)\n",
    "    checkpoint = ModelCheckpoint('./model_checkpoint/{}.h5'.format(name), save_best_only=True, verbose=verbose)\n",
    "    \n",
    "    train_set = tf.data.Dataset.from_tensor_slices((X_train, y_train)).batch(BATCH_SIZE)\n",
    "    val_set = tf.data.Dataset.from_tensor_slices((X_val, y_val)).batch(BATCH_SIZE)\n",
    "    test_set = tf.data.Dataset.from_tensor_slices((X_test, y_test)).batch(BATCH_SIZE)\n",
    "    \n",
    "    history = model.fit(train_set, validation_data=val_set, \n",
    "                                   epochs=EPOCHS, batch_size=BATCH_SIZE, verbose=verbose,\n",
    "                                   callbacks=[checkpoint, early_stopping])\n",
    "    if verbose == 1:\n",
    "        best_epoch = np.argmin(history.history['val_loss'])\n",
    "        print('Checkpoint loaded at epoch:', best_epoch)\n",
    "    \n",
    "    return history, evaluate_model_cnn(model, test_set, checkpoint=name, verbose=verbose)"
   ]
  },
  {
   "cell_type": "code",
   "execution_count": 9,
   "id": "029f0830",
   "metadata": {
    "execution": {
     "iopub.execute_input": "2022-07-04T14:56:31.338384Z",
     "iopub.status.busy": "2022-07-04T14:56:31.337763Z",
     "iopub.status.idle": "2022-07-04T14:56:31.347019Z",
     "shell.execute_reply": "2022-07-04T14:56:31.346176Z"
    },
    "papermill": {
     "duration": 0.018091,
     "end_time": "2022-07-04T14:56:31.348826",
     "exception": false,
     "start_time": "2022-07-04T14:56:31.330735",
     "status": "completed"
    },
    "tags": []
   },
   "outputs": [],
   "source": [
    "def evaluate_model_cnn(model, test_set, checkpoint=None, verbose=1):\n",
    "    if checkpoint is not None:\n",
    "        model = load_model('./model_checkpoint/{}.h5'.format(checkpoint))\n",
    "    \n",
    "    loss, acc, f1_macro, f1_weighted = model.evaluate(test_set, batch_size=BATCH_SIZE, verbose=verbose)\n",
    "        \n",
    "    if verbose == 1:\n",
    "        print('Loss:', loss)\n",
    "        print('Accuracy:', acc)\n",
    "        print('Macro F1-score:', f1_macro)\n",
    "        print('Weighted F1-score:', f1_weighted)\n",
    "        \n",
    "        y_true = le.inverse_transform(np.concatenate([y for x, y in test_set], axis=0).argmax(axis=1))\n",
    "        y_pred = le.inverse_transform(model.predict(test_set, batch_size=BATCH_SIZE, verbose=verbose).argmax(axis=1))\n",
    "\n",
    "        matrix = confusion_matrix(y_true, y_pred,\n",
    "                                  labels=list(le.classes_))\n",
    "        cm_disp = ConfusionMatrixDisplay(confusion_matrix=matrix,\n",
    "                                  display_labels=list(le.classes_))\n",
    "        cm_disp.plot()\n",
    "        plt.show()\n",
    " \n",
    "    return loss, acc, f1_macro, f1_weighted"
   ]
  },
  {
   "cell_type": "code",
   "execution_count": 10,
   "id": "47accbf2",
   "metadata": {
    "execution": {
     "iopub.execute_input": "2022-07-04T14:56:31.361716Z",
     "iopub.status.busy": "2022-07-04T14:56:31.361465Z",
     "iopub.status.idle": "2022-07-04T14:56:31.368532Z",
     "shell.execute_reply": "2022-07-04T14:56:31.367532Z"
    },
    "papermill": {
     "duration": 0.015965,
     "end_time": "2022-07-04T14:56:31.370733",
     "exception": false,
     "start_time": "2022-07-04T14:56:31.354768",
     "status": "completed"
    },
    "tags": []
   },
   "outputs": [],
   "source": [
    "def new_run_and_evaluate_cnn(name, train_set, test_set, verbose=0):\n",
    "    \n",
    "    model = create_model_cnn((224, 224, 3))\n",
    "    early_stopping = EarlyStopping(monitor='val_loss', min_delta=1e-4, patience=EARLY_STOPPING)\n",
    "    checkpoint = ModelCheckpoint('./model_checkpoint/{}.h5'.format(name), save_best_only=True, verbose=verbose)\n",
    "    \n",
    "    history = model.fit(train_set, \n",
    "                                   epochs=EPOCHS, batch_size=BATCH_SIZE, verbose=verbose,\n",
    "                                   callbacks=[checkpoint, early_stopping])\n",
    "    if verbose == 1:\n",
    "        best_epoch = np.argmin(history.history['val_loss'])\n",
    "        print('Checkpoint loaded at epoch:', best_epoch)\n",
    "    \n",
    "    return history, evaluate_model_cnn(model, test_set, checkpoint=name, verbose=verbose)"
   ]
  },
  {
   "cell_type": "code",
   "execution_count": 11,
   "id": "8cb4d031",
   "metadata": {
    "execution": {
     "iopub.execute_input": "2022-07-04T14:56:31.383580Z",
     "iopub.status.busy": "2022-07-04T14:56:31.383337Z",
     "iopub.status.idle": "2022-07-04T14:56:31.392824Z",
     "shell.execute_reply": "2022-07-04T14:56:31.392003Z"
    },
    "papermill": {
     "duration": 0.018316,
     "end_time": "2022-07-04T14:56:31.394930",
     "exception": false,
     "start_time": "2022-07-04T14:56:31.376614",
     "status": "completed"
    },
    "tags": []
   },
   "outputs": [],
   "source": [
    "def style_dataframe(dataframe):\n",
    "    return dataframe.style.highlight_max(subset=['Accuracy', 'F1-macro', 'F1-weighted'], props='color:lawngreen', axis=0)\\\n",
    "                          .highlight_min(subset=['Accuracy', 'F1-macro', 'F1-weighted'], props='color:tomato', axis=0)\\\n",
    "                          .highlight_min(subset=['Loss'], props='color:lawngreen', axis=0)\\\n",
    "                          .highlight_max(subset=['Loss'], props='color:tomato', axis=0)\n",
    "\n",
    "def display_dataframes(dfs, names=[], index=False):\n",
    "    def to_df(x):\n",
    "        if isinstance(x, pd.Series):\n",
    "            return pd.DataFrame(x)\n",
    "        else:\n",
    "            return x\n",
    "    html_str = ''\n",
    "    if names:\n",
    "        html_str += ('<tr>' + \n",
    "                     ''.join(f'<td style=\"text-align:center\">{name}</td>' for name in names) + \n",
    "                     '</tr>')\n",
    "    html_str += ('<tr>' + \n",
    "                 ''.join(f'<td style=\"vertical-align:top\"> {to_df(df).to_html()}</td>' \n",
    "                         for df in dfs) + \n",
    "                 '</tr>')\n",
    "    html_str = f'<table>{html_str}</table>'\n",
    "    html_str = html_str.replace('table','table style=\"display:inline\"')\n",
    "    display_html(html_str, raw=True)"
   ]
  },
  {
   "cell_type": "markdown",
   "id": "95fed68b",
   "metadata": {
    "papermill": {
     "duration": 0.005745,
     "end_time": "2022-07-04T14:56:31.407034",
     "exception": false,
     "start_time": "2022-07-04T14:56:31.401289",
     "status": "completed"
    },
    "tags": []
   },
   "source": [
    "# Load data"
   ]
  },
  {
   "cell_type": "code",
   "execution_count": 12,
   "id": "6614c6f4",
   "metadata": {
    "execution": {
     "iopub.execute_input": "2022-07-04T14:56:31.419930Z",
     "iopub.status.busy": "2022-07-04T14:56:31.419682Z",
     "iopub.status.idle": "2022-07-04T14:56:31.565145Z",
     "shell.execute_reply": "2022-07-04T14:56:31.564205Z"
    },
    "papermill": {
     "duration": 0.154443,
     "end_time": "2022-07-04T14:56:31.567451",
     "exception": false,
     "start_time": "2022-07-04T14:56:31.413008",
     "status": "completed"
    },
    "tags": []
   },
   "outputs": [],
   "source": [
    "mvsa_single_multimodal_labels, mvsa_single_text_labels, mvsa_single_image_labels = load_labels('../input/mvsa-features/labels/mvsa-single-labels.hdf5')\n",
    "mvsa_multiple_multimodal_labels, mvsa_multiple_text_labels, mvsa_multiple_image_labels = load_labels('../input/mvsa-features/labels/mvsa-multiple-labels.hdf5')\n",
    "\n",
    "mvsa_multimodal_labels = merge_mvsa(mvsa_single_multimodal_labels, mvsa_multiple_multimodal_labels)\n",
    "mvsa_text_labels = merge_mvsa(mvsa_single_text_labels, mvsa_multiple_text_labels)\n",
    "mvsa_image_labels = merge_mvsa(mvsa_single_image_labels, mvsa_multiple_image_labels)\n",
    "\n",
    "le = preprocessing.LabelEncoder()\n",
    "le.fit(mvsa_multimodal_labels)\n",
    "NUM_CLASSES = len(le.classes_) # =3"
   ]
  },
  {
   "cell_type": "code",
   "execution_count": 13,
   "id": "03583b86",
   "metadata": {
    "_kg_hide-output": true,
    "execution": {
     "iopub.execute_input": "2022-07-04T14:56:31.580917Z",
     "iopub.status.busy": "2022-07-04T14:56:31.580622Z",
     "iopub.status.idle": "2022-07-04T14:56:37.477461Z",
     "shell.execute_reply": "2022-07-04T14:56:37.476430Z"
    },
    "papermill": {
     "duration": 5.906355,
     "end_time": "2022-07-04T14:56:37.480118",
     "exception": false,
     "start_time": "2022-07-04T14:56:31.573763",
     "status": "completed"
    },
    "tags": []
   },
   "outputs": [],
   "source": [
    "# load separate\n",
    "# mvsa_single_images, mvsa_multiple_images = load_mvsa_images()\n",
    "mvsa_single_images = loadz('../input/mvsa-data/mvsa-single-4511-images.npz')\n",
    "# mvsa_multiple_images = loadz('../input/mvsa-data/mvsa-multiple-17024-images.npz')\n",
    "\n",
    "# load merge\n",
    "# mvsa_images = merge_mvsa(mvsa_single_images, mvsa_multiple_images)"
   ]
  },
  {
   "cell_type": "markdown",
   "id": "30f0ad90",
   "metadata": {
    "papermill": {
     "duration": 0.006337,
     "end_time": "2022-07-04T14:56:37.492780",
     "exception": false,
     "start_time": "2022-07-04T14:56:37.486443",
     "status": "completed"
    },
    "tags": []
   },
   "source": [
    "# Run models and Evalution display"
   ]
  },
  {
   "cell_type": "code",
   "execution_count": 14,
   "id": "fba22ece",
   "metadata": {
    "execution": {
     "iopub.execute_input": "2022-07-04T14:56:37.506405Z",
     "iopub.status.busy": "2022-07-04T14:56:37.506109Z",
     "iopub.status.idle": "2022-07-04T14:56:37.510581Z",
     "shell.execute_reply": "2022-07-04T14:56:37.509576Z"
    },
    "papermill": {
     "duration": 0.013905,
     "end_time": "2022-07-04T14:56:37.513110",
     "exception": false,
     "start_time": "2022-07-04T14:56:37.499205",
     "status": "completed"
    },
    "tags": []
   },
   "outputs": [],
   "source": [
    "reset_seeds()\n",
    "EPOCHS = 100\n",
    "BATCH_SIZE = 128\n",
    "VALIDATION_SPLIT = 0.1\n",
    "EARLY_STOPPING = 10"
   ]
  },
  {
   "cell_type": "markdown",
   "id": "80e73333",
   "metadata": {
    "papermill": {
     "duration": 0.006233,
     "end_time": "2022-07-04T14:56:37.525236",
     "exception": false,
     "start_time": "2022-07-04T14:56:37.519003",
     "status": "completed"
    },
    "tags": []
   },
   "source": [
    "## With original image labels"
   ]
  },
  {
   "cell_type": "code",
   "execution_count": 15,
   "id": "950ff0d0",
   "metadata": {
    "execution": {
     "iopub.execute_input": "2022-07-04T14:56:37.538435Z",
     "iopub.status.busy": "2022-07-04T14:56:37.538180Z",
     "iopub.status.idle": "2022-07-04T14:57:41.897832Z",
     "shell.execute_reply": "2022-07-04T14:57:41.896868Z"
    },
    "papermill": {
     "duration": 64.368891,
     "end_time": "2022-07-04T14:57:41.900100",
     "exception": false,
     "start_time": "2022-07-04T14:56:37.531209",
     "status": "completed"
    },
    "tags": []
   },
   "outputs": [
    {
     "name": "stderr",
     "output_type": "stream",
     "text": [
      "2022-07-04 14:56:37.629220: I tensorflow/stream_executor/cuda/cuda_gpu_executor.cc:937] successful NUMA node read from SysFS had negative value (-1), but there must be at least one NUMA node, so returning NUMA node zero\n",
      "2022-07-04 14:56:37.630266: I tensorflow/stream_executor/cuda/cuda_gpu_executor.cc:937] successful NUMA node read from SysFS had negative value (-1), but there must be at least one NUMA node, so returning NUMA node zero\n",
      "2022-07-04 14:56:37.630921: I tensorflow/stream_executor/cuda/cuda_gpu_executor.cc:937] successful NUMA node read from SysFS had negative value (-1), but there must be at least one NUMA node, so returning NUMA node zero\n",
      "2022-07-04 14:56:37.631899: I tensorflow/core/platform/cpu_feature_guard.cc:142] This TensorFlow binary is optimized with oneAPI Deep Neural Network Library (oneDNN) to use the following CPU instructions in performance-critical operations:  AVX2 AVX512F FMA\n",
      "To enable them in other operations, rebuild TensorFlow with the appropriate compiler flags.\n",
      "2022-07-04 14:56:37.632236: I tensorflow/stream_executor/cuda/cuda_gpu_executor.cc:937] successful NUMA node read from SysFS had negative value (-1), but there must be at least one NUMA node, so returning NUMA node zero\n",
      "2022-07-04 14:56:37.632992: I tensorflow/stream_executor/cuda/cuda_gpu_executor.cc:937] successful NUMA node read from SysFS had negative value (-1), but there must be at least one NUMA node, so returning NUMA node zero\n",
      "2022-07-04 14:56:37.633639: I tensorflow/stream_executor/cuda/cuda_gpu_executor.cc:937] successful NUMA node read from SysFS had negative value (-1), but there must be at least one NUMA node, so returning NUMA node zero\n",
      "2022-07-04 14:56:42.384682: I tensorflow/stream_executor/cuda/cuda_gpu_executor.cc:937] successful NUMA node read from SysFS had negative value (-1), but there must be at least one NUMA node, so returning NUMA node zero\n",
      "2022-07-04 14:56:42.385697: I tensorflow/stream_executor/cuda/cuda_gpu_executor.cc:937] successful NUMA node read from SysFS had negative value (-1), but there must be at least one NUMA node, so returning NUMA node zero\n",
      "2022-07-04 14:56:42.386442: I tensorflow/stream_executor/cuda/cuda_gpu_executor.cc:937] successful NUMA node read from SysFS had negative value (-1), but there must be at least one NUMA node, so returning NUMA node zero\n",
      "2022-07-04 14:56:42.387040: I tensorflow/core/common_runtime/gpu/gpu_device.cc:1510] Created device /job:localhost/replica:0/task:0/device:GPU:0 with 15047 MB memory:  -> device: 0, name: Tesla P100-PCIE-16GB, pci bus id: 0000:00:04.0, compute capability: 6.0\n"
     ]
    },
    {
     "name": "stdout",
     "output_type": "stream",
     "text": [
      "Epoch 1/100\n"
     ]
    },
    {
     "name": "stderr",
     "output_type": "stream",
     "text": [
      "2022-07-04 14:56:45.505735: I tensorflow/compiler/mlir/mlir_graph_optimization_pass.cc:185] None of the MLIR Optimization Passes are enabled (registered 2)\n",
      "2022-07-04 14:56:46.493692: I tensorflow/stream_executor/cuda/cuda_dnn.cc:369] Loaded cuDNN version 8005\n"
     ]
    },
    {
     "name": "stdout",
     "output_type": "stream",
     "text": [
      "29/29 [==============================] - 13s 152ms/step - loss: 93.4910 - accuracy: 0.4752 - f1_macro: 0.2989 - f1_weighted: 0.4071 - val_loss: 1.0876 - val_accuracy: 0.4612 - val_f1_macro: 0.2433 - val_f1_weighted: 0.3262\n",
      "\n",
      "Epoch 00001: val_loss improved from inf to 1.08764, saving model to ./model_checkpoint/single-OL-cnn.h5\n",
      "Epoch 2/100\n",
      "29/29 [==============================] - 3s 105ms/step - loss: 1.0697 - accuracy: 0.5409 - f1_macro: 0.3044 - f1_weighted: 0.4294 - val_loss: 1.0774 - val_accuracy: 0.4479 - val_f1_macro: 0.2398 - val_f1_weighted: 0.3214\n",
      "\n",
      "Epoch 00002: val_loss improved from 1.08764 to 1.07738, saving model to ./model_checkpoint/single-OL-cnn.h5\n",
      "Epoch 3/100\n",
      "29/29 [==============================] - 3s 105ms/step - loss: 1.0196 - accuracy: 0.5650 - f1_macro: 0.3233 - f1_weighted: 0.4473 - val_loss: 1.1285 - val_accuracy: 0.4346 - val_f1_macro: 0.2368 - val_f1_weighted: 0.3160\n",
      "\n",
      "Epoch 00003: val_loss did not improve from 1.07738\n",
      "Epoch 4/100\n",
      "29/29 [==============================] - 3s 106ms/step - loss: 0.9886 - accuracy: 0.5647 - f1_macro: 0.3369 - f1_weighted: 0.4553 - val_loss: 1.2939 - val_accuracy: 0.4213 - val_f1_macro: 0.2351 - val_f1_weighted: 0.3112\n",
      "\n",
      "Epoch 00004: val_loss did not improve from 1.07738\n",
      "Epoch 5/100\n",
      "29/29 [==============================] - 3s 105ms/step - loss: 0.9235 - accuracy: 0.5899 - f1_macro: 0.4005 - f1_weighted: 0.5028 - val_loss: 1.6109 - val_accuracy: 0.4102 - val_f1_macro: 0.2455 - val_f1_weighted: 0.3166\n",
      "\n",
      "Epoch 00005: val_loss did not improve from 1.07738\n",
      "Epoch 6/100\n",
      "29/29 [==============================] - 3s 104ms/step - loss: 0.8697 - accuracy: 0.6121 - f1_macro: 0.4485 - f1_weighted: 0.5405 - val_loss: 1.4080 - val_accuracy: 0.4302 - val_f1_macro: 0.2688 - val_f1_weighted: 0.3387\n",
      "\n",
      "Epoch 00006: val_loss did not improve from 1.07738\n",
      "Epoch 7/100\n",
      "29/29 [==============================] - 3s 105ms/step - loss: 0.8718 - accuracy: 0.6052 - f1_macro: 0.4412 - f1_weighted: 0.5330 - val_loss: 1.3212 - val_accuracy: 0.4523 - val_f1_macro: 0.2523 - val_f1_weighted: 0.3315\n",
      "\n",
      "Epoch 00007: val_loss did not improve from 1.07738\n",
      "Epoch 8/100\n",
      "29/29 [==============================] - 3s 104ms/step - loss: 0.9003 - accuracy: 0.6071 - f1_macro: 0.4531 - f1_weighted: 0.5419 - val_loss: 1.2674 - val_accuracy: 0.4612 - val_f1_macro: 0.2561 - val_f1_weighted: 0.3363\n",
      "\n",
      "Epoch 00008: val_loss did not improve from 1.07738\n",
      "Epoch 9/100\n",
      "29/29 [==============================] - 3s 105ms/step - loss: 0.8556 - accuracy: 0.6237 - f1_macro: 0.4747 - f1_weighted: 0.5612 - val_loss: 1.4343 - val_accuracy: 0.4457 - val_f1_macro: 0.2699 - val_f1_weighted: 0.3427\n",
      "\n",
      "Epoch 00009: val_loss did not improve from 1.07738\n",
      "Epoch 10/100\n",
      "29/29 [==============================] - 3s 105ms/step - loss: 0.8089 - accuracy: 0.6487 - f1_macro: 0.5299 - f1_weighted: 0.6029 - val_loss: 1.7902 - val_accuracy: 0.4257 - val_f1_macro: 0.2359 - val_f1_weighted: 0.3133\n",
      "\n",
      "Epoch 00010: val_loss did not improve from 1.07738\n",
      "Epoch 11/100\n",
      "29/29 [==============================] - 3s 105ms/step - loss: 0.7664 - accuracy: 0.6700 - f1_macro: 0.5697 - f1_weighted: 0.6325 - val_loss: 1.7161 - val_accuracy: 0.4279 - val_f1_macro: 0.2619 - val_f1_weighted: 0.3348\n",
      "\n",
      "Epoch 00011: val_loss did not improve from 1.07738\n",
      "Epoch 12/100\n",
      "29/29 [==============================] - 3s 105ms/step - loss: 0.7185 - accuracy: 0.6971 - f1_macro: 0.6109 - f1_weighted: 0.6668 - val_loss: 2.1776 - val_accuracy: 0.4035 - val_f1_macro: 0.2896 - val_f1_weighted: 0.3482\n",
      "\n",
      "Epoch 00012: val_loss did not improve from 1.07738\n",
      "Checkpoint loaded at epoch: 1\n",
      "4/4 [==============================] - 0s 37ms/step - loss: 1.0852 - accuracy: 0.5299 - f1_macro: 0.2678 - f1_weighted: 0.4143\n",
      "Loss: 1.0852370262145996\n",
      "Accuracy: 0.5299334526062012\n",
      "Macro F1-score: 0.26783308386802673\n",
      "Weighted F1-score: 0.4142897129058838\n",
      "4/4 [==============================] - 0s 31ms/step\n"
     ]
    },
    {
     "data": {
      "image/png": "[encoded data removed]",
      "text/plain": [
       "<Figure size 432x288 with 2 Axes>"
      ]
     },
     "metadata": {
      "needs_background": "light"
     },
     "output_type": "display_data"
    }
   ],
   "source": [
    "history_single_OL, score = run_and_evaluate_cnn('single-OL-cnn', mvsa_single_images, mvsa_single_image_labels, verbose=1)"
   ]
  },
  {
   "cell_type": "code",
   "execution_count": 16,
   "id": "8ff6dd16",
   "metadata": {
    "execution": {
     "iopub.execute_input": "2022-07-04T14:57:42.004999Z",
     "iopub.status.busy": "2022-07-04T14:57:42.004691Z",
     "iopub.status.idle": "2022-07-04T14:57:42.008876Z",
     "shell.execute_reply": "2022-07-04T14:57:42.007990Z"
    },
    "papermill": {
     "duration": 0.059382,
     "end_time": "2022-07-04T14:57:42.011806",
     "exception": false,
     "start_time": "2022-07-04T14:57:41.952424",
     "status": "completed"
    },
    "tags": []
   },
   "outputs": [],
   "source": [
    "# history_multiple_OL, score = run_and_evaluate_cnn('multiple-OL-cnn', mvsa_multiple_images, mvsa_multiple_image_labels, verbose=1)"
   ]
  },
  {
   "cell_type": "markdown",
   "id": "275eb4d6",
   "metadata": {
    "papermill": {
     "duration": 0.04652,
     "end_time": "2022-07-04T14:57:42.103899",
     "exception": false,
     "start_time": "2022-07-04T14:57:42.057379",
     "status": "completed"
    },
    "tags": []
   },
   "source": [
    "## With multimodal labels"
   ]
  },
  {
   "cell_type": "code",
   "execution_count": 17,
   "id": "ff610f5c",
   "metadata": {
    "execution": {
     "iopub.execute_input": "2022-07-04T14:57:42.197640Z",
     "iopub.status.busy": "2022-07-04T14:57:42.197237Z",
     "iopub.status.idle": "2022-07-04T14:58:45.344538Z",
     "shell.execute_reply": "2022-07-04T14:58:45.343651Z"
    },
    "papermill": {
     "duration": 63.196767,
     "end_time": "2022-07-04T14:58:45.346840",
     "exception": false,
     "start_time": "2022-07-04T14:57:42.150073",
     "status": "completed"
    },
    "tags": []
   },
   "outputs": [
    {
     "name": "stdout",
     "output_type": "stream",
     "text": [
      "Epoch 1/100\n",
      "29/29 [==============================] - 4s 112ms/step - loss: 74.8440 - accuracy: 0.5010 - f1_macro: 0.3007 - f1_weighted: 0.4519 - val_loss: 0.9976 - val_accuracy: 0.5543 - val_f1_macro: 0.2742 - val_f1_weighted: 0.4495\n",
      "\n",
      "Epoch 00001: val_loss improved from inf to 0.99760, saving model to ./model_checkpoint/single-ML-cnn.h5\n",
      "Epoch 2/100\n",
      "29/29 [==============================] - 3s 104ms/step - loss: 0.9722 - accuracy: 0.5905 - f1_macro: 0.2653 - f1_weighted: 0.4575 - val_loss: 1.0058 - val_accuracy: 0.5721 - val_f1_macro: 0.2811 - val_f1_weighted: 0.4604\n",
      "\n",
      "Epoch 00002: val_loss did not improve from 0.99760\n",
      "Epoch 3/100\n",
      "29/29 [==============================] - 3s 105ms/step - loss: 1.0237 - accuracy: 0.5899 - f1_macro: 0.3147 - f1_weighted: 0.4894 - val_loss: 0.9724 - val_accuracy: 0.5565 - val_f1_macro: 0.2610 - val_f1_weighted: 0.4362\n",
      "\n",
      "Epoch 00003: val_loss improved from 0.99760 to 0.97236, saving model to ./model_checkpoint/single-ML-cnn.h5\n",
      "Epoch 4/100\n",
      "29/29 [==============================] - 3s 105ms/step - loss: 0.9020 - accuracy: 0.6088 - f1_macro: 0.3321 - f1_weighted: 0.5075 - val_loss: 0.9228 - val_accuracy: 0.5743 - val_f1_macro: 0.3317 - val_f1_weighted: 0.5133\n",
      "\n",
      "Epoch 00004: val_loss improved from 0.97236 to 0.92279, saving model to ./model_checkpoint/single-ML-cnn.h5\n",
      "Epoch 5/100\n",
      "29/29 [==============================] - 3s 107ms/step - loss: 0.8567 - accuracy: 0.6326 - f1_macro: 0.4109 - f1_weighted: 0.5622 - val_loss: 0.9502 - val_accuracy: 0.5122 - val_f1_macro: 0.3280 - val_f1_weighted: 0.4911\n",
      "\n",
      "Epoch 00005: val_loss did not improve from 0.92279\n",
      "Epoch 6/100\n",
      "29/29 [==============================] - 3s 108ms/step - loss: 0.7782 - accuracy: 0.6542 - f1_macro: 0.4759 - f1_weighted: 0.6038 - val_loss: 1.0047 - val_accuracy: 0.4945 - val_f1_macro: 0.3341 - val_f1_weighted: 0.4878\n",
      "\n",
      "Epoch 00006: val_loss did not improve from 0.92279\n",
      "Epoch 7/100\n",
      "29/29 [==============================] - 3s 107ms/step - loss: 0.6824 - accuracy: 0.7027 - f1_macro: 0.5796 - f1_weighted: 0.6739 - val_loss: 1.0967 - val_accuracy: 0.5033 - val_f1_macro: 0.3378 - val_f1_weighted: 0.4952\n",
      "\n",
      "Epoch 00007: val_loss did not improve from 0.92279\n",
      "Epoch 8/100\n",
      "29/29 [==============================] - 3s 105ms/step - loss: 0.6088 - accuracy: 0.7437 - f1_macro: 0.6550 - f1_weighted: 0.7267 - val_loss: 1.1704 - val_accuracy: 0.4789 - val_f1_macro: 0.3193 - val_f1_weighted: 0.4742\n",
      "\n",
      "Epoch 00008: val_loss did not improve from 0.92279\n",
      "Epoch 9/100\n",
      "29/29 [==============================] - 3s 105ms/step - loss: 0.5309 - accuracy: 0.7811 - f1_macro: 0.7098 - f1_weighted: 0.7704 - val_loss: 1.4170 - val_accuracy: 0.4834 - val_f1_macro: 0.3131 - val_f1_weighted: 0.4736\n",
      "\n",
      "Epoch 00009: val_loss did not improve from 0.92279\n",
      "Epoch 10/100\n",
      "29/29 [==============================] - 3s 106ms/step - loss: 0.4509 - accuracy: 0.8185 - f1_macro: 0.7763 - f1_weighted: 0.8121 - val_loss: 1.6393 - val_accuracy: 0.4701 - val_f1_macro: 0.3238 - val_f1_weighted: 0.4778\n",
      "\n",
      "Epoch 00010: val_loss did not improve from 0.92279\n",
      "Epoch 11/100\n",
      "29/29 [==============================] - 3s 105ms/step - loss: 0.3572 - accuracy: 0.8626 - f1_macro: 0.8298 - f1_weighted: 0.8591 - val_loss: 1.5763 - val_accuracy: 0.4812 - val_f1_macro: 0.3429 - val_f1_weighted: 0.4797\n",
      "\n",
      "Epoch 00011: val_loss did not improve from 0.92279\n",
      "Epoch 12/100\n",
      "29/29 [==============================] - 3s 105ms/step - loss: 0.2927 - accuracy: 0.8980 - f1_macro: 0.8751 - f1_weighted: 0.8968 - val_loss: 2.0331 - val_accuracy: 0.4590 - val_f1_macro: 0.2906 - val_f1_weighted: 0.4355\n",
      "\n",
      "Epoch 00012: val_loss did not improve from 0.92279\n",
      "Epoch 13/100\n",
      "29/29 [==============================] - 3s 106ms/step - loss: 0.2971 - accuracy: 0.8922 - f1_macro: 0.8642 - f1_weighted: 0.8909 - val_loss: 2.2880 - val_accuracy: 0.4900 - val_f1_macro: 0.3176 - val_f1_weighted: 0.4728\n",
      "\n",
      "Epoch 00013: val_loss did not improve from 0.92279\n",
      "Epoch 14/100\n",
      "29/29 [==============================] - 3s 107ms/step - loss: 0.3170 - accuracy: 0.8917 - f1_macro: 0.8645 - f1_weighted: 0.8905 - val_loss: 1.7130 - val_accuracy: 0.4501 - val_f1_macro: 0.3096 - val_f1_weighted: 0.4515\n",
      "\n",
      "Epoch 00014: val_loss did not improve from 0.92279\n",
      "Checkpoint loaded at epoch: 3\n",
      "4/4 [==============================] - 0s 33ms/step - loss: 0.8947 - accuracy: 0.5543 - f1_macro: 0.3037 - f1_weighted: 0.4942\n",
      "Loss: 0.8947330713272095\n",
      "Accuracy: 0.5543237328529358\n",
      "Macro F1-score: 0.30371472239494324\n",
      "Weighted F1-score: 0.4941900074481964\n",
      "4/4 [==============================] - 0s 31ms/step\n"
     ]
    },
    {
     "data": {
      "image/png": "[encoded data removed]",
      "text/plain": [
       "<Figure size 432x288 with 2 Axes>"
      ]
     },
     "metadata": {
      "needs_background": "light"
     },
     "output_type": "display_data"
    }
   ],
   "source": [
    "history_single_ML, score = run_and_evaluate_cnn('single-ML-cnn', mvsa_single_images, mvsa_single_multimodal_labels, verbose=1)"
   ]
  },
  {
   "cell_type": "code",
   "execution_count": 18,
   "id": "6bf5a471",
   "metadata": {
    "execution": {
     "iopub.execute_input": "2022-07-04T14:58:45.456103Z",
     "iopub.status.busy": "2022-07-04T14:58:45.454474Z",
     "iopub.status.idle": "2022-07-04T14:58:45.459734Z",
     "shell.execute_reply": "2022-07-04T14:58:45.458948Z"
    },
    "papermill": {
     "duration": 0.061309,
     "end_time": "2022-07-04T14:58:45.461945",
     "exception": false,
     "start_time": "2022-07-04T14:58:45.400636",
     "status": "completed"
    },
    "tags": []
   },
   "outputs": [],
   "source": [
    "# history_multiple_ML, score = run_and_evaluate_cnn('multiple-ML-cnn', mvsa_multiple_images, mvsa_multiple_multimodal_labels, verbose=1)"
   ]
  },
  {
   "cell_type": "markdown",
   "id": "94398757",
   "metadata": {
    "papermill": {
     "duration": 0.05294,
     "end_time": "2022-07-04T14:58:45.568395",
     "exception": false,
     "start_time": "2022-07-04T14:58:45.515455",
     "status": "completed"
    },
    "tags": []
   },
   "source": [
    "## With merge MVSA data"
   ]
  },
  {
   "cell_type": "code",
   "execution_count": 19,
   "id": "9dfc774f",
   "metadata": {
    "execution": {
     "iopub.execute_input": "2022-07-04T14:58:45.678687Z",
     "iopub.status.busy": "2022-07-04T14:58:45.677822Z",
     "iopub.status.idle": "2022-07-04T14:58:45.682380Z",
     "shell.execute_reply": "2022-07-04T14:58:45.681492Z"
    },
    "papermill": {
     "duration": 0.062449,
     "end_time": "2022-07-04T14:58:45.684338",
     "exception": false,
     "start_time": "2022-07-04T14:58:45.621889",
     "status": "completed"
    },
    "tags": []
   },
   "outputs": [],
   "source": [
    "# history_OL, score = run_and_evaluate_cnn('OL-cnn', mvsa_images, mvsa_image_labels, verbose=1)"
   ]
  },
  {
   "cell_type": "code",
   "execution_count": 20,
   "id": "0fe076f9",
   "metadata": {
    "execution": {
     "iopub.execute_input": "2022-07-04T14:58:45.792699Z",
     "iopub.status.busy": "2022-07-04T14:58:45.792367Z",
     "iopub.status.idle": "2022-07-04T14:58:45.796680Z",
     "shell.execute_reply": "2022-07-04T14:58:45.795674Z"
    },
    "papermill": {
     "duration": 0.060767,
     "end_time": "2022-07-04T14:58:45.798604",
     "exception": false,
     "start_time": "2022-07-04T14:58:45.737837",
     "status": "completed"
    },
    "tags": []
   },
   "outputs": [],
   "source": [
    "# history_ML, score = run_and_evaluate_cnn('ML-cnn', mvsa_images, mvsa_multimodal_labels, verbose=1)"
   ]
  },
  {
   "cell_type": "markdown",
   "id": "f22c3b4a",
   "metadata": {
    "papermill": {
     "duration": 0.052581,
     "end_time": "2022-07-04T14:58:45.905013",
     "exception": false,
     "start_time": "2022-07-04T14:58:45.852432",
     "status": "completed"
    },
    "tags": []
   },
   "source": [
    "# Drafts"
   ]
  },
  {
   "cell_type": "code",
   "execution_count": 21,
   "id": "cc62f973",
   "metadata": {
    "execution": {
     "iopub.execute_input": "2022-07-04T14:58:46.014120Z",
     "iopub.status.busy": "2022-07-04T14:58:46.013755Z",
     "iopub.status.idle": "2022-07-04T14:58:46.019493Z",
     "shell.execute_reply": "2022-07-04T14:58:46.018537Z"
    },
    "papermill": {
     "duration": 0.063321,
     "end_time": "2022-07-04T14:58:46.021470",
     "exception": false,
     "start_time": "2022-07-04T14:58:45.958149",
     "status": "completed"
    },
    "tags": []
   },
   "outputs": [],
   "source": [
    "# datagen = ImageDataGenerator(\n",
    "#         shear_range=0.1,\n",
    "#         zoom_range=0.1,\n",
    "#         horizontal_flip=True,\n",
    "#         validation_split=0.1)\n",
    "\n",
    "# single_train_set = datagen.flow(\n",
    "#         mvsa_single_images, mvsa_single_image_labels,\n",
    "# #         target_size=IMAGE_SIZE,\n",
    "# #         batch_size=BATCH_SIZE,\n",
    "# #         class_mode='categorical', \n",
    "#         subset='training')\n",
    "\n",
    "# single_test_set = datagen.flow(\n",
    "#         mvsa_single_images, mvsa_single_image_labels,\n",
    "#         subset='validation')\n",
    "\n",
    "# X_train, X_val, X_test = split_data(mvsa_single_images, VALIDATION_SPLIT)\n",
    "# y_train, y_val, y_test = split_data(mvsa_single_multimodal_labels, VALIDATION_SPLIT)\n",
    "\n",
    "# train_set = tf.data.Dataset.from_tensor_slices((X_train, y_train)).batch(BATCH_SIZE)\n",
    "# val_set = tf.data.Dataset.from_tensor_slices((X_val, y_val)).batch(BATCH_SIZE)\n",
    "# test_set = tf.data.Dataset.from_tensor_slices((X_test, y_test)).batch(BATCH_SIZE)\n",
    "\n",
    "# del X_train, X_val, X_test, y_train, y_val, y_test\n",
    "\n",
    "# data_path_single = '../input/mvsasingle/MVSA_Single/data/'\n",
    "\n",
    "# BATCH_SIZE = 32\n",
    "# EPOCHS = 10\n",
    "# IMAGE_SIZE = np.array([224, 224])\n",
    "\n",
    "# datagen = ImageDataGenerator(\n",
    "#         shear_range=0.1,\n",
    "#         zoom_range=0.1,\n",
    "#         horizontal_flip=True,\n",
    "#         validation_split=0.1)\n",
    "\n",
    "# train_set = datagen.flow_from_directory(\n",
    "#         data_path_single, classes=['0', '1', '2'],\n",
    "#         target_size=IMAGE_SIZE,\n",
    "#         batch_size=BATCH_SIZE,\n",
    "#         class_mode='categorical', subset='training')\n",
    "\n",
    "# # valid_set = datagen.flow_from_directory(\n",
    "# #         data_path_single,\n",
    "# #         target_size=IMAGE_SIZE,\n",
    "# #         batch_size=BATCH_SIZE,\n",
    "# #         class_mode='categorical',\n",
    "# #         subset='validation')"
   ]
  },
  {
   "cell_type": "code",
   "execution_count": 22,
   "id": "5aae73b5",
   "metadata": {
    "execution": {
     "iopub.execute_input": "2022-07-04T14:58:46.129589Z",
     "iopub.status.busy": "2022-07-04T14:58:46.129325Z",
     "iopub.status.idle": "2022-07-04T14:58:46.136039Z",
     "shell.execute_reply": "2022-07-04T14:58:46.135172Z"
    },
    "papermill": {
     "duration": 0.063487,
     "end_time": "2022-07-04T14:58:46.137940",
     "exception": false,
     "start_time": "2022-07-04T14:58:46.074453",
     "status": "completed"
    },
    "tags": []
   },
   "outputs": [],
   "source": [
    "# mvsa_single_images =  np.load('../input/mvsa-data/mvsa-single-4511-images.npz')['arr_0']\n",
    "# mvsa_multiple_images =  np.load('../input/mvsa-data/mvsa-multiple-17024-images.npz')['arr_0']\n",
    "\n",
    "# mvsa_single_images = tf.data.Dataset.from_tensor_slices((mvsa_single_images, mvsa_single_multimodal_labels)).batch(128)\n",
    "# mvsa_multiple_images = tf.data.Dataset.from_tensor_slices((mvsa_multiple_images, mvsa_multiple_multimodal_labels)).batch(128)\n",
    "# mvsa_images = mvsa_single_images.concatenate(mvsa_multiple_images).batch(128)\n",
    "\n",
    "#     if name == 'cnn':\n",
    "#         data = []#load_mvsa_images()]\n",
    "# #         x1 =  np.load('../input/mvsa-data/mvsa-single-4511-images.npz')['arr_0']\n",
    "#         x1 = tf.data.Dataset.from_tensor_slices((np.load('../input/mvsa-data/mvsa-single-4511-images.npz')['arr_0'], mvsa_single_multimodal_labels))#.batch(128)\n",
    "#         data.append(x1)\n",
    "\n",
    "# #         x2 =  np.load('../input/mvsa-data/mvsa-multiple-17024-images.npz')['arr_0']\n",
    "#         x2 = tf.data.Dataset.from_tensor_slices((np.load('../input/mvsa-data/mvsa-multiple-17024-images.npz')['arr_0'], mvsa_multiple_multimodal_labels))#.batch(128)\n",
    "#         data.append(x2)\n",
    "        \n",
    "#         merge_data = x1.concatenate(x2)#.batch(128)\n",
    "#         del x1, x2\n",
    "\n",
    "# # prepare all features data\n",
    "# feature_names = ['xception', 'vgg16', 'vgg19', 'resnet50', 'resnet101', 'resnet152', 'densenet121', 'densenet169', 'densenet201']\n",
    "\n",
    "# mvsa_single_features = []\n",
    "# mvsa_multiple_features = []\n",
    "# mvsa_features = []\n",
    "\n",
    "# for name in tqdm(feature_names):\n",
    "#     data = load_mvsa_feature(name)\n",
    "#     merge_data = merge_mvsa(data[0], data[1])\n",
    "    \n",
    "#     mvsa_single_features.append(data[0])\n",
    "#     mvsa_multiple_features.append(data[1])\n",
    "#     mvsa_features.append(merge_data)\n",
    "\n",
    "# # load separate\n",
    "# mvsa_single_images, mvsa_multiple_images = load_mvsa_images()\n",
    "# mvsa_single_xception, mvsa_multiple_xception = load_mvsa_feature('xception')\n",
    "# mvsa_single_vgg16, mvsa_multiple_vgg16 = load_mvsa_feature('vgg16')\n",
    "# mvsa_single_vgg19, mvsa_multiple_vgg19 = load_mvsa_feature('vgg19')\n",
    "# mvsa_single_resnet50, mvsa_multiple_resnet50 = load_mvsa_feature('resnet50')\n",
    "# mvsa_single_resnet101, mvsa_multiple_resnet101 = load_mvsa_feature('resnet101')\n",
    "# mvsa_single_resnet152, mvsa_multiple_resnet152 = load_mvsa_feature('resnet152')\n",
    "# mvsa_single_densenet121, mvsa_multiple_densenet121 = load_mvsa_feature('densenet121')\n",
    "# mvsa_single_densenet169, mvsa_multiple_densenet169 = load_mvsa_feature('densenet169')\n",
    "# mvsa_single_densenet201, mvsa_multiple_densenet201 = load_mvsa_feature('densenet201')\n",
    "\n",
    "# # load merge\n",
    "# mvsa_images = merge_mvsa(mvsa_single_images, mvsa_multiple_images)\n",
    "# mvsa_xception = merge_mvsa(mvsa_single_xception, mvsa_multiple_xception)\n",
    "# mvsa_vgg16 = merge_mvsa(mvsa_single_vgg16, mvsa_multiple_vgg16)\n",
    "# mvsa_vgg19 = merge_mvsa(mvsa_single_vgg19, mvsa_multiple_vgg19)\n",
    "# mvsa_resnet50 = merge_mvsa(mvsa_single_resnet50, mvsa_multiple_resnet50)\n",
    "# mvsa_resnet101 = merge_mvsa(mvsa_single_resnet101, mvsa_multiple_resnet101)\n",
    "# mvsa_resnet152 = merge_mvsa(mvsa_single_resnet152, mvsa_multiple_resnet152)\n",
    "# mvsa_densenet121 = merge_mvsa(mvsa_single_densenet121, mvsa_multiple_densenet121)\n",
    "# mvsa_densenet169 = merge_mvsa(mvsa_single_densenet169, mvsa_multiple_densenet169)\n",
    "# mvsa_densenet201 = merge_mvsa(mvsa_single_densenet201, mvsa_multiple_densenet201)\n",
    "\n",
    "# # prepare all features data\n",
    "# feature_names = ['cnn', 'xception', 'vgg16', 'vgg19', 'resnet50', 'resnet101', 'resnet152', 'densenet121', 'densenet169', 'densenet201']\n",
    "\n",
    "# mvsa_single_features = [mvsa_single_images,\n",
    "#                         mvsa_single_xception,\n",
    "#                         mvsa_single_vgg16, mvsa_single_vgg19, \n",
    "#                         mvsa_single_resnet50, mvsa_single_resnet101, mvsa_single_resnet152, \n",
    "#                         mvsa_single_densenet121, mvsa_single_densenet169, mvsa_single_densenet201]\n",
    "\n",
    "# mvsa_multiple_features = [mvsa_multiple_images,\n",
    "#                           mvsa_multiple_xception,\n",
    "#                           mvsa_multiple_vgg16, mvsa_multiple_vgg19, \n",
    "#                           mvsa_multiple_resnet50, mvsa_multiple_resnet101, mvsa_multiple_resnet152, \n",
    "#                           mvsa_multiple_densenet121, mvsa_multiple_densenet169, mvsa_multiple_densenet201]\n",
    "\n",
    "# mvsa_features = [mvsa_images,\n",
    "#                  mvsa_xception,\n",
    "#                  mvsa_vgg16, mvsa_vgg19, \n",
    "#                  mvsa_resnet50, mvsa_resnet101, mvsa_resnet152, \n",
    "#                  mvsa_densenet121, mvsa_densenet169, mvsa_densenet201]"
   ]
  }
 ],
 "metadata": {
  "kernelspec": {
   "display_name": "Python 3",
   "language": "python",
   "name": "python3"
  },
  "language_info": {
   "codemirror_mode": {
    "name": "ipython",
    "version": 3
   },
   "file_extension": ".py",
   "mimetype": "text/x-python",
   "name": "python",
   "nbconvert_exporter": "python",
   "pygments_lexer": "ipython3",
   "version": "3.7.12"
  },
  "papermill": {
   "default_parameters": {},
   "duration": 154.335073,
   "end_time": "2022-07-04T14:58:49.245831",
   "environment_variables": {},
   "exception": null,
   "input_path": "__notebook__.ipynb",
   "output_path": "__notebook__.ipynb",
   "parameters": {},
   "start_time": "2022-07-04T14:56:14.910758",
   "version": "2.3.4"
  }
 },
 "nbformat": 4,
 "nbformat_minor": 5
}
