{
 "cells": [
  {
   "cell_type": "code",
   "execution_count": 1,
   "id": "a3a70d24",
   "metadata": {
    "_cell_guid": "b1076dfc-b9ad-4769-8c92-a6c4dae69d19",
    "_uuid": "8f2839f25d086af736a60e9eeb907d3b93b6e0e5",
    "execution": {
     "iopub.execute_input": "2022-06-29T18:17:57.615050Z",
     "iopub.status.busy": "2022-06-29T18:17:57.614552Z",
     "iopub.status.idle": "2022-06-29T18:18:14.430597Z",
     "shell.execute_reply": "2022-06-29T18:18:14.429204Z"
    },
    "papermill": {
     "duration": 16.82687,
     "end_time": "2022-06-29T18:18:14.434001",
     "exception": false,
     "start_time": "2022-06-29T18:17:57.607131",
     "status": "completed"
    },
    "tags": []
   },
   "outputs": [],
   "source": [
    "import os\n",
    "import re\n",
    "import gc\n",
    "import cv2\n",
    "import h5py\n",
    "import torch\n",
    "import string\n",
    "import random\n",
    "import numpy as np\n",
    "import tensorflow as tf\n",
    "\n",
    "from tqdm import tqdm\n",
    "from nltk import tokenize\n",
    "from sklearn import preprocessing\n",
    "\n",
    "from keras.preprocessing.text import Tokenizer, text_to_word_sequence\n",
    "from keras.preprocessing.sequence import pad_sequences\n",
    "from keras.utils.np_utils import to_categorical\n",
    "from keras.layers import Rescaling, Resizing\n",
    "from keras import Input\n",
    "from keras.applications.vgg16 import VGG16\n",
    "from keras.applications.vgg19 import VGG19\n",
    "from keras.applications.xception import Xception\n",
    "from tensorflow.keras.applications import ResNet50, ResNet101, ResNet152\n",
    "from tensorflow.keras.applications import DenseNet121, DenseNet169, DenseNet201\n",
    "from transformers import BertTokenizer, BertForMaskedLM, BertModel\n",
    "from tensorflow.keras import Model"
   ]
  },
  {
   "cell_type": "code",
   "execution_count": 2,
   "id": "251889d1",
   "metadata": {
    "execution": {
     "iopub.execute_input": "2022-06-29T18:18:14.445453Z",
     "iopub.status.busy": "2022-06-29T18:18:14.444605Z",
     "iopub.status.idle": "2022-06-29T18:18:14.450357Z",
     "shell.execute_reply": "2022-06-29T18:18:14.449297Z"
    },
    "papermill": {
     "duration": 0.014248,
     "end_time": "2022-06-29T18:18:14.452884",
     "exception": false,
     "start_time": "2022-06-29T18:18:14.438636",
     "status": "completed"
    },
    "tags": []
   },
   "outputs": [],
   "source": [
    "IMAGE_SIZE = (224, 224)\n",
    "NUM_CHANNELS = 3"
   ]
  },
  {
   "cell_type": "code",
   "execution_count": 3,
   "id": "5ccd5f0d",
   "metadata": {
    "execution": {
     "iopub.execute_input": "2022-06-29T18:18:14.464754Z",
     "iopub.status.busy": "2022-06-29T18:18:14.463673Z",
     "iopub.status.idle": "2022-06-29T18:18:14.468925Z",
     "shell.execute_reply": "2022-06-29T18:18:14.467695Z"
    },
    "papermill": {
     "duration": 0.014299,
     "end_time": "2022-06-29T18:18:14.471739",
     "exception": false,
     "start_time": "2022-06-29T18:18:14.457440",
     "status": "completed"
    },
    "tags": []
   },
   "outputs": [],
   "source": [
    "mvsa_single_path = '../input/mvsa-data/mvsa-single-4316.hdf5'\n",
    "mvsa_multiple_path = '../input/mvsa-data/mvsa-multiple-16387.hdf5'"
   ]
  },
  {
   "cell_type": "code",
   "execution_count": 4,
   "id": "9c7651c2",
   "metadata": {
    "execution": {
     "iopub.execute_input": "2022-06-29T18:18:14.482882Z",
     "iopub.status.busy": "2022-06-29T18:18:14.482050Z",
     "iopub.status.idle": "2022-06-29T18:18:14.490696Z",
     "shell.execute_reply": "2022-06-29T18:18:14.489424Z"
    },
    "papermill": {
     "duration": 0.01795,
     "end_time": "2022-06-29T18:18:14.494001",
     "exception": false,
     "start_time": "2022-06-29T18:18:14.476051",
     "status": "completed"
    },
    "tags": []
   },
   "outputs": [],
   "source": [
    "def read_hdf5(path):\n",
    "    read_file = h5py.File(path, 'r')\n",
    "    \n",
    "    feature_names = list(read_file.keys())\n",
    "    loaded_data = []\n",
    "    \n",
    "    for name in feature_names:\n",
    "        dataset = read_file[name][:]\n",
    "        if dataset.dtype == np.dtype('object'):\n",
    "            dataset = np.array([x.decode('UTF-8') for x in dataset])            \n",
    "        loaded_data.append((name, dataset))\n",
    "\n",
    "    return loaded_data"
   ]
  },
  {
   "cell_type": "code",
   "execution_count": 5,
   "id": "719b2084",
   "metadata": {
    "execution": {
     "iopub.execute_input": "2022-06-29T18:18:14.505507Z",
     "iopub.status.busy": "2022-06-29T18:18:14.504579Z",
     "iopub.status.idle": "2022-06-29T18:18:14.515189Z",
     "shell.execute_reply": "2022-06-29T18:18:14.514084Z"
    },
    "papermill": {
     "duration": 0.019548,
     "end_time": "2022-06-29T18:18:14.518045",
     "exception": false,
     "start_time": "2022-06-29T18:18:14.498497",
     "status": "completed"
    },
    "tags": []
   },
   "outputs": [],
   "source": [
    "def load_mvsa_data(path, multiple=False):\n",
    "    data = read_hdf5(path)\n",
    "    for x in data:\n",
    "        if x[0] == 'texts':\n",
    "            texts = x[1]\n",
    "        if x[0] == 'images':\n",
    "            images = x[1]\n",
    "        if x[0] == 'multimodal-labels':\n",
    "            labels = x[1]\n",
    "        if x[0] == 'text-labels':\n",
    "            text_labels = x[1]\n",
    "        if x[0] == 'image-labels':\n",
    "            image_labels = x[1]\n",
    "            \n",
    "#     if multiple == True:\n",
    "    images_path = os.path.join(os.path.split(path)[0], os.path.split(path)[1].split('.')[0] + '-images.npz')\n",
    "#         npzfile = np.load(images_path)\n",
    "#         images = npzfile['arr_0']\n",
    "    images = loadz(images_path)\n",
    "        \n",
    "    return texts, images, labels, text_labels, image_labels\n",
    "\n",
    "def loadz(path):\n",
    "    data = np.load(path)['arr_0']\n",
    "    return data"
   ]
  },
  {
   "cell_type": "markdown",
   "id": "2d1e5229",
   "metadata": {
    "papermill": {
     "duration": 0.004743,
     "end_time": "2022-06-29T18:18:14.527377",
     "exception": false,
     "start_time": "2022-06-29T18:18:14.522634",
     "status": "completed"
    },
    "tags": []
   },
   "source": [
    "# Load raw data"
   ]
  },
  {
   "cell_type": "code",
   "execution_count": 6,
   "id": "f507dd57",
   "metadata": {
    "execution": {
     "iopub.execute_input": "2022-06-29T18:18:14.539806Z",
     "iopub.status.busy": "2022-06-29T18:18:14.538740Z",
     "iopub.status.idle": "2022-06-29T18:18:46.810064Z",
     "shell.execute_reply": "2022-06-29T18:18:46.808005Z"
    },
    "papermill": {
     "duration": 32.281543,
     "end_time": "2022-06-29T18:18:46.813773",
     "exception": false,
     "start_time": "2022-06-29T18:18:14.532230",
     "status": "completed"
    },
    "tags": []
   },
   "outputs": [],
   "source": [
    "mvsa_single_texts, mvsa_single_images, \\\n",
    "mvsa_single_multimodal_labels, mvsa_single_text_labels, \\\n",
    "mvsa_single_image_labels = load_mvsa_data(mvsa_single_path)\n",
    "num_mvsa_single = len(mvsa_single_texts)\n",
    "\n",
    "mvsa_multiple_texts, mvsa_multiple_images, \\\n",
    "mvsa_multiple_multimodal_labels, mvsa_multiple_text_labels, \\\n",
    "mvsa_multiple_image_labels = load_mvsa_data(mvsa_multiple_path, multiple=True)\n",
    "num_mvsa_multiple = len(mvsa_multiple_texts)"
   ]
  },
  {
   "cell_type": "markdown",
   "id": "fabf1ad7",
   "metadata": {
    "papermill": {
     "duration": 0.004082,
     "end_time": "2022-06-29T18:18:46.822686",
     "exception": false,
     "start_time": "2022-06-29T18:18:46.818604",
     "status": "completed"
    },
    "tags": []
   },
   "source": [
    "# DenseNet201"
   ]
  },
  {
   "cell_type": "code",
   "execution_count": 7,
   "id": "4d1b5ff9",
   "metadata": {
    "execution": {
     "iopub.execute_input": "2022-06-29T18:18:46.835738Z",
     "iopub.status.busy": "2022-06-29T18:18:46.835276Z",
     "iopub.status.idle": "2022-06-29T18:18:53.819519Z",
     "shell.execute_reply": "2022-06-29T18:18:53.818134Z"
    },
    "papermill": {
     "duration": 6.994229,
     "end_time": "2022-06-29T18:18:53.822360",
     "exception": false,
     "start_time": "2022-06-29T18:18:46.828131",
     "status": "completed"
    },
    "tags": []
   },
   "outputs": [
    {
     "name": "stderr",
     "output_type": "stream",
     "text": [
      "2022-06-29 18:18:46.911932: I tensorflow/core/common_runtime/process_util.cc:146] Creating new thread pool with default inter op setting: 2. Tune using inter_op_parallelism_threads for best performance.\n"
     ]
    },
    {
     "name": "stdout",
     "output_type": "stream",
     "text": [
      "Downloading data from https://storage.googleapis.com/tensorflow/keras-applications/densenet/densenet201_weights_tf_dim_ordering_tf_kernels.h5\n",
      "82526208/82524592 [==============================] - 0s 0us/step\n",
      "82534400/82524592 [==============================] - 0s 0us/step\n"
     ]
    }
   ],
   "source": [
    "densenet201 = DenseNet201(input_shape=(IMAGE_SIZE[0], IMAGE_SIZE[1], NUM_CHANNELS))\n",
    "densenet201.trainable = False # Freeze pre-trained layers\n",
    "densenet201_last = Model(inputs=densenet201.input, outputs=densenet201.layers[-2].output)"
   ]
  },
  {
   "cell_type": "code",
   "execution_count": 8,
   "id": "a153bd69",
   "metadata": {
    "execution": {
     "iopub.execute_input": "2022-06-29T18:18:53.837059Z",
     "iopub.status.busy": "2022-06-29T18:18:53.835639Z",
     "iopub.status.idle": "2022-06-29T18:18:55.442656Z",
     "shell.execute_reply": "2022-06-29T18:18:55.441519Z"
    },
    "papermill": {
     "duration": 1.61785,
     "end_time": "2022-06-29T18:18:55.445660",
     "exception": false,
     "start_time": "2022-06-29T18:18:53.827810",
     "status": "completed"
    },
    "tags": []
   },
   "outputs": [],
   "source": [
    "# Summary of DenseNet201 is hidden\n",
    "image_inputs = Input(shape=(IMAGE_SIZE[0], IMAGE_SIZE[1], NUM_CHANNELS))\n",
    "rescale_layer = Rescaling(scale=1./255.) (image_inputs)  # Rescale inputs\n",
    "outputs = densenet201_last (rescale_layer)\n",
    "model_densenet201 = Model(inputs=image_inputs, outputs=outputs)"
   ]
  },
  {
   "cell_type": "code",
   "execution_count": 9,
   "id": "4588f424",
   "metadata": {
    "execution": {
     "iopub.execute_input": "2022-06-29T18:18:55.460123Z",
     "iopub.status.busy": "2022-06-29T18:18:55.459014Z",
     "iopub.status.idle": "2022-06-29T18:25:29.413464Z",
     "shell.execute_reply": "2022-06-29T18:25:29.411931Z"
    },
    "papermill": {
     "duration": 393.964328,
     "end_time": "2022-06-29T18:25:29.416188",
     "exception": false,
     "start_time": "2022-06-29T18:18:55.451860",
     "status": "completed"
    },
    "tags": []
   },
   "outputs": [
    {
     "name": "stdout",
     "output_type": "stream",
     "text": [
      "MVSA-Single: Extracting DenseNet201 features of images\n"
     ]
    },
    {
     "name": "stderr",
     "output_type": "stream",
     "text": [
      "2022-06-29 18:18:56.271427: I tensorflow/compiler/mlir/mlir_graph_optimization_pass.cc:185] None of the MLIR Optimization Passes are enabled (registered 2)\n"
     ]
    },
    {
     "name": "stdout",
     "output_type": "stream",
     "text": [
      "135/135 [==============================] - 393s 3s/step\n",
      "DenseNet201 last hidden layer dimension: 1920\n",
      "MVSA-Single with DenseNet201 last hidden layer: (4316, 1920)\n",
      "True\n"
     ]
    }
   ],
   "source": [
    "print('MVSA-Single: Extracting DenseNet201 features of images')\n",
    "mvsa_single_densenet201 = model_densenet201.predict(mvsa_single_images, verbose=1)\n",
    "print('DenseNet201 last hidden layer dimension:', mvsa_single_densenet201.shape[1])\n",
    "print('MVSA-Single with DenseNet201 last hidden layer:', mvsa_single_densenet201.shape)\n",
    "\n",
    "# save and load check\n",
    "np.savez('./mvsa-single-densenet201', mvsa_single_densenet201)\n",
    "x = loadz('./mvsa-single-densenet201.npz')\n",
    "print((x == mvsa_single_densenet201).all())"
   ]
  },
  {
   "cell_type": "code",
   "execution_count": 10,
   "id": "47230e17",
   "metadata": {
    "execution": {
     "iopub.execute_input": "2022-06-29T18:25:29.447879Z",
     "iopub.status.busy": "2022-06-29T18:25:29.447432Z",
     "iopub.status.idle": "2022-06-29T18:49:56.035948Z",
     "shell.execute_reply": "2022-06-29T18:49:56.031531Z"
    },
    "papermill": {
     "duration": 1466.610321,
     "end_time": "2022-06-29T18:49:56.041103",
     "exception": false,
     "start_time": "2022-06-29T18:25:29.430782",
     "status": "completed"
    },
    "tags": []
   },
   "outputs": [
    {
     "name": "stdout",
     "output_type": "stream",
     "text": [
      "MVSA-Multiple: Extracting DenseNet201 features of images\n",
      "513/513 [==============================] - 1457s 3s/step\n",
      "DenseNet201 last hidden layer dimension: 1920\n",
      "MVSA-Multiple with DenseNet201 last hidden layer: (16387, 1920)\n",
      "True\n"
     ]
    }
   ],
   "source": [
    "print('MVSA-Multiple: Extracting DenseNet201 features of images')\n",
    "mvsa_multiple_densenet201 = model_densenet201.predict(mvsa_multiple_images, verbose=1)\n",
    "print('DenseNet201 last hidden layer dimension:', mvsa_multiple_densenet201.shape[1])\n",
    "print('MVSA-Multiple with DenseNet201 last hidden layer:', mvsa_multiple_densenet201.shape)\n",
    "\n",
    "# save and load check\n",
    "np.savez('./mvsa-multiple-densenet201', mvsa_multiple_densenet201)\n",
    "x = loadz('./mvsa-multiple-densenet201.npz')\n",
    "print((x == mvsa_multiple_densenet201).all())"
   ]
  }
 ],
 "metadata": {
  "kernelspec": {
   "display_name": "Python 3",
   "language": "python",
   "name": "python3"
  },
  "language_info": {
   "codemirror_mode": {
    "name": "ipython",
    "version": 3
   },
   "file_extension": ".py",
   "mimetype": "text/x-python",
   "name": "python",
   "nbconvert_exporter": "python",
   "pygments_lexer": "ipython3",
   "version": "3.7.12"
  },
  "papermill": {
   "default_parameters": {},
   "duration": 1934.265321,
   "end_time": "2022-06-29T18:49:59.259216",
   "environment_variables": {},
   "exception": null,
   "input_path": "__notebook__.ipynb",
   "output_path": "__notebook__.ipynb",
   "parameters": {},
   "start_time": "2022-06-29T18:17:44.993895",
   "version": "2.3.4"
  }
 },
 "nbformat": 4,
 "nbformat_minor": 5
}
