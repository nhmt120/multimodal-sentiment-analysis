{
 "cells": [
  {
   "cell_type": "code",
   "execution_count": 1,
   "id": "b84240f2",
   "metadata": {
    "_cell_guid": "b1076dfc-b9ad-4769-8c92-a6c4dae69d19",
    "_uuid": "8f2839f25d086af736a60e9eeb907d3b93b6e0e5",
    "execution": {
     "iopub.execute_input": "2022-06-29T17:41:51.914208Z",
     "iopub.status.busy": "2022-06-29T17:41:51.913467Z",
     "iopub.status.idle": "2022-06-29T17:42:03.524672Z",
     "shell.execute_reply": "2022-06-29T17:42:03.523847Z"
    },
    "papermill": {
     "duration": 11.618823,
     "end_time": "2022-06-29T17:42:03.526660",
     "exception": false,
     "start_time": "2022-06-29T17:41:51.907837",
     "status": "completed"
    },
    "tags": []
   },
   "outputs": [],
   "source": [
    "import os\n",
    "import re\n",
    "import gc\n",
    "import cv2\n",
    "import h5py\n",
    "import torch\n",
    "import string\n",
    "import random\n",
    "import numpy as np\n",
    "import tensorflow as tf\n",
    "\n",
    "from tqdm import tqdm\n",
    "from nltk import tokenize\n",
    "from sklearn import preprocessing\n",
    "\n",
    "from keras.preprocessing.text import Tokenizer, text_to_word_sequence\n",
    "from keras.preprocessing.sequence import pad_sequences\n",
    "from keras.utils.np_utils import to_categorical\n",
    "from keras.layers import Rescaling, Resizing\n",
    "from keras import Input\n",
    "from keras.applications.vgg16 import VGG16\n",
    "from keras.applications.vgg19 import VGG19\n",
    "from keras.applications.xception import Xception\n",
    "from tensorflow.keras.applications import ResNet50, ResNet101, ResNet152\n",
    "from tensorflow.keras.applications import DenseNet121, DenseNet169, DenseNet201\n",
    "from transformers import BertTokenizer, BertForMaskedLM, BertModel\n",
    "from tensorflow.keras import Model"
   ]
  },
  {
   "cell_type": "code",
   "execution_count": 2,
   "id": "a2e3afdc",
   "metadata": {
    "execution": {
     "iopub.execute_input": "2022-06-29T17:42:03.534433Z",
     "iopub.status.busy": "2022-06-29T17:42:03.533743Z",
     "iopub.status.idle": "2022-06-29T17:42:03.537532Z",
     "shell.execute_reply": "2022-06-29T17:42:03.536900Z"
    },
    "papermill": {
     "duration": 0.009154,
     "end_time": "2022-06-29T17:42:03.539069",
     "exception": false,
     "start_time": "2022-06-29T17:42:03.529915",
     "status": "completed"
    },
    "tags": []
   },
   "outputs": [],
   "source": [
    "IMAGE_SIZE = (224, 224)\n",
    "NUM_CHANNELS = 3"
   ]
  },
  {
   "cell_type": "code",
   "execution_count": 3,
   "id": "4fb67283",
   "metadata": {
    "execution": {
     "iopub.execute_input": "2022-06-29T17:42:03.546254Z",
     "iopub.status.busy": "2022-06-29T17:42:03.545476Z",
     "iopub.status.idle": "2022-06-29T17:42:03.549285Z",
     "shell.execute_reply": "2022-06-29T17:42:03.548557Z"
    },
    "papermill": {
     "duration": 0.008984,
     "end_time": "2022-06-29T17:42:03.550903",
     "exception": false,
     "start_time": "2022-06-29T17:42:03.541919",
     "status": "completed"
    },
    "tags": []
   },
   "outputs": [],
   "source": [
    "mvsa_single_path = '../input/mvsa-data/mvsa-single-4316.hdf5'\n",
    "mvsa_multiple_path = '../input/mvsa-data/mvsa-multiple-16387.hdf5'"
   ]
  },
  {
   "cell_type": "code",
   "execution_count": 4,
   "id": "e0a8215a",
   "metadata": {
    "execution": {
     "iopub.execute_input": "2022-06-29T17:42:03.558184Z",
     "iopub.status.busy": "2022-06-29T17:42:03.557723Z",
     "iopub.status.idle": "2022-06-29T17:42:03.565229Z",
     "shell.execute_reply": "2022-06-29T17:42:03.564160Z"
    },
    "papermill": {
     "duration": 0.012988,
     "end_time": "2022-06-29T17:42:03.566896",
     "exception": false,
     "start_time": "2022-06-29T17:42:03.553908",
     "status": "completed"
    },
    "tags": []
   },
   "outputs": [],
   "source": [
    "def read_hdf5(path):\n",
    "    read_file = h5py.File(path, 'r')\n",
    "    \n",
    "    feature_names = list(read_file.keys())\n",
    "    loaded_data = []\n",
    "    \n",
    "    for name in feature_names:\n",
    "        dataset = read_file[name][:]\n",
    "        if dataset.dtype == np.dtype('object'):\n",
    "            dataset = np.array([x.decode('UTF-8') for x in dataset])            \n",
    "        loaded_data.append((name, dataset))\n",
    "\n",
    "    return loaded_data"
   ]
  },
  {
   "cell_type": "code",
   "execution_count": 5,
   "id": "d18d557d",
   "metadata": {
    "execution": {
     "iopub.execute_input": "2022-06-29T17:42:03.574201Z",
     "iopub.status.busy": "2022-06-29T17:42:03.573408Z",
     "iopub.status.idle": "2022-06-29T17:42:03.581036Z",
     "shell.execute_reply": "2022-06-29T17:42:03.580041Z"
    },
    "papermill": {
     "duration": 0.013653,
     "end_time": "2022-06-29T17:42:03.583428",
     "exception": false,
     "start_time": "2022-06-29T17:42:03.569775",
     "status": "completed"
    },
    "tags": []
   },
   "outputs": [],
   "source": [
    "def load_mvsa_data(path, multiple=False):\n",
    "    data = read_hdf5(path)\n",
    "    for x in data:\n",
    "        if x[0] == 'texts':\n",
    "            texts = x[1]\n",
    "        if x[0] == 'images':\n",
    "            images = x[1]\n",
    "        if x[0] == 'multimodal-labels':\n",
    "            labels = x[1]\n",
    "        if x[0] == 'text-labels':\n",
    "            text_labels = x[1]\n",
    "        if x[0] == 'image-labels':\n",
    "            image_labels = x[1]\n",
    "            \n",
    "#     if multiple == True:\n",
    "    images_path = os.path.join(os.path.split(path)[0], os.path.split(path)[1].split('.')[0] + '-images.npz')\n",
    "#         npzfile = np.load(images_path)\n",
    "#         images = npzfile['arr_0']\n",
    "    images = loadz(images_path)\n",
    "        \n",
    "    return texts, images, labels, text_labels, image_labels\n",
    "\n",
    "def loadz(path):\n",
    "    data = np.load(path)['arr_0']\n",
    "    return data"
   ]
  },
  {
   "cell_type": "markdown",
   "id": "1886a90a",
   "metadata": {
    "papermill": {
     "duration": 0.003957,
     "end_time": "2022-06-29T17:42:03.591727",
     "exception": false,
     "start_time": "2022-06-29T17:42:03.587770",
     "status": "completed"
    },
    "tags": []
   },
   "source": [
    "# Load raw data"
   ]
  },
  {
   "cell_type": "code",
   "execution_count": 6,
   "id": "d7b47a8a",
   "metadata": {
    "execution": {
     "iopub.execute_input": "2022-06-29T17:42:03.602294Z",
     "iopub.status.busy": "2022-06-29T17:42:03.601666Z",
     "iopub.status.idle": "2022-06-29T17:42:27.755497Z",
     "shell.execute_reply": "2022-06-29T17:42:27.754408Z"
    },
    "papermill": {
     "duration": 24.161501,
     "end_time": "2022-06-29T17:42:27.757574",
     "exception": false,
     "start_time": "2022-06-29T17:42:03.596073",
     "status": "completed"
    },
    "tags": []
   },
   "outputs": [],
   "source": [
    "mvsa_single_texts, mvsa_single_images, \\\n",
    "mvsa_single_multimodal_labels, mvsa_single_text_labels, \\\n",
    "mvsa_single_image_labels = load_mvsa_data(mvsa_single_path)\n",
    "num_mvsa_single = len(mvsa_single_texts)\n",
    "\n",
    "mvsa_multiple_texts, mvsa_multiple_images, \\\n",
    "mvsa_multiple_multimodal_labels, mvsa_multiple_text_labels, \\\n",
    "mvsa_multiple_image_labels = load_mvsa_data(mvsa_multiple_path, multiple=True)\n",
    "num_mvsa_multiple = len(mvsa_multiple_texts)"
   ]
  },
  {
   "cell_type": "markdown",
   "id": "c86cc34c",
   "metadata": {
    "papermill": {
     "duration": 0.00262,
     "end_time": "2022-06-29T17:42:27.763282",
     "exception": false,
     "start_time": "2022-06-29T17:42:27.760662",
     "status": "completed"
    },
    "tags": []
   },
   "source": [
    "# DenseNet201"
   ]
  },
  {
   "cell_type": "code",
   "execution_count": 7,
   "id": "361a6034",
   "metadata": {
    "execution": {
     "iopub.execute_input": "2022-06-29T17:42:27.770511Z",
     "iopub.status.busy": "2022-06-29T17:42:27.770195Z",
     "iopub.status.idle": "2022-06-29T17:42:33.119567Z",
     "shell.execute_reply": "2022-06-29T17:42:33.118543Z"
    },
    "papermill": {
     "duration": 5.355502,
     "end_time": "2022-06-29T17:42:33.121612",
     "exception": false,
     "start_time": "2022-06-29T17:42:27.766110",
     "status": "completed"
    },
    "tags": []
   },
   "outputs": [
    {
     "name": "stderr",
     "output_type": "stream",
     "text": [
      "2022-06-29 17:42:27.827344: I tensorflow/core/common_runtime/process_util.cc:146] Creating new thread pool with default inter op setting: 2. Tune using inter_op_parallelism_threads for best performance.\n"
     ]
    },
    {
     "name": "stdout",
     "output_type": "stream",
     "text": [
      "Downloading data from https://storage.googleapis.com/tensorflow/keras-applications/densenet/densenet201_weights_tf_dim_ordering_tf_kernels.h5\n",
      "82526208/82524592 [==============================] - 1s 0us/step\n",
      "82534400/82524592 [==============================] - 1s 0us/step\n"
     ]
    }
   ],
   "source": [
    "densenet201 = DenseNet201(input_shape=(IMAGE_SIZE[0], IMAGE_SIZE[1], NUM_CHANNELS))\n",
    "densenet201.trainable = False # Freeze pre-trained layers\n",
    "densenet201_last = Model(inputs=densenet201.input, outputs=densenet201.layers[-2].output)"
   ]
  },
  {
   "cell_type": "code",
   "execution_count": 8,
   "id": "179a2075",
   "metadata": {
    "execution": {
     "iopub.execute_input": "2022-06-29T17:42:33.129937Z",
     "iopub.status.busy": "2022-06-29T17:42:33.129639Z",
     "iopub.status.idle": "2022-06-29T17:42:34.125529Z",
     "shell.execute_reply": "2022-06-29T17:42:34.124709Z"
    },
    "papermill": {
     "duration": 1.002546,
     "end_time": "2022-06-29T17:42:34.127840",
     "exception": false,
     "start_time": "2022-06-29T17:42:33.125294",
     "status": "completed"
    },
    "tags": []
   },
   "outputs": [],
   "source": [
    "# Summary of DenseNet201 is hidden\n",
    "image_inputs = Input(shape=(IMAGE_SIZE[0], IMAGE_SIZE[1], NUM_CHANNELS))\n",
    "rescale_layer = Rescaling(scale=1./255.) (image_inputs)  # Rescale inputs\n",
    "outputs = densenet201_last (rescale_layer)\n",
    "model_densenet201 = Model(inputs=image_inputs, outputs=outputs)"
   ]
  },
  {
   "cell_type": "code",
   "execution_count": 9,
   "id": "c3bb82e2",
   "metadata": {
    "execution": {
     "iopub.execute_input": "2022-06-29T17:42:34.140250Z",
     "iopub.status.busy": "2022-06-29T17:42:34.139991Z",
     "iopub.status.idle": "2022-06-29T17:47:42.964381Z",
     "shell.execute_reply": "2022-06-29T17:47:42.962656Z"
    },
    "papermill": {
     "duration": 308.833387,
     "end_time": "2022-06-29T17:47:42.966857",
     "exception": false,
     "start_time": "2022-06-29T17:42:34.133470",
     "status": "completed"
    },
    "tags": []
   },
   "outputs": [
    {
     "name": "stdout",
     "output_type": "stream",
     "text": [
      "MVSA-Single: Extracting DenseNet201 features of images\n"
     ]
    },
    {
     "name": "stderr",
     "output_type": "stream",
     "text": [
      "2022-06-29 17:42:34.477261: I tensorflow/compiler/mlir/mlir_graph_optimization_pass.cc:185] None of the MLIR Optimization Passes are enabled (registered 2)\n"
     ]
    },
    {
     "name": "stdout",
     "output_type": "stream",
     "text": [
      "135/135 [==============================] - 308s 2s/step\n",
      "DenseNet201 last hidden layer dimension: 1920\n",
      "MVSA-Single with DenseNet201 last hidden layer: (4316, 1920)\n",
      "True\n"
     ]
    }
   ],
   "source": [
    "print('MVSA-Single: Extracting DenseNet201 features of images')\n",
    "mvsa_single_densenet201 = model_densenet201.predict(mvsa_single_images, verbose=1)\n",
    "print('DenseNet201 last hidden layer dimension:', mvsa_single_densenet201.shape[1])\n",
    "print('MVSA-Single with DenseNet201 last hidden layer:', mvsa_single_densenet201.shape)\n",
    "\n",
    "# save and load check\n",
    "np.savez('./mvsa-single-densenet201', mvsa_single_densenet201)\n",
    "x = loadz('./mvsa-single-densenet201.npz')\n",
    "print((x == mvsa_single_densenet201).all())"
   ]
  },
  {
   "cell_type": "code",
   "execution_count": 10,
   "id": "08cef29f",
   "metadata": {
    "execution": {
     "iopub.execute_input": "2022-06-29T17:47:42.989824Z",
     "iopub.status.busy": "2022-06-29T17:47:42.989171Z",
     "iopub.status.idle": "2022-06-29T17:52:49.458772Z",
     "shell.execute_reply": "2022-06-29T17:52:49.457696Z"
    },
    "papermill": {
     "duration": 306.483592,
     "end_time": "2022-06-29T17:52:49.460996",
     "exception": false,
     "start_time": "2022-06-29T17:47:42.977404",
     "status": "completed"
    },
    "tags": []
   },
   "outputs": [
    {
     "name": "stdout",
     "output_type": "stream",
     "text": [
      "MVSA-Single: Extracting DenseNet201 features of images\n",
      "135/135 [==============================] - 305s 2s/step\n",
      "DenseNet201 last hidden layer dimension: 1920\n",
      "MVSA-Single with DenseNet201 last hidden layer: (4316, 1920)\n",
      "True\n"
     ]
    }
   ],
   "source": [
    "print('MVSA-Single: Extracting DenseNet201 features of images')\n",
    "mvsa_single_densenet201 = model_densenet201.predict(mvsa_single_images, verbose=1)\n",
    "print('DenseNet201 last hidden layer dimension:', mvsa_single_densenet201.shape[1])\n",
    "print('MVSA-Single with DenseNet201 last hidden layer:', mvsa_single_densenet201.shape)\n",
    "\n",
    "# save and load check\n",
    "np.savez('./mvsa-single-densenet201', mvsa_single_densenet201)\n",
    "x = loadz('./mvsa-single-densenet201.npz')\n",
    "print((x == mvsa_single_densenet201).all())"
   ]
  }
 ],
 "metadata": {
  "kernelspec": {
   "display_name": "Python 3",
   "language": "python",
   "name": "python3"
  },
  "language_info": {
   "codemirror_mode": {
    "name": "ipython",
    "version": 3
   },
   "file_extension": ".py",
   "mimetype": "text/x-python",
   "name": "python",
   "nbconvert_exporter": "python",
   "pygments_lexer": "ipython3",
   "version": "3.7.12"
  },
  "papermill": {
   "default_parameters": {},
   "duration": 669.771889,
   "end_time": "2022-06-29T17:52:52.252117",
   "environment_variables": {},
   "exception": null,
   "input_path": "__notebook__.ipynb",
   "output_path": "__notebook__.ipynb",
   "parameters": {},
   "start_time": "2022-06-29T17:41:42.480228",
   "version": "2.3.4"
  }
 },
 "nbformat": 4,
 "nbformat_minor": 5
}
