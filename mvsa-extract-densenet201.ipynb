{
 "cells": [
  {
   "cell_type": "code",
   "execution_count": 1,
   "id": "f7aa92c2",
   "metadata": {
    "_cell_guid": "b1076dfc-b9ad-4769-8c92-a6c4dae69d19",
    "_uuid": "8f2839f25d086af736a60e9eeb907d3b93b6e0e5",
    "execution": {
     "iopub.execute_input": "2022-07-03T18:38:55.354069Z",
     "iopub.status.busy": "2022-07-03T18:38:55.353407Z",
     "iopub.status.idle": "2022-07-03T18:39:07.844227Z",
     "shell.execute_reply": "2022-07-03T18:39:07.843201Z"
    },
    "papermill": {
     "duration": 12.499671,
     "end_time": "2022-07-03T18:39:07.847009",
     "exception": false,
     "start_time": "2022-07-03T18:38:55.347338",
     "status": "completed"
    },
    "tags": []
   },
   "outputs": [],
   "source": [
    "import os\n",
    "import re\n",
    "import gc\n",
    "import cv2\n",
    "import h5py\n",
    "import torch\n",
    "import string\n",
    "import random\n",
    "import numpy as np\n",
    "import tensorflow as tf\n",
    "\n",
    "from tqdm import tqdm\n",
    "from nltk import tokenize\n",
    "from sklearn import preprocessing\n",
    "\n",
    "from keras.preprocessing.text import Tokenizer, text_to_word_sequence\n",
    "from keras.preprocessing.sequence import pad_sequences\n",
    "from keras.utils.np_utils import to_categorical\n",
    "from keras.layers import Rescaling, Resizing\n",
    "from keras import Input\n",
    "from keras.applications.vgg16 import VGG16\n",
    "from keras.applications.vgg19 import VGG19\n",
    "from keras.applications.xception import Xception\n",
    "from tensorflow.keras.applications import ResNet50, ResNet101, ResNet152\n",
    "from tensorflow.keras.applications import DenseNet121, DenseNet169, DenseNet201\n",
    "from transformers import BertTokenizer, BertForMaskedLM, BertModel\n",
    "from tensorflow.keras import Model"
   ]
  },
  {
   "cell_type": "code",
   "execution_count": 2,
   "id": "73fd4fef",
   "metadata": {
    "execution": {
     "iopub.execute_input": "2022-07-03T18:39:07.855202Z",
     "iopub.status.busy": "2022-07-03T18:39:07.854537Z",
     "iopub.status.idle": "2022-07-03T18:39:07.859379Z",
     "shell.execute_reply": "2022-07-03T18:39:07.858341Z"
    },
    "papermill": {
     "duration": 0.010975,
     "end_time": "2022-07-03T18:39:07.861355",
     "exception": false,
     "start_time": "2022-07-03T18:39:07.850380",
     "status": "completed"
    },
    "tags": []
   },
   "outputs": [],
   "source": [
    "IMAGE_SIZE = (224, 224)\n",
    "NUM_CHANNELS = 3"
   ]
  },
  {
   "cell_type": "code",
   "execution_count": 3,
   "id": "12d78f0e",
   "metadata": {
    "execution": {
     "iopub.execute_input": "2022-07-03T18:39:07.868877Z",
     "iopub.status.busy": "2022-07-03T18:39:07.868235Z",
     "iopub.status.idle": "2022-07-03T18:39:07.873640Z",
     "shell.execute_reply": "2022-07-03T18:39:07.872724Z"
    },
    "papermill": {
     "duration": 0.011138,
     "end_time": "2022-07-03T18:39:07.875506",
     "exception": false,
     "start_time": "2022-07-03T18:39:07.864368",
     "status": "completed"
    },
    "tags": []
   },
   "outputs": [],
   "source": [
    "mvsa_single_path = '../input/mvsa-data/mvsa-single-4511.hdf5'\n",
    "mvsa_multiple_path = '../input/mvsa-data/mvsa-multiple-17024.hdf5'"
   ]
  },
  {
   "cell_type": "code",
   "execution_count": 4,
   "id": "99f31cf4",
   "metadata": {
    "execution": {
     "iopub.execute_input": "2022-07-03T18:39:07.882788Z",
     "iopub.status.busy": "2022-07-03T18:39:07.882253Z",
     "iopub.status.idle": "2022-07-03T18:39:07.887773Z",
     "shell.execute_reply": "2022-07-03T18:39:07.887087Z"
    },
    "papermill": {
     "duration": 0.011018,
     "end_time": "2022-07-03T18:39:07.889524",
     "exception": false,
     "start_time": "2022-07-03T18:39:07.878506",
     "status": "completed"
    },
    "tags": []
   },
   "outputs": [],
   "source": [
    "def read_hdf5(path):\n",
    "    read_file = h5py.File(path, 'r')\n",
    "    \n",
    "    feature_names = list(read_file.keys())\n",
    "    loaded_data = []\n",
    "    \n",
    "    for name in feature_names:\n",
    "        dataset = read_file[name][:]\n",
    "        if dataset.dtype == np.dtype('object'):\n",
    "            dataset = np.array([x.decode('UTF-8') for x in dataset])            \n",
    "        loaded_data.append((name, dataset))\n",
    "\n",
    "    return loaded_data"
   ]
  },
  {
   "cell_type": "code",
   "execution_count": 5,
   "id": "0ffdaafb",
   "metadata": {
    "execution": {
     "iopub.execute_input": "2022-07-03T18:39:07.896926Z",
     "iopub.status.busy": "2022-07-03T18:39:07.896354Z",
     "iopub.status.idle": "2022-07-03T18:39:07.902914Z",
     "shell.execute_reply": "2022-07-03T18:39:07.902185Z"
    },
    "papermill": {
     "duration": 0.012263,
     "end_time": "2022-07-03T18:39:07.904734",
     "exception": false,
     "start_time": "2022-07-03T18:39:07.892471",
     "status": "completed"
    },
    "tags": []
   },
   "outputs": [],
   "source": [
    "def load_mvsa_data(path, multiple=False):\n",
    "    data = read_hdf5(path)\n",
    "    for x in data:\n",
    "        if x[0] == 'texts':\n",
    "            texts = x[1]\n",
    "        if x[0] == 'multimodal-labels':\n",
    "            labels = x[1]\n",
    "        if x[0] == 'text-labels':\n",
    "            text_labels = x[1]\n",
    "        if x[0] == 'image-labels':\n",
    "            image_labels = x[1]\n",
    "            \n",
    "    images_path = os.path.join(os.path.split(path)[0], os.path.split(path)[1].split('.')[0] + '-images.npz')\n",
    "    images = loadz(images_path)\n",
    "        \n",
    "    return texts, images, labels, text_labels, image_labels\n",
    "\n",
    "def loadz(path):\n",
    "    data = np.load(path)['arr_0']\n",
    "    return data"
   ]
  },
  {
   "cell_type": "markdown",
   "id": "ad608705",
   "metadata": {
    "papermill": {
     "duration": 0.002613,
     "end_time": "2022-07-03T18:39:07.910343",
     "exception": false,
     "start_time": "2022-07-03T18:39:07.907730",
     "status": "completed"
    },
    "tags": []
   },
   "source": [
    "# Load raw data"
   ]
  },
  {
   "cell_type": "code",
   "execution_count": 6,
   "id": "3a6ae53d",
   "metadata": {
    "execution": {
     "iopub.execute_input": "2022-07-03T18:39:07.917767Z",
     "iopub.status.busy": "2022-07-03T18:39:07.917174Z",
     "iopub.status.idle": "2022-07-03T18:39:33.568554Z",
     "shell.execute_reply": "2022-07-03T18:39:33.567051Z"
    },
    "papermill": {
     "duration": 25.658332,
     "end_time": "2022-07-03T18:39:33.571551",
     "exception": false,
     "start_time": "2022-07-03T18:39:07.913219",
     "status": "completed"
    },
    "tags": []
   },
   "outputs": [],
   "source": [
    "mvsa_single_texts, mvsa_single_images, \\\n",
    "mvsa_single_multimodal_labels, mvsa_single_text_labels, \\\n",
    "mvsa_single_image_labels = load_mvsa_data(mvsa_single_path)\n",
    "num_mvsa_single = len(mvsa_single_texts)\n",
    "\n",
    "mvsa_multiple_texts, mvsa_multiple_images, \\\n",
    "mvsa_multiple_multimodal_labels, mvsa_multiple_text_labels, \\\n",
    "mvsa_multiple_image_labels = load_mvsa_data(mvsa_multiple_path)\n",
    "num_mvsa_multiple = len(mvsa_multiple_texts)"
   ]
  },
  {
   "cell_type": "markdown",
   "id": "26575c93",
   "metadata": {
    "papermill": {
     "duration": 0.003219,
     "end_time": "2022-07-03T18:39:33.579336",
     "exception": false,
     "start_time": "2022-07-03T18:39:33.576117",
     "status": "completed"
    },
    "tags": []
   },
   "source": [
    "# DenseNet201"
   ]
  },
  {
   "cell_type": "code",
   "execution_count": 7,
   "id": "5efcd151",
   "metadata": {
    "execution": {
     "iopub.execute_input": "2022-07-03T18:39:33.587557Z",
     "iopub.status.busy": "2022-07-03T18:39:33.587181Z",
     "iopub.status.idle": "2022-07-03T18:39:38.882272Z",
     "shell.execute_reply": "2022-07-03T18:39:38.881270Z"
    },
    "papermill": {
     "duration": 5.301981,
     "end_time": "2022-07-03T18:39:38.884537",
     "exception": false,
     "start_time": "2022-07-03T18:39:33.582556",
     "status": "completed"
    },
    "tags": []
   },
   "outputs": [
    {
     "name": "stderr",
     "output_type": "stream",
     "text": [
      "2022-07-03 18:39:33.680916: I tensorflow/core/common_runtime/process_util.cc:146] Creating new thread pool with default inter op setting: 2. Tune using inter_op_parallelism_threads for best performance.\n"
     ]
    },
    {
     "name": "stdout",
     "output_type": "stream",
     "text": [
      "Downloading data from https://storage.googleapis.com/tensorflow/keras-applications/densenet/densenet201_weights_tf_dim_ordering_tf_kernels.h5\n",
      "82526208/82524592 [==============================] - 0s 0us/step\n",
      "82534400/82524592 [==============================] - 0s 0us/step\n"
     ]
    }
   ],
   "source": [
    "densenet201 = DenseNet201(input_shape=(IMAGE_SIZE[0], IMAGE_SIZE[1], NUM_CHANNELS))\n",
    "densenet201.trainable = False # Freeze pre-trained layers\n",
    "densenet201_last = Model(inputs=densenet201.input, outputs=densenet201.layers[-2].output)"
   ]
  },
  {
   "cell_type": "code",
   "execution_count": 8,
   "id": "1f070ce7",
   "metadata": {
    "execution": {
     "iopub.execute_input": "2022-07-03T18:39:38.894315Z",
     "iopub.status.busy": "2022-07-03T18:39:38.893474Z",
     "iopub.status.idle": "2022-07-03T18:39:40.281607Z",
     "shell.execute_reply": "2022-07-03T18:39:40.280552Z"
    },
    "papermill": {
     "duration": 1.395721,
     "end_time": "2022-07-03T18:39:40.284029",
     "exception": false,
     "start_time": "2022-07-03T18:39:38.888308",
     "status": "completed"
    },
    "tags": []
   },
   "outputs": [],
   "source": [
    "# Summary of DenseNet201 is hidden\n",
    "image_inputs = Input(shape=(IMAGE_SIZE[0], IMAGE_SIZE[1], NUM_CHANNELS))\n",
    "rescale_layer = Rescaling(scale=1./255.) (image_inputs)  # Rescale inputs\n",
    "outputs = densenet201_last (rescale_layer)\n",
    "model_densenet201 = Model(inputs=image_inputs, outputs=outputs)"
   ]
  },
  {
   "cell_type": "code",
   "execution_count": 9,
   "id": "f98cd4b8",
   "metadata": {
    "execution": {
     "iopub.execute_input": "2022-07-03T18:39:40.292724Z",
     "iopub.status.busy": "2022-07-03T18:39:40.292353Z",
     "iopub.status.idle": "2022-07-03T18:45:32.892067Z",
     "shell.execute_reply": "2022-07-03T18:45:32.890443Z"
    },
    "papermill": {
     "duration": 352.607086,
     "end_time": "2022-07-03T18:45:32.894760",
     "exception": false,
     "start_time": "2022-07-03T18:39:40.287674",
     "status": "completed"
    },
    "tags": []
   },
   "outputs": [
    {
     "name": "stdout",
     "output_type": "stream",
     "text": [
      "MVSA-Single: Extracting DenseNet201 features of images\n"
     ]
    },
    {
     "name": "stderr",
     "output_type": "stream",
     "text": [
      "2022-07-03 18:39:40.998284: I tensorflow/compiler/mlir/mlir_graph_optimization_pass.cc:185] None of the MLIR Optimization Passes are enabled (registered 2)\n"
     ]
    },
    {
     "name": "stdout",
     "output_type": "stream",
     "text": [
      "141/141 [==============================] - 352s 2s/step\n",
      "DenseNet201 last hidden layer dimension: 1920\n",
      "MVSA-Single with DenseNet201 last hidden layer: (4511, 1920)\n",
      "True\n"
     ]
    }
   ],
   "source": [
    "print('MVSA-Single: Extracting DenseNet201 features of images')\n",
    "mvsa_single_densenet201 = model_densenet201.predict(mvsa_single_images, verbose=1)\n",
    "print('DenseNet201 last hidden layer dimension:', mvsa_single_densenet201.shape[1])\n",
    "print('MVSA-Single with DenseNet201 last hidden layer:', mvsa_single_densenet201.shape)\n",
    "\n",
    "# save and load check\n",
    "np.savez('./mvsa-single-densenet201', mvsa_single_densenet201)\n",
    "x = loadz('./mvsa-single-densenet201.npz')\n",
    "print((x == mvsa_single_densenet201).all())"
   ]
  },
  {
   "cell_type": "code",
   "execution_count": 10,
   "id": "a689d998",
   "metadata": {
    "execution": {
     "iopub.execute_input": "2022-07-03T18:45:32.918817Z",
     "iopub.status.busy": "2022-07-03T18:45:32.918417Z",
     "iopub.status.idle": "2022-07-03T19:07:13.341057Z",
     "shell.execute_reply": "2022-07-03T19:07:13.339704Z"
    },
    "papermill": {
     "duration": 1300.437719,
     "end_time": "2022-07-03T19:07:13.343332",
     "exception": false,
     "start_time": "2022-07-03T18:45:32.905613",
     "status": "completed"
    },
    "tags": []
   },
   "outputs": [
    {
     "name": "stdout",
     "output_type": "stream",
     "text": [
      "MVSA-Multiple: Extracting DenseNet201 features of images\n",
      "532/532 [==============================] - 1296s 2s/step\n",
      "DenseNet201 last hidden layer dimension: 1920\n",
      "MVSA-Multiple with DenseNet201 last hidden layer: (17024, 1920)\n",
      "True\n"
     ]
    }
   ],
   "source": [
    "print('MVSA-Multiple: Extracting DenseNet201 features of images')\n",
    "mvsa_multiple_densenet201 = model_densenet201.predict(mvsa_multiple_images, verbose=1)\n",
    "print('DenseNet201 last hidden layer dimension:', mvsa_multiple_densenet201.shape[1])\n",
    "print('MVSA-Multiple with DenseNet201 last hidden layer:', mvsa_multiple_densenet201.shape)\n",
    "\n",
    "# save and load check\n",
    "np.savez('./mvsa-multiple-densenet201', mvsa_multiple_densenet201)\n",
    "x = loadz('./mvsa-multiple-densenet201.npz')\n",
    "print((x == mvsa_multiple_densenet201).all())"
   ]
  }
 ],
 "metadata": {
  "kernelspec": {
   "display_name": "Python 3",
   "language": "python",
   "name": "python3"
  },
  "language_info": {
   "codemirror_mode": {
    "name": "ipython",
    "version": 3
   },
   "file_extension": ".py",
   "mimetype": "text/x-python",
   "name": "python",
   "nbconvert_exporter": "python",
   "pygments_lexer": "ipython3",
   "version": "3.7.12"
  },
  "papermill": {
   "default_parameters": {},
   "duration": 1709.544597,
   "end_time": "2022-07-03T19:07:16.671535",
   "environment_variables": {},
   "exception": null,
   "input_path": "__notebook__.ipynb",
   "output_path": "__notebook__.ipynb",
   "parameters": {},
   "start_time": "2022-07-03T18:38:47.126938",
   "version": "2.3.4"
  }
 },
 "nbformat": 4,
 "nbformat_minor": 5
}
