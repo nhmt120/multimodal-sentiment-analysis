{
 "cells": [
  {
   "cell_type": "code",
   "execution_count": 1,
   "id": "75e5a0e2",
   "metadata": {
    "_cell_guid": "b1076dfc-b9ad-4769-8c92-a6c4dae69d19",
    "_uuid": "8f2839f25d086af736a60e9eeb907d3b93b6e0e5",
    "execution": {
     "iopub.execute_input": "2022-06-30T17:50:43.463957Z",
     "iopub.status.busy": "2022-06-30T17:50:43.463238Z",
     "iopub.status.idle": "2022-06-30T17:50:51.435697Z",
     "shell.execute_reply": "2022-06-30T17:50:51.434634Z"
    },
    "papermill": {
     "duration": 7.984924,
     "end_time": "2022-06-30T17:50:51.438246",
     "exception": false,
     "start_time": "2022-06-30T17:50:43.453322",
     "status": "completed"
    },
    "tags": []
   },
   "outputs": [],
   "source": [
    "SEED = 61\n",
    "\n",
    "\n",
    "import os\n",
    "import re\n",
    "import gc\n",
    "import h5py\n",
    "import torch\n",
    "import numpy as np\n",
    "import pandas as pd\n",
    "import tensorflow as tf\n",
    "import random as python_random\n",
    "import matplotlib.pyplot as plt\n",
    "import tensorflow_addons as tfa\n",
    "\n",
    "from tqdm import tqdm\n",
    "from nltk import tokenize\n",
    "\n",
    "from sklearn import preprocessing\n",
    "from sklearn.decomposition import PCA\n",
    "from keras import backend as K\n",
    "from keras import initializers,regularizers,constraints\n",
    "from keras.preprocessing.text import Tokenizer, text_to_word_sequence\n",
    "from keras.preprocessing.sequence import pad_sequences\n",
    "from keras.utils.np_utils import to_categorical\n",
    "from keras.layers import Reshape, Input, Embedding, Flatten, Dense, Dropout, BatchNormalization, Activation #, merge\n",
    "from keras.layers import TimeDistributed, LSTM, GRU, Bidirectional, Convolution1D, MaxPooling1D, MaxPooling2D\n",
    "from keras.layers.core import RepeatVector, Reshape\n",
    "from keras.callbacks import ModelCheckpoint, EarlyStopping, ReduceLROnPlateau\n",
    "from keras.models import Sequential, Model, load_model\n",
    "from sklearn.model_selection import cross_val_score\n",
    "\n",
    "def reset_seeds():\n",
    "    np.random.seed(SEED) \n",
    "    python_random.seed(SEED)\n",
    "    tf.random.set_seed(SEED)\n",
    "    os.environ[\"PYTHONHASHSEED\"] = str(SEED)\n",
    "\n",
    "# from tensorflow.python.keras.layers import Layer, InputSpec, Lambda\n",
    "# from tensorflow.keras import Model\n",
    "# from attention import Attention_input1, Attention_input2\n",
    "# from keras.optimizers import SGD, RMSprop, Adagrad"
   ]
  },
  {
   "cell_type": "code",
   "execution_count": 2,
   "id": "1021da99",
   "metadata": {
    "execution": {
     "iopub.execute_input": "2022-06-30T17:50:51.455712Z",
     "iopub.status.busy": "2022-06-30T17:50:51.455107Z",
     "iopub.status.idle": "2022-06-30T17:50:51.462547Z",
     "shell.execute_reply": "2022-06-30T17:50:51.461581Z"
    },
    "papermill": {
     "duration": 0.018299,
     "end_time": "2022-06-30T17:50:51.464514",
     "exception": false,
     "start_time": "2022-06-30T17:50:51.446215",
     "status": "completed"
    },
    "tags": []
   },
   "outputs": [],
   "source": [
    "def read_hdf5(path):\n",
    "    read_file = h5py.File(path, 'r')\n",
    "    \n",
    "    feature_names = list(read_file.keys())\n",
    "    loaded_data = []\n",
    "    \n",
    "    for name in feature_names:\n",
    "        dataset = read_file[name][:]\n",
    "        if dataset.dtype == np.dtype('object'):\n",
    "            dataset = np.array([x.decode('UTF-8') for x in dataset])            \n",
    "        loaded_data.append((name, dataset))\n",
    "\n",
    "    return loaded_data\n",
    "\n",
    "def loadz(path):\n",
    "    data = np.load(path)['arr_0']\n",
    "    return data"
   ]
  },
  {
   "cell_type": "code",
   "execution_count": 3,
   "id": "e58c3418",
   "metadata": {
    "execution": {
     "iopub.execute_input": "2022-06-30T17:50:51.482539Z",
     "iopub.status.busy": "2022-06-30T17:50:51.481460Z",
     "iopub.status.idle": "2022-06-30T17:50:51.490745Z",
     "shell.execute_reply": "2022-06-30T17:50:51.489835Z"
    },
    "papermill": {
     "duration": 0.020824,
     "end_time": "2022-06-30T17:50:51.493135",
     "exception": false,
     "start_time": "2022-06-30T17:50:51.472311",
     "status": "completed"
    },
    "tags": []
   },
   "outputs": [],
   "source": [
    "def merge_mvsa(mvsa_single, mvsa_multiple):\n",
    "    mvsa = np.concatenate((mvsa_single, mvsa_multiple), axis=0)\n",
    "    return mvsa\n",
    "\n",
    "def load_mvsa_feature(feature_name, merge=False):\n",
    "    folder_path = os.path.join('../input/mvsa-features/', feature_name)\n",
    "    single_file = 'mvsa-single-{}.npz'.format(feature_name)\n",
    "    multiple_file = 'mvsa-multiple-{}.npz'.format(feature_name)\n",
    "    mvsa_single = loadz(os.path.join(folder_path, single_file))\n",
    "    mvsa_multiple = loadz(os.path.join(folder_path, multiple_file))\n",
    "    \n",
    "    if merge == True:\n",
    "        return merge_mvsa(mvsa_single, mvsa_multiple)\n",
    "    \n",
    "    return mvsa_single, mvsa_multiple\n",
    "\n",
    "def load_labels(path):\n",
    "    data = read_hdf5(path)\n",
    "\n",
    "    for x in data:\n",
    "        if x[0] == 'multimodal-labels':\n",
    "            labels = x[1]\n",
    "        if x[0] == 'text-labels':\n",
    "            text_labels = x[1]\n",
    "        if x[0] == 'image-labels':\n",
    "            image_labels = x[1]\n",
    "        \n",
    "    return labels, text_labels, image_labels"
   ]
  },
  {
   "cell_type": "code",
   "execution_count": 4,
   "id": "4a026067",
   "metadata": {
    "execution": {
     "iopub.execute_input": "2022-06-30T17:50:51.509671Z",
     "iopub.status.busy": "2022-06-30T17:50:51.509029Z",
     "iopub.status.idle": "2022-06-30T17:50:51.518012Z",
     "shell.execute_reply": "2022-06-30T17:50:51.517001Z"
    },
    "papermill": {
     "duration": 0.019769,
     "end_time": "2022-06-30T17:50:51.520364",
     "exception": false,
     "start_time": "2022-06-30T17:50:51.500595",
     "status": "completed"
    },
    "tags": []
   },
   "outputs": [],
   "source": [
    "def plot_metrics(history):\n",
    "    fig = plt.figure(figsize=(20, 5))\n",
    "\n",
    "    fig.add_subplot(1, 3, 1)\n",
    "    plt.plot(history.history['loss'])\n",
    "    plt.plot(history.history['val_loss'])\n",
    "    plt.title('LOSS')\n",
    "    plt.ylabel('loss')\n",
    "    plt.xlabel('epoch')\n",
    "    plt.legend(['train', 'val'], loc='best')\n",
    "\n",
    "    fig.add_subplot(1, 3, 2)\n",
    "    plt.plot(history.history['accuracy'])\n",
    "    plt.plot(history.history['val_accuracy'])\n",
    "    plt.title('ACCURACY')\n",
    "    plt.ylabel('accuracy')\n",
    "    plt.xlabel('epoch')\n",
    "    plt.legend(['train', 'val'], loc='best')\n",
    "\n",
    "    fig.add_subplot(1, 3, 3)\n",
    "    plt.plot(history.history['f1_score'])\n",
    "    plt.plot(history.history['val_f1_score'])\n",
    "    plt.title('F1-SCORE')\n",
    "    plt.ylabel('f1-score')\n",
    "    plt.xlabel('epoch')\n",
    "    plt.legend(['train', 'val'], loc='best')\n",
    "\n",
    "    plt.show()"
   ]
  },
  {
   "cell_type": "code",
   "execution_count": 5,
   "id": "fa62c60d",
   "metadata": {
    "execution": {
     "iopub.execute_input": "2022-06-30T17:50:51.536297Z",
     "iopub.status.busy": "2022-06-30T17:50:51.536024Z",
     "iopub.status.idle": "2022-06-30T17:50:51.541302Z",
     "shell.execute_reply": "2022-06-30T17:50:51.540369Z"
    },
    "papermill": {
     "duration": 0.015354,
     "end_time": "2022-06-30T17:50:51.543212",
     "exception": false,
     "start_time": "2022-06-30T17:50:51.527858",
     "status": "completed"
    },
    "tags": []
   },
   "outputs": [],
   "source": [
    "# e.g. validation_split=0.1 -----> 8:1:1 ratio of train, val, test\n",
    "def split_data(data, validation_split):\n",
    "    num_val = int(validation_split * data.shape[0])\n",
    "    data_train = data[:-(num_val*2)]\n",
    "    data_val = data[-(num_val*2):-(num_val)]\n",
    "    data_test = data[-num_val:]\n",
    "    return data_train, data_val, data_test"
   ]
  },
  {
   "cell_type": "code",
   "execution_count": 6,
   "id": "b8646cb0",
   "metadata": {
    "execution": {
     "iopub.execute_input": "2022-06-30T17:50:51.559274Z",
     "iopub.status.busy": "2022-06-30T17:50:51.558496Z",
     "iopub.status.idle": "2022-06-30T17:50:51.564395Z",
     "shell.execute_reply": "2022-06-30T17:50:51.563592Z"
    },
    "papermill": {
     "duration": 0.015686,
     "end_time": "2022-06-30T17:50:51.566216",
     "exception": false,
     "start_time": "2022-06-30T17:50:51.550530",
     "status": "completed"
    },
    "tags": []
   },
   "outputs": [],
   "source": [
    "def create_model_image(input_shape):\n",
    "    f1_score = tfa.metrics.F1Score(num_classes=NUM_CLASSES, average='micro')\n",
    "    \n",
    "    image_input = Input(shape=input_shape)\n",
    "    outputs = Dense(NUM_CLASSES, activation='softmax') (image_input)\n",
    "    \n",
    "    model = Model(image_input, outputs)\n",
    "    model.compile(optimizer='adam', loss='categorical_crossentropy', metrics=['accuracy', f1_score]) # f1 #tf.keras.metrics.AUC()\n",
    "    return model"
   ]
  },
  {
   "cell_type": "code",
   "execution_count": 7,
   "id": "bb0bf254",
   "metadata": {
    "execution": {
     "iopub.execute_input": "2022-06-30T17:50:51.583020Z",
     "iopub.status.busy": "2022-06-30T17:50:51.582253Z",
     "iopub.status.idle": "2022-06-30T17:50:51.588619Z",
     "shell.execute_reply": "2022-06-30T17:50:51.587810Z"
    },
    "papermill": {
     "duration": 0.01674,
     "end_time": "2022-06-30T17:50:51.590467",
     "exception": false,
     "start_time": "2022-06-30T17:50:51.573727",
     "status": "completed"
    },
    "tags": []
   },
   "outputs": [],
   "source": [
    "def create_model_text(input_shape):\n",
    "    f1_score = tfa.metrics.F1Score(num_classes=NUM_CLASSES, average='micro')\n",
    "    \n",
    "    text_input = Input(shape=input_shape)\n",
    "    reshape_text = Reshape((1, -1)) (text_input)\n",
    "    lstm = LSTM(NUM_LSTM) (reshape_text)\n",
    "    outputs = Dense(NUM_CLASSES, activation='softmax') (lstm)\n",
    "    \n",
    "    model = Model(text_input, outputs)\n",
    "    model.compile(optimizer='adam', loss='categorical_crossentropy', metrics=['accuracy', f1_score]) # f1 #tf.keras.metrics.AUC()\n",
    "    \n",
    "    return model"
   ]
  },
  {
   "cell_type": "code",
   "execution_count": 8,
   "id": "3d5dc243",
   "metadata": {
    "execution": {
     "iopub.execute_input": "2022-06-30T17:50:51.606536Z",
     "iopub.status.busy": "2022-06-30T17:50:51.605712Z",
     "iopub.status.idle": "2022-06-30T17:50:51.611958Z",
     "shell.execute_reply": "2022-06-30T17:50:51.611174Z"
    },
    "papermill": {
     "duration": 0.01623,
     "end_time": "2022-06-30T17:50:51.613912",
     "exception": false,
     "start_time": "2022-06-30T17:50:51.597682",
     "status": "completed"
    },
    "tags": []
   },
   "outputs": [],
   "source": [
    "def evaluate_model(model, X_test, y_test, checkpoint=None, verbose=1):\n",
    "    if checkpoint is not None:\n",
    "        model = load_model('./model_checkpoint/{}.h5'.format(checkpoint))#, custom_objects={'f1': f1})\n",
    "    \n",
    "    loss, acc, f1 = model.evaluate(X_test, y_test, verbose=verbose)\n",
    "    \n",
    "    if verbose == 1:\n",
    "        print('Loss:', loss)\n",
    "        print('Accuracy:', acc)\n",
    "        print('F1-score:', f1)\n",
    "        \n",
    "    return loss, acc, f1"
   ]
  },
  {
   "cell_type": "code",
   "execution_count": 9,
   "id": "0302dc73",
   "metadata": {
    "execution": {
     "iopub.execute_input": "2022-06-30T17:50:51.630197Z",
     "iopub.status.busy": "2022-06-30T17:50:51.629428Z",
     "iopub.status.idle": "2022-06-30T17:50:51.637294Z",
     "shell.execute_reply": "2022-06-30T17:50:51.636481Z"
    },
    "papermill": {
     "duration": 0.017799,
     "end_time": "2022-06-30T17:50:51.639178",
     "exception": false,
     "start_time": "2022-06-30T17:50:51.621379",
     "status": "completed"
    },
    "tags": []
   },
   "outputs": [],
   "source": [
    "def run_and_evaluate(name, X, y, verbose=0):\n",
    "    y = le.fit_transform(y)\n",
    "    y = to_categorical(np.asarray(y))\n",
    "    \n",
    "    X_train, X_val, X_test = split_data(X, VALIDATION_SPLIT)\n",
    "    y_train, y_val, y_test = split_data(y, VALIDATION_SPLIT)\n",
    "    \n",
    "    model = create_model_text(X_train.shape[1:])\n",
    "    early_stopping = EarlyStopping(monitor='val_loss', min_delta=1e-4, patience=EARLY_STOPPING)\n",
    "    checkpoint = ModelCheckpoint('./model_checkpoint/{}.h5'.format(name), save_best_only=True, verbose=verbose)\n",
    "    \n",
    "    history = model.fit(X_train, y_train, validation_data=(X_val, y_val), \n",
    "                        epochs=EPOCHS, batch_size=BATCH_SIZE, verbose=verbose,\n",
    "                        callbacks=[checkpoint, early_stopping])\n",
    "    print('Early stopped at epoch:', early_stopping.stopped_epoch)\n",
    "    return history, evaluate_model(model, X_test, y_test, checkpoint=name, verbose=verbose)"
   ]
  },
  {
   "cell_type": "code",
   "execution_count": 10,
   "id": "1d51c1f8",
   "metadata": {
    "execution": {
     "iopub.execute_input": "2022-06-30T17:50:51.654890Z",
     "iopub.status.busy": "2022-06-30T17:50:51.654588Z",
     "iopub.status.idle": "2022-06-30T17:50:51.659863Z",
     "shell.execute_reply": "2022-06-30T17:50:51.659014Z"
    },
    "papermill": {
     "duration": 0.015468,
     "end_time": "2022-06-30T17:50:51.661814",
     "exception": false,
     "start_time": "2022-06-30T17:50:51.646346",
     "status": "completed"
    },
    "tags": []
   },
   "outputs": [],
   "source": [
    "def style_dataframe(dataframe):\n",
    "    return dataframe.style.highlight_max(subset=['Accuracy', 'F1-score'], props='color:lawngreen', axis=0)\\\n",
    "                          .highlight_min(subset=['Accuracy', 'F1-score'], props='color:tomato', axis=0)\\\n",
    "                          .highlight_min(subset=['Loss'], props='color:lawngreen', axis=0)\\\n",
    "                          .highlight_max(subset=['Loss'], props='color:tomato', axis=0)"
   ]
  },
  {
   "cell_type": "code",
   "execution_count": 11,
   "id": "a3578219",
   "metadata": {
    "execution": {
     "iopub.execute_input": "2022-06-30T17:50:51.678398Z",
     "iopub.status.busy": "2022-06-30T17:50:51.677820Z",
     "iopub.status.idle": "2022-06-30T17:50:51.685386Z",
     "shell.execute_reply": "2022-06-30T17:50:51.684573Z"
    },
    "papermill": {
     "duration": 0.017428,
     "end_time": "2022-06-30T17:50:51.687220",
     "exception": false,
     "start_time": "2022-06-30T17:50:51.669792",
     "status": "completed"
    },
    "tags": []
   },
   "outputs": [],
   "source": [
    "from IPython.display import display_html\n",
    "\n",
    "def display_dataframes(dfs, names=[], index=False):\n",
    "    def to_df(x):\n",
    "        if isinstance(x, pd.Series):\n",
    "            return pd.DataFrame(x)\n",
    "        else:\n",
    "            return x\n",
    "    html_str = ''\n",
    "    if names:\n",
    "        html_str += ('<tr>' + \n",
    "                     ''.join(f'<td style=\"text-align:center\">{name}</td>' for name in names) + \n",
    "                     '</tr>')\n",
    "    html_str += ('<tr>' + \n",
    "                 ''.join(f'<td style=\"vertical-align:top\"> {to_df(df).to_html()}</td>' \n",
    "                         for df in dfs) + \n",
    "                 '</tr>')\n",
    "    html_str = f'<table>{html_str}</table>'\n",
    "    html_str = html_str.replace('table','table style=\"display:inline\"')\n",
    "    display_html(html_str, raw=True)"
   ]
  },
  {
   "cell_type": "markdown",
   "id": "1b371d82",
   "metadata": {
    "papermill": {
     "duration": 0.007047,
     "end_time": "2022-06-30T17:50:51.701387",
     "exception": false,
     "start_time": "2022-06-30T17:50:51.694340",
     "status": "completed"
    },
    "tags": []
   },
   "source": [
    "# Load data"
   ]
  },
  {
   "cell_type": "code",
   "execution_count": 12,
   "id": "0b15d4b4",
   "metadata": {
    "execution": {
     "iopub.execute_input": "2022-06-30T17:50:51.717699Z",
     "iopub.status.busy": "2022-06-30T17:50:51.716845Z",
     "iopub.status.idle": "2022-06-30T17:50:53.498086Z",
     "shell.execute_reply": "2022-06-30T17:50:53.496869Z"
    },
    "papermill": {
     "duration": 1.791897,
     "end_time": "2022-06-30T17:50:53.500581",
     "exception": false,
     "start_time": "2022-06-30T17:50:51.708684",
     "status": "completed"
    },
    "tags": []
   },
   "outputs": [],
   "source": [
    "mvsa_single_bert_base, mvsa_multiple_bert_base = load_mvsa_feature('bert-base')\n",
    "mvsa_single_pos_bow, mvsa_multiple_pos_bow = load_mvsa_feature('pos-bow')\n",
    "mvsa_single_pos_tfidf, mvsa_multiple_pos_tfidf = load_mvsa_feature('pos-tfidf')\n",
    "mvsa_single_ner_bow, mvsa_multiple_ner_bow = load_mvsa_feature('ner-bow')\n",
    "mvsa_single_ner_tfidf, mvsa_multiple_ner_tfidf = load_mvsa_feature('ner-tfidf')"
   ]
  },
  {
   "cell_type": "code",
   "execution_count": 13,
   "id": "23b1f648",
   "metadata": {
    "execution": {
     "iopub.execute_input": "2022-06-30T17:50:53.517336Z",
     "iopub.status.busy": "2022-06-30T17:50:53.517000Z",
     "iopub.status.idle": "2022-06-30T17:50:53.671731Z",
     "shell.execute_reply": "2022-06-30T17:50:53.670703Z"
    },
    "papermill": {
     "duration": 0.165944,
     "end_time": "2022-06-30T17:50:53.674461",
     "exception": false,
     "start_time": "2022-06-30T17:50:53.508517",
     "status": "completed"
    },
    "tags": []
   },
   "outputs": [],
   "source": [
    "mvsa_bert_base = load_mvsa_feature('bert-base', merge=True)\n",
    "mvsa_pos_bow = load_mvsa_feature('pos-bow', merge=True)\n",
    "mvsa_pos_tfidf = load_mvsa_feature('pos-tfidf', merge=True)\n",
    "mvsa_ner_bow = load_mvsa_feature('ner-bow', merge=True)\n",
    "mvsa_ner_tfidf = load_mvsa_feature('ner-tfidf', merge=True)"
   ]
  },
  {
   "cell_type": "code",
   "execution_count": 14,
   "id": "366e6173",
   "metadata": {
    "execution": {
     "iopub.execute_input": "2022-06-30T17:50:53.690729Z",
     "iopub.status.busy": "2022-06-30T17:50:53.690447Z",
     "iopub.status.idle": "2022-06-30T17:50:53.835832Z",
     "shell.execute_reply": "2022-06-30T17:50:53.834932Z"
    },
    "papermill": {
     "duration": 0.156141,
     "end_time": "2022-06-30T17:50:53.838059",
     "exception": false,
     "start_time": "2022-06-30T17:50:53.681918",
     "status": "completed"
    },
    "tags": []
   },
   "outputs": [],
   "source": [
    "mvsa_single_multimodal_labels, mvsa_single_text_labels, mvsa_single_image_labels = load_labels('../input/mvsa-features/labels/mvsa-single-labels.hdf5')\n",
    "mvsa_multiple_multimodal_labels, mvsa_multiple_text_labels, mvsa_multiple_image_labels = load_labels('../input/mvsa-features/labels/mvsa-multiple-labels.hdf5')\n",
    "\n",
    "mvsa_multimodal_labels = merge_mvsa(mvsa_single_multimodal_labels, mvsa_multiple_multimodal_labels)\n",
    "mvsa_text_labels = merge_mvsa(mvsa_single_text_labels, mvsa_multiple_text_labels)\n",
    "mvsa_image_labels = merge_mvsa(mvsa_single_image_labels, mvsa_multiple_image_labels)"
   ]
  },
  {
   "cell_type": "code",
   "execution_count": 15,
   "id": "e1b56de1",
   "metadata": {
    "execution": {
     "iopub.execute_input": "2022-06-30T17:50:53.855353Z",
     "iopub.status.busy": "2022-06-30T17:50:53.854135Z",
     "iopub.status.idle": "2022-06-30T17:50:53.862359Z",
     "shell.execute_reply": "2022-06-30T17:50:53.861517Z"
    },
    "papermill": {
     "duration": 0.018968,
     "end_time": "2022-06-30T17:50:53.864558",
     "exception": false,
     "start_time": "2022-06-30T17:50:53.845590",
     "status": "completed"
    },
    "tags": []
   },
   "outputs": [],
   "source": [
    "le = preprocessing.LabelEncoder()\n",
    "le.fit(mvsa_multimodal_labels)\n",
    "NUM_CLASSES = len(le.classes_) # =3"
   ]
  },
  {
   "cell_type": "code",
   "execution_count": 16,
   "id": "deb9af87",
   "metadata": {
    "execution": {
     "iopub.execute_input": "2022-06-30T17:50:53.879945Z",
     "iopub.status.busy": "2022-06-30T17:50:53.879688Z",
     "iopub.status.idle": "2022-06-30T17:50:54.185713Z",
     "shell.execute_reply": "2022-06-30T17:50:54.184709Z"
    },
    "papermill": {
     "duration": 0.316322,
     "end_time": "2022-06-30T17:50:54.188065",
     "exception": false,
     "start_time": "2022-06-30T17:50:53.871743",
     "status": "completed"
    },
    "tags": []
   },
   "outputs": [],
   "source": [
    "feature_names = ['bert-base', 'bert-pos-bow', 'bert-pos-ner-bow', 'bert-pos-tfidf', 'bert-pos-ner-tfidf']\n",
    "\n",
    "mvsa_single_features = [mvsa_single_bert_base, \n",
    "                        np.concatenate((mvsa_single_bert_base, mvsa_single_pos_bow), axis=1), \n",
    "                        np.concatenate((mvsa_single_bert_base, mvsa_single_pos_bow, mvsa_single_ner_bow), axis=1),\n",
    "                        np.concatenate((mvsa_single_bert_base, mvsa_single_pos_tfidf), axis=1), \n",
    "                        np.concatenate((mvsa_single_bert_base, mvsa_single_pos_tfidf, mvsa_single_ner_tfidf), axis=1)]\n",
    "\n",
    "mvsa_multiple_features = [mvsa_multiple_bert_base, \n",
    "                          np.concatenate((mvsa_multiple_bert_base, mvsa_multiple_pos_bow), axis=1), \n",
    "                          np.concatenate((mvsa_multiple_bert_base, mvsa_multiple_pos_bow, mvsa_multiple_ner_bow), axis=1),\n",
    "                          np.concatenate((mvsa_multiple_bert_base, mvsa_multiple_pos_tfidf), axis=1), \n",
    "                          np.concatenate((mvsa_multiple_bert_base, mvsa_multiple_pos_tfidf, mvsa_multiple_ner_tfidf), axis=1)]\n",
    "\n",
    "mvsa_features = [mvsa_bert_base,\n",
    "                 np.concatenate((mvsa_bert_base, mvsa_pos_bow), axis=1), \n",
    "                 np.concatenate((mvsa_bert_base, mvsa_pos_bow, mvsa_ner_bow), axis=1),\n",
    "                 np.concatenate((mvsa_bert_base, mvsa_pos_tfidf), axis=1), \n",
    "                 np.concatenate((mvsa_bert_base, mvsa_pos_tfidf, mvsa_ner_bow), axis=1)]"
   ]
  },
  {
   "cell_type": "markdown",
   "id": "4813f821",
   "metadata": {
    "papermill": {
     "duration": 0.007077,
     "end_time": "2022-06-30T17:50:54.202709",
     "exception": false,
     "start_time": "2022-06-30T17:50:54.195632",
     "status": "completed"
    },
    "tags": []
   },
   "source": [
    "# Run models and Evalution display"
   ]
  },
  {
   "cell_type": "code",
   "execution_count": 17,
   "id": "ec6c1dc9",
   "metadata": {
    "execution": {
     "iopub.execute_input": "2022-06-30T17:50:54.218244Z",
     "iopub.status.busy": "2022-06-30T17:50:54.217930Z",
     "iopub.status.idle": "2022-06-30T17:50:54.222953Z",
     "shell.execute_reply": "2022-06-30T17:50:54.221918Z"
    },
    "papermill": {
     "duration": 0.015104,
     "end_time": "2022-06-30T17:50:54.224924",
     "exception": false,
     "start_time": "2022-06-30T17:50:54.209820",
     "status": "completed"
    },
    "tags": []
   },
   "outputs": [],
   "source": [
    "reset_seeds()\n",
    "EPOCHS = 100\n",
    "BATCH_SIZE = 128\n",
    "VALIDATION_SPLIT = 0.1\n",
    "EARLY_STOPPING = 10\n",
    "NUM_LSTM = 128"
   ]
  },
  {
   "cell_type": "markdown",
   "id": "4db6c651",
   "metadata": {
    "papermill": {
     "duration": 0.007563,
     "end_time": "2022-06-30T17:50:54.239688",
     "exception": false,
     "start_time": "2022-06-30T17:50:54.232125",
     "status": "completed"
    },
    "tags": []
   },
   "source": [
    "## With original text labels"
   ]
  },
  {
   "cell_type": "code",
   "execution_count": 18,
   "id": "5c13be7b",
   "metadata": {
    "execution": {
     "iopub.execute_input": "2022-06-30T17:50:54.255758Z",
     "iopub.status.busy": "2022-06-30T17:50:54.254963Z",
     "iopub.status.idle": "2022-06-30T17:51:34.430886Z",
     "shell.execute_reply": "2022-06-30T17:51:34.429834Z"
    },
    "papermill": {
     "duration": 40.186263,
     "end_time": "2022-06-30T17:51:34.433067",
     "exception": false,
     "start_time": "2022-06-30T17:50:54.246804",
     "status": "completed"
    },
    "tags": []
   },
   "outputs": [
    {
     "name": "stdout",
     "output_type": "stream",
     "text": [
      "MVSA-Single: With original text labels\n",
      "\n",
      "MVSA-Single: bert-base\n"
     ]
    },
    {
     "name": "stderr",
     "output_type": "stream",
     "text": [
      "2022-06-30 17:50:54.334132: I tensorflow/stream_executor/cuda/cuda_gpu_executor.cc:937] successful NUMA node read from SysFS had negative value (-1), but there must be at least one NUMA node, so returning NUMA node zero\n",
      "2022-06-30 17:50:54.335224: I tensorflow/stream_executor/cuda/cuda_gpu_executor.cc:937] successful NUMA node read from SysFS had negative value (-1), but there must be at least one NUMA node, so returning NUMA node zero\n",
      "2022-06-30 17:50:54.336045: I tensorflow/stream_executor/cuda/cuda_gpu_executor.cc:937] successful NUMA node read from SysFS had negative value (-1), but there must be at least one NUMA node, so returning NUMA node zero\n",
      "2022-06-30 17:50:54.337214: I tensorflow/core/platform/cpu_feature_guard.cc:142] This TensorFlow binary is optimized with oneAPI Deep Neural Network Library (oneDNN) to use the following CPU instructions in performance-critical operations:  AVX2 AVX512F FMA\n",
      "To enable them in other operations, rebuild TensorFlow with the appropriate compiler flags.\n",
      "2022-06-30 17:50:54.343198: I tensorflow/stream_executor/cuda/cuda_gpu_executor.cc:937] successful NUMA node read from SysFS had negative value (-1), but there must be at least one NUMA node, so returning NUMA node zero\n",
      "2022-06-30 17:50:54.343959: I tensorflow/stream_executor/cuda/cuda_gpu_executor.cc:937] successful NUMA node read from SysFS had negative value (-1), but there must be at least one NUMA node, so returning NUMA node zero\n",
      "2022-06-30 17:50:54.344659: I tensorflow/stream_executor/cuda/cuda_gpu_executor.cc:937] successful NUMA node read from SysFS had negative value (-1), but there must be at least one NUMA node, so returning NUMA node zero\n",
      "2022-06-30 17:50:58.884389: I tensorflow/stream_executor/cuda/cuda_gpu_executor.cc:937] successful NUMA node read from SysFS had negative value (-1), but there must be at least one NUMA node, so returning NUMA node zero\n",
      "2022-06-30 17:50:58.885254: I tensorflow/stream_executor/cuda/cuda_gpu_executor.cc:937] successful NUMA node read from SysFS had negative value (-1), but there must be at least one NUMA node, so returning NUMA node zero\n",
      "2022-06-30 17:50:58.885929: I tensorflow/stream_executor/cuda/cuda_gpu_executor.cc:937] successful NUMA node read from SysFS had negative value (-1), but there must be at least one NUMA node, so returning NUMA node zero\n",
      "2022-06-30 17:50:58.886514: I tensorflow/core/common_runtime/gpu/gpu_device.cc:1510] Created device /job:localhost/replica:0/task:0/device:GPU:0 with 15047 MB memory:  -> device: 0, name: Tesla P100-PCIE-16GB, pci bus id: 0000:00:04.0, compute capability: 6.0\n",
      "2022-06-30 17:50:59.706211: I tensorflow/compiler/mlir/mlir_graph_optimization_pass.cc:185] None of the MLIR Optimization Passes are enabled (registered 2)\n",
      "2022-06-30 17:51:02.329867: I tensorflow/stream_executor/cuda/cuda_dnn.cc:369] Loaded cuDNN version 8005\n"
     ]
    },
    {
     "name": "stdout",
     "output_type": "stream",
     "text": [
      "Early stopped at epoch: 16\n",
      "\n",
      "MVSA-Single: bert-pos-bow\n",
      "Early stopped at epoch: 16\n",
      "\n",
      "MVSA-Single: bert-pos-ner-bow\n",
      "Early stopped at epoch: 16\n",
      "\n",
      "MVSA-Single: bert-pos-tfidf\n",
      "Early stopped at epoch: 16\n",
      "\n",
      "MVSA-Single: bert-pos-ner-tfidf\n",
      "Early stopped at epoch: 16\n",
      "\n"
     ]
    }
   ],
   "source": [
    "print('MVSA-Single: With original text labels\\n')\n",
    "# run model with all features data of MVSA-Single\n",
    "mvsa_single_hitories = []\n",
    "mvsa_single_score = []\n",
    "for i in range(len(feature_names)):\n",
    "    print('MVSA-Single:', feature_names[i])\n",
    "    history, scores = run_and_evaluate('single-' + feature_names[i], mvsa_single_features[i], mvsa_single_text_labels, verbose=0)\n",
    "    mvsa_single_hitories.append(history)\n",
    "    mvsa_single_score.append(scores)\n",
    "    print()\n",
    "    \n",
    "df_single_scores = pd.DataFrame(mvsa_single_score, columns=['Loss', 'Accuracy', 'F1-score'], index=feature_names)"
   ]
  },
  {
   "cell_type": "code",
   "execution_count": 19,
   "id": "d0b5e7df",
   "metadata": {
    "execution": {
     "iopub.execute_input": "2022-06-30T17:51:34.451453Z",
     "iopub.status.busy": "2022-06-30T17:51:34.450515Z",
     "iopub.status.idle": "2022-06-30T17:52:30.721732Z",
     "shell.execute_reply": "2022-06-30T17:52:30.719797Z"
    },
    "papermill": {
     "duration": 56.2824,
     "end_time": "2022-06-30T17:52:30.723794",
     "exception": false,
     "start_time": "2022-06-30T17:51:34.441394",
     "status": "completed"
    },
    "tags": []
   },
   "outputs": [
    {
     "name": "stdout",
     "output_type": "stream",
     "text": [
      "MVSA-Multiple: With original image labels\n",
      "\n",
      "MVSA-Multiple: bert-base\n",
      "Early stopped at epoch: 13\n",
      "\n",
      "MVSA-Multiple: bert-pos-bow\n",
      "Early stopped at epoch: 13\n",
      "\n",
      "MVSA-Multiple: bert-pos-ner-bow\n",
      "Early stopped at epoch: 13\n",
      "\n",
      "MVSA-Multiple: bert-pos-tfidf\n",
      "Early stopped at epoch: 13\n",
      "\n",
      "MVSA-Multiple: bert-pos-ner-tfidf\n",
      "Early stopped at epoch: 13\n",
      "\n"
     ]
    }
   ],
   "source": [
    "print('MVSA-Multiple: With original image labels\\n')\n",
    "# run model with all features data of MVSA-Multiple\n",
    "mvsa_multiple_hitories = []\n",
    "mvsa_multiple_score = []\n",
    "for i in range(len(feature_names)):\n",
    "    print('MVSA-Multiple:', feature_names[i])\n",
    "    history, scores = run_and_evaluate('multiple-' + feature_names[i], mvsa_multiple_features[i], mvsa_multiple_text_labels, verbose=0)\n",
    "    mvsa_multiple_hitories.append(history)\n",
    "    mvsa_multiple_score.append(scores)\n",
    "    print()\n",
    "    \n",
    "df_multiple_scores = pd.DataFrame(mvsa_multiple_score, columns=['Loss', 'Accuracy', 'F1-score'], index=feature_names)"
   ]
  },
  {
   "cell_type": "code",
   "execution_count": 20,
   "id": "a8fb3bef",
   "metadata": {
    "execution": {
     "iopub.execute_input": "2022-06-30T17:52:30.742997Z",
     "iopub.status.busy": "2022-06-30T17:52:30.742695Z",
     "iopub.status.idle": "2022-06-30T17:52:30.748192Z",
     "shell.execute_reply": "2022-06-30T17:52:30.747172Z"
    },
    "papermill": {
     "duration": 0.017465,
     "end_time": "2022-06-30T17:52:30.750341",
     "exception": false,
     "start_time": "2022-06-30T17:52:30.732876",
     "status": "completed"
    },
    "tags": []
   },
   "outputs": [],
   "source": [
    "mvsa_average_scores = np.mean([mvsa_single_score, mvsa_multiple_score], axis=0)\n",
    "df_average_scores = pd.DataFrame(mvsa_average_scores, columns=['Loss', 'Accuracy', 'F1-score'], index=feature_names)"
   ]
  },
  {
   "cell_type": "code",
   "execution_count": 21,
   "id": "2d21edf8",
   "metadata": {
    "execution": {
     "iopub.execute_input": "2022-06-30T17:52:30.769116Z",
     "iopub.status.busy": "2022-06-30T17:52:30.768833Z",
     "iopub.status.idle": "2022-06-30T17:52:30.872337Z",
     "shell.execute_reply": "2022-06-30T17:52:30.870740Z"
    },
    "papermill": {
     "duration": 0.115292,
     "end_time": "2022-06-30T17:52:30.874493",
     "exception": false,
     "start_time": "2022-06-30T17:52:30.759201",
     "status": "completed"
    },
    "tags": []
   },
   "outputs": [
    {
     "name": "stdout",
     "output_type": "stream",
     "text": [
      "With original image labels\n",
      "\n"
     ]
    },
    {
     "data": {
      "text/html": [
       "<table style=\"display:inline\"><tr><td style=\"text-align:center\">MVSA-Single</td><td style=\"text-align:center\">MVSA-Multiple</td><td style=\"text-align:center\">Average</td></tr><tr><td style=\"vertical-align:top\"> <style type=\"text/css\">\n",
       "#T_fe82b_row0_col0, #T_fe82b_row0_col1, #T_fe82b_row0_col2 {\n",
       "  color: lawngreen;\n",
       "}\n",
       "#T_fe82b_row2_col1, #T_fe82b_row2_col2, #T_fe82b_row4_col0 {\n",
       "  color: tomato;\n",
       "}\n",
       "</style>\n",
       "<table style=\"display:inline\" id=\"T_fe82b_\">\n",
       "  <thead>\n",
       "    <tr>\n",
       "      <th class=\"blank level0\" >&nbsp;</th>\n",
       "      <th class=\"col_heading level0 col0\" >Loss</th>\n",
       "      <th class=\"col_heading level0 col1\" >Accuracy</th>\n",
       "      <th class=\"col_heading level0 col2\" >F1-score</th>\n",
       "    </tr>\n",
       "  </thead>\n",
       "  <tbody>\n",
       "    <tr>\n",
       "      <th id=\"T_fe82b_level0_row0\" class=\"row_heading level0 row0\" >bert-base</th>\n",
       "      <td id=\"T_fe82b_row0_col0\" class=\"data row0 col0\" >0.721703</td>\n",
       "      <td id=\"T_fe82b_row0_col1\" class=\"data row0 col1\" >0.707657</td>\n",
       "      <td id=\"T_fe82b_row0_col2\" class=\"data row0 col2\" >0.707657</td>\n",
       "    </tr>\n",
       "    <tr>\n",
       "      <th id=\"T_fe82b_level0_row1\" class=\"row_heading level0 row1\" >bert-pos-bow</th>\n",
       "      <td id=\"T_fe82b_row1_col0\" class=\"data row1 col0\" >0.728056</td>\n",
       "      <td id=\"T_fe82b_row1_col1\" class=\"data row1 col1\" >0.700696</td>\n",
       "      <td id=\"T_fe82b_row1_col2\" class=\"data row1 col2\" >0.700696</td>\n",
       "    </tr>\n",
       "    <tr>\n",
       "      <th id=\"T_fe82b_level0_row2\" class=\"row_heading level0 row2\" >bert-pos-ner-bow</th>\n",
       "      <td id=\"T_fe82b_row2_col0\" class=\"data row2 col0\" >0.733448</td>\n",
       "      <td id=\"T_fe82b_row2_col1\" class=\"data row2 col1\" >0.689095</td>\n",
       "      <td id=\"T_fe82b_row2_col2\" class=\"data row2 col2\" >0.689095</td>\n",
       "    </tr>\n",
       "    <tr>\n",
       "      <th id=\"T_fe82b_level0_row3\" class=\"row_heading level0 row3\" >bert-pos-tfidf</th>\n",
       "      <td id=\"T_fe82b_row3_col0\" class=\"data row3 col0\" >0.721896</td>\n",
       "      <td id=\"T_fe82b_row3_col1\" class=\"data row3 col1\" >0.705336</td>\n",
       "      <td id=\"T_fe82b_row3_col2\" class=\"data row3 col2\" >0.705336</td>\n",
       "    </tr>\n",
       "    <tr>\n",
       "      <th id=\"T_fe82b_level0_row4\" class=\"row_heading level0 row4\" >bert-pos-ner-tfidf</th>\n",
       "      <td id=\"T_fe82b_row4_col0\" class=\"data row4 col0\" >0.737369</td>\n",
       "      <td id=\"T_fe82b_row4_col1\" class=\"data row4 col1\" >0.698376</td>\n",
       "      <td id=\"T_fe82b_row4_col2\" class=\"data row4 col2\" >0.698376</td>\n",
       "    </tr>\n",
       "  </tbody>\n",
       "</table style=\"display:inline\">\n",
       "</td><td style=\"vertical-align:top\"> <style type=\"text/css\">\n",
       "#T_fe73d_row0_col1, #T_fe73d_row0_col2, #T_fe73d_row4_col0 {\n",
       "  color: tomato;\n",
       "}\n",
       "#T_fe73d_row1_col1, #T_fe73d_row1_col2, #T_fe73d_row3_col0 {\n",
       "  color: lawngreen;\n",
       "}\n",
       "</style>\n",
       "<table style=\"display:inline\" id=\"T_fe73d_\">\n",
       "  <thead>\n",
       "    <tr>\n",
       "      <th class=\"blank level0\" >&nbsp;</th>\n",
       "      <th class=\"col_heading level0 col0\" >Loss</th>\n",
       "      <th class=\"col_heading level0 col1\" >Accuracy</th>\n",
       "      <th class=\"col_heading level0 col2\" >F1-score</th>\n",
       "    </tr>\n",
       "  </thead>\n",
       "  <tbody>\n",
       "    <tr>\n",
       "      <th id=\"T_fe73d_level0_row0\" class=\"row_heading level0 row0\" >bert-base</th>\n",
       "      <td id=\"T_fe73d_row0_col0\" class=\"data row0 col0\" >0.804546</td>\n",
       "      <td id=\"T_fe73d_row0_col1\" class=\"data row0 col1\" >0.597680</td>\n",
       "      <td id=\"T_fe73d_row0_col2\" class=\"data row0 col2\" >0.597680</td>\n",
       "    </tr>\n",
       "    <tr>\n",
       "      <th id=\"T_fe73d_level0_row1\" class=\"row_heading level0 row1\" >bert-pos-bow</th>\n",
       "      <td id=\"T_fe73d_row1_col0\" class=\"data row1 col0\" >0.804690</td>\n",
       "      <td id=\"T_fe73d_row1_col1\" class=\"data row1 col1\" >0.607448</td>\n",
       "      <td id=\"T_fe73d_row1_col2\" class=\"data row1 col2\" >0.607448</td>\n",
       "    </tr>\n",
       "    <tr>\n",
       "      <th id=\"T_fe73d_level0_row2\" class=\"row_heading level0 row2\" >bert-pos-ner-bow</th>\n",
       "      <td id=\"T_fe73d_row2_col0\" class=\"data row2 col0\" >0.805016</td>\n",
       "      <td id=\"T_fe73d_row2_col1\" class=\"data row2 col1\" >0.602564</td>\n",
       "      <td id=\"T_fe73d_row2_col2\" class=\"data row2 col2\" >0.602564</td>\n",
       "    </tr>\n",
       "    <tr>\n",
       "      <th id=\"T_fe73d_level0_row3\" class=\"row_heading level0 row3\" >bert-pos-tfidf</th>\n",
       "      <td id=\"T_fe73d_row3_col0\" class=\"data row3 col0\" >0.803599</td>\n",
       "      <td id=\"T_fe73d_row3_col1\" class=\"data row3 col1\" >0.602564</td>\n",
       "      <td id=\"T_fe73d_row3_col2\" class=\"data row3 col2\" >0.602564</td>\n",
       "    </tr>\n",
       "    <tr>\n",
       "      <th id=\"T_fe73d_level0_row4\" class=\"row_heading level0 row4\" >bert-pos-ner-tfidf</th>\n",
       "      <td id=\"T_fe73d_row4_col0\" class=\"data row4 col0\" >0.808248</td>\n",
       "      <td id=\"T_fe73d_row4_col1\" class=\"data row4 col1\" >0.602564</td>\n",
       "      <td id=\"T_fe73d_row4_col2\" class=\"data row4 col2\" >0.602564</td>\n",
       "    </tr>\n",
       "  </tbody>\n",
       "</table style=\"display:inline\">\n",
       "</td><td style=\"vertical-align:top\"> <style type=\"text/css\">\n",
       "#T_1d340_row1_col1, #T_1d340_row1_col2, #T_1d340_row3_col0 {\n",
       "  color: lawngreen;\n",
       "}\n",
       "#T_1d340_row2_col1, #T_1d340_row2_col2, #T_1d340_row4_col0 {\n",
       "  color: tomato;\n",
       "}\n",
       "</style>\n",
       "<table style=\"display:inline\" id=\"T_1d340_\">\n",
       "  <thead>\n",
       "    <tr>\n",
       "      <th class=\"blank level0\" >&nbsp;</th>\n",
       "      <th class=\"col_heading level0 col0\" >Loss</th>\n",
       "      <th class=\"col_heading level0 col1\" >Accuracy</th>\n",
       "      <th class=\"col_heading level0 col2\" >F1-score</th>\n",
       "    </tr>\n",
       "  </thead>\n",
       "  <tbody>\n",
       "    <tr>\n",
       "      <th id=\"T_1d340_level0_row0\" class=\"row_heading level0 row0\" >bert-base</th>\n",
       "      <td id=\"T_1d340_row0_col0\" class=\"data row0 col0\" >0.763124</td>\n",
       "      <td id=\"T_1d340_row0_col1\" class=\"data row0 col1\" >0.652668</td>\n",
       "      <td id=\"T_1d340_row0_col2\" class=\"data row0 col2\" >0.652668</td>\n",
       "    </tr>\n",
       "    <tr>\n",
       "      <th id=\"T_1d340_level0_row1\" class=\"row_heading level0 row1\" >bert-pos-bow</th>\n",
       "      <td id=\"T_1d340_row1_col0\" class=\"data row1 col0\" >0.766373</td>\n",
       "      <td id=\"T_1d340_row1_col1\" class=\"data row1 col1\" >0.654072</td>\n",
       "      <td id=\"T_1d340_row1_col2\" class=\"data row1 col2\" >0.654072</td>\n",
       "    </tr>\n",
       "    <tr>\n",
       "      <th id=\"T_1d340_level0_row2\" class=\"row_heading level0 row2\" >bert-pos-ner-bow</th>\n",
       "      <td id=\"T_1d340_row2_col0\" class=\"data row2 col0\" >0.769232</td>\n",
       "      <td id=\"T_1d340_row2_col1\" class=\"data row2 col1\" >0.645830</td>\n",
       "      <td id=\"T_1d340_row2_col2\" class=\"data row2 col2\" >0.645830</td>\n",
       "    </tr>\n",
       "    <tr>\n",
       "      <th id=\"T_1d340_level0_row3\" class=\"row_heading level0 row3\" >bert-pos-tfidf</th>\n",
       "      <td id=\"T_1d340_row3_col0\" class=\"data row3 col0\" >0.762747</td>\n",
       "      <td id=\"T_1d340_row3_col1\" class=\"data row3 col1\" >0.653950</td>\n",
       "      <td id=\"T_1d340_row3_col2\" class=\"data row3 col2\" >0.653950</td>\n",
       "    </tr>\n",
       "    <tr>\n",
       "      <th id=\"T_1d340_level0_row4\" class=\"row_heading level0 row4\" >bert-pos-ner-tfidf</th>\n",
       "      <td id=\"T_1d340_row4_col0\" class=\"data row4 col0\" >0.772808</td>\n",
       "      <td id=\"T_1d340_row4_col1\" class=\"data row4 col1\" >0.650470</td>\n",
       "      <td id=\"T_1d340_row4_col2\" class=\"data row4 col2\" >0.650470</td>\n",
       "    </tr>\n",
       "  </tbody>\n",
       "</table style=\"display:inline\">\n",
       "</td></tr></table style=\"display:inline\">"
      ]
     },
     "metadata": {},
     "output_type": "display_data"
    }
   ],
   "source": [
    "print('With original image labels\\n')\n",
    "display_dataframes((style_dataframe(df_single_scores), style_dataframe(df_multiple_scores), style_dataframe(df_average_scores)), \n",
    "                   names=['MVSA-Single', 'MVSA-Multiple', 'Average'])"
   ]
  },
  {
   "cell_type": "markdown",
   "id": "4d4a136e",
   "metadata": {
    "papermill": {
     "duration": 0.009099,
     "end_time": "2022-06-30T17:52:30.892953",
     "exception": false,
     "start_time": "2022-06-30T17:52:30.883854",
     "status": "completed"
    },
    "tags": []
   },
   "source": [
    "## With multimodal labels"
   ]
  },
  {
   "cell_type": "code",
   "execution_count": 22,
   "id": "16876139",
   "metadata": {
    "execution": {
     "iopub.execute_input": "2022-06-30T17:52:30.914001Z",
     "iopub.status.busy": "2022-06-30T17:52:30.913591Z",
     "iopub.status.idle": "2022-06-30T17:52:54.771036Z",
     "shell.execute_reply": "2022-06-30T17:52:54.769825Z"
    },
    "papermill": {
     "duration": 23.87174,
     "end_time": "2022-06-30T17:52:54.774223",
     "exception": false,
     "start_time": "2022-06-30T17:52:30.902483",
     "status": "completed"
    },
    "tags": []
   },
   "outputs": [
    {
     "name": "stdout",
     "output_type": "stream",
     "text": [
      "With multimodal labels\n",
      "MVSA-Single: bert-base\n",
      "Early stopped at epoch: 13\n",
      "\n",
      "MVSA-Single: bert-pos-bow\n",
      "Early stopped at epoch: 13\n",
      "\n",
      "MVSA-Single: bert-pos-ner-bow\n",
      "Early stopped at epoch: 13\n",
      "\n",
      "MVSA-Single: bert-pos-tfidf\n",
      "Early stopped at epoch: 13\n",
      "\n",
      "MVSA-Single: bert-pos-ner-tfidf\n",
      "Early stopped at epoch: 13\n",
      "\n"
     ]
    }
   ],
   "source": [
    "print('With multimodal labels')\n",
    "\n",
    "# run model with all features data of MVSA-Single\n",
    "mvsa_single_hitories2 = []\n",
    "mvsa_single_score2 = []\n",
    "for i in range(len(feature_names)):\n",
    "    print('MVSA-Single:', feature_names[i])\n",
    "    history, scores = run_and_evaluate('single-' + feature_names[i], mvsa_single_features[i], mvsa_single_multimodal_labels, verbose=0)\n",
    "    mvsa_single_hitories2.append(history)\n",
    "    mvsa_single_score2.append(scores)\n",
    "    print()\n",
    "    \n",
    "df_single_scores2 = pd.DataFrame(mvsa_single_score2, columns=['Loss', 'Accuracy', 'F1-score'], index=feature_names)"
   ]
  },
  {
   "cell_type": "code",
   "execution_count": 23,
   "id": "b1b79208",
   "metadata": {
    "execution": {
     "iopub.execute_input": "2022-06-30T17:52:54.795968Z",
     "iopub.status.busy": "2022-06-30T17:52:54.795658Z",
     "iopub.status.idle": "2022-06-30T17:53:41.389299Z",
     "shell.execute_reply": "2022-06-30T17:53:41.388055Z"
    },
    "papermill": {
     "duration": 46.607543,
     "end_time": "2022-06-30T17:53:41.392353",
     "exception": false,
     "start_time": "2022-06-30T17:52:54.784810",
     "status": "completed"
    },
    "tags": []
   },
   "outputs": [
    {
     "name": "stdout",
     "output_type": "stream",
     "text": [
      "With multimodal labels\n",
      "MVSA-Multiple: bert-base\n",
      "Early stopped at epoch: 12\n",
      "\n",
      "MVSA-Multiple: bert-pos-bow\n",
      "Early stopped at epoch: 12\n",
      "\n",
      "MVSA-Multiple: bert-pos-ner-bow\n",
      "Early stopped at epoch: 12\n",
      "\n",
      "MVSA-Multiple: bert-pos-tfidf\n",
      "Early stopped at epoch: 12\n",
      "\n",
      "MVSA-Multiple: bert-pos-ner-tfidf\n",
      "Early stopped at epoch: 12\n",
      "\n"
     ]
    }
   ],
   "source": [
    "print('With multimodal labels')\n",
    "# run model with all features data of MVSA-Multiple\n",
    "mvsa_multiple_hitories2 = []\n",
    "mvsa_multiple_score2 = []\n",
    "for i in range(len(feature_names)):\n",
    "    print('MVSA-Multiple:', feature_names[i])\n",
    "    history, scores = run_and_evaluate('multiple-' + feature_names[i], mvsa_multiple_features[i], mvsa_multiple_multimodal_labels, verbose=0)\n",
    "    mvsa_multiple_hitories2.append(history)\n",
    "    mvsa_multiple_score2.append(scores)\n",
    "    print()\n",
    "    \n",
    "df_multiple_scores2 = pd.DataFrame(mvsa_multiple_score2, columns=['Loss', 'Accuracy', 'F1-score'], index=feature_names)"
   ]
  },
  {
   "cell_type": "code",
   "execution_count": 24,
   "id": "b28ff22f",
   "metadata": {
    "execution": {
     "iopub.execute_input": "2022-06-30T17:53:41.414895Z",
     "iopub.status.busy": "2022-06-30T17:53:41.414615Z",
     "iopub.status.idle": "2022-06-30T17:53:41.420143Z",
     "shell.execute_reply": "2022-06-30T17:53:41.419115Z"
    },
    "papermill": {
     "duration": 0.019193,
     "end_time": "2022-06-30T17:53:41.422637",
     "exception": false,
     "start_time": "2022-06-30T17:53:41.403444",
     "status": "completed"
    },
    "tags": []
   },
   "outputs": [],
   "source": [
    "mvsa_average_scores2 = np.mean([mvsa_single_score2, mvsa_multiple_score2], axis=0)\n",
    "df_average_scores2 = pd.DataFrame(mvsa_average_scores2, columns=['Loss', 'Accuracy', 'F1-score'], index=feature_names)"
   ]
  },
  {
   "cell_type": "code",
   "execution_count": 25,
   "id": "7ad9d485",
   "metadata": {
    "execution": {
     "iopub.execute_input": "2022-06-30T17:53:41.444843Z",
     "iopub.status.busy": "2022-06-30T17:53:41.444576Z",
     "iopub.status.idle": "2022-06-30T17:53:41.487903Z",
     "shell.execute_reply": "2022-06-30T17:53:41.486464Z"
    },
    "papermill": {
     "duration": 0.057033,
     "end_time": "2022-06-30T17:53:41.490562",
     "exception": false,
     "start_time": "2022-06-30T17:53:41.433529",
     "status": "completed"
    },
    "tags": []
   },
   "outputs": [
    {
     "name": "stdout",
     "output_type": "stream",
     "text": [
      "With multimodal labels\n",
      "\n"
     ]
    },
    {
     "data": {
      "text/html": [
       "<table style=\"display:inline\"><tr><td style=\"text-align:center\">MVSA-Single</td><td style=\"text-align:center\">MVSA-Multiple</td><td style=\"text-align:center\">Average</td></tr><tr><td style=\"vertical-align:top\"> <style type=\"text/css\">\n",
       "#T_b80bb_row0_col0, #T_b80bb_row2_col1, #T_b80bb_row2_col2 {\n",
       "  color: tomato;\n",
       "}\n",
       "#T_b80bb_row1_col1, #T_b80bb_row1_col2, #T_b80bb_row4_col0 {\n",
       "  color: lawngreen;\n",
       "}\n",
       "</style>\n",
       "<table style=\"display:inline\" id=\"T_b80bb_\">\n",
       "  <thead>\n",
       "    <tr>\n",
       "      <th class=\"blank level0\" >&nbsp;</th>\n",
       "      <th class=\"col_heading level0 col0\" >Loss</th>\n",
       "      <th class=\"col_heading level0 col1\" >Accuracy</th>\n",
       "      <th class=\"col_heading level0 col2\" >F1-score</th>\n",
       "    </tr>\n",
       "  </thead>\n",
       "  <tbody>\n",
       "    <tr>\n",
       "      <th id=\"T_b80bb_level0_row0\" class=\"row_heading level0 row0\" >bert-base</th>\n",
       "      <td id=\"T_b80bb_row0_col0\" class=\"data row0 col0\" >0.752630</td>\n",
       "      <td id=\"T_b80bb_row0_col1\" class=\"data row0 col1\" >0.675174</td>\n",
       "      <td id=\"T_b80bb_row0_col2\" class=\"data row0 col2\" >0.675174</td>\n",
       "    </tr>\n",
       "    <tr>\n",
       "      <th id=\"T_b80bb_level0_row1\" class=\"row_heading level0 row1\" >bert-pos-bow</th>\n",
       "      <td id=\"T_b80bb_row1_col0\" class=\"data row1 col0\" >0.747594</td>\n",
       "      <td id=\"T_b80bb_row1_col1\" class=\"data row1 col1\" >0.691415</td>\n",
       "      <td id=\"T_b80bb_row1_col2\" class=\"data row1 col2\" >0.691415</td>\n",
       "    </tr>\n",
       "    <tr>\n",
       "      <th id=\"T_b80bb_level0_row2\" class=\"row_heading level0 row2\" >bert-pos-ner-bow</th>\n",
       "      <td id=\"T_b80bb_row2_col0\" class=\"data row2 col0\" >0.740808</td>\n",
       "      <td id=\"T_b80bb_row2_col1\" class=\"data row2 col1\" >0.670534</td>\n",
       "      <td id=\"T_b80bb_row2_col2\" class=\"data row2 col2\" >0.670534</td>\n",
       "    </tr>\n",
       "    <tr>\n",
       "      <th id=\"T_b80bb_level0_row3\" class=\"row_heading level0 row3\" >bert-pos-tfidf</th>\n",
       "      <td id=\"T_b80bb_row3_col0\" class=\"data row3 col0\" >0.748026</td>\n",
       "      <td id=\"T_b80bb_row3_col1\" class=\"data row3 col1\" >0.677494</td>\n",
       "      <td id=\"T_b80bb_row3_col2\" class=\"data row3 col2\" >0.677494</td>\n",
       "    </tr>\n",
       "    <tr>\n",
       "      <th id=\"T_b80bb_level0_row4\" class=\"row_heading level0 row4\" >bert-pos-ner-tfidf</th>\n",
       "      <td id=\"T_b80bb_row4_col0\" class=\"data row4 col0\" >0.717518</td>\n",
       "      <td id=\"T_b80bb_row4_col1\" class=\"data row4 col1\" >0.686775</td>\n",
       "      <td id=\"T_b80bb_row4_col2\" class=\"data row4 col2\" >0.686775</td>\n",
       "    </tr>\n",
       "  </tbody>\n",
       "</table style=\"display:inline\">\n",
       "</td><td style=\"vertical-align:top\"> <style type=\"text/css\">\n",
       "#T_e09ce_row0_col1, #T_e09ce_row0_col2, #T_e09ce_row4_col0 {\n",
       "  color: tomato;\n",
       "}\n",
       "#T_e09ce_row2_col0, #T_e09ce_row3_col1, #T_e09ce_row3_col2 {\n",
       "  color: lawngreen;\n",
       "}\n",
       "</style>\n",
       "<table style=\"display:inline\" id=\"T_e09ce_\">\n",
       "  <thead>\n",
       "    <tr>\n",
       "      <th class=\"blank level0\" >&nbsp;</th>\n",
       "      <th class=\"col_heading level0 col0\" >Loss</th>\n",
       "      <th class=\"col_heading level0 col1\" >Accuracy</th>\n",
       "      <th class=\"col_heading level0 col2\" >F1-score</th>\n",
       "    </tr>\n",
       "  </thead>\n",
       "  <tbody>\n",
       "    <tr>\n",
       "      <th id=\"T_e09ce_level0_row0\" class=\"row_heading level0 row0\" >bert-base</th>\n",
       "      <td id=\"T_e09ce_row0_col0\" class=\"data row0 col0\" >0.772615</td>\n",
       "      <td id=\"T_e09ce_row0_col1\" class=\"data row0 col1\" >0.654457</td>\n",
       "      <td id=\"T_e09ce_row0_col2\" class=\"data row0 col2\" >0.654457</td>\n",
       "    </tr>\n",
       "    <tr>\n",
       "      <th id=\"T_e09ce_level0_row1\" class=\"row_heading level0 row1\" >bert-pos-bow</th>\n",
       "      <td id=\"T_e09ce_row1_col0\" class=\"data row1 col0\" >0.771116</td>\n",
       "      <td id=\"T_e09ce_row1_col1\" class=\"data row1 col1\" >0.657509</td>\n",
       "      <td id=\"T_e09ce_row1_col2\" class=\"data row1 col2\" >0.657509</td>\n",
       "    </tr>\n",
       "    <tr>\n",
       "      <th id=\"T_e09ce_level0_row2\" class=\"row_heading level0 row2\" >bert-pos-ner-bow</th>\n",
       "      <td id=\"T_e09ce_row2_col0\" class=\"data row2 col0\" >0.770156</td>\n",
       "      <td id=\"T_e09ce_row2_col1\" class=\"data row2 col1\" >0.658120</td>\n",
       "      <td id=\"T_e09ce_row2_col2\" class=\"data row2 col2\" >0.658120</td>\n",
       "    </tr>\n",
       "    <tr>\n",
       "      <th id=\"T_e09ce_level0_row3\" class=\"row_heading level0 row3\" >bert-pos-tfidf</th>\n",
       "      <td id=\"T_e09ce_row3_col0\" class=\"data row3 col0\" >0.772120</td>\n",
       "      <td id=\"T_e09ce_row3_col1\" class=\"data row3 col1\" >0.662393</td>\n",
       "      <td id=\"T_e09ce_row3_col2\" class=\"data row3 col2\" >0.662393</td>\n",
       "    </tr>\n",
       "    <tr>\n",
       "      <th id=\"T_e09ce_level0_row4\" class=\"row_heading level0 row4\" >bert-pos-ner-tfidf</th>\n",
       "      <td id=\"T_e09ce_row4_col0\" class=\"data row4 col0\" >0.773101</td>\n",
       "      <td id=\"T_e09ce_row4_col1\" class=\"data row4 col1\" >0.661783</td>\n",
       "      <td id=\"T_e09ce_row4_col2\" class=\"data row4 col2\" >0.661783</td>\n",
       "    </tr>\n",
       "  </tbody>\n",
       "</table style=\"display:inline\">\n",
       "</td><td style=\"vertical-align:top\"> <style type=\"text/css\">\n",
       "#T_0687a_row0_col0, #T_0687a_row2_col1, #T_0687a_row2_col2 {\n",
       "  color: tomato;\n",
       "}\n",
       "#T_0687a_row1_col1, #T_0687a_row1_col2, #T_0687a_row4_col0 {\n",
       "  color: lawngreen;\n",
       "}\n",
       "</style>\n",
       "<table style=\"display:inline\" id=\"T_0687a_\">\n",
       "  <thead>\n",
       "    <tr>\n",
       "      <th class=\"blank level0\" >&nbsp;</th>\n",
       "      <th class=\"col_heading level0 col0\" >Loss</th>\n",
       "      <th class=\"col_heading level0 col1\" >Accuracy</th>\n",
       "      <th class=\"col_heading level0 col2\" >F1-score</th>\n",
       "    </tr>\n",
       "  </thead>\n",
       "  <tbody>\n",
       "    <tr>\n",
       "      <th id=\"T_0687a_level0_row0\" class=\"row_heading level0 row0\" >bert-base</th>\n",
       "      <td id=\"T_0687a_row0_col0\" class=\"data row0 col0\" >0.762623</td>\n",
       "      <td id=\"T_0687a_row0_col1\" class=\"data row0 col1\" >0.664815</td>\n",
       "      <td id=\"T_0687a_row0_col2\" class=\"data row0 col2\" >0.664815</td>\n",
       "    </tr>\n",
       "    <tr>\n",
       "      <th id=\"T_0687a_level0_row1\" class=\"row_heading level0 row1\" >bert-pos-bow</th>\n",
       "      <td id=\"T_0687a_row1_col0\" class=\"data row1 col0\" >0.759355</td>\n",
       "      <td id=\"T_0687a_row1_col1\" class=\"data row1 col1\" >0.674462</td>\n",
       "      <td id=\"T_0687a_row1_col2\" class=\"data row1 col2\" >0.674462</td>\n",
       "    </tr>\n",
       "    <tr>\n",
       "      <th id=\"T_0687a_level0_row2\" class=\"row_heading level0 row2\" >bert-pos-ner-bow</th>\n",
       "      <td id=\"T_0687a_row2_col0\" class=\"data row2 col0\" >0.755482</td>\n",
       "      <td id=\"T_0687a_row2_col1\" class=\"data row2 col1\" >0.664327</td>\n",
       "      <td id=\"T_0687a_row2_col2\" class=\"data row2 col2\" >0.664327</td>\n",
       "    </tr>\n",
       "    <tr>\n",
       "      <th id=\"T_0687a_level0_row3\" class=\"row_heading level0 row3\" >bert-pos-tfidf</th>\n",
       "      <td id=\"T_0687a_row3_col0\" class=\"data row3 col0\" >0.760073</td>\n",
       "      <td id=\"T_0687a_row3_col1\" class=\"data row3 col1\" >0.669944</td>\n",
       "      <td id=\"T_0687a_row3_col2\" class=\"data row3 col2\" >0.669944</td>\n",
       "    </tr>\n",
       "    <tr>\n",
       "      <th id=\"T_0687a_level0_row4\" class=\"row_heading level0 row4\" >bert-pos-ner-tfidf</th>\n",
       "      <td id=\"T_0687a_row4_col0\" class=\"data row4 col0\" >0.745310</td>\n",
       "      <td id=\"T_0687a_row4_col1\" class=\"data row4 col1\" >0.674279</td>\n",
       "      <td id=\"T_0687a_row4_col2\" class=\"data row4 col2\" >0.674279</td>\n",
       "    </tr>\n",
       "  </tbody>\n",
       "</table style=\"display:inline\">\n",
       "</td></tr></table style=\"display:inline\">"
      ]
     },
     "metadata": {},
     "output_type": "display_data"
    }
   ],
   "source": [
    "print('With multimodal labels\\n')\n",
    "display_dataframes((style_dataframe(df_single_scores2), style_dataframe(df_multiple_scores2), style_dataframe(df_average_scores2)), \n",
    "                   names=['MVSA-Single', 'MVSA-Multiple', 'Average'])"
   ]
  },
  {
   "cell_type": "markdown",
   "id": "5bed4e5c",
   "metadata": {
    "papermill": {
     "duration": 0.010793,
     "end_time": "2022-06-30T17:53:41.512076",
     "exception": false,
     "start_time": "2022-06-30T17:53:41.501283",
     "status": "completed"
    },
    "tags": []
   },
   "source": [
    "# With merge MVSA data"
   ]
  },
  {
   "cell_type": "code",
   "execution_count": 26,
   "id": "41ecd905",
   "metadata": {
    "execution": {
     "iopub.execute_input": "2022-06-30T17:53:41.534111Z",
     "iopub.status.busy": "2022-06-30T17:53:41.533838Z",
     "iopub.status.idle": "2022-06-30T17:54:32.841059Z",
     "shell.execute_reply": "2022-06-30T17:54:32.839841Z"
    },
    "papermill": {
     "duration": 51.321228,
     "end_time": "2022-06-30T17:54:32.843767",
     "exception": false,
     "start_time": "2022-06-30T17:53:41.522539",
     "status": "completed"
    },
    "tags": []
   },
   "outputs": [
    {
     "name": "stdout",
     "output_type": "stream",
     "text": [
      "With original image labels\n",
      "Both MVSA: bert-base\n",
      "Early stopped at epoch: 13\n",
      "\n",
      "Both MVSA: bert-pos-bow\n",
      "Early stopped at epoch: 11\n",
      "\n",
      "Both MVSA: bert-pos-ner-bow\n",
      "Early stopped at epoch: 11\n",
      "\n",
      "Both MVSA: bert-pos-tfidf\n",
      "Early stopped at epoch: 11\n",
      "\n",
      "Both MVSA: bert-pos-ner-tfidf\n",
      "Early stopped at epoch: 11\n",
      "\n"
     ]
    }
   ],
   "source": [
    "print('With original image labels')\n",
    "mvsa_hitories3 = []\n",
    "mvsa_score3 = []\n",
    "for i in range(len(feature_names)):\n",
    "    print('Both MVSA:', feature_names[i])\n",
    "    history, scores = run_and_evaluate('single-' + feature_names[i], mvsa_features[i], mvsa_image_labels, verbose=0)\n",
    "    mvsa_hitories3.append(history)\n",
    "    mvsa_score3.append(scores)\n",
    "    print()\n",
    "    \n",
    "df_scores3 = pd.DataFrame(mvsa_score3, columns=['Loss', 'Accuracy', 'F1-score'], index=feature_names)"
   ]
  },
  {
   "cell_type": "code",
   "execution_count": 27,
   "id": "962ac5cf",
   "metadata": {
    "execution": {
     "iopub.execute_input": "2022-06-30T17:54:32.869381Z",
     "iopub.status.busy": "2022-06-30T17:54:32.868499Z",
     "iopub.status.idle": "2022-06-30T17:55:27.377652Z",
     "shell.execute_reply": "2022-06-30T17:55:27.376649Z"
    },
    "papermill": {
     "duration": 54.523992,
     "end_time": "2022-06-30T17:55:27.379842",
     "exception": false,
     "start_time": "2022-06-30T17:54:32.855850",
     "status": "completed"
    },
    "tags": []
   },
   "outputs": [
    {
     "name": "stdout",
     "output_type": "stream",
     "text": [
      "With multimodal labels\n",
      "Both MVSA: bert-base\n",
      "Early stopped at epoch: 13\n",
      "\n",
      "Both MVSA: bert-pos-bow\n",
      "Early stopped at epoch: 11\n",
      "\n",
      "Both MVSA: bert-pos-ner-bow\n",
      "Early stopped at epoch: 11\n",
      "\n",
      "Both MVSA: bert-pos-tfidf\n",
      "Early stopped at epoch: 13\n",
      "\n",
      "Both MVSA: bert-pos-ner-tfidf\n",
      "Early stopped at epoch: 11\n",
      "\n"
     ]
    }
   ],
   "source": [
    "print('With multimodal labels')\n",
    "mvsa_hitories4 = []\n",
    "mvsa_score4 = []\n",
    "for i in range(len(feature_names)):\n",
    "    print('Both MVSA:', feature_names[i])\n",
    "    history, scores = run_and_evaluate('single-' + feature_names[i], mvsa_features[i], mvsa_multimodal_labels, verbose=0)\n",
    "    mvsa_hitories4.append(history)\n",
    "    mvsa_score4.append(scores)\n",
    "    print()\n",
    "    \n",
    "df_scores4 = pd.DataFrame(mvsa_score4, columns=['Loss', 'Accuracy', 'F1-score'], index=feature_names)"
   ]
  },
  {
   "cell_type": "code",
   "execution_count": 28,
   "id": "329eb4b6",
   "metadata": {
    "execution": {
     "iopub.execute_input": "2022-06-30T17:55:27.405796Z",
     "iopub.status.busy": "2022-06-30T17:55:27.405449Z",
     "iopub.status.idle": "2022-06-30T17:55:27.436226Z",
     "shell.execute_reply": "2022-06-30T17:55:27.434823Z"
    },
    "papermill": {
     "duration": 0.046539,
     "end_time": "2022-06-30T17:55:27.438661",
     "exception": false,
     "start_time": "2022-06-30T17:55:27.392122",
     "status": "completed"
    },
    "tags": []
   },
   "outputs": [
    {
     "name": "stdout",
     "output_type": "stream",
     "text": [
      "With both MVSA merged together\n",
      "\n"
     ]
    },
    {
     "data": {
      "text/html": [
       "<table style=\"display:inline\"><tr><td style=\"text-align:center\">Original image labels</td><td style=\"text-align:center\">Multimodal labels</td></tr><tr><td style=\"vertical-align:top\"> <style type=\"text/css\">\n",
       "#T_90813_row0_col0, #T_90813_row4_col1, #T_90813_row4_col2 {\n",
       "  color: tomato;\n",
       "}\n",
       "#T_90813_row3_col0, #T_90813_row3_col1, #T_90813_row3_col2 {\n",
       "  color: lawngreen;\n",
       "}\n",
       "</style>\n",
       "<table style=\"display:inline\" id=\"T_90813_\">\n",
       "  <thead>\n",
       "    <tr>\n",
       "      <th class=\"blank level0\" >&nbsp;</th>\n",
       "      <th class=\"col_heading level0 col0\" >Loss</th>\n",
       "      <th class=\"col_heading level0 col1\" >Accuracy</th>\n",
       "      <th class=\"col_heading level0 col2\" >F1-score</th>\n",
       "    </tr>\n",
       "  </thead>\n",
       "  <tbody>\n",
       "    <tr>\n",
       "      <th id=\"T_90813_level0_row0\" class=\"row_heading level0 row0\" >bert-base</th>\n",
       "      <td id=\"T_90813_row0_col0\" class=\"data row0 col0\" >0.832428</td>\n",
       "      <td id=\"T_90813_row0_col1\" class=\"data row0 col1\" >0.590338</td>\n",
       "      <td id=\"T_90813_row0_col2\" class=\"data row0 col2\" >0.590338</td>\n",
       "    </tr>\n",
       "    <tr>\n",
       "      <th id=\"T_90813_level0_row1\" class=\"row_heading level0 row1\" >bert-pos-bow</th>\n",
       "      <td id=\"T_90813_row1_col0\" class=\"data row1 col0\" >0.828371</td>\n",
       "      <td id=\"T_90813_row1_col1\" class=\"data row1 col1\" >0.593237</td>\n",
       "      <td id=\"T_90813_row1_col2\" class=\"data row1 col2\" >0.593237</td>\n",
       "    </tr>\n",
       "    <tr>\n",
       "      <th id=\"T_90813_level0_row2\" class=\"row_heading level0 row2\" >bert-pos-ner-bow</th>\n",
       "      <td id=\"T_90813_row2_col0\" class=\"data row2 col0\" >0.828184</td>\n",
       "      <td id=\"T_90813_row2_col1\" class=\"data row2 col1\" >0.590821</td>\n",
       "      <td id=\"T_90813_row2_col2\" class=\"data row2 col2\" >0.590821</td>\n",
       "    </tr>\n",
       "    <tr>\n",
       "      <th id=\"T_90813_level0_row3\" class=\"row_heading level0 row3\" >bert-pos-tfidf</th>\n",
       "      <td id=\"T_90813_row3_col0\" class=\"data row3 col0\" >0.826166</td>\n",
       "      <td id=\"T_90813_row3_col1\" class=\"data row3 col1\" >0.597585</td>\n",
       "      <td id=\"T_90813_row3_col2\" class=\"data row3 col2\" >0.597585</td>\n",
       "    </tr>\n",
       "    <tr>\n",
       "      <th id=\"T_90813_level0_row4\" class=\"row_heading level0 row4\" >bert-pos-ner-tfidf</th>\n",
       "      <td id=\"T_90813_row4_col0\" class=\"data row4 col0\" >0.827540</td>\n",
       "      <td id=\"T_90813_row4_col1\" class=\"data row4 col1\" >0.588889</td>\n",
       "      <td id=\"T_90813_row4_col2\" class=\"data row4 col2\" >0.588889</td>\n",
       "    </tr>\n",
       "  </tbody>\n",
       "</table style=\"display:inline\">\n",
       "</td><td style=\"vertical-align:top\"> <style type=\"text/css\">\n",
       "#T_e660d_row0_col1, #T_e660d_row0_col2, #T_e660d_row2_col0 {\n",
       "  color: tomato;\n",
       "}\n",
       "#T_e660d_row1_col1, #T_e660d_row1_col2, #T_e660d_row3_col0 {\n",
       "  color: lawngreen;\n",
       "}\n",
       "</style>\n",
       "<table style=\"display:inline\" id=\"T_e660d_\">\n",
       "  <thead>\n",
       "    <tr>\n",
       "      <th class=\"blank level0\" >&nbsp;</th>\n",
       "      <th class=\"col_heading level0 col0\" >Loss</th>\n",
       "      <th class=\"col_heading level0 col1\" >Accuracy</th>\n",
       "      <th class=\"col_heading level0 col2\" >F1-score</th>\n",
       "    </tr>\n",
       "  </thead>\n",
       "  <tbody>\n",
       "    <tr>\n",
       "      <th id=\"T_e660d_level0_row0\" class=\"row_heading level0 row0\" >bert-base</th>\n",
       "      <td id=\"T_e660d_row0_col0\" class=\"data row0 col0\" >0.764947</td>\n",
       "      <td id=\"T_e660d_row0_col1\" class=\"data row0 col1\" >0.673913</td>\n",
       "      <td id=\"T_e660d_row0_col2\" class=\"data row0 col2\" >0.673913</td>\n",
       "    </tr>\n",
       "    <tr>\n",
       "      <th id=\"T_e660d_level0_row1\" class=\"row_heading level0 row1\" >bert-pos-bow</th>\n",
       "      <td id=\"T_e660d_row1_col0\" class=\"data row1 col0\" >0.769999</td>\n",
       "      <td id=\"T_e660d_row1_col1\" class=\"data row1 col1\" >0.683092</td>\n",
       "      <td id=\"T_e660d_row1_col2\" class=\"data row1 col2\" >0.683092</td>\n",
       "    </tr>\n",
       "    <tr>\n",
       "      <th id=\"T_e660d_level0_row2\" class=\"row_heading level0 row2\" >bert-pos-ner-bow</th>\n",
       "      <td id=\"T_e660d_row2_col0\" class=\"data row2 col0\" >0.778128</td>\n",
       "      <td id=\"T_e660d_row2_col1\" class=\"data row2 col1\" >0.681643</td>\n",
       "      <td id=\"T_e660d_row2_col2\" class=\"data row2 col2\" >0.681643</td>\n",
       "    </tr>\n",
       "    <tr>\n",
       "      <th id=\"T_e660d_level0_row3\" class=\"row_heading level0 row3\" >bert-pos-tfidf</th>\n",
       "      <td id=\"T_e660d_row3_col0\" class=\"data row3 col0\" >0.764610</td>\n",
       "      <td id=\"T_e660d_row3_col1\" class=\"data row3 col1\" >0.677778</td>\n",
       "      <td id=\"T_e660d_row3_col2\" class=\"data row3 col2\" >0.677778</td>\n",
       "    </tr>\n",
       "    <tr>\n",
       "      <th id=\"T_e660d_level0_row4\" class=\"row_heading level0 row4\" >bert-pos-ner-tfidf</th>\n",
       "      <td id=\"T_e660d_row4_col0\" class=\"data row4 col0\" >0.768630</td>\n",
       "      <td id=\"T_e660d_row4_col1\" class=\"data row4 col1\" >0.676328</td>\n",
       "      <td id=\"T_e660d_row4_col2\" class=\"data row4 col2\" >0.676328</td>\n",
       "    </tr>\n",
       "  </tbody>\n",
       "</table style=\"display:inline\">\n",
       "</td></tr></table style=\"display:inline\">"
      ]
     },
     "metadata": {},
     "output_type": "display_data"
    }
   ],
   "source": [
    "print('With both MVSA merged together\\n')\n",
    "display_dataframes((style_dataframe(df_scores3), style_dataframe(df_scores4)), \n",
    "                   names=['Original image labels', 'Multimodal labels'])"
   ]
  }
 ],
 "metadata": {
  "kernelspec": {
   "display_name": "Python 3",
   "language": "python",
   "name": "python3"
  },
  "language_info": {
   "codemirror_mode": {
    "name": "ipython",
    "version": 3
   },
   "file_extension": ".py",
   "mimetype": "text/x-python",
   "name": "python",
   "nbconvert_exporter": "python",
   "pygments_lexer": "ipython3",
   "version": "3.7.12"
  },
  "papermill": {
   "default_parameters": {},
   "duration": 295.385084,
   "end_time": "2022-06-30T17:55:30.918358",
   "environment_variables": {},
   "exception": null,
   "input_path": "__notebook__.ipynb",
   "output_path": "__notebook__.ipynb",
   "parameters": {},
   "start_time": "2022-06-30T17:50:35.533274",
   "version": "2.3.4"
  }
 },
 "nbformat": 4,
 "nbformat_minor": 5
}
