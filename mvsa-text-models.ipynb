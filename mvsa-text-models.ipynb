{
 "cells": [
  {
   "cell_type": "code",
   "execution_count": 1,
   "id": "9cea6923",
   "metadata": {
    "_cell_guid": "b1076dfc-b9ad-4769-8c92-a6c4dae69d19",
    "_uuid": "8f2839f25d086af736a60e9eeb907d3b93b6e0e5",
    "execution": {
     "iopub.execute_input": "2022-07-13T15:17:34.966069Z",
     "iopub.status.busy": "2022-07-13T15:17:34.965542Z",
     "iopub.status.idle": "2022-07-13T15:17:44.679756Z",
     "shell.execute_reply": "2022-07-13T15:17:44.678708Z"
    },
    "papermill": {
     "duration": 9.729677,
     "end_time": "2022-07-13T15:17:44.682398",
     "exception": false,
     "start_time": "2022-07-13T15:17:34.952721",
     "status": "completed"
    },
    "tags": []
   },
   "outputs": [],
   "source": [
    "SEED = 61\n",
    "\n",
    "\n",
    "import os\n",
    "import re\n",
    "import gc\n",
    "import h5py\n",
    "import torch\n",
    "import string\n",
    "import numpy as np\n",
    "import pandas as pd\n",
    "import tensorflow as tf\n",
    "import random as python_random\n",
    "import matplotlib.pyplot as plt\n",
    "import tensorflow_addons as tfa\n",
    "\n",
    "from tqdm import tqdm\n",
    "from nltk import tokenize\n",
    "\n",
    "from sklearn import preprocessing\n",
    "from sklearn.decomposition import PCA\n",
    "from imblearn.over_sampling import SMOTE\n",
    "from imblearn.over_sampling import BorderlineSMOTE\n",
    "from keras import backend as K\n",
    "from keras import initializers,regularizers,constraints\n",
    "from keras.preprocessing.text import Tokenizer, text_to_word_sequence\n",
    "from keras.preprocessing.sequence import pad_sequences\n",
    "from keras.utils.np_utils import to_categorical\n",
    "from keras.layers import Reshape, Input, Embedding, Flatten, Dense, Dropout, BatchNormalization, Activation #, merge\n",
    "from keras.layers import TimeDistributed, LSTM, GRU, Bidirectional, Convolution1D, MaxPooling1D, MaxPooling2D\n",
    "from keras.layers.core import RepeatVector, Reshape\n",
    "from keras.callbacks import ModelCheckpoint, EarlyStopping, ReduceLROnPlateau\n",
    "from keras.models import Sequential, Model, load_model\n",
    "from sklearn.model_selection import cross_val_score\n",
    "from keras.initializers import Constant\n",
    "\n",
    "def reset_seeds():\n",
    "    np.random.seed(SEED) \n",
    "    python_random.seed(SEED)\n",
    "    tf.random.set_seed(SEED)\n",
    "    os.environ[\"PYTHONHASHSEED\"] = str(SEED)\n",
    "\n",
    "# from tensorflow.python.keras.layers import Layer, InputSpec, Lambda\n",
    "# from tensorflow.keras import Model\n",
    "# from attention import Attention_input1, Attention_input2\n",
    "# from keras.optimizers import SGD, RMSprop, Adagrad"
   ]
  },
  {
   "cell_type": "code",
   "execution_count": 2,
   "id": "a9712fd3",
   "metadata": {
    "execution": {
     "iopub.execute_input": "2022-07-13T15:17:44.703936Z",
     "iopub.status.busy": "2022-07-13T15:17:44.702757Z",
     "iopub.status.idle": "2022-07-13T15:17:44.711675Z",
     "shell.execute_reply": "2022-07-13T15:17:44.710618Z"
    },
    "papermill": {
     "duration": 0.021387,
     "end_time": "2022-07-13T15:17:44.713632",
     "exception": false,
     "start_time": "2022-07-13T15:17:44.692245",
     "status": "completed"
    },
    "tags": []
   },
   "outputs": [],
   "source": [
    "def read_hdf5(path):\n",
    "    read_file = h5py.File(path, 'r')\n",
    "    \n",
    "    feature_names = list(read_file.keys())\n",
    "    loaded_data = []\n",
    "    \n",
    "    for name in feature_names:\n",
    "        dataset = read_file[name][:]\n",
    "        if dataset.dtype == np.dtype('object'):\n",
    "            dataset = np.array([x.decode('UTF-8') for x in dataset])            \n",
    "        loaded_data.append((name, dataset))\n",
    "\n",
    "    return loaded_data\n",
    "\n",
    "def loadz(path):\n",
    "    data = np.load(path)['arr_0']\n",
    "    return data"
   ]
  },
  {
   "cell_type": "code",
   "execution_count": 3,
   "id": "69db121e",
   "metadata": {
    "execution": {
     "iopub.execute_input": "2022-07-13T15:17:44.732910Z",
     "iopub.status.busy": "2022-07-13T15:17:44.732615Z",
     "iopub.status.idle": "2022-07-13T15:17:44.745214Z",
     "shell.execute_reply": "2022-07-13T15:17:44.744253Z"
    },
    "papermill": {
     "duration": 0.02456,
     "end_time": "2022-07-13T15:17:44.747375",
     "exception": false,
     "start_time": "2022-07-13T15:17:44.722815",
     "status": "completed"
    },
    "tags": []
   },
   "outputs": [],
   "source": [
    "def merge_mvsa(mvsa_single, mvsa_multiple):\n",
    "    mvsa = np.concatenate((mvsa_single, mvsa_multiple), axis=0)\n",
    "    return mvsa\n",
    "\n",
    "def load_mvsa_feature(feature_name, merge=False):\n",
    "    folder_path = os.path.join('../input/mvsa-features/', feature_name)\n",
    "    single_file = 'mvsa-single-{}.npz'.format(feature_name)\n",
    "    multiple_file = 'mvsa-multiple-{}.npz'.format(feature_name)\n",
    "    mvsa_single = loadz(os.path.join(folder_path, single_file))\n",
    "    mvsa_multiple = loadz(os.path.join(folder_path, multiple_file))\n",
    "    \n",
    "    if merge == True:\n",
    "        return merge_mvsa(mvsa_single, mvsa_multiple)\n",
    "    \n",
    "    return mvsa_single, mvsa_multiple\n",
    "\n",
    "def load_mvsa_texts(merge=False):\n",
    "    folder_path = '../input/mvsa-data'\n",
    "    file_paths = os.listdir(folder_path)\n",
    "    for path in file_paths:\n",
    "        file_name = os.path.split(path)[1]\n",
    "        if file_name.split('.')[1] == 'hdf5':\n",
    "            if file_name.split('-')[1] == 'single':\n",
    "                mvsa_single_texts_path = os.path.join(folder_path, path)\n",
    "            else:\n",
    "                mvsa_multiple_texts_path = os.path.join(folder_path, path)\n",
    "    \n",
    "    mvsa_single = read_hdf5(mvsa_single_texts_path)\n",
    "    mvsa_multiple = read_hdf5(mvsa_multiple_texts_path)\n",
    "    \n",
    "    for x in mvsa_single:\n",
    "        if x[0] == 'texts':\n",
    "            mvsa_single_texts = x[1]\n",
    "            \n",
    "    for x in mvsa_multiple:\n",
    "        if x[0] == 'texts':\n",
    "            mvsa_multiple_texts = x[1]\n",
    "    \n",
    "    if merge == True:\n",
    "        return merge_mvsa(mvsa_single_texts, mvsa_multiple_texts)\n",
    "    \n",
    "    return mvsa_single_texts, mvsa_multiple_texts\n",
    "\n",
    "def load_labels(path):\n",
    "    data = read_hdf5(path)\n",
    "\n",
    "    for x in data:\n",
    "        if x[0] == 'multimodal-labels':\n",
    "            labels = x[1]\n",
    "        if x[0] == 'text-labels':\n",
    "            text_labels = x[1]\n",
    "        if x[0] == 'image-labels':\n",
    "            image_labels = x[1]\n",
    "        \n",
    "    return labels, text_labels, image_labels"
   ]
  },
  {
   "cell_type": "code",
   "execution_count": 4,
   "id": "b350e961",
   "metadata": {
    "execution": {
     "iopub.execute_input": "2022-07-13T15:17:44.768149Z",
     "iopub.status.busy": "2022-07-13T15:17:44.767317Z",
     "iopub.status.idle": "2022-07-13T15:17:44.776829Z",
     "shell.execute_reply": "2022-07-13T15:17:44.775971Z"
    },
    "papermill": {
     "duration": 0.022502,
     "end_time": "2022-07-13T15:17:44.779004",
     "exception": false,
     "start_time": "2022-07-13T15:17:44.756502",
     "status": "completed"
    },
    "tags": []
   },
   "outputs": [],
   "source": [
    "def clean_text(txt):\n",
    "#     nonEnglish_regex = re.compile('[^a-zA-Z0-9\\\\?\\\\!\\\\,\\\\.@#\\\\+\\\\-=\\\\*\\'\\\"><&\\\\$%\\\\(\\\\)\\\\[\\\\]:;]+')\n",
    "#     hashtag_pattern = re.compile('#[a-zA-Z0-9]+')\n",
    "#     txt_hashtag = re.sub(hashtag_pattern, '', txt)\n",
    "    at_pattern = re.compile('@[a-zA-Z0-9]+')\n",
    "    http_pattern = re.compile(\"((http|ftp|https)://)(([a-zA-Z0-9\\._-]+\\.[a-zA-Z]{2,6})|([0-9]{1,3}\\.[0-9]{1,3}\\.[0-9]{1,3}\\.[0-9]{1,3}))(:[0-9]{1,4})*(/[a-zA-Z0-9\\&%_\\./-~-]*)?\")\n",
    "    punc_pattern = re.compile('[%s]' % re.escape(string.punctuation))\n",
    "    txt = re.sub('#', '', txt)\n",
    "    txt = re.sub(at_pattern, 'user', txt)\n",
    "    txt = re.sub(http_pattern, 'link', txt)\n",
    "    txt = re.sub(punc_pattern, '', txt) # only remove punc for word2vec not BERT\n",
    "\n",
    "    # as the data was crawled using Twitter API, it marked retweet data with RT <user> tag which has no meaning considering it in training\n",
    "    if txt.startswith('RT user'):\n",
    "        txt = ''.join(txt.split(':')[1:])    \n",
    "    txt = txt.strip()\n",
    "    \n",
    "    return txt\n",
    "\n",
    "def get_clean_texts(data):\n",
    "    cleaned_data = []\n",
    "    for line in data:\n",
    "        text = clean_text(line)\n",
    "        cleaned_data.append(text)\n",
    "    return cleaned_data"
   ]
  },
  {
   "cell_type": "code",
   "execution_count": 5,
   "id": "df0fa352",
   "metadata": {
    "execution": {
     "iopub.execute_input": "2022-07-13T15:17:44.799416Z",
     "iopub.status.busy": "2022-07-13T15:17:44.798745Z",
     "iopub.status.idle": "2022-07-13T15:17:44.810628Z",
     "shell.execute_reply": "2022-07-13T15:17:44.809761Z"
    },
    "papermill": {
     "duration": 0.024123,
     "end_time": "2022-07-13T15:17:44.812727",
     "exception": false,
     "start_time": "2022-07-13T15:17:44.788604",
     "status": "completed"
    },
    "tags": []
   },
   "outputs": [],
   "source": [
    "def plot_metrics(history):\n",
    "    fig = plt.figure(figsize=(20, 5))\n",
    "\n",
    "    fig.add_subplot(1, 4, 1)\n",
    "    plt.plot(history.history['loss'])\n",
    "    plt.plot(history.history['val_loss'])\n",
    "    plt.title('LOSS')\n",
    "    plt.ylabel('loss')\n",
    "    plt.xlabel('epoch')\n",
    "    plt.legend(['train', 'val'], loc='best')\n",
    "\n",
    "    fig.add_subplot(1, 4, 2)\n",
    "    plt.plot(history.history['accuracy'])\n",
    "    plt.plot(history.history['val_accuracy'])\n",
    "    plt.title('ACCURACY')\n",
    "    plt.ylabel('accuracy')\n",
    "    plt.xlabel('epoch')\n",
    "    plt.legend(['train', 'val'], loc='best')\n",
    "\n",
    "    fig.add_subplot(1, 4, 3)\n",
    "    plt.plot(history.history['f1_macro'])\n",
    "    plt.plot(history.history['val_f1_macro'])\n",
    "    plt.title('Macro F1-SCORE')\n",
    "    plt.ylabel('f1-macro')\n",
    "    plt.xlabel('epoch')\n",
    "    plt.legend(['train', 'val'], loc='best')\n",
    "    \n",
    "    fig.add_subplot(1, 4, 4)\n",
    "    plt.plot(history.history['f1_weighted'])\n",
    "    plt.plot(history.history['val_f1_weighted'])\n",
    "    plt.title('Weighted F1-SCORE')\n",
    "    plt.ylabel('f1-weighted')\n",
    "    plt.xlabel('epoch')\n",
    "    plt.legend(['train', 'val'], loc='best')\n",
    "\n",
    "    plt.show()"
   ]
  },
  {
   "cell_type": "code",
   "execution_count": 6,
   "id": "16556350",
   "metadata": {
    "execution": {
     "iopub.execute_input": "2022-07-13T15:17:44.833198Z",
     "iopub.status.busy": "2022-07-13T15:17:44.831872Z",
     "iopub.status.idle": "2022-07-13T15:17:44.838520Z",
     "shell.execute_reply": "2022-07-13T15:17:44.837628Z"
    },
    "papermill": {
     "duration": 0.018587,
     "end_time": "2022-07-13T15:17:44.840442",
     "exception": false,
     "start_time": "2022-07-13T15:17:44.821855",
     "status": "completed"
    },
    "tags": []
   },
   "outputs": [],
   "source": [
    "# e.g. validation_split=0.1 -----> 8:1:1 ratio of train, val, test\n",
    "def split_data(data, validation_split):\n",
    "    num_val = int(validation_split * data.shape[0])\n",
    "    data_train = data[:-(num_val*2)]\n",
    "    data_val = data[-(num_val*2):-(num_val)]\n",
    "    data_test = data[-num_val:]\n",
    "    return data_train, data_val, data_test"
   ]
  },
  {
   "cell_type": "code",
   "execution_count": 7,
   "id": "6335919a",
   "metadata": {
    "execution": {
     "iopub.execute_input": "2022-07-13T15:17:44.861264Z",
     "iopub.status.busy": "2022-07-13T15:17:44.860275Z",
     "iopub.status.idle": "2022-07-13T15:17:44.869774Z",
     "shell.execute_reply": "2022-07-13T15:17:44.868577Z"
    },
    "papermill": {
     "duration": 0.022074,
     "end_time": "2022-07-13T15:17:44.871859",
     "exception": false,
     "start_time": "2022-07-13T15:17:44.849785",
     "status": "completed"
    },
    "tags": []
   },
   "outputs": [],
   "source": [
    "def create_model_text(input_shape):\n",
    "    f1_macro = tfa.metrics.F1Score(num_classes=NUM_CLASSES, average='macro', name='f1_macro')\n",
    "    f1_weighted = tfa.metrics.F1Score(num_classes=NUM_CLASSES, average='weighted', name='f1_weighted')\n",
    "    \n",
    "    text_input = Input(shape=input_shape)\n",
    "    reshape_text = Reshape((1, -1)) (text_input)\n",
    "    lstm = LSTM(NUM_LSTM) (reshape_text)\n",
    "    outputs = Dense(NUM_CLASSES, activation='softmax') (lstm)\n",
    "    \n",
    "    model = Model(text_input, outputs)\n",
    "    model.compile(optimizer='adam', loss='categorical_crossentropy', metrics=['accuracy', f1_macro, f1_weighted])\n",
    "    \n",
    "    return model"
   ]
  },
  {
   "cell_type": "code",
   "execution_count": 8,
   "id": "2522be9e",
   "metadata": {
    "execution": {
     "iopub.execute_input": "2022-07-13T15:17:44.893529Z",
     "iopub.status.busy": "2022-07-13T15:17:44.892619Z",
     "iopub.status.idle": "2022-07-13T15:17:44.900433Z",
     "shell.execute_reply": "2022-07-13T15:17:44.899332Z"
    },
    "papermill": {
     "duration": 0.020892,
     "end_time": "2022-07-13T15:17:44.902734",
     "exception": false,
     "start_time": "2022-07-13T15:17:44.881842",
     "status": "completed"
    },
    "tags": []
   },
   "outputs": [],
   "source": [
    "def evaluate_model(model, X_test, y_test, checkpoint=None, verbose=1):\n",
    "    if checkpoint is not None:\n",
    "        model = load_model('./model_checkpoint/{}.h5'.format(checkpoint))\n",
    "    \n",
    "    loss, acc, f1_macro, f1_weighted = model.evaluate(X_test, y_test, verbose=verbose)\n",
    "    \n",
    "    if verbose == 1:\n",
    "        print('Loss:', loss)\n",
    "        print('Accuracy:', acc)\n",
    "        print('Macro F1-score:', f1_macro)\n",
    "        print('Weighted F1-score:', f1_weighted)\n",
    "        \n",
    "    return loss, acc, f1_macro, f1_weighted"
   ]
  },
  {
   "cell_type": "code",
   "execution_count": 9,
   "id": "c8671cc6",
   "metadata": {
    "execution": {
     "iopub.execute_input": "2022-07-13T15:17:44.923426Z",
     "iopub.status.busy": "2022-07-13T15:17:44.922460Z",
     "iopub.status.idle": "2022-07-13T15:17:44.932817Z",
     "shell.execute_reply": "2022-07-13T15:17:44.931988Z"
    },
    "papermill": {
     "duration": 0.022792,
     "end_time": "2022-07-13T15:17:44.934904",
     "exception": false,
     "start_time": "2022-07-13T15:17:44.912112",
     "status": "completed"
    },
    "tags": []
   },
   "outputs": [],
   "source": [
    "def run_and_evaluate(name, X, y, verbose=0):\n",
    "    y = le.fit_transform(y)\n",
    "    y = to_categorical(np.asarray(y))\n",
    "\n",
    "    random_idx = np.random.permutation(len(y))\n",
    "    X, y = X[random_idx], y[random_idx]\n",
    "\n",
    "    X_train, X_val, X_test = split_data(X, VALIDATION_SPLIT)\n",
    "    y_train, y_val, y_test = split_data(y, VALIDATION_SPLIT)\n",
    "    \n",
    "    oversample = BorderlineSMOTE(sampling_strategy='minority', random_state=SEED, kind='borderline-2')\n",
    "#     oversample = SMOTE(sampling_strategy='minority', random_state=SEED)\n",
    "    X_train, y_train = oversample.fit_resample(X_train, y_train)\n",
    "    \n",
    "    model = create_model_text(X_train.shape[1:])\n",
    "    early_stopping = EarlyStopping(monitor='val_loss', min_delta=1e-4, patience=EARLY_STOPPING)\n",
    "    checkpoint = ModelCheckpoint('./model_checkpoint/{}.h5'.format(name), save_best_only=True, verbose=verbose)\n",
    "    \n",
    "    history = model.fit(X_train, y_train, validation_data=(X_val, y_val), \n",
    "                        epochs=EPOCHS, batch_size=BATCH_SIZE, verbose=verbose,\n",
    "                        callbacks=[checkpoint, early_stopping])\n",
    "    if verbose == 1:\n",
    "        best_epoch = np.argmin(history.history['val_loss'])\n",
    "        print('Checkpoint loaded at epoch:', best_epoch)\n",
    "    \n",
    "    return history, evaluate_model(model, X_test, y_test, checkpoint=name, verbose=verbose)"
   ]
  },
  {
   "cell_type": "code",
   "execution_count": 10,
   "id": "126d8c3e",
   "metadata": {
    "execution": {
     "iopub.execute_input": "2022-07-13T15:17:44.955415Z",
     "iopub.status.busy": "2022-07-13T15:17:44.954389Z",
     "iopub.status.idle": "2022-07-13T15:17:44.965024Z",
     "shell.execute_reply": "2022-07-13T15:17:44.964062Z"
    },
    "papermill": {
     "duration": 0.022864,
     "end_time": "2022-07-13T15:17:44.967077",
     "exception": false,
     "start_time": "2022-07-13T15:17:44.944213",
     "status": "completed"
    },
    "tags": []
   },
   "outputs": [],
   "source": [
    "def run_and_evaluate_w2v(name, X, y, verbose=0):\n",
    "    y = le.fit_transform(y)\n",
    "    y = to_categorical(np.asarray(y))\n",
    "    \n",
    "    random_idx = np.random.permutation(len(y))\n",
    "    X, y = X[random_idx], y[random_idx]\n",
    "\n",
    "    X_train, X_val, X_test = split_data(X, VALIDATION_SPLIT)\n",
    "    y_train, y_val, y_test = split_data(y, VALIDATION_SPLIT)\n",
    "    \n",
    "    oversample = BorderlineSMOTE(sampling_strategy='minority', random_state=SEED, kind='borderline-2')\n",
    "#     oversample = SMOTE(sampling_strategy='minority', random_state=SEED)\n",
    "    X_train, y_train = oversample.fit_resample(X_train, y_train)\n",
    "    \n",
    "    model = create_model_text_w2v(X_train.shape[1:])\n",
    "    early_stopping = EarlyStopping(monitor='val_loss', min_delta=1e-4, patience=EARLY_STOPPING)\n",
    "    checkpoint = ModelCheckpoint('./model_checkpoint/{}.h5'.format(name), save_best_only=True, verbose=verbose)\n",
    "    \n",
    "    history = model.fit(X_train, y_train, validation_data=(X_val, y_val), \n",
    "                        epochs=EPOCHS, batch_size=BATCH_SIZE, verbose=verbose,\n",
    "                        callbacks=[checkpoint, early_stopping])\n",
    "    \n",
    "    if verbose == 1:\n",
    "        best_epoch = np.argmin(history.history['val_loss'])\n",
    "        print('Checkpoint loaded at epoch:', best_epoch)\n",
    "    \n",
    "    return history, evaluate_model(model, X_test, y_test, checkpoint=name, verbose=verbose)"
   ]
  },
  {
   "cell_type": "code",
   "execution_count": 11,
   "id": "e09585d7",
   "metadata": {
    "execution": {
     "iopub.execute_input": "2022-07-13T15:17:44.989263Z",
     "iopub.status.busy": "2022-07-13T15:17:44.987597Z",
     "iopub.status.idle": "2022-07-13T15:17:44.994865Z",
     "shell.execute_reply": "2022-07-13T15:17:44.993848Z"
    },
    "papermill": {
     "duration": 0.020172,
     "end_time": "2022-07-13T15:17:44.997055",
     "exception": false,
     "start_time": "2022-07-13T15:17:44.976883",
     "status": "completed"
    },
    "tags": []
   },
   "outputs": [],
   "source": [
    "def style_dataframe(dataframe):\n",
    "    return dataframe.style.highlight_max(subset=['Accuracy', 'F1-macro', 'F1-weighted'], props='color:lawngreen', axis=0)\\\n",
    "                          .highlight_min(subset=['Accuracy', 'F1-macro', 'F1-weighted'], props='color:tomato', axis=0)\\\n",
    "                          .highlight_min(subset=['Loss'], props='color:lawngreen', axis=0)\\\n",
    "                          .highlight_max(subset=['Loss'], props='color:tomato', axis=0)"
   ]
  },
  {
   "cell_type": "code",
   "execution_count": 12,
   "id": "375fd043",
   "metadata": {
    "execution": {
     "iopub.execute_input": "2022-07-13T15:17:45.018451Z",
     "iopub.status.busy": "2022-07-13T15:17:45.017758Z",
     "iopub.status.idle": "2022-07-13T15:17:45.025268Z",
     "shell.execute_reply": "2022-07-13T15:17:45.024307Z"
    },
    "papermill": {
     "duration": 0.020164,
     "end_time": "2022-07-13T15:17:45.027309",
     "exception": false,
     "start_time": "2022-07-13T15:17:45.007145",
     "status": "completed"
    },
    "tags": []
   },
   "outputs": [],
   "source": [
    "from IPython.display import display_html\n",
    "\n",
    "def display_dataframes(dfs, names=[], index=False):\n",
    "    def to_df(x):\n",
    "        if isinstance(x, pd.Series):\n",
    "            return pd.DataFrame(x)\n",
    "        else:\n",
    "            return x\n",
    "    html_str = ''\n",
    "    if names:\n",
    "        html_str += ('<tr>' + \n",
    "                     ''.join(f'<td style=\"text-align:center\">{name}</td>' for name in names) + \n",
    "                     '</tr>')\n",
    "    html_str += ('<tr>' + \n",
    "                 ''.join(f'<td style=\"vertical-align:top\"> {to_df(df).to_html()}</td>' \n",
    "                         for df in dfs) + \n",
    "                 '</tr>')\n",
    "    html_str = f'<table>{html_str}</table>'\n",
    "    html_str = html_str.replace('table','table style=\"display:inline\"')\n",
    "    display_html(html_str, raw=True)"
   ]
  },
  {
   "cell_type": "markdown",
   "id": "8971d4b6",
   "metadata": {
    "papermill": {
     "duration": 0.009585,
     "end_time": "2022-07-13T15:17:45.046563",
     "exception": false,
     "start_time": "2022-07-13T15:17:45.036978",
     "status": "completed"
    },
    "tags": []
   },
   "source": [
    "# Load GloVe"
   ]
  },
  {
   "cell_type": "code",
   "execution_count": 13,
   "id": "3aa61e70",
   "metadata": {
    "execution": {
     "iopub.execute_input": "2022-07-13T15:17:45.067710Z",
     "iopub.status.busy": "2022-07-13T15:17:45.066718Z",
     "iopub.status.idle": "2022-07-13T15:17:45.071961Z",
     "shell.execute_reply": "2022-07-13T15:17:45.071035Z"
    },
    "papermill": {
     "duration": 0.017688,
     "end_time": "2022-07-13T15:17:45.074042",
     "exception": false,
     "start_time": "2022-07-13T15:17:45.056354",
     "status": "completed"
    },
    "tags": []
   },
   "outputs": [],
   "source": [
    "MAX_LENGTH = 280 # as in twitter'S word limit\n",
    "path_to_glove_file = '../input/glovetwitter27b100d/glove.twitter.27B.100d.txt'"
   ]
  },
  {
   "cell_type": "code",
   "execution_count": 14,
   "id": "87ab2195",
   "metadata": {
    "execution": {
     "iopub.execute_input": "2022-07-13T15:17:45.094865Z",
     "iopub.status.busy": "2022-07-13T15:17:45.094539Z",
     "iopub.status.idle": "2022-07-13T15:17:45.836773Z",
     "shell.execute_reply": "2022-07-13T15:17:45.835343Z"
    },
    "papermill": {
     "duration": 0.755722,
     "end_time": "2022-07-13T15:17:45.839480",
     "exception": false,
     "start_time": "2022-07-13T15:17:45.083758",
     "status": "completed"
    },
    "tags": []
   },
   "outputs": [],
   "source": [
    "mvsa_single_texts, mvsa_multiple_texts = load_mvsa_texts()\n",
    "\n",
    "mvsa_single_texts = get_clean_texts(mvsa_single_texts)\n",
    "mvsa_multiple_texts = get_clean_texts(mvsa_multiple_texts)"
   ]
  },
  {
   "cell_type": "code",
   "execution_count": 15,
   "id": "f17fdb77",
   "metadata": {
    "execution": {
     "iopub.execute_input": "2022-07-13T15:17:45.862587Z",
     "iopub.status.busy": "2022-07-13T15:17:45.861033Z",
     "iopub.status.idle": "2022-07-13T15:17:52.039337Z",
     "shell.execute_reply": "2022-07-13T15:17:52.038359Z"
    },
    "papermill": {
     "duration": 6.192303,
     "end_time": "2022-07-13T15:17:52.042297",
     "exception": false,
     "start_time": "2022-07-13T15:17:45.849994",
     "status": "completed"
    },
    "tags": []
   },
   "outputs": [
    {
     "name": "stderr",
     "output_type": "stream",
     "text": [
      "2022-07-13 15:17:45.968267: I tensorflow/stream_executor/cuda/cuda_gpu_executor.cc:937] successful NUMA node read from SysFS had negative value (-1), but there must be at least one NUMA node, so returning NUMA node zero\n",
      "2022-07-13 15:17:45.969498: I tensorflow/stream_executor/cuda/cuda_gpu_executor.cc:937] successful NUMA node read from SysFS had negative value (-1), but there must be at least one NUMA node, so returning NUMA node zero\n",
      "2022-07-13 15:17:45.970241: I tensorflow/stream_executor/cuda/cuda_gpu_executor.cc:937] successful NUMA node read from SysFS had negative value (-1), but there must be at least one NUMA node, so returning NUMA node zero\n",
      "2022-07-13 15:17:45.971253: I tensorflow/core/platform/cpu_feature_guard.cc:142] This TensorFlow binary is optimized with oneAPI Deep Neural Network Library (oneDNN) to use the following CPU instructions in performance-critical operations:  AVX2 AVX512F FMA\n",
      "To enable them in other operations, rebuild TensorFlow with the appropriate compiler flags.\n",
      "2022-07-13 15:17:45.971586: I tensorflow/stream_executor/cuda/cuda_gpu_executor.cc:937] successful NUMA node read from SysFS had negative value (-1), but there must be at least one NUMA node, so returning NUMA node zero\n",
      "2022-07-13 15:17:45.972369: I tensorflow/stream_executor/cuda/cuda_gpu_executor.cc:937] successful NUMA node read from SysFS had negative value (-1), but there must be at least one NUMA node, so returning NUMA node zero\n",
      "2022-07-13 15:17:45.973067: I tensorflow/stream_executor/cuda/cuda_gpu_executor.cc:937] successful NUMA node read from SysFS had negative value (-1), but there must be at least one NUMA node, so returning NUMA node zero\n",
      "2022-07-13 15:17:51.074246: I tensorflow/stream_executor/cuda/cuda_gpu_executor.cc:937] successful NUMA node read from SysFS had negative value (-1), but there must be at least one NUMA node, so returning NUMA node zero\n",
      "2022-07-13 15:17:51.075233: I tensorflow/stream_executor/cuda/cuda_gpu_executor.cc:937] successful NUMA node read from SysFS had negative value (-1), but there must be at least one NUMA node, so returning NUMA node zero\n",
      "2022-07-13 15:17:51.076035: I tensorflow/stream_executor/cuda/cuda_gpu_executor.cc:937] successful NUMA node read from SysFS had negative value (-1), but there must be at least one NUMA node, so returning NUMA node zero\n",
      "2022-07-13 15:17:51.076683: I tensorflow/core/common_runtime/gpu/gpu_device.cc:1510] Created device /job:localhost/replica:0/task:0/device:GPU:0 with 15047 MB memory:  -> device: 0, name: Tesla P100-PCIE-16GB, pci bus id: 0000:00:04.0, compute capability: 6.0\n",
      "2022-07-13 15:17:51.633060: I tensorflow/compiler/mlir/mlir_graph_optimization_pass.cc:185] None of the MLIR Optimization Passes are enabled (registered 2)\n"
     ]
    }
   ],
   "source": [
    "from tensorflow.keras.layers import TextVectorization\n",
    "\n",
    "vectorizer = TextVectorization(max_tokens=20000, output_sequence_length=MAX_LENGTH)\n",
    "\n",
    "text_ds_single = tf.data.Dataset.from_tensor_slices(mvsa_single_texts).batch(128)\n",
    "text_ds_multiple = tf.data.Dataset.from_tensor_slices(mvsa_multiple_texts).batch(128)\n",
    "\n",
    "vectorizer.adapt(text_ds_single)\n",
    "vectorizer.adapt(text_ds_multiple)"
   ]
  },
  {
   "cell_type": "code",
   "execution_count": 16,
   "id": "93ed3448",
   "metadata": {
    "execution": {
     "iopub.execute_input": "2022-07-13T15:17:52.063784Z",
     "iopub.status.busy": "2022-07-13T15:17:52.063430Z",
     "iopub.status.idle": "2022-07-13T15:17:52.125821Z",
     "shell.execute_reply": "2022-07-13T15:17:52.124745Z"
    },
    "papermill": {
     "duration": 0.075894,
     "end_time": "2022-07-13T15:17:52.128381",
     "exception": false,
     "start_time": "2022-07-13T15:17:52.052487",
     "status": "completed"
    },
    "tags": []
   },
   "outputs": [],
   "source": [
    "voc = vectorizer.get_vocabulary()\n",
    "word_index = dict(zip(voc, range(len(voc))))"
   ]
  },
  {
   "cell_type": "code",
   "execution_count": 17,
   "id": "76d0851f",
   "metadata": {
    "execution": {
     "iopub.execute_input": "2022-07-13T15:17:52.149366Z",
     "iopub.status.busy": "2022-07-13T15:17:52.149005Z",
     "iopub.status.idle": "2022-07-13T15:18:34.014401Z",
     "shell.execute_reply": "2022-07-13T15:18:34.013202Z"
    },
    "papermill": {
     "duration": 41.887856,
     "end_time": "2022-07-13T15:18:34.025833",
     "exception": false,
     "start_time": "2022-07-13T15:17:52.137977",
     "status": "completed"
    },
    "tags": []
   },
   "outputs": [
    {
     "name": "stdout",
     "output_type": "stream",
     "text": [
      "Found 1193515 word vectors.\n"
     ]
    }
   ],
   "source": [
    "embeddings_index = {}\n",
    "with open(path_to_glove_file) as f:\n",
    "    for line in f:\n",
    "        word, coefs = line.split(maxsplit=1)\n",
    "        coefs = np.fromstring(coefs, \"f\", sep=\" \")\n",
    "        embeddings_index[word] = coefs\n",
    "\n",
    "print(\"Found %s word vectors.\" % len(embeddings_index))"
   ]
  },
  {
   "cell_type": "code",
   "execution_count": 18,
   "id": "fbf1dda6",
   "metadata": {
    "execution": {
     "iopub.execute_input": "2022-07-13T15:18:34.047493Z",
     "iopub.status.busy": "2022-07-13T15:18:34.046579Z",
     "iopub.status.idle": "2022-07-13T15:18:34.103351Z",
     "shell.execute_reply": "2022-07-13T15:18:34.101826Z"
    },
    "papermill": {
     "duration": 0.071197,
     "end_time": "2022-07-13T15:18:34.106640",
     "exception": false,
     "start_time": "2022-07-13T15:18:34.035443",
     "status": "completed"
    },
    "tags": []
   },
   "outputs": [
    {
     "name": "stdout",
     "output_type": "stream",
     "text": [
      "Converted 12712 words (7288 misses)\n"
     ]
    }
   ],
   "source": [
    "num_tokens = len(voc) + 2\n",
    "embedding_dim = 100\n",
    "hits = 0\n",
    "misses = 0\n",
    "\n",
    "# Prepare embedding matrix\n",
    "embedding_matrix = np.zeros((num_tokens, embedding_dim))\n",
    "for word, i in word_index.items():\n",
    "    embedding_vector = embeddings_index.get(word)\n",
    "    if embedding_vector is not None:\n",
    "        # Words not found in embedding index will be all-zeros.\n",
    "        # This includes the representation for \"padding\" and \"OOV\"\n",
    "        embedding_matrix[i] = embedding_vector\n",
    "        hits += 1\n",
    "    else:\n",
    "        misses += 1\n",
    "print(\"Converted %d words (%d misses)\" % (hits, misses))\n",
    "\n",
    "embedding_layer_glove = Embedding(\n",
    "    num_tokens,\n",
    "    embedding_dim,\n",
    "    embeddings_initializer= Constant(embedding_matrix),\n",
    "    trainable=False,\n",
    ")\n",
    "\n",
    "def create_model_text_w2v(input_shape):\n",
    "    f1_macro = tfa.metrics.F1Score(num_classes=NUM_CLASSES, average='macro', name='f1_macro')\n",
    "    f1_weighted = tfa.metrics.F1Score(num_classes=NUM_CLASSES, average='weighted', name='f1_weighted')\n",
    "    \n",
    "    text_input = Input(shape=(None,), dtype=\"int64\")\n",
    "    embedded_sequences = embedding_layer_glove(text_input)\n",
    "    lstm = LSTM(NUM_LSTM) (embedded_sequences)\n",
    "    outputs = Dense(NUM_CLASSES, activation='softmax') (lstm)\n",
    "    \n",
    "    model = Model(text_input, outputs)\n",
    "    model.compile(optimizer='adam', loss='categorical_crossentropy', metrics=['accuracy', f1_macro, f1_weighted])\n",
    "    \n",
    "    return model"
   ]
  },
  {
   "cell_type": "markdown",
   "id": "f56ff368",
   "metadata": {
    "papermill": {
     "duration": 0.009113,
     "end_time": "2022-07-13T15:18:34.125746",
     "exception": false,
     "start_time": "2022-07-13T15:18:34.116633",
     "status": "completed"
    },
    "tags": []
   },
   "source": [
    "# Load features data"
   ]
  },
  {
   "cell_type": "code",
   "execution_count": 19,
   "id": "9e184396",
   "metadata": {
    "execution": {
     "iopub.execute_input": "2022-07-13T15:18:34.146910Z",
     "iopub.status.busy": "2022-07-13T15:18:34.146549Z",
     "iopub.status.idle": "2022-07-13T15:18:34.373943Z",
     "shell.execute_reply": "2022-07-13T15:18:34.372771Z"
    },
    "papermill": {
     "duration": 0.241605,
     "end_time": "2022-07-13T15:18:34.376625",
     "exception": false,
     "start_time": "2022-07-13T15:18:34.135020",
     "status": "completed"
    },
    "tags": []
   },
   "outputs": [],
   "source": [
    "mvsa_single_texts = vectorizer(np.array([[s] for s in mvsa_single_texts])).numpy()\n",
    "mvsa_multiple_texts = vectorizer(np.array([[s] for s in mvsa_multiple_texts])).numpy()"
   ]
  },
  {
   "cell_type": "code",
   "execution_count": 20,
   "id": "b7dd307c",
   "metadata": {
    "execution": {
     "iopub.execute_input": "2022-07-13T15:18:34.398926Z",
     "iopub.status.busy": "2022-07-13T15:18:34.397118Z",
     "iopub.status.idle": "2022-07-13T15:18:34.419982Z",
     "shell.execute_reply": "2022-07-13T15:18:34.419096Z"
    },
    "papermill": {
     "duration": 0.035547,
     "end_time": "2022-07-13T15:18:34.422167",
     "exception": false,
     "start_time": "2022-07-13T15:18:34.386620",
     "status": "completed"
    },
    "tags": []
   },
   "outputs": [],
   "source": [
    "mvsa_texts = merge_mvsa(mvsa_single_texts, mvsa_multiple_texts)"
   ]
  },
  {
   "cell_type": "code",
   "execution_count": 21,
   "id": "8b9545da",
   "metadata": {
    "execution": {
     "iopub.execute_input": "2022-07-13T15:18:34.442110Z",
     "iopub.status.busy": "2022-07-13T15:18:34.441784Z",
     "iopub.status.idle": "2022-07-13T15:18:35.479059Z",
     "shell.execute_reply": "2022-07-13T15:18:35.478035Z"
    },
    "papermill": {
     "duration": 1.050249,
     "end_time": "2022-07-13T15:18:35.481728",
     "exception": false,
     "start_time": "2022-07-13T15:18:34.431479",
     "status": "completed"
    },
    "tags": []
   },
   "outputs": [],
   "source": [
    "mvsa_single_bert_base, mvsa_multiple_bert_base = load_mvsa_feature('bert-base')\n",
    "mvsa_single_pos_bow, mvsa_multiple_pos_bow = load_mvsa_feature('pos-bow')\n",
    "mvsa_single_pos_tfidf, mvsa_multiple_pos_tfidf = load_mvsa_feature('pos-tfidf')\n",
    "mvsa_single_ner_bow, mvsa_multiple_ner_bow = load_mvsa_feature('ner-bow')\n",
    "mvsa_single_ner_tfidf, mvsa_multiple_ner_tfidf = load_mvsa_feature('ner-tfidf')"
   ]
  },
  {
   "cell_type": "code",
   "execution_count": 22,
   "id": "d3b934de",
   "metadata": {
    "execution": {
     "iopub.execute_input": "2022-07-13T15:18:35.501959Z",
     "iopub.status.busy": "2022-07-13T15:18:35.501391Z",
     "iopub.status.idle": "2022-07-13T15:18:35.535240Z",
     "shell.execute_reply": "2022-07-13T15:18:35.534299Z"
    },
    "papermill": {
     "duration": 0.046325,
     "end_time": "2022-07-13T15:18:35.537467",
     "exception": false,
     "start_time": "2022-07-13T15:18:35.491142",
     "status": "completed"
    },
    "tags": []
   },
   "outputs": [],
   "source": [
    "mvsa_bert_base = merge_mvsa(mvsa_single_bert_base, mvsa_multiple_bert_base)\n",
    "mvsa_pos_bow = merge_mvsa(mvsa_single_pos_bow, mvsa_multiple_pos_bow)\n",
    "mvsa_pos_tfidf = merge_mvsa(mvsa_single_pos_tfidf, mvsa_multiple_pos_tfidf)\n",
    "mvsa_ner_bow = merge_mvsa(mvsa_single_ner_bow, mvsa_multiple_ner_bow)\n",
    "mvsa_ner_tfidf = merge_mvsa(mvsa_single_ner_tfidf, mvsa_multiple_ner_tfidf)"
   ]
  },
  {
   "cell_type": "code",
   "execution_count": 23,
   "id": "2551bd2e",
   "metadata": {
    "execution": {
     "iopub.execute_input": "2022-07-13T15:18:35.557763Z",
     "iopub.status.busy": "2022-07-13T15:18:35.557450Z",
     "iopub.status.idle": "2022-07-13T15:18:35.676347Z",
     "shell.execute_reply": "2022-07-13T15:18:35.675252Z"
    },
    "papermill": {
     "duration": 0.131705,
     "end_time": "2022-07-13T15:18:35.678816",
     "exception": false,
     "start_time": "2022-07-13T15:18:35.547111",
     "status": "completed"
    },
    "tags": []
   },
   "outputs": [],
   "source": [
    "mvsa_single_multimodal_labels, mvsa_single_text_labels, mvsa_single_image_labels = load_labels('../input/mvsa-features/labels/mvsa-single-labels.hdf5')\n",
    "mvsa_multiple_multimodal_labels, mvsa_multiple_text_labels, mvsa_multiple_image_labels = load_labels('../input/mvsa-features/labels/mvsa-multiple-labels.hdf5')\n",
    "\n",
    "mvsa_multimodal_labels = merge_mvsa(mvsa_single_multimodal_labels, mvsa_multiple_multimodal_labels)\n",
    "mvsa_text_labels = merge_mvsa(mvsa_single_text_labels, mvsa_multiple_text_labels)\n",
    "mvsa_image_labels = merge_mvsa(mvsa_single_image_labels, mvsa_multiple_image_labels)"
   ]
  },
  {
   "cell_type": "code",
   "execution_count": 24,
   "id": "0c2c5bec",
   "metadata": {
    "execution": {
     "iopub.execute_input": "2022-07-13T15:18:35.700428Z",
     "iopub.status.busy": "2022-07-13T15:18:35.698918Z",
     "iopub.status.idle": "2022-07-13T15:18:35.707959Z",
     "shell.execute_reply": "2022-07-13T15:18:35.707138Z"
    },
    "papermill": {
     "duration": 0.021132,
     "end_time": "2022-07-13T15:18:35.709925",
     "exception": false,
     "start_time": "2022-07-13T15:18:35.688793",
     "status": "completed"
    },
    "tags": []
   },
   "outputs": [],
   "source": [
    "le = preprocessing.LabelEncoder()\n",
    "le.fit(mvsa_multimodal_labels)\n",
    "NUM_CLASSES = len(le.classes_) # =3"
   ]
  },
  {
   "cell_type": "code",
   "execution_count": 25,
   "id": "eafb6150",
   "metadata": {
    "execution": {
     "iopub.execute_input": "2022-07-13T15:18:35.731234Z",
     "iopub.status.busy": "2022-07-13T15:18:35.730330Z",
     "iopub.status.idle": "2022-07-13T15:18:36.058224Z",
     "shell.execute_reply": "2022-07-13T15:18:36.057147Z"
    },
    "papermill": {
     "duration": 0.341574,
     "end_time": "2022-07-13T15:18:36.060945",
     "exception": false,
     "start_time": "2022-07-13T15:18:35.719371",
     "status": "completed"
    },
    "tags": []
   },
   "outputs": [],
   "source": [
    "feature_names = ['glove', 'bert-base', 'bert-pos-bow', 'bert-pos-ner-bow', 'bert-pos-tfidf', 'bert-pos-ner-tfidf']\n",
    "\n",
    "mvsa_single_features = [mvsa_single_texts,\n",
    "                        mvsa_single_bert_base, \n",
    "                        np.concatenate((mvsa_single_bert_base, mvsa_single_pos_bow), axis=1), \n",
    "                        np.concatenate((mvsa_single_bert_base, mvsa_single_pos_bow, mvsa_single_ner_bow), axis=1),\n",
    "                        np.concatenate((mvsa_single_bert_base, mvsa_single_pos_tfidf), axis=1), \n",
    "                        np.concatenate((mvsa_single_bert_base, mvsa_single_pos_tfidf, mvsa_single_ner_tfidf), axis=1)]\n",
    "\n",
    "mvsa_multiple_features = [mvsa_multiple_texts,\n",
    "                          mvsa_multiple_bert_base, \n",
    "                          np.concatenate((mvsa_multiple_bert_base, mvsa_multiple_pos_bow), axis=1), \n",
    "                          np.concatenate((mvsa_multiple_bert_base, mvsa_multiple_pos_bow, mvsa_multiple_ner_bow), axis=1),\n",
    "                          np.concatenate((mvsa_multiple_bert_base, mvsa_multiple_pos_tfidf), axis=1), \n",
    "                          np.concatenate((mvsa_multiple_bert_base, mvsa_multiple_pos_tfidf, mvsa_multiple_ner_tfidf), axis=1)]\n",
    "\n",
    "mvsa_features = [mvsa_texts,\n",
    "                 mvsa_bert_base,\n",
    "                 np.concatenate((mvsa_bert_base, mvsa_pos_bow), axis=1), \n",
    "                 np.concatenate((mvsa_bert_base, mvsa_pos_bow, mvsa_ner_bow), axis=1),\n",
    "                 np.concatenate((mvsa_bert_base, mvsa_pos_tfidf), axis=1), \n",
    "                 np.concatenate((mvsa_bert_base, mvsa_pos_tfidf, mvsa_ner_tfidf), axis=1)]"
   ]
  },
  {
   "cell_type": "markdown",
   "id": "181e3f74",
   "metadata": {
    "papermill": {
     "duration": 0.00926,
     "end_time": "2022-07-13T15:18:36.079884",
     "exception": false,
     "start_time": "2022-07-13T15:18:36.070624",
     "status": "completed"
    },
    "tags": []
   },
   "source": [
    "# Run models and Evalution display"
   ]
  },
  {
   "cell_type": "code",
   "execution_count": 26,
   "id": "61117932",
   "metadata": {
    "execution": {
     "iopub.execute_input": "2022-07-13T15:18:36.100201Z",
     "iopub.status.busy": "2022-07-13T15:18:36.099879Z",
     "iopub.status.idle": "2022-07-13T15:18:36.108387Z",
     "shell.execute_reply": "2022-07-13T15:18:36.107490Z"
    },
    "papermill": {
     "duration": 0.021011,
     "end_time": "2022-07-13T15:18:36.110404",
     "exception": false,
     "start_time": "2022-07-13T15:18:36.089393",
     "status": "completed"
    },
    "tags": []
   },
   "outputs": [],
   "source": [
    "reset_seeds()\n",
    "EPOCHS = 100\n",
    "BATCH_SIZE = 128\n",
    "VALIDATION_SPLIT = 0.1\n",
    "EARLY_STOPPING = 10\n",
    "NUM_LSTM = 128"
   ]
  },
  {
   "cell_type": "markdown",
   "id": "7d057506",
   "metadata": {
    "papermill": {
     "duration": 0.009127,
     "end_time": "2022-07-13T15:18:36.128952",
     "exception": false,
     "start_time": "2022-07-13T15:18:36.119825",
     "status": "completed"
    },
    "tags": []
   },
   "source": [
    "## With original text labels"
   ]
  },
  {
   "cell_type": "code",
   "execution_count": 27,
   "id": "b404745e",
   "metadata": {
    "execution": {
     "iopub.execute_input": "2022-07-13T15:18:36.149476Z",
     "iopub.status.busy": "2022-07-13T15:18:36.148745Z",
     "iopub.status.idle": "2022-07-13T15:22:07.162418Z",
     "shell.execute_reply": "2022-07-13T15:22:07.160981Z"
    },
    "papermill": {
     "duration": 211.027047,
     "end_time": "2022-07-13T15:22:07.165496",
     "exception": false,
     "start_time": "2022-07-13T15:18:36.138449",
     "status": "completed"
    },
    "tags": []
   },
   "outputs": [
    {
     "name": "stdout",
     "output_type": "stream",
     "text": [
      "MVSA-Single: With original text labels\n",
      "\n",
      "MVSA-Single: glove\n"
     ]
    },
    {
     "name": "stderr",
     "output_type": "stream",
     "text": [
      "2022-07-13 15:18:39.625013: I tensorflow/stream_executor/cuda/cuda_dnn.cc:369] Loaded cuDNN version 8005\n"
     ]
    },
    {
     "name": "stdout",
     "output_type": "stream",
     "text": [
      "\n",
      "MVSA-Single: bert-base\n",
      "\n",
      "MVSA-Single: bert-pos-bow\n",
      "\n",
      "MVSA-Single: bert-pos-ner-bow\n",
      "\n",
      "MVSA-Single: bert-pos-tfidf\n",
      "\n",
      "MVSA-Single: bert-pos-ner-tfidf\n",
      "\n",
      "MVSA-Multiple: With original text labels\n",
      "\n",
      "MVSA-Multiple: glove\n",
      "\n",
      "MVSA-Multiple: bert-base\n",
      "\n",
      "MVSA-Multiple: bert-pos-bow\n",
      "\n",
      "MVSA-Multiple: bert-pos-ner-bow\n",
      "\n",
      "MVSA-Multiple: bert-pos-tfidf\n",
      "\n",
      "MVSA-Multiple: bert-pos-ner-tfidf\n",
      "\n"
     ]
    }
   ],
   "source": [
    "print('MVSA-Single: With original text labels\\n')\n",
    "mvsa_single_histories = []\n",
    "mvsa_single_scores = []\n",
    "for i in range(len(feature_names)):\n",
    "    print('MVSA-Single:', feature_names[i])\n",
    "    if feature_names[i] == 'glove':\n",
    "        history, score = run_and_evaluate_w2v('single-OL-' + feature_names[i], mvsa_single_features[i], mvsa_single_text_labels, verbose=0)\n",
    "    else:\n",
    "        history, score = run_and_evaluate('single-OL-' + feature_names[i], mvsa_single_features[i], mvsa_single_text_labels, verbose=0)\n",
    "    mvsa_single_histories.append(history)\n",
    "    mvsa_single_scores.append(score)\n",
    "    print()\n",
    "df_single_scores = pd.DataFrame(mvsa_single_scores, columns=['Loss', 'Accuracy', 'F1-macro', 'F1-weighted'], index=feature_names)\n",
    "\n",
    "print('MVSA-Multiple: With original text labels\\n')\n",
    "mvsa_multiple_histories = []\n",
    "mvsa_multiple_scores = []\n",
    "for i in range(len(feature_names)):\n",
    "    print('MVSA-Multiple:', feature_names[i])\n",
    "    if feature_names[i] == 'glove':\n",
    "        history, score = run_and_evaluate_w2v('multiple-OL-' + feature_names[i], mvsa_multiple_features[i], mvsa_multiple_text_labels, verbose=0)\n",
    "    else:\n",
    "        history, score = run_and_evaluate('multiple-OL-' + feature_names[i], mvsa_multiple_features[i], mvsa_multiple_text_labels, verbose=0)\n",
    "    mvsa_multiple_histories.append(history)\n",
    "    mvsa_multiple_scores.append(score)\n",
    "    print()\n",
    "df_multiple_scores = pd.DataFrame(mvsa_multiple_scores, columns=['Loss', 'Accuracy', 'F1-macro', 'F1-weighted'], index=feature_names)\n",
    "\n",
    "mvsa_average_scores = np.mean([mvsa_single_scores, mvsa_multiple_scores], axis=0)\n",
    "df_average_scores = pd.DataFrame(mvsa_average_scores, columns=['Loss', 'Accuracy', 'F1-macro', 'F1-weighted'], index=feature_names)"
   ]
  },
  {
   "cell_type": "markdown",
   "id": "fb80983e",
   "metadata": {
    "papermill": {
     "duration": 0.010111,
     "end_time": "2022-07-13T15:22:07.187123",
     "exception": false,
     "start_time": "2022-07-13T15:22:07.177012",
     "status": "completed"
    },
    "tags": []
   },
   "source": [
    "## With multimodal labels"
   ]
  },
  {
   "cell_type": "code",
   "execution_count": 28,
   "id": "8c54781d",
   "metadata": {
    "execution": {
     "iopub.execute_input": "2022-07-13T15:22:07.209021Z",
     "iopub.status.busy": "2022-07-13T15:22:07.208435Z",
     "iopub.status.idle": "2022-07-13T15:24:48.561059Z",
     "shell.execute_reply": "2022-07-13T15:24:48.559817Z"
    },
    "papermill": {
     "duration": 161.366453,
     "end_time": "2022-07-13T15:24:48.563500",
     "exception": false,
     "start_time": "2022-07-13T15:22:07.197047",
     "status": "completed"
    },
    "tags": []
   },
   "outputs": [
    {
     "name": "stdout",
     "output_type": "stream",
     "text": [
      "MVSA-Single: With multimodal labels\n",
      "MVSA-Single: glove\n",
      "\n",
      "MVSA-Single: bert-base\n",
      "\n",
      "MVSA-Single: bert-pos-bow\n",
      "\n",
      "MVSA-Single: bert-pos-ner-bow\n",
      "\n",
      "MVSA-Single: bert-pos-tfidf\n",
      "\n",
      "MVSA-Single: bert-pos-ner-tfidf\n",
      "\n",
      "MVSA-Multiple: With multimodal labels\n",
      "MVSA-Multiple: glove\n",
      "\n",
      "MVSA-Multiple: bert-base\n",
      "\n",
      "MVSA-Multiple: bert-pos-bow\n",
      "\n",
      "MVSA-Multiple: bert-pos-ner-bow\n",
      "\n",
      "MVSA-Multiple: bert-pos-tfidf\n",
      "\n",
      "MVSA-Multiple: bert-pos-ner-tfidf\n",
      "\n"
     ]
    }
   ],
   "source": [
    "print('MVSA-Single: With multimodal labels')\n",
    "mvsa_single_histories2 = []\n",
    "mvsa_single_scores2 = []\n",
    "for i in range(len(feature_names)):\n",
    "    print('MVSA-Single:', feature_names[i])\n",
    "    history, score = run_and_evaluate('single-ML-' + feature_names[i], mvsa_single_features[i], mvsa_single_multimodal_labels, verbose=0)\n",
    "    mvsa_single_histories2.append(history)\n",
    "    mvsa_single_scores2.append(score)\n",
    "    print()\n",
    "df_single_scores2 = pd.DataFrame(mvsa_single_scores2, columns=['Loss', 'Accuracy', 'F1-macro', 'F1-weighted'], index=feature_names)\n",
    "\n",
    "print('MVSA-Multiple: With multimodal labels')\n",
    "mvsa_multiple_histories2 = []\n",
    "mvsa_multiple_scores2 = []\n",
    "for i in range(len(feature_names)):\n",
    "    print('MVSA-Multiple:', feature_names[i])\n",
    "    history, score = run_and_evaluate('multiple-ML-' + feature_names[i], mvsa_multiple_features[i], mvsa_multiple_multimodal_labels, verbose=0)\n",
    "    mvsa_multiple_histories2.append(history)\n",
    "    mvsa_multiple_scores2.append(score)\n",
    "    print()\n",
    "df_multiple_scores2 = pd.DataFrame(mvsa_multiple_scores2, columns=['Loss', 'Accuracy', 'F1-macro', 'F1-weighted'], index=feature_names)\n",
    "\n",
    "mvsa_average_scores2 = np.mean([mvsa_single_scores2, mvsa_multiple_scores2], axis=0)\n",
    "df_average_scores2 = pd.DataFrame(mvsa_average_scores2, columns=['Loss', 'Accuracy', 'F1-macro', 'F1-weighted'], index=feature_names)"
   ]
  },
  {
   "cell_type": "markdown",
   "id": "cadc545c",
   "metadata": {
    "papermill": {
     "duration": 0.011479,
     "end_time": "2022-07-13T15:24:48.587330",
     "exception": false,
     "start_time": "2022-07-13T15:24:48.575851",
     "status": "completed"
    },
    "tags": []
   },
   "source": [
    "# With merge MVSA data"
   ]
  },
  {
   "cell_type": "code",
   "execution_count": 29,
   "id": "0e5f0509",
   "metadata": {
    "execution": {
     "iopub.execute_input": "2022-07-13T15:24:48.612219Z",
     "iopub.status.busy": "2022-07-13T15:24:48.611366Z",
     "iopub.status.idle": "2022-07-13T15:29:46.241884Z",
     "shell.execute_reply": "2022-07-13T15:29:46.240837Z"
    },
    "papermill": {
     "duration": 297.64529,
     "end_time": "2022-07-13T15:29:46.244177",
     "exception": false,
     "start_time": "2022-07-13T15:24:48.598887",
     "status": "completed"
    },
    "tags": []
   },
   "outputs": [
    {
     "name": "stdout",
     "output_type": "stream",
     "text": [
      "Both MVSA: With original image labels\n",
      "Both MVSA: glove\n",
      "\n",
      "Both MVSA: bert-base\n",
      "\n",
      "Both MVSA: bert-pos-bow\n",
      "\n",
      "Both MVSA: bert-pos-ner-bow\n",
      "\n",
      "Both MVSA: bert-pos-tfidf\n",
      "\n",
      "Both MVSA: bert-pos-ner-tfidf\n",
      "\n",
      "Both MVSA: With multimodal labels\n",
      "Both MVSA: glove\n",
      "\n",
      "Both MVSA: bert-base\n",
      "\n",
      "Both MVSA: bert-pos-bow\n",
      "\n",
      "Both MVSA: bert-pos-ner-bow\n",
      "\n",
      "Both MVSA: bert-pos-tfidf\n",
      "\n",
      "Both MVSA: bert-pos-ner-tfidf\n",
      "\n"
     ]
    }
   ],
   "source": [
    "print('Both MVSA: With original image labels')\n",
    "mvsa_histories3 = []\n",
    "mvsa_scores3 = []\n",
    "for i in range(len(feature_names)):\n",
    "    print('Both MVSA:', feature_names[i])\n",
    "    history, score = run_and_evaluate('merge-OL-' + feature_names[i], mvsa_features[i], mvsa_image_labels, verbose=0)\n",
    "    mvsa_histories3.append(history)\n",
    "    mvsa_scores3.append(score)\n",
    "    print()\n",
    "df_scores3 = pd.DataFrame(mvsa_scores3, columns=['Loss', 'Accuracy', 'F1-macro', 'F1-weighted'], index=feature_names)\n",
    "\n",
    "print('Both MVSA: With multimodal labels')\n",
    "mvsa_histories4 = []\n",
    "mvsa_scores4 = []\n",
    "for i in range(len(feature_names)):\n",
    "    print('Both MVSA:', feature_names[i])\n",
    "    history, score = run_and_evaluate('merge-ML-' + feature_names[i], mvsa_features[i], mvsa_multimodal_labels, verbose=0)\n",
    "    mvsa_histories4.append(history)\n",
    "    mvsa_scores4.append(score)\n",
    "    print()\n",
    "df_scores4 = pd.DataFrame(mvsa_scores4, columns=['Loss', 'Accuracy', 'F1-macro', 'F1-weighted'], index=feature_names)"
   ]
  },
  {
   "cell_type": "markdown",
   "id": "849568c5",
   "metadata": {
    "papermill": {
     "duration": 0.012615,
     "end_time": "2022-07-13T15:29:46.269560",
     "exception": false,
     "start_time": "2022-07-13T15:29:46.256945",
     "status": "completed"
    },
    "tags": []
   },
   "source": [
    "# Display results"
   ]
  },
  {
   "cell_type": "code",
   "execution_count": 30,
   "id": "9ea6d990",
   "metadata": {
    "execution": {
     "iopub.execute_input": "2022-07-13T15:29:46.294925Z",
     "iopub.status.busy": "2022-07-13T15:29:46.294548Z",
     "iopub.status.idle": "2022-07-13T15:29:46.410241Z",
     "shell.execute_reply": "2022-07-13T15:29:46.408243Z"
    },
    "papermill": {
     "duration": 0.131734,
     "end_time": "2022-07-13T15:29:46.413344",
     "exception": false,
     "start_time": "2022-07-13T15:29:46.281610",
     "status": "completed"
    },
    "tags": []
   },
   "outputs": [
    {
     "name": "stdout",
     "output_type": "stream",
     "text": [
      "With original image labels\n",
      "\n"
     ]
    },
    {
     "data": {
      "text/html": [
       "<table style=\"display:inline\"><tr><td style=\"text-align:center\">MVSA-Single</td><td style=\"text-align:center\">MVSA-Multiple</td><td style=\"text-align:center\">Average</td></tr><tr><td style=\"vertical-align:top\"> <style type=\"text/css\">\n",
       "#T_1f3a1_row0_col0, #T_1f3a1_row0_col1, #T_1f3a1_row0_col2, #T_1f3a1_row0_col3 {\n",
       "  color: tomato;\n",
       "}\n",
       "#T_1f3a1_row5_col0, #T_1f3a1_row5_col1, #T_1f3a1_row5_col2, #T_1f3a1_row5_col3 {\n",
       "  color: lawngreen;\n",
       "}\n",
       "</style>\n",
       "<table style=\"display:inline\" id=\"T_1f3a1_\">\n",
       "  <thead>\n",
       "    <tr>\n",
       "      <th class=\"blank level0\" >&nbsp;</th>\n",
       "      <th class=\"col_heading level0 col0\" >Loss</th>\n",
       "      <th class=\"col_heading level0 col1\" >Accuracy</th>\n",
       "      <th class=\"col_heading level0 col2\" >F1-macro</th>\n",
       "      <th class=\"col_heading level0 col3\" >F1-weighted</th>\n",
       "    </tr>\n",
       "  </thead>\n",
       "  <tbody>\n",
       "    <tr>\n",
       "      <th id=\"T_1f3a1_level0_row0\" class=\"row_heading level0 row0\" >glove</th>\n",
       "      <td id=\"T_1f3a1_row0_col0\" class=\"data row0 col0\" >1.102958</td>\n",
       "      <td id=\"T_1f3a1_row0_col1\" class=\"data row0 col1\" >0.412417</td>\n",
       "      <td id=\"T_1f3a1_row0_col2\" class=\"data row0 col2\" >0.194662</td>\n",
       "      <td id=\"T_1f3a1_row0_col3\" class=\"data row0 col3\" >0.240846</td>\n",
       "    </tr>\n",
       "    <tr>\n",
       "      <th id=\"T_1f3a1_level0_row1\" class=\"row_heading level0 row1\" >bert-base</th>\n",
       "      <td id=\"T_1f3a1_row1_col0\" class=\"data row1 col0\" >0.802528</td>\n",
       "      <td id=\"T_1f3a1_row1_col1\" class=\"data row1 col1\" >0.636364</td>\n",
       "      <td id=\"T_1f3a1_row1_col2\" class=\"data row1 col2\" >0.622853</td>\n",
       "      <td id=\"T_1f3a1_row1_col3\" class=\"data row1 col3\" >0.642289</td>\n",
       "    </tr>\n",
       "    <tr>\n",
       "      <th id=\"T_1f3a1_level0_row2\" class=\"row_heading level0 row2\" >bert-pos-bow</th>\n",
       "      <td id=\"T_1f3a1_row2_col0\" class=\"data row2 col0\" >0.734933</td>\n",
       "      <td id=\"T_1f3a1_row2_col1\" class=\"data row2 col1\" >0.682927</td>\n",
       "      <td id=\"T_1f3a1_row2_col2\" class=\"data row2 col2\" >0.676608</td>\n",
       "      <td id=\"T_1f3a1_row2_col3\" class=\"data row2 col3\" >0.685825</td>\n",
       "    </tr>\n",
       "    <tr>\n",
       "      <th id=\"T_1f3a1_level0_row3\" class=\"row_heading level0 row3\" >bert-pos-ner-bow</th>\n",
       "      <td id=\"T_1f3a1_row3_col0\" class=\"data row3 col0\" >0.753054</td>\n",
       "      <td id=\"T_1f3a1_row3_col1\" class=\"data row3 col1\" >0.678492</td>\n",
       "      <td id=\"T_1f3a1_row3_col2\" class=\"data row3 col2\" >0.664873</td>\n",
       "      <td id=\"T_1f3a1_row3_col3\" class=\"data row3 col3\" >0.676878</td>\n",
       "    </tr>\n",
       "    <tr>\n",
       "      <th id=\"T_1f3a1_level0_row4\" class=\"row_heading level0 row4\" >bert-pos-tfidf</th>\n",
       "      <td id=\"T_1f3a1_row4_col0\" class=\"data row4 col0\" >0.784667</td>\n",
       "      <td id=\"T_1f3a1_row4_col1\" class=\"data row4 col1\" >0.651885</td>\n",
       "      <td id=\"T_1f3a1_row4_col2\" class=\"data row4 col2\" >0.640719</td>\n",
       "      <td id=\"T_1f3a1_row4_col3\" class=\"data row4 col3\" >0.657253</td>\n",
       "    </tr>\n",
       "    <tr>\n",
       "      <th id=\"T_1f3a1_level0_row5\" class=\"row_heading level0 row5\" >bert-pos-ner-tfidf</th>\n",
       "      <td id=\"T_1f3a1_row5_col0\" class=\"data row5 col0\" >0.709843</td>\n",
       "      <td id=\"T_1f3a1_row5_col1\" class=\"data row5 col1\" >0.700665</td>\n",
       "      <td id=\"T_1f3a1_row5_col2\" class=\"data row5 col2\" >0.697322</td>\n",
       "      <td id=\"T_1f3a1_row5_col3\" class=\"data row5 col3\" >0.701806</td>\n",
       "    </tr>\n",
       "  </tbody>\n",
       "</table style=\"display:inline\">\n",
       "</td><td style=\"vertical-align:top\"> <style type=\"text/css\">\n",
       "#T_fc196_row0_col0, #T_fc196_row0_col1, #T_fc196_row0_col2, #T_fc196_row0_col3 {\n",
       "  color: tomato;\n",
       "}\n",
       "#T_fc196_row2_col1, #T_fc196_row2_col3, #T_fc196_row3_col0, #T_fc196_row5_col2 {\n",
       "  color: lawngreen;\n",
       "}\n",
       "</style>\n",
       "<table style=\"display:inline\" id=\"T_fc196_\">\n",
       "  <thead>\n",
       "    <tr>\n",
       "      <th class=\"blank level0\" >&nbsp;</th>\n",
       "      <th class=\"col_heading level0 col0\" >Loss</th>\n",
       "      <th class=\"col_heading level0 col1\" >Accuracy</th>\n",
       "      <th class=\"col_heading level0 col2\" >F1-macro</th>\n",
       "      <th class=\"col_heading level0 col3\" >F1-weighted</th>\n",
       "    </tr>\n",
       "  </thead>\n",
       "  <tbody>\n",
       "    <tr>\n",
       "      <th id=\"T_fc196_level0_row0\" class=\"row_heading level0 row0\" >glove</th>\n",
       "      <td id=\"T_fc196_row0_col0\" class=\"data row0 col0\" >1.104450</td>\n",
       "      <td id=\"T_fc196_row0_col1\" class=\"data row0 col1\" >0.541716</td>\n",
       "      <td id=\"T_fc196_row0_col2\" class=\"data row0 col2\" >0.234248</td>\n",
       "      <td id=\"T_fc196_row0_col3\" class=\"data row0 col3\" >0.380687</td>\n",
       "    </tr>\n",
       "    <tr>\n",
       "      <th id=\"T_fc196_level0_row1\" class=\"row_heading level0 row1\" >bert-base</th>\n",
       "      <td id=\"T_fc196_row1_col0\" class=\"data row1 col0\" >0.761493</td>\n",
       "      <td id=\"T_fc196_row1_col1\" class=\"data row1 col1\" >0.624559</td>\n",
       "      <td id=\"T_fc196_row1_col2\" class=\"data row1 col2\" >0.511696</td>\n",
       "      <td id=\"T_fc196_row1_col3\" class=\"data row1 col3\" >0.616513</td>\n",
       "    </tr>\n",
       "    <tr>\n",
       "      <th id=\"T_fc196_level0_row2\" class=\"row_heading level0 row2\" >bert-pos-bow</th>\n",
       "      <td id=\"T_fc196_row2_col0\" class=\"data row2 col0\" >0.782965</td>\n",
       "      <td id=\"T_fc196_row2_col1\" class=\"data row2 col1\" >0.625734</td>\n",
       "      <td id=\"T_fc196_row2_col2\" class=\"data row2 col2\" >0.505856</td>\n",
       "      <td id=\"T_fc196_row2_col3\" class=\"data row2 col3\" >0.630142</td>\n",
       "    </tr>\n",
       "    <tr>\n",
       "      <th id=\"T_fc196_level0_row3\" class=\"row_heading level0 row3\" >bert-pos-ner-bow</th>\n",
       "      <td id=\"T_fc196_row3_col0\" class=\"data row3 col0\" >0.750486</td>\n",
       "      <td id=\"T_fc196_row3_col1\" class=\"data row3 col1\" >0.616921</td>\n",
       "      <td id=\"T_fc196_row3_col2\" class=\"data row3 col2\" >0.506742</td>\n",
       "      <td id=\"T_fc196_row3_col3\" class=\"data row3 col3\" >0.607534</td>\n",
       "    </tr>\n",
       "    <tr>\n",
       "      <th id=\"T_fc196_level0_row4\" class=\"row_heading level0 row4\" >bert-pos-tfidf</th>\n",
       "      <td id=\"T_fc196_row4_col0\" class=\"data row4 col0\" >0.837445</td>\n",
       "      <td id=\"T_fc196_row4_col1\" class=\"data row4 col1\" >0.601645</td>\n",
       "      <td id=\"T_fc196_row4_col2\" class=\"data row4 col2\" >0.503975</td>\n",
       "      <td id=\"T_fc196_row4_col3\" class=\"data row4 col3\" >0.605116</td>\n",
       "    </tr>\n",
       "    <tr>\n",
       "      <th id=\"T_fc196_level0_row5\" class=\"row_heading level0 row5\" >bert-pos-ner-tfidf</th>\n",
       "      <td id=\"T_fc196_row5_col0\" class=\"data row5 col0\" >0.785064</td>\n",
       "      <td id=\"T_fc196_row5_col1\" class=\"data row5 col1\" >0.616921</td>\n",
       "      <td id=\"T_fc196_row5_col2\" class=\"data row5 col2\" >0.521693</td>\n",
       "      <td id=\"T_fc196_row5_col3\" class=\"data row5 col3\" >0.612387</td>\n",
       "    </tr>\n",
       "  </tbody>\n",
       "</table style=\"display:inline\">\n",
       "</td><td style=\"vertical-align:top\"> <style type=\"text/css\">\n",
       "#T_011f5_row0_col0, #T_011f5_row0_col1, #T_011f5_row0_col2, #T_011f5_row0_col3 {\n",
       "  color: tomato;\n",
       "}\n",
       "#T_011f5_row2_col3, #T_011f5_row5_col0, #T_011f5_row5_col1, #T_011f5_row5_col2 {\n",
       "  color: lawngreen;\n",
       "}\n",
       "</style>\n",
       "<table style=\"display:inline\" id=\"T_011f5_\">\n",
       "  <thead>\n",
       "    <tr>\n",
       "      <th class=\"blank level0\" >&nbsp;</th>\n",
       "      <th class=\"col_heading level0 col0\" >Loss</th>\n",
       "      <th class=\"col_heading level0 col1\" >Accuracy</th>\n",
       "      <th class=\"col_heading level0 col2\" >F1-macro</th>\n",
       "      <th class=\"col_heading level0 col3\" >F1-weighted</th>\n",
       "    </tr>\n",
       "  </thead>\n",
       "  <tbody>\n",
       "    <tr>\n",
       "      <th id=\"T_011f5_level0_row0\" class=\"row_heading level0 row0\" >glove</th>\n",
       "      <td id=\"T_011f5_row0_col0\" class=\"data row0 col0\" >1.103704</td>\n",
       "      <td id=\"T_011f5_row0_col1\" class=\"data row0 col1\" >0.477066</td>\n",
       "      <td id=\"T_011f5_row0_col2\" class=\"data row0 col2\" >0.214455</td>\n",
       "      <td id=\"T_011f5_row0_col3\" class=\"data row0 col3\" >0.310767</td>\n",
       "    </tr>\n",
       "    <tr>\n",
       "      <th id=\"T_011f5_level0_row1\" class=\"row_heading level0 row1\" >bert-base</th>\n",
       "      <td id=\"T_011f5_row1_col0\" class=\"data row1 col0\" >0.782010</td>\n",
       "      <td id=\"T_011f5_row1_col1\" class=\"data row1 col1\" >0.630461</td>\n",
       "      <td id=\"T_011f5_row1_col2\" class=\"data row1 col2\" >0.567274</td>\n",
       "      <td id=\"T_011f5_row1_col3\" class=\"data row1 col3\" >0.629401</td>\n",
       "    </tr>\n",
       "    <tr>\n",
       "      <th id=\"T_011f5_level0_row2\" class=\"row_heading level0 row2\" >bert-pos-bow</th>\n",
       "      <td id=\"T_011f5_row2_col0\" class=\"data row2 col0\" >0.758949</td>\n",
       "      <td id=\"T_011f5_row2_col1\" class=\"data row2 col1\" >0.654331</td>\n",
       "      <td id=\"T_011f5_row2_col2\" class=\"data row2 col2\" >0.591232</td>\n",
       "      <td id=\"T_011f5_row2_col3\" class=\"data row2 col3\" >0.657984</td>\n",
       "    </tr>\n",
       "    <tr>\n",
       "      <th id=\"T_011f5_level0_row3\" class=\"row_heading level0 row3\" >bert-pos-ner-bow</th>\n",
       "      <td id=\"T_011f5_row3_col0\" class=\"data row3 col0\" >0.751770</td>\n",
       "      <td id=\"T_011f5_row3_col1\" class=\"data row3 col1\" >0.647707</td>\n",
       "      <td id=\"T_011f5_row3_col2\" class=\"data row3 col2\" >0.585808</td>\n",
       "      <td id=\"T_011f5_row3_col3\" class=\"data row3 col3\" >0.642206</td>\n",
       "    </tr>\n",
       "    <tr>\n",
       "      <th id=\"T_011f5_level0_row4\" class=\"row_heading level0 row4\" >bert-pos-tfidf</th>\n",
       "      <td id=\"T_011f5_row4_col0\" class=\"data row4 col0\" >0.811056</td>\n",
       "      <td id=\"T_011f5_row4_col1\" class=\"data row4 col1\" >0.626765</td>\n",
       "      <td id=\"T_011f5_row4_col2\" class=\"data row4 col2\" >0.572347</td>\n",
       "      <td id=\"T_011f5_row4_col3\" class=\"data row4 col3\" >0.631184</td>\n",
       "    </tr>\n",
       "    <tr>\n",
       "      <th id=\"T_011f5_level0_row5\" class=\"row_heading level0 row5\" >bert-pos-ner-tfidf</th>\n",
       "      <td id=\"T_011f5_row5_col0\" class=\"data row5 col0\" >0.747454</td>\n",
       "      <td id=\"T_011f5_row5_col1\" class=\"data row5 col1\" >0.658793</td>\n",
       "      <td id=\"T_011f5_row5_col2\" class=\"data row5 col2\" >0.609507</td>\n",
       "      <td id=\"T_011f5_row5_col3\" class=\"data row5 col3\" >0.657096</td>\n",
       "    </tr>\n",
       "  </tbody>\n",
       "</table style=\"display:inline\">\n",
       "</td></tr></table style=\"display:inline\">"
      ]
     },
     "metadata": {},
     "output_type": "display_data"
    }
   ],
   "source": [
    "print('With original image labels\\n')\n",
    "display_dataframes((style_dataframe(df_single_scores), style_dataframe(df_multiple_scores), style_dataframe(df_average_scores)), \n",
    "                   names=['MVSA-Single', 'MVSA-Multiple', 'Average'])"
   ]
  },
  {
   "cell_type": "code",
   "execution_count": 31,
   "id": "1b7f7d1b",
   "metadata": {
    "execution": {
     "iopub.execute_input": "2022-07-13T15:29:46.442666Z",
     "iopub.status.busy": "2022-07-13T15:29:46.440821Z",
     "iopub.status.idle": "2022-07-13T15:29:46.495962Z",
     "shell.execute_reply": "2022-07-13T15:29:46.493739Z"
    },
    "papermill": {
     "duration": 0.072616,
     "end_time": "2022-07-13T15:29:46.499521",
     "exception": false,
     "start_time": "2022-07-13T15:29:46.426905",
     "status": "completed"
    },
    "tags": []
   },
   "outputs": [
    {
     "name": "stdout",
     "output_type": "stream",
     "text": [
      "With multimodal labels\n",
      "\n"
     ]
    },
    {
     "data": {
      "text/html": [
       "<table style=\"display:inline\"><tr><td style=\"text-align:center\">MVSA-Single</td><td style=\"text-align:center\">MVSA-Multiple</td><td style=\"text-align:center\">Average</td></tr><tr><td style=\"vertical-align:top\"> <style type=\"text/css\">\n",
       "#T_165e6_row0_col0, #T_165e6_row0_col1, #T_165e6_row0_col2, #T_165e6_row0_col3 {\n",
       "  color: tomato;\n",
       "}\n",
       "#T_165e6_row2_col0, #T_165e6_row2_col1, #T_165e6_row3_col2, #T_165e6_row3_col3 {\n",
       "  color: lawngreen;\n",
       "}\n",
       "</style>\n",
       "<table style=\"display:inline\" id=\"T_165e6_\">\n",
       "  <thead>\n",
       "    <tr>\n",
       "      <th class=\"blank level0\" >&nbsp;</th>\n",
       "      <th class=\"col_heading level0 col0\" >Loss</th>\n",
       "      <th class=\"col_heading level0 col1\" >Accuracy</th>\n",
       "      <th class=\"col_heading level0 col2\" >F1-macro</th>\n",
       "      <th class=\"col_heading level0 col3\" >F1-weighted</th>\n",
       "    </tr>\n",
       "  </thead>\n",
       "  <tbody>\n",
       "    <tr>\n",
       "      <th id=\"T_165e6_level0_row0\" class=\"row_heading level0 row0\" >glove</th>\n",
       "      <td id=\"T_165e6_row0_col0\" class=\"data row0 col0\" >1.053686</td>\n",
       "      <td id=\"T_165e6_row0_col1\" class=\"data row0 col1\" >0.505543</td>\n",
       "      <td id=\"T_165e6_row0_col2\" class=\"data row0 col2\" >0.306284</td>\n",
       "      <td id=\"T_165e6_row0_col3\" class=\"data row0 col3\" >0.470623</td>\n",
       "    </tr>\n",
       "    <tr>\n",
       "      <th id=\"T_165e6_level0_row1\" class=\"row_heading level0 row1\" >bert-base</th>\n",
       "      <td id=\"T_165e6_row1_col0\" class=\"data row1 col0\" >0.833831</td>\n",
       "      <td id=\"T_165e6_row1_col1\" class=\"data row1 col1\" >0.618625</td>\n",
       "      <td id=\"T_165e6_row1_col2\" class=\"data row1 col2\" >0.524345</td>\n",
       "      <td id=\"T_165e6_row1_col3\" class=\"data row1 col3\" >0.627242</td>\n",
       "    </tr>\n",
       "    <tr>\n",
       "      <th id=\"T_165e6_level0_row2\" class=\"row_heading level0 row2\" >bert-pos-bow</th>\n",
       "      <td id=\"T_165e6_row2_col0\" class=\"data row2 col0\" >0.778112</td>\n",
       "      <td id=\"T_165e6_row2_col1\" class=\"data row2 col1\" >0.669623</td>\n",
       "      <td id=\"T_165e6_row2_col2\" class=\"data row2 col2\" >0.556642</td>\n",
       "      <td id=\"T_165e6_row2_col3\" class=\"data row2 col3\" >0.661642</td>\n",
       "    </tr>\n",
       "    <tr>\n",
       "      <th id=\"T_165e6_level0_row3\" class=\"row_heading level0 row3\" >bert-pos-ner-bow</th>\n",
       "      <td id=\"T_165e6_row3_col0\" class=\"data row3 col0\" >0.829339</td>\n",
       "      <td id=\"T_165e6_row3_col1\" class=\"data row3 col1\" >0.662971</td>\n",
       "      <td id=\"T_165e6_row3_col2\" class=\"data row3 col2\" >0.568772</td>\n",
       "      <td id=\"T_165e6_row3_col3\" class=\"data row3 col3\" >0.670829</td>\n",
       "    </tr>\n",
       "    <tr>\n",
       "      <th id=\"T_165e6_level0_row4\" class=\"row_heading level0 row4\" >bert-pos-tfidf</th>\n",
       "      <td id=\"T_165e6_row4_col0\" class=\"data row4 col0\" >0.793002</td>\n",
       "      <td id=\"T_165e6_row4_col1\" class=\"data row4 col1\" >0.654102</td>\n",
       "      <td id=\"T_165e6_row4_col2\" class=\"data row4 col2\" >0.546847</td>\n",
       "      <td id=\"T_165e6_row4_col3\" class=\"data row4 col3\" >0.653189</td>\n",
       "    </tr>\n",
       "    <tr>\n",
       "      <th id=\"T_165e6_level0_row5\" class=\"row_heading level0 row5\" >bert-pos-ner-tfidf</th>\n",
       "      <td id=\"T_165e6_row5_col0\" class=\"data row5 col0\" >0.829264</td>\n",
       "      <td id=\"T_165e6_row5_col1\" class=\"data row5 col1\" >0.649667</td>\n",
       "      <td id=\"T_165e6_row5_col2\" class=\"data row5 col2\" >0.548697</td>\n",
       "      <td id=\"T_165e6_row5_col3\" class=\"data row5 col3\" >0.649602</td>\n",
       "    </tr>\n",
       "  </tbody>\n",
       "</table style=\"display:inline\">\n",
       "</td><td style=\"vertical-align:top\"> <style type=\"text/css\">\n",
       "#T_1c946_row0_col0, #T_1c946_row0_col1, #T_1c946_row0_col2, #T_1c946_row0_col3 {\n",
       "  color: tomato;\n",
       "}\n",
       "#T_1c946_row1_col0, #T_1c946_row1_col2, #T_1c946_row1_col3, #T_1c946_row5_col1 {\n",
       "  color: lawngreen;\n",
       "}\n",
       "</style>\n",
       "<table style=\"display:inline\" id=\"T_1c946_\">\n",
       "  <thead>\n",
       "    <tr>\n",
       "      <th class=\"blank level0\" >&nbsp;</th>\n",
       "      <th class=\"col_heading level0 col0\" >Loss</th>\n",
       "      <th class=\"col_heading level0 col1\" >Accuracy</th>\n",
       "      <th class=\"col_heading level0 col2\" >F1-macro</th>\n",
       "      <th class=\"col_heading level0 col3\" >F1-weighted</th>\n",
       "    </tr>\n",
       "  </thead>\n",
       "  <tbody>\n",
       "    <tr>\n",
       "      <th id=\"T_1c946_level0_row0\" class=\"row_heading level0 row0\" >glove</th>\n",
       "      <td id=\"T_1c946_row0_col0\" class=\"data row0 col0\" >1.081355</td>\n",
       "      <td id=\"T_1c946_row0_col1\" class=\"data row0 col1\" >0.454759</td>\n",
       "      <td id=\"T_1c946_row0_col2\" class=\"data row0 col2\" >0.282830</td>\n",
       "      <td id=\"T_1c946_row0_col3\" class=\"data row0 col3\" >0.465712</td>\n",
       "    </tr>\n",
       "    <tr>\n",
       "      <th id=\"T_1c946_level0_row1\" class=\"row_heading level0 row1\" >bert-base</th>\n",
       "      <td id=\"T_1c946_row1_col0\" class=\"data row1 col0\" >0.751933</td>\n",
       "      <td id=\"T_1c946_row1_col1\" class=\"data row1 col1\" >0.672738</td>\n",
       "      <td id=\"T_1c946_row1_col2\" class=\"data row1 col2\" >0.493451</td>\n",
       "      <td id=\"T_1c946_row1_col3\" class=\"data row1 col3\" >0.651864</td>\n",
       "    </tr>\n",
       "    <tr>\n",
       "      <th id=\"T_1c946_level0_row2\" class=\"row_heading level0 row2\" >bert-pos-bow</th>\n",
       "      <td id=\"T_1c946_row2_col0\" class=\"data row2 col0\" >0.775079</td>\n",
       "      <td id=\"T_1c946_row2_col1\" class=\"data row2 col1\" >0.663337</td>\n",
       "      <td id=\"T_1c946_row2_col2\" class=\"data row2 col2\" >0.464208</td>\n",
       "      <td id=\"T_1c946_row2_col3\" class=\"data row2 col3\" >0.615016</td>\n",
       "    </tr>\n",
       "    <tr>\n",
       "      <th id=\"T_1c946_level0_row3\" class=\"row_heading level0 row3\" >bert-pos-ner-bow</th>\n",
       "      <td id=\"T_1c946_row3_col0\" class=\"data row3 col0\" >0.764018</td>\n",
       "      <td id=\"T_1c946_row3_col1\" class=\"data row3 col1\" >0.655699</td>\n",
       "      <td id=\"T_1c946_row3_col2\" class=\"data row3 col2\" >0.485056</td>\n",
       "      <td id=\"T_1c946_row3_col3\" class=\"data row3 col3\" >0.622924</td>\n",
       "    </tr>\n",
       "    <tr>\n",
       "      <th id=\"T_1c946_level0_row4\" class=\"row_heading level0 row4\" >bert-pos-tfidf</th>\n",
       "      <td id=\"T_1c946_row4_col0\" class=\"data row4 col0\" >0.796672</td>\n",
       "      <td id=\"T_1c946_row4_col1\" class=\"data row4 col1\" >0.647474</td>\n",
       "      <td id=\"T_1c946_row4_col2\" class=\"data row4 col2\" >0.483833</td>\n",
       "      <td id=\"T_1c946_row4_col3\" class=\"data row4 col3\" >0.615785</td>\n",
       "    </tr>\n",
       "    <tr>\n",
       "      <th id=\"T_1c946_level0_row5\" class=\"row_heading level0 row5\" >bert-pos-ner-tfidf</th>\n",
       "      <td id=\"T_1c946_row5_col0\" class=\"data row5 col0\" >0.763590</td>\n",
       "      <td id=\"T_1c946_row5_col1\" class=\"data row5 col1\" >0.673325</td>\n",
       "      <td id=\"T_1c946_row5_col2\" class=\"data row5 col2\" >0.473165</td>\n",
       "      <td id=\"T_1c946_row5_col3\" class=\"data row5 col3\" >0.618992</td>\n",
       "    </tr>\n",
       "  </tbody>\n",
       "</table style=\"display:inline\">\n",
       "</td><td style=\"vertical-align:top\"> <style type=\"text/css\">\n",
       "#T_f37c4_row0_col0, #T_f37c4_row0_col1, #T_f37c4_row0_col2, #T_f37c4_row0_col3 {\n",
       "  color: tomato;\n",
       "}\n",
       "#T_f37c4_row2_col0, #T_f37c4_row2_col1, #T_f37c4_row3_col2, #T_f37c4_row3_col3 {\n",
       "  color: lawngreen;\n",
       "}\n",
       "</style>\n",
       "<table style=\"display:inline\" id=\"T_f37c4_\">\n",
       "  <thead>\n",
       "    <tr>\n",
       "      <th class=\"blank level0\" >&nbsp;</th>\n",
       "      <th class=\"col_heading level0 col0\" >Loss</th>\n",
       "      <th class=\"col_heading level0 col1\" >Accuracy</th>\n",
       "      <th class=\"col_heading level0 col2\" >F1-macro</th>\n",
       "      <th class=\"col_heading level0 col3\" >F1-weighted</th>\n",
       "    </tr>\n",
       "  </thead>\n",
       "  <tbody>\n",
       "    <tr>\n",
       "      <th id=\"T_f37c4_level0_row0\" class=\"row_heading level0 row0\" >glove</th>\n",
       "      <td id=\"T_f37c4_row0_col0\" class=\"data row0 col0\" >1.067521</td>\n",
       "      <td id=\"T_f37c4_row0_col1\" class=\"data row0 col1\" >0.480151</td>\n",
       "      <td id=\"T_f37c4_row0_col2\" class=\"data row0 col2\" >0.294557</td>\n",
       "      <td id=\"T_f37c4_row0_col3\" class=\"data row0 col3\" >0.468167</td>\n",
       "    </tr>\n",
       "    <tr>\n",
       "      <th id=\"T_f37c4_level0_row1\" class=\"row_heading level0 row1\" >bert-base</th>\n",
       "      <td id=\"T_f37c4_row1_col0\" class=\"data row1 col0\" >0.792882</td>\n",
       "      <td id=\"T_f37c4_row1_col1\" class=\"data row1 col1\" >0.645682</td>\n",
       "      <td id=\"T_f37c4_row1_col2\" class=\"data row1 col2\" >0.508898</td>\n",
       "      <td id=\"T_f37c4_row1_col3\" class=\"data row1 col3\" >0.639553</td>\n",
       "    </tr>\n",
       "    <tr>\n",
       "      <th id=\"T_f37c4_level0_row2\" class=\"row_heading level0 row2\" >bert-pos-bow</th>\n",
       "      <td id=\"T_f37c4_row2_col0\" class=\"data row2 col0\" >0.776595</td>\n",
       "      <td id=\"T_f37c4_row2_col1\" class=\"data row2 col1\" >0.666480</td>\n",
       "      <td id=\"T_f37c4_row2_col2\" class=\"data row2 col2\" >0.510425</td>\n",
       "      <td id=\"T_f37c4_row2_col3\" class=\"data row2 col3\" >0.638329</td>\n",
       "    </tr>\n",
       "    <tr>\n",
       "      <th id=\"T_f37c4_level0_row3\" class=\"row_heading level0 row3\" >bert-pos-ner-bow</th>\n",
       "      <td id=\"T_f37c4_row3_col0\" class=\"data row3 col0\" >0.796678</td>\n",
       "      <td id=\"T_f37c4_row3_col1\" class=\"data row3 col1\" >0.659335</td>\n",
       "      <td id=\"T_f37c4_row3_col2\" class=\"data row3 col2\" >0.526914</td>\n",
       "      <td id=\"T_f37c4_row3_col3\" class=\"data row3 col3\" >0.646876</td>\n",
       "    </tr>\n",
       "    <tr>\n",
       "      <th id=\"T_f37c4_level0_row4\" class=\"row_heading level0 row4\" >bert-pos-tfidf</th>\n",
       "      <td id=\"T_f37c4_row4_col0\" class=\"data row4 col0\" >0.794837</td>\n",
       "      <td id=\"T_f37c4_row4_col1\" class=\"data row4 col1\" >0.650788</td>\n",
       "      <td id=\"T_f37c4_row4_col2\" class=\"data row4 col2\" >0.515340</td>\n",
       "      <td id=\"T_f37c4_row4_col3\" class=\"data row4 col3\" >0.634487</td>\n",
       "    </tr>\n",
       "    <tr>\n",
       "      <th id=\"T_f37c4_level0_row5\" class=\"row_heading level0 row5\" >bert-pos-ner-tfidf</th>\n",
       "      <td id=\"T_f37c4_row5_col0\" class=\"data row5 col0\" >0.796427</td>\n",
       "      <td id=\"T_f37c4_row5_col1\" class=\"data row5 col1\" >0.661496</td>\n",
       "      <td id=\"T_f37c4_row5_col2\" class=\"data row5 col2\" >0.510931</td>\n",
       "      <td id=\"T_f37c4_row5_col3\" class=\"data row5 col3\" >0.634297</td>\n",
       "    </tr>\n",
       "  </tbody>\n",
       "</table style=\"display:inline\">\n",
       "</td></tr></table style=\"display:inline\">"
      ]
     },
     "metadata": {},
     "output_type": "display_data"
    }
   ],
   "source": [
    "print('With multimodal labels\\n')\n",
    "display_dataframes((style_dataframe(df_single_scores2), style_dataframe(df_multiple_scores2), style_dataframe(df_average_scores2)), \n",
    "                   names=['MVSA-Single', 'MVSA-Multiple', 'Average'])"
   ]
  },
  {
   "cell_type": "code",
   "execution_count": 32,
   "id": "1783cb07",
   "metadata": {
    "execution": {
     "iopub.execute_input": "2022-07-13T15:29:46.527549Z",
     "iopub.status.busy": "2022-07-13T15:29:46.526614Z",
     "iopub.status.idle": "2022-07-13T15:29:46.566072Z",
     "shell.execute_reply": "2022-07-13T15:29:46.564964Z"
    },
    "papermill": {
     "duration": 0.055307,
     "end_time": "2022-07-13T15:29:46.568389",
     "exception": false,
     "start_time": "2022-07-13T15:29:46.513082",
     "status": "completed"
    },
    "tags": []
   },
   "outputs": [
    {
     "name": "stdout",
     "output_type": "stream",
     "text": [
      "With both MVSA merged together\n",
      "\n"
     ]
    },
    {
     "data": {
      "text/html": [
       "<table style=\"display:inline\"><tr><td style=\"text-align:center\">Original image labels</td><td style=\"text-align:center\">Multimodal labels</td></tr><tr><td style=\"vertical-align:top\"> <style type=\"text/css\">\n",
       "#T_f4423_row0_col0, #T_f4423_row0_col1, #T_f4423_row0_col2, #T_f4423_row0_col3 {\n",
       "  color: tomato;\n",
       "}\n",
       "#T_f4423_row2_col1, #T_f4423_row2_col3, #T_f4423_row3_col0, #T_f4423_row5_col2 {\n",
       "  color: lawngreen;\n",
       "}\n",
       "</style>\n",
       "<table style=\"display:inline\" id=\"T_f4423_\">\n",
       "  <thead>\n",
       "    <tr>\n",
       "      <th class=\"blank level0\" >&nbsp;</th>\n",
       "      <th class=\"col_heading level0 col0\" >Loss</th>\n",
       "      <th class=\"col_heading level0 col1\" >Accuracy</th>\n",
       "      <th class=\"col_heading level0 col2\" >F1-macro</th>\n",
       "      <th class=\"col_heading level0 col3\" >F1-weighted</th>\n",
       "    </tr>\n",
       "  </thead>\n",
       "  <tbody>\n",
       "    <tr>\n",
       "      <th id=\"T_f4423_level0_row0\" class=\"row_heading level0 row0\" >glove</th>\n",
       "      <td id=\"T_f4423_row0_col0\" class=\"data row0 col0\" >1.050750</td>\n",
       "      <td id=\"T_f4423_row0_col1\" class=\"data row0 col1\" >0.460752</td>\n",
       "      <td id=\"T_f4423_row0_col2\" class=\"data row0 col2\" >0.324110</td>\n",
       "      <td id=\"T_f4423_row0_col3\" class=\"data row0 col3\" >0.431980</td>\n",
       "    </tr>\n",
       "    <tr>\n",
       "      <th id=\"T_f4423_level0_row1\" class=\"row_heading level0 row1\" >bert-base</th>\n",
       "      <td id=\"T_f4423_row1_col0\" class=\"data row1 col0\" >0.843640</td>\n",
       "      <td id=\"T_f4423_row1_col1\" class=\"data row1 col1\" >0.591732</td>\n",
       "      <td id=\"T_f4423_row1_col2\" class=\"data row1 col2\" >0.489369</td>\n",
       "      <td id=\"T_f4423_row1_col3\" class=\"data row1 col3\" >0.551266</td>\n",
       "    </tr>\n",
       "    <tr>\n",
       "      <th id=\"T_f4423_level0_row2\" class=\"row_heading level0 row2\" >bert-pos-bow</th>\n",
       "      <td id=\"T_f4423_row2_col0\" class=\"data row2 col0\" >0.855252</td>\n",
       "      <td id=\"T_f4423_row2_col1\" class=\"data row2 col1\" >0.603809</td>\n",
       "      <td id=\"T_f4423_row2_col2\" class=\"data row2 col2\" >0.488892</td>\n",
       "      <td id=\"T_f4423_row2_col3\" class=\"data row2 col3\" >0.564858</td>\n",
       "    </tr>\n",
       "    <tr>\n",
       "      <th id=\"T_f4423_level0_row3\" class=\"row_heading level0 row3\" >bert-pos-ner-bow</th>\n",
       "      <td id=\"T_f4423_row3_col0\" class=\"data row3 col0\" >0.815226</td>\n",
       "      <td id=\"T_f4423_row3_col1\" class=\"data row3 col1\" >0.598700</td>\n",
       "      <td id=\"T_f4423_row3_col2\" class=\"data row3 col2\" >0.484721</td>\n",
       "      <td id=\"T_f4423_row3_col3\" class=\"data row3 col3\" >0.548900</td>\n",
       "    </tr>\n",
       "    <tr>\n",
       "      <th id=\"T_f4423_level0_row4\" class=\"row_heading level0 row4\" >bert-pos-tfidf</th>\n",
       "      <td id=\"T_f4423_row4_col0\" class=\"data row4 col0\" >0.885513</td>\n",
       "      <td id=\"T_f4423_row4_col1\" class=\"data row4 col1\" >0.586159</td>\n",
       "      <td id=\"T_f4423_row4_col2\" class=\"data row4 col2\" >0.498561</td>\n",
       "      <td id=\"T_f4423_row4_col3\" class=\"data row4 col3\" >0.563066</td>\n",
       "    </tr>\n",
       "    <tr>\n",
       "      <th id=\"T_f4423_level0_row5\" class=\"row_heading level0 row5\" >bert-pos-ner-tfidf</th>\n",
       "      <td id=\"T_f4423_row5_col0\" class=\"data row5 col0\" >0.876170</td>\n",
       "      <td id=\"T_f4423_row5_col1\" class=\"data row5 col1\" >0.578727</td>\n",
       "      <td id=\"T_f4423_row5_col2\" class=\"data row5 col2\" >0.506708</td>\n",
       "      <td id=\"T_f4423_row5_col3\" class=\"data row5 col3\" >0.563873</td>\n",
       "    </tr>\n",
       "  </tbody>\n",
       "</table style=\"display:inline\">\n",
       "</td><td style=\"vertical-align:top\"> <style type=\"text/css\">\n",
       "#T_8c6db_row0_col0, #T_8c6db_row0_col1, #T_8c6db_row0_col2, #T_8c6db_row0_col3 {\n",
       "  color: tomato;\n",
       "}\n",
       "#T_8c6db_row1_col0, #T_8c6db_row1_col1, #T_8c6db_row2_col2, #T_8c6db_row2_col3 {\n",
       "  color: lawngreen;\n",
       "}\n",
       "</style>\n",
       "<table style=\"display:inline\" id=\"T_8c6db_\">\n",
       "  <thead>\n",
       "    <tr>\n",
       "      <th class=\"blank level0\" >&nbsp;</th>\n",
       "      <th class=\"col_heading level0 col0\" >Loss</th>\n",
       "      <th class=\"col_heading level0 col1\" >Accuracy</th>\n",
       "      <th class=\"col_heading level0 col2\" >F1-macro</th>\n",
       "      <th class=\"col_heading level0 col3\" >F1-weighted</th>\n",
       "    </tr>\n",
       "  </thead>\n",
       "  <tbody>\n",
       "    <tr>\n",
       "      <th id=\"T_8c6db_level0_row0\" class=\"row_heading level0 row0\" >glove</th>\n",
       "      <td id=\"T_8c6db_row0_col0\" class=\"data row0 col0\" >1.017353</td>\n",
       "      <td id=\"T_8c6db_row0_col1\" class=\"data row0 col1\" >0.516953</td>\n",
       "      <td id=\"T_8c6db_row0_col2\" class=\"data row0 col2\" >0.342223</td>\n",
       "      <td id=\"T_8c6db_row0_col3\" class=\"data row0 col3\" >0.490297</td>\n",
       "    </tr>\n",
       "    <tr>\n",
       "      <th id=\"T_8c6db_level0_row1\" class=\"row_heading level0 row1\" >bert-base</th>\n",
       "      <td id=\"T_8c6db_row1_col0\" class=\"data row1 col0\" >0.733890</td>\n",
       "      <td id=\"T_8c6db_row1_col1\" class=\"data row1 col1\" >0.683697</td>\n",
       "      <td id=\"T_8c6db_row1_col2\" class=\"data row1 col2\" >0.531639</td>\n",
       "      <td id=\"T_8c6db_row1_col3\" class=\"data row1 col3\" >0.654397</td>\n",
       "    </tr>\n",
       "    <tr>\n",
       "      <th id=\"T_8c6db_level0_row2\" class=\"row_heading level0 row2\" >bert-pos-bow</th>\n",
       "      <td id=\"T_8c6db_row2_col0\" class=\"data row2 col0\" >0.741008</td>\n",
       "      <td id=\"T_8c6db_row2_col1\" class=\"data row2 col1\" >0.681839</td>\n",
       "      <td id=\"T_8c6db_row2_col2\" class=\"data row2 col2\" >0.550560</td>\n",
       "      <td id=\"T_8c6db_row2_col3\" class=\"data row2 col3\" >0.665444</td>\n",
       "    </tr>\n",
       "    <tr>\n",
       "      <th id=\"T_8c6db_level0_row3\" class=\"row_heading level0 row3\" >bert-pos-ner-bow</th>\n",
       "      <td id=\"T_8c6db_row3_col0\" class=\"data row3 col0\" >0.779873</td>\n",
       "      <td id=\"T_8c6db_row3_col1\" class=\"data row3 col1\" >0.675337</td>\n",
       "      <td id=\"T_8c6db_row3_col2\" class=\"data row3 col2\" >0.518839</td>\n",
       "      <td id=\"T_8c6db_row3_col3\" class=\"data row3 col3\" >0.651682</td>\n",
       "    </tr>\n",
       "    <tr>\n",
       "      <th id=\"T_8c6db_level0_row4\" class=\"row_heading level0 row4\" >bert-pos-tfidf</th>\n",
       "      <td id=\"T_8c6db_row4_col0\" class=\"data row4 col0\" >0.781112</td>\n",
       "      <td id=\"T_8c6db_row4_col1\" class=\"data row4 col1\" >0.650255</td>\n",
       "      <td id=\"T_8c6db_row4_col2\" class=\"data row4 col2\" >0.477065</td>\n",
       "      <td id=\"T_8c6db_row4_col3\" class=\"data row4 col3\" >0.601307</td>\n",
       "    </tr>\n",
       "    <tr>\n",
       "      <th id=\"T_8c6db_level0_row5\" class=\"row_heading level0 row5\" >bert-pos-ner-tfidf</th>\n",
       "      <td id=\"T_8c6db_row5_col0\" class=\"data row5 col0\" >0.767237</td>\n",
       "      <td id=\"T_8c6db_row5_col1\" class=\"data row5 col1\" >0.682768</td>\n",
       "      <td id=\"T_8c6db_row5_col2\" class=\"data row5 col2\" >0.509709</td>\n",
       "      <td id=\"T_8c6db_row5_col3\" class=\"data row5 col3\" >0.642855</td>\n",
       "    </tr>\n",
       "  </tbody>\n",
       "</table style=\"display:inline\">\n",
       "</td></tr></table style=\"display:inline\">"
      ]
     },
     "metadata": {},
     "output_type": "display_data"
    }
   ],
   "source": [
    "print('With both MVSA merged together\\n')\n",
    "display_dataframes((style_dataframe(df_scores3), style_dataframe(df_scores4)), \n",
    "                   names=['Original image labels', 'Multimodal labels'])"
   ]
  },
  {
   "cell_type": "code",
   "execution_count": null,
   "id": "ac34fe63",
   "metadata": {
    "papermill": {
     "duration": 0.012867,
     "end_time": "2022-07-13T15:29:46.595218",
     "exception": false,
     "start_time": "2022-07-13T15:29:46.582351",
     "status": "completed"
    },
    "tags": []
   },
   "outputs": [],
   "source": []
  }
 ],
 "metadata": {
  "kernelspec": {
   "display_name": "Python 3",
   "language": "python",
   "name": "python3"
  },
  "language_info": {
   "codemirror_mode": {
    "name": "ipython",
    "version": 3
   },
   "file_extension": ".py",
   "mimetype": "text/x-python",
   "name": "python",
   "nbconvert_exporter": "python",
   "pygments_lexer": "ipython3",
   "version": "3.7.12"
  },
  "papermill": {
   "default_parameters": {},
   "duration": 743.792474,
   "end_time": "2022-07-13T15:29:49.933260",
   "environment_variables": {},
   "exception": null,
   "input_path": "__notebook__.ipynb",
   "output_path": "__notebook__.ipynb",
   "parameters": {},
   "start_time": "2022-07-13T15:17:26.140786",
   "version": "2.3.4"
  }
 },
 "nbformat": 4,
 "nbformat_minor": 5
}
