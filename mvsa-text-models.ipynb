{
 "cells": [
  {
   "cell_type": "code",
   "execution_count": 1,
   "id": "5026d1d3",
   "metadata": {
    "_cell_guid": "b1076dfc-b9ad-4769-8c92-a6c4dae69d19",
    "_uuid": "8f2839f25d086af736a60e9eeb907d3b93b6e0e5",
    "execution": {
     "iopub.execute_input": "2022-06-30T19:19:30.205073Z",
     "iopub.status.busy": "2022-06-30T19:19:30.204418Z",
     "iopub.status.idle": "2022-06-30T19:19:38.772048Z",
     "shell.execute_reply": "2022-06-30T19:19:38.771047Z"
    },
    "papermill": {
     "duration": 8.5804,
     "end_time": "2022-06-30T19:19:38.775111",
     "exception": false,
     "start_time": "2022-06-30T19:19:30.194711",
     "status": "completed"
    },
    "tags": []
   },
   "outputs": [],
   "source": [
    "SEED = 61\n",
    "\n",
    "\n",
    "import os\n",
    "import re\n",
    "import gc\n",
    "import h5py\n",
    "import torch\n",
    "import numpy as np\n",
    "import pandas as pd\n",
    "import tensorflow as tf\n",
    "import random as python_random\n",
    "import matplotlib.pyplot as plt\n",
    "import tensorflow_addons as tfa\n",
    "\n",
    "from tqdm import tqdm\n",
    "from nltk import tokenize\n",
    "\n",
    "from sklearn import preprocessing\n",
    "from sklearn.decomposition import PCA\n",
    "from keras import backend as K\n",
    "from keras import initializers,regularizers,constraints\n",
    "from keras.preprocessing.text import Tokenizer, text_to_word_sequence\n",
    "from keras.preprocessing.sequence import pad_sequences\n",
    "from keras.utils.np_utils import to_categorical\n",
    "from keras.layers import Reshape, Input, Embedding, Flatten, Dense, Dropout, BatchNormalization, Activation #, merge\n",
    "from keras.layers import TimeDistributed, LSTM, GRU, Bidirectional, Convolution1D, MaxPooling1D, MaxPooling2D\n",
    "from keras.layers.core import RepeatVector, Reshape\n",
    "from keras.callbacks import ModelCheckpoint, EarlyStopping, ReduceLROnPlateau\n",
    "from keras.models import Sequential, Model, load_model\n",
    "from sklearn.model_selection import cross_val_score\n",
    "\n",
    "def reset_seeds():\n",
    "    np.random.seed(SEED) \n",
    "    python_random.seed(SEED)\n",
    "    tf.random.set_seed(SEED)\n",
    "    os.environ[\"PYTHONHASHSEED\"] = str(SEED)\n",
    "\n",
    "# from tensorflow.python.keras.layers import Layer, InputSpec, Lambda\n",
    "# from tensorflow.keras import Model\n",
    "# from attention import Attention_input1, Attention_input2\n",
    "# from keras.optimizers import SGD, RMSprop, Adagrad"
   ]
  },
  {
   "cell_type": "code",
   "execution_count": 2,
   "id": "af89390b",
   "metadata": {
    "execution": {
     "iopub.execute_input": "2022-06-30T19:19:38.794067Z",
     "iopub.status.busy": "2022-06-30T19:19:38.793500Z",
     "iopub.status.idle": "2022-06-30T19:19:38.801921Z",
     "shell.execute_reply": "2022-06-30T19:19:38.800887Z"
    },
    "papermill": {
     "duration": 0.020309,
     "end_time": "2022-06-30T19:19:38.804209",
     "exception": false,
     "start_time": "2022-06-30T19:19:38.783900",
     "status": "completed"
    },
    "tags": []
   },
   "outputs": [],
   "source": [
    "def read_hdf5(path):\n",
    "    read_file = h5py.File(path, 'r')\n",
    "    \n",
    "    feature_names = list(read_file.keys())\n",
    "    loaded_data = []\n",
    "    \n",
    "    for name in feature_names:\n",
    "        dataset = read_file[name][:]\n",
    "        if dataset.dtype == np.dtype('object'):\n",
    "            dataset = np.array([x.decode('UTF-8') for x in dataset])            \n",
    "        loaded_data.append((name, dataset))\n",
    "\n",
    "    return loaded_data\n",
    "\n",
    "def loadz(path):\n",
    "    data = np.load(path)['arr_0']\n",
    "    return data"
   ]
  },
  {
   "cell_type": "code",
   "execution_count": 3,
   "id": "85d777e7",
   "metadata": {
    "execution": {
     "iopub.execute_input": "2022-06-30T19:19:38.821331Z",
     "iopub.status.busy": "2022-06-30T19:19:38.820790Z",
     "iopub.status.idle": "2022-06-30T19:19:38.830298Z",
     "shell.execute_reply": "2022-06-30T19:19:38.829260Z"
    },
    "papermill": {
     "duration": 0.020421,
     "end_time": "2022-06-30T19:19:38.832582",
     "exception": false,
     "start_time": "2022-06-30T19:19:38.812161",
     "status": "completed"
    },
    "tags": []
   },
   "outputs": [],
   "source": [
    "def merge_mvsa(mvsa_single, mvsa_multiple):\n",
    "    mvsa = np.concatenate((mvsa_single, mvsa_multiple), axis=0)\n",
    "    return mvsa\n",
    "\n",
    "def load_mvsa_feature(feature_name, merge=False):\n",
    "    folder_path = os.path.join('../input/mvsa-features/', feature_name)\n",
    "    single_file = 'mvsa-single-{}.npz'.format(feature_name)\n",
    "    multiple_file = 'mvsa-multiple-{}.npz'.format(feature_name)\n",
    "    mvsa_single = loadz(os.path.join(folder_path, single_file))\n",
    "    mvsa_multiple = loadz(os.path.join(folder_path, multiple_file))\n",
    "    \n",
    "    if merge == True:\n",
    "        return merge_mvsa(mvsa_single, mvsa_multiple)\n",
    "    \n",
    "    return mvsa_single, mvsa_multiple\n",
    "\n",
    "def load_labels(path):\n",
    "    data = read_hdf5(path)\n",
    "\n",
    "    for x in data:\n",
    "        if x[0] == 'multimodal-labels':\n",
    "            labels = x[1]\n",
    "        if x[0] == 'text-labels':\n",
    "            text_labels = x[1]\n",
    "        if x[0] == 'image-labels':\n",
    "            image_labels = x[1]\n",
    "        \n",
    "    return labels, text_labels, image_labels"
   ]
  },
  {
   "cell_type": "code",
   "execution_count": 4,
   "id": "932a50a1",
   "metadata": {
    "execution": {
     "iopub.execute_input": "2022-06-30T19:19:38.850105Z",
     "iopub.status.busy": "2022-06-30T19:19:38.849835Z",
     "iopub.status.idle": "2022-06-30T19:19:38.860060Z",
     "shell.execute_reply": "2022-06-30T19:19:38.859118Z"
    },
    "papermill": {
     "duration": 0.021411,
     "end_time": "2022-06-30T19:19:38.862315",
     "exception": false,
     "start_time": "2022-06-30T19:19:38.840904",
     "status": "completed"
    },
    "tags": []
   },
   "outputs": [],
   "source": [
    "def plot_metrics(history):\n",
    "    fig = plt.figure(figsize=(20, 5))\n",
    "\n",
    "    fig.add_subplot(1, 3, 1)\n",
    "    plt.plot(history.history['loss'])\n",
    "    plt.plot(history.history['val_loss'])\n",
    "    plt.title('LOSS')\n",
    "    plt.ylabel('loss')\n",
    "    plt.xlabel('epoch')\n",
    "    plt.legend(['train', 'val'], loc='best')\n",
    "\n",
    "    fig.add_subplot(1, 3, 2)\n",
    "    plt.plot(history.history['accuracy'])\n",
    "    plt.plot(history.history['val_accuracy'])\n",
    "    plt.title('ACCURACY')\n",
    "    plt.ylabel('accuracy')\n",
    "    plt.xlabel('epoch')\n",
    "    plt.legend(['train', 'val'], loc='best')\n",
    "\n",
    "    fig.add_subplot(1, 3, 3)\n",
    "    plt.plot(history.history['f1_score'])\n",
    "    plt.plot(history.history['val_f1_score'])\n",
    "    plt.title('F1-SCORE')\n",
    "    plt.ylabel('f1-score')\n",
    "    plt.xlabel('epoch')\n",
    "    plt.legend(['train', 'val'], loc='best')\n",
    "\n",
    "    plt.show()"
   ]
  },
  {
   "cell_type": "code",
   "execution_count": 5,
   "id": "5d537bfe",
   "metadata": {
    "execution": {
     "iopub.execute_input": "2022-06-30T19:19:38.879665Z",
     "iopub.status.busy": "2022-06-30T19:19:38.879297Z",
     "iopub.status.idle": "2022-06-30T19:19:38.884809Z",
     "shell.execute_reply": "2022-06-30T19:19:38.883858Z"
    },
    "papermill": {
     "duration": 0.016625,
     "end_time": "2022-06-30T19:19:38.887098",
     "exception": false,
     "start_time": "2022-06-30T19:19:38.870473",
     "status": "completed"
    },
    "tags": []
   },
   "outputs": [],
   "source": [
    "# e.g. validation_split=0.1 -----> 8:1:1 ratio of train, val, test\n",
    "def split_data(data, validation_split):\n",
    "    num_val = int(validation_split * data.shape[0])\n",
    "    data_train = data[:-(num_val*2)]\n",
    "    data_val = data[-(num_val*2):-(num_val)]\n",
    "    data_test = data[-num_val:]\n",
    "    return data_train, data_val, data_test"
   ]
  },
  {
   "cell_type": "code",
   "execution_count": 6,
   "id": "bac77a23",
   "metadata": {
    "execution": {
     "iopub.execute_input": "2022-06-30T19:19:38.904040Z",
     "iopub.status.busy": "2022-06-30T19:19:38.903800Z",
     "iopub.status.idle": "2022-06-30T19:19:38.910621Z",
     "shell.execute_reply": "2022-06-30T19:19:38.909695Z"
    },
    "papermill": {
     "duration": 0.017617,
     "end_time": "2022-06-30T19:19:38.912822",
     "exception": false,
     "start_time": "2022-06-30T19:19:38.895205",
     "status": "completed"
    },
    "tags": []
   },
   "outputs": [],
   "source": [
    "def create_model_image(input_shape):\n",
    "    f1_score = tfa.metrics.F1Score(num_classes=NUM_CLASSES, average='macro')\n",
    "    \n",
    "    image_input = Input(shape=input_shape)\n",
    "    outputs = Dense(NUM_CLASSES, activation='softmax') (image_input)\n",
    "    \n",
    "    model = Model(image_input, outputs)\n",
    "    model.compile(optimizer='adam', loss='categorical_crossentropy', metrics=['accuracy', f1_score]) # f1 #tf.keras.metrics.AUC()\n",
    "    return model"
   ]
  },
  {
   "cell_type": "code",
   "execution_count": 7,
   "id": "2bf59cde",
   "metadata": {
    "execution": {
     "iopub.execute_input": "2022-06-30T19:19:38.929668Z",
     "iopub.status.busy": "2022-06-30T19:19:38.929420Z",
     "iopub.status.idle": "2022-06-30T19:19:38.935547Z",
     "shell.execute_reply": "2022-06-30T19:19:38.934555Z"
    },
    "papermill": {
     "duration": 0.016833,
     "end_time": "2022-06-30T19:19:38.937767",
     "exception": false,
     "start_time": "2022-06-30T19:19:38.920934",
     "status": "completed"
    },
    "tags": []
   },
   "outputs": [],
   "source": [
    "def create_model_text(input_shape):\n",
    "    f1_score = tfa.metrics.F1Score(num_classes=NUM_CLASSES, average='macro')\n",
    "    \n",
    "    text_input = Input(shape=input_shape)\n",
    "    reshape_text = Reshape((1, -1)) (text_input)\n",
    "    lstm = LSTM(NUM_LSTM) (reshape_text)\n",
    "    outputs = Dense(NUM_CLASSES, activation='softmax') (lstm)\n",
    "    \n",
    "    model = Model(text_input, outputs)\n",
    "    model.compile(optimizer='adam', loss='categorical_crossentropy', metrics=['accuracy', f1_score]) # f1 #tf.keras.metrics.AUC()\n",
    "    \n",
    "    return model"
   ]
  },
  {
   "cell_type": "code",
   "execution_count": 8,
   "id": "6853aeab",
   "metadata": {
    "execution": {
     "iopub.execute_input": "2022-06-30T19:19:38.954507Z",
     "iopub.status.busy": "2022-06-30T19:19:38.954260Z",
     "iopub.status.idle": "2022-06-30T19:19:38.961186Z",
     "shell.execute_reply": "2022-06-30T19:19:38.959913Z"
    },
    "papermill": {
     "duration": 0.017863,
     "end_time": "2022-06-30T19:19:38.963393",
     "exception": false,
     "start_time": "2022-06-30T19:19:38.945530",
     "status": "completed"
    },
    "tags": []
   },
   "outputs": [],
   "source": [
    "def evaluate_model(model, X_test, y_test, checkpoint=None, verbose=1):\n",
    "    if checkpoint is not None:\n",
    "        model = load_model('./model_checkpoint/{}.h5'.format(checkpoint))#, custom_objects={'f1': f1})\n",
    "    \n",
    "    loss, acc, f1 = model.evaluate(X_test, y_test, verbose=verbose)\n",
    "    \n",
    "    if verbose == 1:\n",
    "        print('Loss:', loss)\n",
    "        print('Accuracy:', acc)\n",
    "        print('F1-score:', f1)\n",
    "        \n",
    "    return loss, acc, f1"
   ]
  },
  {
   "cell_type": "code",
   "execution_count": 9,
   "id": "a3a0dd15",
   "metadata": {
    "execution": {
     "iopub.execute_input": "2022-06-30T19:19:38.981024Z",
     "iopub.status.busy": "2022-06-30T19:19:38.980780Z",
     "iopub.status.idle": "2022-06-30T19:19:38.989106Z",
     "shell.execute_reply": "2022-06-30T19:19:38.988012Z"
    },
    "papermill": {
     "duration": 0.019792,
     "end_time": "2022-06-30T19:19:38.991839",
     "exception": false,
     "start_time": "2022-06-30T19:19:38.972047",
     "status": "completed"
    },
    "tags": []
   },
   "outputs": [],
   "source": [
    "def run_and_evaluate(name, X, y, verbose=0):\n",
    "    y = le.fit_transform(y)\n",
    "    y = to_categorical(np.asarray(y))\n",
    "    \n",
    "    X_train, X_val, X_test = split_data(X, VALIDATION_SPLIT)\n",
    "    y_train, y_val, y_test = split_data(y, VALIDATION_SPLIT)\n",
    "    \n",
    "    model = create_model_text(X_train.shape[1:])\n",
    "    early_stopping = EarlyStopping(monitor='val_loss', min_delta=1e-4, patience=EARLY_STOPPING)\n",
    "    checkpoint = ModelCheckpoint('./model_checkpoint/{}.h5'.format(name), save_best_only=True, verbose=verbose)\n",
    "    \n",
    "    history = model.fit(X_train, y_train, validation_data=(X_val, y_val), \n",
    "                        epochs=EPOCHS, batch_size=BATCH_SIZE, verbose=verbose,\n",
    "                        callbacks=[checkpoint, early_stopping])\n",
    "    print('Early stopped at epoch:', early_stopping.stopped_epoch)\n",
    "    return history, evaluate_model(model, X_test, y_test, checkpoint=name, verbose=verbose)"
   ]
  },
  {
   "cell_type": "code",
   "execution_count": 10,
   "id": "1ff5f794",
   "metadata": {
    "execution": {
     "iopub.execute_input": "2022-06-30T19:19:39.008709Z",
     "iopub.status.busy": "2022-06-30T19:19:39.008443Z",
     "iopub.status.idle": "2022-06-30T19:19:39.015232Z",
     "shell.execute_reply": "2022-06-30T19:19:39.013977Z"
    },
    "papermill": {
     "duration": 0.017811,
     "end_time": "2022-06-30T19:19:39.017463",
     "exception": false,
     "start_time": "2022-06-30T19:19:38.999652",
     "status": "completed"
    },
    "tags": []
   },
   "outputs": [],
   "source": [
    "def style_dataframe(dataframe):\n",
    "    return dataframe.style.highlight_max(subset=['Accuracy', 'F1-score'], props='color:chartreuse', axis=0)\\\n",
    "                          .highlight_min(subset=['Accuracy', 'F1-score'], props='color:tomato', axis=0)\\\n",
    "                          .highlight_min(subset=['Loss'], props='color:chartreuse', axis=0)\\\n",
    "                          .highlight_max(subset=['Loss'], props='color:tomato', axis=0)"
   ]
  },
  {
   "cell_type": "code",
   "execution_count": 11,
   "id": "b83b3dc6",
   "metadata": {
    "execution": {
     "iopub.execute_input": "2022-06-30T19:19:39.034329Z",
     "iopub.status.busy": "2022-06-30T19:19:39.034061Z",
     "iopub.status.idle": "2022-06-30T19:19:39.041654Z",
     "shell.execute_reply": "2022-06-30T19:19:39.040615Z"
    },
    "papermill": {
     "duration": 0.018487,
     "end_time": "2022-06-30T19:19:39.043996",
     "exception": false,
     "start_time": "2022-06-30T19:19:39.025509",
     "status": "completed"
    },
    "tags": []
   },
   "outputs": [],
   "source": [
    "from IPython.display import display_html\n",
    "\n",
    "def display_dataframes(dfs, names=[], index=False):\n",
    "    def to_df(x):\n",
    "        if isinstance(x, pd.Series):\n",
    "            return pd.DataFrame(x)\n",
    "        else:\n",
    "            return x\n",
    "    html_str = ''\n",
    "    if names:\n",
    "        html_str += ('<tr>' + \n",
    "                     ''.join(f'<td style=\"text-align:center\">{name}</td>' for name in names) + \n",
    "                     '</tr>')\n",
    "    html_str += ('<tr>' + \n",
    "                 ''.join(f'<td style=\"vertical-align:top\"> {to_df(df).to_html()}</td>' \n",
    "                         for df in dfs) + \n",
    "                 '</tr>')\n",
    "    html_str = f'<table>{html_str}</table>'\n",
    "    html_str = html_str.replace('table','table style=\"display:inline\"')\n",
    "    display_html(html_str, raw=True)"
   ]
  },
  {
   "cell_type": "markdown",
   "id": "4910b827",
   "metadata": {
    "papermill": {
     "duration": 0.007783,
     "end_time": "2022-06-30T19:19:39.059580",
     "exception": false,
     "start_time": "2022-06-30T19:19:39.051797",
     "status": "completed"
    },
    "tags": []
   },
   "source": [
    "# Load data"
   ]
  },
  {
   "cell_type": "code",
   "execution_count": 12,
   "id": "1c5871f2",
   "metadata": {
    "execution": {
     "iopub.execute_input": "2022-06-30T19:19:39.076055Z",
     "iopub.status.busy": "2022-06-30T19:19:39.075814Z",
     "iopub.status.idle": "2022-06-30T19:19:40.923739Z",
     "shell.execute_reply": "2022-06-30T19:19:40.922771Z"
    },
    "papermill": {
     "duration": 1.859097,
     "end_time": "2022-06-30T19:19:40.926364",
     "exception": false,
     "start_time": "2022-06-30T19:19:39.067267",
     "status": "completed"
    },
    "tags": []
   },
   "outputs": [],
   "source": [
    "mvsa_single_bert_base, mvsa_multiple_bert_base = load_mvsa_feature('bert-base')\n",
    "mvsa_single_pos_bow, mvsa_multiple_pos_bow = load_mvsa_feature('pos-bow')\n",
    "mvsa_single_pos_tfidf, mvsa_multiple_pos_tfidf = load_mvsa_feature('pos-tfidf')\n",
    "mvsa_single_ner_bow, mvsa_multiple_ner_bow = load_mvsa_feature('ner-bow')\n",
    "mvsa_single_ner_tfidf, mvsa_multiple_ner_tfidf = load_mvsa_feature('ner-tfidf')"
   ]
  },
  {
   "cell_type": "code",
   "execution_count": 13,
   "id": "238a1d27",
   "metadata": {
    "execution": {
     "iopub.execute_input": "2022-06-30T19:19:40.942886Z",
     "iopub.status.busy": "2022-06-30T19:19:40.942601Z",
     "iopub.status.idle": "2022-06-30T19:19:41.098720Z",
     "shell.execute_reply": "2022-06-30T19:19:41.096814Z"
    },
    "papermill": {
     "duration": 0.168738,
     "end_time": "2022-06-30T19:19:41.102908",
     "exception": false,
     "start_time": "2022-06-30T19:19:40.934170",
     "status": "completed"
    },
    "tags": []
   },
   "outputs": [],
   "source": [
    "mvsa_bert_base = load_mvsa_feature('bert-base', merge=True)\n",
    "mvsa_pos_bow = load_mvsa_feature('pos-bow', merge=True)\n",
    "mvsa_pos_tfidf = load_mvsa_feature('pos-tfidf', merge=True)\n",
    "mvsa_ner_bow = load_mvsa_feature('ner-bow', merge=True)\n",
    "mvsa_ner_tfidf = load_mvsa_feature('ner-tfidf', merge=True)"
   ]
  },
  {
   "cell_type": "code",
   "execution_count": 14,
   "id": "2ed4018f",
   "metadata": {
    "execution": {
     "iopub.execute_input": "2022-06-30T19:19:41.122071Z",
     "iopub.status.busy": "2022-06-30T19:19:41.121787Z",
     "iopub.status.idle": "2022-06-30T19:19:41.250370Z",
     "shell.execute_reply": "2022-06-30T19:19:41.249437Z"
    },
    "papermill": {
     "duration": 0.139064,
     "end_time": "2022-06-30T19:19:41.252408",
     "exception": false,
     "start_time": "2022-06-30T19:19:41.113344",
     "status": "completed"
    },
    "tags": []
   },
   "outputs": [],
   "source": [
    "mvsa_single_multimodal_labels, mvsa_single_text_labels, mvsa_single_image_labels = load_labels('../input/mvsa-features/labels/mvsa-single-labels.hdf5')\n",
    "mvsa_multiple_multimodal_labels, mvsa_multiple_text_labels, mvsa_multiple_image_labels = load_labels('../input/mvsa-features/labels/mvsa-multiple-labels.hdf5')\n",
    "\n",
    "mvsa_multimodal_labels = merge_mvsa(mvsa_single_multimodal_labels, mvsa_multiple_multimodal_labels)\n",
    "mvsa_text_labels = merge_mvsa(mvsa_single_text_labels, mvsa_multiple_text_labels)\n",
    "mvsa_image_labels = merge_mvsa(mvsa_single_image_labels, mvsa_multiple_image_labels)"
   ]
  },
  {
   "cell_type": "code",
   "execution_count": 15,
   "id": "c9e26724",
   "metadata": {
    "execution": {
     "iopub.execute_input": "2022-06-30T19:19:41.269382Z",
     "iopub.status.busy": "2022-06-30T19:19:41.268575Z",
     "iopub.status.idle": "2022-06-30T19:19:41.276351Z",
     "shell.execute_reply": "2022-06-30T19:19:41.275536Z"
    },
    "papermill": {
     "duration": 0.018146,
     "end_time": "2022-06-30T19:19:41.278289",
     "exception": false,
     "start_time": "2022-06-30T19:19:41.260143",
     "status": "completed"
    },
    "tags": []
   },
   "outputs": [],
   "source": [
    "le = preprocessing.LabelEncoder()\n",
    "le.fit(mvsa_multimodal_labels)\n",
    "NUM_CLASSES = len(le.classes_) # =3"
   ]
  },
  {
   "cell_type": "code",
   "execution_count": 16,
   "id": "c81722f6",
   "metadata": {
    "execution": {
     "iopub.execute_input": "2022-06-30T19:19:41.293902Z",
     "iopub.status.busy": "2022-06-30T19:19:41.293396Z",
     "iopub.status.idle": "2022-06-30T19:19:41.605373Z",
     "shell.execute_reply": "2022-06-30T19:19:41.604374Z"
    },
    "papermill": {
     "duration": 0.32258,
     "end_time": "2022-06-30T19:19:41.608033",
     "exception": false,
     "start_time": "2022-06-30T19:19:41.285453",
     "status": "completed"
    },
    "tags": []
   },
   "outputs": [],
   "source": [
    "feature_names = ['bert-base', 'bert-pos-bow', 'bert-pos-ner-bow', 'bert-pos-tfidf', 'bert-pos-ner-tfidf']\n",
    "\n",
    "mvsa_single_features = [mvsa_single_bert_base, \n",
    "                        np.concatenate((mvsa_single_bert_base, mvsa_single_pos_bow), axis=1), \n",
    "                        np.concatenate((mvsa_single_bert_base, mvsa_single_pos_bow, mvsa_single_ner_bow), axis=1),\n",
    "                        np.concatenate((mvsa_single_bert_base, mvsa_single_pos_tfidf), axis=1), \n",
    "                        np.concatenate((mvsa_single_bert_base, mvsa_single_pos_tfidf, mvsa_single_ner_tfidf), axis=1)]\n",
    "\n",
    "mvsa_multiple_features = [mvsa_multiple_bert_base, \n",
    "                          np.concatenate((mvsa_multiple_bert_base, mvsa_multiple_pos_bow), axis=1), \n",
    "                          np.concatenate((mvsa_multiple_bert_base, mvsa_multiple_pos_bow, mvsa_multiple_ner_bow), axis=1),\n",
    "                          np.concatenate((mvsa_multiple_bert_base, mvsa_multiple_pos_tfidf), axis=1), \n",
    "                          np.concatenate((mvsa_multiple_bert_base, mvsa_multiple_pos_tfidf, mvsa_multiple_ner_tfidf), axis=1)]\n",
    "\n",
    "mvsa_features = [mvsa_bert_base,\n",
    "                 np.concatenate((mvsa_bert_base, mvsa_pos_bow), axis=1), \n",
    "                 np.concatenate((mvsa_bert_base, mvsa_pos_bow, mvsa_ner_bow), axis=1),\n",
    "                 np.concatenate((mvsa_bert_base, mvsa_pos_tfidf), axis=1), \n",
    "                 np.concatenate((mvsa_bert_base, mvsa_pos_tfidf, mvsa_ner_bow), axis=1)]"
   ]
  },
  {
   "cell_type": "markdown",
   "id": "b60400f1",
   "metadata": {
    "papermill": {
     "duration": 0.008147,
     "end_time": "2022-06-30T19:19:41.626101",
     "exception": false,
     "start_time": "2022-06-30T19:19:41.617954",
     "status": "completed"
    },
    "tags": []
   },
   "source": [
    "# Run models and Evalution display"
   ]
  },
  {
   "cell_type": "code",
   "execution_count": 17,
   "id": "8f3eedae",
   "metadata": {
    "execution": {
     "iopub.execute_input": "2022-06-30T19:19:41.642952Z",
     "iopub.status.busy": "2022-06-30T19:19:41.642615Z",
     "iopub.status.idle": "2022-06-30T19:19:41.647644Z",
     "shell.execute_reply": "2022-06-30T19:19:41.646637Z"
    },
    "papermill": {
     "duration": 0.016283,
     "end_time": "2022-06-30T19:19:41.649912",
     "exception": false,
     "start_time": "2022-06-30T19:19:41.633629",
     "status": "completed"
    },
    "tags": []
   },
   "outputs": [],
   "source": [
    "reset_seeds()\n",
    "EPOCHS = 100\n",
    "BATCH_SIZE = 128\n",
    "VALIDATION_SPLIT = 0.1\n",
    "EARLY_STOPPING = 10\n",
    "NUM_LSTM = 128"
   ]
  },
  {
   "cell_type": "markdown",
   "id": "412852e0",
   "metadata": {
    "papermill": {
     "duration": 0.006951,
     "end_time": "2022-06-30T19:19:41.664045",
     "exception": false,
     "start_time": "2022-06-30T19:19:41.657094",
     "status": "completed"
    },
    "tags": []
   },
   "source": [
    "## With original text labels"
   ]
  },
  {
   "cell_type": "code",
   "execution_count": 18,
   "id": "11fbdc4d",
   "metadata": {
    "execution": {
     "iopub.execute_input": "2022-06-30T19:19:41.680618Z",
     "iopub.status.busy": "2022-06-30T19:19:41.680369Z",
     "iopub.status.idle": "2022-06-30T19:20:22.881416Z",
     "shell.execute_reply": "2022-06-30T19:20:22.880205Z"
    },
    "papermill": {
     "duration": 41.212599,
     "end_time": "2022-06-30T19:20:22.884311",
     "exception": false,
     "start_time": "2022-06-30T19:19:41.671712",
     "status": "completed"
    },
    "tags": []
   },
   "outputs": [
    {
     "name": "stdout",
     "output_type": "stream",
     "text": [
      "MVSA-Single: With original text labels\n",
      "\n",
      "MVSA-Single: bert-base\n"
     ]
    },
    {
     "name": "stderr",
     "output_type": "stream",
     "text": [
      "2022-06-30 19:19:41.768116: I tensorflow/stream_executor/cuda/cuda_gpu_executor.cc:937] successful NUMA node read from SysFS had negative value (-1), but there must be at least one NUMA node, so returning NUMA node zero\n",
      "2022-06-30 19:19:41.769150: I tensorflow/stream_executor/cuda/cuda_gpu_executor.cc:937] successful NUMA node read from SysFS had negative value (-1), but there must be at least one NUMA node, so returning NUMA node zero\n",
      "2022-06-30 19:19:41.769820: I tensorflow/stream_executor/cuda/cuda_gpu_executor.cc:937] successful NUMA node read from SysFS had negative value (-1), but there must be at least one NUMA node, so returning NUMA node zero\n",
      "2022-06-30 19:19:41.770649: I tensorflow/core/platform/cpu_feature_guard.cc:142] This TensorFlow binary is optimized with oneAPI Deep Neural Network Library (oneDNN) to use the following CPU instructions in performance-critical operations:  AVX2 AVX512F FMA\n",
      "To enable them in other operations, rebuild TensorFlow with the appropriate compiler flags.\n",
      "2022-06-30 19:19:41.770923: I tensorflow/stream_executor/cuda/cuda_gpu_executor.cc:937] successful NUMA node read from SysFS had negative value (-1), but there must be at least one NUMA node, so returning NUMA node zero\n",
      "2022-06-30 19:19:41.771620: I tensorflow/stream_executor/cuda/cuda_gpu_executor.cc:937] successful NUMA node read from SysFS had negative value (-1), but there must be at least one NUMA node, so returning NUMA node zero\n",
      "2022-06-30 19:19:41.772259: I tensorflow/stream_executor/cuda/cuda_gpu_executor.cc:937] successful NUMA node read from SysFS had negative value (-1), but there must be at least one NUMA node, so returning NUMA node zero\n",
      "2022-06-30 19:19:46.627976: I tensorflow/stream_executor/cuda/cuda_gpu_executor.cc:937] successful NUMA node read from SysFS had negative value (-1), but there must be at least one NUMA node, so returning NUMA node zero\n",
      "2022-06-30 19:19:46.628837: I tensorflow/stream_executor/cuda/cuda_gpu_executor.cc:937] successful NUMA node read from SysFS had negative value (-1), but there must be at least one NUMA node, so returning NUMA node zero\n",
      "2022-06-30 19:19:46.629494: I tensorflow/stream_executor/cuda/cuda_gpu_executor.cc:937] successful NUMA node read from SysFS had negative value (-1), but there must be at least one NUMA node, so returning NUMA node zero\n",
      "2022-06-30 19:19:46.630074: I tensorflow/core/common_runtime/gpu/gpu_device.cc:1510] Created device /job:localhost/replica:0/task:0/device:GPU:0 with 15047 MB memory:  -> device: 0, name: Tesla P100-PCIE-16GB, pci bus id: 0000:00:04.0, compute capability: 6.0\n",
      "2022-06-30 19:19:47.282648: I tensorflow/compiler/mlir/mlir_graph_optimization_pass.cc:185] None of the MLIR Optimization Passes are enabled (registered 2)\n",
      "2022-06-30 19:19:49.959360: I tensorflow/stream_executor/cuda/cuda_dnn.cc:369] Loaded cuDNN version 8005\n"
     ]
    },
    {
     "name": "stdout",
     "output_type": "stream",
     "text": [
      "Early stopped at epoch: 16\n",
      "\n",
      "MVSA-Single: bert-pos-bow\n",
      "Early stopped at epoch: 16\n",
      "\n",
      "MVSA-Single: bert-pos-ner-bow\n",
      "Early stopped at epoch: 16\n",
      "\n",
      "MVSA-Single: bert-pos-tfidf\n",
      "Early stopped at epoch: 16\n",
      "\n",
      "MVSA-Single: bert-pos-ner-tfidf\n",
      "Early stopped at epoch: 16\n",
      "\n"
     ]
    }
   ],
   "source": [
    "print('MVSA-Single: With original text labels\\n')\n",
    "# run model with all features data of MVSA-Single\n",
    "mvsa_single_hitories = []\n",
    "mvsa_single_score = []\n",
    "for i in range(len(feature_names)):\n",
    "    print('MVSA-Single:', feature_names[i])\n",
    "    history, scores = run_and_evaluate('single-' + feature_names[i], mvsa_single_features[i], mvsa_single_text_labels, verbose=0)\n",
    "    mvsa_single_hitories.append(history)\n",
    "    mvsa_single_score.append(scores)\n",
    "    print()\n",
    "    \n",
    "df_single_scores = pd.DataFrame(mvsa_single_score, columns=['Loss', 'Accuracy', 'F1-score'], index=feature_names)"
   ]
  },
  {
   "cell_type": "code",
   "execution_count": 19,
   "id": "d29450ad",
   "metadata": {
    "execution": {
     "iopub.execute_input": "2022-06-30T19:20:22.902844Z",
     "iopub.status.busy": "2022-06-30T19:20:22.902564Z",
     "iopub.status.idle": "2022-06-30T19:21:10.697091Z",
     "shell.execute_reply": "2022-06-30T19:21:10.695904Z"
    },
    "papermill": {
     "duration": 47.806656,
     "end_time": "2022-06-30T19:21:10.699923",
     "exception": false,
     "start_time": "2022-06-30T19:20:22.893267",
     "status": "completed"
    },
    "tags": []
   },
   "outputs": [
    {
     "name": "stdout",
     "output_type": "stream",
     "text": [
      "MVSA-Multiple: With original image labels\n",
      "\n",
      "MVSA-Multiple: bert-base\n",
      "Early stopped at epoch: 13\n",
      "\n",
      "MVSA-Multiple: bert-pos-bow\n",
      "Early stopped at epoch: 13\n",
      "\n",
      "MVSA-Multiple: bert-pos-ner-bow\n",
      "Early stopped at epoch: 13\n",
      "\n",
      "MVSA-Multiple: bert-pos-tfidf\n",
      "Early stopped at epoch: 13\n",
      "\n",
      "MVSA-Multiple: bert-pos-ner-tfidf\n",
      "Early stopped at epoch: 13\n",
      "\n"
     ]
    }
   ],
   "source": [
    "print('MVSA-Multiple: With original image labels\\n')\n",
    "# run model with all features data of MVSA-Multiple\n",
    "mvsa_multiple_hitories = []\n",
    "mvsa_multiple_score = []\n",
    "for i in range(len(feature_names)):\n",
    "    print('MVSA-Multiple:', feature_names[i])\n",
    "    history, scores = run_and_evaluate('multiple-' + feature_names[i], mvsa_multiple_features[i], mvsa_multiple_text_labels, verbose=0)\n",
    "    mvsa_multiple_hitories.append(history)\n",
    "    mvsa_multiple_score.append(scores)\n",
    "    print()\n",
    "    \n",
    "df_multiple_scores = pd.DataFrame(mvsa_multiple_score, columns=['Loss', 'Accuracy', 'F1-score'], index=feature_names)"
   ]
  },
  {
   "cell_type": "code",
   "execution_count": 20,
   "id": "77980d51",
   "metadata": {
    "execution": {
     "iopub.execute_input": "2022-06-30T19:21:10.719751Z",
     "iopub.status.busy": "2022-06-30T19:21:10.719472Z",
     "iopub.status.idle": "2022-06-30T19:21:10.725063Z",
     "shell.execute_reply": "2022-06-30T19:21:10.724234Z"
    },
    "papermill": {
     "duration": 0.017668,
     "end_time": "2022-06-30T19:21:10.726952",
     "exception": false,
     "start_time": "2022-06-30T19:21:10.709284",
     "status": "completed"
    },
    "tags": []
   },
   "outputs": [],
   "source": [
    "mvsa_average_scores = np.mean([mvsa_single_score, mvsa_multiple_score], axis=0)\n",
    "df_average_scores = pd.DataFrame(mvsa_average_scores, columns=['Loss', 'Accuracy', 'F1-score'], index=feature_names)"
   ]
  },
  {
   "cell_type": "code",
   "execution_count": 21,
   "id": "3ad07bf5",
   "metadata": {
    "execution": {
     "iopub.execute_input": "2022-06-30T19:21:10.745059Z",
     "iopub.status.busy": "2022-06-30T19:21:10.744802Z",
     "iopub.status.idle": "2022-06-30T19:21:10.847782Z",
     "shell.execute_reply": "2022-06-30T19:21:10.846723Z"
    },
    "papermill": {
     "duration": 0.114812,
     "end_time": "2022-06-30T19:21:10.850290",
     "exception": false,
     "start_time": "2022-06-30T19:21:10.735478",
     "status": "completed"
    },
    "tags": []
   },
   "outputs": [
    {
     "name": "stdout",
     "output_type": "stream",
     "text": [
      "With original image labels\n",
      "\n"
     ]
    },
    {
     "data": {
      "text/html": [
       "<table style=\"display:inline\"><tr><td style=\"text-align:center\">MVSA-Single</td><td style=\"text-align:center\">MVSA-Multiple</td><td style=\"text-align:center\">Average</td></tr><tr><td style=\"vertical-align:top\"> <style type=\"text/css\">\n",
       "#T_dfc2c_row0_col0, #T_dfc2c_row0_col1, #T_dfc2c_row0_col2 {\n",
       "  color: chartreuse;\n",
       "}\n",
       "#T_dfc2c_row2_col1, #T_dfc2c_row2_col2, #T_dfc2c_row4_col0 {\n",
       "  color: tomato;\n",
       "}\n",
       "</style>\n",
       "<table style=\"display:inline\" id=\"T_dfc2c_\">\n",
       "  <thead>\n",
       "    <tr>\n",
       "      <th class=\"blank level0\" >&nbsp;</th>\n",
       "      <th class=\"col_heading level0 col0\" >Loss</th>\n",
       "      <th class=\"col_heading level0 col1\" >Accuracy</th>\n",
       "      <th class=\"col_heading level0 col2\" >F1-score</th>\n",
       "    </tr>\n",
       "  </thead>\n",
       "  <tbody>\n",
       "    <tr>\n",
       "      <th id=\"T_dfc2c_level0_row0\" class=\"row_heading level0 row0\" >bert-base</th>\n",
       "      <td id=\"T_dfc2c_row0_col0\" class=\"data row0 col0\" >0.721703</td>\n",
       "      <td id=\"T_dfc2c_row0_col1\" class=\"data row0 col1\" >0.707657</td>\n",
       "      <td id=\"T_dfc2c_row0_col2\" class=\"data row0 col2\" >0.675780</td>\n",
       "    </tr>\n",
       "    <tr>\n",
       "      <th id=\"T_dfc2c_level0_row1\" class=\"row_heading level0 row1\" >bert-pos-bow</th>\n",
       "      <td id=\"T_dfc2c_row1_col0\" class=\"data row1 col0\" >0.728056</td>\n",
       "      <td id=\"T_dfc2c_row1_col1\" class=\"data row1 col1\" >0.700696</td>\n",
       "      <td id=\"T_dfc2c_row1_col2\" class=\"data row1 col2\" >0.669886</td>\n",
       "    </tr>\n",
       "    <tr>\n",
       "      <th id=\"T_dfc2c_level0_row2\" class=\"row_heading level0 row2\" >bert-pos-ner-bow</th>\n",
       "      <td id=\"T_dfc2c_row2_col0\" class=\"data row2 col0\" >0.733448</td>\n",
       "      <td id=\"T_dfc2c_row2_col1\" class=\"data row2 col1\" >0.689095</td>\n",
       "      <td id=\"T_dfc2c_row2_col2\" class=\"data row2 col2\" >0.657411</td>\n",
       "    </tr>\n",
       "    <tr>\n",
       "      <th id=\"T_dfc2c_level0_row3\" class=\"row_heading level0 row3\" >bert-pos-tfidf</th>\n",
       "      <td id=\"T_dfc2c_row3_col0\" class=\"data row3 col0\" >0.721896</td>\n",
       "      <td id=\"T_dfc2c_row3_col1\" class=\"data row3 col1\" >0.705336</td>\n",
       "      <td id=\"T_dfc2c_row3_col2\" class=\"data row3 col2\" >0.664209</td>\n",
       "    </tr>\n",
       "    <tr>\n",
       "      <th id=\"T_dfc2c_level0_row4\" class=\"row_heading level0 row4\" >bert-pos-ner-tfidf</th>\n",
       "      <td id=\"T_dfc2c_row4_col0\" class=\"data row4 col0\" >0.737369</td>\n",
       "      <td id=\"T_dfc2c_row4_col1\" class=\"data row4 col1\" >0.698376</td>\n",
       "      <td id=\"T_dfc2c_row4_col2\" class=\"data row4 col2\" >0.665181</td>\n",
       "    </tr>\n",
       "  </tbody>\n",
       "</table style=\"display:inline\">\n",
       "</td><td style=\"vertical-align:top\"> <style type=\"text/css\">\n",
       "#T_1a68e_row0_col1, #T_1a68e_row3_col2, #T_1a68e_row4_col0 {\n",
       "  color: tomato;\n",
       "}\n",
       "#T_1a68e_row1_col1, #T_1a68e_row1_col2, #T_1a68e_row3_col0 {\n",
       "  color: chartreuse;\n",
       "}\n",
       "</style>\n",
       "<table style=\"display:inline\" id=\"T_1a68e_\">\n",
       "  <thead>\n",
       "    <tr>\n",
       "      <th class=\"blank level0\" >&nbsp;</th>\n",
       "      <th class=\"col_heading level0 col0\" >Loss</th>\n",
       "      <th class=\"col_heading level0 col1\" >Accuracy</th>\n",
       "      <th class=\"col_heading level0 col2\" >F1-score</th>\n",
       "    </tr>\n",
       "  </thead>\n",
       "  <tbody>\n",
       "    <tr>\n",
       "      <th id=\"T_1a68e_level0_row0\" class=\"row_heading level0 row0\" >bert-base</th>\n",
       "      <td id=\"T_1a68e_row0_col0\" class=\"data row0 col0\" >0.804546</td>\n",
       "      <td id=\"T_1a68e_row0_col1\" class=\"data row0 col1\" >0.597680</td>\n",
       "      <td id=\"T_1a68e_row0_col2\" class=\"data row0 col2\" >0.540417</td>\n",
       "    </tr>\n",
       "    <tr>\n",
       "      <th id=\"T_1a68e_level0_row1\" class=\"row_heading level0 row1\" >bert-pos-bow</th>\n",
       "      <td id=\"T_1a68e_row1_col0\" class=\"data row1 col0\" >0.804690</td>\n",
       "      <td id=\"T_1a68e_row1_col1\" class=\"data row1 col1\" >0.607448</td>\n",
       "      <td id=\"T_1a68e_row1_col2\" class=\"data row1 col2\" >0.549103</td>\n",
       "    </tr>\n",
       "    <tr>\n",
       "      <th id=\"T_1a68e_level0_row2\" class=\"row_heading level0 row2\" >bert-pos-ner-bow</th>\n",
       "      <td id=\"T_1a68e_row2_col0\" class=\"data row2 col0\" >0.805016</td>\n",
       "      <td id=\"T_1a68e_row2_col1\" class=\"data row2 col1\" >0.602564</td>\n",
       "      <td id=\"T_1a68e_row2_col2\" class=\"data row2 col2\" >0.544780</td>\n",
       "    </tr>\n",
       "    <tr>\n",
       "      <th id=\"T_1a68e_level0_row3\" class=\"row_heading level0 row3\" >bert-pos-tfidf</th>\n",
       "      <td id=\"T_1a68e_row3_col0\" class=\"data row3 col0\" >0.803599</td>\n",
       "      <td id=\"T_1a68e_row3_col1\" class=\"data row3 col1\" >0.602564</td>\n",
       "      <td id=\"T_1a68e_row3_col2\" class=\"data row3 col2\" >0.537163</td>\n",
       "    </tr>\n",
       "    <tr>\n",
       "      <th id=\"T_1a68e_level0_row4\" class=\"row_heading level0 row4\" >bert-pos-ner-tfidf</th>\n",
       "      <td id=\"T_1a68e_row4_col0\" class=\"data row4 col0\" >0.808248</td>\n",
       "      <td id=\"T_1a68e_row4_col1\" class=\"data row4 col1\" >0.602564</td>\n",
       "      <td id=\"T_1a68e_row4_col2\" class=\"data row4 col2\" >0.546119</td>\n",
       "    </tr>\n",
       "  </tbody>\n",
       "</table style=\"display:inline\">\n",
       "</td><td style=\"vertical-align:top\"> <style type=\"text/css\">\n",
       "#T_25d01_row1_col1, #T_25d01_row1_col2, #T_25d01_row3_col0 {\n",
       "  color: chartreuse;\n",
       "}\n",
       "#T_25d01_row2_col1, #T_25d01_row3_col2, #T_25d01_row4_col0 {\n",
       "  color: tomato;\n",
       "}\n",
       "</style>\n",
       "<table style=\"display:inline\" id=\"T_25d01_\">\n",
       "  <thead>\n",
       "    <tr>\n",
       "      <th class=\"blank level0\" >&nbsp;</th>\n",
       "      <th class=\"col_heading level0 col0\" >Loss</th>\n",
       "      <th class=\"col_heading level0 col1\" >Accuracy</th>\n",
       "      <th class=\"col_heading level0 col2\" >F1-score</th>\n",
       "    </tr>\n",
       "  </thead>\n",
       "  <tbody>\n",
       "    <tr>\n",
       "      <th id=\"T_25d01_level0_row0\" class=\"row_heading level0 row0\" >bert-base</th>\n",
       "      <td id=\"T_25d01_row0_col0\" class=\"data row0 col0\" >0.763124</td>\n",
       "      <td id=\"T_25d01_row0_col1\" class=\"data row0 col1\" >0.652668</td>\n",
       "      <td id=\"T_25d01_row0_col2\" class=\"data row0 col2\" >0.608099</td>\n",
       "    </tr>\n",
       "    <tr>\n",
       "      <th id=\"T_25d01_level0_row1\" class=\"row_heading level0 row1\" >bert-pos-bow</th>\n",
       "      <td id=\"T_25d01_row1_col0\" class=\"data row1 col0\" >0.766373</td>\n",
       "      <td id=\"T_25d01_row1_col1\" class=\"data row1 col1\" >0.654072</td>\n",
       "      <td id=\"T_25d01_row1_col2\" class=\"data row1 col2\" >0.609494</td>\n",
       "    </tr>\n",
       "    <tr>\n",
       "      <th id=\"T_25d01_level0_row2\" class=\"row_heading level0 row2\" >bert-pos-ner-bow</th>\n",
       "      <td id=\"T_25d01_row2_col0\" class=\"data row2 col0\" >0.769232</td>\n",
       "      <td id=\"T_25d01_row2_col1\" class=\"data row2 col1\" >0.645830</td>\n",
       "      <td id=\"T_25d01_row2_col2\" class=\"data row2 col2\" >0.601096</td>\n",
       "    </tr>\n",
       "    <tr>\n",
       "      <th id=\"T_25d01_level0_row3\" class=\"row_heading level0 row3\" >bert-pos-tfidf</th>\n",
       "      <td id=\"T_25d01_row3_col0\" class=\"data row3 col0\" >0.762747</td>\n",
       "      <td id=\"T_25d01_row3_col1\" class=\"data row3 col1\" >0.653950</td>\n",
       "      <td id=\"T_25d01_row3_col2\" class=\"data row3 col2\" >0.600686</td>\n",
       "    </tr>\n",
       "    <tr>\n",
       "      <th id=\"T_25d01_level0_row4\" class=\"row_heading level0 row4\" >bert-pos-ner-tfidf</th>\n",
       "      <td id=\"T_25d01_row4_col0\" class=\"data row4 col0\" >0.772808</td>\n",
       "      <td id=\"T_25d01_row4_col1\" class=\"data row4 col1\" >0.650470</td>\n",
       "      <td id=\"T_25d01_row4_col2\" class=\"data row4 col2\" >0.605650</td>\n",
       "    </tr>\n",
       "  </tbody>\n",
       "</table style=\"display:inline\">\n",
       "</td></tr></table style=\"display:inline\">"
      ]
     },
     "metadata": {},
     "output_type": "display_data"
    }
   ],
   "source": [
    "print('With original image labels\\n')\n",
    "display_dataframes((style_dataframe(df_single_scores), style_dataframe(df_multiple_scores), style_dataframe(df_average_scores)), \n",
    "                   names=['MVSA-Single', 'MVSA-Multiple', 'Average'])"
   ]
  },
  {
   "cell_type": "markdown",
   "id": "a57f3739",
   "metadata": {
    "papermill": {
     "duration": 0.009068,
     "end_time": "2022-06-30T19:21:10.868566",
     "exception": false,
     "start_time": "2022-06-30T19:21:10.859498",
     "status": "completed"
    },
    "tags": []
   },
   "source": [
    "## With multimodal labels"
   ]
  },
  {
   "cell_type": "code",
   "execution_count": 22,
   "id": "521d6e09",
   "metadata": {
    "execution": {
     "iopub.execute_input": "2022-06-30T19:21:10.887537Z",
     "iopub.status.busy": "2022-06-30T19:21:10.887273Z",
     "iopub.status.idle": "2022-06-30T19:21:37.566080Z",
     "shell.execute_reply": "2022-06-30T19:21:37.564893Z"
    },
    "papermill": {
     "duration": 26.691247,
     "end_time": "2022-06-30T19:21:37.568673",
     "exception": false,
     "start_time": "2022-06-30T19:21:10.877426",
     "status": "completed"
    },
    "tags": []
   },
   "outputs": [
    {
     "name": "stdout",
     "output_type": "stream",
     "text": [
      "With multimodal labels\n",
      "MVSA-Single: bert-base\n",
      "Early stopped at epoch: 13\n",
      "\n",
      "MVSA-Single: bert-pos-bow\n",
      "Early stopped at epoch: 13\n",
      "\n",
      "MVSA-Single: bert-pos-ner-bow\n",
      "Early stopped at epoch: 13\n",
      "\n",
      "MVSA-Single: bert-pos-tfidf\n",
      "Early stopped at epoch: 13\n",
      "\n",
      "MVSA-Single: bert-pos-ner-tfidf\n",
      "Early stopped at epoch: 13\n",
      "\n"
     ]
    }
   ],
   "source": [
    "print('With multimodal labels')\n",
    "\n",
    "# run model with all features data of MVSA-Single\n",
    "mvsa_single_hitories2 = []\n",
    "mvsa_single_score2 = []\n",
    "for i in range(len(feature_names)):\n",
    "    print('MVSA-Single:', feature_names[i])\n",
    "    history, scores = run_and_evaluate('single-' + feature_names[i], mvsa_single_features[i], mvsa_single_multimodal_labels, verbose=0)\n",
    "    mvsa_single_hitories2.append(history)\n",
    "    mvsa_single_score2.append(scores)\n",
    "    print()\n",
    "    \n",
    "df_single_scores2 = pd.DataFrame(mvsa_single_score2, columns=['Loss', 'Accuracy', 'F1-score'], index=feature_names)"
   ]
  },
  {
   "cell_type": "code",
   "execution_count": 23,
   "id": "7cef3c24",
   "metadata": {
    "execution": {
     "iopub.execute_input": "2022-06-30T19:21:37.589817Z",
     "iopub.status.busy": "2022-06-30T19:21:37.589119Z",
     "iopub.status.idle": "2022-06-30T19:22:32.624167Z",
     "shell.execute_reply": "2022-06-30T19:22:32.623184Z"
    },
    "papermill": {
     "duration": 55.047564,
     "end_time": "2022-06-30T19:22:32.626212",
     "exception": false,
     "start_time": "2022-06-30T19:21:37.578648",
     "status": "completed"
    },
    "tags": []
   },
   "outputs": [
    {
     "name": "stdout",
     "output_type": "stream",
     "text": [
      "With multimodal labels\n",
      "MVSA-Multiple: bert-base\n",
      "Early stopped at epoch: 12\n",
      "\n",
      "MVSA-Multiple: bert-pos-bow\n",
      "Early stopped at epoch: 12\n",
      "\n",
      "MVSA-Multiple: bert-pos-ner-bow\n",
      "Early stopped at epoch: 12\n",
      "\n",
      "MVSA-Multiple: bert-pos-tfidf\n",
      "Early stopped at epoch: 12\n",
      "\n",
      "MVSA-Multiple: bert-pos-ner-tfidf\n",
      "Early stopped at epoch: 12\n",
      "\n"
     ]
    }
   ],
   "source": [
    "print('With multimodal labels')\n",
    "# run model with all features data of MVSA-Multiple\n",
    "mvsa_multiple_hitories2 = []\n",
    "mvsa_multiple_score2 = []\n",
    "for i in range(len(feature_names)):\n",
    "    print('MVSA-Multiple:', feature_names[i])\n",
    "    history, scores = run_and_evaluate('multiple-' + feature_names[i], mvsa_multiple_features[i], mvsa_multiple_multimodal_labels, verbose=0)\n",
    "    mvsa_multiple_hitories2.append(history)\n",
    "    mvsa_multiple_score2.append(scores)\n",
    "    print()\n",
    "    \n",
    "df_multiple_scores2 = pd.DataFrame(mvsa_multiple_score2, columns=['Loss', 'Accuracy', 'F1-score'], index=feature_names)"
   ]
  },
  {
   "cell_type": "code",
   "execution_count": 24,
   "id": "27ffde12",
   "metadata": {
    "execution": {
     "iopub.execute_input": "2022-06-30T19:22:32.697675Z",
     "iopub.status.busy": "2022-06-30T19:22:32.697006Z",
     "iopub.status.idle": "2022-06-30T19:22:32.703116Z",
     "shell.execute_reply": "2022-06-30T19:22:32.702007Z"
    },
    "papermill": {
     "duration": 0.068624,
     "end_time": "2022-06-30T19:22:32.705779",
     "exception": false,
     "start_time": "2022-06-30T19:22:32.637155",
     "status": "completed"
    },
    "tags": []
   },
   "outputs": [],
   "source": [
    "mvsa_average_scores2 = np.mean([mvsa_single_score2, mvsa_multiple_score2], axis=0)\n",
    "df_average_scores2 = pd.DataFrame(mvsa_average_scores2, columns=['Loss', 'Accuracy', 'F1-score'], index=feature_names)"
   ]
  },
  {
   "cell_type": "code",
   "execution_count": 25,
   "id": "66a37a40",
   "metadata": {
    "execution": {
     "iopub.execute_input": "2022-06-30T19:22:32.728839Z",
     "iopub.status.busy": "2022-06-30T19:22:32.728514Z",
     "iopub.status.idle": "2022-06-30T19:22:32.771829Z",
     "shell.execute_reply": "2022-06-30T19:22:32.769906Z"
    },
    "papermill": {
     "duration": 0.057356,
     "end_time": "2022-06-30T19:22:32.774496",
     "exception": false,
     "start_time": "2022-06-30T19:22:32.717140",
     "status": "completed"
    },
    "tags": []
   },
   "outputs": [
    {
     "name": "stdout",
     "output_type": "stream",
     "text": [
      "With multimodal labels\n",
      "\n"
     ]
    },
    {
     "data": {
      "text/html": [
       "<table style=\"display:inline\"><tr><td style=\"text-align:center\">MVSA-Single</td><td style=\"text-align:center\">MVSA-Multiple</td><td style=\"text-align:center\">Average</td></tr><tr><td style=\"vertical-align:top\"> <style type=\"text/css\">\n",
       "#T_22084_row0_col0, #T_22084_row0_col2, #T_22084_row2_col1 {\n",
       "  color: tomato;\n",
       "}\n",
       "#T_22084_row1_col1, #T_22084_row1_col2, #T_22084_row4_col0 {\n",
       "  color: chartreuse;\n",
       "}\n",
       "</style>\n",
       "<table style=\"display:inline\" id=\"T_22084_\">\n",
       "  <thead>\n",
       "    <tr>\n",
       "      <th class=\"blank level0\" >&nbsp;</th>\n",
       "      <th class=\"col_heading level0 col0\" >Loss</th>\n",
       "      <th class=\"col_heading level0 col1\" >Accuracy</th>\n",
       "      <th class=\"col_heading level0 col2\" >F1-score</th>\n",
       "    </tr>\n",
       "  </thead>\n",
       "  <tbody>\n",
       "    <tr>\n",
       "      <th id=\"T_22084_level0_row0\" class=\"row_heading level0 row0\" >bert-base</th>\n",
       "      <td id=\"T_22084_row0_col0\" class=\"data row0 col0\" >0.752630</td>\n",
       "      <td id=\"T_22084_row0_col1\" class=\"data row0 col1\" >0.675174</td>\n",
       "      <td id=\"T_22084_row0_col2\" class=\"data row0 col2\" >0.506405</td>\n",
       "    </tr>\n",
       "    <tr>\n",
       "      <th id=\"T_22084_level0_row1\" class=\"row_heading level0 row1\" >bert-pos-bow</th>\n",
       "      <td id=\"T_22084_row1_col0\" class=\"data row1 col0\" >0.747594</td>\n",
       "      <td id=\"T_22084_row1_col1\" class=\"data row1 col1\" >0.691415</td>\n",
       "      <td id=\"T_22084_row1_col2\" class=\"data row1 col2\" >0.528983</td>\n",
       "    </tr>\n",
       "    <tr>\n",
       "      <th id=\"T_22084_level0_row2\" class=\"row_heading level0 row2\" >bert-pos-ner-bow</th>\n",
       "      <td id=\"T_22084_row2_col0\" class=\"data row2 col0\" >0.740808</td>\n",
       "      <td id=\"T_22084_row2_col1\" class=\"data row2 col1\" >0.670534</td>\n",
       "      <td id=\"T_22084_row2_col2\" class=\"data row2 col2\" >0.509684</td>\n",
       "    </tr>\n",
       "    <tr>\n",
       "      <th id=\"T_22084_level0_row3\" class=\"row_heading level0 row3\" >bert-pos-tfidf</th>\n",
       "      <td id=\"T_22084_row3_col0\" class=\"data row3 col0\" >0.748026</td>\n",
       "      <td id=\"T_22084_row3_col1\" class=\"data row3 col1\" >0.677494</td>\n",
       "      <td id=\"T_22084_row3_col2\" class=\"data row3 col2\" >0.518530</td>\n",
       "    </tr>\n",
       "    <tr>\n",
       "      <th id=\"T_22084_level0_row4\" class=\"row_heading level0 row4\" >bert-pos-ner-tfidf</th>\n",
       "      <td id=\"T_22084_row4_col0\" class=\"data row4 col0\" >0.717518</td>\n",
       "      <td id=\"T_22084_row4_col1\" class=\"data row4 col1\" >0.686775</td>\n",
       "      <td id=\"T_22084_row4_col2\" class=\"data row4 col2\" >0.508679</td>\n",
       "    </tr>\n",
       "  </tbody>\n",
       "</table style=\"display:inline\">\n",
       "</td><td style=\"vertical-align:top\"> <style type=\"text/css\">\n",
       "#T_50753_row0_col1, #T_50753_row0_col2, #T_50753_row4_col0 {\n",
       "  color: tomato;\n",
       "}\n",
       "#T_50753_row2_col0, #T_50753_row3_col1, #T_50753_row3_col2 {\n",
       "  color: chartreuse;\n",
       "}\n",
       "</style>\n",
       "<table style=\"display:inline\" id=\"T_50753_\">\n",
       "  <thead>\n",
       "    <tr>\n",
       "      <th class=\"blank level0\" >&nbsp;</th>\n",
       "      <th class=\"col_heading level0 col0\" >Loss</th>\n",
       "      <th class=\"col_heading level0 col1\" >Accuracy</th>\n",
       "      <th class=\"col_heading level0 col2\" >F1-score</th>\n",
       "    </tr>\n",
       "  </thead>\n",
       "  <tbody>\n",
       "    <tr>\n",
       "      <th id=\"T_50753_level0_row0\" class=\"row_heading level0 row0\" >bert-base</th>\n",
       "      <td id=\"T_50753_row0_col0\" class=\"data row0 col0\" >0.772615</td>\n",
       "      <td id=\"T_50753_row0_col1\" class=\"data row0 col1\" >0.654457</td>\n",
       "      <td id=\"T_50753_row0_col2\" class=\"data row0 col2\" >0.438362</td>\n",
       "    </tr>\n",
       "    <tr>\n",
       "      <th id=\"T_50753_level0_row1\" class=\"row_heading level0 row1\" >bert-pos-bow</th>\n",
       "      <td id=\"T_50753_row1_col0\" class=\"data row1 col0\" >0.771116</td>\n",
       "      <td id=\"T_50753_row1_col1\" class=\"data row1 col1\" >0.657509</td>\n",
       "      <td id=\"T_50753_row1_col2\" class=\"data row1 col2\" >0.441000</td>\n",
       "    </tr>\n",
       "    <tr>\n",
       "      <th id=\"T_50753_level0_row2\" class=\"row_heading level0 row2\" >bert-pos-ner-bow</th>\n",
       "      <td id=\"T_50753_row2_col0\" class=\"data row2 col0\" >0.770156</td>\n",
       "      <td id=\"T_50753_row2_col1\" class=\"data row2 col1\" >0.658120</td>\n",
       "      <td id=\"T_50753_row2_col2\" class=\"data row2 col2\" >0.439741</td>\n",
       "    </tr>\n",
       "    <tr>\n",
       "      <th id=\"T_50753_level0_row3\" class=\"row_heading level0 row3\" >bert-pos-tfidf</th>\n",
       "      <td id=\"T_50753_row3_col0\" class=\"data row3 col0\" >0.772120</td>\n",
       "      <td id=\"T_50753_row3_col1\" class=\"data row3 col1\" >0.662393</td>\n",
       "      <td id=\"T_50753_row3_col2\" class=\"data row3 col2\" >0.452794</td>\n",
       "    </tr>\n",
       "    <tr>\n",
       "      <th id=\"T_50753_level0_row4\" class=\"row_heading level0 row4\" >bert-pos-ner-tfidf</th>\n",
       "      <td id=\"T_50753_row4_col0\" class=\"data row4 col0\" >0.773101</td>\n",
       "      <td id=\"T_50753_row4_col1\" class=\"data row4 col1\" >0.661783</td>\n",
       "      <td id=\"T_50753_row4_col2\" class=\"data row4 col2\" >0.448350</td>\n",
       "    </tr>\n",
       "  </tbody>\n",
       "</table style=\"display:inline\">\n",
       "</td><td style=\"vertical-align:top\"> <style type=\"text/css\">\n",
       "#T_983fc_row0_col0, #T_983fc_row0_col2, #T_983fc_row2_col1 {\n",
       "  color: tomato;\n",
       "}\n",
       "#T_983fc_row1_col1, #T_983fc_row3_col2, #T_983fc_row4_col0 {\n",
       "  color: chartreuse;\n",
       "}\n",
       "</style>\n",
       "<table style=\"display:inline\" id=\"T_983fc_\">\n",
       "  <thead>\n",
       "    <tr>\n",
       "      <th class=\"blank level0\" >&nbsp;</th>\n",
       "      <th class=\"col_heading level0 col0\" >Loss</th>\n",
       "      <th class=\"col_heading level0 col1\" >Accuracy</th>\n",
       "      <th class=\"col_heading level0 col2\" >F1-score</th>\n",
       "    </tr>\n",
       "  </thead>\n",
       "  <tbody>\n",
       "    <tr>\n",
       "      <th id=\"T_983fc_level0_row0\" class=\"row_heading level0 row0\" >bert-base</th>\n",
       "      <td id=\"T_983fc_row0_col0\" class=\"data row0 col0\" >0.762623</td>\n",
       "      <td id=\"T_983fc_row0_col1\" class=\"data row0 col1\" >0.664815</td>\n",
       "      <td id=\"T_983fc_row0_col2\" class=\"data row0 col2\" >0.472383</td>\n",
       "    </tr>\n",
       "    <tr>\n",
       "      <th id=\"T_983fc_level0_row1\" class=\"row_heading level0 row1\" >bert-pos-bow</th>\n",
       "      <td id=\"T_983fc_row1_col0\" class=\"data row1 col0\" >0.759355</td>\n",
       "      <td id=\"T_983fc_row1_col1\" class=\"data row1 col1\" >0.674462</td>\n",
       "      <td id=\"T_983fc_row1_col2\" class=\"data row1 col2\" >0.484991</td>\n",
       "    </tr>\n",
       "    <tr>\n",
       "      <th id=\"T_983fc_level0_row2\" class=\"row_heading level0 row2\" >bert-pos-ner-bow</th>\n",
       "      <td id=\"T_983fc_row2_col0\" class=\"data row2 col0\" >0.755482</td>\n",
       "      <td id=\"T_983fc_row2_col1\" class=\"data row2 col1\" >0.664327</td>\n",
       "      <td id=\"T_983fc_row2_col2\" class=\"data row2 col2\" >0.474712</td>\n",
       "    </tr>\n",
       "    <tr>\n",
       "      <th id=\"T_983fc_level0_row3\" class=\"row_heading level0 row3\" >bert-pos-tfidf</th>\n",
       "      <td id=\"T_983fc_row3_col0\" class=\"data row3 col0\" >0.760073</td>\n",
       "      <td id=\"T_983fc_row3_col1\" class=\"data row3 col1\" >0.669944</td>\n",
       "      <td id=\"T_983fc_row3_col2\" class=\"data row3 col2\" >0.485662</td>\n",
       "    </tr>\n",
       "    <tr>\n",
       "      <th id=\"T_983fc_level0_row4\" class=\"row_heading level0 row4\" >bert-pos-ner-tfidf</th>\n",
       "      <td id=\"T_983fc_row4_col0\" class=\"data row4 col0\" >0.745310</td>\n",
       "      <td id=\"T_983fc_row4_col1\" class=\"data row4 col1\" >0.674279</td>\n",
       "      <td id=\"T_983fc_row4_col2\" class=\"data row4 col2\" >0.478514</td>\n",
       "    </tr>\n",
       "  </tbody>\n",
       "</table style=\"display:inline\">\n",
       "</td></tr></table style=\"display:inline\">"
      ]
     },
     "metadata": {},
     "output_type": "display_data"
    }
   ],
   "source": [
    "print('With multimodal labels\\n')\n",
    "display_dataframes((style_dataframe(df_single_scores2), style_dataframe(df_multiple_scores2), style_dataframe(df_average_scores2)), \n",
    "                   names=['MVSA-Single', 'MVSA-Multiple', 'Average'])"
   ]
  },
  {
   "cell_type": "markdown",
   "id": "ac68262d",
   "metadata": {
    "papermill": {
     "duration": 0.010789,
     "end_time": "2022-06-30T19:22:32.796500",
     "exception": false,
     "start_time": "2022-06-30T19:22:32.785711",
     "status": "completed"
    },
    "tags": []
   },
   "source": [
    "# With merge MVSA data"
   ]
  },
  {
   "cell_type": "code",
   "execution_count": 26,
   "id": "f263b043",
   "metadata": {
    "execution": {
     "iopub.execute_input": "2022-06-30T19:22:32.819118Z",
     "iopub.status.busy": "2022-06-30T19:22:32.818471Z",
     "iopub.status.idle": "2022-06-30T19:23:27.251596Z",
     "shell.execute_reply": "2022-06-30T19:23:27.250066Z"
    },
    "papermill": {
     "duration": 54.447521,
     "end_time": "2022-06-30T19:23:27.254488",
     "exception": false,
     "start_time": "2022-06-30T19:22:32.806967",
     "status": "completed"
    },
    "tags": []
   },
   "outputs": [
    {
     "name": "stdout",
     "output_type": "stream",
     "text": [
      "With original image labels\n",
      "Both MVSA: bert-base\n",
      "Early stopped at epoch: 13\n",
      "\n",
      "Both MVSA: bert-pos-bow\n",
      "Early stopped at epoch: 11\n",
      "\n",
      "Both MVSA: bert-pos-ner-bow\n",
      "Early stopped at epoch: 11\n",
      "\n",
      "Both MVSA: bert-pos-tfidf\n",
      "Early stopped at epoch: 11\n",
      "\n",
      "Both MVSA: bert-pos-ner-tfidf\n",
      "Early stopped at epoch: 11\n",
      "\n"
     ]
    }
   ],
   "source": [
    "print('With original image labels')\n",
    "mvsa_hitories3 = []\n",
    "mvsa_score3 = []\n",
    "for i in range(len(feature_names)):\n",
    "    print('Both MVSA:', feature_names[i])\n",
    "    history, scores = run_and_evaluate('single-' + feature_names[i], mvsa_features[i], mvsa_image_labels, verbose=0)\n",
    "    mvsa_hitories3.append(history)\n",
    "    mvsa_score3.append(scores)\n",
    "    print()\n",
    "    \n",
    "df_scores3 = pd.DataFrame(mvsa_score3, columns=['Loss', 'Accuracy', 'F1-score'], index=feature_names)"
   ]
  },
  {
   "cell_type": "code",
   "execution_count": 27,
   "id": "77f3bce5",
   "metadata": {
    "execution": {
     "iopub.execute_input": "2022-06-30T19:23:27.281287Z",
     "iopub.status.busy": "2022-06-30T19:23:27.279817Z",
     "iopub.status.idle": "2022-06-30T19:24:18.877264Z",
     "shell.execute_reply": "2022-06-30T19:24:18.875305Z"
    },
    "papermill": {
     "duration": 51.612992,
     "end_time": "2022-06-30T19:24:18.879980",
     "exception": false,
     "start_time": "2022-06-30T19:23:27.266988",
     "status": "completed"
    },
    "tags": []
   },
   "outputs": [
    {
     "name": "stdout",
     "output_type": "stream",
     "text": [
      "With multimodal labels\n",
      "Both MVSA: bert-base\n",
      "Early stopped at epoch: 13\n",
      "\n",
      "Both MVSA: bert-pos-bow\n",
      "Early stopped at epoch: 11\n",
      "\n",
      "Both MVSA: bert-pos-ner-bow\n",
      "Early stopped at epoch: 11\n",
      "\n",
      "Both MVSA: bert-pos-tfidf\n",
      "Early stopped at epoch: 13\n",
      "\n",
      "Both MVSA: bert-pos-ner-tfidf\n",
      "Early stopped at epoch: 11\n",
      "\n"
     ]
    }
   ],
   "source": [
    "print('With multimodal labels')\n",
    "mvsa_hitories4 = []\n",
    "mvsa_score4 = []\n",
    "for i in range(len(feature_names)):\n",
    "    print('Both MVSA:', feature_names[i])\n",
    "    history, scores = run_and_evaluate('single-' + feature_names[i], mvsa_features[i], mvsa_multimodal_labels, verbose=0)\n",
    "    mvsa_hitories4.append(history)\n",
    "    mvsa_score4.append(scores)\n",
    "    print()\n",
    "    \n",
    "df_scores4 = pd.DataFrame(mvsa_score4, columns=['Loss', 'Accuracy', 'F1-score'], index=feature_names)"
   ]
  },
  {
   "cell_type": "code",
   "execution_count": 28,
   "id": "f60258fc",
   "metadata": {
    "execution": {
     "iopub.execute_input": "2022-06-30T19:24:18.906131Z",
     "iopub.status.busy": "2022-06-30T19:24:18.905837Z",
     "iopub.status.idle": "2022-06-30T19:24:18.938907Z",
     "shell.execute_reply": "2022-06-30T19:24:18.937449Z"
    },
    "papermill": {
     "duration": 0.048553,
     "end_time": "2022-06-30T19:24:18.941521",
     "exception": false,
     "start_time": "2022-06-30T19:24:18.892968",
     "status": "completed"
    },
    "tags": []
   },
   "outputs": [
    {
     "name": "stdout",
     "output_type": "stream",
     "text": [
      "With both MVSA merged together\n",
      "\n"
     ]
    },
    {
     "data": {
      "text/html": [
       "<table style=\"display:inline\"><tr><td style=\"text-align:center\">Original image labels</td><td style=\"text-align:center\">Multimodal labels</td></tr><tr><td style=\"vertical-align:top\"> <style type=\"text/css\">\n",
       "#T_d2acc_row0_col0, #T_d2acc_row1_col2, #T_d2acc_row4_col1 {\n",
       "  color: tomato;\n",
       "}\n",
       "#T_d2acc_row0_col2, #T_d2acc_row3_col0, #T_d2acc_row3_col1 {\n",
       "  color: chartreuse;\n",
       "}\n",
       "</style>\n",
       "<table style=\"display:inline\" id=\"T_d2acc_\">\n",
       "  <thead>\n",
       "    <tr>\n",
       "      <th class=\"blank level0\" >&nbsp;</th>\n",
       "      <th class=\"col_heading level0 col0\" >Loss</th>\n",
       "      <th class=\"col_heading level0 col1\" >Accuracy</th>\n",
       "      <th class=\"col_heading level0 col2\" >F1-score</th>\n",
       "    </tr>\n",
       "  </thead>\n",
       "  <tbody>\n",
       "    <tr>\n",
       "      <th id=\"T_d2acc_level0_row0\" class=\"row_heading level0 row0\" >bert-base</th>\n",
       "      <td id=\"T_d2acc_row0_col0\" class=\"data row0 col0\" >0.832428</td>\n",
       "      <td id=\"T_d2acc_row0_col1\" class=\"data row0 col1\" >0.590338</td>\n",
       "      <td id=\"T_d2acc_row0_col2\" class=\"data row0 col2\" >0.445536</td>\n",
       "    </tr>\n",
       "    <tr>\n",
       "      <th id=\"T_d2acc_level0_row1\" class=\"row_heading level0 row1\" >bert-pos-bow</th>\n",
       "      <td id=\"T_d2acc_row1_col0\" class=\"data row1 col0\" >0.828371</td>\n",
       "      <td id=\"T_d2acc_row1_col1\" class=\"data row1 col1\" >0.593237</td>\n",
       "      <td id=\"T_d2acc_row1_col2\" class=\"data row1 col2\" >0.405761</td>\n",
       "    </tr>\n",
       "    <tr>\n",
       "      <th id=\"T_d2acc_level0_row2\" class=\"row_heading level0 row2\" >bert-pos-ner-bow</th>\n",
       "      <td id=\"T_d2acc_row2_col0\" class=\"data row2 col0\" >0.828184</td>\n",
       "      <td id=\"T_d2acc_row2_col1\" class=\"data row2 col1\" >0.590821</td>\n",
       "      <td id=\"T_d2acc_row2_col2\" class=\"data row2 col2\" >0.412519</td>\n",
       "    </tr>\n",
       "    <tr>\n",
       "      <th id=\"T_d2acc_level0_row3\" class=\"row_heading level0 row3\" >bert-pos-tfidf</th>\n",
       "      <td id=\"T_d2acc_row3_col0\" class=\"data row3 col0\" >0.826166</td>\n",
       "      <td id=\"T_d2acc_row3_col1\" class=\"data row3 col1\" >0.597585</td>\n",
       "      <td id=\"T_d2acc_row3_col2\" class=\"data row3 col2\" >0.418983</td>\n",
       "    </tr>\n",
       "    <tr>\n",
       "      <th id=\"T_d2acc_level0_row4\" class=\"row_heading level0 row4\" >bert-pos-ner-tfidf</th>\n",
       "      <td id=\"T_d2acc_row4_col0\" class=\"data row4 col0\" >0.827540</td>\n",
       "      <td id=\"T_d2acc_row4_col1\" class=\"data row4 col1\" >0.588889</td>\n",
       "      <td id=\"T_d2acc_row4_col2\" class=\"data row4 col2\" >0.411790</td>\n",
       "    </tr>\n",
       "  </tbody>\n",
       "</table style=\"display:inline\">\n",
       "</td><td style=\"vertical-align:top\"> <style type=\"text/css\">\n",
       "#T_5ecfa_row0_col1, #T_5ecfa_row2_col0, #T_5ecfa_row2_col2 {\n",
       "  color: tomato;\n",
       "}\n",
       "#T_5ecfa_row1_col1, #T_5ecfa_row3_col0, #T_5ecfa_row3_col2 {\n",
       "  color: chartreuse;\n",
       "}\n",
       "</style>\n",
       "<table style=\"display:inline\" id=\"T_5ecfa_\">\n",
       "  <thead>\n",
       "    <tr>\n",
       "      <th class=\"blank level0\" >&nbsp;</th>\n",
       "      <th class=\"col_heading level0 col0\" >Loss</th>\n",
       "      <th class=\"col_heading level0 col1\" >Accuracy</th>\n",
       "      <th class=\"col_heading level0 col2\" >F1-score</th>\n",
       "    </tr>\n",
       "  </thead>\n",
       "  <tbody>\n",
       "    <tr>\n",
       "      <th id=\"T_5ecfa_level0_row0\" class=\"row_heading level0 row0\" >bert-base</th>\n",
       "      <td id=\"T_5ecfa_row0_col0\" class=\"data row0 col0\" >0.764947</td>\n",
       "      <td id=\"T_5ecfa_row0_col1\" class=\"data row0 col1\" >0.673913</td>\n",
       "      <td id=\"T_5ecfa_row0_col2\" class=\"data row0 col2\" >0.459577</td>\n",
       "    </tr>\n",
       "    <tr>\n",
       "      <th id=\"T_5ecfa_level0_row1\" class=\"row_heading level0 row1\" >bert-pos-bow</th>\n",
       "      <td id=\"T_5ecfa_row1_col0\" class=\"data row1 col0\" >0.769999</td>\n",
       "      <td id=\"T_5ecfa_row1_col1\" class=\"data row1 col1\" >0.683092</td>\n",
       "      <td id=\"T_5ecfa_row1_col2\" class=\"data row1 col2\" >0.417592</td>\n",
       "    </tr>\n",
       "    <tr>\n",
       "      <th id=\"T_5ecfa_level0_row2\" class=\"row_heading level0 row2\" >bert-pos-ner-bow</th>\n",
       "      <td id=\"T_5ecfa_row2_col0\" class=\"data row2 col0\" >0.778128</td>\n",
       "      <td id=\"T_5ecfa_row2_col1\" class=\"data row2 col1\" >0.681643</td>\n",
       "      <td id=\"T_5ecfa_row2_col2\" class=\"data row2 col2\" >0.406532</td>\n",
       "    </tr>\n",
       "    <tr>\n",
       "      <th id=\"T_5ecfa_level0_row3\" class=\"row_heading level0 row3\" >bert-pos-tfidf</th>\n",
       "      <td id=\"T_5ecfa_row3_col0\" class=\"data row3 col0\" >0.764610</td>\n",
       "      <td id=\"T_5ecfa_row3_col1\" class=\"data row3 col1\" >0.677778</td>\n",
       "      <td id=\"T_5ecfa_row3_col2\" class=\"data row3 col2\" >0.470799</td>\n",
       "    </tr>\n",
       "    <tr>\n",
       "      <th id=\"T_5ecfa_level0_row4\" class=\"row_heading level0 row4\" >bert-pos-ner-tfidf</th>\n",
       "      <td id=\"T_5ecfa_row4_col0\" class=\"data row4 col0\" >0.768630</td>\n",
       "      <td id=\"T_5ecfa_row4_col1\" class=\"data row4 col1\" >0.676328</td>\n",
       "      <td id=\"T_5ecfa_row4_col2\" class=\"data row4 col2\" >0.467827</td>\n",
       "    </tr>\n",
       "  </tbody>\n",
       "</table style=\"display:inline\">\n",
       "</td></tr></table style=\"display:inline\">"
      ]
     },
     "metadata": {},
     "output_type": "display_data"
    }
   ],
   "source": [
    "print('With both MVSA merged together\\n')\n",
    "display_dataframes((style_dataframe(df_scores3), style_dataframe(df_scores4)), \n",
    "                   names=['Original image labels', 'Multimodal labels'])"
   ]
  }
 ],
 "metadata": {
  "kernelspec": {
   "display_name": "Python 3",
   "language": "python",
   "name": "python3"
  },
  "language_info": {
   "codemirror_mode": {
    "name": "ipython",
    "version": 3
   },
   "file_extension": ".py",
   "mimetype": "text/x-python",
   "name": "python",
   "nbconvert_exporter": "python",
   "pygments_lexer": "ipython3",
   "version": "3.7.12"
  },
  "papermill": {
   "default_parameters": {},
   "duration": 299.494982,
   "end_time": "2022-06-30T19:24:21.773752",
   "environment_variables": {},
   "exception": null,
   "input_path": "__notebook__.ipynb",
   "output_path": "__notebook__.ipynb",
   "parameters": {},
   "start_time": "2022-06-30T19:19:22.278770",
   "version": "2.3.4"
  }
 },
 "nbformat": 4,
 "nbformat_minor": 5
}
