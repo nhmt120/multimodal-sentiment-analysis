{
 "cells": [
  {
   "cell_type": "code",
   "execution_count": 1,
   "id": "021763c8",
   "metadata": {
    "_cell_guid": "b1076dfc-b9ad-4769-8c92-a6c4dae69d19",
    "_uuid": "8f2839f25d086af736a60e9eeb907d3b93b6e0e5",
    "execution": {
     "iopub.execute_input": "2022-07-04T10:46:32.436550Z",
     "iopub.status.busy": "2022-07-04T10:46:32.435968Z",
     "iopub.status.idle": "2022-07-04T10:46:41.212540Z",
     "shell.execute_reply": "2022-07-04T10:46:41.211590Z"
    },
    "papermill": {
     "duration": 8.790754,
     "end_time": "2022-07-04T10:46:41.215113",
     "exception": false,
     "start_time": "2022-07-04T10:46:32.424359",
     "status": "completed"
    },
    "tags": []
   },
   "outputs": [],
   "source": [
    "SEED = 61\n",
    "\n",
    "\n",
    "import os\n",
    "import re\n",
    "import gc\n",
    "import h5py\n",
    "import torch\n",
    "import string\n",
    "import numpy as np\n",
    "import pandas as pd\n",
    "import tensorflow as tf\n",
    "import random as python_random\n",
    "import matplotlib.pyplot as plt\n",
    "import tensorflow_addons as tfa\n",
    "\n",
    "from tqdm import tqdm\n",
    "from nltk import tokenize\n",
    "\n",
    "from sklearn import preprocessing\n",
    "from sklearn.decomposition import PCA\n",
    "from keras import backend as K\n",
    "from keras import initializers,regularizers,constraints\n",
    "from keras.preprocessing.text import Tokenizer, text_to_word_sequence\n",
    "from keras.preprocessing.sequence import pad_sequences\n",
    "from keras.utils.np_utils import to_categorical\n",
    "from keras.layers import Reshape, Input, Embedding, Flatten, Dense, Dropout, BatchNormalization, Activation #, merge\n",
    "from keras.layers import TimeDistributed, LSTM, GRU, Bidirectional, Convolution1D, MaxPooling1D, MaxPooling2D\n",
    "from keras.layers.core import RepeatVector, Reshape\n",
    "from keras.callbacks import ModelCheckpoint, EarlyStopping, ReduceLROnPlateau\n",
    "from keras.models import Sequential, Model, load_model\n",
    "from sklearn.model_selection import cross_val_score\n",
    "from keras.initializers import Constant\n",
    "\n",
    "def reset_seeds():\n",
    "    np.random.seed(SEED) \n",
    "    python_random.seed(SEED)\n",
    "    tf.random.set_seed(SEED)\n",
    "    os.environ[\"PYTHONHASHSEED\"] = str(SEED)\n",
    "\n",
    "# from tensorflow.python.keras.layers import Layer, InputSpec, Lambda\n",
    "# from tensorflow.keras import Model\n",
    "# from attention import Attention_input1, Attention_input2\n",
    "# from keras.optimizers import SGD, RMSprop, Adagrad"
   ]
  },
  {
   "cell_type": "code",
   "execution_count": 2,
   "id": "11124dda",
   "metadata": {
    "execution": {
     "iopub.execute_input": "2022-07-04T10:46:41.235508Z",
     "iopub.status.busy": "2022-07-04T10:46:41.234217Z",
     "iopub.status.idle": "2022-07-04T10:46:41.242415Z",
     "shell.execute_reply": "2022-07-04T10:46:41.241562Z"
    },
    "papermill": {
     "duration": 0.020135,
     "end_time": "2022-07-04T10:46:41.244464",
     "exception": false,
     "start_time": "2022-07-04T10:46:41.224329",
     "status": "completed"
    },
    "tags": []
   },
   "outputs": [],
   "source": [
    "def read_hdf5(path):\n",
    "    read_file = h5py.File(path, 'r')\n",
    "    \n",
    "    feature_names = list(read_file.keys())\n",
    "    loaded_data = []\n",
    "    \n",
    "    for name in feature_names:\n",
    "        dataset = read_file[name][:]\n",
    "        if dataset.dtype == np.dtype('object'):\n",
    "            dataset = np.array([x.decode('UTF-8') for x in dataset])            \n",
    "        loaded_data.append((name, dataset))\n",
    "\n",
    "    return loaded_data\n",
    "\n",
    "def loadz(path):\n",
    "    data = np.load(path)['arr_0']\n",
    "    return data"
   ]
  },
  {
   "cell_type": "code",
   "execution_count": 3,
   "id": "89960cd8",
   "metadata": {
    "execution": {
     "iopub.execute_input": "2022-07-04T10:46:41.263427Z",
     "iopub.status.busy": "2022-07-04T10:46:41.262827Z",
     "iopub.status.idle": "2022-07-04T10:46:41.276944Z",
     "shell.execute_reply": "2022-07-04T10:46:41.276076Z"
    },
    "papermill": {
     "duration": 0.026188,
     "end_time": "2022-07-04T10:46:41.279245",
     "exception": false,
     "start_time": "2022-07-04T10:46:41.253057",
     "status": "completed"
    },
    "tags": []
   },
   "outputs": [],
   "source": [
    "def merge_mvsa(mvsa_single, mvsa_multiple):\n",
    "    mvsa = np.concatenate((mvsa_single, mvsa_multiple), axis=0)\n",
    "    return mvsa\n",
    "\n",
    "def load_mvsa_feature(feature_name, merge=False):\n",
    "    folder_path = os.path.join('../input/mvsa-features/', feature_name)\n",
    "    single_file = 'mvsa-single-{}.npz'.format(feature_name)\n",
    "    multiple_file = 'mvsa-multiple-{}.npz'.format(feature_name)\n",
    "    mvsa_single = loadz(os.path.join(folder_path, single_file))\n",
    "    mvsa_multiple = loadz(os.path.join(folder_path, multiple_file))\n",
    "    \n",
    "    if merge == True:\n",
    "        return merge_mvsa(mvsa_single, mvsa_multiple)\n",
    "    \n",
    "    return mvsa_single, mvsa_multiple\n",
    "\n",
    "def load_mvsa_texts(merge=False):\n",
    "    folder_path = '../input/mvsa-data'\n",
    "    file_paths = os.listdir(folder_path)\n",
    "    for path in file_paths:\n",
    "        file_name = os.path.split(path)[1]\n",
    "        if file_name.split('.')[1] == 'hdf5':\n",
    "            if file_name.split('-')[1] == 'single':\n",
    "                mvsa_single_texts_path = os.path.join(folder_path, path)\n",
    "            else:\n",
    "                mvsa_multiple_texts_path = os.path.join(folder_path, path)\n",
    "    \n",
    "    mvsa_single = read_hdf5(mvsa_single_texts_path)\n",
    "    mvsa_multiple = read_hdf5(mvsa_multiple_texts_path)\n",
    "    \n",
    "    for x in mvsa_single:\n",
    "        if x[0] == 'texts':\n",
    "            mvsa_single_texts = x[1]\n",
    "            \n",
    "    for x in mvsa_multiple:\n",
    "        if x[0] == 'texts':\n",
    "            mvsa_multiple_texts = x[1]\n",
    "    \n",
    "    if merge == True:\n",
    "        return merge_mvsa(mvsa_single_texts, mvsa_multiple_texts)\n",
    "    \n",
    "    return mvsa_single_texts, mvsa_multiple_texts\n",
    "\n",
    "def load_labels(path):\n",
    "    data = read_hdf5(path)\n",
    "\n",
    "    for x in data:\n",
    "        if x[0] == 'multimodal-labels':\n",
    "            labels = x[1]\n",
    "        if x[0] == 'text-labels':\n",
    "            text_labels = x[1]\n",
    "        if x[0] == 'image-labels':\n",
    "            image_labels = x[1]\n",
    "        \n",
    "    return labels, text_labels, image_labels"
   ]
  },
  {
   "cell_type": "code",
   "execution_count": 4,
   "id": "1e9d329f",
   "metadata": {
    "execution": {
     "iopub.execute_input": "2022-07-04T10:46:41.298475Z",
     "iopub.status.busy": "2022-07-04T10:46:41.297834Z",
     "iopub.status.idle": "2022-07-04T10:46:41.305415Z",
     "shell.execute_reply": "2022-07-04T10:46:41.304478Z"
    },
    "papermill": {
     "duration": 0.01938,
     "end_time": "2022-07-04T10:46:41.307430",
     "exception": false,
     "start_time": "2022-07-04T10:46:41.288050",
     "status": "completed"
    },
    "tags": []
   },
   "outputs": [],
   "source": [
    "def clean_text(txt):\n",
    "#     nonEnglish_regex = re.compile('[^a-zA-Z0-9\\\\?\\\\!\\\\,\\\\.@#\\\\+\\\\-=\\\\*\\'\\\"><&\\\\$%\\\\(\\\\)\\\\[\\\\]:;]+')\n",
    "#     hashtag_pattern = re.compile('#[a-zA-Z0-9]+')\n",
    "#     txt_hashtag = re.sub(hashtag_pattern, '', txt)\n",
    "    at_pattern = re.compile('@[a-zA-Z0-9]+')\n",
    "    http_pattern = re.compile(\"((http|ftp|https)://)(([a-zA-Z0-9\\._-]+\\.[a-zA-Z]{2,6})|([0-9]{1,3}\\.[0-9]{1,3}\\.[0-9]{1,3}\\.[0-9]{1,3}))(:[0-9]{1,4})*(/[a-zA-Z0-9\\&%_\\./-~-]*)?\")\n",
    "    punc_pattern = re.compile('[%s]' % re.escape(string.punctuation))\n",
    "    txt = re.sub(at_pattern, '<user>', txt)\n",
    "    txt = re.sub(http_pattern, '<link>', txt)\n",
    "    txt = re.sub(punc_pattern, '', txt) # only remove punc for word2vec not BERT\n",
    "\n",
    "    # as the data was crawled using Twitter API, it marked retweet data with RT <user> tag which has no meaning considering it in training\n",
    "    if txt.startswith('RT <user>'):\n",
    "        txt = ''.join(txt.split(':')[1:])    \n",
    "    txt = txt.strip()\n",
    "    \n",
    "    return txt\n",
    "\n",
    "def get_clean_texts(data):\n",
    "    cleaned_data = []\n",
    "    for line in data:\n",
    "        text = clean_text(line)\n",
    "        cleaned_data.append(text)\n",
    "    return cleaned_data"
   ]
  },
  {
   "cell_type": "code",
   "execution_count": 5,
   "id": "ebc066a3",
   "metadata": {
    "execution": {
     "iopub.execute_input": "2022-07-04T10:46:41.327363Z",
     "iopub.status.busy": "2022-07-04T10:46:41.327035Z",
     "iopub.status.idle": "2022-07-04T10:46:41.337077Z",
     "shell.execute_reply": "2022-07-04T10:46:41.336178Z"
    },
    "papermill": {
     "duration": 0.022605,
     "end_time": "2022-07-04T10:46:41.339008",
     "exception": false,
     "start_time": "2022-07-04T10:46:41.316403",
     "status": "completed"
    },
    "tags": []
   },
   "outputs": [],
   "source": [
    "def plot_metrics(history):\n",
    "    fig = plt.figure(figsize=(20, 5))\n",
    "\n",
    "    fig.add_subplot(1, 4, 1)\n",
    "    plt.plot(history.history['loss'])\n",
    "    plt.plot(history.history['val_loss'])\n",
    "    plt.title('LOSS')\n",
    "    plt.ylabel('loss')\n",
    "    plt.xlabel('epoch')\n",
    "    plt.legend(['train', 'val'], loc='best')\n",
    "\n",
    "    fig.add_subplot(1, 4, 2)\n",
    "    plt.plot(history.history['accuracy'])\n",
    "    plt.plot(history.history['val_accuracy'])\n",
    "    plt.title('ACCURACY')\n",
    "    plt.ylabel('accuracy')\n",
    "    plt.xlabel('epoch')\n",
    "    plt.legend(['train', 'val'], loc='best')\n",
    "\n",
    "    fig.add_subplot(1, 4, 3)\n",
    "    plt.plot(history.history['f1_macro'])\n",
    "    plt.plot(history.history['val_f1_macro'])\n",
    "    plt.title('Macro F1-SCORE')\n",
    "    plt.ylabel('f1-macro')\n",
    "    plt.xlabel('epoch')\n",
    "    plt.legend(['train', 'val'], loc='best')\n",
    "    \n",
    "    fig.add_subplot(1, 4, 4)\n",
    "    plt.plot(history.history['f1_weighted'])\n",
    "    plt.plot(history.history['val_f1_weighted'])\n",
    "    plt.title('Weighted F1-SCORE')\n",
    "    plt.ylabel('f1-weighted')\n",
    "    plt.xlabel('epoch')\n",
    "    plt.legend(['train', 'val'], loc='best')\n",
    "\n",
    "    plt.show()"
   ]
  },
  {
   "cell_type": "code",
   "execution_count": 6,
   "id": "4c927605",
   "metadata": {
    "execution": {
     "iopub.execute_input": "2022-07-04T10:46:41.358035Z",
     "iopub.status.busy": "2022-07-04T10:46:41.357776Z",
     "iopub.status.idle": "2022-07-04T10:46:41.363097Z",
     "shell.execute_reply": "2022-07-04T10:46:41.362197Z"
    },
    "papermill": {
     "duration": 0.017148,
     "end_time": "2022-07-04T10:46:41.365195",
     "exception": false,
     "start_time": "2022-07-04T10:46:41.348047",
     "status": "completed"
    },
    "tags": []
   },
   "outputs": [],
   "source": [
    "# e.g. validation_split=0.1 -----> 8:1:1 ratio of train, val, test\n",
    "def split_data(data, validation_split):\n",
    "    num_val = int(validation_split * data.shape[0])\n",
    "    data_train = data[:-(num_val*2)]\n",
    "    data_val = data[-(num_val*2):-(num_val)]\n",
    "    data_test = data[-num_val:]\n",
    "    return data_train, data_val, data_test"
   ]
  },
  {
   "cell_type": "code",
   "execution_count": 7,
   "id": "3b965ec5",
   "metadata": {
    "execution": {
     "iopub.execute_input": "2022-07-04T10:46:41.384629Z",
     "iopub.status.busy": "2022-07-04T10:46:41.383862Z",
     "iopub.status.idle": "2022-07-04T10:46:41.390955Z",
     "shell.execute_reply": "2022-07-04T10:46:41.390042Z"
    },
    "papermill": {
     "duration": 0.018783,
     "end_time": "2022-07-04T10:46:41.392973",
     "exception": false,
     "start_time": "2022-07-04T10:46:41.374190",
     "status": "completed"
    },
    "tags": []
   },
   "outputs": [],
   "source": [
    "def create_model_text(input_shape):\n",
    "    f1_macro = tfa.metrics.F1Score(num_classes=NUM_CLASSES, average='macro', name='f1_macro')\n",
    "    f1_weighted = tfa.metrics.F1Score(num_classes=NUM_CLASSES, average='weighted', name='f1_weighted')\n",
    "    \n",
    "    text_input = Input(shape=input_shape)\n",
    "    reshape_text = Reshape((1, -1)) (text_input)\n",
    "    lstm = LSTM(NUM_LSTM) (reshape_text)\n",
    "    outputs = Dense(NUM_CLASSES, activation='softmax') (lstm)\n",
    "    \n",
    "    model = Model(text_input, outputs)\n",
    "    model.compile(optimizer='adam', loss='categorical_crossentropy', metrics=['accuracy', f1_macro, f1_weighted])\n",
    "    \n",
    "    return model"
   ]
  },
  {
   "cell_type": "code",
   "execution_count": 8,
   "id": "c1a9ea3f",
   "metadata": {
    "execution": {
     "iopub.execute_input": "2022-07-04T10:46:41.412059Z",
     "iopub.status.busy": "2022-07-04T10:46:41.411780Z",
     "iopub.status.idle": "2022-07-04T10:46:41.417458Z",
     "shell.execute_reply": "2022-07-04T10:46:41.416575Z"
    },
    "papermill": {
     "duration": 0.017408,
     "end_time": "2022-07-04T10:46:41.419312",
     "exception": false,
     "start_time": "2022-07-04T10:46:41.401904",
     "status": "completed"
    },
    "tags": []
   },
   "outputs": [],
   "source": [
    "def evaluate_model(model, X_test, y_test, checkpoint=None, verbose=1):\n",
    "    if checkpoint is not None:\n",
    "        model = load_model('./model_checkpoint/{}.h5'.format(checkpoint))\n",
    "    \n",
    "    loss, acc, f1_macro, f1_weighted = model.evaluate(X_test, y_test, verbose=verbose)\n",
    "    \n",
    "    if verbose == 1:\n",
    "        print('Loss:', loss)\n",
    "        print('Accuracy:', acc)\n",
    "        print('Macro F1-score:', f1_macro)\n",
    "        print('Weighted F1-score:', f1_weighted)\n",
    "        \n",
    "    return loss, acc, f1_macro, f1_weighted"
   ]
  },
  {
   "cell_type": "code",
   "execution_count": 9,
   "id": "1a4a18e4",
   "metadata": {
    "execution": {
     "iopub.execute_input": "2022-07-04T10:46:41.438080Z",
     "iopub.status.busy": "2022-07-04T10:46:41.437484Z",
     "iopub.status.idle": "2022-07-04T10:46:41.446308Z",
     "shell.execute_reply": "2022-07-04T10:46:41.445507Z"
    },
    "papermill": {
     "duration": 0.020186,
     "end_time": "2022-07-04T10:46:41.448187",
     "exception": false,
     "start_time": "2022-07-04T10:46:41.428001",
     "status": "completed"
    },
    "tags": []
   },
   "outputs": [],
   "source": [
    "def run_and_evaluate(name, X, y, verbose=0):\n",
    "    y = le.fit_transform(y)\n",
    "    y = to_categorical(np.asarray(y))\n",
    "    \n",
    "    X_train, X_val, X_test = split_data(X, VALIDATION_SPLIT)\n",
    "    y_train, y_val, y_test = split_data(y, VALIDATION_SPLIT)\n",
    "    \n",
    "    model = create_model_text(X_train.shape[1:])\n",
    "    early_stopping = EarlyStopping(monitor='val_loss', min_delta=1e-4, patience=EARLY_STOPPING)\n",
    "    checkpoint = ModelCheckpoint('./model_checkpoint/{}.h5'.format(name), save_best_only=True, verbose=verbose)\n",
    "    \n",
    "    history = model.fit(X_train, y_train, validation_data=(X_val, y_val), \n",
    "                        epochs=EPOCHS, batch_size=BATCH_SIZE, verbose=verbose,\n",
    "                        callbacks=[checkpoint, early_stopping])\n",
    "    if verbose == 1:\n",
    "        best_epoch = np.argmin(history.history['val_loss'])\n",
    "        print('Checkpoint loaded at epoch:', best_epoch)\n",
    "    \n",
    "    return history, evaluate_model(model, X_test, y_test, checkpoint=name, verbose=verbose)"
   ]
  },
  {
   "cell_type": "code",
   "execution_count": 10,
   "id": "ad5e6487",
   "metadata": {
    "execution": {
     "iopub.execute_input": "2022-07-04T10:46:41.466747Z",
     "iopub.status.busy": "2022-07-04T10:46:41.466043Z",
     "iopub.status.idle": "2022-07-04T10:46:41.474732Z",
     "shell.execute_reply": "2022-07-04T10:46:41.473938Z"
    },
    "papermill": {
     "duration": 0.019831,
     "end_time": "2022-07-04T10:46:41.476556",
     "exception": false,
     "start_time": "2022-07-04T10:46:41.456725",
     "status": "completed"
    },
    "tags": []
   },
   "outputs": [],
   "source": [
    "def run_and_evaluate_w2v(name, X, y, verbose=0):\n",
    "    y = le.fit_transform(y)\n",
    "    y = to_categorical(np.asarray(y))\n",
    "    \n",
    "    X_train, X_val, X_test = split_data(X, VALIDATION_SPLIT)\n",
    "    y_train, y_val, y_test = split_data(y, VALIDATION_SPLIT)\n",
    "    \n",
    "    model = create_model_text_w2v(X_train.shape[1:])\n",
    "    early_stopping = EarlyStopping(monitor='val_loss', min_delta=1e-4, patience=EARLY_STOPPING)\n",
    "    checkpoint = ModelCheckpoint('./model_checkpoint/{}.h5'.format(name), save_best_only=True, verbose=verbose)\n",
    "    \n",
    "    history = model.fit(X_train, y_train, validation_data=(X_val, y_val), \n",
    "                        epochs=EPOCHS, batch_size=BATCH_SIZE, verbose=verbose,\n",
    "                        callbacks=[checkpoint, early_stopping])\n",
    "    \n",
    "    if verbose == 1:\n",
    "        best_epoch = np.argmin(history.history['val_loss'])\n",
    "        print('Checkpoint loaded at epoch:', best_epoch)\n",
    "    \n",
    "    return history, evaluate_model(model, X_test, y_test, checkpoint=name, verbose=verbose)"
   ]
  },
  {
   "cell_type": "code",
   "execution_count": 11,
   "id": "35b3f1c3",
   "metadata": {
    "execution": {
     "iopub.execute_input": "2022-07-04T10:46:41.495965Z",
     "iopub.status.busy": "2022-07-04T10:46:41.495001Z",
     "iopub.status.idle": "2022-07-04T10:46:41.501906Z",
     "shell.execute_reply": "2022-07-04T10:46:41.501059Z"
    },
    "papermill": {
     "duration": 0.018221,
     "end_time": "2022-07-04T10:46:41.503781",
     "exception": false,
     "start_time": "2022-07-04T10:46:41.485560",
     "status": "completed"
    },
    "tags": []
   },
   "outputs": [],
   "source": [
    "def style_dataframe(dataframe):\n",
    "    return dataframe.style.highlight_max(subset=['Accuracy', 'F1-macro', 'F1-weighted'], props='color:lawngreen', axis=0)\\\n",
    "                          .highlight_min(subset=['Accuracy', 'F1-macro', 'F1-weighted'], props='color:tomato', axis=0)\\\n",
    "                          .highlight_min(subset=['Loss'], props='color:lawngreen', axis=0)\\\n",
    "                          .highlight_max(subset=['Loss'], props='color:tomato', axis=0)"
   ]
  },
  {
   "cell_type": "code",
   "execution_count": 12,
   "id": "44312e6b",
   "metadata": {
    "execution": {
     "iopub.execute_input": "2022-07-04T10:46:41.522977Z",
     "iopub.status.busy": "2022-07-04T10:46:41.522119Z",
     "iopub.status.idle": "2022-07-04T10:46:41.530206Z",
     "shell.execute_reply": "2022-07-04T10:46:41.529367Z"
    },
    "papermill": {
     "duration": 0.019687,
     "end_time": "2022-07-04T10:46:41.532237",
     "exception": false,
     "start_time": "2022-07-04T10:46:41.512550",
     "status": "completed"
    },
    "tags": []
   },
   "outputs": [],
   "source": [
    "from IPython.display import display_html\n",
    "\n",
    "def display_dataframes(dfs, names=[], index=False):\n",
    "    def to_df(x):\n",
    "        if isinstance(x, pd.Series):\n",
    "            return pd.DataFrame(x)\n",
    "        else:\n",
    "            return x\n",
    "    html_str = ''\n",
    "    if names:\n",
    "        html_str += ('<tr>' + \n",
    "                     ''.join(f'<td style=\"text-align:center\">{name}</td>' for name in names) + \n",
    "                     '</tr>')\n",
    "    html_str += ('<tr>' + \n",
    "                 ''.join(f'<td style=\"vertical-align:top\"> {to_df(df).to_html()}</td>' \n",
    "                         for df in dfs) + \n",
    "                 '</tr>')\n",
    "    html_str = f'<table>{html_str}</table>'\n",
    "    html_str = html_str.replace('table','table style=\"display:inline\"')\n",
    "    display_html(html_str, raw=True)"
   ]
  },
  {
   "cell_type": "markdown",
   "id": "af58ae7f",
   "metadata": {
    "papermill": {
     "duration": 0.008485,
     "end_time": "2022-07-04T10:46:41.549592",
     "exception": false,
     "start_time": "2022-07-04T10:46:41.541107",
     "status": "completed"
    },
    "tags": []
   },
   "source": [
    "# Load GloVe"
   ]
  },
  {
   "cell_type": "code",
   "execution_count": 13,
   "id": "cd59b2b8",
   "metadata": {
    "execution": {
     "iopub.execute_input": "2022-07-04T10:46:41.569207Z",
     "iopub.status.busy": "2022-07-04T10:46:41.568456Z",
     "iopub.status.idle": "2022-07-04T10:46:41.573185Z",
     "shell.execute_reply": "2022-07-04T10:46:41.572451Z"
    },
    "papermill": {
     "duration": 0.01661,
     "end_time": "2022-07-04T10:46:41.575065",
     "exception": false,
     "start_time": "2022-07-04T10:46:41.558455",
     "status": "completed"
    },
    "tags": []
   },
   "outputs": [],
   "source": [
    "MAX_LENGTH = 280 # as in twitter'S word limit\n",
    "path_to_glove_file = '../input/glovetwitter27b100d/glove.twitter.27B.100d.txt'"
   ]
  },
  {
   "cell_type": "code",
   "execution_count": 14,
   "id": "d3290ba3",
   "metadata": {
    "execution": {
     "iopub.execute_input": "2022-07-04T10:46:41.594232Z",
     "iopub.status.busy": "2022-07-04T10:46:41.593662Z",
     "iopub.status.idle": "2022-07-04T10:46:42.238359Z",
     "shell.execute_reply": "2022-07-04T10:46:42.237357Z"
    },
    "papermill": {
     "duration": 0.657304,
     "end_time": "2022-07-04T10:46:42.241269",
     "exception": false,
     "start_time": "2022-07-04T10:46:41.583965",
     "status": "completed"
    },
    "tags": []
   },
   "outputs": [],
   "source": [
    "mvsa_single_texts, mvsa_multiple_texts = load_mvsa_texts()\n",
    "\n",
    "mvsa_single_texts = get_clean_texts(mvsa_single_texts)\n",
    "mvsa_multiple_texts = get_clean_texts(mvsa_multiple_texts)"
   ]
  },
  {
   "cell_type": "code",
   "execution_count": 15,
   "id": "5dda576a",
   "metadata": {
    "execution": {
     "iopub.execute_input": "2022-07-04T10:46:42.260056Z",
     "iopub.status.busy": "2022-07-04T10:46:42.259726Z",
     "iopub.status.idle": "2022-07-04T10:46:48.715779Z",
     "shell.execute_reply": "2022-07-04T10:46:48.714775Z"
    },
    "papermill": {
     "duration": 6.468079,
     "end_time": "2022-07-04T10:46:48.718300",
     "exception": false,
     "start_time": "2022-07-04T10:46:42.250221",
     "status": "completed"
    },
    "tags": []
   },
   "outputs": [
    {
     "name": "stderr",
     "output_type": "stream",
     "text": [
      "2022-07-04 10:46:42.350836: I tensorflow/stream_executor/cuda/cuda_gpu_executor.cc:937] successful NUMA node read from SysFS had negative value (-1), but there must be at least one NUMA node, so returning NUMA node zero\n",
      "2022-07-04 10:46:42.351932: I tensorflow/stream_executor/cuda/cuda_gpu_executor.cc:937] successful NUMA node read from SysFS had negative value (-1), but there must be at least one NUMA node, so returning NUMA node zero\n",
      "2022-07-04 10:46:42.352655: I tensorflow/stream_executor/cuda/cuda_gpu_executor.cc:937] successful NUMA node read from SysFS had negative value (-1), but there must be at least one NUMA node, so returning NUMA node zero\n",
      "2022-07-04 10:46:42.353494: I tensorflow/core/platform/cpu_feature_guard.cc:142] This TensorFlow binary is optimized with oneAPI Deep Neural Network Library (oneDNN) to use the following CPU instructions in performance-critical operations:  AVX2 AVX512F FMA\n",
      "To enable them in other operations, rebuild TensorFlow with the appropriate compiler flags.\n",
      "2022-07-04 10:46:42.353795: I tensorflow/stream_executor/cuda/cuda_gpu_executor.cc:937] successful NUMA node read from SysFS had negative value (-1), but there must be at least one NUMA node, so returning NUMA node zero\n",
      "2022-07-04 10:46:42.354489: I tensorflow/stream_executor/cuda/cuda_gpu_executor.cc:937] successful NUMA node read from SysFS had negative value (-1), but there must be at least one NUMA node, so returning NUMA node zero\n",
      "2022-07-04 10:46:42.355118: I tensorflow/stream_executor/cuda/cuda_gpu_executor.cc:937] successful NUMA node read from SysFS had negative value (-1), but there must be at least one NUMA node, so returning NUMA node zero\n",
      "2022-07-04 10:46:47.450672: I tensorflow/stream_executor/cuda/cuda_gpu_executor.cc:937] successful NUMA node read from SysFS had negative value (-1), but there must be at least one NUMA node, so returning NUMA node zero\n",
      "2022-07-04 10:46:47.451897: I tensorflow/stream_executor/cuda/cuda_gpu_executor.cc:937] successful NUMA node read from SysFS had negative value (-1), but there must be at least one NUMA node, so returning NUMA node zero\n",
      "2022-07-04 10:46:47.453579: I tensorflow/stream_executor/cuda/cuda_gpu_executor.cc:937] successful NUMA node read from SysFS had negative value (-1), but there must be at least one NUMA node, so returning NUMA node zero\n",
      "2022-07-04 10:46:47.455072: I tensorflow/core/common_runtime/gpu/gpu_device.cc:1510] Created device /job:localhost/replica:0/task:0/device:GPU:0 with 15047 MB memory:  -> device: 0, name: Tesla P100-PCIE-16GB, pci bus id: 0000:00:04.0, compute capability: 6.0\n",
      "2022-07-04 10:46:48.213361: I tensorflow/compiler/mlir/mlir_graph_optimization_pass.cc:185] None of the MLIR Optimization Passes are enabled (registered 2)\n"
     ]
    }
   ],
   "source": [
    "from tensorflow.keras.layers import TextVectorization\n",
    "\n",
    "vectorizer = TextVectorization(max_tokens=20000, output_sequence_length=MAX_LENGTH)\n",
    "\n",
    "text_ds_single = tf.data.Dataset.from_tensor_slices(mvsa_single_texts).batch(128)\n",
    "text_ds_multiple = tf.data.Dataset.from_tensor_slices(mvsa_multiple_texts).batch(128)\n",
    "\n",
    "vectorizer.adapt(text_ds_single)\n",
    "vectorizer.adapt(text_ds_multiple)"
   ]
  },
  {
   "cell_type": "code",
   "execution_count": 16,
   "id": "61b8f754",
   "metadata": {
    "execution": {
     "iopub.execute_input": "2022-07-04T10:46:48.738372Z",
     "iopub.status.busy": "2022-07-04T10:46:48.737555Z",
     "iopub.status.idle": "2022-07-04T10:46:48.795387Z",
     "shell.execute_reply": "2022-07-04T10:46:48.794562Z"
    },
    "papermill": {
     "duration": 0.069897,
     "end_time": "2022-07-04T10:46:48.797480",
     "exception": false,
     "start_time": "2022-07-04T10:46:48.727583",
     "status": "completed"
    },
    "tags": []
   },
   "outputs": [],
   "source": [
    "voc = vectorizer.get_vocabulary()\n",
    "word_index = dict(zip(voc, range(len(voc))))"
   ]
  },
  {
   "cell_type": "code",
   "execution_count": 17,
   "id": "4e9acfcf",
   "metadata": {
    "execution": {
     "iopub.execute_input": "2022-07-04T10:46:48.816804Z",
     "iopub.status.busy": "2022-07-04T10:46:48.815993Z",
     "iopub.status.idle": "2022-07-04T10:47:29.529647Z",
     "shell.execute_reply": "2022-07-04T10:47:29.528586Z"
    },
    "papermill": {
     "duration": 40.735495,
     "end_time": "2022-07-04T10:47:29.541779",
     "exception": false,
     "start_time": "2022-07-04T10:46:48.806284",
     "status": "completed"
    },
    "tags": []
   },
   "outputs": [
    {
     "name": "stdout",
     "output_type": "stream",
     "text": [
      "Found 1193515 word vectors.\n"
     ]
    }
   ],
   "source": [
    "embeddings_index = {}\n",
    "with open(path_to_glove_file) as f:\n",
    "    for line in f:\n",
    "        word, coefs = line.split(maxsplit=1)\n",
    "        coefs = np.fromstring(coefs, \"f\", sep=\" \")\n",
    "        embeddings_index[word] = coefs\n",
    "\n",
    "print(\"Found %s word vectors.\" % len(embeddings_index))"
   ]
  },
  {
   "cell_type": "code",
   "execution_count": 18,
   "id": "447af677",
   "metadata": {
    "execution": {
     "iopub.execute_input": "2022-07-04T10:47:29.562087Z",
     "iopub.status.busy": "2022-07-04T10:47:29.561784Z",
     "iopub.status.idle": "2022-07-04T10:47:29.616112Z",
     "shell.execute_reply": "2022-07-04T10:47:29.614945Z"
    },
    "papermill": {
     "duration": 0.066849,
     "end_time": "2022-07-04T10:47:29.618567",
     "exception": false,
     "start_time": "2022-07-04T10:47:29.551718",
     "status": "completed"
    },
    "tags": []
   },
   "outputs": [
    {
     "name": "stdout",
     "output_type": "stream",
     "text": [
      "Converted 12710 words (7290 misses)\n"
     ]
    }
   ],
   "source": [
    "num_tokens = len(voc) + 2\n",
    "embedding_dim = 100\n",
    "hits = 0\n",
    "misses = 0\n",
    "\n",
    "# Prepare embedding matrix\n",
    "embedding_matrix = np.zeros((num_tokens, embedding_dim))\n",
    "for word, i in word_index.items():\n",
    "    embedding_vector = embeddings_index.get(word)\n",
    "    if embedding_vector is not None:\n",
    "        # Words not found in embedding index will be all-zeros.\n",
    "        # This includes the representation for \"padding\" and \"OOV\"\n",
    "        embedding_matrix[i] = embedding_vector\n",
    "        hits += 1\n",
    "    else:\n",
    "        misses += 1\n",
    "print(\"Converted %d words (%d misses)\" % (hits, misses))\n",
    "\n",
    "embedding_layer_glove = Embedding(\n",
    "    num_tokens,\n",
    "    embedding_dim,\n",
    "    embeddings_initializer= Constant(embedding_matrix),\n",
    "    trainable=False,\n",
    ")\n",
    "\n",
    "def create_model_text_w2v(input_shape):\n",
    "    f1_macro = tfa.metrics.F1Score(num_classes=NUM_CLASSES, average='macro', name='f1_macro')\n",
    "    f1_weighted = tfa.metrics.F1Score(num_classes=NUM_CLASSES, average='weighted', name='f1_weighted')\n",
    "    \n",
    "    text_input = Input(shape=(None,), dtype=\"int64\")\n",
    "    embedded_sequences = embedding_layer_glove(text_input)\n",
    "    lstm = LSTM(NUM_LSTM) (embedded_sequences)\n",
    "    outputs = Dense(NUM_CLASSES, activation='softmax') (lstm)\n",
    "    \n",
    "    model = Model(text_input, outputs)\n",
    "    model.compile(optimizer='adam', loss='categorical_crossentropy', metrics=['accuracy', f1_macro, f1_weighted])\n",
    "    \n",
    "    return model"
   ]
  },
  {
   "cell_type": "code",
   "execution_count": 19,
   "id": "6396495c",
   "metadata": {
    "execution": {
     "iopub.execute_input": "2022-07-04T10:47:29.637990Z",
     "iopub.status.busy": "2022-07-04T10:47:29.637720Z",
     "iopub.status.idle": "2022-07-04T10:47:29.864077Z",
     "shell.execute_reply": "2022-07-04T10:47:29.862957Z"
    },
    "papermill": {
     "duration": 0.238831,
     "end_time": "2022-07-04T10:47:29.866699",
     "exception": false,
     "start_time": "2022-07-04T10:47:29.627868",
     "status": "completed"
    },
    "tags": []
   },
   "outputs": [],
   "source": [
    "mvsa_single_texts = vectorizer(np.array([[s] for s in mvsa_single_texts])).numpy()\n",
    "mvsa_multiple_texts = vectorizer(np.array([[s] for s in mvsa_multiple_texts])).numpy()"
   ]
  },
  {
   "cell_type": "code",
   "execution_count": 20,
   "id": "0e287f5f",
   "metadata": {
    "execution": {
     "iopub.execute_input": "2022-07-04T10:47:29.887254Z",
     "iopub.status.busy": "2022-07-04T10:47:29.885657Z",
     "iopub.status.idle": "2022-07-04T10:47:29.907677Z",
     "shell.execute_reply": "2022-07-04T10:47:29.906915Z"
    },
    "papermill": {
     "duration": 0.034176,
     "end_time": "2022-07-04T10:47:29.909844",
     "exception": false,
     "start_time": "2022-07-04T10:47:29.875668",
     "status": "completed"
    },
    "tags": []
   },
   "outputs": [],
   "source": [
    "mvsa_texts = merge_mvsa(mvsa_single_texts, mvsa_multiple_texts)"
   ]
  },
  {
   "cell_type": "markdown",
   "id": "ea4b41a3",
   "metadata": {
    "papermill": {
     "duration": 0.008861,
     "end_time": "2022-07-04T10:47:29.927662",
     "exception": false,
     "start_time": "2022-07-04T10:47:29.918801",
     "status": "completed"
    },
    "tags": []
   },
   "source": [
    "# Load features data"
   ]
  },
  {
   "cell_type": "code",
   "execution_count": 21,
   "id": "89f17c80",
   "metadata": {
    "execution": {
     "iopub.execute_input": "2022-07-04T10:47:29.946983Z",
     "iopub.status.busy": "2022-07-04T10:47:29.946703Z",
     "iopub.status.idle": "2022-07-04T10:47:30.647266Z",
     "shell.execute_reply": "2022-07-04T10:47:30.646264Z"
    },
    "papermill": {
     "duration": 0.713256,
     "end_time": "2022-07-04T10:47:30.649663",
     "exception": false,
     "start_time": "2022-07-04T10:47:29.936407",
     "status": "completed"
    },
    "tags": []
   },
   "outputs": [],
   "source": [
    "mvsa_single_bert_base, mvsa_multiple_bert_base = load_mvsa_feature('bert-base')\n",
    "mvsa_single_pos_bow, mvsa_multiple_pos_bow = load_mvsa_feature('pos-bow')\n",
    "mvsa_single_pos_tfidf, mvsa_multiple_pos_tfidf = load_mvsa_feature('pos-tfidf')\n",
    "mvsa_single_ner_bow, mvsa_multiple_ner_bow = load_mvsa_feature('ner-bow')\n",
    "mvsa_single_ner_tfidf, mvsa_multiple_ner_tfidf = load_mvsa_feature('ner-tfidf')"
   ]
  },
  {
   "cell_type": "code",
   "execution_count": 22,
   "id": "ab9e4b53",
   "metadata": {
    "execution": {
     "iopub.execute_input": "2022-07-04T10:47:30.669571Z",
     "iopub.status.busy": "2022-07-04T10:47:30.669010Z",
     "iopub.status.idle": "2022-07-04T10:47:30.704163Z",
     "shell.execute_reply": "2022-07-04T10:47:30.703200Z"
    },
    "papermill": {
     "duration": 0.047476,
     "end_time": "2022-07-04T10:47:30.706509",
     "exception": false,
     "start_time": "2022-07-04T10:47:30.659033",
     "status": "completed"
    },
    "tags": []
   },
   "outputs": [],
   "source": [
    "mvsa_bert_base = merge_mvsa(mvsa_single_bert_base, mvsa_multiple_bert_base)\n",
    "mvsa_pos_bow = merge_mvsa(mvsa_single_pos_bow, mvsa_multiple_pos_bow)\n",
    "mvsa_pos_tfidf = merge_mvsa(mvsa_single_pos_tfidf, mvsa_multiple_pos_tfidf)\n",
    "mvsa_ner_bow = merge_mvsa(mvsa_single_ner_bow, mvsa_multiple_ner_bow)\n",
    "mvsa_ner_tfidf = merge_mvsa(mvsa_single_ner_tfidf, mvsa_multiple_ner_tfidf)"
   ]
  },
  {
   "cell_type": "code",
   "execution_count": 23,
   "id": "8b0ff344",
   "metadata": {
    "execution": {
     "iopub.execute_input": "2022-07-04T10:47:30.725757Z",
     "iopub.status.busy": "2022-07-04T10:47:30.725231Z",
     "iopub.status.idle": "2022-07-04T10:47:30.848614Z",
     "shell.execute_reply": "2022-07-04T10:47:30.847672Z"
    },
    "papermill": {
     "duration": 0.135389,
     "end_time": "2022-07-04T10:47:30.850868",
     "exception": false,
     "start_time": "2022-07-04T10:47:30.715479",
     "status": "completed"
    },
    "tags": []
   },
   "outputs": [],
   "source": [
    "mvsa_single_multimodal_labels, mvsa_single_text_labels, mvsa_single_image_labels = load_labels('../input/mvsa-features/labels/mvsa-single-labels.hdf5')\n",
    "mvsa_multiple_multimodal_labels, mvsa_multiple_text_labels, mvsa_multiple_image_labels = load_labels('../input/mvsa-features/labels/mvsa-multiple-labels.hdf5')\n",
    "\n",
    "mvsa_multimodal_labels = merge_mvsa(mvsa_single_multimodal_labels, mvsa_multiple_multimodal_labels)\n",
    "mvsa_text_labels = merge_mvsa(mvsa_single_text_labels, mvsa_multiple_text_labels)\n",
    "mvsa_image_labels = merge_mvsa(mvsa_single_image_labels, mvsa_multiple_image_labels)"
   ]
  },
  {
   "cell_type": "code",
   "execution_count": 24,
   "id": "d45ced50",
   "metadata": {
    "execution": {
     "iopub.execute_input": "2022-07-04T10:47:30.870639Z",
     "iopub.status.busy": "2022-07-04T10:47:30.870355Z",
     "iopub.status.idle": "2022-07-04T10:47:30.878853Z",
     "shell.execute_reply": "2022-07-04T10:47:30.877846Z"
    },
    "papermill": {
     "duration": 0.02034,
     "end_time": "2022-07-04T10:47:30.880809",
     "exception": false,
     "start_time": "2022-07-04T10:47:30.860469",
     "status": "completed"
    },
    "tags": []
   },
   "outputs": [],
   "source": [
    "le = preprocessing.LabelEncoder()\n",
    "le.fit(mvsa_multimodal_labels)\n",
    "NUM_CLASSES = len(le.classes_) # =3"
   ]
  },
  {
   "cell_type": "code",
   "execution_count": 25,
   "id": "f1bd93c2",
   "metadata": {
    "execution": {
     "iopub.execute_input": "2022-07-04T10:47:30.900014Z",
     "iopub.status.busy": "2022-07-04T10:47:30.899756Z",
     "iopub.status.idle": "2022-07-04T10:47:31.228230Z",
     "shell.execute_reply": "2022-07-04T10:47:31.227206Z"
    },
    "papermill": {
     "duration": 0.340967,
     "end_time": "2022-07-04T10:47:31.230665",
     "exception": false,
     "start_time": "2022-07-04T10:47:30.889698",
     "status": "completed"
    },
    "tags": []
   },
   "outputs": [],
   "source": [
    "feature_names = ['glove', 'bert-base', 'bert-pos-bow', 'bert-pos-ner-bow', 'bert-pos-tfidf', 'bert-pos-ner-tfidf']\n",
    "\n",
    "mvsa_single_features = [mvsa_single_texts,\n",
    "                        mvsa_single_bert_base, \n",
    "                        np.concatenate((mvsa_single_bert_base, mvsa_single_pos_bow), axis=1), \n",
    "                        np.concatenate((mvsa_single_bert_base, mvsa_single_pos_bow, mvsa_single_ner_bow), axis=1),\n",
    "                        np.concatenate((mvsa_single_bert_base, mvsa_single_pos_tfidf), axis=1), \n",
    "                        np.concatenate((mvsa_single_bert_base, mvsa_single_pos_tfidf, mvsa_single_ner_tfidf), axis=1)]\n",
    "\n",
    "mvsa_multiple_features = [mvsa_multiple_texts,\n",
    "                          mvsa_multiple_bert_base, \n",
    "                          np.concatenate((mvsa_multiple_bert_base, mvsa_multiple_pos_bow), axis=1), \n",
    "                          np.concatenate((mvsa_multiple_bert_base, mvsa_multiple_pos_bow, mvsa_multiple_ner_bow), axis=1),\n",
    "                          np.concatenate((mvsa_multiple_bert_base, mvsa_multiple_pos_tfidf), axis=1), \n",
    "                          np.concatenate((mvsa_multiple_bert_base, mvsa_multiple_pos_tfidf, mvsa_multiple_ner_tfidf), axis=1)]\n",
    "\n",
    "mvsa_features = [mvsa_texts,\n",
    "                 mvsa_bert_base,\n",
    "                 np.concatenate((mvsa_bert_base, mvsa_pos_bow), axis=1), \n",
    "                 np.concatenate((mvsa_bert_base, mvsa_pos_bow, mvsa_ner_bow), axis=1),\n",
    "                 np.concatenate((mvsa_bert_base, mvsa_pos_tfidf), axis=1), \n",
    "                 np.concatenate((mvsa_bert_base, mvsa_pos_tfidf, mvsa_ner_bow), axis=1)]"
   ]
  },
  {
   "cell_type": "markdown",
   "id": "88af204b",
   "metadata": {
    "papermill": {
     "duration": 0.008765,
     "end_time": "2022-07-04T10:47:31.248518",
     "exception": false,
     "start_time": "2022-07-04T10:47:31.239753",
     "status": "completed"
    },
    "tags": []
   },
   "source": [
    "# Run models and Evalution display"
   ]
  },
  {
   "cell_type": "code",
   "execution_count": 26,
   "id": "aee8f15c",
   "metadata": {
    "execution": {
     "iopub.execute_input": "2022-07-04T10:47:31.267633Z",
     "iopub.status.busy": "2022-07-04T10:47:31.267316Z",
     "iopub.status.idle": "2022-07-04T10:47:31.274221Z",
     "shell.execute_reply": "2022-07-04T10:47:31.273123Z"
    },
    "papermill": {
     "duration": 0.019068,
     "end_time": "2022-07-04T10:47:31.276543",
     "exception": false,
     "start_time": "2022-07-04T10:47:31.257475",
     "status": "completed"
    },
    "tags": []
   },
   "outputs": [],
   "source": [
    "reset_seeds()\n",
    "EPOCHS = 100\n",
    "BATCH_SIZE = 128\n",
    "VALIDATION_SPLIT = 0.1\n",
    "EARLY_STOPPING = 10\n",
    "NUM_LSTM = 128"
   ]
  },
  {
   "cell_type": "markdown",
   "id": "0ff2f3b5",
   "metadata": {
    "papermill": {
     "duration": 0.008754,
     "end_time": "2022-07-04T10:47:31.294330",
     "exception": false,
     "start_time": "2022-07-04T10:47:31.285576",
     "status": "completed"
    },
    "tags": []
   },
   "source": [
    "## With original text labels"
   ]
  },
  {
   "cell_type": "code",
   "execution_count": 27,
   "id": "d4983947",
   "metadata": {
    "execution": {
     "iopub.execute_input": "2022-07-04T10:47:31.313267Z",
     "iopub.status.busy": "2022-07-04T10:47:31.312987Z",
     "iopub.status.idle": "2022-07-04T10:50:36.349271Z",
     "shell.execute_reply": "2022-07-04T10:50:36.346229Z"
    },
    "papermill": {
     "duration": 185.050735,
     "end_time": "2022-07-04T10:50:36.353919",
     "exception": false,
     "start_time": "2022-07-04T10:47:31.303184",
     "status": "completed"
    },
    "tags": []
   },
   "outputs": [
    {
     "name": "stdout",
     "output_type": "stream",
     "text": [
      "MVSA-Single: With original text labels\n",
      "\n",
      "MVSA-Single: glove\n"
     ]
    },
    {
     "name": "stderr",
     "output_type": "stream",
     "text": [
      "2022-07-04 10:47:34.523728: I tensorflow/stream_executor/cuda/cuda_dnn.cc:369] Loaded cuDNN version 8005\n"
     ]
    },
    {
     "name": "stdout",
     "output_type": "stream",
     "text": [
      "\n",
      "MVSA-Single: bert-base\n",
      "\n",
      "MVSA-Single: bert-pos-bow\n",
      "\n",
      "MVSA-Single: bert-pos-ner-bow\n",
      "\n",
      "MVSA-Single: bert-pos-tfidf\n",
      "\n",
      "MVSA-Single: bert-pos-ner-tfidf\n",
      "\n",
      "MVSA-Multiple: With original text labels\n",
      "\n",
      "MVSA-Multiple: glove\n",
      "\n",
      "MVSA-Multiple: bert-base\n",
      "\n",
      "MVSA-Multiple: bert-pos-bow\n",
      "\n",
      "MVSA-Multiple: bert-pos-ner-bow\n",
      "\n",
      "MVSA-Multiple: bert-pos-tfidf\n",
      "\n",
      "MVSA-Multiple: bert-pos-ner-tfidf\n",
      "\n"
     ]
    }
   ],
   "source": [
    "print('MVSA-Single: With original text labels\\n')\n",
    "mvsa_single_histories = []\n",
    "mvsa_single_scores = []\n",
    "for i in range(len(feature_names)):\n",
    "    print('MVSA-Single:', feature_names[i])\n",
    "    if feature_names[i] == 'glove':\n",
    "        history, score = run_and_evaluate_w2v('single-OL-' + feature_names[i], mvsa_single_features[i], mvsa_single_text_labels, verbose=0)\n",
    "    else:\n",
    "        history, score = run_and_evaluate('single-OL-' + feature_names[i], mvsa_single_features[i], mvsa_single_text_labels, verbose=0)\n",
    "    mvsa_single_histories.append(history)\n",
    "    mvsa_single_scores.append(score)\n",
    "    print()\n",
    "df_single_scores = pd.DataFrame(mvsa_single_scores, columns=['Loss', 'Accuracy', 'F1-macro', 'F1-weighted'], index=feature_names)\n",
    "\n",
    "print('MVSA-Multiple: With original text labels\\n')\n",
    "mvsa_multiple_histories = []\n",
    "mvsa_multiple_scores = []\n",
    "for i in range(len(feature_names)):\n",
    "    print('MVSA-Multiple:', feature_names[i])\n",
    "    if feature_names[i] == 'glove':\n",
    "        history, score = run_and_evaluate_w2v('multiple-OL-' + feature_names[i], mvsa_multiple_features[i], mvsa_multiple_text_labels, verbose=0)\n",
    "    else:\n",
    "        history, score = run_and_evaluate('multiple-OL-' + feature_names[i], mvsa_multiple_features[i], mvsa_multiple_text_labels, verbose=0)\n",
    "    mvsa_multiple_histories.append(history)\n",
    "    mvsa_multiple_scores.append(score)\n",
    "    print()\n",
    "df_multiple_scores = pd.DataFrame(mvsa_multiple_scores, columns=['Loss', 'Accuracy', 'F1-macro', 'F1-weighted'], index=feature_names)\n",
    "\n",
    "mvsa_average_scores = np.mean([mvsa_single_scores, mvsa_multiple_scores], axis=0)\n",
    "df_average_scores = pd.DataFrame(mvsa_average_scores, columns=['Loss', 'Accuracy', 'F1-macro', 'F1-weighted'], index=feature_names)"
   ]
  },
  {
   "cell_type": "markdown",
   "id": "c4a69061",
   "metadata": {
    "papermill": {
     "duration": 0.015374,
     "end_time": "2022-07-04T10:50:36.387256",
     "exception": false,
     "start_time": "2022-07-04T10:50:36.371882",
     "status": "completed"
    },
    "tags": []
   },
   "source": [
    "## With multimodal labels"
   ]
  },
  {
   "cell_type": "code",
   "execution_count": 28,
   "id": "d1fafbd7",
   "metadata": {
    "execution": {
     "iopub.execute_input": "2022-07-04T10:50:36.420929Z",
     "iopub.status.busy": "2022-07-04T10:50:36.420607Z",
     "iopub.status.idle": "2022-07-04T10:52:29.625030Z",
     "shell.execute_reply": "2022-07-04T10:52:29.622908Z"
    },
    "papermill": {
     "duration": 113.223896,
     "end_time": "2022-07-04T10:52:29.628276",
     "exception": false,
     "start_time": "2022-07-04T10:50:36.404380",
     "status": "completed"
    },
    "tags": []
   },
   "outputs": [
    {
     "name": "stdout",
     "output_type": "stream",
     "text": [
      "MVSA-Single: With multimodal labels\n",
      "MVSA-Single: glove\n",
      "\n",
      "MVSA-Single: bert-base\n",
      "\n",
      "MVSA-Single: bert-pos-bow\n",
      "\n",
      "MVSA-Single: bert-pos-ner-bow\n",
      "\n",
      "MVSA-Single: bert-pos-tfidf\n",
      "\n",
      "MVSA-Single: bert-pos-ner-tfidf\n",
      "\n",
      "MVSA-Multiple: With multimodal labels\n",
      "MVSA-Multiple: glove\n",
      "\n",
      "MVSA-Multiple: bert-base\n",
      "\n",
      "MVSA-Multiple: bert-pos-bow\n",
      "\n",
      "MVSA-Multiple: bert-pos-ner-bow\n",
      "\n",
      "MVSA-Multiple: bert-pos-tfidf\n",
      "\n",
      "MVSA-Multiple: bert-pos-ner-tfidf\n",
      "\n"
     ]
    }
   ],
   "source": [
    "print('MVSA-Single: With multimodal labels')\n",
    "mvsa_single_histories2 = []\n",
    "mvsa_single_scores2 = []\n",
    "for i in range(len(feature_names)):\n",
    "    print('MVSA-Single:', feature_names[i])\n",
    "    history, score = run_and_evaluate('single-ML-' + feature_names[i], mvsa_single_features[i], mvsa_single_multimodal_labels, verbose=0)\n",
    "    mvsa_single_histories2.append(history)\n",
    "    mvsa_single_scores2.append(score)\n",
    "    print()\n",
    "df_single_scores2 = pd.DataFrame(mvsa_single_scores2, columns=['Loss', 'Accuracy', 'F1-macro', 'F1-weighted'], index=feature_names)\n",
    "\n",
    "print('MVSA-Multiple: With multimodal labels')\n",
    "mvsa_multiple_histories2 = []\n",
    "mvsa_multiple_scores2 = []\n",
    "for i in range(len(feature_names)):\n",
    "    print('MVSA-Multiple:', feature_names[i])\n",
    "    history, score = run_and_evaluate('multiple-ML-' + feature_names[i], mvsa_multiple_features[i], mvsa_multiple_multimodal_labels, verbose=0)\n",
    "    mvsa_multiple_histories2.append(history)\n",
    "    mvsa_multiple_scores2.append(score)\n",
    "    print()\n",
    "df_multiple_scores2 = pd.DataFrame(mvsa_multiple_scores2, columns=['Loss', 'Accuracy', 'F1-macro', 'F1-weighted'], index=feature_names)\n",
    "\n",
    "mvsa_average_scores2 = np.mean([mvsa_single_scores2, mvsa_multiple_scores2], axis=0)\n",
    "df_average_scores2 = pd.DataFrame(mvsa_average_scores2, columns=['Loss', 'Accuracy', 'F1-macro', 'F1-weighted'], index=feature_names)"
   ]
  },
  {
   "cell_type": "markdown",
   "id": "da44a495",
   "metadata": {
    "papermill": {
     "duration": 0.010776,
     "end_time": "2022-07-04T10:52:29.650876",
     "exception": false,
     "start_time": "2022-07-04T10:52:29.640100",
     "status": "completed"
    },
    "tags": []
   },
   "source": [
    "# With merge MVSA data"
   ]
  },
  {
   "cell_type": "code",
   "execution_count": 29,
   "id": "4690daa5",
   "metadata": {
    "execution": {
     "iopub.execute_input": "2022-07-04T10:52:29.673348Z",
     "iopub.status.busy": "2022-07-04T10:52:29.673036Z",
     "iopub.status.idle": "2022-07-04T10:55:20.283278Z",
     "shell.execute_reply": "2022-07-04T10:55:20.281070Z"
    },
    "papermill": {
     "duration": 170.62479,
     "end_time": "2022-07-04T10:55:20.286343",
     "exception": false,
     "start_time": "2022-07-04T10:52:29.661553",
     "status": "completed"
    },
    "tags": []
   },
   "outputs": [
    {
     "name": "stdout",
     "output_type": "stream",
     "text": [
      "Both MVSA: With original image labels\n",
      "Both MVSA: glove\n",
      "\n",
      "Both MVSA: bert-base\n",
      "\n",
      "Both MVSA: bert-pos-bow\n",
      "\n",
      "Both MVSA: bert-pos-ner-bow\n",
      "\n",
      "Both MVSA: bert-pos-tfidf\n",
      "\n",
      "Both MVSA: bert-pos-ner-tfidf\n",
      "\n",
      "Both MVSA: With multimodal labels\n",
      "Both MVSA: glove\n",
      "\n",
      "Both MVSA: bert-base\n",
      "\n",
      "Both MVSA: bert-pos-bow\n",
      "\n",
      "Both MVSA: bert-pos-ner-bow\n",
      "\n",
      "Both MVSA: bert-pos-tfidf\n",
      "\n",
      "Both MVSA: bert-pos-ner-tfidf\n",
      "\n"
     ]
    }
   ],
   "source": [
    "print('Both MVSA: With original image labels')\n",
    "mvsa_histories3 = []\n",
    "mvsa_scores3 = []\n",
    "for i in range(len(feature_names)):\n",
    "    print('Both MVSA:', feature_names[i])\n",
    "    history, score = run_and_evaluate('merge-OL-' + feature_names[i], mvsa_features[i], mvsa_image_labels, verbose=0)\n",
    "    mvsa_histories3.append(history)\n",
    "    mvsa_scores3.append(score)\n",
    "    print()\n",
    "df_scores3 = pd.DataFrame(mvsa_scores3, columns=['Loss', 'Accuracy', 'F1-macro', 'F1-weighted'], index=feature_names)\n",
    "\n",
    "print('Both MVSA: With multimodal labels')\n",
    "mvsa_histories4 = []\n",
    "mvsa_scores4 = []\n",
    "for i in range(len(feature_names)):\n",
    "    print('Both MVSA:', feature_names[i])\n",
    "    history, score = run_and_evaluate('merge-ML-' + feature_names[i], mvsa_features[i], mvsa_multimodal_labels, verbose=0)\n",
    "    mvsa_histories4.append(history)\n",
    "    mvsa_scores4.append(score)\n",
    "    print()\n",
    "df_scores4 = pd.DataFrame(mvsa_scores4, columns=['Loss', 'Accuracy', 'F1-macro', 'F1-weighted'], index=feature_names)"
   ]
  },
  {
   "cell_type": "markdown",
   "id": "06b6f3f6",
   "metadata": {
    "papermill": {
     "duration": 0.011694,
     "end_time": "2022-07-04T10:55:20.310224",
     "exception": false,
     "start_time": "2022-07-04T10:55:20.298530",
     "status": "completed"
    },
    "tags": []
   },
   "source": [
    "# Display results"
   ]
  },
  {
   "cell_type": "code",
   "execution_count": 30,
   "id": "2854feaf",
   "metadata": {
    "execution": {
     "iopub.execute_input": "2022-07-04T10:55:20.334942Z",
     "iopub.status.busy": "2022-07-04T10:55:20.334056Z",
     "iopub.status.idle": "2022-07-04T10:55:20.447584Z",
     "shell.execute_reply": "2022-07-04T10:55:20.446035Z"
    },
    "papermill": {
     "duration": 0.128684,
     "end_time": "2022-07-04T10:55:20.450123",
     "exception": false,
     "start_time": "2022-07-04T10:55:20.321439",
     "status": "completed"
    },
    "tags": []
   },
   "outputs": [
    {
     "name": "stdout",
     "output_type": "stream",
     "text": [
      "With original image labels\n",
      "\n"
     ]
    },
    {
     "data": {
      "text/html": [
       "<table style=\"display:inline\"><tr><td style=\"text-align:center\">MVSA-Single</td><td style=\"text-align:center\">MVSA-Multiple</td><td style=\"text-align:center\">Average</td></tr><tr><td style=\"vertical-align:top\"> <style type=\"text/css\">\n",
       "#T_d88f5_row0_col0, #T_d88f5_row0_col1, #T_d88f5_row0_col2, #T_d88f5_row0_col3 {\n",
       "  color: tomato;\n",
       "}\n",
       "#T_d88f5_row2_col1, #T_d88f5_row2_col2, #T_d88f5_row2_col3, #T_d88f5_row3_col0, #T_d88f5_row3_col1 {\n",
       "  color: lawngreen;\n",
       "}\n",
       "</style>\n",
       "<table style=\"display:inline\" id=\"T_d88f5_\">\n",
       "  <thead>\n",
       "    <tr>\n",
       "      <th class=\"blank level0\" >&nbsp;</th>\n",
       "      <th class=\"col_heading level0 col0\" >Loss</th>\n",
       "      <th class=\"col_heading level0 col1\" >Accuracy</th>\n",
       "      <th class=\"col_heading level0 col2\" >F1-macro</th>\n",
       "      <th class=\"col_heading level0 col3\" >F1-weighted</th>\n",
       "    </tr>\n",
       "  </thead>\n",
       "  <tbody>\n",
       "    <tr>\n",
       "      <th id=\"T_d88f5_level0_row0\" class=\"row_heading level0 row0\" >glove</th>\n",
       "      <td id=\"T_d88f5_row0_col0\" class=\"data row0 col0\" >1.028946</td>\n",
       "      <td id=\"T_d88f5_row0_col1\" class=\"data row0 col1\" >0.543237</td>\n",
       "      <td id=\"T_d88f5_row0_col2\" class=\"data row0 col2\" >0.234674</td>\n",
       "      <td id=\"T_d88f5_row0_col3\" class=\"data row0 col3\" >0.382452</td>\n",
       "    </tr>\n",
       "    <tr>\n",
       "      <th id=\"T_d88f5_level0_row1\" class=\"row_heading level0 row1\" >bert-base</th>\n",
       "      <td id=\"T_d88f5_row1_col0\" class=\"data row1 col0\" >0.717933</td>\n",
       "      <td id=\"T_d88f5_row1_col1\" class=\"data row1 col1\" >0.702882</td>\n",
       "      <td id=\"T_d88f5_row1_col2\" class=\"data row1 col2\" >0.661008</td>\n",
       "      <td id=\"T_d88f5_row1_col3\" class=\"data row1 col3\" >0.703945</td>\n",
       "    </tr>\n",
       "    <tr>\n",
       "      <th id=\"T_d88f5_level0_row2\" class=\"row_heading level0 row2\" >bert-pos-bow</th>\n",
       "      <td id=\"T_d88f5_row2_col0\" class=\"data row2 col0\" >0.716988</td>\n",
       "      <td id=\"T_d88f5_row2_col1\" class=\"data row2 col1\" >0.707317</td>\n",
       "      <td id=\"T_d88f5_row2_col2\" class=\"data row2 col2\" >0.673035</td>\n",
       "      <td id=\"T_d88f5_row2_col3\" class=\"data row2 col3\" >0.711062</td>\n",
       "    </tr>\n",
       "    <tr>\n",
       "      <th id=\"T_d88f5_level0_row3\" class=\"row_heading level0 row3\" >bert-pos-ner-bow</th>\n",
       "      <td id=\"T_d88f5_row3_col0\" class=\"data row3 col0\" >0.709070</td>\n",
       "      <td id=\"T_d88f5_row3_col1\" class=\"data row3 col1\" >0.707317</td>\n",
       "      <td id=\"T_d88f5_row3_col2\" class=\"data row3 col2\" >0.664784</td>\n",
       "      <td id=\"T_d88f5_row3_col3\" class=\"data row3 col3\" >0.708843</td>\n",
       "    </tr>\n",
       "    <tr>\n",
       "      <th id=\"T_d88f5_level0_row4\" class=\"row_heading level0 row4\" >bert-pos-tfidf</th>\n",
       "      <td id=\"T_d88f5_row4_col0\" class=\"data row4 col0\" >0.728907</td>\n",
       "      <td id=\"T_d88f5_row4_col1\" class=\"data row4 col1\" >0.700665</td>\n",
       "      <td id=\"T_d88f5_row4_col2\" class=\"data row4 col2\" >0.658922</td>\n",
       "      <td id=\"T_d88f5_row4_col3\" class=\"data row4 col3\" >0.700590</td>\n",
       "    </tr>\n",
       "    <tr>\n",
       "      <th id=\"T_d88f5_level0_row5\" class=\"row_heading level0 row5\" >bert-pos-ner-tfidf</th>\n",
       "      <td id=\"T_d88f5_row5_col0\" class=\"data row5 col0\" >0.716965</td>\n",
       "      <td id=\"T_d88f5_row5_col1\" class=\"data row5 col1\" >0.689579</td>\n",
       "      <td id=\"T_d88f5_row5_col2\" class=\"data row5 col2\" >0.651602</td>\n",
       "      <td id=\"T_d88f5_row5_col3\" class=\"data row5 col3\" >0.692019</td>\n",
       "    </tr>\n",
       "  </tbody>\n",
       "</table style=\"display:inline\">\n",
       "</td><td style=\"vertical-align:top\"> <style type=\"text/css\">\n",
       "#T_3fe79_row0_col0, #T_3fe79_row0_col1, #T_3fe79_row0_col2, #T_3fe79_row0_col3 {\n",
       "  color: tomato;\n",
       "}\n",
       "#T_3fe79_row2_col0, #T_3fe79_row2_col1, #T_3fe79_row2_col3, #T_3fe79_row5_col2 {\n",
       "  color: lawngreen;\n",
       "}\n",
       "</style>\n",
       "<table style=\"display:inline\" id=\"T_3fe79_\">\n",
       "  <thead>\n",
       "    <tr>\n",
       "      <th class=\"blank level0\" >&nbsp;</th>\n",
       "      <th class=\"col_heading level0 col0\" >Loss</th>\n",
       "      <th class=\"col_heading level0 col1\" >Accuracy</th>\n",
       "      <th class=\"col_heading level0 col2\" >F1-macro</th>\n",
       "      <th class=\"col_heading level0 col3\" >F1-weighted</th>\n",
       "    </tr>\n",
       "  </thead>\n",
       "  <tbody>\n",
       "    <tr>\n",
       "      <th id=\"T_3fe79_level0_row0\" class=\"row_heading level0 row0\" >glove</th>\n",
       "      <td id=\"T_3fe79_row0_col0\" class=\"data row0 col0\" >0.944970</td>\n",
       "      <td id=\"T_3fe79_row0_col1\" class=\"data row0 col1\" >0.500588</td>\n",
       "      <td id=\"T_3fe79_row0_col2\" class=\"data row0 col2\" >0.222396</td>\n",
       "      <td id=\"T_3fe79_row0_col3\" class=\"data row0 col3\" >0.333986</td>\n",
       "    </tr>\n",
       "    <tr>\n",
       "      <th id=\"T_3fe79_level0_row1\" class=\"row_heading level0 row1\" >bert-base</th>\n",
       "      <td id=\"T_3fe79_row1_col0\" class=\"data row1 col0\" >0.812499</td>\n",
       "      <td id=\"T_3fe79_row1_col1\" class=\"data row1 col1\" >0.587544</td>\n",
       "      <td id=\"T_3fe79_row1_col2\" class=\"data row1 col2\" >0.508772</td>\n",
       "      <td id=\"T_3fe79_row1_col3\" class=\"data row1 col3\" >0.571899</td>\n",
       "    </tr>\n",
       "    <tr>\n",
       "      <th id=\"T_3fe79_level0_row2\" class=\"row_heading level0 row2\" >bert-pos-bow</th>\n",
       "      <td id=\"T_3fe79_row2_col0\" class=\"data row2 col0\" >0.807806</td>\n",
       "      <td id=\"T_3fe79_row2_col1\" class=\"data row2 col1\" >0.598707</td>\n",
       "      <td id=\"T_3fe79_row2_col2\" class=\"data row2 col2\" >0.519635</td>\n",
       "      <td id=\"T_3fe79_row2_col3\" class=\"data row2 col3\" >0.586645</td>\n",
       "    </tr>\n",
       "    <tr>\n",
       "      <th id=\"T_3fe79_level0_row3\" class=\"row_heading level0 row3\" >bert-pos-ner-bow</th>\n",
       "      <td id=\"T_3fe79_row3_col0\" class=\"data row3 col0\" >0.813593</td>\n",
       "      <td id=\"T_3fe79_row3_col1\" class=\"data row3 col1\" >0.592832</td>\n",
       "      <td id=\"T_3fe79_row3_col2\" class=\"data row3 col2\" >0.520107</td>\n",
       "      <td id=\"T_3fe79_row3_col3\" class=\"data row3 col3\" >0.580087</td>\n",
       "    </tr>\n",
       "    <tr>\n",
       "      <th id=\"T_3fe79_level0_row4\" class=\"row_heading level0 row4\" >bert-pos-tfidf</th>\n",
       "      <td id=\"T_3fe79_row4_col0\" class=\"data row4 col0\" >0.810515</td>\n",
       "      <td id=\"T_3fe79_row4_col1\" class=\"data row4 col1\" >0.590482</td>\n",
       "      <td id=\"T_3fe79_row4_col2\" class=\"data row4 col2\" >0.514237</td>\n",
       "      <td id=\"T_3fe79_row4_col3\" class=\"data row4 col3\" >0.577206</td>\n",
       "    </tr>\n",
       "    <tr>\n",
       "      <th id=\"T_3fe79_level0_row5\" class=\"row_heading level0 row5\" >bert-pos-ner-tfidf</th>\n",
       "      <td id=\"T_3fe79_row5_col0\" class=\"data row5 col0\" >0.811842</td>\n",
       "      <td id=\"T_3fe79_row5_col1\" class=\"data row5 col1\" >0.596357</td>\n",
       "      <td id=\"T_3fe79_row5_col2\" class=\"data row5 col2\" >0.530600</td>\n",
       "      <td id=\"T_3fe79_row5_col3\" class=\"data row5 col3\" >0.583532</td>\n",
       "    </tr>\n",
       "  </tbody>\n",
       "</table style=\"display:inline\">\n",
       "</td><td style=\"vertical-align:top\"> <style type=\"text/css\">\n",
       "#T_34d2d_row0_col0, #T_34d2d_row0_col1, #T_34d2d_row0_col2, #T_34d2d_row0_col3 {\n",
       "  color: tomato;\n",
       "}\n",
       "#T_34d2d_row2_col1, #T_34d2d_row2_col2, #T_34d2d_row2_col3, #T_34d2d_row3_col0 {\n",
       "  color: lawngreen;\n",
       "}\n",
       "</style>\n",
       "<table style=\"display:inline\" id=\"T_34d2d_\">\n",
       "  <thead>\n",
       "    <tr>\n",
       "      <th class=\"blank level0\" >&nbsp;</th>\n",
       "      <th class=\"col_heading level0 col0\" >Loss</th>\n",
       "      <th class=\"col_heading level0 col1\" >Accuracy</th>\n",
       "      <th class=\"col_heading level0 col2\" >F1-macro</th>\n",
       "      <th class=\"col_heading level0 col3\" >F1-weighted</th>\n",
       "    </tr>\n",
       "  </thead>\n",
       "  <tbody>\n",
       "    <tr>\n",
       "      <th id=\"T_34d2d_level0_row0\" class=\"row_heading level0 row0\" >glove</th>\n",
       "      <td id=\"T_34d2d_row0_col0\" class=\"data row0 col0\" >0.986958</td>\n",
       "      <td id=\"T_34d2d_row0_col1\" class=\"data row0 col1\" >0.521912</td>\n",
       "      <td id=\"T_34d2d_row0_col2\" class=\"data row0 col2\" >0.228535</td>\n",
       "      <td id=\"T_34d2d_row0_col3\" class=\"data row0 col3\" >0.358219</td>\n",
       "    </tr>\n",
       "    <tr>\n",
       "      <th id=\"T_34d2d_level0_row1\" class=\"row_heading level0 row1\" >bert-base</th>\n",
       "      <td id=\"T_34d2d_row1_col0\" class=\"data row1 col0\" >0.765216</td>\n",
       "      <td id=\"T_34d2d_row1_col1\" class=\"data row1 col1\" >0.645213</td>\n",
       "      <td id=\"T_34d2d_row1_col2\" class=\"data row1 col2\" >0.584890</td>\n",
       "      <td id=\"T_34d2d_row1_col3\" class=\"data row1 col3\" >0.637922</td>\n",
       "    </tr>\n",
       "    <tr>\n",
       "      <th id=\"T_34d2d_level0_row2\" class=\"row_heading level0 row2\" >bert-pos-bow</th>\n",
       "      <td id=\"T_34d2d_row2_col0\" class=\"data row2 col0\" >0.762397</td>\n",
       "      <td id=\"T_34d2d_row2_col1\" class=\"data row2 col1\" >0.653012</td>\n",
       "      <td id=\"T_34d2d_row2_col2\" class=\"data row2 col2\" >0.596335</td>\n",
       "      <td id=\"T_34d2d_row2_col3\" class=\"data row2 col3\" >0.648853</td>\n",
       "    </tr>\n",
       "    <tr>\n",
       "      <th id=\"T_34d2d_level0_row3\" class=\"row_heading level0 row3\" >bert-pos-ner-bow</th>\n",
       "      <td id=\"T_34d2d_row3_col0\" class=\"data row3 col0\" >0.761331</td>\n",
       "      <td id=\"T_34d2d_row3_col1\" class=\"data row3 col1\" >0.650075</td>\n",
       "      <td id=\"T_34d2d_row3_col2\" class=\"data row3 col2\" >0.592446</td>\n",
       "      <td id=\"T_34d2d_row3_col3\" class=\"data row3 col3\" >0.644465</td>\n",
       "    </tr>\n",
       "    <tr>\n",
       "      <th id=\"T_34d2d_level0_row4\" class=\"row_heading level0 row4\" >bert-pos-tfidf</th>\n",
       "      <td id=\"T_34d2d_row4_col0\" class=\"data row4 col0\" >0.769711</td>\n",
       "      <td id=\"T_34d2d_row4_col1\" class=\"data row4 col1\" >0.645573</td>\n",
       "      <td id=\"T_34d2d_row4_col2\" class=\"data row4 col2\" >0.586579</td>\n",
       "      <td id=\"T_34d2d_row4_col3\" class=\"data row4 col3\" >0.638898</td>\n",
       "    </tr>\n",
       "    <tr>\n",
       "      <th id=\"T_34d2d_level0_row5\" class=\"row_heading level0 row5\" >bert-pos-ner-tfidf</th>\n",
       "      <td id=\"T_34d2d_row5_col0\" class=\"data row5 col0\" >0.764403</td>\n",
       "      <td id=\"T_34d2d_row5_col1\" class=\"data row5 col1\" >0.642968</td>\n",
       "      <td id=\"T_34d2d_row5_col2\" class=\"data row5 col2\" >0.591101</td>\n",
       "      <td id=\"T_34d2d_row5_col3\" class=\"data row5 col3\" >0.637775</td>\n",
       "    </tr>\n",
       "  </tbody>\n",
       "</table style=\"display:inline\">\n",
       "</td></tr></table style=\"display:inline\">"
      ]
     },
     "metadata": {},
     "output_type": "display_data"
    }
   ],
   "source": [
    "print('With original image labels\\n')\n",
    "display_dataframes((style_dataframe(df_single_scores), style_dataframe(df_multiple_scores), style_dataframe(df_average_scores)), \n",
    "                   names=['MVSA-Single', 'MVSA-Multiple', 'Average'])"
   ]
  },
  {
   "cell_type": "code",
   "execution_count": 31,
   "id": "c7d38d46",
   "metadata": {
    "execution": {
     "iopub.execute_input": "2022-07-04T10:55:20.476281Z",
     "iopub.status.busy": "2022-07-04T10:55:20.475965Z",
     "iopub.status.idle": "2022-07-04T10:55:20.531926Z",
     "shell.execute_reply": "2022-07-04T10:55:20.529921Z"
    },
    "papermill": {
     "duration": 0.071639,
     "end_time": "2022-07-04T10:55:20.534671",
     "exception": false,
     "start_time": "2022-07-04T10:55:20.463032",
     "status": "completed"
    },
    "tags": []
   },
   "outputs": [
    {
     "name": "stdout",
     "output_type": "stream",
     "text": [
      "With multimodal labels\n",
      "\n"
     ]
    },
    {
     "data": {
      "text/html": [
       "<table style=\"display:inline\"><tr><td style=\"text-align:center\">MVSA-Single</td><td style=\"text-align:center\">MVSA-Multiple</td><td style=\"text-align:center\">Average</td></tr><tr><td style=\"vertical-align:top\"> <style type=\"text/css\">\n",
       "#T_2f402_row0_col0, #T_2f402_row0_col1, #T_2f402_row0_col2, #T_2f402_row0_col3 {\n",
       "  color: tomato;\n",
       "}\n",
       "#T_2f402_row1_col1, #T_2f402_row1_col2, #T_2f402_row1_col3, #T_2f402_row3_col0, #T_2f402_row5_col1 {\n",
       "  color: lawngreen;\n",
       "}\n",
       "</style>\n",
       "<table style=\"display:inline\" id=\"T_2f402_\">\n",
       "  <thead>\n",
       "    <tr>\n",
       "      <th class=\"blank level0\" >&nbsp;</th>\n",
       "      <th class=\"col_heading level0 col0\" >Loss</th>\n",
       "      <th class=\"col_heading level0 col1\" >Accuracy</th>\n",
       "      <th class=\"col_heading level0 col2\" >F1-macro</th>\n",
       "      <th class=\"col_heading level0 col3\" >F1-weighted</th>\n",
       "    </tr>\n",
       "  </thead>\n",
       "  <tbody>\n",
       "    <tr>\n",
       "      <th id=\"T_2f402_level0_row0\" class=\"row_heading level0 row0\" >glove</th>\n",
       "      <td id=\"T_2f402_row0_col0\" class=\"data row0 col0\" >0.904784</td>\n",
       "      <td id=\"T_2f402_row0_col1\" class=\"data row0 col1\" >0.594235</td>\n",
       "      <td id=\"T_2f402_row0_col2\" class=\"data row0 col2\" >0.283662</td>\n",
       "      <td id=\"T_2f402_row0_col3\" class=\"data row0 col3\" >0.484000</td>\n",
       "    </tr>\n",
       "    <tr>\n",
       "      <th id=\"T_2f402_level0_row1\" class=\"row_heading level0 row1\" >bert-base</th>\n",
       "      <td id=\"T_2f402_row1_col0\" class=\"data row1 col0\" >0.729595</td>\n",
       "      <td id=\"T_2f402_row1_col1\" class=\"data row1 col1\" >0.678492</td>\n",
       "      <td id=\"T_2f402_row1_col2\" class=\"data row1 col2\" >0.509098</td>\n",
       "      <td id=\"T_2f402_row1_col3\" class=\"data row1 col3\" >0.674119</td>\n",
       "    </tr>\n",
       "    <tr>\n",
       "      <th id=\"T_2f402_level0_row2\" class=\"row_heading level0 row2\" >bert-pos-bow</th>\n",
       "      <td id=\"T_2f402_row2_col0\" class=\"data row2 col0\" >0.726636</td>\n",
       "      <td id=\"T_2f402_row2_col1\" class=\"data row2 col1\" >0.676275</td>\n",
       "      <td id=\"T_2f402_row2_col2\" class=\"data row2 col2\" >0.507913</td>\n",
       "      <td id=\"T_2f402_row2_col3\" class=\"data row2 col3\" >0.674053</td>\n",
       "    </tr>\n",
       "    <tr>\n",
       "      <th id=\"T_2f402_level0_row3\" class=\"row_heading level0 row3\" >bert-pos-ner-bow</th>\n",
       "      <td id=\"T_2f402_row3_col0\" class=\"data row3 col0\" >0.725819</td>\n",
       "      <td id=\"T_2f402_row3_col1\" class=\"data row3 col1\" >0.674058</td>\n",
       "      <td id=\"T_2f402_row3_col2\" class=\"data row3 col2\" >0.504813</td>\n",
       "      <td id=\"T_2f402_row3_col3\" class=\"data row3 col3\" >0.665314</td>\n",
       "    </tr>\n",
       "    <tr>\n",
       "      <th id=\"T_2f402_level0_row4\" class=\"row_heading level0 row4\" >bert-pos-tfidf</th>\n",
       "      <td id=\"T_2f402_row4_col0\" class=\"data row4 col0\" >0.736423</td>\n",
       "      <td id=\"T_2f402_row4_col1\" class=\"data row4 col1\" >0.662971</td>\n",
       "      <td id=\"T_2f402_row4_col2\" class=\"data row4 col2\" >0.501393</td>\n",
       "      <td id=\"T_2f402_row4_col3\" class=\"data row4 col3\" >0.665001</td>\n",
       "    </tr>\n",
       "    <tr>\n",
       "      <th id=\"T_2f402_level0_row5\" class=\"row_heading level0 row5\" >bert-pos-ner-tfidf</th>\n",
       "      <td id=\"T_2f402_row5_col0\" class=\"data row5 col0\" >0.728430</td>\n",
       "      <td id=\"T_2f402_row5_col1\" class=\"data row5 col1\" >0.678492</td>\n",
       "      <td id=\"T_2f402_row5_col2\" class=\"data row5 col2\" >0.506786</td>\n",
       "      <td id=\"T_2f402_row5_col3\" class=\"data row5 col3\" >0.669672</td>\n",
       "    </tr>\n",
       "  </tbody>\n",
       "</table style=\"display:inline\">\n",
       "</td><td style=\"vertical-align:top\"> <style type=\"text/css\">\n",
       "#T_e9f6a_row0_col0, #T_e9f6a_row0_col1, #T_e9f6a_row0_col2, #T_e9f6a_row0_col3 {\n",
       "  color: tomato;\n",
       "}\n",
       "#T_e9f6a_row5_col0, #T_e9f6a_row5_col1, #T_e9f6a_row5_col2, #T_e9f6a_row5_col3 {\n",
       "  color: lawngreen;\n",
       "}\n",
       "</style>\n",
       "<table style=\"display:inline\" id=\"T_e9f6a_\">\n",
       "  <thead>\n",
       "    <tr>\n",
       "      <th class=\"blank level0\" >&nbsp;</th>\n",
       "      <th class=\"col_heading level0 col0\" >Loss</th>\n",
       "      <th class=\"col_heading level0 col1\" >Accuracy</th>\n",
       "      <th class=\"col_heading level0 col2\" >F1-macro</th>\n",
       "      <th class=\"col_heading level0 col3\" >F1-weighted</th>\n",
       "    </tr>\n",
       "  </thead>\n",
       "  <tbody>\n",
       "    <tr>\n",
       "      <th id=\"T_e9f6a_level0_row0\" class=\"row_heading level0 row0\" >glove</th>\n",
       "      <td id=\"T_e9f6a_row0_col0\" class=\"data row0 col0\" >0.909908</td>\n",
       "      <td id=\"T_e9f6a_row0_col1\" class=\"data row0 col1\" >0.639248</td>\n",
       "      <td id=\"T_e9f6a_row0_col2\" class=\"data row0 col2\" >0.259976</td>\n",
       "      <td id=\"T_e9f6a_row0_col3\" class=\"data row0 col3\" >0.499026</td>\n",
       "    </tr>\n",
       "    <tr>\n",
       "      <th id=\"T_e9f6a_level0_row1\" class=\"row_heading level0 row1\" >bert-base</th>\n",
       "      <td id=\"T_e9f6a_row1_col0\" class=\"data row1 col0\" >0.788157</td>\n",
       "      <td id=\"T_e9f6a_row1_col1\" class=\"data row1 col1\" >0.666275</td>\n",
       "      <td id=\"T_e9f6a_row1_col2\" class=\"data row1 col2\" >0.451231</td>\n",
       "      <td id=\"T_e9f6a_row1_col3\" class=\"data row1 col3\" >0.603549</td>\n",
       "    </tr>\n",
       "    <tr>\n",
       "      <th id=\"T_e9f6a_level0_row2\" class=\"row_heading level0 row2\" >bert-pos-bow</th>\n",
       "      <td id=\"T_e9f6a_row2_col0\" class=\"data row2 col0\" >0.787295</td>\n",
       "      <td id=\"T_e9f6a_row2_col1\" class=\"data row2 col1\" >0.666862</td>\n",
       "      <td id=\"T_e9f6a_row2_col2\" class=\"data row2 col2\" >0.451852</td>\n",
       "      <td id=\"T_e9f6a_row2_col3\" class=\"data row2 col3\" >0.599706</td>\n",
       "    </tr>\n",
       "    <tr>\n",
       "      <th id=\"T_e9f6a_level0_row3\" class=\"row_heading level0 row3\" >bert-pos-ner-bow</th>\n",
       "      <td id=\"T_e9f6a_row3_col0\" class=\"data row3 col0\" >0.786705</td>\n",
       "      <td id=\"T_e9f6a_row3_col1\" class=\"data row3 col1\" >0.665687</td>\n",
       "      <td id=\"T_e9f6a_row3_col2\" class=\"data row3 col2\" >0.455259</td>\n",
       "      <td id=\"T_e9f6a_row3_col3\" class=\"data row3 col3\" >0.601898</td>\n",
       "    </tr>\n",
       "    <tr>\n",
       "      <th id=\"T_e9f6a_level0_row4\" class=\"row_heading level0 row4\" >bert-pos-tfidf</th>\n",
       "      <td id=\"T_e9f6a_row4_col0\" class=\"data row4 col0\" >0.789244</td>\n",
       "      <td id=\"T_e9f6a_row4_col1\" class=\"data row4 col1\" >0.665687</td>\n",
       "      <td id=\"T_e9f6a_row4_col2\" class=\"data row4 col2\" >0.453463</td>\n",
       "      <td id=\"T_e9f6a_row4_col3\" class=\"data row4 col3\" >0.600796</td>\n",
       "    </tr>\n",
       "    <tr>\n",
       "      <th id=\"T_e9f6a_level0_row5\" class=\"row_heading level0 row5\" >bert-pos-ner-tfidf</th>\n",
       "      <td id=\"T_e9f6a_row5_col0\" class=\"data row5 col0\" >0.786585</td>\n",
       "      <td id=\"T_e9f6a_row5_col1\" class=\"data row5 col1\" >0.668038</td>\n",
       "      <td id=\"T_e9f6a_row5_col2\" class=\"data row5 col2\" >0.457771</td>\n",
       "      <td id=\"T_e9f6a_row5_col3\" class=\"data row5 col3\" >0.604277</td>\n",
       "    </tr>\n",
       "  </tbody>\n",
       "</table style=\"display:inline\">\n",
       "</td><td style=\"vertical-align:top\"> <style type=\"text/css\">\n",
       "#T_26c3d_row0_col0, #T_26c3d_row0_col1, #T_26c3d_row0_col2, #T_26c3d_row0_col3 {\n",
       "  color: tomato;\n",
       "}\n",
       "#T_26c3d_row1_col3, #T_26c3d_row3_col0, #T_26c3d_row5_col1, #T_26c3d_row5_col2 {\n",
       "  color: lawngreen;\n",
       "}\n",
       "</style>\n",
       "<table style=\"display:inline\" id=\"T_26c3d_\">\n",
       "  <thead>\n",
       "    <tr>\n",
       "      <th class=\"blank level0\" >&nbsp;</th>\n",
       "      <th class=\"col_heading level0 col0\" >Loss</th>\n",
       "      <th class=\"col_heading level0 col1\" >Accuracy</th>\n",
       "      <th class=\"col_heading level0 col2\" >F1-macro</th>\n",
       "      <th class=\"col_heading level0 col3\" >F1-weighted</th>\n",
       "    </tr>\n",
       "  </thead>\n",
       "  <tbody>\n",
       "    <tr>\n",
       "      <th id=\"T_26c3d_level0_row0\" class=\"row_heading level0 row0\" >glove</th>\n",
       "      <td id=\"T_26c3d_row0_col0\" class=\"data row0 col0\" >0.907346</td>\n",
       "      <td id=\"T_26c3d_row0_col1\" class=\"data row0 col1\" >0.616742</td>\n",
       "      <td id=\"T_26c3d_row0_col2\" class=\"data row0 col2\" >0.271819</td>\n",
       "      <td id=\"T_26c3d_row0_col3\" class=\"data row0 col3\" >0.491513</td>\n",
       "    </tr>\n",
       "    <tr>\n",
       "      <th id=\"T_26c3d_level0_row1\" class=\"row_heading level0 row1\" >bert-base</th>\n",
       "      <td id=\"T_26c3d_row1_col0\" class=\"data row1 col0\" >0.758876</td>\n",
       "      <td id=\"T_26c3d_row1_col1\" class=\"data row1 col1\" >0.672384</td>\n",
       "      <td id=\"T_26c3d_row1_col2\" class=\"data row1 col2\" >0.480164</td>\n",
       "      <td id=\"T_26c3d_row1_col3\" class=\"data row1 col3\" >0.638834</td>\n",
       "    </tr>\n",
       "    <tr>\n",
       "      <th id=\"T_26c3d_level0_row2\" class=\"row_heading level0 row2\" >bert-pos-bow</th>\n",
       "      <td id=\"T_26c3d_row2_col0\" class=\"data row2 col0\" >0.756965</td>\n",
       "      <td id=\"T_26c3d_row2_col1\" class=\"data row2 col1\" >0.671569</td>\n",
       "      <td id=\"T_26c3d_row2_col2\" class=\"data row2 col2\" >0.479883</td>\n",
       "      <td id=\"T_26c3d_row2_col3\" class=\"data row2 col3\" >0.636880</td>\n",
       "    </tr>\n",
       "    <tr>\n",
       "      <th id=\"T_26c3d_level0_row3\" class=\"row_heading level0 row3\" >bert-pos-ner-bow</th>\n",
       "      <td id=\"T_26c3d_row3_col0\" class=\"data row3 col0\" >0.756262</td>\n",
       "      <td id=\"T_26c3d_row3_col1\" class=\"data row3 col1\" >0.669873</td>\n",
       "      <td id=\"T_26c3d_row3_col2\" class=\"data row3 col2\" >0.480036</td>\n",
       "      <td id=\"T_26c3d_row3_col3\" class=\"data row3 col3\" >0.633606</td>\n",
       "    </tr>\n",
       "    <tr>\n",
       "      <th id=\"T_26c3d_level0_row4\" class=\"row_heading level0 row4\" >bert-pos-tfidf</th>\n",
       "      <td id=\"T_26c3d_row4_col0\" class=\"data row4 col0\" >0.762834</td>\n",
       "      <td id=\"T_26c3d_row4_col1\" class=\"data row4 col1\" >0.664329</td>\n",
       "      <td id=\"T_26c3d_row4_col2\" class=\"data row4 col2\" >0.477428</td>\n",
       "      <td id=\"T_26c3d_row4_col3\" class=\"data row4 col3\" >0.632899</td>\n",
       "    </tr>\n",
       "    <tr>\n",
       "      <th id=\"T_26c3d_level0_row5\" class=\"row_heading level0 row5\" >bert-pos-ner-tfidf</th>\n",
       "      <td id=\"T_26c3d_row5_col0\" class=\"data row5 col0\" >0.757508</td>\n",
       "      <td id=\"T_26c3d_row5_col1\" class=\"data row5 col1\" >0.673265</td>\n",
       "      <td id=\"T_26c3d_row5_col2\" class=\"data row5 col2\" >0.482279</td>\n",
       "      <td id=\"T_26c3d_row5_col3\" class=\"data row5 col3\" >0.636975</td>\n",
       "    </tr>\n",
       "  </tbody>\n",
       "</table style=\"display:inline\">\n",
       "</td></tr></table style=\"display:inline\">"
      ]
     },
     "metadata": {},
     "output_type": "display_data"
    }
   ],
   "source": [
    "print('With multimodal labels\\n')\n",
    "display_dataframes((style_dataframe(df_single_scores2), style_dataframe(df_multiple_scores2), style_dataframe(df_average_scores2)), \n",
    "                   names=['MVSA-Single', 'MVSA-Multiple', 'Average'])"
   ]
  },
  {
   "cell_type": "code",
   "execution_count": 32,
   "id": "bd4a7585",
   "metadata": {
    "execution": {
     "iopub.execute_input": "2022-07-04T10:55:20.561885Z",
     "iopub.status.busy": "2022-07-04T10:55:20.561345Z",
     "iopub.status.idle": "2022-07-04T10:55:20.598879Z",
     "shell.execute_reply": "2022-07-04T10:55:20.597731Z"
    },
    "papermill": {
     "duration": 0.053176,
     "end_time": "2022-07-04T10:55:20.601251",
     "exception": false,
     "start_time": "2022-07-04T10:55:20.548075",
     "status": "completed"
    },
    "tags": []
   },
   "outputs": [
    {
     "name": "stdout",
     "output_type": "stream",
     "text": [
      "With both MVSA merged together\n",
      "\n"
     ]
    },
    {
     "data": {
      "text/html": [
       "<table style=\"display:inline\"><tr><td style=\"text-align:center\">Original image labels</td><td style=\"text-align:center\">Multimodal labels</td></tr><tr><td style=\"vertical-align:top\"> <style type=\"text/css\">\n",
       "#T_b5903_row0_col0, #T_b5903_row0_col1, #T_b5903_row0_col2, #T_b5903_row0_col3 {\n",
       "  color: tomato;\n",
       "}\n",
       "#T_b5903_row4_col2, #T_b5903_row5_col0, #T_b5903_row5_col1, #T_b5903_row5_col3 {\n",
       "  color: lawngreen;\n",
       "}\n",
       "</style>\n",
       "<table style=\"display:inline\" id=\"T_b5903_\">\n",
       "  <thead>\n",
       "    <tr>\n",
       "      <th class=\"blank level0\" >&nbsp;</th>\n",
       "      <th class=\"col_heading level0 col0\" >Loss</th>\n",
       "      <th class=\"col_heading level0 col1\" >Accuracy</th>\n",
       "      <th class=\"col_heading level0 col2\" >F1-macro</th>\n",
       "      <th class=\"col_heading level0 col3\" >F1-weighted</th>\n",
       "    </tr>\n",
       "  </thead>\n",
       "  <tbody>\n",
       "    <tr>\n",
       "      <th id=\"T_b5903_level0_row0\" class=\"row_heading level0 row0\" >glove</th>\n",
       "      <td id=\"T_b5903_row0_col0\" class=\"data row0 col0\" >0.911089</td>\n",
       "      <td id=\"T_b5903_row0_col1\" class=\"data row0 col1\" >0.551788</td>\n",
       "      <td id=\"T_b5903_row0_col2\" class=\"data row0 col2\" >0.259818</td>\n",
       "      <td id=\"T_b5903_row0_col3\" class=\"data row0 col3\" >0.422970</td>\n",
       "    </tr>\n",
       "    <tr>\n",
       "      <th id=\"T_b5903_level0_row1\" class=\"row_heading level0 row1\" >bert-base</th>\n",
       "      <td id=\"T_b5903_row1_col0\" class=\"data row1 col0\" >0.857313</td>\n",
       "      <td id=\"T_b5903_row1_col1\" class=\"data row1 col1\" >0.588946</td>\n",
       "      <td id=\"T_b5903_row1_col2\" class=\"data row1 col2\" >0.420408</td>\n",
       "      <td id=\"T_b5903_row1_col3\" class=\"data row1 col3\" >0.540349</td>\n",
       "    </tr>\n",
       "    <tr>\n",
       "      <th id=\"T_b5903_level0_row2\" class=\"row_heading level0 row2\" >bert-pos-bow</th>\n",
       "      <td id=\"T_b5903_row2_col0\" class=\"data row2 col0\" >0.867498</td>\n",
       "      <td id=\"T_b5903_row2_col1\" class=\"data row2 col1\" >0.585694</td>\n",
       "      <td id=\"T_b5903_row2_col2\" class=\"data row2 col2\" >0.429802</td>\n",
       "      <td id=\"T_b5903_row2_col3\" class=\"data row2 col3\" >0.538358</td>\n",
       "    </tr>\n",
       "    <tr>\n",
       "      <th id=\"T_b5903_level0_row3\" class=\"row_heading level0 row3\" >bert-pos-ner-bow</th>\n",
       "      <td id=\"T_b5903_row3_col0\" class=\"data row3 col0\" >0.867480</td>\n",
       "      <td id=\"T_b5903_row3_col1\" class=\"data row3 col1\" >0.590339</td>\n",
       "      <td id=\"T_b5903_row3_col2\" class=\"data row3 col2\" >0.436130</td>\n",
       "      <td id=\"T_b5903_row3_col3\" class=\"data row3 col3\" >0.542794</td>\n",
       "    </tr>\n",
       "    <tr>\n",
       "      <th id=\"T_b5903_level0_row4\" class=\"row_heading level0 row4\" >bert-pos-tfidf</th>\n",
       "      <td id=\"T_b5903_row4_col0\" class=\"data row4 col0\" >0.834769</td>\n",
       "      <td id=\"T_b5903_row4_col1\" class=\"data row4 col1\" >0.592661</td>\n",
       "      <td id=\"T_b5903_row4_col2\" class=\"data row4 col2\" >0.439021</td>\n",
       "      <td id=\"T_b5903_row4_col3\" class=\"data row4 col3\" >0.554975</td>\n",
       "    </tr>\n",
       "    <tr>\n",
       "      <th id=\"T_b5903_level0_row5\" class=\"row_heading level0 row5\" >bert-pos-ner-tfidf</th>\n",
       "      <td id=\"T_b5903_row5_col0\" class=\"data row5 col0\" >0.833391</td>\n",
       "      <td id=\"T_b5903_row5_col1\" class=\"data row5 col1\" >0.598700</td>\n",
       "      <td id=\"T_b5903_row5_col2\" class=\"data row5 col2\" >0.428707</td>\n",
       "      <td id=\"T_b5903_row5_col3\" class=\"data row5 col3\" >0.555236</td>\n",
       "    </tr>\n",
       "  </tbody>\n",
       "</table style=\"display:inline\">\n",
       "</td><td style=\"vertical-align:top\"> <style type=\"text/css\">\n",
       "#T_3d80c_row0_col0, #T_3d80c_row0_col1, #T_3d80c_row0_col2, #T_3d80c_row0_col3 {\n",
       "  color: tomato;\n",
       "}\n",
       "#T_3d80c_row3_col3, #T_3d80c_row4_col1, #T_3d80c_row5_col0, #T_3d80c_row5_col2 {\n",
       "  color: lawngreen;\n",
       "}\n",
       "</style>\n",
       "<table style=\"display:inline\" id=\"T_3d80c_\">\n",
       "  <thead>\n",
       "    <tr>\n",
       "      <th class=\"blank level0\" >&nbsp;</th>\n",
       "      <th class=\"col_heading level0 col0\" >Loss</th>\n",
       "      <th class=\"col_heading level0 col1\" >Accuracy</th>\n",
       "      <th class=\"col_heading level0 col2\" >F1-macro</th>\n",
       "      <th class=\"col_heading level0 col3\" >F1-weighted</th>\n",
       "    </tr>\n",
       "  </thead>\n",
       "  <tbody>\n",
       "    <tr>\n",
       "      <th id=\"T_3d80c_level0_row0\" class=\"row_heading level0 row0\" >glove</th>\n",
       "      <td id=\"T_3d80c_row0_col0\" class=\"data row0 col0\" >0.863814</td>\n",
       "      <td id=\"T_3d80c_row0_col1\" class=\"data row0 col1\" >0.661867</td>\n",
       "      <td id=\"T_3d80c_row0_col2\" class=\"data row0 col2\" >0.266786</td>\n",
       "      <td id=\"T_3d80c_row0_col3\" class=\"data row0 col3\" >0.528420</td>\n",
       "    </tr>\n",
       "    <tr>\n",
       "      <th id=\"T_3d80c_level0_row1\" class=\"row_heading level0 row1\" >bert-base</th>\n",
       "      <td id=\"T_3d80c_row1_col0\" class=\"data row1 col0\" >0.790346</td>\n",
       "      <td id=\"T_3d80c_row1_col1\" class=\"data row1 col1\" >0.681375</td>\n",
       "      <td id=\"T_3d80c_row1_col2\" class=\"data row1 col2\" >0.414517</td>\n",
       "      <td id=\"T_3d80c_row1_col3\" class=\"data row1 col3\" >0.595670</td>\n",
       "    </tr>\n",
       "    <tr>\n",
       "      <th id=\"T_3d80c_level0_row2\" class=\"row_heading level0 row2\" >bert-pos-bow</th>\n",
       "      <td id=\"T_3d80c_row2_col0\" class=\"data row2 col0\" >0.794388</td>\n",
       "      <td id=\"T_3d80c_row2_col1\" class=\"data row2 col1\" >0.680446</td>\n",
       "      <td id=\"T_3d80c_row2_col2\" class=\"data row2 col2\" >0.410064</td>\n",
       "      <td id=\"T_3d80c_row2_col3\" class=\"data row2 col3\" >0.592852</td>\n",
       "    </tr>\n",
       "    <tr>\n",
       "      <th id=\"T_3d80c_level0_row3\" class=\"row_heading level0 row3\" >bert-pos-ner-bow</th>\n",
       "      <td id=\"T_3d80c_row3_col0\" class=\"data row3 col0\" >0.792015</td>\n",
       "      <td id=\"T_3d80c_row3_col1\" class=\"data row3 col1\" >0.682768</td>\n",
       "      <td id=\"T_3d80c_row3_col2\" class=\"data row3 col2\" >0.421419</td>\n",
       "      <td id=\"T_3d80c_row3_col3\" class=\"data row3 col3\" >0.602677</td>\n",
       "    </tr>\n",
       "    <tr>\n",
       "      <th id=\"T_3d80c_level0_row4\" class=\"row_heading level0 row4\" >bert-pos-tfidf</th>\n",
       "      <td id=\"T_3d80c_row4_col0\" class=\"data row4 col0\" >0.770834</td>\n",
       "      <td id=\"T_3d80c_row4_col1\" class=\"data row4 col1\" >0.686484</td>\n",
       "      <td id=\"T_3d80c_row4_col2\" class=\"data row4 col2\" >0.431487</td>\n",
       "      <td id=\"T_3d80c_row4_col3\" class=\"data row4 col3\" >0.601697</td>\n",
       "    </tr>\n",
       "    <tr>\n",
       "      <th id=\"T_3d80c_level0_row5\" class=\"row_heading level0 row5\" >bert-pos-ner-tfidf</th>\n",
       "      <td id=\"T_3d80c_row5_col0\" class=\"data row5 col0\" >0.766543</td>\n",
       "      <td id=\"T_3d80c_row5_col1\" class=\"data row5 col1\" >0.681375</td>\n",
       "      <td id=\"T_3d80c_row5_col2\" class=\"data row5 col2\" >0.432690</td>\n",
       "      <td id=\"T_3d80c_row5_col3\" class=\"data row5 col3\" >0.600937</td>\n",
       "    </tr>\n",
       "  </tbody>\n",
       "</table style=\"display:inline\">\n",
       "</td></tr></table style=\"display:inline\">"
      ]
     },
     "metadata": {},
     "output_type": "display_data"
    }
   ],
   "source": [
    "print('With both MVSA merged together\\n')\n",
    "display_dataframes((style_dataframe(df_scores3), style_dataframe(df_scores4)), \n",
    "                   names=['Original image labels', 'Multimodal labels'])"
   ]
  }
 ],
 "metadata": {
  "kernelspec": {
   "display_name": "Python 3",
   "language": "python",
   "name": "python3"
  },
  "language_info": {
   "codemirror_mode": {
    "name": "ipython",
    "version": 3
   },
   "file_extension": ".py",
   "mimetype": "text/x-python",
   "name": "python",
   "nbconvert_exporter": "python",
   "pygments_lexer": "ipython3",
   "version": "3.7.12"
  },
  "papermill": {
   "default_parameters": {},
   "duration": 539.594691,
   "end_time": "2022-07-04T10:55:23.808227",
   "environment_variables": {},
   "exception": null,
   "input_path": "__notebook__.ipynb",
   "output_path": "__notebook__.ipynb",
   "parameters": {},
   "start_time": "2022-07-04T10:46:24.213536",
   "version": "2.3.4"
  }
 },
 "nbformat": 4,
 "nbformat_minor": 5
}
