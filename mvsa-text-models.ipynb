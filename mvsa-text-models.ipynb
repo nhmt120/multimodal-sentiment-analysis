{
 "cells": [
  {
   "cell_type": "code",
   "execution_count": 1,
   "id": "084fa1bf",
   "metadata": {
    "_cell_guid": "b1076dfc-b9ad-4769-8c92-a6c4dae69d19",
    "_uuid": "8f2839f25d086af736a60e9eeb907d3b93b6e0e5",
    "execution": {
     "iopub.execute_input": "2022-06-30T20:38:07.900934Z",
     "iopub.status.busy": "2022-06-30T20:38:07.900379Z",
     "iopub.status.idle": "2022-06-30T20:38:15.957238Z",
     "shell.execute_reply": "2022-06-30T20:38:15.956218Z"
    },
    "papermill": {
     "duration": 8.069823,
     "end_time": "2022-06-30T20:38:15.959634",
     "exception": false,
     "start_time": "2022-06-30T20:38:07.889811",
     "status": "completed"
    },
    "tags": []
   },
   "outputs": [],
   "source": [
    "SEED = 61\n",
    "\n",
    "\n",
    "import os\n",
    "import re\n",
    "import gc\n",
    "import h5py\n",
    "import torch\n",
    "import numpy as np\n",
    "import pandas as pd\n",
    "import tensorflow as tf\n",
    "import random as python_random\n",
    "import matplotlib.pyplot as plt\n",
    "import tensorflow_addons as tfa\n",
    "\n",
    "from tqdm import tqdm\n",
    "from nltk import tokenize\n",
    "\n",
    "from sklearn import preprocessing\n",
    "from sklearn.decomposition import PCA\n",
    "from keras import backend as K\n",
    "from keras import initializers,regularizers,constraints\n",
    "from keras.preprocessing.text import Tokenizer, text_to_word_sequence\n",
    "from keras.preprocessing.sequence import pad_sequences\n",
    "from keras.utils.np_utils import to_categorical\n",
    "from keras.layers import Reshape, Input, Embedding, Flatten, Dense, Dropout, BatchNormalization, Activation #, merge\n",
    "from keras.layers import TimeDistributed, LSTM, GRU, Bidirectional, Convolution1D, MaxPooling1D, MaxPooling2D\n",
    "from keras.layers.core import RepeatVector, Reshape\n",
    "from keras.callbacks import ModelCheckpoint, EarlyStopping, ReduceLROnPlateau\n",
    "from keras.models import Sequential, Model, load_model\n",
    "from sklearn.model_selection import cross_val_score\n",
    "\n",
    "def reset_seeds():\n",
    "    np.random.seed(SEED) \n",
    "    python_random.seed(SEED)\n",
    "    tf.random.set_seed(SEED)\n",
    "    os.environ[\"PYTHONHASHSEED\"] = str(SEED)\n",
    "\n",
    "# from tensorflow.python.keras.layers import Layer, InputSpec, Lambda\n",
    "# from tensorflow.keras import Model\n",
    "# from attention import Attention_input1, Attention_input2\n",
    "# from keras.optimizers import SGD, RMSprop, Adagrad"
   ]
  },
  {
   "cell_type": "code",
   "execution_count": 2,
   "id": "9ce19a36",
   "metadata": {
    "execution": {
     "iopub.execute_input": "2022-06-30T20:38:15.976319Z",
     "iopub.status.busy": "2022-06-30T20:38:15.975826Z",
     "iopub.status.idle": "2022-06-30T20:38:15.983326Z",
     "shell.execute_reply": "2022-06-30T20:38:15.982289Z"
    },
    "papermill": {
     "duration": 0.0182,
     "end_time": "2022-06-30T20:38:15.985533",
     "exception": false,
     "start_time": "2022-06-30T20:38:15.967333",
     "status": "completed"
    },
    "tags": []
   },
   "outputs": [],
   "source": [
    "def read_hdf5(path):\n",
    "    read_file = h5py.File(path, 'r')\n",
    "    \n",
    "    feature_names = list(read_file.keys())\n",
    "    loaded_data = []\n",
    "    \n",
    "    for name in feature_names:\n",
    "        dataset = read_file[name][:]\n",
    "        if dataset.dtype == np.dtype('object'):\n",
    "            dataset = np.array([x.decode('UTF-8') for x in dataset])            \n",
    "        loaded_data.append((name, dataset))\n",
    "\n",
    "    return loaded_data\n",
    "\n",
    "def loadz(path):\n",
    "    data = np.load(path)['arr_0']\n",
    "    return data"
   ]
  },
  {
   "cell_type": "code",
   "execution_count": 3,
   "id": "4a77e3cf",
   "metadata": {
    "execution": {
     "iopub.execute_input": "2022-06-30T20:38:16.000877Z",
     "iopub.status.busy": "2022-06-30T20:38:16.000595Z",
     "iopub.status.idle": "2022-06-30T20:38:16.009188Z",
     "shell.execute_reply": "2022-06-30T20:38:16.008112Z"
    },
    "papermill": {
     "duration": 0.01936,
     "end_time": "2022-06-30T20:38:16.012063",
     "exception": false,
     "start_time": "2022-06-30T20:38:15.992703",
     "status": "completed"
    },
    "tags": []
   },
   "outputs": [],
   "source": [
    "def merge_mvsa(mvsa_single, mvsa_multiple):\n",
    "    mvsa = np.concatenate((mvsa_single, mvsa_multiple), axis=0)\n",
    "    return mvsa\n",
    "\n",
    "def load_mvsa_feature(feature_name, merge=False):\n",
    "    folder_path = os.path.join('../input/mvsa-features/', feature_name)\n",
    "    single_file = 'mvsa-single-{}.npz'.format(feature_name)\n",
    "    multiple_file = 'mvsa-multiple-{}.npz'.format(feature_name)\n",
    "    mvsa_single = loadz(os.path.join(folder_path, single_file))\n",
    "    mvsa_multiple = loadz(os.path.join(folder_path, multiple_file))\n",
    "    \n",
    "    if merge == True:\n",
    "        return merge_mvsa(mvsa_single, mvsa_multiple)\n",
    "    \n",
    "    return mvsa_single, mvsa_multiple\n",
    "\n",
    "def load_labels(path):\n",
    "    data = read_hdf5(path)\n",
    "\n",
    "    for x in data:\n",
    "        if x[0] == 'multimodal-labels':\n",
    "            labels = x[1]\n",
    "        if x[0] == 'text-labels':\n",
    "            text_labels = x[1]\n",
    "        if x[0] == 'image-labels':\n",
    "            image_labels = x[1]\n",
    "        \n",
    "    return labels, text_labels, image_labels"
   ]
  },
  {
   "cell_type": "code",
   "execution_count": 4,
   "id": "fb3ee5a0",
   "metadata": {
    "execution": {
     "iopub.execute_input": "2022-06-30T20:38:16.027563Z",
     "iopub.status.busy": "2022-06-30T20:38:16.027315Z",
     "iopub.status.idle": "2022-06-30T20:38:16.035529Z",
     "shell.execute_reply": "2022-06-30T20:38:16.034656Z"
    },
    "papermill": {
     "duration": 0.018182,
     "end_time": "2022-06-30T20:38:16.037376",
     "exception": false,
     "start_time": "2022-06-30T20:38:16.019194",
     "status": "completed"
    },
    "tags": []
   },
   "outputs": [],
   "source": [
    "def plot_metrics(history):\n",
    "    fig = plt.figure(figsize=(20, 5))\n",
    "\n",
    "    fig.add_subplot(1, 3, 1)\n",
    "    plt.plot(history.history['loss'])\n",
    "    plt.plot(history.history['val_loss'])\n",
    "    plt.title('LOSS')\n",
    "    plt.ylabel('loss')\n",
    "    plt.xlabel('epoch')\n",
    "    plt.legend(['train', 'val'], loc='best')\n",
    "\n",
    "    fig.add_subplot(1, 3, 2)\n",
    "    plt.plot(history.history['accuracy'])\n",
    "    plt.plot(history.history['val_accuracy'])\n",
    "    plt.title('ACCURACY')\n",
    "    plt.ylabel('accuracy')\n",
    "    plt.xlabel('epoch')\n",
    "    plt.legend(['train', 'val'], loc='best')\n",
    "\n",
    "    fig.add_subplot(1, 3, 3)\n",
    "    plt.plot(history.history['f1_score'])\n",
    "    plt.plot(history.history['val_f1_score'])\n",
    "    plt.title('F1-SCORE')\n",
    "    plt.ylabel('f1-score')\n",
    "    plt.xlabel('epoch')\n",
    "    plt.legend(['train', 'val'], loc='best')\n",
    "\n",
    "    plt.show()"
   ]
  },
  {
   "cell_type": "code",
   "execution_count": 5,
   "id": "2356617b",
   "metadata": {
    "execution": {
     "iopub.execute_input": "2022-06-30T20:38:16.054029Z",
     "iopub.status.busy": "2022-06-30T20:38:16.053460Z",
     "iopub.status.idle": "2022-06-30T20:38:16.059519Z",
     "shell.execute_reply": "2022-06-30T20:38:16.058753Z"
    },
    "papermill": {
     "duration": 0.016514,
     "end_time": "2022-06-30T20:38:16.061358",
     "exception": false,
     "start_time": "2022-06-30T20:38:16.044844",
     "status": "completed"
    },
    "tags": []
   },
   "outputs": [],
   "source": [
    "# e.g. validation_split=0.1 -----> 8:1:1 ratio of train, val, test\n",
    "def split_data(data, validation_split):\n",
    "    num_val = int(validation_split * data.shape[0])\n",
    "    data_train = data[:-(num_val*2)]\n",
    "    data_val = data[-(num_val*2):-(num_val)]\n",
    "    data_test = data[-num_val:]\n",
    "    return data_train, data_val, data_test"
   ]
  },
  {
   "cell_type": "code",
   "execution_count": 6,
   "id": "eb5fa633",
   "metadata": {
    "execution": {
     "iopub.execute_input": "2022-06-30T20:38:16.077243Z",
     "iopub.status.busy": "2022-06-30T20:38:16.076437Z",
     "iopub.status.idle": "2022-06-30T20:38:16.082320Z",
     "shell.execute_reply": "2022-06-30T20:38:16.081522Z"
    },
    "papermill": {
     "duration": 0.015626,
     "end_time": "2022-06-30T20:38:16.084118",
     "exception": false,
     "start_time": "2022-06-30T20:38:16.068492",
     "status": "completed"
    },
    "tags": []
   },
   "outputs": [],
   "source": [
    "def create_model_image(input_shape):\n",
    "    f1_score = tfa.metrics.F1Score(num_classes=NUM_CLASSES, average='macro')\n",
    "    \n",
    "    image_input = Input(shape=input_shape)\n",
    "    outputs = Dense(NUM_CLASSES, activation='softmax') (image_input)\n",
    "    \n",
    "    model = Model(image_input, outputs)\n",
    "    model.compile(optimizer='adam', loss='categorical_crossentropy', metrics=['accuracy', f1_score]) # f1 #tf.keras.metrics.AUC()\n",
    "    return model"
   ]
  },
  {
   "cell_type": "code",
   "execution_count": 7,
   "id": "9857ce74",
   "metadata": {
    "execution": {
     "iopub.execute_input": "2022-06-30T20:38:16.100257Z",
     "iopub.status.busy": "2022-06-30T20:38:16.099446Z",
     "iopub.status.idle": "2022-06-30T20:38:16.106243Z",
     "shell.execute_reply": "2022-06-30T20:38:16.105416Z"
    },
    "papermill": {
     "duration": 0.016778,
     "end_time": "2022-06-30T20:38:16.108059",
     "exception": false,
     "start_time": "2022-06-30T20:38:16.091281",
     "status": "completed"
    },
    "tags": []
   },
   "outputs": [],
   "source": [
    "def create_model_text(input_shape):\n",
    "    f1_score = tfa.metrics.F1Score(num_classes=NUM_CLASSES, average='macro')\n",
    "    \n",
    "    text_input = Input(shape=input_shape)\n",
    "    reshape_text = Reshape((1, -1)) (text_input)\n",
    "    lstm = LSTM(NUM_LSTM) (reshape_text)\n",
    "    outputs = Dense(NUM_CLASSES, activation='softmax') (lstm)\n",
    "    \n",
    "    model = Model(text_input, outputs)\n",
    "    model.compile(optimizer='adam', loss='categorical_crossentropy', metrics=['accuracy', f1_score]) # f1 #tf.keras.metrics.AUC()\n",
    "    \n",
    "    return model"
   ]
  },
  {
   "cell_type": "code",
   "execution_count": 8,
   "id": "af47be2d",
   "metadata": {
    "execution": {
     "iopub.execute_input": "2022-06-30T20:38:16.123423Z",
     "iopub.status.busy": "2022-06-30T20:38:16.123183Z",
     "iopub.status.idle": "2022-06-30T20:38:16.128655Z",
     "shell.execute_reply": "2022-06-30T20:38:16.127792Z"
    },
    "papermill": {
     "duration": 0.015358,
     "end_time": "2022-06-30T20:38:16.130631",
     "exception": false,
     "start_time": "2022-06-30T20:38:16.115273",
     "status": "completed"
    },
    "tags": []
   },
   "outputs": [],
   "source": [
    "def evaluate_model(model, X_test, y_test, checkpoint=None, verbose=1):\n",
    "    if checkpoint is not None:\n",
    "        model = load_model('./model_checkpoint/{}.h5'.format(checkpoint))#, custom_objects={'f1': f1})\n",
    "    \n",
    "    loss, acc, f1 = model.evaluate(X_test, y_test, verbose=verbose)\n",
    "    \n",
    "    if verbose == 1:\n",
    "        print('Loss:', loss)\n",
    "        print('Accuracy:', acc)\n",
    "        print('F1-score:', f1)\n",
    "        \n",
    "    return loss, acc, f1"
   ]
  },
  {
   "cell_type": "code",
   "execution_count": 9,
   "id": "03c0006f",
   "metadata": {
    "execution": {
     "iopub.execute_input": "2022-06-30T20:38:16.146039Z",
     "iopub.status.busy": "2022-06-30T20:38:16.145795Z",
     "iopub.status.idle": "2022-06-30T20:38:16.154669Z",
     "shell.execute_reply": "2022-06-30T20:38:16.153697Z"
    },
    "papermill": {
     "duration": 0.018741,
     "end_time": "2022-06-30T20:38:16.156528",
     "exception": false,
     "start_time": "2022-06-30T20:38:16.137787",
     "status": "completed"
    },
    "tags": []
   },
   "outputs": [],
   "source": [
    "def run_and_evaluate(name, X, y, verbose=0):\n",
    "    y = le.fit_transform(y)\n",
    "    y = to_categorical(np.asarray(y))\n",
    "    \n",
    "    X_train, X_val, X_test = split_data(X, VALIDATION_SPLIT)\n",
    "    y_train, y_val, y_test = split_data(y, VALIDATION_SPLIT)\n",
    "    \n",
    "    model = create_model_text(X_train.shape[1:])\n",
    "    early_stopping = EarlyStopping(monitor='val_loss', min_delta=1e-4, patience=EARLY_STOPPING)\n",
    "    checkpoint = ModelCheckpoint('./model_checkpoint/{}.h5'.format(name), save_best_only=True, verbose=verbose)\n",
    "    \n",
    "    history = model.fit(X_train, y_train, validation_data=(X_val, y_val), \n",
    "                        epochs=EPOCHS, batch_size=BATCH_SIZE, verbose=verbose,\n",
    "                        callbacks=[checkpoint, early_stopping])\n",
    "    \n",
    "    best_epoch = np.argmin(history.history['val_loss'])\n",
    "    print('Checkpoint loaded at epoch:', best_epoch)\n",
    "    \n",
    "    return history, evaluate_model(model, X_test, y_test, checkpoint=name, verbose=verbose)"
   ]
  },
  {
   "cell_type": "code",
   "execution_count": 10,
   "id": "83904337",
   "metadata": {
    "execution": {
     "iopub.execute_input": "2022-06-30T20:38:16.172485Z",
     "iopub.status.busy": "2022-06-30T20:38:16.172244Z",
     "iopub.status.idle": "2022-06-30T20:38:16.177295Z",
     "shell.execute_reply": "2022-06-30T20:38:16.176436Z"
    },
    "papermill": {
     "duration": 0.014862,
     "end_time": "2022-06-30T20:38:16.179209",
     "exception": false,
     "start_time": "2022-06-30T20:38:16.164347",
     "status": "completed"
    },
    "tags": []
   },
   "outputs": [],
   "source": [
    "def style_dataframe(dataframe):\n",
    "    return dataframe.style.highlight_max(subset=['Accuracy', 'F1-score'], props='color:chartreuse', axis=0)\\\n",
    "                          .highlight_min(subset=['Accuracy', 'F1-score'], props='color:tomato', axis=0)\\\n",
    "                          .highlight_min(subset=['Loss'], props='color:chartreuse', axis=0)\\\n",
    "                          .highlight_max(subset=['Loss'], props='color:tomato', axis=0)"
   ]
  },
  {
   "cell_type": "code",
   "execution_count": 11,
   "id": "78044fae",
   "metadata": {
    "execution": {
     "iopub.execute_input": "2022-06-30T20:38:16.195412Z",
     "iopub.status.busy": "2022-06-30T20:38:16.194597Z",
     "iopub.status.idle": "2022-06-30T20:38:16.201792Z",
     "shell.execute_reply": "2022-06-30T20:38:16.200960Z"
    },
    "papermill": {
     "duration": 0.016875,
     "end_time": "2022-06-30T20:38:16.203590",
     "exception": false,
     "start_time": "2022-06-30T20:38:16.186715",
     "status": "completed"
    },
    "tags": []
   },
   "outputs": [],
   "source": [
    "from IPython.display import display_html\n",
    "\n",
    "def display_dataframes(dfs, names=[], index=False):\n",
    "    def to_df(x):\n",
    "        if isinstance(x, pd.Series):\n",
    "            return pd.DataFrame(x)\n",
    "        else:\n",
    "            return x\n",
    "    html_str = ''\n",
    "    if names:\n",
    "        html_str += ('<tr>' + \n",
    "                     ''.join(f'<td style=\"text-align:center\">{name}</td>' for name in names) + \n",
    "                     '</tr>')\n",
    "    html_str += ('<tr>' + \n",
    "                 ''.join(f'<td style=\"vertical-align:top\"> {to_df(df).to_html()}</td>' \n",
    "                         for df in dfs) + \n",
    "                 '</tr>')\n",
    "    html_str = f'<table>{html_str}</table>'\n",
    "    html_str = html_str.replace('table','table style=\"display:inline\"')\n",
    "    display_html(html_str, raw=True)"
   ]
  },
  {
   "cell_type": "markdown",
   "id": "32e319a5",
   "metadata": {
    "papermill": {
     "duration": 0.007047,
     "end_time": "2022-06-30T20:38:16.218071",
     "exception": false,
     "start_time": "2022-06-30T20:38:16.211024",
     "status": "completed"
    },
    "tags": []
   },
   "source": [
    "# Load data"
   ]
  },
  {
   "cell_type": "code",
   "execution_count": 12,
   "id": "257c07dc",
   "metadata": {
    "execution": {
     "iopub.execute_input": "2022-06-30T20:38:16.233338Z",
     "iopub.status.busy": "2022-06-30T20:38:16.233083Z",
     "iopub.status.idle": "2022-06-30T20:38:17.579346Z",
     "shell.execute_reply": "2022-06-30T20:38:17.578356Z"
    },
    "papermill": {
     "duration": 1.356758,
     "end_time": "2022-06-30T20:38:17.581972",
     "exception": false,
     "start_time": "2022-06-30T20:38:16.225214",
     "status": "completed"
    },
    "tags": []
   },
   "outputs": [],
   "source": [
    "mvsa_single_bert_base, mvsa_multiple_bert_base = load_mvsa_feature('bert-base')\n",
    "mvsa_single_pos_bow, mvsa_multiple_pos_bow = load_mvsa_feature('pos-bow')\n",
    "mvsa_single_pos_tfidf, mvsa_multiple_pos_tfidf = load_mvsa_feature('pos-tfidf')\n",
    "mvsa_single_ner_bow, mvsa_multiple_ner_bow = load_mvsa_feature('ner-bow')\n",
    "mvsa_single_ner_tfidf, mvsa_multiple_ner_tfidf = load_mvsa_feature('ner-tfidf')"
   ]
  },
  {
   "cell_type": "code",
   "execution_count": 13,
   "id": "5ad74ed6",
   "metadata": {
    "execution": {
     "iopub.execute_input": "2022-06-30T20:38:17.599478Z",
     "iopub.status.busy": "2022-06-30T20:38:17.598104Z",
     "iopub.status.idle": "2022-06-30T20:38:17.747600Z",
     "shell.execute_reply": "2022-06-30T20:38:17.746675Z"
    },
    "papermill": {
     "duration": 0.160494,
     "end_time": "2022-06-30T20:38:17.750058",
     "exception": false,
     "start_time": "2022-06-30T20:38:17.589564",
     "status": "completed"
    },
    "tags": []
   },
   "outputs": [],
   "source": [
    "mvsa_bert_base = load_mvsa_feature('bert-base', merge=True)\n",
    "mvsa_pos_bow = load_mvsa_feature('pos-bow', merge=True)\n",
    "mvsa_pos_tfidf = load_mvsa_feature('pos-tfidf', merge=True)\n",
    "mvsa_ner_bow = load_mvsa_feature('ner-bow', merge=True)\n",
    "mvsa_ner_tfidf = load_mvsa_feature('ner-tfidf', merge=True)"
   ]
  },
  {
   "cell_type": "code",
   "execution_count": 14,
   "id": "4a004d86",
   "metadata": {
    "execution": {
     "iopub.execute_input": "2022-06-30T20:38:17.767331Z",
     "iopub.status.busy": "2022-06-30T20:38:17.766360Z",
     "iopub.status.idle": "2022-06-30T20:38:17.891577Z",
     "shell.execute_reply": "2022-06-30T20:38:17.890621Z"
    },
    "papermill": {
     "duration": 0.136415,
     "end_time": "2022-06-30T20:38:17.893945",
     "exception": false,
     "start_time": "2022-06-30T20:38:17.757530",
     "status": "completed"
    },
    "tags": []
   },
   "outputs": [],
   "source": [
    "mvsa_single_multimodal_labels, mvsa_single_text_labels, mvsa_single_image_labels = load_labels('../input/mvsa-features/labels/mvsa-single-labels.hdf5')\n",
    "mvsa_multiple_multimodal_labels, mvsa_multiple_text_labels, mvsa_multiple_image_labels = load_labels('../input/mvsa-features/labels/mvsa-multiple-labels.hdf5')\n",
    "\n",
    "mvsa_multimodal_labels = merge_mvsa(mvsa_single_multimodal_labels, mvsa_multiple_multimodal_labels)\n",
    "mvsa_text_labels = merge_mvsa(mvsa_single_text_labels, mvsa_multiple_text_labels)\n",
    "mvsa_image_labels = merge_mvsa(mvsa_single_image_labels, mvsa_multiple_image_labels)"
   ]
  },
  {
   "cell_type": "code",
   "execution_count": 15,
   "id": "1197e075",
   "metadata": {
    "execution": {
     "iopub.execute_input": "2022-06-30T20:38:17.910369Z",
     "iopub.status.busy": "2022-06-30T20:38:17.909632Z",
     "iopub.status.idle": "2022-06-30T20:38:17.917785Z",
     "shell.execute_reply": "2022-06-30T20:38:17.916922Z"
    },
    "papermill": {
     "duration": 0.01853,
     "end_time": "2022-06-30T20:38:17.919902",
     "exception": false,
     "start_time": "2022-06-30T20:38:17.901372",
     "status": "completed"
    },
    "tags": []
   },
   "outputs": [],
   "source": [
    "le = preprocessing.LabelEncoder()\n",
    "le.fit(mvsa_multimodal_labels)\n",
    "NUM_CLASSES = len(le.classes_) # =3"
   ]
  },
  {
   "cell_type": "code",
   "execution_count": 16,
   "id": "fa8b8854",
   "metadata": {
    "execution": {
     "iopub.execute_input": "2022-06-30T20:38:17.935723Z",
     "iopub.status.busy": "2022-06-30T20:38:17.935463Z",
     "iopub.status.idle": "2022-06-30T20:38:18.244526Z",
     "shell.execute_reply": "2022-06-30T20:38:18.243552Z"
    },
    "papermill": {
     "duration": 0.319368,
     "end_time": "2022-06-30T20:38:18.246897",
     "exception": false,
     "start_time": "2022-06-30T20:38:17.927529",
     "status": "completed"
    },
    "tags": []
   },
   "outputs": [],
   "source": [
    "feature_names = ['bert-base', 'bert-pos-bow', 'bert-pos-ner-bow', 'bert-pos-tfidf', 'bert-pos-ner-tfidf']\n",
    "\n",
    "mvsa_single_features = [mvsa_single_bert_base, \n",
    "                        np.concatenate((mvsa_single_bert_base, mvsa_single_pos_bow), axis=1), \n",
    "                        np.concatenate((mvsa_single_bert_base, mvsa_single_pos_bow, mvsa_single_ner_bow), axis=1),\n",
    "                        np.concatenate((mvsa_single_bert_base, mvsa_single_pos_tfidf), axis=1), \n",
    "                        np.concatenate((mvsa_single_bert_base, mvsa_single_pos_tfidf, mvsa_single_ner_tfidf), axis=1)]\n",
    "\n",
    "mvsa_multiple_features = [mvsa_multiple_bert_base, \n",
    "                          np.concatenate((mvsa_multiple_bert_base, mvsa_multiple_pos_bow), axis=1), \n",
    "                          np.concatenate((mvsa_multiple_bert_base, mvsa_multiple_pos_bow, mvsa_multiple_ner_bow), axis=1),\n",
    "                          np.concatenate((mvsa_multiple_bert_base, mvsa_multiple_pos_tfidf), axis=1), \n",
    "                          np.concatenate((mvsa_multiple_bert_base, mvsa_multiple_pos_tfidf, mvsa_multiple_ner_tfidf), axis=1)]\n",
    "\n",
    "mvsa_features = [mvsa_bert_base,\n",
    "                 np.concatenate((mvsa_bert_base, mvsa_pos_bow), axis=1), \n",
    "                 np.concatenate((mvsa_bert_base, mvsa_pos_bow, mvsa_ner_bow), axis=1),\n",
    "                 np.concatenate((mvsa_bert_base, mvsa_pos_tfidf), axis=1), \n",
    "                 np.concatenate((mvsa_bert_base, mvsa_pos_tfidf, mvsa_ner_bow), axis=1)]"
   ]
  },
  {
   "cell_type": "markdown",
   "id": "2da61411",
   "metadata": {
    "papermill": {
     "duration": 0.007097,
     "end_time": "2022-06-30T20:38:18.261569",
     "exception": false,
     "start_time": "2022-06-30T20:38:18.254472",
     "status": "completed"
    },
    "tags": []
   },
   "source": [
    "# Run models and Evalution display"
   ]
  },
  {
   "cell_type": "code",
   "execution_count": 17,
   "id": "13f9b891",
   "metadata": {
    "execution": {
     "iopub.execute_input": "2022-06-30T20:38:18.277126Z",
     "iopub.status.busy": "2022-06-30T20:38:18.276839Z",
     "iopub.status.idle": "2022-06-30T20:38:18.281721Z",
     "shell.execute_reply": "2022-06-30T20:38:18.280742Z"
    },
    "papermill": {
     "duration": 0.015091,
     "end_time": "2022-06-30T20:38:18.283812",
     "exception": false,
     "start_time": "2022-06-30T20:38:18.268721",
     "status": "completed"
    },
    "tags": []
   },
   "outputs": [],
   "source": [
    "reset_seeds()\n",
    "EPOCHS = 100\n",
    "BATCH_SIZE = 128\n",
    "VALIDATION_SPLIT = 0.1\n",
    "EARLY_STOPPING = 10\n",
    "NUM_LSTM = 128"
   ]
  },
  {
   "cell_type": "markdown",
   "id": "43fbc389",
   "metadata": {
    "papermill": {
     "duration": 0.007238,
     "end_time": "2022-06-30T20:38:18.298228",
     "exception": false,
     "start_time": "2022-06-30T20:38:18.290990",
     "status": "completed"
    },
    "tags": []
   },
   "source": [
    "## With original text labels"
   ]
  },
  {
   "cell_type": "code",
   "execution_count": 18,
   "id": "7cd6d589",
   "metadata": {
    "execution": {
     "iopub.execute_input": "2022-06-30T20:38:18.314197Z",
     "iopub.status.busy": "2022-06-30T20:38:18.313657Z",
     "iopub.status.idle": "2022-06-30T20:38:51.618583Z",
     "shell.execute_reply": "2022-06-30T20:38:51.616775Z"
    },
    "papermill": {
     "duration": 33.31532,
     "end_time": "2022-06-30T20:38:51.620702",
     "exception": false,
     "start_time": "2022-06-30T20:38:18.305382",
     "status": "completed"
    },
    "tags": []
   },
   "outputs": [
    {
     "name": "stdout",
     "output_type": "stream",
     "text": [
      "MVSA-Single: With original text labels\n",
      "\n",
      "MVSA-Single: bert-base\n"
     ]
    },
    {
     "name": "stderr",
     "output_type": "stream",
     "text": [
      "2022-06-30 20:38:18.400384: I tensorflow/stream_executor/cuda/cuda_gpu_executor.cc:937] successful NUMA node read from SysFS had negative value (-1), but there must be at least one NUMA node, so returning NUMA node zero\n",
      "2022-06-30 20:38:18.401413: I tensorflow/stream_executor/cuda/cuda_gpu_executor.cc:937] successful NUMA node read from SysFS had negative value (-1), but there must be at least one NUMA node, so returning NUMA node zero\n",
      "2022-06-30 20:38:18.402099: I tensorflow/stream_executor/cuda/cuda_gpu_executor.cc:937] successful NUMA node read from SysFS had negative value (-1), but there must be at least one NUMA node, so returning NUMA node zero\n",
      "2022-06-30 20:38:18.402940: I tensorflow/core/platform/cpu_feature_guard.cc:142] This TensorFlow binary is optimized with oneAPI Deep Neural Network Library (oneDNN) to use the following CPU instructions in performance-critical operations:  AVX2 AVX512F FMA\n",
      "To enable them in other operations, rebuild TensorFlow with the appropriate compiler flags.\n",
      "2022-06-30 20:38:18.403226: I tensorflow/stream_executor/cuda/cuda_gpu_executor.cc:937] successful NUMA node read from SysFS had negative value (-1), but there must be at least one NUMA node, so returning NUMA node zero\n",
      "2022-06-30 20:38:18.403913: I tensorflow/stream_executor/cuda/cuda_gpu_executor.cc:937] successful NUMA node read from SysFS had negative value (-1), but there must be at least one NUMA node, so returning NUMA node zero\n",
      "2022-06-30 20:38:18.404539: I tensorflow/stream_executor/cuda/cuda_gpu_executor.cc:937] successful NUMA node read from SysFS had negative value (-1), but there must be at least one NUMA node, so returning NUMA node zero\n",
      "2022-06-30 20:38:22.899474: I tensorflow/stream_executor/cuda/cuda_gpu_executor.cc:937] successful NUMA node read from SysFS had negative value (-1), but there must be at least one NUMA node, so returning NUMA node zero\n",
      "2022-06-30 20:38:22.900344: I tensorflow/stream_executor/cuda/cuda_gpu_executor.cc:937] successful NUMA node read from SysFS had negative value (-1), but there must be at least one NUMA node, so returning NUMA node zero\n",
      "2022-06-30 20:38:22.901042: I tensorflow/stream_executor/cuda/cuda_gpu_executor.cc:937] successful NUMA node read from SysFS had negative value (-1), but there must be at least one NUMA node, so returning NUMA node zero\n",
      "2022-06-30 20:38:22.901665: I tensorflow/core/common_runtime/gpu/gpu_device.cc:1510] Created device /job:localhost/replica:0/task:0/device:GPU:0 with 15047 MB memory:  -> device: 0, name: Tesla P100-PCIE-16GB, pci bus id: 0000:00:04.0, compute capability: 6.0\n",
      "2022-06-30 20:38:23.556074: I tensorflow/compiler/mlir/mlir_graph_optimization_pass.cc:185] None of the MLIR Optimization Passes are enabled (registered 2)\n",
      "2022-06-30 20:38:26.089893: I tensorflow/stream_executor/cuda/cuda_dnn.cc:369] Loaded cuDNN version 8005\n"
     ]
    },
    {
     "name": "stdout",
     "output_type": "stream",
     "text": [
      "Checkpoint loaded at epoch: 6\n",
      "\n",
      "MVSA-Single: bert-pos-bow\n",
      "Checkpoint loaded at epoch: 6\n",
      "\n",
      "MVSA-Single: bert-pos-ner-bow\n",
      "Checkpoint loaded at epoch: 6\n",
      "\n",
      "MVSA-Single: bert-pos-tfidf\n",
      "Checkpoint loaded at epoch: 6\n",
      "\n",
      "MVSA-Single: bert-pos-ner-tfidf\n",
      "Checkpoint loaded at epoch: 6\n",
      "\n"
     ]
    }
   ],
   "source": [
    "print('MVSA-Single: With original text labels\\n')\n",
    "# run model with all features data of MVSA-Single\n",
    "mvsa_single_hitories = []\n",
    "mvsa_single_score = []\n",
    "for i in range(len(feature_names)):\n",
    "    print('MVSA-Single:', feature_names[i])\n",
    "    history, scores = run_and_evaluate('single-' + feature_names[i], mvsa_single_features[i], mvsa_single_text_labels, verbose=0)\n",
    "    mvsa_single_hitories.append(history)\n",
    "    mvsa_single_score.append(scores)\n",
    "    print()\n",
    "    \n",
    "df_single_scores = pd.DataFrame(mvsa_single_score, columns=['Loss', 'Accuracy', 'F1-score'], index=feature_names)"
   ]
  },
  {
   "cell_type": "code",
   "execution_count": 19,
   "id": "9c20377d",
   "metadata": {
    "execution": {
     "iopub.execute_input": "2022-06-30T20:38:51.639698Z",
     "iopub.status.busy": "2022-06-30T20:38:51.638029Z",
     "iopub.status.idle": "2022-06-30T20:39:46.469376Z",
     "shell.execute_reply": "2022-06-30T20:39:46.468383Z"
    },
    "papermill": {
     "duration": 54.842387,
     "end_time": "2022-06-30T20:39:46.471416",
     "exception": false,
     "start_time": "2022-06-30T20:38:51.629029",
     "status": "completed"
    },
    "tags": []
   },
   "outputs": [
    {
     "name": "stdout",
     "output_type": "stream",
     "text": [
      "MVSA-Multiple: With original image labels\n",
      "\n",
      "MVSA-Multiple: bert-base\n",
      "Checkpoint loaded at epoch: 3\n",
      "\n",
      "MVSA-Multiple: bert-pos-bow\n",
      "Checkpoint loaded at epoch: 3\n",
      "\n",
      "MVSA-Multiple: bert-pos-ner-bow\n",
      "Checkpoint loaded at epoch: 3\n",
      "\n",
      "MVSA-Multiple: bert-pos-tfidf\n",
      "Checkpoint loaded at epoch: 3\n",
      "\n",
      "MVSA-Multiple: bert-pos-ner-tfidf\n",
      "Checkpoint loaded at epoch: 3\n",
      "\n"
     ]
    }
   ],
   "source": [
    "print('MVSA-Multiple: With original image labels\\n')\n",
    "# run model with all features data of MVSA-Multiple\n",
    "mvsa_multiple_hitories = []\n",
    "mvsa_multiple_score = []\n",
    "for i in range(len(feature_names)):\n",
    "    print('MVSA-Multiple:', feature_names[i])\n",
    "    history, scores = run_and_evaluate('multiple-' + feature_names[i], mvsa_multiple_features[i], mvsa_multiple_text_labels, verbose=0)\n",
    "    mvsa_multiple_hitories.append(history)\n",
    "    mvsa_multiple_score.append(scores)\n",
    "    print()\n",
    "    \n",
    "df_multiple_scores = pd.DataFrame(mvsa_multiple_score, columns=['Loss', 'Accuracy', 'F1-score'], index=feature_names)"
   ]
  },
  {
   "cell_type": "code",
   "execution_count": 20,
   "id": "43f08b62",
   "metadata": {
    "execution": {
     "iopub.execute_input": "2022-06-30T20:39:46.491556Z",
     "iopub.status.busy": "2022-06-30T20:39:46.490016Z",
     "iopub.status.idle": "2022-06-30T20:39:46.496699Z",
     "shell.execute_reply": "2022-06-30T20:39:46.495844Z"
    },
    "papermill": {
     "duration": 0.018276,
     "end_time": "2022-06-30T20:39:46.498580",
     "exception": false,
     "start_time": "2022-06-30T20:39:46.480304",
     "status": "completed"
    },
    "tags": []
   },
   "outputs": [],
   "source": [
    "mvsa_average_scores = np.mean([mvsa_single_score, mvsa_multiple_score], axis=0)\n",
    "df_average_scores = pd.DataFrame(mvsa_average_scores, columns=['Loss', 'Accuracy', 'F1-score'], index=feature_names)"
   ]
  },
  {
   "cell_type": "code",
   "execution_count": 21,
   "id": "70994533",
   "metadata": {
    "execution": {
     "iopub.execute_input": "2022-06-30T20:39:46.516833Z",
     "iopub.status.busy": "2022-06-30T20:39:46.516541Z",
     "iopub.status.idle": "2022-06-30T20:39:46.612469Z",
     "shell.execute_reply": "2022-06-30T20:39:46.611352Z"
    },
    "papermill": {
     "duration": 0.108345,
     "end_time": "2022-06-30T20:39:46.615428",
     "exception": false,
     "start_time": "2022-06-30T20:39:46.507083",
     "status": "completed"
    },
    "tags": []
   },
   "outputs": [
    {
     "name": "stdout",
     "output_type": "stream",
     "text": [
      "With original image labels\n",
      "\n"
     ]
    },
    {
     "data": {
      "text/html": [
       "<table style=\"display:inline\"><tr><td style=\"text-align:center\">MVSA-Single</td><td style=\"text-align:center\">MVSA-Multiple</td><td style=\"text-align:center\">Average</td></tr><tr><td style=\"vertical-align:top\"> <style type=\"text/css\">\n",
       "#T_c2f8a_row0_col0, #T_c2f8a_row0_col1, #T_c2f8a_row0_col2 {\n",
       "  color: chartreuse;\n",
       "}\n",
       "#T_c2f8a_row2_col1, #T_c2f8a_row2_col2, #T_c2f8a_row4_col0 {\n",
       "  color: tomato;\n",
       "}\n",
       "</style>\n",
       "<table style=\"display:inline\" id=\"T_c2f8a_\">\n",
       "  <thead>\n",
       "    <tr>\n",
       "      <th class=\"blank level0\" >&nbsp;</th>\n",
       "      <th class=\"col_heading level0 col0\" >Loss</th>\n",
       "      <th class=\"col_heading level0 col1\" >Accuracy</th>\n",
       "      <th class=\"col_heading level0 col2\" >F1-score</th>\n",
       "    </tr>\n",
       "  </thead>\n",
       "  <tbody>\n",
       "    <tr>\n",
       "      <th id=\"T_c2f8a_level0_row0\" class=\"row_heading level0 row0\" >bert-base</th>\n",
       "      <td id=\"T_c2f8a_row0_col0\" class=\"data row0 col0\" >0.721703</td>\n",
       "      <td id=\"T_c2f8a_row0_col1\" class=\"data row0 col1\" >0.707657</td>\n",
       "      <td id=\"T_c2f8a_row0_col2\" class=\"data row0 col2\" >0.675780</td>\n",
       "    </tr>\n",
       "    <tr>\n",
       "      <th id=\"T_c2f8a_level0_row1\" class=\"row_heading level0 row1\" >bert-pos-bow</th>\n",
       "      <td id=\"T_c2f8a_row1_col0\" class=\"data row1 col0\" >0.728056</td>\n",
       "      <td id=\"T_c2f8a_row1_col1\" class=\"data row1 col1\" >0.700696</td>\n",
       "      <td id=\"T_c2f8a_row1_col2\" class=\"data row1 col2\" >0.669886</td>\n",
       "    </tr>\n",
       "    <tr>\n",
       "      <th id=\"T_c2f8a_level0_row2\" class=\"row_heading level0 row2\" >bert-pos-ner-bow</th>\n",
       "      <td id=\"T_c2f8a_row2_col0\" class=\"data row2 col0\" >0.733448</td>\n",
       "      <td id=\"T_c2f8a_row2_col1\" class=\"data row2 col1\" >0.689095</td>\n",
       "      <td id=\"T_c2f8a_row2_col2\" class=\"data row2 col2\" >0.657411</td>\n",
       "    </tr>\n",
       "    <tr>\n",
       "      <th id=\"T_c2f8a_level0_row3\" class=\"row_heading level0 row3\" >bert-pos-tfidf</th>\n",
       "      <td id=\"T_c2f8a_row3_col0\" class=\"data row3 col0\" >0.721896</td>\n",
       "      <td id=\"T_c2f8a_row3_col1\" class=\"data row3 col1\" >0.705336</td>\n",
       "      <td id=\"T_c2f8a_row3_col2\" class=\"data row3 col2\" >0.664209</td>\n",
       "    </tr>\n",
       "    <tr>\n",
       "      <th id=\"T_c2f8a_level0_row4\" class=\"row_heading level0 row4\" >bert-pos-ner-tfidf</th>\n",
       "      <td id=\"T_c2f8a_row4_col0\" class=\"data row4 col0\" >0.737369</td>\n",
       "      <td id=\"T_c2f8a_row4_col1\" class=\"data row4 col1\" >0.698376</td>\n",
       "      <td id=\"T_c2f8a_row4_col2\" class=\"data row4 col2\" >0.665181</td>\n",
       "    </tr>\n",
       "  </tbody>\n",
       "</table style=\"display:inline\">\n",
       "</td><td style=\"vertical-align:top\"> <style type=\"text/css\">\n",
       "#T_ca75a_row0_col1, #T_ca75a_row3_col2, #T_ca75a_row4_col0 {\n",
       "  color: tomato;\n",
       "}\n",
       "#T_ca75a_row1_col1, #T_ca75a_row1_col2, #T_ca75a_row3_col0 {\n",
       "  color: chartreuse;\n",
       "}\n",
       "</style>\n",
       "<table style=\"display:inline\" id=\"T_ca75a_\">\n",
       "  <thead>\n",
       "    <tr>\n",
       "      <th class=\"blank level0\" >&nbsp;</th>\n",
       "      <th class=\"col_heading level0 col0\" >Loss</th>\n",
       "      <th class=\"col_heading level0 col1\" >Accuracy</th>\n",
       "      <th class=\"col_heading level0 col2\" >F1-score</th>\n",
       "    </tr>\n",
       "  </thead>\n",
       "  <tbody>\n",
       "    <tr>\n",
       "      <th id=\"T_ca75a_level0_row0\" class=\"row_heading level0 row0\" >bert-base</th>\n",
       "      <td id=\"T_ca75a_row0_col0\" class=\"data row0 col0\" >0.804546</td>\n",
       "      <td id=\"T_ca75a_row0_col1\" class=\"data row0 col1\" >0.597680</td>\n",
       "      <td id=\"T_ca75a_row0_col2\" class=\"data row0 col2\" >0.540417</td>\n",
       "    </tr>\n",
       "    <tr>\n",
       "      <th id=\"T_ca75a_level0_row1\" class=\"row_heading level0 row1\" >bert-pos-bow</th>\n",
       "      <td id=\"T_ca75a_row1_col0\" class=\"data row1 col0\" >0.804690</td>\n",
       "      <td id=\"T_ca75a_row1_col1\" class=\"data row1 col1\" >0.607448</td>\n",
       "      <td id=\"T_ca75a_row1_col2\" class=\"data row1 col2\" >0.549103</td>\n",
       "    </tr>\n",
       "    <tr>\n",
       "      <th id=\"T_ca75a_level0_row2\" class=\"row_heading level0 row2\" >bert-pos-ner-bow</th>\n",
       "      <td id=\"T_ca75a_row2_col0\" class=\"data row2 col0\" >0.805016</td>\n",
       "      <td id=\"T_ca75a_row2_col1\" class=\"data row2 col1\" >0.602564</td>\n",
       "      <td id=\"T_ca75a_row2_col2\" class=\"data row2 col2\" >0.544780</td>\n",
       "    </tr>\n",
       "    <tr>\n",
       "      <th id=\"T_ca75a_level0_row3\" class=\"row_heading level0 row3\" >bert-pos-tfidf</th>\n",
       "      <td id=\"T_ca75a_row3_col0\" class=\"data row3 col0\" >0.803599</td>\n",
       "      <td id=\"T_ca75a_row3_col1\" class=\"data row3 col1\" >0.602564</td>\n",
       "      <td id=\"T_ca75a_row3_col2\" class=\"data row3 col2\" >0.537163</td>\n",
       "    </tr>\n",
       "    <tr>\n",
       "      <th id=\"T_ca75a_level0_row4\" class=\"row_heading level0 row4\" >bert-pos-ner-tfidf</th>\n",
       "      <td id=\"T_ca75a_row4_col0\" class=\"data row4 col0\" >0.808248</td>\n",
       "      <td id=\"T_ca75a_row4_col1\" class=\"data row4 col1\" >0.602564</td>\n",
       "      <td id=\"T_ca75a_row4_col2\" class=\"data row4 col2\" >0.546119</td>\n",
       "    </tr>\n",
       "  </tbody>\n",
       "</table style=\"display:inline\">\n",
       "</td><td style=\"vertical-align:top\"> <style type=\"text/css\">\n",
       "#T_ee3e0_row1_col1, #T_ee3e0_row1_col2, #T_ee3e0_row3_col0 {\n",
       "  color: chartreuse;\n",
       "}\n",
       "#T_ee3e0_row2_col1, #T_ee3e0_row3_col2, #T_ee3e0_row4_col0 {\n",
       "  color: tomato;\n",
       "}\n",
       "</style>\n",
       "<table style=\"display:inline\" id=\"T_ee3e0_\">\n",
       "  <thead>\n",
       "    <tr>\n",
       "      <th class=\"blank level0\" >&nbsp;</th>\n",
       "      <th class=\"col_heading level0 col0\" >Loss</th>\n",
       "      <th class=\"col_heading level0 col1\" >Accuracy</th>\n",
       "      <th class=\"col_heading level0 col2\" >F1-score</th>\n",
       "    </tr>\n",
       "  </thead>\n",
       "  <tbody>\n",
       "    <tr>\n",
       "      <th id=\"T_ee3e0_level0_row0\" class=\"row_heading level0 row0\" >bert-base</th>\n",
       "      <td id=\"T_ee3e0_row0_col0\" class=\"data row0 col0\" >0.763124</td>\n",
       "      <td id=\"T_ee3e0_row0_col1\" class=\"data row0 col1\" >0.652668</td>\n",
       "      <td id=\"T_ee3e0_row0_col2\" class=\"data row0 col2\" >0.608099</td>\n",
       "    </tr>\n",
       "    <tr>\n",
       "      <th id=\"T_ee3e0_level0_row1\" class=\"row_heading level0 row1\" >bert-pos-bow</th>\n",
       "      <td id=\"T_ee3e0_row1_col0\" class=\"data row1 col0\" >0.766373</td>\n",
       "      <td id=\"T_ee3e0_row1_col1\" class=\"data row1 col1\" >0.654072</td>\n",
       "      <td id=\"T_ee3e0_row1_col2\" class=\"data row1 col2\" >0.609494</td>\n",
       "    </tr>\n",
       "    <tr>\n",
       "      <th id=\"T_ee3e0_level0_row2\" class=\"row_heading level0 row2\" >bert-pos-ner-bow</th>\n",
       "      <td id=\"T_ee3e0_row2_col0\" class=\"data row2 col0\" >0.769232</td>\n",
       "      <td id=\"T_ee3e0_row2_col1\" class=\"data row2 col1\" >0.645830</td>\n",
       "      <td id=\"T_ee3e0_row2_col2\" class=\"data row2 col2\" >0.601096</td>\n",
       "    </tr>\n",
       "    <tr>\n",
       "      <th id=\"T_ee3e0_level0_row3\" class=\"row_heading level0 row3\" >bert-pos-tfidf</th>\n",
       "      <td id=\"T_ee3e0_row3_col0\" class=\"data row3 col0\" >0.762747</td>\n",
       "      <td id=\"T_ee3e0_row3_col1\" class=\"data row3 col1\" >0.653950</td>\n",
       "      <td id=\"T_ee3e0_row3_col2\" class=\"data row3 col2\" >0.600686</td>\n",
       "    </tr>\n",
       "    <tr>\n",
       "      <th id=\"T_ee3e0_level0_row4\" class=\"row_heading level0 row4\" >bert-pos-ner-tfidf</th>\n",
       "      <td id=\"T_ee3e0_row4_col0\" class=\"data row4 col0\" >0.772808</td>\n",
       "      <td id=\"T_ee3e0_row4_col1\" class=\"data row4 col1\" >0.650470</td>\n",
       "      <td id=\"T_ee3e0_row4_col2\" class=\"data row4 col2\" >0.605650</td>\n",
       "    </tr>\n",
       "  </tbody>\n",
       "</table style=\"display:inline\">\n",
       "</td></tr></table style=\"display:inline\">"
      ]
     },
     "metadata": {},
     "output_type": "display_data"
    }
   ],
   "source": [
    "print('With original image labels\\n')\n",
    "display_dataframes((style_dataframe(df_single_scores), style_dataframe(df_multiple_scores), style_dataframe(df_average_scores)), \n",
    "                   names=['MVSA-Single', 'MVSA-Multiple', 'Average'])"
   ]
  },
  {
   "cell_type": "markdown",
   "id": "f1ad3dbc",
   "metadata": {
    "papermill": {
     "duration": 0.008664,
     "end_time": "2022-06-30T20:39:46.633047",
     "exception": false,
     "start_time": "2022-06-30T20:39:46.624383",
     "status": "completed"
    },
    "tags": []
   },
   "source": [
    "## With multimodal labels"
   ]
  },
  {
   "cell_type": "code",
   "execution_count": 22,
   "id": "ef6adb5b",
   "metadata": {
    "execution": {
     "iopub.execute_input": "2022-06-30T20:39:46.652116Z",
     "iopub.status.busy": "2022-06-30T20:39:46.651854Z",
     "iopub.status.idle": "2022-06-30T20:40:08.698951Z",
     "shell.execute_reply": "2022-06-30T20:40:08.697930Z"
    },
    "papermill": {
     "duration": 22.058959,
     "end_time": "2022-06-30T20:40:08.701000",
     "exception": false,
     "start_time": "2022-06-30T20:39:46.642041",
     "status": "completed"
    },
    "tags": []
   },
   "outputs": [
    {
     "name": "stdout",
     "output_type": "stream",
     "text": [
      "With multimodal labels\n",
      "MVSA-Single: bert-base\n",
      "Checkpoint loaded at epoch: 3\n",
      "\n",
      "MVSA-Single: bert-pos-bow\n",
      "Checkpoint loaded at epoch: 3\n",
      "\n",
      "MVSA-Single: bert-pos-ner-bow\n",
      "Checkpoint loaded at epoch: 3\n",
      "\n",
      "MVSA-Single: bert-pos-tfidf\n",
      "Checkpoint loaded at epoch: 3\n",
      "\n",
      "MVSA-Single: bert-pos-ner-tfidf\n",
      "Checkpoint loaded at epoch: 3\n",
      "\n"
     ]
    }
   ],
   "source": [
    "print('With multimodal labels')\n",
    "\n",
    "# run model with all features data of MVSA-Single\n",
    "mvsa_single_hitories2 = []\n",
    "mvsa_single_score2 = []\n",
    "for i in range(len(feature_names)):\n",
    "    print('MVSA-Single:', feature_names[i])\n",
    "    history, scores = run_and_evaluate('single-' + feature_names[i], mvsa_single_features[i], mvsa_single_multimodal_labels, verbose=0)\n",
    "    mvsa_single_hitories2.append(history)\n",
    "    mvsa_single_score2.append(scores)\n",
    "    print()\n",
    "    \n",
    "df_single_scores2 = pd.DataFrame(mvsa_single_score2, columns=['Loss', 'Accuracy', 'F1-score'], index=feature_names)"
   ]
  },
  {
   "cell_type": "code",
   "execution_count": 23,
   "id": "cd891c23",
   "metadata": {
    "execution": {
     "iopub.execute_input": "2022-06-30T20:40:08.722102Z",
     "iopub.status.busy": "2022-06-30T20:40:08.721811Z",
     "iopub.status.idle": "2022-06-30T20:41:03.007884Z",
     "shell.execute_reply": "2022-06-30T20:41:03.005806Z"
    },
    "papermill": {
     "duration": 54.29938,
     "end_time": "2022-06-30T20:41:03.010422",
     "exception": false,
     "start_time": "2022-06-30T20:40:08.711042",
     "status": "completed"
    },
    "tags": []
   },
   "outputs": [
    {
     "name": "stdout",
     "output_type": "stream",
     "text": [
      "With multimodal labels\n",
      "MVSA-Multiple: bert-base\n",
      "Checkpoint loaded at epoch: 2\n",
      "\n",
      "MVSA-Multiple: bert-pos-bow\n",
      "Checkpoint loaded at epoch: 2\n",
      "\n",
      "MVSA-Multiple: bert-pos-ner-bow\n",
      "Checkpoint loaded at epoch: 2\n",
      "\n",
      "MVSA-Multiple: bert-pos-tfidf\n",
      "Checkpoint loaded at epoch: 2\n",
      "\n",
      "MVSA-Multiple: bert-pos-ner-tfidf\n",
      "Checkpoint loaded at epoch: 2\n",
      "\n"
     ]
    }
   ],
   "source": [
    "print('With multimodal labels')\n",
    "# run model with all features data of MVSA-Multiple\n",
    "mvsa_multiple_hitories2 = []\n",
    "mvsa_multiple_score2 = []\n",
    "for i in range(len(feature_names)):\n",
    "    print('MVSA-Multiple:', feature_names[i])\n",
    "    history, scores = run_and_evaluate('multiple-' + feature_names[i], mvsa_multiple_features[i], mvsa_multiple_multimodal_labels, verbose=0)\n",
    "    mvsa_multiple_hitories2.append(history)\n",
    "    mvsa_multiple_score2.append(scores)\n",
    "    print()\n",
    "    \n",
    "df_multiple_scores2 = pd.DataFrame(mvsa_multiple_score2, columns=['Loss', 'Accuracy', 'F1-score'], index=feature_names)"
   ]
  },
  {
   "cell_type": "code",
   "execution_count": 24,
   "id": "0b424d85",
   "metadata": {
    "execution": {
     "iopub.execute_input": "2022-06-30T20:41:03.033634Z",
     "iopub.status.busy": "2022-06-30T20:41:03.033347Z",
     "iopub.status.idle": "2022-06-30T20:41:03.038685Z",
     "shell.execute_reply": "2022-06-30T20:41:03.037711Z"
    },
    "papermill": {
     "duration": 0.019433,
     "end_time": "2022-06-30T20:41:03.040745",
     "exception": false,
     "start_time": "2022-06-30T20:41:03.021312",
     "status": "completed"
    },
    "tags": []
   },
   "outputs": [],
   "source": [
    "mvsa_average_scores2 = np.mean([mvsa_single_score2, mvsa_multiple_score2], axis=0)\n",
    "df_average_scores2 = pd.DataFrame(mvsa_average_scores2, columns=['Loss', 'Accuracy', 'F1-score'], index=feature_names)"
   ]
  },
  {
   "cell_type": "code",
   "execution_count": 25,
   "id": "a2d2f50b",
   "metadata": {
    "execution": {
     "iopub.execute_input": "2022-06-30T20:41:03.062834Z",
     "iopub.status.busy": "2022-06-30T20:41:03.062553Z",
     "iopub.status.idle": "2022-06-30T20:41:03.103267Z",
     "shell.execute_reply": "2022-06-30T20:41:03.102306Z"
    },
    "papermill": {
     "duration": 0.054087,
     "end_time": "2022-06-30T20:41:03.105111",
     "exception": false,
     "start_time": "2022-06-30T20:41:03.051024",
     "status": "completed"
    },
    "tags": []
   },
   "outputs": [
    {
     "name": "stdout",
     "output_type": "stream",
     "text": [
      "With multimodal labels\n",
      "\n"
     ]
    },
    {
     "data": {
      "text/html": [
       "<table style=\"display:inline\"><tr><td style=\"text-align:center\">MVSA-Single</td><td style=\"text-align:center\">MVSA-Multiple</td><td style=\"text-align:center\">Average</td></tr><tr><td style=\"vertical-align:top\"> <style type=\"text/css\">\n",
       "#T_cf1fb_row0_col0, #T_cf1fb_row0_col2, #T_cf1fb_row2_col1 {\n",
       "  color: tomato;\n",
       "}\n",
       "#T_cf1fb_row1_col1, #T_cf1fb_row1_col2, #T_cf1fb_row4_col0 {\n",
       "  color: chartreuse;\n",
       "}\n",
       "</style>\n",
       "<table style=\"display:inline\" id=\"T_cf1fb_\">\n",
       "  <thead>\n",
       "    <tr>\n",
       "      <th class=\"blank level0\" >&nbsp;</th>\n",
       "      <th class=\"col_heading level0 col0\" >Loss</th>\n",
       "      <th class=\"col_heading level0 col1\" >Accuracy</th>\n",
       "      <th class=\"col_heading level0 col2\" >F1-score</th>\n",
       "    </tr>\n",
       "  </thead>\n",
       "  <tbody>\n",
       "    <tr>\n",
       "      <th id=\"T_cf1fb_level0_row0\" class=\"row_heading level0 row0\" >bert-base</th>\n",
       "      <td id=\"T_cf1fb_row0_col0\" class=\"data row0 col0\" >0.752630</td>\n",
       "      <td id=\"T_cf1fb_row0_col1\" class=\"data row0 col1\" >0.675174</td>\n",
       "      <td id=\"T_cf1fb_row0_col2\" class=\"data row0 col2\" >0.506405</td>\n",
       "    </tr>\n",
       "    <tr>\n",
       "      <th id=\"T_cf1fb_level0_row1\" class=\"row_heading level0 row1\" >bert-pos-bow</th>\n",
       "      <td id=\"T_cf1fb_row1_col0\" class=\"data row1 col0\" >0.747594</td>\n",
       "      <td id=\"T_cf1fb_row1_col1\" class=\"data row1 col1\" >0.691415</td>\n",
       "      <td id=\"T_cf1fb_row1_col2\" class=\"data row1 col2\" >0.528983</td>\n",
       "    </tr>\n",
       "    <tr>\n",
       "      <th id=\"T_cf1fb_level0_row2\" class=\"row_heading level0 row2\" >bert-pos-ner-bow</th>\n",
       "      <td id=\"T_cf1fb_row2_col0\" class=\"data row2 col0\" >0.740808</td>\n",
       "      <td id=\"T_cf1fb_row2_col1\" class=\"data row2 col1\" >0.670534</td>\n",
       "      <td id=\"T_cf1fb_row2_col2\" class=\"data row2 col2\" >0.509684</td>\n",
       "    </tr>\n",
       "    <tr>\n",
       "      <th id=\"T_cf1fb_level0_row3\" class=\"row_heading level0 row3\" >bert-pos-tfidf</th>\n",
       "      <td id=\"T_cf1fb_row3_col0\" class=\"data row3 col0\" >0.748026</td>\n",
       "      <td id=\"T_cf1fb_row3_col1\" class=\"data row3 col1\" >0.677494</td>\n",
       "      <td id=\"T_cf1fb_row3_col2\" class=\"data row3 col2\" >0.518530</td>\n",
       "    </tr>\n",
       "    <tr>\n",
       "      <th id=\"T_cf1fb_level0_row4\" class=\"row_heading level0 row4\" >bert-pos-ner-tfidf</th>\n",
       "      <td id=\"T_cf1fb_row4_col0\" class=\"data row4 col0\" >0.717518</td>\n",
       "      <td id=\"T_cf1fb_row4_col1\" class=\"data row4 col1\" >0.686775</td>\n",
       "      <td id=\"T_cf1fb_row4_col2\" class=\"data row4 col2\" >0.508679</td>\n",
       "    </tr>\n",
       "  </tbody>\n",
       "</table style=\"display:inline\">\n",
       "</td><td style=\"vertical-align:top\"> <style type=\"text/css\">\n",
       "#T_8348a_row0_col1, #T_8348a_row0_col2, #T_8348a_row4_col0 {\n",
       "  color: tomato;\n",
       "}\n",
       "#T_8348a_row2_col0, #T_8348a_row3_col1, #T_8348a_row3_col2 {\n",
       "  color: chartreuse;\n",
       "}\n",
       "</style>\n",
       "<table style=\"display:inline\" id=\"T_8348a_\">\n",
       "  <thead>\n",
       "    <tr>\n",
       "      <th class=\"blank level0\" >&nbsp;</th>\n",
       "      <th class=\"col_heading level0 col0\" >Loss</th>\n",
       "      <th class=\"col_heading level0 col1\" >Accuracy</th>\n",
       "      <th class=\"col_heading level0 col2\" >F1-score</th>\n",
       "    </tr>\n",
       "  </thead>\n",
       "  <tbody>\n",
       "    <tr>\n",
       "      <th id=\"T_8348a_level0_row0\" class=\"row_heading level0 row0\" >bert-base</th>\n",
       "      <td id=\"T_8348a_row0_col0\" class=\"data row0 col0\" >0.772615</td>\n",
       "      <td id=\"T_8348a_row0_col1\" class=\"data row0 col1\" >0.654457</td>\n",
       "      <td id=\"T_8348a_row0_col2\" class=\"data row0 col2\" >0.438362</td>\n",
       "    </tr>\n",
       "    <tr>\n",
       "      <th id=\"T_8348a_level0_row1\" class=\"row_heading level0 row1\" >bert-pos-bow</th>\n",
       "      <td id=\"T_8348a_row1_col0\" class=\"data row1 col0\" >0.771116</td>\n",
       "      <td id=\"T_8348a_row1_col1\" class=\"data row1 col1\" >0.657509</td>\n",
       "      <td id=\"T_8348a_row1_col2\" class=\"data row1 col2\" >0.441000</td>\n",
       "    </tr>\n",
       "    <tr>\n",
       "      <th id=\"T_8348a_level0_row2\" class=\"row_heading level0 row2\" >bert-pos-ner-bow</th>\n",
       "      <td id=\"T_8348a_row2_col0\" class=\"data row2 col0\" >0.770156</td>\n",
       "      <td id=\"T_8348a_row2_col1\" class=\"data row2 col1\" >0.658120</td>\n",
       "      <td id=\"T_8348a_row2_col2\" class=\"data row2 col2\" >0.439741</td>\n",
       "    </tr>\n",
       "    <tr>\n",
       "      <th id=\"T_8348a_level0_row3\" class=\"row_heading level0 row3\" >bert-pos-tfidf</th>\n",
       "      <td id=\"T_8348a_row3_col0\" class=\"data row3 col0\" >0.772120</td>\n",
       "      <td id=\"T_8348a_row3_col1\" class=\"data row3 col1\" >0.662393</td>\n",
       "      <td id=\"T_8348a_row3_col2\" class=\"data row3 col2\" >0.452794</td>\n",
       "    </tr>\n",
       "    <tr>\n",
       "      <th id=\"T_8348a_level0_row4\" class=\"row_heading level0 row4\" >bert-pos-ner-tfidf</th>\n",
       "      <td id=\"T_8348a_row4_col0\" class=\"data row4 col0\" >0.773101</td>\n",
       "      <td id=\"T_8348a_row4_col1\" class=\"data row4 col1\" >0.661783</td>\n",
       "      <td id=\"T_8348a_row4_col2\" class=\"data row4 col2\" >0.448350</td>\n",
       "    </tr>\n",
       "  </tbody>\n",
       "</table style=\"display:inline\">\n",
       "</td><td style=\"vertical-align:top\"> <style type=\"text/css\">\n",
       "#T_0d1bd_row0_col0, #T_0d1bd_row0_col2, #T_0d1bd_row2_col1 {\n",
       "  color: tomato;\n",
       "}\n",
       "#T_0d1bd_row1_col1, #T_0d1bd_row3_col2, #T_0d1bd_row4_col0 {\n",
       "  color: chartreuse;\n",
       "}\n",
       "</style>\n",
       "<table style=\"display:inline\" id=\"T_0d1bd_\">\n",
       "  <thead>\n",
       "    <tr>\n",
       "      <th class=\"blank level0\" >&nbsp;</th>\n",
       "      <th class=\"col_heading level0 col0\" >Loss</th>\n",
       "      <th class=\"col_heading level0 col1\" >Accuracy</th>\n",
       "      <th class=\"col_heading level0 col2\" >F1-score</th>\n",
       "    </tr>\n",
       "  </thead>\n",
       "  <tbody>\n",
       "    <tr>\n",
       "      <th id=\"T_0d1bd_level0_row0\" class=\"row_heading level0 row0\" >bert-base</th>\n",
       "      <td id=\"T_0d1bd_row0_col0\" class=\"data row0 col0\" >0.762623</td>\n",
       "      <td id=\"T_0d1bd_row0_col1\" class=\"data row0 col1\" >0.664815</td>\n",
       "      <td id=\"T_0d1bd_row0_col2\" class=\"data row0 col2\" >0.472383</td>\n",
       "    </tr>\n",
       "    <tr>\n",
       "      <th id=\"T_0d1bd_level0_row1\" class=\"row_heading level0 row1\" >bert-pos-bow</th>\n",
       "      <td id=\"T_0d1bd_row1_col0\" class=\"data row1 col0\" >0.759355</td>\n",
       "      <td id=\"T_0d1bd_row1_col1\" class=\"data row1 col1\" >0.674462</td>\n",
       "      <td id=\"T_0d1bd_row1_col2\" class=\"data row1 col2\" >0.484991</td>\n",
       "    </tr>\n",
       "    <tr>\n",
       "      <th id=\"T_0d1bd_level0_row2\" class=\"row_heading level0 row2\" >bert-pos-ner-bow</th>\n",
       "      <td id=\"T_0d1bd_row2_col0\" class=\"data row2 col0\" >0.755482</td>\n",
       "      <td id=\"T_0d1bd_row2_col1\" class=\"data row2 col1\" >0.664327</td>\n",
       "      <td id=\"T_0d1bd_row2_col2\" class=\"data row2 col2\" >0.474712</td>\n",
       "    </tr>\n",
       "    <tr>\n",
       "      <th id=\"T_0d1bd_level0_row3\" class=\"row_heading level0 row3\" >bert-pos-tfidf</th>\n",
       "      <td id=\"T_0d1bd_row3_col0\" class=\"data row3 col0\" >0.760073</td>\n",
       "      <td id=\"T_0d1bd_row3_col1\" class=\"data row3 col1\" >0.669944</td>\n",
       "      <td id=\"T_0d1bd_row3_col2\" class=\"data row3 col2\" >0.485662</td>\n",
       "    </tr>\n",
       "    <tr>\n",
       "      <th id=\"T_0d1bd_level0_row4\" class=\"row_heading level0 row4\" >bert-pos-ner-tfidf</th>\n",
       "      <td id=\"T_0d1bd_row4_col0\" class=\"data row4 col0\" >0.745310</td>\n",
       "      <td id=\"T_0d1bd_row4_col1\" class=\"data row4 col1\" >0.674279</td>\n",
       "      <td id=\"T_0d1bd_row4_col2\" class=\"data row4 col2\" >0.478514</td>\n",
       "    </tr>\n",
       "  </tbody>\n",
       "</table style=\"display:inline\">\n",
       "</td></tr></table style=\"display:inline\">"
      ]
     },
     "metadata": {},
     "output_type": "display_data"
    }
   ],
   "source": [
    "print('With multimodal labels\\n')\n",
    "display_dataframes((style_dataframe(df_single_scores2), style_dataframe(df_multiple_scores2), style_dataframe(df_average_scores2)), \n",
    "                   names=['MVSA-Single', 'MVSA-Multiple', 'Average'])"
   ]
  },
  {
   "cell_type": "markdown",
   "id": "3d771e09",
   "metadata": {
    "papermill": {
     "duration": 0.010228,
     "end_time": "2022-06-30T20:41:03.125849",
     "exception": false,
     "start_time": "2022-06-30T20:41:03.115621",
     "status": "completed"
    },
    "tags": []
   },
   "source": [
    "# With merge MVSA data"
   ]
  },
  {
   "cell_type": "code",
   "execution_count": 26,
   "id": "e4bf37cd",
   "metadata": {
    "execution": {
     "iopub.execute_input": "2022-06-30T20:41:03.149227Z",
     "iopub.status.busy": "2022-06-30T20:41:03.148433Z",
     "iopub.status.idle": "2022-06-30T20:41:57.319104Z",
     "shell.execute_reply": "2022-06-30T20:41:57.318108Z"
    },
    "papermill": {
     "duration": 54.184582,
     "end_time": "2022-06-30T20:41:57.321242",
     "exception": false,
     "start_time": "2022-06-30T20:41:03.136660",
     "status": "completed"
    },
    "tags": []
   },
   "outputs": [
    {
     "name": "stdout",
     "output_type": "stream",
     "text": [
      "With original image labels\n",
      "Both MVSA: bert-base\n",
      "Checkpoint loaded at epoch: 3\n",
      "\n",
      "Both MVSA: bert-pos-bow\n",
      "Checkpoint loaded at epoch: 1\n",
      "\n",
      "Both MVSA: bert-pos-ner-bow\n",
      "Checkpoint loaded at epoch: 1\n",
      "\n",
      "Both MVSA: bert-pos-tfidf\n",
      "Checkpoint loaded at epoch: 1\n",
      "\n",
      "Both MVSA: bert-pos-ner-tfidf\n",
      "Checkpoint loaded at epoch: 1\n",
      "\n"
     ]
    }
   ],
   "source": [
    "print('With original image labels')\n",
    "mvsa_hitories3 = []\n",
    "mvsa_score3 = []\n",
    "for i in range(len(feature_names)):\n",
    "    print('Both MVSA:', feature_names[i])\n",
    "    history, scores = run_and_evaluate('single-' + feature_names[i], mvsa_features[i], mvsa_image_labels, verbose=0)\n",
    "    mvsa_hitories3.append(history)\n",
    "    mvsa_score3.append(scores)\n",
    "    print()\n",
    "    \n",
    "df_scores3 = pd.DataFrame(mvsa_score3, columns=['Loss', 'Accuracy', 'F1-score'], index=feature_names)"
   ]
  },
  {
   "cell_type": "code",
   "execution_count": 27,
   "id": "10323f50",
   "metadata": {
    "execution": {
     "iopub.execute_input": "2022-06-30T20:41:57.345755Z",
     "iopub.status.busy": "2022-06-30T20:41:57.345402Z",
     "iopub.status.idle": "2022-06-30T20:42:57.985400Z",
     "shell.execute_reply": "2022-06-30T20:42:57.984230Z"
    },
    "papermill": {
     "duration": 60.655248,
     "end_time": "2022-06-30T20:42:57.988051",
     "exception": false,
     "start_time": "2022-06-30T20:41:57.332803",
     "status": "completed"
    },
    "tags": []
   },
   "outputs": [
    {
     "name": "stdout",
     "output_type": "stream",
     "text": [
      "With multimodal labels\n",
      "Both MVSA: bert-base\n",
      "Checkpoint loaded at epoch: 3\n",
      "\n",
      "Both MVSA: bert-pos-bow\n",
      "Checkpoint loaded at epoch: 1\n",
      "\n",
      "Both MVSA: bert-pos-ner-bow\n",
      "Checkpoint loaded at epoch: 1\n",
      "\n",
      "Both MVSA: bert-pos-tfidf\n",
      "Checkpoint loaded at epoch: 3\n",
      "\n",
      "Both MVSA: bert-pos-ner-tfidf\n",
      "Checkpoint loaded at epoch: 3\n",
      "\n"
     ]
    }
   ],
   "source": [
    "print('With multimodal labels')\n",
    "mvsa_hitories4 = []\n",
    "mvsa_score4 = []\n",
    "for i in range(len(feature_names)):\n",
    "    print('Both MVSA:', feature_names[i])\n",
    "    history, scores = run_and_evaluate('single-' + feature_names[i], mvsa_features[i], mvsa_multimodal_labels, verbose=0)\n",
    "    mvsa_hitories4.append(history)\n",
    "    mvsa_score4.append(scores)\n",
    "    print()\n",
    "    \n",
    "df_scores4 = pd.DataFrame(mvsa_score4, columns=['Loss', 'Accuracy', 'F1-score'], index=feature_names)"
   ]
  },
  {
   "cell_type": "code",
   "execution_count": 28,
   "id": "478d7e29",
   "metadata": {
    "execution": {
     "iopub.execute_input": "2022-06-30T20:42:58.013846Z",
     "iopub.status.busy": "2022-06-30T20:42:58.013535Z",
     "iopub.status.idle": "2022-06-30T20:42:58.042989Z",
     "shell.execute_reply": "2022-06-30T20:42:58.042003Z"
    },
    "papermill": {
     "duration": 0.044613,
     "end_time": "2022-06-30T20:42:58.045066",
     "exception": false,
     "start_time": "2022-06-30T20:42:58.000453",
     "status": "completed"
    },
    "tags": []
   },
   "outputs": [
    {
     "name": "stdout",
     "output_type": "stream",
     "text": [
      "With both MVSA merged together\n",
      "\n"
     ]
    },
    {
     "data": {
      "text/html": [
       "<table style=\"display:inline\"><tr><td style=\"text-align:center\">Original image labels</td><td style=\"text-align:center\">Multimodal labels</td></tr><tr><td style=\"vertical-align:top\"> <style type=\"text/css\">\n",
       "#T_4fb20_row0_col0, #T_4fb20_row1_col2, #T_4fb20_row4_col1 {\n",
       "  color: tomato;\n",
       "}\n",
       "#T_4fb20_row0_col2, #T_4fb20_row3_col0, #T_4fb20_row3_col1 {\n",
       "  color: chartreuse;\n",
       "}\n",
       "</style>\n",
       "<table style=\"display:inline\" id=\"T_4fb20_\">\n",
       "  <thead>\n",
       "    <tr>\n",
       "      <th class=\"blank level0\" >&nbsp;</th>\n",
       "      <th class=\"col_heading level0 col0\" >Loss</th>\n",
       "      <th class=\"col_heading level0 col1\" >Accuracy</th>\n",
       "      <th class=\"col_heading level0 col2\" >F1-score</th>\n",
       "    </tr>\n",
       "  </thead>\n",
       "  <tbody>\n",
       "    <tr>\n",
       "      <th id=\"T_4fb20_level0_row0\" class=\"row_heading level0 row0\" >bert-base</th>\n",
       "      <td id=\"T_4fb20_row0_col0\" class=\"data row0 col0\" >0.832428</td>\n",
       "      <td id=\"T_4fb20_row0_col1\" class=\"data row0 col1\" >0.590338</td>\n",
       "      <td id=\"T_4fb20_row0_col2\" class=\"data row0 col2\" >0.445536</td>\n",
       "    </tr>\n",
       "    <tr>\n",
       "      <th id=\"T_4fb20_level0_row1\" class=\"row_heading level0 row1\" >bert-pos-bow</th>\n",
       "      <td id=\"T_4fb20_row1_col0\" class=\"data row1 col0\" >0.828371</td>\n",
       "      <td id=\"T_4fb20_row1_col1\" class=\"data row1 col1\" >0.593237</td>\n",
       "      <td id=\"T_4fb20_row1_col2\" class=\"data row1 col2\" >0.405761</td>\n",
       "    </tr>\n",
       "    <tr>\n",
       "      <th id=\"T_4fb20_level0_row2\" class=\"row_heading level0 row2\" >bert-pos-ner-bow</th>\n",
       "      <td id=\"T_4fb20_row2_col0\" class=\"data row2 col0\" >0.828184</td>\n",
       "      <td id=\"T_4fb20_row2_col1\" class=\"data row2 col1\" >0.590821</td>\n",
       "      <td id=\"T_4fb20_row2_col2\" class=\"data row2 col2\" >0.412519</td>\n",
       "    </tr>\n",
       "    <tr>\n",
       "      <th id=\"T_4fb20_level0_row3\" class=\"row_heading level0 row3\" >bert-pos-tfidf</th>\n",
       "      <td id=\"T_4fb20_row3_col0\" class=\"data row3 col0\" >0.826166</td>\n",
       "      <td id=\"T_4fb20_row3_col1\" class=\"data row3 col1\" >0.597585</td>\n",
       "      <td id=\"T_4fb20_row3_col2\" class=\"data row3 col2\" >0.418983</td>\n",
       "    </tr>\n",
       "    <tr>\n",
       "      <th id=\"T_4fb20_level0_row4\" class=\"row_heading level0 row4\" >bert-pos-ner-tfidf</th>\n",
       "      <td id=\"T_4fb20_row4_col0\" class=\"data row4 col0\" >0.827540</td>\n",
       "      <td id=\"T_4fb20_row4_col1\" class=\"data row4 col1\" >0.588889</td>\n",
       "      <td id=\"T_4fb20_row4_col2\" class=\"data row4 col2\" >0.411790</td>\n",
       "    </tr>\n",
       "  </tbody>\n",
       "</table style=\"display:inline\">\n",
       "</td><td style=\"vertical-align:top\"> <style type=\"text/css\">\n",
       "#T_627b7_row0_col1, #T_627b7_row2_col0, #T_627b7_row2_col2 {\n",
       "  color: tomato;\n",
       "}\n",
       "#T_627b7_row1_col1, #T_627b7_row3_col0, #T_627b7_row3_col2 {\n",
       "  color: chartreuse;\n",
       "}\n",
       "</style>\n",
       "<table style=\"display:inline\" id=\"T_627b7_\">\n",
       "  <thead>\n",
       "    <tr>\n",
       "      <th class=\"blank level0\" >&nbsp;</th>\n",
       "      <th class=\"col_heading level0 col0\" >Loss</th>\n",
       "      <th class=\"col_heading level0 col1\" >Accuracy</th>\n",
       "      <th class=\"col_heading level0 col2\" >F1-score</th>\n",
       "    </tr>\n",
       "  </thead>\n",
       "  <tbody>\n",
       "    <tr>\n",
       "      <th id=\"T_627b7_level0_row0\" class=\"row_heading level0 row0\" >bert-base</th>\n",
       "      <td id=\"T_627b7_row0_col0\" class=\"data row0 col0\" >0.764947</td>\n",
       "      <td id=\"T_627b7_row0_col1\" class=\"data row0 col1\" >0.673913</td>\n",
       "      <td id=\"T_627b7_row0_col2\" class=\"data row0 col2\" >0.459577</td>\n",
       "    </tr>\n",
       "    <tr>\n",
       "      <th id=\"T_627b7_level0_row1\" class=\"row_heading level0 row1\" >bert-pos-bow</th>\n",
       "      <td id=\"T_627b7_row1_col0\" class=\"data row1 col0\" >0.769999</td>\n",
       "      <td id=\"T_627b7_row1_col1\" class=\"data row1 col1\" >0.683092</td>\n",
       "      <td id=\"T_627b7_row1_col2\" class=\"data row1 col2\" >0.417592</td>\n",
       "    </tr>\n",
       "    <tr>\n",
       "      <th id=\"T_627b7_level0_row2\" class=\"row_heading level0 row2\" >bert-pos-ner-bow</th>\n",
       "      <td id=\"T_627b7_row2_col0\" class=\"data row2 col0\" >0.778128</td>\n",
       "      <td id=\"T_627b7_row2_col1\" class=\"data row2 col1\" >0.681643</td>\n",
       "      <td id=\"T_627b7_row2_col2\" class=\"data row2 col2\" >0.406532</td>\n",
       "    </tr>\n",
       "    <tr>\n",
       "      <th id=\"T_627b7_level0_row3\" class=\"row_heading level0 row3\" >bert-pos-tfidf</th>\n",
       "      <td id=\"T_627b7_row3_col0\" class=\"data row3 col0\" >0.764610</td>\n",
       "      <td id=\"T_627b7_row3_col1\" class=\"data row3 col1\" >0.677778</td>\n",
       "      <td id=\"T_627b7_row3_col2\" class=\"data row3 col2\" >0.470799</td>\n",
       "    </tr>\n",
       "    <tr>\n",
       "      <th id=\"T_627b7_level0_row4\" class=\"row_heading level0 row4\" >bert-pos-ner-tfidf</th>\n",
       "      <td id=\"T_627b7_row4_col0\" class=\"data row4 col0\" >0.768630</td>\n",
       "      <td id=\"T_627b7_row4_col1\" class=\"data row4 col1\" >0.676328</td>\n",
       "      <td id=\"T_627b7_row4_col2\" class=\"data row4 col2\" >0.467827</td>\n",
       "    </tr>\n",
       "  </tbody>\n",
       "</table style=\"display:inline\">\n",
       "</td></tr></table style=\"display:inline\">"
      ]
     },
     "metadata": {},
     "output_type": "display_data"
    }
   ],
   "source": [
    "print('With both MVSA merged together\\n')\n",
    "display_dataframes((style_dataframe(df_scores3), style_dataframe(df_scores4)), \n",
    "                   names=['Original image labels', 'Multimodal labels'])"
   ]
  }
 ],
 "metadata": {
  "kernelspec": {
   "display_name": "Python 3",
   "language": "python",
   "name": "python3"
  },
  "language_info": {
   "codemirror_mode": {
    "name": "ipython",
    "version": 3
   },
   "file_extension": ".py",
   "mimetype": "text/x-python",
   "name": "python",
   "nbconvert_exporter": "python",
   "pygments_lexer": "ipython3",
   "version": "3.7.12"
  },
  "papermill": {
   "default_parameters": {},
   "duration": 301.649209,
   "end_time": "2022-06-30T20:43:01.339398",
   "environment_variables": {},
   "exception": null,
   "input_path": "__notebook__.ipynb",
   "output_path": "__notebook__.ipynb",
   "parameters": {},
   "start_time": "2022-06-30T20:37:59.690189",
   "version": "2.3.4"
  }
 },
 "nbformat": 4,
 "nbformat_minor": 5
}
