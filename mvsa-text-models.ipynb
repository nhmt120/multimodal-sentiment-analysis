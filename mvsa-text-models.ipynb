{
 "cells": [
  {
   "cell_type": "code",
   "execution_count": 1,
   "id": "acb5be38",
   "metadata": {
    "_cell_guid": "b1076dfc-b9ad-4769-8c92-a6c4dae69d19",
    "_uuid": "8f2839f25d086af736a60e9eeb907d3b93b6e0e5",
    "execution": {
     "iopub.execute_input": "2022-06-30T17:38:01.564632Z",
     "iopub.status.busy": "2022-06-30T17:38:01.563551Z",
     "iopub.status.idle": "2022-06-30T17:38:11.184038Z",
     "shell.execute_reply": "2022-06-30T17:38:11.182784Z"
    },
    "papermill": {
     "duration": 9.635728,
     "end_time": "2022-06-30T17:38:11.187126",
     "exception": false,
     "start_time": "2022-06-30T17:38:01.551398",
     "status": "completed"
    },
    "tags": []
   },
   "outputs": [],
   "source": [
    "SEED = 61\n",
    "\n",
    "\n",
    "import os\n",
    "import re\n",
    "import gc\n",
    "import h5py\n",
    "import torch\n",
    "import numpy as np\n",
    "import pandas as pd\n",
    "import tensorflow as tf\n",
    "import random as python_random\n",
    "import matplotlib.pyplot as plt\n",
    "import tensorflow_addons as tfa\n",
    "\n",
    "from tqdm import tqdm\n",
    "from nltk import tokenize\n",
    "\n",
    "from sklearn import preprocessing\n",
    "from sklearn.decomposition import PCA\n",
    "from keras import backend as K\n",
    "from keras import initializers,regularizers,constraints\n",
    "from keras.preprocessing.text import Tokenizer, text_to_word_sequence\n",
    "from keras.preprocessing.sequence import pad_sequences\n",
    "from keras.utils.np_utils import to_categorical\n",
    "from keras.layers import Reshape, Input, Embedding, Flatten, Dense, Dropout, BatchNormalization, Activation #, merge\n",
    "from keras.layers import TimeDistributed, LSTM, GRU, Bidirectional, Convolution1D, MaxPooling1D, MaxPooling2D\n",
    "from keras.layers.core import RepeatVector, Reshape\n",
    "from keras.callbacks import ModelCheckpoint, EarlyStopping, ReduceLROnPlateau\n",
    "from keras.models import Sequential, Model, load_model\n",
    "from sklearn.model_selection import cross_val_score\n",
    "\n",
    "def reset_seeds():\n",
    "    np.random.seed(SEED) \n",
    "    python_random.seed(SEED)\n",
    "    tf.random.set_seed(SEED)\n",
    "    os.environ[\"PYTHONHASHSEED\"] = str(SEED)\n",
    "\n",
    "# from tensorflow.python.keras.layers import Layer, InputSpec, Lambda\n",
    "# from tensorflow.keras import Model\n",
    "# from attention import Attention_input1, Attention_input2\n",
    "# from keras.optimizers import SGD, RMSprop, Adagrad"
   ]
  },
  {
   "cell_type": "code",
   "execution_count": 2,
   "id": "723f5fd4",
   "metadata": {
    "execution": {
     "iopub.execute_input": "2022-06-30T17:38:11.206817Z",
     "iopub.status.busy": "2022-06-30T17:38:11.206231Z",
     "iopub.status.idle": "2022-06-30T17:38:11.214394Z",
     "shell.execute_reply": "2022-06-30T17:38:11.212989Z"
    },
    "papermill": {
     "duration": 0.02097,
     "end_time": "2022-06-30T17:38:11.216932",
     "exception": false,
     "start_time": "2022-06-30T17:38:11.195962",
     "status": "completed"
    },
    "tags": []
   },
   "outputs": [],
   "source": [
    "def read_hdf5(path):\n",
    "    read_file = h5py.File(path, 'r')\n",
    "    \n",
    "    feature_names = list(read_file.keys())\n",
    "    loaded_data = []\n",
    "    \n",
    "    for name in feature_names:\n",
    "        dataset = read_file[name][:]\n",
    "        if dataset.dtype == np.dtype('object'):\n",
    "            dataset = np.array([x.decode('UTF-8') for x in dataset])            \n",
    "        loaded_data.append((name, dataset))\n",
    "\n",
    "    return loaded_data\n",
    "\n",
    "def loadz(path):\n",
    "    data = np.load(path)['arr_0']\n",
    "    return data"
   ]
  },
  {
   "cell_type": "code",
   "execution_count": 3,
   "id": "2603de5a",
   "metadata": {
    "execution": {
     "iopub.execute_input": "2022-06-30T17:38:11.236940Z",
     "iopub.status.busy": "2022-06-30T17:38:11.235196Z",
     "iopub.status.idle": "2022-06-30T17:38:11.246536Z",
     "shell.execute_reply": "2022-06-30T17:38:11.245383Z"
    },
    "papermill": {
     "duration": 0.023832,
     "end_time": "2022-06-30T17:38:11.249276",
     "exception": false,
     "start_time": "2022-06-30T17:38:11.225444",
     "status": "completed"
    },
    "tags": []
   },
   "outputs": [],
   "source": [
    "def merge_mvsa(mvsa_single, mvsa_multiple):\n",
    "    mvsa = np.concatenate((mvsa_single, mvsa_multiple), axis=0)\n",
    "    return mvsa\n",
    "\n",
    "def load_mvsa_feature(feature_name, merge=False):\n",
    "    folder_path = os.path.join('../input/mvsa-features/', feature_name)\n",
    "    single_file = 'mvsa-single-{}.npz'.format(feature_name)\n",
    "    multiple_file = 'mvsa-multiple-{}.npz'.format(feature_name)\n",
    "    mvsa_single = loadz(os.path.join(folder_path, single_file))\n",
    "    mvsa_multiple = loadz(os.path.join(folder_path, multiple_file))\n",
    "    \n",
    "    if merge == True:\n",
    "        return merge_mvsa(mvsa_single, mvsa_multiple)\n",
    "    \n",
    "    return mvsa_single, mvsa_multiple\n",
    "\n",
    "def load_labels(path):\n",
    "    data = read_hdf5(path)\n",
    "\n",
    "    for x in data:\n",
    "        if x[0] == 'multimodal-labels':\n",
    "            labels = x[1]\n",
    "        if x[0] == 'text-labels':\n",
    "            text_labels = x[1]\n",
    "        if x[0] == 'image-labels':\n",
    "            image_labels = x[1]\n",
    "        \n",
    "    return labels, text_labels, image_labels"
   ]
  },
  {
   "cell_type": "code",
   "execution_count": 4,
   "id": "a50684cd",
   "metadata": {
    "execution": {
     "iopub.execute_input": "2022-06-30T17:38:11.268250Z",
     "iopub.status.busy": "2022-06-30T17:38:11.267897Z",
     "iopub.status.idle": "2022-06-30T17:38:11.278007Z",
     "shell.execute_reply": "2022-06-30T17:38:11.276663Z"
    },
    "papermill": {
     "duration": 0.023606,
     "end_time": "2022-06-30T17:38:11.281598",
     "exception": false,
     "start_time": "2022-06-30T17:38:11.257992",
     "status": "completed"
    },
    "tags": []
   },
   "outputs": [],
   "source": [
    "def plot_metrics(history):\n",
    "    fig = plt.figure(figsize=(20, 5))\n",
    "\n",
    "    fig.add_subplot(1, 3, 1)\n",
    "    plt.plot(history.history['loss'])\n",
    "    plt.plot(history.history['val_loss'])\n",
    "    plt.title('LOSS')\n",
    "    plt.ylabel('loss')\n",
    "    plt.xlabel('epoch')\n",
    "    plt.legend(['train', 'val'], loc='best')\n",
    "\n",
    "    fig.add_subplot(1, 3, 2)\n",
    "    plt.plot(history.history['accuracy'])\n",
    "    plt.plot(history.history['val_accuracy'])\n",
    "    plt.title('ACCURACY')\n",
    "    plt.ylabel('accuracy')\n",
    "    plt.xlabel('epoch')\n",
    "    plt.legend(['train', 'val'], loc='best')\n",
    "\n",
    "    fig.add_subplot(1, 3, 3)\n",
    "    plt.plot(history.history['f1_score'])\n",
    "    plt.plot(history.history['val_f1_score'])\n",
    "    plt.title('F1-SCORE')\n",
    "    plt.ylabel('f1-score')\n",
    "    plt.xlabel('epoch')\n",
    "    plt.legend(['train', 'val'], loc='best')\n",
    "\n",
    "    plt.show()"
   ]
  },
  {
   "cell_type": "code",
   "execution_count": 5,
   "id": "7a28bd04",
   "metadata": {
    "execution": {
     "iopub.execute_input": "2022-06-30T17:38:11.299566Z",
     "iopub.status.busy": "2022-06-30T17:38:11.299243Z",
     "iopub.status.idle": "2022-06-30T17:38:11.305341Z",
     "shell.execute_reply": "2022-06-30T17:38:11.304068Z"
    },
    "papermill": {
     "duration": 0.018239,
     "end_time": "2022-06-30T17:38:11.308020",
     "exception": false,
     "start_time": "2022-06-30T17:38:11.289781",
     "status": "completed"
    },
    "tags": []
   },
   "outputs": [],
   "source": [
    "# e.g. validation_split=0.1 -----> 8:1:1 ratio of train, val, test\n",
    "def split_data(data, validation_split):\n",
    "    num_val = int(validation_split * data.shape[0])\n",
    "    data_train = data[:-(num_val*2)]\n",
    "    data_val = data[-(num_val*2):-(num_val)]\n",
    "    data_test = data[-num_val:]\n",
    "    return data_train, data_val, data_test"
   ]
  },
  {
   "cell_type": "code",
   "execution_count": 6,
   "id": "c11a7c7f",
   "metadata": {
    "execution": {
     "iopub.execute_input": "2022-06-30T17:38:11.327550Z",
     "iopub.status.busy": "2022-06-30T17:38:11.326725Z",
     "iopub.status.idle": "2022-06-30T17:38:11.334839Z",
     "shell.execute_reply": "2022-06-30T17:38:11.333679Z"
    },
    "papermill": {
     "duration": 0.020668,
     "end_time": "2022-06-30T17:38:11.337581",
     "exception": false,
     "start_time": "2022-06-30T17:38:11.316913",
     "status": "completed"
    },
    "tags": []
   },
   "outputs": [],
   "source": [
    "def create_model_image(input_shape):\n",
    "    f1_score = tfa.metrics.F1Score(num_classes=NUM_CLASSES, average='micro')\n",
    "    \n",
    "    image_input = Input(shape=input_shape)\n",
    "    outputs = Dense(NUM_CLASSES, activation='softmax') (image_input)\n",
    "    \n",
    "    model = Model(image_input, outputs)\n",
    "    model.compile(optimizer='adam', loss='categorical_crossentropy', metrics=['accuracy', f1_score]) # f1 #tf.keras.metrics.AUC()\n",
    "    return model"
   ]
  },
  {
   "cell_type": "code",
   "execution_count": 7,
   "id": "a7f125f8",
   "metadata": {
    "execution": {
     "iopub.execute_input": "2022-06-30T17:38:11.356974Z",
     "iopub.status.busy": "2022-06-30T17:38:11.356679Z",
     "iopub.status.idle": "2022-06-30T17:38:11.364079Z",
     "shell.execute_reply": "2022-06-30T17:38:11.362579Z"
    },
    "papermill": {
     "duration": 0.020111,
     "end_time": "2022-06-30T17:38:11.366686",
     "exception": false,
     "start_time": "2022-06-30T17:38:11.346575",
     "status": "completed"
    },
    "tags": []
   },
   "outputs": [],
   "source": [
    "def create_model_text(input_shape):\n",
    "    f1_score = tfa.metrics.F1Score(num_classes=NUM_CLASSES, average='micro')\n",
    "    \n",
    "    text_input = Input(shape=input_shape)\n",
    "    reshape_text = Reshape((1, -1)) (text_input)\n",
    "    lstm = LSTM(NUM_LSTM) (reshape_text)\n",
    "    outputs = Dense(NUM_CLASSES, activation='softmax') (lstm)\n",
    "    \n",
    "    model = Model(text_input, outputs)\n",
    "    model.compile(optimizer='adam', loss='categorical_crossentropy', metrics=['accuracy', f1_score]) # f1 #tf.keras.metrics.AUC()\n",
    "    \n",
    "    return model"
   ]
  },
  {
   "cell_type": "code",
   "execution_count": 8,
   "id": "00dfe8b7",
   "metadata": {
    "execution": {
     "iopub.execute_input": "2022-06-30T17:38:11.385996Z",
     "iopub.status.busy": "2022-06-30T17:38:11.385691Z",
     "iopub.status.idle": "2022-06-30T17:38:11.392827Z",
     "shell.execute_reply": "2022-06-30T17:38:11.391512Z"
    },
    "papermill": {
     "duration": 0.020048,
     "end_time": "2022-06-30T17:38:11.395576",
     "exception": false,
     "start_time": "2022-06-30T17:38:11.375528",
     "status": "completed"
    },
    "tags": []
   },
   "outputs": [],
   "source": [
    "def evaluate_model(model, X_test, y_test, checkpoint=None, verbose=1):\n",
    "    if checkpoint is not None:\n",
    "        model = load_model('./model_checkpoint/{}.h5'.format(checkpoint))#, custom_objects={'f1': f1})\n",
    "    \n",
    "    loss, acc, f1 = model.evaluate(X_test, y_test, verbose=verbose)\n",
    "    \n",
    "    if verbose == 1:\n",
    "        print('Loss:', loss)\n",
    "        print('Accuracy:', acc)\n",
    "        print('F1-score:', f1)\n",
    "        \n",
    "    return loss, acc, f1"
   ]
  },
  {
   "cell_type": "code",
   "execution_count": 9,
   "id": "8a0edf1e",
   "metadata": {
    "execution": {
     "iopub.execute_input": "2022-06-30T17:38:11.414727Z",
     "iopub.status.busy": "2022-06-30T17:38:11.414434Z",
     "iopub.status.idle": "2022-06-30T17:38:11.423208Z",
     "shell.execute_reply": "2022-06-30T17:38:11.421768Z"
    },
    "papermill": {
     "duration": 0.021266,
     "end_time": "2022-06-30T17:38:11.425626",
     "exception": false,
     "start_time": "2022-06-30T17:38:11.404360",
     "status": "completed"
    },
    "tags": []
   },
   "outputs": [],
   "source": [
    "def run_and_evaluate(name, X, y, verbose=0):\n",
    "    y = le.fit_transform(y)\n",
    "    y = to_categorical(np.asarray(y))\n",
    "    \n",
    "    X_train, X_val, X_test = split_data(X, VALIDATION_SPLIT)\n",
    "    y_train, y_val, y_test = split_data(y, VALIDATION_SPLIT)\n",
    "    \n",
    "    model = create_model_text(X_train.shape[1:])\n",
    "    early_stopping = EarlyStopping(monitor='val_loss', min_delta=1e-4, patience=EARLY_STOPPING)\n",
    "    checkpoint = ModelCheckpoint('./model_checkpoint/{}.h5'.format(name), save_best_only=True, verbose=verbose)\n",
    "    \n",
    "    history = model.fit(X_train, y_train, validation_data=(X_val, y_val), \n",
    "                        epochs=EPOCHS, batch_size=BATCH_SIZE, verbose=verbose,\n",
    "                        callbacks=[checkpoint, early_stopping])\n",
    "#     print(early_stopping.stopped_epoch)\n",
    "    return history, evaluate_model(model, X_test, y_test, checkpoint=name, verbose=verbose)"
   ]
  },
  {
   "cell_type": "code",
   "execution_count": 10,
   "id": "fab7c82c",
   "metadata": {
    "execution": {
     "iopub.execute_input": "2022-06-30T17:38:11.444343Z",
     "iopub.status.busy": "2022-06-30T17:38:11.444000Z",
     "iopub.status.idle": "2022-06-30T17:38:11.450397Z",
     "shell.execute_reply": "2022-06-30T17:38:11.449147Z"
    },
    "papermill": {
     "duration": 0.018152,
     "end_time": "2022-06-30T17:38:11.452779",
     "exception": false,
     "start_time": "2022-06-30T17:38:11.434627",
     "status": "completed"
    },
    "tags": []
   },
   "outputs": [],
   "source": [
    "def style_dataframe(dataframe):\n",
    "    return dataframe.style.highlight_max(subset=['Accuracy', 'F1-score'], props='color:lawngreen', axis=0)\\\n",
    "                          .highlight_min(subset=['Accuracy', 'F1-score'], props='color:tomato', axis=0)\\\n",
    "                          .highlight_min(subset=['Loss'], props='color:lawngreen', axis=0)\\\n",
    "                          .highlight_max(subset=['Loss'], props='color:tomato', axis=0)"
   ]
  },
  {
   "cell_type": "code",
   "execution_count": 11,
   "id": "c7af7ab8",
   "metadata": {
    "execution": {
     "iopub.execute_input": "2022-06-30T17:38:11.472845Z",
     "iopub.status.busy": "2022-06-30T17:38:11.471818Z",
     "iopub.status.idle": "2022-06-30T17:38:11.481010Z",
     "shell.execute_reply": "2022-06-30T17:38:11.479905Z"
    },
    "papermill": {
     "duration": 0.021561,
     "end_time": "2022-06-30T17:38:11.483544",
     "exception": false,
     "start_time": "2022-06-30T17:38:11.461983",
     "status": "completed"
    },
    "tags": []
   },
   "outputs": [],
   "source": [
    "from IPython.display import display_html\n",
    "\n",
    "def display_dataframes(dfs, names=[], index=False):\n",
    "    def to_df(x):\n",
    "        if isinstance(x, pd.Series):\n",
    "            return pd.DataFrame(x)\n",
    "        else:\n",
    "            return x\n",
    "    html_str = ''\n",
    "    if names:\n",
    "        html_str += ('<tr>' + \n",
    "                     ''.join(f'<td style=\"text-align:center\">{name}</td>' for name in names) + \n",
    "                     '</tr>')\n",
    "    html_str += ('<tr>' + \n",
    "                 ''.join(f'<td style=\"vertical-align:top\"> {to_df(df).to_html()}</td>' \n",
    "                         for df in dfs) + \n",
    "                 '</tr>')\n",
    "    html_str = f'<table>{html_str}</table>'\n",
    "    html_str = html_str.replace('table','table style=\"display:inline\"')\n",
    "    display_html(html_str, raw=True)"
   ]
  },
  {
   "cell_type": "markdown",
   "id": "6c806c56",
   "metadata": {
    "papermill": {
     "duration": 0.008763,
     "end_time": "2022-06-30T17:38:11.501071",
     "exception": false,
     "start_time": "2022-06-30T17:38:11.492308",
     "status": "completed"
    },
    "tags": []
   },
   "source": [
    "# Load data"
   ]
  },
  {
   "cell_type": "code",
   "execution_count": 12,
   "id": "c2d03ab9",
   "metadata": {
    "execution": {
     "iopub.execute_input": "2022-06-30T17:38:11.520440Z",
     "iopub.status.busy": "2022-06-30T17:38:11.519402Z",
     "iopub.status.idle": "2022-06-30T17:38:12.937774Z",
     "shell.execute_reply": "2022-06-30T17:38:12.936498Z"
    },
    "papermill": {
     "duration": 1.431731,
     "end_time": "2022-06-30T17:38:12.941575",
     "exception": false,
     "start_time": "2022-06-30T17:38:11.509844",
     "status": "completed"
    },
    "tags": []
   },
   "outputs": [],
   "source": [
    "mvsa_single_bert_base, mvsa_multiple_bert_base = load_mvsa_feature('bert-base')\n",
    "mvsa_single_pos_bow, mvsa_multiple_pos_bow = load_mvsa_feature('pos-bow')\n",
    "mvsa_single_pos_tfidf, mvsa_multiple_pos_tfidf = load_mvsa_feature('pos-tfidf')\n",
    "mvsa_single_ner_bow, mvsa_multiple_ner_bow = load_mvsa_feature('ner-bow')\n",
    "mvsa_single_ner_tfidf, mvsa_multiple_ner_tfidf = load_mvsa_feature('ner-tfidf')"
   ]
  },
  {
   "cell_type": "code",
   "execution_count": 13,
   "id": "68805a73",
   "metadata": {
    "execution": {
     "iopub.execute_input": "2022-06-30T17:38:12.975773Z",
     "iopub.status.busy": "2022-06-30T17:38:12.975266Z",
     "iopub.status.idle": "2022-06-30T17:38:13.189621Z",
     "shell.execute_reply": "2022-06-30T17:38:13.188294Z"
    },
    "papermill": {
     "duration": 0.235217,
     "end_time": "2022-06-30T17:38:13.193490",
     "exception": false,
     "start_time": "2022-06-30T17:38:12.958273",
     "status": "completed"
    },
    "tags": []
   },
   "outputs": [],
   "source": [
    "mvsa_bert_base = load_mvsa_feature('bert-base', merge=True)\n",
    "mvsa_pos_bow = load_mvsa_feature('pos-bow', merge=True)\n",
    "mvsa_pos_tfidf = load_mvsa_feature('pos-tfidf', merge=True)\n",
    "mvsa_ner_bow = load_mvsa_feature('ner-bow', merge=True)\n",
    "mvsa_ner_tfidf = load_mvsa_feature('ner-tfidf', merge=True)"
   ]
  },
  {
   "cell_type": "code",
   "execution_count": 14,
   "id": "fd7f0fb8",
   "metadata": {
    "execution": {
     "iopub.execute_input": "2022-06-30T17:38:13.226887Z",
     "iopub.status.busy": "2022-06-30T17:38:13.226610Z",
     "iopub.status.idle": "2022-06-30T17:38:13.364892Z",
     "shell.execute_reply": "2022-06-30T17:38:13.363644Z"
    },
    "papermill": {
     "duration": 0.159003,
     "end_time": "2022-06-30T17:38:13.367965",
     "exception": false,
     "start_time": "2022-06-30T17:38:13.208962",
     "status": "completed"
    },
    "tags": []
   },
   "outputs": [],
   "source": [
    "mvsa_single_multimodal_labels, mvsa_single_text_labels, mvsa_single_image_labels = load_labels('../input/mvsa-features/labels/mvsa-single-labels.hdf5')\n",
    "mvsa_multiple_multimodal_labels, mvsa_multiple_text_labels, mvsa_multiple_image_labels = load_labels('../input/mvsa-features/labels/mvsa-multiple-labels.hdf5')\n",
    "\n",
    "mvsa_multimodal_labels = merge_mvsa(mvsa_single_multimodal_labels, mvsa_multiple_multimodal_labels)\n",
    "mvsa_text_labels = merge_mvsa(mvsa_single_text_labels, mvsa_multiple_text_labels)\n",
    "mvsa_image_labels = merge_mvsa(mvsa_single_image_labels, mvsa_multiple_image_labels)"
   ]
  },
  {
   "cell_type": "code",
   "execution_count": 15,
   "id": "a8c5a476",
   "metadata": {
    "execution": {
     "iopub.execute_input": "2022-06-30T17:38:13.387547Z",
     "iopub.status.busy": "2022-06-30T17:38:13.387184Z",
     "iopub.status.idle": "2022-06-30T17:38:13.395736Z",
     "shell.execute_reply": "2022-06-30T17:38:13.394593Z"
    },
    "papermill": {
     "duration": 0.021353,
     "end_time": "2022-06-30T17:38:13.398289",
     "exception": false,
     "start_time": "2022-06-30T17:38:13.376936",
     "status": "completed"
    },
    "tags": []
   },
   "outputs": [],
   "source": [
    "le = preprocessing.LabelEncoder()\n",
    "le.fit(mvsa_multimodal_labels)\n",
    "NUM_CLASSES = len(le.classes_) # =3"
   ]
  },
  {
   "cell_type": "code",
   "execution_count": 16,
   "id": "14d31a04",
   "metadata": {
    "execution": {
     "iopub.execute_input": "2022-06-30T17:38:13.417292Z",
     "iopub.status.busy": "2022-06-30T17:38:13.416651Z",
     "iopub.status.idle": "2022-06-30T17:38:13.808786Z",
     "shell.execute_reply": "2022-06-30T17:38:13.807459Z"
    },
    "papermill": {
     "duration": 0.405421,
     "end_time": "2022-06-30T17:38:13.812020",
     "exception": false,
     "start_time": "2022-06-30T17:38:13.406599",
     "status": "completed"
    },
    "tags": []
   },
   "outputs": [],
   "source": [
    "feature_names = ['bert-base', 'bert-pos-bow', 'bert-pos-ner-bow', 'bert-pos-tfidf', 'bert-pos-ner-tfidf']\n",
    "\n",
    "mvsa_single_features = [mvsa_single_bert_base, \n",
    "                        np.concatenate((mvsa_single_bert_base, mvsa_single_pos_bow), axis=1), \n",
    "                        np.concatenate((mvsa_single_bert_base, mvsa_single_pos_bow, mvsa_single_ner_bow), axis=1),\n",
    "                        np.concatenate((mvsa_single_bert_base, mvsa_single_pos_tfidf), axis=1), \n",
    "                        np.concatenate((mvsa_single_bert_base, mvsa_single_pos_tfidf, mvsa_single_ner_tfidf), axis=1)]\n",
    "\n",
    "mvsa_multiple_features = [mvsa_multiple_bert_base, \n",
    "                          np.concatenate((mvsa_multiple_bert_base, mvsa_multiple_pos_bow), axis=1), \n",
    "                          np.concatenate((mvsa_multiple_bert_base, mvsa_multiple_pos_bow, mvsa_multiple_ner_bow), axis=1),\n",
    "                          np.concatenate((mvsa_multiple_bert_base, mvsa_multiple_pos_tfidf), axis=1), \n",
    "                          np.concatenate((mvsa_multiple_bert_base, mvsa_multiple_pos_tfidf, mvsa_multiple_ner_tfidf), axis=1)]\n",
    "\n",
    "mvsa_features = [mvsa_bert_base,\n",
    "                 np.concatenate((mvsa_bert_base, mvsa_pos_bow), axis=1), \n",
    "                 np.concatenate((mvsa_bert_base, mvsa_pos_bow, mvsa_ner_bow), axis=1),\n",
    "                 np.concatenate((mvsa_bert_base, mvsa_pos_tfidf), axis=1), \n",
    "                 np.concatenate((mvsa_bert_base, mvsa_pos_tfidf, mvsa_ner_bow), axis=1)]"
   ]
  },
  {
   "cell_type": "markdown",
   "id": "f7e65a6f",
   "metadata": {
    "papermill": {
     "duration": 0.008886,
     "end_time": "2022-06-30T17:38:13.833537",
     "exception": false,
     "start_time": "2022-06-30T17:38:13.824651",
     "status": "completed"
    },
    "tags": []
   },
   "source": [
    "# Run models and Evalution display"
   ]
  },
  {
   "cell_type": "code",
   "execution_count": 17,
   "id": "af1b22f6",
   "metadata": {
    "execution": {
     "iopub.execute_input": "2022-06-30T17:38:13.851840Z",
     "iopub.status.busy": "2022-06-30T17:38:13.851526Z",
     "iopub.status.idle": "2022-06-30T17:38:13.857064Z",
     "shell.execute_reply": "2022-06-30T17:38:13.855820Z"
    },
    "papermill": {
     "duration": 0.017793,
     "end_time": "2022-06-30T17:38:13.859800",
     "exception": false,
     "start_time": "2022-06-30T17:38:13.842007",
     "status": "completed"
    },
    "tags": []
   },
   "outputs": [],
   "source": [
    "reset_seeds()\n",
    "EPOCHS = 100\n",
    "BATCH_SIZE = 128\n",
    "VALIDATION_SPLIT = 0.1\n",
    "EARLY_STOPPING = 10\n",
    "NUM_LSTM = 128"
   ]
  },
  {
   "cell_type": "markdown",
   "id": "6cfb0ff6",
   "metadata": {
    "papermill": {
     "duration": 0.008003,
     "end_time": "2022-06-30T17:38:13.876205",
     "exception": false,
     "start_time": "2022-06-30T17:38:13.868202",
     "status": "completed"
    },
    "tags": []
   },
   "source": [
    "## With original text labels"
   ]
  },
  {
   "cell_type": "code",
   "execution_count": 18,
   "id": "824bce13",
   "metadata": {
    "execution": {
     "iopub.execute_input": "2022-06-30T17:38:13.894221Z",
     "iopub.status.busy": "2022-06-30T17:38:13.893858Z",
     "iopub.status.idle": "2022-06-30T17:38:58.272022Z",
     "shell.execute_reply": "2022-06-30T17:38:58.270335Z"
    },
    "papermill": {
     "duration": 44.390903,
     "end_time": "2022-06-30T17:38:58.275623",
     "exception": false,
     "start_time": "2022-06-30T17:38:13.884720",
     "status": "completed"
    },
    "tags": []
   },
   "outputs": [
    {
     "name": "stdout",
     "output_type": "stream",
     "text": [
      "MVSA-Single: With original text labels\n",
      "\n",
      "MVSA-Single: bert-base\n"
     ]
    },
    {
     "name": "stderr",
     "output_type": "stream",
     "text": [
      "2022-06-30 17:38:13.999772: I tensorflow/stream_executor/cuda/cuda_gpu_executor.cc:937] successful NUMA node read from SysFS had negative value (-1), but there must be at least one NUMA node, so returning NUMA node zero\n",
      "2022-06-30 17:38:14.001410: I tensorflow/stream_executor/cuda/cuda_gpu_executor.cc:937] successful NUMA node read from SysFS had negative value (-1), but there must be at least one NUMA node, so returning NUMA node zero\n",
      "2022-06-30 17:38:14.002386: I tensorflow/stream_executor/cuda/cuda_gpu_executor.cc:937] successful NUMA node read from SysFS had negative value (-1), but there must be at least one NUMA node, so returning NUMA node zero\n",
      "2022-06-30 17:38:14.003588: I tensorflow/core/platform/cpu_feature_guard.cc:142] This TensorFlow binary is optimized with oneAPI Deep Neural Network Library (oneDNN) to use the following CPU instructions in performance-critical operations:  AVX2 FMA\n",
      "To enable them in other operations, rebuild TensorFlow with the appropriate compiler flags.\n",
      "2022-06-30 17:38:14.003931: I tensorflow/stream_executor/cuda/cuda_gpu_executor.cc:937] successful NUMA node read from SysFS had negative value (-1), but there must be at least one NUMA node, so returning NUMA node zero\n",
      "2022-06-30 17:38:14.004999: I tensorflow/stream_executor/cuda/cuda_gpu_executor.cc:937] successful NUMA node read from SysFS had negative value (-1), but there must be at least one NUMA node, so returning NUMA node zero\n",
      "2022-06-30 17:38:14.006140: I tensorflow/stream_executor/cuda/cuda_gpu_executor.cc:937] successful NUMA node read from SysFS had negative value (-1), but there must be at least one NUMA node, so returning NUMA node zero\n",
      "2022-06-30 17:38:19.412379: I tensorflow/stream_executor/cuda/cuda_gpu_executor.cc:937] successful NUMA node read from SysFS had negative value (-1), but there must be at least one NUMA node, so returning NUMA node zero\n",
      "2022-06-30 17:38:19.413633: I tensorflow/stream_executor/cuda/cuda_gpu_executor.cc:937] successful NUMA node read from SysFS had negative value (-1), but there must be at least one NUMA node, so returning NUMA node zero\n",
      "2022-06-30 17:38:19.414658: I tensorflow/stream_executor/cuda/cuda_gpu_executor.cc:937] successful NUMA node read from SysFS had negative value (-1), but there must be at least one NUMA node, so returning NUMA node zero\n",
      "2022-06-30 17:38:19.415595: I tensorflow/core/common_runtime/gpu/gpu_device.cc:1510] Created device /job:localhost/replica:0/task:0/device:GPU:0 with 15047 MB memory:  -> device: 0, name: Tesla P100-PCIE-16GB, pci bus id: 0000:00:04.0, compute capability: 6.0\n",
      "2022-06-30 17:38:20.203952: I tensorflow/compiler/mlir/mlir_graph_optimization_pass.cc:185] None of the MLIR Optimization Passes are enabled (registered 2)\n",
      "2022-06-30 17:38:23.457512: I tensorflow/stream_executor/cuda/cuda_dnn.cc:369] Loaded cuDNN version 8005\n"
     ]
    },
    {
     "name": "stdout",
     "output_type": "stream",
     "text": [
      "\n",
      "MVSA-Single: bert-pos-bow\n",
      "\n",
      "MVSA-Single: bert-pos-ner-bow\n",
      "\n",
      "MVSA-Single: bert-pos-tfidf\n",
      "\n",
      "MVSA-Single: bert-pos-ner-tfidf\n",
      "\n"
     ]
    }
   ],
   "source": [
    "print('MVSA-Single: With original text labels\\n')\n",
    "# run model with all features data of MVSA-Single\n",
    "mvsa_single_hitories = []\n",
    "mvsa_single_score = []\n",
    "for i in range(len(feature_names)):\n",
    "    print('MVSA-Single:', feature_names[i])\n",
    "    history, scores = run_and_evaluate('single-' + feature_names[i], mvsa_single_features[i], mvsa_single_text_labels, verbose=0)\n",
    "    mvsa_single_hitories.append(history)\n",
    "    mvsa_single_score.append(scores)\n",
    "    print()\n",
    "    \n",
    "df_single_scores = pd.DataFrame(mvsa_single_score, columns=['Loss', 'Accuracy', 'F1-score'], index=feature_names)"
   ]
  },
  {
   "cell_type": "code",
   "execution_count": 19,
   "id": "ffebcd46",
   "metadata": {
    "execution": {
     "iopub.execute_input": "2022-06-30T17:38:58.298455Z",
     "iopub.status.busy": "2022-06-30T17:38:58.296396Z",
     "iopub.status.idle": "2022-06-30T17:40:00.365651Z",
     "shell.execute_reply": "2022-06-30T17:40:00.364225Z"
    },
    "papermill": {
     "duration": 62.082184,
     "end_time": "2022-06-30T17:40:00.368247",
     "exception": false,
     "start_time": "2022-06-30T17:38:58.286063",
     "status": "completed"
    },
    "tags": []
   },
   "outputs": [
    {
     "name": "stdout",
     "output_type": "stream",
     "text": [
      "MVSA-Multiple: With original image labels\n",
      "\n",
      "MVSA-Multiple: bert-base\n",
      "\n",
      "MVSA-Multiple: bert-pos-bow\n",
      "\n",
      "MVSA-Multiple: bert-pos-ner-bow\n",
      "\n",
      "MVSA-Multiple: bert-pos-tfidf\n",
      "\n",
      "MVSA-Multiple: bert-pos-ner-tfidf\n",
      "\n"
     ]
    }
   ],
   "source": [
    "print('MVSA-Multiple: With original image labels\\n')\n",
    "# run model with all features data of MVSA-Multiple\n",
    "mvsa_multiple_hitories = []\n",
    "mvsa_multiple_score = []\n",
    "for i in range(len(feature_names)):\n",
    "    print('MVSA-Multiple:', feature_names[i])\n",
    "    history, scores = run_and_evaluate('multiple-' + feature_names[i], mvsa_multiple_features[i], mvsa_multiple_text_labels, verbose=0)\n",
    "    mvsa_multiple_hitories.append(history)\n",
    "    mvsa_multiple_score.append(scores)\n",
    "    print()\n",
    "    \n",
    "df_multiple_scores = pd.DataFrame(mvsa_multiple_score, columns=['Loss', 'Accuracy', 'F1-score'], index=feature_names)"
   ]
  },
  {
   "cell_type": "code",
   "execution_count": 20,
   "id": "c9a13b95",
   "metadata": {
    "execution": {
     "iopub.execute_input": "2022-06-30T17:40:00.389591Z",
     "iopub.status.busy": "2022-06-30T17:40:00.389264Z",
     "iopub.status.idle": "2022-06-30T17:40:00.396405Z",
     "shell.execute_reply": "2022-06-30T17:40:00.394829Z"
    },
    "papermill": {
     "duration": 0.020643,
     "end_time": "2022-06-30T17:40:00.399032",
     "exception": false,
     "start_time": "2022-06-30T17:40:00.378389",
     "status": "completed"
    },
    "tags": []
   },
   "outputs": [],
   "source": [
    "mvsa_average_scores = np.mean([mvsa_single_score, mvsa_multiple_score], axis=0)\n",
    "df_average_scores = pd.DataFrame(mvsa_average_scores, columns=['Loss', 'Accuracy', 'F1-score'], index=feature_names)"
   ]
  },
  {
   "cell_type": "code",
   "execution_count": 21,
   "id": "127d8b3a",
   "metadata": {
    "execution": {
     "iopub.execute_input": "2022-06-30T17:40:00.418797Z",
     "iopub.status.busy": "2022-06-30T17:40:00.418503Z",
     "iopub.status.idle": "2022-06-30T17:40:00.543635Z",
     "shell.execute_reply": "2022-06-30T17:40:00.542178Z"
    },
    "papermill": {
     "duration": 0.137828,
     "end_time": "2022-06-30T17:40:00.546224",
     "exception": false,
     "start_time": "2022-06-30T17:40:00.408396",
     "status": "completed"
    },
    "tags": []
   },
   "outputs": [
    {
     "name": "stdout",
     "output_type": "stream",
     "text": [
      "With original image labels\n",
      "\n"
     ]
    },
    {
     "data": {
      "text/html": [
       "<table style=\"display:inline\"><tr><td style=\"text-align:center\">MVSA-Single</td><td style=\"text-align:center\">MVSA-Multiple</td><td style=\"text-align:center\">Average</td></tr><tr><td style=\"vertical-align:top\"> <style type=\"text/css\">\n",
       "#T_3f546_row0_col0, #T_3f546_row0_col1, #T_3f546_row0_col2 {\n",
       "  color: lawngreen;\n",
       "}\n",
       "#T_3f546_row2_col1, #T_3f546_row2_col2, #T_3f546_row4_col0 {\n",
       "  color: tomato;\n",
       "}\n",
       "</style>\n",
       "<table style=\"display:inline\" id=\"T_3f546_\">\n",
       "  <thead>\n",
       "    <tr>\n",
       "      <th class=\"blank level0\" >&nbsp;</th>\n",
       "      <th class=\"col_heading level0 col0\" >Loss</th>\n",
       "      <th class=\"col_heading level0 col1\" >Accuracy</th>\n",
       "      <th class=\"col_heading level0 col2\" >F1-score</th>\n",
       "    </tr>\n",
       "  </thead>\n",
       "  <tbody>\n",
       "    <tr>\n",
       "      <th id=\"T_3f546_level0_row0\" class=\"row_heading level0 row0\" >bert-base</th>\n",
       "      <td id=\"T_3f546_row0_col0\" class=\"data row0 col0\" >0.721703</td>\n",
       "      <td id=\"T_3f546_row0_col1\" class=\"data row0 col1\" >0.707657</td>\n",
       "      <td id=\"T_3f546_row0_col2\" class=\"data row0 col2\" >0.707657</td>\n",
       "    </tr>\n",
       "    <tr>\n",
       "      <th id=\"T_3f546_level0_row1\" class=\"row_heading level0 row1\" >bert-pos-bow</th>\n",
       "      <td id=\"T_3f546_row1_col0\" class=\"data row1 col0\" >0.728056</td>\n",
       "      <td id=\"T_3f546_row1_col1\" class=\"data row1 col1\" >0.700696</td>\n",
       "      <td id=\"T_3f546_row1_col2\" class=\"data row1 col2\" >0.700696</td>\n",
       "    </tr>\n",
       "    <tr>\n",
       "      <th id=\"T_3f546_level0_row2\" class=\"row_heading level0 row2\" >bert-pos-ner-bow</th>\n",
       "      <td id=\"T_3f546_row2_col0\" class=\"data row2 col0\" >0.733448</td>\n",
       "      <td id=\"T_3f546_row2_col1\" class=\"data row2 col1\" >0.689095</td>\n",
       "      <td id=\"T_3f546_row2_col2\" class=\"data row2 col2\" >0.689095</td>\n",
       "    </tr>\n",
       "    <tr>\n",
       "      <th id=\"T_3f546_level0_row3\" class=\"row_heading level0 row3\" >bert-pos-tfidf</th>\n",
       "      <td id=\"T_3f546_row3_col0\" class=\"data row3 col0\" >0.721896</td>\n",
       "      <td id=\"T_3f546_row3_col1\" class=\"data row3 col1\" >0.705336</td>\n",
       "      <td id=\"T_3f546_row3_col2\" class=\"data row3 col2\" >0.705336</td>\n",
       "    </tr>\n",
       "    <tr>\n",
       "      <th id=\"T_3f546_level0_row4\" class=\"row_heading level0 row4\" >bert-pos-ner-tfidf</th>\n",
       "      <td id=\"T_3f546_row4_col0\" class=\"data row4 col0\" >0.737369</td>\n",
       "      <td id=\"T_3f546_row4_col1\" class=\"data row4 col1\" >0.698376</td>\n",
       "      <td id=\"T_3f546_row4_col2\" class=\"data row4 col2\" >0.698376</td>\n",
       "    </tr>\n",
       "  </tbody>\n",
       "</table style=\"display:inline\">\n",
       "</td><td style=\"vertical-align:top\"> <style type=\"text/css\">\n",
       "#T_d9487_row0_col1, #T_d9487_row0_col2, #T_d9487_row4_col0 {\n",
       "  color: tomato;\n",
       "}\n",
       "#T_d9487_row1_col1, #T_d9487_row1_col2, #T_d9487_row3_col0 {\n",
       "  color: lawngreen;\n",
       "}\n",
       "</style>\n",
       "<table style=\"display:inline\" id=\"T_d9487_\">\n",
       "  <thead>\n",
       "    <tr>\n",
       "      <th class=\"blank level0\" >&nbsp;</th>\n",
       "      <th class=\"col_heading level0 col0\" >Loss</th>\n",
       "      <th class=\"col_heading level0 col1\" >Accuracy</th>\n",
       "      <th class=\"col_heading level0 col2\" >F1-score</th>\n",
       "    </tr>\n",
       "  </thead>\n",
       "  <tbody>\n",
       "    <tr>\n",
       "      <th id=\"T_d9487_level0_row0\" class=\"row_heading level0 row0\" >bert-base</th>\n",
       "      <td id=\"T_d9487_row0_col0\" class=\"data row0 col0\" >0.804546</td>\n",
       "      <td id=\"T_d9487_row0_col1\" class=\"data row0 col1\" >0.597680</td>\n",
       "      <td id=\"T_d9487_row0_col2\" class=\"data row0 col2\" >0.597680</td>\n",
       "    </tr>\n",
       "    <tr>\n",
       "      <th id=\"T_d9487_level0_row1\" class=\"row_heading level0 row1\" >bert-pos-bow</th>\n",
       "      <td id=\"T_d9487_row1_col0\" class=\"data row1 col0\" >0.804690</td>\n",
       "      <td id=\"T_d9487_row1_col1\" class=\"data row1 col1\" >0.607448</td>\n",
       "      <td id=\"T_d9487_row1_col2\" class=\"data row1 col2\" >0.607448</td>\n",
       "    </tr>\n",
       "    <tr>\n",
       "      <th id=\"T_d9487_level0_row2\" class=\"row_heading level0 row2\" >bert-pos-ner-bow</th>\n",
       "      <td id=\"T_d9487_row2_col0\" class=\"data row2 col0\" >0.805016</td>\n",
       "      <td id=\"T_d9487_row2_col1\" class=\"data row2 col1\" >0.602564</td>\n",
       "      <td id=\"T_d9487_row2_col2\" class=\"data row2 col2\" >0.602564</td>\n",
       "    </tr>\n",
       "    <tr>\n",
       "      <th id=\"T_d9487_level0_row3\" class=\"row_heading level0 row3\" >bert-pos-tfidf</th>\n",
       "      <td id=\"T_d9487_row3_col0\" class=\"data row3 col0\" >0.803599</td>\n",
       "      <td id=\"T_d9487_row3_col1\" class=\"data row3 col1\" >0.602564</td>\n",
       "      <td id=\"T_d9487_row3_col2\" class=\"data row3 col2\" >0.602564</td>\n",
       "    </tr>\n",
       "    <tr>\n",
       "      <th id=\"T_d9487_level0_row4\" class=\"row_heading level0 row4\" >bert-pos-ner-tfidf</th>\n",
       "      <td id=\"T_d9487_row4_col0\" class=\"data row4 col0\" >0.808248</td>\n",
       "      <td id=\"T_d9487_row4_col1\" class=\"data row4 col1\" >0.602564</td>\n",
       "      <td id=\"T_d9487_row4_col2\" class=\"data row4 col2\" >0.602564</td>\n",
       "    </tr>\n",
       "  </tbody>\n",
       "</table style=\"display:inline\">\n",
       "</td><td style=\"vertical-align:top\"> <style type=\"text/css\">\n",
       "#T_faa37_row1_col1, #T_faa37_row1_col2, #T_faa37_row3_col0 {\n",
       "  color: lawngreen;\n",
       "}\n",
       "#T_faa37_row2_col1, #T_faa37_row2_col2, #T_faa37_row4_col0 {\n",
       "  color: tomato;\n",
       "}\n",
       "</style>\n",
       "<table style=\"display:inline\" id=\"T_faa37_\">\n",
       "  <thead>\n",
       "    <tr>\n",
       "      <th class=\"blank level0\" >&nbsp;</th>\n",
       "      <th class=\"col_heading level0 col0\" >Loss</th>\n",
       "      <th class=\"col_heading level0 col1\" >Accuracy</th>\n",
       "      <th class=\"col_heading level0 col2\" >F1-score</th>\n",
       "    </tr>\n",
       "  </thead>\n",
       "  <tbody>\n",
       "    <tr>\n",
       "      <th id=\"T_faa37_level0_row0\" class=\"row_heading level0 row0\" >bert-base</th>\n",
       "      <td id=\"T_faa37_row0_col0\" class=\"data row0 col0\" >0.763124</td>\n",
       "      <td id=\"T_faa37_row0_col1\" class=\"data row0 col1\" >0.652668</td>\n",
       "      <td id=\"T_faa37_row0_col2\" class=\"data row0 col2\" >0.652668</td>\n",
       "    </tr>\n",
       "    <tr>\n",
       "      <th id=\"T_faa37_level0_row1\" class=\"row_heading level0 row1\" >bert-pos-bow</th>\n",
       "      <td id=\"T_faa37_row1_col0\" class=\"data row1 col0\" >0.766373</td>\n",
       "      <td id=\"T_faa37_row1_col1\" class=\"data row1 col1\" >0.654072</td>\n",
       "      <td id=\"T_faa37_row1_col2\" class=\"data row1 col2\" >0.654072</td>\n",
       "    </tr>\n",
       "    <tr>\n",
       "      <th id=\"T_faa37_level0_row2\" class=\"row_heading level0 row2\" >bert-pos-ner-bow</th>\n",
       "      <td id=\"T_faa37_row2_col0\" class=\"data row2 col0\" >0.769232</td>\n",
       "      <td id=\"T_faa37_row2_col1\" class=\"data row2 col1\" >0.645830</td>\n",
       "      <td id=\"T_faa37_row2_col2\" class=\"data row2 col2\" >0.645830</td>\n",
       "    </tr>\n",
       "    <tr>\n",
       "      <th id=\"T_faa37_level0_row3\" class=\"row_heading level0 row3\" >bert-pos-tfidf</th>\n",
       "      <td id=\"T_faa37_row3_col0\" class=\"data row3 col0\" >0.762747</td>\n",
       "      <td id=\"T_faa37_row3_col1\" class=\"data row3 col1\" >0.653950</td>\n",
       "      <td id=\"T_faa37_row3_col2\" class=\"data row3 col2\" >0.653950</td>\n",
       "    </tr>\n",
       "    <tr>\n",
       "      <th id=\"T_faa37_level0_row4\" class=\"row_heading level0 row4\" >bert-pos-ner-tfidf</th>\n",
       "      <td id=\"T_faa37_row4_col0\" class=\"data row4 col0\" >0.772808</td>\n",
       "      <td id=\"T_faa37_row4_col1\" class=\"data row4 col1\" >0.650470</td>\n",
       "      <td id=\"T_faa37_row4_col2\" class=\"data row4 col2\" >0.650470</td>\n",
       "    </tr>\n",
       "  </tbody>\n",
       "</table style=\"display:inline\">\n",
       "</td></tr></table style=\"display:inline\">"
      ]
     },
     "metadata": {},
     "output_type": "display_data"
    }
   ],
   "source": [
    "print('With original image labels\\n')\n",
    "display_dataframes((style_dataframe(df_single_scores), style_dataframe(df_multiple_scores), style_dataframe(df_average_scores)), \n",
    "                   names=['MVSA-Single', 'MVSA-Multiple', 'Average'])"
   ]
  },
  {
   "cell_type": "markdown",
   "id": "ce752bdd",
   "metadata": {
    "papermill": {
     "duration": 0.009895,
     "end_time": "2022-06-30T17:40:00.566588",
     "exception": false,
     "start_time": "2022-06-30T17:40:00.556693",
     "status": "completed"
    },
    "tags": []
   },
   "source": [
    "## With multimodal labels"
   ]
  },
  {
   "cell_type": "code",
   "execution_count": 22,
   "id": "381df337",
   "metadata": {
    "execution": {
     "iopub.execute_input": "2022-06-30T17:40:00.588347Z",
     "iopub.status.busy": "2022-06-30T17:40:00.587703Z",
     "iopub.status.idle": "2022-06-30T17:40:34.546321Z",
     "shell.execute_reply": "2022-06-30T17:40:34.544813Z"
    },
    "papermill": {
     "duration": 33.983695,
     "end_time": "2022-06-30T17:40:34.560126",
     "exception": false,
     "start_time": "2022-06-30T17:40:00.576431",
     "status": "completed"
    },
    "tags": []
   },
   "outputs": [
    {
     "name": "stdout",
     "output_type": "stream",
     "text": [
      "With multimodal labels\n",
      "MVSA-Single: bert-base\n",
      "\n",
      "MVSA-Single: bert-pos-bow\n",
      "\n",
      "MVSA-Single: bert-pos-ner-bow\n",
      "\n",
      "MVSA-Single: bert-pos-tfidf\n",
      "\n",
      "MVSA-Single: bert-pos-ner-tfidf\n",
      "\n"
     ]
    }
   ],
   "source": [
    "print('With multimodal labels')\n",
    "\n",
    "# run model with all features data of MVSA-Single\n",
    "mvsa_single_hitories2 = []\n",
    "mvsa_single_score2 = []\n",
    "for i in range(len(feature_names)):\n",
    "    print('MVSA-Single:', feature_names[i])\n",
    "    history, scores = run_and_evaluate('single-' + feature_names[i], mvsa_single_features[i], mvsa_single_multimodal_labels, verbose=0)\n",
    "    mvsa_single_hitories2.append(history)\n",
    "    mvsa_single_score2.append(scores)\n",
    "    print()\n",
    "    \n",
    "df_single_scores2 = pd.DataFrame(mvsa_single_score2, columns=['Loss', 'Accuracy', 'F1-score'], index=feature_names)"
   ]
  },
  {
   "cell_type": "code",
   "execution_count": 23,
   "id": "334d5550",
   "metadata": {
    "execution": {
     "iopub.execute_input": "2022-06-30T17:40:34.583796Z",
     "iopub.status.busy": "2022-06-30T17:40:34.583487Z",
     "iopub.status.idle": "2022-06-30T17:41:32.484385Z",
     "shell.execute_reply": "2022-06-30T17:41:32.483151Z"
    },
    "papermill": {
     "duration": 57.915018,
     "end_time": "2022-06-30T17:41:32.486854",
     "exception": false,
     "start_time": "2022-06-30T17:40:34.571836",
     "status": "completed"
    },
    "tags": []
   },
   "outputs": [
    {
     "name": "stdout",
     "output_type": "stream",
     "text": [
      "With multimodal labels\n",
      "MVSA-Multiple: bert-base\n",
      "\n",
      "MVSA-Multiple: bert-pos-bow\n",
      "\n",
      "MVSA-Multiple: bert-pos-ner-bow\n",
      "\n",
      "MVSA-Multiple: bert-pos-tfidf\n",
      "\n",
      "MVSA-Multiple: bert-pos-ner-tfidf\n",
      "\n"
     ]
    }
   ],
   "source": [
    "print('With multimodal labels')\n",
    "# run model with all features data of MVSA-Multiple\n",
    "mvsa_multiple_hitories2 = []\n",
    "mvsa_multiple_score2 = []\n",
    "for i in range(len(feature_names)):\n",
    "    print('MVSA-Multiple:', feature_names[i])\n",
    "    history, scores = run_and_evaluate('multiple-' + feature_names[i], mvsa_multiple_features[i], mvsa_multiple_multimodal_labels, verbose=0)\n",
    "    mvsa_multiple_hitories2.append(history)\n",
    "    mvsa_multiple_score2.append(scores)\n",
    "    print()\n",
    "    \n",
    "df_multiple_scores2 = pd.DataFrame(mvsa_multiple_score2, columns=['Loss', 'Accuracy', 'F1-score'], index=feature_names)"
   ]
  },
  {
   "cell_type": "code",
   "execution_count": 24,
   "id": "bee659ac",
   "metadata": {
    "execution": {
     "iopub.execute_input": "2022-06-30T17:41:32.512419Z",
     "iopub.status.busy": "2022-06-30T17:41:32.510361Z",
     "iopub.status.idle": "2022-06-30T17:41:32.518784Z",
     "shell.execute_reply": "2022-06-30T17:41:32.517561Z"
    },
    "papermill": {
     "duration": 0.023327,
     "end_time": "2022-06-30T17:41:32.521382",
     "exception": false,
     "start_time": "2022-06-30T17:41:32.498055",
     "status": "completed"
    },
    "tags": []
   },
   "outputs": [],
   "source": [
    "mvsa_average_scores2 = np.mean([mvsa_single_score2, mvsa_multiple_score2], axis=0)\n",
    "df_average_scores2 = pd.DataFrame(mvsa_average_scores2, columns=['Loss', 'Accuracy', 'F1-score'], index=feature_names)"
   ]
  },
  {
   "cell_type": "code",
   "execution_count": 25,
   "id": "776a1789",
   "metadata": {
    "execution": {
     "iopub.execute_input": "2022-06-30T17:41:32.544843Z",
     "iopub.status.busy": "2022-06-30T17:41:32.544510Z",
     "iopub.status.idle": "2022-06-30T17:41:32.599855Z",
     "shell.execute_reply": "2022-06-30T17:41:32.597963Z"
    },
    "papermill": {
     "duration": 0.070478,
     "end_time": "2022-06-30T17:41:32.602828",
     "exception": false,
     "start_time": "2022-06-30T17:41:32.532350",
     "status": "completed"
    },
    "tags": []
   },
   "outputs": [
    {
     "name": "stdout",
     "output_type": "stream",
     "text": [
      "With multimodal labels\n",
      "\n"
     ]
    },
    {
     "data": {
      "text/html": [
       "<table style=\"display:inline\"><tr><td style=\"text-align:center\">MVSA-Single</td><td style=\"text-align:center\">MVSA-Multiple</td><td style=\"text-align:center\">Average</td></tr><tr><td style=\"vertical-align:top\"> <style type=\"text/css\">\n",
       "#T_41eb2_row0_col0, #T_41eb2_row2_col1, #T_41eb2_row2_col2 {\n",
       "  color: tomato;\n",
       "}\n",
       "#T_41eb2_row1_col1, #T_41eb2_row1_col2, #T_41eb2_row4_col0 {\n",
       "  color: lawngreen;\n",
       "}\n",
       "</style>\n",
       "<table style=\"display:inline\" id=\"T_41eb2_\">\n",
       "  <thead>\n",
       "    <tr>\n",
       "      <th class=\"blank level0\" >&nbsp;</th>\n",
       "      <th class=\"col_heading level0 col0\" >Loss</th>\n",
       "      <th class=\"col_heading level0 col1\" >Accuracy</th>\n",
       "      <th class=\"col_heading level0 col2\" >F1-score</th>\n",
       "    </tr>\n",
       "  </thead>\n",
       "  <tbody>\n",
       "    <tr>\n",
       "      <th id=\"T_41eb2_level0_row0\" class=\"row_heading level0 row0\" >bert-base</th>\n",
       "      <td id=\"T_41eb2_row0_col0\" class=\"data row0 col0\" >0.752630</td>\n",
       "      <td id=\"T_41eb2_row0_col1\" class=\"data row0 col1\" >0.675174</td>\n",
       "      <td id=\"T_41eb2_row0_col2\" class=\"data row0 col2\" >0.675174</td>\n",
       "    </tr>\n",
       "    <tr>\n",
       "      <th id=\"T_41eb2_level0_row1\" class=\"row_heading level0 row1\" >bert-pos-bow</th>\n",
       "      <td id=\"T_41eb2_row1_col0\" class=\"data row1 col0\" >0.747594</td>\n",
       "      <td id=\"T_41eb2_row1_col1\" class=\"data row1 col1\" >0.691415</td>\n",
       "      <td id=\"T_41eb2_row1_col2\" class=\"data row1 col2\" >0.691415</td>\n",
       "    </tr>\n",
       "    <tr>\n",
       "      <th id=\"T_41eb2_level0_row2\" class=\"row_heading level0 row2\" >bert-pos-ner-bow</th>\n",
       "      <td id=\"T_41eb2_row2_col0\" class=\"data row2 col0\" >0.740808</td>\n",
       "      <td id=\"T_41eb2_row2_col1\" class=\"data row2 col1\" >0.670534</td>\n",
       "      <td id=\"T_41eb2_row2_col2\" class=\"data row2 col2\" >0.670534</td>\n",
       "    </tr>\n",
       "    <tr>\n",
       "      <th id=\"T_41eb2_level0_row3\" class=\"row_heading level0 row3\" >bert-pos-tfidf</th>\n",
       "      <td id=\"T_41eb2_row3_col0\" class=\"data row3 col0\" >0.748026</td>\n",
       "      <td id=\"T_41eb2_row3_col1\" class=\"data row3 col1\" >0.677494</td>\n",
       "      <td id=\"T_41eb2_row3_col2\" class=\"data row3 col2\" >0.677494</td>\n",
       "    </tr>\n",
       "    <tr>\n",
       "      <th id=\"T_41eb2_level0_row4\" class=\"row_heading level0 row4\" >bert-pos-ner-tfidf</th>\n",
       "      <td id=\"T_41eb2_row4_col0\" class=\"data row4 col0\" >0.717518</td>\n",
       "      <td id=\"T_41eb2_row4_col1\" class=\"data row4 col1\" >0.686775</td>\n",
       "      <td id=\"T_41eb2_row4_col2\" class=\"data row4 col2\" >0.686775</td>\n",
       "    </tr>\n",
       "  </tbody>\n",
       "</table style=\"display:inline\">\n",
       "</td><td style=\"vertical-align:top\"> <style type=\"text/css\">\n",
       "#T_2fc84_row0_col1, #T_2fc84_row0_col2, #T_2fc84_row4_col0 {\n",
       "  color: tomato;\n",
       "}\n",
       "#T_2fc84_row2_col0, #T_2fc84_row3_col1, #T_2fc84_row3_col2 {\n",
       "  color: lawngreen;\n",
       "}\n",
       "</style>\n",
       "<table style=\"display:inline\" id=\"T_2fc84_\">\n",
       "  <thead>\n",
       "    <tr>\n",
       "      <th class=\"blank level0\" >&nbsp;</th>\n",
       "      <th class=\"col_heading level0 col0\" >Loss</th>\n",
       "      <th class=\"col_heading level0 col1\" >Accuracy</th>\n",
       "      <th class=\"col_heading level0 col2\" >F1-score</th>\n",
       "    </tr>\n",
       "  </thead>\n",
       "  <tbody>\n",
       "    <tr>\n",
       "      <th id=\"T_2fc84_level0_row0\" class=\"row_heading level0 row0\" >bert-base</th>\n",
       "      <td id=\"T_2fc84_row0_col0\" class=\"data row0 col0\" >0.772615</td>\n",
       "      <td id=\"T_2fc84_row0_col1\" class=\"data row0 col1\" >0.654457</td>\n",
       "      <td id=\"T_2fc84_row0_col2\" class=\"data row0 col2\" >0.654457</td>\n",
       "    </tr>\n",
       "    <tr>\n",
       "      <th id=\"T_2fc84_level0_row1\" class=\"row_heading level0 row1\" >bert-pos-bow</th>\n",
       "      <td id=\"T_2fc84_row1_col0\" class=\"data row1 col0\" >0.771116</td>\n",
       "      <td id=\"T_2fc84_row1_col1\" class=\"data row1 col1\" >0.657509</td>\n",
       "      <td id=\"T_2fc84_row1_col2\" class=\"data row1 col2\" >0.657509</td>\n",
       "    </tr>\n",
       "    <tr>\n",
       "      <th id=\"T_2fc84_level0_row2\" class=\"row_heading level0 row2\" >bert-pos-ner-bow</th>\n",
       "      <td id=\"T_2fc84_row2_col0\" class=\"data row2 col0\" >0.770156</td>\n",
       "      <td id=\"T_2fc84_row2_col1\" class=\"data row2 col1\" >0.658120</td>\n",
       "      <td id=\"T_2fc84_row2_col2\" class=\"data row2 col2\" >0.658120</td>\n",
       "    </tr>\n",
       "    <tr>\n",
       "      <th id=\"T_2fc84_level0_row3\" class=\"row_heading level0 row3\" >bert-pos-tfidf</th>\n",
       "      <td id=\"T_2fc84_row3_col0\" class=\"data row3 col0\" >0.772120</td>\n",
       "      <td id=\"T_2fc84_row3_col1\" class=\"data row3 col1\" >0.662393</td>\n",
       "      <td id=\"T_2fc84_row3_col2\" class=\"data row3 col2\" >0.662393</td>\n",
       "    </tr>\n",
       "    <tr>\n",
       "      <th id=\"T_2fc84_level0_row4\" class=\"row_heading level0 row4\" >bert-pos-ner-tfidf</th>\n",
       "      <td id=\"T_2fc84_row4_col0\" class=\"data row4 col0\" >0.773101</td>\n",
       "      <td id=\"T_2fc84_row4_col1\" class=\"data row4 col1\" >0.661783</td>\n",
       "      <td id=\"T_2fc84_row4_col2\" class=\"data row4 col2\" >0.661783</td>\n",
       "    </tr>\n",
       "  </tbody>\n",
       "</table style=\"display:inline\">\n",
       "</td><td style=\"vertical-align:top\"> <style type=\"text/css\">\n",
       "#T_6a246_row0_col0, #T_6a246_row2_col1, #T_6a246_row2_col2 {\n",
       "  color: tomato;\n",
       "}\n",
       "#T_6a246_row1_col1, #T_6a246_row1_col2, #T_6a246_row4_col0 {\n",
       "  color: lawngreen;\n",
       "}\n",
       "</style>\n",
       "<table style=\"display:inline\" id=\"T_6a246_\">\n",
       "  <thead>\n",
       "    <tr>\n",
       "      <th class=\"blank level0\" >&nbsp;</th>\n",
       "      <th class=\"col_heading level0 col0\" >Loss</th>\n",
       "      <th class=\"col_heading level0 col1\" >Accuracy</th>\n",
       "      <th class=\"col_heading level0 col2\" >F1-score</th>\n",
       "    </tr>\n",
       "  </thead>\n",
       "  <tbody>\n",
       "    <tr>\n",
       "      <th id=\"T_6a246_level0_row0\" class=\"row_heading level0 row0\" >bert-base</th>\n",
       "      <td id=\"T_6a246_row0_col0\" class=\"data row0 col0\" >0.762623</td>\n",
       "      <td id=\"T_6a246_row0_col1\" class=\"data row0 col1\" >0.664815</td>\n",
       "      <td id=\"T_6a246_row0_col2\" class=\"data row0 col2\" >0.664815</td>\n",
       "    </tr>\n",
       "    <tr>\n",
       "      <th id=\"T_6a246_level0_row1\" class=\"row_heading level0 row1\" >bert-pos-bow</th>\n",
       "      <td id=\"T_6a246_row1_col0\" class=\"data row1 col0\" >0.759355</td>\n",
       "      <td id=\"T_6a246_row1_col1\" class=\"data row1 col1\" >0.674462</td>\n",
       "      <td id=\"T_6a246_row1_col2\" class=\"data row1 col2\" >0.674462</td>\n",
       "    </tr>\n",
       "    <tr>\n",
       "      <th id=\"T_6a246_level0_row2\" class=\"row_heading level0 row2\" >bert-pos-ner-bow</th>\n",
       "      <td id=\"T_6a246_row2_col0\" class=\"data row2 col0\" >0.755482</td>\n",
       "      <td id=\"T_6a246_row2_col1\" class=\"data row2 col1\" >0.664327</td>\n",
       "      <td id=\"T_6a246_row2_col2\" class=\"data row2 col2\" >0.664327</td>\n",
       "    </tr>\n",
       "    <tr>\n",
       "      <th id=\"T_6a246_level0_row3\" class=\"row_heading level0 row3\" >bert-pos-tfidf</th>\n",
       "      <td id=\"T_6a246_row3_col0\" class=\"data row3 col0\" >0.760073</td>\n",
       "      <td id=\"T_6a246_row3_col1\" class=\"data row3 col1\" >0.669944</td>\n",
       "      <td id=\"T_6a246_row3_col2\" class=\"data row3 col2\" >0.669944</td>\n",
       "    </tr>\n",
       "    <tr>\n",
       "      <th id=\"T_6a246_level0_row4\" class=\"row_heading level0 row4\" >bert-pos-ner-tfidf</th>\n",
       "      <td id=\"T_6a246_row4_col0\" class=\"data row4 col0\" >0.745310</td>\n",
       "      <td id=\"T_6a246_row4_col1\" class=\"data row4 col1\" >0.674279</td>\n",
       "      <td id=\"T_6a246_row4_col2\" class=\"data row4 col2\" >0.674279</td>\n",
       "    </tr>\n",
       "  </tbody>\n",
       "</table style=\"display:inline\">\n",
       "</td></tr></table style=\"display:inline\">"
      ]
     },
     "metadata": {},
     "output_type": "display_data"
    }
   ],
   "source": [
    "print('With multimodal labels\\n')\n",
    "display_dataframes((style_dataframe(df_single_scores2), style_dataframe(df_multiple_scores2), style_dataframe(df_average_scores2)), \n",
    "                   names=['MVSA-Single', 'MVSA-Multiple', 'Average'])"
   ]
  },
  {
   "cell_type": "markdown",
   "id": "26ba75a2",
   "metadata": {
    "papermill": {
     "duration": 0.01147,
     "end_time": "2022-06-30T17:41:32.625871",
     "exception": false,
     "start_time": "2022-06-30T17:41:32.614401",
     "status": "completed"
    },
    "tags": []
   },
   "source": [
    "# With merge MVSA data"
   ]
  },
  {
   "cell_type": "code",
   "execution_count": 26,
   "id": "103e1dff",
   "metadata": {
    "execution": {
     "iopub.execute_input": "2022-06-30T17:41:32.650342Z",
     "iopub.status.busy": "2022-06-30T17:41:32.649209Z",
     "iopub.status.idle": "2022-06-30T17:42:29.688628Z",
     "shell.execute_reply": "2022-06-30T17:42:29.686781Z"
    },
    "papermill": {
     "duration": 57.054094,
     "end_time": "2022-06-30T17:42:29.691128",
     "exception": false,
     "start_time": "2022-06-30T17:41:32.637034",
     "status": "completed"
    },
    "tags": []
   },
   "outputs": [
    {
     "name": "stdout",
     "output_type": "stream",
     "text": [
      "With original image labels\n",
      "Both MVSA: bert-base\n",
      "\n",
      "Both MVSA: bert-pos-bow\n",
      "\n",
      "Both MVSA: bert-pos-ner-bow\n",
      "\n",
      "Both MVSA: bert-pos-tfidf\n",
      "\n",
      "Both MVSA: bert-pos-ner-tfidf\n",
      "\n"
     ]
    }
   ],
   "source": [
    "print('With original image labels')\n",
    "mvsa_hitories3 = []\n",
    "mvsa_score3 = []\n",
    "for i in range(len(feature_names)):\n",
    "    print('Both MVSA:', feature_names[i])\n",
    "    history, scores = run_and_evaluate('single-' + feature_names[i], mvsa_features[i], mvsa_image_labels, verbose=0)\n",
    "    mvsa_hitories3.append(history)\n",
    "    mvsa_score3.append(scores)\n",
    "    print()\n",
    "    \n",
    "df_scores3 = pd.DataFrame(mvsa_score3, columns=['Loss', 'Accuracy', 'F1-score'], index=feature_names)"
   ]
  },
  {
   "cell_type": "code",
   "execution_count": 27,
   "id": "20a6e472",
   "metadata": {
    "execution": {
     "iopub.execute_input": "2022-06-30T17:42:29.716753Z",
     "iopub.status.busy": "2022-06-30T17:42:29.715695Z",
     "iopub.status.idle": "2022-06-30T17:43:33.824129Z",
     "shell.execute_reply": "2022-06-30T17:43:33.821572Z"
    },
    "papermill": {
     "duration": 64.123694,
     "end_time": "2022-06-30T17:43:33.826670",
     "exception": false,
     "start_time": "2022-06-30T17:42:29.702976",
     "status": "completed"
    },
    "tags": []
   },
   "outputs": [
    {
     "name": "stdout",
     "output_type": "stream",
     "text": [
      "With multimodal labels\n",
      "Both MVSA: bert-base\n",
      "\n",
      "Both MVSA: bert-pos-bow\n",
      "\n",
      "Both MVSA: bert-pos-ner-bow\n",
      "\n",
      "Both MVSA: bert-pos-tfidf\n",
      "\n",
      "Both MVSA: bert-pos-ner-tfidf\n",
      "\n"
     ]
    }
   ],
   "source": [
    "print('With multimodal labels')\n",
    "mvsa_hitories4 = []\n",
    "mvsa_score4 = []\n",
    "for i in range(len(feature_names)):\n",
    "    print('Both MVSA:', feature_names[i])\n",
    "    history, scores = run_and_evaluate('single-' + feature_names[i], mvsa_features[i], mvsa_multimodal_labels, verbose=0)\n",
    "    mvsa_hitories4.append(history)\n",
    "    mvsa_score4.append(scores)\n",
    "    print()\n",
    "    \n",
    "df_scores4 = pd.DataFrame(mvsa_score4, columns=['Loss', 'Accuracy', 'F1-score'], index=feature_names)"
   ]
  },
  {
   "cell_type": "code",
   "execution_count": 28,
   "id": "ae063a3d",
   "metadata": {
    "execution": {
     "iopub.execute_input": "2022-06-30T17:43:33.851931Z",
     "iopub.status.busy": "2022-06-30T17:43:33.851385Z",
     "iopub.status.idle": "2022-06-30T17:43:33.889587Z",
     "shell.execute_reply": "2022-06-30T17:43:33.888103Z"
    },
    "papermill": {
     "duration": 0.054962,
     "end_time": "2022-06-30T17:43:33.893525",
     "exception": false,
     "start_time": "2022-06-30T17:43:33.838563",
     "status": "completed"
    },
    "tags": []
   },
   "outputs": [
    {
     "name": "stdout",
     "output_type": "stream",
     "text": [
      "With both MVSA merged together\n",
      "\n"
     ]
    },
    {
     "data": {
      "text/html": [
       "<table style=\"display:inline\"><tr><td style=\"text-align:center\">Original image labels</td><td style=\"text-align:center\">Multimodal labels</td></tr><tr><td style=\"vertical-align:top\"> <style type=\"text/css\">\n",
       "#T_23079_row0_col0, #T_23079_row4_col1, #T_23079_row4_col2 {\n",
       "  color: tomato;\n",
       "}\n",
       "#T_23079_row3_col0, #T_23079_row3_col1, #T_23079_row3_col2 {\n",
       "  color: lawngreen;\n",
       "}\n",
       "</style>\n",
       "<table style=\"display:inline\" id=\"T_23079_\">\n",
       "  <thead>\n",
       "    <tr>\n",
       "      <th class=\"blank level0\" >&nbsp;</th>\n",
       "      <th class=\"col_heading level0 col0\" >Loss</th>\n",
       "      <th class=\"col_heading level0 col1\" >Accuracy</th>\n",
       "      <th class=\"col_heading level0 col2\" >F1-score</th>\n",
       "    </tr>\n",
       "  </thead>\n",
       "  <tbody>\n",
       "    <tr>\n",
       "      <th id=\"T_23079_level0_row0\" class=\"row_heading level0 row0\" >bert-base</th>\n",
       "      <td id=\"T_23079_row0_col0\" class=\"data row0 col0\" >0.832428</td>\n",
       "      <td id=\"T_23079_row0_col1\" class=\"data row0 col1\" >0.590338</td>\n",
       "      <td id=\"T_23079_row0_col2\" class=\"data row0 col2\" >0.590338</td>\n",
       "    </tr>\n",
       "    <tr>\n",
       "      <th id=\"T_23079_level0_row1\" class=\"row_heading level0 row1\" >bert-pos-bow</th>\n",
       "      <td id=\"T_23079_row1_col0\" class=\"data row1 col0\" >0.828371</td>\n",
       "      <td id=\"T_23079_row1_col1\" class=\"data row1 col1\" >0.593237</td>\n",
       "      <td id=\"T_23079_row1_col2\" class=\"data row1 col2\" >0.593237</td>\n",
       "    </tr>\n",
       "    <tr>\n",
       "      <th id=\"T_23079_level0_row2\" class=\"row_heading level0 row2\" >bert-pos-ner-bow</th>\n",
       "      <td id=\"T_23079_row2_col0\" class=\"data row2 col0\" >0.828184</td>\n",
       "      <td id=\"T_23079_row2_col1\" class=\"data row2 col1\" >0.590821</td>\n",
       "      <td id=\"T_23079_row2_col2\" class=\"data row2 col2\" >0.590821</td>\n",
       "    </tr>\n",
       "    <tr>\n",
       "      <th id=\"T_23079_level0_row3\" class=\"row_heading level0 row3\" >bert-pos-tfidf</th>\n",
       "      <td id=\"T_23079_row3_col0\" class=\"data row3 col0\" >0.826166</td>\n",
       "      <td id=\"T_23079_row3_col1\" class=\"data row3 col1\" >0.597585</td>\n",
       "      <td id=\"T_23079_row3_col2\" class=\"data row3 col2\" >0.597585</td>\n",
       "    </tr>\n",
       "    <tr>\n",
       "      <th id=\"T_23079_level0_row4\" class=\"row_heading level0 row4\" >bert-pos-ner-tfidf</th>\n",
       "      <td id=\"T_23079_row4_col0\" class=\"data row4 col0\" >0.827540</td>\n",
       "      <td id=\"T_23079_row4_col1\" class=\"data row4 col1\" >0.588889</td>\n",
       "      <td id=\"T_23079_row4_col2\" class=\"data row4 col2\" >0.588889</td>\n",
       "    </tr>\n",
       "  </tbody>\n",
       "</table style=\"display:inline\">\n",
       "</td><td style=\"vertical-align:top\"> <style type=\"text/css\">\n",
       "#T_d2b2f_row0_col1, #T_d2b2f_row0_col2, #T_d2b2f_row2_col0 {\n",
       "  color: tomato;\n",
       "}\n",
       "#T_d2b2f_row1_col1, #T_d2b2f_row1_col2, #T_d2b2f_row3_col0 {\n",
       "  color: lawngreen;\n",
       "}\n",
       "</style>\n",
       "<table style=\"display:inline\" id=\"T_d2b2f_\">\n",
       "  <thead>\n",
       "    <tr>\n",
       "      <th class=\"blank level0\" >&nbsp;</th>\n",
       "      <th class=\"col_heading level0 col0\" >Loss</th>\n",
       "      <th class=\"col_heading level0 col1\" >Accuracy</th>\n",
       "      <th class=\"col_heading level0 col2\" >F1-score</th>\n",
       "    </tr>\n",
       "  </thead>\n",
       "  <tbody>\n",
       "    <tr>\n",
       "      <th id=\"T_d2b2f_level0_row0\" class=\"row_heading level0 row0\" >bert-base</th>\n",
       "      <td id=\"T_d2b2f_row0_col0\" class=\"data row0 col0\" >0.764947</td>\n",
       "      <td id=\"T_d2b2f_row0_col1\" class=\"data row0 col1\" >0.673913</td>\n",
       "      <td id=\"T_d2b2f_row0_col2\" class=\"data row0 col2\" >0.673913</td>\n",
       "    </tr>\n",
       "    <tr>\n",
       "      <th id=\"T_d2b2f_level0_row1\" class=\"row_heading level0 row1\" >bert-pos-bow</th>\n",
       "      <td id=\"T_d2b2f_row1_col0\" class=\"data row1 col0\" >0.769999</td>\n",
       "      <td id=\"T_d2b2f_row1_col1\" class=\"data row1 col1\" >0.683092</td>\n",
       "      <td id=\"T_d2b2f_row1_col2\" class=\"data row1 col2\" >0.683092</td>\n",
       "    </tr>\n",
       "    <tr>\n",
       "      <th id=\"T_d2b2f_level0_row2\" class=\"row_heading level0 row2\" >bert-pos-ner-bow</th>\n",
       "      <td id=\"T_d2b2f_row2_col0\" class=\"data row2 col0\" >0.778128</td>\n",
       "      <td id=\"T_d2b2f_row2_col1\" class=\"data row2 col1\" >0.681643</td>\n",
       "      <td id=\"T_d2b2f_row2_col2\" class=\"data row2 col2\" >0.681643</td>\n",
       "    </tr>\n",
       "    <tr>\n",
       "      <th id=\"T_d2b2f_level0_row3\" class=\"row_heading level0 row3\" >bert-pos-tfidf</th>\n",
       "      <td id=\"T_d2b2f_row3_col0\" class=\"data row3 col0\" >0.764610</td>\n",
       "      <td id=\"T_d2b2f_row3_col1\" class=\"data row3 col1\" >0.677778</td>\n",
       "      <td id=\"T_d2b2f_row3_col2\" class=\"data row3 col2\" >0.677778</td>\n",
       "    </tr>\n",
       "    <tr>\n",
       "      <th id=\"T_d2b2f_level0_row4\" class=\"row_heading level0 row4\" >bert-pos-ner-tfidf</th>\n",
       "      <td id=\"T_d2b2f_row4_col0\" class=\"data row4 col0\" >0.768630</td>\n",
       "      <td id=\"T_d2b2f_row4_col1\" class=\"data row4 col1\" >0.676328</td>\n",
       "      <td id=\"T_d2b2f_row4_col2\" class=\"data row4 col2\" >0.676328</td>\n",
       "    </tr>\n",
       "  </tbody>\n",
       "</table style=\"display:inline\">\n",
       "</td></tr></table style=\"display:inline\">"
      ]
     },
     "metadata": {},
     "output_type": "display_data"
    }
   ],
   "source": [
    "print('With both MVSA merged together\\n')\n",
    "display_dataframes((style_dataframe(df_scores3), style_dataframe(df_scores4)), \n",
    "                   names=['Original image labels', 'Multimodal labels'])"
   ]
  }
 ],
 "metadata": {
  "kernelspec": {
   "display_name": "Python 3",
   "language": "python",
   "name": "python3"
  },
  "language_info": {
   "codemirror_mode": {
    "name": "ipython",
    "version": 3
   },
   "file_extension": ".py",
   "mimetype": "text/x-python",
   "name": "python",
   "nbconvert_exporter": "python",
   "pygments_lexer": "ipython3",
   "version": "3.7.12"
  },
  "papermill": {
   "default_parameters": {},
   "duration": 345.735173,
   "end_time": "2022-06-30T17:43:37.322238",
   "environment_variables": {},
   "exception": null,
   "input_path": "__notebook__.ipynb",
   "output_path": "__notebook__.ipynb",
   "parameters": {},
   "start_time": "2022-06-30T17:37:51.587065",
   "version": "2.3.4"
  }
 },
 "nbformat": 4,
 "nbformat_minor": 5
}
