{
 "cells": [
  {
   "cell_type": "code",
   "execution_count": 1,
   "id": "30b52795",
   "metadata": {
    "_cell_guid": "b1076dfc-b9ad-4769-8c92-a6c4dae69d19",
    "_uuid": "8f2839f25d086af736a60e9eeb907d3b93b6e0e5",
    "execution": {
     "iopub.execute_input": "2022-07-13T16:39:26.878072Z",
     "iopub.status.busy": "2022-07-13T16:39:26.877397Z",
     "iopub.status.idle": "2022-07-13T16:39:38.552930Z",
     "shell.execute_reply": "2022-07-13T16:39:38.551509Z"
    },
    "papermill": {
     "duration": 11.696632,
     "end_time": "2022-07-13T16:39:38.556382",
     "exception": false,
     "start_time": "2022-07-13T16:39:26.859750",
     "status": "completed"
    },
    "tags": []
   },
   "outputs": [],
   "source": [
    "SEED = 61\n",
    "\n",
    "\n",
    "import os\n",
    "import re\n",
    "import gc\n",
    "import h5py\n",
    "import torch\n",
    "import string\n",
    "import numpy as np\n",
    "import pandas as pd\n",
    "import tensorflow as tf\n",
    "import random as python_random\n",
    "import matplotlib.pyplot as plt\n",
    "import tensorflow_addons as tfa\n",
    "\n",
    "from tqdm import tqdm\n",
    "from nltk import tokenize\n",
    "\n",
    "from sklearn import preprocessing\n",
    "from sklearn.decomposition import PCA\n",
    "from imblearn.over_sampling import SMOTE\n",
    "from imblearn.over_sampling import BorderlineSMOTE\n",
    "from keras import backend as K\n",
    "from keras import initializers,regularizers,constraints\n",
    "from keras.preprocessing.text import Tokenizer, text_to_word_sequence\n",
    "from keras.preprocessing.sequence import pad_sequences\n",
    "from keras.utils.np_utils import to_categorical\n",
    "from keras.layers import Reshape, Input, Embedding, Flatten, Dense, Dropout, BatchNormalization, Activation #, merge\n",
    "from keras.layers import TimeDistributed, LSTM, GRU, Bidirectional, Convolution1D, MaxPooling1D, MaxPooling2D\n",
    "from keras.layers.core import RepeatVector, Reshape\n",
    "from keras.callbacks import ModelCheckpoint, EarlyStopping, ReduceLROnPlateau\n",
    "from keras.models import Sequential, Model, load_model\n",
    "from sklearn.model_selection import cross_val_score\n",
    "from keras.initializers import Constant\n",
    "\n",
    "def reset_seeds():\n",
    "    np.random.seed(SEED) \n",
    "    python_random.seed(SEED)\n",
    "    tf.random.set_seed(SEED)\n",
    "    os.environ[\"PYTHONHASHSEED\"] = str(SEED)\n",
    "\n",
    "# from tensorflow.python.keras.layers import Layer, InputSpec, Lambda\n",
    "# from tensorflow.keras import Model\n",
    "# from attention import Attention_input1, Attention_input2\n",
    "# from keras.optimizers import SGD, RMSprop, Adagrad"
   ]
  },
  {
   "cell_type": "code",
   "execution_count": 2,
   "id": "6f428fd6",
   "metadata": {
    "execution": {
     "iopub.execute_input": "2022-07-13T16:39:38.580069Z",
     "iopub.status.busy": "2022-07-13T16:39:38.579463Z",
     "iopub.status.idle": "2022-07-13T16:39:38.589027Z",
     "shell.execute_reply": "2022-07-13T16:39:38.587313Z"
    },
    "papermill": {
     "duration": 0.024111,
     "end_time": "2022-07-13T16:39:38.591666",
     "exception": false,
     "start_time": "2022-07-13T16:39:38.567555",
     "status": "completed"
    },
    "tags": []
   },
   "outputs": [],
   "source": [
    "def read_hdf5(path):\n",
    "    read_file = h5py.File(path, 'r')\n",
    "    \n",
    "    feature_names = list(read_file.keys())\n",
    "    loaded_data = []\n",
    "    \n",
    "    for name in feature_names:\n",
    "        dataset = read_file[name][:]\n",
    "        if dataset.dtype == np.dtype('object'):\n",
    "            dataset = np.array([x.decode('UTF-8') for x in dataset])            \n",
    "        loaded_data.append((name, dataset))\n",
    "\n",
    "    return loaded_data\n",
    "\n",
    "def loadz(path):\n",
    "    data = np.load(path)['arr_0']\n",
    "    return data"
   ]
  },
  {
   "cell_type": "code",
   "execution_count": 3,
   "id": "221150c3",
   "metadata": {
    "execution": {
     "iopub.execute_input": "2022-07-13T16:39:38.615073Z",
     "iopub.status.busy": "2022-07-13T16:39:38.614060Z",
     "iopub.status.idle": "2022-07-13T16:39:38.630170Z",
     "shell.execute_reply": "2022-07-13T16:39:38.628916Z"
    },
    "papermill": {
     "duration": 0.030554,
     "end_time": "2022-07-13T16:39:38.632658",
     "exception": false,
     "start_time": "2022-07-13T16:39:38.602104",
     "status": "completed"
    },
    "tags": []
   },
   "outputs": [],
   "source": [
    "def merge_mvsa(mvsa_single, mvsa_multiple):\n",
    "    mvsa = np.concatenate((mvsa_single, mvsa_multiple), axis=0)\n",
    "    return mvsa\n",
    "\n",
    "def load_mvsa_feature(feature_name, merge=False):\n",
    "    folder_path = os.path.join('../input/mvsa-features/', feature_name)\n",
    "    single_file = 'mvsa-single-{}.npz'.format(feature_name)\n",
    "    multiple_file = 'mvsa-multiple-{}.npz'.format(feature_name)\n",
    "    mvsa_single = loadz(os.path.join(folder_path, single_file))\n",
    "    mvsa_multiple = loadz(os.path.join(folder_path, multiple_file))\n",
    "    \n",
    "    if merge == True:\n",
    "        return merge_mvsa(mvsa_single, mvsa_multiple)\n",
    "    \n",
    "    return mvsa_single, mvsa_multiple\n",
    "\n",
    "def load_mvsa_texts(merge=False):\n",
    "    folder_path = '../input/mvsa-data'\n",
    "    file_paths = os.listdir(folder_path)\n",
    "    for path in file_paths:\n",
    "        file_name = os.path.split(path)[1]\n",
    "        if file_name.split('.')[1] == 'hdf5':\n",
    "            if file_name.split('-')[1] == 'single':\n",
    "                mvsa_single_texts_path = os.path.join(folder_path, path)\n",
    "            else:\n",
    "                mvsa_multiple_texts_path = os.path.join(folder_path, path)\n",
    "    \n",
    "    mvsa_single = read_hdf5(mvsa_single_texts_path)\n",
    "    mvsa_multiple = read_hdf5(mvsa_multiple_texts_path)\n",
    "    \n",
    "    for x in mvsa_single:\n",
    "        if x[0] == 'texts':\n",
    "            mvsa_single_texts = x[1]\n",
    "            \n",
    "    for x in mvsa_multiple:\n",
    "        if x[0] == 'texts':\n",
    "            mvsa_multiple_texts = x[1]\n",
    "    \n",
    "    if merge == True:\n",
    "        return merge_mvsa(mvsa_single_texts, mvsa_multiple_texts)\n",
    "    \n",
    "    return mvsa_single_texts, mvsa_multiple_texts\n",
    "\n",
    "def load_labels(path):\n",
    "    data = read_hdf5(path)\n",
    "\n",
    "    for x in data:\n",
    "        if x[0] == 'multimodal-labels':\n",
    "            labels = x[1]\n",
    "        if x[0] == 'text-labels':\n",
    "            text_labels = x[1]\n",
    "        if x[0] == 'image-labels':\n",
    "            image_labels = x[1]\n",
    "        \n",
    "    return labels, text_labels, image_labels"
   ]
  },
  {
   "cell_type": "code",
   "execution_count": 4,
   "id": "6bc63d77",
   "metadata": {
    "execution": {
     "iopub.execute_input": "2022-07-13T16:39:38.658067Z",
     "iopub.status.busy": "2022-07-13T16:39:38.655936Z",
     "iopub.status.idle": "2022-07-13T16:39:38.667035Z",
     "shell.execute_reply": "2022-07-13T16:39:38.665667Z"
    },
    "papermill": {
     "duration": 0.026034,
     "end_time": "2022-07-13T16:39:38.669770",
     "exception": false,
     "start_time": "2022-07-13T16:39:38.643736",
     "status": "completed"
    },
    "tags": []
   },
   "outputs": [],
   "source": [
    "def clean_text(txt):\n",
    "#     nonEnglish_regex = re.compile('[^a-zA-Z0-9\\\\?\\\\!\\\\,\\\\.@#\\\\+\\\\-=\\\\*\\'\\\"><&\\\\$%\\\\(\\\\)\\\\[\\\\]:;]+')\n",
    "#     hashtag_pattern = re.compile('#[a-zA-Z0-9]+')\n",
    "#     txt_hashtag = re.sub(hashtag_pattern, '', txt)\n",
    "    at_pattern = re.compile('@[a-zA-Z0-9]+')\n",
    "    http_pattern = re.compile(\"((http|ftp|https)://)(([a-zA-Z0-9\\._-]+\\.[a-zA-Z]{2,6})|([0-9]{1,3}\\.[0-9]{1,3}\\.[0-9]{1,3}\\.[0-9]{1,3}))(:[0-9]{1,4})*(/[a-zA-Z0-9\\&%_\\./-~-]*)?\")\n",
    "    punc_pattern = re.compile('[%s]' % re.escape(string.punctuation))\n",
    "    txt = re.sub('#', '', txt)\n",
    "    txt = re.sub(at_pattern, 'user', txt)\n",
    "    txt = re.sub(http_pattern, 'link', txt)\n",
    "    txt = re.sub(punc_pattern, '', txt) # only remove punc for word2vec not BERT\n",
    "\n",
    "    # as the data was crawled using Twitter API, it marked retweet data with RT <user> tag which has no meaning considering it in training\n",
    "    if txt.startswith('RT user'):\n",
    "        txt = ''.join(txt.split(':')[1:])    \n",
    "    txt = txt.strip()\n",
    "    \n",
    "    return txt\n",
    "\n",
    "def get_clean_texts(data):\n",
    "    cleaned_data = []\n",
    "    for line in data:\n",
    "        text = clean_text(line)\n",
    "        cleaned_data.append(text)\n",
    "    return cleaned_data"
   ]
  },
  {
   "cell_type": "code",
   "execution_count": 5,
   "id": "6a14d2eb",
   "metadata": {
    "execution": {
     "iopub.execute_input": "2022-07-13T16:39:38.692776Z",
     "iopub.status.busy": "2022-07-13T16:39:38.692469Z",
     "iopub.status.idle": "2022-07-13T16:39:38.705842Z",
     "shell.execute_reply": "2022-07-13T16:39:38.704622Z"
    },
    "papermill": {
     "duration": 0.027755,
     "end_time": "2022-07-13T16:39:38.708441",
     "exception": false,
     "start_time": "2022-07-13T16:39:38.680686",
     "status": "completed"
    },
    "tags": []
   },
   "outputs": [],
   "source": [
    "def plot_metrics(history):\n",
    "    fig = plt.figure(figsize=(20, 5))\n",
    "\n",
    "    fig.add_subplot(1, 4, 1)\n",
    "    plt.plot(history.history['loss'])\n",
    "    plt.plot(history.history['val_loss'])\n",
    "    plt.title('LOSS')\n",
    "    plt.ylabel('loss')\n",
    "    plt.xlabel('epoch')\n",
    "    plt.legend(['train', 'val'], loc='best')\n",
    "\n",
    "    fig.add_subplot(1, 4, 2)\n",
    "    plt.plot(history.history['accuracy'])\n",
    "    plt.plot(history.history['val_accuracy'])\n",
    "    plt.title('ACCURACY')\n",
    "    plt.ylabel('accuracy')\n",
    "    plt.xlabel('epoch')\n",
    "    plt.legend(['train', 'val'], loc='best')\n",
    "\n",
    "    fig.add_subplot(1, 4, 3)\n",
    "    plt.plot(history.history['f1_macro'])\n",
    "    plt.plot(history.history['val_f1_macro'])\n",
    "    plt.title('Macro F1-SCORE')\n",
    "    plt.ylabel('f1-macro')\n",
    "    plt.xlabel('epoch')\n",
    "    plt.legend(['train', 'val'], loc='best')\n",
    "    \n",
    "    fig.add_subplot(1, 4, 4)\n",
    "    plt.plot(history.history['f1_weighted'])\n",
    "    plt.plot(history.history['val_f1_weighted'])\n",
    "    plt.title('Weighted F1-SCORE')\n",
    "    plt.ylabel('f1-weighted')\n",
    "    plt.xlabel('epoch')\n",
    "    plt.legend(['train', 'val'], loc='best')\n",
    "\n",
    "    plt.show()"
   ]
  },
  {
   "cell_type": "code",
   "execution_count": 6,
   "id": "1133c336",
   "metadata": {
    "execution": {
     "iopub.execute_input": "2022-07-13T16:39:38.731019Z",
     "iopub.status.busy": "2022-07-13T16:39:38.730668Z",
     "iopub.status.idle": "2022-07-13T16:39:38.739030Z",
     "shell.execute_reply": "2022-07-13T16:39:38.737846Z"
    },
    "papermill": {
     "duration": 0.022741,
     "end_time": "2022-07-13T16:39:38.741670",
     "exception": false,
     "start_time": "2022-07-13T16:39:38.718929",
     "status": "completed"
    },
    "tags": []
   },
   "outputs": [],
   "source": [
    "# e.g. validation_split=0.1 -----> 8:1:1 ratio of train, val, test\n",
    "def split_data(data, validation_split):\n",
    "    num_val = int(validation_split * data.shape[0])\n",
    "    data_train = data[:-(num_val*2)]\n",
    "    data_val = data[-(num_val*2):-(num_val)]\n",
    "    data_test = data[-num_val:]\n",
    "    return data_train, data_val, data_test"
   ]
  },
  {
   "cell_type": "code",
   "execution_count": 7,
   "id": "54d6dd41",
   "metadata": {
    "execution": {
     "iopub.execute_input": "2022-07-13T16:39:38.764211Z",
     "iopub.status.busy": "2022-07-13T16:39:38.763910Z",
     "iopub.status.idle": "2022-07-13T16:39:38.772197Z",
     "shell.execute_reply": "2022-07-13T16:39:38.770740Z"
    },
    "papermill": {
     "duration": 0.022879,
     "end_time": "2022-07-13T16:39:38.774983",
     "exception": false,
     "start_time": "2022-07-13T16:39:38.752104",
     "status": "completed"
    },
    "tags": []
   },
   "outputs": [],
   "source": [
    "def create_model_text(input_shape):\n",
    "    f1_macro = tfa.metrics.F1Score(num_classes=NUM_CLASSES, average='macro', name='f1_macro')\n",
    "    f1_weighted = tfa.metrics.F1Score(num_classes=NUM_CLASSES, average='weighted', name='f1_weighted')\n",
    "    \n",
    "    text_input = Input(shape=input_shape)\n",
    "    reshape_text = Reshape((1, -1)) (text_input)\n",
    "    lstm = LSTM(NUM_LSTM) (reshape_text)\n",
    "    outputs = Dense(NUM_CLASSES, activation='softmax') (lstm)\n",
    "    \n",
    "    model = Model(text_input, outputs)\n",
    "    model.compile(optimizer='adam', loss='categorical_crossentropy', metrics=['accuracy', f1_macro, f1_weighted])\n",
    "    \n",
    "    return model"
   ]
  },
  {
   "cell_type": "code",
   "execution_count": 8,
   "id": "35b6512d",
   "metadata": {
    "execution": {
     "iopub.execute_input": "2022-07-13T16:39:38.797465Z",
     "iopub.status.busy": "2022-07-13T16:39:38.797143Z",
     "iopub.status.idle": "2022-07-13T16:39:38.804919Z",
     "shell.execute_reply": "2022-07-13T16:39:38.803568Z"
    },
    "papermill": {
     "duration": 0.022079,
     "end_time": "2022-07-13T16:39:38.807746",
     "exception": false,
     "start_time": "2022-07-13T16:39:38.785667",
     "status": "completed"
    },
    "tags": []
   },
   "outputs": [],
   "source": [
    "def evaluate_model(model, X_test, y_test, checkpoint=None, verbose=1):\n",
    "    if checkpoint is not None:\n",
    "        model = load_model('./model_checkpoint/{}.h5'.format(checkpoint))\n",
    "    \n",
    "    loss, acc, f1_macro, f1_weighted = model.evaluate(X_test, y_test, verbose=verbose)\n",
    "    \n",
    "    if verbose == 1:\n",
    "        print('Loss:', loss)\n",
    "        print('Accuracy:', acc)\n",
    "        print('Macro F1-score:', f1_macro)\n",
    "        print('Weighted F1-score:', f1_weighted)\n",
    "        \n",
    "    return loss, acc, f1_macro, f1_weighted"
   ]
  },
  {
   "cell_type": "code",
   "execution_count": 9,
   "id": "1341b59c",
   "metadata": {
    "execution": {
     "iopub.execute_input": "2022-07-13T16:39:38.830414Z",
     "iopub.status.busy": "2022-07-13T16:39:38.830094Z",
     "iopub.status.idle": "2022-07-13T16:39:38.841322Z",
     "shell.execute_reply": "2022-07-13T16:39:38.840000Z"
    },
    "papermill": {
     "duration": 0.025965,
     "end_time": "2022-07-13T16:39:38.844354",
     "exception": false,
     "start_time": "2022-07-13T16:39:38.818389",
     "status": "completed"
    },
    "tags": []
   },
   "outputs": [],
   "source": [
    "def run_and_evaluate(name, X, y, verbose=0):\n",
    "    y = le.fit_transform(y)\n",
    "    y = to_categorical(np.asarray(y))\n",
    "\n",
    "    random_idx = np.random.permutation(len(y))\n",
    "    X, y = X[random_idx], y[random_idx]\n",
    "\n",
    "    X_train, X_val, X_test = split_data(X, VALIDATION_SPLIT)\n",
    "    y_train, y_val, y_test = split_data(y, VALIDATION_SPLIT)\n",
    "    \n",
    "    oversample = BorderlineSMOTE(sampling_strategy='minority', random_state=SEED, kind='borderline-2')\n",
    "#     oversample = SMOTE(sampling_strategy='minority', random_state=SEED)\n",
    "    X_train, y_train = oversample.fit_resample(X_train, y_train)\n",
    "    \n",
    "    model = create_model_text(X_train.shape[1:])\n",
    "    early_stopping = EarlyStopping(monitor='val_loss', min_delta=1e-4, patience=EARLY_STOPPING)\n",
    "    checkpoint = ModelCheckpoint('./model_checkpoint/{}.h5'.format(name), save_best_only=True, verbose=verbose)\n",
    "    \n",
    "    history = model.fit(X_train, y_train, validation_data=(X_val, y_val), \n",
    "                        epochs=EPOCHS, batch_size=BATCH_SIZE, verbose=verbose,\n",
    "                        callbacks=[checkpoint, early_stopping])\n",
    "    if verbose == 1:\n",
    "        best_epoch = np.argmin(history.history['val_loss'])\n",
    "        print('Checkpoint loaded at epoch:', best_epoch)\n",
    "    \n",
    "    return history, evaluate_model(model, X_test, y_test, checkpoint=name, verbose=verbose)"
   ]
  },
  {
   "cell_type": "code",
   "execution_count": 10,
   "id": "ada861fd",
   "metadata": {
    "execution": {
     "iopub.execute_input": "2022-07-13T16:39:38.867229Z",
     "iopub.status.busy": "2022-07-13T16:39:38.866665Z",
     "iopub.status.idle": "2022-07-13T16:39:38.878076Z",
     "shell.execute_reply": "2022-07-13T16:39:38.876717Z"
    },
    "papermill": {
     "duration": 0.026146,
     "end_time": "2022-07-13T16:39:38.881411",
     "exception": false,
     "start_time": "2022-07-13T16:39:38.855265",
     "status": "completed"
    },
    "tags": []
   },
   "outputs": [],
   "source": [
    "def run_and_evaluate_w2v(name, X, y, verbose=0):\n",
    "    y = le.fit_transform(y)\n",
    "    y = to_categorical(np.asarray(y))\n",
    "    \n",
    "    random_idx = np.random.permutation(len(y))\n",
    "    X, y = X[random_idx], y[random_idx]\n",
    "\n",
    "    X_train, X_val, X_test = split_data(X, VALIDATION_SPLIT)\n",
    "    y_train, y_val, y_test = split_data(y, VALIDATION_SPLIT)\n",
    "    \n",
    "    oversample = BorderlineSMOTE(sampling_strategy='minority', random_state=SEED, kind='borderline-2')\n",
    "#     oversample = SMOTE(sampling_strategy='minority', random_state=SEED)\n",
    "    X_train, y_train = oversample.fit_resample(X_train, y_train)\n",
    "    \n",
    "    model = create_model_text_w2v(X_train.shape[1:])\n",
    "    early_stopping = EarlyStopping(monitor='val_loss', min_delta=1e-4, patience=EARLY_STOPPING)\n",
    "    checkpoint = ModelCheckpoint('./model_checkpoint/{}.h5'.format(name), save_best_only=True, verbose=verbose)\n",
    "    \n",
    "    history = model.fit(X_train, y_train, validation_data=(X_val, y_val), \n",
    "                        epochs=EPOCHS, batch_size=BATCH_SIZE, verbose=verbose,\n",
    "                        callbacks=[checkpoint, early_stopping])\n",
    "    \n",
    "    if verbose == 1:\n",
    "        best_epoch = np.argmin(history.history['val_loss'])\n",
    "        print('Checkpoint loaded at epoch:', best_epoch)\n",
    "    \n",
    "    return history, evaluate_model(model, X_test, y_test, checkpoint=name, verbose=verbose)"
   ]
  },
  {
   "cell_type": "code",
   "execution_count": 11,
   "id": "6fa20171",
   "metadata": {
    "execution": {
     "iopub.execute_input": "2022-07-13T16:39:38.903237Z",
     "iopub.status.busy": "2022-07-13T16:39:38.902932Z",
     "iopub.status.idle": "2022-07-13T16:39:38.910346Z",
     "shell.execute_reply": "2022-07-13T16:39:38.908849Z"
    },
    "papermill": {
     "duration": 0.021887,
     "end_time": "2022-07-13T16:39:38.913494",
     "exception": false,
     "start_time": "2022-07-13T16:39:38.891607",
     "status": "completed"
    },
    "tags": []
   },
   "outputs": [],
   "source": [
    "def style_dataframe(dataframe):\n",
    "    return dataframe.style.highlight_max(subset=['Accuracy', 'F1-macro', 'F1-weighted'], props='color:lawngreen', axis=0)\\\n",
    "                          .highlight_min(subset=['Accuracy', 'F1-macro', 'F1-weighted'], props='color:tomato', axis=0)\\\n",
    "                          .highlight_min(subset=['Loss'], props='color:lawngreen', axis=0)\\\n",
    "                          .highlight_max(subset=['Loss'], props='color:tomato', axis=0)"
   ]
  },
  {
   "cell_type": "code",
   "execution_count": 12,
   "id": "02cf3c7b",
   "metadata": {
    "execution": {
     "iopub.execute_input": "2022-07-13T16:39:38.936087Z",
     "iopub.status.busy": "2022-07-13T16:39:38.935770Z",
     "iopub.status.idle": "2022-07-13T16:39:38.944250Z",
     "shell.execute_reply": "2022-07-13T16:39:38.942980Z"
    },
    "papermill": {
     "duration": 0.022462,
     "end_time": "2022-07-13T16:39:38.946750",
     "exception": false,
     "start_time": "2022-07-13T16:39:38.924288",
     "status": "completed"
    },
    "tags": []
   },
   "outputs": [],
   "source": [
    "from IPython.display import display_html\n",
    "\n",
    "def display_dataframes(dfs, names=[], index=False):\n",
    "    def to_df(x):\n",
    "        if isinstance(x, pd.Series):\n",
    "            return pd.DataFrame(x)\n",
    "        else:\n",
    "            return x\n",
    "    html_str = ''\n",
    "    if names:\n",
    "        html_str += ('<tr>' + \n",
    "                     ''.join(f'<td style=\"text-align:center\">{name}</td>' for name in names) + \n",
    "                     '</tr>')\n",
    "    html_str += ('<tr>' + \n",
    "                 ''.join(f'<td style=\"vertical-align:top\"> {to_df(df).to_html()}</td>' \n",
    "                         for df in dfs) + \n",
    "                 '</tr>')\n",
    "    html_str = f'<table>{html_str}</table>'\n",
    "    html_str = html_str.replace('table','table style=\"display:inline\"')\n",
    "    display_html(html_str, raw=True)"
   ]
  },
  {
   "cell_type": "markdown",
   "id": "9bbcc08b",
   "metadata": {
    "papermill": {
     "duration": 0.010464,
     "end_time": "2022-07-13T16:39:38.967751",
     "exception": false,
     "start_time": "2022-07-13T16:39:38.957287",
     "status": "completed"
    },
    "tags": []
   },
   "source": [
    "# Load GloVe"
   ]
  },
  {
   "cell_type": "code",
   "execution_count": 13,
   "id": "5dbfb02c",
   "metadata": {
    "execution": {
     "iopub.execute_input": "2022-07-13T16:39:38.990139Z",
     "iopub.status.busy": "2022-07-13T16:39:38.989794Z",
     "iopub.status.idle": "2022-07-13T16:39:38.995173Z",
     "shell.execute_reply": "2022-07-13T16:39:38.993856Z"
    },
    "papermill": {
     "duration": 0.019774,
     "end_time": "2022-07-13T16:39:38.997983",
     "exception": false,
     "start_time": "2022-07-13T16:39:38.978209",
     "status": "completed"
    },
    "tags": []
   },
   "outputs": [],
   "source": [
    "MAX_LENGTH = 280 # as in twitter'S word limit\n",
    "path_to_glove_file = '../input/glovetwitter27b100d/glove.twitter.27B.100d.txt'"
   ]
  },
  {
   "cell_type": "code",
   "execution_count": 14,
   "id": "e6d16113",
   "metadata": {
    "execution": {
     "iopub.execute_input": "2022-07-13T16:39:39.020999Z",
     "iopub.status.busy": "2022-07-13T16:39:39.019988Z",
     "iopub.status.idle": "2022-07-13T16:39:39.781876Z",
     "shell.execute_reply": "2022-07-13T16:39:39.780585Z"
    },
    "papermill": {
     "duration": 0.776423,
     "end_time": "2022-07-13T16:39:39.784750",
     "exception": false,
     "start_time": "2022-07-13T16:39:39.008327",
     "status": "completed"
    },
    "tags": []
   },
   "outputs": [],
   "source": [
    "mvsa_single_texts, mvsa_multiple_texts = load_mvsa_texts()\n",
    "\n",
    "mvsa_single_texts = get_clean_texts(mvsa_single_texts)\n",
    "mvsa_multiple_texts = get_clean_texts(mvsa_multiple_texts)"
   ]
  },
  {
   "cell_type": "code",
   "execution_count": 15,
   "id": "01953153",
   "metadata": {
    "execution": {
     "iopub.execute_input": "2022-07-13T16:39:39.808351Z",
     "iopub.status.busy": "2022-07-13T16:39:39.808014Z",
     "iopub.status.idle": "2022-07-13T16:39:46.967595Z",
     "shell.execute_reply": "2022-07-13T16:39:46.966231Z"
    },
    "papermill": {
     "duration": 7.174365,
     "end_time": "2022-07-13T16:39:46.970473",
     "exception": false,
     "start_time": "2022-07-13T16:39:39.796108",
     "status": "completed"
    },
    "tags": []
   },
   "outputs": [
    {
     "name": "stderr",
     "output_type": "stream",
     "text": [
      "2022-07-13 16:39:39.912252: I tensorflow/stream_executor/cuda/cuda_gpu_executor.cc:937] successful NUMA node read from SysFS had negative value (-1), but there must be at least one NUMA node, so returning NUMA node zero\n",
      "2022-07-13 16:39:39.913825: I tensorflow/stream_executor/cuda/cuda_gpu_executor.cc:937] successful NUMA node read from SysFS had negative value (-1), but there must be at least one NUMA node, so returning NUMA node zero\n",
      "2022-07-13 16:39:39.914969: I tensorflow/stream_executor/cuda/cuda_gpu_executor.cc:937] successful NUMA node read from SysFS had negative value (-1), but there must be at least one NUMA node, so returning NUMA node zero\n",
      "2022-07-13 16:39:39.916266: I tensorflow/core/platform/cpu_feature_guard.cc:142] This TensorFlow binary is optimized with oneAPI Deep Neural Network Library (oneDNN) to use the following CPU instructions in performance-critical operations:  AVX2 FMA\n",
      "To enable them in other operations, rebuild TensorFlow with the appropriate compiler flags.\n",
      "2022-07-13 16:39:39.916618: I tensorflow/stream_executor/cuda/cuda_gpu_executor.cc:937] successful NUMA node read from SysFS had negative value (-1), but there must be at least one NUMA node, so returning NUMA node zero\n",
      "2022-07-13 16:39:39.917762: I tensorflow/stream_executor/cuda/cuda_gpu_executor.cc:937] successful NUMA node read from SysFS had negative value (-1), but there must be at least one NUMA node, so returning NUMA node zero\n",
      "2022-07-13 16:39:39.918856: I tensorflow/stream_executor/cuda/cuda_gpu_executor.cc:937] successful NUMA node read from SysFS had negative value (-1), but there must be at least one NUMA node, so returning NUMA node zero\n",
      "2022-07-13 16:39:45.941766: I tensorflow/stream_executor/cuda/cuda_gpu_executor.cc:937] successful NUMA node read from SysFS had negative value (-1), but there must be at least one NUMA node, so returning NUMA node zero\n",
      "2022-07-13 16:39:45.942995: I tensorflow/stream_executor/cuda/cuda_gpu_executor.cc:937] successful NUMA node read from SysFS had negative value (-1), but there must be at least one NUMA node, so returning NUMA node zero\n",
      "2022-07-13 16:39:45.944063: I tensorflow/stream_executor/cuda/cuda_gpu_executor.cc:937] successful NUMA node read from SysFS had negative value (-1), but there must be at least one NUMA node, so returning NUMA node zero\n",
      "2022-07-13 16:39:45.944923: I tensorflow/core/common_runtime/gpu/gpu_device.cc:1510] Created device /job:localhost/replica:0/task:0/device:GPU:0 with 15047 MB memory:  -> device: 0, name: Tesla P100-PCIE-16GB, pci bus id: 0000:00:04.0, compute capability: 6.0\n",
      "2022-07-13 16:39:46.524771: I tensorflow/compiler/mlir/mlir_graph_optimization_pass.cc:185] None of the MLIR Optimization Passes are enabled (registered 2)\n"
     ]
    }
   ],
   "source": [
    "from tensorflow.keras.layers import TextVectorization\n",
    "\n",
    "vectorizer = TextVectorization(max_tokens=20000, output_sequence_length=MAX_LENGTH)\n",
    "\n",
    "text_ds_single = tf.data.Dataset.from_tensor_slices(mvsa_single_texts).batch(128)\n",
    "text_ds_multiple = tf.data.Dataset.from_tensor_slices(mvsa_multiple_texts).batch(128)\n",
    "\n",
    "vectorizer.adapt(text_ds_single)\n",
    "vectorizer.adapt(text_ds_multiple)"
   ]
  },
  {
   "cell_type": "code",
   "execution_count": 16,
   "id": "1551b4fb",
   "metadata": {
    "execution": {
     "iopub.execute_input": "2022-07-13T16:39:46.995870Z",
     "iopub.status.busy": "2022-07-13T16:39:46.994008Z",
     "iopub.status.idle": "2022-07-13T16:39:47.058413Z",
     "shell.execute_reply": "2022-07-13T16:39:47.057208Z"
    },
    "papermill": {
     "duration": 0.079364,
     "end_time": "2022-07-13T16:39:47.061071",
     "exception": false,
     "start_time": "2022-07-13T16:39:46.981707",
     "status": "completed"
    },
    "tags": []
   },
   "outputs": [],
   "source": [
    "voc = vectorizer.get_vocabulary()\n",
    "word_index = dict(zip(voc, range(len(voc))))"
   ]
  },
  {
   "cell_type": "code",
   "execution_count": 17,
   "id": "56c6d416",
   "metadata": {
    "execution": {
     "iopub.execute_input": "2022-07-13T16:39:47.083291Z",
     "iopub.status.busy": "2022-07-13T16:39:47.082981Z",
     "iopub.status.idle": "2022-07-13T16:40:31.215905Z",
     "shell.execute_reply": "2022-07-13T16:40:31.214538Z"
    },
    "papermill": {
     "duration": 44.158319,
     "end_time": "2022-07-13T16:40:31.230015",
     "exception": false,
     "start_time": "2022-07-13T16:39:47.071696",
     "status": "completed"
    },
    "tags": []
   },
   "outputs": [
    {
     "name": "stdout",
     "output_type": "stream",
     "text": [
      "Found 1193515 word vectors.\n"
     ]
    }
   ],
   "source": [
    "embeddings_index = {}\n",
    "with open(path_to_glove_file) as f:\n",
    "    for line in f:\n",
    "        word, coefs = line.split(maxsplit=1)\n",
    "        coefs = np.fromstring(coefs, \"f\", sep=\" \")\n",
    "        embeddings_index[word] = coefs\n",
    "\n",
    "print(\"Found %s word vectors.\" % len(embeddings_index))"
   ]
  },
  {
   "cell_type": "code",
   "execution_count": 18,
   "id": "e9ae2c23",
   "metadata": {
    "execution": {
     "iopub.execute_input": "2022-07-13T16:40:31.254690Z",
     "iopub.status.busy": "2022-07-13T16:40:31.254344Z",
     "iopub.status.idle": "2022-07-13T16:40:31.313744Z",
     "shell.execute_reply": "2022-07-13T16:40:31.312051Z"
    },
    "papermill": {
     "duration": 0.07582,
     "end_time": "2022-07-13T16:40:31.317937",
     "exception": false,
     "start_time": "2022-07-13T16:40:31.242117",
     "status": "completed"
    },
    "tags": []
   },
   "outputs": [
    {
     "name": "stdout",
     "output_type": "stream",
     "text": [
      "Converted 12712 words (7288 misses)\n"
     ]
    }
   ],
   "source": [
    "num_tokens = len(voc) + 2\n",
    "embedding_dim = 100\n",
    "hits = 0\n",
    "misses = 0\n",
    "\n",
    "# Prepare embedding matrix\n",
    "embedding_matrix = np.zeros((num_tokens, embedding_dim))\n",
    "for word, i in word_index.items():\n",
    "    embedding_vector = embeddings_index.get(word)\n",
    "    if embedding_vector is not None:\n",
    "        # Words not found in embedding index will be all-zeros.\n",
    "        # This includes the representation for \"padding\" and \"OOV\"\n",
    "        embedding_matrix[i] = embedding_vector\n",
    "        hits += 1\n",
    "    else:\n",
    "        misses += 1\n",
    "print(\"Converted %d words (%d misses)\" % (hits, misses))\n",
    "\n",
    "embedding_layer_glove = Embedding(\n",
    "    num_tokens,\n",
    "    embedding_dim,\n",
    "    embeddings_initializer= Constant(embedding_matrix),\n",
    "    trainable=False,\n",
    ")\n",
    "\n",
    "def create_model_text_w2v(input_shape):\n",
    "    f1_macro = tfa.metrics.F1Score(num_classes=NUM_CLASSES, average='macro', name='f1_macro')\n",
    "    f1_weighted = tfa.metrics.F1Score(num_classes=NUM_CLASSES, average='weighted', name='f1_weighted')\n",
    "    \n",
    "    text_input = Input(shape=(None,), dtype=\"int64\")\n",
    "    embedded_sequences = embedding_layer_glove(text_input)\n",
    "    lstm = LSTM(NUM_LSTM) (embedded_sequences)\n",
    "    outputs = Dense(NUM_CLASSES, activation='softmax') (lstm)\n",
    "    \n",
    "    model = Model(text_input, outputs)\n",
    "    model.compile(optimizer='adam', loss='categorical_crossentropy', metrics=['accuracy', f1_macro, f1_weighted])\n",
    "    \n",
    "    return model"
   ]
  },
  {
   "cell_type": "markdown",
   "id": "f65b273d",
   "metadata": {
    "papermill": {
     "duration": 0.010794,
     "end_time": "2022-07-13T16:40:31.341076",
     "exception": false,
     "start_time": "2022-07-13T16:40:31.330282",
     "status": "completed"
    },
    "tags": []
   },
   "source": [
    "# Load features data"
   ]
  },
  {
   "cell_type": "code",
   "execution_count": 19,
   "id": "f65b131d",
   "metadata": {
    "execution": {
     "iopub.execute_input": "2022-07-13T16:40:31.364378Z",
     "iopub.status.busy": "2022-07-13T16:40:31.364063Z",
     "iopub.status.idle": "2022-07-13T16:40:31.612658Z",
     "shell.execute_reply": "2022-07-13T16:40:31.611310Z"
    },
    "papermill": {
     "duration": 0.263722,
     "end_time": "2022-07-13T16:40:31.615688",
     "exception": false,
     "start_time": "2022-07-13T16:40:31.351966",
     "status": "completed"
    },
    "tags": []
   },
   "outputs": [],
   "source": [
    "mvsa_single_texts = vectorizer(np.array([[s] for s in mvsa_single_texts])).numpy()\n",
    "mvsa_multiple_texts = vectorizer(np.array([[s] for s in mvsa_multiple_texts])).numpy()"
   ]
  },
  {
   "cell_type": "code",
   "execution_count": 20,
   "id": "382cfe94",
   "metadata": {
    "execution": {
     "iopub.execute_input": "2022-07-13T16:40:31.638630Z",
     "iopub.status.busy": "2022-07-13T16:40:31.638242Z",
     "iopub.status.idle": "2022-07-13T16:40:31.661640Z",
     "shell.execute_reply": "2022-07-13T16:40:31.660289Z"
    },
    "papermill": {
     "duration": 0.037656,
     "end_time": "2022-07-13T16:40:31.664332",
     "exception": false,
     "start_time": "2022-07-13T16:40:31.626676",
     "status": "completed"
    },
    "tags": []
   },
   "outputs": [],
   "source": [
    "mvsa_texts = merge_mvsa(mvsa_single_texts, mvsa_multiple_texts)"
   ]
  },
  {
   "cell_type": "code",
   "execution_count": 21,
   "id": "c18651d4",
   "metadata": {
    "execution": {
     "iopub.execute_input": "2022-07-13T16:40:31.687763Z",
     "iopub.status.busy": "2022-07-13T16:40:31.687411Z",
     "iopub.status.idle": "2022-07-13T16:40:33.038538Z",
     "shell.execute_reply": "2022-07-13T16:40:33.037264Z"
    },
    "papermill": {
     "duration": 1.366686,
     "end_time": "2022-07-13T16:40:33.042084",
     "exception": false,
     "start_time": "2022-07-13T16:40:31.675398",
     "status": "completed"
    },
    "tags": []
   },
   "outputs": [],
   "source": [
    "mvsa_single_bert_base, mvsa_multiple_bert_base = load_mvsa_feature('bert-base')\n",
    "mvsa_single_pos_bow, mvsa_multiple_pos_bow = load_mvsa_feature('pos-bow')\n",
    "mvsa_single_pos_tfidf, mvsa_multiple_pos_tfidf = load_mvsa_feature('pos-tfidf')\n",
    "mvsa_single_ner_bow, mvsa_multiple_ner_bow = load_mvsa_feature('ner-bow')\n",
    "mvsa_single_ner_tfidf, mvsa_multiple_ner_tfidf = load_mvsa_feature('ner-tfidf')"
   ]
  },
  {
   "cell_type": "code",
   "execution_count": 22,
   "id": "c51bb9dc",
   "metadata": {
    "execution": {
     "iopub.execute_input": "2022-07-13T16:40:33.065260Z",
     "iopub.status.busy": "2022-07-13T16:40:33.064951Z",
     "iopub.status.idle": "2022-07-13T16:40:33.103844Z",
     "shell.execute_reply": "2022-07-13T16:40:33.102507Z"
    },
    "papermill": {
     "duration": 0.053558,
     "end_time": "2022-07-13T16:40:33.106919",
     "exception": false,
     "start_time": "2022-07-13T16:40:33.053361",
     "status": "completed"
    },
    "tags": []
   },
   "outputs": [],
   "source": [
    "mvsa_bert_base = merge_mvsa(mvsa_single_bert_base, mvsa_multiple_bert_base)\n",
    "mvsa_pos_bow = merge_mvsa(mvsa_single_pos_bow, mvsa_multiple_pos_bow)\n",
    "mvsa_pos_tfidf = merge_mvsa(mvsa_single_pos_tfidf, mvsa_multiple_pos_tfidf)\n",
    "mvsa_ner_bow = merge_mvsa(mvsa_single_ner_bow, mvsa_multiple_ner_bow)\n",
    "mvsa_ner_tfidf = merge_mvsa(mvsa_single_ner_tfidf, mvsa_multiple_ner_tfidf)"
   ]
  },
  {
   "cell_type": "code",
   "execution_count": 23,
   "id": "3eaa6dc4",
   "metadata": {
    "execution": {
     "iopub.execute_input": "2022-07-13T16:40:33.130949Z",
     "iopub.status.busy": "2022-07-13T16:40:33.130596Z",
     "iopub.status.idle": "2022-07-13T16:40:33.259914Z",
     "shell.execute_reply": "2022-07-13T16:40:33.258538Z"
    },
    "papermill": {
     "duration": 0.144462,
     "end_time": "2022-07-13T16:40:33.262938",
     "exception": false,
     "start_time": "2022-07-13T16:40:33.118476",
     "status": "completed"
    },
    "tags": []
   },
   "outputs": [],
   "source": [
    "mvsa_single_multimodal_labels, mvsa_single_text_labels, mvsa_single_image_labels = load_labels('../input/mvsa-features/labels/mvsa-single-labels.hdf5')\n",
    "mvsa_multiple_multimodal_labels, mvsa_multiple_text_labels, mvsa_multiple_image_labels = load_labels('../input/mvsa-features/labels/mvsa-multiple-labels.hdf5')\n",
    "\n",
    "mvsa_multimodal_labels = merge_mvsa(mvsa_single_multimodal_labels, mvsa_multiple_multimodal_labels)\n",
    "mvsa_text_labels = merge_mvsa(mvsa_single_text_labels, mvsa_multiple_text_labels)\n",
    "mvsa_image_labels = merge_mvsa(mvsa_single_image_labels, mvsa_multiple_image_labels)"
   ]
  },
  {
   "cell_type": "code",
   "execution_count": 24,
   "id": "9ed6b8f9",
   "metadata": {
    "execution": {
     "iopub.execute_input": "2022-07-13T16:40:33.286381Z",
     "iopub.status.busy": "2022-07-13T16:40:33.286049Z",
     "iopub.status.idle": "2022-07-13T16:40:33.295964Z",
     "shell.execute_reply": "2022-07-13T16:40:33.294726Z"
    },
    "papermill": {
     "duration": 0.02494,
     "end_time": "2022-07-13T16:40:33.298782",
     "exception": false,
     "start_time": "2022-07-13T16:40:33.273842",
     "status": "completed"
    },
    "tags": []
   },
   "outputs": [],
   "source": [
    "le = preprocessing.LabelEncoder()\n",
    "le.fit(mvsa_multimodal_labels)\n",
    "NUM_CLASSES = len(le.classes_) # =3"
   ]
  },
  {
   "cell_type": "code",
   "execution_count": 25,
   "id": "971d26cc",
   "metadata": {
    "execution": {
     "iopub.execute_input": "2022-07-13T16:40:33.321934Z",
     "iopub.status.busy": "2022-07-13T16:40:33.321550Z",
     "iopub.status.idle": "2022-07-13T16:40:33.733983Z",
     "shell.execute_reply": "2022-07-13T16:40:33.732633Z"
    },
    "papermill": {
     "duration": 0.427916,
     "end_time": "2022-07-13T16:40:33.737331",
     "exception": false,
     "start_time": "2022-07-13T16:40:33.309415",
     "status": "completed"
    },
    "tags": []
   },
   "outputs": [],
   "source": [
    "feature_names = ['glove', 'bert-base', 'bert-pos-bow', 'bert-pos-ner-bow', 'bert-pos-tfidf', 'bert-pos-ner-tfidf']\n",
    "\n",
    "mvsa_single_features = [mvsa_single_texts,\n",
    "                        mvsa_single_bert_base, \n",
    "                        np.concatenate((mvsa_single_bert_base, mvsa_single_pos_bow), axis=1), \n",
    "                        np.concatenate((mvsa_single_bert_base, mvsa_single_pos_bow, mvsa_single_ner_bow), axis=1),\n",
    "                        np.concatenate((mvsa_single_bert_base, mvsa_single_pos_tfidf), axis=1), \n",
    "                        np.concatenate((mvsa_single_bert_base, mvsa_single_pos_tfidf, mvsa_single_ner_tfidf), axis=1)]\n",
    "\n",
    "mvsa_multiple_features = [mvsa_multiple_texts,\n",
    "                          mvsa_multiple_bert_base, \n",
    "                          np.concatenate((mvsa_multiple_bert_base, mvsa_multiple_pos_bow), axis=1), \n",
    "                          np.concatenate((mvsa_multiple_bert_base, mvsa_multiple_pos_bow, mvsa_multiple_ner_bow), axis=1),\n",
    "                          np.concatenate((mvsa_multiple_bert_base, mvsa_multiple_pos_tfidf), axis=1), \n",
    "                          np.concatenate((mvsa_multiple_bert_base, mvsa_multiple_pos_tfidf, mvsa_multiple_ner_tfidf), axis=1)]\n",
    "\n",
    "mvsa_features = [mvsa_texts,\n",
    "                 mvsa_bert_base,\n",
    "                 np.concatenate((mvsa_bert_base, mvsa_pos_bow), axis=1), \n",
    "                 np.concatenate((mvsa_bert_base, mvsa_pos_bow, mvsa_ner_bow), axis=1),\n",
    "                 np.concatenate((mvsa_bert_base, mvsa_pos_tfidf), axis=1), \n",
    "                 np.concatenate((mvsa_bert_base, mvsa_pos_tfidf, mvsa_ner_tfidf), axis=1)]"
   ]
  },
  {
   "cell_type": "markdown",
   "id": "5e48a8e4",
   "metadata": {
    "papermill": {
     "duration": 0.010464,
     "end_time": "2022-07-13T16:40:33.758971",
     "exception": false,
     "start_time": "2022-07-13T16:40:33.748507",
     "status": "completed"
    },
    "tags": []
   },
   "source": [
    "# Run models and Evalution display"
   ]
  },
  {
   "cell_type": "code",
   "execution_count": 26,
   "id": "e6d76ae8",
   "metadata": {
    "execution": {
     "iopub.execute_input": "2022-07-13T16:40:33.781998Z",
     "iopub.status.busy": "2022-07-13T16:40:33.781633Z",
     "iopub.status.idle": "2022-07-13T16:40:33.790855Z",
     "shell.execute_reply": "2022-07-13T16:40:33.789144Z"
    },
    "papermill": {
     "duration": 0.0247,
     "end_time": "2022-07-13T16:40:33.794351",
     "exception": false,
     "start_time": "2022-07-13T16:40:33.769651",
     "status": "completed"
    },
    "tags": []
   },
   "outputs": [],
   "source": [
    "reset_seeds()\n",
    "EPOCHS = 100\n",
    "BATCH_SIZE = 128\n",
    "VALIDATION_SPLIT = 0.1\n",
    "EARLY_STOPPING = 10\n",
    "NUM_LSTM = 128"
   ]
  },
  {
   "cell_type": "markdown",
   "id": "63f0fd63",
   "metadata": {
    "papermill": {
     "duration": 0.010568,
     "end_time": "2022-07-13T16:40:33.815348",
     "exception": false,
     "start_time": "2022-07-13T16:40:33.804780",
     "status": "completed"
    },
    "tags": []
   },
   "source": [
    "## With original text labels"
   ]
  },
  {
   "cell_type": "code",
   "execution_count": 27,
   "id": "6ab2cba7",
   "metadata": {
    "execution": {
     "iopub.execute_input": "2022-07-13T16:40:33.838178Z",
     "iopub.status.busy": "2022-07-13T16:40:33.837877Z",
     "iopub.status.idle": "2022-07-13T16:44:11.291425Z",
     "shell.execute_reply": "2022-07-13T16:44:11.289676Z"
    },
    "papermill": {
     "duration": 217.467867,
     "end_time": "2022-07-13T16:44:11.293971",
     "exception": false,
     "start_time": "2022-07-13T16:40:33.826104",
     "status": "completed"
    },
    "tags": []
   },
   "outputs": [
    {
     "name": "stdout",
     "output_type": "stream",
     "text": [
      "MVSA-Single: With original text labels\n",
      "\n",
      "MVSA-Single: glove\n"
     ]
    },
    {
     "name": "stderr",
     "output_type": "stream",
     "text": [
      "2022-07-13 16:40:37.930354: I tensorflow/stream_executor/cuda/cuda_dnn.cc:369] Loaded cuDNN version 8005\n"
     ]
    },
    {
     "name": "stdout",
     "output_type": "stream",
     "text": [
      "\n",
      "MVSA-Single: bert-base\n",
      "\n",
      "MVSA-Single: bert-pos-bow\n",
      "\n",
      "MVSA-Single: bert-pos-ner-bow\n",
      "\n",
      "MVSA-Single: bert-pos-tfidf\n",
      "\n",
      "MVSA-Single: bert-pos-ner-tfidf\n",
      "\n",
      "MVSA-Multiple: With original text labels\n",
      "\n",
      "MVSA-Multiple: glove\n",
      "\n",
      "MVSA-Multiple: bert-base\n",
      "\n",
      "MVSA-Multiple: bert-pos-bow\n",
      "\n",
      "MVSA-Multiple: bert-pos-ner-bow\n",
      "\n",
      "MVSA-Multiple: bert-pos-tfidf\n",
      "\n",
      "MVSA-Multiple: bert-pos-ner-tfidf\n",
      "\n"
     ]
    }
   ],
   "source": [
    "print('MVSA-Single: With original text labels\\n')\n",
    "mvsa_single_histories = []\n",
    "mvsa_single_scores = []\n",
    "for i in range(len(feature_names)):\n",
    "    print('MVSA-Single:', feature_names[i])\n",
    "    if feature_names[i] == 'glove':\n",
    "        history, score = run_and_evaluate_w2v('single-OL-' + feature_names[i], mvsa_single_features[i], mvsa_single_text_labels, verbose=0)\n",
    "    else:\n",
    "        history, score = run_and_evaluate('single-OL-' + feature_names[i], mvsa_single_features[i], mvsa_single_text_labels, verbose=0)\n",
    "    mvsa_single_histories.append(history)\n",
    "    mvsa_single_scores.append(score)\n",
    "    print()\n",
    "df_single_scores = pd.DataFrame(mvsa_single_scores, columns=['Loss', 'Accuracy', 'F1-macro', 'F1-weighted'], index=feature_names)\n",
    "\n",
    "print('MVSA-Multiple: With original text labels\\n')\n",
    "mvsa_multiple_histories = []\n",
    "mvsa_multiple_scores = []\n",
    "for i in range(len(feature_names)):\n",
    "    print('MVSA-Multiple:', feature_names[i])\n",
    "    if feature_names[i] == 'glove':\n",
    "        history, score = run_and_evaluate_w2v('multiple-OL-' + feature_names[i], mvsa_multiple_features[i], mvsa_multiple_text_labels, verbose=0)\n",
    "    else:\n",
    "        history, score = run_and_evaluate('multiple-OL-' + feature_names[i], mvsa_multiple_features[i], mvsa_multiple_text_labels, verbose=0)\n",
    "    mvsa_multiple_histories.append(history)\n",
    "    mvsa_multiple_scores.append(score)\n",
    "    print()\n",
    "df_multiple_scores = pd.DataFrame(mvsa_multiple_scores, columns=['Loss', 'Accuracy', 'F1-macro', 'F1-weighted'], index=feature_names)\n",
    "\n",
    "mvsa_average_scores = np.mean([mvsa_single_scores, mvsa_multiple_scores], axis=0)\n",
    "df_average_scores = pd.DataFrame(mvsa_average_scores, columns=['Loss', 'Accuracy', 'F1-macro', 'F1-weighted'], index=feature_names)"
   ]
  },
  {
   "cell_type": "markdown",
   "id": "94a0a222",
   "metadata": {
    "papermill": {
     "duration": 0.011282,
     "end_time": "2022-07-13T16:44:11.317128",
     "exception": false,
     "start_time": "2022-07-13T16:44:11.305846",
     "status": "completed"
    },
    "tags": []
   },
   "source": [
    "## With multimodal labels"
   ]
  },
  {
   "cell_type": "code",
   "execution_count": 28,
   "id": "fc432600",
   "metadata": {
    "execution": {
     "iopub.execute_input": "2022-07-13T16:44:11.342765Z",
     "iopub.status.busy": "2022-07-13T16:44:11.341899Z",
     "iopub.status.idle": "2022-07-13T16:47:29.042491Z",
     "shell.execute_reply": "2022-07-13T16:47:29.040696Z"
    },
    "papermill": {
     "duration": 197.717165,
     "end_time": "2022-07-13T16:47:29.046030",
     "exception": false,
     "start_time": "2022-07-13T16:44:11.328865",
     "status": "completed"
    },
    "tags": []
   },
   "outputs": [
    {
     "name": "stdout",
     "output_type": "stream",
     "text": [
      "MVSA-Single: With multimodal labels\n",
      "MVSA-Single: glove\n",
      "\n",
      "MVSA-Single: bert-base\n",
      "\n",
      "MVSA-Single: bert-pos-bow\n",
      "\n",
      "MVSA-Single: bert-pos-ner-bow\n",
      "\n",
      "MVSA-Single: bert-pos-tfidf\n",
      "\n",
      "MVSA-Single: bert-pos-ner-tfidf\n",
      "\n",
      "MVSA-Multiple: With multimodal labels\n",
      "MVSA-Multiple: glove\n",
      "\n",
      "MVSA-Multiple: bert-base\n",
      "\n",
      "MVSA-Multiple: bert-pos-bow\n",
      "\n",
      "MVSA-Multiple: bert-pos-ner-bow\n",
      "\n",
      "MVSA-Multiple: bert-pos-tfidf\n",
      "\n",
      "MVSA-Multiple: bert-pos-ner-tfidf\n",
      "\n"
     ]
    }
   ],
   "source": [
    "print('MVSA-Single: With multimodal labels')\n",
    "mvsa_single_histories2 = []\n",
    "mvsa_single_scores2 = []\n",
    "for i in range(len(feature_names)):\n",
    "    print('MVSA-Single:', feature_names[i])\n",
    "    history, score = run_and_evaluate('single-ML-' + feature_names[i], mvsa_single_features[i], mvsa_single_multimodal_labels, verbose=0)\n",
    "    mvsa_single_histories2.append(history)\n",
    "    mvsa_single_scores2.append(score)\n",
    "    print()\n",
    "df_single_scores2 = pd.DataFrame(mvsa_single_scores2, columns=['Loss', 'Accuracy', 'F1-macro', 'F1-weighted'], index=feature_names)\n",
    "\n",
    "print('MVSA-Multiple: With multimodal labels')\n",
    "mvsa_multiple_histories2 = []\n",
    "mvsa_multiple_scores2 = []\n",
    "for i in range(len(feature_names)):\n",
    "    print('MVSA-Multiple:', feature_names[i])\n",
    "    history, score = run_and_evaluate('multiple-ML-' + feature_names[i], mvsa_multiple_features[i], mvsa_multiple_multimodal_labels, verbose=0)\n",
    "    mvsa_multiple_histories2.append(history)\n",
    "    mvsa_multiple_scores2.append(score)\n",
    "    print()\n",
    "df_multiple_scores2 = pd.DataFrame(mvsa_multiple_scores2, columns=['Loss', 'Accuracy', 'F1-macro', 'F1-weighted'], index=feature_names)\n",
    "\n",
    "mvsa_average_scores2 = np.mean([mvsa_single_scores2, mvsa_multiple_scores2], axis=0)\n",
    "df_average_scores2 = pd.DataFrame(mvsa_average_scores2, columns=['Loss', 'Accuracy', 'F1-macro', 'F1-weighted'], index=feature_names)"
   ]
  },
  {
   "cell_type": "markdown",
   "id": "ad47a72a",
   "metadata": {
    "papermill": {
     "duration": 0.012687,
     "end_time": "2022-07-13T16:47:29.072075",
     "exception": false,
     "start_time": "2022-07-13T16:47:29.059388",
     "status": "completed"
    },
    "tags": []
   },
   "source": [
    "# With merge MVSA data"
   ]
  },
  {
   "cell_type": "code",
   "execution_count": 29,
   "id": "7535a2f0",
   "metadata": {
    "execution": {
     "iopub.execute_input": "2022-07-13T16:47:29.100377Z",
     "iopub.status.busy": "2022-07-13T16:47:29.098538Z",
     "iopub.status.idle": "2022-07-13T16:53:27.053167Z",
     "shell.execute_reply": "2022-07-13T16:53:27.051515Z"
    },
    "papermill": {
     "duration": 357.971157,
     "end_time": "2022-07-13T16:53:27.056062",
     "exception": false,
     "start_time": "2022-07-13T16:47:29.084905",
     "status": "completed"
    },
    "tags": []
   },
   "outputs": [
    {
     "name": "stdout",
     "output_type": "stream",
     "text": [
      "Both MVSA: With original image labels\n",
      "Both MVSA: glove\n",
      "\n",
      "Both MVSA: bert-base\n",
      "\n",
      "Both MVSA: bert-pos-bow\n",
      "\n",
      "Both MVSA: bert-pos-ner-bow\n",
      "\n",
      "Both MVSA: bert-pos-tfidf\n",
      "\n",
      "Both MVSA: bert-pos-ner-tfidf\n",
      "\n",
      "Both MVSA: With multimodal labels\n",
      "Both MVSA: glove\n",
      "\n",
      "Both MVSA: bert-base\n",
      "\n",
      "Both MVSA: bert-pos-bow\n",
      "\n",
      "Both MVSA: bert-pos-ner-bow\n",
      "\n",
      "Both MVSA: bert-pos-tfidf\n",
      "\n",
      "Both MVSA: bert-pos-ner-tfidf\n",
      "\n"
     ]
    }
   ],
   "source": [
    "print('Both MVSA: With original image labels')\n",
    "mvsa_histories3 = []\n",
    "mvsa_scores3 = []\n",
    "for i in range(len(feature_names)):\n",
    "    print('Both MVSA:', feature_names[i])\n",
    "    history, score = run_and_evaluate('merge-OL-' + feature_names[i], mvsa_features[i], mvsa_image_labels, verbose=0)\n",
    "    mvsa_histories3.append(history)\n",
    "    mvsa_scores3.append(score)\n",
    "    print()\n",
    "df_scores3 = pd.DataFrame(mvsa_scores3, columns=['Loss', 'Accuracy', 'F1-macro', 'F1-weighted'], index=feature_names)\n",
    "\n",
    "print('Both MVSA: With multimodal labels')\n",
    "mvsa_histories4 = []\n",
    "mvsa_scores4 = []\n",
    "for i in range(len(feature_names)):\n",
    "    print('Both MVSA:', feature_names[i])\n",
    "    history, score = run_and_evaluate('merge-ML-' + feature_names[i], mvsa_features[i], mvsa_multimodal_labels, verbose=0)\n",
    "    mvsa_histories4.append(history)\n",
    "    mvsa_scores4.append(score)\n",
    "    print()\n",
    "df_scores4 = pd.DataFrame(mvsa_scores4, columns=['Loss', 'Accuracy', 'F1-macro', 'F1-weighted'], index=feature_names)"
   ]
  },
  {
   "cell_type": "markdown",
   "id": "dec5eb45",
   "metadata": {
    "papermill": {
     "duration": 0.013401,
     "end_time": "2022-07-13T16:53:27.083344",
     "exception": false,
     "start_time": "2022-07-13T16:53:27.069943",
     "status": "completed"
    },
    "tags": []
   },
   "source": [
    "# Display results"
   ]
  },
  {
   "cell_type": "code",
   "execution_count": 30,
   "id": "acc7dcba",
   "metadata": {
    "execution": {
     "iopub.execute_input": "2022-07-13T16:53:27.111940Z",
     "iopub.status.busy": "2022-07-13T16:53:27.110912Z",
     "iopub.status.idle": "2022-07-13T16:53:27.249510Z",
     "shell.execute_reply": "2022-07-13T16:53:27.247952Z"
    },
    "papermill": {
     "duration": 0.156723,
     "end_time": "2022-07-13T16:53:27.253237",
     "exception": false,
     "start_time": "2022-07-13T16:53:27.096514",
     "status": "completed"
    },
    "tags": []
   },
   "outputs": [
    {
     "name": "stdout",
     "output_type": "stream",
     "text": [
      "With original image labels\n",
      "\n"
     ]
    },
    {
     "data": {
      "text/html": [
       "<table style=\"display:inline\"><tr><td style=\"text-align:center\">MVSA-Single</td><td style=\"text-align:center\">MVSA-Multiple</td><td style=\"text-align:center\">Average</td></tr><tr><td style=\"vertical-align:top\"> <style type=\"text/css\">\n",
       "#T_d0739_row0_col0, #T_d0739_row0_col1, #T_d0739_row0_col2, #T_d0739_row0_col3 {\n",
       "  color: tomato;\n",
       "}\n",
       "#T_d0739_row2_col1, #T_d0739_row2_col2, #T_d0739_row2_col3, #T_d0739_row5_col0 {\n",
       "  color: lawngreen;\n",
       "}\n",
       "</style>\n",
       "<table style=\"display:inline\" id=\"T_d0739_\">\n",
       "  <thead>\n",
       "    <tr>\n",
       "      <th class=\"blank level0\" >&nbsp;</th>\n",
       "      <th class=\"col_heading level0 col0\" >Loss</th>\n",
       "      <th class=\"col_heading level0 col1\" >Accuracy</th>\n",
       "      <th class=\"col_heading level0 col2\" >F1-macro</th>\n",
       "      <th class=\"col_heading level0 col3\" >F1-weighted</th>\n",
       "    </tr>\n",
       "  </thead>\n",
       "  <tbody>\n",
       "    <tr>\n",
       "      <th id=\"T_d0739_level0_row0\" class=\"row_heading level0 row0\" >glove</th>\n",
       "      <td id=\"T_d0739_row0_col0\" class=\"data row0 col0\" >1.102958</td>\n",
       "      <td id=\"T_d0739_row0_col1\" class=\"data row0 col1\" >0.412417</td>\n",
       "      <td id=\"T_d0739_row0_col2\" class=\"data row0 col2\" >0.194662</td>\n",
       "      <td id=\"T_d0739_row0_col3\" class=\"data row0 col3\" >0.240846</td>\n",
       "    </tr>\n",
       "    <tr>\n",
       "      <th id=\"T_d0739_level0_row1\" class=\"row_heading level0 row1\" >bert-base</th>\n",
       "      <td id=\"T_d0739_row1_col0\" class=\"data row1 col0\" >0.835602</td>\n",
       "      <td id=\"T_d0739_row1_col1\" class=\"data row1 col1\" >0.627494</td>\n",
       "      <td id=\"T_d0739_row1_col2\" class=\"data row1 col2\" >0.594897</td>\n",
       "      <td id=\"T_d0739_row1_col3\" class=\"data row1 col3\" >0.628702</td>\n",
       "    </tr>\n",
       "    <tr>\n",
       "      <th id=\"T_d0739_level0_row2\" class=\"row_heading level0 row2\" >bert-pos-bow</th>\n",
       "      <td id=\"T_d0739_row2_col0\" class=\"data row2 col0\" >0.747026</td>\n",
       "      <td id=\"T_d0739_row2_col1\" class=\"data row2 col1\" >0.676275</td>\n",
       "      <td id=\"T_d0739_row2_col2\" class=\"data row2 col2\" >0.671554</td>\n",
       "      <td id=\"T_d0739_row2_col3\" class=\"data row2 col3\" >0.678988</td>\n",
       "    </tr>\n",
       "    <tr>\n",
       "      <th id=\"T_d0739_level0_row3\" class=\"row_heading level0 row3\" >bert-pos-ner-bow</th>\n",
       "      <td id=\"T_d0739_row3_col0\" class=\"data row3 col0\" >0.783648</td>\n",
       "      <td id=\"T_d0739_row3_col1\" class=\"data row3 col1\" >0.658537</td>\n",
       "      <td id=\"T_d0739_row3_col2\" class=\"data row3 col2\" >0.642258</td>\n",
       "      <td id=\"T_d0739_row3_col3\" class=\"data row3 col3\" >0.658765</td>\n",
       "    </tr>\n",
       "    <tr>\n",
       "      <th id=\"T_d0739_level0_row4\" class=\"row_heading level0 row4\" >bert-pos-tfidf</th>\n",
       "      <td id=\"T_d0739_row4_col0\" class=\"data row4 col0\" >0.782202</td>\n",
       "      <td id=\"T_d0739_row4_col1\" class=\"data row4 col1\" >0.656319</td>\n",
       "      <td id=\"T_d0739_row4_col2\" class=\"data row4 col2\" >0.637707</td>\n",
       "      <td id=\"T_d0739_row4_col3\" class=\"data row4 col3\" >0.657415</td>\n",
       "    </tr>\n",
       "    <tr>\n",
       "      <th id=\"T_d0739_level0_row5\" class=\"row_heading level0 row5\" >bert-pos-ner-tfidf</th>\n",
       "      <td id=\"T_d0739_row5_col0\" class=\"data row5 col0\" >0.735541</td>\n",
       "      <td id=\"T_d0739_row5_col1\" class=\"data row5 col1\" >0.671840</td>\n",
       "      <td id=\"T_d0739_row5_col2\" class=\"data row5 col2\" >0.667614</td>\n",
       "      <td id=\"T_d0739_row5_col3\" class=\"data row5 col3\" >0.674259</td>\n",
       "    </tr>\n",
       "  </tbody>\n",
       "</table style=\"display:inline\">\n",
       "</td><td style=\"vertical-align:top\"> <style type=\"text/css\">\n",
       "#T_bb5c4_row0_col0, #T_bb5c4_row0_col1, #T_bb5c4_row0_col2, #T_bb5c4_row0_col3 {\n",
       "  color: tomato;\n",
       "}\n",
       "#T_bb5c4_row1_col2, #T_bb5c4_row1_col3, #T_bb5c4_row3_col0, #T_bb5c4_row3_col1 {\n",
       "  color: lawngreen;\n",
       "}\n",
       "</style>\n",
       "<table style=\"display:inline\" id=\"T_bb5c4_\">\n",
       "  <thead>\n",
       "    <tr>\n",
       "      <th class=\"blank level0\" >&nbsp;</th>\n",
       "      <th class=\"col_heading level0 col0\" >Loss</th>\n",
       "      <th class=\"col_heading level0 col1\" >Accuracy</th>\n",
       "      <th class=\"col_heading level0 col2\" >F1-macro</th>\n",
       "      <th class=\"col_heading level0 col3\" >F1-weighted</th>\n",
       "    </tr>\n",
       "  </thead>\n",
       "  <tbody>\n",
       "    <tr>\n",
       "      <th id=\"T_bb5c4_level0_row0\" class=\"row_heading level0 row0\" >glove</th>\n",
       "      <td id=\"T_bb5c4_row0_col0\" class=\"data row0 col0\" >1.104450</td>\n",
       "      <td id=\"T_bb5c4_row0_col1\" class=\"data row0 col1\" >0.541716</td>\n",
       "      <td id=\"T_bb5c4_row0_col2\" class=\"data row0 col2\" >0.234248</td>\n",
       "      <td id=\"T_bb5c4_row0_col3\" class=\"data row0 col3\" >0.380687</td>\n",
       "    </tr>\n",
       "    <tr>\n",
       "      <th id=\"T_bb5c4_level0_row1\" class=\"row_heading level0 row1\" >bert-base</th>\n",
       "      <td id=\"T_bb5c4_row1_col0\" class=\"data row1 col0\" >0.784215</td>\n",
       "      <td id=\"T_bb5c4_row1_col1\" class=\"data row1 col1\" >0.610458</td>\n",
       "      <td id=\"T_bb5c4_row1_col2\" class=\"data row1 col2\" >0.523123</td>\n",
       "      <td id=\"T_bb5c4_row1_col3\" class=\"data row1 col3\" >0.619853</td>\n",
       "    </tr>\n",
       "    <tr>\n",
       "      <th id=\"T_bb5c4_level0_row2\" class=\"row_heading level0 row2\" >bert-pos-bow</th>\n",
       "      <td id=\"T_bb5c4_row2_col0\" class=\"data row2 col0\" >0.803859</td>\n",
       "      <td id=\"T_bb5c4_row2_col1\" class=\"data row2 col1\" >0.610458</td>\n",
       "      <td id=\"T_bb5c4_row2_col2\" class=\"data row2 col2\" >0.491834</td>\n",
       "      <td id=\"T_bb5c4_row2_col3\" class=\"data row2 col3\" >0.599558</td>\n",
       "    </tr>\n",
       "    <tr>\n",
       "      <th id=\"T_bb5c4_level0_row3\" class=\"row_heading level0 row3\" >bert-pos-ner-bow</th>\n",
       "      <td id=\"T_bb5c4_row3_col0\" class=\"data row3 col0\" >0.763897</td>\n",
       "      <td id=\"T_bb5c4_row3_col1\" class=\"data row3 col1\" >0.615159</td>\n",
       "      <td id=\"T_bb5c4_row3_col2\" class=\"data row3 col2\" >0.500959</td>\n",
       "      <td id=\"T_bb5c4_row3_col3\" class=\"data row3 col3\" >0.609071</td>\n",
       "    </tr>\n",
       "    <tr>\n",
       "      <th id=\"T_bb5c4_level0_row4\" class=\"row_heading level0 row4\" >bert-pos-tfidf</th>\n",
       "      <td id=\"T_bb5c4_row4_col0\" class=\"data row4 col0\" >0.787259</td>\n",
       "      <td id=\"T_bb5c4_row4_col1\" class=\"data row4 col1\" >0.594007</td>\n",
       "      <td id=\"T_bb5c4_row4_col2\" class=\"data row4 col2\" >0.495649</td>\n",
       "      <td id=\"T_bb5c4_row4_col3\" class=\"data row4 col3\" >0.585201</td>\n",
       "    </tr>\n",
       "    <tr>\n",
       "      <th id=\"T_bb5c4_level0_row5\" class=\"row_heading level0 row5\" >bert-pos-ner-tfidf</th>\n",
       "      <td id=\"T_bb5c4_row5_col0\" class=\"data row5 col0\" >0.784440</td>\n",
       "      <td id=\"T_bb5c4_row5_col1\" class=\"data row5 col1\" >0.613396</td>\n",
       "      <td id=\"T_bb5c4_row5_col2\" class=\"data row5 col2\" >0.520647</td>\n",
       "      <td id=\"T_bb5c4_row5_col3\" class=\"data row5 col3\" >0.611209</td>\n",
       "    </tr>\n",
       "  </tbody>\n",
       "</table style=\"display:inline\">\n",
       "</td><td style=\"vertical-align:top\"> <style type=\"text/css\">\n",
       "#T_47712_row0_col0, #T_47712_row0_col1, #T_47712_row0_col2, #T_47712_row0_col3 {\n",
       "  color: tomato;\n",
       "}\n",
       "#T_47712_row2_col1, #T_47712_row5_col0, #T_47712_row5_col2, #T_47712_row5_col3 {\n",
       "  color: lawngreen;\n",
       "}\n",
       "</style>\n",
       "<table style=\"display:inline\" id=\"T_47712_\">\n",
       "  <thead>\n",
       "    <tr>\n",
       "      <th class=\"blank level0\" >&nbsp;</th>\n",
       "      <th class=\"col_heading level0 col0\" >Loss</th>\n",
       "      <th class=\"col_heading level0 col1\" >Accuracy</th>\n",
       "      <th class=\"col_heading level0 col2\" >F1-macro</th>\n",
       "      <th class=\"col_heading level0 col3\" >F1-weighted</th>\n",
       "    </tr>\n",
       "  </thead>\n",
       "  <tbody>\n",
       "    <tr>\n",
       "      <th id=\"T_47712_level0_row0\" class=\"row_heading level0 row0\" >glove</th>\n",
       "      <td id=\"T_47712_row0_col0\" class=\"data row0 col0\" >1.103704</td>\n",
       "      <td id=\"T_47712_row0_col1\" class=\"data row0 col1\" >0.477066</td>\n",
       "      <td id=\"T_47712_row0_col2\" class=\"data row0 col2\" >0.214455</td>\n",
       "      <td id=\"T_47712_row0_col3\" class=\"data row0 col3\" >0.310767</td>\n",
       "    </tr>\n",
       "    <tr>\n",
       "      <th id=\"T_47712_level0_row1\" class=\"row_heading level0 row1\" >bert-base</th>\n",
       "      <td id=\"T_47712_row1_col0\" class=\"data row1 col0\" >0.809909</td>\n",
       "      <td id=\"T_47712_row1_col1\" class=\"data row1 col1\" >0.618976</td>\n",
       "      <td id=\"T_47712_row1_col2\" class=\"data row1 col2\" >0.559010</td>\n",
       "      <td id=\"T_47712_row1_col3\" class=\"data row1 col3\" >0.624278</td>\n",
       "    </tr>\n",
       "    <tr>\n",
       "      <th id=\"T_47712_level0_row2\" class=\"row_heading level0 row2\" >bert-pos-bow</th>\n",
       "      <td id=\"T_47712_row2_col0\" class=\"data row2 col0\" >0.775442</td>\n",
       "      <td id=\"T_47712_row2_col1\" class=\"data row2 col1\" >0.643367</td>\n",
       "      <td id=\"T_47712_row2_col2\" class=\"data row2 col2\" >0.581694</td>\n",
       "      <td id=\"T_47712_row2_col3\" class=\"data row2 col3\" >0.639273</td>\n",
       "    </tr>\n",
       "    <tr>\n",
       "      <th id=\"T_47712_level0_row3\" class=\"row_heading level0 row3\" >bert-pos-ner-bow</th>\n",
       "      <td id=\"T_47712_row3_col0\" class=\"data row3 col0\" >0.773772</td>\n",
       "      <td id=\"T_47712_row3_col1\" class=\"data row3 col1\" >0.636848</td>\n",
       "      <td id=\"T_47712_row3_col2\" class=\"data row3 col2\" >0.571608</td>\n",
       "      <td id=\"T_47712_row3_col3\" class=\"data row3 col3\" >0.633918</td>\n",
       "    </tr>\n",
       "    <tr>\n",
       "      <th id=\"T_47712_level0_row4\" class=\"row_heading level0 row4\" >bert-pos-tfidf</th>\n",
       "      <td id=\"T_47712_row4_col0\" class=\"data row4 col0\" >0.784730</td>\n",
       "      <td id=\"T_47712_row4_col1\" class=\"data row4 col1\" >0.625163</td>\n",
       "      <td id=\"T_47712_row4_col2\" class=\"data row4 col2\" >0.566678</td>\n",
       "      <td id=\"T_47712_row4_col3\" class=\"data row4 col3\" >0.621308</td>\n",
       "    </tr>\n",
       "    <tr>\n",
       "      <th id=\"T_47712_level0_row5\" class=\"row_heading level0 row5\" >bert-pos-ner-tfidf</th>\n",
       "      <td id=\"T_47712_row5_col0\" class=\"data row5 col0\" >0.759991</td>\n",
       "      <td id=\"T_47712_row5_col1\" class=\"data row5 col1\" >0.642618</td>\n",
       "      <td id=\"T_47712_row5_col2\" class=\"data row5 col2\" >0.594131</td>\n",
       "      <td id=\"T_47712_row5_col3\" class=\"data row5 col3\" >0.642734</td>\n",
       "    </tr>\n",
       "  </tbody>\n",
       "</table style=\"display:inline\">\n",
       "</td></tr></table style=\"display:inline\">"
      ]
     },
     "metadata": {},
     "output_type": "display_data"
    }
   ],
   "source": [
    "print('With original image labels\\n')\n",
    "display_dataframes((style_dataframe(df_single_scores), style_dataframe(df_multiple_scores), style_dataframe(df_average_scores)), \n",
    "                   names=['MVSA-Single', 'MVSA-Multiple', 'Average'])"
   ]
  },
  {
   "cell_type": "code",
   "execution_count": 31,
   "id": "b36e1de1",
   "metadata": {
    "execution": {
     "iopub.execute_input": "2022-07-13T16:53:27.282980Z",
     "iopub.status.busy": "2022-07-13T16:53:27.282663Z",
     "iopub.status.idle": "2022-07-13T16:53:27.344951Z",
     "shell.execute_reply": "2022-07-13T16:53:27.343436Z"
    },
    "papermill": {
     "duration": 0.08047,
     "end_time": "2022-07-13T16:53:27.348035",
     "exception": false,
     "start_time": "2022-07-13T16:53:27.267565",
     "status": "completed"
    },
    "tags": []
   },
   "outputs": [
    {
     "name": "stdout",
     "output_type": "stream",
     "text": [
      "With multimodal labels\n",
      "\n"
     ]
    },
    {
     "data": {
      "text/html": [
       "<table style=\"display:inline\"><tr><td style=\"text-align:center\">MVSA-Single</td><td style=\"text-align:center\">MVSA-Multiple</td><td style=\"text-align:center\">Average</td></tr><tr><td style=\"vertical-align:top\"> <style type=\"text/css\">\n",
       "#T_ce6ec_row0_col0, #T_ce6ec_row0_col1, #T_ce6ec_row0_col2, #T_ce6ec_row0_col3 {\n",
       "  color: tomato;\n",
       "}\n",
       "#T_ce6ec_row2_col0, #T_ce6ec_row2_col2, #T_ce6ec_row3_col1, #T_ce6ec_row3_col3 {\n",
       "  color: lawngreen;\n",
       "}\n",
       "</style>\n",
       "<table style=\"display:inline\" id=\"T_ce6ec_\">\n",
       "  <thead>\n",
       "    <tr>\n",
       "      <th class=\"blank level0\" >&nbsp;</th>\n",
       "      <th class=\"col_heading level0 col0\" >Loss</th>\n",
       "      <th class=\"col_heading level0 col1\" >Accuracy</th>\n",
       "      <th class=\"col_heading level0 col2\" >F1-macro</th>\n",
       "      <th class=\"col_heading level0 col3\" >F1-weighted</th>\n",
       "    </tr>\n",
       "  </thead>\n",
       "  <tbody>\n",
       "    <tr>\n",
       "      <th id=\"T_ce6ec_level0_row0\" class=\"row_heading level0 row0\" >glove</th>\n",
       "      <td id=\"T_ce6ec_row0_col0\" class=\"data row0 col0\" >1.053686</td>\n",
       "      <td id=\"T_ce6ec_row0_col1\" class=\"data row0 col1\" >0.505543</td>\n",
       "      <td id=\"T_ce6ec_row0_col2\" class=\"data row0 col2\" >0.306284</td>\n",
       "      <td id=\"T_ce6ec_row0_col3\" class=\"data row0 col3\" >0.470623</td>\n",
       "    </tr>\n",
       "    <tr>\n",
       "      <th id=\"T_ce6ec_level0_row1\" class=\"row_heading level0 row1\" >bert-base</th>\n",
       "      <td id=\"T_ce6ec_row1_col0\" class=\"data row1 col0\" >0.871348</td>\n",
       "      <td id=\"T_ce6ec_row1_col1\" class=\"data row1 col1\" >0.616408</td>\n",
       "      <td id=\"T_ce6ec_row1_col2\" class=\"data row1 col2\" >0.534475</td>\n",
       "      <td id=\"T_ce6ec_row1_col3\" class=\"data row1 col3\" >0.626946</td>\n",
       "    </tr>\n",
       "    <tr>\n",
       "      <th id=\"T_ce6ec_level0_row2\" class=\"row_heading level0 row2\" >bert-pos-bow</th>\n",
       "      <td id=\"T_ce6ec_row2_col0\" class=\"data row2 col0\" >0.803329</td>\n",
       "      <td id=\"T_ce6ec_row2_col1\" class=\"data row2 col1\" >0.649667</td>\n",
       "      <td id=\"T_ce6ec_row2_col2\" class=\"data row2 col2\" >0.551558</td>\n",
       "      <td id=\"T_ce6ec_row2_col3\" class=\"data row2 col3\" >0.643156</td>\n",
       "    </tr>\n",
       "    <tr>\n",
       "      <th id=\"T_ce6ec_level0_row3\" class=\"row_heading level0 row3\" >bert-pos-ner-bow</th>\n",
       "      <td id=\"T_ce6ec_row3_col0\" class=\"data row3 col0\" >0.836867</td>\n",
       "      <td id=\"T_ce6ec_row3_col1\" class=\"data row3 col1\" >0.669623</td>\n",
       "      <td id=\"T_ce6ec_row3_col2\" class=\"data row3 col2\" >0.543782</td>\n",
       "      <td id=\"T_ce6ec_row3_col3\" class=\"data row3 col3\" >0.665558</td>\n",
       "    </tr>\n",
       "    <tr>\n",
       "      <th id=\"T_ce6ec_level0_row4\" class=\"row_heading level0 row4\" >bert-pos-tfidf</th>\n",
       "      <td id=\"T_ce6ec_row4_col0\" class=\"data row4 col0\" >0.840437</td>\n",
       "      <td id=\"T_ce6ec_row4_col1\" class=\"data row4 col1\" >0.629712</td>\n",
       "      <td id=\"T_ce6ec_row4_col2\" class=\"data row4 col2\" >0.532784</td>\n",
       "      <td id=\"T_ce6ec_row4_col3\" class=\"data row4 col3\" >0.640031</td>\n",
       "    </tr>\n",
       "    <tr>\n",
       "      <th id=\"T_ce6ec_level0_row5\" class=\"row_heading level0 row5\" >bert-pos-ner-tfidf</th>\n",
       "      <td id=\"T_ce6ec_row5_col0\" class=\"data row5 col0\" >0.853191</td>\n",
       "      <td id=\"T_ce6ec_row5_col1\" class=\"data row5 col1\" >0.658537</td>\n",
       "      <td id=\"T_ce6ec_row5_col2\" class=\"data row5 col2\" >0.551479</td>\n",
       "      <td id=\"T_ce6ec_row5_col3\" class=\"data row5 col3\" >0.659759</td>\n",
       "    </tr>\n",
       "  </tbody>\n",
       "</table style=\"display:inline\">\n",
       "</td><td style=\"vertical-align:top\"> <style type=\"text/css\">\n",
       "#T_05ff9_row0_col0, #T_05ff9_row0_col1, #T_05ff9_row0_col2, #T_05ff9_row0_col3 {\n",
       "  color: tomato;\n",
       "}\n",
       "#T_05ff9_row1_col0, #T_05ff9_row1_col1, #T_05ff9_row1_col2, #T_05ff9_row1_col3 {\n",
       "  color: lawngreen;\n",
       "}\n",
       "</style>\n",
       "<table style=\"display:inline\" id=\"T_05ff9_\">\n",
       "  <thead>\n",
       "    <tr>\n",
       "      <th class=\"blank level0\" >&nbsp;</th>\n",
       "      <th class=\"col_heading level0 col0\" >Loss</th>\n",
       "      <th class=\"col_heading level0 col1\" >Accuracy</th>\n",
       "      <th class=\"col_heading level0 col2\" >F1-macro</th>\n",
       "      <th class=\"col_heading level0 col3\" >F1-weighted</th>\n",
       "    </tr>\n",
       "  </thead>\n",
       "  <tbody>\n",
       "    <tr>\n",
       "      <th id=\"T_05ff9_level0_row0\" class=\"row_heading level0 row0\" >glove</th>\n",
       "      <td id=\"T_05ff9_row0_col0\" class=\"data row0 col0\" >1.078289</td>\n",
       "      <td id=\"T_05ff9_row0_col1\" class=\"data row0 col1\" >0.472973</td>\n",
       "      <td id=\"T_05ff9_row0_col2\" class=\"data row0 col2\" >0.287866</td>\n",
       "      <td id=\"T_05ff9_row0_col3\" class=\"data row0 col3\" >0.481187</td>\n",
       "    </tr>\n",
       "    <tr>\n",
       "      <th id=\"T_05ff9_level0_row1\" class=\"row_heading level0 row1\" >bert-base</th>\n",
       "      <td id=\"T_05ff9_row1_col0\" class=\"data row1 col0\" >0.769518</td>\n",
       "      <td id=\"T_05ff9_row1_col1\" class=\"data row1 col1\" >0.676263</td>\n",
       "      <td id=\"T_05ff9_row1_col2\" class=\"data row1 col2\" >0.491215</td>\n",
       "      <td id=\"T_05ff9_row1_col3\" class=\"data row1 col3\" >0.652728</td>\n",
       "    </tr>\n",
       "    <tr>\n",
       "      <th id=\"T_05ff9_level0_row2\" class=\"row_heading level0 row2\" >bert-pos-bow</th>\n",
       "      <td id=\"T_05ff9_row2_col0\" class=\"data row2 col0\" >0.795533</td>\n",
       "      <td id=\"T_05ff9_row2_col1\" class=\"data row2 col1\" >0.654524</td>\n",
       "      <td id=\"T_05ff9_row2_col2\" class=\"data row2 col2\" >0.462420</td>\n",
       "      <td id=\"T_05ff9_row2_col3\" class=\"data row2 col3\" >0.610797</td>\n",
       "    </tr>\n",
       "    <tr>\n",
       "      <th id=\"T_05ff9_level0_row3\" class=\"row_heading level0 row3\" >bert-pos-ner-bow</th>\n",
       "      <td id=\"T_05ff9_row3_col0\" class=\"data row3 col0\" >0.779944</td>\n",
       "      <td id=\"T_05ff9_row3_col1\" class=\"data row3 col1\" >0.641598</td>\n",
       "      <td id=\"T_05ff9_row3_col2\" class=\"data row3 col2\" >0.436668</td>\n",
       "      <td id=\"T_05ff9_row3_col3\" class=\"data row3 col3\" >0.589741</td>\n",
       "    </tr>\n",
       "    <tr>\n",
       "      <th id=\"T_05ff9_level0_row4\" class=\"row_heading level0 row4\" >bert-pos-tfidf</th>\n",
       "      <td id=\"T_05ff9_row4_col0\" class=\"data row4 col0\" >0.778174</td>\n",
       "      <td id=\"T_05ff9_row4_col1\" class=\"data row4 col1\" >0.663925</td>\n",
       "      <td id=\"T_05ff9_row4_col2\" class=\"data row4 col2\" >0.456385</td>\n",
       "      <td id=\"T_05ff9_row4_col3\" class=\"data row4 col3\" >0.599957</td>\n",
       "    </tr>\n",
       "    <tr>\n",
       "      <th id=\"T_05ff9_level0_row5\" class=\"row_heading level0 row5\" >bert-pos-ner-tfidf</th>\n",
       "      <td id=\"T_05ff9_row5_col0\" class=\"data row5 col0\" >0.777769</td>\n",
       "      <td id=\"T_05ff9_row5_col1\" class=\"data row5 col1\" >0.662750</td>\n",
       "      <td id=\"T_05ff9_row5_col2\" class=\"data row5 col2\" >0.455808</td>\n",
       "      <td id=\"T_05ff9_row5_col3\" class=\"data row5 col3\" >0.611171</td>\n",
       "    </tr>\n",
       "  </tbody>\n",
       "</table style=\"display:inline\">\n",
       "</td><td style=\"vertical-align:top\"> <style type=\"text/css\">\n",
       "#T_18b62_row0_col0, #T_18b62_row0_col1, #T_18b62_row0_col2, #T_18b62_row0_col3 {\n",
       "  color: tomato;\n",
       "}\n",
       "#T_18b62_row1_col2, #T_18b62_row1_col3, #T_18b62_row2_col0, #T_18b62_row5_col1 {\n",
       "  color: lawngreen;\n",
       "}\n",
       "</style>\n",
       "<table style=\"display:inline\" id=\"T_18b62_\">\n",
       "  <thead>\n",
       "    <tr>\n",
       "      <th class=\"blank level0\" >&nbsp;</th>\n",
       "      <th class=\"col_heading level0 col0\" >Loss</th>\n",
       "      <th class=\"col_heading level0 col1\" >Accuracy</th>\n",
       "      <th class=\"col_heading level0 col2\" >F1-macro</th>\n",
       "      <th class=\"col_heading level0 col3\" >F1-weighted</th>\n",
       "    </tr>\n",
       "  </thead>\n",
       "  <tbody>\n",
       "    <tr>\n",
       "      <th id=\"T_18b62_level0_row0\" class=\"row_heading level0 row0\" >glove</th>\n",
       "      <td id=\"T_18b62_row0_col0\" class=\"data row0 col0\" >1.065988</td>\n",
       "      <td id=\"T_18b62_row0_col1\" class=\"data row0 col1\" >0.489258</td>\n",
       "      <td id=\"T_18b62_row0_col2\" class=\"data row0 col2\" >0.297075</td>\n",
       "      <td id=\"T_18b62_row0_col3\" class=\"data row0 col3\" >0.475905</td>\n",
       "    </tr>\n",
       "    <tr>\n",
       "      <th id=\"T_18b62_level0_row1\" class=\"row_heading level0 row1\" >bert-base</th>\n",
       "      <td id=\"T_18b62_row1_col0\" class=\"data row1 col0\" >0.820433</td>\n",
       "      <td id=\"T_18b62_row1_col1\" class=\"data row1 col1\" >0.646336</td>\n",
       "      <td id=\"T_18b62_row1_col2\" class=\"data row1 col2\" >0.512845</td>\n",
       "      <td id=\"T_18b62_row1_col3\" class=\"data row1 col3\" >0.639837</td>\n",
       "    </tr>\n",
       "    <tr>\n",
       "      <th id=\"T_18b62_level0_row2\" class=\"row_heading level0 row2\" >bert-pos-bow</th>\n",
       "      <td id=\"T_18b62_row2_col0\" class=\"data row2 col0\" >0.799431</td>\n",
       "      <td id=\"T_18b62_row2_col1\" class=\"data row2 col1\" >0.652096</td>\n",
       "      <td id=\"T_18b62_row2_col2\" class=\"data row2 col2\" >0.506989</td>\n",
       "      <td id=\"T_18b62_row2_col3\" class=\"data row2 col3\" >0.626976</td>\n",
       "    </tr>\n",
       "    <tr>\n",
       "      <th id=\"T_18b62_level0_row3\" class=\"row_heading level0 row3\" >bert-pos-ner-bow</th>\n",
       "      <td id=\"T_18b62_row3_col0\" class=\"data row3 col0\" >0.808405</td>\n",
       "      <td id=\"T_18b62_row3_col1\" class=\"data row3 col1\" >0.655611</td>\n",
       "      <td id=\"T_18b62_row3_col2\" class=\"data row3 col2\" >0.490225</td>\n",
       "      <td id=\"T_18b62_row3_col3\" class=\"data row3 col3\" >0.627650</td>\n",
       "    </tr>\n",
       "    <tr>\n",
       "      <th id=\"T_18b62_level0_row4\" class=\"row_heading level0 row4\" >bert-pos-tfidf</th>\n",
       "      <td id=\"T_18b62_row4_col0\" class=\"data row4 col0\" >0.809306</td>\n",
       "      <td id=\"T_18b62_row4_col1\" class=\"data row4 col1\" >0.646818</td>\n",
       "      <td id=\"T_18b62_row4_col2\" class=\"data row4 col2\" >0.494585</td>\n",
       "      <td id=\"T_18b62_row4_col3\" class=\"data row4 col3\" >0.619994</td>\n",
       "    </tr>\n",
       "    <tr>\n",
       "      <th id=\"T_18b62_level0_row5\" class=\"row_heading level0 row5\" >bert-pos-ner-tfidf</th>\n",
       "      <td id=\"T_18b62_row5_col0\" class=\"data row5 col0\" >0.815480</td>\n",
       "      <td id=\"T_18b62_row5_col1\" class=\"data row5 col1\" >0.660643</td>\n",
       "      <td id=\"T_18b62_row5_col2\" class=\"data row5 col2\" >0.503643</td>\n",
       "      <td id=\"T_18b62_row5_col3\" class=\"data row5 col3\" >0.635465</td>\n",
       "    </tr>\n",
       "  </tbody>\n",
       "</table style=\"display:inline\">\n",
       "</td></tr></table style=\"display:inline\">"
      ]
     },
     "metadata": {},
     "output_type": "display_data"
    }
   ],
   "source": [
    "print('With multimodal labels\\n')\n",
    "display_dataframes((style_dataframe(df_single_scores2), style_dataframe(df_multiple_scores2), style_dataframe(df_average_scores2)), \n",
    "                   names=['MVSA-Single', 'MVSA-Multiple', 'Average'])"
   ]
  },
  {
   "cell_type": "code",
   "execution_count": 32,
   "id": "3baae704",
   "metadata": {
    "execution": {
     "iopub.execute_input": "2022-07-13T16:53:27.378912Z",
     "iopub.status.busy": "2022-07-13T16:53:27.378561Z",
     "iopub.status.idle": "2022-07-13T16:53:27.437863Z",
     "shell.execute_reply": "2022-07-13T16:53:27.435877Z"
    },
    "papermill": {
     "duration": 0.08031,
     "end_time": "2022-07-13T16:53:27.442845",
     "exception": false,
     "start_time": "2022-07-13T16:53:27.362535",
     "status": "completed"
    },
    "tags": []
   },
   "outputs": [
    {
     "name": "stdout",
     "output_type": "stream",
     "text": [
      "With both MVSA merged together\n",
      "\n"
     ]
    },
    {
     "data": {
      "text/html": [
       "<table style=\"display:inline\"><tr><td style=\"text-align:center\">Original image labels</td><td style=\"text-align:center\">Multimodal labels</td></tr><tr><td style=\"vertical-align:top\"> <style type=\"text/css\">\n",
       "#T_21fa6_row0_col0, #T_21fa6_row0_col1, #T_21fa6_row0_col2, #T_21fa6_row0_col3 {\n",
       "  color: tomato;\n",
       "}\n",
       "#T_21fa6_row1_col2, #T_21fa6_row1_col3, #T_21fa6_row3_col0, #T_21fa6_row4_col1 {\n",
       "  color: lawngreen;\n",
       "}\n",
       "</style>\n",
       "<table style=\"display:inline\" id=\"T_21fa6_\">\n",
       "  <thead>\n",
       "    <tr>\n",
       "      <th class=\"blank level0\" >&nbsp;</th>\n",
       "      <th class=\"col_heading level0 col0\" >Loss</th>\n",
       "      <th class=\"col_heading level0 col1\" >Accuracy</th>\n",
       "      <th class=\"col_heading level0 col2\" >F1-macro</th>\n",
       "      <th class=\"col_heading level0 col3\" >F1-weighted</th>\n",
       "    </tr>\n",
       "  </thead>\n",
       "  <tbody>\n",
       "    <tr>\n",
       "      <th id=\"T_21fa6_level0_row0\" class=\"row_heading level0 row0\" >glove</th>\n",
       "      <td id=\"T_21fa6_row0_col0\" class=\"data row0 col0\" >1.050750</td>\n",
       "      <td id=\"T_21fa6_row0_col1\" class=\"data row0 col1\" >0.460752</td>\n",
       "      <td id=\"T_21fa6_row0_col2\" class=\"data row0 col2\" >0.324110</td>\n",
       "      <td id=\"T_21fa6_row0_col3\" class=\"data row0 col3\" >0.431980</td>\n",
       "    </tr>\n",
       "    <tr>\n",
       "      <th id=\"T_21fa6_level0_row1\" class=\"row_heading level0 row1\" >bert-base</th>\n",
       "      <td id=\"T_21fa6_row1_col0\" class=\"data row1 col0\" >0.857133</td>\n",
       "      <td id=\"T_21fa6_row1_col1\" class=\"data row1 col1\" >0.584765</td>\n",
       "      <td id=\"T_21fa6_row1_col2\" class=\"data row1 col2\" >0.511330</td>\n",
       "      <td id=\"T_21fa6_row1_col3\" class=\"data row1 col3\" >0.574054</td>\n",
       "    </tr>\n",
       "    <tr>\n",
       "      <th id=\"T_21fa6_level0_row2\" class=\"row_heading level0 row2\" >bert-pos-bow</th>\n",
       "      <td id=\"T_21fa6_row2_col0\" class=\"data row2 col0\" >0.846004</td>\n",
       "      <td id=\"T_21fa6_row2_col1\" class=\"data row2 col1\" >0.591732</td>\n",
       "      <td id=\"T_21fa6_row2_col2\" class=\"data row2 col2\" >0.501590</td>\n",
       "      <td id=\"T_21fa6_row2_col3\" class=\"data row2 col3\" >0.565699</td>\n",
       "    </tr>\n",
       "    <tr>\n",
       "      <th id=\"T_21fa6_level0_row3\" class=\"row_heading level0 row3\" >bert-pos-ner-bow</th>\n",
       "      <td id=\"T_21fa6_row3_col0\" class=\"data row3 col0\" >0.837555</td>\n",
       "      <td id=\"T_21fa6_row3_col1\" class=\"data row3 col1\" >0.597771</td>\n",
       "      <td id=\"T_21fa6_row3_col2\" class=\"data row3 col2\" >0.492326</td>\n",
       "      <td id=\"T_21fa6_row3_col3\" class=\"data row3 col3\" >0.562544</td>\n",
       "    </tr>\n",
       "    <tr>\n",
       "      <th id=\"T_21fa6_level0_row4\" class=\"row_heading level0 row4\" >bert-pos-tfidf</th>\n",
       "      <td id=\"T_21fa6_row4_col0\" class=\"data row4 col0\" >0.877176</td>\n",
       "      <td id=\"T_21fa6_row4_col1\" class=\"data row4 col1\" >0.604738</td>\n",
       "      <td id=\"T_21fa6_row4_col2\" class=\"data row4 col2\" >0.492063</td>\n",
       "      <td id=\"T_21fa6_row4_col3\" class=\"data row4 col3\" >0.550033</td>\n",
       "    </tr>\n",
       "    <tr>\n",
       "      <th id=\"T_21fa6_level0_row5\" class=\"row_heading level0 row5\" >bert-pos-ner-tfidf</th>\n",
       "      <td id=\"T_21fa6_row5_col0\" class=\"data row5 col0\" >0.884405</td>\n",
       "      <td id=\"T_21fa6_row5_col1\" class=\"data row5 col1\" >0.575476</td>\n",
       "      <td id=\"T_21fa6_row5_col2\" class=\"data row5 col2\" >0.504009</td>\n",
       "      <td id=\"T_21fa6_row5_col3\" class=\"data row5 col3\" >0.561503</td>\n",
       "    </tr>\n",
       "  </tbody>\n",
       "</table style=\"display:inline\">\n",
       "</td><td style=\"vertical-align:top\"> <style type=\"text/css\">\n",
       "#T_08ec1_row0_col0, #T_08ec1_row0_col1, #T_08ec1_row0_col2, #T_08ec1_row0_col3 {\n",
       "  color: tomato;\n",
       "}\n",
       "#T_08ec1_row1_col1, #T_08ec1_row1_col2, #T_08ec1_row1_col3, #T_08ec1_row4_col0 {\n",
       "  color: lawngreen;\n",
       "}\n",
       "</style>\n",
       "<table style=\"display:inline\" id=\"T_08ec1_\">\n",
       "  <thead>\n",
       "    <tr>\n",
       "      <th class=\"blank level0\" >&nbsp;</th>\n",
       "      <th class=\"col_heading level0 col0\" >Loss</th>\n",
       "      <th class=\"col_heading level0 col1\" >Accuracy</th>\n",
       "      <th class=\"col_heading level0 col2\" >F1-macro</th>\n",
       "      <th class=\"col_heading level0 col3\" >F1-weighted</th>\n",
       "    </tr>\n",
       "  </thead>\n",
       "  <tbody>\n",
       "    <tr>\n",
       "      <th id=\"T_08ec1_level0_row0\" class=\"row_heading level0 row0\" >glove</th>\n",
       "      <td id=\"T_08ec1_row0_col0\" class=\"data row0 col0\" >1.017353</td>\n",
       "      <td id=\"T_08ec1_row0_col1\" class=\"data row0 col1\" >0.516953</td>\n",
       "      <td id=\"T_08ec1_row0_col2\" class=\"data row0 col2\" >0.342223</td>\n",
       "      <td id=\"T_08ec1_row0_col3\" class=\"data row0 col3\" >0.490297</td>\n",
       "    </tr>\n",
       "    <tr>\n",
       "      <th id=\"T_08ec1_level0_row1\" class=\"row_heading level0 row1\" >bert-base</th>\n",
       "      <td id=\"T_08ec1_row1_col0\" class=\"data row1 col0\" >0.760713</td>\n",
       "      <td id=\"T_08ec1_row1_col1\" class=\"data row1 col1\" >0.679517</td>\n",
       "      <td id=\"T_08ec1_row1_col2\" class=\"data row1 col2\" >0.518710</td>\n",
       "      <td id=\"T_08ec1_row1_col3\" class=\"data row1 col3\" >0.648322</td>\n",
       "    </tr>\n",
       "    <tr>\n",
       "      <th id=\"T_08ec1_level0_row2\" class=\"row_heading level0 row2\" >bert-pos-bow</th>\n",
       "      <td id=\"T_08ec1_row2_col0\" class=\"data row2 col0\" >0.757544</td>\n",
       "      <td id=\"T_08ec1_row2_col1\" class=\"data row2 col1\" >0.666976</td>\n",
       "      <td id=\"T_08ec1_row2_col2\" class=\"data row2 col2\" >0.493101</td>\n",
       "      <td id=\"T_08ec1_row2_col3\" class=\"data row2 col3\" >0.626786</td>\n",
       "    </tr>\n",
       "    <tr>\n",
       "      <th id=\"T_08ec1_level0_row3\" class=\"row_heading level0 row3\" >bert-pos-ner-bow</th>\n",
       "      <td id=\"T_08ec1_row3_col0\" class=\"data row3 col0\" >0.786425</td>\n",
       "      <td id=\"T_08ec1_row3_col1\" class=\"data row3 col1\" >0.664654</td>\n",
       "      <td id=\"T_08ec1_row3_col2\" class=\"data row3 col2\" >0.506300</td>\n",
       "      <td id=\"T_08ec1_row3_col3\" class=\"data row3 col3\" >0.640740</td>\n",
       "    </tr>\n",
       "    <tr>\n",
       "      <th id=\"T_08ec1_level0_row4\" class=\"row_heading level0 row4\" >bert-pos-tfidf</th>\n",
       "      <td id=\"T_08ec1_row4_col0\" class=\"data row4 col0\" >0.741446</td>\n",
       "      <td id=\"T_08ec1_row4_col1\" class=\"data row4 col1\" >0.667905</td>\n",
       "      <td id=\"T_08ec1_row4_col2\" class=\"data row4 col2\" >0.503527</td>\n",
       "      <td id=\"T_08ec1_row4_col3\" class=\"data row4 col3\" >0.621390</td>\n",
       "    </tr>\n",
       "    <tr>\n",
       "      <th id=\"T_08ec1_level0_row5\" class=\"row_heading level0 row5\" >bert-pos-ner-tfidf</th>\n",
       "      <td id=\"T_08ec1_row5_col0\" class=\"data row5 col0\" >0.764970</td>\n",
       "      <td id=\"T_08ec1_row5_col1\" class=\"data row5 col1\" >0.671621</td>\n",
       "      <td id=\"T_08ec1_row5_col2\" class=\"data row5 col2\" >0.482698</td>\n",
       "      <td id=\"T_08ec1_row5_col3\" class=\"data row5 col3\" >0.624556</td>\n",
       "    </tr>\n",
       "  </tbody>\n",
       "</table style=\"display:inline\">\n",
       "</td></tr></table style=\"display:inline\">"
      ]
     },
     "metadata": {},
     "output_type": "display_data"
    }
   ],
   "source": [
    "print('With both MVSA merged together\\n')\n",
    "display_dataframes((style_dataframe(df_scores3), style_dataframe(df_scores4)), \n",
    "                   names=['Original image labels', 'Multimodal labels'])"
   ]
  },
  {
   "cell_type": "code",
   "execution_count": null,
   "id": "2a4d1d18",
   "metadata": {
    "papermill": {
     "duration": 0.014875,
     "end_time": "2022-07-13T16:53:27.473254",
     "exception": false,
     "start_time": "2022-07-13T16:53:27.458379",
     "status": "completed"
    },
    "tags": []
   },
   "outputs": [],
   "source": []
  }
 ],
 "metadata": {
  "kernelspec": {
   "display_name": "Python 3",
   "language": "python",
   "name": "python3"
  },
  "language_info": {
   "codemirror_mode": {
    "name": "ipython",
    "version": 3
   },
   "file_extension": ".py",
   "mimetype": "text/x-python",
   "name": "python",
   "nbconvert_exporter": "python",
   "pygments_lexer": "ipython3",
   "version": "3.7.12"
  },
  "papermill": {
   "default_parameters": {},
   "duration": 853.94956,
   "end_time": "2022-07-13T16:53:30.311088",
   "environment_variables": {},
   "exception": null,
   "input_path": "__notebook__.ipynb",
   "output_path": "__notebook__.ipynb",
   "parameters": {},
   "start_time": "2022-07-13T16:39:16.361528",
   "version": "2.3.4"
  }
 },
 "nbformat": 4,
 "nbformat_minor": 5
}
