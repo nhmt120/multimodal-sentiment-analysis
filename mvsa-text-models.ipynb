{
 "cells": [
  {
   "cell_type": "code",
   "execution_count": 1,
   "id": "eaaf9649",
   "metadata": {
    "_cell_guid": "b1076dfc-b9ad-4769-8c92-a6c4dae69d19",
    "_uuid": "8f2839f25d086af736a60e9eeb907d3b93b6e0e5",
    "execution": {
     "iopub.execute_input": "2022-06-30T18:49:14.528954Z",
     "iopub.status.busy": "2022-06-30T18:49:14.528307Z",
     "iopub.status.idle": "2022-06-30T18:49:23.259634Z",
     "shell.execute_reply": "2022-06-30T18:49:23.258559Z"
    },
    "papermill": {
     "duration": 8.744933,
     "end_time": "2022-06-30T18:49:23.262104",
     "exception": false,
     "start_time": "2022-06-30T18:49:14.517171",
     "status": "completed"
    },
    "tags": []
   },
   "outputs": [],
   "source": [
    "SEED = 61\n",
    "\n",
    "\n",
    "import os\n",
    "import re\n",
    "import gc\n",
    "import h5py\n",
    "import torch\n",
    "import numpy as np\n",
    "import pandas as pd\n",
    "import tensorflow as tf\n",
    "import random as python_random\n",
    "import matplotlib.pyplot as plt\n",
    "import tensorflow_addons as tfa\n",
    "\n",
    "from tqdm import tqdm\n",
    "from nltk import tokenize\n",
    "\n",
    "from sklearn import preprocessing\n",
    "from sklearn.decomposition import PCA\n",
    "from keras import backend as K\n",
    "from keras import initializers,regularizers,constraints\n",
    "from keras.preprocessing.text import Tokenizer, text_to_word_sequence\n",
    "from keras.preprocessing.sequence import pad_sequences\n",
    "from keras.utils.np_utils import to_categorical\n",
    "from keras.layers import Reshape, Input, Embedding, Flatten, Dense, Dropout, BatchNormalization, Activation #, merge\n",
    "from keras.layers import TimeDistributed, LSTM, GRU, Bidirectional, Convolution1D, MaxPooling1D, MaxPooling2D\n",
    "from keras.layers.core import RepeatVector, Reshape\n",
    "from keras.callbacks import ModelCheckpoint, EarlyStopping, ReduceLROnPlateau\n",
    "from keras.models import Sequential, Model, load_model\n",
    "from sklearn.model_selection import cross_val_score\n",
    "\n",
    "def reset_seeds():\n",
    "    np.random.seed(SEED) \n",
    "    python_random.seed(SEED)\n",
    "    tf.random.set_seed(SEED)\n",
    "    os.environ[\"PYTHONHASHSEED\"] = str(SEED)\n",
    "\n",
    "# from tensorflow.python.keras.layers import Layer, InputSpec, Lambda\n",
    "# from tensorflow.keras import Model\n",
    "# from attention import Attention_input1, Attention_input2\n",
    "# from keras.optimizers import SGD, RMSprop, Adagrad"
   ]
  },
  {
   "cell_type": "code",
   "execution_count": 2,
   "id": "83cadc0b",
   "metadata": {
    "execution": {
     "iopub.execute_input": "2022-06-30T18:49:23.279875Z",
     "iopub.status.busy": "2022-06-30T18:49:23.279344Z",
     "iopub.status.idle": "2022-06-30T18:49:23.286352Z",
     "shell.execute_reply": "2022-06-30T18:49:23.285331Z"
    },
    "papermill": {
     "duration": 0.018473,
     "end_time": "2022-06-30T18:49:23.288475",
     "exception": false,
     "start_time": "2022-06-30T18:49:23.270002",
     "status": "completed"
    },
    "tags": []
   },
   "outputs": [],
   "source": [
    "def read_hdf5(path):\n",
    "    read_file = h5py.File(path, 'r')\n",
    "    \n",
    "    feature_names = list(read_file.keys())\n",
    "    loaded_data = []\n",
    "    \n",
    "    for name in feature_names:\n",
    "        dataset = read_file[name][:]\n",
    "        if dataset.dtype == np.dtype('object'):\n",
    "            dataset = np.array([x.decode('UTF-8') for x in dataset])            \n",
    "        loaded_data.append((name, dataset))\n",
    "\n",
    "    return loaded_data\n",
    "\n",
    "def loadz(path):\n",
    "    data = np.load(path)['arr_0']\n",
    "    return data"
   ]
  },
  {
   "cell_type": "code",
   "execution_count": 3,
   "id": "7c989a3c",
   "metadata": {
    "execution": {
     "iopub.execute_input": "2022-06-30T18:49:23.304034Z",
     "iopub.status.busy": "2022-06-30T18:49:23.303710Z",
     "iopub.status.idle": "2022-06-30T18:49:23.312661Z",
     "shell.execute_reply": "2022-06-30T18:49:23.311503Z"
    },
    "papermill": {
     "duration": 0.019241,
     "end_time": "2022-06-30T18:49:23.314863",
     "exception": false,
     "start_time": "2022-06-30T18:49:23.295622",
     "status": "completed"
    },
    "tags": []
   },
   "outputs": [],
   "source": [
    "def merge_mvsa(mvsa_single, mvsa_multiple):\n",
    "    mvsa = np.concatenate((mvsa_single, mvsa_multiple), axis=0)\n",
    "    return mvsa\n",
    "\n",
    "def load_mvsa_feature(feature_name, merge=False):\n",
    "    folder_path = os.path.join('../input/mvsa-features/', feature_name)\n",
    "    single_file = 'mvsa-single-{}.npz'.format(feature_name)\n",
    "    multiple_file = 'mvsa-multiple-{}.npz'.format(feature_name)\n",
    "    mvsa_single = loadz(os.path.join(folder_path, single_file))\n",
    "    mvsa_multiple = loadz(os.path.join(folder_path, multiple_file))\n",
    "    \n",
    "    if merge == True:\n",
    "        return merge_mvsa(mvsa_single, mvsa_multiple)\n",
    "    \n",
    "    return mvsa_single, mvsa_multiple\n",
    "\n",
    "def load_labels(path):\n",
    "    data = read_hdf5(path)\n",
    "\n",
    "    for x in data:\n",
    "        if x[0] == 'multimodal-labels':\n",
    "            labels = x[1]\n",
    "        if x[0] == 'text-labels':\n",
    "            text_labels = x[1]\n",
    "        if x[0] == 'image-labels':\n",
    "            image_labels = x[1]\n",
    "        \n",
    "    return labels, text_labels, image_labels"
   ]
  },
  {
   "cell_type": "code",
   "execution_count": 4,
   "id": "b773dab2",
   "metadata": {
    "execution": {
     "iopub.execute_input": "2022-06-30T18:49:23.330278Z",
     "iopub.status.busy": "2022-06-30T18:49:23.330032Z",
     "iopub.status.idle": "2022-06-30T18:49:23.338626Z",
     "shell.execute_reply": "2022-06-30T18:49:23.337770Z"
    },
    "papermill": {
     "duration": 0.018451,
     "end_time": "2022-06-30T18:49:23.340483",
     "exception": false,
     "start_time": "2022-06-30T18:49:23.322032",
     "status": "completed"
    },
    "tags": []
   },
   "outputs": [],
   "source": [
    "def plot_metrics(history):\n",
    "    fig = plt.figure(figsize=(20, 5))\n",
    "\n",
    "    fig.add_subplot(1, 3, 1)\n",
    "    plt.plot(history.history['loss'])\n",
    "    plt.plot(history.history['val_loss'])\n",
    "    plt.title('LOSS')\n",
    "    plt.ylabel('loss')\n",
    "    plt.xlabel('epoch')\n",
    "    plt.legend(['train', 'val'], loc='best')\n",
    "\n",
    "    fig.add_subplot(1, 3, 2)\n",
    "    plt.plot(history.history['accuracy'])\n",
    "    plt.plot(history.history['val_accuracy'])\n",
    "    plt.title('ACCURACY')\n",
    "    plt.ylabel('accuracy')\n",
    "    plt.xlabel('epoch')\n",
    "    plt.legend(['train', 'val'], loc='best')\n",
    "\n",
    "    fig.add_subplot(1, 3, 3)\n",
    "    plt.plot(history.history['f1_score'])\n",
    "    plt.plot(history.history['val_f1_score'])\n",
    "    plt.title('F1-SCORE')\n",
    "    plt.ylabel('f1-score')\n",
    "    plt.xlabel('epoch')\n",
    "    plt.legend(['train', 'val'], loc='best')\n",
    "\n",
    "    plt.show()"
   ]
  },
  {
   "cell_type": "code",
   "execution_count": 5,
   "id": "b88d689e",
   "metadata": {
    "execution": {
     "iopub.execute_input": "2022-06-30T18:49:23.355913Z",
     "iopub.status.busy": "2022-06-30T18:49:23.355483Z",
     "iopub.status.idle": "2022-06-30T18:49:23.360836Z",
     "shell.execute_reply": "2022-06-30T18:49:23.359725Z"
    },
    "papermill": {
     "duration": 0.015506,
     "end_time": "2022-06-30T18:49:23.363088",
     "exception": false,
     "start_time": "2022-06-30T18:49:23.347582",
     "status": "completed"
    },
    "tags": []
   },
   "outputs": [],
   "source": [
    "# e.g. validation_split=0.1 -----> 8:1:1 ratio of train, val, test\n",
    "def split_data(data, validation_split):\n",
    "    num_val = int(validation_split * data.shape[0])\n",
    "    data_train = data[:-(num_val*2)]\n",
    "    data_val = data[-(num_val*2):-(num_val)]\n",
    "    data_test = data[-num_val:]\n",
    "    return data_train, data_val, data_test"
   ]
  },
  {
   "cell_type": "code",
   "execution_count": 6,
   "id": "6519e13f",
   "metadata": {
    "execution": {
     "iopub.execute_input": "2022-06-30T18:49:23.379011Z",
     "iopub.status.busy": "2022-06-30T18:49:23.378721Z",
     "iopub.status.idle": "2022-06-30T18:49:23.384625Z",
     "shell.execute_reply": "2022-06-30T18:49:23.383788Z"
    },
    "papermill": {
     "duration": 0.016175,
     "end_time": "2022-06-30T18:49:23.386452",
     "exception": false,
     "start_time": "2022-06-30T18:49:23.370277",
     "status": "completed"
    },
    "tags": []
   },
   "outputs": [],
   "source": [
    "def create_model_image(input_shape):\n",
    "    f1_score = tfa.metrics.F1Score(num_classes=NUM_CLASSES, average='macro')\n",
    "    \n",
    "    image_input = Input(shape=input_shape)\n",
    "    outputs = Dense(NUM_CLASSES, activation='softmax') (image_input)\n",
    "    \n",
    "    model = Model(image_input, outputs)\n",
    "    model.compile(optimizer='adam', loss='categorical_crossentropy', metrics=['accuracy', f1_score]) # f1 #tf.keras.metrics.AUC()\n",
    "    return model"
   ]
  },
  {
   "cell_type": "code",
   "execution_count": 7,
   "id": "c310fb46",
   "metadata": {
    "execution": {
     "iopub.execute_input": "2022-06-30T18:49:23.402019Z",
     "iopub.status.busy": "2022-06-30T18:49:23.401477Z",
     "iopub.status.idle": "2022-06-30T18:49:23.407460Z",
     "shell.execute_reply": "2022-06-30T18:49:23.406481Z"
    },
    "papermill": {
     "duration": 0.016088,
     "end_time": "2022-06-30T18:49:23.409612",
     "exception": false,
     "start_time": "2022-06-30T18:49:23.393524",
     "status": "completed"
    },
    "tags": []
   },
   "outputs": [],
   "source": [
    "def create_model_text(input_shape):\n",
    "    f1_score = tfa.metrics.F1Score(num_classes=NUM_CLASSES, average='macro')\n",
    "    \n",
    "    text_input = Input(shape=input_shape)\n",
    "    reshape_text = Reshape((1, -1)) (text_input)\n",
    "    lstm = LSTM(NUM_LSTM) (reshape_text)\n",
    "    outputs = Dense(NUM_CLASSES, activation='softmax') (lstm)\n",
    "    \n",
    "    model = Model(text_input, outputs)\n",
    "    model.compile(optimizer='adam', loss='categorical_crossentropy', metrics=['accuracy', f1_score]) # f1 #tf.keras.metrics.AUC()\n",
    "    \n",
    "    return model"
   ]
  },
  {
   "cell_type": "code",
   "execution_count": 8,
   "id": "67454a7f",
   "metadata": {
    "execution": {
     "iopub.execute_input": "2022-06-30T18:49:23.425475Z",
     "iopub.status.busy": "2022-06-30T18:49:23.424777Z",
     "iopub.status.idle": "2022-06-30T18:49:23.431819Z",
     "shell.execute_reply": "2022-06-30T18:49:23.430862Z"
    },
    "papermill": {
     "duration": 0.017268,
     "end_time": "2022-06-30T18:49:23.434016",
     "exception": false,
     "start_time": "2022-06-30T18:49:23.416748",
     "status": "completed"
    },
    "tags": []
   },
   "outputs": [],
   "source": [
    "def evaluate_model(model, X_test, y_test, checkpoint=None, verbose=1):\n",
    "    if checkpoint is not None:\n",
    "        model = load_model('./model_checkpoint/{}.h5'.format(checkpoint))#, custom_objects={'f1': f1})\n",
    "    \n",
    "    loss, acc, f1 = model.evaluate(X_test, y_test, verbose=verbose)\n",
    "    \n",
    "    if verbose == 1:\n",
    "        print('Loss:', loss)\n",
    "        print('Accuracy:', acc)\n",
    "        print('F1-score:', f1)\n",
    "        \n",
    "    return loss, acc, f1"
   ]
  },
  {
   "cell_type": "code",
   "execution_count": 9,
   "id": "f4f80985",
   "metadata": {
    "execution": {
     "iopub.execute_input": "2022-06-30T18:49:23.449888Z",
     "iopub.status.busy": "2022-06-30T18:49:23.449074Z",
     "iopub.status.idle": "2022-06-30T18:49:23.457216Z",
     "shell.execute_reply": "2022-06-30T18:49:23.456414Z"
    },
    "papermill": {
     "duration": 0.018019,
     "end_time": "2022-06-30T18:49:23.459093",
     "exception": false,
     "start_time": "2022-06-30T18:49:23.441074",
     "status": "completed"
    },
    "tags": []
   },
   "outputs": [],
   "source": [
    "def run_and_evaluate(name, X, y, verbose=0):\n",
    "    y = le.fit_transform(y)\n",
    "    y = to_categorical(np.asarray(y))\n",
    "    \n",
    "    X_train, X_val, X_test = split_data(X, VALIDATION_SPLIT)\n",
    "    y_train, y_val, y_test = split_data(y, VALIDATION_SPLIT)\n",
    "    \n",
    "    model = create_model_text(X_train.shape[1:])\n",
    "    early_stopping = EarlyStopping(monitor='val_loss', min_delta=1e-4, patience=EARLY_STOPPING)\n",
    "    checkpoint = ModelCheckpoint('./model_checkpoint/{}.h5'.format(name), save_best_only=True, verbose=verbose)\n",
    "    \n",
    "    history = model.fit(X_train, y_train, validation_data=(X_val, y_val), \n",
    "                        epochs=EPOCHS, batch_size=BATCH_SIZE, verbose=verbose,\n",
    "                        callbacks=[checkpoint, early_stopping])\n",
    "    print('Early stopped at epoch:', early_stopping.stopped_epoch)\n",
    "    return history, evaluate_model(model, X_test, y_test, checkpoint=name, verbose=verbose)"
   ]
  },
  {
   "cell_type": "code",
   "execution_count": 10,
   "id": "80455828",
   "metadata": {
    "execution": {
     "iopub.execute_input": "2022-06-30T18:49:23.475401Z",
     "iopub.status.busy": "2022-06-30T18:49:23.474694Z",
     "iopub.status.idle": "2022-06-30T18:49:23.480591Z",
     "shell.execute_reply": "2022-06-30T18:49:23.479678Z"
    },
    "papermill": {
     "duration": 0.015609,
     "end_time": "2022-06-30T18:49:23.482421",
     "exception": false,
     "start_time": "2022-06-30T18:49:23.466812",
     "status": "completed"
    },
    "tags": []
   },
   "outputs": [],
   "source": [
    "def style_dataframe(dataframe):\n",
    "    return dataframe.style.highlight_max(subset=['Accuracy', 'F1-score'], props='color:darkgreen', axis=0)\\\n",
    "                          .highlight_min(subset=['Accuracy', 'F1-score'], props='color:tomato', axis=0)\\\n",
    "                          .highlight_min(subset=['Loss'], props='color:darkgreen', axis=0)\\\n",
    "                          .highlight_max(subset=['Loss'], props='color:tomato', axis=0)"
   ]
  },
  {
   "cell_type": "code",
   "execution_count": 11,
   "id": "5d4243e7",
   "metadata": {
    "execution": {
     "iopub.execute_input": "2022-06-30T18:49:23.499088Z",
     "iopub.status.busy": "2022-06-30T18:49:23.498306Z",
     "iopub.status.idle": "2022-06-30T18:49:23.505788Z",
     "shell.execute_reply": "2022-06-30T18:49:23.504977Z"
    },
    "papermill": {
     "duration": 0.017722,
     "end_time": "2022-06-30T18:49:23.507616",
     "exception": false,
     "start_time": "2022-06-30T18:49:23.489894",
     "status": "completed"
    },
    "tags": []
   },
   "outputs": [],
   "source": [
    "from IPython.display import display_html\n",
    "\n",
    "def display_dataframes(dfs, names=[], index=False):\n",
    "    def to_df(x):\n",
    "        if isinstance(x, pd.Series):\n",
    "            return pd.DataFrame(x)\n",
    "        else:\n",
    "            return x\n",
    "    html_str = ''\n",
    "    if names:\n",
    "        html_str += ('<tr>' + \n",
    "                     ''.join(f'<td style=\"text-align:center\">{name}</td>' for name in names) + \n",
    "                     '</tr>')\n",
    "    html_str += ('<tr>' + \n",
    "                 ''.join(f'<td style=\"vertical-align:top\"> {to_df(df).to_html()}</td>' \n",
    "                         for df in dfs) + \n",
    "                 '</tr>')\n",
    "    html_str = f'<table>{html_str}</table>'\n",
    "    html_str = html_str.replace('table','table style=\"display:inline\"')\n",
    "    display_html(html_str, raw=True)"
   ]
  },
  {
   "cell_type": "markdown",
   "id": "7957c58f",
   "metadata": {
    "papermill": {
     "duration": 0.007224,
     "end_time": "2022-06-30T18:49:23.522071",
     "exception": false,
     "start_time": "2022-06-30T18:49:23.514847",
     "status": "completed"
    },
    "tags": []
   },
   "source": [
    "# Load data"
   ]
  },
  {
   "cell_type": "code",
   "execution_count": 12,
   "id": "3f7de325",
   "metadata": {
    "execution": {
     "iopub.execute_input": "2022-06-30T18:49:23.537371Z",
     "iopub.status.busy": "2022-06-30T18:49:23.537109Z",
     "iopub.status.idle": "2022-06-30T18:49:24.843396Z",
     "shell.execute_reply": "2022-06-30T18:49:24.842442Z"
    },
    "papermill": {
     "duration": 1.316666,
     "end_time": "2022-06-30T18:49:24.845850",
     "exception": false,
     "start_time": "2022-06-30T18:49:23.529184",
     "status": "completed"
    },
    "tags": []
   },
   "outputs": [],
   "source": [
    "mvsa_single_bert_base, mvsa_multiple_bert_base = load_mvsa_feature('bert-base')\n",
    "mvsa_single_pos_bow, mvsa_multiple_pos_bow = load_mvsa_feature('pos-bow')\n",
    "mvsa_single_pos_tfidf, mvsa_multiple_pos_tfidf = load_mvsa_feature('pos-tfidf')\n",
    "mvsa_single_ner_bow, mvsa_multiple_ner_bow = load_mvsa_feature('ner-bow')\n",
    "mvsa_single_ner_tfidf, mvsa_multiple_ner_tfidf = load_mvsa_feature('ner-tfidf')"
   ]
  },
  {
   "cell_type": "code",
   "execution_count": 13,
   "id": "4c6402c7",
   "metadata": {
    "execution": {
     "iopub.execute_input": "2022-06-30T18:49:24.862612Z",
     "iopub.status.busy": "2022-06-30T18:49:24.861849Z",
     "iopub.status.idle": "2022-06-30T18:49:25.015416Z",
     "shell.execute_reply": "2022-06-30T18:49:25.014150Z"
    },
    "papermill": {
     "duration": 0.164533,
     "end_time": "2022-06-30T18:49:25.018040",
     "exception": false,
     "start_time": "2022-06-30T18:49:24.853507",
     "status": "completed"
    },
    "tags": []
   },
   "outputs": [],
   "source": [
    "mvsa_bert_base = load_mvsa_feature('bert-base', merge=True)\n",
    "mvsa_pos_bow = load_mvsa_feature('pos-bow', merge=True)\n",
    "mvsa_pos_tfidf = load_mvsa_feature('pos-tfidf', merge=True)\n",
    "mvsa_ner_bow = load_mvsa_feature('ner-bow', merge=True)\n",
    "mvsa_ner_tfidf = load_mvsa_feature('ner-tfidf', merge=True)"
   ]
  },
  {
   "cell_type": "code",
   "execution_count": 14,
   "id": "6302bce3",
   "metadata": {
    "execution": {
     "iopub.execute_input": "2022-06-30T18:49:25.035635Z",
     "iopub.status.busy": "2022-06-30T18:49:25.033923Z",
     "iopub.status.idle": "2022-06-30T18:49:25.173955Z",
     "shell.execute_reply": "2022-06-30T18:49:25.173021Z"
    },
    "papermill": {
     "duration": 0.150717,
     "end_time": "2022-06-30T18:49:25.176180",
     "exception": false,
     "start_time": "2022-06-30T18:49:25.025463",
     "status": "completed"
    },
    "tags": []
   },
   "outputs": [],
   "source": [
    "mvsa_single_multimodal_labels, mvsa_single_text_labels, mvsa_single_image_labels = load_labels('../input/mvsa-features/labels/mvsa-single-labels.hdf5')\n",
    "mvsa_multiple_multimodal_labels, mvsa_multiple_text_labels, mvsa_multiple_image_labels = load_labels('../input/mvsa-features/labels/mvsa-multiple-labels.hdf5')\n",
    "\n",
    "mvsa_multimodal_labels = merge_mvsa(mvsa_single_multimodal_labels, mvsa_multiple_multimodal_labels)\n",
    "mvsa_text_labels = merge_mvsa(mvsa_single_text_labels, mvsa_multiple_text_labels)\n",
    "mvsa_image_labels = merge_mvsa(mvsa_single_image_labels, mvsa_multiple_image_labels)"
   ]
  },
  {
   "cell_type": "code",
   "execution_count": 15,
   "id": "182c0894",
   "metadata": {
    "execution": {
     "iopub.execute_input": "2022-06-30T18:49:25.192334Z",
     "iopub.status.busy": "2022-06-30T18:49:25.192040Z",
     "iopub.status.idle": "2022-06-30T18:49:25.199503Z",
     "shell.execute_reply": "2022-06-30T18:49:25.198690Z"
    },
    "papermill": {
     "duration": 0.017835,
     "end_time": "2022-06-30T18:49:25.201399",
     "exception": false,
     "start_time": "2022-06-30T18:49:25.183564",
     "status": "completed"
    },
    "tags": []
   },
   "outputs": [],
   "source": [
    "le = preprocessing.LabelEncoder()\n",
    "le.fit(mvsa_multimodal_labels)\n",
    "NUM_CLASSES = len(le.classes_) # =3"
   ]
  },
  {
   "cell_type": "code",
   "execution_count": 16,
   "id": "4ab931a6",
   "metadata": {
    "execution": {
     "iopub.execute_input": "2022-06-30T18:49:25.217895Z",
     "iopub.status.busy": "2022-06-30T18:49:25.217626Z",
     "iopub.status.idle": "2022-06-30T18:49:25.567999Z",
     "shell.execute_reply": "2022-06-30T18:49:25.566875Z"
    },
    "papermill": {
     "duration": 0.362323,
     "end_time": "2022-06-30T18:49:25.571186",
     "exception": false,
     "start_time": "2022-06-30T18:49:25.208863",
     "status": "completed"
    },
    "tags": []
   },
   "outputs": [],
   "source": [
    "feature_names = ['bert-base', 'bert-pos-bow', 'bert-pos-ner-bow', 'bert-pos-tfidf', 'bert-pos-ner-tfidf']\n",
    "\n",
    "mvsa_single_features = [mvsa_single_bert_base, \n",
    "                        np.concatenate((mvsa_single_bert_base, mvsa_single_pos_bow), axis=1), \n",
    "                        np.concatenate((mvsa_single_bert_base, mvsa_single_pos_bow, mvsa_single_ner_bow), axis=1),\n",
    "                        np.concatenate((mvsa_single_bert_base, mvsa_single_pos_tfidf), axis=1), \n",
    "                        np.concatenate((mvsa_single_bert_base, mvsa_single_pos_tfidf, mvsa_single_ner_tfidf), axis=1)]\n",
    "\n",
    "mvsa_multiple_features = [mvsa_multiple_bert_base, \n",
    "                          np.concatenate((mvsa_multiple_bert_base, mvsa_multiple_pos_bow), axis=1), \n",
    "                          np.concatenate((mvsa_multiple_bert_base, mvsa_multiple_pos_bow, mvsa_multiple_ner_bow), axis=1),\n",
    "                          np.concatenate((mvsa_multiple_bert_base, mvsa_multiple_pos_tfidf), axis=1), \n",
    "                          np.concatenate((mvsa_multiple_bert_base, mvsa_multiple_pos_tfidf, mvsa_multiple_ner_tfidf), axis=1)]\n",
    "\n",
    "mvsa_features = [mvsa_bert_base,\n",
    "                 np.concatenate((mvsa_bert_base, mvsa_pos_bow), axis=1), \n",
    "                 np.concatenate((mvsa_bert_base, mvsa_pos_bow, mvsa_ner_bow), axis=1),\n",
    "                 np.concatenate((mvsa_bert_base, mvsa_pos_tfidf), axis=1), \n",
    "                 np.concatenate((mvsa_bert_base, mvsa_pos_tfidf, mvsa_ner_bow), axis=1)]"
   ]
  },
  {
   "cell_type": "markdown",
   "id": "65416cb7",
   "metadata": {
    "papermill": {
     "duration": 0.011268,
     "end_time": "2022-06-30T18:49:25.600876",
     "exception": false,
     "start_time": "2022-06-30T18:49:25.589608",
     "status": "completed"
    },
    "tags": []
   },
   "source": [
    "# Run models and Evalution display"
   ]
  },
  {
   "cell_type": "code",
   "execution_count": 17,
   "id": "48ab3fae",
   "metadata": {
    "execution": {
     "iopub.execute_input": "2022-06-30T18:49:25.625487Z",
     "iopub.status.busy": "2022-06-30T18:49:25.624551Z",
     "iopub.status.idle": "2022-06-30T18:49:25.630572Z",
     "shell.execute_reply": "2022-06-30T18:49:25.629729Z"
    },
    "papermill": {
     "duration": 0.021108,
     "end_time": "2022-06-30T18:49:25.633433",
     "exception": false,
     "start_time": "2022-06-30T18:49:25.612325",
     "status": "completed"
    },
    "tags": []
   },
   "outputs": [],
   "source": [
    "reset_seeds()\n",
    "EPOCHS = 100\n",
    "BATCH_SIZE = 128\n",
    "VALIDATION_SPLIT = 0.1\n",
    "EARLY_STOPPING = 10\n",
    "NUM_LSTM = 128"
   ]
  },
  {
   "cell_type": "markdown",
   "id": "ff45ea8e",
   "metadata": {
    "papermill": {
     "duration": 0.011014,
     "end_time": "2022-06-30T18:49:25.655877",
     "exception": false,
     "start_time": "2022-06-30T18:49:25.644863",
     "status": "completed"
    },
    "tags": []
   },
   "source": [
    "## With original text labels"
   ]
  },
  {
   "cell_type": "code",
   "execution_count": 18,
   "id": "0ffc8a97",
   "metadata": {
    "execution": {
     "iopub.execute_input": "2022-06-30T18:49:25.679932Z",
     "iopub.status.busy": "2022-06-30T18:49:25.679562Z",
     "iopub.status.idle": "2022-06-30T18:49:57.985728Z",
     "shell.execute_reply": "2022-06-30T18:49:57.983516Z"
    },
    "papermill": {
     "duration": 32.321593,
     "end_time": "2022-06-30T18:49:57.988968",
     "exception": false,
     "start_time": "2022-06-30T18:49:25.667375",
     "status": "completed"
    },
    "tags": []
   },
   "outputs": [
    {
     "name": "stdout",
     "output_type": "stream",
     "text": [
      "MVSA-Single: With original text labels\n",
      "\n",
      "MVSA-Single: bert-base\n"
     ]
    },
    {
     "name": "stderr",
     "output_type": "stream",
     "text": [
      "2022-06-30 18:49:25.800669: I tensorflow/stream_executor/cuda/cuda_gpu_executor.cc:937] successful NUMA node read from SysFS had negative value (-1), but there must be at least one NUMA node, so returning NUMA node zero\n",
      "2022-06-30 18:49:25.802141: I tensorflow/stream_executor/cuda/cuda_gpu_executor.cc:937] successful NUMA node read from SysFS had negative value (-1), but there must be at least one NUMA node, so returning NUMA node zero\n",
      "2022-06-30 18:49:25.803198: I tensorflow/stream_executor/cuda/cuda_gpu_executor.cc:937] successful NUMA node read from SysFS had negative value (-1), but there must be at least one NUMA node, so returning NUMA node zero\n",
      "2022-06-30 18:49:25.804537: I tensorflow/core/platform/cpu_feature_guard.cc:142] This TensorFlow binary is optimized with oneAPI Deep Neural Network Library (oneDNN) to use the following CPU instructions in performance-critical operations:  AVX2 AVX512F FMA\n",
      "To enable them in other operations, rebuild TensorFlow with the appropriate compiler flags.\n",
      "2022-06-30 18:49:25.804861: I tensorflow/stream_executor/cuda/cuda_gpu_executor.cc:937] successful NUMA node read from SysFS had negative value (-1), but there must be at least one NUMA node, so returning NUMA node zero\n",
      "2022-06-30 18:49:25.805853: I tensorflow/stream_executor/cuda/cuda_gpu_executor.cc:937] successful NUMA node read from SysFS had negative value (-1), but there must be at least one NUMA node, so returning NUMA node zero\n",
      "2022-06-30 18:49:25.806853: I tensorflow/stream_executor/cuda/cuda_gpu_executor.cc:937] successful NUMA node read from SysFS had negative value (-1), but there must be at least one NUMA node, so returning NUMA node zero\n",
      "2022-06-30 18:49:30.911373: I tensorflow/stream_executor/cuda/cuda_gpu_executor.cc:937] successful NUMA node read from SysFS had negative value (-1), but there must be at least one NUMA node, so returning NUMA node zero\n",
      "2022-06-30 18:49:30.912290: I tensorflow/stream_executor/cuda/cuda_gpu_executor.cc:937] successful NUMA node read from SysFS had negative value (-1), but there must be at least one NUMA node, so returning NUMA node zero\n",
      "2022-06-30 18:49:30.912990: I tensorflow/stream_executor/cuda/cuda_gpu_executor.cc:937] successful NUMA node read from SysFS had negative value (-1), but there must be at least one NUMA node, so returning NUMA node zero\n",
      "2022-06-30 18:49:30.913567: I tensorflow/core/common_runtime/gpu/gpu_device.cc:1510] Created device /job:localhost/replica:0/task:0/device:GPU:0 with 15047 MB memory:  -> device: 0, name: Tesla P100-PCIE-16GB, pci bus id: 0000:00:04.0, compute capability: 6.0\n",
      "2022-06-30 18:49:31.573349: I tensorflow/compiler/mlir/mlir_graph_optimization_pass.cc:185] None of the MLIR Optimization Passes are enabled (registered 2)\n",
      "2022-06-30 18:49:34.216133: I tensorflow/stream_executor/cuda/cuda_dnn.cc:369] Loaded cuDNN version 8005\n"
     ]
    },
    {
     "name": "stdout",
     "output_type": "stream",
     "text": [
      "Early stopped at epoch: 16\n",
      "\n",
      "MVSA-Single: bert-pos-bow\n",
      "Early stopped at epoch: 16\n",
      "\n",
      "MVSA-Single: bert-pos-ner-bow\n",
      "Early stopped at epoch: 16\n",
      "\n",
      "MVSA-Single: bert-pos-tfidf\n",
      "Early stopped at epoch: 16\n",
      "\n",
      "MVSA-Single: bert-pos-ner-tfidf\n",
      "Early stopped at epoch: 16\n",
      "\n"
     ]
    }
   ],
   "source": [
    "print('MVSA-Single: With original text labels\\n')\n",
    "# run model with all features data of MVSA-Single\n",
    "mvsa_single_hitories = []\n",
    "mvsa_single_score = []\n",
    "for i in range(len(feature_names)):\n",
    "    print('MVSA-Single:', feature_names[i])\n",
    "    history, scores = run_and_evaluate('single-' + feature_names[i], mvsa_single_features[i], mvsa_single_text_labels, verbose=0)\n",
    "    mvsa_single_hitories.append(history)\n",
    "    mvsa_single_score.append(scores)\n",
    "    print()\n",
    "    \n",
    "df_single_scores = pd.DataFrame(mvsa_single_score, columns=['Loss', 'Accuracy', 'F1-score'], index=feature_names)"
   ]
  },
  {
   "cell_type": "code",
   "execution_count": 19,
   "id": "31394ad9",
   "metadata": {
    "execution": {
     "iopub.execute_input": "2022-06-30T18:49:58.007568Z",
     "iopub.status.busy": "2022-06-30T18:49:58.006774Z",
     "iopub.status.idle": "2022-06-30T18:50:40.487648Z",
     "shell.execute_reply": "2022-06-30T18:50:40.486444Z"
    },
    "papermill": {
     "duration": 42.492623,
     "end_time": "2022-06-30T18:50:40.490407",
     "exception": false,
     "start_time": "2022-06-30T18:49:57.997784",
     "status": "completed"
    },
    "tags": []
   },
   "outputs": [
    {
     "name": "stdout",
     "output_type": "stream",
     "text": [
      "MVSA-Multiple: With original image labels\n",
      "\n",
      "MVSA-Multiple: bert-base\n",
      "Early stopped at epoch: 13\n",
      "\n",
      "MVSA-Multiple: bert-pos-bow\n",
      "Early stopped at epoch: 13\n",
      "\n",
      "MVSA-Multiple: bert-pos-ner-bow\n",
      "Early stopped at epoch: 13\n",
      "\n",
      "MVSA-Multiple: bert-pos-tfidf\n",
      "Early stopped at epoch: 13\n",
      "\n",
      "MVSA-Multiple: bert-pos-ner-tfidf\n",
      "Early stopped at epoch: 13\n",
      "\n"
     ]
    }
   ],
   "source": [
    "print('MVSA-Multiple: With original image labels\\n')\n",
    "# run model with all features data of MVSA-Multiple\n",
    "mvsa_multiple_hitories = []\n",
    "mvsa_multiple_score = []\n",
    "for i in range(len(feature_names)):\n",
    "    print('MVSA-Multiple:', feature_names[i])\n",
    "    history, scores = run_and_evaluate('multiple-' + feature_names[i], mvsa_multiple_features[i], mvsa_multiple_text_labels, verbose=0)\n",
    "    mvsa_multiple_hitories.append(history)\n",
    "    mvsa_multiple_score.append(scores)\n",
    "    print()\n",
    "    \n",
    "df_multiple_scores = pd.DataFrame(mvsa_multiple_score, columns=['Loss', 'Accuracy', 'F1-score'], index=feature_names)"
   ]
  },
  {
   "cell_type": "code",
   "execution_count": 20,
   "id": "3e8dbab1",
   "metadata": {
    "execution": {
     "iopub.execute_input": "2022-06-30T18:50:40.510515Z",
     "iopub.status.busy": "2022-06-30T18:50:40.509711Z",
     "iopub.status.idle": "2022-06-30T18:50:40.515647Z",
     "shell.execute_reply": "2022-06-30T18:50:40.514712Z"
    },
    "papermill": {
     "duration": 0.017928,
     "end_time": "2022-06-30T18:50:40.517643",
     "exception": false,
     "start_time": "2022-06-30T18:50:40.499715",
     "status": "completed"
    },
    "tags": []
   },
   "outputs": [],
   "source": [
    "mvsa_average_scores = np.mean([mvsa_single_score, mvsa_multiple_score], axis=0)\n",
    "df_average_scores = pd.DataFrame(mvsa_average_scores, columns=['Loss', 'Accuracy', 'F1-score'], index=feature_names)"
   ]
  },
  {
   "cell_type": "code",
   "execution_count": 21,
   "id": "5b3afe05",
   "metadata": {
    "execution": {
     "iopub.execute_input": "2022-06-30T18:50:40.535656Z",
     "iopub.status.busy": "2022-06-30T18:50:40.535409Z",
     "iopub.status.idle": "2022-06-30T18:50:40.638023Z",
     "shell.execute_reply": "2022-06-30T18:50:40.636444Z"
    },
    "papermill": {
     "duration": 0.114284,
     "end_time": "2022-06-30T18:50:40.640450",
     "exception": false,
     "start_time": "2022-06-30T18:50:40.526166",
     "status": "completed"
    },
    "tags": []
   },
   "outputs": [
    {
     "name": "stdout",
     "output_type": "stream",
     "text": [
      "With original image labels\n",
      "\n"
     ]
    },
    {
     "data": {
      "text/html": [
       "<table style=\"display:inline\"><tr><td style=\"text-align:center\">MVSA-Single</td><td style=\"text-align:center\">MVSA-Multiple</td><td style=\"text-align:center\">Average</td></tr><tr><td style=\"vertical-align:top\"> <style type=\"text/css\">\n",
       "#T_1ab8d_row0_col0, #T_1ab8d_row0_col1, #T_1ab8d_row0_col2 {\n",
       "  color: darkgreen;\n",
       "}\n",
       "#T_1ab8d_row2_col1, #T_1ab8d_row2_col2, #T_1ab8d_row4_col0 {\n",
       "  color: tomato;\n",
       "}\n",
       "</style>\n",
       "<table style=\"display:inline\" id=\"T_1ab8d_\">\n",
       "  <thead>\n",
       "    <tr>\n",
       "      <th class=\"blank level0\" >&nbsp;</th>\n",
       "      <th class=\"col_heading level0 col0\" >Loss</th>\n",
       "      <th class=\"col_heading level0 col1\" >Accuracy</th>\n",
       "      <th class=\"col_heading level0 col2\" >F1-score</th>\n",
       "    </tr>\n",
       "  </thead>\n",
       "  <tbody>\n",
       "    <tr>\n",
       "      <th id=\"T_1ab8d_level0_row0\" class=\"row_heading level0 row0\" >bert-base</th>\n",
       "      <td id=\"T_1ab8d_row0_col0\" class=\"data row0 col0\" >0.721703</td>\n",
       "      <td id=\"T_1ab8d_row0_col1\" class=\"data row0 col1\" >0.707657</td>\n",
       "      <td id=\"T_1ab8d_row0_col2\" class=\"data row0 col2\" >0.675780</td>\n",
       "    </tr>\n",
       "    <tr>\n",
       "      <th id=\"T_1ab8d_level0_row1\" class=\"row_heading level0 row1\" >bert-pos-bow</th>\n",
       "      <td id=\"T_1ab8d_row1_col0\" class=\"data row1 col0\" >0.728056</td>\n",
       "      <td id=\"T_1ab8d_row1_col1\" class=\"data row1 col1\" >0.700696</td>\n",
       "      <td id=\"T_1ab8d_row1_col2\" class=\"data row1 col2\" >0.669886</td>\n",
       "    </tr>\n",
       "    <tr>\n",
       "      <th id=\"T_1ab8d_level0_row2\" class=\"row_heading level0 row2\" >bert-pos-ner-bow</th>\n",
       "      <td id=\"T_1ab8d_row2_col0\" class=\"data row2 col0\" >0.733448</td>\n",
       "      <td id=\"T_1ab8d_row2_col1\" class=\"data row2 col1\" >0.689095</td>\n",
       "      <td id=\"T_1ab8d_row2_col2\" class=\"data row2 col2\" >0.657411</td>\n",
       "    </tr>\n",
       "    <tr>\n",
       "      <th id=\"T_1ab8d_level0_row3\" class=\"row_heading level0 row3\" >bert-pos-tfidf</th>\n",
       "      <td id=\"T_1ab8d_row3_col0\" class=\"data row3 col0\" >0.721896</td>\n",
       "      <td id=\"T_1ab8d_row3_col1\" class=\"data row3 col1\" >0.705336</td>\n",
       "      <td id=\"T_1ab8d_row3_col2\" class=\"data row3 col2\" >0.664209</td>\n",
       "    </tr>\n",
       "    <tr>\n",
       "      <th id=\"T_1ab8d_level0_row4\" class=\"row_heading level0 row4\" >bert-pos-ner-tfidf</th>\n",
       "      <td id=\"T_1ab8d_row4_col0\" class=\"data row4 col0\" >0.737369</td>\n",
       "      <td id=\"T_1ab8d_row4_col1\" class=\"data row4 col1\" >0.698376</td>\n",
       "      <td id=\"T_1ab8d_row4_col2\" class=\"data row4 col2\" >0.665181</td>\n",
       "    </tr>\n",
       "  </tbody>\n",
       "</table style=\"display:inline\">\n",
       "</td><td style=\"vertical-align:top\"> <style type=\"text/css\">\n",
       "#T_a7a63_row0_col1, #T_a7a63_row3_col2, #T_a7a63_row4_col0 {\n",
       "  color: tomato;\n",
       "}\n",
       "#T_a7a63_row1_col1, #T_a7a63_row1_col2, #T_a7a63_row3_col0 {\n",
       "  color: darkgreen;\n",
       "}\n",
       "</style>\n",
       "<table style=\"display:inline\" id=\"T_a7a63_\">\n",
       "  <thead>\n",
       "    <tr>\n",
       "      <th class=\"blank level0\" >&nbsp;</th>\n",
       "      <th class=\"col_heading level0 col0\" >Loss</th>\n",
       "      <th class=\"col_heading level0 col1\" >Accuracy</th>\n",
       "      <th class=\"col_heading level0 col2\" >F1-score</th>\n",
       "    </tr>\n",
       "  </thead>\n",
       "  <tbody>\n",
       "    <tr>\n",
       "      <th id=\"T_a7a63_level0_row0\" class=\"row_heading level0 row0\" >bert-base</th>\n",
       "      <td id=\"T_a7a63_row0_col0\" class=\"data row0 col0\" >0.804546</td>\n",
       "      <td id=\"T_a7a63_row0_col1\" class=\"data row0 col1\" >0.597680</td>\n",
       "      <td id=\"T_a7a63_row0_col2\" class=\"data row0 col2\" >0.540417</td>\n",
       "    </tr>\n",
       "    <tr>\n",
       "      <th id=\"T_a7a63_level0_row1\" class=\"row_heading level0 row1\" >bert-pos-bow</th>\n",
       "      <td id=\"T_a7a63_row1_col0\" class=\"data row1 col0\" >0.804690</td>\n",
       "      <td id=\"T_a7a63_row1_col1\" class=\"data row1 col1\" >0.607448</td>\n",
       "      <td id=\"T_a7a63_row1_col2\" class=\"data row1 col2\" >0.549103</td>\n",
       "    </tr>\n",
       "    <tr>\n",
       "      <th id=\"T_a7a63_level0_row2\" class=\"row_heading level0 row2\" >bert-pos-ner-bow</th>\n",
       "      <td id=\"T_a7a63_row2_col0\" class=\"data row2 col0\" >0.805016</td>\n",
       "      <td id=\"T_a7a63_row2_col1\" class=\"data row2 col1\" >0.602564</td>\n",
       "      <td id=\"T_a7a63_row2_col2\" class=\"data row2 col2\" >0.544780</td>\n",
       "    </tr>\n",
       "    <tr>\n",
       "      <th id=\"T_a7a63_level0_row3\" class=\"row_heading level0 row3\" >bert-pos-tfidf</th>\n",
       "      <td id=\"T_a7a63_row3_col0\" class=\"data row3 col0\" >0.803599</td>\n",
       "      <td id=\"T_a7a63_row3_col1\" class=\"data row3 col1\" >0.602564</td>\n",
       "      <td id=\"T_a7a63_row3_col2\" class=\"data row3 col2\" >0.537163</td>\n",
       "    </tr>\n",
       "    <tr>\n",
       "      <th id=\"T_a7a63_level0_row4\" class=\"row_heading level0 row4\" >bert-pos-ner-tfidf</th>\n",
       "      <td id=\"T_a7a63_row4_col0\" class=\"data row4 col0\" >0.808248</td>\n",
       "      <td id=\"T_a7a63_row4_col1\" class=\"data row4 col1\" >0.602564</td>\n",
       "      <td id=\"T_a7a63_row4_col2\" class=\"data row4 col2\" >0.546119</td>\n",
       "    </tr>\n",
       "  </tbody>\n",
       "</table style=\"display:inline\">\n",
       "</td><td style=\"vertical-align:top\"> <style type=\"text/css\">\n",
       "#T_ef2b3_row1_col1, #T_ef2b3_row1_col2, #T_ef2b3_row3_col0 {\n",
       "  color: darkgreen;\n",
       "}\n",
       "#T_ef2b3_row2_col1, #T_ef2b3_row3_col2, #T_ef2b3_row4_col0 {\n",
       "  color: tomato;\n",
       "}\n",
       "</style>\n",
       "<table style=\"display:inline\" id=\"T_ef2b3_\">\n",
       "  <thead>\n",
       "    <tr>\n",
       "      <th class=\"blank level0\" >&nbsp;</th>\n",
       "      <th class=\"col_heading level0 col0\" >Loss</th>\n",
       "      <th class=\"col_heading level0 col1\" >Accuracy</th>\n",
       "      <th class=\"col_heading level0 col2\" >F1-score</th>\n",
       "    </tr>\n",
       "  </thead>\n",
       "  <tbody>\n",
       "    <tr>\n",
       "      <th id=\"T_ef2b3_level0_row0\" class=\"row_heading level0 row0\" >bert-base</th>\n",
       "      <td id=\"T_ef2b3_row0_col0\" class=\"data row0 col0\" >0.763124</td>\n",
       "      <td id=\"T_ef2b3_row0_col1\" class=\"data row0 col1\" >0.652668</td>\n",
       "      <td id=\"T_ef2b3_row0_col2\" class=\"data row0 col2\" >0.608099</td>\n",
       "    </tr>\n",
       "    <tr>\n",
       "      <th id=\"T_ef2b3_level0_row1\" class=\"row_heading level0 row1\" >bert-pos-bow</th>\n",
       "      <td id=\"T_ef2b3_row1_col0\" class=\"data row1 col0\" >0.766373</td>\n",
       "      <td id=\"T_ef2b3_row1_col1\" class=\"data row1 col1\" >0.654072</td>\n",
       "      <td id=\"T_ef2b3_row1_col2\" class=\"data row1 col2\" >0.609494</td>\n",
       "    </tr>\n",
       "    <tr>\n",
       "      <th id=\"T_ef2b3_level0_row2\" class=\"row_heading level0 row2\" >bert-pos-ner-bow</th>\n",
       "      <td id=\"T_ef2b3_row2_col0\" class=\"data row2 col0\" >0.769232</td>\n",
       "      <td id=\"T_ef2b3_row2_col1\" class=\"data row2 col1\" >0.645830</td>\n",
       "      <td id=\"T_ef2b3_row2_col2\" class=\"data row2 col2\" >0.601096</td>\n",
       "    </tr>\n",
       "    <tr>\n",
       "      <th id=\"T_ef2b3_level0_row3\" class=\"row_heading level0 row3\" >bert-pos-tfidf</th>\n",
       "      <td id=\"T_ef2b3_row3_col0\" class=\"data row3 col0\" >0.762747</td>\n",
       "      <td id=\"T_ef2b3_row3_col1\" class=\"data row3 col1\" >0.653950</td>\n",
       "      <td id=\"T_ef2b3_row3_col2\" class=\"data row3 col2\" >0.600686</td>\n",
       "    </tr>\n",
       "    <tr>\n",
       "      <th id=\"T_ef2b3_level0_row4\" class=\"row_heading level0 row4\" >bert-pos-ner-tfidf</th>\n",
       "      <td id=\"T_ef2b3_row4_col0\" class=\"data row4 col0\" >0.772808</td>\n",
       "      <td id=\"T_ef2b3_row4_col1\" class=\"data row4 col1\" >0.650470</td>\n",
       "      <td id=\"T_ef2b3_row4_col2\" class=\"data row4 col2\" >0.605650</td>\n",
       "    </tr>\n",
       "  </tbody>\n",
       "</table style=\"display:inline\">\n",
       "</td></tr></table style=\"display:inline\">"
      ]
     },
     "metadata": {},
     "output_type": "display_data"
    }
   ],
   "source": [
    "print('With original image labels\\n')\n",
    "display_dataframes((style_dataframe(df_single_scores), style_dataframe(df_multiple_scores), style_dataframe(df_average_scores)), \n",
    "                   names=['MVSA-Single', 'MVSA-Multiple', 'Average'])"
   ]
  },
  {
   "cell_type": "markdown",
   "id": "96f52531",
   "metadata": {
    "papermill": {
     "duration": 0.009094,
     "end_time": "2022-06-30T18:50:40.659006",
     "exception": false,
     "start_time": "2022-06-30T18:50:40.649912",
     "status": "completed"
    },
    "tags": []
   },
   "source": [
    "## With multimodal labels"
   ]
  },
  {
   "cell_type": "code",
   "execution_count": 22,
   "id": "83b647b4",
   "metadata": {
    "execution": {
     "iopub.execute_input": "2022-06-30T18:50:40.678425Z",
     "iopub.status.busy": "2022-06-30T18:50:40.678149Z",
     "iopub.status.idle": "2022-06-30T18:51:03.222993Z",
     "shell.execute_reply": "2022-06-30T18:51:03.221852Z"
    },
    "papermill": {
     "duration": 22.557471,
     "end_time": "2022-06-30T18:51:03.225307",
     "exception": false,
     "start_time": "2022-06-30T18:50:40.667836",
     "status": "completed"
    },
    "tags": []
   },
   "outputs": [
    {
     "name": "stdout",
     "output_type": "stream",
     "text": [
      "With multimodal labels\n",
      "MVSA-Single: bert-base\n",
      "Early stopped at epoch: 13\n",
      "\n",
      "MVSA-Single: bert-pos-bow\n",
      "Early stopped at epoch: 13\n",
      "\n",
      "MVSA-Single: bert-pos-ner-bow\n",
      "Early stopped at epoch: 13\n",
      "\n",
      "MVSA-Single: bert-pos-tfidf\n",
      "Early stopped at epoch: 13\n",
      "\n",
      "MVSA-Single: bert-pos-ner-tfidf\n",
      "Early stopped at epoch: 13\n",
      "\n"
     ]
    }
   ],
   "source": [
    "print('With multimodal labels')\n",
    "\n",
    "# run model with all features data of MVSA-Single\n",
    "mvsa_single_hitories2 = []\n",
    "mvsa_single_score2 = []\n",
    "for i in range(len(feature_names)):\n",
    "    print('MVSA-Single:', feature_names[i])\n",
    "    history, scores = run_and_evaluate('single-' + feature_names[i], mvsa_single_features[i], mvsa_single_multimodal_labels, verbose=0)\n",
    "    mvsa_single_hitories2.append(history)\n",
    "    mvsa_single_score2.append(scores)\n",
    "    print()\n",
    "    \n",
    "df_single_scores2 = pd.DataFrame(mvsa_single_score2, columns=['Loss', 'Accuracy', 'F1-score'], index=feature_names)"
   ]
  },
  {
   "cell_type": "code",
   "execution_count": 23,
   "id": "6bbaff5b",
   "metadata": {
    "execution": {
     "iopub.execute_input": "2022-06-30T18:51:03.247214Z",
     "iopub.status.busy": "2022-06-30T18:51:03.246641Z",
     "iopub.status.idle": "2022-06-30T18:51:57.647551Z",
     "shell.execute_reply": "2022-06-30T18:51:57.646054Z"
    },
    "papermill": {
     "duration": 54.415048,
     "end_time": "2022-06-30T18:51:57.650726",
     "exception": false,
     "start_time": "2022-06-30T18:51:03.235678",
     "status": "completed"
    },
    "tags": []
   },
   "outputs": [
    {
     "name": "stdout",
     "output_type": "stream",
     "text": [
      "With multimodal labels\n",
      "MVSA-Multiple: bert-base\n",
      "Early stopped at epoch: 12\n",
      "\n",
      "MVSA-Multiple: bert-pos-bow\n",
      "Early stopped at epoch: 12\n",
      "\n",
      "MVSA-Multiple: bert-pos-ner-bow\n",
      "Early stopped at epoch: 12\n",
      "\n",
      "MVSA-Multiple: bert-pos-tfidf\n",
      "Early stopped at epoch: 12\n",
      "\n",
      "MVSA-Multiple: bert-pos-ner-tfidf\n",
      "Early stopped at epoch: 12\n",
      "\n"
     ]
    }
   ],
   "source": [
    "print('With multimodal labels')\n",
    "# run model with all features data of MVSA-Multiple\n",
    "mvsa_multiple_hitories2 = []\n",
    "mvsa_multiple_score2 = []\n",
    "for i in range(len(feature_names)):\n",
    "    print('MVSA-Multiple:', feature_names[i])\n",
    "    history, scores = run_and_evaluate('multiple-' + feature_names[i], mvsa_multiple_features[i], mvsa_multiple_multimodal_labels, verbose=0)\n",
    "    mvsa_multiple_hitories2.append(history)\n",
    "    mvsa_multiple_score2.append(scores)\n",
    "    print()\n",
    "    \n",
    "df_multiple_scores2 = pd.DataFrame(mvsa_multiple_score2, columns=['Loss', 'Accuracy', 'F1-score'], index=feature_names)"
   ]
  },
  {
   "cell_type": "code",
   "execution_count": 24,
   "id": "cd8d07ee",
   "metadata": {
    "execution": {
     "iopub.execute_input": "2022-06-30T18:51:57.673935Z",
     "iopub.status.busy": "2022-06-30T18:51:57.673370Z",
     "iopub.status.idle": "2022-06-30T18:51:57.679670Z",
     "shell.execute_reply": "2022-06-30T18:51:57.678814Z"
    },
    "papermill": {
     "duration": 0.019596,
     "end_time": "2022-06-30T18:51:57.681733",
     "exception": false,
     "start_time": "2022-06-30T18:51:57.662137",
     "status": "completed"
    },
    "tags": []
   },
   "outputs": [],
   "source": [
    "mvsa_average_scores2 = np.mean([mvsa_single_score2, mvsa_multiple_score2], axis=0)\n",
    "df_average_scores2 = pd.DataFrame(mvsa_average_scores2, columns=['Loss', 'Accuracy', 'F1-score'], index=feature_names)"
   ]
  },
  {
   "cell_type": "code",
   "execution_count": 25,
   "id": "8303f060",
   "metadata": {
    "execution": {
     "iopub.execute_input": "2022-06-30T18:51:57.702941Z",
     "iopub.status.busy": "2022-06-30T18:51:57.702673Z",
     "iopub.status.idle": "2022-06-30T18:51:57.742326Z",
     "shell.execute_reply": "2022-06-30T18:51:57.740925Z"
    },
    "papermill": {
     "duration": 0.052914,
     "end_time": "2022-06-30T18:51:57.744906",
     "exception": false,
     "start_time": "2022-06-30T18:51:57.691992",
     "status": "completed"
    },
    "tags": []
   },
   "outputs": [
    {
     "name": "stdout",
     "output_type": "stream",
     "text": [
      "With multimodal labels\n",
      "\n"
     ]
    },
    {
     "data": {
      "text/html": [
       "<table style=\"display:inline\"><tr><td style=\"text-align:center\">MVSA-Single</td><td style=\"text-align:center\">MVSA-Multiple</td><td style=\"text-align:center\">Average</td></tr><tr><td style=\"vertical-align:top\"> <style type=\"text/css\">\n",
       "#T_cc0a6_row0_col0, #T_cc0a6_row0_col2, #T_cc0a6_row2_col1 {\n",
       "  color: tomato;\n",
       "}\n",
       "#T_cc0a6_row1_col1, #T_cc0a6_row1_col2, #T_cc0a6_row4_col0 {\n",
       "  color: darkgreen;\n",
       "}\n",
       "</style>\n",
       "<table style=\"display:inline\" id=\"T_cc0a6_\">\n",
       "  <thead>\n",
       "    <tr>\n",
       "      <th class=\"blank level0\" >&nbsp;</th>\n",
       "      <th class=\"col_heading level0 col0\" >Loss</th>\n",
       "      <th class=\"col_heading level0 col1\" >Accuracy</th>\n",
       "      <th class=\"col_heading level0 col2\" >F1-score</th>\n",
       "    </tr>\n",
       "  </thead>\n",
       "  <tbody>\n",
       "    <tr>\n",
       "      <th id=\"T_cc0a6_level0_row0\" class=\"row_heading level0 row0\" >bert-base</th>\n",
       "      <td id=\"T_cc0a6_row0_col0\" class=\"data row0 col0\" >0.752630</td>\n",
       "      <td id=\"T_cc0a6_row0_col1\" class=\"data row0 col1\" >0.675174</td>\n",
       "      <td id=\"T_cc0a6_row0_col2\" class=\"data row0 col2\" >0.506405</td>\n",
       "    </tr>\n",
       "    <tr>\n",
       "      <th id=\"T_cc0a6_level0_row1\" class=\"row_heading level0 row1\" >bert-pos-bow</th>\n",
       "      <td id=\"T_cc0a6_row1_col0\" class=\"data row1 col0\" >0.747594</td>\n",
       "      <td id=\"T_cc0a6_row1_col1\" class=\"data row1 col1\" >0.691415</td>\n",
       "      <td id=\"T_cc0a6_row1_col2\" class=\"data row1 col2\" >0.528983</td>\n",
       "    </tr>\n",
       "    <tr>\n",
       "      <th id=\"T_cc0a6_level0_row2\" class=\"row_heading level0 row2\" >bert-pos-ner-bow</th>\n",
       "      <td id=\"T_cc0a6_row2_col0\" class=\"data row2 col0\" >0.740808</td>\n",
       "      <td id=\"T_cc0a6_row2_col1\" class=\"data row2 col1\" >0.670534</td>\n",
       "      <td id=\"T_cc0a6_row2_col2\" class=\"data row2 col2\" >0.509684</td>\n",
       "    </tr>\n",
       "    <tr>\n",
       "      <th id=\"T_cc0a6_level0_row3\" class=\"row_heading level0 row3\" >bert-pos-tfidf</th>\n",
       "      <td id=\"T_cc0a6_row3_col0\" class=\"data row3 col0\" >0.748026</td>\n",
       "      <td id=\"T_cc0a6_row3_col1\" class=\"data row3 col1\" >0.677494</td>\n",
       "      <td id=\"T_cc0a6_row3_col2\" class=\"data row3 col2\" >0.518530</td>\n",
       "    </tr>\n",
       "    <tr>\n",
       "      <th id=\"T_cc0a6_level0_row4\" class=\"row_heading level0 row4\" >bert-pos-ner-tfidf</th>\n",
       "      <td id=\"T_cc0a6_row4_col0\" class=\"data row4 col0\" >0.717518</td>\n",
       "      <td id=\"T_cc0a6_row4_col1\" class=\"data row4 col1\" >0.686775</td>\n",
       "      <td id=\"T_cc0a6_row4_col2\" class=\"data row4 col2\" >0.508679</td>\n",
       "    </tr>\n",
       "  </tbody>\n",
       "</table style=\"display:inline\">\n",
       "</td><td style=\"vertical-align:top\"> <style type=\"text/css\">\n",
       "#T_26005_row0_col1, #T_26005_row0_col2, #T_26005_row4_col0 {\n",
       "  color: tomato;\n",
       "}\n",
       "#T_26005_row2_col0, #T_26005_row3_col1, #T_26005_row3_col2 {\n",
       "  color: darkgreen;\n",
       "}\n",
       "</style>\n",
       "<table style=\"display:inline\" id=\"T_26005_\">\n",
       "  <thead>\n",
       "    <tr>\n",
       "      <th class=\"blank level0\" >&nbsp;</th>\n",
       "      <th class=\"col_heading level0 col0\" >Loss</th>\n",
       "      <th class=\"col_heading level0 col1\" >Accuracy</th>\n",
       "      <th class=\"col_heading level0 col2\" >F1-score</th>\n",
       "    </tr>\n",
       "  </thead>\n",
       "  <tbody>\n",
       "    <tr>\n",
       "      <th id=\"T_26005_level0_row0\" class=\"row_heading level0 row0\" >bert-base</th>\n",
       "      <td id=\"T_26005_row0_col0\" class=\"data row0 col0\" >0.772615</td>\n",
       "      <td id=\"T_26005_row0_col1\" class=\"data row0 col1\" >0.654457</td>\n",
       "      <td id=\"T_26005_row0_col2\" class=\"data row0 col2\" >0.438362</td>\n",
       "    </tr>\n",
       "    <tr>\n",
       "      <th id=\"T_26005_level0_row1\" class=\"row_heading level0 row1\" >bert-pos-bow</th>\n",
       "      <td id=\"T_26005_row1_col0\" class=\"data row1 col0\" >0.771116</td>\n",
       "      <td id=\"T_26005_row1_col1\" class=\"data row1 col1\" >0.657509</td>\n",
       "      <td id=\"T_26005_row1_col2\" class=\"data row1 col2\" >0.441000</td>\n",
       "    </tr>\n",
       "    <tr>\n",
       "      <th id=\"T_26005_level0_row2\" class=\"row_heading level0 row2\" >bert-pos-ner-bow</th>\n",
       "      <td id=\"T_26005_row2_col0\" class=\"data row2 col0\" >0.770156</td>\n",
       "      <td id=\"T_26005_row2_col1\" class=\"data row2 col1\" >0.658120</td>\n",
       "      <td id=\"T_26005_row2_col2\" class=\"data row2 col2\" >0.439741</td>\n",
       "    </tr>\n",
       "    <tr>\n",
       "      <th id=\"T_26005_level0_row3\" class=\"row_heading level0 row3\" >bert-pos-tfidf</th>\n",
       "      <td id=\"T_26005_row3_col0\" class=\"data row3 col0\" >0.772120</td>\n",
       "      <td id=\"T_26005_row3_col1\" class=\"data row3 col1\" >0.662393</td>\n",
       "      <td id=\"T_26005_row3_col2\" class=\"data row3 col2\" >0.452794</td>\n",
       "    </tr>\n",
       "    <tr>\n",
       "      <th id=\"T_26005_level0_row4\" class=\"row_heading level0 row4\" >bert-pos-ner-tfidf</th>\n",
       "      <td id=\"T_26005_row4_col0\" class=\"data row4 col0\" >0.773101</td>\n",
       "      <td id=\"T_26005_row4_col1\" class=\"data row4 col1\" >0.661783</td>\n",
       "      <td id=\"T_26005_row4_col2\" class=\"data row4 col2\" >0.448350</td>\n",
       "    </tr>\n",
       "  </tbody>\n",
       "</table style=\"display:inline\">\n",
       "</td><td style=\"vertical-align:top\"> <style type=\"text/css\">\n",
       "#T_17c0b_row0_col0, #T_17c0b_row0_col2, #T_17c0b_row2_col1 {\n",
       "  color: tomato;\n",
       "}\n",
       "#T_17c0b_row1_col1, #T_17c0b_row3_col2, #T_17c0b_row4_col0 {\n",
       "  color: darkgreen;\n",
       "}\n",
       "</style>\n",
       "<table style=\"display:inline\" id=\"T_17c0b_\">\n",
       "  <thead>\n",
       "    <tr>\n",
       "      <th class=\"blank level0\" >&nbsp;</th>\n",
       "      <th class=\"col_heading level0 col0\" >Loss</th>\n",
       "      <th class=\"col_heading level0 col1\" >Accuracy</th>\n",
       "      <th class=\"col_heading level0 col2\" >F1-score</th>\n",
       "    </tr>\n",
       "  </thead>\n",
       "  <tbody>\n",
       "    <tr>\n",
       "      <th id=\"T_17c0b_level0_row0\" class=\"row_heading level0 row0\" >bert-base</th>\n",
       "      <td id=\"T_17c0b_row0_col0\" class=\"data row0 col0\" >0.762623</td>\n",
       "      <td id=\"T_17c0b_row0_col1\" class=\"data row0 col1\" >0.664815</td>\n",
       "      <td id=\"T_17c0b_row0_col2\" class=\"data row0 col2\" >0.472383</td>\n",
       "    </tr>\n",
       "    <tr>\n",
       "      <th id=\"T_17c0b_level0_row1\" class=\"row_heading level0 row1\" >bert-pos-bow</th>\n",
       "      <td id=\"T_17c0b_row1_col0\" class=\"data row1 col0\" >0.759355</td>\n",
       "      <td id=\"T_17c0b_row1_col1\" class=\"data row1 col1\" >0.674462</td>\n",
       "      <td id=\"T_17c0b_row1_col2\" class=\"data row1 col2\" >0.484991</td>\n",
       "    </tr>\n",
       "    <tr>\n",
       "      <th id=\"T_17c0b_level0_row2\" class=\"row_heading level0 row2\" >bert-pos-ner-bow</th>\n",
       "      <td id=\"T_17c0b_row2_col0\" class=\"data row2 col0\" >0.755482</td>\n",
       "      <td id=\"T_17c0b_row2_col1\" class=\"data row2 col1\" >0.664327</td>\n",
       "      <td id=\"T_17c0b_row2_col2\" class=\"data row2 col2\" >0.474712</td>\n",
       "    </tr>\n",
       "    <tr>\n",
       "      <th id=\"T_17c0b_level0_row3\" class=\"row_heading level0 row3\" >bert-pos-tfidf</th>\n",
       "      <td id=\"T_17c0b_row3_col0\" class=\"data row3 col0\" >0.760073</td>\n",
       "      <td id=\"T_17c0b_row3_col1\" class=\"data row3 col1\" >0.669944</td>\n",
       "      <td id=\"T_17c0b_row3_col2\" class=\"data row3 col2\" >0.485662</td>\n",
       "    </tr>\n",
       "    <tr>\n",
       "      <th id=\"T_17c0b_level0_row4\" class=\"row_heading level0 row4\" >bert-pos-ner-tfidf</th>\n",
       "      <td id=\"T_17c0b_row4_col0\" class=\"data row4 col0\" >0.745310</td>\n",
       "      <td id=\"T_17c0b_row4_col1\" class=\"data row4 col1\" >0.674279</td>\n",
       "      <td id=\"T_17c0b_row4_col2\" class=\"data row4 col2\" >0.478514</td>\n",
       "    </tr>\n",
       "  </tbody>\n",
       "</table style=\"display:inline\">\n",
       "</td></tr></table style=\"display:inline\">"
      ]
     },
     "metadata": {},
     "output_type": "display_data"
    }
   ],
   "source": [
    "print('With multimodal labels\\n')\n",
    "display_dataframes((style_dataframe(df_single_scores2), style_dataframe(df_multiple_scores2), style_dataframe(df_average_scores2)), \n",
    "                   names=['MVSA-Single', 'MVSA-Multiple', 'Average'])"
   ]
  },
  {
   "cell_type": "markdown",
   "id": "b509fae6",
   "metadata": {
    "papermill": {
     "duration": 0.010474,
     "end_time": "2022-06-30T18:51:57.766489",
     "exception": false,
     "start_time": "2022-06-30T18:51:57.756015",
     "status": "completed"
    },
    "tags": []
   },
   "source": [
    "# With merge MVSA data"
   ]
  },
  {
   "cell_type": "code",
   "execution_count": 26,
   "id": "a5811eb3",
   "metadata": {
    "execution": {
     "iopub.execute_input": "2022-06-30T18:51:57.789496Z",
     "iopub.status.busy": "2022-06-30T18:51:57.789233Z",
     "iopub.status.idle": "2022-06-30T18:52:47.122506Z",
     "shell.execute_reply": "2022-06-30T18:52:47.121483Z"
    },
    "papermill": {
     "duration": 49.34689,
     "end_time": "2022-06-30T18:52:47.124617",
     "exception": false,
     "start_time": "2022-06-30T18:51:57.777727",
     "status": "completed"
    },
    "tags": []
   },
   "outputs": [
    {
     "name": "stdout",
     "output_type": "stream",
     "text": [
      "With original image labels\n",
      "Both MVSA: bert-base\n",
      "Early stopped at epoch: 13\n",
      "\n",
      "Both MVSA: bert-pos-bow\n",
      "Early stopped at epoch: 11\n",
      "\n",
      "Both MVSA: bert-pos-ner-bow\n",
      "Early stopped at epoch: 11\n",
      "\n",
      "Both MVSA: bert-pos-tfidf\n",
      "Early stopped at epoch: 11\n",
      "\n",
      "Both MVSA: bert-pos-ner-tfidf\n",
      "Early stopped at epoch: 11\n",
      "\n"
     ]
    }
   ],
   "source": [
    "print('With original image labels')\n",
    "mvsa_hitories3 = []\n",
    "mvsa_score3 = []\n",
    "for i in range(len(feature_names)):\n",
    "    print('Both MVSA:', feature_names[i])\n",
    "    history, scores = run_and_evaluate('single-' + feature_names[i], mvsa_features[i], mvsa_image_labels, verbose=0)\n",
    "    mvsa_hitories3.append(history)\n",
    "    mvsa_score3.append(scores)\n",
    "    print()\n",
    "    \n",
    "df_scores3 = pd.DataFrame(mvsa_score3, columns=['Loss', 'Accuracy', 'F1-score'], index=feature_names)"
   ]
  },
  {
   "cell_type": "code",
   "execution_count": 27,
   "id": "81b15503",
   "metadata": {
    "execution": {
     "iopub.execute_input": "2022-06-30T18:52:47.149908Z",
     "iopub.status.busy": "2022-06-30T18:52:47.149199Z",
     "iopub.status.idle": "2022-06-30T18:53:42.595380Z",
     "shell.execute_reply": "2022-06-30T18:53:42.594333Z"
    },
    "papermill": {
     "duration": 55.460658,
     "end_time": "2022-06-30T18:53:42.597571",
     "exception": false,
     "start_time": "2022-06-30T18:52:47.136913",
     "status": "completed"
    },
    "tags": []
   },
   "outputs": [
    {
     "name": "stdout",
     "output_type": "stream",
     "text": [
      "With multimodal labels\n",
      "Both MVSA: bert-base\n",
      "Early stopped at epoch: 13\n",
      "\n",
      "Both MVSA: bert-pos-bow\n",
      "Early stopped at epoch: 11\n",
      "\n",
      "Both MVSA: bert-pos-ner-bow\n",
      "Early stopped at epoch: 11\n",
      "\n",
      "Both MVSA: bert-pos-tfidf\n",
      "Early stopped at epoch: 13\n",
      "\n",
      "Both MVSA: bert-pos-ner-tfidf\n",
      "Early stopped at epoch: 11\n",
      "\n"
     ]
    }
   ],
   "source": [
    "print('With multimodal labels')\n",
    "mvsa_hitories4 = []\n",
    "mvsa_score4 = []\n",
    "for i in range(len(feature_names)):\n",
    "    print('Both MVSA:', feature_names[i])\n",
    "    history, scores = run_and_evaluate('single-' + feature_names[i], mvsa_features[i], mvsa_multimodal_labels, verbose=0)\n",
    "    mvsa_hitories4.append(history)\n",
    "    mvsa_score4.append(scores)\n",
    "    print()\n",
    "    \n",
    "df_scores4 = pd.DataFrame(mvsa_score4, columns=['Loss', 'Accuracy', 'F1-score'], index=feature_names)"
   ]
  },
  {
   "cell_type": "code",
   "execution_count": 28,
   "id": "03f5af5c",
   "metadata": {
    "execution": {
     "iopub.execute_input": "2022-06-30T18:53:42.623771Z",
     "iopub.status.busy": "2022-06-30T18:53:42.622997Z",
     "iopub.status.idle": "2022-06-30T18:53:42.657650Z",
     "shell.execute_reply": "2022-06-30T18:53:42.656805Z"
    },
    "papermill": {
     "duration": 0.049481,
     "end_time": "2022-06-30T18:53:42.659642",
     "exception": false,
     "start_time": "2022-06-30T18:53:42.610161",
     "status": "completed"
    },
    "tags": []
   },
   "outputs": [
    {
     "name": "stdout",
     "output_type": "stream",
     "text": [
      "With both MVSA merged together\n",
      "\n"
     ]
    },
    {
     "data": {
      "text/html": [
       "<table style=\"display:inline\"><tr><td style=\"text-align:center\">Original image labels</td><td style=\"text-align:center\">Multimodal labels</td></tr><tr><td style=\"vertical-align:top\"> <style type=\"text/css\">\n",
       "#T_5bd7b_row0_col0, #T_5bd7b_row1_col2, #T_5bd7b_row4_col1 {\n",
       "  color: tomato;\n",
       "}\n",
       "#T_5bd7b_row0_col2, #T_5bd7b_row3_col0, #T_5bd7b_row3_col1 {\n",
       "  color: darkgreen;\n",
       "}\n",
       "</style>\n",
       "<table style=\"display:inline\" id=\"T_5bd7b_\">\n",
       "  <thead>\n",
       "    <tr>\n",
       "      <th class=\"blank level0\" >&nbsp;</th>\n",
       "      <th class=\"col_heading level0 col0\" >Loss</th>\n",
       "      <th class=\"col_heading level0 col1\" >Accuracy</th>\n",
       "      <th class=\"col_heading level0 col2\" >F1-score</th>\n",
       "    </tr>\n",
       "  </thead>\n",
       "  <tbody>\n",
       "    <tr>\n",
       "      <th id=\"T_5bd7b_level0_row0\" class=\"row_heading level0 row0\" >bert-base</th>\n",
       "      <td id=\"T_5bd7b_row0_col0\" class=\"data row0 col0\" >0.832428</td>\n",
       "      <td id=\"T_5bd7b_row0_col1\" class=\"data row0 col1\" >0.590338</td>\n",
       "      <td id=\"T_5bd7b_row0_col2\" class=\"data row0 col2\" >0.445536</td>\n",
       "    </tr>\n",
       "    <tr>\n",
       "      <th id=\"T_5bd7b_level0_row1\" class=\"row_heading level0 row1\" >bert-pos-bow</th>\n",
       "      <td id=\"T_5bd7b_row1_col0\" class=\"data row1 col0\" >0.828371</td>\n",
       "      <td id=\"T_5bd7b_row1_col1\" class=\"data row1 col1\" >0.593237</td>\n",
       "      <td id=\"T_5bd7b_row1_col2\" class=\"data row1 col2\" >0.405761</td>\n",
       "    </tr>\n",
       "    <tr>\n",
       "      <th id=\"T_5bd7b_level0_row2\" class=\"row_heading level0 row2\" >bert-pos-ner-bow</th>\n",
       "      <td id=\"T_5bd7b_row2_col0\" class=\"data row2 col0\" >0.828184</td>\n",
       "      <td id=\"T_5bd7b_row2_col1\" class=\"data row2 col1\" >0.590821</td>\n",
       "      <td id=\"T_5bd7b_row2_col2\" class=\"data row2 col2\" >0.412519</td>\n",
       "    </tr>\n",
       "    <tr>\n",
       "      <th id=\"T_5bd7b_level0_row3\" class=\"row_heading level0 row3\" >bert-pos-tfidf</th>\n",
       "      <td id=\"T_5bd7b_row3_col0\" class=\"data row3 col0\" >0.826166</td>\n",
       "      <td id=\"T_5bd7b_row3_col1\" class=\"data row3 col1\" >0.597585</td>\n",
       "      <td id=\"T_5bd7b_row3_col2\" class=\"data row3 col2\" >0.418983</td>\n",
       "    </tr>\n",
       "    <tr>\n",
       "      <th id=\"T_5bd7b_level0_row4\" class=\"row_heading level0 row4\" >bert-pos-ner-tfidf</th>\n",
       "      <td id=\"T_5bd7b_row4_col0\" class=\"data row4 col0\" >0.827540</td>\n",
       "      <td id=\"T_5bd7b_row4_col1\" class=\"data row4 col1\" >0.588889</td>\n",
       "      <td id=\"T_5bd7b_row4_col2\" class=\"data row4 col2\" >0.411790</td>\n",
       "    </tr>\n",
       "  </tbody>\n",
       "</table style=\"display:inline\">\n",
       "</td><td style=\"vertical-align:top\"> <style type=\"text/css\">\n",
       "#T_afc7c_row0_col1, #T_afc7c_row2_col0, #T_afc7c_row2_col2 {\n",
       "  color: tomato;\n",
       "}\n",
       "#T_afc7c_row1_col1, #T_afc7c_row3_col0, #T_afc7c_row3_col2 {\n",
       "  color: darkgreen;\n",
       "}\n",
       "</style>\n",
       "<table style=\"display:inline\" id=\"T_afc7c_\">\n",
       "  <thead>\n",
       "    <tr>\n",
       "      <th class=\"blank level0\" >&nbsp;</th>\n",
       "      <th class=\"col_heading level0 col0\" >Loss</th>\n",
       "      <th class=\"col_heading level0 col1\" >Accuracy</th>\n",
       "      <th class=\"col_heading level0 col2\" >F1-score</th>\n",
       "    </tr>\n",
       "  </thead>\n",
       "  <tbody>\n",
       "    <tr>\n",
       "      <th id=\"T_afc7c_level0_row0\" class=\"row_heading level0 row0\" >bert-base</th>\n",
       "      <td id=\"T_afc7c_row0_col0\" class=\"data row0 col0\" >0.764947</td>\n",
       "      <td id=\"T_afc7c_row0_col1\" class=\"data row0 col1\" >0.673913</td>\n",
       "      <td id=\"T_afc7c_row0_col2\" class=\"data row0 col2\" >0.459577</td>\n",
       "    </tr>\n",
       "    <tr>\n",
       "      <th id=\"T_afc7c_level0_row1\" class=\"row_heading level0 row1\" >bert-pos-bow</th>\n",
       "      <td id=\"T_afc7c_row1_col0\" class=\"data row1 col0\" >0.769999</td>\n",
       "      <td id=\"T_afc7c_row1_col1\" class=\"data row1 col1\" >0.683092</td>\n",
       "      <td id=\"T_afc7c_row1_col2\" class=\"data row1 col2\" >0.417592</td>\n",
       "    </tr>\n",
       "    <tr>\n",
       "      <th id=\"T_afc7c_level0_row2\" class=\"row_heading level0 row2\" >bert-pos-ner-bow</th>\n",
       "      <td id=\"T_afc7c_row2_col0\" class=\"data row2 col0\" >0.778128</td>\n",
       "      <td id=\"T_afc7c_row2_col1\" class=\"data row2 col1\" >0.681643</td>\n",
       "      <td id=\"T_afc7c_row2_col2\" class=\"data row2 col2\" >0.406532</td>\n",
       "    </tr>\n",
       "    <tr>\n",
       "      <th id=\"T_afc7c_level0_row3\" class=\"row_heading level0 row3\" >bert-pos-tfidf</th>\n",
       "      <td id=\"T_afc7c_row3_col0\" class=\"data row3 col0\" >0.764610</td>\n",
       "      <td id=\"T_afc7c_row3_col1\" class=\"data row3 col1\" >0.677778</td>\n",
       "      <td id=\"T_afc7c_row3_col2\" class=\"data row3 col2\" >0.470799</td>\n",
       "    </tr>\n",
       "    <tr>\n",
       "      <th id=\"T_afc7c_level0_row4\" class=\"row_heading level0 row4\" >bert-pos-ner-tfidf</th>\n",
       "      <td id=\"T_afc7c_row4_col0\" class=\"data row4 col0\" >0.768630</td>\n",
       "      <td id=\"T_afc7c_row4_col1\" class=\"data row4 col1\" >0.676328</td>\n",
       "      <td id=\"T_afc7c_row4_col2\" class=\"data row4 col2\" >0.467827</td>\n",
       "    </tr>\n",
       "  </tbody>\n",
       "</table style=\"display:inline\">\n",
       "</td></tr></table style=\"display:inline\">"
      ]
     },
     "metadata": {},
     "output_type": "display_data"
    }
   ],
   "source": [
    "print('With both MVSA merged together\\n')\n",
    "display_dataframes((style_dataframe(df_scores3), style_dataframe(df_scores4)), \n",
    "                   names=['Original image labels', 'Multimodal labels'])"
   ]
  }
 ],
 "metadata": {
  "kernelspec": {
   "display_name": "Python 3",
   "language": "python",
   "name": "python3"
  },
  "language_info": {
   "codemirror_mode": {
    "name": "ipython",
    "version": 3
   },
   "file_extension": ".py",
   "mimetype": "text/x-python",
   "name": "python",
   "nbconvert_exporter": "python",
   "pygments_lexer": "ipython3",
   "version": "3.7.12"
  },
  "papermill": {
   "default_parameters": {},
   "duration": 279.520804,
   "end_time": "2022-06-30T18:53:45.697117",
   "environment_variables": {},
   "exception": null,
   "input_path": "__notebook__.ipynb",
   "output_path": "__notebook__.ipynb",
   "parameters": {},
   "start_time": "2022-06-30T18:49:06.176313",
   "version": "2.3.4"
  }
 },
 "nbformat": 4,
 "nbformat_minor": 5
}
