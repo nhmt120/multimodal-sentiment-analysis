{
 "cells": [
  {
   "cell_type": "code",
   "execution_count": 1,
   "id": "05d4682f",
   "metadata": {
    "_cell_guid": "b1076dfc-b9ad-4769-8c92-a6c4dae69d19",
    "_uuid": "8f2839f25d086af736a60e9eeb907d3b93b6e0e5",
    "execution": {
     "iopub.execute_input": "2022-07-13T17:20:52.813384Z",
     "iopub.status.busy": "2022-07-13T17:20:52.812842Z",
     "iopub.status.idle": "2022-07-13T17:21:02.223077Z",
     "shell.execute_reply": "2022-07-13T17:21:02.222109Z"
    },
    "papermill": {
     "duration": 9.424719,
     "end_time": "2022-07-13T17:21:02.225642",
     "exception": false,
     "start_time": "2022-07-13T17:20:52.800923",
     "status": "completed"
    },
    "tags": []
   },
   "outputs": [],
   "source": [
    "SEED = 61\n",
    "\n",
    "\n",
    "import os\n",
    "import re\n",
    "import gc\n",
    "import h5py\n",
    "import torch\n",
    "import string\n",
    "import numpy as np\n",
    "import pandas as pd\n",
    "import tensorflow as tf\n",
    "import random as python_random\n",
    "import matplotlib.pyplot as plt\n",
    "import tensorflow_addons as tfa\n",
    "\n",
    "from tqdm import tqdm\n",
    "from nltk import tokenize\n",
    "\n",
    "from sklearn import preprocessing\n",
    "from sklearn.decomposition import PCA\n",
    "from imblearn.over_sampling import SMOTE\n",
    "from imblearn.over_sampling import BorderlineSMOTE\n",
    "from keras import backend as K\n",
    "from keras import initializers,regularizers,constraints\n",
    "from keras.preprocessing.text import Tokenizer, text_to_word_sequence\n",
    "from keras.preprocessing.sequence import pad_sequences\n",
    "from keras.utils.np_utils import to_categorical\n",
    "from keras.layers import Reshape, Input, Embedding, Flatten, Dense, Dropout, BatchNormalization, Activation #, merge\n",
    "from keras.layers import TimeDistributed, LSTM, GRU, Bidirectional, Convolution1D, MaxPooling1D, MaxPooling2D\n",
    "from keras.layers.core import RepeatVector, Reshape\n",
    "from keras.callbacks import ModelCheckpoint, EarlyStopping, ReduceLROnPlateau\n",
    "from keras.models import Sequential, Model, load_model\n",
    "from sklearn.model_selection import cross_val_score\n",
    "from keras.initializers import Constant\n",
    "\n",
    "def reset_seeds():\n",
    "    np.random.seed(SEED) \n",
    "    python_random.seed(SEED)\n",
    "    tf.random.set_seed(SEED)\n",
    "    os.environ[\"PYTHONHASHSEED\"] = str(SEED)\n",
    "\n",
    "# from tensorflow.python.keras.layers import Layer, InputSpec, Lambda\n",
    "# from tensorflow.keras import Model\n",
    "# from attention import Attention_input1, Attention_input2\n",
    "# from keras.optimizers import SGD, RMSprop, Adagrad"
   ]
  },
  {
   "cell_type": "code",
   "execution_count": 2,
   "id": "76ab1ed1",
   "metadata": {
    "execution": {
     "iopub.execute_input": "2022-07-13T17:21:02.246160Z",
     "iopub.status.busy": "2022-07-13T17:21:02.245041Z",
     "iopub.status.idle": "2022-07-13T17:21:02.253684Z",
     "shell.execute_reply": "2022-07-13T17:21:02.252771Z"
    },
    "papermill": {
     "duration": 0.020749,
     "end_time": "2022-07-13T17:21:02.255705",
     "exception": false,
     "start_time": "2022-07-13T17:21:02.234956",
     "status": "completed"
    },
    "tags": []
   },
   "outputs": [],
   "source": [
    "def read_hdf5(path):\n",
    "    read_file = h5py.File(path, 'r')\n",
    "    \n",
    "    feature_names = list(read_file.keys())\n",
    "    loaded_data = []\n",
    "    \n",
    "    for name in feature_names:\n",
    "        dataset = read_file[name][:]\n",
    "        if dataset.dtype == np.dtype('object'):\n",
    "            dataset = np.array([x.decode('UTF-8') for x in dataset])            \n",
    "        loaded_data.append((name, dataset))\n",
    "\n",
    "    return loaded_data\n",
    "\n",
    "def loadz(path):\n",
    "    data = np.load(path)['arr_0']\n",
    "    return data"
   ]
  },
  {
   "cell_type": "code",
   "execution_count": 3,
   "id": "96092f42",
   "metadata": {
    "execution": {
     "iopub.execute_input": "2022-07-13T17:21:02.274807Z",
     "iopub.status.busy": "2022-07-13T17:21:02.274548Z",
     "iopub.status.idle": "2022-07-13T17:21:02.287223Z",
     "shell.execute_reply": "2022-07-13T17:21:02.286397Z"
    },
    "papermill": {
     "duration": 0.024427,
     "end_time": "2022-07-13T17:21:02.289082",
     "exception": false,
     "start_time": "2022-07-13T17:21:02.264655",
     "status": "completed"
    },
    "tags": []
   },
   "outputs": [],
   "source": [
    "def merge_mvsa(mvsa_single, mvsa_multiple):\n",
    "    mvsa = np.concatenate((mvsa_single, mvsa_multiple), axis=0)\n",
    "    return mvsa\n",
    "\n",
    "def load_mvsa_feature(feature_name, merge=False):\n",
    "    folder_path = os.path.join('../input/mvsa-features/', feature_name)\n",
    "    single_file = 'mvsa-single-{}.npz'.format(feature_name)\n",
    "    multiple_file = 'mvsa-multiple-{}.npz'.format(feature_name)\n",
    "    mvsa_single = loadz(os.path.join(folder_path, single_file))\n",
    "    mvsa_multiple = loadz(os.path.join(folder_path, multiple_file))\n",
    "    \n",
    "    if merge == True:\n",
    "        return merge_mvsa(mvsa_single, mvsa_multiple)\n",
    "    \n",
    "    return mvsa_single, mvsa_multiple\n",
    "\n",
    "def load_mvsa_texts(merge=False):\n",
    "    folder_path = '../input/mvsa-data'\n",
    "    file_paths = os.listdir(folder_path)\n",
    "    for path in file_paths:\n",
    "        file_name = os.path.split(path)[1]\n",
    "        if file_name.split('.')[1] == 'hdf5':\n",
    "            if file_name.split('-')[1] == 'single':\n",
    "                mvsa_single_texts_path = os.path.join(folder_path, path)\n",
    "            else:\n",
    "                mvsa_multiple_texts_path = os.path.join(folder_path, path)\n",
    "    \n",
    "    mvsa_single = read_hdf5(mvsa_single_texts_path)\n",
    "    mvsa_multiple = read_hdf5(mvsa_multiple_texts_path)\n",
    "    \n",
    "    for x in mvsa_single:\n",
    "        if x[0] == 'texts':\n",
    "            mvsa_single_texts = x[1]\n",
    "            \n",
    "    for x in mvsa_multiple:\n",
    "        if x[0] == 'texts':\n",
    "            mvsa_multiple_texts = x[1]\n",
    "    \n",
    "    if merge == True:\n",
    "        return merge_mvsa(mvsa_single_texts, mvsa_multiple_texts)\n",
    "    \n",
    "    return mvsa_single_texts, mvsa_multiple_texts\n",
    "\n",
    "def load_labels(path):\n",
    "    data = read_hdf5(path)\n",
    "\n",
    "    for x in data:\n",
    "        if x[0] == 'multimodal-labels':\n",
    "            labels = x[1]\n",
    "        if x[0] == 'text-labels':\n",
    "            text_labels = x[1]\n",
    "        if x[0] == 'image-labels':\n",
    "            image_labels = x[1]\n",
    "        \n",
    "    return labels, text_labels, image_labels"
   ]
  },
  {
   "cell_type": "code",
   "execution_count": 4,
   "id": "54e52ff9",
   "metadata": {
    "execution": {
     "iopub.execute_input": "2022-07-13T17:21:02.318052Z",
     "iopub.status.busy": "2022-07-13T17:21:02.317286Z",
     "iopub.status.idle": "2022-07-13T17:21:02.325447Z",
     "shell.execute_reply": "2022-07-13T17:21:02.324543Z"
    },
    "papermill": {
     "duration": 0.024537,
     "end_time": "2022-07-13T17:21:02.327304",
     "exception": false,
     "start_time": "2022-07-13T17:21:02.302767",
     "status": "completed"
    },
    "tags": []
   },
   "outputs": [],
   "source": [
    "def clean_text(txt):\n",
    "#     nonEnglish_regex = re.compile('[^a-zA-Z0-9\\\\?\\\\!\\\\,\\\\.@#\\\\+\\\\-=\\\\*\\'\\\"><&\\\\$%\\\\(\\\\)\\\\[\\\\]:;]+')\n",
    "#     hashtag_pattern = re.compile('#[a-zA-Z0-9]+')\n",
    "#     txt_hashtag = re.sub(hashtag_pattern, '', txt)\n",
    "    at_pattern = re.compile('@[a-zA-Z0-9]+')\n",
    "    http_pattern = re.compile(\"((http|ftp|https)://)(([a-zA-Z0-9\\._-]+\\.[a-zA-Z]{2,6})|([0-9]{1,3}\\.[0-9]{1,3}\\.[0-9]{1,3}\\.[0-9]{1,3}))(:[0-9]{1,4})*(/[a-zA-Z0-9\\&%_\\./-~-]*)?\")\n",
    "    punc_pattern = re.compile('[%s]' % re.escape(string.punctuation))\n",
    "    txt = re.sub('#', '', txt)\n",
    "    txt = re.sub(at_pattern, 'user', txt)\n",
    "    txt = re.sub(http_pattern, 'link', txt)\n",
    "    txt = re.sub(punc_pattern, '', txt) # only remove punc for word2vec not BERT\n",
    "\n",
    "    # as the data was crawled using Twitter API, it marked retweet data with RT <user> tag which has no meaning considering it in training\n",
    "    if txt.startswith('RT user'):\n",
    "        txt = ''.join(txt.split(':')[1:])    \n",
    "    txt = txt.strip()\n",
    "    \n",
    "    return txt\n",
    "\n",
    "def get_clean_texts(data):\n",
    "    cleaned_data = []\n",
    "    for line in data:\n",
    "        text = clean_text(line)\n",
    "        cleaned_data.append(text)\n",
    "    return cleaned_data"
   ]
  },
  {
   "cell_type": "code",
   "execution_count": 5,
   "id": "057cd8d4",
   "metadata": {
    "execution": {
     "iopub.execute_input": "2022-07-13T17:21:02.346634Z",
     "iopub.status.busy": "2022-07-13T17:21:02.346321Z",
     "iopub.status.idle": "2022-07-13T17:21:02.357349Z",
     "shell.execute_reply": "2022-07-13T17:21:02.356536Z"
    },
    "papermill": {
     "duration": 0.023129,
     "end_time": "2022-07-13T17:21:02.359208",
     "exception": false,
     "start_time": "2022-07-13T17:21:02.336079",
     "status": "completed"
    },
    "tags": []
   },
   "outputs": [],
   "source": [
    "def plot_metrics(history):\n",
    "    fig = plt.figure(figsize=(20, 5))\n",
    "\n",
    "    fig.add_subplot(1, 4, 1)\n",
    "    plt.plot(history.history['loss'])\n",
    "    plt.plot(history.history['val_loss'])\n",
    "    plt.title('LOSS')\n",
    "    plt.ylabel('loss')\n",
    "    plt.xlabel('epoch')\n",
    "    plt.legend(['train', 'val'], loc='best')\n",
    "\n",
    "    fig.add_subplot(1, 4, 2)\n",
    "    plt.plot(history.history['accuracy'])\n",
    "    plt.plot(history.history['val_accuracy'])\n",
    "    plt.title('ACCURACY')\n",
    "    plt.ylabel('accuracy')\n",
    "    plt.xlabel('epoch')\n",
    "    plt.legend(['train', 'val'], loc='best')\n",
    "\n",
    "    fig.add_subplot(1, 4, 3)\n",
    "    plt.plot(history.history['f1_macro'])\n",
    "    plt.plot(history.history['val_f1_macro'])\n",
    "    plt.title('Macro F1-SCORE')\n",
    "    plt.ylabel('f1-macro')\n",
    "    plt.xlabel('epoch')\n",
    "    plt.legend(['train', 'val'], loc='best')\n",
    "    \n",
    "    fig.add_subplot(1, 4, 4)\n",
    "    plt.plot(history.history['f1_weighted'])\n",
    "    plt.plot(history.history['val_f1_weighted'])\n",
    "    plt.title('Weighted F1-SCORE')\n",
    "    plt.ylabel('f1-weighted')\n",
    "    plt.xlabel('epoch')\n",
    "    plt.legend(['train', 'val'], loc='best')\n",
    "\n",
    "    plt.show()"
   ]
  },
  {
   "cell_type": "code",
   "execution_count": 6,
   "id": "bd156962",
   "metadata": {
    "execution": {
     "iopub.execute_input": "2022-07-13T17:21:02.377965Z",
     "iopub.status.busy": "2022-07-13T17:21:02.377715Z",
     "iopub.status.idle": "2022-07-13T17:21:02.383266Z",
     "shell.execute_reply": "2022-07-13T17:21:02.382099Z"
    },
    "papermill": {
     "duration": 0.017336,
     "end_time": "2022-07-13T17:21:02.385294",
     "exception": false,
     "start_time": "2022-07-13T17:21:02.367958",
     "status": "completed"
    },
    "tags": []
   },
   "outputs": [],
   "source": [
    "# e.g. validation_split=0.1 -----> 8:1:1 ratio of train, val, test\n",
    "def split_data(data, validation_split):\n",
    "    num_val = int(validation_split * data.shape[0])\n",
    "    data_train = data[:-(num_val*2)]\n",
    "    data_val = data[-(num_val*2):-(num_val)]\n",
    "    data_test = data[-num_val:]\n",
    "    return data_train, data_val, data_test"
   ]
  },
  {
   "cell_type": "code",
   "execution_count": 7,
   "id": "edae76ae",
   "metadata": {
    "execution": {
     "iopub.execute_input": "2022-07-13T17:21:02.403815Z",
     "iopub.status.busy": "2022-07-13T17:21:02.403567Z",
     "iopub.status.idle": "2022-07-13T17:21:02.410998Z",
     "shell.execute_reply": "2022-07-13T17:21:02.410089Z"
    },
    "papermill": {
     "duration": 0.019295,
     "end_time": "2022-07-13T17:21:02.413279",
     "exception": false,
     "start_time": "2022-07-13T17:21:02.393984",
     "status": "completed"
    },
    "tags": []
   },
   "outputs": [],
   "source": [
    "def create_model_text(input_shape):\n",
    "    f1_macro = tfa.metrics.F1Score(num_classes=NUM_CLASSES, average='macro', name='f1_macro')\n",
    "    f1_weighted = tfa.metrics.F1Score(num_classes=NUM_CLASSES, average='weighted', name='f1_weighted')\n",
    "    \n",
    "    text_input = Input(shape=input_shape)\n",
    "    reshape_text = Reshape((1, -1)) (text_input)\n",
    "    lstm = LSTM(NUM_LSTM) (reshape_text)\n",
    "    outputs = Dense(NUM_CLASSES, activation='softmax') (lstm)\n",
    "    \n",
    "    model = Model(text_input, outputs)\n",
    "    model.compile(optimizer='adam', loss='categorical_crossentropy', metrics=['accuracy', f1_macro, f1_weighted])\n",
    "    \n",
    "    return model"
   ]
  },
  {
   "cell_type": "code",
   "execution_count": 8,
   "id": "15857b6b",
   "metadata": {
    "execution": {
     "iopub.execute_input": "2022-07-13T17:21:02.432234Z",
     "iopub.status.busy": "2022-07-13T17:21:02.431968Z",
     "iopub.status.idle": "2022-07-13T17:21:02.438262Z",
     "shell.execute_reply": "2022-07-13T17:21:02.437393Z"
    },
    "papermill": {
     "duration": 0.018059,
     "end_time": "2022-07-13T17:21:02.440328",
     "exception": false,
     "start_time": "2022-07-13T17:21:02.422269",
     "status": "completed"
    },
    "tags": []
   },
   "outputs": [],
   "source": [
    "def evaluate_model(model, X_test, y_test, checkpoint=None, verbose=1):\n",
    "    if checkpoint is not None:\n",
    "        model = load_model('./model_checkpoint/{}.h5'.format(checkpoint))\n",
    "    \n",
    "    loss, acc, f1_macro, f1_weighted = model.evaluate(X_test, y_test, verbose=verbose)\n",
    "    \n",
    "    if verbose == 1:\n",
    "        print('Loss:', loss)\n",
    "        print('Accuracy:', acc)\n",
    "        print('Macro F1-score:', f1_macro)\n",
    "        print('Weighted F1-score:', f1_weighted)\n",
    "        \n",
    "    return loss, acc, f1_macro, f1_weighted"
   ]
  },
  {
   "cell_type": "code",
   "execution_count": 9,
   "id": "233890ab",
   "metadata": {
    "execution": {
     "iopub.execute_input": "2022-07-13T17:21:02.459464Z",
     "iopub.status.busy": "2022-07-13T17:21:02.459193Z",
     "iopub.status.idle": "2022-07-13T17:21:02.468905Z",
     "shell.execute_reply": "2022-07-13T17:21:02.467918Z"
    },
    "papermill": {
     "duration": 0.021511,
     "end_time": "2022-07-13T17:21:02.471230",
     "exception": false,
     "start_time": "2022-07-13T17:21:02.449719",
     "status": "completed"
    },
    "tags": []
   },
   "outputs": [],
   "source": [
    "def run_and_evaluate(name, X, y, verbose=0):\n",
    "    y = le.fit_transform(y)\n",
    "    y = to_categorical(np.asarray(y))\n",
    "\n",
    "    random_idx = np.random.permutation(len(y))\n",
    "    X, y = X[random_idx], y[random_idx]\n",
    "\n",
    "    X_train, X_val, X_test = split_data(X, VALIDATION_SPLIT)\n",
    "    y_train, y_val, y_test = split_data(y, VALIDATION_SPLIT)\n",
    "    \n",
    "    oversample = BorderlineSMOTE(sampling_strategy='minority', random_state=SEED, kind='borderline-2')\n",
    "#     oversample = SMOTE(sampling_strategy='minority', random_state=SEED)\n",
    "    X_train, y_train = oversample.fit_resample(X_train, y_train)\n",
    "    \n",
    "    model = create_model_text(X_train.shape[1:])\n",
    "    early_stopping = EarlyStopping(monitor='val_loss', min_delta=1e-4, patience=EARLY_STOPPING)\n",
    "    checkpoint = ModelCheckpoint('./model_checkpoint/{}.h5'.format(name), save_best_only=True, verbose=verbose)\n",
    "    \n",
    "    history = model.fit(X_train, y_train, validation_data=(X_val, y_val), \n",
    "                        epochs=EPOCHS, batch_size=BATCH_SIZE, verbose=verbose,\n",
    "                        callbacks=[checkpoint, early_stopping])\n",
    "    if verbose == 1:\n",
    "        best_epoch = np.argmin(history.history['val_loss'])\n",
    "        print('Checkpoint loaded at epoch:', best_epoch)\n",
    "    \n",
    "    return history, evaluate_model(model, X_test, y_test, checkpoint=name, verbose=verbose)"
   ]
  },
  {
   "cell_type": "code",
   "execution_count": 10,
   "id": "53c4ec08",
   "metadata": {
    "execution": {
     "iopub.execute_input": "2022-07-13T17:21:02.490622Z",
     "iopub.status.busy": "2022-07-13T17:21:02.490335Z",
     "iopub.status.idle": "2022-07-13T17:21:02.500761Z",
     "shell.execute_reply": "2022-07-13T17:21:02.499869Z"
    },
    "papermill": {
     "duration": 0.021948,
     "end_time": "2022-07-13T17:21:02.502765",
     "exception": false,
     "start_time": "2022-07-13T17:21:02.480817",
     "status": "completed"
    },
    "tags": []
   },
   "outputs": [],
   "source": [
    "def run_and_evaluate_w2v(name, X, y, verbose=0):\n",
    "    y = le.fit_transform(y)\n",
    "    y = to_categorical(np.asarray(y))\n",
    "    \n",
    "    random_idx = np.random.permutation(len(y))\n",
    "    X, y = X[random_idx], y[random_idx]\n",
    "\n",
    "    X_train, X_val, X_test = split_data(X, VALIDATION_SPLIT)\n",
    "    y_train, y_val, y_test = split_data(y, VALIDATION_SPLIT)\n",
    "    \n",
    "    oversample = BorderlineSMOTE(sampling_strategy='minority', random_state=SEED, kind='borderline-2')\n",
    "#     oversample = SMOTE(sampling_strategy='minority', random_state=SEED)\n",
    "    X_train, y_train = oversample.fit_resample(X_train, y_train)\n",
    "    \n",
    "    model = create_model_text_w2v(X_train.shape[1:])\n",
    "    early_stopping = EarlyStopping(monitor='val_loss', min_delta=1e-4, patience=EARLY_STOPPING)\n",
    "    checkpoint = ModelCheckpoint('./model_checkpoint/{}.h5'.format(name), save_best_only=True, verbose=verbose)\n",
    "    \n",
    "    history = model.fit(X_train, y_train, validation_data=(X_val, y_val), \n",
    "                        epochs=EPOCHS, batch_size=BATCH_SIZE, verbose=verbose,\n",
    "                        callbacks=[checkpoint, early_stopping])\n",
    "    \n",
    "    if verbose == 1:\n",
    "        best_epoch = np.argmin(history.history['val_loss'])\n",
    "        print('Checkpoint loaded at epoch:', best_epoch)\n",
    "    \n",
    "    return history, evaluate_model(model, X_test, y_test, checkpoint=name, verbose=verbose)"
   ]
  },
  {
   "cell_type": "code",
   "execution_count": 11,
   "id": "5c1af86e",
   "metadata": {
    "execution": {
     "iopub.execute_input": "2022-07-13T17:21:02.521489Z",
     "iopub.status.busy": "2022-07-13T17:21:02.521216Z",
     "iopub.status.idle": "2022-07-13T17:21:02.526751Z",
     "shell.execute_reply": "2022-07-13T17:21:02.525829Z"
    },
    "papermill": {
     "duration": 0.016931,
     "end_time": "2022-07-13T17:21:02.528702",
     "exception": false,
     "start_time": "2022-07-13T17:21:02.511771",
     "status": "completed"
    },
    "tags": []
   },
   "outputs": [],
   "source": [
    "def style_dataframe(dataframe):\n",
    "    return dataframe.style.highlight_max(subset=['Accuracy', 'F1-macro', 'F1-weighted'], props='color:lawngreen', axis=0)\\\n",
    "                          .highlight_min(subset=['Accuracy', 'F1-macro', 'F1-weighted'], props='color:tomato', axis=0)\\\n",
    "                          .highlight_min(subset=['Loss'], props='color:lawngreen', axis=0)\\\n",
    "                          .highlight_max(subset=['Loss'], props='color:tomato', axis=0)"
   ]
  },
  {
   "cell_type": "code",
   "execution_count": 12,
   "id": "bd52a0cf",
   "metadata": {
    "execution": {
     "iopub.execute_input": "2022-07-13T17:21:02.547798Z",
     "iopub.status.busy": "2022-07-13T17:21:02.546962Z",
     "iopub.status.idle": "2022-07-13T17:21:02.554840Z",
     "shell.execute_reply": "2022-07-13T17:21:02.553876Z"
    },
    "papermill": {
     "duration": 0.019441,
     "end_time": "2022-07-13T17:21:02.556849",
     "exception": false,
     "start_time": "2022-07-13T17:21:02.537408",
     "status": "completed"
    },
    "tags": []
   },
   "outputs": [],
   "source": [
    "from IPython.display import display_html\n",
    "\n",
    "def display_dataframes(dfs, names=[], index=False):\n",
    "    def to_df(x):\n",
    "        if isinstance(x, pd.Series):\n",
    "            return pd.DataFrame(x)\n",
    "        else:\n",
    "            return x\n",
    "    html_str = ''\n",
    "    if names:\n",
    "        html_str += ('<tr>' + \n",
    "                     ''.join(f'<td style=\"text-align:center\">{name}</td>' for name in names) + \n",
    "                     '</tr>')\n",
    "    html_str += ('<tr>' + \n",
    "                 ''.join(f'<td style=\"vertical-align:top\"> {to_df(df).to_html()}</td>' \n",
    "                         for df in dfs) + \n",
    "                 '</tr>')\n",
    "    html_str = f'<table>{html_str}</table>'\n",
    "    html_str = html_str.replace('table','table style=\"display:inline\"')\n",
    "    display_html(html_str, raw=True)"
   ]
  },
  {
   "cell_type": "markdown",
   "id": "14d50b45",
   "metadata": {
    "papermill": {
     "duration": 0.008326,
     "end_time": "2022-07-13T17:21:02.574343",
     "exception": false,
     "start_time": "2022-07-13T17:21:02.566017",
     "status": "completed"
    },
    "tags": []
   },
   "source": [
    "# Load GloVe"
   ]
  },
  {
   "cell_type": "code",
   "execution_count": 13,
   "id": "d2ca3c15",
   "metadata": {
    "execution": {
     "iopub.execute_input": "2022-07-13T17:21:02.593599Z",
     "iopub.status.busy": "2022-07-13T17:21:02.592954Z",
     "iopub.status.idle": "2022-07-13T17:21:02.596963Z",
     "shell.execute_reply": "2022-07-13T17:21:02.596084Z"
    },
    "papermill": {
     "duration": 0.015761,
     "end_time": "2022-07-13T17:21:02.598888",
     "exception": false,
     "start_time": "2022-07-13T17:21:02.583127",
     "status": "completed"
    },
    "tags": []
   },
   "outputs": [],
   "source": [
    "MAX_LENGTH = 280 # as in twitter'S word limit\n",
    "path_to_glove_file = '../input/glovetwitter27b100d/glove.twitter.27B.100d.txt'"
   ]
  },
  {
   "cell_type": "code",
   "execution_count": 14,
   "id": "05d3c3fd",
   "metadata": {
    "execution": {
     "iopub.execute_input": "2022-07-13T17:21:02.618388Z",
     "iopub.status.busy": "2022-07-13T17:21:02.617405Z",
     "iopub.status.idle": "2022-07-13T17:21:03.313612Z",
     "shell.execute_reply": "2022-07-13T17:21:03.312602Z"
    },
    "papermill": {
     "duration": 0.708522,
     "end_time": "2022-07-13T17:21:03.316212",
     "exception": false,
     "start_time": "2022-07-13T17:21:02.607690",
     "status": "completed"
    },
    "tags": []
   },
   "outputs": [],
   "source": [
    "mvsa_single_texts, mvsa_multiple_texts = load_mvsa_texts()\n",
    "\n",
    "mvsa_single_texts = get_clean_texts(mvsa_single_texts)\n",
    "mvsa_multiple_texts = get_clean_texts(mvsa_multiple_texts)"
   ]
  },
  {
   "cell_type": "code",
   "execution_count": 15,
   "id": "a80af6e0",
   "metadata": {
    "execution": {
     "iopub.execute_input": "2022-07-13T17:21:03.336813Z",
     "iopub.status.busy": "2022-07-13T17:21:03.335234Z",
     "iopub.status.idle": "2022-07-13T17:21:09.363712Z",
     "shell.execute_reply": "2022-07-13T17:21:09.362675Z"
    },
    "papermill": {
     "duration": 6.040786,
     "end_time": "2022-07-13T17:21:09.366398",
     "exception": false,
     "start_time": "2022-07-13T17:21:03.325612",
     "status": "completed"
    },
    "tags": []
   },
   "outputs": [
    {
     "name": "stderr",
     "output_type": "stream",
     "text": [
      "2022-07-13 17:21:03.418048: I tensorflow/stream_executor/cuda/cuda_gpu_executor.cc:937] successful NUMA node read from SysFS had negative value (-1), but there must be at least one NUMA node, so returning NUMA node zero\n",
      "2022-07-13 17:21:03.419121: I tensorflow/stream_executor/cuda/cuda_gpu_executor.cc:937] successful NUMA node read from SysFS had negative value (-1), but there must be at least one NUMA node, so returning NUMA node zero\n",
      "2022-07-13 17:21:03.419791: I tensorflow/stream_executor/cuda/cuda_gpu_executor.cc:937] successful NUMA node read from SysFS had negative value (-1), but there must be at least one NUMA node, so returning NUMA node zero\n",
      "2022-07-13 17:21:03.420650: I tensorflow/core/platform/cpu_feature_guard.cc:142] This TensorFlow binary is optimized with oneAPI Deep Neural Network Library (oneDNN) to use the following CPU instructions in performance-critical operations:  AVX2 AVX512F FMA\n",
      "To enable them in other operations, rebuild TensorFlow with the appropriate compiler flags.\n",
      "2022-07-13 17:21:03.420943: I tensorflow/stream_executor/cuda/cuda_gpu_executor.cc:937] successful NUMA node read from SysFS had negative value (-1), but there must be at least one NUMA node, so returning NUMA node zero\n",
      "2022-07-13 17:21:03.421719: I tensorflow/stream_executor/cuda/cuda_gpu_executor.cc:937] successful NUMA node read from SysFS had negative value (-1), but there must be at least one NUMA node, so returning NUMA node zero\n",
      "2022-07-13 17:21:03.422355: I tensorflow/stream_executor/cuda/cuda_gpu_executor.cc:937] successful NUMA node read from SysFS had negative value (-1), but there must be at least one NUMA node, so returning NUMA node zero\n",
      "2022-07-13 17:21:08.432363: I tensorflow/stream_executor/cuda/cuda_gpu_executor.cc:937] successful NUMA node read from SysFS had negative value (-1), but there must be at least one NUMA node, so returning NUMA node zero\n",
      "2022-07-13 17:21:08.433434: I tensorflow/stream_executor/cuda/cuda_gpu_executor.cc:937] successful NUMA node read from SysFS had negative value (-1), but there must be at least one NUMA node, so returning NUMA node zero\n",
      "2022-07-13 17:21:08.434301: I tensorflow/stream_executor/cuda/cuda_gpu_executor.cc:937] successful NUMA node read from SysFS had negative value (-1), but there must be at least one NUMA node, so returning NUMA node zero\n",
      "2022-07-13 17:21:08.434907: I tensorflow/core/common_runtime/gpu/gpu_device.cc:1510] Created device /job:localhost/replica:0/task:0/device:GPU:0 with 15047 MB memory:  -> device: 0, name: Tesla P100-PCIE-16GB, pci bus id: 0000:00:04.0, compute capability: 6.0\n",
      "2022-07-13 17:21:08.979758: I tensorflow/compiler/mlir/mlir_graph_optimization_pass.cc:185] None of the MLIR Optimization Passes are enabled (registered 2)\n"
     ]
    }
   ],
   "source": [
    "from tensorflow.keras.layers import TextVectorization\n",
    "\n",
    "vectorizer = TextVectorization(max_tokens=20000, output_sequence_length=MAX_LENGTH)\n",
    "\n",
    "text_ds_single = tf.data.Dataset.from_tensor_slices(mvsa_single_texts).batch(128)\n",
    "text_ds_multiple = tf.data.Dataset.from_tensor_slices(mvsa_multiple_texts).batch(128)\n",
    "\n",
    "vectorizer.adapt(text_ds_single)\n",
    "vectorizer.adapt(text_ds_multiple)"
   ]
  },
  {
   "cell_type": "code",
   "execution_count": 16,
   "id": "e798e5b5",
   "metadata": {
    "execution": {
     "iopub.execute_input": "2022-07-13T17:21:09.386306Z",
     "iopub.status.busy": "2022-07-13T17:21:09.385983Z",
     "iopub.status.idle": "2022-07-13T17:21:09.442842Z",
     "shell.execute_reply": "2022-07-13T17:21:09.441864Z"
    },
    "papermill": {
     "duration": 0.068838,
     "end_time": "2022-07-13T17:21:09.445024",
     "exception": false,
     "start_time": "2022-07-13T17:21:09.376186",
     "status": "completed"
    },
    "tags": []
   },
   "outputs": [],
   "source": [
    "voc = vectorizer.get_vocabulary()\n",
    "word_index = dict(zip(voc, range(len(voc))))"
   ]
  },
  {
   "cell_type": "code",
   "execution_count": 17,
   "id": "e29bc7a0",
   "metadata": {
    "execution": {
     "iopub.execute_input": "2022-07-13T17:21:09.464268Z",
     "iopub.status.busy": "2022-07-13T17:21:09.463968Z",
     "iopub.status.idle": "2022-07-13T17:21:48.729817Z",
     "shell.execute_reply": "2022-07-13T17:21:48.728831Z"
    },
    "papermill": {
     "duration": 39.286571,
     "end_time": "2022-07-13T17:21:48.740599",
     "exception": false,
     "start_time": "2022-07-13T17:21:09.454028",
     "status": "completed"
    },
    "tags": []
   },
   "outputs": [
    {
     "name": "stdout",
     "output_type": "stream",
     "text": [
      "Found 1193515 word vectors.\n"
     ]
    }
   ],
   "source": [
    "embeddings_index = {}\n",
    "with open(path_to_glove_file) as f:\n",
    "    for line in f:\n",
    "        word, coefs = line.split(maxsplit=1)\n",
    "        coefs = np.fromstring(coefs, \"f\", sep=\" \")\n",
    "        embeddings_index[word] = coefs\n",
    "\n",
    "print(\"Found %s word vectors.\" % len(embeddings_index))"
   ]
  },
  {
   "cell_type": "code",
   "execution_count": 18,
   "id": "356a6367",
   "metadata": {
    "execution": {
     "iopub.execute_input": "2022-07-13T17:21:48.760343Z",
     "iopub.status.busy": "2022-07-13T17:21:48.760053Z",
     "iopub.status.idle": "2022-07-13T17:21:48.813046Z",
     "shell.execute_reply": "2022-07-13T17:21:48.811845Z"
    },
    "papermill": {
     "duration": 0.065517,
     "end_time": "2022-07-13T17:21:48.815167",
     "exception": false,
     "start_time": "2022-07-13T17:21:48.749650",
     "status": "completed"
    },
    "tags": []
   },
   "outputs": [
    {
     "name": "stdout",
     "output_type": "stream",
     "text": [
      "Converted 12712 words (7288 misses)\n"
     ]
    }
   ],
   "source": [
    "num_tokens = len(voc) + 2\n",
    "embedding_dim = 100\n",
    "hits = 0\n",
    "misses = 0\n",
    "\n",
    "# Prepare embedding matrix\n",
    "embedding_matrix = np.zeros((num_tokens, embedding_dim))\n",
    "for word, i in word_index.items():\n",
    "    embedding_vector = embeddings_index.get(word)\n",
    "    if embedding_vector is not None:\n",
    "        # Words not found in embedding index will be all-zeros.\n",
    "        # This includes the representation for \"padding\" and \"OOV\"\n",
    "        embedding_matrix[i] = embedding_vector\n",
    "        hits += 1\n",
    "    else:\n",
    "        misses += 1\n",
    "print(\"Converted %d words (%d misses)\" % (hits, misses))\n",
    "\n",
    "embedding_layer_glove = Embedding(\n",
    "    num_tokens,\n",
    "    embedding_dim,\n",
    "    embeddings_initializer= Constant(embedding_matrix),\n",
    "    trainable=False,\n",
    ")\n",
    "\n",
    "def create_model_text_w2v(input_shape):\n",
    "    f1_macro = tfa.metrics.F1Score(num_classes=NUM_CLASSES, average='macro', name='f1_macro')\n",
    "    f1_weighted = tfa.metrics.F1Score(num_classes=NUM_CLASSES, average='weighted', name='f1_weighted')\n",
    "    \n",
    "    text_input = Input(shape=(None,), dtype=\"int64\")\n",
    "    embedded_sequences = embedding_layer_glove(text_input)\n",
    "    lstm = LSTM(NUM_LSTM) (embedded_sequences)\n",
    "    outputs = Dense(NUM_CLASSES, activation='softmax') (lstm)\n",
    "    \n",
    "    model = Model(text_input, outputs)\n",
    "    model.compile(optimizer='adam', loss='categorical_crossentropy', metrics=['accuracy', f1_macro, f1_weighted])\n",
    "    \n",
    "    return model"
   ]
  },
  {
   "cell_type": "markdown",
   "id": "8f4395a6",
   "metadata": {
    "papermill": {
     "duration": 0.008567,
     "end_time": "2022-07-13T17:21:48.833161",
     "exception": false,
     "start_time": "2022-07-13T17:21:48.824594",
     "status": "completed"
    },
    "tags": []
   },
   "source": [
    "# Load features data"
   ]
  },
  {
   "cell_type": "code",
   "execution_count": 19,
   "id": "e2b19076",
   "metadata": {
    "execution": {
     "iopub.execute_input": "2022-07-13T17:21:48.852085Z",
     "iopub.status.busy": "2022-07-13T17:21:48.851805Z",
     "iopub.status.idle": "2022-07-13T17:21:49.069514Z",
     "shell.execute_reply": "2022-07-13T17:21:49.068446Z"
    },
    "papermill": {
     "duration": 0.229784,
     "end_time": "2022-07-13T17:21:49.071934",
     "exception": false,
     "start_time": "2022-07-13T17:21:48.842150",
     "status": "completed"
    },
    "tags": []
   },
   "outputs": [],
   "source": [
    "mvsa_single_texts = vectorizer(np.array([[s] for s in mvsa_single_texts])).numpy()\n",
    "mvsa_multiple_texts = vectorizer(np.array([[s] for s in mvsa_multiple_texts])).numpy()"
   ]
  },
  {
   "cell_type": "code",
   "execution_count": 20,
   "id": "173a4048",
   "metadata": {
    "execution": {
     "iopub.execute_input": "2022-07-13T17:21:49.093972Z",
     "iopub.status.busy": "2022-07-13T17:21:49.093033Z",
     "iopub.status.idle": "2022-07-13T17:21:49.115753Z",
     "shell.execute_reply": "2022-07-13T17:21:49.114812Z"
    },
    "papermill": {
     "duration": 0.035711,
     "end_time": "2022-07-13T17:21:49.117960",
     "exception": false,
     "start_time": "2022-07-13T17:21:49.082249",
     "status": "completed"
    },
    "tags": []
   },
   "outputs": [],
   "source": [
    "mvsa_texts = merge_mvsa(mvsa_single_texts, mvsa_multiple_texts)"
   ]
  },
  {
   "cell_type": "code",
   "execution_count": 21,
   "id": "29bd7a09",
   "metadata": {
    "execution": {
     "iopub.execute_input": "2022-07-13T17:21:49.137654Z",
     "iopub.status.busy": "2022-07-13T17:21:49.137328Z",
     "iopub.status.idle": "2022-07-13T17:21:50.002522Z",
     "shell.execute_reply": "2022-07-13T17:21:50.001561Z"
    },
    "papermill": {
     "duration": 0.877352,
     "end_time": "2022-07-13T17:21:50.004829",
     "exception": false,
     "start_time": "2022-07-13T17:21:49.127477",
     "status": "completed"
    },
    "tags": []
   },
   "outputs": [],
   "source": [
    "mvsa_single_bert_base, mvsa_multiple_bert_base = load_mvsa_feature('bert-base')\n",
    "mvsa_single_pos_bow, mvsa_multiple_pos_bow = load_mvsa_feature('pos-bow')\n",
    "mvsa_single_pos_tfidf, mvsa_multiple_pos_tfidf = load_mvsa_feature('pos-tfidf')\n",
    "mvsa_single_ner_bow, mvsa_multiple_ner_bow = load_mvsa_feature('ner-bow')\n",
    "mvsa_single_ner_tfidf, mvsa_multiple_ner_tfidf = load_mvsa_feature('ner-tfidf')"
   ]
  },
  {
   "cell_type": "code",
   "execution_count": 22,
   "id": "c47b46c3",
   "metadata": {
    "execution": {
     "iopub.execute_input": "2022-07-13T17:21:50.025275Z",
     "iopub.status.busy": "2022-07-13T17:21:50.024683Z",
     "iopub.status.idle": "2022-07-13T17:21:50.059216Z",
     "shell.execute_reply": "2022-07-13T17:21:50.058276Z"
    },
    "papermill": {
     "duration": 0.047408,
     "end_time": "2022-07-13T17:21:50.061580",
     "exception": false,
     "start_time": "2022-07-13T17:21:50.014172",
     "status": "completed"
    },
    "tags": []
   },
   "outputs": [],
   "source": [
    "mvsa_bert_base = merge_mvsa(mvsa_single_bert_base, mvsa_multiple_bert_base)\n",
    "mvsa_pos_bow = merge_mvsa(mvsa_single_pos_bow, mvsa_multiple_pos_bow)\n",
    "mvsa_pos_tfidf = merge_mvsa(mvsa_single_pos_tfidf, mvsa_multiple_pos_tfidf)\n",
    "mvsa_ner_bow = merge_mvsa(mvsa_single_ner_bow, mvsa_multiple_ner_bow)\n",
    "mvsa_ner_tfidf = merge_mvsa(mvsa_single_ner_tfidf, mvsa_multiple_ner_tfidf)"
   ]
  },
  {
   "cell_type": "code",
   "execution_count": 23,
   "id": "a6f28b7b",
   "metadata": {
    "execution": {
     "iopub.execute_input": "2022-07-13T17:21:50.082131Z",
     "iopub.status.busy": "2022-07-13T17:21:50.080677Z",
     "iopub.status.idle": "2022-07-13T17:21:50.208747Z",
     "shell.execute_reply": "2022-07-13T17:21:50.207780Z"
    },
    "papermill": {
     "duration": 0.140414,
     "end_time": "2022-07-13T17:21:50.211227",
     "exception": false,
     "start_time": "2022-07-13T17:21:50.070813",
     "status": "completed"
    },
    "tags": []
   },
   "outputs": [],
   "source": [
    "mvsa_single_multimodal_labels, mvsa_single_text_labels, mvsa_single_image_labels = load_labels('../input/mvsa-features/labels/mvsa-single-labels.hdf5')\n",
    "mvsa_multiple_multimodal_labels, mvsa_multiple_text_labels, mvsa_multiple_image_labels = load_labels('../input/mvsa-features/labels/mvsa-multiple-labels.hdf5')\n",
    "\n",
    "mvsa_multimodal_labels = merge_mvsa(mvsa_single_multimodal_labels, mvsa_multiple_multimodal_labels)\n",
    "mvsa_text_labels = merge_mvsa(mvsa_single_text_labels, mvsa_multiple_text_labels)\n",
    "mvsa_image_labels = merge_mvsa(mvsa_single_image_labels, mvsa_multiple_image_labels)"
   ]
  },
  {
   "cell_type": "code",
   "execution_count": 24,
   "id": "e2e93282",
   "metadata": {
    "execution": {
     "iopub.execute_input": "2022-07-13T17:21:50.232745Z",
     "iopub.status.busy": "2022-07-13T17:21:50.231060Z",
     "iopub.status.idle": "2022-07-13T17:21:50.240025Z",
     "shell.execute_reply": "2022-07-13T17:21:50.239121Z"
    },
    "papermill": {
     "duration": 0.021062,
     "end_time": "2022-07-13T17:21:50.242018",
     "exception": false,
     "start_time": "2022-07-13T17:21:50.220956",
     "status": "completed"
    },
    "tags": []
   },
   "outputs": [],
   "source": [
    "le = preprocessing.LabelEncoder()\n",
    "le.fit(mvsa_multimodal_labels)\n",
    "NUM_CLASSES = len(le.classes_) # =3"
   ]
  },
  {
   "cell_type": "code",
   "execution_count": 25,
   "id": "977fc457",
   "metadata": {
    "execution": {
     "iopub.execute_input": "2022-07-13T17:21:50.261812Z",
     "iopub.status.busy": "2022-07-13T17:21:50.261464Z",
     "iopub.status.idle": "2022-07-13T17:21:50.676769Z",
     "shell.execute_reply": "2022-07-13T17:21:50.675545Z"
    },
    "papermill": {
     "duration": 0.428415,
     "end_time": "2022-07-13T17:21:50.679639",
     "exception": false,
     "start_time": "2022-07-13T17:21:50.251224",
     "status": "completed"
    },
    "tags": []
   },
   "outputs": [],
   "source": [
    "feature_names = ['glove', 'bert-base', 'bert-pos-bow', 'bert-pos-ner-bow', 'bert-pos-tfidf', 'bert-pos-ner-tfidf']\n",
    "\n",
    "mvsa_single_features = [mvsa_single_texts,\n",
    "                        mvsa_single_bert_base, \n",
    "                        np.concatenate((mvsa_single_bert_base, mvsa_single_pos_bow), axis=1), \n",
    "                        np.concatenate((mvsa_single_bert_base, mvsa_single_pos_bow, mvsa_single_ner_bow), axis=1),\n",
    "                        np.concatenate((mvsa_single_bert_base, mvsa_single_pos_tfidf), axis=1), \n",
    "                        np.concatenate((mvsa_single_bert_base, mvsa_single_pos_tfidf, mvsa_single_ner_tfidf), axis=1)]\n",
    "\n",
    "mvsa_multiple_features = [mvsa_multiple_texts,\n",
    "                          mvsa_multiple_bert_base, \n",
    "                          np.concatenate((mvsa_multiple_bert_base, mvsa_multiple_pos_bow), axis=1), \n",
    "                          np.concatenate((mvsa_multiple_bert_base, mvsa_multiple_pos_bow, mvsa_multiple_ner_bow), axis=1),\n",
    "                          np.concatenate((mvsa_multiple_bert_base, mvsa_multiple_pos_tfidf), axis=1), \n",
    "                          np.concatenate((mvsa_multiple_bert_base, mvsa_multiple_pos_tfidf, mvsa_multiple_ner_tfidf), axis=1)]\n",
    "\n",
    "mvsa_features = [mvsa_texts,\n",
    "                 mvsa_bert_base,\n",
    "                 np.concatenate((mvsa_bert_base, mvsa_pos_bow), axis=1), \n",
    "                 np.concatenate((mvsa_bert_base, mvsa_pos_bow, mvsa_ner_bow), axis=1),\n",
    "                 np.concatenate((mvsa_bert_base, mvsa_pos_tfidf), axis=1), \n",
    "                 np.concatenate((mvsa_bert_base, mvsa_pos_tfidf, mvsa_ner_tfidf), axis=1)]"
   ]
  },
  {
   "cell_type": "markdown",
   "id": "3f0bd4c2",
   "metadata": {
    "papermill": {
     "duration": 0.01374,
     "end_time": "2022-07-13T17:21:50.719240",
     "exception": false,
     "start_time": "2022-07-13T17:21:50.705500",
     "status": "completed"
    },
    "tags": []
   },
   "source": [
    "# Run models and Evalution display"
   ]
  },
  {
   "cell_type": "code",
   "execution_count": 26,
   "id": "1b2bd47e",
   "metadata": {
    "execution": {
     "iopub.execute_input": "2022-07-13T17:21:50.749739Z",
     "iopub.status.busy": "2022-07-13T17:21:50.749324Z",
     "iopub.status.idle": "2022-07-13T17:21:50.761062Z",
     "shell.execute_reply": "2022-07-13T17:21:50.759995Z"
    },
    "papermill": {
     "duration": 0.030219,
     "end_time": "2022-07-13T17:21:50.764053",
     "exception": false,
     "start_time": "2022-07-13T17:21:50.733834",
     "status": "completed"
    },
    "tags": []
   },
   "outputs": [],
   "source": [
    "reset_seeds()\n",
    "EPOCHS = 100\n",
    "BATCH_SIZE = 128\n",
    "VALIDATION_SPLIT = 0.1\n",
    "EARLY_STOPPING = 10\n",
    "NUM_LSTM = 64"
   ]
  },
  {
   "cell_type": "markdown",
   "id": "b88c4753",
   "metadata": {
    "papermill": {
     "duration": 0.014464,
     "end_time": "2022-07-13T17:21:50.793067",
     "exception": false,
     "start_time": "2022-07-13T17:21:50.778603",
     "status": "completed"
    },
    "tags": []
   },
   "source": [
    "## With original text labels"
   ]
  },
  {
   "cell_type": "code",
   "execution_count": 27,
   "id": "a0966c8f",
   "metadata": {
    "execution": {
     "iopub.execute_input": "2022-07-13T17:21:50.823100Z",
     "iopub.status.busy": "2022-07-13T17:21:50.822730Z",
     "iopub.status.idle": "2022-07-13T17:25:03.040065Z",
     "shell.execute_reply": "2022-07-13T17:25:03.038763Z"
    },
    "papermill": {
     "duration": 192.235947,
     "end_time": "2022-07-13T17:25:03.043128",
     "exception": false,
     "start_time": "2022-07-13T17:21:50.807181",
     "status": "completed"
    },
    "tags": []
   },
   "outputs": [
    {
     "name": "stdout",
     "output_type": "stream",
     "text": [
      "MVSA-Single: With original text labels\n",
      "\n",
      "MVSA-Single: glove\n"
     ]
    },
    {
     "name": "stderr",
     "output_type": "stream",
     "text": [
      "2022-07-13 17:21:54.280896: I tensorflow/stream_executor/cuda/cuda_dnn.cc:369] Loaded cuDNN version 8005\n"
     ]
    },
    {
     "name": "stdout",
     "output_type": "stream",
     "text": [
      "\n",
      "MVSA-Single: bert-base\n",
      "\n",
      "MVSA-Single: bert-pos-bow\n",
      "\n",
      "MVSA-Single: bert-pos-ner-bow\n",
      "\n",
      "MVSA-Single: bert-pos-tfidf\n",
      "\n",
      "MVSA-Single: bert-pos-ner-tfidf\n",
      "\n",
      "MVSA-Multiple: With original text labels\n",
      "\n",
      "MVSA-Multiple: glove\n",
      "\n",
      "MVSA-Multiple: bert-base\n",
      "\n",
      "MVSA-Multiple: bert-pos-bow\n",
      "\n",
      "MVSA-Multiple: bert-pos-ner-bow\n",
      "\n",
      "MVSA-Multiple: bert-pos-tfidf\n",
      "\n",
      "MVSA-Multiple: bert-pos-ner-tfidf\n",
      "\n"
     ]
    }
   ],
   "source": [
    "print('MVSA-Single: With original text labels\\n')\n",
    "mvsa_single_histories = []\n",
    "mvsa_single_scores = []\n",
    "for i in range(len(feature_names)):\n",
    "    print('MVSA-Single:', feature_names[i])\n",
    "    if feature_names[i] == 'glove':\n",
    "        history, score = run_and_evaluate_w2v('single-OL-' + feature_names[i], mvsa_single_features[i], mvsa_single_text_labels, verbose=0)\n",
    "    else:\n",
    "        history, score = run_and_evaluate('single-OL-' + feature_names[i], mvsa_single_features[i], mvsa_single_text_labels, verbose=0)\n",
    "    mvsa_single_histories.append(history)\n",
    "    mvsa_single_scores.append(score)\n",
    "    print()\n",
    "df_single_scores = pd.DataFrame(mvsa_single_scores, columns=['Loss', 'Accuracy', 'F1-macro', 'F1-weighted'], index=feature_names)\n",
    "\n",
    "print('MVSA-Multiple: With original text labels\\n')\n",
    "mvsa_multiple_histories = []\n",
    "mvsa_multiple_scores = []\n",
    "for i in range(len(feature_names)):\n",
    "    print('MVSA-Multiple:', feature_names[i])\n",
    "    if feature_names[i] == 'glove':\n",
    "        history, score = run_and_evaluate_w2v('multiple-OL-' + feature_names[i], mvsa_multiple_features[i], mvsa_multiple_text_labels, verbose=0)\n",
    "    else:\n",
    "        history, score = run_and_evaluate('multiple-OL-' + feature_names[i], mvsa_multiple_features[i], mvsa_multiple_text_labels, verbose=0)\n",
    "    mvsa_multiple_histories.append(history)\n",
    "    mvsa_multiple_scores.append(score)\n",
    "    print()\n",
    "df_multiple_scores = pd.DataFrame(mvsa_multiple_scores, columns=['Loss', 'Accuracy', 'F1-macro', 'F1-weighted'], index=feature_names)\n",
    "\n",
    "mvsa_average_scores = np.mean([mvsa_single_scores, mvsa_multiple_scores], axis=0)\n",
    "df_average_scores = pd.DataFrame(mvsa_average_scores, columns=['Loss', 'Accuracy', 'F1-macro', 'F1-weighted'], index=feature_names)"
   ]
  },
  {
   "cell_type": "markdown",
   "id": "ac43cfca",
   "metadata": {
    "papermill": {
     "duration": 0.009692,
     "end_time": "2022-07-13T17:25:03.064191",
     "exception": false,
     "start_time": "2022-07-13T17:25:03.054499",
     "status": "completed"
    },
    "tags": []
   },
   "source": [
    "## With multimodal labels"
   ]
  },
  {
   "cell_type": "code",
   "execution_count": 28,
   "id": "1f0be80d",
   "metadata": {
    "execution": {
     "iopub.execute_input": "2022-07-13T17:25:03.087752Z",
     "iopub.status.busy": "2022-07-13T17:25:03.086057Z",
     "iopub.status.idle": "2022-07-13T17:28:03.814256Z",
     "shell.execute_reply": "2022-07-13T17:28:03.812623Z"
    },
    "papermill": {
     "duration": 180.743507,
     "end_time": "2022-07-13T17:28:03.818006",
     "exception": false,
     "start_time": "2022-07-13T17:25:03.074499",
     "status": "completed"
    },
    "tags": []
   },
   "outputs": [
    {
     "name": "stdout",
     "output_type": "stream",
     "text": [
      "MVSA-Single: With multimodal labels\n",
      "MVSA-Single: glove\n",
      "\n",
      "MVSA-Single: bert-base\n",
      "\n",
      "MVSA-Single: bert-pos-bow\n",
      "\n",
      "MVSA-Single: bert-pos-ner-bow\n",
      "\n",
      "MVSA-Single: bert-pos-tfidf\n",
      "\n",
      "MVSA-Single: bert-pos-ner-tfidf\n",
      "\n",
      "MVSA-Multiple: With multimodal labels\n",
      "MVSA-Multiple: glove\n",
      "\n",
      "MVSA-Multiple: bert-base\n",
      "\n",
      "MVSA-Multiple: bert-pos-bow\n",
      "\n",
      "MVSA-Multiple: bert-pos-ner-bow\n",
      "\n",
      "MVSA-Multiple: bert-pos-tfidf\n",
      "\n",
      "MVSA-Multiple: bert-pos-ner-tfidf\n",
      "\n"
     ]
    }
   ],
   "source": [
    "print('MVSA-Single: With multimodal labels')\n",
    "mvsa_single_histories2 = []\n",
    "mvsa_single_scores2 = []\n",
    "for i in range(len(feature_names)):\n",
    "    print('MVSA-Single:', feature_names[i])\n",
    "    history, score = run_and_evaluate('single-ML-' + feature_names[i], mvsa_single_features[i], mvsa_single_multimodal_labels, verbose=0)\n",
    "    mvsa_single_histories2.append(history)\n",
    "    mvsa_single_scores2.append(score)\n",
    "    print()\n",
    "df_single_scores2 = pd.DataFrame(mvsa_single_scores2, columns=['Loss', 'Accuracy', 'F1-macro', 'F1-weighted'], index=feature_names)\n",
    "\n",
    "print('MVSA-Multiple: With multimodal labels')\n",
    "mvsa_multiple_histories2 = []\n",
    "mvsa_multiple_scores2 = []\n",
    "for i in range(len(feature_names)):\n",
    "    print('MVSA-Multiple:', feature_names[i])\n",
    "    history, score = run_and_evaluate('multiple-ML-' + feature_names[i], mvsa_multiple_features[i], mvsa_multiple_multimodal_labels, verbose=0)\n",
    "    mvsa_multiple_histories2.append(history)\n",
    "    mvsa_multiple_scores2.append(score)\n",
    "    print()\n",
    "df_multiple_scores2 = pd.DataFrame(mvsa_multiple_scores2, columns=['Loss', 'Accuracy', 'F1-macro', 'F1-weighted'], index=feature_names)\n",
    "\n",
    "mvsa_average_scores2 = np.mean([mvsa_single_scores2, mvsa_multiple_scores2], axis=0)\n",
    "df_average_scores2 = pd.DataFrame(mvsa_average_scores2, columns=['Loss', 'Accuracy', 'F1-macro', 'F1-weighted'], index=feature_names)"
   ]
  },
  {
   "cell_type": "markdown",
   "id": "b28392a2",
   "metadata": {
    "papermill": {
     "duration": 0.015588,
     "end_time": "2022-07-13T17:28:03.852388",
     "exception": false,
     "start_time": "2022-07-13T17:28:03.836800",
     "status": "completed"
    },
    "tags": []
   },
   "source": [
    "# With merge MVSA data"
   ]
  },
  {
   "cell_type": "code",
   "execution_count": 29,
   "id": "3ec3633e",
   "metadata": {
    "execution": {
     "iopub.execute_input": "2022-07-13T17:28:03.883903Z",
     "iopub.status.busy": "2022-07-13T17:28:03.883597Z",
     "iopub.status.idle": "2022-07-13T17:32:19.218476Z",
     "shell.execute_reply": "2022-07-13T17:32:19.217094Z"
    },
    "papermill": {
     "duration": 255.353543,
     "end_time": "2022-07-13T17:32:19.221339",
     "exception": false,
     "start_time": "2022-07-13T17:28:03.867796",
     "status": "completed"
    },
    "tags": []
   },
   "outputs": [
    {
     "name": "stdout",
     "output_type": "stream",
     "text": [
      "Both MVSA: With original image labels\n",
      "Both MVSA: glove\n",
      "\n",
      "Both MVSA: bert-base\n",
      "\n",
      "Both MVSA: bert-pos-bow\n",
      "\n",
      "Both MVSA: bert-pos-ner-bow\n",
      "\n",
      "Both MVSA: bert-pos-tfidf\n",
      "\n",
      "Both MVSA: bert-pos-ner-tfidf\n",
      "\n",
      "Both MVSA: With multimodal labels\n",
      "Both MVSA: glove\n",
      "\n",
      "Both MVSA: bert-base\n",
      "\n",
      "Both MVSA: bert-pos-bow\n",
      "\n",
      "Both MVSA: bert-pos-ner-bow\n",
      "\n",
      "Both MVSA: bert-pos-tfidf\n",
      "\n",
      "Both MVSA: bert-pos-ner-tfidf\n",
      "\n"
     ]
    }
   ],
   "source": [
    "print('Both MVSA: With original image labels')\n",
    "mvsa_histories3 = []\n",
    "mvsa_scores3 = []\n",
    "for i in range(len(feature_names)):\n",
    "    print('Both MVSA:', feature_names[i])\n",
    "    history, score = run_and_evaluate('merge-OL-' + feature_names[i], mvsa_features[i], mvsa_image_labels, verbose=0)\n",
    "    mvsa_histories3.append(history)\n",
    "    mvsa_scores3.append(score)\n",
    "    print()\n",
    "df_scores3 = pd.DataFrame(mvsa_scores3, columns=['Loss', 'Accuracy', 'F1-macro', 'F1-weighted'], index=feature_names)\n",
    "\n",
    "print('Both MVSA: With multimodal labels')\n",
    "mvsa_histories4 = []\n",
    "mvsa_scores4 = []\n",
    "for i in range(len(feature_names)):\n",
    "    print('Both MVSA:', feature_names[i])\n",
    "    history, score = run_and_evaluate('merge-ML-' + feature_names[i], mvsa_features[i], mvsa_multimodal_labels, verbose=0)\n",
    "    mvsa_histories4.append(history)\n",
    "    mvsa_scores4.append(score)\n",
    "    print()\n",
    "df_scores4 = pd.DataFrame(mvsa_scores4, columns=['Loss', 'Accuracy', 'F1-macro', 'F1-weighted'], index=feature_names)"
   ]
  },
  {
   "cell_type": "markdown",
   "id": "b6f310dc",
   "metadata": {
    "papermill": {
     "duration": 0.011197,
     "end_time": "2022-07-13T17:32:19.244395",
     "exception": false,
     "start_time": "2022-07-13T17:32:19.233198",
     "status": "completed"
    },
    "tags": []
   },
   "source": [
    "# Display results"
   ]
  },
  {
   "cell_type": "code",
   "execution_count": 30,
   "id": "aefd3996",
   "metadata": {
    "execution": {
     "iopub.execute_input": "2022-07-13T17:32:19.268938Z",
     "iopub.status.busy": "2022-07-13T17:32:19.268085Z",
     "iopub.status.idle": "2022-07-13T17:32:19.375717Z",
     "shell.execute_reply": "2022-07-13T17:32:19.374256Z"
    },
    "papermill": {
     "duration": 0.122788,
     "end_time": "2022-07-13T17:32:19.378770",
     "exception": false,
     "start_time": "2022-07-13T17:32:19.255982",
     "status": "completed"
    },
    "tags": []
   },
   "outputs": [
    {
     "name": "stdout",
     "output_type": "stream",
     "text": [
      "With original image labels\n",
      "\n"
     ]
    },
    {
     "data": {
      "text/html": [
       "<table style=\"display:inline\"><tr><td style=\"text-align:center\">MVSA-Single</td><td style=\"text-align:center\">MVSA-Multiple</td><td style=\"text-align:center\">Average</td></tr><tr><td style=\"vertical-align:top\"> <style type=\"text/css\">\n",
       "#T_11b90_row0_col0, #T_11b90_row0_col1, #T_11b90_row0_col2, #T_11b90_row0_col3 {\n",
       "  color: tomato;\n",
       "}\n",
       "#T_11b90_row2_col2, #T_11b90_row4_col1, #T_11b90_row4_col3, #T_11b90_row5_col0 {\n",
       "  color: lawngreen;\n",
       "}\n",
       "</style>\n",
       "<table style=\"display:inline\" id=\"T_11b90_\">\n",
       "  <thead>\n",
       "    <tr>\n",
       "      <th class=\"blank level0\" >&nbsp;</th>\n",
       "      <th class=\"col_heading level0 col0\" >Loss</th>\n",
       "      <th class=\"col_heading level0 col1\" >Accuracy</th>\n",
       "      <th class=\"col_heading level0 col2\" >F1-macro</th>\n",
       "      <th class=\"col_heading level0 col3\" >F1-weighted</th>\n",
       "    </tr>\n",
       "  </thead>\n",
       "  <tbody>\n",
       "    <tr>\n",
       "      <th id=\"T_11b90_level0_row0\" class=\"row_heading level0 row0\" >glove</th>\n",
       "      <td id=\"T_11b90_row0_col0\" class=\"data row0 col0\" >1.103924</td>\n",
       "      <td id=\"T_11b90_row0_col1\" class=\"data row0 col1\" >0.412417</td>\n",
       "      <td id=\"T_11b90_row0_col2\" class=\"data row0 col2\" >0.194662</td>\n",
       "      <td id=\"T_11b90_row0_col3\" class=\"data row0 col3\" >0.240846</td>\n",
       "    </tr>\n",
       "    <tr>\n",
       "      <th id=\"T_11b90_level0_row1\" class=\"row_heading level0 row1\" >bert-base</th>\n",
       "      <td id=\"T_11b90_row1_col0\" class=\"data row1 col0\" >0.817500</td>\n",
       "      <td id=\"T_11b90_row1_col1\" class=\"data row1 col1\" >0.640798</td>\n",
       "      <td id=\"T_11b90_row1_col2\" class=\"data row1 col2\" >0.623770</td>\n",
       "      <td id=\"T_11b90_row1_col3\" class=\"data row1 col3\" >0.642226</td>\n",
       "    </tr>\n",
       "    <tr>\n",
       "      <th id=\"T_11b90_level0_row2\" class=\"row_heading level0 row2\" >bert-pos-bow</th>\n",
       "      <td id=\"T_11b90_row2_col0\" class=\"data row2 col0\" >0.748665</td>\n",
       "      <td id=\"T_11b90_row2_col1\" class=\"data row2 col1\" >0.665188</td>\n",
       "      <td id=\"T_11b90_row2_col2\" class=\"data row2 col2\" >0.662336</td>\n",
       "      <td id=\"T_11b90_row2_col3\" class=\"data row2 col3\" >0.668418</td>\n",
       "    </tr>\n",
       "    <tr>\n",
       "      <th id=\"T_11b90_level0_row3\" class=\"row_heading level0 row3\" >bert-pos-ner-bow</th>\n",
       "      <td id=\"T_11b90_row3_col0\" class=\"data row3 col0\" >0.778249</td>\n",
       "      <td id=\"T_11b90_row3_col1\" class=\"data row3 col1\" >0.651885</td>\n",
       "      <td id=\"T_11b90_row3_col2\" class=\"data row3 col2\" >0.638961</td>\n",
       "      <td id=\"T_11b90_row3_col3\" class=\"data row3 col3\" >0.652145</td>\n",
       "    </tr>\n",
       "    <tr>\n",
       "      <th id=\"T_11b90_level0_row4\" class=\"row_heading level0 row4\" >bert-pos-tfidf</th>\n",
       "      <td id=\"T_11b90_row4_col0\" class=\"data row4 col0\" >0.771782</td>\n",
       "      <td id=\"T_11b90_row4_col1\" class=\"data row4 col1\" >0.682927</td>\n",
       "      <td id=\"T_11b90_row4_col2\" class=\"data row4 col2\" >0.654829</td>\n",
       "      <td id=\"T_11b90_row4_col3\" class=\"data row4 col3\" >0.680195</td>\n",
       "    </tr>\n",
       "    <tr>\n",
       "      <th id=\"T_11b90_level0_row5\" class=\"row_heading level0 row5\" >bert-pos-ner-tfidf</th>\n",
       "      <td id=\"T_11b90_row5_col0\" class=\"data row5 col0\" >0.722357</td>\n",
       "      <td id=\"T_11b90_row5_col1\" class=\"data row5 col1\" >0.669623</td>\n",
       "      <td id=\"T_11b90_row5_col2\" class=\"data row5 col2\" >0.652667</td>\n",
       "      <td id=\"T_11b90_row5_col3\" class=\"data row5 col3\" >0.667078</td>\n",
       "    </tr>\n",
       "  </tbody>\n",
       "</table style=\"display:inline\">\n",
       "</td><td style=\"vertical-align:top\"> <style type=\"text/css\">\n",
       "#T_db63e_row0_col0, #T_db63e_row0_col1, #T_db63e_row0_col2, #T_db63e_row0_col3 {\n",
       "  color: tomato;\n",
       "}\n",
       "#T_db63e_row1_col3, #T_db63e_row3_col0, #T_db63e_row3_col1, #T_db63e_row5_col2 {\n",
       "  color: lawngreen;\n",
       "}\n",
       "</style>\n",
       "<table style=\"display:inline\" id=\"T_db63e_\">\n",
       "  <thead>\n",
       "    <tr>\n",
       "      <th class=\"blank level0\" >&nbsp;</th>\n",
       "      <th class=\"col_heading level0 col0\" >Loss</th>\n",
       "      <th class=\"col_heading level0 col1\" >Accuracy</th>\n",
       "      <th class=\"col_heading level0 col2\" >F1-macro</th>\n",
       "      <th class=\"col_heading level0 col3\" >F1-weighted</th>\n",
       "    </tr>\n",
       "  </thead>\n",
       "  <tbody>\n",
       "    <tr>\n",
       "      <th id=\"T_db63e_level0_row0\" class=\"row_heading level0 row0\" >glove</th>\n",
       "      <td id=\"T_db63e_row0_col0\" class=\"data row0 col0\" >1.106792</td>\n",
       "      <td id=\"T_db63e_row0_col1\" class=\"data row0 col1\" >0.541716</td>\n",
       "      <td id=\"T_db63e_row0_col2\" class=\"data row0 col2\" >0.234248</td>\n",
       "      <td id=\"T_db63e_row0_col3\" class=\"data row0 col3\" >0.380687</td>\n",
       "    </tr>\n",
       "    <tr>\n",
       "      <th id=\"T_db63e_level0_row1\" class=\"row_heading level0 row1\" >bert-base</th>\n",
       "      <td id=\"T_db63e_row1_col0\" class=\"data row1 col0\" >0.778543</td>\n",
       "      <td id=\"T_db63e_row1_col1\" class=\"data row1 col1\" >0.615746</td>\n",
       "      <td id=\"T_db63e_row1_col2\" class=\"data row1 col2\" >0.517031</td>\n",
       "      <td id=\"T_db63e_row1_col3\" class=\"data row1 col3\" >0.617966</td>\n",
       "    </tr>\n",
       "    <tr>\n",
       "      <th id=\"T_db63e_level0_row2\" class=\"row_heading level0 row2\" >bert-pos-bow</th>\n",
       "      <td id=\"T_db63e_row2_col0\" class=\"data row2 col0\" >0.807019</td>\n",
       "      <td id=\"T_db63e_row2_col1\" class=\"data row2 col1\" >0.611046</td>\n",
       "      <td id=\"T_db63e_row2_col2\" class=\"data row2 col2\" >0.499488</td>\n",
       "      <td id=\"T_db63e_row2_col3\" class=\"data row2 col3\" >0.608864</td>\n",
       "    </tr>\n",
       "    <tr>\n",
       "      <th id=\"T_db63e_level0_row3\" class=\"row_heading level0 row3\" >bert-pos-ner-bow</th>\n",
       "      <td id=\"T_db63e_row3_col0\" class=\"data row3 col0\" >0.770205</td>\n",
       "      <td id=\"T_db63e_row3_col1\" class=\"data row3 col1\" >0.616921</td>\n",
       "      <td id=\"T_db63e_row3_col2\" class=\"data row3 col2\" >0.507125</td>\n",
       "      <td id=\"T_db63e_row3_col3\" class=\"data row3 col3\" >0.616905</td>\n",
       "    </tr>\n",
       "    <tr>\n",
       "      <th id=\"T_db63e_level0_row4\" class=\"row_heading level0 row4\" >bert-pos-tfidf</th>\n",
       "      <td id=\"T_db63e_row4_col0\" class=\"data row4 col0\" >0.829297</td>\n",
       "      <td id=\"T_db63e_row4_col1\" class=\"data row4 col1\" >0.584019</td>\n",
       "      <td id=\"T_db63e_row4_col2\" class=\"data row4 col2\" >0.498780</td>\n",
       "      <td id=\"T_db63e_row4_col3\" class=\"data row4 col3\" >0.589651</td>\n",
       "    </tr>\n",
       "    <tr>\n",
       "      <th id=\"T_db63e_level0_row5\" class=\"row_heading level0 row5\" >bert-pos-ner-tfidf</th>\n",
       "      <td id=\"T_db63e_row5_col0\" class=\"data row5 col0\" >0.780035</td>\n",
       "      <td id=\"T_db63e_row5_col1\" class=\"data row5 col1\" >0.605170</td>\n",
       "      <td id=\"T_db63e_row5_col2\" class=\"data row5 col2\" >0.517789</td>\n",
       "      <td id=\"T_db63e_row5_col3\" class=\"data row5 col3\" >0.604162</td>\n",
       "    </tr>\n",
       "  </tbody>\n",
       "</table style=\"display:inline\">\n",
       "</td><td style=\"vertical-align:top\"> <style type=\"text/css\">\n",
       "#T_d8877_row0_col0, #T_d8877_row0_col1, #T_d8877_row0_col2, #T_d8877_row0_col3 {\n",
       "  color: tomato;\n",
       "}\n",
       "#T_d8877_row2_col1, #T_d8877_row2_col3, #T_d8877_row5_col0, #T_d8877_row5_col2 {\n",
       "  color: lawngreen;\n",
       "}\n",
       "</style>\n",
       "<table style=\"display:inline\" id=\"T_d8877_\">\n",
       "  <thead>\n",
       "    <tr>\n",
       "      <th class=\"blank level0\" >&nbsp;</th>\n",
       "      <th class=\"col_heading level0 col0\" >Loss</th>\n",
       "      <th class=\"col_heading level0 col1\" >Accuracy</th>\n",
       "      <th class=\"col_heading level0 col2\" >F1-macro</th>\n",
       "      <th class=\"col_heading level0 col3\" >F1-weighted</th>\n",
       "    </tr>\n",
       "  </thead>\n",
       "  <tbody>\n",
       "    <tr>\n",
       "      <th id=\"T_d8877_level0_row0\" class=\"row_heading level0 row0\" >glove</th>\n",
       "      <td id=\"T_d8877_row0_col0\" class=\"data row0 col0\" >1.105358</td>\n",
       "      <td id=\"T_d8877_row0_col1\" class=\"data row0 col1\" >0.477066</td>\n",
       "      <td id=\"T_d8877_row0_col2\" class=\"data row0 col2\" >0.214455</td>\n",
       "      <td id=\"T_d8877_row0_col3\" class=\"data row0 col3\" >0.310767</td>\n",
       "    </tr>\n",
       "    <tr>\n",
       "      <th id=\"T_d8877_level0_row1\" class=\"row_heading level0 row1\" >bert-base</th>\n",
       "      <td id=\"T_d8877_row1_col0\" class=\"data row1 col0\" >0.798022</td>\n",
       "      <td id=\"T_d8877_row1_col1\" class=\"data row1 col1\" >0.628272</td>\n",
       "      <td id=\"T_d8877_row1_col2\" class=\"data row1 col2\" >0.570401</td>\n",
       "      <td id=\"T_d8877_row1_col3\" class=\"data row1 col3\" >0.630096</td>\n",
       "    </tr>\n",
       "    <tr>\n",
       "      <th id=\"T_d8877_level0_row2\" class=\"row_heading level0 row2\" >bert-pos-bow</th>\n",
       "      <td id=\"T_d8877_row2_col0\" class=\"data row2 col0\" >0.777842</td>\n",
       "      <td id=\"T_d8877_row2_col1\" class=\"data row2 col1\" >0.638117</td>\n",
       "      <td id=\"T_d8877_row2_col2\" class=\"data row2 col2\" >0.580912</td>\n",
       "      <td id=\"T_d8877_row2_col3\" class=\"data row2 col3\" >0.638641</td>\n",
       "    </tr>\n",
       "    <tr>\n",
       "      <th id=\"T_d8877_level0_row3\" class=\"row_heading level0 row3\" >bert-pos-ner-bow</th>\n",
       "      <td id=\"T_d8877_row3_col0\" class=\"data row3 col0\" >0.774227</td>\n",
       "      <td id=\"T_d8877_row3_col1\" class=\"data row3 col1\" >0.634403</td>\n",
       "      <td id=\"T_d8877_row3_col2\" class=\"data row3 col2\" >0.573043</td>\n",
       "      <td id=\"T_d8877_row3_col3\" class=\"data row3 col3\" >0.634525</td>\n",
       "    </tr>\n",
       "    <tr>\n",
       "      <th id=\"T_d8877_level0_row4\" class=\"row_heading level0 row4\" >bert-pos-tfidf</th>\n",
       "      <td id=\"T_d8877_row4_col0\" class=\"data row4 col0\" >0.800539</td>\n",
       "      <td id=\"T_d8877_row4_col1\" class=\"data row4 col1\" >0.633473</td>\n",
       "      <td id=\"T_d8877_row4_col2\" class=\"data row4 col2\" >0.576805</td>\n",
       "      <td id=\"T_d8877_row4_col3\" class=\"data row4 col3\" >0.634923</td>\n",
       "    </tr>\n",
       "    <tr>\n",
       "      <th id=\"T_d8877_level0_row5\" class=\"row_heading level0 row5\" >bert-pos-ner-tfidf</th>\n",
       "      <td id=\"T_d8877_row5_col0\" class=\"data row5 col0\" >0.751196</td>\n",
       "      <td id=\"T_d8877_row5_col1\" class=\"data row5 col1\" >0.637397</td>\n",
       "      <td id=\"T_d8877_row5_col2\" class=\"data row5 col2\" >0.585228</td>\n",
       "      <td id=\"T_d8877_row5_col3\" class=\"data row5 col3\" >0.635620</td>\n",
       "    </tr>\n",
       "  </tbody>\n",
       "</table style=\"display:inline\">\n",
       "</td></tr></table style=\"display:inline\">"
      ]
     },
     "metadata": {},
     "output_type": "display_data"
    }
   ],
   "source": [
    "print('With original image labels\\n')\n",
    "display_dataframes((style_dataframe(df_single_scores), style_dataframe(df_multiple_scores), style_dataframe(df_average_scores)), \n",
    "                   names=['MVSA-Single', 'MVSA-Multiple', 'Average'])"
   ]
  },
  {
   "cell_type": "code",
   "execution_count": 31,
   "id": "072b65da",
   "metadata": {
    "execution": {
     "iopub.execute_input": "2022-07-13T17:32:19.404118Z",
     "iopub.status.busy": "2022-07-13T17:32:19.403831Z",
     "iopub.status.idle": "2022-07-13T17:32:19.455404Z",
     "shell.execute_reply": "2022-07-13T17:32:19.454131Z"
    },
    "papermill": {
     "duration": 0.066591,
     "end_time": "2022-07-13T17:32:19.457901",
     "exception": false,
     "start_time": "2022-07-13T17:32:19.391310",
     "status": "completed"
    },
    "tags": []
   },
   "outputs": [
    {
     "name": "stdout",
     "output_type": "stream",
     "text": [
      "With multimodal labels\n",
      "\n"
     ]
    },
    {
     "data": {
      "text/html": [
       "<table style=\"display:inline\"><tr><td style=\"text-align:center\">MVSA-Single</td><td style=\"text-align:center\">MVSA-Multiple</td><td style=\"text-align:center\">Average</td></tr><tr><td style=\"vertical-align:top\"> <style type=\"text/css\">\n",
       "#T_40287_row0_col0, #T_40287_row0_col1, #T_40287_row0_col2, #T_40287_row0_col3 {\n",
       "  color: tomato;\n",
       "}\n",
       "#T_40287_row5_col0, #T_40287_row5_col1, #T_40287_row5_col2, #T_40287_row5_col3 {\n",
       "  color: lawngreen;\n",
       "}\n",
       "</style>\n",
       "<table style=\"display:inline\" id=\"T_40287_\">\n",
       "  <thead>\n",
       "    <tr>\n",
       "      <th class=\"blank level0\" >&nbsp;</th>\n",
       "      <th class=\"col_heading level0 col0\" >Loss</th>\n",
       "      <th class=\"col_heading level0 col1\" >Accuracy</th>\n",
       "      <th class=\"col_heading level0 col2\" >F1-macro</th>\n",
       "      <th class=\"col_heading level0 col3\" >F1-weighted</th>\n",
       "    </tr>\n",
       "  </thead>\n",
       "  <tbody>\n",
       "    <tr>\n",
       "      <th id=\"T_40287_level0_row0\" class=\"row_heading level0 row0\" >glove</th>\n",
       "      <td id=\"T_40287_row0_col0\" class=\"data row0 col0\" >1.060266</td>\n",
       "      <td id=\"T_40287_row0_col1\" class=\"data row0 col1\" >0.476718</td>\n",
       "      <td id=\"T_40287_row0_col2\" class=\"data row0 col2\" >0.289040</td>\n",
       "      <td id=\"T_40287_row0_col3\" class=\"data row0 col3\" >0.447325</td>\n",
       "    </tr>\n",
       "    <tr>\n",
       "      <th id=\"T_40287_level0_row1\" class=\"row_heading level0 row1\" >bert-base</th>\n",
       "      <td id=\"T_40287_row1_col0\" class=\"data row1 col0\" >0.883240</td>\n",
       "      <td id=\"T_40287_row1_col1\" class=\"data row1 col1\" >0.618625</td>\n",
       "      <td id=\"T_40287_row1_col2\" class=\"data row1 col2\" >0.512692</td>\n",
       "      <td id=\"T_40287_row1_col3\" class=\"data row1 col3\" >0.622101</td>\n",
       "    </tr>\n",
       "    <tr>\n",
       "      <th id=\"T_40287_level0_row2\" class=\"row_heading level0 row2\" >bert-pos-bow</th>\n",
       "      <td id=\"T_40287_row2_col0\" class=\"data row2 col0\" >0.843172</td>\n",
       "      <td id=\"T_40287_row2_col1\" class=\"data row2 col1\" >0.638581</td>\n",
       "      <td id=\"T_40287_row2_col2\" class=\"data row2 col2\" >0.553336</td>\n",
       "      <td id=\"T_40287_row2_col3\" class=\"data row2 col3\" >0.647432</td>\n",
       "    </tr>\n",
       "    <tr>\n",
       "      <th id=\"T_40287_level0_row3\" class=\"row_heading level0 row3\" >bert-pos-ner-bow</th>\n",
       "      <td id=\"T_40287_row3_col0\" class=\"data row3 col0\" >0.810991</td>\n",
       "      <td id=\"T_40287_row3_col1\" class=\"data row3 col1\" >0.645233</td>\n",
       "      <td id=\"T_40287_row3_col2\" class=\"data row3 col2\" >0.531608</td>\n",
       "      <td id=\"T_40287_row3_col3\" class=\"data row3 col3\" >0.647225</td>\n",
       "    </tr>\n",
       "    <tr>\n",
       "      <th id=\"T_40287_level0_row4\" class=\"row_heading level0 row4\" >bert-pos-tfidf</th>\n",
       "      <td id=\"T_40287_row4_col0\" class=\"data row4 col0\" >0.829561</td>\n",
       "      <td id=\"T_40287_row4_col1\" class=\"data row4 col1\" >0.634146</td>\n",
       "      <td id=\"T_40287_row4_col2\" class=\"data row4 col2\" >0.536666</td>\n",
       "      <td id=\"T_40287_row4_col3\" class=\"data row4 col3\" >0.644116</td>\n",
       "    </tr>\n",
       "    <tr>\n",
       "      <th id=\"T_40287_level0_row5\" class=\"row_heading level0 row5\" >bert-pos-ner-tfidf</th>\n",
       "      <td id=\"T_40287_row5_col0\" class=\"data row5 col0\" >0.800205</td>\n",
       "      <td id=\"T_40287_row5_col1\" class=\"data row5 col1\" >0.660754</td>\n",
       "      <td id=\"T_40287_row5_col2\" class=\"data row5 col2\" >0.566017</td>\n",
       "      <td id=\"T_40287_row5_col3\" class=\"data row5 col3\" >0.661876</td>\n",
       "    </tr>\n",
       "  </tbody>\n",
       "</table style=\"display:inline\">\n",
       "</td><td style=\"vertical-align:top\"> <style type=\"text/css\">\n",
       "#T_c2949_row0_col0, #T_c2949_row0_col1, #T_c2949_row0_col2, #T_c2949_row0_col3 {\n",
       "  color: tomato;\n",
       "}\n",
       "#T_c2949_row1_col1, #T_c2949_row1_col3, #T_c2949_row3_col2, #T_c2949_row4_col0 {\n",
       "  color: lawngreen;\n",
       "}\n",
       "</style>\n",
       "<table style=\"display:inline\" id=\"T_c2949_\">\n",
       "  <thead>\n",
       "    <tr>\n",
       "      <th class=\"blank level0\" >&nbsp;</th>\n",
       "      <th class=\"col_heading level0 col0\" >Loss</th>\n",
       "      <th class=\"col_heading level0 col1\" >Accuracy</th>\n",
       "      <th class=\"col_heading level0 col2\" >F1-macro</th>\n",
       "      <th class=\"col_heading level0 col3\" >F1-weighted</th>\n",
       "    </tr>\n",
       "  </thead>\n",
       "  <tbody>\n",
       "    <tr>\n",
       "      <th id=\"T_c2949_level0_row0\" class=\"row_heading level0 row0\" >glove</th>\n",
       "      <td id=\"T_c2949_row0_col0\" class=\"data row0 col0\" >1.062712</td>\n",
       "      <td id=\"T_c2949_row0_col1\" class=\"data row0 col1\" >0.468860</td>\n",
       "      <td id=\"T_c2949_row0_col2\" class=\"data row0 col2\" >0.285418</td>\n",
       "      <td id=\"T_c2949_row0_col3\" class=\"data row0 col3\" >0.475397</td>\n",
       "    </tr>\n",
       "    <tr>\n",
       "      <th id=\"T_c2949_level0_row1\" class=\"row_heading level0 row1\" >bert-base</th>\n",
       "      <td id=\"T_c2949_row1_col0\" class=\"data row1 col0\" >0.796362</td>\n",
       "      <td id=\"T_c2949_row1_col1\" class=\"data row1 col1\" >0.678026</td>\n",
       "      <td id=\"T_c2949_row1_col2\" class=\"data row1 col2\" >0.486572</td>\n",
       "      <td id=\"T_c2949_row1_col3\" class=\"data row1 col3\" >0.646473</td>\n",
       "    </tr>\n",
       "    <tr>\n",
       "      <th id=\"T_c2949_level0_row2\" class=\"row_heading level0 row2\" >bert-pos-bow</th>\n",
       "      <td id=\"T_c2949_row2_col0\" class=\"data row2 col0\" >0.828873</td>\n",
       "      <td id=\"T_c2949_row2_col1\" class=\"data row2 col1\" >0.643948</td>\n",
       "      <td id=\"T_c2949_row2_col2\" class=\"data row2 col2\" >0.482943</td>\n",
       "      <td id=\"T_c2949_row2_col3\" class=\"data row2 col3\" >0.625579</td>\n",
       "    </tr>\n",
       "    <tr>\n",
       "      <th id=\"T_c2949_level0_row3\" class=\"row_heading level0 row3\" >bert-pos-ner-bow</th>\n",
       "      <td id=\"T_c2949_row3_col0\" class=\"data row3 col0\" >0.811376</td>\n",
       "      <td id=\"T_c2949_row3_col1\" class=\"data row3 col1\" >0.663925</td>\n",
       "      <td id=\"T_c2949_row3_col2\" class=\"data row3 col2\" >0.503412</td>\n",
       "      <td id=\"T_c2949_row3_col3\" class=\"data row3 col3\" >0.645323</td>\n",
       "    </tr>\n",
       "    <tr>\n",
       "      <th id=\"T_c2949_level0_row4\" class=\"row_heading level0 row4\" >bert-pos-tfidf</th>\n",
       "      <td id=\"T_c2949_row4_col0\" class=\"data row4 col0\" >0.783803</td>\n",
       "      <td id=\"T_c2949_row4_col1\" class=\"data row4 col1\" >0.660987</td>\n",
       "      <td id=\"T_c2949_row4_col2\" class=\"data row4 col2\" >0.464716</td>\n",
       "      <td id=\"T_c2949_row4_col3\" class=\"data row4 col3\" >0.605989</td>\n",
       "    </tr>\n",
       "    <tr>\n",
       "      <th id=\"T_c2949_level0_row5\" class=\"row_heading level0 row5\" >bert-pos-ner-tfidf</th>\n",
       "      <td id=\"T_c2949_row5_col0\" class=\"data row5 col0\" >0.792701</td>\n",
       "      <td id=\"T_c2949_row5_col1\" class=\"data row5 col1\" >0.658637</td>\n",
       "      <td id=\"T_c2949_row5_col2\" class=\"data row5 col2\" >0.480425</td>\n",
       "      <td id=\"T_c2949_row5_col3\" class=\"data row5 col3\" >0.628398</td>\n",
       "    </tr>\n",
       "  </tbody>\n",
       "</table style=\"display:inline\">\n",
       "</td><td style=\"vertical-align:top\"> <style type=\"text/css\">\n",
       "#T_79b8c_row0_col0, #T_79b8c_row0_col1, #T_79b8c_row0_col2, #T_79b8c_row0_col3 {\n",
       "  color: tomato;\n",
       "}\n",
       "#T_79b8c_row3_col3, #T_79b8c_row5_col0, #T_79b8c_row5_col1, #T_79b8c_row5_col2 {\n",
       "  color: lawngreen;\n",
       "}\n",
       "</style>\n",
       "<table style=\"display:inline\" id=\"T_79b8c_\">\n",
       "  <thead>\n",
       "    <tr>\n",
       "      <th class=\"blank level0\" >&nbsp;</th>\n",
       "      <th class=\"col_heading level0 col0\" >Loss</th>\n",
       "      <th class=\"col_heading level0 col1\" >Accuracy</th>\n",
       "      <th class=\"col_heading level0 col2\" >F1-macro</th>\n",
       "      <th class=\"col_heading level0 col3\" >F1-weighted</th>\n",
       "    </tr>\n",
       "  </thead>\n",
       "  <tbody>\n",
       "    <tr>\n",
       "      <th id=\"T_79b8c_level0_row0\" class=\"row_heading level0 row0\" >glove</th>\n",
       "      <td id=\"T_79b8c_row0_col0\" class=\"data row0 col0\" >1.061489</td>\n",
       "      <td id=\"T_79b8c_row0_col1\" class=\"data row0 col1\" >0.472789</td>\n",
       "      <td id=\"T_79b8c_row0_col2\" class=\"data row0 col2\" >0.287229</td>\n",
       "      <td id=\"T_79b8c_row0_col3\" class=\"data row0 col3\" >0.461361</td>\n",
       "    </tr>\n",
       "    <tr>\n",
       "      <th id=\"T_79b8c_level0_row1\" class=\"row_heading level0 row1\" >bert-base</th>\n",
       "      <td id=\"T_79b8c_row1_col0\" class=\"data row1 col0\" >0.839801</td>\n",
       "      <td id=\"T_79b8c_row1_col1\" class=\"data row1 col1\" >0.648326</td>\n",
       "      <td id=\"T_79b8c_row1_col2\" class=\"data row1 col2\" >0.499632</td>\n",
       "      <td id=\"T_79b8c_row1_col3\" class=\"data row1 col3\" >0.634287</td>\n",
       "    </tr>\n",
       "    <tr>\n",
       "      <th id=\"T_79b8c_level0_row2\" class=\"row_heading level0 row2\" >bert-pos-bow</th>\n",
       "      <td id=\"T_79b8c_row2_col0\" class=\"data row2 col0\" >0.836023</td>\n",
       "      <td id=\"T_79b8c_row2_col1\" class=\"data row2 col1\" >0.641265</td>\n",
       "      <td id=\"T_79b8c_row2_col2\" class=\"data row2 col2\" >0.518140</td>\n",
       "      <td id=\"T_79b8c_row2_col3\" class=\"data row2 col3\" >0.636505</td>\n",
       "    </tr>\n",
       "    <tr>\n",
       "      <th id=\"T_79b8c_level0_row3\" class=\"row_heading level0 row3\" >bert-pos-ner-bow</th>\n",
       "      <td id=\"T_79b8c_row3_col0\" class=\"data row3 col0\" >0.811183</td>\n",
       "      <td id=\"T_79b8c_row3_col1\" class=\"data row3 col1\" >0.654579</td>\n",
       "      <td id=\"T_79b8c_row3_col2\" class=\"data row3 col2\" >0.517510</td>\n",
       "      <td id=\"T_79b8c_row3_col3\" class=\"data row3 col3\" >0.646274</td>\n",
       "    </tr>\n",
       "    <tr>\n",
       "      <th id=\"T_79b8c_level0_row4\" class=\"row_heading level0 row4\" >bert-pos-tfidf</th>\n",
       "      <td id=\"T_79b8c_row4_col0\" class=\"data row4 col0\" >0.806682</td>\n",
       "      <td id=\"T_79b8c_row4_col1\" class=\"data row4 col1\" >0.647567</td>\n",
       "      <td id=\"T_79b8c_row4_col2\" class=\"data row4 col2\" >0.500691</td>\n",
       "      <td id=\"T_79b8c_row4_col3\" class=\"data row4 col3\" >0.625052</td>\n",
       "    </tr>\n",
       "    <tr>\n",
       "      <th id=\"T_79b8c_level0_row5\" class=\"row_heading level0 row5\" >bert-pos-ner-tfidf</th>\n",
       "      <td id=\"T_79b8c_row5_col0\" class=\"data row5 col0\" >0.796453</td>\n",
       "      <td id=\"T_79b8c_row5_col1\" class=\"data row5 col1\" >0.659695</td>\n",
       "      <td id=\"T_79b8c_row5_col2\" class=\"data row5 col2\" >0.523221</td>\n",
       "      <td id=\"T_79b8c_row5_col3\" class=\"data row5 col3\" >0.645137</td>\n",
       "    </tr>\n",
       "  </tbody>\n",
       "</table style=\"display:inline\">\n",
       "</td></tr></table style=\"display:inline\">"
      ]
     },
     "metadata": {},
     "output_type": "display_data"
    }
   ],
   "source": [
    "print('With multimodal labels\\n')\n",
    "display_dataframes((style_dataframe(df_single_scores2), style_dataframe(df_multiple_scores2), style_dataframe(df_average_scores2)), \n",
    "                   names=['MVSA-Single', 'MVSA-Multiple', 'Average'])"
   ]
  },
  {
   "cell_type": "code",
   "execution_count": 32,
   "id": "1c45dc19",
   "metadata": {
    "execution": {
     "iopub.execute_input": "2022-07-13T17:32:19.485167Z",
     "iopub.status.busy": "2022-07-13T17:32:19.484323Z",
     "iopub.status.idle": "2022-07-13T17:32:19.521363Z",
     "shell.execute_reply": "2022-07-13T17:32:19.520322Z"
    },
    "papermill": {
     "duration": 0.052396,
     "end_time": "2022-07-13T17:32:19.523590",
     "exception": false,
     "start_time": "2022-07-13T17:32:19.471194",
     "status": "completed"
    },
    "tags": []
   },
   "outputs": [
    {
     "name": "stdout",
     "output_type": "stream",
     "text": [
      "With both MVSA merged together\n",
      "\n"
     ]
    },
    {
     "data": {
      "text/html": [
       "<table style=\"display:inline\"><tr><td style=\"text-align:center\">Original image labels</td><td style=\"text-align:center\">Multimodal labels</td></tr><tr><td style=\"vertical-align:top\"> <style type=\"text/css\">\n",
       "#T_b1231_row0_col0, #T_b1231_row0_col1, #T_b1231_row0_col2, #T_b1231_row0_col3 {\n",
       "  color: tomato;\n",
       "}\n",
       "#T_b1231_row1_col2, #T_b1231_row1_col3, #T_b1231_row3_col0, #T_b1231_row3_col1 {\n",
       "  color: lawngreen;\n",
       "}\n",
       "</style>\n",
       "<table style=\"display:inline\" id=\"T_b1231_\">\n",
       "  <thead>\n",
       "    <tr>\n",
       "      <th class=\"blank level0\" >&nbsp;</th>\n",
       "      <th class=\"col_heading level0 col0\" >Loss</th>\n",
       "      <th class=\"col_heading level0 col1\" >Accuracy</th>\n",
       "      <th class=\"col_heading level0 col2\" >F1-macro</th>\n",
       "      <th class=\"col_heading level0 col3\" >F1-weighted</th>\n",
       "    </tr>\n",
       "  </thead>\n",
       "  <tbody>\n",
       "    <tr>\n",
       "      <th id=\"T_b1231_level0_row0\" class=\"row_heading level0 row0\" >glove</th>\n",
       "      <td id=\"T_b1231_row0_col0\" class=\"data row0 col0\" >1.074250</td>\n",
       "      <td id=\"T_b1231_row0_col1\" class=\"data row0 col1\" >0.425453</td>\n",
       "      <td id=\"T_b1231_row0_col2\" class=\"data row0 col2\" >0.303294</td>\n",
       "      <td id=\"T_b1231_row0_col3\" class=\"data row0 col3\" >0.403924</td>\n",
       "    </tr>\n",
       "    <tr>\n",
       "      <th id=\"T_b1231_level0_row1\" class=\"row_heading level0 row1\" >bert-base</th>\n",
       "      <td id=\"T_b1231_row1_col0\" class=\"data row1 col0\" >0.861569</td>\n",
       "      <td id=\"T_b1231_row1_col1\" class=\"data row1 col1\" >0.581050</td>\n",
       "      <td id=\"T_b1231_row1_col2\" class=\"data row1 col2\" >0.510591</td>\n",
       "      <td id=\"T_b1231_row1_col3\" class=\"data row1 col3\" >0.565238</td>\n",
       "    </tr>\n",
       "    <tr>\n",
       "      <th id=\"T_b1231_level0_row2\" class=\"row_heading level0 row2\" >bert-pos-bow</th>\n",
       "      <td id=\"T_b1231_row2_col0\" class=\"data row2 col0\" >0.853566</td>\n",
       "      <td id=\"T_b1231_row2_col1\" class=\"data row2 col1\" >0.590339</td>\n",
       "      <td id=\"T_b1231_row2_col2\" class=\"data row2 col2\" >0.502129</td>\n",
       "      <td id=\"T_b1231_row2_col3\" class=\"data row2 col3\" >0.562849</td>\n",
       "    </tr>\n",
       "    <tr>\n",
       "      <th id=\"T_b1231_level0_row3\" class=\"row_heading level0 row3\" >bert-pos-ner-bow</th>\n",
       "      <td id=\"T_b1231_row3_col0\" class=\"data row3 col0\" >0.838015</td>\n",
       "      <td id=\"T_b1231_row3_col1\" class=\"data row3 col1\" >0.595448</td>\n",
       "      <td id=\"T_b1231_row3_col2\" class=\"data row3 col2\" >0.491042</td>\n",
       "      <td id=\"T_b1231_row3_col3\" class=\"data row3 col3\" >0.561253</td>\n",
       "    </tr>\n",
       "    <tr>\n",
       "      <th id=\"T_b1231_level0_row4\" class=\"row_heading level0 row4\" >bert-pos-tfidf</th>\n",
       "      <td id=\"T_b1231_row4_col0\" class=\"data row4 col0\" >0.862500</td>\n",
       "      <td id=\"T_b1231_row4_col1\" class=\"data row4 col1\" >0.588481</td>\n",
       "      <td id=\"T_b1231_row4_col2\" class=\"data row4 col2\" >0.476155</td>\n",
       "      <td id=\"T_b1231_row4_col3\" class=\"data row4 col3\" >0.534956</td>\n",
       "    </tr>\n",
       "    <tr>\n",
       "      <th id=\"T_b1231_level0_row5\" class=\"row_heading level0 row5\" >bert-pos-ner-tfidf</th>\n",
       "      <td id=\"T_b1231_row5_col0\" class=\"data row5 col0\" >0.873983</td>\n",
       "      <td id=\"T_b1231_row5_col1\" class=\"data row5 col1\" >0.575476</td>\n",
       "      <td id=\"T_b1231_row5_col2\" class=\"data row5 col2\" >0.509073</td>\n",
       "      <td id=\"T_b1231_row5_col3\" class=\"data row5 col3\" >0.562915</td>\n",
       "    </tr>\n",
       "  </tbody>\n",
       "</table style=\"display:inline\">\n",
       "</td><td style=\"vertical-align:top\"> <style type=\"text/css\">\n",
       "#T_f3fe0_row0_col0, #T_f3fe0_row0_col1, #T_f3fe0_row0_col2, #T_f3fe0_row0_col3 {\n",
       "  color: tomato;\n",
       "}\n",
       "#T_f3fe0_row2_col2, #T_f3fe0_row2_col3, #T_f3fe0_row3_col1, #T_f3fe0_row5_col0 {\n",
       "  color: lawngreen;\n",
       "}\n",
       "</style>\n",
       "<table style=\"display:inline\" id=\"T_f3fe0_\">\n",
       "  <thead>\n",
       "    <tr>\n",
       "      <th class=\"blank level0\" >&nbsp;</th>\n",
       "      <th class=\"col_heading level0 col0\" >Loss</th>\n",
       "      <th class=\"col_heading level0 col1\" >Accuracy</th>\n",
       "      <th class=\"col_heading level0 col2\" >F1-macro</th>\n",
       "      <th class=\"col_heading level0 col3\" >F1-weighted</th>\n",
       "    </tr>\n",
       "  </thead>\n",
       "  <tbody>\n",
       "    <tr>\n",
       "      <th id=\"T_f3fe0_level0_row0\" class=\"row_heading level0 row0\" >glove</th>\n",
       "      <td id=\"T_f3fe0_row0_col0\" class=\"data row0 col0\" >1.033728</td>\n",
       "      <td id=\"T_f3fe0_row0_col1\" class=\"data row0 col1\" >0.507199</td>\n",
       "      <td id=\"T_f3fe0_row0_col2\" class=\"data row0 col2\" >0.337261</td>\n",
       "      <td id=\"T_f3fe0_row0_col3\" class=\"data row0 col3\" >0.482624</td>\n",
       "    </tr>\n",
       "    <tr>\n",
       "      <th id=\"T_f3fe0_level0_row1\" class=\"row_heading level0 row1\" >bert-base</th>\n",
       "      <td id=\"T_f3fe0_row1_col0\" class=\"data row1 col0\" >0.775671</td>\n",
       "      <td id=\"T_f3fe0_row1_col1\" class=\"data row1 col1\" >0.668370</td>\n",
       "      <td id=\"T_f3fe0_row1_col2\" class=\"data row1 col2\" >0.514256</td>\n",
       "      <td id=\"T_f3fe0_row1_col3\" class=\"data row1 col3\" >0.639987</td>\n",
       "    </tr>\n",
       "    <tr>\n",
       "      <th id=\"T_f3fe0_level0_row2\" class=\"row_heading level0 row2\" >bert-pos-bow</th>\n",
       "      <td id=\"T_f3fe0_row2_col0\" class=\"data row2 col0\" >0.768275</td>\n",
       "      <td id=\"T_f3fe0_row2_col1\" class=\"data row2 col1\" >0.663261</td>\n",
       "      <td id=\"T_f3fe0_row2_col2\" class=\"data row2 col2\" >0.527533</td>\n",
       "      <td id=\"T_f3fe0_row2_col3\" class=\"data row2 col3\" >0.648171</td>\n",
       "    </tr>\n",
       "    <tr>\n",
       "      <th id=\"T_f3fe0_level0_row3\" class=\"row_heading level0 row3\" >bert-pos-ner-bow</th>\n",
       "      <td id=\"T_f3fe0_row3_col0\" class=\"data row3 col0\" >0.772325</td>\n",
       "      <td id=\"T_f3fe0_row3_col1\" class=\"data row3 col1\" >0.675801</td>\n",
       "      <td id=\"T_f3fe0_row3_col2\" class=\"data row3 col2\" >0.515610</td>\n",
       "      <td id=\"T_f3fe0_row3_col3\" class=\"data row3 col3\" >0.644677</td>\n",
       "    </tr>\n",
       "    <tr>\n",
       "      <th id=\"T_f3fe0_level0_row4\" class=\"row_heading level0 row4\" >bert-pos-tfidf</th>\n",
       "      <td id=\"T_f3fe0_row4_col0\" class=\"data row4 col0\" >0.799890</td>\n",
       "      <td id=\"T_f3fe0_row4_col1\" class=\"data row4 col1\" >0.640966</td>\n",
       "      <td id=\"T_f3fe0_row4_col2\" class=\"data row4 col2\" >0.460798</td>\n",
       "      <td id=\"T_f3fe0_row4_col3\" class=\"data row4 col3\" >0.589009</td>\n",
       "    </tr>\n",
       "    <tr>\n",
       "      <th id=\"T_f3fe0_level0_row5\" class=\"row_heading level0 row5\" >bert-pos-ner-tfidf</th>\n",
       "      <td id=\"T_f3fe0_row5_col0\" class=\"data row5 col0\" >0.764040</td>\n",
       "      <td id=\"T_f3fe0_row5_col1\" class=\"data row5 col1\" >0.673014</td>\n",
       "      <td id=\"T_f3fe0_row5_col2\" class=\"data row5 col2\" >0.506828</td>\n",
       "      <td id=\"T_f3fe0_row5_col3\" class=\"data row5 col3\" >0.639286</td>\n",
       "    </tr>\n",
       "  </tbody>\n",
       "</table style=\"display:inline\">\n",
       "</td></tr></table style=\"display:inline\">"
      ]
     },
     "metadata": {},
     "output_type": "display_data"
    }
   ],
   "source": [
    "print('With both MVSA merged together\\n')\n",
    "display_dataframes((style_dataframe(df_scores3), style_dataframe(df_scores4)), \n",
    "                   names=['Original image labels', 'Multimodal labels'])"
   ]
  },
  {
   "cell_type": "code",
   "execution_count": null,
   "id": "36fd65d0",
   "metadata": {
    "papermill": {
     "duration": 0.012863,
     "end_time": "2022-07-13T17:32:19.549290",
     "exception": false,
     "start_time": "2022-07-13T17:32:19.536427",
     "status": "completed"
    },
    "tags": []
   },
   "outputs": [],
   "source": []
  }
 ],
 "metadata": {
  "kernelspec": {
   "display_name": "Python 3",
   "language": "python",
   "name": "python3"
  },
  "language_info": {
   "codemirror_mode": {
    "name": "ipython",
    "version": 3
   },
   "file_extension": ".py",
   "mimetype": "text/x-python",
   "name": "python",
   "nbconvert_exporter": "python",
   "pygments_lexer": "ipython3",
   "version": "3.7.12"
  },
  "papermill": {
   "default_parameters": {},
   "duration": 699.056153,
   "end_time": "2022-07-13T17:32:23.136308",
   "environment_variables": {},
   "exception": null,
   "input_path": "__notebook__.ipynb",
   "output_path": "__notebook__.ipynb",
   "parameters": {},
   "start_time": "2022-07-13T17:20:44.080155",
   "version": "2.3.4"
  }
 },
 "nbformat": 4,
 "nbformat_minor": 5
}
