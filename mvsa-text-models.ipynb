{
 "cells": [
  {
   "cell_type": "code",
   "execution_count": 1,
   "id": "bffd894a",
   "metadata": {
    "_cell_guid": "b1076dfc-b9ad-4769-8c92-a6c4dae69d19",
    "_uuid": "8f2839f25d086af736a60e9eeb907d3b93b6e0e5",
    "execution": {
     "iopub.execute_input": "2022-07-01T07:19:10.231419Z",
     "iopub.status.busy": "2022-07-01T07:19:10.230737Z",
     "iopub.status.idle": "2022-07-01T07:19:24.144716Z",
     "shell.execute_reply": "2022-07-01T07:19:24.143463Z"
    },
    "papermill": {
     "duration": 13.930189,
     "end_time": "2022-07-01T07:19:24.148203",
     "exception": false,
     "start_time": "2022-07-01T07:19:10.218014",
     "status": "completed"
    },
    "tags": []
   },
   "outputs": [],
   "source": [
    "SEED = 61\n",
    "\n",
    "\n",
    "import os\n",
    "import re\n",
    "import gc\n",
    "import h5py\n",
    "import torch\n",
    "import numpy as np\n",
    "import pandas as pd\n",
    "import tensorflow as tf\n",
    "import random as python_random\n",
    "import matplotlib.pyplot as plt\n",
    "import tensorflow_addons as tfa\n",
    "\n",
    "from tqdm import tqdm\n",
    "from nltk import tokenize\n",
    "\n",
    "from sklearn import preprocessing\n",
    "from sklearn.decomposition import PCA\n",
    "from keras import backend as K\n",
    "from keras import initializers,regularizers,constraints\n",
    "from keras.preprocessing.text import Tokenizer, text_to_word_sequence\n",
    "from keras.preprocessing.sequence import pad_sequences\n",
    "from keras.utils.np_utils import to_categorical\n",
    "from keras.layers import Reshape, Input, Embedding, Flatten, Dense, Dropout, BatchNormalization, Activation #, merge\n",
    "from keras.layers import TimeDistributed, LSTM, GRU, Bidirectional, Convolution1D, MaxPooling1D, MaxPooling2D\n",
    "from keras.layers.core import RepeatVector, Reshape\n",
    "from keras.callbacks import ModelCheckpoint, EarlyStopping, ReduceLROnPlateau\n",
    "from keras.models import Sequential, Model, load_model\n",
    "from sklearn.model_selection import cross_val_score\n",
    "\n",
    "def reset_seeds():\n",
    "    np.random.seed(SEED) \n",
    "    python_random.seed(SEED)\n",
    "    tf.random.set_seed(SEED)\n",
    "    os.environ[\"PYTHONHASHSEED\"] = str(SEED)\n",
    "\n",
    "# from tensorflow.python.keras.layers import Layer, InputSpec, Lambda\n",
    "# from tensorflow.keras import Model\n",
    "# from attention import Attention_input1, Attention_input2\n",
    "# from keras.optimizers import SGD, RMSprop, Adagrad"
   ]
  },
  {
   "cell_type": "code",
   "execution_count": 2,
   "id": "8f5c22aa",
   "metadata": {
    "execution": {
     "iopub.execute_input": "2022-07-01T07:19:24.169742Z",
     "iopub.status.busy": "2022-07-01T07:19:24.168599Z",
     "iopub.status.idle": "2022-07-01T07:19:24.176131Z",
     "shell.execute_reply": "2022-07-01T07:19:24.175312Z"
    },
    "papermill": {
     "duration": 0.020539,
     "end_time": "2022-07-01T07:19:24.178492",
     "exception": false,
     "start_time": "2022-07-01T07:19:24.157953",
     "status": "completed"
    },
    "tags": []
   },
   "outputs": [],
   "source": [
    "def read_hdf5(path):\n",
    "    read_file = h5py.File(path, 'r')\n",
    "    \n",
    "    feature_names = list(read_file.keys())\n",
    "    loaded_data = []\n",
    "    \n",
    "    for name in feature_names:\n",
    "        dataset = read_file[name][:]\n",
    "        if dataset.dtype == np.dtype('object'):\n",
    "            dataset = np.array([x.decode('UTF-8') for x in dataset])            \n",
    "        loaded_data.append((name, dataset))\n",
    "\n",
    "    return loaded_data\n",
    "\n",
    "def loadz(path):\n",
    "    data = np.load(path)['arr_0']\n",
    "    return data"
   ]
  },
  {
   "cell_type": "code",
   "execution_count": 3,
   "id": "7d9ec3c2",
   "metadata": {
    "execution": {
     "iopub.execute_input": "2022-07-01T07:19:24.198917Z",
     "iopub.status.busy": "2022-07-01T07:19:24.198339Z",
     "iopub.status.idle": "2022-07-01T07:19:24.207836Z",
     "shell.execute_reply": "2022-07-01T07:19:24.206712Z"
    },
    "papermill": {
     "duration": 0.022771,
     "end_time": "2022-07-01T07:19:24.210508",
     "exception": false,
     "start_time": "2022-07-01T07:19:24.187737",
     "status": "completed"
    },
    "tags": []
   },
   "outputs": [],
   "source": [
    "def merge_mvsa(mvsa_single, mvsa_multiple):\n",
    "    mvsa = np.concatenate((mvsa_single, mvsa_multiple), axis=0)\n",
    "    return mvsa\n",
    "\n",
    "def load_mvsa_feature(feature_name, merge=False):\n",
    "    folder_path = os.path.join('../input/mvsa-features/', feature_name)\n",
    "    single_file = 'mvsa-single-{}.npz'.format(feature_name)\n",
    "    multiple_file = 'mvsa-multiple-{}.npz'.format(feature_name)\n",
    "    mvsa_single = loadz(os.path.join(folder_path, single_file))\n",
    "    mvsa_multiple = loadz(os.path.join(folder_path, multiple_file))\n",
    "    \n",
    "    if merge == True:\n",
    "        return merge_mvsa(mvsa_single, mvsa_multiple)\n",
    "    \n",
    "    return mvsa_single, mvsa_multiple\n",
    "\n",
    "def load_labels(path):\n",
    "    data = read_hdf5(path)\n",
    "\n",
    "    for x in data:\n",
    "        if x[0] == 'multimodal-labels':\n",
    "            labels = x[1]\n",
    "        if x[0] == 'text-labels':\n",
    "            text_labels = x[1]\n",
    "        if x[0] == 'image-labels':\n",
    "            image_labels = x[1]\n",
    "        \n",
    "    return labels, text_labels, image_labels"
   ]
  },
  {
   "cell_type": "code",
   "execution_count": 4,
   "id": "58747fd0",
   "metadata": {
    "execution": {
     "iopub.execute_input": "2022-07-01T07:19:24.230348Z",
     "iopub.status.busy": "2022-07-01T07:19:24.229941Z",
     "iopub.status.idle": "2022-07-01T07:19:24.240979Z",
     "shell.execute_reply": "2022-07-01T07:19:24.239966Z"
    },
    "papermill": {
     "duration": 0.024039,
     "end_time": "2022-07-01T07:19:24.243450",
     "exception": false,
     "start_time": "2022-07-01T07:19:24.219411",
     "status": "completed"
    },
    "tags": []
   },
   "outputs": [],
   "source": [
    "def plot_metrics(history):\n",
    "    fig = plt.figure(figsize=(20, 5))\n",
    "\n",
    "    fig.add_subplot(1, 3, 1)\n",
    "    plt.plot(history.history['loss'])\n",
    "    plt.plot(history.history['val_loss'])\n",
    "    plt.title('LOSS')\n",
    "    plt.ylabel('loss')\n",
    "    plt.xlabel('epoch')\n",
    "    plt.legend(['train', 'val'], loc='best')\n",
    "\n",
    "    fig.add_subplot(1, 3, 2)\n",
    "    plt.plot(history.history['accuracy'])\n",
    "    plt.plot(history.history['val_accuracy'])\n",
    "    plt.title('ACCURACY')\n",
    "    plt.ylabel('accuracy')\n",
    "    plt.xlabel('epoch')\n",
    "    plt.legend(['train', 'val'], loc='best')\n",
    "\n",
    "    fig.add_subplot(1, 3, 3)\n",
    "    plt.plot(history.history['f1_score'])\n",
    "    plt.plot(history.history['val_f1_score'])\n",
    "    plt.title('F1-SCORE')\n",
    "    plt.ylabel('f1-score')\n",
    "    plt.xlabel('epoch')\n",
    "    plt.legend(['train', 'val'], loc='best')\n",
    "\n",
    "    plt.show()"
   ]
  },
  {
   "cell_type": "code",
   "execution_count": 5,
   "id": "63ce3fb7",
   "metadata": {
    "execution": {
     "iopub.execute_input": "2022-07-01T07:19:24.263792Z",
     "iopub.status.busy": "2022-07-01T07:19:24.262819Z",
     "iopub.status.idle": "2022-07-01T07:19:24.270299Z",
     "shell.execute_reply": "2022-07-01T07:19:24.269130Z"
    },
    "papermill": {
     "duration": 0.020252,
     "end_time": "2022-07-01T07:19:24.272802",
     "exception": false,
     "start_time": "2022-07-01T07:19:24.252550",
     "status": "completed"
    },
    "tags": []
   },
   "outputs": [],
   "source": [
    "# e.g. validation_split=0.1 -----> 8:1:1 ratio of train, val, test\n",
    "def split_data(data, validation_split):\n",
    "    num_val = int(validation_split * data.shape[0])\n",
    "    data_train = data[:-(num_val*2)]\n",
    "    data_val = data[-(num_val*2):-(num_val)]\n",
    "    data_test = data[-num_val:]\n",
    "    return data_train, data_val, data_test"
   ]
  },
  {
   "cell_type": "code",
   "execution_count": 6,
   "id": "bacb3c6f",
   "metadata": {
    "execution": {
     "iopub.execute_input": "2022-07-01T07:19:24.292500Z",
     "iopub.status.busy": "2022-07-01T07:19:24.292116Z",
     "iopub.status.idle": "2022-07-01T07:19:24.297859Z",
     "shell.execute_reply": "2022-07-01T07:19:24.297060Z"
    },
    "papermill": {
     "duration": 0.018179,
     "end_time": "2022-07-01T07:19:24.299944",
     "exception": false,
     "start_time": "2022-07-01T07:19:24.281765",
     "status": "completed"
    },
    "tags": []
   },
   "outputs": [],
   "source": [
    "def create_model_image(input_shape):\n",
    "    f1_score = tfa.metrics.F1Score(num_classes=NUM_CLASSES, average='macro')\n",
    "    \n",
    "    image_input = Input(shape=input_shape)\n",
    "    outputs = Dense(NUM_CLASSES, activation='softmax') (image_input)\n",
    "    \n",
    "    model = Model(image_input, outputs)\n",
    "    model.compile(optimizer='adam', loss='categorical_crossentropy', metrics=['accuracy', f1_score]) # f1 #tf.keras.metrics.AUC()\n",
    "    return model"
   ]
  },
  {
   "cell_type": "code",
   "execution_count": 7,
   "id": "972cd34c",
   "metadata": {
    "execution": {
     "iopub.execute_input": "2022-07-01T07:19:24.320294Z",
     "iopub.status.busy": "2022-07-01T07:19:24.319569Z",
     "iopub.status.idle": "2022-07-01T07:19:24.326148Z",
     "shell.execute_reply": "2022-07-01T07:19:24.325326Z"
    },
    "papermill": {
     "duration": 0.019491,
     "end_time": "2022-07-01T07:19:24.328543",
     "exception": false,
     "start_time": "2022-07-01T07:19:24.309052",
     "status": "completed"
    },
    "tags": []
   },
   "outputs": [],
   "source": [
    "def create_model_text(input_shape):\n",
    "    f1_score = tfa.metrics.F1Score(num_classes=NUM_CLASSES, average='macro')\n",
    "    \n",
    "    text_input = Input(shape=input_shape)\n",
    "    reshape_text = Reshape((1, -1)) (text_input)\n",
    "    lstm = LSTM(NUM_LSTM) (reshape_text)\n",
    "    outputs = Dense(NUM_CLASSES, activation='softmax') (lstm)\n",
    "    \n",
    "    model = Model(text_input, outputs)\n",
    "    model.compile(optimizer='adam', loss='categorical_crossentropy', metrics=['accuracy', f1_score]) # f1 #tf.keras.metrics.AUC()\n",
    "    \n",
    "    return model"
   ]
  },
  {
   "cell_type": "code",
   "execution_count": 8,
   "id": "5bb6187d",
   "metadata": {
    "execution": {
     "iopub.execute_input": "2022-07-01T07:19:24.349836Z",
     "iopub.status.busy": "2022-07-01T07:19:24.349028Z",
     "iopub.status.idle": "2022-07-01T07:19:24.355568Z",
     "shell.execute_reply": "2022-07-01T07:19:24.354701Z"
    },
    "papermill": {
     "duration": 0.01975,
     "end_time": "2022-07-01T07:19:24.357717",
     "exception": false,
     "start_time": "2022-07-01T07:19:24.337967",
     "status": "completed"
    },
    "tags": []
   },
   "outputs": [],
   "source": [
    "def evaluate_model(model, X_test, y_test, checkpoint=None, verbose=1):\n",
    "    if checkpoint is not None:\n",
    "        model = load_model('./model_checkpoint/{}.h5'.format(checkpoint))#, custom_objects={'f1': f1})\n",
    "    \n",
    "    loss, acc, f1 = model.evaluate(X_test, y_test, verbose=verbose)\n",
    "    \n",
    "    if verbose == 1:\n",
    "        print('Loss:', loss)\n",
    "        print('Accuracy:', acc)\n",
    "        print('F1-score:', f1)\n",
    "        \n",
    "    return loss, acc, f1"
   ]
  },
  {
   "cell_type": "code",
   "execution_count": 9,
   "id": "e8c6ab2a",
   "metadata": {
    "execution": {
     "iopub.execute_input": "2022-07-01T07:19:24.378499Z",
     "iopub.status.busy": "2022-07-01T07:19:24.377802Z",
     "iopub.status.idle": "2022-07-01T07:19:24.386731Z",
     "shell.execute_reply": "2022-07-01T07:19:24.385575Z"
    },
    "papermill": {
     "duration": 0.022312,
     "end_time": "2022-07-01T07:19:24.389367",
     "exception": false,
     "start_time": "2022-07-01T07:19:24.367055",
     "status": "completed"
    },
    "tags": []
   },
   "outputs": [],
   "source": [
    "def run_and_evaluate(name, X, y, verbose=0):\n",
    "    y = le.fit_transform(y)\n",
    "    y = to_categorical(np.asarray(y))\n",
    "    \n",
    "    X_train, X_val, X_test = split_data(X, VALIDATION_SPLIT)\n",
    "    y_train, y_val, y_test = split_data(y, VALIDATION_SPLIT)\n",
    "    \n",
    "    model = create_model_text(X_train.shape[1:])\n",
    "    early_stopping = EarlyStopping(monitor='val_loss', min_delta=1e-4, patience=EARLY_STOPPING)\n",
    "    checkpoint = ModelCheckpoint('./model_checkpoint/{}.h5'.format(name), save_best_only=True, verbose=verbose)\n",
    "    \n",
    "    history = model.fit(X_train, y_train, validation_data=(X_val, y_val), \n",
    "                        epochs=EPOCHS, batch_size=BATCH_SIZE, verbose=verbose,\n",
    "                        callbacks=[checkpoint, early_stopping])\n",
    "    \n",
    "    best_epoch = np.argmin(history.history['val_loss'])\n",
    "    print('Checkpoint loaded at epoch:', best_epoch)\n",
    "    \n",
    "    return history, evaluate_model(model, X_test, y_test, checkpoint=name, verbose=verbose)"
   ]
  },
  {
   "cell_type": "code",
   "execution_count": 10,
   "id": "0ae7bed3",
   "metadata": {
    "execution": {
     "iopub.execute_input": "2022-07-01T07:19:24.409724Z",
     "iopub.status.busy": "2022-07-01T07:19:24.408942Z",
     "iopub.status.idle": "2022-07-01T07:19:24.415672Z",
     "shell.execute_reply": "2022-07-01T07:19:24.414763Z"
    },
    "papermill": {
     "duration": 0.019153,
     "end_time": "2022-07-01T07:19:24.417742",
     "exception": false,
     "start_time": "2022-07-01T07:19:24.398589",
     "status": "completed"
    },
    "tags": []
   },
   "outputs": [],
   "source": [
    "def style_dataframe(dataframe):\n",
    "    return dataframe.style.highlight_max(subset=['Accuracy', 'F1-score'], props='color:lawngreen', axis=0)\\\n",
    "                          .highlight_min(subset=['Accuracy', 'F1-score'], props='color:tomato', axis=0)\\\n",
    "                          .highlight_min(subset=['Loss'], props='color:lawngreen', axis=0)\\\n",
    "                          .highlight_max(subset=['Loss'], props='color:tomato', axis=0)"
   ]
  },
  {
   "cell_type": "code",
   "execution_count": 11,
   "id": "c9a4318e",
   "metadata": {
    "execution": {
     "iopub.execute_input": "2022-07-01T07:19:24.439201Z",
     "iopub.status.busy": "2022-07-01T07:19:24.438516Z",
     "iopub.status.idle": "2022-07-01T07:19:24.446223Z",
     "shell.execute_reply": "2022-07-01T07:19:24.445331Z"
    },
    "papermill": {
     "duration": 0.020663,
     "end_time": "2022-07-01T07:19:24.448610",
     "exception": false,
     "start_time": "2022-07-01T07:19:24.427947",
     "status": "completed"
    },
    "tags": []
   },
   "outputs": [],
   "source": [
    "from IPython.display import display_html\n",
    "\n",
    "def display_dataframes(dfs, names=[], index=False):\n",
    "    def to_df(x):\n",
    "        if isinstance(x, pd.Series):\n",
    "            return pd.DataFrame(x)\n",
    "        else:\n",
    "            return x\n",
    "    html_str = ''\n",
    "    if names:\n",
    "        html_str += ('<tr>' + \n",
    "                     ''.join(f'<td style=\"text-align:center\">{name}</td>' for name in names) + \n",
    "                     '</tr>')\n",
    "    html_str += ('<tr>' + \n",
    "                 ''.join(f'<td style=\"vertical-align:top\"> {to_df(df).to_html()}</td>' \n",
    "                         for df in dfs) + \n",
    "                 '</tr>')\n",
    "    html_str = f'<table>{html_str}</table>'\n",
    "    html_str = html_str.replace('table','table style=\"display:inline\"')\n",
    "    display_html(html_str, raw=True)"
   ]
  },
  {
   "cell_type": "markdown",
   "id": "442efa9f",
   "metadata": {
    "papermill": {
     "duration": 0.008709,
     "end_time": "2022-07-01T07:19:24.466687",
     "exception": false,
     "start_time": "2022-07-01T07:19:24.457978",
     "status": "completed"
    },
    "tags": []
   },
   "source": [
    "# Load data"
   ]
  },
  {
   "cell_type": "code",
   "execution_count": 12,
   "id": "8a5286cf",
   "metadata": {
    "execution": {
     "iopub.execute_input": "2022-07-01T07:19:24.486326Z",
     "iopub.status.busy": "2022-07-01T07:19:24.485895Z",
     "iopub.status.idle": "2022-07-01T07:19:25.673753Z",
     "shell.execute_reply": "2022-07-01T07:19:25.672718Z"
    },
    "papermill": {
     "duration": 1.200721,
     "end_time": "2022-07-01T07:19:25.676344",
     "exception": false,
     "start_time": "2022-07-01T07:19:24.475623",
     "status": "completed"
    },
    "tags": []
   },
   "outputs": [],
   "source": [
    "mvsa_single_bert_base, mvsa_multiple_bert_base = load_mvsa_feature('bert-base')\n",
    "mvsa_single_pos_bow, mvsa_multiple_pos_bow = load_mvsa_feature('pos-bow')\n",
    "mvsa_single_pos_tfidf, mvsa_multiple_pos_tfidf = load_mvsa_feature('pos-tfidf')\n",
    "mvsa_single_ner_bow, mvsa_multiple_ner_bow = load_mvsa_feature('ner-bow')\n",
    "mvsa_single_ner_tfidf, mvsa_multiple_ner_tfidf = load_mvsa_feature('ner-tfidf')"
   ]
  },
  {
   "cell_type": "code",
   "execution_count": 13,
   "id": "0b5f347f",
   "metadata": {
    "execution": {
     "iopub.execute_input": "2022-07-01T07:19:25.696650Z",
     "iopub.status.busy": "2022-07-01T07:19:25.696044Z",
     "iopub.status.idle": "2022-07-01T07:19:25.897902Z",
     "shell.execute_reply": "2022-07-01T07:19:25.896670Z"
    },
    "papermill": {
     "duration": 0.215132,
     "end_time": "2022-07-01T07:19:25.900772",
     "exception": false,
     "start_time": "2022-07-01T07:19:25.685640",
     "status": "completed"
    },
    "tags": []
   },
   "outputs": [],
   "source": [
    "mvsa_bert_base = load_mvsa_feature('bert-base', merge=True)\n",
    "mvsa_pos_bow = load_mvsa_feature('pos-bow', merge=True)\n",
    "mvsa_pos_tfidf = load_mvsa_feature('pos-tfidf', merge=True)\n",
    "mvsa_ner_bow = load_mvsa_feature('ner-bow', merge=True)\n",
    "mvsa_ner_tfidf = load_mvsa_feature('ner-tfidf', merge=True)"
   ]
  },
  {
   "cell_type": "code",
   "execution_count": 14,
   "id": "302e73d5",
   "metadata": {
    "execution": {
     "iopub.execute_input": "2022-07-01T07:19:25.921733Z",
     "iopub.status.busy": "2022-07-01T07:19:25.920886Z",
     "iopub.status.idle": "2022-07-01T07:19:26.073161Z",
     "shell.execute_reply": "2022-07-01T07:19:26.072142Z"
    },
    "papermill": {
     "duration": 0.165892,
     "end_time": "2022-07-01T07:19:26.075929",
     "exception": false,
     "start_time": "2022-07-01T07:19:25.910037",
     "status": "completed"
    },
    "tags": []
   },
   "outputs": [],
   "source": [
    "mvsa_single_multimodal_labels, mvsa_single_text_labels, mvsa_single_image_labels = load_labels('../input/mvsa-features/labels/mvsa-single-labels.hdf5')\n",
    "mvsa_multiple_multimodal_labels, mvsa_multiple_text_labels, mvsa_multiple_image_labels = load_labels('../input/mvsa-features/labels/mvsa-multiple-labels.hdf5')\n",
    "\n",
    "mvsa_multimodal_labels = merge_mvsa(mvsa_single_multimodal_labels, mvsa_multiple_multimodal_labels)\n",
    "mvsa_text_labels = merge_mvsa(mvsa_single_text_labels, mvsa_multiple_text_labels)\n",
    "mvsa_image_labels = merge_mvsa(mvsa_single_image_labels, mvsa_multiple_image_labels)"
   ]
  },
  {
   "cell_type": "code",
   "execution_count": 15,
   "id": "e7db423d",
   "metadata": {
    "execution": {
     "iopub.execute_input": "2022-07-01T07:19:26.096525Z",
     "iopub.status.busy": "2022-07-01T07:19:26.095348Z",
     "iopub.status.idle": "2022-07-01T07:19:26.104688Z",
     "shell.execute_reply": "2022-07-01T07:19:26.103402Z"
    },
    "papermill": {
     "duration": 0.022251,
     "end_time": "2022-07-01T07:19:26.107306",
     "exception": false,
     "start_time": "2022-07-01T07:19:26.085055",
     "status": "completed"
    },
    "tags": []
   },
   "outputs": [],
   "source": [
    "le = preprocessing.LabelEncoder()\n",
    "le.fit(mvsa_multimodal_labels)\n",
    "NUM_CLASSES = len(le.classes_) # =3"
   ]
  },
  {
   "cell_type": "code",
   "execution_count": 16,
   "id": "781fc6e9",
   "metadata": {
    "execution": {
     "iopub.execute_input": "2022-07-01T07:19:26.127939Z",
     "iopub.status.busy": "2022-07-01T07:19:26.127221Z",
     "iopub.status.idle": "2022-07-01T07:19:26.562024Z",
     "shell.execute_reply": "2022-07-01T07:19:26.560959Z"
    },
    "papermill": {
     "duration": 0.44826,
     "end_time": "2022-07-01T07:19:26.564723",
     "exception": false,
     "start_time": "2022-07-01T07:19:26.116463",
     "status": "completed"
    },
    "tags": []
   },
   "outputs": [],
   "source": [
    "feature_names = ['bert-base', 'bert-pos-bow', 'bert-pos-ner-bow', 'bert-pos-tfidf', 'bert-pos-ner-tfidf']\n",
    "\n",
    "mvsa_single_features = [mvsa_single_bert_base, \n",
    "                        np.concatenate((mvsa_single_bert_base, mvsa_single_pos_bow), axis=1), \n",
    "                        np.concatenate((mvsa_single_bert_base, mvsa_single_pos_bow, mvsa_single_ner_bow), axis=1),\n",
    "                        np.concatenate((mvsa_single_bert_base, mvsa_single_pos_tfidf), axis=1), \n",
    "                        np.concatenate((mvsa_single_bert_base, mvsa_single_pos_tfidf, mvsa_single_ner_tfidf), axis=1)]\n",
    "\n",
    "mvsa_multiple_features = [mvsa_multiple_bert_base, \n",
    "                          np.concatenate((mvsa_multiple_bert_base, mvsa_multiple_pos_bow), axis=1), \n",
    "                          np.concatenate((mvsa_multiple_bert_base, mvsa_multiple_pos_bow, mvsa_multiple_ner_bow), axis=1),\n",
    "                          np.concatenate((mvsa_multiple_bert_base, mvsa_multiple_pos_tfidf), axis=1), \n",
    "                          np.concatenate((mvsa_multiple_bert_base, mvsa_multiple_pos_tfidf, mvsa_multiple_ner_tfidf), axis=1)]\n",
    "\n",
    "mvsa_features = [mvsa_bert_base,\n",
    "                 np.concatenate((mvsa_bert_base, mvsa_pos_bow), axis=1), \n",
    "                 np.concatenate((mvsa_bert_base, mvsa_pos_bow, mvsa_ner_bow), axis=1),\n",
    "                 np.concatenate((mvsa_bert_base, mvsa_pos_tfidf), axis=1), \n",
    "                 np.concatenate((mvsa_bert_base, mvsa_pos_tfidf, mvsa_ner_bow), axis=1)]"
   ]
  },
  {
   "cell_type": "markdown",
   "id": "bb737546",
   "metadata": {
    "papermill": {
     "duration": 0.009336,
     "end_time": "2022-07-01T07:19:26.583221",
     "exception": false,
     "start_time": "2022-07-01T07:19:26.573885",
     "status": "completed"
    },
    "tags": []
   },
   "source": [
    "# Run models and Evalution display"
   ]
  },
  {
   "cell_type": "code",
   "execution_count": 17,
   "id": "23a45a50",
   "metadata": {
    "execution": {
     "iopub.execute_input": "2022-07-01T07:19:26.604199Z",
     "iopub.status.busy": "2022-07-01T07:19:26.603134Z",
     "iopub.status.idle": "2022-07-01T07:19:26.608441Z",
     "shell.execute_reply": "2022-07-01T07:19:26.607559Z"
    },
    "papermill": {
     "duration": 0.018267,
     "end_time": "2022-07-01T07:19:26.610661",
     "exception": false,
     "start_time": "2022-07-01T07:19:26.592394",
     "status": "completed"
    },
    "tags": []
   },
   "outputs": [],
   "source": [
    "reset_seeds()\n",
    "EPOCHS = 3\n",
    "BATCH_SIZE = 128\n",
    "VALIDATION_SPLIT = 0.1\n",
    "EARLY_STOPPING = 10\n",
    "NUM_LSTM = 128"
   ]
  },
  {
   "cell_type": "markdown",
   "id": "57abc901",
   "metadata": {
    "papermill": {
     "duration": 0.008888,
     "end_time": "2022-07-01T07:19:26.628785",
     "exception": false,
     "start_time": "2022-07-01T07:19:26.619897",
     "status": "completed"
    },
    "tags": []
   },
   "source": [
    "## With original text labels"
   ]
  },
  {
   "cell_type": "code",
   "execution_count": 18,
   "id": "eee77348",
   "metadata": {
    "execution": {
     "iopub.execute_input": "2022-07-01T07:19:26.649762Z",
     "iopub.status.busy": "2022-07-01T07:19:26.648712Z",
     "iopub.status.idle": "2022-07-01T07:19:54.936005Z",
     "shell.execute_reply": "2022-07-01T07:19:54.935035Z"
    },
    "papermill": {
     "duration": 28.300377,
     "end_time": "2022-07-01T07:19:54.938424",
     "exception": false,
     "start_time": "2022-07-01T07:19:26.638047",
     "status": "completed"
    },
    "tags": []
   },
   "outputs": [
    {
     "name": "stdout",
     "output_type": "stream",
     "text": [
      "MVSA-Single: With original text labels\n",
      "\n",
      "MVSA-Single: bert-base\n"
     ]
    },
    {
     "name": "stderr",
     "output_type": "stream",
     "text": [
      "2022-07-01 07:19:26.695103: I tensorflow/core/common_runtime/process_util.cc:146] Creating new thread pool with default inter op setting: 2. Tune using inter_op_parallelism_threads for best performance.\n",
      "2022-07-01 07:19:27.374610: I tensorflow/compiler/mlir/mlir_graph_optimization_pass.cc:185] None of the MLIR Optimization Passes are enabled (registered 2)\n"
     ]
    },
    {
     "name": "stdout",
     "output_type": "stream",
     "text": [
      "Checkpoint loaded at epoch: 2\n",
      "\n",
      "MVSA-Single: bert-pos-bow\n",
      "Checkpoint loaded at epoch: 2\n",
      "\n",
      "MVSA-Single: bert-pos-ner-bow\n",
      "Checkpoint loaded at epoch: 1\n",
      "\n",
      "MVSA-Single: bert-pos-tfidf\n",
      "Checkpoint loaded at epoch: 1\n",
      "\n",
      "MVSA-Single: bert-pos-ner-tfidf\n",
      "Checkpoint loaded at epoch: 2\n",
      "\n"
     ]
    }
   ],
   "source": [
    "print('MVSA-Single: With original text labels\\n')\n",
    "# run model with all features data of MVSA-Single\n",
    "mvsa_single_hitories = []\n",
    "mvsa_single_score = []\n",
    "for i in range(len(feature_names)):\n",
    "    print('MVSA-Single:', feature_names[i])\n",
    "    history, scores = run_and_evaluate('single-' + feature_names[i], mvsa_single_features[i], mvsa_single_text_labels, verbose=0)\n",
    "    mvsa_single_hitories.append(history)\n",
    "    mvsa_single_score.append(scores)\n",
    "    print()\n",
    "    \n",
    "df_single_scores = pd.DataFrame(mvsa_single_score, columns=['Loss', 'Accuracy', 'F1-score'], index=feature_names)"
   ]
  },
  {
   "cell_type": "code",
   "execution_count": 19,
   "id": "95ab2eed",
   "metadata": {
    "execution": {
     "iopub.execute_input": "2022-07-01T07:19:54.960203Z",
     "iopub.status.busy": "2022-07-01T07:19:54.959781Z",
     "iopub.status.idle": "2022-07-01T07:20:29.635513Z",
     "shell.execute_reply": "2022-07-01T07:20:29.634175Z"
    },
    "papermill": {
     "duration": 34.689714,
     "end_time": "2022-07-01T07:20:29.638384",
     "exception": false,
     "start_time": "2022-07-01T07:19:54.948670",
     "status": "completed"
    },
    "tags": []
   },
   "outputs": [
    {
     "name": "stdout",
     "output_type": "stream",
     "text": [
      "MVSA-Multiple: With original image labels\n",
      "\n",
      "MVSA-Multiple: bert-base\n",
      "Checkpoint loaded at epoch: 2\n",
      "\n",
      "MVSA-Multiple: bert-pos-bow\n",
      "Checkpoint loaded at epoch: 2\n",
      "\n",
      "MVSA-Multiple: bert-pos-ner-bow\n",
      "Checkpoint loaded at epoch: 2\n",
      "\n",
      "MVSA-Multiple: bert-pos-tfidf\n",
      "Checkpoint loaded at epoch: 2\n",
      "\n",
      "MVSA-Multiple: bert-pos-ner-tfidf\n",
      "Checkpoint loaded at epoch: 2\n",
      "\n"
     ]
    }
   ],
   "source": [
    "print('MVSA-Multiple: With original image labels\\n')\n",
    "# run model with all features data of MVSA-Multiple\n",
    "mvsa_multiple_hitories = []\n",
    "mvsa_multiple_score = []\n",
    "for i in range(len(feature_names)):\n",
    "    print('MVSA-Multiple:', feature_names[i])\n",
    "    history, scores = run_and_evaluate('multiple-' + feature_names[i], mvsa_multiple_features[i], mvsa_multiple_text_labels, verbose=0)\n",
    "    mvsa_multiple_hitories.append(history)\n",
    "    mvsa_multiple_score.append(scores)\n",
    "    print()\n",
    "    \n",
    "df_multiple_scores = pd.DataFrame(mvsa_multiple_score, columns=['Loss', 'Accuracy', 'F1-score'], index=feature_names)"
   ]
  },
  {
   "cell_type": "code",
   "execution_count": 20,
   "id": "b610d6bd",
   "metadata": {
    "execution": {
     "iopub.execute_input": "2022-07-01T07:20:29.661745Z",
     "iopub.status.busy": "2022-07-01T07:20:29.661362Z",
     "iopub.status.idle": "2022-07-01T07:20:29.669622Z",
     "shell.execute_reply": "2022-07-01T07:20:29.668311Z"
    },
    "papermill": {
     "duration": 0.022991,
     "end_time": "2022-07-01T07:20:29.672080",
     "exception": false,
     "start_time": "2022-07-01T07:20:29.649089",
     "status": "completed"
    },
    "tags": []
   },
   "outputs": [],
   "source": [
    "mvsa_average_scores = np.mean([mvsa_single_score, mvsa_multiple_score], axis=0)\n",
    "df_average_scores = pd.DataFrame(mvsa_average_scores, columns=['Loss', 'Accuracy', 'F1-score'], index=feature_names)"
   ]
  },
  {
   "cell_type": "code",
   "execution_count": 21,
   "id": "b1aeaaa2",
   "metadata": {
    "execution": {
     "iopub.execute_input": "2022-07-01T07:20:29.696087Z",
     "iopub.status.busy": "2022-07-01T07:20:29.695667Z",
     "iopub.status.idle": "2022-07-01T07:20:29.817518Z",
     "shell.execute_reply": "2022-07-01T07:20:29.816258Z"
    },
    "papermill": {
     "duration": 0.136643,
     "end_time": "2022-07-01T07:20:29.819863",
     "exception": false,
     "start_time": "2022-07-01T07:20:29.683220",
     "status": "completed"
    },
    "tags": []
   },
   "outputs": [
    {
     "name": "stdout",
     "output_type": "stream",
     "text": [
      "With original image labels\n",
      "\n"
     ]
    },
    {
     "data": {
      "text/html": [
       "<table style=\"display:inline\"><tr><td style=\"text-align:center\">MVSA-Single</td><td style=\"text-align:center\">MVSA-Multiple</td><td style=\"text-align:center\">Average</td></tr><tr><td style=\"vertical-align:top\"> <style type=\"text/css\">\n",
       "#T_46b7e_row0_col0, #T_46b7e_row0_col1, #T_46b7e_row0_col2, #T_46b7e_row1_col1, #T_46b7e_row3_col1 {\n",
       "  color: tomato;\n",
       "}\n",
       "#T_46b7e_row2_col1, #T_46b7e_row2_col2, #T_46b7e_row3_col0, #T_46b7e_row4_col1 {\n",
       "  color: lawngreen;\n",
       "}\n",
       "</style>\n",
       "<table style=\"display:inline\" id=\"T_46b7e_\">\n",
       "  <thead>\n",
       "    <tr>\n",
       "      <th class=\"blank level0\" >&nbsp;</th>\n",
       "      <th class=\"col_heading level0 col0\" >Loss</th>\n",
       "      <th class=\"col_heading level0 col1\" >Accuracy</th>\n",
       "      <th class=\"col_heading level0 col2\" >F1-score</th>\n",
       "    </tr>\n",
       "  </thead>\n",
       "  <tbody>\n",
       "    <tr>\n",
       "      <th id=\"T_46b7e_level0_row0\" class=\"row_heading level0 row0\" >bert-base</th>\n",
       "      <td id=\"T_46b7e_row0_col0\" class=\"data row0 col0\" >0.756925</td>\n",
       "      <td id=\"T_46b7e_row0_col1\" class=\"data row0 col1\" >0.684455</td>\n",
       "      <td id=\"T_46b7e_row0_col2\" class=\"data row0 col2\" >0.591327</td>\n",
       "    </tr>\n",
       "    <tr>\n",
       "      <th id=\"T_46b7e_level0_row1\" class=\"row_heading level0 row1\" >bert-pos-bow</th>\n",
       "      <td id=\"T_46b7e_row1_col0\" class=\"data row1 col0\" >0.745470</td>\n",
       "      <td id=\"T_46b7e_row1_col1\" class=\"data row1 col1\" >0.684455</td>\n",
       "      <td id=\"T_46b7e_row1_col2\" class=\"data row1 col2\" >0.599497</td>\n",
       "    </tr>\n",
       "    <tr>\n",
       "      <th id=\"T_46b7e_level0_row2\" class=\"row_heading level0 row2\" >bert-pos-ner-bow</th>\n",
       "      <td id=\"T_46b7e_row2_col0\" class=\"data row2 col0\" >0.726542</td>\n",
       "      <td id=\"T_46b7e_row2_col1\" class=\"data row2 col1\" >0.698376</td>\n",
       "      <td id=\"T_46b7e_row2_col2\" class=\"data row2 col2\" >0.645141</td>\n",
       "    </tr>\n",
       "    <tr>\n",
       "      <th id=\"T_46b7e_level0_row3\" class=\"row_heading level0 row3\" >bert-pos-tfidf</th>\n",
       "      <td id=\"T_46b7e_row3_col0\" class=\"data row3 col0\" >0.717979</td>\n",
       "      <td id=\"T_46b7e_row3_col1\" class=\"data row3 col1\" >0.684455</td>\n",
       "      <td id=\"T_46b7e_row3_col2\" class=\"data row3 col2\" >0.618616</td>\n",
       "    </tr>\n",
       "    <tr>\n",
       "      <th id=\"T_46b7e_level0_row4\" class=\"row_heading level0 row4\" >bert-pos-ner-tfidf</th>\n",
       "      <td id=\"T_46b7e_row4_col0\" class=\"data row4 col0\" >0.732332</td>\n",
       "      <td id=\"T_46b7e_row4_col1\" class=\"data row4 col1\" >0.698376</td>\n",
       "      <td id=\"T_46b7e_row4_col2\" class=\"data row4 col2\" >0.618851</td>\n",
       "    </tr>\n",
       "  </tbody>\n",
       "</table style=\"display:inline\">\n",
       "</td><td style=\"vertical-align:top\"> <style type=\"text/css\">\n",
       "#T_2f921_row0_col0, #T_2f921_row0_col1, #T_2f921_row1_col2 {\n",
       "  color: lawngreen;\n",
       "}\n",
       "#T_2f921_row4_col0, #T_2f921_row4_col1, #T_2f921_row4_col2 {\n",
       "  color: tomato;\n",
       "}\n",
       "</style>\n",
       "<table style=\"display:inline\" id=\"T_2f921_\">\n",
       "  <thead>\n",
       "    <tr>\n",
       "      <th class=\"blank level0\" >&nbsp;</th>\n",
       "      <th class=\"col_heading level0 col0\" >Loss</th>\n",
       "      <th class=\"col_heading level0 col1\" >Accuracy</th>\n",
       "      <th class=\"col_heading level0 col2\" >F1-score</th>\n",
       "    </tr>\n",
       "  </thead>\n",
       "  <tbody>\n",
       "    <tr>\n",
       "      <th id=\"T_2f921_level0_row0\" class=\"row_heading level0 row0\" >bert-base</th>\n",
       "      <td id=\"T_2f921_row0_col0\" class=\"data row0 col0\" >0.799720</td>\n",
       "      <td id=\"T_2f921_row0_col1\" class=\"data row0 col1\" >0.601343</td>\n",
       "      <td id=\"T_2f921_row0_col2\" class=\"data row0 col2\" >0.508922</td>\n",
       "    </tr>\n",
       "    <tr>\n",
       "      <th id=\"T_2f921_level0_row1\" class=\"row_heading level0 row1\" >bert-pos-bow</th>\n",
       "      <td id=\"T_2f921_row1_col0\" class=\"data row1 col0\" >0.800828</td>\n",
       "      <td id=\"T_2f921_row1_col1\" class=\"data row1 col1\" >0.598901</td>\n",
       "      <td id=\"T_2f921_row1_col2\" class=\"data row1 col2\" >0.510327</td>\n",
       "    </tr>\n",
       "    <tr>\n",
       "      <th id=\"T_2f921_level0_row2\" class=\"row_heading level0 row2\" >bert-pos-ner-bow</th>\n",
       "      <td id=\"T_2f921_row2_col0\" class=\"data row2 col0\" >0.800874</td>\n",
       "      <td id=\"T_2f921_row2_col1\" class=\"data row2 col1\" >0.597680</td>\n",
       "      <td id=\"T_2f921_row2_col2\" class=\"data row2 col2\" >0.508063</td>\n",
       "    </tr>\n",
       "    <tr>\n",
       "      <th id=\"T_2f921_level0_row3\" class=\"row_heading level0 row3\" >bert-pos-tfidf</th>\n",
       "      <td id=\"T_2f921_row3_col0\" class=\"data row3 col0\" >0.802527</td>\n",
       "      <td id=\"T_2f921_row3_col1\" class=\"data row3 col1\" >0.597070</td>\n",
       "      <td id=\"T_2f921_row3_col2\" class=\"data row3 col2\" >0.506871</td>\n",
       "    </tr>\n",
       "    <tr>\n",
       "      <th id=\"T_2f921_level0_row4\" class=\"row_heading level0 row4\" >bert-pos-ner-tfidf</th>\n",
       "      <td id=\"T_2f921_row4_col0\" class=\"data row4 col0\" >0.803182</td>\n",
       "      <td id=\"T_2f921_row4_col1\" class=\"data row4 col1\" >0.588523</td>\n",
       "      <td id=\"T_2f921_row4_col2\" class=\"data row4 col2\" >0.500286</td>\n",
       "    </tr>\n",
       "  </tbody>\n",
       "</table style=\"display:inline\">\n",
       "</td><td style=\"vertical-align:top\"> <style type=\"text/css\">\n",
       "#T_125f5_row0_col0, #T_125f5_row0_col2, #T_125f5_row3_col1 {\n",
       "  color: tomato;\n",
       "}\n",
       "#T_125f5_row2_col1, #T_125f5_row2_col2, #T_125f5_row3_col0 {\n",
       "  color: lawngreen;\n",
       "}\n",
       "</style>\n",
       "<table style=\"display:inline\" id=\"T_125f5_\">\n",
       "  <thead>\n",
       "    <tr>\n",
       "      <th class=\"blank level0\" >&nbsp;</th>\n",
       "      <th class=\"col_heading level0 col0\" >Loss</th>\n",
       "      <th class=\"col_heading level0 col1\" >Accuracy</th>\n",
       "      <th class=\"col_heading level0 col2\" >F1-score</th>\n",
       "    </tr>\n",
       "  </thead>\n",
       "  <tbody>\n",
       "    <tr>\n",
       "      <th id=\"T_125f5_level0_row0\" class=\"row_heading level0 row0\" >bert-base</th>\n",
       "      <td id=\"T_125f5_row0_col0\" class=\"data row0 col0\" >0.778323</td>\n",
       "      <td id=\"T_125f5_row0_col1\" class=\"data row0 col1\" >0.642899</td>\n",
       "      <td id=\"T_125f5_row0_col2\" class=\"data row0 col2\" >0.550124</td>\n",
       "    </tr>\n",
       "    <tr>\n",
       "      <th id=\"T_125f5_level0_row1\" class=\"row_heading level0 row1\" >bert-pos-bow</th>\n",
       "      <td id=\"T_125f5_row1_col0\" class=\"data row1 col0\" >0.773149</td>\n",
       "      <td id=\"T_125f5_row1_col1\" class=\"data row1 col1\" >0.641678</td>\n",
       "      <td id=\"T_125f5_row1_col2\" class=\"data row1 col2\" >0.554912</td>\n",
       "    </tr>\n",
       "    <tr>\n",
       "      <th id=\"T_125f5_level0_row2\" class=\"row_heading level0 row2\" >bert-pos-ner-bow</th>\n",
       "      <td id=\"T_125f5_row2_col0\" class=\"data row2 col0\" >0.763708</td>\n",
       "      <td id=\"T_125f5_row2_col1\" class=\"data row2 col1\" >0.648028</td>\n",
       "      <td id=\"T_125f5_row2_col2\" class=\"data row2 col2\" >0.576602</td>\n",
       "    </tr>\n",
       "    <tr>\n",
       "      <th id=\"T_125f5_level0_row3\" class=\"row_heading level0 row3\" >bert-pos-tfidf</th>\n",
       "      <td id=\"T_125f5_row3_col0\" class=\"data row3 col0\" >0.760253</td>\n",
       "      <td id=\"T_125f5_row3_col1\" class=\"data row3 col1\" >0.640762</td>\n",
       "      <td id=\"T_125f5_row3_col2\" class=\"data row3 col2\" >0.562743</td>\n",
       "    </tr>\n",
       "    <tr>\n",
       "      <th id=\"T_125f5_level0_row4\" class=\"row_heading level0 row4\" >bert-pos-ner-tfidf</th>\n",
       "      <td id=\"T_125f5_row4_col0\" class=\"data row4 col0\" >0.767757</td>\n",
       "      <td id=\"T_125f5_row4_col1\" class=\"data row4 col1\" >0.643449</td>\n",
       "      <td id=\"T_125f5_row4_col2\" class=\"data row4 col2\" >0.559568</td>\n",
       "    </tr>\n",
       "  </tbody>\n",
       "</table style=\"display:inline\">\n",
       "</td></tr></table style=\"display:inline\">"
      ]
     },
     "metadata": {},
     "output_type": "display_data"
    }
   ],
   "source": [
    "print('With original image labels\\n')\n",
    "display_dataframes((style_dataframe(df_single_scores), style_dataframe(df_multiple_scores), style_dataframe(df_average_scores)), \n",
    "                   names=['MVSA-Single', 'MVSA-Multiple', 'Average'])"
   ]
  },
  {
   "cell_type": "markdown",
   "id": "12b1bfca",
   "metadata": {
    "papermill": {
     "duration": 0.011606,
     "end_time": "2022-07-01T07:20:29.842627",
     "exception": false,
     "start_time": "2022-07-01T07:20:29.831021",
     "status": "completed"
    },
    "tags": []
   },
   "source": [
    "## With multimodal labels"
   ]
  },
  {
   "cell_type": "code",
   "execution_count": 22,
   "id": "470942a0",
   "metadata": {
    "execution": {
     "iopub.execute_input": "2022-07-01T07:20:29.867146Z",
     "iopub.status.busy": "2022-07-01T07:20:29.866768Z",
     "iopub.status.idle": "2022-07-01T07:20:54.684777Z",
     "shell.execute_reply": "2022-07-01T07:20:54.683827Z"
    },
    "papermill": {
     "duration": 24.833113,
     "end_time": "2022-07-01T07:20:54.687169",
     "exception": false,
     "start_time": "2022-07-01T07:20:29.854056",
     "status": "completed"
    },
    "tags": []
   },
   "outputs": [
    {
     "name": "stdout",
     "output_type": "stream",
     "text": [
      "With multimodal labels\n",
      "MVSA-Single: bert-base\n",
      "Checkpoint loaded at epoch: 1\n",
      "\n",
      "MVSA-Single: bert-pos-bow\n",
      "Checkpoint loaded at epoch: 1\n",
      "\n",
      "MVSA-Single: bert-pos-ner-bow\n",
      "Checkpoint loaded at epoch: 0\n",
      "\n",
      "MVSA-Single: bert-pos-tfidf\n",
      "Checkpoint loaded at epoch: 1\n",
      "\n",
      "MVSA-Single: bert-pos-ner-tfidf\n",
      "Checkpoint loaded at epoch: 1\n",
      "\n"
     ]
    }
   ],
   "source": [
    "print('With multimodal labels')\n",
    "\n",
    "# run model with all features data of MVSA-Single\n",
    "mvsa_single_hitories2 = []\n",
    "mvsa_single_score2 = []\n",
    "for i in range(len(feature_names)):\n",
    "    print('MVSA-Single:', feature_names[i])\n",
    "    history, scores = run_and_evaluate('single-' + feature_names[i], mvsa_single_features[i], mvsa_single_multimodal_labels, verbose=0)\n",
    "    mvsa_single_hitories2.append(history)\n",
    "    mvsa_single_score2.append(scores)\n",
    "    print()\n",
    "    \n",
    "df_single_scores2 = pd.DataFrame(mvsa_single_score2, columns=['Loss', 'Accuracy', 'F1-score'], index=feature_names)"
   ]
  },
  {
   "cell_type": "code",
   "execution_count": 23,
   "id": "e222615d",
   "metadata": {
    "execution": {
     "iopub.execute_input": "2022-07-01T07:20:54.713336Z",
     "iopub.status.busy": "2022-07-01T07:20:54.712921Z",
     "iopub.status.idle": "2022-07-01T07:21:30.923295Z",
     "shell.execute_reply": "2022-07-01T07:21:30.921829Z"
    },
    "papermill": {
     "duration": 36.226773,
     "end_time": "2022-07-01T07:21:30.925947",
     "exception": false,
     "start_time": "2022-07-01T07:20:54.699174",
     "status": "completed"
    },
    "tags": []
   },
   "outputs": [
    {
     "name": "stdout",
     "output_type": "stream",
     "text": [
      "With multimodal labels\n",
      "MVSA-Multiple: bert-base\n",
      "Checkpoint loaded at epoch: 2\n",
      "\n",
      "MVSA-Multiple: bert-pos-bow\n",
      "Checkpoint loaded at epoch: 2\n",
      "\n",
      "MVSA-Multiple: bert-pos-ner-bow\n",
      "Checkpoint loaded at epoch: 2\n",
      "\n",
      "MVSA-Multiple: bert-pos-tfidf\n",
      "Checkpoint loaded at epoch: 2\n",
      "\n",
      "MVSA-Multiple: bert-pos-ner-tfidf\n",
      "Checkpoint loaded at epoch: 2\n",
      "\n"
     ]
    }
   ],
   "source": [
    "print('With multimodal labels')\n",
    "# run model with all features data of MVSA-Multiple\n",
    "mvsa_multiple_hitories2 = []\n",
    "mvsa_multiple_score2 = []\n",
    "for i in range(len(feature_names)):\n",
    "    print('MVSA-Multiple:', feature_names[i])\n",
    "    history, scores = run_and_evaluate('multiple-' + feature_names[i], mvsa_multiple_features[i], mvsa_multiple_multimodal_labels, verbose=0)\n",
    "    mvsa_multiple_hitories2.append(history)\n",
    "    mvsa_multiple_score2.append(scores)\n",
    "    print()\n",
    "    \n",
    "df_multiple_scores2 = pd.DataFrame(mvsa_multiple_score2, columns=['Loss', 'Accuracy', 'F1-score'], index=feature_names)"
   ]
  },
  {
   "cell_type": "code",
   "execution_count": 24,
   "id": "1ca3b78a",
   "metadata": {
    "execution": {
     "iopub.execute_input": "2022-07-01T07:21:30.953338Z",
     "iopub.status.busy": "2022-07-01T07:21:30.952938Z",
     "iopub.status.idle": "2022-07-01T07:21:30.959599Z",
     "shell.execute_reply": "2022-07-01T07:21:30.958433Z"
    },
    "papermill": {
     "duration": 0.023142,
     "end_time": "2022-07-01T07:21:30.961919",
     "exception": false,
     "start_time": "2022-07-01T07:21:30.938777",
     "status": "completed"
    },
    "tags": []
   },
   "outputs": [],
   "source": [
    "mvsa_average_scores2 = np.mean([mvsa_single_score2, mvsa_multiple_score2], axis=0)\n",
    "df_average_scores2 = pd.DataFrame(mvsa_average_scores2, columns=['Loss', 'Accuracy', 'F1-score'], index=feature_names)"
   ]
  },
  {
   "cell_type": "code",
   "execution_count": 25,
   "id": "270cd725",
   "metadata": {
    "execution": {
     "iopub.execute_input": "2022-07-01T07:21:30.988869Z",
     "iopub.status.busy": "2022-07-01T07:21:30.988478Z",
     "iopub.status.idle": "2022-07-01T07:21:31.040674Z",
     "shell.execute_reply": "2022-07-01T07:21:31.039635Z"
    },
    "papermill": {
     "duration": 0.068703,
     "end_time": "2022-07-01T07:21:31.043158",
     "exception": false,
     "start_time": "2022-07-01T07:21:30.974455",
     "status": "completed"
    },
    "tags": []
   },
   "outputs": [
    {
     "name": "stdout",
     "output_type": "stream",
     "text": [
      "With multimodal labels\n",
      "\n"
     ]
    },
    {
     "data": {
      "text/html": [
       "<table style=\"display:inline\"><tr><td style=\"text-align:center\">MVSA-Single</td><td style=\"text-align:center\">MVSA-Multiple</td><td style=\"text-align:center\">Average</td></tr><tr><td style=\"vertical-align:top\"> <style type=\"text/css\">\n",
       "#T_ef65a_row1_col0, #T_ef65a_row2_col1, #T_ef65a_row2_col2 {\n",
       "  color: tomato;\n",
       "}\n",
       "#T_ef65a_row3_col2, #T_ef65a_row4_col0, #T_ef65a_row4_col1 {\n",
       "  color: lawngreen;\n",
       "}\n",
       "</style>\n",
       "<table style=\"display:inline\" id=\"T_ef65a_\">\n",
       "  <thead>\n",
       "    <tr>\n",
       "      <th class=\"blank level0\" >&nbsp;</th>\n",
       "      <th class=\"col_heading level0 col0\" >Loss</th>\n",
       "      <th class=\"col_heading level0 col1\" >Accuracy</th>\n",
       "      <th class=\"col_heading level0 col2\" >F1-score</th>\n",
       "    </tr>\n",
       "  </thead>\n",
       "  <tbody>\n",
       "    <tr>\n",
       "      <th id=\"T_ef65a_level0_row0\" class=\"row_heading level0 row0\" >bert-base</th>\n",
       "      <td id=\"T_ef65a_row0_col0\" class=\"data row0 col0\" >0.738123</td>\n",
       "      <td id=\"T_ef65a_row0_col1\" class=\"data row0 col1\" >0.700696</td>\n",
       "      <td id=\"T_ef65a_row0_col2\" class=\"data row0 col2\" >0.507994</td>\n",
       "    </tr>\n",
       "    <tr>\n",
       "      <th id=\"T_ef65a_level0_row1\" class=\"row_heading level0 row1\" >bert-pos-bow</th>\n",
       "      <td id=\"T_ef65a_row1_col0\" class=\"data row1 col0\" >0.762493</td>\n",
       "      <td id=\"T_ef65a_row1_col1\" class=\"data row1 col1\" >0.670534</td>\n",
       "      <td id=\"T_ef65a_row1_col2\" class=\"data row1 col2\" >0.500013</td>\n",
       "    </tr>\n",
       "    <tr>\n",
       "      <th id=\"T_ef65a_level0_row2\" class=\"row_heading level0 row2\" >bert-pos-ner-bow</th>\n",
       "      <td id=\"T_ef65a_row2_col0\" class=\"data row2 col0\" >0.751175</td>\n",
       "      <td id=\"T_ef65a_row2_col1\" class=\"data row2 col1\" >0.665893</td>\n",
       "      <td id=\"T_ef65a_row2_col2\" class=\"data row2 col2\" >0.427982</td>\n",
       "    </tr>\n",
       "    <tr>\n",
       "      <th id=\"T_ef65a_level0_row3\" class=\"row_heading level0 row3\" >bert-pos-tfidf</th>\n",
       "      <td id=\"T_ef65a_row3_col0\" class=\"data row3 col0\" >0.757157</td>\n",
       "      <td id=\"T_ef65a_row3_col1\" class=\"data row3 col1\" >0.682135</td>\n",
       "      <td id=\"T_ef65a_row3_col2\" class=\"data row3 col2\" >0.527058</td>\n",
       "    </tr>\n",
       "    <tr>\n",
       "      <th id=\"T_ef65a_level0_row4\" class=\"row_heading level0 row4\" >bert-pos-ner-tfidf</th>\n",
       "      <td id=\"T_ef65a_row4_col0\" class=\"data row4 col0\" >0.728508</td>\n",
       "      <td id=\"T_ef65a_row4_col1\" class=\"data row4 col1\" >0.703016</td>\n",
       "      <td id=\"T_ef65a_row4_col2\" class=\"data row4 col2\" >0.506436</td>\n",
       "    </tr>\n",
       "  </tbody>\n",
       "</table style=\"display:inline\">\n",
       "</td><td style=\"vertical-align:top\"> <style type=\"text/css\">\n",
       "#T_70b3e_row0_col1, #T_70b3e_row0_col2, #T_70b3e_row4_col0 {\n",
       "  color: tomato;\n",
       "}\n",
       "#T_70b3e_row2_col0, #T_70b3e_row3_col1, #T_70b3e_row3_col2 {\n",
       "  color: lawngreen;\n",
       "}\n",
       "</style>\n",
       "<table style=\"display:inline\" id=\"T_70b3e_\">\n",
       "  <thead>\n",
       "    <tr>\n",
       "      <th class=\"blank level0\" >&nbsp;</th>\n",
       "      <th class=\"col_heading level0 col0\" >Loss</th>\n",
       "      <th class=\"col_heading level0 col1\" >Accuracy</th>\n",
       "      <th class=\"col_heading level0 col2\" >F1-score</th>\n",
       "    </tr>\n",
       "  </thead>\n",
       "  <tbody>\n",
       "    <tr>\n",
       "      <th id=\"T_70b3e_level0_row0\" class=\"row_heading level0 row0\" >bert-base</th>\n",
       "      <td id=\"T_70b3e_row0_col0\" class=\"data row0 col0\" >0.772615</td>\n",
       "      <td id=\"T_70b3e_row0_col1\" class=\"data row0 col1\" >0.654457</td>\n",
       "      <td id=\"T_70b3e_row0_col2\" class=\"data row0 col2\" >0.438362</td>\n",
       "    </tr>\n",
       "    <tr>\n",
       "      <th id=\"T_70b3e_level0_row1\" class=\"row_heading level0 row1\" >bert-pos-bow</th>\n",
       "      <td id=\"T_70b3e_row1_col0\" class=\"data row1 col0\" >0.771116</td>\n",
       "      <td id=\"T_70b3e_row1_col1\" class=\"data row1 col1\" >0.657509</td>\n",
       "      <td id=\"T_70b3e_row1_col2\" class=\"data row1 col2\" >0.441000</td>\n",
       "    </tr>\n",
       "    <tr>\n",
       "      <th id=\"T_70b3e_level0_row2\" class=\"row_heading level0 row2\" >bert-pos-ner-bow</th>\n",
       "      <td id=\"T_70b3e_row2_col0\" class=\"data row2 col0\" >0.770156</td>\n",
       "      <td id=\"T_70b3e_row2_col1\" class=\"data row2 col1\" >0.658120</td>\n",
       "      <td id=\"T_70b3e_row2_col2\" class=\"data row2 col2\" >0.439741</td>\n",
       "    </tr>\n",
       "    <tr>\n",
       "      <th id=\"T_70b3e_level0_row3\" class=\"row_heading level0 row3\" >bert-pos-tfidf</th>\n",
       "      <td id=\"T_70b3e_row3_col0\" class=\"data row3 col0\" >0.772120</td>\n",
       "      <td id=\"T_70b3e_row3_col1\" class=\"data row3 col1\" >0.662393</td>\n",
       "      <td id=\"T_70b3e_row3_col2\" class=\"data row3 col2\" >0.452794</td>\n",
       "    </tr>\n",
       "    <tr>\n",
       "      <th id=\"T_70b3e_level0_row4\" class=\"row_heading level0 row4\" >bert-pos-ner-tfidf</th>\n",
       "      <td id=\"T_70b3e_row4_col0\" class=\"data row4 col0\" >0.773101</td>\n",
       "      <td id=\"T_70b3e_row4_col1\" class=\"data row4 col1\" >0.661783</td>\n",
       "      <td id=\"T_70b3e_row4_col2\" class=\"data row4 col2\" >0.448350</td>\n",
       "    </tr>\n",
       "  </tbody>\n",
       "</table style=\"display:inline\">\n",
       "</td><td style=\"vertical-align:top\"> <style type=\"text/css\">\n",
       "#T_b71ae_row1_col0, #T_b71ae_row2_col1, #T_b71ae_row2_col2 {\n",
       "  color: tomato;\n",
       "}\n",
       "#T_b71ae_row3_col2, #T_b71ae_row4_col0, #T_b71ae_row4_col1 {\n",
       "  color: lawngreen;\n",
       "}\n",
       "</style>\n",
       "<table style=\"display:inline\" id=\"T_b71ae_\">\n",
       "  <thead>\n",
       "    <tr>\n",
       "      <th class=\"blank level0\" >&nbsp;</th>\n",
       "      <th class=\"col_heading level0 col0\" >Loss</th>\n",
       "      <th class=\"col_heading level0 col1\" >Accuracy</th>\n",
       "      <th class=\"col_heading level0 col2\" >F1-score</th>\n",
       "    </tr>\n",
       "  </thead>\n",
       "  <tbody>\n",
       "    <tr>\n",
       "      <th id=\"T_b71ae_level0_row0\" class=\"row_heading level0 row0\" >bert-base</th>\n",
       "      <td id=\"T_b71ae_row0_col0\" class=\"data row0 col0\" >0.755369</td>\n",
       "      <td id=\"T_b71ae_row0_col1\" class=\"data row0 col1\" >0.677576</td>\n",
       "      <td id=\"T_b71ae_row0_col2\" class=\"data row0 col2\" >0.473178</td>\n",
       "    </tr>\n",
       "    <tr>\n",
       "      <th id=\"T_b71ae_level0_row1\" class=\"row_heading level0 row1\" >bert-pos-bow</th>\n",
       "      <td id=\"T_b71ae_row1_col0\" class=\"data row1 col0\" >0.766804</td>\n",
       "      <td id=\"T_b71ae_row1_col1\" class=\"data row1 col1\" >0.664021</td>\n",
       "      <td id=\"T_b71ae_row1_col2\" class=\"data row1 col2\" >0.470506</td>\n",
       "    </tr>\n",
       "    <tr>\n",
       "      <th id=\"T_b71ae_level0_row2\" class=\"row_heading level0 row2\" >bert-pos-ner-bow</th>\n",
       "      <td id=\"T_b71ae_row2_col0\" class=\"data row2 col0\" >0.760665</td>\n",
       "      <td id=\"T_b71ae_row2_col1\" class=\"data row2 col1\" >0.662006</td>\n",
       "      <td id=\"T_b71ae_row2_col2\" class=\"data row2 col2\" >0.433862</td>\n",
       "    </tr>\n",
       "    <tr>\n",
       "      <th id=\"T_b71ae_level0_row3\" class=\"row_heading level0 row3\" >bert-pos-tfidf</th>\n",
       "      <td id=\"T_b71ae_row3_col0\" class=\"data row3 col0\" >0.764639</td>\n",
       "      <td id=\"T_b71ae_row3_col1\" class=\"data row3 col1\" >0.672264</td>\n",
       "      <td id=\"T_b71ae_row3_col2\" class=\"data row3 col2\" >0.489926</td>\n",
       "    </tr>\n",
       "    <tr>\n",
       "      <th id=\"T_b71ae_level0_row4\" class=\"row_heading level0 row4\" >bert-pos-ner-tfidf</th>\n",
       "      <td id=\"T_b71ae_row4_col0\" class=\"data row4 col0\" >0.750805</td>\n",
       "      <td id=\"T_b71ae_row4_col1\" class=\"data row4 col1\" >0.682399</td>\n",
       "      <td id=\"T_b71ae_row4_col2\" class=\"data row4 col2\" >0.477393</td>\n",
       "    </tr>\n",
       "  </tbody>\n",
       "</table style=\"display:inline\">\n",
       "</td></tr></table style=\"display:inline\">"
      ]
     },
     "metadata": {},
     "output_type": "display_data"
    }
   ],
   "source": [
    "print('With multimodal labels\\n')\n",
    "display_dataframes((style_dataframe(df_single_scores2), style_dataframe(df_multiple_scores2), style_dataframe(df_average_scores2)), \n",
    "                   names=['MVSA-Single', 'MVSA-Multiple', 'Average'])"
   ]
  },
  {
   "cell_type": "markdown",
   "id": "b75fb2e8",
   "metadata": {
    "papermill": {
     "duration": 0.012871,
     "end_time": "2022-07-01T07:21:31.069827",
     "exception": false,
     "start_time": "2022-07-01T07:21:31.056956",
     "status": "completed"
    },
    "tags": []
   },
   "source": [
    "# With merge MVSA data"
   ]
  },
  {
   "cell_type": "code",
   "execution_count": 26,
   "id": "0515036b",
   "metadata": {
    "execution": {
     "iopub.execute_input": "2022-07-01T07:21:31.098139Z",
     "iopub.status.busy": "2022-07-01T07:21:31.097714Z",
     "iopub.status.idle": "2022-07-01T07:22:08.777159Z",
     "shell.execute_reply": "2022-07-01T07:22:08.775948Z"
    },
    "papermill": {
     "duration": 37.696426,
     "end_time": "2022-07-01T07:22:08.779551",
     "exception": false,
     "start_time": "2022-07-01T07:21:31.083125",
     "status": "completed"
    },
    "tags": []
   },
   "outputs": [
    {
     "name": "stdout",
     "output_type": "stream",
     "text": [
      "With original image labels\n",
      "Both MVSA: bert-base\n",
      "Checkpoint loaded at epoch: 1\n",
      "\n",
      "Both MVSA: bert-pos-bow\n",
      "Checkpoint loaded at epoch: 1\n",
      "\n",
      "Both MVSA: bert-pos-ner-bow\n",
      "Checkpoint loaded at epoch: 1\n",
      "\n",
      "Both MVSA: bert-pos-tfidf\n",
      "Checkpoint loaded at epoch: 1\n",
      "\n",
      "Both MVSA: bert-pos-ner-tfidf\n",
      "Checkpoint loaded at epoch: 1\n",
      "\n"
     ]
    }
   ],
   "source": [
    "print('With original image labels')\n",
    "mvsa_hitories3 = []\n",
    "mvsa_score3 = []\n",
    "for i in range(len(feature_names)):\n",
    "    print('Both MVSA:', feature_names[i])\n",
    "    history, scores = run_and_evaluate('single-' + feature_names[i], mvsa_features[i], mvsa_image_labels, verbose=0)\n",
    "    mvsa_hitories3.append(history)\n",
    "    mvsa_score3.append(scores)\n",
    "    print()\n",
    "    \n",
    "df_scores3 = pd.DataFrame(mvsa_score3, columns=['Loss', 'Accuracy', 'F1-score'], index=feature_names)"
   ]
  },
  {
   "cell_type": "code",
   "execution_count": 27,
   "id": "9e3af937",
   "metadata": {
    "execution": {
     "iopub.execute_input": "2022-07-01T07:22:08.810641Z",
     "iopub.status.busy": "2022-07-01T07:22:08.809144Z",
     "iopub.status.idle": "2022-07-01T07:22:45.330776Z",
     "shell.execute_reply": "2022-07-01T07:22:45.329697Z"
    },
    "papermill": {
     "duration": 36.539392,
     "end_time": "2022-07-01T07:22:45.333047",
     "exception": false,
     "start_time": "2022-07-01T07:22:08.793655",
     "status": "completed"
    },
    "tags": []
   },
   "outputs": [
    {
     "name": "stdout",
     "output_type": "stream",
     "text": [
      "With multimodal labels\n",
      "Both MVSA: bert-base\n",
      "Checkpoint loaded at epoch: 1\n",
      "\n",
      "Both MVSA: bert-pos-bow\n",
      "Checkpoint loaded at epoch: 1\n",
      "\n",
      "Both MVSA: bert-pos-ner-bow\n",
      "Checkpoint loaded at epoch: 1\n",
      "\n",
      "Both MVSA: bert-pos-tfidf\n",
      "Checkpoint loaded at epoch: 2\n",
      "\n",
      "Both MVSA: bert-pos-ner-tfidf\n",
      "Checkpoint loaded at epoch: 1\n",
      "\n"
     ]
    }
   ],
   "source": [
    "print('With multimodal labels')\n",
    "mvsa_hitories4 = []\n",
    "mvsa_score4 = []\n",
    "for i in range(len(feature_names)):\n",
    "    print('Both MVSA:', feature_names[i])\n",
    "    history, scores = run_and_evaluate('single-' + feature_names[i], mvsa_features[i], mvsa_multimodal_labels, verbose=0)\n",
    "    mvsa_hitories4.append(history)\n",
    "    mvsa_score4.append(scores)\n",
    "    print()\n",
    "    \n",
    "df_scores4 = pd.DataFrame(mvsa_score4, columns=['Loss', 'Accuracy', 'F1-score'], index=feature_names)"
   ]
  },
  {
   "cell_type": "code",
   "execution_count": 28,
   "id": "2a1b6783",
   "metadata": {
    "execution": {
     "iopub.execute_input": "2022-07-01T07:22:45.364381Z",
     "iopub.status.busy": "2022-07-01T07:22:45.363931Z",
     "iopub.status.idle": "2022-07-01T07:22:45.404651Z",
     "shell.execute_reply": "2022-07-01T07:22:45.403832Z"
    },
    "papermill": {
     "duration": 0.059518,
     "end_time": "2022-07-01T07:22:45.407068",
     "exception": false,
     "start_time": "2022-07-01T07:22:45.347550",
     "status": "completed"
    },
    "tags": []
   },
   "outputs": [
    {
     "name": "stdout",
     "output_type": "stream",
     "text": [
      "With both MVSA merged together\n",
      "\n"
     ]
    },
    {
     "data": {
      "text/html": [
       "<table style=\"display:inline\"><tr><td style=\"text-align:center\">Original image labels</td><td style=\"text-align:center\">Multimodal labels</td></tr><tr><td style=\"vertical-align:top\"> <style type=\"text/css\">\n",
       "#T_a8e91_row0_col1, #T_a8e91_row1_col0, #T_a8e91_row1_col2, #T_a8e91_row4_col1 {\n",
       "  color: tomato;\n",
       "}\n",
       "#T_a8e91_row3_col0, #T_a8e91_row3_col1, #T_a8e91_row3_col2 {\n",
       "  color: lawngreen;\n",
       "}\n",
       "</style>\n",
       "<table style=\"display:inline\" id=\"T_a8e91_\">\n",
       "  <thead>\n",
       "    <tr>\n",
       "      <th class=\"blank level0\" >&nbsp;</th>\n",
       "      <th class=\"col_heading level0 col0\" >Loss</th>\n",
       "      <th class=\"col_heading level0 col1\" >Accuracy</th>\n",
       "      <th class=\"col_heading level0 col2\" >F1-score</th>\n",
       "    </tr>\n",
       "  </thead>\n",
       "  <tbody>\n",
       "    <tr>\n",
       "      <th id=\"T_a8e91_level0_row0\" class=\"row_heading level0 row0\" >bert-base</th>\n",
       "      <td id=\"T_a8e91_row0_col0\" class=\"data row0 col0\" >0.826792</td>\n",
       "      <td id=\"T_a8e91_row0_col1\" class=\"data row0 col1\" >0.588889</td>\n",
       "      <td id=\"T_a8e91_row0_col2\" class=\"data row0 col2\" >0.410161</td>\n",
       "    </tr>\n",
       "    <tr>\n",
       "      <th id=\"T_a8e91_level0_row1\" class=\"row_heading level0 row1\" >bert-pos-bow</th>\n",
       "      <td id=\"T_a8e91_row1_col0\" class=\"data row1 col0\" >0.828371</td>\n",
       "      <td id=\"T_a8e91_row1_col1\" class=\"data row1 col1\" >0.593237</td>\n",
       "      <td id=\"T_a8e91_row1_col2\" class=\"data row1 col2\" >0.405761</td>\n",
       "    </tr>\n",
       "    <tr>\n",
       "      <th id=\"T_a8e91_level0_row2\" class=\"row_heading level0 row2\" >bert-pos-ner-bow</th>\n",
       "      <td id=\"T_a8e91_row2_col0\" class=\"data row2 col0\" >0.828184</td>\n",
       "      <td id=\"T_a8e91_row2_col1\" class=\"data row2 col1\" >0.590821</td>\n",
       "      <td id=\"T_a8e91_row2_col2\" class=\"data row2 col2\" >0.412519</td>\n",
       "    </tr>\n",
       "    <tr>\n",
       "      <th id=\"T_a8e91_level0_row3\" class=\"row_heading level0 row3\" >bert-pos-tfidf</th>\n",
       "      <td id=\"T_a8e91_row3_col0\" class=\"data row3 col0\" >0.826166</td>\n",
       "      <td id=\"T_a8e91_row3_col1\" class=\"data row3 col1\" >0.597585</td>\n",
       "      <td id=\"T_a8e91_row3_col2\" class=\"data row3 col2\" >0.418983</td>\n",
       "    </tr>\n",
       "    <tr>\n",
       "      <th id=\"T_a8e91_level0_row4\" class=\"row_heading level0 row4\" >bert-pos-ner-tfidf</th>\n",
       "      <td id=\"T_a8e91_row4_col0\" class=\"data row4 col0\" >0.827540</td>\n",
       "      <td id=\"T_a8e91_row4_col1\" class=\"data row4 col1\" >0.588889</td>\n",
       "      <td id=\"T_a8e91_row4_col2\" class=\"data row4 col2\" >0.411790</td>\n",
       "    </tr>\n",
       "  </tbody>\n",
       "</table style=\"display:inline\">\n",
       "</td><td style=\"vertical-align:top\"> <style type=\"text/css\">\n",
       "#T_6a966_row0_col1, #T_6a966_row2_col0, #T_6a966_row3_col1, #T_6a966_row4_col2 {\n",
       "  color: tomato;\n",
       "}\n",
       "#T_6a966_row1_col1, #T_6a966_row3_col0, #T_6a966_row3_col2 {\n",
       "  color: lawngreen;\n",
       "}\n",
       "</style>\n",
       "<table style=\"display:inline\" id=\"T_6a966_\">\n",
       "  <thead>\n",
       "    <tr>\n",
       "      <th class=\"blank level0\" >&nbsp;</th>\n",
       "      <th class=\"col_heading level0 col0\" >Loss</th>\n",
       "      <th class=\"col_heading level0 col1\" >Accuracy</th>\n",
       "      <th class=\"col_heading level0 col2\" >F1-score</th>\n",
       "    </tr>\n",
       "  </thead>\n",
       "  <tbody>\n",
       "    <tr>\n",
       "      <th id=\"T_6a966_level0_row0\" class=\"row_heading level0 row0\" >bert-base</th>\n",
       "      <td id=\"T_6a966_row0_col0\" class=\"data row0 col0\" >0.770529</td>\n",
       "      <td id=\"T_6a966_row0_col1\" class=\"data row0 col1\" >0.680193</td>\n",
       "      <td id=\"T_6a966_row0_col2\" class=\"data row0 col2\" >0.404653</td>\n",
       "    </tr>\n",
       "    <tr>\n",
       "      <th id=\"T_6a966_level0_row1\" class=\"row_heading level0 row1\" >bert-pos-bow</th>\n",
       "      <td id=\"T_6a966_row1_col0\" class=\"data row1 col0\" >0.769999</td>\n",
       "      <td id=\"T_6a966_row1_col1\" class=\"data row1 col1\" >0.683092</td>\n",
       "      <td id=\"T_6a966_row1_col2\" class=\"data row1 col2\" >0.417592</td>\n",
       "    </tr>\n",
       "    <tr>\n",
       "      <th id=\"T_6a966_level0_row2\" class=\"row_heading level0 row2\" >bert-pos-ner-bow</th>\n",
       "      <td id=\"T_6a966_row2_col0\" class=\"data row2 col0\" >0.778128</td>\n",
       "      <td id=\"T_6a966_row2_col1\" class=\"data row2 col1\" >0.681643</td>\n",
       "      <td id=\"T_6a966_row2_col2\" class=\"data row2 col2\" >0.406532</td>\n",
       "    </tr>\n",
       "    <tr>\n",
       "      <th id=\"T_6a966_level0_row3\" class=\"row_heading level0 row3\" >bert-pos-tfidf</th>\n",
       "      <td id=\"T_6a966_row3_col0\" class=\"data row3 col0\" >0.751124</td>\n",
       "      <td id=\"T_6a966_row3_col1\" class=\"data row3 col1\" >0.680193</td>\n",
       "      <td id=\"T_6a966_row3_col2\" class=\"data row3 col2\" >0.457297</td>\n",
       "    </tr>\n",
       "    <tr>\n",
       "      <th id=\"T_6a966_level0_row4\" class=\"row_heading level0 row4\" >bert-pos-ner-tfidf</th>\n",
       "      <td id=\"T_6a966_row4_col0\" class=\"data row4 col0\" >0.768683</td>\n",
       "      <td id=\"T_6a966_row4_col1\" class=\"data row4 col1\" >0.682609</td>\n",
       "      <td id=\"T_6a966_row4_col2\" class=\"data row4 col2\" >0.404420</td>\n",
       "    </tr>\n",
       "  </tbody>\n",
       "</table style=\"display:inline\">\n",
       "</td></tr></table style=\"display:inline\">"
      ]
     },
     "metadata": {},
     "output_type": "display_data"
    }
   ],
   "source": [
    "print('With both MVSA merged together\\n')\n",
    "display_dataframes((style_dataframe(df_scores3), style_dataframe(df_scores4)), \n",
    "                   names=['Original image labels', 'Multimodal labels'])"
   ]
  }
 ],
 "metadata": {
  "kernelspec": {
   "display_name": "Python 3",
   "language": "python",
   "name": "python3"
  },
  "language_info": {
   "codemirror_mode": {
    "name": "ipython",
    "version": 3
   },
   "file_extension": ".py",
   "mimetype": "text/x-python",
   "name": "python",
   "nbconvert_exporter": "python",
   "pygments_lexer": "ipython3",
   "version": "3.7.12"
  },
  "papermill": {
   "default_parameters": {},
   "duration": 228.767385,
   "end_time": "2022-07-01T07:22:48.931800",
   "environment_variables": {},
   "exception": null,
   "input_path": "__notebook__.ipynb",
   "output_path": "__notebook__.ipynb",
   "parameters": {},
   "start_time": "2022-07-01T07:19:00.164415",
   "version": "2.3.4"
  }
 },
 "nbformat": 4,
 "nbformat_minor": 5
}
