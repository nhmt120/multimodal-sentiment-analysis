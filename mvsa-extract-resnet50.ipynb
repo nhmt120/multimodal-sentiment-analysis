{
 "cells": [
  {
   "cell_type": "code",
   "execution_count": 1,
   "id": "4cb08035",
   "metadata": {
    "_cell_guid": "b1076dfc-b9ad-4769-8c92-a6c4dae69d19",
    "_uuid": "8f2839f25d086af736a60e9eeb907d3b93b6e0e5",
    "execution": {
     "iopub.execute_input": "2022-07-03T18:37:11.749749Z",
     "iopub.status.busy": "2022-07-03T18:37:11.748411Z",
     "iopub.status.idle": "2022-07-03T18:37:25.587732Z",
     "shell.execute_reply": "2022-07-03T18:37:25.586600Z"
    },
    "papermill": {
     "duration": 13.847896,
     "end_time": "2022-07-03T18:37:25.590383",
     "exception": false,
     "start_time": "2022-07-03T18:37:11.742487",
     "status": "completed"
    },
    "tags": []
   },
   "outputs": [],
   "source": [
    "import os\n",
    "import re\n",
    "import gc\n",
    "import cv2\n",
    "import h5py\n",
    "import torch\n",
    "import string\n",
    "import random\n",
    "import numpy as np\n",
    "import tensorflow as tf\n",
    "\n",
    "from tqdm import tqdm\n",
    "from nltk import tokenize\n",
    "from sklearn import preprocessing\n",
    "\n",
    "from keras.preprocessing.text import Tokenizer, text_to_word_sequence\n",
    "from keras.preprocessing.sequence import pad_sequences\n",
    "from keras.utils.np_utils import to_categorical\n",
    "from keras.layers import Rescaling, Resizing\n",
    "from keras import Input\n",
    "from keras.applications.vgg16 import VGG16\n",
    "from keras.applications.vgg19 import VGG19\n",
    "from keras.applications.xception import Xception\n",
    "from tensorflow.keras.applications import ResNet50, ResNet101, ResNet152\n",
    "from transformers import BertTokenizer, BertForMaskedLM, BertModel\n",
    "from tensorflow.keras import Model"
   ]
  },
  {
   "cell_type": "code",
   "execution_count": 2,
   "id": "b67c3454",
   "metadata": {
    "execution": {
     "iopub.execute_input": "2022-07-03T18:37:25.605880Z",
     "iopub.status.busy": "2022-07-03T18:37:25.603509Z",
     "iopub.status.idle": "2022-07-03T18:37:25.611819Z",
     "shell.execute_reply": "2022-07-03T18:37:25.610505Z"
    },
    "papermill": {
     "duration": 0.018807,
     "end_time": "2022-07-03T18:37:25.615631",
     "exception": false,
     "start_time": "2022-07-03T18:37:25.596824",
     "status": "completed"
    },
    "tags": []
   },
   "outputs": [],
   "source": [
    "IMAGE_SIZE = (224, 224)\n",
    "NUM_CHANNELS = 3"
   ]
  },
  {
   "cell_type": "code",
   "execution_count": 3,
   "id": "68fa8283",
   "metadata": {
    "execution": {
     "iopub.execute_input": "2022-07-03T18:37:25.625137Z",
     "iopub.status.busy": "2022-07-03T18:37:25.623659Z",
     "iopub.status.idle": "2022-07-03T18:37:25.630230Z",
     "shell.execute_reply": "2022-07-03T18:37:25.629271Z"
    },
    "papermill": {
     "duration": 0.013735,
     "end_time": "2022-07-03T18:37:25.632663",
     "exception": false,
     "start_time": "2022-07-03T18:37:25.618928",
     "status": "completed"
    },
    "tags": []
   },
   "outputs": [],
   "source": [
    "mvsa_single_path = '../input/mvsa-data/mvsa-single-4511.hdf5'\n",
    "mvsa_multiple_path = '../input/mvsa-data/mvsa-multiple-17024.hdf5'"
   ]
  },
  {
   "cell_type": "code",
   "execution_count": 4,
   "id": "85adcc35",
   "metadata": {
    "execution": {
     "iopub.execute_input": "2022-07-03T18:37:25.641859Z",
     "iopub.status.busy": "2022-07-03T18:37:25.641374Z",
     "iopub.status.idle": "2022-07-03T18:37:25.651782Z",
     "shell.execute_reply": "2022-07-03T18:37:25.649801Z"
    },
    "papermill": {
     "duration": 0.01787,
     "end_time": "2022-07-03T18:37:25.654562",
     "exception": false,
     "start_time": "2022-07-03T18:37:25.636692",
     "status": "completed"
    },
    "tags": []
   },
   "outputs": [],
   "source": [
    "def read_hdf5(path):\n",
    "    read_file = h5py.File(path, 'r')\n",
    "    \n",
    "    feature_names = list(read_file.keys())\n",
    "    loaded_data = []\n",
    "    \n",
    "    for name in feature_names:\n",
    "        dataset = read_file[name][:]\n",
    "        if dataset.dtype == np.dtype('object'):\n",
    "            dataset = np.array([x.decode('UTF-8') for x in dataset])            \n",
    "        loaded_data.append((name, dataset))\n",
    "\n",
    "    return loaded_data"
   ]
  },
  {
   "cell_type": "code",
   "execution_count": 5,
   "id": "104a151b",
   "metadata": {
    "execution": {
     "iopub.execute_input": "2022-07-03T18:37:25.662785Z",
     "iopub.status.busy": "2022-07-03T18:37:25.662378Z",
     "iopub.status.idle": "2022-07-03T18:37:25.672138Z",
     "shell.execute_reply": "2022-07-03T18:37:25.671012Z"
    },
    "papermill": {
     "duration": 0.016502,
     "end_time": "2022-07-03T18:37:25.674476",
     "exception": false,
     "start_time": "2022-07-03T18:37:25.657974",
     "status": "completed"
    },
    "tags": []
   },
   "outputs": [],
   "source": [
    "def load_mvsa_data(path, multiple=False):\n",
    "    data = read_hdf5(path)\n",
    "    for x in data:\n",
    "        if x[0] == 'texts':\n",
    "            texts = x[1]\n",
    "        if x[0] == 'multimodal-labels':\n",
    "            labels = x[1]\n",
    "        if x[0] == 'text-labels':\n",
    "            text_labels = x[1]\n",
    "        if x[0] == 'image-labels':\n",
    "            image_labels = x[1]\n",
    "            \n",
    "    images_path = os.path.join(os.path.split(path)[0], os.path.split(path)[1].split('.')[0] + '-images.npz')\n",
    "    images = loadz(images_path)\n",
    "        \n",
    "    return texts, images, labels, text_labels, image_labels\n",
    "\n",
    "def loadz(path):\n",
    "    data = np.load(path)['arr_0']\n",
    "    return data"
   ]
  },
  {
   "cell_type": "markdown",
   "id": "935bfdab",
   "metadata": {
    "papermill": {
     "duration": 0.002882,
     "end_time": "2022-07-03T18:37:25.680633",
     "exception": false,
     "start_time": "2022-07-03T18:37:25.677751",
     "status": "completed"
    },
    "tags": []
   },
   "source": [
    "# Load raw data"
   ]
  },
  {
   "cell_type": "code",
   "execution_count": 6,
   "id": "ff893073",
   "metadata": {
    "execution": {
     "iopub.execute_input": "2022-07-03T18:37:25.689438Z",
     "iopub.status.busy": "2022-07-03T18:37:25.688662Z",
     "iopub.status.idle": "2022-07-03T18:37:54.178438Z",
     "shell.execute_reply": "2022-07-03T18:37:54.176114Z"
    },
    "papermill": {
     "duration": 28.50014,
     "end_time": "2022-07-03T18:37:54.184047",
     "exception": false,
     "start_time": "2022-07-03T18:37:25.683907",
     "status": "completed"
    },
    "tags": []
   },
   "outputs": [],
   "source": [
    "mvsa_single_texts, mvsa_single_images, \\\n",
    "mvsa_single_multimodal_labels, mvsa_single_text_labels, \\\n",
    "mvsa_single_image_labels = load_mvsa_data(mvsa_single_path)\n",
    "num_mvsa_single = len(mvsa_single_texts)\n",
    "\n",
    "mvsa_multiple_texts, mvsa_multiple_images, \\\n",
    "mvsa_multiple_multimodal_labels, mvsa_multiple_text_labels, \\\n",
    "mvsa_multiple_image_labels = load_mvsa_data(mvsa_multiple_path)\n",
    "num_mvsa_multiple = len(mvsa_multiple_texts)"
   ]
  },
  {
   "cell_type": "markdown",
   "id": "bc64aeac",
   "metadata": {
    "papermill": {
     "duration": 0.003031,
     "end_time": "2022-07-03T18:37:54.192718",
     "exception": false,
     "start_time": "2022-07-03T18:37:54.189687",
     "status": "completed"
    },
    "tags": []
   },
   "source": [
    "# ResNet50"
   ]
  },
  {
   "cell_type": "code",
   "execution_count": 7,
   "id": "b339180e",
   "metadata": {
    "execution": {
     "iopub.execute_input": "2022-07-03T18:37:54.201264Z",
     "iopub.status.busy": "2022-07-03T18:37:54.200836Z",
     "iopub.status.idle": "2022-07-03T18:37:58.111437Z",
     "shell.execute_reply": "2022-07-03T18:37:58.110198Z"
    },
    "papermill": {
     "duration": 3.918444,
     "end_time": "2022-07-03T18:37:58.114232",
     "exception": false,
     "start_time": "2022-07-03T18:37:54.195788",
     "status": "completed"
    },
    "tags": []
   },
   "outputs": [
    {
     "name": "stderr",
     "output_type": "stream",
     "text": [
      "2022-07-03 18:37:54.316411: I tensorflow/core/common_runtime/process_util.cc:146] Creating new thread pool with default inter op setting: 2. Tune using inter_op_parallelism_threads for best performance.\n"
     ]
    },
    {
     "name": "stdout",
     "output_type": "stream",
     "text": [
      "Downloading data from https://storage.googleapis.com/tensorflow/keras-applications/resnet/resnet50_weights_tf_dim_ordering_tf_kernels.h5\n",
      "102973440/102967424 [==============================] - 1s 0us/step\n",
      "102981632/102967424 [==============================] - 1s 0us/step\n"
     ]
    }
   ],
   "source": [
    "resnet50 = ResNet50(input_shape=(IMAGE_SIZE[0], IMAGE_SIZE[1], NUM_CHANNELS))\n",
    "resnet50.trainable = False # Freeze pre-trained layers\n",
    "resnet50_last = Model(inputs=resnet50.input, outputs=resnet50.layers[-2].output)"
   ]
  },
  {
   "cell_type": "code",
   "execution_count": 8,
   "id": "d77e426a",
   "metadata": {
    "execution": {
     "iopub.execute_input": "2022-07-03T18:37:58.125528Z",
     "iopub.status.busy": "2022-07-03T18:37:58.125128Z",
     "iopub.status.idle": "2022-07-03T18:37:58.547289Z",
     "shell.execute_reply": "2022-07-03T18:37:58.545976Z"
    },
    "papermill": {
     "duration": 0.43095,
     "end_time": "2022-07-03T18:37:58.550229",
     "exception": false,
     "start_time": "2022-07-03T18:37:58.119279",
     "status": "completed"
    },
    "tags": []
   },
   "outputs": [],
   "source": [
    "# Summary of VGG-19 is hidden\n",
    "image_inputs = Input(shape=(IMAGE_SIZE[0], IMAGE_SIZE[1], NUM_CHANNELS))\n",
    "rescale_layer = Rescaling(scale=1./255.) (image_inputs)  # Rescale inputs\n",
    "outputs = resnet50_last (rescale_layer)\n",
    "model_resnet50 = Model(inputs=image_inputs, outputs=outputs)"
   ]
  },
  {
   "cell_type": "code",
   "execution_count": 9,
   "id": "31e702dd",
   "metadata": {
    "execution": {
     "iopub.execute_input": "2022-07-03T18:37:58.561105Z",
     "iopub.status.busy": "2022-07-03T18:37:58.560484Z",
     "iopub.status.idle": "2022-07-03T18:42:40.704660Z",
     "shell.execute_reply": "2022-07-03T18:42:40.703444Z"
    },
    "papermill": {
     "duration": 282.152732,
     "end_time": "2022-07-03T18:42:40.707194",
     "exception": false,
     "start_time": "2022-07-03T18:37:58.554462",
     "status": "completed"
    },
    "tags": []
   },
   "outputs": [
    {
     "name": "stdout",
     "output_type": "stream",
     "text": [
      "MVSA-Single: Extracting ResNet50 features of images\n"
     ]
    },
    {
     "name": "stderr",
     "output_type": "stream",
     "text": [
      "2022-07-03 18:37:59.876026: I tensorflow/compiler/mlir/mlir_graph_optimization_pass.cc:185] None of the MLIR Optimization Passes are enabled (registered 2)\n"
     ]
    },
    {
     "name": "stdout",
     "output_type": "stream",
     "text": [
      "141/141 [==============================] - 281s 2s/step\n",
      "ResNet50 last hidden layer dimension: 2048\n",
      "MVSA-Single with ResNet50 last hidden layer: (4511, 2048)\n",
      "True\n"
     ]
    }
   ],
   "source": [
    "print('MVSA-Single: Extracting ResNet50 features of images')\n",
    "mvsa_single_resnet50 = model_resnet50.predict(mvsa_single_images, verbose=1)\n",
    "print('ResNet50 last hidden layer dimension:', mvsa_single_resnet50.shape[1])\n",
    "print('MVSA-Single with ResNet50 last hidden layer:', mvsa_single_resnet50.shape)\n",
    "\n",
    "# save and load check\n",
    "np.savez('./mvsa-single-resnet50', mvsa_single_resnet50)\n",
    "x = loadz('./mvsa-single-resnet50.npz')\n",
    "print((x == mvsa_single_resnet50).all())"
   ]
  },
  {
   "cell_type": "code",
   "execution_count": 10,
   "id": "6b71a848",
   "metadata": {
    "execution": {
     "iopub.execute_input": "2022-07-03T18:42:40.731669Z",
     "iopub.status.busy": "2022-07-03T18:42:40.731301Z",
     "iopub.status.idle": "2022-07-03T19:00:21.468066Z",
     "shell.execute_reply": "2022-07-03T19:00:21.466663Z"
    },
    "papermill": {
     "duration": 1060.751579,
     "end_time": "2022-07-03T19:00:21.470252",
     "exception": false,
     "start_time": "2022-07-03T18:42:40.718673",
     "status": "completed"
    },
    "tags": []
   },
   "outputs": [
    {
     "name": "stdout",
     "output_type": "stream",
     "text": [
      "MVSA-Multiple: Extracting ResNet50 features of images\n",
      "532/532 [==============================] - 1056s 2s/step\n",
      "ResNet50 last hidden layer dimension: 2048\n",
      "MVSA-Multiple with ResNet50 last hidden layer: (17024, 2048)\n",
      "True\n"
     ]
    }
   ],
   "source": [
    "print('MVSA-Multiple: Extracting ResNet50 features of images')\n",
    "mvsa_multiple_resnet50 = model_resnet50.predict(mvsa_multiple_images, verbose=1)\n",
    "print('ResNet50 last hidden layer dimension:', mvsa_multiple_resnet50.shape[1])\n",
    "print('MVSA-Multiple with ResNet50 last hidden layer:', mvsa_multiple_resnet50.shape)\n",
    "\n",
    "# save and load check\n",
    "np.savez('./mvsa-multiple-resnet50', mvsa_multiple_resnet50)\n",
    "x = loadz('./mvsa-multiple-resnet50.npz')\n",
    "print((x == mvsa_multiple_resnet50).all())"
   ]
  }
 ],
 "metadata": {
  "kernelspec": {
   "display_name": "Python 3",
   "language": "python",
   "name": "python3"
  },
  "language_info": {
   "codemirror_mode": {
    "name": "ipython",
    "version": 3
   },
   "file_extension": ".py",
   "mimetype": "text/x-python",
   "name": "python",
   "nbconvert_exporter": "python",
   "pygments_lexer": "ipython3",
   "version": "3.7.12"
  },
  "papermill": {
   "default_parameters": {},
   "duration": 1402.531132,
   "end_time": "2022-07-03T19:00:25.275588",
   "environment_variables": {},
   "exception": null,
   "input_path": "__notebook__.ipynb",
   "output_path": "__notebook__.ipynb",
   "parameters": {},
   "start_time": "2022-07-03T18:37:02.744456",
   "version": "2.3.4"
  }
 },
 "nbformat": 4,
 "nbformat_minor": 5
}
