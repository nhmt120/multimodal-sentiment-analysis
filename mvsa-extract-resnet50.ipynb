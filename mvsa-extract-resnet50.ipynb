{
 "cells": [
  {
   "cell_type": "code",
   "execution_count": 1,
   "id": "083b843a",
   "metadata": {
    "_cell_guid": "b1076dfc-b9ad-4769-8c92-a6c4dae69d19",
    "_uuid": "8f2839f25d086af736a60e9eeb907d3b93b6e0e5",
    "execution": {
     "iopub.execute_input": "2022-06-29T15:58:51.969988Z",
     "iopub.status.busy": "2022-06-29T15:58:51.969471Z",
     "iopub.status.idle": "2022-06-29T15:59:06.168076Z",
     "shell.execute_reply": "2022-06-29T15:59:06.166788Z"
    },
    "papermill": {
     "duration": 14.208513,
     "end_time": "2022-06-29T15:59:06.170901",
     "exception": false,
     "start_time": "2022-06-29T15:58:51.962388",
     "status": "completed"
    },
    "tags": []
   },
   "outputs": [],
   "source": [
    "import os\n",
    "import re\n",
    "import gc\n",
    "import cv2\n",
    "import h5py\n",
    "import torch\n",
    "import string\n",
    "import random\n",
    "import numpy as np\n",
    "import tensorflow as tf\n",
    "\n",
    "from tqdm import tqdm\n",
    "from nltk import tokenize\n",
    "from sklearn import preprocessing\n",
    "\n",
    "from keras.preprocessing.text import Tokenizer, text_to_word_sequence\n",
    "from keras.preprocessing.sequence import pad_sequences\n",
    "from keras.utils.np_utils import to_categorical\n",
    "from keras.layers import Rescaling, Resizing\n",
    "from keras import Input\n",
    "from keras.applications.vgg16 import VGG16\n",
    "from keras.applications.vgg19 import VGG19\n",
    "from keras.applications.xception import Xception\n",
    "from tensorflow.keras.applications import ResNet50, ResNet101, ResNet152\n",
    "from transformers import BertTokenizer, BertForMaskedLM, BertModel\n",
    "from tensorflow.keras import Model"
   ]
  },
  {
   "cell_type": "code",
   "execution_count": 2,
   "id": "0d46dd5e",
   "metadata": {
    "execution": {
     "iopub.execute_input": "2022-06-29T15:59:06.182005Z",
     "iopub.status.busy": "2022-06-29T15:59:06.181331Z",
     "iopub.status.idle": "2022-06-29T15:59:06.186388Z",
     "shell.execute_reply": "2022-06-29T15:59:06.185109Z"
    },
    "papermill": {
     "duration": 0.012978,
     "end_time": "2022-06-29T15:59:06.188494",
     "exception": false,
     "start_time": "2022-06-29T15:59:06.175516",
     "status": "completed"
    },
    "tags": []
   },
   "outputs": [],
   "source": [
    "IMAGE_SIZE = (224, 224)\n",
    "NUM_CHANNELS = 3"
   ]
  },
  {
   "cell_type": "code",
   "execution_count": 3,
   "id": "1c03c454",
   "metadata": {
    "execution": {
     "iopub.execute_input": "2022-06-29T15:59:06.198686Z",
     "iopub.status.busy": "2022-06-29T15:59:06.198286Z",
     "iopub.status.idle": "2022-06-29T15:59:06.202895Z",
     "shell.execute_reply": "2022-06-29T15:59:06.201846Z"
    },
    "papermill": {
     "duration": 0.012357,
     "end_time": "2022-06-29T15:59:06.205030",
     "exception": false,
     "start_time": "2022-06-29T15:59:06.192673",
     "status": "completed"
    },
    "tags": []
   },
   "outputs": [],
   "source": [
    "mvsa_single_path = '../input/mvsa-data/mvsa-single-4316.hdf5'\n",
    "mvsa_multiple_path = '../input/mvsa-data/mvsa-multiple-16387.hdf5'"
   ]
  },
  {
   "cell_type": "code",
   "execution_count": 4,
   "id": "b8333b17",
   "metadata": {
    "execution": {
     "iopub.execute_input": "2022-06-29T15:59:06.215117Z",
     "iopub.status.busy": "2022-06-29T15:59:06.214471Z",
     "iopub.status.idle": "2022-06-29T15:59:06.221771Z",
     "shell.execute_reply": "2022-06-29T15:59:06.220949Z"
    },
    "papermill": {
     "duration": 0.014568,
     "end_time": "2022-06-29T15:59:06.223794",
     "exception": false,
     "start_time": "2022-06-29T15:59:06.209226",
     "status": "completed"
    },
    "tags": []
   },
   "outputs": [],
   "source": [
    "def read_hdf5(path):\n",
    "    read_file = h5py.File(path, 'r')\n",
    "    \n",
    "    feature_names = list(read_file.keys())\n",
    "    loaded_data = []\n",
    "    \n",
    "    for name in feature_names:\n",
    "        dataset = read_file[name][:]\n",
    "        if dataset.dtype == np.dtype('object'):\n",
    "            dataset = np.array([x.decode('UTF-8') for x in dataset])            \n",
    "        loaded_data.append((name, dataset))\n",
    "\n",
    "    return loaded_data"
   ]
  },
  {
   "cell_type": "code",
   "execution_count": 5,
   "id": "58e7e7cc",
   "metadata": {
    "execution": {
     "iopub.execute_input": "2022-06-29T15:59:06.233683Z",
     "iopub.status.busy": "2022-06-29T15:59:06.233277Z",
     "iopub.status.idle": "2022-06-29T15:59:06.243365Z",
     "shell.execute_reply": "2022-06-29T15:59:06.242260Z"
    },
    "papermill": {
     "duration": 0.017908,
     "end_time": "2022-06-29T15:59:06.245730",
     "exception": false,
     "start_time": "2022-06-29T15:59:06.227822",
     "status": "completed"
    },
    "tags": []
   },
   "outputs": [],
   "source": [
    "def load_mvsa_data(path, multiple=False):\n",
    "    data = read_hdf5(path)\n",
    "    for x in data:\n",
    "        if x[0] == 'texts':\n",
    "            texts = x[1]\n",
    "        if x[0] == 'images':\n",
    "            images = x[1]\n",
    "        if x[0] == 'multimodal-labels':\n",
    "            labels = x[1]\n",
    "        if x[0] == 'text-labels':\n",
    "            text_labels = x[1]\n",
    "        if x[0] == 'image-labels':\n",
    "            image_labels = x[1]\n",
    "            \n",
    "    if multiple == True:\n",
    "        images_path = os.path.join(os.path.split(path)[0], os.path.split(path)[1].split('.')[0] + '-images.npz')\n",
    "#         npzfile = np.load(images_path)\n",
    "#         images = npzfile['arr_0']\n",
    "        images = loadz(images_path)\n",
    "        \n",
    "    return texts, images, labels, text_labels, image_labels\n",
    "\n",
    "def loadz(path):\n",
    "    data = np.load(path)['arr_0']\n",
    "    return data"
   ]
  },
  {
   "cell_type": "markdown",
   "id": "d2683120",
   "metadata": {
    "papermill": {
     "duration": 0.003976,
     "end_time": "2022-06-29T15:59:06.253931",
     "exception": false,
     "start_time": "2022-06-29T15:59:06.249955",
     "status": "completed"
    },
    "tags": []
   },
   "source": [
    "# Load raw data"
   ]
  },
  {
   "cell_type": "code",
   "execution_count": 6,
   "id": "c9d295b4",
   "metadata": {
    "execution": {
     "iopub.execute_input": "2022-06-29T15:59:06.264220Z",
     "iopub.status.busy": "2022-06-29T15:59:06.263824Z",
     "iopub.status.idle": "2022-06-29T15:59:31.838708Z",
     "shell.execute_reply": "2022-06-29T15:59:31.837685Z"
    },
    "papermill": {
     "duration": 25.58324,
     "end_time": "2022-06-29T15:59:31.841261",
     "exception": false,
     "start_time": "2022-06-29T15:59:06.258021",
     "status": "completed"
    },
    "tags": []
   },
   "outputs": [],
   "source": [
    "mvsa_single_texts, mvsa_single_images, \\\n",
    "mvsa_single_multimodal_labels, mvsa_single_text_labels, \\\n",
    "mvsa_single_image_labels = load_mvsa_data(mvsa_single_path)\n",
    "num_mvsa_single = len(mvsa_single_texts)\n",
    "\n",
    "mvsa_multiple_texts, mvsa_multiple_images, \\\n",
    "mvsa_multiple_multimodal_labels, mvsa_multiple_text_labels, \\\n",
    "mvsa_multiple_image_labels = load_mvsa_data(mvsa_multiple_path, multiple=True)\n",
    "num_mvsa_multiple = len(mvsa_multiple_texts)"
   ]
  },
  {
   "cell_type": "markdown",
   "id": "5bb5005a",
   "metadata": {
    "papermill": {
     "duration": 0.003864,
     "end_time": "2022-06-29T15:59:31.849368",
     "exception": false,
     "start_time": "2022-06-29T15:59:31.845504",
     "status": "completed"
    },
    "tags": []
   },
   "source": [
    "# ResNet50"
   ]
  },
  {
   "cell_type": "code",
   "execution_count": 7,
   "id": "b28418bb",
   "metadata": {
    "execution": {
     "iopub.execute_input": "2022-06-29T15:59:31.859247Z",
     "iopub.status.busy": "2022-06-29T15:59:31.858844Z",
     "iopub.status.idle": "2022-06-29T15:59:34.672294Z",
     "shell.execute_reply": "2022-06-29T15:59:34.671144Z"
    },
    "papermill": {
     "duration": 2.821806,
     "end_time": "2022-06-29T15:59:34.675292",
     "exception": false,
     "start_time": "2022-06-29T15:59:31.853486",
     "status": "completed"
    },
    "tags": []
   },
   "outputs": [
    {
     "name": "stderr",
     "output_type": "stream",
     "text": [
      "2022-06-29 15:59:31.920594: I tensorflow/core/common_runtime/process_util.cc:146] Creating new thread pool with default inter op setting: 2. Tune using inter_op_parallelism_threads for best performance.\n"
     ]
    },
    {
     "name": "stdout",
     "output_type": "stream",
     "text": [
      "Downloading data from https://storage.googleapis.com/tensorflow/keras-applications/resnet/resnet50_weights_tf_dim_ordering_tf_kernels.h5\n",
      "102973440/102967424 [==============================] - 1s 0us/step\n",
      "102981632/102967424 [==============================] - 1s 0us/step\n"
     ]
    }
   ],
   "source": [
    "resnet50 = ResNet50(input_shape=(IMAGE_SIZE[0], IMAGE_SIZE[1], NUM_CHANNELS))\n",
    "resnet50.trainable = False # Freeze pre-trained layers\n",
    "resnet50_last = Model(inputs=resnet50.input, outputs=resnet50.layers[-2].output)"
   ]
  },
  {
   "cell_type": "code",
   "execution_count": 8,
   "id": "f0aa3fc7",
   "metadata": {
    "execution": {
     "iopub.execute_input": "2022-06-29T15:59:34.687674Z",
     "iopub.status.busy": "2022-06-29T15:59:34.687262Z",
     "iopub.status.idle": "2022-06-29T15:59:35.122234Z",
     "shell.execute_reply": "2022-06-29T15:59:35.121065Z"
    },
    "papermill": {
     "duration": 0.444178,
     "end_time": "2022-06-29T15:59:35.124843",
     "exception": false,
     "start_time": "2022-06-29T15:59:34.680665",
     "status": "completed"
    },
    "tags": []
   },
   "outputs": [],
   "source": [
    "# Summary of VGG-19 is hidden\n",
    "image_inputs = Input(shape=(IMAGE_SIZE[0], IMAGE_SIZE[1], NUM_CHANNELS))\n",
    "rescale_layer = Rescaling(scale=1./255.) (image_inputs)  # Rescale inputs\n",
    "outputs = resnet50_last (rescale_layer)\n",
    "model_resnet50 = Model(inputs=image_inputs, outputs=outputs)"
   ]
  },
  {
   "cell_type": "code",
   "execution_count": 9,
   "id": "175ae7b3",
   "metadata": {
    "execution": {
     "iopub.execute_input": "2022-06-29T15:59:35.137414Z",
     "iopub.status.busy": "2022-06-29T15:59:35.137027Z",
     "iopub.status.idle": "2022-06-29T16:04:38.898188Z",
     "shell.execute_reply": "2022-06-29T16:04:38.896238Z"
    },
    "papermill": {
     "duration": 303.77069,
     "end_time": "2022-06-29T16:04:38.900911",
     "exception": false,
     "start_time": "2022-06-29T15:59:35.130221",
     "status": "completed"
    },
    "tags": []
   },
   "outputs": [
    {
     "name": "stdout",
     "output_type": "stream",
     "text": [
      "MVSA-Single: Extracting ResNet50 features of images\n"
     ]
    },
    {
     "name": "stderr",
     "output_type": "stream",
     "text": [
      "2022-06-29 15:59:35.846782: I tensorflow/compiler/mlir/mlir_graph_optimization_pass.cc:185] None of the MLIR Optimization Passes are enabled (registered 2)\n"
     ]
    },
    {
     "name": "stdout",
     "output_type": "stream",
     "text": [
      "135/135 [==============================] - 303s 2s/step\n",
      "ResNet50 last hidden layer dimension: 2048\n",
      "MVSA-Single with ResNet50 last hidden layer: (4316, 2048)\n",
      "True\n"
     ]
    }
   ],
   "source": [
    "print('MVSA-Single: Extracting ResNet50 features of images')\n",
    "mvsa_single_resnet50 = model_resnet50.predict(mvsa_single_images, verbose=1)\n",
    "print('ResNet50 last hidden layer dimension:', mvsa_single_resnet50.shape[1])\n",
    "print('MVSA-Single with ResNet50 last hidden layer:', mvsa_single_resnet50.shape)\n",
    "\n",
    "# save and load check\n",
    "np.savez('./mvsa-single-resnet50', mvsa_single_resnet50)\n",
    "x = loadz('./mvsa-single-resnet50.npz')\n",
    "print((x == mvsa_single_resnet50).all())"
   ]
  },
  {
   "cell_type": "code",
   "execution_count": 10,
   "id": "0e73ef94",
   "metadata": {
    "execution": {
     "iopub.execute_input": "2022-06-29T16:04:38.935811Z",
     "iopub.status.busy": "2022-06-29T16:04:38.935124Z",
     "iopub.status.idle": "2022-06-29T16:23:31.873261Z",
     "shell.execute_reply": "2022-06-29T16:23:31.871411Z"
    },
    "papermill": {
     "duration": 1132.959937,
     "end_time": "2022-06-29T16:23:31.876511",
     "exception": false,
     "start_time": "2022-06-29T16:04:38.916574",
     "status": "completed"
    },
    "tags": []
   },
   "outputs": [
    {
     "name": "stdout",
     "output_type": "stream",
     "text": [
      "MVSA-Multiple: Extracting ResNet50 features of images\n",
      "513/513 [==============================] - 1129s 2s/step\n",
      "ResNet50 last hidden layer dimension: 2048\n",
      "MVSA-Multiple with ResNet50 last hidden layer: (16387, 2048)\n",
      "True\n"
     ]
    }
   ],
   "source": [
    "print('MVSA-Multiple: Extracting ResNet50 features of images')\n",
    "mvsa_multiple_resnet50 = model_resnet50.predict(mvsa_multiple_images, verbose=1)\n",
    "print('ResNet50 last hidden layer dimension:', mvsa_multiple_resnet50.shape[1])\n",
    "print('MVSA-Multiple with ResNet50 last hidden layer:', mvsa_multiple_resnet50.shape)\n",
    "\n",
    "# save and load check\n",
    "np.savez('./mvsa-multiple-resnet50', mvsa_multiple_resnet50)\n",
    "x = loadz('./mvsa-multiple-resnet50.npz')\n",
    "print((x == mvsa_multiple_resnet50).all())"
   ]
  }
 ],
 "metadata": {
  "kernelspec": {
   "display_name": "Python 3",
   "language": "python",
   "name": "python3"
  },
  "language_info": {
   "codemirror_mode": {
    "name": "ipython",
    "version": 3
   },
   "file_extension": ".py",
   "mimetype": "text/x-python",
   "name": "python",
   "nbconvert_exporter": "python",
   "pygments_lexer": "ipython3",
   "version": "3.7.12"
  },
  "papermill": {
   "default_parameters": {},
   "duration": 1493.530754,
   "end_time": "2022-06-29T16:23:35.896782",
   "environment_variables": {},
   "exception": null,
   "input_path": "__notebook__.ipynb",
   "output_path": "__notebook__.ipynb",
   "parameters": {},
   "start_time": "2022-06-29T15:58:42.366028",
   "version": "2.3.4"
  }
 },
 "nbformat": 4,
 "nbformat_minor": 5
}
