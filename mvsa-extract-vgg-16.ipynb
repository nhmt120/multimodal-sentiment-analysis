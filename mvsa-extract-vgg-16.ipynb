{
 "cells": [
  {
   "cell_type": "code",
   "execution_count": 1,
   "id": "7983b416",
   "metadata": {
    "_cell_guid": "b1076dfc-b9ad-4769-8c92-a6c4dae69d19",
    "_uuid": "8f2839f25d086af736a60e9eeb907d3b93b6e0e5",
    "execution": {
     "iopub.execute_input": "2022-07-03T18:36:14.908726Z",
     "iopub.status.busy": "2022-07-03T18:36:14.908237Z",
     "iopub.status.idle": "2022-07-03T18:36:30.654735Z",
     "shell.execute_reply": "2022-07-03T18:36:30.653508Z"
    },
    "papermill": {
     "duration": 15.756393,
     "end_time": "2022-07-03T18:36:30.657731",
     "exception": false,
     "start_time": "2022-07-03T18:36:14.901338",
     "status": "completed"
    },
    "tags": []
   },
   "outputs": [],
   "source": [
    "import os\n",
    "import re\n",
    "import gc\n",
    "import h5py\n",
    "import torch\n",
    "import string\n",
    "import random\n",
    "import numpy as np\n",
    "import tensorflow as tf\n",
    "\n",
    "from tqdm import tqdm\n",
    "from nltk import tokenize\n",
    "from sklearn import preprocessing\n",
    "\n",
    "from keras.preprocessing.text import Tokenizer, text_to_word_sequence\n",
    "from keras.preprocessing.sequence import pad_sequences\n",
    "from keras.utils.np_utils import to_categorical\n",
    "from keras.layers import Rescaling\n",
    "from keras import Input\n",
    "from keras.applications.vgg16 import VGG16\n",
    "from keras.applications.vgg19 import VGG19\n",
    "from transformers import BertTokenizer, BertForMaskedLM, BertModel\n",
    "from tensorflow.keras import Model"
   ]
  },
  {
   "cell_type": "code",
   "execution_count": 2,
   "id": "b03fc7b7",
   "metadata": {
    "execution": {
     "iopub.execute_input": "2022-07-03T18:36:30.668643Z",
     "iopub.status.busy": "2022-07-03T18:36:30.667964Z",
     "iopub.status.idle": "2022-07-03T18:36:30.673514Z",
     "shell.execute_reply": "2022-07-03T18:36:30.672257Z"
    },
    "papermill": {
     "duration": 0.013609,
     "end_time": "2022-07-03T18:36:30.676023",
     "exception": false,
     "start_time": "2022-07-03T18:36:30.662414",
     "status": "completed"
    },
    "tags": []
   },
   "outputs": [],
   "source": [
    "IMAGE_SIZE = (224, 224)\n",
    "NUM_CHANNELS = 3"
   ]
  },
  {
   "cell_type": "code",
   "execution_count": 3,
   "id": "f9af5a1a",
   "metadata": {
    "execution": {
     "iopub.execute_input": "2022-07-03T18:36:30.686540Z",
     "iopub.status.busy": "2022-07-03T18:36:30.685761Z",
     "iopub.status.idle": "2022-07-03T18:36:30.691196Z",
     "shell.execute_reply": "2022-07-03T18:36:30.690302Z"
    },
    "papermill": {
     "duration": 0.013455,
     "end_time": "2022-07-03T18:36:30.693618",
     "exception": false,
     "start_time": "2022-07-03T18:36:30.680163",
     "status": "completed"
    },
    "tags": []
   },
   "outputs": [],
   "source": [
    "mvsa_single_path = '../input/mvsa-data/mvsa-single-4511.hdf5'\n",
    "mvsa_multiple_path = '../input/mvsa-data/mvsa-multiple-17024.hdf5'"
   ]
  },
  {
   "cell_type": "code",
   "execution_count": 4,
   "id": "04e489b6",
   "metadata": {
    "execution": {
     "iopub.execute_input": "2022-07-03T18:36:30.703837Z",
     "iopub.status.busy": "2022-07-03T18:36:30.703416Z",
     "iopub.status.idle": "2022-07-03T18:36:30.710717Z",
     "shell.execute_reply": "2022-07-03T18:36:30.709533Z"
    },
    "papermill": {
     "duration": 0.015349,
     "end_time": "2022-07-03T18:36:30.713110",
     "exception": false,
     "start_time": "2022-07-03T18:36:30.697761",
     "status": "completed"
    },
    "tags": []
   },
   "outputs": [],
   "source": [
    "def read_hdf5(path):\n",
    "    read_file = h5py.File(path, 'r')\n",
    "    \n",
    "    feature_names = list(read_file.keys())\n",
    "    loaded_data = []\n",
    "    \n",
    "    for name in feature_names:\n",
    "        dataset = read_file[name][:]\n",
    "        if dataset.dtype == np.dtype('object'):\n",
    "            dataset = np.array([x.decode('UTF-8') for x in dataset])            \n",
    "        loaded_data.append((name, dataset))\n",
    "\n",
    "    return loaded_data"
   ]
  },
  {
   "cell_type": "code",
   "execution_count": 5,
   "id": "6bf56656",
   "metadata": {
    "execution": {
     "iopub.execute_input": "2022-07-03T18:36:30.723876Z",
     "iopub.status.busy": "2022-07-03T18:36:30.723035Z",
     "iopub.status.idle": "2022-07-03T18:36:30.734025Z",
     "shell.execute_reply": "2022-07-03T18:36:30.733034Z"
    },
    "papermill": {
     "duration": 0.019444,
     "end_time": "2022-07-03T18:36:30.736666",
     "exception": false,
     "start_time": "2022-07-03T18:36:30.717222",
     "status": "completed"
    },
    "tags": []
   },
   "outputs": [],
   "source": [
    "def load_mvsa_data(path):\n",
    "    data = read_hdf5(path)\n",
    "    for x in data:\n",
    "        if x[0] == 'texts':\n",
    "            texts = x[1]\n",
    "        if x[0] == 'multimodal-labels':\n",
    "            labels = x[1]\n",
    "        if x[0] == 'text-labels':\n",
    "            text_labels = x[1]\n",
    "        if x[0] == 'image-labels':\n",
    "            image_labels = x[1]\n",
    "\n",
    "    images_path = os.path.join(os.path.split(path)[0], os.path.split(path)[1].split('.')[0] + '-images.npz')\n",
    "    images = loadz(images_path)\n",
    "        \n",
    "    return texts, images, labels, text_labels, image_labels\n",
    "\n",
    "def loadz(path):\n",
    "    data = np.load(path)['arr_0']\n",
    "    return data"
   ]
  },
  {
   "cell_type": "markdown",
   "id": "7159d1ac",
   "metadata": {
    "papermill": {
     "duration": 0.003947,
     "end_time": "2022-07-03T18:36:30.744774",
     "exception": false,
     "start_time": "2022-07-03T18:36:30.740827",
     "status": "completed"
    },
    "tags": []
   },
   "source": [
    "# Load raw data"
   ]
  },
  {
   "cell_type": "code",
   "execution_count": 6,
   "id": "2c5cd78a",
   "metadata": {
    "execution": {
     "iopub.execute_input": "2022-07-03T18:36:30.755499Z",
     "iopub.status.busy": "2022-07-03T18:36:30.754407Z",
     "iopub.status.idle": "2022-07-03T18:37:03.812517Z",
     "shell.execute_reply": "2022-07-03T18:37:03.810479Z"
    },
    "papermill": {
     "duration": 33.068696,
     "end_time": "2022-07-03T18:37:03.817673",
     "exception": false,
     "start_time": "2022-07-03T18:36:30.748977",
     "status": "completed"
    },
    "tags": []
   },
   "outputs": [],
   "source": [
    "mvsa_single_texts, mvsa_single_images, \\\n",
    "mvsa_single_multimodal_labels, mvsa_single_text_labels, \\\n",
    "mvsa_single_image_labels = load_mvsa_data(mvsa_single_path)\n",
    "num_mvsa_single = len(mvsa_single_texts)\n",
    "\n",
    "mvsa_multiple_texts, mvsa_multiple_images, \\\n",
    "mvsa_multiple_multimodal_labels, mvsa_multiple_text_labels, \\\n",
    "mvsa_multiple_image_labels = load_mvsa_data(mvsa_multiple_path)\n",
    "num_mvsa_multiple = len(mvsa_multiple_texts)"
   ]
  },
  {
   "cell_type": "markdown",
   "id": "413f8c70",
   "metadata": {
    "papermill": {
     "duration": 0.004148,
     "end_time": "2022-07-03T18:37:03.828771",
     "exception": false,
     "start_time": "2022-07-03T18:37:03.824623",
     "status": "completed"
    },
    "tags": []
   },
   "source": [
    "# VGG-16"
   ]
  },
  {
   "cell_type": "code",
   "execution_count": 7,
   "id": "cae49a57",
   "metadata": {
    "execution": {
     "iopub.execute_input": "2022-07-03T18:37:03.839745Z",
     "iopub.status.busy": "2022-07-03T18:37:03.839320Z",
     "iopub.status.idle": "2022-07-03T18:37:09.564345Z",
     "shell.execute_reply": "2022-07-03T18:37:09.563001Z"
    },
    "papermill": {
     "duration": 5.734322,
     "end_time": "2022-07-03T18:37:09.567268",
     "exception": false,
     "start_time": "2022-07-03T18:37:03.832946",
     "status": "completed"
    },
    "tags": []
   },
   "outputs": [
    {
     "name": "stderr",
     "output_type": "stream",
     "text": [
      "2022-07-03 18:37:03.955191: I tensorflow/core/common_runtime/process_util.cc:146] Creating new thread pool with default inter op setting: 2. Tune using inter_op_parallelism_threads for best performance.\n"
     ]
    },
    {
     "name": "stdout",
     "output_type": "stream",
     "text": [
      "Downloading data from https://storage.googleapis.com/tensorflow/keras-applications/vgg16/vgg16_weights_tf_dim_ordering_tf_kernels.h5\n",
      "553467904/553467096 [==============================] - 4s 0us/step\n",
      "553476096/553467096 [==============================] - 4s 0us/step\n",
      "Model: \"model\"\n",
      "_________________________________________________________________\n",
      "Layer (type)                 Output Shape              Param #   \n",
      "=================================================================\n",
      "input_1 (InputLayer)         [(None, 224, 224, 3)]     0         \n",
      "_________________________________________________________________\n",
      "block1_conv1 (Conv2D)        (None, 224, 224, 64)      1792      \n",
      "_________________________________________________________________\n",
      "block1_conv2 (Conv2D)        (None, 224, 224, 64)      36928     \n",
      "_________________________________________________________________\n",
      "block1_pool (MaxPooling2D)   (None, 112, 112, 64)      0         \n",
      "_________________________________________________________________\n",
      "block2_conv1 (Conv2D)        (None, 112, 112, 128)     73856     \n",
      "_________________________________________________________________\n",
      "block2_conv2 (Conv2D)        (None, 112, 112, 128)     147584    \n",
      "_________________________________________________________________\n",
      "block2_pool (MaxPooling2D)   (None, 56, 56, 128)       0         \n",
      "_________________________________________________________________\n",
      "block3_conv1 (Conv2D)        (None, 56, 56, 256)       295168    \n",
      "_________________________________________________________________\n",
      "block3_conv2 (Conv2D)        (None, 56, 56, 256)       590080    \n",
      "_________________________________________________________________\n",
      "block3_conv3 (Conv2D)        (None, 56, 56, 256)       590080    \n",
      "_________________________________________________________________\n",
      "block3_pool (MaxPooling2D)   (None, 28, 28, 256)       0         \n",
      "_________________________________________________________________\n",
      "block4_conv1 (Conv2D)        (None, 28, 28, 512)       1180160   \n",
      "_________________________________________________________________\n",
      "block4_conv2 (Conv2D)        (None, 28, 28, 512)       2359808   \n",
      "_________________________________________________________________\n",
      "block4_conv3 (Conv2D)        (None, 28, 28, 512)       2359808   \n",
      "_________________________________________________________________\n",
      "block4_pool (MaxPooling2D)   (None, 14, 14, 512)       0         \n",
      "_________________________________________________________________\n",
      "block5_conv1 (Conv2D)        (None, 14, 14, 512)       2359808   \n",
      "_________________________________________________________________\n",
      "block5_conv2 (Conv2D)        (None, 14, 14, 512)       2359808   \n",
      "_________________________________________________________________\n",
      "block5_conv3 (Conv2D)        (None, 14, 14, 512)       2359808   \n",
      "_________________________________________________________________\n",
      "block5_pool (MaxPooling2D)   (None, 7, 7, 512)         0         \n",
      "_________________________________________________________________\n",
      "flatten (Flatten)            (None, 25088)             0         \n",
      "_________________________________________________________________\n",
      "fc1 (Dense)                  (None, 4096)              102764544 \n",
      "_________________________________________________________________\n",
      "fc2 (Dense)                  (None, 4096)              16781312  \n",
      "=================================================================\n",
      "Total params: 134,260,544\n",
      "Trainable params: 0\n",
      "Non-trainable params: 134,260,544\n",
      "_________________________________________________________________\n"
     ]
    }
   ],
   "source": [
    "vgg16 = VGG16(input_shape=(IMAGE_SIZE[0], IMAGE_SIZE[1], NUM_CHANNELS))\n",
    "vgg16.trainable = False # Freeze pre-trained layers\n",
    "vgg16_last = Model(inputs=vgg16.input, outputs=vgg16.layers[-2].output) # output of last hidden layer\n",
    "vgg16_last.summary()"
   ]
  },
  {
   "cell_type": "code",
   "execution_count": 8,
   "id": "a16c1b62",
   "metadata": {
    "execution": {
     "iopub.execute_input": "2022-07-03T18:37:09.591437Z",
     "iopub.status.busy": "2022-07-03T18:37:09.590728Z",
     "iopub.status.idle": "2022-07-03T18:37:10.052760Z",
     "shell.execute_reply": "2022-07-03T18:37:10.051555Z"
    },
    "papermill": {
     "duration": 0.477719,
     "end_time": "2022-07-03T18:37:10.056226",
     "exception": false,
     "start_time": "2022-07-03T18:37:09.578507",
     "status": "completed"
    },
    "tags": []
   },
   "outputs": [
    {
     "name": "stdout",
     "output_type": "stream",
     "text": [
      "Model: \"model_1\"\n",
      "_________________________________________________________________\n",
      "Layer (type)                 Output Shape              Param #   \n",
      "=================================================================\n",
      "input_2 (InputLayer)         [(None, 224, 224, 3)]     0         \n",
      "_________________________________________________________________\n",
      "rescaling (Rescaling)        (None, 224, 224, 3)       0         \n",
      "_________________________________________________________________\n",
      "model (Functional)           (None, 4096)              134260544 \n",
      "=================================================================\n",
      "Total params: 134,260,544\n",
      "Trainable params: 0\n",
      "Non-trainable params: 134,260,544\n",
      "_________________________________________________________________\n"
     ]
    }
   ],
   "source": [
    "# Summary of VGG-16 is hidden\n",
    "image_inputs = Input(shape=(IMAGE_SIZE[0], IMAGE_SIZE[1], NUM_CHANNELS))\n",
    "rescale_layer = Rescaling(scale=1./255.) (image_inputs)  # Rescale inputs\n",
    "outputs = vgg16_last (rescale_layer)\n",
    "model_vgg16 = Model(inputs=image_inputs, outputs=outputs)#vgg16.layers[-2].output)\n",
    "model_vgg16.summary()"
   ]
  },
  {
   "cell_type": "code",
   "execution_count": 9,
   "id": "04f6d3f1",
   "metadata": {
    "execution": {
     "iopub.execute_input": "2022-07-03T18:37:10.080180Z",
     "iopub.status.busy": "2022-07-03T18:37:10.079762Z",
     "iopub.status.idle": "2022-07-03T18:56:38.021896Z",
     "shell.execute_reply": "2022-07-03T18:56:38.020039Z"
    },
    "papermill": {
     "duration": 1167.958141,
     "end_time": "2022-07-03T18:56:38.025500",
     "exception": false,
     "start_time": "2022-07-03T18:37:10.067359",
     "status": "completed"
    },
    "tags": []
   },
   "outputs": [
    {
     "name": "stdout",
     "output_type": "stream",
     "text": [
      "MVSA-Single: Extracting VGG-16 features of images\n"
     ]
    },
    {
     "name": "stderr",
     "output_type": "stream",
     "text": [
      "2022-07-03 18:37:10.516201: I tensorflow/compiler/mlir/mlir_graph_optimization_pass.cc:185] None of the MLIR Optimization Passes are enabled (registered 2)\n"
     ]
    },
    {
     "name": "stdout",
     "output_type": "stream",
     "text": [
      "141/141 [==============================] - 1167s 8s/step\n",
      "VGG-16 last hidden layer dimension: 4096\n",
      "MVSA-Single with VGG-16 last hidden layer: (4511, 4096)\n",
      "True\n"
     ]
    }
   ],
   "source": [
    "print('MVSA-Single: Extracting VGG-16 features of images')\n",
    "mvsa_single_vgg16 = model_vgg16.predict(mvsa_single_images, verbose=1)\n",
    "print('VGG-16 last hidden layer dimension:', mvsa_single_vgg16.shape[1])\n",
    "print('MVSA-Single with VGG-16 last hidden layer:', mvsa_single_vgg16.shape)\n",
    "\n",
    "# save and load check\n",
    "np.savez('./mvsa-single-vgg16', mvsa_single_vgg16)\n",
    "x = loadz('./mvsa-single-vgg16.npz')\n",
    "print((x == mvsa_single_vgg16).all())"
   ]
  },
  {
   "cell_type": "code",
   "execution_count": 10,
   "id": "f4eb1cc3",
   "metadata": {
    "execution": {
     "iopub.execute_input": "2022-07-03T18:56:38.071607Z",
     "iopub.status.busy": "2022-07-03T18:56:38.070924Z",
     "iopub.status.idle": "2022-07-03T20:10:52.754416Z",
     "shell.execute_reply": "2022-07-03T20:10:52.752298Z"
    },
    "papermill": {
     "duration": 4454.709555,
     "end_time": "2022-07-03T20:10:52.757232",
     "exception": false,
     "start_time": "2022-07-03T18:56:38.047677",
     "status": "completed"
    },
    "tags": []
   },
   "outputs": [
    {
     "name": "stdout",
     "output_type": "stream",
     "text": [
      "MVSA-Multiple: Extracting VGG-16 features of images\n",
      "532/532 [==============================] - 4449s 8s/step\n",
      "VGG-16 last hidden layer dimension: 4096\n",
      "MVSA-Multiple with VGG-16 last hidden layer: (17024, 4096)\n",
      "True\n"
     ]
    }
   ],
   "source": [
    "print('MVSA-Multiple: Extracting VGG-16 features of images')\n",
    "mvsa_multiple_vgg16 = model_vgg16.predict(mvsa_multiple_images, verbose=1)\n",
    "print('VGG-16 last hidden layer dimension:', mvsa_multiple_vgg16.shape[1])\n",
    "print('MVSA-Multiple with VGG-16 last hidden layer:', mvsa_multiple_vgg16.shape)\n",
    "\n",
    "# save and load check\n",
    "np.savez('./mvsa-multiple-vgg16', mvsa_multiple_vgg16)\n",
    "x = loadz('./mvsa-multiple-vgg16.npz')\n",
    "print((x == mvsa_multiple_vgg16).all())"
   ]
  }
 ],
 "metadata": {
  "kernelspec": {
   "display_name": "Python 3",
   "language": "python",
   "name": "python3"
  },
  "language_info": {
   "codemirror_mode": {
    "name": "ipython",
    "version": 3
   },
   "file_extension": ".py",
   "mimetype": "text/x-python",
   "name": "python",
   "nbconvert_exporter": "python",
   "pygments_lexer": "ipython3",
   "version": "3.7.12"
  },
  "papermill": {
   "default_parameters": {},
   "duration": 5692.460555,
   "end_time": "2022-07-03T20:10:56.303101",
   "environment_variables": {},
   "exception": null,
   "input_path": "__notebook__.ipynb",
   "output_path": "__notebook__.ipynb",
   "parameters": {},
   "start_time": "2022-07-03T18:36:03.842546",
   "version": "2.3.4"
  }
 },
 "nbformat": 4,
 "nbformat_minor": 5
}
