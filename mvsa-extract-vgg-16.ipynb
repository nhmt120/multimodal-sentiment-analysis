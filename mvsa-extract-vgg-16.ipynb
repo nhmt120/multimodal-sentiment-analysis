{
 "cells": [
  {
   "cell_type": "code",
   "execution_count": 1,
   "id": "dc529501",
   "metadata": {
    "_cell_guid": "b1076dfc-b9ad-4769-8c92-a6c4dae69d19",
    "_uuid": "8f2839f25d086af736a60e9eeb907d3b93b6e0e5",
    "execution": {
     "iopub.execute_input": "2022-06-29T13:20:56.816581Z",
     "iopub.status.busy": "2022-06-29T13:20:56.815211Z",
     "iopub.status.idle": "2022-06-29T13:21:10.271855Z",
     "shell.execute_reply": "2022-06-29T13:21:10.270706Z"
    },
    "papermill": {
     "duration": 13.467179,
     "end_time": "2022-06-29T13:21:10.274683",
     "exception": false,
     "start_time": "2022-06-29T13:20:56.807504",
     "status": "completed"
    },
    "tags": []
   },
   "outputs": [],
   "source": [
    "import os\n",
    "import re\n",
    "import gc\n",
    "import h5py\n",
    "import torch\n",
    "import string\n",
    "import random\n",
    "import numpy as np\n",
    "import tensorflow as tf\n",
    "\n",
    "from tqdm import tqdm\n",
    "from nltk import tokenize\n",
    "from sklearn import preprocessing\n",
    "\n",
    "from keras.preprocessing.text import Tokenizer, text_to_word_sequence\n",
    "from keras.preprocessing.sequence import pad_sequences\n",
    "from keras.utils.np_utils import to_categorical\n",
    "from keras.layers import Rescaling\n",
    "from keras import Input\n",
    "from keras.applications.vgg16 import VGG16\n",
    "from keras.applications.vgg19 import VGG19\n",
    "from transformers import BertTokenizer, BertForMaskedLM, BertModel\n",
    "from tensorflow.keras import Model"
   ]
  },
  {
   "cell_type": "code",
   "execution_count": 2,
   "id": "dd0b9b86",
   "metadata": {
    "execution": {
     "iopub.execute_input": "2022-06-29T13:21:10.286902Z",
     "iopub.status.busy": "2022-06-29T13:21:10.285621Z",
     "iopub.status.idle": "2022-06-29T13:21:10.290925Z",
     "shell.execute_reply": "2022-06-29T13:21:10.289911Z"
    },
    "papermill": {
     "duration": 0.013383,
     "end_time": "2022-06-29T13:21:10.293029",
     "exception": false,
     "start_time": "2022-06-29T13:21:10.279646",
     "status": "completed"
    },
    "tags": []
   },
   "outputs": [],
   "source": [
    "IMAGE_SIZE = (224, 224)\n",
    "NUM_CHANNELS = 3"
   ]
  },
  {
   "cell_type": "code",
   "execution_count": 3,
   "id": "a5ecc89e",
   "metadata": {
    "execution": {
     "iopub.execute_input": "2022-06-29T13:21:10.304616Z",
     "iopub.status.busy": "2022-06-29T13:21:10.303603Z",
     "iopub.status.idle": "2022-06-29T13:21:10.308114Z",
     "shell.execute_reply": "2022-06-29T13:21:10.307255Z"
    },
    "papermill": {
     "duration": 0.012306,
     "end_time": "2022-06-29T13:21:10.310142",
     "exception": false,
     "start_time": "2022-06-29T13:21:10.297836",
     "status": "completed"
    },
    "tags": []
   },
   "outputs": [],
   "source": [
    "mvsa_single_path = '../input/mvsa-data/mvsa-single-4316.hdf5'\n",
    "mvsa_multiple_path = '../input/mvsa-data/mvsa-multiple-16387.hdf5'"
   ]
  },
  {
   "cell_type": "code",
   "execution_count": 4,
   "id": "0b898f98",
   "metadata": {
    "execution": {
     "iopub.execute_input": "2022-06-29T13:21:10.321583Z",
     "iopub.status.busy": "2022-06-29T13:21:10.320914Z",
     "iopub.status.idle": "2022-06-29T13:21:10.327571Z",
     "shell.execute_reply": "2022-06-29T13:21:10.326779Z"
    },
    "papermill": {
     "duration": 0.014638,
     "end_time": "2022-06-29T13:21:10.329536",
     "exception": false,
     "start_time": "2022-06-29T13:21:10.314898",
     "status": "completed"
    },
    "tags": []
   },
   "outputs": [],
   "source": [
    "def clean_text(txt):\n",
    "#     nonEnglish_regex = re.compile('[^a-zA-Z0-9\\\\?\\\\!\\\\,\\\\.@#\\\\+\\\\-=\\\\*\\'\\\"><&\\\\$%\\\\(\\\\)\\\\[\\\\]:;]+')\n",
    "#     hashtag_pattern = re.compile('#[a-zA-Z0-9]+')\n",
    "#     txt_hashtag = re.sub(hashtag_pattern, '', txt)\n",
    "    at_pattern = re.compile('@[a-zA-Z0-9]+')\n",
    "    http_pattern = re.compile(\"((http|ftp|https)://)(([a-zA-Z0-9\\._-]+\\.[a-zA-Z]{2,6})|([0-9]{1,3}\\.[0-9]{1,3}\\.[0-9]{1,3}\\.[0-9]{1,3}))(:[0-9]{1,4})*(/[a-zA-Z0-9\\&%_\\./-~-]*)?\")\n",
    "    punc_pattern = re.compile('[%s]' % re.escape(string.punctuation))\n",
    "    txt = re.sub(at_pattern, '<user>', txt)\n",
    "    txt = re.sub(http_pattern, '<link>', txt)\n",
    "    \n",
    "    # as the data was crawled using Twitter API, it marked retweet data with RT <user> tag which has no meaning considering it in training\n",
    "    if txt.startswith('RT <user>'):\n",
    "        txt = ''.join(q.split(':')[1:])    \n",
    "    txt = txt.strip()\n",
    "    \n",
    "    return txt"
   ]
  },
  {
   "cell_type": "code",
   "execution_count": 5,
   "id": "f2371015",
   "metadata": {
    "execution": {
     "iopub.execute_input": "2022-06-29T13:21:10.340658Z",
     "iopub.status.busy": "2022-06-29T13:21:10.340045Z",
     "iopub.status.idle": "2022-06-29T13:21:10.344865Z",
     "shell.execute_reply": "2022-06-29T13:21:10.344094Z"
    },
    "papermill": {
     "duration": 0.012633,
     "end_time": "2022-06-29T13:21:10.346871",
     "exception": false,
     "start_time": "2022-06-29T13:21:10.334238",
     "status": "completed"
    },
    "tags": []
   },
   "outputs": [],
   "source": [
    "def get_clean_texts(data):\n",
    "    cleaned_data = []\n",
    "    for line in data:\n",
    "        text = clean_text(line)\n",
    "        cleaned_data.append(text)\n",
    "    return cleaned_data"
   ]
  },
  {
   "cell_type": "code",
   "execution_count": 6,
   "id": "1371a845",
   "metadata": {
    "execution": {
     "iopub.execute_input": "2022-06-29T13:21:10.358185Z",
     "iopub.status.busy": "2022-06-29T13:21:10.357571Z",
     "iopub.status.idle": "2022-06-29T13:21:10.364108Z",
     "shell.execute_reply": "2022-06-29T13:21:10.363137Z"
    },
    "papermill": {
     "duration": 0.014753,
     "end_time": "2022-06-29T13:21:10.366418",
     "exception": false,
     "start_time": "2022-06-29T13:21:10.351665",
     "status": "completed"
    },
    "tags": []
   },
   "outputs": [],
   "source": [
    "def read_hdf5(path):\n",
    "    read_file = h5py.File(path, 'r')\n",
    "    \n",
    "    feature_names = list(read_file.keys())\n",
    "    loaded_data = []\n",
    "    \n",
    "    for name in feature_names:\n",
    "        dataset = read_file[name][:]\n",
    "        if dataset.dtype == np.dtype('object'):\n",
    "            dataset = np.array([x.decode('UTF-8') for x in dataset])            \n",
    "        loaded_data.append((name, dataset))\n",
    "\n",
    "    return loaded_data"
   ]
  },
  {
   "cell_type": "code",
   "execution_count": 7,
   "id": "310bfe80",
   "metadata": {
    "execution": {
     "iopub.execute_input": "2022-06-29T13:21:10.377590Z",
     "iopub.status.busy": "2022-06-29T13:21:10.376947Z",
     "iopub.status.idle": "2022-06-29T13:21:10.388632Z",
     "shell.execute_reply": "2022-06-29T13:21:10.387420Z"
    },
    "papermill": {
     "duration": 0.020074,
     "end_time": "2022-06-29T13:21:10.391245",
     "exception": false,
     "start_time": "2022-06-29T13:21:10.371171",
     "status": "completed"
    },
    "tags": []
   },
   "outputs": [],
   "source": [
    "def load_mvsa_data(path, multiple=False):\n",
    "    data = read_hdf5(path)\n",
    "    for x in data:\n",
    "        if x[0] == 'texts':\n",
    "            texts = x[1]\n",
    "        if x[0] == 'images':\n",
    "            images = x[1]\n",
    "        if x[0] == 'multimodal-labels':\n",
    "            labels = x[1]\n",
    "        if x[0] == 'text-labels':\n",
    "            text_labels = x[1]\n",
    "        if x[0] == 'image-labels':\n",
    "            image_labels = x[1]\n",
    "            \n",
    "    if multiple == True:\n",
    "        images_path = os.path.join(os.path.split(path)[0], os.path.split(path)[1].split('.')[0] + '-images.npz')\n",
    "#         npzfile = np.load(images_path)\n",
    "#         images = npzfile['arr_0']\n",
    "        images = loadz(images_path)\n",
    "        \n",
    "    return texts, images, labels, text_labels, image_labels\n",
    "\n",
    "def loadz(path):\n",
    "    data = np.load(path)['arr_0']\n",
    "    return data"
   ]
  },
  {
   "cell_type": "markdown",
   "id": "c56f3f08",
   "metadata": {
    "papermill": {
     "duration": 0.004681,
     "end_time": "2022-06-29T13:21:10.400634",
     "exception": false,
     "start_time": "2022-06-29T13:21:10.395953",
     "status": "completed"
    },
    "tags": []
   },
   "source": [
    "# Load raw data"
   ]
  },
  {
   "cell_type": "code",
   "execution_count": 8,
   "id": "ea40fa95",
   "metadata": {
    "execution": {
     "iopub.execute_input": "2022-06-29T13:21:10.411820Z",
     "iopub.status.busy": "2022-06-29T13:21:10.411116Z",
     "iopub.status.idle": "2022-06-29T13:21:36.042548Z",
     "shell.execute_reply": "2022-06-29T13:21:36.041577Z"
    },
    "papermill": {
     "duration": 25.639884,
     "end_time": "2022-06-29T13:21:36.045056",
     "exception": false,
     "start_time": "2022-06-29T13:21:10.405172",
     "status": "completed"
    },
    "tags": []
   },
   "outputs": [],
   "source": [
    "mvsa_single_texts, mvsa_single_images, \\\n",
    "mvsa_single_multimodal_labels, mvsa_single_text_labels, \\\n",
    "mvsa_single_image_labels = load_mvsa_data(mvsa_single_path)\n",
    "num_mvsa_single = len(mvsa_single_texts)\n",
    "\n",
    "mvsa_multiple_texts, mvsa_multiple_images, \\\n",
    "mvsa_multiple_multimodal_labels, mvsa_multiple_text_labels, \\\n",
    "mvsa_multiple_image_labels = load_mvsa_data(mvsa_multiple_path, multiple=True)\n",
    "num_mvsa_multiple = len(mvsa_multiple_texts)"
   ]
  },
  {
   "cell_type": "code",
   "execution_count": 9,
   "id": "738ea8a6",
   "metadata": {
    "execution": {
     "iopub.execute_input": "2022-06-29T13:21:36.057100Z",
     "iopub.status.busy": "2022-06-29T13:21:36.056489Z",
     "iopub.status.idle": "2022-06-29T13:21:36.106759Z",
     "shell.execute_reply": "2022-06-29T13:21:36.105286Z"
    },
    "papermill": {
     "duration": 0.059158,
     "end_time": "2022-06-29T13:21:36.109316",
     "exception": false,
     "start_time": "2022-06-29T13:21:36.050158",
     "status": "completed"
    },
    "tags": []
   },
   "outputs": [
    {
     "name": "stdout",
     "output_type": "stream",
     "text": [
      "-----Sample-----\n",
      "Text label: neutral\n",
      "Image label: positive\n",
      "Multimodal label: positive\n",
      "Text: This #IT #job might be a great fit for you: Project Manager - #Montreal, QC #Hiring http://t.co/1Dzdz8n7pD\n",
      "Image:\n"
     ]
    },
    {
     "data": {
      "image/png": "[encoded data removed]",
      "text/plain": [
       "<PIL.Image.Image image mode=RGB size=224x224>"
      ]
     },
     "execution_count": 9,
     "metadata": {},
     "output_type": "execute_result"
    }
   ],
   "source": [
    "SAMPLE = random.choice(range(num_mvsa_multiple))\n",
    "print('-----Sample-----')\n",
    "print('Text label:', mvsa_multiple_text_labels[SAMPLE])\n",
    "print('Image label:', mvsa_multiple_image_labels[SAMPLE])\n",
    "print('Multimodal label:', mvsa_multiple_multimodal_labels[SAMPLE])\n",
    "print('Text:', mvsa_multiple_texts[SAMPLE])\n",
    "print('Image:')\n",
    "tf.keras.utils.array_to_img(mvsa_multiple_images[SAMPLE])"
   ]
  },
  {
   "cell_type": "markdown",
   "id": "b02a43ab",
   "metadata": {
    "papermill": {
     "duration": 0.005737,
     "end_time": "2022-06-29T13:21:36.121248",
     "exception": false,
     "start_time": "2022-06-29T13:21:36.115511",
     "status": "completed"
    },
    "tags": []
   },
   "source": [
    "# VGG-16"
   ]
  },
  {
   "cell_type": "code",
   "execution_count": 10,
   "id": "5fb72f50",
   "metadata": {
    "execution": {
     "iopub.execute_input": "2022-06-29T13:21:36.134844Z",
     "iopub.status.busy": "2022-06-29T13:21:36.134446Z",
     "iopub.status.idle": "2022-06-29T13:21:43.436755Z",
     "shell.execute_reply": "2022-06-29T13:21:43.435320Z"
    },
    "papermill": {
     "duration": 7.312336,
     "end_time": "2022-06-29T13:21:43.439591",
     "exception": false,
     "start_time": "2022-06-29T13:21:36.127255",
     "status": "completed"
    },
    "tags": []
   },
   "outputs": [
    {
     "name": "stderr",
     "output_type": "stream",
     "text": [
      "2022-06-29 13:21:36.197474: I tensorflow/core/common_runtime/process_util.cc:146] Creating new thread pool with default inter op setting: 2. Tune using inter_op_parallelism_threads for best performance.\n"
     ]
    },
    {
     "name": "stdout",
     "output_type": "stream",
     "text": [
      "Downloading data from https://storage.googleapis.com/tensorflow/keras-applications/vgg16/vgg16_weights_tf_dim_ordering_tf_kernels.h5\n",
      "553467904/553467096 [==============================] - 5s 0us/step\n",
      "553476096/553467096 [==============================] - 5s 0us/step\n",
      "Model: \"model\"\n",
      "_________________________________________________________________\n",
      "Layer (type)                 Output Shape              Param #   \n",
      "=================================================================\n",
      "input_1 (InputLayer)         [(None, 224, 224, 3)]     0         \n",
      "_________________________________________________________________\n",
      "block1_conv1 (Conv2D)        (None, 224, 224, 64)      1792      \n",
      "_________________________________________________________________\n",
      "block1_conv2 (Conv2D)        (None, 224, 224, 64)      36928     \n",
      "_________________________________________________________________\n",
      "block1_pool (MaxPooling2D)   (None, 112, 112, 64)      0         \n",
      "_________________________________________________________________\n",
      "block2_conv1 (Conv2D)        (None, 112, 112, 128)     73856     \n",
      "_________________________________________________________________\n",
      "block2_conv2 (Conv2D)        (None, 112, 112, 128)     147584    \n",
      "_________________________________________________________________\n",
      "block2_pool (MaxPooling2D)   (None, 56, 56, 128)       0         \n",
      "_________________________________________________________________\n",
      "block3_conv1 (Conv2D)        (None, 56, 56, 256)       295168    \n",
      "_________________________________________________________________\n",
      "block3_conv2 (Conv2D)        (None, 56, 56, 256)       590080    \n",
      "_________________________________________________________________\n",
      "block3_conv3 (Conv2D)        (None, 56, 56, 256)       590080    \n",
      "_________________________________________________________________\n",
      "block3_pool (MaxPooling2D)   (None, 28, 28, 256)       0         \n",
      "_________________________________________________________________\n",
      "block4_conv1 (Conv2D)        (None, 28, 28, 512)       1180160   \n",
      "_________________________________________________________________\n",
      "block4_conv2 (Conv2D)        (None, 28, 28, 512)       2359808   \n",
      "_________________________________________________________________\n",
      "block4_conv3 (Conv2D)        (None, 28, 28, 512)       2359808   \n",
      "_________________________________________________________________\n",
      "block4_pool (MaxPooling2D)   (None, 14, 14, 512)       0         \n",
      "_________________________________________________________________\n",
      "block5_conv1 (Conv2D)        (None, 14, 14, 512)       2359808   \n",
      "_________________________________________________________________\n",
      "block5_conv2 (Conv2D)        (None, 14, 14, 512)       2359808   \n",
      "_________________________________________________________________\n",
      "block5_conv3 (Conv2D)        (None, 14, 14, 512)       2359808   \n",
      "_________________________________________________________________\n",
      "block5_pool (MaxPooling2D)   (None, 7, 7, 512)         0         \n",
      "_________________________________________________________________\n",
      "flatten (Flatten)            (None, 25088)             0         \n",
      "_________________________________________________________________\n",
      "fc1 (Dense)                  (None, 4096)              102764544 \n",
      "_________________________________________________________________\n",
      "fc2 (Dense)                  (None, 4096)              16781312  \n",
      "=================================================================\n",
      "Total params: 134,260,544\n",
      "Trainable params: 0\n",
      "Non-trainable params: 134,260,544\n",
      "_________________________________________________________________\n"
     ]
    }
   ],
   "source": [
    "vgg16 = VGG16(input_shape=(IMAGE_SIZE[0], IMAGE_SIZE[1], NUM_CHANNELS))\n",
    "vgg16.trainable = False # Freeze pre-trained layers\n",
    "vgg16_last = Model(inputs=vgg16.input, outputs=vgg16.layers[-2].output) # output of last hidden layer\n",
    "vgg16_last.summary()"
   ]
  },
  {
   "cell_type": "code",
   "execution_count": 11,
   "id": "67c8b2bb",
   "metadata": {
    "execution": {
     "iopub.execute_input": "2022-06-29T13:21:43.464596Z",
     "iopub.status.busy": "2022-06-29T13:21:43.463897Z",
     "iopub.status.idle": "2022-06-29T13:21:43.743715Z",
     "shell.execute_reply": "2022-06-29T13:21:43.741869Z"
    },
    "papermill": {
     "duration": 0.296159,
     "end_time": "2022-06-29T13:21:43.747355",
     "exception": false,
     "start_time": "2022-06-29T13:21:43.451196",
     "status": "completed"
    },
    "tags": []
   },
   "outputs": [
    {
     "name": "stdout",
     "output_type": "stream",
     "text": [
      "Model: \"model_1\"\n",
      "_________________________________________________________________\n",
      "Layer (type)                 Output Shape              Param #   \n",
      "=================================================================\n",
      "input_2 (InputLayer)         [(None, 224, 224, 3)]     0         \n",
      "_________________________________________________________________\n",
      "rescaling (Rescaling)        (None, 224, 224, 3)       0         \n",
      "_________________________________________________________________\n",
      "model (Functional)           (None, 4096)              134260544 \n",
      "=================================================================\n",
      "Total params: 134,260,544\n",
      "Trainable params: 0\n",
      "Non-trainable params: 134,260,544\n",
      "_________________________________________________________________\n"
     ]
    }
   ],
   "source": [
    "image_inputs = Input(shape=(IMAGE_SIZE[0], IMAGE_SIZE[1], NUM_CHANNELS))\n",
    "rescale_layer = Rescaling(scale=1./255.) (image_inputs)  # Rescale inputs\n",
    "outputs = vgg16_last (rescale_layer)\n",
    "model_vgg16 = Model(inputs=image_inputs, outputs=outputs)#vgg16.layers[-2].output)\n",
    "model_vgg16.summary()"
   ]
  },
  {
   "cell_type": "code",
   "execution_count": 12,
   "id": "ad3f69d2",
   "metadata": {
    "execution": {
     "iopub.execute_input": "2022-06-29T13:21:43.772676Z",
     "iopub.status.busy": "2022-06-29T13:21:43.771637Z",
     "iopub.status.idle": "2022-06-29T13:39:34.627180Z",
     "shell.execute_reply": "2022-06-29T13:39:34.625319Z"
    },
    "papermill": {
     "duration": 1070.871135,
     "end_time": "2022-06-29T13:39:34.630475",
     "exception": false,
     "start_time": "2022-06-29T13:21:43.759340",
     "status": "completed"
    },
    "tags": []
   },
   "outputs": [
    {
     "name": "stdout",
     "output_type": "stream",
     "text": [
      "MVSA-Single: Extracting VGG-16 features of images\n"
     ]
    },
    {
     "name": "stderr",
     "output_type": "stream",
     "text": [
      "2022-06-29 13:21:44.133356: I tensorflow/compiler/mlir/mlir_graph_optimization_pass.cc:185] None of the MLIR Optimization Passes are enabled (registered 2)\n"
     ]
    },
    {
     "name": "stdout",
     "output_type": "stream",
     "text": [
      "135/135 [==============================] - 1070s 8s/step\n",
      "VGG-16 last hidden layer dimension: 4096\n",
      "MVSA-Single with VGG-16 last hidden layer: (4316, 4096)\n",
      "True\n"
     ]
    }
   ],
   "source": [
    "print('MVSA-Single: Extracting VGG-16 features of images')\n",
    "mvsa_single_vgg16 = model_vgg16.predict(mvsa_single_images, verbose=1)\n",
    "print('VGG-16 last hidden layer dimension:', mvsa_single_vgg16.shape[1])\n",
    "print('MVSA-Single with VGG-16 last hidden layer:', mvsa_single_vgg16.shape)\n",
    "\n",
    "# save and load check\n",
    "np.savez('./mvsa-single-vgg16', mvsa_single_vgg16)\n",
    "x = loadz('./mvsa-single-vgg16.npz')\n",
    "print((x == mvsa_single_vgg16).all())"
   ]
  },
  {
   "cell_type": "code",
   "execution_count": 13,
   "id": "38bd8e47",
   "metadata": {
    "execution": {
     "iopub.execute_input": "2022-06-29T13:39:34.675401Z",
     "iopub.status.busy": "2022-06-29T13:39:34.674382Z",
     "iopub.status.idle": "2022-06-29T14:49:01.779968Z",
     "shell.execute_reply": "2022-06-29T14:49:01.778500Z"
    },
    "papermill": {
     "duration": 4167.130835,
     "end_time": "2022-06-29T14:49:01.782574",
     "exception": false,
     "start_time": "2022-06-29T13:39:34.651739",
     "status": "completed"
    },
    "tags": []
   },
   "outputs": [
    {
     "name": "stdout",
     "output_type": "stream",
     "text": [
      "MVSA-Multiple: Extracting VGG-16 features of images\n",
      "513/513 [==============================] - 4118s 8s/step\n",
      "VGG-16 last hidden layer dimension: 4096\n",
      "MVSA-Multiple with VGG-16 last hidden layer: (16387, 4096)\n",
      "True\n"
     ]
    }
   ],
   "source": [
    "print('MVSA-Multiple: Extracting VGG-16 features of images')\n",
    "mvsa_multiple_vgg16 = model_vgg16.predict(mvsa_multiple_images, verbose=1)\n",
    "print('VGG-16 last hidden layer dimension:', mvsa_multiple_vgg16.shape[1])\n",
    "print('MVSA-Multiple with VGG-16 last hidden layer:', mvsa_multiple_vgg16.shape)\n",
    "\n",
    "# save and load check\n",
    "np.savez('./mvsa-multiple-vgg16', mvsa_multiple_vgg16)\n",
    "x = loadz('./mvsa-multiple-vgg16.npz')\n",
    "print((x == mvsa_multiple_vgg16).all())"
   ]
  }
 ],
 "metadata": {
  "kernelspec": {
   "display_name": "Python 3",
   "language": "python",
   "name": "python3"
  },
  "language_info": {
   "codemirror_mode": {
    "name": "ipython",
    "version": 3
   },
   "file_extension": ".py",
   "mimetype": "text/x-python",
   "name": "python",
   "nbconvert_exporter": "python",
   "pygments_lexer": "ipython3",
   "version": "3.7.12"
  },
  "papermill": {
   "default_parameters": {},
   "duration": 5297.815952,
   "end_time": "2022-06-29T14:49:05.109943",
   "environment_variables": {},
   "exception": null,
   "input_path": "__notebook__.ipynb",
   "output_path": "__notebook__.ipynb",
   "parameters": {},
   "start_time": "2022-06-29T13:20:47.293991",
   "version": "2.3.4"
  }
 },
 "nbformat": 4,
 "nbformat_minor": 5
}
