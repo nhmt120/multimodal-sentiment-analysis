{
 "cells": [
  {
   "cell_type": "code",
   "execution_count": 1,
   "id": "b3d09c71",
   "metadata": {
    "_cell_guid": "b1076dfc-b9ad-4769-8c92-a6c4dae69d19",
    "_uuid": "8f2839f25d086af736a60e9eeb907d3b93b6e0e5",
    "execution": {
     "iopub.execute_input": "2022-06-29T17:39:44.382189Z",
     "iopub.status.busy": "2022-06-29T17:39:44.381161Z",
     "iopub.status.idle": "2022-06-29T17:39:58.702938Z",
     "shell.execute_reply": "2022-06-29T17:39:58.701736Z"
    },
    "papermill": {
     "duration": 14.33171,
     "end_time": "2022-06-29T17:39:58.706325",
     "exception": false,
     "start_time": "2022-06-29T17:39:44.374615",
     "status": "completed"
    },
    "tags": []
   },
   "outputs": [],
   "source": [
    "import os\n",
    "import re\n",
    "import gc\n",
    "import cv2\n",
    "import h5py\n",
    "import torch\n",
    "import string\n",
    "import random\n",
    "import numpy as np\n",
    "import tensorflow as tf\n",
    "\n",
    "from tqdm import tqdm\n",
    "from nltk import tokenize\n",
    "from sklearn import preprocessing\n",
    "\n",
    "from keras.preprocessing.text import Tokenizer, text_to_word_sequence\n",
    "from keras.preprocessing.sequence import pad_sequences\n",
    "from keras.utils.np_utils import to_categorical\n",
    "from keras.layers import Rescaling, Resizing\n",
    "from keras import Input\n",
    "from keras.applications.vgg16 import VGG16\n",
    "from keras.applications.vgg19 import VGG19\n",
    "from keras.applications.xception import Xception\n",
    "from tensorflow.keras.applications import ResNet50, ResNet101, ResNet152\n",
    "from tensorflow.keras.applications import DenseNet121, DenseNet169, DenseNet201\n",
    "from transformers import BertTokenizer, BertForMaskedLM, BertModel\n",
    "from tensorflow.keras import Model"
   ]
  },
  {
   "cell_type": "code",
   "execution_count": 2,
   "id": "97b96430",
   "metadata": {
    "execution": {
     "iopub.execute_input": "2022-06-29T17:39:58.732951Z",
     "iopub.status.busy": "2022-06-29T17:39:58.731971Z",
     "iopub.status.idle": "2022-06-29T17:39:58.736690Z",
     "shell.execute_reply": "2022-06-29T17:39:58.735945Z"
    },
    "papermill": {
     "duration": 0.012729,
     "end_time": "2022-06-29T17:39:58.739048",
     "exception": false,
     "start_time": "2022-06-29T17:39:58.726319",
     "status": "completed"
    },
    "tags": []
   },
   "outputs": [],
   "source": [
    "IMAGE_SIZE = (224, 224)\n",
    "NUM_CHANNELS = 3"
   ]
  },
  {
   "cell_type": "code",
   "execution_count": 3,
   "id": "5d75d42e",
   "metadata": {
    "execution": {
     "iopub.execute_input": "2022-06-29T17:39:58.747883Z",
     "iopub.status.busy": "2022-06-29T17:39:58.747008Z",
     "iopub.status.idle": "2022-06-29T17:39:58.751224Z",
     "shell.execute_reply": "2022-06-29T17:39:58.750459Z"
    },
    "papermill": {
     "duration": 0.010431,
     "end_time": "2022-06-29T17:39:58.753162",
     "exception": false,
     "start_time": "2022-06-29T17:39:58.742731",
     "status": "completed"
    },
    "tags": []
   },
   "outputs": [],
   "source": [
    "mvsa_single_path = '../input/mvsa-data/mvsa-single-4316.hdf5'\n",
    "mvsa_multiple_path = '../input/mvsa-data/mvsa-multiple-16387.hdf5'"
   ]
  },
  {
   "cell_type": "code",
   "execution_count": 4,
   "id": "d07633d3",
   "metadata": {
    "execution": {
     "iopub.execute_input": "2022-06-29T17:39:58.761507Z",
     "iopub.status.busy": "2022-06-29T17:39:58.760866Z",
     "iopub.status.idle": "2022-06-29T17:39:58.767103Z",
     "shell.execute_reply": "2022-06-29T17:39:58.765938Z"
    },
    "papermill": {
     "duration": 0.012957,
     "end_time": "2022-06-29T17:39:58.769444",
     "exception": false,
     "start_time": "2022-06-29T17:39:58.756487",
     "status": "completed"
    },
    "tags": []
   },
   "outputs": [],
   "source": [
    "def read_hdf5(path):\n",
    "    read_file = h5py.File(path, 'r')\n",
    "    \n",
    "    feature_names = list(read_file.keys())\n",
    "    loaded_data = []\n",
    "    \n",
    "    for name in feature_names:\n",
    "        dataset = read_file[name][:]\n",
    "        if dataset.dtype == np.dtype('object'):\n",
    "            dataset = np.array([x.decode('UTF-8') for x in dataset])            \n",
    "        loaded_data.append((name, dataset))\n",
    "\n",
    "    return loaded_data"
   ]
  },
  {
   "cell_type": "code",
   "execution_count": 5,
   "id": "0467a2e1",
   "metadata": {
    "execution": {
     "iopub.execute_input": "2022-06-29T17:39:58.777650Z",
     "iopub.status.busy": "2022-06-29T17:39:58.777233Z",
     "iopub.status.idle": "2022-06-29T17:39:58.784921Z",
     "shell.execute_reply": "2022-06-29T17:39:58.784024Z"
    },
    "papermill": {
     "duration": 0.014697,
     "end_time": "2022-06-29T17:39:58.787300",
     "exception": false,
     "start_time": "2022-06-29T17:39:58.772603",
     "status": "completed"
    },
    "tags": []
   },
   "outputs": [],
   "source": [
    "def load_mvsa_data(path, multiple=False):\n",
    "    data = read_hdf5(path)\n",
    "    for x in data:\n",
    "        if x[0] == 'texts':\n",
    "            texts = x[1]\n",
    "        if x[0] == 'images':\n",
    "            images = x[1]\n",
    "        if x[0] == 'multimodal-labels':\n",
    "            labels = x[1]\n",
    "        if x[0] == 'text-labels':\n",
    "            text_labels = x[1]\n",
    "        if x[0] == 'image-labels':\n",
    "            image_labels = x[1]\n",
    "            \n",
    "#     if multiple == True:\n",
    "    images_path = os.path.join(os.path.split(path)[0], os.path.split(path)[1].split('.')[0] + '-images.npz')\n",
    "#         npzfile = np.load(images_path)\n",
    "#         images = npzfile['arr_0']\n",
    "    images = loadz(images_path)\n",
    "        \n",
    "    return texts, images, labels, text_labels, image_labels\n",
    "\n",
    "def loadz(path):\n",
    "    data = np.load(path)['arr_0']\n",
    "    return data"
   ]
  },
  {
   "cell_type": "markdown",
   "id": "80b57d31",
   "metadata": {
    "papermill": {
     "duration": 0.002801,
     "end_time": "2022-06-29T17:39:58.793323",
     "exception": false,
     "start_time": "2022-06-29T17:39:58.790522",
     "status": "completed"
    },
    "tags": []
   },
   "source": [
    "# Load raw data"
   ]
  },
  {
   "cell_type": "code",
   "execution_count": 6,
   "id": "c2f1dc11",
   "metadata": {
    "execution": {
     "iopub.execute_input": "2022-06-29T17:39:58.801532Z",
     "iopub.status.busy": "2022-06-29T17:39:58.801075Z",
     "iopub.status.idle": "2022-06-29T17:40:26.924291Z",
     "shell.execute_reply": "2022-06-29T17:40:26.922817Z"
    },
    "papermill": {
     "duration": 28.130796,
     "end_time": "2022-06-29T17:40:26.927226",
     "exception": false,
     "start_time": "2022-06-29T17:39:58.796430",
     "status": "completed"
    },
    "tags": []
   },
   "outputs": [],
   "source": [
    "mvsa_single_texts, mvsa_single_images, \\\n",
    "mvsa_single_multimodal_labels, mvsa_single_text_labels, \\\n",
    "mvsa_single_image_labels = load_mvsa_data(mvsa_single_path)\n",
    "num_mvsa_single = len(mvsa_single_texts)\n",
    "\n",
    "mvsa_multiple_texts, mvsa_multiple_images, \\\n",
    "mvsa_multiple_multimodal_labels, mvsa_multiple_text_labels, \\\n",
    "mvsa_multiple_image_labels = load_mvsa_data(mvsa_multiple_path, multiple=True)\n",
    "num_mvsa_multiple = len(mvsa_multiple_texts)"
   ]
  },
  {
   "cell_type": "markdown",
   "id": "9d326e37",
   "metadata": {
    "papermill": {
     "duration": 0.002827,
     "end_time": "2022-06-29T17:40:26.933470",
     "exception": false,
     "start_time": "2022-06-29T17:40:26.930643",
     "status": "completed"
    },
    "tags": []
   },
   "source": [
    "# DenseNet121"
   ]
  },
  {
   "cell_type": "code",
   "execution_count": 7,
   "id": "09a67e14",
   "metadata": {
    "execution": {
     "iopub.execute_input": "2022-06-29T17:40:26.941552Z",
     "iopub.status.busy": "2022-06-29T17:40:26.941101Z",
     "iopub.status.idle": "2022-06-29T17:40:31.630947Z",
     "shell.execute_reply": "2022-06-29T17:40:31.629801Z"
    },
    "papermill": {
     "duration": 4.697145,
     "end_time": "2022-06-29T17:40:31.633619",
     "exception": false,
     "start_time": "2022-06-29T17:40:26.936474",
     "status": "completed"
    },
    "tags": []
   },
   "outputs": [
    {
     "name": "stderr",
     "output_type": "stream",
     "text": [
      "2022-06-29 17:40:27.007231: I tensorflow/core/common_runtime/process_util.cc:146] Creating new thread pool with default inter op setting: 2. Tune using inter_op_parallelism_threads for best performance.\n"
     ]
    },
    {
     "name": "stdout",
     "output_type": "stream",
     "text": [
      "Downloading data from https://storage.googleapis.com/tensorflow/keras-applications/densenet/densenet121_weights_tf_dim_ordering_tf_kernels.h5\n",
      "33193984/33188688 [==============================] - 1s 0us/step\n",
      "33202176/33188688 [==============================] - 1s 0us/step\n"
     ]
    }
   ],
   "source": [
    "densenet121 = DenseNet121(input_shape=(IMAGE_SIZE[0], IMAGE_SIZE[1], NUM_CHANNELS))\n",
    "densenet121.trainable = False # Freeze pre-trained layers\n",
    "densenet121_last = Model(inputs=densenet121.input, outputs=densenet121.layers[-2].output)"
   ]
  },
  {
   "cell_type": "code",
   "execution_count": 8,
   "id": "3e6f6f02",
   "metadata": {
    "execution": {
     "iopub.execute_input": "2022-06-29T17:40:31.643341Z",
     "iopub.status.busy": "2022-06-29T17:40:31.642483Z",
     "iopub.status.idle": "2022-06-29T17:40:32.497192Z",
     "shell.execute_reply": "2022-06-29T17:40:32.495919Z"
    },
    "papermill": {
     "duration": 0.86258,
     "end_time": "2022-06-29T17:40:32.499884",
     "exception": false,
     "start_time": "2022-06-29T17:40:31.637304",
     "status": "completed"
    },
    "tags": []
   },
   "outputs": [],
   "source": [
    "# Summary of DenseNet121 is hidden\n",
    "image_inputs = Input(shape=(IMAGE_SIZE[0], IMAGE_SIZE[1], NUM_CHANNELS))\n",
    "rescale_layer = Rescaling(scale=1./255.) (image_inputs)  # Rescale inputs\n",
    "outputs = densenet121_last (rescale_layer)\n",
    "model_densenet121 = Model(inputs=image_inputs, outputs=outputs)"
   ]
  },
  {
   "cell_type": "code",
   "execution_count": 9,
   "id": "4dde3388",
   "metadata": {
    "execution": {
     "iopub.execute_input": "2022-06-29T17:40:32.544946Z",
     "iopub.status.busy": "2022-06-29T17:40:32.544501Z",
     "iopub.status.idle": "2022-06-29T17:44:57.859559Z",
     "shell.execute_reply": "2022-06-29T17:44:57.858513Z"
    },
    "papermill": {
     "duration": 265.364799,
     "end_time": "2022-06-29T17:44:57.870835",
     "exception": false,
     "start_time": "2022-06-29T17:40:32.506036",
     "status": "completed"
    },
    "tags": []
   },
   "outputs": [
    {
     "name": "stdout",
     "output_type": "stream",
     "text": [
      "MVSA-Single: Extracting DenseNet121 features of images\n"
     ]
    },
    {
     "name": "stderr",
     "output_type": "stream",
     "text": [
      "2022-06-29 17:40:33.275351: I tensorflow/compiler/mlir/mlir_graph_optimization_pass.cc:185] None of the MLIR Optimization Passes are enabled (registered 2)\n"
     ]
    },
    {
     "name": "stdout",
     "output_type": "stream",
     "text": [
      "135/135 [==============================] - 222s 2s/step\n",
      "DenseNet121 last hidden layer dimension: 1024\n",
      "MVSA-Single with DenseNet121 last hidden layer: (4316, 1024)\n",
      "True\n"
     ]
    }
   ],
   "source": [
    "print('MVSA-Single: Extracting DenseNet121 features of images')\n",
    "mvsa_single_densenet121 = model_densenet121.predict(mvsa_single_images, verbose=1)\n",
    "print('DenseNet121 last hidden layer dimension:', mvsa_single_densenet121.shape[1])\n",
    "print('MVSA-Single with DenseNet121 last hidden layer:', mvsa_single_densenet121.shape)\n",
    "\n",
    "# save and load check\n",
    "np.savez('./mvsa-single-densenet121', mvsa_single_densenet121)\n",
    "x = loadz('./mvsa-single-densenet121.npz')\n",
    "print((x == mvsa_single_densenet121).all())"
   ]
  },
  {
   "cell_type": "code",
   "execution_count": 10,
   "id": "de4299aa",
   "metadata": {
    "execution": {
     "iopub.execute_input": "2022-06-29T17:44:57.893335Z",
     "iopub.status.busy": "2022-06-29T17:44:57.892712Z",
     "iopub.status.idle": "2022-06-29T17:48:36.960114Z",
     "shell.execute_reply": "2022-06-29T17:48:36.958627Z"
    },
    "papermill": {
     "duration": 219.08128,
     "end_time": "2022-06-29T17:48:36.962265",
     "exception": false,
     "start_time": "2022-06-29T17:44:57.880985",
     "status": "completed"
    },
    "tags": []
   },
   "outputs": [
    {
     "name": "stdout",
     "output_type": "stream",
     "text": [
      "MVSA-Single: Extracting DenseNet121 features of images\n",
      "135/135 [==============================] - 218s 2s/step\n",
      "DenseNet121 last hidden layer dimension: 1024\n",
      "MVSA-Single with DenseNet121 last hidden layer: (4316, 1024)\n",
      "True\n"
     ]
    }
   ],
   "source": [
    "print('MVSA-Single: Extracting DenseNet121 features of images')\n",
    "mvsa_single_densenet121 = model_densenet121.predict(mvsa_single_images, verbose=1)\n",
    "print('DenseNet121 last hidden layer dimension:', mvsa_single_densenet121.shape[1])\n",
    "print('MVSA-Single with DenseNet121 last hidden layer:', mvsa_single_densenet121.shape)\n",
    "\n",
    "# save and load check\n",
    "np.savez('./mvsa-single-densenet121', mvsa_single_densenet121)\n",
    "x = loadz('./mvsa-single-densenet121.npz')\n",
    "print((x == mvsa_single_densenet121).all())"
   ]
  }
 ],
 "metadata": {
  "kernelspec": {
   "display_name": "Python 3",
   "language": "python",
   "name": "python3"
  },
  "language_info": {
   "codemirror_mode": {
    "name": "ipython",
    "version": 3
   },
   "file_extension": ".py",
   "mimetype": "text/x-python",
   "name": "python",
   "nbconvert_exporter": "python",
   "pygments_lexer": "ipython3",
   "version": "3.7.12"
  },
  "papermill": {
   "default_parameters": {},
   "duration": 545.467202,
   "end_time": "2022-06-29T17:48:40.410516",
   "environment_variables": {},
   "exception": null,
   "input_path": "__notebook__.ipynb",
   "output_path": "__notebook__.ipynb",
   "parameters": {},
   "start_time": "2022-06-29T17:39:34.943314",
   "version": "2.3.4"
  }
 },
 "nbformat": 4,
 "nbformat_minor": 5
}
