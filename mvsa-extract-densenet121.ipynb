{
 "cells": [
  {
   "cell_type": "code",
   "execution_count": 1,
   "id": "148e4be1",
   "metadata": {
    "_cell_guid": "b1076dfc-b9ad-4769-8c92-a6c4dae69d19",
    "_uuid": "8f2839f25d086af736a60e9eeb907d3b93b6e0e5",
    "execution": {
     "iopub.execute_input": "2022-06-29T18:08:11.858187Z",
     "iopub.status.busy": "2022-06-29T18:08:11.857765Z",
     "iopub.status.idle": "2022-06-29T18:08:26.730734Z",
     "shell.execute_reply": "2022-06-29T18:08:26.729509Z"
    },
    "papermill": {
     "duration": 14.88254,
     "end_time": "2022-06-29T18:08:26.733648",
     "exception": false,
     "start_time": "2022-06-29T18:08:11.851108",
     "status": "completed"
    },
    "tags": []
   },
   "outputs": [],
   "source": [
    "import os\n",
    "import re\n",
    "import gc\n",
    "import cv2\n",
    "import h5py\n",
    "import torch\n",
    "import string\n",
    "import random\n",
    "import numpy as np\n",
    "import tensorflow as tf\n",
    "\n",
    "from tqdm import tqdm\n",
    "from nltk import tokenize\n",
    "from sklearn import preprocessing\n",
    "\n",
    "from keras.preprocessing.text import Tokenizer, text_to_word_sequence\n",
    "from keras.preprocessing.sequence import pad_sequences\n",
    "from keras.utils.np_utils import to_categorical\n",
    "from keras.layers import Rescaling, Resizing\n",
    "from keras import Input\n",
    "from keras.applications.vgg16 import VGG16\n",
    "from keras.applications.vgg19 import VGG19\n",
    "from keras.applications.xception import Xception\n",
    "from tensorflow.keras.applications import ResNet50, ResNet101, ResNet152\n",
    "from tensorflow.keras.applications import DenseNet121, DenseNet169, DenseNet201\n",
    "from transformers import BertTokenizer, BertForMaskedLM, BertModel\n",
    "from tensorflow.keras import Model"
   ]
  },
  {
   "cell_type": "code",
   "execution_count": 2,
   "id": "50e8ffd0",
   "metadata": {
    "execution": {
     "iopub.execute_input": "2022-06-29T18:08:26.744452Z",
     "iopub.status.busy": "2022-06-29T18:08:26.743742Z",
     "iopub.status.idle": "2022-06-29T18:08:26.749880Z",
     "shell.execute_reply": "2022-06-29T18:08:26.748670Z"
    },
    "papermill": {
     "duration": 0.014279,
     "end_time": "2022-06-29T18:08:26.752347",
     "exception": false,
     "start_time": "2022-06-29T18:08:26.738068",
     "status": "completed"
    },
    "tags": []
   },
   "outputs": [],
   "source": [
    "IMAGE_SIZE = (224, 224)\n",
    "NUM_CHANNELS = 3"
   ]
  },
  {
   "cell_type": "code",
   "execution_count": 3,
   "id": "3e0fa34d",
   "metadata": {
    "execution": {
     "iopub.execute_input": "2022-06-29T18:08:26.762622Z",
     "iopub.status.busy": "2022-06-29T18:08:26.762244Z",
     "iopub.status.idle": "2022-06-29T18:08:26.767338Z",
     "shell.execute_reply": "2022-06-29T18:08:26.766066Z"
    },
    "papermill": {
     "duration": 0.013343,
     "end_time": "2022-06-29T18:08:26.769887",
     "exception": false,
     "start_time": "2022-06-29T18:08:26.756544",
     "status": "completed"
    },
    "tags": []
   },
   "outputs": [],
   "source": [
    "mvsa_single_path = '../input/mvsa-data/mvsa-single-4316.hdf5'\n",
    "mvsa_multiple_path = '../input/mvsa-data/mvsa-multiple-16387.hdf5'"
   ]
  },
  {
   "cell_type": "code",
   "execution_count": 4,
   "id": "c9007dba",
   "metadata": {
    "execution": {
     "iopub.execute_input": "2022-06-29T18:08:26.780091Z",
     "iopub.status.busy": "2022-06-29T18:08:26.779718Z",
     "iopub.status.idle": "2022-06-29T18:08:26.787270Z",
     "shell.execute_reply": "2022-06-29T18:08:26.786139Z"
    },
    "papermill": {
     "duration": 0.015597,
     "end_time": "2022-06-29T18:08:26.789685",
     "exception": false,
     "start_time": "2022-06-29T18:08:26.774088",
     "status": "completed"
    },
    "tags": []
   },
   "outputs": [],
   "source": [
    "def read_hdf5(path):\n",
    "    read_file = h5py.File(path, 'r')\n",
    "    \n",
    "    feature_names = list(read_file.keys())\n",
    "    loaded_data = []\n",
    "    \n",
    "    for name in feature_names:\n",
    "        dataset = read_file[name][:]\n",
    "        if dataset.dtype == np.dtype('object'):\n",
    "            dataset = np.array([x.decode('UTF-8') for x in dataset])            \n",
    "        loaded_data.append((name, dataset))\n",
    "\n",
    "    return loaded_data"
   ]
  },
  {
   "cell_type": "code",
   "execution_count": 5,
   "id": "2d2253ef",
   "metadata": {
    "execution": {
     "iopub.execute_input": "2022-06-29T18:08:26.800034Z",
     "iopub.status.busy": "2022-06-29T18:08:26.799631Z",
     "iopub.status.idle": "2022-06-29T18:08:26.809578Z",
     "shell.execute_reply": "2022-06-29T18:08:26.808467Z"
    },
    "papermill": {
     "duration": 0.017954,
     "end_time": "2022-06-29T18:08:26.811846",
     "exception": false,
     "start_time": "2022-06-29T18:08:26.793892",
     "status": "completed"
    },
    "tags": []
   },
   "outputs": [],
   "source": [
    "def load_mvsa_data(path, multiple=False):\n",
    "    data = read_hdf5(path)\n",
    "    for x in data:\n",
    "        if x[0] == 'texts':\n",
    "            texts = x[1]\n",
    "        if x[0] == 'images':\n",
    "            images = x[1]\n",
    "        if x[0] == 'multimodal-labels':\n",
    "            labels = x[1]\n",
    "        if x[0] == 'text-labels':\n",
    "            text_labels = x[1]\n",
    "        if x[0] == 'image-labels':\n",
    "            image_labels = x[1]\n",
    "            \n",
    "#     if multiple == True:\n",
    "    images_path = os.path.join(os.path.split(path)[0], os.path.split(path)[1].split('.')[0] + '-images.npz')\n",
    "#         npzfile = np.load(images_path)\n",
    "#         images = npzfile['arr_0']\n",
    "    images = loadz(images_path)\n",
    "        \n",
    "    return texts, images, labels, text_labels, image_labels\n",
    "\n",
    "def loadz(path):\n",
    "    data = np.load(path)['arr_0']\n",
    "    return data"
   ]
  },
  {
   "cell_type": "markdown",
   "id": "a8808a0f",
   "metadata": {
    "papermill": {
     "duration": 0.003831,
     "end_time": "2022-06-29T18:08:26.819947",
     "exception": false,
     "start_time": "2022-06-29T18:08:26.816116",
     "status": "completed"
    },
    "tags": []
   },
   "source": [
    "# Load raw data"
   ]
  },
  {
   "cell_type": "code",
   "execution_count": 6,
   "id": "14df1bea",
   "metadata": {
    "execution": {
     "iopub.execute_input": "2022-06-29T18:08:26.830242Z",
     "iopub.status.busy": "2022-06-29T18:08:26.829846Z",
     "iopub.status.idle": "2022-06-29T18:08:59.922512Z",
     "shell.execute_reply": "2022-06-29T18:08:59.920338Z"
    },
    "papermill": {
     "duration": 33.103143,
     "end_time": "2022-06-29T18:08:59.927527",
     "exception": false,
     "start_time": "2022-06-29T18:08:26.824384",
     "status": "completed"
    },
    "tags": []
   },
   "outputs": [],
   "source": [
    "mvsa_single_texts, mvsa_single_images, \\\n",
    "mvsa_single_multimodal_labels, mvsa_single_text_labels, \\\n",
    "mvsa_single_image_labels = load_mvsa_data(mvsa_single_path)\n",
    "num_mvsa_single = len(mvsa_single_texts)\n",
    "\n",
    "mvsa_multiple_texts, mvsa_multiple_images, \\\n",
    "mvsa_multiple_multimodal_labels, mvsa_multiple_text_labels, \\\n",
    "mvsa_multiple_image_labels = load_mvsa_data(mvsa_multiple_path, multiple=True)\n",
    "num_mvsa_multiple = len(mvsa_multiple_texts)"
   ]
  },
  {
   "cell_type": "markdown",
   "id": "34a2f996",
   "metadata": {
    "papermill": {
     "duration": 0.004186,
     "end_time": "2022-06-29T18:08:59.938423",
     "exception": false,
     "start_time": "2022-06-29T18:08:59.934237",
     "status": "completed"
    },
    "tags": []
   },
   "source": [
    "# DenseNet121"
   ]
  },
  {
   "cell_type": "code",
   "execution_count": 7,
   "id": "b8a602e7",
   "metadata": {
    "execution": {
     "iopub.execute_input": "2022-06-29T18:08:59.949381Z",
     "iopub.status.busy": "2022-06-29T18:08:59.948964Z",
     "iopub.status.idle": "2022-06-29T18:09:04.314634Z",
     "shell.execute_reply": "2022-06-29T18:09:04.313395Z"
    },
    "papermill": {
     "duration": 4.37415,
     "end_time": "2022-06-29T18:09:04.317226",
     "exception": false,
     "start_time": "2022-06-29T18:08:59.943076",
     "status": "completed"
    },
    "tags": []
   },
   "outputs": [
    {
     "name": "stderr",
     "output_type": "stream",
     "text": [
      "2022-06-29 18:09:00.062032: I tensorflow/core/common_runtime/process_util.cc:146] Creating new thread pool with default inter op setting: 2. Tune using inter_op_parallelism_threads for best performance.\n"
     ]
    },
    {
     "name": "stdout",
     "output_type": "stream",
     "text": [
      "Downloading data from https://storage.googleapis.com/tensorflow/keras-applications/densenet/densenet121_weights_tf_dim_ordering_tf_kernels.h5\n",
      "33193984/33188688 [==============================] - 0s 0us/step\n",
      "33202176/33188688 [==============================] - 0s 0us/step\n"
     ]
    }
   ],
   "source": [
    "densenet121 = DenseNet121(input_shape=(IMAGE_SIZE[0], IMAGE_SIZE[1], NUM_CHANNELS))\n",
    "densenet121.trainable = False # Freeze pre-trained layers\n",
    "densenet121_last = Model(inputs=densenet121.input, outputs=densenet121.layers[-2].output)"
   ]
  },
  {
   "cell_type": "code",
   "execution_count": 8,
   "id": "5e7ce488",
   "metadata": {
    "execution": {
     "iopub.execute_input": "2022-06-29T18:09:04.329647Z",
     "iopub.status.busy": "2022-06-29T18:09:04.329217Z",
     "iopub.status.idle": "2022-06-29T18:09:05.284679Z",
     "shell.execute_reply": "2022-06-29T18:09:05.283413Z"
    },
    "papermill": {
     "duration": 0.964868,
     "end_time": "2022-06-29T18:09:05.287406",
     "exception": false,
     "start_time": "2022-06-29T18:09:04.322538",
     "status": "completed"
    },
    "tags": []
   },
   "outputs": [],
   "source": [
    "# Summary of DenseNet121 is hidden\n",
    "image_inputs = Input(shape=(IMAGE_SIZE[0], IMAGE_SIZE[1], NUM_CHANNELS))\n",
    "rescale_layer = Rescaling(scale=1./255.) (image_inputs)  # Rescale inputs\n",
    "outputs = densenet121_last (rescale_layer)\n",
    "model_densenet121 = Model(inputs=image_inputs, outputs=outputs)"
   ]
  },
  {
   "cell_type": "code",
   "execution_count": 9,
   "id": "dfe79fd3",
   "metadata": {
    "execution": {
     "iopub.execute_input": "2022-06-29T18:09:05.301472Z",
     "iopub.status.busy": "2022-06-29T18:09:05.301068Z",
     "iopub.status.idle": "2022-06-29T18:13:23.570449Z",
     "shell.execute_reply": "2022-06-29T18:13:23.568182Z"
    },
    "papermill": {
     "duration": 258.280139,
     "end_time": "2022-06-29T18:13:23.574064",
     "exception": false,
     "start_time": "2022-06-29T18:09:05.293925",
     "status": "completed"
    },
    "tags": []
   },
   "outputs": [
    {
     "name": "stdout",
     "output_type": "stream",
     "text": [
      "MVSA-Single: Extracting DenseNet121 features of images\n"
     ]
    },
    {
     "name": "stderr",
     "output_type": "stream",
     "text": [
      "2022-06-29 18:09:06.498212: I tensorflow/compiler/mlir/mlir_graph_optimization_pass.cc:185] None of the MLIR Optimization Passes are enabled (registered 2)\n"
     ]
    },
    {
     "name": "stdout",
     "output_type": "stream",
     "text": [
      "135/135 [==============================] - 257s 2s/step\n",
      "DenseNet121 last hidden layer dimension: 1024\n",
      "MVSA-Single with DenseNet121 last hidden layer: (4316, 1024)\n",
      "True\n"
     ]
    }
   ],
   "source": [
    "print('MVSA-Single: Extracting DenseNet121 features of images')\n",
    "mvsa_single_densenet121 = model_densenet121.predict(mvsa_single_images, verbose=1)\n",
    "print('DenseNet121 last hidden layer dimension:', mvsa_single_densenet121.shape[1])\n",
    "print('MVSA-Single with DenseNet121 last hidden layer:', mvsa_single_densenet121.shape)\n",
    "\n",
    "# save and load check\n",
    "np.savez('./mvsa-single-densenet121', mvsa_single_densenet121)\n",
    "x = loadz('./mvsa-single-densenet121.npz')\n",
    "print((x == mvsa_single_densenet121).all())"
   ]
  },
  {
   "cell_type": "code",
   "execution_count": 10,
   "id": "db10e20c",
   "metadata": {
    "execution": {
     "iopub.execute_input": "2022-06-29T18:13:23.608166Z",
     "iopub.status.busy": "2022-06-29T18:13:23.607764Z",
     "iopub.status.idle": "2022-06-29T18:29:31.957545Z",
     "shell.execute_reply": "2022-06-29T18:29:31.955944Z"
    },
    "papermill": {
     "duration": 968.369056,
     "end_time": "2022-06-29T18:29:31.960333",
     "exception": false,
     "start_time": "2022-06-29T18:13:23.591277",
     "status": "completed"
    },
    "tags": []
   },
   "outputs": [
    {
     "name": "stdout",
     "output_type": "stream",
     "text": [
      "MVSA-Multiple: Extracting DenseNet121 features of images\n",
      "513/513 [==============================] - 964s 2s/step\n",
      "DenseNet121 last hidden layer dimension: 1024\n",
      "MVSA-Multiple with DenseNet121 last hidden layer: (16387, 1024)\n",
      "True\n"
     ]
    }
   ],
   "source": [
    "print('MVSA-Multiple: Extracting DenseNet121 features of images')\n",
    "mvsa_multiple_densenet121 = model_densenet121.predict(mvsa_multiple_images, verbose=1)\n",
    "print('DenseNet121 last hidden layer dimension:', mvsa_multiple_densenet121.shape[1])\n",
    "print('MVSA-Multiple with DenseNet121 last hidden layer:', mvsa_multiple_densenet121.shape)\n",
    "\n",
    "# save and load check\n",
    "np.savez('./mvsa-multiple-densenet121', mvsa_multiple_densenet121)\n",
    "x = loadz('./mvsa-multiple-densenet121.npz')\n",
    "print((x == mvsa_multiple_densenet121).all())"
   ]
  }
 ],
 "metadata": {
  "kernelspec": {
   "display_name": "Python 3",
   "language": "python",
   "name": "python3"
  },
  "language_info": {
   "codemirror_mode": {
    "name": "ipython",
    "version": 3
   },
   "file_extension": ".py",
   "mimetype": "text/x-python",
   "name": "python",
   "nbconvert_exporter": "python",
   "pygments_lexer": "ipython3",
   "version": "3.7.12"
  },
  "papermill": {
   "default_parameters": {},
   "duration": 1293.64203,
   "end_time": "2022-06-29T18:29:34.859653",
   "environment_variables": {},
   "exception": null,
   "input_path": "__notebook__.ipynb",
   "output_path": "__notebook__.ipynb",
   "parameters": {},
   "start_time": "2022-06-29T18:08:01.217623",
   "version": "2.3.4"
  }
 },
 "nbformat": 4,
 "nbformat_minor": 5
}
