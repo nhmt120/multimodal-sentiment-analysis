{
 "cells": [
  {
   "cell_type": "code",
   "execution_count": 1,
   "id": "d7630329",
   "metadata": {
    "_cell_guid": "b1076dfc-b9ad-4769-8c92-a6c4dae69d19",
    "_uuid": "8f2839f25d086af736a60e9eeb907d3b93b6e0e5",
    "execution": {
     "iopub.execute_input": "2022-07-03T18:38:09.786700Z",
     "iopub.status.busy": "2022-07-03T18:38:09.786063Z",
     "iopub.status.idle": "2022-07-03T18:38:24.728992Z",
     "shell.execute_reply": "2022-07-03T18:38:24.727907Z"
    },
    "papermill": {
     "duration": 14.952525,
     "end_time": "2022-07-03T18:38:24.731811",
     "exception": false,
     "start_time": "2022-07-03T18:38:09.779286",
     "status": "completed"
    },
    "tags": []
   },
   "outputs": [],
   "source": [
    "import os\n",
    "import re\n",
    "import gc\n",
    "import cv2\n",
    "import h5py\n",
    "import torch\n",
    "import string\n",
    "import random\n",
    "import numpy as np\n",
    "import tensorflow as tf\n",
    "\n",
    "from tqdm import tqdm\n",
    "from nltk import tokenize\n",
    "from sklearn import preprocessing\n",
    "\n",
    "from keras.preprocessing.text import Tokenizer, text_to_word_sequence\n",
    "from keras.preprocessing.sequence import pad_sequences\n",
    "from keras.utils.np_utils import to_categorical\n",
    "from keras.layers import Rescaling, Resizing\n",
    "from keras import Input\n",
    "from keras.applications.vgg16 import VGG16\n",
    "from keras.applications.vgg19 import VGG19\n",
    "from keras.applications.xception import Xception\n",
    "from tensorflow.keras.applications import ResNet50, ResNet101, ResNet152\n",
    "from tensorflow.keras.applications import DenseNet121, DenseNet169, DenseNet201\n",
    "from transformers import BertTokenizer, BertForMaskedLM, BertModel\n",
    "from tensorflow.keras import Model"
   ]
  },
  {
   "cell_type": "code",
   "execution_count": 2,
   "id": "1173ec60",
   "metadata": {
    "execution": {
     "iopub.execute_input": "2022-07-03T18:38:24.742756Z",
     "iopub.status.busy": "2022-07-03T18:38:24.741458Z",
     "iopub.status.idle": "2022-07-03T18:38:24.746659Z",
     "shell.execute_reply": "2022-07-03T18:38:24.745617Z"
    },
    "papermill": {
     "duration": 0.012736,
     "end_time": "2022-07-03T18:38:24.748898",
     "exception": false,
     "start_time": "2022-07-03T18:38:24.736162",
     "status": "completed"
    },
    "tags": []
   },
   "outputs": [],
   "source": [
    "IMAGE_SIZE = (224, 224)\n",
    "NUM_CHANNELS = 3"
   ]
  },
  {
   "cell_type": "code",
   "execution_count": 3,
   "id": "18dc7ef1",
   "metadata": {
    "execution": {
     "iopub.execute_input": "2022-07-03T18:38:24.758820Z",
     "iopub.status.busy": "2022-07-03T18:38:24.758409Z",
     "iopub.status.idle": "2022-07-03T18:38:24.763770Z",
     "shell.execute_reply": "2022-07-03T18:38:24.762483Z"
    },
    "papermill": {
     "duration": 0.013308,
     "end_time": "2022-07-03T18:38:24.766245",
     "exception": false,
     "start_time": "2022-07-03T18:38:24.752937",
     "status": "completed"
    },
    "tags": []
   },
   "outputs": [],
   "source": [
    "mvsa_single_path = '../input/mvsa-data/mvsa-single-4511.hdf5'\n",
    "mvsa_multiple_path = '../input/mvsa-data/mvsa-multiple-17024.hdf5'"
   ]
  },
  {
   "cell_type": "code",
   "execution_count": 4,
   "id": "66b33d23",
   "metadata": {
    "execution": {
     "iopub.execute_input": "2022-07-03T18:38:24.776367Z",
     "iopub.status.busy": "2022-07-03T18:38:24.775955Z",
     "iopub.status.idle": "2022-07-03T18:38:24.783862Z",
     "shell.execute_reply": "2022-07-03T18:38:24.782708Z"
    },
    "papermill": {
     "duration": 0.015992,
     "end_time": "2022-07-03T18:38:24.786472",
     "exception": false,
     "start_time": "2022-07-03T18:38:24.770480",
     "status": "completed"
    },
    "tags": []
   },
   "outputs": [],
   "source": [
    "def read_hdf5(path):\n",
    "    read_file = h5py.File(path, 'r')\n",
    "    \n",
    "    feature_names = list(read_file.keys())\n",
    "    loaded_data = []\n",
    "    \n",
    "    for name in feature_names:\n",
    "        dataset = read_file[name][:]\n",
    "        if dataset.dtype == np.dtype('object'):\n",
    "            dataset = np.array([x.decode('UTF-8') for x in dataset])            \n",
    "        loaded_data.append((name, dataset))\n",
    "\n",
    "    return loaded_data"
   ]
  },
  {
   "cell_type": "code",
   "execution_count": 5,
   "id": "9f57e2bd",
   "metadata": {
    "execution": {
     "iopub.execute_input": "2022-07-03T18:38:24.796641Z",
     "iopub.status.busy": "2022-07-03T18:38:24.795973Z",
     "iopub.status.idle": "2022-07-03T18:38:24.806244Z",
     "shell.execute_reply": "2022-07-03T18:38:24.804958Z"
    },
    "papermill": {
     "duration": 0.018122,
     "end_time": "2022-07-03T18:38:24.808793",
     "exception": false,
     "start_time": "2022-07-03T18:38:24.790671",
     "status": "completed"
    },
    "tags": []
   },
   "outputs": [],
   "source": [
    "def load_mvsa_data(path, multiple=False):\n",
    "    data = read_hdf5(path)\n",
    "    for x in data:\n",
    "        if x[0] == 'texts':\n",
    "            texts = x[1]\n",
    "        if x[0] == 'multimodal-labels':\n",
    "            labels = x[1]\n",
    "        if x[0] == 'text-labels':\n",
    "            text_labels = x[1]\n",
    "        if x[0] == 'image-labels':\n",
    "            image_labels = x[1]\n",
    "            \n",
    "    images_path = os.path.join(os.path.split(path)[0], os.path.split(path)[1].split('.')[0] + '-images.npz')\n",
    "    images = loadz(images_path)\n",
    "        \n",
    "    return texts, images, labels, text_labels, image_labels\n",
    "\n",
    "def loadz(path):\n",
    "    data = np.load(path)['arr_0']\n",
    "    return data"
   ]
  },
  {
   "cell_type": "markdown",
   "id": "525e394f",
   "metadata": {
    "papermill": {
     "duration": 0.00401,
     "end_time": "2022-07-03T18:38:24.817020",
     "exception": false,
     "start_time": "2022-07-03T18:38:24.813010",
     "status": "completed"
    },
    "tags": []
   },
   "source": [
    "# Load raw data"
   ]
  },
  {
   "cell_type": "code",
   "execution_count": 6,
   "id": "33d1588b",
   "metadata": {
    "execution": {
     "iopub.execute_input": "2022-07-03T18:38:24.827699Z",
     "iopub.status.busy": "2022-07-03T18:38:24.826991Z",
     "iopub.status.idle": "2022-07-03T18:38:55.070556Z",
     "shell.execute_reply": "2022-07-03T18:38:55.068594Z"
    },
    "papermill": {
     "duration": 30.254456,
     "end_time": "2022-07-03T18:38:55.075781",
     "exception": false,
     "start_time": "2022-07-03T18:38:24.821325",
     "status": "completed"
    },
    "tags": []
   },
   "outputs": [],
   "source": [
    "mvsa_single_texts, mvsa_single_images, \\\n",
    "mvsa_single_multimodal_labels, mvsa_single_text_labels, \\\n",
    "mvsa_single_image_labels = load_mvsa_data(mvsa_single_path)\n",
    "num_mvsa_single = len(mvsa_single_texts)\n",
    "\n",
    "mvsa_multiple_texts, mvsa_multiple_images, \\\n",
    "mvsa_multiple_multimodal_labels, mvsa_multiple_text_labels, \\\n",
    "mvsa_multiple_image_labels = load_mvsa_data(mvsa_multiple_path)\n",
    "num_mvsa_multiple = len(mvsa_multiple_texts)"
   ]
  },
  {
   "cell_type": "markdown",
   "id": "e34b3c0a",
   "metadata": {
    "papermill": {
     "duration": 0.004162,
     "end_time": "2022-07-03T18:38:55.086449",
     "exception": false,
     "start_time": "2022-07-03T18:38:55.082287",
     "status": "completed"
    },
    "tags": []
   },
   "source": [
    "# DenseNet121"
   ]
  },
  {
   "cell_type": "code",
   "execution_count": 7,
   "id": "1887b987",
   "metadata": {
    "execution": {
     "iopub.execute_input": "2022-07-03T18:38:55.097273Z",
     "iopub.status.busy": "2022-07-03T18:38:55.096842Z",
     "iopub.status.idle": "2022-07-03T18:38:59.403750Z",
     "shell.execute_reply": "2022-07-03T18:38:59.402428Z"
    },
    "papermill": {
     "duration": 4.31619,
     "end_time": "2022-07-03T18:38:59.406964",
     "exception": false,
     "start_time": "2022-07-03T18:38:55.090774",
     "status": "completed"
    },
    "tags": []
   },
   "outputs": [
    {
     "name": "stderr",
     "output_type": "stream",
     "text": [
      "2022-07-03 18:38:55.215400: I tensorflow/core/common_runtime/process_util.cc:146] Creating new thread pool with default inter op setting: 2. Tune using inter_op_parallelism_threads for best performance.\n"
     ]
    },
    {
     "name": "stdout",
     "output_type": "stream",
     "text": [
      "Downloading data from https://storage.googleapis.com/tensorflow/keras-applications/densenet/densenet121_weights_tf_dim_ordering_tf_kernels.h5\n",
      "33193984/33188688 [==============================] - 0s 0us/step\n",
      "33202176/33188688 [==============================] - 0s 0us/step\n"
     ]
    }
   ],
   "source": [
    "densenet121 = DenseNet121(input_shape=(IMAGE_SIZE[0], IMAGE_SIZE[1], NUM_CHANNELS))\n",
    "densenet121.trainable = False # Freeze pre-trained layers\n",
    "densenet121_last = Model(inputs=densenet121.input, outputs=densenet121.layers[-2].output)"
   ]
  },
  {
   "cell_type": "code",
   "execution_count": 8,
   "id": "b8ff1623",
   "metadata": {
    "execution": {
     "iopub.execute_input": "2022-07-03T18:38:59.419317Z",
     "iopub.status.busy": "2022-07-03T18:38:59.418483Z",
     "iopub.status.idle": "2022-07-03T18:39:00.341950Z",
     "shell.execute_reply": "2022-07-03T18:39:00.340788Z"
    },
    "papermill": {
     "duration": 0.932576,
     "end_time": "2022-07-03T18:39:00.344748",
     "exception": false,
     "start_time": "2022-07-03T18:38:59.412172",
     "status": "completed"
    },
    "tags": []
   },
   "outputs": [],
   "source": [
    "# Summary of DenseNet121 is hidden\n",
    "image_inputs = Input(shape=(IMAGE_SIZE[0], IMAGE_SIZE[1], NUM_CHANNELS))\n",
    "rescale_layer = Rescaling(scale=1./255.) (image_inputs)  # Rescale inputs\n",
    "outputs = densenet121_last (rescale_layer)\n",
    "model_densenet121 = Model(inputs=image_inputs, outputs=outputs)"
   ]
  },
  {
   "cell_type": "code",
   "execution_count": 9,
   "id": "8da23c09",
   "metadata": {
    "execution": {
     "iopub.execute_input": "2022-07-03T18:39:00.357971Z",
     "iopub.status.busy": "2022-07-03T18:39:00.357573Z",
     "iopub.status.idle": "2022-07-03T18:43:26.602679Z",
     "shell.execute_reply": "2022-07-03T18:43:26.601370Z"
    },
    "papermill": {
     "duration": 266.25528,
     "end_time": "2022-07-03T18:43:26.605315",
     "exception": false,
     "start_time": "2022-07-03T18:39:00.350035",
     "status": "completed"
    },
    "tags": []
   },
   "outputs": [
    {
     "name": "stdout",
     "output_type": "stream",
     "text": [
      "MVSA-Single: Extracting DenseNet121 features of images\n"
     ]
    },
    {
     "name": "stderr",
     "output_type": "stream",
     "text": [
      "2022-07-03 18:39:01.684183: I tensorflow/compiler/mlir/mlir_graph_optimization_pass.cc:185] None of the MLIR Optimization Passes are enabled (registered 2)\n"
     ]
    },
    {
     "name": "stdout",
     "output_type": "stream",
     "text": [
      "141/141 [==============================] - 260s 2s/step\n",
      "DenseNet121 last hidden layer dimension: 1024\n",
      "MVSA-Single with DenseNet121 last hidden layer: (4511, 1024)\n",
      "True\n"
     ]
    }
   ],
   "source": [
    "print('MVSA-Single: Extracting DenseNet121 features of images')\n",
    "mvsa_single_densenet121 = model_densenet121.predict(mvsa_single_images, verbose=1)\n",
    "print('DenseNet121 last hidden layer dimension:', mvsa_single_densenet121.shape[1])\n",
    "print('MVSA-Single with DenseNet121 last hidden layer:', mvsa_single_densenet121.shape)\n",
    "\n",
    "# save and load check\n",
    "np.savez('./mvsa-single-densenet121', mvsa_single_densenet121)\n",
    "x = loadz('./mvsa-single-densenet121.npz')\n",
    "print((x == mvsa_single_densenet121).all())"
   ]
  },
  {
   "cell_type": "code",
   "execution_count": 10,
   "id": "167e6cfd",
   "metadata": {
    "execution": {
     "iopub.execute_input": "2022-07-03T18:43:26.639799Z",
     "iopub.status.busy": "2022-07-03T18:43:26.638466Z",
     "iopub.status.idle": "2022-07-03T18:59:55.038646Z",
     "shell.execute_reply": "2022-07-03T18:59:55.036947Z"
    },
    "papermill": {
     "duration": 988.420493,
     "end_time": "2022-07-03T18:59:55.041571",
     "exception": false,
     "start_time": "2022-07-03T18:43:26.621078",
     "status": "completed"
    },
    "tags": []
   },
   "outputs": [
    {
     "name": "stdout",
     "output_type": "stream",
     "text": [
      "MVSA-Multiple: Extracting DenseNet121 features of images\n",
      "532/532 [==============================] - 985s 2s/step\n",
      "DenseNet121 last hidden layer dimension: 1024\n",
      "MVSA-Multiple with DenseNet121 last hidden layer: (17024, 1024)\n",
      "True\n"
     ]
    }
   ],
   "source": [
    "print('MVSA-Multiple: Extracting DenseNet121 features of images')\n",
    "mvsa_multiple_densenet121 = model_densenet121.predict(mvsa_multiple_images, verbose=1)\n",
    "print('DenseNet121 last hidden layer dimension:', mvsa_multiple_densenet121.shape[1])\n",
    "print('MVSA-Multiple with DenseNet121 last hidden layer:', mvsa_multiple_densenet121.shape)\n",
    "\n",
    "# save and load check\n",
    "np.savez('./mvsa-multiple-densenet121', mvsa_multiple_densenet121)\n",
    "x = loadz('./mvsa-multiple-densenet121.npz')\n",
    "print((x == mvsa_multiple_densenet121).all())"
   ]
  }
 ],
 "metadata": {
  "kernelspec": {
   "display_name": "Python 3",
   "language": "python",
   "name": "python3"
  },
  "language_info": {
   "codemirror_mode": {
    "name": "ipython",
    "version": 3
   },
   "file_extension": ".py",
   "mimetype": "text/x-python",
   "name": "python",
   "nbconvert_exporter": "python",
   "pygments_lexer": "ipython3",
   "version": "3.7.12"
  },
  "papermill": {
   "default_parameters": {},
   "duration": 1319.66525,
   "end_time": "2022-07-03T18:59:58.311698",
   "environment_variables": {},
   "exception": null,
   "input_path": "__notebook__.ipynb",
   "output_path": "__notebook__.ipynb",
   "parameters": {},
   "start_time": "2022-07-03T18:37:58.646448",
   "version": "2.3.4"
  }
 },
 "nbformat": 4,
 "nbformat_minor": 5
}
