{
 "cells": [
  {
   "cell_type": "code",
   "execution_count": 1,
   "id": "a0f8713a",
   "metadata": {
    "_cell_guid": "b1076dfc-b9ad-4769-8c92-a6c4dae69d19",
    "_uuid": "8f2839f25d086af736a60e9eeb907d3b93b6e0e5",
    "execution": {
     "iopub.execute_input": "2022-07-05T06:17:51.768248Z",
     "iopub.status.busy": "2022-07-05T06:17:51.765723Z",
     "iopub.status.idle": "2022-07-05T06:18:00.248639Z",
     "shell.execute_reply": "2022-07-05T06:18:00.247688Z"
    },
    "papermill": {
     "duration": 8.499612,
     "end_time": "2022-07-05T06:18:00.251271",
     "exception": false,
     "start_time": "2022-07-05T06:17:51.751659",
     "status": "completed"
    },
    "tags": []
   },
   "outputs": [],
   "source": [
    "SEED = 61\n",
    "\n",
    "import os\n",
    "import re\n",
    "import gc\n",
    "import h5py\n",
    "import torch\n",
    "import numpy as np\n",
    "import pandas as pd\n",
    "import tensorflow as tf\n",
    "import random as python_random\n",
    "import tensorflow_addons as tfa\n",
    "import matplotlib.pyplot as plt\n",
    "\n",
    "from tqdm import tqdm\n",
    "from nltk import tokenize\n",
    "from IPython.display import display_html\n",
    "from transformers import BertTokenizer, BertForMaskedLM, BertModel\n",
    "from tensorflow.python.keras.layers import Layer, InputSpec, Lambda\n",
    "\n",
    "from sklearn import preprocessing\n",
    "from sklearn.decomposition import PCA\n",
    "from sklearn.model_selection import RepeatedKFold, KFold\n",
    "from sklearn.model_selection import cross_val_score\n",
    "from sklearn.metrics import f1_score, accuracy_score, confusion_matrix, ConfusionMatrixDisplay, classification_report\n",
    "\n",
    "from keras import backend as K\n",
    "from keras import initializers,regularizers,constraints\n",
    "from keras.preprocessing.text import Tokenizer, text_to_word_sequence\n",
    "from keras.preprocessing.sequence import pad_sequences\n",
    "from keras.utils.np_utils import to_categorical\n",
    "from keras.layers import Reshape, Input, Embedding, Flatten, Dense, Dropout, BatchNormalization, Activation #, merge\n",
    "from keras.layers import TimeDistributed, LSTM, GRU, Bidirectional, Convolution1D, MaxPooling1D, MaxPooling2D\n",
    "from keras.layers.core import RepeatVector #, Reshape\n",
    "from keras.callbacks import ModelCheckpoint, EarlyStopping, ReduceLROnPlateau\n",
    "from keras.models import Sequential, Model, load_model\n",
    "\n",
    "def reset_seeds():\n",
    "    np.random.seed(SEED) \n",
    "    python_random.seed(SEED)\n",
    "    tf.random.set_seed(SEED)\n",
    "    os.environ[\"PYTHONHASHSEED\"] = str(SEED)\n",
    "\n",
    "# from tensorflow.keras import Model\n",
    "# from attention import Attention_input1, Attention_input2\n",
    "# from keras.optimizers import SGD, RMSprop, Adagrad"
   ]
  },
  {
   "cell_type": "code",
   "execution_count": 2,
   "id": "df67f8d7",
   "metadata": {
    "execution": {
     "iopub.execute_input": "2022-07-05T06:18:00.270359Z",
     "iopub.status.busy": "2022-07-05T06:18:00.269496Z",
     "iopub.status.idle": "2022-07-05T06:18:00.274951Z",
     "shell.execute_reply": "2022-07-05T06:18:00.274122Z"
    },
    "papermill": {
     "duration": 0.016349,
     "end_time": "2022-07-05T06:18:00.276831",
     "exception": false,
     "start_time": "2022-07-05T06:18:00.260482",
     "status": "completed"
    },
    "tags": []
   },
   "outputs": [],
   "source": [
    "NUM_CLASSES = 3"
   ]
  },
  {
   "cell_type": "code",
   "execution_count": 3,
   "id": "06616e7a",
   "metadata": {
    "execution": {
     "iopub.execute_input": "2022-07-05T06:18:00.294645Z",
     "iopub.status.busy": "2022-07-05T06:18:00.293908Z",
     "iopub.status.idle": "2022-07-05T06:18:00.300897Z",
     "shell.execute_reply": "2022-07-05T06:18:00.300026Z"
    },
    "papermill": {
     "duration": 0.017946,
     "end_time": "2022-07-05T06:18:00.302955",
     "exception": false,
     "start_time": "2022-07-05T06:18:00.285009",
     "status": "completed"
    },
    "tags": []
   },
   "outputs": [],
   "source": [
    "def read_hdf5(path):\n",
    "    read_file = h5py.File(path, 'r')\n",
    "    \n",
    "    feature_names = list(read_file.keys())\n",
    "    loaded_data = []\n",
    "    \n",
    "    for name in feature_names:\n",
    "        dataset = read_file[name][:]\n",
    "        if dataset.dtype == np.dtype('object'):\n",
    "            dataset = np.array([x.decode('UTF-8') for x in dataset])            \n",
    "        loaded_data.append((name, dataset))\n",
    "\n",
    "    return loaded_data\n",
    "\n",
    "def loadz(path):\n",
    "    data = np.load(path)['arr_0']\n",
    "    return data"
   ]
  },
  {
   "cell_type": "code",
   "execution_count": 4,
   "id": "f2dc8c76",
   "metadata": {
    "execution": {
     "iopub.execute_input": "2022-07-05T06:18:00.321083Z",
     "iopub.status.busy": "2022-07-05T06:18:00.320833Z",
     "iopub.status.idle": "2022-07-05T06:18:00.328789Z",
     "shell.execute_reply": "2022-07-05T06:18:00.327863Z"
    },
    "papermill": {
     "duration": 0.018998,
     "end_time": "2022-07-05T06:18:00.330698",
     "exception": false,
     "start_time": "2022-07-05T06:18:00.311700",
     "status": "completed"
    },
    "tags": []
   },
   "outputs": [],
   "source": [
    "def load_labels(path):\n",
    "    data = read_hdf5(path)\n",
    "\n",
    "    for x in data:\n",
    "        if x[0] == 'multimodal-labels':\n",
    "            labels = x[1]\n",
    "        if x[0] == 'text-labels':\n",
    "            text_labels = x[1]\n",
    "        if x[0] == 'image-labels':\n",
    "            image_labels = x[1]\n",
    "        \n",
    "    return labels, text_labels, image_labels\n",
    "\n",
    "def merge_mvsa(mvsa_single, mvsa_multiple):\n",
    "    mvsa = np.concatenate((mvsa_single, mvsa_multiple), axis=0)\n",
    "    return mvsa\n",
    "\n",
    "def load_mvsa_feature(feature_name, merge=False):\n",
    "    folder_path = os.path.join('../input/mvsa-features/', feature_name)\n",
    "    single_file = 'mvsa-single-{}.npz'.format(feature_name)\n",
    "    multiple_file = 'mvsa-multiple-{}.npz'.format(feature_name)\n",
    "    mvsa_single = loadz(os.path.join(folder_path, single_file))\n",
    "    mvsa_multiple = loadz(os.path.join(folder_path, multiple_file))\n",
    "    \n",
    "    if merge == True:\n",
    "        return merge_mvsa(mvsa_single, mvsa_multiple)\n",
    "    \n",
    "    return mvsa_single, mvsa_multiple"
   ]
  },
  {
   "cell_type": "code",
   "execution_count": 5,
   "id": "c4b9b5be",
   "metadata": {
    "execution": {
     "iopub.execute_input": "2022-07-05T06:18:00.348452Z",
     "iopub.status.busy": "2022-07-05T06:18:00.347897Z",
     "iopub.status.idle": "2022-07-05T06:18:00.352991Z",
     "shell.execute_reply": "2022-07-05T06:18:00.352129Z"
    },
    "papermill": {
     "duration": 0.015988,
     "end_time": "2022-07-05T06:18:00.354974",
     "exception": false,
     "start_time": "2022-07-05T06:18:00.338986",
     "status": "completed"
    },
    "tags": []
   },
   "outputs": [],
   "source": [
    "# e.g. validation_split=0.1 -----> 8:1:1 ratio of train, val, test\n",
    "def split_data(data, validation_split):\n",
    "    num_val = int(validation_split * data.shape[0])\n",
    "    data_train = data[:-(num_val*2)]\n",
    "    data_val = data[-(num_val*2):-(num_val)]\n",
    "    data_test = data[-num_val:]\n",
    "    return data_train, data_val, data_test"
   ]
  },
  {
   "cell_type": "code",
   "execution_count": 6,
   "id": "c0ceb999",
   "metadata": {
    "execution": {
     "iopub.execute_input": "2022-07-05T06:18:00.373005Z",
     "iopub.status.busy": "2022-07-05T06:18:00.372217Z",
     "iopub.status.idle": "2022-07-05T06:18:00.382329Z",
     "shell.execute_reply": "2022-07-05T06:18:00.381403Z"
    },
    "papermill": {
     "duration": 0.021065,
     "end_time": "2022-07-05T06:18:00.384152",
     "exception": false,
     "start_time": "2022-07-05T06:18:00.363087",
     "status": "completed"
    },
    "tags": []
   },
   "outputs": [],
   "source": [
    "def weighted_average(weights, probs):\n",
    "    ''' Calculate the weighted average probability distribution from all input probs and its weights \n",
    "    weights: weights list (or array)\n",
    "    probs: probability distributions array list\n",
    "    '''\n",
    "    output_probs = []\n",
    "    weighted_probs = [probs[i] * weights[i] for i in range(len(weights))]\n",
    "    for i in range(len(probs[0])):\n",
    "        sum_prob = np.zeros(len(probs[0][0]))\n",
    "        for j in range(len(weights)):\n",
    "            sum_prob = np.sum((sum_prob, weighted_probs[j][i]), axis=0)\n",
    "        output_probs.append(sum_prob)\n",
    "    return np.asarray(output_probs, dtype='float32')\n",
    "\n",
    "def get_average_weights(*scores, inverse=False):\n",
    "    ''' Get the corresponding weight of each input score \n",
    "    inverse: (bool) get inverse weights value in case of the smaller score value, the bigger weight value (such as model loss)\n",
    "    '''\n",
    "    \n",
    "    weights = []\n",
    "    for score in scores:\n",
    "        weights.append(score/np.sum(scores))\n",
    "    \n",
    "    if inverse == True:\n",
    "        inverse_weights = []\n",
    "        inverse = [1/weight for weight in weights]\n",
    "        for inv in inverse:\n",
    "            inverse_weights.append(inv/np.sum(inverse))\n",
    "        weights = inverse_weights\n",
    "\n",
    "    return weights"
   ]
  },
  {
   "cell_type": "code",
   "execution_count": 7,
   "id": "e39a93d5",
   "metadata": {
    "execution": {
     "iopub.execute_input": "2022-07-05T06:18:00.402169Z",
     "iopub.status.busy": "2022-07-05T06:18:00.401584Z",
     "iopub.status.idle": "2022-07-05T06:18:05.617248Z",
     "shell.execute_reply": "2022-07-05T06:18:05.616283Z"
    },
    "papermill": {
     "duration": 5.228421,
     "end_time": "2022-07-05T06:18:05.620906",
     "exception": false,
     "start_time": "2022-07-05T06:18:00.392485",
     "status": "completed"
    },
    "tags": []
   },
   "outputs": [
    {
     "name": "stderr",
     "output_type": "stream",
     "text": [
      "2022-07-05 06:18:00.498273: I tensorflow/stream_executor/cuda/cuda_gpu_executor.cc:937] successful NUMA node read from SysFS had negative value (-1), but there must be at least one NUMA node, so returning NUMA node zero\n",
      "2022-07-05 06:18:00.499325: I tensorflow/stream_executor/cuda/cuda_gpu_executor.cc:937] successful NUMA node read from SysFS had negative value (-1), but there must be at least one NUMA node, so returning NUMA node zero\n",
      "2022-07-05 06:18:00.500047: I tensorflow/stream_executor/cuda/cuda_gpu_executor.cc:937] successful NUMA node read from SysFS had negative value (-1), but there must be at least one NUMA node, so returning NUMA node zero\n",
      "2022-07-05 06:18:00.500899: I tensorflow/core/platform/cpu_feature_guard.cc:142] This TensorFlow binary is optimized with oneAPI Deep Neural Network Library (oneDNN) to use the following CPU instructions in performance-critical operations:  AVX2 AVX512F FMA\n",
      "To enable them in other operations, rebuild TensorFlow with the appropriate compiler flags.\n",
      "2022-07-05 06:18:00.501193: I tensorflow/stream_executor/cuda/cuda_gpu_executor.cc:937] successful NUMA node read from SysFS had negative value (-1), but there must be at least one NUMA node, so returning NUMA node zero\n",
      "2022-07-05 06:18:00.501904: I tensorflow/stream_executor/cuda/cuda_gpu_executor.cc:937] successful NUMA node read from SysFS had negative value (-1), but there must be at least one NUMA node, so returning NUMA node zero\n",
      "2022-07-05 06:18:00.502571: I tensorflow/stream_executor/cuda/cuda_gpu_executor.cc:937] successful NUMA node read from SysFS had negative value (-1), but there must be at least one NUMA node, so returning NUMA node zero\n",
      "2022-07-05 06:18:05.289410: I tensorflow/stream_executor/cuda/cuda_gpu_executor.cc:937] successful NUMA node read from SysFS had negative value (-1), but there must be at least one NUMA node, so returning NUMA node zero\n",
      "2022-07-05 06:18:05.290336: I tensorflow/stream_executor/cuda/cuda_gpu_executor.cc:937] successful NUMA node read from SysFS had negative value (-1), but there must be at least one NUMA node, so returning NUMA node zero\n",
      "2022-07-05 06:18:05.291226: I tensorflow/stream_executor/cuda/cuda_gpu_executor.cc:937] successful NUMA node read from SysFS had negative value (-1), but there must be at least one NUMA node, so returning NUMA node zero\n",
      "2022-07-05 06:18:05.291919: I tensorflow/core/common_runtime/gpu/gpu_device.cc:1510] Created device /job:localhost/replica:0/task:0/device:GPU:0 with 15047 MB memory:  -> device: 0, name: Tesla P100-PCIE-16GB, pci bus id: 0000:00:04.0, compute capability: 6.0\n"
     ]
    }
   ],
   "source": [
    "f1_macro = tfa.metrics.F1Score(num_classes=NUM_CLASSES, average='macro', name='f1_macro')\n",
    "f1_weighted = tfa.metrics.F1Score(num_classes=NUM_CLASSES, average='weighted', name='f1_weighted')\n",
    "    \n",
    "def create_model_text(input_shape, lstm=True):\n",
    "    text_input = Input(shape=input_shape)\n",
    "    if lstm == True:\n",
    "        reshape_text = Reshape((1, -1)) (text_input)\n",
    "        lstm = LSTM(NUM_LSTM) (reshape_text)\n",
    "        outputs = Dense(NUM_CLASSES, activation='softmax') (lstm)\n",
    "    else:\n",
    "        outputs = Dense(NUM_CLASSES, activation='softmax') (text_input)\n",
    "    model = Model(text_input, outputs)\n",
    "    model.compile(optimizer='adam', loss='categorical_crossentropy', metrics=['accuracy', f1_macro, f1_weighted])\n",
    "    return model\n",
    "\n",
    "def create_model_image(input_shape):\n",
    "    image_input = Input(shape=input_shape)\n",
    "    outputs = Dense(NUM_CLASSES, activation='softmax') (image_input)\n",
    "    model = Model(image_input, outputs)\n",
    "    model.compile(optimizer='adam', loss='categorical_crossentropy', metrics=['accuracy', f1_macro, f1_weighted])\n",
    "    return model\n",
    "\n",
    "def create_model_IF(text_shape, image_shape, lstm=True):\n",
    "    image_input = Input(shape=image_shape)\n",
    "    text_input = Input(shape=text_shape)\n",
    "    if lstm == True:\n",
    "        text_reshape = Reshape((1, -1)) (text_input)\n",
    "        text_lstm = LSTM(NUM_LSTM) (text_reshape)\n",
    "#     text_lstm = Dropout(DROPOUT_RATE) (text_lstm)\n",
    "        text_image_concat = tf.keras.layers.Concatenate(axis=1)([text_lstm, image_input])\n",
    "    else:\n",
    "        text_image_concat = tf.keras.layers.Concatenate(axis=1)([text_input, image_input])\n",
    "    concat_self_attention = tf.keras.layers.Attention() ([text_image_concat, text_image_concat])\n",
    "#     concat_self_attention = Dropout(DROPOUT_RATE) (concat_self_attention)\n",
    "    outputs = Dense(NUM_CLASSES, activation='softmax') (concat_self_attention)\n",
    "    model = Model([text_input, image_input], outputs)\n",
    "    model.compile(optimizer='adam', loss='categorical_crossentropy', metrics=['accuracy', f1_macro, f1_weighted])\n",
    "    return model"
   ]
  },
  {
   "cell_type": "code",
   "execution_count": 8,
   "id": "24c44611",
   "metadata": {
    "execution": {
     "iopub.execute_input": "2022-07-05T06:18:05.641813Z",
     "iopub.status.busy": "2022-07-05T06:18:05.641497Z",
     "iopub.status.idle": "2022-07-05T06:18:05.655455Z",
     "shell.execute_reply": "2022-07-05T06:18:05.654354Z"
    },
    "papermill": {
     "duration": 0.027047,
     "end_time": "2022-07-05T06:18:05.657700",
     "exception": false,
     "start_time": "2022-07-05T06:18:05.630653",
     "status": "completed"
    },
    "tags": []
   },
   "outputs": [],
   "source": [
    "def run_and_evaluate_IF(name, X1, X2, y, verbose=0, lstm=True):\n",
    "    '''  Train and test Intermediate Fusion model Multimodal Labels \n",
    "    X1: text input\n",
    "    X2: image input\n",
    "    y: multimodal labels\n",
    "    '''\n",
    "    y = le.fit_transform(y)\n",
    "    y = to_categorical(np.asarray(y))\n",
    "    \n",
    "    X1_train, X1_val, X1_test = split_data(X1, VALIDATION_SPLIT)\n",
    "    X2_train, X2_val, X2_test = split_data(X2, VALIDATION_SPLIT)\n",
    "    y_train, y_val, y_test = split_data(y, VALIDATION_SPLIT)\n",
    "    \n",
    "    if lstm == False:\n",
    "        model = create_model_IF(X1_train.shape[1:], X2_train.shape[1:], lstm=False)\n",
    "    else:\n",
    "        model = create_model_IF(X1_train.shape[1:], X2_train.shape[1:])\n",
    "    early_stopping = EarlyStopping(monitor='val_loss', min_delta=1e-4, patience=EARLY_STOPPING)\n",
    "    checkpoint = ModelCheckpoint('./model_checkpoint/{}.h5'.format(name), save_best_only=True, verbose=verbose)\n",
    "    \n",
    "    history = model.fit([X1_train, X2_train], y_train, validation_data=([X1_val, X2_val], y_val), \n",
    "                        epochs=EPOCHS, batch_size=BATCH_SIZE, verbose=verbose,\n",
    "                        callbacks=[checkpoint, early_stopping])\n",
    "    if verbose == 1:\n",
    "        best_epoch = np.argmin(history.history['val_loss'])\n",
    "        print('\\nCheckpoint loaded at epoch:', best_epoch)\n",
    "        \n",
    "    return history, evaluate_model_IF(model, X1_test, X2_test, y_test, checkpoint=name, verbose=verbose)\n",
    "\n",
    "def evaluate_model_IF(model, X_texts, X_images, y_test, checkpoint=None, verbose=1):\n",
    "    if checkpoint is not None:\n",
    "        model = load_model('./model_checkpoint/{}.h5'.format(checkpoint))\n",
    "    \n",
    "    loss, acc, f1_macro, f1_weighted = model.evaluate([X_texts, X_images], y_test, verbose=verbose)\n",
    "\n",
    "    if verbose == 1:\n",
    "        print('Loss:', loss)\n",
    "        print('Accuracy:', acc)\n",
    "        print('Macro F1-score:', f1_macro)\n",
    "        print('Weighted F1-score:', f1_weighted)\n",
    "\n",
    "        y_pred = model.predict([X_texts, X_images])\n",
    "        matrix = confusion_matrix(le.inverse_transform(y_test.argmax(axis=1)), le.inverse_transform(y_pred.argmax(axis=1)), \n",
    "                                  labels=list(le.classes_))\n",
    "        cm_disp = ConfusionMatrixDisplay(confusion_matrix=matrix,\n",
    "                                  display_labels=list(le.classes_))\n",
    "        cm_disp.plot()\n",
    "        plt.show()\n",
    "        \n",
    "    return loss, acc, f1_macro, f1_weighted"
   ]
  },
  {
   "cell_type": "code",
   "execution_count": 9,
   "id": "9bcd5615",
   "metadata": {
    "execution": {
     "iopub.execute_input": "2022-07-05T06:18:05.675828Z",
     "iopub.status.busy": "2022-07-05T06:18:05.675546Z",
     "iopub.status.idle": "2022-07-05T06:18:05.690935Z",
     "shell.execute_reply": "2022-07-05T06:18:05.689960Z"
    },
    "papermill": {
     "duration": 0.027125,
     "end_time": "2022-07-05T06:18:05.693118",
     "exception": false,
     "start_time": "2022-07-05T06:18:05.665993",
     "status": "completed"
    },
    "tags": []
   },
   "outputs": [],
   "source": [
    "def run_and_evaluate_LF(name, X1, X2, y, y1, y2, verbose=0, lstm=True):\n",
    "    ''' Train Late Fusion model with Original Labels of each modality and test with Multimodal Labels \n",
    "    X1: text input\n",
    "    X2: image input\n",
    "    y: multimodal labels\n",
    "    y1: text labels\n",
    "    y2: image labels\n",
    "    verbose: 0 or 1 to print tracking on progress\n",
    "    '''\n",
    "    y = le.fit_transform(y)\n",
    "    y = to_categorical(np.asarray(y))\n",
    "    \n",
    "    y1 = le.fit_transform(y1)\n",
    "    y1 = to_categorical(np.asarray(y1))\n",
    "    \n",
    "    y2 = le.fit_transform(y2)\n",
    "    y2 = to_categorical(np.asarray(y2))\n",
    "\n",
    "    X1_train, X1_val, X1_test = split_data(X1, VALIDATION_SPLIT)\n",
    "    X2_train, X2_val, X2_test = split_data(X2, VALIDATION_SPLIT)\n",
    "    y_train, y_val, y_test = split_data(y, VALIDATION_SPLIT)\n",
    "    y1_train, y1_val, y1_test = split_data(y1, VALIDATION_SPLIT)\n",
    "    y2_train, y2_val, y2_test = split_data(y2, VALIDATION_SPLIT)\n",
    "\n",
    "    if lstm == False:\n",
    "        model_text = create_model_text(X1_train.shape[1:], lstm=False)\n",
    "    else:\n",
    "        model_text = create_model_text(X1_train.shape[1:])\n",
    "    model_image = create_model_image(X2_train.shape[1:])\n",
    "\n",
    "    early_stopping1 = EarlyStopping(monitor='val_loss', min_delta=1e-4, patience=EARLY_STOPPING)\n",
    "    early_stopping2 = EarlyStopping(monitor='val_loss', min_delta=1e-4, patience=EARLY_STOPPING)\n",
    "    checkpoint_text = ModelCheckpoint('./model_checkpoint/{}-text.h5'.format(name), save_best_only=True, verbose=verbose)\n",
    "    checkpoint_image = ModelCheckpoint('./model_checkpoint/{}-image.h5'.format(name), save_best_only=True, verbose=verbose)\n",
    "    \n",
    "    history_text = model_text.fit(X1_train, y1_train, validation_data=(X1_val, y1_val), \n",
    "                                  epochs=EPOCHS, batch_size=BATCH_SIZE, verbose=verbose,\n",
    "                                  callbacks=[checkpoint_text, early_stopping1])\n",
    "    \n",
    "    history_image = model_image.fit(X2_train, y2_train, validation_data=(X2_val, y2_val), \n",
    "                                    epochs=EPOCHS, batch_size=BATCH_SIZE, verbose=verbose,\n",
    "                                    callbacks=[checkpoint_image, early_stopping2])\n",
    "    \n",
    "    best_val_acc_text = np.min(history_text.history['val_accuracy'])\n",
    "    best_val_acc_image = np.min(history_image.history['val_accuracy'])\n",
    "\n",
    "    weights = get_average_weights(best_val_acc_text, best_val_acc_image)\n",
    "\n",
    "    model_text = load_model('./model_checkpoint/{}-text.h5'.format(name))\n",
    "    model_image = load_model('./model_checkpoint/{}-image.h5'.format(name))\n",
    "\n",
    "    y_pred_text = model_text.predict(X1_test)\n",
    "    y_pred_image = model_image.predict(X2_test)\n",
    "\n",
    "    y_pred = weighted_average(weights, np.asarray([y_pred_text, y_pred_image], dtype='float32'))\n",
    "\n",
    "    best_epoch_text = np.argmin(history_text.history['val_loss'])\n",
    "    best_epoch_image = np.argmin(history_image.history['val_loss'])\n",
    "\n",
    "    if verbose == 1:\n",
    "        print('Checkpoint of text model loaded at epoch:', best_epoch_text)\n",
    "        print('Checkpoint of image model loaded at epoch:', best_epoch_image)\n",
    "\n",
    "    return evaluate_model_LF(y_test, y_pred, verbose=verbose)"
   ]
  },
  {
   "cell_type": "code",
   "execution_count": 10,
   "id": "6b8f1c23",
   "metadata": {
    "execution": {
     "iopub.execute_input": "2022-07-05T06:18:05.710820Z",
     "iopub.status.busy": "2022-07-05T06:18:05.710578Z",
     "iopub.status.idle": "2022-07-05T06:18:05.731252Z",
     "shell.execute_reply": "2022-07-05T06:18:05.730352Z"
    },
    "papermill": {
     "duration": 0.03176,
     "end_time": "2022-07-05T06:18:05.733209",
     "exception": false,
     "start_time": "2022-07-05T06:18:05.701449",
     "status": "completed"
    },
    "tags": []
   },
   "outputs": [],
   "source": [
    "def run_and_evaluate_HF(name, X1, X2, y, y1, y2, verbose=0, lstm=True):\n",
    "    ''' Train Hybrid Fusion model with Original Labels of each modality and test with Multimodal Labels \n",
    "    X1: text input\n",
    "    X2: image input\n",
    "    y: multimodal labels\n",
    "    y1: text labels\n",
    "    y2: image labels\n",
    "    lstm: (bool) create text model with LSTM layer or not\n",
    "    verbose: 0 or 1 to print tracking on progress\n",
    "    '''\n",
    "    y = le.fit_transform(y)\n",
    "    y = to_categorical(np.asarray(y))\n",
    "    \n",
    "    y1 = le.fit_transform(y1)\n",
    "    y1 = to_categorical(np.asarray(y1))\n",
    "    \n",
    "    y2 = le.fit_transform(y2)\n",
    "    y2 = to_categorical(np.asarray(y2))\n",
    "    \n",
    "    X1_train, X1_val, X1_test = split_data(X1, VALIDATION_SPLIT)\n",
    "    X2_train, X2_val, X2_test = split_data(X2, VALIDATION_SPLIT)\n",
    "    y_train, y_val, y_test = split_data(y, VALIDATION_SPLIT)\n",
    "    y1_train, y1_val, y1_test = split_data(y1, VALIDATION_SPLIT)\n",
    "    y2_train, y2_val, y2_test = split_data(y2, VALIDATION_SPLIT)\n",
    "\n",
    "    model_image = create_model_image(X2_train.shape[1:])\n",
    "    if lstm == False:\n",
    "        model_text = create_model_text(X1_train.shape[1:], lstm=False)\n",
    "        model_IF = create_model_IF(X1_train.shape[1:], X2_train.shape[1:], lstm=False)\n",
    "    model_text = create_model_text(X1_train.shape[1:])\n",
    "    model_IF = create_model_IF(X1_train.shape[1:], X2_train.shape[1:])\n",
    "    \n",
    "    early_stopping1 = EarlyStopping(monitor='val_loss', min_delta=1e-4, patience=EARLY_STOPPING)\n",
    "    early_stopping2 = EarlyStopping(monitor='val_loss', min_delta=1e-4, patience=EARLY_STOPPING)\n",
    "    early_stopping3 = EarlyStopping(monitor='val_loss', min_delta=1e-4, patience=EARLY_STOPPING)\n",
    "\n",
    "    checkpoint_text = ModelCheckpoint('./model_checkpoint/{}-text.h5'.format(name), save_best_only=True, verbose=verbose)\n",
    "    checkpoint_image = ModelCheckpoint('./model_checkpoint/{}-image.h5'.format(name), save_best_only=True, verbose=verbose)\n",
    "    checkpoint_IF = ModelCheckpoint('./model_checkpoint/{}-IF.h5'.format(name), save_best_only=True, verbose=verbose)\n",
    "\n",
    "    history_text = model_text.fit(X1_train, y1_train, validation_data=(X1_val, y1_val), \n",
    "                                  epochs=EPOCHS, batch_size=BATCH_SIZE, verbose=verbose,\n",
    "                                  callbacks=[checkpoint_text, early_stopping1])\n",
    "    \n",
    "    history_image = model_image.fit(X2_train, y2_train, validation_data=(X2_val, y2_val), \n",
    "                                    epochs=EPOCHS, batch_size=BATCH_SIZE, verbose=verbose,\n",
    "                                    callbacks=[checkpoint_image, early_stopping2])\n",
    "    \n",
    "    history_IF = model_IF.fit([X1_train, X2_train], y_train, validation_data=([X1_val, X2_val], y_val), \n",
    "                              epochs=EPOCHS, batch_size=BATCH_SIZE, verbose=verbose,\n",
    "                              callbacks=[checkpoint_IF, early_stopping3])\n",
    "    \n",
    "    best_val_acc_text = np.min(history_text.history['val_accuracy'])\n",
    "    best_val_acc_image = np.min(history_image.history['val_accuracy'])\n",
    "    best_val_acc_IF = np.min(history_IF.history['val_accuracy'])\n",
    "    \n",
    "    weights = get_average_weights(best_val_acc_text, best_val_acc_image, best_val_acc_IF)\n",
    "\n",
    "    model_text = load_model('./model_checkpoint/{}-text.h5'.format(name))\n",
    "    model_image = load_model('./model_checkpoint/{}-image.h5'.format(name))\n",
    "    model_IF = load_model('./model_checkpoint/{}-IF.h5'.format(name))\n",
    "\n",
    "    y_pred_text = model_text.predict(X1_test)\n",
    "    y_pred_image = model_image.predict(X2_test)\n",
    "    y_pred_IF = model_IF.predict([X1_test, X2_test])\n",
    "\n",
    "    y_pred = weighted_average(weights, np.asarray([y_pred_text, y_pred_image, y_pred_IF], dtype='float32'))\n",
    "    \n",
    "    best_epoch_text = np.argmin(history_text.history['val_loss'])\n",
    "    best_epoch_image = np.argmin(history_image.history['val_loss'])\n",
    "    best_epoch_IF = np.argmin(history_IF.history['val_loss'])\n",
    "\n",
    "    if verbose == 1:\n",
    "        print('Checkpoint of text model loaded at epoch:', best_epoch_text)\n",
    "        print('Checkpoint of image model loaded at epoch:', best_epoch_image)\n",
    "        print('Checkpoint of IF model loaded at epoch:', best_epoch_IF)\n",
    "\n",
    "    return evaluate_model_LF(y_test, y_pred, verbose=verbose)"
   ]
  },
  {
   "cell_type": "code",
   "execution_count": 11,
   "id": "137f6159",
   "metadata": {
    "execution": {
     "iopub.execute_input": "2022-07-05T06:18:05.751368Z",
     "iopub.status.busy": "2022-07-05T06:18:05.751090Z",
     "iopub.status.idle": "2022-07-05T06:18:05.757892Z",
     "shell.execute_reply": "2022-07-05T06:18:05.756994Z"
    },
    "papermill": {
     "duration": 0.017844,
     "end_time": "2022-07-05T06:18:05.759827",
     "exception": false,
     "start_time": "2022-07-05T06:18:05.741983",
     "status": "completed"
    },
    "tags": []
   },
   "outputs": [],
   "source": [
    "def evaluate_model_LF(y_true, y_pred, verbose=0):\n",
    "    \n",
    "    y_pred = le.inverse_transform(y_pred.argmax(axis=1))\n",
    "    y_true = le.inverse_transform(y_true.argmax(axis=1))\n",
    "\n",
    "    acc = accuracy_score(y_true, y_pred)\n",
    "    f1_macro = f1_score(y_true, y_pred, average='macro')\n",
    "    f1_weighted = f1_score(y_true, y_pred, average='weighted')\n",
    "\n",
    "    if verbose == 1:\n",
    "        print(classification_report(y_true, y_pred))\n",
    "        matrix = confusion_matrix(y_true, y_pred,\n",
    "                                  labels=list(le.classes_))\n",
    "        cm_disp = ConfusionMatrixDisplay(confusion_matrix=matrix,\n",
    "                                  display_labels=list(le.classes_))\n",
    "        cm_disp.plot()\n",
    "        plt.show()\n",
    "\n",
    "    return acc, f1_macro, f1_weighted"
   ]
  },
  {
   "cell_type": "code",
   "execution_count": 12,
   "id": "73150ef9",
   "metadata": {
    "execution": {
     "iopub.execute_input": "2022-07-05T06:18:05.777991Z",
     "iopub.status.busy": "2022-07-05T06:18:05.777751Z",
     "iopub.status.idle": "2022-07-05T06:18:05.788043Z",
     "shell.execute_reply": "2022-07-05T06:18:05.787248Z"
    },
    "papermill": {
     "duration": 0.021579,
     "end_time": "2022-07-05T06:18:05.789996",
     "exception": false,
     "start_time": "2022-07-05T06:18:05.768417",
     "status": "completed"
    },
    "tags": []
   },
   "outputs": [],
   "source": [
    "def plot_metrics(history):\n",
    "    fig = plt.figure(figsize=(20, 5))\n",
    "\n",
    "    fig.add_subplot(1, 4, 1)\n",
    "    plt.plot(history.history['loss'])\n",
    "    plt.plot(history.history['val_loss'])\n",
    "    plt.title('LOSS')\n",
    "    plt.ylabel('loss')\n",
    "    plt.xlabel('epoch')\n",
    "    plt.legend(['train', 'val'], loc='best')\n",
    "\n",
    "    fig.add_subplot(1, 4, 2)\n",
    "    plt.plot(history.history['accuracy'])\n",
    "    plt.plot(history.history['val_accuracy'])\n",
    "    plt.title('ACCURACY')\n",
    "    plt.ylabel('accuracy')\n",
    "    plt.xlabel('epoch')\n",
    "    plt.legend(['train', 'val'], loc='best')\n",
    "\n",
    "    fig.add_subplot(1, 4, 3)\n",
    "    plt.plot(history.history['f1_macro'])\n",
    "    plt.plot(history.history['val_f1_macro'])\n",
    "    plt.title('Macro F1-SCORE')\n",
    "    plt.ylabel('f1-macro')\n",
    "    plt.xlabel('epoch')\n",
    "    plt.legend(['train', 'val'], loc='best')\n",
    "    \n",
    "    fig.add_subplot(1, 4, 4)\n",
    "    plt.plot(history.history['f1_weighted'])\n",
    "    plt.plot(history.history['val_f1_weighted'])\n",
    "    plt.title('Weighted F1-SCORE')\n",
    "    plt.ylabel('f1-weighted')\n",
    "    plt.xlabel('epoch')\n",
    "    plt.legend(['train', 'val'], loc='best')\n",
    "\n",
    "    plt.show()"
   ]
  },
  {
   "cell_type": "code",
   "execution_count": 13,
   "id": "97b7b110",
   "metadata": {
    "execution": {
     "iopub.execute_input": "2022-07-05T06:18:05.807795Z",
     "iopub.status.busy": "2022-07-05T06:18:05.807289Z",
     "iopub.status.idle": "2022-07-05T06:18:05.815639Z",
     "shell.execute_reply": "2022-07-05T06:18:05.814738Z"
    },
    "papermill": {
     "duration": 0.019262,
     "end_time": "2022-07-05T06:18:05.817613",
     "exception": false,
     "start_time": "2022-07-05T06:18:05.798351",
     "status": "completed"
    },
    "tags": []
   },
   "outputs": [],
   "source": [
    "def style_dataframe(dataframe):\n",
    "    return dataframe.style.highlight_max(subset=['Accuracy', 'F1-macro', 'F1-weighted'], props='color:lawngreen', axis=0)\\\n",
    "                          .highlight_min(subset=['Accuracy', 'F1-macro', 'F1-weighted'], props='color:tomato', axis=0)\n",
    "\n",
    "def display_dataframes(dfs, names=[], index=False):\n",
    "    def to_df(x):\n",
    "        if isinstance(x, pd.Series):\n",
    "            return pd.DataFrame(x)\n",
    "        else:\n",
    "            return x\n",
    "    html_str = ''\n",
    "    if names:\n",
    "        html_str += ('<tr>' + \n",
    "                     ''.join(f'<td style=\"text-align:center\">{name}</td>' for name in names) + \n",
    "                     '</tr>')\n",
    "    html_str += ('<tr>' + \n",
    "                 ''.join(f'<td style=\"vertical-align:top\"> {to_df(df).to_html()}</td>' \n",
    "                         for df in dfs) + \n",
    "                 '</tr>')\n",
    "    html_str = f'<table>{html_str}</table>'\n",
    "    html_str = html_str.replace('table','table style=\"display:inline\"')\n",
    "    display_html(html_str, raw=True)"
   ]
  },
  {
   "cell_type": "markdown",
   "id": "e90b3db3",
   "metadata": {
    "papermill": {
     "duration": 0.007928,
     "end_time": "2022-07-05T06:18:05.834319",
     "exception": false,
     "start_time": "2022-07-05T06:18:05.826391",
     "status": "completed"
    },
    "tags": []
   },
   "source": [
    "# Load data"
   ]
  },
  {
   "cell_type": "code",
   "execution_count": 14,
   "id": "412c459a",
   "metadata": {
    "execution": {
     "iopub.execute_input": "2022-07-05T06:18:05.855367Z",
     "iopub.status.busy": "2022-07-05T06:18:05.853803Z",
     "iopub.status.idle": "2022-07-05T06:18:19.423457Z",
     "shell.execute_reply": "2022-07-05T06:18:19.422482Z"
    },
    "papermill": {
     "duration": 13.581957,
     "end_time": "2022-07-05T06:18:19.425843",
     "exception": false,
     "start_time": "2022-07-05T06:18:05.843886",
     "status": "completed"
    },
    "tags": []
   },
   "outputs": [],
   "source": [
    "## Choose best\n",
    "# Load text feature\n",
    "mvsa_single_bert, mvsa_multiple_bert = load_mvsa_feature('bert-base')\n",
    "mvsa_single_pos_bow, mvsa_multiple_pos_bow = load_mvsa_feature('pos-bow')\n",
    "mvsa_single_pos_tfidf, mvsa_multiple_pos_tfidf = load_mvsa_feature('pos-tfidf')\n",
    "mvsa_single_ner_bow, mvsa_multiple_ner_bow = load_mvsa_feature('ner-bow')\n",
    "mvsa_single_ner_tfidf, mvsa_multiple_ner_tfidf = load_mvsa_feature('ner-tfidf')\n",
    "\n",
    "## Load image feature\n",
    "mvsa_single_vgg16, mvsa_multiple_vgg16 = load_mvsa_feature('vgg16')\n",
    "mvsa_single_vgg19, mvsa_multiple_vgg19 = load_mvsa_feature('vgg19')\n",
    "mvsa_single_resnet50, mvsa_multiple_resnet50 = load_mvsa_feature('resnet50')\n",
    "mvsa_single_resnet101, mvsa_multiple_resnet101 = load_mvsa_feature('resnet101')\n",
    "mvsa_single_resnet152, mvsa_multiple_resnet152 = load_mvsa_feature('resnet152')\n",
    "mvsa_single_densenet121, mvsa_multiple_densenet121 = load_mvsa_feature('densenet121')\n",
    "mvsa_single_densenet169, mvsa_multiple_densenet169 = load_mvsa_feature('densenet169')\n",
    "mvsa_single_densenet201, mvsa_multiple_densenet201 = load_mvsa_feature('densenet201')"
   ]
  },
  {
   "cell_type": "code",
   "execution_count": 15,
   "id": "87c76dc7",
   "metadata": {
    "execution": {
     "iopub.execute_input": "2022-07-05T06:18:19.444944Z",
     "iopub.status.busy": "2022-07-05T06:18:19.444112Z",
     "iopub.status.idle": "2022-07-05T06:18:19.529453Z",
     "shell.execute_reply": "2022-07-05T06:18:19.528481Z"
    },
    "papermill": {
     "duration": 0.09734,
     "end_time": "2022-07-05T06:18:19.532172",
     "exception": false,
     "start_time": "2022-07-05T06:18:19.434832",
     "status": "completed"
    },
    "tags": []
   },
   "outputs": [],
   "source": [
    "mvsa_single_bert_pos = np.concatenate((mvsa_single_bert, mvsa_single_pos_tfidf), axis=1)\n",
    "mvsa_single_bert_pos_ner = np.concatenate((mvsa_single_bert, mvsa_single_pos_tfidf, mvsa_single_ner_tfidf), axis=1)\n",
    "\n",
    "mvsa_multiple_bert_pos = np.concatenate((mvsa_multiple_bert, mvsa_multiple_pos_tfidf), axis=1)\n",
    "mvsa_multiple_bert_pos_ner = np.concatenate((mvsa_multiple_bert, mvsa_multiple_pos_tfidf, mvsa_multiple_ner_tfidf), axis=1)"
   ]
  },
  {
   "cell_type": "code",
   "execution_count": 16,
   "id": "723b31bd",
   "metadata": {
    "execution": {
     "iopub.execute_input": "2022-07-05T06:18:19.550666Z",
     "iopub.status.busy": "2022-07-05T06:18:19.550344Z",
     "iopub.status.idle": "2022-07-05T06:18:19.673367Z",
     "shell.execute_reply": "2022-07-05T06:18:19.672446Z"
    },
    "papermill": {
     "duration": 0.13489,
     "end_time": "2022-07-05T06:18:19.675857",
     "exception": false,
     "start_time": "2022-07-05T06:18:19.540967",
     "status": "completed"
    },
    "tags": []
   },
   "outputs": [],
   "source": [
    "mvsa_single_multimodal_labels, mvsa_single_text_labels, mvsa_single_image_labels = load_labels('../input/mvsa-features/labels/mvsa-single-labels.hdf5')\n",
    "mvsa_multiple_multimodal_labels, mvsa_multiple_text_labels, mvsa_multiple_image_labels = load_labels('../input/mvsa-features/labels/mvsa-multiple-labels.hdf5')"
   ]
  },
  {
   "cell_type": "code",
   "execution_count": 17,
   "id": "427059d3",
   "metadata": {
    "execution": {
     "iopub.execute_input": "2022-07-05T06:18:19.694790Z",
     "iopub.status.busy": "2022-07-05T06:18:19.694007Z",
     "iopub.status.idle": "2022-07-05T06:18:19.700084Z",
     "shell.execute_reply": "2022-07-05T06:18:19.699186Z"
    },
    "papermill": {
     "duration": 0.017195,
     "end_time": "2022-07-05T06:18:19.702093",
     "exception": false,
     "start_time": "2022-07-05T06:18:19.684898",
     "status": "completed"
    },
    "tags": []
   },
   "outputs": [],
   "source": [
    "# prepare all features data\n",
    "\n",
    "feature_names = ['resnet152-bert', 'resnet152-bert-lstm', 'densenet201-bert-pos-lstm', 'densenet201-bert-pos-ner-lstm']\n",
    "\n",
    "mvsa_single_features = [[mvsa_single_bert, mvsa_single_resnet152],\n",
    "                        [mvsa_single_bert, mvsa_single_resnet152],\n",
    "                        [mvsa_single_bert_pos, mvsa_single_densenet201],\n",
    "                        [mvsa_single_bert_pos_ner, mvsa_single_densenet201]]\n",
    "\n",
    "mvsa_multiple_features = [[mvsa_multiple_bert, mvsa_multiple_resnet152],\n",
    "                          [mvsa_multiple_bert, mvsa_multiple_resnet152],\n",
    "                          [mvsa_multiple_bert_pos, mvsa_multiple_densenet201],\n",
    "                          [mvsa_multiple_bert_pos_ner, mvsa_multiple_densenet201]]"
   ]
  },
  {
   "cell_type": "code",
   "execution_count": 18,
   "id": "2e014f65",
   "metadata": {
    "execution": {
     "iopub.execute_input": "2022-07-05T06:18:19.719668Z",
     "iopub.status.busy": "2022-07-05T06:18:19.719376Z",
     "iopub.status.idle": "2022-07-05T06:18:19.724958Z",
     "shell.execute_reply": "2022-07-05T06:18:19.724076Z"
    },
    "papermill": {
     "duration": 0.01653,
     "end_time": "2022-07-05T06:18:19.726785",
     "exception": false,
     "start_time": "2022-07-05T06:18:19.710255",
     "status": "completed"
    },
    "tags": []
   },
   "outputs": [],
   "source": [
    "le = preprocessing.LabelEncoder()\n",
    "le.fit(mvsa_single_multimodal_labels)\n",
    "NUM_CLASSES = len(le.classes_) # = 3"
   ]
  },
  {
   "cell_type": "code",
   "execution_count": 19,
   "id": "324e841d",
   "metadata": {
    "execution": {
     "iopub.execute_input": "2022-07-05T06:18:19.745148Z",
     "iopub.status.busy": "2022-07-05T06:18:19.744347Z",
     "iopub.status.idle": "2022-07-05T06:18:19.749381Z",
     "shell.execute_reply": "2022-07-05T06:18:19.748490Z"
    },
    "papermill": {
     "duration": 0.016012,
     "end_time": "2022-07-05T06:18:19.751351",
     "exception": false,
     "start_time": "2022-07-05T06:18:19.735339",
     "status": "completed"
    },
    "tags": []
   },
   "outputs": [],
   "source": [
    "reset_seeds()\n",
    "EPOCHS = 100\n",
    "BATCH_SIZE = 128\n",
    "VALIDATION_SPLIT = 0.1\n",
    "EARLY_STOPPING = 10\n",
    "NUM_LSTM = 128\n",
    "DROPOUT_RATE = 0.1"
   ]
  },
  {
   "cell_type": "markdown",
   "id": "1dcf6287",
   "metadata": {
    "papermill": {
     "duration": 0.007928,
     "end_time": "2022-07-05T06:18:19.767414",
     "exception": false,
     "start_time": "2022-07-05T06:18:19.759486",
     "status": "completed"
    },
    "tags": []
   },
   "source": [
    "# Intermediate Fusion"
   ]
  },
  {
   "cell_type": "code",
   "execution_count": 20,
   "id": "1226885a",
   "metadata": {
    "execution": {
     "iopub.execute_input": "2022-07-05T06:18:19.785408Z",
     "iopub.status.busy": "2022-07-05T06:18:19.785167Z",
     "iopub.status.idle": "2022-07-05T06:18:46.755800Z",
     "shell.execute_reply": "2022-07-05T06:18:46.754596Z"
    },
    "papermill": {
     "duration": 26.982487,
     "end_time": "2022-07-05T06:18:46.758596",
     "exception": false,
     "start_time": "2022-07-05T06:18:19.776109",
     "status": "completed"
    },
    "tags": []
   },
   "outputs": [
    {
     "name": "stdout",
     "output_type": "stream",
     "text": [
      "MVSA-Single with Intermediate Fusion\n",
      "\n",
      "MVSA-Single: resnet152-bert\n"
     ]
    },
    {
     "name": "stderr",
     "output_type": "stream",
     "text": [
      "2022-07-05 06:18:19.967407: I tensorflow/compiler/mlir/mlir_graph_optimization_pass.cc:185] None of the MLIR Optimization Passes are enabled (registered 2)\n"
     ]
    },
    {
     "name": "stdout",
     "output_type": "stream",
     "text": [
      "\n",
      "MVSA-Single: resnet152-bert-lstm\n"
     ]
    },
    {
     "name": "stderr",
     "output_type": "stream",
     "text": [
      "2022-07-05 06:18:26.667002: I tensorflow/stream_executor/cuda/cuda_dnn.cc:369] Loaded cuDNN version 8005\n"
     ]
    },
    {
     "name": "stdout",
     "output_type": "stream",
     "text": [
      "\n",
      "MVSA-Single: densenet201-bert-pos-lstm\n",
      "\n",
      "MVSA-Single: densenet201-bert-pos-ner-lstm\n",
      "\n"
     ]
    }
   ],
   "source": [
    "print('MVSA-Single with Intermediate Fusion\\n')\n",
    "scores = []\n",
    "\n",
    "for i in range(len(feature_names)):\n",
    "    print('MVSA-Single:', feature_names[i])\n",
    "    if 'lstm' in feature_names[i]:\n",
    "        _, score = run_and_evaluate_IF('single-IF-' + feature_names[i], mvsa_single_features[i][0], mvsa_single_features[i][1], \n",
    "                                     mvsa_single_multimodal_labels,\n",
    "                                     verbose=0)\n",
    "    else:\n",
    "        _, score = run_and_evaluate_IF('single-IF-' + feature_names[i], mvsa_single_features[i][0], mvsa_single_features[i][1],\n",
    "                                     mvsa_single_multimodal_labels,\n",
    "                                     verbose=0, lstm=False)\n",
    "    scores.append(score)\n",
    "    print()\n",
    "\n",
    "df_single_scores_IF = pd.DataFrame(scores, columns=['Loss', 'Accuracy', 'F1-macro', 'F1-weighted'], index=feature_names)"
   ]
  },
  {
   "cell_type": "code",
   "execution_count": 21,
   "id": "d0565444",
   "metadata": {
    "execution": {
     "iopub.execute_input": "2022-07-05T06:18:46.789603Z",
     "iopub.status.busy": "2022-07-05T06:18:46.789102Z",
     "iopub.status.idle": "2022-07-05T06:19:38.374273Z",
     "shell.execute_reply": "2022-07-05T06:19:38.373280Z"
    },
    "papermill": {
     "duration": 51.608491,
     "end_time": "2022-07-05T06:19:38.376470",
     "exception": false,
     "start_time": "2022-07-05T06:18:46.767979",
     "status": "completed"
    },
    "tags": []
   },
   "outputs": [
    {
     "name": "stdout",
     "output_type": "stream",
     "text": [
      "MVSA-Multiple with Intermediate Fusion\n",
      "\n",
      "MVSA-Multiple: resnet152-bert\n",
      "\n",
      "MVSA-Multiple: resnet152-bert-lstm\n",
      "\n",
      "MVSA-Multiple: densenet201-bert-pos-lstm\n",
      "\n",
      "MVSA-Multiple: densenet201-bert-pos-ner-lstm\n",
      "\n"
     ]
    }
   ],
   "source": [
    "print('MVSA-Multiple with Intermediate Fusion\\n')\n",
    "scores = []\n",
    "\n",
    "for i in range(len(feature_names)):\n",
    "    print('MVSA-Multiple:', feature_names[i])\n",
    "    if 'lstm' in feature_names[i]:\n",
    "        _, score = run_and_evaluate_IF('multiple-IF-' + feature_names[i], mvsa_multiple_features[i][0], mvsa_multiple_features[i][1], \n",
    "                                     mvsa_multiple_multimodal_labels,\n",
    "                                     verbose=0)\n",
    "    else:\n",
    "        _, score = run_and_evaluate_IF('multiple-IF-' + feature_names[i], mvsa_multiple_features[i][0], mvsa_multiple_features[i][1],\n",
    "                                     mvsa_multiple_multimodal_labels,\n",
    "                                     verbose=0, lstm=False)\n",
    "    scores.append(score)\n",
    "    print()\n",
    "\n",
    "df_multiple_scores_IF = pd.DataFrame(scores, columns=['Loss', 'Accuracy', 'F1-macro', 'F1-weighted'], index=feature_names)"
   ]
  },
  {
   "cell_type": "markdown",
   "id": "2cf63920",
   "metadata": {
    "papermill": {
     "duration": 0.008846,
     "end_time": "2022-07-05T06:19:38.394734",
     "exception": false,
     "start_time": "2022-07-05T06:19:38.385888",
     "status": "completed"
    },
    "tags": []
   },
   "source": [
    "# Late Fusion"
   ]
  },
  {
   "cell_type": "code",
   "execution_count": 22,
   "id": "ac6988a9",
   "metadata": {
    "execution": {
     "iopub.execute_input": "2022-07-05T06:19:38.415145Z",
     "iopub.status.busy": "2022-07-05T06:19:38.413636Z",
     "iopub.status.idle": "2022-07-05T06:20:15.986503Z",
     "shell.execute_reply": "2022-07-05T06:20:15.985361Z"
    },
    "papermill": {
     "duration": 37.585695,
     "end_time": "2022-07-05T06:20:15.989348",
     "exception": false,
     "start_time": "2022-07-05T06:19:38.403653",
     "status": "completed"
    },
    "tags": []
   },
   "outputs": [
    {
     "name": "stdout",
     "output_type": "stream",
     "text": [
      "MVSA-Single with Late Fusion\n",
      "\n",
      "MVSA-Single: resnet152-bert\n",
      "\n",
      "MVSA-Single: resnet152-bert-lstm\n",
      "\n",
      "MVSA-Single: densenet201-bert-pos-lstm\n",
      "\n",
      "MVSA-Single: densenet201-bert-pos-ner-lstm\n",
      "\n"
     ]
    }
   ],
   "source": [
    "print('MVSA-Single with Late Fusion\\n')\n",
    "scores = []\n",
    "\n",
    "for i in range(len(feature_names)):\n",
    "    print('MVSA-Single:', feature_names[i])\n",
    "    if 'lstm' in feature_names[i]:\n",
    "        score = run_and_evaluate_LF('single-LF-' + feature_names[i], mvsa_single_features[i][0], mvsa_single_features[i][1], \n",
    "                                     mvsa_single_multimodal_labels, mvsa_single_text_labels, mvsa_single_image_labels,\n",
    "                                     verbose=0)\n",
    "    else:\n",
    "        score = run_and_evaluate_LF('single-LF-' + feature_names[i], mvsa_single_features[i][0], mvsa_single_features[i][1],\n",
    "                                     mvsa_single_multimodal_labels, mvsa_single_text_labels, mvsa_single_image_labels,\n",
    "                                     verbose=0, lstm=False)\n",
    "    scores.append(score)\n",
    "    print()\n",
    "\n",
    "df_single_scores_LF = pd.DataFrame(scores, columns=['Accuracy', 'F1-macro', 'F1-weighted'], index=feature_names)"
   ]
  },
  {
   "cell_type": "code",
   "execution_count": 23,
   "id": "f9bab782",
   "metadata": {
    "execution": {
     "iopub.execute_input": "2022-07-05T06:20:16.009886Z",
     "iopub.status.busy": "2022-07-05T06:20:16.009605Z",
     "iopub.status.idle": "2022-07-05T06:21:27.836602Z",
     "shell.execute_reply": "2022-07-05T06:21:27.835595Z"
    },
    "papermill": {
     "duration": 71.849471,
     "end_time": "2022-07-05T06:21:27.848745",
     "exception": false,
     "start_time": "2022-07-05T06:20:15.999274",
     "status": "completed"
    },
    "tags": []
   },
   "outputs": [
    {
     "name": "stdout",
     "output_type": "stream",
     "text": [
      "MVSA-Multiple with Late Fusion\n",
      "\n",
      "MVSA-Multiple: resnet152-bert\n",
      "\n",
      "MVSA-Multiple: resnet152-bert-lstm\n",
      "\n",
      "MVSA-Multiple: densenet201-bert-pos-lstm\n",
      "\n",
      "MVSA-Multiple: densenet201-bert-pos-ner-lstm\n",
      "\n"
     ]
    }
   ],
   "source": [
    "print('MVSA-Multiple with Late Fusion\\n')\n",
    "scores = []\n",
    "\n",
    "for i in range(len(feature_names)):\n",
    "    print('MVSA-Multiple:', feature_names[i])\n",
    "    if 'lstm' in feature_names[i]:\n",
    "        score = run_and_evaluate_LF('multiple-LF-' + feature_names[i], mvsa_multiple_features[i][0], mvsa_multiple_features[i][1], \n",
    "                                     mvsa_multiple_multimodal_labels, mvsa_multiple_text_labels, mvsa_multiple_image_labels,\n",
    "                                     verbose=0)\n",
    "    else:\n",
    "        score = run_and_evaluate_LF('multiple-LF-' + feature_names[i], mvsa_multiple_features[i][0], mvsa_multiple_features[i][1],\n",
    "                                     mvsa_multiple_multimodal_labels, mvsa_multiple_text_labels, mvsa_multiple_image_labels,\n",
    "                                     verbose=0, lstm=False)\n",
    "    scores.append(score)\n",
    "    print()\n",
    "\n",
    "df_multiple_scores_LF = pd.DataFrame(scores, columns=['Accuracy', 'F1-macro', 'F1-weighted'], index=feature_names)"
   ]
  },
  {
   "cell_type": "markdown",
   "id": "5fcf4b99",
   "metadata": {
    "papermill": {
     "duration": 0.009367,
     "end_time": "2022-07-05T06:21:27.868731",
     "exception": false,
     "start_time": "2022-07-05T06:21:27.859364",
     "status": "completed"
    },
    "tags": []
   },
   "source": [
    "# Hybrid Fusion"
   ]
  },
  {
   "cell_type": "code",
   "execution_count": 24,
   "id": "21ce5795",
   "metadata": {
    "execution": {
     "iopub.execute_input": "2022-07-05T06:21:27.889370Z",
     "iopub.status.busy": "2022-07-05T06:21:27.889039Z",
     "iopub.status.idle": "2022-07-05T06:22:42.923913Z",
     "shell.execute_reply": "2022-07-05T06:22:42.922700Z"
    },
    "papermill": {
     "duration": 75.057977,
     "end_time": "2022-07-05T06:22:42.936165",
     "exception": false,
     "start_time": "2022-07-05T06:21:27.878188",
     "status": "completed"
    },
    "tags": []
   },
   "outputs": [
    {
     "name": "stdout",
     "output_type": "stream",
     "text": [
      "MVSA-Single with Hybrid Fusion\n",
      "\n",
      "MVSA-Single: resnet152-bert\n",
      "\n",
      "MVSA-Single: resnet152-bert-lstm\n",
      "\n",
      "MVSA-Single: densenet201-bert-pos-lstm\n",
      "\n",
      "MVSA-Single: densenet201-bert-pos-ner-lstm\n",
      "\n"
     ]
    }
   ],
   "source": [
    "print('MVSA-Single with Hybrid Fusion\\n')\n",
    "scores = []\n",
    "\n",
    "for i in range(len(feature_names)):\n",
    "    print('MVSA-Single:', feature_names[i])\n",
    "    if 'lstm' in feature_names[i]:\n",
    "        score = run_and_evaluate_HF('single-HF-' + feature_names[i], mvsa_single_features[i][0], mvsa_single_features[i][1], \n",
    "                                     mvsa_single_multimodal_labels, mvsa_single_text_labels, mvsa_single_image_labels,\n",
    "                                     verbose=0)\n",
    "    else:\n",
    "        score = run_and_evaluate_HF('single-HF-' + feature_names[i], mvsa_single_features[i][0], mvsa_single_features[i][1],\n",
    "                                     mvsa_single_multimodal_labels, mvsa_single_text_labels, mvsa_single_image_labels,\n",
    "                                     verbose=0, lstm=False)\n",
    "    scores.append(score)\n",
    "    print()\n",
    "\n",
    "df_single_scores_HF = pd.DataFrame(scores, columns=['Accuracy', 'F1-macro', 'F1-weighted'], index=feature_names)"
   ]
  },
  {
   "cell_type": "code",
   "execution_count": 25,
   "id": "1aabb580",
   "metadata": {
    "execution": {
     "iopub.execute_input": "2022-07-05T06:22:42.957530Z",
     "iopub.status.busy": "2022-07-05T06:22:42.957162Z",
     "iopub.status.idle": "2022-07-05T06:24:42.350254Z",
     "shell.execute_reply": "2022-07-05T06:24:42.349107Z"
    },
    "papermill": {
     "duration": 119.417326,
     "end_time": "2022-07-05T06:24:42.363452",
     "exception": false,
     "start_time": "2022-07-05T06:22:42.946126",
     "status": "completed"
    },
    "tags": []
   },
   "outputs": [
    {
     "name": "stdout",
     "output_type": "stream",
     "text": [
      "MVSA-Multiple with Hybrid Fusion\n",
      "\n",
      "MVSA-Multiple: resnet152-bert\n",
      "\n",
      "MVSA-Multiple: resnet152-bert-lstm\n",
      "\n",
      "MVSA-Multiple: densenet201-bert-pos-lstm\n",
      "\n",
      "MVSA-Multiple: densenet201-bert-pos-ner-lstm\n",
      "\n"
     ]
    }
   ],
   "source": [
    "print('MVSA-Multiple with Hybrid Fusion\\n')\n",
    "scores = []\n",
    "\n",
    "for i in range(len(feature_names)):\n",
    "    print('MVSA-Multiple:', feature_names[i])\n",
    "    if 'lstm' in feature_names[i]:\n",
    "        score = run_and_evaluate_HF('multiple-HF-' + feature_names[i], mvsa_multiple_features[i][0], mvsa_multiple_features[i][1], \n",
    "                                     mvsa_multiple_multimodal_labels, mvsa_multiple_text_labels, mvsa_multiple_image_labels,\n",
    "                                     verbose=0)\n",
    "    else:\n",
    "        score = run_and_evaluate_HF('multiple-HF-' + feature_names[i], mvsa_multiple_features[i][0], mvsa_multiple_features[i][1],\n",
    "                                     mvsa_multiple_multimodal_labels, mvsa_multiple_text_labels, mvsa_multiple_image_labels,\n",
    "                                     verbose=0, lstm=False)\n",
    "    scores.append(score)\n",
    "    print()\n",
    "\n",
    "df_multiple_scores_HF = pd.DataFrame(scores, columns=['Accuracy', 'F1-macro', 'F1-weighted'], index=feature_names)"
   ]
  },
  {
   "cell_type": "markdown",
   "id": "68d446e5",
   "metadata": {
    "papermill": {
     "duration": 0.011561,
     "end_time": "2022-07-05T06:24:42.386746",
     "exception": false,
     "start_time": "2022-07-05T06:24:42.375185",
     "status": "completed"
    },
    "tags": []
   },
   "source": [
    "# Display results"
   ]
  },
  {
   "cell_type": "code",
   "execution_count": 26,
   "id": "481a41e7",
   "metadata": {
    "execution": {
     "iopub.execute_input": "2022-07-05T06:24:42.410837Z",
     "iopub.status.busy": "2022-07-05T06:24:42.410142Z",
     "iopub.status.idle": "2022-07-05T06:24:42.427440Z",
     "shell.execute_reply": "2022-07-05T06:24:42.426481Z"
    },
    "papermill": {
     "duration": 0.031693,
     "end_time": "2022-07-05T06:24:42.429596",
     "exception": false,
     "start_time": "2022-07-05T06:24:42.397903",
     "status": "completed"
    },
    "tags": []
   },
   "outputs": [],
   "source": [
    "df_single_scores_IF = df_single_scores_IF.drop(columns=['Loss'])\n",
    "df_multiple_scores_IF = df_multiple_scores_IF.drop(columns=['Loss'])"
   ]
  },
  {
   "cell_type": "code",
   "execution_count": 27,
   "id": "9baac64b",
   "metadata": {
    "execution": {
     "iopub.execute_input": "2022-07-05T06:24:42.454108Z",
     "iopub.status.busy": "2022-07-05T06:24:42.453211Z",
     "iopub.status.idle": "2022-07-05T06:24:42.537586Z",
     "shell.execute_reply": "2022-07-05T06:24:42.536483Z"
    },
    "papermill": {
     "duration": 0.098152,
     "end_time": "2022-07-05T06:24:42.539612",
     "exception": false,
     "start_time": "2022-07-05T06:24:42.441460",
     "status": "completed"
    },
    "tags": []
   },
   "outputs": [
    {
     "name": "stdout",
     "output_type": "stream",
     "text": [
      "Intermediate Fusion\n"
     ]
    },
    {
     "data": {
      "text/html": [
       "<table style=\"display:inline\"><tr><td style=\"text-align:center\">MVSA-Single</td><td style=\"text-align:center\">MVSA-Multiple</td></tr><tr><td style=\"vertical-align:top\"> <style type=\"text/css\">\n",
       "#T_d23f6_row0_col0, #T_d23f6_row1_col0, #T_d23f6_row1_col1, #T_d23f6_row1_col2 {\n",
       "  color: tomato;\n",
       "}\n",
       "#T_d23f6_row2_col0, #T_d23f6_row2_col2, #T_d23f6_row3_col1 {\n",
       "  color: lawngreen;\n",
       "}\n",
       "</style>\n",
       "<table style=\"display:inline\" id=\"T_d23f6_\">\n",
       "  <thead>\n",
       "    <tr>\n",
       "      <th class=\"blank level0\" >&nbsp;</th>\n",
       "      <th class=\"col_heading level0 col0\" >Accuracy</th>\n",
       "      <th class=\"col_heading level0 col1\" >F1-macro</th>\n",
       "      <th class=\"col_heading level0 col2\" >F1-weighted</th>\n",
       "    </tr>\n",
       "  </thead>\n",
       "  <tbody>\n",
       "    <tr>\n",
       "      <th id=\"T_d23f6_level0_row0\" class=\"row_heading level0 row0\" >resnet152-bert</th>\n",
       "      <td id=\"T_d23f6_row0_col0\" class=\"data row0 col0\" >0.603104</td>\n",
       "      <td id=\"T_d23f6_row0_col1\" class=\"data row0 col1\" >0.280481</td>\n",
       "      <td id=\"T_d23f6_row0_col2\" class=\"data row0 col2\" >0.482997</td>\n",
       "    </tr>\n",
       "    <tr>\n",
       "      <th id=\"T_d23f6_level0_row1\" class=\"row_heading level0 row1\" >resnet152-bert-lstm</th>\n",
       "      <td id=\"T_d23f6_row1_col0\" class=\"data row1 col0\" >0.603104</td>\n",
       "      <td id=\"T_d23f6_row1_col1\" class=\"data row1 col1\" >0.250807</td>\n",
       "      <td id=\"T_d23f6_row1_col2\" class=\"data row1 col2\" >0.453788</td>\n",
       "    </tr>\n",
       "    <tr>\n",
       "      <th id=\"T_d23f6_level0_row2\" class=\"row_heading level0 row2\" >densenet201-bert-pos-lstm</th>\n",
       "      <td id=\"T_d23f6_row2_col0\" class=\"data row2 col0\" >0.685144</td>\n",
       "      <td id=\"T_d23f6_row2_col1\" class=\"data row2 col1\" >0.506248</td>\n",
       "      <td id=\"T_d23f6_row2_col2\" class=\"data row2 col2\" >0.683706</td>\n",
       "    </tr>\n",
       "    <tr>\n",
       "      <th id=\"T_d23f6_level0_row3\" class=\"row_heading level0 row3\" >densenet201-bert-pos-ner-lstm</th>\n",
       "      <td id=\"T_d23f6_row3_col0\" class=\"data row3 col0\" >0.671840</td>\n",
       "      <td id=\"T_d23f6_row3_col1\" class=\"data row3 col1\" >0.512758</td>\n",
       "      <td id=\"T_d23f6_row3_col2\" class=\"data row3 col2\" >0.672824</td>\n",
       "    </tr>\n",
       "  </tbody>\n",
       "</table style=\"display:inline\">\n",
       "</td><td style=\"vertical-align:top\"> <style type=\"text/css\">\n",
       "#T_6834e_row1_col0, #T_6834e_row1_col1, #T_6834e_row1_col2 {\n",
       "  color: tomato;\n",
       "}\n",
       "#T_6834e_row2_col0, #T_6834e_row3_col1, #T_6834e_row3_col2 {\n",
       "  color: lawngreen;\n",
       "}\n",
       "</style>\n",
       "<table style=\"display:inline\" id=\"T_6834e_\">\n",
       "  <thead>\n",
       "    <tr>\n",
       "      <th class=\"blank level0\" >&nbsp;</th>\n",
       "      <th class=\"col_heading level0 col0\" >Accuracy</th>\n",
       "      <th class=\"col_heading level0 col1\" >F1-macro</th>\n",
       "      <th class=\"col_heading level0 col2\" >F1-weighted</th>\n",
       "    </tr>\n",
       "  </thead>\n",
       "  <tbody>\n",
       "    <tr>\n",
       "      <th id=\"T_6834e_level0_row0\" class=\"row_heading level0 row0\" >resnet152-bert</th>\n",
       "      <td id=\"T_6834e_row0_col0\" class=\"data row0 col0\" >0.641011</td>\n",
       "      <td id=\"T_6834e_row0_col1\" class=\"data row0 col1\" >0.263537</td>\n",
       "      <td id=\"T_6834e_row0_col2\" class=\"data row0 col2\" >0.502002</td>\n",
       "    </tr>\n",
       "    <tr>\n",
       "      <th id=\"T_6834e_level0_row1\" class=\"row_heading level0 row1\" >resnet152-bert-lstm</th>\n",
       "      <td id=\"T_6834e_row1_col0\" class=\"data row1 col0\" >0.639248</td>\n",
       "      <td id=\"T_6834e_row1_col1\" class=\"data row1 col1\" >0.259976</td>\n",
       "      <td id=\"T_6834e_row1_col2\" class=\"data row1 col2\" >0.499026</td>\n",
       "    </tr>\n",
       "    <tr>\n",
       "      <th id=\"T_6834e_level0_row2\" class=\"row_heading level0 row2\" >densenet201-bert-pos-lstm</th>\n",
       "      <td id=\"T_6834e_row2_col0\" class=\"data row2 col0\" >0.662162</td>\n",
       "      <td id=\"T_6834e_row2_col1\" class=\"data row2 col1\" >0.441042</td>\n",
       "      <td id=\"T_6834e_row2_col2\" class=\"data row2 col2\" >0.598979</td>\n",
       "    </tr>\n",
       "    <tr>\n",
       "      <th id=\"T_6834e_level0_row3\" class=\"row_heading level0 row3\" >densenet201-bert-pos-ner-lstm</th>\n",
       "      <td id=\"T_6834e_row3_col0\" class=\"data row3 col0\" >0.650999</td>\n",
       "      <td id=\"T_6834e_row3_col1\" class=\"data row3 col1\" >0.509096</td>\n",
       "      <td id=\"T_6834e_row3_col2\" class=\"data row3 col2\" >0.631882</td>\n",
       "    </tr>\n",
       "  </tbody>\n",
       "</table style=\"display:inline\">\n",
       "</td></tr></table style=\"display:inline\">"
      ]
     },
     "metadata": {},
     "output_type": "display_data"
    }
   ],
   "source": [
    "print('Intermediate Fusion')\n",
    "display_dataframes((style_dataframe(df_single_scores_IF), style_dataframe(df_multiple_scores_IF)), \n",
    "                   names=['MVSA-Single', 'MVSA-Multiple'])"
   ]
  },
  {
   "cell_type": "code",
   "execution_count": 28,
   "id": "b38f3c11",
   "metadata": {
    "execution": {
     "iopub.execute_input": "2022-07-05T06:24:42.563860Z",
     "iopub.status.busy": "2022-07-05T06:24:42.563061Z",
     "iopub.status.idle": "2022-07-05T06:24:42.590589Z",
     "shell.execute_reply": "2022-07-05T06:24:42.589415Z"
    },
    "papermill": {
     "duration": 0.042316,
     "end_time": "2022-07-05T06:24:42.593400",
     "exception": false,
     "start_time": "2022-07-05T06:24:42.551084",
     "status": "completed"
    },
    "tags": []
   },
   "outputs": [
    {
     "name": "stdout",
     "output_type": "stream",
     "text": [
      "Late Fusion with Original Labels\n"
     ]
    },
    {
     "data": {
      "text/html": [
       "<table style=\"display:inline\"><tr><td style=\"text-align:center\">MVSA-Single</td><td style=\"text-align:center\">MVSA-Multiple</td></tr><tr><td style=\"vertical-align:top\"> <style type=\"text/css\">\n",
       "#T_b05fb_row0_col0, #T_b05fb_row0_col1, #T_b05fb_row0_col2 {\n",
       "  color: tomato;\n",
       "}\n",
       "#T_b05fb_row3_col0, #T_b05fb_row3_col1, #T_b05fb_row3_col2 {\n",
       "  color: lawngreen;\n",
       "}\n",
       "</style>\n",
       "<table style=\"display:inline\" id=\"T_b05fb_\">\n",
       "  <thead>\n",
       "    <tr>\n",
       "      <th class=\"blank level0\" >&nbsp;</th>\n",
       "      <th class=\"col_heading level0 col0\" >Accuracy</th>\n",
       "      <th class=\"col_heading level0 col1\" >F1-macro</th>\n",
       "      <th class=\"col_heading level0 col2\" >F1-weighted</th>\n",
       "    </tr>\n",
       "  </thead>\n",
       "  <tbody>\n",
       "    <tr>\n",
       "      <th id=\"T_b05fb_level0_row0\" class=\"row_heading level0 row0\" >resnet152-bert</th>\n",
       "      <td id=\"T_b05fb_row0_col0\" class=\"data row0 col0\" >0.445676</td>\n",
       "      <td id=\"T_b05fb_row0_col1\" class=\"data row0 col1\" >0.390508</td>\n",
       "      <td id=\"T_b05fb_row0_col2\" class=\"data row0 col2\" >0.528355</td>\n",
       "    </tr>\n",
       "    <tr>\n",
       "      <th id=\"T_b05fb_level0_row1\" class=\"row_heading level0 row1\" >resnet152-bert-lstm</th>\n",
       "      <td id=\"T_b05fb_row1_col0\" class=\"data row1 col0\" >0.452328</td>\n",
       "      <td id=\"T_b05fb_row1_col1\" class=\"data row1 col1\" >0.392508</td>\n",
       "      <td id=\"T_b05fb_row1_col2\" class=\"data row1 col2\" >0.531224</td>\n",
       "    </tr>\n",
       "    <tr>\n",
       "      <th id=\"T_b05fb_level0_row2\" class=\"row_heading level0 row2\" >densenet201-bert-pos-lstm</th>\n",
       "      <td id=\"T_b05fb_row2_col0\" class=\"data row2 col0\" >0.496674</td>\n",
       "      <td id=\"T_b05fb_row2_col1\" class=\"data row2 col1\" >0.422446</td>\n",
       "      <td id=\"T_b05fb_row2_col2\" class=\"data row2 col2\" >0.569828</td>\n",
       "    </tr>\n",
       "    <tr>\n",
       "      <th id=\"T_b05fb_level0_row3\" class=\"row_heading level0 row3\" >densenet201-bert-pos-ner-lstm</th>\n",
       "      <td id=\"T_b05fb_row3_col0\" class=\"data row3 col0\" >0.518847</td>\n",
       "      <td id=\"T_b05fb_row3_col1\" class=\"data row3 col1\" >0.439503</td>\n",
       "      <td id=\"T_b05fb_row3_col2\" class=\"data row3 col2\" >0.586888</td>\n",
       "    </tr>\n",
       "  </tbody>\n",
       "</table style=\"display:inline\">\n",
       "</td><td style=\"vertical-align:top\"> <style type=\"text/css\">\n",
       "#T_cea1b_row1_col0, #T_cea1b_row2_col1, #T_cea1b_row2_col2 {\n",
       "  color: lawngreen;\n",
       "}\n",
       "#T_cea1b_row1_col1, #T_cea1b_row1_col2, #T_cea1b_row3_col0 {\n",
       "  color: tomato;\n",
       "}\n",
       "</style>\n",
       "<table style=\"display:inline\" id=\"T_cea1b_\">\n",
       "  <thead>\n",
       "    <tr>\n",
       "      <th class=\"blank level0\" >&nbsp;</th>\n",
       "      <th class=\"col_heading level0 col0\" >Accuracy</th>\n",
       "      <th class=\"col_heading level0 col1\" >F1-macro</th>\n",
       "      <th class=\"col_heading level0 col2\" >F1-weighted</th>\n",
       "    </tr>\n",
       "  </thead>\n",
       "  <tbody>\n",
       "    <tr>\n",
       "      <th id=\"T_cea1b_level0_row0\" class=\"row_heading level0 row0\" >resnet152-bert</th>\n",
       "      <td id=\"T_cea1b_row0_col0\" class=\"data row0 col0\" >0.639835</td>\n",
       "      <td id=\"T_cea1b_row0_col1\" class=\"data row0 col1\" >0.422124</td>\n",
       "      <td id=\"T_cea1b_row0_col2\" class=\"data row0 col2\" >0.601010</td>\n",
       "    </tr>\n",
       "    <tr>\n",
       "      <th id=\"T_cea1b_level0_row1\" class=\"row_heading level0 row1\" >resnet152-bert-lstm</th>\n",
       "      <td id=\"T_cea1b_row1_col0\" class=\"data row1 col0\" >0.650999</td>\n",
       "      <td id=\"T_cea1b_row1_col1\" class=\"data row1 col1\" >0.381679</td>\n",
       "      <td id=\"T_cea1b_row1_col2\" class=\"data row1 col2\" >0.583482</td>\n",
       "    </tr>\n",
       "    <tr>\n",
       "      <th id=\"T_cea1b_level0_row2\" class=\"row_heading level0 row2\" >densenet201-bert-pos-lstm</th>\n",
       "      <td id=\"T_cea1b_row2_col0\" class=\"data row2 col0\" >0.643361</td>\n",
       "      <td id=\"T_cea1b_row2_col1\" class=\"data row2 col1\" >0.429266</td>\n",
       "      <td id=\"T_cea1b_row2_col2\" class=\"data row2 col2\" >0.609422</td>\n",
       "    </tr>\n",
       "    <tr>\n",
       "      <th id=\"T_cea1b_level0_row3\" class=\"row_heading level0 row3\" >densenet201-bert-pos-ner-lstm</th>\n",
       "      <td id=\"T_cea1b_row3_col0\" class=\"data row3 col0\" >0.638660</td>\n",
       "      <td id=\"T_cea1b_row3_col1\" class=\"data row3 col1\" >0.419128</td>\n",
       "      <td id=\"T_cea1b_row3_col2\" class=\"data row3 col2\" >0.602845</td>\n",
       "    </tr>\n",
       "  </tbody>\n",
       "</table style=\"display:inline\">\n",
       "</td></tr></table style=\"display:inline\">"
      ]
     },
     "metadata": {},
     "output_type": "display_data"
    }
   ],
   "source": [
    "print('Late Fusion with Original Labels')\n",
    "display_dataframes((style_dataframe(df_single_scores_LF), style_dataframe(df_multiple_scores_LF)), \n",
    "                   names=['MVSA-Single', 'MVSA-Multiple'])"
   ]
  },
  {
   "cell_type": "code",
   "execution_count": 29,
   "id": "d1018fec",
   "metadata": {
    "execution": {
     "iopub.execute_input": "2022-07-05T06:24:42.619028Z",
     "iopub.status.busy": "2022-07-05T06:24:42.618783Z",
     "iopub.status.idle": "2022-07-05T06:24:42.646371Z",
     "shell.execute_reply": "2022-07-05T06:24:42.644476Z"
    },
    "papermill": {
     "duration": 0.043284,
     "end_time": "2022-07-05T06:24:42.649551",
     "exception": false,
     "start_time": "2022-07-05T06:24:42.606267",
     "status": "completed"
    },
    "tags": []
   },
   "outputs": [
    {
     "name": "stdout",
     "output_type": "stream",
     "text": [
      "Hybrid Fusion with Original Labels\n"
     ]
    },
    {
     "data": {
      "text/html": [
       "<table style=\"display:inline\"><tr><td style=\"text-align:center\">MVSA-Single</td><td style=\"text-align:center\">MVSA-Multiple</td></tr><tr><td style=\"vertical-align:top\"> <style type=\"text/css\">\n",
       "#T_afe26_row1_col0, #T_afe26_row1_col1, #T_afe26_row1_col2 {\n",
       "  color: tomato;\n",
       "}\n",
       "#T_afe26_row2_col0, #T_afe26_row2_col1, #T_afe26_row2_col2 {\n",
       "  color: lawngreen;\n",
       "}\n",
       "</style>\n",
       "<table style=\"display:inline\" id=\"T_afe26_\">\n",
       "  <thead>\n",
       "    <tr>\n",
       "      <th class=\"blank level0\" >&nbsp;</th>\n",
       "      <th class=\"col_heading level0 col0\" >Accuracy</th>\n",
       "      <th class=\"col_heading level0 col1\" >F1-macro</th>\n",
       "      <th class=\"col_heading level0 col2\" >F1-weighted</th>\n",
       "    </tr>\n",
       "  </thead>\n",
       "  <tbody>\n",
       "    <tr>\n",
       "      <th id=\"T_afe26_level0_row0\" class=\"row_heading level0 row0\" >resnet152-bert</th>\n",
       "      <td id=\"T_afe26_row0_col0\" class=\"data row0 col0\" >0.585366</td>\n",
       "      <td id=\"T_afe26_row0_col1\" class=\"data row0 col1\" >0.405077</td>\n",
       "      <td id=\"T_afe26_row0_col2\" class=\"data row0 col2\" >0.570085</td>\n",
       "    </tr>\n",
       "    <tr>\n",
       "      <th id=\"T_afe26_level0_row1\" class=\"row_heading level0 row1\" >resnet152-bert-lstm</th>\n",
       "      <td id=\"T_afe26_row1_col0\" class=\"data row1 col0\" >0.556541</td>\n",
       "      <td id=\"T_afe26_row1_col1\" class=\"data row1 col1\" >0.386825</td>\n",
       "      <td id=\"T_afe26_row1_col2\" class=\"data row1 col2\" >0.541658</td>\n",
       "    </tr>\n",
       "    <tr>\n",
       "      <th id=\"T_afe26_level0_row2\" class=\"row_heading level0 row2\" >densenet201-bert-pos-lstm</th>\n",
       "      <td id=\"T_afe26_row2_col0\" class=\"data row2 col0\" >0.660754</td>\n",
       "      <td id=\"T_afe26_row2_col1\" class=\"data row2 col1\" >0.511143</td>\n",
       "      <td id=\"T_afe26_row2_col2\" class=\"data row2 col2\" >0.684660</td>\n",
       "    </tr>\n",
       "    <tr>\n",
       "      <th id=\"T_afe26_level0_row3\" class=\"row_heading level0 row3\" >densenet201-bert-pos-ner-lstm</th>\n",
       "      <td id=\"T_afe26_row3_col0\" class=\"data row3 col0\" >0.645233</td>\n",
       "      <td id=\"T_afe26_row3_col1\" class=\"data row3 col1\" >0.506161</td>\n",
       "      <td id=\"T_afe26_row3_col2\" class=\"data row3 col2\" >0.679055</td>\n",
       "    </tr>\n",
       "  </tbody>\n",
       "</table style=\"display:inline\">\n",
       "</td><td style=\"vertical-align:top\"> <style type=\"text/css\">\n",
       "#T_94f54_row0_col0, #T_94f54_row0_col1, #T_94f54_row0_col2 {\n",
       "  color: tomato;\n",
       "}\n",
       "#T_94f54_row2_col0, #T_94f54_row2_col1, #T_94f54_row2_col2 {\n",
       "  color: lawngreen;\n",
       "}\n",
       "</style>\n",
       "<table style=\"display:inline\" id=\"T_94f54_\">\n",
       "  <thead>\n",
       "    <tr>\n",
       "      <th class=\"blank level0\" >&nbsp;</th>\n",
       "      <th class=\"col_heading level0 col0\" >Accuracy</th>\n",
       "      <th class=\"col_heading level0 col1\" >F1-macro</th>\n",
       "      <th class=\"col_heading level0 col2\" >F1-weighted</th>\n",
       "    </tr>\n",
       "  </thead>\n",
       "  <tbody>\n",
       "    <tr>\n",
       "      <th id=\"T_94f54_level0_row0\" class=\"row_heading level0 row0\" >resnet152-bert</th>\n",
       "      <td id=\"T_94f54_row0_col0\" class=\"data row0 col0\" >0.642186</td>\n",
       "      <td id=\"T_94f54_row0_col1\" class=\"data row0 col1\" >0.273151</td>\n",
       "      <td id=\"T_94f54_row0_col2\" class=\"data row0 col2\" >0.509388</td>\n",
       "    </tr>\n",
       "    <tr>\n",
       "      <th id=\"T_94f54_level0_row1\" class=\"row_heading level0 row1\" >resnet152-bert-lstm</th>\n",
       "      <td id=\"T_94f54_row1_col0\" class=\"data row1 col0\" >0.642773</td>\n",
       "      <td id=\"T_94f54_row1_col1\" class=\"data row1 col1\" >0.274651</td>\n",
       "      <td id=\"T_94f54_row1_col2\" class=\"data row1 col2\" >0.510363</td>\n",
       "    </tr>\n",
       "    <tr>\n",
       "      <th id=\"T_94f54_level0_row2\" class=\"row_heading level0 row2\" >densenet201-bert-pos-lstm</th>\n",
       "      <td id=\"T_94f54_row2_col0\" class=\"data row2 col0\" >0.663337</td>\n",
       "      <td id=\"T_94f54_row2_col1\" class=\"data row2 col1\" >0.457660</td>\n",
       "      <td id=\"T_94f54_row2_col2\" class=\"data row2 col2\" >0.620805</td>\n",
       "    </tr>\n",
       "    <tr>\n",
       "      <th id=\"T_94f54_level0_row3\" class=\"row_heading level0 row3\" >densenet201-bert-pos-ner-lstm</th>\n",
       "      <td id=\"T_94f54_row3_col0\" class=\"data row3 col0\" >0.653349</td>\n",
       "      <td id=\"T_94f54_row3_col1\" class=\"data row3 col1\" >0.434296</td>\n",
       "      <td id=\"T_94f54_row3_col2\" class=\"data row3 col2\" >0.605280</td>\n",
       "    </tr>\n",
       "  </tbody>\n",
       "</table style=\"display:inline\">\n",
       "</td></tr></table style=\"display:inline\">"
      ]
     },
     "metadata": {},
     "output_type": "display_data"
    }
   ],
   "source": [
    "print('Hybrid Fusion with Original Labels')\n",
    "display_dataframes((style_dataframe(df_single_scores_HF), style_dataframe(df_multiple_scores_HF)), \n",
    "                   names=['MVSA-Single', 'MVSA-Multiple'])"
   ]
  },
  {
   "cell_type": "code",
   "execution_count": 30,
   "id": "741580c5",
   "metadata": {
    "execution": {
     "iopub.execute_input": "2022-07-05T06:24:42.674789Z",
     "iopub.status.busy": "2022-07-05T06:24:42.674101Z",
     "iopub.status.idle": "2022-07-05T06:24:42.683745Z",
     "shell.execute_reply": "2022-07-05T06:24:42.682296Z"
    },
    "papermill": {
     "duration": 0.024799,
     "end_time": "2022-07-05T06:24:42.686140",
     "exception": false,
     "start_time": "2022-07-05T06:24:42.661341",
     "status": "completed"
    },
    "tags": []
   },
   "outputs": [],
   "source": [
    "# get max values of late and intermediate fusion\n",
    "df_single_higher_fusion = pd.DataFrame(np.where(df_single_scores_LF.gt(df_single_scores_IF.values), df_single_scores_LF.values, df_single_scores_IF.values),\n",
    "                 columns=['Accuracy','F1-macro','F1-weighted'], index=feature_names)\n",
    "\n",
    "df_multiple_higher_fusion = pd.DataFrame(np.where(df_single_scores_LF.gt(df_single_scores_IF.values), df_multiple_scores_LF.values, df_multiple_scores_IF.values),\n",
    "                 columns=['Accuracy','F1-macro','F1-weighted'], index=feature_names)\n",
    "\n",
    "df_single_subtract = df_single_scores_HF.subtract(df_single_higher_fusion)\n",
    "df_multiple_subtract = df_multiple_scores_HF.subtract(df_multiple_higher_fusion)"
   ]
  },
  {
   "cell_type": "code",
   "execution_count": 31,
   "id": "3c44f990",
   "metadata": {
    "execution": {
     "iopub.execute_input": "2022-07-05T06:24:42.711847Z",
     "iopub.status.busy": "2022-07-05T06:24:42.711261Z",
     "iopub.status.idle": "2022-07-05T06:24:42.741443Z",
     "shell.execute_reply": "2022-07-05T06:24:42.740121Z"
    },
    "papermill": {
     "duration": 0.045184,
     "end_time": "2022-07-05T06:24:42.743506",
     "exception": false,
     "start_time": "2022-07-05T06:24:42.698322",
     "status": "completed"
    },
    "tags": []
   },
   "outputs": [
    {
     "name": "stdout",
     "output_type": "stream",
     "text": [
      "Compare Hybrid Fusion scores up\n"
     ]
    },
    {
     "data": {
      "text/html": [
       "<table style=\"display:inline\"><tr><td style=\"text-align:center\">MVSA-Single</td><td style=\"text-align:center\">MVSA-Multiple</td></tr><tr><td style=\"vertical-align:top\"> <style type=\"text/css\">\n",
       "#T_5b862_row0_col0, #T_5b862_row0_col1, #T_5b862_row0_col2 {\n",
       "  color: lawngreen;\n",
       "}\n",
       "#T_5b862_row1_col0, #T_5b862_row2_col2, #T_5b862_row3_col1 {\n",
       "  color: tomato;\n",
       "}\n",
       "</style>\n",
       "<table style=\"display:inline\" id=\"T_5b862_\">\n",
       "  <thead>\n",
       "    <tr>\n",
       "      <th class=\"blank level0\" >&nbsp;</th>\n",
       "      <th class=\"col_heading level0 col0\" >Accuracy</th>\n",
       "      <th class=\"col_heading level0 col1\" >F1-macro</th>\n",
       "      <th class=\"col_heading level0 col2\" >F1-weighted</th>\n",
       "    </tr>\n",
       "  </thead>\n",
       "  <tbody>\n",
       "    <tr>\n",
       "      <th id=\"T_5b862_level0_row0\" class=\"row_heading level0 row0\" >resnet152-bert</th>\n",
       "      <td id=\"T_5b862_row0_col0\" class=\"data row0 col0\" >-0.017738</td>\n",
       "      <td id=\"T_5b862_row0_col1\" class=\"data row0 col1\" >0.014570</td>\n",
       "      <td id=\"T_5b862_row0_col2\" class=\"data row0 col2\" >0.041730</td>\n",
       "    </tr>\n",
       "    <tr>\n",
       "      <th id=\"T_5b862_level0_row1\" class=\"row_heading level0 row1\" >resnet152-bert-lstm</th>\n",
       "      <td id=\"T_5b862_row1_col0\" class=\"data row1 col0\" >-0.046563</td>\n",
       "      <td id=\"T_5b862_row1_col1\" class=\"data row1 col1\" >-0.005684</td>\n",
       "      <td id=\"T_5b862_row1_col2\" class=\"data row1 col2\" >0.010434</td>\n",
       "    </tr>\n",
       "    <tr>\n",
       "      <th id=\"T_5b862_level0_row2\" class=\"row_heading level0 row2\" >densenet201-bert-pos-lstm</th>\n",
       "      <td id=\"T_5b862_row2_col0\" class=\"data row2 col0\" >-0.024390</td>\n",
       "      <td id=\"T_5b862_row2_col1\" class=\"data row2 col1\" >0.004896</td>\n",
       "      <td id=\"T_5b862_row2_col2\" class=\"data row2 col2\" >0.000954</td>\n",
       "    </tr>\n",
       "    <tr>\n",
       "      <th id=\"T_5b862_level0_row3\" class=\"row_heading level0 row3\" >densenet201-bert-pos-ner-lstm</th>\n",
       "      <td id=\"T_5b862_row3_col0\" class=\"data row3 col0\" >-0.026608</td>\n",
       "      <td id=\"T_5b862_row3_col1\" class=\"data row3 col1\" >-0.006597</td>\n",
       "      <td id=\"T_5b862_row3_col2\" class=\"data row3 col2\" >0.006231</td>\n",
       "    </tr>\n",
       "  </tbody>\n",
       "</table style=\"display:inline\">\n",
       "</td><td style=\"vertical-align:top\"> <style type=\"text/css\">\n",
       "#T_43500_row0_col1, #T_43500_row0_col2, #T_43500_row2_col0 {\n",
       "  color: tomato;\n",
       "}\n",
       "#T_43500_row1_col0, #T_43500_row2_col1, #T_43500_row2_col2 {\n",
       "  color: lawngreen;\n",
       "}\n",
       "</style>\n",
       "<table style=\"display:inline\" id=\"T_43500_\">\n",
       "  <thead>\n",
       "    <tr>\n",
       "      <th class=\"blank level0\" >&nbsp;</th>\n",
       "      <th class=\"col_heading level0 col0\" >Accuracy</th>\n",
       "      <th class=\"col_heading level0 col1\" >F1-macro</th>\n",
       "      <th class=\"col_heading level0 col2\" >F1-weighted</th>\n",
       "    </tr>\n",
       "  </thead>\n",
       "  <tbody>\n",
       "    <tr>\n",
       "      <th id=\"T_43500_level0_row0\" class=\"row_heading level0 row0\" >resnet152-bert</th>\n",
       "      <td id=\"T_43500_row0_col0\" class=\"data row0 col0\" >0.001175</td>\n",
       "      <td id=\"T_43500_row0_col1\" class=\"data row0 col1\" >-0.148973</td>\n",
       "      <td id=\"T_43500_row0_col2\" class=\"data row0 col2\" >-0.091622</td>\n",
       "    </tr>\n",
       "    <tr>\n",
       "      <th id=\"T_43500_level0_row1\" class=\"row_heading level0 row1\" >resnet152-bert-lstm</th>\n",
       "      <td id=\"T_43500_row1_col0\" class=\"data row1 col0\" >0.003525</td>\n",
       "      <td id=\"T_43500_row1_col1\" class=\"data row1 col1\" >-0.107028</td>\n",
       "      <td id=\"T_43500_row1_col2\" class=\"data row1 col2\" >-0.073120</td>\n",
       "    </tr>\n",
       "    <tr>\n",
       "      <th id=\"T_43500_level0_row2\" class=\"row_heading level0 row2\" >densenet201-bert-pos-lstm</th>\n",
       "      <td id=\"T_43500_row2_col0\" class=\"data row2 col0\" >0.001175</td>\n",
       "      <td id=\"T_43500_row2_col1\" class=\"data row2 col1\" >0.016618</td>\n",
       "      <td id=\"T_43500_row2_col2\" class=\"data row2 col2\" >0.021826</td>\n",
       "    </tr>\n",
       "    <tr>\n",
       "      <th id=\"T_43500_level0_row3\" class=\"row_heading level0 row3\" >densenet201-bert-pos-ner-lstm</th>\n",
       "      <td id=\"T_43500_row3_col0\" class=\"data row3 col0\" >0.002350</td>\n",
       "      <td id=\"T_43500_row3_col1\" class=\"data row3 col1\" >-0.074800</td>\n",
       "      <td id=\"T_43500_row3_col2\" class=\"data row3 col2\" >-0.026603</td>\n",
       "    </tr>\n",
       "  </tbody>\n",
       "</table style=\"display:inline\">\n",
       "</td></tr></table style=\"display:inline\">"
      ]
     },
     "metadata": {},
     "output_type": "display_data"
    }
   ],
   "source": [
    "print('Compare Hybrid Fusion scores up')\n",
    "display_dataframes((style_dataframe(df_single_subtract), style_dataframe(df_multiple_subtract)), \n",
    "                   names=['MVSA-Single', 'MVSA-Multiple'])"
   ]
  },
  {
   "cell_type": "markdown",
   "id": "db3f30ea",
   "metadata": {
    "papermill": {
     "duration": 0.013045,
     "end_time": "2022-07-05T06:24:42.769114",
     "exception": false,
     "start_time": "2022-07-05T06:24:42.756069",
     "status": "completed"
    },
    "tags": []
   },
   "source": [
    "# Drafts"
   ]
  },
  {
   "cell_type": "code",
   "execution_count": 32,
   "id": "ca2881f6",
   "metadata": {
    "execution": {
     "iopub.execute_input": "2022-07-05T06:24:42.794713Z",
     "iopub.status.busy": "2022-07-05T06:24:42.794443Z",
     "iopub.status.idle": "2022-07-05T06:24:42.798675Z",
     "shell.execute_reply": "2022-07-05T06:24:42.797246Z"
    },
    "papermill": {
     "duration": 0.019726,
     "end_time": "2022-07-05T06:24:42.800992",
     "exception": false,
     "start_time": "2022-07-05T06:24:42.781266",
     "status": "completed"
    },
    "tags": []
   },
   "outputs": [],
   "source": [
    "# mvsa_single_text_features = np.concatenate((mvsa_single_bert, mvsa_single_pos_tfidf), axis=1)\n",
    "# mvsa_multiple_text_features = np.concatenate((mvsa_multiple_bert, mvsa_multiple_pos_tfidf), axis=1)\n",
    "\n",
    "# mvsa_single_image_features = mvsa_single_densenet201\n",
    "# mvsa_multiple_image_features = mvsa_multiple_densenet201\n",
    "\n",
    "# print('Text vector shape:', mvsa_single_text_features.shape[1:])\n",
    "# print('Image vector shape:', mvsa_single_image_features.shape[1:])"
   ]
  }
 ],
 "metadata": {
  "kernelspec": {
   "display_name": "Python 3",
   "language": "python",
   "name": "python3"
  },
  "language_info": {
   "codemirror_mode": {
    "name": "ipython",
    "version": 3
   },
   "file_extension": ".py",
   "mimetype": "text/x-python",
   "name": "python",
   "nbconvert_exporter": "python",
   "pygments_lexer": "ipython3",
   "version": "3.7.12"
  },
  "papermill": {
   "default_parameters": {},
   "duration": 422.507249,
   "end_time": "2022-07-05T06:24:46.418336",
   "environment_variables": {},
   "exception": null,
   "input_path": "__notebook__.ipynb",
   "output_path": "__notebook__.ipynb",
   "parameters": {},
   "start_time": "2022-07-05T06:17:43.911087",
   "version": "2.3.4"
  }
 },
 "nbformat": 4,
 "nbformat_minor": 5
}
