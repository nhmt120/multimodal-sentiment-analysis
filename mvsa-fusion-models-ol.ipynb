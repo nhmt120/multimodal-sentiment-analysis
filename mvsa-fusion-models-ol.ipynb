{
 "cells": [
  {
   "cell_type": "code",
   "execution_count": 1,
   "id": "658ae070",
   "metadata": {
    "_cell_guid": "b1076dfc-b9ad-4769-8c92-a6c4dae69d19",
    "_uuid": "8f2839f25d086af736a60e9eeb907d3b93b6e0e5",
    "execution": {
     "iopub.execute_input": "2022-07-13T16:38:01.632722Z",
     "iopub.status.busy": "2022-07-13T16:38:01.632214Z",
     "iopub.status.idle": "2022-07-13T16:38:12.217596Z",
     "shell.execute_reply": "2022-07-13T16:38:12.216631Z"
    },
    "papermill": {
     "duration": 10.605592,
     "end_time": "2022-07-13T16:38:12.220149",
     "exception": false,
     "start_time": "2022-07-13T16:38:01.614557",
     "status": "completed"
    },
    "tags": []
   },
   "outputs": [],
   "source": [
    "SEED = 61\n",
    "\n",
    "import os\n",
    "import re\n",
    "import gc\n",
    "import h5py\n",
    "import torch\n",
    "import numpy as np\n",
    "import pandas as pd\n",
    "import tensorflow as tf\n",
    "import random as python_random\n",
    "import tensorflow_addons as tfa\n",
    "import matplotlib.pyplot as plt\n",
    "\n",
    "from tqdm import tqdm\n",
    "from nltk import tokenize\n",
    "from IPython.display import display_html\n",
    "from transformers import BertTokenizer, BertForMaskedLM, BertModel\n",
    "from tensorflow.python.keras.layers import Layer, InputSpec, Lambda\n",
    "from imblearn.over_sampling import SMOTE\n",
    "from imblearn.over_sampling import BorderlineSMOTE\n",
    "\n",
    "from sklearn import preprocessing\n",
    "from sklearn.decomposition import PCA\n",
    "from sklearn.model_selection import RepeatedKFold, KFold\n",
    "from sklearn.model_selection import cross_val_score\n",
    "from sklearn.metrics import f1_score, accuracy_score, confusion_matrix, ConfusionMatrixDisplay, classification_report\n",
    "\n",
    "from keras import backend as K\n",
    "from keras import initializers,regularizers,constraints\n",
    "from keras.preprocessing.text import Tokenizer, text_to_word_sequence\n",
    "from keras.preprocessing.sequence import pad_sequences\n",
    "from keras.utils.np_utils import to_categorical\n",
    "from keras.layers import Reshape, Input, Embedding, Flatten, Dense, Dropout, BatchNormalization, Activation #, merge\n",
    "from keras.layers import TimeDistributed, LSTM, GRU, Bidirectional, Convolution1D, MaxPooling1D, MaxPooling2D\n",
    "from keras.layers.core import RepeatVector #, Reshape\n",
    "from keras.callbacks import ModelCheckpoint, EarlyStopping, ReduceLROnPlateau\n",
    "from keras.models import Sequential, Model, load_model\n",
    "\n",
    "def reset_seeds():\n",
    "    np.random.seed(SEED) \n",
    "    python_random.seed(SEED)\n",
    "    tf.random.set_seed(SEED)\n",
    "    os.environ[\"PYTHONHASHSEED\"] = str(SEED)\n",
    "\n",
    "# from tensorflow.keras import Model\n",
    "# from attention import Attention_input1, Attention_input2\n",
    "# from keras.optimizers import SGD, RMSprop, Adagrad"
   ]
  },
  {
   "cell_type": "code",
   "execution_count": 2,
   "id": "b72534d6",
   "metadata": {
    "execution": {
     "iopub.execute_input": "2022-07-13T16:38:12.238826Z",
     "iopub.status.busy": "2022-07-13T16:38:12.238309Z",
     "iopub.status.idle": "2022-07-13T16:38:12.243461Z",
     "shell.execute_reply": "2022-07-13T16:38:12.242632Z"
    },
    "papermill": {
     "duration": 0.016642,
     "end_time": "2022-07-13T16:38:12.245426",
     "exception": false,
     "start_time": "2022-07-13T16:38:12.228784",
     "status": "completed"
    },
    "tags": []
   },
   "outputs": [],
   "source": [
    "NUM_CLASSES = 3"
   ]
  },
  {
   "cell_type": "code",
   "execution_count": 3,
   "id": "28d66c65",
   "metadata": {
    "execution": {
     "iopub.execute_input": "2022-07-13T16:38:12.262578Z",
     "iopub.status.busy": "2022-07-13T16:38:12.262321Z",
     "iopub.status.idle": "2022-07-13T16:38:12.269013Z",
     "shell.execute_reply": "2022-07-13T16:38:12.268122Z"
    },
    "papermill": {
     "duration": 0.017726,
     "end_time": "2022-07-13T16:38:12.271070",
     "exception": false,
     "start_time": "2022-07-13T16:38:12.253344",
     "status": "completed"
    },
    "tags": []
   },
   "outputs": [],
   "source": [
    "def read_hdf5(path):\n",
    "    read_file = h5py.File(path, 'r')\n",
    "    \n",
    "    feature_names = list(read_file.keys())\n",
    "    loaded_data = []\n",
    "    \n",
    "    for name in feature_names:\n",
    "        dataset = read_file[name][:]\n",
    "        if dataset.dtype == np.dtype('object'):\n",
    "            dataset = np.array([x.decode('UTF-8') for x in dataset])            \n",
    "        loaded_data.append((name, dataset))\n",
    "\n",
    "    return loaded_data\n",
    "\n",
    "def loadz(path):\n",
    "    data = np.load(path)['arr_0']\n",
    "    return data"
   ]
  },
  {
   "cell_type": "code",
   "execution_count": 4,
   "id": "37b26cab",
   "metadata": {
    "execution": {
     "iopub.execute_input": "2022-07-13T16:38:12.287929Z",
     "iopub.status.busy": "2022-07-13T16:38:12.287662Z",
     "iopub.status.idle": "2022-07-13T16:38:12.297428Z",
     "shell.execute_reply": "2022-07-13T16:38:12.296653Z"
    },
    "papermill": {
     "duration": 0.020378,
     "end_time": "2022-07-13T16:38:12.299329",
     "exception": false,
     "start_time": "2022-07-13T16:38:12.278951",
     "status": "completed"
    },
    "tags": []
   },
   "outputs": [],
   "source": [
    "def load_labels(path):\n",
    "    data = read_hdf5(path)\n",
    "\n",
    "    for x in data:\n",
    "        if x[0] == 'multimodal-labels':\n",
    "            labels = x[1]\n",
    "        if x[0] == 'text-labels':\n",
    "            text_labels = x[1]\n",
    "        if x[0] == 'image-labels':\n",
    "            image_labels = x[1]\n",
    "        \n",
    "    return labels, text_labels, image_labels\n",
    "\n",
    "def merge_mvsa(mvsa_single, mvsa_multiple):\n",
    "    mvsa = np.concatenate((mvsa_single, mvsa_multiple), axis=0)\n",
    "    return mvsa\n",
    "\n",
    "def load_mvsa_feature(feature_name, merge=False):\n",
    "    folder_path = os.path.join('../input/mvsa-features/', feature_name)\n",
    "    single_file = 'mvsa-single-{}.npz'.format(feature_name)\n",
    "    multiple_file = 'mvsa-multiple-{}.npz'.format(feature_name)\n",
    "    mvsa_single = loadz(os.path.join(folder_path, single_file))\n",
    "    mvsa_multiple = loadz(os.path.join(folder_path, multiple_file))\n",
    "    \n",
    "    if merge == True:\n",
    "        return merge_mvsa(mvsa_single, mvsa_multiple)\n",
    "    \n",
    "    return mvsa_single, mvsa_multiple"
   ]
  },
  {
   "cell_type": "code",
   "execution_count": 5,
   "id": "52ca258c",
   "metadata": {
    "execution": {
     "iopub.execute_input": "2022-07-13T16:38:12.316423Z",
     "iopub.status.busy": "2022-07-13T16:38:12.316178Z",
     "iopub.status.idle": "2022-07-13T16:38:12.321270Z",
     "shell.execute_reply": "2022-07-13T16:38:12.320243Z"
    },
    "papermill": {
     "duration": 0.015757,
     "end_time": "2022-07-13T16:38:12.323202",
     "exception": false,
     "start_time": "2022-07-13T16:38:12.307445",
     "status": "completed"
    },
    "tags": []
   },
   "outputs": [],
   "source": [
    "# e.g. validation_split=0.1 -----> 8:1:1 ratio of train, val, test\n",
    "def split_data(data, validation_split):\n",
    "    num_val = int(validation_split * data.shape[0])\n",
    "    data_train = data[:-(num_val*2)]\n",
    "    data_val = data[-(num_val*2):-(num_val)]\n",
    "    data_test = data[-num_val:]\n",
    "    return data_train, data_val, data_test"
   ]
  },
  {
   "cell_type": "code",
   "execution_count": 6,
   "id": "dc2c9716",
   "metadata": {
    "execution": {
     "iopub.execute_input": "2022-07-13T16:38:12.348311Z",
     "iopub.status.busy": "2022-07-13T16:38:12.347793Z",
     "iopub.status.idle": "2022-07-13T16:38:12.362271Z",
     "shell.execute_reply": "2022-07-13T16:38:12.361174Z"
    },
    "papermill": {
     "duration": 0.034049,
     "end_time": "2022-07-13T16:38:12.365141",
     "exception": false,
     "start_time": "2022-07-13T16:38:12.331092",
     "status": "completed"
    },
    "tags": []
   },
   "outputs": [],
   "source": [
    "def weighted_average(weights, probs):\n",
    "    ''' Calculate the weighted average probability distribution from all input probs and its weights \n",
    "    weights: weights list (or array)\n",
    "    probs: probability distributions array list\n",
    "    '''\n",
    "    output_probs = []\n",
    "    weighted_probs = [probs[i] * weights[i] for i in range(len(weights))]\n",
    "    for i in range(len(probs[0])):\n",
    "        sum_prob = np.zeros(len(probs[0][0]))\n",
    "        for j in range(len(weights)):\n",
    "            sum_prob = np.sum((sum_prob, weighted_probs[j][i]), axis=0)\n",
    "        output_probs.append(sum_prob)\n",
    "    return np.asarray(output_probs, dtype='float32')\n",
    "\n",
    "def get_average_weights(*scores, inverse=False):\n",
    "    ''' Get the corresponding weight of each input score \n",
    "    inverse: (bool) get inverse weights value in case of the smaller score value, the bigger weight value (such as model loss)\n",
    "    '''\n",
    "    \n",
    "    weights = []\n",
    "    for score in scores:\n",
    "        weights.append(score/np.sum(scores))\n",
    "    \n",
    "    if inverse == True:\n",
    "        inverse_weights = []\n",
    "        inverse = [1/weight for weight in weights]\n",
    "        for inv in inverse:\n",
    "            inverse_weights.append(inv/np.sum(inverse))\n",
    "        weights = inverse_weights\n",
    "\n",
    "    return weights"
   ]
  },
  {
   "cell_type": "code",
   "execution_count": 7,
   "id": "14afe461",
   "metadata": {
    "execution": {
     "iopub.execute_input": "2022-07-13T16:38:12.396950Z",
     "iopub.status.busy": "2022-07-13T16:38:12.396614Z",
     "iopub.status.idle": "2022-07-13T16:38:18.389615Z",
     "shell.execute_reply": "2022-07-13T16:38:18.388714Z"
    },
    "papermill": {
     "duration": 6.01412,
     "end_time": "2022-07-13T16:38:18.391990",
     "exception": false,
     "start_time": "2022-07-13T16:38:12.377870",
     "status": "completed"
    },
    "tags": []
   },
   "outputs": [
    {
     "name": "stderr",
     "output_type": "stream",
     "text": [
      "2022-07-13 16:38:12.550554: I tensorflow/stream_executor/cuda/cuda_gpu_executor.cc:937] successful NUMA node read from SysFS had negative value (-1), but there must be at least one NUMA node, so returning NUMA node zero\n",
      "2022-07-13 16:38:12.552836: I tensorflow/stream_executor/cuda/cuda_gpu_executor.cc:937] successful NUMA node read from SysFS had negative value (-1), but there must be at least one NUMA node, so returning NUMA node zero\n",
      "2022-07-13 16:38:12.553986: I tensorflow/stream_executor/cuda/cuda_gpu_executor.cc:937] successful NUMA node read from SysFS had negative value (-1), but there must be at least one NUMA node, so returning NUMA node zero\n",
      "2022-07-13 16:38:12.555421: I tensorflow/core/platform/cpu_feature_guard.cc:142] This TensorFlow binary is optimized with oneAPI Deep Neural Network Library (oneDNN) to use the following CPU instructions in performance-critical operations:  AVX2 AVX512F FMA\n",
      "To enable them in other operations, rebuild TensorFlow with the appropriate compiler flags.\n",
      "2022-07-13 16:38:12.555867: I tensorflow/stream_executor/cuda/cuda_gpu_executor.cc:937] successful NUMA node read from SysFS had negative value (-1), but there must be at least one NUMA node, so returning NUMA node zero\n",
      "2022-07-13 16:38:12.557187: I tensorflow/stream_executor/cuda/cuda_gpu_executor.cc:937] successful NUMA node read from SysFS had negative value (-1), but there must be at least one NUMA node, so returning NUMA node zero\n",
      "2022-07-13 16:38:12.558311: I tensorflow/stream_executor/cuda/cuda_gpu_executor.cc:937] successful NUMA node read from SysFS had negative value (-1), but there must be at least one NUMA node, so returning NUMA node zero\n",
      "2022-07-13 16:38:18.051504: I tensorflow/stream_executor/cuda/cuda_gpu_executor.cc:937] successful NUMA node read from SysFS had negative value (-1), but there must be at least one NUMA node, so returning NUMA node zero\n",
      "2022-07-13 16:38:18.052527: I tensorflow/stream_executor/cuda/cuda_gpu_executor.cc:937] successful NUMA node read from SysFS had negative value (-1), but there must be at least one NUMA node, so returning NUMA node zero\n",
      "2022-07-13 16:38:18.053210: I tensorflow/stream_executor/cuda/cuda_gpu_executor.cc:937] successful NUMA node read from SysFS had negative value (-1), but there must be at least one NUMA node, so returning NUMA node zero\n",
      "2022-07-13 16:38:18.053796: I tensorflow/core/common_runtime/gpu/gpu_device.cc:1510] Created device /job:localhost/replica:0/task:0/device:GPU:0 with 15047 MB memory:  -> device: 0, name: Tesla P100-PCIE-16GB, pci bus id: 0000:00:04.0, compute capability: 6.0\n"
     ]
    }
   ],
   "source": [
    "f1_macro = tfa.metrics.F1Score(num_classes=NUM_CLASSES, average='macro', name='f1_macro')\n",
    "f1_weighted = tfa.metrics.F1Score(num_classes=NUM_CLASSES, average='weighted', name='f1_weighted')\n",
    "    \n",
    "def create_model_text(input_shape, lstm=True):\n",
    "    text_input = Input(shape=input_shape)\n",
    "    if lstm == True:\n",
    "        reshape_text = Reshape((1, -1)) (text_input)\n",
    "        lstm = LSTM(NUM_LSTM) (reshape_text)\n",
    "        outputs = Dense(NUM_CLASSES, activation='softmax') (lstm)\n",
    "    else:\n",
    "        outputs = Dense(NUM_CLASSES, activation='softmax') (text_input)\n",
    "    model = Model(text_input, outputs)\n",
    "    model.compile(optimizer='adam', loss='categorical_crossentropy', metrics=['accuracy', f1_macro, f1_weighted])\n",
    "    return model\n",
    "\n",
    "def create_model_image(input_shape):\n",
    "    image_input = Input(shape=input_shape)\n",
    "    outputs = Dense(NUM_CLASSES, activation='softmax') (image_input)\n",
    "    model = Model(image_input, outputs)\n",
    "    model.compile(optimizer='adam', loss='categorical_crossentropy', metrics=['accuracy', f1_macro, f1_weighted])\n",
    "    return model\n",
    "\n",
    "def create_model_IF(text_shape, image_shape, lstm=True):\n",
    "    image_input = Input(shape=image_shape)\n",
    "    text_input = Input(shape=text_shape)\n",
    "    if lstm == True:\n",
    "        text_reshape = Reshape((1, -1)) (text_input)\n",
    "        text_lstm = LSTM(NUM_LSTM) (text_reshape)\n",
    "#     text_lstm = Dropout(DROPOUT_RATE) (text_lstm)\n",
    "        text_image_concat = tf.keras.layers.Concatenate(axis=1)([text_lstm, image_input])\n",
    "    else:\n",
    "        text_image_concat = tf.keras.layers.Concatenate(axis=1)([text_input, image_input])\n",
    "    concat_self_attention = tf.keras.layers.Attention() ([text_image_concat, text_image_concat])\n",
    "#     concat_self_attention = Dropout(DROPOUT_RATE) (concat_self_attention)\n",
    "    outputs = Dense(NUM_CLASSES, activation='softmax') (concat_self_attention)\n",
    "    model = Model([text_input, image_input], outputs)\n",
    "    model.compile(optimizer='adam', loss='categorical_crossentropy', metrics=['accuracy', f1_macro, f1_weighted])\n",
    "    return model"
   ]
  },
  {
   "cell_type": "code",
   "execution_count": 8,
   "id": "e44707f2",
   "metadata": {
    "execution": {
     "iopub.execute_input": "2022-07-13T16:38:18.411290Z",
     "iopub.status.busy": "2022-07-13T16:38:18.410925Z",
     "iopub.status.idle": "2022-07-13T16:38:18.428269Z",
     "shell.execute_reply": "2022-07-13T16:38:18.427252Z"
    },
    "papermill": {
     "duration": 0.029857,
     "end_time": "2022-07-13T16:38:18.430228",
     "exception": false,
     "start_time": "2022-07-13T16:38:18.400371",
     "status": "completed"
    },
    "tags": []
   },
   "outputs": [],
   "source": [
    "def run_and_evaluate_IF(name, X1, X2, y, verbose=0, lstm=True):\n",
    "    '''  Train and test Intermediate Fusion model Multimodal Labels \n",
    "    X1: text input\n",
    "    X2: image input\n",
    "    y: multimodal labels\n",
    "    '''\n",
    "    y = le.fit_transform(y)\n",
    "    y = to_categorical(np.asarray(y))\n",
    "    \n",
    "    random_idx = np.random.permutation(len(y))\n",
    "    X1, X2, y = X1[random_idx], X2[random_idx], y[random_idx]\n",
    "    \n",
    "    X1_train, X1_val, X1_test = split_data(X1, VALIDATION_SPLIT)\n",
    "    X2_train, X2_val, X2_test = split_data(X2, VALIDATION_SPLIT)\n",
    "    y_train, y_val, y_test = split_data(y, VALIDATION_SPLIT)\n",
    "    \n",
    "    oversample = BorderlineSMOTE(sampling_strategy='minority', random_state=SEED, kind='borderline-2')\n",
    "#     oversample = SMOTE(sampling_strategy='minority', random_state=SEED)\n",
    "    X1_train, _ = oversample.fit_resample(X1_train, y_train)\n",
    "    X2_train, y_train = oversample.fit_resample(X2_train, y_train)\n",
    "    \n",
    "    if lstm == False:\n",
    "        model = create_model_IF(X1_train.shape[1:], X2_train.shape[1:], lstm=False)\n",
    "    else:\n",
    "        model = create_model_IF(X1_train.shape[1:], X2_train.shape[1:])\n",
    "    early_stopping = EarlyStopping(monitor='val_loss', min_delta=1e-4, patience=EARLY_STOPPING)\n",
    "    checkpoint = ModelCheckpoint('./model_checkpoint/{}.h5'.format(name), save_best_only=True, verbose=verbose)\n",
    "    \n",
    "    if 'multiple' in name:\n",
    "        batch_size = 256\n",
    "    else:\n",
    "        batch_size = BATCH_SIZE # 128\n",
    "        \n",
    "    history = model.fit([X1_train, X2_train], y_train, validation_data=([X1_val, X2_val], y_val), \n",
    "                        epochs=EPOCHS, batch_size=batch_size, verbose=verbose,\n",
    "                        callbacks=[checkpoint, early_stopping])\n",
    "    if verbose == 1:\n",
    "        best_epoch = np.argmin(history.history['val_loss'])\n",
    "        print('\\nCheckpoint loaded at epoch:', best_epoch)\n",
    "        \n",
    "    return history, evaluate_model_IF(model, X1_test, X2_test, y_test, checkpoint=name, verbose=verbose)\n",
    "\n",
    "def evaluate_model_IF(model, X_texts, X_images, y_test, checkpoint=None, verbose=1):\n",
    "    if checkpoint is not None:\n",
    "        model = load_model('./model_checkpoint/{}.h5'.format(checkpoint))\n",
    "    \n",
    "    loss, acc, f1_macro, f1_weighted = model.evaluate([X_texts, X_images], y_test, verbose=verbose)\n",
    "\n",
    "    if verbose == 1:\n",
    "        print('Loss:', loss)\n",
    "        print('Accuracy:', acc)\n",
    "        print('Macro F1-score:', f1_macro)\n",
    "        print('Weighted F1-score:', f1_weighted)\n",
    "\n",
    "        y_pred = model.predict([X_texts, X_images])\n",
    "        matrix = confusion_matrix(le.inverse_transform(y_test.argmax(axis=1)), le.inverse_transform(y_pred.argmax(axis=1)), \n",
    "                                  labels=list(le.classes_))\n",
    "        cm_disp = ConfusionMatrixDisplay(confusion_matrix=matrix,\n",
    "                                  display_labels=list(le.classes_))\n",
    "        cm_disp.plot()\n",
    "        plt.show()\n",
    "        \n",
    "    return loss, acc, f1_macro, f1_weighted"
   ]
  },
  {
   "cell_type": "code",
   "execution_count": 9,
   "id": "1ae1332b",
   "metadata": {
    "execution": {
     "iopub.execute_input": "2022-07-13T16:38:18.448859Z",
     "iopub.status.busy": "2022-07-13T16:38:18.448164Z",
     "iopub.status.idle": "2022-07-13T16:38:18.465930Z",
     "shell.execute_reply": "2022-07-13T16:38:18.464968Z"
    },
    "papermill": {
     "duration": 0.029361,
     "end_time": "2022-07-13T16:38:18.467863",
     "exception": false,
     "start_time": "2022-07-13T16:38:18.438502",
     "status": "completed"
    },
    "tags": []
   },
   "outputs": [],
   "source": [
    "def run_and_evaluate_LF(name, X1, X2, y, y1, y2, verbose=0, lstm=True):\n",
    "    ''' Train Late Fusion model with Original Labels of each modality and test with Multimodal Labels \n",
    "    X1: text input\n",
    "    X2: image input\n",
    "    y: multimodal labels\n",
    "    y1: text labels\n",
    "    y2: image labels\n",
    "    verbose: 0 or 1 to print tracking on progress\n",
    "    '''\n",
    "    y = le.fit_transform(y)\n",
    "    y = to_categorical(np.asarray(y))\n",
    "    \n",
    "    y1 = le.fit_transform(y1)\n",
    "    y1 = to_categorical(np.asarray(y1))\n",
    "    \n",
    "    y2 = le.fit_transform(y2)\n",
    "    y2 = to_categorical(np.asarray(y2))\n",
    "    \n",
    "    random_idx = np.random.permutation(len(y))\n",
    "    X1, X2, y1, y2 = X1[random_idx], X2[random_idx], y1[random_idx], y2[random_idx]\n",
    "\n",
    "    X1_train, X1_val, X1_test = split_data(X1, VALIDATION_SPLIT)\n",
    "    X2_train, X2_val, X2_test = split_data(X2, VALIDATION_SPLIT)\n",
    "    y_train, y_val, y_test = split_data(y, VALIDATION_SPLIT)\n",
    "    y1_train, y1_val, y1_test = split_data(y1, VALIDATION_SPLIT)\n",
    "    y2_train, y2_val, y2_test = split_data(y2, VALIDATION_SPLIT)\n",
    "    \n",
    "    oversample = BorderlineSMOTE(sampling_strategy='minority', random_state=SEED, kind='borderline-2')\n",
    "#     oversample = SMOTE(sampling_strategy='minority', random_state=SEED)\n",
    "    X1_train, y1_train = oversample.fit_resample(X1_train, y_train)\n",
    "    X2_train, y2_train = oversample.fit_resample(X2_train, y_train)\n",
    "#     _, y_train = oversample.fit_resample(X2_train, y_train)\n",
    "\n",
    "    \n",
    "    if lstm == False:\n",
    "        model_text = create_model_text(X1_train.shape[1:], lstm=False)\n",
    "    else:\n",
    "        model_text = create_model_text(X1_train.shape[1:])\n",
    "    model_image = create_model_image(X2_train.shape[1:])\n",
    "\n",
    "    early_stopping1 = EarlyStopping(monitor='val_loss', min_delta=1e-4, patience=EARLY_STOPPING)\n",
    "    early_stopping2 = EarlyStopping(monitor='val_loss', min_delta=1e-4, patience=EARLY_STOPPING)\n",
    "    checkpoint_text = ModelCheckpoint('./model_checkpoint/{}-text.h5'.format(name), save_best_only=True, verbose=verbose)\n",
    "    checkpoint_image = ModelCheckpoint('./model_checkpoint/{}-image.h5'.format(name), save_best_only=True, verbose=verbose)\n",
    "    \n",
    "    if 'multiple' in name:\n",
    "        batch_size = 256\n",
    "    else:\n",
    "        batch_size = BATCH_SIZE # 128\n",
    "    \n",
    "    history_text = model_text.fit(X1_train, y1_train, validation_data=(X1_val, y1_val), \n",
    "                                  epochs=EPOCHS, batch_size=batch_size, verbose=verbose,\n",
    "                                  callbacks=[checkpoint_text, early_stopping1])\n",
    "    \n",
    "    history_image = model_image.fit(X2_train, y2_train, validation_data=(X2_val, y2_val), \n",
    "                                    epochs=EPOCHS, batch_size=batch_size, verbose=verbose,\n",
    "                                    callbacks=[checkpoint_image, early_stopping2])\n",
    "    \n",
    "    best_val_acc_text = np.min(history_text.history['val_accuracy'])\n",
    "    best_val_acc_image = np.min(history_image.history['val_accuracy'])\n",
    "\n",
    "    weights = get_average_weights(best_val_acc_text, best_val_acc_image)\n",
    "\n",
    "    model_text = load_model('./model_checkpoint/{}-text.h5'.format(name))\n",
    "    model_image = load_model('./model_checkpoint/{}-image.h5'.format(name))\n",
    "\n",
    "    y_pred_text = model_text.predict(X1_test)\n",
    "    y_pred_image = model_image.predict(X2_test)\n",
    "\n",
    "    y_pred = weighted_average(weights, np.asarray([y_pred_text, y_pred_image], dtype='float32'))\n",
    "\n",
    "    best_epoch_text = np.argmin(history_text.history['val_loss'])\n",
    "    best_epoch_image = np.argmin(history_image.history['val_loss'])\n",
    "\n",
    "    if verbose == 1:\n",
    "        print('Checkpoint of text model loaded at epoch:', best_epoch_text)\n",
    "        print('Checkpoint of image model loaded at epoch:', best_epoch_image)\n",
    "\n",
    "    return evaluate_model_LF(y_test, y_pred, verbose=verbose)"
   ]
  },
  {
   "cell_type": "code",
   "execution_count": 10,
   "id": "64e5b11d",
   "metadata": {
    "execution": {
     "iopub.execute_input": "2022-07-13T16:38:18.485982Z",
     "iopub.status.busy": "2022-07-13T16:38:18.485568Z",
     "iopub.status.idle": "2022-07-13T16:38:18.508274Z",
     "shell.execute_reply": "2022-07-13T16:38:18.507386Z"
    },
    "papermill": {
     "duration": 0.034096,
     "end_time": "2022-07-13T16:38:18.510094",
     "exception": false,
     "start_time": "2022-07-13T16:38:18.475998",
     "status": "completed"
    },
    "tags": []
   },
   "outputs": [],
   "source": [
    "def run_and_evaluate_HF(name, X1, X2, y, y1, y2, verbose=0, lstm=True):\n",
    "    ''' Train Hybrid Fusion model with Original Labels of each modality and test with Multimodal Labels \n",
    "    X1: text input\n",
    "    X2: image input\n",
    "    y: multimodal labels\n",
    "    y1: text labels\n",
    "    y2: image labels\n",
    "    lstm: (bool) create text model with LSTM layer or not\n",
    "    verbose: 0 or 1 to print tracking on progress\n",
    "    '''\n",
    "    y = le.fit_transform(y)\n",
    "    y = to_categorical(np.asarray(y))\n",
    "    \n",
    "    y1 = le.fit_transform(y1)\n",
    "    y1 = to_categorical(np.asarray(y1))\n",
    "    \n",
    "    y2 = le.fit_transform(y2)\n",
    "    y2 = to_categorical(np.asarray(y2))\n",
    "    \n",
    "    random_idx = np.random.permutation(len(y))\n",
    "    X1, X2, y1, y2 = X1[random_idx], X2[random_idx], y1[random_idx], y2[random_idx]\n",
    "\n",
    "    X1_train, X1_val, X1_test = split_data(X1, VALIDATION_SPLIT)\n",
    "    X2_train, X2_val, X2_test = split_data(X2, VALIDATION_SPLIT)\n",
    "    y_train, y_val, y_test = split_data(y, VALIDATION_SPLIT)\n",
    "    y1_train, y1_val, y1_test = split_data(y1, VALIDATION_SPLIT)\n",
    "    y2_train, y2_val, y2_test = split_data(y2, VALIDATION_SPLIT)\n",
    "    \n",
    "    oversample = BorderlineSMOTE(sampling_strategy='minority', random_state=SEED, kind='borderline-2')\n",
    "#     oversample = SMOTE(sampling_strategy='minority', random_state=SEED)\n",
    "    X1_train, y1_train = oversample.fit_resample(X1_train, y_train)\n",
    "    _, y2_train = oversample.fit_resample(X2_train, y_train)\n",
    "    X2_train, y_train = oversample.fit_resample(X2_train, y_train)\n",
    "\n",
    "    model_image = create_model_image(X2_train.shape[1:])\n",
    "    if lstm == False:\n",
    "        model_text = create_model_text(X1_train.shape[1:], lstm=False)\n",
    "        model_IF = create_model_IF(X1_train.shape[1:], X2_train.shape[1:], lstm=False)\n",
    "    model_text = create_model_text(X1_train.shape[1:])\n",
    "    model_IF = create_model_IF(X1_train.shape[1:], X2_train.shape[1:])\n",
    "    \n",
    "    early_stopping1 = EarlyStopping(monitor='val_loss', min_delta=1e-4, patience=EARLY_STOPPING)\n",
    "    early_stopping2 = EarlyStopping(monitor='val_loss', min_delta=1e-4, patience=EARLY_STOPPING)\n",
    "    early_stopping3 = EarlyStopping(monitor='val_loss', min_delta=1e-4, patience=EARLY_STOPPING)\n",
    "\n",
    "    checkpoint_text = ModelCheckpoint('./model_checkpoint/{}-text.h5'.format(name), save_best_only=True, verbose=verbose)\n",
    "    checkpoint_image = ModelCheckpoint('./model_checkpoint/{}-image.h5'.format(name), save_best_only=True, verbose=verbose)\n",
    "    checkpoint_IF = ModelCheckpoint('./model_checkpoint/{}-IF.h5'.format(name), save_best_only=True, verbose=verbose)\n",
    "\n",
    "    if 'multiple' in name:\n",
    "        batch_size = 256\n",
    "    else:\n",
    "        batch_size = BATCH_SIZE # 128\n",
    "    \n",
    "    history_text = model_text.fit(X1_train, y1_train, validation_data=(X1_val, y1_val), \n",
    "                                  epochs=EPOCHS, batch_size=batch_size, verbose=verbose,\n",
    "                                  callbacks=[checkpoint_text, early_stopping1])\n",
    "    \n",
    "    history_image = model_image.fit(X2_train, y2_train, validation_data=(X2_val, y2_val), \n",
    "                                    epochs=EPOCHS, batch_size=batch_size, verbose=verbose,\n",
    "                                    callbacks=[checkpoint_image, early_stopping2])\n",
    "    \n",
    "    history_IF = model_IF.fit([X1_train, X2_train], y_train, validation_data=([X1_val, X2_val], y_val), \n",
    "                              epochs=EPOCHS, batch_size=batch_size, verbose=verbose,\n",
    "                              callbacks=[checkpoint_IF, early_stopping3])\n",
    "    \n",
    "    best_val_acc_text = np.min(history_text.history['val_accuracy'])\n",
    "    best_val_acc_image = np.min(history_image.history['val_accuracy'])\n",
    "    best_val_acc_IF = np.min(history_IF.history['val_accuracy'])\n",
    "    \n",
    "    weights = get_average_weights(best_val_acc_text, best_val_acc_image, best_val_acc_IF)\n",
    "\n",
    "    model_text = load_model('./model_checkpoint/{}-text.h5'.format(name))\n",
    "    model_image = load_model('./model_checkpoint/{}-image.h5'.format(name))\n",
    "    model_IF = load_model('./model_checkpoint/{}-IF.h5'.format(name))\n",
    "\n",
    "    y_pred_text = model_text.predict(X1_test)\n",
    "    y_pred_image = model_image.predict(X2_test)\n",
    "    y_pred_IF = model_IF.predict([X1_test, X2_test])\n",
    "\n",
    "    y_pred = weighted_average(weights, np.asarray([y_pred_text, y_pred_image, y_pred_IF], dtype='float32'))\n",
    "    \n",
    "    best_epoch_text = np.argmin(history_text.history['val_loss'])\n",
    "    best_epoch_image = np.argmin(history_image.history['val_loss'])\n",
    "    best_epoch_IF = np.argmin(history_IF.history['val_loss'])\n",
    "\n",
    "    if verbose == 1:\n",
    "        print('Checkpoint of text model loaded at epoch:', best_epoch_text)\n",
    "        print('Checkpoint of image model loaded at epoch:', best_epoch_image)\n",
    "        print('Checkpoint of IF model loaded at epoch:', best_epoch_IF)\n",
    "\n",
    "    return evaluate_model_LF(y_test, y_pred, verbose=verbose)"
   ]
  },
  {
   "cell_type": "code",
   "execution_count": 11,
   "id": "f100505e",
   "metadata": {
    "execution": {
     "iopub.execute_input": "2022-07-13T16:38:18.529365Z",
     "iopub.status.busy": "2022-07-13T16:38:18.528017Z",
     "iopub.status.idle": "2022-07-13T16:38:18.535565Z",
     "shell.execute_reply": "2022-07-13T16:38:18.534724Z"
    },
    "papermill": {
     "duration": 0.018817,
     "end_time": "2022-07-13T16:38:18.537466",
     "exception": false,
     "start_time": "2022-07-13T16:38:18.518649",
     "status": "completed"
    },
    "tags": []
   },
   "outputs": [],
   "source": [
    "def evaluate_model_LF(y_true, y_pred, verbose=0):\n",
    "    \n",
    "    y_pred = le.inverse_transform(y_pred.argmax(axis=1))\n",
    "    y_true = le.inverse_transform(y_true.argmax(axis=1))\n",
    "\n",
    "    acc = accuracy_score(y_true, y_pred)\n",
    "    f1_macro = f1_score(y_true, y_pred, average='macro')\n",
    "    f1_weighted = f1_score(y_true, y_pred, average='weighted')\n",
    "\n",
    "    if verbose == 1:\n",
    "        print(classification_report(y_true, y_pred))\n",
    "        matrix = confusion_matrix(y_true, y_pred,\n",
    "                                  labels=list(le.classes_))\n",
    "        cm_disp = ConfusionMatrixDisplay(confusion_matrix=matrix,\n",
    "                                  display_labels=list(le.classes_))\n",
    "        cm_disp.plot()\n",
    "        plt.show()\n",
    "\n",
    "    return acc, f1_macro, f1_weighted"
   ]
  },
  {
   "cell_type": "code",
   "execution_count": 12,
   "id": "44e42247",
   "metadata": {
    "execution": {
     "iopub.execute_input": "2022-07-13T16:38:18.556351Z",
     "iopub.status.busy": "2022-07-13T16:38:18.555019Z",
     "iopub.status.idle": "2022-07-13T16:38:18.566571Z",
     "shell.execute_reply": "2022-07-13T16:38:18.565719Z"
    },
    "papermill": {
     "duration": 0.022831,
     "end_time": "2022-07-13T16:38:18.568602",
     "exception": false,
     "start_time": "2022-07-13T16:38:18.545771",
     "status": "completed"
    },
    "tags": []
   },
   "outputs": [],
   "source": [
    "def plot_metrics(history):\n",
    "    fig = plt.figure(figsize=(20, 5))\n",
    "\n",
    "    fig.add_subplot(1, 4, 1)\n",
    "    plt.plot(history.history['loss'])\n",
    "    plt.plot(history.history['val_loss'])\n",
    "    plt.title('LOSS')\n",
    "    plt.ylabel('loss')\n",
    "    plt.xlabel('epoch')\n",
    "    plt.legend(['train', 'val'], loc='best')\n",
    "\n",
    "    fig.add_subplot(1, 4, 2)\n",
    "    plt.plot(history.history['accuracy'])\n",
    "    plt.plot(history.history['val_accuracy'])\n",
    "    plt.title('ACCURACY')\n",
    "    plt.ylabel('accuracy')\n",
    "    plt.xlabel('epoch')\n",
    "    plt.legend(['train', 'val'], loc='best')\n",
    "\n",
    "    fig.add_subplot(1, 4, 3)\n",
    "    plt.plot(history.history['f1_macro'])\n",
    "    plt.plot(history.history['val_f1_macro'])\n",
    "    plt.title('Macro F1-SCORE')\n",
    "    plt.ylabel('f1-macro')\n",
    "    plt.xlabel('epoch')\n",
    "    plt.legend(['train', 'val'], loc='best')\n",
    "    \n",
    "    fig.add_subplot(1, 4, 4)\n",
    "    plt.plot(history.history['f1_weighted'])\n",
    "    plt.plot(history.history['val_f1_weighted'])\n",
    "    plt.title('Weighted F1-SCORE')\n",
    "    plt.ylabel('f1-weighted')\n",
    "    plt.xlabel('epoch')\n",
    "    plt.legend(['train', 'val'], loc='best')\n",
    "\n",
    "    plt.show()"
   ]
  },
  {
   "cell_type": "code",
   "execution_count": 13,
   "id": "da6005c8",
   "metadata": {
    "execution": {
     "iopub.execute_input": "2022-07-13T16:38:18.586100Z",
     "iopub.status.busy": "2022-07-13T16:38:18.585838Z",
     "iopub.status.idle": "2022-07-13T16:38:18.594589Z",
     "shell.execute_reply": "2022-07-13T16:38:18.593693Z"
    },
    "papermill": {
     "duration": 0.019944,
     "end_time": "2022-07-13T16:38:18.596656",
     "exception": false,
     "start_time": "2022-07-13T16:38:18.576712",
     "status": "completed"
    },
    "tags": []
   },
   "outputs": [],
   "source": [
    "def style_dataframe(dataframe):\n",
    "    return dataframe.style.highlight_max(subset=['Accuracy', 'F1-macro', 'F1-weighted'], props='color:lawngreen', axis=0)\\\n",
    "                          .highlight_min(subset=['Accuracy', 'F1-macro', 'F1-weighted'], props='color:tomato', axis=0)\n",
    "\n",
    "def highlight_neg(cell):\n",
    "    if type(cell) != str and cell < 0 :\n",
    "        return 'color: tomato'\n",
    "    else:\n",
    "        return 'color: lawngreen'\n",
    "\n",
    "def display_dataframes(dfs, names=[], index=False):\n",
    "    def to_df(x):\n",
    "        if isinstance(x, pd.Series):\n",
    "            return pd.DataFrame(x)\n",
    "        else:\n",
    "            return x\n",
    "    html_str = ''\n",
    "    if names:\n",
    "        html_str += ('<tr>' + \n",
    "                     ''.join(f'<td style=\"text-align:center\">{name}</td>' for name in names) + \n",
    "                     '</tr>')\n",
    "    html_str += ('<tr>' + \n",
    "                 ''.join(f'<td style=\"vertical-align:top\"> {to_df(df).to_html()}</td>' \n",
    "                         for df in dfs) + \n",
    "                 '</tr>')\n",
    "    html_str = f'<table>{html_str}</table>'\n",
    "    html_str = html_str.replace('table','table style=\"display:inline\"')\n",
    "    display_html(html_str, raw=True)"
   ]
  },
  {
   "cell_type": "markdown",
   "id": "68fdb4ea",
   "metadata": {
    "papermill": {
     "duration": 0.00824,
     "end_time": "2022-07-13T16:38:18.613345",
     "exception": false,
     "start_time": "2022-07-13T16:38:18.605105",
     "status": "completed"
    },
    "tags": []
   },
   "source": [
    "# Load data"
   ]
  },
  {
   "cell_type": "code",
   "execution_count": 14,
   "id": "ffc75bb7",
   "metadata": {
    "execution": {
     "iopub.execute_input": "2022-07-13T16:38:18.631170Z",
     "iopub.status.busy": "2022-07-13T16:38:18.630861Z",
     "iopub.status.idle": "2022-07-13T16:38:33.023621Z",
     "shell.execute_reply": "2022-07-13T16:38:33.022507Z"
    },
    "papermill": {
     "duration": 14.404472,
     "end_time": "2022-07-13T16:38:33.026296",
     "exception": false,
     "start_time": "2022-07-13T16:38:18.621824",
     "status": "completed"
    },
    "tags": []
   },
   "outputs": [],
   "source": [
    "## Choose best\n",
    "# Load text feature\n",
    "mvsa_single_bert, mvsa_multiple_bert = load_mvsa_feature('bert-base')\n",
    "mvsa_single_pos_bow, mvsa_multiple_pos_bow = load_mvsa_feature('pos-bow')\n",
    "mvsa_single_pos_tfidf, mvsa_multiple_pos_tfidf = load_mvsa_feature('pos-tfidf')\n",
    "mvsa_single_ner_bow, mvsa_multiple_ner_bow = load_mvsa_feature('ner-bow')\n",
    "mvsa_single_ner_tfidf, mvsa_multiple_ner_tfidf = load_mvsa_feature('ner-tfidf')\n",
    "\n",
    "## Load image feature\n",
    "mvsa_single_vgg16, mvsa_multiple_vgg16 = load_mvsa_feature('vgg16')\n",
    "mvsa_single_vgg19, mvsa_multiple_vgg19 = load_mvsa_feature('vgg19')\n",
    "mvsa_single_resnet50, mvsa_multiple_resnet50 = load_mvsa_feature('resnet50')\n",
    "mvsa_single_resnet101, mvsa_multiple_resnet101 = load_mvsa_feature('resnet101')\n",
    "mvsa_single_resnet152, mvsa_multiple_resnet152 = load_mvsa_feature('resnet152')\n",
    "mvsa_single_densenet121, mvsa_multiple_densenet121 = load_mvsa_feature('densenet121')\n",
    "mvsa_single_densenet169, mvsa_multiple_densenet169 = load_mvsa_feature('densenet169')\n",
    "mvsa_single_densenet201, mvsa_multiple_densenet201 = load_mvsa_feature('densenet201')"
   ]
  },
  {
   "cell_type": "code",
   "execution_count": 15,
   "id": "222d04a6",
   "metadata": {
    "execution": {
     "iopub.execute_input": "2022-07-13T16:38:33.045249Z",
     "iopub.status.busy": "2022-07-13T16:38:33.044934Z",
     "iopub.status.idle": "2022-07-13T16:38:33.130640Z",
     "shell.execute_reply": "2022-07-13T16:38:33.129687Z"
    },
    "papermill": {
     "duration": 0.098196,
     "end_time": "2022-07-13T16:38:33.133179",
     "exception": false,
     "start_time": "2022-07-13T16:38:33.034983",
     "status": "completed"
    },
    "tags": []
   },
   "outputs": [],
   "source": [
    "mvsa_single_bert_pos = np.concatenate((mvsa_single_bert, mvsa_single_pos_bow), axis=1)\n",
    "mvsa_single_bert_pos_ner = np.concatenate((mvsa_single_bert, mvsa_single_pos_bow, mvsa_single_ner_bow), axis=1)\n",
    "\n",
    "mvsa_multiple_bert_pos = np.concatenate((mvsa_multiple_bert, mvsa_multiple_pos_bow), axis=1)\n",
    "mvsa_multiple_bert_pos_ner = np.concatenate((mvsa_multiple_bert, mvsa_multiple_pos_bow, mvsa_multiple_ner_bow), axis=1)"
   ]
  },
  {
   "cell_type": "code",
   "execution_count": 16,
   "id": "cae238f1",
   "metadata": {
    "execution": {
     "iopub.execute_input": "2022-07-13T16:38:33.151109Z",
     "iopub.status.busy": "2022-07-13T16:38:33.150759Z",
     "iopub.status.idle": "2022-07-13T16:38:33.273483Z",
     "shell.execute_reply": "2022-07-13T16:38:33.272365Z"
    },
    "papermill": {
     "duration": 0.134277,
     "end_time": "2022-07-13T16:38:33.275701",
     "exception": false,
     "start_time": "2022-07-13T16:38:33.141424",
     "status": "completed"
    },
    "tags": []
   },
   "outputs": [],
   "source": [
    "mvsa_single_multimodal_labels, mvsa_single_text_labels, mvsa_single_image_labels = load_labels('../input/mvsa-features/labels/mvsa-single-labels.hdf5')\n",
    "mvsa_multiple_multimodal_labels, mvsa_multiple_text_labels, mvsa_multiple_image_labels = load_labels('../input/mvsa-features/labels/mvsa-multiple-labels.hdf5')"
   ]
  },
  {
   "cell_type": "code",
   "execution_count": 17,
   "id": "9437633e",
   "metadata": {
    "execution": {
     "iopub.execute_input": "2022-07-13T16:38:33.293851Z",
     "iopub.status.busy": "2022-07-13T16:38:33.293546Z",
     "iopub.status.idle": "2022-07-13T16:38:33.300485Z",
     "shell.execute_reply": "2022-07-13T16:38:33.299652Z"
    },
    "papermill": {
     "duration": 0.018313,
     "end_time": "2022-07-13T16:38:33.302529",
     "exception": false,
     "start_time": "2022-07-13T16:38:33.284216",
     "status": "completed"
    },
    "tags": []
   },
   "outputs": [],
   "source": [
    "# prepare all features data\n",
    "\n",
    "feature_names = ['resnet50-bert', 'resnet50-bert-lstm', 'vgg19-bert-pos-lstm', 'vgg19-bert-pos-ner-lstm']\n",
    "\n",
    "mvsa_single_features = [[mvsa_single_bert, mvsa_single_resnet50],\n",
    "                        [mvsa_single_bert, mvsa_single_resnet50],\n",
    "                        [mvsa_single_bert_pos, mvsa_single_vgg19],\n",
    "                        [mvsa_single_bert_pos_ner, mvsa_single_vgg19]]\n",
    "\n",
    "mvsa_multiple_features = [[mvsa_multiple_bert, mvsa_multiple_resnet50],\n",
    "                          [mvsa_multiple_bert, mvsa_multiple_resnet50],\n",
    "                          [mvsa_multiple_bert_pos, mvsa_multiple_vgg19],\n",
    "                          [mvsa_multiple_bert_pos_ner, mvsa_multiple_vgg19]]"
   ]
  },
  {
   "cell_type": "code",
   "execution_count": 18,
   "id": "d87e164d",
   "metadata": {
    "execution": {
     "iopub.execute_input": "2022-07-13T16:38:33.320024Z",
     "iopub.status.busy": "2022-07-13T16:38:33.319767Z",
     "iopub.status.idle": "2022-07-13T16:38:33.325877Z",
     "shell.execute_reply": "2022-07-13T16:38:33.325042Z"
    },
    "papermill": {
     "duration": 0.017313,
     "end_time": "2022-07-13T16:38:33.327802",
     "exception": false,
     "start_time": "2022-07-13T16:38:33.310489",
     "status": "completed"
    },
    "tags": []
   },
   "outputs": [],
   "source": [
    "le = preprocessing.LabelEncoder()\n",
    "le.fit(mvsa_single_multimodal_labels)\n",
    "NUM_CLASSES = len(le.classes_) # = 3"
   ]
  },
  {
   "cell_type": "code",
   "execution_count": 19,
   "id": "17217bde",
   "metadata": {
    "execution": {
     "iopub.execute_input": "2022-07-13T16:38:33.346615Z",
     "iopub.status.busy": "2022-07-13T16:38:33.346360Z",
     "iopub.status.idle": "2022-07-13T16:38:33.351077Z",
     "shell.execute_reply": "2022-07-13T16:38:33.350132Z"
    },
    "papermill": {
     "duration": 0.015588,
     "end_time": "2022-07-13T16:38:33.353150",
     "exception": false,
     "start_time": "2022-07-13T16:38:33.337562",
     "status": "completed"
    },
    "tags": []
   },
   "outputs": [],
   "source": [
    "reset_seeds()\n",
    "EPOCHS = 100\n",
    "BATCH_SIZE = 128\n",
    "VALIDATION_SPLIT = 0.1\n",
    "EARLY_STOPPING = 10\n",
    "NUM_LSTM = 128\n",
    "DROPOUT_RATE = 0.1"
   ]
  },
  {
   "cell_type": "markdown",
   "id": "a175e3b3",
   "metadata": {
    "papermill": {
     "duration": 0.007962,
     "end_time": "2022-07-13T16:38:33.369349",
     "exception": false,
     "start_time": "2022-07-13T16:38:33.361387",
     "status": "completed"
    },
    "tags": []
   },
   "source": [
    "# Intermediate Fusion"
   ]
  },
  {
   "cell_type": "code",
   "execution_count": 20,
   "id": "2502a220",
   "metadata": {
    "execution": {
     "iopub.execute_input": "2022-07-13T16:38:33.386521Z",
     "iopub.status.busy": "2022-07-13T16:38:33.386263Z",
     "iopub.status.idle": "2022-07-13T16:40:25.640494Z",
     "shell.execute_reply": "2022-07-13T16:40:25.639469Z"
    },
    "papermill": {
     "duration": 112.265759,
     "end_time": "2022-07-13T16:40:25.643106",
     "exception": false,
     "start_time": "2022-07-13T16:38:33.377347",
     "status": "completed"
    },
    "tags": []
   },
   "outputs": [
    {
     "name": "stdout",
     "output_type": "stream",
     "text": [
      "MVSA-Single with Intermediate Fusion\n",
      "\n",
      "MVSA-Single: resnet50-bert\n"
     ]
    },
    {
     "name": "stderr",
     "output_type": "stream",
     "text": [
      "2022-07-13 16:38:34.103482: I tensorflow/compiler/mlir/mlir_graph_optimization_pass.cc:185] None of the MLIR Optimization Passes are enabled (registered 2)\n"
     ]
    },
    {
     "name": "stdout",
     "output_type": "stream",
     "text": [
      "\n",
      "MVSA-Single: resnet50-bert-lstm\n"
     ]
    },
    {
     "name": "stderr",
     "output_type": "stream",
     "text": [
      "2022-07-13 16:38:43.383935: I tensorflow/stream_executor/cuda/cuda_dnn.cc:369] Loaded cuDNN version 8005\n"
     ]
    },
    {
     "name": "stdout",
     "output_type": "stream",
     "text": [
      "\n",
      "MVSA-Single: vgg19-bert-pos-lstm\n",
      "\n",
      "MVSA-Single: vgg19-bert-pos-ner-lstm\n",
      "\n",
      "MVSA-Multiple with Intermediate Fusion\n",
      "\n",
      "MVSA-Multiple: resnet50-bert\n",
      "\n",
      "MVSA-Multiple: resnet50-bert-lstm\n",
      "\n",
      "MVSA-Multiple: vgg19-bert-pos-lstm\n",
      "\n",
      "MVSA-Multiple: vgg19-bert-pos-ner-lstm\n",
      "\n"
     ]
    }
   ],
   "source": [
    "print('MVSA-Single with Intermediate Fusion\\n')\n",
    "scores = []\n",
    "\n",
    "for i in range(len(feature_names)):\n",
    "    print('MVSA-Single:', feature_names[i])\n",
    "    if 'lstm' in feature_names[i]:\n",
    "        _, score = run_and_evaluate_IF('single-IF-' + feature_names[i], mvsa_single_features[i][0], mvsa_single_features[i][1], \n",
    "                                     mvsa_single_multimodal_labels,\n",
    "                                     verbose=0)\n",
    "    else:\n",
    "        _, score = run_and_evaluate_IF('single-IF-' + feature_names[i], mvsa_single_features[i][0], mvsa_single_features[i][1],\n",
    "                                     mvsa_single_multimodal_labels,\n",
    "                                     verbose=0, lstm=False)\n",
    "    scores.append(score)\n",
    "    print()\n",
    "    \n",
    "df_single_scores_IF = pd.DataFrame(scores, columns=['Loss', 'Accuracy', 'F1-macro', 'F1-weighted'], index=feature_names)\n",
    "\n",
    "print('MVSA-Multiple with Intermediate Fusion\\n')\n",
    "scores = []\n",
    "\n",
    "for i in range(len(feature_names)):\n",
    "    print('MVSA-Multiple:', feature_names[i])\n",
    "    if 'lstm' in feature_names[i]:\n",
    "        _, score = run_and_evaluate_IF('multiple-IF-' + feature_names[i], mvsa_multiple_features[i][0], mvsa_multiple_features[i][1], \n",
    "                                     mvsa_multiple_multimodal_labels,\n",
    "                                     verbose=0)\n",
    "    else:\n",
    "        _, score = run_and_evaluate_IF('multiple-IF-' + feature_names[i], mvsa_multiple_features[i][0], mvsa_multiple_features[i][1],\n",
    "                                     mvsa_multiple_multimodal_labels,\n",
    "                                     verbose=0, lstm=False)\n",
    "    scores.append(score)\n",
    "    print()\n",
    "\n",
    "df_multiple_scores_IF = pd.DataFrame(scores, columns=['Loss', 'Accuracy', 'F1-macro', 'F1-weighted'], index=feature_names)"
   ]
  },
  {
   "cell_type": "markdown",
   "id": "3a15ff11",
   "metadata": {
    "papermill": {
     "duration": 0.008541,
     "end_time": "2022-07-13T16:40:25.660902",
     "exception": false,
     "start_time": "2022-07-13T16:40:25.652361",
     "status": "completed"
    },
    "tags": []
   },
   "source": [
    "# Late Fusion"
   ]
  },
  {
   "cell_type": "code",
   "execution_count": 21,
   "id": "9bf0f22f",
   "metadata": {
    "execution": {
     "iopub.execute_input": "2022-07-13T16:40:25.679392Z",
     "iopub.status.busy": "2022-07-13T16:40:25.679106Z",
     "iopub.status.idle": "2022-07-13T16:42:38.814406Z",
     "shell.execute_reply": "2022-07-13T16:42:38.809896Z"
    },
    "papermill": {
     "duration": 133.154385,
     "end_time": "2022-07-13T16:42:38.823873",
     "exception": false,
     "start_time": "2022-07-13T16:40:25.669488",
     "status": "completed"
    },
    "tags": []
   },
   "outputs": [
    {
     "name": "stdout",
     "output_type": "stream",
     "text": [
      "MVSA-Single with Late Fusion\n",
      "\n",
      "MVSA-Single: resnet50-bert\n",
      "\n",
      "MVSA-Single: resnet50-bert-lstm\n",
      "\n",
      "MVSA-Single: vgg19-bert-pos-lstm\n",
      "\n",
      "MVSA-Single: vgg19-bert-pos-ner-lstm\n",
      "\n",
      "MVSA-Multiple with Late Fusion\n",
      "\n",
      "MVSA-Multiple: resnet50-bert\n",
      "\n",
      "MVSA-Multiple: resnet50-bert-lstm\n",
      "\n",
      "MVSA-Multiple: vgg19-bert-pos-lstm\n",
      "\n",
      "MVSA-Multiple: vgg19-bert-pos-ner-lstm\n",
      "\n"
     ]
    }
   ],
   "source": [
    "print('MVSA-Single with Late Fusion\\n')\n",
    "scores = []\n",
    "\n",
    "for i in range(len(feature_names)):\n",
    "    print('MVSA-Single:', feature_names[i])\n",
    "    if 'lstm' in feature_names[i]:\n",
    "        score = run_and_evaluate_LF('single-LF-' + feature_names[i], mvsa_single_features[i][0], mvsa_single_features[i][1], \n",
    "                                     mvsa_single_multimodal_labels, mvsa_single_text_labels, mvsa_single_image_labels,\n",
    "                                     verbose=0)\n",
    "    else:\n",
    "        score = run_and_evaluate_LF('single-LF-' + feature_names[i], mvsa_single_features[i][0], mvsa_single_features[i][1],\n",
    "                                     mvsa_single_multimodal_labels, mvsa_single_text_labels, mvsa_single_image_labels,\n",
    "                                     verbose=0, lstm=False)\n",
    "    scores.append(score)\n",
    "    print()\n",
    "\n",
    "df_single_scores_LF = pd.DataFrame(scores, columns=['Accuracy', 'F1-macro', 'F1-weighted'], index=feature_names)\n",
    "\n",
    "print('MVSA-Multiple with Late Fusion\\n')\n",
    "scores = []\n",
    "\n",
    "for i in range(len(feature_names)):\n",
    "    print('MVSA-Multiple:', feature_names[i])\n",
    "    if 'lstm' in feature_names[i]:\n",
    "        score = run_and_evaluate_LF('multiple-LF-' + feature_names[i], mvsa_multiple_features[i][0], mvsa_multiple_features[i][1], \n",
    "                                     mvsa_multiple_multimodal_labels, mvsa_multiple_text_labels, mvsa_multiple_image_labels,\n",
    "                                     verbose=0)\n",
    "    else:\n",
    "        score = run_and_evaluate_LF('multiple-LF-' + feature_names[i], mvsa_multiple_features[i][0], mvsa_multiple_features[i][1],\n",
    "                                     mvsa_multiple_multimodal_labels, mvsa_multiple_text_labels, mvsa_multiple_image_labels,\n",
    "                                     verbose=0, lstm=False)\n",
    "    scores.append(score)\n",
    "    print()\n",
    "\n",
    "df_multiple_scores_LF = pd.DataFrame(scores, columns=['Accuracy', 'F1-macro', 'F1-weighted'], index=feature_names)"
   ]
  },
  {
   "cell_type": "markdown",
   "id": "12217475",
   "metadata": {
    "papermill": {
     "duration": 0.009004,
     "end_time": "2022-07-13T16:42:38.842128",
     "exception": false,
     "start_time": "2022-07-13T16:42:38.833124",
     "status": "completed"
    },
    "tags": []
   },
   "source": [
    "# Hybrid Fusion"
   ]
  },
  {
   "cell_type": "code",
   "execution_count": 22,
   "id": "f7566773",
   "metadata": {
    "execution": {
     "iopub.execute_input": "2022-07-13T16:42:38.862106Z",
     "iopub.status.busy": "2022-07-13T16:42:38.861782Z",
     "iopub.status.idle": "2022-07-13T16:47:04.455945Z",
     "shell.execute_reply": "2022-07-13T16:47:04.454555Z"
    },
    "papermill": {
     "duration": 265.616237,
     "end_time": "2022-07-13T16:47:04.467590",
     "exception": false,
     "start_time": "2022-07-13T16:42:38.851353",
     "status": "completed"
    },
    "tags": []
   },
   "outputs": [
    {
     "name": "stdout",
     "output_type": "stream",
     "text": [
      "MVSA-Single with Hybrid Fusion\n",
      "\n",
      "MVSA-Single: resnet50-bert\n",
      "\n",
      "MVSA-Single: resnet50-bert-lstm\n",
      "\n",
      "MVSA-Single: vgg19-bert-pos-lstm\n",
      "\n",
      "MVSA-Single: vgg19-bert-pos-ner-lstm\n",
      "\n",
      "MVSA-Multiple with Hybrid Fusion\n",
      "\n",
      "MVSA-Multiple: resnet50-bert\n",
      "\n",
      "MVSA-Multiple: resnet50-bert-lstm\n",
      "\n",
      "MVSA-Multiple: vgg19-bert-pos-lstm\n",
      "\n",
      "MVSA-Multiple: vgg19-bert-pos-ner-lstm\n",
      "\n"
     ]
    }
   ],
   "source": [
    "print('MVSA-Single with Hybrid Fusion\\n')\n",
    "scores = []\n",
    "\n",
    "for i in range(len(feature_names)):\n",
    "    print('MVSA-Single:', feature_names[i])\n",
    "    if 'lstm' in feature_names[i]:\n",
    "        score = run_and_evaluate_HF('single-HF-' + feature_names[i], mvsa_single_features[i][0], mvsa_single_features[i][1], \n",
    "                                     mvsa_single_multimodal_labels, mvsa_single_text_labels, mvsa_single_image_labels,\n",
    "                                     verbose=0)\n",
    "    else:\n",
    "        score = run_and_evaluate_HF('single-HF-' + feature_names[i], mvsa_single_features[i][0], mvsa_single_features[i][1],\n",
    "                                     mvsa_single_multimodal_labels, mvsa_single_text_labels, mvsa_single_image_labels,\n",
    "                                     verbose=0, lstm=False)\n",
    "    scores.append(score)\n",
    "    print()\n",
    "\n",
    "df_single_scores_HF = pd.DataFrame(scores, columns=['Accuracy', 'F1-macro', 'F1-weighted'], index=feature_names)\n",
    "\n",
    "print('MVSA-Multiple with Hybrid Fusion\\n')\n",
    "scores = []\n",
    "\n",
    "for i in range(len(feature_names)):\n",
    "    print('MVSA-Multiple:', feature_names[i])\n",
    "    if 'lstm' in feature_names[i]:\n",
    "        score = run_and_evaluate_HF('multiple-HF-' + feature_names[i], mvsa_multiple_features[i][0], mvsa_multiple_features[i][1], \n",
    "                                     mvsa_multiple_multimodal_labels, mvsa_multiple_text_labels, mvsa_multiple_image_labels,\n",
    "                                     verbose=0)\n",
    "    else:\n",
    "        score = run_and_evaluate_HF('multiple-HF-' + feature_names[i], mvsa_multiple_features[i][0], mvsa_multiple_features[i][1],\n",
    "                                     mvsa_multiple_multimodal_labels, mvsa_multiple_text_labels, mvsa_multiple_image_labels,\n",
    "                                     verbose=0, lstm=False)\n",
    "    scores.append(score)\n",
    "    print()\n",
    "\n",
    "df_multiple_scores_HF = pd.DataFrame(scores, columns=['Accuracy', 'F1-macro', 'F1-weighted'], index=feature_names)"
   ]
  },
  {
   "cell_type": "markdown",
   "id": "0975e42a",
   "metadata": {
    "papermill": {
     "duration": 0.009909,
     "end_time": "2022-07-13T16:47:04.487286",
     "exception": false,
     "start_time": "2022-07-13T16:47:04.477377",
     "status": "completed"
    },
    "tags": []
   },
   "source": [
    "# Display results"
   ]
  },
  {
   "cell_type": "code",
   "execution_count": 23,
   "id": "9a8f6fcb",
   "metadata": {
    "execution": {
     "iopub.execute_input": "2022-07-13T16:47:04.508480Z",
     "iopub.status.busy": "2022-07-13T16:47:04.507806Z",
     "iopub.status.idle": "2022-07-13T16:47:04.522783Z",
     "shell.execute_reply": "2022-07-13T16:47:04.521839Z"
    },
    "papermill": {
     "duration": 0.028025,
     "end_time": "2022-07-13T16:47:04.524948",
     "exception": false,
     "start_time": "2022-07-13T16:47:04.496923",
     "status": "completed"
    },
    "tags": []
   },
   "outputs": [],
   "source": [
    "df_single_scores_IF = df_single_scores_IF.drop(columns=['Loss'])\n",
    "df_multiple_scores_IF = df_multiple_scores_IF.drop(columns=['Loss'])"
   ]
  },
  {
   "cell_type": "code",
   "execution_count": 24,
   "id": "4b783e1c",
   "metadata": {
    "execution": {
     "iopub.execute_input": "2022-07-13T16:47:04.545891Z",
     "iopub.status.busy": "2022-07-13T16:47:04.545576Z",
     "iopub.status.idle": "2022-07-13T16:47:04.626004Z",
     "shell.execute_reply": "2022-07-13T16:47:04.624798Z"
    },
    "papermill": {
     "duration": 0.092903,
     "end_time": "2022-07-13T16:47:04.627957",
     "exception": false,
     "start_time": "2022-07-13T16:47:04.535054",
     "status": "completed"
    },
    "tags": []
   },
   "outputs": [
    {
     "name": "stdout",
     "output_type": "stream",
     "text": [
      "Intermediate Fusion\n"
     ]
    },
    {
     "data": {
      "text/html": [
       "<table style=\"display:inline\"><tr><td style=\"text-align:center\">MVSA-Single</td><td style=\"text-align:center\">MVSA-Multiple</td></tr><tr><td style=\"vertical-align:top\"> <style type=\"text/css\">\n",
       "#T_4ee28_row0_col1, #T_4ee28_row0_col2, #T_4ee28_row1_col0 {\n",
       "  color: lawngreen;\n",
       "}\n",
       "#T_4ee28_row2_col0, #T_4ee28_row3_col1, #T_4ee28_row3_col2 {\n",
       "  color: tomato;\n",
       "}\n",
       "</style>\n",
       "<table style=\"display:inline\" id=\"T_4ee28_\">\n",
       "  <thead>\n",
       "    <tr>\n",
       "      <th class=\"blank level0\" >&nbsp;</th>\n",
       "      <th class=\"col_heading level0 col0\" >Accuracy</th>\n",
       "      <th class=\"col_heading level0 col1\" >F1-macro</th>\n",
       "      <th class=\"col_heading level0 col2\" >F1-weighted</th>\n",
       "    </tr>\n",
       "  </thead>\n",
       "  <tbody>\n",
       "    <tr>\n",
       "      <th id=\"T_4ee28_level0_row0\" class=\"row_heading level0 row0\" >resnet50-bert</th>\n",
       "      <td id=\"T_4ee28_row0_col0\" class=\"data row0 col0\" >0.620843</td>\n",
       "      <td id=\"T_4ee28_row0_col1\" class=\"data row0 col1\" >0.409169</td>\n",
       "      <td id=\"T_4ee28_row0_col2\" class=\"data row0 col2\" >0.574778</td>\n",
       "    </tr>\n",
       "    <tr>\n",
       "      <th id=\"T_4ee28_level0_row1\" class=\"row_heading level0 row1\" >resnet50-bert-lstm</th>\n",
       "      <td id=\"T_4ee28_row1_col0\" class=\"data row1 col0\" >0.623060</td>\n",
       "      <td id=\"T_4ee28_row1_col1\" class=\"data row1 col1\" >0.255920</td>\n",
       "      <td id=\"T_4ee28_row1_col2\" class=\"data row1 col2\" >0.478360</td>\n",
       "    </tr>\n",
       "    <tr>\n",
       "      <th id=\"T_4ee28_level0_row2\" class=\"row_heading level0 row2\" >vgg19-bert-pos-lstm</th>\n",
       "      <td id=\"T_4ee28_row2_col0\" class=\"data row2 col0\" >0.536585</td>\n",
       "      <td id=\"T_4ee28_row2_col1\" class=\"data row2 col1\" >0.316004</td>\n",
       "      <td id=\"T_4ee28_row2_col2\" class=\"data row2 col2\" >0.453282</td>\n",
       "    </tr>\n",
       "    <tr>\n",
       "      <th id=\"T_4ee28_level0_row3\" class=\"row_heading level0 row3\" >vgg19-bert-pos-ner-lstm</th>\n",
       "      <td id=\"T_4ee28_row3_col0\" class=\"data row3 col0\" >0.563193</td>\n",
       "      <td id=\"T_4ee28_row3_col1\" class=\"data row3 col1\" >0.251962</td>\n",
       "      <td id=\"T_4ee28_row3_col2\" class=\"data row3 col2\" >0.416309</td>\n",
       "    </tr>\n",
       "  </tbody>\n",
       "</table style=\"display:inline\">\n",
       "</td><td style=\"vertical-align:top\"> <style type=\"text/css\">\n",
       "#T_0135f_row0_col0, #T_0135f_row0_col1, #T_0135f_row0_col2 {\n",
       "  color: lawngreen;\n",
       "}\n",
       "#T_0135f_row1_col0, #T_0135f_row1_col2, #T_0135f_row3_col1 {\n",
       "  color: tomato;\n",
       "}\n",
       "</style>\n",
       "<table style=\"display:inline\" id=\"T_0135f_\">\n",
       "  <thead>\n",
       "    <tr>\n",
       "      <th class=\"blank level0\" >&nbsp;</th>\n",
       "      <th class=\"col_heading level0 col0\" >Accuracy</th>\n",
       "      <th class=\"col_heading level0 col1\" >F1-macro</th>\n",
       "      <th class=\"col_heading level0 col2\" >F1-weighted</th>\n",
       "    </tr>\n",
       "  </thead>\n",
       "  <tbody>\n",
       "    <tr>\n",
       "      <th id=\"T_0135f_level0_row0\" class=\"row_heading level0 row0\" >resnet50-bert</th>\n",
       "      <td id=\"T_0135f_row0_col0\" class=\"data row0 col0\" >0.671563</td>\n",
       "      <td id=\"T_0135f_row0_col1\" class=\"data row0 col1\" >0.388123</td>\n",
       "      <td id=\"T_0135f_row0_col2\" class=\"data row0 col2\" >0.605605</td>\n",
       "    </tr>\n",
       "    <tr>\n",
       "      <th id=\"T_0135f_level0_row1\" class=\"row_heading level0 row1\" >resnet50-bert-lstm</th>\n",
       "      <td id=\"T_0135f_row1_col0\" class=\"data row1 col0\" >0.578731</td>\n",
       "      <td id=\"T_0135f_row1_col1\" class=\"data row1 col1\" >0.333244</td>\n",
       "      <td id=\"T_0135f_row1_col2\" class=\"data row1 col2\" >0.532776</td>\n",
       "    </tr>\n",
       "    <tr>\n",
       "      <th id=\"T_0135f_level0_row2\" class=\"row_heading level0 row2\" >vgg19-bert-pos-lstm</th>\n",
       "      <td id=\"T_0135f_row2_col0\" class=\"data row2 col0\" >0.657462</td>\n",
       "      <td id=\"T_0135f_row2_col1\" class=\"data row2 col1\" >0.340638</td>\n",
       "      <td id=\"T_0135f_row2_col2\" class=\"data row2 col2\" >0.581266</td>\n",
       "    </tr>\n",
       "    <tr>\n",
       "      <th id=\"T_0135f_level0_row3\" class=\"row_heading level0 row3\" >vgg19-bert-pos-ner-lstm</th>\n",
       "      <td id=\"T_0135f_row3_col0\" class=\"data row3 col0\" >0.643361</td>\n",
       "      <td id=\"T_0135f_row3_col1\" class=\"data row3 col1\" >0.313489</td>\n",
       "      <td id=\"T_0135f_row3_col2\" class=\"data row3 col2\" >0.551690</td>\n",
       "    </tr>\n",
       "  </tbody>\n",
       "</table style=\"display:inline\">\n",
       "</td></tr></table style=\"display:inline\">"
      ]
     },
     "metadata": {},
     "output_type": "display_data"
    }
   ],
   "source": [
    "print('Intermediate Fusion')\n",
    "display_dataframes((style_dataframe(df_single_scores_IF), style_dataframe(df_multiple_scores_IF)), \n",
    "                   names=['MVSA-Single', 'MVSA-Multiple'])"
   ]
  },
  {
   "cell_type": "code",
   "execution_count": 25,
   "id": "2980ce4c",
   "metadata": {
    "execution": {
     "iopub.execute_input": "2022-07-13T16:47:04.649444Z",
     "iopub.status.busy": "2022-07-13T16:47:04.648703Z",
     "iopub.status.idle": "2022-07-13T16:47:04.675751Z",
     "shell.execute_reply": "2022-07-13T16:47:04.674708Z"
    },
    "papermill": {
     "duration": 0.040134,
     "end_time": "2022-07-13T16:47:04.677964",
     "exception": false,
     "start_time": "2022-07-13T16:47:04.637830",
     "status": "completed"
    },
    "tags": []
   },
   "outputs": [
    {
     "name": "stdout",
     "output_type": "stream",
     "text": [
      "Late Fusion with Original Labels\n"
     ]
    },
    {
     "data": {
      "text/html": [
       "<table style=\"display:inline\"><tr><td style=\"text-align:center\">MVSA-Single</td><td style=\"text-align:center\">MVSA-Multiple</td></tr><tr><td style=\"vertical-align:top\"> <style type=\"text/css\">\n",
       "#T_b044e_row0_col1, #T_b044e_row0_col2, #T_b044e_row3_col0 {\n",
       "  color: tomato;\n",
       "}\n",
       "#T_b044e_row1_col0, #T_b044e_row1_col1, #T_b044e_row1_col2 {\n",
       "  color: lawngreen;\n",
       "}\n",
       "</style>\n",
       "<table style=\"display:inline\" id=\"T_b044e_\">\n",
       "  <thead>\n",
       "    <tr>\n",
       "      <th class=\"blank level0\" >&nbsp;</th>\n",
       "      <th class=\"col_heading level0 col0\" >Accuracy</th>\n",
       "      <th class=\"col_heading level0 col1\" >F1-macro</th>\n",
       "      <th class=\"col_heading level0 col2\" >F1-weighted</th>\n",
       "    </tr>\n",
       "  </thead>\n",
       "  <tbody>\n",
       "    <tr>\n",
       "      <th id=\"T_b044e_level0_row0\" class=\"row_heading level0 row0\" >resnet50-bert</th>\n",
       "      <td id=\"T_b044e_row0_col0\" class=\"data row0 col0\" >0.445676</td>\n",
       "      <td id=\"T_b044e_row0_col1\" class=\"data row0 col1\" >0.231391</td>\n",
       "      <td id=\"T_b044e_row0_col2\" class=\"data row0 col2\" >0.395187</td>\n",
       "    </tr>\n",
       "    <tr>\n",
       "      <th id=\"T_b044e_level0_row1\" class=\"row_heading level0 row1\" >resnet50-bert-lstm</th>\n",
       "      <td id=\"T_b044e_row1_col0\" class=\"data row1 col0\" >0.532151</td>\n",
       "      <td id=\"T_b044e_row1_col1\" class=\"data row1 col1\" >0.281283</td>\n",
       "      <td id=\"T_b044e_row1_col2\" class=\"data row1 col2\" >0.437494</td>\n",
       "    </tr>\n",
       "    <tr>\n",
       "      <th id=\"T_b044e_level0_row2\" class=\"row_heading level0 row2\" >vgg19-bert-pos-lstm</th>\n",
       "      <td id=\"T_b044e_row2_col0\" class=\"data row2 col0\" >0.516630</td>\n",
       "      <td id=\"T_b044e_row2_col1\" class=\"data row2 col1\" >0.273504</td>\n",
       "      <td id=\"T_b044e_row2_col2\" class=\"data row2 col2\" >0.429784</td>\n",
       "    </tr>\n",
       "    <tr>\n",
       "      <th id=\"T_b044e_level0_row3\" class=\"row_heading level0 row3\" >vgg19-bert-pos-ner-lstm</th>\n",
       "      <td id=\"T_b044e_row3_col0\" class=\"data row3 col0\" >0.423503</td>\n",
       "      <td id=\"T_b044e_row3_col1\" class=\"data row3 col1\" >0.254213</td>\n",
       "      <td id=\"T_b044e_row3_col2\" class=\"data row3 col2\" >0.397521</td>\n",
       "    </tr>\n",
       "  </tbody>\n",
       "</table style=\"display:inline\">\n",
       "</td><td style=\"vertical-align:top\"> <style type=\"text/css\">\n",
       "#T_5f5ee_row0_col0, #T_5f5ee_row0_col2, #T_5f5ee_row1_col1 {\n",
       "  color: tomato;\n",
       "}\n",
       "#T_5f5ee_row2_col0, #T_5f5ee_row2_col2, #T_5f5ee_row3_col1 {\n",
       "  color: lawngreen;\n",
       "}\n",
       "</style>\n",
       "<table style=\"display:inline\" id=\"T_5f5ee_\">\n",
       "  <thead>\n",
       "    <tr>\n",
       "      <th class=\"blank level0\" >&nbsp;</th>\n",
       "      <th class=\"col_heading level0 col0\" >Accuracy</th>\n",
       "      <th class=\"col_heading level0 col1\" >F1-macro</th>\n",
       "      <th class=\"col_heading level0 col2\" >F1-weighted</th>\n",
       "    </tr>\n",
       "  </thead>\n",
       "  <tbody>\n",
       "    <tr>\n",
       "      <th id=\"T_5f5ee_level0_row0\" class=\"row_heading level0 row0\" >resnet50-bert</th>\n",
       "      <td id=\"T_5f5ee_row0_col0\" class=\"data row0 col0\" >0.489424</td>\n",
       "      <td id=\"T_5f5ee_row0_col1\" class=\"data row0 col1\" >0.279943</td>\n",
       "      <td id=\"T_5f5ee_row0_col2\" class=\"data row0 col2\" >0.453894</td>\n",
       "    </tr>\n",
       "    <tr>\n",
       "      <th id=\"T_5f5ee_level0_row1\" class=\"row_heading level0 row1\" >resnet50-bert-lstm</th>\n",
       "      <td id=\"T_5f5ee_row1_col0\" class=\"data row1 col0\" >0.594007</td>\n",
       "      <td id=\"T_5f5ee_row1_col1\" class=\"data row1 col1\" >0.270708</td>\n",
       "      <td id=\"T_5f5ee_row1_col2\" class=\"data row1 col2\" >0.487697</td>\n",
       "    </tr>\n",
       "    <tr>\n",
       "      <th id=\"T_5f5ee_level0_row2\" class=\"row_heading level0 row2\" >vgg19-bert-pos-lstm</th>\n",
       "      <td id=\"T_5f5ee_row2_col0\" class=\"data row2 col0\" >0.616334</td>\n",
       "      <td id=\"T_5f5ee_row2_col1\" class=\"data row2 col1\" >0.294270</td>\n",
       "      <td id=\"T_5f5ee_row2_col2\" class=\"data row2 col2\" >0.508096</td>\n",
       "    </tr>\n",
       "    <tr>\n",
       "      <th id=\"T_5f5ee_level0_row3\" class=\"row_heading level0 row3\" >vgg19-bert-pos-ner-lstm</th>\n",
       "      <td id=\"T_5f5ee_row3_col0\" class=\"data row3 col0\" >0.575206</td>\n",
       "      <td id=\"T_5f5ee_row3_col1\" class=\"data row3 col1\" >0.299519</td>\n",
       "      <td id=\"T_5f5ee_row3_col2\" class=\"data row3 col2\" >0.498383</td>\n",
       "    </tr>\n",
       "  </tbody>\n",
       "</table style=\"display:inline\">\n",
       "</td></tr></table style=\"display:inline\">"
      ]
     },
     "metadata": {},
     "output_type": "display_data"
    }
   ],
   "source": [
    "print('Late Fusion with Original Labels')\n",
    "display_dataframes((style_dataframe(df_single_scores_LF), style_dataframe(df_multiple_scores_LF)), \n",
    "                   names=['MVSA-Single', 'MVSA-Multiple'])"
   ]
  },
  {
   "cell_type": "code",
   "execution_count": 26,
   "id": "7d87656d",
   "metadata": {
    "execution": {
     "iopub.execute_input": "2022-07-13T16:47:04.699807Z",
     "iopub.status.busy": "2022-07-13T16:47:04.699493Z",
     "iopub.status.idle": "2022-07-13T16:47:04.727606Z",
     "shell.execute_reply": "2022-07-13T16:47:04.726731Z"
    },
    "papermill": {
     "duration": 0.041328,
     "end_time": "2022-07-13T16:47:04.729546",
     "exception": false,
     "start_time": "2022-07-13T16:47:04.688218",
     "status": "completed"
    },
    "tags": []
   },
   "outputs": [
    {
     "name": "stdout",
     "output_type": "stream",
     "text": [
      "Hybrid Fusion with Original Labels\n"
     ]
    },
    {
     "data": {
      "text/html": [
       "<table style=\"display:inline\"><tr><td style=\"text-align:center\">MVSA-Single</td><td style=\"text-align:center\">MVSA-Multiple</td></tr><tr><td style=\"vertical-align:top\"> <style type=\"text/css\">\n",
       "#T_53018_row0_col0, #T_53018_row0_col1, #T_53018_row3_col2 {\n",
       "  color: tomato;\n",
       "}\n",
       "#T_53018_row1_col0, #T_53018_row1_col2, #T_53018_row3_col1 {\n",
       "  color: lawngreen;\n",
       "}\n",
       "</style>\n",
       "<table style=\"display:inline\" id=\"T_53018_\">\n",
       "  <thead>\n",
       "    <tr>\n",
       "      <th class=\"blank level0\" >&nbsp;</th>\n",
       "      <th class=\"col_heading level0 col0\" >Accuracy</th>\n",
       "      <th class=\"col_heading level0 col1\" >F1-macro</th>\n",
       "      <th class=\"col_heading level0 col2\" >F1-weighted</th>\n",
       "    </tr>\n",
       "  </thead>\n",
       "  <tbody>\n",
       "    <tr>\n",
       "      <th id=\"T_53018_level0_row0\" class=\"row_heading level0 row0\" >resnet50-bert</th>\n",
       "      <td id=\"T_53018_row0_col0\" class=\"data row0 col0\" >0.518847</td>\n",
       "      <td id=\"T_53018_row0_col1\" class=\"data row0 col1\" >0.244605</td>\n",
       "      <td id=\"T_53018_row0_col2\" class=\"data row0 col2\" >0.430914</td>\n",
       "    </tr>\n",
       "    <tr>\n",
       "      <th id=\"T_53018_level0_row1\" class=\"row_heading level0 row1\" >resnet50-bert-lstm</th>\n",
       "      <td id=\"T_53018_row1_col0\" class=\"data row1 col0\" >0.563193</td>\n",
       "      <td id=\"T_53018_row1_col1\" class=\"data row1 col1\" >0.266835</td>\n",
       "      <td id=\"T_53018_row1_col2\" class=\"data row1 col2\" >0.451493</td>\n",
       "    </tr>\n",
       "    <tr>\n",
       "      <th id=\"T_53018_level0_row2\" class=\"row_heading level0 row2\" >vgg19-bert-pos-lstm</th>\n",
       "      <td id=\"T_53018_row2_col0\" class=\"data row2 col0\" >0.552106</td>\n",
       "      <td id=\"T_53018_row2_col1\" class=\"data row2 col1\" >0.270381</td>\n",
       "      <td id=\"T_53018_row2_col2\" class=\"data row2 col2\" >0.443565</td>\n",
       "    </tr>\n",
       "    <tr>\n",
       "      <th id=\"T_53018_level0_row3\" class=\"row_heading level0 row3\" >vgg19-bert-pos-ner-lstm</th>\n",
       "      <td id=\"T_53018_row3_col0\" class=\"data row3 col0\" >0.525499</td>\n",
       "      <td id=\"T_53018_row3_col1\" class=\"data row3 col1\" >0.279492</td>\n",
       "      <td id=\"T_53018_row3_col2\" class=\"data row3 col2\" >0.429269</td>\n",
       "    </tr>\n",
       "  </tbody>\n",
       "</table style=\"display:inline\">\n",
       "</td><td style=\"vertical-align:top\"> <style type=\"text/css\">\n",
       "#T_b0289_row0_col0, #T_b0289_row0_col2, #T_b0289_row1_col1 {\n",
       "  color: tomato;\n",
       "}\n",
       "#T_b0289_row0_col1, #T_b0289_row2_col0, #T_b0289_row2_col2 {\n",
       "  color: lawngreen;\n",
       "}\n",
       "</style>\n",
       "<table style=\"display:inline\" id=\"T_b0289_\">\n",
       "  <thead>\n",
       "    <tr>\n",
       "      <th class=\"blank level0\" >&nbsp;</th>\n",
       "      <th class=\"col_heading level0 col0\" >Accuracy</th>\n",
       "      <th class=\"col_heading level0 col1\" >F1-macro</th>\n",
       "      <th class=\"col_heading level0 col2\" >F1-weighted</th>\n",
       "    </tr>\n",
       "  </thead>\n",
       "  <tbody>\n",
       "    <tr>\n",
       "      <th id=\"T_b0289_level0_row0\" class=\"row_heading level0 row0\" >resnet50-bert</th>\n",
       "      <td id=\"T_b0289_row0_col0\" class=\"data row0 col0\" >0.554054</td>\n",
       "      <td id=\"T_b0289_row0_col1\" class=\"data row0 col1\" >0.289907</td>\n",
       "      <td id=\"T_b0289_row0_col2\" class=\"data row0 col2\" >0.480873</td>\n",
       "    </tr>\n",
       "    <tr>\n",
       "      <th id=\"T_b0289_level0_row1\" class=\"row_heading level0 row1\" >resnet50-bert-lstm</th>\n",
       "      <td id=\"T_b0289_row1_col0\" class=\"data row1 col0\" >0.600470</td>\n",
       "      <td id=\"T_b0289_row1_col1\" class=\"data row1 col1\" >0.271032</td>\n",
       "      <td id=\"T_b0289_row1_col2\" class=\"data row1 col2\" >0.489889</td>\n",
       "    </tr>\n",
       "    <tr>\n",
       "      <th id=\"T_b0289_level0_row2\" class=\"row_heading level0 row2\" >vgg19-bert-pos-lstm</th>\n",
       "      <td id=\"T_b0289_row2_col0\" class=\"data row2 col0\" >0.603995</td>\n",
       "      <td id=\"T_b0289_row2_col1\" class=\"data row2 col1\" >0.287417</td>\n",
       "      <td id=\"T_b0289_row2_col2\" class=\"data row2 col2\" >0.498489</td>\n",
       "    </tr>\n",
       "    <tr>\n",
       "      <th id=\"T_b0289_level0_row3\" class=\"row_heading level0 row3\" >vgg19-bert-pos-ner-lstm</th>\n",
       "      <td id=\"T_b0289_row3_col0\" class=\"data row3 col0\" >0.595770</td>\n",
       "      <td id=\"T_b0289_row3_col1\" class=\"data row3 col1\" >0.285030</td>\n",
       "      <td id=\"T_b0289_row3_col2\" class=\"data row3 col2\" >0.496759</td>\n",
       "    </tr>\n",
       "  </tbody>\n",
       "</table style=\"display:inline\">\n",
       "</td></tr></table style=\"display:inline\">"
      ]
     },
     "metadata": {},
     "output_type": "display_data"
    }
   ],
   "source": [
    "print('Hybrid Fusion with Original Labels')\n",
    "display_dataframes((style_dataframe(df_single_scores_HF), style_dataframe(df_multiple_scores_HF)), \n",
    "                   names=['MVSA-Single', 'MVSA-Multiple'])"
   ]
  },
  {
   "cell_type": "code",
   "execution_count": 27,
   "id": "61bf615e",
   "metadata": {
    "execution": {
     "iopub.execute_input": "2022-07-13T16:47:04.752005Z",
     "iopub.status.busy": "2022-07-13T16:47:04.751498Z",
     "iopub.status.idle": "2022-07-13T16:47:04.760651Z",
     "shell.execute_reply": "2022-07-13T16:47:04.759824Z"
    },
    "papermill": {
     "duration": 0.022443,
     "end_time": "2022-07-13T16:47:04.762607",
     "exception": false,
     "start_time": "2022-07-13T16:47:04.740164",
     "status": "completed"
    },
    "tags": []
   },
   "outputs": [],
   "source": [
    "# get max values of late and intermediate fusion\n",
    "df_single_higher_fusion = pd.DataFrame(np.where(df_single_scores_LF.gt(df_single_scores_IF.values), df_single_scores_LF.values, df_single_scores_IF.values),\n",
    "                 columns=['Accuracy','F1-macro','F1-weighted'], index=feature_names)\n",
    "\n",
    "df_multiple_higher_fusion = pd.DataFrame(np.where(df_single_scores_LF.gt(df_single_scores_IF.values), df_multiple_scores_LF.values, df_multiple_scores_IF.values),\n",
    "                 columns=['Accuracy','F1-macro','F1-weighted'], index=feature_names)\n",
    "\n",
    "df_single_subtract = df_single_scores_HF.subtract(df_single_higher_fusion)\n",
    "df_multiple_subtract = df_multiple_scores_HF.subtract(df_multiple_higher_fusion)"
   ]
  },
  {
   "cell_type": "code",
   "execution_count": 28,
   "id": "bc1f9414",
   "metadata": {
    "execution": {
     "iopub.execute_input": "2022-07-13T16:47:04.785053Z",
     "iopub.status.busy": "2022-07-13T16:47:04.784511Z",
     "iopub.status.idle": "2022-07-13T16:47:04.801790Z",
     "shell.execute_reply": "2022-07-13T16:47:04.800687Z"
    },
    "papermill": {
     "duration": 0.032043,
     "end_time": "2022-07-13T16:47:04.805095",
     "exception": false,
     "start_time": "2022-07-13T16:47:04.773052",
     "status": "completed"
    },
    "tags": []
   },
   "outputs": [
    {
     "name": "stdout",
     "output_type": "stream",
     "text": [
      "Compare Hybrid Fusion scores up\n"
     ]
    },
    {
     "data": {
      "text/html": [
       "<table style=\"display:inline\"><tr><td style=\"text-align:center\">MVSA-Single</td><td style=\"text-align:center\">MVSA-Multiple</td></tr><tr><td style=\"vertical-align:top\"> <style type=\"text/css\">\n",
       "#T_3b7cb_row0_col0, #T_3b7cb_row0_col1, #T_3b7cb_row0_col2, #T_3b7cb_row1_col0, #T_3b7cb_row1_col1, #T_3b7cb_row1_col2, #T_3b7cb_row2_col1, #T_3b7cb_row2_col2, #T_3b7cb_row3_col0 {\n",
       "  color: tomato;\n",
       "}\n",
       "#T_3b7cb_row2_col0, #T_3b7cb_row3_col1, #T_3b7cb_row3_col2 {\n",
       "  color: lawngreen;\n",
       "}\n",
       "</style>\n",
       "<table style=\"display:inline\" id=\"T_3b7cb_\">\n",
       "  <thead>\n",
       "    <tr>\n",
       "      <th class=\"blank level0\" >&nbsp;</th>\n",
       "      <th class=\"col_heading level0 col0\" >Accuracy</th>\n",
       "      <th class=\"col_heading level0 col1\" >F1-macro</th>\n",
       "      <th class=\"col_heading level0 col2\" >F1-weighted</th>\n",
       "    </tr>\n",
       "  </thead>\n",
       "  <tbody>\n",
       "    <tr>\n",
       "      <th id=\"T_3b7cb_level0_row0\" class=\"row_heading level0 row0\" >resnet50-bert</th>\n",
       "      <td id=\"T_3b7cb_row0_col0\" class=\"data row0 col0\" >-0.101996</td>\n",
       "      <td id=\"T_3b7cb_row0_col1\" class=\"data row0 col1\" >-0.164564</td>\n",
       "      <td id=\"T_3b7cb_row0_col2\" class=\"data row0 col2\" >-0.143864</td>\n",
       "    </tr>\n",
       "    <tr>\n",
       "      <th id=\"T_3b7cb_level0_row1\" class=\"row_heading level0 row1\" >resnet50-bert-lstm</th>\n",
       "      <td id=\"T_3b7cb_row1_col0\" class=\"data row1 col0\" >-0.059867</td>\n",
       "      <td id=\"T_3b7cb_row1_col1\" class=\"data row1 col1\" >-0.014448</td>\n",
       "      <td id=\"T_3b7cb_row1_col2\" class=\"data row1 col2\" >-0.026867</td>\n",
       "    </tr>\n",
       "    <tr>\n",
       "      <th id=\"T_3b7cb_level0_row2\" class=\"row_heading level0 row2\" >vgg19-bert-pos-lstm</th>\n",
       "      <td id=\"T_3b7cb_row2_col0\" class=\"data row2 col0\" >0.015521</td>\n",
       "      <td id=\"T_3b7cb_row2_col1\" class=\"data row2 col1\" >-0.045622</td>\n",
       "      <td id=\"T_3b7cb_row2_col2\" class=\"data row2 col2\" >-0.009717</td>\n",
       "    </tr>\n",
       "    <tr>\n",
       "      <th id=\"T_3b7cb_level0_row3\" class=\"row_heading level0 row3\" >vgg19-bert-pos-ner-lstm</th>\n",
       "      <td id=\"T_3b7cb_row3_col0\" class=\"data row3 col0\" >-0.037694</td>\n",
       "      <td id=\"T_3b7cb_row3_col1\" class=\"data row3 col1\" >0.025279</td>\n",
       "      <td id=\"T_3b7cb_row3_col2\" class=\"data row3 col2\" >0.012960</td>\n",
       "    </tr>\n",
       "  </tbody>\n",
       "</table style=\"display:inline\">\n",
       "</td><td style=\"vertical-align:top\"> <style type=\"text/css\">\n",
       "#T_73991_row0_col0, #T_73991_row0_col1, #T_73991_row0_col2, #T_73991_row1_col2, #T_73991_row2_col0, #T_73991_row2_col1, #T_73991_row2_col2, #T_73991_row3_col0, #T_73991_row3_col1, #T_73991_row3_col2 {\n",
       "  color: tomato;\n",
       "}\n",
       "#T_73991_row1_col0, #T_73991_row1_col1 {\n",
       "  color: lawngreen;\n",
       "}\n",
       "</style>\n",
       "<table style=\"display:inline\" id=\"T_73991_\">\n",
       "  <thead>\n",
       "    <tr>\n",
       "      <th class=\"blank level0\" >&nbsp;</th>\n",
       "      <th class=\"col_heading level0 col0\" >Accuracy</th>\n",
       "      <th class=\"col_heading level0 col1\" >F1-macro</th>\n",
       "      <th class=\"col_heading level0 col2\" >F1-weighted</th>\n",
       "    </tr>\n",
       "  </thead>\n",
       "  <tbody>\n",
       "    <tr>\n",
       "      <th id=\"T_73991_level0_row0\" class=\"row_heading level0 row0\" >resnet50-bert</th>\n",
       "      <td id=\"T_73991_row0_col0\" class=\"data row0 col0\" >-0.117509</td>\n",
       "      <td id=\"T_73991_row0_col1\" class=\"data row0 col1\" >-0.098216</td>\n",
       "      <td id=\"T_73991_row0_col2\" class=\"data row0 col2\" >-0.124732</td>\n",
       "    </tr>\n",
       "    <tr>\n",
       "      <th id=\"T_73991_level0_row1\" class=\"row_heading level0 row1\" >resnet50-bert-lstm</th>\n",
       "      <td id=\"T_73991_row1_col0\" class=\"data row1 col0\" >0.021739</td>\n",
       "      <td id=\"T_73991_row1_col1\" class=\"data row1 col1\" >0.000324</td>\n",
       "      <td id=\"T_73991_row1_col2\" class=\"data row1 col2\" >-0.042887</td>\n",
       "    </tr>\n",
       "    <tr>\n",
       "      <th id=\"T_73991_level0_row2\" class=\"row_heading level0 row2\" >vgg19-bert-pos-lstm</th>\n",
       "      <td id=\"T_73991_row2_col0\" class=\"data row2 col0\" >-0.053467</td>\n",
       "      <td id=\"T_73991_row2_col1\" class=\"data row2 col1\" >-0.053221</td>\n",
       "      <td id=\"T_73991_row2_col2\" class=\"data row2 col2\" >-0.082777</td>\n",
       "    </tr>\n",
       "    <tr>\n",
       "      <th id=\"T_73991_level0_row3\" class=\"row_heading level0 row3\" >vgg19-bert-pos-ner-lstm</th>\n",
       "      <td id=\"T_73991_row3_col0\" class=\"data row3 col0\" >-0.047591</td>\n",
       "      <td id=\"T_73991_row3_col1\" class=\"data row3 col1\" >-0.014489</td>\n",
       "      <td id=\"T_73991_row3_col2\" class=\"data row3 col2\" >-0.054931</td>\n",
       "    </tr>\n",
       "  </tbody>\n",
       "</table style=\"display:inline\">\n",
       "</td></tr></table style=\"display:inline\">"
      ]
     },
     "metadata": {},
     "output_type": "display_data"
    }
   ],
   "source": [
    "print('Compare Hybrid Fusion scores up')\n",
    "display_dataframes((df_single_subtract.style.applymap(highlight_neg), df_multiple_subtract.style.applymap(highlight_neg)), \n",
    "                   names=['MVSA-Single', 'MVSA-Multiple'])"
   ]
  },
  {
   "cell_type": "markdown",
   "id": "aaccf958",
   "metadata": {
    "papermill": {
     "duration": 0.017613,
     "end_time": "2022-07-13T16:47:04.847939",
     "exception": false,
     "start_time": "2022-07-13T16:47:04.830326",
     "status": "completed"
    },
    "tags": []
   },
   "source": [
    "# Drafts"
   ]
  },
  {
   "cell_type": "code",
   "execution_count": 29,
   "id": "ac5e362c",
   "metadata": {
    "execution": {
     "iopub.execute_input": "2022-07-13T16:47:04.896087Z",
     "iopub.status.busy": "2022-07-13T16:47:04.895222Z",
     "iopub.status.idle": "2022-07-13T16:47:04.902490Z",
     "shell.execute_reply": "2022-07-13T16:47:04.901378Z"
    },
    "papermill": {
     "duration": 0.038168,
     "end_time": "2022-07-13T16:47:04.907329",
     "exception": false,
     "start_time": "2022-07-13T16:47:04.869161",
     "status": "completed"
    },
    "tags": []
   },
   "outputs": [],
   "source": [
    "# mvsa_single_text_features = np.concatenate((mvsa_single_bert, mvsa_single_pos_tfidf), axis=1)\n",
    "# mvsa_multiple_text_features = np.concatenate((mvsa_multiple_bert, mvsa_multiple_pos_tfidf), axis=1)\n",
    "\n",
    "# mvsa_single_image_features = mvsa_single_densenet201\n",
    "# mvsa_multiple_image_features = mvsa_multiple_densenet201\n",
    "\n",
    "# print('Text vector shape:', mvsa_single_text_features.shape[1:])\n",
    "# print('Image vector shape:', mvsa_single_image_features.shape[1:])"
   ]
  }
 ],
 "metadata": {
  "kernelspec": {
   "display_name": "Python 3",
   "language": "python",
   "name": "python3"
  },
  "language_info": {
   "codemirror_mode": {
    "name": "ipython",
    "version": 3
   },
   "file_extension": ".py",
   "mimetype": "text/x-python",
   "name": "python",
   "nbconvert_exporter": "python",
   "pygments_lexer": "ipython3",
   "version": "3.7.12"
  },
  "papermill": {
   "default_parameters": {},
   "duration": 555.842829,
   "end_time": "2022-07-13T16:47:08.268178",
   "environment_variables": {},
   "exception": null,
   "input_path": "__notebook__.ipynb",
   "output_path": "__notebook__.ipynb",
   "parameters": {},
   "start_time": "2022-07-13T16:37:52.425349",
   "version": "2.3.4"
  }
 },
 "nbformat": 4,
 "nbformat_minor": 5
}
