{
 "cells": [
  {
   "cell_type": "code",
   "execution_count": 1,
   "id": "c93331c7",
   "metadata": {
    "_cell_guid": "b1076dfc-b9ad-4769-8c92-a6c4dae69d19",
    "_uuid": "8f2839f25d086af736a60e9eeb907d3b93b6e0e5",
    "execution": {
     "iopub.execute_input": "2022-07-05T06:57:04.088509Z",
     "iopub.status.busy": "2022-07-05T06:57:04.088080Z",
     "iopub.status.idle": "2022-07-05T06:57:12.466258Z",
     "shell.execute_reply": "2022-07-05T06:57:12.465315Z"
    },
    "papermill": {
     "duration": 8.391743,
     "end_time": "2022-07-05T06:57:12.468722",
     "exception": false,
     "start_time": "2022-07-05T06:57:04.076979",
     "status": "completed"
    },
    "tags": []
   },
   "outputs": [],
   "source": [
    "SEED = 61\n",
    "\n",
    "import os\n",
    "import re\n",
    "import gc\n",
    "import h5py\n",
    "import torch\n",
    "import numpy as np\n",
    "import pandas as pd\n",
    "import tensorflow as tf\n",
    "import random as python_random\n",
    "import tensorflow_addons as tfa\n",
    "import matplotlib.pyplot as plt\n",
    "\n",
    "from tqdm import tqdm\n",
    "from nltk import tokenize\n",
    "from IPython.display import display_html\n",
    "from transformers import BertTokenizer, BertForMaskedLM, BertModel\n",
    "from tensorflow.python.keras.layers import Layer, InputSpec, Lambda\n",
    "\n",
    "from sklearn import preprocessing\n",
    "from sklearn.decomposition import PCA\n",
    "from sklearn.model_selection import RepeatedKFold, KFold\n",
    "from sklearn.model_selection import cross_val_score\n",
    "from sklearn.metrics import f1_score, accuracy_score, confusion_matrix, ConfusionMatrixDisplay, classification_report\n",
    "\n",
    "from keras import backend as K\n",
    "from keras import initializers,regularizers,constraints\n",
    "from keras.preprocessing.text import Tokenizer, text_to_word_sequence\n",
    "from keras.preprocessing.sequence import pad_sequences\n",
    "from keras.utils.np_utils import to_categorical\n",
    "from keras.layers import Reshape, Input, Embedding, Flatten, Dense, Dropout, BatchNormalization, Activation #, merge\n",
    "from keras.layers import TimeDistributed, LSTM, GRU, Bidirectional, Convolution1D, MaxPooling1D, MaxPooling2D\n",
    "from keras.layers.core import RepeatVector #, Reshape\n",
    "from keras.callbacks import ModelCheckpoint, EarlyStopping, ReduceLROnPlateau\n",
    "from keras.models import Sequential, Model, load_model\n",
    "\n",
    "def reset_seeds():\n",
    "    np.random.seed(SEED) \n",
    "    python_random.seed(SEED)\n",
    "    tf.random.set_seed(SEED)\n",
    "    os.environ[\"PYTHONHASHSEED\"] = str(SEED)\n",
    "\n",
    "# from tensorflow.keras import Model\n",
    "# from attention import Attention_input1, Attention_input2\n",
    "# from keras.optimizers import SGD, RMSprop, Adagrad"
   ]
  },
  {
   "cell_type": "code",
   "execution_count": 2,
   "id": "04463a10",
   "metadata": {
    "execution": {
     "iopub.execute_input": "2022-07-05T06:57:12.486971Z",
     "iopub.status.busy": "2022-07-05T06:57:12.486476Z",
     "iopub.status.idle": "2022-07-05T06:57:12.491040Z",
     "shell.execute_reply": "2022-07-05T06:57:12.490047Z"
    },
    "papermill": {
     "duration": 0.015806,
     "end_time": "2022-07-05T06:57:12.493174",
     "exception": false,
     "start_time": "2022-07-05T06:57:12.477368",
     "status": "completed"
    },
    "tags": []
   },
   "outputs": [],
   "source": [
    "NUM_CLASSES = 3"
   ]
  },
  {
   "cell_type": "code",
   "execution_count": 3,
   "id": "ce034246",
   "metadata": {
    "execution": {
     "iopub.execute_input": "2022-07-05T06:57:12.510427Z",
     "iopub.status.busy": "2022-07-05T06:57:12.510176Z",
     "iopub.status.idle": "2022-07-05T06:57:12.516345Z",
     "shell.execute_reply": "2022-07-05T06:57:12.515490Z"
    },
    "papermill": {
     "duration": 0.016951,
     "end_time": "2022-07-05T06:57:12.518251",
     "exception": false,
     "start_time": "2022-07-05T06:57:12.501300",
     "status": "completed"
    },
    "tags": []
   },
   "outputs": [],
   "source": [
    "def read_hdf5(path):\n",
    "    read_file = h5py.File(path, 'r')\n",
    "    \n",
    "    feature_names = list(read_file.keys())\n",
    "    loaded_data = []\n",
    "    \n",
    "    for name in feature_names:\n",
    "        dataset = read_file[name][:]\n",
    "        if dataset.dtype == np.dtype('object'):\n",
    "            dataset = np.array([x.decode('UTF-8') for x in dataset])            \n",
    "        loaded_data.append((name, dataset))\n",
    "\n",
    "    return loaded_data\n",
    "\n",
    "def loadz(path):\n",
    "    data = np.load(path)['arr_0']\n",
    "    return data"
   ]
  },
  {
   "cell_type": "code",
   "execution_count": 4,
   "id": "7697adc1",
   "metadata": {
    "execution": {
     "iopub.execute_input": "2022-07-05T06:57:12.535777Z",
     "iopub.status.busy": "2022-07-05T06:57:12.535515Z",
     "iopub.status.idle": "2022-07-05T06:57:12.543957Z",
     "shell.execute_reply": "2022-07-05T06:57:12.543096Z"
    },
    "papermill": {
     "duration": 0.019578,
     "end_time": "2022-07-05T06:57:12.545922",
     "exception": false,
     "start_time": "2022-07-05T06:57:12.526344",
     "status": "completed"
    },
    "tags": []
   },
   "outputs": [],
   "source": [
    "def load_labels(path):\n",
    "    data = read_hdf5(path)\n",
    "\n",
    "    for x in data:\n",
    "        if x[0] == 'multimodal-labels':\n",
    "            labels = x[1]\n",
    "        if x[0] == 'text-labels':\n",
    "            text_labels = x[1]\n",
    "        if x[0] == 'image-labels':\n",
    "            image_labels = x[1]\n",
    "        \n",
    "    return labels, text_labels, image_labels\n",
    "\n",
    "def merge_mvsa(mvsa_single, mvsa_multiple):\n",
    "    mvsa = np.concatenate((mvsa_single, mvsa_multiple), axis=0)\n",
    "    return mvsa\n",
    "\n",
    "def load_mvsa_feature(feature_name, merge=False):\n",
    "    folder_path = os.path.join('../input/mvsa-features/', feature_name)\n",
    "    single_file = 'mvsa-single-{}.npz'.format(feature_name)\n",
    "    multiple_file = 'mvsa-multiple-{}.npz'.format(feature_name)\n",
    "    mvsa_single = loadz(os.path.join(folder_path, single_file))\n",
    "    mvsa_multiple = loadz(os.path.join(folder_path, multiple_file))\n",
    "    \n",
    "    if merge == True:\n",
    "        return merge_mvsa(mvsa_single, mvsa_multiple)\n",
    "    \n",
    "    return mvsa_single, mvsa_multiple"
   ]
  },
  {
   "cell_type": "code",
   "execution_count": 5,
   "id": "11bc424e",
   "metadata": {
    "execution": {
     "iopub.execute_input": "2022-07-05T06:57:12.563177Z",
     "iopub.status.busy": "2022-07-05T06:57:12.562939Z",
     "iopub.status.idle": "2022-07-05T06:57:12.568058Z",
     "shell.execute_reply": "2022-07-05T06:57:12.567079Z"
    },
    "papermill": {
     "duration": 0.016233,
     "end_time": "2022-07-05T06:57:12.570283",
     "exception": false,
     "start_time": "2022-07-05T06:57:12.554050",
     "status": "completed"
    },
    "tags": []
   },
   "outputs": [],
   "source": [
    "# e.g. validation_split=0.1 -----> 8:1:1 ratio of train, val, test\n",
    "def split_data(data, validation_split):\n",
    "    num_val = int(validation_split * data.shape[0])\n",
    "    data_train = data[:-(num_val*2)]\n",
    "    data_val = data[-(num_val*2):-(num_val)]\n",
    "    data_test = data[-num_val:]\n",
    "    return data_train, data_val, data_test"
   ]
  },
  {
   "cell_type": "code",
   "execution_count": 6,
   "id": "3a3a58b4",
   "metadata": {
    "execution": {
     "iopub.execute_input": "2022-07-05T06:57:12.588057Z",
     "iopub.status.busy": "2022-07-05T06:57:12.587264Z",
     "iopub.status.idle": "2022-07-05T06:57:12.596404Z",
     "shell.execute_reply": "2022-07-05T06:57:12.595624Z"
    },
    "papermill": {
     "duration": 0.01989,
     "end_time": "2022-07-05T06:57:12.598287",
     "exception": false,
     "start_time": "2022-07-05T06:57:12.578397",
     "status": "completed"
    },
    "tags": []
   },
   "outputs": [],
   "source": [
    "def weighted_average(weights, probs):\n",
    "    ''' Calculate the weighted average probability distribution from all input probs and its weights \n",
    "    weights: weights list (or array)\n",
    "    probs: probability distributions array list\n",
    "    '''\n",
    "    output_probs = []\n",
    "    weighted_probs = [probs[i] * weights[i] for i in range(len(weights))]\n",
    "    for i in range(len(probs[0])):\n",
    "        sum_prob = np.zeros(len(probs[0][0]))\n",
    "        for j in range(len(weights)):\n",
    "            sum_prob = np.sum((sum_prob, weighted_probs[j][i]), axis=0)\n",
    "        output_probs.append(sum_prob)\n",
    "    return np.asarray(output_probs, dtype='float32')\n",
    "\n",
    "def get_average_weights(*scores, inverse=False):\n",
    "    ''' Get the corresponding weight of each input score \n",
    "    inverse: (bool) get inverse weights value in case of the smaller score value, the bigger weight value (such as model loss)\n",
    "    '''\n",
    "    \n",
    "    weights = []\n",
    "    for score in scores:\n",
    "        weights.append(score/np.sum(scores))\n",
    "    \n",
    "    if inverse == True:\n",
    "        inverse_weights = []\n",
    "        inverse = [1/weight for weight in weights]\n",
    "        for inv in inverse:\n",
    "            inverse_weights.append(inv/np.sum(inverse))\n",
    "        weights = inverse_weights\n",
    "\n",
    "    return weights"
   ]
  },
  {
   "cell_type": "code",
   "execution_count": 7,
   "id": "b643000d",
   "metadata": {
    "execution": {
     "iopub.execute_input": "2022-07-05T06:57:12.617089Z",
     "iopub.status.busy": "2022-07-05T06:57:12.615660Z",
     "iopub.status.idle": "2022-07-05T06:57:17.494086Z",
     "shell.execute_reply": "2022-07-05T06:57:17.493130Z"
    },
    "papermill": {
     "duration": 4.889778,
     "end_time": "2022-07-05T06:57:17.496200",
     "exception": false,
     "start_time": "2022-07-05T06:57:12.606422",
     "status": "completed"
    },
    "tags": []
   },
   "outputs": [
    {
     "name": "stderr",
     "output_type": "stream",
     "text": [
      "2022-07-05 06:57:12.709911: I tensorflow/stream_executor/cuda/cuda_gpu_executor.cc:937] successful NUMA node read from SysFS had negative value (-1), but there must be at least one NUMA node, so returning NUMA node zero\n",
      "2022-07-05 06:57:12.710961: I tensorflow/stream_executor/cuda/cuda_gpu_executor.cc:937] successful NUMA node read from SysFS had negative value (-1), but there must be at least one NUMA node, so returning NUMA node zero\n",
      "2022-07-05 06:57:12.711687: I tensorflow/stream_executor/cuda/cuda_gpu_executor.cc:937] successful NUMA node read from SysFS had negative value (-1), but there must be at least one NUMA node, so returning NUMA node zero\n",
      "2022-07-05 06:57:12.712658: I tensorflow/core/platform/cpu_feature_guard.cc:142] This TensorFlow binary is optimized with oneAPI Deep Neural Network Library (oneDNN) to use the following CPU instructions in performance-critical operations:  AVX2 AVX512F FMA\n",
      "To enable them in other operations, rebuild TensorFlow with the appropriate compiler flags.\n",
      "2022-07-05 06:57:12.712952: I tensorflow/stream_executor/cuda/cuda_gpu_executor.cc:937] successful NUMA node read from SysFS had negative value (-1), but there must be at least one NUMA node, so returning NUMA node zero\n",
      "2022-07-05 06:57:12.713619: I tensorflow/stream_executor/cuda/cuda_gpu_executor.cc:937] successful NUMA node read from SysFS had negative value (-1), but there must be at least one NUMA node, so returning NUMA node zero\n",
      "2022-07-05 06:57:12.714277: I tensorflow/stream_executor/cuda/cuda_gpu_executor.cc:937] successful NUMA node read from SysFS had negative value (-1), but there must be at least one NUMA node, so returning NUMA node zero\n",
      "2022-07-05 06:57:17.118438: I tensorflow/stream_executor/cuda/cuda_gpu_executor.cc:937] successful NUMA node read from SysFS had negative value (-1), but there must be at least one NUMA node, so returning NUMA node zero\n",
      "2022-07-05 06:57:17.119333: I tensorflow/stream_executor/cuda/cuda_gpu_executor.cc:937] successful NUMA node read from SysFS had negative value (-1), but there must be at least one NUMA node, so returning NUMA node zero\n",
      "2022-07-05 06:57:17.120025: I tensorflow/stream_executor/cuda/cuda_gpu_executor.cc:937] successful NUMA node read from SysFS had negative value (-1), but there must be at least one NUMA node, so returning NUMA node zero\n",
      "2022-07-05 06:57:17.120600: I tensorflow/core/common_runtime/gpu/gpu_device.cc:1510] Created device /job:localhost/replica:0/task:0/device:GPU:0 with 15047 MB memory:  -> device: 0, name: Tesla P100-PCIE-16GB, pci bus id: 0000:00:04.0, compute capability: 6.0\n"
     ]
    }
   ],
   "source": [
    "f1_macro = tfa.metrics.F1Score(num_classes=NUM_CLASSES, average='macro', name='f1_macro')\n",
    "f1_weighted = tfa.metrics.F1Score(num_classes=NUM_CLASSES, average='weighted', name='f1_weighted')\n",
    "    \n",
    "def create_model_text(input_shape, lstm=True):\n",
    "    text_input = Input(shape=input_shape)\n",
    "    if lstm == True:\n",
    "        reshape_text = Reshape((1, -1)) (text_input)\n",
    "        lstm = LSTM(NUM_LSTM) (reshape_text)\n",
    "        outputs = Dense(NUM_CLASSES, activation='softmax') (lstm)\n",
    "    else:\n",
    "        outputs = Dense(NUM_CLASSES, activation='softmax') (text_input)\n",
    "    model = Model(text_input, outputs)\n",
    "    model.compile(optimizer='adam', loss='categorical_crossentropy', metrics=['accuracy', f1_macro, f1_weighted])\n",
    "    return model\n",
    "\n",
    "def create_model_image(input_shape):\n",
    "    image_input = Input(shape=input_shape)\n",
    "    outputs = Dense(NUM_CLASSES, activation='softmax') (image_input)\n",
    "    model = Model(image_input, outputs)\n",
    "    model.compile(optimizer='adam', loss='categorical_crossentropy', metrics=['accuracy', f1_macro, f1_weighted])\n",
    "    return model\n",
    "\n",
    "def create_model_IF(text_shape, image_shape, lstm=True):\n",
    "    image_input = Input(shape=image_shape)\n",
    "    text_input = Input(shape=text_shape)\n",
    "    if lstm == True:\n",
    "        text_reshape = Reshape((1, -1)) (text_input)\n",
    "        text_lstm = LSTM(NUM_LSTM) (text_reshape)\n",
    "#     text_lstm = Dropout(DROPOUT_RATE) (text_lstm)\n",
    "        text_image_concat = tf.keras.layers.Concatenate(axis=1)([text_lstm, image_input])\n",
    "    else:\n",
    "        text_image_concat = tf.keras.layers.Concatenate(axis=1)([text_input, image_input])\n",
    "    concat_self_attention = tf.keras.layers.Attention() ([text_image_concat, text_image_concat])\n",
    "#     concat_self_attention = Dropout(DROPOUT_RATE) (concat_self_attention)\n",
    "    outputs = Dense(NUM_CLASSES, activation='softmax') (concat_self_attention)\n",
    "    model = Model([text_input, image_input], outputs)\n",
    "    model.compile(optimizer='adam', loss='categorical_crossentropy', metrics=['accuracy', f1_macro, f1_weighted])\n",
    "    return model"
   ]
  },
  {
   "cell_type": "code",
   "execution_count": 8,
   "id": "2702f973",
   "metadata": {
    "execution": {
     "iopub.execute_input": "2022-07-05T06:57:17.530801Z",
     "iopub.status.busy": "2022-07-05T06:57:17.529967Z",
     "iopub.status.idle": "2022-07-05T06:57:17.551767Z",
     "shell.execute_reply": "2022-07-05T06:57:17.550908Z"
    },
    "papermill": {
     "duration": 0.040925,
     "end_time": "2022-07-05T06:57:17.553875",
     "exception": false,
     "start_time": "2022-07-05T06:57:17.512950",
     "status": "completed"
    },
    "tags": []
   },
   "outputs": [],
   "source": [
    "def run_and_evaluate_IF(name, X1, X2, y, verbose=0, lstm=True):\n",
    "    '''  Train and test Intermediate Fusion model Multimodal Labels \n",
    "    X1: text input\n",
    "    X2: image input\n",
    "    y: multimodal labels\n",
    "    '''\n",
    "    y = le.fit_transform(y)\n",
    "    y = to_categorical(np.asarray(y))\n",
    "    \n",
    "    X1_train, X1_val, X1_test = split_data(X1, VALIDATION_SPLIT)\n",
    "    X2_train, X2_val, X2_test = split_data(X2, VALIDATION_SPLIT)\n",
    "    y_train, y_val, y_test = split_data(y, VALIDATION_SPLIT)\n",
    "    \n",
    "    if lstm == False:\n",
    "        model = create_model_IF(X1_train.shape[1:], X2_train.shape[1:], lstm=False)\n",
    "    else:\n",
    "        model = create_model_IF(X1_train.shape[1:], X2_train.shape[1:])\n",
    "    early_stopping = EarlyStopping(monitor='val_loss', min_delta=1e-4, patience=EARLY_STOPPING)\n",
    "    checkpoint = ModelCheckpoint('./model_checkpoint/{}.h5'.format(name), save_best_only=True, verbose=verbose)\n",
    "    \n",
    "    if 'multiple' in name:\n",
    "        batch_size = 256\n",
    "    else:\n",
    "        batch_size = BATCH_SIZE # 128\n",
    "        \n",
    "    history = model.fit([X1_train, X2_train], y_train, validation_data=([X1_val, X2_val], y_val), \n",
    "                        epochs=EPOCHS, batch_size=batch_size, verbose=verbose,\n",
    "                        callbacks=[checkpoint, early_stopping])\n",
    "    if verbose == 1:\n",
    "        best_epoch = np.argmin(history.history['val_loss'])\n",
    "        print('\\nCheckpoint loaded at epoch:', best_epoch)\n",
    "        \n",
    "    return history, evaluate_model_IF(model, X1_test, X2_test, y_test, checkpoint=name, verbose=verbose)\n",
    "\n",
    "def evaluate_model_IF(model, X_texts, X_images, y_test, checkpoint=None, verbose=1):\n",
    "    if checkpoint is not None:\n",
    "        model = load_model('./model_checkpoint/{}.h5'.format(checkpoint))\n",
    "    \n",
    "    loss, acc, f1_macro, f1_weighted = model.evaluate([X_texts, X_images], y_test, verbose=verbose)\n",
    "\n",
    "    if verbose == 1:\n",
    "        print('Loss:', loss)\n",
    "        print('Accuracy:', acc)\n",
    "        print('Macro F1-score:', f1_macro)\n",
    "        print('Weighted F1-score:', f1_weighted)\n",
    "\n",
    "        y_pred = model.predict([X_texts, X_images])\n",
    "        matrix = confusion_matrix(le.inverse_transform(y_test.argmax(axis=1)), le.inverse_transform(y_pred.argmax(axis=1)), \n",
    "                                  labels=list(le.classes_))\n",
    "        cm_disp = ConfusionMatrixDisplay(confusion_matrix=matrix,\n",
    "                                  display_labels=list(le.classes_))\n",
    "        cm_disp.plot()\n",
    "        plt.show()\n",
    "        \n",
    "    return loss, acc, f1_macro, f1_weighted"
   ]
  },
  {
   "cell_type": "code",
   "execution_count": 9,
   "id": "36b93b97",
   "metadata": {
    "execution": {
     "iopub.execute_input": "2022-07-05T06:57:17.581860Z",
     "iopub.status.busy": "2022-07-05T06:57:17.580967Z",
     "iopub.status.idle": "2022-07-05T06:57:17.602917Z",
     "shell.execute_reply": "2022-07-05T06:57:17.601927Z"
    },
    "papermill": {
     "duration": 0.038302,
     "end_time": "2022-07-05T06:57:17.605016",
     "exception": false,
     "start_time": "2022-07-05T06:57:17.566714",
     "status": "completed"
    },
    "tags": []
   },
   "outputs": [],
   "source": [
    "def run_and_evaluate_LF(name, X1, X2, y, y1, y2, verbose=0, lstm=True):\n",
    "    ''' Train Late Fusion model with Original Labels of each modality and test with Multimodal Labels \n",
    "    X1: text input\n",
    "    X2: image input\n",
    "    y: multimodal labels\n",
    "    y1: text labels\n",
    "    y2: image labels\n",
    "    verbose: 0 or 1 to print tracking on progress\n",
    "    '''\n",
    "    y = le.fit_transform(y)\n",
    "    y = to_categorical(np.asarray(y))\n",
    "    \n",
    "    y1 = le.fit_transform(y1)\n",
    "    y1 = to_categorical(np.asarray(y1))\n",
    "    \n",
    "    y2 = le.fit_transform(y2)\n",
    "    y2 = to_categorical(np.asarray(y2))\n",
    "\n",
    "    X1_train, X1_val, X1_test = split_data(X1, VALIDATION_SPLIT)\n",
    "    X2_train, X2_val, X2_test = split_data(X2, VALIDATION_SPLIT)\n",
    "    y_train, y_val, y_test = split_data(y, VALIDATION_SPLIT)\n",
    "    y1_train, y1_val, y1_test = split_data(y1, VALIDATION_SPLIT)\n",
    "    y2_train, y2_val, y2_test = split_data(y2, VALIDATION_SPLIT)\n",
    "\n",
    "    if lstm == False:\n",
    "        model_text = create_model_text(X1_train.shape[1:], lstm=False)\n",
    "    else:\n",
    "        model_text = create_model_text(X1_train.shape[1:])\n",
    "    model_image = create_model_image(X2_train.shape[1:])\n",
    "\n",
    "    early_stopping1 = EarlyStopping(monitor='val_loss', min_delta=1e-4, patience=EARLY_STOPPING)\n",
    "    early_stopping2 = EarlyStopping(monitor='val_loss', min_delta=1e-4, patience=EARLY_STOPPING)\n",
    "    checkpoint_text = ModelCheckpoint('./model_checkpoint/{}-text.h5'.format(name), save_best_only=True, verbose=verbose)\n",
    "    checkpoint_image = ModelCheckpoint('./model_checkpoint/{}-image.h5'.format(name), save_best_only=True, verbose=verbose)\n",
    "    \n",
    "    if 'multiple' in name:\n",
    "        batch_size = 256\n",
    "    else:\n",
    "        batch_size = BATCH_SIZE # 128\n",
    "    \n",
    "    history_text = model_text.fit(X1_train, y1_train, validation_data=(X1_val, y1_val), \n",
    "                                  epochs=EPOCHS, batch_size=batch_size, verbose=verbose,\n",
    "                                  callbacks=[checkpoint_text, early_stopping1])\n",
    "    \n",
    "    history_image = model_image.fit(X2_train, y2_train, validation_data=(X2_val, y2_val), \n",
    "                                    epochs=EPOCHS, batch_size=batch_size, verbose=verbose,\n",
    "                                    callbacks=[checkpoint_image, early_stopping2])\n",
    "    \n",
    "    best_val_acc_text = np.min(history_text.history['val_accuracy'])\n",
    "    best_val_acc_image = np.min(history_image.history['val_accuracy'])\n",
    "\n",
    "    weights = get_average_weights(best_val_acc_text, best_val_acc_image)\n",
    "\n",
    "    model_text = load_model('./model_checkpoint/{}-text.h5'.format(name))\n",
    "    model_image = load_model('./model_checkpoint/{}-image.h5'.format(name))\n",
    "\n",
    "    y_pred_text = model_text.predict(X1_test)\n",
    "    y_pred_image = model_image.predict(X2_test)\n",
    "\n",
    "    y_pred = weighted_average(weights, np.asarray([y_pred_text, y_pred_image], dtype='float32'))\n",
    "\n",
    "    best_epoch_text = np.argmin(history_text.history['val_loss'])\n",
    "    best_epoch_image = np.argmin(history_image.history['val_loss'])\n",
    "\n",
    "    if verbose == 1:\n",
    "        print('Checkpoint of text model loaded at epoch:', best_epoch_text)\n",
    "        print('Checkpoint of image model loaded at epoch:', best_epoch_image)\n",
    "\n",
    "    return evaluate_model_LF(y_test, y_pred, verbose=verbose)"
   ]
  },
  {
   "cell_type": "code",
   "execution_count": 10,
   "id": "78c3ee9d",
   "metadata": {
    "execution": {
     "iopub.execute_input": "2022-07-05T06:57:17.632840Z",
     "iopub.status.busy": "2022-07-05T06:57:17.632569Z",
     "iopub.status.idle": "2022-07-05T06:57:17.662181Z",
     "shell.execute_reply": "2022-07-05T06:57:17.661302Z"
    },
    "papermill": {
     "duration": 0.046306,
     "end_time": "2022-07-05T06:57:17.664378",
     "exception": false,
     "start_time": "2022-07-05T06:57:17.618072",
     "status": "completed"
    },
    "tags": []
   },
   "outputs": [],
   "source": [
    "def run_and_evaluate_HF(name, X1, X2, y, y1, y2, verbose=0, lstm=True):\n",
    "    ''' Train Hybrid Fusion model with Original Labels of each modality and test with Multimodal Labels \n",
    "    X1: text input\n",
    "    X2: image input\n",
    "    y: multimodal labels\n",
    "    y1: text labels\n",
    "    y2: image labels\n",
    "    lstm: (bool) create text model with LSTM layer or not\n",
    "    verbose: 0 or 1 to print tracking on progress\n",
    "    '''\n",
    "    y = le.fit_transform(y)\n",
    "    y = to_categorical(np.asarray(y))\n",
    "    \n",
    "    y1 = le.fit_transform(y1)\n",
    "    y1 = to_categorical(np.asarray(y1))\n",
    "    \n",
    "    y2 = le.fit_transform(y2)\n",
    "    y2 = to_categorical(np.asarray(y2))\n",
    "    \n",
    "    X1_train, X1_val, X1_test = split_data(X1, VALIDATION_SPLIT)\n",
    "    X2_train, X2_val, X2_test = split_data(X2, VALIDATION_SPLIT)\n",
    "    y_train, y_val, y_test = split_data(y, VALIDATION_SPLIT)\n",
    "    y1_train, y1_val, y1_test = split_data(y1, VALIDATION_SPLIT)\n",
    "    y2_train, y2_val, y2_test = split_data(y2, VALIDATION_SPLIT)\n",
    "\n",
    "    model_image = create_model_image(X2_train.shape[1:])\n",
    "    if lstm == False:\n",
    "        model_text = create_model_text(X1_train.shape[1:], lstm=False)\n",
    "        model_IF = create_model_IF(X1_train.shape[1:], X2_train.shape[1:], lstm=False)\n",
    "    model_text = create_model_text(X1_train.shape[1:])\n",
    "    model_IF = create_model_IF(X1_train.shape[1:], X2_train.shape[1:])\n",
    "    \n",
    "    early_stopping1 = EarlyStopping(monitor='val_loss', min_delta=1e-4, patience=EARLY_STOPPING)\n",
    "    early_stopping2 = EarlyStopping(monitor='val_loss', min_delta=1e-4, patience=EARLY_STOPPING)\n",
    "    early_stopping3 = EarlyStopping(monitor='val_loss', min_delta=1e-4, patience=EARLY_STOPPING)\n",
    "\n",
    "    checkpoint_text = ModelCheckpoint('./model_checkpoint/{}-text.h5'.format(name), save_best_only=True, verbose=verbose)\n",
    "    checkpoint_image = ModelCheckpoint('./model_checkpoint/{}-image.h5'.format(name), save_best_only=True, verbose=verbose)\n",
    "    checkpoint_IF = ModelCheckpoint('./model_checkpoint/{}-IF.h5'.format(name), save_best_only=True, verbose=verbose)\n",
    "\n",
    "    if 'multiple' in name:\n",
    "        batch_size = 256\n",
    "    else:\n",
    "        batch_size = BATCH_SIZE # 128\n",
    "    \n",
    "    history_text = model_text.fit(X1_train, y1_train, validation_data=(X1_val, y1_val), \n",
    "                                  epochs=EPOCHS, batch_size=batch_size, verbose=verbose,\n",
    "                                  callbacks=[checkpoint_text, early_stopping1])\n",
    "    \n",
    "    history_image = model_image.fit(X2_train, y2_train, validation_data=(X2_val, y2_val), \n",
    "                                    epochs=EPOCHS, batch_size=batch_size, verbose=verbose,\n",
    "                                    callbacks=[checkpoint_image, early_stopping2])\n",
    "    \n",
    "    history_IF = model_IF.fit([X1_train, X2_train], y_train, validation_data=([X1_val, X2_val], y_val), \n",
    "                              epochs=EPOCHS, batch_size=batch_size, verbose=verbose,\n",
    "                              callbacks=[checkpoint_IF, early_stopping3])\n",
    "    \n",
    "    best_val_acc_text = np.min(history_text.history['val_accuracy'])\n",
    "    best_val_acc_image = np.min(history_image.history['val_accuracy'])\n",
    "    best_val_acc_IF = np.min(history_IF.history['val_accuracy'])\n",
    "    \n",
    "    weights = get_average_weights(best_val_acc_text, best_val_acc_image, best_val_acc_IF)\n",
    "\n",
    "    model_text = load_model('./model_checkpoint/{}-text.h5'.format(name))\n",
    "    model_image = load_model('./model_checkpoint/{}-image.h5'.format(name))\n",
    "    model_IF = load_model('./model_checkpoint/{}-IF.h5'.format(name))\n",
    "\n",
    "    y_pred_text = model_text.predict(X1_test)\n",
    "    y_pred_image = model_image.predict(X2_test)\n",
    "    y_pred_IF = model_IF.predict([X1_test, X2_test])\n",
    "\n",
    "    y_pred = weighted_average(weights, np.asarray([y_pred_text, y_pred_image, y_pred_IF], dtype='float32'))\n",
    "    \n",
    "    best_epoch_text = np.argmin(history_text.history['val_loss'])\n",
    "    best_epoch_image = np.argmin(history_image.history['val_loss'])\n",
    "    best_epoch_IF = np.argmin(history_IF.history['val_loss'])\n",
    "\n",
    "    if verbose == 1:\n",
    "        print('Checkpoint of text model loaded at epoch:', best_epoch_text)\n",
    "        print('Checkpoint of image model loaded at epoch:', best_epoch_image)\n",
    "        print('Checkpoint of IF model loaded at epoch:', best_epoch_IF)\n",
    "\n",
    "    return evaluate_model_LF(y_test, y_pred, verbose=verbose)"
   ]
  },
  {
   "cell_type": "code",
   "execution_count": 11,
   "id": "ab6d0cef",
   "metadata": {
    "execution": {
     "iopub.execute_input": "2022-07-05T06:57:17.693597Z",
     "iopub.status.busy": "2022-07-05T06:57:17.692792Z",
     "iopub.status.idle": "2022-07-05T06:57:17.702403Z",
     "shell.execute_reply": "2022-07-05T06:57:17.701609Z"
    },
    "papermill": {
     "duration": 0.026442,
     "end_time": "2022-07-05T06:57:17.704641",
     "exception": false,
     "start_time": "2022-07-05T06:57:17.678199",
     "status": "completed"
    },
    "tags": []
   },
   "outputs": [],
   "source": [
    "def evaluate_model_LF(y_true, y_pred, verbose=0):\n",
    "    \n",
    "    y_pred = le.inverse_transform(y_pred.argmax(axis=1))\n",
    "    y_true = le.inverse_transform(y_true.argmax(axis=1))\n",
    "\n",
    "    acc = accuracy_score(y_true, y_pred)\n",
    "    f1_macro = f1_score(y_true, y_pred, average='macro')\n",
    "    f1_weighted = f1_score(y_true, y_pred, average='weighted')\n",
    "\n",
    "    if verbose == 1:\n",
    "        print(classification_report(y_true, y_pred))\n",
    "        matrix = confusion_matrix(y_true, y_pred,\n",
    "                                  labels=list(le.classes_))\n",
    "        cm_disp = ConfusionMatrixDisplay(confusion_matrix=matrix,\n",
    "                                  display_labels=list(le.classes_))\n",
    "        cm_disp.plot()\n",
    "        plt.show()\n",
    "\n",
    "    return acc, f1_macro, f1_weighted"
   ]
  },
  {
   "cell_type": "code",
   "execution_count": 12,
   "id": "78e5138b",
   "metadata": {
    "execution": {
     "iopub.execute_input": "2022-07-05T06:57:17.733536Z",
     "iopub.status.busy": "2022-07-05T06:57:17.733294Z",
     "iopub.status.idle": "2022-07-05T06:57:17.747714Z",
     "shell.execute_reply": "2022-07-05T06:57:17.746752Z"
    },
    "papermill": {
     "duration": 0.032676,
     "end_time": "2022-07-05T06:57:17.750579",
     "exception": false,
     "start_time": "2022-07-05T06:57:17.717903",
     "status": "completed"
    },
    "tags": []
   },
   "outputs": [],
   "source": [
    "def plot_metrics(history):\n",
    "    fig = plt.figure(figsize=(20, 5))\n",
    "\n",
    "    fig.add_subplot(1, 4, 1)\n",
    "    plt.plot(history.history['loss'])\n",
    "    plt.plot(history.history['val_loss'])\n",
    "    plt.title('LOSS')\n",
    "    plt.ylabel('loss')\n",
    "    plt.xlabel('epoch')\n",
    "    plt.legend(['train', 'val'], loc='best')\n",
    "\n",
    "    fig.add_subplot(1, 4, 2)\n",
    "    plt.plot(history.history['accuracy'])\n",
    "    plt.plot(history.history['val_accuracy'])\n",
    "    plt.title('ACCURACY')\n",
    "    plt.ylabel('accuracy')\n",
    "    plt.xlabel('epoch')\n",
    "    plt.legend(['train', 'val'], loc='best')\n",
    "\n",
    "    fig.add_subplot(1, 4, 3)\n",
    "    plt.plot(history.history['f1_macro'])\n",
    "    plt.plot(history.history['val_f1_macro'])\n",
    "    plt.title('Macro F1-SCORE')\n",
    "    plt.ylabel('f1-macro')\n",
    "    plt.xlabel('epoch')\n",
    "    plt.legend(['train', 'val'], loc='best')\n",
    "    \n",
    "    fig.add_subplot(1, 4, 4)\n",
    "    plt.plot(history.history['f1_weighted'])\n",
    "    plt.plot(history.history['val_f1_weighted'])\n",
    "    plt.title('Weighted F1-SCORE')\n",
    "    plt.ylabel('f1-weighted')\n",
    "    plt.xlabel('epoch')\n",
    "    plt.legend(['train', 'val'], loc='best')\n",
    "\n",
    "    plt.show()"
   ]
  },
  {
   "cell_type": "code",
   "execution_count": 13,
   "id": "831cd703",
   "metadata": {
    "execution": {
     "iopub.execute_input": "2022-07-05T06:57:17.779474Z",
     "iopub.status.busy": "2022-07-05T06:57:17.779078Z",
     "iopub.status.idle": "2022-07-05T06:57:17.794568Z",
     "shell.execute_reply": "2022-07-05T06:57:17.793632Z"
    },
    "papermill": {
     "duration": 0.032863,
     "end_time": "2022-07-05T06:57:17.797524",
     "exception": false,
     "start_time": "2022-07-05T06:57:17.764661",
     "status": "completed"
    },
    "tags": []
   },
   "outputs": [],
   "source": [
    "def style_dataframe(dataframe):\n",
    "    return dataframe.style.highlight_max(subset=['Accuracy', 'F1-macro', 'F1-weighted'], props='color:lawngreen', axis=0)\\\n",
    "                          .highlight_min(subset=['Accuracy', 'F1-macro', 'F1-weighted'], props='color:tomato', axis=0)\n",
    "\n",
    "def highlight_neg(cell):\n",
    "    if type(cell) != str and cell < 0 :\n",
    "        return 'color: tomato'\n",
    "    else:\n",
    "        return 'color: lawngreen'\n",
    "\n",
    "def display_dataframes(dfs, names=[], index=False):\n",
    "    def to_df(x):\n",
    "        if isinstance(x, pd.Series):\n",
    "            return pd.DataFrame(x)\n",
    "        else:\n",
    "            return x\n",
    "    html_str = ''\n",
    "    if names:\n",
    "        html_str += ('<tr>' + \n",
    "                     ''.join(f'<td style=\"text-align:center\">{name}</td>' for name in names) + \n",
    "                     '</tr>')\n",
    "    html_str += ('<tr>' + \n",
    "                 ''.join(f'<td style=\"vertical-align:top\"> {to_df(df).to_html()}</td>' \n",
    "                         for df in dfs) + \n",
    "                 '</tr>')\n",
    "    html_str = f'<table>{html_str}</table>'\n",
    "    html_str = html_str.replace('table','table style=\"display:inline\"')\n",
    "    display_html(html_str, raw=True)"
   ]
  },
  {
   "cell_type": "markdown",
   "id": "529c7169",
   "metadata": {
    "papermill": {
     "duration": 0.014337,
     "end_time": "2022-07-05T06:57:17.826524",
     "exception": false,
     "start_time": "2022-07-05T06:57:17.812187",
     "status": "completed"
    },
    "tags": []
   },
   "source": [
    "# Load data"
   ]
  },
  {
   "cell_type": "code",
   "execution_count": 14,
   "id": "e47389c1",
   "metadata": {
    "execution": {
     "iopub.execute_input": "2022-07-05T06:57:17.858020Z",
     "iopub.status.busy": "2022-07-05T06:57:17.857641Z",
     "iopub.status.idle": "2022-07-05T06:57:31.804435Z",
     "shell.execute_reply": "2022-07-05T06:57:31.803254Z"
    },
    "papermill": {
     "duration": 13.965304,
     "end_time": "2022-07-05T06:57:31.806870",
     "exception": false,
     "start_time": "2022-07-05T06:57:17.841566",
     "status": "completed"
    },
    "tags": []
   },
   "outputs": [],
   "source": [
    "## Choose best\n",
    "# Load text feature\n",
    "mvsa_single_bert, mvsa_multiple_bert = load_mvsa_feature('bert-base')\n",
    "mvsa_single_pos_bow, mvsa_multiple_pos_bow = load_mvsa_feature('pos-bow')\n",
    "mvsa_single_pos_tfidf, mvsa_multiple_pos_tfidf = load_mvsa_feature('pos-tfidf')\n",
    "mvsa_single_ner_bow, mvsa_multiple_ner_bow = load_mvsa_feature('ner-bow')\n",
    "mvsa_single_ner_tfidf, mvsa_multiple_ner_tfidf = load_mvsa_feature('ner-tfidf')\n",
    "\n",
    "## Load image feature\n",
    "mvsa_single_vgg16, mvsa_multiple_vgg16 = load_mvsa_feature('vgg16')\n",
    "mvsa_single_vgg19, mvsa_multiple_vgg19 = load_mvsa_feature('vgg19')\n",
    "mvsa_single_resnet50, mvsa_multiple_resnet50 = load_mvsa_feature('resnet50')\n",
    "mvsa_single_resnet101, mvsa_multiple_resnet101 = load_mvsa_feature('resnet101')\n",
    "mvsa_single_resnet152, mvsa_multiple_resnet152 = load_mvsa_feature('resnet152')\n",
    "mvsa_single_densenet121, mvsa_multiple_densenet121 = load_mvsa_feature('densenet121')\n",
    "mvsa_single_densenet169, mvsa_multiple_densenet169 = load_mvsa_feature('densenet169')\n",
    "mvsa_single_densenet201, mvsa_multiple_densenet201 = load_mvsa_feature('densenet201')"
   ]
  },
  {
   "cell_type": "code",
   "execution_count": 15,
   "id": "d4c8f326",
   "metadata": {
    "execution": {
     "iopub.execute_input": "2022-07-05T06:57:31.826319Z",
     "iopub.status.busy": "2022-07-05T06:57:31.825340Z",
     "iopub.status.idle": "2022-07-05T06:57:31.911307Z",
     "shell.execute_reply": "2022-07-05T06:57:31.910323Z"
    },
    "papermill": {
     "duration": 0.098061,
     "end_time": "2022-07-05T06:57:31.913856",
     "exception": false,
     "start_time": "2022-07-05T06:57:31.815795",
     "status": "completed"
    },
    "tags": []
   },
   "outputs": [],
   "source": [
    "mvsa_single_bert_pos = np.concatenate((mvsa_single_bert, mvsa_single_pos_tfidf), axis=1)\n",
    "mvsa_single_bert_pos_ner = np.concatenate((mvsa_single_bert, mvsa_single_pos_tfidf, mvsa_single_ner_tfidf), axis=1)\n",
    "\n",
    "mvsa_multiple_bert_pos = np.concatenate((mvsa_multiple_bert, mvsa_multiple_pos_tfidf), axis=1)\n",
    "mvsa_multiple_bert_pos_ner = np.concatenate((mvsa_multiple_bert, mvsa_multiple_pos_tfidf, mvsa_multiple_ner_tfidf), axis=1)"
   ]
  },
  {
   "cell_type": "code",
   "execution_count": 16,
   "id": "f87fbdaf",
   "metadata": {
    "execution": {
     "iopub.execute_input": "2022-07-05T06:57:31.933478Z",
     "iopub.status.busy": "2022-07-05T06:57:31.931924Z",
     "iopub.status.idle": "2022-07-05T06:57:32.060085Z",
     "shell.execute_reply": "2022-07-05T06:57:32.059177Z"
    },
    "papermill": {
     "duration": 0.13967,
     "end_time": "2022-07-05T06:57:32.062261",
     "exception": false,
     "start_time": "2022-07-05T06:57:31.922591",
     "status": "completed"
    },
    "tags": []
   },
   "outputs": [],
   "source": [
    "mvsa_single_multimodal_labels, mvsa_single_text_labels, mvsa_single_image_labels = load_labels('../input/mvsa-features/labels/mvsa-single-labels.hdf5')\n",
    "mvsa_multiple_multimodal_labels, mvsa_multiple_text_labels, mvsa_multiple_image_labels = load_labels('../input/mvsa-features/labels/mvsa-multiple-labels.hdf5')"
   ]
  },
  {
   "cell_type": "code",
   "execution_count": 17,
   "id": "2147cabd",
   "metadata": {
    "execution": {
     "iopub.execute_input": "2022-07-05T06:57:32.080999Z",
     "iopub.status.busy": "2022-07-05T06:57:32.080108Z",
     "iopub.status.idle": "2022-07-05T06:57:32.087000Z",
     "shell.execute_reply": "2022-07-05T06:57:32.086027Z"
    },
    "papermill": {
     "duration": 0.018017,
     "end_time": "2022-07-05T06:57:32.088904",
     "exception": false,
     "start_time": "2022-07-05T06:57:32.070887",
     "status": "completed"
    },
    "tags": []
   },
   "outputs": [],
   "source": [
    "# prepare all features data\n",
    "\n",
    "feature_names = ['resnet152-bert', 'resnet152-bert-lstm', 'densenet201-bert-pos-lstm', 'densenet201-bert-pos-ner-lstm']\n",
    "\n",
    "mvsa_single_features = [[mvsa_single_bert, mvsa_single_resnet152],\n",
    "                        [mvsa_single_bert, mvsa_single_resnet152],\n",
    "                        [mvsa_single_bert_pos, mvsa_single_densenet201],\n",
    "                        [mvsa_single_bert_pos_ner, mvsa_single_densenet201]]\n",
    "\n",
    "mvsa_multiple_features = [[mvsa_multiple_bert, mvsa_multiple_resnet152],\n",
    "                          [mvsa_multiple_bert, mvsa_multiple_resnet152],\n",
    "                          [mvsa_multiple_bert_pos, mvsa_multiple_densenet201],\n",
    "                          [mvsa_multiple_bert_pos_ner, mvsa_multiple_densenet201]]"
   ]
  },
  {
   "cell_type": "code",
   "execution_count": 18,
   "id": "8862b049",
   "metadata": {
    "execution": {
     "iopub.execute_input": "2022-07-05T06:57:32.106628Z",
     "iopub.status.busy": "2022-07-05T06:57:32.106377Z",
     "iopub.status.idle": "2022-07-05T06:57:32.111269Z",
     "shell.execute_reply": "2022-07-05T06:57:32.110276Z"
    },
    "papermill": {
     "duration": 0.016068,
     "end_time": "2022-07-05T06:57:32.113326",
     "exception": false,
     "start_time": "2022-07-05T06:57:32.097258",
     "status": "completed"
    },
    "tags": []
   },
   "outputs": [],
   "source": [
    "le = preprocessing.LabelEncoder()\n",
    "le.fit(mvsa_single_multimodal_labels)\n",
    "NUM_CLASSES = len(le.classes_) # = 3"
   ]
  },
  {
   "cell_type": "code",
   "execution_count": 19,
   "id": "84927f24",
   "metadata": {
    "execution": {
     "iopub.execute_input": "2022-07-05T06:57:32.131283Z",
     "iopub.status.busy": "2022-07-05T06:57:32.131044Z",
     "iopub.status.idle": "2022-07-05T06:57:32.135409Z",
     "shell.execute_reply": "2022-07-05T06:57:32.134540Z"
    },
    "papermill": {
     "duration": 0.016024,
     "end_time": "2022-07-05T06:57:32.137480",
     "exception": false,
     "start_time": "2022-07-05T06:57:32.121456",
     "status": "completed"
    },
    "tags": []
   },
   "outputs": [],
   "source": [
    "reset_seeds()\n",
    "EPOCHS = 100\n",
    "BATCH_SIZE = 128\n",
    "VALIDATION_SPLIT = 0.1\n",
    "EARLY_STOPPING = 10\n",
    "NUM_LSTM = 128\n",
    "DROPOUT_RATE = 0.1"
   ]
  },
  {
   "cell_type": "markdown",
   "id": "719a554d",
   "metadata": {
    "papermill": {
     "duration": 0.007994,
     "end_time": "2022-07-05T06:57:32.154081",
     "exception": false,
     "start_time": "2022-07-05T06:57:32.146087",
     "status": "completed"
    },
    "tags": []
   },
   "source": [
    "# Intermediate Fusion"
   ]
  },
  {
   "cell_type": "code",
   "execution_count": 20,
   "id": "bff40e45",
   "metadata": {
    "execution": {
     "iopub.execute_input": "2022-07-05T06:57:32.171523Z",
     "iopub.status.busy": "2022-07-05T06:57:32.171282Z",
     "iopub.status.idle": "2022-07-05T06:57:57.033803Z",
     "shell.execute_reply": "2022-07-05T06:57:57.032671Z"
    },
    "papermill": {
     "duration": 24.874008,
     "end_time": "2022-07-05T06:57:57.036275",
     "exception": false,
     "start_time": "2022-07-05T06:57:32.162267",
     "status": "completed"
    },
    "tags": []
   },
   "outputs": [
    {
     "name": "stdout",
     "output_type": "stream",
     "text": [
      "MVSA-Single with Intermediate Fusion\n",
      "\n",
      "MVSA-Single: resnet152-bert\n"
     ]
    },
    {
     "name": "stderr",
     "output_type": "stream",
     "text": [
      "2022-07-05 06:57:32.344714: I tensorflow/compiler/mlir/mlir_graph_optimization_pass.cc:185] None of the MLIR Optimization Passes are enabled (registered 2)\n"
     ]
    },
    {
     "name": "stdout",
     "output_type": "stream",
     "text": [
      "\n",
      "MVSA-Single: resnet152-bert-lstm\n"
     ]
    },
    {
     "name": "stderr",
     "output_type": "stream",
     "text": [
      "2022-07-05 06:57:38.663267: I tensorflow/stream_executor/cuda/cuda_dnn.cc:369] Loaded cuDNN version 8005\n"
     ]
    },
    {
     "name": "stdout",
     "output_type": "stream",
     "text": [
      "\n",
      "MVSA-Single: densenet201-bert-pos-lstm\n",
      "\n",
      "MVSA-Single: densenet201-bert-pos-ner-lstm\n",
      "\n"
     ]
    }
   ],
   "source": [
    "print('MVSA-Single with Intermediate Fusion\\n')\n",
    "scores = []\n",
    "\n",
    "for i in range(len(feature_names)):\n",
    "    print('MVSA-Single:', feature_names[i])\n",
    "    if 'lstm' in feature_names[i]:\n",
    "        _, score = run_and_evaluate_IF('single-IF-' + feature_names[i], mvsa_single_features[i][0], mvsa_single_features[i][1], \n",
    "                                     mvsa_single_multimodal_labels,\n",
    "                                     verbose=0)\n",
    "    else:\n",
    "        _, score = run_and_evaluate_IF('single-IF-' + feature_names[i], mvsa_single_features[i][0], mvsa_single_features[i][1],\n",
    "                                     mvsa_single_multimodal_labels,\n",
    "                                     verbose=0, lstm=False)\n",
    "    scores.append(score)\n",
    "    print()\n",
    "\n",
    "df_single_scores_IF = pd.DataFrame(scores, columns=['Loss', 'Accuracy', 'F1-macro', 'F1-weighted'], index=feature_names)"
   ]
  },
  {
   "cell_type": "code",
   "execution_count": 21,
   "id": "11269040",
   "metadata": {
    "execution": {
     "iopub.execute_input": "2022-07-05T06:57:57.068462Z",
     "iopub.status.busy": "2022-07-05T06:57:57.067488Z",
     "iopub.status.idle": "2022-07-05T06:58:31.078392Z",
     "shell.execute_reply": "2022-07-05T06:58:31.077369Z"
    },
    "papermill": {
     "duration": 34.042047,
     "end_time": "2022-07-05T06:58:31.087779",
     "exception": false,
     "start_time": "2022-07-05T06:57:57.045732",
     "status": "completed"
    },
    "tags": []
   },
   "outputs": [
    {
     "name": "stdout",
     "output_type": "stream",
     "text": [
      "MVSA-Multiple with Intermediate Fusion\n",
      "\n",
      "MVSA-Multiple: resnet152-bert\n",
      "\n",
      "MVSA-Multiple: resnet152-bert-lstm\n",
      "\n",
      "MVSA-Multiple: densenet201-bert-pos-lstm\n",
      "\n",
      "MVSA-Multiple: densenet201-bert-pos-ner-lstm\n",
      "\n"
     ]
    }
   ],
   "source": [
    "print('MVSA-Multiple with Intermediate Fusion\\n')\n",
    "scores = []\n",
    "\n",
    "for i in range(len(feature_names)):\n",
    "    print('MVSA-Multiple:', feature_names[i])\n",
    "    if 'lstm' in feature_names[i]:\n",
    "        _, score = run_and_evaluate_IF('multiple-IF-' + feature_names[i], mvsa_multiple_features[i][0], mvsa_multiple_features[i][1], \n",
    "                                     mvsa_multiple_multimodal_labels,\n",
    "                                     verbose=0)\n",
    "    else:\n",
    "        _, score = run_and_evaluate_IF('multiple-IF-' + feature_names[i], mvsa_multiple_features[i][0], mvsa_multiple_features[i][1],\n",
    "                                     mvsa_multiple_multimodal_labels,\n",
    "                                     verbose=0, lstm=False)\n",
    "    scores.append(score)\n",
    "    print()\n",
    "\n",
    "df_multiple_scores_IF = pd.DataFrame(scores, columns=['Loss', 'Accuracy', 'F1-macro', 'F1-weighted'], index=feature_names)"
   ]
  },
  {
   "cell_type": "markdown",
   "id": "953b3246",
   "metadata": {
    "papermill": {
     "duration": 0.00938,
     "end_time": "2022-07-05T06:58:31.131211",
     "exception": false,
     "start_time": "2022-07-05T06:58:31.121831",
     "status": "completed"
    },
    "tags": []
   },
   "source": [
    "# Late Fusion"
   ]
  },
  {
   "cell_type": "code",
   "execution_count": 22,
   "id": "dec744a7",
   "metadata": {
    "execution": {
     "iopub.execute_input": "2022-07-05T06:58:31.150461Z",
     "iopub.status.busy": "2022-07-05T06:58:31.150143Z",
     "iopub.status.idle": "2022-07-05T06:59:08.037845Z",
     "shell.execute_reply": "2022-07-05T06:59:08.036422Z"
    },
    "papermill": {
     "duration": 36.900083,
     "end_time": "2022-07-05T06:59:08.040187",
     "exception": false,
     "start_time": "2022-07-05T06:58:31.140104",
     "status": "completed"
    },
    "tags": []
   },
   "outputs": [
    {
     "name": "stdout",
     "output_type": "stream",
     "text": [
      "MVSA-Single with Late Fusion\n",
      "\n",
      "MVSA-Single: resnet152-bert\n",
      "\n",
      "MVSA-Single: resnet152-bert-lstm\n",
      "\n",
      "MVSA-Single: densenet201-bert-pos-lstm\n",
      "\n",
      "MVSA-Single: densenet201-bert-pos-ner-lstm\n",
      "\n"
     ]
    }
   ],
   "source": [
    "print('MVSA-Single with Late Fusion\\n')\n",
    "scores = []\n",
    "\n",
    "for i in range(len(feature_names)):\n",
    "    print('MVSA-Single:', feature_names[i])\n",
    "    if 'lstm' in feature_names[i]:\n",
    "        score = run_and_evaluate_LF('single-LF-' + feature_names[i], mvsa_single_features[i][0], mvsa_single_features[i][1], \n",
    "                                     mvsa_single_multimodal_labels, mvsa_single_text_labels, mvsa_single_image_labels,\n",
    "                                     verbose=0)\n",
    "    else:\n",
    "        score = run_and_evaluate_LF('single-LF-' + feature_names[i], mvsa_single_features[i][0], mvsa_single_features[i][1],\n",
    "                                     mvsa_single_multimodal_labels, mvsa_single_text_labels, mvsa_single_image_labels,\n",
    "                                     verbose=0, lstm=False)\n",
    "    scores.append(score)\n",
    "    print()\n",
    "\n",
    "df_single_scores_LF = pd.DataFrame(scores, columns=['Accuracy', 'F1-macro', 'F1-weighted'], index=feature_names)"
   ]
  },
  {
   "cell_type": "code",
   "execution_count": 23,
   "id": "917964c8",
   "metadata": {
    "execution": {
     "iopub.execute_input": "2022-07-05T06:59:08.060891Z",
     "iopub.status.busy": "2022-07-05T06:59:08.060076Z",
     "iopub.status.idle": "2022-07-05T06:59:56.385855Z",
     "shell.execute_reply": "2022-07-05T06:59:56.383759Z"
    },
    "papermill": {
     "duration": 48.338463,
     "end_time": "2022-07-05T06:59:56.388194",
     "exception": false,
     "start_time": "2022-07-05T06:59:08.049731",
     "status": "completed"
    },
    "tags": []
   },
   "outputs": [
    {
     "name": "stdout",
     "output_type": "stream",
     "text": [
      "MVSA-Multiple with Late Fusion\n",
      "\n",
      "MVSA-Multiple: resnet152-bert\n",
      "\n",
      "MVSA-Multiple: resnet152-bert-lstm\n",
      "\n",
      "MVSA-Multiple: densenet201-bert-pos-lstm\n",
      "\n",
      "MVSA-Multiple: densenet201-bert-pos-ner-lstm\n",
      "\n"
     ]
    }
   ],
   "source": [
    "print('MVSA-Multiple with Late Fusion\\n')\n",
    "scores = []\n",
    "\n",
    "for i in range(len(feature_names)):\n",
    "    print('MVSA-Multiple:', feature_names[i])\n",
    "    if 'lstm' in feature_names[i]:\n",
    "        score = run_and_evaluate_LF('multiple-LF-' + feature_names[i], mvsa_multiple_features[i][0], mvsa_multiple_features[i][1], \n",
    "                                     mvsa_multiple_multimodal_labels, mvsa_multiple_text_labels, mvsa_multiple_image_labels,\n",
    "                                     verbose=0)\n",
    "    else:\n",
    "        score = run_and_evaluate_LF('multiple-LF-' + feature_names[i], mvsa_multiple_features[i][0], mvsa_multiple_features[i][1],\n",
    "                                     mvsa_multiple_multimodal_labels, mvsa_multiple_text_labels, mvsa_multiple_image_labels,\n",
    "                                     verbose=0, lstm=False)\n",
    "    scores.append(score)\n",
    "    print()\n",
    "\n",
    "df_multiple_scores_LF = pd.DataFrame(scores, columns=['Accuracy', 'F1-macro', 'F1-weighted'], index=feature_names)"
   ]
  },
  {
   "cell_type": "markdown",
   "id": "f4d75933",
   "metadata": {
    "papermill": {
     "duration": 0.009565,
     "end_time": "2022-07-05T06:59:56.407916",
     "exception": false,
     "start_time": "2022-07-05T06:59:56.398351",
     "status": "completed"
    },
    "tags": []
   },
   "source": [
    "# Hybrid Fusion"
   ]
  },
  {
   "cell_type": "code",
   "execution_count": 24,
   "id": "640d7692",
   "metadata": {
    "execution": {
     "iopub.execute_input": "2022-07-05T06:59:56.428686Z",
     "iopub.status.busy": "2022-07-05T06:59:56.428412Z",
     "iopub.status.idle": "2022-07-05T07:01:00.973285Z",
     "shell.execute_reply": "2022-07-05T07:01:00.971098Z"
    },
    "papermill": {
     "duration": 64.558919,
     "end_time": "2022-07-05T07:01:00.976552",
     "exception": false,
     "start_time": "2022-07-05T06:59:56.417633",
     "status": "completed"
    },
    "tags": []
   },
   "outputs": [
    {
     "name": "stdout",
     "output_type": "stream",
     "text": [
      "MVSA-Single with Hybrid Fusion\n",
      "\n",
      "MVSA-Single: resnet152-bert\n",
      "\n",
      "MVSA-Single: resnet152-bert-lstm\n",
      "\n",
      "MVSA-Single: densenet201-bert-pos-lstm\n",
      "\n",
      "MVSA-Single: densenet201-bert-pos-ner-lstm\n",
      "\n"
     ]
    }
   ],
   "source": [
    "print('MVSA-Single with Hybrid Fusion\\n')\n",
    "scores = []\n",
    "\n",
    "for i in range(len(feature_names)):\n",
    "    print('MVSA-Single:', feature_names[i])\n",
    "    if 'lstm' in feature_names[i]:\n",
    "        score = run_and_evaluate_HF('single-HF-' + feature_names[i], mvsa_single_features[i][0], mvsa_single_features[i][1], \n",
    "                                     mvsa_single_multimodal_labels, mvsa_single_text_labels, mvsa_single_image_labels,\n",
    "                                     verbose=0)\n",
    "    else:\n",
    "        score = run_and_evaluate_HF('single-HF-' + feature_names[i], mvsa_single_features[i][0], mvsa_single_features[i][1],\n",
    "                                     mvsa_single_multimodal_labels, mvsa_single_text_labels, mvsa_single_image_labels,\n",
    "                                     verbose=0, lstm=False)\n",
    "    scores.append(score)\n",
    "    print()\n",
    "\n",
    "df_single_scores_HF = pd.DataFrame(scores, columns=['Accuracy', 'F1-macro', 'F1-weighted'], index=feature_names)"
   ]
  },
  {
   "cell_type": "code",
   "execution_count": 25,
   "id": "08bd9bfc",
   "metadata": {
    "execution": {
     "iopub.execute_input": "2022-07-05T07:01:00.998360Z",
     "iopub.status.busy": "2022-07-05T07:01:00.998080Z",
     "iopub.status.idle": "2022-07-05T07:02:35.683353Z",
     "shell.execute_reply": "2022-07-05T07:02:35.682354Z"
    },
    "papermill": {
     "duration": 94.706761,
     "end_time": "2022-07-05T07:02:35.693858",
     "exception": false,
     "start_time": "2022-07-05T07:01:00.987097",
     "status": "completed"
    },
    "tags": []
   },
   "outputs": [
    {
     "name": "stdout",
     "output_type": "stream",
     "text": [
      "MVSA-Multiple with Hybrid Fusion\n",
      "\n",
      "MVSA-Multiple: resnet152-bert\n",
      "\n",
      "MVSA-Multiple: resnet152-bert-lstm\n",
      "\n",
      "MVSA-Multiple: densenet201-bert-pos-lstm\n",
      "\n",
      "MVSA-Multiple: densenet201-bert-pos-ner-lstm\n",
      "\n"
     ]
    }
   ],
   "source": [
    "print('MVSA-Multiple with Hybrid Fusion\\n')\n",
    "scores = []\n",
    "\n",
    "for i in range(len(feature_names)):\n",
    "    print('MVSA-Multiple:', feature_names[i])\n",
    "    if 'lstm' in feature_names[i]:\n",
    "        score = run_and_evaluate_HF('multiple-HF-' + feature_names[i], mvsa_multiple_features[i][0], mvsa_multiple_features[i][1], \n",
    "                                     mvsa_multiple_multimodal_labels, mvsa_multiple_text_labels, mvsa_multiple_image_labels,\n",
    "                                     verbose=0)\n",
    "    else:\n",
    "        score = run_and_evaluate_HF('multiple-HF-' + feature_names[i], mvsa_multiple_features[i][0], mvsa_multiple_features[i][1],\n",
    "                                     mvsa_multiple_multimodal_labels, mvsa_multiple_text_labels, mvsa_multiple_image_labels,\n",
    "                                     verbose=0, lstm=False)\n",
    "    scores.append(score)\n",
    "    print()\n",
    "\n",
    "df_multiple_scores_HF = pd.DataFrame(scores, columns=['Accuracy', 'F1-macro', 'F1-weighted'], index=feature_names)"
   ]
  },
  {
   "cell_type": "markdown",
   "id": "ce732b6c",
   "metadata": {
    "papermill": {
     "duration": 0.009953,
     "end_time": "2022-07-05T07:02:35.714165",
     "exception": false,
     "start_time": "2022-07-05T07:02:35.704212",
     "status": "completed"
    },
    "tags": []
   },
   "source": [
    "# Display results"
   ]
  },
  {
   "cell_type": "code",
   "execution_count": 26,
   "id": "ab11cf4f",
   "metadata": {
    "execution": {
     "iopub.execute_input": "2022-07-05T07:02:35.737366Z",
     "iopub.status.busy": "2022-07-05T07:02:35.736488Z",
     "iopub.status.idle": "2022-07-05T07:02:35.750561Z",
     "shell.execute_reply": "2022-07-05T07:02:35.749181Z"
    },
    "papermill": {
     "duration": 0.028246,
     "end_time": "2022-07-05T07:02:35.752755",
     "exception": false,
     "start_time": "2022-07-05T07:02:35.724509",
     "status": "completed"
    },
    "tags": []
   },
   "outputs": [],
   "source": [
    "df_single_scores_IF = df_single_scores_IF.drop(columns=['Loss'])\n",
    "df_multiple_scores_IF = df_multiple_scores_IF.drop(columns=['Loss'])"
   ]
  },
  {
   "cell_type": "code",
   "execution_count": 27,
   "id": "646e6536",
   "metadata": {
    "execution": {
     "iopub.execute_input": "2022-07-05T07:02:35.775429Z",
     "iopub.status.busy": "2022-07-05T07:02:35.775166Z",
     "iopub.status.idle": "2022-07-05T07:02:35.851454Z",
     "shell.execute_reply": "2022-07-05T07:02:35.850421Z"
    },
    "papermill": {
     "duration": 0.090932,
     "end_time": "2022-07-05T07:02:35.854204",
     "exception": false,
     "start_time": "2022-07-05T07:02:35.763272",
     "status": "completed"
    },
    "tags": []
   },
   "outputs": [
    {
     "name": "stdout",
     "output_type": "stream",
     "text": [
      "Intermediate Fusion\n"
     ]
    },
    {
     "data": {
      "text/html": [
       "<table style=\"display:inline\"><tr><td style=\"text-align:center\">MVSA-Single</td><td style=\"text-align:center\">MVSA-Multiple</td></tr><tr><td style=\"vertical-align:top\"> <style type=\"text/css\">\n",
       "#T_3e07f_row0_col0, #T_3e07f_row1_col0, #T_3e07f_row1_col1, #T_3e07f_row1_col2 {\n",
       "  color: tomato;\n",
       "}\n",
       "#T_3e07f_row2_col0, #T_3e07f_row2_col2, #T_3e07f_row3_col1 {\n",
       "  color: lawngreen;\n",
       "}\n",
       "</style>\n",
       "<table style=\"display:inline\" id=\"T_3e07f_\">\n",
       "  <thead>\n",
       "    <tr>\n",
       "      <th class=\"blank level0\" >&nbsp;</th>\n",
       "      <th class=\"col_heading level0 col0\" >Accuracy</th>\n",
       "      <th class=\"col_heading level0 col1\" >F1-macro</th>\n",
       "      <th class=\"col_heading level0 col2\" >F1-weighted</th>\n",
       "    </tr>\n",
       "  </thead>\n",
       "  <tbody>\n",
       "    <tr>\n",
       "      <th id=\"T_3e07f_level0_row0\" class=\"row_heading level0 row0\" >resnet152-bert</th>\n",
       "      <td id=\"T_3e07f_row0_col0\" class=\"data row0 col0\" >0.603104</td>\n",
       "      <td id=\"T_3e07f_row0_col1\" class=\"data row0 col1\" >0.280481</td>\n",
       "      <td id=\"T_3e07f_row0_col2\" class=\"data row0 col2\" >0.482997</td>\n",
       "    </tr>\n",
       "    <tr>\n",
       "      <th id=\"T_3e07f_level0_row1\" class=\"row_heading level0 row1\" >resnet152-bert-lstm</th>\n",
       "      <td id=\"T_3e07f_row1_col0\" class=\"data row1 col0\" >0.603104</td>\n",
       "      <td id=\"T_3e07f_row1_col1\" class=\"data row1 col1\" >0.250807</td>\n",
       "      <td id=\"T_3e07f_row1_col2\" class=\"data row1 col2\" >0.453788</td>\n",
       "    </tr>\n",
       "    <tr>\n",
       "      <th id=\"T_3e07f_level0_row2\" class=\"row_heading level0 row2\" >densenet201-bert-pos-lstm</th>\n",
       "      <td id=\"T_3e07f_row2_col0\" class=\"data row2 col0\" >0.685144</td>\n",
       "      <td id=\"T_3e07f_row2_col1\" class=\"data row2 col1\" >0.506248</td>\n",
       "      <td id=\"T_3e07f_row2_col2\" class=\"data row2 col2\" >0.683706</td>\n",
       "    </tr>\n",
       "    <tr>\n",
       "      <th id=\"T_3e07f_level0_row3\" class=\"row_heading level0 row3\" >densenet201-bert-pos-ner-lstm</th>\n",
       "      <td id=\"T_3e07f_row3_col0\" class=\"data row3 col0\" >0.671840</td>\n",
       "      <td id=\"T_3e07f_row3_col1\" class=\"data row3 col1\" >0.512758</td>\n",
       "      <td id=\"T_3e07f_row3_col2\" class=\"data row3 col2\" >0.672824</td>\n",
       "    </tr>\n",
       "  </tbody>\n",
       "</table style=\"display:inline\">\n",
       "</td><td style=\"vertical-align:top\"> <style type=\"text/css\">\n",
       "#T_63a60_row0_col0, #T_63a60_row0_col1, #T_63a60_row0_col2, #T_63a60_row1_col0, #T_63a60_row1_col1, #T_63a60_row1_col2 {\n",
       "  color: tomato;\n",
       "}\n",
       "#T_63a60_row2_col0, #T_63a60_row3_col1, #T_63a60_row3_col2 {\n",
       "  color: lawngreen;\n",
       "}\n",
       "</style>\n",
       "<table style=\"display:inline\" id=\"T_63a60_\">\n",
       "  <thead>\n",
       "    <tr>\n",
       "      <th class=\"blank level0\" >&nbsp;</th>\n",
       "      <th class=\"col_heading level0 col0\" >Accuracy</th>\n",
       "      <th class=\"col_heading level0 col1\" >F1-macro</th>\n",
       "      <th class=\"col_heading level0 col2\" >F1-weighted</th>\n",
       "    </tr>\n",
       "  </thead>\n",
       "  <tbody>\n",
       "    <tr>\n",
       "      <th id=\"T_63a60_level0_row0\" class=\"row_heading level0 row0\" >resnet152-bert</th>\n",
       "      <td id=\"T_63a60_row0_col0\" class=\"data row0 col0\" >0.639835</td>\n",
       "      <td id=\"T_63a60_row0_col1\" class=\"data row0 col1\" >0.260122</td>\n",
       "      <td id=\"T_63a60_row0_col2\" class=\"data row0 col2\" >0.499306</td>\n",
       "    </tr>\n",
       "    <tr>\n",
       "      <th id=\"T_63a60_level0_row1\" class=\"row_heading level0 row1\" >resnet152-bert-lstm</th>\n",
       "      <td id=\"T_63a60_row1_col0\" class=\"data row1 col0\" >0.639835</td>\n",
       "      <td id=\"T_63a60_row1_col1\" class=\"data row1 col1\" >0.260122</td>\n",
       "      <td id=\"T_63a60_row1_col2\" class=\"data row1 col2\" >0.499306</td>\n",
       "    </tr>\n",
       "    <tr>\n",
       "      <th id=\"T_63a60_level0_row2\" class=\"row_heading level0 row2\" >densenet201-bert-pos-lstm</th>\n",
       "      <td id=\"T_63a60_row2_col0\" class=\"data row2 col0\" >0.659812</td>\n",
       "      <td id=\"T_63a60_row2_col1\" class=\"data row2 col1\" >0.442682</td>\n",
       "      <td id=\"T_63a60_row2_col2\" class=\"data row2 col2\" >0.603832</td>\n",
       "    </tr>\n",
       "    <tr>\n",
       "      <th id=\"T_63a60_level0_row3\" class=\"row_heading level0 row3\" >densenet201-bert-pos-ner-lstm</th>\n",
       "      <td id=\"T_63a60_row3_col0\" class=\"data row3 col0\" >0.649824</td>\n",
       "      <td id=\"T_63a60_row3_col1\" class=\"data row3 col1\" >0.491817</td>\n",
       "      <td id=\"T_63a60_row3_col2\" class=\"data row3 col2\" >0.623917</td>\n",
       "    </tr>\n",
       "  </tbody>\n",
       "</table style=\"display:inline\">\n",
       "</td></tr></table style=\"display:inline\">"
      ]
     },
     "metadata": {},
     "output_type": "display_data"
    }
   ],
   "source": [
    "print('Intermediate Fusion')\n",
    "display_dataframes((style_dataframe(df_single_scores_IF), style_dataframe(df_multiple_scores_IF)), \n",
    "                   names=['MVSA-Single', 'MVSA-Multiple'])"
   ]
  },
  {
   "cell_type": "code",
   "execution_count": 28,
   "id": "ee9e732e",
   "metadata": {
    "execution": {
     "iopub.execute_input": "2022-07-05T07:02:35.876128Z",
     "iopub.status.busy": "2022-07-05T07:02:35.875867Z",
     "iopub.status.idle": "2022-07-05T07:02:35.903581Z",
     "shell.execute_reply": "2022-07-05T07:02:35.902735Z"
    },
    "papermill": {
     "duration": 0.041028,
     "end_time": "2022-07-05T07:02:35.905630",
     "exception": false,
     "start_time": "2022-07-05T07:02:35.864602",
     "status": "completed"
    },
    "tags": []
   },
   "outputs": [
    {
     "name": "stdout",
     "output_type": "stream",
     "text": [
      "Late Fusion with Original Labels\n"
     ]
    },
    {
     "data": {
      "text/html": [
       "<table style=\"display:inline\"><tr><td style=\"text-align:center\">MVSA-Single</td><td style=\"text-align:center\">MVSA-Multiple</td></tr><tr><td style=\"vertical-align:top\"> <style type=\"text/css\">\n",
       "#T_8c823_row0_col0, #T_8c823_row0_col1, #T_8c823_row0_col2 {\n",
       "  color: tomato;\n",
       "}\n",
       "#T_8c823_row3_col0, #T_8c823_row3_col1, #T_8c823_row3_col2 {\n",
       "  color: lawngreen;\n",
       "}\n",
       "</style>\n",
       "<table style=\"display:inline\" id=\"T_8c823_\">\n",
       "  <thead>\n",
       "    <tr>\n",
       "      <th class=\"blank level0\" >&nbsp;</th>\n",
       "      <th class=\"col_heading level0 col0\" >Accuracy</th>\n",
       "      <th class=\"col_heading level0 col1\" >F1-macro</th>\n",
       "      <th class=\"col_heading level0 col2\" >F1-weighted</th>\n",
       "    </tr>\n",
       "  </thead>\n",
       "  <tbody>\n",
       "    <tr>\n",
       "      <th id=\"T_8c823_level0_row0\" class=\"row_heading level0 row0\" >resnet152-bert</th>\n",
       "      <td id=\"T_8c823_row0_col0\" class=\"data row0 col0\" >0.445676</td>\n",
       "      <td id=\"T_8c823_row0_col1\" class=\"data row0 col1\" >0.390508</td>\n",
       "      <td id=\"T_8c823_row0_col2\" class=\"data row0 col2\" >0.528355</td>\n",
       "    </tr>\n",
       "    <tr>\n",
       "      <th id=\"T_8c823_level0_row1\" class=\"row_heading level0 row1\" >resnet152-bert-lstm</th>\n",
       "      <td id=\"T_8c823_row1_col0\" class=\"data row1 col0\" >0.452328</td>\n",
       "      <td id=\"T_8c823_row1_col1\" class=\"data row1 col1\" >0.392508</td>\n",
       "      <td id=\"T_8c823_row1_col2\" class=\"data row1 col2\" >0.531224</td>\n",
       "    </tr>\n",
       "    <tr>\n",
       "      <th id=\"T_8c823_level0_row2\" class=\"row_heading level0 row2\" >densenet201-bert-pos-lstm</th>\n",
       "      <td id=\"T_8c823_row2_col0\" class=\"data row2 col0\" >0.496674</td>\n",
       "      <td id=\"T_8c823_row2_col1\" class=\"data row2 col1\" >0.422446</td>\n",
       "      <td id=\"T_8c823_row2_col2\" class=\"data row2 col2\" >0.569828</td>\n",
       "    </tr>\n",
       "    <tr>\n",
       "      <th id=\"T_8c823_level0_row3\" class=\"row_heading level0 row3\" >densenet201-bert-pos-ner-lstm</th>\n",
       "      <td id=\"T_8c823_row3_col0\" class=\"data row3 col0\" >0.518847</td>\n",
       "      <td id=\"T_8c823_row3_col1\" class=\"data row3 col1\" >0.439503</td>\n",
       "      <td id=\"T_8c823_row3_col2\" class=\"data row3 col2\" >0.586888</td>\n",
       "    </tr>\n",
       "  </tbody>\n",
       "</table style=\"display:inline\">\n",
       "</td><td style=\"vertical-align:top\"> <style type=\"text/css\">\n",
       "#T_38215_row0_col0, #T_38215_row2_col1, #T_38215_row2_col2 {\n",
       "  color: lawngreen;\n",
       "}\n",
       "#T_38215_row1_col1, #T_38215_row1_col2, #T_38215_row3_col0 {\n",
       "  color: tomato;\n",
       "}\n",
       "</style>\n",
       "<table style=\"display:inline\" id=\"T_38215_\">\n",
       "  <thead>\n",
       "    <tr>\n",
       "      <th class=\"blank level0\" >&nbsp;</th>\n",
       "      <th class=\"col_heading level0 col0\" >Accuracy</th>\n",
       "      <th class=\"col_heading level0 col1\" >F1-macro</th>\n",
       "      <th class=\"col_heading level0 col2\" >F1-weighted</th>\n",
       "    </tr>\n",
       "  </thead>\n",
       "  <tbody>\n",
       "    <tr>\n",
       "      <th id=\"T_38215_level0_row0\" class=\"row_heading level0 row0\" >resnet152-bert</th>\n",
       "      <td id=\"T_38215_row0_col0\" class=\"data row0 col0\" >0.648061</td>\n",
       "      <td id=\"T_38215_row0_col1\" class=\"data row0 col1\" >0.398210</td>\n",
       "      <td id=\"T_38215_row0_col2\" class=\"data row0 col2\" >0.590705</td>\n",
       "    </tr>\n",
       "    <tr>\n",
       "      <th id=\"T_38215_level0_row1\" class=\"row_heading level0 row1\" >resnet152-bert-lstm</th>\n",
       "      <td id=\"T_38215_row1_col0\" class=\"data row1 col0\" >0.635135</td>\n",
       "      <td id=\"T_38215_row1_col1\" class=\"data row1 col1\" >0.394938</td>\n",
       "      <td id=\"T_38215_row1_col2\" class=\"data row1 col2\" >0.587518</td>\n",
       "    </tr>\n",
       "    <tr>\n",
       "      <th id=\"T_38215_level0_row2\" class=\"row_heading level0 row2\" >densenet201-bert-pos-lstm</th>\n",
       "      <td id=\"T_38215_row2_col0\" class=\"data row2 col0\" >0.636898</td>\n",
       "      <td id=\"T_38215_row2_col1\" class=\"data row2 col1\" >0.438563</td>\n",
       "      <td id=\"T_38215_row2_col2\" class=\"data row2 col2\" >0.610664</td>\n",
       "    </tr>\n",
       "    <tr>\n",
       "      <th id=\"T_38215_level0_row3\" class=\"row_heading level0 row3\" >densenet201-bert-pos-ner-lstm</th>\n",
       "      <td id=\"T_38215_row3_col0\" class=\"data row3 col0\" >0.625734</td>\n",
       "      <td id=\"T_38215_row3_col1\" class=\"data row3 col1\" >0.424925</td>\n",
       "      <td id=\"T_38215_row3_col2\" class=\"data row3 col2\" >0.600230</td>\n",
       "    </tr>\n",
       "  </tbody>\n",
       "</table style=\"display:inline\">\n",
       "</td></tr></table style=\"display:inline\">"
      ]
     },
     "metadata": {},
     "output_type": "display_data"
    }
   ],
   "source": [
    "print('Late Fusion with Original Labels')\n",
    "display_dataframes((style_dataframe(df_single_scores_LF), style_dataframe(df_multiple_scores_LF)), \n",
    "                   names=['MVSA-Single', 'MVSA-Multiple'])"
   ]
  },
  {
   "cell_type": "code",
   "execution_count": 29,
   "id": "08f1393b",
   "metadata": {
    "execution": {
     "iopub.execute_input": "2022-07-05T07:02:35.927900Z",
     "iopub.status.busy": "2022-07-05T07:02:35.927628Z",
     "iopub.status.idle": "2022-07-05T07:02:35.956246Z",
     "shell.execute_reply": "2022-07-05T07:02:35.955090Z"
    },
    "papermill": {
     "duration": 0.042319,
     "end_time": "2022-07-05T07:02:35.958512",
     "exception": false,
     "start_time": "2022-07-05T07:02:35.916193",
     "status": "completed"
    },
    "tags": []
   },
   "outputs": [
    {
     "name": "stdout",
     "output_type": "stream",
     "text": [
      "Hybrid Fusion with Original Labels\n"
     ]
    },
    {
     "data": {
      "text/html": [
       "<table style=\"display:inline\"><tr><td style=\"text-align:center\">MVSA-Single</td><td style=\"text-align:center\">MVSA-Multiple</td></tr><tr><td style=\"vertical-align:top\"> <style type=\"text/css\">\n",
       "#T_c51c5_row1_col0, #T_c51c5_row1_col1, #T_c51c5_row1_col2 {\n",
       "  color: tomato;\n",
       "}\n",
       "#T_c51c5_row2_col0, #T_c51c5_row2_col1, #T_c51c5_row2_col2 {\n",
       "  color: lawngreen;\n",
       "}\n",
       "</style>\n",
       "<table style=\"display:inline\" id=\"T_c51c5_\">\n",
       "  <thead>\n",
       "    <tr>\n",
       "      <th class=\"blank level0\" >&nbsp;</th>\n",
       "      <th class=\"col_heading level0 col0\" >Accuracy</th>\n",
       "      <th class=\"col_heading level0 col1\" >F1-macro</th>\n",
       "      <th class=\"col_heading level0 col2\" >F1-weighted</th>\n",
       "    </tr>\n",
       "  </thead>\n",
       "  <tbody>\n",
       "    <tr>\n",
       "      <th id=\"T_c51c5_level0_row0\" class=\"row_heading level0 row0\" >resnet152-bert</th>\n",
       "      <td id=\"T_c51c5_row0_col0\" class=\"data row0 col0\" >0.585366</td>\n",
       "      <td id=\"T_c51c5_row0_col1\" class=\"data row0 col1\" >0.405077</td>\n",
       "      <td id=\"T_c51c5_row0_col2\" class=\"data row0 col2\" >0.570085</td>\n",
       "    </tr>\n",
       "    <tr>\n",
       "      <th id=\"T_c51c5_level0_row1\" class=\"row_heading level0 row1\" >resnet152-bert-lstm</th>\n",
       "      <td id=\"T_c51c5_row1_col0\" class=\"data row1 col0\" >0.556541</td>\n",
       "      <td id=\"T_c51c5_row1_col1\" class=\"data row1 col1\" >0.386825</td>\n",
       "      <td id=\"T_c51c5_row1_col2\" class=\"data row1 col2\" >0.541658</td>\n",
       "    </tr>\n",
       "    <tr>\n",
       "      <th id=\"T_c51c5_level0_row2\" class=\"row_heading level0 row2\" >densenet201-bert-pos-lstm</th>\n",
       "      <td id=\"T_c51c5_row2_col0\" class=\"data row2 col0\" >0.660754</td>\n",
       "      <td id=\"T_c51c5_row2_col1\" class=\"data row2 col1\" >0.511143</td>\n",
       "      <td id=\"T_c51c5_row2_col2\" class=\"data row2 col2\" >0.684660</td>\n",
       "    </tr>\n",
       "    <tr>\n",
       "      <th id=\"T_c51c5_level0_row3\" class=\"row_heading level0 row3\" >densenet201-bert-pos-ner-lstm</th>\n",
       "      <td id=\"T_c51c5_row3_col0\" class=\"data row3 col0\" >0.645233</td>\n",
       "      <td id=\"T_c51c5_row3_col1\" class=\"data row3 col1\" >0.506161</td>\n",
       "      <td id=\"T_c51c5_row3_col2\" class=\"data row3 col2\" >0.679055</td>\n",
       "    </tr>\n",
       "  </tbody>\n",
       "</table style=\"display:inline\">\n",
       "</td><td style=\"vertical-align:top\"> <style type=\"text/css\">\n",
       "#T_87e3b_row0_col0, #T_87e3b_row0_col1, #T_87e3b_row0_col2 {\n",
       "  color: tomato;\n",
       "}\n",
       "#T_87e3b_row2_col0, #T_87e3b_row2_col1, #T_87e3b_row2_col2 {\n",
       "  color: lawngreen;\n",
       "}\n",
       "</style>\n",
       "<table style=\"display:inline\" id=\"T_87e3b_\">\n",
       "  <thead>\n",
       "    <tr>\n",
       "      <th class=\"blank level0\" >&nbsp;</th>\n",
       "      <th class=\"col_heading level0 col0\" >Accuracy</th>\n",
       "      <th class=\"col_heading level0 col1\" >F1-macro</th>\n",
       "      <th class=\"col_heading level0 col2\" >F1-weighted</th>\n",
       "    </tr>\n",
       "  </thead>\n",
       "  <tbody>\n",
       "    <tr>\n",
       "      <th id=\"T_87e3b_level0_row0\" class=\"row_heading level0 row0\" >resnet152-bert</th>\n",
       "      <td id=\"T_87e3b_row0_col0\" class=\"data row0 col0\" >0.641598</td>\n",
       "      <td id=\"T_87e3b_row0_col1\" class=\"data row0 col1\" >0.269839</td>\n",
       "      <td id=\"T_87e3b_row0_col2\" class=\"data row0 col2\" >0.506604</td>\n",
       "    </tr>\n",
       "    <tr>\n",
       "      <th id=\"T_87e3b_level0_row1\" class=\"row_heading level0 row1\" >resnet152-bert-lstm</th>\n",
       "      <td id=\"T_87e3b_row1_col0\" class=\"data row1 col0\" >0.643948</td>\n",
       "      <td id=\"T_87e3b_row1_col1\" class=\"data row1 col1\" >0.276514</td>\n",
       "      <td id=\"T_87e3b_row1_col2\" class=\"data row1 col2\" >0.512112</td>\n",
       "    </tr>\n",
       "    <tr>\n",
       "      <th id=\"T_87e3b_level0_row2\" class=\"row_heading level0 row2\" >densenet201-bert-pos-lstm</th>\n",
       "      <td id=\"T_87e3b_row2_col0\" class=\"data row2 col0\" >0.659224</td>\n",
       "      <td id=\"T_87e3b_row2_col1\" class=\"data row2 col1\" >0.471013</td>\n",
       "      <td id=\"T_87e3b_row2_col2\" class=\"data row2 col2\" >0.626498</td>\n",
       "    </tr>\n",
       "    <tr>\n",
       "      <th id=\"T_87e3b_level0_row3\" class=\"row_heading level0 row3\" >densenet201-bert-pos-ner-lstm</th>\n",
       "      <td id=\"T_87e3b_row3_col0\" class=\"data row3 col0\" >0.648061</td>\n",
       "      <td id=\"T_87e3b_row3_col1\" class=\"data row3 col1\" >0.465608</td>\n",
       "      <td id=\"T_87e3b_row3_col2\" class=\"data row3 col2\" >0.619573</td>\n",
       "    </tr>\n",
       "  </tbody>\n",
       "</table style=\"display:inline\">\n",
       "</td></tr></table style=\"display:inline\">"
      ]
     },
     "metadata": {},
     "output_type": "display_data"
    }
   ],
   "source": [
    "print('Hybrid Fusion with Original Labels')\n",
    "display_dataframes((style_dataframe(df_single_scores_HF), style_dataframe(df_multiple_scores_HF)), \n",
    "                   names=['MVSA-Single', 'MVSA-Multiple'])"
   ]
  },
  {
   "cell_type": "code",
   "execution_count": 30,
   "id": "0e8b5f5e",
   "metadata": {
    "execution": {
     "iopub.execute_input": "2022-07-05T07:02:35.983715Z",
     "iopub.status.busy": "2022-07-05T07:02:35.982226Z",
     "iopub.status.idle": "2022-07-05T07:02:35.990917Z",
     "shell.execute_reply": "2022-07-05T07:02:35.989888Z"
    },
    "papermill": {
     "duration": 0.022496,
     "end_time": "2022-07-05T07:02:35.992933",
     "exception": false,
     "start_time": "2022-07-05T07:02:35.970437",
     "status": "completed"
    },
    "tags": []
   },
   "outputs": [],
   "source": [
    "# get max values of late and intermediate fusion\n",
    "df_single_higher_fusion = pd.DataFrame(np.where(df_single_scores_LF.gt(df_single_scores_IF.values), df_single_scores_LF.values, df_single_scores_IF.values),\n",
    "                 columns=['Accuracy','F1-macro','F1-weighted'], index=feature_names)\n",
    "\n",
    "df_multiple_higher_fusion = pd.DataFrame(np.where(df_single_scores_LF.gt(df_single_scores_IF.values), df_multiple_scores_LF.values, df_multiple_scores_IF.values),\n",
    "                 columns=['Accuracy','F1-macro','F1-weighted'], index=feature_names)\n",
    "\n",
    "df_single_subtract = df_single_scores_HF.subtract(df_single_higher_fusion)\n",
    "df_multiple_subtract = df_multiple_scores_HF.subtract(df_multiple_higher_fusion)"
   ]
  },
  {
   "cell_type": "code",
   "execution_count": 31,
   "id": "a25872f4",
   "metadata": {
    "execution": {
     "iopub.execute_input": "2022-07-05T07:02:36.017085Z",
     "iopub.status.busy": "2022-07-05T07:02:36.016822Z",
     "iopub.status.idle": "2022-07-05T07:02:36.032734Z",
     "shell.execute_reply": "2022-07-05T07:02:36.031740Z"
    },
    "papermill": {
     "duration": 0.03264,
     "end_time": "2022-07-05T07:02:36.037249",
     "exception": false,
     "start_time": "2022-07-05T07:02:36.004609",
     "status": "completed"
    },
    "tags": []
   },
   "outputs": [
    {
     "name": "stdout",
     "output_type": "stream",
     "text": [
      "Compare Hybrid Fusion scores up\n"
     ]
    },
    {
     "data": {
      "text/html": [
       "<table style=\"display:inline\"><tr><td style=\"text-align:center\">MVSA-Single</td><td style=\"text-align:center\">MVSA-Multiple</td></tr><tr><td style=\"vertical-align:top\"> <style type=\"text/css\">\n",
       "#T_fdecb_row0_col0, #T_fdecb_row1_col0, #T_fdecb_row1_col1, #T_fdecb_row2_col0, #T_fdecb_row3_col0, #T_fdecb_row3_col1 {\n",
       "  color: tomato;\n",
       "}\n",
       "#T_fdecb_row0_col1, #T_fdecb_row0_col2, #T_fdecb_row1_col2, #T_fdecb_row2_col1, #T_fdecb_row2_col2, #T_fdecb_row3_col2 {\n",
       "  color: lawngreen;\n",
       "}\n",
       "</style>\n",
       "<table style=\"display:inline\" id=\"T_fdecb_\">\n",
       "  <thead>\n",
       "    <tr>\n",
       "      <th class=\"blank level0\" >&nbsp;</th>\n",
       "      <th class=\"col_heading level0 col0\" >Accuracy</th>\n",
       "      <th class=\"col_heading level0 col1\" >F1-macro</th>\n",
       "      <th class=\"col_heading level0 col2\" >F1-weighted</th>\n",
       "    </tr>\n",
       "  </thead>\n",
       "  <tbody>\n",
       "    <tr>\n",
       "      <th id=\"T_fdecb_level0_row0\" class=\"row_heading level0 row0\" >resnet152-bert</th>\n",
       "      <td id=\"T_fdecb_row0_col0\" class=\"data row0 col0\" >-0.017738</td>\n",
       "      <td id=\"T_fdecb_row0_col1\" class=\"data row0 col1\" >0.014570</td>\n",
       "      <td id=\"T_fdecb_row0_col2\" class=\"data row0 col2\" >0.041730</td>\n",
       "    </tr>\n",
       "    <tr>\n",
       "      <th id=\"T_fdecb_level0_row1\" class=\"row_heading level0 row1\" >resnet152-bert-lstm</th>\n",
       "      <td id=\"T_fdecb_row1_col0\" class=\"data row1 col0\" >-0.046563</td>\n",
       "      <td id=\"T_fdecb_row1_col1\" class=\"data row1 col1\" >-0.005684</td>\n",
       "      <td id=\"T_fdecb_row1_col2\" class=\"data row1 col2\" >0.010434</td>\n",
       "    </tr>\n",
       "    <tr>\n",
       "      <th id=\"T_fdecb_level0_row2\" class=\"row_heading level0 row2\" >densenet201-bert-pos-lstm</th>\n",
       "      <td id=\"T_fdecb_row2_col0\" class=\"data row2 col0\" >-0.024390</td>\n",
       "      <td id=\"T_fdecb_row2_col1\" class=\"data row2 col1\" >0.004896</td>\n",
       "      <td id=\"T_fdecb_row2_col2\" class=\"data row2 col2\" >0.000954</td>\n",
       "    </tr>\n",
       "    <tr>\n",
       "      <th id=\"T_fdecb_level0_row3\" class=\"row_heading level0 row3\" >densenet201-bert-pos-ner-lstm</th>\n",
       "      <td id=\"T_fdecb_row3_col0\" class=\"data row3 col0\" >-0.026608</td>\n",
       "      <td id=\"T_fdecb_row3_col1\" class=\"data row3 col1\" >-0.006597</td>\n",
       "      <td id=\"T_fdecb_row3_col2\" class=\"data row3 col2\" >0.006231</td>\n",
       "    </tr>\n",
       "  </tbody>\n",
       "</table style=\"display:inline\">\n",
       "</td><td style=\"vertical-align:top\"> <style type=\"text/css\">\n",
       "#T_14247_row0_col0, #T_14247_row1_col0, #T_14247_row2_col1, #T_14247_row2_col2 {\n",
       "  color: lawngreen;\n",
       "}\n",
       "#T_14247_row0_col1, #T_14247_row0_col2, #T_14247_row1_col1, #T_14247_row1_col2, #T_14247_row2_col0, #T_14247_row3_col0, #T_14247_row3_col1, #T_14247_row3_col2 {\n",
       "  color: tomato;\n",
       "}\n",
       "</style>\n",
       "<table style=\"display:inline\" id=\"T_14247_\">\n",
       "  <thead>\n",
       "    <tr>\n",
       "      <th class=\"blank level0\" >&nbsp;</th>\n",
       "      <th class=\"col_heading level0 col0\" >Accuracy</th>\n",
       "      <th class=\"col_heading level0 col1\" >F1-macro</th>\n",
       "      <th class=\"col_heading level0 col2\" >F1-weighted</th>\n",
       "    </tr>\n",
       "  </thead>\n",
       "  <tbody>\n",
       "    <tr>\n",
       "      <th id=\"T_14247_level0_row0\" class=\"row_heading level0 row0\" >resnet152-bert</th>\n",
       "      <td id=\"T_14247_row0_col0\" class=\"data row0 col0\" >0.001763</td>\n",
       "      <td id=\"T_14247_row0_col1\" class=\"data row0 col1\" >-0.128371</td>\n",
       "      <td id=\"T_14247_row0_col2\" class=\"data row0 col2\" >-0.084102</td>\n",
       "    </tr>\n",
       "    <tr>\n",
       "      <th id=\"T_14247_level0_row1\" class=\"row_heading level0 row1\" >resnet152-bert-lstm</th>\n",
       "      <td id=\"T_14247_row1_col0\" class=\"data row1 col0\" >0.004113</td>\n",
       "      <td id=\"T_14247_row1_col1\" class=\"data row1 col1\" >-0.118424</td>\n",
       "      <td id=\"T_14247_row1_col2\" class=\"data row1 col2\" >-0.075406</td>\n",
       "    </tr>\n",
       "    <tr>\n",
       "      <th id=\"T_14247_level0_row2\" class=\"row_heading level0 row2\" >densenet201-bert-pos-lstm</th>\n",
       "      <td id=\"T_14247_row2_col0\" class=\"data row2 col0\" >-0.000588</td>\n",
       "      <td id=\"T_14247_row2_col1\" class=\"data row2 col1\" >0.028331</td>\n",
       "      <td id=\"T_14247_row2_col2\" class=\"data row2 col2\" >0.022665</td>\n",
       "    </tr>\n",
       "    <tr>\n",
       "      <th id=\"T_14247_level0_row3\" class=\"row_heading level0 row3\" >densenet201-bert-pos-ner-lstm</th>\n",
       "      <td id=\"T_14247_row3_col0\" class=\"data row3 col0\" >-0.001763</td>\n",
       "      <td id=\"T_14247_row3_col1\" class=\"data row3 col1\" >-0.026209</td>\n",
       "      <td id=\"T_14247_row3_col2\" class=\"data row3 col2\" >-0.004344</td>\n",
       "    </tr>\n",
       "  </tbody>\n",
       "</table style=\"display:inline\">\n",
       "</td></tr></table style=\"display:inline\">"
      ]
     },
     "metadata": {},
     "output_type": "display_data"
    }
   ],
   "source": [
    "print('Compare Hybrid Fusion scores up')\n",
    "display_dataframes((df_single_subtract.style.applymap(highlight_neg), df_multiple_subtract.style.applymap(highlight_neg)), \n",
    "                   names=['MVSA-Single', 'MVSA-Multiple'])"
   ]
  },
  {
   "cell_type": "markdown",
   "id": "cd667073",
   "metadata": {
    "papermill": {
     "duration": 0.011011,
     "end_time": "2022-07-05T07:02:36.060021",
     "exception": false,
     "start_time": "2022-07-05T07:02:36.049010",
     "status": "completed"
    },
    "tags": []
   },
   "source": [
    "# Drafts"
   ]
  },
  {
   "cell_type": "code",
   "execution_count": 32,
   "id": "1c432751",
   "metadata": {
    "execution": {
     "iopub.execute_input": "2022-07-05T07:02:36.083251Z",
     "iopub.status.busy": "2022-07-05T07:02:36.083007Z",
     "iopub.status.idle": "2022-07-05T07:02:36.087266Z",
     "shell.execute_reply": "2022-07-05T07:02:36.086039Z"
    },
    "papermill": {
     "duration": 0.018692,
     "end_time": "2022-07-05T07:02:36.089800",
     "exception": false,
     "start_time": "2022-07-05T07:02:36.071108",
     "status": "completed"
    },
    "tags": []
   },
   "outputs": [],
   "source": [
    "# mvsa_single_text_features = np.concatenate((mvsa_single_bert, mvsa_single_pos_tfidf), axis=1)\n",
    "# mvsa_multiple_text_features = np.concatenate((mvsa_multiple_bert, mvsa_multiple_pos_tfidf), axis=1)\n",
    "\n",
    "# mvsa_single_image_features = mvsa_single_densenet201\n",
    "# mvsa_multiple_image_features = mvsa_multiple_densenet201\n",
    "\n",
    "# print('Text vector shape:', mvsa_single_text_features.shape[1:])\n",
    "# print('Image vector shape:', mvsa_single_image_features.shape[1:])"
   ]
  }
 ],
 "metadata": {
  "kernelspec": {
   "display_name": "Python 3",
   "language": "python",
   "name": "python3"
  },
  "language_info": {
   "codemirror_mode": {
    "name": "ipython",
    "version": 3
   },
   "file_extension": ".py",
   "mimetype": "text/x-python",
   "name": "python",
   "nbconvert_exporter": "python",
   "pygments_lexer": "ipython3",
   "version": "3.7.12"
  },
  "papermill": {
   "default_parameters": {},
   "duration": 343.398449,
   "end_time": "2022-07-05T07:02:39.792367",
   "environment_variables": {},
   "exception": null,
   "input_path": "__notebook__.ipynb",
   "output_path": "__notebook__.ipynb",
   "parameters": {},
   "start_time": "2022-07-05T06:56:56.393918",
   "version": "2.3.4"
  }
 },
 "nbformat": 4,
 "nbformat_minor": 5
}
