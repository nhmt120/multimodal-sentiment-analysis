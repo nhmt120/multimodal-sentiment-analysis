{
 "cells": [
  {
   "cell_type": "code",
   "execution_count": 1,
   "id": "c485a491",
   "metadata": {
    "_cell_guid": "b1076dfc-b9ad-4769-8c92-a6c4dae69d19",
    "_uuid": "8f2839f25d086af736a60e9eeb907d3b93b6e0e5",
    "execution": {
     "iopub.execute_input": "2022-07-04T17:38:05.845055Z",
     "iopub.status.busy": "2022-07-04T17:38:05.844559Z",
     "iopub.status.idle": "2022-07-04T17:38:14.117372Z",
     "shell.execute_reply": "2022-07-04T17:38:14.116413Z"
    },
    "papermill": {
     "duration": 8.285584,
     "end_time": "2022-07-04T17:38:14.119755",
     "exception": false,
     "start_time": "2022-07-04T17:38:05.834171",
     "status": "completed"
    },
    "tags": []
   },
   "outputs": [],
   "source": [
    "SEED = 61\n",
    "\n",
    "import os\n",
    "import re\n",
    "import gc\n",
    "import h5py\n",
    "import torch\n",
    "import numpy as np\n",
    "import pandas as pd\n",
    "import tensorflow as tf\n",
    "import random as python_random\n",
    "import tensorflow_addons as tfa\n",
    "import matplotlib.pyplot as plt\n",
    "\n",
    "from tqdm import tqdm\n",
    "from nltk import tokenize\n",
    "from IPython.display import display_html\n",
    "from transformers import BertTokenizer, BertForMaskedLM, BertModel\n",
    "from tensorflow.python.keras.layers import Layer, InputSpec, Lambda\n",
    "\n",
    "from sklearn import preprocessing\n",
    "from sklearn.decomposition import PCA\n",
    "from sklearn.model_selection import RepeatedKFold, KFold\n",
    "from sklearn.model_selection import cross_val_score\n",
    "from sklearn.metrics import f1_score, accuracy_score, confusion_matrix, ConfusionMatrixDisplay, classification_report\n",
    "\n",
    "from keras import backend as K\n",
    "from keras import initializers,regularizers,constraints\n",
    "from keras.preprocessing.text import Tokenizer, text_to_word_sequence\n",
    "from keras.preprocessing.sequence import pad_sequences\n",
    "from keras.utils.np_utils import to_categorical\n",
    "from keras.layers import Reshape, Input, Embedding, Flatten, Dense, Dropout, BatchNormalization, Activation #, merge\n",
    "from keras.layers import TimeDistributed, LSTM, GRU, Bidirectional, Convolution1D, MaxPooling1D, MaxPooling2D\n",
    "from keras.layers.core import RepeatVector #, Reshape\n",
    "from keras.callbacks import ModelCheckpoint, EarlyStopping, ReduceLROnPlateau\n",
    "from keras.models import Sequential, Model, load_model\n",
    "\n",
    "def reset_seeds():\n",
    "    np.random.seed(SEED) \n",
    "    python_random.seed(SEED)\n",
    "    tf.random.set_seed(SEED)\n",
    "    os.environ[\"PYTHONHASHSEED\"] = str(SEED)\n",
    "\n",
    "# from tensorflow.keras import Model\n",
    "# from attention import Attention_input1, Attention_input2\n",
    "# from keras.optimizers import SGD, RMSprop, Adagrad"
   ]
  },
  {
   "cell_type": "code",
   "execution_count": 2,
   "id": "688d5171",
   "metadata": {
    "execution": {
     "iopub.execute_input": "2022-07-04T17:38:14.138969Z",
     "iopub.status.busy": "2022-07-04T17:38:14.137757Z",
     "iopub.status.idle": "2022-07-04T17:38:14.142666Z",
     "shell.execute_reply": "2022-07-04T17:38:14.141875Z"
    },
    "papermill": {
     "duration": 0.01617,
     "end_time": "2022-07-04T17:38:14.144552",
     "exception": false,
     "start_time": "2022-07-04T17:38:14.128382",
     "status": "completed"
    },
    "tags": []
   },
   "outputs": [],
   "source": [
    "NUM_CLASSES = 3"
   ]
  },
  {
   "cell_type": "code",
   "execution_count": 3,
   "id": "b98ad0aa",
   "metadata": {
    "execution": {
     "iopub.execute_input": "2022-07-04T17:38:14.161602Z",
     "iopub.status.busy": "2022-07-04T17:38:14.161340Z",
     "iopub.status.idle": "2022-07-04T17:38:14.167742Z",
     "shell.execute_reply": "2022-07-04T17:38:14.166813Z"
    },
    "papermill": {
     "duration": 0.017256,
     "end_time": "2022-07-04T17:38:14.169686",
     "exception": false,
     "start_time": "2022-07-04T17:38:14.152430",
     "status": "completed"
    },
    "tags": []
   },
   "outputs": [],
   "source": [
    "def read_hdf5(path):\n",
    "    read_file = h5py.File(path, 'r')\n",
    "    \n",
    "    feature_names = list(read_file.keys())\n",
    "    loaded_data = []\n",
    "    \n",
    "    for name in feature_names:\n",
    "        dataset = read_file[name][:]\n",
    "        if dataset.dtype == np.dtype('object'):\n",
    "            dataset = np.array([x.decode('UTF-8') for x in dataset])            \n",
    "        loaded_data.append((name, dataset))\n",
    "\n",
    "    return loaded_data\n",
    "\n",
    "def loadz(path):\n",
    "    data = np.load(path)['arr_0']\n",
    "    return data"
   ]
  },
  {
   "cell_type": "code",
   "execution_count": 4,
   "id": "34409c61",
   "metadata": {
    "execution": {
     "iopub.execute_input": "2022-07-04T17:38:14.187141Z",
     "iopub.status.busy": "2022-07-04T17:38:14.186892Z",
     "iopub.status.idle": "2022-07-04T17:38:14.194543Z",
     "shell.execute_reply": "2022-07-04T17:38:14.193582Z"
    },
    "papermill": {
     "duration": 0.018822,
     "end_time": "2022-07-04T17:38:14.196398",
     "exception": false,
     "start_time": "2022-07-04T17:38:14.177576",
     "status": "completed"
    },
    "tags": []
   },
   "outputs": [],
   "source": [
    "def load_labels(path):\n",
    "    data = read_hdf5(path)\n",
    "\n",
    "    for x in data:\n",
    "        if x[0] == 'multimodal-labels':\n",
    "            labels = x[1]\n",
    "        if x[0] == 'text-labels':\n",
    "            text_labels = x[1]\n",
    "        if x[0] == 'image-labels':\n",
    "            image_labels = x[1]\n",
    "        \n",
    "    return labels, text_labels, image_labels\n",
    "\n",
    "def merge_mvsa(mvsa_single, mvsa_multiple):\n",
    "    mvsa = np.concatenate((mvsa_single, mvsa_multiple), axis=0)\n",
    "    return mvsa\n",
    "\n",
    "def load_mvsa_feature(feature_name, merge=False):\n",
    "    folder_path = os.path.join('../input/mvsa-features/', feature_name)\n",
    "    single_file = 'mvsa-single-{}.npz'.format(feature_name)\n",
    "    multiple_file = 'mvsa-multiple-{}.npz'.format(feature_name)\n",
    "    mvsa_single = loadz(os.path.join(folder_path, single_file))\n",
    "    mvsa_multiple = loadz(os.path.join(folder_path, multiple_file))\n",
    "    \n",
    "    if merge == True:\n",
    "        return merge_mvsa(mvsa_single, mvsa_multiple)\n",
    "    \n",
    "    return mvsa_single, mvsa_multiple"
   ]
  },
  {
   "cell_type": "code",
   "execution_count": 5,
   "id": "506c4941",
   "metadata": {
    "execution": {
     "iopub.execute_input": "2022-07-04T17:38:14.214348Z",
     "iopub.status.busy": "2022-07-04T17:38:14.212977Z",
     "iopub.status.idle": "2022-07-04T17:38:14.218698Z",
     "shell.execute_reply": "2022-07-04T17:38:14.217887Z"
    },
    "papermill": {
     "duration": 0.016354,
     "end_time": "2022-07-04T17:38:14.220596",
     "exception": false,
     "start_time": "2022-07-04T17:38:14.204242",
     "status": "completed"
    },
    "tags": []
   },
   "outputs": [],
   "source": [
    "# e.g. validation_split=0.1 -----> 8:1:1 ratio of train, val, test\n",
    "def split_data(data, validation_split):\n",
    "    num_val = int(validation_split * data.shape[0])\n",
    "    data_train = data[:-(num_val*2)]\n",
    "    data_val = data[-(num_val*2):-(num_val)]\n",
    "    data_test = data[-num_val:]\n",
    "    return data_train, data_val, data_test"
   ]
  },
  {
   "cell_type": "code",
   "execution_count": 6,
   "id": "06a91f1a",
   "metadata": {
    "execution": {
     "iopub.execute_input": "2022-07-04T17:38:14.237347Z",
     "iopub.status.busy": "2022-07-04T17:38:14.237107Z",
     "iopub.status.idle": "2022-07-04T17:38:14.246610Z",
     "shell.execute_reply": "2022-07-04T17:38:14.245767Z"
    },
    "papermill": {
     "duration": 0.020089,
     "end_time": "2022-07-04T17:38:14.248564",
     "exception": false,
     "start_time": "2022-07-04T17:38:14.228475",
     "status": "completed"
    },
    "tags": []
   },
   "outputs": [],
   "source": [
    "def weighted_average(weights, probs):\n",
    "    ''' Calculate the weighted average probability distribution from all input probs and its weights \n",
    "    weights: weights list (or array)\n",
    "    probs: probability distributions array list\n",
    "    '''\n",
    "    output_probs = []\n",
    "    weighted_probs = [probs[i] * weights[i] for i in range(len(weights))]\n",
    "    for i in range(len(probs[0])):\n",
    "        sum_prob = np.zeros(len(probs[0][0]))\n",
    "        for j in range(len(weights)):\n",
    "            sum_prob = np.sum((sum_prob, weighted_probs[j][i]), axis=0)\n",
    "        output_probs.append(sum_prob)\n",
    "    return np.asarray(output_probs, dtype='float32')\n",
    "\n",
    "def get_average_weights(*scores, inverse=False):\n",
    "    ''' Get the corresponding weight of each input score \n",
    "    inverse: (bool) get inverse weights value in case of the smaller score value, the bigger weight value (such as model loss)\n",
    "    '''\n",
    "    \n",
    "    weights = []\n",
    "    for score in scores:\n",
    "        weights.append(score/np.sum(scores))\n",
    "    \n",
    "    if inverse == True:\n",
    "        inverse_weights = []\n",
    "        inverse = [1/weight for weight in weights]\n",
    "        for inv in inverse:\n",
    "            inverse_weights.append(inv/np.sum(inverse))\n",
    "        weights = inverse_weights\n",
    "\n",
    "    return weights"
   ]
  },
  {
   "cell_type": "code",
   "execution_count": 7,
   "id": "4d91ab80",
   "metadata": {
    "execution": {
     "iopub.execute_input": "2022-07-04T17:38:14.267072Z",
     "iopub.status.busy": "2022-07-04T17:38:14.265561Z",
     "iopub.status.idle": "2022-07-04T17:38:18.589924Z",
     "shell.execute_reply": "2022-07-04T17:38:18.589032Z"
    },
    "papermill": {
     "duration": 4.335881,
     "end_time": "2022-07-04T17:38:18.592277",
     "exception": false,
     "start_time": "2022-07-04T17:38:14.256396",
     "status": "completed"
    },
    "tags": []
   },
   "outputs": [
    {
     "name": "stderr",
     "output_type": "stream",
     "text": [
      "2022-07-04 17:38:14.355448: I tensorflow/stream_executor/cuda/cuda_gpu_executor.cc:937] successful NUMA node read from SysFS had negative value (-1), but there must be at least one NUMA node, so returning NUMA node zero\n",
      "2022-07-04 17:38:14.356487: I tensorflow/stream_executor/cuda/cuda_gpu_executor.cc:937] successful NUMA node read from SysFS had negative value (-1), but there must be at least one NUMA node, so returning NUMA node zero\n",
      "2022-07-04 17:38:14.357171: I tensorflow/stream_executor/cuda/cuda_gpu_executor.cc:937] successful NUMA node read from SysFS had negative value (-1), but there must be at least one NUMA node, so returning NUMA node zero\n",
      "2022-07-04 17:38:14.358002: I tensorflow/core/platform/cpu_feature_guard.cc:142] This TensorFlow binary is optimized with oneAPI Deep Neural Network Library (oneDNN) to use the following CPU instructions in performance-critical operations:  AVX2 AVX512F FMA\n",
      "To enable them in other operations, rebuild TensorFlow with the appropriate compiler flags.\n",
      "2022-07-04 17:38:14.358300: I tensorflow/stream_executor/cuda/cuda_gpu_executor.cc:937] successful NUMA node read from SysFS had negative value (-1), but there must be at least one NUMA node, so returning NUMA node zero\n",
      "2022-07-04 17:38:14.359016: I tensorflow/stream_executor/cuda/cuda_gpu_executor.cc:937] successful NUMA node read from SysFS had negative value (-1), but there must be at least one NUMA node, so returning NUMA node zero\n",
      "2022-07-04 17:38:14.359652: I tensorflow/stream_executor/cuda/cuda_gpu_executor.cc:937] successful NUMA node read from SysFS had negative value (-1), but there must be at least one NUMA node, so returning NUMA node zero\n",
      "2022-07-04 17:38:18.265805: I tensorflow/stream_executor/cuda/cuda_gpu_executor.cc:937] successful NUMA node read from SysFS had negative value (-1), but there must be at least one NUMA node, so returning NUMA node zero\n",
      "2022-07-04 17:38:18.266755: I tensorflow/stream_executor/cuda/cuda_gpu_executor.cc:937] successful NUMA node read from SysFS had negative value (-1), but there must be at least one NUMA node, so returning NUMA node zero\n",
      "2022-07-04 17:38:18.267564: I tensorflow/stream_executor/cuda/cuda_gpu_executor.cc:937] successful NUMA node read from SysFS had negative value (-1), but there must be at least one NUMA node, so returning NUMA node zero\n",
      "2022-07-04 17:38:18.268381: I tensorflow/core/common_runtime/gpu/gpu_device.cc:1510] Created device /job:localhost/replica:0/task:0/device:GPU:0 with 15047 MB memory:  -> device: 0, name: Tesla P100-PCIE-16GB, pci bus id: 0000:00:04.0, compute capability: 6.0\n"
     ]
    }
   ],
   "source": [
    "f1_macro = tfa.metrics.F1Score(num_classes=NUM_CLASSES, average='macro', name='f1_macro')\n",
    "f1_weighted = tfa.metrics.F1Score(num_classes=NUM_CLASSES, average='weighted', name='f1_weighted')\n",
    "    \n",
    "def create_model_text(input_shape, lstm=True):\n",
    "    text_input = Input(shape=input_shape)\n",
    "    if lstm == True:\n",
    "        reshape_text = Reshape((1, -1)) (text_input)\n",
    "        lstm = LSTM(NUM_LSTM) (reshape_text)\n",
    "        outputs = Dense(NUM_CLASSES, activation='softmax') (lstm)\n",
    "    else:\n",
    "        outputs = Dense(NUM_CLASSES, activation='softmax') (text_input)\n",
    "    model = Model(text_input, outputs)\n",
    "    model.compile(optimizer='adam', loss='categorical_crossentropy', metrics=['accuracy', f1_macro, f1_weighted])\n",
    "    return model\n",
    "\n",
    "def create_model_image(input_shape):\n",
    "    image_input = Input(shape=input_shape)\n",
    "    outputs = Dense(NUM_CLASSES, activation='softmax') (image_input)\n",
    "    model = Model(image_input, outputs)\n",
    "    model.compile(optimizer='adam', loss='categorical_crossentropy', metrics=['accuracy', f1_macro, f1_weighted])\n",
    "    return model\n",
    "\n",
    "def create_model_IF(text_shape, image_shape, lstm=True):\n",
    "    image_input = Input(shape=image_shape)\n",
    "    text_input = Input(shape=text_shape)\n",
    "    if lstm == True:\n",
    "        text_reshape = Reshape((1, -1)) (text_input)\n",
    "        text_lstm = LSTM(NUM_LSTM) (text_reshape)\n",
    "#     text_lstm = Dropout(DROPOUT_RATE) (text_lstm)\n",
    "        text_image_concat = tf.keras.layers.Concatenate(axis=1)([text_lstm, image_input])\n",
    "    else:\n",
    "        text_image_concat = tf.keras.layers.Concatenate(axis=1)([text_input, image_input])\n",
    "    concat_self_attention = tf.keras.layers.Attention() ([text_image_concat, text_image_concat])\n",
    "#     concat_self_attention = Dropout(DROPOUT_RATE) (concat_self_attention)\n",
    "    outputs = Dense(NUM_CLASSES, activation='softmax') (concat_self_attention)\n",
    "    model = Model([text_input, image_input], outputs)\n",
    "    model.compile(optimizer='adam', loss='categorical_crossentropy', metrics=['accuracy', f1_macro, f1_weighted])\n",
    "    return model"
   ]
  },
  {
   "cell_type": "code",
   "execution_count": 8,
   "id": "5ed3fc50",
   "metadata": {
    "execution": {
     "iopub.execute_input": "2022-07-04T17:38:18.610610Z",
     "iopub.status.busy": "2022-07-04T17:38:18.610340Z",
     "iopub.status.idle": "2022-07-04T17:38:18.624101Z",
     "shell.execute_reply": "2022-07-04T17:38:18.623124Z"
    },
    "papermill": {
     "duration": 0.025394,
     "end_time": "2022-07-04T17:38:18.626348",
     "exception": false,
     "start_time": "2022-07-04T17:38:18.600954",
     "status": "completed"
    },
    "tags": []
   },
   "outputs": [],
   "source": [
    "def run_and_evaluate_IF(name, X1, X2, y, verbose=0, lstm=True):\n",
    "    '''  Train and test Intermediate Fusion model Multimodal Labels \n",
    "    X1: text input\n",
    "    X2: image input\n",
    "    y: multimodal labels\n",
    "    '''\n",
    "    y = le.fit_transform(y)\n",
    "    y = to_categorical(np.asarray(y))\n",
    "    \n",
    "    X1_train, X1_val, X1_test = split_data(X1, VALIDATION_SPLIT)\n",
    "    X2_train, X2_val, X2_test = split_data(X2, VALIDATION_SPLIT)\n",
    "    y_train, y_val, y_test = split_data(y, VALIDATION_SPLIT)\n",
    "    \n",
    "    if lstm == False:\n",
    "        model = create_model_IF(X1_train.shape[1:], X2_train.shape[1:], lstm=False)\n",
    "    else:\n",
    "        model = create_model_IF(X1_train.shape[1:], X2_train.shape[1:])\n",
    "    early_stopping = EarlyStopping(monitor='val_loss', min_delta=1e-4, patience=EARLY_STOPPING)\n",
    "    checkpoint = ModelCheckpoint('./model_checkpoint/{}.h5'.format(name), save_best_only=True, verbose=verbose)\n",
    "    \n",
    "    history = model.fit([X1_train, X2_train], y_train, validation_data=([X1_val, X2_val], y_val), \n",
    "                        epochs=EPOCHS, batch_size=BATCH_SIZE, verbose=verbose,\n",
    "                        callbacks=[checkpoint, early_stopping])\n",
    "    if verbose == 1:\n",
    "        best_epoch = np.argmin(history.history['val_loss'])\n",
    "        print('\\nCheckpoint loaded at epoch:', best_epoch)\n",
    "        \n",
    "    return history, evaluate_model_IF(model, X1_test, X2_test, y_test, checkpoint=name, verbose=verbose)\n",
    "\n",
    "def evaluate_model_IF(model, X_texts, X_images, y_test, checkpoint=None, verbose=1):\n",
    "    if checkpoint is not None:\n",
    "        model = load_model('./model_checkpoint/{}.h5'.format(checkpoint))\n",
    "    \n",
    "    loss, acc, f1_macro, f1_weighted = model.evaluate([X_texts, X_images], y_test, verbose=verbose)\n",
    "\n",
    "    if verbose == 1:\n",
    "        print('Loss:', loss)\n",
    "        print('Accuracy:', acc)\n",
    "        print('Macro F1-score:', f1_macro)\n",
    "        print('Weighted F1-score:', f1_weighted)\n",
    "\n",
    "        y_pred = model.predict([X_texts, X_images])\n",
    "        matrix = confusion_matrix(le.inverse_transform(y_test.argmax(axis=1)), le.inverse_transform(y_pred.argmax(axis=1)), \n",
    "                                  labels=list(le.classes_))\n",
    "        cm_disp = ConfusionMatrixDisplay(confusion_matrix=matrix,\n",
    "                                  display_labels=list(le.classes_))\n",
    "        cm_disp.plot()\n",
    "        plt.show()\n",
    "        \n",
    "    return loss, acc, f1_macro, f1_weighted"
   ]
  },
  {
   "cell_type": "code",
   "execution_count": 9,
   "id": "1300e214",
   "metadata": {
    "execution": {
     "iopub.execute_input": "2022-07-04T17:38:18.644012Z",
     "iopub.status.busy": "2022-07-04T17:38:18.643733Z",
     "iopub.status.idle": "2022-07-04T17:38:18.658304Z",
     "shell.execute_reply": "2022-07-04T17:38:18.657341Z"
    },
    "papermill": {
     "duration": 0.025851,
     "end_time": "2022-07-04T17:38:18.660560",
     "exception": false,
     "start_time": "2022-07-04T17:38:18.634709",
     "status": "completed"
    },
    "tags": []
   },
   "outputs": [],
   "source": [
    "def run_and_evaluate_LF(name, X1, X2, y, y1, y2, verbose=0, lstm=True):\n",
    "    ''' Train Late Fusion model with Original Labels of each modality and test with Multimodal Labels \n",
    "    X1: text input\n",
    "    X2: image input\n",
    "    y: multimodal labels\n",
    "    y1: text labels\n",
    "    y2: image labels\n",
    "    verbose: 0 or 1 to print tracking on progress\n",
    "    '''\n",
    "    y = le.fit_transform(y)\n",
    "    y = to_categorical(np.asarray(y))\n",
    "    \n",
    "    y1 = le.fit_transform(y1)\n",
    "    y1 = to_categorical(np.asarray(y1))\n",
    "    \n",
    "    y2 = le.fit_transform(y2)\n",
    "    y2 = to_categorical(np.asarray(y2))\n",
    "\n",
    "    X1_train, X1_val, X1_test = split_data(X1, VALIDATION_SPLIT)\n",
    "    X2_train, X2_val, X2_test = split_data(X2, VALIDATION_SPLIT)\n",
    "    y_train, y_val, y_test = split_data(y, VALIDATION_SPLIT)\n",
    "    y1_train, y1_val, y1_test = split_data(y1, VALIDATION_SPLIT)\n",
    "    y2_train, y2_val, y2_test = split_data(y2, VALIDATION_SPLIT)\n",
    "\n",
    "    if lstm == False:\n",
    "        model_text = create_model_text(X1_train.shape[1:], lstm=False)\n",
    "    else:\n",
    "        model_text = create_model_text(X1_train.shape[1:])\n",
    "    model_image = create_model_image(X2_train.shape[1:])\n",
    "\n",
    "    early_stopping1 = EarlyStopping(monitor='val_loss', min_delta=1e-4, patience=EARLY_STOPPING)\n",
    "    early_stopping2 = EarlyStopping(monitor='val_loss', min_delta=1e-4, patience=EARLY_STOPPING)\n",
    "    checkpoint_text = ModelCheckpoint('./model_checkpoint/{}-text.h5'.format(name), save_best_only=True, verbose=verbose)\n",
    "    checkpoint_image = ModelCheckpoint('./model_checkpoint/{}-image.h5'.format(name), save_best_only=True, verbose=verbose)\n",
    "    \n",
    "    history_text = model_text.fit(X1_train, y1_train, validation_data=(X1_val, y1_val), \n",
    "                                  epochs=EPOCHS, batch_size=BATCH_SIZE, verbose=verbose,\n",
    "                                  callbacks=[checkpoint_text, early_stopping1])\n",
    "    \n",
    "    history_image = model_image.fit(X2_train, y2_train, validation_data=(X2_val, y2_val), \n",
    "                                    epochs=EPOCHS, batch_size=BATCH_SIZE, verbose=verbose,\n",
    "                                    callbacks=[checkpoint_image, early_stopping2])\n",
    "    \n",
    "    best_val_loss_text = np.min(history_text.history['val_loss'])\n",
    "    best_val_loss_image = np.min(history_image.history['val_loss'])\n",
    "\n",
    "    weights = get_average_weights(best_val_loss_text, best_val_loss_image, inverse=True)\n",
    "\n",
    "    model_text = load_model('./model_checkpoint/{}-text.h5'.format(name))\n",
    "    model_image = load_model('./model_checkpoint/{}-image.h5'.format(name))\n",
    "\n",
    "    y_pred_text = model_text.predict(X1_test)\n",
    "    y_pred_image = model_image.predict(X2_test)\n",
    "\n",
    "    y_pred = weighted_average(weights, np.asarray([y_pred_text, y_pred_image], dtype='float32'))\n",
    "\n",
    "    best_epoch_text = np.argmin(history_text.history['val_loss'])\n",
    "    best_epoch_image = np.argmin(history_image.history['val_loss'])\n",
    "\n",
    "    if verbose == 1:\n",
    "        print('Checkpoint of text model loaded at epoch:', best_epoch_text)\n",
    "        print('Checkpoint of image model loaded at epoch:', best_epoch_image)\n",
    "\n",
    "    return evaluate_model_LF(y_test, y_pred, verbose=verbose)"
   ]
  },
  {
   "cell_type": "code",
   "execution_count": 10,
   "id": "6daf6b77",
   "metadata": {
    "execution": {
     "iopub.execute_input": "2022-07-04T17:38:18.677721Z",
     "iopub.status.busy": "2022-07-04T17:38:18.677468Z",
     "iopub.status.idle": "2022-07-04T17:38:18.697354Z",
     "shell.execute_reply": "2022-07-04T17:38:18.696556Z"
    },
    "papermill": {
     "duration": 0.030662,
     "end_time": "2022-07-04T17:38:18.699218",
     "exception": false,
     "start_time": "2022-07-04T17:38:18.668556",
     "status": "completed"
    },
    "tags": []
   },
   "outputs": [],
   "source": [
    "def run_and_evaluate_HF(name, X1, X2, y, y1, y2, verbose=0, lstm=True):\n",
    "    ''' Train Hybrid Fusion model with Original Labels of each modality and test with Multimodal Labels \n",
    "    X1: text input\n",
    "    X2: image input\n",
    "    y: multimodal labels\n",
    "    y1: text labels\n",
    "    y2: image labels\n",
    "    lstm: (bool) create text model with LSTM layer or not\n",
    "    verbose: 0 or 1 to print tracking on progress\n",
    "    '''\n",
    "    y = le.fit_transform(y)\n",
    "    y = to_categorical(np.asarray(y))\n",
    "    \n",
    "    y1 = le.fit_transform(y1)\n",
    "    y1 = to_categorical(np.asarray(y1))\n",
    "    \n",
    "    y2 = le.fit_transform(y2)\n",
    "    y2 = to_categorical(np.asarray(y2))\n",
    "    \n",
    "    X1_train, X1_val, X1_test = split_data(X1, VALIDATION_SPLIT)\n",
    "    X2_train, X2_val, X2_test = split_data(X2, VALIDATION_SPLIT)\n",
    "    y_train, y_val, y_test = split_data(y, VALIDATION_SPLIT)\n",
    "    y1_train, y1_val, y1_test = split_data(y1, VALIDATION_SPLIT)\n",
    "    y2_train, y2_val, y2_test = split_data(y2, VALIDATION_SPLIT)\n",
    "\n",
    "    model_image = create_model_image(X2_train.shape[1:])\n",
    "    if lstm == False:\n",
    "        model_text = create_model_text(X1_train.shape[1:], lstm=False)\n",
    "        model_IF = create_model_IF(X1_train.shape[1:], X2_train.shape[1:], lstm=False)\n",
    "    model_text = create_model_text(X1_train.shape[1:])\n",
    "    model_IF = create_model_IF(X1_train.shape[1:], X2_train.shape[1:])\n",
    "    \n",
    "    early_stopping1 = EarlyStopping(monitor='val_loss', min_delta=1e-4, patience=EARLY_STOPPING)\n",
    "    early_stopping2 = EarlyStopping(monitor='val_loss', min_delta=1e-4, patience=EARLY_STOPPING)\n",
    "    early_stopping3 = EarlyStopping(monitor='val_loss', min_delta=1e-4, patience=EARLY_STOPPING)\n",
    "\n",
    "    checkpoint_text = ModelCheckpoint('./model_checkpoint/{}-text.h5'.format(name), save_best_only=True, verbose=verbose)\n",
    "    checkpoint_image = ModelCheckpoint('./model_checkpoint/{}-image.h5'.format(name), save_best_only=True, verbose=verbose)\n",
    "    checkpoint_IF = ModelCheckpoint('./model_checkpoint/{}-IF.h5'.format(name), save_best_only=True, verbose=verbose)\n",
    "\n",
    "    history_text = model_text.fit(X1_train, y1_train, validation_data=(X1_val, y1_val), \n",
    "                                  epochs=EPOCHS, batch_size=BATCH_SIZE, verbose=verbose,\n",
    "                                  callbacks=[checkpoint_text, early_stopping1])\n",
    "    \n",
    "    history_image = model_image.fit(X2_train, y2_train, validation_data=(X2_val, y2_val), \n",
    "                                    epochs=EPOCHS, batch_size=BATCH_SIZE, verbose=verbose,\n",
    "                                    callbacks=[checkpoint_image, early_stopping2])\n",
    "    \n",
    "    history_IF = model_IF.fit([X1_train, X2_train], y_train, validation_data=([X1_val, X2_val], y_val), \n",
    "                              epochs=EPOCHS, batch_size=BATCH_SIZE, verbose=verbose,\n",
    "                              callbacks=[checkpoint_IF, early_stopping3])\n",
    "    \n",
    "    best_val_loss_text = np.min(history_text.history['val_loss'])\n",
    "    best_val_loss_image = np.min(history_image.history['val_loss'])\n",
    "    best_val_loss_IF = np.min(history_IF.history['val_loss'])\n",
    "    \n",
    "    weights = get_average_weights(best_val_loss_text, best_val_loss_image, best_val_loss_IF,\n",
    "                                  inverse=True)\n",
    "\n",
    "    model_text = load_model('./model_checkpoint/{}-text.h5'.format(name))\n",
    "    model_image = load_model('./model_checkpoint/{}-image.h5'.format(name))\n",
    "    model_IF = load_model('./model_checkpoint/{}-IF.h5'.format(name))\n",
    "\n",
    "    y_pred_text = model_text.predict(X1_test)\n",
    "    y_pred_image = model_image.predict(X2_test)\n",
    "    y_pred_IF = model_IF.predict([X1_test, X2_test])\n",
    "\n",
    "    y_pred = weighted_average(weights, np.asarray([y_pred_text, y_pred_image, y_pred_IF], dtype='float32'))\n",
    "    \n",
    "    best_epoch_text = np.argmin(history_text.history['val_loss'])\n",
    "    best_epoch_image = np.argmin(history_image.history['val_loss'])\n",
    "    best_epoch_IF = np.argmin(history_IF.history['val_loss'])\n",
    "\n",
    "    if verbose == 1:\n",
    "        print('Checkpoint of text model loaded at epoch:', best_epoch_text)\n",
    "        print('Checkpoint of image model loaded at epoch:', best_epoch_image)\n",
    "        print('Checkpoint of IF model loaded at epoch:', best_epoch_IF)\n",
    "\n",
    "    return evaluate_model_LF(y_test, y_pred, verbose=verbose)"
   ]
  },
  {
   "cell_type": "code",
   "execution_count": 11,
   "id": "e7ed9260",
   "metadata": {
    "execution": {
     "iopub.execute_input": "2022-07-04T17:38:18.718580Z",
     "iopub.status.busy": "2022-07-04T17:38:18.717131Z",
     "iopub.status.idle": "2022-07-04T17:38:18.724527Z",
     "shell.execute_reply": "2022-07-04T17:38:18.723662Z"
    },
    "papermill": {
     "duration": 0.018297,
     "end_time": "2022-07-04T17:38:18.726467",
     "exception": false,
     "start_time": "2022-07-04T17:38:18.708170",
     "status": "completed"
    },
    "tags": []
   },
   "outputs": [],
   "source": [
    "def evaluate_model_LF(y_true, y_pred, verbose=0):\n",
    "    \n",
    "    y_pred = le.inverse_transform(y_pred.argmax(axis=1))\n",
    "    y_true = le.inverse_transform(y_true.argmax(axis=1))\n",
    "\n",
    "    acc = accuracy_score(y_true, y_pred)\n",
    "    f1_macro = f1_score(y_true, y_pred, average='macro')\n",
    "    f1_weighted = f1_score(y_true, y_pred, average='weighted')\n",
    "\n",
    "    if verbose == 1:\n",
    "        print(classification_report(y_true, y_pred))\n",
    "        matrix = confusion_matrix(y_true, y_pred,\n",
    "                                  labels=list(le.classes_))\n",
    "        cm_disp = ConfusionMatrixDisplay(confusion_matrix=matrix,\n",
    "                                  display_labels=list(le.classes_))\n",
    "        cm_disp.plot()\n",
    "        plt.show()\n",
    "\n",
    "    return acc, f1_macro, f1_weighted"
   ]
  },
  {
   "cell_type": "code",
   "execution_count": 12,
   "id": "aec9209f",
   "metadata": {
    "execution": {
     "iopub.execute_input": "2022-07-04T17:38:18.743509Z",
     "iopub.status.busy": "2022-07-04T17:38:18.743272Z",
     "iopub.status.idle": "2022-07-04T17:38:18.753054Z",
     "shell.execute_reply": "2022-07-04T17:38:18.752140Z"
    },
    "papermill": {
     "duration": 0.020429,
     "end_time": "2022-07-04T17:38:18.754902",
     "exception": false,
     "start_time": "2022-07-04T17:38:18.734473",
     "status": "completed"
    },
    "tags": []
   },
   "outputs": [],
   "source": [
    "def plot_metrics(history):\n",
    "    fig = plt.figure(figsize=(20, 5))\n",
    "\n",
    "    fig.add_subplot(1, 4, 1)\n",
    "    plt.plot(history.history['loss'])\n",
    "    plt.plot(history.history['val_loss'])\n",
    "    plt.title('LOSS')\n",
    "    plt.ylabel('loss')\n",
    "    plt.xlabel('epoch')\n",
    "    plt.legend(['train', 'val'], loc='best')\n",
    "\n",
    "    fig.add_subplot(1, 4, 2)\n",
    "    plt.plot(history.history['accuracy'])\n",
    "    plt.plot(history.history['val_accuracy'])\n",
    "    plt.title('ACCURACY')\n",
    "    plt.ylabel('accuracy')\n",
    "    plt.xlabel('epoch')\n",
    "    plt.legend(['train', 'val'], loc='best')\n",
    "\n",
    "    fig.add_subplot(1, 4, 3)\n",
    "    plt.plot(history.history['f1_macro'])\n",
    "    plt.plot(history.history['val_f1_macro'])\n",
    "    plt.title('Macro F1-SCORE')\n",
    "    plt.ylabel('f1-macro')\n",
    "    plt.xlabel('epoch')\n",
    "    plt.legend(['train', 'val'], loc='best')\n",
    "    \n",
    "    fig.add_subplot(1, 4, 4)\n",
    "    plt.plot(history.history['f1_weighted'])\n",
    "    plt.plot(history.history['val_f1_weighted'])\n",
    "    plt.title('Weighted F1-SCORE')\n",
    "    plt.ylabel('f1-weighted')\n",
    "    plt.xlabel('epoch')\n",
    "    plt.legend(['train', 'val'], loc='best')\n",
    "\n",
    "    plt.show()"
   ]
  },
  {
   "cell_type": "code",
   "execution_count": 13,
   "id": "979c6d58",
   "metadata": {
    "execution": {
     "iopub.execute_input": "2022-07-04T17:38:18.773269Z",
     "iopub.status.busy": "2022-07-04T17:38:18.771895Z",
     "iopub.status.idle": "2022-07-04T17:38:18.781025Z",
     "shell.execute_reply": "2022-07-04T17:38:18.780204Z"
    },
    "papermill": {
     "duration": 0.019973,
     "end_time": "2022-07-04T17:38:18.782925",
     "exception": false,
     "start_time": "2022-07-04T17:38:18.762952",
     "status": "completed"
    },
    "tags": []
   },
   "outputs": [],
   "source": [
    "def style_dataframe(dataframe):\n",
    "    return dataframe.style.highlight_max(subset=['Accuracy', 'F1-macro', 'F1-weighted'], props='color:lawngreen', axis=0)\\\n",
    "                          .highlight_min(subset=['Accuracy', 'F1-macro', 'F1-weighted'], props='color:tomato', axis=0)\n",
    "\n",
    "def display_dataframes(dfs, names=[], index=False):\n",
    "    def to_df(x):\n",
    "        if isinstance(x, pd.Series):\n",
    "            return pd.DataFrame(x)\n",
    "        else:\n",
    "            return x\n",
    "    html_str = ''\n",
    "    if names:\n",
    "        html_str += ('<tr>' + \n",
    "                     ''.join(f'<td style=\"text-align:center\">{name}</td>' for name in names) + \n",
    "                     '</tr>')\n",
    "    html_str += ('<tr>' + \n",
    "                 ''.join(f'<td style=\"vertical-align:top\"> {to_df(df).to_html()}</td>' \n",
    "                         for df in dfs) + \n",
    "                 '</tr>')\n",
    "    html_str = f'<table>{html_str}</table>'\n",
    "    html_str = html_str.replace('table','table style=\"display:inline\"')\n",
    "    display_html(html_str, raw=True)"
   ]
  },
  {
   "cell_type": "markdown",
   "id": "2f83e4db",
   "metadata": {
    "papermill": {
     "duration": 0.00809,
     "end_time": "2022-07-04T17:38:18.798902",
     "exception": false,
     "start_time": "2022-07-04T17:38:18.790812",
     "status": "completed"
    },
    "tags": []
   },
   "source": [
    "# Load data"
   ]
  },
  {
   "cell_type": "code",
   "execution_count": 14,
   "id": "ed17a3fc",
   "metadata": {
    "execution": {
     "iopub.execute_input": "2022-07-04T17:38:18.816113Z",
     "iopub.status.busy": "2022-07-04T17:38:18.815499Z",
     "iopub.status.idle": "2022-07-04T17:38:33.627391Z",
     "shell.execute_reply": "2022-07-04T17:38:33.626398Z"
    },
    "papermill": {
     "duration": 14.822942,
     "end_time": "2022-07-04T17:38:33.629759",
     "exception": false,
     "start_time": "2022-07-04T17:38:18.806817",
     "status": "completed"
    },
    "tags": []
   },
   "outputs": [],
   "source": [
    "## Choose best\n",
    "# Load text feature\n",
    "mvsa_single_bert, mvsa_multiple_bert = load_mvsa_feature('bert-base')\n",
    "mvsa_single_pos_bow, mvsa_multiple_pos_bow = load_mvsa_feature('pos-bow')\n",
    "mvsa_single_pos_tfidf, mvsa_multiple_pos_tfidf = load_mvsa_feature('pos-tfidf')\n",
    "mvsa_single_ner_bow, mvsa_multiple_ner_bow = load_mvsa_feature('ner-bow')\n",
    "mvsa_single_ner_tfidf, mvsa_multiple_ner_tfidf = load_mvsa_feature('ner-tfidf')\n",
    "\n",
    "## Load image feature\n",
    "mvsa_single_vgg16, mvsa_multiple_vgg16 = load_mvsa_feature('vgg16')\n",
    "mvsa_single_vgg19, mvsa_multiple_vgg19 = load_mvsa_feature('vgg19')\n",
    "mvsa_single_resnet50, mvsa_multiple_resnet50 = load_mvsa_feature('resnet50')\n",
    "mvsa_single_resnet101, mvsa_multiple_resnet101 = load_mvsa_feature('resnet101')\n",
    "mvsa_single_resnet152, mvsa_multiple_resnet152 = load_mvsa_feature('resnet152')\n",
    "mvsa_single_densenet121, mvsa_multiple_densenet121 = load_mvsa_feature('densenet121')\n",
    "mvsa_single_densenet169, mvsa_multiple_densenet169 = load_mvsa_feature('densenet169')\n",
    "mvsa_single_densenet201, mvsa_multiple_densenet201 = load_mvsa_feature('densenet201')"
   ]
  },
  {
   "cell_type": "code",
   "execution_count": 15,
   "id": "4cf0d5e0",
   "metadata": {
    "execution": {
     "iopub.execute_input": "2022-07-04T17:38:33.647433Z",
     "iopub.status.busy": "2022-07-04T17:38:33.647096Z",
     "iopub.status.idle": "2022-07-04T17:38:33.731084Z",
     "shell.execute_reply": "2022-07-04T17:38:33.730097Z"
    },
    "papermill": {
     "duration": 0.095431,
     "end_time": "2022-07-04T17:38:33.733557",
     "exception": false,
     "start_time": "2022-07-04T17:38:33.638126",
     "status": "completed"
    },
    "tags": []
   },
   "outputs": [],
   "source": [
    "mvsa_single_bert_pos = np.concatenate((mvsa_single_bert, mvsa_single_pos_tfidf), axis=1)\n",
    "mvsa_single_bert_pos_ner = np.concatenate((mvsa_single_bert, mvsa_single_pos_tfidf, mvsa_single_ner_tfidf), axis=1)\n",
    "\n",
    "mvsa_multiple_bert_pos = np.concatenate((mvsa_multiple_bert, mvsa_multiple_pos_tfidf), axis=1)\n",
    "mvsa_multiple_bert_pos_ner = np.concatenate((mvsa_multiple_bert, mvsa_multiple_pos_tfidf, mvsa_multiple_ner_tfidf), axis=1)"
   ]
  },
  {
   "cell_type": "code",
   "execution_count": 16,
   "id": "0bffa417",
   "metadata": {
    "execution": {
     "iopub.execute_input": "2022-07-04T17:38:33.751231Z",
     "iopub.status.busy": "2022-07-04T17:38:33.750930Z",
     "iopub.status.idle": "2022-07-04T17:38:33.880216Z",
     "shell.execute_reply": "2022-07-04T17:38:33.879335Z"
    },
    "papermill": {
     "duration": 0.140312,
     "end_time": "2022-07-04T17:38:33.882158",
     "exception": false,
     "start_time": "2022-07-04T17:38:33.741846",
     "status": "completed"
    },
    "tags": []
   },
   "outputs": [],
   "source": [
    "mvsa_single_multimodal_labels, mvsa_single_text_labels, mvsa_single_image_labels = load_labels('../input/mvsa-features/labels/mvsa-single-labels.hdf5')\n",
    "mvsa_multiple_multimodal_labels, mvsa_multiple_text_labels, mvsa_multiple_image_labels = load_labels('../input/mvsa-features/labels/mvsa-multiple-labels.hdf5')"
   ]
  },
  {
   "cell_type": "code",
   "execution_count": null,
   "id": "61ea65f9",
   "metadata": {
    "execution": {
     "iopub.execute_input": "2022-07-04T17:17:56.352697Z",
     "iopub.status.busy": "2022-07-04T17:17:56.351758Z",
     "iopub.status.idle": "2022-07-04T17:17:56.357894Z",
     "shell.execute_reply": "2022-07-04T17:17:56.356611Z",
     "shell.execute_reply.started": "2022-07-04T17:17:56.352658Z"
    },
    "papermill": {
     "duration": 0.007771,
     "end_time": "2022-07-04T17:38:33.898110",
     "exception": false,
     "start_time": "2022-07-04T17:38:33.890339",
     "status": "completed"
    },
    "tags": []
   },
   "outputs": [],
   "source": []
  },
  {
   "cell_type": "code",
   "execution_count": 17,
   "id": "341a2f2c",
   "metadata": {
    "execution": {
     "iopub.execute_input": "2022-07-04T17:38:33.915345Z",
     "iopub.status.busy": "2022-07-04T17:38:33.915078Z",
     "iopub.status.idle": "2022-07-04T17:38:33.920572Z",
     "shell.execute_reply": "2022-07-04T17:38:33.919699Z"
    },
    "papermill": {
     "duration": 0.016521,
     "end_time": "2022-07-04T17:38:33.922559",
     "exception": false,
     "start_time": "2022-07-04T17:38:33.906038",
     "status": "completed"
    },
    "tags": []
   },
   "outputs": [],
   "source": [
    "# prepare all features data\n",
    "\n",
    "feature_names = ['resnet152-bert', 'resnet152-bert-lstm', 'densenet201-bert-pos-lstm', 'densenet201-bert-pos-ner-lstm']\n",
    "\n",
    "mvsa_single_features = [[mvsa_single_bert, mvsa_single_resnet152],\n",
    "                        [mvsa_single_bert, mvsa_single_resnet152],\n",
    "                        [mvsa_single_bert_pos, mvsa_single_densenet201],\n",
    "                        [mvsa_single_bert_pos_ner, mvsa_single_densenet201]]\n",
    "\n",
    "mvsa_multiple_features = [[mvsa_multiple_bert, mvsa_multiple_resnet152],\n",
    "                          [mvsa_multiple_bert, mvsa_multiple_resnet152],\n",
    "                          [mvsa_multiple_bert_pos, mvsa_multiple_densenet201],\n",
    "                          [mvsa_multiple_bert_pos_ner, mvsa_multiple_densenet201]]"
   ]
  },
  {
   "cell_type": "code",
   "execution_count": 18,
   "id": "a5f439ba",
   "metadata": {
    "execution": {
     "iopub.execute_input": "2022-07-04T17:38:33.939407Z",
     "iopub.status.busy": "2022-07-04T17:38:33.939163Z",
     "iopub.status.idle": "2022-07-04T17:38:33.945037Z",
     "shell.execute_reply": "2022-07-04T17:38:33.944220Z"
    },
    "papermill": {
     "duration": 0.016547,
     "end_time": "2022-07-04T17:38:33.946945",
     "exception": false,
     "start_time": "2022-07-04T17:38:33.930398",
     "status": "completed"
    },
    "tags": []
   },
   "outputs": [],
   "source": [
    "le = preprocessing.LabelEncoder()\n",
    "le.fit(mvsa_single_multimodal_labels)\n",
    "NUM_CLASSES = len(le.classes_) # = 3"
   ]
  },
  {
   "cell_type": "code",
   "execution_count": 19,
   "id": "de63e38c",
   "metadata": {
    "execution": {
     "iopub.execute_input": "2022-07-04T17:38:33.964589Z",
     "iopub.status.busy": "2022-07-04T17:38:33.963878Z",
     "iopub.status.idle": "2022-07-04T17:38:33.968747Z",
     "shell.execute_reply": "2022-07-04T17:38:33.967892Z"
    },
    "papermill": {
     "duration": 0.01532,
     "end_time": "2022-07-04T17:38:33.970602",
     "exception": false,
     "start_time": "2022-07-04T17:38:33.955282",
     "status": "completed"
    },
    "tags": []
   },
   "outputs": [],
   "source": [
    "reset_seeds()\n",
    "EPOCHS = 100\n",
    "BATCH_SIZE = 128\n",
    "VALIDATION_SPLIT = 0.1\n",
    "EARLY_STOPPING = 10\n",
    "NUM_LSTM = 128\n",
    "DROPOUT_RATE = 0.1"
   ]
  },
  {
   "cell_type": "markdown",
   "id": "65e83095",
   "metadata": {
    "papermill": {
     "duration": 0.007732,
     "end_time": "2022-07-04T17:38:33.986133",
     "exception": false,
     "start_time": "2022-07-04T17:38:33.978401",
     "status": "completed"
    },
    "tags": []
   },
   "source": [
    "# Intermediate Fusion"
   ]
  },
  {
   "cell_type": "code",
   "execution_count": 20,
   "id": "e989d993",
   "metadata": {
    "execution": {
     "iopub.execute_input": "2022-07-04T17:38:34.003210Z",
     "iopub.status.busy": "2022-07-04T17:38:34.002958Z",
     "iopub.status.idle": "2022-07-04T17:38:59.388922Z",
     "shell.execute_reply": "2022-07-04T17:38:59.386899Z"
    },
    "papermill": {
     "duration": 25.397149,
     "end_time": "2022-07-04T17:38:59.391141",
     "exception": false,
     "start_time": "2022-07-04T17:38:33.993992",
     "status": "completed"
    },
    "tags": []
   },
   "outputs": [
    {
     "name": "stdout",
     "output_type": "stream",
     "text": [
      "MVSA-Single with Intermediate Fusion\n",
      "\n",
      "MVSA-Single: resnet152-bert\n"
     ]
    },
    {
     "name": "stderr",
     "output_type": "stream",
     "text": [
      "2022-07-04 17:38:34.182713: I tensorflow/compiler/mlir/mlir_graph_optimization_pass.cc:185] None of the MLIR Optimization Passes are enabled (registered 2)\n"
     ]
    },
    {
     "name": "stdout",
     "output_type": "stream",
     "text": [
      "\n",
      "MVSA-Single: resnet152-bert-lstm\n"
     ]
    },
    {
     "name": "stderr",
     "output_type": "stream",
     "text": [
      "2022-07-04 17:38:40.886503: I tensorflow/stream_executor/cuda/cuda_dnn.cc:369] Loaded cuDNN version 8005\n"
     ]
    },
    {
     "name": "stdout",
     "output_type": "stream",
     "text": [
      "\n",
      "MVSA-Single: densenet201-bert-pos-lstm\n",
      "\n",
      "MVSA-Single: densenet201-bert-pos-ner-lstm\n",
      "\n"
     ]
    }
   ],
   "source": [
    "print('MVSA-Single with Intermediate Fusion\\n')\n",
    "scores = []\n",
    "\n",
    "for i in range(len(feature_names)):\n",
    "    print('MVSA-Single:', feature_names[i])\n",
    "    if 'lstm' in feature_names[i]:\n",
    "        _, score = run_and_evaluate_IF('single-IF-' + feature_names[i], mvsa_single_features[i][0], mvsa_single_features[i][1], \n",
    "                                     mvsa_single_multimodal_labels,\n",
    "                                     verbose=0)\n",
    "    else:\n",
    "        _, score = run_and_evaluate_IF('single-IF-' + feature_names[i], mvsa_single_features[i][0], mvsa_single_features[i][1],\n",
    "                                     mvsa_single_multimodal_labels,\n",
    "                                     verbose=0, lstm=False)\n",
    "    scores.append(score)\n",
    "    print()\n",
    "\n",
    "df_single_scores_IF = pd.DataFrame(scores, columns=['Loss', 'Accuracy', 'F1-macro', 'F1-weighted'], index=feature_names)"
   ]
  },
  {
   "cell_type": "code",
   "execution_count": 21,
   "id": "2b703365",
   "metadata": {
    "execution": {
     "iopub.execute_input": "2022-07-04T17:38:59.411081Z",
     "iopub.status.busy": "2022-07-04T17:38:59.409993Z",
     "iopub.status.idle": "2022-07-04T17:40:00.610591Z",
     "shell.execute_reply": "2022-07-04T17:40:00.609389Z"
    },
    "papermill": {
     "duration": 61.212487,
     "end_time": "2022-07-04T17:40:00.613032",
     "exception": false,
     "start_time": "2022-07-04T17:38:59.400545",
     "status": "completed"
    },
    "tags": []
   },
   "outputs": [
    {
     "name": "stdout",
     "output_type": "stream",
     "text": [
      "MVSA-Multiple with Intermediate Fusion\n",
      "\n",
      "MVSA-Multiple: resnet152-bert\n",
      "\n",
      "MVSA-Multiple: resnet152-bert-lstm\n",
      "\n",
      "MVSA-Multiple: densenet201-bert-pos-lstm\n",
      "\n",
      "MVSA-Multiple: densenet201-bert-pos-ner-lstm\n",
      "\n"
     ]
    }
   ],
   "source": [
    "print('MVSA-Multiple with Intermediate Fusion\\n')\n",
    "scores = []\n",
    "\n",
    "for i in range(len(feature_names)):\n",
    "    print('MVSA-Multiple:', feature_names[i])\n",
    "    if 'lstm' in feature_names[i]:\n",
    "        _, score = run_and_evaluate_IF('multiple-IF-' + feature_names[i], mvsa_multiple_features[i][0], mvsa_multiple_features[i][1], \n",
    "                                     mvsa_multiple_multimodal_labels,\n",
    "                                     verbose=0)\n",
    "    else:\n",
    "        _, score = run_and_evaluate_IF('multiple-IF-' + feature_names[i], mvsa_multiple_features[i][0], mvsa_multiple_features[i][1],\n",
    "                                     mvsa_multiple_multimodal_labels,\n",
    "                                     verbose=0, lstm=False)\n",
    "    scores.append(score)\n",
    "    print()\n",
    "\n",
    "df_multiple_scores_IF = pd.DataFrame(scores, columns=['Loss', 'Accuracy', 'F1-macro', 'F1-weighted'], index=feature_names)"
   ]
  },
  {
   "cell_type": "markdown",
   "id": "27e5fec9",
   "metadata": {
    "papermill": {
     "duration": 0.009496,
     "end_time": "2022-07-04T17:40:00.632098",
     "exception": false,
     "start_time": "2022-07-04T17:40:00.622602",
     "status": "completed"
    },
    "tags": []
   },
   "source": [
    "# Late Fusion"
   ]
  },
  {
   "cell_type": "code",
   "execution_count": 22,
   "id": "cb2d73dd",
   "metadata": {
    "execution": {
     "iopub.execute_input": "2022-07-04T17:40:00.652737Z",
     "iopub.status.busy": "2022-07-04T17:40:00.651849Z",
     "iopub.status.idle": "2022-07-04T17:40:39.099542Z",
     "shell.execute_reply": "2022-07-04T17:40:39.097542Z"
    },
    "papermill": {
     "duration": 38.460301,
     "end_time": "2022-07-04T17:40:39.101702",
     "exception": false,
     "start_time": "2022-07-04T17:40:00.641401",
     "status": "completed"
    },
    "tags": []
   },
   "outputs": [
    {
     "name": "stdout",
     "output_type": "stream",
     "text": [
      "MVSA-Single with Late Fusion\n",
      "\n",
      "MVSA-Single: resnet152-bert\n",
      "\n",
      "MVSA-Single: resnet152-bert-lstm\n",
      "\n",
      "MVSA-Single: densenet201-bert-pos-lstm\n",
      "\n",
      "MVSA-Single: densenet201-bert-pos-ner-lstm\n",
      "\n"
     ]
    }
   ],
   "source": [
    "print('MVSA-Single with Late Fusion\\n')\n",
    "scores = []\n",
    "\n",
    "for i in range(len(feature_names)):\n",
    "    print('MVSA-Single:', feature_names[i])\n",
    "    if 'lstm' in feature_names[i]:\n",
    "        score = run_and_evaluate_LF('single-LF-' + feature_names[i], mvsa_single_features[i][0], mvsa_single_features[i][1], \n",
    "                                     mvsa_single_multimodal_labels, mvsa_single_text_labels, mvsa_single_image_labels,\n",
    "                                     verbose=0)\n",
    "    else:\n",
    "        score = run_and_evaluate_LF('single-LF-' + feature_names[i], mvsa_single_features[i][0], mvsa_single_features[i][1],\n",
    "                                     mvsa_single_multimodal_labels, mvsa_single_text_labels, mvsa_single_image_labels,\n",
    "                                     verbose=0, lstm=False)\n",
    "    scores.append(score)\n",
    "    print()\n",
    "\n",
    "df_single_scores_LF = pd.DataFrame(scores, columns=['Accuracy', 'F1-macro', 'F1-weighted'], index=feature_names)"
   ]
  },
  {
   "cell_type": "code",
   "execution_count": 23,
   "id": "032b26b0",
   "metadata": {
    "execution": {
     "iopub.execute_input": "2022-07-04T17:40:39.121527Z",
     "iopub.status.busy": "2022-07-04T17:40:39.120799Z",
     "iopub.status.idle": "2022-07-04T17:41:56.087466Z",
     "shell.execute_reply": "2022-07-04T17:41:56.084652Z"
    },
    "papermill": {
     "duration": 76.986546,
     "end_time": "2022-07-04T17:41:56.097546",
     "exception": false,
     "start_time": "2022-07-04T17:40:39.111000",
     "status": "completed"
    },
    "tags": []
   },
   "outputs": [
    {
     "name": "stdout",
     "output_type": "stream",
     "text": [
      "MVSA-Multiple with Late Fusion\n",
      "\n",
      "MVSA-Multiple: resnet152-bert\n",
      "\n",
      "MVSA-Multiple: resnet152-bert-lstm\n",
      "\n",
      "MVSA-Multiple: densenet201-bert-pos-lstm\n",
      "\n",
      "MVSA-Multiple: densenet201-bert-pos-ner-lstm\n",
      "\n"
     ]
    }
   ],
   "source": [
    "print('MVSA-Multiple with Late Fusion\\n')\n",
    "scores = []\n",
    "\n",
    "for i in range(len(feature_names)):\n",
    "    print('MVSA-Multiple:', feature_names[i])\n",
    "    if 'lstm' in feature_names[i]:\n",
    "        score = run_and_evaluate_LF('multiple-LF-' + feature_names[i], mvsa_multiple_features[i][0], mvsa_multiple_features[i][1], \n",
    "                                     mvsa_multiple_multimodal_labels, mvsa_multiple_text_labels, mvsa_multiple_image_labels,\n",
    "                                     verbose=0)\n",
    "    else:\n",
    "        score = run_and_evaluate_LF('multiple-LF-' + feature_names[i], mvsa_multiple_features[i][0], mvsa_multiple_features[i][1],\n",
    "                                     mvsa_multiple_multimodal_labels, mvsa_multiple_text_labels, mvsa_multiple_image_labels,\n",
    "                                     verbose=0, lstm=False)\n",
    "    scores.append(score)\n",
    "    print()\n",
    "\n",
    "df_multiple_scores_LF = pd.DataFrame(scores, columns=['Accuracy', 'F1-macro', 'F1-weighted'], index=feature_names)"
   ]
  },
  {
   "cell_type": "markdown",
   "id": "add9c82e",
   "metadata": {
    "papermill": {
     "duration": 0.009191,
     "end_time": "2022-07-04T17:41:56.116235",
     "exception": false,
     "start_time": "2022-07-04T17:41:56.107044",
     "status": "completed"
    },
    "tags": []
   },
   "source": [
    "# Hybrid Fusion"
   ]
  },
  {
   "cell_type": "code",
   "execution_count": 24,
   "id": "096bed40",
   "metadata": {
    "execution": {
     "iopub.execute_input": "2022-07-04T17:41:56.135822Z",
     "iopub.status.busy": "2022-07-04T17:41:56.135547Z",
     "iopub.status.idle": "2022-07-04T17:43:05.521460Z",
     "shell.execute_reply": "2022-07-04T17:43:05.518588Z"
    },
    "papermill": {
     "duration": 69.406373,
     "end_time": "2022-07-04T17:43:05.531741",
     "exception": false,
     "start_time": "2022-07-04T17:41:56.125368",
     "status": "completed"
    },
    "tags": []
   },
   "outputs": [
    {
     "name": "stdout",
     "output_type": "stream",
     "text": [
      "MVSA-Single with Hybrid Fusion\n",
      "\n",
      "MVSA-Single: resnet152-bert\n",
      "\n",
      "MVSA-Single: resnet152-bert-lstm\n",
      "\n",
      "MVSA-Single: densenet201-bert-pos-lstm\n",
      "\n",
      "MVSA-Single: densenet201-bert-pos-ner-lstm\n",
      "\n"
     ]
    }
   ],
   "source": [
    "print('MVSA-Single with Hybrid Fusion\\n')\n",
    "scores = []\n",
    "\n",
    "for i in range(len(feature_names)):\n",
    "    print('MVSA-Single:', feature_names[i])\n",
    "    if 'lstm' in feature_names[i]:\n",
    "        score = run_and_evaluate_HF('single-HF-' + feature_names[i], mvsa_single_features[i][0], mvsa_single_features[i][1], \n",
    "                                     mvsa_single_multimodal_labels, mvsa_single_text_labels, mvsa_single_image_labels,\n",
    "                                     verbose=0)\n",
    "    else:\n",
    "        score = run_and_evaluate_HF('single-HF-' + feature_names[i], mvsa_single_features[i][0], mvsa_single_features[i][1],\n",
    "                                     mvsa_single_multimodal_labels, mvsa_single_text_labels, mvsa_single_image_labels,\n",
    "                                     verbose=0, lstm=False)\n",
    "    scores.append(score)\n",
    "    print()\n",
    "\n",
    "df_single_scores_HF = pd.DataFrame(scores, columns=['Accuracy', 'F1-macro', 'F1-weighted'], index=feature_names)"
   ]
  },
  {
   "cell_type": "code",
   "execution_count": 25,
   "id": "2f7fa4e1",
   "metadata": {
    "execution": {
     "iopub.execute_input": "2022-07-04T17:43:05.555748Z",
     "iopub.status.busy": "2022-07-04T17:43:05.554532Z",
     "iopub.status.idle": "2022-07-04T17:45:00.557539Z",
     "shell.execute_reply": "2022-07-04T17:45:00.556558Z"
    },
    "papermill": {
     "duration": 115.027342,
     "end_time": "2022-07-04T17:45:00.569740",
     "exception": false,
     "start_time": "2022-07-04T17:43:05.542398",
     "status": "completed"
    },
    "tags": []
   },
   "outputs": [
    {
     "name": "stdout",
     "output_type": "stream",
     "text": [
      "MVSA-Multiple with Hybrid Fusion\n",
      "\n",
      "MVSA-Multiple: resnet152-bert\n",
      "\n",
      "MVSA-Multiple: resnet152-bert-lstm\n",
      "\n",
      "MVSA-Multiple: densenet201-bert-pos-lstm\n",
      "\n",
      "MVSA-Multiple: densenet201-bert-pos-ner-lstm\n",
      "\n"
     ]
    }
   ],
   "source": [
    "print('MVSA-Multiple with Hybrid Fusion\\n')\n",
    "scores = []\n",
    "\n",
    "for i in range(len(feature_names)):\n",
    "    print('MVSA-Multiple:', feature_names[i])\n",
    "    if 'lstm' in feature_names[i]:\n",
    "        score = run_and_evaluate_HF('multiple-HF-' + feature_names[i], mvsa_multiple_features[i][0], mvsa_multiple_features[i][1], \n",
    "                                     mvsa_multiple_multimodal_labels, mvsa_multiple_text_labels, mvsa_multiple_image_labels,\n",
    "                                     verbose=0)\n",
    "    else:\n",
    "        score = run_and_evaluate_HF('multiple-HF-' + feature_names[i], mvsa_multiple_features[i][0], mvsa_multiple_features[i][1],\n",
    "                                     mvsa_multiple_multimodal_labels, mvsa_multiple_text_labels, mvsa_multiple_image_labels,\n",
    "                                     verbose=0, lstm=False)\n",
    "    scores.append(score)\n",
    "    print()\n",
    "\n",
    "df_multiple_scores_HF = pd.DataFrame(scores, columns=['Accuracy', 'F1-macro', 'F1-weighted'], index=feature_names)"
   ]
  },
  {
   "cell_type": "markdown",
   "id": "cdac9b46",
   "metadata": {
    "papermill": {
     "duration": 0.010256,
     "end_time": "2022-07-04T17:45:00.591002",
     "exception": false,
     "start_time": "2022-07-04T17:45:00.580746",
     "status": "completed"
    },
    "tags": []
   },
   "source": [
    "# Display results"
   ]
  },
  {
   "cell_type": "code",
   "execution_count": 26,
   "id": "b83910f1",
   "metadata": {
    "execution": {
     "iopub.execute_input": "2022-07-04T17:45:00.613090Z",
     "iopub.status.busy": "2022-07-04T17:45:00.611587Z",
     "iopub.status.idle": "2022-07-04T17:45:00.695237Z",
     "shell.execute_reply": "2022-07-04T17:45:00.693996Z"
    },
    "papermill": {
     "duration": 0.097,
     "end_time": "2022-07-04T17:45:00.697658",
     "exception": false,
     "start_time": "2022-07-04T17:45:00.600658",
     "status": "completed"
    },
    "tags": []
   },
   "outputs": [
    {
     "name": "stdout",
     "output_type": "stream",
     "text": [
      "Intermediate Fusion\n"
     ]
    },
    {
     "data": {
      "text/html": [
       "<table style=\"display:inline\"><tr><td style=\"text-align:center\">MVSA-Single</td><td style=\"text-align:center\">MVSA-Multiple</td></tr><tr><td style=\"vertical-align:top\"> <style type=\"text/css\">\n",
       "#T_4066c_row0_col0, #T_4066c_row1_col0, #T_4066c_row1_col1, #T_4066c_row1_col2 {\n",
       "  color: tomato;\n",
       "}\n",
       "#T_4066c_row2_col0, #T_4066c_row2_col2, #T_4066c_row3_col1 {\n",
       "  color: lawngreen;\n",
       "}\n",
       "</style>\n",
       "<table style=\"display:inline\" id=\"T_4066c_\">\n",
       "  <thead>\n",
       "    <tr>\n",
       "      <th class=\"blank level0\" >&nbsp;</th>\n",
       "      <th class=\"col_heading level0 col0\" >Accuracy</th>\n",
       "      <th class=\"col_heading level0 col1\" >F1-macro</th>\n",
       "      <th class=\"col_heading level0 col2\" >F1-weighted</th>\n",
       "    </tr>\n",
       "  </thead>\n",
       "  <tbody>\n",
       "    <tr>\n",
       "      <th id=\"T_4066c_level0_row0\" class=\"row_heading level0 row0\" >resnet152-bert</th>\n",
       "      <td id=\"T_4066c_row0_col0\" class=\"data row0 col0\" >0.603104</td>\n",
       "      <td id=\"T_4066c_row0_col1\" class=\"data row0 col1\" >0.280481</td>\n",
       "      <td id=\"T_4066c_row0_col2\" class=\"data row0 col2\" >0.482997</td>\n",
       "    </tr>\n",
       "    <tr>\n",
       "      <th id=\"T_4066c_level0_row1\" class=\"row_heading level0 row1\" >resnet152-bert-lstm</th>\n",
       "      <td id=\"T_4066c_row1_col0\" class=\"data row1 col0\" >0.603104</td>\n",
       "      <td id=\"T_4066c_row1_col1\" class=\"data row1 col1\" >0.250807</td>\n",
       "      <td id=\"T_4066c_row1_col2\" class=\"data row1 col2\" >0.453788</td>\n",
       "    </tr>\n",
       "    <tr>\n",
       "      <th id=\"T_4066c_level0_row2\" class=\"row_heading level0 row2\" >densenet201-bert-pos-lstm</th>\n",
       "      <td id=\"T_4066c_row2_col0\" class=\"data row2 col0\" >0.685144</td>\n",
       "      <td id=\"T_4066c_row2_col1\" class=\"data row2 col1\" >0.506248</td>\n",
       "      <td id=\"T_4066c_row2_col2\" class=\"data row2 col2\" >0.683706</td>\n",
       "    </tr>\n",
       "    <tr>\n",
       "      <th id=\"T_4066c_level0_row3\" class=\"row_heading level0 row3\" >densenet201-bert-pos-ner-lstm</th>\n",
       "      <td id=\"T_4066c_row3_col0\" class=\"data row3 col0\" >0.671840</td>\n",
       "      <td id=\"T_4066c_row3_col1\" class=\"data row3 col1\" >0.512758</td>\n",
       "      <td id=\"T_4066c_row3_col2\" class=\"data row3 col2\" >0.672824</td>\n",
       "    </tr>\n",
       "  </tbody>\n",
       "</table style=\"display:inline\">\n",
       "</td><td style=\"vertical-align:top\"> <style type=\"text/css\">\n",
       "#T_45153_row1_col0, #T_45153_row1_col1, #T_45153_row1_col2 {\n",
       "  color: tomato;\n",
       "}\n",
       "#T_45153_row2_col0, #T_45153_row3_col1, #T_45153_row3_col2 {\n",
       "  color: lawngreen;\n",
       "}\n",
       "</style>\n",
       "<table style=\"display:inline\" id=\"T_45153_\">\n",
       "  <thead>\n",
       "    <tr>\n",
       "      <th class=\"blank level0\" >&nbsp;</th>\n",
       "      <th class=\"col_heading level0 col0\" >Accuracy</th>\n",
       "      <th class=\"col_heading level0 col1\" >F1-macro</th>\n",
       "      <th class=\"col_heading level0 col2\" >F1-weighted</th>\n",
       "    </tr>\n",
       "  </thead>\n",
       "  <tbody>\n",
       "    <tr>\n",
       "      <th id=\"T_45153_level0_row0\" class=\"row_heading level0 row0\" >resnet152-bert</th>\n",
       "      <td id=\"T_45153_row0_col0\" class=\"data row0 col0\" >0.641011</td>\n",
       "      <td id=\"T_45153_row0_col1\" class=\"data row0 col1\" >0.263537</td>\n",
       "      <td id=\"T_45153_row0_col2\" class=\"data row0 col2\" >0.502002</td>\n",
       "    </tr>\n",
       "    <tr>\n",
       "      <th id=\"T_45153_level0_row1\" class=\"row_heading level0 row1\" >resnet152-bert-lstm</th>\n",
       "      <td id=\"T_45153_row1_col0\" class=\"data row1 col0\" >0.639248</td>\n",
       "      <td id=\"T_45153_row1_col1\" class=\"data row1 col1\" >0.259976</td>\n",
       "      <td id=\"T_45153_row1_col2\" class=\"data row1 col2\" >0.499026</td>\n",
       "    </tr>\n",
       "    <tr>\n",
       "      <th id=\"T_45153_level0_row2\" class=\"row_heading level0 row2\" >densenet201-bert-pos-lstm</th>\n",
       "      <td id=\"T_45153_row2_col0\" class=\"data row2 col0\" >0.662162</td>\n",
       "      <td id=\"T_45153_row2_col1\" class=\"data row2 col1\" >0.441042</td>\n",
       "      <td id=\"T_45153_row2_col2\" class=\"data row2 col2\" >0.598979</td>\n",
       "    </tr>\n",
       "    <tr>\n",
       "      <th id=\"T_45153_level0_row3\" class=\"row_heading level0 row3\" >densenet201-bert-pos-ner-lstm</th>\n",
       "      <td id=\"T_45153_row3_col0\" class=\"data row3 col0\" >0.650999</td>\n",
       "      <td id=\"T_45153_row3_col1\" class=\"data row3 col1\" >0.509096</td>\n",
       "      <td id=\"T_45153_row3_col2\" class=\"data row3 col2\" >0.631882</td>\n",
       "    </tr>\n",
       "  </tbody>\n",
       "</table style=\"display:inline\">\n",
       "</td></tr></table style=\"display:inline\">"
      ]
     },
     "metadata": {},
     "output_type": "display_data"
    }
   ],
   "source": [
    "print('Intermediate Fusion')\n",
    "display_dataframes((style_dataframe(df_single_scores_IF.drop(columns=['Loss'])), style_dataframe(df_multiple_scores_IF.drop(columns=['Loss']))), \n",
    "                   names=['MVSA-Single', 'MVSA-Multiple'])"
   ]
  },
  {
   "cell_type": "code",
   "execution_count": 27,
   "id": "ae78e105",
   "metadata": {
    "execution": {
     "iopub.execute_input": "2022-07-04T17:45:00.719259Z",
     "iopub.status.busy": "2022-07-04T17:45:00.719007Z",
     "iopub.status.idle": "2022-07-04T17:45:00.745549Z",
     "shell.execute_reply": "2022-07-04T17:45:00.744241Z"
    },
    "papermill": {
     "duration": 0.040287,
     "end_time": "2022-07-04T17:45:00.747978",
     "exception": false,
     "start_time": "2022-07-04T17:45:00.707691",
     "status": "completed"
    },
    "tags": []
   },
   "outputs": [
    {
     "name": "stdout",
     "output_type": "stream",
     "text": [
      "Late Fusion with Original Labels\n"
     ]
    },
    {
     "data": {
      "text/html": [
       "<table style=\"display:inline\"><tr><td style=\"text-align:center\">MVSA-Single</td><td style=\"text-align:center\">MVSA-Multiple</td></tr><tr><td style=\"vertical-align:top\"> <style type=\"text/css\">\n",
       "#T_51c2c_row0_col0, #T_51c2c_row0_col1, #T_51c2c_row0_col2 {\n",
       "  color: tomato;\n",
       "}\n",
       "#T_51c2c_row3_col0, #T_51c2c_row3_col1, #T_51c2c_row3_col2 {\n",
       "  color: lawngreen;\n",
       "}\n",
       "</style>\n",
       "<table style=\"display:inline\" id=\"T_51c2c_\">\n",
       "  <thead>\n",
       "    <tr>\n",
       "      <th class=\"blank level0\" >&nbsp;</th>\n",
       "      <th class=\"col_heading level0 col0\" >Accuracy</th>\n",
       "      <th class=\"col_heading level0 col1\" >F1-macro</th>\n",
       "      <th class=\"col_heading level0 col2\" >F1-weighted</th>\n",
       "    </tr>\n",
       "  </thead>\n",
       "  <tbody>\n",
       "    <tr>\n",
       "      <th id=\"T_51c2c_level0_row0\" class=\"row_heading level0 row0\" >resnet152-bert</th>\n",
       "      <td id=\"T_51c2c_row0_col0\" class=\"data row0 col0\" >0.421286</td>\n",
       "      <td id=\"T_51c2c_row0_col1\" class=\"data row0 col1\" >0.382211</td>\n",
       "      <td id=\"T_51c2c_row0_col2\" class=\"data row0 col2\" >0.511792</td>\n",
       "    </tr>\n",
       "    <tr>\n",
       "      <th id=\"T_51c2c_level0_row1\" class=\"row_heading level0 row1\" >resnet152-bert-lstm</th>\n",
       "      <td id=\"T_51c2c_row1_col0\" class=\"data row1 col0\" >0.445676</td>\n",
       "      <td id=\"T_51c2c_row1_col1\" class=\"data row1 col1\" >0.389558</td>\n",
       "      <td id=\"T_51c2c_row1_col2\" class=\"data row1 col2\" >0.527226</td>\n",
       "    </tr>\n",
       "    <tr>\n",
       "      <th id=\"T_51c2c_level0_row2\" class=\"row_heading level0 row2\" >densenet201-bert-pos-lstm</th>\n",
       "      <td id=\"T_51c2c_row2_col0\" class=\"data row2 col0\" >0.481153</td>\n",
       "      <td id=\"T_51c2c_row2_col1\" class=\"data row2 col1\" >0.415987</td>\n",
       "      <td id=\"T_51c2c_row2_col2\" class=\"data row2 col2\" >0.556524</td>\n",
       "    </tr>\n",
       "    <tr>\n",
       "      <th id=\"T_51c2c_level0_row3\" class=\"row_heading level0 row3\" >densenet201-bert-pos-ner-lstm</th>\n",
       "      <td id=\"T_51c2c_row3_col0\" class=\"data row3 col0\" >0.514412</td>\n",
       "      <td id=\"T_51c2c_row3_col1\" class=\"data row3 col1\" >0.439849</td>\n",
       "      <td id=\"T_51c2c_row3_col2\" class=\"data row3 col2\" >0.585377</td>\n",
       "    </tr>\n",
       "  </tbody>\n",
       "</table style=\"display:inline\">\n",
       "</td><td style=\"vertical-align:top\"> <style type=\"text/css\">\n",
       "#T_d994f_row0_col0, #T_d994f_row1_col1, #T_d994f_row1_col2 {\n",
       "  color: tomato;\n",
       "}\n",
       "#T_d994f_row0_col1, #T_d994f_row1_col0, #T_d994f_row2_col2 {\n",
       "  color: lawngreen;\n",
       "}\n",
       "</style>\n",
       "<table style=\"display:inline\" id=\"T_d994f_\">\n",
       "  <thead>\n",
       "    <tr>\n",
       "      <th class=\"blank level0\" >&nbsp;</th>\n",
       "      <th class=\"col_heading level0 col0\" >Accuracy</th>\n",
       "      <th class=\"col_heading level0 col1\" >F1-macro</th>\n",
       "      <th class=\"col_heading level0 col2\" >F1-weighted</th>\n",
       "    </tr>\n",
       "  </thead>\n",
       "  <tbody>\n",
       "    <tr>\n",
       "      <th id=\"T_d994f_level0_row0\" class=\"row_heading level0 row0\" >resnet152-bert</th>\n",
       "      <td id=\"T_d994f_row0_col0\" class=\"data row0 col0\" >0.638660</td>\n",
       "      <td id=\"T_d994f_row0_col1\" class=\"data row0 col1\" >0.430698</td>\n",
       "      <td id=\"T_d994f_row0_col2\" class=\"data row0 col2\" >0.603286</td>\n",
       "    </tr>\n",
       "    <tr>\n",
       "      <th id=\"T_d994f_level0_row1\" class=\"row_heading level0 row1\" >resnet152-bert-lstm</th>\n",
       "      <td id=\"T_d994f_row1_col0\" class=\"data row1 col0\" >0.651586</td>\n",
       "      <td id=\"T_d994f_row1_col1\" class=\"data row1 col1\" >0.401675</td>\n",
       "      <td id=\"T_d994f_row1_col2\" class=\"data row1 col2\" >0.592081</td>\n",
       "    </tr>\n",
       "    <tr>\n",
       "      <th id=\"T_d994f_level0_row2\" class=\"row_heading level0 row2\" >densenet201-bert-pos-lstm</th>\n",
       "      <td id=\"T_d994f_row2_col0\" class=\"data row2 col0\" >0.643361</td>\n",
       "      <td id=\"T_d994f_row2_col1\" class=\"data row2 col1\" >0.429667</td>\n",
       "      <td id=\"T_d994f_row2_col2\" class=\"data row2 col2\" >0.609638</td>\n",
       "    </tr>\n",
       "    <tr>\n",
       "      <th id=\"T_d994f_level0_row3\" class=\"row_heading level0 row3\" >densenet201-bert-pos-ner-lstm</th>\n",
       "      <td id=\"T_d994f_row3_col0\" class=\"data row3 col0\" >0.643361</td>\n",
       "      <td id=\"T_d994f_row3_col1\" class=\"data row3 col1\" >0.429770</td>\n",
       "      <td id=\"T_d994f_row3_col2\" class=\"data row3 col2\" >0.609160</td>\n",
       "    </tr>\n",
       "  </tbody>\n",
       "</table style=\"display:inline\">\n",
       "</td></tr></table style=\"display:inline\">"
      ]
     },
     "metadata": {},
     "output_type": "display_data"
    }
   ],
   "source": [
    "print('Late Fusion with Original Labels')\n",
    "display_dataframes((style_dataframe(df_single_scores_LF), style_dataframe(df_multiple_scores_LF)), \n",
    "                   names=['MVSA-Single', 'MVSA-Multiple'])"
   ]
  },
  {
   "cell_type": "code",
   "execution_count": 28,
   "id": "2a4a9c03",
   "metadata": {
    "execution": {
     "iopub.execute_input": "2022-07-04T17:45:00.770960Z",
     "iopub.status.busy": "2022-07-04T17:45:00.770359Z",
     "iopub.status.idle": "2022-07-04T17:45:00.797261Z",
     "shell.execute_reply": "2022-07-04T17:45:00.796235Z"
    },
    "papermill": {
     "duration": 0.040248,
     "end_time": "2022-07-04T17:45:00.799683",
     "exception": false,
     "start_time": "2022-07-04T17:45:00.759435",
     "status": "completed"
    },
    "tags": []
   },
   "outputs": [
    {
     "name": "stdout",
     "output_type": "stream",
     "text": [
      "Hybrid Fusion with Original Labels\n"
     ]
    },
    {
     "data": {
      "text/html": [
       "<table style=\"display:inline\"><tr><td style=\"text-align:center\">MVSA-Single</td><td style=\"text-align:center\">MVSA-Multiple</td></tr><tr><td style=\"vertical-align:top\"> <style type=\"text/css\">\n",
       "#T_5fa1d_row1_col0, #T_5fa1d_row1_col1, #T_5fa1d_row1_col2 {\n",
       "  color: tomato;\n",
       "}\n",
       "#T_5fa1d_row2_col0, #T_5fa1d_row2_col1, #T_5fa1d_row2_col2 {\n",
       "  color: lawngreen;\n",
       "}\n",
       "</style>\n",
       "<table style=\"display:inline\" id=\"T_5fa1d_\">\n",
       "  <thead>\n",
       "    <tr>\n",
       "      <th class=\"blank level0\" >&nbsp;</th>\n",
       "      <th class=\"col_heading level0 col0\" >Accuracy</th>\n",
       "      <th class=\"col_heading level0 col1\" >F1-macro</th>\n",
       "      <th class=\"col_heading level0 col2\" >F1-weighted</th>\n",
       "    </tr>\n",
       "  </thead>\n",
       "  <tbody>\n",
       "    <tr>\n",
       "      <th id=\"T_5fa1d_level0_row0\" class=\"row_heading level0 row0\" >resnet152-bert</th>\n",
       "      <td id=\"T_5fa1d_row0_col0\" class=\"data row0 col0\" >0.541020</td>\n",
       "      <td id=\"T_5fa1d_row0_col1\" class=\"data row0 col1\" >0.393798</td>\n",
       "      <td id=\"T_5fa1d_row0_col2\" class=\"data row0 col2\" >0.549867</td>\n",
       "    </tr>\n",
       "    <tr>\n",
       "      <th id=\"T_5fa1d_level0_row1\" class=\"row_heading level0 row1\" >resnet152-bert-lstm</th>\n",
       "      <td id=\"T_5fa1d_row1_col0\" class=\"data row1 col0\" >0.514412</td>\n",
       "      <td id=\"T_5fa1d_row1_col1\" class=\"data row1 col1\" >0.379336</td>\n",
       "      <td id=\"T_5fa1d_row1_col2\" class=\"data row1 col2\" >0.532062</td>\n",
       "    </tr>\n",
       "    <tr>\n",
       "      <th id=\"T_5fa1d_level0_row2\" class=\"row_heading level0 row2\" >densenet201-bert-pos-lstm</th>\n",
       "      <td id=\"T_5fa1d_row2_col0\" class=\"data row2 col0\" >0.662971</td>\n",
       "      <td id=\"T_5fa1d_row2_col1\" class=\"data row2 col1\" >0.513725</td>\n",
       "      <td id=\"T_5fa1d_row2_col2\" class=\"data row2 col2\" >0.685092</td>\n",
       "    </tr>\n",
       "    <tr>\n",
       "      <th id=\"T_5fa1d_level0_row3\" class=\"row_heading level0 row3\" >densenet201-bert-pos-ner-lstm</th>\n",
       "      <td id=\"T_5fa1d_row3_col0\" class=\"data row3 col0\" >0.636364</td>\n",
       "      <td id=\"T_5fa1d_row3_col1\" class=\"data row3 col1\" >0.499748</td>\n",
       "      <td id=\"T_5fa1d_row3_col2\" class=\"data row3 col2\" >0.672227</td>\n",
       "    </tr>\n",
       "  </tbody>\n",
       "</table style=\"display:inline\">\n",
       "</td><td style=\"vertical-align:top\"> <style type=\"text/css\">\n",
       "#T_e7418_row0_col0, #T_e7418_row1_col1, #T_e7418_row1_col2 {\n",
       "  color: tomato;\n",
       "}\n",
       "#T_e7418_row2_col0, #T_e7418_row2_col1, #T_e7418_row2_col2 {\n",
       "  color: lawngreen;\n",
       "}\n",
       "</style>\n",
       "<table style=\"display:inline\" id=\"T_e7418_\">\n",
       "  <thead>\n",
       "    <tr>\n",
       "      <th class=\"blank level0\" >&nbsp;</th>\n",
       "      <th class=\"col_heading level0 col0\" >Accuracy</th>\n",
       "      <th class=\"col_heading level0 col1\" >F1-macro</th>\n",
       "      <th class=\"col_heading level0 col2\" >F1-weighted</th>\n",
       "    </tr>\n",
       "  </thead>\n",
       "  <tbody>\n",
       "    <tr>\n",
       "      <th id=\"T_e7418_level0_row0\" class=\"row_heading level0 row0\" >resnet152-bert</th>\n",
       "      <td id=\"T_e7418_row0_col0\" class=\"data row0 col0\" >0.643948</td>\n",
       "      <td id=\"T_e7418_row0_col1\" class=\"data row0 col1\" >0.283736</td>\n",
       "      <td id=\"T_e7418_row0_col2\" class=\"data row0 col2\" >0.517595</td>\n",
       "    </tr>\n",
       "    <tr>\n",
       "      <th id=\"T_e7418_level0_row1\" class=\"row_heading level0 row1\" >resnet152-bert-lstm</th>\n",
       "      <td id=\"T_e7418_row1_col0\" class=\"data row1 col0\" >0.644536</td>\n",
       "      <td id=\"T_e7418_row1_col1\" class=\"data row1 col1\" >0.280952</td>\n",
       "      <td id=\"T_e7418_row1_col2\" class=\"data row1 col2\" >0.515315</td>\n",
       "    </tr>\n",
       "    <tr>\n",
       "      <th id=\"T_e7418_level0_row2\" class=\"row_heading level0 row2\" >densenet201-bert-pos-lstm</th>\n",
       "      <td id=\"T_e7418_row2_col0\" class=\"data row2 col0\" >0.663925</td>\n",
       "      <td id=\"T_e7418_row2_col1\" class=\"data row2 col1\" >0.457360</td>\n",
       "      <td id=\"T_e7418_row2_col2\" class=\"data row2 col2\" >0.621682</td>\n",
       "    </tr>\n",
       "    <tr>\n",
       "      <th id=\"T_e7418_level0_row3\" class=\"row_heading level0 row3\" >densenet201-bert-pos-ner-lstm</th>\n",
       "      <td id=\"T_e7418_row3_col0\" class=\"data row3 col0\" >0.652174</td>\n",
       "      <td id=\"T_e7418_row3_col1\" class=\"data row3 col1\" >0.434773</td>\n",
       "      <td id=\"T_e7418_row3_col2\" class=\"data row3 col2\" >0.605224</td>\n",
       "    </tr>\n",
       "  </tbody>\n",
       "</table style=\"display:inline\">\n",
       "</td></tr></table style=\"display:inline\">"
      ]
     },
     "metadata": {},
     "output_type": "display_data"
    }
   ],
   "source": [
    "print('Hybrid Fusion with Original Labels')\n",
    "display_dataframes((style_dataframe(df_single_scores_HF), style_dataframe(df_multiple_scores_HF)), \n",
    "                   names=['MVSA-Single', 'MVSA-Multiple'])"
   ]
  },
  {
   "cell_type": "markdown",
   "id": "1db71c8e",
   "metadata": {
    "papermill": {
     "duration": 0.010871,
     "end_time": "2022-07-04T17:45:00.821371",
     "exception": false,
     "start_time": "2022-07-04T17:45:00.810500",
     "status": "completed"
    },
    "tags": []
   },
   "source": [
    "# Drafts"
   ]
  },
  {
   "cell_type": "code",
   "execution_count": 29,
   "id": "941610fc",
   "metadata": {
    "execution": {
     "iopub.execute_input": "2022-07-04T17:45:00.843523Z",
     "iopub.status.busy": "2022-07-04T17:45:00.843270Z",
     "iopub.status.idle": "2022-07-04T17:45:00.847074Z",
     "shell.execute_reply": "2022-07-04T17:45:00.846149Z"
    },
    "papermill": {
     "duration": 0.01741,
     "end_time": "2022-07-04T17:45:00.849169",
     "exception": false,
     "start_time": "2022-07-04T17:45:00.831759",
     "status": "completed"
    },
    "tags": []
   },
   "outputs": [],
   "source": [
    "# mvsa_single_text_features = np.concatenate((mvsa_single_bert, mvsa_single_pos_tfidf), axis=1)\n",
    "# mvsa_multiple_text_features = np.concatenate((mvsa_multiple_bert, mvsa_multiple_pos_tfidf), axis=1)\n",
    "\n",
    "# mvsa_single_image_features = mvsa_single_densenet201\n",
    "# mvsa_multiple_image_features = mvsa_multiple_densenet201\n",
    "\n",
    "# print('Text vector shape:', mvsa_single_text_features.shape[1:])\n",
    "# print('Image vector shape:', mvsa_single_image_features.shape[1:])"
   ]
  }
 ],
 "metadata": {
  "kernelspec": {
   "display_name": "Python 3",
   "language": "python",
   "name": "python3"
  },
  "language_info": {
   "codemirror_mode": {
    "name": "ipython",
    "version": 3
   },
   "file_extension": ".py",
   "mimetype": "text/x-python",
   "name": "python",
   "nbconvert_exporter": "python",
   "pygments_lexer": "ipython3",
   "version": "3.7.12"
  },
  "papermill": {
   "default_parameters": {},
   "duration": 425.51991,
   "end_time": "2022-07-04T17:45:03.639600",
   "environment_variables": {},
   "exception": null,
   "input_path": "__notebook__.ipynb",
   "output_path": "__notebook__.ipynb",
   "parameters": {},
   "start_time": "2022-07-04T17:37:58.119690",
   "version": "2.3.4"
  }
 },
 "nbformat": 4,
 "nbformat_minor": 5
}
